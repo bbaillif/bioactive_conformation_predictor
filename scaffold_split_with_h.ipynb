{
 "cells": [
  {
   "cell_type": "code",
   "execution_count": 1,
   "id": "e0b79e6d-6dfa-4911-9b46-d0b4c2f49296",
   "metadata": {},
   "outputs": [],
   "source": [
    "from rdkit import Chem\n",
    "from rdkit import DataStructs\n",
    "from rdkit.Chem.rdMolDescriptors import GetMorganFingerprintAsBitVect\n",
    "from typing import List, Tuple\n",
    "\n",
    "import pickle\n",
    "import os\n",
    "import matplotlib.pyplot as plt\n",
    "import seaborn as sns\n",
    "import numpy as np"
   ]
  },
  {
   "cell_type": "code",
   "execution_count": 2,
   "id": "0da6fed8-2dbf-44ea-8c95-25f4569d03a5",
   "metadata": {},
   "outputs": [],
   "source": [
    "def generate_scaffolds(dataset: List,\n",
    "                         log_every_n: int = 1000) -> List[List[int]]:\n",
    "    \"\"\"Returns all scaffolds from the dataset.\n",
    "    Parameters\n",
    "    ----------\n",
    "    dataset: Dataset\n",
    "      Dataset to be split. List of smiles\n",
    "    log_every_n: int, optional (default 1000)\n",
    "      Controls the logger by dictating how often logger outputs\n",
    "      will be produced.\n",
    "    Returns\n",
    "    -------\n",
    "    scaffold_sets: List[List[int]]\n",
    "      List of indices of each scaffold in the dataset.\n",
    "    \"\"\"\n",
    "    scaffolds = {}\n",
    "    data_len = len(dataset)\n",
    "\n",
    "    for ind, smiles in enumerate(dataset):\n",
    "      scaffold = _generate_scaffold(smiles)\n",
    "      if scaffold not in scaffolds:\n",
    "        scaffolds[scaffold] = [ind]\n",
    "      else:\n",
    "        scaffolds[scaffold].append(ind)\n",
    "\n",
    "    # Sort from largest to smallest scaffold sets\n",
    "    scaffolds = {key: sorted(value) for key, value in scaffolds.items()}\n",
    "    scaffold_sets = [\n",
    "        scaffold_set for (scaffold, scaffold_set) in sorted(\n",
    "            scaffolds.items(), key=lambda x: (len(x[1]), x[1][0]), reverse=True)\n",
    "    ]\n",
    "    return scaffold_sets\n",
    "\n",
    "def _generate_scaffold(smiles: str, include_chirality: bool = False) -> str:\n",
    "  \"\"\"Compute the Bemis-Murcko scaffold for a SMILES string.\n",
    "  Bemis-Murcko scaffolds are described in DOI: 10.1021/jm9602928.\n",
    "  They are essentially that part of the molecule consisting of\n",
    "  rings and the linker atoms between them.\n",
    "  Paramters\n",
    "  ---------\n",
    "  smiles: str\n",
    "    SMILES\n",
    "  include_chirality: bool, default False\n",
    "    Whether to include chirality in scaffolds or not.\n",
    "  Returns\n",
    "  -------\n",
    "  str\n",
    "    The MurckScaffold SMILES from the original SMILES\n",
    "  References\n",
    "  ----------\n",
    "  .. [1] Bemis, Guy W., and Mark A. Murcko. \"The properties of known drugs.\n",
    "     1. Molecular frameworks.\" Journal of medicinal chemistry 39.15 (1996): 2887-2893.\n",
    "  Note\n",
    "  ----\n",
    "  This function requires RDKit to be installed.\n",
    "  \"\"\"\n",
    "  try:\n",
    "    from rdkit import Chem\n",
    "    from rdkit.Chem.Scaffolds.MurckoScaffold import MurckoScaffoldSmiles\n",
    "  except ModuleNotFoundError:\n",
    "    raise ImportError(\"This function requires RDKit to be installed.\")\n",
    "\n",
    "  mol = Chem.MolFromSmiles(smiles)\n",
    "  scaffold = MurckoScaffoldSmiles(mol=mol, includeChirality=include_chirality)\n",
    "  return scaffold"
   ]
  },
  {
   "cell_type": "code",
   "execution_count": 3,
   "id": "f5d24631-8666-4f65-88e0-a98f78eb20f8",
   "metadata": {},
   "outputs": [],
   "source": [
    "data_dir_path = 'data/'\n",
    "pdbbind_refined_dir_path = '../PDBBind/PDBbind_v2020_refined/refined-set/'\n",
    "pdbbind_general_dir_path = '../PDBBind/PDBbind_v2020_other_PL/v2020-other-PL/'"
   ]
  },
  {
   "cell_type": "code",
   "execution_count": 4,
   "id": "cf9b7509-9241-4eea-aa6e-1b21fa6b3764",
   "metadata": {},
   "outputs": [],
   "source": [
    "with open(os.path.join(data_dir_path, 'pdbbind_general_mol_list_with_h.p'), 'rb') as f :\n",
    "    general_mols = pickle.load(f)\n",
    "    \n",
    "with open(os.path.join(data_dir_path, 'pdbbind_refined_mol_list_with_h.p'), 'rb') as f :\n",
    "    refined_mols = pickle.load(f)"
   ]
  },
  {
   "cell_type": "code",
   "execution_count": 5,
   "id": "ad3db3b8-8e0e-4758-b9c1-d483ea51802c",
   "metadata": {},
   "outputs": [],
   "source": [
    "all_mols = general_mols + refined_mols"
   ]
  },
  {
   "cell_type": "code",
   "execution_count": 6,
   "id": "d8e66b02-ab7c-49c1-b29c-1653a8658489",
   "metadata": {},
   "outputs": [],
   "source": [
    "all_smiles = list(set([Chem.MolToSmiles(mol) for mol in all_mols]))"
   ]
  },
  {
   "cell_type": "code",
   "execution_count": 7,
   "id": "a8eb7c54-a580-436d-8e7c-c93ab5e0f4f0",
   "metadata": {},
   "outputs": [
    {
     "data": {
      "text/plain": [
       "12348"
      ]
     },
     "execution_count": 7,
     "metadata": {},
     "output_type": "execute_result"
    }
   ],
   "source": [
    "len(all_smiles)"
   ]
  },
  {
   "cell_type": "code",
   "execution_count": 8,
   "id": "03784a53-517f-492c-9d9f-9379c43dd7b6",
   "metadata": {},
   "outputs": [],
   "source": [
    "scaffold_sets = generate_scaffolds(all_smiles)"
   ]
  },
  {
   "cell_type": "code",
   "execution_count": 9,
   "id": "3352ba65-21b6-473f-b7d8-eb14cdfc8aa0",
   "metadata": {},
   "outputs": [],
   "source": [
    "frac_train = 0.8\n",
    "frac_valid = 0.1\n",
    "\n",
    "train_cutoff = frac_train * len(all_smiles)\n",
    "valid_cutoff = (frac_train + frac_valid) * len(all_smiles)\n",
    "train_inds: List[int] = []\n",
    "valid_inds: List[int] = []\n",
    "test_inds: List[int] = []"
   ]
  },
  {
   "cell_type": "code",
   "execution_count": 10,
   "id": "de0a1eea-4091-4eae-a6ba-9e624ff41e0b",
   "metadata": {},
   "outputs": [],
   "source": [
    "for scaffold_set in scaffold_sets:\n",
    "    if len(train_inds) + len(scaffold_set) > train_cutoff:\n",
    "        if len(train_inds) + len(valid_inds) + len(scaffold_set) > valid_cutoff:\n",
    "            test_inds += scaffold_set\n",
    "        else:\n",
    "            valid_inds += scaffold_set\n",
    "    else:\n",
    "        train_inds += scaffold_set"
   ]
  },
  {
   "cell_type": "code",
   "execution_count": 11,
   "id": "cfe669ea-aa5d-4950-8266-6a317a0bd9ff",
   "metadata": {},
   "outputs": [],
   "source": [
    "train_smiles = [smiles for i, smiles in enumerate(all_smiles) if i in train_inds]\n",
    "valid_smiles = [smiles for i, smiles in enumerate(all_smiles) if i in valid_inds]\n",
    "test_smiles = [smiles for i, smiles in enumerate(all_smiles) if i in test_inds]"
   ]
  },
  {
   "cell_type": "code",
   "execution_count": 12,
   "id": "3a62b666-3acf-4fbe-a4f8-794e3a17cc5c",
   "metadata": {},
   "outputs": [],
   "source": [
    "with open('data/train_smiles_scaffold_with_h.txt', 'w') as f :\n",
    "    for smiles in train_smiles :\n",
    "        f.write(smiles)\n",
    "        f.write('\\n')\n",
    "        \n",
    "with open('data/valid_smiles_scaffold_with_h.txt', 'w') as f :\n",
    "    for smiles in valid_smiles :\n",
    "        f.write(smiles)\n",
    "        f.write('\\n')\n",
    "        \n",
    "with open('data/test_smiles_scaffold_with_h.txt', 'w') as f :\n",
    "    for smiles in test_smiles :\n",
    "        f.write(smiles)\n",
    "        f.write('\\n')"
   ]
  },
  {
   "cell_type": "code",
   "execution_count": 7,
   "id": "cfdf59fa-6e78-41c1-a071-6cac3e09d9da",
   "metadata": {},
   "outputs": [],
   "source": [
    "all_mols_unique = [Chem.MolFromSmiles(smiles) for smiles in all_smiles]"
   ]
  },
  {
   "cell_type": "code",
   "execution_count": 8,
   "id": "4ac931eb-91c6-4d49-9c2e-c2ea15006d6c",
   "metadata": {},
   "outputs": [],
   "source": [
    "all_fps = [GetMorganFingerprintAsBitVect(mol, 2) for mol in all_mols_unique]"
   ]
  },
  {
   "cell_type": "code",
   "execution_count": 36,
   "id": "47297916-d43d-404b-9d66-826ff34dc7f1",
   "metadata": {},
   "outputs": [],
   "source": [
    "train_ratio = 0.6\n",
    "train_size = int(train_ratio * len(all_fps))\n",
    "test_size = len(all_fps) - train_size"
   ]
  },
  {
   "cell_type": "code",
   "execution_count": 37,
   "id": "63cf729e-1a58-49eb-ba22-6ae5cd489f8c",
   "metadata": {},
   "outputs": [],
   "source": [
    "train_i, test_i = split_fingerprints(all_fps, train_size, test_size)"
   ]
  },
  {
   "cell_type": "code",
   "execution_count": 38,
   "id": "377a6f59-0336-47ad-9c6f-0740e016f32c",
   "metadata": {},
   "outputs": [],
   "source": [
    "train_smiles = [smiles for i, smiles in enumerate(all_smiles) if i in train_i]\n",
    "test_smiles = [smiles for i, smiles in enumerate(all_smiles) if i in test_i]\n",
    "\n",
    "train_fps = [fp for i, fp in enumerate(all_fps) if i in train_i]\n",
    "test_fps = [fp for i, fp in enumerate(all_fps) if i in test_i]"
   ]
  },
  {
   "cell_type": "code",
   "execution_count": 39,
   "id": "ffa619e4-17e9-4f0d-80aa-36f7b95976e2",
   "metadata": {},
   "outputs": [],
   "source": [
    "valid_ratio = 0.2\n",
    "valid_size = int(valid_ratio * len(all_fps))\n",
    "test_size = len(all_fps) - train_size - valid_size"
   ]
  },
  {
   "cell_type": "code",
   "execution_count": 40,
   "id": "1acb1821-4083-480e-ba07-38c20ebcbd18",
   "metadata": {},
   "outputs": [
    {
     "data": {
      "text/plain": [
       "7409"
      ]
     },
     "execution_count": 40,
     "metadata": {},
     "output_type": "execute_result"
    }
   ],
   "source": [
    "train_size"
   ]
  },
  {
   "cell_type": "code",
   "execution_count": 41,
   "id": "6076c67e-b550-4589-84fe-5b33e0f6dfa8",
   "metadata": {},
   "outputs": [],
   "source": [
    "valid_i, test_i = split_fingerprints(test_fps, valid_size, test_size)"
   ]
  },
  {
   "cell_type": "code",
   "execution_count": 42,
   "id": "f439c022-903d-4513-b33c-740586c3b3a2",
   "metadata": {},
   "outputs": [],
   "source": [
    "valid_smiles = [smiles for i, smiles in enumerate(all_smiles) if i in valid_i]\n",
    "test_smiles = [smiles for i, smiles in enumerate(all_smiles) if i in test_i]\n",
    "\n",
    "valid_fps = [fp for i, fp in enumerate(all_fps) if i in valid_i]\n",
    "test_fps = [fp for i, fp in enumerate(all_fps) if i in test_i]"
   ]
  },
  {
   "cell_type": "code",
   "execution_count": 50,
   "id": "45fb3c77-1b43-448b-8b6b-d950424d455f",
   "metadata": {},
   "outputs": [],
   "source": [
    "with open('data/train_smiles.txt', 'w') as f :\n",
    "    for smiles in train_smiles :\n",
    "        f.write(smiles)\n",
    "        f.write('\\n')\n",
    "        \n",
    "with open('data/valid_smiles.txt', 'w') as f :\n",
    "    for smiles in valid_smiles :\n",
    "        f.write(smiles)\n",
    "        f.write('\\n')\n",
    "        \n",
    "with open('data/test_smiles.txt', 'w') as f :\n",
    "    for smiles in test_smiles :\n",
    "        f.write(smiles)\n",
    "        f.write('\\n')"
   ]
  },
  {
   "cell_type": "code",
   "execution_count": 43,
   "id": "6d64adf3-e8aa-4355-b7a1-0bcf190e1a8f",
   "metadata": {},
   "outputs": [],
   "source": [
    "similarity = DataStructs.BulkTanimotoSimilarity(train_fps[0], test_fps)"
   ]
  },
  {
   "cell_type": "code",
   "execution_count": 90,
   "id": "a2f2429a-f289-4787-bfba-dea5e9a06d6d",
   "metadata": {},
   "outputs": [
    {
     "data": {
      "image/png": "[encoded data removed]",
      "text/plain": [
       "<rdkit.Chem.rdchem.Mol at 0x7f26a7d2da70>"
      ]
     },
     "execution_count": 90,
     "metadata": {},
     "output_type": "execute_result"
    }
   ],
   "source": [
    "general_mols[10]"
   ]
  },
  {
   "cell_type": "code",
   "execution_count": 91,
   "id": "08438ed4-7fc5-4b58-af99-72dd4698305e",
   "metadata": {},
   "outputs": [],
   "source": [
    "general_smiles = set([Chem.MolToSmiles(mol) for mol in general_mols])"
   ]
  },
  {
   "cell_type": "code",
   "execution_count": 93,
   "id": "994a1290-e0b7-4f22-ba2d-e390398e4cf8",
   "metadata": {},
   "outputs": [],
   "source": [
    "general_mols_unique = [Chem.MolFromSmiles(smiles) for smiles in general_smiles]"
   ]
  },
  {
   "cell_type": "code",
   "execution_count": 94,
   "id": "c16f8e07-470c-42a6-8729-8d0ca13d8b58",
   "metadata": {},
   "outputs": [],
   "source": [
    "general_fps = [GetMorganFingerprintAsBitVect(mol, 2) for mol in general_mols_unique]"
   ]
  },
  {
   "cell_type": "code",
   "execution_count": 95,
   "id": "6922b238-a2ce-4e0e-b393-28cc1fdb5708",
   "metadata": {},
   "outputs": [],
   "source": [
    "sims = []\n",
    "max_sim = 0\n",
    "max_i = 0\n",
    "max_j = 0\n",
    "for i, fp1 in enumerate(general_fps) :\n",
    "    for j, fp2 in enumerate(general_fps[i+1:]) :\n",
    "        sim = DataStructs.TanimotoSimilarity(fp1,fp2)\n",
    "        sims.append(sim)\n",
    "        if sim > max_sim :\n",
    "            max_sim = sim\n",
    "            max_i = i\n",
    "            max_j = i + 1 + j"
   ]
  },
  {
   "cell_type": "code",
   "execution_count": 96,
   "id": "83de30a5-4a26-4be6-bc8a-c14da06ae1e2",
   "metadata": {},
   "outputs": [
    {
     "data": {
      "image/png": "[encoded data removed]",
      "text/plain": [
       "<rdkit.Chem.rdchem.Mol at 0x7f26a834b8f0>"
      ]
     },
     "execution_count": 96,
     "metadata": {},
     "output_type": "execute_result"
    }
   ],
   "source": [
    "general_mols_unique[max_i]"
   ]
  },
  {
   "cell_type": "code",
   "execution_count": 97,
   "id": "660c23fd-e5fc-441f-83d6-c40891c1a75f",
   "metadata": {},
   "outputs": [
    {
     "data": {
      "image/png": "[encoded data removed]",
      "text/plain": [
       "<rdkit.Chem.rdchem.Mol at 0x7f26a8250080>"
      ]
     },
     "execution_count": 97,
     "metadata": {},
     "output_type": "execute_result"
    }
   ],
   "source": [
    "general_mols_unique[max_j]"
   ]
  },
  {
   "cell_type": "code",
   "execution_count": 98,
   "id": "a000bf73-b9c4-4dcb-8594-8e29ba4be514",
   "metadata": {},
   "outputs": [
    {
     "data": {
      "text/plain": [
       "<seaborn.axisgrid.FacetGrid at 0x7f26aa61c310>"
      ]
     },
     "execution_count": 98,
     "metadata": {},
     "output_type": "execute_result"
    },
    {
     "data": {
      "image/png": "[encoded data removed]",
      "text/plain": [
       "<Figure size 360x360 with 1 Axes>"
      ]
     },
     "metadata": {
      "needs_background": "light"
     },
     "output_type": "display_data"
    }
   ],
   "source": [
    "sns.displot(sims, bins=50, kde=True)"
   ]
  },
  {
   "cell_type": "code",
   "execution_count": null,
   "id": "681aaf70-56cb-4c57-ada4-8fb6a0fffdb2",
   "metadata": {},
   "outputs": [],
   "source": []
  },
  {
   "cell_type": "code",
   "execution_count": null,
   "id": "e89b8d6d-f127-4888-9667-2173c58d052e",
   "metadata": {},
   "outputs": [],
   "source": []
  },
  {
   "cell_type": "code",
   "execution_count": 92,
   "id": "e28489c3-12ad-465f-bf81-8e40556a8118",
   "metadata": {},
   "outputs": [
    {
     "data": {
      "text/plain": [
       "(9288, 2048)"
      ]
     },
     "execution_count": 92,
     "metadata": {},
     "output_type": "execute_result"
    }
   ],
   "source": [
    "from deepchem.feat import CircularFingerprint\n",
    "\n",
    "featurizer = CircularFingerprint()\n",
    "ecfp = featurizer.featurize(general_smiles)\n",
    "ecfp.shape"
   ]
  },
  {
   "cell_type": "code",
   "execution_count": null,
   "id": "06238454-a7e2-48b4-9570-726c3e7b489e",
   "metadata": {},
   "outputs": [],
   "source": []
  },
  {
   "cell_type": "code",
   "execution_count": null,
   "id": "d069b5dd-45c9-4b40-b10c-8cdccb9589e3",
   "metadata": {},
   "outputs": [],
   "source": []
  },
  {
   "cell_type": "code",
   "execution_count": null,
   "id": "986b1aa8-a9c2-4327-bf5c-9ccddf46b753",
   "metadata": {},
   "outputs": [],
   "source": []
  },
  {
   "cell_type": "code",
   "execution_count": null,
   "id": "296f963e-4e86-4f4b-8e23-0ec38ae35ca3",
   "metadata": {},
   "outputs": [],
   "source": []
  },
  {
   "cell_type": "code",
   "execution_count": null,
   "id": "18c29f56-78b1-4970-9419-8d3bb100cafa",
   "metadata": {},
   "outputs": [],
   "source": []
  },
  {
   "cell_type": "code",
   "execution_count": 10,
   "id": "8d5c69a9-faea-4531-b84a-a40f386931b4",
   "metadata": {},
   "outputs": [],
   "source": [
    "with open(os.path.join(data_dir_path, 'pdbbind_refined_mol_list.p'), 'rb') as f :\n",
    "    refined_mols = pickle.load(f)"
   ]
  },
  {
   "cell_type": "code",
   "execution_count": 11,
   "id": "822426a0-3e3d-4692-9889-48a8b9f8cc4b",
   "metadata": {},
   "outputs": [
    {
     "data": {
      "image/png": "[encoded data removed]",
      "text/plain": [
       "<rdkit.Chem.rdchem.Mol at 0x7f26b6bc08f0>"
      ]
     },
     "execution_count": 11,
     "metadata": {},
     "output_type": "execute_result"
    }
   ],
   "source": [
    "refined_mols[2]"
   ]
  },
  {
   "cell_type": "code",
   "execution_count": 12,
   "id": "d14bd29e-70c8-45a5-972a-bdeddc5e2841",
   "metadata": {},
   "outputs": [],
   "source": [
    "refined_smiles = set([Chem.MolToSmiles(mol) for mol in refined_mols])"
   ]
  },
  {
   "cell_type": "code",
   "execution_count": 13,
   "id": "2bc457d3-dc46-424b-8b39-9045c0f444e5",
   "metadata": {},
   "outputs": [],
   "source": [
    "refined_fps = [GetMorganFingerprintAsBitVect(Chem.MolFromSmiles(smiles), 2) for smiles in refined_smiles]"
   ]
  },
  {
   "cell_type": "code",
   "execution_count": 14,
   "id": "b35feaaf-49ec-49c1-9363-83d58ea79e9c",
   "metadata": {},
   "outputs": [
    {
     "data": {
      "text/plain": [
       "3606"
      ]
     },
     "execution_count": 14,
     "metadata": {},
     "output_type": "execute_result"
    }
   ],
   "source": [
    "len(refined_fps)"
   ]
  },
  {
   "cell_type": "code",
   "execution_count": 15,
   "id": "89e365ac-12dc-4626-8c6a-736c0b6aab94",
   "metadata": {},
   "outputs": [],
   "source": [
    "sims = []\n",
    "for i, fp1 in enumerate(refined_fps) :\n",
    "    for fp2 in refined_fps[i+1:] :\n",
    "        sims.append(DataStructs.TanimotoSimilarity(fp1,fp2))"
   ]
  },
  {
   "cell_type": "code",
   "execution_count": 16,
   "id": "15b30e40-31c2-4089-8295-aa1f1cd930eb",
   "metadata": {},
   "outputs": [
    {
     "data": {
      "text/plain": [
       "<seaborn.axisgrid.FacetGrid at 0x7f26b6960b90>"
      ]
     },
     "execution_count": 16,
     "metadata": {},
     "output_type": "execute_result"
    },
    {
     "data": {
      "image/png": "[encoded data removed]",
      "text/plain": [
       "<Figure size 360x360 with 1 Axes>"
      ]
     },
     "metadata": {
      "needs_background": "light"
     },
     "output_type": "display_data"
    }
   ],
   "source": [
    "sns.displot(sims, bins=50, kde=True)"
   ]
  },
  {
   "cell_type": "code",
   "execution_count": 10,
   "id": "871a3d6f-3b66-4f40-b413-7752443e545c",
   "metadata": {},
   "outputs": [],
   "source": [
    "import numpy as np\n",
    "hist, bin_edges = np.histogram(sims, bins=50)"
   ]
  },
  {
   "cell_type": "code",
   "execution_count": 25,
   "id": "0f1c8a24-bd48-40a3-8d3d-df7b44408db7",
   "metadata": {},
   "outputs": [
    {
     "data": {
      "text/plain": [
       "array([ 659727, 1594754, 3794984, 6876414, 8751860, 8510110, 6024450,\n",
       "       3467283, 1782216,  803479,  427731,  188726,   97785,   51719,\n",
       "         29340,   18654,   11128,    7655,    5643,    3766,    3437,\n",
       "          2544,    2122,    1721,    1261,    1547,    1197,     923,\n",
       "           845,     687,     797,     564,     545,     434,     442,\n",
       "           357,     376,     308,     269,     189,     168,     118,\n",
       "            98,      66,      56,      25,      13,      16,      17,\n",
       "           262])"
      ]
     },
     "execution_count": 25,
     "metadata": {},
     "output_type": "execute_result"
    }
   ],
   "source": [
    "hist"
   ]
  },
  {
   "cell_type": "code",
   "execution_count": 20,
   "id": "d9260396-37ed-41d5-b118-6e8134260c3e",
   "metadata": {},
   "outputs": [
    {
     "data": {
      "text/plain": [
       "(51,)"
      ]
     },
     "execution_count": 20,
     "metadata": {},
     "output_type": "execute_result"
    }
   ],
   "source": [
    "bin_edges.shape"
   ]
  },
  {
   "cell_type": "code",
   "execution_count": 27,
   "id": "d0bbcfea-09e4-4c5e-a74a-5591d47babb8",
   "metadata": {},
   "outputs": [
    {
     "data": {
      "text/plain": [
       "<matplotlib.collections.PathCollection at 0x7f28d8db09d0>"
      ]
     },
     "execution_count": 27,
     "metadata": {},
     "output_type": "execute_result"
    },
    {
     "data": {
      "image/png": "[encoded data removed]",
      "text/plain": [
       "<Figure size 432x288 with 1 Axes>"
      ]
     },
     "metadata": {
      "needs_background": "light"
     },
     "output_type": "display_data"
    }
   ],
   "source": [
    "plt.scatter(bin_edges[:50], hist)"
   ]
  },
  {
   "cell_type": "code",
   "execution_count": 26,
   "id": "13832ce0-c96a-4f0d-91f3-69d4488c9680",
   "metadata": {},
   "outputs": [
    {
     "data": {
      "text/plain": [
       "<BarContainer object of 50 artists>"
      ]
     },
     "execution_count": 26,
     "metadata": {},
     "output_type": "execute_result"
    },
    {
     "data": {
      "image/png": "[encoded data removed]",
      "text/plain": [
       "<Figure size 432x288 with 1 Axes>"
      ]
     },
     "metadata": {
      "needs_background": "light"
     },
     "output_type": "display_data"
    }
   ],
   "source": [
    "plt.bar([str(v) for v in bin_edges[:50]], hist)"
   ]
  },
  {
   "cell_type": "code",
   "execution_count": 9,
   "id": "d5710e45-df11-4fa1-aac2-cb85f9806e0a",
   "metadata": {},
   "outputs": [
    {
     "data": {
      "text/plain": [
       "(array([1.65290e+04, 3.70230e+04, 9.15620e+04, 1.58470e+05, 2.01046e+05,\n",
       "        1.95808e+05, 1.37761e+05, 7.99700e+04, 4.17590e+04, 1.90280e+04,\n",
       "        1.04370e+04, 4.54600e+03, 2.33100e+03, 1.35100e+03, 7.62000e+02,\n",
       "        4.47000e+02, 2.66000e+02, 1.96000e+02, 1.12000e+02, 9.00000e+01,\n",
       "        7.30000e+01, 5.40000e+01, 4.80000e+01, 4.40000e+01, 3.80000e+01,\n",
       "        3.90000e+01, 4.10000e+01, 2.30000e+01, 1.90000e+01, 2.60000e+01,\n",
       "        2.80000e+01, 5.00000e+00, 7.00000e+00, 1.20000e+01, 6.00000e+00,\n",
       "        4.00000e+00, 3.00000e+00, 7.00000e+00, 4.00000e+00, 4.00000e+00,\n",
       "        1.00000e+01, 2.00000e+00, 0.00000e+00, 2.00000e+00, 1.00000e+00,\n",
       "        2.00000e+00, 1.00000e+00, 0.00000e+00, 0.00000e+00, 3.00000e+00]),\n",
       " array([0.  , 0.02, 0.04, 0.06, 0.08, 0.1 , 0.12, 0.14, 0.16, 0.18, 0.2 ,\n",
       "        0.22, 0.24, 0.26, 0.28, 0.3 , 0.32, 0.34, 0.36, 0.38, 0.4 , 0.42,\n",
       "        0.44, 0.46, 0.48, 0.5 , 0.52, 0.54, 0.56, 0.58, 0.6 , 0.62, 0.64,\n",
       "        0.66, 0.68, 0.7 , 0.72, 0.74, 0.76, 0.78, 0.8 , 0.82, 0.84, 0.86,\n",
       "        0.88, 0.9 , 0.92, 0.94, 0.96, 0.98, 1.  ]),\n",
       " <BarContainer object of 50 artists>)"
      ]
     },
     "execution_count": 9,
     "metadata": {},
     "output_type": "execute_result"
    },
    {
     "data": {
      "image/png": "[encoded data removed]",
      "text/plain": [
       "<Figure size 432x288 with 1 Axes>"
      ]
     },
     "metadata": {
      "needs_background": "light"
     },
     "output_type": "display_data"
    }
   ],
   "source": [
    "plt.hist(sims, bins=50)"
   ]
  },
  {
   "cell_type": "code",
   "execution_count": null,
   "id": "644eb193-5257-4d74-9740-c3a8b2a1be95",
   "metadata": {},
   "outputs": [],
   "source": []
  },
  {
   "cell_type": "code",
   "execution_count": 18,
   "id": "2471af47-99c6-41b4-a552-48f4591aeb9a",
   "metadata": {},
   "outputs": [],
   "source": [
    "sims = []\n",
    "for i, fp1 in enumerate(refined_fps) :\n",
    "    for fp2 in refined_fps[i+1:] :\n",
    "        sims.append(DataStructs.DiceSimilarity(fp1,fp2))"
   ]
  },
  {
   "cell_type": "code",
   "execution_count": 19,
   "id": "0ac79ba0-1e0a-41fe-ae4e-4280fd37242d",
   "metadata": {
    "scrolled": true,
    "tags": []
   },
   "outputs": [
    {
     "data": {
      "text/plain": [
       "[0.17647058823529413,\n",
       " 0.183206106870229,\n",
       " 0.11851851851851852,\n",
       " 0.22727272727272727,\n",
       " 0.15503875968992248,\n",
       " 0.1076923076923077,\n",
       " 0.20994475138121546,\n",
       " 0.13725490196078433,\n",
       " 0.1411764705882353,\n",
       " 0.16080402010050251,\n",
       " 0.15555555555555556,\n",
       " 0.2122905027932961,\n",
       " 0.18604651162790697,\n",
       " 0.189873417721519,\n",
       " 0.07936507936507936,\n",
       " 0.18055555555555555,\n",
       " 0.18497109826589594,\n",
       " 0.17543859649122806,\n",
       " 0.20238095238095238,\n",
       " 0.15714285714285714,\n",
       " 0.10294117647058823,\n",
       " 0.14864864864864866,\n",
       " 0.14102564102564102,\n",
       " 0.2236024844720497,\n",
       " 0.21476510067114093,\n",
       " 0.18705035971223022,\n",
       " 0.23030303030303031,\n",
       " 0.1206896551724138,\n",
       " 0.12307692307692308,\n",
       " 0.17142857142857143,\n",
       " 0.1437908496732026,\n",
       " 0.21965317919075145,\n",
       " 0.1641025641025641,\n",
       " 0.09815950920245399,\n",
       " 0.16049382716049382,\n",
       " 0.1702127659574468,\n",
       " 0.15384615384615385,\n",
       " 0.25842696629213485,\n",
       " 0.16,\n",
       " 0.16243654822335024,\n",
       " 0.10650887573964497,\n",
       " 0.1610738255033557,\n",
       " 0.19148936170212766,\n",
       " 0.1566265060240964,\n",
       " 0.15584415584415584,\n",
       " 0.16,\n",
       " 0.16216216216216217,\n",
       " 0.13245033112582782,\n",
       " 0.11382113821138211,\n",
       " 0.15568862275449102,\n",
       " 0.2159090909090909,\n",
       " 0.2446043165467626,\n",
       " 0.12658227848101267,\n",
       " 0.14965986394557823,\n",
       " 0.11695906432748537,\n",
       " 0.14965986394557823,\n",
       " 0.17525773195876287,\n",
       " 0.1794871794871795,\n",
       " 0.18867924528301888,\n",
       " 0.15483870967741936,\n",
       " 0.06837606837606838,\n",
       " 0.19310344827586207,\n",
       " 0.21839080459770116,\n",
       " 0.1839080459770115,\n",
       " 0.21428571428571427,\n",
       " 0.14285714285714285,\n",
       " 0.1711229946524064,\n",
       " 0.16,\n",
       " 0.15748031496062992,\n",
       " 0.17391304347826086,\n",
       " 0.147239263803681,\n",
       " 0.2222222222222222,\n",
       " 0.05405405405405406,\n",
       " 0.19736842105263158,\n",
       " 0.13245033112582782,\n",
       " 0.125,\n",
       " 0.0625,\n",
       " 0.175,\n",
       " 0.11764705882352941,\n",
       " 0.13664596273291926,\n",
       " 0.1476510067114094,\n",
       " 0.17518248175182483,\n",
       " 0.10810810810810811,\n",
       " 0.19672131147540983,\n",
       " 0.11382113821138211,\n",
       " 0.1724137931034483,\n",
       " 0.14207650273224043,\n",
       " 0.1566265060240964,\n",
       " 0.1643835616438356,\n",
       " 0.125,\n",
       " 0.18681318681318682,\n",
       " 0.09448818897637795,\n",
       " 0.18404907975460122,\n",
       " 0.16574585635359115,\n",
       " 0.16058394160583941,\n",
       " 0.19895287958115182,\n",
       " 0.22784810126582278,\n",
       " 0.18478260869565216,\n",
       " 0.11475409836065574,\n",
       " 0.1518987341772152]"
      ]
     },
     "execution_count": 19,
     "metadata": {},
     "output_type": "execute_result"
    }
   ],
   "source": [
    "sims[:100]"
   ]
  },
  {
   "cell_type": "code",
   "execution_count": 16,
   "id": "4580a549-1afd-4b9d-8a79-96efa6fb3224",
   "metadata": {},
   "outputs": [
    {
     "data": {
      "text/plain": [
       "43128828"
      ]
     },
     "execution_count": 16,
     "metadata": {},
     "output_type": "execute_result"
    }
   ],
   "source": [
    "len(sims)"
   ]
  },
  {
   "cell_type": "code",
   "execution_count": 26,
   "id": "2a246d56-3e9e-4eed-9baf-14f8259bcbb3",
   "metadata": {},
   "outputs": [
    {
     "data": {
      "text/plain": [
       "(array([1.31500e+03, 1.23040e+04, 6.14390e+04, 1.47234e+05, 2.22885e+05,\n",
       "        2.32741e+05, 1.66197e+05, 8.89940e+04, 3.88270e+04, 1.51970e+04,\n",
       "        6.43000e+03, 2.64800e+03, 1.33300e+03, 7.29000e+02, 4.86000e+02,\n",
       "        3.06000e+02, 1.93000e+02, 1.44000e+02, 1.00000e+02, 8.20000e+01,\n",
       "        5.30000e+01, 6.40000e+01, 3.20000e+01, 4.30000e+01, 3.00000e+01,\n",
       "        2.30000e+01, 2.00000e+01, 1.40000e+01, 2.20000e+01, 1.80000e+01,\n",
       "        1.40000e+01, 1.50000e+01, 1.00000e+01, 1.00000e+01, 7.00000e+00,\n",
       "        8.00000e+00, 7.00000e+00, 3.00000e+00, 5.00000e+00, 5.00000e+00,\n",
       "        4.00000e+00, 1.00000e+00, 1.00000e+00, 3.00000e+00, 0.00000e+00,\n",
       "        0.00000e+00, 0.00000e+00, 1.00000e+00, 0.00000e+00, 3.00000e+00]),\n",
       " array([0.  , 0.02, 0.04, 0.06, 0.08, 0.1 , 0.12, 0.14, 0.16, 0.18, 0.2 ,\n",
       "        0.22, 0.24, 0.26, 0.28, 0.3 , 0.32, 0.34, 0.36, 0.38, 0.4 , 0.42,\n",
       "        0.44, 0.46, 0.48, 0.5 , 0.52, 0.54, 0.56, 0.58, 0.6 , 0.62, 0.64,\n",
       "        0.66, 0.68, 0.7 , 0.72, 0.74, 0.76, 0.78, 0.8 , 0.82, 0.84, 0.86,\n",
       "        0.88, 0.9 , 0.92, 0.94, 0.96, 0.98, 1.  ]),\n",
       " <BarContainer object of 50 artists>)"
      ]
     },
     "execution_count": 26,
     "metadata": {},
     "output_type": "execute_result"
    },
    {
     "data": {
      "image/png": "[encoded data removed]",
      "text/plain": [
       "<Figure size 432x288 with 1 Axes>"
      ]
     },
     "metadata": {
      "needs_background": "light"
     },
     "output_type": "display_data"
    }
   ],
   "source": [
    "plt.hist(sims[:1000000], bins=50)"
   ]
  }
 ],
 "metadata": {
  "kernelspec": {
   "display_name": "Python 3 (ipykernel)",
   "language": "python",
   "name": "python3"
  },
  "language_info": {
   "codemirror_mode": {
    "name": "ipython",
    "version": 3
   },
   "file_extension": ".py",
   "mimetype": "text/x-python",
   "name": "python",
   "nbconvert_exporter": "python",
   "pygments_lexer": "ipython3",
   "version": "3.7.10"
  }
 },
 "nbformat": 4,
 "nbformat_minor": 5
}
