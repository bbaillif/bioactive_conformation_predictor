{
 "cells": [
  {
   "cell_type": "code",
   "execution_count": 1,
   "id": "78abf422-e738-4e5d-9543-6bc91e0085c3",
   "metadata": {},
   "outputs": [],
   "source": [
    "import os\n",
    "import pickle\n",
    "import torch\n",
    "import seaborn as sns\n",
    "import tempfile\n",
    "import time\n",
    "import numpy as np\n",
    "import matplotlib.pyplot as plt\n",
    "import pandas as pd\n",
    "import copy\n",
    "\n",
    "from molecule_featurizer import MoleculeFeaturizer\n",
    "from rdkit import Chem\n",
    "from ccdc.docking import Docker\n",
    "from ccdc.io import MoleculeReader, EntryReader\n",
    "from ccdc_rdkit_connector import CcdcRdkitConnector\n",
    "from ccdc.descriptors import MolecularDescriptors\n",
    "from ccdc.io import Entry\n",
    "from torch_geometric.data import Batch\n",
    "from litschnet import LitSchNet\n",
    "from mol_viewer import MolViewer\n",
    "from multiprocessing import Pool"
   ]
  },
  {
   "cell_type": "code",
   "execution_count": 2,
   "id": "6b65977c-2d78-4b30-b8e6-8c7e0d4fabe6",
   "metadata": {},
   "outputs": [],
   "source": [
    "data_dir = 'data/'\n",
    "pdbbind_refined_dir = '/home/benoit/PDBBind/PDBbind_v2020_refined/refined-set/'\n",
    "pdbbind_general_dir = '/home/benoit/PDBBind/PDBbind_v2020_other_PL/v2020-other-PL/'"
   ]
  },
  {
   "cell_type": "code",
   "execution_count": 3,
   "id": "aca2a123-1c29-4a67-aee7-0cb7f0baf6e0",
   "metadata": {},
   "outputs": [],
   "source": [
    "with open(os.path.join(data_dir, 'random_splits', f'test_smiles_random_split_0.txt'), 'r') as f :\n",
    "    test_smiles = f.readlines()\n",
    "    test_smiles = [smiles.strip() for smiles in test_smiles]\n",
    "    \n",
    "with open(os.path.join(data_dir, 'raw', 'ccdc_generated_conf_ensemble_library.p'), 'rb') as f :\n",
    "    cel = pickle.load(f)"
   ]
  },
  {
   "cell_type": "code",
   "execution_count": 4,
   "id": "64d309ba-36a7-49e8-9606-d9eeb7149ee9",
   "metadata": {},
   "outputs": [
    {
     "data": {
      "text/plain": [
       "LitSchNet(\n",
       "  (schnet): SchNet(hidden_channels=128, num_filters=128, num_interactions=6, num_gaussians=50, cutoff=10.0)\n",
       "  (leaky_relu): LeakyReLU(negative_slope=0.01)\n",
       "  (sigmoid): Sigmoid()\n",
       ")"
      ]
     },
     "execution_count": 4,
     "metadata": {},
     "output_type": "execute_result"
    }
   ],
   "source": [
    "connector = CcdcRdkitConnector()\n",
    "\n",
    "encoder_path = os.path.join(data_dir, 'molecule_encoders.p')\n",
    "if os.path.exists(encoder_path) : # Load existing encoder\n",
    "    with open(encoder_path, 'rb') as f:\n",
    "        mol_encoders = pickle.load(f)\n",
    "mol_featurizer = MoleculeFeaturizer(mol_encoders)\n",
    "\n",
    "experiment_name = f'random_split_0_new'\n",
    "if experiment_name in os.listdir('lightning_logs') :\n",
    "    checkpoint_name = os.listdir(os.path.join('lightning_logs', experiment_name, 'checkpoints'))[0]\n",
    "    checkpoint_path = os.path.join('lightning_logs', experiment_name, 'checkpoints', checkpoint_name)\n",
    "    litschnet = LitSchNet.load_from_checkpoint(checkpoint_path=checkpoint_path)\n",
    "litschnet.eval()"
   ]
  },
  {
   "cell_type": "code",
   "execution_count": 5,
   "id": "6039b932-d3bb-4062-af1d-804eaa0cfb7e",
   "metadata": {},
   "outputs": [],
   "source": [
    "def gold_docking(native_ligand,\n",
    "                 ligand,\n",
    "                 protein_file: str,\n",
    "                 reference_ligand_file: str,\n",
    "                 dock_id: str,\n",
    "                 n_pose_per_conf: int=100) :\n",
    "    \n",
    "    connector = CcdcRdkitConnector()\n",
    "    \n",
    "    docker = Docker()\n",
    "    settings = docker.settings\n",
    "    \n",
    "    settings.add_protein_file(protein_file)\n",
    "    settings.reference_ligand_file = reference_ligand_file\n",
    "    \n",
    "    # Define binding site\n",
    "    protein = settings.proteins[0]\n",
    "    settings.binding_site = settings.BindingSiteFromLigand(protein, native_ligand, 8.0)\n",
    "        \n",
    "    ligand_prep = Docker.LigandPreparation()\n",
    "        \n",
    "    output_dir = os.path.abspath(os.path.join('gold_docking_postprocessing', f'{dock_id}'))\n",
    "    if not os.path.exists(output_dir) :\n",
    "        os.mkdir(output_dir)\n",
    "    settings.output_directory = output_dir\n",
    "    settings.output_file = os.path.join(output_dir, f'docked_ligands_{dock_id}.mol2')\n",
    "     \n",
    "    ligand_file = os.path.join(output_dir, f'{dock_id}.mol2')\n",
    "    ligand = ligand_prep.prepare(Entry.from_molecule(ligand))\n",
    "    mol2_string = ligand.to_string(format='mol2')\n",
    "    with open(ligand_file, 'w') as writer :\n",
    "        writer.write(mol2_string)\n",
    "    settings.add_ligand_file(ligand_file, n_pose_per_conf)\n",
    "\n",
    "    settings.fitness_function = 'plp'\n",
    "    settings.autoscale = 10.\n",
    "    settings.early_termination = False\n",
    "    \n",
    "    start_time = time.time()\n",
    "    results = docker.dock(file_name=os.path.join(output_dir, f'api_gold.conf'))\n",
    "    print(results.return_code)\n",
    "    runtime = time.time() - start_time\n",
    "    \n",
    "    results = Docker.Results(settings)\n",
    "    ligands = results.ligands\n",
    "    \n",
    "    return ligands, runtime, ligand.molecule"
   ]
  },
  {
   "cell_type": "code",
   "execution_count": 6,
   "id": "f28c091a-3f05-421e-81f1-88d109434b76",
   "metadata": {},
   "outputs": [],
   "source": [
    "def docking_performance(ligand_subset, native_ligand) :\n",
    "    results_d = {}\n",
    "    \n",
    "    ligand_scores = [l.fitness() for l in ligand_subset]\n",
    "    ligand_scores = np.array(ligand_scores)\n",
    "    ligand_mols = [l.molecule for l in ligand_subset]\n",
    "    for ligand_mol in ligand_mols :\n",
    "        ligand_mol.remove_atoms([atom for atom in ligand_mol.atoms if atom.atomic_number < 1])\n",
    "    \n",
    "    # find top score pose\n",
    "    top_score_index = ligand_scores.argmax()\n",
    "    top_score_pose = ligand_mols[top_score_index]\n",
    "\n",
    "    # find best pose \n",
    "    rmsds_to_real_pose = np.array([MolecularDescriptors.rmsd(native_ligand, ligand_mol, overlay=False) for ligand_mol in ligand_mols])\n",
    "    best_pose_index = rmsds_to_real_pose.argmin()\n",
    "    best_pose = ligand_mols[best_pose_index]\n",
    "\n",
    "    top_score = ligand_scores.max()\n",
    "    min_rmsd = rmsds_to_real_pose.min()\n",
    "\n",
    "    results_d['top_score_pose'] = connector.ccdc_mol_to_rdkit_mol(top_score_pose)\n",
    "    results_d['top_score'] = top_score\n",
    "    results_d['best_pose'] = connector.ccdc_mol_to_rdkit_mol(best_pose)\n",
    "    results_d['min_rmsd'] = min_rmsd\n",
    "    min_rmsd_top_pose = MolecularDescriptors.rmsd(native_ligand, top_score_pose, overlay=False)\n",
    "    results_d['min_rmsd_top_pose'] = min_rmsd_top_pose\n",
    "    results_d['docking_power'] = min_rmsd_top_pose < 2\n",
    "\n",
    "    return results_d"
   ]
  },
  {
   "cell_type": "code",
   "execution_count": 12,
   "id": "1b0c59d5-7170-48dc-a5b3-22bdc4079810",
   "metadata": {},
   "outputs": [],
   "source": [
    "def dock_smiles(params) :\n",
    "    dock_id, smiles, ce = params\n",
    "    result_d = {}\n",
    "    result_d['ranking'] = {}\n",
    "    \n",
    "    pdb_id = ce.mol.GetConformer(0).GetProp('PDB_ID')\n",
    "\n",
    "    if pdb_id in os.listdir(pdbbind_refined_dir) :\n",
    "        protein_file = os.path.join(pdbbind_refined_dir, pdb_id, f'{pdb_id}_protein.pdb')\n",
    "        ligand_file = os.path.join(pdbbind_refined_dir, pdb_id, f'{pdb_id}_ligand.mol2')\n",
    "    else :\n",
    "        protein_file = os.path.join(pdbbind_general_dir, pdb_id, f'{pdb_id}_protein.pdb')\n",
    "        ligand_file = os.path.join(pdbbind_general_dir, pdb_id, f'{pdb_id}_ligand.mol2')\n",
    "\n",
    "    rdkit_mol = copy.deepcopy(ce.mol)\n",
    "    native_ligand = connector.rdkit_conf_to_ccdc_mol(rdkit_mol, conf_id=0)\n",
    "    \n",
    "    ligand_prep = Docker.LigandPreparation()\n",
    "    native_ligand = ligand_prep.prepare(Entry.from_molecule(native_ligand))\n",
    "    native_ligand = native_ligand.molecule\n",
    "    \n",
    "    generated_ids = [conf.GetId() for conf in ce.mol.GetConformers() if conf.HasProp('Generator')]\n",
    "    gen_conf_id = generated_ids[0]\n",
    "    ligand = connector.rdkit_conf_to_ccdc_mol(rdkit_mol, conf_id=gen_conf_id)\n",
    "    \n",
    "    try :\n",
    "        ligands, runtime, ligand = gold_docking(native_ligand, ligand, protein_file, ligand_file, dock_id)\n",
    "\n",
    "        if len(ligands) :\n",
    "            result_d['runtime'] = runtime\n",
    "\n",
    "            ligand_scores = [l.fitness() for l in ligands]\n",
    "            ligand_mols = [l.molecule for l in ligands]\n",
    "\n",
    "            rdkit_mol.RemoveAllConformers()\n",
    "            rdkit_mol.AddConformer(ce.mol.GetConformer(0), assignId=True)\n",
    "            new_confs_ids = connector.ccdc_mols_to_rdkit_mol_conformers(ligand_mols, rdkit_mol)\n",
    "\n",
    "    #         viewer = MolViewer()\n",
    "    #         viewer.view(rdkit_mol)\n",
    "\n",
    "            ids = [conf.GetId() for conf in rdkit_mol.GetConformers()]\n",
    "            data_list = mol_featurizer.featurize_mol(rdkit_mol)\n",
    "            data_list = data_list[1:]\n",
    "            batch = Batch.from_data_list(data_list)\n",
    "\n",
    "            with torch.no_grad() :\n",
    "                preds = litschnet(batch).cpu().numpy()\n",
    "            preds = preds.reshape(-1)\n",
    "\n",
    "            rmsds = mol_featurizer.get_bioactive_rmsds(rdkit_mol).numpy()[1:]\n",
    "            energies = [data.energy for data in data_list]\n",
    "\n",
    "            # ranked by score\n",
    "            top20_score = np.array(ligand_scores).argsort()[-20:]\n",
    "            ligand_subset = [l for i, l in enumerate(ligands) if i in top20_score]\n",
    "            d = docking_performance(ligand_subset, native_ligand)\n",
    "            result_d['ranking']['score'] = d\n",
    "\n",
    "            # ranked by model\n",
    "            top20_preds = preds.argsort()[:20]\n",
    "            ligand_subset = [l for i, l in enumerate(ligands) if i in top20_preds]\n",
    "            d = docking_performance(ligand_subset, native_ligand)\n",
    "            result_d['ranking']['model'] = d\n",
    "\n",
    "            # ranked by energy\n",
    "            top20_energy = np.array(energies).argsort()[:20]\n",
    "            ligand_subset = [l for i, l in enumerate(ligands) if i in top20_energy]\n",
    "            d = docking_performance(ligand_subset, native_ligand)\n",
    "            result_d['ranking']['energy'] = d\n",
    "\n",
    "            with open(os.path.join('gold_docking_postprocessing', str(dock_id), 'results.p'), 'wb') as f :\n",
    "                pickle.dump(result_d, f)\n",
    "\n",
    "        else :\n",
    "            print(f'{smiles} docking was unsucessful')\n",
    "   \n",
    "    except Exception as e :\n",
    "        print(f'Error with smiles {smiles}')\n",
    "        print(str(e))"
   ]
  },
  {
   "cell_type": "code",
   "execution_count": 8,
   "id": "94b8ca1e-ddfb-456d-9498-6a4d7d7e3984",
   "metadata": {},
   "outputs": [],
   "source": [
    "# for i, smiles in enumerate(test_smiles) :\n",
    "#     params = (i, smiles, cel.get_conf_ensemble(smiles))\n",
    "#     dock_smiles(params)"
   ]
  },
  {
   "cell_type": "code",
   "execution_count": 9,
   "id": "ba5df4e6-0d48-464e-8664-bf11520c405b",
   "metadata": {},
   "outputs": [],
   "source": [
    "    #         sns.scatterplot(x=ligand_scores, y=preds[1:])\n",
    "    #         plt.title('Score vs Pred')\n",
    "    #         plt.show()\n",
    "\n",
    "    #         sns.scatterplot(x=real_rmsds, y=preds[1:])\n",
    "    #         plt.title('RMSD vs Pred')\n",
    "    #         plt.show()\n",
    "\n",
    "    #         sns.scatterplot(x=real_rmsds, y=ligand_scores)\n",
    "    #         plt.title('RMSD vs Score')\n",
    "    #         plt.show()\n",
    "\n",
    "    #         sns.scatterplot(x=real_rmsds, y=energies[1:])\n",
    "    #         plt.title('RMSD vs Energy')\n",
    "    #         plt.show()\n",
    "\n",
    "    #         sns.scatterplot(x=preds[1:], y=energies[1:])\n",
    "    #         plt.title('Pred vs Energy')\n",
    "    #         plt.show()"
   ]
  },
  {
   "cell_type": "code",
   "execution_count": 10,
   "id": "d6f04c7e-e840-44e3-945d-4b2a5e16404e",
   "metadata": {
    "scrolled": true,
    "tags": []
   },
   "outputs": [],
   "source": [
    "params = [(i, smiles, cel.get_conf_ensemble(smiles)) for i, smiles in enumerate(test_smiles)]"
   ]
  },
  {
   "cell_type": "code",
   "execution_count": 13,
   "id": "2387d241-d2e8-445a-ab7d-0f7718ba16d5",
   "metadata": {
    "scrolled": true,
    "tags": []
   },
   "outputs": [
    {
     "name": "stdout",
     "output_type": "stream",
     "text": [
      "Starting GOLD with conf file /home/benoit/bioactive_conformation_predictor/gold_docking_postprocessing/144/api_gold.conf\n",
      "Starting GOLD with conf file /home/benoit/bioactive_conformation_predictor/gold_docking_postprocessing/0/api_gold.conf\n",
      "Starting GOLD with conf file /home/benoit/bioactive_conformation_predictor/gold_docking_postprocessing/264/api_gold.conf\n",
      "Starting GOLD with conf file /home/benoit/bioactive_conformation_predictor/gold_docking_postprocessing/192/api_gold.conf\n",
      "Starting GOLD with conf file /home/benoit/bioactive_conformation_predictor/gold_docking_postprocessing/120/api_gold.conf\n",
      "Starting GOLD with conf file /home/benoit/bioactive_conformation_predictor/gold_docking_postprocessing/72/api_gold.conf\n",
      "Starting GOLD with conf file /home/benoit/bioactive_conformation_predictor/gold_docking_postprocessing/96/api_gold.conf\n",
      "Starting GOLD with conf file /home/benoit/bioactive_conformation_predictor/gold_docking_postprocessing/48/api_gold.conf\n",
      "Starting GOLD with conf file /home/benoit/bioactive_conformation_predictor/gold_docking_postprocessing/216/api_gold.conf\n",
      "Starting GOLD with conf file /home/benoit/bioactive_conformation_predictor/gold_docking_postprocessing/24/api_gold.conf\n",
      "Starting GOLD with conf file /home/benoit/bioactive_conformation_predictor/gold_docking_postprocessing/168/api_gold.conf\n",
      "Starting GOLD with conf file /home/benoit/bioactive_conformation_predictor/gold_docking_postprocessing/240/api_gold.conf\n",
      "Setting up GOLD environment...\n",
      "GOLD Version 2021.2.0\n",
      "Running:\n",
      " \n",
      "     \"/home/benoit/CCDC/Discovery_2021/GOLD/gold/d_linux_64/bin/gold_linux_64\" \"/home/benoit/bioactive_conformation_predictor/gold_docking_postprocessing/144/api_gold.conf\"\n",
      "\n",
      "Setting up GOLD environment...\n",
      "GOLD Version 2021.2.0\n",
      "Running:\n",
      " \n",
      "     \"/home/benoit/CCDC/Discovery_2021/GOLD/gold/d_linux_64/bin/gold_linux_64\" \"/home/benoit/bioactive_conformation_predictor/gold_docking_postprocessing/0/api_gold.conf\"\n",
      "\n",
      "Setting up GOLD environment...\n",
      "GOLD Version 2021.2.0\n",
      "Running:\n",
      " \n",
      "     \"/home/benoit/CCDC/Discovery_2021/GOLD/gold/d_linux_64/bin/gold_linux_64\" \"/home/benoit/bioactive_conformation_predictor/gold_docking_postprocessing/264/api_gold.conf\"\n",
      "\n",
      "Setting up GOLD environment...\n",
      "GOLD Version 2021.2.0\n",
      "Running:\n",
      " \n",
      "     \"/home/benoit/CCDC/Discovery_2021/GOLD/gold/d_linux_64/bin/gold_linux_64\" \"/home/benoit/bioactive_conformation_predictor/gold_docking_postprocessing/192/api_gold.conf\"\n",
      "\n",
      "Setting up GOLD environment...\n",
      "Setting up GOLD environment...\n",
      "Setting up GOLD environment...\n",
      "GOLD Version 2021.2.0\n",
      "GOLD Version 2021.2.0\n",
      "GOLD Version 2021.2.0\n",
      "Running:\n",
      " \n",
      "     \"/home/benoit/CCDC/Discovery_2021/GOLD/gold/d_linux_64/bin/gold_linux_64\" \"/home/benoit/bioactive_conformation_predictor/gold_docking_postprocessing/120/api_gold.conf\"\n",
      "\n",
      "Running:\n",
      " \n",
      "     \"/home/benoit/CCDC/Discovery_2021/GOLD/gold/d_linux_64/bin/gold_linux_64\" \"/home/benoit/bioactive_conformation_predictor/gold_docking_postprocessing/96/api_gold.conf\"\n",
      "\n",
      "Running:\n",
      " \n",
      "     \"/home/benoit/CCDC/Discovery_2021/GOLD/gold/d_linux_64/bin/gold_linux_64\" \"/home/benoit/bioactive_conformation_predictor/gold_docking_postprocessing/72/api_gold.conf\"\n",
      "\n",
      "Setting up GOLD environment...\n",
      "GOLD Version 2021.2.0\n",
      "Running:\n",
      " \n",
      "     \"/home/benoit/CCDC/Discovery_2021/GOLD/gold/d_linux_64/bin/gold_linux_64\" \"/home/benoit/bioactive_conformation_predictor/gold_docking_postprocessing/48/api_gold.conf\"\n",
      "\n",
      "Setting up GOLD environment...\n",
      "GOLD Version 2021.2.0\n",
      "Running:\n",
      " \n",
      "     \"/home/benoit/CCDC/Discovery_2021/GOLD/gold/d_linux_64/bin/gold_linux_64\" \"/home/benoit/bioactive_conformation_predictor/gold_docking_postprocessing/216/api_gold.conf\"\n",
      "\n",
      "Setting up GOLD environment...\n",
      "Setting up GOLD environment...\n",
      "GOLD Version 2021.2.0\n",
      "GOLD Version 2021.2.0\n",
      "Running:\n",
      " \n",
      "     \"/home/benoit/CCDC/Discovery_2021/GOLD/gold/d_linux_64/bin/gold_linux_64\" \"/home/benoit/bioactive_conformation_predictor/gold_docking_postprocessing/168/api_gold.conf\"\n",
      "\n",
      "Running:\n",
      " \n",
      "     \"/home/benoit/CCDC/Discovery_2021/GOLD/gold/d_linux_64/bin/gold_linux_64\" \"/home/benoit/bioactive_conformation_predictor/gold_docking_postprocessing/24/api_gold.conf\"\n",
      "\n",
      "Setting up GOLD environment...\n",
      "GOLD Version 2021.2.0\n",
      "Running:\n",
      " \n",
      "     \"/home/benoit/CCDC/Discovery_2021/GOLD/gold/d_linux_64/bin/gold_linux_64\" \"/home/benoit/bioactive_conformation_predictor/gold_docking_postprocessing/240/api_gold.conf\"\n",
      "\n",
      "0\n",
      "Starting GOLD with conf file /home/benoit/bioactive_conformation_predictor/gold_docking_postprocessing/145/api_gold.conf\n",
      "Setting up GOLD environment...\n",
      "GOLD Version 2021.2.0\n",
      "Running:\n",
      " \n",
      "     \"/home/benoit/CCDC/Discovery_2021/GOLD/gold/d_linux_64/bin/gold_linux_64\" \"/home/benoit/bioactive_conformation_predictor/gold_docking_postprocessing/145/api_gold.conf\"\n",
      "\n",
      "0\n",
      "0\n"
     ]
    },
    {
     "name": "stderr",
     "output_type": "stream",
     "text": [
      "RDKit ERROR: [16:54:21] non-ring atom 8 marked aromatic\n",
      "RDKit ERROR: [16:54:21] non-ring atom 8 marked aromatic\n",
      "[16:54:21] non-ring atom 8 marked aromatic\n",
      "[16:54:21] non-ring atom 8 marked aromatic\n",
      "RDKit ERROR: [16:54:21] non-ring atom 8 marked aromatic\n",
      "RDKit ERROR: [16:54:21] non-ring atom 8 marked aromatic\n",
      "RDKit ERROR: [16:54:21] non-ring atom 8 marked aromatic\n",
      "RDKit ERROR: [16:54:21] non-ring atom 8 marked aromatic\n",
      "[16:54:21] non-ring atom 8 marked aromatic\n",
      "[16:54:21] non-ring atom 8 marked aromatic\n",
      "[16:54:21] non-ring atom 8 marked aromatic\n",
      "[16:54:21] non-ring atom 8 marked aromatic\n"
     ]
    },
    {
     "name": "stdout",
     "output_type": "stream",
     "text": [
      "Starting GOLD with conf file /home/benoit/bioactive_conformation_predictor/gold_docking_postprocessing/97/api_gold.conf\n",
      "Setting up GOLD environment...\n",
      "GOLD Version 2021.2.0\n",
      "Running:\n",
      " \n",
      "     \"/home/benoit/CCDC/Discovery_2021/GOLD/gold/d_linux_64/bin/gold_linux_64\" \"/home/benoit/bioactive_conformation_predictor/gold_docking_postprocessing/97/api_gold.conf\"\n",
      "\n",
      "0\n",
      "Starting GOLD with conf file /home/benoit/bioactive_conformation_predictor/gold_docking_postprocessing/1/api_gold.conf\n",
      "Setting up GOLD environment...\n",
      "GOLD Version 2021.2.0\n",
      "Running:\n",
      " \n",
      "     \"/home/benoit/CCDC/Discovery_2021/GOLD/gold/d_linux_64/bin/gold_linux_64\" \"/home/benoit/bioactive_conformation_predictor/gold_docking_postprocessing/1/api_gold.conf\"\n",
      "\n",
      "0\n",
      "Error with smiles O=C1C[N@@+]23Cc4cccc[n+]4[Fe+7]245(O1)OC(=O)C[N@+]4(Cc1cccc[n+]15)[C@@H]1CCCC[C@H]13\n",
      "'NoneType' object has no attribute 'CalcEnergy'\n",
      "Starting GOLD with conf file /home/benoit/bioactive_conformation_predictor/gold_docking_postprocessing/169/api_gold.conf\n",
      "0\n",
      "Setting up GOLD environment...\n",
      "GOLD Version 2021.2.0\n",
      "Running:\n",
      " \n",
      "     \"/home/benoit/CCDC/Discovery_2021/GOLD/gold/d_linux_64/bin/gold_linux_64\" \"/home/benoit/bioactive_conformation_predictor/gold_docking_postprocessing/169/api_gold.conf\"\n",
      "\n"
     ]
    },
    {
     "name": "stderr",
     "output_type": "stream",
     "text": [
      "RDKit WARNING: [16:54:24] unknown|48|mol2|1|dock1: warning - O.co2 with non C.2 or S.o2 neighbor.\n",
      "RDKit WARNING: [16:54:24] unknown|48|mol2|1|dock53: warning - O.co2 with non C.2 or S.o2 neighbor.\n",
      "[16:54:24] unknown|48|mol2|1|dock1: warning - O.co2 with non C.2 or S.o2 neighbor.\n",
      "[16:54:24] unknown|48|mol2|1|dock53: warning - O.co2 with non C.2 or S.o2 neighbor.\n"
     ]
    },
    {
     "name": "stdout",
     "output_type": "stream",
     "text": [
      "0\n"
     ]
    },
    {
     "name": "stderr",
     "output_type": "stream",
     "text": [
      "RDKit WARNING: [16:54:25] unknown|48|mol2|1|dock11: warning - O.co2 with non C.2 or S.o2 neighbor.\n",
      "RDKit WARNING: [16:54:25] unknown|48|mol2|1|dock51: warning - O.co2 with non C.2 or S.o2 neighbor.\n",
      "[16:54:25] unknown|48|mol2|1|dock11: warning - O.co2 with non C.2 or S.o2 neighbor.\n",
      "[16:54:25] unknown|48|mol2|1|dock51: warning - O.co2 with non C.2 or S.o2 neighbor.\n",
      "RDKit WARNING: [16:54:25] unknown|48|mol2|1|dock44: warning - O.co2 with non C.2 or S.o2 neighbor.\n",
      "RDKit WARNING: [16:54:25] unknown|48|mol2|1|dock14: warning - O.co2 with non C.2 or S.o2 neighbor.\n"
     ]
    },
    {
     "name": "stdout",
     "output_type": "stream",
     "text": [
      "Starting GOLD with conf file /home/benoit/bioactive_conformation_predictor/gold_docking_postprocessing/49/api_gold.conf\n"
     ]
    },
    {
     "name": "stderr",
     "output_type": "stream",
     "text": [
      "[16:54:25] unknown|48|mol2|1|dock44: warning - O.co2 with non C.2 or S.o2 neighbor.\n",
      "[16:54:25] unknown|48|mol2|1|dock14: warning - O.co2 with non C.2 or S.o2 neighbor.\n"
     ]
    },
    {
     "name": "stdout",
     "output_type": "stream",
     "text": [
      "Setting up GOLD environment...\n",
      "GOLD Version 2021.2.0\n",
      "Running:\n",
      " \n",
      "     \"/home/benoit/CCDC/Discovery_2021/GOLD/gold/d_linux_64/bin/gold_linux_64\" \"/home/benoit/bioactive_conformation_predictor/gold_docking_postprocessing/49/api_gold.conf\"\n",
      "\n",
      "Starting GOLD with conf file /home/benoit/bioactive_conformation_predictor/gold_docking_postprocessing/265/api_gold.conf\n",
      "Setting up GOLD environment...\n",
      "GOLD Version 2021.2.0\n",
      "Running:\n",
      " \n",
      "     \"/home/benoit/CCDC/Discovery_2021/GOLD/gold/d_linux_64/bin/gold_linux_64\" \"/home/benoit/bioactive_conformation_predictor/gold_docking_postprocessing/265/api_gold.conf\"\n",
      "\n",
      "Starting GOLD with conf file /home/benoit/bioactive_conformation_predictor/gold_docking_postprocessing/217/api_gold.conf\n",
      "Setting up GOLD environment...\n",
      "GOLD Version 2021.2.0\n",
      "Running:\n",
      " \n",
      "     \"/home/benoit/CCDC/Discovery_2021/GOLD/gold/d_linux_64/bin/gold_linux_64\" \"/home/benoit/bioactive_conformation_predictor/gold_docking_postprocessing/217/api_gold.conf\"\n",
      "\n",
      "0\n",
      "0\n",
      "0\n",
      "Starting GOLD with conf file /home/benoit/bioactive_conformation_predictor/gold_docking_postprocessing/193/api_gold.conf\n",
      "Setting up GOLD environment...\n",
      "GOLD Version 2021.2.0\n",
      "Running:\n",
      " \n",
      "     \"/home/benoit/CCDC/Discovery_2021/GOLD/gold/d_linux_64/bin/gold_linux_64\" \"/home/benoit/bioactive_conformation_predictor/gold_docking_postprocessing/193/api_gold.conf\"\n",
      "\n"
     ]
    },
    {
     "name": "stderr",
     "output_type": "stream",
     "text": [
      "RDKit WARNING: [16:54:32] unknown|1|mol2|1|dock96: warning - O.co2 with non C.2 or S.o2 neighbor.\n",
      "RDKit WARNING: [16:54:32] unknown|1|mol2|1|dock9: warning - O.co2 with non C.2 or S.o2 neighbor.\n",
      "[16:54:32] unknown|1|mol2|1|dock96: warning - O.co2 with non C.2 or S.o2 neighbor.\n",
      "[16:54:32] unknown|1|mol2|1|dock9: warning - O.co2 with non C.2 or S.o2 neighbor.\n",
      "RDKit WARNING: [16:54:33] unknown|1|mol2|1|dock77: warning - O.co2 with non C.2 or S.o2 neighbor.\n",
      "RDKit WARNING: [16:54:33] unknown|1|mol2|1|dock55: warning - O.co2 with non C.2 or S.o2 neighbor.\n",
      "[16:54:33] unknown|1|mol2|1|dock77: warning - O.co2 with non C.2 or S.o2 neighbor.\n",
      "[16:54:33] unknown|1|mol2|1|dock55: warning - O.co2 with non C.2 or S.o2 neighbor.\n",
      "RDKit WARNING: [16:54:33] unknown|1|mol2|1|dock77: warning - O.co2 with non C.2 or S.o2 neighbor.\n",
      "RDKit WARNING: [16:54:33] unknown|1|mol2|1|dock84: warning - O.co2 with non C.2 or S.o2 neighbor.\n"
     ]
    },
    {
     "name": "stdout",
     "output_type": "stream",
     "text": [
      "Starting GOLD with conf file /home/benoit/bioactive_conformation_predictor/gold_docking_postprocessing/2/api_gold.conf\n"
     ]
    },
    {
     "name": "stderr",
     "output_type": "stream",
     "text": [
      "[16:54:33] unknown|1|mol2|1|dock77: warning - O.co2 with non C.2 or S.o2 neighbor.\n",
      "[16:54:33] unknown|1|mol2|1|dock84: warning - O.co2 with non C.2 or S.o2 neighbor.\n"
     ]
    },
    {
     "name": "stdout",
     "output_type": "stream",
     "text": [
      "0\n",
      "Setting up GOLD environment...\n",
      "GOLD Version 2021.2.0\n",
      "Running:\n",
      " \n",
      "     \"/home/benoit/CCDC/Discovery_2021/GOLD/gold/d_linux_64/bin/gold_linux_64\" \"/home/benoit/bioactive_conformation_predictor/gold_docking_postprocessing/2/api_gold.conf\"\n",
      "\n",
      "Starting GOLD with conf file /home/benoit/bioactive_conformation_predictor/gold_docking_postprocessing/121/api_gold.conf\n",
      "Starting GOLD with conf file /home/benoit/bioactive_conformation_predictor/gold_docking_postprocessing/218/api_gold.conf\n",
      "Setting up GOLD environment...\n",
      "GOLD Version 2021.2.0\n",
      "Running:\n",
      " \n",
      "     \"/home/benoit/CCDC/Discovery_2021/GOLD/gold/d_linux_64/bin/gold_linux_64\" \"/home/benoit/bioactive_conformation_predictor/gold_docking_postprocessing/121/api_gold.conf\"\n",
      "\n",
      "Setting up GOLD environment...\n",
      "GOLD Version 2021.2.0\n",
      "Running:\n",
      " \n",
      "     \"/home/benoit/CCDC/Discovery_2021/GOLD/gold/d_linux_64/bin/gold_linux_64\" \"/home/benoit/bioactive_conformation_predictor/gold_docking_postprocessing/218/api_gold.conf\"\n",
      "\n",
      "0\n",
      "0\n",
      "0\n",
      "Starting GOLD with conf file /home/benoit/bioactive_conformation_predictor/gold_docking_postprocessing/170/api_gold.conf\n",
      "Setting up GOLD environment...\n",
      "GOLD Version 2021.2.0\n",
      "Running:\n",
      " \n",
      "     \"/home/benoit/CCDC/Discovery_2021/GOLD/gold/d_linux_64/bin/gold_linux_64\" \"/home/benoit/bioactive_conformation_predictor/gold_docking_postprocessing/170/api_gold.conf\"\n",
      "\n",
      "Starting GOLD with conf file /home/benoit/bioactive_conformation_predictor/gold_docking_postprocessing/266/api_gold.conf\n",
      "Setting up GOLD environment...\n",
      "GOLD Version 2021.2.0\n",
      "Running:\n",
      " \n",
      "     \"/home/benoit/CCDC/Discovery_2021/GOLD/gold/d_linux_64/bin/gold_linux_64\" \"/home/benoit/bioactive_conformation_predictor/gold_docking_postprocessing/266/api_gold.conf\"\n",
      "\n",
      "0\n"
     ]
    },
    {
     "name": "stderr",
     "output_type": "stream",
     "text": [
      "RDKit WARNING: [16:54:44] unknown|24|mol2|1|dock63: warning - O.co2 with non C.2 or S.o2 neighbor.\n",
      "RDKit WARNING: [16:54:44] unknown|24|mol2|1|dock63: warning - O.co2 with non C.2 or S.o2 neighbor.\n",
      "[16:54:44] unknown|24|mol2|1|dock63: warning - O.co2 with non C.2 or S.o2 neighbor.\n",
      "[16:54:44] unknown|24|mol2|1|dock63: warning - O.co2 with non C.2 or S.o2 neighbor.\n",
      "RDKit WARNING: [16:54:45] unknown|24|mol2|1|dock63: warning - O.co2 with non C.2 or S.o2 neighbor.\n",
      "RDKit WARNING: [16:54:45] unknown|24|mol2|1|dock63: warning - O.co2 with non C.2 or S.o2 neighbor.\n",
      "[16:54:45] unknown|24|mol2|1|dock63: warning - O.co2 with non C.2 or S.o2 neighbor.\n",
      "[16:54:45] unknown|24|mol2|1|dock63: warning - O.co2 with non C.2 or S.o2 neighbor.\n",
      "RDKit WARNING: [16:54:46] unknown|24|mol2|1|dock96: warning - O.co2 with non C.2 or S.o2 neighbor.\n",
      "RDKit WARNING: [16:54:46] unknown|24|mol2|1|dock96: warning - O.co2 with non C.2 or S.o2 neighbor.\n"
     ]
    },
    {
     "name": "stdout",
     "output_type": "stream",
     "text": [
      "Starting GOLD with conf file /home/benoit/bioactive_conformation_predictor/gold_docking_postprocessing/25/api_gold.conf\n"
     ]
    },
    {
     "name": "stderr",
     "output_type": "stream",
     "text": [
      "[16:54:46] unknown|24|mol2|1|dock96: warning - O.co2 with non C.2 or S.o2 neighbor.\n",
      "[16:54:46] unknown|24|mol2|1|dock96: warning - O.co2 with non C.2 or S.o2 neighbor.\n"
     ]
    },
    {
     "name": "stdout",
     "output_type": "stream",
     "text": [
      "Setting up GOLD environment...\n",
      "GOLD Version 2021.2.0\n",
      "Running:\n",
      " \n",
      "     \"/home/benoit/CCDC/Discovery_2021/GOLD/gold/d_linux_64/bin/gold_linux_64\" \"/home/benoit/bioactive_conformation_predictor/gold_docking_postprocessing/25/api_gold.conf\"\n",
      "\n",
      "0\n",
      "Starting GOLD with conf file /home/benoit/bioactive_conformation_predictor/gold_docking_postprocessing/73/api_gold.conf\n",
      "Setting up GOLD environment...\n",
      "GOLD Version 2021.2.0\n",
      "Running:\n",
      " \n",
      "     \"/home/benoit/CCDC/Discovery_2021/GOLD/gold/d_linux_64/bin/gold_linux_64\" \"/home/benoit/bioactive_conformation_predictor/gold_docking_postprocessing/73/api_gold.conf\"\n",
      "\n",
      "0\n",
      "0\n",
      "Starting GOLD with conf file /home/benoit/bioactive_conformation_predictor/gold_docking_postprocessing/241/api_gold.conf\n",
      "0\n",
      "Setting up GOLD environment...\n",
      "GOLD Version 2021.2.0\n",
      "Running:\n",
      " \n",
      "     \"/home/benoit/CCDC/Discovery_2021/GOLD/gold/d_linux_64/bin/gold_linux_64\" \"/home/benoit/bioactive_conformation_predictor/gold_docking_postprocessing/241/api_gold.conf\"\n",
      "\n",
      "0\n",
      "Starting GOLD with conf file /home/benoit/bioactive_conformation_predictor/gold_docking_postprocessing/194/api_gold.conf\n",
      "Starting GOLD with conf file /home/benoit/bioactive_conformation_predictor/gold_docking_postprocessing/122/api_gold.conf\n",
      "Starting GOLD with conf file /home/benoit/bioactive_conformation_predictor/gold_docking_postprocessing/98/api_gold.conf\n",
      "Setting up GOLD environment...\n",
      "GOLD Version 2021.2.0\n",
      "Running:\n",
      " \n",
      "     \"/home/benoit/CCDC/Discovery_2021/GOLD/gold/d_linux_64/bin/gold_linux_64\" \"/home/benoit/bioactive_conformation_predictor/gold_docking_postprocessing/194/api_gold.conf\"\n",
      "\n",
      "Setting up GOLD environment...\n",
      "GOLD Version 2021.2.0\n",
      "Running:\n",
      " \n",
      "     \"/home/benoit/CCDC/Discovery_2021/GOLD/gold/d_linux_64/bin/gold_linux_64\" \"/home/benoit/bioactive_conformation_predictor/gold_docking_postprocessing/122/api_gold.conf\"\n",
      "\n",
      "Setting up GOLD environment...\n",
      "GOLD Version 2021.2.0\n",
      "Running:\n",
      " \n",
      "     \"/home/benoit/CCDC/Discovery_2021/GOLD/gold/d_linux_64/bin/gold_linux_64\" \"/home/benoit/bioactive_conformation_predictor/gold_docking_postprocessing/98/api_gold.conf\"\n",
      "\n",
      "Starting GOLD with conf file /home/benoit/bioactive_conformation_predictor/gold_docking_postprocessing/3/api_gold.conf\n",
      "Setting up GOLD environment...\n",
      "GOLD Version 2021.2.0\n",
      "Running:\n",
      " \n",
      "     \"/home/benoit/CCDC/Discovery_2021/GOLD/gold/d_linux_64/bin/gold_linux_64\" \"/home/benoit/bioactive_conformation_predictor/gold_docking_postprocessing/3/api_gold.conf\"\n",
      "\n",
      "0\n",
      "0\n",
      "Starting GOLD with conf file /home/benoit/bioactive_conformation_predictor/gold_docking_postprocessing/50/api_gold.conf\n",
      "Setting up GOLD environment...\n",
      "GOLD Version 2021.2.0\n",
      "Running:\n",
      " \n",
      "     \"/home/benoit/CCDC/Discovery_2021/GOLD/gold/d_linux_64/bin/gold_linux_64\" \"/home/benoit/bioactive_conformation_predictor/gold_docking_postprocessing/50/api_gold.conf\"\n",
      "\n",
      "0\n",
      "0\n",
      "0\n",
      "Starting GOLD with conf file /home/benoit/bioactive_conformation_predictor/gold_docking_postprocessing/195/api_gold.conf\n",
      "Setting up GOLD environment...\n",
      "GOLD Version 2021.2.0\n",
      "Running:\n",
      " \n",
      "     \"/home/benoit/CCDC/Discovery_2021/GOLD/gold/d_linux_64/bin/gold_linux_64\" \"/home/benoit/bioactive_conformation_predictor/gold_docking_postprocessing/195/api_gold.conf\"\n",
      "\n",
      "Starting GOLD with conf file /home/benoit/bioactive_conformation_predictor/gold_docking_postprocessing/26/api_gold.conf\n",
      "Setting up GOLD environment...\n",
      "GOLD Version 2021.2.0\n",
      "Running:\n",
      " \n",
      "     \"/home/benoit/CCDC/Discovery_2021/GOLD/gold/d_linux_64/bin/gold_linux_64\" \"/home/benoit/bioactive_conformation_predictor/gold_docking_postprocessing/26/api_gold.conf\"\n",
      "\n",
      "0\n",
      "Starting GOLD with conf file /home/benoit/bioactive_conformation_predictor/gold_docking_postprocessing/219/api_gold.conf\n",
      "Setting up GOLD environment...\n",
      "GOLD Version 2021.2.0\n",
      "Running:\n",
      " \n",
      "     \"/home/benoit/CCDC/Discovery_2021/GOLD/gold/d_linux_64/bin/gold_linux_64\" \"/home/benoit/bioactive_conformation_predictor/gold_docking_postprocessing/219/api_gold.conf\"\n",
      "\n",
      "Starting GOLD with conf file /home/benoit/bioactive_conformation_predictor/gold_docking_postprocessing/171/api_gold.conf\n",
      "Setting up GOLD environment...\n",
      "GOLD Version 2021.2.0\n",
      "Running:\n",
      " \n",
      "     \"/home/benoit/CCDC/Discovery_2021/GOLD/gold/d_linux_64/bin/gold_linux_64\" \"/home/benoit/bioactive_conformation_predictor/gold_docking_postprocessing/171/api_gold.conf\"\n",
      "\n",
      "Starting GOLD with conf file /home/benoit/bioactive_conformation_predictor/gold_docking_postprocessing/51/api_gold.conf\n",
      "Setting up GOLD environment...\n",
      "GOLD Version 2021.2.0\n",
      "Running:\n",
      " \n",
      "     \"/home/benoit/CCDC/Discovery_2021/GOLD/gold/d_linux_64/bin/gold_linux_64\" \"/home/benoit/bioactive_conformation_predictor/gold_docking_postprocessing/51/api_gold.conf\"\n",
      "\n",
      "0\n",
      "0\n",
      "0\n",
      "0\n",
      "Starting GOLD with conf file /home/benoit/bioactive_conformation_predictor/gold_docking_postprocessing/123/api_gold.conf\n"
     ]
    },
    {
     "name": "stderr",
     "output_type": "stream",
     "text": [
      "RDKit WARNING: [16:55:14] unknown|241|mol2|1|dock46: warning - O.co2 with non C.2 or S.o2 neighbor.\n",
      "RDKit WARNING: [16:55:14] unknown|241|mol2|1|dock1: warning - O.co2 with non C.2 or S.o2 neighbor.\n"
     ]
    },
    {
     "name": "stdout",
     "output_type": "stream",
     "text": [
      "Setting up GOLD environment...\n",
      "GOLD Version 2021.2.0\n",
      "Running:\n",
      " \n",
      "     \"/home/benoit/CCDC/Discovery_2021/GOLD/gold/d_linux_64/bin/gold_linux_64\" \"/home/benoit/bioactive_conformation_predictor/gold_docking_postprocessing/123/api_gold.conf\"\n",
      "\n"
     ]
    },
    {
     "name": "stderr",
     "output_type": "stream",
     "text": [
      "[16:55:14] unknown|241|mol2|1|dock46: warning - O.co2 with non C.2 or S.o2 neighbor.\n",
      "[16:55:14] unknown|241|mol2|1|dock1: warning - O.co2 with non C.2 or S.o2 neighbor.\n",
      "RDKit WARNING: [16:55:14] unknown|241|mol2|1|dock35: warning - O.co2 with non C.2 or S.o2 neighbor.\n",
      "RDKit WARNING: [16:55:14] unknown|241|mol2|1|dock22: warning - O.co2 with non C.2 or S.o2 neighbor.\n",
      "[16:55:14] unknown|241|mol2|1|dock35: warning - O.co2 with non C.2 or S.o2 neighbor.\n",
      "[16:55:14] unknown|241|mol2|1|dock22: warning - O.co2 with non C.2 or S.o2 neighbor.\n",
      "RDKit WARNING: [16:55:15] unknown|241|mol2|1|dock46: warning - O.co2 with non C.2 or S.o2 neighbor.\n",
      "RDKit WARNING: [16:55:15] unknown|241|mol2|1|dock90: warning - O.co2 with non C.2 or S.o2 neighbor.\n"
     ]
    },
    {
     "name": "stdout",
     "output_type": "stream",
     "text": [
      "Starting GOLD with conf file /home/benoit/bioactive_conformation_predictor/gold_docking_postprocessing/242/api_gold.conf\n"
     ]
    },
    {
     "name": "stderr",
     "output_type": "stream",
     "text": [
      "[16:55:15] unknown|241|mol2|1|dock46: warning - O.co2 with non C.2 or S.o2 neighbor.\n",
      "[16:55:15] unknown|241|mol2|1|dock90: warning - O.co2 with non C.2 or S.o2 neighbor.\n"
     ]
    },
    {
     "name": "stdout",
     "output_type": "stream",
     "text": [
      "Setting up GOLD environment...\n",
      "GOLD Version 2021.2.0\n",
      "Running:\n",
      " \n",
      "     \"/home/benoit/CCDC/Discovery_2021/GOLD/gold/d_linux_64/bin/gold_linux_64\" \"/home/benoit/bioactive_conformation_predictor/gold_docking_postprocessing/242/api_gold.conf\"\n",
      "\n",
      "Starting GOLD with conf file /home/benoit/bioactive_conformation_predictor/gold_docking_postprocessing/267/api_gold.conf\n",
      "Starting GOLD with conf file /home/benoit/bioactive_conformation_predictor/gold_docking_postprocessing/4/api_gold.conf\n",
      "0\n",
      "Setting up GOLD environment...\n",
      "GOLD Version 2021.2.0\n",
      "Running:\n",
      " \n",
      "     \"/home/benoit/CCDC/Discovery_2021/GOLD/gold/d_linux_64/bin/gold_linux_64\" \"/home/benoit/bioactive_conformation_predictor/gold_docking_postprocessing/267/api_gold.conf\"\n",
      "\n",
      "Setting up GOLD environment...\n",
      "GOLD Version 2021.2.0\n",
      "Running:\n",
      " \n",
      "     \"/home/benoit/CCDC/Discovery_2021/GOLD/gold/d_linux_64/bin/gold_linux_64\" \"/home/benoit/bioactive_conformation_predictor/gold_docking_postprocessing/4/api_gold.conf\"\n",
      "\n",
      "Starting GOLD with conf file /home/benoit/bioactive_conformation_predictor/gold_docking_postprocessing/27/api_gold.conf\n",
      "Setting up GOLD environment...\n",
      "GOLD Version 2021.2.0\n",
      "Running:\n",
      " \n",
      "     \"/home/benoit/CCDC/Discovery_2021/GOLD/gold/d_linux_64/bin/gold_linux_64\" \"/home/benoit/bioactive_conformation_predictor/gold_docking_postprocessing/27/api_gold.conf\"\n",
      "\n",
      "0\n",
      "0\n",
      "Error with smiles CC#CC[Se]c1ccc(S(N)(=O)=O)cc1\n",
      "'NoneType' object has no attribute 'CalcEnergy'\n",
      "Starting GOLD with conf file /home/benoit/bioactive_conformation_predictor/gold_docking_postprocessing/124/api_gold.conf\n",
      "Setting up GOLD environment...\n",
      "GOLD Version 2021.2.0\n",
      "Running:\n",
      " \n",
      "     \"/home/benoit/CCDC/Discovery_2021/GOLD/gold/d_linux_64/bin/gold_linux_64\" \"/home/benoit/bioactive_conformation_predictor/gold_docking_postprocessing/124/api_gold.conf\"\n",
      "\n",
      "0\n",
      "Starting GOLD with conf file /home/benoit/bioactive_conformation_predictor/gold_docking_postprocessing/220/api_gold.conf\n",
      "0\n",
      "Setting up GOLD environment...\n",
      "GOLD Version 2021.2.0\n",
      "Running:\n",
      " \n",
      "     \"/home/benoit/CCDC/Discovery_2021/GOLD/gold/d_linux_64/bin/gold_linux_64\" \"/home/benoit/bioactive_conformation_predictor/gold_docking_postprocessing/220/api_gold.conf\"\n",
      "\n",
      "Starting GOLD with conf file /home/benoit/bioactive_conformation_predictor/gold_docking_postprocessing/196/api_gold.conf\n",
      "0\n",
      "Setting up GOLD environment...\n",
      "GOLD Version 2021.2.0\n",
      "Running:\n",
      " \n",
      "     \"/home/benoit/CCDC/Discovery_2021/GOLD/gold/d_linux_64/bin/gold_linux_64\" \"/home/benoit/bioactive_conformation_predictor/gold_docking_postprocessing/196/api_gold.conf\"\n",
      "\n",
      "1\n",
      "Error with smiles OC[C@@]1(O)OC[C@@H](O)[C@@H](O)[C@@H]1O\n",
      "Error: could not find any GOLD solution files using conf file /home/benoit/bioactive_conformation_predictor/gold_docking_postprocessing/196/api_gold.conf\n",
      "Starting GOLD with conf file /home/benoit/bioactive_conformation_predictor/gold_docking_postprocessing/197/api_gold.conf\n",
      "Fatal error: \n",
      "find_oco2_lp_points: can't find other oco2 paired to atom 4850\n",
      "\n",
      "Setting up GOLD environment...\n",
      "GOLD Version 2021.2.0\n",
      "Running:\n",
      " \n",
      "     \"/home/benoit/CCDC/Discovery_2021/GOLD/gold/d_linux_64/bin/gold_linux_64\" \"/home/benoit/bioactive_conformation_predictor/gold_docking_postprocessing/197/api_gold.conf\"\n",
      "\n",
      "Error with smiles O=C([O-])c1cccc(/C=C/c2ccc(B(O)O)cc2)c1\n",
      "'NoneType' object has no attribute 'CalcEnergy'\n",
      "Starting GOLD with conf file /home/benoit/bioactive_conformation_predictor/gold_docking_postprocessing/52/api_gold.conf\n",
      "Starting GOLD with conf file /home/benoit/bioactive_conformation_predictor/gold_docking_postprocessing/243/api_gold.conf\n",
      "Setting up GOLD environment...\n",
      "GOLD Version 2021.2.0\n",
      "Running:\n",
      " \n",
      "     \"/home/benoit/CCDC/Discovery_2021/GOLD/gold/d_linux_64/bin/gold_linux_64\" \"/home/benoit/bioactive_conformation_predictor/gold_docking_postprocessing/52/api_gold.conf\"\n",
      "\n",
      "Setting up GOLD environment...\n",
      "GOLD Version 2021.2.0\n",
      "Running:\n",
      " \n",
      "     \"/home/benoit/CCDC/Discovery_2021/GOLD/gold/d_linux_64/bin/gold_linux_64\" \"/home/benoit/bioactive_conformation_predictor/gold_docking_postprocessing/243/api_gold.conf\"\n",
      "\n",
      "0\n",
      "0\n",
      "Starting GOLD with conf file /home/benoit/bioactive_conformation_predictor/gold_docking_postprocessing/125/api_gold.conf\n",
      "Setting up GOLD environment...\n",
      "GOLD Version 2021.2.0\n",
      "Running:\n",
      " \n",
      "     \"/home/benoit/CCDC/Discovery_2021/GOLD/gold/d_linux_64/bin/gold_linux_64\" \"/home/benoit/bioactive_conformation_predictor/gold_docking_postprocessing/125/api_gold.conf\"\n",
      "\n"
     ]
    },
    {
     "name": "stderr",
     "output_type": "stream",
     "text": [
      "RDKit WARNING: [16:55:31] unknown|27|mol2|1|dock56: warning - O.co2 with non C.2 or S.o2 neighbor.\n",
      "RDKit WARNING: [16:55:31] unknown|27|mol2|1|dock56: warning - O.co2 with non C.2 or S.o2 neighbor.\n",
      "[16:55:31] unknown|27|mol2|1|dock56: warning - O.co2 with non C.2 or S.o2 neighbor.\n",
      "[16:55:31] unknown|27|mol2|1|dock56: warning - O.co2 with non C.2 or S.o2 neighbor.\n",
      "RDKit WARNING: [16:55:32] unknown|27|mol2|1|dock63: warning - O.co2 with non C.2 or S.o2 neighbor.\n",
      "RDKit WARNING: [16:55:32] unknown|27|mol2|1|dock57: warning - O.co2 with non C.2 or S.o2 neighbor.\n",
      "[16:55:32] unknown|27|mol2|1|dock63: warning - O.co2 with non C.2 or S.o2 neighbor.\n",
      "[16:55:32] unknown|27|mol2|1|dock57: warning - O.co2 with non C.2 or S.o2 neighbor.\n",
      "RDKit WARNING: [16:55:32] unknown|27|mol2|1|dock4: warning - O.co2 with non C.2 or S.o2 neighbor.\n",
      "RDKit WARNING: [16:55:32] unknown|27|mol2|1|dock32: warning - O.co2 with non C.2 or S.o2 neighbor.\n"
     ]
    },
    {
     "name": "stdout",
     "output_type": "stream",
     "text": [
      "0\n",
      "Starting GOLD with conf file /home/benoit/bioactive_conformation_predictor/gold_docking_postprocessing/28/api_gold.conf\n"
     ]
    },
    {
     "name": "stderr",
     "output_type": "stream",
     "text": [
      "[16:55:32] unknown|27|mol2|1|dock4: warning - O.co2 with non C.2 or S.o2 neighbor.\n",
      "[16:55:32] unknown|27|mol2|1|dock32: warning - O.co2 with non C.2 or S.o2 neighbor.\n"
     ]
    },
    {
     "name": "stdout",
     "output_type": "stream",
     "text": [
      "0\n",
      "Setting up GOLD environment...\n",
      "GOLD Version 2021.2.0\n",
      "Running:\n",
      " \n",
      "     \"/home/benoit/CCDC/Discovery_2021/GOLD/gold/d_linux_64/bin/gold_linux_64\" \"/home/benoit/bioactive_conformation_predictor/gold_docking_postprocessing/28/api_gold.conf\"\n",
      "\n",
      "0\n"
     ]
    },
    {
     "name": "stderr",
     "output_type": "stream",
     "text": [
      "RDKit WARNING: [16:55:34] unknown|171|mol2|1|dock81: warning - O.co2 with non C.2 or S.o2 neighbor.\n",
      "RDKit WARNING: [16:55:34] unknown|171|mol2|1|dock38: warning - O.co2 with non C.2 or S.o2 neighbor.\n",
      "[16:55:34] unknown|171|mol2|1|dock81: warning - O.co2 with non C.2 or S.o2 neighbor.\n",
      "[16:55:34] unknown|171|mol2|1|dock38: warning - O.co2 with non C.2 or S.o2 neighbor.\n"
     ]
    },
    {
     "name": "stdout",
     "output_type": "stream",
     "text": [
      "Starting GOLD with conf file /home/benoit/bioactive_conformation_predictor/gold_docking_postprocessing/53/api_gold.conf\n"
     ]
    },
    {
     "name": "stderr",
     "output_type": "stream",
     "text": [
      "RDKit WARNING: [16:55:34] unknown|171|mol2|1|dock81: warning - O.co2 with non C.2 or S.o2 neighbor.\n",
      "RDKit WARNING: [16:55:34] unknown|171|mol2|1|dock38: warning - O.co2 with non C.2 or S.o2 neighbor.\n",
      "[16:55:34] unknown|171|mol2|1|dock81: warning - O.co2 with non C.2 or S.o2 neighbor.\n",
      "[16:55:34] unknown|171|mol2|1|dock38: warning - O.co2 with non C.2 or S.o2 neighbor.\n"
     ]
    },
    {
     "name": "stdout",
     "output_type": "stream",
     "text": [
      "Setting up GOLD environment...\n",
      "GOLD Version 2021.2.0\n",
      "Running:\n",
      " \n",
      "     \"/home/benoit/CCDC/Discovery_2021/GOLD/gold/d_linux_64/bin/gold_linux_64\" \"/home/benoit/bioactive_conformation_predictor/gold_docking_postprocessing/53/api_gold.conf\"\n",
      "\n"
     ]
    },
    {
     "name": "stderr",
     "output_type": "stream",
     "text": [
      "RDKit WARNING: [16:55:34] unknown|171|mol2|1|dock70: warning - O.co2 with non C.2 or S.o2 neighbor.\n",
      "RDKit WARNING: [16:55:34] unknown|171|mol2|1|dock73: warning - O.co2 with non C.2 or S.o2 neighbor.\n"
     ]
    },
    {
     "name": "stdout",
     "output_type": "stream",
     "text": [
      "Starting GOLD with conf file /home/benoit/bioactive_conformation_predictor/gold_docking_postprocessing/172/api_gold.conf\n"
     ]
    },
    {
     "name": "stderr",
     "output_type": "stream",
     "text": [
      "[16:55:34] unknown|171|mol2|1|dock70: warning - O.co2 with non C.2 or S.o2 neighbor.\n",
      "[16:55:34] unknown|171|mol2|1|dock73: warning - O.co2 with non C.2 or S.o2 neighbor.\n"
     ]
    },
    {
     "name": "stdout",
     "output_type": "stream",
     "text": [
      "Setting up GOLD environment...\n",
      "GOLD Version 2021.2.0\n",
      "Running:\n",
      " \n",
      "     \"/home/benoit/CCDC/Discovery_2021/GOLD/gold/d_linux_64/bin/gold_linux_64\" \"/home/benoit/bioactive_conformation_predictor/gold_docking_postprocessing/172/api_gold.conf\"\n",
      "\n",
      "0\n",
      "0\n",
      "0Starting GOLD with conf file /home/benoit/bioactive_conformation_predictor/gold_docking_postprocessing/74/api_gold.conf\n",
      "\n",
      "Setting up GOLD environment...\n",
      "GOLD Version 2021.2.0\n",
      "Running:\n",
      " \n",
      "     \"/home/benoit/CCDC/Discovery_2021/GOLD/gold/d_linux_64/bin/gold_linux_64\" \"/home/benoit/bioactive_conformation_predictor/gold_docking_postprocessing/74/api_gold.conf\"\n",
      "\n",
      "Starting GOLD with conf file /home/benoit/bioactive_conformation_predictor/gold_docking_postprocessing/5/api_gold.conf\n",
      "Setting up GOLD environment...\n",
      "GOLD Version 2021.2.0\n",
      "Running:\n",
      " \n",
      "     \"/home/benoit/CCDC/Discovery_2021/GOLD/gold/d_linux_64/bin/gold_linux_64\" \"/home/benoit/bioactive_conformation_predictor/gold_docking_postprocessing/5/api_gold.conf\"\n",
      "\n"
     ]
    },
    {
     "name": "stderr",
     "output_type": "stream",
     "text": [
      "RDKit WARNING: [16:55:40] unknown|145|mol2|1|dock67: warning - O.co2 with non C.2 or S.o2 neighbor.\n",
      "RDKit WARNING: [16:55:40] unknown|145|mol2|1|dock62: warning - O.co2 with non C.2 or S.o2 neighbor.\n"
     ]
    },
    {
     "name": "stdout",
     "output_type": "stream",
     "text": [
      "0\n"
     ]
    },
    {
     "name": "stderr",
     "output_type": "stream",
     "text": [
      "[16:55:40] unknown|145|mol2|1|dock67: warning - O.co2 with non C.2 or S.o2 neighbor.\n",
      "[16:55:40] unknown|145|mol2|1|dock62: warning - O.co2 with non C.2 or S.o2 neighbor.\n"
     ]
    },
    {
     "name": "stdout",
     "output_type": "stream",
     "text": [
      "0\n"
     ]
    },
    {
     "name": "stderr",
     "output_type": "stream",
     "text": [
      "RDKit WARNING: [16:55:41] unknown|145|mol2|1|dock28: warning - O.co2 with non C.2 or S.o2 neighbor.\n",
      "RDKit WARNING: [16:55:41] unknown|145|mol2|1|dock62: warning - O.co2 with non C.2 or S.o2 neighbor.\n",
      "[16:55:41] unknown|145|mol2|1|dock28: warning - O.co2 with non C.2 or S.o2 neighbor.\n",
      "[16:55:41] unknown|145|mol2|1|dock62: warning - O.co2 with non C.2 or S.o2 neighbor.\n",
      "RDKit WARNING: [16:55:42] unknown|145|mol2|1|dock28: warning - O.co2 with non C.2 or S.o2 neighbor.\n",
      "RDKit WARNING: [16:55:42] unknown|145|mol2|1|dock37: warning - O.co2 with non C.2 or S.o2 neighbor.\n",
      "RDKit WARNING: [16:55:42] unknown|267|mol2|1|dock80: warning - O.co2 with non C.2 or S.o2 neighbor.\n",
      "RDKit WARNING: [16:55:42] unknown|267|mol2|1|dock14: warning - O.co2 with non C.2 or S.o2 neighbor.\n",
      "[16:55:42] unknown|145|mol2|1|dock28: warning - O.co2 with non C.2 or S.o2 neighbor.\n",
      "[16:55:42] unknown|145|mol2|1|dock37: warning - O.co2 with non C.2 or S.o2 neighbor.\n",
      "[16:55:42] unknown|267|mol2|1|dock80: warning - O.co2 with non C.2 or S.o2 neighbor.\n",
      "[16:55:42] unknown|267|mol2|1|dock14: warning - O.co2 with non C.2 or S.o2 neighbor.\n"
     ]
    },
    {
     "name": "stdout",
     "output_type": "stream",
     "text": [
      "Starting GOLD with conf file /home/benoit/bioactive_conformation_predictor/gold_docking_postprocessing/146/api_gold.conf\n",
      "Setting up GOLD environment...\n",
      "GOLD Version 2021.2.0\n",
      "Running:\n",
      " \n",
      "     \"/home/benoit/CCDC/Discovery_2021/GOLD/gold/d_linux_64/bin/gold_linux_64\" \"/home/benoit/bioactive_conformation_predictor/gold_docking_postprocessing/146/api_gold.conf\"\n",
      "\n"
     ]
    },
    {
     "name": "stderr",
     "output_type": "stream",
     "text": [
      "RDKit WARNING: [16:55:42] unknown|267|mol2|1|dock27: warning - O.co2 with non C.2 or S.o2 neighbor.\n",
      "RDKit WARNING: [16:55:42] unknown|267|mol2|1|dock77: warning - O.co2 with non C.2 or S.o2 neighbor.\n"
     ]
    },
    {
     "name": "stdout",
     "output_type": "stream",
     "text": [
      "0\n",
      "Starting GOLD with conf file /home/benoit/bioactive_conformation_predictor/gold_docking_postprocessing/198/api_gold.conf\n"
     ]
    },
    {
     "name": "stderr",
     "output_type": "stream",
     "text": [
      "[16:55:42] unknown|267|mol2|1|dock27: warning - O.co2 with non C.2 or S.o2 neighbor.\n",
      "[16:55:42] unknown|267|mol2|1|dock77: warning - O.co2 with non C.2 or S.o2 neighbor.\n"
     ]
    },
    {
     "name": "stdout",
     "output_type": "stream",
     "text": [
      "0\n",
      "Setting up GOLD environment...\n",
      "GOLD Version 2021.2.0\n",
      "Running:\n",
      " \n",
      "     \"/home/benoit/CCDC/Discovery_2021/GOLD/gold/d_linux_64/bin/gold_linux_64\" \"/home/benoit/bioactive_conformation_predictor/gold_docking_postprocessing/198/api_gold.conf\"\n",
      "\n"
     ]
    },
    {
     "name": "stderr",
     "output_type": "stream",
     "text": [
      "RDKit WARNING: [16:55:43] unknown|267|mol2|1|dock37: warning - O.co2 with non C.2 or S.o2 neighbor.\n",
      "RDKit WARNING: [16:55:43] unknown|267|mol2|1|dock74: warning - O.co2 with non C.2 or S.o2 neighbor.\n"
     ]
    },
    {
     "name": "stdout",
     "output_type": "stream",
     "text": [
      "Starting GOLD with conf file /home/benoit/bioactive_conformation_predictor/gold_docking_postprocessing/268/api_gold.conf\n"
     ]
    },
    {
     "name": "stderr",
     "output_type": "stream",
     "text": [
      "[16:55:43] unknown|267|mol2|1|dock37: warning - O.co2 with non C.2 or S.o2 neighbor.\n",
      "[16:55:43] unknown|267|mol2|1|dock74: warning - O.co2 with non C.2 or S.o2 neighbor.\n"
     ]
    },
    {
     "name": "stdout",
     "output_type": "stream",
     "text": [
      "Setting up GOLD environment...\n",
      "GOLD Version 2021.2.0\n",
      "Running:\n",
      " \n",
      "     \"/home/benoit/CCDC/Discovery_2021/GOLD/gold/d_linux_64/bin/gold_linux_64\" \"/home/benoit/bioactive_conformation_predictor/gold_docking_postprocessing/268/api_gold.conf\"\n",
      "\n"
     ]
    },
    {
     "name": "stderr",
     "output_type": "stream",
     "text": [
      "RDKit WARNING: [16:55:45] unknown|243|mol2|1|dock78: warning - O.co2 with non C.2 or S.o2 neighbor.\n",
      "RDKit WARNING: [16:55:45] unknown|243|mol2|1|dock78: warning - O.co2 with non C.2 or S.o2 neighbor.\n",
      "[16:55:45] unknown|243|mol2|1|dock78: warning - O.co2 with non C.2 or S.o2 neighbor.\n",
      "[16:55:45] unknown|243|mol2|1|dock78: warning - O.co2 with non C.2 or S.o2 neighbor.\n",
      "RDKit WARNING: [16:55:45] unknown|243|mol2|1|dock78: warning - O.co2 with non C.2 or S.o2 neighbor.\n",
      "RDKit WARNING: [16:55:45] unknown|243|mol2|1|dock78: warning - O.co2 with non C.2 or S.o2 neighbor.\n",
      "[16:55:45] unknown|243|mol2|1|dock78: warning - O.co2 with non C.2 or S.o2 neighbor.\n",
      "[16:55:45] unknown|243|mol2|1|dock78: warning - O.co2 with non C.2 or S.o2 neighbor.\n",
      "RDKit WARNING: [16:55:45] unknown|243|mol2|1|dock40: warning - O.co2 with non C.2 or S.o2 neighbor.\n",
      "RDKit WARNING: [16:55:45] unknown|243|mol2|1|dock99: warning - O.co2 with non C.2 or S.o2 neighbor.\n",
      "RDKit WARNING: [16:55:45] unknown|125|mol2|1|dock49: warning - O.co2 with non C.2 or S.o2 neighbor.\n",
      "RDKit WARNING: [16:55:45] unknown|125|mol2|1|dock96: warning - O.co2 with non C.2 or S.o2 neighbor.\n"
     ]
    },
    {
     "name": "stdout",
     "output_type": "stream",
     "text": [
      "Starting GOLD with conf file /home/benoit/bioactive_conformation_predictor/gold_docking_postprocessing/244/api_gold.conf\n"
     ]
    },
    {
     "name": "stderr",
     "output_type": "stream",
     "text": [
      "[16:55:45] unknown|243|mol2|1|dock40: warning - O.co2 with non C.2 or S.o2 neighbor.\n",
      "[16:55:45] unknown|243|mol2|1|dock99: warning - O.co2 with non C.2 or S.o2 neighbor.\n",
      "[16:55:45] unknown|125|mol2|1|dock49: warning - O.co2 with non C.2 or S.o2 neighbor.\n",
      "[16:55:45] unknown|125|mol2|1|dock96: warning - O.co2 with non C.2 or S.o2 neighbor.\n",
      "RDKit WARNING: [16:55:46] unknown|125|mol2|1|dock36: warning - O.co2 with non C.2 or S.o2 neighbor.\n",
      "RDKit WARNING: [16:55:46] unknown|125|mol2|1|dock96: warning - O.co2 with non C.2 or S.o2 neighbor.\n"
     ]
    },
    {
     "name": "stdout",
     "output_type": "stream",
     "text": [
      "Setting up GOLD environment...\n",
      "GOLD Version 2021.2.0\n",
      "Running:\n",
      " \n",
      "     \"/home/benoit/CCDC/Discovery_2021/GOLD/gold/d_linux_64/bin/gold_linux_64\" \"/home/benoit/bioactive_conformation_predictor/gold_docking_postprocessing/244/api_gold.conf\"\n",
      "\n"
     ]
    },
    {
     "name": "stderr",
     "output_type": "stream",
     "text": [
      "[16:55:46] unknown|125|mol2|1|dock36: warning - O.co2 with non C.2 or S.o2 neighbor.\n",
      "[16:55:46] unknown|125|mol2|1|dock96: warning - O.co2 with non C.2 or S.o2 neighbor.\n",
      "RDKit WARNING: [16:55:46] unknown|125|mol2|1|dock36: warning - O.co2 with non C.2 or S.o2 neighbor.\n",
      "RDKit WARNING: [16:55:46] unknown|125|mol2|1|dock45: warning - O.co2 with non C.2 or S.o2 neighbor.\n"
     ]
    },
    {
     "name": "stdout",
     "output_type": "stream",
     "text": [
      "0\n",
      "Starting GOLD with conf file /home/benoit/bioactive_conformation_predictor/gold_docking_postprocessing/99/api_gold.conf\n",
      "Starting GOLD with conf file /home/benoit/bioactive_conformation_predictor/gold_docking_postprocessing/126/api_gold.conf\n"
     ]
    },
    {
     "name": "stderr",
     "output_type": "stream",
     "text": [
      "[16:55:46] unknown|125|mol2|1|dock36: warning - O.co2 with non C.2 or S.o2 neighbor.\n",
      "[16:55:46] unknown|125|mol2|1|dock45: warning - O.co2 with non C.2 or S.o2 neighbor.\n"
     ]
    },
    {
     "name": "stdout",
     "output_type": "stream",
     "text": [
      "Setting up GOLD environment...\n",
      "GOLD Version 2021.2.0\n",
      "Running:\n",
      " \n",
      "     \"/home/benoit/CCDC/Discovery_2021/GOLD/gold/d_linux_64/bin/gold_linux_64\" \"/home/benoit/bioactive_conformation_predictor/gold_docking_postprocessing/99/api_gold.conf\"\n",
      "\n",
      "Setting up GOLD environment...\n",
      "GOLD Version 2021.2.0\n",
      "Running:\n",
      " \n",
      "     \"/home/benoit/CCDC/Discovery_2021/GOLD/gold/d_linux_64/bin/gold_linux_64\" \"/home/benoit/bioactive_conformation_predictor/gold_docking_postprocessing/126/api_gold.conf\"\n",
      "\n",
      "Starting GOLD with conf file /home/benoit/bioactive_conformation_predictor/gold_docking_postprocessing/221/api_gold.conf\n",
      "Setting up GOLD environment...\n",
      "GOLD Version 2021.2.0\n",
      "Running:\n",
      " \n",
      "     \"/home/benoit/CCDC/Discovery_2021/GOLD/gold/d_linux_64/bin/gold_linux_64\" \"/home/benoit/bioactive_conformation_predictor/gold_docking_postprocessing/221/api_gold.conf\"\n",
      "\n",
      "0\n",
      "0\n",
      "0\n"
     ]
    },
    {
     "name": "stderr",
     "output_type": "stream",
     "text": [
      "RDKit WARNING: [16:55:53] unknown|126|mol2|1|dock39: warning - O.co2 with non C.2 or S.o2 neighbor.\n",
      "RDKit WARNING: [16:55:53] unknown|126|mol2|1|dock98: warning - O.co2 with non C.2 or S.o2 neighbor.\n",
      "RDKit WARNING: [16:55:53] unknown|126|mol2|1|dock39: warning - O.co2 with non C.2 or S.o2 neighbor.\n",
      "RDKit WARNING: [16:55:53] unknown|126|mol2|1|dock38: warning - O.co2 with non C.2 or S.o2 neighbor.\n",
      "[16:55:53] unknown|126|mol2|1|dock39: warning - O.co2 with non C.2 or S.o2 neighbor.\n",
      "[16:55:53] unknown|126|mol2|1|dock98: warning - O.co2 with non C.2 or S.o2 neighbor.\n",
      "[16:55:53] unknown|126|mol2|1|dock39: warning - O.co2 with non C.2 or S.o2 neighbor.\n",
      "[16:55:53] unknown|126|mol2|1|dock38: warning - O.co2 with non C.2 or S.o2 neighbor.\n",
      "RDKit WARNING: [16:55:53] unknown|126|mol2|1|dock55: warning - O.co2 with non C.2 or S.o2 neighbor.\n",
      "RDKit WARNING: [16:55:53] unknown|126|mol2|1|dock63: warning - O.co2 with non C.2 or S.o2 neighbor.\n"
     ]
    },
    {
     "name": "stdout",
     "output_type": "stream",
     "text": [
      "0\n",
      "Starting GOLD with conf file /home/benoit/bioactive_conformation_predictor/gold_docking_postprocessing/127/api_gold.conf\n",
      "0\n"
     ]
    },
    {
     "name": "stderr",
     "output_type": "stream",
     "text": [
      "[16:55:53] unknown|126|mol2|1|dock55: warning - O.co2 with non C.2 or S.o2 neighbor.\n",
      "[16:55:53] unknown|126|mol2|1|dock63: warning - O.co2 with non C.2 or S.o2 neighbor.\n"
     ]
    },
    {
     "name": "stdout",
     "output_type": "stream",
     "text": [
      "Setting up GOLD environment...\n",
      "GOLD Version 2021.2.0\n",
      "Running:\n",
      " \n",
      "     \"/home/benoit/CCDC/Discovery_2021/GOLD/gold/d_linux_64/bin/gold_linux_64\" \"/home/benoit/bioactive_conformation_predictor/gold_docking_postprocessing/127/api_gold.conf\"\n",
      "\n",
      "Starting GOLD with conf file /home/benoit/bioactive_conformation_predictor/gold_docking_postprocessing/269/api_gold.conf\n",
      "0\n",
      "Setting up GOLD environment...\n",
      "GOLD Version 2021.2.0\n",
      "Running:\n",
      " \n",
      "     \"/home/benoit/CCDC/Discovery_2021/GOLD/gold/d_linux_64/bin/gold_linux_64\" \"/home/benoit/bioactive_conformation_predictor/gold_docking_postprocessing/269/api_gold.conf\"\n",
      "\n",
      "Starting GOLD with conf file /home/benoit/bioactive_conformation_predictor/gold_docking_postprocessing/29/api_gold.conf\n",
      "Starting GOLD with conf file /home/benoit/bioactive_conformation_predictor/gold_docking_postprocessing/147/api_gold.conf\n",
      "Starting GOLD with conf file /home/benoit/bioactive_conformation_predictor/gold_docking_postprocessing/75/api_gold.conf\n",
      "Setting up GOLD environment...\n",
      "GOLD Version 2021.2.0\n",
      "Running:\n",
      " \n",
      "     \"/home/benoit/CCDC/Discovery_2021/GOLD/gold/d_linux_64/bin/gold_linux_64\" \"/home/benoit/bioactive_conformation_predictor/gold_docking_postprocessing/29/api_gold.conf\"\n",
      "\n",
      "Setting up GOLD environment...\n",
      "GOLD Version 2021.2.0\n",
      "Running:\n",
      " \n",
      "     \"/home/benoit/CCDC/Discovery_2021/GOLD/gold/d_linux_64/bin/gold_linux_64\" \"/home/benoit/bioactive_conformation_predictor/gold_docking_postprocessing/147/api_gold.conf\"\n",
      "\n",
      "Setting up GOLD environment...\n",
      "GOLD Version 2021.2.0\n",
      "Running:\n",
      " \n",
      "     \"/home/benoit/CCDC/Discovery_2021/GOLD/gold/d_linux_64/bin/gold_linux_64\" \"/home/benoit/bioactive_conformation_predictor/gold_docking_postprocessing/75/api_gold.conf\"\n",
      "\n",
      "0\n",
      "0\n"
     ]
    },
    {
     "name": "stderr",
     "output_type": "stream",
     "text": [
      "RDKit WARNING: [16:55:57] unknown|53|mol2|1|dock79: warning - O.co2 with non C.2 or S.o2 neighbor.\n",
      "RDKit WARNING: [16:55:57] unknown|53|mol2|1|dock46: warning - O.co2 with non C.2 or S.o2 neighbor.\n",
      "[16:55:57] unknown|53|mol2|1|dock79: warning - O.co2 with non C.2 or S.o2 neighbor.\n",
      "[16:55:57] unknown|53|mol2|1|dock46: warning - O.co2 with non C.2 or S.o2 neighbor.\n",
      "RDKit WARNING: [16:55:57] unknown|53|mol2|1|dock79: warning - O.co2 with non C.2 or S.o2 neighbor.\n",
      "RDKit WARNING: [16:55:57] unknown|53|mol2|1|dock77: warning - O.co2 with non C.2 or S.o2 neighbor.\n",
      "[16:55:57] unknown|53|mol2|1|dock79: warning - O.co2 with non C.2 or S.o2 neighbor.\n",
      "[16:55:57] unknown|53|mol2|1|dock77: warning - O.co2 with non C.2 or S.o2 neighbor.\n",
      "RDKit WARNING: [16:55:58] unknown|53|mol2|1|dock19: warning - O.co2 with non C.2 or S.o2 neighbor.\n",
      "RDKit WARNING: [16:55:58] unknown|53|mol2|1|dock71: warning - O.co2 with non C.2 or S.o2 neighbor.\n"
     ]
    },
    {
     "name": "stdout",
     "output_type": "stream",
     "text": [
      "Starting GOLD with conf file /home/benoit/bioactive_conformation_predictor/gold_docking_postprocessing/54/api_gold.conf\n"
     ]
    },
    {
     "name": "stderr",
     "output_type": "stream",
     "text": [
      "[16:55:58] unknown|53|mol2|1|dock19: warning - O.co2 with non C.2 or S.o2 neighbor.\n",
      "[16:55:58] unknown|53|mol2|1|dock71: warning - O.co2 with non C.2 or S.o2 neighbor.\n"
     ]
    },
    {
     "name": "stdout",
     "output_type": "stream",
     "text": [
      "0\n",
      "Setting up GOLD environment...\n",
      "GOLD Version 2021.2.0\n",
      "Running:\n",
      " \n",
      "     \"/home/benoit/CCDC/Discovery_2021/GOLD/gold/d_linux_64/bin/gold_linux_64\" \"/home/benoit/bioactive_conformation_predictor/gold_docking_postprocessing/54/api_gold.conf\"\n",
      "\n",
      "0\n",
      "Starting GOLD with conf file /home/benoit/bioactive_conformation_predictor/gold_docking_postprocessing/6/api_gold.conf\n",
      "Starting GOLD with conf file /home/benoit/bioactive_conformation_predictor/gold_docking_postprocessing/270/api_gold.conf\n",
      "Setting up GOLD environment...\n",
      "GOLD Version 2021.2.0\n",
      "Running:\n",
      " \n",
      "     \"/home/benoit/CCDC/Discovery_2021/GOLD/gold/d_linux_64/bin/gold_linux_64\" \"/home/benoit/bioactive_conformation_predictor/gold_docking_postprocessing/6/api_gold.conf\"\n",
      "\n",
      "Setting up GOLD environment...\n",
      "GOLD Version 2021.2.0\n",
      "Running:\n",
      " \n",
      "     \"/home/benoit/CCDC/Discovery_2021/GOLD/gold/d_linux_64/bin/gold_linux_64\" \"/home/benoit/bioactive_conformation_predictor/gold_docking_postprocessing/270/api_gold.conf\"\n",
      "\n",
      "Starting GOLD with conf file /home/benoit/bioactive_conformation_predictor/gold_docking_postprocessing/222/api_gold.conf\n",
      "Starting GOLD with conf file /home/benoit/bioactive_conformation_predictor/gold_docking_postprocessing/173/api_gold.conf\n",
      "Setting up GOLD environment...\n",
      "GOLD Version 2021.2.0\n",
      "Running:\n",
      " \n",
      "     \"/home/benoit/CCDC/Discovery_2021/GOLD/gold/d_linux_64/bin/gold_linux_64\" \"/home/benoit/bioactive_conformation_predictor/gold_docking_postprocessing/222/api_gold.conf\"\n",
      "\n",
      "Setting up GOLD environment...\n",
      "GOLD Version 2021.2.0\n",
      "Running:\n",
      " \n",
      "     \"/home/benoit/CCDC/Discovery_2021/GOLD/gold/d_linux_64/bin/gold_linux_64\" \"/home/benoit/bioactive_conformation_predictor/gold_docking_postprocessing/173/api_gold.conf\"\n",
      "\n",
      "0\n",
      "0\n",
      "0\n",
      "0\n",
      "0\n",
      "Starting GOLD with conf file /home/benoit/bioactive_conformation_predictor/gold_docking_postprocessing/148/api_gold.conf\n",
      "Starting GOLD with conf file /home/benoit/bioactive_conformation_predictor/gold_docking_postprocessing/100/api_gold.conf\n",
      "Starting GOLD with conf file /home/benoit/bioactive_conformation_predictor/gold_docking_postprocessing/76/api_gold.conf\n",
      "Starting GOLD with conf file /home/benoit/bioactive_conformation_predictor/gold_docking_postprocessing/223/api_gold.conf\n",
      "Setting up GOLD environment...\n",
      "GOLD Version 2021.2.0\n",
      "Running:\n",
      " \n",
      "     \"/home/benoit/CCDC/Discovery_2021/GOLD/gold/d_linux_64/bin/gold_linux_64\" \"/home/benoit/bioactive_conformation_predictor/gold_docking_postprocessing/148/api_gold.conf\"\n",
      "\n",
      "Setting up GOLD environment...\n",
      "GOLD Version 2021.2.0\n",
      "Running:\n",
      " \n",
      "     \"/home/benoit/CCDC/Discovery_2021/GOLD/gold/d_linux_64/bin/gold_linux_64\" \"/home/benoit/bioactive_conformation_predictor/gold_docking_postprocessing/100/api_gold.conf\"\n",
      "\n",
      "Setting up GOLD environment...\n",
      "GOLD Version 2021.2.0\n",
      "Running:\n",
      " \n",
      "     \"/home/benoit/CCDC/Discovery_2021/GOLD/gold/d_linux_64/bin/gold_linux_64\" \"/home/benoit/bioactive_conformation_predictor/gold_docking_postprocessing/76/api_gold.conf\"\n",
      "\n",
      "Setting up GOLD environment...\n",
      "GOLD Version 2021.2.0\n",
      "Running:\n",
      " \n",
      "     \"/home/benoit/CCDC/Discovery_2021/GOLD/gold/d_linux_64/bin/gold_linux_64\" \"/home/benoit/bioactive_conformation_predictor/gold_docking_postprocessing/223/api_gold.conf\"\n",
      "\n",
      "Starting GOLD with conf file /home/benoit/bioactive_conformation_predictor/gold_docking_postprocessing/271/api_gold.conf\n",
      "Setting up GOLD environment...\n",
      "GOLD Version 2021.2.0\n",
      "Running:\n",
      " \n",
      "     \"/home/benoit/CCDC/Discovery_2021/GOLD/gold/d_linux_64/bin/gold_linux_64\" \"/home/benoit/bioactive_conformation_predictor/gold_docking_postprocessing/271/api_gold.conf\"\n",
      "\n",
      "0\n"
     ]
    },
    {
     "name": "stderr",
     "output_type": "stream",
     "text": [
      "RDKit WARNING: [16:56:16] unknown|244|mol2|1|dock84: warning - O.co2 with non C.2 or S.o2 neighbor.\n",
      "RDKit WARNING: [16:56:16] unknown|244|mol2|1|dock22: warning - O.co2 with non C.2 or S.o2 neighbor.\n",
      "[16:56:16] unknown|244|mol2|1|dock84: warning - O.co2 with non C.2 or S.o2 neighbor.\n",
      "[16:56:16] unknown|244|mol2|1|dock22: warning - O.co2 with non C.2 or S.o2 neighbor.\n",
      "RDKit WARNING: [16:56:17] unknown|244|mol2|1|dock48: warning - O.co2 with non C.2 or S.o2 neighbor.\n",
      "RDKit WARNING: [16:56:17] unknown|244|mol2|1|dock70: warning - O.co2 with non C.2 or S.o2 neighbor.\n",
      "[16:56:17] unknown|244|mol2|1|dock48: warning - O.co2 with non C.2 or S.o2 neighbor.\n",
      "[16:56:17] unknown|244|mol2|1|dock70: warning - O.co2 with non C.2 or S.o2 neighbor.\n"
     ]
    },
    {
     "name": "stdout",
     "output_type": "stream",
     "text": [
      "0\n",
      "0\n"
     ]
    },
    {
     "name": "stderr",
     "output_type": "stream",
     "text": [
      "RDKit WARNING: [16:56:17] unknown|244|mol2|1|dock84: warning - O.co2 with non C.2 or S.o2 neighbor.\n",
      "RDKit WARNING: [16:56:17] unknown|244|mol2|1|dock86: warning - O.co2 with non C.2 or S.o2 neighbor.\n"
     ]
    },
    {
     "name": "stdout",
     "output_type": "stream",
     "text": [
      "Starting GOLD with conf file /home/benoit/bioactive_conformation_predictor/gold_docking_postprocessing/245/api_gold.conf\n"
     ]
    },
    {
     "name": "stderr",
     "output_type": "stream",
     "text": [
      "[16:56:17] unknown|244|mol2|1|dock84: warning - O.co2 with non C.2 or S.o2 neighbor.\n",
      "[16:56:17] unknown|244|mol2|1|dock86: warning - O.co2 with non C.2 or S.o2 neighbor.\n"
     ]
    },
    {
     "name": "stdout",
     "output_type": "stream",
     "text": [
      "Setting up GOLD environment...\n",
      "GOLD Version 2021.2.0\n",
      "Running:\n",
      " \n",
      "     \"/home/benoit/CCDC/Discovery_2021/GOLD/gold/d_linux_64/bin/gold_linux_64\" \"/home/benoit/bioactive_conformation_predictor/gold_docking_postprocessing/245/api_gold.conf\"\n",
      "\n",
      "Starting GOLD with conf file /home/benoit/bioactive_conformation_predictor/gold_docking_postprocessing/149/api_gold.conf\n"
     ]
    },
    {
     "name": "stderr",
     "output_type": "stream",
     "text": [
      "RDKit WARNING: [16:56:18] unknown|271|mol2|1|dock76: warning - O.co2 with non C.2 or S.o2 neighbor.\n",
      "RDKit WARNING: [16:56:18] unknown|271|mol2|1|dock54: warning - O.co2 with non C.2 or S.o2 neighbor.\n",
      "[16:56:18] unknown|271|mol2|1|dock76: warning - O.co2 with non C.2 or S.o2 neighbor.\n",
      "[16:56:18] unknown|271|mol2|1|dock54: warning - O.co2 with non C.2 or S.o2 neighbor.\n",
      "RDKit WARNING: [16:56:19] unknown|271|mol2|1|dock89: warning - O.co2 with non C.2 or S.o2 neighbor.\n",
      "RDKit WARNING: [16:56:19] unknown|271|mol2|1|dock94: warning - O.co2 with non C.2 or S.o2 neighbor.\n"
     ]
    },
    {
     "name": "stdout",
     "output_type": "stream",
     "text": [
      "Setting up GOLD environment...\n",
      "GOLD Version 2021.2.0\n",
      "Running:\n",
      " \n",
      "     \"/home/benoit/CCDC/Discovery_2021/GOLD/gold/d_linux_64/bin/gold_linux_64\" \"/home/benoit/bioactive_conformation_predictor/gold_docking_postprocessing/149/api_gold.conf\"\n",
      "\n"
     ]
    },
    {
     "name": "stderr",
     "output_type": "stream",
     "text": [
      "[16:56:19] unknown|271|mol2|1|dock89: warning - O.co2 with non C.2 or S.o2 neighbor.\n",
      "[16:56:19] unknown|271|mol2|1|dock94: warning - O.co2 with non C.2 or S.o2 neighbor.\n",
      "RDKit WARNING: [16:56:19] unknown|271|mol2|1|dock48: warning - O.co2 with non C.2 or S.o2 neighbor.\n",
      "RDKit WARNING: [16:56:19] unknown|271|mol2|1|dock83: warning - O.co2 with non C.2 or S.o2 neighbor.\n"
     ]
    },
    {
     "name": "stdout",
     "output_type": "stream",
     "text": [
      "Starting GOLD with conf file /home/benoit/bioactive_conformation_predictor/gold_docking_postprocessing/272/api_gold.conf\n"
     ]
    },
    {
     "name": "stderr",
     "output_type": "stream",
     "text": [
      "[16:56:19] unknown|271|mol2|1|dock48: warning - O.co2 with non C.2 or S.o2 neighbor.\n",
      "[16:56:19] unknown|271|mol2|1|dock83: warning - O.co2 with non C.2 or S.o2 neighbor.\n"
     ]
    },
    {
     "name": "stdout",
     "output_type": "stream",
     "text": [
      "Setting up GOLD environment...\n",
      "GOLD Version 2021.2.0\n",
      "Running:\n",
      " \n",
      "     \"/home/benoit/CCDC/Discovery_2021/GOLD/gold/d_linux_64/bin/gold_linux_64\" \"/home/benoit/bioactive_conformation_predictor/gold_docking_postprocessing/272/api_gold.conf\"\n",
      "\n",
      "0\n",
      "0\n",
      "0\n",
      "0\n",
      "Starting GOLD with conf file /home/benoit/bioactive_conformation_predictor/gold_docking_postprocessing/77/api_gold.conf\n",
      "Setting up GOLD environment...\n",
      "GOLD Version 2021.2.0\n",
      "Running:\n",
      " \n",
      "     \"/home/benoit/CCDC/Discovery_2021/GOLD/gold/d_linux_64/bin/gold_linux_64\" \"/home/benoit/bioactive_conformation_predictor/gold_docking_postprocessing/77/api_gold.conf\"\n",
      "\n",
      "Starting GOLD with conf file /home/benoit/bioactive_conformation_predictor/gold_docking_postprocessing/150/api_gold.conf\n",
      "Starting GOLD with conf file /home/benoit/bioactive_conformation_predictor/gold_docking_postprocessing/174/api_gold.conf\n",
      "Setting up GOLD environment...\n",
      "GOLD Version 2021.2.0\n",
      "Running:\n",
      " \n",
      "     \"/home/benoit/CCDC/Discovery_2021/GOLD/gold/d_linux_64/bin/gold_linux_64\" \"/home/benoit/bioactive_conformation_predictor/gold_docking_postprocessing/150/api_gold.conf\"\n",
      "\n",
      "Setting up GOLD environment...\n",
      "GOLD Version 2021.2.0\n",
      "Running:\n",
      " \n",
      "     \"/home/benoit/CCDC/Discovery_2021/GOLD/gold/d_linux_64/bin/gold_linux_64\" \"/home/benoit/bioactive_conformation_predictor/gold_docking_postprocessing/174/api_gold.conf\"\n",
      "\n",
      "Starting GOLD with conf file /home/benoit/bioactive_conformation_predictor/gold_docking_postprocessing/199/api_gold.conf\n",
      "Setting up GOLD environment...\n",
      "GOLD Version 2021.2.0\n",
      "Running:\n",
      " \n",
      "     \"/home/benoit/CCDC/Discovery_2021/GOLD/gold/d_linux_64/bin/gold_linux_64\" \"/home/benoit/bioactive_conformation_predictor/gold_docking_postprocessing/199/api_gold.conf\"\n",
      "\n",
      "0\n",
      "0\n",
      "Starting GOLD with conf file /home/benoit/bioactive_conformation_predictor/gold_docking_postprocessing/101/api_gold.conf\n",
      "Setting up GOLD environment...\n",
      "GOLD Version 2021.2.0\n",
      "Running:\n",
      " \n",
      "     \"/home/benoit/CCDC/Discovery_2021/GOLD/gold/d_linux_64/bin/gold_linux_64\" \"/home/benoit/bioactive_conformation_predictor/gold_docking_postprocessing/101/api_gold.conf\"\n",
      "\n",
      "0\n"
     ]
    },
    {
     "name": "stderr",
     "output_type": "stream",
     "text": [
      "RDKit WARNING: [16:56:30] unknown|127|mol2|1|dock30: warning - O.co2 with non C.2 or S.o2 neighbor.\n",
      "RDKit WARNING: [16:56:30] unknown|127|mol2|1|dock62: warning - O.co2 with non C.2 or S.o2 neighbor.\n",
      "[16:56:30] unknown|127|mol2|1|dock30: warning - O.co2 with non C.2 or S.o2 neighbor.\n",
      "[16:56:30] unknown|127|mol2|1|dock62: warning - O.co2 with non C.2 or S.o2 neighbor.\n",
      "RDKit WARNING: [16:56:30] unknown|127|mol2|1|dock71: warning - O.co2 with non C.2 or S.o2 neighbor.\n",
      "RDKit WARNING: [16:56:30] unknown|127|mol2|1|dock26: warning - O.co2 with non C.2 or S.o2 neighbor.\n",
      "[16:56:30] unknown|127|mol2|1|dock71: warning - O.co2 with non C.2 or S.o2 neighbor.\n",
      "[16:56:30] unknown|127|mol2|1|dock26: warning - O.co2 with non C.2 or S.o2 neighbor.\n",
      "RDKit WARNING: [16:56:30] unknown|77|mol2|1|dock87: warning - O.co2 with non C.2 or S.o2 neighbor.\n",
      "RDKit WARNING: [16:56:30] unknown|77|mol2|1|dock89: warning - O.co2 with non C.2 or S.o2 neighbor.\n",
      "[16:56:30] unknown|77|mol2|1|dock87: warning - O.co2 with non C.2 or S.o2 neighbor.\n",
      "[16:56:30] unknown|77|mol2|1|dock89: warning - O.co2 with non C.2 or S.o2 neighbor.\n",
      "RDKit WARNING: [16:56:30] unknown|77|mol2|1|dock64: warning - O.co2 with non C.2 or S.o2 neighbor.\n",
      "RDKit WARNING: [16:56:30] unknown|77|mol2|1|dock15: warning - O.co2 with non C.2 or S.o2 neighbor.\n",
      "RDKit WARNING: [16:56:31] unknown|127|mol2|1|dock65: warning - O.co2 with non C.2 or S.o2 neighbor.\n",
      "RDKit WARNING: [16:56:31] unknown|127|mol2|1|dock62: warning - O.co2 with non C.2 or S.o2 neighbor.\n"
     ]
    },
    {
     "name": "stdout",
     "output_type": "stream",
     "text": [
      "Starting GOLD with conf file /home/benoit/bioactive_conformation_predictor/gold_docking_postprocessing/128/api_gold.conf\n"
     ]
    },
    {
     "name": "stderr",
     "output_type": "stream",
     "text": [
      "RDKit WARNING: [16:56:31] unknown|77|mol2|1|dock89: warning - O.co2 with non C.2 or S.o2 neighbor.\n",
      "RDKit WARNING: [16:56:31] unknown|77|mol2|1|dock89: warning - O.co2 with non C.2 or S.o2 neighbor.\n",
      "[16:56:30] unknown|77|mol2|1|dock64: warning - O.co2 with non C.2 or S.o2 neighbor.\n",
      "[16:56:30] unknown|77|mol2|1|dock15: warning - O.co2 with non C.2 or S.o2 neighbor.\n",
      "[16:56:31] unknown|127|mol2|1|dock65: warning - O.co2 with non C.2 or S.o2 neighbor.\n",
      "[16:56:31] unknown|127|mol2|1|dock62: warning - O.co2 with non C.2 or S.o2 neighbor.\n",
      "[16:56:31] unknown|77|mol2|1|dock89: warning - O.co2 with non C.2 or S.o2 neighbor.\n",
      "[16:56:31] unknown|77|mol2|1|dock89: warning - O.co2 with non C.2 or S.o2 neighbor.\n"
     ]
    },
    {
     "name": "stdout",
     "output_type": "stream",
     "text": [
      "0\n",
      "Starting GOLD with conf file /home/benoit/bioactive_conformation_predictor/gold_docking_postprocessing/78/api_gold.conf\n",
      "Setting up GOLD environment...\n",
      "GOLD Version 2021.2.0\n",
      "Running:\n",
      " \n",
      "     \"/home/benoit/CCDC/Discovery_2021/GOLD/gold/d_linux_64/bin/gold_linux_64\" \"/home/benoit/bioactive_conformation_predictor/gold_docking_postprocessing/128/api_gold.conf\"\n",
      "\n",
      "Setting up GOLD environment...\n",
      "GOLD Version 2021.2.0\n",
      "Running:\n",
      " \n",
      "     \"/home/benoit/CCDC/Discovery_2021/GOLD/gold/d_linux_64/bin/gold_linux_64\" \"/home/benoit/bioactive_conformation_predictor/gold_docking_postprocessing/78/api_gold.conf\"\n",
      "\n",
      "0\n",
      "0\n",
      "0\n",
      "Starting GOLD with conf file /home/benoit/bioactive_conformation_predictor/gold_docking_postprocessing/102/api_gold.conf\n",
      "Setting up GOLD environment...\n",
      "GOLD Version 2021.2.0\n",
      "Running:\n",
      " \n",
      "     \"/home/benoit/CCDC/Discovery_2021/GOLD/gold/d_linux_64/bin/gold_linux_64\" \"/home/benoit/bioactive_conformation_predictor/gold_docking_postprocessing/102/api_gold.conf\"\n",
      "\n",
      "Starting GOLD with conf file /home/benoit/bioactive_conformation_predictor/gold_docking_postprocessing/246/api_gold.conf\n",
      "Setting up GOLD environment...\n",
      "GOLD Version 2021.2.0\n",
      "Running:\n",
      " \n",
      "     \"/home/benoit/CCDC/Discovery_2021/GOLD/gold/d_linux_64/bin/gold_linux_64\" \"/home/benoit/bioactive_conformation_predictor/gold_docking_postprocessing/246/api_gold.conf\"\n",
      "\n",
      "0\n",
      "Starting GOLD with conf file /home/benoit/bioactive_conformation_predictor/gold_docking_postprocessing/224/api_gold.conf\n",
      "0\n",
      "0\n",
      "Setting up GOLD environment...\n",
      "GOLD Version 2021.2.0\n",
      "Running:\n",
      " \n",
      "     \"/home/benoit/CCDC/Discovery_2021/GOLD/gold/d_linux_64/bin/gold_linux_64\" \"/home/benoit/bioactive_conformation_predictor/gold_docking_postprocessing/224/api_gold.conf\"\n",
      "\n",
      "Starting GOLD with conf file /home/benoit/bioactive_conformation_predictor/gold_docking_postprocessing/79/api_gold.conf\n",
      "Error with smiles CC(C)CN(C[C@@H](O)[C@H](Cc1ccccc1)NC(=O)O[C@H]1CO[C@H]2OCC[C@@H]12)S(=O)(=O)c1ccc(B(O)O)cc1\n",
      "'NoneType' object has no attribute 'CalcEnergy'\n",
      "0\n",
      "Starting GOLD with conf file /home/benoit/bioactive_conformation_predictor/gold_docking_postprocessing/55/api_gold.conf\n",
      "Setting up GOLD environment...\n",
      "GOLD Version 2021.2.0\n",
      "Running:\n",
      " \n",
      "     \"/home/benoit/CCDC/Discovery_2021/GOLD/gold/d_linux_64/bin/gold_linux_64\" \"/home/benoit/bioactive_conformation_predictor/gold_docking_postprocessing/79/api_gold.conf\"\n",
      "\n",
      "Setting up GOLD environment...\n",
      "GOLD Version 2021.2.0\n",
      "Running:\n",
      " \n",
      "     \"/home/benoit/CCDC/Discovery_2021/GOLD/gold/d_linux_64/bin/gold_linux_64\" \"/home/benoit/bioactive_conformation_predictor/gold_docking_postprocessing/55/api_gold.conf\"\n",
      "\n",
      "Starting GOLD with conf file /home/benoit/bioactive_conformation_predictor/gold_docking_postprocessing/30/api_gold.conf\n",
      "Setting up GOLD environment...\n",
      "GOLD Version 2021.2.0\n",
      "Running:\n",
      " \n",
      "     \"/home/benoit/CCDC/Discovery_2021/GOLD/gold/d_linux_64/bin/gold_linux_64\" \"/home/benoit/bioactive_conformation_predictor/gold_docking_postprocessing/30/api_gold.conf\"\n",
      "\n",
      "0\n",
      "0\n",
      "Starting GOLD with conf file /home/benoit/bioactive_conformation_predictor/gold_docking_postprocessing/200/api_gold.conf\n",
      "Starting GOLD with conf file /home/benoit/bioactive_conformation_predictor/gold_docking_postprocessing/129/api_gold.conf\n",
      "Setting up GOLD environment...\n",
      "GOLD Version 2021.2.0\n",
      "Running:\n",
      " \n",
      "     \"/home/benoit/CCDC/Discovery_2021/GOLD/gold/d_linux_64/bin/gold_linux_64\" \"/home/benoit/bioactive_conformation_predictor/gold_docking_postprocessing/200/api_gold.conf\"\n",
      "\n",
      "Setting up GOLD environment...\n",
      "GOLD Version 2021.2.0\n",
      "Running:\n",
      " \n",
      "     \"/home/benoit/CCDC/Discovery_2021/GOLD/gold/d_linux_64/bin/gold_linux_64\" \"/home/benoit/bioactive_conformation_predictor/gold_docking_postprocessing/129/api_gold.conf\"\n",
      "\n",
      "Starting GOLD with conf file /home/benoit/bioactive_conformation_predictor/gold_docking_postprocessing/7/api_gold.conf\n",
      "Setting up GOLD environment...\n",
      "GOLD Version 2021.2.0\n",
      "Running:\n",
      " \n",
      "     \"/home/benoit/CCDC/Discovery_2021/GOLD/gold/d_linux_64/bin/gold_linux_64\" \"/home/benoit/bioactive_conformation_predictor/gold_docking_postprocessing/7/api_gold.conf\"\n",
      "\n",
      "Starting GOLD with conf file /home/benoit/bioactive_conformation_predictor/gold_docking_postprocessing/151/api_gold.conf\n",
      "0\n",
      "Setting up GOLD environment...\n",
      "GOLD Version 2021.2.0\n",
      "Running:\n",
      " \n",
      "     \"/home/benoit/CCDC/Discovery_2021/GOLD/gold/d_linux_64/bin/gold_linux_64\" \"/home/benoit/bioactive_conformation_predictor/gold_docking_postprocessing/151/api_gold.conf\"\n",
      "\n",
      "0\n",
      "Starting GOLD with conf file /home/benoit/bioactive_conformation_predictor/gold_docking_postprocessing/247/api_gold.conf\n",
      "Setting up GOLD environment...\n",
      "GOLD Version 2021.2.0\n",
      "Running:\n",
      " \n",
      "     \"/home/benoit/CCDC/Discovery_2021/GOLD/gold/d_linux_64/bin/gold_linux_64\" \"/home/benoit/bioactive_conformation_predictor/gold_docking_postprocessing/247/api_gold.conf\"\n",
      "\n",
      "0\n"
     ]
    },
    {
     "name": "stderr",
     "output_type": "stream",
     "text": [
      "RDKit WARNING: [16:56:46] unknown|174|mol2|1|dock82: warning - O.co2 with non C.2 or S.o2 neighbor.\n",
      "RDKit WARNING: [16:56:46] unknown|174|mol2|1|dock55: warning - O.co2 with non C.2 or S.o2 neighbor.\n"
     ]
    },
    {
     "name": "stdout",
     "output_type": "stream",
     "text": [
      "0\n"
     ]
    },
    {
     "name": "stderr",
     "output_type": "stream",
     "text": [
      "[16:56:46] unknown|174|mol2|1|dock82: warning - O.co2 with non C.2 or S.o2 neighbor.\n",
      "[16:56:46] unknown|174|mol2|1|dock55: warning - O.co2 with non C.2 or S.o2 neighbor.\n",
      "RDKit WARNING: [16:56:47] unknown|174|mol2|1|dock92: warning - O.co2 with non C.2 or S.o2 neighbor.\n",
      "RDKit WARNING: [16:56:47] unknown|174|mol2|1|dock74: warning - O.co2 with non C.2 or S.o2 neighbor.\n"
     ]
    },
    {
     "name": "stdout",
     "output_type": "stream",
     "text": [
      "Starting GOLD with conf file /home/benoit/bioactive_conformation_predictor/gold_docking_postprocessing/225/api_gold.conf\n"
     ]
    },
    {
     "name": "stderr",
     "output_type": "stream",
     "text": [
      "[16:56:47] unknown|174|mol2|1|dock92: warning - O.co2 with non C.2 or S.o2 neighbor.\n",
      "[16:56:47] unknown|174|mol2|1|dock74: warning - O.co2 with non C.2 or S.o2 neighbor.\n"
     ]
    },
    {
     "name": "stdout",
     "output_type": "stream",
     "text": [
      "Setting up GOLD environment...\n",
      "GOLD Version 2021.2.0\n",
      "Running:\n",
      " \n",
      "     \"/home/benoit/CCDC/Discovery_2021/GOLD/gold/d_linux_64/bin/gold_linux_64\" \"/home/benoit/bioactive_conformation_predictor/gold_docking_postprocessing/225/api_gold.conf\"\n",
      "\n"
     ]
    },
    {
     "name": "stderr",
     "output_type": "stream",
     "text": [
      "RDKit WARNING: [16:56:47] unknown|174|mol2|1|dock36: warning - O.co2 with non C.2 or S.o2 neighbor.\n",
      "RDKit WARNING: [16:56:47] unknown|174|mol2|1|dock55: warning - O.co2 with non C.2 or S.o2 neighbor.\n"
     ]
    },
    {
     "name": "stdout",
     "output_type": "stream",
     "text": [
      "Starting GOLD with conf file /home/benoit/bioactive_conformation_predictor/gold_docking_postprocessing/175/api_gold.conf\n",
      "Starting GOLD with conf file /home/benoit/bioactive_conformation_predictor/gold_docking_postprocessing/152/api_gold.conf\n"
     ]
    },
    {
     "name": "stderr",
     "output_type": "stream",
     "text": [
      "[16:56:47] unknown|174|mol2|1|dock36: warning - O.co2 with non C.2 or S.o2 neighbor.\n",
      "[16:56:47] unknown|174|mol2|1|dock55: warning - O.co2 with non C.2 or S.o2 neighbor.\n"
     ]
    },
    {
     "name": "stdout",
     "output_type": "stream",
     "text": [
      "Setting up GOLD environment...\n",
      "GOLD Version 2021.2.0\n",
      "Running:\n",
      " \n",
      "     \"/home/benoit/CCDC/Discovery_2021/GOLD/gold/d_linux_64/bin/gold_linux_64\" \"/home/benoit/bioactive_conformation_predictor/gold_docking_postprocessing/175/api_gold.conf\"\n",
      "\n",
      "Setting up GOLD environment...\n",
      "GOLD Version 2021.2.0\n",
      "Running:\n",
      " \n",
      "     \"/home/benoit/CCDC/Discovery_2021/GOLD/gold/d_linux_64/bin/gold_linux_64\" \"/home/benoit/bioactive_conformation_predictor/gold_docking_postprocessing/152/api_gold.conf\"\n",
      "\n",
      "0\n"
     ]
    },
    {
     "name": "stderr",
     "output_type": "stream",
     "text": [
      "RDKit WARNING: [16:56:54] unknown|30|mol2|1|dock70: warning - O.co2 with non C.2 or S.o2 neighbor.\n",
      "RDKit WARNING: [16:56:54] unknown|30|mol2|1|dock4: warning - O.co2 with non C.2 or S.o2 neighbor.\n",
      "[16:56:54] unknown|30|mol2|1|dock70: warning - O.co2 with non C.2 or S.o2 neighbor.\n",
      "[16:56:54] unknown|30|mol2|1|dock4: warning - O.co2 with non C.2 or S.o2 neighbor.\n",
      "RDKit WARNING: [16:56:54] unknown|30|mol2|1|dock44: warning - O.co2 with non C.2 or S.o2 neighbor.\n",
      "RDKit WARNING: [16:56:54] unknown|30|mol2|1|dock4: warning - O.co2 with non C.2 or S.o2 neighbor.\n",
      "[16:56:54] unknown|30|mol2|1|dock44: warning - O.co2 with non C.2 or S.o2 neighbor.\n",
      "[16:56:54] unknown|30|mol2|1|dock4: warning - O.co2 with non C.2 or S.o2 neighbor.\n",
      "RDKit WARNING: [16:56:54] unknown|30|mol2|1|dock70: warning - O.co2 with non C.2 or S.o2 neighbor.\n",
      "RDKit WARNING: [16:56:54] unknown|30|mol2|1|dock57: warning - O.co2 with non C.2 or S.o2 neighbor.\n",
      "[16:56:54] unknown|30|mol2|1|dock70: warning - O.co2 with non C.2 or S.o2 neighbor.\n",
      "[16:56:54] unknown|30|mol2|1|dock57: warning - O.co2 with non C.2 or S.o2 neighbor.\n"
     ]
    },
    {
     "name": "stdout",
     "output_type": "stream",
     "text": [
      "Starting GOLD with conf file /home/benoit/bioactive_conformation_predictor/gold_docking_postprocessing/31/api_gold.conf\n",
      "0\n",
      "Setting up GOLD environment...\n",
      "GOLD Version 2021.2.0\n",
      "Running:\n",
      " \n",
      "     \"/home/benoit/CCDC/Discovery_2021/GOLD/gold/d_linux_64/bin/gold_linux_64\" \"/home/benoit/bioactive_conformation_predictor/gold_docking_postprocessing/31/api_gold.conf\"\n",
      "\n",
      "Starting GOLD with conf file /home/benoit/bioactive_conformation_predictor/gold_docking_postprocessing/226/api_gold.conf\n",
      "Setting up GOLD environment...\n",
      "GOLD Version 2021.2.0\n",
      "Running:\n",
      " \n",
      "     \"/home/benoit/CCDC/Discovery_2021/GOLD/gold/d_linux_64/bin/gold_linux_64\" \"/home/benoit/bioactive_conformation_predictor/gold_docking_postprocessing/226/api_gold.conf\"\n",
      "\n",
      "0\n",
      "0\n",
      "0\n",
      "0\n",
      "0\n",
      "Starting GOLD with conf file /home/benoit/bioactive_conformation_predictor/gold_docking_postprocessing/80/api_gold.conf\n",
      "Setting up GOLD environment...\n",
      "GOLD Version 2021.2.0\n",
      "Running:\n",
      " \n",
      "     \"/home/benoit/CCDC/Discovery_2021/GOLD/gold/d_linux_64/bin/gold_linux_64\" \"/home/benoit/bioactive_conformation_predictor/gold_docking_postprocessing/80/api_gold.conf\"\n",
      "\n",
      "Starting GOLD with conf file /home/benoit/bioactive_conformation_predictor/gold_docking_postprocessing/130/api_gold.conf\n",
      "Setting up GOLD environment...\n",
      "GOLD Version 2021.2.0\n",
      "Running:\n",
      " \n",
      "     \"/home/benoit/CCDC/Discovery_2021/GOLD/gold/d_linux_64/bin/gold_linux_64\" \"/home/benoit/bioactive_conformation_predictor/gold_docking_postprocessing/130/api_gold.conf\"\n",
      "\n",
      "Starting GOLD with conf file /home/benoit/bioactive_conformation_predictor/gold_docking_postprocessing/248/api_gold.conf\n",
      "0\n",
      "Setting up GOLD environment...\n",
      "GOLD Version 2021.2.0\n",
      "Running:\n",
      " \n",
      "     \"/home/benoit/CCDC/Discovery_2021/GOLD/gold/d_linux_64/bin/gold_linux_64\" \"/home/benoit/bioactive_conformation_predictor/gold_docking_postprocessing/248/api_gold.conf\"\n",
      "\n",
      "Starting GOLD with conf file /home/benoit/bioactive_conformation_predictor/gold_docking_postprocessing/176/api_gold.conf\n",
      "Setting up GOLD environment...\n",
      "GOLD Version 2021.2.0\n",
      "Running:\n",
      " \n",
      "     \"/home/benoit/CCDC/Discovery_2021/GOLD/gold/d_linux_64/bin/gold_linux_64\" \"/home/benoit/bioactive_conformation_predictor/gold_docking_postprocessing/176/api_gold.conf\"\n",
      "\n",
      "0\n",
      "Starting GOLD with conf file /home/benoit/bioactive_conformation_predictor/gold_docking_postprocessing/273/api_gold.conf\n",
      "Setting up GOLD environment...\n",
      "GOLD Version 2021.2.0\n",
      "Running:\n",
      " \n",
      "     \"/home/benoit/CCDC/Discovery_2021/GOLD/gold/d_linux_64/bin/gold_linux_64\" \"/home/benoit/bioactive_conformation_predictor/gold_docking_postprocessing/273/api_gold.conf\"\n",
      "\n",
      "Starting GOLD with conf file /home/benoit/bioactive_conformation_predictor/gold_docking_postprocessing/8/api_gold.conf\n",
      "Setting up GOLD environment...\n",
      "GOLD Version 2021.2.0\n",
      "Running:\n",
      " \n",
      "     \"/home/benoit/CCDC/Discovery_2021/GOLD/gold/d_linux_64/bin/gold_linux_64\" \"/home/benoit/bioactive_conformation_predictor/gold_docking_postprocessing/8/api_gold.conf\"\n",
      "\n",
      "0\n"
     ]
    },
    {
     "name": "stderr",
     "output_type": "stream",
     "text": [
      "RDKit WARNING: [16:57:08] unknown|55|mol2|1|dock66: warning - O.co2 with non C.2 or S.o2 neighbor.\n",
      "RDKit WARNING: [16:57:08] unknown|55|mol2|1|dock66: warning - O.co2 with non C.2 or S.o2 neighbor.\n"
     ]
    },
    {
     "name": "stdout",
     "output_type": "stream",
     "text": [
      "0\n"
     ]
    },
    {
     "name": "stderr",
     "output_type": "stream",
     "text": [
      "[16:57:08] unknown|55|mol2|1|dock66: warning - O.co2 with non C.2 or S.o2 neighbor.\n",
      "[16:57:08] unknown|55|mol2|1|dock66: warning - O.co2 with non C.2 or S.o2 neighbor.\n",
      "RDKit WARNING: [16:57:08] unknown|55|mol2|1|dock39: warning - O.co2 with non C.2 or S.o2 neighbor.\n",
      "RDKit WARNING: [16:57:08] unknown|55|mol2|1|dock30: warning - O.co2 with non C.2 or S.o2 neighbor.\n",
      "[16:57:08] unknown|55|mol2|1|dock39: warning - O.co2 with non C.2 or S.o2 neighbor.\n",
      "[16:57:08] unknown|55|mol2|1|dock30: warning - O.co2 with non C.2 or S.o2 neighbor.\n",
      "RDKit WARNING: [16:57:09] unknown|55|mol2|1|dock77: warning - O.co2 with non C.2 or S.o2 neighbor.\n",
      "RDKit WARNING: [16:57:09] unknown|55|mol2|1|dock52: warning - O.co2 with non C.2 or S.o2 neighbor.\n",
      "[16:57:09] unknown|55|mol2|1|dock77: warning - O.co2 with non C.2 or S.o2 neighbor.\n",
      "[16:57:09] unknown|55|mol2|1|dock52: warning - O.co2 with non C.2 or S.o2 neighbor.\n"
     ]
    },
    {
     "name": "stdout",
     "output_type": "stream",
     "text": [
      "Starting GOLD with conf file /home/benoit/bioactive_conformation_predictor/gold_docking_postprocessing/56/api_gold.conf\n",
      "Setting up GOLD environment...\n",
      "GOLD Version 2021.2.0\n",
      "Running:\n",
      " \n",
      "     \"/home/benoit/CCDC/Discovery_2021/GOLD/gold/d_linux_64/bin/gold_linux_64\" \"/home/benoit/bioactive_conformation_predictor/gold_docking_postprocessing/56/api_gold.conf\"\n",
      "\n",
      "0\n",
      "Starting GOLD with conf file /home/benoit/bioactive_conformation_predictor/gold_docking_postprocessing/153/api_gold.conf\n",
      "Setting up GOLD environment...\n",
      "GOLD Version 2021.2.0\n",
      "Running:\n",
      " \n",
      "     \"/home/benoit/CCDC/Discovery_2021/GOLD/gold/d_linux_64/bin/gold_linux_64\" \"/home/benoit/bioactive_conformation_predictor/gold_docking_postprocessing/153/api_gold.conf\"\n",
      "\n",
      "0\n",
      "0\n",
      "0\n",
      "Starting GOLD with conf file /home/benoit/bioactive_conformation_predictor/gold_docking_postprocessing/32/api_gold.conf\n",
      "Setting up GOLD environment...\n",
      "GOLD Version 2021.2.0\n",
      "Running:\n",
      " \n",
      "     \"/home/benoit/CCDC/Discovery_2021/GOLD/gold/d_linux_64/bin/gold_linux_64\" \"/home/benoit/bioactive_conformation_predictor/gold_docking_postprocessing/32/api_gold.conf\"\n",
      "\n",
      "Starting GOLD with conf file /home/benoit/bioactive_conformation_predictor/gold_docking_postprocessing/201/api_gold.conf\n",
      "Setting up GOLD environment...\n",
      "GOLD Version 2021.2.0\n",
      "Running:\n",
      " \n",
      "     \"/home/benoit/CCDC/Discovery_2021/GOLD/gold/d_linux_64/bin/gold_linux_64\" \"/home/benoit/bioactive_conformation_predictor/gold_docking_postprocessing/201/api_gold.conf\"\n",
      "\n",
      "0\n",
      "0\n",
      "Starting GOLD with conf file /home/benoit/bioactive_conformation_predictor/gold_docking_postprocessing/9/api_gold.conf\n",
      "Starting GOLD with conf file /home/benoit/bioactive_conformation_predictor/gold_docking_postprocessing/103/api_gold.conf\n"
     ]
    },
    {
     "name": "stderr",
     "output_type": "stream",
     "text": [
      "RDKit WARNING: [16:57:16] unknown|226|mol2|1|dock43: warning - O.co2 with non C.2 or S.o2 neighbor.\n",
      "RDKit WARNING: [16:57:16] unknown|226|mol2|1|dock35: warning - O.co2 with non C.2 or S.o2 neighbor.\n"
     ]
    },
    {
     "name": "stdout",
     "output_type": "stream",
     "text": [
      "Setting up GOLD environment...\n",
      "GOLD Version 2021.2.0\n",
      "Running:\n",
      " \n",
      "     \"/home/benoit/CCDC/Discovery_2021/GOLD/gold/d_linux_64/bin/gold_linux_64\" \"/home/benoit/bioactive_conformation_predictor/gold_docking_postprocessing/9/api_gold.conf\"\n",
      "\n",
      "Setting up GOLD environment...\n",
      "GOLD Version 2021.2.0\n",
      "Running:\n",
      " \n",
      "     \"/home/benoit/CCDC/Discovery_2021/GOLD/gold/d_linux_64/bin/gold_linux_64\" \"/home/benoit/bioactive_conformation_predictor/gold_docking_postprocessing/103/api_gold.conf\"\n",
      "\n"
     ]
    },
    {
     "name": "stderr",
     "output_type": "stream",
     "text": [
      "[16:57:16] unknown|226|mol2|1|dock43: warning - O.co2 with non C.2 or S.o2 neighbor.\n",
      "[16:57:16] unknown|226|mol2|1|dock35: warning - O.co2 with non C.2 or S.o2 neighbor.\n"
     ]
    },
    {
     "name": "stdout",
     "output_type": "stream",
     "text": [
      "0\n"
     ]
    },
    {
     "name": "stderr",
     "output_type": "stream",
     "text": [
      "RDKit WARNING: [16:57:16] unknown|226|mol2|1|dock43: warning - O.co2 with non C.2 or S.o2 neighbor.\n",
      "RDKit WARNING: [16:57:16] unknown|226|mol2|1|dock43: warning - O.co2 with non C.2 or S.o2 neighbor.\n",
      "[16:57:16] unknown|226|mol2|1|dock43: warning - O.co2 with non C.2 or S.o2 neighbor.\n",
      "[16:57:16] unknown|226|mol2|1|dock43: warning - O.co2 with non C.2 or S.o2 neighbor.\n",
      "RDKit WARNING: [16:57:16] unknown|226|mol2|1|dock43: warning - O.co2 with non C.2 or S.o2 neighbor.\n",
      "RDKit WARNING: [16:57:16] unknown|226|mol2|1|dock43: warning - O.co2 with non C.2 or S.o2 neighbor.\n"
     ]
    },
    {
     "name": "stdout",
     "output_type": "stream",
     "text": [
      "Starting GOLD with conf file /home/benoit/bioactive_conformation_predictor/gold_docking_postprocessing/227/api_gold.conf\n"
     ]
    },
    {
     "name": "stderr",
     "output_type": "stream",
     "text": [
      "[16:57:16] unknown|226|mol2|1|dock43: warning - O.co2 with non C.2 or S.o2 neighbor.\n",
      "[16:57:16] unknown|226|mol2|1|dock43: warning - O.co2 with non C.2 or S.o2 neighbor.\n"
     ]
    },
    {
     "name": "stdout",
     "output_type": "stream",
     "text": [
      "Setting up GOLD environment...\n",
      "GOLD Version 2021.2.0\n",
      "Running:\n",
      " \n",
      "     \"/home/benoit/CCDC/Discovery_2021/GOLD/gold/d_linux_64/bin/gold_linux_64\" \"/home/benoit/bioactive_conformation_predictor/gold_docking_postprocessing/227/api_gold.conf\"\n",
      "\n",
      "Starting GOLD with conf file /home/benoit/bioactive_conformation_predictor/gold_docking_postprocessing/81/api_gold.conf\n",
      "Starting GOLD with conf file /home/benoit/bioactive_conformation_predictor/gold_docking_postprocessing/131/api_gold.conf\n",
      "Setting up GOLD environment...\n",
      "GOLD Version 2021.2.0\n",
      "Running:\n",
      " \n",
      "     \"/home/benoit/CCDC/Discovery_2021/GOLD/gold/d_linux_64/bin/gold_linux_64\" \"/home/benoit/bioactive_conformation_predictor/gold_docking_postprocessing/81/api_gold.conf\"\n",
      "\n",
      "Setting up GOLD environment...\n",
      "GOLD Version 2021.2.0\n",
      "Running:\n",
      " \n",
      "     \"/home/benoit/CCDC/Discovery_2021/GOLD/gold/d_linux_64/bin/gold_linux_64\" \"/home/benoit/bioactive_conformation_predictor/gold_docking_postprocessing/131/api_gold.conf\"\n",
      "\n",
      "0\n"
     ]
    },
    {
     "name": "stderr",
     "output_type": "stream",
     "text": [
      "RDKit WARNING: [16:57:18] unknown|248|mol2|1|dock93: warning - O.co2 with non C.2 or S.o2 neighbor.\n",
      "RDKit WARNING: [16:57:18] unknown|248|mol2|1|dock19: warning - O.co2 with non C.2 or S.o2 neighbor.\n",
      "[16:57:18] unknown|248|mol2|1|dock93: warning - O.co2 with non C.2 or S.o2 neighbor.\n",
      "[16:57:18] unknown|248|mol2|1|dock19: warning - O.co2 with non C.2 or S.o2 neighbor.\n",
      "RDKit WARNING: [16:57:19] unknown|248|mol2|1|dock46: warning - O.co2 with non C.2 or S.o2 neighbor.\n",
      "RDKit WARNING: [16:57:19] unknown|248|mol2|1|dock7: warning - O.co2 with non C.2 or S.o2 neighbor.\n",
      "[16:57:19] unknown|248|mol2|1|dock46: warning - O.co2 with non C.2 or S.o2 neighbor.\n",
      "[16:57:19] unknown|248|mol2|1|dock7: warning - O.co2 with non C.2 or S.o2 neighbor.\n"
     ]
    },
    {
     "name": "stdout",
     "output_type": "stream",
     "text": [
      "0\n"
     ]
    },
    {
     "name": "stderr",
     "output_type": "stream",
     "text": [
      "RDKit WARNING: [16:57:19] unknown|248|mol2|1|dock8: warning - O.co2 with non C.2 or S.o2 neighbor.\n",
      "RDKit WARNING: [16:57:19] unknown|248|mol2|1|dock7: warning - O.co2 with non C.2 or S.o2 neighbor.\n"
     ]
    },
    {
     "name": "stdout",
     "output_type": "stream",
     "text": [
      "Starting GOLD with conf file /home/benoit/bioactive_conformation_predictor/gold_docking_postprocessing/249/api_gold.conf\n"
     ]
    },
    {
     "name": "stderr",
     "output_type": "stream",
     "text": [
      "[16:57:19] unknown|248|mol2|1|dock8: warning - O.co2 with non C.2 or S.o2 neighbor.\n",
      "[16:57:19] unknown|248|mol2|1|dock7: warning - O.co2 with non C.2 or S.o2 neighbor.\n"
     ]
    },
    {
     "name": "stdout",
     "output_type": "stream",
     "text": [
      "Setting up GOLD environment...\n",
      "GOLD Version 2021.2.0\n",
      "Running:\n",
      " \n",
      "     \"/home/benoit/CCDC/Discovery_2021/GOLD/gold/d_linux_64/bin/gold_linux_64\" \"/home/benoit/bioactive_conformation_predictor/gold_docking_postprocessing/249/api_gold.conf\"\n",
      "\n",
      "Starting GOLD with conf file /home/benoit/bioactive_conformation_predictor/gold_docking_postprocessing/33/api_gold.conf\n",
      "Setting up GOLD environment...\n",
      "GOLD Version 2021.2.0\n",
      "Running:\n",
      " \n",
      "     \"/home/benoit/CCDC/Discovery_2021/GOLD/gold/d_linux_64/bin/gold_linux_64\" \"/home/benoit/bioactive_conformation_predictor/gold_docking_postprocessing/33/api_gold.conf\"\n",
      "\n",
      "0\n",
      "Starting GOLD with conf file /home/benoit/bioactive_conformation_predictor/gold_docking_postprocessing/274/api_gold.conf\n",
      "Setting up GOLD environment...\n",
      "GOLD Version 2021.2.0\n",
      "Running:\n",
      " \n",
      "     \"/home/benoit/CCDC/Discovery_2021/GOLD/gold/d_linux_64/bin/gold_linux_64\" \"/home/benoit/bioactive_conformation_predictor/gold_docking_postprocessing/274/api_gold.conf\"\n",
      "\n",
      "0\n",
      "Starting GOLD with conf file /home/benoit/bioactive_conformation_predictor/gold_docking_postprocessing/177/api_gold.conf\n",
      "Setting up GOLD environment...\n",
      "GOLD Version 2021.2.0\n",
      "Running:\n",
      " \n",
      "     \"/home/benoit/CCDC/Discovery_2021/GOLD/gold/d_linux_64/bin/gold_linux_64\" \"/home/benoit/bioactive_conformation_predictor/gold_docking_postprocessing/177/api_gold.conf\"\n",
      "\n",
      "Starting GOLD with conf file /home/benoit/bioactive_conformation_predictor/gold_docking_postprocessing/82/api_gold.conf\n",
      "Setting up GOLD environment...\n",
      "GOLD Version 2021.2.0\n",
      "Running:\n",
      " \n",
      "     \"/home/benoit/CCDC/Discovery_2021/GOLD/gold/d_linux_64/bin/gold_linux_64\" \"/home/benoit/bioactive_conformation_predictor/gold_docking_postprocessing/82/api_gold.conf\"\n",
      "\n",
      "0\n",
      "0\n",
      "0\n",
      "Error with smiles Nc1cccc(B(O)O)c1\n",
      "'NoneType' object has no attribute 'CalcEnergy'\n",
      "Starting GOLD with conf file /home/benoit/bioactive_conformation_predictor/gold_docking_postprocessing/132/api_gold.conf\n",
      "Starting GOLD with conf file /home/benoit/bioactive_conformation_predictor/gold_docking_postprocessing/250/api_gold.conf\n",
      "Error with smiles O=S(=O)(NCB(O)O)c1ccc(-c2nn[nH]n2)cc1C(F)(F)F\n",
      "'NoneType' object has no attribute 'CalcEnergy'\n",
      "Setting up GOLD environment...\n",
      "GOLD Version 2021.2.0\n",
      "Running:\n",
      " \n",
      "     \"/home/benoit/CCDC/Discovery_2021/GOLD/gold/d_linux_64/bin/gold_linux_64\" \"/home/benoit/bioactive_conformation_predictor/gold_docking_postprocessing/132/api_gold.conf\"\n",
      "\n",
      "Setting up GOLD environment...\n",
      "GOLD Version 2021.2.0\n",
      "Running:\n",
      " \n",
      "     \"/home/benoit/CCDC/Discovery_2021/GOLD/gold/d_linux_64/bin/gold_linux_64\" \"/home/benoit/bioactive_conformation_predictor/gold_docking_postprocessing/250/api_gold.conf\"\n",
      "\n",
      "Starting GOLD with conf file /home/benoit/bioactive_conformation_predictor/gold_docking_postprocessing/57/api_gold.conf\n",
      "Setting up GOLD environment...\n",
      "GOLD Version 2021.2.0\n",
      "Running:\n",
      " \n",
      "     \"/home/benoit/CCDC/Discovery_2021/GOLD/gold/d_linux_64/bin/gold_linux_64\" \"/home/benoit/bioactive_conformation_predictor/gold_docking_postprocessing/57/api_gold.conf\"\n",
      "\n",
      "0\n",
      "0\n"
     ]
    },
    {
     "name": "stderr",
     "output_type": "stream",
     "text": [
      "RDKit WARNING: [16:54:21] sanitise [16:54:21] unknown|96|mol2|1|dock24: [16:54:21] sanitise [16:54:21] unknown|96|mol2|1|dock30: [16:54:21] sanitise [16:54:21] unknown|96|mol2|1|dock41: [16:54:21] sanitise [16:54:21] unknown|96|mol2|1|dock82: [16:54:21] sanitise [16:54:21] unknown|96|mol2|1|dock25: [16:54:21] sanitise [16:54:21] unknown|96|mol2|1|dock51: [16:57:31] unknown|103|mol2|1|dock4: warning - O.co2 with non C.2 or S.o2 neighbor.\n",
      "RDKit WARNING: [16:57:31] unknown|103|mol2|1|dock68: warning - O.co2 with non C.2 or S.o2 neighbor.\n",
      "[16:54:21] sanitise [16:54:21] unknown|96|mol2|1|dock24: [16:54:21] sanitise [16:54:21] unknown|96|mol2|1|dock30: [16:54:21] sanitise [16:54:21] unknown|96|mol2|1|dock41: [16:54:21] sanitise [16:54:21] unknown|96|mol2|1|dock82: [16:54:21] sanitise [16:54:21] unknown|96|mol2|1|dock25: [16:54:21] sanitise [16:54:21] unknown|96|mol2|1|dock51: [16:57:31] unknown|103|mol2|1|dock4: warning - O.co2 with non C.2 or S.o2 neighbor.\n",
      "[16:57:31] unknown|103|mol2|1|dock68: warning - O.co2 with non C.2 or S.o2 neighbor.\n",
      "RDKit WARNING: [16:57:31] unknown|103|mol2|1|dock31: warning - O.co2 with non C.2 or S.o2 neighbor.\n",
      "RDKit WARNING: [16:57:31] unknown|103|mol2|1|dock26: warning - O.co2 with non C.2 or S.o2 neighbor.\n"
     ]
    },
    {
     "name": "stdout",
     "output_type": "stream",
     "text": [
      "0\n",
      "Starting GOLD with conf file /home/benoit/bioactive_conformation_predictor/gold_docking_postprocessing/34/api_gold.conf\n"
     ]
    },
    {
     "name": "stderr",
     "output_type": "stream",
     "text": [
      "[16:57:31] unknown|103|mol2|1|dock31: warning - O.co2 with non C.2 or S.o2 neighbor.\n",
      "[16:57:31] unknown|103|mol2|1|dock26: warning - O.co2 with non C.2 or S.o2 neighbor.\n"
     ]
    },
    {
     "name": "stdout",
     "output_type": "stream",
     "text": [
      "Setting up GOLD environment...\n",
      "GOLD Version 2021.2.0\n",
      "Running:\n",
      " \n",
      "     \"/home/benoit/CCDC/Discovery_2021/GOLD/gold/d_linux_64/bin/gold_linux_64\" \"/home/benoit/bioactive_conformation_predictor/gold_docking_postprocessing/34/api_gold.conf\"\n",
      "\n"
     ]
    },
    {
     "name": "stderr",
     "output_type": "stream",
     "text": [
      "RDKit WARNING: [16:57:32] unknown|103|mol2|1|dock71: warning - O.co2 with non C.2 or S.o2 neighbor.\n",
      "RDKit WARNING: [16:57:32] unknown|103|mol2|1|dock26: warning - O.co2 with non C.2 or S.o2 neighbor.\n"
     ]
    },
    {
     "name": "stdout",
     "output_type": "stream",
     "text": [
      "Starting GOLD with conf file /home/benoit/bioactive_conformation_predictor/gold_docking_postprocessing/104/api_gold.conf\n"
     ]
    },
    {
     "name": "stderr",
     "output_type": "stream",
     "text": [
      "[16:57:32] unknown|103|mol2|1|dock71: warning - O.co2 with non C.2 or S.o2 neighbor.\n",
      "[16:57:32] unknown|103|mol2|1|dock26: warning - O.co2 with non C.2 or S.o2 neighbor.\n"
     ]
    },
    {
     "name": "stdout",
     "output_type": "stream",
     "text": [
      "Setting up GOLD environment...\n",
      "GOLD Version 2021.2.0\n",
      "Running:\n",
      " \n",
      "     \"/home/benoit/CCDC/Discovery_2021/GOLD/gold/d_linux_64/bin/gold_linux_64\" \"/home/benoit/bioactive_conformation_predictor/gold_docking_postprocessing/104/api_gold.conf\"\n",
      "\n",
      "Starting GOLD with conf file /home/benoit/bioactive_conformation_predictor/gold_docking_postprocessing/154/api_gold.conf\n",
      "0\n",
      "Setting up GOLD environment...\n",
      "GOLD Version 2021.2.0\n",
      "Running:\n",
      " \n",
      "     \"/home/benoit/CCDC/Discovery_2021/GOLD/gold/d_linux_64/bin/gold_linux_64\" \"/home/benoit/bioactive_conformation_predictor/gold_docking_postprocessing/154/api_gold.conf\"\n",
      "\n",
      "0\n",
      "0\n",
      "0\n",
      "0\n",
      "Starting GOLD with conf file /home/benoit/bioactive_conformation_predictor/gold_docking_postprocessing/10/api_gold.conf\n",
      "Setting up GOLD environment...\n",
      "GOLD Version 2021.2.0\n",
      "Running:\n",
      " \n",
      "     \"/home/benoit/CCDC/Discovery_2021/GOLD/gold/d_linux_64/bin/gold_linux_64\" \"/home/benoit/bioactive_conformation_predictor/gold_docking_postprocessing/10/api_gold.conf\"\n",
      "\n",
      "Starting GOLD with conf file /home/benoit/bioactive_conformation_predictor/gold_docking_postprocessing/35/api_gold.conf\n",
      "Setting up GOLD environment...\n",
      "GOLD Version 2021.2.0\n",
      "Running:\n",
      " \n",
      "     \"/home/benoit/CCDC/Discovery_2021/GOLD/gold/d_linux_64/bin/gold_linux_64\" \"/home/benoit/bioactive_conformation_predictor/gold_docking_postprocessing/35/api_gold.conf\"\n",
      "\n",
      "Starting GOLD with conf file /home/benoit/bioactive_conformation_predictor/gold_docking_postprocessing/133/api_gold.conf\n",
      "Starting GOLD with conf file /home/benoit/bioactive_conformation_predictor/gold_docking_postprocessing/202/api_gold.conf\n",
      "Setting up GOLD environment...\n",
      "GOLD Version 2021.2.0\n",
      "Running:\n",
      " \n",
      "     \"/home/benoit/CCDC/Discovery_2021/GOLD/gold/d_linux_64/bin/gold_linux_64\" \"/home/benoit/bioactive_conformation_predictor/gold_docking_postprocessing/133/api_gold.conf\"\n",
      "\n",
      "0\n",
      "Setting up GOLD environment...\n",
      "GOLD Version 2021.2.0\n",
      "Running:\n",
      " \n",
      "     \"/home/benoit/CCDC/Discovery_2021/GOLD/gold/d_linux_64/bin/gold_linux_64\" \"/home/benoit/bioactive_conformation_predictor/gold_docking_postprocessing/202/api_gold.conf\"\n",
      "\n",
      "0\n",
      "Starting GOLD with conf file /home/benoit/bioactive_conformation_predictor/gold_docking_postprocessing/228/api_gold.conf\n",
      "Setting up GOLD environment...\n",
      "GOLD Version 2021.2.0\n",
      "Running:\n",
      " \n",
      "     \"/home/benoit/CCDC/Discovery_2021/GOLD/gold/d_linux_64/bin/gold_linux_64\" \"/home/benoit/bioactive_conformation_predictor/gold_docking_postprocessing/228/api_gold.conf\"\n",
      "\n",
      "0\n",
      "Starting GOLD with conf file /home/benoit/bioactive_conformation_predictor/gold_docking_postprocessing/83/api_gold.conf\n",
      "Starting GOLD with conf file /home/benoit/bioactive_conformation_predictor/gold_docking_postprocessing/36/api_gold.conf\n",
      "Setting up GOLD environment...\n",
      "GOLD Version 2021.2.0\n",
      "Running:\n",
      " \n",
      "     \"/home/benoit/CCDC/Discovery_2021/GOLD/gold/d_linux_64/bin/gold_linux_64\" \"/home/benoit/bioactive_conformation_predictor/gold_docking_postprocessing/83/api_gold.conf\"\n",
      "\n",
      "Setting up GOLD environment...\n",
      "GOLD Version 2021.2.0\n",
      "Running:\n",
      " \n",
      "     \"/home/benoit/CCDC/Discovery_2021/GOLD/gold/d_linux_64/bin/gold_linux_64\" \"/home/benoit/bioactive_conformation_predictor/gold_docking_postprocessing/36/api_gold.conf\"\n",
      "\n",
      "0\n",
      "Starting GOLD with conf file /home/benoit/bioactive_conformation_predictor/gold_docking_postprocessing/251/api_gold.conf\n",
      "0\n",
      "Setting up GOLD environment...\n",
      "GOLD Version 2021.2.0\n",
      "Running:\n",
      " \n",
      "     \"/home/benoit/CCDC/Discovery_2021/GOLD/gold/d_linux_64/bin/gold_linux_64\" \"/home/benoit/bioactive_conformation_predictor/gold_docking_postprocessing/251/api_gold.conf\"\n",
      "\n"
     ]
    },
    {
     "name": "stderr",
     "output_type": "stream",
     "text": [
      "RDKit WARNING: [16:57:47] unknown|104|mol2|1|dock3: warning - O.co2 with non C.2 or S.o2 neighbor.\n",
      "RDKit WARNING: [16:57:47] unknown|104|mol2|1|dock49: warning - O.co2 with non C.2 or S.o2 neighbor.\n",
      "[16:57:47] unknown|104|mol2|1|dock3: warning - O.co2 with non C.2 or S.o2 neighbor.\n",
      "[16:57:47] unknown|104|mol2|1|dock49: warning - O.co2 with non C.2 or S.o2 neighbor.\n",
      "RDKit WARNING: [16:57:47] unknown|104|mol2|1|dock49: warning - O.co2 with non C.2 or S.o2 neighbor.\n",
      "RDKit WARNING: [16:57:47] unknown|104|mol2|1|dock5: warning - O.co2 with non C.2 or S.o2 neighbor.\n",
      "[16:57:47] unknown|104|mol2|1|dock49: warning - O.co2 with non C.2 or S.o2 neighbor.\n",
      "[16:57:47] unknown|104|mol2|1|dock5: warning - O.co2 with non C.2 or S.o2 neighbor.\n"
     ]
    },
    {
     "name": "stdout",
     "output_type": "stream",
     "text": [
      "0\n"
     ]
    },
    {
     "name": "stderr",
     "output_type": "stream",
     "text": [
      "RDKit WARNING: [16:57:48] unknown|104|mol2|1|dock3: warning - O.co2 with non C.2 or S.o2 neighbor.\n",
      "RDKit WARNING: [16:57:48] unknown|104|mol2|1|dock49: warning - O.co2 with non C.2 or S.o2 neighbor.\n"
     ]
    },
    {
     "name": "stdout",
     "output_type": "stream",
     "text": [
      "Starting GOLD with conf file /home/benoit/bioactive_conformation_predictor/gold_docking_postprocessing/155/api_gold.conf\n"
     ]
    },
    {
     "name": "stderr",
     "output_type": "stream",
     "text": [
      "[16:57:48] unknown|104|mol2|1|dock3: warning - O.co2 with non C.2 or S.o2 neighbor.\n",
      "[16:57:48] unknown|104|mol2|1|dock49: warning - O.co2 with non C.2 or S.o2 neighbor.\n"
     ]
    },
    {
     "name": "stdout",
     "output_type": "stream",
     "text": [
      "Setting up GOLD environment...\n",
      "GOLD Version 2021.2.0\n",
      "Running:\n",
      " \n",
      "     \"/home/benoit/CCDC/Discovery_2021/GOLD/gold/d_linux_64/bin/gold_linux_64\" \"/home/benoit/bioactive_conformation_predictor/gold_docking_postprocessing/155/api_gold.conf\"\n",
      "\n",
      "Starting GOLD with conf file /home/benoit/bioactive_conformation_predictor/gold_docking_postprocessing/105/api_gold.conf\n",
      "Setting up GOLD environment...\n",
      "GOLD Version 2021.2.0\n",
      "Running:\n",
      " \n",
      "     \"/home/benoit/CCDC/Discovery_2021/GOLD/gold/d_linux_64/bin/gold_linux_64\" \"/home/benoit/bioactive_conformation_predictor/gold_docking_postprocessing/105/api_gold.conf\"\n",
      "\n",
      "0\n",
      "Starting GOLD with conf file /home/benoit/bioactive_conformation_predictor/gold_docking_postprocessing/11/api_gold.conf\n",
      "0\n",
      "Setting up GOLD environment...\n",
      "GOLD Version 2021.2.0\n",
      "Running:\n",
      " \n",
      "     \"/home/benoit/CCDC/Discovery_2021/GOLD/gold/d_linux_64/bin/gold_linux_64\" \"/home/benoit/bioactive_conformation_predictor/gold_docking_postprocessing/11/api_gold.conf\"\n",
      "\n",
      "Starting GOLD with conf file /home/benoit/bioactive_conformation_predictor/gold_docking_postprocessing/134/api_gold.conf\n",
      "Starting GOLD with conf file /home/benoit/bioactive_conformation_predictor/gold_docking_postprocessing/58/api_gold.conf\n",
      "Setting up GOLD environment...\n",
      "GOLD Version 2021.2.0\n",
      "Running:\n",
      " \n",
      "     \"/home/benoit/CCDC/Discovery_2021/GOLD/gold/d_linux_64/bin/gold_linux_64\" \"/home/benoit/bioactive_conformation_predictor/gold_docking_postprocessing/134/api_gold.conf\"\n",
      "\n",
      "Setting up GOLD environment...\n",
      "GOLD Version 2021.2.0\n",
      "Running:\n",
      " \n",
      "     \"/home/benoit/CCDC/Discovery_2021/GOLD/gold/d_linux_64/bin/gold_linux_64\" \"/home/benoit/bioactive_conformation_predictor/gold_docking_postprocessing/58/api_gold.conf\"\n",
      "\n",
      "0\n",
      "Starting GOLD with conf file /home/benoit/bioactive_conformation_predictor/gold_docking_postprocessing/203/api_gold.conf\n",
      "Setting up GOLD environment...\n",
      "GOLD Version 2021.2.0\n",
      "Running:\n",
      " \n",
      "     \"/home/benoit/CCDC/Discovery_2021/GOLD/gold/d_linux_64/bin/gold_linux_64\" \"/home/benoit/bioactive_conformation_predictor/gold_docking_postprocessing/203/api_gold.conf\"\n",
      "\n",
      "0\n",
      "0\n",
      "Starting GOLD with conf file /home/benoit/bioactive_conformation_predictor/gold_docking_postprocessing/59/api_gold.conf\n",
      "0\n",
      "Setting up GOLD environment...\n",
      "GOLD Version 2021.2.0\n",
      "Running:\n",
      " \n",
      "     \"/home/benoit/CCDC/Discovery_2021/GOLD/gold/d_linux_64/bin/gold_linux_64\" \"/home/benoit/bioactive_conformation_predictor/gold_docking_postprocessing/59/api_gold.conf\"\n",
      "\n",
      "0\n",
      "0\n",
      "0\n",
      "Starting GOLD with conf file /home/benoit/bioactive_conformation_predictor/gold_docking_postprocessing/37/api_gold.conf\n",
      "Starting GOLD with conf file /home/benoit/bioactive_conformation_predictor/gold_docking_postprocessing/275/api_gold.conf\n",
      "Setting up GOLD environment...\n",
      "Setting up GOLD environment...\n",
      "GOLD Version 2021.2.0\n",
      "Running:\n",
      " \n",
      "     \"/home/benoit/CCDC/Discovery_2021/GOLD/gold/d_linux_64/bin/gold_linux_64\" \"/home/benoit/bioactive_conformation_predictor/gold_docking_postprocessing/275/api_gold.conf\"\n",
      "\n",
      "GOLD Version 2021.2.0\n",
      "Running:\n",
      " \n",
      "     \"/home/benoit/CCDC/Discovery_2021/GOLD/gold/d_linux_64/bin/gold_linux_64\" \"/home/benoit/bioactive_conformation_predictor/gold_docking_postprocessing/37/api_gold.conf\"\n",
      "\n",
      "0\n",
      "0\n"
     ]
    },
    {
     "name": "stderr",
     "output_type": "stream",
     "text": [
      "RDKit ERROR: [16:58:04] non-ring atom 13 marked aromatic\n",
      "RDKit ERROR: [16:58:04] non-ring atom 13 marked aromatic\n",
      "[16:58:04] non-ring atom 13 marked aromatic\n",
      "[16:58:04] non-ring atom 13 marked aromatic\n",
      "RDKit ERROR: [16:58:05] non-ring atom 13 marked aromatic\n",
      "RDKit ERROR: [16:58:05] non-ring atom 13 marked aromatic\n",
      "[16:58:05] non-ring atom 13 marked aromatic\n",
      "[16:58:05] non-ring atom 13 marked aromatic\n"
     ]
    },
    {
     "name": "stdout",
     "output_type": "stream",
     "text": [
      "Starting GOLD with conf file /home/benoit/bioactive_conformation_predictor/gold_docking_postprocessing/12/api_gold.conf\n"
     ]
    },
    {
     "name": "stderr",
     "output_type": "stream",
     "text": [
      "RDKit ERROR: [16:58:05] non-ring atom 13 marked aromatic\n",
      "RDKit ERROR: [16:58:05] non-ring atom 13 marked aromatic\n"
     ]
    },
    {
     "name": "stdout",
     "output_type": "stream",
     "text": [
      "Setting up GOLD environment...\n",
      "GOLD Version 2021.2.0\n",
      "Running:\n",
      " \n",
      "     \"/home/benoit/CCDC/Discovery_2021/GOLD/gold/d_linux_64/bin/gold_linux_64\" \"/home/benoit/bioactive_conformation_predictor/gold_docking_postprocessing/12/api_gold.conf\"\n",
      "\n",
      "Starting GOLD with conf file /home/benoit/bioactive_conformation_predictor/gold_docking_postprocessing/229/api_gold.conf\n"
     ]
    },
    {
     "name": "stderr",
     "output_type": "stream",
     "text": [
      "[16:58:05] non-ring atom 13 marked aromatic\n",
      "[16:58:05] non-ring atom 13 marked aromatic\n"
     ]
    },
    {
     "name": "stdout",
     "output_type": "stream",
     "text": [
      "Setting up GOLD environment...\n",
      "GOLD Version 2021.2.0\n",
      "Running:\n",
      " \n",
      "     \"/home/benoit/CCDC/Discovery_2021/GOLD/gold/d_linux_64/bin/gold_linux_64\" \"/home/benoit/bioactive_conformation_predictor/gold_docking_postprocessing/229/api_gold.conf\"\n",
      "\n",
      "Starting GOLD with conf file /home/benoit/bioactive_conformation_predictor/gold_docking_postprocessing/135/api_gold.conf\n",
      "Setting up GOLD environment...\n",
      "GOLD Version 2021.2.0\n",
      "Running:\n",
      " \n",
      "     \"/home/benoit/CCDC/Discovery_2021/GOLD/gold/d_linux_64/bin/gold_linux_64\" \"/home/benoit/bioactive_conformation_predictor/gold_docking_postprocessing/135/api_gold.conf\"\n",
      "\n",
      "Starting GOLD with conf file /home/benoit/bioactive_conformation_predictor/gold_docking_postprocessing/178/api_gold.conf\n",
      "Setting up GOLD environment...\n",
      "GOLD Version 2021.2.0\n",
      "Running:\n",
      " \n",
      "     \"/home/benoit/CCDC/Discovery_2021/GOLD/gold/d_linux_64/bin/gold_linux_64\" \"/home/benoit/bioactive_conformation_predictor/gold_docking_postprocessing/178/api_gold.conf\"\n",
      "\n",
      "Starting GOLD with conf file /home/benoit/bioactive_conformation_predictor/gold_docking_postprocessing/252/api_gold.conf\n",
      "Setting up GOLD environment...\n",
      "GOLD Version 2021.2.0\n",
      "Running:\n",
      " \n",
      "     \"/home/benoit/CCDC/Discovery_2021/GOLD/gold/d_linux_64/bin/gold_linux_64\" \"/home/benoit/bioactive_conformation_predictor/gold_docking_postprocessing/252/api_gold.conf\"\n",
      "\n",
      "0\n",
      "0\n",
      "0\n",
      "Starting GOLD with conf file /home/benoit/bioactive_conformation_predictor/gold_docking_postprocessing/38/api_gold.conf\n",
      "Setting up GOLD environment...\n",
      "GOLD Version 2021.2.0\n",
      "Running:\n",
      " \n",
      "     \"/home/benoit/CCDC/Discovery_2021/GOLD/gold/d_linux_64/bin/gold_linux_64\" \"/home/benoit/bioactive_conformation_predictor/gold_docking_postprocessing/38/api_gold.conf\"\n",
      "\n",
      "0\n",
      "Starting GOLD with conf file /home/benoit/bioactive_conformation_predictor/gold_docking_postprocessing/230/api_gold.conf\n",
      "Setting up GOLD environment...\n",
      "GOLD Version 2021.2.0\n",
      "Running:\n",
      " \n",
      "     \"/home/benoit/CCDC/Discovery_2021/GOLD/gold/d_linux_64/bin/gold_linux_64\" \"/home/benoit/bioactive_conformation_predictor/gold_docking_postprocessing/230/api_gold.conf\"\n",
      "\n",
      "Starting GOLD with conf file /home/benoit/bioactive_conformation_predictor/gold_docking_postprocessing/156/api_gold.conf\n",
      "0\n",
      "Setting up GOLD environment...\n",
      "GOLD Version 2021.2.0\n",
      "Running:\n",
      " \n",
      "     \"/home/benoit/CCDC/Discovery_2021/GOLD/gold/d_linux_64/bin/gold_linux_64\" \"/home/benoit/bioactive_conformation_predictor/gold_docking_postprocessing/156/api_gold.conf\"\n",
      "\n",
      "Starting GOLD with conf file /home/benoit/bioactive_conformation_predictor/gold_docking_postprocessing/60/api_gold.conf\n",
      "Setting up GOLD environment...\n",
      "GOLD Version 2021.2.0\n",
      "Running:\n",
      " \n",
      "     \"/home/benoit/CCDC/Discovery_2021/GOLD/gold/d_linux_64/bin/gold_linux_64\" \"/home/benoit/bioactive_conformation_predictor/gold_docking_postprocessing/60/api_gold.conf\"\n",
      "\n",
      "0\n",
      "0\n"
     ]
    },
    {
     "name": "stderr",
     "output_type": "stream",
     "text": [
      "RDKit WARNING: [16:58:15] unknown|105|mol2|1|dock31: warning - O.co2 with non C.2 or S.o2 neighbor.\n",
      "RDKit WARNING: [16:58:15] unknown|105|mol2|1|dock40: warning - O.co2 with non C.2 or S.o2 neighbor.\n",
      "[16:58:15] unknown|105|mol2|1|dock31: warning - O.co2 with non C.2 or S.o2 neighbor.\n",
      "[16:58:15] unknown|105|mol2|1|dock40: warning - O.co2 with non C.2 or S.o2 neighbor.\n",
      "RDKit WARNING: [16:58:16] unknown|105|mol2|1|dock9: warning - O.co2 with non C.2 or S.o2 neighbor.\n",
      "RDKit WARNING: [16:58:16] unknown|105|mol2|1|dock35: warning - O.co2 with non C.2 or S.o2 neighbor.\n",
      "[16:58:16] unknown|105|mol2|1|dock9: warning - O.co2 with non C.2 or S.o2 neighbor.\n",
      "[16:58:16] unknown|105|mol2|1|dock35: warning - O.co2 with non C.2 or S.o2 neighbor.\n",
      "RDKit WARNING: [16:58:16] unknown|105|mol2|1|dock59: warning - O.co2 with non C.2 or S.o2 neighbor.\n",
      "RDKit WARNING: [16:58:16] unknown|105|mol2|1|dock67: warning - O.co2 with non C.2 or S.o2 neighbor.\n"
     ]
    },
    {
     "name": "stdout",
     "output_type": "stream",
     "text": [
      "Starting GOLD with conf file /home/benoit/bioactive_conformation_predictor/gold_docking_postprocessing/106/api_gold.conf\n"
     ]
    },
    {
     "name": "stderr",
     "output_type": "stream",
     "text": [
      "[16:58:16] unknown|105|mol2|1|dock59: warning - O.co2 with non C.2 or S.o2 neighbor.\n",
      "[16:58:16] unknown|105|mol2|1|dock67: warning - O.co2 with non C.2 or S.o2 neighbor.\n"
     ]
    },
    {
     "name": "stdout",
     "output_type": "stream",
     "text": [
      "Setting up GOLD environment...\n",
      "GOLD Version 2021.2.0\n",
      "Running:\n",
      " \n",
      "     \"/home/benoit/CCDC/Discovery_2021/GOLD/gold/d_linux_64/bin/gold_linux_64\" \"/home/benoit/bioactive_conformation_predictor/gold_docking_postprocessing/106/api_gold.conf\"\n",
      "\n",
      "Starting GOLD with conf file /home/benoit/bioactive_conformation_predictor/gold_docking_postprocessing/179/api_gold.conf\n",
      "Setting up GOLD environment...\n",
      "GOLD Version 2021.2.0\n",
      "Running:\n",
      " \n",
      "     \"/home/benoit/CCDC/Discovery_2021/GOLD/gold/d_linux_64/bin/gold_linux_64\" \"/home/benoit/bioactive_conformation_predictor/gold_docking_postprocessing/179/api_gold.conf\"\n",
      "\n",
      "0\n",
      "Starting GOLD with conf file /home/benoit/bioactive_conformation_predictor/gold_docking_postprocessing/204/api_gold.conf\n",
      "Setting up GOLD environment...\n",
      "GOLD Version 2021.2.0\n",
      "Running:\n",
      " \n",
      "     \"/home/benoit/CCDC/Discovery_2021/GOLD/gold/d_linux_64/bin/gold_linux_64\" \"/home/benoit/bioactive_conformation_predictor/gold_docking_postprocessing/204/api_gold.conf\"\n",
      "\n",
      "0\n",
      "0\n",
      "Starting GOLD with conf file /home/benoit/bioactive_conformation_predictor/gold_docking_postprocessing/253/api_gold.conf\n",
      "Setting up GOLD environment...\n",
      "GOLD Version 2021.2.0\n",
      "Running:\n",
      " \n",
      "     \"/home/benoit/CCDC/Discovery_2021/GOLD/gold/d_linux_64/bin/gold_linux_64\" \"/home/benoit/bioactive_conformation_predictor/gold_docking_postprocessing/253/api_gold.conf\"\n",
      "\n",
      "0\n",
      "Starting GOLD with conf file /home/benoit/bioactive_conformation_predictor/gold_docking_postprocessing/39/api_gold.conf\n",
      "Setting up GOLD environment...\n",
      "GOLD Version 2021.2.0\n",
      "Running:\n",
      " \n",
      "     \"/home/benoit/CCDC/Discovery_2021/GOLD/gold/d_linux_64/bin/gold_linux_64\" \"/home/benoit/bioactive_conformation_predictor/gold_docking_postprocessing/39/api_gold.conf\"\n",
      "\n",
      "Starting GOLD with conf file /home/benoit/bioactive_conformation_predictor/gold_docking_postprocessing/276/api_gold.conf\n",
      "Setting up GOLD environment...\n",
      "GOLD Version 2021.2.0\n",
      "Running:\n",
      " \n",
      "     \"/home/benoit/CCDC/Discovery_2021/GOLD/gold/d_linux_64/bin/gold_linux_64\" \"/home/benoit/bioactive_conformation_predictor/gold_docking_postprocessing/276/api_gold.conf\"\n",
      "\n",
      "0\n",
      "0\n",
      "0\n",
      "Starting GOLD with conf file /home/benoit/bioactive_conformation_predictor/gold_docking_postprocessing/84/api_gold.conf\n",
      "Starting GOLD with conf file /home/benoit/bioactive_conformation_predictor/gold_docking_postprocessing/157/api_gold.conf\n",
      "Setting up GOLD environment...\n",
      "GOLD Version 2021.2.0\n",
      "Running:\n",
      " \n",
      "     \"/home/benoit/CCDC/Discovery_2021/GOLD/gold/d_linux_64/bin/gold_linux_64\" \"/home/benoit/bioactive_conformation_predictor/gold_docking_postprocessing/84/api_gold.conf\"\n",
      "\n",
      "Setting up GOLD environment...\n",
      "GOLD Version 2021.2.0\n",
      "Running:\n",
      " \n",
      "     \"/home/benoit/CCDC/Discovery_2021/GOLD/gold/d_linux_64/bin/gold_linux_64\" \"/home/benoit/bioactive_conformation_predictor/gold_docking_postprocessing/157/api_gold.conf\"\n",
      "\n",
      "Starting GOLD with conf file /home/benoit/bioactive_conformation_predictor/gold_docking_postprocessing/107/api_gold.conf\n",
      "Starting GOLD with conf file /home/benoit/bioactive_conformation_predictor/gold_docking_postprocessing/231/api_gold.conf\n",
      "Setting up GOLD environment...\n",
      "GOLD Version 2021.2.0\n",
      "Running:\n",
      " \n",
      "     \"/home/benoit/CCDC/Discovery_2021/GOLD/gold/d_linux_64/bin/gold_linux_64\" \"/home/benoit/bioactive_conformation_predictor/gold_docking_postprocessing/107/api_gold.conf\"\n",
      "\n",
      "Setting up GOLD environment...\n",
      "GOLD Version 2021.2.0\n",
      "Running:\n",
      " \n",
      "     \"/home/benoit/CCDC/Discovery_2021/GOLD/gold/d_linux_64/bin/gold_linux_64\" \"/home/benoit/bioactive_conformation_predictor/gold_docking_postprocessing/231/api_gold.conf\"\n",
      "\n",
      "0\n",
      "Starting GOLD with conf file /home/benoit/bioactive_conformation_predictor/gold_docking_postprocessing/254/api_gold.conf\n",
      "Setting up GOLD environment...\n",
      "GOLD Version 2021.2.0\n",
      "Running:\n",
      " \n",
      "     \"/home/benoit/CCDC/Discovery_2021/GOLD/gold/d_linux_64/bin/gold_linux_64\" \"/home/benoit/bioactive_conformation_predictor/gold_docking_postprocessing/254/api_gold.conf\"\n",
      "\n",
      "0\n",
      "0\n",
      "0\n",
      "Starting GOLD with conf file /home/benoit/bioactive_conformation_predictor/gold_docking_postprocessing/180/api_gold.conf\n",
      "Setting up GOLD environment...\n",
      "GOLD Version 2021.2.0\n",
      "Running:\n",
      " \n",
      "     \"/home/benoit/CCDC/Discovery_2021/GOLD/gold/d_linux_64/bin/gold_linux_64\" \"/home/benoit/bioactive_conformation_predictor/gold_docking_postprocessing/180/api_gold.conf\"\n",
      "\n",
      "Starting GOLD with conf file /home/benoit/bioactive_conformation_predictor/gold_docking_postprocessing/205/api_gold.conf\n",
      "0\n",
      "Setting up GOLD environment...\n",
      "GOLD Version 2021.2.0\n",
      "Running:\n",
      " \n",
      "     \"/home/benoit/CCDC/Discovery_2021/GOLD/gold/d_linux_64/bin/gold_linux_64\" \"/home/benoit/bioactive_conformation_predictor/gold_docking_postprocessing/205/api_gold.conf\"\n",
      "\n",
      "0\n",
      "0\n",
      "Starting GOLD with conf file /home/benoit/bioactive_conformation_predictor/gold_docking_postprocessing/108/api_gold.conf\n",
      "0\n",
      "Setting up GOLD environment...\n",
      "GOLD Version 2021.2.0\n",
      "Running:\n",
      " \n",
      "     \"/home/benoit/CCDC/Discovery_2021/GOLD/gold/d_linux_64/bin/gold_linux_64\" \"/home/benoit/bioactive_conformation_predictor/gold_docking_postprocessing/108/api_gold.conf\"\n",
      "\n",
      "Error with smiles CC12C3(C)[C@]4(C)[C@@]5(C)[C@]1(C)[Ir+9]23451([ClH+])[n+]2ccc(O)cc2C(=O)[N@H+]1/C=C/c1ccc(S(N)(=O)=O)cc1\n",
      "'NoneType' object has no attribute 'CalcEnergy'\n",
      "Starting GOLD with conf file /home/benoit/bioactive_conformation_predictor/gold_docking_postprocessing/277/api_gold.conf\n",
      "Setting up GOLD environment...\n",
      "GOLD Version 2021.2.0\n",
      "Running:\n",
      " \n",
      "     \"/home/benoit/CCDC/Discovery_2021/GOLD/gold/d_linux_64/bin/gold_linux_64\" \"/home/benoit/bioactive_conformation_predictor/gold_docking_postprocessing/277/api_gold.conf\"\n",
      "\n",
      "Starting GOLD with conf file /home/benoit/bioactive_conformation_predictor/gold_docking_postprocessing/255/api_gold.conf\n",
      "Setting up GOLD environment...\n",
      "GOLD Version 2021.2.0\n",
      "Running:\n",
      " \n",
      "     \"/home/benoit/CCDC/Discovery_2021/GOLD/gold/d_linux_64/bin/gold_linux_64\" \"/home/benoit/bioactive_conformation_predictor/gold_docking_postprocessing/255/api_gold.conf\"\n",
      "\n",
      "Starting GOLD with conf file /home/benoit/bioactive_conformation_predictor/gold_docking_postprocessing/136/api_gold.conf\n",
      "Setting up GOLD environment...\n",
      "GOLD Version 2021.2.0\n",
      "Running:\n",
      " \n",
      "     \"/home/benoit/CCDC/Discovery_2021/GOLD/gold/d_linux_64/bin/gold_linux_64\" \"/home/benoit/bioactive_conformation_predictor/gold_docking_postprocessing/136/api_gold.conf\"\n",
      "\n",
      "0\n",
      "Starting GOLD with conf file /home/benoit/bioactive_conformation_predictor/gold_docking_postprocessing/61/api_gold.conf\n",
      "Setting up GOLD environment...\n",
      "GOLD Version 2021.2.0\n",
      "Running:\n",
      " \n",
      "     \"/home/benoit/CCDC/Discovery_2021/GOLD/gold/d_linux_64/bin/gold_linux_64\" \"/home/benoit/bioactive_conformation_predictor/gold_docking_postprocessing/61/api_gold.conf\"\n",
      "\n",
      "0\n",
      "0\n",
      "Starting GOLD with conf file /home/benoit/bioactive_conformation_predictor/gold_docking_postprocessing/158/api_gold.conf\n",
      "Setting up GOLD environment...\n",
      "GOLD Version 2021.2.0\n",
      "Running:\n",
      " \n",
      "     \"/home/benoit/CCDC/Discovery_2021/GOLD/gold/d_linux_64/bin/gold_linux_64\" \"/home/benoit/bioactive_conformation_predictor/gold_docking_postprocessing/158/api_gold.conf\"\n",
      "\n"
     ]
    },
    {
     "name": "stderr",
     "output_type": "stream",
     "text": [
      "RDKit WARNING: [16:58:45] unknown|12|mol2|1|dock47: warning - O.co2 with non C.2 or S.o2 neighbor.\n",
      "RDKit WARNING: [16:58:45] unknown|12|mol2|1|dock100: warning - O.co2 with non C.2 or S.o2 neighbor.\n",
      "[16:58:45] unknown|12|mol2|1|dock47: warning - O.co2 with non C.2 or S.o2 neighbor.\n",
      "[16:58:45] unknown|12|mol2|1|dock100: warning - O.co2 with non C.2 or S.o2 neighbor.\n",
      "RDKit WARNING: [16:58:04] sanitise [16:58:04] unknown|228|mol2|1|dock18: [16:58:04] sanitise [16:58:04] unknown|228|mol2|1|dock91: [16:58:05] sanitise [16:58:05] unknown|228|mol2|1|dock31: [16:58:05] sanitise [16:58:05] unknown|228|mol2|1|dock33: [16:58:05] sanitise [16:58:05] unknown|228|mol2|1|dock71: [16:58:05] sanitise [16:58:05] unknown|228|mol2|1|dock57: [16:58:46] unknown|231|mol2|1|dock4: warning - O.co2 with non C.2 or S.o2 neighbor.\n",
      "RDKit WARNING: [16:58:46] unknown|231|mol2|1|dock37: warning - O.co2 with non C.2 or S.o2 neighbor.\n",
      "RDKit WARNING: [16:58:46] unknown|12|mol2|1|dock84: warning - O.co2 with non C.2 or S.o2 neighbor.\n",
      "RDKit WARNING: [16:58:46] unknown|12|mol2|1|dock12: warning - O.co2 with non C.2 or S.o2 neighbor.\n",
      "[16:58:04] sanitise [16:58:04] unknown|228|mol2|1|dock18: [16:58:04] sanitise [16:58:04] unknown|228|mol2|1|dock91: [16:58:05] sanitise [16:58:05] unknown|228|mol2|1|dock31: [16:58:05] sanitise [16:58:05] unknown|228|mol2|1|dock33: [16:58:05] sanitise [16:58:05] unknown|228|mol2|1|dock71: [16:58:05] sanitise [16:58:05] unknown|228|mol2|1|dock57: [16:58:46] unknown|231|mol2|1|dock4: warning - O.co2 with non C.2 or S.o2 neighbor.\n",
      "[16:58:46] unknown|231|mol2|1|dock37: warning - O.co2 with non C.2 or S.o2 neighbor.\n",
      "[16:58:46] unknown|12|mol2|1|dock84: warning - O.co2 with non C.2 or S.o2 neighbor.\n",
      "[16:58:46] unknown|12|mol2|1|dock12: warning - O.co2 with non C.2 or S.o2 neighbor.\n",
      "RDKit WARNING: [16:58:46] unknown|231|mol2|1|dock5: warning - O.co2 with non C.2 or S.o2 neighbor.\n",
      "RDKit WARNING: [16:58:46] unknown|231|mol2|1|dock5: warning - O.co2 with non C.2 or S.o2 neighbor.\n"
     ]
    },
    {
     "name": "stdout",
     "output_type": "stream",
     "text": [
      "0\n"
     ]
    },
    {
     "name": "stderr",
     "output_type": "stream",
     "text": [
      "[16:58:46] unknown|231|mol2|1|dock5: warning - O.co2 with non C.2 or S.o2 neighbor.\n",
      "[16:58:46] unknown|231|mol2|1|dock5: warning - O.co2 with non C.2 or S.o2 neighbor.\n",
      "RDKit WARNING: [16:58:46] unknown|12|mol2|1|dock96: warning - O.co2 with non C.2 or S.o2 neighbor.\n",
      "RDKit WARNING: [16:58:46] unknown|12|mol2|1|dock12: warning - O.co2 with non C.2 or S.o2 neighbor.\n",
      "RDKit WARNING: [16:58:46] unknown|231|mol2|1|dock6: warning - O.co2 with non C.2 or S.o2 neighbor.\n",
      "RDKit WARNING: [16:58:46] unknown|231|mol2|1|dock55: warning - O.co2 with non C.2 or S.o2 neighbor.\n"
     ]
    },
    {
     "name": "stdout",
     "output_type": "stream",
     "text": [
      "Starting GOLD with conf file /home/benoit/bioactive_conformation_predictor/gold_docking_postprocessing/232/api_gold.conf\n",
      "Starting GOLD with conf file /home/benoit/bioactive_conformation_predictor/gold_docking_postprocessing/13/api_gold.conf\n",
      "0\n"
     ]
    },
    {
     "name": "stderr",
     "output_type": "stream",
     "text": [
      "[16:58:46] unknown|12|mol2|1|dock96: warning - O.co2 with non C.2 or S.o2 neighbor.\n",
      "[16:58:46] unknown|12|mol2|1|dock12: warning - O.co2 with non C.2 or S.o2 neighbor.\n",
      "[16:58:46] unknown|231|mol2|1|dock6: warning - O.co2 with non C.2 or S.o2 neighbor.\n",
      "[16:58:46] unknown|231|mol2|1|dock55: warning - O.co2 with non C.2 or S.o2 neighbor.\n"
     ]
    },
    {
     "name": "stdout",
     "output_type": "stream",
     "text": [
      "Setting up GOLD environment...\n",
      "GOLD Version 2021.2.0\n",
      "Running:\n",
      " \n",
      "     \"/home/benoit/CCDC/Discovery_2021/GOLD/gold/d_linux_64/bin/gold_linux_64\" \"/home/benoit/bioactive_conformation_predictor/gold_docking_postprocessing/232/api_gold.conf\"\n",
      "\n",
      "Setting up GOLD environment...\n",
      "GOLD Version 2021.2.0\n",
      "Running:\n",
      " \n",
      "     \"/home/benoit/CCDC/Discovery_2021/GOLD/gold/d_linux_64/bin/gold_linux_64\" \"/home/benoit/bioactive_conformation_predictor/gold_docking_postprocessing/13/api_gold.conf\"\n",
      "\n",
      "Starting GOLD with conf file /home/benoit/bioactive_conformation_predictor/gold_docking_postprocessing/137/api_gold.conf\n",
      "Setting up GOLD environment...\n",
      "GOLD Version 2021.2.0\n",
      "Running:\n",
      " \n",
      "     \"/home/benoit/CCDC/Discovery_2021/GOLD/gold/d_linux_64/bin/gold_linux_64\" \"/home/benoit/bioactive_conformation_predictor/gold_docking_postprocessing/137/api_gold.conf\"\n",
      "\n",
      "Starting GOLD with conf file /home/benoit/bioactive_conformation_predictor/gold_docking_postprocessing/85/api_gold.conf\n",
      "Setting up GOLD environment...\n",
      "GOLD Version 2021.2.0\n",
      "Running:\n",
      " \n",
      "     \"/home/benoit/CCDC/Discovery_2021/GOLD/gold/d_linux_64/bin/gold_linux_64\" \"/home/benoit/bioactive_conformation_predictor/gold_docking_postprocessing/85/api_gold.conf\"\n",
      "\n",
      "0\n",
      "0\n",
      "0\n",
      "0\n",
      "0\n",
      "Starting GOLD with conf file /home/benoit/bioactive_conformation_predictor/gold_docking_postprocessing/40/api_gold.conf\n",
      "0\n",
      "Setting up GOLD environment...\n",
      "GOLD Version 2021.2.0\n",
      "Running:\n",
      " \n",
      "     \"/home/benoit/CCDC/Discovery_2021/GOLD/gold/d_linux_64/bin/gold_linux_64\" \"/home/benoit/bioactive_conformation_predictor/gold_docking_postprocessing/40/api_gold.conf\"\n",
      "\n",
      "0\n",
      "Starting GOLD with conf file /home/benoit/bioactive_conformation_predictor/gold_docking_postprocessing/233/api_gold.conf\n",
      "Starting GOLD with conf file /home/benoit/bioactive_conformation_predictor/gold_docking_postprocessing/109/api_gold.conf\n",
      "Setting up GOLD environment...\n",
      "GOLD Version 2021.2.0\n",
      "Running:\n",
      " \n",
      "     \"/home/benoit/CCDC/Discovery_2021/GOLD/gold/d_linux_64/bin/gold_linux_64\" \"/home/benoit/bioactive_conformation_predictor/gold_docking_postprocessing/233/api_gold.conf\"\n",
      "\n",
      "Setting up GOLD environment...\n",
      "GOLD Version 2021.2.0\n",
      "Running:\n",
      " \n",
      "     \"/home/benoit/CCDC/Discovery_2021/GOLD/gold/d_linux_64/bin/gold_linux_64\" \"/home/benoit/bioactive_conformation_predictor/gold_docking_postprocessing/109/api_gold.conf\"\n",
      "\n",
      "Starting GOLD with conf file /home/benoit/bioactive_conformation_predictor/gold_docking_postprocessing/256/api_gold.conf\n",
      "Setting up GOLD environment...\n",
      "GOLD Version 2021.2.0\n",
      "Running:\n",
      " \n",
      "     \"/home/benoit/CCDC/Discovery_2021/GOLD/gold/d_linux_64/bin/gold_linux_64\" \"/home/benoit/bioactive_conformation_predictor/gold_docking_postprocessing/256/api_gold.conf\"\n",
      "\n",
      "0\n",
      "0\n",
      "Starting GOLD with conf file /home/benoit/bioactive_conformation_predictor/gold_docking_postprocessing/14/api_gold.conf\n",
      "Starting GOLD with conf file /home/benoit/bioactive_conformation_predictor/gold_docking_postprocessing/181/api_gold.conf\n",
      "Setting up GOLD environment...\n",
      "GOLD Version 2021.2.0\n",
      "Running:\n",
      " \n",
      "     \"/home/benoit/CCDC/Discovery_2021/GOLD/gold/d_linux_64/bin/gold_linux_64\" \"/home/benoit/bioactive_conformation_predictor/gold_docking_postprocessing/14/api_gold.conf\"\n",
      "\n",
      "Setting up GOLD environment...\n",
      "GOLD Version 2021.2.0\n",
      "Running:\n",
      " \n",
      "     \"/home/benoit/CCDC/Discovery_2021/GOLD/gold/d_linux_64/bin/gold_linux_64\" \"/home/benoit/bioactive_conformation_predictor/gold_docking_postprocessing/181/api_gold.conf\"\n",
      "\n",
      "Starting GOLD with conf file /home/benoit/bioactive_conformation_predictor/gold_docking_postprocessing/138/api_gold.conf\n",
      "Setting up GOLD environment...\n",
      "GOLD Version 2021.2.0\n",
      "Running:\n",
      " \n",
      "     \"/home/benoit/CCDC/Discovery_2021/GOLD/gold/d_linux_64/bin/gold_linux_64\" \"/home/benoit/bioactive_conformation_predictor/gold_docking_postprocessing/138/api_gold.conf\"\n",
      "\n"
     ]
    },
    {
     "name": "stderr",
     "output_type": "stream",
     "text": [
      "RDKit WARNING: [16:59:01] unknown|85|mol2|1|dock15: warning - O.co2 with non C.2 or S.o2 neighbor.\n",
      "RDKit WARNING: [16:59:01] unknown|85|mol2|1|dock39: warning - O.co2 with non C.2 or S.o2 neighbor.\n",
      "RDKit WARNING: [16:59:01] unknown|85|mol2|1|dock67: warning - O.co2 with non C.2 or S.o2 neighbor.\n",
      "RDKit WARNING: [16:59:01] unknown|85|mol2|1|dock3: warning - O.co2 with non C.2 or S.o2 neighbor.\n",
      "[16:59:01] unknown|85|mol2|1|dock15: warning - O.co2 with non C.2 or S.o2 neighbor.\n",
      "[16:59:01] unknown|85|mol2|1|dock39: warning - O.co2 with non C.2 or S.o2 neighbor.\n",
      "[16:59:01] unknown|85|mol2|1|dock67: warning - O.co2 with non C.2 or S.o2 neighbor.\n",
      "[16:59:01] unknown|85|mol2|1|dock3: warning - O.co2 with non C.2 or S.o2 neighbor.\n",
      "RDKit WARNING: [16:59:01] unknown|85|mol2|1|dock22: warning - O.co2 with non C.2 or S.o2 neighbor.\n",
      "RDKit WARNING: [16:59:01] unknown|85|mol2|1|dock3: warning - O.co2 with non C.2 or S.o2 neighbor.\n",
      "[16:59:01] unknown|85|mol2|1|dock22: warning - O.co2 with non C.2 or S.o2 neighbor.\n",
      "[16:59:01] unknown|85|mol2|1|dock3: warning - O.co2 with non C.2 or S.o2 neighbor.\n"
     ]
    },
    {
     "name": "stdout",
     "output_type": "stream",
     "text": [
      "Starting GOLD with conf file /home/benoit/bioactive_conformation_predictor/gold_docking_postprocessing/86/api_gold.conf\n",
      "Setting up GOLD environment...\n",
      "GOLD Version 2021.2.0\n",
      "Running:\n",
      " \n",
      "     \"/home/benoit/CCDC/Discovery_2021/GOLD/gold/d_linux_64/bin/gold_linux_64\" \"/home/benoit/bioactive_conformation_predictor/gold_docking_postprocessing/86/api_gold.conf\"\n",
      "\n",
      "Starting GOLD with conf file /home/benoit/bioactive_conformation_predictor/gold_docking_postprocessing/62/api_gold.conf\n",
      "Setting up GOLD environment...\n",
      "GOLD Version 2021.2.0\n",
      "Running:\n",
      " \n",
      "     \"/home/benoit/CCDC/Discovery_2021/GOLD/gold/d_linux_64/bin/gold_linux_64\" \"/home/benoit/bioactive_conformation_predictor/gold_docking_postprocessing/62/api_gold.conf\"\n",
      "\n",
      "0\n",
      "0\n",
      "0\n",
      "Starting GOLD with conf file /home/benoit/bioactive_conformation_predictor/gold_docking_postprocessing/139/api_gold.conf\n",
      "0\n",
      "Setting up GOLD environment...\n",
      "GOLD Version 2021.2.0\n",
      "Running:\n",
      " \n",
      "     \"/home/benoit/CCDC/Discovery_2021/GOLD/gold/d_linux_64/bin/gold_linux_64\" \"/home/benoit/bioactive_conformation_predictor/gold_docking_postprocessing/139/api_gold.conf\"\n",
      "\n",
      "0\n",
      "Starting GOLD with conf file /home/benoit/bioactive_conformation_predictor/gold_docking_postprocessing/159/api_gold.conf\n",
      "Starting GOLD with conf file /home/benoit/bioactive_conformation_predictor/gold_docking_postprocessing/110/api_gold.conf\n",
      "Setting up GOLD environment...\n",
      "GOLD Version 2021.2.0\n",
      "Running:\n",
      " \n",
      "     \"/home/benoit/CCDC/Discovery_2021/GOLD/gold/d_linux_64/bin/gold_linux_64\" \"/home/benoit/bioactive_conformation_predictor/gold_docking_postprocessing/159/api_gold.conf\"\n",
      "\n",
      "Setting up GOLD environment...\n",
      "GOLD Version 2021.2.0\n",
      "Running:\n",
      " \n",
      "     \"/home/benoit/CCDC/Discovery_2021/GOLD/gold/d_linux_64/bin/gold_linux_64\" \"/home/benoit/bioactive_conformation_predictor/gold_docking_postprocessing/110/api_gold.conf\"\n",
      "\n",
      "0\n"
     ]
    },
    {
     "name": "stderr",
     "output_type": "stream",
     "text": [
      "RDKit WARNING: [16:59:10] unknown|277|mol2|1|dock9: warning - O.co2 with non C.2 or S.o2 neighbor.\n",
      "RDKit WARNING: [16:59:10] unknown|277|mol2|1|dock20: warning - O.co2 with non C.2 or S.o2 neighbor.\n",
      "[16:59:10] unknown|277|mol2|1|dock9: warning - O.co2 with non C.2 or S.o2 neighbor.\n",
      "[16:59:10] unknown|277|mol2|1|dock20: warning - O.co2 with non C.2 or S.o2 neighbor.\n",
      "RDKit WARNING: [16:59:10] unknown|14|mol2|1|dock73: warning - O.co2 with non C.2 or S.o2 neighbor.\n",
      "RDKit WARNING: [16:59:10] unknown|14|mol2|1|dock1: warning - O.co2 with non C.2 or S.o2 neighbor.\n",
      "RDKit WARNING: [16:59:11] unknown|277|mol2|1|dock27: warning - O.co2 with non C.2 or S.o2 neighbor.\n",
      "RDKit WARNING: [16:59:11] unknown|277|mol2|1|dock78: warning - O.co2 with non C.2 or S.o2 neighbor.\n",
      "RDKit WARNING: [16:59:11] unknown|14|mol2|1|dock74: warning - O.co2 with non C.2 or S.o2 neighbor.\n",
      "RDKit WARNING: [16:59:11] unknown|14|mol2|1|dock68: warning - O.co2 with non C.2 or S.o2 neighbor.\n",
      "[16:59:10] unknown|14|mol2|1|dock73: warning - O.co2 with non C.2 or S.o2 neighbor.\n",
      "[16:59:10] unknown|14|mol2|1|dock1: warning - O.co2 with non C.2 or S.o2 neighbor.\n",
      "[16:59:11] unknown|277|mol2|1|dock27: warning - O.co2 with non C.2 or S.o2 neighbor.\n",
      "[16:59:11] unknown|277|mol2|1|dock78: warning - O.co2 with non C.2 or S.o2 neighbor.\n",
      "[16:59:11] unknown|14|mol2|1|dock74: warning - O.co2 with non C.2 or S.o2 neighbor.\n",
      "[16:59:11] unknown|14|mol2|1|dock68: warning - O.co2 with non C.2 or S.o2 neighbor.\n"
     ]
    },
    {
     "name": "stdout",
     "output_type": "stream",
     "text": [
      "Starting GOLD with conf file /home/benoit/bioactive_conformation_predictor/gold_docking_postprocessing/234/api_gold.conf\n"
     ]
    },
    {
     "name": "stderr",
     "output_type": "stream",
     "text": [
      "RDKit WARNING: [16:59:11] unknown|14|mol2|1|dock24: warning - O.co2 with non C.2 or S.o2 neighbor.\n",
      "RDKit WARNING: [16:59:11] unknown|14|mol2|1|dock62: warning - O.co2 with non C.2 or S.o2 neighbor.\n"
     ]
    },
    {
     "name": "stdout",
     "output_type": "stream",
     "text": [
      "Starting GOLD with conf file /home/benoit/bioactive_conformation_predictor/gold_docking_postprocessing/15/api_gold.conf\n"
     ]
    },
    {
     "name": "stderr",
     "output_type": "stream",
     "text": [
      "[16:59:11] unknown|14|mol2|1|dock24: warning - O.co2 with non C.2 or S.o2 neighbor.\n",
      "[16:59:11] unknown|14|mol2|1|dock62: warning - O.co2 with non C.2 or S.o2 neighbor.\n"
     ]
    },
    {
     "name": "stdout",
     "output_type": "stream",
     "text": [
      "Setting up GOLD environment...\n",
      "GOLD Version 2021.2.0\n",
      "Running:\n",
      " \n",
      "     \"/home/benoit/CCDC/Discovery_2021/GOLD/gold/d_linux_64/bin/gold_linux_64\" \"/home/benoit/bioactive_conformation_predictor/gold_docking_postprocessing/234/api_gold.conf\"\n",
      "\n",
      "Setting up GOLD environment...\n",
      "GOLD Version 2021.2.0\n",
      "Running:\n",
      " \n",
      "     \"/home/benoit/CCDC/Discovery_2021/GOLD/gold/d_linux_64/bin/gold_linux_64\" \"/home/benoit/bioactive_conformation_predictor/gold_docking_postprocessing/15/api_gold.conf\"\n",
      "\n"
     ]
    },
    {
     "name": "stderr",
     "output_type": "stream",
     "text": [
      "RDKit WARNING: [16:59:11] unknown|277|mol2|1|dock9: warning - O.co2 with non C.2 or S.o2 neighbor.\n",
      "RDKit WARNING: [16:59:11] unknown|277|mol2|1|dock7: warning - O.co2 with non C.2 or S.o2 neighbor.\n",
      "[16:59:11] unknown|277|mol2|1|dock9: warning - O.co2 with non C.2 or S.o2 neighbor.\n",
      "[16:59:11] unknown|277|mol2|1|dock7: warning - O.co2 with non C.2 or S.o2 neighbor.\n"
     ]
    },
    {
     "name": "stdout",
     "output_type": "stream",
     "text": [
      "0\n",
      "0\n",
      "0\n",
      "Starting GOLD with conf file /home/benoit/bioactive_conformation_predictor/gold_docking_postprocessing/278/api_gold.conf\n",
      "Setting up GOLD environment...\n",
      "GOLD Version 2021.2.0\n",
      "Running:\n",
      " \n",
      "     \"/home/benoit/CCDC/Discovery_2021/GOLD/gold/d_linux_64/bin/gold_linux_64\" \"/home/benoit/bioactive_conformation_predictor/gold_docking_postprocessing/278/api_gold.conf\"\n",
      "\n",
      "0\n",
      "0\n"
     ]
    },
    {
     "name": "stderr",
     "output_type": "stream",
     "text": [
      "RDKit WARNING: [16:59:14] unknown|62|mol2|1|dock80: warning - O.co2 with non C.2 or S.o2 neighbor.\n",
      "RDKit WARNING: [16:59:14] unknown|62|mol2|1|dock21: warning - O.co2 with non C.2 or S.o2 neighbor.\n",
      "[16:59:14] unknown|62|mol2|1|dock80: warning - O.co2 with non C.2 or S.o2 neighbor.\n",
      "[16:59:14] unknown|62|mol2|1|dock21: warning - O.co2 with non C.2 or S.o2 neighbor.\n",
      "RDKit WARNING: [16:59:15] unknown|62|mol2|1|dock68: warning - O.co2 with non C.2 or S.o2 neighbor.\n",
      "RDKit WARNING: [16:59:15] unknown|62|mol2|1|dock26: warning - O.co2 with non C.2 or S.o2 neighbor.\n",
      "[16:59:15] unknown|62|mol2|1|dock68: warning - O.co2 with non C.2 or S.o2 neighbor.\n",
      "[16:59:15] unknown|62|mol2|1|dock26: warning - O.co2 with non C.2 or S.o2 neighbor.\n",
      "RDKit WARNING: [16:59:15] unknown|62|mol2|1|dock80: warning - O.co2 with non C.2 or S.o2 neighbor.\n",
      "RDKit WARNING: [16:59:15] unknown|62|mol2|1|dock21: warning - O.co2 with non C.2 or S.o2 neighbor.\n",
      "RDKit WARNING: [16:59:15] unknown|139|mol2|1|dock93: warning - O.co2 with non C.2 or S.o2 neighbor.\n"
     ]
    },
    {
     "name": "stdout",
     "output_type": "stream",
     "text": [
      "Starting GOLD with conf file /home/benoit/bioactive_conformation_predictor/gold_docking_postprocessing/63/api_gold.conf\n"
     ]
    },
    {
     "name": "stderr",
     "output_type": "stream",
     "text": [
      "RDKit WARNING: [16:59:15] unknown|139|mol2|1|dock31: warning - O.co2 with non C.2 or S.o2 neighbor.\n",
      "[16:59:15] unknown|62|mol2|1|dock80: warning - O.co2 with non C.2 or S.o2 neighbor.\n",
      "[16:59:15] unknown|62|mol2|1|dock21: warning - O.co2 with non C.2 or S.o2 neighbor.\n",
      "[16:59:15] unknown|139|mol2|1|dock93: warning - O.co2 with non C.2 or S.o2 neighbor.\n",
      "[16:59:15] unknown|139|mol2|1|dock31: warning - O.co2 with non C.2 or S.o2 neighbor.\n",
      "RDKit WARNING: [16:59:15] unknown|139|mol2|1|dock5: warning - O.co2 with non C.2 or S.o2 neighbor.\n",
      "RDKit WARNING: [16:59:15] unknown|139|mol2|1|dock3: warning - O.co2 with non C.2 or S.o2 neighbor.\n"
     ]
    },
    {
     "name": "stdout",
     "output_type": "stream",
     "text": [
      "0\n",
      "Setting up GOLD environment...\n",
      "GOLD Version 2021.2.0\n",
      "Running:\n",
      " \n",
      "     \"/home/benoit/CCDC/Discovery_2021/GOLD/gold/d_linux_64/bin/gold_linux_64\" \"/home/benoit/bioactive_conformation_predictor/gold_docking_postprocessing/63/api_gold.conf\"\n",
      "\n"
     ]
    },
    {
     "name": "stderr",
     "output_type": "stream",
     "text": [
      "RDKit WARNING: [16:59:15] unknown|139|mol2|1|dock93: warning - O.co2 with non C.2 or S.o2 neighbor.\n",
      "RDKit WARNING: [16:59:15] unknown|139|mol2|1|dock31: warning - O.co2 with non C.2 or S.o2 neighbor.\n",
      "[16:59:15] unknown|139|mol2|1|dock5: warning - O.co2 with non C.2 or S.o2 neighbor.\n",
      "[16:59:15] unknown|139|mol2|1|dock3: warning - O.co2 with non C.2 or S.o2 neighbor.\n",
      "[16:59:15] unknown|139|mol2|1|dock93: warning - O.co2 with non C.2 or S.o2 neighbor.\n",
      "[16:59:15] unknown|139|mol2|1|dock31: warning - O.co2 with non C.2 or S.o2 neighbor.\n",
      "RDKit WARNING: [16:59:16] unknown|205|mol2|1|dock17: warning - O.co2 with non C.2 or S.o2 neighbor.\n",
      "RDKit WARNING: [16:59:16] unknown|205|mol2|1|dock1: warning - O.co2 with non C.2 or S.o2 neighbor.\n"
     ]
    },
    {
     "name": "stdout",
     "output_type": "stream",
     "text": [
      "Starting GOLD with conf file /home/benoit/bioactive_conformation_predictor/gold_docking_postprocessing/257/api_gold.conf\n"
     ]
    },
    {
     "name": "stderr",
     "output_type": "stream",
     "text": [
      "[16:59:16] unknown|205|mol2|1|dock17: warning - O.co2 with non C.2 or S.o2 neighbor.\n",
      "[16:59:16] unknown|205|mol2|1|dock1: warning - O.co2 with non C.2 or S.o2 neighbor.\n",
      "RDKit WARNING: [16:59:16] unknown|205|mol2|1|dock93: warning - O.co2 with non C.2 or S.o2 neighbor.\n",
      "RDKit WARNING: [16:59:16] unknown|205|mol2|1|dock93: warning - O.co2 with non C.2 or S.o2 neighbor.\n"
     ]
    },
    {
     "name": "stdout",
     "output_type": "stream",
     "text": [
      "Setting up GOLD environment...\n",
      "GOLD Version 2021.2.0\n",
      "Running:\n",
      " \n",
      "     \"/home/benoit/CCDC/Discovery_2021/GOLD/gold/d_linux_64/bin/gold_linux_64\" \"/home/benoit/bioactive_conformation_predictor/gold_docking_postprocessing/257/api_gold.conf\"\n",
      "\n"
     ]
    },
    {
     "name": "stderr",
     "output_type": "stream",
     "text": [
      "[16:59:16] unknown|205|mol2|1|dock93: warning - O.co2 with non C.2 or S.o2 neighbor.\n",
      "[16:59:16] unknown|205|mol2|1|dock93: warning - O.co2 with non C.2 or S.o2 neighbor.\n",
      "RDKit WARNING: [16:59:17] unknown|205|mol2|1|dock47: warning - O.co2 with non C.2 or S.o2 neighbor.\n",
      "RDKit WARNING: [16:59:17] unknown|205|mol2|1|dock16: warning - O.co2 with non C.2 or S.o2 neighbor.\n"
     ]
    },
    {
     "name": "stdout",
     "output_type": "stream",
     "text": [
      "Starting GOLD with conf file /home/benoit/bioactive_conformation_predictor/gold_docking_postprocessing/140/api_gold.conf\n",
      "Starting GOLD with conf file /home/benoit/bioactive_conformation_predictor/gold_docking_postprocessing/206/api_gold.conf\n"
     ]
    },
    {
     "name": "stderr",
     "output_type": "stream",
     "text": [
      "[16:59:17] unknown|205|mol2|1|dock47: warning - O.co2 with non C.2 or S.o2 neighbor.\n",
      "[16:59:17] unknown|205|mol2|1|dock16: warning - O.co2 with non C.2 or S.o2 neighbor.\n"
     ]
    },
    {
     "name": "stdout",
     "output_type": "stream",
     "text": [
      "Setting up GOLD environment...\n",
      "GOLD Version 2021.2.0\n",
      "Running:\n",
      " \n",
      "     \"/home/benoit/CCDC/Discovery_2021/GOLD/gold/d_linux_64/bin/gold_linux_64\" \"/home/benoit/bioactive_conformation_predictor/gold_docking_postprocessing/140/api_gold.conf\"\n",
      "\n",
      "Setting up GOLD environment...\n",
      "GOLD Version 2021.2.0\n",
      "Running:\n",
      " \n",
      "     \"/home/benoit/CCDC/Discovery_2021/GOLD/gold/d_linux_64/bin/gold_linux_64\" \"/home/benoit/bioactive_conformation_predictor/gold_docking_postprocessing/206/api_gold.conf\"\n",
      "\n",
      "Starting GOLD with conf file /home/benoit/bioactive_conformation_predictor/gold_docking_postprocessing/182/api_gold.conf\n",
      "Setting up GOLD environment...\n",
      "GOLD Version 2021.2.0\n",
      "Running:\n",
      " \n",
      "     \"/home/benoit/CCDC/Discovery_2021/GOLD/gold/d_linux_64/bin/gold_linux_64\" \"/home/benoit/bioactive_conformation_predictor/gold_docking_postprocessing/182/api_gold.conf\"\n",
      "\n",
      "Starting GOLD with conf file /home/benoit/bioactive_conformation_predictor/gold_docking_postprocessing/87/api_gold.conf\n",
      "Setting up GOLD environment...\n",
      "GOLD Version 2021.2.0\n",
      "Running:\n",
      " \n",
      "     \"/home/benoit/CCDC/Discovery_2021/GOLD/gold/d_linux_64/bin/gold_linux_64\" \"/home/benoit/bioactive_conformation_predictor/gold_docking_postprocessing/87/api_gold.conf\"\n",
      "\n",
      "0\n",
      "0\n",
      "Starting GOLD with conf file /home/benoit/bioactive_conformation_predictor/gold_docking_postprocessing/64/api_gold.conf\n",
      "Setting up GOLD environment...\n",
      "GOLD Version 2021.2.0\n",
      "Running:\n",
      " \n",
      "     \"/home/benoit/CCDC/Discovery_2021/GOLD/gold/d_linux_64/bin/gold_linux_64\" \"/home/benoit/bioactive_conformation_predictor/gold_docking_postprocessing/64/api_gold.conf\"\n",
      "\n",
      "Starting GOLD with conf file /home/benoit/bioactive_conformation_predictor/gold_docking_postprocessing/111/api_gold.conf\n",
      "Setting up GOLD environment...\n",
      "GOLD Version 2021.2.0\n",
      "Running:\n",
      " \n",
      "     \"/home/benoit/CCDC/Discovery_2021/GOLD/gold/d_linux_64/bin/gold_linux_64\" \"/home/benoit/bioactive_conformation_predictor/gold_docking_postprocessing/111/api_gold.conf\"\n",
      "\n",
      "0\n",
      "0\n",
      "0\n",
      "0\n",
      "0\n",
      "Starting GOLD with conf file /home/benoit/bioactive_conformation_predictor/gold_docking_postprocessing/16/api_gold.conf\n",
      "Setting up GOLD environment...\n",
      "GOLD Version 2021.2.0\n",
      "Running:\n",
      " \n",
      "     \"/home/benoit/CCDC/Discovery_2021/GOLD/gold/d_linux_64/bin/gold_linux_64\" \"/home/benoit/bioactive_conformation_predictor/gold_docking_postprocessing/16/api_gold.conf\"\n",
      "\n",
      "Starting GOLD with conf file /home/benoit/bioactive_conformation_predictor/gold_docking_postprocessing/183/api_gold.conf\n",
      "Setting up GOLD environment...\n",
      "GOLD Version 2021.2.0\n",
      "Running:\n",
      " \n",
      "     \"/home/benoit/CCDC/Discovery_2021/GOLD/gold/d_linux_64/bin/gold_linux_64\" \"/home/benoit/bioactive_conformation_predictor/gold_docking_postprocessing/183/api_gold.conf\"\n",
      "\n",
      "Starting GOLD with conf file /home/benoit/bioactive_conformation_predictor/gold_docking_postprocessing/258/api_gold.conf\n",
      "Starting GOLD with conf file /home/benoit/bioactive_conformation_predictor/gold_docking_postprocessing/160/api_gold.conf\n",
      "0\n",
      "Starting GOLD with conf file /home/benoit/bioactive_conformation_predictor/gold_docking_postprocessing/41/api_gold.conf\n",
      "Setting up GOLD environment...\n",
      "GOLD Version 2021.2.0\n",
      "Running:\n",
      " \n",
      "     \"/home/benoit/CCDC/Discovery_2021/GOLD/gold/d_linux_64/bin/gold_linux_64\" \"/home/benoit/bioactive_conformation_predictor/gold_docking_postprocessing/258/api_gold.conf\"\n",
      "\n",
      "Setting up GOLD environment...\n",
      "GOLD Version 2021.2.0\n",
      "Running:\n",
      " \n",
      "     \"/home/benoit/CCDC/Discovery_2021/GOLD/gold/d_linux_64/bin/gold_linux_64\" \"/home/benoit/bioactive_conformation_predictor/gold_docking_postprocessing/160/api_gold.conf\"\n",
      "\n",
      "Setting up GOLD environment...\n",
      "GOLD Version 2021.2.0\n",
      "Running:\n",
      " \n",
      "     \"/home/benoit/CCDC/Discovery_2021/GOLD/gold/d_linux_64/bin/gold_linux_64\" \"/home/benoit/bioactive_conformation_predictor/gold_docking_postprocessing/41/api_gold.conf\"\n",
      "\n",
      "Starting GOLD with conf file /home/benoit/bioactive_conformation_predictor/gold_docking_postprocessing/141/api_gold.conf\n",
      "Setting up GOLD environment...\n",
      "GOLD Version 2021.2.0\n",
      "Running:\n",
      " \n",
      "     \"/home/benoit/CCDC/Discovery_2021/GOLD/gold/d_linux_64/bin/gold_linux_64\" \"/home/benoit/bioactive_conformation_predictor/gold_docking_postprocessing/141/api_gold.conf\"\n",
      "\n",
      "0\n",
      "0\n",
      "0\n",
      "0\n",
      "Starting GOLD with conf file /home/benoit/bioactive_conformation_predictor/gold_docking_postprocessing/65/api_gold.conf\n",
      "Starting GOLD with conf file /home/benoit/bioactive_conformation_predictor/gold_docking_postprocessing/112/api_gold.conf\n",
      "0\n",
      "Setting up GOLD environment...\n",
      "GOLD Version 2021.2.0\n",
      "Running:\n",
      " \n",
      "     \"/home/benoit/CCDC/Discovery_2021/GOLD/gold/d_linux_64/bin/gold_linux_64\" \"/home/benoit/bioactive_conformation_predictor/gold_docking_postprocessing/65/api_gold.conf\"\n",
      "\n",
      "Setting up GOLD environment...\n",
      "GOLD Version 2021.2.0\n",
      "Running:\n",
      " \n",
      "     \"/home/benoit/CCDC/Discovery_2021/GOLD/gold/d_linux_64/bin/gold_linux_64\" \"/home/benoit/bioactive_conformation_predictor/gold_docking_postprocessing/112/api_gold.conf\"\n",
      "\n",
      "Starting GOLD with conf file /home/benoit/bioactive_conformation_predictor/gold_docking_postprocessing/88/api_gold.conf\n",
      "Setting up GOLD environment...\n",
      "GOLD Version 2021.2.0\n",
      "Running:\n",
      " \n",
      "     \"/home/benoit/CCDC/Discovery_2021/GOLD/gold/d_linux_64/bin/gold_linux_64\" \"/home/benoit/bioactive_conformation_predictor/gold_docking_postprocessing/88/api_gold.conf\"\n",
      "\n",
      "Starting GOLD with conf file /home/benoit/bioactive_conformation_predictor/gold_docking_postprocessing/184/api_gold.conf\n",
      "Setting up GOLD environment...\n",
      "GOLD Version 2021.2.0\n",
      "Running:\n",
      " \n",
      "     \"/home/benoit/CCDC/Discovery_2021/GOLD/gold/d_linux_64/bin/gold_linux_64\" \"/home/benoit/bioactive_conformation_predictor/gold_docking_postprocessing/184/api_gold.conf\"\n",
      "\n",
      "Starting GOLD with conf file /home/benoit/bioactive_conformation_predictor/gold_docking_postprocessing/235/api_gold.conf\n",
      "Setting up GOLD environment...\n",
      "GOLD Version 2021.2.0\n",
      "Running:\n",
      " \n",
      "     \"/home/benoit/CCDC/Discovery_2021/GOLD/gold/d_linux_64/bin/gold_linux_64\" \"/home/benoit/bioactive_conformation_predictor/gold_docking_postprocessing/235/api_gold.conf\"\n",
      "\n",
      "0\n",
      "0\n",
      "0\n",
      "0\n"
     ]
    },
    {
     "name": "stderr",
     "output_type": "stream",
     "text": [
      "RDKit WARNING: [16:59:43] unknown|278|mol2|1|dock5: warning - O.co2 with non C.2 or S.o2 neighbor.\n",
      "RDKit WARNING: [16:59:43] unknown|278|mol2|1|dock77: warning - O.co2 with non C.2 or S.o2 neighbor.\n"
     ]
    },
    {
     "name": "stdout",
     "output_type": "stream",
     "text": [
      "Starting GOLD with conf file /home/benoit/bioactive_conformation_predictor/gold_docking_postprocessing/113/api_gold.conf\n"
     ]
    },
    {
     "name": "stderr",
     "output_type": "stream",
     "text": [
      "[16:59:43] unknown|278|mol2|1|dock5: warning - O.co2 with non C.2 or S.o2 neighbor.\n",
      "[16:59:43] unknown|278|mol2|1|dock77: warning - O.co2 with non C.2 or S.o2 neighbor.\n"
     ]
    },
    {
     "name": "stdout",
     "output_type": "stream",
     "text": [
      "Setting up GOLD environment...\n",
      "GOLD Version 2021.2.0\n",
      "Running:\n",
      " \n",
      "     \"/home/benoit/CCDC/Discovery_2021/GOLD/gold/d_linux_64/bin/gold_linux_64\" \"/home/benoit/bioactive_conformation_predictor/gold_docking_postprocessing/113/api_gold.conf\"\n",
      "\n"
     ]
    },
    {
     "name": "stderr",
     "output_type": "stream",
     "text": [
      "RDKit WARNING: [16:59:44] unknown|160|mol2|1|dock6: warning - O.co2 with non C.2 or S.o2 neighbor.\n",
      "RDKit WARNING: [16:59:44] unknown|160|mol2|1|dock57: warning - O.co2 with non C.2 or S.o2 neighbor.\n"
     ]
    },
    {
     "name": "stdout",
     "output_type": "stream",
     "text": [
      "0\n"
     ]
    },
    {
     "name": "stderr",
     "output_type": "stream",
     "text": [
      "RDKit WARNING: [16:59:44] unknown|278|mol2|1|dock27: warning - O.co2 with non C.2 or S.o2 neighbor.\n",
      "RDKit WARNING: [16:59:44] unknown|278|mol2|1|dock77: warning - O.co2 with non C.2 or S.o2 neighbor.\n",
      "[16:59:44] unknown|160|mol2|1|dock6: warning - O.co2 with non C.2 or S.o2 neighbor.\n",
      "[16:59:44] unknown|160|mol2|1|dock57: warning - O.co2 with non C.2 or S.o2 neighbor.\n",
      "[16:59:44] unknown|278|mol2|1|dock27: warning - O.co2 with non C.2 or S.o2 neighbor.\n",
      "[16:59:44] unknown|278|mol2|1|dock77: warning - O.co2 with non C.2 or S.o2 neighbor.\n",
      "RDKit WARNING: [16:59:44] unknown|160|mol2|1|dock52: warning - O.co2 with non C.2 or S.o2 neighbor.\n",
      "RDKit WARNING: [16:59:44] unknown|160|mol2|1|dock25: warning - O.co2 with non C.2 or S.o2 neighbor.\n",
      "RDKit WARNING: [16:59:44] unknown|278|mol2|1|dock5: warning - O.co2 with non C.2 or S.o2 neighbor.\n",
      "RDKit WARNING: [16:59:44] unknown|278|mol2|1|dock63: warning - O.co2 with non C.2 or S.o2 neighbor.\n",
      "[16:59:44] unknown|160|mol2|1|dock52: warning - O.co2 with non C.2 or S.o2 neighbor.\n",
      "[16:59:44] unknown|160|mol2|1|dock25: warning - O.co2 with non C.2 or S.o2 neighbor.\n",
      "[16:59:44] unknown|278|mol2|1|dock5: warning - O.co2 with non C.2 or S.o2 neighbor.\n",
      "[16:59:44] unknown|278|mol2|1|dock63: warning - O.co2 with non C.2 or S.o2 neighbor.\n",
      "RDKit WARNING: [16:59:44] unknown|141|mol2|1|dock18: warning - O.co2 with non C.2 or S.o2 neighbor.\n",
      "RDKit WARNING: [16:59:44] unknown|141|mol2|1|dock51: warning - O.co2 with non C.2 or S.o2 neighbor.\n",
      "RDKit WARNING: [16:59:44] unknown|160|mol2|1|dock39: warning - O.co2 with non C.2 or S.o2 neighbor.\n",
      "RDKit WARNING: [16:59:44] unknown|160|mol2|1|dock25: warning - O.co2 with non C.2 or S.o2 neighbor.\n"
     ]
    },
    {
     "name": "stdout",
     "output_type": "stream",
     "text": [
      "Starting GOLD with conf file /home/benoit/bioactive_conformation_predictor/gold_docking_postprocessing/279/api_gold.conf\n"
     ]
    },
    {
     "name": "stderr",
     "output_type": "stream",
     "text": [
      "[16:59:44] unknown|141|mol2|1|dock18: warning - O.co2 with non C.2 or S.o2 neighbor.\n",
      "[16:59:44] unknown|141|mol2|1|dock51: warning - O.co2 with non C.2 or S.o2 neighbor.\n",
      "[16:59:44] unknown|160|mol2|1|dock39: warning - O.co2 with non C.2 or S.o2 neighbor.\n",
      "[16:59:44] unknown|160|mol2|1|dock25: warning - O.co2 with non C.2 or S.o2 neighbor.\n",
      "RDKit WARNING: [16:59:45] unknown|141|mol2|1|dock28: warning - O.co2 with non C.2 or S.o2 neighbor.\n",
      "RDKit WARNING: [16:59:45] unknown|141|mol2|1|dock52: warning - O.co2 with non C.2 or S.o2 neighbor.\n"
     ]
    },
    {
     "name": "stdout",
     "output_type": "stream",
     "text": [
      "Setting up GOLD environment...\n",
      "GOLD Version 2021.2.0\n",
      "Running:\n",
      " \n",
      "     \"/home/benoit/CCDC/Discovery_2021/GOLD/gold/d_linux_64/bin/gold_linux_64\" \"/home/benoit/bioactive_conformation_predictor/gold_docking_postprocessing/279/api_gold.conf\"\n",
      "\n"
     ]
    },
    {
     "name": "stderr",
     "output_type": "stream",
     "text": [
      "[16:59:45] unknown|141|mol2|1|dock28: warning - O.co2 with non C.2 or S.o2 neighbor.\n",
      "[16:59:45] unknown|141|mol2|1|dock52: warning - O.co2 with non C.2 or S.o2 neighbor.\n"
     ]
    },
    {
     "name": "stdout",
     "output_type": "stream",
     "text": [
      "Starting GOLD with conf file /home/benoit/bioactive_conformation_predictor/gold_docking_postprocessing/161/api_gold.conf\n"
     ]
    },
    {
     "name": "stderr",
     "output_type": "stream",
     "text": [
      "RDKit WARNING: [16:59:45] unknown|141|mol2|1|dock22: warning - O.co2 with non C.2 or S.o2 neighbor.\n",
      "RDKit WARNING: [16:59:45] unknown|141|mol2|1|dock78: warning - O.co2 with non C.2 or S.o2 neighbor.\n"
     ]
    },
    {
     "name": "stdout",
     "output_type": "stream",
     "text": [
      "0\n",
      "Setting up GOLD environment...\n",
      "GOLD Version 2021.2.0\n",
      "Running:\n",
      " \n",
      "     \"/home/benoit/CCDC/Discovery_2021/GOLD/gold/d_linux_64/bin/gold_linux_64\" \"/home/benoit/bioactive_conformation_predictor/gold_docking_postprocessing/161/api_gold.conf\"\n",
      "\n",
      "Starting GOLD with conf file /home/benoit/bioactive_conformation_predictor/gold_docking_postprocessing/142/api_gold.conf\n"
     ]
    },
    {
     "name": "stderr",
     "output_type": "stream",
     "text": [
      "[16:59:45] unknown|141|mol2|1|dock22: warning - O.co2 with non C.2 or S.o2 neighbor.\n",
      "[16:59:45] unknown|141|mol2|1|dock78: warning - O.co2 with non C.2 or S.o2 neighbor.\n"
     ]
    },
    {
     "name": "stdout",
     "output_type": "stream",
     "text": [
      "Setting up GOLD environment...\n",
      "GOLD Version 2021.2.0\n",
      "Running:\n",
      " \n",
      "     \"/home/benoit/CCDC/Discovery_2021/GOLD/gold/d_linux_64/bin/gold_linux_64\" \"/home/benoit/bioactive_conformation_predictor/gold_docking_postprocessing/142/api_gold.conf\"\n",
      "\n",
      "Starting GOLD with conf file /home/benoit/bioactive_conformation_predictor/gold_docking_postprocessing/259/api_gold.conf\n",
      "Setting up GOLD environment...\n",
      "GOLD Version 2021.2.0\n",
      "Running:\n",
      " \n",
      "     \"/home/benoit/CCDC/Discovery_2021/GOLD/gold/d_linux_64/bin/gold_linux_64\" \"/home/benoit/bioactive_conformation_predictor/gold_docking_postprocessing/259/api_gold.conf\"\n",
      "\n",
      "0\n",
      "Starting GOLD with conf file /home/benoit/bioactive_conformation_predictor/gold_docking_postprocessing/185/api_gold.conf\n",
      "Setting up GOLD environment...\n",
      "GOLD Version 2021.2.0\n",
      "Running:\n",
      " \n",
      "     \"/home/benoit/CCDC/Discovery_2021/GOLD/gold/d_linux_64/bin/gold_linux_64\" \"/home/benoit/bioactive_conformation_predictor/gold_docking_postprocessing/185/api_gold.conf\"\n",
      "\n"
     ]
    },
    {
     "name": "stderr",
     "output_type": "stream",
     "text": [
      "RDKit ERROR: [16:59:49] UFFTYPER: Unrecognized charge state for atom: 11\n",
      "RDKit ERROR: [16:59:49] UFFTYPER: Unrecognized charge state for atom: 11\n",
      "RDKit ERROR: [16:59:49] UFFTYPER: Unrecognized charge state for atom: 11\n",
      "RDKit ERROR: [16:59:49] UFFTYPER: Unrecognized charge state for atom: 11\n",
      "RDKit ERROR: [16:59:49] UFFTYPER: Unrecognized charge state for atom: 11\n",
      "RDKit ERROR: [16:59:49] UFFTYPER: Unrecognized charge state for atom: 11\n",
      "RDKit ERROR: [16:59:49] UFFTYPER: Unrecognized charge state for atom: 11\n",
      "RDKit ERROR: [16:59:49] UFFTYPER: Unrecognized charge state for atom: 11\n",
      "RDKit ERROR: [16:59:49] UFFTYPER: Unrecognized charge state for atom: 11\n",
      "RDKit ERROR: [16:59:49] UFFTYPER: Unrecognized charge state for atom: 11\n",
      "RDKit ERROR: [16:59:49] UFFTYPER: Unrecognized charge state for atom: 11\n",
      "RDKit ERROR: [16:59:49] UFFTYPER: Unrecognized charge state for atom: 11\n",
      "RDKit ERROR: [16:59:49] UFFTYPER: Unrecognized charge state for atom: 11\n",
      "RDKit ERROR: [16:59:49] UFFTYPER: Unrecognized charge state for atom: 11\n",
      "RDKit ERROR: [16:59:49] UFFTYPER: Unrecognized charge state for atom: 11\n",
      "RDKit ERROR: [16:59:49] UFFTYPER: Unrecognized charge state for atom: 11\n",
      "RDKit ERROR: [16:59:49] UFFTYPER: Unrecognized charge state for atom: 11\n",
      "RDKit ERROR: [16:59:49] UFFTYPER: Unrecognized charge state for atom: 11\n",
      "RDKit ERROR: [16:59:49] UFFTYPER: Unrecognized charge state for atom: 11\n",
      "RDKit ERROR: [16:59:49] UFFTYPER: Unrecognized charge state for atom: 11\n",
      "RDKit ERROR: [16:59:49] UFFTYPER: Unrecognized charge state for atom: 11\n",
      "RDKit ERROR: [16:59:49] UFFTYPER: Unrecognized charge state for atom: 11\n",
      "RDKit ERROR: [16:59:49] UFFTYPER: Unrecognized charge state for atom: 11\n",
      "RDKit ERROR: [16:59:49] UFFTYPER: Unrecognized charge state for atom: 11\n",
      "RDKit ERROR: [16:59:49] UFFTYPER: Unrecognized charge state for atom: 11\n",
      "RDKit ERROR: [16:59:49] UFFTYPER: Unrecognized charge state for atom: 11\n",
      "RDKit ERROR: [16:59:49] UFFTYPER: Unrecognized charge state for atom: 11\n",
      "RDKit ERROR: [16:59:49] UFFTYPER: Unrecognized charge state for atom: 11\n",
      "RDKit ERROR: [16:59:49] UFFTYPER: Unrecognized charge state for atom: 11\n",
      "RDKit ERROR: [16:59:49] UFFTYPER: Unrecognized charge state for atom: 11\n",
      "RDKit ERROR: [16:59:49] UFFTYPER: Unrecognized charge state for atom: 11\n",
      "RDKit ERROR: [16:59:49] UFFTYPER: Unrecognized charge state for atom: 11\n",
      "RDKit ERROR: [16:59:49] UFFTYPER: Unrecognized charge state for atom: 11\n",
      "RDKit ERROR: [16:59:49] UFFTYPER: Unrecognized charge state for atom: 11\n",
      "RDKit ERROR: [16:59:49] UFFTYPER: Unrecognized charge state for atom: 11\n",
      "RDKit ERROR: [16:59:49] UFFTYPER: Unrecognized charge state for atom: 11\n",
      "RDKit ERROR: [16:59:49] UFFTYPER: Unrecognized charge state for atom: 11\n",
      "RDKit ERROR: [16:59:49] UFFTYPER: Unrecognized charge state for atom: 11\n",
      "RDKit ERROR: [16:59:49] UFFTYPER: Unrecognized charge state for atom: 11\n",
      "RDKit ERROR: [16:59:49] UFFTYPER: Unrecognized charge state for atom: 11\n",
      "RDKit ERROR: [16:59:49] UFFTYPER: Unrecognized charge state for atom: 11\n",
      "RDKit ERROR: [16:59:49] UFFTYPER: Unrecognized charge state for atom: 11\n",
      "RDKit ERROR: [16:59:49] UFFTYPER: Unrecognized charge state for atom: 11\n",
      "RDKit ERROR: [16:59:49] UFFTYPER: Unrecognized charge state for atom: 11\n",
      "RDKit ERROR: [16:59:49] UFFTYPER: Unrecognized charge state for atom: 11\n",
      "RDKit ERROR: [16:59:49] UFFTYPER: Unrecognized charge state for atom: 11\n",
      "RDKit ERROR: [16:59:49] UFFTYPER: Unrecognized charge state for atom: 11\n",
      "RDKit ERROR: [16:59:49] UFFTYPER: Unrecognized charge state for atom: 11\n",
      "RDKit ERROR: [16:59:49] UFFTYPER: Unrecognized charge state for atom: 11\n",
      "RDKit ERROR: [16:59:49] UFFTYPER: Unrecognized charge state for atom: 11\n",
      "RDKit ERROR: [16:59:49] UFFTYPER: Unrecognized charge state for atom: 11\n",
      "RDKit ERROR: [16:59:49] UFFTYPER: Unrecognized charge state for atom: 11\n",
      "RDKit ERROR: [16:59:49] UFFTYPER: Unrecognized charge state for atom: 11\n",
      "RDKit ERROR: [16:59:49] UFFTYPER: Unrecognized charge state for atom: 11\n",
      "RDKit ERROR: [16:59:49] UFFTYPER: Unrecognized charge state for atom: 11\n",
      "RDKit ERROR: [16:59:49] UFFTYPER: Unrecognized charge state for atom: 11\n",
      "RDKit ERROR: [16:59:49] UFFTYPER: Unrecognized charge state for atom: 11\n",
      "[16:59:49] UFFTYPER: Unrecognized charge state for atom: 11\n",
      "[16:59:49] UFFTYPER: Unrecognized charge state for atom: 11\n",
      "[16:59:49] UFFTYPER: Unrecognized charge state for atom: 11\n",
      "[16:59:49] UFFTYPER: Unrecognized charge state for atom: 11\n",
      "[16:59:49] UFFTYPER: Unrecognized charge state for atom: 11\n",
      "[16:59:49] UFFTYPER: Unrecognized charge state for atom: 11\n",
      "[16:59:49] UFFTYPER: Unrecognized charge state for atom: 11\n",
      "[16:59:49] UFFTYPER: Unrecognized charge state for atom: 11\n",
      "[16:59:49] UFFTYPER: Unrecognized charge state for atom: 11\n",
      "[16:59:49] UFFTYPER: Unrecognized charge state for atom: 11\n",
      "[16:59:49] UFFTYPER: Unrecognized charge state for atom: 11\n",
      "[16:59:49] UFFTYPER: Unrecognized charge state for atom: 11\n",
      "[16:59:49] UFFTYPER: Unrecognized charge state for atom: 11\n",
      "[16:59:49] UFFTYPER: Unrecognized charge state for atom: 11\n",
      "[16:59:49] UFFTYPER: Unrecognized charge state for atom: 11\n",
      "[16:59:49] UFFTYPER: Unrecognized charge state for atom: 11\n",
      "[16:59:49] UFFTYPER: Unrecognized charge state for atom: 11\n",
      "[16:59:49] UFFTYPER: Unrecognized charge state for atom: 11\n",
      "[16:59:49] UFFTYPER: Unrecognized charge state for atom: 11\n",
      "[16:59:49] UFFTYPER: Unrecognized charge state for atom: 11\n",
      "[16:59:49] UFFTYPER: Unrecognized charge state for atom: 11\n",
      "[16:59:49] UFFTYPER: Unrecognized charge state for atom: 11\n",
      "[16:59:49] UFFTYPER: Unrecognized charge state for atom: 11\n",
      "[16:59:49] UFFTYPER: Unrecognized charge state for atom: 11\n",
      "[16:59:49] UFFTYPER: Unrecognized charge state for atom: 11\n",
      "[16:59:49] UFFTYPER: Unrecognized charge state for atom: 11\n",
      "[16:59:49] UFFTYPER: Unrecognized charge state for atom: 11\n",
      "[16:59:49] UFFTYPER: Unrecognized charge state for atom: 11\n",
      "[16:59:49] UFFTYPER: Unrecognized charge state for atom: 11\n",
      "[16:59:49] UFFTYPER: Unrecognized charge state for atom: 11\n",
      "[16:59:49] UFFTYPER: Unrecognized charge state for atom: 11\n",
      "[16:59:49] UFFTYPER: Unrecognized charge state for atom: 11\n",
      "[16:59:49] UFFTYPER: Unrecognized charge state for atom: 11\n",
      "[16:59:49] UFFTYPER: Unrecognized charge state for atom: 11\n",
      "[16:59:49] UFFTYPER: Unrecognized charge state for atom: 11\n",
      "[16:59:49] UFFTYPER: Unrecognized charge state for atom: 11\n",
      "[16:59:49] UFFTYPER: Unrecognized charge state for atom: 11\n",
      "[16:59:49] UFFTYPER: Unrecognized charge state for atom: 11\n",
      "[16:59:49] UFFTYPER: Unrecognized charge state for atom: 11\n",
      "[16:59:49] UFFTYPER: Unrecognized charge state for atom: 11\n",
      "[16:59:49] UFFTYPER: Unrecognized charge state for atom: 11\n",
      "[16:59:49] UFFTYPER: Unrecognized charge state for atom: 11\n",
      "[16:59:49] UFFTYPER: Unrecognized charge state for atom: 11\n",
      "[16:59:49] UFFTYPER: Unrecognized charge state for atom: 11\n",
      "[16:59:49] UFFTYPER: Unrecognized charge state for atom: 11\n",
      "[16:59:49] UFFTYPER: Unrecognized charge state for atom: 11\n",
      "[16:59:49] UFFTYPER: Unrecognized charge state for atom: 11\n",
      "[16:59:49] UFFTYPER: Unrecognized charge state for atom: 11\n",
      "[16:59:49] UFFTYPER: Unrecognized charge state for atom: 11\n",
      "[16:59:49] UFFTYPER: Unrecognized charge state for atom: 11\n",
      "[16:59:49] UFFTYPER: Unrecognized charge state for atom: 11\n",
      "[16:59:49] UFFTYPER: Unrecognized charge state for atom: 11\n",
      "[16:59:49] UFFTYPER: Unrecognized charge state for atom: 11\n",
      "[16:59:49] UFFTYPER: Unrecognized charge state for atom: 11\n",
      "[16:59:49] UFFTYPER: Unrecognized charge state for atom: 11\n",
      "[16:59:49] UFFTYPER: Unrecognized charge state for atom: 11\n",
      "[16:59:49] UFFTYPER: Unrecognized charge state for atom: 11\n",
      "RDKit ERROR: [16:59:49] UFFTYPER: Unrecognized charge state for atom: 11\n",
      "RDKit ERROR: [16:59:49] UFFTYPER: Unrecognized charge state for atom: 11\n",
      "RDKit ERROR: [16:59:49] UFFTYPER: Unrecognized charge state for atom: 11\n",
      "RDKit ERROR: [16:59:49] UFFTYPER: Unrecognized charge state for atom: 11\n",
      "RDKit ERROR: [16:59:49] UFFTYPER: Unrecognized charge state for atom: 11\n",
      "RDKit ERROR: [16:59:49] UFFTYPER: Unrecognized charge state for atom: 11\n",
      "RDKit ERROR: [16:59:49] UFFTYPER: Unrecognized charge state for atom: 11\n",
      "RDKit ERROR: [16:59:49] UFFTYPER: Unrecognized charge state for atom: 11\n",
      "RDKit ERROR: [16:59:49] UFFTYPER: Unrecognized charge state for atom: 11\n",
      "RDKit ERROR: [16:59:49] UFFTYPER: Unrecognized charge state for atom: 11\n",
      "RDKit ERROR: [16:59:49] UFFTYPER: Unrecognized charge state for atom: 11\n",
      "RDKit ERROR: [16:59:49] UFFTYPER: Unrecognized charge state for atom: 11\n",
      "RDKit ERROR: [16:59:49] UFFTYPER: Unrecognized charge state for atom: 11\n",
      "RDKit ERROR: [16:59:49] UFFTYPER: Unrecognized charge state for atom: 11\n",
      "RDKit ERROR: [16:59:49] UFFTYPER: Unrecognized charge state for atom: 11\n",
      "RDKit ERROR: [16:59:49] UFFTYPER: Unrecognized charge state for atom: 11\n",
      "RDKit ERROR: [16:59:49] UFFTYPER: Unrecognized charge state for atom: 11\n",
      "RDKit ERROR: [16:59:49] UFFTYPER: Unrecognized charge state for atom: 11\n",
      "RDKit ERROR: [16:59:49] UFFTYPER: Unrecognized charge state for atom: 11\n",
      "RDKit ERROR: [16:59:49] UFFTYPER: Unrecognized charge state for atom: 11\n",
      "RDKit ERROR: [16:59:49] UFFTYPER: Unrecognized charge state for atom: 11\n",
      "RDKit ERROR: [16:59:49] UFFTYPER: Unrecognized charge state for atom: 11\n",
      "RDKit ERROR: [16:59:49] UFFTYPER: Unrecognized charge state for atom: 11\n",
      "RDKit ERROR: [16:59:49] UFFTYPER: Unrecognized charge state for atom: 11\n",
      "RDKit ERROR: [16:59:49] UFFTYPER: Unrecognized charge state for atom: 11\n",
      "RDKit ERROR: [16:59:49] UFFTYPER: Unrecognized charge state for atom: 11\n",
      "RDKit ERROR: [16:59:49] UFFTYPER: Unrecognized charge state for atom: 11\n",
      "RDKit ERROR: [16:59:49] UFFTYPER: Unrecognized charge state for atom: 11\n",
      "RDKit ERROR: [16:59:49] UFFTYPER: Unrecognized charge state for atom: 11\n",
      "RDKit ERROR: [16:59:49] UFFTYPER: Unrecognized charge state for atom: 11\n"
     ]
    },
    {
     "name": "stdout",
     "output_type": "stream",
     "text": [
      "0\n"
     ]
    },
    {
     "name": "stderr",
     "output_type": "stream",
     "text": [
      "RDKit ERROR: [16:59:49] UFFTYPER: Unrecognized charge state for atom: 11\n",
      "RDKit ERROR: [16:59:49] UFFTYPER: Unrecognized charge state for atom: 11\n",
      "RDKit ERROR: [16:59:49] UFFTYPER: Unrecognized charge state for atom: 11\n",
      "RDKit ERROR: [16:59:49] UFFTYPER: Unrecognized charge state for atom: 11\n",
      "RDKit ERROR: [16:59:49] UFFTYPER: Unrecognized charge state for atom: 11\n",
      "RDKit ERROR: [16:59:49] UFFTYPER: Unrecognized charge state for atom: 11\n",
      "RDKit ERROR: [16:59:49] UFFTYPER: Unrecognized charge state for atom: 11\n",
      "RDKit ERROR: [16:59:49] UFFTYPER: Unrecognized charge state for atom: 11\n",
      "RDKit ERROR: [16:59:49] UFFTYPER: Unrecognized charge state for atom: 11\n",
      "RDKit ERROR: [16:59:49] UFFTYPER: Unrecognized charge state for atom: 11\n",
      "RDKit ERROR: [16:59:49] UFFTYPER: Unrecognized charge state for atom: 11\n",
      "RDKit ERROR: [16:59:49] UFFTYPER: Unrecognized charge state for atom: 11\n",
      "RDKit ERROR: [16:59:49] UFFTYPER: Unrecognized charge state for atom: 11\n",
      "RDKit ERROR: [16:59:49] UFFTYPER: Unrecognized charge state for atom: 11\n",
      "[16:59:49] UFFTYPER: Unrecognized charge state for atom: 11\n",
      "[16:59:49] UFFTYPER: Unrecognized charge state for atom: 11\n",
      "[16:59:49] UFFTYPER: Unrecognized charge state for atom: 11\n",
      "[16:59:49] UFFTYPER: Unrecognized charge state for atom: 11\n",
      "[16:59:49] UFFTYPER: Unrecognized charge state for atom: 11\n",
      "[16:59:49] UFFTYPER: Unrecognized charge state for atom: 11\n",
      "[16:59:49] UFFTYPER: Unrecognized charge state for atom: 11\n",
      "[16:59:49] UFFTYPER: Unrecognized charge state for atom: 11\n",
      "[16:59:49] UFFTYPER: Unrecognized charge state for atom: 11\n",
      "[16:59:49] UFFTYPER: Unrecognized charge state for atom: 11\n",
      "[16:59:49] UFFTYPER: Unrecognized charge state for atom: 11\n",
      "[16:59:49] UFFTYPER: Unrecognized charge state for atom: 11\n",
      "[16:59:49] UFFTYPER: Unrecognized charge state for atom: 11\n",
      "[16:59:49] UFFTYPER: Unrecognized charge state for atom: 11\n",
      "[16:59:49] UFFTYPER: Unrecognized charge state for atom: 11\n",
      "[16:59:49] UFFTYPER: Unrecognized charge state for atom: 11\n",
      "[16:59:49] UFFTYPER: Unrecognized charge state for atom: 11\n",
      "[16:59:49] UFFTYPER: Unrecognized charge state for atom: 11\n",
      "[16:59:49] UFFTYPER: Unrecognized charge state for atom: 11\n",
      "[16:59:49] UFFTYPER: Unrecognized charge state for atom: 11\n",
      "[16:59:49] UFFTYPER: Unrecognized charge state for atom: 11\n",
      "[16:59:49] UFFTYPER: Unrecognized charge state for atom: 11\n",
      "[16:59:49] UFFTYPER: Unrecognized charge state for atom: 11\n",
      "[16:59:49] UFFTYPER: Unrecognized charge state for atom: 11\n",
      "[16:59:49] UFFTYPER: Unrecognized charge state for atom: 11\n",
      "[16:59:49] UFFTYPER: Unrecognized charge state for atom: 11\n",
      "[16:59:49] UFFTYPER: Unrecognized charge state for atom: 11\n",
      "[16:59:49] UFFTYPER: Unrecognized charge state for atom: 11\n",
      "[16:59:49] UFFTYPER: Unrecognized charge state for atom: 11\n",
      "[16:59:49] UFFTYPER: Unrecognized charge state for atom: 11\n",
      "[16:59:49] UFFTYPER: Unrecognized charge state for atom: 11\n",
      "[16:59:49] UFFTYPER: Unrecognized charge state for atom: 11\n",
      "[16:59:49] UFFTYPER: Unrecognized charge state for atom: 11\n",
      "[16:59:49] UFFTYPER: Unrecognized charge state for atom: 11\n",
      "[16:59:49] UFFTYPER: Unrecognized charge state for atom: 11\n",
      "[16:59:49] UFFTYPER: Unrecognized charge state for atom: 11\n",
      "[16:59:49] UFFTYPER: Unrecognized charge state for atom: 11\n",
      "[16:59:49] UFFTYPER: Unrecognized charge state for atom: 11\n",
      "[16:59:49] UFFTYPER: Unrecognized charge state for atom: 11\n",
      "[16:59:49] UFFTYPER: Unrecognized charge state for atom: 11\n",
      "[16:59:49] UFFTYPER: Unrecognized charge state for atom: 11\n",
      "[16:59:49] UFFTYPER: Unrecognized charge state for atom: 11\n",
      "[16:59:49] UFFTYPER: Unrecognized charge state for atom: 11\n",
      "[16:59:49] UFFTYPER: Unrecognized charge state for atom: 11\n"
     ]
    },
    {
     "name": "stdout",
     "output_type": "stream",
     "text": [
      "0\n",
      "0\n",
      "0\n",
      "Starting GOLD with conf file /home/benoit/bioactive_conformation_predictor/gold_docking_postprocessing/207/api_gold.conf\n"
     ]
    },
    {
     "name": "stderr",
     "output_type": "stream",
     "text": [
      "RDKit WARNING: [16:59:53] unknown|88|mol2|1|dock78: warning - O.co2 with non C.2 or S.o2 neighbor.\n",
      "RDKit WARNING: [16:59:53] unknown|88|mol2|1|dock16: warning - O.co2 with non C.2 or S.o2 neighbor.\n"
     ]
    },
    {
     "name": "stdout",
     "output_type": "stream",
     "text": [
      "Setting up GOLD environment...\n",
      "GOLD Version 2021.2.0\n",
      "Running:\n",
      " \n",
      "     \"/home/benoit/CCDC/Discovery_2021/GOLD/gold/d_linux_64/bin/gold_linux_64\" \"/home/benoit/bioactive_conformation_predictor/gold_docking_postprocessing/207/api_gold.conf\"\n",
      "\n"
     ]
    },
    {
     "name": "stderr",
     "output_type": "stream",
     "text": [
      "[16:59:53] unknown|88|mol2|1|dock78: warning - O.co2 with non C.2 or S.o2 neighbor.\n",
      "[16:59:53] unknown|88|mol2|1|dock16: warning - O.co2 with non C.2 or S.o2 neighbor.\n"
     ]
    },
    {
     "name": "stdout",
     "output_type": "stream",
     "text": [
      "Starting GOLD with conf file /home/benoit/bioactive_conformation_predictor/gold_docking_postprocessing/143/api_gold.conf\n",
      "Starting GOLD with conf file /home/benoit/bioactive_conformation_predictor/gold_docking_postprocessing/42/api_gold.conf\n"
     ]
    },
    {
     "name": "stderr",
     "output_type": "stream",
     "text": [
      "RDKit WARNING: [16:59:54] unknown|88|mol2|1|dock78: warning - O.co2 with non C.2 or S.o2 neighbor.\n",
      "RDKit WARNING: [16:59:54] unknown|88|mol2|1|dock91: warning - O.co2 with non C.2 or S.o2 neighbor.\n"
     ]
    },
    {
     "name": "stdout",
     "output_type": "stream",
     "text": [
      "0\n",
      "Setting up GOLD environment...\n",
      "GOLD Version 2021.2.0\n",
      "Running:\n",
      " \n",
      "     \"/home/benoit/CCDC/Discovery_2021/GOLD/gold/d_linux_64/bin/gold_linux_64\" \"/home/benoit/bioactive_conformation_predictor/gold_docking_postprocessing/143/api_gold.conf\"\n",
      "\n",
      "Setting up GOLD environment...\n",
      "GOLD Version 2021.2.0\n",
      "Running:\n",
      " \n",
      "     \"/home/benoit/CCDC/Discovery_2021/GOLD/gold/d_linux_64/bin/gold_linux_64\" \"/home/benoit/bioactive_conformation_predictor/gold_docking_postprocessing/42/api_gold.conf\"\n",
      "\n",
      "Starting GOLD with conf file /home/benoit/bioactive_conformation_predictor/gold_docking_postprocessing/236/api_gold.conf\n"
     ]
    },
    {
     "name": "stderr",
     "output_type": "stream",
     "text": [
      "[16:59:54] unknown|88|mol2|1|dock78: warning - O.co2 with non C.2 or S.o2 neighbor.\n",
      "[16:59:54] unknown|88|mol2|1|dock91: warning - O.co2 with non C.2 or S.o2 neighbor.\n",
      "RDKit WARNING: [16:59:54] unknown|88|mol2|1|dock42: warning - O.co2 with non C.2 or S.o2 neighbor.\n",
      "RDKit WARNING: [16:59:54] unknown|88|mol2|1|dock64: warning - O.co2 with non C.2 or S.o2 neighbor.\n"
     ]
    },
    {
     "name": "stdout",
     "output_type": "stream",
     "text": [
      "Setting up GOLD environment...\n",
      "GOLD Version 2021.2.0\n",
      "Running:\n",
      " \n",
      "     \"/home/benoit/CCDC/Discovery_2021/GOLD/gold/d_linux_64/bin/gold_linux_64\" \"/home/benoit/bioactive_conformation_predictor/gold_docking_postprocessing/236/api_gold.conf\"\n",
      "\n",
      "Starting GOLD with conf file /home/benoit/bioactive_conformation_predictor/gold_docking_postprocessing/89/api_gold.conf\n"
     ]
    },
    {
     "name": "stderr",
     "output_type": "stream",
     "text": [
      "[16:59:54] unknown|88|mol2|1|dock42: warning - O.co2 with non C.2 or S.o2 neighbor.\n",
      "[16:59:54] unknown|88|mol2|1|dock64: warning - O.co2 with non C.2 or S.o2 neighbor.\n"
     ]
    },
    {
     "name": "stdout",
     "output_type": "stream",
     "text": [
      "0\n",
      "Setting up GOLD environment...\n",
      "GOLD Version 2021.2.0\n",
      "Running:\n",
      " \n",
      "     \"/home/benoit/CCDC/Discovery_2021/GOLD/gold/d_linux_64/bin/gold_linux_64\" \"/home/benoit/bioactive_conformation_predictor/gold_docking_postprocessing/89/api_gold.conf\"\n",
      "\n"
     ]
    },
    {
     "name": "stderr",
     "output_type": "stream",
     "text": [
      "RDKit WARNING: [16:59:55] unknown|185|mol2|1|dock62: warning - O.co2 with non C.2 or S.o2 neighbor.\n",
      "RDKit WARNING: [16:59:55] unknown|185|mol2|1|dock67: warning - O.co2 with non C.2 or S.o2 neighbor.\n",
      "RDKit WARNING: [16:59:55] unknown|185|mol2|1|dock99: warning - O.co2 with non C.2 or S.o2 neighbor.\n",
      "RDKit WARNING: [16:59:55] unknown|185|mol2|1|dock66: warning - O.co2 with non C.2 or S.o2 neighbor.\n",
      "[16:59:55] unknown|185|mol2|1|dock62: warning - O.co2 with non C.2 or S.o2 neighbor.\n",
      "[16:59:55] unknown|185|mol2|1|dock67: warning - O.co2 with non C.2 or S.o2 neighbor.\n",
      "[16:59:55] unknown|185|mol2|1|dock99: warning - O.co2 with non C.2 or S.o2 neighbor.\n",
      "[16:59:55] unknown|185|mol2|1|dock66: warning - O.co2 with non C.2 or S.o2 neighbor.\n",
      "RDKit WARNING: [16:59:55] unknown|185|mol2|1|dock99: warning - O.co2 with non C.2 or S.o2 neighbor.\n",
      "RDKit WARNING: [16:59:55] unknown|185|mol2|1|dock34: warning - O.co2 with non C.2 or S.o2 neighbor.\n"
     ]
    },
    {
     "name": "stdout",
     "output_type": "stream",
     "text": [
      "0\n",
      "Starting GOLD with conf file /home/benoit/bioactive_conformation_predictor/gold_docking_postprocessing/186/api_gold.conf\n"
     ]
    },
    {
     "name": "stderr",
     "output_type": "stream",
     "text": [
      "[16:59:55] unknown|185|mol2|1|dock99: warning - O.co2 with non C.2 or S.o2 neighbor.\n",
      "[16:59:55] unknown|185|mol2|1|dock34: warning - O.co2 with non C.2 or S.o2 neighbor.\n"
     ]
    },
    {
     "name": "stdout",
     "output_type": "stream",
     "text": [
      "Setting up GOLD environment...\n",
      "GOLD Version 2021.2.0\n",
      "Running:\n",
      " \n",
      "     \"/home/benoit/CCDC/Discovery_2021/GOLD/gold/d_linux_64/bin/gold_linux_64\" \"/home/benoit/bioactive_conformation_predictor/gold_docking_postprocessing/186/api_gold.conf\"\n",
      "\n",
      "0\n",
      "Starting GOLD with conf file /home/benoit/bioactive_conformation_predictor/gold_docking_postprocessing/260/api_gold.conf\n",
      "Setting up GOLD environment...\n",
      "GOLD Version 2021.2.0\n",
      "Running:\n",
      " \n",
      "     \"/home/benoit/CCDC/Discovery_2021/GOLD/gold/d_linux_64/bin/gold_linux_64\" \"/home/benoit/bioactive_conformation_predictor/gold_docking_postprocessing/260/api_gold.conf\"\n",
      "\n"
     ]
    },
    {
     "name": "stderr",
     "output_type": "stream",
     "text": [
      "RDKit WARNING: [16:59:58] unknown|279|mol2|1|dock85: warning - O.co2 with non C.2 or S.o2 neighbor.\n",
      "RDKit WARNING: [16:59:58] unknown|279|mol2|1|dock41: warning - O.co2 with non C.2 or S.o2 neighbor.\n",
      "[16:59:58] unknown|279|mol2|1|dock85: warning - O.co2 with non C.2 or S.o2 neighbor.\n",
      "[16:59:58] unknown|279|mol2|1|dock41: warning - O.co2 with non C.2 or S.o2 neighbor.\n",
      "RDKit WARNING: [16:59:58] unknown|279|mol2|1|dock85: warning - O.co2 with non C.2 or S.o2 neighbor.\n",
      "RDKit WARNING: [16:59:58] unknown|279|mol2|1|dock41: warning - O.co2 with non C.2 or S.o2 neighbor.\n",
      "[16:59:58] unknown|279|mol2|1|dock85: warning - O.co2 with non C.2 or S.o2 neighbor.\n",
      "[16:59:58] unknown|279|mol2|1|dock41: warning - O.co2 with non C.2 or S.o2 neighbor.\n",
      "RDKit WARNING: [16:59:58] unknown|279|mol2|1|dock85: warning - O.co2 with non C.2 or S.o2 neighbor.\n",
      "RDKit WARNING: [16:59:58] unknown|279|mol2|1|dock41: warning - O.co2 with non C.2 or S.o2 neighbor.\n"
     ]
    },
    {
     "name": "stdout",
     "output_type": "stream",
     "text": [
      "Starting GOLD with conf file /home/benoit/bioactive_conformation_predictor/gold_docking_postprocessing/280/api_gold.conf\n"
     ]
    },
    {
     "name": "stderr",
     "output_type": "stream",
     "text": [
      "[16:59:58] unknown|279|mol2|1|dock85: warning - O.co2 with non C.2 or S.o2 neighbor.\n",
      "[16:59:58] unknown|279|mol2|1|dock41: warning - O.co2 with non C.2 or S.o2 neighbor.\n"
     ]
    },
    {
     "name": "stdout",
     "output_type": "stream",
     "text": [
      "Setting up GOLD environment...\n",
      "GOLD Version 2021.2.0\n",
      "Running:\n",
      " \n",
      "     \"/home/benoit/CCDC/Discovery_2021/GOLD/gold/d_linux_64/bin/gold_linux_64\" \"/home/benoit/bioactive_conformation_predictor/gold_docking_postprocessing/280/api_gold.conf\"\n",
      "\n",
      "0\n",
      "Starting GOLD with conf file /home/benoit/bioactive_conformation_predictor/gold_docking_postprocessing/66/api_gold.conf\n",
      "Setting up GOLD environment...\n",
      "GOLD Version 2021.2.0\n",
      "Running:\n",
      " \n",
      "     \"/home/benoit/CCDC/Discovery_2021/GOLD/gold/d_linux_64/bin/gold_linux_64\" \"/home/benoit/bioactive_conformation_predictor/gold_docking_postprocessing/66/api_gold.conf\"\n",
      "\n"
     ]
    },
    {
     "name": "stderr",
     "output_type": "stream",
     "text": [
      "RDKit ERROR: [17:00:00] non-ring atom 2 marked aromatic\n",
      "RDKit ERROR: [17:00:00] non-ring atom 2 marked aromatic\n",
      "RDKit ERROR: [17:00:00] non-ring atom 2 marked aromatic\n",
      "RDKit ERROR: [17:00:00] non-ring atom 2 marked aromatic\n",
      "[17:00:00] non-ring atom 2 marked aromatic\n",
      "[17:00:00] non-ring atom 2 marked aromatic\n",
      "[17:00:00] non-ring atom 2 marked aromatic\n",
      "[17:00:00] non-ring atom 2 marked aromatic\n",
      "RDKit ERROR: [17:00:00] non-ring atom 2 marked aromatic\n",
      "RDKit ERROR: [17:00:00] non-ring atom 2 marked aromatic\n"
     ]
    },
    {
     "name": "stdout",
     "output_type": "stream",
     "text": [
      "Starting GOLD with conf file /home/benoit/bioactive_conformation_predictor/gold_docking_postprocessing/90/api_gold.conf\n"
     ]
    },
    {
     "name": "stderr",
     "output_type": "stream",
     "text": [
      "[17:00:00] non-ring atom 2 marked aromatic\n",
      "[17:00:00] non-ring atom 2 marked aromatic\n"
     ]
    },
    {
     "name": "stdout",
     "output_type": "stream",
     "text": [
      "0\n",
      "Setting up GOLD environment...\n",
      "GOLD Version 2021.2.0\n",
      "Running:\n",
      " \n",
      "     \"/home/benoit/CCDC/Discovery_2021/GOLD/gold/d_linux_64/bin/gold_linux_64\" \"/home/benoit/bioactive_conformation_predictor/gold_docking_postprocessing/90/api_gold.conf\"\n",
      "\n",
      "0\n",
      "0\n"
     ]
    },
    {
     "name": "stderr",
     "output_type": "stream",
     "text": [
      "RDKit ERROR: [17:00:04] non-ring atom 1 marked aromatic\n",
      "RDKit ERROR: [17:00:04] non-ring atom 1 marked aromatic\n",
      "RDKit ERROR: [17:00:04] non-ring atom 1 marked aromatic\n",
      "RDKit ERROR: [17:00:04] non-ring atom 1 marked aromatic\n",
      "[17:00:04] non-ring atom 1 marked aromatic\n",
      "[17:00:04] non-ring atom 1 marked aromatic\n",
      "[17:00:04] non-ring atom 1 marked aromatic\n",
      "[17:00:04] non-ring atom 1 marked aromatic\n",
      "RDKit ERROR: [17:00:04] non-ring atom 1 marked aromatic\n",
      "RDKit ERROR: [17:00:04] non-ring atom 1 marked aromatic\n"
     ]
    },
    {
     "name": "stdout",
     "output_type": "stream",
     "text": [
      "Starting GOLD with conf file /home/benoit/bioactive_conformation_predictor/gold_docking_postprocessing/114/api_gold.conf\n",
      "Starting GOLD with conf file /home/benoit/bioactive_conformation_predictor/gold_docking_postprocessing/187/api_gold.conf\n"
     ]
    },
    {
     "name": "stderr",
     "output_type": "stream",
     "text": [
      "[17:00:04] non-ring atom 1 marked aromatic\n",
      "[17:00:04] non-ring atom 1 marked aromatic\n"
     ]
    },
    {
     "name": "stdout",
     "output_type": "stream",
     "text": [
      "Setting up GOLD environment...\n",
      "GOLD Version 2021.2.0\n",
      "Running:\n",
      " \n",
      "     \"/home/benoit/CCDC/Discovery_2021/GOLD/gold/d_linux_64/bin/gold_linux_64\" \"/home/benoit/bioactive_conformation_predictor/gold_docking_postprocessing/114/api_gold.conf\"\n",
      "\n",
      "Setting up GOLD environment...\n",
      "GOLD Version 2021.2.0\n",
      "Running:\n",
      " \n",
      "     \"/home/benoit/CCDC/Discovery_2021/GOLD/gold/d_linux_64/bin/gold_linux_64\" \"/home/benoit/bioactive_conformation_predictor/gold_docking_postprocessing/187/api_gold.conf\"\n",
      "\n",
      "0\n",
      "0\n",
      "Starting GOLD with conf file /home/benoit/bioactive_conformation_predictor/gold_docking_postprocessing/17/api_gold.conf\n"
     ]
    },
    {
     "name": "stderr",
     "output_type": "stream",
     "text": [
      "RDKit WARNING: [17:00:08] unknown|260|mol2|1|dock1: warning - O.co2 with non C.2 or S.o2 neighbor.\n",
      "RDKit WARNING: [17:00:08] unknown|260|mol2|1|dock58: warning - O.co2 with non C.2 or S.o2 neighbor.\n"
     ]
    },
    {
     "name": "stdout",
     "output_type": "stream",
     "text": [
      "Setting up GOLD environment...\n",
      "GOLD Version 2021.2.0\n",
      "Running:\n",
      " \n",
      "     \"/home/benoit/CCDC/Discovery_2021/GOLD/gold/d_linux_64/bin/gold_linux_64\" \"/home/benoit/bioactive_conformation_predictor/gold_docking_postprocessing/17/api_gold.conf\"\n",
      "\n",
      "0\n"
     ]
    },
    {
     "name": "stderr",
     "output_type": "stream",
     "text": [
      "RDKit WARNING: [17:00:09] unknown|260|mol2|1|dock1: warning - O.co2 with non C.2 or S.o2 neighbor.\n",
      "RDKit WARNING: [17:00:09] unknown|260|mol2|1|dock58: warning - O.co2 with non C.2 or S.o2 neighbor.\n",
      "[17:00:08] unknown|260|mol2|1|dock1: warning - O.co2 with non C.2 or S.o2 neighbor.\n",
      "[17:00:08] unknown|260|mol2|1|dock58: warning - O.co2 with non C.2 or S.o2 neighbor.\n",
      "[17:00:09] unknown|260|mol2|1|dock1: warning - O.co2 with non C.2 or S.o2 neighbor.\n",
      "[17:00:09] unknown|260|mol2|1|dock58: warning - O.co2 with non C.2 or S.o2 neighbor.\n",
      "RDKit WARNING: [17:00:09] unknown|260|mol2|1|dock88: warning - O.co2 with non C.2 or S.o2 neighbor.\n",
      "RDKit WARNING: [17:00:09] unknown|260|mol2|1|dock72: warning - O.co2 with non C.2 or S.o2 neighbor.\n"
     ]
    },
    {
     "name": "stdout",
     "output_type": "stream",
     "text": [
      "Starting GOLD with conf file /home/benoit/bioactive_conformation_predictor/gold_docking_postprocessing/261/api_gold.conf\n"
     ]
    },
    {
     "name": "stderr",
     "output_type": "stream",
     "text": [
      "[17:00:09] unknown|260|mol2|1|dock88: warning - O.co2 with non C.2 or S.o2 neighbor.\n",
      "[17:00:09] unknown|260|mol2|1|dock72: warning - O.co2 with non C.2 or S.o2 neighbor.\n"
     ]
    },
    {
     "name": "stdout",
     "output_type": "stream",
     "text": [
      "Setting up GOLD environment...\n",
      "GOLD Version 2021.2.0\n",
      "Running:\n",
      " \n",
      "     \"/home/benoit/CCDC/Discovery_2021/GOLD/gold/d_linux_64/bin/gold_linux_64\" \"/home/benoit/bioactive_conformation_predictor/gold_docking_postprocessing/261/api_gold.conf\"\n",
      "\n",
      "Starting GOLD with conf file /home/benoit/bioactive_conformation_predictor/gold_docking_postprocessing/281/api_gold.conf\n",
      "0\n",
      "Setting up GOLD environment...\n",
      "GOLD Version 2021.2.0\n",
      "Running:\n",
      " \n",
      "     \"/home/benoit/CCDC/Discovery_2021/GOLD/gold/d_linux_64/bin/gold_linux_64\" \"/home/benoit/bioactive_conformation_predictor/gold_docking_postprocessing/281/api_gold.conf\"\n",
      "\n",
      "Starting GOLD with conf file /home/benoit/bioactive_conformation_predictor/gold_docking_postprocessing/237/api_gold.conf\n",
      "Setting up GOLD environment...\n",
      "GOLD Version 2021.2.0\n",
      "Running:\n",
      " \n",
      "     \"/home/benoit/CCDC/Discovery_2021/GOLD/gold/d_linux_64/bin/gold_linux_64\" \"/home/benoit/bioactive_conformation_predictor/gold_docking_postprocessing/237/api_gold.conf\"\n",
      "\n",
      "Starting GOLD with conf file /home/benoit/bioactive_conformation_predictor/gold_docking_postprocessing/288/api_gold.conf\n",
      "Setting up GOLD environment...\n",
      "GOLD Version 2021.2.0\n",
      "Running:\n",
      " \n",
      "     \"/home/benoit/CCDC/Discovery_2021/GOLD/gold/d_linux_64/bin/gold_linux_64\" \"/home/benoit/bioactive_conformation_predictor/gold_docking_postprocessing/288/api_gold.conf\"\n",
      "\n",
      "0\n",
      "Starting GOLD with conf file /home/benoit/bioactive_conformation_predictor/gold_docking_postprocessing/188/api_gold.conf\n",
      "Setting up GOLD environment...\n",
      "GOLD Version 2021.2.0\n",
      "Running:\n",
      " \n",
      "     \"/home/benoit/CCDC/Discovery_2021/GOLD/gold/d_linux_64/bin/gold_linux_64\" \"/home/benoit/bioactive_conformation_predictor/gold_docking_postprocessing/188/api_gold.conf\"\n",
      "\n",
      "0\n",
      "0\n",
      "0\n",
      "0\n",
      "Starting GOLD with conf file /home/benoit/bioactive_conformation_predictor/gold_docking_postprocessing/18/api_gold.conf\n",
      "0\n",
      "Setting up GOLD environment...\n",
      "GOLD Version 2021.2.0\n",
      "Running:\n",
      " \n",
      "     \"/home/benoit/CCDC/Discovery_2021/GOLD/gold/d_linux_64/bin/gold_linux_64\" \"/home/benoit/bioactive_conformation_predictor/gold_docking_postprocessing/18/api_gold.conf\"\n",
      "\n",
      "Starting GOLD with conf file /home/benoit/bioactive_conformation_predictor/gold_docking_postprocessing/208/api_gold.conf\n",
      "0\n",
      "Starting GOLD with conf file /home/benoit/bioactive_conformation_predictor/gold_docking_postprocessing/67/api_gold.conf\n",
      "Setting up GOLD environment...\n",
      "GOLD Version 2021.2.0\n",
      "Running:\n",
      " \n",
      "     \"/home/benoit/CCDC/Discovery_2021/GOLD/gold/d_linux_64/bin/gold_linux_64\" \"/home/benoit/bioactive_conformation_predictor/gold_docking_postprocessing/208/api_gold.conf\"\n",
      "\n",
      "Setting up GOLD environment...\n",
      "GOLD Version 2021.2.0\n",
      "Running:\n",
      " \n",
      "     \"/home/benoit/CCDC/Discovery_2021/GOLD/gold/d_linux_64/bin/gold_linux_64\" \"/home/benoit/bioactive_conformation_predictor/gold_docking_postprocessing/67/api_gold.conf\"\n",
      "\n",
      "0\n",
      "Starting GOLD with conf file /home/benoit/bioactive_conformation_predictor/gold_docking_postprocessing/115/api_gold.conf\n",
      "Setting up GOLD environment...\n",
      "GOLD Version 2021.2.0\n",
      "Running:\n",
      " \n",
      "     \"/home/benoit/CCDC/Discovery_2021/GOLD/gold/d_linux_64/bin/gold_linux_64\" \"/home/benoit/bioactive_conformation_predictor/gold_docking_postprocessing/115/api_gold.conf\"\n",
      "\n",
      "0\n",
      "Starting GOLD with conf file /home/benoit/bioactive_conformation_predictor/gold_docking_postprocessing/43/api_gold.conf\n",
      "Starting GOLD with conf file /home/benoit/bioactive_conformation_predictor/gold_docking_postprocessing/91/api_gold.conf\n",
      "Setting up GOLD environment...\n",
      "GOLD Version 2021.2.0\n",
      "Running:\n",
      " \n",
      "     \"/home/benoit/CCDC/Discovery_2021/GOLD/gold/d_linux_64/bin/gold_linux_64\" \"/home/benoit/bioactive_conformation_predictor/gold_docking_postprocessing/43/api_gold.conf\"\n",
      "\n",
      "Setting up GOLD environment...\n",
      "GOLD Version 2021.2.0\n",
      "Running:\n",
      " \n",
      "     \"/home/benoit/CCDC/Discovery_2021/GOLD/gold/d_linux_64/bin/gold_linux_64\" \"/home/benoit/bioactive_conformation_predictor/gold_docking_postprocessing/91/api_gold.conf\"\n",
      "\n",
      "Starting GOLD with conf file /home/benoit/bioactive_conformation_predictor/gold_docking_postprocessing/162/api_gold.conf\n",
      "Setting up GOLD environment...\n",
      "GOLD Version 2021.2.0\n",
      "Running:\n",
      " \n",
      "     \"/home/benoit/CCDC/Discovery_2021/GOLD/gold/d_linux_64/bin/gold_linux_64\" \"/home/benoit/bioactive_conformation_predictor/gold_docking_postprocessing/162/api_gold.conf\"\n",
      "\n",
      "Starting GOLD with conf file /home/benoit/bioactive_conformation_predictor/gold_docking_postprocessing/289/api_gold.conf\n",
      "0\n",
      "Setting up GOLD environment...\n",
      "GOLD Version 2021.2.0\n",
      "Running:\n",
      " \n",
      "     \"/home/benoit/CCDC/Discovery_2021/GOLD/gold/d_linux_64/bin/gold_linux_64\" \"/home/benoit/bioactive_conformation_predictor/gold_docking_postprocessing/289/api_gold.conf\"\n",
      "\n",
      "0\n",
      "Starting GOLD with conf file /home/benoit/bioactive_conformation_predictor/gold_docking_postprocessing/19/api_gold.conf\n",
      "Setting up GOLD environment...\n",
      "GOLD Version 2021.2.0\n",
      "Running:\n",
      " \n",
      "     \"/home/benoit/CCDC/Discovery_2021/GOLD/gold/d_linux_64/bin/gold_linux_64\" \"/home/benoit/bioactive_conformation_predictor/gold_docking_postprocessing/19/api_gold.conf\"\n",
      "\n",
      "Starting GOLD with conf file /home/benoit/bioactive_conformation_predictor/gold_docking_postprocessing/282/api_gold.conf\n",
      "Setting up GOLD environment...\n",
      "GOLD Version 2021.2.0\n",
      "Running:\n",
      " \n",
      "     \"/home/benoit/CCDC/Discovery_2021/GOLD/gold/d_linux_64/bin/gold_linux_64\" \"/home/benoit/bioactive_conformation_predictor/gold_docking_postprocessing/282/api_gold.conf\"\n",
      "\n",
      "0\n",
      "0\n",
      "0\n",
      "Starting GOLD with conf file /home/benoit/bioactive_conformation_predictor/gold_docking_postprocessing/209/api_gold.conf\n",
      "Setting up GOLD environment...\n",
      "GOLD Version 2021.2.0\n",
      "Running:\n",
      " \n",
      "     \"/home/benoit/CCDC/Discovery_2021/GOLD/gold/d_linux_64/bin/gold_linux_64\" \"/home/benoit/bioactive_conformation_predictor/gold_docking_postprocessing/209/api_gold.conf\"\n",
      "\n",
      "Starting GOLD with conf file /home/benoit/bioactive_conformation_predictor/gold_docking_postprocessing/189/api_gold.conf\n",
      "Setting up GOLD environment...\n",
      "GOLD Version 2021.2.0\n",
      "Running:\n",
      " \n",
      "     \"/home/benoit/CCDC/Discovery_2021/GOLD/gold/d_linux_64/bin/gold_linux_64\" \"/home/benoit/bioactive_conformation_predictor/gold_docking_postprocessing/189/api_gold.conf\"\n",
      "\n",
      "0\n",
      "0\n",
      "0\n",
      "Starting GOLD with conf file /home/benoit/bioactive_conformation_predictor/gold_docking_postprocessing/262/api_gold.conf\n",
      "Setting up GOLD environment...\n",
      "GOLD Version 2021.2.0\n",
      "Running:\n",
      " \n",
      "     \"/home/benoit/CCDC/Discovery_2021/GOLD/gold/d_linux_64/bin/gold_linux_64\" \"/home/benoit/bioactive_conformation_predictor/gold_docking_postprocessing/262/api_gold.conf\"\n",
      "\n",
      "0\n",
      "Starting GOLD with conf file /home/benoit/bioactive_conformation_predictor/gold_docking_postprocessing/68/api_gold.conf\n",
      "Setting up GOLD environment...\n",
      "GOLD Version 2021.2.0\n",
      "Running:\n",
      " \n",
      "     \"/home/benoit/CCDC/Discovery_2021/GOLD/gold/d_linux_64/bin/gold_linux_64\" \"/home/benoit/bioactive_conformation_predictor/gold_docking_postprocessing/68/api_gold.conf\"\n",
      "\n",
      "Starting GOLD with conf file /home/benoit/bioactive_conformation_predictor/gold_docking_postprocessing/44/api_gold.conf\n",
      "Setting up GOLD environment...\n",
      "GOLD Version 2021.2.0\n",
      "Running:\n",
      " \n",
      "     \"/home/benoit/CCDC/Discovery_2021/GOLD/gold/d_linux_64/bin/gold_linux_64\" \"/home/benoit/bioactive_conformation_predictor/gold_docking_postprocessing/44/api_gold.conf\"\n",
      "\n",
      "Starting GOLD with conf file /home/benoit/bioactive_conformation_predictor/gold_docking_postprocessing/238/api_gold.conf\n"
     ]
    },
    {
     "name": "stderr",
     "output_type": "stream",
     "text": [
      "RDKit WARNING: [17:00:43] unknown|289|mol2|1|dock58: warning - O.co2 with non C.2 or S.o2 neighbor.\n",
      "RDKit WARNING: [17:00:43] unknown|289|mol2|1|dock42: warning - O.co2 with non C.2 or S.o2 neighbor.\n"
     ]
    },
    {
     "name": "stdout",
     "output_type": "stream",
     "text": [
      "Setting up GOLD environment...\n",
      "GOLD Version 2021.2.0\n",
      "Running:\n",
      " \n",
      "     \"/home/benoit/CCDC/Discovery_2021/GOLD/gold/d_linux_64/bin/gold_linux_64\" \"/home/benoit/bioactive_conformation_predictor/gold_docking_postprocessing/238/api_gold.conf\"\n",
      "\n"
     ]
    },
    {
     "name": "stderr",
     "output_type": "stream",
     "text": [
      "[17:00:43] unknown|289|mol2|1|dock58: warning - O.co2 with non C.2 or S.o2 neighbor.\n",
      "[17:00:43] unknown|289|mol2|1|dock42: warning - O.co2 with non C.2 or S.o2 neighbor.\n",
      "RDKit WARNING: [17:00:44] unknown|289|mol2|1|dock12: warning - O.co2 with non C.2 or S.o2 neighbor.\n",
      "RDKit WARNING: [17:00:44] unknown|289|mol2|1|dock22: warning - O.co2 with non C.2 or S.o2 neighbor.\n",
      "[17:00:44] unknown|289|mol2|1|dock12: warning - O.co2 with non C.2 or S.o2 neighbor.\n",
      "[17:00:44] unknown|289|mol2|1|dock22: warning - O.co2 with non C.2 or S.o2 neighbor.\n",
      "RDKit WARNING: [17:00:44] unknown|289|mol2|1|dock58: warning - O.co2 with non C.2 or S.o2 neighbor.\n",
      "RDKit WARNING: [17:00:44] unknown|289|mol2|1|dock42: warning - O.co2 with non C.2 or S.o2 neighbor.\n",
      "[17:00:44] unknown|289|mol2|1|dock58: warning - O.co2 with non C.2 or S.o2 neighbor.\n",
      "[17:00:44] unknown|289|mol2|1|dock42: warning - O.co2 with non C.2 or S.o2 neighbor.\n"
     ]
    },
    {
     "name": "stdout",
     "output_type": "stream",
     "text": [
      "Starting GOLD with conf file /home/benoit/bioactive_conformation_predictor/gold_docking_postprocessing/290/api_gold.conf\n",
      "Setting up GOLD environment...\n",
      "GOLD Version 2021.2.0\n",
      "Running:\n",
      " \n",
      "     \"/home/benoit/CCDC/Discovery_2021/GOLD/gold/d_linux_64/bin/gold_linux_64\" \"/home/benoit/bioactive_conformation_predictor/gold_docking_postprocessing/290/api_gold.conf\"\n",
      "\n",
      "0\n",
      "0\n",
      "Starting GOLD with conf file /home/benoit/bioactive_conformation_predictor/gold_docking_postprocessing/92/api_gold.conf\n",
      "Setting up GOLD environment...\n",
      "GOLD Version 2021.2.0\n",
      "Running:\n",
      " \n",
      "     \"/home/benoit/CCDC/Discovery_2021/GOLD/gold/d_linux_64/bin/gold_linux_64\" \"/home/benoit/bioactive_conformation_predictor/gold_docking_postprocessing/92/api_gold.conf\"\n",
      "\n",
      "Starting GOLD with conf file /home/benoit/bioactive_conformation_predictor/gold_docking_postprocessing/190/api_gold.conf\n",
      "Setting up GOLD environment...\n",
      "GOLD Version 2021.2.0\n",
      "Running:\n",
      " \n",
      "     \"/home/benoit/CCDC/Discovery_2021/GOLD/gold/d_linux_64/bin/gold_linux_64\" \"/home/benoit/bioactive_conformation_predictor/gold_docking_postprocessing/190/api_gold.conf\"\n",
      "\n",
      "0\n",
      "0\n",
      "Starting GOLD with conf file /home/benoit/bioactive_conformation_predictor/gold_docking_postprocessing/263/api_gold.conf\n",
      "Setting up GOLD environment...\n",
      "GOLD Version 2021.2.0\n",
      "Running:\n",
      " \n",
      "     \"/home/benoit/CCDC/Discovery_2021/GOLD/gold/d_linux_64/bin/gold_linux_64\" \"/home/benoit/bioactive_conformation_predictor/gold_docking_postprocessing/263/api_gold.conf\"\n",
      "\n",
      "0\n",
      "0\n"
     ]
    },
    {
     "name": "stderr",
     "output_type": "stream",
     "text": [
      "RDKit WARNING: [17:00:57] unknown|209|mol2|1|dock24: warning - O.co2 with non C.2 or S.o2 neighbor.\n",
      "RDKit WARNING: [17:00:57] unknown|209|mol2|1|dock96: warning - O.co2 with non C.2 or S.o2 neighbor.\n",
      "[17:00:57] unknown|209|mol2|1|dock24: warning - O.co2 with non C.2 or S.o2 neighbor.\n",
      "[17:00:57] unknown|209|mol2|1|dock96: warning - O.co2 with non C.2 or S.o2 neighbor.\n",
      "RDKit WARNING: [17:00:57] unknown|209|mol2|1|dock96: warning - O.co2 with non C.2 or S.o2 neighbor.\n",
      "RDKit WARNING: [17:00:57] unknown|209|mol2|1|dock96: warning - O.co2 with non C.2 or S.o2 neighbor.\n",
      "[17:00:57] unknown|209|mol2|1|dock96: warning - O.co2 with non C.2 or S.o2 neighbor.\n",
      "[17:00:57] unknown|209|mol2|1|dock96: warning - O.co2 with non C.2 or S.o2 neighbor.\n",
      "RDKit WARNING: [17:00:57] unknown|209|mol2|1|dock86: warning - O.co2 with non C.2 or S.o2 neighbor.\n",
      "RDKit WARNING: [17:00:57] unknown|209|mol2|1|dock23: warning - O.co2 with non C.2 or S.o2 neighbor.\n"
     ]
    },
    {
     "name": "stdout",
     "output_type": "stream",
     "text": [
      "Starting GOLD with conf file /home/benoit/bioactive_conformation_predictor/gold_docking_postprocessing/210/api_gold.conf\n",
      "Starting GOLD with conf file /home/benoit/bioactive_conformation_predictor/gold_docking_postprocessing/69/api_gold.conf\n"
     ]
    },
    {
     "name": "stderr",
     "output_type": "stream",
     "text": [
      "[17:00:57] unknown|209|mol2|1|dock86: warning - O.co2 with non C.2 or S.o2 neighbor.\n",
      "[17:00:57] unknown|209|mol2|1|dock23: warning - O.co2 with non C.2 or S.o2 neighbor.\n"
     ]
    },
    {
     "name": "stdout",
     "output_type": "stream",
     "text": [
      "Setting up GOLD environment...\n",
      "GOLD Version 2021.2.0\n",
      "Running:\n",
      " \n",
      "     \"/home/benoit/CCDC/Discovery_2021/GOLD/gold/d_linux_64/bin/gold_linux_64\" \"/home/benoit/bioactive_conformation_predictor/gold_docking_postprocessing/210/api_gold.conf\"\n",
      "\n",
      "Setting up GOLD environment...\n",
      "GOLD Version 2021.2.0\n",
      "Running:\n",
      " \n",
      "     \"/home/benoit/CCDC/Discovery_2021/GOLD/gold/d_linux_64/bin/gold_linux_64\" \"/home/benoit/bioactive_conformation_predictor/gold_docking_postprocessing/69/api_gold.conf\"\n",
      "\n",
      "Starting GOLD with conf file /home/benoit/bioactive_conformation_predictor/gold_docking_postprocessing/163/api_gold.conf\n",
      "Setting up GOLD environment...\n",
      "GOLD Version 2021.2.0\n",
      "Running:\n",
      " \n",
      "     \"/home/benoit/CCDC/Discovery_2021/GOLD/gold/d_linux_64/bin/gold_linux_64\" \"/home/benoit/bioactive_conformation_predictor/gold_docking_postprocessing/163/api_gold.conf\"\n",
      "\n",
      "0\n",
      "0\n",
      "Starting GOLD with conf file /home/benoit/bioactive_conformation_predictor/gold_docking_postprocessing/312/api_gold.conf\n",
      "Setting up GOLD environment...\n",
      "GOLD Version 2021.2.0\n",
      "Running:\n",
      " \n",
      "     \"/home/benoit/CCDC/Discovery_2021/GOLD/gold/d_linux_64/bin/gold_linux_64\" \"/home/benoit/bioactive_conformation_predictor/gold_docking_postprocessing/312/api_gold.conf\"\n",
      "\n",
      "Starting GOLD with conf file /home/benoit/bioactive_conformation_predictor/gold_docking_postprocessing/116/api_gold.conf\n",
      "0\n",
      "Setting up GOLD environment...\n",
      "GOLD Version 2021.2.0\n",
      "Running:\n",
      " \n",
      "     \"/home/benoit/CCDC/Discovery_2021/GOLD/gold/d_linux_64/bin/gold_linux_64\" \"/home/benoit/bioactive_conformation_predictor/gold_docking_postprocessing/116/api_gold.conf\"\n",
      "\n",
      "Starting GOLD with conf file /home/benoit/bioactive_conformation_predictor/gold_docking_postprocessing/211/api_gold.conf\n",
      "Setting up GOLD environment...\n",
      "GOLD Version 2021.2.0\n",
      "Running:\n",
      " \n",
      "     \"/home/benoit/CCDC/Discovery_2021/GOLD/gold/d_linux_64/bin/gold_linux_64\" \"/home/benoit/bioactive_conformation_predictor/gold_docking_postprocessing/211/api_gold.conf\"\n",
      "\n",
      "0\n",
      "0\n",
      "Starting GOLD with conf file /home/benoit/bioactive_conformation_predictor/gold_docking_postprocessing/20/api_gold.conf\n",
      "Setting up GOLD environment...\n",
      "GOLD Version 2021.2.0\n",
      "Running:\n",
      " \n",
      "     \"/home/benoit/CCDC/Discovery_2021/GOLD/gold/d_linux_64/bin/gold_linux_64\" \"/home/benoit/bioactive_conformation_predictor/gold_docking_postprocessing/20/api_gold.conf\"\n",
      "\n",
      "0\n",
      "Starting GOLD with conf file /home/benoit/bioactive_conformation_predictor/gold_docking_postprocessing/191/api_gold.conf\n",
      "Setting up GOLD environment...\n",
      "GOLD Version 2021.2.0\n",
      "Running:\n",
      " \n",
      "     \"/home/benoit/CCDC/Discovery_2021/GOLD/gold/d_linux_64/bin/gold_linux_64\" \"/home/benoit/bioactive_conformation_predictor/gold_docking_postprocessing/191/api_gold.conf\"\n",
      "\n",
      "0\n",
      "0\n",
      "0\n",
      "0\n",
      "0\n",
      "0\n"
     ]
    },
    {
     "name": "stderr",
     "output_type": "stream",
     "text": [
      "RDKit WARNING: [17:01:15] unknown|312|mol2|1|dock37: warning - O.co2 with non C.2 or S.o2 neighbor.\n",
      "RDKit WARNING: [17:01:15] unknown|312|mol2|1|dock23: warning - O.co2 with non C.2 or S.o2 neighbor.\n",
      "[17:01:15] unknown|312|mol2|1|dock37: warning - O.co2 with non C.2 or S.o2 neighbor.\n",
      "[17:01:15] unknown|312|mol2|1|dock23: warning - O.co2 with non C.2 or S.o2 neighbor.\n",
      "RDKit WARNING: [17:01:15] unknown|312|mol2|1|dock36: warning - O.co2 with non C.2 or S.o2 neighbor.\n",
      "RDKit WARNING: [17:01:15] unknown|312|mol2|1|dock100: warning - O.co2 with non C.2 or S.o2 neighbor.\n",
      "[17:01:15] unknown|312|mol2|1|dock36: warning - O.co2 with non C.2 or S.o2 neighbor.\n",
      "[17:01:15] unknown|312|mol2|1|dock100: warning - O.co2 with non C.2 or S.o2 neighbor.\n",
      "RDKit WARNING: [17:01:16] unknown|312|mol2|1|dock44: warning - O.co2 with non C.2 or S.o2 neighbor.\n",
      "RDKit WARNING: [17:01:16] unknown|312|mol2|1|dock42: warning - O.co2 with non C.2 or S.o2 neighbor.\n",
      "[17:01:16] unknown|312|mol2|1|dock44: warning - O.co2 with non C.2 or S.o2 neighbor.\n",
      "[17:01:16] unknown|312|mol2|1|dock42: warning - O.co2 with non C.2 or S.o2 neighbor.\n"
     ]
    },
    {
     "name": "stdout",
     "output_type": "stream",
     "text": [
      "Starting GOLD with conf file /home/benoit/bioactive_conformation_predictor/gold_docking_postprocessing/313/api_gold.conf\n",
      "Setting up GOLD environment...\n",
      "GOLD Version 2021.2.0\n",
      "Running:\n",
      " \n",
      "     \"/home/benoit/CCDC/Discovery_2021/GOLD/gold/d_linux_64/bin/gold_linux_64\" \"/home/benoit/bioactive_conformation_predictor/gold_docking_postprocessing/313/api_gold.conf\"\n",
      "\n",
      "Starting GOLD with conf file /home/benoit/bioactive_conformation_predictor/gold_docking_postprocessing/283/api_gold.conf\n"
     ]
    },
    {
     "name": "stderr",
     "output_type": "stream",
     "text": [
      "RDKit WARNING: [17:01:17] unknown|211|mol2|1|dock22: warning - O.co2 with non C.2 or S.o2 neighbor.\n",
      "RDKit WARNING: [17:01:17] unknown|211|mol2|1|dock64: warning - O.co2 with non C.2 or S.o2 neighbor.\n"
     ]
    },
    {
     "name": "stdout",
     "output_type": "stream",
     "text": [
      "Setting up GOLD environment...\n",
      "GOLD Version 2021.2.0\n",
      "Running:\n",
      " \n",
      "     \"/home/benoit/CCDC/Discovery_2021/GOLD/gold/d_linux_64/bin/gold_linux_64\" \"/home/benoit/bioactive_conformation_predictor/gold_docking_postprocessing/283/api_gold.conf\"\n",
      "\n"
     ]
    },
    {
     "name": "stderr",
     "output_type": "stream",
     "text": [
      "[17:01:17] unknown|211|mol2|1|dock22: warning - O.co2 with non C.2 or S.o2 neighbor.\n",
      "[17:01:17] unknown|211|mol2|1|dock64: warning - O.co2 with non C.2 or S.o2 neighbor.\n",
      "RDKit WARNING: [17:01:17] unknown|211|mol2|1|dock89: warning - O.co2 with non C.2 or S.o2 neighbor.\n",
      "RDKit WARNING: [17:01:17] unknown|211|mol2|1|dock33: warning - O.co2 with non C.2 or S.o2 neighbor.\n",
      "[17:01:17] unknown|211|mol2|1|dock89: warning - O.co2 with non C.2 or S.o2 neighbor.\n",
      "[17:01:17] unknown|211|mol2|1|dock33: warning - O.co2 with non C.2 or S.o2 neighbor.\n",
      "RDKit WARNING: [17:01:18] unknown|211|mol2|1|dock74: warning - O.co2 with non C.2 or S.o2 neighbor.\n",
      "RDKit WARNING: [17:01:18] unknown|211|mol2|1|dock64: warning - O.co2 with non C.2 or S.o2 neighbor.\n"
     ]
    },
    {
     "name": "stdout",
     "output_type": "stream",
     "text": [
      "Starting GOLD with conf file /home/benoit/bioactive_conformation_predictor/gold_docking_postprocessing/212/api_gold.conf\n"
     ]
    },
    {
     "name": "stderr",
     "output_type": "stream",
     "text": [
      "[17:01:18] unknown|211|mol2|1|dock74: warning - O.co2 with non C.2 or S.o2 neighbor.\n",
      "[17:01:18] unknown|211|mol2|1|dock64: warning - O.co2 with non C.2 or S.o2 neighbor.\n"
     ]
    },
    {
     "name": "stdout",
     "output_type": "stream",
     "text": [
      "Setting up GOLD environment...\n",
      "GOLD Version 2021.2.0\n",
      "Running:\n",
      " \n",
      "     \"/home/benoit/CCDC/Discovery_2021/GOLD/gold/d_linux_64/bin/gold_linux_64\" \"/home/benoit/bioactive_conformation_predictor/gold_docking_postprocessing/212/api_gold.conf\"\n",
      "\n",
      "Starting GOLD with conf file /home/benoit/bioactive_conformation_predictor/gold_docking_postprocessing/164/api_gold.conf\n",
      "Setting up GOLD environment...\n",
      "GOLD Version 2021.2.0\n",
      "Running:\n",
      " \n",
      "     \"/home/benoit/CCDC/Discovery_2021/GOLD/gold/d_linux_64/bin/gold_linux_64\" \"/home/benoit/bioactive_conformation_predictor/gold_docking_postprocessing/164/api_gold.conf\"\n",
      "\n",
      "Starting GOLD with conf file /home/benoit/bioactive_conformation_predictor/gold_docking_postprocessing/93/api_gold.conf\n",
      "Starting GOLD with conf file /home/benoit/bioactive_conformation_predictor/gold_docking_postprocessing/70/api_gold.conf\n",
      "Setting up GOLD environment...\n",
      "GOLD Version 2021.2.0\n",
      "Running:\n",
      " \n",
      "     \"/home/benoit/CCDC/Discovery_2021/GOLD/gold/d_linux_64/bin/gold_linux_64\" \"/home/benoit/bioactive_conformation_predictor/gold_docking_postprocessing/93/api_gold.conf\"\n",
      "\n",
      "Setting up GOLD environment...\n",
      "GOLD Version 2021.2.0\n",
      "Running:\n",
      " \n",
      "     \"/home/benoit/CCDC/Discovery_2021/GOLD/gold/d_linux_64/bin/gold_linux_64\" \"/home/benoit/bioactive_conformation_predictor/gold_docking_postprocessing/70/api_gold.conf\"\n",
      "\n",
      "Starting GOLD with conf file /home/benoit/bioactive_conformation_predictor/gold_docking_postprocessing/291/api_gold.conf\n",
      "Setting up GOLD environment...\n",
      "GOLD Version 2021.2.0\n",
      "Running:\n",
      " \n",
      "     \"/home/benoit/CCDC/Discovery_2021/GOLD/gold/d_linux_64/bin/gold_linux_64\" \"/home/benoit/bioactive_conformation_predictor/gold_docking_postprocessing/291/api_gold.conf\"\n",
      "\n",
      "0\n",
      "0\n",
      "0\n",
      "0\n"
     ]
    },
    {
     "name": "stderr",
     "output_type": "stream",
     "text": [
      "RDKit ERROR: [17:01:24] UFFTYPER: Unrecognized charge state for atom: 9\n",
      "RDKit ERROR: [17:01:24] UFFTYPER: Unrecognized charge state for atom: 9\n",
      "RDKit ERROR: [17:01:24] UFFTYPER: Unrecognized charge state for atom: 9\n",
      "RDKit ERROR: [17:01:24] UFFTYPER: Unrecognized charge state for atom: 9\n",
      "RDKit ERROR: [17:01:24] UFFTYPER: Unrecognized charge state for atom: 9\n",
      "RDKit ERROR: [17:01:24] UFFTYPER: Unrecognized charge state for atom: 9\n",
      "RDKit ERROR: [17:01:24] UFFTYPER: Unrecognized charge state for atom: 9\n",
      "RDKit ERROR: [17:01:24] UFFTYPER: Unrecognized charge state for atom: 9\n",
      "RDKit ERROR: [17:01:24] UFFTYPER: Unrecognized charge state for atom: 9\n",
      "RDKit ERROR: [17:01:24] UFFTYPER: Unrecognized charge state for atom: 9\n",
      "RDKit ERROR: [17:01:24] UFFTYPER: Unrecognized charge state for atom: 9\n",
      "RDKit ERROR: [17:01:24] UFFTYPER: Unrecognized charge state for atom: 9\n",
      "RDKit ERROR: [17:01:24] UFFTYPER: Unrecognized charge state for atom: 9\n",
      "RDKit ERROR: [17:01:24] UFFTYPER: Unrecognized charge state for atom: 9\n",
      "RDKit ERROR: [17:01:24] UFFTYPER: Unrecognized charge state for atom: 9\n",
      "RDKit ERROR: [17:01:24] UFFTYPER: Unrecognized charge state for atom: 9\n",
      "RDKit ERROR: [17:01:24] UFFTYPER: Unrecognized charge state for atom: 9\n",
      "RDKit ERROR: [17:01:24] UFFTYPER: Unrecognized charge state for atom: 9\n",
      "RDKit ERROR: [17:01:24] UFFTYPER: Unrecognized charge state for atom: 9\n",
      "RDKit ERROR: [17:01:24] UFFTYPER: Unrecognized charge state for atom: 9\n",
      "RDKit ERROR: [17:01:24] UFFTYPER: Unrecognized charge state for atom: 9\n",
      "RDKit ERROR: [17:01:24] UFFTYPER: Unrecognized charge state for atom: 9\n",
      "RDKit ERROR: [17:01:24] UFFTYPER: Unrecognized charge state for atom: 9\n",
      "RDKit ERROR: [17:01:24] UFFTYPER: Unrecognized charge state for atom: 9\n",
      "RDKit ERROR: [17:01:24] UFFTYPER: Unrecognized charge state for atom: 9\n",
      "RDKit ERROR: [17:01:24] UFFTYPER: Unrecognized charge state for atom: 9\n",
      "RDKit ERROR: [17:01:24] UFFTYPER: Unrecognized charge state for atom: 9\n",
      "RDKit ERROR: [17:01:24] UFFTYPER: Unrecognized charge state for atom: 9\n",
      "RDKit ERROR: [17:01:24] UFFTYPER: Unrecognized charge state for atom: 9\n",
      "RDKit ERROR: [17:01:24] UFFTYPER: Unrecognized charge state for atom: 9\n",
      "RDKit ERROR: [17:01:24] UFFTYPER: Unrecognized charge state for atom: 9\n",
      "RDKit ERROR: [17:01:24] UFFTYPER: Unrecognized charge state for atom: 9\n",
      "RDKit ERROR: [17:01:24] UFFTYPER: Unrecognized charge state for atom: 9\n",
      "RDKit ERROR: [17:01:24] UFFTYPER: Unrecognized charge state for atom: 9\n",
      "RDKit ERROR: [17:01:24] UFFTYPER: Unrecognized charge state for atom: 9\n",
      "RDKit ERROR: [17:01:24] UFFTYPER: Unrecognized charge state for atom: 9\n",
      "RDKit ERROR: [17:01:24] UFFTYPER: Unrecognized charge state for atom: 9\n",
      "RDKit ERROR: [17:01:24] UFFTYPER: Unrecognized charge state for atom: 9\n",
      "RDKit ERROR: [17:01:24] UFFTYPER: Unrecognized charge state for atom: 9\n",
      "RDKit ERROR: [17:01:24] UFFTYPER: Unrecognized charge state for atom: 9\n",
      "RDKit ERROR: [17:01:24] UFFTYPER: Unrecognized charge state for atom: 9\n",
      "RDKit ERROR: [17:01:24] UFFTYPER: Unrecognized charge state for atom: 9\n",
      "RDKit ERROR: [17:01:24] UFFTYPER: Unrecognized charge state for atom: 9\n",
      "RDKit ERROR: [17:01:24] UFFTYPER: Unrecognized charge state for atom: 9\n",
      "RDKit ERROR: [17:01:24] UFFTYPER: Unrecognized charge state for atom: 9\n",
      "RDKit ERROR: [17:01:24] UFFTYPER: Unrecognized charge state for atom: 9\n",
      "RDKit ERROR: [17:01:24] UFFTYPER: Unrecognized charge state for atom: 9\n",
      "RDKit ERROR: [17:01:24] UFFTYPER: Unrecognized charge state for atom: 9\n",
      "RDKit ERROR: [17:01:24] UFFTYPER: Unrecognized charge state for atom: 9\n",
      "RDKit ERROR: [17:01:24] UFFTYPER: Unrecognized charge state for atom: 9\n",
      "RDKit ERROR: [17:01:24] UFFTYPER: Unrecognized charge state for atom: 9\n",
      "RDKit ERROR: [17:01:24] UFFTYPER: Unrecognized charge state for atom: 9\n",
      "RDKit ERROR: [17:01:24] UFFTYPER: Unrecognized charge state for atom: 9\n",
      "RDKit ERROR: [17:01:24] UFFTYPER: Unrecognized charge state for atom: 9\n",
      "RDKit ERROR: [17:01:24] UFFTYPER: Unrecognized charge state for atom: 9\n",
      "RDKit ERROR: [17:01:24] UFFTYPER: Unrecognized charge state for atom: 9\n",
      "RDKit ERROR: [17:01:24] UFFTYPER: Unrecognized charge state for atom: 9\n",
      "RDKit ERROR: [17:01:24] UFFTYPER: Unrecognized charge state for atom: 9\n",
      "RDKit ERROR: [17:01:24] UFFTYPER: Unrecognized charge state for atom: 9\n",
      "RDKit ERROR: [17:01:24] UFFTYPER: Unrecognized charge state for atom: 9\n",
      "RDKit ERROR: [17:01:24] UFFTYPER: Unrecognized charge state for atom: 9\n",
      "RDKit ERROR: [17:01:24] UFFTYPER: Unrecognized charge state for atom: 9\n",
      "RDKit ERROR: [17:01:24] UFFTYPER: Unrecognized charge state for atom: 9\n",
      "RDKit ERROR: [17:01:24] UFFTYPER: Unrecognized charge state for atom: 9\n",
      "RDKit ERROR: [17:01:24] UFFTYPER: Unrecognized charge state for atom: 9\n",
      "RDKit ERROR: [17:01:24] UFFTYPER: Unrecognized charge state for atom: 9\n",
      "RDKit ERROR: [17:01:24] UFFTYPER: Unrecognized charge state for atom: 9\n",
      "RDKit ERROR: [17:01:24] UFFTYPER: Unrecognized charge state for atom: 9\n",
      "RDKit ERROR: [17:01:24] UFFTYPER: Unrecognized charge state for atom: 9\n",
      "RDKit ERROR: [17:01:24] UFFTYPER: Unrecognized charge state for atom: 9\n",
      "RDKit ERROR: [17:01:24] UFFTYPER: Unrecognized charge state for atom: 9\n",
      "RDKit ERROR: [17:01:24] UFFTYPER: Unrecognized charge state for atom: 9\n",
      "RDKit ERROR: [17:01:24] UFFTYPER: Unrecognized charge state for atom: 9\n",
      "RDKit ERROR: [17:01:24] UFFTYPER: Unrecognized charge state for atom: 9\n",
      "RDKit ERROR: [17:01:24] UFFTYPER: Unrecognized charge state for atom: 9\n",
      "RDKit ERROR: [17:01:24] UFFTYPER: Unrecognized charge state for atom: 9\n",
      "RDKit ERROR: [17:01:24] UFFTYPER: Unrecognized charge state for atom: 9\n",
      "RDKit ERROR: [17:01:24] UFFTYPER: Unrecognized charge state for atom: 9\n",
      "RDKit ERROR: [17:01:24] UFFTYPER: Unrecognized charge state for atom: 9\n",
      "RDKit ERROR: [17:01:24] UFFTYPER: Unrecognized charge state for atom: 9\n",
      "RDKit ERROR: [17:01:24] UFFTYPER: Unrecognized charge state for atom: 9\n",
      "RDKit ERROR: [17:01:24] UFFTYPER: Unrecognized charge state for atom: 9\n",
      "RDKit ERROR: [17:01:24] UFFTYPER: Unrecognized charge state for atom: 9\n",
      "RDKit ERROR: [17:01:24] UFFTYPER: Unrecognized charge state for atom: 9\n",
      "RDKit ERROR: [17:01:24] UFFTYPER: Unrecognized charge state for atom: 9\n",
      "RDKit ERROR: [17:01:24] UFFTYPER: Unrecognized charge state for atom: 9\n",
      "RDKit ERROR: [17:01:24] UFFTYPER: Unrecognized charge state for atom: 9\n",
      "RDKit ERROR: [17:01:24] UFFTYPER: Unrecognized charge state for atom: 9\n",
      "RDKit ERROR: [17:01:24] UFFTYPER: Unrecognized charge state for atom: 9\n",
      "RDKit ERROR: [17:01:24] UFFTYPER: Unrecognized charge state for atom: 9\n",
      "RDKit ERROR: [17:01:24] UFFTYPER: Unrecognized charge state for atom: 9\n",
      "RDKit ERROR: [17:01:24] UFFTYPER: Unrecognized charge state for atom: 9\n",
      "RDKit ERROR: [17:01:24] UFFTYPER: Unrecognized charge state for atom: 9\n",
      "RDKit ERROR: [17:01:24] UFFTYPER: Unrecognized charge state for atom: 9\n",
      "RDKit ERROR: [17:01:24] UFFTYPER: Unrecognized charge state for atom: 9\n",
      "RDKit ERROR: [17:01:24] UFFTYPER: Unrecognized charge state for atom: 9\n",
      "RDKit ERROR: [17:01:24] UFFTYPER: Unrecognized charge state for atom: 9\n",
      "RDKit ERROR: [17:01:24] UFFTYPER: Unrecognized charge state for atom: 9\n",
      "RDKit ERROR: [17:01:24] UFFTYPER: Unrecognized charge state for atom: 9\n",
      "RDKit ERROR: [17:01:24] UFFTYPER: Unrecognized charge state for atom: 9\n",
      "RDKit ERROR: [17:01:24] UFFTYPER: Unrecognized charge state for atom: 9\n",
      "[17:01:24] UFFTYPER: Unrecognized charge state for atom: 9\n",
      "[17:01:24] UFFTYPER: Unrecognized charge state for atom: 9\n",
      "[17:01:24] UFFTYPER: Unrecognized charge state for atom: 9\n",
      "[17:01:24] UFFTYPER: Unrecognized charge state for atom: 9\n",
      "[17:01:24] UFFTYPER: Unrecognized charge state for atom: 9\n",
      "[17:01:24] UFFTYPER: Unrecognized charge state for atom: 9\n",
      "[17:01:24] UFFTYPER: Unrecognized charge state for atom: 9\n",
      "[17:01:24] UFFTYPER: Unrecognized charge state for atom: 9\n",
      "[17:01:24] UFFTYPER: Unrecognized charge state for atom: 9\n",
      "[17:01:24] UFFTYPER: Unrecognized charge state for atom: 9\n",
      "[17:01:24] UFFTYPER: Unrecognized charge state for atom: 9\n",
      "[17:01:24] UFFTYPER: Unrecognized charge state for atom: 9\n",
      "[17:01:24] UFFTYPER: Unrecognized charge state for atom: 9\n",
      "[17:01:24] UFFTYPER: Unrecognized charge state for atom: 9\n",
      "[17:01:24] UFFTYPER: Unrecognized charge state for atom: 9\n",
      "[17:01:24] UFFTYPER: Unrecognized charge state for atom: 9\n",
      "[17:01:24] UFFTYPER: Unrecognized charge state for atom: 9\n",
      "[17:01:24] UFFTYPER: Unrecognized charge state for atom: 9\n",
      "[17:01:24] UFFTYPER: Unrecognized charge state for atom: 9\n",
      "[17:01:24] UFFTYPER: Unrecognized charge state for atom: 9\n",
      "[17:01:24] UFFTYPER: Unrecognized charge state for atom: 9\n",
      "[17:01:24] UFFTYPER: Unrecognized charge state for atom: 9\n",
      "[17:01:24] UFFTYPER: Unrecognized charge state for atom: 9\n",
      "[17:01:24] UFFTYPER: Unrecognized charge state for atom: 9\n",
      "[17:01:24] UFFTYPER: Unrecognized charge state for atom: 9\n",
      "[17:01:24] UFFTYPER: Unrecognized charge state for atom: 9\n",
      "[17:01:24] UFFTYPER: Unrecognized charge state for atom: 9\n",
      "[17:01:24] UFFTYPER: Unrecognized charge state for atom: 9\n",
      "[17:01:24] UFFTYPER: Unrecognized charge state for atom: 9\n",
      "[17:01:24] UFFTYPER: Unrecognized charge state for atom: 9\n",
      "[17:01:24] UFFTYPER: Unrecognized charge state for atom: 9\n",
      "[17:01:24] UFFTYPER: Unrecognized charge state for atom: 9\n",
      "[17:01:24] UFFTYPER: Unrecognized charge state for atom: 9\n",
      "[17:01:24] UFFTYPER: Unrecognized charge state for atom: 9\n",
      "[17:01:24] UFFTYPER: Unrecognized charge state for atom: 9\n",
      "[17:01:24] UFFTYPER: Unrecognized charge state for atom: 9\n",
      "[17:01:24] UFFTYPER: Unrecognized charge state for atom: 9\n",
      "[17:01:24] UFFTYPER: Unrecognized charge state for atom: 9\n",
      "[17:01:24] UFFTYPER: Unrecognized charge state for atom: 9\n",
      "[17:01:24] UFFTYPER: Unrecognized charge state for atom: 9\n",
      "[17:01:24] UFFTYPER: Unrecognized charge state for atom: 9\n",
      "[17:01:24] UFFTYPER: Unrecognized charge state for atom: 9\n",
      "[17:01:24] UFFTYPER: Unrecognized charge state for atom: 9\n",
      "[17:01:24] UFFTYPER: Unrecognized charge state for atom: 9\n",
      "[17:01:24] UFFTYPER: Unrecognized charge state for atom: 9\n",
      "[17:01:24] UFFTYPER: Unrecognized charge state for atom: 9\n",
      "[17:01:24] UFFTYPER: Unrecognized charge state for atom: 9\n",
      "[17:01:24] UFFTYPER: Unrecognized charge state for atom: 9\n",
      "[17:01:24] UFFTYPER: Unrecognized charge state for atom: 9\n",
      "[17:01:24] UFFTYPER: Unrecognized charge state for atom: 9\n",
      "[17:01:24] UFFTYPER: Unrecognized charge state for atom: 9\n",
      "[17:01:24] UFFTYPER: Unrecognized charge state for atom: 9\n",
      "[17:01:24] UFFTYPER: Unrecognized charge state for atom: 9\n",
      "[17:01:24] UFFTYPER: Unrecognized charge state for atom: 9\n",
      "[17:01:24] UFFTYPER: Unrecognized charge state for atom: 9\n",
      "[17:01:24] UFFTYPER: Unrecognized charge state for atom: 9\n",
      "[17:01:24] UFFTYPER: Unrecognized charge state for atom: 9\n",
      "[17:01:24] UFFTYPER: Unrecognized charge state for atom: 9\n",
      "[17:01:24] UFFTYPER: Unrecognized charge state for atom: 9\n",
      "[17:01:24] UFFTYPER: Unrecognized charge state for atom: 9\n",
      "[17:01:24] UFFTYPER: Unrecognized charge state for atom: 9\n",
      "[17:01:24] UFFTYPER: Unrecognized charge state for atom: 9\n",
      "[17:01:24] UFFTYPER: Unrecognized charge state for atom: 9\n",
      "[17:01:24] UFFTYPER: Unrecognized charge state for atom: 9\n",
      "[17:01:24] UFFTYPER: Unrecognized charge state for atom: 9\n",
      "[17:01:24] UFFTYPER: Unrecognized charge state for atom: 9\n",
      "[17:01:24] UFFTYPER: Unrecognized charge state for atom: 9\n",
      "[17:01:24] UFFTYPER: Unrecognized charge state for atom: 9\n",
      "[17:01:24] UFFTYPER: Unrecognized charge state for atom: 9\n",
      "[17:01:24] UFFTYPER: Unrecognized charge state for atom: 9\n",
      "[17:01:24] UFFTYPER: Unrecognized charge state for atom: 9\n",
      "[17:01:24] UFFTYPER: Unrecognized charge state for atom: 9\n",
      "[17:01:24] UFFTYPER: Unrecognized charge state for atom: 9\n",
      "[17:01:24] UFFTYPER: Unrecognized charge state for atom: 9\n",
      "[17:01:24] UFFTYPER: Unrecognized charge state for atom: 9\n",
      "[17:01:24] UFFTYPER: Unrecognized charge state for atom: 9\n",
      "[17:01:24] UFFTYPER: Unrecognized charge state for atom: 9\n",
      "[17:01:24] UFFTYPER: Unrecognized charge state for atom: 9\n",
      "[17:01:24] UFFTYPER: Unrecognized charge state for atom: 9\n",
      "[17:01:24] UFFTYPER: Unrecognized charge state for atom: 9\n",
      "[17:01:24] UFFTYPER: Unrecognized charge state for atom: 9\n",
      "[17:01:24] UFFTYPER: Unrecognized charge state for atom: 9\n",
      "[17:01:24] UFFTYPER: Unrecognized charge state for atom: 9\n",
      "[17:01:24] UFFTYPER: Unrecognized charge state for atom: 9\n",
      "[17:01:24] UFFTYPER: Unrecognized charge state for atom: 9\n",
      "[17:01:24] UFFTYPER: Unrecognized charge state for atom: 9\n",
      "[17:01:24] UFFTYPER: Unrecognized charge state for atom: 9\n",
      "[17:01:24] UFFTYPER: Unrecognized charge state for atom: 9\n",
      "[17:01:24] UFFTYPER: Unrecognized charge state for atom: 9\n",
      "[17:01:24] UFFTYPER: Unrecognized charge state for atom: 9\n",
      "[17:01:24] UFFTYPER: Unrecognized charge state for atom: 9\n",
      "[17:01:24] UFFTYPER: Unrecognized charge state for atom: 9\n",
      "[17:01:24] UFFTYPER: Unrecognized charge state for atom: 9\n",
      "[17:01:24] UFFTYPER: Unrecognized charge state for atom: 9\n",
      "[17:01:24] UFFTYPER: Unrecognized charge state for atom: 9\n",
      "[17:01:24] UFFTYPER: Unrecognized charge state for atom: 9\n",
      "[17:01:24] UFFTYPER: Unrecognized charge state for atom: 9\n",
      "[17:01:24] UFFTYPER: Unrecognized charge state for atom: 9\n",
      "[17:01:24] UFFTYPER: Unrecognized charge state for atom: 9\n",
      "[17:01:24] UFFTYPER: Unrecognized charge state for atom: 9\n",
      "[17:01:24] UFFTYPER: Unrecognized charge state for atom: 9\n",
      "RDKit ERROR: [17:01:25] non-ring atom 0 marked aromatic\n",
      "RDKit ERROR: [17:01:25] non-ring atom 0 marked aromatic\n",
      "[17:01:25] non-ring atom 0 marked aromatic\n",
      "[17:01:25] non-ring atom 0 marked aromatic\n"
     ]
    },
    {
     "name": "stdout",
     "output_type": "stream",
     "text": [
      "Starting GOLD with conf file /home/benoit/bioactive_conformation_predictor/gold_docking_postprocessing/239/api_gold.conf\n"
     ]
    },
    {
     "name": "stderr",
     "output_type": "stream",
     "text": [
      "RDKit ERROR: [17:01:26] non-ring atom 0 marked aromatic\n",
      "RDKit ERROR: [17:01:26] non-ring atom 0 marked aromatic\n"
     ]
    },
    {
     "name": "stdout",
     "output_type": "stream",
     "text": [
      "Starting GOLD with conf file /home/benoit/bioactive_conformation_predictor/gold_docking_postprocessing/336/api_gold.conf\n",
      "Setting up GOLD environment...\n",
      "GOLD Version 2021.2.0\n",
      "Running:\n",
      " \n",
      "     \"/home/benoit/CCDC/Discovery_2021/GOLD/gold/d_linux_64/bin/gold_linux_64\" \"/home/benoit/bioactive_conformation_predictor/gold_docking_postprocessing/239/api_gold.conf\"\n",
      "\n"
     ]
    },
    {
     "name": "stderr",
     "output_type": "stream",
     "text": [
      "[17:01:26] non-ring atom 0 marked aromatic\n",
      "[17:01:26] non-ring atom 0 marked aromatic\n"
     ]
    },
    {
     "name": "stdout",
     "output_type": "stream",
     "text": [
      "0\n"
     ]
    },
    {
     "name": "stderr",
     "output_type": "stream",
     "text": [
      "RDKit ERROR: [17:01:26] non-ring atom 0 marked aromatic\n",
      "RDKit ERROR: [17:01:26] non-ring atom 0 marked aromatic\n"
     ]
    },
    {
     "name": "stdout",
     "output_type": "stream",
     "text": [
      "Setting up GOLD environment...\n",
      "GOLD Version 2021.2.0\n",
      "Running:\n",
      " \n",
      "     \"/home/benoit/CCDC/Discovery_2021/GOLD/gold/d_linux_64/bin/gold_linux_64\" \"/home/benoit/bioactive_conformation_predictor/gold_docking_postprocessing/336/api_gold.conf\"\n",
      "\n",
      "Starting GOLD with conf file /home/benoit/bioactive_conformation_predictor/gold_docking_postprocessing/117/api_gold.conf\n"
     ]
    },
    {
     "name": "stderr",
     "output_type": "stream",
     "text": [
      "[17:01:26] non-ring atom 0 marked aromatic\n",
      "[17:01:26] non-ring atom 0 marked aromatic\n"
     ]
    },
    {
     "name": "stdout",
     "output_type": "stream",
     "text": [
      "Starting GOLD with conf file /home/benoit/bioactive_conformation_predictor/gold_docking_postprocessing/45/api_gold.conf\n",
      "0\n",
      "Setting up GOLD environment...\n",
      "GOLD Version 2021.2.0\n",
      "Running:\n",
      " \n",
      "     \"/home/benoit/CCDC/Discovery_2021/GOLD/gold/d_linux_64/bin/gold_linux_64\" \"/home/benoit/bioactive_conformation_predictor/gold_docking_postprocessing/117/api_gold.conf\"\n",
      "\n",
      "Setting up GOLD environment...\n",
      "GOLD Version 2021.2.0\n",
      "Running:\n",
      " \n",
      "     \"/home/benoit/CCDC/Discovery_2021/GOLD/gold/d_linux_64/bin/gold_linux_64\" \"/home/benoit/bioactive_conformation_predictor/gold_docking_postprocessing/45/api_gold.conf\"\n",
      "\n",
      "Starting GOLD with conf file /home/benoit/bioactive_conformation_predictor/gold_docking_postprocessing/284/api_gold.conf\n",
      "0\n",
      "Setting up GOLD environment...\n",
      "GOLD Version 2021.2.0\n",
      "Running:\n",
      " \n",
      "     \"/home/benoit/CCDC/Discovery_2021/GOLD/gold/d_linux_64/bin/gold_linux_64\" \"/home/benoit/bioactive_conformation_predictor/gold_docking_postprocessing/284/api_gold.conf\"\n",
      "\n",
      "Starting GOLD with conf file /home/benoit/bioactive_conformation_predictor/gold_docking_postprocessing/71/api_gold.conf\n",
      "Setting up GOLD environment...\n",
      "GOLD Version 2021.2.0\n",
      "Running:\n",
      " \n",
      "     \"/home/benoit/CCDC/Discovery_2021/GOLD/gold/d_linux_64/bin/gold_linux_64\" \"/home/benoit/bioactive_conformation_predictor/gold_docking_postprocessing/71/api_gold.conf\"\n",
      "\n",
      "0\n",
      "Starting GOLD with conf file /home/benoit/bioactive_conformation_predictor/gold_docking_postprocessing/21/api_gold.conf\n",
      "0\n",
      "Setting up GOLD environment...\n",
      "GOLD Version 2021.2.0\n",
      "Running:\n",
      " \n",
      "     \"/home/benoit/CCDC/Discovery_2021/GOLD/gold/d_linux_64/bin/gold_linux_64\" \"/home/benoit/bioactive_conformation_predictor/gold_docking_postprocessing/21/api_gold.conf\"\n",
      "\n",
      "Starting GOLD with conf file /home/benoit/bioactive_conformation_predictor/gold_docking_postprocessing/94/api_gold.conf\n",
      "Setting up GOLD environment...\n",
      "GOLD Version 2021.2.0\n",
      "Running:\n",
      " \n",
      "     \"/home/benoit/CCDC/Discovery_2021/GOLD/gold/d_linux_64/bin/gold_linux_64\" \"/home/benoit/bioactive_conformation_predictor/gold_docking_postprocessing/94/api_gold.conf\"\n",
      "\n",
      "Starting GOLD with conf file /home/benoit/bioactive_conformation_predictor/gold_docking_postprocessing/213/api_gold.conf\n",
      "0\n",
      "Setting up GOLD environment...\n",
      "GOLD Version 2021.2.0\n",
      "Running:\n",
      " \n",
      "     \"/home/benoit/CCDC/Discovery_2021/GOLD/gold/d_linux_64/bin/gold_linux_64\" \"/home/benoit/bioactive_conformation_predictor/gold_docking_postprocessing/213/api_gold.conf\"\n",
      "\n",
      "Starting GOLD with conf file /home/benoit/bioactive_conformation_predictor/gold_docking_postprocessing/360/api_gold.conf\n",
      "0\n",
      "Setting up GOLD environment...\n",
      "GOLD Version 2021.2.0\n",
      "Running:\n",
      " \n",
      "     \"/home/benoit/CCDC/Discovery_2021/GOLD/gold/d_linux_64/bin/gold_linux_64\" \"/home/benoit/bioactive_conformation_predictor/gold_docking_postprocessing/360/api_gold.conf\"\n",
      "\n",
      "Starting GOLD with conf file /home/benoit/bioactive_conformation_predictor/gold_docking_postprocessing/165/api_gold.conf\n",
      "Setting up GOLD environment...\n",
      "GOLD Version 2021.2.0\n",
      "Running:\n",
      " \n",
      "     \"/home/benoit/CCDC/Discovery_2021/GOLD/gold/d_linux_64/bin/gold_linux_64\" \"/home/benoit/bioactive_conformation_predictor/gold_docking_postprocessing/165/api_gold.conf\"\n",
      "\n",
      "0\n",
      "0\n",
      "0\n",
      "Starting GOLD with conf file /home/benoit/bioactive_conformation_predictor/gold_docking_postprocessing/118/api_gold.conf\n",
      "0\n",
      "Setting up GOLD environment...\n",
      "GOLD Version 2021.2.0\n",
      "Running:\n",
      " \n",
      "     \"/home/benoit/CCDC/Discovery_2021/GOLD/gold/d_linux_64/bin/gold_linux_64\" \"/home/benoit/bioactive_conformation_predictor/gold_docking_postprocessing/118/api_gold.conf\"\n",
      "\n",
      "Starting GOLD with conf file /home/benoit/bioactive_conformation_predictor/gold_docking_postprocessing/384/api_gold.conf\n",
      "0\n"
     ]
    },
    {
     "name": "stderr",
     "output_type": "stream",
     "text": [
      "RDKit WARNING: [17:01:42] unknown|291|mol2|1|dock84: warning - O.co2 with non C.2 or S.o2 neighbor.\n",
      "RDKit WARNING: [17:01:42] unknown|291|mol2|1|dock18: warning - O.co2 with non C.2 or S.o2 neighbor.\n"
     ]
    },
    {
     "name": "stdout",
     "output_type": "stream",
     "text": [
      "Setting up GOLD environment...\n",
      "GOLD Version 2021.2.0\n",
      "Running:\n",
      " \n",
      "     \"/home/benoit/CCDC/Discovery_2021/GOLD/gold/d_linux_64/bin/gold_linux_64\" \"/home/benoit/bioactive_conformation_predictor/gold_docking_postprocessing/384/api_gold.conf\"\n",
      "\n"
     ]
    },
    {
     "name": "stderr",
     "output_type": "stream",
     "text": [
      "[17:01:42] unknown|291|mol2|1|dock84: warning - O.co2 with non C.2 or S.o2 neighbor.\n",
      "[17:01:42] unknown|291|mol2|1|dock18: warning - O.co2 with non C.2 or S.o2 neighbor.\n",
      "RDKit WARNING: [17:01:42] unknown|291|mol2|1|dock2: warning - O.co2 with non C.2 or S.o2 neighbor.\n",
      "RDKit WARNING: [17:01:42] unknown|291|mol2|1|dock78: warning - O.co2 with non C.2 or S.o2 neighbor.\n",
      "[17:01:42] unknown|291|mol2|1|dock2: warning - O.co2 with non C.2 or S.o2 neighbor.\n",
      "[17:01:42] unknown|291|mol2|1|dock78: warning - O.co2 with non C.2 or S.o2 neighbor.\n",
      "RDKit WARNING: [17:01:43] unknown|291|mol2|1|dock85: warning - O.co2 with non C.2 or S.o2 neighbor.\n",
      "RDKit WARNING: [17:01:43] unknown|291|mol2|1|dock83: warning - O.co2 with non C.2 or S.o2 neighbor.\n"
     ]
    },
    {
     "name": "stdout",
     "output_type": "stream",
     "text": [
      "Starting GOLD with conf file /home/benoit/bioactive_conformation_predictor/gold_docking_postprocessing/292/api_gold.conf\n"
     ]
    },
    {
     "name": "stderr",
     "output_type": "stream",
     "text": [
      "[17:01:43] unknown|291|mol2|1|dock85: warning - O.co2 with non C.2 or S.o2 neighbor.\n",
      "[17:01:43] unknown|291|mol2|1|dock83: warning - O.co2 with non C.2 or S.o2 neighbor.\n"
     ]
    },
    {
     "name": "stdout",
     "output_type": "stream",
     "text": [
      "Setting up GOLD environment...\n",
      "GOLD Version 2021.2.0\n",
      "Running:\n",
      " \n",
      "     \"/home/benoit/CCDC/Discovery_2021/GOLD/gold/d_linux_64/bin/gold_linux_64\" \"/home/benoit/bioactive_conformation_predictor/gold_docking_postprocessing/292/api_gold.conf\"\n",
      "\n",
      "Starting GOLD with conf file /home/benoit/bioactive_conformation_predictor/gold_docking_postprocessing/314/api_gold.conf\n",
      "Starting GOLD with conf file /home/benoit/bioactive_conformation_predictor/gold_docking_postprocessing/214/api_gold.conf\n",
      "Setting up GOLD environment...\n",
      "GOLD Version 2021.2.0\n",
      "Running:\n",
      " \n",
      "     \"/home/benoit/CCDC/Discovery_2021/GOLD/gold/d_linux_64/bin/gold_linux_64\" \"/home/benoit/bioactive_conformation_predictor/gold_docking_postprocessing/314/api_gold.conf\"\n",
      "\n",
      "Setting up GOLD environment...\n",
      "GOLD Version 2021.2.0\n",
      "Running:\n",
      " \n",
      "     \"/home/benoit/CCDC/Discovery_2021/GOLD/gold/d_linux_64/bin/gold_linux_64\" \"/home/benoit/bioactive_conformation_predictor/gold_docking_postprocessing/214/api_gold.conf\"\n",
      "\n",
      "0\n",
      "0\n",
      "0\n"
     ]
    },
    {
     "name": "stderr",
     "output_type": "stream",
     "text": [
      "RDKit WARNING: [17:00:04] sanitise [17:00:04] unknown|186|mol2|1|dock20: [17:00:04] sanitise [17:00:04] unknown|186|mol2|1|dock31: [17:00:04] sanitise [17:00:04] unknown|186|mol2|1|dock28: [17:00:04] sanitise [17:00:04] unknown|186|mol2|1|dock32: [17:00:04] sanitise [17:00:04] unknown|186|mol2|1|dock48: [17:00:04] sanitise [17:00:04] unknown|186|mol2|1|dock76: [17:01:48] unknown|336|mol2|1|dock49: warning - O.co2 with non C.2 or S.o2 neighbor.\n",
      "RDKit WARNING: [17:01:48] unknown|336|mol2|1|dock9: warning - O.co2 with non C.2 or S.o2 neighbor.\n",
      "[17:00:04] sanitise [17:00:04] unknown|186|mol2|1|dock20: [17:00:04] sanitise [17:00:04] unknown|186|mol2|1|dock31: [17:00:04] sanitise [17:00:04] unknown|186|mol2|1|dock28: [17:00:04] sanitise [17:00:04] unknown|186|mol2|1|dock32: [17:00:04] sanitise [17:00:04] unknown|186|mol2|1|dock48: [17:00:04] sanitise [17:00:04] unknown|186|mol2|1|dock76: [17:01:48] unknown|336|mol2|1|dock49: warning - O.co2 with non C.2 or S.o2 neighbor.\n",
      "[17:01:48] unknown|336|mol2|1|dock9: warning - O.co2 with non C.2 or S.o2 neighbor.\n",
      "RDKit WARNING: [17:01:48] unknown|336|mol2|1|dock51: warning - O.co2 with non C.2 or S.o2 neighbor.\n",
      "RDKit WARNING: [17:01:48] unknown|336|mol2|1|dock33: warning - O.co2 with non C.2 or S.o2 neighbor.\n",
      "[17:01:48] unknown|336|mol2|1|dock51: warning - O.co2 with non C.2 or S.o2 neighbor.\n",
      "[17:01:48] unknown|336|mol2|1|dock33: warning - O.co2 with non C.2 or S.o2 neighbor.\n"
     ]
    },
    {
     "name": "stdout",
     "output_type": "stream",
     "text": [
      "Starting GOLD with conf file /home/benoit/bioactive_conformation_predictor/gold_docking_postprocessing/361/api_gold.conf\n"
     ]
    },
    {
     "name": "stderr",
     "output_type": "stream",
     "text": [
      "RDKit WARNING: [17:01:49] unknown|336|mol2|1|dock49: warning - O.co2 with non C.2 or S.o2 neighbor.\n",
      "RDKit WARNING: [17:01:49] unknown|336|mol2|1|dock96: warning - O.co2 with non C.2 or S.o2 neighbor.\n"
     ]
    },
    {
     "name": "stdout",
     "output_type": "stream",
     "text": [
      "Setting up GOLD environment...\n",
      "GOLD Version 2021.2.0\n",
      "Running:\n",
      " \n",
      "     \"/home/benoit/CCDC/Discovery_2021/GOLD/gold/d_linux_64/bin/gold_linux_64\" \"/home/benoit/bioactive_conformation_predictor/gold_docking_postprocessing/361/api_gold.conf\"\n",
      "\n",
      "Starting GOLD with conf file /home/benoit/bioactive_conformation_predictor/gold_docking_postprocessing/337/api_gold.conf\n"
     ]
    },
    {
     "name": "stderr",
     "output_type": "stream",
     "text": [
      "[17:01:49] unknown|336|mol2|1|dock49: warning - O.co2 with non C.2 or S.o2 neighbor.\n",
      "[17:01:49] unknown|336|mol2|1|dock96: warning - O.co2 with non C.2 or S.o2 neighbor.\n"
     ]
    },
    {
     "name": "stdout",
     "output_type": "stream",
     "text": [
      "0\n",
      "Setting up GOLD environment...\n",
      "GOLD Version 2021.2.0\n",
      "Running:\n",
      " \n",
      "     \"/home/benoit/CCDC/Discovery_2021/GOLD/gold/d_linux_64/bin/gold_linux_64\" \"/home/benoit/bioactive_conformation_predictor/gold_docking_postprocessing/337/api_gold.conf\"\n",
      "\n",
      "Starting GOLD with conf file /home/benoit/bioactive_conformation_predictor/gold_docking_postprocessing/46/api_gold.conf\n",
      "Starting GOLD with conf file /home/benoit/bioactive_conformation_predictor/gold_docking_postprocessing/215/api_gold.conf\n",
      "Setting up GOLD environment...\n",
      "GOLD Version 2021.2.0\n",
      "Running:\n",
      " \n",
      "     \"/home/benoit/CCDC/Discovery_2021/GOLD/gold/d_linux_64/bin/gold_linux_64\" \"/home/benoit/bioactive_conformation_predictor/gold_docking_postprocessing/46/api_gold.conf\"\n",
      "\n",
      "Setting up GOLD environment...\n",
      "GOLD Version 2021.2.0\n",
      "Running:\n",
      " \n",
      "     \"/home/benoit/CCDC/Discovery_2021/GOLD/gold/d_linux_64/bin/gold_linux_64\" \"/home/benoit/bioactive_conformation_predictor/gold_docking_postprocessing/215/api_gold.conf\"\n",
      "\n",
      "0\n",
      "0\n",
      "0\n"
     ]
    },
    {
     "name": "stderr",
     "output_type": "stream",
     "text": [
      "RDKit WARNING: [17:01:57] unknown|384|mol2|1|dock87: warning - O.co2 with non C.2 or S.o2 neighbor.\n",
      "RDKit WARNING: [17:01:57] unknown|384|mol2|1|dock60: warning - O.co2 with non C.2 or S.o2 neighbor.\n"
     ]
    },
    {
     "name": "stdout",
     "output_type": "stream",
     "text": [
      "0\n"
     ]
    },
    {
     "name": "stderr",
     "output_type": "stream",
     "text": [
      "[17:01:57] unknown|384|mol2|1|dock87: warning - O.co2 with non C.2 or S.o2 neighbor.\n",
      "[17:01:57] unknown|384|mol2|1|dock60: warning - O.co2 with non C.2 or S.o2 neighbor.\n",
      "RDKit WARNING: [17:01:57] unknown|384|mol2|1|dock87: warning - O.co2 with non C.2 or S.o2 neighbor.\n",
      "RDKit WARNING: [17:01:57] unknown|384|mol2|1|dock77: warning - O.co2 with non C.2 or S.o2 neighbor.\n"
     ]
    },
    {
     "name": "stdout",
     "output_type": "stream",
     "text": [
      "Starting GOLD with conf file /home/benoit/bioactive_conformation_predictor/gold_docking_postprocessing/166/api_gold.conf\n",
      "0\n"
     ]
    },
    {
     "name": "stderr",
     "output_type": "stream",
     "text": [
      "[17:01:57] unknown|384|mol2|1|dock87: warning - O.co2 with non C.2 or S.o2 neighbor.\n",
      "[17:01:57] unknown|384|mol2|1|dock77: warning - O.co2 with non C.2 or S.o2 neighbor.\n"
     ]
    },
    {
     "name": "stdout",
     "output_type": "stream",
     "text": [
      "0\n"
     ]
    },
    {
     "name": "stderr",
     "output_type": "stream",
     "text": [
      "RDKit WARNING: [17:01:57] unknown|384|mol2|1|dock51: warning - O.co2 with non C.2 or S.o2 neighbor.\n",
      "RDKit WARNING: [17:01:57] unknown|384|mol2|1|dock92: warning - O.co2 with non C.2 or S.o2 neighbor.\n"
     ]
    },
    {
     "name": "stdout",
     "output_type": "stream",
     "text": [
      "Setting up GOLD environment...\n",
      "GOLD Version 2021.2.0\n",
      "Running:\n",
      " \n",
      "     \"/home/benoit/CCDC/Discovery_2021/GOLD/gold/d_linux_64/bin/gold_linux_64\" \"/home/benoit/bioactive_conformation_predictor/gold_docking_postprocessing/166/api_gold.conf\"\n",
      "\n"
     ]
    },
    {
     "name": "stderr",
     "output_type": "stream",
     "text": [
      "[17:01:57] unknown|384|mol2|1|dock51: warning - O.co2 with non C.2 or S.o2 neighbor.\n",
      "[17:01:57] unknown|384|mol2|1|dock92: warning - O.co2 with non C.2 or S.o2 neighbor.\n"
     ]
    },
    {
     "name": "stdout",
     "output_type": "stream",
     "text": [
      "Starting GOLD with conf file /home/benoit/bioactive_conformation_predictor/gold_docking_postprocessing/385/api_gold.conf\n"
     ]
    },
    {
     "name": "stderr",
     "output_type": "stream",
     "text": [
      "RDKit WARNING: [17:01:58] unknown|361|mol2|1|dock27: warning - O.co2 with non C.2 or S.o2 neighbor.\n"
     ]
    },
    {
     "name": "stdout",
     "output_type": "stream",
     "text": [
      "Setting up GOLD environment...\n",
      "GOLD Version 2021.2.0\n",
      "Running:\n",
      " \n",
      "     \"/home/benoit/CCDC/Discovery_2021/GOLD/gold/d_linux_64/bin/gold_linux_64\" \"/home/benoit/bioactive_conformation_predictor/gold_docking_postprocessing/385/api_gold.conf\"\n",
      "\n"
     ]
    },
    {
     "name": "stderr",
     "output_type": "stream",
     "text": [
      "RDKit WARNING: [17:01:58] unknown|361|mol2|1|dock77: warning - O.co2 with non C.2 or S.o2 neighbor.\n",
      "[17:01:58] unknown|361|mol2|1|dock27: warning - O.co2 with non C.2 or S.o2 neighbor.\n",
      "[17:01:58] unknown|361|mol2|1|dock77: warning - O.co2 with non C.2 or S.o2 neighbor.\n",
      "RDKit WARNING: [17:01:58] unknown|361|mol2|1|dock10: warning - O.co2 with non C.2 or S.o2 neighbor.\n",
      "RDKit WARNING: [17:01:58] unknown|361|mol2|1|dock99: warning - O.co2 with non C.2 or S.o2 neighbor.\n",
      "[17:01:58] unknown|361|mol2|1|dock10: warning - O.co2 with non C.2 or S.o2 neighbor.\n",
      "[17:01:58] unknown|361|mol2|1|dock99: warning - O.co2 with non C.2 or S.o2 neighbor.\n"
     ]
    },
    {
     "name": "stdout",
     "output_type": "stream",
     "text": [
      "Starting GOLD with conf file /home/benoit/bioactive_conformation_predictor/gold_docking_postprocessing/119/api_gold.conf\n"
     ]
    },
    {
     "name": "stderr",
     "output_type": "stream",
     "text": [
      "RDKit WARNING: [17:01:59] unknown|361|mol2|1|dock27: warning - O.co2 with non C.2 or S.o2 neighbor.\n",
      "RDKit WARNING: [17:01:59] unknown|361|mol2|1|dock99: warning - O.co2 with non C.2 or S.o2 neighbor.\n"
     ]
    },
    {
     "name": "stdout",
     "output_type": "stream",
     "text": [
      "Starting GOLD with conf file /home/benoit/bioactive_conformation_predictor/gold_docking_postprocessing/362/api_gold.conf\n"
     ]
    },
    {
     "name": "stderr",
     "output_type": "stream",
     "text": [
      "[17:01:59] unknown|361|mol2|1|dock27: warning - O.co2 with non C.2 or S.o2 neighbor.\n",
      "[17:01:59] unknown|361|mol2|1|dock99: warning - O.co2 with non C.2 or S.o2 neighbor.\n",
      "RDKit ERROR: [17:01:59] non-ring atom 0 marked aromatic\n",
      "RDKit ERROR: [17:01:59] non-ring atom 0 marked aromatic\n"
     ]
    },
    {
     "name": "stdout",
     "output_type": "stream",
     "text": [
      "Setting up GOLD environment...\n",
      "GOLD Version 2021.2.0\n",
      "Running:\n",
      " \n",
      "     \"/home/benoit/CCDC/Discovery_2021/GOLD/gold/d_linux_64/bin/gold_linux_64\" \"/home/benoit/bioactive_conformation_predictor/gold_docking_postprocessing/119/api_gold.conf\"\n",
      "\n",
      "Setting up GOLD environment...\n",
      "GOLD Version 2021.2.0\n",
      "Running:\n",
      " \n",
      "     \"/home/benoit/CCDC/Discovery_2021/GOLD/gold/d_linux_64/bin/gold_linux_64\" \"/home/benoit/bioactive_conformation_predictor/gold_docking_postprocessing/362/api_gold.conf\"\n",
      "\n",
      "0\n"
     ]
    },
    {
     "name": "stderr",
     "output_type": "stream",
     "text": [
      "[17:01:59] non-ring atom 0 marked aromatic\n",
      "[17:01:59] non-ring atom 0 marked aromatic\n",
      "RDKit ERROR: [17:01:59] non-ring atom 0 marked aromatic\n",
      "RDKit ERROR: [17:01:59] non-ring atom 0 marked aromatic\n"
     ]
    },
    {
     "name": "stdout",
     "output_type": "stream",
     "text": [
      "0\n"
     ]
    },
    {
     "name": "stderr",
     "output_type": "stream",
     "text": [
      "[17:01:59] non-ring atom 0 marked aromatic\n",
      "[17:01:59] non-ring atom 0 marked aromatic\n",
      "RDKit ERROR: [17:01:59] non-ring atom 0 marked aromatic\n",
      "RDKit ERROR: [17:01:59] non-ring atom 0 marked aromatic\n"
     ]
    },
    {
     "name": "stdout",
     "output_type": "stream",
     "text": [
      "Starting GOLD with conf file /home/benoit/bioactive_conformation_predictor/gold_docking_postprocessing/315/api_gold.conf\n",
      "0\n"
     ]
    },
    {
     "name": "stderr",
     "output_type": "stream",
     "text": [
      "[17:01:59] non-ring atom 0 marked aromatic\n",
      "[17:01:59] non-ring atom 0 marked aromatic\n"
     ]
    },
    {
     "name": "stdout",
     "output_type": "stream",
     "text": [
      "Setting up GOLD environment...\n",
      "GOLD Version 2021.2.0\n",
      "Running:\n",
      " \n",
      "     \"/home/benoit/CCDC/Discovery_2021/GOLD/gold/d_linux_64/bin/gold_linux_64\" \"/home/benoit/bioactive_conformation_predictor/gold_docking_postprocessing/315/api_gold.conf\"\n",
      "\n",
      "Starting GOLD with conf file /home/benoit/bioactive_conformation_predictor/gold_docking_postprocessing/293/api_gold.conf\n",
      "Setting up GOLD environment...\n",
      "GOLD Version 2021.2.0\n",
      "Running:\n",
      " \n",
      "     \"/home/benoit/CCDC/Discovery_2021/GOLD/gold/d_linux_64/bin/gold_linux_64\" \"/home/benoit/bioactive_conformation_predictor/gold_docking_postprocessing/293/api_gold.conf\"\n",
      "\n",
      "Starting GOLD with conf file /home/benoit/bioactive_conformation_predictor/gold_docking_postprocessing/47/api_gold.conf\n",
      "Setting up GOLD environment...\n",
      "GOLD Version 2021.2.0\n",
      "Running:\n",
      " \n",
      "     \"/home/benoit/CCDC/Discovery_2021/GOLD/gold/d_linux_64/bin/gold_linux_64\" \"/home/benoit/bioactive_conformation_predictor/gold_docking_postprocessing/47/api_gold.conf\"\n",
      "\n"
     ]
    },
    {
     "name": "stderr",
     "output_type": "stream",
     "text": [
      "RDKit WARNING: [17:00:00] sanitise [17:00:00] unknown|89|mol2|1|dock51: [17:00:00] sanitise [17:00:00] unknown|89|mol2|1|dock32: [17:00:00] sanitise [17:00:00] unknown|89|mol2|1|dock92: [17:00:00] sanitise [17:00:00] unknown|89|mol2|1|dock62: [17:00:00] sanitise [17:00:00] unknown|89|mol2|1|dock56: [17:00:00] sanitise [17:00:00] unknown|89|mol2|1|dock62: [17:02:03] unknown|94|mol2|1|dock3: warning - O.co2 with non C.2 or S.o2 neighbor.\n",
      "RDKit WARNING: [17:02:03] unknown|94|mol2|1|dock77: warning - O.co2 with non C.2 or S.o2 neighbor.\n",
      "[17:00:00] sanitise [17:00:00] unknown|89|mol2|1|dock51: [17:00:00] sanitise [17:00:00] unknown|89|mol2|1|dock32: [17:00:00] sanitise [17:00:00] unknown|89|mol2|1|dock92: [17:00:00] sanitise [17:00:00] unknown|89|mol2|1|dock62: [17:00:00] sanitise [17:00:00] unknown|89|mol2|1|dock56: [17:00:00] sanitise [17:00:00] unknown|89|mol2|1|dock62: [17:02:03] unknown|94|mol2|1|dock3: warning - O.co2 with non C.2 or S.o2 neighbor.\n",
      "[17:02:03] unknown|94|mol2|1|dock77: warning - O.co2 with non C.2 or S.o2 neighbor.\n",
      "RDKit WARNING: [17:02:03] unknown|94|mol2|1|dock12: warning - O.co2 with non C.2 or S.o2 neighbor.\n",
      "RDKit WARNING: [17:02:03] unknown|94|mol2|1|dock89: warning - O.co2 with non C.2 or S.o2 neighbor.\n",
      "[17:02:03] unknown|94|mol2|1|dock12: warning - O.co2 with non C.2 or S.o2 neighbor.\n",
      "[17:02:03] unknown|94|mol2|1|dock89: warning - O.co2 with non C.2 or S.o2 neighbor.\n",
      "RDKit WARNING: [17:02:04] unknown|94|mol2|1|dock23: warning - O.co2 with non C.2 or S.o2 neighbor.\n",
      "RDKit WARNING: [17:02:04] unknown|94|mol2|1|dock99: warning - O.co2 with non C.2 or S.o2 neighbor.\n"
     ]
    },
    {
     "name": "stdout",
     "output_type": "stream",
     "text": [
      "Starting GOLD with conf file /home/benoit/bioactive_conformation_predictor/gold_docking_postprocessing/22/api_gold.conf\n",
      "Starting GOLD with conf file /home/benoit/bioactive_conformation_predictor/gold_docking_postprocessing/95/api_gold.conf\n"
     ]
    },
    {
     "name": "stderr",
     "output_type": "stream",
     "text": [
      "[17:02:04] unknown|94|mol2|1|dock23: warning - O.co2 with non C.2 or S.o2 neighbor.\n",
      "[17:02:04] unknown|94|mol2|1|dock99: warning - O.co2 with non C.2 or S.o2 neighbor.\n"
     ]
    },
    {
     "name": "stdout",
     "output_type": "stream",
     "text": [
      "Setting up GOLD environment...\n",
      "GOLD Version 2021.2.0\n",
      "Running:\n",
      " \n",
      "     \"/home/benoit/CCDC/Discovery_2021/GOLD/gold/d_linux_64/bin/gold_linux_64\" \"/home/benoit/bioactive_conformation_predictor/gold_docking_postprocessing/22/api_gold.conf\"\n",
      "\n",
      "Setting up GOLD environment...\n",
      "GOLD Version 2021.2.0\n",
      "Running:\n",
      " \n",
      "     \"/home/benoit/CCDC/Discovery_2021/GOLD/gold/d_linux_64/bin/gold_linux_64\" \"/home/benoit/bioactive_conformation_predictor/gold_docking_postprocessing/95/api_gold.conf\"\n",
      "\n",
      "0\n",
      "0\n",
      "0\n",
      "0\n",
      "0\n",
      "Starting GOLD with conf file /home/benoit/bioactive_conformation_predictor/gold_docking_postprocessing/338/api_gold.conf\n",
      "Setting up GOLD environment...\n",
      "GOLD Version 2021.2.0\n",
      "Running:\n",
      " \n",
      "     \"/home/benoit/CCDC/Discovery_2021/GOLD/gold/d_linux_64/bin/gold_linux_64\" \"/home/benoit/bioactive_conformation_predictor/gold_docking_postprocessing/338/api_gold.conf\"\n",
      "\n",
      "Starting GOLD with conf file /home/benoit/bioactive_conformation_predictor/gold_docking_postprocessing/363/api_gold.conf\n",
      "Setting up GOLD environment...\n",
      "GOLD Version 2021.2.0\n",
      "Running:\n",
      " \n",
      "     \"/home/benoit/CCDC/Discovery_2021/GOLD/gold/d_linux_64/bin/gold_linux_64\" \"/home/benoit/bioactive_conformation_predictor/gold_docking_postprocessing/363/api_gold.conf\"\n",
      "\n",
      "Starting GOLD with conf file /home/benoit/bioactive_conformation_predictor/gold_docking_postprocessing/408/api_gold.conf\n",
      "Starting GOLD with conf file /home/benoit/bioactive_conformation_predictor/gold_docking_postprocessing/285/api_gold.conf\n",
      "Setting up GOLD environment...\n",
      "GOLD Version 2021.2.0\n",
      "Running:\n",
      " \n",
      "     \"/home/benoit/CCDC/Discovery_2021/GOLD/gold/d_linux_64/bin/gold_linux_64\" \"/home/benoit/bioactive_conformation_predictor/gold_docking_postprocessing/408/api_gold.conf\"\n",
      "\n",
      "Setting up GOLD environment...\n",
      "GOLD Version 2021.2.0\n",
      "Running:\n",
      " \n",
      "     \"/home/benoit/CCDC/Discovery_2021/GOLD/gold/d_linux_64/bin/gold_linux_64\" \"/home/benoit/bioactive_conformation_predictor/gold_docking_postprocessing/285/api_gold.conf\"\n",
      "\n",
      "Starting GOLD with conf file /home/benoit/bioactive_conformation_predictor/gold_docking_postprocessing/167/api_gold.conf\n",
      "Setting up GOLD environment...\n",
      "GOLD Version 2021.2.0\n",
      "Running:\n",
      " \n",
      "     \"/home/benoit/CCDC/Discovery_2021/GOLD/gold/d_linux_64/bin/gold_linux_64\" \"/home/benoit/bioactive_conformation_predictor/gold_docking_postprocessing/167/api_gold.conf\"\n",
      "\n",
      "0\n",
      "0\n",
      "0\n",
      "Starting GOLD with conf file /home/benoit/bioactive_conformation_predictor/gold_docking_postprocessing/339/api_gold.conf\n",
      "Setting up GOLD environment...\n",
      "GOLD Version 2021.2.0\n",
      "Running:\n",
      " \n",
      "     \"/home/benoit/CCDC/Discovery_2021/GOLD/gold/d_linux_64/bin/gold_linux_64\" \"/home/benoit/bioactive_conformation_predictor/gold_docking_postprocessing/339/api_gold.conf\"\n",
      "\n"
     ]
    },
    {
     "name": "stderr",
     "output_type": "stream",
     "text": [
      "RDKit WARNING: [17:02:19] unknown|385|mol2|1|dock12: warning - O.co2 with non C.2 or S.o2 neighbor.\n",
      "RDKit WARNING: [17:02:19] unknown|385|mol2|1|dock53: warning - O.co2 with non C.2 or S.o2 neighbor.\n",
      "[17:02:19] unknown|385|mol2|1|dock12: warning - O.co2 with non C.2 or S.o2 neighbor.\n",
      "[17:02:19] unknown|385|mol2|1|dock53: warning - O.co2 with non C.2 or S.o2 neighbor.\n",
      "RDKit WARNING: [17:02:19] unknown|385|mol2|1|dock10: warning - O.co2 with non C.2 or S.o2 neighbor.\n",
      "RDKit WARNING: [17:02:19] unknown|385|mol2|1|dock46: warning - O.co2 with non C.2 or S.o2 neighbor.\n",
      "[17:02:19] unknown|385|mol2|1|dock10: warning - O.co2 with non C.2 or S.o2 neighbor.\n",
      "[17:02:19] unknown|385|mol2|1|dock46: warning - O.co2 with non C.2 or S.o2 neighbor.\n",
      "RDKit WARNING: [17:02:20] unknown|385|mol2|1|dock16: warning - O.co2 with non C.2 or S.o2 neighbor.\n",
      "RDKit WARNING: [17:02:20] unknown|385|mol2|1|dock28: warning - O.co2 with non C.2 or S.o2 neighbor.\n"
     ]
    },
    {
     "name": "stdout",
     "output_type": "stream",
     "text": [
      "Starting GOLD with conf file /home/benoit/bioactive_conformation_predictor/gold_docking_postprocessing/386/api_gold.conf\n"
     ]
    },
    {
     "name": "stderr",
     "output_type": "stream",
     "text": [
      "[17:02:20] unknown|385|mol2|1|dock16: warning - O.co2 with non C.2 or S.o2 neighbor.\n",
      "[17:02:20] unknown|385|mol2|1|dock28: warning - O.co2 with non C.2 or S.o2 neighbor.\n"
     ]
    },
    {
     "name": "stdout",
     "output_type": "stream",
     "text": [
      "Setting up GOLD environment...\n",
      "GOLD Version 2021.2.0\n",
      "Running:\n",
      " \n",
      "     \"/home/benoit/CCDC/Discovery_2021/GOLD/gold/d_linux_64/bin/gold_linux_64\" \"/home/benoit/bioactive_conformation_predictor/gold_docking_postprocessing/386/api_gold.conf\"\n",
      "\n",
      "0\n",
      "0\n",
      "0\n",
      "Starting GOLD with conf file /home/benoit/bioactive_conformation_predictor/gold_docking_postprocessing/316/api_gold.conf\n",
      "Setting up GOLD environment...\n",
      "GOLD Version 2021.2.0\n",
      "Running:\n",
      " \n",
      "     \"/home/benoit/CCDC/Discovery_2021/GOLD/gold/d_linux_64/bin/gold_linux_64\" \"/home/benoit/bioactive_conformation_predictor/gold_docking_postprocessing/316/api_gold.conf\"\n",
      "\n",
      "Starting GOLD with conf file /home/benoit/bioactive_conformation_predictor/gold_docking_postprocessing/286/api_gold.conf\n",
      "Setting up GOLD environment...\n",
      "GOLD Version 2021.2.0\n",
      "Running:\n",
      " \n",
      "     \"/home/benoit/CCDC/Discovery_2021/GOLD/gold/d_linux_64/bin/gold_linux_64\" \"/home/benoit/bioactive_conformation_predictor/gold_docking_postprocessing/286/api_gold.conf\"\n",
      "\n",
      "Starting GOLD with conf file /home/benoit/bioactive_conformation_predictor/gold_docking_postprocessing/23/api_gold.conf\n",
      "0\n",
      "Setting up GOLD environment...\n",
      "GOLD Version 2021.2.0\n",
      "Running:\n",
      " \n",
      "     \"/home/benoit/CCDC/Discovery_2021/GOLD/gold/d_linux_64/bin/gold_linux_64\" \"/home/benoit/bioactive_conformation_predictor/gold_docking_postprocessing/23/api_gold.conf\"\n",
      "\n",
      "0\n"
     ]
    },
    {
     "name": "stderr",
     "output_type": "stream",
     "text": [
      "RDKit WARNING: [17:02:26] unknown|167|mol2|1|dock43: warning - O.co2 with non C.2 or S.o2 neighbor.\n",
      "RDKit WARNING: [17:02:26] unknown|167|mol2|1|dock43: warning - O.co2 with non C.2 or S.o2 neighbor.\n",
      "RDKit WARNING: [17:02:26] unknown|167|mol2|1|dock75: warning - O.co2 with non C.2 or S.o2 neighbor.\n",
      "RDKit WARNING: [17:02:26] unknown|167|mol2|1|dock67: warning - O.co2 with non C.2 or S.o2 neighbor.\n",
      "[17:02:26] unknown|167|mol2|1|dock43: warning - O.co2 with non C.2 or S.o2 neighbor.\n",
      "[17:02:26] unknown|167|mol2|1|dock43: warning - O.co2 with non C.2 or S.o2 neighbor.\n",
      "[17:02:26] unknown|167|mol2|1|dock75: warning - O.co2 with non C.2 or S.o2 neighbor.\n",
      "[17:02:26] unknown|167|mol2|1|dock67: warning - O.co2 with non C.2 or S.o2 neighbor.\n",
      "RDKit WARNING: [17:02:26] unknown|167|mol2|1|dock20: warning - O.co2 with non C.2 or S.o2 neighbor.\n",
      "RDKit WARNING: [17:02:26] unknown|167|mol2|1|dock1: warning - O.co2 with non C.2 or S.o2 neighbor.\n",
      "[17:02:26] unknown|167|mol2|1|dock20: warning - O.co2 with non C.2 or S.o2 neighbor.\n",
      "[17:02:26] unknown|167|mol2|1|dock1: warning - O.co2 with non C.2 or S.o2 neighbor.\n"
     ]
    },
    {
     "name": "stdout",
     "output_type": "stream",
     "text": [
      "Starting GOLD with conf file /home/benoit/bioactive_conformation_predictor/gold_docking_postprocessing/432/api_gold.conf\n",
      "Starting GOLD with conf file /home/benoit/bioactive_conformation_predictor/gold_docking_postprocessing/456/api_gold.conf\n",
      "Starting GOLD with conf file /home/benoit/bioactive_conformation_predictor/gold_docking_postprocessing/387/api_gold.conf\n",
      "Setting up GOLD environment...\n",
      "GOLD Version 2021.2.0\n",
      "Running:\n",
      " \n",
      "     \"/home/benoit/CCDC/Discovery_2021/GOLD/gold/d_linux_64/bin/gold_linux_64\" \"/home/benoit/bioactive_conformation_predictor/gold_docking_postprocessing/432/api_gold.conf\"\n",
      "\n",
      "Setting up GOLD environment...\n",
      "GOLD Version 2021.2.0\n",
      "Running:\n",
      " \n",
      "     \"/home/benoit/CCDC/Discovery_2021/GOLD/gold/d_linux_64/bin/gold_linux_64\" \"/home/benoit/bioactive_conformation_predictor/gold_docking_postprocessing/456/api_gold.conf\"\n",
      "\n",
      "Setting up GOLD environment...\n",
      "GOLD Version 2021.2.0\n",
      "Running:\n",
      " \n",
      "     \"/home/benoit/CCDC/Discovery_2021/GOLD/gold/d_linux_64/bin/gold_linux_64\" \"/home/benoit/bioactive_conformation_predictor/gold_docking_postprocessing/387/api_gold.conf\"\n",
      "\n",
      "0\n"
     ]
    },
    {
     "name": "stderr",
     "output_type": "stream",
     "text": [
      "RDKit WARNING: [17:02:32] unknown|363|mol2|1|dock15: warning - O.co2 with non C.2 or S.o2 neighbor.\n",
      "RDKit WARNING: [17:02:32] unknown|363|mol2|1|dock26: warning - O.co2 with non C.2 or S.o2 neighbor.\n",
      "[17:02:32] unknown|363|mol2|1|dock15: warning - O.co2 with non C.2 or S.o2 neighbor.\n",
      "[17:02:32] unknown|363|mol2|1|dock26: warning - O.co2 with non C.2 or S.o2 neighbor.\n",
      "RDKit WARNING: [17:02:32] unknown|363|mol2|1|dock15: warning - O.co2 with non C.2 or S.o2 neighbor.\n",
      "RDKit WARNING: [17:02:32] unknown|363|mol2|1|dock26: warning - O.co2 with non C.2 or S.o2 neighbor.\n",
      "[17:02:32] unknown|363|mol2|1|dock15: warning - O.co2 with non C.2 or S.o2 neighbor.\n",
      "[17:02:32] unknown|363|mol2|1|dock26: warning - O.co2 with non C.2 or S.o2 neighbor.\n",
      "RDKit WARNING: [17:02:32] unknown|363|mol2|1|dock26: warning - O.co2 with non C.2 or S.o2 neighbor.\n",
      "RDKit WARNING: [17:02:32] unknown|363|mol2|1|dock26: warning - O.co2 with non C.2 or S.o2 neighbor.\n"
     ]
    },
    {
     "name": "stdout",
     "output_type": "stream",
     "text": [
      "0\n",
      "0\n"
     ]
    },
    {
     "name": "stderr",
     "output_type": "stream",
     "text": [
      "[17:02:32] unknown|363|mol2|1|dock26: warning - O.co2 with non C.2 or S.o2 neighbor.\n",
      "[17:02:32] unknown|363|mol2|1|dock26: warning - O.co2 with non C.2 or S.o2 neighbor.\n"
     ]
    },
    {
     "name": "stdout",
     "output_type": "stream",
     "text": [
      "Starting GOLD with conf file /home/benoit/bioactive_conformation_predictor/gold_docking_postprocessing/364/api_gold.conf\n",
      "Setting up GOLD environment...\n",
      "GOLD Version 2021.2.0\n",
      "Running:\n",
      " \n",
      "     \"/home/benoit/CCDC/Discovery_2021/GOLD/gold/d_linux_64/bin/gold_linux_64\" \"/home/benoit/bioactive_conformation_predictor/gold_docking_postprocessing/364/api_gold.conf\"\n",
      "\n"
     ]
    },
    {
     "name": "stderr",
     "output_type": "stream",
     "text": [
      "RDKit WARNING: [17:02:33] unknown|286|mol2|1|dock65: warning - O.co2 with non C.2 or S.o2 neighbor.\n",
      "RDKit WARNING: [17:02:33] unknown|286|mol2|1|dock22: warning - O.co2 with non C.2 or S.o2 neighbor.\n",
      "[17:02:33] unknown|286|mol2|1|dock65: warning - O.co2 with non C.2 or S.o2 neighbor.\n",
      "[17:02:33] unknown|286|mol2|1|dock22: warning - O.co2 with non C.2 or S.o2 neighbor.\n",
      "RDKit WARNING: [17:02:34] unknown|286|mol2|1|dock33: warning - O.co2 with non C.2 or S.o2 neighbor.\n",
      "RDKit WARNING: [17:02:34] unknown|286|mol2|1|dock98: warning - O.co2 with non C.2 or S.o2 neighbor.\n",
      "RDKit WARNING: [17:02:34] unknown|286|mol2|1|dock65: warning - O.co2 with non C.2 or S.o2 neighbor.\n",
      "RDKit WARNING: [17:02:34] unknown|286|mol2|1|dock88: warning - O.co2 with non C.2 or S.o2 neighbor.\n",
      "[17:02:34] unknown|286|mol2|1|dock33: warning - O.co2 with non C.2 or S.o2 neighbor.\n",
      "[17:02:34] unknown|286|mol2|1|dock98: warning - O.co2 with non C.2 or S.o2 neighbor.\n",
      "[17:02:34] unknown|286|mol2|1|dock65: warning - O.co2 with non C.2 or S.o2 neighbor.\n",
      "[17:02:34] unknown|286|mol2|1|dock88: warning - O.co2 with non C.2 or S.o2 neighbor.\n"
     ]
    },
    {
     "name": "stdout",
     "output_type": "stream",
     "text": [
      "Starting GOLD with conf file /home/benoit/bioactive_conformation_predictor/gold_docking_postprocessing/287/api_gold.conf\n",
      "0\n",
      "Setting up GOLD environment...\n",
      "GOLD Version 2021.2.0\n",
      "Running:\n",
      " \n",
      "     \"/home/benoit/CCDC/Discovery_2021/GOLD/gold/d_linux_64/bin/gold_linux_64\" \"/home/benoit/bioactive_conformation_predictor/gold_docking_postprocessing/287/api_gold.conf\"\n",
      "\n",
      "Starting GOLD with conf file /home/benoit/bioactive_conformation_predictor/gold_docking_postprocessing/388/api_gold.conf\n",
      "Setting up GOLD environment...\n",
      "GOLD Version 2021.2.0\n",
      "Running:\n",
      " \n",
      "     \"/home/benoit/CCDC/Discovery_2021/GOLD/gold/d_linux_64/bin/gold_linux_64\" \"/home/benoit/bioactive_conformation_predictor/gold_docking_postprocessing/388/api_gold.conf\"\n",
      "\n",
      "0\n",
      "0\n",
      "0\n",
      "Starting GOLD with conf file /home/benoit/bioactive_conformation_predictor/gold_docking_postprocessing/340/api_gold.conf\n",
      "Setting up GOLD environment...\n",
      "GOLD Version 2021.2.0\n",
      "Running:\n",
      " \n",
      "     \"/home/benoit/CCDC/Discovery_2021/GOLD/gold/d_linux_64/bin/gold_linux_64\" \"/home/benoit/bioactive_conformation_predictor/gold_docking_postprocessing/340/api_gold.conf\"\n",
      "\n",
      "0\n",
      "Starting GOLD with conf file /home/benoit/bioactive_conformation_predictor/gold_docking_postprocessing/317/api_gold.conf\n",
      "Setting up GOLD environment...\n",
      "GOLD Version 2021.2.0\n",
      "Running:\n",
      " \n",
      "     \"/home/benoit/CCDC/Discovery_2021/GOLD/gold/d_linux_64/bin/gold_linux_64\" \"/home/benoit/bioactive_conformation_predictor/gold_docking_postprocessing/317/api_gold.conf\"\n",
      "\n",
      "Starting GOLD with conf file /home/benoit/bioactive_conformation_predictor/gold_docking_postprocessing/480/api_gold.confStarting GOLD with conf file /home/benoit/bioactive_conformation_predictor/gold_docking_postprocessing/457/api_gold.conf\n",
      "\n",
      "0\n",
      "Setting up GOLD environment...\n",
      "Setting up GOLD environment...\n",
      "GOLD Version 2021.2.0\n",
      "GOLD Version 2021.2.0\n",
      "Running:\n",
      " \n",
      "     \"/home/benoit/CCDC/Discovery_2021/GOLD/gold/d_linux_64/bin/gold_linux_64\" \"/home/benoit/bioactive_conformation_predictor/gold_docking_postprocessing/457/api_gold.conf\"\n",
      "\n",
      "Running:\n",
      " \n",
      "     \"/home/benoit/CCDC/Discovery_2021/GOLD/gold/d_linux_64/bin/gold_linux_64\" \"/home/benoit/bioactive_conformation_predictor/gold_docking_postprocessing/480/api_gold.conf\"\n",
      "\n"
     ]
    },
    {
     "name": "stderr",
     "output_type": "stream",
     "text": [
      "RDKit WARNING: [17:02:43] unknown|287|mol2|1|dock54: warning - O.co2 with non C.2 or S.o2 neighbor.\n",
      "RDKit WARNING: [17:02:43] unknown|287|mol2|1|dock24: warning - O.co2 with non C.2 or S.o2 neighbor.\n",
      "RDKit WARNING: [17:02:43] unknown|287|mol2|1|dock67: warning - O.co2 with non C.2 or S.o2 neighbor.\n",
      "[17:02:43] unknown|287|mol2|1|dock54: warning - O.co2 with non C.2 or S.o2 neighbor.\n",
      "[17:02:43] unknown|287|mol2|1|dock24: warning - O.co2 with non C.2 or S.o2 neighbor.\n",
      "[17:02:43] unknown|287|mol2|1|dock67: warning - O.co2 with non C.2 or S.o2 neighbor.\n",
      "[17:02:43] unknown|287|mol2|1|dock87: warning - O.co2 with non C.2 or S.o2 neighbor.\n",
      "RDKit WARNING: [17:02:43] unknown|287|mol2|1|dock87: warning - O.co2 with non C.2 or S.o2 neighbor.\n"
     ]
    },
    {
     "name": "stdout",
     "output_type": "stream",
     "text": [
      "0\n"
     ]
    },
    {
     "name": "stderr",
     "output_type": "stream",
     "text": [
      "RDKit WARNING: [17:02:43] unknown|287|mol2|1|dock91: warning - O.co2 with non C.2 or S.o2 neighbor.\n",
      "RDKit WARNING: [17:02:43] unknown|287|mol2|1|dock21: warning - O.co2 with non C.2 or S.o2 neighbor.\n"
     ]
    },
    {
     "name": "stdout",
     "output_type": "stream",
     "text": [
      "Starting GOLD with conf file /home/benoit/bioactive_conformation_predictor/gold_docking_postprocessing/504/api_gold.conf\n"
     ]
    },
    {
     "name": "stderr",
     "output_type": "stream",
     "text": [
      "[17:02:43] unknown|287|mol2|1|dock91: warning - O.co2 with non C.2 or S.o2 neighbor.\n",
      "[17:02:43] unknown|287|mol2|1|dock21: warning - O.co2 with non C.2 or S.o2 neighbor.\n"
     ]
    },
    {
     "name": "stdout",
     "output_type": "stream",
     "text": [
      "Setting up GOLD environment...\n",
      "GOLD Version 2021.2.0\n",
      "Running:\n",
      " \n",
      "     \"/home/benoit/CCDC/Discovery_2021/GOLD/gold/d_linux_64/bin/gold_linux_64\" \"/home/benoit/bioactive_conformation_predictor/gold_docking_postprocessing/504/api_gold.conf\"\n",
      "\n",
      "0\n",
      "0\n",
      "Starting GOLD with conf file /home/benoit/bioactive_conformation_predictor/gold_docking_postprocessing/528/api_gold.conf\n",
      "Setting up GOLD environment...\n",
      "GOLD Version 2021.2.0\n",
      "Running:\n",
      " \n",
      "     \"/home/benoit/CCDC/Discovery_2021/GOLD/gold/d_linux_64/bin/gold_linux_64\" \"/home/benoit/bioactive_conformation_predictor/gold_docking_postprocessing/528/api_gold.conf\"\n",
      "\n",
      "Starting GOLD with conf file /home/benoit/bioactive_conformation_predictor/gold_docking_postprocessing/294/api_gold.conf\n",
      "Setting up GOLD environment...\n",
      "GOLD Version 2021.2.0\n",
      "Running:\n",
      " \n",
      "     \"/home/benoit/CCDC/Discovery_2021/GOLD/gold/d_linux_64/bin/gold_linux_64\" \"/home/benoit/bioactive_conformation_predictor/gold_docking_postprocessing/294/api_gold.conf\"\n",
      "\n",
      "Starting GOLD with conf file /home/benoit/bioactive_conformation_predictor/gold_docking_postprocessing/365/api_gold.conf\n",
      "Setting up GOLD environment...\n",
      "GOLD Version 2021.2.0\n",
      "Running:\n",
      " \n",
      "     \"/home/benoit/CCDC/Discovery_2021/GOLD/gold/d_linux_64/bin/gold_linux_64\" \"/home/benoit/bioactive_conformation_predictor/gold_docking_postprocessing/365/api_gold.conf\"\n",
      "\n",
      "0\n",
      "Starting GOLD with conf file /home/benoit/bioactive_conformation_predictor/gold_docking_postprocessing/433/api_gold.conf\n",
      "Setting up GOLD environment...\n",
      "GOLD Version 2021.2.0\n",
      "Running:\n",
      " \n",
      "     \"/home/benoit/CCDC/Discovery_2021/GOLD/gold/d_linux_64/bin/gold_linux_64\" \"/home/benoit/bioactive_conformation_predictor/gold_docking_postprocessing/433/api_gold.conf\"\n",
      "\n",
      "0\n",
      "Starting GOLD with conf file /home/benoit/bioactive_conformation_predictor/gold_docking_postprocessing/409/api_gold.conf\n",
      "Setting up GOLD environment...\n",
      "GOLD Version 2021.2.0\n",
      "Running:\n",
      " \n",
      "     \"/home/benoit/CCDC/Discovery_2021/GOLD/gold/d_linux_64/bin/gold_linux_64\" \"/home/benoit/bioactive_conformation_predictor/gold_docking_postprocessing/409/api_gold.conf\"\n",
      "\n",
      "0\n",
      "Starting GOLD with conf file /home/benoit/bioactive_conformation_predictor/gold_docking_postprocessing/458/api_gold.conf\n",
      "0\n",
      "Setting up GOLD environment...\n",
      "GOLD Version 2021.2.0\n",
      "Running:\n",
      " \n",
      "     \"/home/benoit/CCDC/Discovery_2021/GOLD/gold/d_linux_64/bin/gold_linux_64\" \"/home/benoit/bioactive_conformation_predictor/gold_docking_postprocessing/458/api_gold.conf\"\n",
      "\n",
      "Starting GOLD with conf file /home/benoit/bioactive_conformation_predictor/gold_docking_postprocessing/389/api_gold.conf\n",
      "Setting up GOLD environment...\n",
      "GOLD Version 2021.2.0\n",
      "Running:\n",
      " \n",
      "     \"/home/benoit/CCDC/Discovery_2021/GOLD/gold/d_linux_64/bin/gold_linux_64\" \"/home/benoit/bioactive_conformation_predictor/gold_docking_postprocessing/389/api_gold.conf\"\n",
      "\n",
      "0\n",
      "0\n",
      "Starting GOLD with conf file /home/benoit/bioactive_conformation_predictor/gold_docking_postprocessing/341/api_gold.conf\n",
      "Setting up GOLD environment...\n",
      "GOLD Version 2021.2.0\n",
      "Running:\n",
      " \n",
      "     \"/home/benoit/CCDC/Discovery_2021/GOLD/gold/d_linux_64/bin/gold_linux_64\" \"/home/benoit/bioactive_conformation_predictor/gold_docking_postprocessing/341/api_gold.conf\"\n",
      "\n",
      "Starting GOLD with conf file /home/benoit/bioactive_conformation_predictor/gold_docking_postprocessing/529/api_gold.conf\n",
      "Setting up GOLD environment...\n",
      "GOLD Version 2021.2.0\n",
      "Running:\n",
      " \n",
      "     \"/home/benoit/CCDC/Discovery_2021/GOLD/gold/d_linux_64/bin/gold_linux_64\" \"/home/benoit/bioactive_conformation_predictor/gold_docking_postprocessing/529/api_gold.conf\"\n",
      "\n",
      "Starting GOLD with conf file /home/benoit/bioactive_conformation_predictor/gold_docking_postprocessing/505/api_gold.conf\n",
      "Setting up GOLD environment...\n",
      "GOLD Version 2021.2.0\n",
      "Running:\n",
      " \n",
      "     \"/home/benoit/CCDC/Discovery_2021/GOLD/gold/d_linux_64/bin/gold_linux_64\" \"/home/benoit/bioactive_conformation_predictor/gold_docking_postprocessing/505/api_gold.conf\"\n",
      "\n",
      "1\n",
      "Error with smiles CNC(=O)c1cccc(C)c1Nc1nc(N2CCN(c3ccccc3Cl)CC2)nc(N2CSC[C@H]2C(=O)NC)n1\n",
      "Error: could not find any GOLD solution files using conf file /home/benoit/bioactive_conformation_predictor/gold_docking_postprocessing/529/api_gold.conf\n",
      "Starting GOLD with conf file /home/benoit/bioactive_conformation_predictor/gold_docking_postprocessing/530/api_gold.conf\n",
      "Fatal error: \n",
      "find_oco2_lp_points: can't find other oco2 paired to atom 3123\n",
      "\n",
      "Setting up GOLD environment...\n",
      "GOLD Version 2021.2.0\n",
      "Running:\n",
      " \n",
      "     \"/home/benoit/CCDC/Discovery_2021/GOLD/gold/d_linux_64/bin/gold_linux_64\" \"/home/benoit/bioactive_conformation_predictor/gold_docking_postprocessing/530/api_gold.conf\"\n",
      "\n",
      "0\n",
      "0\n",
      "0\n",
      "0\n"
     ]
    },
    {
     "name": "stderr",
     "output_type": "stream",
     "text": [
      "RDKit WARNING: [17:03:05] unknown|480|mol2|1|dock72: warning - O.co2 with non C.2 or S.o2 neighbor.\n",
      "RDKit WARNING: [17:03:05] unknown|480|mol2|1|dock72: warning - O.co2 with non C.2 or S.o2 neighbor.\n"
     ]
    },
    {
     "name": "stdout",
     "output_type": "stream",
     "text": [
      "Starting GOLD with conf file /home/benoit/bioactive_conformation_predictor/gold_docking_postprocessing/342/api_gold.conf\n",
      "0\n"
     ]
    },
    {
     "name": "stderr",
     "output_type": "stream",
     "text": [
      "[17:03:05] unknown|480|mol2|1|dock72: warning - O.co2 with non C.2 or S.o2 neighbor.\n",
      "[17:03:05] unknown|480|mol2|1|dock72: warning - O.co2 with non C.2 or S.o2 neighbor.\n",
      "RDKit WARNING: [17:03:05] unknown|480|mol2|1|dock40: warning - O.co2 with non C.2 or S.o2 neighbor.\n",
      "RDKit WARNING: [17:03:05] unknown|480|mol2|1|dock69: warning - O.co2 with non C.2 or S.o2 neighbor.\n"
     ]
    },
    {
     "name": "stdout",
     "output_type": "stream",
     "text": [
      "Setting up GOLD environment...\n",
      "GOLD Version 2021.2.0\n",
      "Running:\n",
      " \n",
      "     \"/home/benoit/CCDC/Discovery_2021/GOLD/gold/d_linux_64/bin/gold_linux_64\" \"/home/benoit/bioactive_conformation_predictor/gold_docking_postprocessing/342/api_gold.conf\"\n",
      "\n"
     ]
    },
    {
     "name": "stderr",
     "output_type": "stream",
     "text": [
      "[17:03:05] unknown|480|mol2|1|dock40: warning - O.co2 with non C.2 or S.o2 neighbor.\n",
      "[17:03:05] unknown|480|mol2|1|dock69: warning - O.co2 with non C.2 or S.o2 neighbor.\n",
      "RDKit WARNING: [17:03:05] unknown|480|mol2|1|dock49: warning - O.co2 with non C.2 or S.o2 neighbor.\n",
      "RDKit WARNING: [17:03:05] unknown|480|mol2|1|dock20: warning - O.co2 with non C.2 or S.o2 neighbor.\n",
      "[17:03:05] unknown|480|mol2|1|dock49: warning - O.co2 with non C.2 or S.o2 neighbor.\n",
      "[17:03:05] unknown|480|mol2|1|dock20: warning - O.co2 with non C.2 or S.o2 neighbor.\n"
     ]
    },
    {
     "name": "stdout",
     "output_type": "stream",
     "text": [
      "Starting GOLD with conf file /home/benoit/bioactive_conformation_predictor/gold_docking_postprocessing/481/api_gold.conf\n",
      "Setting up GOLD environment...\n",
      "GOLD Version 2021.2.0\n",
      "Running:\n",
      " \n",
      "     \"/home/benoit/CCDC/Discovery_2021/GOLD/gold/d_linux_64/bin/gold_linux_64\" \"/home/benoit/bioactive_conformation_predictor/gold_docking_postprocessing/481/api_gold.conf\"\n",
      "\n",
      "Starting GOLD with conf file /home/benoit/bioactive_conformation_predictor/gold_docking_postprocessing/410/api_gold.conf\n",
      "Setting up GOLD environment...\n",
      "GOLD Version 2021.2.0\n",
      "Running:\n",
      " \n",
      "     \"/home/benoit/CCDC/Discovery_2021/GOLD/gold/d_linux_64/bin/gold_linux_64\" \"/home/benoit/bioactive_conformation_predictor/gold_docking_postprocessing/410/api_gold.conf\"\n",
      "\n",
      "Starting GOLD with conf file /home/benoit/bioactive_conformation_predictor/gold_docking_postprocessing/434/api_gold.conf\n",
      "Setting up GOLD environment...\n",
      "GOLD Version 2021.2.0\n",
      "Running:\n",
      " \n",
      "     \"/home/benoit/CCDC/Discovery_2021/GOLD/gold/d_linux_64/bin/gold_linux_64\" \"/home/benoit/bioactive_conformation_predictor/gold_docking_postprocessing/434/api_gold.conf\"\n",
      "\n",
      "0\n",
      "Starting GOLD with conf file /home/benoit/bioactive_conformation_predictor/gold_docking_postprocessing/318/api_gold.conf\n",
      "Setting up GOLD environment...\n",
      "GOLD Version 2021.2.0\n",
      "Running:\n",
      " \n",
      "     \"/home/benoit/CCDC/Discovery_2021/GOLD/gold/d_linux_64/bin/gold_linux_64\" \"/home/benoit/bioactive_conformation_predictor/gold_docking_postprocessing/318/api_gold.conf\"\n",
      "\n",
      "0\n",
      "0\n",
      "0\n",
      "Starting GOLD with conf file /home/benoit/bioactive_conformation_predictor/gold_docking_postprocessing/295/api_gold.conf\n",
      "Setting up GOLD environment...\n",
      "GOLD Version 2021.2.0\n",
      "Running:\n",
      " \n",
      "     \"/home/benoit/CCDC/Discovery_2021/GOLD/gold/d_linux_64/bin/gold_linux_64\" \"/home/benoit/bioactive_conformation_predictor/gold_docking_postprocessing/295/api_gold.conf\"\n",
      "\n",
      "0\n",
      "Starting GOLD with conf file /home/benoit/bioactive_conformation_predictor/gold_docking_postprocessing/531/api_gold.conf\n",
      "Setting up GOLD environment...\n",
      "GOLD Version 2021.2.0\n",
      "Running:\n",
      " \n",
      "     \"/home/benoit/CCDC/Discovery_2021/GOLD/gold/d_linux_64/bin/gold_linux_64\" \"/home/benoit/bioactive_conformation_predictor/gold_docking_postprocessing/531/api_gold.conf\"\n",
      "\n"
     ]
    },
    {
     "name": "stderr",
     "output_type": "stream",
     "text": [
      "RDKit WARNING: [17:03:15] unknown|458|mol2|1|dock21: warning - O.co2 with non C.2 or S.o2 neighbor.\n",
      "RDKit WARNING: [17:03:15] unknown|458|mol2|1|dock14: warning - O.co2 with non C.2 or S.o2 neighbor.\n",
      "[17:03:15] unknown|458|mol2|1|dock21: warning - O.co2 with non C.2 or S.o2 neighbor.\n",
      "[17:03:15] unknown|458|mol2|1|dock14: warning - O.co2 with non C.2 or S.o2 neighbor.\n"
     ]
    },
    {
     "name": "stdout",
     "output_type": "stream",
     "text": [
      "Starting GOLD with conf file /home/benoit/bioactive_conformation_predictor/gold_docking_postprocessing/366/api_gold.conf\n"
     ]
    },
    {
     "name": "stderr",
     "output_type": "stream",
     "text": [
      "RDKit WARNING: [17:03:15] unknown|458|mol2|1|dock49: warning - O.co2 with non C.2 or S.o2 neighbor.\n",
      "RDKit WARNING: [17:03:15] unknown|458|mol2|1|dock49: warning - O.co2 with non C.2 or S.o2 neighbor.\n",
      "RDKit WARNING: [17:03:15] unknown|389|mol2|1|dock34: warning - O.co2 with non C.2 or S.o2 neighbor.\n",
      "RDKit WARNING: [17:03:15] unknown|389|mol2|1|dock86: warning - O.co2 with non C.2 or S.o2 neighbor.\n",
      "[17:03:15] unknown|458|mol2|1|dock49: warning - O.co2 with non C.2 or S.o2 neighbor.\n",
      "[17:03:15] unknown|458|mol2|1|dock49: warning - O.co2 with non C.2 or S.o2 neighbor.\n",
      "[17:03:15] unknown|389|mol2|1|dock34: warning - O.co2 with non C.2 or S.o2 neighbor.\n",
      "[17:03:15] unknown|389|mol2|1|dock86: warning - O.co2 with non C.2 or S.o2 neighbor.\n"
     ]
    },
    {
     "name": "stdout",
     "output_type": "stream",
     "text": [
      "Setting up GOLD environment...\n",
      "GOLD Version 2021.2.0\n",
      "Running:\n",
      " \n",
      "     \"/home/benoit/CCDC/Discovery_2021/GOLD/gold/d_linux_64/bin/gold_linux_64\" \"/home/benoit/bioactive_conformation_predictor/gold_docking_postprocessing/366/api_gold.conf\"\n",
      "\n"
     ]
    },
    {
     "name": "stderr",
     "output_type": "stream",
     "text": [
      "RDKit WARNING: [17:03:16] unknown|389|mol2|1|dock5: warning - O.co2 with non C.2 or S.o2 neighbor.\n",
      "RDKit WARNING: [17:03:16] unknown|389|mol2|1|dock99: warning - O.co2 with non C.2 or S.o2 neighbor.\n",
      "RDKit WARNING: [17:03:16] unknown|458|mol2|1|dock21: warning - O.co2 with non C.2 or S.o2 neighbor.\n",
      "RDKit WARNING: [17:03:16] unknown|458|mol2|1|dock85: warning - O.co2 with non C.2 or S.o2 neighbor.\n"
     ]
    },
    {
     "name": "stdout",
     "output_type": "stream",
     "text": [
      "Starting GOLD with conf file /home/benoit/bioactive_conformation_predictor/gold_docking_postprocessing/459/api_gold.conf\n"
     ]
    },
    {
     "name": "stderr",
     "output_type": "stream",
     "text": [
      "[17:03:16] unknown|389|mol2|1|dock5: warning - O.co2 with non C.2 or S.o2 neighbor.\n",
      "[17:03:16] unknown|389|mol2|1|dock99: warning - O.co2 with non C.2 or S.o2 neighbor.\n",
      "[17:03:16] unknown|458|mol2|1|dock21: warning - O.co2 with non C.2 or S.o2 neighbor.\n",
      "[17:03:16] unknown|458|mol2|1|dock85: warning - O.co2 with non C.2 or S.o2 neighbor.\n",
      "RDKit WARNING: [17:03:16] unknown|389|mol2|1|dock45: warning - O.co2 with non C.2 or S.o2 neighbor.\n",
      "RDKit WARNING: [17:03:16] unknown|389|mol2|1|dock75: warning - O.co2 with non C.2 or S.o2 neighbor.\n"
     ]
    },
    {
     "name": "stdout",
     "output_type": "stream",
     "text": [
      "Starting GOLD with conf file /home/benoit/bioactive_conformation_predictor/gold_docking_postprocessing/390/api_gold.conf\n"
     ]
    },
    {
     "name": "stderr",
     "output_type": "stream",
     "text": [
      "[17:03:16] unknown|389|mol2|1|dock45: warning - O.co2 with non C.2 or S.o2 neighbor.\n",
      "[17:03:16] unknown|389|mol2|1|dock75: warning - O.co2 with non C.2 or S.o2 neighbor.\n"
     ]
    },
    {
     "name": "stdout",
     "output_type": "stream",
     "text": [
      "Setting up GOLD environment...\n",
      "GOLD Version 2021.2.0\n",
      "Running:\n",
      " \n",
      "     \"/home/benoit/CCDC/Discovery_2021/GOLD/gold/d_linux_64/bin/gold_linux_64\" \"/home/benoit/bioactive_conformation_predictor/gold_docking_postprocessing/459/api_gold.conf\"\n",
      "\n",
      "Setting up GOLD environment...\n",
      "GOLD Version 2021.2.0\n",
      "Running:\n",
      " \n",
      "     \"/home/benoit/CCDC/Discovery_2021/GOLD/gold/d_linux_64/bin/gold_linux_64\" \"/home/benoit/bioactive_conformation_predictor/gold_docking_postprocessing/390/api_gold.conf\"\n",
      "\n",
      "0\n",
      "0\n",
      "0\n"
     ]
    },
    {
     "name": "stderr",
     "output_type": "stream",
     "text": [
      "RDKit WARNING: [17:03:18] unknown|342|mol2|1|dock90: warning - O.co2 with non C.2 or S.o2 neighbor.\n",
      "RDKit WARNING: [17:03:18] unknown|342|mol2|1|dock96: warning - O.co2 with non C.2 or S.o2 neighbor.\n",
      "[17:03:18] unknown|342|mol2|1|dock90: warning - O.co2 with non C.2 or S.o2 neighbor.\n",
      "[17:03:18] unknown|342|mol2|1|dock96: warning - O.co2 with non C.2 or S.o2 neighbor.\n",
      "RDKit WARNING: [17:03:18] unknown|342|mol2|1|dock72: warning - O.co2 with non C.2 or S.o2 neighbor.\n",
      "RDKit WARNING: [17:03:18] unknown|342|mol2|1|dock66: warning - O.co2 with non C.2 or S.o2 neighbor.\n"
     ]
    },
    {
     "name": "stdout",
     "output_type": "stream",
     "text": [
      "0\n"
     ]
    },
    {
     "name": "stderr",
     "output_type": "stream",
     "text": [
      "[17:03:18] unknown|342|mol2|1|dock72: warning - O.co2 with non C.2 or S.o2 neighbor.\n",
      "[17:03:18] unknown|342|mol2|1|dock66: warning - O.co2 with non C.2 or S.o2 neighbor.\n",
      "RDKit WARNING: [17:03:18] unknown|342|mol2|1|dock52: warning - O.co2 with non C.2 or S.o2 neighbor.\n",
      "RDKit WARNING: [17:03:18] unknown|342|mol2|1|dock96: warning - O.co2 with non C.2 or S.o2 neighbor.\n"
     ]
    },
    {
     "name": "stdout",
     "output_type": "stream",
     "text": [
      "Starting GOLD with conf file /home/benoit/bioactive_conformation_predictor/gold_docking_postprocessing/343/api_gold.conf\n"
     ]
    },
    {
     "name": "stderr",
     "output_type": "stream",
     "text": [
      "[17:03:18] unknown|342|mol2|1|dock52: warning - O.co2 with non C.2 or S.o2 neighbor.\n",
      "[17:03:18] unknown|342|mol2|1|dock96: warning - O.co2 with non C.2 or S.o2 neighbor.\n"
     ]
    },
    {
     "name": "stdout",
     "output_type": "stream",
     "text": [
      "Setting up GOLD environment...\n",
      "GOLD Version 2021.2.0\n",
      "Running:\n",
      " \n",
      "     \"/home/benoit/CCDC/Discovery_2021/GOLD/gold/d_linux_64/bin/gold_linux_64\" \"/home/benoit/bioactive_conformation_predictor/gold_docking_postprocessing/343/api_gold.conf\"\n",
      "\n",
      "Starting GOLD with conf file /home/benoit/bioactive_conformation_predictor/gold_docking_postprocessing/482/api_gold.conf\n",
      "Starting GOLD with conf file /home/benoit/bioactive_conformation_predictor/gold_docking_postprocessing/319/api_gold.conf\n",
      "Starting GOLD with conf file /home/benoit/bioactive_conformation_predictor/gold_docking_postprocessing/367/api_gold.conf\n",
      "Setting up GOLD environment...\n",
      "GOLD Version 2021.2.0\n",
      "Running:\n",
      " \n",
      "     \"/home/benoit/CCDC/Discovery_2021/GOLD/gold/d_linux_64/bin/gold_linux_64\" \"/home/benoit/bioactive_conformation_predictor/gold_docking_postprocessing/482/api_gold.conf\"\n",
      "\n",
      "Setting up GOLD environment...\n",
      "GOLD Version 2021.2.0\n",
      "Running:\n",
      " \n",
      "     \"/home/benoit/CCDC/Discovery_2021/GOLD/gold/d_linux_64/bin/gold_linux_64\" \"/home/benoit/bioactive_conformation_predictor/gold_docking_postprocessing/319/api_gold.conf\"\n",
      "\n",
      "Setting up GOLD environment...\n",
      "GOLD Version 2021.2.0\n",
      "Running:\n",
      " \n",
      "     \"/home/benoit/CCDC/Discovery_2021/GOLD/gold/d_linux_64/bin/gold_linux_64\" \"/home/benoit/bioactive_conformation_predictor/gold_docking_postprocessing/367/api_gold.conf\"\n",
      "\n",
      "0\n",
      "0\n",
      "0\n",
      "Starting GOLD with conf file /home/benoit/bioactive_conformation_predictor/gold_docking_postprocessing/506/api_gold.conf\n",
      "0\n",
      "Setting up GOLD environment...\n",
      "GOLD Version 2021.2.0\n",
      "Running:\n",
      " \n",
      "     \"/home/benoit/CCDC/Discovery_2021/GOLD/gold/d_linux_64/bin/gold_linux_64\" \"/home/benoit/bioactive_conformation_predictor/gold_docking_postprocessing/506/api_gold.conf\"\n",
      "\n",
      "0\n",
      "Starting GOLD with conf file /home/benoit/bioactive_conformation_predictor/gold_docking_postprocessing/435/api_gold.conf\n",
      "Setting up GOLD environment...\n",
      "GOLD Version 2021.2.0\n",
      "Running:\n",
      " \n",
      "     \"/home/benoit/CCDC/Discovery_2021/GOLD/gold/d_linux_64/bin/gold_linux_64\" \"/home/benoit/bioactive_conformation_predictor/gold_docking_postprocessing/435/api_gold.conf\"\n",
      "\n",
      "Starting GOLD with conf file /home/benoit/bioactive_conformation_predictor/gold_docking_postprocessing/368/api_gold.conf\n",
      "Starting GOLD with conf file /home/benoit/bioactive_conformation_predictor/gold_docking_postprocessing/460/api_gold.conf\n",
      "Setting up GOLD environment...\n",
      "GOLD Version 2021.2.0\n",
      "Running:\n",
      " \n",
      "     \"/home/benoit/CCDC/Discovery_2021/GOLD/gold/d_linux_64/bin/gold_linux_64\" \"/home/benoit/bioactive_conformation_predictor/gold_docking_postprocessing/368/api_gold.conf\"\n",
      "\n",
      "0\n",
      "Setting up GOLD environment...\n",
      "GOLD Version 2021.2.0\n",
      "Running:\n",
      " \n",
      "     \"/home/benoit/CCDC/Discovery_2021/GOLD/gold/d_linux_64/bin/gold_linux_64\" \"/home/benoit/bioactive_conformation_predictor/gold_docking_postprocessing/460/api_gold.conf\"\n",
      "\n",
      "Starting GOLD with conf file /home/benoit/bioactive_conformation_predictor/gold_docking_postprocessing/532/api_gold.conf\n",
      "Setting up GOLD environment...\n",
      "GOLD Version 2021.2.0\n",
      "Running:\n",
      " \n",
      "     \"/home/benoit/CCDC/Discovery_2021/GOLD/gold/d_linux_64/bin/gold_linux_64\" \"/home/benoit/bioactive_conformation_predictor/gold_docking_postprocessing/532/api_gold.conf\"\n",
      "\n",
      "Starting GOLD with conf file /home/benoit/bioactive_conformation_predictor/gold_docking_postprocessing/391/api_gold.conf\n",
      "Setting up GOLD environment...\n",
      "GOLD Version 2021.2.0\n",
      "Running:\n",
      " \n",
      "     \"/home/benoit/CCDC/Discovery_2021/GOLD/gold/d_linux_64/bin/gold_linux_64\" \"/home/benoit/bioactive_conformation_predictor/gold_docking_postprocessing/391/api_gold.conf\"\n",
      "\n",
      "0\n",
      "0\n",
      "0\n",
      "0\n",
      "0\n",
      "Starting GOLD with conf file /home/benoit/bioactive_conformation_predictor/gold_docking_postprocessing/296/api_gold.conf\n",
      "0\n",
      "Setting up GOLD environment...\n",
      "GOLD Version 2021.2.0\n",
      "Running:\n",
      " \n",
      "     \"/home/benoit/CCDC/Discovery_2021/GOLD/gold/d_linux_64/bin/gold_linux_64\" \"/home/benoit/bioactive_conformation_predictor/gold_docking_postprocessing/296/api_gold.conf\"\n",
      "\n",
      "Starting GOLD with conf file /home/benoit/bioactive_conformation_predictor/gold_docking_postprocessing/507/api_gold.conf\n",
      "Starting GOLD with conf file /home/benoit/bioactive_conformation_predictor/gold_docking_postprocessing/436/api_gold.conf\n",
      "Setting up GOLD environment...\n",
      "GOLD Version 2021.2.0\n",
      "Running:\n",
      " \n",
      "     \"/home/benoit/CCDC/Discovery_2021/GOLD/gold/d_linux_64/bin/gold_linux_64\" \"/home/benoit/bioactive_conformation_predictor/gold_docking_postprocessing/507/api_gold.conf\"\n",
      "\n",
      "Setting up GOLD environment...\n",
      "GOLD Version 2021.2.0\n",
      "Running:\n",
      " \n",
      "     \"/home/benoit/CCDC/Discovery_2021/GOLD/gold/d_linux_64/bin/gold_linux_64\" \"/home/benoit/bioactive_conformation_predictor/gold_docking_postprocessing/436/api_gold.conf\"\n",
      "\n",
      "Error with smiles CC1=CC2=[N+]3C1=CC1=[N+]4C(=CC5=[N+]6C(=CC7=[N+](C(=C2)C(C)=C7)[Mg@@-2]346)C(C)=C5CCC(=O)[O-])C(CCC(=O)[O-])=C1C\n",
      "'NoneType' object has no attribute 'CalcEnergy'\n",
      "Starting GOLD with conf file /home/benoit/bioactive_conformation_predictor/gold_docking_postprocessing/344/api_gold.conf\n",
      "Setting up GOLD environment...\n",
      "GOLD Version 2021.2.0\n",
      "Running:\n",
      " \n",
      "     \"/home/benoit/CCDC/Discovery_2021/GOLD/gold/d_linux_64/bin/gold_linux_64\" \"/home/benoit/bioactive_conformation_predictor/gold_docking_postprocessing/344/api_gold.conf\"\n",
      "\n",
      "Starting GOLD with conf file /home/benoit/bioactive_conformation_predictor/gold_docking_postprocessing/483/api_gold.conf\n",
      "0\n",
      "Setting up GOLD environment...\n",
      "GOLD Version 2021.2.0\n",
      "Running:\n",
      " \n",
      "     \"/home/benoit/CCDC/Discovery_2021/GOLD/gold/d_linux_64/bin/gold_linux_64\" \"/home/benoit/bioactive_conformation_predictor/gold_docking_postprocessing/483/api_gold.conf\"\n",
      "\n",
      "Starting GOLD with conf file /home/benoit/bioactive_conformation_predictor/gold_docking_postprocessing/411/api_gold.conf\n",
      "Setting up GOLD environment...\n",
      "GOLD Version 2021.2.0\n",
      "Running:\n",
      " \n",
      "     \"/home/benoit/CCDC/Discovery_2021/GOLD/gold/d_linux_64/bin/gold_linux_64\" \"/home/benoit/bioactive_conformation_predictor/gold_docking_postprocessing/411/api_gold.conf\"\n",
      "\n",
      "0\n",
      "0\n"
     ]
    },
    {
     "name": "stderr",
     "output_type": "stream",
     "text": [
      "RDKit WARNING: [17:03:42] unknown|532|mol2|1|dock5: warning - O.co2 with non C.2 or S.o2 neighbor.\n",
      "RDKit WARNING: [17:03:42] unknown|532|mol2|1|dock39: warning - O.co2 with non C.2 or S.o2 neighbor.\n",
      "[17:03:42] unknown|532|mol2|1|dock5: warning - O.co2 with non C.2 or S.o2 neighbor.\n",
      "[17:03:42] unknown|532|mol2|1|dock39: warning - O.co2 with non C.2 or S.o2 neighbor.\n",
      "RDKit WARNING: [17:03:42] unknown|532|mol2|1|dock5: warning - O.co2 with non C.2 or S.o2 neighbor.\n",
      "RDKit WARNING: [17:03:42] unknown|460|mol2|1|dock78: warning - O.co2 with non C.2 or S.o2 neighbor.\n",
      "RDKit WARNING: [17:03:42] unknown|532|mol2|1|dock96: warning - O.co2 with non C.2 or S.o2 neighbor.\n",
      "RDKit WARNING: [17:03:42] unknown|460|mol2|1|dock45: warning - O.co2 with non C.2 or S.o2 neighbor.\n",
      "[17:03:42] unknown|532|mol2|1|dock5: warning - O.co2 with non C.2 or S.o2 neighbor.\n",
      "[17:03:42] unknown|460|mol2|1|dock78: warning - O.co2 with non C.2 or S.o2 neighbor.\n",
      "[17:03:42] unknown|532|mol2|1|dock96: warning - O.co2 with non C.2 or S.o2 neighbor.\n",
      "[17:03:42] unknown|460|mol2|1|dock45: warning - O.co2 with non C.2 or S.o2 neighbor.\n",
      "RDKit WARNING: [17:03:42] unknown|532|mol2|1|dock38: warning - O.co2 with non C.2 or S.o2 neighbor.\n",
      "RDKit WARNING: [17:03:42] unknown|532|mol2|1|dock7: warning - O.co2 with non C.2 or S.o2 neighbor.\n",
      "RDKit WARNING: [17:03:42] unknown|460|mol2|1|dock78: warning - O.co2 with non C.2 or S.o2 neighbor.\n",
      "RDKit WARNING: [17:03:42] unknown|460|mol2|1|dock45: warning - O.co2 with non C.2 or S.o2 neighbor.\n"
     ]
    },
    {
     "name": "stdout",
     "output_type": "stream",
     "text": [
      "Starting GOLD with conf file /home/benoit/bioactive_conformation_predictor/gold_docking_postprocessing/533/api_gold.conf\n"
     ]
    },
    {
     "name": "stderr",
     "output_type": "stream",
     "text": [
      "[17:03:42] unknown|532|mol2|1|dock38: warning - O.co2 with non C.2 or S.o2 neighbor.\n",
      "[17:03:42] unknown|532|mol2|1|dock7: warning - O.co2 with non C.2 or S.o2 neighbor.\n",
      "[17:03:42] unknown|460|mol2|1|dock78: warning - O.co2 with non C.2 or S.o2 neighbor.\n",
      "[17:03:42] unknown|460|mol2|1|dock45: warning - O.co2 with non C.2 or S.o2 neighbor.\n"
     ]
    },
    {
     "name": "stdout",
     "output_type": "stream",
     "text": [
      "Setting up GOLD environment...\n",
      "GOLD Version 2021.2.0\n",
      "Running:\n",
      " \n",
      "     \"/home/benoit/CCDC/Discovery_2021/GOLD/gold/d_linux_64/bin/gold_linux_64\" \"/home/benoit/bioactive_conformation_predictor/gold_docking_postprocessing/533/api_gold.conf\"\n",
      "\n"
     ]
    },
    {
     "name": "stderr",
     "output_type": "stream",
     "text": [
      "RDKit WARNING: [17:03:43] unknown|460|mol2|1|dock78: warning - O.co2 with non C.2 or S.o2 neighbor.\n",
      "RDKit WARNING: [17:03:43] unknown|460|mol2|1|dock45: warning - O.co2 with non C.2 or S.o2 neighbor.\n"
     ]
    },
    {
     "name": "stdout",
     "output_type": "stream",
     "text": [
      "Starting GOLD with conf file /home/benoit/bioactive_conformation_predictor/gold_docking_postprocessing/461/api_gold.conf\n"
     ]
    },
    {
     "name": "stderr",
     "output_type": "stream",
     "text": [
      "[17:03:43] unknown|460|mol2|1|dock78: warning - O.co2 with non C.2 or S.o2 neighbor.\n",
      "[17:03:43] unknown|460|mol2|1|dock45: warning - O.co2 with non C.2 or S.o2 neighbor.\n"
     ]
    },
    {
     "name": "stdout",
     "output_type": "stream",
     "text": [
      "Setting up GOLD environment...\n",
      "GOLD Version 2021.2.0\n",
      "Running:\n",
      " \n",
      "     \"/home/benoit/CCDC/Discovery_2021/GOLD/gold/d_linux_64/bin/gold_linux_64\" \"/home/benoit/bioactive_conformation_predictor/gold_docking_postprocessing/461/api_gold.conf\"\n",
      "\n",
      "Starting GOLD with conf file /home/benoit/bioactive_conformation_predictor/gold_docking_postprocessing/369/api_gold.conf\n",
      "Setting up GOLD environment...\n",
      "GOLD Version 2021.2.0\n",
      "Running:\n",
      " \n",
      "     \"/home/benoit/CCDC/Discovery_2021/GOLD/gold/d_linux_64/bin/gold_linux_64\" \"/home/benoit/bioactive_conformation_predictor/gold_docking_postprocessing/369/api_gold.conf\"\n",
      "\n",
      "0\n",
      "0\n"
     ]
    },
    {
     "name": "stderr",
     "output_type": "stream",
     "text": [
      "RDKit WARNING: [17:03:48] unknown|436|mol2|1|dock95: warning - O.co2 with non C.2 or S.o2 neighbor.\n",
      "RDKit WARNING: [17:03:48] unknown|436|mol2|1|dock31: warning - O.co2 with non C.2 or S.o2 neighbor.\n",
      "[17:03:48] unknown|436|mol2|1|dock95: warning - O.co2 with non C.2 or S.o2 neighbor.\n",
      "[17:03:48] unknown|436|mol2|1|dock31: warning - O.co2 with non C.2 or S.o2 neighbor.\n",
      "RDKit WARNING: [17:03:48] unknown|436|mol2|1|dock22: warning - O.co2 with non C.2 or S.o2 neighbor.\n",
      "RDKit WARNING: [17:03:48] unknown|436|mol2|1|dock22: warning - O.co2 with non C.2 or S.o2 neighbor.\n"
     ]
    },
    {
     "name": "stdout",
     "output_type": "stream",
     "text": [
      "Starting GOLD with conf file /home/benoit/bioactive_conformation_predictor/gold_docking_postprocessing/508/api_gold.conf\n"
     ]
    },
    {
     "name": "stderr",
     "output_type": "stream",
     "text": [
      "[17:03:48] unknown|436|mol2|1|dock22: warning - O.co2 with non C.2 or S.o2 neighbor.\n",
      "[17:03:48] unknown|436|mol2|1|dock22: warning - O.co2 with non C.2 or S.o2 neighbor.\n"
     ]
    },
    {
     "name": "stdout",
     "output_type": "stream",
     "text": [
      "Setting up GOLD environment...\n",
      "GOLD Version 2021.2.0\n",
      "Running:\n",
      " \n",
      "     \"/home/benoit/CCDC/Discovery_2021/GOLD/gold/d_linux_64/bin/gold_linux_64\" \"/home/benoit/bioactive_conformation_predictor/gold_docking_postprocessing/508/api_gold.conf\"\n",
      "\n"
     ]
    },
    {
     "name": "stderr",
     "output_type": "stream",
     "text": [
      "RDKit WARNING: [17:03:48] unknown|436|mol2|1|dock95: warning - O.co2 with non C.2 or S.o2 neighbor.\n",
      "RDKit WARNING: [17:03:48] unknown|436|mol2|1|dock45: warning - O.co2 with non C.2 or S.o2 neighbor.\n"
     ]
    },
    {
     "name": "stdout",
     "output_type": "stream",
     "text": [
      "Starting GOLD with conf file /home/benoit/bioactive_conformation_predictor/gold_docking_postprocessing/437/api_gold.conf\n"
     ]
    },
    {
     "name": "stderr",
     "output_type": "stream",
     "text": [
      "[17:03:48] unknown|436|mol2|1|dock95: warning - O.co2 with non C.2 or S.o2 neighbor.\n",
      "[17:03:48] unknown|436|mol2|1|dock45: warning - O.co2 with non C.2 or S.o2 neighbor.\n"
     ]
    },
    {
     "name": "stdout",
     "output_type": "stream",
     "text": [
      "Setting up GOLD environment...\n",
      "GOLD Version 2021.2.0\n",
      "Running:\n",
      " \n",
      "     \"/home/benoit/CCDC/Discovery_2021/GOLD/gold/d_linux_64/bin/gold_linux_64\" \"/home/benoit/bioactive_conformation_predictor/gold_docking_postprocessing/437/api_gold.conf\"\n",
      "\n",
      "0\n",
      "0\n",
      "Starting GOLD with conf file /home/benoit/bioactive_conformation_predictor/gold_docking_postprocessing/297/api_gold.conf\n",
      "Setting up GOLD environment...\n",
      "GOLD Version 2021.2.0\n",
      "Running:\n",
      " \n",
      "     \"/home/benoit/CCDC/Discovery_2021/GOLD/gold/d_linux_64/bin/gold_linux_64\" \"/home/benoit/bioactive_conformation_predictor/gold_docking_postprocessing/297/api_gold.conf\"\n",
      "\n",
      "Starting GOLD with conf file /home/benoit/bioactive_conformation_predictor/gold_docking_postprocessing/462/api_gold.conf\n",
      "Setting up GOLD environment...\n",
      "GOLD Version 2021.2.0\n",
      "Running:\n",
      " \n",
      "     \"/home/benoit/CCDC/Discovery_2021/GOLD/gold/d_linux_64/bin/gold_linux_64\" \"/home/benoit/bioactive_conformation_predictor/gold_docking_postprocessing/462/api_gold.conf\"\n",
      "\n",
      "0\n",
      "0\n",
      "0\n",
      "0\n",
      "0\n",
      "0\n",
      "Error with smiles O=S(=O)(NCB(O)O)c1ccc(-c2nnn[nH]2)cc1\n",
      "'NoneType' object has no attribute 'CalcEnergy'\n",
      "Starting GOLD with conf file /home/benoit/bioactive_conformation_predictor/gold_docking_postprocessing/509/api_gold.conf\n",
      "Setting up GOLD environment...\n",
      "GOLD Version 2021.2.0\n",
      "Running:\n",
      " \n",
      "     \"/home/benoit/CCDC/Discovery_2021/GOLD/gold/d_linux_64/bin/gold_linux_64\" \"/home/benoit/bioactive_conformation_predictor/gold_docking_postprocessing/509/api_gold.conf\"\n",
      "\n",
      "0\n",
      "Starting GOLD with conf file /home/benoit/bioactive_conformation_predictor/gold_docking_postprocessing/298/api_gold.conf\n",
      "Setting up GOLD environment...\n",
      "GOLD Version 2021.2.0\n",
      "Running:\n",
      " \n",
      "     \"/home/benoit/CCDC/Discovery_2021/GOLD/gold/d_linux_64/bin/gold_linux_64\" \"/home/benoit/bioactive_conformation_predictor/gold_docking_postprocessing/298/api_gold.conf\"\n",
      "\n",
      "Starting GOLD with conf file /home/benoit/bioactive_conformation_predictor/gold_docking_postprocessing/320/api_gold.conf\n",
      "Setting up GOLD environment...\n",
      "GOLD Version 2021.2.0\n",
      "Running:\n",
      " \n",
      "     \"/home/benoit/CCDC/Discovery_2021/GOLD/gold/d_linux_64/bin/gold_linux_64\" \"/home/benoit/bioactive_conformation_predictor/gold_docking_postprocessing/320/api_gold.conf\"\n",
      "\n",
      "Starting GOLD with conf file /home/benoit/bioactive_conformation_predictor/gold_docking_postprocessing/392/api_gold.conf\n",
      "Starting GOLD with conf file /home/benoit/bioactive_conformation_predictor/gold_docking_postprocessing/412/api_gold.conf\n",
      "Setting up GOLD environment...\n",
      "GOLD Version 2021.2.0\n",
      "Running:\n",
      " \n",
      "     \"/home/benoit/CCDC/Discovery_2021/GOLD/gold/d_linux_64/bin/gold_linux_64\" \"/home/benoit/bioactive_conformation_predictor/gold_docking_postprocessing/392/api_gold.conf\"\n",
      "\n",
      "Setting up GOLD environment...\n",
      "GOLD Version 2021.2.0\n",
      "Running:\n",
      " \n",
      "     \"/home/benoit/CCDC/Discovery_2021/GOLD/gold/d_linux_64/bin/gold_linux_64\" \"/home/benoit/bioactive_conformation_predictor/gold_docking_postprocessing/412/api_gold.conf\"\n",
      "\n",
      "Starting GOLD with conf file /home/benoit/bioactive_conformation_predictor/gold_docking_postprocessing/345/api_gold.conf\n",
      "0\n",
      "Setting up GOLD environment...\n",
      "GOLD Version 2021.2.0\n",
      "Running:\n",
      " \n",
      "     \"/home/benoit/CCDC/Discovery_2021/GOLD/gold/d_linux_64/bin/gold_linux_64\" \"/home/benoit/bioactive_conformation_predictor/gold_docking_postprocessing/345/api_gold.conf\"\n",
      "\n",
      "Starting GOLD with conf file /home/benoit/bioactive_conformation_predictor/gold_docking_postprocessing/484/api_gold.conf\n",
      "Setting up GOLD environment...\n",
      "GOLD Version 2021.2.0\n",
      "Running:\n",
      " \n",
      "     \"/home/benoit/CCDC/Discovery_2021/GOLD/gold/d_linux_64/bin/gold_linux_64\" \"/home/benoit/bioactive_conformation_predictor/gold_docking_postprocessing/484/api_gold.conf\"\n",
      "\n"
     ]
    },
    {
     "name": "stderr",
     "output_type": "stream",
     "text": [
      "RDKit WARNING: [17:04:11] unknown|369|mol2|1|dock98: warning - O.co2 with non C.2 or S.o2 neighbor.\n",
      "RDKit WARNING: [17:04:11] unknown|369|mol2|1|dock98: warning - O.co2 with non C.2 or S.o2 neighbor.\n",
      "[17:04:11] unknown|369|mol2|1|dock98: warning - O.co2 with non C.2 or S.o2 neighbor.\n",
      "[17:04:11] unknown|369|mol2|1|dock98: warning - O.co2 with non C.2 or S.o2 neighbor.\n",
      "RDKit WARNING: [17:04:12] unknown|369|mol2|1|dock40: warning - O.co2 with non C.2 or S.o2 neighbor.\n",
      "RDKit WARNING: [17:04:12] unknown|369|mol2|1|dock27: warning - O.co2 with non C.2 or S.o2 neighbor.\n",
      "[17:04:12] unknown|369|mol2|1|dock40: warning - O.co2 with non C.2 or S.o2 neighbor.\n",
      "[17:04:12] unknown|369|mol2|1|dock27: warning - O.co2 with non C.2 or S.o2 neighbor.\n",
      "RDKit WARNING: [17:04:12] unknown|369|mol2|1|dock98: warning - O.co2 with non C.2 or S.o2 neighbor.\n",
      "RDKit WARNING: [17:04:12] unknown|369|mol2|1|dock98: warning - O.co2 with non C.2 or S.o2 neighbor.\n"
     ]
    },
    {
     "name": "stdout",
     "output_type": "stream",
     "text": [
      "0\n",
      "Starting GOLD with conf file /home/benoit/bioactive_conformation_predictor/gold_docking_postprocessing/370/api_gold.conf\n"
     ]
    },
    {
     "name": "stderr",
     "output_type": "stream",
     "text": [
      "[17:04:12] unknown|369|mol2|1|dock98: warning - O.co2 with non C.2 or S.o2 neighbor.\n",
      "[17:04:12] unknown|369|mol2|1|dock98: warning - O.co2 with non C.2 or S.o2 neighbor.\n"
     ]
    },
    {
     "name": "stdout",
     "output_type": "stream",
     "text": [
      "Setting up GOLD environment...\n",
      "GOLD Version 2021.2.0\n",
      "Running:\n",
      " \n",
      "     \"/home/benoit/CCDC/Discovery_2021/GOLD/gold/d_linux_64/bin/gold_linux_64\" \"/home/benoit/bioactive_conformation_predictor/gold_docking_postprocessing/370/api_gold.conf\"\n",
      "\n",
      "Starting GOLD with conf file /home/benoit/bioactive_conformation_predictor/gold_docking_postprocessing/438/api_gold.conf\n",
      "Setting up GOLD environment...\n",
      "GOLD Version 2021.2.0\n",
      "Running:\n",
      " \n",
      "     \"/home/benoit/CCDC/Discovery_2021/GOLD/gold/d_linux_64/bin/gold_linux_64\" \"/home/benoit/bioactive_conformation_predictor/gold_docking_postprocessing/438/api_gold.conf\"\n",
      "\n",
      "0\n",
      "0\n",
      "0\n",
      "0\n"
     ]
    },
    {
     "name": "stderr",
     "output_type": "stream",
     "text": [
      "RDKit WARNING: [17:01:59] sanitise [17:01:59] unknown|314|mol2|1|dock47: [17:01:59] sanitise [17:01:59] unknown|314|mol2|1|dock63: [17:01:59] sanitise [17:01:59] unknown|314|mol2|1|dock12: [17:01:59] sanitise [17:01:59] unknown|314|mol2|1|dock44: [17:01:59] sanitise [17:01:59] unknown|314|mol2|1|dock13: [17:01:59] sanitise [17:01:59] unknown|314|mol2|1|dock71: [17:04:21] unknown|320|mol2|1|dock63: warning - O.co2 with non C.2 or S.o2 neighbor.\n",
      "RDKit WARNING: [17:04:21] unknown|320|mol2|1|dock30: warning - O.co2 with non C.2 or S.o2 neighbor.\n",
      "[17:01:59] sanitise [17:01:59] unknown|314|mol2|1|dock47: [17:01:59] sanitise [17:01:59] unknown|314|mol2|1|dock63: [17:01:59] sanitise [17:01:59] unknown|314|mol2|1|dock12: [17:01:59] sanitise [17:01:59] unknown|314|mol2|1|dock44: [17:01:59] sanitise [17:01:59] unknown|314|mol2|1|dock13: [17:01:59] sanitise [17:01:59] unknown|314|mol2|1|dock71: [17:04:21] unknown|320|mol2|1|dock63: warning - O.co2 with non C.2 or S.o2 neighbor.\n",
      "[17:04:21] unknown|320|mol2|1|dock30: warning - O.co2 with non C.2 or S.o2 neighbor.\n",
      "RDKit WARNING: [17:04:21] unknown|320|mol2|1|dock63: warning - O.co2 with non C.2 or S.o2 neighbor.\n",
      "RDKit WARNING: [17:04:21] unknown|320|mol2|1|dock43: warning - O.co2 with non C.2 or S.o2 neighbor.\n",
      "[17:04:21] unknown|320|mol2|1|dock63: warning - O.co2 with non C.2 or S.o2 neighbor.\n",
      "[17:04:21] unknown|320|mol2|1|dock43: warning - O.co2 with non C.2 or S.o2 neighbor.\n",
      "RDKit WARNING: [17:04:22] unknown|320|mol2|1|dock63: warning - O.co2 with non C.2 or S.o2 neighbor.\n",
      "RDKit WARNING: [17:04:22] unknown|320|mol2|1|dock43: warning - O.co2 with non C.2 or S.o2 neighbor.\n"
     ]
    },
    {
     "name": "stdout",
     "output_type": "stream",
     "text": [
      "Starting GOLD with conf file /home/benoit/bioactive_conformation_predictor/gold_docking_postprocessing/321/api_gold.conf\n"
     ]
    },
    {
     "name": "stderr",
     "output_type": "stream",
     "text": [
      "[17:04:22] unknown|320|mol2|1|dock63: warning - O.co2 with non C.2 or S.o2 neighbor.\n",
      "[17:04:22] unknown|320|mol2|1|dock43: warning - O.co2 with non C.2 or S.o2 neighbor.\n"
     ]
    },
    {
     "name": "stdout",
     "output_type": "stream",
     "text": [
      "Setting up GOLD environment...\n",
      "GOLD Version 2021.2.0\n",
      "Running:\n",
      " \n",
      "     \"/home/benoit/CCDC/Discovery_2021/GOLD/gold/d_linux_64/bin/gold_linux_64\" \"/home/benoit/bioactive_conformation_predictor/gold_docking_postprocessing/321/api_gold.conf\"\n",
      "\n",
      "Starting GOLD with conf file /home/benoit/bioactive_conformation_predictor/gold_docking_postprocessing/439/api_gold.conf\n",
      "Setting up GOLD environment...\n",
      "GOLD Version 2021.2.0\n",
      "Running:\n",
      " \n",
      "     \"/home/benoit/CCDC/Discovery_2021/GOLD/gold/d_linux_64/bin/gold_linux_64\" \"/home/benoit/bioactive_conformation_predictor/gold_docking_postprocessing/439/api_gold.conf\"\n",
      "\n",
      "Starting GOLD with conf file /home/benoit/bioactive_conformation_predictor/gold_docking_postprocessing/510/api_gold.conf\n",
      "Starting GOLD with conf file /home/benoit/bioactive_conformation_predictor/gold_docking_postprocessing/534/api_gold.conf\n",
      "0\n",
      "Setting up GOLD environment...\n",
      "GOLD Version 2021.2.0\n",
      "Running:\n",
      " \n",
      "     \"/home/benoit/CCDC/Discovery_2021/GOLD/gold/d_linux_64/bin/gold_linux_64\" \"/home/benoit/bioactive_conformation_predictor/gold_docking_postprocessing/510/api_gold.conf\"\n",
      "\n",
      "Setting up GOLD environment...\n",
      "GOLD Version 2021.2.0\n",
      "Running:\n",
      " \n",
      "     \"/home/benoit/CCDC/Discovery_2021/GOLD/gold/d_linux_64/bin/gold_linux_64\" \"/home/benoit/bioactive_conformation_predictor/gold_docking_postprocessing/534/api_gold.conf\"\n",
      "\n",
      "0\n",
      "Starting GOLD with conf file /home/benoit/bioactive_conformation_predictor/gold_docking_postprocessing/393/api_gold.conf\n",
      "Setting up GOLD environment...\n",
      "GOLD Version 2021.2.0\n",
      "Running:\n",
      " \n",
      "     \"/home/benoit/CCDC/Discovery_2021/GOLD/gold/d_linux_64/bin/gold_linux_64\" \"/home/benoit/bioactive_conformation_predictor/gold_docking_postprocessing/393/api_gold.conf\"\n",
      "\n",
      "0\n",
      "Starting GOLD with conf file /home/benoit/bioactive_conformation_predictor/gold_docking_postprocessing/371/api_gold.conf\n",
      "Setting up GOLD environment...\n",
      "GOLD Version 2021.2.0\n",
      "Running:\n",
      " \n",
      "     \"/home/benoit/CCDC/Discovery_2021/GOLD/gold/d_linux_64/bin/gold_linux_64\" \"/home/benoit/bioactive_conformation_predictor/gold_docking_postprocessing/371/api_gold.conf\"\n",
      "\n",
      "0\n",
      "Starting GOLD with conf file /home/benoit/bioactive_conformation_predictor/gold_docking_postprocessing/463/api_gold.conf\n",
      "Setting up GOLD environment...\n",
      "GOLD Version 2021.2.0\n",
      "Running:\n",
      " \n",
      "     \"/home/benoit/CCDC/Discovery_2021/GOLD/gold/d_linux_64/bin/gold_linux_64\" \"/home/benoit/bioactive_conformation_predictor/gold_docking_postprocessing/463/api_gold.conf\"\n",
      "\n",
      "0\n",
      "Starting GOLD with conf file /home/benoit/bioactive_conformation_predictor/gold_docking_postprocessing/413/api_gold.conf\n",
      "Setting up GOLD environment...\n",
      "GOLD Version 2021.2.0\n",
      "Running:\n",
      " \n",
      "     \"/home/benoit/CCDC/Discovery_2021/GOLD/gold/d_linux_64/bin/gold_linux_64\" \"/home/benoit/bioactive_conformation_predictor/gold_docking_postprocessing/413/api_gold.conf\"\n",
      "\n",
      "0\n"
     ]
    },
    {
     "name": "stderr",
     "output_type": "stream",
     "text": [
      "RDKit WARNING: [17:04:37] unknown|298|mol2|1|dock3: warning - O.co2 with non C.2 or S.o2 neighbor.\n",
      "RDKit WARNING: [17:04:37] unknown|298|mol2|1|dock79: warning - O.co2 with non C.2 or S.o2 neighbor.\n",
      "[17:04:37] unknown|298|mol2|1|dock3: warning - O.co2 with non C.2 or S.o2 neighbor.\n",
      "[17:04:37] unknown|298|mol2|1|dock79: warning - O.co2 with non C.2 or S.o2 neighbor.\n",
      "RDKit WARNING: [17:04:37] unknown|298|mol2|1|dock3: warning - O.co2 with non C.2 or S.o2 neighbor.\n",
      "RDKit WARNING: [17:04:37] unknown|298|mol2|1|dock79: warning - O.co2 with non C.2 or S.o2 neighbor.\n",
      "[17:04:37] unknown|298|mol2|1|dock3: warning - O.co2 with non C.2 or S.o2 neighbor.\n",
      "[17:04:37] unknown|298|mol2|1|dock79: warning - O.co2 with non C.2 or S.o2 neighbor.\n",
      "RDKit WARNING: [17:04:38] unknown|298|mol2|1|dock3: warning - O.co2 with non C.2 or S.o2 neighbor.\n",
      "RDKit WARNING: [17:04:38] unknown|298|mol2|1|dock100: warning - O.co2 with non C.2 or S.o2 neighbor.\n"
     ]
    },
    {
     "name": "stdout",
     "output_type": "stream",
     "text": [
      "Starting GOLD with conf file /home/benoit/bioactive_conformation_predictor/gold_docking_postprocessing/299/api_gold.conf\n"
     ]
    },
    {
     "name": "stderr",
     "output_type": "stream",
     "text": [
      "[17:04:38] unknown|298|mol2|1|dock3: warning - O.co2 with non C.2 or S.o2 neighbor.\n",
      "[17:04:38] unknown|298|mol2|1|dock100: warning - O.co2 with non C.2 or S.o2 neighbor.\n"
     ]
    },
    {
     "name": "stdout",
     "output_type": "stream",
     "text": [
      "0\n",
      "Setting up GOLD environment...\n",
      "GOLD Version 2021.2.0\n",
      "Running:\n",
      " \n",
      "     \"/home/benoit/CCDC/Discovery_2021/GOLD/gold/d_linux_64/bin/gold_linux_64\" \"/home/benoit/bioactive_conformation_predictor/gold_docking_postprocessing/299/api_gold.conf\"\n",
      "\n",
      "0\n",
      "0\n",
      "0\n",
      "Starting GOLD with conf file /home/benoit/bioactive_conformation_predictor/gold_docking_postprocessing/372/api_gold.conf\n",
      "Setting up GOLD environment...\n",
      "GOLD Version 2021.2.0\n",
      "Running:\n",
      " \n",
      "     \"/home/benoit/CCDC/Discovery_2021/GOLD/gold/d_linux_64/bin/gold_linux_64\" \"/home/benoit/bioactive_conformation_predictor/gold_docking_postprocessing/372/api_gold.conf\"\n",
      "\n",
      "Starting GOLD with conf file /home/benoit/bioactive_conformation_predictor/gold_docking_postprocessing/346/api_gold.conf\n",
      "Starting GOLD with conf file /home/benoit/bioactive_conformation_predictor/gold_docking_postprocessing/511/api_gold.conf\n",
      "0\n",
      "Setting up GOLD environment...\n",
      "GOLD Version 2021.2.0\n",
      "Running:\n",
      " \n",
      "     \"/home/benoit/CCDC/Discovery_2021/GOLD/gold/d_linux_64/bin/gold_linux_64\" \"/home/benoit/bioactive_conformation_predictor/gold_docking_postprocessing/346/api_gold.conf\"\n",
      "\n",
      "Setting up GOLD environment...\n",
      "GOLD Version 2021.2.0\n",
      "Running:\n",
      " \n",
      "     \"/home/benoit/CCDC/Discovery_2021/GOLD/gold/d_linux_64/bin/gold_linux_64\" \"/home/benoit/bioactive_conformation_predictor/gold_docking_postprocessing/511/api_gold.conf\"\n",
      "\n",
      "Starting GOLD with conf file /home/benoit/bioactive_conformation_predictor/gold_docking_postprocessing/440/api_gold.conf\n",
      "0\n",
      "Setting up GOLD environment...\n",
      "GOLD Version 2021.2.0\n",
      "Running:\n",
      " \n",
      "     \"/home/benoit/CCDC/Discovery_2021/GOLD/gold/d_linux_64/bin/gold_linux_64\" \"/home/benoit/bioactive_conformation_predictor/gold_docking_postprocessing/440/api_gold.conf\"\n",
      "\n"
     ]
    },
    {
     "name": "stderr",
     "output_type": "stream",
     "text": [
      "RDKit WARNING: [17:04:45] unknown|321|mol2|1|dock46: warning - O.co2 with non C.2 or S.o2 neighbor.\n",
      "RDKit WARNING: [17:04:45] unknown|321|mol2|1|dock46: warning - O.co2 with non C.2 or S.o2 neighbor.\n",
      "[17:04:45] unknown|321|mol2|1|dock46: warning - O.co2 with non C.2 or S.o2 neighbor.\n",
      "[17:04:45] unknown|321|mol2|1|dock46: warning - O.co2 with non C.2 or S.o2 neighbor.\n"
     ]
    },
    {
     "name": "stdout",
     "output_type": "stream",
     "text": [
      "Starting GOLD with conf file /home/benoit/bioactive_conformation_predictor/gold_docking_postprocessing/485/api_gold.conf\n"
     ]
    },
    {
     "name": "stderr",
     "output_type": "stream",
     "text": [
      "RDKit WARNING: [17:04:46] unknown|321|mol2|1|dock64: warning - O.co2 with non C.2 or S.o2 neighbor.\n",
      "RDKit WARNING: [17:04:46] unknown|321|mol2|1|dock22: warning - O.co2 with non C.2 or S.o2 neighbor.\n"
     ]
    },
    {
     "name": "stdout",
     "output_type": "stream",
     "text": [
      "Setting up GOLD environment...\n",
      "GOLD Version 2021.2.0\n",
      "Running:\n",
      " \n",
      "     \"/home/benoit/CCDC/Discovery_2021/GOLD/gold/d_linux_64/bin/gold_linux_64\" \"/home/benoit/bioactive_conformation_predictor/gold_docking_postprocessing/485/api_gold.conf\"\n",
      "\n"
     ]
    },
    {
     "name": "stderr",
     "output_type": "stream",
     "text": [
      "[17:04:46] unknown|321|mol2|1|dock64: warning - O.co2 with non C.2 or S.o2 neighbor.\n",
      "[17:04:46] unknown|321|mol2|1|dock22: warning - O.co2 with non C.2 or S.o2 neighbor.\n"
     ]
    },
    {
     "name": "stdout",
     "output_type": "stream",
     "text": [
      "Starting GOLD with conf file /home/benoit/bioactive_conformation_predictor/gold_docking_postprocessing/464/api_gold.conf\n"
     ]
    },
    {
     "name": "stderr",
     "output_type": "stream",
     "text": [
      "RDKit WARNING: [17:04:46] unknown|321|mol2|1|dock75: warning - O.co2 with non C.2 or S.o2 neighbor.\n",
      "RDKit WARNING: [17:04:46] unknown|321|mol2|1|dock75: warning - O.co2 with non C.2 or S.o2 neighbor.\n"
     ]
    },
    {
     "name": "stdout",
     "output_type": "stream",
     "text": [
      "Setting up GOLD environment...\n",
      "GOLD Version 2021.2.0\n",
      "Running:\n",
      " \n",
      "     \"/home/benoit/CCDC/Discovery_2021/GOLD/gold/d_linux_64/bin/gold_linux_64\" \"/home/benoit/bioactive_conformation_predictor/gold_docking_postprocessing/464/api_gold.conf\"\n",
      "\n",
      "Starting GOLD with conf file /home/benoit/bioactive_conformation_predictor/gold_docking_postprocessing/322/api_gold.conf\n"
     ]
    },
    {
     "name": "stderr",
     "output_type": "stream",
     "text": [
      "[17:04:46] unknown|321|mol2|1|dock75: warning - O.co2 with non C.2 or S.o2 neighbor.\n",
      "[17:04:46] unknown|321|mol2|1|dock75: warning - O.co2 with non C.2 or S.o2 neighbor.\n"
     ]
    },
    {
     "name": "stdout",
     "output_type": "stream",
     "text": [
      "0\n",
      "Setting up GOLD environment...\n",
      "GOLD Version 2021.2.0\n",
      "Running:\n",
      " \n",
      "     \"/home/benoit/CCDC/Discovery_2021/GOLD/gold/d_linux_64/bin/gold_linux_64\" \"/home/benoit/bioactive_conformation_predictor/gold_docking_postprocessing/322/api_gold.conf\"\n",
      "\n",
      "Starting GOLD with conf file /home/benoit/bioactive_conformation_predictor/gold_docking_postprocessing/300/api_gold.conf\n",
      "Setting up GOLD environment...\n",
      "GOLD Version 2021.2.0\n",
      "Running:\n",
      " \n",
      "     \"/home/benoit/CCDC/Discovery_2021/GOLD/gold/d_linux_64/bin/gold_linux_64\" \"/home/benoit/bioactive_conformation_predictor/gold_docking_postprocessing/300/api_gold.conf\"\n",
      "\n",
      "0\n",
      "0\n"
     ]
    },
    {
     "name": "stderr",
     "output_type": "stream",
     "text": [
      "RDKit WARNING: [17:01:25] sanitise [17:01:25] unknown|44|mol2|1|dock14: [17:01:25] sanitise [17:01:25] unknown|44|mol2|1|dock61: [17:01:26] sanitise [17:01:26] unknown|44|mol2|1|dock60: [17:01:26] sanitise [17:01:26] unknown|44|mol2|1|dock75: [17:01:26] sanitise [17:01:26] unknown|44|mol2|1|dock92: [17:01:26] sanitise [17:01:26] unknown|44|mol2|1|dock70: [17:04:51] unknown|413|mol2|1|dock89: warning - O.co2 with non C.2 or S.o2 neighbor.\n",
      "RDKit WARNING: [17:04:51] unknown|413|mol2|1|dock14: warning - O.co2 with non C.2 or S.o2 neighbor.\n",
      "[17:01:25] sanitise [17:01:25] unknown|44|mol2|1|dock14: [17:01:25] sanitise [17:01:25] unknown|44|mol2|1|dock61: [17:01:26] sanitise [17:01:26] unknown|44|mol2|1|dock60: [17:01:26] sanitise [17:01:26] unknown|44|mol2|1|dock75: [17:01:26] sanitise [17:01:26] unknown|44|mol2|1|dock92: [17:01:26] sanitise [17:01:26] unknown|44|mol2|1|dock70: [17:04:51] unknown|413|mol2|1|dock89: warning - O.co2 with non C.2 or S.o2 neighbor.\n",
      "[17:04:51] unknown|413|mol2|1|dock14: warning - O.co2 with non C.2 or S.o2 neighbor.\n",
      "RDKit WARNING: [17:04:51] unknown|413|mol2|1|dock14: warning - O.co2 with non C.2 or S.o2 neighbor.\n",
      "RDKit WARNING: [17:04:51] unknown|413|mol2|1|dock14: warning - O.co2 with non C.2 or S.o2 neighbor.\n"
     ]
    },
    {
     "name": "stdout",
     "output_type": "stream",
     "text": [
      "Starting GOLD with conf file /home/benoit/bioactive_conformation_predictor/gold_docking_postprocessing/373/api_gold.conf\n"
     ]
    },
    {
     "name": "stderr",
     "output_type": "stream",
     "text": [
      "[17:04:51] unknown|413|mol2|1|dock14: warning - O.co2 with non C.2 or S.o2 neighbor.\n",
      "[17:04:51] unknown|413|mol2|1|dock14: warning - O.co2 with non C.2 or S.o2 neighbor.\n"
     ]
    },
    {
     "name": "stdout",
     "output_type": "stream",
     "text": [
      "0\n"
     ]
    },
    {
     "name": "stderr",
     "output_type": "stream",
     "text": [
      "RDKit WARNING: [17:04:51] unknown|413|mol2|1|dock94: warning - O.co2 with non C.2 or S.o2 neighbor.\n",
      "RDKit WARNING: [17:04:51] unknown|413|mol2|1|dock94: warning - O.co2 with non C.2 or S.o2 neighbor.\n"
     ]
    },
    {
     "name": "stdout",
     "output_type": "stream",
     "text": [
      "Setting up GOLD environment...\n",
      "GOLD Version 2021.2.0\n",
      "Running:\n",
      " \n",
      "     \"/home/benoit/CCDC/Discovery_2021/GOLD/gold/d_linux_64/bin/gold_linux_64\" \"/home/benoit/bioactive_conformation_predictor/gold_docking_postprocessing/373/api_gold.conf\"\n",
      "\n",
      "Starting GOLD with conf file /home/benoit/bioactive_conformation_predictor/gold_docking_postprocessing/414/api_gold.conf\n"
     ]
    },
    {
     "name": "stderr",
     "output_type": "stream",
     "text": [
      "[17:04:51] unknown|413|mol2|1|dock94: warning - O.co2 with non C.2 or S.o2 neighbor.\n",
      "[17:04:51] unknown|413|mol2|1|dock94: warning - O.co2 with non C.2 or S.o2 neighbor.\n"
     ]
    },
    {
     "name": "stdout",
     "output_type": "stream",
     "text": [
      "Setting up GOLD environment...\n",
      "GOLD Version 2021.2.0\n",
      "Running:\n",
      " \n",
      "     \"/home/benoit/CCDC/Discovery_2021/GOLD/gold/d_linux_64/bin/gold_linux_64\" \"/home/benoit/bioactive_conformation_predictor/gold_docking_postprocessing/414/api_gold.conf\"\n",
      "\n",
      "Starting GOLD with conf file /home/benoit/bioactive_conformation_predictor/gold_docking_postprocessing/323/api_gold.conf\n",
      "Setting up GOLD environment...\n",
      "GOLD Version 2021.2.0\n",
      "Running:\n",
      " \n",
      "     \"/home/benoit/CCDC/Discovery_2021/GOLD/gold/d_linux_64/bin/gold_linux_64\" \"/home/benoit/bioactive_conformation_predictor/gold_docking_postprocessing/323/api_gold.conf\"\n",
      "\n",
      "0\n",
      "0\n",
      "Starting GOLD with conf file /home/benoit/bioactive_conformation_predictor/gold_docking_postprocessing/486/api_gold.conf\n",
      "Setting up GOLD environment...\n",
      "GOLD Version 2021.2.0\n",
      "Running:\n",
      " \n",
      "     \"/home/benoit/CCDC/Discovery_2021/GOLD/gold/d_linux_64/bin/gold_linux_64\" \"/home/benoit/bioactive_conformation_predictor/gold_docking_postprocessing/486/api_gold.conf\"\n",
      "\n",
      "0\n",
      "Starting GOLD with conf file /home/benoit/bioactive_conformation_predictor/gold_docking_postprocessing/512/api_gold.conf\n",
      "Setting up GOLD environment...\n",
      "GOLD Version 2021.2.0\n",
      "Running:\n",
      " \n",
      "     \"/home/benoit/CCDC/Discovery_2021/GOLD/gold/d_linux_64/bin/gold_linux_64\" \"/home/benoit/bioactive_conformation_predictor/gold_docking_postprocessing/512/api_gold.conf\"\n",
      "\n",
      "Starting GOLD with conf file /home/benoit/bioactive_conformation_predictor/gold_docking_postprocessing/441/api_gold.conf\n",
      "Setting up GOLD environment...\n",
      "GOLD Version 2021.2.0\n",
      "Running:\n",
      " \n",
      "     \"/home/benoit/CCDC/Discovery_2021/GOLD/gold/d_linux_64/bin/gold_linux_64\" \"/home/benoit/bioactive_conformation_predictor/gold_docking_postprocessing/441/api_gold.conf\"\n",
      "\n",
      "0\n",
      "0\n",
      "0\n",
      "0\n",
      "Starting GOLD with conf file /home/benoit/bioactive_conformation_predictor/gold_docking_postprocessing/535/api_gold.conf\n",
      "Setting up GOLD environment...\n",
      "GOLD Version 2021.2.0\n",
      "Running:\n",
      " \n",
      "     \"/home/benoit/CCDC/Discovery_2021/GOLD/gold/d_linux_64/bin/gold_linux_64\" \"/home/benoit/bioactive_conformation_predictor/gold_docking_postprocessing/535/api_gold.conf\"\n",
      "\n",
      "0\n",
      "0\n",
      "Starting GOLD with conf file /home/benoit/bioactive_conformation_predictor/gold_docking_postprocessing/301/api_gold.conf\n",
      "Setting up GOLD environment...\n",
      "GOLD Version 2021.2.0\n",
      "Running:\n",
      " \n",
      "     \"/home/benoit/CCDC/Discovery_2021/GOLD/gold/d_linux_64/bin/gold_linux_64\" \"/home/benoit/bioactive_conformation_predictor/gold_docking_postprocessing/301/api_gold.conf\"\n",
      "\n",
      "Starting GOLD with conf file /home/benoit/bioactive_conformation_predictor/gold_docking_postprocessing/415/api_gold.conf\n",
      "Starting GOLD with conf file /home/benoit/bioactive_conformation_predictor/gold_docking_postprocessing/324/api_gold.conf\n",
      "Setting up GOLD environment...\n",
      "GOLD Version 2021.2.0\n",
      "Running:\n",
      " \n",
      "     \"/home/benoit/CCDC/Discovery_2021/GOLD/gold/d_linux_64/bin/gold_linux_64\" \"/home/benoit/bioactive_conformation_predictor/gold_docking_postprocessing/415/api_gold.conf\"\n",
      "\n",
      "Setting up GOLD environment...\n",
      "GOLD Version 2021.2.0\n",
      "Running:\n",
      " \n",
      "     \"/home/benoit/CCDC/Discovery_2021/GOLD/gold/d_linux_64/bin/gold_linux_64\" \"/home/benoit/bioactive_conformation_predictor/gold_docking_postprocessing/324/api_gold.conf\"\n",
      "\n"
     ]
    },
    {
     "name": "stderr",
     "output_type": "stream",
     "text": [
      "RDKit WARNING: [17:05:06] unknown|373|mol2|1|dock89: warning - O.co2 with non C.2 or S.o2 neighbor.\n",
      "RDKit WARNING: [17:05:06] unknown|373|mol2|1|dock58: warning - O.co2 with non C.2 or S.o2 neighbor.\n"
     ]
    },
    {
     "name": "stdout",
     "output_type": "stream",
     "text": [
      "0\n"
     ]
    },
    {
     "name": "stderr",
     "output_type": "stream",
     "text": [
      "[17:05:06] unknown|373|mol2|1|dock89: warning - O.co2 with non C.2 or S.o2 neighbor.\n",
      "[17:05:06] unknown|373|mol2|1|dock58: warning - O.co2 with non C.2 or S.o2 neighbor.\n",
      "RDKit WARNING: [17:05:06] unknown|373|mol2|1|dock37: warning - O.co2 with non C.2 or S.o2 neighbor.\n",
      "RDKit WARNING: [17:05:06] unknown|373|mol2|1|dock78: warning - O.co2 with non C.2 or S.o2 neighbor.\n",
      "[17:05:06] unknown|373|mol2|1|dock37: warning - O.co2 with non C.2 or S.o2 neighbor.\n",
      "[17:05:06] unknown|373|mol2|1|dock78: warning - O.co2 with non C.2 or S.o2 neighbor.\n",
      "RDKit WARNING: [17:05:07] unknown|373|mol2|1|dock89: warning - O.co2 with non C.2 or S.o2 neighbor.\n",
      "RDKit WARNING: [17:05:07] unknown|373|mol2|1|dock29: warning - O.co2 with non C.2 or S.o2 neighbor.\n",
      "[17:05:07] unknown|373|mol2|1|dock89: warning - O.co2 with non C.2 or S.o2 neighbor.\n",
      "[17:05:07] unknown|373|mol2|1|dock29: warning - O.co2 with non C.2 or S.o2 neighbor.\n"
     ]
    },
    {
     "name": "stdout",
     "output_type": "stream",
     "text": [
      "Starting GOLD with conf file /home/benoit/bioactive_conformation_predictor/gold_docking_postprocessing/374/api_gold.conf\n",
      "Setting up GOLD environment...\n",
      "GOLD Version 2021.2.0\n",
      "Running:\n",
      " \n",
      "     \"/home/benoit/CCDC/Discovery_2021/GOLD/gold/d_linux_64/bin/gold_linux_64\" \"/home/benoit/bioactive_conformation_predictor/gold_docking_postprocessing/374/api_gold.conf\"\n",
      "\n",
      "Starting GOLD with conf file /home/benoit/bioactive_conformation_predictor/gold_docking_postprocessing/394/api_gold.conf\n",
      "Setting up GOLD environment...\n",
      "GOLD Version 2021.2.0\n",
      "Running:\n",
      " \n",
      "     \"/home/benoit/CCDC/Discovery_2021/GOLD/gold/d_linux_64/bin/gold_linux_64\" \"/home/benoit/bioactive_conformation_predictor/gold_docking_postprocessing/394/api_gold.conf\"\n",
      "\n",
      "Starting GOLD with conf file /home/benoit/bioactive_conformation_predictor/gold_docking_postprocessing/442/api_gold.conf\n",
      "Setting up GOLD environment...\n",
      "GOLD Version 2021.2.0\n",
      "Running:\n",
      " \n",
      "     \"/home/benoit/CCDC/Discovery_2021/GOLD/gold/d_linux_64/bin/gold_linux_64\" \"/home/benoit/bioactive_conformation_predictor/gold_docking_postprocessing/442/api_gold.conf\"\n",
      "\n",
      "0\n",
      "0\n",
      "Starting GOLD with conf file /home/benoit/bioactive_conformation_predictor/gold_docking_postprocessing/325/api_gold.conf\n",
      "Setting up GOLD environment...\n",
      "GOLD Version 2021.2.0\n",
      "Running:\n",
      " \n",
      "     \"/home/benoit/CCDC/Discovery_2021/GOLD/gold/d_linux_64/bin/gold_linux_64\" \"/home/benoit/bioactive_conformation_predictor/gold_docking_postprocessing/325/api_gold.conf\"\n",
      "\n"
     ]
    },
    {
     "name": "stderr",
     "output_type": "stream",
     "text": [
      "RDKit WARNING: [17:05:12] unknown|464|mol2|1|dock10: warning - O.co2 with non C.2 or S.o2 neighbor.\n",
      "RDKit WARNING: [17:05:12] unknown|464|mol2|1|dock10: warning - O.co2 with non C.2 or S.o2 neighbor.\n",
      "[17:05:12] unknown|464|mol2|1|dock10: warning - O.co2 with non C.2 or S.o2 neighbor.\n",
      "[17:05:12] unknown|464|mol2|1|dock10: warning - O.co2 with non C.2 or S.o2 neighbor.\n",
      "RDKit WARNING: [17:05:12] unknown|464|mol2|1|dock1: warning - O.co2 with non C.2 or S.o2 neighbor.\n",
      "RDKit WARNING: [17:05:12] unknown|464|mol2|1|dock11: warning - O.co2 with non C.2 or S.o2 neighbor.\n",
      "[17:05:12] unknown|464|mol2|1|dock1: warning - O.co2 with non C.2 or S.o2 neighbor.\n",
      "[17:05:12] unknown|464|mol2|1|dock11: warning - O.co2 with non C.2 or S.o2 neighbor.\n",
      "RDKit WARNING: [17:05:13] unknown|464|mol2|1|dock1: warning - O.co2 with non C.2 or S.o2 neighbor.\n",
      "RDKit WARNING: [17:05:13] unknown|464|mol2|1|dock47: warning - O.co2 with non C.2 or S.o2 neighbor.\n"
     ]
    },
    {
     "name": "stdout",
     "output_type": "stream",
     "text": [
      "0\n"
     ]
    },
    {
     "name": "stderr",
     "output_type": "stream",
     "text": [
      "[17:05:13] unknown|464|mol2|1|dock1: warning - O.co2 with non C.2 or S.o2 neighbor.\n",
      "[17:05:13] unknown|464|mol2|1|dock47: warning - O.co2 with non C.2 or S.o2 neighbor.\n"
     ]
    },
    {
     "name": "stdout",
     "output_type": "stream",
     "text": [
      "Starting GOLD with conf file /home/benoit/bioactive_conformation_predictor/gold_docking_postprocessing/465/api_gold.conf\n",
      "Setting up GOLD environment...\n",
      "GOLD Version 2021.2.0\n",
      "Running:\n",
      " \n",
      "     \"/home/benoit/CCDC/Discovery_2021/GOLD/gold/d_linux_64/bin/gold_linux_64\" \"/home/benoit/bioactive_conformation_predictor/gold_docking_postprocessing/465/api_gold.conf\"\n",
      "\n",
      "Starting GOLD with conf file /home/benoit/bioactive_conformation_predictor/gold_docking_postprocessing/443/api_gold.conf\n",
      "Setting up GOLD environment...\n",
      "GOLD Version 2021.2.0\n",
      "Running:\n",
      " \n",
      "     \"/home/benoit/CCDC/Discovery_2021/GOLD/gold/d_linux_64/bin/gold_linux_64\" \"/home/benoit/bioactive_conformation_predictor/gold_docking_postprocessing/443/api_gold.conf\"\n",
      "\n",
      "0\n",
      "0\n"
     ]
    },
    {
     "name": "stderr",
     "output_type": "stream",
     "text": [
      "RDKit WARNING: [17:05:16] unknown|415|mol2|1|dock80: warning - O.co2 with non C.2 or S.o2 neighbor.\n",
      "RDKit WARNING: [17:05:16] unknown|415|mol2|1|dock52: warning - O.co2 with non C.2 or S.o2 neighbor.\n",
      "[17:05:16] unknown|415|mol2|1|dock80: warning - O.co2 with non C.2 or S.o2 neighbor.\n",
      "[17:05:16] unknown|415|mol2|1|dock52: warning - O.co2 with non C.2 or S.o2 neighbor.\n",
      "RDKit WARNING: [17:05:16] unknown|415|mol2|1|dock50: warning - O.co2 with non C.2 or S.o2 neighbor.\n",
      "RDKit WARNING: [17:05:16] unknown|415|mol2|1|dock97: warning - O.co2 with non C.2 or S.o2 neighbor.\n",
      "RDKit WARNING: [17:05:16] unknown|415|mol2|1|dock72: warning - O.co2 with non C.2 or S.o2 neighbor.\n",
      "RDKit WARNING: [17:05:16] unknown|415|mol2|1|dock72: warning - O.co2 with non C.2 or S.o2 neighbor.\n",
      "[17:05:16] unknown|415|mol2|1|dock50: warning - O.co2 with non C.2 or S.o2 neighbor.\n",
      "[17:05:16] unknown|415|mol2|1|dock97: warning - O.co2 with non C.2 or S.o2 neighbor.\n",
      "[17:05:16] unknown|415|mol2|1|dock72: warning - O.co2 with non C.2 or S.o2 neighbor.\n",
      "[17:05:16] unknown|415|mol2|1|dock72: warning - O.co2 with non C.2 or S.o2 neighbor.\n"
     ]
    },
    {
     "name": "stdout",
     "output_type": "stream",
     "text": [
      "Starting GOLD with conf file /home/benoit/bioactive_conformation_predictor/gold_docking_postprocessing/416/api_gold.conf\n",
      "Setting up GOLD environment...\n",
      "GOLD Version 2021.2.0\n",
      "Running:\n",
      " \n",
      "     \"/home/benoit/CCDC/Discovery_2021/GOLD/gold/d_linux_64/bin/gold_linux_64\" \"/home/benoit/bioactive_conformation_predictor/gold_docking_postprocessing/416/api_gold.conf\"\n",
      "\n",
      "Starting GOLD with conf file /home/benoit/bioactive_conformation_predictor/gold_docking_postprocessing/513/api_gold.conf\n",
      "0\n",
      "Setting up GOLD environment...\n",
      "GOLD Version 2021.2.0\n",
      "Running:\n",
      " \n",
      "     \"/home/benoit/CCDC/Discovery_2021/GOLD/gold/d_linux_64/bin/gold_linux_64\" \"/home/benoit/bioactive_conformation_predictor/gold_docking_postprocessing/513/api_gold.conf\"\n",
      "\n",
      "0\n",
      "0\n",
      "Starting GOLD with conf file /home/benoit/bioactive_conformation_predictor/gold_docking_postprocessing/302/api_gold.conf\n",
      "0\n",
      "0\n",
      "Setting up GOLD environment...\n",
      "GOLD Version 2021.2.0\n",
      "Running:\n",
      " \n",
      "     \"/home/benoit/CCDC/Discovery_2021/GOLD/gold/d_linux_64/bin/gold_linux_64\" \"/home/benoit/bioactive_conformation_predictor/gold_docking_postprocessing/302/api_gold.conf\"\n",
      "\n",
      "0\n",
      "Starting GOLD with conf file /home/benoit/bioactive_conformation_predictor/gold_docking_postprocessing/444/api_gold.conf\n",
      "Setting up GOLD environment...\n",
      "GOLD Version 2021.2.0\n",
      "Running:\n",
      " \n",
      "     \"/home/benoit/CCDC/Discovery_2021/GOLD/gold/d_linux_64/bin/gold_linux_64\" \"/home/benoit/bioactive_conformation_predictor/gold_docking_postprocessing/444/api_gold.conf\"\n",
      "\n"
     ]
    },
    {
     "name": "stderr",
     "output_type": "stream",
     "text": [
      "RDKit WARNING: [17:05:25] unknown|374|mol2|1|dock35: warning - O.co2 with non C.2 or S.o2 neighbor.\n",
      "RDKit WARNING: [17:05:25] unknown|374|mol2|1|dock17: warning - O.co2 with non C.2 or S.o2 neighbor.\n",
      "[17:05:25] unknown|374|mol2|1|dock35: warning - O.co2 with non C.2 or S.o2 neighbor.\n",
      "[17:05:25] unknown|374|mol2|1|dock17: warning - O.co2 with non C.2 or S.o2 neighbor.\n",
      "RDKit WARNING: [17:05:26] unknown|374|mol2|1|dock17: warning - O.co2 with non C.2 or S.o2 neighbor.\n",
      "RDKit WARNING: [17:05:26] unknown|374|mol2|1|dock73: warning - O.co2 with non C.2 or S.o2 neighbor.\n",
      "[17:05:26] unknown|374|mol2|1|dock17: warning - O.co2 with non C.2 or S.o2 neighbor.\n",
      "[17:05:26] unknown|374|mol2|1|dock73: warning - O.co2 with non C.2 or S.o2 neighbor.\n",
      "RDKit WARNING: [17:05:26] unknown|374|mol2|1|dock5: warning - O.co2 with non C.2 or S.o2 neighbor.\n",
      "RDKit WARNING: [17:05:26] unknown|374|mol2|1|dock73: warning - O.co2 with non C.2 or S.o2 neighbor.\n",
      "[17:05:26] unknown|374|mol2|1|dock5: warning - O.co2 with non C.2 or S.o2 neighbor.\n",
      "[17:05:26] unknown|374|mol2|1|dock73: warning - O.co2 with non C.2 or S.o2 neighbor.\n"
     ]
    },
    {
     "name": "stdout",
     "output_type": "stream",
     "text": [
      "Starting GOLD with conf file /home/benoit/bioactive_conformation_predictor/gold_docking_postprocessing/395/api_gold.conf\n",
      "Starting GOLD with conf file /home/benoit/bioactive_conformation_predictor/gold_docking_postprocessing/375/api_gold.conf\n",
      "Setting up GOLD environment...\n",
      "GOLD Version 2021.2.0\n",
      "Running:\n",
      " \n",
      "     \"/home/benoit/CCDC/Discovery_2021/GOLD/gold/d_linux_64/bin/gold_linux_64\" \"/home/benoit/bioactive_conformation_predictor/gold_docking_postprocessing/395/api_gold.conf\"\n",
      "\n",
      "Setting up GOLD environment...\n",
      "GOLD Version 2021.2.0\n",
      "Running:\n",
      " \n",
      "     \"/home/benoit/CCDC/Discovery_2021/GOLD/gold/d_linux_64/bin/gold_linux_64\" \"/home/benoit/bioactive_conformation_predictor/gold_docking_postprocessing/375/api_gold.conf\"\n",
      "\n",
      "0\n"
     ]
    },
    {
     "name": "stderr",
     "output_type": "stream",
     "text": [
      "RDKit WARNING: [17:05:28] unknown|346|mol2|1|dock55: warning - O.co2 with non C.2 or S.o2 neighbor.\n",
      "RDKit WARNING: [17:05:28] unknown|346|mol2|1|dock55: warning - O.co2 with non C.2 or S.o2 neighbor.\n",
      "[17:05:28] unknown|346|mol2|1|dock55: warning - O.co2 with non C.2 or S.o2 neighbor.\n",
      "[17:05:28] unknown|346|mol2|1|dock55: warning - O.co2 with non C.2 or S.o2 neighbor.\n",
      "RDKit WARNING: [17:05:28] unknown|346|mol2|1|dock94: warning - O.co2 with non C.2 or S.o2 neighbor.\n",
      "RDKit WARNING: [17:05:28] unknown|346|mol2|1|dock11: warning - O.co2 with non C.2 or S.o2 neighbor.\n",
      "[17:05:28] unknown|346|mol2|1|dock94: warning - O.co2 with non C.2 or S.o2 neighbor.\n",
      "[17:05:28] unknown|346|mol2|1|dock11: warning - O.co2 with non C.2 or S.o2 neighbor.\n",
      "RDKit WARNING: [17:05:29] unknown|346|mol2|1|dock92: warning - O.co2 with non C.2 or S.o2 neighbor.\n",
      "RDKit WARNING: [17:05:29] unknown|346|mol2|1|dock5: warning - O.co2 with non C.2 or S.o2 neighbor.\n"
     ]
    },
    {
     "name": "stdout",
     "output_type": "stream",
     "text": [
      "Starting GOLD with conf file /home/benoit/bioactive_conformation_predictor/gold_docking_postprocessing/487/api_gold.conf\n"
     ]
    },
    {
     "name": "stderr",
     "output_type": "stream",
     "text": [
      "[17:05:29] unknown|346|mol2|1|dock92: warning - O.co2 with non C.2 or S.o2 neighbor.\n",
      "[17:05:29] unknown|346|mol2|1|dock5: warning - O.co2 with non C.2 or S.o2 neighbor.\n"
     ]
    },
    {
     "name": "stdout",
     "output_type": "stream",
     "text": [
      "Starting GOLD with conf file /home/benoit/bioactive_conformation_predictor/gold_docking_postprocessing/347/api_gold.conf\n",
      "Setting up GOLD environment...\n",
      "GOLD Version 2021.2.0\n",
      "Running:\n",
      " \n",
      "     \"/home/benoit/CCDC/Discovery_2021/GOLD/gold/d_linux_64/bin/gold_linux_64\" \"/home/benoit/bioactive_conformation_predictor/gold_docking_postprocessing/487/api_gold.conf\"\n",
      "\n",
      "Setting up GOLD environment...\n",
      "GOLD Version 2021.2.0\n",
      "Running:\n",
      " \n",
      "     \"/home/benoit/CCDC/Discovery_2021/GOLD/gold/d_linux_64/bin/gold_linux_64\" \"/home/benoit/bioactive_conformation_predictor/gold_docking_postprocessing/347/api_gold.conf\"\n",
      "\n",
      "0\n"
     ]
    },
    {
     "name": "stderr",
     "output_type": "stream",
     "text": [
      "RDKit WARNING: [17:05:33] unknown|325|mol2|1|dock71: warning - O.co2 with non C.2 or S.o2 neighbor.\n",
      "RDKit WARNING: [17:05:33] unknown|325|mol2|1|dock40: warning - O.co2 with non C.2 or S.o2 neighbor.\n"
     ]
    },
    {
     "name": "stdout",
     "output_type": "stream",
     "text": [
      "Starting GOLD with conf file /home/benoit/bioactive_conformation_predictor/gold_docking_postprocessing/536/api_gold.conf\n"
     ]
    },
    {
     "name": "stderr",
     "output_type": "stream",
     "text": [
      "[17:05:33] unknown|325|mol2|1|dock71: warning - O.co2 with non C.2 or S.o2 neighbor.\n",
      "[17:05:33] unknown|325|mol2|1|dock40: warning - O.co2 with non C.2 or S.o2 neighbor.\n",
      "RDKit WARNING: [17:05:33] unknown|325|mol2|1|dock71: warning - O.co2 with non C.2 or S.o2 neighbor.\n",
      "RDKit WARNING: [17:05:33] unknown|325|mol2|1|dock17: warning - O.co2 with non C.2 or S.o2 neighbor.\n"
     ]
    },
    {
     "name": "stdout",
     "output_type": "stream",
     "text": [
      "Setting up GOLD environment...\n",
      "GOLD Version 2021.2.0\n",
      "Running:\n",
      " \n",
      "     \"/home/benoit/CCDC/Discovery_2021/GOLD/gold/d_linux_64/bin/gold_linux_64\" \"/home/benoit/bioactive_conformation_predictor/gold_docking_postprocessing/536/api_gold.conf\"\n",
      "\n"
     ]
    },
    {
     "name": "stderr",
     "output_type": "stream",
     "text": [
      "[17:05:33] unknown|325|mol2|1|dock71: warning - O.co2 with non C.2 or S.o2 neighbor.\n",
      "[17:05:33] unknown|325|mol2|1|dock17: warning - O.co2 with non C.2 or S.o2 neighbor.\n",
      "RDKit WARNING: [17:05:34] unknown|325|mol2|1|dock65: warning - O.co2 with non C.2 or S.o2 neighbor.\n",
      "RDKit WARNING: [17:05:34] unknown|325|mol2|1|dock68: warning - O.co2 with non C.2 or S.o2 neighbor.\n",
      "[17:05:34] unknown|325|mol2|1|dock65: warning - O.co2 with non C.2 or S.o2 neighbor.\n",
      "[17:05:34] unknown|325|mol2|1|dock68: warning - O.co2 with non C.2 or S.o2 neighbor.\n"
     ]
    },
    {
     "name": "stdout",
     "output_type": "stream",
     "text": [
      "Starting GOLD with conf file /home/benoit/bioactive_conformation_predictor/gold_docking_postprocessing/326/api_gold.conf\n",
      "Setting up GOLD environment...\n",
      "GOLD Version 2021.2.0\n",
      "Running:\n",
      " \n",
      "     \"/home/benoit/CCDC/Discovery_2021/GOLD/gold/d_linux_64/bin/gold_linux_64\" \"/home/benoit/bioactive_conformation_predictor/gold_docking_postprocessing/326/api_gold.conf\"\n",
      "\n",
      "0\n",
      "0\n",
      "0\n",
      "0\n"
     ]
    },
    {
     "name": "stderr",
     "output_type": "stream",
     "text": [
      "RDKit WARNING: [17:05:38] unknown|302|mol2|1|dock80: warning - O.co2 with non C.2 or S.o2 neighbor.\n",
      "RDKit WARNING: [17:05:38] unknown|302|mol2|1|dock8: warning - O.co2 with non C.2 or S.o2 neighbor.\n",
      "[17:05:38] unknown|302|mol2|1|dock80: warning - O.co2 with non C.2 or S.o2 neighbor.\n",
      "[17:05:38] unknown|302|mol2|1|dock8: warning - O.co2 with non C.2 or S.o2 neighbor.\n",
      "RDKit WARNING: [17:05:38] unknown|302|mol2|1|dock8: warning - O.co2 with non C.2 or S.o2 neighbor.\n",
      "RDKit WARNING: [17:05:38] unknown|302|mol2|1|dock8: warning - O.co2 with non C.2 or S.o2 neighbor.\n",
      "[17:05:38] unknown|302|mol2|1|dock8: warning - O.co2 with non C.2 or S.o2 neighbor.\n",
      "[17:05:38] unknown|302|mol2|1|dock8: warning - O.co2 with non C.2 or S.o2 neighbor.\n",
      "RDKit WARNING: [17:05:39] unknown|302|mol2|1|dock80: warning - O.co2 with non C.2 or S.o2 neighbor.\n",
      "RDKit WARNING: [17:05:39] unknown|302|mol2|1|dock2: warning - O.co2 with non C.2 or S.o2 neighbor.\n"
     ]
    },
    {
     "name": "stdout",
     "output_type": "stream",
     "text": [
      "Starting GOLD with conf file /home/benoit/bioactive_conformation_predictor/gold_docking_postprocessing/396/api_gold.conf\n"
     ]
    },
    {
     "name": "stderr",
     "output_type": "stream",
     "text": [
      "[17:05:39] unknown|302|mol2|1|dock80: warning - O.co2 with non C.2 or S.o2 neighbor.\n",
      "[17:05:39] unknown|302|mol2|1|dock2: warning - O.co2 with non C.2 or S.o2 neighbor.\n"
     ]
    },
    {
     "name": "stdout",
     "output_type": "stream",
     "text": [
      "Starting GOLD with conf file /home/benoit/bioactive_conformation_predictor/gold_docking_postprocessing/303/api_gold.conf\n",
      "Setting up GOLD environment...\n",
      "GOLD Version 2021.2.0\n",
      "Running:\n",
      " \n",
      "     \"/home/benoit/CCDC/Discovery_2021/GOLD/gold/d_linux_64/bin/gold_linux_64\" \"/home/benoit/bioactive_conformation_predictor/gold_docking_postprocessing/396/api_gold.conf\"\n",
      "\n",
      "Setting up GOLD environment...\n",
      "GOLD Version 2021.2.0\n",
      "Running:\n",
      " \n",
      "     \"/home/benoit/CCDC/Discovery_2021/GOLD/gold/d_linux_64/bin/gold_linux_64\" \"/home/benoit/bioactive_conformation_predictor/gold_docking_postprocessing/303/api_gold.conf\"\n",
      "\n",
      "Starting GOLD with conf file /home/benoit/bioactive_conformation_predictor/gold_docking_postprocessing/514/api_gold.conf\n",
      "Setting up GOLD environment...\n",
      "GOLD Version 2021.2.0\n",
      "Running:\n",
      " \n",
      "     \"/home/benoit/CCDC/Discovery_2021/GOLD/gold/d_linux_64/bin/gold_linux_64\" \"/home/benoit/bioactive_conformation_predictor/gold_docking_postprocessing/514/api_gold.conf\"\n",
      "\n",
      "Starting GOLD with conf file /home/benoit/bioactive_conformation_predictor/gold_docking_postprocessing/376/api_gold.conf\n",
      "Setting up GOLD environment...\n",
      "GOLD Version 2021.2.0\n",
      "Running:\n",
      " \n",
      "     \"/home/benoit/CCDC/Discovery_2021/GOLD/gold/d_linux_64/bin/gold_linux_64\" \"/home/benoit/bioactive_conformation_predictor/gold_docking_postprocessing/376/api_gold.conf\"\n",
      "\n",
      "0\n",
      "0\n",
      "Starting GOLD with conf file /home/benoit/bioactive_conformation_predictor/gold_docking_postprocessing/466/api_gold.conf\n",
      "Setting up GOLD environment...\n",
      "GOLD Version 2021.2.0\n",
      "Running:\n",
      " \n",
      "     \"/home/benoit/CCDC/Discovery_2021/GOLD/gold/d_linux_64/bin/gold_linux_64\" \"/home/benoit/bioactive_conformation_predictor/gold_docking_postprocessing/466/api_gold.conf\"\n",
      "\n",
      "0\n",
      "Starting GOLD with conf file /home/benoit/bioactive_conformation_predictor/gold_docking_postprocessing/417/api_gold.conf\n",
      "0\n",
      "Setting up GOLD environment...\n",
      "GOLD Version 2021.2.0\n",
      "Running:\n",
      " \n",
      "     \"/home/benoit/CCDC/Discovery_2021/GOLD/gold/d_linux_64/bin/gold_linux_64\" \"/home/benoit/bioactive_conformation_predictor/gold_docking_postprocessing/417/api_gold.conf\"\n",
      "\n",
      "0\n",
      "0\n",
      "Starting GOLD with conf file /home/benoit/bioactive_conformation_predictor/gold_docking_postprocessing/445/api_gold.conf\n",
      "Setting up GOLD environment...\n",
      "GOLD Version 2021.2.0\n",
      "Running:\n",
      " \n",
      "     \"/home/benoit/CCDC/Discovery_2021/GOLD/gold/d_linux_64/bin/gold_linux_64\" \"/home/benoit/bioactive_conformation_predictor/gold_docking_postprocessing/445/api_gold.conf\"\n",
      "\n",
      "0\n"
     ]
    },
    {
     "name": "stderr",
     "output_type": "stream",
     "text": [
      "RDKit WARNING: [17:05:50] unknown|514|mol2|1|dock10: warning - O.co2 with non C.2 or S.o2 neighbor.\n",
      "RDKit WARNING: [17:05:50] unknown|514|mol2|1|dock70: warning - O.co2 with non C.2 or S.o2 neighbor.\n"
     ]
    },
    {
     "name": "stdout",
     "output_type": "stream",
     "text": [
      "Starting GOLD with conf file /home/benoit/bioactive_conformation_predictor/gold_docking_postprocessing/467/api_gold.conf\n"
     ]
    },
    {
     "name": "stderr",
     "output_type": "stream",
     "text": [
      "[17:05:50] unknown|514|mol2|1|dock10: warning - O.co2 with non C.2 or S.o2 neighbor.\n",
      "[17:05:50] unknown|514|mol2|1|dock70: warning - O.co2 with non C.2 or S.o2 neighbor.\n",
      "RDKit WARNING: [17:05:50] unknown|514|mol2|1|dock25: warning - O.co2 with non C.2 or S.o2 neighbor.\n",
      "RDKit WARNING: [17:05:50] unknown|514|mol2|1|dock25: warning - O.co2 with non C.2 or S.o2 neighbor.\n",
      "[17:05:50] unknown|514|mol2|1|dock25: warning - O.co2 with non C.2 or S.o2 neighbor.\n",
      "[17:05:50] unknown|514|mol2|1|dock25: warning - O.co2 with non C.2 or S.o2 neighbor.\n",
      "RDKit WARNING: [17:05:50] unknown|514|mol2|1|dock55: warning - O.co2 with non C.2 or S.o2 neighbor.\n",
      "RDKit WARNING: [17:05:50] unknown|514|mol2|1|dock31: warning - O.co2 with non C.2 or S.o2 neighbor.\n"
     ]
    },
    {
     "name": "stdout",
     "output_type": "stream",
     "text": [
      "Setting up GOLD environment...\n",
      "GOLD Version 2021.2.0\n",
      "Running:\n",
      " \n",
      "     \"/home/benoit/CCDC/Discovery_2021/GOLD/gold/d_linux_64/bin/gold_linux_64\" \"/home/benoit/bioactive_conformation_predictor/gold_docking_postprocessing/467/api_gold.conf\"\n",
      "\n"
     ]
    },
    {
     "name": "stderr",
     "output_type": "stream",
     "text": [
      "[17:05:50] unknown|514|mol2|1|dock55: warning - O.co2 with non C.2 or S.o2 neighbor.\n",
      "[17:05:50] unknown|514|mol2|1|dock31: warning - O.co2 with non C.2 or S.o2 neighbor.\n"
     ]
    },
    {
     "name": "stdout",
     "output_type": "stream",
     "text": [
      "Starting GOLD with conf file /home/benoit/bioactive_conformation_predictor/gold_docking_postprocessing/515/api_gold.conf\n",
      "Setting up GOLD environment...\n",
      "GOLD Version 2021.2.0\n",
      "Running:\n",
      " \n",
      "     \"/home/benoit/CCDC/Discovery_2021/GOLD/gold/d_linux_64/bin/gold_linux_64\" \"/home/benoit/bioactive_conformation_predictor/gold_docking_postprocessing/515/api_gold.conf\"\n",
      "\n",
      "0\n",
      "Starting GOLD with conf file /home/benoit/bioactive_conformation_predictor/gold_docking_postprocessing/327/api_gold.conf\n",
      "Setting up GOLD environment...\n",
      "GOLD Version 2021.2.0\n",
      "Running:\n",
      " \n",
      "     \"/home/benoit/CCDC/Discovery_2021/GOLD/gold/d_linux_64/bin/gold_linux_64\" \"/home/benoit/bioactive_conformation_predictor/gold_docking_postprocessing/327/api_gold.conf\"\n",
      "\n",
      "0\n"
     ]
    },
    {
     "name": "stderr",
     "output_type": "stream",
     "text": [
      "RDKit WARNING: [17:05:53] unknown|347|mol2|1|dock36: warning - O.co2 with non C.2 or S.o2 neighbor.\n",
      "RDKit WARNING: [17:05:53] unknown|347|mol2|1|dock96: warning - O.co2 with non C.2 or S.o2 neighbor.\n",
      "[17:05:53] unknown|347|mol2|1|dock36: warning - O.co2 with non C.2 or S.o2 neighbor.\n",
      "[17:05:53] unknown|347|mol2|1|dock96: warning - O.co2 with non C.2 or S.o2 neighbor.\n",
      "RDKit WARNING: [17:05:54] unknown|347|mol2|1|dock12: warning - O.co2 with non C.2 or S.o2 neighbor.\n",
      "RDKit WARNING: [17:05:54] unknown|347|mol2|1|dock71: warning - O.co2 with non C.2 or S.o2 neighbor.\n",
      "[17:05:54] unknown|347|mol2|1|dock12: warning - O.co2 with non C.2 or S.o2 neighbor.\n",
      "[17:05:54] unknown|347|mol2|1|dock71: warning - O.co2 with non C.2 or S.o2 neighbor.\n",
      "RDKit WARNING: [17:05:55] unknown|347|mol2|1|dock36: warning - O.co2 with non C.2 or S.o2 neighbor.\n",
      "RDKit WARNING: [17:05:55] unknown|347|mol2|1|dock14: warning - O.co2 with non C.2 or S.o2 neighbor.\n"
     ]
    },
    {
     "name": "stdout",
     "output_type": "stream",
     "text": [
      "Starting GOLD with conf file /home/benoit/bioactive_conformation_predictor/gold_docking_postprocessing/348/api_gold.conf\n"
     ]
    },
    {
     "name": "stderr",
     "output_type": "stream",
     "text": [
      "[17:05:55] unknown|347|mol2|1|dock36: warning - O.co2 with non C.2 or S.o2 neighbor.\n",
      "[17:05:55] unknown|347|mol2|1|dock14: warning - O.co2 with non C.2 or S.o2 neighbor.\n"
     ]
    },
    {
     "name": "stdout",
     "output_type": "stream",
     "text": [
      "Setting up GOLD environment...\n",
      "GOLD Version 2021.2.0\n",
      "Running:\n",
      " \n",
      "     \"/home/benoit/CCDC/Discovery_2021/GOLD/gold/d_linux_64/bin/gold_linux_64\" \"/home/benoit/bioactive_conformation_predictor/gold_docking_postprocessing/348/api_gold.conf\"\n",
      "\n"
     ]
    },
    {
     "name": "stderr",
     "output_type": "stream",
     "text": [
      "RDKit WARNING: [17:05:55] unknown|396|mol2|1|dock49: warning - O.co2 with non C.2 or S.o2 neighbor.\n",
      "RDKit WARNING: [17:05:55] unknown|396|mol2|1|dock39: warning - O.co2 with non C.2 or S.o2 neighbor.\n",
      "[17:05:55] unknown|396|mol2|1|dock49: warning - O.co2 with non C.2 or S.o2 neighbor.\n",
      "[17:05:55] unknown|396|mol2|1|dock39: warning - O.co2 with non C.2 or S.o2 neighbor.\n",
      "RDKit WARNING: [17:05:56] unknown|396|mol2|1|dock49: warning - O.co2 with non C.2 or S.o2 neighbor.\n",
      "RDKit WARNING: [17:05:56] unknown|396|mol2|1|dock20: warning - O.co2 with non C.2 or S.o2 neighbor.\n",
      "[17:05:56] unknown|396|mol2|1|dock49: warning - O.co2 with non C.2 or S.o2 neighbor.\n",
      "[17:05:56] unknown|396|mol2|1|dock20: warning - O.co2 with non C.2 or S.o2 neighbor.\n"
     ]
    },
    {
     "name": "stdout",
     "output_type": "stream",
     "text": [
      "0\n"
     ]
    },
    {
     "name": "stderr",
     "output_type": "stream",
     "text": [
      "RDKit WARNING: [17:05:56] unknown|396|mol2|1|dock49: warning - O.co2 with non C.2 or S.o2 neighbor.\n",
      "RDKit WARNING: [17:05:56] unknown|396|mol2|1|dock77: warning - O.co2 with non C.2 or S.o2 neighbor.\n"
     ]
    },
    {
     "name": "stdout",
     "output_type": "stream",
     "text": [
      "Starting GOLD with conf file /home/benoit/bioactive_conformation_predictor/gold_docking_postprocessing/397/api_gold.conf\n"
     ]
    },
    {
     "name": "stderr",
     "output_type": "stream",
     "text": [
      "[17:05:56] unknown|396|mol2|1|dock49: warning - O.co2 with non C.2 or S.o2 neighbor.\n",
      "[17:05:56] unknown|396|mol2|1|dock77: warning - O.co2 with non C.2 or S.o2 neighbor.\n"
     ]
    },
    {
     "name": "stdout",
     "output_type": "stream",
     "text": [
      "Setting up GOLD environment...\n",
      "GOLD Version 2021.2.0\n",
      "Running:\n",
      " \n",
      "     \"/home/benoit/CCDC/Discovery_2021/GOLD/gold/d_linux_64/bin/gold_linux_64\" \"/home/benoit/bioactive_conformation_predictor/gold_docking_postprocessing/397/api_gold.conf\"\n",
      "\n",
      "Starting GOLD with conf file /home/benoit/bioactive_conformation_predictor/gold_docking_postprocessing/488/api_gold.conf\n",
      "Setting up GOLD environment...\n",
      "GOLD Version 2021.2.0\n",
      "Running:\n",
      " \n",
      "     \"/home/benoit/CCDC/Discovery_2021/GOLD/gold/d_linux_64/bin/gold_linux_64\" \"/home/benoit/bioactive_conformation_predictor/gold_docking_postprocessing/488/api_gold.conf\"\n",
      "\n",
      "0\n",
      "0\n",
      "0\n",
      "0\n"
     ]
    },
    {
     "name": "stderr",
     "output_type": "stream",
     "text": [
      "RDKit WARNING: [17:06:01] unknown|467|mol2|1|dock4: warning - O.co2 with non C.2 or S.o2 neighbor.\n",
      "RDKit WARNING: [17:06:01] unknown|467|mol2|1|dock39: warning - O.co2 with non C.2 or S.o2 neighbor.\n",
      "RDKit WARNING: [17:06:01] unknown|467|mol2|1|dock47: warning - O.co2 with non C.2 or S.o2 neighbor.\n",
      "RDKit WARNING: [17:06:01] unknown|467|mol2|1|dock39: warning - O.co2 with non C.2 or S.o2 neighbor.\n",
      "[17:06:01] unknown|467|mol2|1|dock4: warning - O.co2 with non C.2 or S.o2 neighbor.\n",
      "[17:06:01] unknown|467|mol2|1|dock39: warning - O.co2 with non C.2 or S.o2 neighbor.\n",
      "[17:06:01] unknown|467|mol2|1|dock47: warning - O.co2 with non C.2 or S.o2 neighbor.\n",
      "[17:06:01] unknown|467|mol2|1|dock39: warning - O.co2 with non C.2 or S.o2 neighbor.\n",
      "RDKit WARNING: [17:06:01] unknown|467|mol2|1|dock4: warning - O.co2 with non C.2 or S.o2 neighbor.\n",
      "RDKit WARNING: [17:06:01] unknown|467|mol2|1|dock45: warning - O.co2 with non C.2 or S.o2 neighbor.\n"
     ]
    },
    {
     "name": "stdout",
     "output_type": "stream",
     "text": [
      "Starting GOLD with conf file /home/benoit/bioactive_conformation_predictor/gold_docking_postprocessing/537/api_gold.conf\n"
     ]
    },
    {
     "name": "stderr",
     "output_type": "stream",
     "text": [
      "[17:06:01] unknown|467|mol2|1|dock4: warning - O.co2 with non C.2 or S.o2 neighbor.\n",
      "[17:06:01] unknown|467|mol2|1|dock45: warning - O.co2 with non C.2 or S.o2 neighbor.\n"
     ]
    },
    {
     "name": "stdout",
     "output_type": "stream",
     "text": [
      "Starting GOLD with conf file /home/benoit/bioactive_conformation_predictor/gold_docking_postprocessing/468/api_gold.conf\n",
      "Setting up GOLD environment...\n",
      "GOLD Version 2021.2.0\n",
      "Running:\n",
      " \n",
      "     \"/home/benoit/CCDC/Discovery_2021/GOLD/gold/d_linux_64/bin/gold_linux_64\" \"/home/benoit/bioactive_conformation_predictor/gold_docking_postprocessing/537/api_gold.conf\"\n",
      "\n",
      "Setting up GOLD environment...\n",
      "GOLD Version 2021.2.0\n",
      "Running:\n",
      " \n",
      "     \"/home/benoit/CCDC/Discovery_2021/GOLD/gold/d_linux_64/bin/gold_linux_64\" \"/home/benoit/bioactive_conformation_predictor/gold_docking_postprocessing/468/api_gold.conf\"\n",
      "\n",
      "Starting GOLD with conf file /home/benoit/bioactive_conformation_predictor/gold_docking_postprocessing/377/api_gold.conf\n",
      "Starting GOLD with conf file /home/benoit/bioactive_conformation_predictor/gold_docking_postprocessing/418/api_gold.conf\n",
      "Setting up GOLD environment...\n",
      "GOLD Version 2021.2.0\n",
      "Running:\n",
      " \n",
      "     \"/home/benoit/CCDC/Discovery_2021/GOLD/gold/d_linux_64/bin/gold_linux_64\" \"/home/benoit/bioactive_conformation_predictor/gold_docking_postprocessing/377/api_gold.conf\"\n",
      "\n",
      "Setting up GOLD environment...\n",
      "GOLD Version 2021.2.0\n",
      "Running:\n",
      " \n",
      "     \"/home/benoit/CCDC/Discovery_2021/GOLD/gold/d_linux_64/bin/gold_linux_64\" \"/home/benoit/bioactive_conformation_predictor/gold_docking_postprocessing/418/api_gold.conf\"\n",
      "\n",
      "Starting GOLD with conf file /home/benoit/bioactive_conformation_predictor/gold_docking_postprocessing/304/api_gold.conf\n",
      "Setting up GOLD environment...\n",
      "GOLD Version 2021.2.0\n",
      "Running:\n",
      " \n",
      "     \"/home/benoit/CCDC/Discovery_2021/GOLD/gold/d_linux_64/bin/gold_linux_64\" \"/home/benoit/bioactive_conformation_predictor/gold_docking_postprocessing/304/api_gold.conf\"\n",
      "\n",
      "0\n",
      "0\n",
      "0\n",
      "0\n"
     ]
    },
    {
     "name": "stderr",
     "output_type": "stream",
     "text": [
      "RDKit WARNING: [17:06:09] unknown|418|mol2|1|dock63: warning - O.co2 with non C.2 or S.o2 neighbor.\n",
      "RDKit WARNING: [17:06:09] unknown|418|mol2|1|dock76: warning - O.co2 with non C.2 or S.o2 neighbor.\n",
      "[17:06:09] unknown|418|mol2|1|dock63: warning - O.co2 with non C.2 or S.o2 neighbor.\n",
      "[17:06:09] unknown|418|mol2|1|dock76: warning - O.co2 with non C.2 or S.o2 neighbor.\n",
      "RDKit WARNING: [17:06:10] unknown|418|mol2|1|dock76: warning - O.co2 with non C.2 or S.o2 neighbor.\n",
      "RDKit WARNING: [17:06:10] unknown|418|mol2|1|dock76: warning - O.co2 with non C.2 or S.o2 neighbor.\n"
     ]
    },
    {
     "name": "stdout",
     "output_type": "stream",
     "text": [
      "Starting GOLD with conf file /home/benoit/bioactive_conformation_predictor/gold_docking_postprocessing/489/api_gold.conf\n"
     ]
    },
    {
     "name": "stderr",
     "output_type": "stream",
     "text": [
      "[17:06:10] unknown|418|mol2|1|dock76: warning - O.co2 with non C.2 or S.o2 neighbor.\n",
      "[17:06:10] unknown|418|mol2|1|dock76: warning - O.co2 with non C.2 or S.o2 neighbor.\n",
      "RDKit WARNING: [17:06:10] unknown|418|mol2|1|dock100: warning - O.co2 with non C.2 or S.o2 neighbor.\n",
      "RDKit WARNING: [17:06:10] unknown|418|mol2|1|dock85: warning - O.co2 with non C.2 or S.o2 neighbor.\n"
     ]
    },
    {
     "name": "stdout",
     "output_type": "stream",
     "text": [
      "Starting GOLD with conf file /home/benoit/bioactive_conformation_predictor/gold_docking_postprocessing/419/api_gold.conf\n"
     ]
    },
    {
     "name": "stderr",
     "output_type": "stream",
     "text": [
      "[17:06:10] unknown|418|mol2|1|dock100: warning - O.co2 with non C.2 or S.o2 neighbor.\n",
      "[17:06:10] unknown|418|mol2|1|dock85: warning - O.co2 with non C.2 or S.o2 neighbor.\n"
     ]
    },
    {
     "name": "stdout",
     "output_type": "stream",
     "text": [
      "Setting up GOLD environment...\n",
      "GOLD Version 2021.2.0\n",
      "Running:\n",
      " \n",
      "     \"/home/benoit/CCDC/Discovery_2021/GOLD/gold/d_linux_64/bin/gold_linux_64\" \"/home/benoit/bioactive_conformation_predictor/gold_docking_postprocessing/489/api_gold.conf\"\n",
      "\n",
      "Setting up GOLD environment...\n",
      "GOLD Version 2021.2.0\n",
      "Running:\n",
      " \n",
      "     \"/home/benoit/CCDC/Discovery_2021/GOLD/gold/d_linux_64/bin/gold_linux_64\" \"/home/benoit/bioactive_conformation_predictor/gold_docking_postprocessing/419/api_gold.conf\"\n",
      "\n",
      "Starting GOLD with conf file /home/benoit/bioactive_conformation_predictor/gold_docking_postprocessing/305/api_gold.conf\n",
      "Starting GOLD with conf file /home/benoit/bioactive_conformation_predictor/gold_docking_postprocessing/516/api_gold.conf\n",
      "Setting up GOLD environment...\n",
      "GOLD Version 2021.2.0\n",
      "Running:\n",
      " \n",
      "     \"/home/benoit/CCDC/Discovery_2021/GOLD/gold/d_linux_64/bin/gold_linux_64\" \"/home/benoit/bioactive_conformation_predictor/gold_docking_postprocessing/305/api_gold.conf\"\n",
      "\n",
      "Setting up GOLD environment...\n",
      "GOLD Version 2021.2.0\n",
      "Running:\n",
      " \n",
      "     \"/home/benoit/CCDC/Discovery_2021/GOLD/gold/d_linux_64/bin/gold_linux_64\" \"/home/benoit/bioactive_conformation_predictor/gold_docking_postprocessing/516/api_gold.conf\"\n",
      "\n",
      "0\n",
      "Starting GOLD with conf file /home/benoit/bioactive_conformation_predictor/gold_docking_postprocessing/469/api_gold.conf\n",
      "Setting up GOLD environment...\n",
      "GOLD Version 2021.2.0\n",
      "Running:\n",
      " \n",
      "     \"/home/benoit/CCDC/Discovery_2021/GOLD/gold/d_linux_64/bin/gold_linux_64\" \"/home/benoit/bioactive_conformation_predictor/gold_docking_postprocessing/469/api_gold.conf\"\n",
      "\n",
      "0\n",
      "0\n",
      "0\n",
      "0\n"
     ]
    },
    {
     "name": "stderr",
     "output_type": "stream",
     "text": [
      "RDKit WARNING: [17:06:18] unknown|397|mol2|1|dock89: warning - O.co2 with non C.2 or S.o2 neighbor.\n",
      "RDKit WARNING: [17:06:18] unknown|397|mol2|1|dock70: warning - O.co2 with non C.2 or S.o2 neighbor.\n",
      "[17:06:18] unknown|397|mol2|1|dock89: warning - O.co2 with non C.2 or S.o2 neighbor.\n",
      "[17:06:18] unknown|397|mol2|1|dock70: warning - O.co2 with non C.2 or S.o2 neighbor.\n",
      "RDKit WARNING: [17:06:18] unknown|397|mol2|1|dock89: warning - O.co2 with non C.2 or S.o2 neighbor.\n",
      "RDKit WARNING: [17:06:18] unknown|397|mol2|1|dock4: warning - O.co2 with non C.2 or S.o2 neighbor.\n",
      "[17:06:18] unknown|397|mol2|1|dock89: warning - O.co2 with non C.2 or S.o2 neighbor.\n",
      "[17:06:18] unknown|397|mol2|1|dock4: warning - O.co2 with non C.2 or S.o2 neighbor.\n",
      "RDKit WARNING: [17:06:18] unknown|397|mol2|1|dock89: warning - O.co2 with non C.2 or S.o2 neighbor.\n",
      "RDKit WARNING: [17:06:18] unknown|397|mol2|1|dock43: warning - O.co2 with non C.2 or S.o2 neighbor.\n",
      "[17:06:18] unknown|397|mol2|1|dock89: warning - O.co2 with non C.2 or S.o2 neighbor.\n",
      "[17:06:18] unknown|397|mol2|1|dock43: warning - O.co2 with non C.2 or S.o2 neighbor.\n"
     ]
    },
    {
     "name": "stdout",
     "output_type": "stream",
     "text": [
      "Starting GOLD with conf file /home/benoit/bioactive_conformation_predictor/gold_docking_postprocessing/398/api_gold.conf\n",
      "Setting up GOLD environment...\n",
      "GOLD Version 2021.2.0\n",
      "Running:\n",
      " \n",
      "     \"/home/benoit/CCDC/Discovery_2021/GOLD/gold/d_linux_64/bin/gold_linux_64\" \"/home/benoit/bioactive_conformation_predictor/gold_docking_postprocessing/398/api_gold.conf\"\n",
      "\n"
     ]
    },
    {
     "name": "stderr",
     "output_type": "stream",
     "text": [
      "RDKit WARNING: [17:06:20] unknown|348|mol2|1|dock32: warning - O.co2 with non C.2 or S.o2 neighbor.\n",
      "RDKit WARNING: [17:06:20] unknown|348|mol2|1|dock70: warning - O.co2 with non C.2 or S.o2 neighbor.\n"
     ]
    },
    {
     "name": "stdout",
     "output_type": "stream",
     "text": [
      "0\n"
     ]
    },
    {
     "name": "stderr",
     "output_type": "stream",
     "text": [
      "[17:06:20] unknown|348|mol2|1|dock32: warning - O.co2 with non C.2 or S.o2 neighbor.\n",
      "[17:06:20] unknown|348|mol2|1|dock70: warning - O.co2 with non C.2 or S.o2 neighbor.\n",
      "RDKit WARNING: [17:06:21] unknown|348|mol2|1|dock42: warning - O.co2 with non C.2 or S.o2 neighbor.\n",
      "RDKit WARNING: [17:06:21] unknown|348|mol2|1|dock92: warning - O.co2 with non C.2 or S.o2 neighbor.\n",
      "[17:06:21] unknown|348|mol2|1|dock42: warning - O.co2 with non C.2 or S.o2 neighbor.\n",
      "[17:06:21] unknown|348|mol2|1|dock92: warning - O.co2 with non C.2 or S.o2 neighbor.\n",
      "RDKit WARNING: [17:06:21] unknown|348|mol2|1|dock42: warning - O.co2 with non C.2 or S.o2 neighbor.\n",
      "RDKit WARNING: [17:06:21] unknown|348|mol2|1|dock20: warning - O.co2 with non C.2 or S.o2 neighbor.\n"
     ]
    },
    {
     "name": "stdout",
     "output_type": "stream",
     "text": [
      "0\n",
      "Starting GOLD with conf file /home/benoit/bioactive_conformation_predictor/gold_docking_postprocessing/349/api_gold.conf\n"
     ]
    },
    {
     "name": "stderr",
     "output_type": "stream",
     "text": [
      "[17:06:21] unknown|348|mol2|1|dock42: warning - O.co2 with non C.2 or S.o2 neighbor.\n",
      "[17:06:21] unknown|348|mol2|1|dock20: warning - O.co2 with non C.2 or S.o2 neighbor.\n"
     ]
    },
    {
     "name": "stdout",
     "output_type": "stream",
     "text": [
      "Setting up GOLD environment...\n",
      "GOLD Version 2021.2.0\n",
      "Running:\n",
      " \n",
      "     \"/home/benoit/CCDC/Discovery_2021/GOLD/gold/d_linux_64/bin/gold_linux_64\" \"/home/benoit/bioactive_conformation_predictor/gold_docking_postprocessing/349/api_gold.conf\"\n",
      "\n",
      "Starting GOLD with conf file /home/benoit/bioactive_conformation_predictor/gold_docking_postprocessing/378/api_gold.conf\n",
      "Setting up GOLD environment...\n",
      "GOLD Version 2021.2.0\n",
      "Running:\n",
      " \n",
      "     \"/home/benoit/CCDC/Discovery_2021/GOLD/gold/d_linux_64/bin/gold_linux_64\" \"/home/benoit/bioactive_conformation_predictor/gold_docking_postprocessing/378/api_gold.conf\"\n",
      "\n",
      "Starting GOLD with conf file /home/benoit/bioactive_conformation_predictor/gold_docking_postprocessing/490/api_gold.conf\n",
      "Starting GOLD with conf file /home/benoit/bioactive_conformation_predictor/gold_docking_postprocessing/446/api_gold.conf\n",
      "Setting up GOLD environment...\n",
      "GOLD Version 2021.2.0\n",
      "Running:\n",
      " \n",
      "     \"/home/benoit/CCDC/Discovery_2021/GOLD/gold/d_linux_64/bin/gold_linux_64\" \"/home/benoit/bioactive_conformation_predictor/gold_docking_postprocessing/490/api_gold.conf\"\n",
      "\n",
      "Setting up GOLD environment...\n",
      "GOLD Version 2021.2.0\n",
      "Running:\n",
      " \n",
      "     \"/home/benoit/CCDC/Discovery_2021/GOLD/gold/d_linux_64/bin/gold_linux_64\" \"/home/benoit/bioactive_conformation_predictor/gold_docking_postprocessing/446/api_gold.conf\"\n",
      "\n",
      "Starting GOLD with conf file /home/benoit/bioactive_conformation_predictor/gold_docking_postprocessing/517/api_gold.conf\n",
      "0\n",
      "Setting up GOLD environment...\n",
      "GOLD Version 2021.2.0\n",
      "Running:\n",
      " \n",
      "     \"/home/benoit/CCDC/Discovery_2021/GOLD/gold/d_linux_64/bin/gold_linux_64\" \"/home/benoit/bioactive_conformation_predictor/gold_docking_postprocessing/517/api_gold.conf\"\n",
      "\n",
      "0\n",
      "Starting GOLD with conf file /home/benoit/bioactive_conformation_predictor/gold_docking_postprocessing/328/api_gold.conf\n",
      "Setting up GOLD environment...\n",
      "GOLD Version 2021.2.0\n",
      "Running:\n",
      " \n",
      "     \"/home/benoit/CCDC/Discovery_2021/GOLD/gold/d_linux_64/bin/gold_linux_64\" \"/home/benoit/bioactive_conformation_predictor/gold_docking_postprocessing/328/api_gold.conf\"\n",
      "\n",
      "0\n",
      "0\n",
      "Starting GOLD with conf file /home/benoit/bioactive_conformation_predictor/gold_docking_postprocessing/470/api_gold.conf\n",
      "Setting up GOLD environment...\n",
      "GOLD Version 2021.2.0\n",
      "Running:\n",
      " \n",
      "     \"/home/benoit/CCDC/Discovery_2021/GOLD/gold/d_linux_64/bin/gold_linux_64\" \"/home/benoit/bioactive_conformation_predictor/gold_docking_postprocessing/470/api_gold.conf\"\n",
      "\n",
      "0\n",
      "0\n"
     ]
    },
    {
     "name": "stderr",
     "output_type": "stream",
     "text": [
      "RDKit WARNING: [17:06:31] unknown|537|mol2|1|dock71: warning - O.co2 with non C.2 or S.o2 neighbor.\n",
      "RDKit WARNING: [17:06:31] unknown|537|mol2|1|dock38: warning - O.co2 with non C.2 or S.o2 neighbor.\n",
      "[17:06:31] unknown|537|mol2|1|dock71: warning - O.co2 with non C.2 or S.o2 neighbor.\n",
      "[17:06:31] unknown|537|mol2|1|dock38: warning - O.co2 with non C.2 or S.o2 neighbor.\n",
      "RDKit WARNING: [17:06:32] unknown|537|mol2|1|dock71: warning - O.co2 with non C.2 or S.o2 neighbor.\n",
      "RDKit WARNING: [17:06:32] unknown|537|mol2|1|dock73: warning - O.co2 with non C.2 or S.o2 neighbor.\n",
      "[17:06:32] unknown|537|mol2|1|dock71: warning - O.co2 with non C.2 or S.o2 neighbor.\n",
      "[17:06:32] unknown|537|mol2|1|dock73: warning - O.co2 with non C.2 or S.o2 neighbor.\n",
      "RDKit WARNING: [17:06:32] unknown|537|mol2|1|dock73: warning - O.co2 with non C.2 or S.o2 neighbor.\n",
      "RDKit WARNING: [17:06:32] unknown|537|mol2|1|dock38: warning - O.co2 with non C.2 or S.o2 neighbor.\n"
     ]
    },
    {
     "name": "stdout",
     "output_type": "stream",
     "text": [
      "0\n",
      "0\n",
      "Starting GOLD with conf file /home/benoit/bioactive_conformation_predictor/gold_docking_postprocessing/538/api_gold.conf\n"
     ]
    },
    {
     "name": "stderr",
     "output_type": "stream",
     "text": [
      "[17:06:32] unknown|537|mol2|1|dock73: warning - O.co2 with non C.2 or S.o2 neighbor.\n",
      "[17:06:32] unknown|537|mol2|1|dock38: warning - O.co2 with non C.2 or S.o2 neighbor.\n"
     ]
    },
    {
     "name": "stdout",
     "output_type": "stream",
     "text": [
      "Setting up GOLD environment...\n",
      "GOLD Version 2021.2.0\n",
      "Running:\n",
      " \n",
      "     \"/home/benoit/CCDC/Discovery_2021/GOLD/gold/d_linux_64/bin/gold_linux_64\" \"/home/benoit/bioactive_conformation_predictor/gold_docking_postprocessing/538/api_gold.conf\"\n",
      "\n",
      "Starting GOLD with conf file /home/benoit/bioactive_conformation_predictor/gold_docking_postprocessing/306/api_gold.conf\n",
      "Starting GOLD with conf file /home/benoit/bioactive_conformation_predictor/gold_docking_postprocessing/379/api_gold.conf\n",
      "Setting up GOLD environment...\n",
      "GOLD Version 2021.2.0\n",
      "Running:\n",
      " \n",
      "     \"/home/benoit/CCDC/Discovery_2021/GOLD/gold/d_linux_64/bin/gold_linux_64\" \"/home/benoit/bioactive_conformation_predictor/gold_docking_postprocessing/306/api_gold.conf\"\n",
      "\n",
      "Setting up GOLD environment...\n",
      "GOLD Version 2021.2.0\n",
      "Running:\n",
      " \n",
      "     \"/home/benoit/CCDC/Discovery_2021/GOLD/gold/d_linux_64/bin/gold_linux_64\" \"/home/benoit/bioactive_conformation_predictor/gold_docking_postprocessing/379/api_gold.conf\"\n",
      "\n",
      "Starting GOLD with conf file /home/benoit/bioactive_conformation_predictor/gold_docking_postprocessing/350/api_gold.conf\n",
      "Setting up GOLD environment...\n",
      "GOLD Version 2021.2.0\n",
      "Running:\n",
      " \n",
      "     \"/home/benoit/CCDC/Discovery_2021/GOLD/gold/d_linux_64/bin/gold_linux_64\" \"/home/benoit/bioactive_conformation_predictor/gold_docking_postprocessing/350/api_gold.conf\"\n",
      "\n",
      "Starting GOLD with conf file /home/benoit/bioactive_conformation_predictor/gold_docking_postprocessing/420/api_gold.conf\n",
      "Starting GOLD with conf file /home/benoit/bioactive_conformation_predictor/gold_docking_postprocessing/447/api_gold.conf\n",
      "Setting up GOLD environment...\n",
      "GOLD Version 2021.2.0\n",
      "Running:\n",
      " \n",
      "     \"/home/benoit/CCDC/Discovery_2021/GOLD/gold/d_linux_64/bin/gold_linux_64\" \"/home/benoit/bioactive_conformation_predictor/gold_docking_postprocessing/420/api_gold.conf\"\n",
      "\n",
      "Setting up GOLD environment...\n",
      "GOLD Version 2021.2.0\n",
      "Running:\n",
      " \n",
      "     \"/home/benoit/CCDC/Discovery_2021/GOLD/gold/d_linux_64/bin/gold_linux_64\" \"/home/benoit/bioactive_conformation_predictor/gold_docking_postprocessing/447/api_gold.conf\"\n",
      "\n",
      "0\n",
      "Starting GOLD with conf file /home/benoit/bioactive_conformation_predictor/gold_docking_postprocessing/518/api_gold.conf\n",
      "Setting up GOLD environment...\n",
      "GOLD Version 2021.2.0\n",
      "Running:\n",
      " \n",
      "     \"/home/benoit/CCDC/Discovery_2021/GOLD/gold/d_linux_64/bin/gold_linux_64\" \"/home/benoit/bioactive_conformation_predictor/gold_docking_postprocessing/518/api_gold.conf\"\n",
      "\n",
      "0\n",
      "0\n",
      "0\n",
      "Starting GOLD with conf file /home/benoit/bioactive_conformation_predictor/gold_docking_postprocessing/307/api_gold.conf\n",
      "Setting up GOLD environment...\n",
      "GOLD Version 2021.2.0\n",
      "Running:\n",
      " \n",
      "     \"/home/benoit/CCDC/Discovery_2021/GOLD/gold/d_linux_64/bin/gold_linux_64\" \"/home/benoit/bioactive_conformation_predictor/gold_docking_postprocessing/307/api_gold.conf\"\n",
      "\n",
      "Starting GOLD with conf file /home/benoit/bioactive_conformation_predictor/gold_docking_postprocessing/421/api_gold.conf\n",
      "Setting up GOLD environment...\n",
      "GOLD Version 2021.2.0\n",
      "Running:\n",
      " \n",
      "     \"/home/benoit/CCDC/Discovery_2021/GOLD/gold/d_linux_64/bin/gold_linux_64\" \"/home/benoit/bioactive_conformation_predictor/gold_docking_postprocessing/421/api_gold.conf\"\n",
      "\n"
     ]
    },
    {
     "name": "stderr",
     "output_type": "stream",
     "text": [
      "RDKit WARNING: [17:06:46] unknown|447|mol2|1|dock23: warning - O.co2 with non C.2 or S.o2 neighbor.\n",
      "RDKit WARNING: [17:06:46] unknown|447|mol2|1|dock72: warning - O.co2 with non C.2 or S.o2 neighbor.\n",
      "[17:06:46] unknown|447|mol2|1|dock23: warning - O.co2 with non C.2 or S.o2 neighbor.\n",
      "[17:06:46] unknown|447|mol2|1|dock72: warning - O.co2 with non C.2 or S.o2 neighbor.\n",
      "RDKit WARNING: [17:06:47] unknown|447|mol2|1|dock72: warning - O.co2 with non C.2 or S.o2 neighbor.\n",
      "RDKit WARNING: [17:06:47] unknown|447|mol2|1|dock38: warning - O.co2 with non C.2 or S.o2 neighbor.\n",
      "[17:06:47] unknown|447|mol2|1|dock72: warning - O.co2 with non C.2 or S.o2 neighbor.\n",
      "[17:06:47] unknown|447|mol2|1|dock38: warning - O.co2 with non C.2 or S.o2 neighbor.\n",
      "RDKit WARNING: [17:06:47] unknown|447|mol2|1|dock4: warning - O.co2 with non C.2 or S.o2 neighbor.\n",
      "RDKit WARNING: [17:06:47] unknown|447|mol2|1|dock52: warning - O.co2 with non C.2 or S.o2 neighbor.\n"
     ]
    },
    {
     "name": "stdout",
     "output_type": "stream",
     "text": [
      "Starting GOLD with conf file /home/benoit/bioactive_conformation_predictor/gold_docking_postprocessing/448/api_gold.conf\n"
     ]
    },
    {
     "name": "stderr",
     "output_type": "stream",
     "text": [
      "[17:06:47] unknown|447|mol2|1|dock4: warning - O.co2 with non C.2 or S.o2 neighbor.\n",
      "[17:06:47] unknown|447|mol2|1|dock52: warning - O.co2 with non C.2 or S.o2 neighbor.\n"
     ]
    },
    {
     "name": "stdout",
     "output_type": "stream",
     "text": [
      "Setting up GOLD environment...\n",
      "GOLD Version 2021.2.0\n",
      "Running:\n",
      " \n",
      "     \"/home/benoit/CCDC/Discovery_2021/GOLD/gold/d_linux_64/bin/gold_linux_64\" \"/home/benoit/bioactive_conformation_predictor/gold_docking_postprocessing/448/api_gold.conf\"\n",
      "\n",
      "0\n",
      "0\n",
      "0\n",
      "Starting GOLD with conf file /home/benoit/bioactive_conformation_predictor/gold_docking_postprocessing/351/api_gold.conf\n",
      "Setting up GOLD environment...\n",
      "GOLD Version 2021.2.0\n",
      "Running:\n",
      " \n",
      "     \"/home/benoit/CCDC/Discovery_2021/GOLD/gold/d_linux_64/bin/gold_linux_64\" \"/home/benoit/bioactive_conformation_predictor/gold_docking_postprocessing/351/api_gold.conf\"\n",
      "\n",
      "Starting GOLD with conf file /home/benoit/bioactive_conformation_predictor/gold_docking_postprocessing/308/api_gold.conf\n",
      "Setting up GOLD environment...\n",
      "GOLD Version 2021.2.0\n",
      "Running:\n",
      " \n",
      "     \"/home/benoit/CCDC/Discovery_2021/GOLD/gold/d_linux_64/bin/gold_linux_64\" \"/home/benoit/bioactive_conformation_predictor/gold_docking_postprocessing/308/api_gold.conf\"\n",
      "\n"
     ]
    },
    {
     "name": "stderr",
     "output_type": "stream",
     "text": [
      "RDKit WARNING: [17:06:53] unknown|470|mol2|1|dock9: warning - O.co2 with non C.2 or S.o2 neighbor.\n",
      "RDKit WARNING: [17:06:53] unknown|470|mol2|1|dock4: warning - O.co2 with non C.2 or S.o2 neighbor.\n",
      "[17:06:53] unknown|470|mol2|1|dock9: warning - O.co2 with non C.2 or S.o2 neighbor.\n",
      "[17:06:53] unknown|470|mol2|1|dock4: warning - O.co2 with non C.2 or S.o2 neighbor.\n",
      "RDKit WARNING: [17:06:53] unknown|470|mol2|1|dock9: warning - O.co2 with non C.2 or S.o2 neighbor.\n",
      "RDKit WARNING: [17:06:53] unknown|470|mol2|1|dock4: warning - O.co2 with non C.2 or S.o2 neighbor.\n",
      "[17:06:53] unknown|470|mol2|1|dock9: warning - O.co2 with non C.2 or S.o2 neighbor.\n",
      "[17:06:53] unknown|470|mol2|1|dock4: warning - O.co2 with non C.2 or S.o2 neighbor.\n"
     ]
    },
    {
     "name": "stdout",
     "output_type": "stream",
     "text": [
      "0\n"
     ]
    },
    {
     "name": "stderr",
     "output_type": "stream",
     "text": [
      "RDKit WARNING: [17:06:54] unknown|470|mol2|1|dock68: warning - O.co2 with non C.2 or S.o2 neighbor.\n",
      "RDKit WARNING: [17:06:54] unknown|470|mol2|1|dock4: warning - O.co2 with non C.2 or S.o2 neighbor.\n"
     ]
    },
    {
     "name": "stdout",
     "output_type": "stream",
     "text": [
      "Starting GOLD with conf file /home/benoit/bioactive_conformation_predictor/gold_docking_postprocessing/471/api_gold.conf\n"
     ]
    },
    {
     "name": "stderr",
     "output_type": "stream",
     "text": [
      "[17:06:54] unknown|470|mol2|1|dock68: warning - O.co2 with non C.2 or S.o2 neighbor.\n",
      "[17:06:54] unknown|470|mol2|1|dock4: warning - O.co2 with non C.2 or S.o2 neighbor.\n"
     ]
    },
    {
     "name": "stdout",
     "output_type": "stream",
     "text": [
      "Setting up GOLD environment...\n",
      "GOLD Version 2021.2.0\n",
      "Running:\n",
      " \n",
      "     \"/home/benoit/CCDC/Discovery_2021/GOLD/gold/d_linux_64/bin/gold_linux_64\" \"/home/benoit/bioactive_conformation_predictor/gold_docking_postprocessing/471/api_gold.conf\"\n",
      "\n",
      "0\n",
      "0\n",
      "Starting GOLD with conf file /home/benoit/bioactive_conformation_predictor/gold_docking_postprocessing/539/api_gold.conf\n"
     ]
    },
    {
     "name": "stderr",
     "output_type": "stream",
     "text": [
      "RDKit WARNING: [17:06:58] unknown|398|mol2|1|dock23: warning - O.co2 with non C.2 or S.o2 neighbor.\n",
      "RDKit WARNING: [17:06:58] unknown|398|mol2|1|dock75: warning - O.co2 with non C.2 or S.o2 neighbor.\n"
     ]
    },
    {
     "name": "stdout",
     "output_type": "stream",
     "text": [
      "Setting up GOLD environment...\n",
      "GOLD Version 2021.2.0\n",
      "Running:\n",
      " \n",
      "     \"/home/benoit/CCDC/Discovery_2021/GOLD/gold/d_linux_64/bin/gold_linux_64\" \"/home/benoit/bioactive_conformation_predictor/gold_docking_postprocessing/539/api_gold.conf\"\n",
      "\n"
     ]
    },
    {
     "name": "stderr",
     "output_type": "stream",
     "text": [
      "[17:06:58] unknown|398|mol2|1|dock23: warning - O.co2 with non C.2 or S.o2 neighbor.\n",
      "[17:06:58] unknown|398|mol2|1|dock75: warning - O.co2 with non C.2 or S.o2 neighbor.\n",
      "RDKit WARNING: [17:06:59] unknown|398|mol2|1|dock23: warning - O.co2 with non C.2 or S.o2 neighbor.\n",
      "RDKit WARNING: [17:06:59] unknown|398|mol2|1|dock75: warning - O.co2 with non C.2 or S.o2 neighbor.\n"
     ]
    },
    {
     "name": "stdout",
     "output_type": "stream",
     "text": [
      "Starting GOLD with conf file /home/benoit/bioactive_conformation_predictor/gold_docking_postprocessing/422/api_gold.conf\n"
     ]
    },
    {
     "name": "stderr",
     "output_type": "stream",
     "text": [
      "[17:06:59] unknown|398|mol2|1|dock23: warning - O.co2 with non C.2 or S.o2 neighbor.\n",
      "[17:06:59] unknown|398|mol2|1|dock75: warning - O.co2 with non C.2 or S.o2 neighbor.\n",
      "RDKit WARNING: [17:06:59] unknown|398|mol2|1|dock23: warning - O.co2 with non C.2 or S.o2 neighbor.\n",
      "RDKit WARNING: [17:06:59] unknown|398|mol2|1|dock45: warning - O.co2 with non C.2 or S.o2 neighbor.\n"
     ]
    },
    {
     "name": "stdout",
     "output_type": "stream",
     "text": [
      "Setting up GOLD environment...\n",
      "GOLD Version 2021.2.0\n",
      "Running:\n",
      " \n",
      "     \"/home/benoit/CCDC/Discovery_2021/GOLD/gold/d_linux_64/bin/gold_linux_64\" \"/home/benoit/bioactive_conformation_predictor/gold_docking_postprocessing/422/api_gold.conf\"\n",
      "\n",
      "Starting GOLD with conf file /home/benoit/bioactive_conformation_predictor/gold_docking_postprocessing/399/api_gold.conf\n"
     ]
    },
    {
     "name": "stderr",
     "output_type": "stream",
     "text": [
      "[17:06:59] unknown|398|mol2|1|dock23: warning - O.co2 with non C.2 or S.o2 neighbor.\n",
      "[17:06:59] unknown|398|mol2|1|dock45: warning - O.co2 with non C.2 or S.o2 neighbor.\n"
     ]
    },
    {
     "name": "stdout",
     "output_type": "stream",
     "text": [
      "Setting up GOLD environment...\n",
      "GOLD Version 2021.2.0\n",
      "Running:\n",
      " \n",
      "     \"/home/benoit/CCDC/Discovery_2021/GOLD/gold/d_linux_64/bin/gold_linux_64\" \"/home/benoit/bioactive_conformation_predictor/gold_docking_postprocessing/399/api_gold.conf\"\n",
      "\n",
      "0\n",
      "0\n",
      "0\n",
      "Starting GOLD with conf file /home/benoit/bioactive_conformation_predictor/gold_docking_postprocessing/449/api_gold.conf\n",
      "0\n",
      "Setting up GOLD environment...\n",
      "GOLD Version 2021.2.0\n",
      "Running:\n",
      " \n",
      "     \"/home/benoit/CCDC/Discovery_2021/GOLD/gold/d_linux_64/bin/gold_linux_64\" \"/home/benoit/bioactive_conformation_predictor/gold_docking_postprocessing/449/api_gold.conf\"\n",
      "\n",
      "0\n",
      "Starting GOLD with conf file /home/benoit/bioactive_conformation_predictor/gold_docking_postprocessing/380/api_gold.conf\n",
      "Setting up GOLD environment...\n",
      "GOLD Version 2021.2.0\n",
      "Running:\n",
      " \n",
      "     \"/home/benoit/CCDC/Discovery_2021/GOLD/gold/d_linux_64/bin/gold_linux_64\" \"/home/benoit/bioactive_conformation_predictor/gold_docking_postprocessing/380/api_gold.conf\"\n",
      "\n",
      "0\n",
      "0\n",
      "Starting GOLD with conf file /home/benoit/bioactive_conformation_predictor/gold_docking_postprocessing/519/api_gold.conf\n",
      "Setting up GOLD environment...\n",
      "GOLD Version 2021.2.0\n",
      "Running:\n",
      " \n",
      "     \"/home/benoit/CCDC/Discovery_2021/GOLD/gold/d_linux_64/bin/gold_linux_64\" \"/home/benoit/bioactive_conformation_predictor/gold_docking_postprocessing/519/api_gold.conf\"\n",
      "\n",
      "0\n"
     ]
    },
    {
     "name": "stderr",
     "output_type": "stream",
     "text": [
      "RDKit WARNING: [17:07:07] unknown|490|mol2|1|dock63: warning - O.co2 with non C.2 or S.o2 neighbor.\n",
      "RDKit WARNING: [17:07:07] unknown|490|mol2|1|dock65: warning - O.co2 with non C.2 or S.o2 neighbor.\n",
      "[17:07:07] unknown|490|mol2|1|dock63: warning - O.co2 with non C.2 or S.o2 neighbor.\n",
      "[17:07:07] unknown|490|mol2|1|dock65: warning - O.co2 with non C.2 or S.o2 neighbor.\n"
     ]
    },
    {
     "name": "stdout",
     "output_type": "stream",
     "text": [
      "0\n"
     ]
    },
    {
     "name": "stderr",
     "output_type": "stream",
     "text": [
      "RDKit WARNING: [17:07:08] unknown|490|mol2|1|dock53: warning - O.co2 with non C.2 or S.o2 neighbor.\n",
      "RDKit WARNING: [17:07:08] unknown|490|mol2|1|dock89: warning - O.co2 with non C.2 or S.o2 neighbor.\n"
     ]
    },
    {
     "name": "stdout",
     "output_type": "stream",
     "text": [
      "0\n",
      "Error with smiles ClCCCl\n",
      "Error: could not find any GOLD solution files using conf file /home/benoit/bioactive_conformation_predictor/gold_docking_postprocessing/519/api_gold.conf\n",
      "Starting GOLD with conf file /home/benoit/bioactive_conformation_predictor/gold_docking_postprocessing/352/api_gold.conf\n"
     ]
    },
    {
     "name": "stderr",
     "output_type": "stream",
     "text": [
      "[17:07:08] unknown|490|mol2|1|dock53: warning - O.co2 with non C.2 or S.o2 neighbor.\n",
      "[17:07:08] unknown|490|mol2|1|dock89: warning - O.co2 with non C.2 or S.o2 neighbor.\n"
     ]
    },
    {
     "name": "stdout",
     "output_type": "stream",
     "text": [
      "Starting GOLD with conf file /home/benoit/bioactive_conformation_predictor/gold_docking_postprocessing/520/api_gold.conf\n",
      "Starting GOLD with conf file /home/benoit/bioactive_conformation_predictor/gold_docking_postprocessing/400/api_gold.conf\n",
      "Setting up GOLD environment...\n",
      "GOLD Version 2021.2.0\n",
      "Running:\n",
      " \n",
      "     \"/home/benoit/CCDC/Discovery_2021/GOLD/gold/d_linux_64/bin/gold_linux_64\" \"/home/benoit/bioactive_conformation_predictor/gold_docking_postprocessing/352/api_gold.conf\"\n",
      "\n",
      "Setting up GOLD environment...\n",
      "GOLD Version 2021.2.0\n",
      "Running:\n",
      " \n",
      "     \"/home/benoit/CCDC/Discovery_2021/GOLD/gold/d_linux_64/bin/gold_linux_64\" \"/home/benoit/bioactive_conformation_predictor/gold_docking_postprocessing/520/api_gold.conf\"\n",
      "\n",
      "Setting up GOLD environment...\n",
      "GOLD Version 2021.2.0\n",
      "Running:\n",
      " \n",
      "     \"/home/benoit/CCDC/Discovery_2021/GOLD/gold/d_linux_64/bin/gold_linux_64\" \"/home/benoit/bioactive_conformation_predictor/gold_docking_postprocessing/400/api_gold.conf\"\n",
      "\n"
     ]
    },
    {
     "name": "stderr",
     "output_type": "stream",
     "text": [
      "RDKit WARNING: [17:07:08] unknown|490|mol2|1|dock84: warning - O.co2 with non C.2 or S.o2 neighbor.\n",
      "RDKit WARNING: [17:07:08] unknown|490|mol2|1|dock65: warning - O.co2 with non C.2 or S.o2 neighbor.\n",
      "[17:07:08] unknown|490|mol2|1|dock84: warning - O.co2 with non C.2 or S.o2 neighbor.\n",
      "[17:07:08] unknown|490|mol2|1|dock65: warning - O.co2 with non C.2 or S.o2 neighbor.\n"
     ]
    },
    {
     "name": "stdout",
     "output_type": "stream",
     "text": [
      "Starting GOLD with conf file /home/benoit/bioactive_conformation_predictor/gold_docking_postprocessing/491/api_gold.conf\n",
      "Setting up GOLD environment...\n",
      "GOLD Version 2021.2.0\n",
      "Running:\n",
      " \n",
      "     \"/home/benoit/CCDC/Discovery_2021/GOLD/gold/d_linux_64/bin/gold_linux_64\" \"/home/benoit/bioactive_conformation_predictor/gold_docking_postprocessing/491/api_gold.conf\"\n",
      "\n",
      "0\n",
      "Starting GOLD with conf file /home/benoit/bioactive_conformation_predictor/gold_docking_postprocessing/540/api_gold.conf\n",
      "Setting up GOLD environment...\n",
      "GOLD Version 2021.2.0\n",
      "Running:\n",
      " \n",
      "     \"/home/benoit/CCDC/Discovery_2021/GOLD/gold/d_linux_64/bin/gold_linux_64\" \"/home/benoit/bioactive_conformation_predictor/gold_docking_postprocessing/540/api_gold.conf\"\n",
      "\n",
      "Starting GOLD with conf file /home/benoit/bioactive_conformation_predictor/gold_docking_postprocessing/309/api_gold.conf\n",
      "Setting up GOLD environment...\n",
      "GOLD Version 2021.2.0\n",
      "Running:\n",
      " \n",
      "     \"/home/benoit/CCDC/Discovery_2021/GOLD/gold/d_linux_64/bin/gold_linux_64\" \"/home/benoit/bioactive_conformation_predictor/gold_docking_postprocessing/309/api_gold.conf\"\n",
      "\n",
      "Starting GOLD with conf file /home/benoit/bioactive_conformation_predictor/gold_docking_postprocessing/329/api_gold.conf\n",
      "0\n",
      "Setting up GOLD environment...\n",
      "GOLD Version 2021.2.0\n",
      "Running:\n",
      " \n",
      "     \"/home/benoit/CCDC/Discovery_2021/GOLD/gold/d_linux_64/bin/gold_linux_64\" \"/home/benoit/bioactive_conformation_predictor/gold_docking_postprocessing/329/api_gold.conf\"\n",
      "\n",
      "Starting GOLD with conf file /home/benoit/bioactive_conformation_predictor/gold_docking_postprocessing/423/api_gold.conf\n",
      "Setting up GOLD environment...\n",
      "GOLD Version 2021.2.0\n",
      "Running:\n",
      " \n",
      "     \"/home/benoit/CCDC/Discovery_2021/GOLD/gold/d_linux_64/bin/gold_linux_64\" \"/home/benoit/bioactive_conformation_predictor/gold_docking_postprocessing/423/api_gold.conf\"\n",
      "\n",
      "0\n",
      "Starting GOLD with conf file /home/benoit/bioactive_conformation_predictor/gold_docking_postprocessing/472/api_gold.conf\n",
      "Setting up GOLD environment...\n",
      "GOLD Version 2021.2.0\n",
      "Running:\n",
      " \n",
      "     \"/home/benoit/CCDC/Discovery_2021/GOLD/gold/d_linux_64/bin/gold_linux_64\" \"/home/benoit/bioactive_conformation_predictor/gold_docking_postprocessing/472/api_gold.conf\"\n",
      "\n",
      "0\n",
      "Starting GOLD with conf file /home/benoit/bioactive_conformation_predictor/gold_docking_postprocessing/381/api_gold.conf\n",
      "Setting up GOLD environment...\n",
      "GOLD Version 2021.2.0\n",
      "Running:\n",
      " \n",
      "     \"/home/benoit/CCDC/Discovery_2021/GOLD/gold/d_linux_64/bin/gold_linux_64\" \"/home/benoit/bioactive_conformation_predictor/gold_docking_postprocessing/381/api_gold.conf\"\n",
      "\n",
      "0\n",
      "Starting GOLD with conf file /home/benoit/bioactive_conformation_predictor/gold_docking_postprocessing/450/api_gold.conf\n",
      "Setting up GOLD environment...\n",
      "GOLD Version 2021.2.0\n",
      "Running:\n",
      " \n",
      "     \"/home/benoit/CCDC/Discovery_2021/GOLD/gold/d_linux_64/bin/gold_linux_64\" \"/home/benoit/bioactive_conformation_predictor/gold_docking_postprocessing/450/api_gold.conf\"\n",
      "\n",
      "Starting GOLD with conf file /home/benoit/bioactive_conformation_predictor/gold_docking_postprocessing/492/api_gold.conf\n",
      "Setting up GOLD environment...\n",
      "GOLD Version 2021.2.0\n",
      "Running:\n",
      " \n",
      "     \"/home/benoit/CCDC/Discovery_2021/GOLD/gold/d_linux_64/bin/gold_linux_64\" \"/home/benoit/bioactive_conformation_predictor/gold_docking_postprocessing/492/api_gold.conf\"\n",
      "\n",
      "0\n",
      "Starting GOLD with conf file /home/benoit/bioactive_conformation_predictor/gold_docking_postprocessing/541/api_gold.conf\n",
      "0\n",
      "Setting up GOLD environment...\n",
      "GOLD Version 2021.2.0\n",
      "Running:\n",
      " \n",
      "     \"/home/benoit/CCDC/Discovery_2021/GOLD/gold/d_linux_64/bin/gold_linux_64\" \"/home/benoit/bioactive_conformation_predictor/gold_docking_postprocessing/541/api_gold.conf\"\n",
      "\n",
      "0\n"
     ]
    },
    {
     "name": "stderr",
     "output_type": "stream",
     "text": [
      "RDKit WARNING: [17:07:27] unknown|309|mol2|1|dock97: warning - O.co2 with non C.2 or S.o2 neighbor.\n",
      "RDKit WARNING: [17:07:27] unknown|309|mol2|1|dock36: warning - O.co2 with non C.2 or S.o2 neighbor.\n",
      "[17:07:27] unknown|309|mol2|1|dock97: warning - O.co2 with non C.2 or S.o2 neighbor.\n",
      "[17:07:27] unknown|309|mol2|1|dock36: warning - O.co2 with non C.2 or S.o2 neighbor.\n"
     ]
    },
    {
     "name": "stdout",
     "output_type": "stream",
     "text": [
      "0\n"
     ]
    },
    {
     "name": "stderr",
     "output_type": "stream",
     "text": [
      "RDKit WARNING: [17:07:27] unknown|309|mol2|1|dock5: warning - O.co2 with non C.2 or S.o2 neighbor.\n",
      "RDKit WARNING: [17:07:27] unknown|309|mol2|1|dock44: warning - O.co2 with non C.2 or S.o2 neighbor.\n"
     ]
    },
    {
     "name": "stdout",
     "output_type": "stream",
     "text": [
      "0\n"
     ]
    },
    {
     "name": "stderr",
     "output_type": "stream",
     "text": [
      "[17:07:27] unknown|309|mol2|1|dock5: warning - O.co2 with non C.2 or S.o2 neighbor.\n",
      "[17:07:27] unknown|309|mol2|1|dock44: warning - O.co2 with non C.2 or S.o2 neighbor.\n",
      "RDKit WARNING: [17:07:27] unknown|309|mol2|1|dock97: warning - O.co2 with non C.2 or S.o2 neighbor.\n",
      "RDKit WARNING: [17:07:27] unknown|309|mol2|1|dock60: warning - O.co2 with non C.2 or S.o2 neighbor.\n"
     ]
    },
    {
     "name": "stdout",
     "output_type": "stream",
     "text": [
      "Starting GOLD with conf file /home/benoit/bioactive_conformation_predictor/gold_docking_postprocessing/451/api_gold.conf\n",
      "Starting GOLD with conf file /home/benoit/bioactive_conformation_predictor/gold_docking_postprocessing/310/api_gold.conf\n"
     ]
    },
    {
     "name": "stderr",
     "output_type": "stream",
     "text": [
      "[17:07:27] unknown|309|mol2|1|dock97: warning - O.co2 with non C.2 or S.o2 neighbor.\n",
      "[17:07:27] unknown|309|mol2|1|dock60: warning - O.co2 with non C.2 or S.o2 neighbor.\n"
     ]
    },
    {
     "name": "stdout",
     "output_type": "stream",
     "text": [
      "Setting up GOLD environment...\n",
      "GOLD Version 2021.2.0\n",
      "Setting up GOLD environment...\n",
      "Running:\n",
      " \n",
      "     \"/home/benoit/CCDC/Discovery_2021/GOLD/gold/d_linux_64/bin/gold_linux_64\" \"/home/benoit/bioactive_conformation_predictor/gold_docking_postprocessing/451/api_gold.conf\"\n",
      "\n",
      "GOLD Version 2021.2.0\n",
      "Running:\n",
      " \n",
      "     \"/home/benoit/CCDC/Discovery_2021/GOLD/gold/d_linux_64/bin/gold_linux_64\" \"/home/benoit/bioactive_conformation_predictor/gold_docking_postprocessing/310/api_gold.conf\"\n",
      "\n"
     ]
    },
    {
     "name": "stderr",
     "output_type": "stream",
     "text": [
      "RDKit WARNING: [17:07:30] unknown|520|mol2|1|dock11: warning - O.co2 with non C.2 or S.o2 neighbor.\n",
      "RDKit WARNING: [17:07:30] unknown|520|mol2|1|dock58: warning - O.co2 with non C.2 or S.o2 neighbor.\n",
      "[17:07:30] unknown|520|mol2|1|dock11: warning - O.co2 with non C.2 or S.o2 neighbor.\n",
      "[17:07:30] unknown|520|mol2|1|dock58: warning - O.co2 with non C.2 or S.o2 neighbor.\n"
     ]
    },
    {
     "name": "stdout",
     "output_type": "stream",
     "text": [
      "0\n"
     ]
    },
    {
     "name": "stderr",
     "output_type": "stream",
     "text": [
      "RDKit WARNING: [17:07:30] unknown|520|mol2|1|dock22: warning - O.co2 with non C.2 or S.o2 neighbor.\n",
      "RDKit WARNING: [17:07:30] unknown|520|mol2|1|dock1: warning - O.co2 with non C.2 or S.o2 neighbor.\n"
     ]
    },
    {
     "name": "stdout",
     "output_type": "stream",
     "text": [
      "Starting GOLD with conf file /home/benoit/bioactive_conformation_predictor/gold_docking_postprocessing/353/api_gold.conf\n"
     ]
    },
    {
     "name": "stderr",
     "output_type": "stream",
     "text": [
      "[17:07:30] unknown|520|mol2|1|dock22: warning - O.co2 with non C.2 or S.o2 neighbor.\n",
      "[17:07:30] unknown|520|mol2|1|dock1: warning - O.co2 with non C.2 or S.o2 neighbor.\n"
     ]
    },
    {
     "name": "stdout",
     "output_type": "stream",
     "text": [
      "Setting up GOLD environment...\n",
      "GOLD Version 2021.2.0\n",
      "Running:\n",
      " \n",
      "     \"/home/benoit/CCDC/Discovery_2021/GOLD/gold/d_linux_64/bin/gold_linux_64\" \"/home/benoit/bioactive_conformation_predictor/gold_docking_postprocessing/353/api_gold.conf\"\n",
      "\n"
     ]
    },
    {
     "name": "stderr",
     "output_type": "stream",
     "text": [
      "RDKit WARNING: [17:07:30] unknown|520|mol2|1|dock22: warning - O.co2 with non C.2 or S.o2 neighbor.\n",
      "RDKit WARNING: [17:07:30] unknown|520|mol2|1|dock91: warning - O.co2 with non C.2 or S.o2 neighbor.\n"
     ]
    },
    {
     "name": "stdout",
     "output_type": "stream",
     "text": [
      "Starting GOLD with conf file /home/benoit/bioactive_conformation_predictor/gold_docking_postprocessing/521/api_gold.conf\n"
     ]
    },
    {
     "name": "stderr",
     "output_type": "stream",
     "text": [
      "[17:07:30] unknown|520|mol2|1|dock22: warning - O.co2 with non C.2 or S.o2 neighbor.\n",
      "[17:07:30] unknown|520|mol2|1|dock91: warning - O.co2 with non C.2 or S.o2 neighbor.\n"
     ]
    },
    {
     "name": "stdout",
     "output_type": "stream",
     "text": [
      "Setting up GOLD environment...\n",
      "GOLD Version 2021.2.0\n",
      "Running:\n",
      " \n",
      "     \"/home/benoit/CCDC/Discovery_2021/GOLD/gold/d_linux_64/bin/gold_linux_64\" \"/home/benoit/bioactive_conformation_predictor/gold_docking_postprocessing/521/api_gold.conf\"\n",
      "\n",
      "0\n",
      "Starting GOLD with conf file /home/benoit/bioactive_conformation_predictor/gold_docking_postprocessing/401/api_gold.conf\n"
     ]
    },
    {
     "name": "stderr",
     "output_type": "stream",
     "text": [
      "RDKit WARNING: [17:07:33] unknown|329|mol2|1|dock92: warning - O.co2 with non C.2 or S.o2 neighbor.\n",
      "RDKit WARNING: [17:07:33] unknown|329|mol2|1|dock88: warning - O.co2 with non C.2 or S.o2 neighbor.\n"
     ]
    },
    {
     "name": "stdout",
     "output_type": "stream",
     "text": [
      "Setting up GOLD environment...\n",
      "GOLD Version 2021.2.0\n",
      "Running:\n",
      " \n",
      "     \"/home/benoit/CCDC/Discovery_2021/GOLD/gold/d_linux_64/bin/gold_linux_64\" \"/home/benoit/bioactive_conformation_predictor/gold_docking_postprocessing/401/api_gold.conf\"\n",
      "\n"
     ]
    },
    {
     "name": "stderr",
     "output_type": "stream",
     "text": [
      "[17:07:33] unknown|329|mol2|1|dock92: warning - O.co2 with non C.2 or S.o2 neighbor.\n",
      "[17:07:33] unknown|329|mol2|1|dock88: warning - O.co2 with non C.2 or S.o2 neighbor.\n",
      "RDKit WARNING: [17:07:33] unknown|329|mol2|1|dock72: warning - O.co2 with non C.2 or S.o2 neighbor.\n",
      "RDKit WARNING: [17:07:33] unknown|329|mol2|1|dock55: warning - O.co2 with non C.2 or S.o2 neighbor.\n",
      "[17:07:33] unknown|329|mol2|1|dock72: warning - O.co2 with non C.2 or S.o2 neighbor.\n",
      "[17:07:33] unknown|329|mol2|1|dock55: warning - O.co2 with non C.2 or S.o2 neighbor.\n",
      "RDKit WARNING: [17:07:34] unknown|329|mol2|1|dock72: warning - O.co2 with non C.2 or S.o2 neighbor.\n",
      "RDKit WARNING: [17:07:34] unknown|329|mol2|1|dock55: warning - O.co2 with non C.2 or S.o2 neighbor.\n"
     ]
    },
    {
     "name": "stdout",
     "output_type": "stream",
     "text": [
      "Starting GOLD with conf file /home/benoit/bioactive_conformation_predictor/gold_docking_postprocessing/330/api_gold.conf\n"
     ]
    },
    {
     "name": "stderr",
     "output_type": "stream",
     "text": [
      "[17:07:34] unknown|329|mol2|1|dock72: warning - O.co2 with non C.2 or S.o2 neighbor.\n",
      "[17:07:34] unknown|329|mol2|1|dock55: warning - O.co2 with non C.2 or S.o2 neighbor.\n"
     ]
    },
    {
     "name": "stdout",
     "output_type": "stream",
     "text": [
      "Setting up GOLD environment...\n",
      "GOLD Version 2021.2.0\n",
      "Running:\n",
      " \n",
      "     \"/home/benoit/CCDC/Discovery_2021/GOLD/gold/d_linux_64/bin/gold_linux_64\" \"/home/benoit/bioactive_conformation_predictor/gold_docking_postprocessing/330/api_gold.conf\"\n",
      "\n",
      "0\n",
      "0\n",
      "Starting GOLD with conf file /home/benoit/bioactive_conformation_predictor/gold_docking_postprocessing/493/api_gold.conf\n",
      "Setting up GOLD environment...\n",
      "GOLD Version 2021.2.0\n",
      "Running:\n",
      " \n",
      "     \"/home/benoit/CCDC/Discovery_2021/GOLD/gold/d_linux_64/bin/gold_linux_64\" \"/home/benoit/bioactive_conformation_predictor/gold_docking_postprocessing/493/api_gold.conf\"\n",
      "\n",
      "0\n",
      "Starting GOLD with conf file /home/benoit/bioactive_conformation_predictor/gold_docking_postprocessing/473/api_gold.conf\n",
      "Setting up GOLD environment...\n",
      "GOLD Version 2021.2.0\n",
      "Running:\n",
      " \n",
      "     \"/home/benoit/CCDC/Discovery_2021/GOLD/gold/d_linux_64/bin/gold_linux_64\" \"/home/benoit/bioactive_conformation_predictor/gold_docking_postprocessing/473/api_gold.conf\"\n",
      "\n",
      "Starting GOLD with conf file /home/benoit/bioactive_conformation_predictor/gold_docking_postprocessing/522/api_gold.conf\n",
      "0\n",
      "Setting up GOLD environment...\n",
      "GOLD Version 2021.2.0\n",
      "Running:\n",
      " \n",
      "     \"/home/benoit/CCDC/Discovery_2021/GOLD/gold/d_linux_64/bin/gold_linux_64\" \"/home/benoit/bioactive_conformation_predictor/gold_docking_postprocessing/522/api_gold.conf\"\n",
      "\n",
      "0\n",
      "Starting GOLD with conf file /home/benoit/bioactive_conformation_predictor/gold_docking_postprocessing/402/api_gold.conf\n",
      "Setting up GOLD environment...\n",
      "GOLD Version 2021.2.0\n",
      "Running:\n",
      " \n",
      "     \"/home/benoit/CCDC/Discovery_2021/GOLD/gold/d_linux_64/bin/gold_linux_64\" \"/home/benoit/bioactive_conformation_predictor/gold_docking_postprocessing/402/api_gold.conf\"\n",
      "\n",
      "0\n",
      "0\n",
      "Starting GOLD with conf file /home/benoit/bioactive_conformation_predictor/gold_docking_postprocessing/311/api_gold.conf\n",
      "Setting up GOLD environment...\n",
      "GOLD Version 2021.2.0\n",
      "Running:\n",
      " \n",
      "     \"/home/benoit/CCDC/Discovery_2021/GOLD/gold/d_linux_64/bin/gold_linux_64\" \"/home/benoit/bioactive_conformation_predictor/gold_docking_postprocessing/311/api_gold.conf\"\n",
      "\n"
     ]
    },
    {
     "name": "stderr",
     "output_type": "stream",
     "text": [
      "RDKit WARNING: [17:07:50] unknown|353|mol2|1|dock54: warning - O.co2 with non C.2 or S.o2 neighbor.\n",
      "RDKit WARNING: [17:07:50] unknown|353|mol2|1|dock53: warning - O.co2 with non C.2 or S.o2 neighbor.\n",
      "[17:07:50] unknown|353|mol2|1|dock54: warning - O.co2 with non C.2 or S.o2 neighbor.\n",
      "[17:07:50] unknown|353|mol2|1|dock53: warning - O.co2 with non C.2 or S.o2 neighbor.\n",
      "RDKit WARNING: [17:07:51] unknown|353|mol2|1|dock53: warning - O.co2 with non C.2 or S.o2 neighbor.\n",
      "RDKit WARNING: [17:07:51] unknown|353|mol2|1|dock53: warning - O.co2 with non C.2 or S.o2 neighbor.\n",
      "[17:07:51] unknown|353|mol2|1|dock53: warning - O.co2 with non C.2 or S.o2 neighbor.\n",
      "[17:07:51] unknown|353|mol2|1|dock53: warning - O.co2 with non C.2 or S.o2 neighbor.\n",
      "RDKit WARNING: [17:07:51] unknown|353|mol2|1|dock79: warning - O.co2 with non C.2 or S.o2 neighbor.\n",
      "RDKit WARNING: [17:07:51] unknown|353|mol2|1|dock65: warning - O.co2 with non C.2 or S.o2 neighbor.\n"
     ]
    },
    {
     "name": "stdout",
     "output_type": "stream",
     "text": [
      "Starting GOLD with conf file /home/benoit/bioactive_conformation_predictor/gold_docking_postprocessing/354/api_gold.conf\n"
     ]
    },
    {
     "name": "stderr",
     "output_type": "stream",
     "text": [
      "[17:07:51] unknown|353|mol2|1|dock79: warning - O.co2 with non C.2 or S.o2 neighbor.\n",
      "[17:07:51] unknown|353|mol2|1|dock65: warning - O.co2 with non C.2 or S.o2 neighbor.\n"
     ]
    },
    {
     "name": "stdout",
     "output_type": "stream",
     "text": [
      "Setting up GOLD environment...\n",
      "GOLD Version 2021.2.0\n",
      "Running:\n",
      " \n",
      "     \"/home/benoit/CCDC/Discovery_2021/GOLD/gold/d_linux_64/bin/gold_linux_64\" \"/home/benoit/bioactive_conformation_predictor/gold_docking_postprocessing/354/api_gold.conf\"\n",
      "\n",
      "Starting GOLD with conf file /home/benoit/bioactive_conformation_predictor/gold_docking_postprocessing/424/api_gold.conf\n",
      "Setting up GOLD environment...\n",
      "GOLD Version 2021.2.0\n",
      "Running:\n",
      " \n",
      "     \"/home/benoit/CCDC/Discovery_2021/GOLD/gold/d_linux_64/bin/gold_linux_64\" \"/home/benoit/bioactive_conformation_predictor/gold_docking_postprocessing/424/api_gold.conf\"\n",
      "\n",
      "0\n",
      "0\n",
      "Starting GOLD with conf file /home/benoit/bioactive_conformation_predictor/gold_docking_postprocessing/474/api_gold.conf\n",
      "Starting GOLD with conf file /home/benoit/bioactive_conformation_predictor/gold_docking_postprocessing/355/api_gold.conf\n",
      "Setting up GOLD environment...\n",
      "GOLD Version 2021.2.0\n",
      "Running:\n",
      " \n",
      "     \"/home/benoit/CCDC/Discovery_2021/GOLD/gold/d_linux_64/bin/gold_linux_64\" \"/home/benoit/bioactive_conformation_predictor/gold_docking_postprocessing/474/api_gold.conf\"\n",
      "\n",
      "Setting up GOLD environment...\n",
      "GOLD Version 2021.2.0\n",
      "Running:\n",
      " \n",
      "     \"/home/benoit/CCDC/Discovery_2021/GOLD/gold/d_linux_64/bin/gold_linux_64\" \"/home/benoit/bioactive_conformation_predictor/gold_docking_postprocessing/355/api_gold.conf\"\n",
      "\n",
      "0\n",
      "0\n"
     ]
    },
    {
     "name": "stderr",
     "output_type": "stream",
     "text": [
      "RDKit WARNING: [17:07:59] unknown|424|mol2|1|dock16: warning - O.co2 with non C.2 or S.o2 neighbor.\n",
      "RDKit WARNING: [17:07:59] unknown|424|mol2|1|dock99: warning - O.co2 with non C.2 or S.o2 neighbor.\n"
     ]
    },
    {
     "name": "stdout",
     "output_type": "stream",
     "text": [
      "0\n"
     ]
    },
    {
     "name": "stderr",
     "output_type": "stream",
     "text": [
      "RDKit WARNING: [17:07:59] unknown|424|mol2|1|dock16: warning - O.co2 with non C.2 or S.o2 neighbor.\n",
      "RDKit WARNING: [17:07:59] unknown|424|mol2|1|dock16: warning - O.co2 with non C.2 or S.o2 neighbor.\n",
      "[17:07:59] unknown|424|mol2|1|dock16: warning - O.co2 with non C.2 or S.o2 neighbor.\n",
      "[17:07:59] unknown|424|mol2|1|dock99: warning - O.co2 with non C.2 or S.o2 neighbor.\n",
      "[17:07:59] unknown|424|mol2|1|dock16: warning - O.co2 with non C.2 or S.o2 neighbor.\n",
      "[17:07:59] unknown|424|mol2|1|dock16: warning - O.co2 with non C.2 or S.o2 neighbor.\n",
      "RDKit WARNING: [17:07:59] unknown|424|mol2|1|dock16: warning - O.co2 with non C.2 or S.o2 neighbor.\n",
      "RDKit WARNING: [17:07:59] unknown|424|mol2|1|dock99: warning - O.co2 with non C.2 or S.o2 neighbor.\n"
     ]
    },
    {
     "name": "stdout",
     "output_type": "stream",
     "text": [
      "Starting GOLD with conf file /home/benoit/bioactive_conformation_predictor/gold_docking_postprocessing/425/api_gold.conf\n"
     ]
    },
    {
     "name": "stderr",
     "output_type": "stream",
     "text": [
      "[17:07:59] unknown|424|mol2|1|dock16: warning - O.co2 with non C.2 or S.o2 neighbor.\n",
      "[17:07:59] unknown|424|mol2|1|dock99: warning - O.co2 with non C.2 or S.o2 neighbor.\n"
     ]
    },
    {
     "name": "stdout",
     "output_type": "stream",
     "text": [
      "Setting up GOLD environment...\n",
      "GOLD Version 2021.2.0\n",
      "Running:\n",
      " \n",
      "     \"/home/benoit/CCDC/Discovery_2021/GOLD/gold/d_linux_64/bin/gold_linux_64\" \"/home/benoit/bioactive_conformation_predictor/gold_docking_postprocessing/425/api_gold.conf\"\n",
      "\n",
      "0\n",
      "Starting GOLD with conf file /home/benoit/bioactive_conformation_predictor/gold_docking_postprocessing/494/api_gold.conf\n",
      "Setting up GOLD environment...\n",
      "GOLD Version 2021.2.0\n",
      "Running:\n",
      " \n",
      "     \"/home/benoit/CCDC/Discovery_2021/GOLD/gold/d_linux_64/bin/gold_linux_64\" \"/home/benoit/bioactive_conformation_predictor/gold_docking_postprocessing/494/api_gold.conf\"\n",
      "\n",
      "Starting GOLD with conf file /home/benoit/bioactive_conformation_predictor/gold_docking_postprocessing/403/api_gold.conf\n",
      "Setting up GOLD environment...\n",
      "GOLD Version 2021.2.0\n",
      "Running:\n",
      " \n",
      "     \"/home/benoit/CCDC/Discovery_2021/GOLD/gold/d_linux_64/bin/gold_linux_64\" \"/home/benoit/bioactive_conformation_predictor/gold_docking_postprocessing/403/api_gold.conf\"\n",
      "\n",
      "Starting GOLD with conf file /home/benoit/bioactive_conformation_predictor/gold_docking_postprocessing/382/api_gold.conf\n",
      "0\n",
      "0\n",
      "Setting up GOLD environment...\n",
      "GOLD Version 2021.2.0\n",
      "Running:\n",
      " \n",
      "     \"/home/benoit/CCDC/Discovery_2021/GOLD/gold/d_linux_64/bin/gold_linux_64\" \"/home/benoit/bioactive_conformation_predictor/gold_docking_postprocessing/382/api_gold.conf\"\n",
      "\n",
      "0\n",
      "Starting GOLD with conf file /home/benoit/bioactive_conformation_predictor/gold_docking_postprocessing/356/api_gold.conf\n",
      "Starting GOLD with conf file /home/benoit/bioactive_conformation_predictor/gold_docking_postprocessing/475/api_gold.conf\n",
      "Setting up GOLD environment...\n",
      "GOLD Version 2021.2.0\n",
      "Running:\n",
      " \n",
      "     \"/home/benoit/CCDC/Discovery_2021/GOLD/gold/d_linux_64/bin/gold_linux_64\" \"/home/benoit/bioactive_conformation_predictor/gold_docking_postprocessing/356/api_gold.conf\"\n",
      "\n",
      "Setting up GOLD environment...\n",
      "GOLD Version 2021.2.0\n",
      "Running:\n",
      " \n",
      "     \"/home/benoit/CCDC/Discovery_2021/GOLD/gold/d_linux_64/bin/gold_linux_64\" \"/home/benoit/bioactive_conformation_predictor/gold_docking_postprocessing/475/api_gold.conf\"\n",
      "\n",
      "0\n",
      "Starting GOLD with conf file /home/benoit/bioactive_conformation_predictor/gold_docking_postprocessing/331/api_gold.conf\n",
      "Setting up GOLD environment...\n",
      "GOLD Version 2021.2.0\n",
      "Running:\n",
      " \n",
      "     \"/home/benoit/CCDC/Discovery_2021/GOLD/gold/d_linux_64/bin/gold_linux_64\" \"/home/benoit/bioactive_conformation_predictor/gold_docking_postprocessing/331/api_gold.conf\"\n",
      "\n",
      "Starting GOLD with conf file /home/benoit/bioactive_conformation_predictor/gold_docking_postprocessing/404/api_gold.conf\n",
      "Setting up GOLD environment...\n",
      "GOLD Version 2021.2.0\n",
      "Running:\n",
      " \n",
      "     \"/home/benoit/CCDC/Discovery_2021/GOLD/gold/d_linux_64/bin/gold_linux_64\" \"/home/benoit/bioactive_conformation_predictor/gold_docking_postprocessing/404/api_gold.conf\"\n",
      "\n",
      "0\n"
     ]
    },
    {
     "name": "stderr",
     "output_type": "stream",
     "text": [
      "RDKit WARNING: [17:08:13] unknown|356|mol2|1|dock5: warning - O.co2 with non C.2 or S.o2 neighbor.\n",
      "RDKit WARNING: [17:08:13] unknown|356|mol2|1|dock85: warning - O.co2 with non C.2 or S.o2 neighbor.\n",
      "RDKit WARNING: [17:08:13] unknown|356|mol2|1|dock97: warning - O.co2 with non C.2 or S.o2 neighbor.\n",
      "RDKit WARNING: [17:08:13] unknown|356|mol2|1|dock14: warning - O.co2 with non C.2 or S.o2 neighbor.\n",
      "[17:08:13] unknown|356|mol2|1|dock5: warning - O.co2 with non C.2 or S.o2 neighbor.\n",
      "[17:08:13] unknown|356|mol2|1|dock85: warning - O.co2 with non C.2 or S.o2 neighbor.\n",
      "[17:08:13] unknown|356|mol2|1|dock97: warning - O.co2 with non C.2 or S.o2 neighbor.\n",
      "[17:08:13] unknown|356|mol2|1|dock14: warning - O.co2 with non C.2 or S.o2 neighbor.\n",
      "RDKit WARNING: [17:08:13] unknown|356|mol2|1|dock45: warning - O.co2 with non C.2 or S.o2 neighbor.\n",
      "RDKit WARNING: [17:08:13] unknown|356|mol2|1|dock83: warning - O.co2 with non C.2 or S.o2 neighbor.\n"
     ]
    },
    {
     "name": "stdout",
     "output_type": "stream",
     "text": [
      "0\n",
      "Starting GOLD with conf file /home/benoit/bioactive_conformation_predictor/gold_docking_postprocessing/357/api_gold.conf\n",
      "0\n"
     ]
    },
    {
     "name": "stderr",
     "output_type": "stream",
     "text": [
      "[17:08:13] unknown|356|mol2|1|dock45: warning - O.co2 with non C.2 or S.o2 neighbor.\n",
      "[17:08:13] unknown|356|mol2|1|dock83: warning - O.co2 with non C.2 or S.o2 neighbor.\n"
     ]
    },
    {
     "name": "stdout",
     "output_type": "stream",
     "text": [
      "Setting up GOLD environment...\n",
      "GOLD Version 2021.2.0\n",
      "Running:\n",
      " \n",
      "     \"/home/benoit/CCDC/Discovery_2021/GOLD/gold/d_linux_64/bin/gold_linux_64\" \"/home/benoit/bioactive_conformation_predictor/gold_docking_postprocessing/357/api_gold.conf\"\n",
      "\n",
      "Starting GOLD with conf file /home/benoit/bioactive_conformation_predictor/gold_docking_postprocessing/332/api_gold.conf\n",
      "Setting up GOLD environment...\n",
      "GOLD Version 2021.2.0\n",
      "Running:\n",
      " \n",
      "     \"/home/benoit/CCDC/Discovery_2021/GOLD/gold/d_linux_64/bin/gold_linux_64\" \"/home/benoit/bioactive_conformation_predictor/gold_docking_postprocessing/332/api_gold.conf\"\n",
      "\n",
      "0\n",
      "0\n",
      "Starting GOLD with conf file /home/benoit/bioactive_conformation_predictor/gold_docking_postprocessing/426/api_gold.conf\n",
      "Starting GOLD with conf file /home/benoit/bioactive_conformation_predictor/gold_docking_postprocessing/452/api_gold.conf\n",
      "Setting up GOLD environment...\n",
      "GOLD Version 2021.2.0\n",
      "Running:\n",
      " \n",
      "     \"/home/benoit/CCDC/Discovery_2021/GOLD/gold/d_linux_64/bin/gold_linux_64\" \"/home/benoit/bioactive_conformation_predictor/gold_docking_postprocessing/426/api_gold.conf\"\n",
      "\n",
      "Setting up GOLD environment...\n",
      "GOLD Version 2021.2.0\n",
      "Running:\n",
      " \n",
      "     \"/home/benoit/CCDC/Discovery_2021/GOLD/gold/d_linux_64/bin/gold_linux_64\" \"/home/benoit/bioactive_conformation_predictor/gold_docking_postprocessing/452/api_gold.conf\"\n",
      "\n",
      "Starting GOLD with conf file /home/benoit/bioactive_conformation_predictor/gold_docking_postprocessing/495/api_gold.conf\n",
      "Setting up GOLD environment...\n",
      "GOLD Version 2021.2.0\n",
      "Running:\n",
      " \n",
      "     \"/home/benoit/CCDC/Discovery_2021/GOLD/gold/d_linux_64/bin/gold_linux_64\" \"/home/benoit/bioactive_conformation_predictor/gold_docking_postprocessing/495/api_gold.conf\"\n",
      "\n",
      "0\n",
      "0\n",
      "0\n"
     ]
    },
    {
     "name": "stderr",
     "output_type": "stream",
     "text": [
      "RDKit WARNING: [17:08:24] unknown|311|mol2|1|dock95: warning - O.co2 with non C.2 or S.o2 neighbor.\n",
      "RDKit WARNING: [17:08:24] unknown|311|mol2|1|dock95: warning - O.co2 with non C.2 or S.o2 neighbor.\n",
      "[17:08:24] unknown|311|mol2|1|dock95: warning - O.co2 with non C.2 or S.o2 neighbor.\n",
      "[17:08:24] unknown|311|mol2|1|dock95: warning - O.co2 with non C.2 or S.o2 neighbor.\n",
      "RDKit WARNING: [17:08:24] unknown|311|mol2|1|dock54: warning - O.co2 with non C.2 or S.o2 neighbor.\n",
      "RDKit WARNING: [17:08:24] unknown|311|mol2|1|dock1: warning - O.co2 with non C.2 or S.o2 neighbor.\n",
      "[17:08:24] unknown|311|mol2|1|dock54: warning - O.co2 with non C.2 or S.o2 neighbor.\n",
      "[17:08:24] unknown|311|mol2|1|dock1: warning - O.co2 with non C.2 or S.o2 neighbor.\n",
      "RDKit WARNING: [17:08:24] unknown|311|mol2|1|dock95: warning - O.co2 with non C.2 or S.o2 neighbor.\n",
      "RDKit WARNING: [17:08:24] unknown|311|mol2|1|dock95: warning - O.co2 with non C.2 or S.o2 neighbor.\n"
     ]
    },
    {
     "name": "stdout",
     "output_type": "stream",
     "text": [
      "Starting GOLD with conf file /home/benoit/bioactive_conformation_predictor/gold_docking_postprocessing/552/api_gold.conf\n"
     ]
    },
    {
     "name": "stderr",
     "output_type": "stream",
     "text": [
      "[17:08:24] unknown|311|mol2|1|dock95: warning - O.co2 with non C.2 or S.o2 neighbor.\n",
      "[17:08:24] unknown|311|mol2|1|dock95: warning - O.co2 with non C.2 or S.o2 neighbor.\n"
     ]
    },
    {
     "name": "stdout",
     "output_type": "stream",
     "text": [
      "0\n",
      "Setting up GOLD environment...\n",
      "GOLD Version 2021.2.0\n",
      "Running:\n",
      " \n",
      "     \"/home/benoit/CCDC/Discovery_2021/GOLD/gold/d_linux_64/bin/gold_linux_64\" \"/home/benoit/bioactive_conformation_predictor/gold_docking_postprocessing/552/api_gold.conf\"\n",
      "\n",
      "Starting GOLD with conf file /home/benoit/bioactive_conformation_predictor/gold_docking_postprocessing/542/api_gold.conf\n",
      "Setting up GOLD environment...\n",
      "GOLD Version 2021.2.0\n",
      "Running:\n",
      " \n",
      "     \"/home/benoit/CCDC/Discovery_2021/GOLD/gold/d_linux_64/bin/gold_linux_64\" \"/home/benoit/bioactive_conformation_predictor/gold_docking_postprocessing/542/api_gold.conf\"\n",
      "\n",
      "Starting GOLD with conf file /home/benoit/bioactive_conformation_predictor/gold_docking_postprocessing/358/api_gold.conf\n",
      "Setting up GOLD environment...\n",
      "GOLD Version 2021.2.0\n",
      "Running:\n",
      " \n",
      "     \"/home/benoit/CCDC/Discovery_2021/GOLD/gold/d_linux_64/bin/gold_linux_64\" \"/home/benoit/bioactive_conformation_predictor/gold_docking_postprocessing/358/api_gold.conf\"\n",
      "\n",
      "Starting GOLD with conf file /home/benoit/bioactive_conformation_predictor/gold_docking_postprocessing/333/api_gold.conf\n",
      "Setting up GOLD environment...\n",
      "GOLD Version 2021.2.0\n",
      "Running:\n",
      " \n",
      "     \"/home/benoit/CCDC/Discovery_2021/GOLD/gold/d_linux_64/bin/gold_linux_64\" \"/home/benoit/bioactive_conformation_predictor/gold_docking_postprocessing/333/api_gold.conf\"\n",
      "\n",
      "0\n",
      "0\n",
      "Starting GOLD with conf file /home/benoit/bioactive_conformation_predictor/gold_docking_postprocessing/427/api_gold.conf\n",
      "Starting GOLD with conf file /home/benoit/bioactive_conformation_predictor/gold_docking_postprocessing/453/api_gold.conf\n",
      "Setting up GOLD environment...\n",
      "GOLD Version 2021.2.0\n",
      "Running:\n",
      " \n",
      "     \"/home/benoit/CCDC/Discovery_2021/GOLD/gold/d_linux_64/bin/gold_linux_64\" \"/home/benoit/bioactive_conformation_predictor/gold_docking_postprocessing/427/api_gold.conf\"\n",
      "\n",
      "Setting up GOLD environment...\n",
      "GOLD Version 2021.2.0\n",
      "Running:\n",
      " \n",
      "     \"/home/benoit/CCDC/Discovery_2021/GOLD/gold/d_linux_64/bin/gold_linux_64\" \"/home/benoit/bioactive_conformation_predictor/gold_docking_postprocessing/453/api_gold.conf\"\n",
      "\n",
      "0\n",
      "0\n",
      "Starting GOLD with conf file /home/benoit/bioactive_conformation_predictor/gold_docking_postprocessing/553/api_gold.conf\n",
      "0\n",
      "Setting up GOLD environment...\n",
      "GOLD Version 2021.2.0\n",
      "Running:\n",
      " \n",
      "     \"/home/benoit/CCDC/Discovery_2021/GOLD/gold/d_linux_64/bin/gold_linux_64\" \"/home/benoit/bioactive_conformation_predictor/gold_docking_postprocessing/553/api_gold.conf\"\n",
      "\n",
      "Starting GOLD with conf file /home/benoit/bioactive_conformation_predictor/gold_docking_postprocessing/359/api_gold.conf\n",
      "0\n",
      "Setting up GOLD environment...\n",
      "GOLD Version 2021.2.0\n",
      "Running:\n",
      " \n",
      "     \"/home/benoit/CCDC/Discovery_2021/GOLD/gold/d_linux_64/bin/gold_linux_64\" \"/home/benoit/bioactive_conformation_predictor/gold_docking_postprocessing/359/api_gold.conf\"\n",
      "\n",
      "0\n",
      "Starting GOLD with conf file /home/benoit/bioactive_conformation_predictor/gold_docking_postprocessing/543/api_gold.conf\n",
      "Setting up GOLD environment...\n",
      "GOLD Version 2021.2.0\n",
      "Running:\n",
      " \n",
      "     \"/home/benoit/CCDC/Discovery_2021/GOLD/gold/d_linux_64/bin/gold_linux_64\" \"/home/benoit/bioactive_conformation_predictor/gold_docking_postprocessing/543/api_gold.conf\"\n",
      "\n",
      "Starting GOLD with conf file /home/benoit/bioactive_conformation_predictor/gold_docking_postprocessing/476/api_gold.conf\n",
      "Setting up GOLD environment...\n",
      "GOLD Version 2021.2.0\n",
      "Running:\n",
      " \n",
      "     \"/home/benoit/CCDC/Discovery_2021/GOLD/gold/d_linux_64/bin/gold_linux_64\" \"/home/benoit/bioactive_conformation_predictor/gold_docking_postprocessing/476/api_gold.conf\"\n",
      "\n",
      "Starting GOLD with conf file /home/benoit/bioactive_conformation_predictor/gold_docking_postprocessing/496/api_gold.conf\n",
      "Setting up GOLD environment...\n",
      "GOLD Version 2021.2.0\n",
      "Running:\n",
      " \n",
      "     \"/home/benoit/CCDC/Discovery_2021/GOLD/gold/d_linux_64/bin/gold_linux_64\" \"/home/benoit/bioactive_conformation_predictor/gold_docking_postprocessing/496/api_gold.conf\"\n",
      "\n",
      "0\n",
      "Starting GOLD with conf file /home/benoit/bioactive_conformation_predictor/gold_docking_postprocessing/576/api_gold.conf\n",
      "Setting up GOLD environment...\n",
      "GOLD Version 2021.2.0\n",
      "Running:\n",
      " \n",
      "     \"/home/benoit/CCDC/Discovery_2021/GOLD/gold/d_linux_64/bin/gold_linux_64\" \"/home/benoit/bioactive_conformation_predictor/gold_docking_postprocessing/576/api_gold.conf\"\n",
      "\n",
      "0\n",
      "0\n",
      "0\n",
      "0\n",
      "0\n",
      "Starting GOLD with conf file /home/benoit/bioactive_conformation_predictor/gold_docking_postprocessing/334/api_gold.conf\n",
      "Setting up GOLD environment...\n",
      "GOLD Version 2021.2.0\n",
      "Running:\n",
      " \n",
      "     \"/home/benoit/CCDC/Discovery_2021/GOLD/gold/d_linux_64/bin/gold_linux_64\" \"/home/benoit/bioactive_conformation_predictor/gold_docking_postprocessing/334/api_gold.conf\"\n",
      "\n",
      "0\n",
      "Starting GOLD with conf file /home/benoit/bioactive_conformation_predictor/gold_docking_postprocessing/523/api_gold.conf\n"
     ]
    },
    {
     "name": "stderr",
     "output_type": "stream",
     "text": [
      "RDKit WARNING: [17:08:55] unknown|404|mol2|1|dock70: warning - O.co2 with non C.2 or S.o2 neighbor.\n",
      "RDKit WARNING: [17:08:55] unknown|404|mol2|1|dock63: warning - O.co2 with non C.2 or S.o2 neighbor.\n"
     ]
    },
    {
     "name": "stdout",
     "output_type": "stream",
     "text": [
      "Setting up GOLD environment...\n",
      "GOLD Version 2021.2.0\n",
      "Running:\n",
      " \n",
      "     \"/home/benoit/CCDC/Discovery_2021/GOLD/gold/d_linux_64/bin/gold_linux_64\" \"/home/benoit/bioactive_conformation_predictor/gold_docking_postprocessing/523/api_gold.conf\"\n",
      "\n"
     ]
    },
    {
     "name": "stderr",
     "output_type": "stream",
     "text": [
      "[17:08:55] unknown|404|mol2|1|dock70: warning - O.co2 with non C.2 or S.o2 neighbor.\n",
      "[17:08:55] unknown|404|mol2|1|dock63: warning - O.co2 with non C.2 or S.o2 neighbor.\n",
      "RDKit WARNING: [17:08:56] unknown|404|mol2|1|dock55: warning - O.co2 with non C.2 or S.o2 neighbor.\n",
      "RDKit WARNING: [17:08:56] unknown|404|mol2|1|dock94: warning - O.co2 with non C.2 or S.o2 neighbor.\n",
      "[17:08:56] unknown|404|mol2|1|dock55: warning - O.co2 with non C.2 or S.o2 neighbor.\n",
      "[17:08:56] unknown|404|mol2|1|dock94: warning - O.co2 with non C.2 or S.o2 neighbor.\n"
     ]
    },
    {
     "name": "stdout",
     "output_type": "stream",
     "text": [
      "Starting GOLD with conf file /home/benoit/bioactive_conformation_predictor/gold_docking_postprocessing/428/api_gold.conf\n"
     ]
    },
    {
     "name": "stderr",
     "output_type": "stream",
     "text": [
      "RDKit WARNING: [17:08:56] unknown|404|mol2|1|dock70: warning - O.co2 with non C.2 or S.o2 neighbor.\n",
      "RDKit WARNING: [17:08:56] unknown|404|mol2|1|dock63: warning - O.co2 with non C.2 or S.o2 neighbor.\n",
      "[17:08:56] unknown|404|mol2|1|dock70: warning - O.co2 with non C.2 or S.o2 neighbor.\n",
      "[17:08:56] unknown|404|mol2|1|dock63: warning - O.co2 with non C.2 or S.o2 neighbor.\n"
     ]
    },
    {
     "name": "stdout",
     "output_type": "stream",
     "text": [
      "Setting up GOLD environment...\n",
      "GOLD Version 2021.2.0\n",
      "Running:\n",
      " \n",
      "     \"/home/benoit/CCDC/Discovery_2021/GOLD/gold/d_linux_64/bin/gold_linux_64\" \"/home/benoit/bioactive_conformation_predictor/gold_docking_postprocessing/428/api_gold.conf\"\n",
      "\n",
      "Starting GOLD with conf file /home/benoit/bioactive_conformation_predictor/gold_docking_postprocessing/405/api_gold.conf\n",
      "Setting up GOLD environment...\n",
      "GOLD Version 2021.2.0\n",
      "Running:\n",
      " \n",
      "     \"/home/benoit/CCDC/Discovery_2021/GOLD/gold/d_linux_64/bin/gold_linux_64\" \"/home/benoit/bioactive_conformation_predictor/gold_docking_postprocessing/405/api_gold.conf\"\n",
      "\n",
      "Starting GOLD with conf file /home/benoit/bioactive_conformation_predictor/gold_docking_postprocessing/554/api_gold.conf\n",
      "Setting up GOLD environment...\n",
      "GOLD Version 2021.2.0\n",
      "Running:\n",
      " \n",
      "     \"/home/benoit/CCDC/Discovery_2021/GOLD/gold/d_linux_64/bin/gold_linux_64\" \"/home/benoit/bioactive_conformation_predictor/gold_docking_postprocessing/554/api_gold.conf\"\n",
      "\n",
      "Starting GOLD with conf file /home/benoit/bioactive_conformation_predictor/gold_docking_postprocessing/383/api_gold.conf\n",
      "0\n",
      "Setting up GOLD environment...\n",
      "GOLD Version 2021.2.0\n",
      "Running:\n",
      " \n",
      "     \"/home/benoit/CCDC/Discovery_2021/GOLD/gold/d_linux_64/bin/gold_linux_64\" \"/home/benoit/bioactive_conformation_predictor/gold_docking_postprocessing/383/api_gold.conf\"\n",
      "\n",
      "Starting GOLD with conf file /home/benoit/bioactive_conformation_predictor/gold_docking_postprocessing/335/api_gold.conf\n",
      "0\n",
      "Setting up GOLD environment...\n",
      "GOLD Version 2021.2.0\n",
      "Running:\n",
      " \n",
      "     \"/home/benoit/CCDC/Discovery_2021/GOLD/gold/d_linux_64/bin/gold_linux_64\" \"/home/benoit/bioactive_conformation_predictor/gold_docking_postprocessing/335/api_gold.conf\"\n",
      "\n",
      "0\n",
      "0\n",
      "0\n",
      "0\n",
      "0\n",
      "0\n",
      "0\n",
      "Starting GOLD with conf file /home/benoit/bioactive_conformation_predictor/gold_docking_postprocessing/454/api_gold.conf\n",
      "Setting up GOLD environment...\n",
      "GOLD Version 2021.2.0\n",
      "Running:\n",
      " \n",
      "     \"/home/benoit/CCDC/Discovery_2021/GOLD/gold/d_linux_64/bin/gold_linux_64\" \"/home/benoit/bioactive_conformation_predictor/gold_docking_postprocessing/454/api_gold.conf\"\n",
      "\n",
      "Starting GOLD with conf file /home/benoit/bioactive_conformation_predictor/gold_docking_postprocessing/600/api_gold.conf\n",
      "Setting up GOLD environment...\n",
      "GOLD Version 2021.2.0\n",
      "Running:\n",
      " \n",
      "     \"/home/benoit/CCDC/Discovery_2021/GOLD/gold/d_linux_64/bin/gold_linux_64\" \"/home/benoit/bioactive_conformation_predictor/gold_docking_postprocessing/600/api_gold.conf\"\n",
      "\n",
      "0\n",
      "Starting GOLD with conf file /home/benoit/bioactive_conformation_predictor/gold_docking_postprocessing/429/api_gold.conf\n",
      "Setting up GOLD environment...\n",
      "GOLD Version 2021.2.0\n",
      "Running:\n",
      " \n",
      "     \"/home/benoit/CCDC/Discovery_2021/GOLD/gold/d_linux_64/bin/gold_linux_64\" \"/home/benoit/bioactive_conformation_predictor/gold_docking_postprocessing/429/api_gold.conf\"\n",
      "\n",
      "Starting GOLD with conf file /home/benoit/bioactive_conformation_predictor/gold_docking_postprocessing/497/api_gold.conf\n",
      "Starting GOLD with conf file /home/benoit/bioactive_conformation_predictor/gold_docking_postprocessing/524/api_gold.conf\n",
      "Setting up GOLD environment...\n",
      "GOLD Version 2021.2.0\n",
      "Running:\n",
      " \n",
      "     \"/home/benoit/CCDC/Discovery_2021/GOLD/gold/d_linux_64/bin/gold_linux_64\" \"/home/benoit/bioactive_conformation_predictor/gold_docking_postprocessing/497/api_gold.conf\"\n",
      "\n",
      "Setting up GOLD environment...\n",
      "GOLD Version 2021.2.0\n",
      "Running:\n",
      " \n",
      "     \"/home/benoit/CCDC/Discovery_2021/GOLD/gold/d_linux_64/bin/gold_linux_64\" \"/home/benoit/bioactive_conformation_predictor/gold_docking_postprocessing/524/api_gold.conf\"\n",
      "\n",
      "Starting GOLD with conf file /home/benoit/bioactive_conformation_predictor/gold_docking_postprocessing/544/api_gold.conf\n",
      "Setting up GOLD environment...\n",
      "GOLD Version 2021.2.0\n",
      "Running:\n",
      " \n",
      "     \"/home/benoit/CCDC/Discovery_2021/GOLD/gold/d_linux_64/bin/gold_linux_64\" \"/home/benoit/bioactive_conformation_predictor/gold_docking_postprocessing/544/api_gold.conf\"\n",
      "\n",
      "Starting GOLD with conf file /home/benoit/bioactive_conformation_predictor/gold_docking_postprocessing/577/api_gold.conf\n",
      "0\n",
      "Setting up GOLD environment...\n",
      "GOLD Version 2021.2.0\n",
      "Running:\n",
      " \n",
      "     \"/home/benoit/CCDC/Discovery_2021/GOLD/gold/d_linux_64/bin/gold_linux_64\" \"/home/benoit/bioactive_conformation_predictor/gold_docking_postprocessing/577/api_gold.conf\"\n",
      "\n",
      "Starting GOLD with conf file /home/benoit/bioactive_conformation_predictor/gold_docking_postprocessing/477/api_gold.conf\n",
      "Setting up GOLD environment...\n",
      "GOLD Version 2021.2.0\n",
      "Running:\n",
      " \n",
      "     \"/home/benoit/CCDC/Discovery_2021/GOLD/gold/d_linux_64/bin/gold_linux_64\" \"/home/benoit/bioactive_conformation_predictor/gold_docking_postprocessing/477/api_gold.conf\"\n",
      "\n",
      "Starting GOLD with conf file /home/benoit/bioactive_conformation_predictor/gold_docking_postprocessing/624/api_gold.conf\n",
      "Setting up GOLD environment...\n",
      "GOLD Version 2021.2.0\n",
      "Running:\n",
      " \n",
      "     \"/home/benoit/CCDC/Discovery_2021/GOLD/gold/d_linux_64/bin/gold_linux_64\" \"/home/benoit/bioactive_conformation_predictor/gold_docking_postprocessing/624/api_gold.conf\"\n",
      "\n",
      "Starting GOLD with conf file /home/benoit/bioactive_conformation_predictor/gold_docking_postprocessing/455/api_gold.conf\n",
      "Setting up GOLD environment...\n",
      "GOLD Version 2021.2.0\n",
      "Running:\n",
      " \n",
      "     \"/home/benoit/CCDC/Discovery_2021/GOLD/gold/d_linux_64/bin/gold_linux_64\" \"/home/benoit/bioactive_conformation_predictor/gold_docking_postprocessing/455/api_gold.conf\"\n",
      "\n",
      "0\n",
      "0\n",
      "0\n",
      "Starting GOLD with conf file /home/benoit/bioactive_conformation_predictor/gold_docking_postprocessing/498/api_gold.conf\n",
      "Setting up GOLD environment...\n",
      "GOLD Version 2021.2.0\n",
      "Running:\n",
      " \n",
      "     \"/home/benoit/CCDC/Discovery_2021/GOLD/gold/d_linux_64/bin/gold_linux_64\" \"/home/benoit/bioactive_conformation_predictor/gold_docking_postprocessing/498/api_gold.conf\"\n",
      "\n",
      "Starting GOLD with conf file /home/benoit/bioactive_conformation_predictor/gold_docking_postprocessing/555/api_gold.conf\n",
      "Setting up GOLD environment...\n",
      "GOLD Version 2021.2.0\n",
      "Running:\n",
      " \n",
      "     \"/home/benoit/CCDC/Discovery_2021/GOLD/gold/d_linux_64/bin/gold_linux_64\" \"/home/benoit/bioactive_conformation_predictor/gold_docking_postprocessing/555/api_gold.conf\"\n",
      "\n",
      "Starting GOLD with conf file /home/benoit/bioactive_conformation_predictor/gold_docking_postprocessing/406/api_gold.conf\n",
      "Setting up GOLD environment...\n",
      "GOLD Version 2021.2.0\n",
      "Running:\n",
      " \n",
      "     \"/home/benoit/CCDC/Discovery_2021/GOLD/gold/d_linux_64/bin/gold_linux_64\" \"/home/benoit/bioactive_conformation_predictor/gold_docking_postprocessing/406/api_gold.conf\"\n",
      "\n",
      "0\n",
      "0\n",
      "Starting GOLD with conf file /home/benoit/bioactive_conformation_predictor/gold_docking_postprocessing/545/api_gold.conf\n",
      "Setting up GOLD environment...\n",
      "GOLD Version 2021.2.0\n",
      "Running:\n",
      " \n",
      "     \"/home/benoit/CCDC/Discovery_2021/GOLD/gold/d_linux_64/bin/gold_linux_64\" \"/home/benoit/bioactive_conformation_predictor/gold_docking_postprocessing/545/api_gold.conf\"\n",
      "\n",
      "Starting GOLD with conf file /home/benoit/bioactive_conformation_predictor/gold_docking_postprocessing/601/api_gold.conf\n",
      "Setting up GOLD environment...\n",
      "GOLD Version 2021.2.0\n",
      "Running:\n",
      " \n",
      "     \"/home/benoit/CCDC/Discovery_2021/GOLD/gold/d_linux_64/bin/gold_linux_64\" \"/home/benoit/bioactive_conformation_predictor/gold_docking_postprocessing/601/api_gold.conf\"\n",
      "\n",
      "0\n",
      "0\n"
     ]
    },
    {
     "name": "stderr",
     "output_type": "stream",
     "text": [
      "RDKit WARNING: [17:09:28] unknown|455|mol2|1|dock8: warning - O.co2 with non C.2 or S.o2 neighbor.\n",
      "RDKit WARNING: [17:09:28] unknown|455|mol2|1|dock6: warning - O.co2 with non C.2 or S.o2 neighbor.\n",
      "[17:09:28] unknown|455|mol2|1|dock8: warning - O.co2 with non C.2 or S.o2 neighbor.\n",
      "[17:09:28] unknown|455|mol2|1|dock6: warning - O.co2 with non C.2 or S.o2 neighbor.\n"
     ]
    },
    {
     "name": "stdout",
     "output_type": "stream",
     "text": [
      "Starting GOLD with conf file /home/benoit/bioactive_conformation_predictor/gold_docking_postprocessing/430/api_gold.conf\n"
     ]
    },
    {
     "name": "stderr",
     "output_type": "stream",
     "text": [
      "RDKit WARNING: [17:09:28] unknown|455|mol2|1|dock8: warning - O.co2 with non C.2 or S.o2 neighbor.\n",
      "RDKit WARNING: [17:09:28] unknown|455|mol2|1|dock8: warning - O.co2 with non C.2 or S.o2 neighbor.\n"
     ]
    },
    {
     "name": "stdout",
     "output_type": "stream",
     "text": [
      "0\n"
     ]
    },
    {
     "name": "stderr",
     "output_type": "stream",
     "text": [
      "[17:09:28] unknown|455|mol2|1|dock8: warning - O.co2 with non C.2 or S.o2 neighbor.\n",
      "[17:09:28] unknown|455|mol2|1|dock8: warning - O.co2 with non C.2 or S.o2 neighbor.\n"
     ]
    },
    {
     "name": "stdout",
     "output_type": "stream",
     "text": [
      "Setting up GOLD environment...\n",
      "GOLD Version 2021.2.0\n",
      "Running:\n",
      " \n",
      "     \"/home/benoit/CCDC/Discovery_2021/GOLD/gold/d_linux_64/bin/gold_linux_64\" \"/home/benoit/bioactive_conformation_predictor/gold_docking_postprocessing/430/api_gold.conf\"\n",
      "\n"
     ]
    },
    {
     "name": "stderr",
     "output_type": "stream",
     "text": [
      "RDKit WARNING: [17:09:28] unknown|455|mol2|1|dock8: warning - O.co2 with non C.2 or S.o2 neighbor.\n",
      "RDKit WARNING: [17:09:28] unknown|455|mol2|1|dock8: warning - O.co2 with non C.2 or S.o2 neighbor.\n"
     ]
    },
    {
     "name": "stdout",
     "output_type": "stream",
     "text": [
      "Starting GOLD with conf file /home/benoit/bioactive_conformation_predictor/gold_docking_postprocessing/648/api_gold.conf\n"
     ]
    },
    {
     "name": "stderr",
     "output_type": "stream",
     "text": [
      "[17:09:28] unknown|455|mol2|1|dock8: warning - O.co2 with non C.2 or S.o2 neighbor.\n",
      "[17:09:28] unknown|455|mol2|1|dock8: warning - O.co2 with non C.2 or S.o2 neighbor.\n"
     ]
    },
    {
     "name": "stdout",
     "output_type": "stream",
     "text": [
      "Setting up GOLD environment...\n",
      "GOLD Version 2021.2.0\n",
      "Running:\n",
      " \n",
      "     \"/home/benoit/CCDC/Discovery_2021/GOLD/gold/d_linux_64/bin/gold_linux_64\" \"/home/benoit/bioactive_conformation_predictor/gold_docking_postprocessing/648/api_gold.conf\"\n",
      "\n",
      "0\n",
      "Starting GOLD with conf file /home/benoit/bioactive_conformation_predictor/gold_docking_postprocessing/499/api_gold.conf\n",
      "Setting up GOLD environment...\n",
      "GOLD Version 2021.2.0\n",
      "Running:\n",
      " \n",
      "     \"/home/benoit/CCDC/Discovery_2021/GOLD/gold/d_linux_64/bin/gold_linux_64\" \"/home/benoit/bioactive_conformation_predictor/gold_docking_postprocessing/499/api_gold.conf\"\n",
      "\n",
      "0\n",
      "Starting GOLD with conf file /home/benoit/bioactive_conformation_predictor/gold_docking_postprocessing/407/api_gold.conf\n",
      "Setting up GOLD environment...\n",
      "GOLD Version 2021.2.0\n",
      "Running:\n",
      " \n",
      "     \"/home/benoit/CCDC/Discovery_2021/GOLD/gold/d_linux_64/bin/gold_linux_64\" \"/home/benoit/bioactive_conformation_predictor/gold_docking_postprocessing/407/api_gold.conf\"\n",
      "\n",
      "0\n",
      "Starting GOLD with conf file /home/benoit/bioactive_conformation_predictor/gold_docking_postprocessing/478/api_gold.conf\n",
      "0\n",
      "Setting up GOLD environment...\n",
      "GOLD Version 2021.2.0\n",
      "Running:\n",
      " \n",
      "     \"/home/benoit/CCDC/Discovery_2021/GOLD/gold/d_linux_64/bin/gold_linux_64\" \"/home/benoit/bioactive_conformation_predictor/gold_docking_postprocessing/478/api_gold.conf\"\n",
      "\n",
      "0\n",
      "Starting GOLD with conf file /home/benoit/bioactive_conformation_predictor/gold_docking_postprocessing/578/api_gold.conf\n",
      "Setting up GOLD environment...\n",
      "GOLD Version 2021.2.0\n",
      "Running:\n",
      " \n",
      "     \"/home/benoit/CCDC/Discovery_2021/GOLD/gold/d_linux_64/bin/gold_linux_64\" \"/home/benoit/bioactive_conformation_predictor/gold_docking_postprocessing/578/api_gold.conf\"\n",
      "\n",
      "0\n",
      "0\n",
      "0\n",
      "Starting GOLD with conf file /home/benoit/bioactive_conformation_predictor/gold_docking_postprocessing/546/api_gold.conf\n",
      "Setting up GOLD environment...\n",
      "GOLD Version 2021.2.0\n",
      "Running:\n",
      " \n",
      "     \"/home/benoit/CCDC/Discovery_2021/GOLD/gold/d_linux_64/bin/gold_linux_64\" \"/home/benoit/bioactive_conformation_predictor/gold_docking_postprocessing/546/api_gold.conf\"\n",
      "\n",
      "Starting GOLD with conf file /home/benoit/bioactive_conformation_predictor/gold_docking_postprocessing/625/api_gold.conf\n",
      "Starting GOLD with conf file /home/benoit/bioactive_conformation_predictor/gold_docking_postprocessing/649/api_gold.conf\n"
     ]
    },
    {
     "name": "stderr",
     "output_type": "stream",
     "text": [
      "RDKit WARNING: [17:09:40] unknown|430|mol2|1|dock26: warning - O.co2 with non C.2 or S.o2 neighbor.\n",
      "RDKit WARNING: [17:09:40] unknown|430|mol2|1|dock26: warning - O.co2 with non C.2 or S.o2 neighbor.\n",
      "[17:09:40] unknown|430|mol2|1|dock26: warning - O.co2 with non C.2 or S.o2 neighbor.\n",
      "[17:09:40] unknown|430|mol2|1|dock26: warning - O.co2 with non C.2 or S.o2 neighbor.\n"
     ]
    },
    {
     "name": "stdout",
     "output_type": "stream",
     "text": [
      "Setting up GOLD environment...\n",
      "GOLD Version 2021.2.0\n",
      "Running:\n",
      " \n",
      "     \"/home/benoit/CCDC/Discovery_2021/GOLD/gold/d_linux_64/bin/gold_linux_64\" \"/home/benoit/bioactive_conformation_predictor/gold_docking_postprocessing/625/api_gold.conf\"\n",
      "\n",
      "Setting up GOLD environment...\n",
      "GOLD Version 2021.2.0\n",
      "Running:\n",
      " \n",
      "     \"/home/benoit/CCDC/Discovery_2021/GOLD/gold/d_linux_64/bin/gold_linux_64\" \"/home/benoit/bioactive_conformation_predictor/gold_docking_postprocessing/649/api_gold.conf\"\n",
      "\n"
     ]
    },
    {
     "name": "stderr",
     "output_type": "stream",
     "text": [
      "RDKit WARNING: [17:09:40] unknown|430|mol2|1|dock99: warning - O.co2 with non C.2 or S.o2 neighbor.\n",
      "RDKit WARNING: [17:09:40] unknown|430|mol2|1|dock99: warning - O.co2 with non C.2 or S.o2 neighbor.\n",
      "[17:09:40] unknown|430|mol2|1|dock99: warning - O.co2 with non C.2 or S.o2 neighbor.\n",
      "[17:09:40] unknown|430|mol2|1|dock99: warning - O.co2 with non C.2 or S.o2 neighbor.\n",
      "RDKit WARNING: [17:09:40] unknown|430|mol2|1|dock26: warning - O.co2 with non C.2 or S.o2 neighbor.\n",
      "RDKit WARNING: [17:09:40] unknown|430|mol2|1|dock26: warning - O.co2 with non C.2 or S.o2 neighbor.\n",
      "[17:09:40] unknown|430|mol2|1|dock26: warning - O.co2 with non C.2 or S.o2 neighbor.\n",
      "[17:09:40] unknown|430|mol2|1|dock26: warning - O.co2 with non C.2 or S.o2 neighbor.\n"
     ]
    },
    {
     "name": "stdout",
     "output_type": "stream",
     "text": [
      "Starting GOLD with conf file /home/benoit/bioactive_conformation_predictor/gold_docking_postprocessing/431/api_gold.conf\n",
      "0\n",
      "Setting up GOLD environment...\n",
      "GOLD Version 2021.2.0\n",
      "Running:\n",
      " \n",
      "     \"/home/benoit/CCDC/Discovery_2021/GOLD/gold/d_linux_64/bin/gold_linux_64\" \"/home/benoit/bioactive_conformation_predictor/gold_docking_postprocessing/431/api_gold.conf\"\n",
      "\n",
      "Starting GOLD with conf file /home/benoit/bioactive_conformation_predictor/gold_docking_postprocessing/525/api_gold.conf\n",
      "Setting up GOLD environment...\n",
      "GOLD Version 2021.2.0\n",
      "Running:\n",
      " \n",
      "     \"/home/benoit/CCDC/Discovery_2021/GOLD/gold/d_linux_64/bin/gold_linux_64\" \"/home/benoit/bioactive_conformation_predictor/gold_docking_postprocessing/525/api_gold.conf\"\n",
      "\n",
      "Starting GOLD with conf file /home/benoit/bioactive_conformation_predictor/gold_docking_postprocessing/672/api_gold.conf\n",
      "Setting up GOLD environment...\n",
      "GOLD Version 2021.2.0\n",
      "Running:\n",
      " \n",
      "     \"/home/benoit/CCDC/Discovery_2021/GOLD/gold/d_linux_64/bin/gold_linux_64\" \"/home/benoit/bioactive_conformation_predictor/gold_docking_postprocessing/672/api_gold.conf\"\n",
      "\n",
      "0\n",
      "0\n",
      "0\n",
      "0\n"
     ]
    },
    {
     "name": "stderr",
     "output_type": "stream",
     "text": [
      "RDKit WARNING: [17:09:50] unknown|546|mol2|1|dock61: warning - O.co2 with non C.2 or S.o2 neighbor.\n",
      "RDKit WARNING: [17:09:50] unknown|546|mol2|1|dock73: warning - O.co2 with non C.2 or S.o2 neighbor.\n",
      "[17:09:50] unknown|546|mol2|1|dock61: warning - O.co2 with non C.2 or S.o2 neighbor.\n",
      "[17:09:50] unknown|546|mol2|1|dock73: warning - O.co2 with non C.2 or S.o2 neighbor.\n",
      "RDKit WARNING: [17:09:50] unknown|546|mol2|1|dock84: warning - O.co2 with non C.2 or S.o2 neighbor.\n",
      "RDKit WARNING: [17:09:50] unknown|546|mol2|1|dock38: warning - O.co2 with non C.2 or S.o2 neighbor.\n",
      "RDKit WARNING: [17:09:50] unknown|499|mol2|1|dock17: warning - O.co2 with non C.2 or S.o2 neighbor.\n",
      "RDKit WARNING: [17:09:50] unknown|499|mol2|1|dock46: warning - O.co2 with non C.2 or S.o2 neighbor.\n",
      "[17:09:50] unknown|546|mol2|1|dock84: warning - O.co2 with non C.2 or S.o2 neighbor.\n",
      "[17:09:50] unknown|546|mol2|1|dock38: warning - O.co2 with non C.2 or S.o2 neighbor.\n",
      "[17:09:50] unknown|499|mol2|1|dock17: warning - O.co2 with non C.2 or S.o2 neighbor.\n",
      "[17:09:50] unknown|499|mol2|1|dock46: warning - O.co2 with non C.2 or S.o2 neighbor.\n",
      "RDKit WARNING: [17:09:50] unknown|546|mol2|1|dock52: warning - O.co2 with non C.2 or S.o2 neighbor.\n",
      "RDKit WARNING: [17:09:50] unknown|546|mol2|1|dock100: warning - O.co2 with non C.2 or S.o2 neighbor.\n"
     ]
    },
    {
     "name": "stdout",
     "output_type": "stream",
     "text": [
      "Starting GOLD with conf file /home/benoit/bioactive_conformation_predictor/gold_docking_postprocessing/650/api_gold.conf\n",
      "Starting GOLD with conf file /home/benoit/bioactive_conformation_predictor/gold_docking_postprocessing/547/api_gold.conf\n"
     ]
    },
    {
     "name": "stderr",
     "output_type": "stream",
     "text": [
      "[17:09:50] unknown|546|mol2|1|dock52: warning - O.co2 with non C.2 or S.o2 neighbor.\n",
      "[17:09:50] unknown|546|mol2|1|dock100: warning - O.co2 with non C.2 or S.o2 neighbor.\n"
     ]
    },
    {
     "name": "stdout",
     "output_type": "stream",
     "text": [
      "Setting up GOLD environment...\n",
      "GOLD Version 2021.2.0\n",
      "Running:\n",
      " \n",
      "     \"/home/benoit/CCDC/Discovery_2021/GOLD/gold/d_linux_64/bin/gold_linux_64\" \"/home/benoit/bioactive_conformation_predictor/gold_docking_postprocessing/650/api_gold.conf\"\n",
      "\n",
      "Setting up GOLD environment...\n",
      "GOLD Version 2021.2.0\n",
      "Running:\n",
      " \n",
      "     \"/home/benoit/CCDC/Discovery_2021/GOLD/gold/d_linux_64/bin/gold_linux_64\" \"/home/benoit/bioactive_conformation_predictor/gold_docking_postprocessing/547/api_gold.conf\"\n",
      "\n"
     ]
    },
    {
     "name": "stderr",
     "output_type": "stream",
     "text": [
      "RDKit WARNING: [17:09:51] unknown|499|mol2|1|dock67: warning - O.co2 with non C.2 or S.o2 neighbor.\n",
      "RDKit WARNING: [17:09:51] unknown|499|mol2|1|dock67: warning - O.co2 with non C.2 or S.o2 neighbor.\n"
     ]
    },
    {
     "name": "stdout",
     "output_type": "stream",
     "text": [
      "0\n"
     ]
    },
    {
     "name": "stderr",
     "output_type": "stream",
     "text": [
      "[17:09:51] unknown|499|mol2|1|dock67: warning - O.co2 with non C.2 or S.o2 neighbor.\n",
      "[17:09:51] unknown|499|mol2|1|dock67: warning - O.co2 with non C.2 or S.o2 neighbor.\n",
      "RDKit WARNING: [17:09:51] unknown|499|mol2|1|dock67: warning - O.co2 with non C.2 or S.o2 neighbor.\n",
      "RDKit WARNING: [17:09:51] unknown|499|mol2|1|dock20: warning - O.co2 with non C.2 or S.o2 neighbor.\n"
     ]
    },
    {
     "name": "stdout",
     "output_type": "stream",
     "text": [
      "Starting GOLD with conf file /home/benoit/bioactive_conformation_predictor/gold_docking_postprocessing/500/api_gold.conf\n"
     ]
    },
    {
     "name": "stderr",
     "output_type": "stream",
     "text": [
      "[17:09:51] unknown|499|mol2|1|dock67: warning - O.co2 with non C.2 or S.o2 neighbor.\n",
      "[17:09:51] unknown|499|mol2|1|dock20: warning - O.co2 with non C.2 or S.o2 neighbor.\n"
     ]
    },
    {
     "name": "stdout",
     "output_type": "stream",
     "text": [
      "Starting GOLD with conf file /home/benoit/bioactive_conformation_predictor/gold_docking_postprocessing/673/api_gold.conf\n",
      "Setting up GOLD environment...\n",
      "GOLD Version 2021.2.0\n",
      "Running:\n",
      " \n",
      "     \"/home/benoit/CCDC/Discovery_2021/GOLD/gold/d_linux_64/bin/gold_linux_64\" \"/home/benoit/bioactive_conformation_predictor/gold_docking_postprocessing/500/api_gold.conf\"\n",
      "\n",
      "Setting up GOLD environment...\n",
      "GOLD Version 2021.2.0\n",
      "Running:\n",
      " \n",
      "     \"/home/benoit/CCDC/Discovery_2021/GOLD/gold/d_linux_64/bin/gold_linux_64\" \"/home/benoit/bioactive_conformation_predictor/gold_docking_postprocessing/673/api_gold.conf\"\n",
      "\n",
      "0\n",
      "Starting GOLD with conf file /home/benoit/bioactive_conformation_predictor/gold_docking_postprocessing/579/api_gold.conf\n",
      "Setting up GOLD environment...\n",
      "GOLD Version 2021.2.0\n",
      "Running:\n",
      " \n",
      "     \"/home/benoit/CCDC/Discovery_2021/GOLD/gold/d_linux_64/bin/gold_linux_64\" \"/home/benoit/bioactive_conformation_predictor/gold_docking_postprocessing/579/api_gold.conf\"\n",
      "\n",
      "0\n",
      "0\n"
     ]
    },
    {
     "name": "stderr",
     "output_type": "stream",
     "text": [
      "RDKit WARNING: [17:09:57] unknown|650|mol2|1|dock42: warning - O.co2 with non C.2 or S.o2 neighbor.\n",
      "RDKit WARNING: [17:09:57] unknown|650|mol2|1|dock74: warning - O.co2 with non C.2 or S.o2 neighbor.\n",
      "RDKit WARNING: [17:09:57] unknown|650|mol2|1|dock42: warning - O.co2 with non C.2 or S.o2 neighbor.\n",
      "RDKit WARNING: [17:09:57] unknown|650|mol2|1|dock33: warning - O.co2 with non C.2 or S.o2 neighbor.\n",
      "[17:09:57] unknown|650|mol2|1|dock42: warning - O.co2 with non C.2 or S.o2 neighbor.\n",
      "[17:09:57] unknown|650|mol2|1|dock74: warning - O.co2 with non C.2 or S.o2 neighbor.\n",
      "[17:09:57] unknown|650|mol2|1|dock42: warning - O.co2 with non C.2 or S.o2 neighbor.\n",
      "[17:09:57] unknown|650|mol2|1|dock33: warning - O.co2 with non C.2 or S.o2 neighbor.\n",
      "RDKit WARNING: [17:09:58] unknown|650|mol2|1|dock37: warning - O.co2 with non C.2 or S.o2 neighbor.\n",
      "RDKit WARNING: [17:09:58] unknown|650|mol2|1|dock55: warning - O.co2 with non C.2 or S.o2 neighbor.\n",
      "[17:09:58] unknown|650|mol2|1|dock37: warning - O.co2 with non C.2 or S.o2 neighbor.\n",
      "[17:09:58] unknown|650|mol2|1|dock55: warning - O.co2 with non C.2 or S.o2 neighbor.\n"
     ]
    },
    {
     "name": "stdout",
     "output_type": "stream",
     "text": [
      "Starting GOLD with conf file /home/benoit/bioactive_conformation_predictor/gold_docking_postprocessing/651/api_gold.conf\n",
      "0\n",
      "Setting up GOLD environment...\n",
      "GOLD Version 2021.2.0\n",
      "Running:\n",
      " \n",
      "     \"/home/benoit/CCDC/Discovery_2021/GOLD/gold/d_linux_64/bin/gold_linux_64\" \"/home/benoit/bioactive_conformation_predictor/gold_docking_postprocessing/651/api_gold.conf\"\n",
      "\n",
      "0\n"
     ]
    },
    {
     "name": "stderr",
     "output_type": "stream",
     "text": [
      "RDKit WARNING: [17:10:01] unknown|625|mol2|1|dock2: warning - O.co2 with non C.2 or S.o2 neighbor.\n",
      "RDKit WARNING: [17:10:01] unknown|625|mol2|1|dock86: warning - O.co2 with non C.2 or S.o2 neighbor.\n"
     ]
    },
    {
     "name": "stdout",
     "output_type": "stream",
     "text": [
      "0\n"
     ]
    },
    {
     "name": "stderr",
     "output_type": "stream",
     "text": [
      "[17:10:01] unknown|625|mol2|1|dock2: warning - O.co2 with non C.2 or S.o2 neighbor.\n",
      "[17:10:01] unknown|625|mol2|1|dock86: warning - O.co2 with non C.2 or S.o2 neighbor.\n",
      "RDKit WARNING: [17:10:01] unknown|625|mol2|1|dock74: warning - O.co2 with non C.2 or S.o2 neighbor.\n",
      "RDKit WARNING: [17:10:01] unknown|625|mol2|1|dock45: warning - O.co2 with non C.2 or S.o2 neighbor.\n"
     ]
    },
    {
     "name": "stdout",
     "output_type": "stream",
     "text": [
      "Starting GOLD with conf file /home/benoit/bioactive_conformation_predictor/gold_docking_postprocessing/479/api_gold.conf\n"
     ]
    },
    {
     "name": "stderr",
     "output_type": "stream",
     "text": [
      "[17:10:01] unknown|625|mol2|1|dock74: warning - O.co2 with non C.2 or S.o2 neighbor.\n",
      "[17:10:01] unknown|625|mol2|1|dock45: warning - O.co2 with non C.2 or S.o2 neighbor.\n",
      "RDKit WARNING: [17:10:02] unknown|625|mol2|1|dock42: warning - O.co2 with non C.2 or S.o2 neighbor.\n",
      "RDKit WARNING: [17:10:02] unknown|625|mol2|1|dock44: warning - O.co2 with non C.2 or S.o2 neighbor.\n"
     ]
    },
    {
     "name": "stdout",
     "output_type": "stream",
     "text": [
      "Starting GOLD with conf file /home/benoit/bioactive_conformation_predictor/gold_docking_postprocessing/626/api_gold.conf\n",
      "Setting up GOLD environment...\n",
      "GOLD Version 2021.2.0\n",
      "Running:\n",
      " \n",
      "     \"/home/benoit/CCDC/Discovery_2021/GOLD/gold/d_linux_64/bin/gold_linux_64\" \"/home/benoit/bioactive_conformation_predictor/gold_docking_postprocessing/479/api_gold.conf\"\n",
      "\n"
     ]
    },
    {
     "name": "stderr",
     "output_type": "stream",
     "text": [
      "[17:10:02] unknown|625|mol2|1|dock42: warning - O.co2 with non C.2 or S.o2 neighbor.\n",
      "[17:10:02] unknown|625|mol2|1|dock44: warning - O.co2 with non C.2 or S.o2 neighbor.\n"
     ]
    },
    {
     "name": "stdout",
     "output_type": "stream",
     "text": [
      "Setting up GOLD environment...\n",
      "GOLD Version 2021.2.0\n",
      "Running:\n",
      " \n",
      "     \"/home/benoit/CCDC/Discovery_2021/GOLD/gold/d_linux_64/bin/gold_linux_64\" \"/home/benoit/bioactive_conformation_predictor/gold_docking_postprocessing/626/api_gold.conf\"\n",
      "\n",
      "Starting GOLD with conf file /home/benoit/bioactive_conformation_predictor/gold_docking_postprocessing/501/api_gold.conf\n",
      "Starting GOLD with conf file /home/benoit/bioactive_conformation_predictor/gold_docking_postprocessing/602/api_gold.conf\n",
      "Setting up GOLD environment...\n",
      "GOLD Version 2021.2.0\n",
      "Running:\n",
      " \n",
      "     \"/home/benoit/CCDC/Discovery_2021/GOLD/gold/d_linux_64/bin/gold_linux_64\" \"/home/benoit/bioactive_conformation_predictor/gold_docking_postprocessing/501/api_gold.conf\"\n",
      "\n",
      "Setting up GOLD environment...\n",
      "GOLD Version 2021.2.0\n",
      "Running:\n",
      " \n",
      "     \"/home/benoit/CCDC/Discovery_2021/GOLD/gold/d_linux_64/bin/gold_linux_64\" \"/home/benoit/bioactive_conformation_predictor/gold_docking_postprocessing/602/api_gold.conf\"\n",
      "\n",
      "0\n",
      "0\n",
      "Starting GOLD with conf file /home/benoit/bioactive_conformation_predictor/gold_docking_postprocessing/674/api_gold.conf\n",
      "Setting up GOLD environment...\n",
      "GOLD Version 2021.2.0\n",
      "Running:\n",
      " \n",
      "     \"/home/benoit/CCDC/Discovery_2021/GOLD/gold/d_linux_64/bin/gold_linux_64\" \"/home/benoit/bioactive_conformation_predictor/gold_docking_postprocessing/674/api_gold.conf\"\n",
      "\n",
      "0\n",
      "Starting GOLD with conf file /home/benoit/bioactive_conformation_predictor/gold_docking_postprocessing/526/api_gold.conf\n",
      "Setting up GOLD environment...\n",
      "GOLD Version 2021.2.0\n",
      "Running:\n",
      " \n",
      "     \"/home/benoit/CCDC/Discovery_2021/GOLD/gold/d_linux_64/bin/gold_linux_64\" \"/home/benoit/bioactive_conformation_predictor/gold_docking_postprocessing/526/api_gold.conf\"\n",
      "\n",
      "0\n",
      "0\n",
      "Starting GOLD with conf file /home/benoit/bioactive_conformation_predictor/gold_docking_postprocessing/502/api_gold.conf\n",
      "0\n",
      "Starting GOLD with conf file /home/benoit/bioactive_conformation_predictor/gold_docking_postprocessing/696/api_gold.conf\n",
      "Setting up GOLD environment...\n",
      "GOLD Version 2021.2.0\n",
      "Running:\n",
      " \n",
      "     \"/home/benoit/CCDC/Discovery_2021/GOLD/gold/d_linux_64/bin/gold_linux_64\" \"/home/benoit/bioactive_conformation_predictor/gold_docking_postprocessing/502/api_gold.conf\"\n",
      "\n",
      "Setting up GOLD environment...\n",
      "GOLD Version 2021.2.0\n",
      "Running:\n",
      " \n",
      "     \"/home/benoit/CCDC/Discovery_2021/GOLD/gold/d_linux_64/bin/gold_linux_64\" \"/home/benoit/bioactive_conformation_predictor/gold_docking_postprocessing/696/api_gold.conf\"\n",
      "\n",
      "0\n",
      "0\n",
      "0\n",
      "Starting GOLD with conf file /home/benoit/bioactive_conformation_predictor/gold_docking_postprocessing/720/api_gold.conf\n"
     ]
    },
    {
     "name": "stderr",
     "output_type": "stream",
     "text": [
      "RDKit WARNING: [17:10:13] unknown|651|mol2|1|dock90: warning - O.co2 with non C.2 or S.o2 neighbor.\n",
      "RDKit WARNING: [17:10:13] unknown|651|mol2|1|dock53: warning - O.co2 with non C.2 or S.o2 neighbor.\n"
     ]
    },
    {
     "name": "stdout",
     "output_type": "stream",
     "text": [
      "Setting up GOLD environment...\n",
      "GOLD Version 2021.2.0\n",
      "Running:\n",
      " \n",
      "     \"/home/benoit/CCDC/Discovery_2021/GOLD/gold/d_linux_64/bin/gold_linux_64\" \"/home/benoit/bioactive_conformation_predictor/gold_docking_postprocessing/720/api_gold.conf\"\n",
      "\n"
     ]
    },
    {
     "name": "stderr",
     "output_type": "stream",
     "text": [
      "[17:10:13] unknown|651|mol2|1|dock90: warning - O.co2 with non C.2 or S.o2 neighbor.\n",
      "[17:10:13] unknown|651|mol2|1|dock53: warning - O.co2 with non C.2 or S.o2 neighbor.\n",
      "RDKit WARNING: [17:10:14] unknown|651|mol2|1|dock90: warning - O.co2 with non C.2 or S.o2 neighbor.\n",
      "RDKit WARNING: [17:10:14] unknown|651|mol2|1|dock75: warning - O.co2 with non C.2 or S.o2 neighbor.\n",
      "[17:10:14] unknown|651|mol2|1|dock90: warning - O.co2 with non C.2 or S.o2 neighbor.\n",
      "[17:10:14] unknown|651|mol2|1|dock75: warning - O.co2 with non C.2 or S.o2 neighbor.\n",
      "RDKit WARNING: [17:10:14] unknown|651|mol2|1|dock15: warning - O.co2 with non C.2 or S.o2 neighbor.\n"
     ]
    },
    {
     "name": "stdout",
     "output_type": "stream",
     "text": [
      "0"
     ]
    },
    {
     "name": "stderr",
     "output_type": "stream",
     "text": [
      "RDKit WARNING: [17:10:14] unknown|651|mol2|1|dock72: warning - O.co2 with non C.2 or S.o2 neighbor.\n"
     ]
    },
    {
     "name": "stdout",
     "output_type": "stream",
     "text": [
      "\n",
      "Starting GOLD with conf file /home/benoit/bioactive_conformation_predictor/gold_docking_postprocessing/652/api_gold.conf"
     ]
    },
    {
     "name": "stderr",
     "output_type": "stream",
     "text": [
      "[17:10:14] unknown|651|mol2|1|dock15: warning - O.co2 with non C.2 or S.o2 neighbor.\n",
      "[17:10:14] unknown|651|mol2|1|dock72: warning - O.co2 with non C.2 or S.o2 neighbor.\n"
     ]
    },
    {
     "name": "stdout",
     "output_type": "stream",
     "text": [
      "\n",
      "Setting up GOLD environment...\n",
      "GOLD Version 2021.2.0\n",
      "Running:\n",
      " \n",
      "     \"/home/benoit/CCDC/Discovery_2021/GOLD/gold/d_linux_64/bin/gold_linux_64\" \"/home/benoit/bioactive_conformation_predictor/gold_docking_postprocessing/652/api_gold.conf\"\n",
      "\n",
      "Starting GOLD with conf file /home/benoit/bioactive_conformation_predictor/gold_docking_postprocessing/580/api_gold.conf\n",
      "Setting up GOLD environment...\n",
      "GOLD Version 2021.2.0\n",
      "Running:\n",
      " \n",
      "     \"/home/benoit/CCDC/Discovery_2021/GOLD/gold/d_linux_64/bin/gold_linux_64\" \"/home/benoit/bioactive_conformation_predictor/gold_docking_postprocessing/580/api_gold.conf\"\n",
      "\n"
     ]
    },
    {
     "name": "stderr",
     "output_type": "stream",
     "text": [
      "RDKit WARNING: [17:10:17] unknown|626|mol2|1|dock82: warning - O.co2 with non C.2 or S.o2 neighbor.\n",
      "RDKit WARNING: [17:10:17] unknown|626|mol2|1|dock34: warning - O.co2 with non C.2 or S.o2 neighbor.\n"
     ]
    },
    {
     "name": "stdout",
     "output_type": "stream",
     "text": [
      "Starting GOLD with conf file /home/benoit/bioactive_conformation_predictor/gold_docking_postprocessing/675/api_gold.conf\n"
     ]
    },
    {
     "name": "stderr",
     "output_type": "stream",
     "text": [
      "[17:10:17] unknown|626|mol2|1|dock82: warning - O.co2 with non C.2 or S.o2 neighbor.\n",
      "[17:10:17] unknown|626|mol2|1|dock34: warning - O.co2 with non C.2 or S.o2 neighbor.\n",
      "RDKit WARNING: [17:10:18] unknown|626|mol2|1|dock82: warning - O.co2 with non C.2 or S.o2 neighbor.\n",
      "RDKit WARNING: [17:10:18] unknown|626|mol2|1|dock71: warning - O.co2 with non C.2 or S.o2 neighbor.\n"
     ]
    },
    {
     "name": "stdout",
     "output_type": "stream",
     "text": [
      "Setting up GOLD environment...\n",
      "GOLD Version 2021.2.0\n",
      "Running:\n",
      " \n",
      "     \"/home/benoit/CCDC/Discovery_2021/GOLD/gold/d_linux_64/bin/gold_linux_64\" \"/home/benoit/bioactive_conformation_predictor/gold_docking_postprocessing/675/api_gold.conf\"\n",
      "\n"
     ]
    },
    {
     "name": "stderr",
     "output_type": "stream",
     "text": [
      "[17:10:18] unknown|626|mol2|1|dock82: warning - O.co2 with non C.2 or S.o2 neighbor.\n",
      "[17:10:18] unknown|626|mol2|1|dock71: warning - O.co2 with non C.2 or S.o2 neighbor.\n",
      "RDKit WARNING: [17:10:18] unknown|626|mol2|1|dock82: warning - O.co2 with non C.2 or S.o2 neighbor.\n",
      "RDKit WARNING: [17:10:18] unknown|626|mol2|1|dock71: warning - O.co2 with non C.2 or S.o2 neighbor.\n"
     ]
    },
    {
     "name": "stdout",
     "output_type": "stream",
     "text": [
      "Starting GOLD with conf file /home/benoit/bioactive_conformation_predictor/gold_docking_postprocessing/627/api_gold.conf\n"
     ]
    },
    {
     "name": "stderr",
     "output_type": "stream",
     "text": [
      "[17:10:18] unknown|626|mol2|1|dock82: warning - O.co2 with non C.2 or S.o2 neighbor.\n",
      "[17:10:18] unknown|626|mol2|1|dock71: warning - O.co2 with non C.2 or S.o2 neighbor.\n"
     ]
    },
    {
     "name": "stdout",
     "output_type": "stream",
     "text": [
      "Setting up GOLD environment...\n",
      "GOLD Version 2021.2.0\n",
      "Running:\n",
      " \n",
      "     \"/home/benoit/CCDC/Discovery_2021/GOLD/gold/d_linux_64/bin/gold_linux_64\" \"/home/benoit/bioactive_conformation_predictor/gold_docking_postprocessing/627/api_gold.conf\"\n",
      "\n",
      "Starting GOLD with conf file /home/benoit/bioactive_conformation_predictor/gold_docking_postprocessing/548/api_gold.conf\n",
      "Setting up GOLD environment...\n",
      "GOLD Version 2021.2.0\n",
      "Running:\n",
      " \n",
      "     \"/home/benoit/CCDC/Discovery_2021/GOLD/gold/d_linux_64/bin/gold_linux_64\" \"/home/benoit/bioactive_conformation_predictor/gold_docking_postprocessing/548/api_gold.conf\"\n",
      "\n",
      "Starting GOLD with conf file /home/benoit/bioactive_conformation_predictor/gold_docking_postprocessing/556/api_gold.conf\n",
      "Setting up GOLD environment...\n",
      "GOLD Version 2021.2.0\n",
      "Running:\n",
      " \n",
      "     \"/home/benoit/CCDC/Discovery_2021/GOLD/gold/d_linux_64/bin/gold_linux_64\" \"/home/benoit/bioactive_conformation_predictor/gold_docking_postprocessing/556/api_gold.conf\"\n",
      "\n",
      "0\n",
      "0\n",
      "Starting GOLD with conf file /home/benoit/bioactive_conformation_predictor/gold_docking_postprocessing/676/api_gold.conf\n",
      "0\n",
      "Setting up GOLD environment...\n",
      "GOLD Version 2021.2.0\n",
      "Running:\n",
      " \n",
      "     \"/home/benoit/CCDC/Discovery_2021/GOLD/gold/d_linux_64/bin/gold_linux_64\" \"/home/benoit/bioactive_conformation_predictor/gold_docking_postprocessing/676/api_gold.conf\"\n",
      "\n",
      "0\n",
      "0\n",
      "0\n",
      "Starting GOLD with conf file /home/benoit/bioactive_conformation_predictor/gold_docking_postprocessing/653/api_gold.conf\n",
      "Setting up GOLD environment...\n",
      "GOLD Version 2021.2.0\n",
      "Running:\n",
      " \n",
      "     \"/home/benoit/CCDC/Discovery_2021/GOLD/gold/d_linux_64/bin/gold_linux_64\" \"/home/benoit/bioactive_conformation_predictor/gold_docking_postprocessing/653/api_gold.conf\"\n",
      "\n",
      "Starting GOLD with conf file /home/benoit/bioactive_conformation_predictor/gold_docking_postprocessing/557/api_gold.conf\n",
      "Starting GOLD with conf file /home/benoit/bioactive_conformation_predictor/gold_docking_postprocessing/503/api_gold.conf\n",
      "Starting GOLD with conf file /home/benoit/bioactive_conformation_predictor/gold_docking_postprocessing/603/api_gold.conf\n",
      "Setting up GOLD environment...\n",
      "GOLD Version 2021.2.0\n",
      "Running:\n",
      " \n",
      "     \"/home/benoit/CCDC/Discovery_2021/GOLD/gold/d_linux_64/bin/gold_linux_64\" \"/home/benoit/bioactive_conformation_predictor/gold_docking_postprocessing/557/api_gold.conf\"\n",
      "\n",
      "Setting up GOLD environment...\n",
      "GOLD Version 2021.2.0\n",
      "Running:\n",
      " \n",
      "     \"/home/benoit/CCDC/Discovery_2021/GOLD/gold/d_linux_64/bin/gold_linux_64\" \"/home/benoit/bioactive_conformation_predictor/gold_docking_postprocessing/503/api_gold.conf\"\n",
      "\n",
      "Setting up GOLD environment...\n",
      "GOLD Version 2021.2.0\n",
      "Running:\n",
      " \n",
      "     \"/home/benoit/CCDC/Discovery_2021/GOLD/gold/d_linux_64/bin/gold_linux_64\" \"/home/benoit/bioactive_conformation_predictor/gold_docking_postprocessing/603/api_gold.conf\"\n",
      "\n",
      "Starting GOLD with conf file /home/benoit/bioactive_conformation_predictor/gold_docking_postprocessing/721/api_gold.conf\n",
      "Setting up GOLD environment...\n",
      "GOLD Version 2021.2.0\n",
      "Running:\n",
      " \n",
      "     \"/home/benoit/CCDC/Discovery_2021/GOLD/gold/d_linux_64/bin/gold_linux_64\" \"/home/benoit/bioactive_conformation_predictor/gold_docking_postprocessing/721/api_gold.conf\"\n",
      "\n",
      "0\n",
      "0\n",
      "Starting GOLD with conf file /home/benoit/bioactive_conformation_predictor/gold_docking_postprocessing/558/api_gold.conf\n",
      "Setting up GOLD environment...\n",
      "GOLD Version 2021.2.0\n",
      "Running:\n",
      " \n",
      "     \"/home/benoit/CCDC/Discovery_2021/GOLD/gold/d_linux_64/bin/gold_linux_64\" \"/home/benoit/bioactive_conformation_predictor/gold_docking_postprocessing/558/api_gold.conf\"\n",
      "\n",
      "Starting GOLD with conf file /home/benoit/bioactive_conformation_predictor/gold_docking_postprocessing/697/api_gold.conf\n",
      "Setting up GOLD environment...\n",
      "GOLD Version 2021.2.0\n",
      "Running:\n",
      " \n",
      "     \"/home/benoit/CCDC/Discovery_2021/GOLD/gold/d_linux_64/bin/gold_linux_64\" \"/home/benoit/bioactive_conformation_predictor/gold_docking_postprocessing/697/api_gold.conf\"\n",
      "\n",
      "0\n",
      "Starting GOLD with conf file /home/benoit/bioactive_conformation_predictor/gold_docking_postprocessing/744/api_gold.conf\n",
      "0\n",
      "Setting up GOLD environment...\n",
      "GOLD Version 2021.2.0\n",
      "Running:\n",
      " \n",
      "     \"/home/benoit/CCDC/Discovery_2021/GOLD/gold/d_linux_64/bin/gold_linux_64\" \"/home/benoit/bioactive_conformation_predictor/gold_docking_postprocessing/744/api_gold.conf\"\n",
      "\n",
      "0\n",
      "0\n",
      "Starting GOLD with conf file /home/benoit/bioactive_conformation_predictor/gold_docking_postprocessing/549/api_gold.conf\n",
      "Setting up GOLD environment...\n",
      "GOLD Version 2021.2.0\n",
      "Running:\n",
      " \n",
      "     \"/home/benoit/CCDC/Discovery_2021/GOLD/gold/d_linux_64/bin/gold_linux_64\" \"/home/benoit/bioactive_conformation_predictor/gold_docking_postprocessing/549/api_gold.conf\"\n",
      "\n",
      "Starting GOLD with conf file /home/benoit/bioactive_conformation_predictor/gold_docking_postprocessing/654/api_gold.conf\n",
      "0\n",
      "Setting up GOLD environment...\n",
      "GOLD Version 2021.2.0\n",
      "Running:\n",
      " \n",
      "     \"/home/benoit/CCDC/Discovery_2021/GOLD/gold/d_linux_64/bin/gold_linux_64\" \"/home/benoit/bioactive_conformation_predictor/gold_docking_postprocessing/654/api_gold.conf\"\n",
      "\n",
      "0\n",
      "Starting GOLD with conf file /home/benoit/bioactive_conformation_predictor/gold_docking_postprocessing/604/api_gold.conf\n",
      "Setting up GOLD environment...\n",
      "GOLD Version 2021.2.0\n",
      "Running:\n",
      " \n",
      "     \"/home/benoit/CCDC/Discovery_2021/GOLD/gold/d_linux_64/bin/gold_linux_64\" \"/home/benoit/bioactive_conformation_predictor/gold_docking_postprocessing/604/api_gold.conf\"\n",
      "\n",
      "0\n"
     ]
    },
    {
     "name": "stderr",
     "output_type": "stream",
     "text": [
      "RDKit WARNING: [17:10:46] unknown|580|mol2|1|dock98: warning - O.co2 with non C.2 or S.o2 neighbor.\n",
      "RDKit WARNING: [17:10:46] unknown|580|mol2|1|dock36: warning - O.co2 with non C.2 or S.o2 neighbor.\n",
      "[17:10:46] unknown|580|mol2|1|dock98: warning - O.co2 with non C.2 or S.o2 neighbor.\n",
      "[17:10:46] unknown|580|mol2|1|dock36: warning - O.co2 with non C.2 or S.o2 neighbor.\n",
      "RDKit WARNING: [17:10:46] unknown|580|mol2|1|dock21: warning - O.co2 with non C.2 or S.o2 neighbor.\n",
      "RDKit WARNING: [17:10:46] unknown|580|mol2|1|dock66: warning - O.co2 with non C.2 or S.o2 neighbor.\n",
      "[17:10:46] unknown|580|mol2|1|dock21: warning - O.co2 with non C.2 or S.o2 neighbor.\n",
      "[17:10:46] unknown|580|mol2|1|dock66: warning - O.co2 with non C.2 or S.o2 neighbor.\n"
     ]
    },
    {
     "name": "stdout",
     "output_type": "stream",
     "text": [
      "Starting GOLD with conf file /home/benoit/bioactive_conformation_predictor/gold_docking_postprocessing/722/api_gold.conf\n"
     ]
    },
    {
     "name": "stderr",
     "output_type": "stream",
     "text": [
      "RDKit WARNING: [17:10:47] unknown|580|mol2|1|dock47: warning - O.co2 with non C.2 or S.o2 neighbor.\n",
      "RDKit WARNING: [17:10:47] unknown|580|mol2|1|dock28: warning - O.co2 with non C.2 or S.o2 neighbor.\n"
     ]
    },
    {
     "name": "stdout",
     "output_type": "stream",
     "text": [
      "Starting GOLD with conf file /home/benoit/bioactive_conformation_predictor/gold_docking_postprocessing/581/api_gold.conf\n"
     ]
    },
    {
     "name": "stderr",
     "output_type": "stream",
     "text": [
      "[17:10:47] unknown|580|mol2|1|dock47: warning - O.co2 with non C.2 or S.o2 neighbor.\n",
      "[17:10:47] unknown|580|mol2|1|dock28: warning - O.co2 with non C.2 or S.o2 neighbor.\n"
     ]
    },
    {
     "name": "stdout",
     "output_type": "stream",
     "text": [
      "Setting up GOLD environment...\n",
      "GOLD Version 2021.2.0\n",
      "Running:\n",
      " \n",
      "     \"/home/benoit/CCDC/Discovery_2021/GOLD/gold/d_linux_64/bin/gold_linux_64\" \"/home/benoit/bioactive_conformation_predictor/gold_docking_postprocessing/722/api_gold.conf\"\n",
      "\n",
      "Setting up GOLD environment...\n",
      "GOLD Version 2021.2.0\n",
      "Running:\n",
      " \n",
      "     \"/home/benoit/CCDC/Discovery_2021/GOLD/gold/d_linux_64/bin/gold_linux_64\" \"/home/benoit/bioactive_conformation_predictor/gold_docking_postprocessing/581/api_gold.conf\"\n",
      "\n",
      "0\n",
      "Starting GOLD with conf file /home/benoit/bioactive_conformation_predictor/gold_docking_postprocessing/698/api_gold.conf\n",
      "Setting up GOLD environment...\n",
      "GOLD Version 2021.2.0\n",
      "Running:\n",
      " \n",
      "     \"/home/benoit/CCDC/Discovery_2021/GOLD/gold/d_linux_64/bin/gold_linux_64\" \"/home/benoit/bioactive_conformation_predictor/gold_docking_postprocessing/698/api_gold.conf\"\n",
      "\n",
      "Starting GOLD with conf file /home/benoit/bioactive_conformation_predictor/gold_docking_postprocessing/559/api_gold.conf\n",
      "Setting up GOLD environment...\n",
      "GOLD Version 2021.2.0\n",
      "Running:\n",
      " \n",
      "     \"/home/benoit/CCDC/Discovery_2021/GOLD/gold/d_linux_64/bin/gold_linux_64\" \"/home/benoit/bioactive_conformation_predictor/gold_docking_postprocessing/559/api_gold.conf\"\n",
      "\n",
      "0\n",
      "0\n",
      "0\n",
      "0\n",
      "Starting GOLD with conf file /home/benoit/bioactive_conformation_predictor/gold_docking_postprocessing/723/api_gold.conf\n",
      "0\n",
      "Setting up GOLD environment...\n",
      "GOLD Version 2021.2.0\n",
      "Running:\n",
      " \n",
      "     \"/home/benoit/CCDC/Discovery_2021/GOLD/gold/d_linux_64/bin/gold_linux_64\" \"/home/benoit/bioactive_conformation_predictor/gold_docking_postprocessing/723/api_gold.conf\"\n",
      "\n"
     ]
    },
    {
     "name": "stderr",
     "output_type": "stream",
     "text": [
      "RDKit WARNING: [17:10:58] unknown|604|mol2|1|dock30: warning - O.co2 with non C.2 or S.o2 neighbor.\n",
      "RDKit WARNING: [17:10:58] unknown|604|mol2|1|dock93: warning - O.co2 with non C.2 or S.o2 neighbor.\n"
     ]
    },
    {
     "name": "stdout",
     "output_type": "stream",
     "text": [
      "0\n"
     ]
    },
    {
     "name": "stderr",
     "output_type": "stream",
     "text": [
      "[17:10:58] unknown|604|mol2|1|dock30: warning - O.co2 with non C.2 or S.o2 neighbor.\n",
      "[17:10:58] unknown|604|mol2|1|dock93: warning - O.co2 with non C.2 or S.o2 neighbor.\n",
      "RDKit WARNING: [17:10:58] unknown|604|mol2|1|dock31: warning - O.co2 with non C.2 or S.o2 neighbor.\n",
      "RDKit WARNING: [17:10:58] unknown|604|mol2|1|dock93: warning - O.co2 with non C.2 or S.o2 neighbor.\n",
      "[17:10:58] unknown|604|mol2|1|dock31: warning - O.co2 with non C.2 or S.o2 neighbor.\n",
      "[17:10:58] unknown|604|mol2|1|dock93: warning - O.co2 with non C.2 or S.o2 neighbor.\n",
      "RDKit WARNING: [17:10:59] unknown|604|mol2|1|dock94: warning - O.co2 with non C.2 or S.o2 neighbor.\n",
      "RDKit WARNING: [17:10:59] unknown|604|mol2|1|dock21: warning - O.co2 with non C.2 or S.o2 neighbor.\n",
      "[17:10:59] unknown|604|mol2|1|dock94: warning - O.co2 with non C.2 or S.o2 neighbor.\n",
      "[17:10:59] unknown|604|mol2|1|dock21: warning - O.co2 with non C.2 or S.o2 neighbor.\n"
     ]
    },
    {
     "name": "stdout",
     "output_type": "stream",
     "text": [
      "Starting GOLD with conf file /home/benoit/bioactive_conformation_predictor/gold_docking_postprocessing/605/api_gold.conf\n",
      "Setting up GOLD environment...\n",
      "GOLD Version 2021.2.0\n",
      "Running:\n",
      " \n",
      "     \"/home/benoit/CCDC/Discovery_2021/GOLD/gold/d_linux_64/bin/gold_linux_64\" \"/home/benoit/bioactive_conformation_predictor/gold_docking_postprocessing/605/api_gold.conf\"\n",
      "\n",
      "Starting GOLD with conf file /home/benoit/bioactive_conformation_predictor/gold_docking_postprocessing/699/api_gold.conf\n",
      "Setting up GOLD environment...\n",
      "GOLD Version 2021.2.0\n",
      "Running:\n",
      " \n",
      "     \"/home/benoit/CCDC/Discovery_2021/GOLD/gold/d_linux_64/bin/gold_linux_64\" \"/home/benoit/bioactive_conformation_predictor/gold_docking_postprocessing/699/api_gold.conf\"\n",
      "\n",
      "0\n",
      "Starting GOLD with conf file /home/benoit/bioactive_conformation_predictor/gold_docking_postprocessing/582/api_gold.conf\n",
      "0\n",
      "Setting up GOLD environment...\n",
      "GOLD Version 2021.2.0\n",
      "Running:\n",
      " \n",
      "     \"/home/benoit/CCDC/Discovery_2021/GOLD/gold/d_linux_64/bin/gold_linux_64\" \"/home/benoit/bioactive_conformation_predictor/gold_docking_postprocessing/582/api_gold.conf\"\n",
      "\n",
      "Starting GOLD with conf file /home/benoit/bioactive_conformation_predictor/gold_docking_postprocessing/550/api_gold.conf\n",
      "Setting up GOLD environment...\n",
      "GOLD Version 2021.2.0\n",
      "Running:\n",
      " \n",
      "     \"/home/benoit/CCDC/Discovery_2021/GOLD/gold/d_linux_64/bin/gold_linux_64\" \"/home/benoit/bioactive_conformation_predictor/gold_docking_postprocessing/550/api_gold.conf\"\n",
      "\n",
      "Starting GOLD with conf file /home/benoit/bioactive_conformation_predictor/gold_docking_postprocessing/628/api_gold.conf\n",
      "Setting up GOLD environment...\n",
      "GOLD Version 2021.2.0\n",
      "Running:\n",
      " \n",
      "     \"/home/benoit/CCDC/Discovery_2021/GOLD/gold/d_linux_64/bin/gold_linux_64\" \"/home/benoit/bioactive_conformation_predictor/gold_docking_postprocessing/628/api_gold.conf\"\n",
      "\n",
      "Starting GOLD with conf file /home/benoit/bioactive_conformation_predictor/gold_docking_postprocessing/527/api_gold.conf\n",
      "Starting GOLD with conf file /home/benoit/bioactive_conformation_predictor/gold_docking_postprocessing/745/api_gold.conf\n",
      "Setting up GOLD environment...\n",
      "GOLD Version 2021.2.0\n",
      "Running:\n",
      " \n",
      "     \"/home/benoit/CCDC/Discovery_2021/GOLD/gold/d_linux_64/bin/gold_linux_64\" \"/home/benoit/bioactive_conformation_predictor/gold_docking_postprocessing/527/api_gold.conf\"\n",
      "\n",
      "Setting up GOLD environment...\n",
      "GOLD Version 2021.2.0\n",
      "Running:\n",
      " \n",
      "     \"/home/benoit/CCDC/Discovery_2021/GOLD/gold/d_linux_64/bin/gold_linux_64\" \"/home/benoit/bioactive_conformation_predictor/gold_docking_postprocessing/745/api_gold.conf\"\n",
      "\n",
      "0\n"
     ]
    },
    {
     "name": "stderr",
     "output_type": "stream",
     "text": [
      "RDKit WARNING: [17:11:08] unknown|559|mol2|1|dock7: warning - O.co2 with non C.2 or S.o2 neighbor.\n",
      "RDKit WARNING: [17:11:08] unknown|559|mol2|1|dock56: warning - O.co2 with non C.2 or S.o2 neighbor.\n",
      "[17:11:08] unknown|559|mol2|1|dock7: warning - O.co2 with non C.2 or S.o2 neighbor.\n",
      "[17:11:08] unknown|559|mol2|1|dock56: warning - O.co2 with non C.2 or S.o2 neighbor.\n",
      "RDKit WARNING: [17:11:08] unknown|559|mol2|1|dock24: warning - O.co2 with non C.2 or S.o2 neighbor.\n",
      "RDKit WARNING: [17:11:08] unknown|559|mol2|1|dock25: warning - O.co2 with non C.2 or S.o2 neighbor.\n",
      "[17:11:08] unknown|559|mol2|1|dock24: warning - O.co2 with non C.2 or S.o2 neighbor.\n",
      "[17:11:08] unknown|559|mol2|1|dock25: warning - O.co2 with non C.2 or S.o2 neighbor.\n",
      "RDKit WARNING: [17:11:09] unknown|559|mol2|1|dock8: warning - O.co2 with non C.2 or S.o2 neighbor.\n",
      "RDKit WARNING: [17:11:09] unknown|559|mol2|1|dock4: warning - O.co2 with non C.2 or S.o2 neighbor.\n"
     ]
    },
    {
     "name": "stdout",
     "output_type": "stream",
     "text": [
      "Starting GOLD with conf file /home/benoit/bioactive_conformation_predictor/gold_docking_postprocessing/560/api_gold.conf\n"
     ]
    },
    {
     "name": "stderr",
     "output_type": "stream",
     "text": [
      "[17:11:09] unknown|559|mol2|1|dock8: warning - O.co2 with non C.2 or S.o2 neighbor.\n",
      "[17:11:09] unknown|559|mol2|1|dock4: warning - O.co2 with non C.2 or S.o2 neighbor.\n"
     ]
    },
    {
     "name": "stdout",
     "output_type": "stream",
     "text": [
      "Setting up GOLD environment...\n",
      "GOLD Version 2021.2.0\n",
      "Running:\n",
      " \n",
      "     \"/home/benoit/CCDC/Discovery_2021/GOLD/gold/d_linux_64/bin/gold_linux_64\" \"/home/benoit/bioactive_conformation_predictor/gold_docking_postprocessing/560/api_gold.conf\"\n",
      "\n",
      "0\n",
      "0\n",
      "0\n",
      "Starting GOLD with conf file /home/benoit/bioactive_conformation_predictor/gold_docking_postprocessing/583/api_gold.conf\n",
      "Setting up GOLD environment...\n",
      "GOLD Version 2021.2.0\n",
      "Running:\n",
      " \n",
      "     \"/home/benoit/CCDC/Discovery_2021/GOLD/gold/d_linux_64/bin/gold_linux_64\" \"/home/benoit/bioactive_conformation_predictor/gold_docking_postprocessing/583/api_gold.conf\"\n",
      "\n",
      "0\n"
     ]
    },
    {
     "name": "stderr",
     "output_type": "stream",
     "text": [
      "RDKit WARNING: [17:11:12] unknown|699|mol2|1|dock26: warning - O.co2 with non C.2 or S.o2 neighbor.\n",
      "RDKit WARNING: [17:11:12] unknown|699|mol2|1|dock84: warning - O.co2 with non C.2 or S.o2 neighbor.\n",
      "[17:11:12] unknown|699|mol2|1|dock26: warning - O.co2 with non C.2 or S.o2 neighbor.\n",
      "[17:11:12] unknown|699|mol2|1|dock84: warning - O.co2 with non C.2 or S.o2 neighbor.\n",
      "RDKit WARNING: [17:11:12] unknown|699|mol2|1|dock78: warning - O.co2 with non C.2 or S.o2 neighbor.\n",
      "RDKit WARNING: [17:11:12] unknown|699|mol2|1|dock74: warning - O.co2 with non C.2 or S.o2 neighbor.\n"
     ]
    },
    {
     "name": "stdout",
     "output_type": "stream",
     "text": [
      "0\n"
     ]
    },
    {
     "name": "stderr",
     "output_type": "stream",
     "text": [
      "[17:11:12] unknown|699|mol2|1|dock78: warning - O.co2 with non C.2 or S.o2 neighbor.\n",
      "[17:11:12] unknown|699|mol2|1|dock74: warning - O.co2 with non C.2 or S.o2 neighbor.\n",
      "RDKit WARNING: [17:11:12] unknown|699|mol2|1|dock2: warning - O.co2 with non C.2 or S.o2 neighbor.\n",
      "RDKit WARNING: [17:11:12] unknown|699|mol2|1|dock74: warning - O.co2 with non C.2 or S.o2 neighbor.\n",
      "[17:11:12] unknown|699|mol2|1|dock2: warning - O.co2 with non C.2 or S.o2 neighbor.\n",
      "[17:11:12] unknown|699|mol2|1|dock74: warning - O.co2 with non C.2 or S.o2 neighbor.\n"
     ]
    },
    {
     "name": "stdout",
     "output_type": "stream",
     "text": [
      "Starting GOLD with conf file /home/benoit/bioactive_conformation_predictor/gold_docking_postprocessing/700/api_gold.conf\n",
      "Setting up GOLD environment...\n",
      "GOLD Version 2021.2.0\n",
      "Running:\n",
      " \n",
      "     \"/home/benoit/CCDC/Discovery_2021/GOLD/gold/d_linux_64/bin/gold_linux_64\" \"/home/benoit/bioactive_conformation_predictor/gold_docking_postprocessing/700/api_gold.conf\"\n",
      "\n",
      "0\n",
      "Starting GOLD with conf file /home/benoit/bioactive_conformation_predictor/gold_docking_postprocessing/655/api_gold.conf\n",
      "Setting up GOLD environment...\n",
      "GOLD Version 2021.2.0\n",
      "Running:\n",
      " \n",
      "     \"/home/benoit/CCDC/Discovery_2021/GOLD/gold/d_linux_64/bin/gold_linux_64\" \"/home/benoit/bioactive_conformation_predictor/gold_docking_postprocessing/655/api_gold.conf\"\n",
      "\n",
      "Starting GOLD with conf file /home/benoit/bioactive_conformation_predictor/gold_docking_postprocessing/724/api_gold.conf\n",
      "0\n",
      "Setting up GOLD environment...\n",
      "GOLD Version 2021.2.0\n",
      "Running:\n",
      " \n",
      "     \"/home/benoit/CCDC/Discovery_2021/GOLD/gold/d_linux_64/bin/gold_linux_64\" \"/home/benoit/bioactive_conformation_predictor/gold_docking_postprocessing/724/api_gold.conf\"\n",
      "\n",
      "Starting GOLD with conf file /home/benoit/bioactive_conformation_predictor/gold_docking_postprocessing/606/api_gold.conf\n",
      "Setting up GOLD environment...\n",
      "GOLD Version 2021.2.0\n",
      "Running:\n",
      " \n",
      "     \"/home/benoit/CCDC/Discovery_2021/GOLD/gold/d_linux_64/bin/gold_linux_64\" \"/home/benoit/bioactive_conformation_predictor/gold_docking_postprocessing/606/api_gold.conf\"\n",
      "\n",
      "Starting GOLD with conf file /home/benoit/bioactive_conformation_predictor/gold_docking_postprocessing/677/api_gold.conf\n",
      "Setting up GOLD environment...\n",
      "GOLD Version 2021.2.0\n",
      "Running:\n",
      " \n",
      "     \"/home/benoit/CCDC/Discovery_2021/GOLD/gold/d_linux_64/bin/gold_linux_64\" \"/home/benoit/bioactive_conformation_predictor/gold_docking_postprocessing/677/api_gold.conf\"\n",
      "\n",
      "Starting GOLD with conf file /home/benoit/bioactive_conformation_predictor/gold_docking_postprocessing/629/api_gold.conf\n",
      "Setting up GOLD environment...\n",
      "GOLD Version 2021.2.0\n",
      "Running:\n",
      " \n",
      "     \"/home/benoit/CCDC/Discovery_2021/GOLD/gold/d_linux_64/bin/gold_linux_64\" \"/home/benoit/bioactive_conformation_predictor/gold_docking_postprocessing/629/api_gold.conf\"\n",
      "\n",
      "0\n",
      "0\n"
     ]
    },
    {
     "name": "stderr",
     "output_type": "stream",
     "text": [
      "RDKit WARNING: [17:11:21] unknown|583|mol2|1|dock55: warning - O.co2 with non C.2 or S.o2 neighbor.\n",
      "RDKit WARNING: [17:11:21] unknown|583|mol2|1|dock10: warning - O.co2 with non C.2 or S.o2 neighbor.\n",
      "RDKit WARNING: [17:11:21] unknown|583|mol2|1|dock55: warning - O.co2 with non C.2 or S.o2 neighbor.\n",
      "RDKit WARNING: [17:11:21] unknown|583|mol2|1|dock10: warning - O.co2 with non C.2 or S.o2 neighbor.\n",
      "[17:11:21] unknown|583|mol2|1|dock55: warning - O.co2 with non C.2 or S.o2 neighbor.\n",
      "[17:11:21] unknown|583|mol2|1|dock10: warning - O.co2 with non C.2 or S.o2 neighbor.\n",
      "[17:11:21] unknown|583|mol2|1|dock55: warning - O.co2 with non C.2 or S.o2 neighbor.\n",
      "[17:11:21] unknown|583|mol2|1|dock10: warning - O.co2 with non C.2 or S.o2 neighbor.\n",
      "RDKit WARNING: [17:11:22] unknown|583|mol2|1|dock89: warning - O.co2 with non C.2 or S.o2 neighbor.\n",
      "RDKit WARNING: [17:11:22] unknown|583|mol2|1|dock40: warning - O.co2 with non C.2 or S.o2 neighbor.\n"
     ]
    },
    {
     "name": "stdout",
     "output_type": "stream",
     "text": [
      "Starting GOLD with conf file /home/benoit/bioactive_conformation_predictor/gold_docking_postprocessing/584/api_gold.conf\n"
     ]
    },
    {
     "name": "stderr",
     "output_type": "stream",
     "text": [
      "[17:11:22] unknown|583|mol2|1|dock89: warning - O.co2 with non C.2 or S.o2 neighbor.\n",
      "[17:11:22] unknown|583|mol2|1|dock40: warning - O.co2 with non C.2 or S.o2 neighbor.\n"
     ]
    },
    {
     "name": "stdout",
     "output_type": "stream",
     "text": [
      "Setting up GOLD environment...\n",
      "GOLD Version 2021.2.0\n",
      "Running:\n",
      " \n",
      "     \"/home/benoit/CCDC/Discovery_2021/GOLD/gold/d_linux_64/bin/gold_linux_64\" \"/home/benoit/bioactive_conformation_predictor/gold_docking_postprocessing/584/api_gold.conf\"\n",
      "\n",
      "0\n",
      "Starting GOLD with conf file /home/benoit/bioactive_conformation_predictor/gold_docking_postprocessing/607/api_gold.conf\n",
      "Setting up GOLD environment...\n",
      "GOLD Version 2021.2.0\n",
      "Running:\n",
      " \n",
      "     \"/home/benoit/CCDC/Discovery_2021/GOLD/gold/d_linux_64/bin/gold_linux_64\" \"/home/benoit/bioactive_conformation_predictor/gold_docking_postprocessing/607/api_gold.conf\"\n",
      "\n",
      "0\n",
      "0\n",
      "Starting GOLD with conf file /home/benoit/bioactive_conformation_predictor/gold_docking_postprocessing/656/api_gold.conf\n",
      "Setting up GOLD environment...\n",
      "GOLD Version 2021.2.0\n",
      "Running:\n",
      " \n",
      "     \"/home/benoit/CCDC/Discovery_2021/GOLD/gold/d_linux_64/bin/gold_linux_64\" \"/home/benoit/bioactive_conformation_predictor/gold_docking_postprocessing/656/api_gold.conf\"\n",
      "\n",
      "0\n"
     ]
    },
    {
     "name": "stderr",
     "output_type": "stream",
     "text": [
      "RDKit WARNING: [17:11:26] unknown|724|mol2|1|dock23: warning - O.co2 with non C.2 or S.o2 neighbor.\n",
      "RDKit WARNING: [17:11:26] unknown|724|mol2|1|dock16: warning - O.co2 with non C.2 or S.o2 neighbor.\n",
      "[17:11:26] unknown|724|mol2|1|dock23: warning - O.co2 with non C.2 or S.o2 neighbor.\n",
      "[17:11:26] unknown|724|mol2|1|dock16: warning - O.co2 with non C.2 or S.o2 neighbor.\n",
      "RDKit WARNING: [17:11:26] unknown|724|mol2|1|dock23: warning - O.co2 with non C.2 or S.o2 neighbor.\n",
      "RDKit WARNING: [17:11:26] unknown|724|mol2|1|dock14: warning - O.co2 with non C.2 or S.o2 neighbor.\n",
      "[17:11:26] unknown|724|mol2|1|dock23: warning - O.co2 with non C.2 or S.o2 neighbor.\n",
      "[17:11:26] unknown|724|mol2|1|dock14: warning - O.co2 with non C.2 or S.o2 neighbor.\n",
      "RDKit WARNING: [17:11:26] unknown|724|mol2|1|dock16: warning - O.co2 with non C.2 or S.o2 neighbor.\n",
      "RDKit WARNING: [17:11:26] unknown|724|mol2|1|dock35: warning - O.co2 with non C.2 or S.o2 neighbor.\n",
      "[17:11:26] unknown|724|mol2|1|dock16: warning - O.co2 with non C.2 or S.o2 neighbor.\n",
      "[17:11:26] unknown|724|mol2|1|dock35: warning - O.co2 with non C.2 or S.o2 neighbor.\n"
     ]
    },
    {
     "name": "stdout",
     "output_type": "stream",
     "text": [
      "Starting GOLD with conf file /home/benoit/bioactive_conformation_predictor/gold_docking_postprocessing/725/api_gold.conf\n",
      "0\n",
      "Setting up GOLD environment...\n",
      "GOLD Version 2021.2.0\n",
      "Running:\n",
      " \n",
      "     \"/home/benoit/CCDC/Discovery_2021/GOLD/gold/d_linux_64/bin/gold_linux_64\" \"/home/benoit/bioactive_conformation_predictor/gold_docking_postprocessing/725/api_gold.conf\"\n",
      "\n",
      "Starting GOLD with conf file /home/benoit/bioactive_conformation_predictor/gold_docking_postprocessing/608/api_gold.conf\n",
      "Setting up GOLD environment...\n",
      "GOLD Version 2021.2.0\n",
      "Running:\n",
      " \n",
      "     \"/home/benoit/CCDC/Discovery_2021/GOLD/gold/d_linux_64/bin/gold_linux_64\" \"/home/benoit/bioactive_conformation_predictor/gold_docking_postprocessing/608/api_gold.conf\"\n",
      "\n",
      "Starting GOLD with conf file /home/benoit/bioactive_conformation_predictor/gold_docking_postprocessing/561/api_gold.conf\n",
      "Starting GOLD with conf file /home/benoit/bioactive_conformation_predictor/gold_docking_postprocessing/551/api_gold.conf\n",
      "0\n",
      "Setting up GOLD environment...\n",
      "GOLD Version 2021.2.0\n",
      "Running:\n",
      " \n",
      "     \"/home/benoit/CCDC/Discovery_2021/GOLD/gold/d_linux_64/bin/gold_linux_64\" \"/home/benoit/bioactive_conformation_predictor/gold_docking_postprocessing/561/api_gold.conf\"\n",
      "\n",
      "Setting up GOLD environment...\n",
      "GOLD Version 2021.2.0\n",
      "Running:\n",
      " \n",
      "     \"/home/benoit/CCDC/Discovery_2021/GOLD/gold/d_linux_64/bin/gold_linux_64\" \"/home/benoit/bioactive_conformation_predictor/gold_docking_postprocessing/551/api_gold.conf\"\n",
      "\n",
      "0\n",
      "0\n"
     ]
    },
    {
     "name": "stderr",
     "output_type": "stream",
     "text": [
      "RDKit WARNING: [17:11:32] unknown|629|mol2|1|dock98: warning - O.co2 with non C.2 or S.o2 neighbor.\n",
      "RDKit WARNING: [17:11:32] unknown|629|mol2|1|dock22: warning - O.co2 with non C.2 or S.o2 neighbor.\n",
      "[17:11:32] unknown|629|mol2|1|dock98: warning - O.co2 with non C.2 or S.o2 neighbor.\n",
      "[17:11:32] unknown|629|mol2|1|dock22: warning - O.co2 with non C.2 or S.o2 neighbor.\n",
      "RDKit WARNING: [17:11:32] unknown|629|mol2|1|dock60: warning - O.co2 with non C.2 or S.o2 neighbor.\n",
      "RDKit WARNING: [17:11:32] unknown|629|mol2|1|dock68: warning - O.co2 with non C.2 or S.o2 neighbor.\n",
      "[17:11:32] unknown|629|mol2|1|dock60: warning - O.co2 with non C.2 or S.o2 neighbor.\n",
      "[17:11:32] unknown|629|mol2|1|dock68: warning - O.co2 with non C.2 or S.o2 neighbor.\n",
      "RDKit WARNING: [17:11:33] unknown|629|mol2|1|dock97: warning - O.co2 with non C.2 or S.o2 neighbor.\n",
      "RDKit WARNING: [17:11:33] unknown|629|mol2|1|dock41: warning - O.co2 with non C.2 or S.o2 neighbor.\n"
     ]
    },
    {
     "name": "stdout",
     "output_type": "stream",
     "text": [
      "Starting GOLD with conf file /home/benoit/bioactive_conformation_predictor/gold_docking_postprocessing/630/api_gold.conf\n"
     ]
    },
    {
     "name": "stderr",
     "output_type": "stream",
     "text": [
      "[17:11:33] unknown|629|mol2|1|dock97: warning - O.co2 with non C.2 or S.o2 neighbor.\n",
      "[17:11:33] unknown|629|mol2|1|dock41: warning - O.co2 with non C.2 or S.o2 neighbor.\n"
     ]
    },
    {
     "name": "stdout",
     "output_type": "stream",
     "text": [
      "Setting up GOLD environment...\n",
      "GOLD Version 2021.2.0\n",
      "Running:\n",
      " \n",
      "     \"/home/benoit/CCDC/Discovery_2021/GOLD/gold/d_linux_64/bin/gold_linux_64\" \"/home/benoit/bioactive_conformation_predictor/gold_docking_postprocessing/630/api_gold.conf\"\n",
      "\n",
      "Starting GOLD with conf file /home/benoit/bioactive_conformation_predictor/gold_docking_postprocessing/746/api_gold.conf\n",
      "Setting up GOLD environment...\n",
      "GOLD Version 2021.2.0\n",
      "Running:\n",
      " \n",
      "     \"/home/benoit/CCDC/Discovery_2021/GOLD/gold/d_linux_64/bin/gold_linux_64\" \"/home/benoit/bioactive_conformation_predictor/gold_docking_postprocessing/746/api_gold.conf\"\n",
      "\n",
      "Starting GOLD with conf file /home/benoit/bioactive_conformation_predictor/gold_docking_postprocessing/678/api_gold.conf\n",
      "Setting up GOLD environment...\n",
      "GOLD Version 2021.2.0\n",
      "Running:\n",
      " \n",
      "     \"/home/benoit/CCDC/Discovery_2021/GOLD/gold/d_linux_64/bin/gold_linux_64\" \"/home/benoit/bioactive_conformation_predictor/gold_docking_postprocessing/678/api_gold.conf\"\n",
      "\n",
      "0\n",
      "0\n",
      "0\n"
     ]
    },
    {
     "name": "stderr",
     "output_type": "stream",
     "text": [
      "RDKit ERROR: [17:11:38] UFFTYPER: Unrecognized charge state for atom: 1\n",
      "RDKit ERROR: [17:11:38] UFFTYPER: Unrecognized charge state for atom: 1\n",
      "RDKit ERROR: [17:11:38] UFFTYPER: Unrecognized charge state for atom: 1\n",
      "RDKit ERROR: [17:11:38] UFFTYPER: Unrecognized charge state for atom: 1\n",
      "RDKit ERROR: [17:11:38] UFFTYPER: Unrecognized charge state for atom: 1\n",
      "RDKit ERROR: [17:11:38] UFFTYPER: Unrecognized charge state for atom: 1\n",
      "RDKit ERROR: [17:11:38] UFFTYPER: Unrecognized charge state for atom: 1\n",
      "RDKit ERROR: [17:11:38] UFFTYPER: Unrecognized charge state for atom: 1\n",
      "RDKit ERROR: [17:11:38] UFFTYPER: Unrecognized charge state for atom: 1\n",
      "RDKit ERROR: [17:11:38] UFFTYPER: Unrecognized charge state for atom: 1\n",
      "RDKit ERROR: [17:11:38] UFFTYPER: Unrecognized charge state for atom: 1\n",
      "RDKit ERROR: [17:11:38] UFFTYPER: Unrecognized charge state for atom: 1\n",
      "RDKit ERROR: [17:11:38] UFFTYPER: Unrecognized charge state for atom: 1\n",
      "RDKit ERROR: [17:11:38] UFFTYPER: Unrecognized charge state for atom: 1\n",
      "RDKit ERROR: [17:11:39] UFFTYPER: Unrecognized charge state for atom: 1\n",
      "RDKit ERROR: [17:11:39] UFFTYPER: Unrecognized charge state for atom: 1\n",
      "RDKit ERROR: [17:11:39] UFFTYPER: Unrecognized charge state for atom: 1\n",
      "RDKit ERROR: [17:11:39] UFFTYPER: Unrecognized charge state for atom: 1\n",
      "RDKit ERROR: [17:11:39] UFFTYPER: Unrecognized charge state for atom: 1\n",
      "RDKit ERROR: [17:11:39] UFFTYPER: Unrecognized charge state for atom: 1\n",
      "RDKit ERROR: [17:11:39] UFFTYPER: Unrecognized charge state for atom: 1\n",
      "RDKit ERROR: [17:11:39] UFFTYPER: Unrecognized charge state for atom: 1\n",
      "RDKit ERROR: [17:11:39] UFFTYPER: Unrecognized charge state for atom: 1\n",
      "RDKit ERROR: [17:11:39] UFFTYPER: Unrecognized charge state for atom: 1\n",
      "RDKit ERROR: [17:11:39] UFFTYPER: Unrecognized charge state for atom: 1\n",
      "RDKit ERROR: [17:11:39] UFFTYPER: Unrecognized charge state for atom: 1\n",
      "RDKit ERROR: [17:11:39] UFFTYPER: Unrecognized charge state for atom: 1\n",
      "RDKit ERROR: [17:11:39] UFFTYPER: Unrecognized charge state for atom: 1\n",
      "RDKit ERROR: [17:11:39] UFFTYPER: Unrecognized charge state for atom: 1\n",
      "RDKit ERROR: [17:11:39] UFFTYPER: Unrecognized charge state for atom: 1\n",
      "RDKit ERROR: [17:11:39] UFFTYPER: Unrecognized charge state for atom: 1\n",
      "RDKit ERROR: [17:11:39] UFFTYPER: Unrecognized charge state for atom: 1\n",
      "RDKit ERROR: [17:11:39] UFFTYPER: Unrecognized charge state for atom: 1\n",
      "RDKit ERROR: [17:11:39] UFFTYPER: Unrecognized charge state for atom: 1\n",
      "RDKit ERROR: [17:11:39] UFFTYPER: Unrecognized charge state for atom: 1\n",
      "RDKit ERROR: [17:11:39] UFFTYPER: Unrecognized charge state for atom: 1\n",
      "RDKit ERROR: [17:11:39] UFFTYPER: Unrecognized charge state for atom: 1\n",
      "RDKit ERROR: [17:11:39] UFFTYPER: Unrecognized charge state for atom: 1\n",
      "RDKit ERROR: [17:11:39] UFFTYPER: Unrecognized charge state for atom: 1\n",
      "RDKit ERROR: [17:11:39] UFFTYPER: Unrecognized charge state for atom: 1\n",
      "RDKit ERROR: [17:11:39] UFFTYPER: Unrecognized charge state for atom: 1\n",
      "RDKit ERROR: [17:11:39] UFFTYPER: Unrecognized charge state for atom: 1\n",
      "RDKit ERROR: [17:11:39] UFFTYPER: Unrecognized charge state for atom: 1\n",
      "RDKit ERROR: [17:11:39] UFFTYPER: Unrecognized charge state for atom: 1\n",
      "RDKit ERROR: [17:11:39] UFFTYPER: Unrecognized charge state for atom: 1\n",
      "RDKit ERROR: [17:11:39] UFFTYPER: Unrecognized charge state for atom: 1\n",
      "RDKit ERROR: [17:11:39] UFFTYPER: Unrecognized charge state for atom: 1\n",
      "RDKit ERROR: [17:11:39] UFFTYPER: Unrecognized charge state for atom: 1\n",
      "RDKit ERROR: [17:11:39] UFFTYPER: Unrecognized charge state for atom: 1\n",
      "RDKit ERROR: [17:11:39] UFFTYPER: Unrecognized charge state for atom: 1\n",
      "RDKit ERROR: [17:11:39] UFFTYPER: Unrecognized charge state for atom: 1\n",
      "RDKit ERROR: [17:11:39] UFFTYPER: Unrecognized charge state for atom: 1\n",
      "RDKit ERROR: [17:11:39] UFFTYPER: Unrecognized charge state for atom: 1\n",
      "RDKit ERROR: [17:11:39] UFFTYPER: Unrecognized charge state for atom: 1\n",
      "RDKit ERROR: [17:11:39] UFFTYPER: Unrecognized charge state for atom: 1\n",
      "RDKit ERROR: [17:11:39] UFFTYPER: Unrecognized charge state for atom: 1\n",
      "RDKit ERROR: [17:11:39] UFFTYPER: Unrecognized charge state for atom: 1\n",
      "RDKit ERROR: [17:11:39] UFFTYPER: Unrecognized charge state for atom: 1\n",
      "RDKit ERROR: [17:11:39] UFFTYPER: Unrecognized charge state for atom: 1\n",
      "RDKit ERROR: [17:11:39] UFFTYPER: Unrecognized charge state for atom: 1\n",
      "RDKit ERROR: [17:11:39] UFFTYPER: Unrecognized charge state for atom: 1\n",
      "RDKit ERROR: [17:11:39] UFFTYPER: Unrecognized charge state for atom: 1\n",
      "RDKit ERROR: [17:11:39] UFFTYPER: Unrecognized charge state for atom: 1\n",
      "RDKit ERROR: [17:11:39] UFFTYPER: Unrecognized charge state for atom: 1\n",
      "RDKit ERROR: [17:11:39] UFFTYPER: Unrecognized charge state for atom: 1\n",
      "RDKit ERROR: [17:11:39] UFFTYPER: Unrecognized charge state for atom: 1\n",
      "RDKit ERROR: [17:11:39] UFFTYPER: Unrecognized charge state for atom: 1\n",
      "RDKit ERROR: [17:11:39] UFFTYPER: Unrecognized charge state for atom: 1\n",
      "RDKit ERROR: [17:11:39] UFFTYPER: Unrecognized charge state for atom: 1\n",
      "RDKit ERROR: [17:11:39] UFFTYPER: Unrecognized charge state for atom: 1\n",
      "RDKit ERROR: [17:11:39] UFFTYPER: Unrecognized charge state for atom: 1\n",
      "RDKit ERROR: [17:11:39] UFFTYPER: Unrecognized charge state for atom: 1\n",
      "RDKit ERROR: [17:11:39] UFFTYPER: Unrecognized charge state for atom: 1\n",
      "RDKit ERROR: [17:11:39] UFFTYPER: Unrecognized charge state for atom: 1\n",
      "RDKit ERROR: [17:11:39] UFFTYPER: Unrecognized charge state for atom: 1\n",
      "RDKit ERROR: [17:11:39] UFFTYPER: Unrecognized charge state for atom: 1\n",
      "RDKit ERROR: [17:11:39] UFFTYPER: Unrecognized charge state for atom: 1\n",
      "RDKit ERROR: [17:11:39] UFFTYPER: Unrecognized charge state for atom: 1\n",
      "RDKit ERROR: [17:11:39] UFFTYPER: Unrecognized charge state for atom: 1\n",
      "RDKit ERROR: [17:11:39] UFFTYPER: Unrecognized charge state for atom: 1\n",
      "RDKit ERROR: [17:11:39] UFFTYPER: Unrecognized charge state for atom: 1\n",
      "RDKit ERROR: [17:11:39] UFFTYPER: Unrecognized charge state for atom: 1\n",
      "RDKit ERROR: [17:11:39] UFFTYPER: Unrecognized charge state for atom: 1\n",
      "RDKit ERROR: [17:11:39] UFFTYPER: Unrecognized charge state for atom: 1\n",
      "RDKit ERROR: [17:11:39] UFFTYPER: Unrecognized charge state for atom: 1\n",
      "RDKit ERROR: [17:11:39] UFFTYPER: Unrecognized charge state for atom: 1\n",
      "RDKit ERROR: [17:11:39] UFFTYPER: Unrecognized charge state for atom: 1\n",
      "RDKit ERROR: [17:11:39] UFFTYPER: Unrecognized charge state for atom: 1\n",
      "[17:11:38] UFFTYPER: Unrecognized charge state for atom: 1\n",
      "[17:11:38] UFFTYPER: Unrecognized charge state for atom: 1\n",
      "[17:11:38] UFFTYPER: Unrecognized charge state for atom: 1\n",
      "[17:11:38] UFFTYPER: Unrecognized charge state for atom: 1\n",
      "[17:11:38] UFFTYPER: Unrecognized charge state for atom: 1\n",
      "[17:11:38] UFFTYPER: Unrecognized charge state for atom: 1\n",
      "[17:11:38] UFFTYPER: Unrecognized charge state for atom: 1\n",
      "[17:11:38] UFFTYPER: Unrecognized charge state for atom: 1\n",
      "[17:11:38] UFFTYPER: Unrecognized charge state for atom: 1\n",
      "[17:11:38] UFFTYPER: Unrecognized charge state for atom: 1\n",
      "[17:11:38] UFFTYPER: Unrecognized charge state for atom: 1\n",
      "[17:11:38] UFFTYPER: Unrecognized charge state for atom: 1\n",
      "[17:11:38] UFFTYPER: Unrecognized charge state for atom: 1\n",
      "[17:11:38] UFFTYPER: Unrecognized charge state for atom: 1\n",
      "[17:11:39] UFFTYPER: Unrecognized charge state for atom: 1\n",
      "[17:11:39] UFFTYPER: Unrecognized charge state for atom: 1\n",
      "[17:11:39] UFFTYPER: Unrecognized charge state for atom: 1\n",
      "[17:11:39] UFFTYPER: Unrecognized charge state for atom: 1\n",
      "[17:11:39] UFFTYPER: Unrecognized charge state for atom: 1\n",
      "[17:11:39] UFFTYPER: Unrecognized charge state for atom: 1\n",
      "[17:11:39] UFFTYPER: Unrecognized charge state for atom: 1\n",
      "[17:11:39] UFFTYPER: Unrecognized charge state for atom: 1\n",
      "[17:11:39] UFFTYPER: Unrecognized charge state for atom: 1\n",
      "[17:11:39] UFFTYPER: Unrecognized charge state for atom: 1\n",
      "[17:11:39] UFFTYPER: Unrecognized charge state for atom: 1\n",
      "[17:11:39] UFFTYPER: Unrecognized charge state for atom: 1\n",
      "[17:11:39] UFFTYPER: Unrecognized charge state for atom: 1\n",
      "[17:11:39] UFFTYPER: Unrecognized charge state for atom: 1\n",
      "[17:11:39] UFFTYPER: Unrecognized charge state for atom: 1\n",
      "[17:11:39] UFFTYPER: Unrecognized charge state for atom: 1\n",
      "[17:11:39] UFFTYPER: Unrecognized charge state for atom: 1\n",
      "[17:11:39] UFFTYPER: Unrecognized charge state for atom: 1\n",
      "[17:11:39] UFFTYPER: Unrecognized charge state for atom: 1\n",
      "[17:11:39] UFFTYPER: Unrecognized charge state for atom: 1\n",
      "[17:11:39] UFFTYPER: Unrecognized charge state for atom: 1\n",
      "[17:11:39] UFFTYPER: Unrecognized charge state for atom: 1\n",
      "[17:11:39] UFFTYPER: Unrecognized charge state for atom: 1\n",
      "[17:11:39] UFFTYPER: Unrecognized charge state for atom: 1\n",
      "[17:11:39] UFFTYPER: Unrecognized charge state for atom: 1\n",
      "[17:11:39] UFFTYPER: Unrecognized charge state for atom: 1\n",
      "[17:11:39] UFFTYPER: Unrecognized charge state for atom: 1\n",
      "[17:11:39] UFFTYPER: Unrecognized charge state for atom: 1\n",
      "[17:11:39] UFFTYPER: Unrecognized charge state for atom: 1\n",
      "[17:11:39] UFFTYPER: Unrecognized charge state for atom: 1\n",
      "[17:11:39] UFFTYPER: Unrecognized charge state for atom: 1\n",
      "[17:11:39] UFFTYPER: Unrecognized charge state for atom: 1\n",
      "[17:11:39] UFFTYPER: Unrecognized charge state for atom: 1\n",
      "[17:11:39] UFFTYPER: Unrecognized charge state for atom: 1\n",
      "[17:11:39] UFFTYPER: Unrecognized charge state for atom: 1\n",
      "[17:11:39] UFFTYPER: Unrecognized charge state for atom: 1\n",
      "[17:11:39] UFFTYPER: Unrecognized charge state for atom: 1\n",
      "[17:11:39] UFFTYPER: Unrecognized charge state for atom: 1\n",
      "[17:11:39] UFFTYPER: Unrecognized charge state for atom: 1\n",
      "[17:11:39] UFFTYPER: Unrecognized charge state for atom: 1\n",
      "[17:11:39] UFFTYPER: Unrecognized charge state for atom: 1\n",
      "[17:11:39] UFFTYPER: Unrecognized charge state for atom: 1\n",
      "[17:11:39] UFFTYPER: Unrecognized charge state for atom: 1\n",
      "[17:11:39] UFFTYPER: Unrecognized charge state for atom: 1\n",
      "[17:11:39] UFFTYPER: Unrecognized charge state for atom: 1\n",
      "[17:11:39] UFFTYPER: Unrecognized charge state for atom: 1\n",
      "[17:11:39] UFFTYPER: Unrecognized charge state for atom: 1\n",
      "[17:11:39] UFFTYPER: Unrecognized charge state for atom: 1\n",
      "[17:11:39] UFFTYPER: Unrecognized charge state for atom: 1\n",
      "[17:11:39] UFFTYPER: Unrecognized charge state for atom: 1\n",
      "[17:11:39] UFFTYPER: Unrecognized charge state for atom: 1\n",
      "[17:11:39] UFFTYPER: Unrecognized charge state for atom: 1\n",
      "[17:11:39] UFFTYPER: Unrecognized charge state for atom: 1\n",
      "[17:11:39] UFFTYPER: Unrecognized charge state for atom: 1\n",
      "[17:11:39] UFFTYPER: Unrecognized charge state for atom: 1\n",
      "[17:11:39] UFFTYPER: Unrecognized charge state for atom: 1\n",
      "[17:11:39] UFFTYPER: Unrecognized charge state for atom: 1\n",
      "[17:11:39] UFFTYPER: Unrecognized charge state for atom: 1\n",
      "[17:11:39] UFFTYPER: Unrecognized charge state for atom: 1\n",
      "[17:11:39] UFFTYPER: Unrecognized charge state for atom: 1\n",
      "[17:11:39] UFFTYPER: Unrecognized charge state for atom: 1\n",
      "[17:11:39] UFFTYPER: Unrecognized charge state for atom: 1\n",
      "[17:11:39] UFFTYPER: Unrecognized charge state for atom: 1\n",
      "[17:11:39] UFFTYPER: Unrecognized charge state for atom: 1\n",
      "[17:11:39] UFFTYPER: Unrecognized charge state for atom: 1\n",
      "[17:11:39] UFFTYPER: Unrecognized charge state for atom: 1\n",
      "[17:11:39] UFFTYPER: Unrecognized charge state for atom: 1\n",
      "[17:11:39] UFFTYPER: Unrecognized charge state for atom: 1\n",
      "[17:11:39] UFFTYPER: Unrecognized charge state for atom: 1\n",
      "[17:11:39] UFFTYPER: Unrecognized charge state for atom: 1\n",
      "[17:11:39] UFFTYPER: Unrecognized charge state for atom: 1\n",
      "[17:11:39] UFFTYPER: Unrecognized charge state for atom: 1\n",
      "[17:11:39] UFFTYPER: Unrecognized charge state for atom: 1\n",
      "[17:11:39] UFFTYPER: Unrecognized charge state for atom: 1\n",
      "[17:11:39] UFFTYPER: Unrecognized charge state for atom: 1\n",
      "RDKit ERROR: [17:11:39] UFFTYPER: Unrecognized charge state for atom: 1\n",
      "RDKit ERROR: [17:11:39] UFFTYPER: Unrecognized charge state for atom: 1\n",
      "RDKit ERROR: [17:11:39] UFFTYPER: Unrecognized charge state for atom: 1\n",
      "RDKit ERROR: [17:11:39] UFFTYPER: Unrecognized charge state for atom: 1\n",
      "RDKit ERROR: [17:11:39] UFFTYPER: Unrecognized charge state for atom: 1\n",
      "RDKit ERROR: [17:11:39] UFFTYPER: Unrecognized charge state for atom: 1\n",
      "RDKit ERROR: [17:11:39] UFFTYPER: Unrecognized charge state for atom: 1\n",
      "RDKit ERROR: [17:11:39] UFFTYPER: Unrecognized charge state for atom: 1\n",
      "RDKit ERROR: [17:11:39] UFFTYPER: Unrecognized charge state for atom: 1\n",
      "RDKit ERROR: [17:11:39] UFFTYPER: Unrecognized charge state for atom: 1\n",
      "RDKit ERROR: [17:11:39] UFFTYPER: Unrecognized charge state for atom: 1\n",
      "RDKit ERROR: [17:11:39] UFFTYPER: Unrecognized charge state for atom: 1\n",
      "RDKit ERROR: [17:11:39] UFFTYPER: Unrecognized charge state for atom: 1\n",
      "[17:11:39] UFFTYPER: Unrecognized charge state for atom: 1\n",
      "[17:11:39] UFFTYPER: Unrecognized charge state for atom: 1\n",
      "[17:11:39] UFFTYPER: Unrecognized charge state for atom: 1\n",
      "[17:11:39] UFFTYPER: Unrecognized charge state for atom: 1\n",
      "[17:11:39] UFFTYPER: Unrecognized charge state for atom: 1\n",
      "[17:11:39] UFFTYPER: Unrecognized charge state for atom: 1\n",
      "[17:11:39] UFFTYPER: Unrecognized charge state for atom: 1\n",
      "[17:11:39] UFFTYPER: Unrecognized charge state for atom: 1\n",
      "[17:11:39] UFFTYPER: Unrecognized charge state for atom: 1\n",
      "[17:11:39] UFFTYPER: Unrecognized charge state for atom: 1\n",
      "[17:11:39] UFFTYPER: Unrecognized charge state for atom: 1\n",
      "[17:11:39] UFFTYPER: Unrecognized charge state for atom: 1\n"
     ]
    },
    {
     "name": "stdout",
     "output_type": "stream",
     "text": [
      "0\n",
      "Starting GOLD with conf file /home/benoit/bioactive_conformation_predictor/gold_docking_postprocessing/726/api_gold.conf\n",
      "0\n",
      "Setting up GOLD environment...\n",
      "GOLD Version 2021.2.0\n",
      "Running:\n",
      " \n",
      "     \"/home/benoit/CCDC/Discovery_2021/GOLD/gold/d_linux_64/bin/gold_linux_64\" \"/home/benoit/bioactive_conformation_predictor/gold_docking_postprocessing/726/api_gold.conf\"\n",
      "\n",
      "Starting GOLD with conf file /home/benoit/bioactive_conformation_predictor/gold_docking_postprocessing/701/api_gold.conf\n",
      "Setting up GOLD environment...\n",
      "GOLD Version 2021.2.0\n",
      "Running:\n",
      " \n",
      "     \"/home/benoit/CCDC/Discovery_2021/GOLD/gold/d_linux_64/bin/gold_linux_64\" \"/home/benoit/bioactive_conformation_predictor/gold_docking_postprocessing/701/api_gold.conf\"\n",
      "\n",
      "Starting GOLD with conf file /home/benoit/bioactive_conformation_predictor/gold_docking_postprocessing/585/api_gold.conf\n",
      "Starting GOLD with conf file /home/benoit/bioactive_conformation_predictor/gold_docking_postprocessing/657/api_gold.conf\n",
      "Setting up GOLD environment...\n",
      "GOLD Version 2021.2.0\n",
      "Running:\n",
      " \n",
      "     \"/home/benoit/CCDC/Discovery_2021/GOLD/gold/d_linux_64/bin/gold_linux_64\" \"/home/benoit/bioactive_conformation_predictor/gold_docking_postprocessing/585/api_gold.conf\"\n",
      "\n",
      "Setting up GOLD environment...\n",
      "GOLD Version 2021.2.0\n",
      "Running:\n",
      " \n",
      "     \"/home/benoit/CCDC/Discovery_2021/GOLD/gold/d_linux_64/bin/gold_linux_64\" \"/home/benoit/bioactive_conformation_predictor/gold_docking_postprocessing/657/api_gold.conf\"\n",
      "\n",
      "0\n",
      "0\n",
      "Starting GOLD with conf file /home/benoit/bioactive_conformation_predictor/gold_docking_postprocessing/768/api_gold.conf\n",
      "Setting up GOLD environment...\n",
      "GOLD Version 2021.2.0\n",
      "Running:\n",
      " \n",
      "     \"/home/benoit/CCDC/Discovery_2021/GOLD/gold/d_linux_64/bin/gold_linux_64\" \"/home/benoit/bioactive_conformation_predictor/gold_docking_postprocessing/768/api_gold.conf\"\n",
      "\n",
      "Starting GOLD with conf file /home/benoit/bioactive_conformation_predictor/gold_docking_postprocessing/679/api_gold.conf\n",
      "Setting up GOLD environment...\n",
      "GOLD Version 2021.2.0\n",
      "Running:\n",
      " \n",
      "     \"/home/benoit/CCDC/Discovery_2021/GOLD/gold/d_linux_64/bin/gold_linux_64\" \"/home/benoit/bioactive_conformation_predictor/gold_docking_postprocessing/679/api_gold.conf\"\n",
      "\n",
      "0\n",
      "Starting GOLD with conf file /home/benoit/bioactive_conformation_predictor/gold_docking_postprocessing/792/api_gold.conf\n",
      "0\n",
      "Setting up GOLD environment...\n",
      "GOLD Version 2021.2.0\n",
      "Running:\n",
      " \n",
      "     \"/home/benoit/CCDC/Discovery_2021/GOLD/gold/d_linux_64/bin/gold_linux_64\" \"/home/benoit/bioactive_conformation_predictor/gold_docking_postprocessing/792/api_gold.conf\"\n",
      "\n",
      "0\n",
      "0\n",
      "Starting GOLD with conf file /home/benoit/bioactive_conformation_predictor/gold_docking_postprocessing/586/api_gold.conf\n",
      "Starting GOLD with conf file /home/benoit/bioactive_conformation_predictor/gold_docking_postprocessing/680/api_gold.conf\n",
      "Setting up GOLD environment...\n",
      "Setting up GOLD environment...\n",
      "GOLD Version 2021.2.0GOLD Version 2021.2.0\n",
      "\n",
      "Running:\n",
      " \n",
      "     \"/home/benoit/CCDC/Discovery_2021/GOLD/gold/d_linux_64/bin/gold_linux_64\" \"/home/benoit/bioactive_conformation_predictor/gold_docking_postprocessing/680/api_gold.conf\"\n",
      "\n",
      "Running:\n",
      " \n",
      "     \"/home/benoit/CCDC/Discovery_2021/GOLD/gold/d_linux_64/bin/gold_linux_64\" \"/home/benoit/bioactive_conformation_predictor/gold_docking_postprocessing/586/api_gold.conf\"\n",
      "\n",
      "Starting GOLD with conf file /home/benoit/bioactive_conformation_predictor/gold_docking_postprocessing/609/api_gold.conf\n",
      "Setting up GOLD environment...\n",
      "GOLD Version 2021.2.0\n",
      "Running:\n",
      " \n",
      "     \"/home/benoit/CCDC/Discovery_2021/GOLD/gold/d_linux_64/bin/gold_linux_64\" \"/home/benoit/bioactive_conformation_predictor/gold_docking_postprocessing/609/api_gold.conf\"\n",
      "\n",
      "0\n",
      "Starting GOLD with conf file /home/benoit/bioactive_conformation_predictor/gold_docking_postprocessing/727/api_gold.conf\n",
      "Setting up GOLD environment...\n",
      "GOLD Version 2021.2.0\n",
      "Running:\n",
      " \n",
      "     \"/home/benoit/CCDC/Discovery_2021/GOLD/gold/d_linux_64/bin/gold_linux_64\" \"/home/benoit/bioactive_conformation_predictor/gold_docking_postprocessing/727/api_gold.conf\"\n",
      "\n",
      "0\n"
     ]
    },
    {
     "name": "stderr",
     "output_type": "stream",
     "text": [
      "RDKit WARNING: [17:11:57] unknown|701|mol2|1|dock77: warning - O.co2 with non C.2 or S.o2 neighbor.\n",
      "RDKit WARNING: [17:11:57] unknown|701|mol2|1|dock32: warning - O.co2 with non C.2 or S.o2 neighbor.\n",
      "[17:11:57] unknown|701|mol2|1|dock77: warning - O.co2 with non C.2 or S.o2 neighbor.\n",
      "[17:11:57] unknown|701|mol2|1|dock32: warning - O.co2 with non C.2 or S.o2 neighbor.\n",
      "RDKit WARNING: [17:11:57] unknown|701|mol2|1|dock41: warning - O.co2 with non C.2 or S.o2 neighbor.\n",
      "RDKit WARNING: [17:11:57] unknown|701|mol2|1|dock41: warning - O.co2 with non C.2 or S.o2 neighbor.\n",
      "[17:11:57] unknown|701|mol2|1|dock41: warning - O.co2 with non C.2 or S.o2 neighbor.\n",
      "[17:11:57] unknown|701|mol2|1|dock41: warning - O.co2 with non C.2 or S.o2 neighbor.\n"
     ]
    },
    {
     "name": "stdout",
     "output_type": "stream",
     "text": [
      "0\n"
     ]
    },
    {
     "name": "stderr",
     "output_type": "stream",
     "text": [
      "RDKit WARNING: [17:11:57] unknown|701|mol2|1|dock8: warning - O.co2 with non C.2 or S.o2 neighbor.\n",
      "RDKit WARNING: [17:11:57] unknown|701|mol2|1|dock81: warning - O.co2 with non C.2 or S.o2 neighbor.\n"
     ]
    },
    {
     "name": "stdout",
     "output_type": "stream",
     "text": [
      "Starting GOLD with conf file /home/benoit/bioactive_conformation_predictor/gold_docking_postprocessing/631/api_gold.conf\n",
      "Starting GOLD with conf file /home/benoit/bioactive_conformation_predictor/gold_docking_postprocessing/702/api_gold.conf\n"
     ]
    },
    {
     "name": "stderr",
     "output_type": "stream",
     "text": [
      "[17:11:57] unknown|701|mol2|1|dock8: warning - O.co2 with non C.2 or S.o2 neighbor.\n",
      "[17:11:57] unknown|701|mol2|1|dock81: warning - O.co2 with non C.2 or S.o2 neighbor.\n"
     ]
    },
    {
     "name": "stdout",
     "output_type": "stream",
     "text": [
      "Setting up GOLD environment...\n",
      "GOLD Version 2021.2.0\n",
      "Running:\n",
      " \n",
      "     \"/home/benoit/CCDC/Discovery_2021/GOLD/gold/d_linux_64/bin/gold_linux_64\" \"/home/benoit/bioactive_conformation_predictor/gold_docking_postprocessing/631/api_gold.conf\"\n",
      "\n",
      "Setting up GOLD environment...\n",
      "GOLD Version 2021.2.0\n",
      "Running:\n",
      " \n",
      "     \"/home/benoit/CCDC/Discovery_2021/GOLD/gold/d_linux_64/bin/gold_linux_64\" \"/home/benoit/bioactive_conformation_predictor/gold_docking_postprocessing/702/api_gold.conf\"\n",
      "\n"
     ]
    },
    {
     "name": "stderr",
     "output_type": "stream",
     "text": [
      "RDKit WARNING: [17:11:58] unknown|680|mol2|1|dock65: warning - O.co2 with non C.2 or S.o2 neighbor.\n",
      "RDKit WARNING: [17:11:58] unknown|680|mol2|1|dock45: warning - O.co2 with non C.2 or S.o2 neighbor.\n",
      "RDKit WARNING: [17:11:58] unknown|680|mol2|1|dock22: warning - O.co2 with non C.2 or S.o2 neighbor.\n",
      "RDKit WARNING: [17:11:58] unknown|680|mol2|1|dock57: warning - O.co2 with non C.2 or S.o2 neighbor.\n",
      "[17:11:58] unknown|680|mol2|1|dock65: warning - O.co2 with non C.2 or S.o2 neighbor.\n",
      "[17:11:58] unknown|680|mol2|1|dock45: warning - O.co2 with non C.2 or S.o2 neighbor.\n",
      "[17:11:58] unknown|680|mol2|1|dock22: warning - O.co2 with non C.2 or S.o2 neighbor.\n",
      "[17:11:58] unknown|680|mol2|1|dock57: warning - O.co2 with non C.2 or S.o2 neighbor.\n",
      "RDKit WARNING: [17:11:59] unknown|680|mol2|1|dock63: warning - O.co2 with non C.2 or S.o2 neighbor.\n",
      "RDKit WARNING: [17:11:59] unknown|680|mol2|1|dock57: warning - O.co2 with non C.2 or S.o2 neighbor.\n",
      "[17:11:59] unknown|680|mol2|1|dock63: warning - O.co2 with non C.2 or S.o2 neighbor.\n",
      "[17:11:59] unknown|680|mol2|1|dock57: warning - O.co2 with non C.2 or S.o2 neighbor.\n"
     ]
    },
    {
     "name": "stdout",
     "output_type": "stream",
     "text": [
      "Starting GOLD with conf file /home/benoit/bioactive_conformation_predictor/gold_docking_postprocessing/681/api_gold.conf\n",
      "Setting up GOLD environment...\n",
      "GOLD Version 2021.2.0\n",
      "Running:\n",
      " \n",
      "     \"/home/benoit/CCDC/Discovery_2021/GOLD/gold/d_linux_64/bin/gold_linux_64\" \"/home/benoit/bioactive_conformation_predictor/gold_docking_postprocessing/681/api_gold.conf\"\n",
      "\n",
      "0\n",
      "0\n",
      "Starting GOLD with conf file /home/benoit/bioactive_conformation_predictor/gold_docking_postprocessing/587/api_gold.conf\n",
      "Setting up GOLD environment...\n",
      "GOLD Version 2021.2.0\n",
      "Running:\n",
      " \n",
      "     \"/home/benoit/CCDC/Discovery_2021/GOLD/gold/d_linux_64/bin/gold_linux_64\" \"/home/benoit/bioactive_conformation_predictor/gold_docking_postprocessing/587/api_gold.conf\"\n",
      "\n",
      "0\n",
      "0\n"
     ]
    },
    {
     "name": "stderr",
     "output_type": "stream",
     "text": [
      "RDKit WARNING: [17:12:06] unknown|657|mol2|1|dock53: warning - O.co2 with non C.2 or S.o2 neighbor.\n",
      "RDKit WARNING: [17:12:06] unknown|657|mol2|1|dock55: warning - O.co2 with non C.2 or S.o2 neighbor.\n",
      "[17:12:06] unknown|657|mol2|1|dock53: warning - O.co2 with non C.2 or S.o2 neighbor.\n",
      "[17:12:06] unknown|657|mol2|1|dock55: warning - O.co2 with non C.2 or S.o2 neighbor.\n",
      "RDKit WARNING: [17:12:07] unknown|657|mol2|1|dock55: warning - O.co2 with non C.2 or S.o2 neighbor.\n",
      "RDKit WARNING: [17:12:07] unknown|657|mol2|1|dock24: warning - O.co2 with non C.2 or S.o2 neighbor.\n"
     ]
    },
    {
     "name": "stdout",
     "output_type": "stream",
     "text": [
      "0\n"
     ]
    },
    {
     "name": "stderr",
     "output_type": "stream",
     "text": [
      "[17:12:07] unknown|657|mol2|1|dock55: warning - O.co2 with non C.2 or S.o2 neighbor.\n",
      "[17:12:07] unknown|657|mol2|1|dock24: warning - O.co2 with non C.2 or S.o2 neighbor.\n"
     ]
    },
    {
     "name": "stdout",
     "output_type": "stream",
     "text": [
      "0\n"
     ]
    },
    {
     "name": "stderr",
     "output_type": "stream",
     "text": [
      "RDKit WARNING: [17:12:07] unknown|657|mol2|1|dock81: warning - O.co2 with non C.2 or S.o2 neighbor.\n",
      "RDKit WARNING: [17:12:07] unknown|657|mol2|1|dock8: warning - O.co2 with non C.2 or S.o2 neighbor.\n",
      "[17:12:07] unknown|657|mol2|1|dock81: warning - O.co2 with non C.2 or S.o2 neighbor.\n",
      "[17:12:07] unknown|657|mol2|1|dock8: warning - O.co2 with non C.2 or S.o2 neighbor.\n"
     ]
    },
    {
     "name": "stdout",
     "output_type": "stream",
     "text": [
      "Starting GOLD with conf file /home/benoit/bioactive_conformation_predictor/gold_docking_postprocessing/658/api_gold.conf\n",
      "Setting up GOLD environment...\n",
      "GOLD Version 2021.2.0\n",
      "Running:\n",
      " \n",
      "     \"/home/benoit/CCDC/Discovery_2021/GOLD/gold/d_linux_64/bin/gold_linux_64\" \"/home/benoit/bioactive_conformation_predictor/gold_docking_postprocessing/658/api_gold.conf\"\n",
      "\n",
      "0\n",
      "0\n",
      "Starting GOLD with conf file /home/benoit/bioactive_conformation_predictor/gold_docking_postprocessing/747/api_gold.conf\n",
      "Setting up GOLD environment...\n",
      "GOLD Version 2021.2.0\n",
      "Running:\n",
      " \n",
      "     \"/home/benoit/CCDC/Discovery_2021/GOLD/gold/d_linux_64/bin/gold_linux_64\" \"/home/benoit/bioactive_conformation_predictor/gold_docking_postprocessing/747/api_gold.conf\"\n",
      "\n",
      "Starting GOLD with conf file /home/benoit/bioactive_conformation_predictor/gold_docking_postprocessing/632/api_gold.conf\n",
      "Starting GOLD with conf file /home/benoit/bioactive_conformation_predictor/gold_docking_postprocessing/588/api_gold.conf\n",
      "Setting up GOLD environment...\n",
      "GOLD Version 2021.2.0\n",
      "Running:\n",
      " \n",
      "     \"/home/benoit/CCDC/Discovery_2021/GOLD/gold/d_linux_64/bin/gold_linux_64\" \"/home/benoit/bioactive_conformation_predictor/gold_docking_postprocessing/632/api_gold.conf\"\n",
      "\n",
      "Setting up GOLD environment...\n",
      "GOLD Version 2021.2.0\n",
      "Running:\n",
      " \n",
      "     \"/home/benoit/CCDC/Discovery_2021/GOLD/gold/d_linux_64/bin/gold_linux_64\" \"/home/benoit/bioactive_conformation_predictor/gold_docking_postprocessing/588/api_gold.conf\"\n",
      "\n",
      "Starting GOLD with conf file /home/benoit/bioactive_conformation_predictor/gold_docking_postprocessing/728/api_gold.conf\n"
     ]
    },
    {
     "name": "stderr",
     "output_type": "stream",
     "text": [
      "RDKit WARNING: [17:12:12] unknown|215|mol2|1|dock86: warning - O.co2 with non C.2 or S.o2 neighbor.\n",
      "RDKit WARNING: [17:12:12] unknown|215|mol2|1|dock12: warning - O.co2 with non C.2 or S.o2 neighbor.\n",
      "[17:12:12] unknown|215|mol2|1|dock86: warning - O.co2 with non C.2 or S.o2 neighbor.\n",
      "[17:12:12] unknown|215|mol2|1|dock12: warning - O.co2 with non C.2 or S.o2 neighbor.\n"
     ]
    },
    {
     "name": "stdout",
     "output_type": "stream",
     "text": [
      "Starting GOLD with conf file /home/benoit/bioactive_conformation_predictor/gold_docking_postprocessing/703/api_gold.conf\n",
      "Setting up GOLD environment...\n",
      "GOLD Version 2021.2.0\n",
      "Running:\n",
      " \n",
      "     \"/home/benoit/CCDC/Discovery_2021/GOLD/gold/d_linux_64/bin/gold_linux_64\" \"/home/benoit/bioactive_conformation_predictor/gold_docking_postprocessing/728/api_gold.conf\"\n",
      "\n",
      "0\n",
      "Setting up GOLD environment...\n",
      "GOLD Version 2021.2.0\n",
      "Running:\n",
      " \n",
      "     \"/home/benoit/CCDC/Discovery_2021/GOLD/gold/d_linux_64/bin/gold_linux_64\" \"/home/benoit/bioactive_conformation_predictor/gold_docking_postprocessing/703/api_gold.conf\"\n",
      "\n"
     ]
    },
    {
     "name": "stderr",
     "output_type": "stream",
     "text": [
      "RDKit WARNING: [17:12:13] unknown|215|mol2|1|dock6: warning - O.co2 with non C.2 or S.o2 neighbor.\n",
      "RDKit WARNING: [17:12:13] unknown|215|mol2|1|dock62: warning - O.co2 with non C.2 or S.o2 neighbor.\n",
      "[17:12:13] unknown|215|mol2|1|dock6: warning - O.co2 with non C.2 or S.o2 neighbor.\n",
      "[17:12:13] unknown|215|mol2|1|dock62: warning - O.co2 with non C.2 or S.o2 neighbor.\n",
      "RDKit WARNING: [17:12:14] unknown|215|mol2|1|dock97: warning - O.co2 with non C.2 or S.o2 neighbor.\n",
      "RDKit WARNING: [17:12:14] unknown|215|mol2|1|dock32: warning - O.co2 with non C.2 or S.o2 neighbor.\n",
      "[17:12:14] unknown|215|mol2|1|dock97: warning - O.co2 with non C.2 or S.o2 neighbor.\n",
      "[17:12:14] unknown|215|mol2|1|dock32: warning - O.co2 with non C.2 or S.o2 neighbor.\n"
     ]
    },
    {
     "name": "stdout",
     "output_type": "stream",
     "text": [
      "Starting GOLD with conf file /home/benoit/bioactive_conformation_predictor/gold_docking_postprocessing/816/api_gold.conf\n",
      "Setting up GOLD environment...\n",
      "GOLD Version 2021.2.0\n",
      "Running:\n",
      " \n",
      "     \"/home/benoit/CCDC/Discovery_2021/GOLD/gold/d_linux_64/bin/gold_linux_64\" \"/home/benoit/bioactive_conformation_predictor/gold_docking_postprocessing/816/api_gold.conf\"\n",
      "\n",
      "0\n",
      "0\n",
      "Starting GOLD with conf file /home/benoit/bioactive_conformation_predictor/gold_docking_postprocessing/610/api_gold.conf\n",
      "Setting up GOLD environment...\n",
      "GOLD Version 2021.2.0\n",
      "Running:\n",
      " \n",
      "     \"/home/benoit/CCDC/Discovery_2021/GOLD/gold/d_linux_64/bin/gold_linux_64\" \"/home/benoit/bioactive_conformation_predictor/gold_docking_postprocessing/610/api_gold.conf\"\n",
      "\n",
      "0\n",
      "0\n",
      "Starting GOLD with conf file /home/benoit/bioactive_conformation_predictor/gold_docking_postprocessing/769/api_gold.conf\n"
     ]
    },
    {
     "name": "stderr",
     "output_type": "stream",
     "text": [
      "RDKit WARNING: [17:12:19] unknown|792|mol2|1|dock20: warning - O.co2 with non C.2 or S.o2 neighbor.\n",
      "RDKit WARNING: [17:12:19] unknown|792|mol2|1|dock96: warning - O.co2 with non C.2 or S.o2 neighbor.\n",
      "[17:12:19] unknown|792|mol2|1|dock20: warning - O.co2 with non C.2 or S.o2 neighbor.\n",
      "[17:12:19] unknown|792|mol2|1|dock96: warning - O.co2 with non C.2 or S.o2 neighbor.\n"
     ]
    },
    {
     "name": "stdout",
     "output_type": "stream",
     "text": [
      "Setting up GOLD environment...\n",
      "GOLD Version 2021.2.0\n",
      "Running:\n",
      " \n",
      "     \"/home/benoit/CCDC/Discovery_2021/GOLD/gold/d_linux_64/bin/gold_linux_64\" \"/home/benoit/bioactive_conformation_predictor/gold_docking_postprocessing/769/api_gold.conf\"\n",
      "\n"
     ]
    },
    {
     "name": "stderr",
     "output_type": "stream",
     "text": [
      "RDKit WARNING: [17:12:20] unknown|792|mol2|1|dock99: warning - O.co2 with non C.2 or S.o2 neighbor.\n",
      "RDKit WARNING: [17:12:20] unknown|792|mol2|1|dock96: warning - O.co2 with non C.2 or S.o2 neighbor.\n",
      "[17:12:20] unknown|792|mol2|1|dock99: warning - O.co2 with non C.2 or S.o2 neighbor.\n",
      "[17:12:20] unknown|792|mol2|1|dock96: warning - O.co2 with non C.2 or S.o2 neighbor.\n",
      "RDKit WARNING: [17:12:20] unknown|792|mol2|1|dock99: warning - O.co2 with non C.2 or S.o2 neighbor.\n",
      "RDKit WARNING: [17:12:20] unknown|792|mol2|1|dock79: warning - O.co2 with non C.2 or S.o2 neighbor.\n"
     ]
    },
    {
     "name": "stdout",
     "output_type": "stream",
     "text": [
      "Starting GOLD with conf file /home/benoit/bioactive_conformation_predictor/gold_docking_postprocessing/793/api_gold.conf\n"
     ]
    },
    {
     "name": "stderr",
     "output_type": "stream",
     "text": [
      "[17:12:20] unknown|792|mol2|1|dock99: warning - O.co2 with non C.2 or S.o2 neighbor.\n",
      "[17:12:20] unknown|792|mol2|1|dock79: warning - O.co2 with non C.2 or S.o2 neighbor.\n"
     ]
    },
    {
     "name": "stdout",
     "output_type": "stream",
     "text": [
      "Setting up GOLD environment...\n",
      "GOLD Version 2021.2.0\n",
      "Running:\n",
      " \n",
      "     \"/home/benoit/CCDC/Discovery_2021/GOLD/gold/d_linux_64/bin/gold_linux_64\" \"/home/benoit/bioactive_conformation_predictor/gold_docking_postprocessing/793/api_gold.conf\"\n",
      "\n",
      "0\n",
      "Starting GOLD with conf file /home/benoit/bioactive_conformation_predictor/gold_docking_postprocessing/682/api_gold.conf\n",
      "Setting up GOLD environment...\n",
      "GOLD Version 2021.2.0\n",
      "Running:\n",
      " \n",
      "     \"/home/benoit/CCDC/Discovery_2021/GOLD/gold/d_linux_64/bin/gold_linux_64\" \"/home/benoit/bioactive_conformation_predictor/gold_docking_postprocessing/682/api_gold.conf\"\n",
      "\n",
      "0\n",
      "Starting GOLD with conf file /home/benoit/bioactive_conformation_predictor/gold_docking_postprocessing/562/api_gold.conf\n",
      "Setting up GOLD environment...\n",
      "GOLD Version 2021.2.0\n",
      "Running:\n",
      " \n",
      "     \"/home/benoit/CCDC/Discovery_2021/GOLD/gold/d_linux_64/bin/gold_linux_64\" \"/home/benoit/bioactive_conformation_predictor/gold_docking_postprocessing/562/api_gold.conf\"\n",
      "\n",
      "Error with smiles CC(C)(C)OC(=O)Nc1cccc(B(O)O)c1\n",
      "'NoneType' object has no attribute 'CalcEnergy'\n",
      "0\n",
      "Starting GOLD with conf file /home/benoit/bioactive_conformation_predictor/gold_docking_postprocessing/704/api_gold.conf\n",
      "Starting GOLD with conf file /home/benoit/bioactive_conformation_predictor/gold_docking_postprocessing/729/api_gold.conf\n",
      "Setting up GOLD environment...\n",
      "GOLD Version 2021.2.0\n",
      "Running:\n",
      " \n",
      "     \"/home/benoit/CCDC/Discovery_2021/GOLD/gold/d_linux_64/bin/gold_linux_64\" \"/home/benoit/bioactive_conformation_predictor/gold_docking_postprocessing/704/api_gold.conf\"\n",
      "\n",
      "Setting up GOLD environment...\n",
      "GOLD Version 2021.2.0\n",
      "Running:\n",
      " \n",
      "     \"/home/benoit/CCDC/Discovery_2021/GOLD/gold/d_linux_64/bin/gold_linux_64\" \"/home/benoit/bioactive_conformation_predictor/gold_docking_postprocessing/729/api_gold.conf\"\n",
      "\n",
      "Starting GOLD with conf file /home/benoit/bioactive_conformation_predictor/gold_docking_postprocessing/748/api_gold.conf\n",
      "Setting up GOLD environment...\n",
      "GOLD Version 2021.2.0\n",
      "Running:\n",
      " \n",
      "     \"/home/benoit/CCDC/Discovery_2021/GOLD/gold/d_linux_64/bin/gold_linux_64\" \"/home/benoit/bioactive_conformation_predictor/gold_docking_postprocessing/748/api_gold.conf\"\n",
      "\n",
      "0\n"
     ]
    },
    {
     "name": "stderr",
     "output_type": "stream",
     "text": [
      "RDKit WARNING: [17:12:28] unknown|610|mol2|1|dock91: warning - O.co2 with non C.2 or S.o2 neighbor.\n",
      "RDKit WARNING: [17:12:28] unknown|610|mol2|1|dock76: warning - O.co2 with non C.2 or S.o2 neighbor.\n",
      "[17:12:28] unknown|610|mol2|1|dock91: warning - O.co2 with non C.2 or S.o2 neighbor.\n",
      "[17:12:28] unknown|610|mol2|1|dock76: warning - O.co2 with non C.2 or S.o2 neighbor.\n",
      "RDKit WARNING: [17:12:28] unknown|610|mol2|1|dock91: warning - O.co2 with non C.2 or S.o2 neighbor.\n",
      "RDKit WARNING: [17:12:28] unknown|610|mol2|1|dock31: warning - O.co2 with non C.2 or S.o2 neighbor.\n",
      "[17:12:28] unknown|610|mol2|1|dock91: warning - O.co2 with non C.2 or S.o2 neighbor.\n",
      "[17:12:28] unknown|610|mol2|1|dock31: warning - O.co2 with non C.2 or S.o2 neighbor.\n",
      "RDKit WARNING: [17:12:28] unknown|610|mol2|1|dock91: warning - O.co2 with non C.2 or S.o2 neighbor.\n",
      "RDKit WARNING: [17:12:28] unknown|610|mol2|1|dock31: warning - O.co2 with non C.2 or S.o2 neighbor.\n",
      "[17:12:28] unknown|610|mol2|1|dock91: warning - O.co2 with non C.2 or S.o2 neighbor.\n",
      "[17:12:28] unknown|610|mol2|1|dock31: warning - O.co2 with non C.2 or S.o2 neighbor.\n"
     ]
    },
    {
     "name": "stdout",
     "output_type": "stream",
     "text": [
      "Starting GOLD with conf file /home/benoit/bioactive_conformation_predictor/gold_docking_postprocessing/611/api_gold.conf\n",
      "0\n",
      "Setting up GOLD environment...\n",
      "GOLD Version 2021.2.0\n",
      "Running:\n",
      " \n",
      "     \"/home/benoit/CCDC/Discovery_2021/GOLD/gold/d_linux_64/bin/gold_linux_64\" \"/home/benoit/bioactive_conformation_predictor/gold_docking_postprocessing/611/api_gold.conf\"\n",
      "\n",
      "0\n",
      "Starting GOLD with conf file /home/benoit/bioactive_conformation_predictor/gold_docking_postprocessing/563/api_gold.conf\n",
      "Setting up GOLD environment...\n",
      "GOLD Version 2021.2.0\n",
      "Running:\n",
      " \n",
      "     \"/home/benoit/CCDC/Discovery_2021/GOLD/gold/d_linux_64/bin/gold_linux_64\" \"/home/benoit/bioactive_conformation_predictor/gold_docking_postprocessing/563/api_gold.conf\"\n",
      "\n",
      "0\n",
      "Starting GOLD with conf file /home/benoit/bioactive_conformation_predictor/gold_docking_postprocessing/633/api_gold.conf\n",
      "Setting up GOLD environment...\n",
      "GOLD Version 2021.2.0\n",
      "Running:\n",
      " \n",
      "     \"/home/benoit/CCDC/Discovery_2021/GOLD/gold/d_linux_64/bin/gold_linux_64\" \"/home/benoit/bioactive_conformation_predictor/gold_docking_postprocessing/633/api_gold.conf\"\n",
      "\n",
      "0\n",
      "0\n",
      "0\n",
      "Starting GOLD with conf file /home/benoit/bioactive_conformation_predictor/gold_docking_postprocessing/817/api_gold.conf\n",
      "Setting up GOLD environment...\n",
      "GOLD Version 2021.2.0\n",
      "Running:\n",
      " \n",
      "     \"/home/benoit/CCDC/Discovery_2021/GOLD/gold/d_linux_64/bin/gold_linux_64\" \"/home/benoit/bioactive_conformation_predictor/gold_docking_postprocessing/817/api_gold.conf\"\n",
      "\n",
      "Starting GOLD with conf file /home/benoit/bioactive_conformation_predictor/gold_docking_postprocessing/683/api_gold.conf\n",
      "Starting GOLD with conf file /home/benoit/bioactive_conformation_predictor/gold_docking_postprocessing/564/api_gold.conf\n",
      "Setting up GOLD environment...\n",
      "GOLD Version 2021.2.0\n",
      "Running:\n",
      " \n",
      "     \"/home/benoit/CCDC/Discovery_2021/GOLD/gold/d_linux_64/bin/gold_linux_64\" \"/home/benoit/bioactive_conformation_predictor/gold_docking_postprocessing/683/api_gold.conf\"\n",
      "\n",
      "Setting up GOLD environment...\n",
      "GOLD Version 2021.2.0\n",
      "Running:\n",
      " \n",
      "     \"/home/benoit/CCDC/Discovery_2021/GOLD/gold/d_linux_64/bin/gold_linux_64\" \"/home/benoit/bioactive_conformation_predictor/gold_docking_postprocessing/564/api_gold.conf\"\n",
      "\n",
      "0\n",
      "0\n",
      "Starting GOLD with conf file /home/benoit/bioactive_conformation_predictor/gold_docking_postprocessing/770/api_gold.conf\n"
     ]
    },
    {
     "name": "stderr",
     "output_type": "stream",
     "text": [
      "RDKit WARNING: [17:12:39] unknown|729|mol2|1|dock86: warning - O.co2 with non C.2 or S.o2 neighbor.\n",
      "RDKit WARNING: [17:12:39] unknown|729|mol2|1|dock72: warning - O.co2 with non C.2 or S.o2 neighbor.\n"
     ]
    },
    {
     "name": "stdout",
     "output_type": "stream",
     "text": [
      "Setting up GOLD environment...\n",
      "GOLD Version 2021.2.0\n",
      "Running:\n",
      " \n",
      "     \"/home/benoit/CCDC/Discovery_2021/GOLD/gold/d_linux_64/bin/gold_linux_64\" \"/home/benoit/bioactive_conformation_predictor/gold_docking_postprocessing/770/api_gold.conf\"\n",
      "\n"
     ]
    },
    {
     "name": "stderr",
     "output_type": "stream",
     "text": [
      "[17:12:39] unknown|729|mol2|1|dock86: warning - O.co2 with non C.2 or S.o2 neighbor.\n",
      "[17:12:39] unknown|729|mol2|1|dock72: warning - O.co2 with non C.2 or S.o2 neighbor.\n",
      "RDKit WARNING: [17:12:39] unknown|729|mol2|1|dock5: warning - O.co2 with non C.2 or S.o2 neighbor.\n",
      "RDKit WARNING: [17:12:39] unknown|729|mol2|1|dock73: warning - O.co2 with non C.2 or S.o2 neighbor.\n",
      "[17:12:39] unknown|729|mol2|1|dock5: warning - O.co2 with non C.2 or S.o2 neighbor.\n",
      "[17:12:39] unknown|729|mol2|1|dock73: warning - O.co2 with non C.2 or S.o2 neighbor.\n",
      "RDKit WARNING: [17:12:39] unknown|729|mol2|1|dock19: warning - O.co2 with non C.2 or S.o2 neighbor.\n",
      "RDKit WARNING: [17:12:39] unknown|729|mol2|1|dock11: warning - O.co2 with non C.2 or S.o2 neighbor.\n",
      "[17:12:39] unknown|729|mol2|1|dock19: warning - O.co2 with non C.2 or S.o2 neighbor.\n",
      "[17:12:39] unknown|729|mol2|1|dock11: warning - O.co2 with non C.2 or S.o2 neighbor.\n"
     ]
    },
    {
     "name": "stdout",
     "output_type": "stream",
     "text": [
      "Starting GOLD with conf file /home/benoit/bioactive_conformation_predictor/gold_docking_postprocessing/730/api_gold.conf\n",
      "0\n",
      "Setting up GOLD environment...\n",
      "GOLD Version 2021.2.0\n",
      "Running:\n",
      " \n",
      "     \"/home/benoit/CCDC/Discovery_2021/GOLD/gold/d_linux_64/bin/gold_linux_64\" \"/home/benoit/bioactive_conformation_predictor/gold_docking_postprocessing/730/api_gold.conf\"\n",
      "\n",
      "Starting GOLD with conf file /home/benoit/bioactive_conformation_predictor/gold_docking_postprocessing/659/api_gold.conf\n",
      "Setting up GOLD environment...\n",
      "GOLD Version 2021.2.0\n",
      "Running:\n",
      " \n",
      "     \"/home/benoit/CCDC/Discovery_2021/GOLD/gold/d_linux_64/bin/gold_linux_64\" \"/home/benoit/bioactive_conformation_predictor/gold_docking_postprocessing/659/api_gold.conf\"\n",
      "\n",
      "0\n",
      "0\n",
      "Starting GOLD with conf file /home/benoit/bioactive_conformation_predictor/gold_docking_postprocessing/612/api_gold.conf\n",
      "Setting up GOLD environment...\n",
      "GOLD Version 2021.2.0\n",
      "Running:\n",
      " \n",
      "     \"/home/benoit/CCDC/Discovery_2021/GOLD/gold/d_linux_64/bin/gold_linux_64\" \"/home/benoit/bioactive_conformation_predictor/gold_docking_postprocessing/612/api_gold.conf\"\n",
      "\n",
      "0\n",
      "Starting GOLD with conf file /home/benoit/bioactive_conformation_predictor/gold_docking_postprocessing/684/api_gold.conf\n",
      "0\n",
      "Setting up GOLD environment...\n",
      "GOLD Version 2021.2.0\n",
      "Running:\n",
      " \n",
      "     \"/home/benoit/CCDC/Discovery_2021/GOLD/gold/d_linux_64/bin/gold_linux_64\" \"/home/benoit/bioactive_conformation_predictor/gold_docking_postprocessing/684/api_gold.conf\"\n",
      "\n",
      "0\n",
      "Starting GOLD with conf file /home/benoit/bioactive_conformation_predictor/gold_docking_postprocessing/705/api_gold.conf\n",
      "Setting up GOLD environment...\n",
      "GOLD Version 2021.2.0\n",
      "Running:\n",
      " \n",
      "     \"/home/benoit/CCDC/Discovery_2021/GOLD/gold/d_linux_64/bin/gold_linux_64\" \"/home/benoit/bioactive_conformation_predictor/gold_docking_postprocessing/705/api_gold.conf\"\n",
      "\n",
      "0\n",
      "0\n"
     ]
    },
    {
     "name": "stderr",
     "output_type": "stream",
     "text": [
      "RDKit WARNING: [17:12:46] unknown|588|mol2|1|dock6: warning - O.co2 with non C.2 or S.o2 neighbor.\n",
      "RDKit WARNING: [17:12:46] unknown|588|mol2|1|dock94: warning - O.co2 with non C.2 or S.o2 neighbor.\n",
      "[17:12:46] unknown|588|mol2|1|dock6: warning - O.co2 with non C.2 or S.o2 neighbor.\n",
      "[17:12:46] unknown|588|mol2|1|dock94: warning - O.co2 with non C.2 or S.o2 neighbor.\n"
     ]
    },
    {
     "name": "stdout",
     "output_type": "stream",
     "text": [
      "Starting GOLD with conf file /home/benoit/bioactive_conformation_predictor/gold_docking_postprocessing/565/api_gold.conf\n"
     ]
    },
    {
     "name": "stderr",
     "output_type": "stream",
     "text": [
      "RDKit WARNING: [17:12:46] unknown|588|mol2|1|dock96: warning - O.co2 with non C.2 or S.o2 neighbor.\n",
      "RDKit WARNING: [17:12:46] unknown|588|mol2|1|dock71: warning - O.co2 with non C.2 or S.o2 neighbor.\n"
     ]
    },
    {
     "name": "stdout",
     "output_type": "stream",
     "text": [
      "Setting up GOLD environment...\n",
      "GOLD Version 2021.2.0\n",
      "Running:\n",
      " \n",
      "     \"/home/benoit/CCDC/Discovery_2021/GOLD/gold/d_linux_64/bin/gold_linux_64\" \"/home/benoit/bioactive_conformation_predictor/gold_docking_postprocessing/565/api_gold.conf\"\n",
      "\n"
     ]
    },
    {
     "name": "stderr",
     "output_type": "stream",
     "text": [
      "[17:12:46] unknown|588|mol2|1|dock96: warning - O.co2 with non C.2 or S.o2 neighbor.\n",
      "[17:12:46] unknown|588|mol2|1|dock71: warning - O.co2 with non C.2 or S.o2 neighbor.\n",
      "RDKit WARNING: [17:12:47] unknown|588|mol2|1|dock46: warning - O.co2 with non C.2 or S.o2 neighbor.\n",
      "RDKit WARNING: [17:12:47] unknown|588|mol2|1|dock100: warning - O.co2 with non C.2 or S.o2 neighbor.\n",
      "[17:12:47] unknown|588|mol2|1|dock46: warning - O.co2 with non C.2 or S.o2 neighbor.\n",
      "[17:12:47] unknown|588|mol2|1|dock100: warning - O.co2 with non C.2 or S.o2 neighbor.\n"
     ]
    },
    {
     "name": "stdout",
     "output_type": "stream",
     "text": [
      "Starting GOLD with conf file /home/benoit/bioactive_conformation_predictor/gold_docking_postprocessing/589/api_gold.conf\n",
      "Starting GOLD with conf file /home/benoit/bioactive_conformation_predictor/gold_docking_postprocessing/731/api_gold.conf\n",
      "Setting up GOLD environment...\n",
      "GOLD Version 2021.2.0\n",
      "Running:\n",
      " \n",
      "     \"/home/benoit/CCDC/Discovery_2021/GOLD/gold/d_linux_64/bin/gold_linux_64\" \"/home/benoit/bioactive_conformation_predictor/gold_docking_postprocessing/589/api_gold.conf\"\n",
      "\n",
      "Setting up GOLD environment...\n",
      "GOLD Version 2021.2.0\n",
      "Running:\n",
      " \n",
      "     \"/home/benoit/CCDC/Discovery_2021/GOLD/gold/d_linux_64/bin/gold_linux_64\" \"/home/benoit/bioactive_conformation_predictor/gold_docking_postprocessing/731/api_gold.conf\"\n",
      "\n",
      "0\n",
      "Starting GOLD with conf file /home/benoit/bioactive_conformation_predictor/gold_docking_postprocessing/794/api_gold.conf\n",
      "Setting up GOLD environment...\n",
      "GOLD Version 2021.2.0\n",
      "Running:\n",
      " \n",
      "     \"/home/benoit/CCDC/Discovery_2021/GOLD/gold/d_linux_64/bin/gold_linux_64\" \"/home/benoit/bioactive_conformation_predictor/gold_docking_postprocessing/794/api_gold.conf\"\n",
      "\n",
      "Starting GOLD with conf file /home/benoit/bioactive_conformation_predictor/gold_docking_postprocessing/749/api_gold.conf\n",
      "Starting GOLD with conf file /home/benoit/bioactive_conformation_predictor/gold_docking_postprocessing/634/api_gold.conf\n",
      "Setting up GOLD environment...\n",
      "GOLD Version 2021.2.0\n",
      "Running:\n",
      " \n",
      "     \"/home/benoit/CCDC/Discovery_2021/GOLD/gold/d_linux_64/bin/gold_linux_64\" \"/home/benoit/bioactive_conformation_predictor/gold_docking_postprocessing/749/api_gold.conf\"\n",
      "\n",
      "Setting up GOLD environment...\n",
      "GOLD Version 2021.2.0\n",
      "Running:\n",
      " \n",
      "     \"/home/benoit/CCDC/Discovery_2021/GOLD/gold/d_linux_64/bin/gold_linux_64\" \"/home/benoit/bioactive_conformation_predictor/gold_docking_postprocessing/634/api_gold.conf\"\n",
      "\n",
      "0\n",
      "Starting GOLD with conf file /home/benoit/bioactive_conformation_predictor/gold_docking_postprocessing/613/api_gold.conf\n",
      "Setting up GOLD environment...\n",
      "GOLD Version 2021.2.0\n",
      "Running:\n",
      " \n",
      "     \"/home/benoit/CCDC/Discovery_2021/GOLD/gold/d_linux_64/bin/gold_linux_64\" \"/home/benoit/bioactive_conformation_predictor/gold_docking_postprocessing/613/api_gold.conf\"\n",
      "\n",
      "0\n",
      "Starting GOLD with conf file /home/benoit/bioactive_conformation_predictor/gold_docking_postprocessing/635/api_gold.conf\n",
      "Setting up GOLD environment...\n",
      "GOLD Version 2021.2.0\n",
      "Running:\n",
      " \n",
      "     \"/home/benoit/CCDC/Discovery_2021/GOLD/gold/d_linux_64/bin/gold_linux_64\" \"/home/benoit/bioactive_conformation_predictor/gold_docking_postprocessing/635/api_gold.conf\"\n",
      "\n",
      "0\n",
      "0\n"
     ]
    },
    {
     "name": "stderr",
     "output_type": "stream",
     "text": [
      "RDKit WARNING: [17:13:01] unknown|565|mol2|1|dock54: warning - O.co2 with non C.2 or S.o2 neighbor.\n",
      "RDKit WARNING: [17:13:01] unknown|565|mol2|1|dock57: warning - O.co2 with non C.2 or S.o2 neighbor.\n",
      "[17:13:01] unknown|565|mol2|1|dock54: warning - O.co2 with non C.2 or S.o2 neighbor.\n",
      "[17:13:01] unknown|565|mol2|1|dock57: warning - O.co2 with non C.2 or S.o2 neighbor.\n"
     ]
    },
    {
     "name": "stdout",
     "output_type": "stream",
     "text": [
      "0\n"
     ]
    },
    {
     "name": "stderr",
     "output_type": "stream",
     "text": [
      "RDKit WARNING: [17:13:01] unknown|565|mol2|1|dock54: warning - O.co2 with non C.2 or S.o2 neighbor.\n",
      "RDKit WARNING: [17:13:01] unknown|565|mol2|1|dock46: warning - O.co2 with non C.2 or S.o2 neighbor.\n",
      "[17:13:01] unknown|565|mol2|1|dock54: warning - O.co2 with non C.2 or S.o2 neighbor.\n",
      "[17:13:01] unknown|565|mol2|1|dock46: warning - O.co2 with non C.2 or S.o2 neighbor.\n",
      "RDKit WARNING: [17:13:02] unknown|565|mol2|1|dock15: warning - O.co2 with non C.2 or S.o2 neighbor.\n",
      "RDKit WARNING: [17:13:02] unknown|565|mol2|1|dock74: warning - O.co2 with non C.2 or S.o2 neighbor.\n"
     ]
    },
    {
     "name": "stdout",
     "output_type": "stream",
     "text": [
      "Starting GOLD with conf file /home/benoit/bioactive_conformation_predictor/gold_docking_postprocessing/732/api_gold.conf\n",
      "Starting GOLD with conf file /home/benoit/bioactive_conformation_predictor/gold_docking_postprocessing/566/api_gold.conf\n"
     ]
    },
    {
     "name": "stderr",
     "output_type": "stream",
     "text": [
      "[17:13:02] unknown|565|mol2|1|dock15: warning - O.co2 with non C.2 or S.o2 neighbor.\n",
      "[17:13:02] unknown|565|mol2|1|dock74: warning - O.co2 with non C.2 or S.o2 neighbor.\n"
     ]
    },
    {
     "name": "stdout",
     "output_type": "stream",
     "text": [
      "Setting up GOLD environment...\n",
      "GOLD Version 2021.2.0\n",
      "Running:\n",
      " \n",
      "     \"/home/benoit/CCDC/Discovery_2021/GOLD/gold/d_linux_64/bin/gold_linux_64\" \"/home/benoit/bioactive_conformation_predictor/gold_docking_postprocessing/732/api_gold.conf\"\n",
      "\n",
      "Setting up GOLD environment...\n",
      "GOLD Version 2021.2.0\n",
      "Running:\n",
      " \n",
      "     \"/home/benoit/CCDC/Discovery_2021/GOLD/gold/d_linux_64/bin/gold_linux_64\" \"/home/benoit/bioactive_conformation_predictor/gold_docking_postprocessing/566/api_gold.conf\"\n",
      "\n",
      "0\n",
      "0\n",
      "Starting GOLD with conf file /home/benoit/bioactive_conformation_predictor/gold_docking_postprocessing/660/api_gold.conf\n",
      "Setting up GOLD environment...\n",
      "GOLD Version 2021.2.0\n",
      "Running:\n",
      " \n",
      "     \"/home/benoit/CCDC/Discovery_2021/GOLD/gold/d_linux_64/bin/gold_linux_64\" \"/home/benoit/bioactive_conformation_predictor/gold_docking_postprocessing/660/api_gold.conf\"\n",
      "\n",
      "0\n"
     ]
    },
    {
     "name": "stderr",
     "output_type": "stream",
     "text": [
      "RDKit WARNING: [17:13:06] unknown|794|mol2|1|dock96: warning - O.co2 with non C.2 or S.o2 neighbor.\n",
      "RDKit WARNING: [17:13:06] unknown|794|mol2|1|dock52: warning - O.co2 with non C.2 or S.o2 neighbor.\n",
      "[17:13:06] unknown|794|mol2|1|dock96: warning - O.co2 with non C.2 or S.o2 neighbor.\n",
      "[17:13:06] unknown|794|mol2|1|dock52: warning - O.co2 with non C.2 or S.o2 neighbor.\n",
      "RDKit WARNING: [17:13:06] unknown|794|mol2|1|dock96: warning - O.co2 with non C.2 or S.o2 neighbor.\n",
      "RDKit WARNING: [17:13:06] unknown|794|mol2|1|dock74: warning - O.co2 with non C.2 or S.o2 neighbor.\n",
      "[17:13:06] unknown|794|mol2|1|dock96: warning - O.co2 with non C.2 or S.o2 neighbor.\n",
      "[17:13:06] unknown|794|mol2|1|dock74: warning - O.co2 with non C.2 or S.o2 neighbor.\n"
     ]
    },
    {
     "name": "stdout",
     "output_type": "stream",
     "text": [
      "0\n"
     ]
    },
    {
     "name": "stderr",
     "output_type": "stream",
     "text": [
      "RDKit WARNING: [17:13:06] unknown|794|mol2|1|dock96: warning - O.co2 with non C.2 or S.o2 neighbor.\n",
      "RDKit WARNING: [17:13:06] unknown|794|mol2|1|dock15: warning - O.co2 with non C.2 or S.o2 neighbor.\n"
     ]
    },
    {
     "name": "stdout",
     "output_type": "stream",
     "text": [
      "Starting GOLD with conf file /home/benoit/bioactive_conformation_predictor/gold_docking_postprocessing/795/api_gold.conf\n"
     ]
    },
    {
     "name": "stderr",
     "output_type": "stream",
     "text": [
      "[17:13:06] unknown|794|mol2|1|dock96: warning - O.co2 with non C.2 or S.o2 neighbor.\n",
      "[17:13:06] unknown|794|mol2|1|dock15: warning - O.co2 with non C.2 or S.o2 neighbor.\n"
     ]
    },
    {
     "name": "stdout",
     "output_type": "stream",
     "text": [
      "Setting up GOLD environment...\n",
      "GOLD Version 2021.2.0\n",
      "Running:\n",
      " \n",
      "     \"/home/benoit/CCDC/Discovery_2021/GOLD/gold/d_linux_64/bin/gold_linux_64\" \"/home/benoit/bioactive_conformation_predictor/gold_docking_postprocessing/795/api_gold.conf\"\n",
      "\n",
      "Starting GOLD with conf file /home/benoit/bioactive_conformation_predictor/gold_docking_postprocessing/614/api_gold.conf\n",
      "0\n",
      "Starting GOLD with conf file /home/benoit/bioactive_conformation_predictor/gold_docking_postprocessing/818/api_gold.conf\n",
      "Setting up GOLD environment...\n",
      "GOLD Version 2021.2.0\n",
      "Running:\n",
      " \n",
      "     \"/home/benoit/CCDC/Discovery_2021/GOLD/gold/d_linux_64/bin/gold_linux_64\" \"/home/benoit/bioactive_conformation_predictor/gold_docking_postprocessing/614/api_gold.conf\"\n",
      "\n",
      "Setting up GOLD environment...\n",
      "GOLD Version 2021.2.0\n",
      "Running:\n",
      " \n",
      "     \"/home/benoit/CCDC/Discovery_2021/GOLD/gold/d_linux_64/bin/gold_linux_64\" \"/home/benoit/bioactive_conformation_predictor/gold_docking_postprocessing/818/api_gold.conf\"\n",
      "\n",
      "0\n",
      "Starting GOLD with conf file /home/benoit/bioactive_conformation_predictor/gold_docking_postprocessing/636/api_gold.conf\n"
     ]
    },
    {
     "name": "stderr",
     "output_type": "stream",
     "text": [
      "RDKit WARNING: [17:13:10] unknown|589|mol2|1|dock48: warning - O.co2 with non C.2 or S.o2 neighbor.\n",
      "RDKit WARNING: [17:13:10] unknown|589|mol2|1|dock48: warning - O.co2 with non C.2 or S.o2 neighbor.\n"
     ]
    },
    {
     "name": "stdout",
     "output_type": "stream",
     "text": [
      "Setting up GOLD environment...\n",
      "GOLD Version 2021.2.0\n",
      "Running:\n",
      " \n",
      "     \"/home/benoit/CCDC/Discovery_2021/GOLD/gold/d_linux_64/bin/gold_linux_64\" \"/home/benoit/bioactive_conformation_predictor/gold_docking_postprocessing/636/api_gold.conf\"\n",
      "\n"
     ]
    },
    {
     "name": "stderr",
     "output_type": "stream",
     "text": [
      "[17:13:10] unknown|589|mol2|1|dock48: warning - O.co2 with non C.2 or S.o2 neighbor.\n",
      "[17:13:10] unknown|589|mol2|1|dock48: warning - O.co2 with non C.2 or S.o2 neighbor.\n",
      "RDKit WARNING: [17:13:10] unknown|589|mol2|1|dock48: warning - O.co2 with non C.2 or S.o2 neighbor.\n",
      "RDKit WARNING: [17:13:10] unknown|589|mol2|1|dock48: warning - O.co2 with non C.2 or S.o2 neighbor.\n",
      "[17:13:10] unknown|589|mol2|1|dock48: warning - O.co2 with non C.2 or S.o2 neighbor.\n",
      "[17:13:10] unknown|589|mol2|1|dock48: warning - O.co2 with non C.2 or S.o2 neighbor.\n",
      "RDKit WARNING: [17:13:11] unknown|589|mol2|1|dock5: warning - O.co2 with non C.2 or S.o2 neighbor.\n",
      "RDKit WARNING: [17:13:11] unknown|589|mol2|1|dock70: warning - O.co2 with non C.2 or S.o2 neighbor.\n"
     ]
    },
    {
     "name": "stdout",
     "output_type": "stream",
     "text": [
      "Starting GOLD with conf file /home/benoit/bioactive_conformation_predictor/gold_docking_postprocessing/685/api_gold.conf\n",
      "Starting GOLD with conf file /home/benoit/bioactive_conformation_predictor/gold_docking_postprocessing/590/api_gold.conf\n"
     ]
    },
    {
     "name": "stderr",
     "output_type": "stream",
     "text": [
      "[17:13:11] unknown|589|mol2|1|dock5: warning - O.co2 with non C.2 or S.o2 neighbor.\n",
      "[17:13:11] unknown|589|mol2|1|dock70: warning - O.co2 with non C.2 or S.o2 neighbor.\n"
     ]
    },
    {
     "name": "stdout",
     "output_type": "stream",
     "text": [
      "0\n",
      "Setting up GOLD environment...\n",
      "GOLD Version 2021.2.0\n",
      "Running:\n",
      " \n",
      "     \"/home/benoit/CCDC/Discovery_2021/GOLD/gold/d_linux_64/bin/gold_linux_64\" \"/home/benoit/bioactive_conformation_predictor/gold_docking_postprocessing/685/api_gold.conf\"\n",
      "\n",
      "Setting up GOLD environment...\n",
      "GOLD Version 2021.2.0\n",
      "Running:\n",
      " \n",
      "     \"/home/benoit/CCDC/Discovery_2021/GOLD/gold/d_linux_64/bin/gold_linux_64\" \"/home/benoit/bioactive_conformation_predictor/gold_docking_postprocessing/590/api_gold.conf\"\n",
      "\n",
      "0\n",
      "Starting GOLD with conf file /home/benoit/bioactive_conformation_predictor/gold_docking_postprocessing/796/api_gold.conf\n",
      "Setting up GOLD environment...\n",
      "GOLD Version 2021.2.0\n",
      "Running:\n",
      " \n",
      "     \"/home/benoit/CCDC/Discovery_2021/GOLD/gold/d_linux_64/bin/gold_linux_64\" \"/home/benoit/bioactive_conformation_predictor/gold_docking_postprocessing/796/api_gold.conf\"\n",
      "\n",
      "0\n",
      "Starting GOLD with conf file /home/benoit/bioactive_conformation_predictor/gold_docking_postprocessing/750/api_gold.conf\n"
     ]
    },
    {
     "name": "stderr",
     "output_type": "stream",
     "text": [
      "RDKit WARNING: [17:13:16] unknown|614|mol2|1|dock59: warning - O.co2 with non C.2 or S.o2 neighbor.\n",
      "RDKit WARNING: [17:13:16] unknown|614|mol2|1|dock78: warning - O.co2 with non C.2 or S.o2 neighbor.\n"
     ]
    },
    {
     "name": "stdout",
     "output_type": "stream",
     "text": [
      "Setting up GOLD environment...\n",
      "GOLD Version 2021.2.0\n",
      "Running:\n",
      " \n",
      "     \"/home/benoit/CCDC/Discovery_2021/GOLD/gold/d_linux_64/bin/gold_linux_64\" \"/home/benoit/bioactive_conformation_predictor/gold_docking_postprocessing/750/api_gold.conf\"\n",
      "\n"
     ]
    },
    {
     "name": "stderr",
     "output_type": "stream",
     "text": [
      "RDKit WARNING: [17:13:17] unknown|614|mol2|1|dock92: warning - O.co2 with non C.2 or S.o2 neighbor.\n",
      "RDKit WARNING: [17:13:17] unknown|614|mol2|1|dock21: warning - O.co2 with non C.2 or S.o2 neighbor.\n",
      "[17:13:16] unknown|614|mol2|1|dock59: warning - O.co2 with non C.2 or S.o2 neighbor.\n",
      "[17:13:16] unknown|614|mol2|1|dock78: warning - O.co2 with non C.2 or S.o2 neighbor.\n",
      "[17:13:17] unknown|614|mol2|1|dock92: warning - O.co2 with non C.2 or S.o2 neighbor.\n",
      "[17:13:17] unknown|614|mol2|1|dock21: warning - O.co2 with non C.2 or S.o2 neighbor.\n",
      "RDKit WARNING: [17:13:17] unknown|614|mol2|1|dock63: warning - O.co2 with non C.2 or S.o2 neighbor.\n",
      "RDKit WARNING: [17:13:17] unknown|614|mol2|1|dock79: warning - O.co2 with non C.2 or S.o2 neighbor.\n"
     ]
    },
    {
     "name": "stdout",
     "output_type": "stream",
     "text": [
      "Starting GOLD with conf file /home/benoit/bioactive_conformation_predictor/gold_docking_postprocessing/615/api_gold.conf\n"
     ]
    },
    {
     "name": "stderr",
     "output_type": "stream",
     "text": [
      "[17:13:17] unknown|614|mol2|1|dock63: warning - O.co2 with non C.2 or S.o2 neighbor.\n",
      "[17:13:17] unknown|614|mol2|1|dock79: warning - O.co2 with non C.2 or S.o2 neighbor.\n"
     ]
    },
    {
     "name": "stdout",
     "output_type": "stream",
     "text": [
      "0\n",
      "Setting up GOLD environment...\n",
      "GOLD Version 2021.2.0\n",
      "Running:\n",
      " \n",
      "     \"/home/benoit/CCDC/Discovery_2021/GOLD/gold/d_linux_64/bin/gold_linux_64\" \"/home/benoit/bioactive_conformation_predictor/gold_docking_postprocessing/615/api_gold.conf\"\n",
      "\n",
      "0\n",
      "Starting GOLD with conf file /home/benoit/bioactive_conformation_predictor/gold_docking_postprocessing/686/api_gold.conf\n",
      "Setting up GOLD environment...\n",
      "GOLD Version 2021.2.0\n",
      "Running:\n",
      " \n",
      "     \"/home/benoit/CCDC/Discovery_2021/GOLD/gold/d_linux_64/bin/gold_linux_64\" \"/home/benoit/bioactive_conformation_predictor/gold_docking_postprocessing/686/api_gold.conf\"\n",
      "\n",
      "Starting GOLD with conf file /home/benoit/bioactive_conformation_predictor/gold_docking_postprocessing/819/api_gold.conf\n",
      "Setting up GOLD environment...\n",
      "GOLD Version 2021.2.0\n",
      "Running:\n",
      " \n",
      "     \"/home/benoit/CCDC/Discovery_2021/GOLD/gold/d_linux_64/bin/gold_linux_64\" \"/home/benoit/bioactive_conformation_predictor/gold_docking_postprocessing/819/api_gold.conf\"\n",
      "\n",
      "0\n",
      "0\n",
      "0\n",
      "Starting GOLD with conf file /home/benoit/bioactive_conformation_predictor/gold_docking_postprocessing/797/api_gold.conf\n",
      "Setting up GOLD environment...\n",
      "GOLD Version 2021.2.0\n",
      "Running:\n",
      " \n",
      "     \"/home/benoit/CCDC/Discovery_2021/GOLD/gold/d_linux_64/bin/gold_linux_64\" \"/home/benoit/bioactive_conformation_predictor/gold_docking_postprocessing/797/api_gold.conf\"\n",
      "\n",
      "0\n",
      "Starting GOLD with conf file /home/benoit/bioactive_conformation_predictor/gold_docking_postprocessing/771/api_gold.conf\n",
      "Starting GOLD with conf file /home/benoit/bioactive_conformation_predictor/gold_docking_postprocessing/661/api_gold.conf\n",
      "Setting up GOLD environment...\n",
      "GOLD Version 2021.2.0\n",
      "Running:\n",
      " \n",
      "     \"/home/benoit/CCDC/Discovery_2021/GOLD/gold/d_linux_64/bin/gold_linux_64\" \"/home/benoit/bioactive_conformation_predictor/gold_docking_postprocessing/771/api_gold.conf\"\n",
      "\n",
      "Setting up GOLD environment...\n",
      "GOLD Version 2021.2.0\n",
      "Running:\n",
      " \n",
      "     \"/home/benoit/CCDC/Discovery_2021/GOLD/gold/d_linux_64/bin/gold_linux_64\" \"/home/benoit/bioactive_conformation_predictor/gold_docking_postprocessing/661/api_gold.conf\"\n",
      "\n",
      "Starting GOLD with conf file /home/benoit/bioactive_conformation_predictor/gold_docking_postprocessing/687/api_gold.conf\n",
      "Setting up GOLD environment...\n",
      "GOLD Version 2021.2.0\n",
      "Running:\n",
      " \n",
      "     \"/home/benoit/CCDC/Discovery_2021/GOLD/gold/d_linux_64/bin/gold_linux_64\" \"/home/benoit/bioactive_conformation_predictor/gold_docking_postprocessing/687/api_gold.conf\"\n",
      "\n",
      "0\n",
      "Starting GOLD with conf file /home/benoit/bioactive_conformation_predictor/gold_docking_postprocessing/637/api_gold.conf\n",
      "Setting up GOLD environment...\n",
      "GOLD Version 2021.2.0\n",
      "Running:\n",
      " \n",
      "     \"/home/benoit/CCDC/Discovery_2021/GOLD/gold/d_linux_64/bin/gold_linux_64\" \"/home/benoit/bioactive_conformation_predictor/gold_docking_postprocessing/637/api_gold.conf\"\n",
      "\n",
      "0\n",
      "0\n",
      "0\n",
      "0\n"
     ]
    },
    {
     "name": "stderr",
     "output_type": "stream",
     "text": [
      "RDKit WARNING: [17:13:36] unknown|590|mol2|1|dock44: warning - O.co2 with non C.2 or S.o2 neighbor.\n",
      "RDKit WARNING: [17:13:36] unknown|590|mol2|1|dock61: warning - O.co2 with non C.2 or S.o2 neighbor.\n",
      "[17:13:36] unknown|590|mol2|1|dock44: warning - O.co2 with non C.2 or S.o2 neighbor.\n",
      "[17:13:36] unknown|590|mol2|1|dock61: warning - O.co2 with non C.2 or S.o2 neighbor.\n",
      "RDKit WARNING: [17:13:36] unknown|590|mol2|1|dock24: warning - O.co2 with non C.2 or S.o2 neighbor.\n",
      "RDKit WARNING: [17:13:36] unknown|590|mol2|1|dock64: warning - O.co2 with non C.2 or S.o2 neighbor.\n",
      "[17:13:36] unknown|590|mol2|1|dock24: warning - O.co2 with non C.2 or S.o2 neighbor.\n",
      "[17:13:36] unknown|590|mol2|1|dock64: warning - O.co2 with non C.2 or S.o2 neighbor.\n",
      "RDKit WARNING: [17:13:37] unknown|590|mol2|1|dock55: warning - O.co2 with non C.2 or S.o2 neighbor.\n",
      "RDKit WARNING: [17:13:37] unknown|590|mol2|1|dock70: warning - O.co2 with non C.2 or S.o2 neighbor.\n"
     ]
    },
    {
     "name": "stdout",
     "output_type": "stream",
     "text": [
      "Starting GOLD with conf file /home/benoit/bioactive_conformation_predictor/gold_docking_postprocessing/591/api_gold.conf\n"
     ]
    },
    {
     "name": "stderr",
     "output_type": "stream",
     "text": [
      "[17:13:37] unknown|590|mol2|1|dock55: warning - O.co2 with non C.2 or S.o2 neighbor.\n",
      "[17:13:37] unknown|590|mol2|1|dock70: warning - O.co2 with non C.2 or S.o2 neighbor.\n"
     ]
    },
    {
     "name": "stdout",
     "output_type": "stream",
     "text": [
      "Setting up GOLD environment...\n",
      "GOLD Version 2021.2.0\n",
      "Running:\n",
      " \n",
      "     \"/home/benoit/CCDC/Discovery_2021/GOLD/gold/d_linux_64/bin/gold_linux_64\" \"/home/benoit/bioactive_conformation_predictor/gold_docking_postprocessing/591/api_gold.conf\"\n",
      "\n"
     ]
    },
    {
     "name": "stderr",
     "output_type": "stream",
     "text": [
      "RDKit WARNING: [17:13:38] unknown|705|mol2|1|dock20: warning - O.co2 with non C.2 or S.o2 neighbor.\n",
      "RDKit WARNING: [17:13:38] unknown|705|mol2|1|dock20: warning - O.co2 with non C.2 or S.o2 neighbor.\n",
      "[17:13:38] unknown|705|mol2|1|dock20: warning - O.co2 with non C.2 or S.o2 neighbor.\n",
      "[17:13:38] unknown|705|mol2|1|dock20: warning - O.co2 with non C.2 or S.o2 neighbor.\n"
     ]
    },
    {
     "name": "stdout",
     "output_type": "stream",
     "text": [
      "0\n"
     ]
    },
    {
     "name": "stderr",
     "output_type": "stream",
     "text": [
      "RDKit WARNING: [17:13:38] unknown|705|mol2|1|dock87: warning - O.co2 with non C.2 or S.o2 neighbor.\n",
      "RDKit WARNING: [17:13:38] unknown|705|mol2|1|dock22: warning - O.co2 with non C.2 or S.o2 neighbor.\n",
      "[17:13:38] unknown|705|mol2|1|dock87: warning - O.co2 with non C.2 or S.o2 neighbor.\n",
      "[17:13:38] unknown|705|mol2|1|dock22: warning - O.co2 with non C.2 or S.o2 neighbor.\n",
      "RDKit WARNING: [17:13:39] unknown|705|mol2|1|dock87: warning - O.co2 with non C.2 or S.o2 neighbor.\n",
      "RDKit WARNING: [17:13:39] unknown|705|mol2|1|dock22: warning - O.co2 with non C.2 or S.o2 neighbor.\n"
     ]
    },
    {
     "name": "stdout",
     "output_type": "stream",
     "text": [
      "0Starting GOLD with conf file /home/benoit/bioactive_conformation_predictor/gold_docking_postprocessing/706/api_gold.conf0\n",
      "\n",
      "\n"
     ]
    },
    {
     "name": "stderr",
     "output_type": "stream",
     "text": [
      "[17:13:39] unknown|705|mol2|1|dock87: warning - O.co2 with non C.2 or S.o2 neighbor.\n",
      "[17:13:39] unknown|705|mol2|1|dock22: warning - O.co2 with non C.2 or S.o2 neighbor.\n"
     ]
    },
    {
     "name": "stdout",
     "output_type": "stream",
     "text": [
      "Setting up GOLD environment...\n",
      "GOLD Version 2021.2.0\n",
      "Running:\n",
      " \n",
      "     \"/home/benoit/CCDC/Discovery_2021/GOLD/gold/d_linux_64/bin/gold_linux_64\" \"/home/benoit/bioactive_conformation_predictor/gold_docking_postprocessing/706/api_gold.conf\"\n",
      "\n",
      "0\n",
      "Starting GOLD with conf file /home/benoit/bioactive_conformation_predictor/gold_docking_postprocessing/616/api_gold.conf\n",
      "Setting up GOLD environment...\n",
      "GOLD Version 2021.2.0\n",
      "Running:\n",
      " \n",
      "     \"/home/benoit/CCDC/Discovery_2021/GOLD/gold/d_linux_64/bin/gold_linux_64\" \"/home/benoit/bioactive_conformation_predictor/gold_docking_postprocessing/616/api_gold.conf\"\n",
      "\n",
      "Starting GOLD with conf file /home/benoit/bioactive_conformation_predictor/gold_docking_postprocessing/772/api_gold.conf\n",
      "Starting GOLD with conf file /home/benoit/bioactive_conformation_predictor/gold_docking_postprocessing/567/api_gold.conf\n",
      "Setting up GOLD environment...\n",
      "GOLD Version 2021.2.0\n",
      "Running:\n",
      " \n",
      "     \"/home/benoit/CCDC/Discovery_2021/GOLD/gold/d_linux_64/bin/gold_linux_64\" \"/home/benoit/bioactive_conformation_predictor/gold_docking_postprocessing/772/api_gold.conf\"\n",
      "\n",
      "Setting up GOLD environment...\n",
      "GOLD Version 2021.2.0\n",
      "Running:\n",
      " \n",
      "     \"/home/benoit/CCDC/Discovery_2021/GOLD/gold/d_linux_64/bin/gold_linux_64\" \"/home/benoit/bioactive_conformation_predictor/gold_docking_postprocessing/567/api_gold.conf\"\n",
      "\n",
      "Starting GOLD with conf file /home/benoit/bioactive_conformation_predictor/gold_docking_postprocessing/820/api_gold.conf\n",
      "Starting GOLD with conf file /home/benoit/bioactive_conformation_predictor/gold_docking_postprocessing/798/api_gold.conf\n",
      "Setting up GOLD environment...\n",
      "GOLD Version 2021.2.0\n",
      "Running:\n",
      " \n",
      "     \"/home/benoit/CCDC/Discovery_2021/GOLD/gold/d_linux_64/bin/gold_linux_64\" \"/home/benoit/bioactive_conformation_predictor/gold_docking_postprocessing/820/api_gold.conf\"\n",
      "\n",
      "Setting up GOLD environment...\n",
      "GOLD Version 2021.2.0\n",
      "Running:\n",
      " \n",
      "     \"/home/benoit/CCDC/Discovery_2021/GOLD/gold/d_linux_64/bin/gold_linux_64\" \"/home/benoit/bioactive_conformation_predictor/gold_docking_postprocessing/798/api_gold.conf\"\n",
      "\n",
      "0\n",
      "Starting GOLD with conf file /home/benoit/bioactive_conformation_predictor/gold_docking_postprocessing/688/api_gold.conf\n",
      "0\n",
      "Setting up GOLD environment...\n",
      "GOLD Version 2021.2.0\n",
      "Running:\n",
      " \n",
      "     \"/home/benoit/CCDC/Discovery_2021/GOLD/gold/d_linux_64/bin/gold_linux_64\" \"/home/benoit/bioactive_conformation_predictor/gold_docking_postprocessing/688/api_gold.conf\"\n",
      "\n",
      "Starting GOLD with conf file /home/benoit/bioactive_conformation_predictor/gold_docking_postprocessing/707/api_gold.conf\n",
      "Setting up GOLD environment...\n",
      "GOLD Version 2021.2.0\n",
      "Running:\n",
      " \n",
      "     \"/home/benoit/CCDC/Discovery_2021/GOLD/gold/d_linux_64/bin/gold_linux_64\" \"/home/benoit/bioactive_conformation_predictor/gold_docking_postprocessing/707/api_gold.conf\"\n",
      "\n",
      "0\n",
      "0\n",
      "0\n",
      "0\n"
     ]
    },
    {
     "name": "stderr",
     "output_type": "stream",
     "text": [
      "RDKit WARNING: [17:13:53] unknown|798|mol2|1|dock73: warning - O.co2 with non C.2 or S.o2 neighbor.\n",
      "RDKit WARNING: [17:13:53] unknown|798|mol2|1|dock4: warning - O.co2 with non C.2 or S.o2 neighbor.\n"
     ]
    },
    {
     "name": "stdout",
     "output_type": "stream",
     "text": [
      "0\n",
      "Starting GOLD with conf file /home/benoit/bioactive_conformation_predictor/gold_docking_postprocessing/773/api_gold.conf\n"
     ]
    },
    {
     "name": "stderr",
     "output_type": "stream",
     "text": [
      "[17:13:53] unknown|798|mol2|1|dock73: warning - O.co2 with non C.2 or S.o2 neighbor.\n",
      "[17:13:53] unknown|798|mol2|1|dock4: warning - O.co2 with non C.2 or S.o2 neighbor.\n",
      "RDKit WARNING: [17:13:54] unknown|798|mol2|1|dock73: warning - O.co2 with non C.2 or S.o2 neighbor.\n",
      "RDKit WARNING: [17:13:54] unknown|798|mol2|1|dock8: warning - O.co2 with non C.2 or S.o2 neighbor.\n",
      "[17:13:54] unknown|798|mol2|1|dock73: warning - O.co2 with non C.2 or S.o2 neighbor.\n",
      "[17:13:54] unknown|798|mol2|1|dock8: warning - O.co2 with non C.2 or S.o2 neighbor.\n"
     ]
    },
    {
     "name": "stdout",
     "output_type": "stream",
     "text": [
      "Setting up GOLD environment...\n",
      "GOLD Version 2021.2.0\n",
      "Running:\n",
      " \n",
      "     \"/home/benoit/CCDC/Discovery_2021/GOLD/gold/d_linux_64/bin/gold_linux_64\" \"/home/benoit/bioactive_conformation_predictor/gold_docking_postprocessing/773/api_gold.conf\"\n",
      "\n"
     ]
    },
    {
     "name": "stderr",
     "output_type": "stream",
     "text": [
      "RDKit WARNING: [17:13:54] unknown|798|mol2|1|dock96: warning - O.co2 with non C.2 or S.o2 neighbor.\n",
      "RDKit WARNING: [17:13:54] unknown|798|mol2|1|dock48: warning - O.co2 with non C.2 or S.o2 neighbor.\n",
      "[17:13:54] unknown|798|mol2|1|dock96: warning - O.co2 with non C.2 or S.o2 neighbor.\n",
      "[17:13:54] unknown|798|mol2|1|dock48: warning - O.co2 with non C.2 or S.o2 neighbor.\n"
     ]
    },
    {
     "name": "stdout",
     "output_type": "stream",
     "text": [
      "Starting GOLD with conf file /home/benoit/bioactive_conformation_predictor/gold_docking_postprocessing/638/api_gold.conf\n",
      "Setting up GOLD environment...\n",
      "GOLD Version 2021.2.0\n",
      "Running:\n",
      " \n",
      "     \"/home/benoit/CCDC/Discovery_2021/GOLD/gold/d_linux_64/bin/gold_linux_64\" \"/home/benoit/bioactive_conformation_predictor/gold_docking_postprocessing/638/api_gold.conf\"\n",
      "\n",
      "Starting GOLD with conf file /home/benoit/bioactive_conformation_predictor/gold_docking_postprocessing/733/api_gold.conf\n",
      "Setting up GOLD environment...\n",
      "GOLD Version 2021.2.0\n",
      "Running:\n",
      " \n",
      "     \"/home/benoit/CCDC/Discovery_2021/GOLD/gold/d_linux_64/bin/gold_linux_64\" \"/home/benoit/bioactive_conformation_predictor/gold_docking_postprocessing/733/api_gold.conf\"\n",
      "\n",
      "Starting GOLD with conf file /home/benoit/bioactive_conformation_predictor/gold_docking_postprocessing/568/api_gold.conf\n",
      "Setting up GOLD environment...\n",
      "GOLD Version 2021.2.0\n",
      "Running:\n",
      " \n",
      "     \"/home/benoit/CCDC/Discovery_2021/GOLD/gold/d_linux_64/bin/gold_linux_64\" \"/home/benoit/bioactive_conformation_predictor/gold_docking_postprocessing/568/api_gold.conf\"\n",
      "\n",
      "Starting GOLD with conf file /home/benoit/bioactive_conformation_predictor/gold_docking_postprocessing/799/api_gold.conf\n",
      "Setting up GOLD environment...\n",
      "GOLD Version 2021.2.0\n",
      "Running:\n",
      " \n",
      "     \"/home/benoit/CCDC/Discovery_2021/GOLD/gold/d_linux_64/bin/gold_linux_64\" \"/home/benoit/bioactive_conformation_predictor/gold_docking_postprocessing/799/api_gold.conf\"\n",
      "\n",
      "Starting GOLD with conf file /home/benoit/bioactive_conformation_predictor/gold_docking_postprocessing/592/api_gold.conf\n",
      "Setting up GOLD environment...\n",
      "GOLD Version 2021.2.0\n",
      "Running:\n",
      " \n",
      "     \"/home/benoit/CCDC/Discovery_2021/GOLD/gold/d_linux_64/bin/gold_linux_64\" \"/home/benoit/bioactive_conformation_predictor/gold_docking_postprocessing/592/api_gold.conf\"\n",
      "\n",
      "0\n",
      "0\n"
     ]
    },
    {
     "name": "stderr",
     "output_type": "stream",
     "text": [
      "RDKit WARNING: [17:14:06] unknown|688|mol2|1|dock42: warning - O.co2 with non C.2 or S.o2 neighbor.\n",
      "RDKit WARNING: [17:14:06] unknown|688|mol2|1|dock82: warning - O.co2 with non C.2 or S.o2 neighbor.\n",
      "[17:14:06] unknown|688|mol2|1|dock42: warning - O.co2 with non C.2 or S.o2 neighbor.\n",
      "[17:14:06] unknown|688|mol2|1|dock82: warning - O.co2 with non C.2 or S.o2 neighbor.\n"
     ]
    },
    {
     "name": "stdout",
     "output_type": "stream",
     "text": [
      "0\n"
     ]
    },
    {
     "name": "stderr",
     "output_type": "stream",
     "text": [
      "RDKit WARNING: [17:14:07] unknown|688|mol2|1|dock58: warning - O.co2 with non C.2 or S.o2 neighbor.\n",
      "RDKit WARNING: [17:14:07] unknown|688|mol2|1|dock25: warning - O.co2 with non C.2 or S.o2 neighbor.\n",
      "[17:14:07] unknown|688|mol2|1|dock58: warning - O.co2 with non C.2 or S.o2 neighbor.\n",
      "[17:14:07] unknown|688|mol2|1|dock25: warning - O.co2 with non C.2 or S.o2 neighbor.\n",
      "RDKit WARNING: [17:14:07] unknown|688|mol2|1|dock27: warning - O.co2 with non C.2 or S.o2 neighbor.\n",
      "RDKit WARNING: [17:14:07] unknown|688|mol2|1|dock45: warning - O.co2 with non C.2 or S.o2 neighbor.\n"
     ]
    },
    {
     "name": "stdout",
     "output_type": "stream",
     "text": [
      "Starting GOLD with conf file /home/benoit/bioactive_conformation_predictor/gold_docking_postprocessing/689/api_gold.conf\n"
     ]
    },
    {
     "name": "stderr",
     "output_type": "stream",
     "text": [
      "[17:14:07] unknown|688|mol2|1|dock27: warning - O.co2 with non C.2 or S.o2 neighbor.\n",
      "[17:14:07] unknown|688|mol2|1|dock45: warning - O.co2 with non C.2 or S.o2 neighbor.\n"
     ]
    },
    {
     "name": "stdout",
     "output_type": "stream",
     "text": [
      "Setting up GOLD environment...\n",
      "GOLD Version 2021.2.0\n",
      "Running:\n",
      " \n",
      "     \"/home/benoit/CCDC/Discovery_2021/GOLD/gold/d_linux_64/bin/gold_linux_64\" \"/home/benoit/bioactive_conformation_predictor/gold_docking_postprocessing/689/api_gold.conf\"\n",
      "\n",
      "0\n",
      "0\n",
      "Starting GOLD with conf file /home/benoit/bioactive_conformation_predictor/gold_docking_postprocessing/708/api_gold.conf\n",
      "Starting GOLD with conf file /home/benoit/bioactive_conformation_predictor/gold_docking_postprocessing/617/api_gold.conf\n",
      "0\n",
      "Setting up GOLD environment...\n",
      "GOLD Version 2021.2.0\n",
      "Running:\n",
      " \n",
      "     \"/home/benoit/CCDC/Discovery_2021/GOLD/gold/d_linux_64/bin/gold_linux_64\" \"/home/benoit/bioactive_conformation_predictor/gold_docking_postprocessing/708/api_gold.conf\"\n",
      "\n",
      "Setting up GOLD environment...\n",
      "GOLD Version 2021.2.0\n",
      "Running:\n",
      " \n",
      "     \"/home/benoit/CCDC/Discovery_2021/GOLD/gold/d_linux_64/bin/gold_linux_64\" \"/home/benoit/bioactive_conformation_predictor/gold_docking_postprocessing/617/api_gold.conf\"\n",
      "\n",
      "Starting GOLD with conf file /home/benoit/bioactive_conformation_predictor/gold_docking_postprocessing/569/api_gold.conf\n",
      "Setting up GOLD environment...\n",
      "GOLD Version 2021.2.0\n",
      "Running:\n",
      " \n",
      "     \"/home/benoit/CCDC/Discovery_2021/GOLD/gold/d_linux_64/bin/gold_linux_64\" \"/home/benoit/bioactive_conformation_predictor/gold_docking_postprocessing/569/api_gold.conf\"\n",
      "\n",
      "Starting GOLD with conf file /home/benoit/bioactive_conformation_predictor/gold_docking_postprocessing/593/api_gold.conf\n",
      "Setting up GOLD environment...\n",
      "GOLD Version 2021.2.0\n",
      "Running:\n",
      " \n",
      "     \"/home/benoit/CCDC/Discovery_2021/GOLD/gold/d_linux_64/bin/gold_linux_64\" \"/home/benoit/bioactive_conformation_predictor/gold_docking_postprocessing/593/api_gold.conf\"\n",
      "\n",
      "Starting GOLD with conf file /home/benoit/bioactive_conformation_predictor/gold_docking_postprocessing/639/api_gold.conf\n",
      "Setting up GOLD environment...\n",
      "GOLD Version 2021.2.0\n",
      "Running:\n",
      " \n",
      "     \"/home/benoit/CCDC/Discovery_2021/GOLD/gold/d_linux_64/bin/gold_linux_64\" \"/home/benoit/bioactive_conformation_predictor/gold_docking_postprocessing/639/api_gold.conf\"\n",
      "\n",
      "0\n",
      "0\n"
     ]
    },
    {
     "name": "stderr",
     "output_type": "stream",
     "text": [
      "RDKit WARNING: [17:14:21] unknown|820|mol2|1|dock10: warning - O.co2 with non C.2 or S.o2 neighbor.\n",
      "RDKit WARNING: [17:14:21] unknown|820|mol2|1|dock44: warning - O.co2 with non C.2 or S.o2 neighbor.\n",
      "[17:14:21] unknown|820|mol2|1|dock10: warning - O.co2 with non C.2 or S.o2 neighbor.\n",
      "[17:14:21] unknown|820|mol2|1|dock44: warning - O.co2 with non C.2 or S.o2 neighbor.\n",
      "RDKit WARNING: [17:14:22] unknown|820|mol2|1|dock66: warning - O.co2 with non C.2 or S.o2 neighbor.\n",
      "RDKit WARNING: [17:14:22] unknown|820|mol2|1|dock53: warning - O.co2 with non C.2 or S.o2 neighbor.\n",
      "[17:14:22] unknown|820|mol2|1|dock66: warning - O.co2 with non C.2 or S.o2 neighbor.\n",
      "[17:14:22] unknown|820|mol2|1|dock53: warning - O.co2 with non C.2 or S.o2 neighbor.\n",
      "RDKit WARNING: [17:14:22] unknown|820|mol2|1|dock99: warning - O.co2 with non C.2 or S.o2 neighbor.\n",
      "RDKit WARNING: [17:14:22] unknown|820|mol2|1|dock83: warning - O.co2 with non C.2 or S.o2 neighbor.\n"
     ]
    },
    {
     "name": "stdout",
     "output_type": "stream",
     "text": [
      "Starting GOLD with conf file /home/benoit/bioactive_conformation_predictor/gold_docking_postprocessing/821/api_gold.conf\n"
     ]
    },
    {
     "name": "stderr",
     "output_type": "stream",
     "text": [
      "[17:14:22] unknown|820|mol2|1|dock99: warning - O.co2 with non C.2 or S.o2 neighbor.\n",
      "[17:14:22] unknown|820|mol2|1|dock83: warning - O.co2 with non C.2 or S.o2 neighbor.\n"
     ]
    },
    {
     "name": "stdout",
     "output_type": "stream",
     "text": [
      "Setting up GOLD environment...\n",
      "GOLD Version 2021.2.0\n",
      "Running:\n",
      " \n",
      "     \"/home/benoit/CCDC/Discovery_2021/GOLD/gold/d_linux_64/bin/gold_linux_64\" \"/home/benoit/bioactive_conformation_predictor/gold_docking_postprocessing/821/api_gold.conf\"\n",
      "\n",
      "Starting GOLD with conf file /home/benoit/bioactive_conformation_predictor/gold_docking_postprocessing/618/api_gold.conf\n",
      "Setting up GOLD environment...\n",
      "GOLD Version 2021.2.0\n",
      "Running:\n",
      " \n",
      "     \"/home/benoit/CCDC/Discovery_2021/GOLD/gold/d_linux_64/bin/gold_linux_64\" \"/home/benoit/bioactive_conformation_predictor/gold_docking_postprocessing/618/api_gold.conf\"\n",
      "\n",
      "0\n",
      "0\n",
      "Error with smiles [NH3+][C@@](CCC[CH2]~B(O)(O)O)(C(=O)[O-])C(F)F\n",
      "'NoneType' object has no attribute 'CalcEnergy'\n",
      "Starting GOLD with conf file /home/benoit/bioactive_conformation_predictor/gold_docking_postprocessing/734/api_gold.conf\n",
      "Setting up GOLD environment...\n",
      "GOLD Version 2021.2.0\n",
      "Running:\n",
      " \n",
      "     \"/home/benoit/CCDC/Discovery_2021/GOLD/gold/d_linux_64/bin/gold_linux_64\" \"/home/benoit/bioactive_conformation_predictor/gold_docking_postprocessing/734/api_gold.conf\"\n",
      "\n",
      "0\n",
      "0\n",
      "Starting GOLD with conf file /home/benoit/bioactive_conformation_predictor/gold_docking_postprocessing/570/api_gold.conf\n",
      "Starting GOLD with conf file /home/benoit/bioactive_conformation_predictor/gold_docking_postprocessing/690/api_gold.conf\n",
      "Setting up GOLD environment...\n",
      "GOLD Version 2021.2.0\n",
      "Running:\n",
      " \n",
      "     \"/home/benoit/CCDC/Discovery_2021/GOLD/gold/d_linux_64/bin/gold_linux_64\" \"/home/benoit/bioactive_conformation_predictor/gold_docking_postprocessing/570/api_gold.conf\"\n",
      "\n",
      "Setting up GOLD environment...\n",
      "GOLD Version 2021.2.0\n",
      "Running:\n",
      " \n",
      "     \"/home/benoit/CCDC/Discovery_2021/GOLD/gold/d_linux_64/bin/gold_linux_64\" \"/home/benoit/bioactive_conformation_predictor/gold_docking_postprocessing/690/api_gold.conf\"\n",
      "\n",
      "Starting GOLD with conf file /home/benoit/bioactive_conformation_predictor/gold_docking_postprocessing/662/api_gold.conf\n",
      "0\n",
      "Setting up GOLD environment...\n",
      "GOLD Version 2021.2.0\n",
      "Running:\n",
      " \n",
      "     \"/home/benoit/CCDC/Discovery_2021/GOLD/gold/d_linux_64/bin/gold_linux_64\" \"/home/benoit/bioactive_conformation_predictor/gold_docking_postprocessing/662/api_gold.conf\"\n",
      "\n",
      "0\n",
      "0\n"
     ]
    },
    {
     "name": "stderr",
     "output_type": "stream",
     "text": [
      "RDKit WARNING: [17:14:33] unknown|639|mol2|1|dock71: warning - O.co2 with non C.2 or S.o2 neighbor.\n",
      "RDKit WARNING: [17:14:33] unknown|639|mol2|1|dock69: warning - O.co2 with non C.2 or S.o2 neighbor.\n",
      "[17:14:33] unknown|639|mol2|1|dock71: warning - O.co2 with non C.2 or S.o2 neighbor.\n",
      "[17:14:33] unknown|639|mol2|1|dock69: warning - O.co2 with non C.2 or S.o2 neighbor.\n",
      "RDKit WARNING: [17:14:33] unknown|639|mol2|1|dock80: warning - O.co2 with non C.2 or S.o2 neighbor.\n",
      "RDKit WARNING: [17:14:33] unknown|639|mol2|1|dock11: warning - O.co2 with non C.2 or S.o2 neighbor.\n",
      "RDKit WARNING: [17:14:33] unknown|708|mol2|1|dock39: warning - O.co2 with non C.2 or S.o2 neighbor.\n",
      "RDKit WARNING: [17:14:33] unknown|708|mol2|1|dock5: warning - O.co2 with non C.2 or S.o2 neighbor.\n",
      "[17:14:33] unknown|639|mol2|1|dock80: warning - O.co2 with non C.2 or S.o2 neighbor.\n",
      "[17:14:33] unknown|639|mol2|1|dock11: warning - O.co2 with non C.2 or S.o2 neighbor.\n",
      "[17:14:33] unknown|708|mol2|1|dock39: warning - O.co2 with non C.2 or S.o2 neighbor.\n",
      "[17:14:33] unknown|708|mol2|1|dock5: warning - O.co2 with non C.2 or S.o2 neighbor.\n",
      "RDKit WARNING: [17:14:33] unknown|639|mol2|1|dock57: warning - O.co2 with non C.2 or S.o2 neighbor.\n",
      "RDKit WARNING: [17:14:33] unknown|639|mol2|1|dock59: warning - O.co2 with non C.2 or S.o2 neighbor.\n",
      "RDKit WARNING: [17:14:33] unknown|708|mol2|1|dock39: warning - O.co2 with non C.2 or S.o2 neighbor.\n",
      "RDKit WARNING: [17:14:33] unknown|708|mol2|1|dock39: warning - O.co2 with non C.2 or S.o2 neighbor.\n"
     ]
    },
    {
     "name": "stdout",
     "output_type": "stream",
     "text": [
      "Starting GOLD with conf file /home/benoit/bioactive_conformation_predictor/gold_docking_postprocessing/640/api_gold.conf\n"
     ]
    },
    {
     "name": "stderr",
     "output_type": "stream",
     "text": [
      "[17:14:33] unknown|639|mol2|1|dock57: warning - O.co2 with non C.2 or S.o2 neighbor.\n",
      "[17:14:33] unknown|639|mol2|1|dock59: warning - O.co2 with non C.2 or S.o2 neighbor.\n",
      "[17:14:33] unknown|708|mol2|1|dock39: warning - O.co2 with non C.2 or S.o2 neighbor.\n",
      "[17:14:33] unknown|708|mol2|1|dock39: warning - O.co2 with non C.2 or S.o2 neighbor.\n",
      "RDKit WARNING: [17:14:34] unknown|708|mol2|1|dock5: warning - O.co2 with non C.2 or S.o2 neighbor.\n",
      "RDKit WARNING: [17:14:34] unknown|708|mol2|1|dock5: warning - O.co2 with non C.2 or S.o2 neighbor.\n"
     ]
    },
    {
     "name": "stdout",
     "output_type": "stream",
     "text": [
      "Setting up GOLD environment...\n",
      "GOLD Version 2021.2.0\n",
      "Running:\n",
      " \n",
      "     \"/home/benoit/CCDC/Discovery_2021/GOLD/gold/d_linux_64/bin/gold_linux_64\" \"/home/benoit/bioactive_conformation_predictor/gold_docking_postprocessing/640/api_gold.conf\"\n",
      "\n"
     ]
    },
    {
     "name": "stderr",
     "output_type": "stream",
     "text": [
      "[17:14:34] unknown|708|mol2|1|dock5: warning - O.co2 with non C.2 or S.o2 neighbor.\n",
      "[17:14:34] unknown|708|mol2|1|dock5: warning - O.co2 with non C.2 or S.o2 neighbor.\n"
     ]
    },
    {
     "name": "stdout",
     "output_type": "stream",
     "text": [
      "Starting GOLD with conf file /home/benoit/bioactive_conformation_predictor/gold_docking_postprocessing/709/api_gold.conf\n",
      "Setting up GOLD environment...\n",
      "GOLD Version 2021.2.0\n",
      "Running:\n",
      " \n",
      "     \"/home/benoit/CCDC/Discovery_2021/GOLD/gold/d_linux_64/bin/gold_linux_64\" \"/home/benoit/bioactive_conformation_predictor/gold_docking_postprocessing/709/api_gold.conf\"\n",
      "\n",
      "0\n",
      "0\n",
      "Starting GOLD with conf file /home/benoit/bioactive_conformation_predictor/gold_docking_postprocessing/800/api_gold.conf\n",
      "Setting up GOLD environment...\n",
      "GOLD Version 2021.2.0\n",
      "Running:\n",
      " \n",
      "     \"/home/benoit/CCDC/Discovery_2021/GOLD/gold/d_linux_64/bin/gold_linux_64\" \"/home/benoit/bioactive_conformation_predictor/gold_docking_postprocessing/800/api_gold.conf\"\n",
      "\n",
      "0\n",
      "0\n",
      "Starting GOLD with conf file /home/benoit/bioactive_conformation_predictor/gold_docking_postprocessing/822/api_gold.conf\n",
      "Starting GOLD with conf file /home/benoit/bioactive_conformation_predictor/gold_docking_postprocessing/619/api_gold.conf\n",
      "Setting up GOLD environment...\n",
      "GOLD Version 2021.2.0\n",
      "Running:\n",
      " \n",
      "     \"/home/benoit/CCDC/Discovery_2021/GOLD/gold/d_linux_64/bin/gold_linux_64\" \"/home/benoit/bioactive_conformation_predictor/gold_docking_postprocessing/822/api_gold.conf\"\n",
      "\n",
      "Setting up GOLD environment...\n",
      "GOLD Version 2021.2.0\n",
      "Running:\n",
      " \n",
      "     \"/home/benoit/CCDC/Discovery_2021/GOLD/gold/d_linux_64/bin/gold_linux_64\" \"/home/benoit/bioactive_conformation_predictor/gold_docking_postprocessing/619/api_gold.conf\"\n",
      "\n",
      "0\n",
      "Starting GOLD with conf file /home/benoit/bioactive_conformation_predictor/gold_docking_postprocessing/594/api_gold.conf\n",
      "Setting up GOLD environment...\n",
      "GOLD Version 2021.2.0\n",
      "Running:\n",
      " \n",
      "     \"/home/benoit/CCDC/Discovery_2021/GOLD/gold/d_linux_64/bin/gold_linux_64\" \"/home/benoit/bioactive_conformation_predictor/gold_docking_postprocessing/594/api_gold.conf\"\n",
      "\n",
      "Starting GOLD with conf file /home/benoit/bioactive_conformation_predictor/gold_docking_postprocessing/774/api_gold.conf\n",
      "Starting GOLD with conf file /home/benoit/bioactive_conformation_predictor/gold_docking_postprocessing/735/api_gold.conf\n",
      "Setting up GOLD environment...\n",
      "GOLD Version 2021.2.0\n",
      "Running:\n",
      " \n",
      "     \"/home/benoit/CCDC/Discovery_2021/GOLD/gold/d_linux_64/bin/gold_linux_64\" \"/home/benoit/bioactive_conformation_predictor/gold_docking_postprocessing/774/api_gold.conf\"\n",
      "\n",
      "Setting up GOLD environment...\n",
      "GOLD Version 2021.2.0\n",
      "Running:\n",
      " \n",
      "     \"/home/benoit/CCDC/Discovery_2021/GOLD/gold/d_linux_64/bin/gold_linux_64\" \"/home/benoit/bioactive_conformation_predictor/gold_docking_postprocessing/735/api_gold.conf\"\n",
      "\n",
      "0\n",
      "Starting GOLD with conf file /home/benoit/bioactive_conformation_predictor/gold_docking_postprocessing/595/api_gold.conf\n",
      "0\n",
      "0\n",
      "Setting up GOLD environment...\n",
      "GOLD Version 2021.2.0\n",
      "Running:\n",
      " \n",
      "     \"/home/benoit/CCDC/Discovery_2021/GOLD/gold/d_linux_64/bin/gold_linux_64\" \"/home/benoit/bioactive_conformation_predictor/gold_docking_postprocessing/595/api_gold.conf\"\n",
      "\n",
      "0\n",
      "Starting GOLD with conf file /home/benoit/bioactive_conformation_predictor/gold_docking_postprocessing/801/api_gold.conf\n",
      "Starting GOLD with conf file /home/benoit/bioactive_conformation_predictor/gold_docking_postprocessing/641/api_gold.conf\n",
      "Setting up GOLD environment...\n",
      "GOLD Version 2021.2.0\n",
      "Running:\n",
      " \n",
      "     \"/home/benoit/CCDC/Discovery_2021/GOLD/gold/d_linux_64/bin/gold_linux_64\" \"/home/benoit/bioactive_conformation_predictor/gold_docking_postprocessing/801/api_gold.conf\"\n",
      "\n",
      "Setting up GOLD environment...\n",
      "GOLD Version 2021.2.0\n",
      "Running:\n",
      " \n",
      "     \"/home/benoit/CCDC/Discovery_2021/GOLD/gold/d_linux_64/bin/gold_linux_64\" \"/home/benoit/bioactive_conformation_predictor/gold_docking_postprocessing/641/api_gold.conf\"\n",
      "\n",
      "0\n"
     ]
    },
    {
     "name": "stderr",
     "output_type": "stream",
     "text": [
      "RDKit WARNING: [17:14:46] unknown|570|mol2|1|dock3: warning - O.co2 with non C.2 or S.o2 neighbor.\n",
      "RDKit WARNING: [17:14:46] unknown|570|mol2|1|dock58: warning - O.co2 with non C.2 or S.o2 neighbor.\n",
      "[17:14:46] unknown|570|mol2|1|dock3: warning - O.co2 with non C.2 or S.o2 neighbor.\n",
      "[17:14:46] unknown|570|mol2|1|dock58: warning - O.co2 with non C.2 or S.o2 neighbor.\n",
      "RDKit WARNING: [17:14:47] unknown|570|mol2|1|dock4: warning - O.co2 with non C.2 or S.o2 neighbor.\n",
      "RDKit WARNING: [17:14:47] unknown|570|mol2|1|dock56: warning - O.co2 with non C.2 or S.o2 neighbor.\n",
      "[17:14:47] unknown|570|mol2|1|dock4: warning - O.co2 with non C.2 or S.o2 neighbor.\n",
      "[17:14:47] unknown|570|mol2|1|dock56: warning - O.co2 with non C.2 or S.o2 neighbor.\n",
      "RDKit WARNING: [17:14:47] unknown|570|mol2|1|dock3: warning - O.co2 with non C.2 or S.o2 neighbor.\n",
      "RDKit WARNING: [17:14:47] unknown|570|mol2|1|dock28: warning - O.co2 with non C.2 or S.o2 neighbor.\n"
     ]
    },
    {
     "name": "stdout",
     "output_type": "stream",
     "text": [
      "Starting GOLD with conf file /home/benoit/bioactive_conformation_predictor/gold_docking_postprocessing/571/api_gold.conf\n"
     ]
    },
    {
     "name": "stderr",
     "output_type": "stream",
     "text": [
      "[17:14:47] unknown|570|mol2|1|dock3: warning - O.co2 with non C.2 or S.o2 neighbor.\n",
      "[17:14:47] unknown|570|mol2|1|dock28: warning - O.co2 with non C.2 or S.o2 neighbor.\n"
     ]
    },
    {
     "name": "stdout",
     "output_type": "stream",
     "text": [
      "Setting up GOLD environment...\n",
      "GOLD Version 2021.2.0\n",
      "Running:\n",
      " \n",
      "     \"/home/benoit/CCDC/Discovery_2021/GOLD/gold/d_linux_64/bin/gold_linux_64\" \"/home/benoit/bioactive_conformation_predictor/gold_docking_postprocessing/571/api_gold.conf\"\n",
      "\n",
      "0\n",
      "0\n",
      "0\n",
      "0\n",
      "Starting GOLD with conf file /home/benoit/bioactive_conformation_predictor/gold_docking_postprocessing/663/api_gold.conf\n",
      "0\n",
      "Setting up GOLD environment...\n",
      "GOLD Version 2021.2.0\n",
      "Running:\n",
      " \n",
      "     \"/home/benoit/CCDC/Discovery_2021/GOLD/gold/d_linux_64/bin/gold_linux_64\" \"/home/benoit/bioactive_conformation_predictor/gold_docking_postprocessing/663/api_gold.conf\"\n",
      "\n",
      "Starting GOLD with conf file /home/benoit/bioactive_conformation_predictor/gold_docking_postprocessing/736/api_gold.conf\n",
      "Setting up GOLD environment...\n",
      "GOLD Version 2021.2.0\n",
      "Running:\n",
      " \n",
      "     \"/home/benoit/CCDC/Discovery_2021/GOLD/gold/d_linux_64/bin/gold_linux_64\" \"/home/benoit/bioactive_conformation_predictor/gold_docking_postprocessing/736/api_gold.conf\"\n",
      "\n",
      "Starting GOLD with conf file /home/benoit/bioactive_conformation_predictor/gold_docking_postprocessing/710/api_gold.conf\n",
      "Starting GOLD with conf file /home/benoit/bioactive_conformation_predictor/gold_docking_postprocessing/802/api_gold.conf\n",
      "Setting up GOLD environment...\n",
      "GOLD Version 2021.2.0\n",
      "Running:\n",
      " \n",
      "     \"/home/benoit/CCDC/Discovery_2021/GOLD/gold/d_linux_64/bin/gold_linux_64\" \"/home/benoit/bioactive_conformation_predictor/gold_docking_postprocessing/710/api_gold.conf\"\n",
      "\n",
      "Setting up GOLD environment...\n",
      "GOLD Version 2021.2.0\n",
      "Running:\n",
      " \n",
      "     \"/home/benoit/CCDC/Discovery_2021/GOLD/gold/d_linux_64/bin/gold_linux_64\" \"/home/benoit/bioactive_conformation_predictor/gold_docking_postprocessing/802/api_gold.conf\"\n",
      "\n",
      "Starting GOLD with conf file /home/benoit/bioactive_conformation_predictor/gold_docking_postprocessing/751/api_gold.conf\n",
      "Setting up GOLD environment...\n",
      "GOLD Version 2021.2.0\n",
      "Running:\n",
      " \n",
      "     \"/home/benoit/CCDC/Discovery_2021/GOLD/gold/d_linux_64/bin/gold_linux_64\" \"/home/benoit/bioactive_conformation_predictor/gold_docking_postprocessing/751/api_gold.conf\"\n",
      "\n",
      "0\n",
      "Starting GOLD with conf file /home/benoit/bioactive_conformation_predictor/gold_docking_postprocessing/691/api_gold.conf\n",
      "Setting up GOLD environment...\n",
      "GOLD Version 2021.2.0\n",
      "Running:\n",
      " \n",
      "     \"/home/benoit/CCDC/Discovery_2021/GOLD/gold/d_linux_64/bin/gold_linux_64\" \"/home/benoit/bioactive_conformation_predictor/gold_docking_postprocessing/691/api_gold.conf\"\n",
      "\n",
      "Starting GOLD with conf file /home/benoit/bioactive_conformation_predictor/gold_docking_postprocessing/596/api_gold.conf\n",
      "0\n",
      "Setting up GOLD environment...\n",
      "GOLD Version 2021.2.0\n",
      "Running:\n",
      " \n",
      "     \"/home/benoit/CCDC/Discovery_2021/GOLD/gold/d_linux_64/bin/gold_linux_64\" \"/home/benoit/bioactive_conformation_predictor/gold_docking_postprocessing/596/api_gold.conf\"\n",
      "\n",
      "Error with smiles C=CC[Se]c1ccc(S(N)(=O)=O)cc1\n",
      "'NoneType' object has no attribute 'CalcEnergy'\n",
      "Starting GOLD with conf file /home/benoit/bioactive_conformation_predictor/gold_docking_postprocessing/572/api_gold.conf\n",
      "Setting up GOLD environment...\n",
      "GOLD Version 2021.2.0\n",
      "Running:\n",
      " \n",
      "     \"/home/benoit/CCDC/Discovery_2021/GOLD/gold/d_linux_64/bin/gold_linux_64\" \"/home/benoit/bioactive_conformation_predictor/gold_docking_postprocessing/572/api_gold.conf\"\n",
      "\n",
      "0\n",
      "Error with smiles C[C]1O[Fe+7]23(O[NH2+]CCCCC[NH3+])(O/C=C\\CC(=O)NCCCCCN1O2)OCCCC(=O)NCCCCC[NH2+]O3\n",
      "'NoneType' object has no attribute 'CalcEnergy'\n",
      "0\n",
      "Starting GOLD with conf file /home/benoit/bioactive_conformation_predictor/gold_docking_postprocessing/823/api_gold.conf\n",
      "Setting up GOLD environment...\n",
      "GOLD Version 2021.2.0\n",
      "Running:\n",
      " \n",
      "     \"/home/benoit/CCDC/Discovery_2021/GOLD/gold/d_linux_64/bin/gold_linux_64\" \"/home/benoit/bioactive_conformation_predictor/gold_docking_postprocessing/823/api_gold.conf\"\n",
      "\n",
      "0\n",
      "0\n",
      "0\n",
      "0\n",
      "0\n",
      "0\n"
     ]
    },
    {
     "name": "stderr",
     "output_type": "stream",
     "text": [
      "RDKit WARNING: [17:15:11] unknown|710|mol2|1|dock45: warning - O.co2 with non C.2 or S.o2 neighbor.\n",
      "RDKit WARNING: [17:15:11] unknown|710|mol2|1|dock76: warning - O.co2 with non C.2 or S.o2 neighbor.\n",
      "[17:15:11] unknown|710|mol2|1|dock45: warning - O.co2 with non C.2 or S.o2 neighbor.\n",
      "[17:15:11] unknown|710|mol2|1|dock76: warning - O.co2 with non C.2 or S.o2 neighbor.\n",
      "RDKit WARNING: [17:15:11] unknown|710|mol2|1|dock45: warning - O.co2 with non C.2 or S.o2 neighbor.\n",
      "RDKit WARNING: [17:15:11] unknown|710|mol2|1|dock4: warning - O.co2 with non C.2 or S.o2 neighbor.\n",
      "[17:15:11] unknown|710|mol2|1|dock45: warning - O.co2 with non C.2 or S.o2 neighbor.\n",
      "[17:15:11] unknown|710|mol2|1|dock4: warning - O.co2 with non C.2 or S.o2 neighbor.\n"
     ]
    },
    {
     "name": "stdout",
     "output_type": "stream",
     "text": [
      "Starting GOLD with conf file /home/benoit/bioactive_conformation_predictor/gold_docking_postprocessing/573/api_gold.conf\n"
     ]
    },
    {
     "name": "stderr",
     "output_type": "stream",
     "text": [
      "RDKit WARNING: [17:15:11] unknown|710|mol2|1|dock76: warning - O.co2 with non C.2 or S.o2 neighbor.\n",
      "RDKit WARNING: [17:15:11] unknown|710|mol2|1|dock93: warning - O.co2 with non C.2 or S.o2 neighbor.\n",
      "[17:15:11] unknown|710|mol2|1|dock76: warning - O.co2 with non C.2 or S.o2 neighbor.\n",
      "[17:15:11] unknown|710|mol2|1|dock93: warning - O.co2 with non C.2 or S.o2 neighbor.\n"
     ]
    },
    {
     "name": "stdout",
     "output_type": "stream",
     "text": [
      "Setting up GOLD environment...\n",
      "GOLD Version 2021.2.0\n",
      "Running:\n",
      " \n",
      "     \"/home/benoit/CCDC/Discovery_2021/GOLD/gold/d_linux_64/bin/gold_linux_64\" \"/home/benoit/bioactive_conformation_predictor/gold_docking_postprocessing/573/api_gold.conf\"\n",
      "\n",
      "Starting GOLD with conf file /home/benoit/bioactive_conformation_predictor/gold_docking_postprocessing/711/api_gold.conf\n",
      "Setting up GOLD environment...\n",
      "GOLD Version 2021.2.0\n",
      "Running:\n",
      " \n",
      "     \"/home/benoit/CCDC/Discovery_2021/GOLD/gold/d_linux_64/bin/gold_linux_64\" \"/home/benoit/bioactive_conformation_predictor/gold_docking_postprocessing/711/api_gold.conf\"\n",
      "\n",
      "Starting GOLD with conf file /home/benoit/bioactive_conformation_predictor/gold_docking_postprocessing/597/api_gold.conf\n",
      "0Starting GOLD with conf file /home/benoit/bioactive_conformation_predictor/gold_docking_postprocessing/803/api_gold.conf\n",
      "\n",
      "Setting up GOLD environment...\n",
      "GOLD Version 2021.2.0\n",
      "Running:\n",
      " \n",
      "     \"/home/benoit/CCDC/Discovery_2021/GOLD/gold/d_linux_64/bin/gold_linux_64\" \"/home/benoit/bioactive_conformation_predictor/gold_docking_postprocessing/597/api_gold.conf\"\n",
      "\n",
      "Setting up GOLD environment...\n",
      "GOLD Version 2021.2.0\n",
      "Running:\n",
      " \n",
      "     \"/home/benoit/CCDC/Discovery_2021/GOLD/gold/d_linux_64/bin/gold_linux_64\" \"/home/benoit/bioactive_conformation_predictor/gold_docking_postprocessing/803/api_gold.conf\"\n",
      "\n",
      "Starting GOLD with conf file /home/benoit/bioactive_conformation_predictor/gold_docking_postprocessing/692/api_gold.conf\n"
     ]
    },
    {
     "name": "stderr",
     "output_type": "stream",
     "text": [
      "RDKit WARNING: [17:15:17] unknown|774|mol2|1|dock44: warning - O.co2 with non C.2 or S.o2 neighbor.\n",
      "RDKit WARNING: [17:15:17] unknown|774|mol2|1|dock24: warning - O.co2 with non C.2 or S.o2 neighbor.\n"
     ]
    },
    {
     "name": "stdout",
     "output_type": "stream",
     "text": [
      "Setting up GOLD environment...\n",
      "GOLD Version 2021.2.0\n",
      "Running:\n",
      " \n",
      "     \"/home/benoit/CCDC/Discovery_2021/GOLD/gold/d_linux_64/bin/gold_linux_64\" \"/home/benoit/bioactive_conformation_predictor/gold_docking_postprocessing/692/api_gold.conf\"\n",
      "\n"
     ]
    },
    {
     "name": "stderr",
     "output_type": "stream",
     "text": [
      "[17:15:17] unknown|774|mol2|1|dock44: warning - O.co2 with non C.2 or S.o2 neighbor.\n",
      "[17:15:17] unknown|774|mol2|1|dock24: warning - O.co2 with non C.2 or S.o2 neighbor.\n"
     ]
    },
    {
     "name": "stdout",
     "output_type": "stream",
     "text": [
      "Starting GOLD with conf file /home/benoit/bioactive_conformation_predictor/gold_docking_postprocessing/752/api_gold.conf\n"
     ]
    },
    {
     "name": "stderr",
     "output_type": "stream",
     "text": [
      "RDKit WARNING: [17:15:18] unknown|774|mol2|1|dock30: warning - O.co2 with non C.2 or S.o2 neighbor.\n",
      "RDKit WARNING: [17:15:18] unknown|774|mol2|1|dock45: warning - O.co2 with non C.2 or S.o2 neighbor.\n"
     ]
    },
    {
     "name": "stdout",
     "output_type": "stream",
     "text": [
      "Setting up GOLD environment...\n",
      "GOLD Version 2021.2.0\n",
      "Running:\n",
      " \n",
      "     \"/home/benoit/CCDC/Discovery_2021/GOLD/gold/d_linux_64/bin/gold_linux_64\" \"/home/benoit/bioactive_conformation_predictor/gold_docking_postprocessing/752/api_gold.conf\"\n",
      "\n",
      "0\n"
     ]
    },
    {
     "name": "stderr",
     "output_type": "stream",
     "text": [
      "[17:15:18] unknown|774|mol2|1|dock30: warning - O.co2 with non C.2 or S.o2 neighbor.\n",
      "[17:15:18] unknown|774|mol2|1|dock45: warning - O.co2 with non C.2 or S.o2 neighbor.\n",
      "RDKit WARNING: [17:15:18] unknown|774|mol2|1|dock90: warning - O.co2 with non C.2 or S.o2 neighbor.\n",
      "RDKit WARNING: [17:15:18] unknown|774|mol2|1|dock24: warning - O.co2 with non C.2 or S.o2 neighbor.\n"
     ]
    },
    {
     "name": "stdout",
     "output_type": "stream",
     "text": [
      "Starting GOLD with conf file /home/benoit/bioactive_conformation_predictor/gold_docking_postprocessing/775/api_gold.conf\n"
     ]
    },
    {
     "name": "stderr",
     "output_type": "stream",
     "text": [
      "[17:15:18] unknown|774|mol2|1|dock90: warning - O.co2 with non C.2 or S.o2 neighbor.\n",
      "[17:15:18] unknown|774|mol2|1|dock24: warning - O.co2 with non C.2 or S.o2 neighbor.\n"
     ]
    },
    {
     "name": "stdout",
     "output_type": "stream",
     "text": [
      "Setting up GOLD environment...\n",
      "GOLD Version 2021.2.0\n",
      "Running:\n",
      " \n",
      "     \"/home/benoit/CCDC/Discovery_2021/GOLD/gold/d_linux_64/bin/gold_linux_64\" \"/home/benoit/bioactive_conformation_predictor/gold_docking_postprocessing/775/api_gold.conf\"\n",
      "\n",
      "0\n",
      "Starting GOLD with conf file /home/benoit/bioactive_conformation_predictor/gold_docking_postprocessing/664/api_gold.conf\n",
      "Setting up GOLD environment...\n",
      "GOLD Version 2021.2.0\n",
      "Running:\n",
      " \n",
      "     \"/home/benoit/CCDC/Discovery_2021/GOLD/gold/d_linux_64/bin/gold_linux_64\" \"/home/benoit/bioactive_conformation_predictor/gold_docking_postprocessing/664/api_gold.conf\"\n",
      "\n",
      "0\n",
      "Starting GOLD with conf file /home/benoit/bioactive_conformation_predictor/gold_docking_postprocessing/642/api_gold.conf\n",
      "Starting GOLD with conf file /home/benoit/bioactive_conformation_predictor/gold_docking_postprocessing/804/api_gold.conf\n",
      "0\n",
      "Setting up GOLD environment...\n",
      "GOLD Version 2021.2.0\n",
      "Running:\n",
      " \n",
      "     \"/home/benoit/CCDC/Discovery_2021/GOLD/gold/d_linux_64/bin/gold_linux_64\" \"/home/benoit/bioactive_conformation_predictor/gold_docking_postprocessing/642/api_gold.conf\"\n",
      "\n",
      "Setting up GOLD environment...\n",
      "GOLD Version 2021.2.0\n",
      "Running:\n",
      " \n",
      "     \"/home/benoit/CCDC/Discovery_2021/GOLD/gold/d_linux_64/bin/gold_linux_64\" \"/home/benoit/bioactive_conformation_predictor/gold_docking_postprocessing/804/api_gold.conf\"\n",
      "\n",
      "0\n",
      "0\n",
      "Starting GOLD with conf file /home/benoit/bioactive_conformation_predictor/gold_docking_postprocessing/712/api_gold.conf\n",
      "Setting up GOLD environment...\n",
      "GOLD Version 2021.2.0\n",
      "Running:\n",
      " \n",
      "     \"/home/benoit/CCDC/Discovery_2021/GOLD/gold/d_linux_64/bin/gold_linux_64\" \"/home/benoit/bioactive_conformation_predictor/gold_docking_postprocessing/712/api_gold.conf\"\n",
      "\n",
      "0\n",
      "0\n",
      "Starting GOLD with conf file /home/benoit/bioactive_conformation_predictor/gold_docking_postprocessing/620/api_gold.conf\n",
      "Setting up GOLD environment...\n",
      "GOLD Version 2021.2.0\n",
      "Running:\n",
      " \n",
      "     \"/home/benoit/CCDC/Discovery_2021/GOLD/gold/d_linux_64/bin/gold_linux_64\" \"/home/benoit/bioactive_conformation_predictor/gold_docking_postprocessing/620/api_gold.conf\"\n",
      "\n",
      "Starting GOLD with conf file /home/benoit/bioactive_conformation_predictor/gold_docking_postprocessing/737/api_gold.conf\n",
      "Starting GOLD with conf file /home/benoit/bioactive_conformation_predictor/gold_docking_postprocessing/598/api_gold.conf\n",
      "Setting up GOLD environment...\n",
      "GOLD Version 2021.2.0\n",
      "Running:\n",
      " \n",
      "     \"/home/benoit/CCDC/Discovery_2021/GOLD/gold/d_linux_64/bin/gold_linux_64\" \"/home/benoit/bioactive_conformation_predictor/gold_docking_postprocessing/737/api_gold.conf\"\n",
      "\n",
      "Setting up GOLD environment...\n",
      "GOLD Version 2021.2.0\n",
      "Running:\n",
      " \n",
      "     \"/home/benoit/CCDC/Discovery_2021/GOLD/gold/d_linux_64/bin/gold_linux_64\" \"/home/benoit/bioactive_conformation_predictor/gold_docking_postprocessing/598/api_gold.conf\"\n",
      "\n",
      "0\n",
      "Starting GOLD with conf file /home/benoit/bioactive_conformation_predictor/gold_docking_postprocessing/805/api_gold.conf\n",
      "Setting up GOLD environment...\n",
      "GOLD Version 2021.2.0\n",
      "Running:\n",
      " \n",
      "     \"/home/benoit/CCDC/Discovery_2021/GOLD/gold/d_linux_64/bin/gold_linux_64\" \"/home/benoit/bioactive_conformation_predictor/gold_docking_postprocessing/805/api_gold.conf\"\n",
      "\n",
      "0\n"
     ]
    },
    {
     "name": "stderr",
     "output_type": "stream",
     "text": [
      "RDKit WARNING: [17:15:43] unknown|642|mol2|1|dock95: warning - O.co2 with non C.2 or S.o2 neighbor.\n",
      "RDKit WARNING: [17:15:43] unknown|642|mol2|1|dock29: warning - O.co2 with non C.2 or S.o2 neighbor.\n"
     ]
    },
    {
     "name": "stdout",
     "output_type": "stream",
     "text": [
      "Starting GOLD with conf file /home/benoit/bioactive_conformation_predictor/gold_docking_postprocessing/693/api_gold.conf\n"
     ]
    },
    {
     "name": "stderr",
     "output_type": "stream",
     "text": [
      "[17:15:43] unknown|642|mol2|1|dock95: warning - O.co2 with non C.2 or S.o2 neighbor.\n",
      "[17:15:43] unknown|642|mol2|1|dock29: warning - O.co2 with non C.2 or S.o2 neighbor.\n",
      "RDKit WARNING: [17:15:43] unknown|642|mol2|1|dock1: warning - O.co2 with non C.2 or S.o2 neighbor.\n",
      "RDKit WARNING: [17:15:43] unknown|642|mol2|1|dock31: warning - O.co2 with non C.2 or S.o2 neighbor.\n"
     ]
    },
    {
     "name": "stdout",
     "output_type": "stream",
     "text": [
      "Setting up GOLD environment...\n",
      "GOLD Version 2021.2.0\n",
      "Running:\n",
      " \n",
      "     \"/home/benoit/CCDC/Discovery_2021/GOLD/gold/d_linux_64/bin/gold_linux_64\" \"/home/benoit/bioactive_conformation_predictor/gold_docking_postprocessing/693/api_gold.conf\"\n",
      "\n"
     ]
    },
    {
     "name": "stderr",
     "output_type": "stream",
     "text": [
      "[17:15:43] unknown|642|mol2|1|dock1: warning - O.co2 with non C.2 or S.o2 neighbor.\n",
      "[17:15:43] unknown|642|mol2|1|dock31: warning - O.co2 with non C.2 or S.o2 neighbor.\n",
      "RDKit WARNING: [17:15:43] unknown|642|mol2|1|dock63: warning - O.co2 with non C.2 or S.o2 neighbor.\n",
      "RDKit WARNING: [17:15:43] unknown|642|mol2|1|dock18: warning - O.co2 with non C.2 or S.o2 neighbor.\n",
      "[17:15:43] unknown|642|mol2|1|dock63: warning - O.co2 with non C.2 or S.o2 neighbor.\n",
      "[17:15:43] unknown|642|mol2|1|dock18: warning - O.co2 with non C.2 or S.o2 neighbor.\n"
     ]
    },
    {
     "name": "stdout",
     "output_type": "stream",
     "text": [
      "Starting GOLD with conf file /home/benoit/bioactive_conformation_predictor/gold_docking_postprocessing/643/api_gold.conf\n",
      "Setting up GOLD environment...\n",
      "GOLD Version 2021.2.0\n",
      "Running:\n",
      " \n",
      "     \"/home/benoit/CCDC/Discovery_2021/GOLD/gold/d_linux_64/bin/gold_linux_64\" \"/home/benoit/bioactive_conformation_predictor/gold_docking_postprocessing/643/api_gold.conf\"\n",
      "\n",
      "0\n",
      "0\n",
      "0\n",
      "Starting GOLD with conf file /home/benoit/bioactive_conformation_predictor/gold_docking_postprocessing/574/api_gold.conf\n",
      "0\n",
      "Setting up GOLD environment...\n",
      "GOLD Version 2021.2.0\n",
      "Running:\n",
      " \n",
      "     \"/home/benoit/CCDC/Discovery_2021/GOLD/gold/d_linux_64/bin/gold_linux_64\" \"/home/benoit/bioactive_conformation_predictor/gold_docking_postprocessing/574/api_gold.conf\"\n",
      "\n",
      "0\n",
      "Starting GOLD with conf file /home/benoit/bioactive_conformation_predictor/gold_docking_postprocessing/776/api_gold.conf\n",
      "Setting up GOLD environment...\n",
      "GOLD Version 2021.2.0\n",
      "Running:\n",
      " \n",
      "     \"/home/benoit/CCDC/Discovery_2021/GOLD/gold/d_linux_64/bin/gold_linux_64\" \"/home/benoit/bioactive_conformation_predictor/gold_docking_postprocessing/776/api_gold.conf\"\n",
      "\n",
      "0\n",
      "Starting GOLD with conf file /home/benoit/bioactive_conformation_predictor/gold_docking_postprocessing/694/api_gold.conf\n",
      "Setting up GOLD environment...\n",
      "GOLD Version 2021.2.0\n",
      "Running:\n",
      " \n",
      "     \"/home/benoit/CCDC/Discovery_2021/GOLD/gold/d_linux_64/bin/gold_linux_64\" \"/home/benoit/bioactive_conformation_predictor/gold_docking_postprocessing/694/api_gold.conf\"\n",
      "\n",
      "Starting GOLD with conf file /home/benoit/bioactive_conformation_predictor/gold_docking_postprocessing/665/api_gold.conf\n",
      "Setting up GOLD environment...\n",
      "GOLD Version 2021.2.0\n",
      "Running:\n",
      " \n",
      "     \"/home/benoit/CCDC/Discovery_2021/GOLD/gold/d_linux_64/bin/gold_linux_64\" \"/home/benoit/bioactive_conformation_predictor/gold_docking_postprocessing/665/api_gold.conf\"\n",
      "\n"
     ]
    },
    {
     "name": "stderr",
     "output_type": "stream",
     "text": [
      "RDKit WARNING: [17:15:56] unknown|712|mol2|1|dock45: warning - O.co2 with non C.2 or S.o2 neighbor.\n",
      "RDKit WARNING: [17:15:56] unknown|712|mol2|1|dock47: warning - O.co2 with non C.2 or S.o2 neighbor.\n",
      "[17:15:56] unknown|712|mol2|1|dock45: warning - O.co2 with non C.2 or S.o2 neighbor.\n",
      "[17:15:56] unknown|712|mol2|1|dock47: warning - O.co2 with non C.2 or S.o2 neighbor.\n",
      "RDKit WARNING: [17:15:57] unknown|712|mol2|1|dock55: warning - O.co2 with non C.2 or S.o2 neighbor.\n",
      "RDKit WARNING: [17:15:57] unknown|712|mol2|1|dock96: warning - O.co2 with non C.2 or S.o2 neighbor.\n",
      "[17:15:57] unknown|712|mol2|1|dock55: warning - O.co2 with non C.2 or S.o2 neighbor.\n",
      "[17:15:57] unknown|712|mol2|1|dock96: warning - O.co2 with non C.2 or S.o2 neighbor.\n",
      "RDKit WARNING: [17:15:57] unknown|712|mol2|1|dock52: warning - O.co2 with non C.2 or S.o2 neighbor.\n",
      "RDKit WARNING: [17:15:57] unknown|712|mol2|1|dock52: warning - O.co2 with non C.2 or S.o2 neighbor.\n"
     ]
    },
    {
     "name": "stdout",
     "output_type": "stream",
     "text": [
      "Starting GOLD with conf file /home/benoit/bioactive_conformation_predictor/gold_docking_postprocessing/644/api_gold.conf\n"
     ]
    },
    {
     "name": "stderr",
     "output_type": "stream",
     "text": [
      "[17:15:57] unknown|712|mol2|1|dock52: warning - O.co2 with non C.2 or S.o2 neighbor.\n",
      "[17:15:57] unknown|712|mol2|1|dock52: warning - O.co2 with non C.2 or S.o2 neighbor.\n"
     ]
    },
    {
     "name": "stdout",
     "output_type": "stream",
     "text": [
      "Starting GOLD with conf file /home/benoit/bioactive_conformation_predictor/gold_docking_postprocessing/713/api_gold.conf\n",
      "Setting up GOLD environment...\n",
      "GOLD Version 2021.2.0\n",
      "Running:\n",
      " \n",
      "     \"/home/benoit/CCDC/Discovery_2021/GOLD/gold/d_linux_64/bin/gold_linux_64\" \"/home/benoit/bioactive_conformation_predictor/gold_docking_postprocessing/644/api_gold.conf\"\n",
      "\n",
      "Setting up GOLD environment...\n",
      "GOLD Version 2021.2.0\n",
      "Running:\n",
      " \n",
      "     \"/home/benoit/CCDC/Discovery_2021/GOLD/gold/d_linux_64/bin/gold_linux_64\" \"/home/benoit/bioactive_conformation_predictor/gold_docking_postprocessing/713/api_gold.conf\"\n",
      "\n",
      "Starting GOLD with conf file /home/benoit/bioactive_conformation_predictor/gold_docking_postprocessing/753/api_gold.conf\n",
      "Setting up GOLD environment...\n",
      "GOLD Version 2021.2.0\n",
      "Running:\n",
      " \n",
      "     \"/home/benoit/CCDC/Discovery_2021/GOLD/gold/d_linux_64/bin/gold_linux_64\" \"/home/benoit/bioactive_conformation_predictor/gold_docking_postprocessing/753/api_gold.conf\"\n",
      "\n",
      "0\n",
      "0\n",
      "0\n",
      "Starting GOLD with conf file /home/benoit/bioactive_conformation_predictor/gold_docking_postprocessing/695/api_gold.conf\n",
      "0\n",
      "Setting up GOLD environment...\n",
      "GOLD Version 2021.2.0\n",
      "Running:\n",
      " \n",
      "     \"/home/benoit/CCDC/Discovery_2021/GOLD/gold/d_linux_64/bin/gold_linux_64\" \"/home/benoit/bioactive_conformation_predictor/gold_docking_postprocessing/695/api_gold.conf\"\n",
      "\n",
      "0\n",
      "0\n",
      "Starting GOLD with conf file /home/benoit/bioactive_conformation_predictor/gold_docking_postprocessing/738/api_gold.conf\n",
      "Setting up GOLD environment...\n",
      "GOLD Version 2021.2.0\n",
      "Running:\n",
      " \n",
      "     \"/home/benoit/CCDC/Discovery_2021/GOLD/gold/d_linux_64/bin/gold_linux_64\" \"/home/benoit/bioactive_conformation_predictor/gold_docking_postprocessing/738/api_gold.conf\"\n",
      "\n",
      "0\n"
     ]
    },
    {
     "name": "stderr",
     "output_type": "stream",
     "text": [
      "RDKit WARNING: [17:16:11] unknown|665|mol2|1|dock47: warning - O.co2 with non C.2 or S.o2 neighbor.\n",
      "RDKit WARNING: [17:16:11] unknown|665|mol2|1|dock47: warning - O.co2 with non C.2 or S.o2 neighbor.\n",
      "[17:16:11] unknown|665|mol2|1|dock47: warning - O.co2 with non C.2 or S.o2 neighbor.\n",
      "[17:16:11] unknown|665|mol2|1|dock47: warning - O.co2 with non C.2 or S.o2 neighbor.\n",
      "RDKit WARNING: [17:16:11] unknown|665|mol2|1|dock35: warning - O.co2 with non C.2 or S.o2 neighbor.\n",
      "RDKit WARNING: [17:16:11] unknown|665|mol2|1|dock43: warning - O.co2 with non C.2 or S.o2 neighbor.\n",
      "[17:16:11] unknown|665|mol2|1|dock35: warning - O.co2 with non C.2 or S.o2 neighbor.\n",
      "[17:16:11] unknown|665|mol2|1|dock43: warning - O.co2 with non C.2 or S.o2 neighbor.\n",
      "RDKit WARNING: [17:16:11] unknown|665|mol2|1|dock25: warning - O.co2 with non C.2 or S.o2 neighbor.\n",
      "RDKit WARNING: [17:16:11] unknown|665|mol2|1|dock43: warning - O.co2 with non C.2 or S.o2 neighbor.\n",
      "[17:16:11] unknown|665|mol2|1|dock25: warning - O.co2 with non C.2 or S.o2 neighbor.\n",
      "[17:16:11] unknown|665|mol2|1|dock43: warning - O.co2 with non C.2 or S.o2 neighbor.\n"
     ]
    },
    {
     "name": "stdout",
     "output_type": "stream",
     "text": [
      "Starting GOLD with conf file /home/benoit/bioactive_conformation_predictor/gold_docking_postprocessing/666/api_gold.conf\n",
      "Setting up GOLD environment...\n",
      "GOLD Version 2021.2.0\n",
      "Running:\n",
      " \n",
      "     \"/home/benoit/CCDC/Discovery_2021/GOLD/gold/d_linux_64/bin/gold_linux_64\" \"/home/benoit/bioactive_conformation_predictor/gold_docking_postprocessing/666/api_gold.conf\"\n",
      "\n",
      "0\n",
      "Starting GOLD with conf file /home/benoit/bioactive_conformation_predictor/gold_docking_postprocessing/806/api_gold.conf\n",
      "0\n",
      "Setting up GOLD environment...\n",
      "GOLD Version 2021.2.0\n",
      "Running:\n",
      " \n",
      "     \"/home/benoit/CCDC/Discovery_2021/GOLD/gold/d_linux_64/bin/gold_linux_64\" \"/home/benoit/bioactive_conformation_predictor/gold_docking_postprocessing/806/api_gold.conf\"\n",
      "\n",
      "Starting GOLD with conf file /home/benoit/bioactive_conformation_predictor/gold_docking_postprocessing/575/api_gold.conf\n",
      "Starting GOLD with conf file /home/benoit/bioactive_conformation_predictor/gold_docking_postprocessing/599/api_gold.conf\n",
      "Setting up GOLD environment...\n",
      "GOLD Version 2021.2.0\n",
      "Running:\n",
      " \n",
      "     \"/home/benoit/CCDC/Discovery_2021/GOLD/gold/d_linux_64/bin/gold_linux_64\" \"/home/benoit/bioactive_conformation_predictor/gold_docking_postprocessing/575/api_gold.conf\"\n",
      "\n",
      "Setting up GOLD environment...\n",
      "Starting GOLD with conf file /home/benoit/bioactive_conformation_predictor/gold_docking_postprocessing/714/api_gold.conf\n",
      "0\n",
      "GOLD Version 2021.2.0\n",
      "Running:\n",
      " \n",
      "     \"/home/benoit/CCDC/Discovery_2021/GOLD/gold/d_linux_64/bin/gold_linux_64\" \"/home/benoit/bioactive_conformation_predictor/gold_docking_postprocessing/599/api_gold.conf\"\n",
      "\n",
      "Setting up GOLD environment...\n",
      "GOLD Version 2021.2.0\n",
      "Running:\n",
      " \n",
      "     \"/home/benoit/CCDC/Discovery_2021/GOLD/gold/d_linux_64/bin/gold_linux_64\" \"/home/benoit/bioactive_conformation_predictor/gold_docking_postprocessing/714/api_gold.conf\"\n",
      "\n",
      "0\n",
      "Starting GOLD with conf file /home/benoit/bioactive_conformation_predictor/gold_docking_postprocessing/645/api_gold.conf\n",
      "Setting up GOLD environment...\n",
      "GOLD Version 2021.2.0\n",
      "Running:\n",
      " \n",
      "     \"/home/benoit/CCDC/Discovery_2021/GOLD/gold/d_linux_64/bin/gold_linux_64\" \"/home/benoit/bioactive_conformation_predictor/gold_docking_postprocessing/645/api_gold.conf\"\n",
      "\n",
      "Starting GOLD with conf file /home/benoit/bioactive_conformation_predictor/gold_docking_postprocessing/621/api_gold.conf\n",
      "Setting up GOLD environment...\n",
      "GOLD Version 2021.2.0\n",
      "Running:\n",
      " \n",
      "     \"/home/benoit/CCDC/Discovery_2021/GOLD/gold/d_linux_64/bin/gold_linux_64\" \"/home/benoit/bioactive_conformation_predictor/gold_docking_postprocessing/621/api_gold.conf\"\n",
      "\n",
      "Starting GOLD with conf file /home/benoit/bioactive_conformation_predictor/gold_docking_postprocessing/840/api_gold.conf\n",
      "Setting up GOLD environment...\n",
      "GOLD Version 2021.2.0\n",
      "Running:\n",
      " \n",
      "     \"/home/benoit/CCDC/Discovery_2021/GOLD/gold/d_linux_64/bin/gold_linux_64\" \"/home/benoit/bioactive_conformation_predictor/gold_docking_postprocessing/840/api_gold.conf\"\n",
      "\n"
     ]
    },
    {
     "name": "stderr",
     "output_type": "stream",
     "text": [
      "RDKit WARNING: [17:16:26] unknown|823|mol2|1|dock59: warning - O.co2 with non C.2 or S.o2 neighbor.\n",
      "RDKit WARNING: [17:16:27] unknown|823|mol2|1|dock92: warning - O.co2 with non C.2 or S.o2 neighbor.\n",
      "[17:16:26] unknown|823|mol2|1|dock59: warning - O.co2 with non C.2 or S.o2 neighbor.\n",
      "[17:16:27] unknown|823|mol2|1|dock92: warning - O.co2 with non C.2 or S.o2 neighbor.\n",
      "RDKit WARNING: [17:16:27] unknown|823|mol2|1|dock39: warning - O.co2 with non C.2 or S.o2 neighbor.\n",
      "RDKit WARNING: [17:16:27] unknown|823|mol2|1|dock99: warning - O.co2 with non C.2 or S.o2 neighbor.\n",
      "[17:16:27] unknown|823|mol2|1|dock39: warning - O.co2 with non C.2 or S.o2 neighbor.\n",
      "[17:16:27] unknown|823|mol2|1|dock99: warning - O.co2 with non C.2 or S.o2 neighbor.\n",
      "RDKit WARNING: [17:16:28] unknown|823|mol2|1|dock36: warning - O.co2 with non C.2 or S.o2 neighbor.\n",
      "RDKit WARNING: [17:16:28] unknown|823|mol2|1|dock36: warning - O.co2 with non C.2 or S.o2 neighbor.\n",
      "[17:16:28] unknown|823|mol2|1|dock36: warning - O.co2 with non C.2 or S.o2 neighbor.\n",
      "[17:16:28] unknown|823|mol2|1|dock36: warning - O.co2 with non C.2 or S.o2 neighbor.\n"
     ]
    },
    {
     "name": "stdout",
     "output_type": "stream",
     "text": [
      "Starting GOLD with conf file /home/benoit/bioactive_conformation_predictor/gold_docking_postprocessing/824/api_gold.conf\n",
      "Setting up GOLD environment...\n",
      "GOLD Version 2021.2.0\n",
      "Running:\n",
      " \n",
      "     \"/home/benoit/CCDC/Discovery_2021/GOLD/gold/d_linux_64/bin/gold_linux_64\" \"/home/benoit/bioactive_conformation_predictor/gold_docking_postprocessing/824/api_gold.conf\"\n",
      "\n",
      "0\n",
      "0\n",
      "0\n",
      "0\n",
      "0\n",
      "Starting GOLD with conf file /home/benoit/bioactive_conformation_predictor/gold_docking_postprocessing/667/api_gold.conf\n",
      "Setting up GOLD environment...\n",
      "GOLD Version 2021.2.0\n",
      "Running:\n",
      " \n",
      "     \"/home/benoit/CCDC/Discovery_2021/GOLD/gold/d_linux_64/bin/gold_linux_64\" \"/home/benoit/bioactive_conformation_predictor/gold_docking_postprocessing/667/api_gold.conf\"\n",
      "\n",
      "Starting GOLD with conf file /home/benoit/bioactive_conformation_predictor/gold_docking_postprocessing/715/api_gold.conf\n",
      "Starting GOLD with conf file /home/benoit/bioactive_conformation_predictor/gold_docking_postprocessing/777/api_gold.conf\n",
      "Setting up GOLD environment...\n",
      "GOLD Version 2021.2.0\n",
      "Running:\n",
      " \n",
      "     \"/home/benoit/CCDC/Discovery_2021/GOLD/gold/d_linux_64/bin/gold_linux_64\" \"/home/benoit/bioactive_conformation_predictor/gold_docking_postprocessing/715/api_gold.conf\"\n",
      "\n",
      "Setting up GOLD environment...\n",
      "GOLD Version 2021.2.0\n",
      "Running:\n",
      " \n",
      "     \"/home/benoit/CCDC/Discovery_2021/GOLD/gold/d_linux_64/bin/gold_linux_64\" \"/home/benoit/bioactive_conformation_predictor/gold_docking_postprocessing/777/api_gold.conf\"\n",
      "\n",
      "Starting GOLD with conf file /home/benoit/bioactive_conformation_predictor/gold_docking_postprocessing/754/api_gold.conf\n",
      "Starting GOLD with conf file /home/benoit/bioactive_conformation_predictor/gold_docking_postprocessing/739/api_gold.conf\n",
      "0\n",
      "Setting up GOLD environment...\n",
      "GOLD Version 2021.2.0\n",
      "Running:\n",
      " \n",
      "     \"/home/benoit/CCDC/Discovery_2021/GOLD/gold/d_linux_64/bin/gold_linux_64\" \"/home/benoit/bioactive_conformation_predictor/gold_docking_postprocessing/754/api_gold.conf\"\n",
      "\n",
      "Setting up GOLD environment...\n",
      "GOLD Version 2021.2.0\n",
      "Running:\n",
      " \n",
      "     \"/home/benoit/CCDC/Discovery_2021/GOLD/gold/d_linux_64/bin/gold_linux_64\" \"/home/benoit/bioactive_conformation_predictor/gold_docking_postprocessing/739/api_gold.conf\"\n",
      "\n",
      "0\n",
      "Starting GOLD with conf file /home/benoit/bioactive_conformation_predictor/gold_docking_postprocessing/864/api_gold.conf\n",
      "0\n",
      "Setting up GOLD environment...\n",
      "GOLD Version 2021.2.0\n",
      "Running:\n",
      " \n",
      "     \"/home/benoit/CCDC/Discovery_2021/GOLD/gold/d_linux_64/bin/gold_linux_64\" \"/home/benoit/bioactive_conformation_predictor/gold_docking_postprocessing/864/api_gold.conf\"\n",
      "\n",
      "0\n",
      "0\n",
      "Starting GOLD with conf file /home/benoit/bioactive_conformation_predictor/gold_docking_postprocessing/622/api_gold.conf\n",
      "Setting up GOLD environment...\n",
      "GOLD Version 2021.2.0\n",
      "Running:\n",
      " \n",
      "     \"/home/benoit/CCDC/Discovery_2021/GOLD/gold/d_linux_64/bin/gold_linux_64\" \"/home/benoit/bioactive_conformation_predictor/gold_docking_postprocessing/622/api_gold.conf\"\n",
      "\n",
      "0\n",
      "Starting GOLD with conf file /home/benoit/bioactive_conformation_predictor/gold_docking_postprocessing/841/api_gold.conf\n",
      "0\n",
      "Setting up GOLD environment...\n",
      "GOLD Version 2021.2.0\n",
      "Running:\n",
      " \n",
      "     \"/home/benoit/CCDC/Discovery_2021/GOLD/gold/d_linux_64/bin/gold_linux_64\" \"/home/benoit/bioactive_conformation_predictor/gold_docking_postprocessing/841/api_gold.conf\"\n",
      "\n",
      "0\n",
      "Starting GOLD with conf file /home/benoit/bioactive_conformation_predictor/gold_docking_postprocessing/778/api_gold.conf\n",
      "Setting up GOLD environment...\n",
      "GOLD Version 2021.2.0\n",
      "Running:\n",
      " \n",
      "     \"/home/benoit/CCDC/Discovery_2021/GOLD/gold/d_linux_64/bin/gold_linux_64\" \"/home/benoit/bioactive_conformation_predictor/gold_docking_postprocessing/778/api_gold.conf\"\n",
      "\n",
      "Starting GOLD with conf file /home/benoit/bioactive_conformation_predictor/gold_docking_postprocessing/888/api_gold.conf\n",
      "Setting up GOLD environment...\n",
      "GOLD Version 2021.2.0\n",
      "Running:\n",
      " \n",
      "     \"/home/benoit/CCDC/Discovery_2021/GOLD/gold/d_linux_64/bin/gold_linux_64\" \"/home/benoit/bioactive_conformation_predictor/gold_docking_postprocessing/888/api_gold.conf\"\n",
      "\n",
      "Starting GOLD with conf file /home/benoit/bioactive_conformation_predictor/gold_docking_postprocessing/646/api_gold.conf\n",
      "Starting GOLD with conf file /home/benoit/bioactive_conformation_predictor/gold_docking_postprocessing/807/api_gold.conf\n",
      "Setting up GOLD environment...\n",
      "GOLD Version 2021.2.0\n",
      "Running:\n",
      " \n",
      "     \"/home/benoit/CCDC/Discovery_2021/GOLD/gold/d_linux_64/bin/gold_linux_64\" \"/home/benoit/bioactive_conformation_predictor/gold_docking_postprocessing/646/api_gold.conf\"\n",
      "\n",
      "Setting up GOLD environment...\n",
      "GOLD Version 2021.2.0\n",
      "Running:\n",
      " \n",
      "     \"/home/benoit/CCDC/Discovery_2021/GOLD/gold/d_linux_64/bin/gold_linux_64\" \"/home/benoit/bioactive_conformation_predictor/gold_docking_postprocessing/807/api_gold.conf\"\n",
      "\n",
      "Starting GOLD with conf file /home/benoit/bioactive_conformation_predictor/gold_docking_postprocessing/825/api_gold.conf\n",
      "Setting up GOLD environment...\n",
      "GOLD Version 2021.2.0\n",
      "Running:\n",
      " \n",
      "     \"/home/benoit/CCDC/Discovery_2021/GOLD/gold/d_linux_64/bin/gold_linux_64\" \"/home/benoit/bioactive_conformation_predictor/gold_docking_postprocessing/825/api_gold.conf\"\n",
      "\n",
      "0\n",
      "0\n",
      "0\n"
     ]
    },
    {
     "name": "stderr",
     "output_type": "stream",
     "text": [
      "RDKit WARNING: [17:17:14] unknown|715|mol2|1|dock92: warning - O.co2 with non C.2 or S.o2 neighbor.\n",
      "RDKit WARNING: [17:17:14] unknown|715|mol2|1|dock66: warning - O.co2 with non C.2 or S.o2 neighbor.\n",
      "[17:17:14] unknown|715|mol2|1|dock92: warning - O.co2 with non C.2 or S.o2 neighbor.\n",
      "[17:17:14] unknown|715|mol2|1|dock66: warning - O.co2 with non C.2 or S.o2 neighbor.\n",
      "RDKit WARNING: [17:17:15] unknown|715|mol2|1|dock43: warning - O.co2 with non C.2 or S.o2 neighbor.\n",
      "RDKit WARNING: [17:17:15] unknown|715|mol2|1|dock66: warning - O.co2 with non C.2 or S.o2 neighbor.\n"
     ]
    },
    {
     "name": "stdout",
     "output_type": "stream",
     "text": [
      "0\n"
     ]
    },
    {
     "name": "stderr",
     "output_type": "stream",
     "text": [
      "[17:17:15] unknown|715|mol2|1|dock43: warning - O.co2 with non C.2 or S.o2 neighbor.\n",
      "[17:17:15] unknown|715|mol2|1|dock66: warning - O.co2 with non C.2 or S.o2 neighbor.\n",
      "RDKit WARNING: [17:17:16] unknown|715|mol2|1|dock59: warning - O.co2 with non C.2 or S.o2 neighbor.\n",
      "RDKit WARNING: [17:17:16] unknown|715|mol2|1|dock94: warning - O.co2 with non C.2 or S.o2 neighbor.\n",
      "[17:17:16] unknown|715|mol2|1|dock59: warning - O.co2 with non C.2 or S.o2 neighbor.\n",
      "[17:17:16] unknown|715|mol2|1|dock94: warning - O.co2 with non C.2 or S.o2 neighbor.\n"
     ]
    },
    {
     "name": "stdout",
     "output_type": "stream",
     "text": [
      "Starting GOLD with conf file /home/benoit/bioactive_conformation_predictor/gold_docking_postprocessing/716/api_gold.conf\n",
      "0\n",
      "Setting up GOLD environment...\n",
      "GOLD Version 2021.2.0\n",
      "Running:\n",
      " \n",
      "     \"/home/benoit/CCDC/Discovery_2021/GOLD/gold/d_linux_64/bin/gold_linux_64\" \"/home/benoit/bioactive_conformation_predictor/gold_docking_postprocessing/716/api_gold.conf\"\n",
      "\n",
      "0\n",
      "0\n",
      "Starting GOLD with conf file /home/benoit/bioactive_conformation_predictor/gold_docking_postprocessing/865/api_gold.conf\n",
      "Setting up GOLD environment...\n",
      "GOLD Version 2021.2.0\n",
      "Running:\n",
      " \n",
      "     \"/home/benoit/CCDC/Discovery_2021/GOLD/gold/d_linux_64/bin/gold_linux_64\" \"/home/benoit/bioactive_conformation_predictor/gold_docking_postprocessing/865/api_gold.conf\"\n",
      "\n",
      "Starting GOLD with conf file /home/benoit/bioactive_conformation_predictor/gold_docking_postprocessing/668/api_gold.conf\n",
      "Setting up GOLD environment...\n",
      "GOLD Version 2021.2.0\n",
      "Running:\n",
      " \n",
      "     \"/home/benoit/CCDC/Discovery_2021/GOLD/gold/d_linux_64/bin/gold_linux_64\" \"/home/benoit/bioactive_conformation_predictor/gold_docking_postprocessing/668/api_gold.conf\"\n",
      "\n",
      "Starting GOLD with conf file /home/benoit/bioactive_conformation_predictor/gold_docking_postprocessing/779/api_gold.conf\n",
      "Setting up GOLD environment...\n",
      "GOLD Version 2021.2.0\n",
      "Running:\n",
      " \n",
      "     \"/home/benoit/CCDC/Discovery_2021/GOLD/gold/d_linux_64/bin/gold_linux_64\" \"/home/benoit/bioactive_conformation_predictor/gold_docking_postprocessing/779/api_gold.conf\"\n",
      "\n",
      "Starting GOLD with conf file /home/benoit/bioactive_conformation_predictor/gold_docking_postprocessing/755/api_gold.conf\n",
      "Setting up GOLD environment...\n",
      "GOLD Version 2021.2.0\n",
      "Running:\n",
      " \n",
      "     \"/home/benoit/CCDC/Discovery_2021/GOLD/gold/d_linux_64/bin/gold_linux_64\" \"/home/benoit/bioactive_conformation_predictor/gold_docking_postprocessing/755/api_gold.conf\"\n",
      "\n",
      "Starting GOLD with conf file /home/benoit/bioactive_conformation_predictor/gold_docking_postprocessing/740/api_gold.conf\n",
      "Starting GOLD with conf file /home/benoit/bioactive_conformation_predictor/gold_docking_postprocessing/623/api_gold.conf\n",
      "Setting up GOLD environment...\n",
      "GOLD Version 2021.2.0\n",
      "Running:\n",
      " \n",
      "     \"/home/benoit/CCDC/Discovery_2021/GOLD/gold/d_linux_64/bin/gold_linux_64\" \"/home/benoit/bioactive_conformation_predictor/gold_docking_postprocessing/740/api_gold.conf\"\n",
      "\n",
      "0\n",
      "Setting up GOLD environment...\n",
      "GOLD Version 2021.2.0\n",
      "Running:\n",
      " \n",
      "     \"/home/benoit/CCDC/Discovery_2021/GOLD/gold/d_linux_64/bin/gold_linux_64\" \"/home/benoit/bioactive_conformation_predictor/gold_docking_postprocessing/623/api_gold.conf\"\n",
      "\n",
      "0\n",
      "0\n",
      "Starting GOLD with conf file /home/benoit/bioactive_conformation_predictor/gold_docking_postprocessing/647/api_gold.conf\n",
      "Starting GOLD with conf file /home/benoit/bioactive_conformation_predictor/gold_docking_postprocessing/808/api_gold.conf\n",
      "Setting up GOLD environment...\n",
      "GOLD Version 2021.2.0\n",
      "Running:\n",
      " \n",
      "     \"/home/benoit/CCDC/Discovery_2021/GOLD/gold/d_linux_64/bin/gold_linux_64\" \"/home/benoit/bioactive_conformation_predictor/gold_docking_postprocessing/647/api_gold.conf\"\n",
      "\n",
      "Setting up GOLD environment...\n",
      "GOLD Version 2021.2.0\n",
      "Running:\n",
      " \n",
      "     \"/home/benoit/CCDC/Discovery_2021/GOLD/gold/d_linux_64/bin/gold_linux_64\" \"/home/benoit/bioactive_conformation_predictor/gold_docking_postprocessing/808/api_gold.conf\"\n",
      "\n",
      "Starting GOLD with conf file /home/benoit/bioactive_conformation_predictor/gold_docking_postprocessing/826/api_gold.conf\n",
      "Setting up GOLD environment...\n",
      "GOLD Version 2021.2.0\n",
      "Running:\n",
      " \n",
      "     \"/home/benoit/CCDC/Discovery_2021/GOLD/gold/d_linux_64/bin/gold_linux_64\" \"/home/benoit/bioactive_conformation_predictor/gold_docking_postprocessing/826/api_gold.conf\"\n",
      "\n",
      "0\n",
      "0\n",
      "0\n"
     ]
    },
    {
     "name": "stderr",
     "output_type": "stream",
     "text": [
      "RDKit WARNING: [17:17:47] unknown|716|mol2|1|dock75: warning - O.co2 with non C.2 or S.o2 neighbor.\n",
      "RDKit WARNING: [17:17:47] unknown|716|mol2|1|dock50: warning - O.co2 with non C.2 or S.o2 neighbor.\n",
      "[17:17:47] unknown|716|mol2|1|dock75: warning - O.co2 with non C.2 or S.o2 neighbor.\n",
      "[17:17:47] unknown|716|mol2|1|dock50: warning - O.co2 with non C.2 or S.o2 neighbor.\n",
      "RDKit WARNING: [17:17:48] unknown|716|mol2|1|dock8: warning - O.co2 with non C.2 or S.o2 neighbor.\n",
      "RDKit WARNING: [17:17:48] unknown|716|mol2|1|dock81: warning - O.co2 with non C.2 or S.o2 neighbor.\n",
      "[17:17:48] unknown|716|mol2|1|dock8: warning - O.co2 with non C.2 or S.o2 neighbor.\n",
      "[17:17:48] unknown|716|mol2|1|dock81: warning - O.co2 with non C.2 or S.o2 neighbor.\n",
      "RDKit WARNING: [17:17:48] unknown|716|mol2|1|dock17: warning - O.co2 with non C.2 or S.o2 neighbor.\n",
      "RDKit WARNING: [17:17:48] unknown|716|mol2|1|dock50: warning - O.co2 with non C.2 or S.o2 neighbor.\n",
      "[17:17:48] unknown|716|mol2|1|dock17: warning - O.co2 with non C.2 or S.o2 neighbor.\n",
      "[17:17:48] unknown|716|mol2|1|dock50: warning - O.co2 with non C.2 or S.o2 neighbor.\n"
     ]
    },
    {
     "name": "stdout",
     "output_type": "stream",
     "text": [
      "Starting GOLD with conf file /home/benoit/bioactive_conformation_predictor/gold_docking_postprocessing/669/api_gold.conf\n",
      "Starting GOLD with conf file /home/benoit/bioactive_conformation_predictor/gold_docking_postprocessing/717/api_gold.conf\n",
      "Setting up GOLD environment...\n",
      "GOLD Version 2021.2.0\n",
      "Running:\n",
      " \n",
      "     \"/home/benoit/CCDC/Discovery_2021/GOLD/gold/d_linux_64/bin/gold_linux_64\" \"/home/benoit/bioactive_conformation_predictor/gold_docking_postprocessing/669/api_gold.conf\"\n",
      "\n",
      "Setting up GOLD environment...\n",
      "GOLD Version 2021.2.0\n",
      "Running:\n",
      " \n",
      "     \"/home/benoit/CCDC/Discovery_2021/GOLD/gold/d_linux_64/bin/gold_linux_64\" \"/home/benoit/bioactive_conformation_predictor/gold_docking_postprocessing/717/api_gold.conf\"\n",
      "\n",
      "Starting GOLD with conf file /home/benoit/bioactive_conformation_predictor/gold_docking_postprocessing/741/api_gold.conf\n",
      "Setting up GOLD environment...\n",
      "GOLD Version 2021.2.0\n",
      "Running:\n",
      " \n",
      "     \"/home/benoit/CCDC/Discovery_2021/GOLD/gold/d_linux_64/bin/gold_linux_64\" \"/home/benoit/bioactive_conformation_predictor/gold_docking_postprocessing/741/api_gold.conf\"\n",
      "\n",
      "0\n",
      "0\n",
      "0\n",
      "0\n",
      "0\n",
      "0\n",
      "0\n",
      "0\n",
      "Starting GOLD with conf file /home/benoit/bioactive_conformation_predictor/gold_docking_postprocessing/912/api_gold.conf\n",
      "Starting GOLD with conf file /home/benoit/bioactive_conformation_predictor/gold_docking_postprocessing/756/api_gold.conf\n",
      "Setting up GOLD environment...\n",
      "Setting up GOLD environment...\n",
      "GOLD Version 2021.2.0GOLD Version 2021.2.0\n",
      "\n",
      "Running:\n",
      " \n",
      "     \"/home/benoit/CCDC/Discovery_2021/GOLD/gold/d_linux_64/bin/gold_linux_64\" \"/home/benoit/bioactive_conformation_predictor/gold_docking_postprocessing/756/api_gold.conf\"\n",
      "\n",
      "Running:\n",
      " \n",
      "     \"/home/benoit/CCDC/Discovery_2021/GOLD/gold/d_linux_64/bin/gold_linux_64\" \"/home/benoit/bioactive_conformation_predictor/gold_docking_postprocessing/912/api_gold.conf\"\n",
      "\n",
      "Starting GOLD with conf file /home/benoit/bioactive_conformation_predictor/gold_docking_postprocessing/827/api_gold.conf\n",
      "Starting GOLD with conf file /home/benoit/bioactive_conformation_predictor/gold_docking_postprocessing/936/api_gold.conf\n",
      "Starting GOLD with conf file /home/benoit/bioactive_conformation_predictor/gold_docking_postprocessing/742/api_gold.conf\n",
      "Setting up GOLD environment...\n",
      "GOLD Version 2021.2.0\n",
      "Running:\n",
      " \n",
      "     \"/home/benoit/CCDC/Discovery_2021/GOLD/gold/d_linux_64/bin/gold_linux_64\" \"/home/benoit/bioactive_conformation_predictor/gold_docking_postprocessing/827/api_gold.conf\"\n",
      "\n",
      "Setting up GOLD environment...\n",
      "GOLD Version 2021.2.0\n",
      "Setting up GOLD environment...\n",
      "Running:\n",
      " \n",
      "     \"/home/benoit/CCDC/Discovery_2021/GOLD/gold/d_linux_64/bin/gold_linux_64\" \"/home/benoit/bioactive_conformation_predictor/gold_docking_postprocessing/936/api_gold.conf\"\n",
      "\n",
      "GOLD Version 2021.2.0\n",
      "Running:\n",
      " \n",
      "     \"/home/benoit/CCDC/Discovery_2021/GOLD/gold/d_linux_64/bin/gold_linux_64\" \"/home/benoit/bioactive_conformation_predictor/gold_docking_postprocessing/742/api_gold.conf\"\n",
      "\n",
      "Starting GOLD with conf file /home/benoit/bioactive_conformation_predictor/gold_docking_postprocessing/809/api_gold.conf\n",
      "Setting up GOLD environment...\n",
      "GOLD Version 2021.2.0\n",
      "Running:\n",
      " \n",
      "     \"/home/benoit/CCDC/Discovery_2021/GOLD/gold/d_linux_64/bin/gold_linux_64\" \"/home/benoit/bioactive_conformation_predictor/gold_docking_postprocessing/809/api_gold.conf\"\n",
      "\n"
     ]
    },
    {
     "name": "stderr",
     "output_type": "stream",
     "text": [
      "RDKit WARNING: [17:18:05] unknown|779|mol2|1|dock8: warning - O.co2 with non C.2 or S.o2 neighbor.\n",
      "RDKit WARNING: [17:18:05] unknown|779|mol2|1|dock36: warning - O.co2 with non C.2 or S.o2 neighbor.\n",
      "[17:18:05] unknown|779|mol2|1|dock8: warning - O.co2 with non C.2 or S.o2 neighbor.\n",
      "[17:18:05] unknown|779|mol2|1|dock36: warning - O.co2 with non C.2 or S.o2 neighbor.\n",
      "RDKit WARNING: [17:18:05] unknown|779|mol2|1|dock8: warning - O.co2 with non C.2 or S.o2 neighbor.\n",
      "RDKit WARNING: [17:18:05] unknown|779|mol2|1|dock19: warning - O.co2 with non C.2 or S.o2 neighbor.\n",
      "[17:18:05] unknown|779|mol2|1|dock8: warning - O.co2 with non C.2 or S.o2 neighbor.\n",
      "[17:18:05] unknown|779|mol2|1|dock19: warning - O.co2 with non C.2 or S.o2 neighbor.\n"
     ]
    },
    {
     "name": "stdout",
     "output_type": "stream",
     "text": [
      "0\n",
      "Error with smiles NC(=[NH2+])N1CCC[C@H](C[C@@H](CO)NC(=O)CN2CCC[C@H](NS(=O)(=O)Cc3ccccc3)C2=O)C1\n",
      "Error: could not find any GOLD solution files using conf file /home/benoit/bioactive_conformation_predictor/gold_docking_postprocessing/756/api_gold.conf\n",
      "Starting GOLD with conf file /home/benoit/bioactive_conformation_predictor/gold_docking_postprocessing/757/api_gold.conf\n",
      "Setting up GOLD environment...\n",
      "GOLD Version 2021.2.0\n",
      "Running:\n",
      " \n",
      "     \"/home/benoit/CCDC/Discovery_2021/GOLD/gold/d_linux_64/bin/gold_linux_64\" \"/home/benoit/bioactive_conformation_predictor/gold_docking_postprocessing/757/api_gold.conf\"\n",
      "\n"
     ]
    },
    {
     "name": "stderr",
     "output_type": "stream",
     "text": [
      "RDKit WARNING: [17:18:06] unknown|779|mol2|1|dock8: warning - O.co2 with non C.2 or S.o2 neighbor.\n",
      "RDKit WARNING: [17:18:06] unknown|779|mol2|1|dock66: warning - O.co2 with non C.2 or S.o2 neighbor.\n",
      "[17:18:06] unknown|779|mol2|1|dock8: warning - O.co2 with non C.2 or S.o2 neighbor.\n",
      "[17:18:06] unknown|779|mol2|1|dock66: warning - O.co2 with non C.2 or S.o2 neighbor.\n"
     ]
    },
    {
     "name": "stdout",
     "output_type": "stream",
     "text": [
      "Starting GOLD with conf file /home/benoit/bioactive_conformation_predictor/gold_docking_postprocessing/780/api_gold.conf\n",
      "Setting up GOLD environment...\n",
      "GOLD Version 2021.2.0\n",
      "Running:\n",
      " \n",
      "     \"/home/benoit/CCDC/Discovery_2021/GOLD/gold/d_linux_64/bin/gold_linux_64\" \"/home/benoit/bioactive_conformation_predictor/gold_docking_postprocessing/780/api_gold.conf\"\n",
      "\n",
      "Starting GOLD with conf file /home/benoit/bioactive_conformation_predictor/gold_docking_postprocessing/842/api_gold.conf\n",
      "Setting up GOLD environment...\n",
      "GOLD Version 2021.2.0\n",
      "Running:\n",
      " \n",
      "     \"/home/benoit/CCDC/Discovery_2021/GOLD/gold/d_linux_64/bin/gold_linux_64\" \"/home/benoit/bioactive_conformation_predictor/gold_docking_postprocessing/842/api_gold.conf\"\n",
      "\n",
      "0\n",
      "0\n",
      "0\n",
      "0\n"
     ]
    },
    {
     "name": "stderr",
     "output_type": "stream",
     "text": [
      "RDKit WARNING: [17:18:19] unknown|888|mol2|1|dock92: warning - O.co2 with non C.2 or S.o2 neighbor.\n"
     ]
    },
    {
     "name": "stdout",
     "output_type": "stream",
     "text": [
      "Starting GOLD with conf file /home/benoit/bioactive_conformation_predictor/gold_docking_postprocessing/866/api_gold.conf\n"
     ]
    },
    {
     "name": "stderr",
     "output_type": "stream",
     "text": [
      "RDKit WARNING: [17:18:19] unknown|888|mol2|1|dock20: warning - O.co2 with non C.2 or S.o2 neighbor.\n",
      "[17:18:19] unknown|888|mol2|1|dock92: warning - O.co2 with non C.2 or S.o2 neighbor.\n",
      "[17:18:19] unknown|888|mol2|1|dock20: warning - O.co2 with non C.2 or S.o2 neighbor.\n"
     ]
    },
    {
     "name": "stdout",
     "output_type": "stream",
     "text": [
      "Starting GOLD with conf file /home/benoit/bioactive_conformation_predictor/gold_docking_postprocessing/670/api_gold.conf\n",
      "0\n",
      "Setting up GOLD environment...\n",
      "GOLD Version 2021.2.0\n",
      "Running:\n",
      " \n",
      "     \"/home/benoit/CCDC/Discovery_2021/GOLD/gold/d_linux_64/bin/gold_linux_64\" \"/home/benoit/bioactive_conformation_predictor/gold_docking_postprocessing/866/api_gold.conf\"\n",
      "\n",
      "Setting up GOLD environment...\n",
      "GOLD Version 2021.2.0\n",
      "Running:\n",
      " \n",
      "     \"/home/benoit/CCDC/Discovery_2021/GOLD/gold/d_linux_64/bin/gold_linux_64\" \"/home/benoit/bioactive_conformation_predictor/gold_docking_postprocessing/670/api_gold.conf\"\n",
      "\n"
     ]
    },
    {
     "name": "stderr",
     "output_type": "stream",
     "text": [
      "RDKit WARNING: [17:18:20] unknown|888|mol2|1|dock80: warning - O.co2 with non C.2 or S.o2 neighbor.\n",
      "RDKit WARNING: [17:18:20] unknown|888|mol2|1|dock20: warning - O.co2 with non C.2 or S.o2 neighbor.\n",
      "[17:18:20] unknown|888|mol2|1|dock80: warning - O.co2 with non C.2 or S.o2 neighbor.\n",
      "[17:18:20] unknown|888|mol2|1|dock20: warning - O.co2 with non C.2 or S.o2 neighbor.\n",
      "RDKit WARNING: [17:18:21] unknown|888|mol2|1|dock22: warning - O.co2 with non C.2 or S.o2 neighbor.\n",
      "RDKit WARNING: [17:18:21] unknown|888|mol2|1|dock44: warning - O.co2 with non C.2 or S.o2 neighbor.\n",
      "[17:18:21] unknown|888|mol2|1|dock22: warning - O.co2 with non C.2 or S.o2 neighbor.\n",
      "[17:18:21] unknown|888|mol2|1|dock44: warning - O.co2 with non C.2 or S.o2 neighbor.\n"
     ]
    },
    {
     "name": "stdout",
     "output_type": "stream",
     "text": [
      "0\n",
      "Starting GOLD with conf file /home/benoit/bioactive_conformation_predictor/gold_docking_postprocessing/889/api_gold.conf\n",
      "Setting up GOLD environment...\n",
      "GOLD Version 2021.2.0\n",
      "Running:\n",
      " \n",
      "     \"/home/benoit/CCDC/Discovery_2021/GOLD/gold/d_linux_64/bin/gold_linux_64\" \"/home/benoit/bioactive_conformation_predictor/gold_docking_postprocessing/889/api_gold.conf\"\n",
      "\n",
      "0\n",
      "0\n"
     ]
    },
    {
     "name": "stderr",
     "output_type": "stream",
     "text": [
      "RDKit WARNING: [17:18:27] unknown|827|mol2|1|dock47: warning - O.co2 with non C.2 or S.o2 neighbor.\n",
      "RDKit WARNING: [17:18:27] unknown|827|mol2|1|dock80: warning - O.co2 with non C.2 or S.o2 neighbor.\n",
      "[17:18:27] unknown|827|mol2|1|dock47: warning - O.co2 with non C.2 or S.o2 neighbor.\n",
      "[17:18:27] unknown|827|mol2|1|dock80: warning - O.co2 with non C.2 or S.o2 neighbor.\n"
     ]
    },
    {
     "name": "stdout",
     "output_type": "stream",
     "text": [
      "Starting GOLD with conf file /home/benoit/bioactive_conformation_predictor/gold_docking_postprocessing/843/api_gold.conf\n",
      "Setting up GOLD environment...\n",
      "GOLD Version 2021.2.0\n",
      "Running:\n",
      " \n",
      "     \"/home/benoit/CCDC/Discovery_2021/GOLD/gold/d_linux_64/bin/gold_linux_64\" \"/home/benoit/bioactive_conformation_predictor/gold_docking_postprocessing/843/api_gold.conf\"\n",
      "\n"
     ]
    },
    {
     "name": "stderr",
     "output_type": "stream",
     "text": [
      "RDKit WARNING: [17:18:27] unknown|827|mol2|1|dock89: warning - O.co2 with non C.2 or S.o2 neighbor.\n",
      "RDKit WARNING: [17:18:27] unknown|827|mol2|1|dock73: warning - O.co2 with non C.2 or S.o2 neighbor.\n",
      "[17:18:27] unknown|827|mol2|1|dock89: warning - O.co2 with non C.2 or S.o2 neighbor.\n",
      "[17:18:27] unknown|827|mol2|1|dock73: warning - O.co2 with non C.2 or S.o2 neighbor.\n",
      "RDKit WARNING: [17:18:28] unknown|827|mol2|1|dock25: warning - O.co2 with non C.2 or S.o2 neighbor.\n",
      "RDKit WARNING: [17:18:28] unknown|827|mol2|1|dock50: warning - O.co2 with non C.2 or S.o2 neighbor.\n",
      "[17:18:28] unknown|827|mol2|1|dock25: warning - O.co2 with non C.2 or S.o2 neighbor.\n",
      "[17:18:28] unknown|827|mol2|1|dock50: warning - O.co2 with non C.2 or S.o2 neighbor.\n"
     ]
    },
    {
     "name": "stdout",
     "output_type": "stream",
     "text": [
      "Starting GOLD with conf file /home/benoit/bioactive_conformation_predictor/gold_docking_postprocessing/828/api_gold.conf\n",
      "Setting up GOLD environment...\n",
      "GOLD Version 2021.2.0\n",
      "Running:\n",
      " \n",
      "     \"/home/benoit/CCDC/Discovery_2021/GOLD/gold/d_linux_64/bin/gold_linux_64\" \"/home/benoit/bioactive_conformation_predictor/gold_docking_postprocessing/828/api_gold.conf\"\n",
      "\n",
      "Starting GOLD with conf file /home/benoit/bioactive_conformation_predictor/gold_docking_postprocessing/937/api_gold.conf\n",
      "Setting up GOLD environment...\n",
      "GOLD Version 2021.2.0\n",
      "Running:\n",
      " \n",
      "     \"/home/benoit/CCDC/Discovery_2021/GOLD/gold/d_linux_64/bin/gold_linux_64\" \"/home/benoit/bioactive_conformation_predictor/gold_docking_postprocessing/937/api_gold.conf\"\n",
      "\n"
     ]
    },
    {
     "name": "stderr",
     "output_type": "stream",
     "text": [
      "RDKit WARNING: [17:18:32] unknown|742|mol2|1|dock13: warning - O.co2 with non C.2 or S.o2 neighbor.\n",
      "RDKit WARNING: [17:18:32] unknown|742|mol2|1|dock61: warning - O.co2 with non C.2 or S.o2 neighbor.\n",
      "[17:18:32] unknown|742|mol2|1|dock13: warning - O.co2 with non C.2 or S.o2 neighbor.\n",
      "[17:18:32] unknown|742|mol2|1|dock61: warning - O.co2 with non C.2 or S.o2 neighbor.\n",
      "RDKit WARNING: [17:18:33] unknown|742|mol2|1|dock13: warning - O.co2 with non C.2 or S.o2 neighbor.\n",
      "RDKit WARNING: [17:18:33] unknown|742|mol2|1|dock13: warning - O.co2 with non C.2 or S.o2 neighbor.\n",
      "[17:18:33] unknown|742|mol2|1|dock13: warning - O.co2 with non C.2 or S.o2 neighbor.\n",
      "[17:18:33] unknown|742|mol2|1|dock13: warning - O.co2 with non C.2 or S.o2 neighbor.\n"
     ]
    },
    {
     "name": "stdout",
     "output_type": "stream",
     "text": [
      "Starting GOLD with conf file /home/benoit/bioactive_conformation_predictor/gold_docking_postprocessing/781/api_gold.conf\n"
     ]
    },
    {
     "name": "stderr",
     "output_type": "stream",
     "text": [
      "RDKit WARNING: [17:18:33] unknown|742|mol2|1|dock89: warning - O.co2 with non C.2 or S.o2 neighbor.\n",
      "RDKit WARNING: [17:18:33] unknown|742|mol2|1|dock89: warning - O.co2 with non C.2 or S.o2 neighbor.\n",
      "[17:18:33] unknown|742|mol2|1|dock89: warning - O.co2 with non C.2 or S.o2 neighbor.\n",
      "[17:18:33] unknown|742|mol2|1|dock89: warning - O.co2 with non C.2 or S.o2 neighbor.\n"
     ]
    },
    {
     "name": "stdout",
     "output_type": "stream",
     "text": [
      "Setting up GOLD environment...\n",
      "GOLD Version 2021.2.0\n",
      "Running:\n",
      " \n",
      "     \"/home/benoit/CCDC/Discovery_2021/GOLD/gold/d_linux_64/bin/gold_linux_64\" \"/home/benoit/bioactive_conformation_predictor/gold_docking_postprocessing/781/api_gold.conf\"\n",
      "\n",
      "Starting GOLD with conf file /home/benoit/bioactive_conformation_predictor/gold_docking_postprocessing/743/api_gold.conf\n",
      "Setting up GOLD environment...\n",
      "GOLD Version 2021.2.0\n",
      "Running:\n",
      " \n",
      "     \"/home/benoit/CCDC/Discovery_2021/GOLD/gold/d_linux_64/bin/gold_linux_64\" \"/home/benoit/bioactive_conformation_predictor/gold_docking_postprocessing/743/api_gold.conf\"\n",
      "\n",
      "0\n",
      "0\n",
      "0\n",
      "0\n"
     ]
    },
    {
     "name": "stderr",
     "output_type": "stream",
     "text": [
      "RDKit WARNING: [17:18:44] unknown|717|mol2|1|dock47: warning - O.co2 with non C.2 or S.o2 neighbor.\n",
      "RDKit WARNING: [17:18:44] unknown|717|mol2|1|dock10: warning - O.co2 with non C.2 or S.o2 neighbor.\n",
      "[17:18:44] unknown|717|mol2|1|dock47: warning - O.co2 with non C.2 or S.o2 neighbor.\n",
      "[17:18:44] unknown|717|mol2|1|dock10: warning - O.co2 with non C.2 or S.o2 neighbor.\n"
     ]
    },
    {
     "name": "stdout",
     "output_type": "stream",
     "text": [
      "0\n"
     ]
    },
    {
     "name": "stderr",
     "output_type": "stream",
     "text": [
      "RDKit WARNING: [17:18:44] unknown|717|mol2|1|dock2: warning - O.co2 with non C.2 or S.o2 neighbor.\n",
      "RDKit WARNING: [17:18:45] unknown|717|mol2|1|dock61: warning - O.co2 with non C.2 or S.o2 neighbor.\n",
      "[17:18:44] unknown|717|mol2|1|dock2: warning - O.co2 with non C.2 or S.o2 neighbor.\n",
      "[17:18:45] unknown|717|mol2|1|dock61: warning - O.co2 with non C.2 or S.o2 neighbor.\n",
      "RDKit WARNING: [17:18:45] unknown|717|mol2|1|dock37: warning - O.co2 with non C.2 or S.o2 neighbor.\n"
     ]
    },
    {
     "name": "stdout",
     "output_type": "stream",
     "text": [
      "Error with smiles NC(=[NH2+])c1ccc([C@@H]2Cc3ccccc3B([OH2+])O2)cc1\n",
      "'NoneType' object has no attribute 'CalcEnergy'"
     ]
    },
    {
     "name": "stderr",
     "output_type": "stream",
     "text": [
      "RDKit WARNING: [17:18:45] unknown|717|mol2|1|dock37: warning - O.co2 with non C.2 or S.o2 neighbor.\n"
     ]
    },
    {
     "name": "stdout",
     "output_type": "stream",
     "text": [
      "\n"
     ]
    },
    {
     "name": "stderr",
     "output_type": "stream",
     "text": [
      "[17:18:45] unknown|717|mol2|1|dock37: warning - O.co2 with non C.2 or S.o2 neighbor.\n",
      "[17:18:45] unknown|717|mol2|1|dock37: warning - O.co2 with non C.2 or S.o2 neighbor.\n"
     ]
    },
    {
     "name": "stdout",
     "output_type": "stream",
     "text": [
      "Starting GOLD with conf file /home/benoit/bioactive_conformation_predictor/gold_docking_postprocessing/782/api_gold.conf\n",
      "Setting up GOLD environment...\n",
      "GOLD Version 2021.2.0\n",
      "Running:\n",
      " \n",
      "     \"/home/benoit/CCDC/Discovery_2021/GOLD/gold/d_linux_64/bin/gold_linux_64\" \"/home/benoit/bioactive_conformation_predictor/gold_docking_postprocessing/782/api_gold.conf\"\n",
      "\n",
      "Starting GOLD with conf file /home/benoit/bioactive_conformation_predictor/gold_docking_postprocessing/718/api_gold.conf\n",
      "Setting up GOLD environment...\n",
      "GOLD Version 2021.2.0\n",
      "Running:\n",
      " \n",
      "     \"/home/benoit/CCDC/Discovery_2021/GOLD/gold/d_linux_64/bin/gold_linux_64\" \"/home/benoit/bioactive_conformation_predictor/gold_docking_postprocessing/718/api_gold.conf\"\n",
      "\n",
      "Starting GOLD with conf file /home/benoit/bioactive_conformation_predictor/gold_docking_postprocessing/810/api_gold.conf\n",
      "0\n",
      "Setting up GOLD environment...\n",
      "GOLD Version 2021.2.0\n",
      "Running:\n",
      " \n",
      "     \"/home/benoit/CCDC/Discovery_2021/GOLD/gold/d_linux_64/bin/gold_linux_64\" \"/home/benoit/bioactive_conformation_predictor/gold_docking_postprocessing/810/api_gold.conf\"\n",
      "\n",
      "Starting GOLD with conf file /home/benoit/bioactive_conformation_predictor/gold_docking_postprocessing/671/api_gold.conf\n",
      "Setting up GOLD environment...\n",
      "GOLD Version 2021.2.0\n",
      "Running:\n",
      " \n",
      "     \"/home/benoit/CCDC/Discovery_2021/GOLD/gold/d_linux_64/bin/gold_linux_64\" \"/home/benoit/bioactive_conformation_predictor/gold_docking_postprocessing/671/api_gold.conf\"\n",
      "\n",
      "0\n",
      "Starting GOLD with conf file /home/benoit/bioactive_conformation_predictor/gold_docking_postprocessing/758/api_gold.conf\n",
      "Setting up GOLD environment...\n",
      "GOLD Version 2021.2.0\n",
      "Running:\n",
      " \n",
      "     \"/home/benoit/CCDC/Discovery_2021/GOLD/gold/d_linux_64/bin/gold_linux_64\" \"/home/benoit/bioactive_conformation_predictor/gold_docking_postprocessing/758/api_gold.conf\"\n",
      "\n",
      "Starting GOLD with conf file /home/benoit/bioactive_conformation_predictor/gold_docking_postprocessing/960/api_gold.conf\n",
      "Setting up GOLD environment...\n",
      "GOLD Version 2021.2.0\n",
      "Running:\n",
      " \n",
      "     \"/home/benoit/CCDC/Discovery_2021/GOLD/gold/d_linux_64/bin/gold_linux_64\" \"/home/benoit/bioactive_conformation_predictor/gold_docking_postprocessing/960/api_gold.conf\"\n",
      "\n",
      "Starting GOLD with conf file /home/benoit/bioactive_conformation_predictor/gold_docking_postprocessing/938/api_gold.conf\n",
      "Setting up GOLD environment...\n",
      "GOLD Version 2021.2.0\n",
      "Running:\n",
      " \n",
      "     \"/home/benoit/CCDC/Discovery_2021/GOLD/gold/d_linux_64/bin/gold_linux_64\" \"/home/benoit/bioactive_conformation_predictor/gold_docking_postprocessing/938/api_gold.conf\"\n",
      "\n",
      "0\n",
      "0\n",
      "0\n",
      "0\n",
      "Starting GOLD with conf file /home/benoit/bioactive_conformation_predictor/gold_docking_postprocessing/783/api_gold.conf\n"
     ]
    },
    {
     "name": "stderr",
     "output_type": "stream",
     "text": [
      "RDKit WARNING: [17:19:04] unknown|828|mol2|1|dock75: warning - O.co2 with non C.2 or S.o2 neighbor.\n",
      "RDKit WARNING: [17:19:04] unknown|828|mol2|1|dock86: warning - O.co2 with non C.2 or S.o2 neighbor.\n",
      "[17:19:04] unknown|828|mol2|1|dock75: warning - O.co2 with non C.2 or S.o2 neighbor.\n",
      "[17:19:04] unknown|828|mol2|1|dock86: warning - O.co2 with non C.2 or S.o2 neighbor.\n"
     ]
    },
    {
     "name": "stdout",
     "output_type": "stream",
     "text": [
      "Setting up GOLD environment...\n",
      "GOLD Version 2021.2.0\n",
      "Running:\n",
      " \n",
      "     \"/home/benoit/CCDC/Discovery_2021/GOLD/gold/d_linux_64/bin/gold_linux_64\" \"/home/benoit/bioactive_conformation_predictor/gold_docking_postprocessing/783/api_gold.conf\"\n",
      "\n"
     ]
    },
    {
     "name": "stderr",
     "output_type": "stream",
     "text": [
      "RDKit WARNING: [17:19:05] unknown|828|mol2|1|dock86: warning - O.co2 with non C.2 or S.o2 neighbor.\n",
      "RDKit WARNING: [17:19:05] unknown|828|mol2|1|dock86: warning - O.co2 with non C.2 or S.o2 neighbor.\n",
      "[17:19:05] unknown|828|mol2|1|dock86: warning - O.co2 with non C.2 or S.o2 neighbor.\n",
      "[17:19:05] unknown|828|mol2|1|dock86: warning - O.co2 with non C.2 or S.o2 neighbor.\n"
     ]
    },
    {
     "name": "stdout",
     "output_type": "stream",
     "text": [
      "0\n"
     ]
    },
    {
     "name": "stderr",
     "output_type": "stream",
     "text": [
      "RDKit WARNING: [17:19:05] unknown|828|mol2|1|dock61: warning - O.co2 with non C.2 or S.o2 neighbor.\n",
      "RDKit WARNING: [17:19:05] unknown|828|mol2|1|dock41: warning - O.co2 with non C.2 or S.o2 neighbor.\n",
      "[17:19:05] unknown|828|mol2|1|dock61: warning - O.co2 with non C.2 or S.o2 neighbor.\n",
      "[17:19:05] unknown|828|mol2|1|dock41: warning - O.co2 with non C.2 or S.o2 neighbor.\n"
     ]
    },
    {
     "name": "stdout",
     "output_type": "stream",
     "text": [
      "Starting GOLD with conf file /home/benoit/bioactive_conformation_predictor/gold_docking_postprocessing/829/api_gold.conf\n",
      "Starting GOLD with conf file /home/benoit/bioactive_conformation_predictor/gold_docking_postprocessing/759/api_gold.conf\n",
      "Setting up GOLD environment...\n",
      "GOLD Version 2021.2.0\n",
      "Setting up GOLD environment...\n",
      "Running:\n",
      " \n",
      "     \"/home/benoit/CCDC/Discovery_2021/GOLD/gold/d_linux_64/bin/gold_linux_64\" \"/home/benoit/bioactive_conformation_predictor/gold_docking_postprocessing/829/api_gold.conf\"\n",
      "\n",
      "GOLD Version 2021.2.0\n",
      "Running:\n",
      " \n",
      "     \"/home/benoit/CCDC/Discovery_2021/GOLD/gold/d_linux_64/bin/gold_linux_64\" \"/home/benoit/bioactive_conformation_predictor/gold_docking_postprocessing/759/api_gold.conf\"\n",
      "\n"
     ]
    },
    {
     "name": "stderr",
     "output_type": "stream",
     "text": [
      "RDKit ERROR: [17:19:06] UFFTYPER: Unrecognized charge state for atom: 13\n",
      "RDKit ERROR: [17:19:06] UFFTYPER: Unrecognized charge state for atom: 13\n",
      "RDKit ERROR: [17:19:06] UFFTYPER: Unrecognized charge state for atom: 13\n",
      "RDKit ERROR: [17:19:06] UFFTYPER: Unrecognized charge state for atom: 13\n",
      "RDKit ERROR: [17:19:06] UFFTYPER: Unrecognized charge state for atom: 13\n",
      "RDKit ERROR: [17:19:06] UFFTYPER: Unrecognized charge state for atom: 13\n",
      "RDKit ERROR: [17:19:06] UFFTYPER: Unrecognized charge state for atom: 13\n",
      "RDKit ERROR: [17:19:06] UFFTYPER: Unrecognized charge state for atom: 13\n",
      "RDKit ERROR: [17:19:06] UFFTYPER: Unrecognized charge state for atom: 13\n",
      "RDKit ERROR: [17:19:06] UFFTYPER: Unrecognized charge state for atom: 13\n",
      "RDKit ERROR: [17:19:06] UFFTYPER: Unrecognized charge state for atom: 13\n",
      "RDKit ERROR: [17:19:06] UFFTYPER: Unrecognized charge state for atom: 13\n",
      "RDKit ERROR: [17:19:06] UFFTYPER: Unrecognized charge state for atom: 13\n",
      "RDKit ERROR: [17:19:06] UFFTYPER: Unrecognized charge state for atom: 13\n",
      "RDKit ERROR: [17:19:06] UFFTYPER: Unrecognized charge state for atom: 13\n",
      "[17:19:06] UFFTYPER: Unrecognized charge state for atom: 13\n",
      "[17:19:06] UFFTYPER: Unrecognized charge state for atom: 13\n",
      "[17:19:06] UFFTYPER: Unrecognized charge state for atom: 13\n",
      "[17:19:06] UFFTYPER: Unrecognized charge state for atom: 13\n",
      "[17:19:06] UFFTYPER: Unrecognized charge state for atom: 13\n",
      "[17:19:06] UFFTYPER: Unrecognized charge state for atom: 13\n",
      "[17:19:06] UFFTYPER: Unrecognized charge state for atom: 13\n",
      "[17:19:06] UFFTYPER: Unrecognized charge state for atom: 13\n",
      "[17:19:06] UFFTYPER: Unrecognized charge state for atom: 13\n",
      "[17:19:06] UFFTYPER: Unrecognized charge state for atom: 13\n",
      "[17:19:06] UFFTYPER: Unrecognized charge state for atom: 13\n",
      "[17:19:06] UFFTYPER: Unrecognized charge state for atom: 13\n",
      "[17:19:06] UFFTYPER: Unrecognized charge state for atom: 13\n",
      "[17:19:06] UFFTYPER: Unrecognized charge state for atom: 13\n",
      "[17:19:06] UFFTYPER: Unrecognized charge state for atom: 13\n",
      "[17:19:06] UFFTYPER: Unrecognized charge state for atom: 13\n",
      "RDKit ERROR: [17:19:06] UFFTYPER: Unrecognized charge state for atom: 13\n",
      "RDKit ERROR: [17:19:07] UFFTYPER: Unrecognized charge state for atom: 13\n",
      "RDKit ERROR: [17:19:07] UFFTYPER: Unrecognized charge state for atom: 13\n",
      "RDKit ERROR: [17:19:07] UFFTYPER: Unrecognized charge state for atom: 13\n",
      "RDKit ERROR: [17:19:07] UFFTYPER: Unrecognized charge state for atom: 13\n",
      "RDKit ERROR: [17:19:07] UFFTYPER: Unrecognized charge state for atom: 13\n",
      "RDKit ERROR: [17:19:07] UFFTYPER: Unrecognized charge state for atom: 13\n",
      "RDKit ERROR: [17:19:07] UFFTYPER: Unrecognized charge state for atom: 13\n",
      "RDKit ERROR: [17:19:07] UFFTYPER: Unrecognized charge state for atom: 13\n",
      "RDKit ERROR: [17:19:07] UFFTYPER: Unrecognized charge state for atom: 13\n",
      "RDKit ERROR: [17:19:07] UFFTYPER: Unrecognized charge state for atom: 13\n",
      "[17:19:07] UFFTYPER: Unrecognized charge state for atom: 13\n",
      "[17:19:07] UFFTYPER: Unrecognized charge state for atom: 13\n",
      "[17:19:07] UFFTYPER: Unrecognized charge state for atom: 13\n",
      "[17:19:07] UFFTYPER: Unrecognized charge state for atom: 13\n",
      "[17:19:07] UFFTYPER: Unrecognized charge state for atom: 13\n",
      "[17:19:07] UFFTYPER: Unrecognized charge state for atom: 13\n",
      "[17:19:07] UFFTYPER: Unrecognized charge state for atom: 13\n",
      "[17:19:07] UFFTYPER: Unrecognized charge state for atom: 13\n",
      "[17:19:07] UFFTYPER: Unrecognized charge state for atom: 13\n",
      "[17:19:07] UFFTYPER: Unrecognized charge state for atom: 13\n",
      "[17:19:07] UFFTYPER: Unrecognized charge state for atom: 13\n",
      "RDKit ERROR: [17:19:07] UFFTYPER: Unrecognized charge state for atom: 13\n",
      "RDKit ERROR: [17:19:07] UFFTYPER: Unrecognized charge state for atom: 13\n",
      "RDKit ERROR: [17:19:07] UFFTYPER: Unrecognized charge state for atom: 13\n",
      "RDKit ERROR: [17:19:07] UFFTYPER: Unrecognized charge state for atom: 13\n",
      "RDKit ERROR: [17:19:07] UFFTYPER: Unrecognized charge state for atom: 13\n",
      "RDKit ERROR: [17:19:07] UFFTYPER: Unrecognized charge state for atom: 13\n",
      "RDKit ERROR: [17:19:07] UFFTYPER: Unrecognized charge state for atom: 13\n",
      "RDKit ERROR: [17:19:07] UFFTYPER: Unrecognized charge state for atom: 13\n",
      "RDKit ERROR: [17:19:07] UFFTYPER: Unrecognized charge state for atom: 13\n",
      "RDKit ERROR: [17:19:07] UFFTYPER: Unrecognized charge state for atom: 13\n",
      "RDKit ERROR: [17:19:07] UFFTYPER: Unrecognized charge state for atom: 13\n",
      "RDKit ERROR: [17:19:07] UFFTYPER: Unrecognized charge state for atom: 13\n",
      "RDKit ERROR: [17:19:07] UFFTYPER: Unrecognized charge state for atom: 13\n",
      "RDKit ERROR: [17:19:07] UFFTYPER: Unrecognized charge state for atom: 13\n",
      "[17:19:07] UFFTYPER: Unrecognized charge state for atom: 13\n",
      "[17:19:07] UFFTYPER: Unrecognized charge state for atom: 13\n",
      "[17:19:07] UFFTYPER: Unrecognized charge state for atom: 13\n",
      "[17:19:07] UFFTYPER: Unrecognized charge state for atom: 13\n",
      "[17:19:07] UFFTYPER: Unrecognized charge state for atom: 13\n",
      "[17:19:07] UFFTYPER: Unrecognized charge state for atom: 13\n",
      "[17:19:07] UFFTYPER: Unrecognized charge state for atom: 13\n",
      "[17:19:07] UFFTYPER: Unrecognized charge state for atom: 13\n",
      "[17:19:07] UFFTYPER: Unrecognized charge state for atom: 13\n",
      "[17:19:07] UFFTYPER: Unrecognized charge state for atom: 13\n",
      "[17:19:07] UFFTYPER: Unrecognized charge state for atom: 13\n",
      "[17:19:07] UFFTYPER: Unrecognized charge state for atom: 13\n",
      "[17:19:07] UFFTYPER: Unrecognized charge state for atom: 13\n",
      "RDKit ERROR: [17:19:07] UFFTYPER: Unrecognized charge state for atom: 13\n",
      "RDKit ERROR: [17:19:07] UFFTYPER: Unrecognized charge state for atom: 13\n",
      "RDKit ERROR: [17:19:07] UFFTYPER: Unrecognized charge state for atom: 13\n",
      "RDKit ERROR: [17:19:07] UFFTYPER: Unrecognized charge state for atom: 13\n",
      "RDKit ERROR: [17:19:07] UFFTYPER: Unrecognized charge state for atom: 13\n",
      "RDKit ERROR: [17:19:07] UFFTYPER: Unrecognized charge state for atom: 13\n",
      "RDKit ERROR: [17:19:07] UFFTYPER: Unrecognized charge state for atom: 13\n",
      "RDKit ERROR: [17:19:07] UFFTYPER: Unrecognized charge state for atom: 13\n",
      "RDKit ERROR: [17:19:07] UFFTYPER: Unrecognized charge state for atom: 13\n",
      "RDKit ERROR: [17:19:07] UFFTYPER: Unrecognized charge state for atom: 13\n",
      "RDKit ERROR: [17:19:07] UFFTYPER: Unrecognized charge state for atom: 13\n",
      "RDKit ERROR: [17:19:07] UFFTYPER: Unrecognized charge state for atom: 13\n",
      "RDKit ERROR: [17:19:07] UFFTYPER: Unrecognized charge state for atom: 13\n",
      "RDKit ERROR: [17:19:07] UFFTYPER: Unrecognized charge state for atom: 13\n",
      "[17:19:07] UFFTYPER: Unrecognized charge state for atom: 13\n",
      "[17:19:07] UFFTYPER: Unrecognized charge state for atom: 13\n",
      "[17:19:07] UFFTYPER: Unrecognized charge state for atom: 13\n",
      "[17:19:07] UFFTYPER: Unrecognized charge state for atom: 13\n",
      "[17:19:07] UFFTYPER: Unrecognized charge state for atom: 13\n",
      "[17:19:07] UFFTYPER: Unrecognized charge state for atom: 13\n",
      "[17:19:07] UFFTYPER: Unrecognized charge state for atom: 13\n",
      "[17:19:07] UFFTYPER: Unrecognized charge state for atom: 13\n",
      "[17:19:07] UFFTYPER: Unrecognized charge state for atom: 13\n",
      "[17:19:07] UFFTYPER: Unrecognized charge state for atom: 13\n",
      "[17:19:07] UFFTYPER: Unrecognized charge state for atom: 13\n",
      "[17:19:07] UFFTYPER: Unrecognized charge state for atom: 13\n",
      "[17:19:07] UFFTYPER: Unrecognized charge state for atom: 13\n",
      "[17:19:07] UFFTYPER: Unrecognized charge state for atom: 13\n",
      "[17:19:07] UFFTYPER: Unrecognized charge state for atom: 13\n",
      "RDKit ERROR: [17:19:07] UFFTYPER: Unrecognized charge state for atom: 13\n",
      "RDKit ERROR: [17:19:07] UFFTYPER: Unrecognized charge state for atom: 13\n",
      "RDKit ERROR: [17:19:07] UFFTYPER: Unrecognized charge state for atom: 13\n",
      "RDKit ERROR: [17:19:07] UFFTYPER: Unrecognized charge state for atom: 13\n",
      "RDKit ERROR: [17:19:07] UFFTYPER: Unrecognized charge state for atom: 13\n",
      "RDKit ERROR: [17:19:07] UFFTYPER: Unrecognized charge state for atom: 13\n",
      "RDKit ERROR: [17:19:07] UFFTYPER: Unrecognized charge state for atom: 13\n",
      "RDKit ERROR: [17:19:07] UFFTYPER: Unrecognized charge state for atom: 13\n",
      "RDKit ERROR: [17:19:07] UFFTYPER: Unrecognized charge state for atom: 13\n",
      "RDKit ERROR: [17:19:07] UFFTYPER: Unrecognized charge state for atom: 13\n",
      "RDKit ERROR: [17:19:07] UFFTYPER: Unrecognized charge state for atom: 13\n",
      "RDKit ERROR: [17:19:07] UFFTYPER: Unrecognized charge state for atom: 13\n",
      "RDKit ERROR: [17:19:07] UFFTYPER: Unrecognized charge state for atom: 13\n",
      "RDKit ERROR: [17:19:07] UFFTYPER: Unrecognized charge state for atom: 13\n",
      "RDKit ERROR: [17:19:07] UFFTYPER: Unrecognized charge state for atom: 13\n",
      "RDKit ERROR: [17:19:07] UFFTYPER: Unrecognized charge state for atom: 13\n",
      "RDKit ERROR: [17:19:07] UFFTYPER: Unrecognized charge state for atom: 13\n",
      "[17:19:07] UFFTYPER: Unrecognized charge state for atom: 13\n",
      "[17:19:07] UFFTYPER: Unrecognized charge state for atom: 13\n",
      "[17:19:07] UFFTYPER: Unrecognized charge state for atom: 13\n",
      "[17:19:07] UFFTYPER: Unrecognized charge state for atom: 13\n",
      "[17:19:07] UFFTYPER: Unrecognized charge state for atom: 13\n",
      "[17:19:07] UFFTYPER: Unrecognized charge state for atom: 13\n",
      "[17:19:07] UFFTYPER: Unrecognized charge state for atom: 13\n",
      "[17:19:07] UFFTYPER: Unrecognized charge state for atom: 13\n",
      "[17:19:07] UFFTYPER: Unrecognized charge state for atom: 13\n",
      "[17:19:07] UFFTYPER: Unrecognized charge state for atom: 13\n",
      "[17:19:07] UFFTYPER: Unrecognized charge state for atom: 13\n",
      "[17:19:07] UFFTYPER: Unrecognized charge state for atom: 13\n",
      "[17:19:07] UFFTYPER: Unrecognized charge state for atom: 13\n",
      "[17:19:07] UFFTYPER: Unrecognized charge state for atom: 13\n",
      "[17:19:07] UFFTYPER: Unrecognized charge state for atom: 13\n",
      "[17:19:07] UFFTYPER: Unrecognized charge state for atom: 13\n",
      "[17:19:07] UFFTYPER: Unrecognized charge state for atom: 13\n",
      "RDKit ERROR: [17:19:07] UFFTYPER: Unrecognized charge state for atom: 13\n",
      "RDKit ERROR: [17:19:07] UFFTYPER: Unrecognized charge state for atom: 13\n",
      "RDKit ERROR: [17:19:07] UFFTYPER: Unrecognized charge state for atom: 13\n",
      "RDKit ERROR: [17:19:07] UFFTYPER: Unrecognized charge state for atom: 13\n",
      "RDKit ERROR: [17:19:07] UFFTYPER: Unrecognized charge state for atom: 13\n",
      "RDKit ERROR: [17:19:07] UFFTYPER: Unrecognized charge state for atom: 13\n",
      "RDKit ERROR: [17:19:07] UFFTYPER: Unrecognized charge state for atom: 13\n",
      "RDKit ERROR: [17:19:07] UFFTYPER: Unrecognized charge state for atom: 13\n",
      "RDKit ERROR: [17:19:07] UFFTYPER: Unrecognized charge state for atom: 13\n",
      "RDKit ERROR: [17:19:07] UFFTYPER: Unrecognized charge state for atom: 13\n",
      "RDKit ERROR: [17:19:07] UFFTYPER: Unrecognized charge state for atom: 13\n",
      "RDKit ERROR: [17:19:07] UFFTYPER: Unrecognized charge state for atom: 13\n",
      "RDKit ERROR: [17:19:08] UFFTYPER: Unrecognized charge state for atom: 13\n",
      "RDKit ERROR: [17:19:08] UFFTYPER: Unrecognized charge state for atom: 13\n",
      "RDKit ERROR: [17:19:08] UFFTYPER: Unrecognized charge state for atom: 13\n",
      "[17:19:07] UFFTYPER: Unrecognized charge state for atom: 13\n",
      "[17:19:07] UFFTYPER: Unrecognized charge state for atom: 13\n",
      "[17:19:07] UFFTYPER: Unrecognized charge state for atom: 13\n",
      "[17:19:07] UFFTYPER: Unrecognized charge state for atom: 13\n",
      "[17:19:07] UFFTYPER: Unrecognized charge state for atom: 13\n",
      "[17:19:07] UFFTYPER: Unrecognized charge state for atom: 13\n",
      "[17:19:07] UFFTYPER: Unrecognized charge state for atom: 13\n",
      "[17:19:07] UFFTYPER: Unrecognized charge state for atom: 13\n",
      "[17:19:07] UFFTYPER: Unrecognized charge state for atom: 13\n",
      "[17:19:07] UFFTYPER: Unrecognized charge state for atom: 13\n",
      "[17:19:07] UFFTYPER: Unrecognized charge state for atom: 13\n",
      "[17:19:08] UFFTYPER: Unrecognized charge state for atom: 13\n",
      "[17:19:08] UFFTYPER: Unrecognized charge state for atom: 13\n",
      "[17:19:08] UFFTYPER: Unrecognized charge state for atom: 13\n",
      "[17:19:08] UFFTYPER: Unrecognized charge state for atom: 13\n",
      "RDKit ERROR: [17:19:08] UFFTYPER: Unrecognized charge state for atom: 13\n",
      "RDKit ERROR: [17:19:08] UFFTYPER: Unrecognized charge state for atom: 13\n",
      "RDKit ERROR: [17:19:08] UFFTYPER: Unrecognized charge state for atom: 13\n",
      "RDKit ERROR: [17:19:08] UFFTYPER: Unrecognized charge state for atom: 13\n",
      "RDKit ERROR: [17:19:08] UFFTYPER: Unrecognized charge state for atom: 13\n",
      "RDKit ERROR: [17:19:08] UFFTYPER: Unrecognized charge state for atom: 13\n",
      "RDKit ERROR: [17:19:08] UFFTYPER: Unrecognized charge state for atom: 13\n",
      "RDKit ERROR: [17:19:08] UFFTYPER: Unrecognized charge state for atom: 13\n",
      "RDKit ERROR: [17:19:08] UFFTYPER: Unrecognized charge state for atom: 13\n",
      "RDKit ERROR: [17:19:08] UFFTYPER: Unrecognized charge state for atom: 13\n",
      "RDKit ERROR: [17:19:08] UFFTYPER: Unrecognized charge state for atom: 13\n",
      "RDKit ERROR: [17:19:08] UFFTYPER: Unrecognized charge state for atom: 13\n",
      "RDKit ERROR: [17:19:08] UFFTYPER: Unrecognized charge state for atom: 13\n",
      "RDKit ERROR: [17:19:08] UFFTYPER: Unrecognized charge state for atom: 13\n",
      "RDKit ERROR: [17:19:08] UFFTYPER: Unrecognized charge state for atom: 13\n",
      "[17:19:08] UFFTYPER: Unrecognized charge state for atom: 13\n",
      "[17:19:08] UFFTYPER: Unrecognized charge state for atom: 13\n",
      "[17:19:08] UFFTYPER: Unrecognized charge state for atom: 13\n",
      "[17:19:08] UFFTYPER: Unrecognized charge state for atom: 13\n",
      "[17:19:08] UFFTYPER: Unrecognized charge state for atom: 13\n",
      "[17:19:08] UFFTYPER: Unrecognized charge state for atom: 13\n",
      "[17:19:08] UFFTYPER: Unrecognized charge state for atom: 13\n",
      "[17:19:08] UFFTYPER: Unrecognized charge state for atom: 13\n",
      "[17:19:08] UFFTYPER: Unrecognized charge state for atom: 13\n",
      "[17:19:08] UFFTYPER: Unrecognized charge state for atom: 13\n",
      "[17:19:08] UFFTYPER: Unrecognized charge state for atom: 13\n",
      "[17:19:08] UFFTYPER: Unrecognized charge state for atom: 13\n",
      "[17:19:08] UFFTYPER: Unrecognized charge state for atom: 13\n",
      "[17:19:08] UFFTYPER: Unrecognized charge state for atom: 13\n"
     ]
    },
    {
     "name": "stdout",
     "output_type": "stream",
     "text": [
      "Starting GOLD with conf file /home/benoit/bioactive_conformation_predictor/gold_docking_postprocessing/984/api_gold.conf\n",
      "0\n",
      "Setting up GOLD environment...\n",
      "GOLD Version 2021.2.0\n",
      "Running:\n",
      " \n",
      "     \"/home/benoit/CCDC/Discovery_2021/GOLD/gold/d_linux_64/bin/gold_linux_64\" \"/home/benoit/bioactive_conformation_predictor/gold_docking_postprocessing/984/api_gold.conf\"\n",
      "\n",
      "0\n"
     ]
    },
    {
     "name": "stderr",
     "output_type": "stream",
     "text": [
      "RDKit ERROR: [17:19:11] non-ring atom 0 marked aromatic\n",
      "RDKit ERROR: [17:19:11] non-ring atom 0 marked aromatic\n",
      "[17:19:11] non-ring atom 0 marked aromatic\n",
      "[17:19:11] non-ring atom 0 marked aromatic\n",
      "RDKit ERROR: [17:19:11] non-ring atom 0 marked aromatic\n",
      "RDKit ERROR: [17:19:11] non-ring atom 0 marked aromatic\n",
      "[17:19:11] non-ring atom 0 marked aromatic\n",
      "[17:19:11] non-ring atom 0 marked aromatic\n"
     ]
    },
    {
     "name": "stdout",
     "output_type": "stream",
     "text": [
      "0\n"
     ]
    },
    {
     "name": "stderr",
     "output_type": "stream",
     "text": [
      "RDKit ERROR: [17:19:12] non-ring atom 0 marked aromatic\n",
      "RDKit ERROR: [17:19:12] non-ring atom 0 marked aromatic\n",
      "[17:19:12] non-ring atom 0 marked aromatic\n",
      "[17:19:12] non-ring atom 0 marked aromatic\n"
     ]
    },
    {
     "name": "stdout",
     "output_type": "stream",
     "text": [
      "Starting GOLD with conf file /home/benoit/bioactive_conformation_predictor/gold_docking_postprocessing/844/api_gold.conf\n",
      "Setting up GOLD environment...\n",
      "GOLD Version 2021.2.0\n",
      "Running:\n",
      " \n",
      "     \"/home/benoit/CCDC/Discovery_2021/GOLD/gold/d_linux_64/bin/gold_linux_64\" \"/home/benoit/bioactive_conformation_predictor/gold_docking_postprocessing/844/api_gold.conf\"\n",
      "\n",
      "0\n",
      "0\n",
      "Starting GOLD with conf file /home/benoit/bioactive_conformation_predictor/gold_docking_postprocessing/719/api_gold.conf\n",
      "Setting up GOLD environment...\n",
      "GOLD Version 2021.2.0\n",
      "Running:\n",
      " \n",
      "     \"/home/benoit/CCDC/Discovery_2021/GOLD/gold/d_linux_64/bin/gold_linux_64\" \"/home/benoit/bioactive_conformation_predictor/gold_docking_postprocessing/719/api_gold.conf\"\n",
      "\n",
      "Starting GOLD with conf file /home/benoit/bioactive_conformation_predictor/gold_docking_postprocessing/760/api_gold.conf\n",
      "Setting up GOLD environment...\n",
      "GOLD Version 2021.2.0\n",
      "Running:\n",
      " \n",
      "     \"/home/benoit/CCDC/Discovery_2021/GOLD/gold/d_linux_64/bin/gold_linux_64\" \"/home/benoit/bioactive_conformation_predictor/gold_docking_postprocessing/760/api_gold.conf\"\n",
      "\n",
      "0\n",
      "Starting GOLD with conf file /home/benoit/bioactive_conformation_predictor/gold_docking_postprocessing/811/api_gold.conf\n",
      "Setting up GOLD environment...\n",
      "GOLD Version 2021.2.0\n",
      "Running:\n",
      " \n",
      "     \"/home/benoit/CCDC/Discovery_2021/GOLD/gold/d_linux_64/bin/gold_linux_64\" \"/home/benoit/bioactive_conformation_predictor/gold_docking_postprocessing/811/api_gold.conf\"\n",
      "\n",
      "Starting GOLD with conf file /home/benoit/bioactive_conformation_predictor/gold_docking_postprocessing/830/api_gold.conf\n",
      "0\n",
      "Setting up GOLD environment...\n",
      "GOLD Version 2021.2.0\n",
      "Running:\n",
      " \n",
      "     \"/home/benoit/CCDC/Discovery_2021/GOLD/gold/d_linux_64/bin/gold_linux_64\" \"/home/benoit/bioactive_conformation_predictor/gold_docking_postprocessing/830/api_gold.conf\"\n",
      "\n",
      "Starting GOLD with conf file /home/benoit/bioactive_conformation_predictor/gold_docking_postprocessing/913/api_gold.conf\n",
      "Setting up GOLD environment...\n",
      "GOLD Version 2021.2.0\n",
      "Running:\n",
      " \n",
      "     \"/home/benoit/CCDC/Discovery_2021/GOLD/gold/d_linux_64/bin/gold_linux_64\" \"/home/benoit/bioactive_conformation_predictor/gold_docking_postprocessing/913/api_gold.conf\"\n",
      "\n",
      "0\n",
      "Starting GOLD with conf file /home/benoit/bioactive_conformation_predictor/gold_docking_postprocessing/939/api_gold.conf\n",
      "Setting up GOLD environment...\n",
      "GOLD Version 2021.2.0\n",
      "Running:\n",
      " \n",
      "     \"/home/benoit/CCDC/Discovery_2021/GOLD/gold/d_linux_64/bin/gold_linux_64\" \"/home/benoit/bioactive_conformation_predictor/gold_docking_postprocessing/939/api_gold.conf\"\n",
      "\n",
      "Starting GOLD with conf file /home/benoit/bioactive_conformation_predictor/gold_docking_postprocessing/985/api_gold.conf\n",
      "Setting up GOLD environment...\n",
      "GOLD Version 2021.2.0\n",
      "Running:\n",
      " \n",
      "     \"/home/benoit/CCDC/Discovery_2021/GOLD/gold/d_linux_64/bin/gold_linux_64\" \"/home/benoit/bioactive_conformation_predictor/gold_docking_postprocessing/985/api_gold.conf\"\n",
      "\n",
      "0\n",
      "Starting GOLD with conf file /home/benoit/bioactive_conformation_predictor/gold_docking_postprocessing/890/api_gold.conf\n",
      "Setting up GOLD environment...\n",
      "GOLD Version 2021.2.0\n",
      "Running:\n",
      " \n",
      "     \"/home/benoit/CCDC/Discovery_2021/GOLD/gold/d_linux_64/bin/gold_linux_64\" \"/home/benoit/bioactive_conformation_predictor/gold_docking_postprocessing/890/api_gold.conf\"\n",
      "\n"
     ]
    },
    {
     "name": "stderr",
     "output_type": "stream",
     "text": [
      "RDKit WARNING: [17:19:35] unknown|866|mol2|1|dock18: warning - O.co2 with non C.2 or S.o2 neighbor.\n",
      "RDKit WARNING: [17:19:35] unknown|866|mol2|1|dock18: warning - O.co2 with non C.2 or S.o2 neighbor.\n",
      "[17:19:35] unknown|866|mol2|1|dock18: warning - O.co2 with non C.2 or S.o2 neighbor.\n",
      "[17:19:35] unknown|866|mol2|1|dock18: warning - O.co2 with non C.2 or S.o2 neighbor.\n",
      "RDKit WARNING: [17:19:36] unknown|866|mol2|1|dock34: warning - O.co2 with non C.2 or S.o2 neighbor.\n",
      "RDKit WARNING: [17:19:36] unknown|866|mol2|1|dock67: warning - O.co2 with non C.2 or S.o2 neighbor.\n",
      "[17:19:36] unknown|866|mol2|1|dock34: warning - O.co2 with non C.2 or S.o2 neighbor.\n",
      "[17:19:36] unknown|866|mol2|1|dock67: warning - O.co2 with non C.2 or S.o2 neighbor.\n",
      "RDKit WARNING: [17:19:36] unknown|866|mol2|1|dock18: warning - O.co2 with non C.2 or S.o2 neighbor.\n",
      "RDKit WARNING: [17:19:36] unknown|866|mol2|1|dock18: warning - O.co2 with non C.2 or S.o2 neighbor.\n",
      "[17:19:36] unknown|866|mol2|1|dock18: warning - O.co2 with non C.2 or S.o2 neighbor.\n",
      "[17:19:36] unknown|866|mol2|1|dock18: warning - O.co2 with non C.2 or S.o2 neighbor.\n"
     ]
    },
    {
     "name": "stdout",
     "output_type": "stream",
     "text": [
      "0\n",
      "Starting GOLD with conf file /home/benoit/bioactive_conformation_predictor/gold_docking_postprocessing/867/api_gold.conf\n",
      "0\n",
      "Setting up GOLD environment...\n",
      "GOLD Version 2021.2.0\n",
      "Running:\n",
      " \n",
      "     \"/home/benoit/CCDC/Discovery_2021/GOLD/gold/d_linux_64/bin/gold_linux_64\" \"/home/benoit/bioactive_conformation_predictor/gold_docking_postprocessing/867/api_gold.conf\"\n",
      "\n",
      "0\n",
      "00\n",
      "\n",
      "0\n",
      "Starting GOLD with conf file /home/benoit/bioactive_conformation_predictor/gold_docking_postprocessing/914/api_gold.conf\n",
      "0\n",
      "Setting up GOLD environment...\n",
      "GOLD Version 2021.2.0\n",
      "Running:\n",
      " \n",
      "     \"/home/benoit/CCDC/Discovery_2021/GOLD/gold/d_linux_64/bin/gold_linux_64\" \"/home/benoit/bioactive_conformation_predictor/gold_docking_postprocessing/914/api_gold.conf\"\n",
      "\n",
      "0\n",
      "Starting GOLD with conf file /home/benoit/bioactive_conformation_predictor/gold_docking_postprocessing/1008/api_gold.conf\n",
      "0\n",
      "Setting up GOLD environment...\n",
      "GOLD Version 2021.2.0\n",
      "Running:\n",
      " \n",
      "     \"/home/benoit/CCDC/Discovery_2021/GOLD/gold/d_linux_64/bin/gold_linux_64\" \"/home/benoit/bioactive_conformation_predictor/gold_docking_postprocessing/1008/api_gold.conf\"\n",
      "\n"
     ]
    },
    {
     "name": "stderr",
     "output_type": "stream",
     "text": [
      "RDKit WARNING: [17:19:46] unknown|811|mol2|1|dock4: warning - O.co2 with non C.2 or S.o2 neighbor.\n",
      "RDKit WARNING: [17:19:46] unknown|811|mol2|1|dock13: warning - O.co2 with non C.2 or S.o2 neighbor.\n"
     ]
    },
    {
     "name": "stdout",
     "output_type": "stream",
     "text": [
      "Starting GOLD with conf file /home/benoit/bioactive_conformation_predictor/gold_docking_postprocessing/761/api_gold.conf"
     ]
    },
    {
     "name": "stderr",
     "output_type": "stream",
     "text": [
      "[17:19:46] unknown|811|mol2|1|dock4: warning - O.co2 with non C.2 or S.o2 neighbor.\n",
      "[17:19:46] unknown|811|mol2|1|dock13: warning - O.co2 with non C.2 or S.o2 neighbor.\n"
     ]
    },
    {
     "name": "stdout",
     "output_type": "stream",
     "text": [
      "\n"
     ]
    },
    {
     "name": "stderr",
     "output_type": "stream",
     "text": [
      "RDKit WARNING: [17:19:47] unknown|811|mol2|1|dock4: warning - O.co2 with non C.2 or S.o2 neighbor.\n"
     ]
    },
    {
     "name": "stdout",
     "output_type": "stream",
     "text": [
      "Setting up GOLD environment...\n",
      "GOLD Version 2021.2.0\n"
     ]
    },
    {
     "name": "stderr",
     "output_type": "stream",
     "text": [
      "RDKit WARNING: [17:19:47] unknown|811|mol2|1|dock13: warning - O.co2 with non C.2 or S.o2 neighbor.\n",
      "[17:19:47] unknown|811|mol2|1|dock4: warning - O.co2 with non C.2 or S.o2 neighbor.\n",
      "[17:19:47] unknown|811|mol2|1|dock13: warning - O.co2 with non C.2 or S.o2 neighbor.\n"
     ]
    },
    {
     "name": "stdout",
     "output_type": "stream",
     "text": [
      "Running:\n",
      " \n",
      "     \"/home/benoit/CCDC/Discovery_2021/GOLD/gold/d_linux_64/bin/gold_linux_64\" \"/home/benoit/bioactive_conformation_predictor/gold_docking_postprocessing/761/api_gold.conf\"\n",
      "\n",
      "0\n"
     ]
    },
    {
     "name": "stderr",
     "output_type": "stream",
     "text": [
      "RDKit WARNING: [17:19:48] unknown|811|mol2|1|dock13: warning - O.co2 with non C.2 or S.o2 neighbor.\n",
      "RDKit WARNING: [17:19:48] unknown|811|mol2|1|dock13: warning - O.co2 with non C.2 or S.o2 neighbor.\n",
      "[17:19:48] unknown|811|mol2|1|dock13: warning - O.co2 with non C.2 or S.o2 neighbor.\n",
      "[17:19:48] unknown|811|mol2|1|dock13: warning - O.co2 with non C.2 or S.o2 neighbor.\n"
     ]
    },
    {
     "name": "stdout",
     "output_type": "stream",
     "text": [
      "Starting GOLD with conf file /home/benoit/bioactive_conformation_predictor/gold_docking_postprocessing/812/api_gold.conf\n",
      "Setting up GOLD environment...\n",
      "GOLD Version 2021.2.0\n",
      "Running:\n",
      " \n",
      "     \"/home/benoit/CCDC/Discovery_2021/GOLD/gold/d_linux_64/bin/gold_linux_64\" \"/home/benoit/bioactive_conformation_predictor/gold_docking_postprocessing/812/api_gold.conf\"\n",
      "\n",
      "Starting GOLD with conf file /home/benoit/bioactive_conformation_predictor/gold_docking_postprocessing/940/api_gold.conf\n",
      "Setting up GOLD environment...\n",
      "GOLD Version 2021.2.0\n",
      "Running:\n",
      " \n",
      "     \"/home/benoit/CCDC/Discovery_2021/GOLD/gold/d_linux_64/bin/gold_linux_64\" \"/home/benoit/bioactive_conformation_predictor/gold_docking_postprocessing/940/api_gold.conf\"\n",
      "\n",
      "Starting GOLD with conf file /home/benoit/bioactive_conformation_predictor/gold_docking_postprocessing/868/api_gold.conf\n",
      "Setting up GOLD environment...\n",
      "GOLD Version 2021.2.0\n",
      "Running:\n",
      " \n",
      "     \"/home/benoit/CCDC/Discovery_2021/GOLD/gold/d_linux_64/bin/gold_linux_64\" \"/home/benoit/bioactive_conformation_predictor/gold_docking_postprocessing/868/api_gold.conf\"\n",
      "\n",
      "0\n"
     ]
    },
    {
     "name": "stderr",
     "output_type": "stream",
     "text": [
      "RDKit WARNING: [17:19:54] unknown|783|mol2|1|dock50: warning - O.co2 with non C.2 or S.o2 neighbor.\n",
      "RDKit WARNING: [17:19:54] unknown|890|mol2|1|dock24: warning - O.co2 with non C.2 or S.o2 neighbor.\n",
      "RDKit WARNING: [17:19:54] unknown|783|mol2|1|dock34: warning - O.co2 with non C.2 or S.o2 neighbor.\n",
      "RDKit WARNING: [17:19:54] unknown|890|mol2|1|dock32: warning - O.co2 with non C.2 or S.o2 neighbor.\n",
      "[17:19:54] unknown|783|mol2|1|dock50: warning - O.co2 with non C.2 or S.o2 neighbor.\n",
      "[17:19:54] unknown|890|mol2|1|dock24: warning - O.co2 with non C.2 or S.o2 neighbor.\n",
      "[17:19:54] unknown|783|mol2|1|dock34: warning - O.co2 with non C.2 or S.o2 neighbor.\n",
      "[17:19:54] unknown|890|mol2|1|dock32: warning - O.co2 with non C.2 or S.o2 neighbor.\n",
      "RDKit WARNING: [17:19:55] unknown|890|mol2|1|dock24: warning - O.co2 with non C.2 or S.o2 neighbor.\n",
      "RDKit WARNING: [17:19:55] unknown|890|mol2|1|dock51: warning - O.co2 with non C.2 or S.o2 neighbor.\n",
      "[17:19:55] unknown|890|mol2|1|dock24: warning - O.co2 with non C.2 or S.o2 neighbor.\n",
      "[17:19:55] unknown|890|mol2|1|dock51: warning - O.co2 with non C.2 or S.o2 neighbor.\n",
      "RDKit WARNING: [17:19:55] unknown|890|mol2|1|dock92: warning - O.co2 with non C.2 or S.o2 neighbor.\n",
      "RDKit WARNING: [17:19:55] unknown|890|mol2|1|dock51: warning - O.co2 with non C.2 or S.o2 neighbor.\n",
      "RDKit WARNING: [17:19:55] unknown|783|mol2|1|dock53: warning - O.co2 with non C.2 or S.o2 neighbor.\n",
      "RDKit WARNING: [17:19:55] unknown|783|mol2|1|dock87: warning - O.co2 with non C.2 or S.o2 neighbor.\n",
      "[17:19:55] unknown|890|mol2|1|dock92: warning - O.co2 with non C.2 or S.o2 neighbor.\n",
      "[17:19:55] unknown|783|mol2|1|dock53: warning - O.co2 with non C.2 or S.o2 neighbor.\n",
      "[17:19:55] unknown|890|mol2|1|dock51: warning - O.co2 with non C.2 or S.o2 neighbor.\n",
      "[17:19:55] unknown|783|mol2|1|dock87: warning - O.co2 with non C.2 or S.o2 neighbor.\n"
     ]
    },
    {
     "name": "stdout",
     "output_type": "stream",
     "text": [
      "Starting GOLD with conf file /home/benoit/bioactive_conformation_predictor/gold_docking_postprocessing/986/api_gold.conf\n",
      "Setting up GOLD environment...\n",
      "GOLD Version 2021.2.0\n",
      "Running:\n",
      " \n",
      "     \"/home/benoit/CCDC/Discovery_2021/GOLD/gold/d_linux_64/bin/gold_linux_64\" \"/home/benoit/bioactive_conformation_predictor/gold_docking_postprocessing/986/api_gold.conf\"\n",
      "\n"
     ]
    },
    {
     "name": "stderr",
     "output_type": "stream",
     "text": [
      "RDKit WARNING: [17:19:56] unknown|783|mol2|1|dock89: warning - O.co2 with non C.2 or S.o2 neighbor.\n"
     ]
    },
    {
     "name": "stdout",
     "output_type": "stream",
     "text": [
      "Starting GOLD with conf file /home/benoit/bioactive_conformation_predictor/gold_docking_postprocessing/891/api_gold.conf\n"
     ]
    },
    {
     "name": "stderr",
     "output_type": "stream",
     "text": [
      "RDKit WARNING: [17:19:56] unknown|783|mol2|1|dock59: warning - O.co2 with non C.2 or S.o2 neighbor.\n",
      "[17:19:56] unknown|783|mol2|1|dock89: warning - O.co2 with non C.2 or S.o2 neighbor.\n",
      "[17:19:56] unknown|783|mol2|1|dock59: warning - O.co2 with non C.2 or S.o2 neighbor.\n"
     ]
    },
    {
     "name": "stdout",
     "output_type": "stream",
     "text": [
      "Starting GOLD with conf file /home/benoit/bioactive_conformation_predictor/gold_docking_postprocessing/831/api_gold.conf\n",
      "Setting up GOLD environment...\n",
      "GOLD Version 2021.2.0\n",
      "Running:\n",
      " \n",
      "     \"/home/benoit/CCDC/Discovery_2021/GOLD/gold/d_linux_64/bin/gold_linux_64\" \"/home/benoit/bioactive_conformation_predictor/gold_docking_postprocessing/891/api_gold.conf\"\n",
      "\n",
      "Starting GOLD with conf file /home/benoit/bioactive_conformation_predictor/gold_docking_postprocessing/784/api_gold.conf\n",
      "Setting up GOLD environment...\n",
      "GOLD Version 2021.2.0\n",
      "Running:\n",
      " \n",
      "     \"/home/benoit/CCDC/Discovery_2021/GOLD/gold/d_linux_64/bin/gold_linux_64\" \"/home/benoit/bioactive_conformation_predictor/gold_docking_postprocessing/831/api_gold.conf\"\n",
      "\n",
      "Setting up GOLD environment...\n",
      "GOLD Version 2021.2.0\n",
      "Running:\n",
      " \n",
      "     \"/home/benoit/CCDC/Discovery_2021/GOLD/gold/d_linux_64/bin/gold_linux_64\" \"/home/benoit/bioactive_conformation_predictor/gold_docking_postprocessing/784/api_gold.conf\"\n",
      "\n",
      "0\n",
      "Starting GOLD with conf file /home/benoit/bioactive_conformation_predictor/gold_docking_postprocessing/915/api_gold.conf\n",
      "Setting up GOLD environment...\n",
      "GOLD Version 2021.2.0\n",
      "Running:\n",
      " \n",
      "     \"/home/benoit/CCDC/Discovery_2021/GOLD/gold/d_linux_64/bin/gold_linux_64\" \"/home/benoit/bioactive_conformation_predictor/gold_docking_postprocessing/915/api_gold.conf\"\n",
      "\n",
      "0\n",
      "Starting GOLD with conf file /home/benoit/bioactive_conformation_predictor/gold_docking_postprocessing/762/api_gold.conf\n",
      "Setting up GOLD environment...\n",
      "GOLD Version 2021.2.0\n",
      "Running:\n",
      " \n",
      "     \"/home/benoit/CCDC/Discovery_2021/GOLD/gold/d_linux_64/bin/gold_linux_64\" \"/home/benoit/bioactive_conformation_predictor/gold_docking_postprocessing/762/api_gold.conf\"\n",
      "\n",
      "0\n",
      "Starting GOLD with conf file /home/benoit/bioactive_conformation_predictor/gold_docking_postprocessing/961/api_gold.conf\n",
      "0\n",
      "Setting up GOLD environment...\n",
      "GOLD Version 2021.2.0\n",
      "Running:\n",
      " \n",
      "     \"/home/benoit/CCDC/Discovery_2021/GOLD/gold/d_linux_64/bin/gold_linux_64\" \"/home/benoit/bioactive_conformation_predictor/gold_docking_postprocessing/961/api_gold.conf\"\n",
      "\n",
      "Error with smiles CC(C)CN(C[C@@H](O)[C@H](Cc1ccccc1)NC(=O)O[C@@H]1[C@@H]2CO[C@@H]3OC[C@H]1C[C@@H]32)S(=O)(=O)c1ccc(B([OH2+])[OH2+])cc1\n",
      "'NoneType' object has no attribute 'CalcEnergy'\n",
      "0\n",
      "Starting GOLD with conf file /home/benoit/bioactive_conformation_predictor/gold_docking_postprocessing/845/api_gold.conf\n",
      "Setting up GOLD environment...\n",
      "GOLD Version 2021.2.0\n",
      "Running:\n",
      " \n",
      "     \"/home/benoit/CCDC/Discovery_2021/GOLD/gold/d_linux_64/bin/gold_linux_64\" \"/home/benoit/bioactive_conformation_predictor/gold_docking_postprocessing/845/api_gold.conf\"\n",
      "\n",
      "0\n",
      "00\n",
      "\n",
      "Starting GOLD with conf file /home/benoit/bioactive_conformation_predictor/gold_docking_postprocessing/916/api_gold.conf\n",
      "Setting up GOLD environment...\n",
      "GOLD Version 2021.2.0\n",
      "Running:\n",
      " \n",
      "     \"/home/benoit/CCDC/Discovery_2021/GOLD/gold/d_linux_64/bin/gold_linux_64\" \"/home/benoit/bioactive_conformation_predictor/gold_docking_postprocessing/916/api_gold.conf\"\n",
      "\n",
      "0\n"
     ]
    },
    {
     "name": "stderr",
     "output_type": "stream",
     "text": [
      "RDKit WARNING: [17:20:21] unknown|831|mol2|1|dock3: warning - O.co2 with non C.2 or S.o2 neighbor.\n",
      "RDKit WARNING: [17:20:21] unknown|831|mol2|1|dock18: warning - O.co2 with non C.2 or S.o2 neighbor.\n",
      "[17:20:21] unknown|831|mol2|1|dock3: warning - O.co2 with non C.2 or S.o2 neighbor.\n",
      "[17:20:21] unknown|831|mol2|1|dock18: warning - O.co2 with non C.2 or S.o2 neighbor.\n"
     ]
    },
    {
     "name": "stdout",
     "output_type": "stream",
     "text": [
      "0\n",
      "Starting GOLD with conf file /home/benoit/bioactive_conformation_predictor/gold_docking_postprocessing/813/api_gold.conf\n"
     ]
    },
    {
     "name": "stderr",
     "output_type": "stream",
     "text": [
      "RDKit WARNING: [17:20:22] unknown|831|mol2|1|dock12: warning - O.co2 with non C.2 or S.o2 neighbor.\n",
      "RDKit WARNING: [17:20:22] unknown|831|mol2|1|dock97: warning - O.co2 with non C.2 or S.o2 neighbor.\n"
     ]
    },
    {
     "name": "stdout",
     "output_type": "stream",
     "text": [
      "0\n"
     ]
    },
    {
     "name": "stderr",
     "output_type": "stream",
     "text": [
      "[17:20:22] unknown|831|mol2|1|dock12: warning - O.co2 with non C.2 or S.o2 neighbor.\n",
      "[17:20:22] unknown|831|mol2|1|dock97: warning - O.co2 with non C.2 or S.o2 neighbor.\n"
     ]
    },
    {
     "name": "stdout",
     "output_type": "stream",
     "text": [
      "Starting GOLD with conf file /home/benoit/bioactive_conformation_predictor/gold_docking_postprocessing/987/api_gold.conf\n",
      "Setting up GOLD environment...\n",
      "GOLD Version 2021.2.0\n",
      "Running:\n",
      " \n",
      "     \"/home/benoit/CCDC/Discovery_2021/GOLD/gold/d_linux_64/bin/gold_linux_64\" \"/home/benoit/bioactive_conformation_predictor/gold_docking_postprocessing/813/api_gold.conf\"\n",
      "\n"
     ]
    },
    {
     "name": "stderr",
     "output_type": "stream",
     "text": [
      "RDKit WARNING: [17:20:22] unknown|831|mol2|1|dock83: warning - O.co2 with non C.2 or S.o2 neighbor.\n",
      "RDKit WARNING: [17:20:22] unknown|831|mol2|1|dock60: warning - O.co2 with non C.2 or S.o2 neighbor.\n",
      "[17:20:22] unknown|831|mol2|1|dock83: warning - O.co2 with non C.2 or S.o2 neighbor.\n",
      "[17:20:22] unknown|831|mol2|1|dock60: warning - O.co2 with non C.2 or S.o2 neighbor.\n"
     ]
    },
    {
     "name": "stdout",
     "output_type": "stream",
     "text": [
      "Setting up GOLD environment...\n",
      "GOLD Version 2021.2.0\n",
      "Running:\n",
      " \n",
      "     \"/home/benoit/CCDC/Discovery_2021/GOLD/gold/d_linux_64/bin/gold_linux_64\" \"/home/benoit/bioactive_conformation_predictor/gold_docking_postprocessing/987/api_gold.conf\"\n",
      "\n",
      "Starting GOLD with conf file /home/benoit/bioactive_conformation_predictor/gold_docking_postprocessing/832/api_gold.conf\n",
      "Setting up GOLD environment...\n",
      "GOLD Version 2021.2.0\n",
      "Running:\n",
      " \n",
      "     \"/home/benoit/CCDC/Discovery_2021/GOLD/gold/d_linux_64/bin/gold_linux_64\" \"/home/benoit/bioactive_conformation_predictor/gold_docking_postprocessing/832/api_gold.conf\"\n",
      "\n",
      "0\n"
     ]
    },
    {
     "name": "stderr",
     "output_type": "stream",
     "text": [
      "RDKit WARNING: [17:20:24] unknown|1008|mol2|1|dock58: warning - O.co2 with non C.2 or S.o2 neighbor.\n",
      "RDKit WARNING: [17:20:25] unknown|1008|mol2|1|dock97: warning - O.co2 with non C.2 or S.o2 neighbor.\n",
      "[17:20:24] unknown|1008|mol2|1|dock58: warning - O.co2 with non C.2 or S.o2 neighbor.\n",
      "[17:20:25] unknown|1008|mol2|1|dock97: warning - O.co2 with non C.2 or S.o2 neighbor.\n",
      "RDKit WARNING: [17:20:26] unknown|1008|mol2|1|dock33: warning - O.co2 with non C.2 or S.o2 neighbor.\n",
      "RDKit WARNING: [17:20:26] unknown|1008|mol2|1|dock33: warning - O.co2 with non C.2 or S.o2 neighbor.\n",
      "[17:20:26] unknown|1008|mol2|1|dock33: warning - O.co2 with non C.2 or S.o2 neighbor.\n",
      "[17:20:26] unknown|1008|mol2|1|dock33: warning - O.co2 with non C.2 or S.o2 neighbor.\n"
     ]
    },
    {
     "name": "stdout",
     "output_type": "stream",
     "text": [
      "Starting GOLD with conf file /home/benoit/bioactive_conformation_predictor/gold_docking_postprocessing/763/api_gold.conf\n",
      "Setting up GOLD environment...\n",
      "GOLD Version 2021.2.0\n",
      "Running:\n",
      " \n",
      "     \"/home/benoit/CCDC/Discovery_2021/GOLD/gold/d_linux_64/bin/gold_linux_64\" \"/home/benoit/bioactive_conformation_predictor/gold_docking_postprocessing/763/api_gold.conf\"\n",
      "\n"
     ]
    },
    {
     "name": "stderr",
     "output_type": "stream",
     "text": [
      "RDKit WARNING: [17:20:27] unknown|1008|mol2|1|dock1: warning - O.co2 with non C.2 or S.o2 neighbor.\n",
      "RDKit WARNING: [17:20:27] unknown|1008|mol2|1|dock47: warning - O.co2 with non C.2 or S.o2 neighbor.\n",
      "[17:20:27] unknown|1008|mol2|1|dock1: warning - O.co2 with non C.2 or S.o2 neighbor.\n",
      "[17:20:27] unknown|1008|mol2|1|dock47: warning - O.co2 with non C.2 or S.o2 neighbor.\n"
     ]
    },
    {
     "name": "stdout",
     "output_type": "stream",
     "text": [
      "Starting GOLD with conf file /home/benoit/bioactive_conformation_predictor/gold_docking_postprocessing/1009/api_gold.conf\n",
      "Setting up GOLD environment...\n",
      "GOLD Version 2021.2.0\n",
      "Running:\n",
      " \n",
      "     \"/home/benoit/CCDC/Discovery_2021/GOLD/gold/d_linux_64/bin/gold_linux_64\" \"/home/benoit/bioactive_conformation_predictor/gold_docking_postprocessing/1009/api_gold.conf\"\n",
      "\n"
     ]
    },
    {
     "name": "stderr",
     "output_type": "stream",
     "text": [
      "RDKit WARNING: [17:20:28] unknown|891|mol2|1|dock7: warning - O.co2 with non C.2 or S.o2 neighbor.\n",
      "RDKit WARNING: [17:20:28] unknown|891|mol2|1|dock43: warning - O.co2 with non C.2 or S.o2 neighbor.\n",
      "[17:20:28] unknown|891|mol2|1|dock7: warning - O.co2 with non C.2 or S.o2 neighbor.\n",
      "[17:20:28] unknown|891|mol2|1|dock43: warning - O.co2 with non C.2 or S.o2 neighbor.\n",
      "RDKit WARNING: [17:20:28] unknown|891|mol2|1|dock17: warning - O.co2 with non C.2 or S.o2 neighbor.\n",
      "RDKit WARNING: [17:20:28] unknown|891|mol2|1|dock56: warning - O.co2 with non C.2 or S.o2 neighbor.\n",
      "[17:20:28] unknown|891|mol2|1|dock17: warning - O.co2 with non C.2 or S.o2 neighbor.\n",
      "[17:20:28] unknown|891|mol2|1|dock56: warning - O.co2 with non C.2 or S.o2 neighbor.\n",
      "RDKit WARNING: [17:20:29] unknown|891|mol2|1|dock43: warning - O.co2 with non C.2 or S.o2 neighbor.\n",
      "RDKit WARNING: [17:20:29] unknown|891|mol2|1|dock56: warning - O.co2 with non C.2 or S.o2 neighbor.\n",
      "[17:20:29] unknown|891|mol2|1|dock43: warning - O.co2 with non C.2 or S.o2 neighbor.\n",
      "[17:20:29] unknown|891|mol2|1|dock56: warning - O.co2 with non C.2 or S.o2 neighbor.\n",
      "RDKit WARNING: [17:20:29] unknown|961|mol2|1|dock56: warning - O.co2 with non C.2 or S.o2 neighbor.\n"
     ]
    },
    {
     "name": "stdout",
     "output_type": "stream",
     "text": [
      "Starting GOLD with conf file /home/benoit/bioactive_conformation_predictor/gold_docking_postprocessing/892/api_gold.conf\n"
     ]
    },
    {
     "name": "stderr",
     "output_type": "stream",
     "text": [
      "RDKit WARNING: [17:20:29] unknown|961|mol2|1|dock62: warning - O.co2 with non C.2 or S.o2 neighbor.\n",
      "[17:20:29] unknown|961|mol2|1|dock56: warning - O.co2 with non C.2 or S.o2 neighbor.\n",
      "[17:20:29] unknown|961|mol2|1|dock62: warning - O.co2 with non C.2 or S.o2 neighbor.\n",
      "RDKit WARNING: [17:20:29] unknown|961|mol2|1|dock17: warning - O.co2 with non C.2 or S.o2 neighbor.\n",
      "RDKit WARNING: [17:20:29] unknown|961|mol2|1|dock45: warning - O.co2 with non C.2 or S.o2 neighbor.\n"
     ]
    },
    {
     "name": "stdout",
     "output_type": "stream",
     "text": [
      "Setting up GOLD environment...\n",
      "GOLD Version 2021.2.0\n",
      "Running:\n",
      " \n",
      "     \"/home/benoit/CCDC/Discovery_2021/GOLD/gold/d_linux_64/bin/gold_linux_64\" \"/home/benoit/bioactive_conformation_predictor/gold_docking_postprocessing/892/api_gold.conf\"\n",
      "\n"
     ]
    },
    {
     "name": "stderr",
     "output_type": "stream",
     "text": [
      "[17:20:29] unknown|961|mol2|1|dock17: warning - O.co2 with non C.2 or S.o2 neighbor.\n",
      "[17:20:29] unknown|961|mol2|1|dock45: warning - O.co2 with non C.2 or S.o2 neighbor.\n",
      "RDKit WARNING: [17:20:30] unknown|961|mol2|1|dock4: warning - O.co2 with non C.2 or S.o2 neighbor.\n",
      "RDKit WARNING: [17:20:30] unknown|961|mol2|1|dock70: warning - O.co2 with non C.2 or S.o2 neighbor.\n",
      "[17:20:30] unknown|961|mol2|1|dock4: warning - O.co2 with non C.2 or S.o2 neighbor.\n",
      "[17:20:30] unknown|961|mol2|1|dock70: warning - O.co2 with non C.2 or S.o2 neighbor.\n"
     ]
    },
    {
     "name": "stdout",
     "output_type": "stream",
     "text": [
      "Starting GOLD with conf file /home/benoit/bioactive_conformation_predictor/gold_docking_postprocessing/962/api_gold.conf\n",
      "Setting up GOLD environment...\n",
      "GOLD Version 2021.2.0\n",
      "Running:\n",
      " \n",
      "     \"/home/benoit/CCDC/Discovery_2021/GOLD/gold/d_linux_64/bin/gold_linux_64\" \"/home/benoit/bioactive_conformation_predictor/gold_docking_postprocessing/962/api_gold.conf\"\n",
      "\n",
      "Starting GOLD with conf file /home/benoit/bioactive_conformation_predictor/gold_docking_postprocessing/785/api_gold.conf\n",
      "0\n",
      "0\n",
      "0\n",
      "Setting up GOLD environment...\n",
      "GOLD Version 2021.2.0\n",
      "Running:\n",
      " \n",
      "     \"/home/benoit/CCDC/Discovery_2021/GOLD/gold/d_linux_64/bin/gold_linux_64\" \"/home/benoit/bioactive_conformation_predictor/gold_docking_postprocessing/785/api_gold.conf\"\n",
      "\n",
      "0\n",
      "0\n",
      "0\n",
      "Starting GOLD with conf file /home/benoit/bioactive_conformation_predictor/gold_docking_postprocessing/814/api_gold.conf\n",
      "Setting up GOLD environment...\n",
      "GOLD Version 2021.2.0\n",
      "Running:\n",
      " \n",
      "     \"/home/benoit/CCDC/Discovery_2021/GOLD/gold/d_linux_64/bin/gold_linux_64\" \"/home/benoit/bioactive_conformation_predictor/gold_docking_postprocessing/814/api_gold.conf\"\n",
      "\n",
      "Starting GOLD with conf file /home/benoit/bioactive_conformation_predictor/gold_docking_postprocessing/917/api_gold.conf\n",
      "Starting GOLD with conf file /home/benoit/bioactive_conformation_predictor/gold_docking_postprocessing/846/api_gold.conf\n",
      "Setting up GOLD environment...\n",
      "GOLD Version 2021.2.0\n",
      "Running:\n",
      " \n",
      "     \"/home/benoit/CCDC/Discovery_2021/GOLD/gold/d_linux_64/bin/gold_linux_64\" \"/home/benoit/bioactive_conformation_predictor/gold_docking_postprocessing/917/api_gold.conf\"\n",
      "\n",
      "Setting up GOLD environment...\n",
      "GOLD Version 2021.2.0\n",
      "Running:\n",
      " \n",
      "     \"/home/benoit/CCDC/Discovery_2021/GOLD/gold/d_linux_64/bin/gold_linux_64\" \"/home/benoit/bioactive_conformation_predictor/gold_docking_postprocessing/846/api_gold.conf\"\n",
      "\n",
      "0\n",
      "Starting GOLD with conf file /home/benoit/bioactive_conformation_predictor/gold_docking_postprocessing/764/api_gold.conf\n",
      "Setting up GOLD environment...\n",
      "GOLD Version 2021.2.0\n",
      "Running:\n",
      " \n",
      "     \"/home/benoit/CCDC/Discovery_2021/GOLD/gold/d_linux_64/bin/gold_linux_64\" \"/home/benoit/bioactive_conformation_predictor/gold_docking_postprocessing/764/api_gold.conf\"\n",
      "\n",
      "Starting GOLD with conf file /home/benoit/bioactive_conformation_predictor/gold_docking_postprocessing/988/api_gold.conf\n",
      "Setting up GOLD environment...\n",
      "GOLD Version 2021.2.0\n",
      "Running:\n",
      " \n",
      "     \"/home/benoit/CCDC/Discovery_2021/GOLD/gold/d_linux_64/bin/gold_linux_64\" \"/home/benoit/bioactive_conformation_predictor/gold_docking_postprocessing/988/api_gold.conf\"\n",
      "\n",
      "Starting GOLD with conf file /home/benoit/bioactive_conformation_predictor/gold_docking_postprocessing/941/api_gold.conf\n",
      "Setting up GOLD environment...\n",
      "GOLD Version 2021.2.0\n",
      "Running:\n",
      " \n",
      "     \"/home/benoit/CCDC/Discovery_2021/GOLD/gold/d_linux_64/bin/gold_linux_64\" \"/home/benoit/bioactive_conformation_predictor/gold_docking_postprocessing/941/api_gold.conf\"\n",
      "\n",
      "1\n",
      "Error with smiles CNC1=NC(=O)[C@H]([C@H](C)c2c[nH]c3ccccc23)O1\n",
      "Error: could not find any GOLD solution files using conf file /home/benoit/bioactive_conformation_predictor/gold_docking_postprocessing/941/api_gold.confStarting GOLD with conf file /home/benoit/bioactive_conformation_predictor/gold_docking_postprocessing/893/api_gold.conf\n",
      "\n",
      "Fatal error: \n",
      "find_oco2_lp_points: can't find other oco2 paired to atom 1861\n",
      "\n",
      "Setting up GOLD environment...\n",
      "GOLD Version 2021.2.0\n",
      "Running:\n",
      " \n",
      "     \"/home/benoit/CCDC/Discovery_2021/GOLD/gold/d_linux_64/bin/gold_linux_64\" \"/home/benoit/bioactive_conformation_predictor/gold_docking_postprocessing/893/api_gold.conf\"\n",
      "\n",
      "Starting GOLD with conf file /home/benoit/bioactive_conformation_predictor/gold_docking_postprocessing/942/api_gold.conf\n",
      "Setting up GOLD environment...\n",
      "GOLD Version 2021.2.0\n",
      "Running:\n",
      " \n",
      "     \"/home/benoit/CCDC/Discovery_2021/GOLD/gold/d_linux_64/bin/gold_linux_64\" \"/home/benoit/bioactive_conformation_predictor/gold_docking_postprocessing/942/api_gold.conf\"\n",
      "\n",
      "0\n",
      "0\n",
      "0\n",
      "0\n",
      "Starting GOLD with conf file /home/benoit/bioactive_conformation_predictor/gold_docking_postprocessing/1010/api_gold.conf\n",
      "Setting up GOLD environment...\n",
      "GOLD Version 2021.2.0\n",
      "Running:\n",
      " \n",
      "     \"/home/benoit/CCDC/Discovery_2021/GOLD/gold/d_linux_64/bin/gold_linux_64\" \"/home/benoit/bioactive_conformation_predictor/gold_docking_postprocessing/1010/api_gold.conf\"\n",
      "\n",
      "0\n",
      "Starting GOLD with conf file /home/benoit/bioactive_conformation_predictor/gold_docking_postprocessing/765/api_gold.conf\n",
      "Setting up GOLD environment...\n",
      "GOLD Version 2021.2.0\n",
      "Running:\n",
      " \n",
      "     \"/home/benoit/CCDC/Discovery_2021/GOLD/gold/d_linux_64/bin/gold_linux_64\" \"/home/benoit/bioactive_conformation_predictor/gold_docking_postprocessing/765/api_gold.conf\"\n",
      "\n",
      "Starting GOLD with conf file /home/benoit/bioactive_conformation_predictor/gold_docking_postprocessing/815/api_gold.conf\n",
      "Setting up GOLD environment...\n",
      "GOLD Version 2021.2.0\n",
      "Running:\n",
      " \n",
      "     \"/home/benoit/CCDC/Discovery_2021/GOLD/gold/d_linux_64/bin/gold_linux_64\" \"/home/benoit/bioactive_conformation_predictor/gold_docking_postprocessing/815/api_gold.conf\"\n",
      "\n",
      "0\n",
      "0\n",
      "Starting GOLD with conf file /home/benoit/bioactive_conformation_predictor/gold_docking_postprocessing/894/api_gold.conf\n",
      "Setting up GOLD environment...\n",
      "GOLD Version 2021.2.0\n",
      "Running:\n",
      " \n",
      "     \"/home/benoit/CCDC/Discovery_2021/GOLD/gold/d_linux_64/bin/gold_linux_64\" \"/home/benoit/bioactive_conformation_predictor/gold_docking_postprocessing/894/api_gold.conf\"\n",
      "\n",
      "Starting GOLD with conf file /home/benoit/bioactive_conformation_predictor/gold_docking_postprocessing/833/api_gold.conf\n",
      "0\n",
      "Setting up GOLD environment...\n",
      "GOLD Version 2021.2.0\n",
      "Running:\n",
      " \n",
      "     \"/home/benoit/CCDC/Discovery_2021/GOLD/gold/d_linux_64/bin/gold_linux_64\" \"/home/benoit/bioactive_conformation_predictor/gold_docking_postprocessing/833/api_gold.conf\"\n",
      "\n",
      "Starting GOLD with conf file /home/benoit/bioactive_conformation_predictor/gold_docking_postprocessing/1011/api_gold.conf\n",
      "Setting up GOLD environment...\n",
      "GOLD Version 2021.2.0\n",
      "Running:\n",
      " \n",
      "     \"/home/benoit/CCDC/Discovery_2021/GOLD/gold/d_linux_64/bin/gold_linux_64\" \"/home/benoit/bioactive_conformation_predictor/gold_docking_postprocessing/1011/api_gold.conf\"\n",
      "\n",
      "0\n",
      "Starting GOLD with conf file /home/benoit/bioactive_conformation_predictor/gold_docking_postprocessing/963/api_gold.conf\n",
      "Setting up GOLD environment...\n",
      "GOLD Version 2021.2.0\n",
      "Running:\n",
      " \n",
      "     \"/home/benoit/CCDC/Discovery_2021/GOLD/gold/d_linux_64/bin/gold_linux_64\" \"/home/benoit/bioactive_conformation_predictor/gold_docking_postprocessing/963/api_gold.conf\"\n",
      "\n",
      "0\n",
      "Starting GOLD with conf file /home/benoit/bioactive_conformation_predictor/gold_docking_postprocessing/847/api_gold.conf\n",
      "0\n",
      "Starting GOLD with conf file /home/benoit/bioactive_conformation_predictor/gold_docking_postprocessing/786/api_gold.conf\n",
      "Setting up GOLD environment...\n",
      "GOLD Version 2021.2.0\n",
      "Running:\n",
      " \n",
      "     \"/home/benoit/CCDC/Discovery_2021/GOLD/gold/d_linux_64/bin/gold_linux_64\" \"/home/benoit/bioactive_conformation_predictor/gold_docking_postprocessing/847/api_gold.conf\"\n",
      "\n",
      "Setting up GOLD environment...\n",
      "GOLD Version 2021.2.0\n",
      "Running:\n",
      " \n",
      "     \"/home/benoit/CCDC/Discovery_2021/GOLD/gold/d_linux_64/bin/gold_linux_64\" \"/home/benoit/bioactive_conformation_predictor/gold_docking_postprocessing/786/api_gold.conf\"\n",
      "\n",
      "0\n",
      "Starting GOLD with conf file /home/benoit/bioactive_conformation_predictor/gold_docking_postprocessing/918/api_gold.conf\n",
      "Setting up GOLD environment...\n",
      "GOLD Version 2021.2.0\n",
      "Running:\n",
      " \n",
      "     \"/home/benoit/CCDC/Discovery_2021/GOLD/gold/d_linux_64/bin/gold_linux_64\" \"/home/benoit/bioactive_conformation_predictor/gold_docking_postprocessing/918/api_gold.conf\"\n",
      "\n",
      "Starting GOLD with conf file /home/benoit/bioactive_conformation_predictor/gold_docking_postprocessing/834/api_gold.conf\n",
      "Setting up GOLD environment...\n",
      "GOLD Version 2021.2.0\n",
      "Running:\n",
      " \n",
      "     \"/home/benoit/CCDC/Discovery_2021/GOLD/gold/d_linux_64/bin/gold_linux_64\" \"/home/benoit/bioactive_conformation_predictor/gold_docking_postprocessing/834/api_gold.conf\"\n",
      "\n"
     ]
    },
    {
     "name": "stderr",
     "output_type": "stream",
     "text": [
      "RDKit WARNING: [17:21:25] unknown|868|mol2|1|dock40: warning - O.co2 with non C.2 or S.o2 neighbor.\n",
      "RDKit WARNING: [17:21:25] unknown|868|mol2|1|dock81: warning - O.co2 with non C.2 or S.o2 neighbor.\n",
      "[17:21:25] unknown|868|mol2|1|dock40: warning - O.co2 with non C.2 or S.o2 neighbor.\n",
      "[17:21:25] unknown|868|mol2|1|dock81: warning - O.co2 with non C.2 or S.o2 neighbor.\n"
     ]
    },
    {
     "name": "stdout",
     "output_type": "stream",
     "text": [
      "0\n"
     ]
    },
    {
     "name": "stderr",
     "output_type": "stream",
     "text": [
      "RDKit WARNING: [17:21:26] unknown|868|mol2|1|dock81: warning - O.co2 with non C.2 or S.o2 neighbor.\n",
      "RDKit WARNING: [17:21:26] unknown|868|mol2|1|dock31: warning - O.co2 with non C.2 or S.o2 neighbor.\n",
      "[17:21:26] unknown|868|mol2|1|dock81: warning - O.co2 with non C.2 or S.o2 neighbor.\n",
      "[17:21:26] unknown|868|mol2|1|dock31: warning - O.co2 with non C.2 or S.o2 neighbor.\n",
      "RDKit WARNING: [17:21:27] unknown|868|mol2|1|dock40: warning - O.co2 with non C.2 or S.o2 neighbor.\n",
      "RDKit WARNING: [17:21:27] unknown|868|mol2|1|dock31: warning - O.co2 with non C.2 or S.o2 neighbor.\n",
      "[17:21:27] unknown|868|mol2|1|dock40: warning - O.co2 with non C.2 or S.o2 neighbor.\n",
      "[17:21:27] unknown|868|mol2|1|dock31: warning - O.co2 with non C.2 or S.o2 neighbor.\n"
     ]
    },
    {
     "name": "stdout",
     "output_type": "stream",
     "text": [
      "Starting GOLD with conf file /home/benoit/bioactive_conformation_predictor/gold_docking_postprocessing/869/api_gold.conf\n",
      "Setting up GOLD environment...\n",
      "GOLD Version 2021.2.0\n",
      "Running:\n",
      " \n",
      "     \"/home/benoit/CCDC/Discovery_2021/GOLD/gold/d_linux_64/bin/gold_linux_64\" \"/home/benoit/bioactive_conformation_predictor/gold_docking_postprocessing/869/api_gold.conf\"\n",
      "\n",
      "0\n",
      "0\n",
      "Starting GOLD with conf file /home/benoit/bioactive_conformation_predictor/gold_docking_postprocessing/766/api_gold.conf\n",
      "Setting up GOLD environment...\n",
      "GOLD Version 2021.2.0\n",
      "Running:\n",
      " \n",
      "     \"/home/benoit/CCDC/Discovery_2021/GOLD/gold/d_linux_64/bin/gold_linux_64\" \"/home/benoit/bioactive_conformation_predictor/gold_docking_postprocessing/766/api_gold.conf\"\n",
      "\n",
      "0\n",
      "Starting GOLD with conf file /home/benoit/bioactive_conformation_predictor/gold_docking_postprocessing/964/api_gold.conf\n",
      "Setting up GOLD environment...\n",
      "GOLD Version 2021.2.0\n",
      "Running:\n",
      " \n",
      "     \"/home/benoit/CCDC/Discovery_2021/GOLD/gold/d_linux_64/bin/gold_linux_64\" \"/home/benoit/bioactive_conformation_predictor/gold_docking_postprocessing/964/api_gold.conf\"\n",
      "\n",
      "0\n"
     ]
    },
    {
     "name": "stderr",
     "output_type": "stream",
     "text": [
      "RDKit WARNING: [17:21:38] unknown|894|mol2|1|dock42: warning - O.co2 with non C.2 or S.o2 neighbor.\n",
      "RDKit WARNING: [17:21:38] unknown|894|mol2|1|dock41: warning - O.co2 with non C.2 or S.o2 neighbor.\n",
      "[17:21:38] unknown|894|mol2|1|dock42: warning - O.co2 with non C.2 or S.o2 neighbor.\n",
      "[17:21:38] unknown|894|mol2|1|dock41: warning - O.co2 with non C.2 or S.o2 neighbor.\n",
      "RDKit WARNING: [17:21:39] unknown|894|mol2|1|dock57: warning - O.co2 with non C.2 or S.o2 neighbor.\n",
      "RDKit WARNING: [17:21:39] unknown|894|mol2|1|dock14: warning - O.co2 with non C.2 or S.o2 neighbor.\n",
      "[17:21:39] unknown|894|mol2|1|dock57: warning - O.co2 with non C.2 or S.o2 neighbor.\n",
      "[17:21:39] unknown|894|mol2|1|dock14: warning - O.co2 with non C.2 or S.o2 neighbor.\n",
      "RDKit WARNING: [17:21:39] unknown|894|mol2|1|dock80: warning - O.co2 with non C.2 or S.o2 neighbor.\n",
      "RDKit WARNING: [17:21:39] unknown|894|mol2|1|dock54: warning - O.co2 with non C.2 or S.o2 neighbor.\n",
      "[17:21:39] unknown|894|mol2|1|dock80: warning - O.co2 with non C.2 or S.o2 neighbor.\n",
      "[17:21:39] unknown|894|mol2|1|dock54: warning - O.co2 with non C.2 or S.o2 neighbor.\n"
     ]
    },
    {
     "name": "stdout",
     "output_type": "stream",
     "text": [
      "Starting GOLD with conf file /home/benoit/bioactive_conformation_predictor/gold_docking_postprocessing/895/api_gold.conf\n",
      "Setting up GOLD environment...\n",
      "GOLD Version 2021.2.0\n",
      "Running:\n",
      " \n",
      "     \"/home/benoit/CCDC/Discovery_2021/GOLD/gold/d_linux_64/bin/gold_linux_64\" \"/home/benoit/bioactive_conformation_predictor/gold_docking_postprocessing/895/api_gold.conf\"\n",
      "\n",
      "0\n",
      "Starting GOLD with conf file /home/benoit/bioactive_conformation_predictor/gold_docking_postprocessing/1012/api_gold.conf\n",
      "Setting up GOLD environment...\n",
      "GOLD Version 2021.2.0\n",
      "Running:\n",
      " \n",
      "     \"/home/benoit/CCDC/Discovery_2021/GOLD/gold/d_linux_64/bin/gold_linux_64\" \"/home/benoit/bioactive_conformation_predictor/gold_docking_postprocessing/1012/api_gold.conf\"\n",
      "\n",
      "0\n",
      "Starting GOLD with conf file /home/benoit/bioactive_conformation_predictor/gold_docking_postprocessing/943/api_gold.conf\n",
      "Setting up GOLD environment...\n",
      "GOLD Version 2021.2.0\n",
      "Running:\n",
      " \n",
      "     \"/home/benoit/CCDC/Discovery_2021/GOLD/gold/d_linux_64/bin/gold_linux_64\" \"/home/benoit/bioactive_conformation_predictor/gold_docking_postprocessing/943/api_gold.conf\"\n",
      "\n",
      "Starting GOLD with conf file /home/benoit/bioactive_conformation_predictor/gold_docking_postprocessing/835/api_gold.conf\n",
      "Setting up GOLD environment...\n",
      "GOLD Version 2021.2.0\n",
      "Running:\n",
      " \n",
      "     \"/home/benoit/CCDC/Discovery_2021/GOLD/gold/d_linux_64/bin/gold_linux_64\" \"/home/benoit/bioactive_conformation_predictor/gold_docking_postprocessing/835/api_gold.conf\"\n",
      "\n",
      "0\n",
      "0\n",
      "0\n"
     ]
    },
    {
     "name": "stderr",
     "output_type": "stream",
     "text": [
      "RDKit ERROR: [17:21:54] non-ring atom 3 marked aromatic\n",
      "RDKit ERROR: [17:21:54] non-ring atom 3 marked aromatic\n",
      "[17:21:54] non-ring atom 3 marked aromatic\n",
      "[17:21:54] non-ring atom 3 marked aromatic\n",
      "[17:21:54] non-ring atom 3 marked aromatic\n",
      "RDKit ERROR: [17:21:54] non-ring atom 3 marked aromatic\n",
      "RDKit ERROR: [17:21:55] non-ring atom 3 marked aromatic\n",
      "RDKit WARNING: [17:21:55] unknown|786|mol2|1|dock4: warning - O.co2 with non C.2 or S.o2 neighbor.\n",
      "RDKit WARNING: [17:21:55] unknown|786|mol2|1|dock97: warning - O.co2 with non C.2 or S.o2 neighbor.\n",
      "RDKit ERROR: [17:21:55] non-ring atom 3 marked aromatic\n",
      "[17:21:55] non-ring atom 3 marked aromatic\n",
      "[17:21:55] unknown|786|mol2|1|dock4: warning - O.co2 with non C.2 or S.o2 neighbor.\n",
      "[17:21:55] unknown|786|mol2|1|dock97: warning - O.co2 with non C.2 or S.o2 neighbor.\n",
      "[17:21:55] non-ring atom 3 marked aromatic\n",
      "RDKit ERROR: [17:21:55] non-ring atom 3 marked aromatic\n"
     ]
    },
    {
     "name": "stdout",
     "output_type": "stream",
     "text": [
      "Starting GOLD with conf file /home/benoit/bioactive_conformation_predictor/gold_docking_postprocessing/1013/api_gold.conf\n"
     ]
    },
    {
     "name": "stderr",
     "output_type": "stream",
     "text": [
      "[17:21:55] non-ring atom 3 marked aromatic\n"
     ]
    },
    {
     "name": "stdout",
     "output_type": "stream",
     "text": [
      "Setting up GOLD environment...\n",
      "GOLD Version 2021.2.0\n",
      "Running:\n",
      " \n",
      "     \"/home/benoit/CCDC/Discovery_2021/GOLD/gold/d_linux_64/bin/gold_linux_64\" \"/home/benoit/bioactive_conformation_predictor/gold_docking_postprocessing/1013/api_gold.conf\"\n",
      "\n"
     ]
    },
    {
     "name": "stderr",
     "output_type": "stream",
     "text": [
      "RDKit WARNING: [17:21:55] unknown|786|mol2|1|dock87: warning - O.co2 with non C.2 or S.o2 neighbor.\n",
      "RDKit WARNING: [17:21:55] unknown|786|mol2|1|dock49: warning - O.co2 with non C.2 or S.o2 neighbor.\n",
      "[17:21:55] unknown|786|mol2|1|dock87: warning - O.co2 with non C.2 or S.o2 neighbor.\n",
      "[17:21:55] unknown|786|mol2|1|dock49: warning - O.co2 with non C.2 or S.o2 neighbor.\n"
     ]
    },
    {
     "name": "stdout",
     "output_type": "stream",
     "text": [
      "0\n"
     ]
    },
    {
     "name": "stderr",
     "output_type": "stream",
     "text": [
      "RDKit WARNING: [17:21:56] unknown|786|mol2|1|dock24: warning - O.co2 with non C.2 or S.o2 neighbor.\n",
      "RDKit WARNING: [17:21:56] unknown|786|mol2|1|dock49: warning - O.co2 with non C.2 or S.o2 neighbor.\n",
      "[17:21:56] unknown|786|mol2|1|dock24: warning - O.co2 with non C.2 or S.o2 neighbor.\n",
      "[17:21:56] unknown|786|mol2|1|dock49: warning - O.co2 with non C.2 or S.o2 neighbor.\n"
     ]
    },
    {
     "name": "stdout",
     "output_type": "stream",
     "text": [
      "Starting GOLD with conf file /home/benoit/bioactive_conformation_predictor/gold_docking_postprocessing/787/api_gold.conf\n",
      "Setting up GOLD environment...\n",
      "GOLD Version 2021.2.0\n",
      "Running:\n",
      " \n",
      "     \"/home/benoit/CCDC/Discovery_2021/GOLD/gold/d_linux_64/bin/gold_linux_64\" \"/home/benoit/bioactive_conformation_predictor/gold_docking_postprocessing/787/api_gold.conf\"\n",
      "\n",
      "Starting GOLD with conf file /home/benoit/bioactive_conformation_predictor/gold_docking_postprocessing/870/api_gold.conf\n",
      "Setting up GOLD environment...\n",
      "GOLD Version 2021.2.0\n",
      "Running:\n",
      " \n",
      "     \"/home/benoit/CCDC/Discovery_2021/GOLD/gold/d_linux_64/bin/gold_linux_64\" \"/home/benoit/bioactive_conformation_predictor/gold_docking_postprocessing/870/api_gold.conf\"\n",
      "\n",
      "0\n",
      "0\n",
      "Error with smiles CC12C3(C)C4(C)C5(C)C1(C)[Ir+9]23451([ClH+])[n+]2ccc(O)cc2C(=O)[N@@H+]1CCCc1ccc(S(N)(=O)=O)cc1\n",
      "'NoneType' object has no attribute 'CalcEnergy'\n",
      "Starting GOLD with conf file /home/benoit/bioactive_conformation_predictor/gold_docking_postprocessing/896/api_gold.conf\n",
      "0\n",
      "Setting up GOLD environment...\n",
      "GOLD Version 2021.2.0\n",
      "Running:\n",
      " \n",
      "     \"/home/benoit/CCDC/Discovery_2021/GOLD/gold/d_linux_64/bin/gold_linux_64\" \"/home/benoit/bioactive_conformation_predictor/gold_docking_postprocessing/896/api_gold.conf\"\n",
      "\n",
      "Starting GOLD with conf file /home/benoit/bioactive_conformation_predictor/gold_docking_postprocessing/1032/api_gold.conf\n",
      "Setting up GOLD environment...\n",
      "GOLD Version 2021.2.0\n",
      "Running:\n",
      " \n",
      "     \"/home/benoit/CCDC/Discovery_2021/GOLD/gold/d_linux_64/bin/gold_linux_64\" \"/home/benoit/bioactive_conformation_predictor/gold_docking_postprocessing/1032/api_gold.conf\"\n",
      "\n",
      "Starting GOLD with conf file /home/benoit/bioactive_conformation_predictor/gold_docking_postprocessing/989/api_gold.conf\n",
      "Setting up GOLD environment...\n",
      "GOLD Version 2021.2.0\n",
      "Running:\n",
      " \n",
      "     \"/home/benoit/CCDC/Discovery_2021/GOLD/gold/d_linux_64/bin/gold_linux_64\" \"/home/benoit/bioactive_conformation_predictor/gold_docking_postprocessing/989/api_gold.conf\"\n",
      "\n",
      "Starting GOLD with conf file /home/benoit/bioactive_conformation_predictor/gold_docking_postprocessing/767/api_gold.conf\n",
      "Setting up GOLD environment...\n",
      "GOLD Version 2021.2.0\n",
      "Running:\n",
      " \n",
      "     \"/home/benoit/CCDC/Discovery_2021/GOLD/gold/d_linux_64/bin/gold_linux_64\" \"/home/benoit/bioactive_conformation_predictor/gold_docking_postprocessing/767/api_gold.conf\"\n",
      "\n",
      "0\n",
      "Starting GOLD with conf file /home/benoit/bioactive_conformation_predictor/gold_docking_postprocessing/848/api_gold.conf\n",
      "Setting up GOLD environment...\n",
      "GOLD Version 2021.2.0\n",
      "Running:\n",
      " \n",
      "     \"/home/benoit/CCDC/Discovery_2021/GOLD/gold/d_linux_64/bin/gold_linux_64\" \"/home/benoit/bioactive_conformation_predictor/gold_docking_postprocessing/848/api_gold.conf\"\n",
      "\n",
      "0\n",
      "0\n",
      "0\n",
      "0\n",
      "0\n",
      "0\n",
      "Starting GOLD with conf file /home/benoit/bioactive_conformation_predictor/gold_docking_postprocessing/871/api_gold.conf\n",
      "Starting GOLD with conf file /home/benoit/bioactive_conformation_predictor/gold_docking_postprocessing/990/api_gold.conf\n",
      "Setting up GOLD environment...\n",
      "GOLD Version 2021.2.0\n",
      "Running:\n",
      " \n",
      "     \"/home/benoit/CCDC/Discovery_2021/GOLD/gold/d_linux_64/bin/gold_linux_64\" \"/home/benoit/bioactive_conformation_predictor/gold_docking_postprocessing/871/api_gold.conf\"\n",
      "\n",
      "Setting up GOLD environment...\n",
      "GOLD Version 2021.2.0\n",
      "Running:\n",
      " \n",
      "     \"/home/benoit/CCDC/Discovery_2021/GOLD/gold/d_linux_64/bin/gold_linux_64\" \"/home/benoit/bioactive_conformation_predictor/gold_docking_postprocessing/990/api_gold.conf\"\n",
      "\n",
      "0\n",
      "0\n"
     ]
    },
    {
     "name": "stderr",
     "output_type": "stream",
     "text": [
      "RDKit WARNING: [17:22:22] unknown|767|mol2|1|dock29: warning - O.co2 with non C.2 or S.o2 neighbor.\n",
      "RDKit WARNING: [17:22:22] unknown|767|mol2|1|dock21: warning - O.co2 with non C.2 or S.o2 neighbor.\n",
      "[17:22:22] unknown|767|mol2|1|dock29: warning - O.co2 with non C.2 or S.o2 neighbor.\n",
      "[17:22:22] unknown|767|mol2|1|dock21: warning - O.co2 with non C.2 or S.o2 neighbor.\n",
      "RDKit WARNING: [17:22:22] unknown|767|mol2|1|dock51: warning - O.co2 with non C.2 or S.o2 neighbor.\n",
      "RDKit WARNING: [17:22:22] unknown|767|mol2|1|dock32: warning - O.co2 with non C.2 or S.o2 neighbor.\n",
      "[17:22:22] unknown|767|mol2|1|dock51: warning - O.co2 with non C.2 or S.o2 neighbor.\n",
      "[17:22:22] unknown|767|mol2|1|dock32: warning - O.co2 with non C.2 or S.o2 neighbor.\n",
      "RDKit WARNING: [17:22:23] unknown|767|mol2|1|dock97: warning - O.co2 with non C.2 or S.o2 neighbor.\n",
      "RDKit WARNING: [17:22:23] unknown|767|mol2|1|dock28: warning - O.co2 with non C.2 or S.o2 neighbor.\n",
      "[17:22:23] unknown|767|mol2|1|dock97: warning - O.co2 with non C.2 or S.o2 neighbor.\n",
      "[17:22:23] unknown|767|mol2|1|dock28: warning - O.co2 with non C.2 or S.o2 neighbor.\n"
     ]
    },
    {
     "name": "stdout",
     "output_type": "stream",
     "text": [
      "Starting GOLD with conf file /home/benoit/bioactive_conformation_predictor/gold_docking_postprocessing/788/api_gold.conf\n",
      "Setting up GOLD environment...\n",
      "GOLD Version 2021.2.0\n",
      "Running:\n",
      " \n",
      "     \"/home/benoit/CCDC/Discovery_2021/GOLD/gold/d_linux_64/bin/gold_linux_64\" \"/home/benoit/bioactive_conformation_predictor/gold_docking_postprocessing/788/api_gold.conf\"\n",
      "\n",
      "Starting GOLD with conf file /home/benoit/bioactive_conformation_predictor/gold_docking_postprocessing/1056/api_gold.conf\n",
      "Setting up GOLD environment...\n",
      "GOLD Version 2021.2.0\n",
      "Running:\n",
      " \n",
      "     \"/home/benoit/CCDC/Discovery_2021/GOLD/gold/d_linux_64/bin/gold_linux_64\" \"/home/benoit/bioactive_conformation_predictor/gold_docking_postprocessing/1056/api_gold.conf\"\n",
      "\n",
      "0\n",
      "Starting GOLD with conf file /home/benoit/bioactive_conformation_predictor/gold_docking_postprocessing/944/api_gold.conf\n",
      "Starting GOLD with conf file /home/benoit/bioactive_conformation_predictor/gold_docking_postprocessing/1014/api_gold.conf\n",
      "Setting up GOLD environment...\n",
      "Setting up GOLD environment...\n",
      "GOLD Version 2021.2.0\n",
      "Running:\n",
      " \n",
      "     \"/home/benoit/CCDC/Discovery_2021/GOLD/gold/d_linux_64/bin/gold_linux_64\" \"/home/benoit/bioactive_conformation_predictor/gold_docking_postprocessing/944/api_gold.conf\"\n",
      "\n",
      "GOLD Version 2021.2.0\n",
      "Running:\n",
      " \n",
      "     \"/home/benoit/CCDC/Discovery_2021/GOLD/gold/d_linux_64/bin/gold_linux_64\" \"/home/benoit/bioactive_conformation_predictor/gold_docking_postprocessing/1014/api_gold.conf\"\n",
      "\n",
      "Error with smiles NC(=[NH2+])c1ccc([C@@H]2Cc3ccccc3B([OH2+])O2)cc1OCc1cccnc1\n",
      "'NoneType' object has no attribute 'CalcEnergy'\n",
      "Starting GOLD with conf file /home/benoit/bioactive_conformation_predictor/gold_docking_postprocessing/897/api_gold.conf\n",
      "Setting up GOLD environment...\n",
      "GOLD Version 2021.2.0\n",
      "Running:\n",
      " \n",
      "     \"/home/benoit/CCDC/Discovery_2021/GOLD/gold/d_linux_64/bin/gold_linux_64\" \"/home/benoit/bioactive_conformation_predictor/gold_docking_postprocessing/897/api_gold.conf\"\n",
      "\n",
      "Starting GOLD with conf file /home/benoit/bioactive_conformation_predictor/gold_docking_postprocessing/1033/api_gold.conf\n",
      "Setting up GOLD environment...\n",
      "GOLD Version 2021.2.0\n",
      "Running:\n",
      " \n",
      "     \"/home/benoit/CCDC/Discovery_2021/GOLD/gold/d_linux_64/bin/gold_linux_64\" \"/home/benoit/bioactive_conformation_predictor/gold_docking_postprocessing/1033/api_gold.conf\"\n",
      "\n",
      "Starting GOLD with conf file /home/benoit/bioactive_conformation_predictor/gold_docking_postprocessing/919/api_gold.conf\n",
      "Starting GOLD with conf file /home/benoit/bioactive_conformation_predictor/gold_docking_postprocessing/836/api_gold.conf\n",
      "Setting up GOLD environment...\n",
      "GOLD Version 2021.2.0\n",
      "Running:\n",
      " \n",
      "     \"/home/benoit/CCDC/Discovery_2021/GOLD/gold/d_linux_64/bin/gold_linux_64\" \"/home/benoit/bioactive_conformation_predictor/gold_docking_postprocessing/919/api_gold.conf\"\n",
      "\n",
      "Setting up GOLD environment...\n",
      "GOLD Version 2021.2.0\n",
      "Running:\n",
      " \n",
      "     \"/home/benoit/CCDC/Discovery_2021/GOLD/gold/d_linux_64/bin/gold_linux_64\" \"/home/benoit/bioactive_conformation_predictor/gold_docking_postprocessing/836/api_gold.conf\"\n",
      "\n",
      "0\n",
      "0\n",
      "0\n",
      "0\n",
      "0\n",
      "0\n",
      "0\n",
      "Starting GOLD with conf file /home/benoit/bioactive_conformation_predictor/gold_docking_postprocessing/872/api_gold.conf\n",
      "Setting up GOLD environment...\n",
      "GOLD Version 2021.2.0\n",
      "Running:\n",
      " \n",
      "     \"/home/benoit/CCDC/Discovery_2021/GOLD/gold/d_linux_64/bin/gold_linux_64\" \"/home/benoit/bioactive_conformation_predictor/gold_docking_postprocessing/872/api_gold.conf\"\n",
      "\n",
      "0\n",
      "Starting GOLD with conf file /home/benoit/bioactive_conformation_predictor/gold_docking_postprocessing/965/api_gold.conf\n",
      "0\n",
      "Starting GOLD with conf file /home/benoit/bioactive_conformation_predictor/gold_docking_postprocessing/789/api_gold.conf\n",
      "Setting up GOLD environment...\n",
      "GOLD Version 2021.2.0\n",
      "Running:\n",
      " \n",
      "     \"/home/benoit/CCDC/Discovery_2021/GOLD/gold/d_linux_64/bin/gold_linux_64\" \"/home/benoit/bioactive_conformation_predictor/gold_docking_postprocessing/965/api_gold.conf\"\n",
      "\n",
      "Setting up GOLD environment...\n",
      "GOLD Version 2021.2.0\n",
      "Running:\n",
      " \n",
      "     \"/home/benoit/CCDC/Discovery_2021/GOLD/gold/d_linux_64/bin/gold_linux_64\" \"/home/benoit/bioactive_conformation_predictor/gold_docking_postprocessing/789/api_gold.conf\"\n",
      "\n",
      "Starting GOLD with conf file /home/benoit/bioactive_conformation_predictor/gold_docking_postprocessing/1015/api_gold.conf\n",
      "Starting GOLD with conf file /home/benoit/bioactive_conformation_predictor/gold_docking_postprocessing/1034/api_gold.conf\n",
      "Setting up GOLD environment...\n",
      "GOLD Version 2021.2.0\n",
      "Setting up GOLD environment...\n",
      "Running:\n",
      " \n",
      "     \"/home/benoit/CCDC/Discovery_2021/GOLD/gold/d_linux_64/bin/gold_linux_64\" \"/home/benoit/bioactive_conformation_predictor/gold_docking_postprocessing/1015/api_gold.conf\"\n",
      "\n",
      "Starting GOLD with conf file /home/benoit/bioactive_conformation_predictor/gold_docking_postprocessing/837/api_gold.conf\n",
      "GOLD Version 2021.2.0\n",
      "Running:\n",
      " \n",
      "     \"/home/benoit/CCDC/Discovery_2021/GOLD/gold/d_linux_64/bin/gold_linux_64\" \"/home/benoit/bioactive_conformation_predictor/gold_docking_postprocessing/1034/api_gold.conf\"\n",
      "\n",
      "0\n",
      "Setting up GOLD environment...\n",
      "GOLD Version 2021.2.0\n",
      "Running:\n",
      " \n",
      "     \"/home/benoit/CCDC/Discovery_2021/GOLD/gold/d_linux_64/bin/gold_linux_64\" \"/home/benoit/bioactive_conformation_predictor/gold_docking_postprocessing/837/api_gold.conf\"\n",
      "\n",
      "Starting GOLD with conf file /home/benoit/bioactive_conformation_predictor/gold_docking_postprocessing/920/api_gold.conf\n",
      "Starting GOLD with conf file /home/benoit/bioactive_conformation_predictor/gold_docking_postprocessing/945/api_gold.conf\n",
      "Setting up GOLD environment...\n",
      "GOLD Version 2021.2.0\n",
      "Running:\n",
      " \n",
      "     \"/home/benoit/CCDC/Discovery_2021/GOLD/gold/d_linux_64/bin/gold_linux_64\" \"/home/benoit/bioactive_conformation_predictor/gold_docking_postprocessing/920/api_gold.conf\"\n",
      "\n",
      "Setting up GOLD environment...\n",
      "GOLD Version 2021.2.0\n",
      "Running:\n",
      " \n",
      "     \"/home/benoit/CCDC/Discovery_2021/GOLD/gold/d_linux_64/bin/gold_linux_64\" \"/home/benoit/bioactive_conformation_predictor/gold_docking_postprocessing/945/api_gold.conf\"\n",
      "\n",
      "Starting GOLD with conf file /home/benoit/bioactive_conformation_predictor/gold_docking_postprocessing/849/api_gold.conf\n",
      "Setting up GOLD environment...\n",
      "GOLD Version 2021.2.0\n",
      "Running:\n",
      " \n",
      "     \"/home/benoit/CCDC/Discovery_2021/GOLD/gold/d_linux_64/bin/gold_linux_64\" \"/home/benoit/bioactive_conformation_predictor/gold_docking_postprocessing/849/api_gold.conf\"\n",
      "\n",
      "0\n",
      "0\n",
      "Starting GOLD with conf file /home/benoit/bioactive_conformation_predictor/gold_docking_postprocessing/991/api_gold.conf\n",
      "Setting up GOLD environment...\n",
      "GOLD Version 2021.2.0\n",
      "Running:\n",
      " \n",
      "     \"/home/benoit/CCDC/Discovery_2021/GOLD/gold/d_linux_64/bin/gold_linux_64\" \"/home/benoit/bioactive_conformation_predictor/gold_docking_postprocessing/991/api_gold.conf\"\n",
      "\n",
      "Starting GOLD with conf file /home/benoit/bioactive_conformation_predictor/gold_docking_postprocessing/790/api_gold.conf\n",
      "Setting up GOLD environment...\n",
      "GOLD Version 2021.2.0\n",
      "Running:\n",
      " \n",
      "     \"/home/benoit/CCDC/Discovery_2021/GOLD/gold/d_linux_64/bin/gold_linux_64\" \"/home/benoit/bioactive_conformation_predictor/gold_docking_postprocessing/790/api_gold.conf\"\n",
      "\n",
      "0\n",
      "Starting GOLD with conf file /home/benoit/bioactive_conformation_predictor/gold_docking_postprocessing/898/api_gold.conf\n",
      "Setting up GOLD environment...\n",
      "GOLD Version 2021.2.0\n",
      "Running:\n",
      " \n",
      "     \"/home/benoit/CCDC/Discovery_2021/GOLD/gold/d_linux_64/bin/gold_linux_64\" \"/home/benoit/bioactive_conformation_predictor/gold_docking_postprocessing/898/api_gold.conf\"\n",
      "\n",
      "0\n",
      "0\n",
      "0\n",
      "0\n",
      "Starting GOLD with conf file /home/benoit/bioactive_conformation_predictor/gold_docking_postprocessing/992/api_gold.conf\n",
      "Starting GOLD with conf file /home/benoit/bioactive_conformation_predictor/gold_docking_postprocessing/946/api_gold.conf\n",
      "Setting up GOLD environment...\n",
      "GOLD Version 2021.2.0\n",
      "Setting up GOLD environment...\n",
      "Running:\n",
      " \n",
      "     \"/home/benoit/CCDC/Discovery_2021/GOLD/gold/d_linux_64/bin/gold_linux_64\" \"/home/benoit/bioactive_conformation_predictor/gold_docking_postprocessing/992/api_gold.conf\"\n",
      "\n",
      "GOLD Version 2021.2.0\n",
      "Running:\n",
      " \n",
      "     \"/home/benoit/CCDC/Discovery_2021/GOLD/gold/d_linux_64/bin/gold_linux_64\" \"/home/benoit/bioactive_conformation_predictor/gold_docking_postprocessing/946/api_gold.conf\"\n",
      "\n",
      "0\n",
      "0\n",
      "0\n",
      "Starting GOLD with conf file /home/benoit/bioactive_conformation_predictor/gold_docking_postprocessing/966/api_gold.conf"
     ]
    },
    {
     "name": "stderr",
     "output_type": "stream",
     "text": [
      "RDKit WARNING: [17:23:13] unknown|1056|mol2|1|dock17: warning - O.co2 with non C.2 or S.o2 neighbor.\n",
      "RDKit WARNING: [17:23:13] unknown|1056|mol2|1|dock17: warning - O.co2 with non C.2 or S.o2 neighbor.\n"
     ]
    },
    {
     "name": "stdout",
     "output_type": "stream",
     "text": [
      "\n"
     ]
    },
    {
     "name": "stderr",
     "output_type": "stream",
     "text": [
      "[17:23:13] unknown|1056|mol2|1|dock17: warning - O.co2 with non C.2 or S.o2 neighbor.\n",
      "[17:23:13] unknown|1056|mol2|1|dock17: warning - O.co2 with non C.2 or S.o2 neighbor.\n"
     ]
    },
    {
     "name": "stdout",
     "output_type": "stream",
     "text": [
      "Setting up GOLD environment...\n",
      "GOLD Version 2021.2.0\n",
      "Running:\n",
      " \n",
      "     \"/home/benoit/CCDC/Discovery_2021/GOLD/gold/d_linux_64/bin/gold_linux_64\" \"/home/benoit/bioactive_conformation_predictor/gold_docking_postprocessing/966/api_gold.conf\"\n",
      "\n",
      "0\n"
     ]
    },
    {
     "name": "stderr",
     "output_type": "stream",
     "text": [
      "RDKit WARNING: [17:23:14] unknown|1056|mol2|1|dock66: warning - O.co2 with non C.2 or S.o2 neighbor.\n",
      "RDKit WARNING: [17:23:14] unknown|1056|mol2|1|dock83: warning - O.co2 with non C.2 or S.o2 neighbor.\n",
      "[17:23:14] unknown|1056|mol2|1|dock66: warning - O.co2 with non C.2 or S.o2 neighbor.\n",
      "[17:23:14] unknown|1056|mol2|1|dock83: warning - O.co2 with non C.2 or S.o2 neighbor.\n",
      "RDKit WARNING: [17:23:14] unknown|1056|mol2|1|dock17: warning - O.co2 with non C.2 or S.o2 neighbor.\n",
      "RDKit WARNING: [17:23:14] unknown|1056|mol2|1|dock17: warning - O.co2 with non C.2 or S.o2 neighbor.\n"
     ]
    },
    {
     "name": "stdout",
     "output_type": "stream",
     "text": [
      "0"
     ]
    },
    {
     "name": "stderr",
     "output_type": "stream",
     "text": [
      "[17:23:14] unknown|1056|mol2|1|dock17: warning - O.co2 with non C.2 or S.o2 neighbor.\n",
      "[17:23:14] unknown|1056|mol2|1|dock17: warning - O.co2 with non C.2 or S.o2 neighbor.\n"
     ]
    },
    {
     "name": "stdout",
     "output_type": "stream",
     "text": [
      "\n",
      "Starting GOLD with conf file /home/benoit/bioactive_conformation_predictor/gold_docking_postprocessing/873/api_gold.conf\n",
      "Starting GOLD with conf file /home/benoit/bioactive_conformation_predictor/gold_docking_postprocessing/1057/api_gold.conf\n",
      "Setting up GOLD environment...\n",
      "GOLD Version 2021.2.0\n",
      "Running:\n",
      " \n",
      "     \"/home/benoit/CCDC/Discovery_2021/GOLD/gold/d_linux_64/bin/gold_linux_64\" \"/home/benoit/bioactive_conformation_predictor/gold_docking_postprocessing/873/api_gold.conf\"\n",
      "\n",
      "Setting up GOLD environment...\n",
      "GOLD Version 2021.2.0\n",
      "Running:\n",
      " \n",
      "     \"/home/benoit/CCDC/Discovery_2021/GOLD/gold/d_linux_64/bin/gold_linux_64\" \"/home/benoit/bioactive_conformation_predictor/gold_docking_postprocessing/1057/api_gold.conf\"\n",
      "\n",
      "Starting GOLD with conf file /home/benoit/bioactive_conformation_predictor/gold_docking_postprocessing/850/api_gold.conf\n",
      "Setting up GOLD environment...\n",
      "GOLD Version 2021.2.0\n",
      "Running:\n",
      " \n",
      "     \"/home/benoit/CCDC/Discovery_2021/GOLD/gold/d_linux_64/bin/gold_linux_64\" \"/home/benoit/bioactive_conformation_predictor/gold_docking_postprocessing/850/api_gold.conf\"\n",
      "\n",
      "0\n",
      "0\n",
      "Starting GOLD with conf file /home/benoit/bioactive_conformation_predictor/gold_docking_postprocessing/1035/api_gold.conf\n",
      "Setting up GOLD environment...\n",
      "GOLD Version 2021.2.0\n",
      "Running:\n",
      " \n",
      "     \"/home/benoit/CCDC/Discovery_2021/GOLD/gold/d_linux_64/bin/gold_linux_64\" \"/home/benoit/bioactive_conformation_predictor/gold_docking_postprocessing/1035/api_gold.conf\"\n",
      "\n",
      "Starting GOLD with conf file /home/benoit/bioactive_conformation_predictor/gold_docking_postprocessing/1016/api_gold.conf\n",
      "Starting GOLD with conf file /home/benoit/bioactive_conformation_predictor/gold_docking_postprocessing/791/api_gold.conf\n"
     ]
    },
    {
     "name": "stderr",
     "output_type": "stream",
     "text": [
      "RDKit WARNING: [17:23:23] unknown|837|mol2|1|dock14: warning - O.co2 with non C.2 or S.o2 neighbor.\n",
      "RDKit WARNING: [17:23:23] unknown|837|mol2|1|dock97: warning - O.co2 with non C.2 or S.o2 neighbor.\n"
     ]
    },
    {
     "name": "stdout",
     "output_type": "stream",
     "text": [
      "Setting up GOLD environment...\n",
      "GOLD Version 2021.2.0\n",
      "Running:\n",
      " \n",
      "     \"/home/benoit/CCDC/Discovery_2021/GOLD/gold/d_linux_64/bin/gold_linux_64\" \"/home/benoit/bioactive_conformation_predictor/gold_docking_postprocessing/1016/api_gold.conf\"\n",
      "\n"
     ]
    },
    {
     "name": "stderr",
     "output_type": "stream",
     "text": [
      "[17:23:23] unknown|837|mol2|1|dock14: warning - O.co2 with non C.2 or S.o2 neighbor.\n",
      "[17:23:23] unknown|837|mol2|1|dock97: warning - O.co2 with non C.2 or S.o2 neighbor.\n"
     ]
    },
    {
     "name": "stdout",
     "output_type": "stream",
     "text": [
      "0\n",
      "Setting up GOLD environment...\n",
      "GOLD Version 2021.2.0\n",
      "Running:\n",
      " \n",
      "     \"/home/benoit/CCDC/Discovery_2021/GOLD/gold/d_linux_64/bin/gold_linux_64\" \"/home/benoit/bioactive_conformation_predictor/gold_docking_postprocessing/791/api_gold.conf\"\n",
      "\n"
     ]
    },
    {
     "name": "stderr",
     "output_type": "stream",
     "text": [
      "RDKit WARNING: [17:23:24] unknown|837|mol2|1|dock73: warning - O.co2 with non C.2 or S.o2 neighbor.\n",
      "RDKit WARNING: [17:23:24] unknown|837|mol2|1|dock73: warning - O.co2 with non C.2 or S.o2 neighbor.\n"
     ]
    },
    {
     "name": "stdout",
     "output_type": "stream",
     "text": [
      "0\n"
     ]
    },
    {
     "name": "stderr",
     "output_type": "stream",
     "text": [
      "[17:23:24] unknown|837|mol2|1|dock73: warning - O.co2 with non C.2 or S.o2 neighbor.\n",
      "[17:23:24] unknown|837|mol2|1|dock73: warning - O.co2 with non C.2 or S.o2 neighbor.\n",
      "RDKit WARNING: [17:23:24] unknown|837|mol2|1|dock81: warning - O.co2 with non C.2 or S.o2 neighbor.\n",
      "RDKit WARNING: [17:23:24] unknown|837|mol2|1|dock23: warning - O.co2 with non C.2 or S.o2 neighbor.\n",
      "[17:23:24] unknown|837|mol2|1|dock81: warning - O.co2 with non C.2 or S.o2 neighbor.\n",
      "[17:23:24] unknown|837|mol2|1|dock23: warning - O.co2 with non C.2 or S.o2 neighbor.\n"
     ]
    },
    {
     "name": "stdout",
     "output_type": "stream",
     "text": [
      "Starting GOLD with conf file /home/benoit/bioactive_conformation_predictor/gold_docking_postprocessing/838/api_gold.conf\n",
      "Setting up GOLD environment...\n",
      "GOLD Version 2021.2.0\n",
      "Running:\n",
      " \n",
      "     \"/home/benoit/CCDC/Discovery_2021/GOLD/gold/d_linux_64/bin/gold_linux_64\" \"/home/benoit/bioactive_conformation_predictor/gold_docking_postprocessing/838/api_gold.conf\"\n",
      "\n",
      "Starting GOLD with conf file /home/benoit/bioactive_conformation_predictor/gold_docking_postprocessing/947/api_gold.conf\n",
      "Setting up GOLD environment...\n",
      "GOLD Version 2021.2.0\n",
      "Running:\n",
      " \n",
      "     \"/home/benoit/CCDC/Discovery_2021/GOLD/gold/d_linux_64/bin/gold_linux_64\" \"/home/benoit/bioactive_conformation_predictor/gold_docking_postprocessing/947/api_gold.conf\"\n",
      "\n",
      "Starting GOLD with conf file /home/benoit/bioactive_conformation_predictor/gold_docking_postprocessing/967/api_gold.conf\n",
      "Setting up GOLD environment...\n",
      "GOLD Version 2021.2.0\n",
      "Running:\n",
      " \n",
      "     \"/home/benoit/CCDC/Discovery_2021/GOLD/gold/d_linux_64/bin/gold_linux_64\" \"/home/benoit/bioactive_conformation_predictor/gold_docking_postprocessing/967/api_gold.conf\"\n",
      "\n",
      "Starting GOLD with conf file /home/benoit/bioactive_conformation_predictor/gold_docking_postprocessing/921/api_gold.conf\n",
      "Setting up GOLD environment...\n",
      "GOLD Version 2021.2.0\n",
      "Running:\n",
      " \n",
      "     \"/home/benoit/CCDC/Discovery_2021/GOLD/gold/d_linux_64/bin/gold_linux_64\" \"/home/benoit/bioactive_conformation_predictor/gold_docking_postprocessing/921/api_gold.conf\"\n",
      "\n",
      "Starting GOLD with conf file /home/benoit/bioactive_conformation_predictor/gold_docking_postprocessing/899/api_gold.conf\n",
      "Setting up GOLD environment...\n",
      "GOLD Version 2021.2.0\n",
      "Running:\n",
      " \n",
      "     \"/home/benoit/CCDC/Discovery_2021/GOLD/gold/d_linux_64/bin/gold_linux_64\" \"/home/benoit/bioactive_conformation_predictor/gold_docking_postprocessing/899/api_gold.conf\"\n",
      "\n",
      "0\n",
      "Starting GOLD with conf file /home/benoit/bioactive_conformation_predictor/gold_docking_postprocessing/968/api_gold.conf\n",
      "Setting up GOLD environment...\n",
      "GOLD Version 2021.2.0\n",
      "Running:\n",
      " \n",
      "     \"/home/benoit/CCDC/Discovery_2021/GOLD/gold/d_linux_64/bin/gold_linux_64\" \"/home/benoit/bioactive_conformation_predictor/gold_docking_postprocessing/968/api_gold.conf\"\n",
      "\n",
      "0\n",
      "0\n",
      "0\n",
      "0\n",
      "0\n",
      "0\n",
      "0\n",
      "0\n"
     ]
    },
    {
     "name": "stderr",
     "output_type": "stream",
     "text": [
      "RDKit WARNING: [17:23:50] unknown|873|mol2|1|dock45: warning - O.co2 with non C.2 or S.o2 neighbor.\n",
      "RDKit WARNING: [17:23:50] unknown|873|mol2|1|dock68: warning - O.co2 with non C.2 or S.o2 neighbor.\n",
      "[17:23:50] unknown|873|mol2|1|dock45: warning - O.co2 with non C.2 or S.o2 neighbor.\n",
      "[17:23:50] unknown|873|mol2|1|dock68: warning - O.co2 with non C.2 or S.o2 neighbor.\n",
      "RDKit WARNING: [17:23:50] unknown|873|mol2|1|dock10: warning - O.co2 with non C.2 or S.o2 neighbor.\n",
      "RDKit WARNING: [17:23:50] unknown|873|mol2|1|dock25: warning - O.co2 with non C.2 or S.o2 neighbor.\n",
      "[17:23:50] unknown|873|mol2|1|dock10: warning - O.co2 with non C.2 or S.o2 neighbor.\n",
      "[17:23:50] unknown|873|mol2|1|dock25: warning - O.co2 with non C.2 or S.o2 neighbor.\n",
      "RDKit WARNING: [17:23:50] unknown|873|mol2|1|dock38: warning - O.co2 with non C.2 or S.o2 neighbor.\n",
      "RDKit WARNING: [17:23:50] unknown|873|mol2|1|dock25: warning - O.co2 with non C.2 or S.o2 neighbor.\n",
      "[17:23:50] unknown|873|mol2|1|dock38: warning - O.co2 with non C.2 or S.o2 neighbor.\n",
      "[17:23:50] unknown|873|mol2|1|dock25: warning - O.co2 with non C.2 or S.o2 neighbor.\n"
     ]
    },
    {
     "name": "stdout",
     "output_type": "stream",
     "text": [
      "Starting GOLD with conf file /home/benoit/bioactive_conformation_predictor/gold_docking_postprocessing/874/api_gold.conf\n",
      "0\n",
      "Setting up GOLD environment...\n",
      "GOLD Version 2021.2.0\n",
      "Running:\n",
      " \n",
      "     \"/home/benoit/CCDC/Discovery_2021/GOLD/gold/d_linux_64/bin/gold_linux_64\" \"/home/benoit/bioactive_conformation_predictor/gold_docking_postprocessing/874/api_gold.conf\"\n",
      "\n",
      "Starting GOLD with conf file /home/benoit/bioactive_conformation_predictor/gold_docking_postprocessing/993/api_gold.conf\n",
      "Starting GOLD with conf file /home/benoit/bioactive_conformation_predictor/gold_docking_postprocessing/1017/api_gold.conf\n",
      "Setting up GOLD environment...\n",
      "GOLD Version 2021.2.0\n",
      "Running:\n",
      " \n",
      "     \"/home/benoit/CCDC/Discovery_2021/GOLD/gold/d_linux_64/bin/gold_linux_64\" \"/home/benoit/bioactive_conformation_predictor/gold_docking_postprocessing/993/api_gold.conf\"\n",
      "\n",
      "Setting up GOLD environment...\n",
      "GOLD Version 2021.2.0\n",
      "Running:\n",
      " \n",
      "     \"/home/benoit/CCDC/Discovery_2021/GOLD/gold/d_linux_64/bin/gold_linux_64\" \"/home/benoit/bioactive_conformation_predictor/gold_docking_postprocessing/1017/api_gold.conf\"\n",
      "\n",
      "Starting GOLD with conf file /home/benoit/bioactive_conformation_predictor/gold_docking_postprocessing/851/api_gold.confStarting GOLD with conf file /home/benoit/bioactive_conformation_predictor/gold_docking_postprocessing/922/api_gold.conf\n",
      "\n",
      "Setting up GOLD environment...\n",
      "GOLD Version 2021.2.0\n",
      "Running:\n",
      " \n",
      "     \"/home/benoit/CCDC/Discovery_2021/GOLD/gold/d_linux_64/bin/gold_linux_64\" \"/home/benoit/bioactive_conformation_predictor/gold_docking_postprocessing/851/api_gold.conf\"\n",
      "\n",
      "Setting up GOLD environment...\n",
      "GOLD Version 2021.2.0\n",
      "Running:\n",
      " \n",
      "     \"/home/benoit/CCDC/Discovery_2021/GOLD/gold/d_linux_64/bin/gold_linux_64\" \"/home/benoit/bioactive_conformation_predictor/gold_docking_postprocessing/922/api_gold.conf\"\n",
      "\n"
     ]
    },
    {
     "name": "stderr",
     "output_type": "stream",
     "text": [
      "RDKit WARNING: [17:23:57] unknown|1057|mol2|1|dock5: warning - O.co2 with non C.2 or S.o2 neighbor.\n",
      "RDKit WARNING: [17:23:57] unknown|1057|mol2|1|dock84: warning - O.co2 with non C.2 or S.o2 neighbor.\n",
      "RDKit WARNING: [17:23:57] unknown|791|mol2|1|dock15: warning - O.co2 with non C.2 or S.o2 neighbor.\n",
      "RDKit WARNING: [17:23:57] unknown|791|mol2|1|dock33: warning - O.co2 with non C.2 or S.o2 neighbor.\n",
      "[17:23:57] unknown|1057|mol2|1|dock5: warning - O.co2 with non C.2 or S.o2 neighbor.\n",
      "[17:23:57] unknown|1057|mol2|1|dock84: warning - O.co2 with non C.2 or S.o2 neighbor.\n",
      "[17:23:57] unknown|791|mol2|1|dock15: warning - O.co2 with non C.2 or S.o2 neighbor.\n",
      "[17:23:57] unknown|791|mol2|1|dock33: warning - O.co2 with non C.2 or S.o2 neighbor.\n",
      "RDKit WARNING: [17:23:57] unknown|947|mol2|1|dock28: warning - O.co2 with non C.2 or S.o2 neighbor.\n",
      "RDKit WARNING: [17:23:57] unknown|947|mol2|1|dock100: warning - O.co2 with non C.2 or S.o2 neighbor.\n",
      "[17:23:57] unknown|947|mol2|1|dock28: warning - O.co2 with non C.2 or S.o2 neighbor.\n",
      "[17:23:57] unknown|947|mol2|1|dock100: warning - O.co2 with non C.2 or S.o2 neighbor.\n",
      "RDKit WARNING: [17:23:57] unknown|1057|mol2|1|dock80: warning - O.co2 with non C.2 or S.o2 neighbor.\n",
      "RDKit WARNING: [17:23:57] unknown|1057|mol2|1|dock3: warning - O.co2 with non C.2 or S.o2 neighbor.\n",
      "RDKit WARNING: [17:23:57] unknown|947|mol2|1|dock12: warning - O.co2 with non C.2 or S.o2 neighbor.\n",
      "RDKit WARNING: [17:23:57] unknown|947|mol2|1|dock100: warning - O.co2 with non C.2 or S.o2 neighbor.\n",
      "RDKit WARNING: [17:23:57] unknown|791|mol2|1|dock57: warning - O.co2 with non C.2 or S.o2 neighbor.\n"
     ]
    },
    {
     "name": "stdout",
     "output_type": "stream",
     "text": [
      "Starting GOLD with conf file /home/benoit/bioactive_conformation_predictor/gold_docking_postprocessing/900/api_gold.conf"
     ]
    },
    {
     "name": "stderr",
     "output_type": "stream",
     "text": [
      "RDKit WARNING: [17:23:57] unknown|791|mol2|1|dock31: warning - O.co2 with non C.2 or S.o2 neighbor.\n"
     ]
    },
    {
     "name": "stdout",
     "output_type": "stream",
     "text": [
      "\n"
     ]
    },
    {
     "name": "stderr",
     "output_type": "stream",
     "text": [
      "[17:23:57] unknown|1057|mol2|1|dock80: warning - O.co2 with non C.2 or S.o2 neighbor.\n",
      "[17:23:57] unknown|1057|mol2|1|dock3: warning - O.co2 with non C.2 or S.o2 neighbor.\n",
      "[17:23:57] unknown|947|mol2|1|dock12: warning - O.co2 with non C.2 or S.o2 neighbor.\n",
      "[17:23:57] unknown|947|mol2|1|dock100: warning - O.co2 with non C.2 or S.o2 neighbor.\n",
      "[17:23:57] unknown|791|mol2|1|dock57: warning - O.co2 with non C.2 or S.o2 neighbor.\n",
      "[17:23:57] unknown|791|mol2|1|dock31: warning - O.co2 with non C.2 or S.o2 neighbor.\n",
      "RDKit WARNING: [17:23:58] unknown|947|mol2|1|dock96: warning - O.co2 with non C.2 or S.o2 neighbor.\n",
      "RDKit WARNING: [17:23:58] unknown|947|mol2|1|dock9: warning - O.co2 with non C.2 or S.o2 neighbor.\n"
     ]
    },
    {
     "name": "stdout",
     "output_type": "stream",
     "text": [
      "Setting up GOLD environment...\n",
      "GOLD Version 2021.2.0\n",
      "Running:\n",
      " \n",
      "     \"/home/benoit/CCDC/Discovery_2021/GOLD/gold/d_linux_64/bin/gold_linux_64\" \"/home/benoit/bioactive_conformation_predictor/gold_docking_postprocessing/900/api_gold.conf\"\n",
      "\n"
     ]
    },
    {
     "name": "stderr",
     "output_type": "stream",
     "text": [
      "RDKit WARNING: [17:23:58] unknown|1057|mol2|1|dock5: warning - O.co2 with non C.2 or S.o2 neighbor.\n",
      "RDKit WARNING: [17:23:58] unknown|1057|mol2|1|dock84: warning - O.co2 with non C.2 or S.o2 neighbor.\n",
      "[17:23:58] unknown|947|mol2|1|dock96: warning - O.co2 with non C.2 or S.o2 neighbor.\n",
      "[17:23:58] unknown|947|mol2|1|dock9: warning - O.co2 with non C.2 or S.o2 neighbor.\n",
      "[17:23:58] unknown|1057|mol2|1|dock5: warning - O.co2 with non C.2 or S.o2 neighbor.\n",
      "[17:23:58] unknown|1057|mol2|1|dock84: warning - O.co2 with non C.2 or S.o2 neighbor.\n",
      "RDKit WARNING: [17:23:58] unknown|791|mol2|1|dock82: warning - O.co2 with non C.2 or S.o2 neighbor.\n",
      "RDKit WARNING: [17:23:58] unknown|791|mol2|1|dock31: warning - O.co2 with non C.2 or S.o2 neighbor.\n"
     ]
    },
    {
     "name": "stdout",
     "output_type": "stream",
     "text": [
      "Starting GOLD with conf file /home/benoit/bioactive_conformation_predictor/gold_docking_postprocessing/1058/api_gold.conf\n"
     ]
    },
    {
     "name": "stderr",
     "output_type": "stream",
     "text": [
      "[17:23:58] unknown|791|mol2|1|dock82: warning - O.co2 with non C.2 or S.o2 neighbor.\n",
      "[17:23:58] unknown|791|mol2|1|dock31: warning - O.co2 with non C.2 or S.o2 neighbor.\n"
     ]
    },
    {
     "name": "stdout",
     "output_type": "stream",
     "text": [
      "Starting GOLD with conf file /home/benoit/bioactive_conformation_predictor/gold_docking_postprocessing/948/api_gold.conf\n",
      "Starting GOLD with conf file /home/benoit/bioactive_conformation_predictor/gold_docking_postprocessing/1080/api_gold.conf\n",
      "Setting up GOLD environment...\n",
      "Setting up GOLD environment...\n",
      "GOLD Version 2021.2.0\n",
      "Running:\n",
      " \n",
      "     \"/home/benoit/CCDC/Discovery_2021/GOLD/gold/d_linux_64/bin/gold_linux_64\" \"/home/benoit/bioactive_conformation_predictor/gold_docking_postprocessing/1058/api_gold.conf\"\n",
      "\n",
      "GOLD Version 2021.2.0\n",
      "Running:\n",
      " \n",
      "     \"/home/benoit/CCDC/Discovery_2021/GOLD/gold/d_linux_64/bin/gold_linux_64\" \"/home/benoit/bioactive_conformation_predictor/gold_docking_postprocessing/948/api_gold.conf\"\n",
      "\n",
      "Setting up GOLD environment...\n",
      "GOLD Version 2021.2.0\n",
      "Running:\n",
      " \n",
      "     \"/home/benoit/CCDC/Discovery_2021/GOLD/gold/d_linux_64/bin/gold_linux_64\" \"/home/benoit/bioactive_conformation_predictor/gold_docking_postprocessing/1080/api_gold.conf\"\n",
      "\n",
      "0\n",
      "0\n",
      "0\n",
      "0\n",
      "Starting GOLD with conf file /home/benoit/bioactive_conformation_predictor/gold_docking_postprocessing/923/api_gold.conf\n",
      "Setting up GOLD environment...\n",
      "GOLD Version 2021.2.0\n",
      "Running:\n",
      " \n",
      "     \"/home/benoit/CCDC/Discovery_2021/GOLD/gold/d_linux_64/bin/gold_linux_64\" \"/home/benoit/bioactive_conformation_predictor/gold_docking_postprocessing/923/api_gold.conf\"\n",
      "\n",
      "0\n",
      "0\n",
      "Starting GOLD with conf file /home/benoit/bioactive_conformation_predictor/gold_docking_postprocessing/1018/api_gold.conf\n",
      "0\n",
      "Setting up GOLD environment...\n",
      "GOLD Version 2021.2.0\n",
      "Running:\n",
      " \n",
      "     \"/home/benoit/CCDC/Discovery_2021/GOLD/gold/d_linux_64/bin/gold_linux_64\" \"/home/benoit/bioactive_conformation_predictor/gold_docking_postprocessing/1018/api_gold.conf\"\n",
      "\n"
     ]
    },
    {
     "name": "stderr",
     "output_type": "stream",
     "text": [
      "RDKit WARNING: [17:24:16] unknown|968|mol2|1|dock19: warning - O.co2 with non C.2 or S.o2 neighbor.\n",
      "RDKit WARNING: [17:24:16] unknown|968|mol2|1|dock7: warning - O.co2 with non C.2 or S.o2 neighbor.\n"
     ]
    },
    {
     "name": "stdout",
     "output_type": "stream",
     "text": [
      "0\n",
      "Starting GOLD with conf file /home/benoit/bioactive_conformation_predictor/gold_docking_postprocessing/994/api_gold.conf"
     ]
    },
    {
     "name": "stderr",
     "output_type": "stream",
     "text": [
      "[17:24:16] unknown|968|mol2|1|dock19: warning - O.co2 with non C.2 or S.o2 neighbor.\n",
      "[17:24:16] unknown|968|mol2|1|dock7: warning - O.co2 with non C.2 or S.o2 neighbor.\n"
     ]
    },
    {
     "name": "stdout",
     "output_type": "stream",
     "text": [
      "\n",
      "Setting up GOLD environment...\n",
      "GOLD Version 2021.2.0\n",
      "Running:\n",
      " \n",
      "     \"/home/benoit/CCDC/Discovery_2021/GOLD/gold/d_linux_64/bin/gold_linux_64\" \"/home/benoit/bioactive_conformation_predictor/gold_docking_postprocessing/994/api_gold.conf\"\n",
      "\n"
     ]
    },
    {
     "name": "stderr",
     "output_type": "stream",
     "text": [
      "RDKit WARNING: [17:24:17] unknown|968|mol2|1|dock12: warning - O.co2 with non C.2 or S.o2 neighbor.\n",
      "RDKit WARNING: [17:24:17] unknown|968|mol2|1|dock46: warning - O.co2 with non C.2 or S.o2 neighbor.\n",
      "[17:24:17] unknown|968|mol2|1|dock12: warning - O.co2 with non C.2 or S.o2 neighbor.\n",
      "[17:24:17] unknown|968|mol2|1|dock46: warning - O.co2 with non C.2 or S.o2 neighbor.\n"
     ]
    },
    {
     "name": "stdout",
     "output_type": "stream",
     "text": [
      "0\n"
     ]
    },
    {
     "name": "stderr",
     "output_type": "stream",
     "text": [
      "RDKit WARNING: [17:24:18] unknown|968|mol2|1|dock41: warning - O.co2 with non C.2 or S.o2 neighbor.\n",
      "RDKit WARNING: [17:24:18] unknown|968|mol2|1|dock27: warning - O.co2 with non C.2 or S.o2 neighbor.\n",
      "[17:24:18] unknown|968|mol2|1|dock41: warning - O.co2 with non C.2 or S.o2 neighbor.\n",
      "[17:24:18] unknown|968|mol2|1|dock27: warning - O.co2 with non C.2 or S.o2 neighbor.\n"
     ]
    },
    {
     "name": "stdout",
     "output_type": "stream",
     "text": [
      "Starting GOLD with conf file /home/benoit/bioactive_conformation_predictor/gold_docking_postprocessing/969/api_gold.conf\n",
      "Setting up GOLD environment...\n",
      "GOLD Version 2021.2.0\n",
      "Running:\n",
      " \n",
      "     \"/home/benoit/CCDC/Discovery_2021/GOLD/gold/d_linux_64/bin/gold_linux_64\" \"/home/benoit/bioactive_conformation_predictor/gold_docking_postprocessing/969/api_gold.conf\"\n",
      "\n"
     ]
    },
    {
     "name": "stderr",
     "output_type": "stream",
     "text": [
      "RDKit ERROR: [17:24:20] Can't kekulize mol.  Unkekulized atoms: 18 19 20 24 25\n",
      "RDKit ERROR: \n",
      "RDKit ERROR: [17:24:20] Can't kekulize mol.  Unkekulized atoms: 18 19 20 24 25\n",
      "RDKit ERROR: \n"
     ]
    },
    {
     "name": "stdout",
     "output_type": "stream",
     "text": [
      "Starting GOLD with conf file /home/benoit/bioactive_conformation_predictor/gold_docking_postprocessing/1059/api_gold.conf\n"
     ]
    },
    {
     "name": "stderr",
     "output_type": "stream",
     "text": [
      "[17:24:20] Can't kekulize mol.  Unkekulized atoms: 18 19 20 24 25\n",
      "\n",
      "[17:24:20] Can't kekulize mol.  Unkekulized atoms: 18 19 20 24 25\n",
      "\n"
     ]
    },
    {
     "name": "stdout",
     "output_type": "stream",
     "text": [
      "Setting up GOLD environment...\n",
      "GOLD Version 2021.2.0\n",
      "Running:\n",
      " \n",
      "     \"/home/benoit/CCDC/Discovery_2021/GOLD/gold/d_linux_64/bin/gold_linux_64\" \"/home/benoit/bioactive_conformation_predictor/gold_docking_postprocessing/1059/api_gold.conf\"\n",
      "\n",
      "0\n"
     ]
    },
    {
     "name": "stderr",
     "output_type": "stream",
     "text": [
      "RDKit ERROR: [17:24:21] Can't kekulize mol.  Unkekulized atoms: 18 19 20 24 25\n",
      "RDKit ERROR: \n",
      "RDKit ERROR: [17:24:21] Can't kekulize mol.  Unkekulized atoms: 18 19 20 24 25\n",
      "RDKit ERROR: \n",
      "[17:24:21] Can't kekulize mol.  Unkekulized atoms: 18 19 20 24 25\n",
      "\n",
      "[17:24:21] Can't kekulize mol.  Unkekulized atoms: 18 19 20 24 25\n",
      "\n",
      "RDKit ERROR: [17:24:22] Can't kekulize mol.  Unkekulized atoms: 18 19 20 24 25\n",
      "RDKit ERROR: \n",
      "RDKit ERROR: [17:24:22] Can't kekulize mol.  Unkekulized atoms: 18 19 20 24 25\n",
      "RDKit ERROR: \n",
      "[17:24:22] Can't kekulize mol.  Unkekulized atoms: 18 19 20 24 25\n",
      "\n",
      "[17:24:22] Can't kekulize mol.  Unkekulized atoms: 18 19 20 24 25\n",
      "\n"
     ]
    },
    {
     "name": "stdout",
     "output_type": "stream",
     "text": [
      "Starting GOLD with conf file /home/benoit/bioactive_conformation_predictor/gold_docking_postprocessing/852/api_gold.conf\n",
      "0\n",
      "Setting up GOLD environment...\n",
      "GOLD Version 2021.2.0\n",
      "Running:\n",
      " \n",
      "     \"/home/benoit/CCDC/Discovery_2021/GOLD/gold/d_linux_64/bin/gold_linux_64\" \"/home/benoit/bioactive_conformation_predictor/gold_docking_postprocessing/852/api_gold.conf\"\n",
      "\n",
      "Starting GOLD with conf file /home/benoit/bioactive_conformation_predictor/gold_docking_postprocessing/1081/api_gold.conf\n",
      "Setting up GOLD environment...\n",
      "GOLD Version 2021.2.0\n",
      "Running:\n",
      " \n",
      "     \"/home/benoit/CCDC/Discovery_2021/GOLD/gold/d_linux_64/bin/gold_linux_64\" \"/home/benoit/bioactive_conformation_predictor/gold_docking_postprocessing/1081/api_gold.conf\"\n",
      "\n",
      "Starting GOLD with conf file /home/benoit/bioactive_conformation_predictor/gold_docking_postprocessing/901/api_gold.conf\n",
      "Setting up GOLD environment...\n",
      "GOLD Version 2021.2.0\n",
      "Running:\n",
      " \n",
      "     \"/home/benoit/CCDC/Discovery_2021/GOLD/gold/d_linux_64/bin/gold_linux_64\" \"/home/benoit/bioactive_conformation_predictor/gold_docking_postprocessing/901/api_gold.conf\"\n",
      "\n",
      "0\n",
      "Starting GOLD with conf file /home/benoit/bioactive_conformation_predictor/gold_docking_postprocessing/924/api_gold.conf\n",
      "Setting up GOLD environment...\n",
      "GOLD Version 2021.2.0\n",
      "Running:\n",
      " \n",
      "     \"/home/benoit/CCDC/Discovery_2021/GOLD/gold/d_linux_64/bin/gold_linux_64\" \"/home/benoit/bioactive_conformation_predictor/gold_docking_postprocessing/924/api_gold.conf\"\n",
      "\n",
      "Starting GOLD with conf file /home/benoit/bioactive_conformation_predictor/gold_docking_postprocessing/1036/api_gold.conf\n",
      "Setting up GOLD environment...\n",
      "GOLD Version 2021.2.0\n",
      "Running:\n",
      " \n",
      "     \"/home/benoit/CCDC/Discovery_2021/GOLD/gold/d_linux_64/bin/gold_linux_64\" \"/home/benoit/bioactive_conformation_predictor/gold_docking_postprocessing/1036/api_gold.conf\"\n",
      "\n"
     ]
    },
    {
     "name": "stderr",
     "output_type": "stream",
     "text": [
      "RDKit WARNING: [17:24:32] unknown|948|mol2|1|dock84: warning - O.co2 with non C.2 or S.o2 neighbor.\n",
      "RDKit WARNING: [17:24:32] unknown|948|mol2|1|dock90: warning - O.co2 with non C.2 or S.o2 neighbor.\n",
      "[17:24:32] unknown|948|mol2|1|dock84: warning - O.co2 with non C.2 or S.o2 neighbor.\n",
      "[17:24:32] unknown|948|mol2|1|dock90: warning - O.co2 with non C.2 or S.o2 neighbor.\n",
      "RDKit WARNING: [17:24:32] unknown|948|mol2|1|dock84: warning - O.co2 with non C.2 or S.o2 neighbor.\n",
      "RDKit WARNING: [17:24:32] unknown|948|mol2|1|dock3: warning - O.co2 with non C.2 or S.o2 neighbor.\n",
      "[17:24:32] unknown|948|mol2|1|dock84: warning - O.co2 with non C.2 or S.o2 neighbor.\n",
      "[17:24:32] unknown|948|mol2|1|dock3: warning - O.co2 with non C.2 or S.o2 neighbor.\n",
      "RDKit WARNING: [17:24:33] unknown|948|mol2|1|dock84: warning - O.co2 with non C.2 or S.o2 neighbor.\n",
      "RDKit WARNING: [17:24:33] unknown|948|mol2|1|dock3: warning - O.co2 with non C.2 or S.o2 neighbor.\n"
     ]
    },
    {
     "name": "stdout",
     "output_type": "stream",
     "text": [
      "Starting GOLD with conf file /home/benoit/bioactive_conformation_predictor/gold_docking_postprocessing/839/api_gold.conf\n"
     ]
    },
    {
     "name": "stderr",
     "output_type": "stream",
     "text": [
      "[17:24:33] unknown|948|mol2|1|dock84: warning - O.co2 with non C.2 or S.o2 neighbor.\n",
      "[17:24:33] unknown|948|mol2|1|dock3: warning - O.co2 with non C.2 or S.o2 neighbor.\n"
     ]
    },
    {
     "name": "stdout",
     "output_type": "stream",
     "text": [
      "Starting GOLD with conf file /home/benoit/bioactive_conformation_predictor/gold_docking_postprocessing/949/api_gold.conf\n",
      "Setting up GOLD environment...\n",
      "GOLD Version 2021.2.0\n",
      "Running:\n",
      " \n",
      "     \"/home/benoit/CCDC/Discovery_2021/GOLD/gold/d_linux_64/bin/gold_linux_64\" \"/home/benoit/bioactive_conformation_predictor/gold_docking_postprocessing/839/api_gold.conf\"\n",
      "\n",
      "0\n",
      "Setting up GOLD environment...\n",
      "GOLD Version 2021.2.0\n",
      "Running:\n",
      " \n",
      "     \"/home/benoit/CCDC/Discovery_2021/GOLD/gold/d_linux_64/bin/gold_linux_64\" \"/home/benoit/bioactive_conformation_predictor/gold_docking_postprocessing/949/api_gold.conf\"\n",
      "\n",
      "0\n",
      "0\n",
      "0\n"
     ]
    },
    {
     "name": "stderr",
     "output_type": "stream",
     "text": [
      "RDKit WARNING: [17:19:11] sanitise [17:19:11] unknown|843|mol2|1|dock80: [17:19:11] sanitise [17:19:11] unknown|843|mol2|1|dock80: [17:19:11] sanitise [17:19:11] unknown|843|mol2|1|dock50: [17:19:11] sanitise [17:19:11] unknown|843|mol2|1|dock72: [17:19:12] sanitise [17:19:12] unknown|843|mol2|1|dock24: [17:19:12] sanitise [17:19:12] unknown|843|mol2|1|dock3: [17:24:20] sanitise [17:24:20] unknown|851|mol2|1|dock80: [17:24:20] sanitise [17:24:20] unknown|851|mol2|1|dock73: [17:24:21] sanitise [17:24:21] unknown|851|mol2|1|dock35: [17:24:21] sanitise [17:24:21] unknown|851|mol2|1|dock56: [17:24:22] sanitise [17:24:22] unknown|851|mol2|1|dock68: [17:24:22] sanitise [17:24:22] unknown|851|mol2|1|dock25: [17:24:37] unknown|852|mol2|1|dock80: warning - O.co2 with non C.2 or S.o2 neighbor.\n",
      "RDKit WARNING: [17:24:37] unknown|852|mol2|1|dock52: warning - O.co2 with non C.2 or S.o2 neighbor.\n",
      "[17:19:11] sanitise [17:19:11] unknown|843|mol2|1|dock80: [17:19:11] sanitise [17:19:11] unknown|843|mol2|1|dock80: [17:19:11] sanitise [17:19:11] unknown|843|mol2|1|dock50: [17:19:11] sanitise [17:19:11] unknown|843|mol2|1|dock72: [17:19:12] sanitise [17:19:12] unknown|843|mol2|1|dock24: [17:19:12] sanitise [17:19:12] unknown|843|mol2|1|dock3: [17:24:20] sanitise [17:24:20] unknown|851|mol2|1|dock80: [17:24:20] sanitise [17:24:20] unknown|851|mol2|1|dock73: [17:24:21] sanitise [17:24:21] unknown|851|mol2|1|dock35: [17:24:21] sanitise [17:24:21] unknown|851|mol2|1|dock56: [17:24:22] sanitise [17:24:22] unknown|851|mol2|1|dock68: [17:24:22] sanitise [17:24:22] unknown|851|mol2|1|dock25: [17:24:37] unknown|852|mol2|1|dock80: warning - O.co2 with non C.2 or S.o2 neighbor.\n",
      "[17:24:37] unknown|852|mol2|1|dock52: warning - O.co2 with non C.2 or S.o2 neighbor.\n",
      "RDKit WARNING: [17:24:37] unknown|852|mol2|1|dock80: warning - O.co2 with non C.2 or S.o2 neighbor.\n",
      "RDKit WARNING: [17:24:37] unknown|852|mol2|1|dock52: warning - O.co2 with non C.2 or S.o2 neighbor.\n",
      "[17:24:37] unknown|852|mol2|1|dock80: warning - O.co2 with non C.2 or S.o2 neighbor.\n",
      "[17:24:37] unknown|852|mol2|1|dock52: warning - O.co2 with non C.2 or S.o2 neighbor.\n",
      "RDKit WARNING: [17:24:38] unknown|852|mol2|1|dock80: warning - O.co2 with non C.2 or S.o2 neighbor.\n",
      "RDKit WARNING: [17:24:38] unknown|852|mol2|1|dock23: warning - O.co2 with non C.2 or S.o2 neighbor.\n",
      "[17:24:38] unknown|852|mol2|1|dock80: warning - O.co2 with non C.2 or S.o2 neighbor.\n",
      "[17:24:38] unknown|852|mol2|1|dock23: warning - O.co2 with non C.2 or S.o2 neighbor.\n"
     ]
    },
    {
     "name": "stdout",
     "output_type": "stream",
     "text": [
      "0\n",
      "Starting GOLD with conf file /home/benoit/bioactive_conformation_predictor/gold_docking_postprocessing/853/api_gold.conf\n",
      "0\n",
      "Setting up GOLD environment...\n",
      "GOLD Version 2021.2.0\n",
      "Running:\n",
      " \n",
      "     \"/home/benoit/CCDC/Discovery_2021/GOLD/gold/d_linux_64/bin/gold_linux_64\" \"/home/benoit/bioactive_conformation_predictor/gold_docking_postprocessing/853/api_gold.conf\"\n",
      "\n",
      "Starting GOLD with conf file /home/benoit/bioactive_conformation_predictor/gold_docking_postprocessing/902/api_gold.conf\n",
      "Setting up GOLD environment...\n",
      "GOLD Version 2021.2.0\n",
      "Running:\n",
      " \n",
      "     \"/home/benoit/CCDC/Discovery_2021/GOLD/gold/d_linux_64/bin/gold_linux_64\" \"/home/benoit/bioactive_conformation_predictor/gold_docking_postprocessing/902/api_gold.conf\"\n",
      "\n",
      "0\n",
      "Starting GOLD with conf file /home/benoit/bioactive_conformation_predictor/gold_docking_postprocessing/1019/api_gold.conf\n",
      "0\n",
      "Setting up GOLD environment...\n",
      "GOLD Version 2021.2.0\n",
      "Running:\n",
      " \n",
      "     \"/home/benoit/CCDC/Discovery_2021/GOLD/gold/d_linux_64/bin/gold_linux_64\" \"/home/benoit/bioactive_conformation_predictor/gold_docking_postprocessing/1019/api_gold.conf\"\n",
      "\n",
      "Starting GOLD with conf file /home/benoit/bioactive_conformation_predictor/gold_docking_postprocessing/970/api_gold.conf\n",
      "0\n",
      "Setting up GOLD environment...\n",
      "GOLD Version 2021.2.0\n",
      "Running:\n",
      " \n",
      "     \"/home/benoit/CCDC/Discovery_2021/GOLD/gold/d_linux_64/bin/gold_linux_64\" \"/home/benoit/bioactive_conformation_predictor/gold_docking_postprocessing/970/api_gold.conf\"\n",
      "\n",
      "0\n",
      "Starting GOLD with conf file /home/benoit/bioactive_conformation_predictor/gold_docking_postprocessing/1060/api_gold.conf\n",
      "Setting up GOLD environment...\n",
      "GOLD Version 2021.2.0\n",
      "Running:\n",
      " \n",
      "     \"/home/benoit/CCDC/Discovery_2021/GOLD/gold/d_linux_64/bin/gold_linux_64\" \"/home/benoit/bioactive_conformation_predictor/gold_docking_postprocessing/1060/api_gold.conf\"\n",
      "\n",
      "Starting GOLD with conf file /home/benoit/bioactive_conformation_predictor/gold_docking_postprocessing/995/api_gold.conf\n",
      "0\n",
      "Setting up GOLD environment...\n",
      "GOLD Version 2021.2.0\n",
      "Running:\n",
      " \n",
      "     \"/home/benoit/CCDC/Discovery_2021/GOLD/gold/d_linux_64/bin/gold_linux_64\" \"/home/benoit/bioactive_conformation_predictor/gold_docking_postprocessing/995/api_gold.conf\"\n",
      "\n",
      "Starting GOLD with conf file /home/benoit/bioactive_conformation_predictor/gold_docking_postprocessing/1037/api_gold.conf\n",
      "Starting GOLD with conf file /home/benoit/bioactive_conformation_predictor/gold_docking_postprocessing/925/api_gold.conf\n",
      "Setting up GOLD environment...\n",
      "GOLD Version 2021.2.0\n",
      "Running:\n",
      " \n",
      "     \"/home/benoit/CCDC/Discovery_2021/GOLD/gold/d_linux_64/bin/gold_linux_64\" \"/home/benoit/bioactive_conformation_predictor/gold_docking_postprocessing/1037/api_gold.conf\"\n",
      "\n",
      "Setting up GOLD environment...\n",
      "GOLD Version 2021.2.0\n",
      "Running:\n",
      " \n",
      "     \"/home/benoit/CCDC/Discovery_2021/GOLD/gold/d_linux_64/bin/gold_linux_64\" \"/home/benoit/bioactive_conformation_predictor/gold_docking_postprocessing/925/api_gold.conf\"\n",
      "\n",
      "Starting GOLD with conf file /home/benoit/bioactive_conformation_predictor/gold_docking_postprocessing/1104/api_gold.conf\n",
      "0\n",
      "Setting up GOLD environment...\n",
      "GOLD Version 2021.2.0\n",
      "Running:\n",
      " \n",
      "     \"/home/benoit/CCDC/Discovery_2021/GOLD/gold/d_linux_64/bin/gold_linux_64\" \"/home/benoit/bioactive_conformation_predictor/gold_docking_postprocessing/1104/api_gold.conf\"\n",
      "\n",
      "Starting GOLD with conf file /home/benoit/bioactive_conformation_predictor/gold_docking_postprocessing/1082/api_gold.conf\n",
      "Setting up GOLD environment...\n",
      "GOLD Version 2021.2.0\n",
      "Running:\n",
      " \n",
      "     \"/home/benoit/CCDC/Discovery_2021/GOLD/gold/d_linux_64/bin/gold_linux_64\" \"/home/benoit/bioactive_conformation_predictor/gold_docking_postprocessing/1082/api_gold.conf\"\n",
      "\n"
     ]
    },
    {
     "name": "stderr",
     "output_type": "stream",
     "text": [
      "RDKit ERROR: [17:24:58] non-ring atom 6 marked aromatic\n",
      "RDKit ERROR: [17:24:58] non-ring atom 6 marked aromatic\n",
      "[17:24:58] non-ring atom 6 marked aromatic\n",
      "[17:24:58] non-ring atom 6 marked aromatic\n",
      "RDKit ERROR: [17:24:59] non-ring atom 6 marked aromatic\n",
      "RDKit ERROR: [17:24:59] non-ring atom 6 marked aromatic\n",
      "[17:24:59] non-ring atom 6 marked aromatic\n",
      "[17:24:59] non-ring atom 6 marked aromatic\n",
      "RDKit ERROR: [17:24:59] non-ring atom 6 marked aromatic\n",
      "RDKit ERROR: [17:24:59] non-ring atom 6 marked aromatic\n"
     ]
    },
    {
     "name": "stdout",
     "output_type": "stream",
     "text": [
      "Starting GOLD with conf file /home/benoit/bioactive_conformation_predictor/gold_docking_postprocessing/854/api_gold.conf\n"
     ]
    },
    {
     "name": "stderr",
     "output_type": "stream",
     "text": [
      "[17:24:59] non-ring atom 6 marked aromatic\n",
      "[17:24:59] non-ring atom 6 marked aromatic\n"
     ]
    },
    {
     "name": "stdout",
     "output_type": "stream",
     "text": [
      "Starting GOLD with conf file /home/benoit/bioactive_conformation_predictor/gold_docking_postprocessing/875/api_gold.conf\n",
      "Setting up GOLD environment...\n",
      "GOLD Version 2021.2.0\n",
      "Running:\n",
      " \n",
      "     \"/home/benoit/CCDC/Discovery_2021/GOLD/gold/d_linux_64/bin/gold_linux_64\" \"/home/benoit/bioactive_conformation_predictor/gold_docking_postprocessing/854/api_gold.conf\"\n",
      "\n",
      "Setting up GOLD environment...\n",
      "GOLD Version 2021.2.0\n",
      "Running:\n",
      " \n",
      "     \"/home/benoit/CCDC/Discovery_2021/GOLD/gold/d_linux_64/bin/gold_linux_64\" \"/home/benoit/bioactive_conformation_predictor/gold_docking_postprocessing/875/api_gold.conf\"\n",
      "\n",
      "0\n",
      "0\n",
      "0\n",
      "0\n",
      "Error with smiles c1ccc2c3n4c(c2c1)[N-]c1c2ccccc2c2n1[FeH2+7]41n4c(c5ccccc5c4[N-]c4c5ccccc5c(n41)[N-]2)[N-]3\n",
      "'NoneType' object has no attribute 'CalcEnergy'\n",
      "Starting GOLD with conf file /home/benoit/bioactive_conformation_predictor/gold_docking_postprocessing/926/api_gold.conf\n",
      "Setting up GOLD environment...\n",
      "GOLD Version 2021.2.0\n",
      "Running:\n",
      " \n",
      "     \"/home/benoit/CCDC/Discovery_2021/GOLD/gold/d_linux_64/bin/gold_linux_64\" \"/home/benoit/bioactive_conformation_predictor/gold_docking_postprocessing/926/api_gold.conf\"\n",
      "\n",
      "0\n"
     ]
    },
    {
     "name": "stderr",
     "output_type": "stream",
     "text": [
      "RDKit WARNING: [17:25:09] unknown|1082|mol2|1|dock75: warning - O.co2 with non C.2 or S.o2 neighbor.\n",
      "RDKit WARNING: [17:25:09] unknown|1082|mol2|1|dock79: warning - O.co2 with non C.2 or S.o2 neighbor.\n",
      "[17:25:09] unknown|1082|mol2|1|dock75: warning - O.co2 with non C.2 or S.o2 neighbor.\n",
      "[17:25:09] unknown|1082|mol2|1|dock79: warning - O.co2 with non C.2 or S.o2 neighbor.\n",
      "RDKit WARNING: [17:25:09] unknown|1082|mol2|1|dock75: warning - O.co2 with non C.2 or S.o2 neighbor.\n",
      "RDKit WARNING: [17:25:09] unknown|1082|mol2|1|dock52: warning - O.co2 with non C.2 or S.o2 neighbor.\n",
      "[17:25:09] unknown|1082|mol2|1|dock75: warning - O.co2 with non C.2 or S.o2 neighbor.\n",
      "[17:25:09] unknown|1082|mol2|1|dock52: warning - O.co2 with non C.2 or S.o2 neighbor.\n",
      "RDKit WARNING: [17:25:09] unknown|1082|mol2|1|dock75: warning - O.co2 with non C.2 or S.o2 neighbor.\n",
      "RDKit WARNING: [17:25:09] unknown|1082|mol2|1|dock99: warning - O.co2 with non C.2 or S.o2 neighbor.\n",
      "[17:25:09] unknown|1082|mol2|1|dock75: warning - O.co2 with non C.2 or S.o2 neighbor.\n",
      "[17:25:09] unknown|1082|mol2|1|dock99: warning - O.co2 with non C.2 or S.o2 neighbor.\n"
     ]
    },
    {
     "name": "stdout",
     "output_type": "stream",
     "text": [
      "Starting GOLD with conf file /home/benoit/bioactive_conformation_predictor/gold_docking_postprocessing/1083/api_gold.conf\n",
      "Setting up GOLD environment...\n",
      "GOLD Version 2021.2.0\n",
      "Running:\n",
      " \n",
      "     \"/home/benoit/CCDC/Discovery_2021/GOLD/gold/d_linux_64/bin/gold_linux_64\" \"/home/benoit/bioactive_conformation_predictor/gold_docking_postprocessing/1083/api_gold.conf\"\n",
      "\n"
     ]
    },
    {
     "name": "stderr",
     "output_type": "stream",
     "text": [
      "RDKit WARNING: [17:25:10] unknown|949|mol2|1|dock15: warning - O.co2 with non C.2 or S.o2 neighbor.\n",
      "RDKit WARNING: [17:25:10] unknown|949|mol2|1|dock15: warning - O.co2 with non C.2 or S.o2 neighbor.\n",
      "[17:25:10] unknown|949|mol2|1|dock15: warning - O.co2 with non C.2 or S.o2 neighbor.\n",
      "[17:25:10] unknown|949|mol2|1|dock15: warning - O.co2 with non C.2 or S.o2 neighbor.\n",
      "RDKit WARNING: [17:25:10] unknown|949|mol2|1|dock53: warning - O.co2 with non C.2 or S.o2 neighbor.\n",
      "RDKit WARNING: [17:25:11] unknown|949|mol2|1|dock31: warning - O.co2 with non C.2 or S.o2 neighbor.\n",
      "[17:25:10] unknown|949|mol2|1|dock53: warning - O.co2 with non C.2 or S.o2 neighbor.\n",
      "[17:25:11] unknown|949|mol2|1|dock31: warning - O.co2 with non C.2 or S.o2 neighbor.\n",
      "RDKit WARNING: [17:25:11] unknown|949|mol2|1|dock15: warning - O.co2 with non C.2 or S.o2 neighbor.\n",
      "RDKit WARNING: [17:25:11] unknown|949|mol2|1|dock15: warning - O.co2 with non C.2 or S.o2 neighbor.\n",
      "[17:25:11] unknown|949|mol2|1|dock15: warning - O.co2 with non C.2 or S.o2 neighbor.\n",
      "[17:25:11] unknown|949|mol2|1|dock15: warning - O.co2 with non C.2 or S.o2 neighbor.\n"
     ]
    },
    {
     "name": "stdout",
     "output_type": "stream",
     "text": [
      "Starting GOLD with conf file /home/benoit/bioactive_conformation_predictor/gold_docking_postprocessing/950/api_gold.conf\n",
      "Setting up GOLD environment...\n",
      "GOLD Version 2021.2.0\n",
      "Running:\n",
      " \n",
      "     \"/home/benoit/CCDC/Discovery_2021/GOLD/gold/d_linux_64/bin/gold_linux_64\" \"/home/benoit/bioactive_conformation_predictor/gold_docking_postprocessing/950/api_gold.conf\"\n",
      "\n",
      "Starting GOLD with conf file /home/benoit/bioactive_conformation_predictor/gold_docking_postprocessing/1020/api_gold.conf\n",
      "0\n",
      "Setting up GOLD environment...\n",
      "GOLD Version 2021.2.0\n",
      "Running:\n",
      " \n",
      "     \"/home/benoit/CCDC/Discovery_2021/GOLD/gold/d_linux_64/bin/gold_linux_64\" \"/home/benoit/bioactive_conformation_predictor/gold_docking_postprocessing/1020/api_gold.conf\"\n",
      "\n",
      "Starting GOLD with conf file /home/benoit/bioactive_conformation_predictor/gold_docking_postprocessing/1038/api_gold.conf\n",
      "Setting up GOLD environment...\n",
      "GOLD Version 2021.2.0\n",
      "Running:\n",
      " \n",
      "     \"/home/benoit/CCDC/Discovery_2021/GOLD/gold/d_linux_64/bin/gold_linux_64\" \"/home/benoit/bioactive_conformation_predictor/gold_docking_postprocessing/1038/api_gold.conf\"\n",
      "\n",
      "0\n",
      "0\n",
      "Starting GOLD with conf file /home/benoit/bioactive_conformation_predictor/gold_docking_postprocessing/1061/api_gold.conf\n",
      "0\n",
      "Setting up GOLD environment...\n",
      "GOLD Version 2021.2.0\n",
      "Running:\n",
      " \n",
      "     \"/home/benoit/CCDC/Discovery_2021/GOLD/gold/d_linux_64/bin/gold_linux_64\" \"/home/benoit/bioactive_conformation_predictor/gold_docking_postprocessing/1061/api_gold.conf\"\n",
      "\n",
      "0\n",
      "Starting GOLD with conf file /home/benoit/bioactive_conformation_predictor/gold_docking_postprocessing/855/api_gold.conf\n",
      "0\n",
      "Setting up GOLD environment...\n",
      "GOLD Version 2021.2.0\n",
      "Running:\n",
      " \n",
      "     \"/home/benoit/CCDC/Discovery_2021/GOLD/gold/d_linux_64/bin/gold_linux_64\" \"/home/benoit/bioactive_conformation_predictor/gold_docking_postprocessing/855/api_gold.conf\"\n",
      "\n",
      "Error with smiles CC(=O)N[C@@H](Cc1cccc2ccccc12)B(O)O\n",
      "'NoneType' object has no attribute 'CalcEnergy'\n",
      "Starting GOLD with conf file /home/benoit/bioactive_conformation_predictor/gold_docking_postprocessing/951/api_gold.conf\n",
      "0\n",
      "Setting up GOLD environment...\n",
      "GOLD Version 2021.2.0\n",
      "Running:\n",
      " \n",
      "     \"/home/benoit/CCDC/Discovery_2021/GOLD/gold/d_linux_64/bin/gold_linux_64\" \"/home/benoit/bioactive_conformation_predictor/gold_docking_postprocessing/951/api_gold.conf\"\n",
      "\n",
      "Starting GOLD with conf file /home/benoit/bioactive_conformation_predictor/gold_docking_postprocessing/996/api_gold.conf\n",
      "Setting up GOLD environment...\n",
      "GOLD Version 2021.2.0\n",
      "Running:\n",
      " \n",
      "     \"/home/benoit/CCDC/Discovery_2021/GOLD/gold/d_linux_64/bin/gold_linux_64\" \"/home/benoit/bioactive_conformation_predictor/gold_docking_postprocessing/996/api_gold.conf\"\n",
      "\n",
      "Starting GOLD with conf file /home/benoit/bioactive_conformation_predictor/gold_docking_postprocessing/903/api_gold.conf\n",
      "Setting up GOLD environment...\n",
      "GOLD Version 2021.2.0\n",
      "Running:\n",
      " \n",
      "     \"/home/benoit/CCDC/Discovery_2021/GOLD/gold/d_linux_64/bin/gold_linux_64\" \"/home/benoit/bioactive_conformation_predictor/gold_docking_postprocessing/903/api_gold.conf\"\n",
      "\n",
      "0\n",
      "Starting GOLD with conf file /home/benoit/bioactive_conformation_predictor/gold_docking_postprocessing/1039/api_gold.conf\n",
      "Setting up GOLD environment...\n",
      "GOLD Version 2021.2.0\n",
      "Running:\n",
      " \n",
      "     \"/home/benoit/CCDC/Discovery_2021/GOLD/gold/d_linux_64/bin/gold_linux_64\" \"/home/benoit/bioactive_conformation_predictor/gold_docking_postprocessing/1039/api_gold.conf\"\n",
      "\n",
      "Starting GOLD with conf file /home/benoit/bioactive_conformation_predictor/gold_docking_postprocessing/1021/api_gold.conf\n",
      "Setting up GOLD environment...\n",
      "GOLD Version 2021.2.0\n",
      "Running:\n",
      " \n",
      "     \"/home/benoit/CCDC/Discovery_2021/GOLD/gold/d_linux_64/bin/gold_linux_64\" \"/home/benoit/bioactive_conformation_predictor/gold_docking_postprocessing/1021/api_gold.conf\"\n",
      "\n",
      "Starting GOLD with conf file /home/benoit/bioactive_conformation_predictor/gold_docking_postprocessing/1105/api_gold.conf\n",
      "Setting up GOLD environment...\n",
      "GOLD Version 2021.2.0\n",
      "Running:\n",
      " \n",
      "     \"/home/benoit/CCDC/Discovery_2021/GOLD/gold/d_linux_64/bin/gold_linux_64\" \"/home/benoit/bioactive_conformation_predictor/gold_docking_postprocessing/1105/api_gold.conf\"\n",
      "\n",
      "0\n",
      "0\n",
      "0\n",
      "Starting GOLD with conf file /home/benoit/bioactive_conformation_predictor/gold_docking_postprocessing/927/api_gold.conf\n",
      "Setting up GOLD environment...\n",
      "GOLD Version 2021.2.0\n",
      "Running:\n",
      " \n",
      "     \"/home/benoit/CCDC/Discovery_2021/GOLD/gold/d_linux_64/bin/gold_linux_64\" \"/home/benoit/bioactive_conformation_predictor/gold_docking_postprocessing/927/api_gold.conf\"\n",
      "\n",
      "Starting GOLD with conf file /home/benoit/bioactive_conformation_predictor/gold_docking_postprocessing/1062/api_gold.conf\n",
      "Setting up GOLD environment...\n",
      "GOLD Version 2021.2.0\n",
      "Running:\n",
      " \n",
      "     \"/home/benoit/CCDC/Discovery_2021/GOLD/gold/d_linux_64/bin/gold_linux_64\" \"/home/benoit/bioactive_conformation_predictor/gold_docking_postprocessing/1062/api_gold.conf\"\n",
      "\n",
      "0\n",
      "0\n",
      "Starting GOLD with conf file /home/benoit/bioactive_conformation_predictor/gold_docking_postprocessing/952/api_gold.conf\n",
      "Setting up GOLD environment...\n",
      "GOLD Version 2021.2.0\n",
      "Running:\n",
      " \n",
      "     \"/home/benoit/CCDC/Discovery_2021/GOLD/gold/d_linux_64/bin/gold_linux_64\" \"/home/benoit/bioactive_conformation_predictor/gold_docking_postprocessing/952/api_gold.conf\"\n",
      "\n",
      "0\n",
      "0\n",
      "0\n"
     ]
    },
    {
     "name": "stderr",
     "output_type": "stream",
     "text": [
      "RDKit WARNING: [17:24:58] sanitise [17:24:58] unknown|853|mol2|1|dock78: [17:24:58] sanitise [17:24:58] unknown|853|mol2|1|dock45: [17:24:59] sanitise [17:24:59] unknown|853|mol2|1|dock78: [17:24:59] sanitise [17:24:59] unknown|853|mol2|1|dock11: [17:24:59] sanitise [17:24:59] unknown|853|mol2|1|dock32: [17:24:59] sanitise [17:24:59] unknown|853|mol2|1|dock83: [17:25:55] unknown|855|mol2|1|dock45: warning - O.co2 with non C.2 or S.o2 neighbor.\n",
      "RDKit WARNING: [17:25:55] unknown|855|mol2|1|dock81: warning - O.co2 with non C.2 or S.o2 neighbor.\n",
      "[17:24:58] sanitise [17:24:58] unknown|853|mol2|1|dock78: [17:24:58] sanitise [17:24:58] unknown|853|mol2|1|dock45: [17:24:59] sanitise [17:24:59] unknown|853|mol2|1|dock78: [17:24:59] sanitise [17:24:59] unknown|853|mol2|1|dock11: [17:24:59] sanitise [17:24:59] unknown|853|mol2|1|dock32: [17:24:59] sanitise [17:24:59] unknown|853|mol2|1|dock83: [17:25:55] unknown|855|mol2|1|dock45: warning - O.co2 with non C.2 or S.o2 neighbor.\n",
      "[17:25:55] unknown|855|mol2|1|dock81: warning - O.co2 with non C.2 or S.o2 neighbor.\n",
      "RDKit WARNING: [17:25:55] unknown|855|mol2|1|dock45: warning - O.co2 with non C.2 or S.o2 neighbor.\n",
      "RDKit WARNING: [17:25:55] unknown|855|mol2|1|dock61: warning - O.co2 with non C.2 or S.o2 neighbor.\n",
      "RDKit WARNING: [17:25:55] unknown|855|mol2|1|dock45: warning - O.co2 with non C.2 or S.o2 neighbor.\n",
      "[17:25:55] unknown|855|mol2|1|dock45: warning - O.co2 with non C.2 or S.o2 neighbor.\n",
      "[17:25:55] unknown|855|mol2|1|dock61: warning - O.co2 with non C.2 or S.o2 neighbor.\n",
      "[17:25:55] unknown|855|mol2|1|dock45: warning - O.co2 with non C.2 or S.o2 neighbor.\n",
      "[17:25:55] unknown|855|mol2|1|dock61: warning - O.co2 with non C.2 or S.o2 neighbor.\n",
      "RDKit WARNING: [17:25:55] unknown|855|mol2|1|dock61: warning - O.co2 with non C.2 or S.o2 neighbor.\n"
     ]
    },
    {
     "name": "stdout",
     "output_type": "stream",
     "text": [
      "Starting GOLD with conf file /home/benoit/bioactive_conformation_predictor/gold_docking_postprocessing/856/api_gold.conf\n",
      "Setting up GOLD environment...\n",
      "GOLD Version 2021.2.0\n",
      "Running:\n",
      " \n",
      "     \"/home/benoit/CCDC/Discovery_2021/GOLD/gold/d_linux_64/bin/gold_linux_64\" \"/home/benoit/bioactive_conformation_predictor/gold_docking_postprocessing/856/api_gold.conf\"\n",
      "\n",
      "0\n",
      "0\n",
      "Starting GOLD with conf file /home/benoit/bioactive_conformation_predictor/gold_docking_postprocessing/1022/api_gold.conf\n",
      "Setting up GOLD environment...\n",
      "GOLD Version 2021.2.0\n",
      "Running:\n",
      " \n",
      "     \"/home/benoit/CCDC/Discovery_2021/GOLD/gold/d_linux_64/bin/gold_linux_64\" \"/home/benoit/bioactive_conformation_predictor/gold_docking_postprocessing/1022/api_gold.conf\"\n",
      "\n",
      "Starting GOLD with conf file /home/benoit/bioactive_conformation_predictor/gold_docking_postprocessing/1040/api_gold.conf\n",
      "Setting up GOLD environment...\n",
      "GOLD Version 2021.2.0\n",
      "Running:\n",
      " \n",
      "     \"/home/benoit/CCDC/Discovery_2021/GOLD/gold/d_linux_64/bin/gold_linux_64\" \"/home/benoit/bioactive_conformation_predictor/gold_docking_postprocessing/1040/api_gold.conf\"\n",
      "\n",
      "1\n",
      "Error with smiles CCCCCCCCCCCCCCCCCCCC(=O)[O-]\n",
      "Error: could not find any GOLD solution files using conf file /home/benoit/bioactive_conformation_predictor/gold_docking_postprocessing/1040/api_gold.conf\n",
      "Fatal error: \n",
      "set_pdb_type: unable to set atom type of name GA   in pdb entry serial no 2527\n",
      "\n",
      "Starting GOLD with conf file /home/benoit/bioactive_conformation_predictor/gold_docking_postprocessing/1041/api_gold.conf\n",
      "Setting up GOLD environment...\n",
      "GOLD Version 2021.2.0\n",
      "Running:\n",
      " \n",
      "     \"/home/benoit/CCDC/Discovery_2021/GOLD/gold/d_linux_64/bin/gold_linux_64\" \"/home/benoit/bioactive_conformation_predictor/gold_docking_postprocessing/1041/api_gold.conf\"\n",
      "\n",
      "0\n",
      "0\n",
      "0\n",
      "Starting GOLD with conf file /home/benoit/bioactive_conformation_predictor/gold_docking_postprocessing/971/api_gold.conf\n",
      "Starting GOLD with conf file /home/benoit/bioactive_conformation_predictor/gold_docking_postprocessing/904/api_gold.conf\n",
      "Setting up GOLD environment...\n",
      "GOLD Version 2021.2.0\n",
      "Running:\n",
      " \n",
      "     \"/home/benoit/CCDC/Discovery_2021/GOLD/gold/d_linux_64/bin/gold_linux_64\" \"/home/benoit/bioactive_conformation_predictor/gold_docking_postprocessing/971/api_gold.conf\"\n",
      "\n",
      "Setting up GOLD environment...\n",
      "GOLD Version 2021.2.0\n",
      "Running:\n",
      " \n",
      "     \"/home/benoit/CCDC/Discovery_2021/GOLD/gold/d_linux_64/bin/gold_linux_64\" \"/home/benoit/bioactive_conformation_predictor/gold_docking_postprocessing/904/api_gold.conf\"\n",
      "\n"
     ]
    },
    {
     "name": "stderr",
     "output_type": "stream",
     "text": [
      "RDKit WARNING: [17:26:06] unknown|1083|mol2|1|dock97: warning - O.co2 with non C.2 or S.o2 neighbor.\n",
      "RDKit WARNING: [17:26:06] unknown|1083|mol2|1|dock35: warning - O.co2 with non C.2 or S.o2 neighbor.\n",
      "[17:26:06] unknown|1083|mol2|1|dock97: warning - O.co2 with non C.2 or S.o2 neighbor.\n",
      "[17:26:06] unknown|1083|mol2|1|dock35: warning - O.co2 with non C.2 or S.o2 neighbor.\n",
      "RDKit WARNING: [17:26:07] unknown|1083|mol2|1|dock72: warning - O.co2 with non C.2 or S.o2 neighbor.\n",
      "RDKit WARNING: [17:26:07] unknown|1083|mol2|1|dock64: warning - O.co2 with non C.2 or S.o2 neighbor.\n",
      "[17:26:07] unknown|1083|mol2|1|dock72: warning - O.co2 with non C.2 or S.o2 neighbor.\n",
      "[17:26:07] unknown|1083|mol2|1|dock64: warning - O.co2 with non C.2 or S.o2 neighbor.\n",
      "RDKit WARNING: [17:26:07] unknown|1062|mol2|1|dock45: warning - O.co2 with non C.2 or S.o2 neighbor.\n",
      "RDKit WARNING: [17:26:07] unknown|1062|mol2|1|dock12: warning - O.co2 with non C.2 or S.o2 neighbor.\n",
      "[17:26:07] unknown|1062|mol2|1|dock45: warning - O.co2 with non C.2 or S.o2 neighbor.\n",
      "[17:26:07] unknown|1062|mol2|1|dock12: warning - O.co2 with non C.2 or S.o2 neighbor.\n"
     ]
    },
    {
     "name": "stdout",
     "output_type": "stream",
     "text": [
      "Starting GOLD with conf file /home/benoit/bioactive_conformation_predictor/gold_docking_postprocessing/876/api_gold.conf\n"
     ]
    },
    {
     "name": "stderr",
     "output_type": "stream",
     "text": [
      "RDKit WARNING: [17:26:08] unknown|1062|mol2|1|dock45: warning - O.co2 with non C.2 or S.o2 neighbor.\n",
      "RDKit WARNING: [17:26:08] unknown|1062|mol2|1|dock1: warning - O.co2 with non C.2 or S.o2 neighbor.\n",
      "[17:26:08] unknown|1062|mol2|1|dock45: warning - O.co2 with non C.2 or S.o2 neighbor.\n",
      "[17:26:08] unknown|1062|mol2|1|dock1: warning - O.co2 with non C.2 or S.o2 neighbor.\n"
     ]
    },
    {
     "name": "stdout",
     "output_type": "stream",
     "text": [
      "Setting up GOLD environment...\n",
      "GOLD Version 2021.2.0\n",
      "Running:\n",
      " \n",
      "     \"/home/benoit/CCDC/Discovery_2021/GOLD/gold/d_linux_64/bin/gold_linux_64\" \"/home/benoit/bioactive_conformation_predictor/gold_docking_postprocessing/876/api_gold.conf\"\n",
      "\n"
     ]
    },
    {
     "name": "stderr",
     "output_type": "stream",
     "text": [
      "RDKit WARNING: [17:26:08] unknown|1083|mol2|1|dock88: warning - O.co2 with non C.2 or S.o2 neighbor.\n",
      "RDKit WARNING: [17:26:08] unknown|1083|mol2|1|dock56: warning - O.co2 with non C.2 or S.o2 neighbor.\n",
      "RDKit WARNING: [17:26:08] unknown|1062|mol2|1|dock71: warning - O.co2 with non C.2 or S.o2 neighbor.\n",
      "RDKit WARNING: [17:26:08] unknown|1062|mol2|1|dock35: warning - O.co2 with non C.2 or S.o2 neighbor.\n",
      "[17:26:08] unknown|1083|mol2|1|dock88: warning - O.co2 with non C.2 or S.o2 neighbor.\n",
      "[17:26:08] unknown|1083|mol2|1|dock56: warning - O.co2 with non C.2 or S.o2 neighbor.\n",
      "[17:26:08] unknown|1062|mol2|1|dock71: warning - O.co2 with non C.2 or S.o2 neighbor.\n",
      "[17:26:08] unknown|1062|mol2|1|dock35: warning - O.co2 with non C.2 or S.o2 neighbor.\n"
     ]
    },
    {
     "name": "stdout",
     "output_type": "stream",
     "text": [
      "Starting GOLD with conf file /home/benoit/bioactive_conformation_predictor/gold_docking_postprocessing/1063/api_gold.conf\n",
      "Setting up GOLD environment...\n",
      "GOLD Version 2021.2.0\n",
      "Running:\n",
      " \n",
      "     \"/home/benoit/CCDC/Discovery_2021/GOLD/gold/d_linux_64/bin/gold_linux_64\" \"/home/benoit/bioactive_conformation_predictor/gold_docking_postprocessing/1063/api_gold.conf\"\n",
      "\n",
      "Starting GOLD with conf file /home/benoit/bioactive_conformation_predictor/gold_docking_postprocessing/1084/api_gold.conf\n",
      "Setting up GOLD environment...\n",
      "GOLD Version 2021.2.0\n",
      "Running:\n",
      " \n",
      "     \"/home/benoit/CCDC/Discovery_2021/GOLD/gold/d_linux_64/bin/gold_linux_64\" \"/home/benoit/bioactive_conformation_predictor/gold_docking_postprocessing/1084/api_gold.conf\"\n",
      "\n"
     ]
    },
    {
     "name": "stderr",
     "output_type": "stream",
     "text": [
      "RDKit WARNING: [17:26:10] unknown|1105|mol2|1|dock43: warning - O.co2 with non C.2 or S.o2 neighbor.\n",
      "RDKit WARNING: [17:26:10] unknown|1105|mol2|1|dock46: warning - O.co2 with non C.2 or S.o2 neighbor.\n",
      "[17:26:10] unknown|1105|mol2|1|dock43: warning - O.co2 with non C.2 or S.o2 neighbor.\n",
      "[17:26:10] unknown|1105|mol2|1|dock46: warning - O.co2 with non C.2 or S.o2 neighbor.\n",
      "RDKit WARNING: [17:26:10] unknown|1105|mol2|1|dock74: warning - O.co2 with non C.2 or S.o2 neighbor.\n",
      "RDKit WARNING: [17:26:10] unknown|1105|mol2|1|dock74: warning - O.co2 with non C.2 or S.o2 neighbor.\n",
      "[17:26:10] unknown|1105|mol2|1|dock74: warning - O.co2 with non C.2 or S.o2 neighbor.\n",
      "[17:26:10] unknown|1105|mol2|1|dock74: warning - O.co2 with non C.2 or S.o2 neighbor.\n",
      "RDKit WARNING: [17:26:10] unknown|1105|mol2|1|dock5: warning - O.co2 with non C.2 or S.o2 neighbor.\n",
      "RDKit WARNING: [17:26:10] unknown|1105|mol2|1|dock29: warning - O.co2 with non C.2 or S.o2 neighbor.\n",
      "[17:26:10] unknown|1105|mol2|1|dock5: warning - O.co2 with non C.2 or S.o2 neighbor.\n",
      "[17:26:10] unknown|1105|mol2|1|dock29: warning - O.co2 with non C.2 or S.o2 neighbor.\n"
     ]
    },
    {
     "name": "stdout",
     "output_type": "stream",
     "text": [
      "Starting GOLD with conf file /home/benoit/bioactive_conformation_predictor/gold_docking_postprocessing/1106/api_gold.conf\n",
      "Setting up GOLD environment...\n",
      "GOLD Version 2021.2.0\n",
      "Running:\n",
      " \n",
      "     \"/home/benoit/CCDC/Discovery_2021/GOLD/gold/d_linux_64/bin/gold_linux_64\" \"/home/benoit/bioactive_conformation_predictor/gold_docking_postprocessing/1106/api_gold.conf\"\n",
      "\n",
      "Starting GOLD with conf file /home/benoit/bioactive_conformation_predictor/gold_docking_postprocessing/997/api_gold.conf\n",
      "Setting up GOLD environment...\n",
      "GOLD Version 2021.2.0\n",
      "Running:\n",
      " \n",
      "     \"/home/benoit/CCDC/Discovery_2021/GOLD/gold/d_linux_64/bin/gold_linux_64\" \"/home/benoit/bioactive_conformation_predictor/gold_docking_postprocessing/997/api_gold.conf\"\n",
      "\n",
      "0\n",
      "0\n",
      "0\n",
      "Error with smiles CS(=O)(=O)c1cc(NS(=O)(=O)c2cc(Br)ccc2O)cc(S(F)(F)(F)(F)F)c1\n",
      "'NoneType' object has no attribute 'CalcEnergy'\n",
      "Starting GOLD with conf file /home/benoit/bioactive_conformation_predictor/gold_docking_postprocessing/1023/api_gold.conf\n",
      "Setting up GOLD environment...\n",
      "GOLD Version 2021.2.0\n",
      "Running:\n",
      " \n",
      "     \"/home/benoit/CCDC/Discovery_2021/GOLD/gold/d_linux_64/bin/gold_linux_64\" \"/home/benoit/bioactive_conformation_predictor/gold_docking_postprocessing/1023/api_gold.conf\"\n",
      "\n",
      "0\n",
      "0\n",
      "0\n",
      "Starting GOLD with conf file /home/benoit/bioactive_conformation_predictor/gold_docking_postprocessing/857/api_gold.conf\n"
     ]
    },
    {
     "name": "stderr",
     "output_type": "stream",
     "text": [
      "RDKit ERROR: [17:26:22] non-ring atom 8 marked aromatic\n",
      "RDKit ERROR: [17:26:22] non-ring atom 8 marked aromatic\n",
      "[17:26:22] non-ring atom 8 marked aromatic\n",
      "[17:26:22] non-ring atom 8 marked aromatic\n",
      "RDKit ERROR: [17:26:22] non-ring atom 8 marked aromatic\n",
      "RDKit ERROR: [17:26:22] non-ring atom 8 marked aromatic\n"
     ]
    },
    {
     "name": "stdout",
     "output_type": "stream",
     "text": [
      "Setting up GOLD environment...\n",
      "GOLD Version 2021.2.0\n",
      "Running:\n",
      " \n",
      "     \"/home/benoit/CCDC/Discovery_2021/GOLD/gold/d_linux_64/bin/gold_linux_64\" \"/home/benoit/bioactive_conformation_predictor/gold_docking_postprocessing/857/api_gold.conf\"\n",
      "\n"
     ]
    },
    {
     "name": "stderr",
     "output_type": "stream",
     "text": [
      "[17:26:22] non-ring atom 8 marked aromatic\n",
      "[17:26:22] non-ring atom 8 marked aromatic\n",
      "RDKit ERROR: [17:26:23] non-ring atom 8 marked aromatic\n",
      "RDKit ERROR: [17:26:23] non-ring atom 8 marked aromatic\n",
      "[17:26:23] non-ring atom 8 marked aromatic\n",
      "[17:26:23] non-ring atom 8 marked aromatic\n"
     ]
    },
    {
     "name": "stdout",
     "output_type": "stream",
     "text": [
      "Starting GOLD with conf file /home/benoit/bioactive_conformation_predictor/gold_docking_postprocessing/1064/api_gold.conf\n",
      "Starting GOLD with conf file /home/benoit/bioactive_conformation_predictor/gold_docking_postprocessing/928/api_gold.conf\n",
      "0\n",
      "Setting up GOLD environment...\n",
      "GOLD Version 2021.2.0\n",
      "Running:\n",
      " \n",
      "     \"/home/benoit/CCDC/Discovery_2021/GOLD/gold/d_linux_64/bin/gold_linux_64\" \"/home/benoit/bioactive_conformation_predictor/gold_docking_postprocessing/1064/api_gold.conf\"\n",
      "\n",
      "Setting up GOLD environment...\n",
      "GOLD Version 2021.2.0\n",
      "Running:\n",
      " \n",
      "     \"/home/benoit/CCDC/Discovery_2021/GOLD/gold/d_linux_64/bin/gold_linux_64\" \"/home/benoit/bioactive_conformation_predictor/gold_docking_postprocessing/928/api_gold.conf\"\n",
      "\n",
      "Starting GOLD with conf file /home/benoit/bioactive_conformation_predictor/gold_docking_postprocessing/972/api_gold.conf\n",
      "Setting up GOLD environment...\n",
      "GOLD Version 2021.2.0\n",
      "Running:\n",
      " \n",
      "     \"/home/benoit/CCDC/Discovery_2021/GOLD/gold/d_linux_64/bin/gold_linux_64\" \"/home/benoit/bioactive_conformation_predictor/gold_docking_postprocessing/972/api_gold.conf\"\n",
      "\n",
      "0\n",
      "0\n",
      "Starting GOLD with conf file /home/benoit/bioactive_conformation_predictor/gold_docking_postprocessing/953/api_gold.conf\n",
      "Setting up GOLD environment...\n",
      "GOLD Version 2021.2.0\n",
      "Running:\n",
      " \n",
      "     \"/home/benoit/CCDC/Discovery_2021/GOLD/gold/d_linux_64/bin/gold_linux_64\" \"/home/benoit/bioactive_conformation_predictor/gold_docking_postprocessing/953/api_gold.conf\"\n",
      "\n",
      "Starting GOLD with conf file /home/benoit/bioactive_conformation_predictor/gold_docking_postprocessing/1042/api_gold.conf\n",
      "Setting up GOLD environment...\n",
      "GOLD Version 2021.2.0\n",
      "Running:\n",
      " \n",
      "     \"/home/benoit/CCDC/Discovery_2021/GOLD/gold/d_linux_64/bin/gold_linux_64\" \"/home/benoit/bioactive_conformation_predictor/gold_docking_postprocessing/1042/api_gold.conf\"\n",
      "\n",
      "Starting GOLD with conf file /home/benoit/bioactive_conformation_predictor/gold_docking_postprocessing/998/api_gold.conf\n",
      "Setting up GOLD environment...\n",
      "GOLD Version 2021.2.0\n",
      "Running:\n",
      " \n",
      "     \"/home/benoit/CCDC/Discovery_2021/GOLD/gold/d_linux_64/bin/gold_linux_64\" \"/home/benoit/bioactive_conformation_predictor/gold_docking_postprocessing/998/api_gold.conf\"\n",
      "\n",
      "Starting GOLD with conf file /home/benoit/bioactive_conformation_predictor/gold_docking_postprocessing/877/api_gold.conf\n",
      "0\n",
      "Setting up GOLD environment...\n",
      "GOLD Version 2021.2.0\n",
      "Running:\n",
      " \n",
      "     \"/home/benoit/CCDC/Discovery_2021/GOLD/gold/d_linux_64/bin/gold_linux_64\" \"/home/benoit/bioactive_conformation_predictor/gold_docking_postprocessing/877/api_gold.conf\"\n",
      "\n",
      "0\n",
      "Error with smiles CCCCCCCCB([OH2+])[OH2+]\n",
      "'NoneType' object has no attribute 'CalcEnergy'\n",
      "Starting GOLD with conf file /home/benoit/bioactive_conformation_predictor/gold_docking_postprocessing/1024/api_gold.conf\n",
      "Setting up GOLD environment...\n",
      "GOLD Version 2021.2.0\n",
      "Running:\n",
      " \n",
      "     \"/home/benoit/CCDC/Discovery_2021/GOLD/gold/d_linux_64/bin/gold_linux_64\" \"/home/benoit/bioactive_conformation_predictor/gold_docking_postprocessing/1024/api_gold.conf\"\n",
      "\n",
      "0\n",
      "Starting GOLD with conf file /home/benoit/bioactive_conformation_predictor/gold_docking_postprocessing/929/api_gold.conf\n",
      "Setting up GOLD environment...\n",
      "GOLD Version 2021.2.0\n",
      "Running:\n",
      " \n",
      "     \"/home/benoit/CCDC/Discovery_2021/GOLD/gold/d_linux_64/bin/gold_linux_64\" \"/home/benoit/bioactive_conformation_predictor/gold_docking_postprocessing/929/api_gold.conf\"\n",
      "\n",
      "0\n",
      "0\n"
     ]
    },
    {
     "name": "stderr",
     "output_type": "stream",
     "text": [
      "RDKit WARNING: [17:26:42] unknown|904|mol2|1|dock17: warning - O.co2 with non C.2 or S.o2 neighbor.\n",
      "RDKit WARNING: [17:26:42] unknown|904|mol2|1|dock99: warning - O.co2 with non C.2 or S.o2 neighbor.\n",
      "[17:26:42] unknown|904|mol2|1|dock17: warning - O.co2 with non C.2 or S.o2 neighbor.\n",
      "[17:26:42] unknown|904|mol2|1|dock99: warning - O.co2 with non C.2 or S.o2 neighbor.\n",
      "RDKit WARNING: [17:26:43] unknown|904|mol2|1|dock20: warning - O.co2 with non C.2 or S.o2 neighbor.\n",
      "RDKit WARNING: [17:26:43] unknown|904|mol2|1|dock99: warning - O.co2 with non C.2 or S.o2 neighbor.\n",
      "[17:26:43] unknown|904|mol2|1|dock20: warning - O.co2 with non C.2 or S.o2 neighbor.\n",
      "[17:26:43] unknown|904|mol2|1|dock99: warning - O.co2 with non C.2 or S.o2 neighbor.\n"
     ]
    },
    {
     "name": "stdout",
     "output_type": "stream",
     "text": [
      "0\n"
     ]
    },
    {
     "name": "stderr",
     "output_type": "stream",
     "text": [
      "RDKit WARNING: [17:26:44] unknown|904|mol2|1|dock78: warning - O.co2 with non C.2 or S.o2 neighbor.\n",
      "RDKit WARNING: [17:26:44] unknown|904|mol2|1|dock87: warning - O.co2 with non C.2 or S.o2 neighbor.\n",
      "[17:26:44] unknown|904|mol2|1|dock78: warning - O.co2 with non C.2 or S.o2 neighbor.\n",
      "[17:26:44] unknown|904|mol2|1|dock87: warning - O.co2 with non C.2 or S.o2 neighbor.\n"
     ]
    },
    {
     "name": "stdout",
     "output_type": "stream",
     "text": [
      "Starting GOLD with conf file /home/benoit/bioactive_conformation_predictor/gold_docking_postprocessing/905/api_gold.conf\n",
      "Setting up GOLD environment...\n",
      "GOLD Version 2021.2.0\n",
      "Running:\n",
      " \n",
      "     \"/home/benoit/CCDC/Discovery_2021/GOLD/gold/d_linux_64/bin/gold_linux_64\" \"/home/benoit/bioactive_conformation_predictor/gold_docking_postprocessing/905/api_gold.conf\"\n",
      "\n",
      "0\n",
      "Starting GOLD with conf file /home/benoit/bioactive_conformation_predictor/gold_docking_postprocessing/973/api_gold.conf\n",
      "Setting up GOLD environment...\n",
      "GOLD Version 2021.2.0\n",
      "Running:\n",
      " \n",
      "     \"/home/benoit/CCDC/Discovery_2021/GOLD/gold/d_linux_64/bin/gold_linux_64\" \"/home/benoit/bioactive_conformation_predictor/gold_docking_postprocessing/973/api_gold.conf\"\n",
      "\n",
      "Starting GOLD with conf file /home/benoit/bioactive_conformation_predictor/gold_docking_postprocessing/1107/api_gold.conf\n",
      "Setting up GOLD environment...\n",
      "GOLD Version 2021.2.0\n",
      "Running:\n",
      " \n",
      "     \"/home/benoit/CCDC/Discovery_2021/GOLD/gold/d_linux_64/bin/gold_linux_64\" \"/home/benoit/bioactive_conformation_predictor/gold_docking_postprocessing/1107/api_gold.conf\"\n",
      "\n",
      "0\n",
      "0\n",
      "Starting GOLD with conf file /home/benoit/bioactive_conformation_predictor/gold_docking_postprocessing/1065/api_gold.conf\n",
      "Setting up GOLD environment...\n",
      "GOLD Version 2021.2.0\n",
      "Running:\n",
      " \n",
      "     \"/home/benoit/CCDC/Discovery_2021/GOLD/gold/d_linux_64/bin/gold_linux_64\" \"/home/benoit/bioactive_conformation_predictor/gold_docking_postprocessing/1065/api_gold.conf\"\n",
      "\n",
      "Starting GOLD with conf file /home/benoit/bioactive_conformation_predictor/gold_docking_postprocessing/1043/api_gold.conf\n",
      "0\n",
      "Setting up GOLD environment...\n",
      "GOLD Version 2021.2.0\n",
      "Running:\n",
      " \n",
      "     \"/home/benoit/CCDC/Discovery_2021/GOLD/gold/d_linux_64/bin/gold_linux_64\" \"/home/benoit/bioactive_conformation_predictor/gold_docking_postprocessing/1043/api_gold.conf\"\n",
      "\n",
      "0\n",
      "Starting GOLD with conf file /home/benoit/bioactive_conformation_predictor/gold_docking_postprocessing/1085/api_gold.conf\n",
      "Setting up GOLD environment...\n",
      "GOLD Version 2021.2.0\n",
      "Running:\n",
      " \n",
      "     \"/home/benoit/CCDC/Discovery_2021/GOLD/gold/d_linux_64/bin/gold_linux_64\" \"/home/benoit/bioactive_conformation_predictor/gold_docking_postprocessing/1085/api_gold.conf\"\n",
      "\n",
      "Starting GOLD with conf file /home/benoit/bioactive_conformation_predictor/gold_docking_postprocessing/1025/api_gold.conf\n",
      "Setting up GOLD environment...\n",
      "GOLD Version 2021.2.0\n",
      "Running:\n",
      " \n",
      "     \"/home/benoit/CCDC/Discovery_2021/GOLD/gold/d_linux_64/bin/gold_linux_64\" \"/home/benoit/bioactive_conformation_predictor/gold_docking_postprocessing/1025/api_gold.conf\"\n",
      "\n",
      "0\n",
      "0\n",
      "0\n",
      "Starting GOLD with conf file /home/benoit/bioactive_conformation_predictor/gold_docking_postprocessing/999/api_gold.conf\n",
      "0\n",
      "Setting up GOLD environment...\n",
      "GOLD Version 2021.2.0\n",
      "Running:\n",
      " \n",
      "     \"/home/benoit/CCDC/Discovery_2021/GOLD/gold/d_linux_64/bin/gold_linux_64\" \"/home/benoit/bioactive_conformation_predictor/gold_docking_postprocessing/999/api_gold.conf\"\n",
      "\n",
      "0\n",
      "0\n",
      "Starting GOLD with conf file /home/benoit/bioactive_conformation_predictor/gold_docking_postprocessing/954/api_gold.conf\n",
      "Setting up GOLD environment...\n",
      "GOLD Version 2021.2.0\n",
      "Running:\n",
      " \n",
      "     \"/home/benoit/CCDC/Discovery_2021/GOLD/gold/d_linux_64/bin/gold_linux_64\" \"/home/benoit/bioactive_conformation_predictor/gold_docking_postprocessing/954/api_gold.conf\"\n",
      "\n"
     ]
    },
    {
     "name": "stderr",
     "output_type": "stream",
     "text": [
      "RDKit WARNING: [17:26:22] sanitise [17:26:22] unknown|1063|mol2|1|dock36: [17:26:22] sanitise [17:26:22] unknown|1063|mol2|1|dock11: [17:26:22] sanitise [17:26:22] unknown|1063|mol2|1|dock60: [17:26:22] sanitise [17:26:22] unknown|1063|mol2|1|dock13: [17:26:23] sanitise [17:26:23] unknown|1063|mol2|1|dock72: [17:26:23] sanitise [17:26:23] unknown|1063|mol2|1|dock13: [17:27:08] unknown|1065|mol2|1|dock14: warning - O.co2 with non C.2 or S.o2 neighbor.\n",
      "RDKit WARNING: [17:27:08] unknown|1065|mol2|1|dock39: warning - O.co2 with non C.2 or S.o2 neighbor.\n",
      "[17:26:22] sanitise [17:26:22] unknown|1063|mol2|1|dock36: [17:26:22] sanitise [17:26:22] unknown|1063|mol2|1|dock11: [17:26:22] sanitise [17:26:22] unknown|1063|mol2|1|dock60: [17:26:22] sanitise [17:26:22] unknown|1063|mol2|1|dock13: [17:26:23] sanitise [17:26:23] unknown|1063|mol2|1|dock72: [17:26:23] sanitise [17:26:23] unknown|1063|mol2|1|dock13: [17:27:08] unknown|1065|mol2|1|dock14: warning - O.co2 with non C.2 or S.o2 neighbor.\n",
      "[17:27:08] unknown|1065|mol2|1|dock39: warning - O.co2 with non C.2 or S.o2 neighbor.\n",
      "RDKit WARNING: [17:27:09] unknown|1065|mol2|1|dock58: warning - O.co2 with non C.2 or S.o2 neighbor.\n",
      "RDKit WARNING: [17:27:09] unknown|1065|mol2|1|dock97: warning - O.co2 with non C.2 or S.o2 neighbor.\n"
     ]
    },
    {
     "name": "stdout",
     "output_type": "stream",
     "text": [
      "0\n"
     ]
    },
    {
     "name": "stderr",
     "output_type": "stream",
     "text": [
      "[17:27:09] unknown|1065|mol2|1|dock58: warning - O.co2 with non C.2 or S.o2 neighbor.\n",
      "[17:27:09] unknown|1065|mol2|1|dock97: warning - O.co2 with non C.2 or S.o2 neighbor.\n",
      "RDKit WARNING: [17:27:09] unknown|1065|mol2|1|dock70: warning - O.co2 with non C.2 or S.o2 neighbor.\n",
      "RDKit WARNING: [17:27:09] unknown|1065|mol2|1|dock93: warning - O.co2 with non C.2 or S.o2 neighbor.\n",
      "[17:27:09] unknown|1065|mol2|1|dock70: warning - O.co2 with non C.2 or S.o2 neighbor.\n",
      "[17:27:09] unknown|1065|mol2|1|dock93: warning - O.co2 with non C.2 or S.o2 neighbor.\n"
     ]
    },
    {
     "name": "stdout",
     "output_type": "stream",
     "text": [
      "Starting GOLD with conf file /home/benoit/bioactive_conformation_predictor/gold_docking_postprocessing/1066/api_gold.conf\n",
      "Setting up GOLD environment...\n",
      "GOLD Version 2021.2.0\n",
      "Running:\n",
      " \n",
      "     \"/home/benoit/CCDC/Discovery_2021/GOLD/gold/d_linux_64/bin/gold_linux_64\" \"/home/benoit/bioactive_conformation_predictor/gold_docking_postprocessing/1066/api_gold.conf\"\n",
      "\n"
     ]
    },
    {
     "name": "stderr",
     "output_type": "stream",
     "text": [
      "RDKit WARNING: [17:27:12] unknown|1085|mol2|1|dock20: warning - O.co2 with non C.2 or S.o2 neighbor.\n",
      "RDKit WARNING: [17:27:12] unknown|1085|mol2|1|dock65: warning - O.co2 with non C.2 or S.o2 neighbor.\n"
     ]
    },
    {
     "name": "stdout",
     "output_type": "stream",
     "text": [
      "0\n"
     ]
    },
    {
     "name": "stderr",
     "output_type": "stream",
     "text": [
      "[17:27:12] unknown|1085|mol2|1|dock20: warning - O.co2 with non C.2 or S.o2 neighbor.\n",
      "[17:27:12] unknown|1085|mol2|1|dock65: warning - O.co2 with non C.2 or S.o2 neighbor.\n",
      "RDKit WARNING: [17:27:12] unknown|1085|mol2|1|dock36: warning - O.co2 with non C.2 or S.o2 neighbor.\n",
      "RDKit WARNING: [17:27:12] unknown|1085|mol2|1|dock71: warning - O.co2 with non C.2 or S.o2 neighbor.\n",
      "[17:27:12] unknown|1085|mol2|1|dock36: warning - O.co2 with non C.2 or S.o2 neighbor.\n",
      "[17:27:12] unknown|1085|mol2|1|dock71: warning - O.co2 with non C.2 or S.o2 neighbor.\n",
      "RDKit WARNING: [17:27:12] unknown|1085|mol2|1|dock4: warning - O.co2 with non C.2 or S.o2 neighbor.\n",
      "RDKit WARNING: [17:27:12] unknown|1085|mol2|1|dock39: warning - O.co2 with non C.2 or S.o2 neighbor.\n"
     ]
    },
    {
     "name": "stdout",
     "output_type": "stream",
     "text": [
      "Starting GOLD with conf file /home/benoit/bioactive_conformation_predictor/gold_docking_postprocessing/1086/api_gold.conf\n",
      "Starting GOLD with conf file /home/benoit/bioactive_conformation_predictor/gold_docking_postprocessing/858/api_gold.conf\n"
     ]
    },
    {
     "name": "stderr",
     "output_type": "stream",
     "text": [
      "[17:27:12] unknown|1085|mol2|1|dock4: warning - O.co2 with non C.2 or S.o2 neighbor.\n",
      "[17:27:12] unknown|1085|mol2|1|dock39: warning - O.co2 with non C.2 or S.o2 neighbor.\n"
     ]
    },
    {
     "name": "stdout",
     "output_type": "stream",
     "text": [
      "Setting up GOLD environment...\n",
      "GOLD Version 2021.2.0\n",
      "Running:\n",
      " \n",
      "     \"/home/benoit/CCDC/Discovery_2021/GOLD/gold/d_linux_64/bin/gold_linux_64\" \"/home/benoit/bioactive_conformation_predictor/gold_docking_postprocessing/1086/api_gold.conf\"\n",
      "\n",
      "Setting up GOLD environment...\n",
      "GOLD Version 2021.2.0\n",
      "Running:\n",
      " \n",
      "     \"/home/benoit/CCDC/Discovery_2021/GOLD/gold/d_linux_64/bin/gold_linux_64\" \"/home/benoit/bioactive_conformation_predictor/gold_docking_postprocessing/858/api_gold.conf\"\n",
      "\n",
      "Starting GOLD with conf file /home/benoit/bioactive_conformation_predictor/gold_docking_postprocessing/974/api_gold.conf\n",
      "Starting GOLD with conf file /home/benoit/bioactive_conformation_predictor/gold_docking_postprocessing/1000/api_gold.conf\n",
      "Starting GOLD with conf file /home/benoit/bioactive_conformation_predictor/gold_docking_postprocessing/878/api_gold.conf\n",
      "Setting up GOLD environment...\n",
      "Setting up GOLD environment...\n",
      "GOLD Version 2021.2.0\n",
      "Running:\n",
      " \n",
      "     \"/home/benoit/CCDC/Discovery_2021/GOLD/gold/d_linux_64/bin/gold_linux_64\" \"/home/benoit/bioactive_conformation_predictor/gold_docking_postprocessing/974/api_gold.conf\"\n",
      "\n",
      "GOLD Version 2021.2.0\n",
      "Setting up GOLD environment...\n",
      "Running:\n",
      " \n",
      "     \"/home/benoit/CCDC/Discovery_2021/GOLD/gold/d_linux_64/bin/gold_linux_64\" \"/home/benoit/bioactive_conformation_predictor/gold_docking_postprocessing/1000/api_gold.conf\"\n",
      "\n",
      "Starting GOLD with conf file /home/benoit/bioactive_conformation_predictor/gold_docking_postprocessing/906/api_gold.conf\n",
      "GOLD Version 2021.2.0\n",
      "Running:\n",
      " \n",
      "     \"/home/benoit/CCDC/Discovery_2021/GOLD/gold/d_linux_64/bin/gold_linux_64\" \"/home/benoit/bioactive_conformation_predictor/gold_docking_postprocessing/878/api_gold.conf\"\n",
      "\n",
      "Setting up GOLD environment...\n",
      "GOLD Version 2021.2.0\n",
      "Running:\n",
      " \n",
      "     \"/home/benoit/CCDC/Discovery_2021/GOLD/gold/d_linux_64/bin/gold_linux_64\" \"/home/benoit/bioactive_conformation_predictor/gold_docking_postprocessing/906/api_gold.conf\"\n",
      "\n",
      "0\n",
      "Starting GOLD with conf file /home/benoit/bioactive_conformation_predictor/gold_docking_postprocessing/1044/api_gold.conf\n",
      "Setting up GOLD environment...\n",
      "GOLD Version 2021.2.0\n",
      "Running:\n",
      " \n",
      "     \"/home/benoit/CCDC/Discovery_2021/GOLD/gold/d_linux_64/bin/gold_linux_64\" \"/home/benoit/bioactive_conformation_predictor/gold_docking_postprocessing/1044/api_gold.conf\"\n",
      "\n",
      "Starting GOLD with conf file /home/benoit/bioactive_conformation_predictor/gold_docking_postprocessing/955/api_gold.conf\n",
      "Setting up GOLD environment...\n",
      "GOLD Version 2021.2.0\n",
      "Running:\n",
      " \n",
      "     \"/home/benoit/CCDC/Discovery_2021/GOLD/gold/d_linux_64/bin/gold_linux_64\" \"/home/benoit/bioactive_conformation_predictor/gold_docking_postprocessing/955/api_gold.conf\"\n",
      "\n",
      "0\n",
      "0\n"
     ]
    },
    {
     "name": "stderr",
     "output_type": "stream",
     "text": [
      "RDKit WARNING: [17:27:27] unknown|858|mol2|1|dock86: warning - O.co2 with non C.2 or S.o2 neighbor.\n",
      "RDKit WARNING: [17:27:27] unknown|858|mol2|1|dock28: warning - O.co2 with non C.2 or S.o2 neighbor.\n",
      "[17:27:27] unknown|858|mol2|1|dock86: warning - O.co2 with non C.2 or S.o2 neighbor.\n",
      "[17:27:27] unknown|858|mol2|1|dock28: warning - O.co2 with non C.2 or S.o2 neighbor.\n",
      "RDKit WARNING: [17:27:28] unknown|858|mol2|1|dock14: warning - O.co2 with non C.2 or S.o2 neighbor.\n",
      "RDKit WARNING: [17:27:28] unknown|858|mol2|1|dock98: warning - O.co2 with non C.2 or S.o2 neighbor.\n",
      "[17:27:28] unknown|858|mol2|1|dock14: warning - O.co2 with non C.2 or S.o2 neighbor.\n",
      "[17:27:28] unknown|858|mol2|1|dock98: warning - O.co2 with non C.2 or S.o2 neighbor.\n",
      "RDKit WARNING: [17:27:28] unknown|858|mol2|1|dock66: warning - O.co2 with non C.2 or S.o2 neighbor.\n",
      "RDKit WARNING: [17:27:28] unknown|858|mol2|1|dock51: warning - O.co2 with non C.2 or S.o2 neighbor.\n",
      "[17:27:28] unknown|858|mol2|1|dock66: warning - O.co2 with non C.2 or S.o2 neighbor.\n",
      "[17:27:28] unknown|858|mol2|1|dock51: warning - O.co2 with non C.2 or S.o2 neighbor.\n"
     ]
    },
    {
     "name": "stdout",
     "output_type": "stream",
     "text": [
      "Starting GOLD with conf file /home/benoit/bioactive_conformation_predictor/gold_docking_postprocessing/859/api_gold.conf\n",
      "0\n",
      "0\n",
      "Setting up GOLD environment...\n",
      "GOLD Version 2021.2.0\n",
      "Running:\n",
      " \n",
      "     \"/home/benoit/CCDC/Discovery_2021/GOLD/gold/d_linux_64/bin/gold_linux_64\" \"/home/benoit/bioactive_conformation_predictor/gold_docking_postprocessing/859/api_gold.conf\"\n",
      "\n",
      "Starting GOLD with conf file /home/benoit/bioactive_conformation_predictor/gold_docking_postprocessing/907/api_gold.conf\n",
      "Setting up GOLD environment...\n",
      "GOLD Version 2021.2.0\n",
      "Running:\n",
      " \n",
      "     \"/home/benoit/CCDC/Discovery_2021/GOLD/gold/d_linux_64/bin/gold_linux_64\" \"/home/benoit/bioactive_conformation_predictor/gold_docking_postprocessing/907/api_gold.conf\"\n",
      "\n",
      "0\n",
      "0\n",
      "0\n",
      "0\n",
      "Starting GOLD with conf file /home/benoit/bioactive_conformation_predictor/gold_docking_postprocessing/1087/api_gold.conf\n",
      "Setting up GOLD environment...\n",
      "GOLD Version 2021.2.0\n",
      "Running:\n",
      " \n",
      "     \"/home/benoit/CCDC/Discovery_2021/GOLD/gold/d_linux_64/bin/gold_linux_64\" \"/home/benoit/bioactive_conformation_predictor/gold_docking_postprocessing/1087/api_gold.conf\"\n",
      "\n",
      "Starting GOLD with conf file /home/benoit/bioactive_conformation_predictor/gold_docking_postprocessing/1108/api_gold.conf\n",
      "Setting up GOLD environment...\n",
      "GOLD Version 2021.2.0\n",
      "Running:\n",
      " \n",
      "     \"/home/benoit/CCDC/Discovery_2021/GOLD/gold/d_linux_64/bin/gold_linux_64\" \"/home/benoit/bioactive_conformation_predictor/gold_docking_postprocessing/1108/api_gold.conf\"\n",
      "\n",
      "Starting GOLD with conf file /home/benoit/bioactive_conformation_predictor/gold_docking_postprocessing/1001/api_gold.conf\n",
      "0Setting up GOLD environment...\n",
      "GOLD Version 2021.2.0\n",
      "Running:\n",
      " \n",
      "     \"/home/benoit/CCDC/Discovery_2021/GOLD/gold/d_linux_64/bin/gold_linux_64\" \"/home/benoit/bioactive_conformation_predictor/gold_docking_postprocessing/1001/api_gold.conf\"\n",
      "\n",
      "\n",
      "0\n",
      "Error with smiles O=S(=O)(Nc1cccc(B(O)O)c1)c1cc(S(=O)(=O)c2ccccc2)cs1\n",
      "'NoneType' object has no attribute 'CalcEnergy'\n",
      "Starting GOLD with conf file /home/benoit/bioactive_conformation_predictor/gold_docking_postprocessing/879/api_gold.conf\n",
      "Setting up GOLD environment...\n",
      "GOLD Version 2021.2.0\n",
      "Running:\n",
      " \n",
      "     \"/home/benoit/CCDC/Discovery_2021/GOLD/gold/d_linux_64/bin/gold_linux_64\" \"/home/benoit/bioactive_conformation_predictor/gold_docking_postprocessing/879/api_gold.conf\"\n",
      "\n",
      "Starting GOLD with conf file /home/benoit/bioactive_conformation_predictor/gold_docking_postprocessing/930/api_gold.conf\n",
      "Setting up GOLD environment...\n",
      "GOLD Version 2021.2.0\n",
      "Running:\n",
      " \n",
      "     \"/home/benoit/CCDC/Discovery_2021/GOLD/gold/d_linux_64/bin/gold_linux_64\" \"/home/benoit/bioactive_conformation_predictor/gold_docking_postprocessing/930/api_gold.conf\"\n",
      "\n"
     ]
    },
    {
     "name": "stderr",
     "output_type": "stream",
     "text": [
      "RDKit WARNING: [17:27:43] unknown|955|mol2|1|dock23: warning - O.co2 with non C.2 or S.o2 neighbor.\n",
      "RDKit WARNING: [17:27:43] unknown|955|mol2|1|dock44: warning - O.co2 with non C.2 or S.o2 neighbor.\n",
      "[17:27:43] unknown|955|mol2|1|dock23: warning - O.co2 with non C.2 or S.o2 neighbor.\n",
      "[17:27:43] unknown|955|mol2|1|dock44: warning - O.co2 with non C.2 or S.o2 neighbor.\n",
      "RDKit WARNING: [17:27:43] unknown|955|mol2|1|dock83: warning - O.co2 with non C.2 or S.o2 neighbor.\n",
      "RDKit WARNING: [17:27:43] unknown|955|mol2|1|dock6: warning - O.co2 with non C.2 or S.o2 neighbor.\n",
      "[17:27:43] unknown|955|mol2|1|dock83: warning - O.co2 with non C.2 or S.o2 neighbor.\n",
      "[17:27:43] unknown|955|mol2|1|dock6: warning - O.co2 with non C.2 or S.o2 neighbor.\n"
     ]
    },
    {
     "name": "stdout",
     "output_type": "stream",
     "text": [
      "0\n"
     ]
    },
    {
     "name": "stderr",
     "output_type": "stream",
     "text": [
      "RDKit WARNING: [17:27:44] unknown|955|mol2|1|dock60: warning - O.co2 with non C.2 or S.o2 neighbor.\n",
      "RDKit WARNING: [17:27:44] unknown|955|mol2|1|dock6: warning - O.co2 with non C.2 or S.o2 neighbor.\n",
      "[17:27:44] unknown|955|mol2|1|dock60: warning - O.co2 with non C.2 or S.o2 neighbor.\n",
      "[17:27:44] unknown|955|mol2|1|dock6: warning - O.co2 with non C.2 or S.o2 neighbor.\n"
     ]
    },
    {
     "name": "stdout",
     "output_type": "stream",
     "text": [
      "Starting GOLD with conf file /home/benoit/bioactive_conformation_predictor/gold_docking_postprocessing/956/api_gold.conf\n",
      "Starting GOLD with conf file /home/benoit/bioactive_conformation_predictor/gold_docking_postprocessing/1026/api_gold.conf\n",
      "Setting up GOLD environment...\n",
      "GOLD Version 2021.2.0\n",
      "Running:\n",
      " \n",
      "     \"/home/benoit/CCDC/Discovery_2021/GOLD/gold/d_linux_64/bin/gold_linux_64\" \"/home/benoit/bioactive_conformation_predictor/gold_docking_postprocessing/956/api_gold.conf\"\n",
      "\n",
      "Setting up GOLD environment...\n",
      "GOLD Version 2021.2.0\n",
      "Running:\n",
      " \n",
      "     \"/home/benoit/CCDC/Discovery_2021/GOLD/gold/d_linux_64/bin/gold_linux_64\" \"/home/benoit/bioactive_conformation_predictor/gold_docking_postprocessing/1026/api_gold.conf\"\n",
      "\n",
      "Starting GOLD with conf file /home/benoit/bioactive_conformation_predictor/gold_docking_postprocessing/1067/api_gold.conf\n",
      "Setting up GOLD environment...\n",
      "GOLD Version 2021.2.0\n",
      "Running:\n",
      " \n",
      "     \"/home/benoit/CCDC/Discovery_2021/GOLD/gold/d_linux_64/bin/gold_linux_64\" \"/home/benoit/bioactive_conformation_predictor/gold_docking_postprocessing/1067/api_gold.conf\"\n",
      "\n",
      "0\n",
      "0\n",
      "0\n",
      "0\n",
      "Starting GOLD with conf file /home/benoit/bioactive_conformation_predictor/gold_docking_postprocessing/975/api_gold.conf\n",
      "Setting up GOLD environment...\n",
      "GOLD Version 2021.2.0\n",
      "Running:\n",
      " \n",
      "     \"/home/benoit/CCDC/Discovery_2021/GOLD/gold/d_linux_64/bin/gold_linux_64\" \"/home/benoit/bioactive_conformation_predictor/gold_docking_postprocessing/975/api_gold.conf\"\n",
      "\n",
      "Starting GOLD with conf file /home/benoit/bioactive_conformation_predictor/gold_docking_postprocessing/908/api_gold.conf0\n",
      "\n",
      "Starting GOLD with conf file /home/benoit/bioactive_conformation_predictor/gold_docking_postprocessing/1109/api_gold.conf\n",
      "Setting up GOLD environment...\n",
      "GOLD Version 2021.2.0\n",
      "Setting up GOLD environment...\n",
      "Running:\n",
      " \n",
      "     \"/home/benoit/CCDC/Discovery_2021/GOLD/gold/d_linux_64/bin/gold_linux_64\" \"/home/benoit/bioactive_conformation_predictor/gold_docking_postprocessing/908/api_gold.conf\"\n",
      "\n",
      "GOLD Version 2021.2.0\n",
      "Running:\n",
      " \n",
      "     \"/home/benoit/CCDC/Discovery_2021/GOLD/gold/d_linux_64/bin/gold_linux_64\" \"/home/benoit/bioactive_conformation_predictor/gold_docking_postprocessing/1109/api_gold.conf\"\n",
      "\n"
     ]
    },
    {
     "name": "stderr",
     "output_type": "stream",
     "text": [
      "RDKit WARNING: [17:27:57] unknown|1087|mol2|1|dock79: warning - O.co2 with non C.2 or S.o2 neighbor.\n",
      "RDKit WARNING: [17:27:57] unknown|1087|mol2|1|dock67: warning - O.co2 with non C.2 or S.o2 neighbor.\n",
      "RDKit WARNING: [17:27:58] unknown|1001|mol2|1|dock10: warning - O.co2 with non C.2 or S.o2 neighbor.\n",
      "RDKit WARNING: [17:27:58] unknown|1001|mol2|1|dock70: warning - O.co2 with non C.2 or S.o2 neighbor.\n",
      "[17:27:57] unknown|1087|mol2|1|dock79: warning - O.co2 with non C.2 or S.o2 neighbor.\n",
      "[17:27:57] unknown|1087|mol2|1|dock67: warning - O.co2 with non C.2 or S.o2 neighbor.\n",
      "[17:27:58] unknown|1001|mol2|1|dock10: warning - O.co2 with non C.2 or S.o2 neighbor.\n",
      "[17:27:58] unknown|1001|mol2|1|dock70: warning - O.co2 with non C.2 or S.o2 neighbor.\n",
      "RDKit WARNING: [17:27:58] unknown|1001|mol2|1|dock11: warning - O.co2 with non C.2 or S.o2 neighbor.\n",
      "RDKit WARNING: [17:27:58] unknown|1001|mol2|1|dock38: warning - O.co2 with non C.2 or S.o2 neighbor.\n",
      "RDKit WARNING: [17:27:58] unknown|1087|mol2|1|dock79: warning - O.co2 with non C.2 or S.o2 neighbor.\n",
      "RDKit WARNING: [17:27:58] unknown|1087|mol2|1|dock78: warning - O.co2 with non C.2 or S.o2 neighbor.\n",
      "[17:27:58] unknown|1001|mol2|1|dock11: warning - O.co2 with non C.2 or S.o2 neighbor.\n",
      "[17:27:58] unknown|1001|mol2|1|dock38: warning - O.co2 with non C.2 or S.o2 neighbor.\n",
      "[17:27:58] unknown|1087|mol2|1|dock79: warning - O.co2 with non C.2 or S.o2 neighbor.\n",
      "[17:27:58] unknown|1087|mol2|1|dock78: warning - O.co2 with non C.2 or S.o2 neighbor.\n",
      "RDKit WARNING: [17:27:58] unknown|1001|mol2|1|dock10: warning - O.co2 with non C.2 or S.o2 neighbor.\n",
      "RDKit WARNING: [17:27:58] unknown|1001|mol2|1|dock75: warning - O.co2 with non C.2 or S.o2 neighbor.\n",
      "RDKit WARNING: [17:27:58] unknown|1087|mol2|1|dock80: warning - O.co2 with non C.2 or S.o2 neighbor.\n",
      "RDKit WARNING: [17:27:59] unknown|1087|mol2|1|dock52: warning - O.co2 with non C.2 or S.o2 neighbor.\n",
      "[17:27:58] unknown|1001|mol2|1|dock10: warning - O.co2 with non C.2 or S.o2 neighbor.\n",
      "[17:27:58] unknown|1001|mol2|1|dock75: warning - O.co2 with non C.2 or S.o2 neighbor.\n",
      "[17:27:58] unknown|1087|mol2|1|dock80: warning - O.co2 with non C.2 or S.o2 neighbor.\n",
      "[17:27:59] unknown|1087|mol2|1|dock52: warning - O.co2 with non C.2 or S.o2 neighbor.\n"
     ]
    },
    {
     "name": "stdout",
     "output_type": "stream",
     "text": [
      "Starting GOLD with conf file /home/benoit/bioactive_conformation_predictor/gold_docking_postprocessing/1088/api_gold.conf\n",
      "Setting up GOLD environment...\n",
      "GOLD Version 2021.2.0\n",
      "Running:\n",
      " \n",
      "     \"/home/benoit/CCDC/Discovery_2021/GOLD/gold/d_linux_64/bin/gold_linux_64\" \"/home/benoit/bioactive_conformation_predictor/gold_docking_postprocessing/1088/api_gold.conf\"\n",
      "\n",
      "0\n",
      "Starting GOLD with conf file /home/benoit/bioactive_conformation_predictor/gold_docking_postprocessing/1002/api_gold.conf\n",
      "Starting GOLD with conf file /home/benoit/bioactive_conformation_predictor/gold_docking_postprocessing/1027/api_gold.conf\n",
      "Setting up GOLD environment...\n",
      "GOLD Version 2021.2.0\n",
      "Running:\n",
      " \n",
      "     \"/home/benoit/CCDC/Discovery_2021/GOLD/gold/d_linux_64/bin/gold_linux_64\" \"/home/benoit/bioactive_conformation_predictor/gold_docking_postprocessing/1002/api_gold.conf\"\n",
      "\n",
      "Setting up GOLD environment...\n",
      "GOLD Version 2021.2.0\n",
      "Running:\n",
      " \n",
      "     \"/home/benoit/CCDC/Discovery_2021/GOLD/gold/d_linux_64/bin/gold_linux_64\" \"/home/benoit/bioactive_conformation_predictor/gold_docking_postprocessing/1027/api_gold.conf\"\n",
      "\n",
      "0\n",
      "0\n",
      "0\n",
      "0\n",
      "Starting GOLD with conf file /home/benoit/bioactive_conformation_predictor/gold_docking_postprocessing/880/api_gold.conf\n",
      "Setting up GOLD environment...\n",
      "GOLD Version 2021.2.0\n",
      "Running:\n",
      " \n",
      "     \"/home/benoit/CCDC/Discovery_2021/GOLD/gold/d_linux_64/bin/gold_linux_64\" \"/home/benoit/bioactive_conformation_predictor/gold_docking_postprocessing/880/api_gold.conf\"\n",
      "\n",
      "0\n",
      "Starting GOLD with conf file /home/benoit/bioactive_conformation_predictor/gold_docking_postprocessing/1045/api_gold.conf\n",
      "Starting GOLD with conf file /home/benoit/bioactive_conformation_predictor/gold_docking_postprocessing/957/api_gold.conf\n",
      "Setting up GOLD environment...\n",
      "GOLD Version 2021.2.0\n",
      "Running:\n",
      " \n",
      "     \"/home/benoit/CCDC/Discovery_2021/GOLD/gold/d_linux_64/bin/gold_linux_64\" \"/home/benoit/bioactive_conformation_predictor/gold_docking_postprocessing/1045/api_gold.conf\"\n",
      "\n",
      "Setting up GOLD environment...\n",
      "GOLD Version 2021.2.0\n",
      "Running:\n",
      " \n",
      "     \"/home/benoit/CCDC/Discovery_2021/GOLD/gold/d_linux_64/bin/gold_linux_64\" \"/home/benoit/bioactive_conformation_predictor/gold_docking_postprocessing/957/api_gold.conf\"\n",
      "\n",
      "Starting GOLD with conf file /home/benoit/bioactive_conformation_predictor/gold_docking_postprocessing/1028/api_gold.conf\n",
      "Setting up GOLD environment...\n",
      "GOLD Version 2021.2.0\n",
      "Running:\n",
      " \n",
      "     \"/home/benoit/CCDC/Discovery_2021/GOLD/gold/d_linux_64/bin/gold_linux_64\" \"/home/benoit/bioactive_conformation_predictor/gold_docking_postprocessing/1028/api_gold.conf\"\n",
      "\n",
      "Starting GOLD with conf file /home/benoit/bioactive_conformation_predictor/gold_docking_postprocessing/931/api_gold.conf\n",
      "Setting up GOLD environment...\n",
      "GOLD Version 2021.2.0\n",
      "Running:\n",
      " \n",
      "     \"/home/benoit/CCDC/Discovery_2021/GOLD/gold/d_linux_64/bin/gold_linux_64\" \"/home/benoit/bioactive_conformation_predictor/gold_docking_postprocessing/931/api_gold.conf\"\n",
      "\n",
      "0\n",
      "Starting GOLD with conf file /home/benoit/bioactive_conformation_predictor/gold_docking_postprocessing/909/api_gold.conf\n",
      "0\n",
      "Setting up GOLD environment...\n",
      "GOLD Version 2021.2.0\n",
      "Running:\n",
      " \n",
      "     \"/home/benoit/CCDC/Discovery_2021/GOLD/gold/d_linux_64/bin/gold_linux_64\" \"/home/benoit/bioactive_conformation_predictor/gold_docking_postprocessing/909/api_gold.conf\"\n",
      "\n",
      "0\n"
     ]
    },
    {
     "name": "stderr",
     "output_type": "stream",
     "text": [
      "RDKit WARNING: [17:28:23] unknown|1109|mol2|1|dock97: warning - O.co2 with non C.2 or S.o2 neighbor.\n",
      "RDKit WARNING: [17:28:23] unknown|1109|mol2|1|dock9: warning - O.co2 with non C.2 or S.o2 neighbor.\n",
      "[17:28:23] unknown|1109|mol2|1|dock97: warning - O.co2 with non C.2 or S.o2 neighbor.\n",
      "[17:28:23] unknown|1109|mol2|1|dock9: warning - O.co2 with non C.2 or S.o2 neighbor.\n",
      "RDKit WARNING: [17:28:24] unknown|1109|mol2|1|dock92: warning - O.co2 with non C.2 or S.o2 neighbor.\n",
      "RDKit WARNING: [17:28:24] unknown|1109|mol2|1|dock94: warning - O.co2 with non C.2 or S.o2 neighbor.\n",
      "[17:28:24] unknown|1109|mol2|1|dock92: warning - O.co2 with non C.2 or S.o2 neighbor.\n",
      "[17:28:24] unknown|1109|mol2|1|dock94: warning - O.co2 with non C.2 or S.o2 neighbor.\n",
      "RDKit WARNING: [17:28:24] unknown|1109|mol2|1|dock76: warning - O.co2 with non C.2 or S.o2 neighbor.\n",
      "RDKit WARNING: [17:28:24] unknown|1109|mol2|1|dock94: warning - O.co2 with non C.2 or S.o2 neighbor.\n",
      "[17:28:24] unknown|1109|mol2|1|dock76: warning - O.co2 with non C.2 or S.o2 neighbor.\n",
      "[17:28:24] unknown|1109|mol2|1|dock94: warning - O.co2 with non C.2 or S.o2 neighbor.\n"
     ]
    },
    {
     "name": "stdout",
     "output_type": "stream",
     "text": [
      "0\n",
      "Starting GOLD with conf file /home/benoit/bioactive_conformation_predictor/gold_docking_postprocessing/976/api_gold.conf\n",
      "Setting up GOLD environment...\n",
      "GOLD Version 2021.2.0\n",
      "Running:\n",
      " \n",
      "     \"/home/benoit/CCDC/Discovery_2021/GOLD/gold/d_linux_64/bin/gold_linux_64\" \"/home/benoit/bioactive_conformation_predictor/gold_docking_postprocessing/976/api_gold.conf\"\n",
      "\n",
      "0\n"
     ]
    },
    {
     "name": "stderr",
     "output_type": "stream",
     "text": [
      "RDKit WARNING: [17:28:27] unknown|859|mol2|1|dock94: warning - O.co2 with non C.2 or S.o2 neighbor.\n",
      "RDKit WARNING: [17:28:27] unknown|859|mol2|1|dock94: warning - O.co2 with non C.2 or S.o2 neighbor.\n",
      "[17:28:27] unknown|859|mol2|1|dock94: warning - O.co2 with non C.2 or S.o2 neighbor.\n",
      "[17:28:27] unknown|859|mol2|1|dock94: warning - O.co2 with non C.2 or S.o2 neighbor.\n",
      "RDKit WARNING: [17:28:28] unknown|859|mol2|1|dock5: warning - O.co2 with non C.2 or S.o2 neighbor.\n",
      "RDKit WARNING: [17:28:28] unknown|859|mol2|1|dock69: warning - O.co2 with non C.2 or S.o2 neighbor.\n",
      "[17:28:28] unknown|859|mol2|1|dock5: warning - O.co2 with non C.2 or S.o2 neighbor.\n",
      "[17:28:28] unknown|859|mol2|1|dock69: warning - O.co2 with non C.2 or S.o2 neighbor.\n"
     ]
    },
    {
     "name": "stdout",
     "output_type": "stream",
     "text": [
      "Starting GOLD with conf file /home/benoit/bioactive_conformation_predictor/gold_docking_postprocessing/881/api_gold.conf\n",
      "Setting up GOLD environment...\n",
      "GOLD Version 2021.2.0\n",
      "Running:\n",
      " \n",
      "     \"/home/benoit/CCDC/Discovery_2021/GOLD/gold/d_linux_64/bin/gold_linux_64\" \"/home/benoit/bioactive_conformation_predictor/gold_docking_postprocessing/881/api_gold.conf\"\n",
      "\n"
     ]
    },
    {
     "name": "stderr",
     "output_type": "stream",
     "text": [
      "RDKit WARNING: [17:28:28] unknown|859|mol2|1|dock68: warning - O.co2 with non C.2 or S.o2 neighbor.\n",
      "RDKit WARNING: [17:28:28] unknown|859|mol2|1|dock68: warning - O.co2 with non C.2 or S.o2 neighbor.\n",
      "[17:28:28] unknown|859|mol2|1|dock68: warning - O.co2 with non C.2 or S.o2 neighbor.\n",
      "[17:28:28] unknown|859|mol2|1|dock68: warning - O.co2 with non C.2 or S.o2 neighbor.\n"
     ]
    },
    {
     "name": "stdout",
     "output_type": "stream",
     "text": [
      "Starting GOLD with conf file /home/benoit/bioactive_conformation_predictor/gold_docking_postprocessing/860/api_gold.conf\n",
      "Setting up GOLD environment...\n",
      "GOLD Version 2021.2.0\n",
      "Running:\n",
      " \n",
      "     \"/home/benoit/CCDC/Discovery_2021/GOLD/gold/d_linux_64/bin/gold_linux_64\" \"/home/benoit/bioactive_conformation_predictor/gold_docking_postprocessing/860/api_gold.conf\"\n",
      "\n",
      "0\n",
      "0\n",
      "Starting GOLD with conf file /home/benoit/bioactive_conformation_predictor/gold_docking_postprocessing/1003/api_gold.conf\n",
      "Setting up GOLD environment...\n",
      "GOLD Version 2021.2.0\n",
      "Running:\n",
      " \n",
      "     \"/home/benoit/CCDC/Discovery_2021/GOLD/gold/d_linux_64/bin/gold_linux_64\" \"/home/benoit/bioactive_conformation_predictor/gold_docking_postprocessing/1003/api_gold.conf\"\n",
      "\n",
      "0\n",
      "Starting GOLD with conf file /home/benoit/bioactive_conformation_predictor/gold_docking_postprocessing/910/api_gold.conf\n",
      "Setting up GOLD environment...\n",
      "GOLD Version 2021.2.0\n",
      "Running:\n",
      " \n",
      "     \"/home/benoit/CCDC/Discovery_2021/GOLD/gold/d_linux_64/bin/gold_linux_64\" \"/home/benoit/bioactive_conformation_predictor/gold_docking_postprocessing/910/api_gold.conf\"\n",
      "\n",
      "Starting GOLD with conf file /home/benoit/bioactive_conformation_predictor/gold_docking_postprocessing/1029/api_gold.conf\n",
      "Setting up GOLD environment...\n",
      "GOLD Version 2021.2.0\n",
      "Running:\n",
      " \n",
      "     \"/home/benoit/CCDC/Discovery_2021/GOLD/gold/d_linux_64/bin/gold_linux_64\" \"/home/benoit/bioactive_conformation_predictor/gold_docking_postprocessing/1029/api_gold.conf\"\n",
      "\n",
      "0\n",
      "0\n",
      "0\n",
      "Starting GOLD with conf file /home/benoit/bioactive_conformation_predictor/gold_docking_postprocessing/1046/api_gold.conf\n",
      "Setting up GOLD environment...\n",
      "GOLD Version 2021.2.0\n",
      "Running:\n",
      " \n",
      "     \"/home/benoit/CCDC/Discovery_2021/GOLD/gold/d_linux_64/bin/gold_linux_64\" \"/home/benoit/bioactive_conformation_predictor/gold_docking_postprocessing/1046/api_gold.conf\"\n",
      "\n",
      "0\n"
     ]
    },
    {
     "name": "stderr",
     "output_type": "stream",
     "text": [
      "RDKit WARNING: [17:28:46] unknown|957|mol2|1|dock94: warning - O.co2 with non C.2 or S.o2 neighbor.\n",
      "RDKit WARNING: [17:28:46] unknown|957|mol2|1|dock97: warning - O.co2 with non C.2 or S.o2 neighbor.\n",
      "[17:28:46] unknown|957|mol2|1|dock94: warning - O.co2 with non C.2 or S.o2 neighbor.\n",
      "[17:28:46] unknown|957|mol2|1|dock97: warning - O.co2 with non C.2 or S.o2 neighbor.\n",
      "RDKit WARNING: [17:28:47] unknown|957|mol2|1|dock94: warning - O.co2 with non C.2 or S.o2 neighbor.\n",
      "RDKit WARNING: [17:28:47] unknown|957|mol2|1|dock94: warning - O.co2 with non C.2 or S.o2 neighbor.\n",
      "[17:28:47] unknown|957|mol2|1|dock94: warning - O.co2 with non C.2 or S.o2 neighbor.\n",
      "[17:28:47] unknown|957|mol2|1|dock94: warning - O.co2 with non C.2 or S.o2 neighbor.\n"
     ]
    },
    {
     "name": "stdout",
     "output_type": "stream",
     "text": [
      "0\n"
     ]
    },
    {
     "name": "stderr",
     "output_type": "stream",
     "text": [
      "RDKit WARNING: [17:28:48] unknown|957|mol2|1|dock74: warning - O.co2 with non C.2 or S.o2 neighbor.\n",
      "RDKit WARNING: [17:28:48] unknown|957|mol2|1|dock74: warning - O.co2 with non C.2 or S.o2 neighbor.\n",
      "[17:28:48] unknown|957|mol2|1|dock74: warning - O.co2 with non C.2 or S.o2 neighbor.\n",
      "[17:28:48] unknown|957|mol2|1|dock74: warning - O.co2 with non C.2 or S.o2 neighbor.\n"
     ]
    },
    {
     "name": "stdout",
     "output_type": "stream",
     "text": [
      "Starting GOLD with conf file /home/benoit/bioactive_conformation_predictor/gold_docking_postprocessing/958/api_gold.conf\n",
      "Setting up GOLD environment...\n",
      "GOLD Version 2021.2.0\n",
      "Running:\n",
      " \n",
      "     \"/home/benoit/CCDC/Discovery_2021/GOLD/gold/d_linux_64/bin/gold_linux_64\" \"/home/benoit/bioactive_conformation_predictor/gold_docking_postprocessing/958/api_gold.conf\"\n",
      "\n",
      "Starting GOLD with conf file /home/benoit/bioactive_conformation_predictor/gold_docking_postprocessing/1030/api_gold.conf\n",
      "Setting up GOLD environment...\n",
      "GOLD Version 2021.2.0\n",
      "Running:\n",
      " \n",
      "     \"/home/benoit/CCDC/Discovery_2021/GOLD/gold/d_linux_64/bin/gold_linux_64\" \"/home/benoit/bioactive_conformation_predictor/gold_docking_postprocessing/1030/api_gold.conf\"\n",
      "\n",
      "0\n",
      "Starting GOLD with conf file /home/benoit/bioactive_conformation_predictor/gold_docking_postprocessing/1089/api_gold.conf\n",
      "Starting GOLD with conf file /home/benoit/bioactive_conformation_predictor/gold_docking_postprocessing/932/api_gold.conf\n",
      "Setting up GOLD environment...\n",
      "GOLD Version 2021.2.0\n",
      "Running:\n",
      " \n",
      "     \"/home/benoit/CCDC/Discovery_2021/GOLD/gold/d_linux_64/bin/gold_linux_64\" \"/home/benoit/bioactive_conformation_predictor/gold_docking_postprocessing/1089/api_gold.conf\"\n",
      "\n",
      "Error with smiles OB(O)c1ccc(-c2ccc(B(O)O)cc2)cc1\n",
      "'NoneType' object has no attribute 'CalcEnergy'\n",
      "Setting up GOLD environment...\n",
      "GOLD Version 2021.2.0\n",
      "Running:\n",
      " \n",
      "     \"/home/benoit/CCDC/Discovery_2021/GOLD/gold/d_linux_64/bin/gold_linux_64\" \"/home/benoit/bioactive_conformation_predictor/gold_docking_postprocessing/932/api_gold.conf\"\n",
      "\n",
      "Starting GOLD with conf file /home/benoit/bioactive_conformation_predictor/gold_docking_postprocessing/861/api_gold.conf\n",
      "Setting up GOLD environment...\n",
      "GOLD Version 2021.2.0\n",
      "Running:\n",
      " \n",
      "     \"/home/benoit/CCDC/Discovery_2021/GOLD/gold/d_linux_64/bin/gold_linux_64\" \"/home/benoit/bioactive_conformation_predictor/gold_docking_postprocessing/861/api_gold.conf\"\n",
      "\n",
      "0\n",
      "Starting GOLD with conf file /home/benoit/bioactive_conformation_predictor/gold_docking_postprocessing/1004/api_gold.conf0\n",
      "\n",
      "Setting up GOLD environment...\n",
      "GOLD Version 2021.2.0\n",
      "Running:\n",
      " \n",
      "     \"/home/benoit/CCDC/Discovery_2021/GOLD/gold/d_linux_64/bin/gold_linux_64\" \"/home/benoit/bioactive_conformation_predictor/gold_docking_postprocessing/1004/api_gold.conf\"\n",
      "\n",
      "0\n"
     ]
    },
    {
     "name": "stderr",
     "output_type": "stream",
     "text": [
      "RDKit ERROR: [17:28:56] UFFTYPER: Unrecognized atom type: N_ (3)\n",
      "RDKit ERROR: [17:28:56] UFFTYPER: Unrecognized atom type: N_ (3)\n",
      "RDKit ERROR: [17:28:56] UFFTYPER: Unrecognized atom type: N_ (3)\n",
      "RDKit ERROR: [17:28:56] UFFTYPER: Unrecognized atom type: N_ (3)\n",
      "RDKit ERROR: [17:28:56] UFFTYPER: Unrecognized atom type: N_ (3)\n",
      "RDKit ERROR: [17:28:56] UFFTYPER: Unrecognized atom type: N_ (3)\n",
      "RDKit ERROR: [17:28:56] UFFTYPER: Unrecognized atom type: N_ (3)\n",
      "RDKit ERROR: [17:28:56] UFFTYPER: Unrecognized atom type: N_ (3)\n",
      "RDKit ERROR: [17:28:56] UFFTYPER: Unrecognized atom type: N_ (3)\n",
      "RDKit ERROR: [17:28:56] UFFTYPER: Unrecognized atom type: N_ (3)\n",
      "RDKit ERROR: [17:28:56] UFFTYPER: Unrecognized atom type: N_ (3)\n",
      "RDKit ERROR: [17:28:56] UFFTYPER: Unrecognized atom type: N_ (3)\n",
      "RDKit ERROR: [17:28:56] UFFTYPER: Unrecognized atom type: N_ (3)\n",
      "RDKit ERROR: [17:28:56] UFFTYPER: Unrecognized atom type: N_ (3)\n",
      "RDKit ERROR: [17:28:56] UFFTYPER: Unrecognized atom type: N_ (3)\n",
      "RDKit ERROR: [17:28:56] UFFTYPER: Unrecognized atom type: N_ (3)\n",
      "RDKit ERROR: [17:28:56] UFFTYPER: Unrecognized atom type: N_ (3)\n",
      "RDKit ERROR: [17:28:56] UFFTYPER: Unrecognized atom type: N_ (3)\n",
      "[17:28:56] UFFTYPER: Unrecognized atom type: N_ (3)\n",
      "[17:28:56] UFFTYPER: Unrecognized atom type: N_ (3)\n",
      "[17:28:56] UFFTYPER: Unrecognized atom type: N_ (3)\n",
      "[17:28:56] UFFTYPER: Unrecognized atom type: N_ (3)\n",
      "[17:28:56] UFFTYPER: Unrecognized atom type: N_ (3)\n",
      "[17:28:56] UFFTYPER: Unrecognized atom type: N_ (3)\n",
      "[17:28:56] UFFTYPER: Unrecognized atom type: N_ (3)\n",
      "[17:28:56] UFFTYPER: Unrecognized atom type: N_ (3)\n",
      "[17:28:56] UFFTYPER: Unrecognized atom type: N_ (3)\n",
      "[17:28:56] UFFTYPER: Unrecognized atom type: N_ (3)\n",
      "[17:28:56] UFFTYPER: Unrecognized atom type: N_ (3)\n",
      "[17:28:56] UFFTYPER: Unrecognized atom type: N_ (3)\n",
      "[17:28:56] UFFTYPER: Unrecognized atom type: N_ (3)\n",
      "[17:28:56] UFFTYPER: Unrecognized atom type: N_ (3)\n",
      "[17:28:56] UFFTYPER: Unrecognized atom type: N_ (3)\n",
      "[17:28:56] UFFTYPER: Unrecognized atom type: N_ (3)\n",
      "[17:28:56] UFFTYPER: Unrecognized atom type: N_ (3)\n",
      "[17:28:56] UFFTYPER: Unrecognized atom type: N_ (3)\n",
      "[17:28:56] UFFTYPER: Unrecognized atom type: N_ (3)\n",
      "RDKit ERROR: [17:28:56] UFFTYPER: Unrecognized atom type: N_ (3)\n",
      "RDKit ERROR: [17:28:56] UFFTYPER: Unrecognized atom type: N_ (3)\n",
      "RDKit ERROR: [17:28:57] UFFTYPER: Unrecognized atom type: N_ (3)\n",
      "RDKit ERROR: [17:28:57] UFFTYPER: Unrecognized atom type: N_ (3)\n",
      "RDKit ERROR: [17:28:57] UFFTYPER: Unrecognized atom type: N_ (3)\n",
      "RDKit ERROR: [17:28:57] UFFTYPER: Unrecognized atom type: N_ (3)\n",
      "RDKit ERROR: [17:28:57] UFFTYPER: Unrecognized atom type: N_ (3)\n",
      "RDKit ERROR: [17:28:57] UFFTYPER: Unrecognized atom type: N_ (3)\n",
      "RDKit ERROR: [17:28:57] UFFTYPER: Unrecognized atom type: N_ (3)\n",
      "RDKit ERROR: [17:28:57] UFFTYPER: Unrecognized atom type: N_ (3)\n",
      "RDKit ERROR: [17:28:57] UFFTYPER: Unrecognized atom type: N_ (3)\n",
      "RDKit ERROR: [17:28:57] UFFTYPER: Unrecognized atom type: N_ (3)\n",
      "RDKit ERROR: [17:28:57] UFFTYPER: Unrecognized atom type: N_ (3)\n",
      "RDKit ERROR: [17:28:57] UFFTYPER: Unrecognized atom type: N_ (3)\n",
      "RDKit ERROR: [17:28:57] UFFTYPER: Unrecognized atom type: N_ (3)\n",
      "RDKit ERROR: [17:28:57] UFFTYPER: Unrecognized atom type: N_ (3)\n",
      "[17:28:56] UFFTYPER: Unrecognized atom type: N_ (3)\n",
      "[17:28:57] UFFTYPER: Unrecognized atom type: N_ (3)\n",
      "[17:28:57] UFFTYPER: Unrecognized atom type: N_ (3)\n",
      "[17:28:57] UFFTYPER: Unrecognized atom type: N_ (3)\n",
      "[17:28:57] UFFTYPER: Unrecognized atom type: N_ (3)\n",
      "[17:28:57] UFFTYPER: Unrecognized atom type: N_ (3)\n",
      "[17:28:57] UFFTYPER: Unrecognized atom type: N_ (3)\n",
      "[17:28:57] UFFTYPER: Unrecognized atom type: N_ (3)\n",
      "[17:28:57] UFFTYPER: Unrecognized atom type: N_ (3)\n",
      "[17:28:57] UFFTYPER: Unrecognized atom type: N_ (3)\n",
      "[17:28:57] UFFTYPER: Unrecognized atom type: N_ (3)\n",
      "[17:28:57] UFFTYPER: Unrecognized atom type: N_ (3)\n",
      "[17:28:57] UFFTYPER: Unrecognized atom type: N_ (3)\n",
      "[17:28:57] UFFTYPER: Unrecognized atom type: N_ (3)\n",
      "[17:28:57] UFFTYPER: Unrecognized atom type: N_ (3)\n",
      "[17:28:57] UFFTYPER: Unrecognized atom type: N_ (3)\n",
      "RDKit ERROR: [17:28:57] UFFTYPER: Unrecognized atom type: N_ (3)\n",
      "RDKit ERROR: [17:28:57] UFFTYPER: Unrecognized atom type: N_ (3)\n",
      "RDKit ERROR: [17:28:57] UFFTYPER: Unrecognized atom type: N_ (3)\n",
      "RDKit ERROR: [17:28:57] UFFTYPER: Unrecognized atom type: N_ (3)\n",
      "RDKit ERROR: [17:28:57] UFFTYPER: Unrecognized atom type: N_ (3)\n",
      "RDKit ERROR: [17:28:57] UFFTYPER: Unrecognized atom type: N_ (3)\n",
      "RDKit ERROR: [17:28:57] UFFTYPER: Unrecognized atom type: N_ (3)\n",
      "RDKit ERROR: [17:28:57] UFFTYPER: Unrecognized atom type: N_ (3)\n",
      "RDKit ERROR: [17:28:57] UFFTYPER: Unrecognized atom type: N_ (3)\n",
      "RDKit ERROR: [17:28:57] UFFTYPER: Unrecognized atom type: N_ (3)\n",
      "RDKit ERROR: [17:28:57] UFFTYPER: Unrecognized atom type: N_ (3)\n",
      "RDKit ERROR: [17:28:57] UFFTYPER: Unrecognized atom type: N_ (3)\n",
      "RDKit ERROR: [17:28:57] UFFTYPER: Unrecognized atom type: N_ (3)\n",
      "RDKit ERROR: [17:28:57] UFFTYPER: Unrecognized atom type: N_ (3)\n",
      "RDKit ERROR: [17:28:57] UFFTYPER: Unrecognized atom type: N_ (3)\n",
      "RDKit ERROR: [17:28:57] UFFTYPER: Unrecognized atom type: N_ (3)\n",
      "RDKit ERROR: [17:28:57] UFFTYPER: Unrecognized atom type: N_ (3)\n",
      "RDKit ERROR: [17:28:57] UFFTYPER: Unrecognized atom type: N_ (3)\n",
      "RDKit ERROR: [17:28:57] UFFTYPER: Unrecognized atom type: N_ (3)\n",
      "RDKit ERROR: [17:28:57] UFFTYPER: Unrecognized atom type: N_ (3)\n",
      "RDKit ERROR: [17:28:57] UFFTYPER: Unrecognized atom type: N_ (3)\n",
      "RDKit ERROR: [17:28:57] UFFTYPER: Unrecognized atom type: N_ (3)\n",
      "[17:28:57] UFFTYPER: Unrecognized atom type: N_ (3)\n",
      "[17:28:57] UFFTYPER: Unrecognized atom type: N_ (3)\n",
      "[17:28:57] UFFTYPER: Unrecognized atom type: N_ (3)\n",
      "[17:28:57] UFFTYPER: Unrecognized atom type: N_ (3)\n",
      "[17:28:57] UFFTYPER: Unrecognized atom type: N_ (3)\n",
      "[17:28:57] UFFTYPER: Unrecognized atom type: N_ (3)\n",
      "[17:28:57] UFFTYPER: Unrecognized atom type: N_ (3)\n",
      "[17:28:57] UFFTYPER: Unrecognized atom type: N_ (3)\n",
      "[17:28:57] UFFTYPER: Unrecognized atom type: N_ (3)\n",
      "[17:28:57] UFFTYPER: Unrecognized atom type: N_ (3)\n",
      "[17:28:57] UFFTYPER: Unrecognized atom type: N_ (3)\n",
      "[17:28:57] UFFTYPER: Unrecognized atom type: N_ (3)\n",
      "[17:28:57] UFFTYPER: Unrecognized atom type: N_ (3)\n",
      "[17:28:57] UFFTYPER: Unrecognized atom type: N_ (3)\n",
      "[17:28:57] UFFTYPER: Unrecognized atom type: N_ (3)\n",
      "[17:28:57] UFFTYPER: Unrecognized atom type: N_ (3)\n",
      "[17:28:57] UFFTYPER: Unrecognized atom type: N_ (3)\n",
      "[17:28:57] UFFTYPER: Unrecognized atom type: N_ (3)\n",
      "[17:28:57] UFFTYPER: Unrecognized atom type: N_ (3)\n",
      "[17:28:57] UFFTYPER: Unrecognized atom type: N_ (3)\n",
      "[17:28:57] UFFTYPER: Unrecognized atom type: N_ (3)\n",
      "RDKit ERROR: [17:28:57] UFFTYPER: Unrecognized atom type: N_ (3)\n",
      "RDKit ERROR: [17:28:57] UFFTYPER: Unrecognized atom type: N_ (3)\n",
      "RDKit ERROR: [17:28:57] UFFTYPER: Unrecognized atom type: N_ (3)\n",
      "RDKit ERROR: [17:28:57] UFFTYPER: Unrecognized atom type: N_ (3)\n",
      "RDKit ERROR: [17:28:57] UFFTYPER: Unrecognized atom type: N_ (3)\n",
      "RDKit ERROR: [17:28:57] UFFTYPER: Unrecognized atom type: N_ (3)\n",
      "RDKit ERROR: [17:28:57] UFFTYPER: Unrecognized atom type: N_ (3)\n",
      "RDKit ERROR: [17:28:57] UFFTYPER: Unrecognized atom type: N_ (3)\n",
      "RDKit ERROR: [17:28:57] UFFTYPER: Unrecognized atom type: N_ (3)\n",
      "RDKit ERROR: [17:28:57] UFFTYPER: Unrecognized atom type: N_ (3)\n",
      "RDKit ERROR: [17:28:57] UFFTYPER: Unrecognized atom type: N_ (3)\n",
      "RDKit ERROR: [17:28:57] UFFTYPER: Unrecognized atom type: N_ (3)\n",
      "RDKit ERROR: [17:28:57] UFFTYPER: Unrecognized atom type: N_ (3)\n",
      "RDKit ERROR: [17:28:57] UFFTYPER: Unrecognized atom type: N_ (3)\n",
      "RDKit ERROR: [17:28:57] UFFTYPER: Unrecognized atom type: N_ (3)\n",
      "RDKit ERROR: [17:28:57] UFFTYPER: Unrecognized atom type: N_ (3)\n",
      "[17:28:57] UFFTYPER: Unrecognized atom type: N_ (3)\n",
      "[17:28:57] UFFTYPER: Unrecognized atom type: N_ (3)\n",
      "[17:28:57] UFFTYPER: Unrecognized atom type: N_ (3)\n",
      "[17:28:57] UFFTYPER: Unrecognized atom type: N_ (3)\n",
      "[17:28:57] UFFTYPER: Unrecognized atom type: N_ (3)\n",
      "[17:28:57] UFFTYPER: Unrecognized atom type: N_ (3)\n",
      "[17:28:57] UFFTYPER: Unrecognized atom type: N_ (3)\n",
      "[17:28:57] UFFTYPER: Unrecognized atom type: N_ (3)\n",
      "[17:28:57] UFFTYPER: Unrecognized atom type: N_ (3)\n",
      "[17:28:57] UFFTYPER: Unrecognized atom type: N_ (3)\n",
      "[17:28:57] UFFTYPER: Unrecognized atom type: N_ (3)\n",
      "[17:28:57] UFFTYPER: Unrecognized atom type: N_ (3)\n",
      "[17:28:57] UFFTYPER: Unrecognized atom type: N_ (3)\n",
      "[17:28:57] UFFTYPER: Unrecognized atom type: N_ (3)\n",
      "[17:28:57] UFFTYPER: Unrecognized atom type: N_ (3)\n",
      "[17:28:57] UFFTYPER: Unrecognized atom type: N_ (3)\n",
      "RDKit ERROR: [17:28:57] UFFTYPER: Unrecognized atom type: N_ (3)\n",
      "RDKit ERROR: [17:28:57] UFFTYPER: Unrecognized atom type: N_ (3)\n",
      "RDKit ERROR: [17:28:57] UFFTYPER: Unrecognized atom type: N_ (3)\n",
      "RDKit ERROR: [17:28:57] UFFTYPER: Unrecognized atom type: N_ (3)\n",
      "RDKit ERROR: [17:28:57] UFFTYPER: Unrecognized atom type: N_ (3)\n",
      "RDKit ERROR: [17:28:57] UFFTYPER: Unrecognized atom type: N_ (3)\n",
      "RDKit ERROR: [17:28:57] UFFTYPER: Unrecognized atom type: N_ (3)\n",
      "RDKit ERROR: [17:28:57] UFFTYPER: Unrecognized atom type: N_ (3)\n",
      "RDKit ERROR: [17:28:57] UFFTYPER: Unrecognized atom type: N_ (3)\n",
      "RDKit ERROR: [17:28:57] UFFTYPER: Unrecognized atom type: N_ (3)\n",
      "RDKit ERROR: [17:28:57] UFFTYPER: Unrecognized atom type: N_ (3)\n",
      "RDKit ERROR: [17:28:57] UFFTYPER: Unrecognized atom type: N_ (3)\n",
      "RDKit ERROR: [17:28:57] UFFTYPER: Unrecognized atom type: N_ (3)\n",
      "RDKit ERROR: [17:28:57] UFFTYPER: Unrecognized atom type: N_ (3)\n",
      "RDKit ERROR: [17:28:57] UFFTYPER: Unrecognized atom type: N_ (3)\n",
      "RDKit ERROR: [17:28:57] UFFTYPER: Unrecognized atom type: N_ (3)\n",
      "[17:28:57] UFFTYPER: Unrecognized atom type: N_ (3)\n",
      "[17:28:57] UFFTYPER: Unrecognized atom type: N_ (3)\n",
      "[17:28:57] UFFTYPER: Unrecognized atom type: N_ (3)\n",
      "[17:28:57] UFFTYPER: Unrecognized atom type: N_ (3)\n",
      "[17:28:57] UFFTYPER: Unrecognized atom type: N_ (3)\n",
      "[17:28:57] UFFTYPER: Unrecognized atom type: N_ (3)\n",
      "[17:28:57] UFFTYPER: Unrecognized atom type: N_ (3)\n",
      "[17:28:57] UFFTYPER: Unrecognized atom type: N_ (3)\n",
      "[17:28:57] UFFTYPER: Unrecognized atom type: N_ (3)\n",
      "[17:28:57] UFFTYPER: Unrecognized atom type: N_ (3)\n",
      "[17:28:57] UFFTYPER: Unrecognized atom type: N_ (3)\n",
      "[17:28:57] UFFTYPER: Unrecognized atom type: N_ (3)\n",
      "[17:28:57] UFFTYPER: Unrecognized atom type: N_ (3)\n",
      "[17:28:57] UFFTYPER: Unrecognized atom type: N_ (3)\n",
      "[17:28:57] UFFTYPER: Unrecognized atom type: N_ (3)\n",
      "[17:28:57] UFFTYPER: Unrecognized atom type: N_ (3)\n",
      "RDKit ERROR: [17:28:57] UFFTYPER: Unrecognized atom type: N_ (3)\n",
      "RDKit ERROR: [17:28:57] UFFTYPER: Unrecognized atom type: N_ (3)\n",
      "RDKit ERROR: [17:28:57] UFFTYPER: Unrecognized atom type: N_ (3)\n",
      "RDKit ERROR: [17:28:57] UFFTYPER: Unrecognized atom type: N_ (3)\n",
      "RDKit ERROR: [17:28:57] UFFTYPER: Unrecognized atom type: N_ (3)\n",
      "RDKit ERROR: [17:28:57] UFFTYPER: Unrecognized atom type: N_ (3)\n",
      "RDKit ERROR: [17:28:57] UFFTYPER: Unrecognized atom type: N_ (3)\n",
      "RDKit ERROR: [17:28:57] UFFTYPER: Unrecognized atom type: N_ (3)\n",
      "RDKit ERROR: [17:28:57] UFFTYPER: Unrecognized atom type: N_ (3)\n",
      "RDKit ERROR: [17:28:57] UFFTYPER: Unrecognized atom type: N_ (3)\n",
      "RDKit ERROR: [17:28:57] UFFTYPER: Unrecognized atom type: N_ (3)\n",
      "RDKit ERROR: [17:28:57] UFFTYPER: Unrecognized atom type: N_ (3)\n",
      "RDKit ERROR: [17:28:57] UFFTYPER: Unrecognized atom type: N_ (3)\n",
      "[17:28:57] UFFTYPER: Unrecognized atom type: N_ (3)\n",
      "[17:28:57] UFFTYPER: Unrecognized atom type: N_ (3)\n",
      "[17:28:57] UFFTYPER: Unrecognized atom type: N_ (3)\n",
      "[17:28:57] UFFTYPER: Unrecognized atom type: N_ (3)\n",
      "[17:28:57] UFFTYPER: Unrecognized atom type: N_ (3)\n",
      "[17:28:57] UFFTYPER: Unrecognized atom type: N_ (3)\n",
      "[17:28:57] UFFTYPER: Unrecognized atom type: N_ (3)\n",
      "[17:28:57] UFFTYPER: Unrecognized atom type: N_ (3)\n",
      "[17:28:57] UFFTYPER: Unrecognized atom type: N_ (3)\n",
      "[17:28:57] UFFTYPER: Unrecognized atom type: N_ (3)\n",
      "[17:28:57] UFFTYPER: Unrecognized atom type: N_ (3)\n",
      "[17:28:57] UFFTYPER: Unrecognized atom type: N_ (3)\n",
      "[17:28:57] UFFTYPER: Unrecognized atom type: N_ (3)\n"
     ]
    },
    {
     "name": "stdout",
     "output_type": "stream",
     "text": [
      "Starting GOLD with conf file /home/benoit/bioactive_conformation_predictor/gold_docking_postprocessing/882/api_gold.conf\n",
      "Setting up GOLD environment...\n",
      "GOLD Version 2021.2.0\n",
      "Running:\n",
      " \n",
      "     \"/home/benoit/CCDC/Discovery_2021/GOLD/gold/d_linux_64/bin/gold_linux_64\" \"/home/benoit/bioactive_conformation_predictor/gold_docking_postprocessing/882/api_gold.conf\"\n",
      "\n",
      "0\n",
      "Starting GOLD with conf file /home/benoit/bioactive_conformation_predictor/gold_docking_postprocessing/977/api_gold.conf\n",
      "Setting up GOLD environment...\n",
      "GOLD Version 2021.2.0\n",
      "Running:\n",
      " \n",
      "     \"/home/benoit/CCDC/Discovery_2021/GOLD/gold/d_linux_64/bin/gold_linux_64\" \"/home/benoit/bioactive_conformation_predictor/gold_docking_postprocessing/977/api_gold.conf\"\n",
      "\n",
      "0\n",
      "Starting GOLD with conf file /home/benoit/bioactive_conformation_predictor/gold_docking_postprocessing/911/api_gold.conf\n",
      "Setting up GOLD environment...\n",
      "GOLD Version 2021.2.0\n",
      "Running:\n",
      " \n",
      "     \"/home/benoit/CCDC/Discovery_2021/GOLD/gold/d_linux_64/bin/gold_linux_64\" \"/home/benoit/bioactive_conformation_predictor/gold_docking_postprocessing/911/api_gold.conf\"\n",
      "\n",
      "0\n",
      "Starting GOLD with conf file /home/benoit/bioactive_conformation_predictor/gold_docking_postprocessing/1090/api_gold.conf\n",
      "Setting up GOLD environment...\n",
      "GOLD Version 2021.2.0\n",
      "Running:\n",
      " \n",
      "     \"/home/benoit/CCDC/Discovery_2021/GOLD/gold/d_linux_64/bin/gold_linux_64\" \"/home/benoit/bioactive_conformation_predictor/gold_docking_postprocessing/1090/api_gold.conf\"\n",
      "\n",
      "0\n",
      "Starting GOLD with conf file /home/benoit/bioactive_conformation_predictor/gold_docking_postprocessing/1047/api_gold.conf\n",
      "Setting up GOLD environment...\n",
      "GOLD Version 2021.2.0\n",
      "Running:\n",
      " \n",
      "     \"/home/benoit/CCDC/Discovery_2021/GOLD/gold/d_linux_64/bin/gold_linux_64\" \"/home/benoit/bioactive_conformation_predictor/gold_docking_postprocessing/1047/api_gold.conf\"\n",
      "\n",
      "Starting GOLD with conf file /home/benoit/bioactive_conformation_predictor/gold_docking_postprocessing/1031/api_gold.conf\n",
      "Setting up GOLD environment...\n",
      "GOLD Version 2021.2.0\n",
      "0\n",
      "Running:\n",
      " \n",
      "     \"/home/benoit/CCDC/Discovery_2021/GOLD/gold/d_linux_64/bin/gold_linux_64\" \"/home/benoit/bioactive_conformation_predictor/gold_docking_postprocessing/1031/api_gold.conf\"\n",
      "\n",
      "0\n",
      "Starting GOLD with conf file /home/benoit/bioactive_conformation_predictor/gold_docking_postprocessing/883/api_gold.conf\n",
      "Setting up GOLD environment...\n",
      "GOLD Version 2021.2.0\n",
      "Running:\n",
      " \n",
      "     \"/home/benoit/CCDC/Discovery_2021/GOLD/gold/d_linux_64/bin/gold_linux_64\" \"/home/benoit/bioactive_conformation_predictor/gold_docking_postprocessing/883/api_gold.conf\"\n",
      "\n",
      "0\n",
      "0\n",
      "Starting GOLD with conf file /home/benoit/bioactive_conformation_predictor/gold_docking_postprocessing/1005/api_gold.conf\n",
      "Setting up GOLD environment...\n",
      "GOLD Version 2021.2.0\n",
      "Running:\n",
      " \n",
      "     \"/home/benoit/CCDC/Discovery_2021/GOLD/gold/d_linux_64/bin/gold_linux_64\" \"/home/benoit/bioactive_conformation_predictor/gold_docking_postprocessing/1005/api_gold.conf\"\n",
      "\n",
      "Starting GOLD with conf file /home/benoit/bioactive_conformation_predictor/gold_docking_postprocessing/933/api_gold.conf\n",
      "Setting up GOLD environment...\n",
      "GOLD Version 2021.2.0\n",
      "Running:\n",
      " \n",
      "     \"/home/benoit/CCDC/Discovery_2021/GOLD/gold/d_linux_64/bin/gold_linux_64\" \"/home/benoit/bioactive_conformation_predictor/gold_docking_postprocessing/933/api_gold.conf\"\n",
      "\n",
      "0\n",
      "0\n",
      "Starting GOLD with conf file /home/benoit/bioactive_conformation_predictor/gold_docking_postprocessing/1091/api_gold.conf\n",
      "Setting up GOLD environment...\n",
      "GOLD Version 2021.2.0\n",
      "Running:\n",
      " \n",
      "     \"/home/benoit/CCDC/Discovery_2021/GOLD/gold/d_linux_64/bin/gold_linux_64\" \"/home/benoit/bioactive_conformation_predictor/gold_docking_postprocessing/1091/api_gold.conf\"\n",
      "\n"
     ]
    },
    {
     "name": "stderr",
     "output_type": "stream",
     "text": [
      "RDKit WARNING: [17:29:24] unknown|977|mol2|1|dock30: warning - O.co2 with non C.2 or S.o2 neighbor.\n",
      "RDKit WARNING: [17:29:24] unknown|977|mol2|1|dock76: warning - O.co2 with non C.2 or S.o2 neighbor.\n",
      "[17:29:24] unknown|977|mol2|1|dock30: warning - O.co2 with non C.2 or S.o2 neighbor.\n",
      "[17:29:24] unknown|977|mol2|1|dock76: warning - O.co2 with non C.2 or S.o2 neighbor.\n",
      "RDKit WARNING: [17:29:25] unknown|977|mol2|1|dock76: warning - O.co2 with non C.2 or S.o2 neighbor.\n",
      "RDKit WARNING: [17:29:25] unknown|977|mol2|1|dock76: warning - O.co2 with non C.2 or S.o2 neighbor.\n",
      "[17:29:25] unknown|977|mol2|1|dock76: warning - O.co2 with non C.2 or S.o2 neighbor.\n",
      "[17:29:25] unknown|977|mol2|1|dock76: warning - O.co2 with non C.2 or S.o2 neighbor.\n",
      "RDKit WARNING: [17:29:25] unknown|977|mol2|1|dock76: warning - O.co2 with non C.2 or S.o2 neighbor.\n",
      "RDKit WARNING: [17:29:25] unknown|977|mol2|1|dock76: warning - O.co2 with non C.2 or S.o2 neighbor.\n"
     ]
    },
    {
     "name": "stdout",
     "output_type": "stream",
     "text": [
      "Starting GOLD with conf file /home/benoit/bioactive_conformation_predictor/gold_docking_postprocessing/978/api_gold.conf\n"
     ]
    },
    {
     "name": "stderr",
     "output_type": "stream",
     "text": [
      "[17:29:25] unknown|977|mol2|1|dock76: warning - O.co2 with non C.2 or S.o2 neighbor.\n",
      "[17:29:25] unknown|977|mol2|1|dock76: warning - O.co2 with non C.2 or S.o2 neighbor.\n"
     ]
    },
    {
     "name": "stdout",
     "output_type": "stream",
     "text": [
      "0\n",
      "Setting up GOLD environment...\n",
      "GOLD Version 2021.2.0\n",
      "Running:\n",
      " \n",
      "     \"/home/benoit/CCDC/Discovery_2021/GOLD/gold/d_linux_64/bin/gold_linux_64\" \"/home/benoit/bioactive_conformation_predictor/gold_docking_postprocessing/978/api_gold.conf\"\n",
      "\n",
      "Starting GOLD with conf file /home/benoit/bioactive_conformation_predictor/gold_docking_postprocessing/1048/api_gold.conf\n",
      "Setting up GOLD environment...\n",
      "GOLD Version 2021.2.0\n",
      "Running:\n",
      " \n",
      "     \"/home/benoit/CCDC/Discovery_2021/GOLD/gold/d_linux_64/bin/gold_linux_64\" \"/home/benoit/bioactive_conformation_predictor/gold_docking_postprocessing/1048/api_gold.conf\"\n",
      "\n",
      "0\n",
      "0\n",
      "Starting GOLD with conf file /home/benoit/bioactive_conformation_predictor/gold_docking_postprocessing/884/api_gold.conf\n",
      "Setting up GOLD environment...\n",
      "GOLD Version 2021.2.0\n",
      "Running:\n",
      " \n",
      "     \"/home/benoit/CCDC/Discovery_2021/GOLD/gold/d_linux_64/bin/gold_linux_64\" \"/home/benoit/bioactive_conformation_predictor/gold_docking_postprocessing/884/api_gold.conf\"\n",
      "\n",
      "0\n",
      "Starting GOLD with conf file /home/benoit/bioactive_conformation_predictor/gold_docking_postprocessing/959/api_gold.conf\n",
      "0\n",
      "Setting up GOLD environment...\n",
      "GOLD Version 2021.2.0\n",
      "Running:\n",
      " \n",
      "     \"/home/benoit/CCDC/Discovery_2021/GOLD/gold/d_linux_64/bin/gold_linux_64\" \"/home/benoit/bioactive_conformation_predictor/gold_docking_postprocessing/959/api_gold.conf\"\n",
      "\n",
      "0\n",
      "Starting GOLD with conf file /home/benoit/bioactive_conformation_predictor/gold_docking_postprocessing/979/api_gold.conf\n",
      "Setting up GOLD environment...\n",
      "GOLD Version 2021.2.0\n",
      "Running:\n",
      " \n",
      "     \"/home/benoit/CCDC/Discovery_2021/GOLD/gold/d_linux_64/bin/gold_linux_64\" \"/home/benoit/bioactive_conformation_predictor/gold_docking_postprocessing/979/api_gold.conf\"\n",
      "\n"
     ]
    },
    {
     "name": "stderr",
     "output_type": "stream",
     "text": [
      "RDKit WARNING: [17:29:43] unknown|1091|mol2|1|dock42: warning - O.co2 with non C.2 or S.o2 neighbor.\n",
      "RDKit WARNING: [17:29:43] unknown|1091|mol2|1|dock61: warning - O.co2 with non C.2 or S.o2 neighbor.\n",
      "[17:29:43] unknown|1091|mol2|1|dock42: warning - O.co2 with non C.2 or S.o2 neighbor.\n",
      "[17:29:43] unknown|1091|mol2|1|dock61: warning - O.co2 with non C.2 or S.o2 neighbor.\n"
     ]
    },
    {
     "name": "stdout",
     "output_type": "stream",
     "text": [
      "0\n"
     ]
    },
    {
     "name": "stderr",
     "output_type": "stream",
     "text": [
      "RDKit WARNING: [17:29:43] unknown|1091|mol2|1|dock42: warning - O.co2 with non C.2 or S.o2 neighbor.\n",
      "RDKit WARNING: [17:29:43] unknown|1091|mol2|1|dock99: warning - O.co2 with non C.2 or S.o2 neighbor.\n",
      "[17:29:43] unknown|1091|mol2|1|dock42: warning - O.co2 with non C.2 or S.o2 neighbor.\n",
      "[17:29:43] unknown|1091|mol2|1|dock99: warning - O.co2 with non C.2 or S.o2 neighbor.\n"
     ]
    },
    {
     "name": "stdout",
     "output_type": "stream",
     "text": [
      "0\n"
     ]
    },
    {
     "name": "stderr",
     "output_type": "stream",
     "text": [
      "RDKit WARNING: [17:29:44] unknown|1091|mol2|1|dock81: warning - O.co2 with non C.2 or S.o2 neighbor.\n",
      "RDKit WARNING: [17:29:44] unknown|1091|mol2|1|dock26: warning - O.co2 with non C.2 or S.o2 neighbor.\n"
     ]
    },
    {
     "name": "stdout",
     "output_type": "stream",
     "text": [
      "Starting GOLD with conf file /home/benoit/bioactive_conformation_predictor/gold_docking_postprocessing/1092/api_gold.conf\n"
     ]
    },
    {
     "name": "stderr",
     "output_type": "stream",
     "text": [
      "[17:29:44] unknown|1091|mol2|1|dock81: warning - O.co2 with non C.2 or S.o2 neighbor.\n",
      "[17:29:44] unknown|1091|mol2|1|dock26: warning - O.co2 with non C.2 or S.o2 neighbor.\n"
     ]
    },
    {
     "name": "stdout",
     "output_type": "stream",
     "text": [
      "Starting GOLD with conf file /home/benoit/bioactive_conformation_predictor/gold_docking_postprocessing/934/api_gold.conf\n",
      "Setting up GOLD environment...\n",
      "GOLD Version 2021.2.0\n",
      "Running:\n",
      " \n",
      "     \"/home/benoit/CCDC/Discovery_2021/GOLD/gold/d_linux_64/bin/gold_linux_64\" \"/home/benoit/bioactive_conformation_predictor/gold_docking_postprocessing/1092/api_gold.conf\"\n",
      "\n",
      "Setting up GOLD environment...\n",
      "GOLD Version 2021.2.0\n",
      "Running:\n",
      " \n",
      "     \"/home/benoit/CCDC/Discovery_2021/GOLD/gold/d_linux_64/bin/gold_linux_64\" \"/home/benoit/bioactive_conformation_predictor/gold_docking_postprocessing/934/api_gold.conf\"\n",
      "\n",
      "Starting GOLD with conf file /home/benoit/bioactive_conformation_predictor/gold_docking_postprocessing/1006/api_gold.conf\n",
      "Setting up GOLD environment...\n",
      "GOLD Version 2021.2.0\n",
      "Running:\n",
      " \n",
      "     \"/home/benoit/CCDC/Discovery_2021/GOLD/gold/d_linux_64/bin/gold_linux_64\" \"/home/benoit/bioactive_conformation_predictor/gold_docking_postprocessing/1006/api_gold.conf\"\n",
      "\n"
     ]
    },
    {
     "name": "stderr",
     "output_type": "stream",
     "text": [
      "RDKit ERROR: [17:29:50] non-ring atom 34 marked aromatic\n",
      "RDKit ERROR: [17:29:50] non-ring atom 34 marked aromatic\n",
      "[17:29:50] non-ring atom 34 marked aromatic\n",
      "[17:29:50] non-ring atom 34 marked aromatic\n",
      "RDKit ERROR: [17:29:51] non-ring atom 34 marked aromatic\n",
      "RDKit ERROR: [17:29:51] non-ring atom 34 marked aromatic\n",
      "[17:29:51] non-ring atom 34 marked aromatic\n",
      "[17:29:51] non-ring atom 34 marked aromatic\n",
      "RDKit ERROR: [17:29:51] non-ring atom 34 marked aromatic\n",
      "RDKit ERROR: [17:29:51] non-ring atom 34 marked aromatic\n"
     ]
    },
    {
     "name": "stdout",
     "output_type": "stream",
     "text": [
      "Starting GOLD with conf file /home/benoit/bioactive_conformation_predictor/gold_docking_postprocessing/862/api_gold.conf\n"
     ]
    },
    {
     "name": "stderr",
     "output_type": "stream",
     "text": [
      "[17:29:51] non-ring atom 34 marked aromatic\n",
      "[17:29:51] non-ring atom 34 marked aromatic\n"
     ]
    },
    {
     "name": "stdout",
     "output_type": "stream",
     "text": [
      "Setting up GOLD environment...\n",
      "GOLD Version 2021.2.0\n",
      "Running:\n",
      " \n",
      "     \"/home/benoit/CCDC/Discovery_2021/GOLD/gold/d_linux_64/bin/gold_linux_64\" \"/home/benoit/bioactive_conformation_predictor/gold_docking_postprocessing/862/api_gold.conf\"\n",
      "\n",
      "0\n",
      "Starting GOLD with conf file /home/benoit/bioactive_conformation_predictor/gold_docking_postprocessing/1049/api_gold.conf\n",
      "Setting up GOLD environment...\n",
      "GOLD Version 2021.2.0\n",
      "Running:\n",
      " \n",
      "     \"/home/benoit/CCDC/Discovery_2021/GOLD/gold/d_linux_64/bin/gold_linux_64\" \"/home/benoit/bioactive_conformation_predictor/gold_docking_postprocessing/1049/api_gold.conf\"\n",
      "\n",
      "0\n",
      "0\n",
      "Starting GOLD with conf file /home/benoit/bioactive_conformation_predictor/gold_docking_postprocessing/885/api_gold.conf\n",
      "Setting up GOLD environment...\n",
      "GOLD Version 2021.2.0\n",
      "Running:\n",
      " \n",
      "     \"/home/benoit/CCDC/Discovery_2021/GOLD/gold/d_linux_64/bin/gold_linux_64\" \"/home/benoit/bioactive_conformation_predictor/gold_docking_postprocessing/885/api_gold.conf\"\n",
      "\n",
      "Starting GOLD with conf file /home/benoit/bioactive_conformation_predictor/gold_docking_postprocessing/980/api_gold.conf\n",
      "Setting up GOLD environment...\n",
      "GOLD Version 2021.2.0\n",
      "Running:\n",
      " \n",
      "     \"/home/benoit/CCDC/Discovery_2021/GOLD/gold/d_linux_64/bin/gold_linux_64\" \"/home/benoit/bioactive_conformation_predictor/gold_docking_postprocessing/980/api_gold.conf\"\n",
      "\n",
      "0\n",
      "0\n",
      "0\n",
      "Starting GOLD with conf file /home/benoit/bioactive_conformation_predictor/gold_docking_postprocessing/886/api_gold.conf\n",
      "Starting GOLD with conf file /home/benoit/bioactive_conformation_predictor/gold_docking_postprocessing/1093/api_gold.conf\n",
      "Setting up GOLD environment...\n",
      "GOLD Version 2021.2.0\n",
      "Running:\n",
      " \n",
      "     \"/home/benoit/CCDC/Discovery_2021/GOLD/gold/d_linux_64/bin/gold_linux_64\" \"/home/benoit/bioactive_conformation_predictor/gold_docking_postprocessing/886/api_gold.conf\"\n",
      "\n",
      "Setting up GOLD environment...\n",
      "GOLD Version 2021.2.0\n",
      "Running:\n",
      " \n",
      "     \"/home/benoit/CCDC/Discovery_2021/GOLD/gold/d_linux_64/bin/gold_linux_64\" \"/home/benoit/bioactive_conformation_predictor/gold_docking_postprocessing/1093/api_gold.conf\"\n",
      "\n",
      "0\n",
      "0\n"
     ]
    },
    {
     "name": "stderr",
     "output_type": "stream",
     "text": [
      "RDKit WARNING: [17:30:18] unknown|959|mol2|1|dock28: warning - O.co2 with non C.2 or S.o2 neighbor.\n",
      "RDKit WARNING: [17:30:18] unknown|959|mol2|1|dock28: warning - O.co2 with non C.2 or S.o2 neighbor.\n",
      "[17:30:18] unknown|959|mol2|1|dock28: warning - O.co2 with non C.2 or S.o2 neighbor.\n",
      "[17:30:18] unknown|959|mol2|1|dock28: warning - O.co2 with non C.2 or S.o2 neighbor.\n",
      "RDKit WARNING: [17:30:18] unknown|959|mol2|1|dock24: warning - O.co2 with non C.2 or S.o2 neighbor.\n",
      "RDKit WARNING: [17:30:18] unknown|959|mol2|1|dock69: warning - O.co2 with non C.2 or S.o2 neighbor.\n"
     ]
    },
    {
     "name": "stdout",
     "output_type": "stream",
     "text": [
      "0\n"
     ]
    },
    {
     "name": "stderr",
     "output_type": "stream",
     "text": [
      "[17:30:18] unknown|959|mol2|1|dock24: warning - O.co2 with non C.2 or S.o2 neighbor.\n",
      "[17:30:18] unknown|959|mol2|1|dock69: warning - O.co2 with non C.2 or S.o2 neighbor.\n",
      "RDKit WARNING: [17:30:19] unknown|959|mol2|1|dock65: warning - O.co2 with non C.2 or S.o2 neighbor.\n",
      "RDKit WARNING: [17:30:19] unknown|959|mol2|1|dock65: warning - O.co2 with non C.2 or S.o2 neighbor.\n",
      "[17:30:19] unknown|959|mol2|1|dock65: warning - O.co2 with non C.2 or S.o2 neighbor.\n",
      "[17:30:19] unknown|959|mol2|1|dock65: warning - O.co2 with non C.2 or S.o2 neighbor.\n",
      "RDKit WARNING: [17:30:20] unknown|980|mol2|1|dock34: warning - O.co2 with non C.2 or S.o2 neighbor.\n",
      "RDKit WARNING: [17:30:20] unknown|980|mol2|1|dock93: warning - O.co2 with non C.2 or S.o2 neighbor.\n",
      "[17:30:20] unknown|980|mol2|1|dock34: warning - O.co2 with non C.2 or S.o2 neighbor.\n",
      "[17:30:20] unknown|980|mol2|1|dock93: warning - O.co2 with non C.2 or S.o2 neighbor.\n",
      "RDKit WARNING: [17:30:21] unknown|980|mol2|1|dock20: warning - O.co2 with non C.2 or S.o2 neighbor.\n",
      "RDKit WARNING: [17:30:21] unknown|980|mol2|1|dock44: warning - O.co2 with non C.2 or S.o2 neighbor.\n",
      "[17:30:21] unknown|980|mol2|1|dock20: warning - O.co2 with non C.2 or S.o2 neighbor.\n",
      "[17:30:21] unknown|980|mol2|1|dock44: warning - O.co2 with non C.2 or S.o2 neighbor.\n",
      "RDKit WARNING: [17:30:21] unknown|980|mol2|1|dock34: warning - O.co2 with non C.2 or S.o2 neighbor.\n",
      "RDKit WARNING: [17:30:21] unknown|980|mol2|1|dock85: warning - O.co2 with non C.2 or S.o2 neighbor.\n"
     ]
    },
    {
     "name": "stdout",
     "output_type": "stream",
     "text": [
      "Starting GOLD with conf file /home/benoit/bioactive_conformation_predictor/gold_docking_postprocessing/981/api_gold.conf\n"
     ]
    },
    {
     "name": "stderr",
     "output_type": "stream",
     "text": [
      "[17:30:21] unknown|980|mol2|1|dock34: warning - O.co2 with non C.2 or S.o2 neighbor.\n",
      "[17:30:21] unknown|980|mol2|1|dock85: warning - O.co2 with non C.2 or S.o2 neighbor.\n"
     ]
    },
    {
     "name": "stdout",
     "output_type": "stream",
     "text": [
      "Starting GOLD with conf file /home/benoit/bioactive_conformation_predictor/gold_docking_postprocessing/935/api_gold.conf\n",
      "Setting up GOLD environment...\n",
      "GOLD Version 2021.2.0\n",
      "Running:\n",
      " \n",
      "     \"/home/benoit/CCDC/Discovery_2021/GOLD/gold/d_linux_64/bin/gold_linux_64\" \"/home/benoit/bioactive_conformation_predictor/gold_docking_postprocessing/981/api_gold.conf\"\n",
      "\n",
      "Setting up GOLD environment...\n",
      "GOLD Version 2021.2.0\n",
      "Running:\n",
      " \n",
      "     \"/home/benoit/CCDC/Discovery_2021/GOLD/gold/d_linux_64/bin/gold_linux_64\" \"/home/benoit/bioactive_conformation_predictor/gold_docking_postprocessing/935/api_gold.conf\"\n",
      "\n"
     ]
    },
    {
     "name": "stderr",
     "output_type": "stream",
     "text": [
      "RDKit WARNING: [17:30:22] unknown|1006|mol2|1|dock78: warning - O.co2 with non C.2 or S.o2 neighbor.\n",
      "RDKit WARNING: [17:30:22] unknown|1006|mol2|1|dock57: warning - O.co2 with non C.2 or S.o2 neighbor.\n",
      "[17:30:22] unknown|1006|mol2|1|dock78: warning - O.co2 with non C.2 or S.o2 neighbor.\n",
      "[17:30:22] unknown|1006|mol2|1|dock57: warning - O.co2 with non C.2 or S.o2 neighbor.\n",
      "RDKit WARNING: [17:30:22] unknown|1006|mol2|1|dock78: warning - O.co2 with non C.2 or S.o2 neighbor.\n",
      "RDKit WARNING: [17:30:22] unknown|1006|mol2|1|dock69: warning - O.co2 with non C.2 or S.o2 neighbor.\n"
     ]
    },
    {
     "name": "stdout",
     "output_type": "stream",
     "text": [
      "0\n"
     ]
    },
    {
     "name": "stderr",
     "output_type": "stream",
     "text": [
      "[17:30:22] unknown|1006|mol2|1|dock78: warning - O.co2 with non C.2 or S.o2 neighbor.\n",
      "[17:30:22] unknown|1006|mol2|1|dock69: warning - O.co2 with non C.2 or S.o2 neighbor.\n",
      "RDKit WARNING: [17:30:23] unknown|1006|mol2|1|dock9: warning - O.co2 with non C.2 or S.o2 neighbor.\n",
      "RDKit WARNING: [17:30:23] unknown|1006|mol2|1|dock14: warning - O.co2 with non C.2 or S.o2 neighbor.\n"
     ]
    },
    {
     "name": "stdout",
     "output_type": "stream",
     "text": [
      "0\n"
     ]
    },
    {
     "name": "stderr",
     "output_type": "stream",
     "text": [
      "[17:30:23] unknown|1006|mol2|1|dock9: warning - O.co2 with non C.2 or S.o2 neighbor.\n",
      "[17:30:23] unknown|1006|mol2|1|dock14: warning - O.co2 with non C.2 or S.o2 neighbor.\n"
     ]
    },
    {
     "name": "stdout",
     "output_type": "stream",
     "text": [
      "Starting GOLD with conf file /home/benoit/bioactive_conformation_predictor/gold_docking_postprocessing/1007/api_gold.conf\n",
      "Setting up GOLD environment...\n",
      "GOLD Version 2021.2.0\n",
      "Running:\n",
      " \n",
      "     \"/home/benoit/CCDC/Discovery_2021/GOLD/gold/d_linux_64/bin/gold_linux_64\" \"/home/benoit/bioactive_conformation_predictor/gold_docking_postprocessing/1007/api_gold.conf\"\n",
      "\n"
     ]
    },
    {
     "name": "stderr",
     "output_type": "stream",
     "text": [
      "RDKit WARNING: [17:30:24] unknown|1093|mol2|1|dock74: warning - O.co2 with non C.2 or S.o2 neighbor.\n",
      "RDKit WARNING: [17:30:24] unknown|1093|mol2|1|dock59: warning - O.co2 with non C.2 or S.o2 neighbor.\n",
      "[17:30:24] unknown|1093|mol2|1|dock74: warning - O.co2 with non C.2 or S.o2 neighbor.\n",
      "[17:30:24] unknown|1093|mol2|1|dock59: warning - O.co2 with non C.2 or S.o2 neighbor.\n",
      "RDKit WARNING: [17:30:24] unknown|1093|mol2|1|dock74: warning - O.co2 with non C.2 or S.o2 neighbor.\n",
      "RDKit WARNING: [17:30:24] unknown|1093|mol2|1|dock65: warning - O.co2 with non C.2 or S.o2 neighbor.\n",
      "[17:30:24] unknown|1093|mol2|1|dock74: warning - O.co2 with non C.2 or S.o2 neighbor.\n",
      "[17:30:24] unknown|1093|mol2|1|dock65: warning - O.co2 with non C.2 or S.o2 neighbor.\n",
      "RDKit WARNING: [17:30:25] unknown|1093|mol2|1|dock45: warning - O.co2 with non C.2 or S.o2 neighbor.\n",
      "RDKit WARNING: [17:30:25] unknown|1093|mol2|1|dock73: warning - O.co2 with non C.2 or S.o2 neighbor.\n"
     ]
    },
    {
     "name": "stdout",
     "output_type": "stream",
     "text": [
      "Starting GOLD with conf file /home/benoit/bioactive_conformation_predictor/gold_docking_postprocessing/1094/api_gold.conf\n"
     ]
    },
    {
     "name": "stderr",
     "output_type": "stream",
     "text": [
      "[17:30:25] unknown|1093|mol2|1|dock45: warning - O.co2 with non C.2 or S.o2 neighbor.\n",
      "[17:30:25] unknown|1093|mol2|1|dock73: warning - O.co2 with non C.2 or S.o2 neighbor.\n"
     ]
    },
    {
     "name": "stdout",
     "output_type": "stream",
     "text": [
      "Setting up GOLD environment...\n",
      "GOLD Version 2021.2.0\n",
      "Running:\n",
      " \n",
      "     \"/home/benoit/CCDC/Discovery_2021/GOLD/gold/d_linux_64/bin/gold_linux_64\" \"/home/benoit/bioactive_conformation_predictor/gold_docking_postprocessing/1094/api_gold.conf\"\n",
      "\n",
      "0\n",
      "Starting GOLD with conf file /home/benoit/bioactive_conformation_predictor/gold_docking_postprocessing/887/api_gold.conf\n",
      "Setting up GOLD environment...\n",
      "GOLD Version 2021.2.0\n",
      "Running:\n",
      " \n",
      "     \"/home/benoit/CCDC/Discovery_2021/GOLD/gold/d_linux_64/bin/gold_linux_64\" \"/home/benoit/bioactive_conformation_predictor/gold_docking_postprocessing/887/api_gold.conf\"\n",
      "\n",
      "0\n",
      "Starting GOLD with conf file /home/benoit/bioactive_conformation_predictor/gold_docking_postprocessing/1050/api_gold.conf\n",
      "Setting up GOLD environment...\n",
      "GOLD Version 2021.2.0\n",
      "Running:\n",
      " \n",
      "     \"/home/benoit/CCDC/Discovery_2021/GOLD/gold/d_linux_64/bin/gold_linux_64\" \"/home/benoit/bioactive_conformation_predictor/gold_docking_postprocessing/1050/api_gold.conf\"\n",
      "\n",
      "Starting GOLD with conf file /home/benoit/bioactive_conformation_predictor/gold_docking_postprocessing/863/api_gold.conf\n",
      "Setting up GOLD environment...\n",
      "GOLD Version 2021.2.0\n",
      "Running:\n",
      " \n",
      "     \"/home/benoit/CCDC/Discovery_2021/GOLD/gold/d_linux_64/bin/gold_linux_64\" \"/home/benoit/bioactive_conformation_predictor/gold_docking_postprocessing/863/api_gold.conf\"\n",
      "\n",
      "0\n",
      "0\n"
     ]
    },
    {
     "name": "stderr",
     "output_type": "stream",
     "text": [
      "RDKit WARNING: [17:30:39] unknown|1007|mol2|1|dock74: warning - O.co2 with non C.2 or S.o2 neighbor.\n",
      "RDKit WARNING: [17:30:39] unknown|1007|mol2|1|dock46: warning - O.co2 with non C.2 or S.o2 neighbor.\n",
      "[17:30:39] unknown|1007|mol2|1|dock74: warning - O.co2 with non C.2 or S.o2 neighbor.\n",
      "[17:30:39] unknown|1007|mol2|1|dock46: warning - O.co2 with non C.2 or S.o2 neighbor.\n",
      "RDKit WARNING: [17:30:40] unknown|1007|mol2|1|dock73: warning - O.co2 with non C.2 or S.o2 neighbor.\n",
      "RDKit WARNING: [17:30:40] unknown|1007|mol2|1|dock65: warning - O.co2 with non C.2 or S.o2 neighbor.\n",
      "[17:30:40] unknown|1007|mol2|1|dock73: warning - O.co2 with non C.2 or S.o2 neighbor.\n",
      "[17:30:40] unknown|1007|mol2|1|dock65: warning - O.co2 with non C.2 or S.o2 neighbor.\n"
     ]
    },
    {
     "name": "stdout",
     "output_type": "stream",
     "text": [
      "0\n"
     ]
    },
    {
     "name": "stderr",
     "output_type": "stream",
     "text": [
      "RDKit WARNING: [17:30:40] unknown|1007|mol2|1|dock47: warning - O.co2 with non C.2 or S.o2 neighbor.\n",
      "RDKit WARNING: [17:30:40] unknown|1007|mol2|1|dock65: warning - O.co2 with non C.2 or S.o2 neighbor.\n",
      "[17:30:40] unknown|1007|mol2|1|dock47: warning - O.co2 with non C.2 or S.o2 neighbor.\n",
      "[17:30:40] unknown|1007|mol2|1|dock65: warning - O.co2 with non C.2 or S.o2 neighbor.\n"
     ]
    },
    {
     "name": "stdout",
     "output_type": "stream",
     "text": [
      "0\n",
      "Starting GOLD with conf file /home/benoit/bioactive_conformation_predictor/gold_docking_postprocessing/1051/api_gold.conf\n",
      "Setting up GOLD environment...\n",
      "GOLD Version 2021.2.0\n",
      "Running:\n",
      " \n",
      "     \"/home/benoit/CCDC/Discovery_2021/GOLD/gold/d_linux_64/bin/gold_linux_64\" \"/home/benoit/bioactive_conformation_predictor/gold_docking_postprocessing/1051/api_gold.conf\"\n",
      "\n",
      "0\n",
      "0\n"
     ]
    },
    {
     "name": "stderr",
     "output_type": "stream",
     "text": [
      "RDKit WARNING: [17:30:48] unknown|1094|mol2|1|dock9: warning - O.co2 with non C.2 or S.o2 neighbor.\n",
      "RDKit WARNING: [17:30:48] unknown|1094|mol2|1|dock49: warning - O.co2 with non C.2 or S.o2 neighbor.\n",
      "[17:30:48] unknown|1094|mol2|1|dock9: warning - O.co2 with non C.2 or S.o2 neighbor.\n",
      "[17:30:48] unknown|1094|mol2|1|dock49: warning - O.co2 with non C.2 or S.o2 neighbor.\n",
      "RDKit WARNING: [17:30:49] unknown|1094|mol2|1|dock48: warning - O.co2 with non C.2 or S.o2 neighbor.\n",
      "RDKit WARNING: [17:30:49] unknown|1094|mol2|1|dock28: warning - O.co2 with non C.2 or S.o2 neighbor.\n",
      "[17:30:49] unknown|1094|mol2|1|dock48: warning - O.co2 with non C.2 or S.o2 neighbor.\n",
      "[17:30:49] unknown|1094|mol2|1|dock28: warning - O.co2 with non C.2 or S.o2 neighbor.\n",
      "RDKit WARNING: [17:30:49] unknown|1094|mol2|1|dock73: warning - O.co2 with non C.2 or S.o2 neighbor.\n",
      "RDKit WARNING: [17:30:49] unknown|1094|mol2|1|dock86: warning - O.co2 with non C.2 or S.o2 neighbor.\n",
      "[17:30:49] unknown|1094|mol2|1|dock73: warning - O.co2 with non C.2 or S.o2 neighbor.\n",
      "[17:30:49] unknown|1094|mol2|1|dock86: warning - O.co2 with non C.2 or S.o2 neighbor.\n"
     ]
    },
    {
     "name": "stdout",
     "output_type": "stream",
     "text": [
      "Starting GOLD with conf file /home/benoit/bioactive_conformation_predictor/gold_docking_postprocessing/1095/api_gold.conf\n",
      "Setting up GOLD environment...\n",
      "GOLD Version 2021.2.0\n",
      "Running:\n",
      " \n",
      "     \"/home/benoit/CCDC/Discovery_2021/GOLD/gold/d_linux_64/bin/gold_linux_64\" \"/home/benoit/bioactive_conformation_predictor/gold_docking_postprocessing/1095/api_gold.conf\"\n",
      "\n",
      "Starting GOLD with conf file /home/benoit/bioactive_conformation_predictor/gold_docking_postprocessing/982/api_gold.conf\n",
      "Setting up GOLD environment...\n",
      "GOLD Version 2021.2.0\n",
      "Running:\n",
      " \n",
      "     \"/home/benoit/CCDC/Discovery_2021/GOLD/gold/d_linux_64/bin/gold_linux_64\" \"/home/benoit/bioactive_conformation_predictor/gold_docking_postprocessing/982/api_gold.conf\"\n",
      "\n",
      "0\n",
      "0\n",
      "Starting GOLD with conf file /home/benoit/bioactive_conformation_predictor/gold_docking_postprocessing/1096/api_gold.conf\n",
      "Setting up GOLD environment...\n",
      "GOLD Version 2021.2.0\n",
      "Running:\n",
      " \n",
      "     \"/home/benoit/CCDC/Discovery_2021/GOLD/gold/d_linux_64/bin/gold_linux_64\" \"/home/benoit/bioactive_conformation_predictor/gold_docking_postprocessing/1096/api_gold.conf\"\n",
      "\n",
      "0\n",
      "Starting GOLD with conf file /home/benoit/bioactive_conformation_predictor/gold_docking_postprocessing/1052/api_gold.conf\n",
      "Setting up GOLD environment...\n",
      "GOLD Version 2021.2.0\n",
      "Running:\n",
      " \n",
      "     \"/home/benoit/CCDC/Discovery_2021/GOLD/gold/d_linux_64/bin/gold_linux_64\" \"/home/benoit/bioactive_conformation_predictor/gold_docking_postprocessing/1052/api_gold.conf\"\n",
      "\n",
      "0\n",
      "Starting GOLD with conf file /home/benoit/bioactive_conformation_predictor/gold_docking_postprocessing/983/api_gold.conf\n",
      "0\n",
      "Setting up GOLD environment...\n",
      "GOLD Version 2021.2.0\n",
      "Running:\n",
      " \n",
      "     \"/home/benoit/CCDC/Discovery_2021/GOLD/gold/d_linux_64/bin/gold_linux_64\" \"/home/benoit/bioactive_conformation_predictor/gold_docking_postprocessing/983/api_gold.conf\"\n",
      "\n",
      "Error with smiles O=C1C[C@]2(O)CC(=O)O[Fe+7]34(O1)(OC(=O)C[C@](O)(CC(=O)O3)C(=O)O4)OC2=O\n",
      "'NoneType' object has no attribute 'CalcEnergy'\n",
      "Starting GOLD with conf file /home/benoit/bioactive_conformation_predictor/gold_docking_postprocessing/1097/api_gold.conf\n",
      "Setting up GOLD environment...\n",
      "GOLD Version 2021.2.0\n",
      "Running:\n",
      " \n",
      "     \"/home/benoit/CCDC/Discovery_2021/GOLD/gold/d_linux_64/bin/gold_linux_64\" \"/home/benoit/bioactive_conformation_predictor/gold_docking_postprocessing/1097/api_gold.conf\"\n",
      "\n",
      "0\n",
      "Starting GOLD with conf file /home/benoit/bioactive_conformation_predictor/gold_docking_postprocessing/1053/api_gold.conf\n",
      "Setting up GOLD environment...\n",
      "GOLD Version 2021.2.0\n",
      "Running:\n",
      " \n",
      "     \"/home/benoit/CCDC/Discovery_2021/GOLD/gold/d_linux_64/bin/gold_linux_64\" \"/home/benoit/bioactive_conformation_predictor/gold_docking_postprocessing/1053/api_gold.conf\"\n",
      "\n",
      "0\n",
      "0\n"
     ]
    },
    {
     "name": "stderr",
     "output_type": "stream",
     "text": [
      "RDKit WARNING: [17:31:28] unknown|1097|mol2|1|dock37: warning - O.co2 with non C.2 or S.o2 neighbor.\n",
      "RDKit WARNING: [17:31:28] unknown|1097|mol2|1|dock70: warning - O.co2 with non C.2 or S.o2 neighbor.\n",
      "[17:31:28] unknown|1097|mol2|1|dock37: warning - O.co2 with non C.2 or S.o2 neighbor.\n",
      "[17:31:28] unknown|1097|mol2|1|dock70: warning - O.co2 with non C.2 or S.o2 neighbor.\n",
      "RDKit WARNING: [17:31:29] unknown|1097|mol2|1|dock63: warning - O.co2 with non C.2 or S.o2 neighbor.\n",
      "RDKit WARNING: [17:31:29] unknown|1097|mol2|1|dock16: warning - O.co2 with non C.2 or S.o2 neighbor.\n",
      "[17:31:29] unknown|1097|mol2|1|dock63: warning - O.co2 with non C.2 or S.o2 neighbor.\n",
      "[17:31:29] unknown|1097|mol2|1|dock16: warning - O.co2 with non C.2 or S.o2 neighbor.\n"
     ]
    },
    {
     "name": "stdout",
     "output_type": "stream",
     "text": [
      "0\n"
     ]
    },
    {
     "name": "stderr",
     "output_type": "stream",
     "text": [
      "RDKit WARNING: [17:31:29] unknown|1097|mol2|1|dock23: warning - O.co2 with non C.2 or S.o2 neighbor.\n",
      "RDKit WARNING: [17:31:29] unknown|1097|mol2|1|dock25: warning - O.co2 with non C.2 or S.o2 neighbor.\n",
      "[17:31:29] unknown|1097|mol2|1|dock23: warning - O.co2 with non C.2 or S.o2 neighbor.\n",
      "[17:31:29] unknown|1097|mol2|1|dock25: warning - O.co2 with non C.2 or S.o2 neighbor.\n"
     ]
    },
    {
     "name": "stdout",
     "output_type": "stream",
     "text": [
      "Starting GOLD with conf file /home/benoit/bioactive_conformation_predictor/gold_docking_postprocessing/1098/api_gold.conf\n",
      "Setting up GOLD environment...\n",
      "GOLD Version 2021.2.0\n",
      "Running:\n",
      " \n",
      "     \"/home/benoit/CCDC/Discovery_2021/GOLD/gold/d_linux_64/bin/gold_linux_64\" \"/home/benoit/bioactive_conformation_predictor/gold_docking_postprocessing/1098/api_gold.conf\"\n",
      "\n",
      "Starting GOLD with conf file /home/benoit/bioactive_conformation_predictor/gold_docking_postprocessing/1054/api_gold.conf\n",
      "Setting up GOLD environment...\n",
      "GOLD Version 2021.2.0\n",
      "Running:\n",
      " \n",
      "     \"/home/benoit/CCDC/Discovery_2021/GOLD/gold/d_linux_64/bin/gold_linux_64\" \"/home/benoit/bioactive_conformation_predictor/gold_docking_postprocessing/1054/api_gold.conf\"\n",
      "\n",
      "0\n",
      "Starting GOLD with conf file /home/benoit/bioactive_conformation_predictor/gold_docking_postprocessing/1099/api_gold.conf\n",
      "Setting up GOLD environment...\n",
      "GOLD Version 2021.2.0\n",
      "Running:\n",
      " \n",
      "     \"/home/benoit/CCDC/Discovery_2021/GOLD/gold/d_linux_64/bin/gold_linux_64\" \"/home/benoit/bioactive_conformation_predictor/gold_docking_postprocessing/1099/api_gold.conf\"\n",
      "\n",
      "0\n",
      "Starting GOLD with conf file /home/benoit/bioactive_conformation_predictor/gold_docking_postprocessing/1100/api_gold.conf\n",
      "Setting up GOLD environment...\n",
      "GOLD Version 2021.2.0\n",
      "Running:\n",
      " \n",
      "     \"/home/benoit/CCDC/Discovery_2021/GOLD/gold/d_linux_64/bin/gold_linux_64\" \"/home/benoit/bioactive_conformation_predictor/gold_docking_postprocessing/1100/api_gold.conf\"\n",
      "\n",
      "0\n",
      "Starting GOLD with conf file /home/benoit/bioactive_conformation_predictor/gold_docking_postprocessing/1055/api_gold.conf\n",
      "Setting up GOLD environment...\n",
      "GOLD Version 2021.2.0\n",
      "Running:\n",
      " \n",
      "     \"/home/benoit/CCDC/Discovery_2021/GOLD/gold/d_linux_64/bin/gold_linux_64\" \"/home/benoit/bioactive_conformation_predictor/gold_docking_postprocessing/1055/api_gold.conf\"\n",
      "\n",
      "0\n",
      "0\n",
      "Starting GOLD with conf file /home/benoit/bioactive_conformation_predictor/gold_docking_postprocessing/1101/api_gold.conf\n",
      "Setting up GOLD environment...\n",
      "GOLD Version 2021.2.0\n",
      "Running:\n",
      " \n",
      "     \"/home/benoit/CCDC/Discovery_2021/GOLD/gold/d_linux_64/bin/gold_linux_64\" \"/home/benoit/bioactive_conformation_predictor/gold_docking_postprocessing/1101/api_gold.conf\"\n",
      "\n",
      "0\n",
      "Starting GOLD with conf file /home/benoit/bioactive_conformation_predictor/gold_docking_postprocessing/1102/api_gold.conf\n",
      "Setting up GOLD environment...\n",
      "GOLD Version 2021.2.0\n",
      "Running:\n",
      " \n",
      "     \"/home/benoit/CCDC/Discovery_2021/GOLD/gold/d_linux_64/bin/gold_linux_64\" \"/home/benoit/bioactive_conformation_predictor/gold_docking_postprocessing/1102/api_gold.conf\"\n",
      "\n",
      "0\n",
      "Starting GOLD with conf file /home/benoit/bioactive_conformation_predictor/gold_docking_postprocessing/1103/api_gold.conf\n",
      "Setting up GOLD environment...\n",
      "GOLD Version 2021.2.0\n",
      "Running:\n",
      " \n",
      "     \"/home/benoit/CCDC/Discovery_2021/GOLD/gold/d_linux_64/bin/gold_linux_64\" \"/home/benoit/bioactive_conformation_predictor/gold_docking_postprocessing/1103/api_gold.conf\"\n",
      "\n",
      "0\n"
     ]
    },
    {
     "name": "stderr",
     "output_type": "stream",
     "text": [
      "RDKit WARNING: [17:33:27] unknown|1103|mol2|1|dock58: warning - O.co2 with non C.2 or S.o2 neighbor.\n",
      "RDKit WARNING: [17:33:27] unknown|1103|mol2|1|dock27: warning - O.co2 with non C.2 or S.o2 neighbor.\n",
      "[17:33:27] unknown|1103|mol2|1|dock58: warning - O.co2 with non C.2 or S.o2 neighbor.\n",
      "[17:33:27] unknown|1103|mol2|1|dock27: warning - O.co2 with non C.2 or S.o2 neighbor.\n",
      "RDKit WARNING: [17:33:28] unknown|1103|mol2|1|dock6: warning - O.co2 with non C.2 or S.o2 neighbor.\n",
      "RDKit WARNING: [17:33:28] unknown|1103|mol2|1|dock7: warning - O.co2 with non C.2 or S.o2 neighbor.\n",
      "[17:33:28] unknown|1103|mol2|1|dock6: warning - O.co2 with non C.2 or S.o2 neighbor.\n",
      "[17:33:28] unknown|1103|mol2|1|dock7: warning - O.co2 with non C.2 or S.o2 neighbor.\n",
      "RDKit WARNING: [17:33:28] unknown|1103|mol2|1|dock17: warning - O.co2 with non C.2 or S.o2 neighbor.\n",
      "RDKit WARNING: [17:33:28] unknown|1103|mol2|1|dock7: warning - O.co2 with non C.2 or S.o2 neighbor.\n",
      "[17:33:28] unknown|1103|mol2|1|dock17: warning - O.co2 with non C.2 or S.o2 neighbor.\n",
      "[17:33:28] unknown|1103|mol2|1|dock7: warning - O.co2 with non C.2 or S.o2 neighbor.\n"
     ]
    },
    {
     "name": "stdout",
     "output_type": "stream",
     "text": [
      "0\n"
     ]
    },
    {
     "name": "stderr",
     "output_type": "stream",
     "text": [
      "RDKit WARNING: [19:52:25] unknown|1067|mol2|1|dock34: warning - O.co2 with non C.2 or S.o2 neighbor.\n",
      "RDKit WARNING: [19:52:25] unknown|1067|mol2|1|dock54: warning - O.co2 with non C.2 or S.o2 neighbor.\n",
      "[19:52:25] unknown|1067|mol2|1|dock34: warning - O.co2 with non C.2 or S.o2 neighbor.\n",
      "[19:52:25] unknown|1067|mol2|1|dock54: warning - O.co2 with non C.2 or S.o2 neighbor.\n",
      "RDKit WARNING: [19:52:26] unknown|1067|mol2|1|dock34: warning - O.co2 with non C.2 or S.o2 neighbor.\n",
      "RDKit WARNING: [19:52:26] unknown|1067|mol2|1|dock81: warning - O.co2 with non C.2 or S.o2 neighbor.\n",
      "[19:52:26] unknown|1067|mol2|1|dock34: warning - O.co2 with non C.2 or S.o2 neighbor.\n",
      "[19:52:26] unknown|1067|mol2|1|dock81: warning - O.co2 with non C.2 or S.o2 neighbor.\n",
      "RDKit WARNING: [19:52:26] unknown|1067|mol2|1|dock81: warning - O.co2 with non C.2 or S.o2 neighbor.\n",
      "RDKit WARNING: [19:52:26] unknown|1067|mol2|1|dock81: warning - O.co2 with non C.2 or S.o2 neighbor.\n"
     ]
    },
    {
     "name": "stdout",
     "output_type": "stream",
     "text": [
      "Starting GOLD with conf file /home/benoit/bioactive_conformation_predictor/gold_docking_postprocessing/1068/api_gold.conf\n"
     ]
    },
    {
     "name": "stderr",
     "output_type": "stream",
     "text": [
      "[19:52:26] unknown|1067|mol2|1|dock81: warning - O.co2 with non C.2 or S.o2 neighbor.\n",
      "[19:52:26] unknown|1067|mol2|1|dock81: warning - O.co2 with non C.2 or S.o2 neighbor.\n"
     ]
    },
    {
     "name": "stdout",
     "output_type": "stream",
     "text": [
      "Setting up GOLD environment...\n",
      "GOLD Version 2021.2.0\n",
      "Running:\n",
      " \n",
      "     \"/home/benoit/CCDC/Discovery_2021/GOLD/gold/d_linux_64/bin/gold_linux_64\" \"/home/benoit/bioactive_conformation_predictor/gold_docking_postprocessing/1068/api_gold.conf\"\n",
      "\n",
      "0\n",
      "Starting GOLD with conf file /home/benoit/bioactive_conformation_predictor/gold_docking_postprocessing/1069/api_gold.conf\n",
      "Setting up GOLD environment...\n",
      "GOLD Version 2021.2.0\n",
      "Running:\n",
      " \n",
      "     \"/home/benoit/CCDC/Discovery_2021/GOLD/gold/d_linux_64/bin/gold_linux_64\" \"/home/benoit/bioactive_conformation_predictor/gold_docking_postprocessing/1069/api_gold.conf\"\n",
      "\n",
      "0\n",
      "Starting GOLD with conf file /home/benoit/bioactive_conformation_predictor/gold_docking_postprocessing/1070/api_gold.conf\n",
      "Setting up GOLD environment...\n",
      "GOLD Version 2021.2.0\n",
      "Running:\n",
      " \n",
      "     \"/home/benoit/CCDC/Discovery_2021/GOLD/gold/d_linux_64/bin/gold_linux_64\" \"/home/benoit/bioactive_conformation_predictor/gold_docking_postprocessing/1070/api_gold.conf\"\n",
      "\n",
      "0\n",
      "Starting GOLD with conf file /home/benoit/bioactive_conformation_predictor/gold_docking_postprocessing/1071/api_gold.conf\n",
      "Setting up GOLD environment...\n",
      "GOLD Version 2021.2.0\n",
      "Running:\n",
      " \n",
      "     \"/home/benoit/CCDC/Discovery_2021/GOLD/gold/d_linux_64/bin/gold_linux_64\" \"/home/benoit/bioactive_conformation_predictor/gold_docking_postprocessing/1071/api_gold.conf\"\n",
      "\n",
      "0\n",
      "Starting GOLD with conf file /home/benoit/bioactive_conformation_predictor/gold_docking_postprocessing/1072/api_gold.conf\n",
      "Setting up GOLD environment...\n",
      "GOLD Version 2021.2.0\n",
      "Running:\n",
      " \n",
      "     \"/home/benoit/CCDC/Discovery_2021/GOLD/gold/d_linux_64/bin/gold_linux_64\" \"/home/benoit/bioactive_conformation_predictor/gold_docking_postprocessing/1072/api_gold.conf\"\n",
      "\n",
      "0\n",
      "Starting GOLD with conf file /home/benoit/bioactive_conformation_predictor/gold_docking_postprocessing/1073/api_gold.conf\n",
      "Setting up GOLD environment...\n",
      "GOLD Version 2021.2.0\n",
      "Running:\n",
      " \n",
      "     \"/home/benoit/CCDC/Discovery_2021/GOLD/gold/d_linux_64/bin/gold_linux_64\" \"/home/benoit/bioactive_conformation_predictor/gold_docking_postprocessing/1073/api_gold.conf\"\n",
      "\n",
      "0\n"
     ]
    },
    {
     "name": "stderr",
     "output_type": "stream",
     "text": [
      "RDKit WARNING: [19:54:03] unknown|1073|mol2|1|dock39: warning - O.co2 with non C.2 or S.o2 neighbor.\n",
      "RDKit WARNING: [19:54:03] unknown|1073|mol2|1|dock36: warning - O.co2 with non C.2 or S.o2 neighbor.\n",
      "[19:54:03] unknown|1073|mol2|1|dock39: warning - O.co2 with non C.2 or S.o2 neighbor.\n",
      "[19:54:03] unknown|1073|mol2|1|dock36: warning - O.co2 with non C.2 or S.o2 neighbor.\n",
      "RDKit WARNING: [19:54:03] unknown|1073|mol2|1|dock39: warning - O.co2 with non C.2 or S.o2 neighbor.\n",
      "RDKit WARNING: [19:54:03] unknown|1073|mol2|1|dock36: warning - O.co2 with non C.2 or S.o2 neighbor.\n",
      "[19:54:03] unknown|1073|mol2|1|dock39: warning - O.co2 with non C.2 or S.o2 neighbor.\n",
      "[19:54:03] unknown|1073|mol2|1|dock36: warning - O.co2 with non C.2 or S.o2 neighbor.\n",
      "RDKit WARNING: [19:54:03] unknown|1073|mol2|1|dock57: warning - O.co2 with non C.2 or S.o2 neighbor.\n",
      "RDKit WARNING: [19:54:03] unknown|1073|mol2|1|dock57: warning - O.co2 with non C.2 or S.o2 neighbor.\n"
     ]
    },
    {
     "name": "stdout",
     "output_type": "stream",
     "text": [
      "Starting GOLD with conf file /home/benoit/bioactive_conformation_predictor/gold_docking_postprocessing/1074/api_gold.conf\n"
     ]
    },
    {
     "name": "stderr",
     "output_type": "stream",
     "text": [
      "[19:54:03] unknown|1073|mol2|1|dock57: warning - O.co2 with non C.2 or S.o2 neighbor.\n",
      "[19:54:03] unknown|1073|mol2|1|dock57: warning - O.co2 with non C.2 or S.o2 neighbor.\n"
     ]
    },
    {
     "name": "stdout",
     "output_type": "stream",
     "text": [
      "Setting up GOLD environment...\n",
      "GOLD Version 2021.2.0\n",
      "Running:\n",
      " \n",
      "     \"/home/benoit/CCDC/Discovery_2021/GOLD/gold/d_linux_64/bin/gold_linux_64\" \"/home/benoit/bioactive_conformation_predictor/gold_docking_postprocessing/1074/api_gold.conf\"\n",
      "\n",
      "0\n",
      "Starting GOLD with conf file /home/benoit/bioactive_conformation_predictor/gold_docking_postprocessing/1075/api_gold.conf\n",
      "Setting up GOLD environment...\n",
      "GOLD Version 2021.2.0\n",
      "Running:\n",
      " \n",
      "     \"/home/benoit/CCDC/Discovery_2021/GOLD/gold/d_linux_64/bin/gold_linux_64\" \"/home/benoit/bioactive_conformation_predictor/gold_docking_postprocessing/1075/api_gold.conf\"\n",
      "\n",
      "0\n",
      "Starting GOLD with conf file /home/benoit/bioactive_conformation_predictor/gold_docking_postprocessing/1076/api_gold.conf\n",
      "Setting up GOLD environment...\n",
      "GOLD Version 2021.2.0\n",
      "Running:\n",
      " \n",
      "     \"/home/benoit/CCDC/Discovery_2021/GOLD/gold/d_linux_64/bin/gold_linux_64\" \"/home/benoit/bioactive_conformation_predictor/gold_docking_postprocessing/1076/api_gold.conf\"\n",
      "\n",
      "0\n",
      "Starting GOLD with conf file /home/benoit/bioactive_conformation_predictor/gold_docking_postprocessing/1077/api_gold.conf\n",
      "Setting up GOLD environment...\n",
      "GOLD Version 2021.2.0\n",
      "Running:\n",
      " \n",
      "     \"/home/benoit/CCDC/Discovery_2021/GOLD/gold/d_linux_64/bin/gold_linux_64\" \"/home/benoit/bioactive_conformation_predictor/gold_docking_postprocessing/1077/api_gold.conf\"\n",
      "\n",
      "0\n",
      "Starting GOLD with conf file /home/benoit/bioactive_conformation_predictor/gold_docking_postprocessing/1078/api_gold.conf\n",
      "Setting up GOLD environment...\n",
      "GOLD Version 2021.2.0\n",
      "Running:\n",
      " \n",
      "     \"/home/benoit/CCDC/Discovery_2021/GOLD/gold/d_linux_64/bin/gold_linux_64\" \"/home/benoit/bioactive_conformation_predictor/gold_docking_postprocessing/1078/api_gold.conf\"\n",
      "\n",
      "0\n",
      "Starting GOLD with conf file /home/benoit/bioactive_conformation_predictor/gold_docking_postprocessing/1079/api_gold.conf\n",
      "Setting up GOLD environment...\n",
      "GOLD Version 2021.2.0\n",
      "Running:\n",
      " \n",
      "     \"/home/benoit/CCDC/Discovery_2021/GOLD/gold/d_linux_64/bin/gold_linux_64\" \"/home/benoit/bioactive_conformation_predictor/gold_docking_postprocessing/1079/api_gold.conf\"\n",
      "\n",
      "0\n"
     ]
    },
    {
     "name": "stderr",
     "output_type": "stream",
     "text": [
      "RDKit WARNING: [19:55:06] unknown|1079|mol2|1|dock8: warning - O.co2 with non C.2 or S.o2 neighbor.\n",
      "RDKit WARNING: [19:55:06] unknown|1079|mol2|1|dock29: warning - O.co2 with non C.2 or S.o2 neighbor.\n",
      "[19:55:06] unknown|1079|mol2|1|dock8: warning - O.co2 with non C.2 or S.o2 neighbor.\n",
      "[19:55:06] unknown|1079|mol2|1|dock29: warning - O.co2 with non C.2 or S.o2 neighbor.\n",
      "RDKit WARNING: [19:55:07] unknown|1079|mol2|1|dock29: warning - O.co2 with non C.2 or S.o2 neighbor.\n",
      "RDKit WARNING: [19:55:07] unknown|1079|mol2|1|dock14: warning - O.co2 with non C.2 or S.o2 neighbor.\n",
      "[19:55:07] unknown|1079|mol2|1|dock29: warning - O.co2 with non C.2 or S.o2 neighbor.\n",
      "[19:55:07] unknown|1079|mol2|1|dock14: warning - O.co2 with non C.2 or S.o2 neighbor.\n",
      "RDKit WARNING: [19:55:07] unknown|1079|mol2|1|dock8: warning - O.co2 with non C.2 or S.o2 neighbor.\n",
      "RDKit WARNING: [19:55:07] unknown|1079|mol2|1|dock29: warning - O.co2 with non C.2 or S.o2 neighbor.\n",
      "[19:55:07] unknown|1079|mol2|1|dock8: warning - O.co2 with non C.2 or S.o2 neighbor.\n",
      "[19:55:07] unknown|1079|mol2|1|dock29: warning - O.co2 with non C.2 or S.o2 neighbor.\n"
     ]
    }
   ],
   "source": [
    "with Pool(12) as pool :\n",
    "    pool.map(dock_smiles, params)"
   ]
  }
 ],
 "metadata": {
  "kernelspec": {
   "display_name": "Python 3 (ipykernel)",
   "language": "python",
   "name": "python3"
  },
  "language_info": {
   "codemirror_mode": {
    "name": "ipython",
    "version": 3
   },
   "file_extension": ".py",
   "mimetype": "text/x-python",
   "name": "python",
   "nbconvert_exporter": "python",
   "pygments_lexer": "ipython3",
   "version": "3.7.10"
  }
 },
 "nbformat": 4,
 "nbformat_minor": 5
}
