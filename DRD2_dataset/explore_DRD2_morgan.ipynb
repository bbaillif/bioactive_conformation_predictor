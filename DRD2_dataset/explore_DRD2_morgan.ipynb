{
 "cells": [
  {
   "cell_type": "code",
   "execution_count": 1,
   "id": "77c9a198-9297-4332-9e44-5025cdbf2ef0",
   "metadata": {},
   "outputs": [],
   "source": [
    "import pandas as pd\n",
    "from rdkit import Chem\n",
    "from litschnet import LitSchNet\n",
    "import os\n",
    "import pickle\n",
    "from molecule_featurizer import MoleculeFeaturizer\n",
    "from torch_geometric.data import Batch\n",
    "import torch\n",
    "import seaborn as sns\n",
    "import matplotlib.pyplot as plt"
   ]
  },
  {
   "cell_type": "code",
   "execution_count": 2,
   "id": "ebd8cd2a-45ce-4ce8-b175-9a2de5b84094",
   "metadata": {},
   "outputs": [],
   "source": [
    "table = pd.read_csv('../DRD2_Morgan_dataset/excape-db_human_DRD2_randsample.csv', index_col=0)"
   ]
  },
  {
   "cell_type": "code",
   "execution_count": 3,
   "id": "75770f4e-edfa-4fae-acac-29b1041b0659",
   "metadata": {},
   "outputs": [
    {
     "data": {
      "text/html": [
       "<div>\n",
       "<style scoped>\n",
       "    .dataframe tbody tr th:only-of-type {\n",
       "        vertical-align: middle;\n",
       "    }\n",
       "\n",
       "    .dataframe tbody tr th {\n",
       "        vertical-align: top;\n",
       "    }\n",
       "\n",
       "    .dataframe thead th {\n",
       "        text-align: right;\n",
       "    }\n",
       "</style>\n",
       "<table border=\"1\" class=\"dataframe\">\n",
       "  <thead>\n",
       "    <tr style=\"text-align: right;\">\n",
       "      <th></th>\n",
       "      <th>Ambit_InchiKey</th>\n",
       "      <th>Original_Entry_ID</th>\n",
       "      <th>Entrez_ID</th>\n",
       "      <th>Activity_Flag</th>\n",
       "      <th>pXC50</th>\n",
       "      <th>DB</th>\n",
       "      <th>Original_Assay_ID</th>\n",
       "      <th>Tax_ID</th>\n",
       "      <th>Gene_Symbol</th>\n",
       "      <th>Ortholog_Group</th>\n",
       "      <th>SMILES</th>\n",
       "    </tr>\n",
       "  </thead>\n",
       "  <tbody>\n",
       "    <tr>\n",
       "      <th>0</th>\n",
       "      <td>AZKKMMRAFWUBCN-UHFFFAOYNA-N</td>\n",
       "      <td>CHEMBL1834261</td>\n",
       "      <td>1813</td>\n",
       "      <td>A</td>\n",
       "      <td>5.24000</td>\n",
       "      <td>chembl20</td>\n",
       "      <td>771231</td>\n",
       "      <td>9606</td>\n",
       "      <td>DRD2</td>\n",
       "      <td>1171</td>\n",
       "      <td>N1(CCN(CC1)CCCCC=2C=CC(=CC2)OC)CC=3OC=4C(C3)=C...</td>\n",
       "    </tr>\n",
       "    <tr>\n",
       "      <th>1</th>\n",
       "      <td>AZORJLGCYRQCSX-UHFFFAOYNA-N</td>\n",
       "      <td>CHEMBL562624</td>\n",
       "      <td>1813</td>\n",
       "      <td>A</td>\n",
       "      <td>7.00000</td>\n",
       "      <td>chembl20</td>\n",
       "      <td>577523</td>\n",
       "      <td>9606</td>\n",
       "      <td>DRD2</td>\n",
       "      <td>1171</td>\n",
       "      <td>C=1C=C(N2CCN(CCN3CCC(CC3)C(F)(F)F)C2=O)C=C(C1)Cl</td>\n",
       "    </tr>\n",
       "    <tr>\n",
       "      <th>2</th>\n",
       "      <td>AZTUVZSKZZUSFU-YOKYMGTQNA-N</td>\n",
       "      <td>CHEMBL1688997</td>\n",
       "      <td>1813</td>\n",
       "      <td>A</td>\n",
       "      <td>7.23000</td>\n",
       "      <td>chembl20</td>\n",
       "      <td>735243</td>\n",
       "      <td>9606</td>\n",
       "      <td>DRD2</td>\n",
       "      <td>1171</td>\n",
       "      <td>C1CN(CCN1C/C=C/CNC(C=2C=CC(=CC2)OCCOCCF)=O)C=3...</td>\n",
       "    </tr>\n",
       "    <tr>\n",
       "      <th>3</th>\n",
       "      <td>BGJDVOKZOHLJPT-LILDFLRNNA-N</td>\n",
       "      <td>21462980</td>\n",
       "      <td>1813</td>\n",
       "      <td>A</td>\n",
       "      <td>6.19382</td>\n",
       "      <td>pubchem</td>\n",
       "      <td>61309</td>\n",
       "      <td>9606</td>\n",
       "      <td>DRD2</td>\n",
       "      <td>1171</td>\n",
       "      <td>N1(CCC=2C(C1)=CC=CC2)CC=3C=4C(NC3)=NC=CC4</td>\n",
       "    </tr>\n",
       "    <tr>\n",
       "      <th>4</th>\n",
       "      <td>BGJKTPLCXOXWJT-UHFFFAOYNA-N</td>\n",
       "      <td>CHEMBL556035</td>\n",
       "      <td>1813</td>\n",
       "      <td>A</td>\n",
       "      <td>5.68000</td>\n",
       "      <td>chembl20</td>\n",
       "      <td>59785</td>\n",
       "      <td>9606</td>\n",
       "      <td>DRD2</td>\n",
       "      <td>1171</td>\n",
       "      <td>C=1(C(C2(OC1)CCN(CC2)CCC3=CC=CC=C3)=O)C4=CC=C(...</td>\n",
       "    </tr>\n",
       "    <tr>\n",
       "      <th>...</th>\n",
       "      <td>...</td>\n",
       "      <td>...</td>\n",
       "      <td>...</td>\n",
       "      <td>...</td>\n",
       "      <td>...</td>\n",
       "      <td>...</td>\n",
       "      <td>...</td>\n",
       "      <td>...</td>\n",
       "      <td>...</td>\n",
       "      <td>...</td>\n",
       "      <td>...</td>\n",
       "    </tr>\n",
       "    <tr>\n",
       "      <th>9608</th>\n",
       "      <td>LMYLGRCCWYXICQ-DXNRXMRRNA-N</td>\n",
       "      <td>5829079</td>\n",
       "      <td>1813</td>\n",
       "      <td>N</td>\n",
       "      <td>NaN</td>\n",
       "      <td>pubchem_screening</td>\n",
       "      <td>485358</td>\n",
       "      <td>9606</td>\n",
       "      <td>DRD2</td>\n",
       "      <td>1171</td>\n",
       "      <td>S1C(=NC(C=2C=CN=CC2)=C1)NC(=O)/C=C/C3=CC=CC=C3</td>\n",
       "    </tr>\n",
       "    <tr>\n",
       "      <th>9609</th>\n",
       "      <td>MAAJKHWOVKXTPF-UHFFFAOYNA-N</td>\n",
       "      <td>4457031</td>\n",
       "      <td>1813</td>\n",
       "      <td>N</td>\n",
       "      <td>NaN</td>\n",
       "      <td>pubchem_screening</td>\n",
       "      <td>485358</td>\n",
       "      <td>9606</td>\n",
       "      <td>DRD2</td>\n",
       "      <td>1171</td>\n",
       "      <td>S(=O)(=O)(N(CC)CC)C=1C=C(NS(=O)(=O)C2=CC=CC=C2...</td>\n",
       "    </tr>\n",
       "    <tr>\n",
       "      <th>9610</th>\n",
       "      <td>CMAKZYKJFVSLBM-WYUMXYHSNA-N</td>\n",
       "      <td>2192547</td>\n",
       "      <td>1813</td>\n",
       "      <td>N</td>\n",
       "      <td>NaN</td>\n",
       "      <td>pubchem_screening</td>\n",
       "      <td>485358</td>\n",
       "      <td>9606</td>\n",
       "      <td>DRD2</td>\n",
       "      <td>1171</td>\n",
       "      <td>O(C=1C=C(NC(=O)C=2C=CC=CC2)C=C(OC)C1)C</td>\n",
       "    </tr>\n",
       "    <tr>\n",
       "      <th>9611</th>\n",
       "      <td>USDVBCAOIYHVBZ-NDKGDYFDNA-N</td>\n",
       "      <td>6456664</td>\n",
       "      <td>1813</td>\n",
       "      <td>N</td>\n",
       "      <td>NaN</td>\n",
       "      <td>pubchem_screening</td>\n",
       "      <td>485358</td>\n",
       "      <td>9606</td>\n",
       "      <td>DRD2</td>\n",
       "      <td>1171</td>\n",
       "      <td>O(C1=C(N(=O)=O)C=C(C=C1)C)CC(=O)NC2=NOC=C2</td>\n",
       "    </tr>\n",
       "    <tr>\n",
       "      <th>9612</th>\n",
       "      <td>MJADEQJETFRMDJ-UHFFFAOYNA-N</td>\n",
       "      <td>2947717</td>\n",
       "      <td>1813</td>\n",
       "      <td>N</td>\n",
       "      <td>NaN</td>\n",
       "      <td>pubchem_screening</td>\n",
       "      <td>485358</td>\n",
       "      <td>9606</td>\n",
       "      <td>DRD2</td>\n",
       "      <td>1171</td>\n",
       "      <td>OC=1N(C(O)=CC1N2CCN(CC2)C3=CC=CC=C3)C4=CC(=CC(...</td>\n",
       "    </tr>\n",
       "  </tbody>\n",
       "</table>\n",
       "<p>9613 rows × 11 columns</p>\n",
       "</div>"
      ],
      "text/plain": [
       "                   Ambit_InchiKey Original_Entry_ID  Entrez_ID Activity_Flag  \\\n",
       "0     AZKKMMRAFWUBCN-UHFFFAOYNA-N     CHEMBL1834261       1813             A   \n",
       "1     AZORJLGCYRQCSX-UHFFFAOYNA-N      CHEMBL562624       1813             A   \n",
       "2     AZTUVZSKZZUSFU-YOKYMGTQNA-N     CHEMBL1688997       1813             A   \n",
       "3     BGJDVOKZOHLJPT-LILDFLRNNA-N          21462980       1813             A   \n",
       "4     BGJKTPLCXOXWJT-UHFFFAOYNA-N      CHEMBL556035       1813             A   \n",
       "...                           ...               ...        ...           ...   \n",
       "9608  LMYLGRCCWYXICQ-DXNRXMRRNA-N           5829079       1813             N   \n",
       "9609  MAAJKHWOVKXTPF-UHFFFAOYNA-N           4457031       1813             N   \n",
       "9610  CMAKZYKJFVSLBM-WYUMXYHSNA-N           2192547       1813             N   \n",
       "9611  USDVBCAOIYHVBZ-NDKGDYFDNA-N           6456664       1813             N   \n",
       "9612  MJADEQJETFRMDJ-UHFFFAOYNA-N           2947717       1813             N   \n",
       "\n",
       "        pXC50                 DB  Original_Assay_ID  Tax_ID Gene_Symbol  \\\n",
       "0     5.24000           chembl20             771231    9606        DRD2   \n",
       "1     7.00000           chembl20             577523    9606        DRD2   \n",
       "2     7.23000           chembl20             735243    9606        DRD2   \n",
       "3     6.19382            pubchem              61309    9606        DRD2   \n",
       "4     5.68000           chembl20              59785    9606        DRD2   \n",
       "...       ...                ...                ...     ...         ...   \n",
       "9608      NaN  pubchem_screening             485358    9606        DRD2   \n",
       "9609      NaN  pubchem_screening             485358    9606        DRD2   \n",
       "9610      NaN  pubchem_screening             485358    9606        DRD2   \n",
       "9611      NaN  pubchem_screening             485358    9606        DRD2   \n",
       "9612      NaN  pubchem_screening             485358    9606        DRD2   \n",
       "\n",
       "      Ortholog_Group                                             SMILES  \n",
       "0               1171  N1(CCN(CC1)CCCCC=2C=CC(=CC2)OC)CC=3OC=4C(C3)=C...  \n",
       "1               1171   C=1C=C(N2CCN(CCN3CCC(CC3)C(F)(F)F)C2=O)C=C(C1)Cl  \n",
       "2               1171  C1CN(CCN1C/C=C/CNC(C=2C=CC(=CC2)OCCOCCF)=O)C=3...  \n",
       "3               1171          N1(CCC=2C(C1)=CC=CC2)CC=3C=4C(NC3)=NC=CC4  \n",
       "4               1171  C=1(C(C2(OC1)CCN(CC2)CCC3=CC=CC=C3)=O)C4=CC=C(...  \n",
       "...              ...                                                ...  \n",
       "9608            1171     S1C(=NC(C=2C=CN=CC2)=C1)NC(=O)/C=C/C3=CC=CC=C3  \n",
       "9609            1171  S(=O)(=O)(N(CC)CC)C=1C=C(NS(=O)(=O)C2=CC=CC=C2...  \n",
       "9610            1171             O(C=1C=C(NC(=O)C=2C=CC=CC2)C=C(OC)C1)C  \n",
       "9611            1171         O(C1=C(N(=O)=O)C=C(C=C1)C)CC(=O)NC2=NOC=C2  \n",
       "9612            1171  OC=1N(C(O)=CC1N2CCN(CC2)C3=CC=CC=C3)C4=CC(=CC(...  \n",
       "\n",
       "[9613 rows x 11 columns]"
      ]
     },
     "execution_count": 3,
     "metadata": {},
     "output_type": "execute_result"
    }
   ],
   "source": [
    "table"
   ]
  },
  {
   "cell_type": "code",
   "execution_count": 4,
   "id": "24f3b42d-dcc2-43aa-b8db-3567b81825b1",
   "metadata": {},
   "outputs": [],
   "source": [
    "mols = Chem.SDMolSupplier('../DRD2_Morgan_dataset/excape-db_human_DRD2_randsample_docked.sdf')"
   ]
  },
  {
   "cell_type": "code",
   "execution_count": 5,
   "id": "4a03c0c4-ee80-4260-8070-67094dd75068",
   "metadata": {},
   "outputs": [],
   "source": [
    "mols = [mol for mol in mols]"
   ]
  },
  {
   "cell_type": "code",
   "execution_count": 6,
   "id": "259701f3-0866-494d-817d-2f8a45df9322",
   "metadata": {},
   "outputs": [
    {
     "data": {
      "text/plain": [
       "223677"
      ]
     },
     "execution_count": 6,
     "metadata": {},
     "output_type": "execute_result"
    }
   ],
   "source": [
    "len(mols)"
   ]
  },
  {
   "cell_type": "code",
   "execution_count": 7,
   "id": "6e393dc2-f037-48c1-9ce0-5ccecb8cfee9",
   "metadata": {},
   "outputs": [],
   "source": [
    "source_file_indexes = [int(mol.GetProp('i_m_source_file_index')) for mol in mols]"
   ]
  },
  {
   "cell_type": "code",
   "execution_count": 8,
   "id": "6bdc42bf-7944-416c-af03-1ef2c9eb02e6",
   "metadata": {},
   "outputs": [
    {
     "data": {
      "text/plain": [
       "1"
      ]
     },
     "execution_count": 8,
     "metadata": {},
     "output_type": "execute_result"
    }
   ],
   "source": [
    "min(source_file_indexes)"
   ]
  },
  {
   "cell_type": "code",
   "execution_count": 9,
   "id": "cb1998a3-63c5-44d0-80f9-7305923672fc",
   "metadata": {},
   "outputs": [
    {
     "data": {
      "text/plain": [
       "9613"
      ]
     },
     "execution_count": 9,
     "metadata": {},
     "output_type": "execute_result"
    }
   ],
   "source": [
    "max(source_file_indexes)"
   ]
  },
  {
   "cell_type": "code",
   "execution_count": 10,
   "id": "e8ea48ce-f092-484f-b6dc-3323e50b5acc",
   "metadata": {},
   "outputs": [
    {
     "data": {
      "text/plain": [
       "LitSchNet(\n",
       "  (schnet): SchNet(hidden_channels=128, num_filters=128, num_interactions=6, num_gaussians=50, cutoff=10.0)\n",
       "  (leaky_relu): LeakyReLU(negative_slope=0.01)\n",
       "  (sigmoid): Sigmoid()\n",
       ")"
      ]
     },
     "execution_count": 10,
     "metadata": {},
     "output_type": "execute_result"
    }
   ],
   "source": [
    "iteration = 0\n",
    "experiment_name = f'scaffold_split_{iteration}_new'\n",
    "if experiment_name in os.listdir('lightning_logs') :\n",
    "    checkpoint_name = os.listdir(os.path.join('lightning_logs', experiment_name, 'checkpoints'))[0]\n",
    "    checkpoint_path = os.path.join('lightning_logs', experiment_name, 'checkpoints', checkpoint_name)\n",
    "    litschnet = LitSchNet.load_from_checkpoint(checkpoint_path=checkpoint_path)\n",
    "litschnet = litschnet.to('cuda')\n",
    "litschnet.eval()"
   ]
  },
  {
   "cell_type": "code",
   "execution_count": 1,
   "id": "aea5595c-6a9e-47f4-ae65-948aa3c5fb04",
   "metadata": {},
   "outputs": [
    {
     "ename": "NameError",
     "evalue": "name 'os' is not defined",
     "output_type": "error",
     "traceback": [
      "\u001b[0;31m---------------------------------------------------------------------------\u001b[0m",
      "\u001b[0;31mNameError\u001b[0m                                 Traceback (most recent call last)",
      "\u001b[0;32m/tmp/ipykernel_28686/3513958544.py\u001b[0m in \u001b[0;36m<module>\u001b[0;34m\u001b[0m\n\u001b[1;32m      1\u001b[0m \u001b[0mroot\u001b[0m \u001b[0;34m=\u001b[0m \u001b[0;34m'data/'\u001b[0m\u001b[0;34m\u001b[0m\u001b[0;34m\u001b[0m\u001b[0m\n\u001b[0;32m----> 2\u001b[0;31m \u001b[0mencoder_path\u001b[0m \u001b[0;34m=\u001b[0m \u001b[0mos\u001b[0m\u001b[0;34m.\u001b[0m\u001b[0mpath\u001b[0m\u001b[0;34m.\u001b[0m\u001b[0mjoin\u001b[0m\u001b[0;34m(\u001b[0m\u001b[0mroot\u001b[0m\u001b[0;34m,\u001b[0m \u001b[0;34m'molecule_encoders.p'\u001b[0m\u001b[0;34m)\u001b[0m\u001b[0;34m\u001b[0m\u001b[0;34m\u001b[0m\u001b[0m\n\u001b[0m\u001b[1;32m      3\u001b[0m \u001b[0;32mif\u001b[0m \u001b[0mos\u001b[0m\u001b[0;34m.\u001b[0m\u001b[0mpath\u001b[0m\u001b[0;34m.\u001b[0m\u001b[0mexists\u001b[0m\u001b[0;34m(\u001b[0m\u001b[0mencoder_path\u001b[0m\u001b[0;34m)\u001b[0m \u001b[0;34m:\u001b[0m \u001b[0;31m# Load existing encoder\u001b[0m\u001b[0;34m\u001b[0m\u001b[0;34m\u001b[0m\u001b[0m\n\u001b[1;32m      4\u001b[0m     \u001b[0;32mwith\u001b[0m \u001b[0mopen\u001b[0m\u001b[0;34m(\u001b[0m\u001b[0mencoder_path\u001b[0m\u001b[0;34m,\u001b[0m \u001b[0;34m'rb'\u001b[0m\u001b[0;34m)\u001b[0m \u001b[0;32mas\u001b[0m \u001b[0mf\u001b[0m\u001b[0;34m:\u001b[0m\u001b[0;34m\u001b[0m\u001b[0;34m\u001b[0m\u001b[0m\n\u001b[1;32m      5\u001b[0m         \u001b[0mmol_encoders\u001b[0m \u001b[0;34m=\u001b[0m \u001b[0mpickle\u001b[0m\u001b[0;34m.\u001b[0m\u001b[0mload\u001b[0m\u001b[0;34m(\u001b[0m\u001b[0mf\u001b[0m\u001b[0;34m)\u001b[0m\u001b[0;34m\u001b[0m\u001b[0;34m\u001b[0m\u001b[0m\n",
      "\u001b[0;31mNameError\u001b[0m: name 'os' is not defined"
     ]
    }
   ],
   "source": [
    "root = 'data/'\n",
    "encoder_path = os.path.join(root, 'molecule_encoders.p')\n",
    "if os.path.exists(encoder_path) : # Load existing encoder\n",
    "    with open(encoder_path, 'rb') as f:\n",
    "        mol_encoders = pickle.load(f)\n",
    "mol_featurizer = MoleculeFeaturizer(mol_encoders)"
   ]
  },
  {
   "cell_type": "code",
   "execution_count": 12,
   "id": "9a68a7c6-249a-46ba-92ec-86f322e06b52",
   "metadata": {},
   "outputs": [
    {
     "data": {
      "image/png": "[encoded data removed]",
      "text/plain": [
       "<Figure size 432x288 with 1 Axes>"
      ]
     },
     "metadata": {
      "needs_background": "light"
     },
     "output_type": "display_data"
    },
    {
     "data": {
      "image/png": "[encoded data removed]",
      "text/plain": [
       "<Figure size 432x288 with 1 Axes>"
      ]
     },
     "metadata": {
      "needs_background": "light"
     },
     "output_type": "display_data"
    },
    {
     "data": {
      "image/png": "[encoded data removed]",
      "text/plain": [
       "<Figure size 432x288 with 1 Axes>"
      ]
     },
     "metadata": {
      "needs_background": "light"
     },
     "output_type": "display_data"
    },
    {
     "data": {
      "image/png": "[encoded data removed]",
      "text/plain": [
       "<Figure size 432x288 with 1 Axes>"
      ]
     },
     "metadata": {
      "needs_background": "light"
     },
     "output_type": "display_data"
    },
    {
     "data": {
      "image/png": "[encoded data removed]",
      "text/plain": [
       "<Figure size 432x288 with 1 Axes>"
      ]
     },
     "metadata": {
      "needs_background": "light"
     },
     "output_type": "display_data"
    },
    {
     "data": {
      "image/png": "[encoded data removed]",
      "text/plain": [
       "<Figure size 432x288 with 1 Axes>"
      ]
     },
     "metadata": {
      "needs_background": "light"
     },
     "output_type": "display_data"
    },
    {
     "data": {
      "image/png": "[encoded data removed]",
      "text/plain": [
       "<Figure size 432x288 with 1 Axes>"
      ]
     },
     "metadata": {
      "needs_background": "light"
     },
     "output_type": "display_data"
    },
    {
     "data": {
      "image/png": "[encoded data removed]",
      "text/plain": [
       "<Figure size 432x288 with 1 Axes>"
      ]
     },
     "metadata": {
      "needs_background": "light"
     },
     "output_type": "display_data"
    },
    {
     "data": {
      "image/png": "[encoded data removed]",
      "text/plain": [
       "<Figure size 432x288 with 1 Axes>"
      ]
     },
     "metadata": {
      "needs_background": "light"
     },
     "output_type": "display_data"
    }
   ],
   "source": [
    "for i in table.index[:10] :\n",
    "    index = i + 1\n",
    "    current_mols = [mol for mol in mols if int(mol.GetProp('i_m_source_file_index')) == index]\n",
    "    if len(current_mols) :\n",
    "        docking_scores = [float(mol.GetProp('r_i_docking_score')) for mol in current_mols]\n",
    "\n",
    "        data_list = [mol_featurizer.featurize_mol(mol)[0] for mol in current_mols]\n",
    "        batch = Batch.from_data_list(data_list)\n",
    "        batch = batch.to('cuda')\n",
    "        with torch.no_grad() :\n",
    "            preds = litschnet(batch).cpu().numpy()\n",
    "        preds = preds.reshape(-1)\n",
    "        sns.scatterplot(x=preds, y=docking_scores)\n",
    "        plt.show()"
   ]
  },
  {
   "cell_type": "code",
   "execution_count": 13,
   "id": "be8b8103-5200-4b6c-ac8f-5043eecf0fbd",
   "metadata": {},
   "outputs": [
    {
     "data": {
      "text/plain": [
       "{'s_m_entry_id': 31833,\n",
       " 's_m_entry_name': 'excape-db_human_DRD2_randsample.2497',\n",
       " 's_m_Source_Path': '/home/morgan/phd/side_projects/Bernhard-BO',\n",
       " 's_m_Source_File': 'excape-db_human_DRD2_randsample.smi',\n",
       " 'i_m_Source_File_Index': 2497,\n",
       " 's_m_source_file': 'ligprep_1.maegz',\n",
       " 'i_m_source_file_index': 2497,\n",
       " 'i_lp_mmshare_version': 48012,\n",
       " 'i_f3d_flags': 0,\n",
       " 's_epik_input': 'W2NIXTFbY0hdW2NIXVtjSF1bY0hdYzFOKFtDSDJdW0NIMl0yKVtDSDJdW0NIMl1OMltDSDJdW0NIMl1bQ0gyXU9jKFtjSF1bY0hdMylbY0hdW2NIXWMzLWMobjQpbihjKGM0NSlbY0hdW2NIXVtjSF1bY0hdNSlbQ0gyXS9bQ0hdPVtDSF0vW0NIMl1uKGMoYzY3KVtjSF1bY0hdW2NIXVtjSF03KWMobjYpLWM4W2NIXVtjSF1jKFtjSF1bY0hdOClPW0NIMl1bQ0gyXVtDSDJdTjlbQ0gyXVtDSDJdTihbQ0gyXVtDSDJdOSljMVtjSF1bY0hdW2NIXVtjSF1bY0hdMQ==',\n",
       " 's_epik_cmdline': 'J2VwaWtfcHl0aG9uJywgJy1waHQnLCAnMS4wJywgJy1waCcsICc3LjAnLCAnLW50JywgJy1tYScsICcyMDAnLCAnLWltYWUnLCAnPGluZmlsZS5tYWU+JywgJy1vbWFlJywgJzxvdXRmaWxlLm1hZT4n',\n",
       " 'r_epik_Ionization_Penalty': '  1.7222',\n",
       " 'r_epik_Ionization_Penalty_Charging': '  0.9430',\n",
       " 'r_epik_Ionization_Penalty_Neutral': '  0.7792',\n",
       " 'r_epik_State_Penalty': '  1.1491',\n",
       " 'r_epik_Charging_Adjusted_Penalty': 2.09213474552555,\n",
       " 'i_epik_Tot_Q': 2,\n",
       " 'i_epik_Tot_abs_Q': 2,\n",
       " 's_lp_Force_Field': 'OPLS3e',\n",
       " 'r_lp_Energy': 120.803255,\n",
       " 'b_lp_Chiralities_Consistent': 1,\n",
       " 's_lp_Variant': 'CHEMBL83722-5',\n",
       " 's_m_job_name': 'glide-dock_SP_1',\n",
       " 's_i_glide_gridfile': 'glide-grid_1',\n",
       " 'i_i_glide_lignum': 3713,\n",
       " 'i_i_glide_rotatable_bonds': 18,\n",
       " 'r_i_docking_score': -10.7312817147047,\n",
       " 'r_i_glide_ligand_efficiency': -0.162595177495525,\n",
       " 'r_i_glide_ligand_efficiency_sa': -0.657086137537431,\n",
       " 'r_i_glide_ligand_efficiency_ln': -2.06782189724521,\n",
       " 'r_i_glide_gscore': -11.8803817147047,\n",
       " 'r_i_glide_lipo': -5.58385859866814,\n",
       " 'r_i_glide_hbond': -0.2,\n",
       " 'r_i_glide_metal': 0,\n",
       " 'r_i_glide_rewards': -1.97119717507147,\n",
       " 'r_i_glide_evdw': -72.5522537231445,\n",
       " 'r_i_glide_ecoul': -4.08681154251099,\n",
       " 'r_i_glide_erotb': 0.20754172425681,\n",
       " 'r_i_glide_esite': -0.092233247688,\n",
       " 'r_i_glide_emodel': -135.213548272069,\n",
       " 'r_i_glide_energy': -76.6390652656555,\n",
       " 'r_i_glide_einternal': 8.39033126831055,\n",
       " 'i_i_glide_confnum': 14,\n",
       " 'i_i_glide_posenum': 33,\n",
       " 'r_i_glide_eff_state_penalty': 1.1491,\n",
       " 's_m_subgroup_title': 'glide-dock_SP_1_pv1',\n",
       " 's_m_subgroupid': 'glide-dock_SP_1_pv1',\n",
       " 'b_m_subgroup_collapsed': 0}"
      ]
     },
     "execution_count": 13,
     "metadata": {},
     "output_type": "execute_result"
    }
   ],
   "source": [
    "mols[1].GetPropsAsDict()"
   ]
  }
 ],
 "metadata": {
  "kernelspec": {
   "display_name": "Python 3 (ipykernel)",
   "language": "python",
   "name": "python3"
  },
  "language_info": {
   "codemirror_mode": {
    "name": "ipython",
    "version": 3
   },
   "file_extension": ".py",
   "mimetype": "text/x-python",
   "name": "python",
   "nbconvert_exporter": "python",
   "pygments_lexer": "ipython3",
   "version": "3.7.10"
  }
 },
 "nbformat": 4,
 "nbformat_minor": 5
}
