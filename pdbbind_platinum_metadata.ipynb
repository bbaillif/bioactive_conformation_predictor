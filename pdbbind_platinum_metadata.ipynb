{
 "cells": [
  {
   "cell_type": "code",
   "execution_count": 36,
   "id": "da290466-2fb7-40db-af6c-79b48b8988d6",
   "metadata": {},
   "outputs": [],
   "source": [
    "import pandas as pd\n",
    "import os"
   ]
  },
  {
   "cell_type": "code",
   "execution_count": 37,
   "id": "d2da4f76-c15c-47ed-8a1d-f1f7fab49247",
   "metadata": {},
   "outputs": [],
   "source": [
    "smiles_df = pd.read_csv('data/smiles_df.csv', index_col=0)"
   ]
  },
  {
   "cell_type": "code",
   "execution_count": 38,
   "id": "3e156652-2639-497d-beb6-bfc06835f697",
   "metadata": {},
   "outputs": [
    {
     "data": {
      "text/html": [
       "<div>\n",
       "<style scoped>\n",
       "    .dataframe tbody tr th:only-of-type {\n",
       "        vertical-align: middle;\n",
       "    }\n",
       "\n",
       "    .dataframe tbody tr th {\n",
       "        vertical-align: top;\n",
       "    }\n",
       "\n",
       "    .dataframe thead th {\n",
       "        text-align: right;\n",
       "    }\n",
       "</style>\n",
       "<table border=\"1\" class=\"dataframe\">\n",
       "  <thead>\n",
       "    <tr style=\"text-align: right;\">\n",
       "      <th></th>\n",
       "      <th>smiles</th>\n",
       "      <th>dataset</th>\n",
       "      <th>id</th>\n",
       "      <th>included</th>\n",
       "      <th>pdb_id</th>\n",
       "    </tr>\n",
       "  </thead>\n",
       "  <tbody>\n",
       "    <tr>\n",
       "      <th>0</th>\n",
       "      <td>COc1cc2c(cc1-c1c(C)noc1C)[nH]c1nc(C)nc(-c3ccnc...</td>\n",
       "      <td>pdbbind</td>\n",
       "      <td>5uoo</td>\n",
       "      <td>True</td>\n",
       "      <td>5uoo</td>\n",
       "    </tr>\n",
       "    <tr>\n",
       "      <th>1</th>\n",
       "      <td>CC(C)[NH+]1CC[NH+](Cc2ccc(Cn3ccc4ccc(-c5n[nH]c...</td>\n",
       "      <td>pdbbind</td>\n",
       "      <td>6qrd</td>\n",
       "      <td>True</td>\n",
       "      <td>6qrd</td>\n",
       "    </tr>\n",
       "    <tr>\n",
       "      <th>2</th>\n",
       "      <td>CC(=O)c1cc(F)c(Cl)cc1NCC(=O)Nc1ccccc1C(=O)[O-]</td>\n",
       "      <td>pdbbind</td>\n",
       "      <td>2qe2</td>\n",
       "      <td>True</td>\n",
       "      <td>2qe2</td>\n",
       "    </tr>\n",
       "    <tr>\n",
       "      <th>3</th>\n",
       "      <td>O=C([O-])CC[C@@H](Cc1ccc(OCc2ccccc2)cc1)NC(=O)...</td>\n",
       "      <td>pdbbind</td>\n",
       "      <td>3u8h</td>\n",
       "      <td>True</td>\n",
       "      <td>3u8h</td>\n",
       "    </tr>\n",
       "    <tr>\n",
       "      <th>4</th>\n",
       "      <td>O=C([O-])CC[C@@H](Cc1ccc(OCc2ccccc2)cc1)NC(=O)...</td>\n",
       "      <td>pdbbind</td>\n",
       "      <td>1j1a</td>\n",
       "      <td>True</td>\n",
       "      <td>1j1a</td>\n",
       "    </tr>\n",
       "    <tr>\n",
       "      <th>...</th>\n",
       "      <td>...</td>\n",
       "      <td>...</td>\n",
       "      <td>...</td>\n",
       "      <td>...</td>\n",
       "      <td>...</td>\n",
       "    </tr>\n",
       "    <tr>\n",
       "      <th>21867</th>\n",
       "      <td>C=C1/C(=C\\C=C2/CCC[C@]3(CCCCCCC(C)(C)O)CCC[C@@...</td>\n",
       "      <td>platinum</td>\n",
       "      <td>ZYD_3P8X_A</td>\n",
       "      <td>True</td>\n",
       "      <td>3p8x</td>\n",
       "    </tr>\n",
       "    <tr>\n",
       "      <th>21868</th>\n",
       "      <td>O=C([O-])c1cccnc1Nc1ccc(Cl)cc1</td>\n",
       "      <td>platinum</td>\n",
       "      <td>ZZ0_2WMD_A</td>\n",
       "      <td>True</td>\n",
       "      <td>2wmd</td>\n",
       "    </tr>\n",
       "    <tr>\n",
       "      <th>21869</th>\n",
       "      <td>CC1(C)S[C@H]([C@H](NC(=O)[C@H]([NH3+])c2ccccc2...</td>\n",
       "      <td>platinum</td>\n",
       "      <td>ZZ7_4RAW_A</td>\n",
       "      <td>True</td>\n",
       "      <td>4raw</td>\n",
       "    </tr>\n",
       "    <tr>\n",
       "      <th>21870</th>\n",
       "      <td>CC(=O)Nc1ccccc1C(=O)[O-]</td>\n",
       "      <td>platinum</td>\n",
       "      <td>ZZ8_2WJ6_A</td>\n",
       "      <td>True</td>\n",
       "      <td>2wj6</td>\n",
       "    </tr>\n",
       "    <tr>\n",
       "      <th>21871</th>\n",
       "      <td>Nc1nc2c(c(=O)[nH]1)N[C@@H](C=O)CN2</td>\n",
       "      <td>platinum</td>\n",
       "      <td>ZZZ_2CFI_A</td>\n",
       "      <td>True</td>\n",
       "      <td>2cfi</td>\n",
       "    </tr>\n",
       "  </tbody>\n",
       "</table>\n",
       "<p>21872 rows × 5 columns</p>\n",
       "</div>"
      ],
      "text/plain": [
       "                                                  smiles   dataset  \\\n",
       "0      COc1cc2c(cc1-c1c(C)noc1C)[nH]c1nc(C)nc(-c3ccnc...   pdbbind   \n",
       "1      CC(C)[NH+]1CC[NH+](Cc2ccc(Cn3ccc4ccc(-c5n[nH]c...   pdbbind   \n",
       "2         CC(=O)c1cc(F)c(Cl)cc1NCC(=O)Nc1ccccc1C(=O)[O-]   pdbbind   \n",
       "3      O=C([O-])CC[C@@H](Cc1ccc(OCc2ccccc2)cc1)NC(=O)...   pdbbind   \n",
       "4      O=C([O-])CC[C@@H](Cc1ccc(OCc2ccccc2)cc1)NC(=O)...   pdbbind   \n",
       "...                                                  ...       ...   \n",
       "21867  C=C1/C(=C\\C=C2/CCC[C@]3(CCCCCCC(C)(C)O)CCC[C@@...  platinum   \n",
       "21868                     O=C([O-])c1cccnc1Nc1ccc(Cl)cc1  platinum   \n",
       "21869  CC1(C)S[C@H]([C@H](NC(=O)[C@H]([NH3+])c2ccccc2...  platinum   \n",
       "21870                           CC(=O)Nc1ccccc1C(=O)[O-]  platinum   \n",
       "21871                 Nc1nc2c(c(=O)[nH]1)N[C@@H](C=O)CN2  platinum   \n",
       "\n",
       "               id  included pdb_id  \n",
       "0            5uoo      True   5uoo  \n",
       "1            6qrd      True   6qrd  \n",
       "2            2qe2      True   2qe2  \n",
       "3            3u8h      True   3u8h  \n",
       "4            1j1a      True   1j1a  \n",
       "...           ...       ...    ...  \n",
       "21867  ZYD_3P8X_A      True   3p8x  \n",
       "21868  ZZ0_2WMD_A      True   2wmd  \n",
       "21869  ZZ7_4RAW_A      True   4raw  \n",
       "21870  ZZ8_2WJ6_A      True   2wj6  \n",
       "21871  ZZZ_2CFI_A      True   2cfi  \n",
       "\n",
       "[21872 rows x 5 columns]"
      ]
     },
     "execution_count": 38,
     "metadata": {},
     "output_type": "execute_result"
    }
   ],
   "source": [
    "smiles_df"
   ]
  },
  {
   "cell_type": "code",
   "execution_count": 41,
   "id": "6cfaacba-e529-45c9-92e5-89dea54ecb9a",
   "metadata": {},
   "outputs": [],
   "source": [
    "value_counts = smiles_df['pdb_id'].value_counts()"
   ]
  },
  {
   "cell_type": "code",
   "execution_count": 42,
   "id": "2e4e535e-a734-4deb-bd4a-64bcfd89d351",
   "metadata": {},
   "outputs": [
    {
     "data": {
      "text/plain": [
       "4tlr    3\n",
       "4f9y    3\n",
       "4km0    3\n",
       "5c2h    3\n",
       "4zz1    3\n",
       "4xnv    3\n",
       "3roc    3\n",
       "3k3i    3\n",
       "3rv6    3\n",
       "2wo9    3\n",
       "4ucs    3\n",
       "Name: pdb_id, dtype: int64"
      ]
     },
     "execution_count": 42,
     "metadata": {},
     "output_type": "execute_result"
    }
   ],
   "source": [
    "value_counts[value_counts == 3]"
   ]
  },
  {
   "cell_type": "code",
   "execution_count": 44,
   "id": "71bed685-8a54-4827-bea1-32e1a625ab34",
   "metadata": {},
   "outputs": [
    {
     "data": {
      "text/html": [
       "<div>\n",
       "<style scoped>\n",
       "    .dataframe tbody tr th:only-of-type {\n",
       "        vertical-align: middle;\n",
       "    }\n",
       "\n",
       "    .dataframe tbody tr th {\n",
       "        vertical-align: top;\n",
       "    }\n",
       "\n",
       "    .dataframe thead th {\n",
       "        text-align: right;\n",
       "    }\n",
       "</style>\n",
       "<table border=\"1\" class=\"dataframe\">\n",
       "  <thead>\n",
       "    <tr style=\"text-align: right;\">\n",
       "      <th></th>\n",
       "      <th>smiles</th>\n",
       "      <th>dataset</th>\n",
       "      <th>id</th>\n",
       "      <th>included</th>\n",
       "      <th>pdb_id</th>\n",
       "    </tr>\n",
       "  </thead>\n",
       "  <tbody>\n",
       "    <tr>\n",
       "      <th>605</th>\n",
       "      <td>C[C@@H](O)C[C@H]1OC[C@@H](C2CCCCC2)N(c2cc(C#CC...</td>\n",
       "      <td>pdbbind</td>\n",
       "      <td>4tlr</td>\n",
       "      <td>True</td>\n",
       "      <td>4tlr</td>\n",
       "    </tr>\n",
       "    <tr>\n",
       "      <th>606</th>\n",
       "      <td>C[C@@H](O)C[C@H]1OC[C@@H](C2CCCCC2)N(c2cc(C#CC...</td>\n",
       "      <td>platinum</td>\n",
       "      <td>33H_4TLR_A</td>\n",
       "      <td>True</td>\n",
       "      <td>4tlr</td>\n",
       "    </tr>\n",
       "    <tr>\n",
       "      <th>1913</th>\n",
       "      <td>CNC(=O)c1c(-c2ccc(F)cc2)oc2cc(N(CCO)S(C)(=O)=O...</td>\n",
       "      <td>platinum</td>\n",
       "      <td>79Z_4TLR_A</td>\n",
       "      <td>True</td>\n",
       "      <td>4tlr</td>\n",
       "    </tr>\n",
       "  </tbody>\n",
       "</table>\n",
       "</div>"
      ],
      "text/plain": [
       "                                                 smiles   dataset          id  \\\n",
       "605   C[C@@H](O)C[C@H]1OC[C@@H](C2CCCCC2)N(c2cc(C#CC...   pdbbind        4tlr   \n",
       "606   C[C@@H](O)C[C@H]1OC[C@@H](C2CCCCC2)N(c2cc(C#CC...  platinum  33H_4TLR_A   \n",
       "1913  CNC(=O)c1c(-c2ccc(F)cc2)oc2cc(N(CCO)S(C)(=O)=O...  platinum  79Z_4TLR_A   \n",
       "\n",
       "      included pdb_id  \n",
       "605       True   4tlr  \n",
       "606       True   4tlr  \n",
       "1913      True   4tlr  "
      ]
     },
     "execution_count": 44,
     "metadata": {},
     "output_type": "execute_result"
    }
   ],
   "source": [
    "smiles_df[smiles_df['pdb_id'] == '4tlr']"
   ]
  },
  {
   "cell_type": "code",
   "execution_count": null,
   "id": "c60a09ec-5a60-4c5b-a09a-5e7ed00e8799",
   "metadata": {},
   "outputs": [],
   "source": []
  },
  {
   "cell_type": "code",
   "execution_count": 50,
   "id": "82929c25-afcb-48e3-87c0-4ddcc12708e9",
   "metadata": {},
   "outputs": [],
   "source": [
    "pdbbind_df = smiles_df[smiles_df['dataset'] == 'pdbbind']\n",
    "pdbbind_smiles = pdbbind_df['smiles'].values\n",
    "pdbbind_pdbs = pdbbind_df['pdb_id'].values\n",
    "\n",
    "platinum_df = smiles_df[smiles_df['dataset'] == 'platinum']\n",
    "platinum_smiles = platinum_df['smiles'].values\n",
    "platinum_pdbs = platinum_df['pdb_id'].values"
   ]
  },
  {
   "cell_type": "code",
   "execution_count": 54,
   "id": "f7cc478f-7a47-474c-97e9-7f71c9bc583f",
   "metadata": {},
   "outputs": [
    {
     "data": {
      "text/plain": [
       "17324"
      ]
     },
     "execution_count": 54,
     "metadata": {},
     "output_type": "execute_result"
    }
   ],
   "source": [
    "len(pdbbind_smiles)"
   ]
  },
  {
   "cell_type": "code",
   "execution_count": 55,
   "id": "8db07c77-9736-41f7-9205-24e9ef3584c3",
   "metadata": {},
   "outputs": [
    {
     "data": {
      "text/plain": [
       "14385"
      ]
     },
     "execution_count": 55,
     "metadata": {},
     "output_type": "execute_result"
    }
   ],
   "source": [
    "len(set(pdbbind_smiles))"
   ]
  },
  {
   "cell_type": "code",
   "execution_count": 56,
   "id": "53d64185-e2ce-4b80-a5b1-2987b50a5ff0",
   "metadata": {},
   "outputs": [
    {
     "data": {
      "text/plain": [
       "4548"
      ]
     },
     "execution_count": 56,
     "metadata": {},
     "output_type": "execute_result"
    }
   ],
   "source": [
    "len(platinum_smiles)"
   ]
  },
  {
   "cell_type": "code",
   "execution_count": 58,
   "id": "a4655549-efda-4e93-93ba-c9cb5f54eba6",
   "metadata": {},
   "outputs": [
    {
     "data": {
      "text/plain": [
       "4548"
      ]
     },
     "execution_count": 58,
     "metadata": {},
     "output_type": "execute_result"
    }
   ],
   "source": [
    "len(platinum_pdbs)"
   ]
  },
  {
   "cell_type": "markdown",
   "id": "f3c7b5f9-ea3f-4985-8e7b-7cff7ddf824d",
   "metadata": {},
   "source": [
    "# INCLUDED ONLY"
   ]
  },
  {
   "cell_type": "code",
   "execution_count": 86,
   "id": "9275f4c9-f43f-4770-96c3-a5d61b3f55ce",
   "metadata": {},
   "outputs": [],
   "source": [
    "included_df = smiles_df[smiles_df['included']]\n",
    "included_smiles = included_df['smiles'].values\n",
    "\n",
    "pdbbind_df = included_df[included_df['dataset'] == 'pdbbind']\n",
    "pdbbind_smiles = pdbbind_df['smiles'].values\n",
    "pdbbind_pdbs = pdbbind_df['pdb_id'].values\n",
    "\n",
    "platinum_df = included_df[included_df['dataset'] == 'platinum']\n",
    "platinum_smiles = platinum_df['smiles'].values\n",
    "platinum_pdbs = platinum_df['pdb_id'].values\n",
    "\n",
    "pdbbind_not_in_plat = pdbbind_df[(~pdbbind_df['smiles'].isin(platinum_smiles))\n",
    "                                 & (~pdbbind_df['pdb_id'].isin(platinum_pdbs))]\n",
    "included_pdbbind_smiles = pdbbind_not_in_plat['smiles'].unique()"
   ]
  },
  {
   "cell_type": "code",
   "execution_count": 73,
   "id": "2048dcd1-907b-41cf-aa6a-4db7b978a0a8",
   "metadata": {},
   "outputs": [
    {
     "data": {
      "text/plain": [
       "15294"
      ]
     },
     "execution_count": 73,
     "metadata": {},
     "output_type": "execute_result"
    }
   ],
   "source": [
    "len(pdbbind_smiles)"
   ]
  },
  {
   "cell_type": "code",
   "execution_count": 74,
   "id": "8cafe35f-8ac7-4ae7-8837-551c385dcf5a",
   "metadata": {},
   "outputs": [
    {
     "data": {
      "text/plain": [
       "12590"
      ]
     },
     "execution_count": 74,
     "metadata": {},
     "output_type": "execute_result"
    }
   ],
   "source": [
    "len(set(pdbbind_smiles))"
   ]
  },
  {
   "cell_type": "code",
   "execution_count": 75,
   "id": "797c1b01-4885-44de-8e4e-dcf9b8e52732",
   "metadata": {},
   "outputs": [
    {
     "data": {
      "text/plain": [
       "4548"
      ]
     },
     "execution_count": 75,
     "metadata": {},
     "output_type": "execute_result"
    }
   ],
   "source": [
    "len(platinum_smiles)"
   ]
  },
  {
   "cell_type": "code",
   "execution_count": 76,
   "id": "2cc14c86-8104-47d2-9af2-d17d00159d5f",
   "metadata": {},
   "outputs": [
    {
     "data": {
      "text/plain": [
       "4548"
      ]
     },
     "execution_count": 76,
     "metadata": {},
     "output_type": "execute_result"
    }
   ],
   "source": [
    "len(platinum_pdbs)"
   ]
  },
  {
   "cell_type": "code",
   "execution_count": 78,
   "id": "7efcde29-338f-4fdc-b417-03e677ac08f9",
   "metadata": {},
   "outputs": [
    {
     "data": {
      "text/plain": [
       "11906"
      ]
     },
     "execution_count": 78,
     "metadata": {},
     "output_type": "execute_result"
    }
   ],
   "source": [
    "len(pdbbind_not_in_plat)"
   ]
  },
  {
   "cell_type": "code",
   "execution_count": 79,
   "id": "da4557d2-bac9-438e-a906-e3a5fe3d5824",
   "metadata": {},
   "outputs": [
    {
     "data": {
      "text/plain": [
       "10171"
      ]
     },
     "execution_count": 79,
     "metadata": {},
     "output_type": "execute_result"
    }
   ],
   "source": [
    "len(pdbbind_not_in_plat['smiles'].unique())"
   ]
  },
  {
   "cell_type": "code",
   "execution_count": 87,
   "id": "a200ac01-5c5b-4983-a4af-dc8cec8cb88f",
   "metadata": {},
   "outputs": [],
   "source": [
    "common_pdb = set(pdbbind_pdbs).intersection(set(platinum_pdbs))"
   ]
  },
  {
   "cell_type": "code",
   "execution_count": 88,
   "id": "b132039b-cc44-4ad1-9267-a235d8949a58",
   "metadata": {},
   "outputs": [
    {
     "data": {
      "text/plain": [
       "2216"
      ]
     },
     "execution_count": 88,
     "metadata": {},
     "output_type": "execute_result"
    }
   ],
   "source": [
    "len(common_pdb)"
   ]
  },
  {
   "cell_type": "code",
   "execution_count": 89,
   "id": "dc98a811-ba1a-4061-a3fa-49ef8e84ff1c",
   "metadata": {},
   "outputs": [],
   "source": [
    "index_df = pd.read_csv('data/conf_ensembles/index.csv', index_col=0)"
   ]
  },
  {
   "cell_type": "code",
   "execution_count": 90,
   "id": "b7d79d35-55fb-4a13-9c15-0cdb1164ed2e",
   "metadata": {},
   "outputs": [
    {
     "data": {
      "text/html": [
       "<div>\n",
       "<style scoped>\n",
       "    .dataframe tbody tr th:only-of-type {\n",
       "        vertical-align: middle;\n",
       "    }\n",
       "\n",
       "    .dataframe tbody tr th {\n",
       "        vertical-align: top;\n",
       "    }\n",
       "\n",
       "    .dataframe thead th {\n",
       "        text-align: right;\n",
       "    }\n",
       "</style>\n",
       "<table border=\"1\" class=\"dataframe\">\n",
       "  <thead>\n",
       "    <tr style=\"text-align: right;\">\n",
       "      <th></th>\n",
       "      <th>smiles</th>\n",
       "      <th>file_name</th>\n",
       "    </tr>\n",
       "  </thead>\n",
       "  <tbody>\n",
       "    <tr>\n",
       "      <th>0</th>\n",
       "      <td>COc1cc2c(cc1-c1c(C)noc1C)[nH]c1nc(C)nc(-c3ccnc...</td>\n",
       "      <td>0.sdf</td>\n",
       "    </tr>\n",
       "    <tr>\n",
       "      <th>1</th>\n",
       "      <td>CC(C)[NH+]1CC[NH+](Cc2ccc(Cn3ccc4ccc(-c5n[nH]c...</td>\n",
       "      <td>1.sdf</td>\n",
       "    </tr>\n",
       "    <tr>\n",
       "      <th>2</th>\n",
       "      <td>CC(=O)c1cc(F)c(Cl)cc1NCC(=O)Nc1ccccc1C(=O)[O-]</td>\n",
       "      <td>2.sdf</td>\n",
       "    </tr>\n",
       "    <tr>\n",
       "      <th>3</th>\n",
       "      <td>O=C([O-])CC[C@@H](Cc1ccc(OCc2ccccc2)cc1)NC(=O)...</td>\n",
       "      <td>3.sdf</td>\n",
       "    </tr>\n",
       "    <tr>\n",
       "      <th>4</th>\n",
       "      <td>Cc1cc2c(cc1N1Cc3cn(Cc4ccccc4)c(=O)cc3NC1=O)O[C...</td>\n",
       "      <td>4.sdf</td>\n",
       "    </tr>\n",
       "  </tbody>\n",
       "</table>\n",
       "</div>"
      ],
      "text/plain": [
       "                                              smiles file_name\n",
       "0  COc1cc2c(cc1-c1c(C)noc1C)[nH]c1nc(C)nc(-c3ccnc...     0.sdf\n",
       "1  CC(C)[NH+]1CC[NH+](Cc2ccc(Cn3ccc4ccc(-c5n[nH]c...     1.sdf\n",
       "2     CC(=O)c1cc(F)c(Cl)cc1NCC(=O)Nc1ccccc1C(=O)[O-]     2.sdf\n",
       "3  O=C([O-])CC[C@@H](Cc1ccc(OCc2ccccc2)cc1)NC(=O)...     3.sdf\n",
       "4  Cc1cc2c(cc1N1Cc3cn(Cc4ccccc4)c(=O)cc3NC1=O)O[C...     4.sdf"
      ]
     },
     "execution_count": 90,
     "metadata": {},
     "output_type": "execute_result"
    }
   ],
   "source": [
    "index_df.head()"
   ]
  },
  {
   "cell_type": "code",
   "execution_count": 91,
   "id": "922ba2c1-94ed-4bf7-976f-e964555f62bd",
   "metadata": {},
   "outputs": [],
   "source": [
    "generated_smiles = []\n",
    "for smiles in included_smiles :\n",
    "    file_name = index_df[index_df['smiles'] == smiles]['file_name'].values[0]\n",
    "    file_path = os.path.join('data/gen_conf_ensembles/', file_name)\n",
    "    if os.path.exists(file_path) :\n",
    "        generated_smiles.append(smiles)"
   ]
  },
  {
   "cell_type": "code",
   "execution_count": 92,
   "id": "39f1a630-a731-4fd0-9c4a-846c41c9656f",
   "metadata": {},
   "outputs": [
    {
     "data": {
      "text/plain": [
       "19840"
      ]
     },
     "execution_count": 92,
     "metadata": {},
     "output_type": "execute_result"
    }
   ],
   "source": [
    "len(generated_smiles)"
   ]
  },
  {
   "cell_type": "code",
   "execution_count": 94,
   "id": "7140db88-7b2a-420b-90ee-77144dbbfee7",
   "metadata": {},
   "outputs": [
    {
     "data": {
      "text/plain": [
       "2"
      ]
     },
     "execution_count": 94,
     "metadata": {},
     "output_type": "execute_result"
    }
   ],
   "source": [
    "len(included_smiles) - len(generated_smiles)"
   ]
  },
  {
   "cell_type": "code",
   "execution_count": 19,
   "id": "588b3f8f-95d8-4c0a-9a55-cefa15800155",
   "metadata": {},
   "outputs": [],
   "source": [
    "pdbbind_not_platinum = smiles_df[(smiles_df['dataset'] == 'pdbbind') & ~(smiles_df['smiles'].isin(platinum_smiles))]['pdb_id'].values\n",
    "platinum = smiles_df[(smiles_df['dataset'] == 'platinum')]['pdb_id'].values\n",
    "common_pdb_wo_smiles = set(pdbbind_not_platinum).intersection(platinum)"
   ]
  },
  {
   "cell_type": "code",
   "execution_count": 23,
   "id": "d9ce1605-e35e-42dc-a9c6-e52059734e9a",
   "metadata": {},
   "outputs": [],
   "source": [
    "common_pdb_wo_smiles = set(pdbbind_not_platinum).intersection(platinum)"
   ]
  },
  {
   "cell_type": "code",
   "execution_count": 24,
   "id": "f37fdf85-8f5a-49be-8400-b7af5509a954",
   "metadata": {
    "scrolled": true,
    "tags": []
   },
   "outputs": [
    {
     "data": {
      "text/plain": [
       "{'1alw',\n",
       " '1e66',\n",
       " '1gi1',\n",
       " '1gj6',\n",
       " '1gja',\n",
       " '1h1d',\n",
       " '1jd0',\n",
       " '1m5b',\n",
       " '1n46',\n",
       " '1o2k',\n",
       " '1o2n',\n",
       " '1o2r',\n",
       " '1o2t',\n",
       " '1o35',\n",
       " '1o3k',\n",
       " '1oit',\n",
       " '1ove',\n",
       " '1qbo',\n",
       " '1qxl',\n",
       " '1qxw',\n",
       " '1r58',\n",
       " '1r5g',\n",
       " '1uy6',\n",
       " '1uy7',\n",
       " '1uyi',\n",
       " '1v2k',\n",
       " '1w1t',\n",
       " '1w1v',\n",
       " '1x38',\n",
       " '1x39',\n",
       " '1x8b',\n",
       " '1y6b',\n",
       " '1yc4',\n",
       " '1zfq',\n",
       " '2aie',\n",
       " '2aw1',\n",
       " '2bb7',\n",
       " '2brc',\n",
       " '2byh',\n",
       " '2byi',\n",
       " '2c69',\n",
       " '2ceq',\n",
       " '2cet',\n",
       " '2cmf',\n",
       " '2flb',\n",
       " '2fm0',\n",
       " '2fqt',\n",
       " '2fv9',\n",
       " '2fwp',\n",
       " '2hha',\n",
       " '2hl4',\n",
       " '2hnc',\n",
       " '2hz0',\n",
       " '2iko',\n",
       " '2j47',\n",
       " '2j62',\n",
       " '2j7e',\n",
       " '2j7g',\n",
       " '2j94',\n",
       " '2nmx',\n",
       " '2nta',\n",
       " '2ohp',\n",
       " '2ohq',\n",
       " '2ohr',\n",
       " '2ohu',\n",
       " '2oj9',\n",
       " '2ow1',\n",
       " '2oyl',\n",
       " '2p98',\n",
       " '2pou',\n",
       " '2pov',\n",
       " '2pow',\n",
       " '2q1j',\n",
       " '2qdt',\n",
       " '2r2m',\n",
       " '2r3g',\n",
       " '2uw0',\n",
       " '2uw4',\n",
       " '2v00',\n",
       " '2va7',\n",
       " '2vcx',\n",
       " '2vpn',\n",
       " '2vti',\n",
       " '2vtl',\n",
       " '2vtn',\n",
       " '2vto',\n",
       " '2vtp',\n",
       " '2vtq',\n",
       " '2vtt',\n",
       " '2vu3',\n",
       " '2vur',\n",
       " '2w0d',\n",
       " '2w7x',\n",
       " '2wb5',\n",
       " '2weg',\n",
       " '2weh',\n",
       " '2weo',\n",
       " '2wtj',\n",
       " '2x8i',\n",
       " '2x9f',\n",
       " '2xa4',\n",
       " '2xab',\n",
       " '2xc4',\n",
       " '2xck',\n",
       " '2xdk',\n",
       " '2xhr',\n",
       " '2xnp',\n",
       " '2xp4',\n",
       " '2xp5',\n",
       " '2xv1',\n",
       " '2xx5',\n",
       " '2xyu',\n",
       " '2y1w',\n",
       " '2y5k',\n",
       " '2yac',\n",
       " '2ybu',\n",
       " '2yc3',\n",
       " '2ycf',\n",
       " '2ycs',\n",
       " '2yex',\n",
       " '2yig',\n",
       " '2yiq',\n",
       " '2yk9',\n",
       " '2ykb',\n",
       " '2ym8',\n",
       " '2yoj',\n",
       " '2zir',\n",
       " '3arp',\n",
       " '3b26',\n",
       " '3b4f',\n",
       " '3b7u',\n",
       " '3biz',\n",
       " '3bl0',\n",
       " '3bl9',\n",
       " '3bmo',\n",
       " '3bmq',\n",
       " '3c45',\n",
       " '3cbp',\n",
       " '3chc',\n",
       " '3cqu',\n",
       " '3cqw',\n",
       " '3d7z',\n",
       " '3d8w',\n",
       " '3dcc',\n",
       " '3dd0',\n",
       " '3dpe',\n",
       " '3e3u',\n",
       " '3e63',\n",
       " '3e64',\n",
       " '3efk',\n",
       " '3el0',\n",
       " '3ewh',\n",
       " '3fat',\n",
       " '3fcf',\n",
       " '3fcl',\n",
       " '3ffp',\n",
       " '3g2z',\n",
       " '3gfe',\n",
       " '3gxl',\n",
       " '3gz9',\n",
       " '3h21',\n",
       " '3hc8',\n",
       " '3hdz',\n",
       " '3hqz',\n",
       " '3hrb',\n",
       " '3hv6',\n",
       " '3hvh',\n",
       " '3hvj',\n",
       " '3hyg',\n",
       " '3i6m',\n",
       " '3i81',\n",
       " '3igb',\n",
       " '3in3',\n",
       " '3ind',\n",
       " '3ine',\n",
       " '3inf',\n",
       " '3inh',\n",
       " '3iph',\n",
       " '3ipx',\n",
       " '3itu',\n",
       " '3ivi',\n",
       " '3jsw',\n",
       " '3k3h',\n",
       " '3k3i',\n",
       " '3kf4',\n",
       " '3kjd',\n",
       " '3kn0',\n",
       " '3kqe',\n",
       " '3krr',\n",
       " '3l38',\n",
       " '3lhg',\n",
       " '3ljt',\n",
       " '3lk8',\n",
       " '3lpu',\n",
       " '3m2w',\n",
       " '3m40',\n",
       " '3m5e',\n",
       " '3mhi',\n",
       " '3mho',\n",
       " '3ml2',\n",
       " '3mmf',\n",
       " '3mrt',\n",
       " '3mrv',\n",
       " '3mrx',\n",
       " '3ms2',\n",
       " '3ms4',\n",
       " '3ms7',\n",
       " '3mt7',\n",
       " '3mt8',\n",
       " '3mt9',\n",
       " '3mtb',\n",
       " '3mtd',\n",
       " '3mzc',\n",
       " '3n1v',\n",
       " '3n2p',\n",
       " '3n3j',\n",
       " '3n5h',\n",
       " '3n86',\n",
       " '3nb5',\n",
       " '3nc4',\n",
       " '3nlb',\n",
       " '3nmq',\n",
       " '3nw9',\n",
       " '3nwe',\n",
       " '3nx7',\n",
       " '3o1d',\n",
       " '3o8g',\n",
       " '3oaf',\n",
       " '3oe4',\n",
       " '3oe5',\n",
       " '3ooz',\n",
       " '3oys',\n",
       " '3ozr',\n",
       " '3ozt',\n",
       " '3p5l',\n",
       " '3pb8',\n",
       " '3pix',\n",
       " '3pj3',\n",
       " '3pn3',\n",
       " '3ps1',\n",
       " '3px8',\n",
       " '3py0',\n",
       " '3pyy',\n",
       " '3q2g',\n",
       " '3q32',\n",
       " '3q3k',\n",
       " '3qcx',\n",
       " '3qcy',\n",
       " '3qd0',\n",
       " '3qd3',\n",
       " '3qd4',\n",
       " '3qio',\n",
       " '3qip',\n",
       " '3qkl',\n",
       " '3qtr',\n",
       " '3qts',\n",
       " '3qtw',\n",
       " '3qtx',\n",
       " '3r16',\n",
       " '3r17',\n",
       " '3r4m',\n",
       " '3r4p',\n",
       " '3r9n',\n",
       " '3rah',\n",
       " '3rak',\n",
       " '3ral',\n",
       " '3rde',\n",
       " '3rk7',\n",
       " '3rk9',\n",
       " '3rpr',\n",
       " '3rr4',\n",
       " '3rv8',\n",
       " '3rv9',\n",
       " '3ryj',\n",
       " '3ryv',\n",
       " '3rz8',\n",
       " '3s1g',\n",
       " '3s1h',\n",
       " '3s3m',\n",
       " '3s72',\n",
       " '3s7l',\n",
       " '3s7m',\n",
       " '3s9t',\n",
       " '3sff',\n",
       " '3sie',\n",
       " '3st6',\n",
       " '3sw8',\n",
       " '3sz1',\n",
       " '3t0x',\n",
       " '3t5u',\n",
       " '3tll',\n",
       " '3ttj',\n",
       " '3tyv',\n",
       " '3tzm',\n",
       " '3u1y',\n",
       " '3u4o',\n",
       " '3u6a',\n",
       " '3u6j',\n",
       " '3u7l',\n",
       " '3u9n',\n",
       " '3ud5',\n",
       " '3ugc',\n",
       " '3uhm',\n",
       " '3ui7',\n",
       " '3uli',\n",
       " '3uph',\n",
       " '3uxl',\n",
       " '3v8s',\n",
       " '3v8t',\n",
       " '3v8w',\n",
       " '3vf8',\n",
       " '3vrv',\n",
       " '3vv7',\n",
       " '3vw1',\n",
       " '3vw6',\n",
       " '3wb4',\n",
       " '3wk7',\n",
       " '3wzk',\n",
       " '3zlk',\n",
       " '3zo1',\n",
       " '3zo2',\n",
       " '3zo4',\n",
       " '3zxh',\n",
       " '3zya',\n",
       " '3zzh',\n",
       " '4a6v',\n",
       " '4a6w',\n",
       " '4a7b',\n",
       " '4acu',\n",
       " '4acx',\n",
       " '4ago',\n",
       " '4agp',\n",
       " '4agq',\n",
       " '4aj2',\n",
       " '4arw',\n",
       " '4av4',\n",
       " '4b00',\n",
       " '4b3u',\n",
       " '4b4m',\n",
       " '4b5b',\n",
       " '4b70',\n",
       " '4b77',\n",
       " '4b78',\n",
       " '4bf1',\n",
       " '4bfd',\n",
       " '4bhi',\n",
       " '4bis',\n",
       " '4bqs',\n",
       " '4bqy',\n",
       " '4c1e',\n",
       " '4c35',\n",
       " '4cc5',\n",
       " '4cfu',\n",
       " '4cl6',\n",
       " '4cra',\n",
       " '4crc',\n",
       " '4ctj',\n",
       " '4cwf',\n",
       " '4cwn',\n",
       " '4cwp',\n",
       " '4cwq',\n",
       " '4cwr',\n",
       " '4cws',\n",
       " '4d8n',\n",
       " '4d8z',\n",
       " '4d9p',\n",
       " '4dds',\n",
       " '4ddy',\n",
       " '4de0',\n",
       " '4de1',\n",
       " '4de3',\n",
       " '4dgn',\n",
       " '4dv8',\n",
       " '4eb8',\n",
       " '4edz',\n",
       " '4ee0',\n",
       " '4eev',\n",
       " '4eft',\n",
       " '4eo8',\n",
       " '4eox',\n",
       " '4esi',\n",
       " '4ew3',\n",
       " '4f65',\n",
       " '4fri',\n",
       " '4frj',\n",
       " '4frk',\n",
       " '4fs4',\n",
       " '4g31',\n",
       " '4g3e',\n",
       " '4gfd',\n",
       " '4gk2',\n",
       " '4gk3',\n",
       " '4gsy',\n",
       " '4hu1',\n",
       " '4hup',\n",
       " '4hv3',\n",
       " '4hwo',\n",
       " '4hwp',\n",
       " '4hwr',\n",
       " '4hws',\n",
       " '4i71',\n",
       " '4i72',\n",
       " '4ie5',\n",
       " '4j0p',\n",
       " '4j0t',\n",
       " '4j0y',\n",
       " '4j0z',\n",
       " '4j17',\n",
       " '4j1e',\n",
       " '4j1h',\n",
       " '4j1k',\n",
       " '4j3d',\n",
       " '4j52',\n",
       " '4j7d',\n",
       " '4j8m',\n",
       " '4j93',\n",
       " '4jdf',\n",
       " '4jht',\n",
       " '4jib',\n",
       " '4jp9',\n",
       " '4jpc',\n",
       " '4jpe',\n",
       " '4jx7',\n",
       " '4jyu',\n",
       " '4jze',\n",
       " '4kc1',\n",
       " '4km0',\n",
       " '4km2',\n",
       " '4kne',\n",
       " '4l34',\n",
       " '4l7j',\n",
       " '4lc7',\n",
       " '4li7',\n",
       " '4lts',\n",
       " '4lv4',\n",
       " '4lwh',\n",
       " '4lwu',\n",
       " '4lxa',\n",
       " '4lxk',\n",
       " '4m2w',\n",
       " '4m7b',\n",
       " '4mbi',\n",
       " '4mcb',\n",
       " '4mep',\n",
       " '4mhy',\n",
       " '4mib',\n",
       " '4mk9',\n",
       " '4mp7',\n",
       " '4mpe',\n",
       " '4mxc',\n",
       " '4n00',\n",
       " '4n1t',\n",
       " '4n1u',\n",
       " '4nga',\n",
       " '4nka',\n",
       " '4np2',\n",
       " '4nq6',\n",
       " '4nw6',\n",
       " '4o78',\n",
       " '4oiv',\n",
       " '4oz2',\n",
       " '4p0n',\n",
       " '4pio',\n",
       " '4pkr',\n",
       " '4pks',\n",
       " '4pm0',\n",
       " '4pmm',\n",
       " '4poj',\n",
       " '4puk',\n",
       " '4puz',\n",
       " '4pv0',\n",
       " '4pzw',\n",
       " '4q09',\n",
       " '4q4p',\n",
       " '4qac',\n",
       " '4qag',\n",
       " '4qo4',\n",
       " '4qtb',\n",
       " '4qyy',\n",
       " '4r5n',\n",
       " '4rcd',\n",
       " '4rce',\n",
       " '4rcf',\n",
       " '4rfd',\n",
       " '4rfm',\n",
       " '4rn0',\n",
       " '4rn1',\n",
       " '4rn2',\n",
       " '4rrn',\n",
       " '4rro',\n",
       " '4ruy',\n",
       " '4rx5',\n",
       " '4s1g',\n",
       " '4tkg',\n",
       " '4tpw',\n",
       " '4twc',\n",
       " '4ual',\n",
       " '4ufi',\n",
       " '4unn',\n",
       " '4unr',\n",
       " '4ura',\n",
       " '4urx',\n",
       " '4uwh',\n",
       " '4wiv',\n",
       " '4wsy',\n",
       " '4ww8',\n",
       " '4wwo',\n",
       " '4wy1',\n",
       " '4wz8',\n",
       " '4x7i',\n",
       " '4x7k',\n",
       " '4xkx',\n",
       " '4xub',\n",
       " '4xuc',\n",
       " '4xue',\n",
       " '4xv9',\n",
       " '4xxs',\n",
       " '4xy2',\n",
       " '4xy8',\n",
       " '4y2b',\n",
       " '4y4g',\n",
       " '4ybi',\n",
       " '4yl0',\n",
       " '4yuz',\n",
       " '4yx4',\n",
       " '4yxi',\n",
       " '4z1j',\n",
       " '4z1k',\n",
       " '4zbf',\n",
       " '4zsp',\n",
       " '4zsq',\n",
       " '4zsr',\n",
       " '4zy6',\n",
       " '4zyc',\n",
       " '4zz1',\n",
       " '4zz2',\n",
       " '5a3n',\n",
       " '5a6n',\n",
       " '5a7b',\n",
       " '5abw',\n",
       " '5akh',\n",
       " '5akj',\n",
       " '5al4',\n",
       " '5al5',\n",
       " '5alv',\n",
       " '5amd',\n",
       " '5aok',\n",
       " '5bui',\n",
       " '5buj',\n",
       " '5d1t',\n",
       " '5d7r',\n",
       " '5d9l',\n",
       " '5dfp',\n",
       " '5djp',\n",
       " '5e13',\n",
       " '5e1e',\n",
       " '5e28',\n",
       " '5e2k',\n",
       " '5e2o',\n",
       " '5e2r',\n",
       " '5e2s',\n",
       " '5egm',\n",
       " '5ekh',\n",
       " '5ekj',\n",
       " '5ekm',\n",
       " '5eyr',\n",
       " '5f32',\n",
       " '5f3c',\n",
       " '5fe6',\n",
       " '5fe9',\n",
       " '5fky',\n",
       " '5fl5',\n",
       " '5fl6',\n",
       " '5h8e',\n",
       " '5h8g'}"
      ]
     },
     "execution_count": 24,
     "metadata": {},
     "output_type": "execute_result"
    }
   ],
   "source": [
    "common_pdb_wo_smiles"
   ]
  }
 ],
 "metadata": {
  "kernelspec": {
   "display_name": "Python 3 (ipykernel)",
   "language": "python",
   "name": "python3"
  },
  "language_info": {
   "codemirror_mode": {
    "name": "ipython",
    "version": 3
   },
   "file_extension": ".py",
   "mimetype": "text/x-python",
   "name": "python",
   "nbconvert_exporter": "python",
   "pygments_lexer": "ipython3",
   "version": "3.7.10"
  },
  "widgets": {
   "application/vnd.jupyter.widget-state+json": {
    "state": {},
    "version_major": 2,
    "version_minor": 0
   }
  }
 },
 "nbformat": 4,
 "nbformat_minor": 5
}
