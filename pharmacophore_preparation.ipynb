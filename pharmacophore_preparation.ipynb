{
 "cells": [
  {
   "cell_type": "code",
   "execution_count": 1,
   "id": "448934e4-b9f2-4830-bdec-27697600f1d7",
   "metadata": {},
   "outputs": [],
   "source": [
    "import pandas as pd\n",
    "import pickle\n",
    "import json\n",
    "import os\n",
    "\n",
    "from ccdc.io import MoleculeWriter"
   ]
  },
  {
   "cell_type": "code",
   "execution_count": 4,
   "id": "6c5a093c-103a-4f7d-89a5-e228eca818dc",
   "metadata": {},
   "outputs": [],
   "source": [
    "with open('results/random_split_0_new_pdbbind/conf_results.p', 'rb') as f :\n",
    "    results = pickle.load(f)"
   ]
  },
  {
   "cell_type": "code",
   "execution_count": 7,
   "id": "ff1bb16c-dafc-4f26-b428-f84e9fcca9b8",
   "metadata": {},
   "outputs": [],
   "source": [
    "#results['NC(=O)c1cccn2c(-c3cccnc3)cnc12']"
   ]
  },
  {
   "cell_type": "code",
   "execution_count": 8,
   "id": "a20af808-0725-4877-837a-9d47a45f0035",
   "metadata": {},
   "outputs": [],
   "source": [
    "with open('data/raw/ccdc_generated_conf_ensemble_library.p', 'rb') as f :\n",
    "    cel = pickle.load(f)"
   ]
  },
  {
   "cell_type": "code",
   "execution_count": 9,
   "id": "09c032bf-a701-4812-857e-43fcc1c48824",
   "metadata": {},
   "outputs": [],
   "source": [
    "def get_pdb_ids(smiles, cel) :\n",
    "    try :\n",
    "        mol = cel.get_conf_ensemble(smiles).mol\n",
    "        pdb_ids = [conf.GetProp('PDB_ID') for conf in mol.GetConformers()]\n",
    "        return list(set(pdb_ids))\n",
    "    except :\n",
    "        return list(set())"
   ]
  },
  {
   "cell_type": "code",
   "execution_count": 10,
   "id": "ec010451-686d-4d36-bbe0-e167be4a9fac",
   "metadata": {},
   "outputs": [],
   "source": [
    "test_set_pdbs = []\n",
    "for smiles in results :\n",
    "    pdb_ids = get_pdb_ids(smiles, cel)\n",
    "    results[smiles]['PDB_ID'] = str(pdb_ids)\n",
    "    test_set_pdbs.extend(pdb_ids)"
   ]
  },
  {
   "cell_type": "code",
   "execution_count": 13,
   "id": "5435ead8-2d37-4b92-9468-1149572bdf8c",
   "metadata": {},
   "outputs": [
    {
     "data": {
      "text/plain": [
       "1299"
      ]
     },
     "execution_count": 13,
     "metadata": {},
     "output_type": "execute_result"
    }
   ],
   "source": [
    "len(set(test_set_pdbs))"
   ]
  },
  {
   "cell_type": "code",
   "execution_count": 14,
   "id": "8e0f4911-9f2e-4c41-a7c0-60a6f5645449",
   "metadata": {},
   "outputs": [],
   "source": [
    "pdbbind_general_dir = '../PDBBind/PDBbind_v2020_other_PL/v2020-other-PL/'\n",
    "pdbbind_refined_dir = '../PDBBind/PDBbind_v2020_refined/refined-set/'"
   ]
  },
  {
   "cell_type": "code",
   "execution_count": 15,
   "id": "a1aa1ce4-f59e-41ae-a8c7-b57dc87d9176",
   "metadata": {},
   "outputs": [],
   "source": [
    "widths = [6,6,7,6,17,9,200]\n",
    "cols = 'PDB code, resolution, release year, -logKd/Ki, Kd/Ki, reference, ligand name'.replace(', ', ',').split(',')\n",
    "pl_data = pd.read_fwf(os.path.join(pdbbind_general_dir, 'index', 'INDEX_general_PL_data.2020'), widths=widths,skiprows=6,header=None)\n",
    "pl_data.columns=cols"
   ]
  },
  {
   "cell_type": "code",
   "execution_count": 16,
   "id": "0fb3b0c5-c068-45d5-aef5-1274c934f0eb",
   "metadata": {},
   "outputs": [],
   "source": [
    "widths = [6,6,8,200]\n",
    "cols = 'PDB code, release year, Uniprot ID, protein name'.replace(', ', ',').split(',')\n",
    "pl_name = pd.read_fwf(os.path.join(pdbbind_general_dir, 'index', 'INDEX_general_PL_name.2020'), widths=widths,skiprows=6,header=None)\n",
    "pl_name.columns=cols"
   ]
  },
  {
   "cell_type": "code",
   "execution_count": 17,
   "id": "72a5156a-d704-48f1-b30a-78e261063062",
   "metadata": {},
   "outputs": [],
   "source": [
    "pl_all = pl_data.merge(pl_name, on='PDB code')"
   ]
  },
  {
   "cell_type": "code",
   "execution_count": 20,
   "id": "6036f0c0-abeb-4167-a25a-e673856a32fe",
   "metadata": {},
   "outputs": [
    {
     "data": {
      "text/html": [
       "<div>\n",
       "<style scoped>\n",
       "    .dataframe tbody tr th:only-of-type {\n",
       "        vertical-align: middle;\n",
       "    }\n",
       "\n",
       "    .dataframe tbody tr th {\n",
       "        vertical-align: top;\n",
       "    }\n",
       "\n",
       "    .dataframe thead th {\n",
       "        text-align: right;\n",
       "    }\n",
       "</style>\n",
       "<table border=\"1\" class=\"dataframe\">\n",
       "  <thead>\n",
       "    <tr style=\"text-align: right;\">\n",
       "      <th></th>\n",
       "      <th>PDB code</th>\n",
       "      <th>resolution</th>\n",
       "      <th>release year_x</th>\n",
       "      <th>-logKd/Ki</th>\n",
       "      <th>Kd/Ki</th>\n",
       "      <th>reference</th>\n",
       "      <th>ligand name</th>\n",
       "      <th>release year_y</th>\n",
       "      <th>Uniprot ID</th>\n",
       "      <th>protein name</th>\n",
       "    </tr>\n",
       "  </thead>\n",
       "  <tbody>\n",
       "    <tr>\n",
       "      <th>0</th>\n",
       "      <td>3zzf</td>\n",
       "      <td>2.20</td>\n",
       "      <td>2012</td>\n",
       "      <td>0.4</td>\n",
       "      <td>Ki=400mM      //</td>\n",
       "      <td>3zzf.pdf</td>\n",
       "      <td>(NLG)</td>\n",
       "      <td>2012</td>\n",
       "      <td>Q01217</td>\n",
       "      <td>ACETYLGLUTAMATE KINASE</td>\n",
       "    </tr>\n",
       "  </tbody>\n",
       "</table>\n",
       "</div>"
      ],
      "text/plain": [
       "  PDB code resolution release year_x  -logKd/Ki             Kd/Ki reference  \\\n",
       "0     3zzf       2.20           2012        0.4  Ki=400mM      //  3zzf.pdf   \n",
       "\n",
       "  ligand name  release year_y Uniprot ID            protein name  \n",
       "0       (NLG)            2012     Q01217  ACETYLGLUTAMATE KINASE  "
      ]
     },
     "execution_count": 20,
     "metadata": {},
     "output_type": "execute_result"
    }
   ],
   "source": [
    "pl_all.head(1)"
   ]
  },
  {
   "cell_type": "code",
   "execution_count": 67,
   "id": "6dac1092-e64c-444c-ada9-5b89bb8abe87",
   "metadata": {},
   "outputs": [],
   "source": [
    "jak2_actives = pl_all[(pl_all['protein name'].str.contains('JAK2'))\n",
    "      & (pl_all['-logKd/Ki'] > 8.5) & (pl_all['resolution'].str.replace('NMR', '0').astype(float) <= 2)]"
   ]
  },
  {
   "cell_type": "code",
   "execution_count": 75,
   "id": "efe0519d-1ed7-4871-933d-69b92fce7a70",
   "metadata": {},
   "outputs": [
    {
     "data": {
      "text/html": [
       "<div>\n",
       "<style scoped>\n",
       "    .dataframe tbody tr th:only-of-type {\n",
       "        vertical-align: middle;\n",
       "    }\n",
       "\n",
       "    .dataframe tbody tr th {\n",
       "        vertical-align: top;\n",
       "    }\n",
       "\n",
       "    .dataframe thead th {\n",
       "        text-align: right;\n",
       "    }\n",
       "</style>\n",
       "<table border=\"1\" class=\"dataframe\">\n",
       "  <thead>\n",
       "    <tr style=\"text-align: right;\">\n",
       "      <th></th>\n",
       "      <th>PDB code</th>\n",
       "      <th>resolution</th>\n",
       "      <th>release year_x</th>\n",
       "      <th>-logKd/Ki</th>\n",
       "      <th>Kd/Ki</th>\n",
       "      <th>reference</th>\n",
       "      <th>ligand name</th>\n",
       "      <th>release year_y</th>\n",
       "      <th>Uniprot ID</th>\n",
       "      <th>protein name</th>\n",
       "    </tr>\n",
       "  </thead>\n",
       "  <tbody>\n",
       "    <tr>\n",
       "      <th>9155</th>\n",
       "      <td>3h8b</td>\n",
       "      <td>1.80</td>\n",
       "      <td>2009</td>\n",
       "      <td>6.29</td>\n",
       "      <td>Ki=0.511uM    //</td>\n",
       "      <td>3h89.pdf</td>\n",
       "      <td>(NSY)</td>\n",
       "      <td>2009</td>\n",
       "      <td>P07711</td>\n",
       "      <td>CATHEPSIN L1</td>\n",
       "    </tr>\n",
       "    <tr>\n",
       "      <th>9895</th>\n",
       "      <td>2xu4</td>\n",
       "      <td>1.12</td>\n",
       "      <td>2011</td>\n",
       "      <td>6.47</td>\n",
       "      <td>IC50=0.34uM   //</td>\n",
       "      <td>2xu1.pdf</td>\n",
       "      <td>(DJT)</td>\n",
       "      <td>2011</td>\n",
       "      <td>P07711</td>\n",
       "      <td>CATHEPSIN L1</td>\n",
       "    </tr>\n",
       "    <tr>\n",
       "      <th>11200</th>\n",
       "      <td>2xu3</td>\n",
       "      <td>0.90</td>\n",
       "      <td>2011</td>\n",
       "      <td>6.80</td>\n",
       "      <td>IC50=0.16uM   //</td>\n",
       "      <td>2xu1.pdf</td>\n",
       "      <td>(XU3)</td>\n",
       "      <td>2011</td>\n",
       "      <td>P07711</td>\n",
       "      <td>CATHEPSIN L1</td>\n",
       "    </tr>\n",
       "    <tr>\n",
       "      <th>11257</th>\n",
       "      <td>3bc3</td>\n",
       "      <td>2.20</td>\n",
       "      <td>2008</td>\n",
       "      <td>6.81</td>\n",
       "      <td>Ki=0.155uM    //</td>\n",
       "      <td>3bc3.pdf</td>\n",
       "      <td>(OPT)</td>\n",
       "      <td>2008</td>\n",
       "      <td>P07711</td>\n",
       "      <td>CATHEPSIN L</td>\n",
       "    </tr>\n",
       "    <tr>\n",
       "      <th>11395</th>\n",
       "      <td>5mae</td>\n",
       "      <td>1.00</td>\n",
       "      <td>2017</td>\n",
       "      <td>6.84</td>\n",
       "      <td>Ki=146nM      //</td>\n",
       "      <td>5mae.pdf</td>\n",
       "      <td>(7KN)</td>\n",
       "      <td>2017</td>\n",
       "      <td>P07711</td>\n",
       "      <td>CATHEPSIN L1</td>\n",
       "    </tr>\n",
       "    <tr>\n",
       "      <th>11539</th>\n",
       "      <td>2xu5</td>\n",
       "      <td>1.60</td>\n",
       "      <td>2011</td>\n",
       "      <td>6.89</td>\n",
       "      <td>IC50=0.13uM   //</td>\n",
       "      <td>2xu1.pdf</td>\n",
       "      <td>(XU5)</td>\n",
       "      <td>2011</td>\n",
       "      <td>P07711</td>\n",
       "      <td>CATHEPSIN L1</td>\n",
       "    </tr>\n",
       "    <tr>\n",
       "      <th>12017</th>\n",
       "      <td>2yj9</td>\n",
       "      <td>1.35</td>\n",
       "      <td>2011</td>\n",
       "      <td>7.02</td>\n",
       "      <td>IC50=0.095uM  //</td>\n",
       "      <td>2yj2.pdf</td>\n",
       "      <td>(YJ9)</td>\n",
       "      <td>2011</td>\n",
       "      <td>P07711</td>\n",
       "      <td>CATHEPSIN L1</td>\n",
       "    </tr>\n",
       "    <tr>\n",
       "      <th>12018</th>\n",
       "      <td>2yjb</td>\n",
       "      <td>1.40</td>\n",
       "      <td>2011</td>\n",
       "      <td>7.02</td>\n",
       "      <td>IC50=0.095uM  //</td>\n",
       "      <td>2yj2.pdf</td>\n",
       "      <td>(YJ9)</td>\n",
       "      <td>2011</td>\n",
       "      <td>P07711</td>\n",
       "      <td>CATHEPSIN L1</td>\n",
       "    </tr>\n",
       "    <tr>\n",
       "      <th>12344</th>\n",
       "      <td>5mqy</td>\n",
       "      <td>1.13</td>\n",
       "      <td>2017</td>\n",
       "      <td>7.11</td>\n",
       "      <td>Ki=0.077uM    //</td>\n",
       "      <td>5mqy.pdf</td>\n",
       "      <td>(GH4)</td>\n",
       "      <td>2017</td>\n",
       "      <td>P07711</td>\n",
       "      <td>CATHEPSIN L1</td>\n",
       "    </tr>\n",
       "    <tr>\n",
       "      <th>13251</th>\n",
       "      <td>1mhw</td>\n",
       "      <td>1.90</td>\n",
       "      <td>2002</td>\n",
       "      <td>7.35</td>\n",
       "      <td>Ki=45nM       //</td>\n",
       "      <td>1mhw.pdf</td>\n",
       "      <td>(5-mer)</td>\n",
       "      <td>2002</td>\n",
       "      <td>P07711</td>\n",
       "      <td>CATHEPSIN L</td>\n",
       "    </tr>\n",
       "    <tr>\n",
       "      <th>13682</th>\n",
       "      <td>5f02</td>\n",
       "      <td>1.43</td>\n",
       "      <td>2016</td>\n",
       "      <td>7.44</td>\n",
       "      <td>IC50=36nM     //</td>\n",
       "      <td>5edb.pdf</td>\n",
       "      <td>(5T9)</td>\n",
       "      <td>2016</td>\n",
       "      <td>P07711</td>\n",
       "      <td>CATHEPSIN L1</td>\n",
       "    </tr>\n",
       "    <tr>\n",
       "      <th>13742</th>\n",
       "      <td>5maj</td>\n",
       "      <td>1.00</td>\n",
       "      <td>2017</td>\n",
       "      <td>7.46</td>\n",
       "      <td>Ki=35nM       //</td>\n",
       "      <td>5mae.pdf</td>\n",
       "      <td>(7KH)</td>\n",
       "      <td>2017</td>\n",
       "      <td>P07711</td>\n",
       "      <td>CATHEPSIN L1</td>\n",
       "    </tr>\n",
       "    <tr>\n",
       "      <th>14359</th>\n",
       "      <td>3h89</td>\n",
       "      <td>2.50</td>\n",
       "      <td>2009</td>\n",
       "      <td>7.64</td>\n",
       "      <td>Ki=0.023uM    //</td>\n",
       "      <td>3h89.pdf</td>\n",
       "      <td>(NSX)</td>\n",
       "      <td>2009</td>\n",
       "      <td>P07711</td>\n",
       "      <td>CATHEPSIN L1</td>\n",
       "    </tr>\n",
       "    <tr>\n",
       "      <th>14417</th>\n",
       "      <td>2xu1</td>\n",
       "      <td>1.45</td>\n",
       "      <td>2011</td>\n",
       "      <td>7.66</td>\n",
       "      <td>IC50=0.022uM  //</td>\n",
       "      <td>2xu1.pdf</td>\n",
       "      <td>(424)</td>\n",
       "      <td>2011</td>\n",
       "      <td>P07711</td>\n",
       "      <td>CATHEPSIN L1</td>\n",
       "    </tr>\n",
       "    <tr>\n",
       "      <th>14419</th>\n",
       "      <td>2yjc</td>\n",
       "      <td>1.14</td>\n",
       "      <td>2011</td>\n",
       "      <td>7.66</td>\n",
       "      <td>IC50=0.022uM  //</td>\n",
       "      <td>2yj2.pdf</td>\n",
       "      <td>(424)</td>\n",
       "      <td>2011</td>\n",
       "      <td>P07711</td>\n",
       "      <td>CATHEPSIN L1</td>\n",
       "    </tr>\n",
       "    <tr>\n",
       "      <th>14715</th>\n",
       "      <td>3h8c</td>\n",
       "      <td>2.50</td>\n",
       "      <td>2009</td>\n",
       "      <td>7.72</td>\n",
       "      <td>Ki=0.019uM    //</td>\n",
       "      <td>3h89.pdf</td>\n",
       "      <td>(NSZ)</td>\n",
       "      <td>2009</td>\n",
       "      <td>P07711</td>\n",
       "      <td>CATHEPSIN L1</td>\n",
       "    </tr>\n",
       "    <tr>\n",
       "      <th>15311</th>\n",
       "      <td>4axm</td>\n",
       "      <td>2.80</td>\n",
       "      <td>2013</td>\n",
       "      <td>7.89</td>\n",
       "      <td>Ki=13nM       //</td>\n",
       "      <td>4axm.pdf</td>\n",
       "      <td>(V65)</td>\n",
       "      <td>2013</td>\n",
       "      <td>P07711</td>\n",
       "      <td>CATHEPSIN L1</td>\n",
       "    </tr>\n",
       "    <tr>\n",
       "      <th>15366</th>\n",
       "      <td>3hha</td>\n",
       "      <td>1.27</td>\n",
       "      <td>2009</td>\n",
       "      <td>7.90</td>\n",
       "      <td>IC50=12.6nM   //</td>\n",
       "      <td>3hha.pdf</td>\n",
       "      <td>(NOW)</td>\n",
       "      <td>2009</td>\n",
       "      <td>P07711</td>\n",
       "      <td>CATHEPSIN L1</td>\n",
       "    </tr>\n",
       "    <tr>\n",
       "      <th>15405</th>\n",
       "      <td>2yj2</td>\n",
       "      <td>1.15</td>\n",
       "      <td>2011</td>\n",
       "      <td>7.92</td>\n",
       "      <td>IC50=0.012uM  //</td>\n",
       "      <td>2yj2.pdf</td>\n",
       "      <td>(YJ2)</td>\n",
       "      <td>2011</td>\n",
       "      <td>P07711</td>\n",
       "      <td>CATHEPSIN L1</td>\n",
       "    </tr>\n",
       "    <tr>\n",
       "      <th>16322</th>\n",
       "      <td>2yj8</td>\n",
       "      <td>1.30</td>\n",
       "      <td>2011</td>\n",
       "      <td>8.19</td>\n",
       "      <td>IC50=0.0065uM //</td>\n",
       "      <td>2yj2.pdf</td>\n",
       "      <td>(YJ8)</td>\n",
       "      <td>2011</td>\n",
       "      <td>P07711</td>\n",
       "      <td>CATHEPSIN L1</td>\n",
       "    </tr>\n",
       "    <tr>\n",
       "      <th>17606</th>\n",
       "      <td>3hwn</td>\n",
       "      <td>2.33</td>\n",
       "      <td>2009</td>\n",
       "      <td>8.70</td>\n",
       "      <td>IC50=2nM      //</td>\n",
       "      <td>3hwn.pdf</td>\n",
       "      <td>(BD3)</td>\n",
       "      <td>2009</td>\n",
       "      <td>P07711</td>\n",
       "      <td>CATHEPSIN L1</td>\n",
       "    </tr>\n",
       "    <tr>\n",
       "      <th>18463</th>\n",
       "      <td>3of8</td>\n",
       "      <td>2.20</td>\n",
       "      <td>2010</td>\n",
       "      <td>9.22</td>\n",
       "      <td>Ki=0.6nM      //</td>\n",
       "      <td>3of8.pdf</td>\n",
       "      <td>(I0Y)</td>\n",
       "      <td>2010</td>\n",
       "      <td>P07711</td>\n",
       "      <td>CATHEPSIN L1</td>\n",
       "    </tr>\n",
       "  </tbody>\n",
       "</table>\n",
       "</div>"
      ],
      "text/plain": [
       "      PDB code resolution release year_x  -logKd/Ki             Kd/Ki  \\\n",
       "9155      3h8b       1.80           2009       6.29  Ki=0.511uM    //   \n",
       "9895      2xu4       1.12           2011       6.47  IC50=0.34uM   //   \n",
       "11200     2xu3       0.90           2011       6.80  IC50=0.16uM   //   \n",
       "11257     3bc3       2.20           2008       6.81  Ki=0.155uM    //   \n",
       "11395     5mae       1.00           2017       6.84  Ki=146nM      //   \n",
       "11539     2xu5       1.60           2011       6.89  IC50=0.13uM   //   \n",
       "12017     2yj9       1.35           2011       7.02  IC50=0.095uM  //   \n",
       "12018     2yjb       1.40           2011       7.02  IC50=0.095uM  //   \n",
       "12344     5mqy       1.13           2017       7.11  Ki=0.077uM    //   \n",
       "13251     1mhw       1.90           2002       7.35  Ki=45nM       //   \n",
       "13682     5f02       1.43           2016       7.44  IC50=36nM     //   \n",
       "13742     5maj       1.00           2017       7.46  Ki=35nM       //   \n",
       "14359     3h89       2.50           2009       7.64  Ki=0.023uM    //   \n",
       "14417     2xu1       1.45           2011       7.66  IC50=0.022uM  //   \n",
       "14419     2yjc       1.14           2011       7.66  IC50=0.022uM  //   \n",
       "14715     3h8c       2.50           2009       7.72  Ki=0.019uM    //   \n",
       "15311     4axm       2.80           2013       7.89  Ki=13nM       //   \n",
       "15366     3hha       1.27           2009       7.90  IC50=12.6nM   //   \n",
       "15405     2yj2       1.15           2011       7.92  IC50=0.012uM  //   \n",
       "16322     2yj8       1.30           2011       8.19  IC50=0.0065uM //   \n",
       "17606     3hwn       2.33           2009       8.70  IC50=2nM      //   \n",
       "18463     3of8       2.20           2010       9.22  Ki=0.6nM      //   \n",
       "\n",
       "      reference ligand name  release year_y Uniprot ID  protein name  \n",
       "9155   3h89.pdf       (NSY)            2009     P07711  CATHEPSIN L1  \n",
       "9895   2xu1.pdf       (DJT)            2011     P07711  CATHEPSIN L1  \n",
       "11200  2xu1.pdf       (XU3)            2011     P07711  CATHEPSIN L1  \n",
       "11257  3bc3.pdf       (OPT)            2008     P07711   CATHEPSIN L  \n",
       "11395  5mae.pdf       (7KN)            2017     P07711  CATHEPSIN L1  \n",
       "11539  2xu1.pdf       (XU5)            2011     P07711  CATHEPSIN L1  \n",
       "12017  2yj2.pdf       (YJ9)            2011     P07711  CATHEPSIN L1  \n",
       "12018  2yj2.pdf       (YJ9)            2011     P07711  CATHEPSIN L1  \n",
       "12344  5mqy.pdf       (GH4)            2017     P07711  CATHEPSIN L1  \n",
       "13251  1mhw.pdf     (5-mer)            2002     P07711   CATHEPSIN L  \n",
       "13682  5edb.pdf       (5T9)            2016     P07711  CATHEPSIN L1  \n",
       "13742  5mae.pdf       (7KH)            2017     P07711  CATHEPSIN L1  \n",
       "14359  3h89.pdf       (NSX)            2009     P07711  CATHEPSIN L1  \n",
       "14417  2xu1.pdf       (424)            2011     P07711  CATHEPSIN L1  \n",
       "14419  2yj2.pdf       (424)            2011     P07711  CATHEPSIN L1  \n",
       "14715  3h89.pdf       (NSZ)            2009     P07711  CATHEPSIN L1  \n",
       "15311  4axm.pdf       (V65)            2013     P07711  CATHEPSIN L1  \n",
       "15366  3hha.pdf       (NOW)            2009     P07711  CATHEPSIN L1  \n",
       "15405  2yj2.pdf       (YJ2)            2011     P07711  CATHEPSIN L1  \n",
       "16322  2yj2.pdf       (YJ8)            2011     P07711  CATHEPSIN L1  \n",
       "17606  3hwn.pdf       (BD3)            2009     P07711  CATHEPSIN L1  \n",
       "18463  3of8.pdf       (I0Y)            2010     P07711  CATHEPSIN L1  "
      ]
     },
     "execution_count": 75,
     "metadata": {},
     "output_type": "execute_result"
    }
   ],
   "source": [
    "pl_all[(pl_all['protein name'].str.contains('CATHEPSIN L'))]"
   ]
  },
  {
   "cell_type": "code",
   "execution_count": 68,
   "id": "7203011f-91fd-4ba6-b297-18e1fd1d4dd0",
   "metadata": {},
   "outputs": [],
   "source": [
    "jak2_pdbs = jak2_actives['PDB code'].values"
   ]
  },
  {
   "cell_type": "code",
   "execution_count": 69,
   "id": "3e44970d-5257-42f9-9967-c9d7f58d6f69",
   "metadata": {},
   "outputs": [
    {
     "data": {
      "text/plain": [
       "array(['4bbf', '5cf8', '2b7a', '4aqc', '4jia', '3krr'], dtype=object)"
      ]
     },
     "execution_count": 69,
     "metadata": {},
     "output_type": "execute_result"
    }
   ],
   "source": [
    "jak2_pdbs"
   ]
  },
  {
   "cell_type": "code",
   "execution_count": 70,
   "id": "39bb7943-9d48-49ae-9df7-7654a1b93f40",
   "metadata": {},
   "outputs": [],
   "source": [
    "test_set_jak2 = [pdb for pdb in jak2_pdbs if pdb in test_set_pdbs]"
   ]
  },
  {
   "cell_type": "code",
   "execution_count": 71,
   "id": "5fef0b37-0f8f-4800-b1c7-afb321950f1e",
   "metadata": {},
   "outputs": [
    {
     "data": {
      "text/plain": [
       "[]"
      ]
     },
     "execution_count": 71,
     "metadata": {},
     "output_type": "execute_result"
    }
   ],
   "source": [
    "test_set_jak2"
   ]
  },
  {
   "cell_type": "code",
   "execution_count": 34,
   "id": "8e181436-06f9-4753-a6b7-868a78d604ab",
   "metadata": {},
   "outputs": [
    {
     "ename": "NameError",
     "evalue": "name 'table' is not defined",
     "output_type": "error",
     "traceback": [
      "\u001b[0;31m---------------------------------------------------------------------------\u001b[0m",
      "\u001b[0;31mNameError\u001b[0m                                 Traceback (most recent call last)",
      "\u001b[0;32m/tmp/ipykernel_109906/2116080747.py\u001b[0m in \u001b[0;36m<module>\u001b[0;34m\u001b[0m\n\u001b[1;32m      1\u001b[0m \u001b[0mpdb_id\u001b[0m \u001b[0;34m=\u001b[0m \u001b[0;34m'5ut6'\u001b[0m\u001b[0;34m\u001b[0m\u001b[0;34m\u001b[0m\u001b[0m\n\u001b[0;32m----> 2\u001b[0;31m \u001b[0;32mfor\u001b[0m \u001b[0mi\u001b[0m \u001b[0;32min\u001b[0m \u001b[0mtable\u001b[0m\u001b[0;34m.\u001b[0m\u001b[0mindex\u001b[0m \u001b[0;34m:\u001b[0m\u001b[0;34m\u001b[0m\u001b[0;34m\u001b[0m\u001b[0m\n\u001b[0m\u001b[1;32m      3\u001b[0m     \u001b[0msmiles\u001b[0m \u001b[0;34m=\u001b[0m \u001b[0mtable\u001b[0m\u001b[0;34m.\u001b[0m\u001b[0mloc\u001b[0m\u001b[0;34m[\u001b[0m\u001b[0mi\u001b[0m\u001b[0;34m,\u001b[0m \u001b[0;34m'Unnamed: 0'\u001b[0m\u001b[0;34m]\u001b[0m\u001b[0;34m\u001b[0m\u001b[0;34m\u001b[0m\u001b[0m\n\u001b[1;32m      4\u001b[0m     \u001b[0mpdb_ids\u001b[0m \u001b[0;34m=\u001b[0m \u001b[0mget_pdb_ids\u001b[0m\u001b[0;34m(\u001b[0m\u001b[0msmiles\u001b[0m\u001b[0;34m,\u001b[0m \u001b[0mcel\u001b[0m\u001b[0;34m)\u001b[0m\u001b[0;34m\u001b[0m\u001b[0;34m\u001b[0m\u001b[0m\n\u001b[1;32m      5\u001b[0m     \u001b[0;32mif\u001b[0m \u001b[0mpdb_id\u001b[0m \u001b[0;32min\u001b[0m \u001b[0mpdb_ids\u001b[0m \u001b[0;34m:\u001b[0m\u001b[0;34m\u001b[0m\u001b[0;34m\u001b[0m\u001b[0m\n",
      "\u001b[0;31mNameError\u001b[0m: name 'table' is not defined"
     ]
    }
   ],
   "source": [
    "pdb_id = '5ut6'\n",
    "for i in table.index :\n",
    "    smiles = table.loc[i, 'Unnamed: 0']\n",
    "    pdb_ids = get_pdb_ids(smiles, cel)\n",
    "    if pdb_id in pdb_ids :\n",
    "        mol = cel.get_conf_ensemble(smiles).mol"
   ]
  },
  {
   "cell_type": "code",
   "execution_count": 143,
   "id": "c2ca2962-982c-44fa-b351-b58b47e49626",
   "metadata": {},
   "outputs": [
    {
     "data": {
      "image/png": "[encoded data removed]",
      "text/plain": [
       "<rdkit.Chem.rdchem.Mol at 0x7fc939cfd2b0>"
      ]
     },
     "execution_count": 143,
     "metadata": {},
     "output_type": "execute_result"
    }
   ],
   "source": [
    "mol"
   ]
  },
  {
   "cell_type": "code",
   "execution_count": 35,
   "id": "e063d942-7f1e-4ddf-98a0-10e52e716b08",
   "metadata": {},
   "outputs": [],
   "source": [
    "from ccdc.protein import Protein\n",
    "from ccdc.io import MoleculeReader"
   ]
  },
  {
   "cell_type": "code",
   "execution_count": 36,
   "id": "75bc9051-ce68-46aa-82a9-f5bf71a02d44",
   "metadata": {},
   "outputs": [],
   "source": [
    "general_pdb_ids = os.listdir(pdbbind_general_dir)\n",
    "refined_pdb_ids = os.listdir(pdbbind_refined_dir)"
   ]
  },
  {
   "cell_type": "code",
   "execution_count": 72,
   "id": "9331fb73-becd-4311-bc38-416eccfdb9cc",
   "metadata": {
    "scrolled": true,
    "tags": []
   },
   "outputs": [
    {
     "name": "stdout",
     "output_type": "stream",
     "text": [
      "0.3908125575343422\n",
      "0.45234766848304137\n",
      "0.4936544261363699\n",
      "0.5462973007710156\n",
      "0.5146101494862991\n"
     ]
    }
   ],
   "source": [
    "with MoleculeWriter(f'jak2_ligands_aligned.mol2') as writer:\n",
    "    for i, pdb_id in enumerate(jak2_pdbs) :\n",
    "        if pdb_id in general_pdb_ids :\n",
    "            protein_path = os.path.join(pdbbind_general_dir, pdb_id, f'{pdb_id}_protein.pdb')\n",
    "            ligand_path = os.path.join(pdbbind_general_dir, pdb_id, f'{pdb_id}_ligand.mol2')\n",
    "        else :\n",
    "            protein_path = os.path.join(pdbbind_refined_dir, pdb_id, f'{pdb_id}_protein.pdb')\n",
    "            ligand_path = os.path.join(pdbbind_refined_dir, pdb_id, f'{pdb_id}_ligand.mol2')\n",
    "        ligand = MoleculeReader(ligand_path)[0]\n",
    "        if i == 0 :\n",
    "            protein1 = Protein.from_file(protein_path)\n",
    "            writer.write(ligand)\n",
    "        else :\n",
    "            protein2 = Protein.from_file(protein_path)\n",
    "            chain_superposition = Protein.ChainSuperposition()\n",
    "            (rmsd, transformation) = chain_superposition.superpose(protein1.chains[0], protein2.chains[0])\n",
    "            print(rmsd)\n",
    "            ligand.transform(transformation)\n",
    "            writer.write(ligand)"
   ]
  },
  {
   "cell_type": "code",
   "execution_count": 73,
   "id": "0bda4dfa-4b01-4b7b-842d-14713e98c964",
   "metadata": {
    "scrolled": true,
    "tags": []
   },
   "outputs": [
    {
     "name": "stdout",
     "output_type": "stream",
     "text": [
      "Protein has 1 chains and 288 residues.\n",
      "Protein has 1 chains and 287 residues.\n",
      "Protein has 1 chains and 286 residues.\n",
      "Protein has 1 chains and 291 residues.\n",
      "Protein has 1 chains and 300 residues.\n",
      "Protein has 1 chains and 293 residues.\n"
     ]
    }
   ],
   "source": [
    "with MoleculeWriter(f'jak2_protein_aligned.pdb') as protein_writer:\n",
    "    for i, pdb_id in enumerate(jak2_pdbs) :\n",
    "        if pdb_id in general_pdb_ids :\n",
    "            path = os.path.join(pdbbind_general_dir, pdb_id, f'{pdb_id}_protein.pdb')\n",
    "        else :\n",
    "            path = os.path.join(pdbbind_refined_dir, pdb_id, f'{pdb_id}_protein.pdb')\n",
    "        if i == 0 :\n",
    "            protein1 = Protein.from_file(path)\n",
    "            print(\"Protein has {} chains and {} residues.\".format(len(protein1.chains),len(protein1.residues)))\n",
    "            protein_writer.write(protein1)\n",
    "        else :\n",
    "            protein2 = Protein.from_file(path)\n",
    "            print(\"Protein has {} chains and {} residues.\".format(len(protein2.chains),len(protein2.residues)))\n",
    "            chain_superposition = Protein.ChainSuperposition()\n",
    "            (rmsd, transformation) = chain_superposition.superpose(protein1.chains[0], protein2.chains[0])\n",
    "            protein_writer.write(protein2)"
   ]
  },
  {
   "cell_type": "code",
   "execution_count": 73,
   "id": "f1799c3b-c305-460e-bfaa-e47a5217127f",
   "metadata": {},
   "outputs": [
    {
     "name": "stdout",
     "output_type": "stream",
     "text": [
      "Protein has 1 chains and 272 residues.\n",
      "Protein has 1 chains and 277 residues.\n",
      "Protein has 1 chains and 286 residues.\n",
      "Protein has 1 chains and 285 residues.\n",
      "Protein has 1 chains and 292 residues.\n"
     ]
    }
   ],
   "source": [
    "for i, pdb_id in enumerate(test_set_jak2) :\n",
    "    if pdb_id in general_pdb_ids :\n",
    "        path = os.path.join(pdbbind_general_dir, pdb_id, f'{pdb_id}_protein.pdb')\n",
    "    else :\n",
    "        path = os.path.join(pdbbind_refined_dir, pdb_id, f'{pdb_id}_protein.pdb')\n",
    "    if i == 0 :\n",
    "        protein1 = Protein.from_file(path)\n",
    "        print(\"Protein has {} chains and {} residues.\".format(len(protein1.chains),len(protein1.residues)))\n",
    "        with MoleculeWriter(f'{pdb_id}_aligned.pdb') as protein_writer:\n",
    "            protein_writer.write(protein1)\n",
    "    else :\n",
    "        protein2 = Protein.from_file(path)\n",
    "        print(\"Protein has {} chains and {} residues.\".format(len(protein2.chains),len(protein2.residues)))\n",
    "        chain_superposition = Protein.ChainSuperposition()\n",
    "        (rmsd, transformation) = chain_superposition.superpose(protein1.chains[0], protein2.chains[0])\n",
    "        #protein2.transform(transformation)\n",
    "        with MoleculeWriter(f'{pdb_id}_aligned.pdb') as protein_writer:\n",
    "            protein_writer.write(protein2)"
   ]
  },
  {
   "cell_type": "code",
   "execution_count": 61,
   "id": "aef5f5bf-04a5-49e9-bbd7-69c2e9898aab",
   "metadata": {},
   "outputs": [
    {
     "name": "stdout",
     "output_type": "stream",
     "text": [
      "Protein has 1 chains and 272 residues.\n"
     ]
    }
   ],
   "source": [
    "print(\"Protein has {} chains and {} residues.\".format(len(protein1.chains),len(protein1.residues)))"
   ]
  },
  {
   "cell_type": "code",
   "execution_count": 62,
   "id": "57a3ac71-7c63-4151-8eec-f0b813a83b4e",
   "metadata": {},
   "outputs": [
    {
     "name": "stdout",
     "output_type": "stream",
     "text": [
      "Protein has 1 chains and 292 residues.\n"
     ]
    }
   ],
   "source": [
    "print(\"Protein has {} chains and {} residues.\".format(len(protein2.chains),len(protein2.residues)))"
   ]
  },
  {
   "cell_type": "code",
   "execution_count": 63,
   "id": "74b0e74a-cb6f-4cc3-9449-ca956acbabd9",
   "metadata": {},
   "outputs": [],
   "source": [
    "chain_superposition = Protein.ChainSuperposition()\n",
    "(rmsd, transformation) = chain_superposition.superpose(protein1.chains[0], protein2.chains[0])"
   ]
  },
  {
   "cell_type": "code",
   "execution_count": 65,
   "id": "37b43d76-3b94-4dbe-9a21-ea35e49c6949",
   "metadata": {},
   "outputs": [
    {
     "data": {
      "text/plain": [
       "Molecule.Transformation(Rotation: ((-0.028474905115391413, -0.3230093412430103, 0.9459673066488219), (0.5505887508195584, -0.7949205257060925, -0.25485954030035496), (0.8342908409239715, 0.5135818564561121, 0.20048059624179537)) Translation: (-40.41077865500128, -3.2316097138001183, 52.73123480039596))"
      ]
     },
     "execution_count": 65,
     "metadata": {},
     "output_type": "execute_result"
    }
   ],
   "source": [
    "transformation"
   ]
  },
  {
   "cell_type": "code",
   "execution_count": 66,
   "id": "0d9131dd-5981-49dd-808c-c656c08403f8",
   "metadata": {},
   "outputs": [],
   "source": [
    "protein2.transform(transformation)"
   ]
  },
  {
   "cell_type": "code",
   "execution_count": 68,
   "id": "7d47af19-a362-4f4b-9ce8-26031c427608",
   "metadata": {},
   "outputs": [],
   "source": [
    "from ccdc.io import MoleculeWriter\n",
    "with MoleculeWriter(f'{pdb_id}_aligned.pdb') as protein_writer:\n",
    "    protein_writer.write(protein2)"
   ]
  },
  {
   "cell_type": "markdown",
   "id": "1b941e55-a7e2-48b0-a2c2-cf1fde4f001d",
   "metadata": {},
   "source": [
    "# Pharmacophore done with python"
   ]
  },
  {
   "cell_type": "code",
   "execution_count": 154,
   "id": "24acd758-84e9-428e-9868-637f749a25db",
   "metadata": {},
   "outputs": [],
   "source": [
    "from ccdc.pharmacophore import Pharmacophore\n",
    "pharmacophore_path = '../pharmacophore_maestro/model.cm'\n",
    "catl_s3_query = Pharmacophore.Query.from_file(pharmacophore_path)"
   ]
  },
  {
   "cell_type": "code",
   "execution_count": 155,
   "id": "1de4caa6-31a2-4cd4-9d33-167cc80b6e43",
   "metadata": {},
   "outputs": [],
   "source": [
    "features = catl_s3_query.features"
   ]
  },
  {
   "cell_type": "code",
   "execution_count": 156,
   "id": "9447be81-a561-407f-9597-c90faa68b552",
   "metadata": {},
   "outputs": [
    {
     "name": "stdout",
     "output_type": "stream",
     "text": [
      "8\n"
     ]
    }
   ],
   "source": [
    "print(len(features))"
   ]
  },
  {
   "cell_type": "code",
   "execution_count": 157,
   "id": "9d4d9628-f3a3-4ddb-baf3-210c1dcae6b9",
   "metadata": {},
   "outputs": [
    {
     "name": "stdout",
     "output_type": "stream",
     "text": [
      "Feature(ring)\n",
      "Feature(ring)\n",
      "Feature(ring_planar_projected)\n",
      "Feature(ring_planar_projected)\n",
      "Feature(ring_planar_projected)\n",
      "Feature(ring_planar_projected)\n",
      "Feature(acceptor_projected)\n",
      "Feature(acceptor)\n"
     ]
    }
   ],
   "source": [
    "print('\\n'.join(str(f) for f in features))"
   ]
  },
  {
   "cell_type": "code",
   "execution_count": 105,
   "id": "0b9131e1-078c-443d-83f9-6dce2c42e90b",
   "metadata": {},
   "outputs": [],
   "source": [
    "keys = list(Pharmacophore.feature_definitions.keys())"
   ]
  },
  {
   "cell_type": "code",
   "execution_count": 106,
   "id": "23e8c039-6f3c-4fd3-b963-909248886d56",
   "metadata": {},
   "outputs": [
    {
     "name": "stdout",
     "output_type": "stream",
     "text": [
      "\n"
     ]
    }
   ],
   "source": [
    "print('\\n'.join(keys)) "
   ]
  },
  {
   "cell_type": "code",
   "execution_count": 151,
   "id": "c198175d-e86a-493b-901a-ded14266ecb1",
   "metadata": {},
   "outputs": [],
   "source": [
    "settings = Pharmacophore.Search.Settings()\n",
    "settings.max_hit_structures = 20\n",
    "settings.max_hits_per_structure = 1\n",
    "settings.max_hit_rmsd = 2.0\n",
    "searcher = Pharmacophore.Search(settings)"
   ]
  },
  {
   "cell_type": "code",
   "execution_count": 158,
   "id": "e86c9669-cea8-42be-87af-8047fd582c19",
   "metadata": {},
   "outputs": [],
   "source": [
    "feature_db_file = 'out.feat'\n",
    "feature_db = Pharmacophore.FeatureDatabase.from_file(feature_db_file)"
   ]
  },
  {
   "cell_type": "code",
   "execution_count": 159,
   "id": "7eaa60f5-2162-4d11-9c3d-5101ea969282",
   "metadata": {},
   "outputs": [],
   "source": [
    "hits = searcher.search(catl_s3_query, database=feature_db)\n",
    "h = hits[0]"
   ]
  },
  {
   "cell_type": "code",
   "execution_count": 160,
   "id": "167b5d75-a4c8-45b6-aa22-8d4923e2c851",
   "metadata": {},
   "outputs": [
    {
     "data": {
      "text/plain": [
       "<ccdc.molecule.Molecule at 0x7fc9077346d0>"
      ]
     },
     "execution_count": 160,
     "metadata": {},
     "output_type": "execute_result"
    }
   ],
   "source": [
    "h.molecule"
   ]
  },
  {
   "cell_type": "code",
   "execution_count": 161,
   "id": "766018c8-1088-4818-a000-144ef1d995ee",
   "metadata": {},
   "outputs": [],
   "source": [
    "points = h.points"
   ]
  },
  {
   "cell_type": "code",
   "execution_count": 162,
   "id": "ce216919-9ac1-4576-afc4-48d62c947f32",
   "metadata": {},
   "outputs": [],
   "source": [
    "donor_projected_points = h.feature_points(catl_s3_query.features[1])"
   ]
  },
  {
   "cell_type": "code",
   "execution_count": 163,
   "id": "961e41bb-db54-4e2c-b70b-6eb8f9d77356",
   "metadata": {},
   "outputs": [
    {
     "name": "stdout",
     "output_type": "stream",
     "text": [
      "(1, 0) (0, 0) 2.114\n",
      "(2, 0) (0, 0) 0.000\n",
      "(2, 1) (0, 0) 2.800\n",
      "(2, 0) (1, 0) 2.114\n",
      "(2, 1) (1, 0) 3.513\n",
      "(3, 0) (0, 0) 0.000\n",
      "(3, 1) (0, 0) 2.800\n",
      "(3, 0) (1, 0) 2.114\n",
      "(3, 1) (1, 0) 3.504\n",
      "(3, 0) (2, 0) 0.000\n",
      "(3, 0) (2, 1) 2.800\n",
      "(3, 1) (2, 0) 2.800\n",
      "(3, 1) (2, 1) 5.600\n",
      "(4, 0) (0, 0) 2.114\n",
      "(4, 1) (0, 0) 3.512\n",
      "(4, 0) (1, 0) 0.000\n",
      "(4, 1) (1, 0) 2.800\n",
      "(4, 0) (2, 0) 2.114\n",
      "(4, 0) (2, 1) 3.513\n",
      "(4, 1) (2, 0) 3.512\n",
      "(4, 1) (2, 1) 2.127\n",
      "(4, 0) (3, 0) 2.114\n",
      "(4, 0) (3, 1) 3.504\n",
      "(4, 1) (3, 0) 3.512\n",
      "(4, 1) (3, 1) 5.985\n",
      "(5, 0) (0, 0) 2.114\n",
      "(5, 1) (0, 0) 3.505\n",
      "(5, 0) (1, 0) 0.000\n",
      "(5, 1) (1, 0) 2.800\n",
      "(5, 0) (2, 0) 2.114\n",
      "(5, 0) (2, 1) 3.513\n",
      "(5, 1) (2, 0) 3.505\n",
      "(5, 1) (2, 1) 5.986\n",
      "(5, 0) (3, 0) 2.114\n",
      "(5, 0) (3, 1) 3.504\n",
      "(5, 1) (3, 0) 3.505\n",
      "(5, 1) (3, 1) 2.100\n",
      "(5, 0) (4, 0) 0.000\n",
      "(5, 0) (4, 1) 2.800\n",
      "(5, 1) (4, 0) 2.800\n",
      "(5, 1) (4, 1) 5.600\n",
      "(6, 0) (0, 0) 2.525\n",
      "(6, 1) (0, 0) 4.656\n",
      "(6, 0) (1, 0) 1.423\n",
      "(6, 1) (1, 0) 4.223\n",
      "(6, 0) (2, 0) 2.525\n",
      "(6, 0) (2, 1) 3.774\n",
      "(6, 1) (2, 0) 4.656\n",
      "(6, 1) (2, 1) 5.441\n",
      "(6, 0) (3, 0) 2.525\n",
      "(6, 0) (3, 1) 3.766\n",
      "(6, 1) (3, 0) 4.656\n",
      "(6, 1) (3, 1) 5.425\n",
      "(6, 0) (4, 0) 1.423\n",
      "(6, 0) (4, 1) 3.143\n",
      "(6, 1) (4, 0) 4.223\n",
      "(6, 1) (4, 1) 5.076\n",
      "(6, 0) (5, 0) 1.423\n",
      "(6, 0) (5, 1) 3.139\n",
      "(6, 1) (5, 0) 4.223\n",
      "(6, 1) (5, 1) 5.057\n",
      "(7, 0) (0, 0) 2.525\n",
      "(7, 0) (1, 0) 1.423\n",
      "(7, 0) (2, 0) 2.525\n",
      "(7, 0) (2, 1) 3.774\n",
      "(7, 0) (3, 0) 2.525\n",
      "(7, 0) (3, 1) 3.766\n",
      "(7, 0) (4, 0) 1.423\n",
      "(7, 0) (4, 1) 3.143\n",
      "(7, 0) (5, 0) 1.423\n",
      "(7, 0) (5, 1) 3.139\n",
      "(7, 0) (6, 0) 0.000\n",
      "(7, 0) (6, 1) 2.800\n"
     ]
    }
   ],
   "source": [
    "for dc, val in zip(catl_s3_query.distance_constraints, h.constraint_values()): \n",
    "    print('(%d, %d) (%d, %d) %.3f' % (dc.feature_point1[0], dc.feature_point1[1], dc.feature_point2[0], dc.feature_point2[1], val))"
   ]
  }
 ],
 "metadata": {
  "kernelspec": {
   "display_name": "Python 3 (ipykernel)",
   "language": "python",
   "name": "python3"
  },
  "language_info": {
   "codemirror_mode": {
    "name": "ipython",
    "version": 3
   },
   "file_extension": ".py",
   "mimetype": "text/x-python",
   "name": "python",
   "nbconvert_exporter": "python",
   "pygments_lexer": "ipython3",
   "version": "3.7.10"
  }
 },
 "nbformat": 4,
 "nbformat_minor": 5
}
