{
 "cells": [
  {
   "cell_type": "code",
   "execution_count": 1,
   "id": "7ae6a87c-1b3d-4fc9-949c-af9d84505cc4",
   "metadata": {},
   "outputs": [],
   "source": [
    "import pickle\n",
    "import os\n",
    "import pandas as pd\n",
    "import seaborn as sns"
   ]
  },
  {
   "cell_type": "code",
   "execution_count": 2,
   "id": "51df3496-839a-4804-b453-dfa39438ab52",
   "metadata": {},
   "outputs": [],
   "source": [
    "results = []\n",
    "for dock_id in os.listdir('gold_docking_postprocessing') :\n",
    "    result_path = os.path.join('gold_docking_postprocessing', dock_id, 'results.p')\n",
    "    if os.path.exists(result_path) :\n",
    "        with open(result_path, 'rb') as f :\n",
    "            result_d = pickle.load(f)\n",
    "            results.append(result_d)"
   ]
  },
  {
   "cell_type": "code",
   "execution_count": 3,
   "id": "4144f12d-bcf5-4b18-90a9-847b341408fb",
   "metadata": {},
   "outputs": [
    {
     "data": {
      "text/plain": [
       "150"
      ]
     },
     "execution_count": 3,
     "metadata": {},
     "output_type": "execute_result"
    }
   ],
   "source": [
    "len(results)"
   ]
  },
  {
   "cell_type": "code",
   "execution_count": 4,
   "id": "77d21389-81d8-4a21-a723-66f60a8de453",
   "metadata": {},
   "outputs": [],
   "source": [
    "rankers = ['score', 'energy', 'model_scaffold_split', 'model_random_split']\n",
    "df = pd.DataFrame()\n",
    "for result in results :\n",
    "    for ranker in rankers :\n",
    "        result['ranking'][ranker]['ranker'] = ranker\n",
    "        df = df.append(result['ranking'][ranker], ignore_index=True)"
   ]
  },
  {
   "cell_type": "code",
   "execution_count": 5,
   "id": "7de390e1-d7ab-4b00-ab97-0338efe703d1",
   "metadata": {},
   "outputs": [
    {
     "data": {
      "text/html": [
       "<div>\n",
       "<style scoped>\n",
       "    .dataframe tbody tr th:only-of-type {\n",
       "        vertical-align: middle;\n",
       "    }\n",
       "\n",
       "    .dataframe tbody tr th {\n",
       "        vertical-align: top;\n",
       "    }\n",
       "\n",
       "    .dataframe thead th {\n",
       "        text-align: right;\n",
       "    }\n",
       "</style>\n",
       "<table border=\"1\" class=\"dataframe\">\n",
       "  <thead>\n",
       "    <tr style=\"text-align: right;\">\n",
       "      <th></th>\n",
       "      <th>best_pose</th>\n",
       "      <th>docking_power</th>\n",
       "      <th>min_rmsd</th>\n",
       "      <th>min_rmsd_top_pose</th>\n",
       "      <th>ranker</th>\n",
       "      <th>top_score</th>\n",
       "      <th>top_score_pose</th>\n",
       "    </tr>\n",
       "  </thead>\n",
       "  <tbody>\n",
       "    <tr>\n",
       "      <th>0</th>\n",
       "      <td>None</td>\n",
       "      <td>1.0</td>\n",
       "      <td>0.380303</td>\n",
       "      <td>0.435300</td>\n",
       "      <td>score</td>\n",
       "      <td>84.8007</td>\n",
       "      <td>None</td>\n",
       "    </tr>\n",
       "    <tr>\n",
       "      <th>1</th>\n",
       "      <td>None</td>\n",
       "      <td>1.0</td>\n",
       "      <td>0.380303</td>\n",
       "      <td>0.435300</td>\n",
       "      <td>energy</td>\n",
       "      <td>84.8007</td>\n",
       "      <td>None</td>\n",
       "    </tr>\n",
       "    <tr>\n",
       "      <th>2</th>\n",
       "      <td>None</td>\n",
       "      <td>1.0</td>\n",
       "      <td>0.380303</td>\n",
       "      <td>0.435300</td>\n",
       "      <td>model_scaffold_split</td>\n",
       "      <td>84.8007</td>\n",
       "      <td>None</td>\n",
       "    </tr>\n",
       "    <tr>\n",
       "      <th>3</th>\n",
       "      <td>None</td>\n",
       "      <td>1.0</td>\n",
       "      <td>0.380303</td>\n",
       "      <td>0.491323</td>\n",
       "      <td>model_random_split</td>\n",
       "      <td>82.7452</td>\n",
       "      <td>None</td>\n",
       "    </tr>\n",
       "    <tr>\n",
       "      <th>4</th>\n",
       "      <td>&lt;rdkit.Chem.rdchem.Mol object at 0x7fc02db74ef0&gt;</td>\n",
       "      <td>0.0</td>\n",
       "      <td>6.788492</td>\n",
       "      <td>9.975353</td>\n",
       "      <td>score</td>\n",
       "      <td>78.9477</td>\n",
       "      <td>&lt;rdkit.Chem.rdchem.Mol object at 0x7fc06c4197b0&gt;</td>\n",
       "    </tr>\n",
       "  </tbody>\n",
       "</table>\n",
       "</div>"
      ],
      "text/plain": [
       "                                          best_pose  docking_power  min_rmsd  \\\n",
       "0                                              None            1.0  0.380303   \n",
       "1                                              None            1.0  0.380303   \n",
       "2                                              None            1.0  0.380303   \n",
       "3                                              None            1.0  0.380303   \n",
       "4  <rdkit.Chem.rdchem.Mol object at 0x7fc02db74ef0>            0.0  6.788492   \n",
       "\n",
       "   min_rmsd_top_pose                ranker  top_score  \\\n",
       "0           0.435300                 score    84.8007   \n",
       "1           0.435300                energy    84.8007   \n",
       "2           0.435300  model_scaffold_split    84.8007   \n",
       "3           0.491323    model_random_split    82.7452   \n",
       "4           9.975353                 score    78.9477   \n",
       "\n",
       "                                     top_score_pose  \n",
       "0                                              None  \n",
       "1                                              None  \n",
       "2                                              None  \n",
       "3                                              None  \n",
       "4  <rdkit.Chem.rdchem.Mol object at 0x7fc06c4197b0>  "
      ]
     },
     "execution_count": 5,
     "metadata": {},
     "output_type": "execute_result"
    }
   ],
   "source": [
    "df.head()"
   ]
  },
  {
   "cell_type": "code",
   "execution_count": 6,
   "id": "ab1f5309-e9fe-44e3-aa6d-b10c384daad8",
   "metadata": {},
   "outputs": [
    {
     "data": {
      "text/plain": [
       "<AxesSubplot:xlabel='ranker', ylabel='top_score'>"
      ]
     },
     "execution_count": 6,
     "metadata": {},
     "output_type": "execute_result"
    },
    {
     "data": {
      "image/png": "[encoded data removed]",
      "text/plain": [
       "<Figure size 432x288 with 1 Axes>"
      ]
     },
     "metadata": {
      "needs_background": "light"
     },
     "output_type": "display_data"
    }
   ],
   "source": [
    "sns.boxplot(data=df, x='ranker', y='top_score')"
   ]
  },
  {
   "cell_type": "code",
   "execution_count": 7,
   "id": "7e15e553-29fa-493c-a2cf-2e69fb4537c5",
   "metadata": {},
   "outputs": [
    {
     "data": {
      "text/plain": [
       "<AxesSubplot:xlabel='ranker', ylabel='min_rmsd'>"
      ]
     },
     "execution_count": 7,
     "metadata": {},
     "output_type": "execute_result"
    },
    {
     "data": {
      "image/png": "[encoded data removed]",
      "text/plain": [
       "<Figure size 432x288 with 1 Axes>"
      ]
     },
     "metadata": {
      "needs_background": "light"
     },
     "output_type": "display_data"
    }
   ],
   "source": [
    "sns.boxplot(data=df, x='ranker', y='min_rmsd')"
   ]
  },
  {
   "cell_type": "code",
   "execution_count": 8,
   "id": "fc78ef22-8cd6-4f67-b895-256c3aff86f2",
   "metadata": {},
   "outputs": [
    {
     "data": {
      "text/plain": [
       "<AxesSubplot:xlabel='ranker', ylabel='docking_power'>"
      ]
     },
     "execution_count": 8,
     "metadata": {},
     "output_type": "execute_result"
    },
    {
     "data": {
      "image/png": "[encoded data removed]",
      "text/plain": [
       "<Figure size 432x288 with 1 Axes>"
      ]
     },
     "metadata": {
      "needs_background": "light"
     },
     "output_type": "display_data"
    }
   ],
   "source": [
    "sns.barplot(data=df, x='ranker', y='docking_power')"
   ]
  }
 ],
 "metadata": {
  "kernelspec": {
   "display_name": "Python 3 (ipykernel)",
   "language": "python",
   "name": "python3"
  },
  "language_info": {
   "codemirror_mode": {
    "name": "ipython",
    "version": 3
   },
   "file_extension": ".py",
   "mimetype": "text/x-python",
   "name": "python",
   "nbconvert_exporter": "python",
   "pygments_lexer": "ipython3",
   "version": "3.7.10"
  },
  "widgets": {
   "application/vnd.jupyter.widget-state+json": {
    "state": {},
    "version_major": 2,
    "version_minor": 0
   }
  }
 },
 "nbformat": 4,
 "nbformat_minor": 5
}
