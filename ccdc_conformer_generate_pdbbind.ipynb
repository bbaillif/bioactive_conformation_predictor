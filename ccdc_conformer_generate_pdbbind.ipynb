{
 "cells": [
  {
   "cell_type": "code",
   "execution_count": 10,
   "id": "8af7304a-781d-47f6-b4d9-8d12f216abb7",
   "metadata": {},
   "outputs": [],
   "source": [
    "import os\n",
    "from rdkit import Chem\n",
    "from ccdc import io\n",
    "from tqdm import tqdm\n",
    "from ccdc import conformer"
   ]
  },
  {
   "cell_type": "code",
   "execution_count": 31,
   "id": "50dbff2d-f5cb-4b04-81e9-3b9cb037a26b",
   "metadata": {},
   "outputs": [],
   "source": [
    "import pandas as pd\n",
    "pdbbind_dir = '../v2019-other-PL/'\n",
    "widths = [6,6,7,6,17,9,200]\n",
    "cols = 'PDB code, resolution, release year, -logKd/Ki, Kd/Ki, reference, ligand name'.replace(', ', ',').split(',')\n",
    "pl_data = pd.read_fwf(f'{pdbbind_dir}index/INDEX_general_PL_data.2019', widths=widths, skiprows=6, header=None)\n",
    "pl_data.columns=cols"
   ]
  },
  {
   "cell_type": "code",
   "execution_count": 35,
   "id": "342967ca-51cf-4d88-a4e6-2b131fb8664c",
   "metadata": {},
   "outputs": [
    {
     "data": {
      "text/html": [
       "<div>\n",
       "<style scoped>\n",
       "    .dataframe tbody tr th:only-of-type {\n",
       "        vertical-align: middle;\n",
       "    }\n",
       "\n",
       "    .dataframe tbody tr th {\n",
       "        vertical-align: top;\n",
       "    }\n",
       "\n",
       "    .dataframe thead th {\n",
       "        text-align: right;\n",
       "    }\n",
       "</style>\n",
       "<table border=\"1\" class=\"dataframe\">\n",
       "  <thead>\n",
       "    <tr style=\"text-align: right;\">\n",
       "      <th></th>\n",
       "      <th>PDB code</th>\n",
       "      <th>resolution</th>\n",
       "      <th>release year</th>\n",
       "      <th>-logKd/Ki</th>\n",
       "      <th>Kd/Ki</th>\n",
       "      <th>reference</th>\n",
       "      <th>ligand name</th>\n",
       "    </tr>\n",
       "  </thead>\n",
       "  <tbody>\n",
       "    <tr>\n",
       "      <th>508</th>\n",
       "      <td>6evm</td>\n",
       "      <td>2.00</td>\n",
       "      <td>2018</td>\n",
       "      <td>2.82</td>\n",
       "      <td>Kd&gt;1500uM     //</td>\n",
       "      <td>6evm.pdf</td>\n",
       "      <td>(9-mer)</td>\n",
       "    </tr>\n",
       "    <tr>\n",
       "      <th>1210</th>\n",
       "      <td>5eok</td>\n",
       "      <td>2.80</td>\n",
       "      <td>2016</td>\n",
       "      <td>3.49</td>\n",
       "      <td>Kd=320uM      //</td>\n",
       "      <td>5eod.pdf</td>\n",
       "      <td>(9-mer)</td>\n",
       "    </tr>\n",
       "    <tr>\n",
       "      <th>1246</th>\n",
       "      <td>3tf7</td>\n",
       "      <td>2.75</td>\n",
       "      <td>2011</td>\n",
       "      <td>3.52</td>\n",
       "      <td>Kd~300uM      //</td>\n",
       "      <td>3tf7.pdf</td>\n",
       "      <td>(9-mer)</td>\n",
       "    </tr>\n",
       "    <tr>\n",
       "      <th>1255</th>\n",
       "      <td>4y5i</td>\n",
       "      <td>1.40</td>\n",
       "      <td>2016</td>\n",
       "      <td>3.52</td>\n",
       "      <td>IC50=301.3uM  //</td>\n",
       "      <td>4y5i.pdf</td>\n",
       "      <td>(9-mer)</td>\n",
       "    </tr>\n",
       "    <tr>\n",
       "      <th>1276</th>\n",
       "      <td>3obq</td>\n",
       "      <td>1.40</td>\n",
       "      <td>2010</td>\n",
       "      <td>3.54</td>\n",
       "      <td>Kd=290uM      //</td>\n",
       "      <td>3obq.pdf</td>\n",
       "      <td>(9-mer)</td>\n",
       "    </tr>\n",
       "    <tr>\n",
       "      <th>...</th>\n",
       "      <td>...</td>\n",
       "      <td>...</td>\n",
       "      <td>...</td>\n",
       "      <td>...</td>\n",
       "      <td>...</td>\n",
       "      <td>...</td>\n",
       "      <td>...</td>\n",
       "    </tr>\n",
       "    <tr>\n",
       "      <th>15360</th>\n",
       "      <td>1fzk</td>\n",
       "      <td>1.70</td>\n",
       "      <td>2001</td>\n",
       "      <td>8.40</td>\n",
       "      <td>Kd=4nM        //</td>\n",
       "      <td>1fzk.pdf</td>\n",
       "      <td>(9-mer)</td>\n",
       "    </tr>\n",
       "    <tr>\n",
       "      <th>15770</th>\n",
       "      <td>3rwg</td>\n",
       "      <td>2.10</td>\n",
       "      <td>2012</td>\n",
       "      <td>8.55</td>\n",
       "      <td>IC50=2.8nM    //</td>\n",
       "      <td>3rwc.pdf</td>\n",
       "      <td>(9-mer)</td>\n",
       "    </tr>\n",
       "    <tr>\n",
       "      <th>16793</th>\n",
       "      <td>1jp5</td>\n",
       "      <td>2.70</td>\n",
       "      <td>2001</td>\n",
       "      <td>9.22</td>\n",
       "      <td>Ki=0.6nM      //</td>\n",
       "      <td>1jp5.pdf</td>\n",
       "      <td>(9-mer)</td>\n",
       "    </tr>\n",
       "    <tr>\n",
       "      <th>17201</th>\n",
       "      <td>5u98</td>\n",
       "      <td>2.00</td>\n",
       "      <td>2017</td>\n",
       "      <td>9.70</td>\n",
       "      <td>Kd=0.2nM      //</td>\n",
       "      <td>5u98.pdf</td>\n",
       "      <td>(9-mer)</td>\n",
       "    </tr>\n",
       "    <tr>\n",
       "      <th>17251</th>\n",
       "      <td>3ah8</td>\n",
       "      <td>2.90</td>\n",
       "      <td>2010</td>\n",
       "      <td>9.82</td>\n",
       "      <td>IC50=0.15nM   //</td>\n",
       "      <td>3ah8.pdf</td>\n",
       "      <td>(9-mer)</td>\n",
       "    </tr>\n",
       "  </tbody>\n",
       "</table>\n",
       "<p>196 rows × 7 columns</p>\n",
       "</div>"
      ],
      "text/plain": [
       "      PDB code resolution release year  -logKd/Ki             Kd/Ki reference  \\\n",
       "508       6evm       2.00         2018       2.82  Kd>1500uM     //  6evm.pdf   \n",
       "1210      5eok       2.80         2016       3.49  Kd=320uM      //  5eod.pdf   \n",
       "1246      3tf7       2.75         2011       3.52  Kd~300uM      //  3tf7.pdf   \n",
       "1255      4y5i       1.40         2016       3.52  IC50=301.3uM  //  4y5i.pdf   \n",
       "1276      3obq       1.40         2010       3.54  Kd=290uM      //  3obq.pdf   \n",
       "...        ...        ...          ...        ...               ...       ...   \n",
       "15360     1fzk       1.70         2001       8.40  Kd=4nM        //  1fzk.pdf   \n",
       "15770     3rwg       2.10         2012       8.55  IC50=2.8nM    //  3rwc.pdf   \n",
       "16793     1jp5       2.70         2001       9.22  Ki=0.6nM      //  1jp5.pdf   \n",
       "17201     5u98       2.00         2017       9.70  Kd=0.2nM      //  5u98.pdf   \n",
       "17251     3ah8       2.90         2010       9.82  IC50=0.15nM   //  3ah8.pdf   \n",
       "\n",
       "      ligand name  \n",
       "508       (9-mer)  \n",
       "1210      (9-mer)  \n",
       "1246      (9-mer)  \n",
       "1255      (9-mer)  \n",
       "1276      (9-mer)  \n",
       "...           ...  \n",
       "15360     (9-mer)  \n",
       "15770     (9-mer)  \n",
       "16793     (9-mer)  \n",
       "17201     (9-mer)  \n",
       "17251     (9-mer)  \n",
       "\n",
       "[196 rows x 7 columns]"
      ]
     },
     "execution_count": 35,
     "metadata": {},
     "output_type": "execute_result"
    }
   ],
   "source": [
    "pl_data[pl_data['ligand name'] == '(9-mer)']"
   ]
  },
  {
   "cell_type": "code",
   "execution_count": 33,
   "id": "15205225-2e7e-4f1f-9ba6-d8eda9d68a76",
   "metadata": {},
   "outputs": [
    {
     "data": {
      "text/plain": [
       "(11-mer)    212\n",
       "(9-mer)     196\n",
       "(12-mer)    184\n",
       "(10-mer)    181\n",
       "(5-mer)     174\n",
       "           ... \n",
       "(9E1)         1\n",
       "(5RA)         1\n",
       "(3A9)         1\n",
       "(CWX)         1\n",
       "(7FA)         1\n",
       "Name: ligand name, Length: 11766, dtype: int64"
      ]
     },
     "execution_count": 33,
     "metadata": {},
     "output_type": "execute_result"
    }
   ],
   "source": [
    "pl_data['ligand name'].value_counts()"
   ]
  },
  {
   "cell_type": "code",
   "execution_count": 2,
   "id": "00d9decc-5848-41c6-a1eb-a0c4830c0b5f",
   "metadata": {},
   "outputs": [],
   "source": [
    "pdbbind_dir = '/home/baillifb/v2019-other-PL/'"
   ]
  },
  {
   "cell_type": "code",
   "execution_count": 3,
   "id": "8a04c593-39fa-4118-966b-c8ab7863bbcf",
   "metadata": {},
   "outputs": [],
   "source": [
    "pdb_ids = sorted([dir for dir in os.listdir(pdbbind_dir) if len(dir) == 4])"
   ]
  },
  {
   "cell_type": "code",
   "execution_count": 13,
   "id": "e9f926b8-d247-46a6-a688-17546eeec351",
   "metadata": {},
   "outputs": [
    {
     "name": "stdout",
     "output_type": "stream",
     "text": [
      "INFO: /home/baillifb/CCDC/CSD_2021/bin/mogul\n"
     ]
    }
   ],
   "source": [
    "conformer_generator = conformer.ConformerGenerator()\n",
    "conformer_generator.settings.max_conformers = 50"
   ]
  },
  {
   "cell_type": "code",
   "execution_count": 17,
   "id": "e1aa38b2-cbbe-45a5-9d04-df5948091242",
   "metadata": {},
   "outputs": [
    {
     "name": "stderr",
     "output_type": "stream",
     "text": [
      "  0%|                                      | 2/17652 [00:06<16:12:04,  3.30s/it]"
     ]
    },
    {
     "name": "stdout",
     "output_type": "stream",
     "text": [
      "50\n",
      "50\n"
     ]
    },
    {
     "name": "stderr",
     "output_type": "stream",
     "text": [
      "  0%|                                      | 3/17652 [00:07<11:13:31,  2.29s/it]"
     ]
    },
    {
     "name": "stdout",
     "output_type": "stream",
     "text": [
      "50\n"
     ]
    },
    {
     "name": "stderr",
     "output_type": "stream",
     "text": [
      "  0%|                                       | 4/17652 [00:08<9:07:56,  1.86s/it]"
     ]
    },
    {
     "name": "stdout",
     "output_type": "stream",
     "text": [
      "50\n"
     ]
    },
    {
     "name": "stderr",
     "output_type": "stream",
     "text": [
      "  0%|                                       | 5/17652 [00:08<6:18:32,  1.29s/it]"
     ]
    },
    {
     "name": "stdout",
     "output_type": "stream",
     "text": [
      "8\n",
      "1\n"
     ]
    },
    {
     "name": "stderr",
     "output_type": "stream",
     "text": [
      "  0%|                                       | 9/17652 [00:09<2:21:50,  2.07it/s]"
     ]
    },
    {
     "name": "stdout",
     "output_type": "stream",
     "text": [
      "29\n",
      "1\n",
      "1\n"
     ]
    },
    {
     "name": "stderr",
     "output_type": "stream",
     "text": [
      "  0%|                                      | 10/17652 [00:13<5:43:14,  1.17s/it]"
     ]
    },
    {
     "name": "stdout",
     "output_type": "stream",
     "text": [
      "50\n"
     ]
    },
    {
     "name": "stderr",
     "output_type": "stream",
     "text": [
      "  0%|                                     | 11/17652 [00:18<11:03:33,  2.26s/it]"
     ]
    },
    {
     "name": "stdout",
     "output_type": "stream",
     "text": [
      "50\n"
     ]
    },
    {
     "name": "stderr",
     "output_type": "stream",
     "text": [
      "  0%|                                     | 12/17652 [00:23<14:08:12,  2.89s/it]"
     ]
    },
    {
     "name": "stdout",
     "output_type": "stream",
     "text": [
      "50\n"
     ]
    },
    {
     "name": "stderr",
     "output_type": "stream",
     "text": [
      "  0%|                                     | 13/17652 [00:26<13:57:30,  2.85s/it]"
     ]
    },
    {
     "name": "stdout",
     "output_type": "stream",
     "text": [
      "50\n"
     ]
    },
    {
     "name": "stderr",
     "output_type": "stream",
     "text": [
      "  0%|                                     | 14/17652 [00:26<10:32:17,  2.15s/it]"
     ]
    },
    {
     "name": "stdout",
     "output_type": "stream",
     "text": [
      "50\n"
     ]
    },
    {
     "name": "stderr",
     "output_type": "stream",
     "text": [
      "  0%|                                     | 15/17652 [00:29<11:59:33,  2.45s/it]"
     ]
    },
    {
     "name": "stdout",
     "output_type": "stream",
     "text": [
      "50\n"
     ]
    },
    {
     "name": "stderr",
     "output_type": "stream",
     "text": [
      "  0%|                                     | 16/17652 [00:32<13:18:57,  2.72s/it]"
     ]
    },
    {
     "name": "stdout",
     "output_type": "stream",
     "text": [
      "50\n"
     ]
    },
    {
     "name": "stderr",
     "output_type": "stream",
     "text": [
      "  0%|                                      | 18/17652 [00:35<9:11:31,  1.88s/it]"
     ]
    },
    {
     "name": "stdout",
     "output_type": "stream",
     "text": [
      "50\n",
      "3\n"
     ]
    },
    {
     "name": "stderr",
     "output_type": "stream",
     "text": [
      "  0%|                                     | 19/17652 [00:38<11:16:00,  2.30s/it]"
     ]
    },
    {
     "name": "stdout",
     "output_type": "stream",
     "text": [
      "50\n"
     ]
    },
    {
     "name": "stderr",
     "output_type": "stream",
     "text": [
      "  0%|                                     | 19/17652 [00:40<10:26:53,  2.13s/it]\n"
     ]
    },
    {
     "ename": "KeyboardInterrupt",
     "evalue": "",
     "output_type": "error",
     "traceback": [
      "\u001b[0;31m---------------------------------------------------------------------------\u001b[0m",
      "\u001b[0;31mKeyboardInterrupt\u001b[0m                         Traceback (most recent call last)",
      "\u001b[0;32m/tmp/ipykernel_9871/3142664240.py\u001b[0m in \u001b[0;36m<module>\u001b[0;34m\u001b[0m\n\u001b[1;32m      4\u001b[0m     \u001b[0mmol_reader\u001b[0m \u001b[0;34m=\u001b[0m \u001b[0mio\u001b[0m\u001b[0;34m.\u001b[0m\u001b[0mMoleculeReader\u001b[0m\u001b[0;34m(\u001b[0m\u001b[0mfilepath\u001b[0m\u001b[0;34m)\u001b[0m\u001b[0;34m\u001b[0m\u001b[0;34m\u001b[0m\u001b[0m\n\u001b[1;32m      5\u001b[0m     \u001b[0mmol\u001b[0m \u001b[0;34m=\u001b[0m \u001b[0mmol_reader\u001b[0m\u001b[0;34m[\u001b[0m\u001b[0;36m0\u001b[0m\u001b[0;34m]\u001b[0m\u001b[0;34m\u001b[0m\u001b[0;34m\u001b[0m\u001b[0m\n\u001b[0;32m----> 6\u001b[0;31m     \u001b[0mconformers\u001b[0m \u001b[0;34m=\u001b[0m \u001b[0mconformer_generator\u001b[0m\u001b[0;34m.\u001b[0m\u001b[0mgenerate\u001b[0m\u001b[0;34m(\u001b[0m\u001b[0mmol\u001b[0m\u001b[0;34m)\u001b[0m\u001b[0;34m\u001b[0m\u001b[0;34m\u001b[0m\u001b[0m\n\u001b[0m\u001b[1;32m      7\u001b[0m     \u001b[0mprint\u001b[0m\u001b[0;34m(\u001b[0m\u001b[0mlen\u001b[0m\u001b[0;34m(\u001b[0m\u001b[0mconformers\u001b[0m\u001b[0;34m)\u001b[0m\u001b[0;34m)\u001b[0m\u001b[0;34m\u001b[0m\u001b[0;34m\u001b[0m\u001b[0m\n",
      "\u001b[0;32m~/anaconda3/envs/GeoMol/lib/python3.7/site-packages/ccdc/conformer.py\u001b[0m in \u001b[0;36mgenerate\u001b[0;34m(self, mols)\u001b[0m\n\u001b[1;32m    559\u001b[0m                 \u001b[0mUtilitiesLib\u001b[0m\u001b[0;34m.\u001b[0m\u001b[0mDatabaseEntryIdentifier\u001b[0m\u001b[0;34m(\u001b[0m\u001b[0mmols\u001b[0m\u001b[0;34m.\u001b[0m\u001b[0midentifier\u001b[0m\u001b[0;34m)\u001b[0m\u001b[0;34m\u001b[0m\u001b[0;34m\u001b[0m\u001b[0m\n\u001b[1;32m    560\u001b[0m             )\n\u001b[0;32m--> 561\u001b[0;31m             \u001b[0mod\u001b[0m \u001b[0;34m=\u001b[0m \u001b[0mself\u001b[0m\u001b[0;34m.\u001b[0m\u001b[0m_conformer_generator\u001b[0m\u001b[0;34m.\u001b[0m\u001b[0mgenerate_conformers\u001b[0m\u001b[0;34m(\u001b[0m\u001b[0;34m[\u001b[0m\u001b[0mmols\u001b[0m\u001b[0;34m.\u001b[0m\u001b[0m_molecule\u001b[0m\u001b[0;34m]\u001b[0m\u001b[0;34m)\u001b[0m\u001b[0;34m\u001b[0m\u001b[0;34m\u001b[0m\u001b[0m\n\u001b[0m\u001b[1;32m    562\u001b[0m             \u001b[0;32mif\u001b[0m \u001b[0mod\u001b[0m\u001b[0;34m:\u001b[0m\u001b[0;34m\u001b[0m\u001b[0;34m\u001b[0m\u001b[0m\n\u001b[1;32m    563\u001b[0m                 \u001b[0;32mreturn\u001b[0m \u001b[0mConformerHitList\u001b[0m\u001b[0;34m(\u001b[0m\u001b[0mmols\u001b[0m\u001b[0;34m.\u001b[0m\u001b[0midentifier\u001b[0m\u001b[0;34m,\u001b[0m \u001b[0mod\u001b[0m\u001b[0;34m[\u001b[0m\u001b[0;36m0\u001b[0m\u001b[0;34m]\u001b[0m\u001b[0;34m)\u001b[0m\u001b[0;34m\u001b[0m\u001b[0;34m\u001b[0m\u001b[0m\n",
      "\u001b[0;32m~/anaconda3/envs/GeoMol/lib/python3.7/site-packages/ccdc/_lib/ConformerGeneratorLib.py\u001b[0m in \u001b[0;36mgenerate_conformers\u001b[0;34m(self, molecules)\u001b[0m\n\u001b[1;32m    649\u001b[0m \u001b[0;34m\u001b[0m\u001b[0m\n\u001b[1;32m    650\u001b[0m     \u001b[0;32mdef\u001b[0m \u001b[0mgenerate_conformers\u001b[0m\u001b[0;34m(\u001b[0m\u001b[0mself\u001b[0m\u001b[0;34m,\u001b[0m \u001b[0mmolecules\u001b[0m\u001b[0;34m)\u001b[0m\u001b[0;34m:\u001b[0m\u001b[0;34m\u001b[0m\u001b[0;34m\u001b[0m\u001b[0m\n\u001b[0;32m--> 651\u001b[0;31m         \u001b[0;32mreturn\u001b[0m \u001b[0m_ConformerGeneratorLib\u001b[0m\u001b[0;34m.\u001b[0m\u001b[0mGenerateConformersWorkFlow_generate_conformers\u001b[0m\u001b[0;34m(\u001b[0m\u001b[0mself\u001b[0m\u001b[0;34m,\u001b[0m \u001b[0mmolecules\u001b[0m\u001b[0;34m)\u001b[0m\u001b[0;34m\u001b[0m\u001b[0;34m\u001b[0m\u001b[0m\n\u001b[0m\u001b[1;32m    652\u001b[0m \u001b[0;34m\u001b[0m\u001b[0m\n\u001b[1;32m    653\u001b[0m     \u001b[0;32mdef\u001b[0m \u001b[0mfailed_molecules_minimisation\u001b[0m\u001b[0;34m(\u001b[0m\u001b[0mself\u001b[0m\u001b[0;34m)\u001b[0m\u001b[0;34m:\u001b[0m\u001b[0;34m\u001b[0m\u001b[0;34m\u001b[0m\u001b[0m\n",
      "\u001b[0;31mKeyboardInterrupt\u001b[0m: "
     ]
    }
   ],
   "source": [
    "mols = []\n",
    "for pdb_id in tqdm(pdb_ids) :\n",
    "    filepath = f'{pdbbind_dir}{pdb_id}/{pdb_id}_ligand.mol2'\n",
    "    mol_reader = io.MoleculeReader(filepath)\n",
    "    mol = mol_reader[0]\n",
    "    conformers = conformer_generator.generate(mol)\n",
    "    print(len(conformers))"
   ]
  },
  {
   "cell_type": "code",
   "execution_count": null,
   "id": "e03d25b6-e31e-4ae8-b9e5-62831b4f0c81",
   "metadata": {
    "scrolled": true,
    "tags": []
   },
   "outputs": [],
   "source": [
    "mols = []\n",
    "for pdb_id in pdb_ids :\n",
    "    mol = None\n",
    "    try :\n",
    "        mol = Chem.rdmolfiles.MolFromMol2File(f'{pdbbind_dir}{pdb_id}/{pdb_id}_ligand.mol2', removeHs=False)\n",
    "        if mol is not None :\n",
    "            rdmol = Chem.MolFromSmiles(Chem.MolToSmiles(mol))\n",
    "            if rdmol is not None :\n",
    "                #mol = PropertyMol(mol)\n",
    "                mol.GetConformer().SetProp('PDB_ID', pdb_id)\n",
    "                mols.append(mol)\n",
    "    except :\n",
    "        print('Impossible to read mol2 file for ' + pdb_id)"
   ]
  }
 ],
 "metadata": {
  "kernelspec": {
   "display_name": "Python 3 (ipykernel)",
   "language": "python",
   "name": "python3"
  },
  "language_info": {
   "codemirror_mode": {
    "name": "ipython",
    "version": 3
   },
   "file_extension": ".py",
   "mimetype": "text/x-python",
   "name": "python",
   "nbconvert_exporter": "python",
   "pygments_lexer": "ipython3",
   "version": "3.7.10"
  }
 },
 "nbformat": 4,
 "nbformat_minor": 5
}
