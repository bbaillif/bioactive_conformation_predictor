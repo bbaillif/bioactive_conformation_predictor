{
 "cells": [
  {
   "cell_type": "code",
   "execution_count": 10,
   "id": "e49a86ab-119e-4298-aef8-ac87d9238562",
   "metadata": {},
   "outputs": [],
   "source": [
    "from rdkit import Chem\n",
    "from rdkit import DataStructs\n",
    "from typing import List, Tuple\n",
    "from sklearn.model_selection import train_test_split\n",
    "\n",
    "import pickle\n",
    "import os\n",
    "import matplotlib.pyplot as plt\n",
    "import seaborn as sns\n",
    "import numpy as np\n",
    "import random\n",
    "import pandas as pd"
   ]
  },
  {
   "cell_type": "code",
   "execution_count": 5,
   "id": "e2ce7b29-34a7-4147-941a-50cd76364197",
   "metadata": {},
   "outputs": [],
   "source": [
    "# To be able to save conformer properties\n",
    "Chem.SetDefaultPickleProperties(Chem.PropertyPickleOptions.AllProps) "
   ]
  },
  {
   "cell_type": "code",
   "execution_count": 6,
   "id": "c6b593ee-cf3f-4705-8215-62e438043ba8",
   "metadata": {},
   "outputs": [],
   "source": [
    "random.seed(42)"
   ]
  },
  {
   "cell_type": "code",
   "execution_count": 7,
   "id": "b1eaec34-63e6-4dc9-9707-7d10f9434ce4",
   "metadata": {},
   "outputs": [],
   "source": [
    "data_dir_path = 'data/'"
   ]
  },
  {
   "cell_type": "code",
   "execution_count": 8,
   "id": "4bce9ace-0c7e-4596-a6cc-4e06b41c16fc",
   "metadata": {},
   "outputs": [],
   "source": [
    "with open(os.path.join(data_dir_path, 'raw', 'ccdc_generated_conf_ensemble_library.p'), 'rb') as f :\n",
    "    all_CEL = pickle.load(f)"
   ]
  },
  {
   "cell_type": "code",
   "execution_count": 11,
   "id": "a1bc775a-8dd8-42d8-a88e-20f7b8cf19b7",
   "metadata": {},
   "outputs": [],
   "source": [
    "smiles_df = pd.read_csv(os.path.join(data_dir_path, 'smiles_df.csv'))"
   ]
  },
  {
   "cell_type": "code",
   "execution_count": 12,
   "id": "36c2ae3f-80b4-4f85-9a0b-1f50301fab96",
   "metadata": {},
   "outputs": [],
   "source": [
    "included_non_platinum_smiles = smiles_df[(~smiles_df['platinum']) & (smiles_df['included'])]['smiles'].values"
   ]
  },
  {
   "cell_type": "code",
   "execution_count": 13,
   "id": "7079f69b-a34c-4650-9da4-382721d37580",
   "metadata": {},
   "outputs": [],
   "source": [
    "all_smiles = [smiles for smiles, ce in all_CEL.get_unique_molecules() if smiles in included_non_platinum_smiles]"
   ]
  },
  {
   "cell_type": "code",
   "execution_count": 14,
   "id": "efff896a-1cc9-4646-b65f-d7082bec2657",
   "metadata": {},
   "outputs": [
    {
     "data": {
      "text/plain": [
       "11095"
      ]
     },
     "execution_count": 14,
     "metadata": {},
     "output_type": "execute_result"
    }
   ],
   "source": [
    "len(all_smiles)"
   ]
  },
  {
   "cell_type": "code",
   "execution_count": 28,
   "id": "28d69a70-0053-46e8-84a6-a455acee3275",
   "metadata": {},
   "outputs": [],
   "source": [
    "random_splits_dir_name = 'random_splits'\n",
    "random_splits_dir_path = os.path.join(data_dir_path, random_splits_dir_name)\n",
    "if not os.path.exists(random_splits_dir_path) :\n",
    "    os.mkdir(random_splits_dir_path)"
   ]
  },
  {
   "cell_type": "code",
   "execution_count": 30,
   "id": "90a08416-8a31-4347-84ab-e65200e4244e",
   "metadata": {},
   "outputs": [],
   "source": [
    "seed = 42\n",
    "for i in range(5) :\n",
    "    train_smiles, test_smiles = train_test_split(all_smiles, train_size=0.8, random_state=seed)\n",
    "    val_smiles, test_smiles = train_test_split(test_smiles, train_size=0.5, random_state=seed)\n",
    "    \n",
    "    with open(os.path.join(random_splits_dir_path, f'train_smiles_random_split_{i}.txt'), 'w') as f :\n",
    "        for smiles in train_smiles :\n",
    "            f.write(smiles)\n",
    "            f.write('\\n')\n",
    "\n",
    "    with open(os.path.join(random_splits_dir_path, f'val_smiles_random_split_{i}.txt'), 'w') as f :\n",
    "        for smiles in val_smiles :\n",
    "            f.write(smiles)\n",
    "            f.write('\\n')\n",
    "\n",
    "    with open(os.path.join(random_splits_dir_path, f'test_smiles_random_split_{i}.txt'), 'w') as f :\n",
    "        for smiles in test_smiles :\n",
    "            f.write(smiles)\n",
    "            f.write('\\n')\n",
    "    \n",
    "    seed = seed + 1"
   ]
  }
 ],
 "metadata": {
  "kernelspec": {
   "display_name": "Python 3 (ipykernel)",
   "language": "python",
   "name": "python3"
  },
  "language_info": {
   "codemirror_mode": {
    "name": "ipython",
    "version": 3
   },
   "file_extension": ".py",
   "mimetype": "text/x-python",
   "name": "python",
   "nbconvert_exporter": "python",
   "pygments_lexer": "ipython3",
   "version": "3.7.10"
  },
  "widgets": {
   "application/vnd.jupyter.widget-state+json": {
    "state": {},
    "version_major": 2,
    "version_minor": 0
   }
  }
 },
 "nbformat": 4,
 "nbformat_minor": 5
}
