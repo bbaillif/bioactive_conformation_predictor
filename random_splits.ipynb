{
 "cells": [
  {
   "cell_type": "code",
   "execution_count": 1,
   "id": "a4c5c3e9-a16e-4ab7-a346-cc7efc370c21",
   "metadata": {},
   "outputs": [],
   "source": [
    "import os\n",
    "import pandas as pd\n",
    "\n",
    "from sklearn.model_selection import train_test_split"
   ]
  },
  {
   "cell_type": "code",
   "execution_count": 2,
   "id": "b1eaec34-63e6-4dc9-9707-7d10f9434ce4",
   "metadata": {},
   "outputs": [],
   "source": [
    "data_dir_path = '/home/bb596/hdd/pdbbind_bioactive/data/'"
   ]
  },
  {
   "cell_type": "code",
   "execution_count": 3,
   "id": "a1bc775a-8dd8-42d8-a88e-20f7b8cf19b7",
   "metadata": {},
   "outputs": [],
   "source": [
    "smiles_df = pd.read_csv(os.path.join(data_dir_path, 'smiles_df.csv'))"
   ]
  },
  {
   "cell_type": "code",
   "execution_count": 4,
   "id": "36c2ae3f-80b4-4f85-9a0b-1f50301fab96",
   "metadata": {},
   "outputs": [],
   "source": [
    "included_non_platinum_smiles = smiles_df[smiles_df['included']]['smiles'].unique()\n",
    "all_smiles = included_non_platinum_smiles"
   ]
  },
  {
   "cell_type": "code",
   "execution_count": 5,
   "id": "efff896a-1cc9-4646-b65f-d7082bec2657",
   "metadata": {},
   "outputs": [
    {
     "data": {
      "text/plain": [
       "12592"
      ]
     },
     "execution_count": 5,
     "metadata": {},
     "output_type": "execute_result"
    }
   ],
   "source": [
    "len(all_smiles)"
   ]
  },
  {
   "cell_type": "code",
   "execution_count": 6,
   "id": "28d69a70-0053-46e8-84a6-a455acee3275",
   "metadata": {},
   "outputs": [],
   "source": [
    "random_splits_dir_name = 'ligand_random_splits'\n",
    "random_splits_dir_path = os.path.join(data_dir_path, random_splits_dir_name)\n",
    "if not os.path.exists(random_splits_dir_path) :\n",
    "    os.mkdir(random_splits_dir_path)"
   ]
  },
  {
   "cell_type": "code",
   "execution_count": 7,
   "id": "90a08416-8a31-4347-84ab-e65200e4244e",
   "metadata": {},
   "outputs": [],
   "source": [
    "seed = 42\n",
    "for i in range(5) :\n",
    "    train_smiles, test_smiles = train_test_split(all_smiles, train_size=0.8, random_state=seed)\n",
    "    val_smiles, test_smiles = train_test_split(test_smiles, train_size=0.5, random_state=seed)\n",
    "    \n",
    "    with open(os.path.join(random_splits_dir_path, f'train_smiles_random_split_{i}.txt'), 'w') as f :\n",
    "        for smiles in train_smiles :\n",
    "            f.write(smiles)\n",
    "            f.write('\\n')\n",
    "\n",
    "    with open(os.path.join(random_splits_dir_path, f'val_smiles_random_split_{i}.txt'), 'w') as f :\n",
    "        for smiles in val_smiles :\n",
    "            f.write(smiles)\n",
    "            f.write('\\n')\n",
    "\n",
    "    with open(os.path.join(random_splits_dir_path, f'test_smiles_random_split_{i}.txt'), 'w') as f :\n",
    "        for smiles in test_smiles :\n",
    "            f.write(smiles)\n",
    "            f.write('\\n')\n",
    "    \n",
    "    seed = seed + 1"
   ]
  }
 ],
 "metadata": {
  "kernelspec": {
   "display_name": "Python 3.7.10 ('GeoMol')",
   "language": "python",
   "name": "python3"
  },
  "language_info": {
   "codemirror_mode": {
    "name": "ipython",
    "version": 3
   },
   "file_extension": ".py",
   "mimetype": "text/x-python",
   "name": "python",
   "nbconvert_exporter": "python",
   "pygments_lexer": "ipython3",
   "version": "3.7.10"
  },
  "vscode": {
   "interpreter": {
    "hash": "792465ff2229ca8ea037fb8c3bc798a48e3067638134ba26b313457533b23659"
   }
  },
  "widgets": {
   "application/vnd.jupyter.widget-state+json": {
    "state": {},
    "version_major": 2,
    "version_minor": 0
   }
  }
 },
 "nbformat": 4,
 "nbformat_minor": 5
}
