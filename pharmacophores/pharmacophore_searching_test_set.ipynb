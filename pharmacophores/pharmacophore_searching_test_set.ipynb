{
 "cells": [
  {
   "cell_type": "code",
   "execution_count": 17,
   "id": "38483cb7-d944-43e3-a3e3-e694bf0c5c34",
   "metadata": {},
   "outputs": [],
   "source": [
    "import tempfile\n",
    "import os\n",
    "import pickle\n",
    "import torch\n",
    "import random\n",
    "import numpy as np\n",
    "\n",
    "from molecule_featurizer import MoleculeFeaturizer\n",
    "from litschnet import LitSchNet\n",
    "from ccdc_rdkit_connector import CcdcRdkitConnector\n",
    "from ccdc.pharmacophore import Pharmacophore\n",
    "from ccdc.descriptors import GeometricDescriptors\n",
    "from ccdc.utilities import Colour\n",
    "from ccdc import io\n",
    "from torch_geometric.data import Batch\n",
    "from ccdc.descriptors import GeometricDescriptors\n",
    "import seaborn as sns\n",
    "import pandas as pd\n",
    "from collections import defaultdict\n",
    "from tqdm import tqdm"
   ]
  },
  {
   "cell_type": "code",
   "execution_count": 18,
   "id": "b91ad1e7-0345-45ad-9cf1-6bd8897d398e",
   "metadata": {},
   "outputs": [],
   "source": [
    "data_dir = '/home/benoit/bioactive_conformation_predictor/data/'\n",
    "with open(os.path.join(data_dir, 'random_splits', f'test_smiles_random_split_0.txt'), 'r') as f :\n",
    "    test_smiles = f.readlines()\n",
    "    test_smiles = [smiles.strip() for smiles in test_smiles]\n",
    "\n",
    "with open(os.path.join(data_dir, 'raw', 'ccdc_generated_conf_ensemble_library.p'), 'rb') as f :\n",
    "    cel = pickle.load(f)\n",
    "    \n",
    "pdbbind_refined_dir = '/home/benoit/PDBBind/PDBbind_v2020_refined/refined-set/'\n",
    "pdbbind_general_dir = '/home/benoit/PDBBind/PDBbind_v2020_other_PL/v2020-other-PL/'\n",
    "connector = CcdcRdkitConnector()"
   ]
  },
  {
   "cell_type": "code",
   "execution_count": 19,
   "id": "487c4a3a-02b0-41a9-8fef-b0afe99b8e03",
   "metadata": {},
   "outputs": [],
   "source": [
    "ce = cel.get_conf_ensemble(test_smiles[0])\n",
    "mol = ce.mol"
   ]
  },
  {
   "cell_type": "code",
   "execution_count": 20,
   "id": "706b1669-0a1c-4330-9413-e7c2cec218b7",
   "metadata": {},
   "outputs": [],
   "source": [
    "Pharmacophore.read_feature_definitions()"
   ]
  },
  {
   "cell_type": "code",
   "execution_count": 21,
   "id": "6d6eb32c-e42b-4853-8823-7fe261c43820",
   "metadata": {},
   "outputs": [],
   "source": [
    "feature_identifiers = ['donor_projected', 'ring', 'acceptor']\n",
    "feature_definitions = [\n",
    "                    fd for fd in Pharmacophore.feature_definitions.values()\n",
    "                    if fd.identifier in feature_identifiers\n",
    "                ]"
   ]
  },
  {
   "cell_type": "code",
   "execution_count": 22,
   "id": "67b2123f-69a9-43a7-9e0f-8eccd2ec3992",
   "metadata": {},
   "outputs": [],
   "source": [
    "encoder_path = os.path.join(data_dir, 'molecule_encoders.p')\n",
    "if os.path.exists(encoder_path) : # Load existing encoder\n",
    "    with open(encoder_path, 'rb') as f:\n",
    "        mol_encoders = pickle.load(f)\n",
    "mol_featurizer = MoleculeFeaturizer(mol_encoders)"
   ]
  },
  {
   "cell_type": "code",
   "execution_count": 23,
   "id": "bafe1627-cef7-401d-95ce-d693b5b9fccc",
   "metadata": {},
   "outputs": [
    {
     "data": {
      "text/plain": [
       "LitSchNet(\n",
       "  (schnet): SchNet(hidden_channels=128, num_filters=128, num_interactions=6, num_gaussians=50, cutoff=10.0)\n",
       "  (leaky_relu): LeakyReLU(negative_slope=0.01)\n",
       "  (sigmoid): Sigmoid()\n",
       ")"
      ]
     },
     "execution_count": 23,
     "metadata": {},
     "output_type": "execute_result"
    }
   ],
   "source": [
    "experiment_name = f'random_split_0_new'\n",
    "lightning_logs_dir = '/home/benoit/bioactive_conformation_predictor/lightning_logs/'\n",
    "if experiment_name in os.listdir(lightning_logs_dir) :\n",
    "    checkpoint_name = os.listdir(os.path.join(lightning_logs_dir, experiment_name, 'checkpoints'))[0]\n",
    "    checkpoint_path = os.path.join(lightning_logs_dir, experiment_name, 'checkpoints', checkpoint_name)\n",
    "    litschnet = LitSchNet.load_from_checkpoint(checkpoint_path=checkpoint_path)\n",
    "litschnet.eval()"
   ]
  },
  {
   "cell_type": "code",
   "execution_count": 24,
   "id": "6ac56bf4-4b11-4b13-88ed-27148bcbd9f5",
   "metadata": {},
   "outputs": [],
   "source": [
    "def pharmacophore_searching(ccdc_mols, pdb_id) :\n",
    "    result = defaultdict(dict) # result[nfeat][metric]\n",
    "    result['pdb_id'] = pdb_id\n",
    "    \n",
    "    if pdb_id in os.listdir(pdbbind_refined_dir) :\n",
    "        protein_file = os.path.join(pdbbind_refined_dir, pdb_id, f'{pdb_id}_protein.pdb')\n",
    "        native_ligand_file = os.path.join(pdbbind_refined_dir, pdb_id, f'{pdb_id}_ligand.mol2')\n",
    "    else :\n",
    "        protein_file = os.path.join(pdbbind_general_dir, pdb_id, f'{pdb_id}_protein.pdb')\n",
    "        native_ligand_file = os.path.join(pdbbind_general_dir, pdb_id, f'{pdb_id}_ligand.mol2')\n",
    "    \n",
    "    all_ligands_file = os.path.abspath(f'{pdb_id}_generated.mol2')\n",
    "    with io.MoleculeWriter(all_ligands_file) as mol_writer:\n",
    "        mol = ccdc_mols[0]\n",
    "        mol.identifier = f'native'\n",
    "        mol_writer.write(mol)\n",
    "        for i, mol in enumerate(ccdc_mols[1:]):\n",
    "            mol.identifier = f'ligand_{i}'\n",
    "            mol_writer.write(mol)\n",
    "    \n",
    "    native_ligand = io.CrystalReader(all_ligands_file)[0]\n",
    "    \n",
    "#     ring_feature_def = Pharmacophore.feature_definitions['ring']\n",
    "#     ring_features = ring_feature_def.detect_features(native_ligand)\n",
    "#     donor_proj_def = Pharmacophore.feature_definitions['donor_projected']\n",
    "#     donor_proj_features = donor_proj_def.detect_features(native_ligand)\n",
    "#     detected_features = ring_features + donor_proj_features\n",
    "    \n",
    "    mol2_info = Pharmacophore.FeatureDatabase.DatabaseInfo(all_ligands_file, 0, Colour(0, 255, 0, 255))\n",
    "    csdsqlx = os.path.join(all_ligands_file.replace('.mol2', '.csdsqlx'))\n",
    "    mol2_sdb = Pharmacophore.FeatureDatabase.Creator.StructureDatabase(mol2_info, use_crystal_symmetry=False, structure_database_path=csdsqlx)\n",
    "    creator = Pharmacophore.FeatureDatabase.Creator()\n",
    "    db = creator.create([mol2_sdb])\n",
    "    \n",
    "    # Get top20 for each ranker\n",
    "    mol = io.MoleculeReader(all_ligands_file)[0]\n",
    "    rdkit_mol = connector.ccdc_mol_to_rdkit_mol(mol)\n",
    "    ccdc_mols = [mol for mol in io.MoleculeReader(all_ligands_file)][1:]\n",
    "    connector.ccdc_mols_to_rdkit_mol_conformers(ccdc_mols, rdkit_mol)\n",
    "    data_list = mol_featurizer.featurize_mol(rdkit_mol)\n",
    "    batch = Batch.from_data_list(data_list)\n",
    "    \n",
    "    with torch.no_grad() :\n",
    "        preds = litschnet(batch).cpu().numpy()\n",
    "    preds = preds.reshape(-1)[1:]\n",
    "    top20_index_model = preds.argsort()[:20]\n",
    "    \n",
    "    rmsds = mol_featurizer.get_bioactive_rmsds(rdkit_mol)\n",
    "    rmsds = rmsds.numpy()[1:]\n",
    "    top20_index_rmsd = rmsds.argsort()[:20]\n",
    "    \n",
    "    top20_index_energy = np.array([data.energy for data in data_list[1:]]).argsort()[:20]\n",
    "    \n",
    "    # Create query\n",
    "    detected_features = []\n",
    "    for fd in feature_definitions:\n",
    "        features = fd.detect_features(native_ligand)\n",
    "        detected_features.extend([feature for feature in features])\n",
    "    \n",
    "    def change_feature_tolerance(features, tolerance=1.0) :\n",
    "        new_features = []\n",
    "        for feature in features :\n",
    "            spheres = tuple(GeometricDescriptors.Sphere((sphere.centre[0], sphere.centre[1], sphere.centre[2]), tolerance) \n",
    "                                for sphere in feature.spheres)\n",
    "            for fd in feature_definitions :\n",
    "                if fd.identifier == feature.identifier :\n",
    "                    current_fd = fd\n",
    "                    break\n",
    "            new_feature = Pharmacophore.Feature(current_fd._clone(), *spheres)\n",
    "            new_features.append(new_feature)\n",
    "            \n",
    "        return new_features\n",
    "    \n",
    "    detected_features = change_feature_tolerance(detected_features)\n",
    "    random.shuffle(detected_features)\n",
    "    \n",
    "    n_features = len(detected_features)\n",
    "    for n in tqdm(range(2, n_features)) :\n",
    "    \n",
    "        features = detected_features[:n]\n",
    "\n",
    "        query = Pharmacophore.Query(features)\n",
    "        #query.write(f'{pdb_id}_query.cm')\n",
    "\n",
    "        searcher = Pharmacophore.Search()\n",
    "        hits = searcher.search(query, database=db)\n",
    "\n",
    "        #print([hit.identifier for hit in hits])\n",
    "        indexes = [int(s.split('_')[1]) for s in [hit.identifier for hit in hits] if 'ligand' in s]\n",
    "        \n",
    "        result[n]['ccdc_ranking'] = set(indexes).intersection(set(range(20)))\n",
    "        result[n]['model_ranking'] = set(indexes).intersection(set(top20_index_model))\n",
    "        result[n]['rmsd_ranking'] = set(indexes).intersection(set(top20_index_rmsd))\n",
    "        result[n]['energy_ranking'] = set(indexes).intersection(set(top20_index_energy))\n",
    "        \n",
    "    return result"
   ]
  },
  {
   "cell_type": "code",
   "execution_count": 25,
   "id": "04c91565-9af8-4a27-8d50-cf0b84f288dc",
   "metadata": {
    "scrolled": true,
    "tags": []
   },
   "outputs": [
    {
     "name": "stdout",
     "output_type": "stream",
     "text": [
      "6g92\n",
      "3fr2\n",
      "5t9u\n",
      "5jh6\n"
     ]
    },
    {
     "name": "stderr",
     "output_type": "stream",
     "text": [
      "RDKit WARNING: [18:29:43] native: Warning - no explicit hydrogens in mol2 file but needed for formal charge estimation.\n",
      "[18:29:43] native: Warning - no explicit hydrogens in mol2 file but needed for formal charge estimation.\n",
      "100%|█████████████████████████████████████████████| 8/8 [00:00<00:00,  9.43it/s]\n"
     ]
    },
    {
     "name": "stdout",
     "output_type": "stream",
     "text": [
      "3oct\n"
     ]
    },
    {
     "name": "stderr",
     "output_type": "stream",
     "text": [
      "RDKit WARNING: [18:29:45] native: Warning - no explicit hydrogens in mol2 file but needed for formal charge estimation.\n",
      "[18:29:45] native: Warning - no explicit hydrogens in mol2 file but needed for formal charge estimation.\n",
      "100%|███████████████████████████████████████████| 12/12 [00:01<00:00,  9.36it/s]\n",
      "RDKit WARNING: [18:29:47] native: Warning - no explicit hydrogens in mol2 file but needed for formal charge estimation.\n",
      "[18:29:47] native: Warning - no explicit hydrogens in mol2 file but needed for formal charge estimation.\n"
     ]
    },
    {
     "name": "stdout",
     "output_type": "stream",
     "text": [
      "2w0d\n"
     ]
    },
    {
     "name": "stderr",
     "output_type": "stream",
     "text": [
      "100%|█████████████████████████████████████████████| 9/9 [00:00<00:00,  9.22it/s]\n"
     ]
    },
    {
     "name": "stdout",
     "output_type": "stream",
     "text": [
      "2psu\n"
     ]
    },
    {
     "name": "stderr",
     "output_type": "stream",
     "text": [
      "[18:29:50] native: Warning - no explicit hydrogens in mol2 file but needed for formal charge estimation.\n",
      "RDKit WARNING: [18:29:50] native: Warning - no explicit hydrogens in mol2 file but needed for formal charge estimation.\n",
      "100%|███████████████████████████████████████████| 10/10 [00:01<00:00,  9.36it/s]\n"
     ]
    },
    {
     "name": "stdout",
     "output_type": "stream",
     "text": [
      "2oqv\n"
     ]
    },
    {
     "name": "stderr",
     "output_type": "stream",
     "text": [
      "RDKit WARNING: [18:29:52] native: Warning - no explicit hydrogens in mol2 file but needed for formal charge estimation.\n",
      "[18:29:52] native: Warning - no explicit hydrogens in mol2 file but needed for formal charge estimation.\n",
      "100%|█████████████████████████████████████████████| 9/9 [00:00<00:00,  9.42it/s]\n",
      "RDKit WARNING: [18:29:55] native: Warning - no explicit hydrogens in mol2 file but needed for formal charge estimation.\n",
      "[18:29:55] native: Warning - no explicit hydrogens in mol2 file but needed for formal charge estimation.\n"
     ]
    },
    {
     "name": "stdout",
     "output_type": "stream",
     "text": [
      "2ra6\n",
      "3shj\n"
     ]
    },
    {
     "name": "stderr",
     "output_type": "stream",
     "text": [
      "100%|█████████████████████████████████████████████| 5/5 [00:00<00:00,  9.37it/s]\n",
      "RDKit WARNING: [18:29:56] native: Warning - no explicit hydrogens in mol2 file but needed for formal charge estimation.\n",
      "[18:29:56] native: Warning - no explicit hydrogens in mol2 file but needed for formal charge estimation.\n"
     ]
    },
    {
     "name": "stdout",
     "output_type": "stream",
     "text": [
      "3vhu\n",
      "3d62\n"
     ]
    },
    {
     "name": "stderr",
     "output_type": "stream",
     "text": [
      "100%|█████████████████████████████████████████████| 3/3 [00:00<00:00,  9.27it/s]\n",
      "RDKit WARNING: [18:29:57] native: Warning - no explicit hydrogens in mol2 file but needed for formal charge estimation.\n",
      "[18:29:57] native: Warning - no explicit hydrogens in mol2 file but needed for formal charge estimation.\n"
     ]
    },
    {
     "name": "stdout",
     "output_type": "stream",
     "text": [
      "3hzy\n"
     ]
    },
    {
     "name": "stderr",
     "output_type": "stream",
     "text": [
      "100%|███████████████████████████████████████████| 36/36 [00:05<00:00,  6.88it/s]\n",
      "RDKit WARNING: [18:30:04] native: Warning - no explicit hydrogens in mol2 file but needed for formal charge estimation.\n",
      "[18:30:04] native: Warning - no explicit hydrogens in mol2 file but needed for formal charge estimation.\n"
     ]
    },
    {
     "name": "stdout",
     "output_type": "stream",
     "text": [
      "6gu7\n"
     ]
    },
    {
     "name": "stderr",
     "output_type": "stream",
     "text": [
      "100%|█████████████████████████████████████████████| 7/7 [00:00<00:00,  9.31it/s]\n",
      "RDKit WARNING: [18:30:06] native: Warning - no explicit hydrogens in mol2 file but needed for formal charge estimation.\n",
      "[18:30:06] native: Warning - no explicit hydrogens in mol2 file but needed for formal charge estimation.\n"
     ]
    },
    {
     "name": "stdout",
     "output_type": "stream",
     "text": [
      "2nno\n"
     ]
    },
    {
     "name": "stderr",
     "output_type": "stream",
     "text": [
      "100%|█████████████████████████████████████████████| 8/8 [00:00<00:00,  9.44it/s]\n",
      "RDKit WARNING: [18:30:07] native: Warning - no explicit hydrogens in mol2 file but needed for formal charge estimation.\n",
      "[18:30:07] native: Warning - no explicit hydrogens in mol2 file but needed for formal charge estimation.\n"
     ]
    },
    {
     "name": "stdout",
     "output_type": "stream",
     "text": [
      "4bbe\n"
     ]
    },
    {
     "name": "stderr",
     "output_type": "stream",
     "text": [
      "100%|█████████████████████████████████████████████| 8/8 [00:00<00:00,  9.37it/s]\n",
      "RDKit WARNING: [18:30:09] native: Warning - no explicit hydrogens in mol2 file but needed for formal charge estimation.\n"
     ]
    },
    {
     "name": "stdout",
     "output_type": "stream",
     "text": [
      "6fo8\n"
     ]
    },
    {
     "name": "stderr",
     "output_type": "stream",
     "text": [
      "[18:30:09] native: Warning - no explicit hydrogens in mol2 file but needed for formal charge estimation.\n",
      "100%|███████████████████████████████████████████| 12/12 [00:01<00:00,  9.47it/s]\n"
     ]
    },
    {
     "name": "stdout",
     "output_type": "stream",
     "text": [
      "1br5\n",
      "5t31\n",
      "4djr\n"
     ]
    },
    {
     "name": "stderr",
     "output_type": "stream",
     "text": [
      "RDKit WARNING: [18:30:12] native: Warning - no explicit hydrogens in mol2 file but needed for formal charge estimation.\n",
      "[18:30:12] native: Warning - no explicit hydrogens in mol2 file but needed for formal charge estimation.\n",
      "100%|███████████████████████████████████████████| 14/14 [00:01<00:00,  9.41it/s]\n"
     ]
    },
    {
     "name": "stdout",
     "output_type": "stream",
     "text": [
      "6md7\n"
     ]
    },
    {
     "name": "stderr",
     "output_type": "stream",
     "text": [
      "RDKit WARNING: [18:30:15] native: Warning - no explicit hydrogens in mol2 file but needed for formal charge estimation.\n",
      "[18:30:15] native: Warning - no explicit hydrogens in mol2 file but needed for formal charge estimation.\n",
      "100%|█████████████████████████████████████████████| 8/8 [00:00<00:00,  9.39it/s]\n",
      "RDKit WARNING: [18:30:17] native: Warning - no explicit hydrogens in mol2 file but needed for formal charge estimation.\n",
      "[18:30:17] native: Warning - no explicit hydrogens in mol2 file but needed for formal charge estimation.\n"
     ]
    },
    {
     "name": "stdout",
     "output_type": "stream",
     "text": [
      "1zpb\n"
     ]
    },
    {
     "name": "stderr",
     "output_type": "stream",
     "text": [
      "100%|███████████████████████████████████████████| 13/13 [00:01<00:00,  9.40it/s]\n",
      "RDKit WARNING: [18:30:20] native: Warning - no explicit hydrogens in mol2 file but needed for formal charge estimation.\n",
      "[18:30:20] native: Warning - no explicit hydrogens in mol2 file but needed for formal charge estimation.\n"
     ]
    },
    {
     "name": "stdout",
     "output_type": "stream",
     "text": [
      "6te6\n"
     ]
    },
    {
     "name": "stderr",
     "output_type": "stream",
     "text": [
      "100%|█████████████████████████████████████████████| 9/9 [00:00<00:00,  9.18it/s]\n",
      "RDKit WARNING: [18:30:22] native: Warning - no explicit hydrogens in mol2 file but needed for formal charge estimation.\n",
      "[18:30:22] native: Warning - no explicit hydrogens in mol2 file but needed for formal charge estimation.\n"
     ]
    },
    {
     "name": "stdout",
     "output_type": "stream",
     "text": [
      "2f18\n"
     ]
    },
    {
     "name": "stderr",
     "output_type": "stream",
     "text": [
      "100%|███████████████████████████████████████████| 16/16 [00:01<00:00,  9.42it/s]\n"
     ]
    },
    {
     "name": "stdout",
     "output_type": "stream",
     "text": [
      "4jzd\n"
     ]
    },
    {
     "name": "stderr",
     "output_type": "stream",
     "text": [
      "RDKit WARNING: [18:30:24] native: Warning - no explicit hydrogens in mol2 file but needed for formal charge estimation.\n",
      "[18:30:24] native: Warning - no explicit hydrogens in mol2 file but needed for formal charge estimation.\n",
      "100%|███████████████████████████████████████████| 18/18 [00:01<00:00,  9.36it/s]\n",
      "RDKit WARNING: [18:30:28] native: Warning - no explicit hydrogens in mol2 file but needed for formal charge estimation.\n",
      "[18:30:28] native: Warning - no explicit hydrogens in mol2 file but needed for formal charge estimation.\n"
     ]
    },
    {
     "name": "stdout",
     "output_type": "stream",
     "text": [
      "3rz7\n",
      "4zfi\n",
      "5m2v\n"
     ]
    },
    {
     "name": "stderr",
     "output_type": "stream",
     "text": [
      "100%|███████████████████████████████████████████| 10/10 [00:01<00:00,  9.43it/s]\n"
     ]
    },
    {
     "name": "stdout",
     "output_type": "stream",
     "text": [
      "5my8\n"
     ]
    },
    {
     "name": "stderr",
     "output_type": "stream",
     "text": [
      "[18:30:30] native: Warning - no explicit hydrogens in mol2 file but needed for formal charge estimation.\n",
      "RDKit WARNING: [18:30:30] native: Warning - no explicit hydrogens in mol2 file but needed for formal charge estimation.\n",
      "100%|█████████████████████████████████████████████| 8/8 [00:00<00:00,  9.54it/s]\n"
     ]
    },
    {
     "name": "stdout",
     "output_type": "stream",
     "text": [
      "1i32\n"
     ]
    },
    {
     "name": "stderr",
     "output_type": "stream",
     "text": [
      "RDKit WARNING: [18:30:33] native: Warning - no explicit hydrogens in mol2 file but needed for formal charge estimation.\n",
      "[18:30:33] native: Warning - no explicit hydrogens in mol2 file but needed for formal charge estimation.\n",
      "100%|███████████████████████████████████████████| 19/19 [00:02<00:00,  8.47it/s]\n",
      "RDKit WARNING: [18:30:37] native: Warning - no explicit hydrogens in mol2 file but needed for formal charge estimation.\n",
      "[18:30:37] native: Warning - no explicit hydrogens in mol2 file but needed for formal charge estimation.\n"
     ]
    },
    {
     "name": "stdout",
     "output_type": "stream",
     "text": [
      "4i0f\n"
     ]
    },
    {
     "name": "stderr",
     "output_type": "stream",
     "text": [
      "100%|███████████████████████████████████████████| 10/10 [00:01<00:00,  9.43it/s]\n",
      "RDKit WARNING: [18:30:39] native: Warning - no explicit hydrogens in mol2 file but needed for formal charge estimation.\n",
      "[18:30:39] native: Warning - no explicit hydrogens in mol2 file but needed for formal charge estimation.\n"
     ]
    },
    {
     "name": "stdout",
     "output_type": "stream",
     "text": [
      "5xkm\n"
     ]
    },
    {
     "name": "stderr",
     "output_type": "stream",
     "text": [
      "100%|█████████████████████████████████████████████| 6/6 [00:00<00:00,  9.22it/s]\n",
      "RDKit WARNING: [18:30:41] native: Warning - no explicit hydrogens in mol2 file but needed for formal charge estimation.\n"
     ]
    },
    {
     "name": "stdout",
     "output_type": "stream",
     "text": [
      "5mb1\n",
      "6ht1\n"
     ]
    },
    {
     "name": "stderr",
     "output_type": "stream",
     "text": [
      "[18:30:41] native: Warning - no explicit hydrogens in mol2 file but needed for formal charge estimation.\n",
      "100%|█████████████████████████████████████████████| 8/8 [00:00<00:00,  9.42it/s]\n",
      "RDKit WARNING: [18:30:43] native: Warning - no explicit hydrogens in mol2 file but needed for formal charge estimation.\n",
      "[18:30:43] native: Warning - no explicit hydrogens in mol2 file but needed for formal charge estimation.\n"
     ]
    },
    {
     "name": "stdout",
     "output_type": "stream",
     "text": [
      "2xdx\n",
      "3kr1\n",
      "6c7w\n"
     ]
    },
    {
     "name": "stderr",
     "output_type": "stream",
     "text": [
      "100%|███████████████████████████████████████████| 21/21 [00:02<00:00,  9.41it/s]\n"
     ]
    },
    {
     "name": "stdout",
     "output_type": "stream",
     "text": [
      "5osl\n",
      "6qrf\n",
      "1fmb\n"
     ]
    },
    {
     "name": "stderr",
     "output_type": "stream",
     "text": [
      "RDKit WARNING: [18:30:46] native: Warning - no explicit hydrogens in mol2 file but needed for formal charge estimation.\n",
      "[18:30:46] native: Warning - no explicit hydrogens in mol2 file but needed for formal charge estimation.\n",
      "100%|███████████████████████████████████████████| 11/11 [00:01<00:00,  9.39it/s]\n"
     ]
    },
    {
     "name": "stdout",
     "output_type": "stream",
     "text": [
      "3cow\n"
     ]
    },
    {
     "name": "stderr",
     "output_type": "stream",
     "text": [
      "RDKit WARNING: [18:30:49] native: Warning - no explicit hydrogens in mol2 file but needed for formal charge estimation.\n",
      "[18:30:49] native: Warning - no explicit hydrogens in mol2 file but needed for formal charge estimation.\n",
      "100%|███████████████████████████████████████████| 24/24 [00:02<00:00,  8.86it/s]\n"
     ]
    },
    {
     "name": "stdout",
     "output_type": "stream",
     "text": [
      "5ml5\n"
     ]
    },
    {
     "name": "stderr",
     "output_type": "stream",
     "text": [
      "RDKit WARNING: [18:30:57] native: Warning - no explicit hydrogens in mol2 file but needed for formal charge estimation.\n",
      "[18:30:57] native: Warning - no explicit hydrogens in mol2 file but needed for formal charge estimation.\n",
      "100%|█████████████████████████████████████████████| 8/8 [00:00<00:00,  9.15it/s]\n"
     ]
    },
    {
     "name": "stdout",
     "output_type": "stream",
     "text": [
      "5dp9\n"
     ]
    },
    {
     "name": "stderr",
     "output_type": "stream",
     "text": [
      "RDKit WARNING: [18:31:03] native: Warning - no explicit hydrogens in mol2 file but needed for formal charge estimation.\n",
      "[18:31:03] native: Warning - no explicit hydrogens in mol2 file but needed for formal charge estimation.\n",
      "100%|███████████████████████████████████████████| 11/11 [00:01<00:00,  9.14it/s]\n"
     ]
    },
    {
     "name": "stdout",
     "output_type": "stream",
     "text": [
      "5ou1\n"
     ]
    },
    {
     "name": "stderr",
     "output_type": "stream",
     "text": [
      "RDKit WARNING: [18:31:09] native: Warning - no explicit hydrogens in mol2 file but needed for formal charge estimation.\n",
      "[18:31:09] native: Warning - no explicit hydrogens in mol2 file but needed for formal charge estimation.\n",
      "100%|█████████████████████████████████████████████| 2/2 [00:00<00:00,  9.22it/s]\n"
     ]
    },
    {
     "name": "stdout",
     "output_type": "stream",
     "text": [
      "3l4v\n"
     ]
    },
    {
     "name": "stderr",
     "output_type": "stream",
     "text": [
      "RDKit WARNING: [18:31:13] native: Warning - no explicit hydrogens in mol2 file but needed for formal charge estimation.\n",
      "[18:31:13] native: Warning - no explicit hydrogens in mol2 file but needed for formal charge estimation.\n",
      "RDKit ERROR: [18:31:13] UFFTYPER: Unrecognized charge state for atom: 9\n",
      "[18:31:13] UFFTYPER: Unrecognized charge state for atom: 9\n",
      "RDKit ERROR: [18:31:13] UFFTYPER: Unrecognized charge state for atom: 9\n",
      "[18:31:13] UFFTYPER: Unrecognized charge state for atom: 9\n",
      "RDKit ERROR: [18:31:13] UFFTYPER: Unrecognized charge state for atom: 9\n",
      "RDKit ERROR: [18:31:13] UFFTYPER: Unrecognized charge state for atom: 9\n",
      "[18:31:13] UFFTYPER: Unrecognized charge state for atom: 9\n",
      "[18:31:13] UFFTYPER: Unrecognized charge state for atom: 9\n",
      "RDKit ERROR: [18:31:13] UFFTYPER: Unrecognized charge state for atom: 9\n",
      "[18:31:13] UFFTYPER: Unrecognized charge state for atom: 9\n",
      "RDKit ERROR: [18:31:13] UFFTYPER: Unrecognized charge state for atom: 9\n",
      "RDKit ERROR: [18:31:13] UFFTYPER: Unrecognized charge state for atom: 9\n",
      "[18:31:13] UFFTYPER: Unrecognized charge state for atom: 9\n",
      "RDKit ERROR: [18:31:13] UFFTYPER: Unrecognized charge state for atom: 9\n",
      "RDKit ERROR: [18:31:13] UFFTYPER: Unrecognized charge state for atom: 9\n",
      "[18:31:13] UFFTYPER: Unrecognized charge state for atom: 9\n",
      "RDKit ERROR: [18:31:13] UFFTYPER: Unrecognized charge state for atom: 9\n",
      "[18:31:13] UFFTYPER: Unrecognized charge state for atom: 9\n",
      "[18:31:13] UFFTYPER: Unrecognized charge state for atom: 9\n",
      "RDKit ERROR: [18:31:13] UFFTYPER: Unrecognized charge state for atom: 9\n",
      "[18:31:13] UFFTYPER: Unrecognized charge state for atom: 9\n",
      "[18:31:13] UFFTYPER: Unrecognized charge state for atom: 9\n",
      "RDKit ERROR: [18:31:13] UFFTYPER: Unrecognized charge state for atom: 9\n",
      "[18:31:13] UFFTYPER: Unrecognized charge state for atom: 9\n",
      "RDKit ERROR: [18:31:13] UFFTYPER: Unrecognized charge state for atom: 9\n",
      "[18:31:13] UFFTYPER: Unrecognized charge state for atom: 9\n",
      "RDKit ERROR: [18:31:13] UFFTYPER: Unrecognized charge state for atom: 9\n",
      "[18:31:13] UFFTYPER: Unrecognized charge state for atom: 9\n",
      "RDKit ERROR: [18:31:13] UFFTYPER: Unrecognized charge state for atom: 9\n",
      "[18:31:13] UFFTYPER: Unrecognized charge state for atom: 9\n",
      "RDKit ERROR: [18:31:13] UFFTYPER: Unrecognized charge state for atom: 9\n",
      "RDKit ERROR: [18:31:13] UFFTYPER: Unrecognized charge state for atom: 9\n",
      "[18:31:13] UFFTYPER: Unrecognized charge state for atom: 9\n",
      "[18:31:13] UFFTYPER: Unrecognized charge state for atom: 9\n",
      "RDKit ERROR: [18:31:13] UFFTYPER: Unrecognized charge state for atom: 9\n",
      "RDKit ERROR: [18:31:13] UFFTYPER: Unrecognized charge state for atom: 9\n",
      "[18:31:13] UFFTYPER: Unrecognized charge state for atom: 9\n",
      "[18:31:13] UFFTYPER: Unrecognized charge state for atom: 9\n",
      "RDKit ERROR: [18:31:13] UFFTYPER: Unrecognized charge state for atom: 9\n",
      "RDKit ERROR: [18:31:13] UFFTYPER: Unrecognized charge state for atom: 9\n",
      "[18:31:13] UFFTYPER: Unrecognized charge state for atom: 9\n",
      "[18:31:13] UFFTYPER: Unrecognized charge state for atom: 9\n",
      "RDKit ERROR: [18:31:13] UFFTYPER: Unrecognized charge state for atom: 9\n",
      "RDKit ERROR: [18:31:13] UFFTYPER: Unrecognized charge state for atom: 9\n",
      "RDKit ERROR: [18:31:13] UFFTYPER: Unrecognized charge state for atom: 9\n",
      "[18:31:13] UFFTYPER: Unrecognized charge state for atom: 9\n",
      "[18:31:13] UFFTYPER: Unrecognized charge state for atom: 9\n",
      "[18:31:13] UFFTYPER: Unrecognized charge state for atom: 9\n",
      "RDKit ERROR: [18:31:13] UFFTYPER: Unrecognized charge state for atom: 9\n",
      "RDKit ERROR: [18:31:13] UFFTYPER: Unrecognized charge state for atom: 9\n",
      "[18:31:13] UFFTYPER: Unrecognized charge state for atom: 9\n",
      "RDKit ERROR: [18:31:13] UFFTYPER: Unrecognized charge state for atom: 9\n",
      "RDKit ERROR: [18:31:13] UFFTYPER: Unrecognized charge state for atom: 9\n",
      "[18:31:13] UFFTYPER: Unrecognized charge state for atom: 9\n",
      "RDKit ERROR: [18:31:13] UFFTYPER: Unrecognized charge state for atom: 9\n",
      "RDKit ERROR: [18:31:13] UFFTYPER: Unrecognized charge state for atom: 9\n",
      "[18:31:13] UFFTYPER: Unrecognized charge state for atom: 9\n",
      "[18:31:13] UFFTYPER: Unrecognized charge state for atom: 9\n",
      "RDKit ERROR: [18:31:13] UFFTYPER: Unrecognized charge state for atom: 9\n",
      "RDKit ERROR: [18:31:13] UFFTYPER: Unrecognized charge state for atom: 9\n",
      "[18:31:13] UFFTYPER: Unrecognized charge state for atom: 9\n",
      "[18:31:13] UFFTYPER: Unrecognized charge state for atom: 9\n",
      "RDKit ERROR: [18:31:13] UFFTYPER: Unrecognized charge state for atom: 9\n",
      "RDKit ERROR: [18:31:13] UFFTYPER: Unrecognized charge state for atom: 9\n",
      "[18:31:13] UFFTYPER: Unrecognized charge state for atom: 9\n",
      "[18:31:13] UFFTYPER: Unrecognized charge state for atom: 9\n",
      "[18:31:13] UFFTYPER: Unrecognized charge state for atom: 9\n",
      "[18:31:13] UFFTYPER: Unrecognized charge state for atom: 9\n",
      "RDKit ERROR: [18:31:13] UFFTYPER: Unrecognized charge state for atom: 9\n",
      "[18:31:13] UFFTYPER: Unrecognized charge state for atom: 9\n",
      "RDKit ERROR: [18:31:13] UFFTYPER: Unrecognized charge state for atom: 9\n",
      "RDKit ERROR: [18:31:13] UFFTYPER: Unrecognized charge state for atom: 9\n",
      "RDKit ERROR: [18:31:13] UFFTYPER: Unrecognized charge state for atom: 9\n",
      "[18:31:13] UFFTYPER: Unrecognized charge state for atom: 9\n",
      "[18:31:13] UFFTYPER: Unrecognized charge state for atom: 9\n",
      "[18:31:13] UFFTYPER: Unrecognized charge state for atom: 9\n",
      "RDKit ERROR: [18:31:13] UFFTYPER: Unrecognized charge state for atom: 9\n",
      "RDKit ERROR: [18:31:13] UFFTYPER: Unrecognized charge state for atom: 9\n",
      "[18:31:13] UFFTYPER: Unrecognized charge state for atom: 9\n",
      "[18:31:13] UFFTYPER: Unrecognized charge state for atom: 9\n",
      "RDKit ERROR: [18:31:13] UFFTYPER: Unrecognized charge state for atom: 9\n",
      "RDKit ERROR: [18:31:13] UFFTYPER: Unrecognized charge state for atom: 9\n",
      "[18:31:13] UFFTYPER: Unrecognized charge state for atom: 9\n",
      "[18:31:13] UFFTYPER: Unrecognized charge state for atom: 9\n",
      "RDKit ERROR: [18:31:13] UFFTYPER: Unrecognized charge state for atom: 9\n",
      "RDKit ERROR: [18:31:13] UFFTYPER: Unrecognized charge state for atom: 9\n",
      "RDKit ERROR: [18:31:13] UFFTYPER: Unrecognized charge state for atom: 9\n",
      "RDKit ERROR: [18:31:13] UFFTYPER: Unrecognized charge state for atom: 9\n",
      "[18:31:13] UFFTYPER: Unrecognized charge state for atom: 9\n",
      "[18:31:13] UFFTYPER: Unrecognized charge state for atom: 9\n",
      "[18:31:13] UFFTYPER: Unrecognized charge state for atom: 9\n",
      "[18:31:13] UFFTYPER: Unrecognized charge state for atom: 9\n",
      "RDKit ERROR: [18:31:13] UFFTYPER: Unrecognized charge state for atom: 9\n",
      "RDKit ERROR: [18:31:13] UFFTYPER: Unrecognized charge state for atom: 9\n",
      "RDKit ERROR: [18:31:13] UFFTYPER: Unrecognized charge state for atom: 9\n",
      "[18:31:13] UFFTYPER: Unrecognized charge state for atom: 9\n",
      "[18:31:13] UFFTYPER: Unrecognized charge state for atom: 9\n",
      "RDKit ERROR: [18:31:13] UFFTYPER: Unrecognized charge state for atom: 9\n",
      "[18:31:13] UFFTYPER: Unrecognized charge state for atom: 9\n",
      "[18:31:13] UFFTYPER: Unrecognized charge state for atom: 9\n",
      "RDKit ERROR: [18:31:13] UFFTYPER: Unrecognized charge state for atom: 9\n",
      "[18:31:13] UFFTYPER: Unrecognized charge state for atom: 9\n",
      "RDKit ERROR: [18:31:13] UFFTYPER: Unrecognized charge state for atom: 9\n",
      "[18:31:13] UFFTYPER: Unrecognized charge state for atom: 9\n",
      "RDKit ERROR: [18:31:13] UFFTYPER: Unrecognized charge state for atom: 9\n",
      "[18:31:13] UFFTYPER: Unrecognized charge state for atom: 9\n",
      "RDKit ERROR: [18:31:13] UFFTYPER: Unrecognized charge state for atom: 9\n",
      "[18:31:13] UFFTYPER: Unrecognized charge state for atom: 9\n",
      "RDKit ERROR: [18:31:14] UFFTYPER: Unrecognized charge state for atom: 9\n",
      "[18:31:14] UFFTYPER: Unrecognized charge state for atom: 9\n",
      "RDKit ERROR: [18:31:14] UFFTYPER: Unrecognized charge state for atom: 9\n",
      "[18:31:14] UFFTYPER: Unrecognized charge state for atom: 9\n",
      "RDKit ERROR: [18:31:14] UFFTYPER: Unrecognized charge state for atom: 9\n",
      "[18:31:14] UFFTYPER: Unrecognized charge state for atom: 9\n",
      "RDKit ERROR: [18:31:14] UFFTYPER: Unrecognized charge state for atom: 9\n",
      "RDKit ERROR: [18:31:14] UFFTYPER: Unrecognized charge state for atom: 9\n",
      "[18:31:14] UFFTYPER: Unrecognized charge state for atom: 9\n",
      "[18:31:14] UFFTYPER: Unrecognized charge state for atom: 9\n",
      "RDKit ERROR: [18:31:14] UFFTYPER: Unrecognized charge state for atom: 9\n",
      "RDKit ERROR: [18:31:14] UFFTYPER: Unrecognized charge state for atom: 9\n",
      "[18:31:14] UFFTYPER: Unrecognized charge state for atom: 9\n",
      "[18:31:14] UFFTYPER: Unrecognized charge state for atom: 9\n",
      "RDKit ERROR: [18:31:14] UFFTYPER: Unrecognized charge state for atom: 9\n",
      "RDKit ERROR: [18:31:14] UFFTYPER: Unrecognized charge state for atom: 9\n",
      "[18:31:14] UFFTYPER: Unrecognized charge state for atom: 9\n",
      "[18:31:14] UFFTYPER: Unrecognized charge state for atom: 9\n",
      "RDKit ERROR: [18:31:14] UFFTYPER: Unrecognized charge state for atom: 9\n",
      "[18:31:14] UFFTYPER: Unrecognized charge state for atom: 9\n",
      "RDKit ERROR: [18:31:14] UFFTYPER: Unrecognized charge state for atom: 9\n",
      "[18:31:14] UFFTYPER: Unrecognized charge state for atom: 9\n",
      "RDKit ERROR: [18:31:14] UFFTYPER: Unrecognized charge state for atom: 9\n",
      "[18:31:14] UFFTYPER: Unrecognized charge state for atom: 9\n",
      "RDKit ERROR: [18:31:14] UFFTYPER: Unrecognized charge state for atom: 9\n",
      "[18:31:14] UFFTYPER: Unrecognized charge state for atom: 9\n",
      "RDKit ERROR: [18:31:14] UFFTYPER: Unrecognized charge state for atom: 9\n",
      "[18:31:14] UFFTYPER: Unrecognized charge state for atom: 9\n",
      "RDKit ERROR: [18:31:14] UFFTYPER: Unrecognized charge state for atom: 9\n",
      "[18:31:14] UFFTYPER: Unrecognized charge state for atom: 9\n",
      "RDKit ERROR: [18:31:14] UFFTYPER: Unrecognized charge state for atom: 9\n",
      "RDKit ERROR: [18:31:14] UFFTYPER: Unrecognized charge state for atom: 9\n",
      "[18:31:14] UFFTYPER: Unrecognized charge state for atom: 9\n",
      "[18:31:14] UFFTYPER: Unrecognized charge state for atom: 9\n",
      "RDKit ERROR: [18:31:14] UFFTYPER: Unrecognized charge state for atom: 9\n",
      "RDKit ERROR: [18:31:14] UFFTYPER: Unrecognized charge state for atom: 9\n",
      "[18:31:14] UFFTYPER: Unrecognized charge state for atom: 9\n",
      "RDKit ERROR: [18:31:14] UFFTYPER: Unrecognized charge state for atom: 9\n",
      "[18:31:14] UFFTYPER: Unrecognized charge state for atom: 9\n",
      "[18:31:14] UFFTYPER: Unrecognized charge state for atom: 9\n",
      "RDKit ERROR: [18:31:14] UFFTYPER: Unrecognized charge state for atom: 9\n",
      "RDKit ERROR: [18:31:14] UFFTYPER: Unrecognized charge state for atom: 9\n",
      "RDKit ERROR: [18:31:14] UFFTYPER: Unrecognized charge state for atom: 9\n",
      "[18:31:14] UFFTYPER: Unrecognized charge state for atom: 9\n",
      "[18:31:14] UFFTYPER: Unrecognized charge state for atom: 9\n",
      "[18:31:14] UFFTYPER: Unrecognized charge state for atom: 9\n",
      "RDKit ERROR: [18:31:14] UFFTYPER: Unrecognized charge state for atom: 9\n",
      "[18:31:14] UFFTYPER: Unrecognized charge state for atom: 9\n",
      "RDKit ERROR: [18:31:14] UFFTYPER: Unrecognized charge state for atom: 9\n",
      "RDKit ERROR: [18:31:14] UFFTYPER: Unrecognized charge state for atom: 9\n",
      "[18:31:14] UFFTYPER: Unrecognized charge state for atom: 9\n",
      "[18:31:14] UFFTYPER: Unrecognized charge state for atom: 9\n",
      "RDKit ERROR: [18:31:14] UFFTYPER: Unrecognized charge state for atom: 9\n",
      "RDKit ERROR: [18:31:14] UFFTYPER: Unrecognized charge state for atom: 9\n",
      "[18:31:14] UFFTYPER: Unrecognized charge state for atom: 9\n",
      "RDKit ERROR: [18:31:14] UFFTYPER: Unrecognized charge state for atom: 9\n",
      "RDKit ERROR: [18:31:14] UFFTYPER: Unrecognized charge state for atom: 9\n",
      "[18:31:14] UFFTYPER: Unrecognized charge state for atom: 9\n",
      "[18:31:14] UFFTYPER: Unrecognized charge state for atom: 9\n",
      "[18:31:14] UFFTYPER: Unrecognized charge state for atom: 9\n",
      "RDKit ERROR: [18:31:14] UFFTYPER: Unrecognized charge state for atom: 9\n",
      "RDKit ERROR: [18:31:14] UFFTYPER: Unrecognized charge state for atom: 9\n",
      "[18:31:14] UFFTYPER: Unrecognized charge state for atom: 9\n",
      "[18:31:14] UFFTYPER: Unrecognized charge state for atom: 9\n",
      "RDKit ERROR: [18:31:14] UFFTYPER: Unrecognized charge state for atom: 9\n",
      "RDKit ERROR: [18:31:14] UFFTYPER: Unrecognized charge state for atom: 9\n",
      "RDKit ERROR: [18:31:14] UFFTYPER: Unrecognized charge state for atom: 9\n",
      "RDKit ERROR: [18:31:14] UFFTYPER: Unrecognized charge state for atom: 9\n",
      "[18:31:14] UFFTYPER: Unrecognized charge state for atom: 9\n",
      "[18:31:14] UFFTYPER: Unrecognized charge state for atom: 9\n",
      "[18:31:14] UFFTYPER: Unrecognized charge state for atom: 9\n",
      "[18:31:14] UFFTYPER: Unrecognized charge state for atom: 9\n",
      "RDKit ERROR: [18:31:14] UFFTYPER: Unrecognized charge state for atom: 9\n",
      "RDKit ERROR: [18:31:14] UFFTYPER: Unrecognized charge state for atom: 9\n",
      "[18:31:14] UFFTYPER: Unrecognized charge state for atom: 9\n",
      "[18:31:14] UFFTYPER: Unrecognized charge state for atom: 9\n",
      "RDKit ERROR: [18:31:14] UFFTYPER: Unrecognized charge state for atom: 9\n",
      "RDKit ERROR: [18:31:14] UFFTYPER: Unrecognized charge state for atom: 9\n",
      "[18:31:14] UFFTYPER: Unrecognized charge state for atom: 9\n",
      "[18:31:14] UFFTYPER: Unrecognized charge state for atom: 9\n",
      "RDKit ERROR: [18:31:14] UFFTYPER: Unrecognized charge state for atom: 9\n",
      "RDKit ERROR: [18:31:14] UFFTYPER: Unrecognized charge state for atom: 9\n",
      "[18:31:14] UFFTYPER: Unrecognized charge state for atom: 9\n",
      "RDKit ERROR: [18:31:14] UFFTYPER: Unrecognized charge state for atom: 9\n",
      "RDKit ERROR: [18:31:14] UFFTYPER: Unrecognized charge state for atom: 9\n",
      "[18:31:14] UFFTYPER: Unrecognized charge state for atom: 9\n",
      "RDKit ERROR: [18:31:14] UFFTYPER: Unrecognized charge state for atom: 9\n",
      "RDKit ERROR: [18:31:14] UFFTYPER: Unrecognized charge state for atom: 9\n",
      "[18:31:14] UFFTYPER: Unrecognized charge state for atom: 9\n",
      "[18:31:14] UFFTYPER: Unrecognized charge state for atom: 9\n",
      "[18:31:14] UFFTYPER: Unrecognized charge state for atom: 9\n",
      "[18:31:14] UFFTYPER: Unrecognized charge state for atom: 9\n",
      "RDKit ERROR: [18:31:14] UFFTYPER: Unrecognized charge state for atom: 9\n",
      "[18:31:14] UFFTYPER: Unrecognized charge state for atom: 9\n",
      "100%|███████████████████████████████████████████| 37/37 [00:04<00:00,  8.82it/s]\n"
     ]
    },
    {
     "name": "stdout",
     "output_type": "stream",
     "text": [
      "3qem\n"
     ]
    },
    {
     "name": "stderr",
     "output_type": "stream",
     "text": [
      "RDKit WARNING: [18:31:22] native: Warning - no explicit hydrogens in mol2 file but needed for formal charge estimation.\n",
      "[18:31:22] native: Warning - no explicit hydrogens in mol2 file but needed for formal charge estimation.\n",
      "100%|█████████████████████████████████████████████| 8/8 [00:00<00:00,  9.42it/s]\n"
     ]
    },
    {
     "name": "stdout",
     "output_type": "stream",
     "text": [
      "4pid\n"
     ]
    },
    {
     "name": "stderr",
     "output_type": "stream",
     "text": [
      "RDKit WARNING: [18:31:27] native: Warning - no explicit hydrogens in mol2 file but needed for formal charge estimation.\n",
      "[18:31:27] native: Warning - no explicit hydrogens in mol2 file but needed for formal charge estimation.\n",
      "100%|█████████████████████████████████████████████| 4/4 [00:00<00:00,  9.26it/s]\n"
     ]
    },
    {
     "name": "stdout",
     "output_type": "stream",
     "text": [
      "4tk0\n"
     ]
    },
    {
     "name": "stderr",
     "output_type": "stream",
     "text": [
      "RDKit WARNING: [18:31:31] native: Warning - no explicit hydrogens in mol2 file but needed for formal charge estimation.\n",
      "[18:31:31] native: Warning - no explicit hydrogens in mol2 file but needed for formal charge estimation.\n",
      "100%|█████████████████████████████████████████████| 4/4 [00:00<00:00,  9.62it/s]\n"
     ]
    },
    {
     "name": "stdout",
     "output_type": "stream",
     "text": [
      "5ecv\n",
      "5exn\n"
     ]
    },
    {
     "name": "stderr",
     "output_type": "stream",
     "text": [
      "RDKit WARNING: [18:31:36] native: Warning - no explicit hydrogens in mol2 file but needed for formal charge estimation.\n",
      "[18:31:36] native: Warning - no explicit hydrogens in mol2 file but needed for formal charge estimation.\n",
      "100%|███████████████████████████████████████████| 11/11 [00:01<00:00,  9.34it/s]\n"
     ]
    },
    {
     "name": "stdout",
     "output_type": "stream",
     "text": [
      "3vbw\n",
      "2gj4\n",
      "5ou2\n",
      "2opy\n"
     ]
    },
    {
     "name": "stderr",
     "output_type": "stream",
     "text": [
      "RDKit WARNING: [18:31:43] native: Warning - no explicit hydrogens in mol2 file but needed for formal charge estimation.\n",
      "[18:31:43] native: Warning - no explicit hydrogens in mol2 file but needed for formal charge estimation.\n",
      "100%|███████████████████████████████████████████| 15/15 [00:01<00:00,  9.45it/s]\n"
     ]
    },
    {
     "name": "stdout",
     "output_type": "stream",
     "text": [
      "6c8x\n"
     ]
    },
    {
     "name": "stderr",
     "output_type": "stream",
     "text": [
      "RDKit WARNING: [18:31:50] native: Warning - no explicit hydrogens in mol2 file but needed for formal charge estimation.\n",
      "[18:31:50] native: Warning - no explicit hydrogens in mol2 file but needed for formal charge estimation.\n"
     ]
    },
    {
     "ename": "AttributeError",
     "evalue": "'NoneType' object has no attribute 'CalcEnergy'",
     "output_type": "error",
     "traceback": [
      "\u001b[0;31m---------------------------------------------------------------------------\u001b[0m",
      "\u001b[0;31mAttributeError\u001b[0m                            Traceback (most recent call last)",
      "\u001b[0;32m/tmp/ipykernel_38044/2638879126.py\u001b[0m in \u001b[0;36m<module>\u001b[0;34m\u001b[0m\n\u001b[1;32m     11\u001b[0m     \u001b[0;32mif\u001b[0m \u001b[0mlen\u001b[0m\u001b[0;34m(\u001b[0m\u001b[0mccdc_mols\u001b[0m\u001b[0;34m)\u001b[0m \u001b[0;34m==\u001b[0m \u001b[0;36m101\u001b[0m \u001b[0;34m:\u001b[0m\u001b[0;34m\u001b[0m\u001b[0;34m\u001b[0m\u001b[0m\n\u001b[1;32m     12\u001b[0m \u001b[0;31m#         try :\u001b[0m\u001b[0;34m\u001b[0m\u001b[0;34m\u001b[0m\u001b[0;34m\u001b[0m\u001b[0m\n\u001b[0;32m---> 13\u001b[0;31m             \u001b[0mresults\u001b[0m\u001b[0;34m.\u001b[0m\u001b[0mappend\u001b[0m\u001b[0;34m(\u001b[0m\u001b[0mpharmacophore_searching\u001b[0m\u001b[0;34m(\u001b[0m\u001b[0mccdc_mols\u001b[0m\u001b[0;34m,\u001b[0m \u001b[0mpdb_id\u001b[0m\u001b[0;34m)\u001b[0m\u001b[0;34m)\u001b[0m\u001b[0;34m\u001b[0m\u001b[0;34m\u001b[0m\u001b[0m\n\u001b[0m\u001b[1;32m     14\u001b[0m \u001b[0;31m#         except Exception as e :\u001b[0m\u001b[0;34m\u001b[0m\u001b[0;34m\u001b[0m\u001b[0;34m\u001b[0m\u001b[0m\n\u001b[1;32m     15\u001b[0m \u001b[0;31m#             print('Something went wrong')\u001b[0m\u001b[0;34m\u001b[0m\u001b[0;34m\u001b[0m\u001b[0;34m\u001b[0m\u001b[0m\n",
      "\u001b[0;32m/tmp/ipykernel_38044/831214195.py\u001b[0m in \u001b[0;36mpharmacophore_searching\u001b[0;34m(ccdc_mols, pdb_id)\u001b[0m\n\u001b[1;32m     38\u001b[0m     \u001b[0mccdc_mols\u001b[0m \u001b[0;34m=\u001b[0m \u001b[0;34m[\u001b[0m\u001b[0mmol\u001b[0m \u001b[0;32mfor\u001b[0m \u001b[0mmol\u001b[0m \u001b[0;32min\u001b[0m \u001b[0mio\u001b[0m\u001b[0;34m.\u001b[0m\u001b[0mMoleculeReader\u001b[0m\u001b[0;34m(\u001b[0m\u001b[0mall_ligands_file\u001b[0m\u001b[0;34m)\u001b[0m\u001b[0;34m]\u001b[0m\u001b[0;34m[\u001b[0m\u001b[0;36m1\u001b[0m\u001b[0;34m:\u001b[0m\u001b[0;34m]\u001b[0m\u001b[0;34m\u001b[0m\u001b[0;34m\u001b[0m\u001b[0m\n\u001b[1;32m     39\u001b[0m     \u001b[0mconnector\u001b[0m\u001b[0;34m.\u001b[0m\u001b[0mccdc_mols_to_rdkit_mol_conformers\u001b[0m\u001b[0;34m(\u001b[0m\u001b[0mccdc_mols\u001b[0m\u001b[0;34m,\u001b[0m \u001b[0mrdkit_mol\u001b[0m\u001b[0;34m)\u001b[0m\u001b[0;34m\u001b[0m\u001b[0;34m\u001b[0m\u001b[0m\n\u001b[0;32m---> 40\u001b[0;31m     \u001b[0mdata_list\u001b[0m \u001b[0;34m=\u001b[0m \u001b[0mmol_featurizer\u001b[0m\u001b[0;34m.\u001b[0m\u001b[0mfeaturize_mol\u001b[0m\u001b[0;34m(\u001b[0m\u001b[0mrdkit_mol\u001b[0m\u001b[0;34m)\u001b[0m\u001b[0;34m\u001b[0m\u001b[0;34m\u001b[0m\u001b[0m\n\u001b[0m\u001b[1;32m     41\u001b[0m     \u001b[0mbatch\u001b[0m \u001b[0;34m=\u001b[0m \u001b[0mBatch\u001b[0m\u001b[0;34m.\u001b[0m\u001b[0mfrom_data_list\u001b[0m\u001b[0;34m(\u001b[0m\u001b[0mdata_list\u001b[0m\u001b[0;34m)\u001b[0m\u001b[0;34m\u001b[0m\u001b[0;34m\u001b[0m\u001b[0m\n\u001b[1;32m     42\u001b[0m \u001b[0;34m\u001b[0m\u001b[0m\n",
      "\u001b[0;32m~/bioactive_conformation_predictor/pharmacophores/molecule_featurizer.py\u001b[0m in \u001b[0;36mfeaturize_mol\u001b[0;34m(self, rdkit_mol, conf_generator, rmsd_func, interpolate, exclude_hydrogens)\u001b[0m\n\u001b[1;32m     51\u001b[0m         \u001b[0;31m# Make one data per conformer, because it has different positions\u001b[0m\u001b[0;34m\u001b[0m\u001b[0;34m\u001b[0m\u001b[0;34m\u001b[0m\u001b[0m\n\u001b[1;32m     52\u001b[0m         \u001b[0;32mfor\u001b[0m \u001b[0mconf_id\u001b[0m\u001b[0;34m,\u001b[0m \u001b[0mconf\u001b[0m \u001b[0;32min\u001b[0m \u001b[0menumerate\u001b[0m\u001b[0;34m(\u001b[0m\u001b[0mrdkit_mol\u001b[0m\u001b[0;34m.\u001b[0m\u001b[0mGetConformers\u001b[0m\u001b[0;34m(\u001b[0m\u001b[0;34m)\u001b[0m\u001b[0;34m)\u001b[0m \u001b[0;34m:\u001b[0m\u001b[0;34m\u001b[0m\u001b[0;34m\u001b[0m\u001b[0m\n\u001b[0;32m---> 53\u001b[0;31m             \u001b[0mdata\u001b[0m \u001b[0;34m=\u001b[0m \u001b[0mself\u001b[0m\u001b[0;34m.\u001b[0m\u001b[0mconf_to_data\u001b[0m\u001b[0;34m(\u001b[0m\u001b[0mrdkit_mol\u001b[0m\u001b[0;34m,\u001b[0m \u001b[0mconf_id\u001b[0m\u001b[0;34m,\u001b[0m \u001b[0mx\u001b[0m\u001b[0;34m,\u001b[0m \u001b[0medge_index\u001b[0m\u001b[0;34m,\u001b[0m \u001b[0medge_attr\u001b[0m\u001b[0;34m)\u001b[0m\u001b[0;34m\u001b[0m\u001b[0;34m\u001b[0m\u001b[0m\n\u001b[0m\u001b[1;32m     54\u001b[0m             \u001b[0mdata_list\u001b[0m\u001b[0;34m.\u001b[0m\u001b[0mappend\u001b[0m\u001b[0;34m(\u001b[0m\u001b[0mdata\u001b[0m\u001b[0;34m)\u001b[0m\u001b[0;34m\u001b[0m\u001b[0;34m\u001b[0m\u001b[0m\n\u001b[1;32m     55\u001b[0m \u001b[0;34m\u001b[0m\u001b[0m\n",
      "\u001b[0;32m~/bioactive_conformation_predictor/pharmacophores/molecule_featurizer.py\u001b[0m in \u001b[0;36mconf_to_data\u001b[0;34m(self, rdkit_mol, conf_id, x, edge_index, edge_attr, save_mol)\u001b[0m\n\u001b[1;32m    128\u001b[0m         \u001b[0mmol_properties\u001b[0m \u001b[0;34m=\u001b[0m \u001b[0mMMFFGetMoleculeProperties\u001b[0m\u001b[0;34m(\u001b[0m\u001b[0mdummy_mol\u001b[0m\u001b[0;34m)\u001b[0m\u001b[0;34m\u001b[0m\u001b[0;34m\u001b[0m\u001b[0m\n\u001b[1;32m    129\u001b[0m         \u001b[0mmmff\u001b[0m \u001b[0;34m=\u001b[0m \u001b[0mMMFFGetMoleculeForceField\u001b[0m\u001b[0;34m(\u001b[0m\u001b[0mdummy_mol\u001b[0m\u001b[0;34m,\u001b[0m \u001b[0mmol_properties\u001b[0m\u001b[0;34m)\u001b[0m\u001b[0;34m\u001b[0m\u001b[0;34m\u001b[0m\u001b[0m\n\u001b[0;32m--> 130\u001b[0;31m         \u001b[0mmmff_energy\u001b[0m \u001b[0;34m=\u001b[0m \u001b[0mmmff\u001b[0m\u001b[0;34m.\u001b[0m\u001b[0mCalcEnergy\u001b[0m\u001b[0;34m(\u001b[0m\u001b[0;34m)\u001b[0m\u001b[0;34m\u001b[0m\u001b[0;34m\u001b[0m\u001b[0m\n\u001b[0m\u001b[1;32m    131\u001b[0m \u001b[0;34m\u001b[0m\u001b[0m\n\u001b[1;32m    132\u001b[0m         \u001b[0muff\u001b[0m \u001b[0;34m=\u001b[0m \u001b[0mAllChem\u001b[0m\u001b[0;34m.\u001b[0m\u001b[0mUFFGetMoleculeForceField\u001b[0m\u001b[0;34m(\u001b[0m\u001b[0mdummy_mol\u001b[0m\u001b[0;34m)\u001b[0m\u001b[0;34m\u001b[0m\u001b[0;34m\u001b[0m\u001b[0m\n",
      "\u001b[0;31mAttributeError\u001b[0m: 'NoneType' object has no attribute 'CalcEnergy'"
     ]
    }
   ],
   "source": [
    "results = []\n",
    "for i, smiles in enumerate(test_smiles) :\n",
    "    ce = cel.get_conf_ensemble(smiles)\n",
    "    mol = ce.mol\n",
    "    pdb_id = mol.GetConformer(0).GetProp('PDB_ID')\n",
    "    print(pdb_id)\n",
    "    ccdc_mols = [connector.rdkit_conf_to_ccdc_mol(mol, 0)]\n",
    "    for conf in mol.GetConformers() :\n",
    "        if conf.HasProp('Generator') :\n",
    "            ccdc_mols.append(connector.rdkit_conf_to_ccdc_mol(mol, conf.GetId()))\n",
    "    if len(ccdc_mols) == 101 :\n",
    "        try :\n",
    "            results.append(pharmacophore_searching(ccdc_mols, pdb_id))\n",
    "        except Exception as e :\n",
    "            print('Something went wrong')\n",
    "            print(str(e))"
   ]
  },
  {
   "cell_type": "code",
   "execution_count": 26,
   "id": "bb61f7b1-8d8e-4f93-9212-afba511d858c",
   "metadata": {},
   "outputs": [],
   "source": [
    "metric_values = defaultdict(list)\n",
    "for result in results :\n",
    "    for i in result :\n",
    "        if i != 'pdb_id' :\n",
    "            current_result = result[i]\n",
    "            for key in ['ccdc_ranking', 'model_ranking', 'rmsd_ranking', 'energy_ranking'] :\n",
    "                metric_values[key].append(len(current_result[key]))\n",
    "            metric_values['n_features'].append(i)"
   ]
  },
  {
   "cell_type": "code",
   "execution_count": 27,
   "id": "e9d78846-aa7c-4b16-962b-07a1003f871d",
   "metadata": {},
   "outputs": [],
   "source": [
    "table = pd.DataFrame(metric_values)"
   ]
  },
  {
   "cell_type": "code",
   "execution_count": 28,
   "id": "f45cf2ac-05cc-4fba-a5ca-fd036a6ac5f2",
   "metadata": {},
   "outputs": [],
   "source": [
    "table = table.melt(value_vars=['ccdc_ranking', 'model_ranking', 'rmsd_ranking', 'energy_ranking'], id_vars=['n_features'])"
   ]
  },
  {
   "cell_type": "code",
   "execution_count": 33,
   "id": "b75c6b00-4779-4500-a772-214c48fb0f08",
   "metadata": {},
   "outputs": [
    {
     "data": {
      "text/plain": [
       "<AxesSubplot:xlabel='n_features', ylabel='value'>"
      ]
     },
     "execution_count": 33,
     "metadata": {},
     "output_type": "execute_result"
    },
    {
     "data": {
      "image/png": "[encoded data removed]",
      "text/plain": [
       "<Figure size 432x288 with 1 Axes>"
      ]
     },
     "metadata": {
      "needs_background": "light"
     },
     "output_type": "display_data"
    }
   ],
   "source": [
    "sns.lineplot(x='n_features', y='value', hue='variable', data=table[table['n_features'] < 12])"
   ]
  }
 ],
 "metadata": {
  "kernelspec": {
   "display_name": "Python 3 (ipykernel)",
   "language": "python",
   "name": "python3"
  },
  "language_info": {
   "codemirror_mode": {
    "name": "ipython",
    "version": 3
   },
   "file_extension": ".py",
   "mimetype": "text/x-python",
   "name": "python",
   "nbconvert_exporter": "python",
   "pygments_lexer": "ipython3",
   "version": "3.7.10"
  }
 },
 "nbformat": 4,
 "nbformat_minor": 5
}
