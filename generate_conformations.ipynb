{
 "cells": [
  {
   "cell_type": "code",
   "execution_count": 1,
   "id": "0a43c0a5-b4b2-4404-a907-2d9eba8f081a",
   "metadata": {},
   "outputs": [],
   "source": [
    "from rdkit import Chem\n",
    "from ccdc_rdkit_connector import CcdcRdkitConnector\n",
    "from ccdc.conformer import ConformerGenerator\n",
    "from tqdm import tqdm\n",
    "\n",
    "import pickle\n",
    "import os\n",
    "import pandas as pd"
   ]
  },
  {
   "cell_type": "code",
   "execution_count": 2,
   "id": "daa20133-9be2-4765-9a20-885d530b2503",
   "metadata": {},
   "outputs": [],
   "source": [
    "# To be able to save conformer properties\n",
    "Chem.SetDefaultPickleProperties(Chem.PropertyPickleOptions.AllProps) "
   ]
  },
  {
   "cell_type": "code",
   "execution_count": 3,
   "id": "8eaf69f7-4fb0-41c5-9b4d-4b4fd21f919f",
   "metadata": {},
   "outputs": [],
   "source": [
    "data_dir_path = 'data/'"
   ]
  },
  {
   "cell_type": "code",
   "execution_count": 4,
   "id": "894c7210-d655-42fa-970d-c69359f2c0cf",
   "metadata": {},
   "outputs": [],
   "source": [
    "with open(os.path.join(data_dir_path, 'raw', 'all_conf_ensemble_library.p'), 'rb') as f :\n",
    "    all_CEL = pickle.load(f)"
   ]
  },
  {
   "cell_type": "code",
   "execution_count": 5,
   "id": "fa9d833f-9261-40e9-8c81-baa99190f634",
   "metadata": {},
   "outputs": [],
   "source": [
    "ccdc_rdkit_connector = CcdcRdkitConnector()"
   ]
  },
  {
   "cell_type": "code",
   "execution_count": 6,
   "id": "48a8b13b-3f73-4725-906b-0b04816f7655",
   "metadata": {},
   "outputs": [],
   "source": [
    "smiles_df = pd.read_csv(os.path.join(data_dir_path, 'smiles_df.csv'), index_col=0)"
   ]
  },
  {
   "cell_type": "code",
   "execution_count": 7,
   "id": "b70ac877-5aba-490d-9f81-e5991583ae71",
   "metadata": {},
   "outputs": [],
   "source": [
    "included_smiles = smiles_df[smiles_df['included']].values"
   ]
  },
  {
   "cell_type": "code",
   "execution_count": 8,
   "id": "15a448d9-cc27-4ac2-b342-d0b3755cb5db",
   "metadata": {
    "scrolled": true,
    "tags": []
   },
   "outputs": [
    {
     "name": "stderr",
     "output_type": "stream",
     "text": [
      "100%|███████████████████████████████████| 15949/15949 [00:14<00:00, 1084.65it/s]\n"
     ]
    }
   ],
   "source": [
    "initial_ccdc_mols = []\n",
    "corresponding_ce_mols = []\n",
    "for smiles, conf_ensemble in tqdm(all_CEL.get_unique_molecules()) :\n",
    "    if smiles in included_smiles : # see comments above\n",
    "        ccdc_mol = ccdc_rdkit_connector.rdkit_conf_to_ccdc_mol(conf_ensemble.mol)\n",
    "        assert conf_ensemble.mol.GetNumAtoms() == len(ccdc_mol.atoms)\n",
    "        initial_ccdc_mols.append(ccdc_mol)\n",
    "        corresponding_ce_mols.append(conf_ensemble.mol)"
   ]
  },
  {
   "cell_type": "code",
   "execution_count": 9,
   "id": "4953083d-1c2e-4914-88ca-6d5c5c40a9cf",
   "metadata": {},
   "outputs": [],
   "source": [
    "n_conf_per_chunk = 100\n",
    "chunk_idxs = [list(range(i, i + n_conf_per_chunk)) for i in range(0, len(initial_ccdc_mols), n_conf_per_chunk)]"
   ]
  },
  {
   "cell_type": "code",
   "execution_count": 10,
   "id": "76aabe76-05b1-44d1-adae-5d0909150d7f",
   "metadata": {},
   "outputs": [
    {
     "data": {
      "text/plain": [
       "15666"
      ]
     },
     "execution_count": 10,
     "metadata": {},
     "output_type": "execute_result"
    }
   ],
   "source": [
    "len(initial_ccdc_mols)"
   ]
  },
  {
   "cell_type": "code",
   "execution_count": 13,
   "id": "a4550908-9a67-406f-b837-8f7165adc739",
   "metadata": {},
   "outputs": [
    {
     "name": "stdout",
     "output_type": "stream",
     "text": [
      "INFO: /home/baillifb/CCDC/CSD_2021/bin/mogul\n",
      "INFO: /home/baillifb/CCDC/CSD_2021/bin/mogul\n",
      "INFO: /home/baillifb/CCDC/CSD_2021/bin/mogul\n",
      "INFO: /home/baillifb/CCDC/CSD_2021/bin/mogul\n",
      "INFO: /home/baillifb/CCDC/CSD_2021/bin/mogul\n",
      "INFO: /home/baillifb/CCDC/CSD_2021/bin/mogul\n",
      "INFO: /home/baillifb/CCDC/CSD_2021/bin/mogul\n",
      "INFO: /home/baillifb/CCDC/CSD_2021/bin/mogul\n"
     ]
    }
   ],
   "source": [
    "ccdc_conformer_generator = ConformerGenerator(nthreads=8)\n",
    "ccdc_conformer_generator.settings.max_conformers = 100"
   ]
  },
  {
   "cell_type": "code",
   "execution_count": 12,
   "id": "fa0539d5-6c75-4de0-9010-7e17098e5ecf",
   "metadata": {
    "tags": []
   },
   "outputs": [
    {
     "name": "stderr",
     "output_type": "stream",
     "text": [
      "  0%|                                                   | 0/157 [00:00<?, ?it/s]"
     ]
    },
    {
     "name": "stdout",
     "output_type": "stream",
     "text": [
      "INFO: /home/baillifb/CCDC/CSD_2021/bin/mogul\n",
      "INFO: /home/baillifb/CCDC/CSD_2021/bin/mogul\n",
      "INFO: /home/baillifb/CCDC/CSD_2021/bin/mogul\n",
      "INFO: /home/baillifb/CCDC/CSD_2021/bin/mogul\n"
     ]
    },
    {
     "name": "stderr",
     "output_type": "stream",
     "text": [
      "  1%|▎                                        | 1/157 [00:33<1:27:20, 33.59s/it]"
     ]
    },
    {
     "name": "stdout",
     "output_type": "stream",
     "text": [
      "INFO: /home/baillifb/CCDC/CSD_2021/bin/mogul\n"
     ]
    },
    {
     "name": "stderr",
     "output_type": "stream",
     "text": [
      "  1%|▌                                        | 2/157 [01:02<1:18:57, 30.56s/it]"
     ]
    },
    {
     "name": "stdout",
     "output_type": "stream",
     "text": [
      "INFO: /home/baillifb/CCDC/CSD_2021/bin/mogul\n",
      "INFO: /home/baillifb/CCDC/CSD_2021/bin/mogul\n",
      "INFO: /home/baillifb/CCDC/CSD_2021/bin/mogul\n",
      "INFO: /home/baillifb/CCDC/CSD_2021/bin/mogul\n",
      "INFO: /home/baillifb/CCDC/CSD_2021/bin/mogul\n",
      "INFO: /home/baillifb/CCDC/CSD_2021/bin/mogul\n",
      "INFO: /home/baillifb/CCDC/CSD_2021/bin/mogul\n",
      "INFO: /home/baillifb/CCDC/CSD_2021/bin/mogul\n"
     ]
    },
    {
     "name": "stderr",
     "output_type": "stream",
     "text": [
      "  2%|▊                                        | 3/157 [01:31<1:16:59, 29.99s/it]"
     ]
    },
    {
     "name": "stdout",
     "output_type": "stream",
     "text": [
      "INFO: /home/baillifb/CCDC/CSD_2021/bin/mogul\n",
      "INFO: /home/baillifb/CCDC/CSD_2021/bin/mogul\n",
      "INFO: /home/baillifb/CCDC/CSD_2021/bin/mogul\n",
      "INFO: /home/baillifb/CCDC/CSD_2021/bin/mogul\n"
     ]
    },
    {
     "name": "stderr",
     "output_type": "stream",
     "text": [
      "  3%|█                                        | 4/157 [01:56<1:11:31, 28.05s/it]"
     ]
    },
    {
     "name": "stdout",
     "output_type": "stream",
     "text": [
      "INFO: /home/baillifb/CCDC/CSD_2021/bin/mogul\n",
      "INFO: /home/baillifb/CCDC/CSD_2021/bin/mogul\n",
      "INFO: /home/baillifb/CCDC/CSD_2021/bin/mogul\n",
      "INFO: /home/baillifb/CCDC/CSD_2021/bin/mogul\n"
     ]
    },
    {
     "name": "stderr",
     "output_type": "stream",
     "text": [
      "  3%|█▎                                       | 5/157 [03:07<1:35:06, 37.55s/it]"
     ]
    },
    {
     "name": "stdout",
     "output_type": "stream",
     "text": [
      "INFO: /home/baillifb/CCDC/CSD_2021/bin/mogul\n",
      "INFO: /home/baillifb/CCDC/CSD_2021/bin/mogul\n",
      "INFO: /home/baillifb/CCDC/CSD_2021/bin/mogul\n"
     ]
    },
    {
     "name": "stderr",
     "output_type": "stream",
     "text": [
      "\n"
     ]
    },
    {
     "ename": "KeyboardInterrupt",
     "evalue": "",
     "output_type": "error",
     "traceback": [
      "\u001b[0;31m---------------------------------------------------------------------------\u001b[0m",
      "\u001b[0;31mKeyboardInterrupt\u001b[0m                         Traceback (most recent call last)",
      "\u001b[0;32m/tmp/ipykernel_37160/1066356166.py\u001b[0m in \u001b[0;36m<module>\u001b[0;34m\u001b[0m\n\u001b[1;32m      4\u001b[0m     \u001b[0mce_mols\u001b[0m \u001b[0;34m=\u001b[0m \u001b[0;34m[\u001b[0m\u001b[0mmol\u001b[0m \u001b[0;32mfor\u001b[0m \u001b[0mi\u001b[0m\u001b[0;34m,\u001b[0m \u001b[0mmol\u001b[0m \u001b[0;32min\u001b[0m \u001b[0menumerate\u001b[0m\u001b[0;34m(\u001b[0m\u001b[0mcorresponding_ce_mols\u001b[0m\u001b[0;34m)\u001b[0m \u001b[0;32mif\u001b[0m \u001b[0mi\u001b[0m \u001b[0;32min\u001b[0m \u001b[0mchunk_idx\u001b[0m\u001b[0;34m]\u001b[0m\u001b[0;34m\u001b[0m\u001b[0;34m\u001b[0m\u001b[0m\n\u001b[1;32m      5\u001b[0m \u001b[0;34m\u001b[0m\u001b[0m\n\u001b[0;32m----> 6\u001b[0;31m     \u001b[0mconformers\u001b[0m \u001b[0;34m=\u001b[0m \u001b[0mccdc_conformer_generator\u001b[0m\u001b[0;34m.\u001b[0m\u001b[0mgenerate\u001b[0m\u001b[0;34m(\u001b[0m\u001b[0mmol_list\u001b[0m\u001b[0;34m)\u001b[0m\u001b[0;34m\u001b[0m\u001b[0;34m\u001b[0m\u001b[0m\n\u001b[0m\u001b[1;32m      7\u001b[0m \u001b[0;34m\u001b[0m\u001b[0m\n\u001b[1;32m      8\u001b[0m     \u001b[0;32mfor\u001b[0m \u001b[0mce_mol\u001b[0m\u001b[0;34m,\u001b[0m \u001b[0mconformers\u001b[0m \u001b[0;32min\u001b[0m \u001b[0mzip\u001b[0m\u001b[0;34m(\u001b[0m\u001b[0mce_mols\u001b[0m\u001b[0;34m,\u001b[0m \u001b[0mconformers\u001b[0m\u001b[0;34m)\u001b[0m \u001b[0;34m:\u001b[0m\u001b[0;34m\u001b[0m\u001b[0;34m\u001b[0m\u001b[0m\n",
      "\u001b[0;32m~/anaconda3/envs/GeoMol/lib/python3.7/site-packages/ccdc/conformer.py\u001b[0m in \u001b[0;36mgenerate\u001b[0;34m(self, mols)\u001b[0m\n\u001b[1;32m    570\u001b[0m \u001b[0;34m\u001b[0m\u001b[0m\n\u001b[1;32m    571\u001b[0m             od = self._conformer_generator.generate_conformers(\n\u001b[0;32m--> 572\u001b[0;31m                 \u001b[0;34m[\u001b[0m\u001b[0mm\u001b[0m\u001b[0;34m.\u001b[0m\u001b[0m_molecule\u001b[0m \u001b[0;32mfor\u001b[0m \u001b[0mm\u001b[0m \u001b[0;32min\u001b[0m \u001b[0mmols\u001b[0m\u001b[0;34m]\u001b[0m\u001b[0;34m\u001b[0m\u001b[0;34m\u001b[0m\u001b[0m\n\u001b[0m\u001b[1;32m    573\u001b[0m             )\n\u001b[1;32m    574\u001b[0m             des = [\n",
      "\u001b[0;32m~/anaconda3/envs/GeoMol/lib/python3.7/site-packages/ccdc/_lib/ConformerGeneratorLib.py\u001b[0m in \u001b[0;36mgenerate_conformers\u001b[0;34m(self, molecules)\u001b[0m\n\u001b[1;32m    649\u001b[0m \u001b[0;34m\u001b[0m\u001b[0m\n\u001b[1;32m    650\u001b[0m     \u001b[0;32mdef\u001b[0m \u001b[0mgenerate_conformers\u001b[0m\u001b[0;34m(\u001b[0m\u001b[0mself\u001b[0m\u001b[0;34m,\u001b[0m \u001b[0mmolecules\u001b[0m\u001b[0;34m)\u001b[0m\u001b[0;34m:\u001b[0m\u001b[0;34m\u001b[0m\u001b[0;34m\u001b[0m\u001b[0m\n\u001b[0;32m--> 651\u001b[0;31m         \u001b[0;32mreturn\u001b[0m \u001b[0m_ConformerGeneratorLib\u001b[0m\u001b[0;34m.\u001b[0m\u001b[0mGenerateConformersWorkFlow_generate_conformers\u001b[0m\u001b[0;34m(\u001b[0m\u001b[0mself\u001b[0m\u001b[0;34m,\u001b[0m \u001b[0mmolecules\u001b[0m\u001b[0;34m)\u001b[0m\u001b[0;34m\u001b[0m\u001b[0;34m\u001b[0m\u001b[0m\n\u001b[0m\u001b[1;32m    652\u001b[0m \u001b[0;34m\u001b[0m\u001b[0m\n\u001b[1;32m    653\u001b[0m     \u001b[0;32mdef\u001b[0m \u001b[0mfailed_molecules_minimisation\u001b[0m\u001b[0;34m(\u001b[0m\u001b[0mself\u001b[0m\u001b[0;34m)\u001b[0m\u001b[0;34m:\u001b[0m\u001b[0;34m\u001b[0m\u001b[0;34m\u001b[0m\u001b[0m\n",
      "\u001b[0;31mKeyboardInterrupt\u001b[0m: "
     ]
    }
   ],
   "source": [
    "for chunk_idx in tqdm(chunk_idxs) :\n",
    "    \n",
    "    mol_list = [mol for i, mol in enumerate(initial_ccdc_mols) if i in chunk_idx]\n",
    "    ce_mols = [mol for i, mol in enumerate(corresponding_ce_mols) if i in chunk_idx]\n",
    "    \n",
    "    conformers = ccdc_conformer_generator.generate(mol_list)\n",
    "    \n",
    "    for ce_mol, conformers in zip(ce_mols, conformers) :\n",
    "        try :\n",
    "            generated_conf_ids = ccdc_rdkit_connector.ccdc_conformers_to_rdkit_mol(conformers, ce_mol)\n",
    "        except Exception as e :\n",
    "            print(e)"
   ]
  },
  {
   "cell_type": "code",
   "execution_count": null,
   "id": "9e359c1d-d648-4eb9-a703-cf630a56315c",
   "metadata": {},
   "outputs": [],
   "source": []
  },
  {
   "cell_type": "code",
   "execution_count": null,
   "id": "01090813-bbe8-455a-8209-422f4539d43f",
   "metadata": {},
   "outputs": [],
   "source": [
    "with open(os.path.join(data_dir_path, 'raw', 'ccdc_generated_conf_ensemble_library_unfiltered.p'), 'wb') as f :\n",
    "    pickle.dump(all_CEL, f)\n",
    "    \n",
    "# here we only have the molecules parsed identically by RDKit (from mol2) and CSD (from smiles)"
   ]
  },
  {
   "cell_type": "code",
   "execution_count": null,
   "id": "54560ccc-a93a-46c1-b326-5ffcd075fd53",
   "metadata": {},
   "outputs": [],
   "source": [
    "faulty_smiles = ['O=C[Ru+9]12345(C6=C1C2C3=C64)n1c2ccc(O)cc2c2c3c(c4ccc[n+]5c4c21)C(=O)NC3=O',\n",
    " 'Cc1cc2c3c(c4c5ccccc5n5c4c2[n+](c1)[Ru+9]51246(Cl)C5=C(C(=O)[O-])C1=C2C4=C56)C(=O)NC3=O']\n",
    "# cannot be pickled because of a number of radical electron error"
   ]
  },
  {
   "cell_type": "code",
   "execution_count": null,
   "id": "a3b15ac6-e3ce-4e57-92a2-13b4781f0bd0",
   "metadata": {},
   "outputs": [],
   "source": [
    "smiles_df.loc[smiles_df['smiles'].isin(faulty_smiles), 'included'] = False"
   ]
  },
  {
   "cell_type": "code",
   "execution_count": null,
   "id": "b03372f4-36e4-43cc-9e91-3e90d187f5e6",
   "metadata": {},
   "outputs": [],
   "source": [
    "smiles_df.to_csv(os.path.join(data_dir_path, 'smiles_df.csv'))"
   ]
  },
  {
   "cell_type": "code",
   "execution_count": null,
   "id": "79402f0d-df3c-4bd1-9db1-dc50710a61ff",
   "metadata": {},
   "outputs": [],
   "source": [
    "excluded_smiles = smiles_df[~smiles_df['included']]['smiles'].values"
   ]
  },
  {
   "cell_type": "code",
   "execution_count": null,
   "id": "b91d3172-1aad-4bf3-be12-177b260cd21e",
   "metadata": {},
   "outputs": [],
   "source": [
    "len(excluded_smiles)"
   ]
  },
  {
   "cell_type": "code",
   "execution_count": null,
   "id": "17155d43-b262-4923-8013-eab197b01a29",
   "metadata": {},
   "outputs": [],
   "source": [
    "for smiles in excluded_smiles :\n",
    "    all_CEL.library.pop(smiles)"
   ]
  },
  {
   "cell_type": "code",
   "execution_count": null,
   "id": "f8acc6d9-7983-4153-a11e-7b956c1759d2",
   "metadata": {},
   "outputs": [],
   "source": [
    "all_CEL.get_num_molecules()"
   ]
  },
  {
   "cell_type": "code",
   "execution_count": null,
   "id": "0e6e47d5-308e-4976-9bda-9f8c45d46947",
   "metadata": {},
   "outputs": [],
   "source": [
    "with open(os.path.join(data_dir_path, 'raw', 'ccdc_generated_conf_ensemble_library.p'), 'wb') as f :\n",
    "    pickle.dump(all_CEL, f)"
   ]
  },
  {
   "cell_type": "markdown",
   "id": "fd90dd53-905a-4050-b590-07b6513e787d",
   "metadata": {},
   "source": [
    "# Generate conf table for data file creation torch geometric"
   ]
  },
  {
   "cell_type": "code",
   "execution_count": 6,
   "id": "0f75fb7e-6008-44f9-a74e-23d23acf2056",
   "metadata": {},
   "outputs": [],
   "source": [
    "with open(os.path.join(data_dir_path, 'raw', 'ccdc_generated_conf_ensemble_library.p'), 'rb') as f :\n",
    "    all_CEL = pickle.load(f)"
   ]
  },
  {
   "cell_type": "code",
   "execution_count": 7,
   "id": "4d5dd03e-84aa-4d36-9a68-bbf61e12cfad",
   "metadata": {},
   "outputs": [],
   "source": [
    "smiles_df = pd.read_csv(os.path.join(data_dir_path, 'smiles_df.csv'))"
   ]
  },
  {
   "cell_type": "code",
   "execution_count": 11,
   "id": "9f15d648-12c9-480d-a716-8d5e79ad0cf3",
   "metadata": {},
   "outputs": [],
   "source": [
    "conf_list = []\n",
    "for smiles in smiles_df[smiles_df['included']]['smiles'].values :\n",
    "    confs = all_CEL.get_conf_ensemble(smiles).mol.GetConformers()\n",
    "    for conf in confs :\n",
    "        generated = 'Generator' in conf.GetPropsAsDict()\n",
    "        conf_list.append([smiles, generated])"
   ]
  },
  {
   "cell_type": "code",
   "execution_count": 12,
   "id": "cf306b86-1181-4b9c-a83c-be7c94f1cc9a",
   "metadata": {},
   "outputs": [
    {
     "data": {
      "text/plain": [
       "1165920"
      ]
     },
     "execution_count": 12,
     "metadata": {},
     "output_type": "execute_result"
    }
   ],
   "source": [
    "len(conf_list)"
   ]
  },
  {
   "cell_type": "code",
   "execution_count": 13,
   "id": "643f9b11-4864-4819-aa19-34893be39797",
   "metadata": {},
   "outputs": [],
   "source": [
    "conf_df = pd.DataFrame(conf_list, columns=['smiles', 'generated'])"
   ]
  },
  {
   "cell_type": "code",
   "execution_count": 15,
   "id": "fa0a3356-37ad-4770-9d62-c6d7c97640fc",
   "metadata": {},
   "outputs": [],
   "source": [
    "conf_df.to_csv(os.path.join(data_dir_path, 'conf_df.csv'))"
   ]
  }
 ],
 "metadata": {
  "kernelspec": {
   "display_name": "Python 3 (ipykernel)",
   "language": "python",
   "name": "python3"
  },
  "language_info": {
   "codemirror_mode": {
    "name": "ipython",
    "version": 3
   },
   "file_extension": ".py",
   "mimetype": "text/x-python",
   "name": "python",
   "nbconvert_exporter": "python",
   "pygments_lexer": "ipython3",
   "version": "3.7.10"
  }
 },
 "nbformat": 4,
 "nbformat_minor": 5
}
