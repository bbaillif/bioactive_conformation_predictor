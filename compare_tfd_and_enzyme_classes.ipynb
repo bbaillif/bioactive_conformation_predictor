{
 "cells": [
  {
   "cell_type": "code",
   "execution_count": null,
   "id": "90a221b9-a840-43a8-acc6-1e6d6da72786",
   "metadata": {},
   "outputs": [],
   "source": [
    "import pandas as pd\n",
    "import os\n",
    "import matplotlib.pyplot as plt\n",
    "import seaborn as sns\n",
    "import numpy as np\n",
    "from tqdm import tqdm\n",
    "from rdkit import Chem\n",
    "from data.utils.similarity_search import SimilaritySearch\n",
    "from conf_ensemble import ConfEnsembleLibrary\n",
    "from rankers.tfd_ranker_sim import TFD2SimRefMCSRanker\n",
    "from data.utils.enzyme_connector import ENZYMEConnector\n",
    "from data.utils.pdbbind import PDBbindMetadataProcessor\n",
    "from data.utils.chembl_connector import ChEMBLConnector\n",
    "from collections import defaultdict\n",
    "from rdkit.Chem.rdFMCS import FindMCS\n",
    "from rdkit.Chem.TorsionFingerprints import GetTFDMatrix\n",
    "from rdkit.Chem.rdchem import Mol, EditableMol"
   ]
  },
  {
   "cell_type": "code",
   "execution_count": null,
   "id": "4bf48302-bf3f-4706-8517-58e5e673249a",
   "metadata": {},
   "outputs": [],
   "source": [
    "figures_dir = '../hdd/pdbbind_bioactive/figures/'"
   ]
  },
  {
   "cell_type": "code",
   "execution_count": null,
   "id": "ac32afeb-2e5e-427d-b2e0-9beb9fcccfd4",
   "metadata": {},
   "outputs": [],
   "source": [
    "root = '../hdd/pdbbind_bioactive/data'\n",
    "\n",
    "\n",
    "cel_df = pd.read_csv(os.path.join(root, 'pdb_conf_ensembles', 'ensemble_names.csv'))\n",
    "pdb_df = pd.read_csv(os.path.join(root, 'pdb_conf_ensembles', 'pdb_df.csv'))\n",
    "pdb_df = pdb_df.merge(cel_df, left_on='ligand_name', right_on='ensemble_name')\n",
    "pdbbind_df = PDBbindMetadataProcessor().get_master_dataframe()\n",
    "pdbbind_df = pdbbind_df.merge(pdb_df, left_on='PDB code', right_on='pdb_id')"
   ]
  },
  {
   "cell_type": "code",
   "execution_count": null,
   "id": "1b970370-4a3f-43b4-8cbe-877a85a7d206",
   "metadata": {},
   "outputs": [],
   "source": [
    "len(pdbbind_df['PDB code'].unique())"
   ]
  },
  {
   "cell_type": "code",
   "execution_count": null,
   "id": "a746383d-875a-4a25-8b36-5359b02dee4c",
   "metadata": {},
   "outputs": [],
   "source": [
    "cc = ChEMBLConnector()\n",
    "chembl_table = cc.get_target_table(level=1)\n",
    "pdbbind_df = pdbbind_df.merge(chembl_table, left_on='Uniprot ID', right_on='accession')"
   ]
  },
  {
   "cell_type": "code",
   "execution_count": null,
   "id": "b1051f06-cf09-4f43-aa16-0b89386e7b79",
   "metadata": {},
   "outputs": [],
   "source": [
    "len(pdbbind_df['PDB code'].unique())"
   ]
  },
  {
   "cell_type": "code",
   "execution_count": null,
   "id": "916e217a-b4f0-484e-adcb-643acddb7e36",
   "metadata": {},
   "outputs": [],
   "source": [
    "9428 / 13460"
   ]
  },
  {
   "cell_type": "code",
   "execution_count": null,
   "id": "0eeaab97-997f-4981-a3a7-2c3217778929",
   "metadata": {},
   "outputs": [],
   "source": [
    "pdbbind_df['level1'].value_counts()"
   ]
  },
  {
   "cell_type": "code",
   "execution_count": null,
   "id": "dd2e74f0-208f-4daa-a0e2-c2f99d9e02b8",
   "metadata": {},
   "outputs": [],
   "source": [
    "7322/9428"
   ]
  },
  {
   "cell_type": "code",
   "execution_count": null,
   "id": "557018ad-fa5f-4751-98b4-ed1d15e8381a",
   "metadata": {},
   "outputs": [],
   "source": []
  },
  {
   "cell_type": "code",
   "execution_count": null,
   "id": "297dd27f-036c-4a40-b68e-df3c875a1fee",
   "metadata": {},
   "outputs": [],
   "source": [
    "ec = ENZYMEConnector()\n",
    "enzyme_table = ec.get_table()\n",
    "pdbbind_df = pdbbind_df.merge(enzyme_table, left_on='Uniprot ID', right_on='uniprot_id')"
   ]
  },
  {
   "cell_type": "code",
   "execution_count": null,
   "id": "cac10683-3237-4b0c-b757-0cd1cb1e0896",
   "metadata": {},
   "outputs": [],
   "source": [
    "len(pdbbind_df['PDB code'].unique())"
   ]
  },
  {
   "cell_type": "code",
   "execution_count": null,
   "id": "47111415-dc8d-4264-8a64-cc3209bad59c",
   "metadata": {},
   "outputs": [],
   "source": [
    "cel = ConfEnsembleLibrary()"
   ]
  },
  {
   "cell_type": "code",
   "execution_count": null,
   "id": "9fddce6d-ff82-4e21-a956-84853549bb92",
   "metadata": {},
   "outputs": [],
   "source": [
    "ss = SimilaritySearch(cel_df['smiles'].values)"
   ]
  },
  {
   "cell_type": "code",
   "execution_count": null,
   "id": "b5183755-17af-4a1f-b232-2063b264c500",
   "metadata": {},
   "outputs": [],
   "source": [
    "def get_editable_mol_match(mol, match):\n",
    "    edit_mol = EditableMol(mol)\n",
    "    idx_to_remove = []\n",
    "    for a in mol.GetAtoms():\n",
    "        atom_idx = a.GetIdx()\n",
    "        if not atom_idx in match:\n",
    "            idx_to_remove.append(atom_idx)\n",
    "    for idx in reversed(idx_to_remove):\n",
    "        edit_mol.RemoveAtom(idx)\n",
    "    return edit_mol\n",
    "\n",
    "def get_full_matrix_from_tril(tril_matrix, n):\n",
    "    matrix = np.zeros((n, n))\n",
    "    i=1\n",
    "    j=0\n",
    "    for v in tril_matrix:\n",
    "        matrix[i, j] = matrix[j, i] = v\n",
    "        j = j + 1\n",
    "        if j == i:\n",
    "            i = i + 1\n",
    "            j = 0\n",
    "    return matrix"
   ]
  },
  {
   "cell_type": "code",
   "execution_count": null,
   "id": "d09548ba-a8b4-4225-afe3-ad917cb0efa0",
   "metadata": {
    "scrolled": true,
    "tags": []
   },
   "outputs": [],
   "source": [
    "min_tfds = {}\n",
    "original_ec = defaultdict(list)\n",
    "closest_ec = defaultdict(list)\n",
    "mcs_sizes = {}\n",
    "for ligand_name, ce in tqdm(cel.library.items()):\n",
    "    try:\n",
    "        mol = ce.mol\n",
    "        smiles = Chem.MolToSmiles(mol)\n",
    "\n",
    "        closest_smiles_list, sim = ss.find_closest_in_set(smiles)\n",
    "        closest_smiles = closest_smiles_list[0]\n",
    "        closest_name = cel_df[cel_df['smiles'] == closest_smiles]['ensemble_name'].values[0]\n",
    "        closest_ce = cel.library[closest_name]\n",
    "        closest_mol = closest_ce.mol\n",
    "\n",
    "        ref_mol = closest_mol\n",
    "\n",
    "        mcs = FindMCS([ref_mol, mol], \n",
    "                      timeout=5, \n",
    "                      matchChiralTag=True,)\n",
    "                    #   ringMatchesRingOnly=True)\n",
    "        smarts = mcs.smartsString\n",
    "        mcs_mol = Chem.MolFromSmarts(smarts)\n",
    "\n",
    "        ref_mol_match = ref_mol.GetSubstructMatch(mcs_mol)\n",
    "        pdb_edit_mol = get_editable_mol_match(ref_mol, ref_mol_match)\n",
    "        new_ref_mol = pdb_edit_mol.GetMol()\n",
    "        new_pdb_match = new_ref_mol.GetSubstructMatch(mcs_mol)\n",
    "        new_ref_mol = Chem.RenumberAtoms(new_ref_mol, new_pdb_match)\n",
    "\n",
    "        mol_match = mol.GetSubstructMatch(mcs_mol)\n",
    "        gen_edit_mol = get_editable_mol_match(mol, mol_match)\n",
    "        new_mol = gen_edit_mol.GetMol()\n",
    "        new_gen_match = new_mol.GetSubstructMatch(mcs_mol)\n",
    "        new_mol = Chem.RenumberAtoms(new_mol, new_gen_match)\n",
    "\n",
    "        bio_conf_idx = []\n",
    "        for conf in new_ref_mol.GetConformers():\n",
    "            conf_id = mcs_mol.AddConformer(conf, assignId=True)\n",
    "            bio_conf_idx.append(conf_id)\n",
    "\n",
    "        gen_conf_idx = []\n",
    "        for conf in new_mol.GetConformers():\n",
    "            conf_id = mcs_mol.AddConformer(conf, assignId=True)\n",
    "            gen_conf_idx.append(conf_id)\n",
    "    \n",
    "        Chem.SanitizeMol(mcs_mol)\n",
    "        tfd_matrix = GetTFDMatrix(mcs_mol)\n",
    "        tfd_matrix = get_full_matrix_from_tril(tfd_matrix, \n",
    "                                                n=mcs_mol.GetNumConformers())\n",
    "\n",
    "        n_ref_confs = len(bio_conf_idx)\n",
    "        tfds = tfd_matrix[:n_ref_confs, n_ref_confs:]\n",
    "        min_tfd = tfds.min(0)\n",
    "\n",
    "        if len(min_tfd) == mol.GetNumConformers() :\n",
    "            mcs_sizes[ligand_name] = mcs_mol.GetNumHeavyAtoms()\n",
    "            min_tfds[ligand_name] = min_tfd.min()\n",
    "\n",
    "            subset_pdbbind_df = pdbbind_df[pdbbind_df['smiles'] == smiles]\n",
    "            ecs = subset_pdbbind_df['level_4'].values\n",
    "            for ec in ecs:\n",
    "                original_ec[ligand_name].append(ec)\n",
    "\n",
    "            subset_pdbbind_df = pdbbind_df[pdbbind_df['smiles'] == closest_smiles]\n",
    "            ecs = subset_pdbbind_df['level_4'].values\n",
    "            for ec in ecs:\n",
    "                closest_ec[ligand_name].append(ec)\n",
    "    except:\n",
    "        pass"
   ]
  },
  {
   "cell_type": "code",
   "execution_count": null,
   "id": "15f05a08-afd1-46e8-a1cd-61fe2ce68d65",
   "metadata": {},
   "outputs": [],
   "source": [
    "equals = []\n",
    "not_in_closest = []\n",
    "no_closest = []\n",
    "for ligand_name, ecs1 in original_ec.items():\n",
    "    \n",
    "    closest_is_original = False\n",
    "    if ligand_name in closest_ec:\n",
    "        \n",
    "        ecs2 = closest_ec[ligand_name]\n",
    "        for ec1 in ecs1:\n",
    "            if ec1 in ecs2:\n",
    "                closest_is_original = True\n",
    "                break\n",
    "                \n",
    "        if closest_is_original:\n",
    "            equals.append(ligand_name)\n",
    "        else:\n",
    "            not_in_closest.append(ligand_name)\n",
    "            \n",
    "    else:\n",
    "        no_closest.append(ligand_name)"
   ]
  },
  {
   "cell_type": "code",
   "execution_count": null,
   "id": "2bad2cfc-f566-4538-8b51-82f0c0e6df95",
   "metadata": {},
   "outputs": [],
   "source": [
    "len(equals)"
   ]
  },
  {
   "cell_type": "code",
   "execution_count": null,
   "id": "4dbd47e8-2c0a-48d4-8308-7908fd00b7d4",
   "metadata": {},
   "outputs": [],
   "source": [
    "len(not_in_closest)"
   ]
  },
  {
   "cell_type": "code",
   "execution_count": null,
   "id": "54223cc2-9b29-40c0-ab6b-db57a6192406",
   "metadata": {},
   "outputs": [],
   "source": [
    "4494 / (4494 + 1503)"
   ]
  },
  {
   "cell_type": "code",
   "execution_count": null,
   "id": "ee230143-bcfa-4803-b270-ac6cf9ab8e80",
   "metadata": {},
   "outputs": [],
   "source": [
    "len(no_closest)"
   ]
  },
  {
   "cell_type": "code",
   "execution_count": null,
   "id": "c090b151-a1ac-4580-aca9-4eab5faec3be",
   "metadata": {},
   "outputs": [],
   "source": [
    "rows = []\n",
    "for ligand_name, tfd in min_tfds.items():\n",
    "    row = {}\n",
    "    row['Ligand name'] = ligand_name\n",
    "    row['TFD'] = tfd\n",
    "    ec = None\n",
    "    if ligand_name in equals:\n",
    "        ec = 'Same as closest reference molecule'\n",
    "    if ligand_name in not_in_closest:\n",
    "        ec = 'Different to closest reference molecule'\n",
    "    row['Enzyme class'] = ec\n",
    "    row['MCS size'] = mcs_sizes[ligand_name]\n",
    "    rows.append(row)"
   ]
  },
  {
   "cell_type": "code",
   "execution_count": null,
   "id": "57700e5e-e5cc-4f63-85f1-c8943b9b0c1b",
   "metadata": {},
   "outputs": [],
   "source": [
    "df = pd.DataFrame(rows)"
   ]
  },
  {
   "cell_type": "code",
   "execution_count": null,
   "id": "e238f266-aad9-4e46-9786-b66421be7882",
   "metadata": {},
   "outputs": [],
   "source": [
    "def custom_agg(series) :\n",
    "    result = ''\n",
    "    \n",
    "    mean = series.mean().round(2)\n",
    "    if not np.isnan(mean) :\n",
    "        result = result + str(mean)\n",
    "        \n",
    "    std = series.std().round(2)\n",
    "    if not np.isnan(std) :\n",
    "        result = result + ' ± ' + str(std)\n",
    "    \n",
    "    if result == '' :\n",
    "        result = 'NA'\n",
    "    return result"
   ]
  },
  {
   "cell_type": "code",
   "execution_count": null,
   "id": "5691cce8-18b4-41d4-bbd7-a29bd2556838",
   "metadata": {},
   "outputs": [],
   "source": [
    "df.groupby('Enzyme class').agg(custom_agg)"
   ]
  },
  {
   "cell_type": "code",
   "execution_count": null,
   "id": "cb78a076-13af-4a8f-8e84-e081eefab963",
   "metadata": {},
   "outputs": [],
   "source": [
    "df.groupby('Enzyme class').median()"
   ]
  },
  {
   "cell_type": "code",
   "execution_count": null,
   "id": "baf4d3ed-66c1-42af-b5c6-10efecc111c8",
   "metadata": {},
   "outputs": [],
   "source": [
    "sns.histplot(data=df,\n",
    "            x='MCS size',\n",
    "            hue='Enzyme class',\n",
    "            stat='proportion',\n",
    "            common_norm=False)\n",
    "plt.xlabel('Size of the MCS to the closest reference molecule \\n (number of heavy atoms)')\n",
    "plt.savefig(os.path.join(figures_dir, 'TFD_MCS_distribution_hist.png'),\n",
    "           dpi=300,\n",
    "           bbox_inches='tight')"
   ]
  },
  {
   "cell_type": "code",
   "execution_count": null,
   "id": "519252d9-81e5-4a44-93e5-6cf94d18da6b",
   "metadata": {},
   "outputs": [],
   "source": [
    "sns.histplot(data=df,\n",
    "            x='TFD',\n",
    "            hue='Enzyme class',\n",
    "            stat='proportion',\n",
    "            common_norm=False)\n",
    "plt.xlabel('TFD of the MCS to the closest reference molecule')\n",
    "plt.savefig(os.path.join(figures_dir, 'TFD_EC_distribution_hist.png'),\n",
    "           dpi=300,\n",
    "           bbox_inches='tight')"
   ]
  },
  {
   "cell_type": "code",
   "execution_count": null,
   "id": "d201a38d-788c-4d66-8e42-fb2d6523b532",
   "metadata": {},
   "outputs": [],
   "source": [
    "sns.kdeplot(data=df,\n",
    "            x='TFD',\n",
    "            hue='Enzyme class',\n",
    "           common_norm=False)\n",
    "plt.savefig(os.path.join(figures_dir, 'TFD_EC_distribution_hist.png'),\n",
    "           dpi=300,\n",
    "           bbox_inches='tight')"
   ]
  },
  {
   "cell_type": "code",
   "execution_count": null,
   "id": "edce8bcf-0878-4870-900c-9d7ec26da390",
   "metadata": {},
   "outputs": [],
   "source": [
    "mt = [tfd for ligand_name, tfd in min_tfds.items()]"
   ]
  },
  {
   "cell_type": "code",
   "execution_count": null,
   "id": "77f3b0f8-db2f-487b-8b7c-0d1f38cf5cdb",
   "metadata": {},
   "outputs": [],
   "source": [
    "sns.ecdfplot(data=mt)"
   ]
  },
  {
   "cell_type": "code",
   "execution_count": null,
   "id": "576ec6a7-0bc4-4aae-bb8d-84fcfe82e39f",
   "metadata": {},
   "outputs": [],
   "source": [
    "plt.hist(mt)"
   ]
  }
 ],
 "metadata": {
  "kernelspec": {
   "display_name": "Python 3 (ipykernel)",
   "language": "python",
   "name": "python3"
  },
  "language_info": {
   "codemirror_mode": {
    "name": "ipython",
    "version": 3
   },
   "file_extension": ".py",
   "mimetype": "text/x-python",
   "name": "python",
   "nbconvert_exporter": "python",
   "pygments_lexer": "ipython3",
   "version": "3.7.10"
  }
 },
 "nbformat": 4,
 "nbformat_minor": 5
}
