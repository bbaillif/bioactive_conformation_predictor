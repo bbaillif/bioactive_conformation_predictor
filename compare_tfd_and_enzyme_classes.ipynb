{
 "cells": [
  {
   "cell_type": "code",
   "execution_count": 1,
   "id": "90a221b9-a840-43a8-acc6-1e6d6da72786",
   "metadata": {},
   "outputs": [
    {
     "data": {
      "application/vnd.jupyter.widget-view+json": {
       "model_id": "04e9ee9d28564643a91d4c429f95e49a",
       "version_major": 2,
       "version_minor": 0
      },
      "text/plain": []
     },
     "metadata": {},
     "output_type": "display_data"
    },
    {
     "name": "stderr",
     "output_type": "stream",
     "text": [
      "/home/bb596/anaconda3/envs/bioconfpred/lib/python3.7/site-packages/tqdm/auto/__init__.py:2: TqdmDeprecationWarning: This function will be removed in tqdm==5.0.0\n",
      "Please use `tqdm.std.*` instead of `tqdm._tqdm.*`\n",
      "  from .._tqdm import TqdmExperimentalWarning\n",
      "/home/bb596/anaconda3/envs/bioconfpred/lib/python3.7/site-packages/tqdm/autonotebook/__init__.py:8: TqdmDeprecationWarning: This function will be removed in tqdm==5.0.0\n",
      "Please use `tqdm.notebook.*` instead of `tqdm._tqdm_notebook.*`\n",
      "  from .._tqdm_notebook import tqdm_notebook as tqdm\n",
      "/home/bb596/anaconda3/envs/bioconfpred/lib/python3.7/site-packages/torch/utils/tensorboard/__init__.py:4: DeprecationWarning: distutils Version classes are deprecated. Use packaging.version instead.\n",
      "  if not hasattr(tensorboard, '__version__') or LooseVersion(tensorboard.__version__) < LooseVersion('1.15'):\n",
      "/home/bb596/anaconda3/envs/bioconfpred/lib/python3.7/site-packages/torch/utils/tensorboard/__init__.py:4: DeprecationWarning: distutils Version classes are deprecated. Use packaging.version instead.\n",
      "  if not hasattr(tensorboard, '__version__') or LooseVersion(tensorboard.__version__) < LooseVersion('1.15'):\n"
     ]
    }
   ],
   "source": [
    "import pandas as pd\n",
    "import os\n",
    "import matplotlib.pyplot as plt\n",
    "import seaborn as sns\n",
    "import numpy as np\n",
    "from tqdm import tqdm\n",
    "from rdkit import Chem\n",
    "from data.utils.similarity_search import SimilaritySearch\n",
    "from conf_ensemble import ConfEnsembleLibrary\n",
    "from rankers.tfd_ranker_sim import TFD2SimRefMCSRanker\n",
    "from data.utils.enzyme_connector import ENZYMEConnector\n",
    "from data.utils.pdbbind import PDBbindMetadataProcessor\n",
    "from data.utils.chembl_connector import ChEMBLConnector\n",
    "from collections import defaultdict\n",
    "from rdkit.Chem.rdFMCS import FindMCS\n",
    "from rdkit.Chem.TorsionFingerprints import GetTFDMatrix\n",
    "from rdkit.Chem.rdchem import Mol, EditableMol"
   ]
  },
  {
   "cell_type": "code",
   "execution_count": 2,
   "id": "4bf48302-bf3f-4706-8517-58e5e673249a",
   "metadata": {},
   "outputs": [],
   "source": [
    "figures_dir = '../hdd/pdbbind_bioactive/figures/'"
   ]
  },
  {
   "cell_type": "code",
   "execution_count": 3,
   "id": "ac32afeb-2e5e-427d-b2e0-9beb9fcccfd4",
   "metadata": {},
   "outputs": [],
   "source": [
    "root = '../hdd/pdbbind_bioactive/data'\n",
    "\n",
    "\n",
    "cel_df = pd.read_csv(os.path.join(root, 'pdb_conf_ensembles', 'ensemble_names.csv'))\n",
    "pdb_df = pd.read_csv(os.path.join(root, 'pdb_conf_ensembles', 'pdb_df.csv'))\n",
    "pdb_df = pdb_df.merge(cel_df, left_on='ligand_name', right_on='ensemble_name')\n",
    "pdbbind_df = PDBbindMetadataProcessor().get_master_dataframe()\n",
    "pdbbind_df = pdbbind_df.merge(pdb_df, left_on='PDB code', right_on='pdb_id')"
   ]
  },
  {
   "cell_type": "code",
   "execution_count": 34,
   "id": "1b970370-4a3f-43b4-8cbe-877a85a7d206",
   "metadata": {},
   "outputs": [
    {
     "data": {
      "text/plain": [
       "13460"
      ]
     },
     "execution_count": 34,
     "metadata": {},
     "output_type": "execute_result"
    }
   ],
   "source": [
    "len(pdbbind_df['PDB code'].unique())"
   ]
  },
  {
   "cell_type": "code",
   "execution_count": 5,
   "id": "a746383d-875a-4a25-8b36-5359b02dee4c",
   "metadata": {},
   "outputs": [],
   "source": [
    "cc = ChEMBLConnector()\n",
    "chembl_table = cc.get_target_table(level=1)\n",
    "pdbbind_df = pdbbind_df.merge(chembl_table, left_on='Uniprot ID', right_on='accession')"
   ]
  },
  {
   "cell_type": "code",
   "execution_count": 8,
   "id": "b1051f06-cf09-4f43-aa16-0b89386e7b79",
   "metadata": {},
   "outputs": [
    {
     "data": {
      "text/plain": [
       "9428"
      ]
     },
     "execution_count": 8,
     "metadata": {},
     "output_type": "execute_result"
    }
   ],
   "source": [
    "len(pdbbind_df['PDB code'].unique())"
   ]
  },
  {
   "cell_type": "code",
   "execution_count": 9,
   "id": "916e217a-b4f0-484e-adcb-643acddb7e36",
   "metadata": {},
   "outputs": [
    {
     "data": {
      "text/plain": [
       "0.700445765230312"
      ]
     },
     "execution_count": 9,
     "metadata": {},
     "output_type": "execute_result"
    }
   ],
   "source": [
    "9428 / 13460"
   ]
  },
  {
   "cell_type": "code",
   "execution_count": 6,
   "id": "0eeaab97-997f-4981-a3a7-2c3217778929",
   "metadata": {},
   "outputs": [
    {
     "data": {
      "text/plain": [
       "enzyme                         7322\n",
       "epigenetic regulator            814\n",
       "transcription factor            466\n",
       "cytosolic other                 366\n",
       "unclassified                    325\n",
       "ion channel                     175\n",
       "membrane receptor               122\n",
       "secreted                        116\n",
       "nuclear other                    76\n",
       "auxiliary transport protein      52\n",
       "transporter                      28\n",
       "membrane other                   13\n",
       "surface antigen                  13\n",
       "adhesion                         11\n",
       "structural                        3\n",
       "Name: level1, dtype: int64"
      ]
     },
     "execution_count": 6,
     "metadata": {},
     "output_type": "execute_result"
    }
   ],
   "source": [
    "pdbbind_df['level1'].value_counts()"
   ]
  },
  {
   "cell_type": "code",
   "execution_count": 7,
   "id": "dd2e74f0-208f-4daa-a0e2-c2f99d9e02b8",
   "metadata": {},
   "outputs": [
    {
     "data": {
      "text/plain": [
       "0.7766228256257955"
      ]
     },
     "execution_count": 7,
     "metadata": {},
     "output_type": "execute_result"
    }
   ],
   "source": [
    "7322/9428"
   ]
  },
  {
   "cell_type": "code",
   "execution_count": null,
   "id": "557018ad-fa5f-4751-98b4-ed1d15e8381a",
   "metadata": {},
   "outputs": [],
   "source": []
  },
  {
   "cell_type": "code",
   "execution_count": 4,
   "id": "297dd27f-036c-4a40-b68e-df3c875a1fee",
   "metadata": {},
   "outputs": [
    {
     "name": "stdout",
     "output_type": "stream",
     "text": [
      "Loading enzyme classes data\n"
     ]
    },
    {
     "name": "stderr",
     "output_type": "stream",
     "text": [
      "100%|████████████████████████████████████████████████████████████████████████████████████████████████████████████| 163761/163761 [00:00<00:00, 803514.43it/s]\n"
     ]
    }
   ],
   "source": [
    "ec = ENZYMEConnector()\n",
    "enzyme_table = ec.get_table()\n",
    "pdbbind_df = pdbbind_df.merge(enzyme_table, left_on='Uniprot ID', right_on='uniprot_id')"
   ]
  },
  {
   "cell_type": "code",
   "execution_count": 5,
   "id": "cac10683-3237-4b0c-b757-0cd1cb1e0896",
   "metadata": {},
   "outputs": [
    {
     "data": {
      "text/plain": [
       "8800"
      ]
     },
     "execution_count": 5,
     "metadata": {},
     "output_type": "execute_result"
    }
   ],
   "source": [
    "len(pdbbind_df['PDB code'].unique())"
   ]
  },
  {
   "cell_type": "code",
   "execution_count": 6,
   "id": "47111415-dc8d-4264-8a64-cc3209bad59c",
   "metadata": {},
   "outputs": [
    {
     "name": "stdout",
     "output_type": "stream",
     "text": [
      "Loading conf ensembles\n"
     ]
    },
    {
     "name": "stderr",
     "output_type": "stream",
     "text": [
      "100%|█████████████████████████████████████████████████████████████████████████████████████████████████████████████████| 10481/10481 [00:16<00:00, 634.62it/s]\n"
     ]
    }
   ],
   "source": [
    "cel = ConfEnsembleLibrary()"
   ]
  },
  {
   "cell_type": "code",
   "execution_count": 7,
   "id": "9fddce6d-ff82-4e21-a956-84853549bb92",
   "metadata": {},
   "outputs": [
    {
     "name": "stdout",
     "output_type": "stream",
     "text": [
      "Similarity matrix ready\n"
     ]
    }
   ],
   "source": [
    "ss = SimilaritySearch(cel_df['smiles'].values)"
   ]
  },
  {
   "cell_type": "code",
   "execution_count": 8,
   "id": "b5183755-17af-4a1f-b232-2063b264c500",
   "metadata": {},
   "outputs": [],
   "source": [
    "def get_editable_mol_match(mol, match):\n",
    "    edit_mol = EditableMol(mol)\n",
    "    idx_to_remove = []\n",
    "    for a in mol.GetAtoms():\n",
    "        atom_idx = a.GetIdx()\n",
    "        if not atom_idx in match:\n",
    "            idx_to_remove.append(atom_idx)\n",
    "    for idx in reversed(idx_to_remove):\n",
    "        edit_mol.RemoveAtom(idx)\n",
    "    return edit_mol\n",
    "\n",
    "def get_full_matrix_from_tril(tril_matrix, n):\n",
    "    matrix = np.zeros((n, n))\n",
    "    i=1\n",
    "    j=0\n",
    "    for v in tril_matrix:\n",
    "        matrix[i, j] = matrix[j, i] = v\n",
    "        j = j + 1\n",
    "        if j == i:\n",
    "            i = i + 1\n",
    "            j = 0\n",
    "    return matrix"
   ]
  },
  {
   "cell_type": "code",
   "execution_count": 18,
   "id": "d09548ba-a8b4-4225-afe3-ad917cb0efa0",
   "metadata": {
    "scrolled": true,
    "tags": []
   },
   "outputs": [
    {
     "name": "stderr",
     "output_type": "stream",
     "text": [
      "  1%|▊                                                                                                                    | 73/10481 [00:14<15:14, 11.38it/s][14:44:37] Explicit valence for atom # 1 N, 4, is greater than permitted\n",
      "  2%|██▏                                                                                                                 | 202/10481 [00:33<22:19,  7.67it/s][14:44:56] Explicit valence for atom # 22 N, 4, is greater than permitted\n",
      "  3%|███▉                                                                                                                | 360/10481 [01:12<34:09,  4.94it/s][14:45:35] Explicit valence for atom # 1 N, 4, is greater than permitted\n",
      "  4%|████▏                                                                                                               | 383/10481 [01:12<12:25, 13.55it/s][14:45:35] Explicit valence for atom # 34 N, 4, is greater than permitted\n",
      "  4%|████▊                                                                                                               | 440/10481 [01:26<33:01,  5.07it/s][14:45:49] Explicit valence for atom # 10 N, 4, is greater than permitted\n",
      "  6%|██████▉                                                                                                             | 632/10481 [01:49<05:49, 28.17it/s][14:46:12] Explicit valence for atom # 9 N, 4, is greater than permitted\n",
      "  6%|███████▍                                                                                                            | 667/10481 [01:50<05:46, 28.33it/s][14:46:13] Explicit valence for atom # 25 N, 4, is greater than permitted\n",
      "  7%|███████▉                                                                                                            | 719/10481 [01:58<15:12, 10.69it/s][14:46:21] Explicit valence for atom # 13 N, 4, is greater than permitted\n",
      "  7%|████████▎                                                                                                           | 752/10481 [02:04<15:07, 10.73it/s][14:46:27] Explicit valence for atom # 19 N, 4, is greater than permitted\n",
      "  7%|████████▍                                                                                                           | 766/10481 [02:09<35:54,  4.51it/s][14:46:32] Explicit valence for atom # 20 N, 4, is greater than permitted\n",
      "  8%|████████▊                                                                                                           | 799/10481 [02:10<11:43, 13.75it/s][14:46:33] Explicit valence for atom # 1 N, 4, is greater than permitted\n",
      "  8%|█████████▌                                                                                                          | 867/10481 [02:13<08:49, 18.15it/s][14:46:36] Explicit valence for atom # 1 N, 4, is greater than permitted\n",
      "  9%|██████████▊                                                                                                         | 975/10481 [02:23<08:51, 17.89it/s][14:46:46] Explicit valence for atom # 1 N, 4, is greater than permitted\n",
      " 10%|██████████▉                                                                                                        | 1001/10481 [02:24<04:13, 37.41it/s][14:46:47] Explicit valence for atom # 1 N, 4, is greater than permitted\n",
      " 10%|███████████▏                                                                                                       | 1024/10481 [02:24<03:26, 45.79it/s][14:46:48] Explicit valence for atom # 1 N, 4, is greater than permitted\n",
      " 10%|███████████▌                                                                                                       | 1050/10481 [02:27<13:08, 11.96it/s][14:46:50] Explicit valence for atom # 22 N, 4, is greater than permitted\n",
      " 11%|████████████▏                                                                                                      | 1116/10481 [02:35<09:48, 15.92it/s][14:46:57] Explicit valence for atom # 7 N, 4, is greater than permitted\n",
      " 11%|████████████▌                                                                                                      | 1149/10481 [02:40<23:03,  6.74it/s][14:47:03] Explicit valence for atom # 8 N, 4, is greater than permitted\n",
      " 11%|█████████████                                                                                                      | 1196/10481 [02:42<05:30, 28.10it/s][14:47:05] Explicit valence for atom # 9 N, 4, is greater than permitted\n",
      " 13%|███████████████▍                                                                                                   | 1410/10481 [03:31<11:35, 13.04it/s][14:47:53] Explicit valence for atom # 8 N, 4, is greater than permitted\n",
      " 14%|████████████████▎                                                                                                  | 1484/10481 [03:42<28:24,  5.28it/s][14:48:05] \n",
      "\n",
      "****\n",
      "Invariant Violation\n",
      "could not find probe element\n",
      "Violation occurred on line 71 in file /project/build/temp.linux-x86_64-cpython-37/rdkit/Code/RDGeneral/utils.h\n",
      "Failed Expression: foundIt\n",
      "****\n",
      "\n",
      " 15%|█████████████████▊                                                                                                 | 1623/10481 [03:58<14:06, 10.46it/s][14:48:20] Explicit valence for atom # 17 N, 4, is greater than permitted\n",
      " 17%|███████████████████▉                                                                                               | 1820/10481 [04:40<14:23, 10.03it/s][14:49:03] Explicit valence for atom # 1 N, 4, is greater than permitted\n",
      " 18%|█████████████████████▏                                                                                             | 1935/10481 [05:08<08:50, 16.12it/s][14:49:31] Explicit valence for atom # 7 N, 4, is greater than permitted\n",
      " 21%|███████████████████████▊                                                                                           | 2170/10481 [05:42<06:13, 22.28it/s][14:50:05] Explicit valence for atom # 7 N, 4, is greater than permitted\n",
      " 21%|████████████████████████▍                                                                                          | 2224/10481 [05:44<05:10, 26.58it/s][14:50:07] Explicit valence for atom # 6 N, 4, is greater than permitted\n",
      " 22%|█████████████████████████                                                                                          | 2279/10481 [05:50<28:17,  4.83it/s][14:50:13] Explicit valence for atom # 21 N, 4, is greater than permitted\n",
      " 25%|████████████████████████████▎                                                                                      | 2585/10481 [06:41<37:41,  3.49it/s][14:51:04] Explicit valence for atom # 0 N, 4, is greater than permitted\n",
      " 25%|████████████████████████████▉                                                                                      | 2640/10481 [06:44<07:51, 16.61it/s][14:51:07] Explicit valence for atom # 14 N, 4, is greater than permitted\n",
      "[14:51:09] Explicit valence for atom # 21 N, 4, is greater than permitted\n",
      " 25%|█████████████████████████████▏                                                                                     | 2659/10481 [06:47<11:47, 11.05it/s][14:51:10] Explicit valence for atom # 9 N, 4, is greater than permitted\n",
      " 25%|█████████████████████████████▏                                                                                     | 2664/10481 [06:47<11:05, 11.75it/s][14:51:10] Explicit valence for atom # 15 N, 4, is greater than permitted\n",
      " 26%|█████████████████████████████▊                                                                                     | 2712/10481 [06:59<44:30,  2.91it/s][14:51:22] Explicit valence for atom # 37 N, 4, is greater than permitted\n",
      " 26%|██████████████████████████████▎                                                                                    | 2757/10481 [07:05<15:25,  8.34it/s][14:51:28] Explicit valence for atom # 8 N, 4, is greater than permitted\n",
      "[14:51:28] Explicit valence for atom # 12 N, 4, is greater than permitted\n",
      " 27%|███████████████████████████████▎                                                                                   | 2853/10481 [07:22<25:59,  4.89it/s][14:51:45] Explicit valence for atom # 15 N, 4, is greater than permitted\n",
      " 28%|███████████████████████████████▊                                                                                   | 2901/10481 [07:30<37:13,  3.39it/s][14:51:53] Explicit valence for atom # 15 N, 4, is greater than permitted\n",
      " 28%|████████████████████████████████▎                                                                                  | 2943/10481 [07:40<27:40,  4.54it/s][14:52:03] Explicit valence for atom # 11 N, 4, is greater than permitted\n",
      " 28%|████████████████████████████████▍                                                                                  | 2956/10481 [07:40<11:28, 10.93it/s][14:52:03] Explicit valence for atom # 9 N, 4, is greater than permitted\n",
      " 29%|████████████████████████████████▊                                                                                  | 2994/10481 [07:53<25:03,  4.98it/s][14:52:15] Explicit valence for atom # 21 N, 4, is greater than permitted\n",
      " 30%|███████████████████████████████████                                                                                | 3190/10481 [08:34<27:52,  4.36it/s][14:52:57] Explicit valence for atom # 7 N, 4, is greater than permitted\n",
      " 33%|█████████████████████████████████████▌                                                                             | 3428/10481 [09:00<23:22,  5.03it/s][14:53:23] Explicit valence for atom # 8 N, 4, is greater than permitted\n",
      " 33%|█████████████████████████████████████▋                                                                             | 3439/10481 [09:00<12:31,  9.37it/s][14:53:23] Explicit valence for atom # 5 N, 4, is greater than permitted\n",
      " 34%|███████████████████████████████████████▏                                                                           | 3569/10481 [09:27<34:02,  3.38it/s][14:53:50] Explicit valence for atom # 16 N, 4, is greater than permitted\n",
      " 36%|█████████████████████████████████████████▏                                                                         | 3758/10481 [10:10<22:10,  5.05it/s][14:54:32] Explicit valence for atom # 8 N, 4, is greater than permitted\n",
      " 36%|█████████████████████████████████████████▋                                                                         | 3805/10481 [10:14<08:54, 12.48it/s][14:54:37] \n",
      "\n",
      "****\n",
      "Invariant Violation\n",
      "could not find probe element\n",
      "Violation occurred on line 71 in file /project/build/temp.linux-x86_64-cpython-37/rdkit/Code/RDGeneral/utils.h\n",
      "Failed Expression: foundIt\n",
      "****\n",
      "\n",
      " 37%|██████████████████████████████████████████▎                                                                        | 3858/10481 [10:20<12:33,  8.79it/s][14:54:43] Explicit valence for atom # 7 N, 4, is greater than permitted\n",
      " 38%|███████████████████████████████████████████▋                                                                       | 3978/10481 [10:37<12:10,  8.90it/s][14:55:01] Explicit valence for atom # 1 N, 4, is greater than permitted\n",
      " 38%|████████████████████████████████████████████▏                                                                      | 4024/10481 [10:51<39:12,  2.74it/s][14:55:14] Explicit valence for atom # 4 N, 4, is greater than permitted\n",
      " 39%|█████████████████████████████████████████████                                                                      | 4104/10481 [11:07<26:29,  4.01it/s][14:55:30] Explicit valence for atom # 1 N, 4, is greater than permitted\n",
      " 39%|█████████████████████████████████████████████                                                                      | 4111/10481 [11:08<19:55,  5.33it/s][14:55:31] Explicit valence for atom # 17 N, 4, is greater than permitted\n",
      " 40%|█████████████████████████████████████████████▊                                                                     | 4177/10481 [11:13<09:19, 11.27it/s][14:55:36] Explicit valence for atom # 1 N, 4, is greater than permitted\n",
      " 41%|███████████████████████████████████████████████▏                                                                   | 4298/10481 [11:33<16:38,  6.19it/s][14:55:56] Explicit valence for atom # 6 N, 4, is greater than permitted\n",
      " 42%|████████████████████████████████████████████████▍                                                                  | 4420/10481 [11:53<03:34, 28.29it/s][14:56:15] Explicit valence for atom # 22 N, 4, is greater than permitted\n",
      " 42%|████████████████████████████████████████████████▊                                                                  | 4445/10481 [11:53<01:58, 50.75it/s][14:56:16] \n",
      "\n",
      "****\n",
      "Invariant Violation\n",
      "could not find probe element\n",
      "Violation occurred on line 71 in file /project/build/temp.linux-x86_64-cpython-37/rdkit/Code/RDGeneral/utils.h\n",
      "Failed Expression: foundIt\n",
      "****\n",
      "\n",
      " 43%|█████████████████████████████████████████████████                                                                  | 4467/10481 [12:00<21:37,  4.63it/s][14:56:23] Explicit valence for atom # 9 N, 4, is greater than permitted\n",
      " 44%|██████████████████████████████████████████████████▌                                                                | 4605/10481 [12:24<19:46,  4.95it/s][14:56:47] Explicit valence for atom # 7 N, 4, is greater than permitted\n",
      "[14:56:52] Explicit valence for atom # 38 N, 4, is greater than permitted\n",
      " 44%|██████████████████████████████████████████████████▋                                                                | 4616/10481 [12:30<28:40,  3.41it/s][14:56:53] Explicit valence for atom # 8 N, 4, is greater than permitted\n",
      " 45%|███████████████████████████████████████████████████▋                                                               | 4710/10481 [12:45<25:43,  3.74it/s][14:57:08] Explicit valence for atom # 1 N, 4, is greater than permitted\n",
      " 45%|███████████████████████████████████████████████████▉                                                               | 4728/10481 [12:50<38:00,  2.52it/s][14:57:13] Explicit valence for atom # 1 N, 4, is greater than permitted\n",
      "[14:57:15] Explicit valence for atom # 15 N, 4, is greater than permitted\n",
      " 45%|████████████████████████████████████████████████████▏                                                              | 4759/10481 [12:58<23:07,  4.12it/s][14:57:21] Explicit valence for atom # 8 N, 4, is greater than permitted\n",
      " 47%|██████████████████████████████████████████████████████                                                             | 4932/10481 [13:23<15:59,  5.78it/s][14:57:46] Explicit valence for atom # 10 N, 4, is greater than permitted\n",
      " 47%|██████████████████████████████████████████████████████▎                                                            | 4946/10481 [13:29<22:25,  4.11it/s][14:57:52] Explicit valence for atom # 3 N, 4, is greater than permitted\n",
      " 49%|████████████████████████████████████████████████████████▊                                                          | 5178/10481 [14:04<27:55,  3.17it/s][14:58:27] Explicit valence for atom # 17 N, 4, is greater than permitted\n",
      " 50%|█████████████████████████████████████████████████████████▏                                                         | 5211/10481 [14:08<09:04,  9.67it/s][14:58:31] Explicit valence for atom # 1 N, 4, is greater than permitted\n",
      " 50%|█████████████████████████████████████████████████████████▍                                                         | 5237/10481 [14:13<23:06,  3.78it/s][14:58:36] Explicit valence for atom # 28 N, 4, is greater than permitted\n",
      " 52%|███████████████████████████████████████████████████████████▎                                                       | 5404/10481 [14:36<15:55,  5.31it/s][14:58:58] Explicit valence for atom # 14 N, 4, is greater than permitted\n",
      " 52%|███████████████████████████████████████████████████████████▌                                                       | 5424/10481 [14:36<06:24, 13.14it/s][14:59:03] Explicit valence for atom # 1 N, 4, is greater than permitted\n",
      " 52%|███████████████████████████████████████████████████████████▊                                                       | 5446/10481 [14:43<18:20,  4.58it/s][14:59:05] Explicit valence for atom # 24 N, 4, is greater than permitted\n",
      " 52%|████████████████████████████████████████████████████████████                                                       | 5479/10481 [14:43<04:11, 19.88it/s][14:59:08] Explicit valence for atom # 15 N, 4, is greater than permitted\n",
      " 52%|████████████████████████████████████████████████████████████▏                                                      | 5490/10481 [14:46<10:37,  7.83it/s][14:59:09] Explicit valence for atom # 13 N, 4, is greater than permitted\n",
      " 53%|████████████████████████████████████████████████████████████▌                                                      | 5525/10481 [14:54<14:33,  5.68it/s][14:59:17] Explicit valence for atom # 6 N, 4, is greater than permitted\n",
      " 53%|█████████████████████████████████████████████████████████████▍                                                     | 5594/10481 [14:57<05:43, 14.22it/s][14:59:20] Explicit valence for atom # 24 N, 4, is greater than permitted\n",
      " 54%|█████████████████████████████████████████████████████████████▉                                                     | 5645/10481 [15:06<26:56,  2.99it/s][14:59:29] Explicit valence for atom # 6 N, 4, is greater than permitted\n",
      " 54%|██████████████████████████████████████████████████████████████▎                                                    | 5679/10481 [15:11<19:18,  4.14it/s][14:59:34] Explicit valence for atom # 37 N, 4, is greater than permitted\n",
      " 55%|██████████████████████████████████████████████████████████████▋                                                    | 5717/10481 [15:17<07:19, 10.84it/s][14:59:39] Explicit valence for atom # 24 N, 4, is greater than permitted\n",
      " 57%|████████████████████████████████████████████████████████████████▉                                                  | 5922/10481 [15:56<08:19,  9.13it/s][15:00:18] Explicit valence for atom # 1 N, 4, is greater than permitted\n",
      " 57%|█████████████████████████████████████████████████████████████████▏                                                 | 5946/10481 [15:58<07:15, 10.42it/s][15:00:21] Explicit valence for atom # 52 N, 4, is greater than permitted\n",
      " 57%|█████████████████████████████████████████████████████████████████▎                                                 | 5951/10481 [15:59<07:56,  9.50it/s][15:00:22] Explicit valence for atom # 1 N, 4, is greater than permitted\n",
      " 57%|█████████████████████████████████████████████████████████████████▍                                                 | 5959/10481 [15:59<05:54, 12.77it/s][15:00:22] Explicit valence for atom # 1 N, 4, is greater than permitted\n",
      " 58%|██████████████████████████████████████████████████████████████████▏                                                | 6035/10481 [16:12<14:30,  5.11it/s][15:00:35] Explicit valence for atom # 8 N, 4, is greater than permitted\n",
      " 58%|██████████████████████████████████████████████████████████████████▊                                                | 6092/10481 [16:25<14:41,  4.98it/s][15:00:48] Explicit valence for atom # 13 N, 4, is greater than permitted\n",
      " 59%|███████████████████████████████████████████████████████████████████▋                                               | 6167/10481 [16:31<11:38,  6.18it/s][15:00:54] Explicit valence for atom # 29 N, 4, is greater than permitted\n",
      " 59%|████████████████████████████████████████████████████████████████████▏                                              | 6217/10481 [16:38<08:24,  8.45it/s][15:01:00] Explicit valence for atom # 6 N, 4, is greater than permitted\n",
      " 59%|████████████████████████████████████████████████████████████████████▎                                              | 6224/10481 [16:47<41:15,  1.72it/s][15:01:10] Explicit valence for atom # 15 N, 4, is greater than permitted\n",
      " 60%|████████████████████████████████████████████████████████████████████▊                                              | 6272/10481 [16:56<09:01,  7.77it/s][15:01:19] Explicit valence for atom # 37 N, 4, is greater than permitted\n",
      " 60%|█████████████████████████████████████████████████████████████████████▍                                             | 6328/10481 [17:00<05:38, 12.26it/s][15:01:23] Explicit valence for atom # 7 N, 4, is greater than permitted\n",
      " 62%|███████████████████████████████████████████████████████████████████████▏                                           | 6491/10481 [17:09<02:28, 26.89it/s][15:01:32] Explicit valence for atom # 8 N, 4, is greater than permitted\n",
      " 64%|█████████████████████████████████████████████████████████████████████████▏                                         | 6672/10481 [17:48<11:27,  5.54it/s][15:02:16] Explicit valence for atom # 38 N, 4, is greater than permitted\n",
      " 64%|█████████████████████████████████████████████████████████████████████████▊                                         | 6725/10481 [18:01<07:35,  8.24it/s][15:02:26] Explicit valence for atom # 1 N, 4, is greater than permitted\n",
      " 65%|██████████████████████████████████████████████████████████████████████████▋                                        | 6810/10481 [18:23<21:16,  2.88it/s][15:02:46] Explicit valence for atom # 1 N, 4, is greater than permitted\n",
      " 65%|██████████████████████████████████████████████████████████████████████████▊                                        | 6823/10481 [18:25<14:57,  4.07it/s][15:02:48] Explicit valence for atom # 1 N, 4, is greater than permitted\n",
      " 65%|███████████████████████████████████████████████████████████████████████████                                        | 6837/10481 [18:36<38:25,  1.58it/s][15:02:59] Explicit valence for atom # 12 N, 4, is greater than permitted\n",
      " 66%|███████████████████████████████████████████████████████████████████████████▊                                       | 6907/10481 [18:44<04:50, 12.29it/s][15:03:07] Explicit valence for atom # 17 N, 4, is greater than permitted\n",
      " 66%|████████████████████████████████████████████████████████████████████████████▏                                      | 6944/10481 [18:47<04:01, 14.66it/s][15:03:10] Explicit valence for atom # 21 N, 4, is greater than permitted\n",
      " 68%|█████████████████████████████████████████████████████████████████████████████▋                                     | 7085/10481 [18:59<04:54, 11.52it/s][15:03:22] Explicit valence for atom # 8 N, 4, is greater than permitted\n",
      " 68%|██████████████████████████████████████████████████████████████████████████████                                     | 7117/10481 [19:00<03:47, 14.80it/s][15:03:23] Explicit valence for atom # 8 N, 4, is greater than permitted\n",
      " 68%|██████████████████████████████████████████████████████████████████████████████▌                                    | 7162/10481 [19:07<04:38, 11.90it/s][15:03:29] Explicit valence for atom # 8 N, 4, is greater than permitted\n",
      " 69%|███████████████████████████████████████████████████████████████████████████████▋                                   | 7262/10481 [19:16<07:44,  6.93it/s][15:03:39] Explicit valence for atom # 33 N, 4, is greater than permitted\n",
      "[15:03:39] Explicit valence for atom # 1 N, 4, is greater than permitted\n",
      " 70%|████████████████████████████████████████████████████████████████████████████████▎                                  | 7320/10481 [19:31<08:50,  5.96it/s][15:03:53] Explicit valence for atom # 6 N, 4, is greater than permitted\n",
      " 71%|█████████████████████████████████████████████████████████████████████████████████▌                                 | 7439/10481 [19:43<04:11, 12.08it/s][15:04:06] Explicit valence for atom # 24 N, 4, is greater than permitted\n",
      " 72%|███████████████████████████████████████████████████████████████████████████████████▏                               | 7578/10481 [20:11<14:10,  3.41it/s][15:04:33] Explicit valence for atom # 1 N, 4, is greater than permitted\n",
      " 73%|███████████████████████████████████████████████████████████████████████████████████▌                               | 7611/10481 [20:16<07:34,  6.31it/s][15:04:39] Explicit valence for atom # 1 N, 4, is greater than permitted\n",
      " 73%|███████████████████████████████████████████████████████████████████████████████████▌                               | 7619/10481 [20:16<05:15,  9.06it/s][15:04:44] Explicit valence for atom # 18 N, 4, is greater than permitted\n",
      " 73%|████████████████████████████████████████████████████████████████████████████████████                               | 7659/10481 [20:39<27:52,  1.69it/s][15:05:04] Explicit valence for atom # 21 N, 4, is greater than permitted\n",
      " 75%|██████████████████████████████████████████████████████████████████████████████████████                             | 7849/10481 [21:16<00:56, 46.91it/s][15:05:44] Explicit valence for atom # 1 N, 4, is greater than permitted\n",
      " 75%|██████████████████████████████████████████████████████████████████████████████████████▋                            | 7900/10481 [21:33<16:31,  2.60it/s][15:05:56] Explicit valence for atom # 6 N, 4, is greater than permitted\n",
      " 77%|████████████████████████████████████████████████████████████████████████████████████████▎                          | 8051/10481 [21:59<21:25,  1.89it/s][15:06:22] Explicit valence for atom # 1 N, 4, is greater than permitted\n",
      " 78%|█████████████████████████████████████████████████████████████████████████████████████████▉                         | 8201/10481 [22:23<05:01,  7.56it/s][15:06:49] Explicit valence for atom # 6 B, 4, is greater than permitted\n",
      " 78%|██████████████████████████████████████████████████████████████████████████████████████████▏                        | 8219/10481 [22:27<05:38,  6.68it/s][15:06:50] Explicit valence for atom # 1 N, 4, is greater than permitted\n",
      " 79%|███████████████████████████████████████████████████████████████████████████████████████████▎                       | 8318/10481 [22:39<03:15, 11.05it/s][15:07:02] Explicit valence for atom # 8 N, 4, is greater than permitted\n",
      " 80%|███████████████████████████████████████████████████████████████████████████████████████████▌                       | 8344/10481 [22:44<06:46,  5.26it/s][15:07:07] Explicit valence for atom # 52 N, 4, is greater than permitted\n",
      " 80%|███████████████████████████████████████████████████████████████████████████████████████████▋                       | 8360/10481 [22:47<07:37,  4.63it/s][15:07:10] Explicit valence for atom # 8 N, 4, is greater than permitted\n",
      " 81%|█████████████████████████████████████████████████████████████████████████████████████████████▍                     | 8515/10481 [23:06<03:41,  8.86it/s][15:07:31] Explicit valence for atom # 15 N, 4, is greater than permitted\n",
      " 82%|█████████████████████████████████████████████████████████████████████████████████████████████▊                     | 8554/10481 [23:09<01:42, 18.87it/s][15:07:31] Explicit valence for atom # 10 N, 4, is greater than permitted\n",
      " 82%|█████████████████████████████████████████████████████████████████████████████████████████████▉                     | 8566/10481 [23:14<08:53,  3.59it/s][15:07:37] Explicit valence for atom # 15 N, 4, is greater than permitted\n",
      "[15:07:37] Explicit valence for atom # 7 N, 4, is greater than permitted\n",
      " 82%|██████████████████████████████████████████████████████████████████████████████████████████████▍                    | 8609/10481 [23:18<03:56,  7.93it/s][15:07:41] Explicit valence for atom # 38 N, 4, is greater than permitted\n",
      " 83%|███████████████████████████████████████████████████████████████████████████████████████████████▊                   | 8728/10481 [23:45<06:38,  4.40it/s][15:08:07] Explicit valence for atom # 12 N, 4, is greater than permitted\n",
      " 84%|████████████████████████████████████████████████████████████████████████████████████████████████▎                  | 8782/10481 [23:53<04:20,  6.53it/s][15:08:16] Explicit valence for atom # 8 B, 4, is greater than permitted\n",
      " 84%|████████████████████████████████████████████████████████████████████████████████████████████████▉                  | 8833/10481 [24:04<02:54,  9.42it/s][15:08:27] Explicit valence for atom # 25 N, 4, is greater than permitted\n",
      " 85%|█████████████████████████████████████████████████████████████████████████████████████████████████▋                 | 8902/10481 [24:13<00:57, 27.69it/s][15:08:36] Explicit valence for atom # 1 N, 4, is greater than permitted\n",
      " 85%|█████████████████████████████████████████████████████████████████████████████████████████████████▊                 | 8909/10481 [24:14<00:51, 30.36it/s][15:08:36] Explicit valence for atom # 6 B, 4, is greater than permitted\n",
      " 87%|███████████████████████████████████████████████████████████████████████████████████████████████████▌               | 9078/10481 [24:35<02:22,  9.87it/s][15:08:58] Explicit valence for atom # 9 N, 4, is greater than permitted\n",
      " 88%|████████████████████████████████████████████████████████████████████████████████████████████████████▊              | 9192/10481 [24:47<00:24, 52.43it/s][15:09:10] Explicit valence for atom # 10 N, 4, is greater than permitted\n",
      " 88%|█████████████████████████████████████████████████████████████████████████████████████████████████████▍             | 9249/10481 [24:57<02:28,  8.28it/s][15:09:23] Explicit valence for atom # 1 N, 4, is greater than permitted\n",
      " 89%|██████████████████████████████████████████████████████████████████████████████████████████████████████▏            | 9314/10481 [25:07<02:33,  7.61it/s][15:09:30] Explicit valence for atom # 11 N, 4, is greater than permitted\n",
      " 89%|██████████████████████████████████████████████████████████████████████████████████████████████████████▊            | 9371/10481 [25:22<06:15,  2.95it/s][15:09:45] Explicit valence for atom # 9 N, 4, is greater than permitted\n",
      " 90%|███████████████████████████████████████████████████████████████████████████████████████████████████████▎           | 9417/10481 [25:27<02:30,  7.09it/s][15:09:50] Explicit valence for atom # 17 N, 4, is greater than permitted\n",
      " 91%|████████████████████████████████████████████████████████████████████████████████████████████████████████▋          | 9536/10481 [25:42<03:45,  4.18it/s][15:10:05] Explicit valence for atom # 6 N, 4, is greater than permitted\n",
      " 91%|████████████████████████████████████████████████████████████████████████████████████████████████████████▋          | 9546/10481 [25:42<02:05,  7.42it/s][15:10:05] Explicit valence for atom # 1 N, 4, is greater than permitted\n",
      " 91%|█████████████████████████████████████████████████████████████████████████████████████████████████████████▏         | 9582/10481 [25:44<01:09, 12.98it/s][15:10:07] Explicit valence for atom # 21 N, 4, is greater than permitted\n",
      " 93%|██████████████████████████████████████████████████████████████████████████████████████████████████████████▉        | 9746/10481 [26:09<02:27,  4.97it/s][15:10:32] Explicit valence for atom # 10 N, 4, is greater than permitted\n",
      " 94%|████████████████████████████████████████████████████████████████████████████████████████████████████████████       | 9845/10481 [26:21<01:33,  6.78it/s][15:10:43] Explicit valence for atom # 28 N, 4, is greater than permitted\n",
      " 95%|████████████████████████████████████████████████████████████████████████████████████████████████████████████▊      | 9916/10481 [26:31<01:00,  9.28it/s][15:10:54] Explicit valence for atom # 1 N, 4, is greater than permitted\n",
      " 95%|█████████████████████████████████████████████████████████████████████████████████████████████████████████████▋     | 9995/10481 [26:44<00:58,  8.32it/s][15:11:07] Explicit valence for atom # 37 N, 4, is greater than permitted\n",
      " 96%|█████████████████████████████████████████████████████████████████████████████████████████████████████████████▊    | 10092/10481 [26:57<00:33, 11.68it/s][15:11:20] \n",
      "\n",
      "****\n",
      "Invariant Violation\n",
      "could not find probe element\n",
      "Violation occurred on line 71 in file /project/build/temp.linux-x86_64-cpython-37/rdkit/Code/RDGeneral/utils.h\n",
      "Failed Expression: foundIt\n",
      "****\n",
      "\n",
      " 96%|█████████████████████████████████████████████████████████████████████████████████████████████████████████████▉    | 10104/10481 [26:57<00:21, 17.82it/s][15:11:20] Explicit valence for atom # 15 N, 4, is greater than permitted\n",
      " 97%|██████████████████████████████████████████████████████████████████████████████████████████████████████████████    | 10119/10481 [26:57<00:13, 26.88it/s][15:11:20] Explicit valence for atom # 13 N, 4, is greater than permitted\n",
      " 97%|██████████████████████████████████████████████████████████████████████████████████████████████████████████████▏   | 10132/10481 [26:58<00:08, 41.34it/s][15:11:20] Explicit valence for atom # 13 N, 4, is greater than permitted\n",
      " 97%|██████████████████████████████████████████████████████████████████████████████████████████████████████████████▍   | 10148/10481 [26:58<00:07, 46.74it/s][15:11:21] Explicit valence for atom # 22 N, 4, is greater than permitted\n",
      " 98%|███████████████████████████████████████████████████████████████████████████████████████████████████████████████▏  | 10220/10481 [27:05<00:10, 24.07it/s][15:11:28] Explicit valence for atom # 16 N, 4, is greater than permitted\n",
      " 99%|████████████████████████████████████████████████████████████████████████████████████████████████████████████████▉ | 10381/10481 [27:25<00:06, 15.52it/s][15:11:48] Explicit valence for atom # 1 N, 4, is greater than permitted\n",
      " 99%|█████████████████████████████████████████████████████████████████████████████████████████████████████████████████▎| 10414/10481 [27:33<00:09,  7.02it/s][15:11:56] Explicit valence for atom # 7 N, 4, is greater than permitted\n",
      "100%|█████████████████████████████████████████████████████████████████████████████████████████████████████████████████▉| 10473/10481 [27:37<00:00, 25.51it/s][15:12:02] Explicit valence for atom # 6 N, 4, is greater than permitted\n",
      "100%|██████████████████████████████████████████████████████████████████████████████████████████████████████████████████| 10481/10481 [27:39<00:00,  6.32it/s]\n"
     ]
    }
   ],
   "source": [
    "min_tfds = {}\n",
    "original_ec = defaultdict(list)\n",
    "closest_ec = defaultdict(list)\n",
    "mcs_sizes = {}\n",
    "for ligand_name, ce in tqdm(cel.library.items()):\n",
    "    try:\n",
    "        mol = ce.mol\n",
    "        smiles = Chem.MolToSmiles(mol)\n",
    "\n",
    "        closest_smiles_list, sim = ss.find_closest_in_set(smiles)\n",
    "        closest_smiles = closest_smiles_list[0]\n",
    "        closest_name = cel_df[cel_df['smiles'] == closest_smiles]['ensemble_name'].values[0]\n",
    "        closest_ce = cel.library[closest_name]\n",
    "        closest_mol = closest_ce.mol\n",
    "\n",
    "        ref_mol = closest_mol\n",
    "\n",
    "        mcs = FindMCS([ref_mol, mol], \n",
    "                      timeout=5, \n",
    "                      matchChiralTag=True,)\n",
    "                    #   ringMatchesRingOnly=True)\n",
    "        smarts = mcs.smartsString\n",
    "        mcs_mol = Chem.MolFromSmarts(smarts)\n",
    "\n",
    "        ref_mol_match = ref_mol.GetSubstructMatch(mcs_mol)\n",
    "        pdb_edit_mol = get_editable_mol_match(ref_mol, ref_mol_match)\n",
    "        new_ref_mol = pdb_edit_mol.GetMol()\n",
    "        new_pdb_match = new_ref_mol.GetSubstructMatch(mcs_mol)\n",
    "        new_ref_mol = Chem.RenumberAtoms(new_ref_mol, new_pdb_match)\n",
    "\n",
    "        mol_match = mol.GetSubstructMatch(mcs_mol)\n",
    "        gen_edit_mol = get_editable_mol_match(mol, mol_match)\n",
    "        new_mol = gen_edit_mol.GetMol()\n",
    "        new_gen_match = new_mol.GetSubstructMatch(mcs_mol)\n",
    "        new_mol = Chem.RenumberAtoms(new_mol, new_gen_match)\n",
    "\n",
    "        bio_conf_idx = []\n",
    "        for conf in new_ref_mol.GetConformers():\n",
    "            conf_id = mcs_mol.AddConformer(conf, assignId=True)\n",
    "            bio_conf_idx.append(conf_id)\n",
    "\n",
    "        gen_conf_idx = []\n",
    "        for conf in new_mol.GetConformers():\n",
    "            conf_id = mcs_mol.AddConformer(conf, assignId=True)\n",
    "            gen_conf_idx.append(conf_id)\n",
    "    \n",
    "        Chem.SanitizeMol(mcs_mol)\n",
    "        tfd_matrix = GetTFDMatrix(mcs_mol)\n",
    "        tfd_matrix = get_full_matrix_from_tril(tfd_matrix, \n",
    "                                                n=mcs_mol.GetNumConformers())\n",
    "\n",
    "        n_ref_confs = len(bio_conf_idx)\n",
    "        tfds = tfd_matrix[:n_ref_confs, n_ref_confs:]\n",
    "        min_tfd = tfds.min(0)\n",
    "\n",
    "        if len(min_tfd) == mol.GetNumConformers() :\n",
    "            mcs_sizes[ligand_name] = mcs_mol.GetNumHeavyAtoms()\n",
    "            min_tfds[ligand_name] = min_tfd.min()\n",
    "\n",
    "            subset_pdbbind_df = pdbbind_df[pdbbind_df['smiles'] == smiles]\n",
    "            ecs = subset_pdbbind_df['level_4'].values\n",
    "            for ec in ecs:\n",
    "                original_ec[ligand_name].append(ec)\n",
    "\n",
    "            subset_pdbbind_df = pdbbind_df[pdbbind_df['smiles'] == closest_smiles]\n",
    "            ecs = subset_pdbbind_df['level_4'].values\n",
    "            for ec in ecs:\n",
    "                closest_ec[ligand_name].append(ec)\n",
    "    except:\n",
    "        pass"
   ]
  },
  {
   "cell_type": "code",
   "execution_count": 19,
   "id": "15f05a08-afd1-46e8-a1cd-61fe2ce68d65",
   "metadata": {},
   "outputs": [],
   "source": [
    "equals = []\n",
    "not_in_closest = []\n",
    "no_closest = []\n",
    "for ligand_name, ecs1 in original_ec.items():\n",
    "    \n",
    "    closest_is_original = False\n",
    "    if ligand_name in closest_ec:\n",
    "        \n",
    "        ecs2 = closest_ec[ligand_name]\n",
    "        for ec1 in ecs1:\n",
    "            if ec1 in ecs2:\n",
    "                closest_is_original = True\n",
    "                break\n",
    "                \n",
    "        if closest_is_original:\n",
    "            equals.append(ligand_name)\n",
    "        else:\n",
    "            not_in_closest.append(ligand_name)\n",
    "            \n",
    "    else:\n",
    "        no_closest.append(ligand_name)"
   ]
  },
  {
   "cell_type": "code",
   "execution_count": 20,
   "id": "2bad2cfc-f566-4538-8b51-82f0c0e6df95",
   "metadata": {},
   "outputs": [
    {
     "data": {
      "text/plain": [
       "4494"
      ]
     },
     "execution_count": 20,
     "metadata": {},
     "output_type": "execute_result"
    }
   ],
   "source": [
    "len(equals)"
   ]
  },
  {
   "cell_type": "code",
   "execution_count": 21,
   "id": "4dbd47e8-2c0a-48d4-8308-7908fd00b7d4",
   "metadata": {},
   "outputs": [
    {
     "data": {
      "text/plain": [
       "1503"
      ]
     },
     "execution_count": 21,
     "metadata": {},
     "output_type": "execute_result"
    }
   ],
   "source": [
    "len(not_in_closest)"
   ]
  },
  {
   "cell_type": "code",
   "execution_count": 43,
   "id": "54223cc2-9b29-40c0-ab6b-db57a6192406",
   "metadata": {},
   "outputs": [
    {
     "data": {
      "text/plain": [
       "0.7493746873436719"
      ]
     },
     "execution_count": 43,
     "metadata": {},
     "output_type": "execute_result"
    }
   ],
   "source": [
    "4494 / (4494 + 1503)"
   ]
  },
  {
   "cell_type": "code",
   "execution_count": 22,
   "id": "ee230143-bcfa-4803-b270-ac6cf9ab8e80",
   "metadata": {},
   "outputs": [
    {
     "data": {
      "text/plain": [
       "740"
      ]
     },
     "execution_count": 22,
     "metadata": {},
     "output_type": "execute_result"
    }
   ],
   "source": [
    "len(no_closest)"
   ]
  },
  {
   "cell_type": "code",
   "execution_count": 35,
   "id": "c090b151-a1ac-4580-aca9-4eab5faec3be",
   "metadata": {},
   "outputs": [],
   "source": [
    "rows = []\n",
    "for ligand_name, tfd in min_tfds.items():\n",
    "    row = {}\n",
    "    row['Ligand name'] = ligand_name\n",
    "    row['TFD'] = tfd\n",
    "    ec = None\n",
    "    if ligand_name in equals:\n",
    "        ec = 'Same as closest reference molecule'\n",
    "    if ligand_name in not_in_closest:\n",
    "        ec = 'Different to closest reference molecule'\n",
    "    row['Enzyme class'] = ec\n",
    "    row['MCS size'] = mcs_sizes[ligand_name]\n",
    "    rows.append(row)"
   ]
  },
  {
   "cell_type": "code",
   "execution_count": 36,
   "id": "57700e5e-e5cc-4f63-85f1-c8943b9b0c1b",
   "metadata": {},
   "outputs": [],
   "source": [
    "df = pd.DataFrame(rows)"
   ]
  },
  {
   "cell_type": "code",
   "execution_count": 46,
   "id": "e238f266-aad9-4e46-9786-b66421be7882",
   "metadata": {},
   "outputs": [],
   "source": [
    "def custom_agg(series) :\n",
    "    result = ''\n",
    "    \n",
    "    mean = series.mean().round(2)\n",
    "    if not np.isnan(mean) :\n",
    "        result = result + str(mean)\n",
    "        \n",
    "    std = series.std().round(2)\n",
    "    if not np.isnan(std) :\n",
    "        result = result + ' ± ' + str(std)\n",
    "    \n",
    "    if result == '' :\n",
    "        result = 'NA'\n",
    "    return result"
   ]
  },
  {
   "cell_type": "code",
   "execution_count": 47,
   "id": "5691cce8-18b4-41d4-bbd7-a29bd2556838",
   "metadata": {},
   "outputs": [
    {
     "data": {
      "text/html": [
       "<div>\n",
       "<style scoped>\n",
       "    .dataframe tbody tr th:only-of-type {\n",
       "        vertical-align: middle;\n",
       "    }\n",
       "\n",
       "    .dataframe tbody tr th {\n",
       "        vertical-align: top;\n",
       "    }\n",
       "\n",
       "    .dataframe thead th {\n",
       "        text-align: right;\n",
       "    }\n",
       "</style>\n",
       "<table border=\"1\" class=\"dataframe\">\n",
       "  <thead>\n",
       "    <tr style=\"text-align: right;\">\n",
       "      <th></th>\n",
       "      <th>TFD</th>\n",
       "      <th>MCS size</th>\n",
       "    </tr>\n",
       "    <tr>\n",
       "      <th>Enzyme class</th>\n",
       "      <th></th>\n",
       "      <th></th>\n",
       "    </tr>\n",
       "  </thead>\n",
       "  <tbody>\n",
       "    <tr>\n",
       "      <th>Different to closest reference molecule</th>\n",
       "      <td>0.2 ± 0.21</td>\n",
       "      <td>15.7 ± 6.89</td>\n",
       "    </tr>\n",
       "    <tr>\n",
       "      <th>Same as closest reference molecule</th>\n",
       "      <td>0.1 ± 0.13</td>\n",
       "      <td>23.41 ± 7.95</td>\n",
       "    </tr>\n",
       "  </tbody>\n",
       "</table>\n",
       "</div>"
      ],
      "text/plain": [
       "                                                TFD      MCS size\n",
       "Enzyme class                                                     \n",
       "Different to closest reference molecule  0.2 ± 0.21   15.7 ± 6.89\n",
       "Same as closest reference molecule       0.1 ± 0.13  23.41 ± 7.95"
      ]
     },
     "execution_count": 47,
     "metadata": {},
     "output_type": "execute_result"
    }
   ],
   "source": [
    "df.groupby('Enzyme class').agg(custom_agg)"
   ]
  },
  {
   "cell_type": "code",
   "execution_count": 48,
   "id": "cb78a076-13af-4a8f-8e84-e081eefab963",
   "metadata": {},
   "outputs": [
    {
     "data": {
      "text/html": [
       "<div>\n",
       "<style scoped>\n",
       "    .dataframe tbody tr th:only-of-type {\n",
       "        vertical-align: middle;\n",
       "    }\n",
       "\n",
       "    .dataframe tbody tr th {\n",
       "        vertical-align: top;\n",
       "    }\n",
       "\n",
       "    .dataframe thead th {\n",
       "        text-align: right;\n",
       "    }\n",
       "</style>\n",
       "<table border=\"1\" class=\"dataframe\">\n",
       "  <thead>\n",
       "    <tr style=\"text-align: right;\">\n",
       "      <th></th>\n",
       "      <th>TFD</th>\n",
       "      <th>MCS size</th>\n",
       "    </tr>\n",
       "    <tr>\n",
       "      <th>Enzyme class</th>\n",
       "      <th></th>\n",
       "      <th></th>\n",
       "    </tr>\n",
       "  </thead>\n",
       "  <tbody>\n",
       "    <tr>\n",
       "      <th>Different to closest reference molecule</th>\n",
       "      <td>0.124917</td>\n",
       "      <td>14</td>\n",
       "    </tr>\n",
       "    <tr>\n",
       "      <th>Same as closest reference molecule</th>\n",
       "      <td>0.048632</td>\n",
       "      <td>23</td>\n",
       "    </tr>\n",
       "  </tbody>\n",
       "</table>\n",
       "</div>"
      ],
      "text/plain": [
       "                                              TFD  MCS size\n",
       "Enzyme class                                               \n",
       "Different to closest reference molecule  0.124917        14\n",
       "Same as closest reference molecule       0.048632        23"
      ]
     },
     "execution_count": 48,
     "metadata": {},
     "output_type": "execute_result"
    }
   ],
   "source": [
    "df.groupby('Enzyme class').median()"
   ]
  },
  {
   "cell_type": "code",
   "execution_count": 41,
   "id": "baf4d3ed-66c1-42af-b5c6-10efecc111c8",
   "metadata": {},
   "outputs": [
    {
     "data": {
      "image/png": "[encoded data removed]",
      "text/plain": [
       "<Figure size 640x480 with 1 Axes>"
      ]
     },
     "metadata": {},
     "output_type": "display_data"
    }
   ],
   "source": [
    "sns.histplot(data=df,\n",
    "            x='MCS size',\n",
    "            hue='Enzyme class',\n",
    "            stat='proportion',\n",
    "            common_norm=False)\n",
    "plt.xlabel('Size of the MCS to the closest reference molecule \\n (number of heavy atoms)')\n",
    "plt.savefig(os.path.join(figures_dir, 'TFD_MCS_distribution_hist.png'),\n",
    "           dpi=300,\n",
    "           bbox_inches='tight')"
   ]
  },
  {
   "cell_type": "code",
   "execution_count": 42,
   "id": "519252d9-81e5-4a44-93e5-6cf94d18da6b",
   "metadata": {},
   "outputs": [
    {
     "data": {
      "image/png": "[encoded data removed]",
      "text/plain": [
       "<Figure size 640x480 with 1 Axes>"
      ]
     },
     "metadata": {},
     "output_type": "display_data"
    }
   ],
   "source": [
    "sns.histplot(data=df,\n",
    "            x='TFD',\n",
    "            hue='Enzyme class',\n",
    "            stat='proportion',\n",
    "            common_norm=False)\n",
    "plt.xlabel('TFD of the MCS to the closest reference molecule')\n",
    "plt.savefig(os.path.join(figures_dir, 'TFD_EC_distribution_hist.png'),\n",
    "           dpi=300,\n",
    "           bbox_inches='tight')"
   ]
  },
  {
   "cell_type": "code",
   "execution_count": 25,
   "id": "d201a38d-788c-4d66-8e42-fb2d6523b532",
   "metadata": {},
   "outputs": [
    {
     "data": {
      "image/png": "[encoded data removed]",
      "text/plain": [
       "<Figure size 640x480 with 1 Axes>"
      ]
     },
     "metadata": {},
     "output_type": "display_data"
    }
   ],
   "source": [
    "sns.kdeplot(data=df,\n",
    "            x='TFD',\n",
    "            hue='Enzyme class',\n",
    "           common_norm=False)\n",
    "plt.savefig(os.path.join(figures_dir, 'TFD_EC_distribution_hist.png'),\n",
    "           dpi=300,\n",
    "           bbox_inches='tight')"
   ]
  },
  {
   "cell_type": "code",
   "execution_count": 50,
   "id": "edce8bcf-0878-4870-900c-9d7ec26da390",
   "metadata": {},
   "outputs": [],
   "source": [
    "mt = [tfd for ligand_name, tfd in min_tfds.items()]"
   ]
  },
  {
   "cell_type": "code",
   "execution_count": 51,
   "id": "77f3b0f8-db2f-487b-8b7c-0d1f38cf5cdb",
   "metadata": {},
   "outputs": [
    {
     "data": {
      "text/plain": [
       "<AxesSubplot:ylabel='Proportion'>"
      ]
     },
     "execution_count": 51,
     "metadata": {},
     "output_type": "execute_result"
    },
    {
     "data": {
      "image/png": "[encoded data removed]",
      "text/plain": [
       "<Figure size 640x480 with 1 Axes>"
      ]
     },
     "metadata": {},
     "output_type": "display_data"
    }
   ],
   "source": [
    "sns.ecdfplot(data=mt)"
   ]
  },
  {
   "cell_type": "code",
   "execution_count": null,
   "id": "576ec6a7-0bc4-4aae-bb8d-84fcfe82e39f",
   "metadata": {},
   "outputs": [],
   "source": [
    "plt.hist(mt)"
   ]
  }
 ],
 "metadata": {
  "kernelspec": {
   "display_name": "Python 3 (ipykernel)",
   "language": "python",
   "name": "python3"
  },
  "language_info": {
   "codemirror_mode": {
    "name": "ipython",
    "version": 3
   },
   "file_extension": ".py",
   "mimetype": "text/x-python",
   "name": "python",
   "nbconvert_exporter": "python",
   "pygments_lexer": "ipython3",
   "version": "3.7.10"
  }
 },
 "nbformat": 4,
 "nbformat_minor": 5
}
