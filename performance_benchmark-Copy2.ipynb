{
 "cells": [
  {
   "cell_type": "code",
   "execution_count": 11,
   "id": "14bf5794-71d5-4c88-b534-b2fd0db7e867",
   "metadata": {
    "tags": []
   },
   "outputs": [],
   "source": [
    "import os\n",
    "import torch\n",
    "import matplotlib.pyplot as plt\n",
    "import numpy as np\n",
    "import pytorch_lightning as pl\n",
    "import torch.nn.functional as F\n",
    "import pandas as pd\n",
    "\n",
    "from torch_geometric.data import Batch\n",
    "from torch_geometric.loader import DataLoader\n",
    "from torch.utils.data import Subset\n",
    "from rdkit import Chem\n",
    "from conf_ensemble_dataset import ConfEnsembleDataset\n",
    "from rdkit.Chem import AllChem #needed for rdForceFieldHelpers\n",
    "from collections import defaultdict\n",
    "from litschnet import LitSchNet\n",
    "from pytorch_lightning.callbacks.early_stopping import EarlyStopping\n",
    "from pytorch_lightning.loggers import TensorBoardLogger\n",
    "from rmsd_predictor_evaluator import RMSDPredictorEvaluator\n",
    "from tqdm import tqdm"
   ]
  },
  {
   "cell_type": "code",
   "execution_count": 3,
   "id": "0a6e3d43-8fa2-4693-b4c3-08a4ce31d9bc",
   "metadata": {},
   "outputs": [
    {
     "name": "stderr",
     "output_type": "stream",
     "text": [
      "Global seed set to 42\n"
     ]
    },
    {
     "data": {
      "text/plain": [
       "42"
      ]
     },
     "execution_count": 3,
     "metadata": {},
     "output_type": "execute_result"
    }
   ],
   "source": [
    "pl.seed_everything(42, workers=True)"
   ]
  },
  {
   "cell_type": "markdown",
   "id": "a8cce14b-71e8-4987-aa40-acf9868528c1",
   "metadata": {},
   "source": [
    "# Data preparation"
   ]
  },
  {
   "cell_type": "code",
   "execution_count": 4,
   "id": "c29babdb-7601-4de6-bb69-920a9ffdb183",
   "metadata": {},
   "outputs": [],
   "source": [
    "data_dir = 'data/'"
   ]
  },
  {
   "cell_type": "code",
   "execution_count": 5,
   "id": "a63b741a-db81-4a10-b5e3-1a5dcde32ac3",
   "metadata": {},
   "outputs": [
    {
     "name": "stdout",
     "output_type": "stream",
     "text": [
      "Loading existing encoders\n"
     ]
    }
   ],
   "source": [
    "dataset = ConfEnsembleDataset(data_dir)"
   ]
  },
  {
   "cell_type": "code",
   "execution_count": 6,
   "id": "fe1d9cdd-3646-4111-bc91-fd7508425908",
   "metadata": {},
   "outputs": [],
   "source": [
    "smiles_df = pd.read_csv(os.path.join(data_dir, 'smiles_df.csv'))\n",
    "conf_df = pd.read_csv(os.path.join(data_dir, 'conf_df.csv'))"
   ]
  },
  {
   "cell_type": "code",
   "execution_count": 7,
   "id": "4318e6c2-81ee-496e-a4de-9a3086a74970",
   "metadata": {},
   "outputs": [],
   "source": [
    "platinum_smiles = smiles_df[smiles_df['platinum']]['smiles'].values\n",
    "platinum_indices = conf_df[conf_df['smiles'].isin(platinum_smiles)].index\n",
    "platinum_subset = Subset(dataset, platinum_indices)"
   ]
  },
  {
   "cell_type": "code",
   "execution_count": 8,
   "id": "13b4e6bc-8c15-4392-82c9-a0c2c5c2191b",
   "metadata": {},
   "outputs": [],
   "source": [
    "#conf_df = conf_df[conf_df['smiles'].isin(smiles_df['smiles'].values[:300])]"
   ]
  },
  {
   "cell_type": "code",
   "execution_count": 9,
   "id": "fe5197b3-dffd-4d29-9678-18f9dd982308",
   "metadata": {},
   "outputs": [],
   "source": [
    "iteration = 0\n",
    "with open(os.path.join(data_dir, 'scaffold_splits', f'train_smiles_scaffold_split_{iteration}.txt'), 'r') as f :\n",
    "    train_smiles = f.readlines()\n",
    "    train_smiles = [smiles.strip() for smiles in train_smiles]\n",
    "\n",
    "with open(os.path.join(data_dir, 'scaffold_splits', f'val_smiles_scaffold_split_{iteration}.txt'), 'r') as f :\n",
    "    val_smiles = f.readlines()\n",
    "    val_smiles = [smiles.strip() for smiles in val_smiles]\n",
    "\n",
    "with open(os.path.join(data_dir, 'scaffold_splits', f'test_smiles_scaffold_split_{iteration}.txt'), 'r') as f :\n",
    "    test_smiles = f.readlines()\n",
    "    test_smiles = [smiles.strip() for smiles in test_smiles]\n",
    "\n",
    "train_indices = conf_df[conf_df['smiles'].isin(train_smiles)].index\n",
    "val_indices = conf_df[conf_df['smiles'].isin(val_smiles)].index\n",
    "test_indices = conf_df[conf_df['smiles'].isin(test_smiles)].index\n",
    "\n",
    "train_subset = Subset(dataset, train_indices)\n",
    "val_subset = Subset(dataset, val_indices)\n",
    "test_subset = Subset(dataset, test_indices)"
   ]
  },
  {
   "cell_type": "code",
   "execution_count": null,
   "id": "04640fb3-5693-4e2c-bb43-7f22dcbb5aee",
   "metadata": {
    "tags": []
   },
   "outputs": [
    {
     "name": "stderr",
     "output_type": "stream",
     "text": [
      "GPU available: True, used: True\n",
      "TPU available: False, using: 0 TPU cores\n",
      "IPU available: False, using: 0 IPUs\n",
      "LOCAL_RANK: 0 - CUDA_VISIBLE_DEVICES: [0]\n",
      "\n",
      "  | Name       | Type      | Params\n",
      "-----------------------------------------\n",
      "0 | schnet     | SchNet    | 455 K \n",
      "1 | leaky_relu | LeakyReLU | 0     \n",
      "2 | sigmoid    | Sigmoid   | 0     \n",
      "-----------------------------------------\n",
      "455 K     Trainable params\n",
      "0         Non-trainable params\n",
      "455 K     Total params\n",
      "1.823     Total estimated model params size (MB)\n"
     ]
    },
    {
     "data": {
      "application/vnd.jupyter.widget-view+json": {
       "model_id": "",
       "version_major": 2,
       "version_minor": 0
      },
      "text/plain": [
       "Validation sanity check: 0it [00:00, ?it/s]"
      ]
     },
     "metadata": {},
     "output_type": "display_data"
    },
    {
     "name": "stderr",
     "output_type": "stream",
     "text": [
      "/home/benoit/anaconda3/envs/GeoMol/lib/python3.7/site-packages/pytorch_lightning/utilities/data.py:57: UserWarning: Trying to infer the `batch_size` from an ambiguous collection. The batch size we found is 10. To avoid any miscalculations, use `self.log(..., batch_size=batch_size)`.\n",
      "  \"Trying to infer the `batch_size` from an ambiguous collection. The batch size we\"\n",
      "Global seed set to 42\n"
     ]
    },
    {
     "data": {
      "application/vnd.jupyter.widget-view+json": {
       "model_id": "340ecc7b20f94407b047d7a12e7ff13a",
       "version_major": 2,
       "version_minor": 0
      },
      "text/plain": [
       "Training: 0it [00:00, ?it/s]"
      ]
     },
     "metadata": {},
     "output_type": "display_data"
    },
    {
     "name": "stderr",
     "output_type": "stream",
     "text": [
      "/home/benoit/anaconda3/envs/GeoMol/lib/python3.7/site-packages/pytorch_lightning/trainer/trainer.py:685: UserWarning: Detected KeyboardInterrupt, attempting graceful shutdown...\n",
      "  rank_zero_warn(\"Detected KeyboardInterrupt, attempting graceful shutdown...\")\n",
      "LOCAL_RANK: 0 - CUDA_VISIBLE_DEVICES: [0]\n"
     ]
    },
    {
     "data": {
      "application/vnd.jupyter.widget-view+json": {
       "model_id": "f657dfe5e9cc4431837f6e4483871f40",
       "version_major": 2,
       "version_minor": 0
      },
      "text/plain": [
       "Testing: 0it [00:00, ?it/s]"
      ]
     },
     "metadata": {},
     "output_type": "display_data"
    },
    {
     "name": "stderr",
     "output_type": "stream",
     "text": [
      "Process Process-3:\n",
      "Process Process-2:\n",
      "Process Process-1:\n",
      "Process Process-4:\n",
      "Traceback (most recent call last):\n",
      "Traceback (most recent call last):\n"
     ]
    }
   ],
   "source": [
    "for iteration in range(2) :\n",
    "    with open(os.path.join(data_dir, 'scaffold_splits', f'train_smiles_scaffold_split_{iteration}.txt'), 'r') as f :\n",
    "        train_smiles = f.readlines()\n",
    "        train_smiles = [smiles.strip() for smiles in train_smiles]\n",
    "    \n",
    "    with open(os.path.join(data_dir, 'scaffold_splits', f'val_smiles_scaffold_split_{iteration}.txt'), 'r') as f :\n",
    "        val_smiles = f.readlines()\n",
    "        val_smiles = [smiles.strip() for smiles in val_smiles]\n",
    "\n",
    "    with open(os.path.join(data_dir, 'scaffold_splits', f'test_smiles_scaffold_split_{iteration}.txt'), 'r') as f :\n",
    "        test_smiles = f.readlines()\n",
    "        test_smiles = [smiles.strip() for smiles in test_smiles]\n",
    "        \n",
    "    train_indices = conf_df[conf_df['smiles'].isin(train_smiles)].index\n",
    "    val_indices = conf_df[conf_df['smiles'].isin(val_smiles)].index\n",
    "    test_indices = conf_df[conf_df['smiles'].isin(test_smiles)].index\n",
    "    \n",
    "    train_subset = Subset(dataset, train_indices)\n",
    "    val_subset = Subset(dataset, val_indices)\n",
    "    test_subset = Subset(dataset, test_indices)\n",
    "    \n",
    "    train_loader = DataLoader(train_subset, batch_size=64, shuffle=True, num_workers=4)\n",
    "    val_loader = DataLoader(val_subset, batch_size=64, shuffle=False, num_workers=4)\n",
    "    test_loader = DataLoader(test_subset, batch_size=64, shuffle=False, num_workers=4)\n",
    "    \n",
    "    experiment_name = f'scaffold_split_{iteration}_new'\n",
    "    if experiment_name in os.listdir('lightning_logs') :\n",
    "        checkpoint_name = os.listdir(os.path.join('lightning_logs', experiment_name, 'checkpoints'))[0]\n",
    "        checkpoint_path = os.path.join('lightning_logs', experiment_name, 'checkpoints', checkpoint_name)\n",
    "        litschnet = LitSchNet.load_from_checkpoint(checkpoint_path=checkpoint_path)\n",
    "    else :\n",
    "        litschnet = LitSchNet()\n",
    "        logger = TensorBoardLogger(save_dir=os.getcwd(), version=experiment_name, name=\"lightning_logs\")\n",
    "        trainer = pl.Trainer(logger=logger, callbacks=[EarlyStopping(monitor=\"val_loss\", patience=5)], gpus=1)\n",
    "        trainer.fit(litschnet, train_loader, val_loader)\n",
    "        trainer.test(litschnet, test_loader)\n",
    "    \n",
    "    evaluator = RMSDPredictorEvaluator(model=litschnet)\n",
    "    evaluator.evaluate(test_subset)\n",
    "    evaluator.evaluate(platinum_subset)"
   ]
  },
  {
   "cell_type": "code",
   "execution_count": null,
   "id": "da1643ad-5364-4d95-b4cd-e9afd510ae75",
   "metadata": {},
   "outputs": [],
   "source": [
    "for iteration in range(2) :\n",
    "    with open(os.path.join(data_dir, f'train_smiles_random_split_{iteration}.txt'), 'r') as f :\n",
    "        train_smiles = f.readlines()\n",
    "        train_smiles = [smiles.strip() for smiles in train_smiles]\n",
    "    \n",
    "    with open(os.path.join(data_dir, f'val_smiles_random_split_{iteration}.txt'), 'r') as f :\n",
    "        valid_smiles = f.readlines()\n",
    "        valid_smiles = [smiles.strip() for smiles in valid_smiles]\n",
    "\n",
    "    with open(os.path.join(data_dir, f'test_smiles_random_split_{iteration}.txt'), 'r') as f :\n",
    "        test_smiles = f.readlines()\n",
    "        test_smiles = [smiles.strip() for smiles in test_smiles]\n",
    "        \n",
    "    train_indices = conf_df[conf_df['smiles'].isin(train_smiles)].index\n",
    "    val_indices = conf_df[conf_df['smiles'].isin(val_smiles)].index\n",
    "    test_indices = conf_df[conf_df['smiles'].isin(test_smiles)].index\n",
    "    \n",
    "    train_subset = Subset(dataset, train_indices)\n",
    "    val_subset = Subset(dataset, val_indices)\n",
    "    test_subset = Subset(dataset, test_indices)\n",
    "    \n",
    "    train_loader = DataLoader(train_subset, batch_size=64, shuffle=True, num_workers=4)\n",
    "    val_loader = DataLoader(val_subset, batch_size=64, shuffle=False, num_workers=4)\n",
    "    test_loader = DataLoader(test_subset, batch_size=64, shuffle=False, num_workers=4)\n",
    "    \n",
    "    experiment_name = f'random_split_{iteration}_new'\n",
    "    if experiment_name in os.listdir('lightning_logs') :\n",
    "        checkpoint_name = os.listdir(os.path.join('lightning_logs', experiment_name, 'checkpoints'))[0]\n",
    "        checkpoint_path = os.path.join('lightning_logs', experiment_name, 'checkpoints', checkpoint_name)\n",
    "        litschnet = LitSchNet.load_from_checkpoint(checkpoint_path=checkpoint_path)\n",
    "    else :\n",
    "        litschnet = LitSchNet()\n",
    "        logger = TensorBoardLogger(save_dir=os.getcwd(), version=experiment_name, name=\"lightning_logs\")\n",
    "        trainer = pl.Trainer(logger=logger, callbacks=[EarlyStopping(monitor=\"val_loss\", patience=5)], gpus=1)\n",
    "        trainer.fit(litschnet, train_loader, val_loader)\n",
    "        trainer.test(litschnet, test_loader)\n",
    "    \n",
    "    evaluator = RMSDPredictorEvaluator(model=litschnet)\n",
    "    evaluator.evaluate(test_subset)\n",
    "    evaluator.evaluate(platinum_subset)"
   ]
  },
  {
   "cell_type": "code",
   "execution_count": null,
   "id": "57438d44-ef32-4421-bec5-3ecc89958c51",
   "metadata": {},
   "outputs": [],
   "source": []
  },
  {
   "cell_type": "code",
   "execution_count": null,
   "id": "2159effa-112e-4dd4-b0e5-62a71400cef6",
   "metadata": {},
   "outputs": [],
   "source": []
  }
 ],
 "metadata": {
  "kernelspec": {
   "display_name": "Python 3 (ipykernel)",
   "language": "python",
   "name": "python3"
  },
  "language_info": {
   "codemirror_mode": {
    "name": "ipython",
    "version": 3
   },
   "file_extension": ".py",
   "mimetype": "text/x-python",
   "name": "python",
   "nbconvert_exporter": "python",
   "pygments_lexer": "ipython3",
   "version": "3.7.10"
  }
 },
 "nbformat": 4,
 "nbformat_minor": 5
}
