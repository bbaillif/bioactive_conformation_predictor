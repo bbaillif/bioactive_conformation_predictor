{
 "cells": [
  {
   "cell_type": "code",
   "execution_count": 21,
   "id": "64206a86-d36b-4239-9889-79844ec942a3",
   "metadata": {},
   "outputs": [],
   "source": [
    "import json\n",
    "import os\n",
    "import random\n",
    "\n",
    "from collections import Counter\n",
    "from pdbbind_metadata_processor import PDBBindMetadataProcessor"
   ]
  },
  {
   "cell_type": "code",
   "execution_count": 22,
   "id": "1b9396fa-0f4a-47c8-933b-9a1b7e9682b9",
   "metadata": {},
   "outputs": [],
   "source": [
    "random.seed(42)"
   ]
  },
  {
   "cell_type": "code",
   "execution_count": 2,
   "id": "0f2bd74e-e96b-485b-a258-4412ceca7dd2",
   "metadata": {},
   "outputs": [],
   "source": [
    "code_file = 'codes.json'\n",
    "with open(code_file, 'r') as f:\n",
    "    codes = json.load(f)"
   ]
  },
  {
   "cell_type": "code",
   "execution_count": 7,
   "id": "4cf05bc1-442d-428a-9de2-27b394af9ff5",
   "metadata": {},
   "outputs": [],
   "source": [
    "cluster_file = 'protein_clusters.json'\n",
    "with open(cluster_file, 'r') as f:\n",
    "    clusters = json.load(f)"
   ]
  },
  {
   "cell_type": "code",
   "execution_count": 8,
   "id": "198cfed7-bf50-4313-ac11-e5a6af3c2a00",
   "metadata": {},
   "outputs": [],
   "source": [
    "pdb_to_cluster_file = 'pdb_clusters.json'\n",
    "with open(pdb_to_cluster_file, 'r') as f:\n",
    "    pdb_to_cluster = json.load(f)"
   ]
  },
  {
   "cell_type": "code",
   "execution_count": 9,
   "id": "7035d915-9517-473f-b6b5-5daaaa2a35c7",
   "metadata": {},
   "outputs": [],
   "source": [
    "counter = Counter(clusters)"
   ]
  },
  {
   "cell_type": "code",
   "execution_count": 10,
   "id": "6ec1448e-9758-4ede-bfdb-37152695ca5b",
   "metadata": {},
   "outputs": [],
   "source": [
    "top10clusters = counter.most_common()[:10]"
   ]
  },
  {
   "cell_type": "code",
   "execution_count": 12,
   "id": "5d672f02-151f-47ed-851d-7b7d738a0963",
   "metadata": {},
   "outputs": [
    {
     "data": {
      "text/plain": [
       "[(2160, 436),\n",
       " (1158, 424),\n",
       " (966, 344),\n",
       " (1890, 239),\n",
       " (1317, 194),\n",
       " (2094, 190),\n",
       " (1433, 181),\n",
       " (1299, 178),\n",
       " (1879, 160),\n",
       " (204, 112)]"
      ]
     },
     "execution_count": 12,
     "metadata": {},
     "output_type": "execute_result"
    }
   ],
   "source": [
    "top10clusters"
   ]
  },
  {
   "cell_type": "code",
   "execution_count": 15,
   "id": "4adc835b-05cc-47b6-80ef-b91b9c24029a",
   "metadata": {},
   "outputs": [],
   "source": [
    "pp = PDBBindMetadataProcessor()\n",
    "table = pp.get_master_dataframe()"
   ]
  },
  {
   "cell_type": "code",
   "execution_count": 26,
   "id": "7aafc375-44e1-4572-8899-96adf36832c4",
   "metadata": {
    "scrolled": true,
    "tags": []
   },
   "outputs": [
    {
     "name": "stdout",
     "output_type": "stream",
     "text": [
      "HIV-1 PROTEASE                 369\n",
      "PROTEASE NL4-3                  14\n",
      "PROTEASE RETROPEPSIN            11\n",
      "POL POLYPROTEIN                  7\n",
      "NL4-3 PROTEASE                   3\n",
      "GAG-POL POLYPROTEIN              2\n",
      "PROTEASE                         2\n",
      "MDR 769 HIV-1 PROTEASE           2\n",
      "HIV-1 PROTEASE E35D-DRV          1\n",
      "[D-ALA51/51']HIV-1 PROTEASE      1\n",
      "HIV-1 PROTEASE E35D-SQV          1\n",
      "HIV-1 PROTEASE E35D-APV          1\n",
      "PROTEASE PR5-DRV                 1\n",
      "[AIB51/51']HIV-1 PROTEASE        1\n",
      "[L-ALA51/51']HIV-1 PROTEASE      1\n",
      "PROTEASE PR5-SQV                 1\n",
      "Name: protein name, dtype: int64\n",
      "CARBONIC ANHYDRASE 2           419\n",
      "CARBONIC ANHYDRASE IX-MIMIC      3\n",
      "Name: protein name, dtype: int64\n",
      "BETA-SECRETASE 1    330\n",
      "BETA-SECRETASE-1      1\n",
      "Name: protein name, dtype: int64\n",
      "CELL DIVISION PROTEIN KINASE 2    152\n",
      "CYCLIN-DEPENDENT KINASE 2          87\n",
      "Name: protein name, dtype: int64\n",
      "TRYPSIN             110\n",
      "TRYPSIN BETA         56\n",
      "CATIONIC TRYPSIN     11\n",
      "TRYPSINOGEN           6\n",
      "Name: protein name, dtype: int64\n",
      "BROMODOMAIN-CONTAINING PROTEIN 4    182\n",
      "DNA DAMAGE-BINDING PROTEIN 1          1\n",
      "Name: protein name, dtype: int64\n",
      "HEAT SHOCK PROTEIN HSP90-ALPHA     169\n",
      "HEAT SHOCK PROTEIN HSP90-BETA        7\n",
      "HEAT SHOCK PROTEIN HSP 90-ALPHA      4\n",
      "HSP90AA1 PROTEIN                     1\n",
      "Name: protein name, dtype: int64\n",
      "THROMBIN                          60\n",
      "THROMBIN LIGHT CHAIN              37\n",
      "THROMBIN ALPHA                    35\n",
      "PROTHROMBIN                       22\n",
      "THROMBIN HEAVY CHAIN               4\n",
      "THROMBIN SHORT CHAIN               3\n",
      "EPSILON THROMBIN                   1\n",
      "THROMBIN EPSILON                   1\n",
      "THROMBIN ALPHA (SMALL SUBUNIT)     1\n",
      "Name: protein name, dtype: int64\n",
      "MITOGEN-ACTIVATED PROTEIN KINASE 14     150\n",
      "MITOGEN-ACTIVATED PROTEIN KINASE P38      7\n",
      "Name: protein name, dtype: int64\n",
      "RNA-DIRECTED RNA POLYMERASE                 69\n",
      "GENOME POLYPROTEIN                          16\n",
      "HCV NS5B POLYMERASE                          5\n",
      "POLYPROTEIN                                  5\n",
      "RNA-DIRECTED RNA POLYMERASE (NS5B) (P68)     3\n",
      "HCV POLYMERASE                               3\n",
      "NS5B RNA-DEPENDENT RNA POLYMERASE            3\n",
      "HCV NS5B RNA-DEPENDENT RNA POLYMERASE        3\n",
      "HCV NS5B RNA_DEPENDENT RNA POLYMERASE        2\n",
      "HCV RNA-DIRECTED RNA POLYMERASE (NS5B)       1\n",
      "HCV NS5B RNA POLYMERASE                      1\n",
      "RNA-DEPENDENT RNA POLYMERASE                 1\n",
      "Name: protein name, dtype: int64\n"
     ]
    }
   ],
   "source": [
    "for big_cluster_id, count in top10clusters :\n",
    "    most_common_codes = [code for code, cluster_id in pdb_to_cluster.items() if cluster_id == big_cluster_id]\n",
    "    filtered_table = table[table['PDB code'].isin(most_common_codes)]\n",
    "    print(filtered_table['protein name'].value_counts())"
   ]
  },
  {
   "cell_type": "code",
   "execution_count": 13,
   "id": "4ce0ca55-1100-46de-a7cf-332bbde156ae",
   "metadata": {},
   "outputs": [],
   "source": [
    "frac_train = 0.8\n",
    "frac_val = 0.1\n",
    "\n",
    "train_cutoff = int(frac_train * len(codes))\n",
    "val_cutoff = int((frac_train + frac_val) * len(codes))\n",
    "train_inds = []\n",
    "val_inds = []\n",
    "test_inds = []"
   ]
  },
  {
   "cell_type": "code",
   "execution_count": 14,
   "id": "15dfe01f-688a-46bc-9f05-3d9b4967910c",
   "metadata": {},
   "outputs": [],
   "source": [
    "unique_cluster_ids = list(counter.keys())"
   ]
  },
  {
   "cell_type": "code",
   "execution_count": 19,
   "id": "0c34e512-3b1e-437e-9c06-bb0c2fb2d6bc",
   "metadata": {},
   "outputs": [],
   "source": [
    "data_dir_path = 'data/'\n",
    "protein_similarity_splits_dir_name = 'protein_similarity_splits'\n",
    "protein_similarity_splits_dir_path = os.path.join(data_dir_path, protein_similarity_splits_dir_name)\n",
    "if not os.path.exists(protein_similarity_splits_dir_path) :\n",
    "    os.mkdir(protein_similarity_splits_dir_path)"
   ]
  },
  {
   "cell_type": "code",
   "execution_count": 24,
   "id": "1c5dd7e2-fc35-4de9-95b6-2ff397c0bd5e",
   "metadata": {},
   "outputs": [],
   "source": [
    "for i in range(5) :\n",
    "    \n",
    "    random.shuffle(unique_cluster_ids)\n",
    "    \n",
    "    train_pdbs = []\n",
    "    val_pdbs = []\n",
    "    test_pdbs = []\n",
    "    \n",
    "    for current_cluster_id in unique_cluster_ids:\n",
    "        pdbs = [pdb_id for pdb_id, cluster_id in pdb_to_cluster.items() if cluster_id == current_cluster_id]\n",
    "        if len(train_pdbs) + len(pdbs) > train_cutoff:\n",
    "            if len(train_pdbs) + len(val_pdbs) + len(pdbs) > val_cutoff:\n",
    "                test_pdbs += pdbs\n",
    "            else:\n",
    "                val_pdbs += pdbs\n",
    "        else:\n",
    "            train_pdbs += pdbs\n",
    "    \n",
    "    with open(os.path.join(protein_similarity_splits_dir_path, f'train_pdb_protein_similarity_split_{i}.txt'), 'w') as f :\n",
    "        for pdb in train_pdbs :\n",
    "            f.write(pdb)\n",
    "            f.write('\\n')\n",
    "        \n",
    "    with open(os.path.join(protein_similarity_splits_dir_path, f'val_pdb_protein_similarity_split_{i}.txt'), 'w') as f :\n",
    "        for pdb in val_pdbs :\n",
    "            f.write(pdb)\n",
    "            f.write('\\n')\n",
    "        \n",
    "    with open(os.path.join(protein_similarity_splits_dir_path, f'test_pdb_protein_similarity_split_{i}.txt'), 'w') as f :\n",
    "        for pdb in test_pdbs :\n",
    "            f.write(pdb)\n",
    "            f.write('\\n')"
   ]
  },
  {
   "cell_type": "code",
   "execution_count": 25,
   "id": "6a3d0fc4-4d19-4eeb-8e14-ea195a6b782d",
   "metadata": {},
   "outputs": [
    {
     "data": {
      "text/plain": [
       "13859"
      ]
     },
     "execution_count": 25,
     "metadata": {},
     "output_type": "execute_result"
    }
   ],
   "source": [
    "len(train_pdbs)"
   ]
  },
  {
   "cell_type": "code",
   "execution_count": 27,
   "id": "fcb092f8-f1b7-4a86-81fb-fa7e622a9b77",
   "metadata": {},
   "outputs": [
    {
     "data": {
      "text/plain": [
       "1732"
      ]
     },
     "execution_count": 27,
     "metadata": {},
     "output_type": "execute_result"
    }
   ],
   "source": [
    "len(val_pdbs)"
   ]
  },
  {
   "cell_type": "code",
   "execution_count": 26,
   "id": "26bf73ae-2a3c-4d3e-8257-a79a98afd451",
   "metadata": {},
   "outputs": [
    {
     "data": {
      "text/plain": [
       "1733"
      ]
     },
     "execution_count": 26,
     "metadata": {},
     "output_type": "execute_result"
    }
   ],
   "source": [
    "len(test_pdbs)"
   ]
  }
 ],
 "metadata": {
  "kernelspec": {
   "display_name": "Python 3 (ipykernel)",
   "language": "python",
   "name": "python3"
  },
  "language_info": {
   "codemirror_mode": {
    "name": "ipython",
    "version": 3
   },
   "file_extension": ".py",
   "mimetype": "text/x-python",
   "name": "python",
   "nbconvert_exporter": "python",
   "pygments_lexer": "ipython3",
   "version": "3.7.10"
  },
  "widgets": {
   "application/vnd.jupyter.widget-state+json": {
    "state": {},
    "version_major": 2,
    "version_minor": 0
   }
  }
 },
 "nbformat": 4,
 "nbformat_minor": 5
}
