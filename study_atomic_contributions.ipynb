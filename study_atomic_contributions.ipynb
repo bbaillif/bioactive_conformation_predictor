{
 "cells": [
  {
   "cell_type": "code",
   "execution_count": 6,
   "id": "05286df1-2b3a-40b7-9bd9-617f22c30f4a",
   "metadata": {},
   "outputs": [],
   "source": [
    "import os\n",
    "\n",
    "from tqdm import tqdm\n",
    "from conf_ensemble_dataset_in_memory import ConfEnsembleDataset\n",
    "from torch_geometric.data import Batch, DataLoader\n",
    "from torch.utils.data import ConcatDataset\n",
    "from litschnet import LitSchNet"
   ]
  },
  {
   "cell_type": "code",
   "execution_count": 2,
   "id": "b69b12d7-7ba5-43b6-acf4-b86621f69d58",
   "metadata": {},
   "outputs": [],
   "source": [
    "data_dir = 'data/'"
   ]
  },
  {
   "cell_type": "code",
   "execution_count": 3,
   "id": "16fb9d34-8534-4c7e-a2aa-ef8831b17620",
   "metadata": {},
   "outputs": [],
   "source": [
    "# run once to preprocess datasets and generate chunks\n",
    "# dataset = ConfEnsembleDataset()\n",
    "# dataset = ConfEnsembleDataset(dataset='platinum') # 16G"
   ]
  },
  {
   "cell_type": "code",
   "execution_count": 7,
   "id": "cc7808fa-0591-48ec-841a-5496eb1055af",
   "metadata": {},
   "outputs": [],
   "source": [
    "pdbbind_chunks = [filename for filename in os.listdir(os.path.join(data_dir, 'processed')) if filename.startswith('pdbbind')]\n",
    "pdbbind_n_chunks = len(pdbbind_chunks)"
   ]
  },
  {
   "cell_type": "code",
   "execution_count": 8,
   "id": "05e59f92-f62e-4b53-b960-addfc18ab883",
   "metadata": {},
   "outputs": [
    {
     "name": "stderr",
     "output_type": "stream",
     "text": [
      "100%|█████████████████████████████████████████████| 3/3 [03:15<00:00, 65.04s/it]"
     ]
    },
    {
     "name": "stdout",
     "output_type": "stream",
     "text": [
      "CPU times: user 3min 12s, sys: 2.65 s, total: 3min 15s\n",
      "Wall time: 3min 15s\n"
     ]
    },
    {
     "name": "stderr",
     "output_type": "stream",
     "text": [
      "\n"
     ]
    }
   ],
   "source": [
    "%%time\n",
    "iteration = 0\n",
    "with open(os.path.join(data_dir, 'scaffold_splits', f'train_smiles_scaffold_split_{iteration}.txt'), 'r') as f :\n",
    "    train_smiles = f.readlines()\n",
    "    train_smiles = [smiles.strip() for smiles in train_smiles]\n",
    "\n",
    "with open(os.path.join(data_dir, 'scaffold_splits', f'val_smiles_scaffold_split_{iteration}.txt'), 'r') as f :\n",
    "    val_smiles = f.readlines()\n",
    "    val_smiles = [smiles.strip() for smiles in val_smiles]\n",
    "\n",
    "with open(os.path.join(data_dir, 'scaffold_splits', f'test_smiles_scaffold_split_{iteration}.txt'), 'r') as f :\n",
    "    test_smiles = f.readlines()\n",
    "    test_smiles = [smiles.strip() for smiles in test_smiles]\n",
    "\n",
    "train_datasets = []\n",
    "val_datasets = []\n",
    "test_datasets = []\n",
    "\n",
    "for chunk_number in tqdm(range(pdbbind_n_chunks)) :\n",
    "\n",
    "    dataset = ConfEnsembleDataset(loaded_chunk=chunk_number,\n",
    "                                  smiles_list=train_smiles)\n",
    "    train_datasets.append(dataset)\n",
    "\n",
    "    dataset = ConfEnsembleDataset(loaded_chunk=chunk_number,\n",
    "                                  smiles_list=val_smiles)\n",
    "    val_datasets.append(dataset)\n",
    "\n",
    "    dataset = ConfEnsembleDataset(loaded_chunk=chunk_number,\n",
    "                                  smiles_list=test_smiles)\n",
    "    test_datasets.append(dataset)"
   ]
  },
  {
   "cell_type": "code",
   "execution_count": 9,
   "id": "2bf4eb8a-c1d5-4dfb-9ee3-251ad993136e",
   "metadata": {},
   "outputs": [],
   "source": [
    "train_dataset = ConcatDataset(train_datasets)\n",
    "val_dataset = ConcatDataset(val_datasets)\n",
    "test_dataset = ConcatDataset(test_datasets)"
   ]
  },
  {
   "cell_type": "code",
   "execution_count": 10,
   "id": "fee712e0-5c3f-4eeb-940e-b97292ee2482",
   "metadata": {},
   "outputs": [
    {
     "name": "stderr",
     "output_type": "stream",
     "text": [
      "/home/benoit/anaconda3/envs/GeoMol/lib/python3.7/site-packages/torch_geometric/deprecation.py:13: UserWarning: 'data.DataLoader' is deprecated, use 'loader.DataLoader' instead\n",
      "  warnings.warn(out)\n"
     ]
    }
   ],
   "source": [
    "test_loader = DataLoader(test_dataset, batch_size=64, shuffle=False, num_workers=4)"
   ]
  },
  {
   "cell_type": "code",
   "execution_count": 12,
   "id": "0b9c6cbf-a855-4838-b80c-ffdf5bbbb924",
   "metadata": {},
   "outputs": [],
   "source": [
    "for batch in test_loader :\n",
    "    break"
   ]
  },
  {
   "cell_type": "code",
   "execution_count": 13,
   "id": "81e84cb7-e41e-4817-9cbb-92d7421fbb0a",
   "metadata": {},
   "outputs": [],
   "source": [
    "import pytorch_lightning as pl\n",
    "from torch_geometric.nn.models import SchNet\n",
    "\n",
    "from typing import Optional\n",
    "\n",
    "import os\n",
    "import warnings\n",
    "import os.path as osp\n",
    "from math import pi as PI\n",
    "\n",
    "import torch\n",
    "import torch.nn.functional as F\n",
    "from torch.nn import Embedding, Sequential, Linear, ModuleList\n",
    "import numpy as np\n",
    "\n",
    "from torch_scatter import scatter\n",
    "from torch_geometric.data.makedirs import makedirs\n",
    "from torch_geometric.data import download_url, extract_zip, Dataset\n",
    "from torch_geometric.nn import radius_graph, MessagePassing\n",
    "\n",
    "class AtomicSchNet(SchNet) :\n",
    "    def forward(self, z, pos, batch=None):\n",
    "        assert z.dim() == 1 and z.dtype == torch.long\n",
    "        batch = torch.zeros_like(z) if batch is None else batch\n",
    "\n",
    "        h = self.embedding(z)\n",
    "\n",
    "        edge_index = radius_graph(pos, r=self.cutoff, batch=batch,\n",
    "                                  max_num_neighbors=self.max_num_neighbors)\n",
    "        row, col = edge_index\n",
    "        edge_weight = (pos[row] - pos[col]).norm(dim=-1)\n",
    "        edge_attr = self.distance_expansion(edge_weight)\n",
    "\n",
    "        for interaction in self.interactions:\n",
    "            h = h + interaction(h, edge_index, edge_weight, edge_attr)\n",
    "\n",
    "        h = self.lin1(h)\n",
    "        h = self.act(h)\n",
    "        h = self.lin2(h)\n",
    "\n",
    "        if self.dipole:\n",
    "            # Get center of mass.\n",
    "            mass = self.atomic_mass[z].view(-1, 1)\n",
    "            c = scatter(mass * pos, batch, dim=0) / scatter(mass, batch, dim=0)\n",
    "            h = h * (pos - c.index_select(0, batch))\n",
    "\n",
    "        if not self.dipole and self.mean is not None and self.std is not None:\n",
    "            h = h * self.std + self.mean\n",
    "\n",
    "        if not self.dipole and self.atomref is not None:\n",
    "            h = h + self.atomref(z)\n",
    "\n",
    "        return h\n",
    "\n",
    "class LitSchNet(pl.LightningModule):\n",
    "    def __init__(self, task='rmsd'):\n",
    "        super().__init__()\n",
    "        self.schnet = AtomicSchNet()\n",
    "        self.leaky_relu = torch.nn.LeakyReLU()\n",
    "        self.sigmoid = torch.nn.Sigmoid()\n",
    "        \n",
    "        assert task in ['rmsd', 'tfd']\n",
    "        self.task = task\n",
    "        \n",
    "        #self.automatic_optimization=False\n",
    "\n",
    "    def forward(self, batch):\n",
    "        pred = self.schnet(batch.z.long(), batch.pos, batch.batch)\n",
    "        if self.task == 'rmsd' :\n",
    "            pred = self.leaky_relu(pred)\n",
    "        elif self.task == 'tfd' :\n",
    "            pred = self.sigmoid(pred)\n",
    "        return pred\n",
    "\n",
    "    def training_step(self, batch, batch_idx):\n",
    "        pred = self.forward(batch)\n",
    "        target = self._get_target(batch)\n",
    "        loss = F.mse_loss(pred.squeeze(), target)\n",
    "        self.log(\"train_loss\", loss)\n",
    "        return loss\n",
    "    \n",
    "    def validation_step(self, batch, batch_idx):\n",
    "        pred = self.forward(batch)\n",
    "        target = self._get_target(batch)\n",
    "        loss = F.mse_loss(pred.squeeze(), target)\n",
    "        self.log(\"val_loss\", loss)\n",
    "        return loss\n",
    "    \n",
    "    def test_step(self, batch, batch_idx):\n",
    "        pred = self.forward(batch)\n",
    "        target = self._get_target(batch)\n",
    "        loss = F.mse_loss(pred.squeeze(), target)\n",
    "        self.log(\"test_loss\", loss)\n",
    "        return loss\n",
    "\n",
    "    def configure_optimizers(self):\n",
    "        optimizer = torch.optim.Adam(self.parameters(), lr=1e-4)\n",
    "        scheduler = torch.optim.lr_scheduler.ReduceLROnPlateau(optimizer)\n",
    "        return {\n",
    "            \"optimizer\": optimizer,\n",
    "            \"lr_scheduler\": {\n",
    "                \"scheduler\": scheduler,\n",
    "                \"monitor\": \"val_loss\",\n",
    "                \"frequency\": 1\n",
    "                # If \"monitor\" references validation metrics, then \"frequency\" should be set to a\n",
    "                # multiple of \"trainer.check_val_every_n_epoch\".\n",
    "            },\n",
    "        }\n",
    "    \n",
    "    def _get_target(self, batch) :\n",
    "        if self.task == 'rmsd' :\n",
    "            return batch.rmsd\n",
    "        elif self.task == 'tfd' :\n",
    "            return batch.tfd"
   ]
  },
  {
   "cell_type": "code",
   "execution_count": 14,
   "id": "486ddc12-902c-4331-b7df-3c0d0683b54e",
   "metadata": {},
   "outputs": [],
   "source": [
    "experiment_name = f'scaffold_split_{iteration}_new'\n",
    "if experiment_name in os.listdir('lightning_logs') :\n",
    "    checkpoint_name = os.listdir(os.path.join('lightning_logs', experiment_name, 'checkpoints'))[0]\n",
    "    checkpoint_path = os.path.join('lightning_logs', experiment_name, 'checkpoints', checkpoint_name)\n",
    "    litschnet = LitSchNet.load_from_checkpoint(checkpoint_path=checkpoint_path)"
   ]
  },
  {
   "cell_type": "code",
   "execution_count": 35,
   "id": "ed0bb136-ada4-46ff-ae3b-b67426b5c718",
   "metadata": {},
   "outputs": [],
   "source": [
    "with torch.no_grad() :\n",
    "    preds = litschnet(batch)"
   ]
  },
  {
   "cell_type": "code",
   "execution_count": 16,
   "id": "a6d313da-3e90-4c47-9f82-eed764742bbb",
   "metadata": {},
   "outputs": [
    {
     "data": {
      "text/plain": [
       "'O=C1[C@@H](O)c2ccccc2N1CCc1ccccc1'"
      ]
     },
     "execution_count": 16,
     "metadata": {},
     "output_type": "execute_result"
    }
   ],
   "source": [
    "batch.data_id[0]"
   ]
  },
  {
   "cell_type": "code",
   "execution_count": 17,
   "id": "70a6a8f0-5cd2-4cd7-83b9-3434ab23d9d3",
   "metadata": {},
   "outputs": [],
   "source": [
    "import pickle\n",
    "with open('data/raw/ccdc_generated_conf_ensemble_library.p', 'rb') as f :\n",
    "    cel = pickle.load(f)"
   ]
  },
  {
   "cell_type": "code",
   "execution_count": 124,
   "id": "e7411518-1a0e-4390-8681-f10f9790bf7f",
   "metadata": {},
   "outputs": [],
   "source": [
    "from mol_viewer import MolViewer\n",
    "from rdkit.Chem.Draw import rdMolDraw2D\n",
    "import copy\n",
    "from rdkit import Chem"
   ]
  },
  {
   "cell_type": "code",
   "execution_count": 161,
   "id": "8d3e8797-a135-45fe-bb3f-73d2a2ac926e",
   "metadata": {},
   "outputs": [],
   "source": [
    "import matplotlib as mpl\n",
    "import matplotlib.cm as cm\n",
    "def score_to_rgba_color(score, vmin=0, vmax=1) :\n",
    "    cmap = cm.YlOrRd\n",
    "    norm = mpl.colors.Normalize(vmin=vmin, vmax=vmax)\n",
    "    normalized_map = cm.ScalarMappable(norm=norm, cmap=cmap)\n",
    "    rgba = normalized_map.to_rgba(score)\n",
    "    return rgba\n",
    "    #return mpl.colors.to_hex(rgba).replace('#', '0x')"
   ]
  },
  {
   "cell_type": "code",
   "execution_count": 172,
   "id": "a847d6a2-da1a-4277-932b-896914371545",
   "metadata": {},
   "outputs": [],
   "source": [
    "import pandas as pd\n",
    "df = pd.DataFrame(columns=['smiles', 'conf_i', 'atom_i', 'contribution'])\n",
    "for batch_i in batch.batch.unique() :\n",
    "    pred_is = preds[batch.batch == batch_i]\n",
    "    pred_is = pred_is.numpy()\n",
    "    smiles = batch.data_id[batch_i]\n",
    "    ce = cel.get_conf_ensemble(smiles)\n",
    "    for atom_i, pred in enumerate(pred_is) :\n",
    "        new_row = pd.Series({'smiles' : smiles,\n",
    "                             'conf_i' : batch_i.item(),\n",
    "                             'atom_i' : atom_i,\n",
    "                             'contribution' : pred[0]})\n",
    "        df = df.append(new_row, ignore_index=True)"
   ]
  },
  {
   "cell_type": "code",
   "execution_count": 173,
   "id": "b3dca919-f7d8-4a4f-9a12-704947a18c51",
   "metadata": {},
   "outputs": [
    {
     "data": {
      "text/html": [
       "<div>\n",
       "<style scoped>\n",
       "    .dataframe tbody tr th:only-of-type {\n",
       "        vertical-align: middle;\n",
       "    }\n",
       "\n",
       "    .dataframe tbody tr th {\n",
       "        vertical-align: top;\n",
       "    }\n",
       "\n",
       "    .dataframe thead th {\n",
       "        text-align: right;\n",
       "    }\n",
       "</style>\n",
       "<table border=\"1\" class=\"dataframe\">\n",
       "  <thead>\n",
       "    <tr style=\"text-align: right;\">\n",
       "      <th></th>\n",
       "      <th>smiles</th>\n",
       "      <th>conf_i</th>\n",
       "      <th>atom_i</th>\n",
       "      <th>contribution</th>\n",
       "    </tr>\n",
       "  </thead>\n",
       "  <tbody>\n",
       "    <tr>\n",
       "      <th>0</th>\n",
       "      <td>O=C1[C@@H](O)c2ccccc2N1CCc1ccccc1</td>\n",
       "      <td>0</td>\n",
       "      <td>0</td>\n",
       "      <td>0.039185</td>\n",
       "    </tr>\n",
       "    <tr>\n",
       "      <th>1</th>\n",
       "      <td>O=C1[C@@H](O)c2ccccc2N1CCc1ccccc1</td>\n",
       "      <td>0</td>\n",
       "      <td>1</td>\n",
       "      <td>0.039186</td>\n",
       "    </tr>\n",
       "    <tr>\n",
       "      <th>2</th>\n",
       "      <td>O=C1[C@@H](O)c2ccccc2N1CCc1ccccc1</td>\n",
       "      <td>0</td>\n",
       "      <td>2</td>\n",
       "      <td>0.053623</td>\n",
       "    </tr>\n",
       "    <tr>\n",
       "      <th>3</th>\n",
       "      <td>O=C1[C@@H](O)c2ccccc2N1CCc1ccccc1</td>\n",
       "      <td>0</td>\n",
       "      <td>3</td>\n",
       "      <td>-0.000911</td>\n",
       "    </tr>\n",
       "    <tr>\n",
       "      <th>4</th>\n",
       "      <td>O=C1[C@@H](O)c2ccccc2N1CCc1ccccc1</td>\n",
       "      <td>0</td>\n",
       "      <td>4</td>\n",
       "      <td>0.034488</td>\n",
       "    </tr>\n",
       "    <tr>\n",
       "      <th>...</th>\n",
       "      <td>...</td>\n",
       "      <td>...</td>\n",
       "      <td>...</td>\n",
       "      <td>...</td>\n",
       "    </tr>\n",
       "    <tr>\n",
       "      <th>1002</th>\n",
       "      <td>O=C1[C@@H](O)c2ccccc2N1CCc1ccccc1</td>\n",
       "      <td>52</td>\n",
       "      <td>14</td>\n",
       "      <td>0.078919</td>\n",
       "    </tr>\n",
       "    <tr>\n",
       "      <th>1003</th>\n",
       "      <td>O=C1[C@@H](O)c2ccccc2N1CCc1ccccc1</td>\n",
       "      <td>52</td>\n",
       "      <td>15</td>\n",
       "      <td>0.072495</td>\n",
       "    </tr>\n",
       "    <tr>\n",
       "      <th>1004</th>\n",
       "      <td>O=C1[C@@H](O)c2ccccc2N1CCc1ccccc1</td>\n",
       "      <td>52</td>\n",
       "      <td>16</td>\n",
       "      <td>0.061468</td>\n",
       "    </tr>\n",
       "    <tr>\n",
       "      <th>1005</th>\n",
       "      <td>O=C1[C@@H](O)c2ccccc2N1CCc1ccccc1</td>\n",
       "      <td>52</td>\n",
       "      <td>17</td>\n",
       "      <td>0.044202</td>\n",
       "    </tr>\n",
       "    <tr>\n",
       "      <th>1006</th>\n",
       "      <td>O=C1[C@@H](O)c2ccccc2N1CCc1ccccc1</td>\n",
       "      <td>52</td>\n",
       "      <td>18</td>\n",
       "      <td>0.059524</td>\n",
       "    </tr>\n",
       "  </tbody>\n",
       "</table>\n",
       "<p>1007 rows × 4 columns</p>\n",
       "</div>"
      ],
      "text/plain": [
       "                                 smiles conf_i atom_i  contribution\n",
       "0     O=C1[C@@H](O)c2ccccc2N1CCc1ccccc1      0      0      0.039185\n",
       "1     O=C1[C@@H](O)c2ccccc2N1CCc1ccccc1      0      1      0.039186\n",
       "2     O=C1[C@@H](O)c2ccccc2N1CCc1ccccc1      0      2      0.053623\n",
       "3     O=C1[C@@H](O)c2ccccc2N1CCc1ccccc1      0      3     -0.000911\n",
       "4     O=C1[C@@H](O)c2ccccc2N1CCc1ccccc1      0      4      0.034488\n",
       "...                                 ...    ...    ...           ...\n",
       "1002  O=C1[C@@H](O)c2ccccc2N1CCc1ccccc1     52     14      0.078919\n",
       "1003  O=C1[C@@H](O)c2ccccc2N1CCc1ccccc1     52     15      0.072495\n",
       "1004  O=C1[C@@H](O)c2ccccc2N1CCc1ccccc1     52     16      0.061468\n",
       "1005  O=C1[C@@H](O)c2ccccc2N1CCc1ccccc1     52     17      0.044202\n",
       "1006  O=C1[C@@H](O)c2ccccc2N1CCc1ccccc1     52     18      0.059524\n",
       "\n",
       "[1007 rows x 4 columns]"
      ]
     },
     "execution_count": 173,
     "metadata": {},
     "output_type": "execute_result"
    }
   ],
   "source": [
    "smiles = 'O=C1[C@@H](O)c2ccccc2N1CCc1ccccc1'\n",
    "df_smiles = df[df['smiles'] == smiles]\n",
    "df_smiles"
   ]
  },
  {
   "cell_type": "code",
   "execution_count": 236,
   "id": "5279d78a-c754-42f8-b8b0-a1383f5e7176",
   "metadata": {},
   "outputs": [
    {
     "data": {
      "text/html": [
       "<div>\n",
       "<style scoped>\n",
       "    .dataframe tbody tr th:only-of-type {\n",
       "        vertical-align: middle;\n",
       "    }\n",
       "\n",
       "    .dataframe tbody tr th {\n",
       "        vertical-align: top;\n",
       "    }\n",
       "\n",
       "    .dataframe thead th {\n",
       "        text-align: right;\n",
       "    }\n",
       "</style>\n",
       "<table border=\"1\" class=\"dataframe\">\n",
       "  <thead>\n",
       "    <tr style=\"text-align: right;\">\n",
       "      <th>atom_i</th>\n",
       "      <th>0</th>\n",
       "      <th>1</th>\n",
       "      <th>2</th>\n",
       "      <th>3</th>\n",
       "      <th>4</th>\n",
       "      <th>5</th>\n",
       "      <th>6</th>\n",
       "      <th>7</th>\n",
       "      <th>8</th>\n",
       "      <th>9</th>\n",
       "      <th>10</th>\n",
       "      <th>11</th>\n",
       "      <th>12</th>\n",
       "      <th>13</th>\n",
       "      <th>14</th>\n",
       "      <th>15</th>\n",
       "      <th>16</th>\n",
       "      <th>17</th>\n",
       "      <th>18</th>\n",
       "    </tr>\n",
       "    <tr>\n",
       "      <th>conf_i</th>\n",
       "      <th></th>\n",
       "      <th></th>\n",
       "      <th></th>\n",
       "      <th></th>\n",
       "      <th></th>\n",
       "      <th></th>\n",
       "      <th></th>\n",
       "      <th></th>\n",
       "      <th></th>\n",
       "      <th></th>\n",
       "      <th></th>\n",
       "      <th></th>\n",
       "      <th></th>\n",
       "      <th></th>\n",
       "      <th></th>\n",
       "      <th></th>\n",
       "      <th></th>\n",
       "      <th></th>\n",
       "      <th></th>\n",
       "    </tr>\n",
       "  </thead>\n",
       "  <tbody>\n",
       "    <tr>\n",
       "      <th>0</th>\n",
       "      <td>0.041959</td>\n",
       "      <td>0.041960</td>\n",
       "      <td>0.057420</td>\n",
       "      <td>-0.000975</td>\n",
       "      <td>0.036930</td>\n",
       "      <td>0.063625</td>\n",
       "      <td>0.064998</td>\n",
       "      <td>0.099284</td>\n",
       "      <td>0.031140</td>\n",
       "      <td>0.064492</td>\n",
       "      <td>-0.001505</td>\n",
       "      <td>0.079739</td>\n",
       "      <td>0.069702</td>\n",
       "      <td>0.056239</td>\n",
       "      <td>0.029659</td>\n",
       "      <td>0.061420</td>\n",
       "      <td>0.122117</td>\n",
       "      <td>0.059767</td>\n",
       "      <td>0.022030</td>\n",
       "    </tr>\n",
       "    <tr>\n",
       "      <th>1</th>\n",
       "      <td>-0.000174</td>\n",
       "      <td>0.056781</td>\n",
       "      <td>0.056576</td>\n",
       "      <td>0.032307</td>\n",
       "      <td>0.028635</td>\n",
       "      <td>0.062074</td>\n",
       "      <td>0.100879</td>\n",
       "      <td>0.108855</td>\n",
       "      <td>0.033358</td>\n",
       "      <td>0.056813</td>\n",
       "      <td>-0.000485</td>\n",
       "      <td>0.095278</td>\n",
       "      <td>0.061722</td>\n",
       "      <td>0.050295</td>\n",
       "      <td>0.029455</td>\n",
       "      <td>0.060400</td>\n",
       "      <td>0.094738</td>\n",
       "      <td>0.053952</td>\n",
       "      <td>0.018540</td>\n",
       "    </tr>\n",
       "    <tr>\n",
       "      <th>2</th>\n",
       "      <td>-0.000242</td>\n",
       "      <td>0.055613</td>\n",
       "      <td>0.050809</td>\n",
       "      <td>0.065830</td>\n",
       "      <td>0.025153</td>\n",
       "      <td>0.055320</td>\n",
       "      <td>0.094934</td>\n",
       "      <td>0.129800</td>\n",
       "      <td>0.027117</td>\n",
       "      <td>0.051833</td>\n",
       "      <td>-0.000218</td>\n",
       "      <td>0.084533</td>\n",
       "      <td>0.063772</td>\n",
       "      <td>0.053492</td>\n",
       "      <td>0.010836</td>\n",
       "      <td>0.050586</td>\n",
       "      <td>0.097606</td>\n",
       "      <td>0.051494</td>\n",
       "      <td>0.031732</td>\n",
       "    </tr>\n",
       "    <tr>\n",
       "      <th>3</th>\n",
       "      <td>-0.000045</td>\n",
       "      <td>0.062766</td>\n",
       "      <td>0.060011</td>\n",
       "      <td>0.036220</td>\n",
       "      <td>0.021070</td>\n",
       "      <td>0.066000</td>\n",
       "      <td>0.067379</td>\n",
       "      <td>0.083571</td>\n",
       "      <td>0.008397</td>\n",
       "      <td>0.060691</td>\n",
       "      <td>-0.001648</td>\n",
       "      <td>0.079029</td>\n",
       "      <td>0.067829</td>\n",
       "      <td>0.054210</td>\n",
       "      <td>0.023666</td>\n",
       "      <td>0.062522</td>\n",
       "      <td>0.135690</td>\n",
       "      <td>0.076586</td>\n",
       "      <td>0.036055</td>\n",
       "    </tr>\n",
       "    <tr>\n",
       "      <th>4</th>\n",
       "      <td>0.002867</td>\n",
       "      <td>0.058285</td>\n",
       "      <td>0.046837</td>\n",
       "      <td>0.066710</td>\n",
       "      <td>0.021112</td>\n",
       "      <td>0.058197</td>\n",
       "      <td>0.086325</td>\n",
       "      <td>0.100252</td>\n",
       "      <td>0.023949</td>\n",
       "      <td>0.054385</td>\n",
       "      <td>-0.000929</td>\n",
       "      <td>0.066442</td>\n",
       "      <td>0.071505</td>\n",
       "      <td>0.052743</td>\n",
       "      <td>0.019329</td>\n",
       "      <td>0.052562</td>\n",
       "      <td>0.114963</td>\n",
       "      <td>0.064566</td>\n",
       "      <td>0.039901</td>\n",
       "    </tr>\n",
       "  </tbody>\n",
       "</table>\n",
       "</div>"
      ],
      "text/plain": [
       "atom_i        0         1         2         3         4         5         6   \\\n",
       "conf_i                                                                         \n",
       "0       0.041959  0.041960  0.057420 -0.000975  0.036930  0.063625  0.064998   \n",
       "1      -0.000174  0.056781  0.056576  0.032307  0.028635  0.062074  0.100879   \n",
       "2      -0.000242  0.055613  0.050809  0.065830  0.025153  0.055320  0.094934   \n",
       "3      -0.000045  0.062766  0.060011  0.036220  0.021070  0.066000  0.067379   \n",
       "4       0.002867  0.058285  0.046837  0.066710  0.021112  0.058197  0.086325   \n",
       "\n",
       "atom_i        7         8         9         10        11        12        13  \\\n",
       "conf_i                                                                         \n",
       "0       0.099284  0.031140  0.064492 -0.001505  0.079739  0.069702  0.056239   \n",
       "1       0.108855  0.033358  0.056813 -0.000485  0.095278  0.061722  0.050295   \n",
       "2       0.129800  0.027117  0.051833 -0.000218  0.084533  0.063772  0.053492   \n",
       "3       0.083571  0.008397  0.060691 -0.001648  0.079029  0.067829  0.054210   \n",
       "4       0.100252  0.023949  0.054385 -0.000929  0.066442  0.071505  0.052743   \n",
       "\n",
       "atom_i        14        15        16        17        18  \n",
       "conf_i                                                    \n",
       "0       0.029659  0.061420  0.122117  0.059767  0.022030  \n",
       "1       0.029455  0.060400  0.094738  0.053952  0.018540  \n",
       "2       0.010836  0.050586  0.097606  0.051494  0.031732  \n",
       "3       0.023666  0.062522  0.135690  0.076586  0.036055  \n",
       "4       0.019329  0.052562  0.114963  0.064566  0.039901  "
      ]
     },
     "execution_count": 236,
     "metadata": {},
     "output_type": "execute_result"
    }
   ],
   "source": [
    "cross_tab_prop = pd.crosstab(index=df_smiles['conf_i'],\n",
    "                             columns=df_smiles['atom_i'],\n",
    "                             values=df_smiles['contribution'],\n",
    "                             aggfunc='sum',\n",
    "                             normalize=\"index\")\n",
    "cross_tab_prop.head()"
   ]
  },
  {
   "cell_type": "code",
   "execution_count": 238,
   "id": "8394acde-0e58-4a04-aafe-5bd18415ed5f",
   "metadata": {},
   "outputs": [
    {
     "data": {
      "text/plain": [
       "<matplotlib.legend.Legend at 0x7ff0167387d0>"
      ]
     },
     "execution_count": 238,
     "metadata": {},
     "output_type": "execute_result"
    },
    {
     "data": {
      "image/png": "[encoded data removed]",
      "text/plain": [
       "<Figure size 720x1440 with 1 Axes>"
      ]
     },
     "metadata": {
      "needs_background": "light"
     },
     "output_type": "display_data"
    }
   ],
   "source": [
    "cross_tab_prop.plot(kind='barh', \n",
    "                    stacked=True, \n",
    "                    figsize=(10, 20))\n",
    "plt.legend(loc='best', bbox_to_anchor=(0.60, 0., 0.5, 0.5))"
   ]
  },
  {
   "cell_type": "code",
   "execution_count": 240,
   "id": "96ddfa3f-772e-4940-9481-f4b23e4bb42e",
   "metadata": {},
   "outputs": [
    {
     "data": {
      "text/html": [
       "<div>\n",
       "<style scoped>\n",
       "    .dataframe tbody tr th:only-of-type {\n",
       "        vertical-align: middle;\n",
       "    }\n",
       "\n",
       "    .dataframe tbody tr th {\n",
       "        vertical-align: top;\n",
       "    }\n",
       "\n",
       "    .dataframe thead th {\n",
       "        text-align: right;\n",
       "    }\n",
       "</style>\n",
       "<table border=\"1\" class=\"dataframe\">\n",
       "  <thead>\n",
       "    <tr style=\"text-align: right;\">\n",
       "      <th>atom_i</th>\n",
       "      <th>0</th>\n",
       "      <th>1</th>\n",
       "      <th>2</th>\n",
       "      <th>3</th>\n",
       "      <th>4</th>\n",
       "      <th>5</th>\n",
       "      <th>6</th>\n",
       "      <th>7</th>\n",
       "      <th>8</th>\n",
       "      <th>9</th>\n",
       "      <th>10</th>\n",
       "      <th>11</th>\n",
       "      <th>12</th>\n",
       "      <th>13</th>\n",
       "      <th>14</th>\n",
       "      <th>15</th>\n",
       "      <th>16</th>\n",
       "      <th>17</th>\n",
       "      <th>18</th>\n",
       "    </tr>\n",
       "    <tr>\n",
       "      <th>conf_i</th>\n",
       "      <th></th>\n",
       "      <th></th>\n",
       "      <th></th>\n",
       "      <th></th>\n",
       "      <th></th>\n",
       "      <th></th>\n",
       "      <th></th>\n",
       "      <th></th>\n",
       "      <th></th>\n",
       "      <th></th>\n",
       "      <th></th>\n",
       "      <th></th>\n",
       "      <th></th>\n",
       "      <th></th>\n",
       "      <th></th>\n",
       "      <th></th>\n",
       "      <th></th>\n",
       "      <th></th>\n",
       "      <th></th>\n",
       "    </tr>\n",
       "  </thead>\n",
       "  <tbody>\n",
       "    <tr>\n",
       "      <th>0</th>\n",
       "      <td>0.039185</td>\n",
       "      <td>0.039186</td>\n",
       "      <td>0.053623</td>\n",
       "      <td>-0.000911</td>\n",
       "      <td>0.034488</td>\n",
       "      <td>0.059417</td>\n",
       "      <td>0.060700</td>\n",
       "      <td>0.092718</td>\n",
       "      <td>0.029081</td>\n",
       "      <td>0.060227</td>\n",
       "      <td>-0.001405</td>\n",
       "      <td>0.074466</td>\n",
       "      <td>0.065093</td>\n",
       "      <td>0.052520</td>\n",
       "      <td>0.027697</td>\n",
       "      <td>0.057358</td>\n",
       "      <td>0.114041</td>\n",
       "      <td>0.055815</td>\n",
       "      <td>0.020573</td>\n",
       "    </tr>\n",
       "    <tr>\n",
       "      <th>1</th>\n",
       "      <td>-0.000179</td>\n",
       "      <td>0.058402</td>\n",
       "      <td>0.058192</td>\n",
       "      <td>0.033230</td>\n",
       "      <td>0.029453</td>\n",
       "      <td>0.063847</td>\n",
       "      <td>0.103760</td>\n",
       "      <td>0.111963</td>\n",
       "      <td>0.034311</td>\n",
       "      <td>0.058436</td>\n",
       "      <td>-0.000499</td>\n",
       "      <td>0.097999</td>\n",
       "      <td>0.063484</td>\n",
       "      <td>0.051731</td>\n",
       "      <td>0.030296</td>\n",
       "      <td>0.062125</td>\n",
       "      <td>0.097443</td>\n",
       "      <td>0.055493</td>\n",
       "      <td>0.019070</td>\n",
       "    </tr>\n",
       "    <tr>\n",
       "      <th>2</th>\n",
       "      <td>-0.000266</td>\n",
       "      <td>0.061147</td>\n",
       "      <td>0.055865</td>\n",
       "      <td>0.072380</td>\n",
       "      <td>0.027656</td>\n",
       "      <td>0.060824</td>\n",
       "      <td>0.104380</td>\n",
       "      <td>0.142716</td>\n",
       "      <td>0.029816</td>\n",
       "      <td>0.056991</td>\n",
       "      <td>-0.000240</td>\n",
       "      <td>0.092945</td>\n",
       "      <td>0.070117</td>\n",
       "      <td>0.058815</td>\n",
       "      <td>0.011914</td>\n",
       "      <td>0.055619</td>\n",
       "      <td>0.107319</td>\n",
       "      <td>0.056618</td>\n",
       "      <td>0.034889</td>\n",
       "    </tr>\n",
       "    <tr>\n",
       "      <th>3</th>\n",
       "      <td>-0.000042</td>\n",
       "      <td>0.058186</td>\n",
       "      <td>0.055632</td>\n",
       "      <td>0.033577</td>\n",
       "      <td>0.019532</td>\n",
       "      <td>0.061184</td>\n",
       "      <td>0.062462</td>\n",
       "      <td>0.077472</td>\n",
       "      <td>0.007784</td>\n",
       "      <td>0.056262</td>\n",
       "      <td>-0.001527</td>\n",
       "      <td>0.073261</td>\n",
       "      <td>0.062879</td>\n",
       "      <td>0.050253</td>\n",
       "      <td>0.021938</td>\n",
       "      <td>0.057959</td>\n",
       "      <td>0.125787</td>\n",
       "      <td>0.070997</td>\n",
       "      <td>0.033424</td>\n",
       "    </tr>\n",
       "    <tr>\n",
       "      <th>4</th>\n",
       "      <td>0.002951</td>\n",
       "      <td>0.059995</td>\n",
       "      <td>0.048211</td>\n",
       "      <td>0.068667</td>\n",
       "      <td>0.021731</td>\n",
       "      <td>0.059904</td>\n",
       "      <td>0.088858</td>\n",
       "      <td>0.103192</td>\n",
       "      <td>0.024652</td>\n",
       "      <td>0.055980</td>\n",
       "      <td>-0.000957</td>\n",
       "      <td>0.068391</td>\n",
       "      <td>0.073603</td>\n",
       "      <td>0.054290</td>\n",
       "      <td>0.019896</td>\n",
       "      <td>0.054104</td>\n",
       "      <td>0.118336</td>\n",
       "      <td>0.066460</td>\n",
       "      <td>0.041072</td>\n",
       "    </tr>\n",
       "  </tbody>\n",
       "</table>\n",
       "</div>"
      ],
      "text/plain": [
       "atom_i        0         1         2         3         4         5         6   \\\n",
       "conf_i                                                                         \n",
       "0       0.039185  0.039186  0.053623 -0.000911  0.034488  0.059417  0.060700   \n",
       "1      -0.000179  0.058402  0.058192  0.033230  0.029453  0.063847  0.103760   \n",
       "2      -0.000266  0.061147  0.055865  0.072380  0.027656  0.060824  0.104380   \n",
       "3      -0.000042  0.058186  0.055632  0.033577  0.019532  0.061184  0.062462   \n",
       "4       0.002951  0.059995  0.048211  0.068667  0.021731  0.059904  0.088858   \n",
       "\n",
       "atom_i        7         8         9         10        11        12        13  \\\n",
       "conf_i                                                                         \n",
       "0       0.092718  0.029081  0.060227 -0.001405  0.074466  0.065093  0.052520   \n",
       "1       0.111963  0.034311  0.058436 -0.000499  0.097999  0.063484  0.051731   \n",
       "2       0.142716  0.029816  0.056991 -0.000240  0.092945  0.070117  0.058815   \n",
       "3       0.077472  0.007784  0.056262 -0.001527  0.073261  0.062879  0.050253   \n",
       "4       0.103192  0.024652  0.055980 -0.000957  0.068391  0.073603  0.054290   \n",
       "\n",
       "atom_i        14        15        16        17        18  \n",
       "conf_i                                                    \n",
       "0       0.027697  0.057358  0.114041  0.055815  0.020573  \n",
       "1       0.030296  0.062125  0.097443  0.055493  0.019070  \n",
       "2       0.011914  0.055619  0.107319  0.056618  0.034889  \n",
       "3       0.021938  0.057959  0.125787  0.070997  0.033424  \n",
       "4       0.019896  0.054104  0.118336  0.066460  0.041072  "
      ]
     },
     "execution_count": 240,
     "metadata": {},
     "output_type": "execute_result"
    }
   ],
   "source": [
    "cross_tab_prop = pd.crosstab(index=df_smiles['conf_i'],\n",
    "                             columns=df_smiles['atom_i'],\n",
    "                             values=df_smiles['contribution'],\n",
    "                             aggfunc='sum')\n",
    "cross_tab_prop.head()"
   ]
  },
  {
   "cell_type": "code",
   "execution_count": 242,
   "id": "ce765a7c-ea69-4cb2-9d5c-c6496b52dfbf",
   "metadata": {},
   "outputs": [
    {
     "data": {
      "text/plain": [
       "<matplotlib.legend.Legend at 0x7ff0167f6c50>"
      ]
     },
     "execution_count": 242,
     "metadata": {},
     "output_type": "execute_result"
    },
    {
     "data": {
      "image/png": "[encoded data removed]",
      "text/plain": [
       "<Figure size 1080x1440 with 1 Axes>"
      ]
     },
     "metadata": {
      "needs_background": "light"
     },
     "output_type": "display_data"
    }
   ],
   "source": [
    "cross_tab_prop.plot(kind='barh', \n",
    "                    stacked=True, \n",
    "                    figsize=(15, 20))\n",
    "plt.legend(loc='best', bbox_to_anchor=(0.60, 0., 0.5, 0.5))"
   ]
  },
  {
   "cell_type": "code",
   "execution_count": 185,
   "id": "f4b0a3cd-adb9-4f87-8567-d31634c3b5c3",
   "metadata": {},
   "outputs": [],
   "source": [
    "import matplotlib.pyplot as plt"
   ]
  },
  {
   "cell_type": "code",
   "execution_count": 208,
   "id": "b838b52d-93ae-4c85-8c6f-13e2a48ed406",
   "metadata": {},
   "outputs": [],
   "source": [
    "conf_is = range(53)\n",
    "atom_is = range(19)\n",
    "atom_contributions = []\n",
    "for atom_i in atom_is :\n",
    "    df_atom = df_smiles[df_smiles['atom_i'] == atom_i]\n",
    "    atom_contributions.append(df_atom['contribution'].values.tolist())"
   ]
  },
  {
   "cell_type": "code",
   "execution_count": 209,
   "id": "2276d869-7891-41e2-a06d-3c7cdb4e683c",
   "metadata": {},
   "outputs": [
    {
     "data": {
      "text/plain": [
       "53"
      ]
     },
     "execution_count": 209,
     "metadata": {},
     "output_type": "execute_result"
    }
   ],
   "source": [
    "len(atom_contributions[0])"
   ]
  },
  {
   "cell_type": "code",
   "execution_count": 210,
   "id": "0a58eaf7-2d0d-4f9b-a80d-b9e46a80780b",
   "metadata": {},
   "outputs": [
    {
     "ename": "ValueError",
     "evalue": "operands could not be broadcast together with shapes (0,) (53,) ",
     "output_type": "error",
     "traceback": [
      "\u001b[0;31m---------------------------------------------------------------------------\u001b[0m",
      "\u001b[0;31mValueError\u001b[0m                                Traceback (most recent call last)",
      "\u001b[0;32m/tmp/ipykernel_14724/1010834582.py\u001b[0m in \u001b[0;36m<module>\u001b[0;34m\u001b[0m\n\u001b[1;32m      3\u001b[0m \u001b[0;32mfor\u001b[0m \u001b[0matom_i\u001b[0m\u001b[0;34m,\u001b[0m \u001b[0mcontributions\u001b[0m \u001b[0;32min\u001b[0m \u001b[0menumerate\u001b[0m\u001b[0;34m(\u001b[0m\u001b[0matom_contributions\u001b[0m\u001b[0;34m)\u001b[0m \u001b[0;34m:\u001b[0m\u001b[0;34m\u001b[0m\u001b[0;34m\u001b[0m\u001b[0m\n\u001b[1;32m      4\u001b[0m     \u001b[0mprevious_contributions\u001b[0m \u001b[0;34m=\u001b[0m \u001b[0mnp\u001b[0m\u001b[0;34m.\u001b[0m\u001b[0marray\u001b[0m\u001b[0;34m(\u001b[0m\u001b[0;34m[\u001b[0m\u001b[0matom_contributions\u001b[0m\u001b[0;34m[\u001b[0m\u001b[0;34m:\u001b[0m\u001b[0matom_i\u001b[0m\u001b[0;34m]\u001b[0m\u001b[0;34m]\u001b[0m\u001b[0;34m)\u001b[0m\u001b[0;34m\u001b[0m\u001b[0;34m\u001b[0m\u001b[0m\n\u001b[0;32m----> 5\u001b[0;31m     \u001b[0mcurrent_values\u001b[0m \u001b[0;34m=\u001b[0m \u001b[0mprevious_contributions\u001b[0m\u001b[0;34m.\u001b[0m\u001b[0msum\u001b[0m\u001b[0;34m(\u001b[0m\u001b[0;36m0\u001b[0m\u001b[0;34m)\u001b[0m \u001b[0;34m+\u001b[0m \u001b[0mnp\u001b[0m\u001b[0;34m.\u001b[0m\u001b[0marray\u001b[0m\u001b[0;34m(\u001b[0m\u001b[0mcontributions\u001b[0m\u001b[0;34m)\u001b[0m\u001b[0;34m\u001b[0m\u001b[0;34m\u001b[0m\u001b[0m\n\u001b[0m\u001b[1;32m      6\u001b[0m     \u001b[0mplt\u001b[0m\u001b[0;34m.\u001b[0m\u001b[0mbar\u001b[0m\u001b[0;34m(\u001b[0m\u001b[0mconf_is\u001b[0m\u001b[0;34m,\u001b[0m \u001b[0mcurrent_values\u001b[0m\u001b[0;34m)\u001b[0m\u001b[0;34m\u001b[0m\u001b[0;34m\u001b[0m\u001b[0m\n\u001b[1;32m      7\u001b[0m \u001b[0mplt\u001b[0m\u001b[0;34m.\u001b[0m\u001b[0mshow\u001b[0m\u001b[0;34m(\u001b[0m\u001b[0;34m)\u001b[0m\u001b[0;34m\u001b[0m\u001b[0;34m\u001b[0m\u001b[0m\n",
      "\u001b[0;31mValueError\u001b[0m: operands could not be broadcast together with shapes (0,) (53,) "
     ]
    },
    {
     "data": {
      "image/png": "[encoded data removed]",
      "text/plain": [
       "<Figure size 360x720 with 1 Axes>"
      ]
     },
     "metadata": {
      "needs_background": "light"
     },
     "output_type": "display_data"
    }
   ],
   "source": [
    "plt.figure(figsize=(5,10))\n",
    "plt.bar(conf_is, atom_contributions[0])\n",
    "for atom_i, contributions in enumerate(atom_contributions) :\n",
    "    previous_contributions = np.array([atom_contributions[:atom_i]])\n",
    "    current_values = previous_contributions.sum(0) + np.array(contributions)\n",
    "    plt.bar(conf_is, current_values)\n",
    "plt.show()"
   ]
  },
  {
   "cell_type": "code",
   "execution_count": null,
   "id": "637717dd-8ec4-4c64-9a0b-dd4828b017b6",
   "metadata": {},
   "outputs": [],
   "source": [
    "x = ['A', 'B', 'C', 'D']\n",
    "y1 = np.array([10, 20, 10, 30])\n",
    "y2 = np.array([20, 25, 15, 25])\n",
    "y3 = np.array([12, 15, 19, 6])\n",
    "y4 = np.array([10, 29, 13, 19])\n",
    "  \n",
    "# plot bars in stack manner\n",
    "plt.bar(x, y1, color='r')\n",
    "plt.bar(x, y2, bottom=y1, color='b')\n",
    "plt.bar(x, y3, bottom=y1+y2, color='y')\n",
    "plt.bar(x, y4, bottom=y1+y2+y3, color='g')\n",
    "plt.xlabel(\"Teams\")\n",
    "plt.ylabel(\"Score\")\n",
    "plt.legend([\"Round 1\", \"Round 2\", \"Round 3\", \"Round 4\"])\n",
    "plt.title(\"Scores by Teams in 4 Rounds\")\n",
    "plt.show()"
   ]
  },
  {
   "cell_type": "code",
   "execution_count": 178,
   "id": "e1a2d8e0-df3d-4e14-99c2-da0df4bc8767",
   "metadata": {},
   "outputs": [
    {
     "data": {
      "text/plain": [
       "<AxesSubplot:xlabel='conf_i', ylabel='contribution'>"
      ]
     },
     "execution_count": 178,
     "metadata": {},
     "output_type": "execute_result"
    },
    {
     "data": {
      "image/png": "[encoded data removed]",
      "text/plain": [
       "<Figure size 432x288 with 1 Axes>"
      ]
     },
     "metadata": {
      "needs_background": "light"
     },
     "output_type": "display_data"
    }
   ],
   "source": [
    "import seaborn as sns\n",
    "sns.histplot(data=df_smiles, x='conf_i', y='contribution', hue='atom_i', multiple='stack', bins=53)"
   ]
  },
  {
   "cell_type": "code",
   "execution_count": 163,
   "id": "f17222e0-38ad-413f-9062-08b78a3e245c",
   "metadata": {},
   "outputs": [],
   "source": [
    "for batch_i in batch.batch.unique() :\n",
    "    pred_is = preds[batch.batch == batch_i]\n",
    "    pred_is = pred_is.numpy()\n",
    "    smiles = batch.data_id[batch_i]\n",
    "    ce = cel.get_conf_ensemble(smiles)\n",
    "    #assert np.array_equal(ce.get_conf_positions(conf_id=0).astype(np.float32), batch.pos[batch.batch == 0].numpy())\n",
    "    \n",
    "    copy_mol = copy.deepcopy(ce.mol)\n",
    "    Chem.rdDepictor.Compute2DCoords(copy_mol)\n",
    "    \n",
    "    d = rdMolDraw2D.MolDraw2DCairo(500, 500)\n",
    "    d.drawOptions().addAtomIndices=True\n",
    "    atoms = range(copy_mol.GetNumAtoms())\n",
    "    colors = {i : score_to_rgba_color(pred_is[i][0], pred_is.min(), pred_is.max()) for i in atoms}\n",
    "    rdMolDraw2D.PrepareAndDrawMolecule(d, \n",
    "                                       copy_mol, \n",
    "                                       highlightAtoms=atoms, \n",
    "                                       highlightAtomColors=colors)\n",
    "    d.FinishDrawing()\n",
    "    d.WriteDrawingText(f'atomic_contributions/mol{batch_i}_relative.png')"
   ]
  },
  {
   "cell_type": "code",
   "execution_count": 157,
   "id": "021c70d5-c44f-421a-ab81-6844946886dc",
   "metadata": {},
   "outputs": [],
   "source": [
    "for batch_i in batch.batch.unique() :\n",
    "    pred_is = preds[batch.batch == batch_i]\n",
    "    smiles = batch.data_id[batch_i]\n",
    "    ce = cel.get_conf_ensemble(smiles)\n",
    "    #assert np.array_equal(ce.get_conf_positions(conf_id=0).astype(np.float32), batch.pos[batch.batch == 0].numpy())\n",
    "    pred_is = pred_is.numpy()\n",
    "    \n",
    "    copy_mol = copy.deepcopy(ce.mol)\n",
    "    Chem.rdDepictor.Compute2DCoords(copy_mol)\n",
    "    \n",
    "    d = rdMolDraw2D.MolDraw2DCairo(500, 500)\n",
    "    d.drawOptions().addAtomIndices=True\n",
    "    atoms = range(copy_mol.GetNumAtoms())\n",
    "    colors = {i : score_to_rgba_color(pred_is[i][0], 0, 1) for i in atoms}\n",
    "    rdMolDraw2D.PrepareAndDrawMolecule(d, \n",
    "                                       copy_mol, \n",
    "                                       highlightAtoms=atoms, \n",
    "                                       highlightAtomColors=colors)\n",
    "    d.FinishDrawing()\n",
    "    d.WriteDrawingText(f'atomic_contributions/mol{batch_i}_absolute.png')"
   ]
  },
  {
   "cell_type": "code",
   "execution_count": null,
   "id": "ae0807ff-844c-47cd-bab0-5792a20d74a1",
   "metadata": {},
   "outputs": [],
   "source": []
  },
  {
   "cell_type": "code",
   "execution_count": 153,
   "id": "67b69716-01cf-4364-bded-ece7245270d2",
   "metadata": {},
   "outputs": [],
   "source": []
  },
  {
   "cell_type": "code",
   "execution_count": 98,
   "id": "f4d17061-92da-4376-9ad3-34d21d6bbee6",
   "metadata": {},
   "outputs": [
    {
     "ename": "TypeError",
     "evalue": "No registered converter was able to produce a C++ rvalue of type float from this Python object of type tuple",
     "output_type": "error",
     "traceback": [
      "\u001b[0;31m---------------------------------------------------------------------------\u001b[0m",
      "\u001b[0;31mTypeError\u001b[0m                                 Traceback (most recent call last)",
      "\u001b[0;32m/tmp/ipykernel_14724/559843486.py\u001b[0m in \u001b[0;36m<module>\u001b[0;34m\u001b[0m\n\u001b[1;32m      1\u001b[0m \u001b[0;32mfrom\u001b[0m \u001b[0mrdkit\u001b[0m\u001b[0;34m.\u001b[0m\u001b[0mChem\u001b[0m\u001b[0;34m.\u001b[0m\u001b[0mDraw\u001b[0m \u001b[0;32mimport\u001b[0m \u001b[0mMolToImage\u001b[0m\u001b[0;34m\u001b[0m\u001b[0;34m\u001b[0m\u001b[0m\n\u001b[0;32m----> 2\u001b[0;31m \u001b[0mMolToImage\u001b[0m\u001b[0;34m(\u001b[0m\u001b[0mmol\u001b[0m\u001b[0;34m=\u001b[0m\u001b[0mce\u001b[0m\u001b[0;34m.\u001b[0m\u001b[0mmol\u001b[0m\u001b[0;34m,\u001b[0m \u001b[0msize\u001b[0m\u001b[0;34m=\u001b[0m\u001b[0;34m(\u001b[0m\u001b[0;36m300\u001b[0m\u001b[0;34m,\u001b[0m \u001b[0;36m300\u001b[0m\u001b[0;34m)\u001b[0m\u001b[0;34m,\u001b[0m \u001b[0mhighlightAtoms\u001b[0m\u001b[0;34m=\u001b[0m\u001b[0;34m[\u001b[0m\u001b[0;36m0\u001b[0m\u001b[0;34m,\u001b[0m \u001b[0;36m1\u001b[0m\u001b[0;34m]\u001b[0m\u001b[0;34m,\u001b[0m \u001b[0mhighlightColor\u001b[0m\u001b[0;34m=\u001b[0m\u001b[0;34m(\u001b[0m\u001b[0;34m(\u001b[0m\u001b[0;36m0\u001b[0m\u001b[0;34m,\u001b[0m\u001b[0;36m0\u001b[0m\u001b[0;34m,\u001b[0m\u001b[0;36m0\u001b[0m\u001b[0;34m)\u001b[0m\u001b[0;34m,\u001b[0m \u001b[0;34m(\u001b[0m\u001b[0;36m1\u001b[0m\u001b[0;34m,\u001b[0m\u001b[0;36m0\u001b[0m\u001b[0;34m,\u001b[0m\u001b[0;36m0\u001b[0m\u001b[0;34m)\u001b[0m\u001b[0;34m)\u001b[0m\u001b[0;34m)\u001b[0m\u001b[0;34m\u001b[0m\u001b[0;34m\u001b[0m\u001b[0m\n\u001b[0m",
      "\u001b[0;32m~/anaconda3/envs/GeoMol/lib/python3.7/site-packages/rdkit/Chem/Draw/__init__.py\u001b[0m in \u001b[0;36mMolToImage\u001b[0;34m(mol, size, kekulize, wedgeBonds, fitImage, options, canvas, **kwargs)\u001b[0m\n\u001b[1;32m    226\u001b[0m                    highlightBonds=kwargs.get('highlightBonds',\n\u001b[1;32m    227\u001b[0m                                              []), drawOptions=options, kekulize=kekulize,\n\u001b[0;32m--> 228\u001b[0;31m                    wedgeBonds=wedgeBonds, highlightColor=kwargs.get('highlightColor', None))\n\u001b[0m\u001b[1;32m    229\u001b[0m \u001b[0;34m\u001b[0m\u001b[0m\n\u001b[1;32m    230\u001b[0m \u001b[0;34m\u001b[0m\u001b[0m\n",
      "\u001b[0;32m~/anaconda3/envs/GeoMol/lib/python3.7/site-packages/rdkit/Chem/Draw/__init__.py\u001b[0m in \u001b[0;36m_moltoimg\u001b[0;34m(mol, sz, highlights, legend, returnPNG, drawOptions, **kwargs)\u001b[0m\n\u001b[1;32m    471\u001b[0m       \u001b[0md2d\u001b[0m\u001b[0;34m.\u001b[0m\u001b[0mSetDrawOptions\u001b[0m\u001b[0;34m(\u001b[0m\u001b[0mdrawOptions\u001b[0m\u001b[0;34m)\u001b[0m\u001b[0;34m\u001b[0m\u001b[0;34m\u001b[0m\u001b[0m\n\u001b[1;32m    472\u001b[0m     \u001b[0;32mif\u001b[0m \u001b[0;34m'highlightColor'\u001b[0m \u001b[0;32min\u001b[0m \u001b[0mkwargs\u001b[0m \u001b[0;32mand\u001b[0m \u001b[0mkwargs\u001b[0m\u001b[0;34m[\u001b[0m\u001b[0;34m'highlightColor'\u001b[0m\u001b[0;34m]\u001b[0m\u001b[0;34m:\u001b[0m\u001b[0;34m\u001b[0m\u001b[0;34m\u001b[0m\u001b[0m\n\u001b[0;32m--> 473\u001b[0;31m       \u001b[0md2d\u001b[0m\u001b[0;34m.\u001b[0m\u001b[0mdrawOptions\u001b[0m\u001b[0;34m(\u001b[0m\u001b[0;34m)\u001b[0m\u001b[0;34m.\u001b[0m\u001b[0msetHighlightColour\u001b[0m\u001b[0;34m(\u001b[0m\u001b[0mkwargs\u001b[0m\u001b[0;34m[\u001b[0m\u001b[0;34m'highlightColor'\u001b[0m\u001b[0;34m]\u001b[0m\u001b[0;34m)\u001b[0m\u001b[0;34m\u001b[0m\u001b[0;34m\u001b[0m\u001b[0m\n\u001b[0m\u001b[1;32m    474\u001b[0m     \u001b[0;31m# we already prepared the molecule:\u001b[0m\u001b[0;34m\u001b[0m\u001b[0;34m\u001b[0m\u001b[0;34m\u001b[0m\u001b[0m\n\u001b[1;32m    475\u001b[0m     \u001b[0md2d\u001b[0m\u001b[0;34m.\u001b[0m\u001b[0mdrawOptions\u001b[0m\u001b[0;34m(\u001b[0m\u001b[0;34m)\u001b[0m\u001b[0;34m.\u001b[0m\u001b[0mprepareMolsBeforeDrawing\u001b[0m \u001b[0;34m=\u001b[0m \u001b[0;32mFalse\u001b[0m\u001b[0;34m\u001b[0m\u001b[0;34m\u001b[0m\u001b[0m\n",
      "\u001b[0;31mTypeError\u001b[0m: No registered converter was able to produce a C++ rvalue of type float from this Python object of type tuple"
     ]
    }
   ],
   "source": [
    "from rdkit.Chem.Draw import MolToImage\n",
    "MolToImage(mol=ce.mol, size=(300, 300), highlightAtoms=[0, 1], highlightColor=((0,0,0), (1,0,0)))"
   ]
  },
  {
   "cell_type": "code",
   "execution_count": 80,
   "id": "4eaffc75-89d2-44be-b956-9d955e99ef54",
   "metadata": {},
   "outputs": [
    {
     "data": {
      "application/vnd.jupyter.widget-view+json": {
       "model_id": "a466ef959cd64bbfaa6b5d63bf4db16d",
       "version_major": 2,
       "version_minor": 0
      },
      "text/plain": [
       "interactive(children=(IntSlider(value=0, description='conf_id', max=52), Output()), _dom_classes=('widget-inte…"
      ]
     },
     "metadata": {},
     "output_type": "display_data"
    }
   ],
   "source": [
    "mol_viewer = MolViewer()\n",
    "mol_viewer.view(mol=ce.mol)"
   ]
  },
  {
   "cell_type": "code",
   "execution_count": 70,
   "id": "93c67955-4876-4c42-a97c-33b6a0d6a22b",
   "metadata": {},
   "outputs": [
    {
     "name": "stdout",
     "output_type": "stream",
     "text": [
      "8\n",
      "6\n",
      "6\n",
      "8\n",
      "6\n",
      "6\n",
      "6\n",
      "6\n",
      "6\n",
      "6\n",
      "7\n",
      "6\n",
      "6\n",
      "6\n",
      "6\n",
      "6\n",
      "6\n",
      "6\n",
      "6\n"
     ]
    }
   ],
   "source": [
    "for atom in ce.mol.GetAtoms() :\n",
    "    print(atom.GetAtomicNum())"
   ]
  }
 ],
 "metadata": {
  "kernelspec": {
   "display_name": "Python 3 (ipykernel)",
   "language": "python",
   "name": "python3"
  },
  "language_info": {
   "codemirror_mode": {
    "name": "ipython",
    "version": 3
   },
   "file_extension": ".py",
   "mimetype": "text/x-python",
   "name": "python",
   "nbconvert_exporter": "python",
   "pygments_lexer": "ipython3",
   "version": "3.7.10"
  }
 },
 "nbformat": 4,
 "nbformat_minor": 5
}
