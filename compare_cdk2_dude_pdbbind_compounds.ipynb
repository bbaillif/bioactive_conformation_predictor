{
 "cells": [
  {
   "cell_type": "code",
   "execution_count": 1,
   "id": "a1bb0095-fa44-49d2-ba72-aabe06afb4f7",
   "metadata": {},
   "outputs": [],
   "source": [
    "import os\n",
    "import gzip\n",
    "from rdkit import Chem"
   ]
  },
  {
   "cell_type": "code",
   "execution_count": 2,
   "id": "25bd6ebd-deea-4388-90cf-c28c16de8909",
   "metadata": {},
   "outputs": [],
   "source": [
    "with open('data/ligand_random_splits/train_smiles_random_split_2.txt') as f :\n",
    "    train_smiles = [s.strip() for s in f.readlines()]"
   ]
  },
  {
   "cell_type": "code",
   "execution_count": 3,
   "id": "04214dbc-26aa-4826-a5af-a1928f106c7a",
   "metadata": {},
   "outputs": [],
   "source": [
    "with Chem.ForwardSDMolSupplier(gzip.open('../DUD-E/all/cdk2/actives_final.sdf.gz')) as supp :\n",
    "    cdk2_actives = [Chem.MolToSmiles(mol) for mol in supp]"
   ]
  },
  {
   "cell_type": "code",
   "execution_count": 4,
   "id": "9639e35c-acef-4ee4-b98b-36568d9b09c8",
   "metadata": {},
   "outputs": [],
   "source": [
    "with Chem.ForwardSDMolSupplier(gzip.open('../DUD-E/all/cdk2/decoys_final.sdf.gz')) as supp :\n",
    "    cdk2_decoys = [Chem.MolToSmiles(mol) for mol in supp]"
   ]
  },
  {
   "cell_type": "code",
   "execution_count": 5,
   "id": "67c0afbe-c8ad-43f1-939a-de070cde2f3e",
   "metadata": {},
   "outputs": [],
   "source": [
    "subset_actives = cdk2_actives[:50]\n",
    "subset_decoys = cdk2_decoys[:2500]"
   ]
  },
  {
   "cell_type": "code",
   "execution_count": 6,
   "id": "0f837305-1f41-48c7-b7c9-f0681e720fd5",
   "metadata": {},
   "outputs": [
    {
     "data": {
      "text/plain": [
       "0"
      ]
     },
     "execution_count": 6,
     "metadata": {},
     "output_type": "execute_result"
    }
   ],
   "source": [
    "len(set(train_smiles).intersection(set(subset_actives)))"
   ]
  },
  {
   "cell_type": "code",
   "execution_count": 7,
   "id": "73cd1bc1-0a47-4fca-905e-b7843bc58993",
   "metadata": {},
   "outputs": [
    {
     "data": {
      "text/plain": [
       "0"
      ]
     },
     "execution_count": 7,
     "metadata": {},
     "output_type": "execute_result"
    }
   ],
   "source": [
    "len(set(train_smiles).intersection(set(subset_decoys)))"
   ]
  },
  {
   "cell_type": "code",
   "execution_count": null,
   "id": "02fa763c-a7be-40de-9ef5-1a6239ddf06c",
   "metadata": {},
   "outputs": [],
   "source": []
  },
  {
   "cell_type": "code",
   "execution_count": null,
   "id": "28c22e97-1708-43bb-8ad2-9bbc679713b5",
   "metadata": {},
   "outputs": [],
   "source": []
  },
  {
   "cell_type": "code",
   "execution_count": null,
   "id": "6112bc6c-f82e-44a3-a1a2-90e22d8d1712",
   "metadata": {},
   "outputs": [],
   "source": []
  }
 ],
 "metadata": {
  "kernelspec": {
   "display_name": "Python 3 (ipykernel)",
   "language": "python",
   "name": "python3"
  },
  "language_info": {
   "codemirror_mode": {
    "name": "ipython",
    "version": 3
   },
   "file_extension": ".py",
   "mimetype": "text/x-python",
   "name": "python",
   "nbconvert_exporter": "python",
   "pygments_lexer": "ipython3",
   "version": "3.7.10"
  },
  "widgets": {
   "application/vnd.jupyter.widget-state+json": {
    "state": {},
    "version_major": 2,
    "version_minor": 0
   }
  }
 },
 "nbformat": 4,
 "nbformat_minor": 5
}
