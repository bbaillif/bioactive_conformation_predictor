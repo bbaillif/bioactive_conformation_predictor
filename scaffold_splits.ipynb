{
 "cells": [
  {
   "cell_type": "code",
   "execution_count": 27,
   "id": "c2d7c0b2-f8da-4139-aac8-0f5c05e449a5",
   "metadata": {},
   "outputs": [],
   "source": [
    "import random\n",
    "import os\n",
    "import pickle\n",
    "import pandas as pd\n",
    "\n",
    "from conf_ensemble_library import ConfEnsembleLibrary\n",
    "from rdkit import Chem\n",
    "from rdkit.Chem.Scaffolds.MurckoScaffold import MurckoScaffoldSmiles, MakeScaffoldGeneric, GetScaffoldForMol\n",
    "from collections import Counter\n",
    "from typing import List\n",
    "\n",
    "import seaborn as sns"
   ]
  },
  {
   "cell_type": "code",
   "execution_count": 28,
   "id": "79a05363-52c1-43b3-85b1-e05cc45caba1",
   "metadata": {},
   "outputs": [],
   "source": [
    "random.seed(42)"
   ]
  },
  {
   "cell_type": "code",
   "execution_count": 29,
   "id": "f5d24631-8666-4f65-88e0-a98f78eb20f8",
   "metadata": {},
   "outputs": [],
   "source": [
    "data_dir_path = '/home/bb596/hdd/pdbbind_bioactive/data/'"
   ]
  },
  {
   "cell_type": "code",
   "execution_count": null,
   "id": "89c9e2ca-cf77-4841-be0c-fd0168c92978",
   "metadata": {
    "scrolled": true,
    "tags": []
   },
   "outputs": [
    {
     "name": "stderr",
     "output_type": "stream",
     "text": [
      " 55%|████████████████████▏                | 7856/14385 [00:08<00:06, 976.40it/s]"
     ]
    }
   ],
   "source": [
    "all_CEL = ConfEnsembleLibrary()\n",
    "all_CEL.load()"
   ]
  },
  {
   "cell_type": "code",
   "execution_count": null,
   "id": "6ae56994-e876-4f7f-81b2-54533c07caa0",
   "metadata": {},
   "outputs": [],
   "source": [
    "smiles_df = pd.read_csv(os.path.join(data_dir_path, 'smiles_df.csv'))"
   ]
  },
  {
   "cell_type": "code",
   "execution_count": null,
   "id": "ad3db3b8-8e0e-4758-b9c1-d483ea51802c",
   "metadata": {},
   "outputs": [],
   "source": [
    "all_mols = [ce.mol for smiles, ce in all_CEL.get_unique_molecules()]"
   ]
  },
  {
   "cell_type": "code",
   "execution_count": null,
   "id": "e12449cd-5a52-4ab2-8b15-6d7622f01988",
   "metadata": {},
   "outputs": [],
   "source": [
    "len(all_mols)"
   ]
  },
  {
   "cell_type": "code",
   "execution_count": null,
   "id": "ccb15d91-5dfa-483d-a106-c9c16e0d6a06",
   "metadata": {},
   "outputs": [],
   "source": [
    "def get_scaffold(mol, generic=False) :\n",
    "    try :\n",
    "        core = GetScaffoldForMol(mol)\n",
    "        if generic :\n",
    "            core = MakeScaffoldGeneric(mol=core)\n",
    "        scaffold = Chem.MolToSmiles(core)\n",
    "        return scaffold\n",
    "    except Exception as e :\n",
    "        print(str(e))\n",
    "        raise Exception('Didnt work')"
   ]
  },
  {
   "cell_type": "code",
   "execution_count": null,
   "id": "00027d59-9502-4841-87a7-5ad20533f0f5",
   "metadata": {
    "scrolled": true,
    "tags": []
   },
   "outputs": [],
   "source": [
    "all_generic_scaffolds = []\n",
    "correct_smiles = []\n",
    "for mol in all_mols :\n",
    "    try :\n",
    "        scaffold = get_scaffold(mol)\n",
    "        all_generic_scaffolds.append(scaffold)\n",
    "        correct_smiles.append(Chem.MolToSmiles(mol))\n",
    "    except Exception as e :\n",
    "        print('Didnt work')\n",
    "        print(str(e))"
   ]
  },
  {
   "cell_type": "code",
   "execution_count": null,
   "id": "a8eb7c54-a580-436d-8e7c-c93ab5e0f4f0",
   "metadata": {},
   "outputs": [],
   "source": [
    "counter = Counter(all_generic_scaffolds)"
   ]
  },
  {
   "cell_type": "code",
   "execution_count": null,
   "id": "aedc2e2c-ec31-4eb6-8c84-cf851d806204",
   "metadata": {},
   "outputs": [],
   "source": [
    "print(len(counter))"
   ]
  },
  {
   "cell_type": "code",
   "execution_count": null,
   "id": "5f05058f-9ab6-4b31-b5d3-b9d5f4bf9b7e",
   "metadata": {},
   "outputs": [],
   "source": [
    "#http://rdkit.blogspot.com/2020/09/interactively-exploring-scaffoldnetwork.html\n",
    "#from rdkit.Chem.Scaffolds.rdScaffoldNetwork import CreateScaffoldNetwork, ScaffoldNetworkParams\n",
    "#snp = ScaffoldNetworkParams()\n",
    "#sn = CreateScaffoldNetwork(all_mols, snp)"
   ]
  },
  {
   "cell_type": "code",
   "execution_count": null,
   "id": "416e645a-3cc8-4ae0-9c75-c8b23536094f",
   "metadata": {},
   "outputs": [],
   "source": [
    "scaffold5to10 = [Chem.MolFromSmiles(scaffold) for scaffold, count in counter.most_common()[5:10]]"
   ]
  },
  {
   "cell_type": "code",
   "execution_count": null,
   "id": "5e37da3d-7317-45f0-bbe3-d9bf4be4a6e3",
   "metadata": {},
   "outputs": [],
   "source": [
    "random.shuffle(scaffold5to10)"
   ]
  },
  {
   "cell_type": "code",
   "execution_count": null,
   "id": "2eaeeb9b-0988-4641-8f60-b1b430b74dd2",
   "metadata": {},
   "outputs": [],
   "source": [
    "Chem.Draw.MolsToGridImage(scaffold5to10, molsPerRow=5)"
   ]
  },
  {
   "cell_type": "code",
   "execution_count": null,
   "id": "82695b62-b78d-4e6b-b7c7-735d21ee547d",
   "metadata": {
    "tags": []
   },
   "outputs": [],
   "source": [
    "most_counted_scaffold = []\n",
    "for scaffold, count in counter.most_common() :\n",
    "    most_counted_scaffold.append(scaffold)\n",
    "Chem.Draw.MolsToGridImage([Chem.MolFromSmiles(scaffold) for scaffold, count in counter.most_common()[5:10] if scaffold != ''], \n",
    "                          molsPerRow=5,\n",
    "                         legends=[str(count) for scaffold, count in counter.most_common() if scaffold != ''])"
   ]
  },
  {
   "cell_type": "code",
   "execution_count": null,
   "id": "e1347647-3a4d-44e2-968d-1ab496a3859d",
   "metadata": {},
   "outputs": [],
   "source": [
    "set_sizes = [count for scaffold, count in counter.items()]\n",
    "sns.boxplot(set_sizes)"
   ]
  },
  {
   "cell_type": "code",
   "execution_count": null,
   "id": "3352ba65-21b6-473f-b7d8-eb14cdfc8aa0",
   "metadata": {},
   "outputs": [],
   "source": [
    "frac_train = 0.8\n",
    "frac_val = 0.1\n",
    "\n",
    "train_cutoff = int(frac_train * len(correct_smiles))\n",
    "val_cutoff = int((frac_train + frac_val) * len(correct_smiles))\n",
    "train_inds = []\n",
    "val_inds = []\n",
    "test_inds = []"
   ]
  },
  {
   "cell_type": "code",
   "execution_count": null,
   "id": "d0fb8aa5-3220-4e4d-af99-c86af7e9f064",
   "metadata": {},
   "outputs": [],
   "source": [
    "train_cutoff"
   ]
  },
  {
   "cell_type": "code",
   "execution_count": null,
   "id": "7ab593d0-5b0d-4b12-903e-cb008ad90022",
   "metadata": {},
   "outputs": [],
   "source": [
    "val_cutoff"
   ]
  },
  {
   "cell_type": "code",
   "execution_count": null,
   "id": "ee997e54-db57-4a6b-a7f3-f10ef24de46b",
   "metadata": {},
   "outputs": [],
   "source": [
    "unique_scaffolds = list(counter.keys())"
   ]
  },
  {
   "cell_type": "code",
   "execution_count": null,
   "id": "0bc390b4-ef0c-4b62-a8b8-779923f46427",
   "metadata": {},
   "outputs": [],
   "source": [
    "scaffold_splits_dir_name = 'ligand_scaffold_splits'\n",
    "scaffold_splits_dir_path = os.path.join(data_dir_path, scaffold_splits_dir_name)\n",
    "if not os.path.exists(scaffold_splits_dir_path) :\n",
    "    os.mkdir(scaffold_splits_dir_path)"
   ]
  },
  {
   "cell_type": "code",
   "execution_count": null,
   "id": "de0a1eea-4091-4eae-a6ba-9e624ff41e0b",
   "metadata": {},
   "outputs": [],
   "source": [
    "for i in range(5) :\n",
    "    \n",
    "    random.shuffle(unique_scaffolds)\n",
    "    \n",
    "    train_inds: List[int] = []\n",
    "    val_inds: List[int] = []\n",
    "    test_inds: List[int] = []\n",
    "    \n",
    "    for scaffold in unique_scaffolds:\n",
    "        indices = [i for i, s in enumerate(all_generic_scaffolds) if s == scaffold]\n",
    "        if len(train_inds) + len(indices) > train_cutoff:\n",
    "            if len(train_inds) + len(val_inds) + len(indices) > val_cutoff:\n",
    "                test_inds += indices\n",
    "            else:\n",
    "                val_inds += indices\n",
    "        else:\n",
    "            train_inds += indices\n",
    "            \n",
    "    train_smiles = [smiles for i, smiles in enumerate(correct_smiles) if i in train_inds]\n",
    "    val_smiles = [smiles for i, smiles in enumerate(correct_smiles) if i in val_inds]\n",
    "    test_smiles = [smiles for i, smiles in enumerate(correct_smiles) if i in test_inds]\n",
    "    \n",
    "    with open(os.path.join(scaffold_splits_dir_path, f'train_smiles_scaffold_split_{i}.txt'), 'w') as f :\n",
    "        for smiles in train_smiles :\n",
    "            f.write(smiles)\n",
    "            f.write('\\n')\n",
    "        \n",
    "    with open(os.path.join(scaffold_splits_dir_path, f'val_smiles_scaffold_split_{i}.txt'), 'w') as f :\n",
    "        for smiles in val_smiles :\n",
    "            f.write(smiles)\n",
    "            f.write('\\n')\n",
    "        \n",
    "    with open(os.path.join(scaffold_splits_dir_path, f'test_smiles_scaffold_split_{i}.txt'), 'w') as f :\n",
    "        for smiles in test_smiles :\n",
    "            f.write(smiles)\n",
    "            f.write('\\n')"
   ]
  },
  {
   "cell_type": "code",
   "execution_count": null,
   "id": "50cdd15b-b594-4e1f-989f-572528cea922",
   "metadata": {},
   "outputs": [],
   "source": [
    "len(train_inds)"
   ]
  },
  {
   "cell_type": "code",
   "execution_count": null,
   "id": "4c37120a-1fa4-46b2-b151-db9a137ceb64",
   "metadata": {},
   "outputs": [],
   "source": [
    "len(val_inds)"
   ]
  },
  {
   "cell_type": "code",
   "execution_count": null,
   "id": "36a268c6-a22e-4e29-8617-9048cc25e6de",
   "metadata": {},
   "outputs": [],
   "source": [
    "len(test_inds)"
   ]
  }
 ],
 "metadata": {
  "kernelspec": {
   "display_name": "Python 3 (ipykernel)",
   "language": "python",
   "name": "python3"
  },
  "language_info": {
   "codemirror_mode": {
    "name": "ipython",
    "version": 3
   },
   "file_extension": ".py",
   "mimetype": "text/x-python",
   "name": "python",
   "nbconvert_exporter": "python",
   "pygments_lexer": "ipython3",
   "version": "3.7.10"
  },
  "widgets": {
   "application/vnd.jupyter.widget-state+json": {
    "state": {},
    "version_major": 2,
    "version_minor": 0
   }
  }
 },
 "nbformat": 4,
 "nbformat_minor": 5
}
