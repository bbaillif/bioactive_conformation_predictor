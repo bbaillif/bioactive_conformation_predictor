{
 "cells": [
  {
   "cell_type": "code",
   "execution_count": 32,
   "id": "c2d7c0b2-f8da-4139-aac8-0f5c05e449a5",
   "metadata": {},
   "outputs": [],
   "source": [
    "import random\n",
    "import os\n",
    "import pickle\n",
    "import pandas as pd\n",
    "\n",
    "from conf_ensemble import ConfEnsembleLibrary\n",
    "from rdkit import Chem\n",
    "from rdkit.Chem.Scaffolds.MurckoScaffold import MurckoScaffoldSmiles, MakeScaffoldGeneric, GetScaffoldForMol\n",
    "from collections import Counter\n",
    "from typing import List\n",
    "\n",
    "import seaborn as sns"
   ]
  },
  {
   "cell_type": "code",
   "execution_count": 2,
   "id": "79a05363-52c1-43b3-85b1-e05cc45caba1",
   "metadata": {},
   "outputs": [],
   "source": [
    "random.seed(42)"
   ]
  },
  {
   "cell_type": "code",
   "execution_count": 3,
   "id": "f5d24631-8666-4f65-88e0-a98f78eb20f8",
   "metadata": {},
   "outputs": [],
   "source": [
    "data_dir_path = 'data/'"
   ]
  },
  {
   "cell_type": "code",
   "execution_count": 4,
   "id": "89c9e2ca-cf77-4841-be0c-fd0168c92978",
   "metadata": {
    "scrolled": true,
    "tags": []
   },
   "outputs": [
    {
     "name": "stderr",
     "output_type": "stream",
     "text": [
      "  0%|                                        | 53/17028 [00:01<04:39, 60.80it/s]"
     ]
    },
    {
     "name": "stdout",
     "output_type": "stream",
     "text": [
      "Error with data/conf_ensembles/40.sdf\n",
      "Molecule COc1ccc2c(c1)CC[NH2+][C@H]2c1ccc(S(N)(=O)=O)cc1 from input conformation is different \n",
      "        to molecule COc1ccc2c(c1)CC[NH2+]C2c1ccc(S(N)(=O)=O)cc1 from the ensemble\n"
     ]
    },
    {
     "name": "stderr",
     "output_type": "stream",
     "text": [
      "  1%|▎                                      | 138/17028 [00:02<06:21, 44.25it/s]"
     ]
    },
    {
     "name": "stdout",
     "output_type": "stream",
     "text": [
      "Error with data/conf_ensembles/129.sdf\n",
      "All molecules in the input list should be the same\n"
     ]
    },
    {
     "name": "stderr",
     "output_type": "stream",
     "text": [
      "  1%|▍                                      | 182/17028 [00:03<05:35, 50.29it/s]"
     ]
    },
    {
     "name": "stdout",
     "output_type": "stream",
     "text": [
      "Error with data/conf_ensembles/172.sdf\n",
      "All molecules in the input list should be the same\n"
     ]
    },
    {
     "name": "stderr",
     "output_type": "stream",
     "text": [
      "  1%|▍                                      | 210/17028 [00:04<06:39, 42.11it/s]"
     ]
    },
    {
     "name": "stdout",
     "output_type": "stream",
     "text": [
      "Error with data/conf_ensembles/205.sdf\n",
      "Molecule O=C([O-])c1ccc(C2=C(O)[C@H](O)c3cc(Cl)cc(Cl)c3O2)cc1 from input conformation is different \n",
      "        to molecule O=C([O-])c1ccc(C2=C(O)C(O)c3cc(Cl)cc(Cl)c3O2)cc1 from the ensemble\n"
     ]
    },
    {
     "name": "stderr",
     "output_type": "stream",
     "text": [
      "  1%|▌                                      | 228/17028 [00:04<05:54, 47.42it/s]"
     ]
    },
    {
     "name": "stdout",
     "output_type": "stream",
     "text": [
      "Error with data/conf_ensembles/221.sdf\n",
      "Molecule C[C@H]1C(=O)OC2=C1C=COC2 from input conformation is different \n",
      "        to molecule CC1C(=O)OC2=C1C=COC2 from the ensemble\n"
     ]
    },
    {
     "name": "stderr",
     "output_type": "stream",
     "text": [
      "  3%|█                                      | 452/17028 [00:09<03:53, 70.96it/s]"
     ]
    },
    {
     "name": "stdout",
     "output_type": "stream",
     "text": [
      "Error with data/conf_ensembles/436.sdf\n",
      "Molecule O=C1c2c(O)cc(O)cc2O[C@H](c2ccc(O)cc2)[C@H]1O from input conformation is different \n",
      "        to molecule O=C1c2c(O)cc(O)cc2OC(c2ccc(O)cc2)C1O from the ensemble\n"
     ]
    },
    {
     "name": "stderr",
     "output_type": "stream",
     "text": [
      "  3%|█▏                                     | 545/17028 [00:11<05:43, 47.99it/s]"
     ]
    },
    {
     "name": "stdout",
     "output_type": "stream",
     "text": [
      "Error with data/conf_ensembles/536.sdf\n",
      "Molecule NC1=NC(=O)C([C@H]2CCNC(=O)c3[nH]c(Br)cc32)=N1 from input conformation is different \n",
      "        to molecule NC1=NC(=O)C(C2CCNC(=O)c3[nH]c(Br)cc32)=N1 from the ensemble\n"
     ]
    },
    {
     "name": "stderr",
     "output_type": "stream",
     "text": [
      "  3%|█▎                                     | 560/17028 [00:11<05:20, 51.41it/s]"
     ]
    },
    {
     "name": "stdout",
     "output_type": "stream",
     "text": [
      "Error with data/conf_ensembles/553.sdf\n",
      "Molecule [NH3+][C@H]1CC[C@@H](NC2=CC=NC(=O)[C@@H]2c2nc3ccccc3[nH]2)CC1 from input conformation is different \n",
      "        to molecule [NH3+][C@H]1CC[C@@H](NC2=CC=NC(=O)C2c2nc3ccccc3[nH]2)CC1 from the ensemble\n"
     ]
    },
    {
     "name": "stderr",
     "output_type": "stream",
     "text": [
      "  6%|██▎                                   | 1039/17028 [00:20<05:27, 48.85it/s]"
     ]
    },
    {
     "name": "stdout",
     "output_type": "stream",
     "text": [
      "Error with data/conf_ensembles/1030.sdf\n",
      "Molecule CC1=C[C@H]([NH3+])c2ccccc2N1CCCCCCCCCCN1c2ccccc2C(N)=C[C@H]1C from input conformation is different \n",
      "        to molecule CC1=CC([NH3+])c2ccccc2N1CCCCCCCCCCN1c2ccccc2C(N)=CC1C from the ensemble\n",
      "Error with data/conf_ensembles/1035.sdf\n",
      "All molecules in the input list should be the same\n"
     ]
    },
    {
     "name": "stderr",
     "output_type": "stream",
     "text": [
      "  7%|██▌                                   | 1175/17028 [00:23<04:11, 63.00it/s]"
     ]
    },
    {
     "name": "stdout",
     "output_type": "stream",
     "text": [
      "Error with data/conf_ensembles/1165.sdf\n",
      "Molecule CC(/C=C/[C@@H]1[C@@H](C)CCCC1(C)C)=C\\C=C\\C(C)=C\\CO from input conformation is different \n",
      "        to molecule CC(/C=C/C1[C@@H](C)CCCC1(C)C)=C\\C=C\\C(C)=C\\CO from the ensemble\n",
      "Error with data/conf_ensembles/1167.sdf\n",
      "Molecule C=C1C=C(O)C(=O)[C@H](O)C=C1C(=O)[O-] from input conformation is different \n",
      "        to molecule C=C1C=C(O)C(=O)C(O)C=C1C(=O)[O-] from the ensemble\n"
     ]
    },
    {
     "name": "stderr",
     "output_type": "stream",
     "text": [
      "  7%|██▊                                   | 1265/17028 [00:25<05:14, 50.17it/s]"
     ]
    },
    {
     "name": "stdout",
     "output_type": "stream",
     "text": [
      "Error with data/conf_ensembles/1257.sdf\n",
      "Molecule CNc1nccc(C2=C[C@@H](NC(=O)c3ccc(N4CCCCC4)cc3)C(=O)N=C2)n1 from input conformation is different \n",
      "        to molecule CNc1nccc(C2=CC(NC(=O)c3ccc(N4CCCCC4)cc3)C(=O)N=C2)n1 from the ensemble\n"
     ]
    },
    {
     "name": "stderr",
     "output_type": "stream",
     "text": [
      "  8%|███                                   | 1388/17028 [00:27<04:23, 59.46it/s]"
     ]
    },
    {
     "name": "stdout",
     "output_type": "stream",
     "text": [
      "Error with data/conf_ensembles/1380.sdf\n",
      "Molecule CC(C)Oc1ccc([C@H]2C=CCN3CCS(=O)(=O)N=C23)cc1 from input conformation is different \n",
      "        to molecule CC(C)Oc1ccc(C2C=CCN3CCS(=O)(=O)N=C23)cc1 from the ensemble\n"
     ]
    },
    {
     "name": "stderr",
     "output_type": "stream",
     "text": [
      "  9%|███▍                                  | 1538/17028 [00:30<04:29, 57.52it/s]"
     ]
    },
    {
     "name": "stdout",
     "output_type": "stream",
     "text": [
      "Error with data/conf_ensembles/1532.sdf\n",
      "Molecule C[C@]12CCC(=O)C[C@H]1CC[C@@H]1[C@@H]2[C@@H](O)C[C@@]2(C)[C@H]1CC[C@]2(O)C(=O)CO from input conformation is different \n",
      "        to molecule C[C@]12CCC(=O)CC1CC[C@@H]1[C@@H]2[C@@H](O)C[C@@]2(C)[C@H]1CC[C@]2(O)C(=O)CO from the ensemble\n"
     ]
    },
    {
     "name": "stderr",
     "output_type": "stream",
     "text": [
      " 11%|████                                  | 1845/17028 [00:36<04:50, 52.32it/s]"
     ]
    },
    {
     "name": "stdout",
     "output_type": "stream",
     "text": [
      "Error with data/conf_ensembles/1839.sdf\n",
      "Molecule O=C1CC(=O)[C@H](Cl)C2=C1C(=O)NCCC/C=C/CC[C@@H](C(=O)NCc1ccccc1)C(=O)C2 from input conformation is different \n",
      "        to molecule O=C1CC(=O)C(Cl)C2=C1C(=O)NCCC/C=C/CC[C@@H](C(=O)NCc1ccccc1)C(=O)C2 from the ensemble\n"
     ]
    },
    {
     "name": "stderr",
     "output_type": "stream",
     "text": [
      " 12%|████▋                                 | 2088/17028 [00:40<05:05, 48.85it/s]"
     ]
    },
    {
     "name": "stdout",
     "output_type": "stream",
     "text": [
      "Error with data/conf_ensembles/2080.sdf\n",
      "Molecule CO[C@H]1[C@H]([C@@]2(C)O[C@@H]2CC=C(C)C)[C@](C)(O)CC[C@H]1OC(N)=O from input conformation is different \n",
      "        to molecule CO[C@H]1[C@H]([C@]2(C)O[C@@H]2CC=C(C)C)[C@](C)(O)CC[C@H]1OC(N)=O from the ensemble\n"
     ]
    },
    {
     "name": "stderr",
     "output_type": "stream",
     "text": [
      " 13%|████▊                                 | 2179/17028 [00:42<04:23, 56.27it/s]"
     ]
    },
    {
     "name": "stdout",
     "output_type": "stream",
     "text": [
      "Error with data/conf_ensembles/2166.sdf\n",
      "Molecule Nc1ccc2c(c1)[C@@H](c1ccccc1)N(CCCCCCc1cnnn1CCNc1c3ccccc3nc3ccccc13)c1cc(N)ccc1-2 from input conformation is different \n",
      "        to molecule Nc1ccc2c(c1)C(c1ccccc1)N(CCCCCCc1cnnn1CCNc1c3ccccc3nc3ccccc13)c1cc(N)ccc1-2 from the ensemble\n"
     ]
    },
    {
     "name": "stderr",
     "output_type": "stream",
     "text": [
      " 14%|█████▍                                | 2455/17028 [00:47<04:22, 55.45it/s]"
     ]
    },
    {
     "name": "stdout",
     "output_type": "stream",
     "text": [
      "Error with data/conf_ensembles/2446.sdf\n",
      "Molecule CCc1cccc(CC)c1NC(=O)n1cc2c(c1)[C@H](NC(=O)c1ccc(N3CC[NH+](C)CC3)cc1)[NH2+]N2 from input conformation is different \n",
      "        to molecule CCc1cccc(CC)c1NC(=O)n1cc2c(c1)C(NC(=O)c1ccc(N3CC[NH+](C)CC3)cc1)[NH2+]N2 from the ensemble\n"
     ]
    },
    {
     "name": "stderr",
     "output_type": "stream",
     "text": [
      " 15%|█████▋                                | 2557/17028 [00:49<05:06, 47.16it/s]"
     ]
    },
    {
     "name": "stdout",
     "output_type": "stream",
     "text": [
      "Error with data/conf_ensembles/2549.sdf\n",
      "Molecule CC(=O)N[C@H]1[NH2+]N(C(C)=O)[C@](C)(c2ccccc2)S1 from input conformation is different \n",
      "        to molecule CC(=O)NC1[NH2+]N(C(C)=O)[C@](C)(c2ccccc2)S1 from the ensemble\n"
     ]
    },
    {
     "name": "stderr",
     "output_type": "stream",
     "text": [
      " 15%|█████▉                                | 2638/17028 [00:51<03:10, 75.42it/s]"
     ]
    },
    {
     "name": "stdout",
     "output_type": "stream",
     "text": [
      "Error with data/conf_ensembles/2632.sdf\n",
      "Molecule C#C[C@]1(O)CC[C@H]2[C@@H]3CC[C@H]4CC(=O)CC[C@@H]4[C@H]3CC[C@@]21C from input conformation is different \n",
      "        to molecule C#C[C@]1(O)CC[C@H]2[C@@H]3CCC4CC(=O)CC[C@@H]4[C@H]3CC[C@@]21C from the ensemble\n"
     ]
    },
    {
     "name": "stderr",
     "output_type": "stream",
     "text": [
      " 16%|██████▏                               | 2796/17028 [00:54<04:18, 54.98it/s]"
     ]
    },
    {
     "name": "stdout",
     "output_type": "stream",
     "text": [
      "Error with data/conf_ensembles/2790.sdf\n",
      "All molecules in the input list should be the same\n"
     ]
    },
    {
     "name": "stderr",
     "output_type": "stream",
     "text": [
      " 17%|██████▍                               | 2866/17028 [00:55<04:48, 49.10it/s]"
     ]
    },
    {
     "name": "stdout",
     "output_type": "stream",
     "text": [
      "Error with data/conf_ensembles/2860.sdf\n",
      "Molecule Cc1ccc(Cl)c2c1NC(=O)[C@@H]2[NH2+]NC(=O)[C@@H](C)c1ccc(O)cc1 from input conformation is different \n",
      "        to molecule Cc1ccc(Cl)c2c1NC(=O)C2[NH2+]NC(=O)[C@@H](C)c1ccc(O)cc1 from the ensemble\n"
     ]
    },
    {
     "name": "stderr",
     "output_type": "stream",
     "text": [
      " 17%|██████▍                               | 2902/17028 [00:56<04:07, 57.14it/s]"
     ]
    },
    {
     "name": "stdout",
     "output_type": "stream",
     "text": [
      "Error with data/conf_ensembles/2891.sdf\n",
      "Molecule Nc1cc(Cn2c(C(=O)[O-])c([C@@H]3C=CC=NC3=O)c3cc(Cl)ccc32)ccn1 from input conformation is different \n",
      "        to molecule Nc1cc(Cn2c(C(=O)[O-])c(C3C=CC=NC3=O)c3cc(Cl)ccc32)ccn1 from the ensemble\n"
     ]
    },
    {
     "name": "stderr",
     "output_type": "stream",
     "text": [
      " 17%|██████▌                               | 2933/17028 [00:56<04:52, 48.13it/s]"
     ]
    },
    {
     "name": "stdout",
     "output_type": "stream",
     "text": [
      "Error with data/conf_ensembles/2925.sdf\n",
      "Molecule O=C1N=C(NCc2cccs2)S[C@@H]1Cc1ccc2ncccc2c1 from input conformation is different \n",
      "        to molecule O=C1N=C(NCc2cccs2)SC1Cc1ccc2ncccc2c1 from the ensemble\n"
     ]
    },
    {
     "name": "stderr",
     "output_type": "stream",
     "text": [
      " 17%|██████▌                               | 2961/17028 [00:57<04:40, 50.16it/s]"
     ]
    },
    {
     "name": "stdout",
     "output_type": "stream",
     "text": [
      "Error with data/conf_ensembles/2938.sdf\n",
      "All molecules in the input list should be the same\n",
      "Error with data/conf_ensembles/2953.sdf\n",
      "Molecule CC1(C)Cc2cc(Cl)ccc2C(N[C@@H](Cc2ccccc2)C2=NC(=O)[C@H](C#N)C=N2)=N1 from input conformation is different \n",
      "        to molecule CC1(C)Cc2cc(Cl)ccc2C(N[C@@H](Cc2ccccc2)C2=NC(=O)C(C#N)C=N2)=N1 from the ensemble\n"
     ]
    },
    {
     "name": "stderr",
     "output_type": "stream",
     "text": [
      " 18%|██████▋                               | 3008/17028 [00:58<04:33, 51.18it/s]"
     ]
    },
    {
     "name": "stdout",
     "output_type": "stream",
     "text": [
      "Error with data/conf_ensembles/2996.sdf\n",
      "Molecule CS[C@H](CCC[C@@H]1C(=[NH2+])NC(=[NH2+])NC1=O)c1ccc(C(=O)N[C@@H](CCC(=O)[O-])C(=O)[O-])cc1 from input conformation is different \n",
      "        to molecule CS[C@H](CCCC1C(=[NH2+])NC(=[NH2+])NC1=O)c1ccc(C(=O)N[C@@H](CCC(=O)[O-])C(=O)[O-])cc1 from the ensemble\n"
     ]
    },
    {
     "name": "stderr",
     "output_type": "stream",
     "text": [
      " 18%|██████▉                               | 3114/17028 [01:00<04:17, 53.97it/s]"
     ]
    },
    {
     "name": "stdout",
     "output_type": "stream",
     "text": [
      "Error with data/conf_ensembles/3105.sdf\n",
      "Molecule CCC(CC)CN(C[C@@H](O)[C@H](CC1CCCCC1)NC(=O)O[C@H]1CO[C@H]2OCC[C@@H]12)S(=O)(=O)[C@H]1CC[C@@H]([NH3+])CC1 from input conformation is different \n",
      "        to molecule CCC(CC)CN(C[C@@H](O)[C@H](CC1CCCCC1)NC(=O)O[C@H]1CO[C@H]2OCC[C@@H]12)S(=O)(=O)C1CCC([NH3+])CC1 from the ensemble\n"
     ]
    },
    {
     "name": "stderr",
     "output_type": "stream",
     "text": [
      " 19%|███████▎                              | 3295/17028 [01:03<05:13, 43.86it/s]"
     ]
    },
    {
     "name": "stdout",
     "output_type": "stream",
     "text": [
      "Error with data/conf_ensembles/3290.sdf\n",
      "Molecule COc1ccc2nc(COc3ccc(C[C@@H]4SC(=O)NC4=O)cc3)n(C)c2c1 from input conformation is different \n",
      "        to molecule COc1ccc2nc(COc3ccc(CC4SC(=O)NC4=O)cc3)n(C)c2c1 from the ensemble\n"
     ]
    },
    {
     "name": "stderr",
     "output_type": "stream",
     "text": [
      " 20%|███████▌                              | 3373/17028 [01:05<04:30, 50.47it/s]"
     ]
    },
    {
     "name": "stdout",
     "output_type": "stream",
     "text": [
      "Error with data/conf_ensembles/3368.sdf\n",
      "Molecule Cc1c(-c2ccnc3ccccc23)ccc2c1C(=O)N[C@H](C)N2 from input conformation is different \n",
      "        to molecule Cc1c(-c2ccnc3ccccc23)ccc2c1C(=O)NC(C)N2 from the ensemble\n"
     ]
    },
    {
     "name": "stderr",
     "output_type": "stream",
     "text": [
      " 21%|███████▉                              | 3572/17028 [01:08<04:05, 54.80it/s]"
     ]
    },
    {
     "name": "stdout",
     "output_type": "stream",
     "text": [
      "Error with data/conf_ensembles/3559.sdf\n",
      "All molecules in the input list should be the same\n"
     ]
    },
    {
     "name": "stderr",
     "output_type": "stream",
     "text": [
      " 21%|████████                              | 3592/17028 [01:09<03:49, 58.64it/s]"
     ]
    },
    {
     "name": "stdout",
     "output_type": "stream",
     "text": [
      "Error with data/conf_ensembles/3585.sdf\n",
      "Molecule C/N=C1\\C=NN(C)C(=O)[C@@H]1Cl from input conformation is different \n",
      "        to molecule C/N=C1\\C=NN(C)C(=O)C1Cl from the ensemble\n",
      "Error with data/conf_ensembles/3592.sdf\n",
      "Molecule CO[C@H]1CC[C@@H](c2nsc(C)c2C(=O)NC(=[NH2+])NCc2cc(Cl)c(N)c(Cl)c2)CC1 from input conformation is different \n",
      "        to molecule COC1CCC(c2nsc(C)c2C(=O)NC(=[NH2+])NCc2cc(Cl)c(N)c(Cl)c2)CC1 from the ensemble\n"
     ]
    },
    {
     "name": "stderr",
     "output_type": "stream",
     "text": [
      " 23%|████████▋                             | 3871/17028 [01:14<03:17, 66.46it/s]"
     ]
    },
    {
     "name": "stdout",
     "output_type": "stream",
     "text": [
      "Error with data/conf_ensembles/3865.sdf\n",
      "Molecule O=C(NCC[C@@H]1C=CCCC1)Nc1ccc2nnsc2c1 from input conformation is different \n",
      "        to molecule O=C(NCCC1C=CCCC1)Nc1ccc2nnsc2c1 from the ensemble\n"
     ]
    },
    {
     "name": "stderr",
     "output_type": "stream",
     "text": [
      " 23%|████████▊                             | 3963/17028 [01:16<03:59, 54.57it/s]"
     ]
    },
    {
     "name": "stdout",
     "output_type": "stream",
     "text": [
      "Error with data/conf_ensembles/3957.sdf\n",
      "Molecule O=c1[nH]c2[n+](c3ccccc13)CCC2C[NH+]1CCCCC1 from input conformation is different \n",
      "        to molecule O=c1[nH]c2[n+](c3ccccc13)CC[C@@H]2C[NH+]1CCCCC1 from the ensemble\n"
     ]
    },
    {
     "name": "stderr",
     "output_type": "stream",
     "text": [
      " 24%|████████▉                             | 4002/17028 [01:17<04:44, 45.80it/s]"
     ]
    },
    {
     "name": "stdout",
     "output_type": "stream",
     "text": [
      "Error with data/conf_ensembles/3996.sdf\n",
      "All molecules in the input list should be the same\n"
     ]
    },
    {
     "name": "stderr",
     "output_type": "stream",
     "text": [
      " 24%|████████▉                             | 4029/17028 [01:17<04:57, 43.68it/s]"
     ]
    },
    {
     "name": "stdout",
     "output_type": "stream",
     "text": [
      "Error with data/conf_ensembles/4022.sdf\n",
      "Molecule CCOC(=O)c1sc2cnccc2c1Nc1ccc2c(c1)CC[C@@H]2[NH2+]O from input conformation is different \n",
      "        to molecule CCOC(=O)c1sc2cnccc2c1Nc1ccc2c(c1)CCC2[NH2+]O from the ensemble\n",
      "Error with data/conf_ensembles/4029.sdf\n",
      "Molecule CCC(CC)CN(C[C@@H](O)[C@H](CC1CCCCC1)NC(=O)O[C@H]1CO[C@H]2OCC[C@@H]12)S(=O)(=O)[C@H]1CC[C@@H]([C@@H](C)O)CC1 from input conformation is different \n",
      "        to molecule CCC(CC)CN(C[C@@H](O)[C@H](CC1CCCCC1)NC(=O)O[C@H]1CO[C@H]2OCC[C@@H]12)S(=O)(=O)C1CCC([C@@H](C)O)CC1 from the ensemble\n"
     ]
    },
    {
     "name": "stderr",
     "output_type": "stream",
     "text": [
      " 24%|█████████                             | 4051/17028 [01:18<04:47, 45.14it/s]"
     ]
    },
    {
     "name": "stdout",
     "output_type": "stream",
     "text": [
      "Error with data/conf_ensembles/4040.sdf\n",
      "Molecule N=C1NC(=[NH2+])[C@H]([N+](=O)[O-])C(=O)N1 from input conformation is different \n",
      "        to molecule N=C1NC(=[NH2+])C([N+](=O)[O-])C(=O)N1 from the ensemble\n"
     ]
    },
    {
     "name": "stderr",
     "output_type": "stream",
     "text": [
      " 25%|█████████▍                            | 4234/17028 [01:21<03:35, 59.31it/s]"
     ]
    },
    {
     "name": "stdout",
     "output_type": "stream",
     "text": [
      "Error with data/conf_ensembles/4222.sdf\n",
      "Molecule C#Cc1csc2c1[NH+]=C(NC1CCCC1)N(CC)[C@H]2O from input conformation is different \n",
      "        to molecule C#Cc1csc2c1[NH+]=C(NC1CCCC1)N(CC)C2O from the ensemble\n"
     ]
    },
    {
     "name": "stderr",
     "output_type": "stream",
     "text": [
      " 25%|█████████▍                            | 4255/17028 [01:22<03:49, 55.74it/s]"
     ]
    },
    {
     "name": "stdout",
     "output_type": "stream",
     "text": [
      "Error with data/conf_ensembles/4244.sdf\n",
      "Molecule Cc1nnc(C[NH2+]CC[N@H+]2C(O)c3cccc4cccc(c34)[C@@H]2O)s1 from input conformation is different \n",
      "        to molecule Cc1nnc(C[NH2+]CC[NH+]2C(O)c3cccc4cccc(c34)C2O)s1 from the ensemble\n"
     ]
    },
    {
     "name": "stderr",
     "output_type": "stream",
     "text": [
      " 25%|█████████▋                            | 4335/17028 [01:23<04:32, 46.54it/s]"
     ]
    },
    {
     "name": "stdout",
     "output_type": "stream",
     "text": [
      "Error with data/conf_ensembles/4329.sdf\n",
      "Molecule CC(C)(C)c1cccc([C@H]2C=CC=NC2=O)c1 from input conformation is different \n",
      "        to molecule CC(C)(C)c1cccc(C2C=CC=NC2=O)c1 from the ensemble\n"
     ]
    },
    {
     "name": "stderr",
     "output_type": "stream",
     "text": [
      " 26%|█████████▊                            | 4409/17028 [01:25<03:35, 58.45it/s]"
     ]
    },
    {
     "name": "stdout",
     "output_type": "stream",
     "text": [
      "Error with data/conf_ensembles/4402.sdf\n",
      "Molecule O=C1c2ccc(O)c(C[N+]3CCCCCC3)c2O[C@H]1Cc1c[nH]c2ccccc12 from input conformation is different \n",
      "        to molecule O=C1c2ccc(O)c(C[N+]3CCCCCC3)c2OC1Cc1c[nH]c2ccccc12 from the ensemble\n"
     ]
    },
    {
     "name": "stderr",
     "output_type": "stream",
     "text": [
      " 27%|██████████▏                           | 4581/17028 [01:29<03:46, 55.03it/s]"
     ]
    },
    {
     "name": "stdout",
     "output_type": "stream",
     "text": [
      "Error with data/conf_ensembles/4569.sdf\n",
      "Molecule CC(C)C1=CC(=O)C(=O)[C@@H](O)C=C1 from input conformation is different \n",
      "        to molecule CC(C)C1=CC(=O)C(=O)C(O)C=C1 from the ensemble\n"
     ]
    },
    {
     "name": "stderr",
     "output_type": "stream",
     "text": [
      " 27%|██████████▎                           | 4607/17028 [01:29<02:54, 71.35it/s]"
     ]
    },
    {
     "name": "stdout",
     "output_type": "stream",
     "text": [
      "Error with data/conf_ensembles/4603.sdf\n",
      "Molecule O=C1N=C(c2ccccc2)C=C[C@H]1O from input conformation is different \n",
      "        to molecule O=C1N=C(c2ccccc2)C=CC1O from the ensemble\n"
     ]
    },
    {
     "name": "stderr",
     "output_type": "stream",
     "text": [
      " 28%|██████████▌                           | 4753/17028 [01:31<03:26, 59.40it/s]"
     ]
    },
    {
     "name": "stdout",
     "output_type": "stream",
     "text": [
      "Error with data/conf_ensembles/4746.sdf\n",
      "Molecule C[S@@+](O)C1=CC(c2cccc(OC(F)(F)F)c2)=NC(=O)[C@H]1C#N from input conformation is different \n",
      "        to molecule C[S@@+](O)C1=CC(c2cccc(OC(F)(F)F)c2)=NC(=O)C1C#N from the ensemble\n"
     ]
    },
    {
     "name": "stderr",
     "output_type": "stream",
     "text": [
      " 29%|██████████▉                           | 4890/17028 [01:34<03:28, 58.34it/s]"
     ]
    },
    {
     "name": "stdout",
     "output_type": "stream",
     "text": [
      "Error with data/conf_ensembles/4877.sdf\n",
      "Molecule OC(O)C[C@H]1C[C@H](I)[C@H](O[C@@H]2C=C(I)[C@@H](O)CC2)[C@H](I)C1 from input conformation is different \n",
      "        to molecule OC(O)C[C@H]1C[C@H](I)[C@H](O[C@@H]2C=C(I)C(O)CC2)[C@H](I)C1 from the ensemble\n"
     ]
    },
    {
     "name": "stderr",
     "output_type": "stream",
     "text": [
      " 29%|██████████▉                           | 4927/17028 [01:35<03:49, 52.78it/s]"
     ]
    },
    {
     "name": "stdout",
     "output_type": "stream",
     "text": [
      "Error with data/conf_ensembles/4922.sdf\n",
      "Molecule Cc1nnc(C[NH2+]CC[NH+]2[C@@H](O)c3cccc4c(N(C)C)ccc(c34)[C@@H]2O)s1 from input conformation is different \n",
      "        to molecule Cc1nnc(C[NH2+]CC[NH+]2C(O)c3cccc4c(N(C)C)ccc(c34)C2O)s1 from the ensemble\n"
     ]
    },
    {
     "name": "stderr",
     "output_type": "stream",
     "text": [
      " 29%|███████████                           | 4943/17028 [01:35<03:41, 54.64it/s]"
     ]
    },
    {
     "name": "stdout",
     "output_type": "stream",
     "text": [
      "Error with data/conf_ensembles/4937.sdf\n",
      "Molecule O=C1N[C@@H](Oc2cnn(Cc3ccccc3)c2)Nc2cnccc21 from input conformation is different \n",
      "        to molecule O=C1NC(Oc2cnn(Cc3ccccc3)c2)Nc2cnccc21 from the ensemble\n"
     ]
    },
    {
     "name": "stderr",
     "output_type": "stream",
     "text": [
      " 31%|███████████▋                          | 5251/17028 [01:41<03:47, 51.84it/s]"
     ]
    },
    {
     "name": "stdout",
     "output_type": "stream",
     "text": [
      "Error with data/conf_ensembles/5241.sdf\n",
      "Molecule N#Cc1c(NC(=O)c2cc(S(=O)(=O)N3CCOCC3)c(Cl)cc2Cl)sc2c1CC[N@H+](Cc1ccc(-c3nn[nH]n3)cc1)C2 from input conformation is different \n",
      "        to molecule N#Cc1c(NC(=O)c2cc(S(=O)(=O)N3CCOCC3)c(Cl)cc2Cl)sc2c1CC[NH+](Cc1ccc(-c3nn[nH]n3)cc1)C2 from the ensemble\n"
     ]
    },
    {
     "name": "stderr",
     "output_type": "stream",
     "text": [
      " 31%|███████████▉                          | 5347/17028 [01:42<03:48, 51.16it/s]"
     ]
    },
    {
     "name": "stdout",
     "output_type": "stream",
     "text": [
      "Error with data/conf_ensembles/5337.sdf\n",
      "Molecule CN1N=C/C(=N\\c2cccc3c2CC[N@H+](C)C3)[C@H](Cl)C1=O from input conformation is different \n",
      "        to molecule CN1N=C/C(=N\\c2cccc3c2CC[N@H+](C)C3)C(Cl)C1=O from the ensemble\n"
     ]
    },
    {
     "name": "stderr",
     "output_type": "stream",
     "text": [
      " 32%|████████████                          | 5416/17028 [01:43<03:14, 59.84it/s]"
     ]
    },
    {
     "name": "stdout",
     "output_type": "stream",
     "text": [
      "Error with data/conf_ensembles/5407.sdf\n",
      "All molecules in the input list should be the same\n"
     ]
    },
    {
     "name": "stderr",
     "output_type": "stream",
     "text": [
      " 33%|████████████▍                         | 5558/17028 [01:46<04:12, 45.37it/s]"
     ]
    },
    {
     "name": "stdout",
     "output_type": "stream",
     "text": [
      "Error with data/conf_ensembles/5554.sdf\n",
      "Molecule CC(C)(C)c1ccc([C@@H]2C=CCN3CCS(=O)(=O)N=C23)cc1 from input conformation is different \n",
      "        to molecule CC(C)(C)c1ccc(C2C=CCN3CCS(=O)(=O)N=C23)cc1 from the ensemble\n"
     ]
    },
    {
     "name": "stderr",
     "output_type": "stream",
     "text": [
      " 33%|████████████▍                         | 5591/17028 [01:47<04:31, 42.12it/s]"
     ]
    },
    {
     "name": "stdout",
     "output_type": "stream",
     "text": [
      "Error with data/conf_ensembles/5585.sdf\n",
      "Molecule CC[C@H](C)CN(C[C@@H](O)[C@H](CC1CCCCC1)NC(=O)O[C@H]1CO[C@H]2OCC[C@@H]12)S(=O)(=O)[C@H]1CC[C@@H]([C@H](O)CO)CC1 from input conformation is different \n",
      "        to molecule CC[C@H](C)CN(C[C@@H](O)[C@H](CC1CCCCC1)NC(=O)O[C@H]1CO[C@H]2OCC[C@@H]12)S(=O)(=O)C1CCC([C@H](O)CO)CC1 from the ensemble\n"
     ]
    },
    {
     "name": "stderr",
     "output_type": "stream",
     "text": [
      " 33%|████████████▌                         | 5633/17028 [01:48<03:55, 48.49it/s]"
     ]
    },
    {
     "name": "stdout",
     "output_type": "stream",
     "text": [
      "Error with data/conf_ensembles/5623.sdf\n",
      "Molecule C[C@@H]1[C@@H](O)[C@H](O)[C@@H](O)[C@@H]([NH2+][C@H]2[C@H](O)[C@@H](O)[C@@H](O[C@@H]3[C@@H](CO)OC[C@H](O)[C@H]3O)O[C@@H]2C)[C@@H]1O from input conformation is different \n",
      "        to molecule CC1[C@@H](O)[C@H](O)[C@@H](O)[C@@H]([NH2+][C@H]2[C@H](O)[C@@H](O)[C@@H](O[C@@H]3[C@@H](CO)OC[C@H](O)[C@H]3O)O[C@@H]2C)[C@@H]1O from the ensemble\n"
     ]
    },
    {
     "name": "stderr",
     "output_type": "stream",
     "text": [
      " 33%|████████████▋                         | 5681/17028 [01:49<03:35, 52.72it/s]"
     ]
    },
    {
     "name": "stdout",
     "output_type": "stream",
     "text": [
      "Error with data/conf_ensembles/5673.sdf\n",
      "Molecule C[N@@H+]1[C@@H](CNc2ccc(C(=O)N[C@@H](CCC(=O)N[C@@H](CCC(=O)[O-])C(=O)[O-])C(=O)[O-])cc2)CNC2=NC(=[NH2+])N[C@@H](O)[C@@H]21 from input conformation is different \n",
      "        to molecule C[N@H+]1C2C(=NC(=[NH2+])NC2O)NC[C@@H]1CNc1ccc(C(=O)N[C@@H](CCC(=O)N[C@@H](CCC(=O)[O-])C(=O)[O-])C(=O)[O-])cc1 from the ensemble\n"
     ]
    },
    {
     "name": "stderr",
     "output_type": "stream",
     "text": [
      " 34%|████████████▊                         | 5745/17028 [01:50<04:00, 46.93it/s]"
     ]
    },
    {
     "name": "stdout",
     "output_type": "stream",
     "text": [
      "Error with data/conf_ensembles/5738.sdf\n",
      "All molecules in the input list should be the same\n"
     ]
    },
    {
     "name": "stderr",
     "output_type": "stream",
     "text": [
      " 34%|████████████▊                         | 5757/17028 [01:50<03:49, 49.14it/s]"
     ]
    },
    {
     "name": "stdout",
     "output_type": "stream",
     "text": [
      "Error with data/conf_ensembles/5748.sdf\n",
      "Molecule N#Cc1cnn2c1N=C(Cl)[C@@H](Cc1ccccc1)C2=O from input conformation is different \n",
      "        to molecule N#Cc1cnn2c1N=C(Cl)C(Cc1ccccc1)C2=O from the ensemble\n"
     ]
    },
    {
     "name": "stderr",
     "output_type": "stream",
     "text": [
      " 35%|█████████████▏                        | 5925/17028 [01:54<04:40, 39.51it/s]"
     ]
    },
    {
     "name": "stdout",
     "output_type": "stream",
     "text": [
      "Error with data/conf_ensembles/5920.sdf\n",
      "Molecule CC1=CS[C@H]2C=C([C@H](C)Nc3ncnc(N)c3C#N)[C@H](c3cccc(C[NH+](C)C)c3)C(=O)N12 from input conformation is different \n",
      "        to molecule CC1=CSC2C=C([C@H](C)Nc3ncnc(N)c3C#N)C(c3cccc(C[NH+](C)C)c3)C(=O)N12 from the ensemble\n"
     ]
    },
    {
     "name": "stderr",
     "output_type": "stream",
     "text": [
      " 35%|█████████████▎                        | 5951/17028 [01:54<03:20, 55.30it/s]"
     ]
    },
    {
     "name": "stdout",
     "output_type": "stream",
     "text": [
      "Error with data/conf_ensembles/5943.sdf\n",
      "Molecule COc1cccc([C@@H]2C=C(c3ccc(C(=O)[O-])cc3)[C@H](C#N)C(=O)N2)c1 from input conformation is different \n",
      "        to molecule COc1cccc([C@@H]2C=C(c3ccc(C(=O)[O-])cc3)C(C#N)C(=O)N2)c1 from the ensemble\n"
     ]
    },
    {
     "name": "stderr",
     "output_type": "stream",
     "text": [
      " 35%|█████████████▎                        | 5968/17028 [01:55<03:46, 48.93it/s]"
     ]
    },
    {
     "name": "stdout",
     "output_type": "stream",
     "text": [
      "Error with data/conf_ensembles/5960.sdf\n",
      "Molecule C[C@@H]1CC[C@@]2(C)[C@H](CCC[C@H]2C)[C@@]1(C)CC1=CC(=O)C=CC1=O from input conformation is different \n",
      "        to molecule CC1CCC[C@@H]2[C@@](C)(CC3=CC(=O)C=CC3=O)[C@H](C)CC[C@]12C from the ensemble\n"
     ]
    },
    {
     "name": "stderr",
     "output_type": "stream",
     "text": [
      " 35%|█████████████▎                        | 5984/17028 [01:55<03:59, 46.14it/s]"
     ]
    },
    {
     "name": "stdout",
     "output_type": "stream",
     "text": [
      "Error with data/conf_ensembles/5977.sdf\n",
      "Molecule OC1=CN(c2cccc(-c3ccccc3)c2)C=C[C@H]1O from input conformation is different \n",
      "        to molecule OC1=CN(c2cccc(-c3ccccc3)c2)C=CC1O from the ensemble\n"
     ]
    },
    {
     "name": "stderr",
     "output_type": "stream",
     "text": [
      " 35%|█████████████▍                        | 6032/17028 [01:56<03:20, 54.94it/s]"
     ]
    },
    {
     "name": "stdout",
     "output_type": "stream",
     "text": [
      "Error with data/conf_ensembles/6022.sdf\n",
      "Molecule CCN1c2cc(N)ccc2-c2ccc(N)cc2[C@@H]1c1ccccc1 from input conformation is different \n",
      "        to molecule CCN1c2cc(N)ccc2-c2ccc(N)cc2C1c1ccccc1 from the ensemble\n"
     ]
    },
    {
     "name": "stderr",
     "output_type": "stream",
     "text": [
      " 36%|█████████████▋                        | 6161/17028 [01:58<03:50, 47.16it/s]"
     ]
    },
    {
     "name": "stdout",
     "output_type": "stream",
     "text": [
      "Error with data/conf_ensembles/6154.sdf\n",
      "Molecule CC(=O)N[C@@H]1[C@@H](NC(N)=[NH2+])C[C@@H](C(=O)[O-])O[C@H]1[C@H](O)[C@H](O)CO from input conformation is different \n",
      "        to molecule CC(=O)N[C@@H]1[C@@H](NC(N)=[NH2+])CC(C(=O)[O-])O[C@H]1[C@H](O)[C@H](O)CO from the ensemble\n"
     ]
    },
    {
     "name": "stderr",
     "output_type": "stream",
     "text": [
      " 36%|█████████████▊                        | 6177/17028 [01:59<03:02, 59.53it/s]"
     ]
    },
    {
     "name": "stdout",
     "output_type": "stream",
     "text": [
      "Error with data/conf_ensembles/6175.sdf\n",
      "Molecule CC(=O)[C@@H]1C(=O)[C@@H]2[C@H]3c4c[nH]c5cccc(c45)C[C@H]3C(C)(C)[N@@H+]2[C@@H]1O from input conformation is different \n",
      "        to molecule CC(=O)C1C(=O)[C@@H]2[C@H]3c4c[nH]c5cccc(c45)C[C@H]3C(C)(C)[N@@H+]2[C@@H]1O from the ensemble\n"
     ]
    },
    {
     "name": "stderr",
     "output_type": "stream",
     "text": [
      " 36%|█████████████▊                        | 6197/17028 [01:59<03:31, 51.27it/s]"
     ]
    },
    {
     "name": "stdout",
     "output_type": "stream",
     "text": [
      "Error with data/conf_ensembles/6192.sdf\n",
      "Molecule CN1N=C/C(=N\\[C@@H]2CCC[N@H+](C)C2)[C@H](Cl)C1=O from input conformation is different \n",
      "        to molecule CN1N=C/C(=N\\[C@@H]2CCC[N@H+](C)C2)C(Cl)C1=O from the ensemble\n"
     ]
    },
    {
     "name": "stderr",
     "output_type": "stream",
     "text": [
      " 37%|██████████████▏                       | 6357/17028 [02:02<03:41, 48.22it/s]"
     ]
    },
    {
     "name": "stdout",
     "output_type": "stream",
     "text": [
      "Error with data/conf_ensembles/6350.sdf\n",
      "All molecules in the input list should be the same\n"
     ]
    },
    {
     "name": "stderr",
     "output_type": "stream",
     "text": [
      " 37%|██████████████▏                       | 6375/17028 [02:03<03:24, 52.13it/s]"
     ]
    },
    {
     "name": "stdout",
     "output_type": "stream",
     "text": [
      "Error with data/conf_ensembles/6368.sdf\n",
      "Molecule CC1CC=C(O)C(Cn2c(NCCC[NH+]3CCOCC3)nc3c2C=C(C[NH2+][C@H]2C[C@@H](C)CC[C@@H]2CCCO)CC3)[NH2+]1 from input conformation is different \n",
      "        to molecule CC1CCC(CCCO)C([NH2+]CC2=Cc3c(nc(NCCC[NH+]4CCOCC4)n3CC3[NH2+]C(C)CC=C3O)CC2)C1 from the ensemble\n"
     ]
    },
    {
     "name": "stderr",
     "output_type": "stream",
     "text": [
      " 38%|██████████████▌                       | 6524/17028 [02:06<03:07, 55.87it/s]"
     ]
    },
    {
     "name": "stdout",
     "output_type": "stream",
     "text": [
      "Error with data/conf_ensembles/6512.sdf\n",
      "Molecule O=C1c2c(O)cc(O)cc2O[C@@H](c2ccc(O)c(O)c2)[C@@H]1O from input conformation is different \n",
      "        to molecule O=C1c2c(O)cc(O)cc2O[C@@H](c2ccc(O)c(O)c2)C1O from the ensemble\n"
     ]
    },
    {
     "name": "stderr",
     "output_type": "stream",
     "text": [
      " 40%|███████████████                       | 6772/17028 [02:10<03:02, 56.27it/s]"
     ]
    },
    {
     "name": "stdout",
     "output_type": "stream",
     "text": [
      "Error with data/conf_ensembles/6762.sdf\n",
      "Molecule COc1cc(OC)nc([C@H]2CCCC[C@@H]2C(=O)NCc2ccc(Cl)c(Cl)c2)n1 from input conformation is different \n",
      "        to molecule COc1cc(OC)nc([C@H]2CCCCC2C(=O)NCc2ccc(Cl)c(Cl)c2)n1 from the ensemble\n"
     ]
    },
    {
     "name": "stderr",
     "output_type": "stream",
     "text": [
      " 40%|███████████████▏                      | 6830/17028 [02:11<03:32, 48.10it/s]"
     ]
    },
    {
     "name": "stdout",
     "output_type": "stream",
     "text": [
      "Error with data/conf_ensembles/6821.sdf\n",
      "Molecule C[NH+](C)CCNC(=O)c1cc([C]2SC[C@@H]3OCCO[C@@H]23)cnc1N from input conformation is different \n",
      "        to molecule C[NH+](C)CCNC(=O)c1cc([C]2SCC3OCCOC23)cnc1N from the ensemble\n"
     ]
    },
    {
     "name": "stderr",
     "output_type": "stream",
     "text": [
      " 41%|███████████████▍                      | 6916/17028 [02:13<02:49, 59.66it/s]"
     ]
    },
    {
     "name": "stdout",
     "output_type": "stream",
     "text": [
      "Error with data/conf_ensembles/6907.sdf\n",
      "All molecules in the input list should be the same\n"
     ]
    },
    {
     "name": "stderr",
     "output_type": "stream",
     "text": [
      " 41%|███████████████▌                      | 6992/17028 [02:15<03:46, 44.39it/s]"
     ]
    },
    {
     "name": "stdout",
     "output_type": "stream",
     "text": [
      "Error with data/conf_ensembles/6984.sdf\n",
      "Molecule [NH3+]CCNS(=O)(=O)c1ccc(-c2ccc(CSC3=NC(=O)[C@H]4CCCC4=N3)cc2)cc1 from input conformation is different \n",
      "        to molecule [NH3+]CCNS(=O)(=O)c1ccc(-c2ccc(CSC3=NC(=O)C4CCCC4=N3)cc2)cc1 from the ensemble\n",
      "Error with data/conf_ensembles/6989.sdf\n",
      "Molecule [NH3+][C@H](COc1cncc(-c2ccc3c(c2)[C@H](Cc2ccc[nH]2)C(=O)N3)c1)Cc1c[nH]c2ccccc12 from input conformation is different \n",
      "        to molecule [NH3+][C@H](COc1cncc(-c2ccc3c(c2)C(Cc2ccc[nH]2)C(=O)N3)c1)Cc1c[nH]c2ccccc12 from the ensemble\n"
     ]
    },
    {
     "name": "stderr",
     "output_type": "stream",
     "text": [
      " 41%|███████████████▋                      | 7040/17028 [02:16<03:34, 46.52it/s]"
     ]
    },
    {
     "name": "stdout",
     "output_type": "stream",
     "text": [
      "Error with data/conf_ensembles/7036.sdf\n",
      "Molecule COc1ccc(-c2c(S(C)(=O)=O)ccc(C(=O)[C@@H]3C=NN(C(C)(C)C)C3=O)c2C)cc1 from input conformation is different \n",
      "        to molecule COc1ccc(-c2c(S(C)(=O)=O)ccc(C(=O)C3C=NN(C(C)(C)C)C3=O)c2C)cc1 from the ensemble\n"
     ]
    },
    {
     "name": "stderr",
     "output_type": "stream",
     "text": [
      " 42%|███████████████▊                      | 7080/17028 [02:16<03:31, 47.13it/s]"
     ]
    },
    {
     "name": "stdout",
     "output_type": "stream",
     "text": [
      "Error with data/conf_ensembles/7073.sdf\n",
      "All molecules in the input list should be the same\n"
     ]
    },
    {
     "name": "stderr",
     "output_type": "stream",
     "text": [
      " 42%|████████████████                      | 7225/17028 [02:19<03:18, 49.31it/s]"
     ]
    },
    {
     "name": "stdout",
     "output_type": "stream",
     "text": [
      "Error with data/conf_ensembles/7216.sdf\n",
      "Molecule [NH2+]=C1N=C2NC[C@H](CNc3ccc(C(=O)N[C@@H](CCC(=O)[O-])C(=O)[O-])cc3)[NH2+][C@@H]2C(=O)N1 from input conformation is different \n",
      "        to molecule [NH2+]=C1N=C2NC[C@H](CNc3ccc(C(=O)N[C@@H](CCC(=O)[O-])C(=O)[O-])cc3)[NH2+]C2C(=O)N1 from the ensemble\n"
     ]
    },
    {
     "name": "stderr",
     "output_type": "stream",
     "text": [
      " 43%|████████████████▎                     | 7304/17028 [02:21<03:18, 49.08it/s]"
     ]
    },
    {
     "name": "stdout",
     "output_type": "stream",
     "text": [
      "Error with data/conf_ensembles/7297.sdf\n",
      "Molecule Cc1cc([C@H]2C(=O)Nc3ccc(Cl)cc3[C@@H]2c2ccccc2)on1 from input conformation is different \n",
      "        to molecule Cc1cc([C@H]2C(=O)Nc3ccc(Cl)cc3C2c2ccccc2)on1 from the ensemble\n"
     ]
    },
    {
     "name": "stderr",
     "output_type": "stream",
     "text": [
      " 43%|████████████████▍                     | 7344/17028 [02:22<03:33, 45.40it/s]"
     ]
    },
    {
     "name": "stdout",
     "output_type": "stream",
     "text": [
      "Error with data/conf_ensembles/7340.sdf\n",
      "All molecules in the input list should be the same\n"
     ]
    },
    {
     "name": "stderr",
     "output_type": "stream",
     "text": [
      " 44%|████████████████▌                     | 7408/17028 [02:23<03:03, 52.42it/s]"
     ]
    },
    {
     "name": "stdout",
     "output_type": "stream",
     "text": [
      "Error with data/conf_ensembles/7402.sdf\n",
      "Molecule C[NH+](C)CC(=O)N[C@@H]1CC[C@H]2[NH2+][C@H](O)[C@H]3CCCC[C@@H]3[C@H]2C1 from input conformation is different \n",
      "        to molecule C[NH+](C)CC(=O)NC1CCC2[NH2+]C(O)C3CCCCC3C2C1 from the ensemble\n"
     ]
    },
    {
     "name": "stderr",
     "output_type": "stream",
     "text": [
      " 44%|████████████████▌                     | 7448/17028 [02:24<03:09, 50.56it/s]"
     ]
    },
    {
     "name": "stdout",
     "output_type": "stream",
     "text": [
      "Error with data/conf_ensembles/7440.sdf\n",
      "Molecule CC(=O)N[C@@H]1[C@@H](O)C[C@H](C(=O)[O-])O[C@H]1[C@H](O)[C@H](O)CO from input conformation is different \n",
      "        to molecule CC(=O)N[C@@H]1[C@@H](O)CC(C(=O)[O-])O[C@H]1[C@H](O)[C@H](O)CO from the ensemble\n"
     ]
    },
    {
     "name": "stderr",
     "output_type": "stream",
     "text": [
      " 45%|████████████████▉                     | 7610/17028 [02:27<03:08, 49.84it/s]"
     ]
    },
    {
     "name": "stdout",
     "output_type": "stream",
     "text": [
      "Error with data/conf_ensembles/7602.sdf\n",
      "Molecule O=C1c2c(O)cc(O)cc2O[C@H](c2cc(O)c(O)c(O)c2)[C@H]1O from input conformation is different \n",
      "        to molecule O=C1c2c(O)cc(O)cc2O[C@H](c2cc(O)c(O)c(O)c2)C1O from the ensemble\n"
     ]
    },
    {
     "name": "stderr",
     "output_type": "stream",
     "text": [
      " 46%|█████████████████▍                    | 7792/17028 [02:30<03:05, 49.92it/s]"
     ]
    },
    {
     "name": "stdout",
     "output_type": "stream",
     "text": [
      "Error with data/conf_ensembles/7790.sdf\n",
      "Molecule ON1C=Cc2ccccc2[C@@H]1S from input conformation is different \n",
      "        to molecule ON1C=Cc2ccccc2C1S from the ensemble\n"
     ]
    },
    {
     "name": "stderr",
     "output_type": "stream",
     "text": [
      " 46%|█████████████████▍                    | 7811/17028 [02:31<03:17, 46.60it/s]"
     ]
    },
    {
     "name": "stdout",
     "output_type": "stream",
     "text": [
      "Error with data/conf_ensembles/7800.sdf\n",
      "Molecule Cc1cc(=N)c2ccccc2n1CCCCCCCCCCN1c2ccccc2C(N)=C[C@H]1C from input conformation is different \n",
      "        to molecule Cc1cc(=N)c2ccccc2n1CCCCCCCCCCN1c2ccccc2C(N)=CC1C from the ensemble\n"
     ]
    },
    {
     "name": "stderr",
     "output_type": "stream",
     "text": [
      " 46%|█████████████████▌                    | 7848/17028 [02:31<02:47, 54.71it/s]"
     ]
    },
    {
     "name": "stdout",
     "output_type": "stream",
     "text": [
      "Error with data/conf_ensembles/7842.sdf\n",
      "Molecule O=C1c2c(O)cc(O)cc2O[C@H](c2ccc(O)c(O)c2)[C@H]1O from input conformation is different \n",
      "        to molecule O=C1c2c(O)cc(O)cc2OC(c2ccc(O)c(O)c2)C1O from the ensemble\n"
     ]
    },
    {
     "name": "stderr",
     "output_type": "stream",
     "text": [
      " 47%|█████████████████▋                    | 7925/17028 [02:33<03:07, 48.66it/s]"
     ]
    },
    {
     "name": "stdout",
     "output_type": "stream",
     "text": [
      "Error with data/conf_ensembles/7919.sdf\n",
      "Molecule Cc1cc(N[C@H]2C=C(c3ccc(F)c(NC(=O)c4cc5c(s4)CCCC5)c3F)N=NC2=O)nn1C from input conformation is different \n",
      "        to molecule Cc1cc(NC2C=C(c3ccc(F)c(NC(=O)c4cc5c(s4)CCCC5)c3F)N=NC2=O)nn1C from the ensemble\n"
     ]
    },
    {
     "name": "stderr",
     "output_type": "stream",
     "text": [
      " 48%|██████████████████▏                   | 8177/17028 [02:37<03:08, 46.83it/s]"
     ]
    },
    {
     "name": "stdout",
     "output_type": "stream",
     "text": [
      "Error with data/conf_ensembles/8168.sdf\n",
      "Molecule CCOC(=O)C1=C(O)N(O)c2ncccc2[C@@H]1O from input conformation is different \n",
      "        to molecule CCOC(=O)C1=C(O)N(O)c2ncccc2C1O from the ensemble\n"
     ]
    },
    {
     "name": "stderr",
     "output_type": "stream",
     "text": [
      " 48%|██████████████████▎                   | 8198/17028 [02:38<03:15, 45.06it/s]"
     ]
    },
    {
     "name": "stdout",
     "output_type": "stream",
     "text": [
      "Error with data/conf_ensembles/8187.sdf\n",
      "Molecule CC(=O)Nc1cccc(C2=C[C@@H](C)N(O)c3ccccc32)c1 from input conformation is different \n",
      "        to molecule CC(=O)Nc1cccc(C2=CC(C)N(O)c3ccccc32)c1 from the ensemble\n"
     ]
    },
    {
     "name": "stderr",
     "output_type": "stream",
     "text": [
      " 49%|██████████████████▍                   | 8267/17028 [02:39<03:02, 48.07it/s]"
     ]
    },
    {
     "name": "stdout",
     "output_type": "stream",
     "text": [
      "Error with data/conf_ensembles/8261.sdf\n",
      "Molecule CC(=O)[C@H]1N=[N+]2c3cc(F)ccc3OC[C@H]2[C@@]1(CCC[NH+]1CCN(C(C)=O)CC1)c1ccccc1 from input conformation is different \n",
      "        to molecule CC(=O)C1N=[N+]2c3cc(F)ccc3OC[C@H]2[C@@]1(CCC[NH+]1CCN(C(C)=O)CC1)c1ccccc1 from the ensemble\n"
     ]
    },
    {
     "name": "stderr",
     "output_type": "stream",
     "text": [
      " 49%|██████████████████▍                   | 8286/17028 [02:40<03:05, 47.06it/s]"
     ]
    },
    {
     "name": "stdout",
     "output_type": "stream",
     "text": [
      "Error with data/conf_ensembles/8278.sdf\n",
      "Molecule C=C1CC[C@H](O)C[C@H]1CC[C@@H]1CCC[C@@]2(C)[C@H]1CC[C@@H]2[C@H](C)CCCC(C)C from input conformation is different \n",
      "        to molecule C=C1CC[C@H](O)CC1CC[C@@H]1CCC[C@@]2(C)[C@H]1CC[C@@H]2[C@H](C)CCCC(C)C from the ensemble\n"
     ]
    },
    {
     "name": "stderr",
     "output_type": "stream",
     "text": [
      " 50%|██████████████████▉                   | 8469/17028 [02:43<02:36, 54.83it/s]"
     ]
    },
    {
     "name": "stdout",
     "output_type": "stream",
     "text": [
      "Error with data/conf_ensembles/8456.sdf\n",
      "Molecule CC[C@H](C)CN(C[C@@H](O)[C@H](Cc1ccccc1)NC(=O)O[C@H]1CO[C@H]2OCC[C@@H]12)S(=O)(=O)[C@H]1CC[C@@H]([C@H](C)O)CC1 from input conformation is different \n",
      "        to molecule CC[C@H](C)CN(C[C@@H](O)[C@H](Cc1ccccc1)NC(=O)O[C@H]1CO[C@H]2OCC[C@@H]12)S(=O)(=O)C1CCC([C@H](C)O)CC1 from the ensemble\n"
     ]
    },
    {
     "name": "stderr",
     "output_type": "stream",
     "text": [
      " 51%|███████████████████▏                  | 8619/17028 [02:46<02:30, 56.01it/s]"
     ]
    },
    {
     "name": "stdout",
     "output_type": "stream",
     "text": [
      "Error with data/conf_ensembles/8607.sdf\n",
      "All molecules in the input list should be the same\n",
      "Error with data/conf_ensembles/8616.sdf\n",
      "Molecule C[C@@H]1C[C@H](C)[C@@H](O)CC(=O)O[C@H]([C@@H]2CC[C@H]2C(=O)[O-])C/C=C/C=C(/C#N)[C@H](O)[C@@H](C)C[C@H](C)C1 from input conformation is different \n",
      "        to molecule C[C@@H]1C[C@H](C)[C@@H](O)CC(=O)O[C@H]([C@@H]2CC[C@H]2C(=O)[O-])C/C=C/C=C(\\C#N)[C@H](O)[C@@H](C)C[C@H](C)C1 from the ensemble\n"
     ]
    },
    {
     "name": "stderr",
     "output_type": "stream",
     "text": [
      " 51%|███████████████████▎                  | 8678/17028 [02:47<02:55, 47.53it/s]"
     ]
    },
    {
     "name": "stdout",
     "output_type": "stream",
     "text": [
      "Error with data/conf_ensembles/8671.sdf\n",
      "Molecule CCNC(=O)C#Cc1ccc2c(c1)NC(=O)[C@@H]2/C(=N/c1ccc(C[NH+](C)C)cc1)c1ccccc1 from input conformation is different \n",
      "        to molecule CCNC(=O)C#Cc1ccc2c(c1)NC(=O)C2/C(=N/c1ccc(C[NH+](C)C)cc1)c1ccccc1 from the ensemble\n"
     ]
    },
    {
     "name": "stderr",
     "output_type": "stream",
     "text": [
      " 51%|███████████████████▍                  | 8718/17028 [02:48<02:26, 56.72it/s]"
     ]
    },
    {
     "name": "stdout",
     "output_type": "stream",
     "text": [
      "Error with data/conf_ensembles/8704.sdf\n",
      "All molecules in the input list should be the same\n"
     ]
    },
    {
     "name": "stderr",
     "output_type": "stream",
     "text": [
      " 52%|███████████████████▌                  | 8784/17028 [02:49<02:55, 47.08it/s]"
     ]
    },
    {
     "name": "stdout",
     "output_type": "stream",
     "text": [
      "Error with data/conf_ensembles/8779.sdf\n",
      "Molecule O=C([C@@H]1CC[C@H]2C(Cl)=N[C@H](OCc3ccc(F)cc3)C(=O)N12)N1CCCC1 from input conformation is different \n",
      "        to molecule O=C([C@@H]1CCC2C(Cl)=NC(OCc3ccc(F)cc3)C(=O)N21)N1CCCC1 from the ensemble\n"
     ]
    },
    {
     "name": "stderr",
     "output_type": "stream",
     "text": [
      " 52%|███████████████████▊                  | 8885/17028 [02:51<02:04, 65.58it/s]"
     ]
    },
    {
     "name": "stdout",
     "output_type": "stream",
     "text": [
      "Error with data/conf_ensembles/8870.sdf\n",
      "Molecule CNC(=O)[C@@H](NC(=O)c1ccc(-c2ccc(CSC3=NC(=O)[C@H]4CCCC4=N3)cc2)o1)C(C)C from input conformation is different \n",
      "        to molecule CNC(=O)[C@@H](NC(=O)c1ccc(-c2ccc(CSC3=NC(=O)C4CCCC4=N3)cc2)o1)C(C)C from the ensemble\n",
      "Error with data/conf_ensembles/8884.sdf\n",
      "Molecule CCN1C(NC(C)C)=[NH+]c2c(-c3cccnc3)csc2[C@@H]1O from input conformation is different \n",
      "        to molecule CCN1C(NC(C)C)=[NH+]c2c(-c3cccnc3)csc2C1O from the ensemble\n"
     ]
    },
    {
     "name": "stderr",
     "output_type": "stream",
     "text": [
      " 52%|███████████████████▉                  | 8911/17028 [02:52<02:31, 53.56it/s]"
     ]
    },
    {
     "name": "stdout",
     "output_type": "stream",
     "text": [
      "Error with data/conf_ensembles/8906.sdf\n",
      "Molecule O=C1N=CN2NC(Sc3ccc(F)cc3F)=CC=C2[C@H]1c1c(Cl)cccc1Cl from input conformation is different \n",
      "        to molecule O=C1N=CN2NC(Sc3ccc(F)cc3F)=CC=C2C1c1c(Cl)cccc1Cl from the ensemble\n",
      "Error with data/conf_ensembles/8909.sdf\n",
      "All molecules in the input list should be the same\n"
     ]
    },
    {
     "name": "stderr",
     "output_type": "stream",
     "text": [
      " 53%|███████████████████▉                  | 8942/17028 [02:52<02:49, 47.64it/s]"
     ]
    },
    {
     "name": "stdout",
     "output_type": "stream",
     "text": [
      "Error with data/conf_ensembles/8933.sdf\n",
      "All molecules in the input list should be the same\n"
     ]
    },
    {
     "name": "stderr",
     "output_type": "stream",
     "text": [
      " 53%|████████████████████                  | 8972/17028 [02:53<02:04, 64.71it/s]"
     ]
    },
    {
     "name": "stdout",
     "output_type": "stream",
     "text": [
      "Error with data/conf_ensembles/8965.sdf\n",
      "All molecules in the input list should be the same\n"
     ]
    },
    {
     "name": "stderr",
     "output_type": "stream",
     "text": [
      " 53%|████████████████████▏                 | 9047/17028 [02:54<02:14, 59.53it/s]"
     ]
    },
    {
     "name": "stdout",
     "output_type": "stream",
     "text": [
      "Error with data/conf_ensembles/9037.sdf\n",
      "Molecule O=N[C@@H]1CCc2cc(-c3nc(C4CC[NH2+]CC4)[nH]c3-c3ccncc3)ccc21 from input conformation is different \n",
      "        to molecule O=NC1CCc2cc(-c3nc(C4CC[NH2+]CC4)[nH]c3-c3ccncc3)ccc21 from the ensemble\n"
     ]
    },
    {
     "name": "stderr",
     "output_type": "stream",
     "text": [
      " 55%|████████████████████▋                 | 9298/17028 [02:59<03:00, 42.77it/s]"
     ]
    },
    {
     "name": "stdout",
     "output_type": "stream",
     "text": [
      "Error with data/conf_ensembles/9291.sdf\n",
      "Molecule CS(=O)(=O)NC(=O)c1c([C@@H]2C=CC=NC2=O)c2c3occc3ccc2n1Cc1cc(F)ccc1F from input conformation is different \n",
      "        to molecule CS(=O)(=O)NC(=O)c1c(C2C=CC=NC2=O)c2c3occc3ccc2n1Cc1cc(F)ccc1F from the ensemble\n"
     ]
    },
    {
     "name": "stderr",
     "output_type": "stream",
     "text": [
      " 57%|█████████████████████▋                | 9714/17028 [03:08<02:04, 58.75it/s]"
     ]
    },
    {
     "name": "stdout",
     "output_type": "stream",
     "text": [
      "Error with data/conf_ensembles/9703.sdf\n",
      "Molecule COc1ccc(Br)cc1C[C@@H]1SC(=O)N(Cc2ccc(C)cc2)C1=O from input conformation is different \n",
      "        to molecule COc1ccc(Br)cc1CC1SC(=O)N(Cc2ccc(C)cc2)C1=O from the ensemble\n"
     ]
    },
    {
     "name": "stderr",
     "output_type": "stream",
     "text": [
      " 57%|█████████████████████▊                | 9776/17028 [03:09<02:42, 44.70it/s]"
     ]
    },
    {
     "name": "stdout",
     "output_type": "stream",
     "text": [
      "Error with data/conf_ensembles/9770.sdf\n",
      "Molecule CC(=O)N[C@@H]1[C@@H](O)[C@@H](F)[C@@H](C(=O)[O-])O[C@H]1[C@H](O)[C@H](O)CO from input conformation is different \n",
      "        to molecule CC(=O)N[C@@H]1[C@@H](O)[C@@H](F)C(C(=O)[O-])O[C@H]1[C@H](O)[C@H](O)CO from the ensemble\n"
     ]
    },
    {
     "name": "stderr",
     "output_type": "stream",
     "text": [
      " 58%|██████████████████████                | 9905/17028 [03:11<02:13, 53.30it/s]"
     ]
    },
    {
     "name": "stdout",
     "output_type": "stream",
     "text": [
      "Error with data/conf_ensembles/9899.sdf\n",
      "Molecule C[N@H+]1CC[C@H](c2c(O)cc(O)c3c(=O)cc(-c4ccccc4Cl)oc23)[C@H](O)C1 from input conformation is different \n",
      "        to molecule C[NH+]1CC[C@H](c2c(O)cc(O)c3c(=O)cc(-c4ccccc4Cl)oc23)[C@H](O)C1 from the ensemble\n"
     ]
    },
    {
     "name": "stderr",
     "output_type": "stream",
     "text": [
      " 59%|██████████████████████▎               | 9980/17028 [03:13<02:14, 52.37it/s]"
     ]
    },
    {
     "name": "stdout",
     "output_type": "stream",
     "text": [
      "Error with data/conf_ensembles/9974.sdf\n",
      "Molecule O/N=C1\\CCc2cc(C3=C(c4ccncc4)N[N@@H+](C4CC[NH2+]CC4)C3)ccc21 from input conformation is different \n",
      "        to molecule O/N=C1\\CCc2cc(C3=C(c4ccncc4)N[NH+](C4CC[NH2+]CC4)C3)ccc21 from the ensemble\n"
     ]
    },
    {
     "name": "stderr",
     "output_type": "stream",
     "text": [
      " 59%|█████████████████████▉               | 10070/17028 [03:15<02:16, 51.06it/s]"
     ]
    },
    {
     "name": "stdout",
     "output_type": "stream",
     "text": [
      "Error with data/conf_ensembles/10059.sdf\n",
      "Molecule CC(C)CC[N@@H+]1CC(=O)N[NH2+]1 from input conformation is different \n",
      "        to molecule CC(C)CC[NH+]1CC(=O)N[NH2+]1 from the ensemble\n"
     ]
    },
    {
     "name": "stderr",
     "output_type": "stream",
     "text": [
      " 59%|█████████████████████▉               | 10103/17028 [03:15<02:07, 54.29it/s]"
     ]
    },
    {
     "name": "stdout",
     "output_type": "stream",
     "text": [
      "Error with data/conf_ensembles/10097.sdf\n",
      "Molecule CC(C)C1=CC2=C([C@@H](O)C1=O)[C@@]1(C)CCCC(C)(C)[C@@H]1C(=O)C2 from input conformation is different \n",
      "        to molecule CC(C)C1=CC2=C(C(O)C1=O)[C@@]1(C)CCCC(C)(C)[C@@H]1C(=O)C2 from the ensemble\n"
     ]
    },
    {
     "name": "stderr",
     "output_type": "stream",
     "text": [
      " 60%|██████████████████████▏              | 10217/17028 [03:18<02:37, 43.34it/s]"
     ]
    },
    {
     "name": "stdout",
     "output_type": "stream",
     "text": [
      "Error with data/conf_ensembles/10210.sdf\n",
      "Molecule O=S1(=O)N[C@@H](O)c2ccccc21 from input conformation is different \n",
      "        to molecule O=S1(=O)NC(O)c2ccccc21 from the ensemble\n"
     ]
    },
    {
     "name": "stderr",
     "output_type": "stream",
     "text": [
      " 61%|██████████████████████▍              | 10305/17028 [03:20<02:12, 50.89it/s]"
     ]
    },
    {
     "name": "stdout",
     "output_type": "stream",
     "text": [
      "Error with data/conf_ensembles/10297.sdf\n",
      "Molecule CC1(C)c2cnc(Nc3cccc(C[NH+]4CCCC4)c3)nc2N([C@H]2CCc3c(O)cccc32)[C@H]1O from input conformation is different \n",
      "        to molecule CC1(C)c2cnc(Nc3cccc(C[NH+]4CCCC4)c3)nc2N([C@H]2CCc3c(O)cccc32)C1O from the ensemble\n"
     ]
    },
    {
     "name": "stderr",
     "output_type": "stream",
     "text": [
      " 61%|██████████████████████▋              | 10459/17028 [03:23<02:00, 54.46it/s]"
     ]
    },
    {
     "name": "stdout",
     "output_type": "stream",
     "text": [
      "Error with data/conf_ensembles/10448.sdf\n",
      "Molecule CO[C@@H]1Cc2nc(-c3cc(F)ccc3O)nc(N[C@@H]3C[NH2+]C[C@H]3C(C)(C)O)c2C[C@H]1OC from input conformation is different \n",
      "        to molecule COC1Cc2nc(-c3cc(F)ccc3O)nc(N[C@@H]3C[NH2+]C[C@H]3C(C)(C)O)c2CC1OC from the ensemble\n"
     ]
    },
    {
     "name": "stderr",
     "output_type": "stream",
     "text": [
      " 61%|██████████████████████▊              | 10471/17028 [03:23<02:26, 44.81it/s]"
     ]
    },
    {
     "name": "stdout",
     "output_type": "stream",
     "text": [
      "Error with data/conf_ensembles/10467.sdf\n",
      "Molecule C[C@@H]1COc2c1ccc1c2c([C@@H]2C=CC=NC2=O)c(C(=O)NS(C)(=O)=O)n1Cc1cc(F)ccc1F from input conformation is different \n",
      "        to molecule C[C@@H]1COc2c1ccc1c2c(C2C=CC=NC2=O)c(C(=O)NS(C)(=O)=O)n1Cc1cc(F)ccc1F from the ensemble\n"
     ]
    },
    {
     "name": "stderr",
     "output_type": "stream",
     "text": [
      " 63%|███████████████████████▏             | 10671/17028 [03:27<02:07, 50.02it/s]"
     ]
    },
    {
     "name": "stdout",
     "output_type": "stream",
     "text": [
      "Error with data/conf_ensembles/10663.sdf\n",
      "Molecule CN1C(=O)N(C)[C@@H](O)c2c1nc(N1CC[NH2+]CC1)n2Cc1nnc(-c2ccc(Cl)c(Cl)c2)o1 from input conformation is different \n",
      "        to molecule CN1C(=O)N(C)C(O)c2c1nc(N1CC[NH2+]CC1)n2Cc1nnc(-c2ccc(Cl)c(Cl)c2)o1 from the ensemble\n"
     ]
    },
    {
     "name": "stderr",
     "output_type": "stream",
     "text": [
      " 63%|███████████████████████▎             | 10701/17028 [03:27<01:43, 61.13it/s]"
     ]
    },
    {
     "name": "stdout",
     "output_type": "stream",
     "text": [
      "Error with data/conf_ensembles/10693.sdf\n",
      "Molecule N=C1NC(=[NH2+])NC(=O)[C@@H]1N=O from input conformation is different \n",
      "        to molecule N=C1NC(=[NH2+])NC(=O)C1N=O from the ensemble\n"
     ]
    },
    {
     "name": "stderr",
     "output_type": "stream",
     "text": [
      " 63%|███████████████████████▍             | 10769/17028 [03:28<01:54, 54.50it/s]"
     ]
    },
    {
     "name": "stdout",
     "output_type": "stream",
     "text": [
      "Error with data/conf_ensembles/10760.sdf\n",
      "Molecule [NH3+][C@@H](CC(=O)N1CCCNC(=O)[C@H]1CC(F)(F)F)Cc1cc(F)c(F)cc1F from input conformation is different \n",
      "        to molecule [NH3+][C@@H](CC(=O)N1CCCNC(=O)C1CC(F)(F)F)Cc1cc(F)c(F)cc1F from the ensemble\n"
     ]
    },
    {
     "name": "stderr",
     "output_type": "stream",
     "text": [
      " 64%|███████████████████████▌             | 10822/17028 [03:29<01:52, 55.36it/s]"
     ]
    },
    {
     "name": "stdout",
     "output_type": "stream",
     "text": [
      "Error with data/conf_ensembles/10814.sdf\n",
      "Molecule CCc1cc2c(c(CC)n1)CC[C@H](O)N2Cc1ccc(-c2ccccc2-c2nn[nH]n2)cc1 from input conformation is different \n",
      "        to molecule CCc1cc2c(c(CC)n1)CCC(O)N2Cc1ccc(-c2ccccc2-c2nn[nH]n2)cc1 from the ensemble\n"
     ]
    },
    {
     "name": "stderr",
     "output_type": "stream",
     "text": [
      " 65%|███████████████████████▉             | 11021/17028 [03:34<02:17, 43.55it/s]"
     ]
    },
    {
     "name": "stdout",
     "output_type": "stream",
     "text": [
      "Error with data/conf_ensembles/11015.sdf\n",
      "Molecule Nc1ccc2c(c1)[C@H](c1ccccc1)N(CCCCCCc1cn(CCNc3c4ccccc4nc4ccccc34)nn1)c1cc(N)ccc1-2 from input conformation is different \n",
      "        to molecule Nc1ccc2c(c1)C(c1ccccc1)N(CCCCCCc1cn(CCNc3c4ccccc4nc4ccccc34)nn1)c1cc(N)ccc1-2 from the ensemble\n"
     ]
    },
    {
     "name": "stderr",
     "output_type": "stream",
     "text": [
      " 66%|████████████████████████▍            | 11234/17028 [03:38<01:50, 52.54it/s]"
     ]
    },
    {
     "name": "stdout",
     "output_type": "stream",
     "text": [
      "Error with data/conf_ensembles/11226.sdf\n",
      "Molecule CN1N=C/C(=N\\[C@@H]2C[C@H](c3ccccc3)C[N@H+](C)C2)[C@@H](Br)C1=O from input conformation is different \n",
      "        to molecule CN1N=C/C(=N\\[C@@H]2C[C@H](c3ccccc3)C[N@H+](C)C2)C(Br)C1=O from the ensemble\n"
     ]
    },
    {
     "name": "stderr",
     "output_type": "stream",
     "text": [
      " 68%|█████████████████████████            | 11516/17028 [03:44<02:06, 43.47it/s]"
     ]
    },
    {
     "name": "stdout",
     "output_type": "stream",
     "text": [
      "Error with data/conf_ensembles/11509.sdf\n",
      "Molecule CN1C(=O)[C@@H](F)C(Nc2ccc(I)cc2F)=C2C(=O)N(C[C@@H](O)CO)CN=C21 from input conformation is different \n",
      "        to molecule CN1C(=O)C(F)C(Nc2ccc(I)cc2F)=C2C(=O)N(C[C@@H](O)CO)CN=C21 from the ensemble\n"
     ]
    },
    {
     "name": "stderr",
     "output_type": "stream",
     "text": [
      " 68%|█████████████████████████▏           | 11564/17028 [03:45<01:41, 53.74it/s]"
     ]
    },
    {
     "name": "stdout",
     "output_type": "stream",
     "text": [
      "Error with data/conf_ensembles/11559.sdf\n",
      "Molecule [NH3+][C@@H](C[N@H+]1CC[C@H](O)[N@@H+](C[C@H]2CC[C@@H](C(=O)[O-])CC2)[C@@H]1O)C(O)O from input conformation is different \n",
      "        to molecule [NH3+][C@@H](C[NH+]1CCC(O)[NH+](CC2CCC(C(=O)[O-])CC2)C1O)C(O)O from the ensemble\n"
     ]
    },
    {
     "name": "stderr",
     "output_type": "stream",
     "text": [
      " 68%|█████████████████████████▎           | 11652/17028 [03:47<01:47, 50.21it/s]"
     ]
    },
    {
     "name": "stdout",
     "output_type": "stream",
     "text": [
      "Error with data/conf_ensembles/11648.sdf\n",
      "All molecules in the input list should be the same\n"
     ]
    },
    {
     "name": "stderr",
     "output_type": "stream",
     "text": [
      " 69%|█████████████████████████▍           | 11708/17028 [03:48<01:36, 54.89it/s]"
     ]
    },
    {
     "name": "stdout",
     "output_type": "stream",
     "text": [
      "Error with data/conf_ensembles/11695.sdf\n",
      "Molecule O=C1NC(N2CCOCC2)=[N+]=C(N[C@@H]2CCC[NH2+]C2)[C@H]1c1nc2ccccc2s1 from input conformation is different \n",
      "        to molecule O=C1NC(N2CCOCC2)=[N+]=C(N[C@@H]2CCC[NH2+]C2)C1c1nc2ccccc2s1 from the ensemble\n"
     ]
    },
    {
     "name": "stderr",
     "output_type": "stream",
     "text": [
      " 69%|█████████████████████████▍           | 11727/17028 [03:48<01:47, 49.29it/s]"
     ]
    },
    {
     "name": "stdout",
     "output_type": "stream",
     "text": [
      "Error with data/conf_ensembles/11719.sdf\n",
      "Molecule C[N@@H+]1[C@@H](CNc2ccc(C(=O)N[C@@H](CCC(=O)N[C@@H](CCC(=O)[O-])C(=O)[O-])C(=O)[O-])cc2)CNC2=NC(=[NH2+])N[C@@H](O)[C@H]21 from input conformation is different \n",
      "        to molecule C[NH+]1C2C(=NC(=[NH2+])NC2O)NC[C@@H]1CNc1ccc(C(=O)N[C@@H](CCC(=O)N[C@@H](CCC(=O)[O-])C(=O)[O-])C(=O)[O-])cc1 from the ensemble\n",
      "Error with data/conf_ensembles/11726.sdf\n",
      "Molecule CCC1=Nc2ccc(N(Cc3ccccc3)C(=O)c3cccs3)cc2[C@@H](O)N1Cc1ccc(-c2ccccc2-c2nn[nH]n2)cc1 from input conformation is different \n",
      "        to molecule CCC1=Nc2ccc(N(Cc3ccccc3)C(=O)c3cccs3)cc2C(O)N1Cc1ccc(-c2ccccc2-c2nn[nH]n2)cc1 from the ensemble\n"
     ]
    },
    {
     "name": "stderr",
     "output_type": "stream",
     "text": [
      " 69%|█████████████████████████▌           | 11776/17028 [03:49<01:43, 50.85it/s]"
     ]
    },
    {
     "name": "stdout",
     "output_type": "stream",
     "text": [
      "Error with data/conf_ensembles/11765.sdf\n",
      "All molecules in the input list should be the same\n"
     ]
    },
    {
     "name": "stderr",
     "output_type": "stream",
     "text": [
      " 69%|█████████████████████████▋           | 11819/17028 [03:50<02:10, 39.80it/s]"
     ]
    },
    {
     "name": "stdout",
     "output_type": "stream",
     "text": [
      "Error with data/conf_ensembles/11812.sdf\n",
      "Molecule CC[C@@]1(C)OC2=C[C@@H](C=CC2=O)[C@@H](O)[C@H]([NH2+]C)C(=O)N[C@@H](C(C)C)C(=O)N[C@@H]1C(=O)NCC(=O)[O-] from input conformation is different \n",
      "        to molecule CC[C@@]1(C)OC2=CC(C=CC2=O)[C@@H](O)[C@H]([NH2+]C)C(=O)N[C@@H](C(C)C)C(=O)N[C@@H]1C(=O)NCC(=O)[O-] from the ensemble\n",
      "Error with data/conf_ensembles/11815.sdf\n",
      "Molecule COc1cc2c(cc1OC)[C@H](O)[C@H](CC1CC[NH+](Cc3ccccc3)CC1)C2 from input conformation is different \n",
      "        to molecule COc1cc2c(cc1OC)C(O)[C@H](CC1CC[NH+](Cc3ccccc3)CC1)C2 from the ensemble\n"
     ]
    },
    {
     "name": "stderr",
     "output_type": "stream",
     "text": [
      " 70%|█████████████████████████▋           | 11839/17028 [03:51<01:44, 49.61it/s]"
     ]
    },
    {
     "name": "stdout",
     "output_type": "stream",
     "text": [
      "Error with data/conf_ensembles/11833.sdf\n",
      "Molecule C[C@H]1C(=O)OC2=COCC=C21 from input conformation is different \n",
      "        to molecule CC1C(=O)OC2=COCC=C21 from the ensemble\n"
     ]
    },
    {
     "name": "stderr",
     "output_type": "stream",
     "text": [
      " 70%|█████████████████████████▊           | 11864/17028 [03:51<01:46, 48.53it/s]"
     ]
    },
    {
     "name": "stdout",
     "output_type": "stream",
     "text": [
      "Error with data/conf_ensembles/11855.sdf\n",
      "All molecules in the input list should be the same\n"
     ]
    },
    {
     "name": "stderr",
     "output_type": "stream",
     "text": [
      " 70%|█████████████████████████▊           | 11876/17028 [03:51<01:44, 49.09it/s]"
     ]
    },
    {
     "name": "stdout",
     "output_type": "stream",
     "text": [
      "Error with data/conf_ensembles/11865.sdf\n",
      "Molecule Cc1c(C2=C[C@H](Nc3cc4n(n3)CC[N@@H+](C)C4)C(=O)NN2)ccc(F)c1NC(=O)c1cc2ccccc2s1 from input conformation is different \n",
      "        to molecule Cc1c(C2=CC(Nc3cc4n(n3)CC[N@@H+](C)C4)C(=O)NN2)ccc(F)c1NC(=O)c1cc2ccccc2s1 from the ensemble\n"
     ]
    },
    {
     "name": "stderr",
     "output_type": "stream",
     "text": [
      " 70%|█████████████████████████▊           | 11891/17028 [03:52<01:35, 53.60it/s]"
     ]
    },
    {
     "name": "stdout",
     "output_type": "stream",
     "text": [
      "Error with data/conf_ensembles/11878.sdf\n",
      "Molecule COC[C@@H]1O[C@H](O[C@@H]2C3=C(C(C)C)CC[C@]3(C)/C=C3\\[C@@H](CC[C@]3(O)COC)[C@@H](C)[C@H]2O)[C@H](O)[C@H]2O[C@H]3O[C@@]12O[C@@]3(C)CCOC=O from input conformation is different \n",
      "        to molecule COC[C@@H]1O[C@H](O[C@@H]2C3=C(C(C)C)CC[C@]3(C)/C=C3\\[C@@H](CC[C@]3(O)COC)[C@@H](C)[C@H]2O)[C@H](O)[C@H]2O[C@H]3O[C@@]12O[C@]3(C)CCOC=O from the ensemble\n",
      "Error with data/conf_ensembles/11882.sdf\n",
      "All molecules in the input list should be the same\n"
     ]
    },
    {
     "name": "stderr",
     "output_type": "stream",
     "text": [
      " 71%|██████████████████████████▎          | 12104/17028 [03:56<01:15, 65.64it/s]"
     ]
    },
    {
     "name": "stdout",
     "output_type": "stream",
     "text": [
      "Error with data/conf_ensembles/12086.sdf\n",
      "Molecule COc1cccc(N2C(C[NH+]3CCOCC3)Cc3cc(S(N)(=O)=O)sc3S2(=O)=O)c1 from input conformation is different \n",
      "        to molecule COc1cccc(N2[C@H](C[NH+]3CCOCC3)Cc3cc(S(N)(=O)=O)sc3S2(=O)=O)c1 from the ensemble\n",
      "Error with data/conf_ensembles/12098.sdf\n",
      "Molecule C[C@@H](C(=O)[O-])C1=NN(C)C2=NC(=[NH2+])NC(=O)[C@H]2C1=O from input conformation is different \n",
      "        to molecule C[C@@H](C(=O)[O-])C1=NN(C)C2=NC(=[NH2+])NC(=O)C2C1=O from the ensemble\n"
     ]
    },
    {
     "name": "stderr",
     "output_type": "stream",
     "text": [
      " 73%|██████████████████████████▊          | 12346/17028 [04:01<01:36, 48.63it/s]"
     ]
    },
    {
     "name": "stdout",
     "output_type": "stream",
     "text": [
      "Error with data/conf_ensembles/12339.sdf\n",
      "Molecule C/N=C(\\C)[C@H]1C(=O)Nc2ccc(S(=O)(=O)N(CC(C)C)C[C@@H](O)[C@H](Cc3ccccc3)NC(=O)O[C@H]3CO[C@H]4OCC[C@@H]34)cc21 from input conformation is different \n",
      "        to molecule C/N=C(\\C)C1C(=O)Nc2ccc(S(=O)(=O)N(CC(C)C)C[C@@H](O)[C@H](Cc3ccccc3)NC(=O)O[C@H]3CO[C@H]4OCC[C@@H]34)cc21 from the ensemble\n"
     ]
    },
    {
     "name": "stderr",
     "output_type": "stream",
     "text": [
      " 73%|██████████████████████████▉          | 12377/17028 [04:02<01:35, 48.93it/s]"
     ]
    },
    {
     "name": "stdout",
     "output_type": "stream",
     "text": [
      "Error with data/conf_ensembles/12371.sdf\n",
      "Molecule CC(c1ccc[nH]1)[C@@H]1C(=O)Nc2ccc(NC(N)=O)cc21 from input conformation is different \n",
      "        to molecule CC(c1ccc[nH]1)C1C(=O)Nc2ccc(NC(N)=O)cc21 from the ensemble\n"
     ]
    },
    {
     "name": "stderr",
     "output_type": "stream",
     "text": [
      " 73%|███████████████████████████          | 12460/17028 [04:04<01:33, 48.99it/s]"
     ]
    },
    {
     "name": "stdout",
     "output_type": "stream",
     "text": [
      "Error with data/conf_ensembles/12452.sdf\n",
      "Molecule Cc1ccc(C(=O)N(CCC[NH3+])[C@@H](C2=C(Cc3ccccc3)[C@H](O)c3ccc(Cl)cc3O2)C(C)C)cc1 from input conformation is different \n",
      "        to molecule Cc1ccc(C(=O)N(CCC[NH3+])[C@@H](C2=C(Cc3ccccc3)C(O)c3ccc(Cl)cc3O2)C(C)C)cc1 from the ensemble\n"
     ]
    },
    {
     "name": "stderr",
     "output_type": "stream",
     "text": [
      " 75%|███████████████████████████▌         | 12690/17028 [04:08<01:20, 54.07it/s]"
     ]
    },
    {
     "name": "stdout",
     "output_type": "stream",
     "text": [
      "Error with data/conf_ensembles/12684.sdf\n",
      "Molecule [NH3+][C@H]1[NH2+][C@@H](O)NC(=O)[C@@H]1Br from input conformation is different \n",
      "        to molecule [NH3+]C1[NH2+]C(O)NC(=O)C1Br from the ensemble\n"
     ]
    },
    {
     "name": "stderr",
     "output_type": "stream",
     "text": [
      " 75%|███████████████████████████▊         | 12773/17028 [04:10<01:40, 42.16it/s]"
     ]
    },
    {
     "name": "stdout",
     "output_type": "stream",
     "text": [
      "Error with data/conf_ensembles/12766.sdf\n",
      "Molecule C[C@H]1C=C(O/C=C2/C(=O)O[C@@H]3c4ccccc4C[C@H]23)OC1=O from input conformation is different \n",
      "        to molecule CC1C=C(O/C=C2/C(=O)O[C@@H]3c4ccccc4C[C@H]23)OC1=O from the ensemble\n"
     ]
    },
    {
     "name": "stderr",
     "output_type": "stream",
     "text": [
      " 76%|████████████████████████████         | 12909/17028 [04:12<01:23, 49.16it/s]"
     ]
    },
    {
     "name": "stdout",
     "output_type": "stream",
     "text": [
      "Error with data/conf_ensembles/12903.sdf\n",
      "Molecule NC(=O)c1ccc(-c2cc([C]3SCC4OCCO[C@@H]34)cnc2N)cc1 from input conformation is different \n",
      "        to molecule NC(=O)c1ccc(-c2cc([C]3SCC4OCCOC34)cnc2N)cc1 from the ensemble\n"
     ]
    },
    {
     "name": "stderr",
     "output_type": "stream",
     "text": [
      " 77%|████████████████████████████▍        | 13074/17028 [04:16<01:24, 46.52it/s]"
     ]
    },
    {
     "name": "stdout",
     "output_type": "stream",
     "text": [
      "Error with data/conf_ensembles/13067.sdf\n",
      "Molecule Cc1ccc(O)c(Cn2c(NC3CC[NH+](CC[NH3+])CC3)nc3c2CC=C[C@@H]3C)n1 from input conformation is different \n",
      "        to molecule Cc1ccc(O)c(Cn2c(NC3CC[NH+](CC[NH3+])CC3)nc3c2CC=CC3C)n1 from the ensemble\n"
     ]
    },
    {
     "name": "stderr",
     "output_type": "stream",
     "text": [
      " 78%|████████████████████████████▋        | 13230/17028 [04:19<01:31, 41.63it/s]"
     ]
    },
    {
     "name": "stdout",
     "output_type": "stream",
     "text": [
      "Error with data/conf_ensembles/13222.sdf\n",
      "Molecule CN1C2=C(NC[C@@H]1CNc1ccc(C(=O)N[C@@H](CCC(=O)N[C@@H](CCC(=O)[O-])C(=O)[O-])C(=O)[O-])cc1)NC(=[NH2+])N[C@H]2O from input conformation is different \n",
      "        to molecule CN1C2=C(NC[C@@H]1CNc1ccc(C(=O)N[C@@H](CCC(=O)N[C@@H](CCC(=O)[O-])C(=O)[O-])C(=O)[O-])cc1)NC(=[NH2+])NC2O from the ensemble\n"
     ]
    },
    {
     "name": "stderr",
     "output_type": "stream",
     "text": [
      " 78%|████████████████████████████▉        | 13309/17028 [04:21<01:25, 43.71it/s]"
     ]
    },
    {
     "name": "stdout",
     "output_type": "stream",
     "text": [
      "Error with data/conf_ensembles/13304.sdf\n",
      "All molecules in the input list should be the same\n"
     ]
    },
    {
     "name": "stderr",
     "output_type": "stream",
     "text": [
      " 80%|█████████████████████████████▌       | 13628/17028 [04:27<01:04, 53.02it/s]"
     ]
    },
    {
     "name": "stdout",
     "output_type": "stream",
     "text": [
      "Error with data/conf_ensembles/13621.sdf\n",
      "Molecule C[C@]12CC[C@H]3[C@@H](CCC4=C[C@H](O)CC[C@@]43C)[C@@H]1CC[C@@H]2O from input conformation is different \n",
      "        to molecule C[C@]12CC[C@H]3[C@@H](CCC4=CC(O)CC[C@@]43C)[C@@H]1CC[C@@H]2O from the ensemble\n"
     ]
    },
    {
     "name": "stderr",
     "output_type": "stream",
     "text": [
      " 80%|█████████████████████████████▊       | 13702/17028 [04:29<01:03, 52.23it/s]"
     ]
    },
    {
     "name": "stdout",
     "output_type": "stream",
     "text": [
      "Error with data/conf_ensembles/13692.sdf\n",
      "Molecule CC(C)(C)c1cc(C(C)(C)C)c(NC(=O)[C@@H]2C=Nc3ccccc3C2=O)cc1O from input conformation is different \n",
      "        to molecule CC(C)(C)c1cc(C(C)(C)C)c(NC(=O)C2C=Nc3ccccc3C2=O)cc1O from the ensemble\n"
     ]
    },
    {
     "name": "stderr",
     "output_type": "stream",
     "text": [
      " 83%|██████████████████████████████▋      | 14100/17028 [04:36<00:53, 54.95it/s]"
     ]
    },
    {
     "name": "stdout",
     "output_type": "stream",
     "text": [
      "Error with data/conf_ensembles/14087.sdf\n",
      "All molecules in the input list should be the same\n",
      "Error with data/conf_ensembles/14094.sdf\n",
      "Molecule COc1ccc2ccc(C(N)=[NH2+])cc2c1[C@@H]1C[NH2+]N(S(C)(=O)=O)C1 from input conformation is different \n",
      "        to molecule COc1ccc2ccc(C(N)=[NH2+])cc2c1C1C[NH2+]N(S(C)(=O)=O)C1 from the ensemble\n"
     ]
    },
    {
     "name": "stderr",
     "output_type": "stream",
     "text": [
      " 83%|██████████████████████████████▋      | 14118/17028 [04:37<00:58, 49.46it/s]"
     ]
    },
    {
     "name": "stdout",
     "output_type": "stream",
     "text": [
      "Error with data/conf_ensembles/14113.sdf\n",
      "Molecule C[C@@H]1NC(=O)[C@H]2C=CCN2C(=O)[C@@]2(CCCCCC(O)(O)[C@@H]3CO3)ON2C(=O)[C@@H](C)NC1=O from input conformation is different \n",
      "        to molecule C[C@@H]1NC(=O)[C@H]2C=CCN2C(=O)[C@]2(CCCCCC(O)(O)[C@@H]3CO3)ON2C(=O)[C@@H](C)NC1=O from the ensemble\n"
     ]
    },
    {
     "name": "stderr",
     "output_type": "stream",
     "text": [
      " 84%|███████████████████████████████      | 14293/17028 [04:40<00:54, 49.90it/s]"
     ]
    },
    {
     "name": "stdout",
     "output_type": "stream",
     "text": [
      "Error with data/conf_ensembles/14282.sdf\n",
      "Molecule CC(C)(C)NS(=O)(=O)c1ccc(C2C[NH2+]C3CCCC([NH2+][C@@H]4CCCC[NH2+]4)C3C2)cc1 from input conformation is different \n",
      "        to molecule CC(C)(C)NS(=O)(=O)c1ccc(C2C[NH2+]C3CCCC([NH2+]C4CCCC[NH2+]4)C3C2)cc1 from the ensemble\n"
     ]
    },
    {
     "name": "stderr",
     "output_type": "stream",
     "text": [
      " 84%|███████████████████████████████▏     | 14332/17028 [04:41<01:06, 40.77it/s]"
     ]
    },
    {
     "name": "stdout",
     "output_type": "stream",
     "text": [
      "Error with data/conf_ensembles/14327.sdf\n",
      "Molecule CC[N+](C)(CC)CCCN1c2cc(N)ccc2-c2ccc(N)cc2[C@@H]1c1ccccc1 from input conformation is different \n",
      "        to molecule CC[N+](C)(CC)CCCN1c2cc(N)ccc2-c2ccc(N)cc2C1c1ccccc1 from the ensemble\n"
     ]
    },
    {
     "name": "stderr",
     "output_type": "stream",
     "text": [
      " 87%|████████████████████████████████▏    | 14785/17028 [04:52<00:57, 39.30it/s]"
     ]
    },
    {
     "name": "stdout",
     "output_type": "stream",
     "text": [
      "Error with data/conf_ensembles/14779.sdf\n",
      "Molecule [NH3+][C@@H](Cc1ccc(NC(=O)[C@H]2CC/C=C\\CCC2)cc1)C(=O)[O-] from input conformation is different \n",
      "        to molecule [NH3+][C@@H](Cc1ccc(NC(=O)[C@H]2CC/C=C/CCC2)cc1)C(=O)[O-] from the ensemble\n"
     ]
    },
    {
     "name": "stderr",
     "output_type": "stream",
     "text": [
      "100%|█████████████████████████████████████| 17028/17028 [05:49<00:00, 48.73it/s]\n"
     ]
    }
   ],
   "source": [
    "all_CEL = ConfEnsembleLibrary()\n",
    "all_CEL.load()"
   ]
  },
  {
   "cell_type": "code",
   "execution_count": 7,
   "id": "6ae56994-e876-4f7f-81b2-54533c07caa0",
   "metadata": {},
   "outputs": [],
   "source": [
    "smiles_df = pd.read_csv(os.path.join(data_dir_path, 'smiles_df.csv'))"
   ]
  },
  {
   "cell_type": "code",
   "execution_count": 8,
   "id": "e1b83fd3-9753-476b-835b-fa1b4f43fe1e",
   "metadata": {},
   "outputs": [],
   "source": [
    "platinum_smiles = smiles_df[smiles_df['dataset'] == 'platinum']['smiles'].unique()"
   ]
  },
  {
   "cell_type": "code",
   "execution_count": 9,
   "id": "ad3db3b8-8e0e-4758-b9c1-d483ea51802c",
   "metadata": {},
   "outputs": [],
   "source": [
    "all_mols = [ce.mol for smiles, ce in all_CEL.get_unique_molecules() if smiles not in platinum_smiles]"
   ]
  },
  {
   "cell_type": "code",
   "execution_count": 10,
   "id": "e12449cd-5a52-4ab2-8b15-6d7622f01988",
   "metadata": {},
   "outputs": [
    {
     "data": {
      "text/plain": [
       "12329"
      ]
     },
     "execution_count": 10,
     "metadata": {},
     "output_type": "execute_result"
    }
   ],
   "source": [
    "len(all_mols)"
   ]
  },
  {
   "cell_type": "code",
   "execution_count": 21,
   "id": "ccb15d91-5dfa-483d-a106-c9c16e0d6a06",
   "metadata": {},
   "outputs": [],
   "source": [
    "def get_scaffold(mol, generic=False) :\n",
    "    try :\n",
    "        core = GetScaffoldForMol(mol)\n",
    "        if generic :\n",
    "            core = MakeScaffoldGeneric(mol=core)\n",
    "        scaffold = Chem.MolToSmiles(core)\n",
    "        return scaffold\n",
    "    except Exception as e :\n",
    "        print(str(e))\n",
    "        raise Exception('Didnt work')"
   ]
  },
  {
   "cell_type": "code",
   "execution_count": 22,
   "id": "00027d59-9502-4841-87a7-5ad20533f0f5",
   "metadata": {
    "scrolled": true,
    "tags": []
   },
   "outputs": [],
   "source": [
    "all_generic_scaffolds = []\n",
    "correct_smiles = []\n",
    "for mol in all_mols :\n",
    "    try :\n",
    "        scaffold = get_scaffold(mol)\n",
    "        all_generic_scaffolds.append(scaffold)\n",
    "        correct_smiles.append(Chem.MolToSmiles(mol))\n",
    "    except Exception as e :\n",
    "        print('Didnt work')\n",
    "        print(str(e))"
   ]
  },
  {
   "cell_type": "code",
   "execution_count": 25,
   "id": "a8eb7c54-a580-436d-8e7c-c93ab5e0f4f0",
   "metadata": {},
   "outputs": [],
   "source": [
    "counter = Counter(all_generic_scaffolds)"
   ]
  },
  {
   "cell_type": "code",
   "execution_count": 26,
   "id": "aedc2e2c-ec31-4eb6-8c84-cf851d806204",
   "metadata": {},
   "outputs": [
    {
     "name": "stdout",
     "output_type": "stream",
     "text": [
      "7615\n"
     ]
    }
   ],
   "source": [
    "print(len(counter))"
   ]
  },
  {
   "cell_type": "code",
   "execution_count": 24,
   "id": "5f05058f-9ab6-4b31-b5d3-b9d5f4bf9b7e",
   "metadata": {},
   "outputs": [],
   "source": [
    "#http://rdkit.blogspot.com/2020/09/interactively-exploring-scaffoldnetwork.html\n",
    "#from rdkit.Chem.Scaffolds.rdScaffoldNetwork import CreateScaffoldNetwork, ScaffoldNetworkParams\n",
    "#snp = ScaffoldNetworkParams()\n",
    "#sn = CreateScaffoldNetwork(all_mols, snp)"
   ]
  },
  {
   "cell_type": "code",
   "execution_count": 27,
   "id": "82695b62-b78d-4e6b-b7c7-735d21ee547d",
   "metadata": {
    "scrolled": true,
    "tags": []
   },
   "outputs": [
    {
     "name": "stderr",
     "output_type": "stream",
     "text": [
      "RDKit ERROR: [17:00:02] Can't kekulize mol.  Unkekulized atoms: 0 1 2 4 5 7 8 9 10 11 12\n",
      "[17:00:02] Can't kekulize mol.  Unkekulized atoms: 0 1 2 4 5 7 8 9 10 11 12\n",
      "\n",
      "RDKit ERROR: \n",
      "/home/benoit/anaconda3/envs/GeoMol/lib/python3.7/site-packages/rdkit/Chem/Draw/IPythonConsole.py:243: UserWarning: Truncating the list of molecules to be displayed to 50. Change the maxMols value to display more.\n",
      "  % (maxMols))\n"
     ]
    },
    {
     "data": {
      "image/png": "[encoded data removed]",
      "text/plain": [
       "<IPython.core.display.Image object>"
      ]
     },
     "execution_count": 27,
     "metadata": {},
     "output_type": "execute_result"
    }
   ],
   "source": [
    "most_counted_scaffold = []\n",
    "for scaffold, count in counter.most_common() :\n",
    "    most_counted_scaffold.append(scaffold)\n",
    "Chem.Draw.MolsToGridImage([Chem.MolFromSmiles(scaffold) for scaffold, count in counter.most_common() if scaffold != ''], \n",
    "                          molsPerRow=5,\n",
    "                         legends=[str(count) for scaffold, count in counter.most_common() if scaffold != ''])"
   ]
  },
  {
   "cell_type": "code",
   "execution_count": 30,
   "id": "e1347647-3a4d-44e2-968d-1ab496a3859d",
   "metadata": {},
   "outputs": [
    {
     "name": "stderr",
     "output_type": "stream",
     "text": [
      "/home/benoit/anaconda3/envs/GeoMol/lib/python3.7/site-packages/seaborn/_decorators.py:43: FutureWarning: Pass the following variable as a keyword arg: x. From version 0.12, the only valid positional argument will be `data`, and passing other arguments without an explicit keyword will result in an error or misinterpretation.\n",
      "  FutureWarning\n"
     ]
    },
    {
     "data": {
      "text/plain": [
       "<AxesSubplot:>"
      ]
     },
     "execution_count": 30,
     "metadata": {},
     "output_type": "execute_result"
    },
    {
     "data": {
      "image/png": "[encoded data removed]",
      "text/plain": [
       "<Figure size 432x288 with 1 Axes>"
      ]
     },
     "metadata": {
      "needs_background": "light"
     },
     "output_type": "display_data"
    }
   ],
   "source": [
    "set_sizes = [count for scaffold, count in counter.items()]\n",
    "sns.boxplot(set_sizes)"
   ]
  },
  {
   "cell_type": "code",
   "execution_count": 36,
   "id": "3352ba65-21b6-473f-b7d8-eb14cdfc8aa0",
   "metadata": {},
   "outputs": [],
   "source": [
    "frac_train = 0.8\n",
    "frac_val = 0.1\n",
    "\n",
    "train_cutoff = int(frac_train * len(correct_smiles))\n",
    "val_cutoff = int((frac_train + frac_val) * len(correct_smiles))\n",
    "train_inds = []\n",
    "val_inds = []\n",
    "test_inds = []"
   ]
  },
  {
   "cell_type": "code",
   "execution_count": 37,
   "id": "d0fb8aa5-3220-4e4d-af99-c86af7e9f064",
   "metadata": {},
   "outputs": [
    {
     "data": {
      "text/plain": [
       "9863"
      ]
     },
     "execution_count": 37,
     "metadata": {},
     "output_type": "execute_result"
    }
   ],
   "source": [
    "train_cutoff"
   ]
  },
  {
   "cell_type": "code",
   "execution_count": 38,
   "id": "7ab593d0-5b0d-4b12-903e-cb008ad90022",
   "metadata": {},
   "outputs": [
    {
     "data": {
      "text/plain": [
       "11096"
      ]
     },
     "execution_count": 38,
     "metadata": {},
     "output_type": "execute_result"
    }
   ],
   "source": [
    "val_cutoff"
   ]
  },
  {
   "cell_type": "code",
   "execution_count": 39,
   "id": "ee997e54-db57-4a6b-a7f3-f10ef24de46b",
   "metadata": {},
   "outputs": [],
   "source": [
    "unique_scaffolds = list(counter.keys())"
   ]
  },
  {
   "cell_type": "code",
   "execution_count": 41,
   "id": "0bc390b4-ef0c-4b62-a8b8-779923f46427",
   "metadata": {},
   "outputs": [],
   "source": [
    "scaffold_splits_dir_name = 'ligand_scaffold_splits'\n",
    "scaffold_splits_dir_path = os.path.join(data_dir_path, scaffold_splits_dir_name)\n",
    "if not os.path.exists(scaffold_splits_dir_path) :\n",
    "    os.mkdir(scaffold_splits_dir_path)"
   ]
  },
  {
   "cell_type": "code",
   "execution_count": 42,
   "id": "de0a1eea-4091-4eae-a6ba-9e624ff41e0b",
   "metadata": {},
   "outputs": [],
   "source": [
    "for i in range(5) :\n",
    "    \n",
    "    random.shuffle(unique_scaffolds)\n",
    "    \n",
    "    train_inds: List[int] = []\n",
    "    val_inds: List[int] = []\n",
    "    test_inds: List[int] = []\n",
    "    \n",
    "    for scaffold in unique_scaffolds:\n",
    "        indices = [i for i, s in enumerate(all_generic_scaffolds) if s == scaffold]\n",
    "        if len(train_inds) + len(indices) > train_cutoff:\n",
    "            if len(train_inds) + len(val_inds) + len(indices) > val_cutoff:\n",
    "                test_inds += indices\n",
    "            else:\n",
    "                val_inds += indices\n",
    "        else:\n",
    "            train_inds += indices\n",
    "            \n",
    "    train_smiles = [smiles for i, smiles in enumerate(correct_smiles) if i in train_inds]\n",
    "    val_smiles = [smiles for i, smiles in enumerate(correct_smiles) if i in val_inds]\n",
    "    test_smiles = [smiles for i, smiles in enumerate(correct_smiles) if i in test_inds]\n",
    "    \n",
    "    with open(os.path.join(scaffold_splits_dir_path, f'train_smiles_scaffold_split_{i}.txt'), 'w') as f :\n",
    "        for smiles in train_smiles :\n",
    "            f.write(smiles)\n",
    "            f.write('\\n')\n",
    "        \n",
    "    with open(os.path.join(scaffold_splits_dir_path, f'val_smiles_scaffold_split_{i}.txt'), 'w') as f :\n",
    "        for smiles in val_smiles :\n",
    "            f.write(smiles)\n",
    "            f.write('\\n')\n",
    "        \n",
    "    with open(os.path.join(scaffold_splits_dir_path, f'test_smiles_scaffold_split_{i}.txt'), 'w') as f :\n",
    "        for smiles in test_smiles :\n",
    "            f.write(smiles)\n",
    "            f.write('\\n')"
   ]
  },
  {
   "cell_type": "code",
   "execution_count": 43,
   "id": "50cdd15b-b594-4e1f-989f-572528cea922",
   "metadata": {},
   "outputs": [
    {
     "data": {
      "text/plain": [
       "9863"
      ]
     },
     "execution_count": 43,
     "metadata": {},
     "output_type": "execute_result"
    }
   ],
   "source": [
    "len(train_inds)"
   ]
  },
  {
   "cell_type": "code",
   "execution_count": 44,
   "id": "4c37120a-1fa4-46b2-b151-db9a137ceb64",
   "metadata": {},
   "outputs": [
    {
     "data": {
      "text/plain": [
       "1233"
      ]
     },
     "execution_count": 44,
     "metadata": {},
     "output_type": "execute_result"
    }
   ],
   "source": [
    "len(val_inds)"
   ]
  },
  {
   "cell_type": "code",
   "execution_count": 45,
   "id": "36a268c6-a22e-4e29-8617-9048cc25e6de",
   "metadata": {},
   "outputs": [
    {
     "data": {
      "text/plain": [
       "1233"
      ]
     },
     "execution_count": 45,
     "metadata": {},
     "output_type": "execute_result"
    }
   ],
   "source": [
    "len(test_inds)"
   ]
  }
 ],
 "metadata": {
  "kernelspec": {
   "display_name": "Python 3 (ipykernel)",
   "language": "python",
   "name": "python3"
  },
  "language_info": {
   "codemirror_mode": {
    "name": "ipython",
    "version": 3
   },
   "file_extension": ".py",
   "mimetype": "text/x-python",
   "name": "python",
   "nbconvert_exporter": "python",
   "pygments_lexer": "ipython3",
   "version": "3.7.10"
  },
  "widgets": {
   "application/vnd.jupyter.widget-state+json": {
    "state": {},
    "version_major": 2,
    "version_minor": 0
   }
  }
 },
 "nbformat": 4,
 "nbformat_minor": 5
}
