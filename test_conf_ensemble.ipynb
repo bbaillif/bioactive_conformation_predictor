{
 "cells": [
  {
   "cell_type": "code",
   "execution_count": 5,
   "id": "f510a085-b680-4b6f-966d-7e8fbc04ead9",
   "metadata": {},
   "outputs": [],
   "source": [
    "from rdkit import Chem\n",
    "from rdkit.Chem.rdDistGeom import EmbedMultipleConfs"
   ]
  },
  {
   "cell_type": "code",
   "execution_count": 7,
   "id": "e7bd4b38-00ce-46ef-a611-b73a9a8cb715",
   "metadata": {},
   "outputs": [],
   "source": [
    "from conf_ensemble import ConfEnsemble\n",
    "from mol_viewer import MolViewer"
   ]
  },
  {
   "cell_type": "code",
   "execution_count": 6,
   "id": "b89d3ce6-5964-4077-b366-04f91b674633",
   "metadata": {},
   "outputs": [],
   "source": [
    "mol = Chem.MolFromSmiles('CC(=O)NC1=CC=C(C=C1)O')\n",
    "mol = Chem.AddHs(mol, addCoords=True)\n",
    "EmbedMultipleConfs(mol, 10)\n",
    "mol = Chem.RemoveHs(mol)"
   ]
  }
 ],
 "metadata": {
  "kernelspec": {
   "display_name": "Python 3 (ipykernel)",
   "language": "python",
   "name": "python3"
  },
  "language_info": {
   "codemirror_mode": {
    "name": "ipython",
    "version": 3
   },
   "file_extension": ".py",
   "mimetype": "text/x-python",
   "name": "python",
   "nbconvert_exporter": "python",
   "pygments_lexer": "ipython3",
   "version": "3.7.10"
  }
 },
 "nbformat": 4,
 "nbformat_minor": 5
}
