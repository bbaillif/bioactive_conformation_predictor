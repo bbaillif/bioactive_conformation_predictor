{
 "cells": [
  {
   "cell_type": "code",
   "execution_count": 2,
   "id": "7ec88eac-e965-4b13-bdd0-532be4535761",
   "metadata": {},
   "outputs": [],
   "source": [
    "import pandas as pd\n",
    "import os\n",
    "import pickle\n",
    "import copy\n",
    "import seaborn as sns\n",
    "import matplotlib.pyplot as plt\n",
    "\n",
    "from conf_ensemble import ConfEnsembleLibrary\n",
    "from tqdm import tqdm\n",
    "from rdkit.Geometry.rdGeometry import Point3D\n",
    "from rdkit import Chem\n",
    "from ccdc.conformer import ConformerGenerator, MoleculeMinimiser\n",
    "from ccdc.molecule import Molecule\n",
    "from ccdc_rdkit_connector import CcdcRdkitConnector"
   ]
  },
  {
   "cell_type": "code",
   "execution_count": 3,
   "id": "0dc688eb-aa7c-446b-8268-f52e61215dcd",
   "metadata": {},
   "outputs": [],
   "source": [
    "# To be able to save conformer properties\n",
    "Chem.SetDefaultPickleProperties(Chem.PropertyPickleOptions.AllProps) "
   ]
  },
  {
   "cell_type": "code",
   "execution_count": 4,
   "id": "08094991-87db-4bf6-85aa-f74cf4aaa89b",
   "metadata": {},
   "outputs": [],
   "source": [
    "data_dir_path = 'data/'"
   ]
  },
  {
   "cell_type": "markdown",
   "id": "f453c841-9470-48eb-8d41-02923474ba0b",
   "metadata": {},
   "source": [
    "# Extract PDBBind conformations"
   ]
  },
  {
   "cell_type": "code",
   "execution_count": 5,
   "id": "4bfada51-3834-486c-9b67-a9246596bd5c",
   "metadata": {},
   "outputs": [],
   "source": [
    "pdbbind_refined_dir_path = '../PDBBind/PDBbind_v2020_refined/refined-set/'\n",
    "pdbbind_general_dir_path = '../PDBBind/PDBbind_v2020_other_PL/v2020-other-PL/'"
   ]
  },
  {
   "cell_type": "code",
   "execution_count": 9,
   "id": "bbcd1a97-998a-4eb1-81fe-6d45652560ee",
   "metadata": {},
   "outputs": [],
   "source": [
    "widths = [6,6,7,6,17,9,200]\n",
    "cols = 'PDB code, resolution, release year, -logKd/Ki, Kd/Ki, reference, ligand name'.replace(', ', ',').split(',')\n",
    "pl_data = pd.read_fwf(os.path.join(pdbbind_refined_dir_path, 'index', 'INDEX_general_PL_data.2020'), widths=widths, skiprows=6, header=None)\n",
    "pl_data.columns=cols"
   ]
  },
  {
   "cell_type": "code",
   "execution_count": 10,
   "id": "804843b1-c6b8-4289-af84-574aba4e95c7",
   "metadata": {},
   "outputs": [
    {
     "data": {
      "text/html": [
       "<div>\n",
       "<style scoped>\n",
       "    .dataframe tbody tr th:only-of-type {\n",
       "        vertical-align: middle;\n",
       "    }\n",
       "\n",
       "    .dataframe tbody tr th {\n",
       "        vertical-align: top;\n",
       "    }\n",
       "\n",
       "    .dataframe thead th {\n",
       "        text-align: right;\n",
       "    }\n",
       "</style>\n",
       "<table border=\"1\" class=\"dataframe\">\n",
       "  <thead>\n",
       "    <tr style=\"text-align: right;\">\n",
       "      <th></th>\n",
       "      <th>PDB code</th>\n",
       "      <th>resolution</th>\n",
       "      <th>release year</th>\n",
       "      <th>-logKd/Ki</th>\n",
       "      <th>Kd/Ki</th>\n",
       "      <th>reference</th>\n",
       "      <th>ligand name</th>\n",
       "    </tr>\n",
       "  </thead>\n",
       "  <tbody>\n",
       "    <tr>\n",
       "      <th>0</th>\n",
       "      <td>3zzf</td>\n",
       "      <td>2.20</td>\n",
       "      <td>2012</td>\n",
       "      <td>0.40</td>\n",
       "      <td>Ki=400mM      //</td>\n",
       "      <td>3zzf.pdf</td>\n",
       "      <td>(NLG)</td>\n",
       "    </tr>\n",
       "    <tr>\n",
       "      <th>1</th>\n",
       "      <td>3gww</td>\n",
       "      <td>2.46</td>\n",
       "      <td>2009</td>\n",
       "      <td>0.45</td>\n",
       "      <td>IC50=355mM    //</td>\n",
       "      <td>3gwu.pdf</td>\n",
       "      <td>(SFX)</td>\n",
       "    </tr>\n",
       "    <tr>\n",
       "      <th>2</th>\n",
       "      <td>1w8l</td>\n",
       "      <td>1.80</td>\n",
       "      <td>2004</td>\n",
       "      <td>0.49</td>\n",
       "      <td>Ki=320mM      //</td>\n",
       "      <td>1w8l.pdf</td>\n",
       "      <td>(1P3)</td>\n",
       "    </tr>\n",
       "    <tr>\n",
       "      <th>3</th>\n",
       "      <td>3fqa</td>\n",
       "      <td>2.35</td>\n",
       "      <td>2009</td>\n",
       "      <td>0.49</td>\n",
       "      <td>IC50=320mM    //</td>\n",
       "      <td>3fq7.pdf</td>\n",
       "      <td>(GAB&amp;PMP)</td>\n",
       "    </tr>\n",
       "    <tr>\n",
       "      <th>4</th>\n",
       "      <td>1zsb</td>\n",
       "      <td>2.00</td>\n",
       "      <td>1996</td>\n",
       "      <td>0.60</td>\n",
       "      <td>Kd=250mM      //</td>\n",
       "      <td>1zsb.pdf</td>\n",
       "      <td>(AZM)</td>\n",
       "    </tr>\n",
       "  </tbody>\n",
       "</table>\n",
       "</div>"
      ],
      "text/plain": [
       "  PDB code resolution release year  -logKd/Ki             Kd/Ki reference  \\\n",
       "0     3zzf       2.20         2012       0.40  Ki=400mM      //  3zzf.pdf   \n",
       "1     3gww       2.46         2009       0.45  IC50=355mM    //  3gwu.pdf   \n",
       "2     1w8l       1.80         2004       0.49  Ki=320mM      //  1w8l.pdf   \n",
       "3     3fqa       2.35         2009       0.49  IC50=320mM    //  3fq7.pdf   \n",
       "4     1zsb       2.00         1996       0.60  Kd=250mM      //  1zsb.pdf   \n",
       "\n",
       "  ligand name  \n",
       "0       (NLG)  \n",
       "1       (SFX)  \n",
       "2       (1P3)  \n",
       "3   (GAB&PMP)  \n",
       "4       (AZM)  "
      ]
     },
     "execution_count": 10,
     "metadata": {},
     "output_type": "execute_result"
    }
   ],
   "source": [
    "pl_data.head()"
   ]
  },
  {
   "cell_type": "code",
   "execution_count": 11,
   "id": "4d035f6f-05a3-4d97-aa9d-04469fe2cbd2",
   "metadata": {},
   "outputs": [],
   "source": [
    "pl_data = pl_data[~pl_data['ligand name'].str.contains('-mer')]"
   ]
  },
  {
   "cell_type": "code",
   "execution_count": 12,
   "id": "eed4444d-3bdf-4b58-9f84-3e3faea23e1e",
   "metadata": {},
   "outputs": [
    {
     "data": {
      "text/plain": [
       "(16844, 7)"
      ]
     },
     "execution_count": 12,
     "metadata": {},
     "output_type": "execute_result"
    }
   ],
   "source": [
    "pl_data.shape"
   ]
  },
  {
   "cell_type": "code",
   "execution_count": 13,
   "id": "a49c3e56-21d6-44ed-ab34-7554e07de16a",
   "metadata": {},
   "outputs": [],
   "source": [
    "correct_pdb_ids = pl_data['PDB code'].values\n",
    "#pdb_ids = sorted([dir for dir in os.listdir(pdbbind_dir) if len(dir) == 4])"
   ]
  },
  {
   "cell_type": "code",
   "execution_count": 14,
   "id": "02283110-d3ae-4dc5-a63f-e3abb54e3a98",
   "metadata": {},
   "outputs": [],
   "source": [
    "def extract_pdbbind_mols(directory_path, query_pdb_ids) :\n",
    "    mols = []\n",
    "    pdb_ids = [pdb_id for pdb_id in os.listdir(directory_path) if pdb_id in query_pdb_ids]\n",
    "    for pdb_id in pdb_ids :\n",
    "        mol2path = os.path.join(directory_path, pdb_id, f'{pdb_id}_ligand.mol2')\n",
    "        try :\n",
    "            mol = Chem.rdmolfiles.MolFromMol2File(mol2path)\n",
    "            if mol is not None :\n",
    "                rdmol = Chem.MolFromSmiles(Chem.MolToSmiles(mol))\n",
    "                if rdmol is not None : #rdkit parsable\n",
    "                    #mol = PropertyMol(mol)\n",
    "                    mol.GetConformer().SetProp('PDB_ID', pdb_id)\n",
    "                    mols.append(mol)\n",
    "                else :\n",
    "                    print('Not RDKit parsable')\n",
    "        except :\n",
    "            print('Impossible to read mol2 file for ' + pdb_id)\n",
    "            \n",
    "    return mols"
   ]
  },
  {
   "cell_type": "code",
   "execution_count": 15,
   "id": "289fa055-2dad-48a3-8365-718c82461819",
   "metadata": {
    "scrolled": true,
    "tags": []
   },
   "outputs": [
    {
     "name": "stderr",
     "output_type": "stream",
     "text": [
      "[16:51:39] 6a05_ligand: warning - O.co2 with non C.2 or S.o2 neighbor.\n",
      "RDKit WARNING: [16:51:39] 6a05_ligand: warning - O.co2 with non C.2 or S.o2 neighbor.\n",
      "RDKit WARNING: [16:51:39] 1r0x_ligand: warning - O.co2 with non C.2 or S.o2 neighbor.\n",
      "[16:51:39] 1r0x_ligand: warning - O.co2 with non C.2 or S.o2 neighbor.\n",
      "RDKit WARNING: [16:51:40] 1w1g_ligand: warning - O.co2 with non C.2 or S.o2 neighbor.\n",
      "[16:51:40] 1w1g_ligand: warning - O.co2 with non C.2 or S.o2 neighbor.\n",
      "RDKit WARNING: [16:51:40] 2k0g_ligand: warning - O.co2 with non C.2 or S.o2 neighbor.\n",
      "RDKit WARNING: [16:51:40] 1it6_ligand: warning - O.co2 with non C.2 or S.o2 neighbor.\n",
      "RDKit WARNING: [16:51:40] 4lph_ligand: warning - O.co2 with non C.2 or S.o2 neighbor.\n",
      "RDKit WARNING: [16:51:40] 6oh3_ligand: warning - O.co2 with non C.2 or S.o2 neighbor.\n",
      "RDKit WARNING: [16:51:40] 3fjz_ligand: warning - O.co2 with non C.2 or S.o2 neighbor.\n",
      "RDKit WARNING: [16:51:40] 6eo0_ligand: warning - O.co2 with non C.2 or S.o2 neighbor.\n",
      "RDKit WARNING: [16:51:40] 1ebg_ligand: warning - O.co2 with non C.2 or S.o2 neighbor.\n",
      "RDKit WARNING: [16:51:40] 2qft_ligand: warning - O.co2 with non C.2 or S.o2 neighbor.\n",
      "RDKit WARNING: [16:51:40] 1o4e_ligand: warning - O.co2 with non C.2 or S.o2 neighbor.\n",
      "[16:51:40] 2k0g_ligand: warning - O.co2 with non C.2 or S.o2 neighbor.\n",
      "RDKit WARNING: [16:51:40] 5klp_ligand: warning - O.co2 with non C.2 or S.o2 neighbor.\n",
      "RDKit WARNING: [16:51:40] 3b82_ligand: warning - O.co2 with non C.2 or S.o2 neighbor.\n",
      "[16:51:40] 1it6_ligand: warning - O.co2 with non C.2 or S.o2 neighbor.\n",
      "[16:51:40] 4lph_ligand: warning - O.co2 with non C.2 or S.o2 neighbor.\n",
      "[16:51:40] 6oh3_ligand: warning - O.co2 with non C.2 or S.o2 neighbor.\n",
      "[16:51:40] 3fjz_ligand: warning - O.co2 with non C.2 or S.o2 neighbor.\n",
      "[16:51:40] 6eo0_ligand: warning - O.co2 with non C.2 or S.o2 neighbor.\n",
      "[16:51:40] 1ebg_ligand: warning - O.co2 with non C.2 or S.o2 neighbor.\n",
      "[16:51:40] 2qft_ligand: warning - O.co2 with non C.2 or S.o2 neighbor.\n",
      "[16:51:40] 1o4e_ligand: warning - O.co2 with non C.2 or S.o2 neighbor.\n",
      "[16:51:40] 5klp_ligand: warning - O.co2 with non C.2 or S.o2 neighbor.\n",
      "RDKit WARNING: [16:51:40] 3b78_ligand: warning - O.co2 with non C.2 or S.o2 neighbor.\n",
      "[16:51:40] 3b82_ligand: warning - O.co2 with non C.2 or S.o2 neighbor.\n",
      "[16:51:40] 3b78_ligand: warning - O.co2 with non C.2 or S.o2 neighbor.\n",
      "[16:51:40] 3wci_ligand: warning - O.co2 with non C.2 or S.o2 neighbor.\n",
      "RDKit WARNING: [16:51:40] 3wci_ligand: warning - O.co2 with non C.2 or S.o2 neighbor.\n",
      "RDKit WARNING: [16:51:40] 5ldk_ligand: warning - O.co2 with non C.2 or S.o2 neighbor.\n",
      "[16:51:40] 5ldk_ligand: warning - O.co2 with non C.2 or S.o2 neighbor.\n",
      "RDKit WARNING: [16:51:40] 2gga_ligand: warning - O.co2 with non C.2 or S.o2 neighbor.\n",
      "[16:51:40] 2gga_ligand: warning - O.co2 with non C.2 or S.o2 neighbor.\n",
      "RDKit WARNING: [16:51:40] 5a3r_ligand: warning - O.co2 with non C.2 or S.o2 neighbor.\n",
      "[16:51:40] 5a3r_ligand: warning - O.co2 with non C.2 or S.o2 neighbor.\n",
      "RDKit WARNING: [16:51:40] 4u7o_ligand: warning - O.co2 with non C.2 or S.o2 neighbor.\n",
      "RDKit WARNING: [16:51:40] 5izl_ligand: warning - O.co2 with non C.2 or S.o2 neighbor.\n",
      "RDKit WARNING: [16:51:40] 3ewz_ligand: warning - O.co2 with non C.2 or S.o2 neighbor.\n",
      "RDKit WARNING: [16:51:40] 2pja_ligand: warning - O.co2 with non C.2 or S.o2 neighbor.\n",
      "RDKit WARNING: [16:51:40] 1z4n_ligand: warning - O.co2 with non C.2 or S.o2 neighbor.\n",
      "[16:51:40] 4u7o_ligand: warning - O.co2 with non C.2 or S.o2 neighbor.\n",
      "[16:51:40] 5izl_ligand: warning - O.co2 with non C.2 or S.o2 neighbor.\n",
      "[16:51:40] 3ewz_ligand: warning - O.co2 with non C.2 or S.o2 neighbor.\n",
      "[16:51:40] 2pja_ligand: warning - O.co2 with non C.2 or S.o2 neighbor.\n",
      "[16:51:40] 1z4n_ligand: warning - O.co2 with non C.2 or S.o2 neighbor.\n",
      "RDKit WARNING: [16:51:40] 2hmw_ligand: warning - O.co2 with non C.2 or S.o2 neighbor.\n",
      "RDKit WARNING: [16:51:40] 1y8o_ligand: warning - O.co2 with non C.2 or S.o2 neighbor.\n",
      "[16:51:40] 2hmw_ligand: warning - O.co2 with non C.2 or S.o2 neighbor.\n",
      "[16:51:40] 1y8o_ligand: warning - O.co2 with non C.2 or S.o2 neighbor.\n",
      "RDKit WARNING: [16:51:40] 4rao_ligand: warning - O.co2 with non C.2 or S.o2 neighbor.\n",
      "[16:51:40] 4rao_ligand: warning - O.co2 with non C.2 or S.o2 neighbor.\n",
      "RDKit WARNING: [16:51:40] 2ad5_ligand: warning - O.co2 with non C.2 or S.o2 neighbor.\n",
      "[16:51:40] 2ad5_ligand: warning - O.co2 with non C.2 or S.o2 neighbor.\n",
      "RDKit WARNING: [16:51:40] 6agp_ligand: warning - O.co2 with non C.2 or S.o2 neighbor.\n",
      "[16:51:40] 6agp_ligand: warning - O.co2 with non C.2 or S.o2 neighbor.\n",
      "RDKit WARNING: [16:51:40] 5olk_ligand: warning - O.co2 with non C.2 or S.o2 neighbor.\n",
      "RDKit WARNING: [16:51:40] 2rkn_ligand: warning - O.co2 with non C.2 or S.o2 neighbor.\n",
      "[16:51:40] 5olk_ligand: warning - O.co2 with non C.2 or S.o2 neighbor.\n",
      "[16:51:40] 2rkn_ligand: warning - O.co2 with non C.2 or S.o2 neighbor.\n",
      "[16:51:40] 4kxl_ligand: warning - O.co2 with non C.2 or S.o2 neighbor.\n",
      "RDKit WARNING: [16:51:40] 4kxl_ligand: warning - O.co2 with non C.2 or S.o2 neighbor.\n",
      "[16:51:40] 5khh_ligand: warning - O.co2 with non C.2 or S.o2 neighbor.\n",
      "RDKit WARNING: [16:51:40] 5khh_ligand: warning - O.co2 with non C.2 or S.o2 neighbor.\n",
      "RDKit WARNING: [16:51:40] 4e1e_ligand: warning - O.co2 with non C.2 or S.o2 neighbor.\n",
      "RDKit WARNING: [16:51:40] 4tnw_ligand: warning - O.co2 with non C.2 or S.o2 neighbor.\n",
      "[16:51:40] 4e1e_ligand: warning - O.co2 with non C.2 or S.o2 neighbor.\n",
      "[16:51:40] 4tnw_ligand: warning - O.co2 with non C.2 or S.o2 neighbor.\n",
      "RDKit WARNING: [16:51:40] 3ufa_ligand: warning - O.co2 with non C.2 or S.o2 neighbor.\n",
      "[16:51:40] 3ufa_ligand: warning - O.co2 with non C.2 or S.o2 neighbor.\n",
      "RDKit WARNING: [16:51:40] 5km1_ligand: warning - O.co2 with non C.2 or S.o2 neighbor.\n",
      "RDKit WARNING: [16:51:40] 5ocj_ligand: warning - O.co2 with non C.2 or S.o2 neighbor.\n",
      "[16:51:40] 5km1_ligand: warning - O.co2 with non C.2 or S.o2 neighbor.\n",
      "RDKit WARNING: [16:51:40] 6n53_ligand: warning - O.co2 with non C.2 or S.o2 neighbor.\n",
      "RDKit WARNING: [16:51:40] 3mtw_ligand: warning - O.co2 with non C.2 or S.o2 neighbor.\n",
      "RDKit WARNING: [16:51:40] 4fyh_ligand: warning - O.co2 with non C.2 or S.o2 neighbor.\n",
      "[16:51:40] 5ocj_ligand: warning - O.co2 with non C.2 or S.o2 neighbor.\n",
      "[16:51:40] 6n53_ligand: warning - O.co2 with non C.2 or S.o2 neighbor.\n",
      "[16:51:40] 3mtw_ligand: warning - O.co2 with non C.2 or S.o2 neighbor.\n",
      "[16:51:40] 4fyh_ligand: warning - O.co2 with non C.2 or S.o2 neighbor.\n",
      "RDKit WARNING: [16:51:40] 1nd5_ligand: warning - O.co2 with non C.2 or S.o2 neighbor.\n",
      "[16:51:40] 1nd5_ligand: warning - O.co2 with non C.2 or S.o2 neighbor.\n",
      "RDKit WARNING: [16:51:40] 2y8q_ligand: warning - O.co2 with non C.2 or S.o2 neighbor.\n",
      "RDKit WARNING: [16:51:40] 3dxh_ligand: warning - O.co2 with non C.2 or S.o2 neighbor.\n",
      "RDKit WARNING: [16:51:40] 6mxd_ligand: warning - O.co2 with non C.2 or S.o2 neighbor.\n",
      "RDKit WARNING: [16:51:40] 1dqx_ligand: warning - O.co2 with non C.2 or S.o2 neighbor.\n",
      "[16:51:40] 2y8q_ligand: warning - O.co2 with non C.2 or S.o2 neighbor.\n",
      "[16:51:40] 3dxh_ligand: warning - O.co2 with non C.2 or S.o2 neighbor.\n",
      "[16:51:40] 6mxd_ligand: warning - O.co2 with non C.2 or S.o2 neighbor.\n",
      "[16:51:40] 1dqx_ligand: warning - O.co2 with non C.2 or S.o2 neighbor.\n",
      "RDKit WARNING: [16:51:40] 4hn2_ligand: warning - O.co2 with non C.2 or S.o2 neighbor.\n",
      "RDKit WARNING: [16:51:40] 4bgk_ligand: warning - O.co2 with non C.2 or S.o2 neighbor.\n",
      "[16:51:40] 4hn2_ligand: warning - O.co2 with non C.2 or S.o2 neighbor.\n",
      "[16:51:40] 4bgk_ligand: warning - O.co2 with non C.2 or S.o2 neighbor.\n",
      "RDKit WARNING: [16:51:40] 5l44_ligand: warning - O.co2 with non C.2 or S.o2 neighbor.\n",
      "RDKit WARNING: [16:51:40] 1vjd_ligand: warning - O.co2 with non C.2 or S.o2 neighbor.\n",
      "[16:51:40] 5l44_ligand: warning - O.co2 with non C.2 or S.o2 neighbor.\n",
      "[16:51:40] 1vjd_ligand: warning - O.co2 with non C.2 or S.o2 neighbor.\n",
      "RDKit WARNING: [16:51:40] 1o4i_ligand: warning - O.co2 with non C.2 or S.o2 neighbor.\n",
      "[16:51:40] 1o4i_ligand: warning - O.co2 with non C.2 or S.o2 neighbor.\n",
      "RDKit WARNING: [16:51:40] 3tdh_ligand: warning - O.co2 with non C.2 or S.o2 neighbor.\n",
      "[16:51:40] 3tdh_ligand: warning - O.co2 with non C.2 or S.o2 neighbor.\n",
      "RDKit WARNING: [16:51:40] 4euc_ligand: warning - O.co2 with non C.2 or S.o2 neighbor.\n",
      "[16:51:40] 4euc_ligand: warning - O.co2 with non C.2 or S.o2 neighbor.\n",
      "RDKit WARNING: [16:51:40] 1clu_ligand: warning - O.co2 with non C.2 or S.o2 neighbor.\n",
      "[16:51:40] 1clu_ligand: warning - O.co2 with non C.2 or S.o2 neighbor.\n",
      "RDKit WARNING: [16:51:40] 1gzv_ligand: warning - O.co2 with non C.2 or S.o2 neighbor.\n",
      "RDKit WARNING: [16:51:40] 2i5f_ligand: warning - O.co2 with non C.2 or S.o2 neighbor.\n",
      "[16:51:40] 1gzv_ligand: warning - O.co2 with non C.2 or S.o2 neighbor.\n",
      "[16:51:40] 2i5f_ligand: warning - O.co2 with non C.2 or S.o2 neighbor.\n",
      "RDKit WARNING: [16:51:40] 3dgl_ligand: warning - O.co2 with non C.2 or S.o2 neighbor.\n",
      "[16:51:40] 3dgl_ligand: warning - O.co2 with non C.2 or S.o2 neighbor.\n",
      "RDKit WARNING: [16:51:40] 3t2c_ligand: warning - O.co2 with non C.2 or S.o2 neighbor.\n",
      "[16:51:40] 3t2c_ligand: warning - O.co2 with non C.2 or S.o2 neighbor.\n",
      "[16:51:40] 2z4y_ligand: warning - O.co2 with non C.2 or S.o2 neighbor.\n",
      "RDKit WARNING: [16:51:40] 2z4y_ligand: warning - O.co2 with non C.2 or S.o2 neighbor.\n",
      "RDKit WARNING: [16:51:40] 2g96_ligand: warning - O.co2 with non C.2 or S.o2 neighbor.\n",
      "[16:51:40] 2g96_ligand: warning - O.co2 with non C.2 or S.o2 neighbor.\n",
      "RDKit WARNING: [16:51:40] 5goe_ligand: warning - O.co2 with non C.2 or S.o2 neighbor.\n",
      "[16:51:40] 5goe_ligand: warning - O.co2 with non C.2 or S.o2 neighbor.\n",
      "RDKit WARNING: [16:51:40] 5nkk_ligand: warning - O.co2 with non C.2 or S.o2 neighbor.\n",
      "[16:51:40] 5nkk_ligand: warning - O.co2 with non C.2 or S.o2 neighbor.\n",
      "RDKit WARNING: [16:51:40] 3b5j_ligand: warning - O.co2 with non C.2 or S.o2 neighbor.\n",
      "RDKit WARNING: [16:51:40] 3dsu_ligand: warning - O.co2 with non C.2 or S.o2 neighbor.\n",
      "[16:51:40] 3b5j_ligand: warning - O.co2 with non C.2 or S.o2 neighbor.\n",
      "[16:51:40] 3dsu_ligand: warning - O.co2 with non C.2 or S.o2 neighbor.\n",
      "RDKit WARNING: [16:51:40] 4jn4_ligand: warning - O.co2 with non C.2 or S.o2 neighbor.\n",
      "[16:51:40] 4jn4_ligand: warning - O.co2 with non C.2 or S.o2 neighbor.\n",
      "RDKit WARNING: [16:51:40] 5izk_ligand: warning - O.co2 with non C.2 or S.o2 neighbor.\n",
      "[16:51:40] 5izk_ligand: warning - O.co2 with non C.2 or S.o2 neighbor.\n",
      "RDKit WARNING: [16:51:40] 2gvz_ligand: warning - O.co2 with non C.2 or S.o2 neighbor.\n",
      "[16:51:40] 2gvz_ligand: warning - O.co2 with non C.2 or S.o2 neighbor.\n",
      "RDKit WARNING: [16:51:40] 1ppx_ligand: warning - O.co2 with non C.2 or S.o2 neighbor.\n",
      "[16:51:40] 1ppx_ligand: warning - O.co2 with non C.2 or S.o2 neighbor.\n",
      "RDKit WARNING: [16:51:40] 4wyp_ligand: warning - O.co2 with non C.2 or S.o2 neighbor.\n",
      "RDKit WARNING: [16:51:40] 3bar_ligand: warning - O.co2 with non C.2 or S.o2 neighbor.\n",
      "RDKit WARNING: [16:51:40] 5jid_ligand: Warning - no explicit hydrogens in mol2 file but needed for formal charge estimation.\n",
      "[16:51:40] 4wyp_ligand: warning - O.co2 with non C.2 or S.o2 neighbor.\n",
      "RDKit WARNING: [16:51:40] 1csr_ligand: warning - O.co2 with non C.2 or S.o2 neighbor.\n",
      "RDKit WARNING: [16:51:40] 4uau_ligand: warning - O.co2 with non C.2 or S.o2 neighbor.\n",
      "RDKit WARNING: [16:51:40] 3g3d_ligand: warning - O.co2 with non C.2 or S.o2 neighbor.\n",
      "[16:51:40] 3bar_ligand: warning - O.co2 with non C.2 or S.o2 neighbor.\n",
      "[16:51:40] 5jid_ligand: Warning - no explicit hydrogens in mol2 file but needed for formal charge estimation.\n",
      "[16:51:40] 1csr_ligand: warning - O.co2 with non C.2 or S.o2 neighbor.\n",
      "[16:51:40] 4uau_ligand: warning - O.co2 with non C.2 or S.o2 neighbor.\n",
      "[16:51:40] 3g3d_ligand: warning - O.co2 with non C.2 or S.o2 neighbor.\n",
      "RDKit WARNING: [16:51:40] 2y1g_ligand: warning - O.co2 with non C.2 or S.o2 neighbor.\n",
      "[16:51:40] 2y1g_ligand: warning - O.co2 with non C.2 or S.o2 neighbor.\n",
      "RDKit WARNING: [16:51:40] 3wqm_ligand: warning - O.co2 with non C.2 or S.o2 neighbor.\n",
      "[16:51:40] 3wqm_ligand: warning - O.co2 with non C.2 or S.o2 neighbor.\n",
      "RDKit WARNING: [16:51:40] 3kyf_ligand: warning - O.co2 with non C.2 or S.o2 neighbor.\n",
      "RDKit WARNING: [16:51:40] 4zmf_ligand: warning - O.co2 with non C.2 or S.o2 neighbor.\n",
      "[16:51:40] 3kyf_ligand: warning - O.co2 with non C.2 or S.o2 neighbor.\n",
      "[16:51:40] 4zmf_ligand: warning - O.co2 with non C.2 or S.o2 neighbor.\n",
      "[16:51:40] 3llm_ligand: warning - O.co2 with non C.2 or S.o2 neighbor.\n",
      "RDKit WARNING: [16:51:40] 3llm_ligand: warning - O.co2 with non C.2 or S.o2 neighbor.\n",
      "RDKit WARNING: [16:51:40] 4w4s_ligand: warning - O.co2 with non C.2 or S.o2 neighbor.\n",
      "[16:51:40] 4w4s_ligand: warning - O.co2 with non C.2 or S.o2 neighbor.\n",
      "RDKit WARNING: [16:51:40] 4uv9_ligand: warning - O.co2 with non C.2 or S.o2 neighbor.\n",
      "[16:51:40] 4uv9_ligand: warning - O.co2 with non C.2 or S.o2 neighbor.\n",
      "RDKit WARNING: [16:51:40] 1uj6_ligand: warning - O.co2 with non C.2 or S.o2 neighbor.\n",
      "[16:51:40] 1uj6_ligand: warning - O.co2 with non C.2 or S.o2 neighbor.\n",
      "RDKit ERROR: [16:51:40] Explicit valence for atom # 2 C, 5, is greater than permitted\n",
      "[16:51:40] Explicit valence for atom # 2 C, 5, is greater than permitted\n",
      "RDKit WARNING: [16:51:40] sanitise [16:51:40] 4rlp_ligand: [16:51:40] 6egs_ligand: warning - O.co2 with non C.2 or S.o2 neighbor.\n",
      "[16:51:40] sanitise [16:51:40] 4rlp_ligand: [16:51:40] 6egs_ligand: warning - O.co2 with non C.2 or S.o2 neighbor.\n",
      "RDKit WARNING: [16:51:40] 4qir_ligand: warning - O.co2 with non C.2 or S.o2 neighbor.\n",
      "RDKit WARNING: [16:51:40] 3lf0_ligand: warning - O.co2 with non C.2 or S.o2 neighbor.\n",
      "RDKit WARNING: [16:51:40] 1cx9_ligand: warning - O.co2 with non C.2 or S.o2 neighbor.\n",
      "RDKit WARNING: [16:51:40] 4lil_ligand: Warning - no explicit hydrogens in mol2 file but needed for formal charge estimation.\n",
      "RDKit WARNING: [16:51:40] 4lil_ligand: warning - O.co2 with non C.2 or S.o2 neighbor.\n",
      "RDKit WARNING: [16:51:40] 1dmt_ligand: warning - O.co2 with non C.2 or S.o2 neighbor.\n",
      "RDKit WARNING: [16:51:40] 5kam_ligand: warning - O.co2 with non C.2 or S.o2 neighbor.\n",
      "[16:51:40] 4qir_ligand: warning - O.co2 with non C.2 or S.o2 neighbor.\n",
      "[16:51:40] 3lf0_ligand: warning - O.co2 with non C.2 or S.o2 neighbor.\n",
      "[16:51:40] 1cx9_ligand: warning - O.co2 with non C.2 or S.o2 neighbor.\n",
      "RDKit WARNING: [16:51:40] 3n75_ligand: warning - O.co2 with non C.2 or S.o2 neighbor.\n",
      "RDKit WARNING: [16:51:40] 6eqs_ligand: warning - O.co2 with non C.2 or S.o2 neighbor.\n",
      "[16:51:40] 4lil_ligand: Warning - no explicit hydrogens in mol2 file but needed for formal charge estimation.\n",
      "[16:51:40] 4lil_ligand: warning - O.co2 with non C.2 or S.o2 neighbor.\n",
      "[16:51:40] 1dmt_ligand: warning - O.co2 with non C.2 or S.o2 neighbor.\n",
      "[16:51:40] 5kam_ligand: warning - O.co2 with non C.2 or S.o2 neighbor.\n",
      "[16:51:40] 3n75_ligand: warning - O.co2 with non C.2 or S.o2 neighbor.\n",
      "[16:51:40] 6eqs_ligand: warning - O.co2 with non C.2 or S.o2 neighbor.\n",
      "RDKit WARNING: [16:51:40] 1gz4_ligand: warning - O.co2 with non C.2 or S.o2 neighbor.\n",
      "[16:51:40] 1gz4_ligand: warning - O.co2 with non C.2 or S.o2 neighbor.\n",
      "RDKit WARNING: [16:51:40] 3otx_ligand: warning - O.co2 with non C.2 or S.o2 neighbor.\n",
      "[16:51:40] 3otx_ligand: warning - O.co2 with non C.2 or S.o2 neighbor.\n",
      "RDKit WARNING: [16:51:40] 1c7e_ligand: warning - O.co2 with non C.2 or S.o2 neighbor.\n",
      "[16:51:40] 1c7e_ligand: warning - O.co2 with non C.2 or S.o2 neighbor.\n",
      "RDKit WARNING: [16:51:40] 2zit_ligand: warning - O.co2 with non C.2 or S.o2 neighbor.\n",
      "[16:51:40] 2zit_ligand: warning - O.co2 with non C.2 or S.o2 neighbor.\n",
      "RDKit WARNING: [16:51:40] 3zhz_ligand: warning - O.co2 with non C.2 or S.o2 neighbor.\n",
      "RDKit WARNING: [16:51:40] 1d04_ligand: warning - O.co2 with non C.2 or S.o2 neighbor.\n",
      "RDKit WARNING: [16:51:40] 2pj5_ligand: warning - O.co2 with non C.2 or S.o2 neighbor.\n",
      "[16:51:40] 3zhz_ligand: warning - O.co2 with non C.2 or S.o2 neighbor.\n",
      "[16:51:40] 1d04_ligand: warning - O.co2 with non C.2 or S.o2 neighbor.\n",
      "RDKit WARNING: [16:51:40] 6mlw_ligand: warning - O.co2 with non C.2 or S.o2 neighbor.\n",
      "[16:51:40] 2pj5_ligand: warning - O.co2 with non C.2 or S.o2 neighbor.\n",
      "[16:51:40] 6mlw_ligand: warning - O.co2 with non C.2 or S.o2 neighbor.\n",
      "RDKit WARNING: [16:51:40] 1nfs_ligand: warning - O.co2 with non C.2 or S.o2 neighbor.\n",
      "[16:51:40] 1nfs_ligand: warning - O.co2 with non C.2 or S.o2 neighbor.\n",
      "RDKit WARNING: [16:51:40] 1xxh_ligand: warning - O.co2 with non C.2 or S.o2 neighbor.\n",
      "[16:51:40] 1xxh_ligand: warning - O.co2 with non C.2 or S.o2 neighbor.\n",
      "RDKit WARNING: [16:51:40] 3axk_ligand: warning - O.co2 with non C.2 or S.o2 neighbor.\n",
      "[16:51:40] 3axk_ligand: warning - O.co2 with non C.2 or S.o2 neighbor.\n",
      "RDKit WARNING: [16:51:40] 1gx0_ligand: warning - O.co2 with non C.2 or S.o2 neighbor.\n",
      "[16:51:40] 1gx0_ligand: warning - O.co2 with non C.2 or S.o2 neighbor.\n",
      "RDKit WARNING: [16:51:40] 2z7h_ligand: warning - O.co2 with non C.2 or S.o2 neighbor.\n",
      "[16:51:40] 2z7h_ligand: warning - O.co2 with non C.2 or S.o2 neighbor.\n",
      "RDKit WARNING: [16:51:40] 3efs_ligand: warning - O.co2 with non C.2 or S.o2 neighbor.\n",
      "RDKit WARNING: [16:51:40] 3hio_ligand: warning - O.co2 with non C.2 or S.o2 neighbor.\n",
      "RDKit WARNING: [16:51:40] 5h5o_ligand: warning - O.co2 with non C.2 or S.o2 neighbor.\n",
      "RDKit WARNING: [16:51:40] 1m9n_ligand: warning - O.co2 with non C.2 or S.o2 neighbor.\n",
      "[16:51:40] 3efs_ligand: warning - O.co2 with non C.2 or S.o2 neighbor.\n",
      "[16:51:40] 3hio_ligand: warning - O.co2 with non C.2 or S.o2 neighbor.\n",
      "[16:51:40] 5h5o_ligand: warning - O.co2 with non C.2 or S.o2 neighbor.\n",
      "RDKit WARNING: [16:51:40] 4dpu_ligand: warning - O.co2 with non C.2 or S.o2 neighbor.\n",
      "RDKit WARNING: [16:51:40] 2qcn_ligand: warning - O.co2 with non C.2 or S.o2 neighbor.\n",
      "[16:51:40] 1m9n_ligand: warning - O.co2 with non C.2 or S.o2 neighbor.\n",
      "[16:51:40] 4dpu_ligand: warning - O.co2 with non C.2 or S.o2 neighbor.\n",
      "[16:51:40] 2qcn_ligand: warning - O.co2 with non C.2 or S.o2 neighbor.\n",
      "RDKit WARNING: [16:51:40] 5a7i_ligand: warning - O.co2 with non C.2 or S.o2 neighbor.\n",
      "RDKit WARNING: [16:51:40] 3rv3_ligand: warning - O.co2 with non C.2 or S.o2 neighbor.\n",
      "[16:51:40] 5a7i_ligand: warning - O.co2 with non C.2 or S.o2 neighbor.\n",
      "[16:51:40] 3rv3_ligand: warning - O.co2 with non C.2 or S.o2 neighbor.\n",
      "RDKit WARNING: [16:51:40] 5WAE_LIGAND: warning - O.co2 with non C.2 or S.o2 neighbor.\n",
      "[16:51:40] 5WAE_LIGAND: warning - O.co2 with non C.2 or S.o2 neighbor.\n",
      "RDKit WARNING: [16:51:40] 1akq_ligand: warning - O.co2 with non C.2 or S.o2 neighbor.\n",
      "RDKit WARNING: [16:51:40] 6qhg_ligand: warning - O.co2 with non C.2 or S.o2 neighbor.\n",
      "RDKit WARNING: [16:51:40] 3ex6_ligand: warning - O.co2 with non C.2 or S.o2 neighbor.\n",
      "[16:51:40] 1akq_ligand: warning - O.co2 with non C.2 or S.o2 neighbor.\n",
      "[16:51:40] 6qhg_ligand: warning - O.co2 with non C.2 or S.o2 neighbor.\n",
      "RDKit WARNING: [16:51:40] 1xz8_ligand: warning - O.co2 with non C.2 or S.o2 neighbor.\n",
      "[16:51:40] 3ex6_ligand: warning - O.co2 with non C.2 or S.o2 neighbor.\n",
      "[16:51:40] 1xz8_ligand: warning - O.co2 with non C.2 or S.o2 neighbor.\n",
      "RDKit WARNING: [16:51:40] 1aw1_ligand: warning - O.co2 with non C.2 or S.o2 neighbor.\n",
      "[16:51:40] 1aw1_ligand: warning - O.co2 with non C.2 or S.o2 neighbor.\n",
      "RDKit WARNING: [16:51:40] 2e95_ligand: warning - O.co2 with non C.2 or S.o2 neighbor.\n",
      "[16:51:40] 2e95_ligand: warning - O.co2 with non C.2 or S.o2 neighbor.\n",
      "RDKit WARNING: [16:51:40] 1mau_ligand: warning - O.co2 with non C.2 or S.o2 neighbor.\n",
      "RDKit WARNING: [16:51:40] 1kf0_ligand: warning - O.co2 with non C.2 or S.o2 neighbor.\n",
      "RDKit WARNING: [16:51:40] 1c7f_ligand: warning - O.co2 with non C.2 or S.o2 neighbor.\n",
      "[16:51:40] 1mau_ligand: warning - O.co2 with non C.2 or S.o2 neighbor.\n",
      "[16:51:40] 1kf0_ligand: warning - O.co2 with non C.2 or S.o2 neighbor.\n",
      "[16:51:40] 1c7f_ligand: warning - O.co2 with non C.2 or S.o2 neighbor.\n",
      "RDKit WARNING: [16:51:40] 4ock_ligand: warning - O.co2 with non C.2 or S.o2 neighbor.\n",
      "RDKit WARNING: [16:51:40] 3ewu_ligand: warning - O.co2 with non C.2 or S.o2 neighbor.\n",
      "RDKit WARNING: [16:51:40] 1me7_ligand: warning - O.co2 with non C.2 or S.o2 neighbor.\n",
      "RDKit WARNING: [16:51:40] 2qm7_ligand: warning - O.co2 with non C.2 or S.o2 neighbor.\n",
      "RDKit WARNING: [16:51:40] 3pjt_ligand: warning - O.co2 with non C.2 or S.o2 neighbor.\n",
      "[16:51:40] 4ock_ligand: warning - O.co2 with non C.2 or S.o2 neighbor.\n",
      "[16:51:40] 3ewu_ligand: warning - O.co2 with non C.2 or S.o2 neighbor.\n",
      "[16:51:40] 1me7_ligand: warning - O.co2 with non C.2 or S.o2 neighbor.\n",
      "[16:51:40] 2qm7_ligand: warning - O.co2 with non C.2 or S.o2 neighbor.\n",
      "RDKit WARNING: [16:51:40] 1ent_ligand: warning - O.co2 with non C.2 or S.o2 neighbor.\n",
      "RDKit WARNING: [16:51:40] 1yon_ligand: warning - O.co2 with non C.2 or S.o2 neighbor.\n",
      "[16:51:40] 3pjt_ligand: warning - O.co2 with non C.2 or S.o2 neighbor.\n",
      "[16:51:40] 1ent_ligand: warning - O.co2 with non C.2 or S.o2 neighbor.\n",
      "[16:51:40] 1yon_ligand: warning - O.co2 with non C.2 or S.o2 neighbor.\n",
      "RDKit WARNING: [16:51:40] 3zju_ligand: warning - O.co2 with non C.2 or S.o2 neighbor.\n",
      "[16:51:40] 3zju_ligand: warning - O.co2 with non C.2 or S.o2 neighbor.\n",
      "RDKit WARNING: [16:51:40] 2v0c_ligand: warning - O.co2 with non C.2 or S.o2 neighbor.\n",
      "RDKit WARNING: [16:51:40] 4yp1_ligand: warning - O.co2 with non C.2 or S.o2 neighbor.\n",
      "RDKit WARNING: [16:51:40] 3k41_ligand: warning - O.co2 with non C.2 or S.o2 neighbor.\n",
      "[16:51:40] 2v0c_ligand: warning - O.co2 with non C.2 or S.o2 neighbor.\n",
      "[16:51:40] 4yp1_ligand: warning - O.co2 with non C.2 or S.o2 neighbor.\n",
      "[16:51:40] 3k41_ligand: warning - O.co2 with non C.2 or S.o2 neighbor.\n",
      "RDKit WARNING: [16:51:40] 2wl5_ligand: warning - O.co2 with non C.2 or S.o2 neighbor.\n",
      "RDKit WARNING: [16:51:40] 1ru2_ligand: warning - O.co2 with non C.2 or S.o2 neighbor.\n",
      "[16:51:40] 2wl5_ligand: warning - O.co2 with non C.2 or S.o2 neighbor.\n",
      "[16:51:40] 1ru2_ligand: warning - O.co2 with non C.2 or S.o2 neighbor.\n",
      "RDKit WARNING: [16:51:40] Warning - O.co2 with degree >1.\n",
      "RDKit WARNING: [16:51:40] 4k5m_ligand: warning - O.co2 with non C.2 or S.o2 neighbor.\n",
      "[16:51:40] Warning - O.co2 with degree >1.\n",
      "[16:51:40] 4k5m_ligand: warning - O.co2 with non C.2 or S.o2 neighbor.\n",
      "RDKit WARNING: [16:51:40] 3tsd_ligand: warning - O.co2 with non C.2 or S.o2 neighbor.\n",
      "[16:51:40] 3tsd_ligand: warning - O.co2 with non C.2 or S.o2 neighbor.\n",
      "RDKit WARNING: [16:51:41] 1w2h_ligand: warning - O.co2 with non C.2 or S.o2 neighbor.\n",
      "[16:51:41] 1w2h_ligand: warning - O.co2 with non C.2 or S.o2 neighbor.\n",
      "RDKit ERROR: [16:51:41] Explicit valence for atom # 3 N, 4, is greater than permitted\n",
      "RDKit WARNING: [16:51:41] 1tys_ligand: warning - O.co2 with non C.2 or S.o2 neighbor.\n",
      "[16:51:41] Explicit valence for atom # 3 N, 4, is greater than permitted\n",
      "[16:51:41] 1tys_ligand: warning - O.co2 with non C.2 or S.o2 neighbor.\n",
      "RDKit WARNING: [16:51:41] 6sy7_ligand: warning - O.co2 with non C.2 or S.o2 neighbor.\n",
      "[16:51:41] 6sy7_ligand: warning - O.co2 with non C.2 or S.o2 neighbor.\n",
      "RDKit WARNING: [16:51:41] 2ja3_ligand: warning - O.co2 with non C.2 or S.o2 neighbor.\n",
      "RDKit WARNING: [16:51:41] 3evc_ligand: warning - O.co2 with non C.2 or S.o2 neighbor.\n",
      "[16:51:41] 2ja3_ligand: warning - O.co2 with non C.2 or S.o2 neighbor.\n",
      "RDKit WARNING: [16:51:41] 6gpb_ligand: warning - O.co2 with non C.2 or S.o2 neighbor.\n",
      "RDKit WARNING: [16:51:41] 4dhq_ligand: warning - O.co2 with non C.2 or S.o2 neighbor.\n",
      "RDKit WARNING: [16:51:41] 2wuu_ligand: warning - O.co2 with non C.2 or S.o2 neighbor.\n",
      "[16:51:41] 3evc_ligand: warning - O.co2 with non C.2 or S.o2 neighbor.\n",
      "[16:51:41] 6gpb_ligand: warning - O.co2 with non C.2 or S.o2 neighbor.\n",
      "[16:51:41] 4dhq_ligand: warning - O.co2 with non C.2 or S.o2 neighbor.\n",
      "[16:51:41] 2wuu_ligand: warning - O.co2 with non C.2 or S.o2 neighbor.\n",
      "RDKit WARNING: [16:51:41] 2ork_ligand: warning - O.co2 with non C.2 or S.o2 neighbor.\n",
      "RDKit WARNING: [16:51:41] 4rad_ligand: warning - O.co2 with non C.2 or S.o2 neighbor.\n",
      "RDKit WARNING: [16:51:41] 6dd1_ligand: warning - O.co2 with non C.2 or S.o2 neighbor.\n",
      "RDKit WARNING: [16:51:41] 4s3f_ligand: warning - O.co2 with non C.2 or S.o2 neighbor.\n",
      "RDKit WARNING: [16:51:41] 5y62_ligand: warning - O.co2 with non C.2 or S.o2 neighbor.\n",
      "[16:51:41] 2ork_ligand: warning - O.co2 with non C.2 or S.o2 neighbor.\n",
      "[16:51:41] 4rad_ligand: warning - O.co2 with non C.2 or S.o2 neighbor.\n",
      "[16:51:41] 6dd1_ligand: warning - O.co2 with non C.2 or S.o2 neighbor.\n",
      "[16:51:41] 4s3f_ligand: warning - O.co2 with non C.2 or S.o2 neighbor.\n",
      "[16:51:41] 5y62_ligand: warning - O.co2 with non C.2 or S.o2 neighbor.\n",
      "RDKit WARNING: [16:51:41] 4m7y_ligand: warning - O.co2 with non C.2 or S.o2 neighbor.\n",
      "[16:51:41] 4m7y_ligand: warning - O.co2 with non C.2 or S.o2 neighbor.\n",
      "RDKit WARNING: [16:51:41] 2e9c_ligand: warning - O.co2 with non C.2 or S.o2 neighbor.\n",
      "RDKit WARNING: [16:51:41] 5osy_ligand: warning - O.co2 with non C.2 or S.o2 neighbor.\n",
      "[16:51:41] 2e9c_ligand: warning - O.co2 with non C.2 or S.o2 neighbor.\n",
      "[16:51:41] 5osy_ligand: warning - O.co2 with non C.2 or S.o2 neighbor.\n",
      "RDKit WARNING: [16:51:41] 5km0_ligand: warning - O.co2 with non C.2 or S.o2 neighbor.\n",
      "[16:51:41] 5km0_ligand: warning - O.co2 with non C.2 or S.o2 neighbor.\n",
      "RDKit ERROR: [16:51:41] Explicit valence for atom # 8 C, 5, is greater than permitted\n",
      "[16:51:41] Explicit valence for atom # 8 C, 5, is greater than permitted\n",
      "[16:51:41] sanitise [16:51:41] 2pll_ligand: [16:51:41] 5xp7_ligand: warning - O.co2 with non C.2 or S.o2 neighbor.\n",
      "RDKit WARNING: [16:51:41] sanitise [16:51:41] 2pll_ligand: [16:51:41] 5xp7_ligand: warning - O.co2 with non C.2 or S.o2 neighbor.\n",
      "RDKit WARNING: [16:51:41] 5niy_ligand: warning - O.co2 with non C.2 or S.o2 neighbor.\n",
      "RDKit WARNING: [16:51:41] 1pyg_ligand: warning - O.co2 with non C.2 or S.o2 neighbor.\n",
      "RDKit WARNING: [16:51:41] 3dxg_ligand: warning - O.co2 with non C.2 or S.o2 neighbor.\n"
     ]
    },
    {
     "name": "stdout",
     "output_type": "stream",
     "text": [
      "Not RDKit parsable\n"
     ]
    },
    {
     "name": "stderr",
     "output_type": "stream",
     "text": [
      "[16:51:41] 5niy_ligand: warning - O.co2 with non C.2 or S.o2 neighbor.\n",
      "RDKit WARNING: [16:51:41] 4l2x_ligand: warning - O.co2 with non C.2 or S.o2 neighbor.\n",
      "[16:51:41] 1pyg_ligand: warning - O.co2 with non C.2 or S.o2 neighbor.\n",
      "[16:51:41] 3dxg_ligand: warning - O.co2 with non C.2 or S.o2 neighbor.\n",
      "[16:51:41] 4l2x_ligand: warning - O.co2 with non C.2 or S.o2 neighbor.\n",
      "RDKit WARNING: [16:51:41] 4umj_ligand: warning - O.co2 with non C.2 or S.o2 neighbor.\n",
      "[16:51:41] 4umj_ligand: warning - O.co2 with non C.2 or S.o2 neighbor.\n",
      "RDKit WARNING: [16:51:41] 3kc0_ligand: warning - O.co2 with non C.2 or S.o2 neighbor.\n",
      "[16:51:41] 3kc0_ligand: warning - O.co2 with non C.2 or S.o2 neighbor.\n",
      "[16:51:41] 1lqf_ligand: warning - O.co2 with non C.2 or S.o2 neighbor.\n",
      "RDKit WARNING: [16:51:41] 1lqf_ligand: warning - O.co2 with non C.2 or S.o2 neighbor.\n",
      "RDKit WARNING: [16:51:41] 4p4j_ligand: warning - O.co2 with non C.2 or S.o2 neighbor.\n",
      "[16:51:41] 4p4j_ligand: warning - O.co2 with non C.2 or S.o2 neighbor.\n",
      "RDKit WARNING: [16:51:41] 3eu5_ligand: warning - O.co2 with non C.2 or S.o2 neighbor.\n",
      "RDKit WARNING: [16:51:41] 4u82_ligand: warning - O.co2 with non C.2 or S.o2 neighbor.\n",
      "RDKit WARNING: [16:51:41] 4dht_ligand: warning - O.co2 with non C.2 or S.o2 neighbor.\n",
      "[16:51:41] 3eu5_ligand: warning - O.co2 with non C.2 or S.o2 neighbor.\n",
      "[16:51:41] 4u82_ligand: warning - O.co2 with non C.2 or S.o2 neighbor.\n",
      "[16:51:41] 4dht_ligand: warning - O.co2 with non C.2 or S.o2 neighbor.\n",
      "RDKit WARNING: [16:51:41] 2za3_ligand: warning - O.co2 with non C.2 or S.o2 neighbor.\n",
      "[16:51:41] 2za3_ligand: warning - O.co2 with non C.2 or S.o2 neighbor.\n",
      "RDKit WARNING: [16:51:41] 1ml1_ligand: warning - O.co2 with non C.2 or S.o2 neighbor.\n",
      "[16:51:41] 1ml1_ligand: warning - O.co2 with non C.2 or S.o2 neighbor.\n",
      "RDKit WARNING: [16:51:41] 5ogk_ligand: warning - O.co2 with non C.2 or S.o2 neighbor.\n",
      "RDKit WARNING: [16:51:41] 5knr_ligand: warning - O.co2 with non C.2 or S.o2 neighbor.\n",
      "RDKit WARNING: [16:51:41] 4jit_ligand: warning - O.co2 with non C.2 or S.o2 neighbor.\n",
      "[16:51:41] 5ogk_ligand: warning - O.co2 with non C.2 or S.o2 neighbor.\n",
      "[16:51:41] 5knr_ligand: warning - O.co2 with non C.2 or S.o2 neighbor.\n",
      "RDKit WARNING: [16:51:41] 4li0_ligand: warning - O.co2 with non C.2 or S.o2 neighbor.\n",
      "[16:51:41] 4jit_ligand: warning - O.co2 with non C.2 or S.o2 neighbor.\n",
      "[16:51:41] 4li0_ligand: warning - O.co2 with non C.2 or S.o2 neighbor.\n",
      "RDKit WARNING: [16:51:41] 4p45_ligand: warning - O.co2 with non C.2 or S.o2 neighbor.\n",
      "[16:51:41] 4p45_ligand: warning - O.co2 with non C.2 or S.o2 neighbor.\n",
      "RDKit WARNING: [16:51:41] 2cmc_ligand: warning - O.co2 with non C.2 or S.o2 neighbor.\n",
      "[16:51:41] 2cmc_ligand: warning - O.co2 with non C.2 or S.o2 neighbor.\n",
      "RDKit WARNING: [16:51:41] 4kby_ligand: warning - O.co2 with non C.2 or S.o2 neighbor.\n",
      "[16:51:41] 4kby_ligand: warning - O.co2 with non C.2 or S.o2 neighbor.\n",
      "RDKit WARNING: [16:51:41] 5ey9_ligand: warning - O.co2 with non C.2 or S.o2 neighbor.\n",
      "RDKit WARNING: [16:51:41] 4ge5_ligand: warning - O.co2 with non C.2 or S.o2 neighbor.\n",
      "[16:51:41] 5ey9_ligand: warning - O.co2 with non C.2 or S.o2 neighbor.\n",
      "[16:51:41] 4ge5_ligand: warning - O.co2 with non C.2 or S.o2 neighbor.\n",
      "RDKit ERROR: [16:51:41] Explicit valence for atom # 36 C, 5, is greater than permitted\n",
      "[16:51:41] Explicit valence for atom # 36 C, 5, is greater than permitted\n",
      "RDKit WARNING: [16:51:41] sanitise [16:51:41] 3zp9_ligand: [16:51:41] 1yid_ligand: warning - O.co2 with non C.2 or S.o2 neighbor.\n",
      "[16:51:41] sanitise [16:51:41] 3zp9_ligand: [16:51:41] 1yid_ligand: warning - O.co2 with non C.2 or S.o2 neighbor.\n",
      "RDKit WARNING: [16:51:41] 5xbt_ligand: warning - O.co2 with non C.2 or S.o2 neighbor.\n",
      "RDKit WARNING: [16:51:41] 4p5e_ligand: warning - O.co2 with non C.2 or S.o2 neighbor.\n",
      "[16:51:41] 5xbt_ligand: warning - O.co2 with non C.2 or S.o2 neighbor.\n",
      "[16:51:41] 4p5e_ligand: warning - O.co2 with non C.2 or S.o2 neighbor.\n",
      "RDKit WARNING: [16:51:41] 3t4n_ligand: warning - O.co2 with non C.2 or S.o2 neighbor.\n",
      "[16:51:41] 3t4n_ligand: warning - O.co2 with non C.2 or S.o2 neighbor.\n",
      "RDKit WARNING: [16:51:41] 4p4d_ligand: warning - O.co2 with non C.2 or S.o2 neighbor.\n",
      "[16:51:41] 4p4d_ligand: warning - O.co2 with non C.2 or S.o2 neighbor.\n",
      "RDKit WARNING: [16:51:41] 3zy5_ligand: warning - O.co2 with non C.2 or S.o2 neighbor.\n",
      "RDKit WARNING: [16:51:41] 6mmo_ligand: warning - O.co2 with non C.2 or S.o2 neighbor.\n",
      "RDKit WARNING: [16:51:41] 4wf2_ligand: warning - O.co2 with non C.2 or S.o2 neighbor.\n",
      "RDKit WARNING: [16:51:41] 1h2u_ligand: warning - O.co2 with non C.2 or S.o2 neighbor.\n",
      "RDKit WARNING: [16:51:41] 5hh6_ligand: warning - O.co2 with non C.2 or S.o2 neighbor.\n",
      "[16:51:41] 3zy5_ligand: warning - O.co2 with non C.2 or S.o2 neighbor.\n",
      "[16:51:41] 6mmo_ligand: warning - O.co2 with non C.2 or S.o2 neighbor.\n",
      "[16:51:41] 4wf2_ligand: warning - O.co2 with non C.2 or S.o2 neighbor.\n",
      "[16:51:41] 1h2u_ligand: warning - O.co2 with non C.2 or S.o2 neighbor.\n",
      "RDKit WARNING: [16:51:41] 4uxj_ligand: warning - O.co2 with non C.2 or S.o2 neighbor.\n",
      "[16:51:41] 5hh6_ligand: warning - O.co2 with non C.2 or S.o2 neighbor.\n",
      "[16:51:41] 4uxj_ligand: warning - O.co2 with non C.2 or S.o2 neighbor.\n",
      "RDKit WARNING: [16:51:41] 5kk8_ligand: warning - O.co2 with non C.2 or S.o2 neighbor.\n",
      "RDKit WARNING: [16:51:41] 6fcl_ligand: warning - O.co2 with non C.2 or S.o2 neighbor.\n",
      "[16:51:41] 5kk8_ligand: warning - O.co2 with non C.2 or S.o2 neighbor.\n",
      "[16:51:41] 6fcl_ligand: warning - O.co2 with non C.2 or S.o2 neighbor.\n",
      "RDKit WARNING: [16:51:41] 2hr6_ligand: warning - O.co2 with non C.2 or S.o2 neighbor.\n",
      "RDKit WARNING: [16:51:41] 4u0s_ligand: warning - O.co2 with non C.2 or S.o2 neighbor.\n",
      "[16:51:41] 2hr6_ligand: warning - O.co2 with non C.2 or S.o2 neighbor.\n",
      "[16:51:41] 4u0s_ligand: warning - O.co2 with non C.2 or S.o2 neighbor.\n",
      "RDKit WARNING: [16:51:41] 8gpb_ligand: warning - O.co2 with non C.2 or S.o2 neighbor.\n",
      "[16:51:41] 8gpb_ligand: warning - O.co2 with non C.2 or S.o2 neighbor.\n",
      "RDKit WARNING: [16:51:41] 3s9y_ligand: warning - O.co2 with non C.2 or S.o2 neighbor.\n",
      "RDKit WARNING: [16:51:41] 2k4i_ligand: warning - O.co2 with non C.2 or S.o2 neighbor.\n",
      "[16:51:41] 3s9y_ligand: warning - O.co2 with non C.2 or S.o2 neighbor.\n",
      "[16:51:41] 2k4i_ligand: warning - O.co2 with non C.2 or S.o2 neighbor.\n",
      "RDKit WARNING: [16:51:41] 3wcb_ligand: warning - O.co2 with non C.2 or S.o2 neighbor.\n",
      "[16:51:41] 3wcb_ligand: warning - O.co2 with non C.2 or S.o2 neighbor.\n",
      "RDKit WARNING: [16:51:41] 3ntp_ligand: warning - O.co2 with non C.2 or S.o2 neighbor.\n",
      "RDKit WARNING: [16:51:41] 3exf_ligand: warning - O.co2 with non C.2 or S.o2 neighbor.\n",
      "[16:51:41] 3ntp_ligand: warning - O.co2 with non C.2 or S.o2 neighbor.\n",
      "[16:51:41] 3exf_ligand: warning - O.co2 with non C.2 or S.o2 neighbor.\n",
      "RDKit WARNING: [16:51:41] 5y6f_ligand: warning - O.co2 with non C.2 or S.o2 neighbor.\n",
      "[16:51:41] 5y6f_ligand: warning - O.co2 with non C.2 or S.o2 neighbor.\n",
      "RDKit WARNING: [16:51:41] 2vhq_ligand: warning - O.co2 with non C.2 or S.o2 neighbor.\n",
      "[16:51:41] 2vhq_ligand: warning - O.co2 with non C.2 or S.o2 neighbor.\n",
      "RDKit WARNING: [16:51:41] 2g83_ligand: warning - O.co2 with non C.2 or S.o2 neighbor.\n",
      "[16:51:41] 2g83_ligand: warning - O.co2 with non C.2 or S.o2 neighbor.\n",
      "RDKit WARNING: [16:51:41] 1p6d_ligand: warning - O.co2 with non C.2 or S.o2 neighbor.\n",
      "[16:51:41] 1p6d_ligand: warning - O.co2 with non C.2 or S.o2 neighbor.\n",
      "RDKit WARNING: [16:51:41] 5vdo_ligand: warning - O.co2 with non C.2 or S.o2 neighbor.\n",
      "[16:51:41] 5vdo_ligand: warning - O.co2 with non C.2 or S.o2 neighbor.\n",
      "RDKit WARNING: [16:51:41] 4dhu_ligand: warning - O.co2 with non C.2 or S.o2 neighbor.\n",
      "[16:51:41] 4dhu_ligand: warning - O.co2 with non C.2 or S.o2 neighbor.\n",
      "RDKit WARNING: [16:51:41] 3ctr_ligand: warning - O.co2 with non C.2 or S.o2 neighbor.\n",
      "RDKit WARNING: [16:51:41] 1lvc_ligand: warning - O.co2 with non C.2 or S.o2 neighbor.\n",
      "[16:51:41] 3ctr_ligand: warning - O.co2 with non C.2 or S.o2 neighbor.\n",
      "[16:51:41] 1lvc_ligand: warning - O.co2 with non C.2 or S.o2 neighbor.\n",
      "RDKit WARNING: [16:51:41] 3evf_ligand: warning - O.co2 with non C.2 or S.o2 neighbor.\n",
      "[16:51:41] 3evf_ligand: warning - O.co2 with non C.2 or S.o2 neighbor.\n",
      "RDKit WARNING: [16:51:41] 5hh4_ligand: warning - O.co2 with non C.2 or S.o2 neighbor.\n",
      "[16:51:41] 5hh4_ligand: warning - O.co2 with non C.2 or S.o2 neighbor.\n",
      "RDKit WARNING: [16:51:41] 2gej_ligand: warning - O.co2 with non C.2 or S.o2 neighbor.\n",
      "[16:51:41] 2gej_ligand: warning - O.co2 with non C.2 or S.o2 neighbor.\n",
      "RDKit WARNING: [16:51:41] 4raq_ligand: warning - O.co2 with non C.2 or S.o2 neighbor.\n",
      "RDKit WARNING: [16:51:41] 4zed_ligand: warning - O.co2 with non C.2 or S.o2 neighbor.\n",
      "RDKit WARNING: [16:51:41] 1ppw_ligand: warning - O.co2 with non C.2 or S.o2 neighbor.\n",
      "[16:51:41] 4raq_ligand: warning - O.co2 with non C.2 or S.o2 neighbor.\n",
      "[16:51:41] 4zed_ligand: warning - O.co2 with non C.2 or S.o2 neighbor.\n",
      "[16:51:41] 1ppw_ligand: warning - O.co2 with non C.2 or S.o2 neighbor.\n",
      "RDKit WARNING: [16:51:41] 5WAC_LIGAND: warning - O.co2 with non C.2 or S.o2 neighbor.\n",
      "[16:51:41] 5WAC_LIGAND: warning - O.co2 with non C.2 or S.o2 neighbor.\n",
      "[16:51:41] 1o42_ligand: warning - O.co2 with non C.2 or S.o2 neighbor.\n",
      "RDKit WARNING: [16:51:41] 1o42_ligand: warning - O.co2 with non C.2 or S.o2 neighbor.\n",
      "RDKit WARNING: [16:51:41] 1q6m_ligand: warning - O.co2 with non C.2 or S.o2 neighbor.\n",
      "RDKit WARNING: [16:51:41] 1x0n_ligand: warning - O.co2 with non C.2 or S.o2 neighbor.\n",
      "[16:51:41] 1q6m_ligand: warning - O.co2 with non C.2 or S.o2 neighbor.\n",
      "RDKit WARNING: [16:51:41] 4tmf_ligand: warning - O.co2 with non C.2 or S.o2 neighbor.\n",
      "[16:51:41] 1x0n_ligand: warning - O.co2 with non C.2 or S.o2 neighbor.\n",
      "[16:51:41] 4tmf_ligand: warning - O.co2 with non C.2 or S.o2 neighbor.\n",
      "RDKit WARNING: [16:51:41] 3fk1_ligand: warning - O.co2 with non C.2 or S.o2 neighbor.\n",
      "[16:51:41] 3fk1_ligand: warning - O.co2 with non C.2 or S.o2 neighbor.\n",
      "RDKit ERROR: [16:51:41] Can't kekulize mol.  Unkekulized atoms: 0 1 3 4 5 6 8 9 10\n",
      "[16:51:41] Can't kekulize mol.  Unkekulized atoms: 0 1 3 4 5 6 8 9 10\n",
      "\n",
      "RDKit ERROR: \n",
      "RDKit WARNING: [16:51:41] sanitise [16:51:41] 3lp2_ligand: [16:51:41] 1lrt_ligand: warning - O.co2 with non C.2 or S.o2 neighbor.\n",
      "[16:51:41] sanitise [16:51:41] 3lp2_ligand: [16:51:41] 1lrt_ligand: warning - O.co2 with non C.2 or S.o2 neighbor.\n",
      "[16:51:41] 2fgh_ligand: warning - O.co2 with non C.2 or S.o2 neighbor.\n",
      "RDKit WARNING: [16:51:41] 2fgh_ligand: warning - O.co2 with non C.2 or S.o2 neighbor.\n",
      "RDKit WARNING: [16:51:41] 3pjg_ligand: warning - O.co2 with non C.2 or S.o2 neighbor.\n",
      "RDKit WARNING: [16:51:41] 3ggj_ligand: warning - O.co2 with non C.2 or S.o2 neighbor.\n",
      "RDKit ERROR: [16:51:41] Can't kekulize mol.  Unkekulized atoms: 20 21 22 23 24\n",
      "RDKit ERROR: \n",
      "RDKit WARNING: [16:51:41] sanitise [16:51:41] 5lwe_ligand: [16:51:41] 6n7y_ligand: warning - O.co2 with non C.2 or S.o2 neighbor.\n",
      "RDKit WARNING: [16:51:41] 1puq_ligand: warning - O.co2 with non C.2 or S.o2 neighbor.\n",
      "RDKit WARNING: [16:51:41] 6aqo_ligand: warning - O.co2 with non C.2 or S.o2 neighbor.\n",
      "RDKit WARNING: [16:51:41] 5ygi_ligand: warning - O.co2 with non C.2 or S.o2 neighbor.\n",
      "[16:51:41] 3pjg_ligand: warning - O.co2 with non C.2 or S.o2 neighbor.\n",
      "RDKit WARNING: [16:51:41] 2pj0_ligand: warning - O.co2 with non C.2 or S.o2 neighbor.\n",
      "RDKit WARNING: [16:51:41] 4ge2_ligand: warning - O.co2 with non C.2 or S.o2 neighbor.\n",
      "[16:51:41] 3ggj_ligand: warning - O.co2 with non C.2 or S.o2 neighbor.\n",
      "[16:51:41] Can't kekulize mol.  Unkekulized atoms: 20 21 22 23 24\n",
      "\n",
      "[16:51:41] sanitise [16:51:41] 5lwe_ligand: [16:51:41] 6n7y_ligand: warning - O.co2 with non C.2 or S.o2 neighbor.\n",
      "[16:51:41] 1puq_ligand: warning - O.co2 with non C.2 or S.o2 neighbor.\n",
      "[16:51:41] 6aqo_ligand: warning - O.co2 with non C.2 or S.o2 neighbor.\n",
      "[16:51:41] 5ygi_ligand: warning - O.co2 with non C.2 or S.o2 neighbor.\n",
      "[16:51:41] 2pj0_ligand: warning - O.co2 with non C.2 or S.o2 neighbor.\n",
      "[16:51:41] 4ge2_ligand: warning - O.co2 with non C.2 or S.o2 neighbor.\n",
      "RDKit WARNING: [16:51:41] 6ia7_ligand: warning - O.co2 with non C.2 or S.o2 neighbor.\n",
      "[16:51:41] 6ia7_ligand: warning - O.co2 with non C.2 or S.o2 neighbor.\n",
      "RDKit WARNING: [16:51:41] 3ay9_ligand: warning - O.co2 with non C.2 or S.o2 neighbor.\n",
      "RDKit WARNING: [16:51:41] 3fsj_ligand: warning - O.co2 with non C.2 or S.o2 neighbor.\n",
      "RDKit WARNING: [16:51:41] 1z6d_ligand: warning - O.co2 with non C.2 or S.o2 neighbor.\n",
      "RDKit WARNING: [16:51:41] 3dnt_ligand: warning - O.co2 with non C.2 or S.o2 neighbor.\n",
      "[16:51:41] 3ay9_ligand: warning - O.co2 with non C.2 or S.o2 neighbor.\n",
      "[16:51:41] 3fsj_ligand: warning - O.co2 with non C.2 or S.o2 neighbor.\n",
      "[16:51:41] 1z6d_ligand: warning - O.co2 with non C.2 or S.o2 neighbor.\n",
      "[16:51:41] 3dnt_ligand: warning - O.co2 with non C.2 or S.o2 neighbor.\n",
      "RDKit WARNING: [16:51:41] 5f1c_ligand: warning - O.co2 with non C.2 or S.o2 neighbor.\n",
      "RDKit WARNING: [16:51:41] 4uvc_ligand: warning - O.co2 with non C.2 or S.o2 neighbor.\n",
      "RDKit WARNING: [16:51:41] 1xsc_ligand: warning - O.co2 with non C.2 or S.o2 neighbor.\n",
      "RDKit WARNING: [16:51:41] 1o4k_ligand: warning - O.co2 with non C.2 or S.o2 neighbor.\n",
      "RDKit WARNING: [16:51:41] 4emt_ligand: warning - O.co2 with non C.2 or S.o2 neighbor.\n",
      "[16:51:41] 5f1c_ligand: warning - O.co2 with non C.2 or S.o2 neighbor.\n",
      "[16:51:41] 4uvc_ligand: warning - O.co2 with non C.2 or S.o2 neighbor.\n",
      "RDKit WARNING: [16:51:41] 3muf_ligand: warning - O.co2 with non C.2 or S.o2 neighbor.\n",
      "[16:51:41] 1xsc_ligand: warning - O.co2 with non C.2 or S.o2 neighbor.\n",
      "[16:51:41] 1o4k_ligand: warning - O.co2 with non C.2 or S.o2 neighbor.\n",
      "[16:51:41] 4emt_ligand: warning - O.co2 with non C.2 or S.o2 neighbor.\n",
      "RDKit WARNING: [16:51:41] 3a29_ligand: warning - O.co2 with non C.2 or S.o2 neighbor.\n",
      "[16:51:41] 3muf_ligand: warning - O.co2 with non C.2 or S.o2 neighbor.\n",
      "[16:51:41] 3a29_ligand: warning - O.co2 with non C.2 or S.o2 neighbor.\n",
      "[16:51:41] 1hiy_ligand: warning - O.co2 with non C.2 or S.o2 neighbor.\n",
      "RDKit WARNING: [16:51:41] 1hiy_ligand: warning - O.co2 with non C.2 or S.o2 neighbor.\n",
      "RDKit WARNING: [16:51:41] 5ybi_ligand: warning - O.co2 with non C.2 or S.o2 neighbor.\n",
      "RDKit ERROR: [16:51:41] Can't kekulize mol.  Unkekulized atoms: 4 5 6 7 8 9 14 15 16 17 18 19 20 21 22 23 24\n",
      "RDKit ERROR: \n",
      "[16:51:41] 5ybi_ligand: warning - O.co2 with non C.2 or S.o2 neighbor.\n",
      "RDKit ERROR: [16:51:41] Explicit valence for atom # 12 C, 5, is greater than permitted\n",
      "[16:51:41] Can't kekulize mol.  Unkekulized atoms: 4 5 6 7 8 9 14 15 16 17 18 19 20 21 22 23 24\n",
      "\n",
      "[16:51:41] Explicit valence for atom # 12 C, 5, is greater than permitted\n",
      "RDKit WARNING: [16:51:41] sanitise [16:51:41] 3kck_ligand: [16:51:41] sanitise [16:51:41] 3fxz_ligand: [16:51:41] 4h4e_ligand: warning - O.co2 with non C.2 or S.o2 neighbor.\n",
      "RDKit WARNING: [16:51:41] 1onp_ligand: warning - O.co2 with non C.2 or S.o2 neighbor.\n",
      "[16:51:41] sanitise [16:51:41] 3kck_ligand: [16:51:41] sanitise [16:51:41] 3fxz_ligand: [16:51:41] 4h4e_ligand: warning - O.co2 with non C.2 or S.o2 neighbor.\n",
      "RDKit WARNING: [16:51:41] 6g2n_ligand: warning - O.co2 with non C.2 or S.o2 neighbor.\n",
      "[16:51:41] 1onp_ligand: warning - O.co2 with non C.2 or S.o2 neighbor.\n",
      "[16:51:41] 6g2n_ligand: warning - O.co2 with non C.2 or S.o2 neighbor.\n",
      "RDKit WARNING: [16:51:41] 4rxe_ligand: warning - O.co2 with non C.2 or S.o2 neighbor.\n",
      "[16:51:41] 4rxe_ligand: warning - O.co2 with non C.2 or S.o2 neighbor.\n",
      "RDKit WARNING: [16:51:41] 5kbf_ligand: warning - O.co2 with non C.2 or S.o2 neighbor.\n",
      "[16:51:41] 5kbf_ligand: warning - O.co2 with non C.2 or S.o2 neighbor.\n",
      "RDKit WARNING: [16:51:41] 6enx_ligand: warning - O.co2 with non C.2 or S.o2 neighbor.\n",
      "RDKit WARNING: [16:51:41] 1ct8_ligand: warning - O.co2 with non C.2 or S.o2 neighbor.\n",
      "RDKit WARNING: [16:51:41] 5kns_ligand: warning - O.co2 with non C.2 or S.o2 neighbor.\n",
      "RDKit WARNING: [16:51:42] 2pri_ligand: warning - O.co2 with non C.2 or S.o2 neighbor.\n",
      "[16:51:41] 6enx_ligand: warning - O.co2 with non C.2 or S.o2 neighbor.\n",
      "[16:51:41] 1ct8_ligand: warning - O.co2 with non C.2 or S.o2 neighbor.\n",
      "[16:51:41] 5kns_ligand: warning - O.co2 with non C.2 or S.o2 neighbor.\n",
      "RDKit WARNING: [16:51:42] 5mi3_ligand: warning - O.co2 with non C.2 or S.o2 neighbor.\n",
      "RDKit WARNING: [16:51:42] 1ru1_ligand: warning - O.co2 with non C.2 or S.o2 neighbor.\n",
      "RDKit WARNING: [16:51:42] 6mlf_ligand: warning - O.co2 with non C.2 or S.o2 neighbor.\n",
      "RDKit WARNING: [16:51:42] 4p02_ligand: warning - O.co2 with non C.2 or S.o2 neighbor.\n",
      "RDKit WARNING: [16:51:42] 6pvu_ligand: Warning - no explicit hydrogens in mol2 file but needed for formal charge estimation.\n",
      "RDKit WARNING: [16:51:42] 6pvu_ligand: warning - O.co2 with non C.2 or S.o2 neighbor.\n",
      "RDKit WARNING: [16:51:42] 1los_ligand: warning - O.co2 with non C.2 or S.o2 neighbor.\n",
      "RDKit WARNING: [16:51:42] 6k4r_ligand: warning - O.co2 with non C.2 or S.o2 neighbor.\n",
      "RDKit WARNING: [16:51:42] 4dpt_ligand: warning - O.co2 with non C.2 or S.o2 neighbor.\n",
      "[16:51:42] 2pri_ligand: warning - O.co2 with non C.2 or S.o2 neighbor.\n",
      "[16:51:42] 5mi3_ligand: warning - O.co2 with non C.2 or S.o2 neighbor.\n",
      "[16:51:42] 1ru1_ligand: warning - O.co2 with non C.2 or S.o2 neighbor.\n",
      "[16:51:42] 6mlf_ligand: warning - O.co2 with non C.2 or S.o2 neighbor.\n",
      "[16:51:42] 4p02_ligand: warning - O.co2 with non C.2 or S.o2 neighbor.\n",
      "[16:51:42] 6pvu_ligand: Warning - no explicit hydrogens in mol2 file but needed for formal charge estimation.\n",
      "[16:51:42] 6pvu_ligand: warning - O.co2 with non C.2 or S.o2 neighbor.\n",
      "[16:51:42] 1los_ligand: warning - O.co2 with non C.2 or S.o2 neighbor.\n",
      "[16:51:42] 6k4r_ligand: warning - O.co2 with non C.2 or S.o2 neighbor.\n",
      "[16:51:42] 4dpt_ligand: warning - O.co2 with non C.2 or S.o2 neighbor.\n",
      "RDKit WARNING: [16:51:42] 5jo0_ligand: warning - O.co2 with non C.2 or S.o2 neighbor.\n",
      "[16:51:42] 5jo0_ligand: warning - O.co2 with non C.2 or S.o2 neighbor.\n",
      "RDKit WARNING: [16:51:42] 2a29_ligand: warning - O.co2 with non C.2 or S.o2 neighbor.\n",
      "[16:51:42] 2a29_ligand: warning - O.co2 with non C.2 or S.o2 neighbor.\n",
      "RDKit WARNING: [16:51:42] 6mi6_ligand: warning - O.co2 with non C.2 or S.o2 neighbor.\n",
      "[16:51:42] 6mi6_ligand: warning - O.co2 with non C.2 or S.o2 neighbor.\n",
      "RDKit WARNING: [16:51:42] 6hgz_ligand: warning - O.co2 with non C.2 or S.o2 neighbor.\n",
      "RDKit WARNING: [16:51:42] 1gz3_ligand: warning - O.co2 with non C.2 or S.o2 neighbor.\n",
      "[16:51:42] 6hgz_ligand: warning - O.co2 with non C.2 or S.o2 neighbor.\n",
      "RDKit WARNING: [16:51:42] 3au6_ligand: warning - O.co2 with non C.2 or S.o2 neighbor.\n",
      "RDKit ERROR: [16:51:42] Can't kekulize mol.  Unkekulized atoms: 38 39 40 41 42\n",
      "RDKit ERROR: \n",
      "RDKit WARNING: [16:51:42] sanitise [16:51:42] 5ohj_ligand: [16:51:42] 4rxc_ligand: warning - O.co2 with non C.2 or S.o2 neighbor.\n",
      "RDKit WARNING: [16:51:42] 6ipk_ligand: warning - O.co2 with non C.2 or S.o2 neighbor.\n",
      "[16:51:42] 1gz3_ligand: warning - O.co2 with non C.2 or S.o2 neighbor.\n",
      "[16:51:42] 3au6_ligand: warning - O.co2 with non C.2 or S.o2 neighbor.\n",
      "[16:51:42] Can't kekulize mol.  Unkekulized atoms: 38 39 40 41 42\n",
      "\n",
      "[16:51:42] sanitise [16:51:42] 5ohj_ligand: [16:51:42] 4rxc_ligand: warning - O.co2 with non C.2 or S.o2 neighbor.\n",
      "RDKit WARNING: [16:51:42] 2piy_ligand: warning - O.co2 with non C.2 or S.o2 neighbor.\n",
      "RDKit WARNING: [16:51:42] 5tzg_ligand: warning - O.co2 with non C.2 or S.o2 neighbor.\n",
      "[16:51:42] 6ipk_ligand: warning - O.co2 with non C.2 or S.o2 neighbor.\n",
      "[16:51:42] 2piy_ligand: warning - O.co2 with non C.2 or S.o2 neighbor.\n",
      "RDKit ERROR: [16:51:42] Explicit valence for atom # 15 C, 5, is greater than permitted\n",
      "[16:51:42] 5tzg_ligand: warning - O.co2 with non C.2 or S.o2 neighbor.\n",
      "[16:51:42] Explicit valence for atom # 15 C, 5, is greater than permitted\n",
      "RDKit WARNING: [16:51:42] sanitise [16:51:42] 4i60_ligand: [16:51:42] 4lq3_ligand: warning - O.co2 with non C.2 or S.o2 neighbor.\n",
      "[16:51:42] sanitise [16:51:42] 4i60_ligand: [16:51:42] 4lq3_ligand: warning - O.co2 with non C.2 or S.o2 neighbor.\n",
      "RDKit WARNING: [16:51:42] 1njf_ligand: warning - O.co2 with non C.2 or S.o2 neighbor.\n",
      "[16:51:42] 1njf_ligand: warning - O.co2 with non C.2 or S.o2 neighbor.\n",
      "RDKit WARNING: [16:51:42] 6cv8_ligand: warning - O.co2 with non C.2 or S.o2 neighbor.\n",
      "RDKit WARNING: [16:51:42] 5kqd_ligand: warning - O.co2 with non C.2 or S.o2 neighbor.\n",
      "RDKit WARNING: [16:51:42] 4b6u_ligand: warning - O.co2 with non C.2 or S.o2 neighbor.\n",
      "RDKit WARNING: [16:51:42] 2qpj_ligand: warning - O.co2 with non C.2 or S.o2 neighbor.\n",
      "[16:51:42] 6cv8_ligand: warning - O.co2 with non C.2 or S.o2 neighbor.\n",
      "[16:51:42] 5kqd_ligand: warning - O.co2 with non C.2 or S.o2 neighbor.\n",
      "[16:51:42] 4b6u_ligand: warning - O.co2 with non C.2 or S.o2 neighbor.\n",
      "[16:51:42] 2qpj_ligand: warning - O.co2 with non C.2 or S.o2 neighbor.\n",
      "RDKit WARNING: [16:51:42] 4rxd_ligand: warning - O.co2 with non C.2 or S.o2 neighbor.\n",
      "RDKit WARNING: [16:51:42] 1t5a_ligand: Warning - no explicit hydrogens in mol2 file but needed for formal charge estimation.\n",
      "[16:51:42] 4rxd_ligand: warning - O.co2 with non C.2 or S.o2 neighbor.\n",
      "[16:51:42] 1t5a_ligand: Warning - no explicit hydrogens in mol2 file but needed for formal charge estimation.\n",
      "RDKit WARNING: [16:51:42] 4clp_ligand: warning - O.co2 with non C.2 or S.o2 neighbor.\n",
      "[16:51:42] 4clp_ligand: warning - O.co2 with non C.2 or S.o2 neighbor.\n",
      "RDKit WARNING: [16:51:42] 5g1n_ligand: warning - O.co2 with non C.2 or S.o2 neighbor.\n",
      "[16:51:42] 5g1n_ligand: warning - O.co2 with non C.2 or S.o2 neighbor.\n",
      "RDKit WARNING: [16:51:42] 5v2l_ligand: warning - O.co2 with non C.2 or S.o2 neighbor.\n",
      "RDKit WARNING: [16:51:42] 5zdd_ligand: warning - O.co2 with non C.2 or S.o2 neighbor.\n",
      "RDKit WARNING: [16:51:42] 6ntb_ligand: warning - O.co2 with non C.2 or S.o2 neighbor.\n",
      "[16:51:42] 5v2l_ligand: warning - O.co2 with non C.2 or S.o2 neighbor.\n",
      "[16:51:42] 5zdd_ligand: warning - O.co2 with non C.2 or S.o2 neighbor.\n",
      "[16:51:42] 6ntb_ligand: warning - O.co2 with non C.2 or S.o2 neighbor.\n",
      "RDKit WARNING: [16:51:42] 1azl_ligand: warning - O.co2 with non C.2 or S.o2 neighbor.\n",
      "[16:51:42] 1azl_ligand: warning - O.co2 with non C.2 or S.o2 neighbor.\n",
      "RDKit WARNING: [16:51:42] 1fpp_ligand: warning - O.co2 with non C.2 or S.o2 neighbor.\n",
      "[16:51:42] 1fpp_ligand: warning - O.co2 with non C.2 or S.o2 neighbor.\n",
      "RDKit WARNING: [16:51:42] 2y1d_ligand: warning - O.co2 with non C.2 or S.o2 neighbor.\n",
      "RDKit WARNING: [16:51:42] 3rl3_ligand: warning - O.co2 with non C.2 or S.o2 neighbor.\n",
      "RDKit WARNING: [16:51:42] 1vkj_ligand: warning - O.co2 with non C.2 or S.o2 neighbor.\n",
      "RDKit WARNING: [16:51:42] 5ofu_ligand: warning - O.co2 with non C.2 or S.o2 neighbor.\n",
      "[16:51:42] 2y1d_ligand: warning - O.co2 with non C.2 or S.o2 neighbor.\n",
      "[16:51:42] 3rl3_ligand: warning - O.co2 with non C.2 or S.o2 neighbor.\n",
      "[16:51:42] 1vkj_ligand: warning - O.co2 with non C.2 or S.o2 neighbor.\n",
      "[16:51:42] 5ofu_ligand: warning - O.co2 with non C.2 or S.o2 neighbor.\n",
      "RDKit WARNING: [16:51:42] 6n92_ligand: warning - O.co2 with non C.2 or S.o2 neighbor.\n",
      "[16:51:42] 6n92_ligand: warning - O.co2 with non C.2 or S.o2 neighbor.\n",
      "RDKit WARNING: [16:51:42] 2pj9_ligand: warning - O.co2 with non C.2 or S.o2 neighbor.\n",
      "[16:51:42] 2pj9_ligand: warning - O.co2 with non C.2 or S.o2 neighbor.\n",
      "RDKit WARNING: [16:51:42] 5o4z_ligand: warning - O.co2 with non C.2 or S.o2 neighbor.\n",
      "RDKit WARNING: [16:51:42] 6e05_ligand: warning - O.co2 with non C.2 or S.o2 neighbor.\n",
      "[16:51:42] 5o4z_ligand: warning - O.co2 with non C.2 or S.o2 neighbor.\n",
      "[16:51:42] 6e05_ligand: warning - O.co2 with non C.2 or S.o2 neighbor.\n",
      "RDKit WARNING: [16:51:42] WARNING: could not find number of expected rings. Switching to an approximate ring finding algorithm.\n",
      "RDKit ERROR: [16:51:42] Explicit valence for atom # 1 C, 6, is greater than permitted\n",
      "RDKit WARNING: [16:51:42] sanitise [16:51:42] 3vjs_ligand: [16:51:42] 4zki_ligand: warning - O.co2 with non C.2 or S.o2 neighbor.\n",
      "[16:51:42] WARNING: could not find number of expected rings. Switching to an approximate ring finding algorithm.\n",
      "RDKit WARNING: [16:51:42] 4loj_ligand: warning - O.co2 with non C.2 or S.o2 neighbor.\n",
      "RDKit WARNING: [16:51:42] 1els_ligand: warning - O.co2 with non C.2 or S.o2 neighbor.\n",
      "RDKit WARNING: [16:51:42] 5km3_ligand: warning - O.co2 with non C.2 or S.o2 neighbor.\n",
      "RDKit WARNING: [16:51:42] 4dpy_ligand: warning - O.co2 with non C.2 or S.o2 neighbor.\n",
      "[16:51:42] Explicit valence for atom # 1 C, 6, is greater than permitted\n",
      "[16:51:42] sanitise [16:51:42] 3vjs_ligand: [16:51:42] 4zki_ligand: warning - O.co2 with non C.2 or S.o2 neighbor.\n",
      "[16:51:42] 4loj_ligand: warning - O.co2 with non C.2 or S.o2 neighbor.\n",
      "[16:51:42] 1els_ligand: warning - O.co2 with non C.2 or S.o2 neighbor.\n",
      "[16:51:42] 5km3_ligand: warning - O.co2 with non C.2 or S.o2 neighbor.\n",
      "[16:51:42] 4dpy_ligand: warning - O.co2 with non C.2 or S.o2 neighbor.\n",
      "RDKit WARNING: [16:51:42] 3te5_ligand: warning - O.co2 with non C.2 or S.o2 neighbor.\n",
      "RDKit WARNING: [16:51:42] 4rt0_ligand: warning - O.co2 with non C.2 or S.o2 neighbor.\n",
      "[16:51:42] 3te5_ligand: warning - O.co2 with non C.2 or S.o2 neighbor.\n",
      "[16:51:42] 4rt0_ligand: warning - O.co2 with non C.2 or S.o2 neighbor.\n",
      "RDKit WARNING: [16:51:42] 1mj7_ligand: warning - O.co2 with non C.2 or S.o2 neighbor.\n",
      "RDKit ERROR: [16:51:42] Explicit valence for atom # 3 N, 4, is greater than permitted\n",
      "[16:51:42] 1mj7_ligand: warning - O.co2 with non C.2 or S.o2 neighbor.\n",
      "RDKit WARNING: [16:51:42] 3abt_ligand: warning - O.co2 with non C.2 or S.o2 neighbor.\n",
      "[16:51:42] Explicit valence for atom # 3 N, 4, is greater than permitted\n",
      "[16:51:42] 3abt_ligand: warning - O.co2 with non C.2 or S.o2 neighbor.\n",
      "RDKit WARNING: [16:51:42] 3bi0_ligand: warning - O.co2 with non C.2 or S.o2 neighbor.\n",
      "RDKit WARNING: [16:51:42] 3if7_ligand: warning - O.co2 with non C.2 or S.o2 neighbor.\n",
      "RDKit WARNING: [16:51:42] 3hu2_ligand: warning - O.co2 with non C.2 or S.o2 neighbor.\n",
      "[16:51:42] 3bi0_ligand: warning - O.co2 with non C.2 or S.o2 neighbor.\n",
      "[16:51:42] 3if7_ligand: warning - O.co2 with non C.2 or S.o2 neighbor.\n",
      "[16:51:42] 3hu2_ligand: warning - O.co2 with non C.2 or S.o2 neighbor.\n",
      "RDKit WARNING: [16:51:42] 4ayt_ligand: warning - O.co2 with non C.2 or S.o2 neighbor.\n",
      "[16:51:42] 4ayt_ligand: warning - O.co2 with non C.2 or S.o2 neighbor.\n",
      "RDKit WARNING: [16:51:42] 3b8h_ligand: warning - O.co2 with non C.2 or S.o2 neighbor.\n",
      "RDKit WARNING: [16:51:42] 4dho_ligand: warning - O.co2 with non C.2 or S.o2 neighbor.\n",
      "RDKit WARNING: [16:51:42] 5xw6_ligand: warning - O.co2 with non C.2 or S.o2 neighbor.\n",
      "RDKit WARNING: [16:51:42] 3kyg_ligand: warning - O.co2 with non C.2 or S.o2 neighbor.\n",
      "RDKit WARNING: [16:51:42] 1h79_ligand: warning - O.co2 with non C.2 or S.o2 neighbor.\n",
      "RDKit WARNING: [16:51:42] 5eom_ligand: warning - O.co2 with non C.2 or S.o2 neighbor.\n",
      "[16:51:42] 3b8h_ligand: warning - O.co2 with non C.2 or S.o2 neighbor.\n",
      "[16:51:42] 4dho_ligand: warning - O.co2 with non C.2 or S.o2 neighbor.\n",
      "[16:51:42] 5xw6_ligand: warning - O.co2 with non C.2 or S.o2 neighbor.\n",
      "[16:51:42] 3kyg_ligand: warning - O.co2 with non C.2 or S.o2 neighbor.\n",
      "[16:51:42] 1h79_ligand: warning - O.co2 with non C.2 or S.o2 neighbor.\n",
      "[16:51:42] 5eom_ligand: warning - O.co2 with non C.2 or S.o2 neighbor.\n",
      "RDKit WARNING: [16:51:42] 2gmk_ligand: warning - O.co2 with non C.2 or S.o2 neighbor.\n",
      "RDKit WARNING: [16:51:42] 3wyj_ligand: warning - O.co2 with non C.2 or S.o2 neighbor.\n",
      "RDKit WARNING: [16:51:42] 4fut_ligand: warning - O.co2 with non C.2 or S.o2 neighbor.\n",
      "RDKit WARNING: [16:51:42] 4p4s_ligand: warning - O.co2 with non C.2 or S.o2 neighbor.\n",
      "RDKit WARNING: [16:51:42] 5agj_ligand: warning - O.co2 with non C.2 or S.o2 neighbor.\n",
      "[16:51:42] 2gmk_ligand: warning - O.co2 with non C.2 or S.o2 neighbor.\n",
      "[16:51:42] 3wyj_ligand: warning - O.co2 with non C.2 or S.o2 neighbor.\n",
      "[16:51:42] 4fut_ligand: warning - O.co2 with non C.2 or S.o2 neighbor.\n",
      "[16:51:42] 4p4s_ligand: warning - O.co2 with non C.2 or S.o2 neighbor.\n",
      "[16:51:42] 5agj_ligand: warning - O.co2 with non C.2 or S.o2 neighbor.\n",
      "RDKit WARNING: [16:51:42] 1n0t_ligand: warning - O.co2 with non C.2 or S.o2 neighbor.\n",
      "RDKit WARNING: [16:51:42] 2lyb_ligand: warning - O.co2 with non C.2 or S.o2 neighbor.\n",
      "[16:51:42] 1n0t_ligand: warning - O.co2 with non C.2 or S.o2 neighbor.\n",
      "[16:51:42] 2lyb_ligand: warning - O.co2 with non C.2 or S.o2 neighbor.\n",
      "RDKit WARNING: [16:51:42] 2xaj_ligand: warning - O.co2 with non C.2 or S.o2 neighbor.\n",
      "[16:51:42] 2xaj_ligand: warning - O.co2 with non C.2 or S.o2 neighbor.\n",
      "[16:51:42] 5exx_ligand: warning - O.co2 with non C.2 or S.o2 neighbor.\n",
      "RDKit WARNING: [16:51:42] 5exx_ligand: warning - O.co2 with non C.2 or S.o2 neighbor.\n",
      "RDKit WARNING: [16:51:42] 3a1t_ligand: warning - O.co2 with non C.2 or S.o2 neighbor.\n",
      "RDKit WARNING: [16:51:42] 4s3e_ligand: warning - O.co2 with non C.2 or S.o2 neighbor.\n",
      "RDKit WARNING: [16:51:42] 2j87_ligand: warning - O.co2 with non C.2 or S.o2 neighbor.\n",
      "RDKit WARNING: [16:51:42] 5uq9_ligand: warning - O.co2 with non C.2 or S.o2 neighbor.\n",
      "[16:51:42] 3a1t_ligand: warning - O.co2 with non C.2 or S.o2 neighbor.\n",
      "[16:51:42] 4s3e_ligand: warning - O.co2 with non C.2 or S.o2 neighbor.\n",
      "[16:51:42] 2j87_ligand: warning - O.co2 with non C.2 or S.o2 neighbor.\n",
      "[16:51:42] 5uq9_ligand: warning - O.co2 with non C.2 or S.o2 neighbor.\n",
      "RDKit WARNING: [16:51:42] 4qfg_ligand: warning - O.co2 with non C.2 or S.o2 neighbor.\n",
      "RDKit WARNING: [16:51:42] 3q7p_ligand: warning - O.co2 with non C.2 or S.o2 neighbor.\n",
      "[16:51:42] 4qfg_ligand: warning - O.co2 with non C.2 or S.o2 neighbor.\n",
      "RDKit WARNING: [16:51:42] 3kc1_ligand: warning - O.co2 with non C.2 or S.o2 neighbor.\n",
      "[16:51:42] 3q7p_ligand: warning - O.co2 with non C.2 or S.o2 neighbor.\n",
      "[16:51:42] 3kc1_ligand: warning - O.co2 with non C.2 or S.o2 neighbor.\n",
      "RDKit WARNING: [16:51:42] 5uv1_ligand: warning - O.co2 with non C.2 or S.o2 neighbor.\n",
      "[16:51:42] 5uv1_ligand: warning - O.co2 with non C.2 or S.o2 neighbor.\n",
      "RDKit WARNING: [16:51:42] 1fpi_ligand: warning - O.co2 with non C.2 or S.o2 neighbor.\n",
      "[16:51:42] 1fpi_ligand: warning - O.co2 with non C.2 or S.o2 neighbor.\n",
      "RDKit WARNING: [16:51:42] 2bzz_ligand: warning - O.co2 with non C.2 or S.o2 neighbor.\n",
      "[16:51:42] 2bzz_ligand: warning - O.co2 with non C.2 or S.o2 neighbor.\n",
      "RDKit WARNING: [16:51:42] 3wcg_ligand: warning - O.co2 with non C.2 or S.o2 neighbor.\n",
      "RDKit WARNING: [16:51:42] 2jg8_ligand: warning - O.co2 with non C.2 or S.o2 neighbor.\n",
      "RDKit WARNING: [16:51:42] 2piz_ligand: warning - O.co2 with non C.2 or S.o2 neighbor.\n",
      "RDKit WARNING: [16:51:42] 4yik_ligand: warning - O.co2 with non C.2 or S.o2 neighbor.\n",
      "RDKit WARNING: [16:51:42] 2o1c_ligand: Warning - no explicit hydrogens in mol2 file but needed for formal charge estimation.\n",
      "RDKit WARNING: [16:51:42] 2o1c_ligand: warning - O.co2 with non C.2 or S.o2 neighbor.\n",
      "RDKit WARNING: [16:51:42] 4du8_ligand: warning - O.co2 with non C.2 or S.o2 neighbor.\n"
     ]
    },
    {
     "name": "stdout",
     "output_type": "stream",
     "text": [
      "Not RDKit parsable\n"
     ]
    },
    {
     "name": "stderr",
     "output_type": "stream",
     "text": [
      "[16:51:42] 3wcg_ligand: warning - O.co2 with non C.2 or S.o2 neighbor.\n",
      "[16:51:42] 2jg8_ligand: warning - O.co2 with non C.2 or S.o2 neighbor.\n",
      "[16:51:42] 2piz_ligand: warning - O.co2 with non C.2 or S.o2 neighbor.\n",
      "[16:51:42] 4yik_ligand: warning - O.co2 with non C.2 or S.o2 neighbor.\n",
      "[16:51:42] 2o1c_ligand: Warning - no explicit hydrogens in mol2 file but needed for formal charge estimation.\n",
      "[16:51:42] 2o1c_ligand: warning - O.co2 with non C.2 or S.o2 neighbor.\n",
      "[16:51:42] 4du8_ligand: warning - O.co2 with non C.2 or S.o2 neighbor.\n",
      "RDKit WARNING: [16:51:42] 2xy9_ligand: warning - O.co2 with non C.2 or S.o2 neighbor.\n",
      "RDKit WARNING: [16:51:42] 2wkt_ligand: warning - O.co2 with non C.2 or S.o2 neighbor.\n",
      "RDKit WARNING: [16:51:42] 4p4i_ligand: warning - O.co2 with non C.2 or S.o2 neighbor.\n",
      "RDKit WARNING: [16:51:42] 2hqu_ligand: warning - O.co2 with non C.2 or S.o2 neighbor.\n",
      "RDKit WARNING: [16:51:42] 5u51_ligand: warning - O.co2 with non C.2 or S.o2 neighbor.\n",
      "RDKit WARNING: [16:51:42] 4wz6_ligand: warning - O.co2 with non C.2 or S.o2 neighbor.\n",
      "[16:51:42] 2xy9_ligand: warning - O.co2 with non C.2 or S.o2 neighbor.\n",
      "RDKit WARNING: [16:51:42] 2fjn_ligand: warning - O.co2 with non C.2 or S.o2 neighbor.\n",
      "RDKit WARNING: [16:51:42] 6apu_ligand: warning - O.co2 with non C.2 or S.o2 neighbor.\n",
      "RDKit WARNING: [16:51:42] 1lol_ligand: warning - O.co2 with non C.2 or S.o2 neighbor.\n",
      "RDKit ERROR: [16:51:42] Can't kekulize mol.  Unkekulized atoms: 3 4 19 20 22\n",
      "RDKit ERROR: \n",
      "RDKit WARNING: [16:51:42] sanitise [16:51:42] 6gu6_ligand: [16:51:42] 1ijr_ligand: warning - O.co2 with non C.2 or S.o2 neighbor.\n",
      "RDKit WARNING: [16:51:42] 6n93_ligand: warning - O.co2 with non C.2 or S.o2 neighbor.\n",
      "RDKit WARNING: [16:51:42] 3okp_ligand: warning - O.co2 with non C.2 or S.o2 neighbor.\n",
      "[16:51:42] 2wkt_ligand: warning - O.co2 with non C.2 or S.o2 neighbor.\n",
      "[16:51:42] 4p4i_ligand: warning - O.co2 with non C.2 or S.o2 neighbor.\n",
      "[16:51:42] 2hqu_ligand: warning - O.co2 with non C.2 or S.o2 neighbor.\n",
      "[16:51:42] 5u51_ligand: warning - O.co2 with non C.2 or S.o2 neighbor.\n",
      "[16:51:42] 4wz6_ligand: warning - O.co2 with non C.2 or S.o2 neighbor.\n",
      "[16:51:42] 2fjn_ligand: warning - O.co2 with non C.2 or S.o2 neighbor.\n",
      "[16:51:42] 6apu_ligand: warning - O.co2 with non C.2 or S.o2 neighbor.\n",
      "[16:51:42] 1lol_ligand: warning - O.co2 with non C.2 or S.o2 neighbor.\n",
      "[16:51:42] Can't kekulize mol.  Unkekulized atoms: 3 4 19 20 22\n",
      "\n",
      "[16:51:42] sanitise [16:51:42] 6gu6_ligand: [16:51:42] 1ijr_ligand: warning - O.co2 with non C.2 or S.o2 neighbor.\n",
      "[16:51:42] 6n93_ligand: warning - O.co2 with non C.2 or S.o2 neighbor.\n",
      "[16:51:42] 3okp_ligand: warning - O.co2 with non C.2 or S.o2 neighbor.\n",
      "RDKit WARNING: [16:51:42] 1t3t_ligand: warning - O.co2 with non C.2 or S.o2 neighbor.\n",
      "[16:51:42] 1t3t_ligand: warning - O.co2 with non C.2 or S.o2 neighbor.\n",
      "RDKit WARNING: [16:51:42] 6ar9_ligand: warning - O.co2 with non C.2 or S.o2 neighbor.\n",
      "[16:51:42] 6ar9_ligand: warning - O.co2 with non C.2 or S.o2 neighbor.\n",
      "RDKit WARNING: [16:51:42] 3l7g_ligand: warning - O.co2 with non C.2 or S.o2 neighbor.\n",
      "[16:51:42] 3l7g_ligand: warning - O.co2 with non C.2 or S.o2 neighbor.\n",
      "RDKit WARNING: [16:51:42] 3g3m_ligand: warning - O.co2 with non C.2 or S.o2 neighbor.\n",
      "[16:51:42] 3g3m_ligand: warning - O.co2 with non C.2 or S.o2 neighbor.\n",
      "RDKit WARNING: [16:51:42] 3ehw_ligand: warning - O.co2 with non C.2 or S.o2 neighbor.\n",
      "RDKit WARNING: [16:51:42] 2e5y_ligand: warning - O.co2 with non C.2 or S.o2 neighbor.\n",
      "RDKit WARNING: [16:51:42] 2r6f_ligand: warning - O.co2 with non C.2 or S.o2 neighbor.\n",
      "[16:51:42] 3ehw_ligand: warning - O.co2 with non C.2 or S.o2 neighbor.\n",
      "[16:51:42] 2e5y_ligand: warning - O.co2 with non C.2 or S.o2 neighbor.\n",
      "[16:51:42] 2r6f_ligand: warning - O.co2 with non C.2 or S.o2 neighbor.\n",
      "RDKit WARNING: [16:51:42] 1o4o_ligand: warning - O.co2 with non C.2 or S.o2 neighbor.\n",
      "[16:51:42] 1o4o_ligand: warning - O.co2 with non C.2 or S.o2 neighbor.\n",
      "RDKit WARNING: [16:51:42] 1jjk_ligand: warning - O.co2 with non C.2 or S.o2 neighbor.\n",
      "RDKit WARNING: [16:51:42] 4za0_ligand: warning - O.co2 with non C.2 or S.o2 neighbor.\n",
      "RDKit WARNING: [16:51:42] 4ayx_ligand: warning - O.co2 with non C.2 or S.o2 neighbor.\n",
      "RDKit WARNING: [16:51:42] 1ch8_ligand: warning - O.co2 with non C.2 or S.o2 neighbor.\n",
      "RDKit WARNING: [16:51:42] 4xtt_ligand: warning - O.co2 with non C.2 or S.o2 neighbor.\n",
      "[16:51:42] 1jjk_ligand: warning - O.co2 with non C.2 or S.o2 neighbor.\n",
      "[16:51:42] 4za0_ligand: warning - O.co2 with non C.2 or S.o2 neighbor.\n",
      "[16:51:42] 4ayx_ligand: warning - O.co2 with non C.2 or S.o2 neighbor.\n",
      "[16:51:42] 1ch8_ligand: warning - O.co2 with non C.2 or S.o2 neighbor.\n",
      "[16:51:42] 4xtt_ligand: warning - O.co2 with non C.2 or S.o2 neighbor.\n",
      "RDKit WARNING: [16:51:42] 2p0d_ligand: warning - O.co2 with non C.2 or S.o2 neighbor.\n",
      "[16:51:42] 2p0d_ligand: warning - O.co2 with non C.2 or S.o2 neighbor.\n",
      "RDKit WARNING: [16:51:42] 6f3f_ligand: warning - O.co2 with non C.2 or S.o2 neighbor.\n",
      "[16:51:42] 6f3f_ligand: warning - O.co2 with non C.2 or S.o2 neighbor.\n",
      "RDKit WARNING: [16:51:42] 2z52_ligand: warning - O.co2 with non C.2 or S.o2 neighbor.\n",
      "[16:51:42] 2z52_ligand: warning - O.co2 with non C.2 or S.o2 neighbor.\n",
      "RDKit WARNING: [16:51:42] 1i5d_ligand: warning - O.co2 with non C.2 or S.o2 neighbor.\n",
      "[16:51:42] 1i5d_ligand: warning - O.co2 with non C.2 or S.o2 neighbor.\n",
      "RDKit WARNING: [16:51:42] 4bzr_ligand: warning - O.co2 with non C.2 or S.o2 neighbor.\n",
      "RDKit WARNING: [16:51:42] 1bux_ligand: warning - O.co2 with non C.2 or S.o2 neighbor.\n",
      "[16:51:42] 4bzr_ligand: warning - O.co2 with non C.2 or S.o2 neighbor.\n",
      "[16:51:42] 1bux_ligand: warning - O.co2 with non C.2 or S.o2 neighbor.\n",
      "RDKit WARNING: [16:51:42] 2pj6_ligand: warning - O.co2 with non C.2 or S.o2 neighbor.\n",
      "RDKit WARNING: [16:51:42] 3w0l_ligand: warning - O.co2 with non C.2 or S.o2 neighbor.\n",
      "RDKit WARNING: [16:51:42] 1r5n_ligand: warning - O.co2 with non C.2 or S.o2 neighbor.\n",
      "RDKit WARNING: [16:51:42] 5ijp_ligand: warning - O.co2 with non C.2 or S.o2 neighbor.\n",
      "[16:51:42] 2pj6_ligand: warning - O.co2 with non C.2 or S.o2 neighbor.\n",
      "[16:51:42] 3w0l_ligand: warning - O.co2 with non C.2 or S.o2 neighbor.\n",
      "[16:51:42] 1r5n_ligand: warning - O.co2 with non C.2 or S.o2 neighbor.\n",
      "[16:51:42] 5ijp_ligand: warning - O.co2 with non C.2 or S.o2 neighbor.\n",
      "RDKit ERROR: [16:51:42] Can't kekulize mol.  Unkekulized atoms: 0 2 3 6 7 8 9 10 11\n",
      "RDKit ERROR: \n",
      "RDKit WARNING: [16:51:42] sanitise [16:51:42] 5yjy_ligand: [16:51:42] 1q6p_ligand: warning - O.co2 with non C.2 or S.o2 neighbor.\n",
      "RDKit WARNING: [16:51:42] 2vfz_ligand: warning - O.co2 with non C.2 or S.o2 neighbor.\n",
      "[16:51:42] Can't kekulize mol.  Unkekulized atoms: 0 2 3 6 7 8 9 10 11\n",
      "\n",
      "[16:51:42] sanitise [16:51:42] 5yjy_ligand: [16:51:42] 1q6p_ligand: warning - O.co2 with non C.2 or S.o2 neighbor.\n",
      "RDKit WARNING: [16:51:42] 2z50_ligand: warning - O.co2 with non C.2 or S.o2 neighbor.\n",
      "RDKit WARNING: [16:51:42] 4ay6_ligand: warning - O.co2 with non C.2 or S.o2 neighbor.\n",
      "[16:51:42] 2vfz_ligand: warning - O.co2 with non C.2 or S.o2 neighbor.\n",
      "[16:51:42] 2z50_ligand: warning - O.co2 with non C.2 or S.o2 neighbor.\n",
      "[16:51:42] 4ay6_ligand: warning - O.co2 with non C.2 or S.o2 neighbor.\n",
      "RDKit WARNING: [16:51:42] 2qaf_ligand: warning - O.co2 with non C.2 or S.o2 neighbor.\n",
      "[16:51:42] 2qaf_ligand: warning - O.co2 with non C.2 or S.o2 neighbor.\n",
      "RDKit WARNING: [16:51:42] 2clo_ligand: warning - O.co2 with non C.2 or S.o2 neighbor.\n",
      "[16:51:42] 2clo_ligand: warning - O.co2 with non C.2 or S.o2 neighbor.\n",
      "RDKit WARNING: [16:51:42] 3gep_ligand: warning - O.co2 with non C.2 or S.o2 neighbor.\n",
      "RDKit WARNING: [16:51:42] 2ou7_ligand: warning - O.co2 with non C.2 or S.o2 neighbor.\n",
      "[16:51:42] 3gep_ligand: warning - O.co2 with non C.2 or S.o2 neighbor.\n",
      "RDKit WARNING: [16:51:42] 2xgo_ligand: warning - O.co2 with non C.2 or S.o2 neighbor.\n",
      "RDKit WARNING: [16:51:42] 1cs4_ligand: warning - O.co2 with non C.2 or S.o2 neighbor.\n",
      "RDKit WARNING: [16:51:42] 5eje_ligand: warning - O.co2 with non C.2 or S.o2 neighbor.\n",
      "RDKit WARNING: [16:51:42] 2qcf_ligand: warning - O.co2 with non C.2 or S.o2 neighbor.\n",
      "[16:51:42] 2ou7_ligand: warning - O.co2 with non C.2 or S.o2 neighbor.\n",
      "[16:51:42] 2xgo_ligand: warning - O.co2 with non C.2 or S.o2 neighbor.\n",
      "[16:51:42] 1cs4_ligand: warning - O.co2 with non C.2 or S.o2 neighbor.\n",
      "[16:51:42] 5eje_ligand: warning - O.co2 with non C.2 or S.o2 neighbor.\n",
      "[16:51:42] 2qcf_ligand: warning - O.co2 with non C.2 or S.o2 neighbor.\n",
      "RDKit WARNING: [16:51:42] 5khk_ligand: warning - O.co2 with non C.2 or S.o2 neighbor.\n",
      "RDKit WARNING: [16:51:42] 3tvl_ligand: Warning - no explicit hydrogens in mol2 file but needed for formal charge estimation.\n",
      "RDKit WARNING: [16:51:42] 3tvl_ligand: warning - O.co2 with non C.2 or S.o2 neighbor.\n",
      "RDKit WARNING: [16:51:42] 6oag_ligand: warning - O.co2 with non C.2 or S.o2 neighbor.\n",
      "RDKit WARNING: [16:51:42] 1ryh_ligand: warning - O.co2 with non C.2 or S.o2 neighbor.\n",
      "RDKit WARNING: [16:51:42] 1czl_ligand: warning - O.co2 with non C.2 or S.o2 neighbor.\n",
      "[16:51:42] 5khk_ligand: warning - O.co2 with non C.2 or S.o2 neighbor.\n",
      "[16:51:42] 3tvl_ligand: Warning - no explicit hydrogens in mol2 file but needed for formal charge estimation.\n",
      "[16:51:42] 3tvl_ligand: warning - O.co2 with non C.2 or S.o2 neighbor.\n",
      "[16:51:42] 6oag_ligand: warning - O.co2 with non C.2 or S.o2 neighbor.\n",
      "[16:51:42] 1ryh_ligand: warning - O.co2 with non C.2 or S.o2 neighbor.\n",
      "[16:51:42] 1czl_ligand: warning - O.co2 with non C.2 or S.o2 neighbor.\n",
      "RDKit WARNING: [16:51:42] 3eor_ligand: warning - O.co2 with non C.2 or S.o2 neighbor.\n",
      "RDKit WARNING: [16:51:42] 5ejl_ligand: warning - O.co2 with non C.2 or S.o2 neighbor.\n",
      "[16:51:42] 3eor_ligand: warning - O.co2 with non C.2 or S.o2 neighbor.\n",
      "[16:51:42] 5ejl_ligand: warning - O.co2 with non C.2 or S.o2 neighbor.\n",
      "RDKit WARNING: [16:51:43] 6db4_ligand: Warning - no explicit hydrogens in mol2 file but needed for formal charge estimation.\n",
      "[16:51:43] 6db4_ligand: Warning - no explicit hydrogens in mol2 file but needed for formal charge estimation.\n",
      "RDKit WARNING: [16:51:43] 3tu9_ligand: warning - O.co2 with non C.2 or S.o2 neighbor.\n",
      "RDKit WARNING: [16:51:43] 5jv1_ligand: warning - O.co2 with non C.2 or S.o2 neighbor.\n",
      "RDKit WARNING: [16:51:43] 5o3q_ligand: warning - O.co2 with non C.2 or S.o2 neighbor.\n",
      "RDKit WARNING: [16:51:43] 3v2w_ligand: warning - O.co2 with non C.2 or S.o2 neighbor.\n",
      "RDKit WARNING: [16:51:43] 4uv8_ligand: warning - O.co2 with non C.2 or S.o2 neighbor.\n",
      "[16:51:43] 3tu9_ligand: warning - O.co2 with non C.2 or S.o2 neighbor.\n",
      "[16:51:43] 5jv1_ligand: warning - O.co2 with non C.2 or S.o2 neighbor.\n",
      "[16:51:43] 5o3q_ligand: warning - O.co2 with non C.2 or S.o2 neighbor.\n",
      "[16:51:43] 3v2w_ligand: warning - O.co2 with non C.2 or S.o2 neighbor.\n",
      "RDKit WARNING: [16:51:43] 5knu_ligand: warning - O.co2 with non C.2 or S.o2 neighbor.\n",
      "[16:51:43] 4uv8_ligand: warning - O.co2 with non C.2 or S.o2 neighbor.\n",
      "RDKit WARNING: [16:51:43] 1o47_ligand: warning - O.co2 with non C.2 or S.o2 neighbor.\n",
      "RDKit WARNING: [16:51:43] 3rdh_ligand: warning - O.co2 with non C.2 or S.o2 neighbor.\n",
      "[16:51:43] 5knu_ligand: warning - O.co2 with non C.2 or S.o2 neighbor.\n",
      "[16:51:43] 1o47_ligand: warning - O.co2 with non C.2 or S.o2 neighbor.\n",
      "[16:51:43] 3rdh_ligand: warning - O.co2 with non C.2 or S.o2 neighbor.\n",
      "RDKit WARNING: [16:51:43] 6fn9_ligand: warning - O.co2 with non C.2 or S.o2 neighbor.\n",
      "[16:51:43] 6fn9_ligand: warning - O.co2 with non C.2 or S.o2 neighbor.\n",
      "RDKit WARNING: [16:51:43] 5vdt_ligand: warning - O.co2 with non C.2 or S.o2 neighbor.\n",
      "RDKit WARNING: [16:51:43] 2yim_ligand: warning - O.co2 with non C.2 or S.o2 neighbor.\n",
      "RDKit WARNING: [16:51:43] 5zt1_ligand: warning - O.co2 with non C.2 or S.o2 neighbor.\n",
      "[16:51:43] 5vdt_ligand: warning - O.co2 with non C.2 or S.o2 neighbor.\n",
      "[16:51:43] 2yim_ligand: warning - O.co2 with non C.2 or S.o2 neighbor.\n",
      "[16:51:43] 5zt1_ligand: warning - O.co2 with non C.2 or S.o2 neighbor.\n",
      "RDKit WARNING: [16:51:43] 5vds_ligand: warning - O.co2 with non C.2 or S.o2 neighbor.\n",
      "RDKit WARNING: [16:51:43] 3h9k_ligand: warning - O.co2 with non C.2 or S.o2 neighbor.\n",
      "RDKit WARNING: [16:51:43] 3abu_ligand: warning - O.co2 with non C.2 or S.o2 neighbor.\n",
      "RDKit ERROR: [16:51:43] Can't kekulize mol.  Unkekulized atoms: 31 32 33 34 35\n",
      "RDKit ERROR: \n",
      "RDKit WARNING: [16:51:43] sanitise [16:51:43] 2fm5_ligand: [16:51:43] 4yb6_ligand: warning - O.co2 with non C.2 or S.o2 neighbor.\n",
      "[16:51:43] 5vds_ligand: warning - O.co2 with non C.2 or S.o2 neighbor.\n",
      "RDKit WARNING: [16:51:43] 4h38_ligand: warning - O.co2 with non C.2 or S.o2 neighbor.\n",
      "RDKit WARNING: [16:51:43] 5zxk_ligand: warning - O.co2 with non C.2 or S.o2 neighbor.\n",
      "[16:51:43] 3h9k_ligand: warning - O.co2 with non C.2 or S.o2 neighbor.\n",
      "[16:51:43] 3abu_ligand: warning - O.co2 with non C.2 or S.o2 neighbor.\n",
      "[16:51:43] Can't kekulize mol.  Unkekulized atoms: 31 32 33 34 35\n",
      "\n",
      "[16:51:43] sanitise [16:51:43] 2fm5_ligand: [16:51:43] 4yb6_ligand: warning - O.co2 with non C.2 or S.o2 neighbor.\n",
      "[16:51:43] 4h38_ligand: warning - O.co2 with non C.2 or S.o2 neighbor.\n",
      "[16:51:43] 5zxk_ligand: warning - O.co2 with non C.2 or S.o2 neighbor.\n",
      "RDKit WARNING: [16:51:43] 3moh_ligand: warning - O.co2 with non C.2 or S.o2 neighbor.\n",
      "[16:51:43] 3moh_ligand: warning - O.co2 with non C.2 or S.o2 neighbor.\n",
      "RDKit WARNING: [16:51:43] 3at1_ligand: warning - O.co2 with non C.2 or S.o2 neighbor.\n",
      "[16:51:43] 3at1_ligand: warning - O.co2 with non C.2 or S.o2 neighbor.\n",
      "RDKit WARNING: [16:51:43] 6qxs_ligand: warning - O.co2 with non C.2 or S.o2 neighbor.\n",
      "RDKit WARNING: [16:51:43] 3iuc_ligand: warning - O.co2 with non C.2 or S.o2 neighbor.\n",
      "RDKit WARNING: [16:51:43] 2o7e_ligand: warning - O.co2 with non C.2 or S.o2 neighbor.\n",
      "RDKit WARNING: [16:51:43] 3hiw_ligand: warning - O.co2 with non C.2 or S.o2 neighbor.\n",
      "RDKit WARNING: [16:51:43] 1tsi_ligand: warning - O.co2 with non C.2 or S.o2 neighbor.\n",
      "[16:51:43] 6qxs_ligand: warning - O.co2 with non C.2 or S.o2 neighbor.\n",
      "RDKit WARNING: [16:51:43] 1fl6_ligand: warning - O.co2 with non C.2 or S.o2 neighbor.\n",
      "[16:51:43] 3iuc_ligand: warning - O.co2 with non C.2 or S.o2 neighbor.\n",
      "[16:51:43] 2o7e_ligand: warning - O.co2 with non C.2 or S.o2 neighbor.\n",
      "[16:51:43] 3hiw_ligand: warning - O.co2 with non C.2 or S.o2 neighbor.\n",
      "[16:51:43] 1tsi_ligand: warning - O.co2 with non C.2 or S.o2 neighbor.\n",
      "[16:51:43] 1fl6_ligand: warning - O.co2 with non C.2 or S.o2 neighbor.\n",
      "RDKit WARNING: [16:51:43] 1c29_ligand: warning - O.co2 with non C.2 or S.o2 neighbor.\n",
      "RDKit WARNING: [16:51:43] 1flm_ligand: warning - O.co2 with non C.2 or S.o2 neighbor.\n",
      "[16:51:43] 1c29_ligand: warning - O.co2 with non C.2 or S.o2 neighbor.\n",
      "[16:51:43] 1flm_ligand: warning - O.co2 with non C.2 or S.o2 neighbor.\n",
      "RDKit WARNING: [16:51:43] 1fpy_ligand: warning - O.co2 with non C.2 or S.o2 neighbor.\n",
      "[16:51:43] 1fpy_ligand: warning - O.co2 with non C.2 or S.o2 neighbor.\n",
      "RDKit WARNING: [16:51:43] 3ncr_ligand: warning - O.co2 with non C.2 or S.o2 neighbor.\n",
      "[16:51:43] 3ncr_ligand: warning - O.co2 with non C.2 or S.o2 neighbor.\n",
      "RDKit WARNING: [16:51:43] 3vfq_ligand: warning - O.co2 with non C.2 or S.o2 neighbor.\n",
      "RDKit WARNING: [16:51:43] 5izm_ligand: warning - O.co2 with non C.2 or S.o2 neighbor.\n",
      "[16:51:43] 3vfq_ligand: warning - O.co2 with non C.2 or S.o2 neighbor.\n",
      "[16:51:43] 5izm_ligand: warning - O.co2 with non C.2 or S.o2 neighbor.\n",
      "RDKit WARNING: [16:51:43] 2z4r_ligand: warning - O.co2 with non C.2 or S.o2 neighbor.\n",
      "[16:51:43] 2z4r_ligand: warning - O.co2 with non C.2 or S.o2 neighbor.\n",
      "RDKit WARNING: [16:51:43] 4k8o_ligand: warning - O.co2 with non C.2 or S.o2 neighbor.\n",
      "[16:51:43] 4k8o_ligand: warning - O.co2 with non C.2 or S.o2 neighbor.\n",
      "RDKit WARNING: [16:51:43] 1bsk_ligand: warning - O.co2 with non C.2 or S.o2 neighbor.\n",
      "RDKit WARNING: [16:51:43] 3u4h_ligand: warning - O.co2 with non C.2 or S.o2 neighbor.\n",
      "RDKit WARNING: [16:51:43] 2f3r_ligand: warning - O.co2 with non C.2 or S.o2 neighbor.\n",
      "[16:51:43] 1bsk_ligand: warning - O.co2 with non C.2 or S.o2 neighbor.\n",
      "[16:51:43] 3u4h_ligand: warning - O.co2 with non C.2 or S.o2 neighbor.\n",
      "[16:51:43] 2f3r_ligand: warning - O.co2 with non C.2 or S.o2 neighbor.\n",
      "RDKit WARNING: [16:51:43] 6npf_ligand: warning - O.co2 with non C.2 or S.o2 neighbor.\n",
      "RDKit WARNING: [16:51:43] 4l4l_ligand: warning - O.co2 with non C.2 or S.o2 neighbor.\n",
      "[16:51:43] 6npf_ligand: warning - O.co2 with non C.2 or S.o2 neighbor.\n",
      "[16:51:43] 4l4l_ligand: warning - O.co2 with non C.2 or S.o2 neighbor.\n",
      "RDKit WARNING: [16:51:43] 2p0x_ligand: warning - O.co2 with non C.2 or S.o2 neighbor.\n",
      "RDKit WARNING: [16:51:43] 4oaz_ligand: warning - O.co2 with non C.2 or S.o2 neighbor.\n",
      "RDKit WARNING: [16:51:43] 3c7n_ligand: warning - O.co2 with non C.2 or S.o2 neighbor.\n",
      "[16:51:43] 2p0x_ligand: warning - O.co2 with non C.2 or S.o2 neighbor.\n",
      "[16:51:43] 4oaz_ligand: warning - O.co2 with non C.2 or S.o2 neighbor.\n",
      "[16:51:43] 3c7n_ligand: warning - O.co2 with non C.2 or S.o2 neighbor.\n",
      "RDKit WARNING: [16:51:43] 6pvx_ligand: warning - O.co2 with non C.2 or S.o2 neighbor.\n",
      "[16:51:43] 6pvx_ligand: warning - O.co2 with non C.2 or S.o2 neighbor.\n",
      "RDKit WARNING: [16:51:43] 6tim_ligand: warning - O.co2 with non C.2 or S.o2 neighbor.\n",
      "[16:51:43] 6tim_ligand: warning - O.co2 with non C.2 or S.o2 neighbor.\n",
      "RDKit WARNING: [16:51:43] 4k5l_ligand: warning - O.co2 with non C.2 or S.o2 neighbor.\n",
      "[16:51:43] 4k5l_ligand: warning - O.co2 with non C.2 or S.o2 neighbor.\n",
      "[16:51:43] 2xzc_ligand: warning - O.co2 with non C.2 or S.o2 neighbor.\n",
      "RDKit WARNING: [16:51:43] 2xzc_ligand: warning - O.co2 with non C.2 or S.o2 neighbor.\n",
      "RDKit WARNING: [16:51:43] 6goo_ligand: Warning - no explicit hydrogens in mol2 file but needed for formal charge estimation.\n",
      "RDKit WARNING: [16:51:43] 1d6s_ligand: warning - O.co2 with non C.2 or S.o2 neighbor.\n",
      "RDKit WARNING: [16:51:43] 2hf8_ligand: warning - O.co2 with non C.2 or S.o2 neighbor.\n",
      "RDKit WARNING: [16:51:43] 1mto_ligand: warning - O.co2 with non C.2 or S.o2 neighbor.\n",
      "RDKit WARNING: [16:51:43] 4dzw_ligand: warning - O.co2 with non C.2 or S.o2 neighbor.\n",
      "RDKit WARNING: [16:51:43] 4lqy_ligand: warning - O.co2 with non C.2 or S.o2 neighbor.\n",
      "[16:51:43] 6goo_ligand: Warning - no explicit hydrogens in mol2 file but needed for formal charge estimation.\n",
      "[16:51:43] 1d6s_ligand: warning - O.co2 with non C.2 or S.o2 neighbor.\n",
      "[16:51:43] 2hf8_ligand: warning - O.co2 with non C.2 or S.o2 neighbor.\n",
      "[16:51:43] 1mto_ligand: warning - O.co2 with non C.2 or S.o2 neighbor.\n",
      "[16:51:43] 4dzw_ligand: warning - O.co2 with non C.2 or S.o2 neighbor.\n",
      "[16:51:43] 4lqy_ligand: warning - O.co2 with non C.2 or S.o2 neighbor.\n",
      "RDKit WARNING: [16:51:43] 3fq7_ligand: warning - O.co2 with non C.2 or S.o2 neighbor.\n",
      "RDKit ERROR: [16:51:43] Can't kekulize mol.  Unkekulized atoms: 0 3 4 6 7 8 9 10 11\n",
      "RDKit ERROR: \n",
      "[16:51:43] 3fq7_ligand: warning - O.co2 with non C.2 or S.o2 neighbor.\n",
      "[16:51:43] Can't kekulize mol.  Unkekulized atoms: 0 3 4 6 7 8 9 10 11\n",
      "\n",
      "RDKit WARNING: [16:51:43] sanitise [16:51:43] 3lp1_ligand: [16:51:43] 3m93_ligand: warning - O.co2 with non C.2 or S.o2 neighbor.\n",
      "[16:51:43] sanitise [16:51:43] 3lp1_ligand: [16:51:43] 3m93_ligand: warning - O.co2 with non C.2 or S.o2 neighbor.\n",
      "RDKit WARNING: [16:51:43] 1ihy_ligand: warning - O.co2 with non C.2 or S.o2 neighbor.\n",
      "RDKit WARNING: [16:51:43] 4dem_ligand: warning - O.co2 with non C.2 or S.o2 neighbor.\n",
      "[16:51:43] 1ihy_ligand: warning - O.co2 with non C.2 or S.o2 neighbor.\n",
      "[16:51:43] 4dem_ligand: warning - O.co2 with non C.2 or S.o2 neighbor.\n",
      "RDKit WARNING: [16:51:43] 4gz3_ligand: warning - O.co2 with non C.2 or S.o2 neighbor.\n",
      "RDKit WARNING: [16:51:43] 4qk4_ligand: warning - O.co2 with non C.2 or S.o2 neighbor.\n",
      "[16:51:43] 4gz3_ligand: warning - O.co2 with non C.2 or S.o2 neighbor.\n",
      "RDKit WARNING: [16:51:43] 1o4j_ligand: warning - O.co2 with non C.2 or S.o2 neighbor.\n",
      "[16:51:43] 4qk4_ligand: warning - O.co2 with non C.2 or S.o2 neighbor.\n",
      "[16:51:43] 1o4j_ligand: warning - O.co2 with non C.2 or S.o2 neighbor.\n",
      "RDKit WARNING: [16:51:43] 3loo_ligand: warning - O.co2 with non C.2 or S.o2 neighbor.\n",
      "[16:51:43] 3loo_ligand: warning - O.co2 with non C.2 or S.o2 neighbor.\n",
      "RDKit WARNING: [16:51:43] 4jzb_ligand: warning - O.co2 with non C.2 or S.o2 neighbor.\n",
      "[16:51:43] 4jzb_ligand: warning - O.co2 with non C.2 or S.o2 neighbor.\n",
      "RDKit WARNING: [16:51:43] 6fac_ligand: warning - O.co2 with non C.2 or S.o2 neighbor.\n",
      "RDKit WARNING: [16:51:43] 2lya_ligand: warning - O.co2 with non C.2 or S.o2 neighbor.\n",
      "RDKit WARNING: [16:51:43] 5a3s_ligand: warning - O.co2 with non C.2 or S.o2 neighbor.\n",
      "RDKit WARNING: [16:51:43] 3rt4_ligand: warning - O.co2 with non C.2 or S.o2 neighbor.\n",
      "[16:51:43] 6fac_ligand: warning - O.co2 with non C.2 or S.o2 neighbor.\n",
      "RDKit WARNING: [16:51:43] 4quo_ligand: warning - O.co2 with non C.2 or S.o2 neighbor.\n",
      "[16:51:43] 2lya_ligand: warning - O.co2 with non C.2 or S.o2 neighbor.\n",
      "[16:51:43] 5a3s_ligand: warning - O.co2 with non C.2 or S.o2 neighbor.\n",
      "[16:51:43] 3rt4_ligand: warning - O.co2 with non C.2 or S.o2 neighbor.\n",
      "[16:51:43] 4quo_ligand: warning - O.co2 with non C.2 or S.o2 neighbor.\n",
      "RDKit WARNING: [16:51:43] 4g8l_ligand: warning - O.co2 with non C.2 or S.o2 neighbor.\n",
      "[16:51:43] 4g8l_ligand: warning - O.co2 with non C.2 or S.o2 neighbor.\n",
      "RDKit WARNING: [16:51:43] 1zsh_ligand: warning - O.co2 with non C.2 or S.o2 neighbor.\n",
      "RDKit WARNING: [16:51:43] 2cll_ligand: warning - O.co2 with non C.2 or S.o2 neighbor.\n",
      "RDKit WARNING: [16:51:43] 1css_ligand: warning - O.co2 with non C.2 or S.o2 neighbor.\n",
      "RDKit WARNING: [16:51:43] 2ate_ligand: warning - O.co2 with non C.2 or S.o2 neighbor.\n",
      "RDKit ERROR: [16:51:43] Explicit valence for atom # 6 C, 5, is greater than permitted\n",
      "RDKit WARNING: [16:51:43] sanitise [16:51:43] 1qpf_ligand: [16:51:43] 6ipj_ligand: warning - O.co2 with non C.2 or S.o2 neighbor.\n",
      "[16:51:43] 1zsh_ligand: warning - O.co2 with non C.2 or S.o2 neighbor.\n",
      "[16:51:43] 2cll_ligand: warning - O.co2 with non C.2 or S.o2 neighbor.\n",
      "[16:51:43] 1css_ligand: warning - O.co2 with non C.2 or S.o2 neighbor.\n",
      "[16:51:43] 2ate_ligand: warning - O.co2 with non C.2 or S.o2 neighbor.\n",
      "[16:51:43] Explicit valence for atom # 6 C, 5, is greater than permitted\n",
      "[16:51:43] sanitise [16:51:43] 1qpf_ligand: [16:51:43] 6ipj_ligand: warning - O.co2 with non C.2 or S.o2 neighbor.\n",
      "RDKit WARNING: [16:51:43] 5dgm_ligand: warning - O.co2 with non C.2 or S.o2 neighbor.\n",
      "RDKit WARNING: [16:51:43] 3bhx_ligand: warning - O.co2 with non C.2 or S.o2 neighbor.\n",
      "[16:51:43] 5dgm_ligand: warning - O.co2 with non C.2 or S.o2 neighbor.\n",
      "[16:51:43] 3bhx_ligand: warning - O.co2 with non C.2 or S.o2 neighbor.\n",
      "RDKit WARNING: [16:51:43] 1q95_ligand: warning - O.co2 with non C.2 or S.o2 neighbor.\n",
      "RDKit WARNING: [16:51:43] 4k5o_ligand: warning - O.co2 with non C.2 or S.o2 neighbor.\n",
      "RDKit WARNING: [16:51:43] 3u0p_ligand: warning - O.co2 with non C.2 or S.o2 neighbor.\n",
      "RDKit WARNING: [16:51:43] 4y6s_ligand: warning - O.co2 with non C.2 or S.o2 neighbor.\n",
      "RDKit WARNING: [16:51:43] 6mu1_ligand: warning - O.co2 with non C.2 or S.o2 neighbor.\n",
      "[16:51:43] 1q95_ligand: warning - O.co2 with non C.2 or S.o2 neighbor.\n",
      "[16:51:43] 4k5o_ligand: warning - O.co2 with non C.2 or S.o2 neighbor.\n",
      "[16:51:43] 3u0p_ligand: warning - O.co2 with non C.2 or S.o2 neighbor.\n",
      "[16:51:43] 4y6s_ligand: warning - O.co2 with non C.2 or S.o2 neighbor.\n",
      "[16:51:43] 6mu1_ligand: warning - O.co2 with non C.2 or S.o2 neighbor.\n",
      "RDKit WARNING: [16:51:43] 2qv7_ligand: warning - O.co2 with non C.2 or S.o2 neighbor.\n",
      "[16:51:43] 2qv7_ligand: warning - O.co2 with non C.2 or S.o2 neighbor.\n",
      "RDKit WARNING: [16:51:43] 3ftq_ligand: warning - O.co2 with non C.2 or S.o2 neighbor.\n",
      "[16:51:43] 3ftq_ligand: warning - O.co2 with non C.2 or S.o2 neighbor.\n",
      "RDKit WARNING: [16:51:43] 5mtv_ligand: warning - O.co2 with non C.2 or S.o2 neighbor.\n",
      "RDKit WARNING: [16:51:43] 2xgs_ligand: warning - O.co2 with non C.2 or S.o2 neighbor.\n",
      "RDKit WARNING: [16:51:43] 1ro7_ligand: warning - O.co2 with non C.2 or S.o2 neighbor.\n",
      "RDKit WARNING: [16:51:43] 1qf4_ligand: warning - O.co2 with non C.2 or S.o2 neighbor.\n",
      "RDKit WARNING: [16:51:43] 1tpz_ligand: warning - O.co2 with non C.2 or S.o2 neighbor.\n",
      "[16:51:43] 5mtv_ligand: warning - O.co2 with non C.2 or S.o2 neighbor.\n",
      "[16:51:43] 2xgs_ligand: warning - O.co2 with non C.2 or S.o2 neighbor.\n",
      "[16:51:43] 1ro7_ligand: warning - O.co2 with non C.2 or S.o2 neighbor.\n",
      "[16:51:43] 1qf4_ligand: warning - O.co2 with non C.2 or S.o2 neighbor.\n",
      "[16:51:43] 1tpz_ligand: warning - O.co2 with non C.2 or S.o2 neighbor.\n",
      "RDKit WARNING: [16:51:43] 2y4m_ligand: warning - O.co2 with non C.2 or S.o2 neighbor.\n",
      "RDKit WARNING: [16:51:43] 2hrm_ligand: warning - O.co2 with non C.2 or S.o2 neighbor.\n",
      "[16:51:43] 2y4m_ligand: warning - O.co2 with non C.2 or S.o2 neighbor.\n",
      "RDKit WARNING: [16:51:43] 1fta_ligand: warning - O.co2 with non C.2 or S.o2 neighbor.\n",
      "[16:51:43] 2hrm_ligand: warning - O.co2 with non C.2 or S.o2 neighbor.\n",
      "[16:51:43] 1fta_ligand: warning - O.co2 with non C.2 or S.o2 neighbor.\n",
      "[16:51:43] 2pgl_ligand: warning - O.co2 with non C.2 or S.o2 neighbor.\n",
      "RDKit WARNING: [16:51:43] 2pgl_ligand: warning - O.co2 with non C.2 or S.o2 neighbor.\n",
      "RDKit WARNING: [16:51:43] 6czd_ligand: warning - O.co2 with non C.2 or S.o2 neighbor.\n",
      "[16:51:43] 6czd_ligand: warning - O.co2 with non C.2 or S.o2 neighbor.\n",
      "RDKit WARNING: [16:51:43] 5ni0_ligand: warning - O.co2 with non C.2 or S.o2 neighbor.\n",
      "[16:51:43] 5ni0_ligand: warning - O.co2 with non C.2 or S.o2 neighbor.\n",
      "RDKit WARNING: [16:51:43] 4ocp_ligand: warning - O.co2 with non C.2 or S.o2 neighbor.\n",
      "RDKit WARNING: [16:51:43] 4qxs_ligand: warning - O.co2 with non C.2 or S.o2 neighbor.\n",
      "[16:51:43] 4ocp_ligand: warning - O.co2 with non C.2 or S.o2 neighbor.\n",
      "[16:51:43] 4qxs_ligand: warning - O.co2 with non C.2 or S.o2 neighbor.\n",
      "RDKit WARNING: [16:51:43] 2pjb_ligand: warning - O.co2 with non C.2 or S.o2 neighbor.\n",
      "[16:51:43] 2pjb_ligand: warning - O.co2 with non C.2 or S.o2 neighbor.\n",
      "RDKit WARNING: [16:51:43] 5kyk_ligand: warning - O.co2 with non C.2 or S.o2 neighbor.\n",
      "[16:51:43] 5kyk_ligand: warning - O.co2 with non C.2 or S.o2 neighbor.\n",
      "RDKit WARNING: [16:51:43] 5wzw_ligand: warning - O.co2 with non C.2 or S.o2 neighbor.\n",
      "RDKit WARNING: [16:51:43] 4pde_ligand: warning - O.co2 with non C.2 or S.o2 neighbor.\n",
      "[16:51:43] 5wzw_ligand: warning - O.co2 with non C.2 or S.o2 neighbor.\n",
      "RDKit WARNING: [16:51:43] 2ych_ligand: warning - O.co2 with non C.2 or S.o2 neighbor.\n",
      "RDKit WARNING: [16:51:43] 5elz_ligand: warning - O.co2 with non C.2 or S.o2 neighbor.\n",
      "[16:51:43] 4pde_ligand: warning - O.co2 with non C.2 or S.o2 neighbor.\n",
      "RDKit WARNING: [16:51:43] 3ryw_ligand: warning - O.co2 with non C.2 or S.o2 neighbor.\n",
      "[16:51:43] 2ych_ligand: warning - O.co2 with non C.2 or S.o2 neighbor.\n",
      "[16:51:43] 5elz_ligand: warning - O.co2 with non C.2 or S.o2 neighbor.\n",
      "RDKit WARNING: [16:51:43] 1rbo_ligand: warning - O.co2 with non C.2 or S.o2 neighbor.\n",
      "RDKit WARNING: [16:51:43] 3ex3_ligand: warning - O.co2 with non C.2 or S.o2 neighbor.\n",
      "[16:51:43] 3ryw_ligand: warning - O.co2 with non C.2 or S.o2 neighbor.\n",
      "[16:51:43] 1rbo_ligand: warning - O.co2 with non C.2 or S.o2 neighbor.\n",
      "[16:51:43] 3ex3_ligand: warning - O.co2 with non C.2 or S.o2 neighbor.\n",
      "RDKit WARNING: [16:51:43] 4h4d_ligand: warning - O.co2 with non C.2 or S.o2 neighbor.\n",
      "[16:51:43] 4h4d_ligand: warning - O.co2 with non C.2 or S.o2 neighbor.\n",
      "RDKit WARNING: [16:51:43] 3cph_ligand: warning - O.co2 with non C.2 or S.o2 neighbor.\n",
      "RDKit WARNING: [16:51:43] 2ggd_ligand: warning - O.co2 with non C.2 or S.o2 neighbor.\n",
      "[16:51:43] 3cph_ligand: warning - O.co2 with non C.2 or S.o2 neighbor.\n",
      "[16:51:43] 2ggd_ligand: warning - O.co2 with non C.2 or S.o2 neighbor.\n",
      "RDKit WARNING: [16:51:43] 5xvu_ligand: warning - O.co2 with non C.2 or S.o2 neighbor.\n",
      "RDKit WARNING: [16:51:43] 5nx9_ligand: warning - O.co2 with non C.2 or S.o2 neighbor.\n",
      "[16:51:43] 5xvu_ligand: warning - O.co2 with non C.2 or S.o2 neighbor.\n",
      "[16:51:43] 5nx9_ligand: warning - O.co2 with non C.2 or S.o2 neighbor.\n",
      "RDKit WARNING: [16:51:43] 6bh8_ligand: warning - O.co2 with non C.2 or S.o2 neighbor.\n",
      "RDKit WARNING: [16:51:43] 1jmi_ligand: warning - O.co2 with non C.2 or S.o2 neighbor.\n",
      "[16:51:43] 6bh8_ligand: warning - O.co2 with non C.2 or S.o2 neighbor.\n",
      "RDKit WARNING: [16:51:43] 2k31_ligand: warning - O.co2 with non C.2 or S.o2 neighbor.\n",
      "[16:51:43] 1jmi_ligand: warning - O.co2 with non C.2 or S.o2 neighbor.\n",
      "[16:51:43] 2k31_ligand: warning - O.co2 with non C.2 or S.o2 neighbor.\n",
      "RDKit WARNING: [16:51:43] 7gpb_ligand: warning - O.co2 with non C.2 or S.o2 neighbor.\n",
      "[16:51:43] 7gpb_ligand: warning - O.co2 with non C.2 or S.o2 neighbor.\n",
      "RDKit WARNING: [16:51:43] 1bq3_ligand: warning - O.co2 with non C.2 or S.o2 neighbor.\n",
      "[16:51:43] 1bq3_ligand: warning - O.co2 with non C.2 or S.o2 neighbor.\n",
      "RDKit WARNING: [16:51:43] 4a22_ligand: warning - O.co2 with non C.2 or S.o2 neighbor.\n",
      "[16:51:43] 4a22_ligand: warning - O.co2 with non C.2 or S.o2 neighbor.\n",
      "RDKit WARNING: [16:51:43] 2y8l_ligand: warning - O.co2 with non C.2 or S.o2 neighbor.\n",
      "RDKit WARNING: [16:51:43] 5yij_ligand: warning - O.co2 with non C.2 or S.o2 neighbor.\n",
      "[16:51:43] 2y8l_ligand: warning - O.co2 with non C.2 or S.o2 neighbor.\n",
      "[16:51:43] 5yij_ligand: warning - O.co2 with non C.2 or S.o2 neighbor.\n",
      "RDKit WARNING: [16:51:43] 2z4w_ligand: warning - O.co2 with non C.2 or S.o2 neighbor.\n",
      "[16:51:43] 2z4w_ligand: warning - O.co2 with non C.2 or S.o2 neighbor.\n",
      "RDKit WARNING: [16:51:43] 6n83_ligand: warning - O.co2 with non C.2 or S.o2 neighbor.\n",
      "[16:51:43] 6n83_ligand: warning - O.co2 with non C.2 or S.o2 neighbor.\n",
      "RDKit WARNING: [16:51:43] 3q72_ligand: warning - O.co2 with non C.2 or S.o2 neighbor.\n",
      "RDKit WARNING: [16:51:43] 3atu_ligand: warning - O.co2 with non C.2 or S.o2 neighbor.\n",
      "RDKit WARNING: [16:51:43] 1h7a_ligand: warning - O.co2 with non C.2 or S.o2 neighbor.\n",
      "RDKit WARNING: [16:51:43] 4m6q_ligand: warning - O.co2 with non C.2 or S.o2 neighbor.\n",
      "[16:51:43] 3q72_ligand: warning - O.co2 with non C.2 or S.o2 neighbor.\n",
      "[16:51:43] 3atu_ligand: warning - O.co2 with non C.2 or S.o2 neighbor.\n",
      "[16:51:43] 1h7a_ligand: warning - O.co2 with non C.2 or S.o2 neighbor.\n",
      "[16:51:43] 4m6q_ligand: warning - O.co2 with non C.2 or S.o2 neighbor.\n",
      "RDKit WARNING: [16:51:43] 2fkf_ligand: warning - O.co2 with non C.2 or S.o2 neighbor.\n",
      "[16:51:43] 2fkf_ligand: warning - O.co2 with non C.2 or S.o2 neighbor.\n",
      "RDKit WARNING: [16:51:43] 5bsk_ligand: warning - O.co2 with non C.2 or S.o2 neighbor.\n",
      "[16:51:43] 5bsk_ligand: warning - O.co2 with non C.2 or S.o2 neighbor.\n",
      "RDKit WARNING: [16:51:43] 3tjm_ligand: warning - O.co2 with non C.2 or S.o2 neighbor.\n",
      "RDKit WARNING: [16:51:43] 1zaj_ligand: warning - O.co2 with non C.2 or S.o2 neighbor.\n",
      "RDKit WARNING: [16:51:43] 3v3l_ligand: warning - O.co2 with non C.2 or S.o2 neighbor.\n",
      "RDKit WARNING: [16:51:43] 4w5j_ligand: warning - O.co2 with non C.2 or S.o2 neighbor.\n",
      "[16:51:43] 3tjm_ligand: warning - O.co2 with non C.2 or S.o2 neighbor.\n",
      "[16:51:43] 1zaj_ligand: warning - O.co2 with non C.2 or S.o2 neighbor.\n",
      "[16:51:43] 3v3l_ligand: warning - O.co2 with non C.2 or S.o2 neighbor.\n",
      "[16:51:43] 4w5j_ligand: warning - O.co2 with non C.2 or S.o2 neighbor.\n",
      "RDKit WARNING: [16:51:43] 3zuk_ligand: warning - O.co2 with non C.2 or S.o2 neighbor.\n",
      "RDKit WARNING: [16:51:43] 4rcg_ligand: warning - O.co2 with non C.2 or S.o2 neighbor.\n",
      "RDKit WARNING: [16:51:43] 5zlf_ligand: warning - O.co2 with non C.2 or S.o2 neighbor.\n",
      "RDKit WARNING: [16:51:43] 1akt_ligand: warning - O.co2 with non C.2 or S.o2 neighbor.\n",
      "[16:51:43] 3zuk_ligand: warning - O.co2 with non C.2 or S.o2 neighbor.\n",
      "[16:51:43] 4rcg_ligand: warning - O.co2 with non C.2 or S.o2 neighbor.\n",
      "[16:51:43] 5zlf_ligand: warning - O.co2 with non C.2 or S.o2 neighbor.\n",
      "[16:51:43] 1akt_ligand: warning - O.co2 with non C.2 or S.o2 neighbor.\n",
      "RDKit WARNING: [16:51:43] 4nzm_ligand: warning - O.co2 with non C.2 or S.o2 neighbor.\n",
      "[16:51:43] 4nzm_ligand: warning - O.co2 with non C.2 or S.o2 neighbor.\n",
      "RDKit WARNING: [16:51:43] 5ijj_ligand: warning - O.co2 with non C.2 or S.o2 neighbor.\n",
      "[16:51:43] 5ijj_ligand: warning - O.co2 with non C.2 or S.o2 neighbor.\n",
      "RDKit WARNING: [16:51:43] 4yb7_ligand: warning - O.co2 with non C.2 or S.o2 neighbor.\n",
      "RDKit WARNING: [16:51:43] 6u9v_ligand: warning - O.co2 with non C.2 or S.o2 neighbor.\n",
      "[16:51:43] 4yb7_ligand: warning - O.co2 with non C.2 or S.o2 neighbor.\n",
      "[16:51:43] 6u9v_ligand: warning - O.co2 with non C.2 or S.o2 neighbor.\n",
      "RDKit WARNING: [16:51:43] 2qfu_ligand: warning - O.co2 with non C.2 or S.o2 neighbor.\n",
      "RDKit WARNING: [16:51:43] 1o4g_ligand: warning - O.co2 with non C.2 or S.o2 neighbor.\n",
      "[16:51:43] 2qfu_ligand: warning - O.co2 with non C.2 or S.o2 neighbor.\n",
      "RDKit WARNING: [16:51:43] 1lv8_ligand: warning - O.co2 with non C.2 or S.o2 neighbor.\n",
      "RDKit WARNING: [16:51:43] 3rup_ligand: warning - O.co2 with non C.2 or S.o2 neighbor.\n",
      "RDKit WARNING: [16:51:43] 4ge4_ligand: warning - O.co2 with non C.2 or S.o2 neighbor.\n",
      "[16:51:43] 1o4g_ligand: warning - O.co2 with non C.2 or S.o2 neighbor.\n",
      "[16:51:43] 1lv8_ligand: warning - O.co2 with non C.2 or S.o2 neighbor.\n",
      "[16:51:43] 3rup_ligand: warning - O.co2 with non C.2 or S.o2 neighbor.\n",
      "[16:51:43] 4ge4_ligand: warning - O.co2 with non C.2 or S.o2 neighbor.\n",
      "RDKit WARNING: [16:51:43] 2qry_ligand: warning - O.co2 with non C.2 or S.o2 neighbor.\n",
      "[16:51:43] 2qry_ligand: warning - O.co2 with non C.2 or S.o2 neighbor.\n",
      "RDKit WARNING: [16:51:43] 3bf1_ligand: warning - O.co2 with non C.2 or S.o2 neighbor.\n",
      "[16:51:43] 3bf1_ligand: warning - O.co2 with non C.2 or S.o2 neighbor.\n",
      "RDKit WARNING: [16:51:43] 3atv_ligand: warning - O.co2 with non C.2 or S.o2 neighbor.\n",
      "[16:51:43] 3atv_ligand: warning - O.co2 with non C.2 or S.o2 neighbor.\n",
      "RDKit WARNING: [16:51:44] 2pmk_ligand: warning - O.co2 with non C.2 or S.o2 neighbor.\n",
      "[16:51:44] 2pmk_ligand: warning - O.co2 with non C.2 or S.o2 neighbor.\n",
      "RDKit WARNING: [16:51:44] 3hu1_ligand: warning - O.co2 with non C.2 or S.o2 neighbor.\n",
      "RDKit WARNING: [16:51:44] 5jc1_ligand: warning - O.co2 with non C.2 or S.o2 neighbor.\n",
      "[16:51:44] 3hu1_ligand: warning - O.co2 with non C.2 or S.o2 neighbor.\n",
      "[16:51:44] 5jc1_ligand: warning - O.co2 with non C.2 or S.o2 neighbor.\n",
      "RDKit WARNING: [16:51:44] 4nzo_ligand: warning - O.co2 with non C.2 or S.o2 neighbor.\n",
      "RDKit WARNING: [16:51:44] 6a73_ligand: warning - O.co2 with non C.2 or S.o2 neighbor.\n",
      "RDKit WARNING: [16:51:44] 1ag9_ligand: warning - O.co2 with non C.2 or S.o2 neighbor.\n",
      "[16:51:44] 4nzo_ligand: warning - O.co2 with non C.2 or S.o2 neighbor.\n",
      "[16:51:44] 6a73_ligand: warning - O.co2 with non C.2 or S.o2 neighbor.\n",
      "[16:51:44] 1ag9_ligand: warning - O.co2 with non C.2 or S.o2 neighbor.\n",
      "RDKit ERROR: [16:51:44] Explicit valence for atom # 9 C, 5, is greater than permitted\n",
      "RDKit WARNING: [16:51:44] sanitise [16:51:44] 1a7x_ligand: [16:51:44] 3ex2_ligand: warning - O.co2 with non C.2 or S.o2 neighbor.\n",
      "[16:51:44] Explicit valence for atom # 9 C, 5, is greater than permitted\n",
      "[16:51:44] sanitise [16:51:44] 1a7x_ligand: [16:51:44] 3ex2_ligand: warning - O.co2 with non C.2 or S.o2 neighbor.\n",
      "RDKit WARNING: [16:51:44] 3qxh_ligand: warning - O.co2 with non C.2 or S.o2 neighbor.\n",
      "[16:51:44] 3qxh_ligand: warning - O.co2 with non C.2 or S.o2 neighbor.\n",
      "RDKit WARNING: [16:51:44] 4p4e_ligand: warning - O.co2 with non C.2 or S.o2 neighbor.\n",
      "[16:51:44] 4p4e_ligand: warning - O.co2 with non C.2 or S.o2 neighbor.\n",
      "RDKit WARNING: [16:51:44] 1pk0_ligand: warning - O.co2 with non C.2 or S.o2 neighbor.\n",
      "[16:51:44] 1pk0_ligand: warning - O.co2 with non C.2 or S.o2 neighbor.\n",
      "RDKit WARNING: [16:51:44] 2f89_ligand: warning - O.co2 with non C.2 or S.o2 neighbor.\n",
      "[16:51:44] 2f89_ligand: warning - O.co2 with non C.2 or S.o2 neighbor.\n",
      "RDKit WARNING: [16:51:44] 3zxe_ligand: warning - O.co2 with non C.2 or S.o2 neighbor.\n",
      "RDKit WARNING: [16:51:44] 5h63_ligand: warning - O.co2 with non C.2 or S.o2 neighbor.\n",
      "[16:51:44] 3zxe_ligand: warning - O.co2 with non C.2 or S.o2 neighbor.\n",
      "[16:51:44] 5h63_ligand: warning - O.co2 with non C.2 or S.o2 neighbor.\n",
      "RDKit WARNING: [16:51:44] 4dhp_ligand: warning - O.co2 with non C.2 or S.o2 neighbor.\n",
      "[16:51:44] 4dhp_ligand: warning - O.co2 with non C.2 or S.o2 neighbor.\n",
      "RDKit WARNING: [16:51:44] 6mny_ligand: Warning - no explicit hydrogens in mol2 file but needed for formal charge estimation.\n",
      "RDKit WARNING: [16:51:44] 6r4v_ligand: warning - O.co2 with non C.2 or S.o2 neighbor.\n",
      "[16:51:44] 6mny_ligand: Warning - no explicit hydrogens in mol2 file but needed for formal charge estimation.\n",
      "RDKit WARNING: [16:51:44] 4ay5_ligand: warning - O.co2 with non C.2 or S.o2 neighbor.\n",
      "[16:51:44] 6r4v_ligand: warning - O.co2 with non C.2 or S.o2 neighbor.\n",
      "[16:51:44] 4ay5_ligand: warning - O.co2 with non C.2 or S.o2 neighbor.\n",
      "RDKit WARNING: [16:51:44] 4u6e_ligand: warning - O.co2 with non C.2 or S.o2 neighbor.\n",
      "[16:51:44] 4u6e_ligand: warning - O.co2 with non C.2 or S.o2 neighbor.\n",
      "RDKit WARNING: [16:51:44] 4wyz_ligand: warning - O.co2 with non C.2 or S.o2 neighbor.\n",
      "RDKit WARNING: [16:51:44] 6g15_ligand: warning - O.co2 with non C.2 or S.o2 neighbor.\n",
      "RDKit WARNING: [16:51:44] 5ahu_ligand: warning - O.co2 with non C.2 or S.o2 neighbor.\n",
      "RDKit WARNING: [16:51:44] 2e99_ligand: warning - O.co2 with non C.2 or S.o2 neighbor.\n",
      "[16:51:44] 4wyz_ligand: warning - O.co2 with non C.2 or S.o2 neighbor.\n",
      "RDKit WARNING: [16:51:44] 2fr8_ligand: warning - O.co2 with non C.2 or S.o2 neighbor.\n",
      "RDKit WARNING: [16:51:44] 2rk7_ligand: Warning - no explicit hydrogens in mol2 file but needed for formal charge estimation.\n",
      "RDKit WARNING: [16:51:44] 1o4h_ligand: warning - O.co2 with non C.2 or S.o2 neighbor.\n",
      "[16:51:44] 6g15_ligand: warning - O.co2 with non C.2 or S.o2 neighbor.\n",
      "[16:51:44] 5ahu_ligand: warning - O.co2 with non C.2 or S.o2 neighbor.\n",
      "[16:51:44] 2e99_ligand: warning - O.co2 with non C.2 or S.o2 neighbor.\n",
      "[16:51:44] 2fr8_ligand: warning - O.co2 with non C.2 or S.o2 neighbor.\n",
      "[16:51:44] 2rk7_ligand: Warning - no explicit hydrogens in mol2 file but needed for formal charge estimation.\n",
      "[16:51:44] 1o4h_ligand: warning - O.co2 with non C.2 or S.o2 neighbor.\n",
      "RDKit WARNING: [16:51:44] 1joc_ligand: warning - O.co2 with non C.2 or S.o2 neighbor.\n",
      "RDKit WARNING: [16:51:44] 3t8s_ligand: warning - O.co2 with non C.2 or S.o2 neighbor.\n",
      "RDKit WARNING: [16:51:44] 3qo3_ligand: warning - O.co2 with non C.2 or S.o2 neighbor.\n",
      "RDKit WARNING: [16:51:44] 4h5e_ligand: warning - O.co2 with non C.2 or S.o2 neighbor.\n",
      "[16:51:44] 1joc_ligand: warning - O.co2 with non C.2 or S.o2 neighbor.\n",
      "[16:51:44] 3t8s_ligand: warning - O.co2 with non C.2 or S.o2 neighbor.\n",
      "[16:51:44] 3qo3_ligand: warning - O.co2 with non C.2 or S.o2 neighbor.\n",
      "[16:51:44] 4h5e_ligand: warning - O.co2 with non C.2 or S.o2 neighbor.\n",
      "RDKit WARNING: [16:51:44] 2gvd_ligand: warning - O.co2 with non C.2 or S.o2 neighbor.\n",
      "[16:51:44] 2gvd_ligand: warning - O.co2 with non C.2 or S.o2 neighbor.\n",
      "RDKit WARNING: [16:51:44] 3k5i_ligand: warning - O.co2 with non C.2 or S.o2 neighbor.\n",
      "RDKit WARNING: [16:51:44] 1epq_ligand: warning - O.co2 with non C.2 or S.o2 neighbor.\n",
      "RDKit WARNING: [16:51:44] 1g9s_ligand: warning - O.co2 with non C.2 or S.o2 neighbor.\n",
      "[16:51:44] 3k5i_ligand: warning - O.co2 with non C.2 or S.o2 neighbor.\n",
      "RDKit WARNING: [16:51:44] 6iph_ligand: warning - O.co2 with non C.2 or S.o2 neighbor.\n",
      "[16:51:44] 1epq_ligand: warning - O.co2 with non C.2 or S.o2 neighbor.\n",
      "[16:51:44] 1g9s_ligand: warning - O.co2 with non C.2 or S.o2 neighbor.\n",
      "[16:51:44] 6iph_ligand: warning - O.co2 with non C.2 or S.o2 neighbor.\n",
      "[16:51:44] 2j4q_ligand: warning - O.co2 with non C.2 or S.o2 neighbor.\n",
      "RDKit WARNING: [16:51:44] 2j4q_ligand: warning - O.co2 with non C.2 or S.o2 neighbor.\n",
      "RDKit WARNING: [16:51:44] 5mi9_ligand: warning - O.co2 with non C.2 or S.o2 neighbor.\n",
      "RDKit WARNING: [16:51:44] 2fsv_ligand: warning - O.co2 with non C.2 or S.o2 neighbor.\n",
      "RDKit WARNING: [16:51:44] 2xah_ligand: warning - O.co2 with non C.2 or S.o2 neighbor.\n",
      "RDKit WARNING: [16:51:44] 4c3k_ligand: warning - O.co2 with non C.2 or S.o2 neighbor.\n",
      "[16:51:44] 5mi9_ligand: warning - O.co2 with non C.2 or S.o2 neighbor.\n",
      "[16:51:44] 2fsv_ligand: warning - O.co2 with non C.2 or S.o2 neighbor.\n",
      "[16:51:44] 2xah_ligand: warning - O.co2 with non C.2 or S.o2 neighbor.\n",
      "[16:51:44] 4c3k_ligand: warning - O.co2 with non C.2 or S.o2 neighbor.\n",
      "RDKit WARNING: [16:51:44] 4zqt_ligand: warning - O.co2 with non C.2 or S.o2 neighbor.\n",
      "RDKit WARNING: [16:51:44] 2j7w_ligand: Warning - no explicit hydrogens in mol2 file but needed for formal charge estimation.\n",
      "RDKit WARNING: [16:51:44] 2j7w_ligand: warning - O.co2 with non C.2 or S.o2 neighbor.\n",
      "[16:51:44] 4zqt_ligand: warning - O.co2 with non C.2 or S.o2 neighbor.\n",
      "RDKit WARNING: [16:51:44] 4yih_ligand: warning - O.co2 with non C.2 or S.o2 neighbor.\n",
      "[16:51:44] 2j7w_ligand: Warning - no explicit hydrogens in mol2 file but needed for formal charge estimation.\n",
      "[16:51:44] 2j7w_ligand: warning - O.co2 with non C.2 or S.o2 neighbor.\n",
      "[16:51:44] 4yih_ligand: warning - O.co2 with non C.2 or S.o2 neighbor.\n",
      "RDKit WARNING: [16:51:44] 3upy_ligand: warning - O.co2 with non C.2 or S.o2 neighbor.\n",
      "[16:51:44] 3upy_ligand: warning - O.co2 with non C.2 or S.o2 neighbor.\n",
      "RDKit WARNING: [16:51:44] 1syo_ligand: warning - O.co2 with non C.2 or S.o2 neighbor.\n",
      "RDKit WARNING: [16:51:44] 5nyz_ligand: warning - O.co2 with non C.2 or S.o2 neighbor.\n",
      "RDKit WARNING: [16:51:44] 1bwn_ligand: warning - O.co2 with non C.2 or S.o2 neighbor.\n",
      "RDKit WARNING: [16:51:44] 4jvj_ligand: warning - O.co2 with non C.2 or S.o2 neighbor.\n",
      "[16:51:44] 1syo_ligand: warning - O.co2 with non C.2 or S.o2 neighbor.\n",
      "[16:51:44] 5nyz_ligand: warning - O.co2 with non C.2 or S.o2 neighbor.\n",
      "[16:51:44] 1bwn_ligand: warning - O.co2 with non C.2 or S.o2 neighbor.\n",
      "[16:51:44] 4jvj_ligand: warning - O.co2 with non C.2 or S.o2 neighbor.\n",
      "RDKit WARNING: [16:51:44] 4ono_ligand: warning - O.co2 with non C.2 or S.o2 neighbor.\n",
      "[16:51:44] 4ono_ligand: warning - O.co2 with non C.2 or S.o2 neighbor.\n",
      "[16:51:44] 3dba_ligand: warning - O.co2 with non C.2 or S.o2 neighbor.\n",
      "RDKit WARNING: [16:51:44] 3dba_ligand: warning - O.co2 with non C.2 or S.o2 neighbor.\n",
      "RDKit WARNING: [16:51:44] 5kap_ligand: warning - O.co2 with non C.2 or S.o2 neighbor.\n",
      "RDKit WARNING: [16:51:44] 4ozn_ligand: warning - O.co2 with non C.2 or S.o2 neighbor.\n",
      "[16:51:44] 5kap_ligand: warning - O.co2 with non C.2 or S.o2 neighbor.\n",
      "RDKit WARNING: [16:51:44] 3ksl_ligand: warning - O.co2 with non C.2 or S.o2 neighbor.\n",
      "[16:51:44] 4ozn_ligand: warning - O.co2 with non C.2 or S.o2 neighbor.\n",
      "[16:51:44] 3ksl_ligand: warning - O.co2 with non C.2 or S.o2 neighbor.\n",
      "RDKit WARNING: [16:51:44] 3ffu_ligand: warning - O.co2 with non C.2 or S.o2 neighbor.\n",
      "[16:51:44] 3ffu_ligand: warning - O.co2 with non C.2 or S.o2 neighbor.\n",
      "RDKit WARNING: [16:51:44] 4qsh_ligand: warning - O.co2 with non C.2 or S.o2 neighbor.\n",
      "[16:51:44] 4qsh_ligand: warning - O.co2 with non C.2 or S.o2 neighbor.\n",
      "RDKit WARNING: [16:51:44] 6j0k_ligand: warning - O.co2 with non C.2 or S.o2 neighbor.\n",
      "RDKit WARNING: [16:51:44] 3l0k_ligand: warning - O.co2 with non C.2 or S.o2 neighbor.\n",
      "RDKit WARNING: [16:51:44] 2pj4_ligand: warning - O.co2 with non C.2 or S.o2 neighbor.\n",
      "RDKit WARNING: [16:51:44] 3g4f_ligand: warning - O.co2 with non C.2 or S.o2 neighbor.\n",
      "RDKit WARNING: [16:51:44] 3d7m_ligand: warning - O.co2 with non C.2 or S.o2 neighbor.\n",
      "[16:51:44] 6j0k_ligand: warning - O.co2 with non C.2 or S.o2 neighbor.\n",
      "RDKit WARNING: [16:51:44] 1t1r_ligand: warning - O.co2 with non C.2 or S.o2 neighbor.\n",
      "RDKit WARNING: [16:51:44] 6n82_ligand: warning - O.co2 with non C.2 or S.o2 neighbor.\n",
      "[16:51:44] 3l0k_ligand: warning - O.co2 with non C.2 or S.o2 neighbor.\n",
      "[16:51:44] 2pj4_ligand: warning - O.co2 with non C.2 or S.o2 neighbor.\n",
      "[16:51:44] 3g4f_ligand: warning - O.co2 with non C.2 or S.o2 neighbor.\n",
      "[16:51:44] 3d7m_ligand: warning - O.co2 with non C.2 or S.o2 neighbor.\n",
      "[16:51:44] 1t1r_ligand: warning - O.co2 with non C.2 or S.o2 neighbor.\n",
      "[16:51:44] 6n82_ligand: warning - O.co2 with non C.2 or S.o2 neighbor.\n",
      "RDKit WARNING: [16:51:44] 4y6r_ligand: warning - O.co2 with non C.2 or S.o2 neighbor.\n",
      "RDKit WARNING: [16:51:44] 3qt7_ligand: warning - O.co2 with non C.2 or S.o2 neighbor.\n",
      "[16:51:44] 4y6r_ligand: warning - O.co2 with non C.2 or S.o2 neighbor.\n",
      "RDKit WARNING: [16:51:44] 6j7l_ligand: warning - O.co2 with non C.2 or S.o2 neighbor.\n",
      "RDKit WARNING: [16:51:44] 1akr_ligand: warning - O.co2 with non C.2 or S.o2 neighbor.\n",
      "RDKit WARNING: [16:51:44] 1oth_ligand: warning - O.co2 with non C.2 or S.o2 neighbor.\n",
      "RDKit WARNING: [16:51:44] 3n2c_ligand: warning - O.co2 with non C.2 or S.o2 neighbor.\n",
      "RDKit WARNING: [16:51:44] 2c6c_ligand: warning - O.co2 with non C.2 or S.o2 neighbor.\n",
      "[16:51:44] 3qt7_ligand: warning - O.co2 with non C.2 or S.o2 neighbor.\n",
      "[16:51:44] 6j7l_ligand: warning - O.co2 with non C.2 or S.o2 neighbor.\n",
      "[16:51:44] 1akr_ligand: warning - O.co2 with non C.2 or S.o2 neighbor.\n",
      "[16:51:44] 1oth_ligand: warning - O.co2 with non C.2 or S.o2 neighbor.\n",
      "[16:51:44] 3n2c_ligand: warning - O.co2 with non C.2 or S.o2 neighbor.\n",
      "[16:51:44] 2c6c_ligand: warning - O.co2 with non C.2 or S.o2 neighbor.\n",
      "RDKit WARNING: [16:51:44] 1qf5_ligand: warning - O.co2 with non C.2 or S.o2 neighbor.\n",
      "RDKit WARNING: [16:51:44] 5ags_ligand: warning - O.co2 with non C.2 or S.o2 neighbor.\n",
      "[16:51:44] 1qf5_ligand: warning - O.co2 with non C.2 or S.o2 neighbor.\n",
      "[16:51:44] 5ags_ligand: warning - O.co2 with non C.2 or S.o2 neighbor.\n",
      "RDKit WARNING: [16:51:44] 4hkp_ligand: warning - O.co2 with non C.2 or S.o2 neighbor.\n",
      "RDKit WARNING: [16:51:44] 3l0n_ligand: warning - O.co2 with non C.2 or S.o2 neighbor.\n",
      "RDKit WARNING: [16:51:44] 6oh2_ligand: warning - O.co2 with non C.2 or S.o2 neighbor.\n",
      "[16:51:44] 4hkp_ligand: warning - O.co2 with non C.2 or S.o2 neighbor.\n",
      "[16:51:44] 3l0n_ligand: warning - O.co2 with non C.2 or S.o2 neighbor.\n",
      "RDKit WARNING: [16:51:44] 4fl3_ligand: warning - O.co2 with non C.2 or S.o2 neighbor.\n",
      "RDKit WARNING: [16:51:44] 4abk_ligand: warning - O.co2 with non C.2 or S.o2 neighbor.\n",
      "[16:51:44] 6oh2_ligand: warning - O.co2 with non C.2 or S.o2 neighbor.\n",
      "[16:51:44] 4fl3_ligand: warning - O.co2 with non C.2 or S.o2 neighbor.\n",
      "RDKit WARNING: [16:51:44] 6ipi_ligand: warning - O.co2 with non C.2 or S.o2 neighbor.\n",
      "RDKit WARNING: [16:51:44] 4yvz_ligand: warning - O.co2 with non C.2 or S.o2 neighbor.\n",
      "[16:51:44] 4abk_ligand: warning - O.co2 with non C.2 or S.o2 neighbor.\n",
      "[16:51:44] 6ipi_ligand: warning - O.co2 with non C.2 or S.o2 neighbor.\n",
      "[16:51:44] 4yvz_ligand: warning - O.co2 with non C.2 or S.o2 neighbor.\n",
      "RDKit WARNING: [16:51:44] 3dgn_ligand: warning - O.co2 with non C.2 or S.o2 neighbor.\n",
      "[16:51:44] 3dgn_ligand: warning - O.co2 with non C.2 or S.o2 neighbor.\n",
      "RDKit WARNING: [16:51:44] 4fvq_ligand: warning - O.co2 with non C.2 or S.o2 neighbor.\n",
      "RDKit WARNING: [16:51:44] 1o4b_ligand: warning - O.co2 with non C.2 or S.o2 neighbor.\n",
      "[16:51:44] 4fvq_ligand: warning - O.co2 with non C.2 or S.o2 neighbor.\n",
      "[16:51:44] 1o4b_ligand: warning - O.co2 with non C.2 or S.o2 neighbor.\n",
      "RDKit WARNING: [16:51:44] 3otf_ligand: warning - O.co2 with non C.2 or S.o2 neighbor.\n",
      "[16:51:44] 3otf_ligand: warning - O.co2 with non C.2 or S.o2 neighbor.\n",
      "RDKit WARNING: [16:51:44] 5khj_ligand: warning - O.co2 with non C.2 or S.o2 neighbor.\n",
      "[16:51:44] 5khj_ligand: warning - O.co2 with non C.2 or S.o2 neighbor.\n",
      "RDKit WARNING: [16:51:44] 4u5t_ligand: Warning - no explicit hydrogens in mol2 file but needed for formal charge estimation.\n",
      "[16:51:44] 4u5t_ligand: Warning - no explicit hydrogens in mol2 file but needed for formal charge estimation.\n",
      "RDKit WARNING: [16:51:44] 5agi_ligand: warning - O.co2 with non C.2 or S.o2 neighbor.\n",
      "[16:51:44] 5agi_ligand: warning - O.co2 with non C.2 or S.o2 neighbor.\n",
      "RDKit WARNING: [16:51:44] 1y8p_ligand: warning - O.co2 with non C.2 or S.o2 neighbor.\n",
      "[16:51:44] 1y8p_ligand: warning - O.co2 with non C.2 or S.o2 neighbor.\n",
      "RDKit WARNING: [16:51:44] 4kln_ligand: warning - O.co2 with non C.2 or S.o2 neighbor.\n",
      "RDKit ERROR: [16:51:44] Explicit valence for atom # 2 O, 3, is greater than permitted\n",
      "[16:51:44] 4kln_ligand: warning - O.co2 with non C.2 or S.o2 neighbor.\n",
      "[16:51:44] Explicit valence for atom # 2 O, 3, is greater than permitted\n",
      "RDKit WARNING: [16:51:44] sanitise [16:51:44] 3bho_ligand_experimental: [16:51:44] 2pj1_ligand: warning - O.co2 with non C.2 or S.o2 neighbor.\n",
      "[16:51:44] sanitise [16:51:44] 3bho_ligand_experimental: [16:51:44] 2pj1_ligand: warning - O.co2 with non C.2 or S.o2 neighbor.\n",
      "RDKit WARNING: [16:51:44] 4gdy_ligand: warning - O.co2 with non C.2 or S.o2 neighbor.\n",
      "RDKit WARNING: [16:51:44] 5a3q_ligand: warning - O.co2 with non C.2 or S.o2 neighbor.\n",
      "[16:51:44] 4gdy_ligand: warning - O.co2 with non C.2 or S.o2 neighbor.\n",
      "RDKit WARNING: [16:51:44] 4h5c_ligand: warning - O.co2 with non C.2 or S.o2 neighbor.\n",
      "[16:51:44] 5a3q_ligand: warning - O.co2 with non C.2 or S.o2 neighbor.\n",
      "[16:51:44] 4h5c_ligand: warning - O.co2 with non C.2 or S.o2 neighbor.\n",
      "RDKit WARNING: [16:51:44] 4rhu_ligand: warning - O.co2 with non C.2 or S.o2 neighbor.\n",
      "RDKit WARNING: [16:51:44] 4l5j_ligand: warning - O.co2 with non C.2 or S.o2 neighbor.\n",
      "[16:51:44] 4rhu_ligand: warning - O.co2 with non C.2 or S.o2 neighbor.\n",
      "[16:51:44] 4l5j_ligand: warning - O.co2 with non C.2 or S.o2 neighbor.\n",
      "RDKit WARNING: [16:51:44] 2wji_ligand: warning - O.co2 with non C.2 or S.o2 neighbor.\n",
      "RDKit WARNING: [16:51:44] 5km5_ligand: warning - O.co2 with non C.2 or S.o2 neighbor.\n",
      "RDKit ERROR: [16:51:44] Can't kekulize mol.  Unkekulized atoms: 3 4 5 15 17\n",
      "RDKit ERROR: \n",
      "[16:51:44] 2wji_ligand: warning - O.co2 with non C.2 or S.o2 neighbor.\n",
      "[16:51:44] 5km5_ligand: warning - O.co2 with non C.2 or S.o2 neighbor.\n",
      "[16:51:44] Can't kekulize mol.  Unkekulized atoms: 3 4 5 15 17\n",
      "\n",
      "RDKit WARNING: [16:51:44] sanitise [16:51:44] 5tyk_ligand: [16:51:44] 4dn0_ligand: warning - O.co2 with non C.2 or S.o2 neighbor.\n",
      "RDKit ERROR: [16:51:44] Can't kekulize mol.  Unkekulized atoms: 0 2 3 6 7 8 9 10 11\n",
      "RDKit ERROR: \n",
      "RDKit WARNING: [16:51:44] sanitise [16:51:44] 2vr0_ligand: [16:51:44] 1pun_ligand: warning - O.co2 with non C.2 or S.o2 neighbor.\n",
      "[16:51:44] sanitise [16:51:44] 5tyk_ligand: [16:51:44] 4dn0_ligand: warning - O.co2 with non C.2 or S.o2 neighbor.\n",
      "[16:51:44] Can't kekulize mol.  Unkekulized atoms: 0 2 3 6 7 8 9 10 11\n",
      "\n",
      "[16:51:44] sanitise [16:51:44] 2vr0_ligand: [16:51:44] 1pun_ligand: warning - O.co2 with non C.2 or S.o2 neighbor.\n",
      "RDKit WARNING: [16:51:44] 1mpl_ligand: warning - O.co2 with non C.2 or S.o2 neighbor.\n",
      "RDKit WARNING: [16:51:44] 1sz0_ligand: warning - O.co2 with non C.2 or S.o2 neighbor.\n",
      "RDKit WARNING: [16:51:44] 1pxh_ligand: warning - O.co2 with non C.2 or S.o2 neighbor.\n",
      "RDKit WARNING: [16:51:44] 5vdp_ligand: warning - O.co2 with non C.2 or S.o2 neighbor.\n",
      "[16:51:44] 1mpl_ligand: warning - O.co2 with non C.2 or S.o2 neighbor.\n",
      "RDKit WARNING: [16:51:44] 1tsv_ligand: warning - O.co2 with non C.2 or S.o2 neighbor.\n",
      "RDKit ERROR: [16:51:44] Explicit valence for atom # 1 C, 5, is greater than permitted\n",
      "[16:51:44] 1sz0_ligand: warning - O.co2 with non C.2 or S.o2 neighbor.\n",
      "[16:51:44] 1pxh_ligand: warning - O.co2 with non C.2 or S.o2 neighbor.\n",
      "[16:51:44] 5vdp_ligand: warning - O.co2 with non C.2 or S.o2 neighbor.\n",
      "[16:51:44] 1tsv_ligand: warning - O.co2 with non C.2 or S.o2 neighbor.\n",
      "RDKit WARNING: [16:51:44] sanitise [16:51:44] 3fy0_ligand: [16:51:44] 5knx_ligand: warning - O.co2 with non C.2 or S.o2 neighbor.\n",
      "[16:51:44] Explicit valence for atom # 1 C, 5, is greater than permitted\n",
      "[16:51:44] sanitise [16:51:44] 3fy0_ligand: [16:51:44] 5knx_ligand: warning - O.co2 with non C.2 or S.o2 neighbor.\n",
      "RDKit WARNING: [16:51:44] 5ey8_ligand: warning - O.co2 with non C.2 or S.o2 neighbor.\n",
      "[16:51:44] 5ey8_ligand: warning - O.co2 with non C.2 or S.o2 neighbor.\n",
      "RDKit WARNING: [16:51:44] 4y94_ligand: warning - O.co2 with non C.2 or S.o2 neighbor.\n",
      "RDKit WARNING: [16:51:44] 1wc6_ligand: warning - O.co2 with non C.2 or S.o2 neighbor.\n",
      "RDKit WARNING: [16:51:44] 1w25_ligand: warning - O.co2 with non C.2 or S.o2 neighbor.\n",
      "RDKit WARNING: [16:51:44] 1njb_ligand: warning - O.co2 with non C.2 or S.o2 neighbor.\n",
      "[16:51:44] 4y94_ligand: warning - O.co2 with non C.2 or S.o2 neighbor.\n",
      "[16:51:44] 1wc6_ligand: warning - O.co2 with non C.2 or S.o2 neighbor.\n",
      "[16:51:44] 1w25_ligand: warning - O.co2 with non C.2 or S.o2 neighbor.\n",
      "[16:51:44] 1njb_ligand: warning - O.co2 with non C.2 or S.o2 neighbor.\n",
      "RDKit WARNING: [16:51:44] 4gv8_ligand: warning - O.co2 with non C.2 or S.o2 neighbor.\n",
      "RDKit WARNING: [16:51:44] 4o4r_ligand: warning - O.co2 with non C.2 or S.o2 neighbor.\n",
      "[16:51:44] 4gv8_ligand: warning - O.co2 with non C.2 or S.o2 neighbor.\n",
      "[16:51:44] 4o4r_ligand: warning - O.co2 with non C.2 or S.o2 neighbor.\n",
      "RDKit WARNING: [16:51:44] 5vt4_ligand: warning - O.co2 with non C.2 or S.o2 neighbor.\n",
      "[16:51:44] 5vt4_ligand: warning - O.co2 with non C.2 or S.o2 neighbor.\n",
      "RDKit WARNING: [16:51:44] 5im3_ligand: warning - O.co2 with non C.2 or S.o2 neighbor.\n",
      "[16:51:44] 5im3_ligand: warning - O.co2 with non C.2 or S.o2 neighbor.\n",
      "RDKit WARNING: [16:51:44] 5ogl_ligand: warning - O.co2 with non C.2 or S.o2 neighbor.\n",
      "[16:51:44] 5ogl_ligand: warning - O.co2 with non C.2 or S.o2 neighbor.\n",
      "RDKit WARNING: [16:51:44] 1x6u_ligand: warning - O.co2 with non C.2 or S.o2 neighbor.\n",
      "RDKit WARNING: [16:51:44] 2z7i_ligand: warning - O.co2 with non C.2 or S.o2 neighbor.\n",
      "RDKit WARNING: [16:51:44] 2c9d_ligand: warning - O.co2 with non C.2 or S.o2 neighbor.\n",
      "[16:51:44] 1x6u_ligand: warning - O.co2 with non C.2 or S.o2 neighbor.\n",
      "RDKit ERROR: [16:51:44] Explicit valence for atom # 25 C, 5, is greater than permitted\n",
      "RDKit WARNING: [16:51:44] sanitise [16:51:44] 3cst_ligand: [16:51:44] 3gpe_ligand: warning - O.co2 with non C.2 or S.o2 neighbor.\n",
      "RDKit WARNING: [16:51:44] 2clm_ligand: warning - O.co2 with non C.2 or S.o2 neighbor.\n",
      "RDKit WARNING: [16:51:44] 2q80_ligand: warning - O.co2 with non C.2 or S.o2 neighbor.\n",
      "[16:51:44] 2z7i_ligand: warning - O.co2 with non C.2 or S.o2 neighbor.\n",
      "[16:51:44] 2c9d_ligand: warning - O.co2 with non C.2 or S.o2 neighbor.\n",
      "[16:51:44] Explicit valence for atom # 25 C, 5, is greater than permitted\n",
      "[16:51:44] sanitise [16:51:44] 3cst_ligand: [16:51:44] 3gpe_ligand: warning - O.co2 with non C.2 or S.o2 neighbor.\n",
      "[16:51:44] 2clm_ligand: warning - O.co2 with non C.2 or S.o2 neighbor.\n",
      "RDKit WARNING: [16:51:44] 6n97_ligand: warning - O.co2 with non C.2 or S.o2 neighbor.\n",
      "RDKit WARNING: [16:51:44] 3bi1_ligand: warning - O.co2 with non C.2 or S.o2 neighbor.\n",
      "RDKit WARNING: [16:51:44] 3x1k_ligand: warning - O.co2 with non C.2 or S.o2 neighbor.\n",
      "RDKit WARNING: [16:51:44] 3ldw_ligand: warning - O.co2 with non C.2 or S.o2 neighbor.\n",
      "[16:51:44] 2q80_ligand: warning - O.co2 with non C.2 or S.o2 neighbor.\n",
      "[16:51:44] 6n97_ligand: warning - O.co2 with non C.2 or S.o2 neighbor.\n",
      "[16:51:44] 3bi1_ligand: warning - O.co2 with non C.2 or S.o2 neighbor.\n",
      "[16:51:44] 3x1k_ligand: warning - O.co2 with non C.2 or S.o2 neighbor.\n",
      "[16:51:44] 3ldw_ligand: warning - O.co2 with non C.2 or S.o2 neighbor.\n",
      "RDKit WARNING: [16:51:44] 2lha_ligand: warning - O.co2 with non C.2 or S.o2 neighbor.\n",
      "RDKit WARNING: [16:51:44] 2bdf_ligand: warning - O.co2 with non C.2 or S.o2 neighbor.\n",
      "[16:51:44] 2lha_ligand: warning - O.co2 with non C.2 or S.o2 neighbor.\n",
      "RDKit WARNING: [16:51:44] 5hh5_ligand: warning - O.co2 with non C.2 or S.o2 neighbor.\n",
      "RDKit WARNING: [16:51:44] 4p4f_ligand: warning - O.co2 with non C.2 or S.o2 neighbor.\n",
      "RDKit WARNING: [16:51:44] 5WAD_LIGAND: warning - O.co2 with non C.2 or S.o2 neighbor.\n",
      "[16:51:44] 2bdf_ligand: warning - O.co2 with non C.2 or S.o2 neighbor.\n",
      "[16:51:44] 5hh5_ligand: warning - O.co2 with non C.2 or S.o2 neighbor.\n",
      "[16:51:44] 4p4f_ligand: warning - O.co2 with non C.2 or S.o2 neighbor.\n",
      "[16:51:44] 5WAD_LIGAND: warning - O.co2 with non C.2 or S.o2 neighbor.\n",
      "RDKit WARNING: [16:51:44] 4p44_ligand: warning - O.co2 with non C.2 or S.o2 neighbor.\n",
      "[16:51:44] 4p44_ligand: warning - O.co2 with non C.2 or S.o2 neighbor.\n",
      "RDKit WARNING: [16:51:44] 6hq4_ligand: warning - O.co2 with non C.2 or S.o2 neighbor.\n",
      "RDKit WARNING: [16:51:44] 2xtn_ligand: warning - O.co2 with non C.2 or S.o2 neighbor.\n",
      "[16:51:44] 6hq4_ligand: warning - O.co2 with non C.2 or S.o2 neighbor.\n",
      "RDKit WARNING: [16:51:44] 5tv1_ligand: warning - O.co2 with non C.2 or S.o2 neighbor.\n",
      "[16:51:44] 2xtn_ligand: warning - O.co2 with non C.2 or S.o2 neighbor.\n",
      "[16:51:44] 5tv1_ligand: warning - O.co2 with non C.2 or S.o2 neighbor.\n",
      "RDKit WARNING: [16:51:44] 3qc9_ligand: warning - O.co2 with non C.2 or S.o2 neighbor.\n",
      "[16:51:44] 3qc9_ligand: warning - O.co2 with non C.2 or S.o2 neighbor.\n",
      "RDKit WARNING: [16:51:44] 1skj_ligand: warning - O.co2 with non C.2 or S.o2 neighbor.\n",
      "[16:51:44] 1skj_ligand: warning - O.co2 with non C.2 or S.o2 neighbor.\n",
      "RDKit WARNING: [16:51:44] 5aqk_ligand: warning - O.co2 with non C.2 or S.o2 neighbor.\n",
      "RDKit WARNING: [16:51:44] 3ncq_ligand: warning - O.co2 with non C.2 or S.o2 neighbor.\n",
      "[16:51:44] 5aqk_ligand: warning - O.co2 with non C.2 or S.o2 neighbor.\n",
      "RDKit WARNING: [16:51:44] 2vl8_ligand: warning - O.co2 with non C.2 or S.o2 neighbor.\n",
      "[16:51:44] 3ncq_ligand: warning - O.co2 with non C.2 or S.o2 neighbor.\n",
      "[16:51:44] 2vl8_ligand: warning - O.co2 with non C.2 or S.o2 neighbor.\n",
      "RDKit WARNING: [16:51:44] 6n7z_ligand: warning - O.co2 with non C.2 or S.o2 neighbor.\n",
      "RDKit WARNING: [16:51:44] 2wl4_ligand: warning - O.co2 with non C.2 or S.o2 neighbor.\n",
      "[16:51:44] 6n7z_ligand: warning - O.co2 with non C.2 or S.o2 neighbor.\n",
      "[16:51:44] 2wl4_ligand: warning - O.co2 with non C.2 or S.o2 neighbor.\n",
      "RDKit WARNING: [16:51:44] 5jmw_ligand: warning - O.co2 with non C.2 or S.o2 neighbor.\n",
      "RDKit ERROR: [16:51:44] Can't kekulize mol.  Unkekulized atoms: 0 26\n",
      "RDKit ERROR: \n",
      "RDKit WARNING: [16:51:44] sanitise [16:51:44] 2q2n_ligand: [16:51:44] 5juz_ligand: warning - O.co2 with non C.2 or S.o2 neighbor.\n",
      "[16:51:44] 5jmw_ligand: warning - O.co2 with non C.2 or S.o2 neighbor.\n",
      "[16:51:44] Can't kekulize mol.  Unkekulized atoms: 0 26\n",
      "\n",
      "[16:51:44] sanitise [16:51:44] 2q2n_ligand: [16:51:44] 5juz_ligand: warning - O.co2 with non C.2 or S.o2 neighbor.\n",
      "RDKit WARNING: [16:51:44] 1kak_ligand: warning - O.co2 with non C.2 or S.o2 neighbor.\n",
      "RDKit WARNING: [16:51:44] 5brn_ligand: warning - O.co2 with non C.2 or S.o2 neighbor.\n",
      "RDKit WARNING: [16:51:44] 1r10_ligand: warning - O.co2 with non C.2 or S.o2 neighbor.\n",
      "[16:51:44] 1kak_ligand: warning - O.co2 with non C.2 or S.o2 neighbor.\n",
      "[16:51:44] 5brn_ligand: warning - O.co2 with non C.2 or S.o2 neighbor.\n",
      "[16:51:44] 1r10_ligand: warning - O.co2 with non C.2 or S.o2 neighbor.\n",
      "RDKit WARNING: [16:51:44] 5tzf_ligand: warning - O.co2 with non C.2 or S.o2 neighbor.\n",
      "RDKit WARNING: [16:51:45] 1ao8_ligand: warning - charged amidine and isFixed atom.\n",
      "[16:51:44] 5tzf_ligand: warning - O.co2 with non C.2 or S.o2 neighbor.\n",
      "RDKit WARNING: [16:51:45] 2jbv_ligand: warning - O.co2 with non C.2 or S.o2 neighbor.\n",
      "RDKit ERROR: [16:51:45] Can't kekulize mol.  Unkekulized atoms: 2 3 4 5 6\n",
      "RDKit ERROR: \n",
      "RDKit WARNING: [16:51:45] sanitise [16:51:45] 5HLM_LIGAND: [16:51:45] 3tc5_ligand: warning - O.co2 with non C.2 or S.o2 neighbor.\n",
      "RDKit WARNING: [16:51:45] 3qx8_ligand: warning - O.co2 with non C.2 or S.o2 neighbor.\n",
      "RDKit WARNING: [16:51:45] 1u0h_ligand: warning - O.co2 with non C.2 or S.o2 neighbor.\n",
      "[16:51:45] 1ao8_ligand: warning - charged amidine and isFixed atom.\n",
      "[16:51:45] 2jbv_ligand: warning - O.co2 with non C.2 or S.o2 neighbor.\n",
      "[16:51:45] Can't kekulize mol.  Unkekulized atoms: 2 3 4 5 6\n",
      "\n",
      "[16:51:45] sanitise [16:51:45] 5HLM_LIGAND: [16:51:45] 3tc5_ligand: warning - O.co2 with non C.2 or S.o2 neighbor.\n",
      "[16:51:45] 3qx8_ligand: warning - O.co2 with non C.2 or S.o2 neighbor.\n",
      "[16:51:45] 1u0h_ligand: warning - O.co2 with non C.2 or S.o2 neighbor.\n",
      "RDKit WARNING: [16:51:45] 6i1r_ligand: warning - O.co2 with non C.2 or S.o2 neighbor.\n",
      "RDKit WARNING: [16:51:45] 4y67_ligand: warning - O.co2 with non C.2 or S.o2 neighbor.\n",
      "[16:51:45] 6i1r_ligand: warning - O.co2 with non C.2 or S.o2 neighbor.\n",
      "[16:51:45] 4y67_ligand: warning - O.co2 with non C.2 or S.o2 neighbor.\n",
      "RDKit WARNING: [16:51:45] 1cw2_ligand: warning - O.co2 with non C.2 or S.o2 neighbor.\n",
      "[16:51:45] 1cw2_ligand: warning - O.co2 with non C.2 or S.o2 neighbor.\n",
      "RDKit WARNING: [16:51:45] 1tmm_ligand: warning - O.co2 with non C.2 or S.o2 neighbor.\n",
      "[16:51:45] 1tmm_ligand: warning - O.co2 with non C.2 or S.o2 neighbor.\n",
      "RDKit WARNING: [16:51:45] 4dhm_ligand: warning - O.co2 with non C.2 or S.o2 neighbor.\n",
      "[16:51:45] 4dhm_ligand: warning - O.co2 with non C.2 or S.o2 neighbor.\n",
      "RDKit WARNING: [16:51:45] 1o49_ligand: warning - O.co2 with non C.2 or S.o2 neighbor.\n",
      "RDKit WARNING: [16:51:45] 4xnw_ligand: warning - O.co2 with non C.2 or S.o2 neighbor.\n",
      "RDKit WARNING: [16:51:45] 6ak5_ligand: warning - O.co2 with non C.2 or S.o2 neighbor.\n",
      "RDKit WARNING: [16:51:45] 1i41_ligand: warning - O.co2 with non C.2 or S.o2 neighbor.\n",
      "RDKit WARNING: [16:51:45] 5fom_ligand: warning - O.co2 with non C.2 or S.o2 neighbor.\n",
      "[16:51:45] 1o49_ligand: warning - O.co2 with non C.2 or S.o2 neighbor.\n",
      "[16:51:45] 4xnw_ligand: warning - O.co2 with non C.2 or S.o2 neighbor.\n",
      "[16:51:45] 6ak5_ligand: warning - O.co2 with non C.2 or S.o2 neighbor.\n",
      "[16:51:45] 1i41_ligand: warning - O.co2 with non C.2 or S.o2 neighbor.\n",
      "[16:51:45] 5fom_ligand: warning - O.co2 with non C.2 or S.o2 neighbor.\n",
      "RDKit WARNING: [16:51:45] 6b4h_ligand: warning - O.co2 with non C.2 or S.o2 neighbor.\n",
      "RDKit WARNING: [16:51:45] 2pgj_ligand: warning - O.co2 with non C.2 or S.o2 neighbor.\n",
      "RDKit WARNING: [16:51:45] 2wqp_ligand: warning - O.co2 with non C.2 or S.o2 neighbor.\n",
      "RDKit WARNING: [16:51:45] 3bb1_ligand: warning - O.co2 with non C.2 or S.o2 neighbor.\n",
      "[16:51:45] 6b4h_ligand: warning - O.co2 with non C.2 or S.o2 neighbor.\n",
      "[16:51:45] 2pgj_ligand: warning - O.co2 with non C.2 or S.o2 neighbor.\n",
      "[16:51:45] 2wqp_ligand: warning - O.co2 with non C.2 or S.o2 neighbor.\n",
      "[16:51:45] 3bb1_ligand: warning - O.co2 with non C.2 or S.o2 neighbor.\n",
      "RDKit WARNING: [16:51:45] 6hq3_ligand: warning - O.co2 with non C.2 or S.o2 neighbor.\n",
      "[16:51:45] 6hq3_ligand: warning - O.co2 with non C.2 or S.o2 neighbor.\n",
      "RDKit WARNING: [16:51:45] 3m94_ligand: warning - O.co2 with non C.2 or S.o2 neighbor.\n",
      "[16:51:45] 3m94_ligand: warning - O.co2 with non C.2 or S.o2 neighbor.\n",
      "RDKit WARNING: [16:51:45] 6iae_ligand: warning - O.co2 with non C.2 or S.o2 neighbor.\n",
      "[16:51:45] 6iae_ligand: warning - O.co2 with non C.2 or S.o2 neighbor.\n",
      "RDKit WARNING: [16:51:45] 3wcf_ligand: warning - O.co2 with non C.2 or S.o2 neighbor.\n",
      "[16:51:45] 3wcf_ligand: warning - O.co2 with non C.2 or S.o2 neighbor.\n",
      "RDKit WARNING: [16:51:45] 5vdq_ligand: warning - O.co2 with non C.2 or S.o2 neighbor.\n",
      "[16:51:45] 5vdq_ligand: warning - O.co2 with non C.2 or S.o2 neighbor.\n",
      "RDKit WARNING: [16:51:45] 3hiv_ligand: warning - O.co2 with non C.2 or S.o2 neighbor.\n",
      "[16:51:45] 3hiv_ligand: warning - O.co2 with non C.2 or S.o2 neighbor.\n",
      "RDKit WARNING: [16:51:45] 2z78_ligand: warning - O.co2 with non C.2 or S.o2 neighbor.\n",
      "[16:51:45] 2z78_ligand: warning - O.co2 with non C.2 or S.o2 neighbor.\n",
      "RDKit WARNING: [16:51:45] 1m74_ligand: warning - O.co2 with non C.2 or S.o2 neighbor.\n",
      "RDKit WARNING: [16:51:45] 2y4k_ligand: warning - O.co2 with non C.2 or S.o2 neighbor.\n",
      "RDKit WARNING: [16:51:45] 6mmc_ligand: warning - O.co2 with non C.2 or S.o2 neighbor.\n",
      "RDKit WARNING: [16:51:45] 5jic_ligand: warning - O.co2 with non C.2 or S.o2 neighbor.\n",
      "RDKit WARNING: [16:51:45] 3hxi_ligand: warning - O.co2 with non C.2 or S.o2 neighbor.\n",
      "[16:51:45] 1m74_ligand: warning - O.co2 with non C.2 or S.o2 neighbor.\n",
      "[16:51:45] 2y4k_ligand: warning - O.co2 with non C.2 or S.o2 neighbor.\n",
      "[16:51:45] 6mmc_ligand: warning - O.co2 with non C.2 or S.o2 neighbor.\n",
      "[16:51:45] 5jic_ligand: warning - O.co2 with non C.2 or S.o2 neighbor.\n",
      "[16:51:45] 3hxi_ligand: warning - O.co2 with non C.2 or S.o2 neighbor.\n",
      "RDKit WARNING: [16:51:45] 2pj3_ligand: warning - O.co2 with non C.2 or S.o2 neighbor.\n",
      "RDKit WARNING: [16:51:45] 2w5i_ligand: warning - O.co2 with non C.2 or S.o2 neighbor.\n",
      "RDKit WARNING: [16:51:45] 4dt6_ligand: warning - O.co2 with non C.2 or S.o2 neighbor.\n",
      "[16:51:45] 2pj3_ligand: warning - O.co2 with non C.2 or S.o2 neighbor.\n",
      "[16:51:45] 2w5i_ligand: warning - O.co2 with non C.2 or S.o2 neighbor.\n",
      "[16:51:45] 4dt6_ligand: warning - O.co2 with non C.2 or S.o2 neighbor.\n",
      "RDKit WARNING: [16:51:45] 6g22_ligand: warning - O.co2 with non C.2 or S.o2 neighbor.\n",
      "[16:51:45] 6g22_ligand: warning - O.co2 with non C.2 or S.o2 neighbor.\n",
      "RDKit WARNING: [16:51:45] 3iaf_ligand: warning - O.co2 with non C.2 or S.o2 neighbor.\n",
      "RDKit WARNING: [16:51:45] 4fvr_ligand: warning - O.co2 with non C.2 or S.o2 neighbor.\n",
      "[16:51:45] 3iaf_ligand: warning - O.co2 with non C.2 or S.o2 neighbor.\n",
      "[16:51:45] 4fvr_ligand: warning - O.co2 with non C.2 or S.o2 neighbor.\n",
      "RDKit WARNING: [16:51:45] 4gwk_ligand: warning - O.co2 with non C.2 or S.o2 neighbor.\n",
      "[16:51:45] 4gwk_ligand: warning - O.co2 with non C.2 or S.o2 neighbor.\n",
      "RDKit WARNING: [16:51:45] 6n5c_ligand: warning - O.co2 with non C.2 or S.o2 neighbor.\n",
      "[16:51:45] 6n5c_ligand: warning - O.co2 with non C.2 or S.o2 neighbor.\n",
      "RDKit WARNING: [16:51:45] 6pfj_ligand: warning - O.co2 with non C.2 or S.o2 neighbor.\n",
      "[16:51:45] 6pfj_ligand: warning - O.co2 with non C.2 or S.o2 neighbor.\n",
      "[16:51:45] 1b39_ligand: warning - O.co2 with non C.2 or S.o2 neighbor.\n",
      "RDKit WARNING: [16:51:45] 1b39_ligand: warning - O.co2 with non C.2 or S.o2 neighbor.\n",
      "RDKit WARNING: [16:51:45] 2fq6_ligand: warning - O.co2 with non C.2 or S.o2 neighbor.\n",
      "[16:51:45] 2fq6_ligand: warning - O.co2 with non C.2 or S.o2 neighbor.\n",
      "RDKit WARNING: [16:51:45] 2qcg_ligand: warning - O.co2 with non C.2 or S.o2 neighbor.\n",
      "RDKit WARNING: [16:51:45] 5k7h_ligand: warning - O.co2 with non C.2 or S.o2 neighbor.\n",
      "RDKit WARNING: [16:51:45] 3oka_ligand: warning - O.co2 with non C.2 or S.o2 neighbor.\n",
      "[16:51:45] 2qcg_ligand: warning - O.co2 with non C.2 or S.o2 neighbor.\n",
      "[16:51:45] 5k7h_ligand: warning - O.co2 with non C.2 or S.o2 neighbor.\n",
      "[16:51:45] 3oka_ligand: warning - O.co2 with non C.2 or S.o2 neighbor.\n",
      "RDKit WARNING: [16:51:45] 3wch_ligand: warning - O.co2 with non C.2 or S.o2 neighbor.\n",
      "RDKit WARNING: [16:51:45] 5cyv_ligand: warning - O.co2 with non C.2 or S.o2 neighbor.\n",
      "[16:51:45] 3wch_ligand: warning - O.co2 with non C.2 or S.o2 neighbor.\n",
      "[16:51:45] 5cyv_ligand: warning - O.co2 with non C.2 or S.o2 neighbor.\n",
      "RDKit WARNING: [16:51:45] 1czk_ligand: warning - O.co2 with non C.2 or S.o2 neighbor.\n",
      "[16:51:45] 1czk_ligand: warning - O.co2 with non C.2 or S.o2 neighbor.\n",
      "RDKit WARNING: [16:51:45] 5agr_ligand: warning - O.co2 with non C.2 or S.o2 neighbor.\n",
      "[16:51:45] 5agr_ligand: warning - O.co2 with non C.2 or S.o2 neighbor.\n",
      "RDKit WARNING: [16:51:45] 1aku_ligand: warning - O.co2 with non C.2 or S.o2 neighbor.\n",
      "RDKit WARNING: [16:51:45] 3ump_ligand: warning - O.co2 with non C.2 or S.o2 neighbor.\n",
      "[16:51:45] 1aku_ligand: warning - O.co2 with non C.2 or S.o2 neighbor.\n",
      "RDKit WARNING: [16:51:45] 4a9c_ligand: warning - O.co2 with non C.2 or S.o2 neighbor.\n",
      "[16:51:45] 3ump_ligand: warning - O.co2 with non C.2 or S.o2 neighbor.\n",
      "[16:51:45] 4a9c_ligand: warning - O.co2 with non C.2 or S.o2 neighbor.\n",
      "RDKit WARNING: [16:51:45] 5ael_ligand: warning - O.co2 with non C.2 or S.o2 neighbor.\n",
      "[16:51:45] 5ael_ligand: warning - O.co2 with non C.2 or S.o2 neighbor.\n",
      "RDKit WARNING: [16:51:45] 5tha_ligand: warning - O.co2 with non C.2 or S.o2 neighbor.\n",
      "[16:51:45] 5tha_ligand: warning - O.co2 with non C.2 or S.o2 neighbor.\n",
      "RDKit WARNING: [16:51:45] 3m2u_ligand: warning - O.co2 with non C.2 or S.o2 neighbor.\n",
      "RDKit WARNING: [16:51:45] 6dud_ligand: Warning - no explicit hydrogens in mol2 file but needed for formal charge estimation.\n",
      "RDKit WARNING: [16:51:45] 4tq3_ligand: warning - O.co2 with non C.2 or S.o2 neighbor.\n",
      "RDKit WARNING: [16:51:45] 4usw_ligand: warning - O.co2 with non C.2 or S.o2 neighbor.\n",
      "RDKit WARNING: [16:51:45] 5yvt_ligand: warning - O.co2 with non C.2 or S.o2 neighbor.\n",
      "RDKit WARNING: [16:51:45] 4xpj_ligand: warning - O.co2 with non C.2 or S.o2 neighbor.\n",
      "[16:51:45] 3m2u_ligand: warning - O.co2 with non C.2 or S.o2 neighbor.\n",
      "[16:51:45] 6dud_ligand: Warning - no explicit hydrogens in mol2 file but needed for formal charge estimation.\n",
      "[16:51:45] 4tq3_ligand: warning - O.co2 with non C.2 or S.o2 neighbor.\n",
      "[16:51:45] 4usw_ligand: warning - O.co2 with non C.2 or S.o2 neighbor.\n",
      "[16:51:45] 5yvt_ligand: warning - O.co2 with non C.2 or S.o2 neighbor.\n",
      "[16:51:45] 4xpj_ligand: warning - O.co2 with non C.2 or S.o2 neighbor.\n",
      "RDKit WARNING: [16:51:45] 4lpg_ligand: warning - O.co2 with non C.2 or S.o2 neighbor.\n",
      "[16:51:45] 4lpg_ligand: warning - O.co2 with non C.2 or S.o2 neighbor.\n",
      "RDKit WARNING: [16:51:45] 5k51_ligand: warning - O.co2 with non C.2 or S.o2 neighbor.\n",
      "RDKit WARNING: [16:51:45] 6mxb_ligand: warning - O.co2 with non C.2 or S.o2 neighbor.\n",
      "RDKit WARNING: [16:51:45] 6ott_ligand: warning - O.co2 with non C.2 or S.o2 neighbor.\n",
      "RDKit WARNING: [16:51:45] 3r0i_ligand: warning - O.co2 with non C.2 or S.o2 neighbor.\n",
      "RDKit WARNING: [16:51:45] 5n2x_ligand: warning - O.co2 with non C.2 or S.o2 neighbor.\n",
      "[16:51:45] 5k51_ligand: warning - O.co2 with non C.2 or S.o2 neighbor.\n",
      "[16:51:45] 6mxb_ligand: warning - O.co2 with non C.2 or S.o2 neighbor.\n",
      "[16:51:45] 6ott_ligand: warning - O.co2 with non C.2 or S.o2 neighbor.\n",
      "[16:51:45] 3r0i_ligand: warning - O.co2 with non C.2 or S.o2 neighbor.\n",
      "[16:51:45] 5n2x_ligand: warning - O.co2 with non C.2 or S.o2 neighbor.\n",
      "RDKit WARNING: [16:51:45] 3d45_ligand: warning - O.co2 with non C.2 or S.o2 neighbor.\n",
      "[16:51:45] 3d45_ligand: warning - O.co2 with non C.2 or S.o2 neighbor.\n",
      "RDKit WARNING: [16:51:45] 4hbn_ligand: warning - O.co2 with non C.2 or S.o2 neighbor.\n",
      "[16:51:45] 4hbn_ligand: warning - O.co2 with non C.2 or S.o2 neighbor.\n",
      "RDKit WARNING: [16:51:45] 6ipl_ligand: warning - O.co2 with non C.2 or S.o2 neighbor.\n",
      "[16:51:45] 6ipl_ligand: warning - O.co2 with non C.2 or S.o2 neighbor.\n",
      "RDKit WARNING: [16:51:45] 5nhz_ligand: warning - O.co2 with non C.2 or S.o2 neighbor.\n",
      "RDKit WARNING: [16:51:45] 2frd_ligand: warning - O.co2 with non C.2 or S.o2 neighbor.\n",
      "[16:51:45] 5nhz_ligand: warning - O.co2 with non C.2 or S.o2 neighbor.\n",
      "RDKit WARNING: [16:51:45] 3a1s_ligand: warning - O.co2 with non C.2 or S.o2 neighbor.\n",
      "[16:51:45] 2frd_ligand: warning - O.co2 with non C.2 or S.o2 neighbor.\n",
      "RDKit WARNING: [16:51:45] 4dhn_ligand: warning - O.co2 with non C.2 or S.o2 neighbor.\n",
      "RDKit WARNING: [16:51:45] 5km2_ligand: warning - O.co2 with non C.2 or S.o2 neighbor.\n",
      "RDKit WARNING: [16:51:45] 6ai9_ligand: warning - O.co2 with non C.2 or S.o2 neighbor.\n",
      "RDKit WARNING: [16:51:45] 4jls_ligand: warning - O.co2 with non C.2 or S.o2 neighbor.\n",
      "RDKit WARNING: [16:51:45] 5khg_ligand: warning - O.co2 with non C.2 or S.o2 neighbor.\n",
      "[16:51:45] 3a1s_ligand: warning - O.co2 with non C.2 or S.o2 neighbor.\n",
      "RDKit WARNING: [16:51:45] 2ipo_ligand: warning - O.co2 with non C.2 or S.o2 neighbor.\n",
      "[16:51:45] 4dhn_ligand: warning - O.co2 with non C.2 or S.o2 neighbor.\n",
      "[16:51:45] 5km2_ligand: warning - O.co2 with non C.2 or S.o2 neighbor.\n",
      "[16:51:45] 6ai9_ligand: warning - O.co2 with non C.2 or S.o2 neighbor.\n",
      "[16:51:45] 4jls_ligand: warning - O.co2 with non C.2 or S.o2 neighbor.\n",
      "[16:51:45] 5khg_ligand: warning - O.co2 with non C.2 or S.o2 neighbor.\n",
      "[16:51:45] 2ipo_ligand: warning - O.co2 with non C.2 or S.o2 neighbor.\n",
      "RDKit WARNING: [16:51:45] 1o41_ligand: warning - O.co2 with non C.2 or S.o2 neighbor.\n",
      "RDKit WARNING: [16:51:45] 2uxx_ligand: warning - O.co2 with non C.2 or S.o2 neighbor.\n",
      "RDKit WARNING: [16:51:45] 5ksx_ligand: warning - O.co2 with non C.2 or S.o2 neighbor.\n",
      "RDKit WARNING: [16:51:45] 3cf1_ligand: warning - O.co2 with non C.2 or S.o2 neighbor.\n",
      "[16:51:45] 1o41_ligand: warning - O.co2 with non C.2 or S.o2 neighbor.\n",
      "[16:51:45] 2uxx_ligand: warning - O.co2 with non C.2 or S.o2 neighbor.\n",
      "[16:51:45] 5ksx_ligand: warning - O.co2 with non C.2 or S.o2 neighbor.\n",
      "[16:51:45] 3cf1_ligand: warning - O.co2 with non C.2 or S.o2 neighbor.\n",
      "RDKit WARNING: [16:51:45] 2pze_ligand: warning - O.co2 with non C.2 or S.o2 neighbor.\n",
      "RDKit WARNING: [16:51:45] 3okc_ligand: warning - O.co2 with non C.2 or S.o2 neighbor.\n",
      "[16:51:45] 2pze_ligand: warning - O.co2 with non C.2 or S.o2 neighbor.\n",
      "RDKit WARNING: [16:51:45] 1rgk_ligand: warning - O.co2 with non C.2 or S.o2 neighbor.\n",
      "[16:51:45] 3okc_ligand: warning - O.co2 with non C.2 or S.o2 neighbor.\n",
      "[16:51:45] 1rgk_ligand: warning - O.co2 with non C.2 or S.o2 neighbor.\n",
      "RDKit WARNING: [16:51:45] 2lko_ligand: warning - O.co2 with non C.2 or S.o2 neighbor.\n",
      "RDKit WARNING: [16:51:45] 2qcm_ligand: warning - O.co2 with non C.2 or S.o2 neighbor.\n",
      "[16:51:45] 2lko_ligand: warning - O.co2 with non C.2 or S.o2 neighbor.\n",
      "RDKit WARNING: [16:51:45] 3esj_ligand: warning - O.co2 with non C.2 or S.o2 neighbor.\n",
      "[16:51:45] 2qcm_ligand: warning - O.co2 with non C.2 or S.o2 neighbor.\n",
      "[16:51:45] 3esj_ligand: warning - O.co2 with non C.2 or S.o2 neighbor.\n",
      "RDKit WARNING: [16:51:45] 4ijq_ligand: warning - O.co2 with non C.2 or S.o2 neighbor.\n",
      "RDKit ERROR: [16:51:45] Can't kekulize mol.  Unkekulized atoms: 2 4 6 7 8 9 10 11 12\n",
      "RDKit ERROR: \n",
      "RDKit WARNING: [16:51:45] sanitise [16:51:45] 4kw6_ligand: [16:51:45] 1u2r_ligand: warning - O.co2 with non C.2 or S.o2 neighbor.\n",
      "[16:51:45] 4ijq_ligand: warning - O.co2 with non C.2 or S.o2 neighbor.\n",
      "[16:51:45] Can't kekulize mol.  Unkekulized atoms: 2 4 6 7 8 9 10 11 12\n",
      "\n",
      "[16:51:45] sanitise [16:51:45] 4kw6_ligand: [16:51:45] 1u2r_ligand: warning - O.co2 with non C.2 or S.o2 neighbor.\n",
      "RDKit WARNING: [16:51:45] 4kp4_ligand: warning - O.co2 with non C.2 or S.o2 neighbor.\n",
      "RDKit WARNING: [16:51:45] 2p1c_ligand: warning - O.co2 with non C.2 or S.o2 neighbor.\n",
      "[16:51:45] 4kp4_ligand: warning - O.co2 with non C.2 or S.o2 neighbor.\n",
      "RDKit WARNING: [16:51:45] Warning - O.co2 with degree >1.\n",
      "RDKit WARNING: [16:51:45] 1db4_ligand: warning - O.co2 with non C.2 or S.o2 neighbor.\n",
      "RDKit WARNING: [16:51:45] 5knv_ligand: warning - O.co2 with non C.2 or S.o2 neighbor.\n",
      "RDKit WARNING: [16:51:45] 2pjc_ligand: warning - O.co2 with non C.2 or S.o2 neighbor.\n",
      "[16:51:45] 2p1c_ligand: warning - O.co2 with non C.2 or S.o2 neighbor.\n",
      "[16:51:45] Warning - O.co2 with degree >1.\n",
      "[16:51:45] 1db4_ligand: warning - O.co2 with non C.2 or S.o2 neighbor.\n",
      "RDKit WARNING: [16:51:45] 3zy2_ligand: warning - O.co2 with non C.2 or S.o2 neighbor.\n",
      "[16:51:45] 5knv_ligand: warning - O.co2 with non C.2 or S.o2 neighbor.\n",
      "[16:51:45] 2pjc_ligand: warning - O.co2 with non C.2 or S.o2 neighbor.\n",
      "[16:51:45] 3zy2_ligand: warning - O.co2 with non C.2 or S.o2 neighbor.\n",
      "RDKit WARNING: [16:51:45] 3nba_ligand: warning - O.co2 with non C.2 or S.o2 neighbor.\n",
      "RDKit WARNING: [16:51:45] 2qtr_ligand: warning - O.co2 with non C.2 or S.o2 neighbor.\n",
      "[16:51:45] 3nba_ligand: warning - O.co2 with non C.2 or S.o2 neighbor.\n",
      "[16:51:45] 2qtr_ligand: warning - O.co2 with non C.2 or S.o2 neighbor.\n",
      "RDKit WARNING: [16:51:45] 5zde_ligand: warning - O.co2 with non C.2 or S.o2 neighbor.\n",
      "RDKit WARNING: [16:51:45] 1oe0_ligand: warning - O.co2 with non C.2 or S.o2 neighbor.\n",
      "[16:51:45] 5zde_ligand: warning - O.co2 with non C.2 or S.o2 neighbor.\n",
      "[16:51:45] 1oe0_ligand: warning - O.co2 with non C.2 or S.o2 neighbor.\n",
      "RDKit WARNING: [16:51:45] 2wva_ligand: warning - O.co2 with non C.2 or S.o2 neighbor.\n",
      "RDKit WARNING: [16:51:45] 4zcw_ligand: warning - O.co2 with non C.2 or S.o2 neighbor.\n",
      "RDKit WARNING: [16:51:45] 2qch_ligand: warning - O.co2 with non C.2 or S.o2 neighbor.\n",
      "RDKit WARNING: [16:51:45] 1q6n_ligand: warning - O.co2 with non C.2 or S.o2 neighbor.\n",
      "[16:51:45] 2wva_ligand: warning - O.co2 with non C.2 or S.o2 neighbor.\n",
      "RDKit WARNING: [16:51:45] 4f3h_ligand: warning - O.co2 with non C.2 or S.o2 neighbor.\n",
      "[16:51:45] 4zcw_ligand: warning - O.co2 with non C.2 or S.o2 neighbor.\n",
      "[16:51:45] 2qch_ligand: warning - O.co2 with non C.2 or S.o2 neighbor.\n",
      "[16:51:45] 1q6n_ligand: warning - O.co2 with non C.2 or S.o2 neighbor.\n",
      "[16:51:45] 4f3h_ligand: warning - O.co2 with non C.2 or S.o2 neighbor.\n",
      "[16:51:45] 3wcl_ligand: warning - O.co2 with non C.2 or S.o2 neighbor.\n",
      "RDKit WARNING: [16:51:45] 3wcl_ligand: warning - O.co2 with non C.2 or S.o2 neighbor.\n",
      "RDKit WARNING: [16:51:45] 3rsr_ligand: warning - O.co2 with non C.2 or S.o2 neighbor.\n",
      "RDKit WARNING: [16:51:45] 4aig_ligand: warning - O.co2 with non C.2 or S.o2 neighbor.\n",
      "RDKit WARNING: [16:51:45] 1cj1_ligand: warning - O.co2 with non C.2 or S.o2 neighbor.\n",
      "RDKit WARNING: [16:51:45] 3kbz_ligand: warning - O.co2 with non C.2 or S.o2 neighbor.\n",
      "RDKit WARNING: [16:51:45] 4dwg_ligand: warning - O.co2 with non C.2 or S.o2 neighbor.\n",
      "[16:51:45] 3rsr_ligand: warning - O.co2 with non C.2 or S.o2 neighbor.\n",
      "[16:51:45] 4aig_ligand: warning - O.co2 with non C.2 or S.o2 neighbor.\n",
      "[16:51:45] 1cj1_ligand: warning - O.co2 with non C.2 or S.o2 neighbor.\n",
      "[16:51:45] 3kbz_ligand: warning - O.co2 with non C.2 or S.o2 neighbor.\n",
      "[16:51:45] 4dwg_ligand: warning - O.co2 with non C.2 or S.o2 neighbor.\n",
      "RDKit WARNING: [16:51:45] 2o1v_ligand: warning - O.co2 with non C.2 or S.o2 neighbor.\n",
      "[16:51:45] 2o1v_ligand: warning - O.co2 with non C.2 or S.o2 neighbor.\n",
      "RDKit WARNING: [16:51:45] 4ge7_ligand: warning - O.co2 with non C.2 or S.o2 neighbor.\n",
      "RDKit WARNING: [16:51:45] 5tgc_ligand: warning - O.co2 with non C.2 or S.o2 neighbor.\n",
      "[16:51:45] 4ge7_ligand: warning - O.co2 with non C.2 or S.o2 neighbor.\n",
      "[16:51:45] 5tgc_ligand: warning - O.co2 with non C.2 or S.o2 neighbor.\n",
      "RDKit WARNING: [16:51:45] 3hb8_ligand: warning - O.co2 with non C.2 or S.o2 neighbor.\n",
      "RDKit WARNING: [16:51:45] 3rbm_ligand: warning - O.co2 with non C.2 or S.o2 neighbor.\n",
      "[16:51:45] 3hb8_ligand: warning - O.co2 with non C.2 or S.o2 neighbor.\n",
      "[16:51:45] 3rbm_ligand: warning - O.co2 with non C.2 or S.o2 neighbor.\n",
      "RDKit WARNING: [16:51:45] 4dhr_ligand: warning - O.co2 with non C.2 or S.o2 neighbor.\n",
      "[16:51:45] 4dhr_ligand: warning - O.co2 with non C.2 or S.o2 neighbor.\n",
      "RDKit WARNING: [16:51:45] 3od0_ligand: warning - O.co2 with non C.2 or S.o2 neighbor.\n",
      "[16:51:45] 3od0_ligand: warning - O.co2 with non C.2 or S.o2 neighbor.\n",
      "RDKit WARNING: [16:51:45] 4h5d_ligand: warning - O.co2 with non C.2 or S.o2 neighbor.\n",
      "RDKit WARNING: [16:51:45] 3rti_ligand: warning - O.co2 with non C.2 or S.o2 neighbor.\n",
      "RDKit WARNING: [16:51:45] 1o4r_ligand: warning - O.co2 with non C.2 or S.o2 neighbor.\n",
      "RDKit WARNING: [16:51:45] 3b2t_ligand: warning - O.co2 with non C.2 or S.o2 neighbor.\n",
      "RDKit WARNING: [16:51:45] 5g1p_ligand: warning - O.co2 with non C.2 or S.o2 neighbor.\n",
      "[16:51:45] 4h5d_ligand: warning - O.co2 with non C.2 or S.o2 neighbor.\n",
      "[16:51:45] 3rti_ligand: warning - O.co2 with non C.2 or S.o2 neighbor.\n",
      "[16:51:45] 1o4r_ligand: warning - O.co2 with non C.2 or S.o2 neighbor.\n",
      "[16:51:45] 3b2t_ligand: warning - O.co2 with non C.2 or S.o2 neighbor.\n",
      "[16:51:45] 5g1p_ligand: warning - O.co2 with non C.2 or S.o2 neighbor.\n",
      "RDKit WARNING: [16:51:45] 4qsk_ligand: warning - O.co2 with non C.2 or S.o2 neighbor.\n",
      "RDKit WARNING: [16:51:45] 5o3r_ligand: warning - O.co2 with non C.2 or S.o2 neighbor.\n",
      "RDKit WARNING: [16:51:45] 4kv9_ligand: warning - O.co2 with non C.2 or S.o2 neighbor.\n",
      "[16:51:45] 4qsk_ligand: warning - O.co2 with non C.2 or S.o2 neighbor.\n",
      "[16:51:45] 5o3r_ligand: warning - O.co2 with non C.2 or S.o2 neighbor.\n",
      "[16:51:45] 4kv9_ligand: warning - O.co2 with non C.2 or S.o2 neighbor.\n",
      "RDKit WARNING: [16:51:45] 4qht_ligand: warning - O.co2 with non C.2 or S.o2 neighbor.\n",
      "[16:51:45] 4qht_ligand: warning - O.co2 with non C.2 or S.o2 neighbor.\n",
      "RDKit WARNING: [16:51:45] 2wic_ligand: warning - O.co2 with non C.2 or S.o2 neighbor.\n",
      "[16:51:45] 2wic_ligand: warning - O.co2 with non C.2 or S.o2 neighbor.\n",
      "RDKit WARNING: [16:51:45] 3umo_ligand: warning - O.co2 with non C.2 or S.o2 neighbor.\n",
      "RDKit WARNING: [16:51:45] 4mqp_ligand: warning - O.co2 with non C.2 or S.o2 neighbor.\n",
      "RDKit WARNING: [16:51:45] 3d2r_ligand: warning - O.co2 with non C.2 or S.o2 neighbor.\n",
      "[16:51:45] 3umo_ligand: warning - O.co2 with non C.2 or S.o2 neighbor.\n",
      "RDKit WARNING: [16:51:45] 4ge9_ligand: warning - O.co2 with non C.2 or S.o2 neighbor.\n",
      "[16:51:45] 4mqp_ligand: warning - O.co2 with non C.2 or S.o2 neighbor.\n",
      "[16:51:45] 3d2r_ligand: warning - O.co2 with non C.2 or S.o2 neighbor.\n",
      "[16:51:45] 4ge9_ligand: warning - O.co2 with non C.2 or S.o2 neighbor.\n",
      "RDKit WARNING: [16:51:45] 4mvn_ligand: warning - O.co2 with non C.2 or S.o2 neighbor.\n",
      "RDKit WARNING: [16:51:45] 3cwe_ligand: warning - O.co2 with non C.2 or S.o2 neighbor.\n",
      "[16:51:45] 4mvn_ligand: warning - O.co2 with non C.2 or S.o2 neighbor.\n",
      "[16:51:45] 3cwe_ligand: warning - O.co2 with non C.2 or S.o2 neighbor.\n",
      "RDKit WARNING: [16:51:45] 4euv_ligand: warning - O.co2 with non C.2 or S.o2 neighbor.\n",
      "[16:51:45] 4euv_ligand: warning - O.co2 with non C.2 or S.o2 neighbor.\n",
      "RDKit WARNING: [16:51:45] 1maw_ligand: warning - O.co2 with non C.2 or S.o2 neighbor.\n",
      "RDKit WARNING: [16:51:45] 3ggc_ligand: warning - O.co2 with non C.2 or S.o2 neighbor.\n",
      "[16:51:45] 1maw_ligand: warning - O.co2 with non C.2 or S.o2 neighbor.\n",
      "[16:51:45] 3ggc_ligand: warning - O.co2 with non C.2 or S.o2 neighbor.\n",
      "RDKit WARNING: [16:51:45] 1ryf_ligand: warning - O.co2 with non C.2 or S.o2 neighbor.\n",
      "RDKit WARNING: [16:51:46] 1kyn_ligand: warning - O.co2 with non C.2 or S.o2 neighbor.\n",
      "RDKit WARNING: [16:51:46] 4mdt_ligand: warning - O.co2 with non C.2 or S.o2 neighbor.\n",
      "RDKit WARNING: [16:51:46] 4k5n_ligand: warning - O.co2 with non C.2 or S.o2 neighbor.\n",
      "[16:51:45] 1ryf_ligand: warning - O.co2 with non C.2 or S.o2 neighbor.\n",
      "RDKit WARNING: [16:51:46] 9icd_ligand: warning - O.co2 with non C.2 or S.o2 neighbor.\n",
      "RDKit WARNING: [16:51:46] 5eou_ligand: warning - O.co2 with non C.2 or S.o2 neighbor.\n",
      "[16:51:46] 1kyn_ligand: warning - O.co2 with non C.2 or S.o2 neighbor.\n",
      "[16:51:46] 4mdt_ligand: warning - O.co2 with non C.2 or S.o2 neighbor.\n",
      "[16:51:46] 4k5n_ligand: warning - O.co2 with non C.2 or S.o2 neighbor.\n",
      "[16:51:46] 9icd_ligand: warning - O.co2 with non C.2 or S.o2 neighbor.\n",
      "[16:51:46] 5eou_ligand: warning - O.co2 with non C.2 or S.o2 neighbor.\n",
      "RDKit WARNING: [16:51:46] 4uat_ligand: warning - O.co2 with non C.2 or S.o2 neighbor.\n",
      "RDKit WARNING: [16:51:46] 7cpa_ligand: warning - O.co2 with non C.2 or S.o2 neighbor.\n",
      "[16:51:46] 4uat_ligand: warning - O.co2 with non C.2 or S.o2 neighbor.\n",
      "[16:51:46] 7cpa_ligand: warning - O.co2 with non C.2 or S.o2 neighbor.\n",
      "RDKit WARNING: [16:51:46] 1btn_ligand: warning - O.co2 with non C.2 or S.o2 neighbor.\n",
      "RDKit WARNING: [16:51:46] 3zjc_ligand: warning - O.co2 with non C.2 or S.o2 neighbor.\n",
      "[16:51:46] 1btn_ligand: warning - O.co2 with non C.2 or S.o2 neighbor.\n",
      "RDKit WARNING: [16:51:46] 4rhy_ligand: warning - O.co2 with non C.2 or S.o2 neighbor.\n",
      "RDKit WARNING: [16:51:46] 6c5h_ligand: warning - O.co2 with non C.2 or S.o2 neighbor.\n",
      "RDKit WARNING: [16:51:46] 5myd_ligand: warning - O.co2 with non C.2 or S.o2 neighbor.\n",
      "RDKit WARNING: [16:51:46] 5klz_ligand: warning - O.co2 with non C.2 or S.o2 neighbor.\n",
      "RDKit WARNING: [16:51:46] 1hv5_ligand: warning - O.co2 with non C.2 or S.o2 neighbor.\n",
      "RDKit WARNING: [16:51:46] 2xlc_ligand: warning - O.co2 with non C.2 or S.o2 neighbor.\n",
      "[16:51:46] 3zjc_ligand: warning - O.co2 with non C.2 or S.o2 neighbor.\n",
      "[16:51:46] 4rhy_ligand: warning - O.co2 with non C.2 or S.o2 neighbor.\n",
      "[16:51:46] 6c5h_ligand: warning - O.co2 with non C.2 or S.o2 neighbor.\n",
      "[16:51:46] 5myd_ligand: warning - O.co2 with non C.2 or S.o2 neighbor.\n",
      "[16:51:46] 5klz_ligand: warning - O.co2 with non C.2 or S.o2 neighbor.\n",
      "[16:51:46] 1hv5_ligand: warning - O.co2 with non C.2 or S.o2 neighbor.\n",
      "[16:51:46] 2xlc_ligand: warning - O.co2 with non C.2 or S.o2 neighbor.\n",
      "RDKit WARNING: [16:51:46] 6cw4_ligand: warning - O.co2 with non C.2 or S.o2 neighbor.\n",
      "RDKit WARNING: [16:51:46] 5vdr_ligand: warning - O.co2 with non C.2 or S.o2 neighbor.\n",
      "RDKit WARNING: [16:51:46] 6rsa_ligand: Warning - no explicit hydrogens in mol2 file but needed for formal charge estimation.\n",
      "RDKit WARNING: [16:51:46] 2uvm_ligand: warning - O.co2 with non C.2 or S.o2 neighbor.\n",
      "RDKit WARNING: [16:51:46] 3rl4_ligand: warning - O.co2 with non C.2 or S.o2 neighbor.\n",
      "RDKit ERROR: [16:51:46] Can't kekulize mol.  Unkekulized atoms: 9 10 11 13 14 15 16 17 18\n",
      "RDKit ERROR: \n",
      "[16:51:46] 6cw4_ligand: warning - O.co2 with non C.2 or S.o2 neighbor.\n",
      "[16:51:46] 5vdr_ligand: warning - O.co2 with non C.2 or S.o2 neighbor.\n",
      "[16:51:46] 6rsa_ligand: Warning - no explicit hydrogens in mol2 file but needed for formal charge estimation.\n",
      "[16:51:46] 2uvm_ligand: warning - O.co2 with non C.2 or S.o2 neighbor.\n",
      "[16:51:46] 3rl4_ligand: warning - O.co2 with non C.2 or S.o2 neighbor.\n",
      "[16:51:46] Can't kekulize mol.  Unkekulized atoms: 9 10 11 13 14 15 16 17 18\n",
      "\n",
      "RDKit WARNING: [16:51:46] sanitise [16:51:46] 1nu1_ligand: [16:51:46] 3axm_ligand: warning - O.co2 with non C.2 or S.o2 neighbor.\n",
      "RDKit WARNING: [16:51:46] 3bxz_ligand: warning - O.co2 with non C.2 or S.o2 neighbor.\n",
      "[16:51:46] sanitise [16:51:46] 1nu1_ligand: [16:51:46] 3axm_ligand: warning - O.co2 with non C.2 or S.o2 neighbor.\n",
      "RDKit WARNING: [16:51:46] 2fjm_ligand: warning - O.co2 with non C.2 or S.o2 neighbor.\n",
      "RDKit WARNING: [16:51:46] 6cve_ligand: warning - O.co2 with non C.2 or S.o2 neighbor.\n",
      "RDKit WARNING: [16:51:46] 5zdc_ligand: warning - O.co2 with non C.2 or S.o2 neighbor.\n",
      "[16:51:46] 3bxz_ligand: warning - O.co2 with non C.2 or S.o2 neighbor.\n",
      "[16:51:46] 2fjm_ligand: warning - O.co2 with non C.2 or S.o2 neighbor.\n",
      "[16:51:46] 6cve_ligand: warning - O.co2 with non C.2 or S.o2 neighbor.\n",
      "[16:51:46] 5zdc_ligand: warning - O.co2 with non C.2 or S.o2 neighbor.\n",
      "RDKit WARNING: [16:51:46] 1eix_ligand: warning - O.co2 with non C.2 or S.o2 neighbor.\n",
      "RDKit WARNING: [16:51:46] 5zdf_ligand: warning - O.co2 with non C.2 or S.o2 neighbor.\n",
      "[16:51:46] 1eix_ligand: warning - O.co2 with non C.2 or S.o2 neighbor.\n",
      "[16:51:46] 5zdf_ligand: warning - O.co2 with non C.2 or S.o2 neighbor.\n",
      "RDKit WARNING: [16:51:46] 1lkx_ligand: warning - O.co2 with non C.2 or S.o2 neighbor.\n",
      "RDKit WARNING: [16:51:46] 4rac_ligand: warning - O.co2 with non C.2 or S.o2 neighbor.\n",
      "RDKit WARNING: [16:51:46] 1mn9_ligand: warning - O.co2 with non C.2 or S.o2 neighbor.\n",
      "[16:51:46] 1lkx_ligand: warning - O.co2 with non C.2 or S.o2 neighbor.\n",
      "RDKit WARNING: [16:51:46] 6ex0_ligand: warning - O.co2 with non C.2 or S.o2 neighbor.\n",
      "[16:51:46] 4rac_ligand: warning - O.co2 with non C.2 or S.o2 neighbor.\n",
      "[16:51:46] 1mn9_ligand: warning - O.co2 with non C.2 or S.o2 neighbor.\n",
      "RDKit WARNING: [16:51:46] 3dkj_ligand: warning - O.co2 with non C.2 or S.o2 neighbor.\n",
      "RDKit ERROR: [16:51:46] Explicit valence for atom # 3 N, 4, is greater than permitted\n",
      "[16:51:46] 6ex0_ligand: warning - O.co2 with non C.2 or S.o2 neighbor.\n",
      "[16:51:46] 3dkj_ligand: warning - O.co2 with non C.2 or S.o2 neighbor.\n",
      "[16:51:46] Explicit valence for atom # 3 N, 4, is greater than permitted\n",
      "RDKit WARNING: [16:51:46] 6mmq_ligand: warning - O.co2 with non C.2 or S.o2 neighbor.\n",
      "RDKit WARNING: [16:51:46] 1uod_ligand: warning - O.co2 with non C.2 or S.o2 neighbor.\n",
      "[16:51:46] 6mmq_ligand: warning - O.co2 with non C.2 or S.o2 neighbor.\n",
      "[16:51:46] 1uod_ligand: warning - O.co2 with non C.2 or S.o2 neighbor.\n",
      "[16:51:46] 5f29_ligand: warning - O.co2 with non C.2 or S.o2 neighbor.\n",
      "RDKit WARNING: [16:51:46] 5f29_ligand: warning - O.co2 with non C.2 or S.o2 neighbor.\n",
      "RDKit WARNING: [16:51:46] 1x07_ligand: warning - O.co2 with non C.2 or S.o2 neighbor.\n",
      "RDKit WARNING: [16:51:46] 2pj7_ligand: warning - O.co2 with non C.2 or S.o2 neighbor.\n",
      "[16:51:46] 1x07_ligand: warning - O.co2 with non C.2 or S.o2 neighbor.\n",
      "RDKit WARNING: [16:51:46] 5jim_ligand: Warning - no explicit hydrogens in mol2 file but needed for formal charge estimation.\n",
      "RDKit WARNING: [16:51:46] 1tka_ligand: warning - O.co2 with non C.2 or S.o2 neighbor.\n",
      "RDKit WARNING: [16:51:46] 2ov4_ligand: warning - O.co2 with non C.2 or S.o2 neighbor.\n",
      "RDKit WARNING: [16:51:46] 2wib_ligand: warning - O.co2 with non C.2 or S.o2 neighbor.\n",
      "[16:51:46] 2pj7_ligand: warning - O.co2 with non C.2 or S.o2 neighbor.\n",
      "[16:51:46] 5jim_ligand: Warning - no explicit hydrogens in mol2 file but needed for formal charge estimation.\n",
      "[16:51:46] 1tka_ligand: warning - O.co2 with non C.2 or S.o2 neighbor.\n",
      "[16:51:46] 2ov4_ligand: warning - O.co2 with non C.2 or S.o2 neighbor.\n",
      "[16:51:46] 2wib_ligand: warning - O.co2 with non C.2 or S.o2 neighbor.\n",
      "RDKit WARNING: [16:51:46] 2it4_ligand: Warning - no explicit hydrogens in mol2 file but needed for formal charge estimation.\n",
      "RDKit WARNING: [16:51:46] 2it4_ligand: warning - O.co2 with non C.2 or S.o2 neighbor.\n",
      "RDKit WARNING: [16:51:46] 6ipm_ligand: warning - O.co2 with non C.2 or S.o2 neighbor.\n",
      "RDKit WARNING: [16:51:46] 5w19_ligand: warning - O.co2 with non C.2 or S.o2 neighbor.\n",
      "RDKit WARNING: [16:51:46] 5nz2_ligand: warning - O.co2 with non C.2 or S.o2 neighbor.\n",
      "RDKit WARNING: [16:51:46] 5tzd_ligand: warning - O.co2 with non C.2 or S.o2 neighbor.\n",
      "[16:51:46] 2it4_ligand: Warning - no explicit hydrogens in mol2 file but needed for formal charge estimation.\n",
      "[16:51:46] 2it4_ligand: warning - O.co2 with non C.2 or S.o2 neighbor.\n",
      "[16:51:46] 6ipm_ligand: warning - O.co2 with non C.2 or S.o2 neighbor.\n",
      "RDKit WARNING: [16:51:46] 1lvk_ligand: warning - O.co2 with non C.2 or S.o2 neighbor.\n",
      "[16:51:46] 5w19_ligand: warning - O.co2 with non C.2 or S.o2 neighbor.\n",
      "[16:51:46] 5nz2_ligand: warning - O.co2 with non C.2 or S.o2 neighbor.\n",
      "[16:51:46] 5tzd_ligand: warning - O.co2 with non C.2 or S.o2 neighbor.\n",
      "[16:51:46] 1lvk_ligand: warning - O.co2 with non C.2 or S.o2 neighbor.\n",
      "RDKit WARNING: [16:51:46] 1lor_ligand: warning - O.co2 with non C.2 or S.o2 neighbor.\n",
      "RDKit WARNING: [16:51:46] 4p4b_ligand: warning - O.co2 with non C.2 or S.o2 neighbor.\n",
      "RDKit WARNING: [16:51:46] 1o45_ligand: warning - O.co2 with non C.2 or S.o2 neighbor.\n",
      "RDKit WARNING: [16:51:46] 3zjv_ligand: warning - O.co2 with non C.2 or S.o2 neighbor.\n",
      "RDKit ERROR: [16:51:46] Explicit valence for atom # 7 C, 5, is greater than permitted\n",
      "RDKit WARNING: [16:51:46] sanitise [16:51:46] 6pgx_ligand: [16:51:46] 2h1h_ligand: warning - O.co2 with non C.2 or S.o2 neighbor.\n",
      "RDKit WARNING: [16:51:46] 2h5a_ligand: warning - O.co2 with non C.2 or S.o2 neighbor.\n",
      "RDKit WARNING: [16:51:46] 4dhs_ligand: warning - O.co2 with non C.2 or S.o2 neighbor.\n",
      "[16:51:46] 1lor_ligand: warning - O.co2 with non C.2 or S.o2 neighbor.\n",
      "[16:51:46] 4p4b_ligand: warning - O.co2 with non C.2 or S.o2 neighbor.\n",
      "[16:51:46] 1o45_ligand: warning - O.co2 with non C.2 or S.o2 neighbor.\n",
      "[16:51:46] 3zjv_ligand: warning - O.co2 with non C.2 or S.o2 neighbor.\n",
      "[16:51:46] Explicit valence for atom # 7 C, 5, is greater than permitted\n",
      "[16:51:46] sanitise [16:51:46] 6pgx_ligand: [16:51:46] 2h1h_ligand: warning - O.co2 with non C.2 or S.o2 neighbor.\n",
      "[16:51:46] 2h5a_ligand: warning - O.co2 with non C.2 or S.o2 neighbor.\n",
      "[16:51:46] 4dhs_ligand: warning - O.co2 with non C.2 or S.o2 neighbor.\n"
     ]
    },
    {
     "name": "stdout",
     "output_type": "stream",
     "text": [
      "Not RDKit parsable\n"
     ]
    },
    {
     "name": "stderr",
     "output_type": "stream",
     "text": [
      "RDKit WARNING: [16:51:46] 1a0q_ligand: warning - O.co2 with non C.2 or S.o2 neighbor.\n",
      "RDKit WARNING: [16:51:46] 1q6j_ligand: warning - O.co2 with non C.2 or S.o2 neighbor.\n",
      "RDKit WARNING: [16:51:46] 6cus_ligand: warning - O.co2 with non C.2 or S.o2 neighbor.\n",
      "[16:51:46] 1a0q_ligand: warning - O.co2 with non C.2 or S.o2 neighbor.\n",
      "RDKit WARNING: [16:51:46] 1ao0_ligand: warning - O.co2 with non C.2 or S.o2 neighbor.\n",
      "[16:51:46] 1q6j_ligand: warning - O.co2 with non C.2 or S.o2 neighbor.\n",
      "[16:51:46] 6cus_ligand: warning - O.co2 with non C.2 or S.o2 neighbor.\n",
      "[16:51:46] 1ao0_ligand: warning - O.co2 with non C.2 or S.o2 neighbor.\n",
      "RDKit WARNING: [16:51:46] 5z68_ligand: warning - O.co2 with non C.2 or S.o2 neighbor.\n",
      "RDKit WARNING: [16:51:46] 3mle_ligand: warning - O.co2 with non C.2 or S.o2 neighbor.\n",
      "[16:51:46] 5z68_ligand: warning - O.co2 with non C.2 or S.o2 neighbor.\n",
      "[16:51:46] 3mle_ligand: warning - O.co2 with non C.2 or S.o2 neighbor.\n",
      "RDKit WARNING: [16:51:46] 6c28_ligand: warning - O.co2 with non C.2 or S.o2 neighbor.\n",
      "RDKit WARNING: [16:51:46] 5jaz_ligand: warning - O.co2 with non C.2 or S.o2 neighbor.\n",
      "[16:51:46] 6c28_ligand: warning - O.co2 with non C.2 or S.o2 neighbor.\n",
      "RDKit WARNING: [16:51:46] 6aps_ligand: warning - O.co2 with non C.2 or S.o2 neighbor.\n",
      "RDKit WARNING: [16:51:46] 6bu0_ligand: warning - O.co2 with non C.2 or S.o2 neighbor.\n",
      "RDKit WARNING: [16:51:46] 2cne_ligand: warning - O.co2 with non C.2 or S.o2 neighbor.\n",
      "RDKit WARNING: [16:51:46] 2xas_ligand: warning - O.co2 with non C.2 or S.o2 neighbor.\n",
      "RDKit WARNING: [16:51:46] Warning - O.co2 with degree >1.\n",
      "[16:51:46] 5jaz_ligand: warning - O.co2 with non C.2 or S.o2 neighbor.\n",
      "[16:51:46] 6aps_ligand: warning - O.co2 with non C.2 or S.o2 neighbor.\n",
      "[16:51:46] 6bu0_ligand: warning - O.co2 with non C.2 or S.o2 neighbor.\n",
      "[16:51:46] 2cne_ligand: warning - O.co2 with non C.2 or S.o2 neighbor.\n",
      "[16:51:46] 2xas_ligand: warning - O.co2 with non C.2 or S.o2 neighbor.\n",
      "RDKit WARNING: [16:51:46] 1g6s_ligand: warning - O.co2 with non C.2 or S.o2 neighbor.\n",
      "RDKit WARNING: [16:51:46] 6j06_ligand: warning - O.co2 with non C.2 or S.o2 neighbor.\n",
      "RDKit WARNING: [16:51:46] 4klv_ligand: warning - O.co2 with non C.2 or S.o2 neighbor.\n",
      "[16:51:46] Warning - O.co2 with degree >1.\n",
      "[16:51:46] 1g6s_ligand: warning - O.co2 with non C.2 or S.o2 neighbor.\n",
      "[16:51:46] 6j06_ligand: warning - O.co2 with non C.2 or S.o2 neighbor.\n",
      "[16:51:46] 4klv_ligand: warning - O.co2 with non C.2 or S.o2 neighbor.\n",
      "RDKit WARNING: [16:51:46] 4dcv_ligand: warning - O.co2 with non C.2 or S.o2 neighbor.\n",
      "[16:51:46] 4dcv_ligand: warning - O.co2 with non C.2 or S.o2 neighbor.\n",
      "RDKit WARNING: [16:51:46] 3gqo_ligand: warning - O.co2 with non C.2 or S.o2 neighbor.\n",
      "[16:51:46] 3gqo_ligand: warning - O.co2 with non C.2 or S.o2 neighbor.\n",
      "RDKit WARNING: [16:51:46] 6aec_ligand: warning - O.co2 with non C.2 or S.o2 neighbor.\n",
      "RDKit WARNING: [16:51:46] 1akv_ligand: warning - O.co2 with non C.2 or S.o2 neighbor.\n",
      "[16:51:46] 6aec_ligand: warning - O.co2 with non C.2 or S.o2 neighbor.\n",
      "[16:51:46] 1akv_ligand: warning - O.co2 with non C.2 or S.o2 neighbor.\n",
      "RDKit WARNING: [16:51:46] 1iig_ligand: warning - O.co2 with non C.2 or S.o2 neighbor.\n",
      "[16:51:46] 1iig_ligand: warning - O.co2 with non C.2 or S.o2 neighbor.\n",
      "RDKit WARNING: [16:51:46] 5jbi_ligand: warning - O.co2 with non C.2 or S.o2 neighbor.\n",
      "[16:51:46] 5jbi_ligand: warning - O.co2 with non C.2 or S.o2 neighbor.\n",
      "RDKit WARNING: [16:51:46] 3kr5_ligand: warning - O.co2 with non C.2 or S.o2 neighbor.\n",
      "[16:51:46] 3kr5_ligand: warning - O.co2 with non C.2 or S.o2 neighbor.\n",
      "RDKit WARNING: [16:51:46] 5vjn_ligand: warning - O.co2 with non C.2 or S.o2 neighbor.\n",
      "RDKit WARNING: [16:51:46] 3c14_ligand: Warning - no explicit hydrogens in mol2 file but needed for formal charge estimation.\n",
      "RDKit WARNING: [16:51:46] 3c14_ligand: warning - O.co2 with non C.2 or S.o2 neighbor.\n",
      "RDKit ERROR: [16:51:46] Can't kekulize mol.  Unkekulized atoms: 9 10 27 30 32\n",
      "RDKit ERROR: \n",
      "[16:51:46] 5vjn_ligand: warning - O.co2 with non C.2 or S.o2 neighbor.\n",
      "RDKit WARNING: [16:51:46] sanitise [16:51:46] 5wjj_ligand: [16:51:46] 4lqg_ligand: warning - O.co2 with non C.2 or S.o2 neighbor.\n",
      "[16:51:46] 3c14_ligand: Warning - no explicit hydrogens in mol2 file but needed for formal charge estimation.\n",
      "[16:51:46] 3c14_ligand: warning - O.co2 with non C.2 or S.o2 neighbor.\n",
      "[16:51:46] Can't kekulize mol.  Unkekulized atoms: 9 10 27 30 32\n",
      "\n",
      "[16:51:46] sanitise [16:51:46] 5wjj_ligand: [16:51:46] 4lqg_ligand: warning - O.co2 with non C.2 or S.o2 neighbor.\n",
      "RDKit WARNING: [16:51:46] 5o0j_ligand: warning - O.co2 with non C.2 or S.o2 neighbor.\n",
      "RDKit WARNING: [16:51:46] 6apt_ligand: warning - O.co2 with non C.2 or S.o2 neighbor.\n",
      "[16:51:46] 5o0j_ligand: warning - O.co2 with non C.2 or S.o2 neighbor.\n",
      "[16:51:46] 6apt_ligand: warning - O.co2 with non C.2 or S.o2 neighbor.\n",
      "RDKit WARNING: [16:51:46] 6oah_ligand: warning - O.co2 with non C.2 or S.o2 neighbor.\n",
      "RDKit WARNING: [16:51:46] 3cpj_ligand: warning - O.co2 with non C.2 or S.o2 neighbor.\n",
      "[16:51:46] 6oah_ligand: warning - O.co2 with non C.2 or S.o2 neighbor.\n",
      "RDKit WARNING: [16:51:46] 5l0h_ligand: warning - O.co2 with non C.2 or S.o2 neighbor.\n",
      "[16:51:46] 3cpj_ligand: warning - O.co2 with non C.2 or S.o2 neighbor.\n",
      "[16:51:46] 5l0h_ligand: warning - O.co2 with non C.2 or S.o2 neighbor.\n",
      "RDKit WARNING: [16:51:46] 4bxk_ligand: warning - O.co2 with non C.2 or S.o2 neighbor.\n",
      "[16:51:46] 4bxk_ligand: warning - O.co2 with non C.2 or S.o2 neighbor.\n",
      "RDKit WARNING: [16:51:46] 1t1s_ligand: warning - O.co2 with non C.2 or S.o2 neighbor.\n",
      "RDKit WARNING: [16:51:46] 5dtw_ligand: warning - O.co2 with non C.2 or S.o2 neighbor.\n",
      "RDKit WARNING: [16:51:46] 1tl7_ligand: warning - O.co2 with non C.2 or S.o2 neighbor.\n",
      "RDKit WARNING: [16:51:46] 2pvw_ligand: warning - O.co2 with non C.2 or S.o2 neighbor.\n",
      "RDKit WARNING: [16:51:46] 5svl_ligand: warning - O.co2 with non C.2 or S.o2 neighbor.\n",
      "[16:51:46] 1t1s_ligand: warning - O.co2 with non C.2 or S.o2 neighbor.\n",
      "[16:51:46] 5dtw_ligand: warning - O.co2 with non C.2 or S.o2 neighbor.\n",
      "[16:51:46] 1tl7_ligand: warning - O.co2 with non C.2 or S.o2 neighbor.\n",
      "[16:51:46] 2pvw_ligand: warning - O.co2 with non C.2 or S.o2 neighbor.\n",
      "RDKit WARNING: [16:51:46] 2e98_ligand: warning - O.co2 with non C.2 or S.o2 neighbor.\n",
      "[16:51:46] 5svl_ligand: warning - O.co2 with non C.2 or S.o2 neighbor.\n",
      "[16:51:46] 2e98_ligand: warning - O.co2 with non C.2 or S.o2 neighbor.\n",
      "RDKit WARNING: [16:51:46] 2onb_ligand: warning - O.co2 with non C.2 or S.o2 neighbor.\n",
      "RDKit WARNING: [16:51:46] 1g9t_ligand: warning - O.co2 with non C.2 or S.o2 neighbor.\n",
      "[16:51:46] 2onb_ligand: warning - O.co2 with non C.2 or S.o2 neighbor.\n",
      "[16:51:46] 1g9t_ligand: warning - O.co2 with non C.2 or S.o2 neighbor.\n",
      "RDKit WARNING: [16:51:46] 5jpt_ligand: warning - O.co2 with non C.2 or S.o2 neighbor.\n",
      "[16:51:46] 5jpt_ligand: warning - O.co2 with non C.2 or S.o2 neighbor.\n",
      "RDKit WARNING: [16:51:46] 4kva_ligand: warning - O.co2 with non C.2 or S.o2 neighbor.\n",
      "RDKit WARNING: [16:51:46] 1e8h_ligand: warning - O.co2 with non C.2 or S.o2 neighbor.\n",
      "RDKit WARNING: [16:51:46] 6a06_ligand: warning - O.co2 with non C.2 or S.o2 neighbor.\n",
      "RDKit WARNING: [16:51:46] 3feg_ligand: warning - O.co2 with non C.2 or S.o2 neighbor.\n",
      "[16:51:46] 4kva_ligand: warning - O.co2 with non C.2 or S.o2 neighbor.\n",
      "[16:51:46] 1e8h_ligand: warning - O.co2 with non C.2 or S.o2 neighbor.\n",
      "[16:51:46] 6a06_ligand: warning - O.co2 with non C.2 or S.o2 neighbor.\n",
      "[16:51:46] 3feg_ligand: warning - O.co2 with non C.2 or S.o2 neighbor.\n",
      "[16:51:46] 4ayw_ligand: warning - O.co2 with non C.2 or S.o2 neighbor.\n",
      "RDKit WARNING: [16:51:46] 4ayw_ligand: warning - O.co2 with non C.2 or S.o2 neighbor.\n",
      "RDKit WARNING: [16:51:46] 3ern_ligand: warning - O.co2 with non C.2 or S.o2 neighbor.\n",
      "RDKit WARNING: [16:51:46] 2k0x_ligand: warning - O.co2 with non C.2 or S.o2 neighbor.\n",
      "[16:51:46] 3ern_ligand: warning - O.co2 with non C.2 or S.o2 neighbor.\n",
      "[16:51:46] 2k0x_ligand: warning - O.co2 with non C.2 or S.o2 neighbor.\n",
      "RDKit WARNING: [16:51:46] 2xag_ligand: warning - O.co2 with non C.2 or S.o2 neighbor.\n",
      "RDKit WARNING: [16:51:46] 5jnl_ligand: warning - O.co2 with non C.2 or S.o2 neighbor.\n",
      "RDKit WARNING: [16:51:46] 1gww_ligand: warning - O.co2 with non C.2 or S.o2 neighbor.\n",
      "[16:51:46] 2xag_ligand: warning - O.co2 with non C.2 or S.o2 neighbor.\n",
      "[16:51:46] 5jnl_ligand: warning - O.co2 with non C.2 or S.o2 neighbor.\n",
      "RDKit WARNING: [16:51:46] 3qxc_ligand: warning - O.co2 with non C.2 or S.o2 neighbor.\n",
      "[16:51:46] 1gww_ligand: warning - O.co2 with non C.2 or S.o2 neighbor.\n",
      "[16:51:46] 3qxc_ligand: warning - O.co2 with non C.2 or S.o2 neighbor.\n",
      "RDKit WARNING: [16:51:46] 4wn0_ligand: warning - O.co2 with non C.2 or S.o2 neighbor.\n",
      "RDKit WARNING: [16:51:46] 4ge6_ligand: warning - O.co2 with non C.2 or S.o2 neighbor.\n",
      "RDKit WARNING: [16:51:46] 3t0m_ligand: warning - O.co2 with non C.2 or S.o2 neighbor.\n",
      "RDKit WARNING: [16:51:46] 3v0p_ligand: warning - O.co2 with non C.2 or S.o2 neighbor.\n",
      "[16:51:46] 4wn0_ligand: warning - O.co2 with non C.2 or S.o2 neighbor.\n",
      "RDKit WARNING: [16:51:46] 5mqx_ligand: warning - O.co2 with non C.2 or S.o2 neighbor.\n",
      "RDKit WARNING: [16:51:46] 1gpy_ligand: warning - O.co2 with non C.2 or S.o2 neighbor.\n",
      "RDKit ERROR: [16:51:46] Can't kekulize mol.  Unkekulized atoms: 33 34 35 37 38\n",
      "RDKit ERROR: \n",
      "RDKit WARNING: [16:51:46] sanitise [16:51:46] 3v9b_ligand: [16:51:46] 4kod_ligand: warning - O.co2 with non C.2 or S.o2 neighbor.\n",
      "RDKit WARNING: [16:51:46] 3u8d_ligand: warning - O.co2 with non C.2 or S.o2 neighbor.\n",
      "RDKit WARNING: [16:51:46] 1hti_ligand: warning - O.co2 with non C.2 or S.o2 neighbor.\n",
      "RDKit WARNING: [16:51:46] 2gek_ligand: warning - O.co2 with non C.2 or S.o2 neighbor.\n",
      "RDKit WARNING: [16:51:46] 4ocv_ligand: warning - O.co2 with non C.2 or S.o2 neighbor.\n",
      "RDKit WARNING: [16:51:46] 6g01_ligand: warning - O.co2 with non C.2 or S.o2 neighbor.\n",
      "[16:51:46] 4ge6_ligand: warning - O.co2 with non C.2 or S.o2 neighbor.\n",
      "[16:51:46] 3t0m_ligand: warning - O.co2 with non C.2 or S.o2 neighbor.\n",
      "[16:51:46] 3v0p_ligand: warning - O.co2 with non C.2 or S.o2 neighbor.\n",
      "[16:51:46] 5mqx_ligand: warning - O.co2 with non C.2 or S.o2 neighbor.\n",
      "[16:51:46] 1gpy_ligand: warning - O.co2 with non C.2 or S.o2 neighbor.\n",
      "[16:51:46] Can't kekulize mol.  Unkekulized atoms: 33 34 35 37 38\n",
      "\n",
      "[16:51:46] sanitise [16:51:46] 3v9b_ligand: [16:51:46] 4kod_ligand: warning - O.co2 with non C.2 or S.o2 neighbor.\n",
      "[16:51:46] 3u8d_ligand: warning - O.co2 with non C.2 or S.o2 neighbor.\n",
      "[16:51:46] 1hti_ligand: warning - O.co2 with non C.2 or S.o2 neighbor.\n",
      "[16:51:46] 2gek_ligand: warning - O.co2 with non C.2 or S.o2 neighbor.\n",
      "RDKit WARNING: [16:51:46] 2y4l_ligand: warning - O.co2 with non C.2 or S.o2 neighbor.\n",
      "[16:51:46] 4ocv_ligand: warning - O.co2 with non C.2 or S.o2 neighbor.\n",
      "[16:51:46] 6g01_ligand: warning - O.co2 with non C.2 or S.o2 neighbor.\n",
      "[16:51:46] 2y4l_ligand: warning - O.co2 with non C.2 or S.o2 neighbor.\n",
      "RDKit WARNING: [16:51:46] 3t0l_ligand: warning - O.co2 with non C.2 or S.o2 neighbor.\n",
      "RDKit WARNING: [16:51:46] 4dwb_ligand: warning - O.co2 with non C.2 or S.o2 neighbor.\n",
      "RDKit WARNING: [16:51:46] 1czo_ligand: warning - O.co2 with non C.2 or S.o2 neighbor.\n",
      "RDKit WARNING: [16:51:46] 6e06_ligand: warning - O.co2 with non C.2 or S.o2 neighbor.\n",
      "[16:51:46] 3t0l_ligand: warning - O.co2 with non C.2 or S.o2 neighbor.\n",
      "[16:51:46] 4dwb_ligand: warning - O.co2 with non C.2 or S.o2 neighbor.\n",
      "[16:51:46] 1czo_ligand: warning - O.co2 with non C.2 or S.o2 neighbor.\n",
      "[16:51:46] 6e06_ligand: warning - O.co2 with non C.2 or S.o2 neighbor.\n",
      "RDKit WARNING: [16:51:46] 1o4n_ligand: Warning - no explicit hydrogens in mol2 file but needed for formal charge estimation.\n",
      "RDKit WARNING: [16:51:46] 1o4d_ligand: warning - O.co2 with non C.2 or S.o2 neighbor.\n",
      "[16:51:46] 1o4n_ligand: Warning - no explicit hydrogens in mol2 file but needed for formal charge estimation.\n",
      "RDKit WARNING: [16:51:46] 2pj8_ligand: warning - O.co2 with non C.2 or S.o2 neighbor.\n",
      "RDKit WARNING: [16:51:46] 2hvx_ligand: warning - O.co2 with non C.2 or S.o2 neighbor.\n",
      "[16:51:46] 1o4d_ligand: warning - O.co2 with non C.2 or S.o2 neighbor.\n",
      "[16:51:46] 2pj8_ligand: warning - O.co2 with non C.2 or S.o2 neighbor.\n",
      "[16:51:46] 2hvx_ligand: warning - O.co2 with non C.2 or S.o2 neighbor.\n",
      "RDKit WARNING: [16:51:46] 4r07_ligand: warning - O.co2 with non C.2 or S.o2 neighbor.\n",
      "RDKit WARNING: [16:51:46] 1m6p_ligand: warning - O.co2 with non C.2 or S.o2 neighbor.\n",
      "RDKit WARNING: [16:51:46] 4rt1_ligand: warning - O.co2 with non C.2 or S.o2 neighbor.\n",
      "[16:51:46] 4r07_ligand: warning - O.co2 with non C.2 or S.o2 neighbor.\n",
      "RDKit WARNING: [16:51:46] 4ran_ligand: warning - O.co2 with non C.2 or S.o2 neighbor.\n",
      "RDKit WARNING: [16:51:46] 5w10_ligand: warning - O.co2 with non C.2 or S.o2 neighbor.\n",
      "RDKit WARNING: [16:51:46] 5svk_ligand: warning - O.co2 with non C.2 or S.o2 neighbor.\n",
      "[16:51:46] 1m6p_ligand: warning - O.co2 with non C.2 or S.o2 neighbor.\n",
      "[16:51:46] 4rt1_ligand: warning - O.co2 with non C.2 or S.o2 neighbor.\n",
      "[16:51:46] 4ran_ligand: warning - O.co2 with non C.2 or S.o2 neighbor.\n",
      "[16:51:46] 5w10_ligand: warning - O.co2 with non C.2 or S.o2 neighbor.\n",
      "[16:51:46] 5svk_ligand: warning - O.co2 with non C.2 or S.o2 neighbor.\n",
      "RDKit WARNING: [16:51:46] 2xaq_ligand: warning - O.co2 with non C.2 or S.o2 neighbor.\n",
      "[16:51:46] 2xaq_ligand: warning - O.co2 with non C.2 or S.o2 neighbor.\n",
      "RDKit WARNING: [16:51:46] 4uva_ligand: warning - O.co2 with non C.2 or S.o2 neighbor.\n",
      "[16:51:46] 4uva_ligand: warning - O.co2 with non C.2 or S.o2 neighbor.\n",
      "RDKit WARNING: [16:51:46] 6cer_ligand: warning - O.co2 with non C.2 or S.o2 neighbor.\n",
      "RDKit WARNING: [16:51:46] 3hwx_ligand: warning - O.co2 with non C.2 or S.o2 neighbor.\n",
      "[16:51:46] 6cer_ligand: warning - O.co2 with non C.2 or S.o2 neighbor.\n",
      "[16:51:46] 3hwx_ligand: warning - O.co2 with non C.2 or S.o2 neighbor.\n",
      "RDKit ERROR: [16:51:46] Can't kekulize mol.  Unkekulized atoms: 0 1 2 3 4\n",
      "RDKit ERROR: \n",
      "RDKit WARNING: [16:51:46] sanitise [16:51:46] 5ujo_ligand: [16:51:46] 3lxo_ligand: warning - O.co2 with non C.2 or S.o2 neighbor.\n",
      "RDKit WARNING: [16:51:46] 4dxj_ligand: warning - O.co2 with non C.2 or S.o2 neighbor.\n",
      "RDKit WARNING: [16:51:46] 6da4_ligand: Warning - no explicit hydrogens in mol2 file but needed for formal charge estimation.\n",
      "[16:51:46] Can't kekulize mol.  Unkekulized atoms: 0 1 2 3 4\n",
      "\n",
      "[16:51:46] sanitise [16:51:46] 5ujo_ligand: [16:51:46] 3lxo_ligand: warning - O.co2 with non C.2 or S.o2 neighbor.\n",
      "[16:51:46] 4dxj_ligand: warning - O.co2 with non C.2 or S.o2 neighbor.\n",
      "[16:51:46] 6da4_ligand: Warning - no explicit hydrogens in mol2 file but needed for formal charge estimation.\n",
      "RDKit WARNING: [16:51:47] 2ovz_ligand: warning - O.co2 with non C.2 or S.o2 neighbor.\n",
      "[16:51:47] 2ovz_ligand: warning - O.co2 with non C.2 or S.o2 neighbor.\n",
      "RDKit WARNING: [16:51:47] 1o8b_ligand: warning - O.co2 with non C.2 or S.o2 neighbor.\n",
      "[16:51:47] 1o8b_ligand: warning - O.co2 with non C.2 or S.o2 neighbor.\n",
      "RDKit ERROR: [16:51:47] Explicit valence for atom # 34 N, 4, is greater than permitted\n",
      "RDKit WARNING: [16:51:47] 2wfg_ligand: warning - O.co2 with non C.2 or S.o2 neighbor.\n",
      "RDKit WARNING: [16:51:47] 2pj2_ligand: warning - O.co2 with non C.2 or S.o2 neighbor.\n",
      "RDKit WARNING: [16:51:47] 4qme_ligand: warning - O.co2 with non C.2 or S.o2 neighbor.\n",
      "RDKit WARNING: [16:51:47] 4nzn_ligand: warning - O.co2 with non C.2 or S.o2 neighbor.\n",
      "RDKit WARNING: [16:51:47] 1p17_ligand: warning - O.co2 with non C.2 or S.o2 neighbor.\n",
      "RDKit WARNING: [16:51:47] 6hys_ligand: warning - O.co2 with non C.2 or S.o2 neighbor.\n",
      "[16:51:47] Explicit valence for atom # 34 N, 4, is greater than permitted\n",
      "[16:51:47] 2wfg_ligand: warning - O.co2 with non C.2 or S.o2 neighbor.\n",
      "[16:51:47] 2pj2_ligand: warning - O.co2 with non C.2 or S.o2 neighbor.\n",
      "[16:51:47] 4qme_ligand: warning - O.co2 with non C.2 or S.o2 neighbor.\n",
      "[16:51:47] 4nzn_ligand: warning - O.co2 with non C.2 or S.o2 neighbor.\n",
      "[16:51:47] 1p17_ligand: warning - O.co2 with non C.2 or S.o2 neighbor.\n",
      "RDKit WARNING: [16:51:47] 4jbs_ligand: warning - O.co2 with non C.2 or S.o2 neighbor.\n",
      "RDKit WARNING: [16:51:47] 2z4z_ligand: warning - O.co2 with non C.2 or S.o2 neighbor.\n",
      "[16:51:47] 6hys_ligand: warning - O.co2 with non C.2 or S.o2 neighbor.\n",
      "[16:51:47] 4jbs_ligand: warning - O.co2 with non C.2 or S.o2 neighbor.\n",
      "[16:51:47] 2z4z_ligand: warning - O.co2 with non C.2 or S.o2 neighbor.\n",
      "RDKit WARNING: [16:51:47] 2e9d_ligand: warning - O.co2 with non C.2 or S.o2 neighbor.\n"
     ]
    },
    {
     "name": "stdout",
     "output_type": "stream",
     "text": [
      "Not RDKit parsable\n"
     ]
    },
    {
     "name": "stderr",
     "output_type": "stream",
     "text": [
      "RDKit WARNING: [16:51:47] 3e9i_ligand: warning - O.co2 with non C.2 or S.o2 neighbor.\n",
      "[16:51:47] 2e9d_ligand: warning - O.co2 with non C.2 or S.o2 neighbor.\n",
      "[16:51:47] 3e9i_ligand: warning - O.co2 with non C.2 or S.o2 neighbor.\n",
      "RDKit WARNING: [16:51:47] 5agt_ligand: warning - O.co2 with non C.2 or S.o2 neighbor.\n",
      "RDKit WARNING: [16:51:47] 1yhm_ligand: warning - O.co2 with non C.2 or S.o2 neighbor.\n",
      "[16:51:47] 5agt_ligand: warning - O.co2 with non C.2 or S.o2 neighbor.\n",
      "RDKit WARNING: [16:51:47] 3fgc_ligand: warning - O.co2 with non C.2 or S.o2 neighbor.\n",
      "RDKit WARNING: [16:51:47] 1me8_ligand: warning - O.co2 with non C.2 or S.o2 neighbor.\n",
      "[16:51:47] 1yhm_ligand: warning - O.co2 with non C.2 or S.o2 neighbor.\n",
      "[16:51:47] 3fgc_ligand: warning - O.co2 with non C.2 or S.o2 neighbor.\n",
      "[16:51:47] 1me8_ligand: warning - O.co2 with non C.2 or S.o2 neighbor.\n",
      "RDKit WARNING: [16:51:47] 6g02_ligand: warning - O.co2 with non C.2 or S.o2 neighbor.\n",
      "RDKit WARNING: [16:51:47] 1wvc_ligand: warning - O.co2 with non C.2 or S.o2 neighbor.\n",
      "[16:51:47] 6g02_ligand: warning - O.co2 with non C.2 or S.o2 neighbor.\n",
      "[16:51:47] 1wvc_ligand: warning - O.co2 with non C.2 or S.o2 neighbor.\n",
      "RDKit ERROR: [16:51:47] Explicit valence for atom # 11 C, 5, is greater than permitted\n",
      "[16:51:47] Explicit valence for atom # 11 C, 5, is greater than permitted\n",
      "RDKit WARNING: [16:51:47] sanitise [16:51:47] 3bwf_ligand: [16:51:47] 3dwb_ligand: warning - O.co2 with non C.2 or S.o2 neighbor.\n",
      "[16:51:47] sanitise [16:51:47] 3bwf_ligand: [16:51:47] 3dwb_ligand: warning - O.co2 with non C.2 or S.o2 neighbor.\n",
      "RDKit WARNING: [16:51:47] 5knt_ligand: warning - O.co2 with non C.2 or S.o2 neighbor.\n",
      "[16:51:47] 5knt_ligand: warning - O.co2 with non C.2 or S.o2 neighbor.\n",
      "RDKit WARNING: [16:51:47] 6apv_ligand: warning - O.co2 with non C.2 or S.o2 neighbor.\n",
      "[16:51:47] 6apv_ligand: warning - O.co2 with non C.2 or S.o2 neighbor.\n",
      "[16:51:47] 5wrs_ligand: warning - O.co2 with non C.2 or S.o2 neighbor.\n",
      "RDKit WARNING: [16:51:47] 5wrs_ligand: warning - O.co2 with non C.2 or S.o2 neighbor.\n",
      "RDKit WARNING: [16:51:47] 1xxi_ligand: warning - O.co2 with non C.2 or S.o2 neighbor.\n",
      "[16:51:47] 1xxi_ligand: warning - O.co2 with non C.2 or S.o2 neighbor.\n",
      "RDKit WARNING: [16:51:47] 5afx_ligand: warning - O.co2 with non C.2 or S.o2 neighbor.\n",
      "RDKit WARNING: [16:51:47] 4nyt_ligand: warning - O.co2 with non C.2 or S.o2 neighbor.\n",
      "RDKit WARNING: [16:51:47] 5l0c_ligand: warning - O.co2 with non C.2 or S.o2 neighbor.\n",
      "RDKit WARNING: [16:51:47] 5jv2_ligand: warning - O.co2 with non C.2 or S.o2 neighbor.\n",
      "[16:51:47] 5afx_ligand: warning - O.co2 with non C.2 or S.o2 neighbor.\n",
      "[16:51:47] 4nyt_ligand: warning - O.co2 with non C.2 or S.o2 neighbor.\n",
      "[16:51:47] 5l0c_ligand: warning - O.co2 with non C.2 or S.o2 neighbor.\n",
      "RDKit WARNING: [16:51:47] 6n96_ligand: warning - O.co2 with non C.2 or S.o2 neighbor.\n",
      "[16:51:47] 5jv2_ligand: warning - O.co2 with non C.2 or S.o2 neighbor.\n",
      "[16:51:47] 6n96_ligand: warning - O.co2 with non C.2 or S.o2 neighbor.\n",
      "RDKit WARNING: [16:51:47] 4o75_ligand: warning - O.co2 with non C.2 or S.o2 neighbor.\n",
      "[16:51:47] 4o75_ligand: warning - O.co2 with non C.2 or S.o2 neighbor.\n",
      "RDKit WARNING: [16:51:47] 6ak6_ligand: warning - O.co2 with non C.2 or S.o2 neighbor.\n",
      "RDKit WARNING: [16:51:47] 2gqn_ligand: warning - O.co2 with non C.2 or S.o2 neighbor.\n",
      "[16:51:47] 6ak6_ligand: warning - O.co2 with non C.2 or S.o2 neighbor.\n",
      "[16:51:47] 2gqn_ligand: warning - O.co2 with non C.2 or S.o2 neighbor.\n",
      "RDKit WARNING: [16:51:47] 4lj3_ligand: warning - O.co2 with non C.2 or S.o2 neighbor.\n",
      "[16:51:47] 4lj3_ligand: warning - O.co2 with non C.2 or S.o2 neighbor.\n",
      "RDKit WARNING: [16:51:47] 6eji_ligand: warning - O.co2 with non C.2 or S.o2 neighbor.\n",
      "RDKit WARNING: [16:51:47] 5khi_ligand: warning - O.co2 with non C.2 or S.o2 neighbor.\n",
      "RDKit WARNING: [16:51:47] 3ioi_ligand: warning - O.co2 with non C.2 or S.o2 neighbor.\n",
      "[16:51:47] 6eji_ligand: warning - O.co2 with non C.2 or S.o2 neighbor.\n",
      "[16:51:47] 5khi_ligand: warning - O.co2 with non C.2 or S.o2 neighbor.\n",
      "[16:51:47] 3ioi_ligand: warning - O.co2 with non C.2 or S.o2 neighbor.\n",
      "RDKit WARNING: [16:51:47] 1o4f_ligand: warning - O.co2 with non C.2 or S.o2 neighbor.\n",
      "RDKit WARNING: [16:51:47] 2o4h_ligand: warning - O.co2 with non C.2 or S.o2 neighbor.\n",
      "RDKit WARNING: [16:51:47] 3wc7_ligand: warning - O.co2 with non C.2 or S.o2 neighbor.\n",
      "[16:51:47] 1o4f_ligand: warning - O.co2 with non C.2 or S.o2 neighbor.\n",
      "[16:51:47] 2o4h_ligand: warning - O.co2 with non C.2 or S.o2 neighbor.\n",
      "[16:51:47] 3wc7_ligand: warning - O.co2 with non C.2 or S.o2 neighbor.\n",
      "RDKit WARNING: [16:51:47] 2e93_ligand: warning - O.co2 with non C.2 or S.o2 neighbor.\n",
      "RDKit WARNING: [16:51:47] 3gpo_ligand: warning - O.co2 with non C.2 or S.o2 neighbor.\n",
      "[16:51:47] 2e93_ligand: warning - O.co2 with non C.2 or S.o2 neighbor.\n",
      "[16:51:47] 3gpo_ligand: warning - O.co2 with non C.2 or S.o2 neighbor.\n",
      "RDKit WARNING: [16:51:47] 6h4d_ligand: warning - O.co2 with non C.2 or S.o2 neighbor.\n",
      "RDKit WARNING: [16:51:47] 2w0s_ligand: warning - O.co2 with non C.2 or S.o2 neighbor.\n",
      "RDKit WARNING: [16:51:47] 6gfm_ligand: warning - O.co2 with non C.2 or S.o2 neighbor.\n",
      "RDKit WARNING: [16:51:47] 5WAF_LIGAND: warning - O.co2 with non C.2 or S.o2 neighbor.\n",
      "RDKit WARNING: [16:51:47] 4e6c_ligand: warning - O.co2 with non C.2 or S.o2 neighbor.\n",
      "RDKit WARNING: [16:51:47] WARNING: could not find number of expected rings. Switching to an approximate ring finding algorithm.\n",
      "RDKit ERROR: [16:51:47] Explicit valence for atom # 1 C, 6, is greater than permitted\n",
      "[16:51:47] 6h4d_ligand: warning - O.co2 with non C.2 or S.o2 neighbor.\n",
      "[16:51:47] 2w0s_ligand: warning - O.co2 with non C.2 or S.o2 neighbor.\n",
      "[16:51:47] 6gfm_ligand: warning - O.co2 with non C.2 or S.o2 neighbor.\n",
      "[16:51:47] 5WAF_LIGAND: warning - O.co2 with non C.2 or S.o2 neighbor.\n",
      "[16:51:47] 4e6c_ligand: warning - O.co2 with non C.2 or S.o2 neighbor.\n",
      "[16:51:47] WARNING: could not find number of expected rings. Switching to an approximate ring finding algorithm.\n",
      "[16:51:47] Explicit valence for atom # 1 C, 6, is greater than permitted\n",
      "RDKit WARNING: [16:51:47] sanitise [16:51:47] 3vjt_ligand: [16:51:47] 2j4k_ligand: warning - O.co2 with non C.2 or S.o2 neighbor.\n",
      "[16:51:47] sanitise [16:51:47] 3vjt_ligand: [16:51:47] 2j4k_ligand: warning - O.co2 with non C.2 or S.o2 neighbor.\n",
      "RDKit WARNING: [16:51:47] 4n1z_ligand: warning - O.co2 with non C.2 or S.o2 neighbor.\n",
      "[16:51:47] 4n1z_ligand: warning - O.co2 with non C.2 or S.o2 neighbor.\n",
      "RDKit WARNING: [16:51:47] 2dua_ligand: Warning - no explicit hydrogens in mol2 file but needed for formal charge estimation.\n",
      "[16:51:47] 2dua_ligand: Warning - no explicit hydrogens in mol2 file but needed for formal charge estimation.\n",
      "RDKit WARNING: [16:51:47] 1xfv_ligand: warning - O.co2 with non C.2 or S.o2 neighbor.\n",
      "[16:51:47] 1xfv_ligand: warning - O.co2 with non C.2 or S.o2 neighbor.\n",
      "RDKit WARNING: [16:51:47] 6n54_ligand: warning - O.co2 with non C.2 or S.o2 neighbor.\n",
      "[16:51:47] 6n54_ligand: warning - O.co2 with non C.2 or S.o2 neighbor.\n",
      "RDKit WARNING: [16:51:47] 6aeh_ligand: warning - O.co2 with non C.2 or S.o2 neighbor.\n",
      "[16:51:47] 6aeh_ligand: warning - O.co2 with non C.2 or S.o2 neighbor.\n",
      "RDKit WARNING: [16:51:47] 4p00_ligand: warning - O.co2 with non C.2 or S.o2 neighbor.\n",
      "RDKit ERROR: [16:51:47] Explicit valence for atom # 18 C, 5, is greater than permitted\n",
      "RDKit WARNING: [16:51:47] sanitise [16:51:47] 3whw_ligand: [16:51:47] 4pdk_ligand: warning - O.co2 with non C.2 or S.o2 neighbor.\n",
      "RDKit WARNING: [16:51:47] 1ggn_ligand: warning - O.co2 with non C.2 or S.o2 neighbor.\n",
      "[16:51:47] 4p00_ligand: warning - O.co2 with non C.2 or S.o2 neighbor.\n",
      "[16:51:47] Explicit valence for atom # 18 C, 5, is greater than permitted\n",
      "[16:51:47] sanitise [16:51:47] 3whw_ligand: [16:51:47] 4pdk_ligand: warning - O.co2 with non C.2 or S.o2 neighbor.\n",
      "[16:51:47] 1ggn_ligand: warning - O.co2 with non C.2 or S.o2 neighbor.\n",
      "RDKit WARNING: [16:51:47] 2jbj_ligand: warning - O.co2 with non C.2 or S.o2 neighbor.\n",
      "[16:51:47] 2jbj_ligand: warning - O.co2 with non C.2 or S.o2 neighbor.\n",
      "RDKit WARNING: [16:51:47] 1nox_ligand: warning - O.co2 with non C.2 or S.o2 neighbor.\n",
      "[16:51:47] 1nox_ligand: warning - O.co2 with non C.2 or S.o2 neighbor.\n",
      "RDKit WARNING: [16:51:47] 5jmp_ligand: warning - O.co2 with non C.2 or S.o2 neighbor.\n",
      "RDKit WARNING: [16:51:47] 5ow1_ligand: warning - O.co2 with non C.2 or S.o2 neighbor.\n",
      "RDKit WARNING: [16:51:47] 1pus_ligand: warning - O.co2 with non C.2 or S.o2 neighbor.\n",
      "[16:51:47] 5jmp_ligand: warning - O.co2 with non C.2 or S.o2 neighbor.\n",
      "[16:51:47] 5ow1_ligand: warning - O.co2 with non C.2 or S.o2 neighbor.\n",
      "[16:51:47] 1pus_ligand: warning - O.co2 with non C.2 or S.o2 neighbor.\n",
      "RDKit WARNING: [16:51:47] 1csh_ligand: warning - O.co2 with non C.2 or S.o2 neighbor.\n",
      "[16:51:47] 1csh_ligand: warning - O.co2 with non C.2 or S.o2 neighbor.\n",
      "RDKit WARNING: [16:51:47] 5w8v_ligand: warning - O.co2 with non C.2 or S.o2 neighbor.\n",
      "RDKit WARNING: [16:51:47] 2e9a_ligand: warning - O.co2 with non C.2 or S.o2 neighbor.\n",
      "RDKit WARNING: [16:51:47] 4k10_ligand: warning - O.co2 with non C.2 or S.o2 neighbor.\n",
      "[16:51:47] 5w8v_ligand: warning - O.co2 with non C.2 or S.o2 neighbor.\n",
      "[16:51:47] 2e9a_ligand: warning - O.co2 with non C.2 or S.o2 neighbor.\n",
      "[16:51:47] 4k10_ligand: warning - O.co2 with non C.2 or S.o2 neighbor.\n",
      "RDKit WARNING: [16:51:47] 1bo5_ligand: warning - O.co2 with non C.2 or S.o2 neighbor.\n",
      "[16:51:47] 1bo5_ligand: warning - O.co2 with non C.2 or S.o2 neighbor.\n",
      "RDKit WARNING: [16:51:47] 5ldo_ligand: warning - O.co2 with non C.2 or S.o2 neighbor.\n",
      "[16:51:47] 5ldo_ligand: warning - O.co2 with non C.2 or S.o2 neighbor.\n",
      "RDKit WARNING: [16:51:47] 5jv0_ligand: warning - O.co2 with non C.2 or S.o2 neighbor.\n",
      "[16:51:47] 5jv0_ligand: warning - O.co2 with non C.2 or S.o2 neighbor.\n",
      "RDKit WARNING: [16:51:47] 4rab_ligand: warning - O.co2 with non C.2 or S.o2 neighbor.\n",
      "RDKit WARNING: [16:51:47] 4na4_ligand: warning - O.co2 with non C.2 or S.o2 neighbor.\n",
      "RDKit WARNING: [16:51:47] 4qhp_ligand: warning - O.co2 with non C.2 or S.o2 neighbor.\n",
      "[16:51:47] 4rab_ligand: warning - O.co2 with non C.2 or S.o2 neighbor.\n",
      "[16:51:47] 4na4_ligand: warning - O.co2 with non C.2 or S.o2 neighbor.\n",
      "[16:51:47] 4qhp_ligand: warning - O.co2 with non C.2 or S.o2 neighbor.\n",
      "RDKit WARNING: [16:51:47] 1wdy_ligand: warning - O.co2 with non C.2 or S.o2 neighbor.\n",
      "[16:51:47] 1wdy_ligand: warning - O.co2 with non C.2 or S.o2 neighbor.\n",
      "RDKit WARNING: [16:51:47] 1czr_ligand: warning - O.co2 with non C.2 or S.o2 neighbor.\n",
      "RDKit WARNING: [16:51:47] 3cx9_ligand: warning - O.co2 with non C.2 or S.o2 neighbor.\n",
      "[16:51:47] 1czr_ligand: warning - O.co2 with non C.2 or S.o2 neighbor.\n",
      "RDKit WARNING: [16:51:47] 4ef4_ligand: warning - O.co2 with non C.2 or S.o2 neighbor.\n",
      "[16:51:47] 3cx9_ligand: warning - O.co2 with non C.2 or S.o2 neighbor.\n",
      "[16:51:47] 4ef4_ligand: warning - O.co2 with non C.2 or S.o2 neighbor.\n",
      "RDKit WARNING: [16:51:47] 1akw_ligand: warning - O.co2 with non C.2 or S.o2 neighbor.\n",
      "RDKit WARNING: [16:51:47] 2j9l_ligand: warning - O.co2 with non C.2 or S.o2 neighbor.\n",
      "RDKit WARNING: [16:51:47] 5WAG_LIGAND: warning - O.co2 with non C.2 or S.o2 neighbor.\n",
      "RDKit WARNING: [16:51:47] 1rgl_ligand: warning - O.co2 with non C.2 or S.o2 neighbor.\n",
      "[16:51:47] 1akw_ligand: warning - O.co2 with non C.2 or S.o2 neighbor.\n",
      "[16:51:47] 2j9l_ligand: warning - O.co2 with non C.2 or S.o2 neighbor.\n",
      "[16:51:47] 5WAG_LIGAND: warning - O.co2 with non C.2 or S.o2 neighbor.\n",
      "[16:51:47] 1rgl_ligand: warning - O.co2 with non C.2 or S.o2 neighbor.\n",
      "RDKit WARNING: [16:51:47] 3lq4_ligand: warning - O.co2 with non C.2 or S.o2 neighbor.\n",
      "[16:51:47] 3lq4_ligand: warning - O.co2 with non C.2 or S.o2 neighbor.\n",
      "RDKit WARNING: [16:51:47] 2isv_ligand: warning - O.co2 with non C.2 or S.o2 neighbor.\n",
      "RDKit WARNING: [16:51:47] 5ks7_ligand: warning - O.co2 with non C.2 or S.o2 neighbor.\n",
      "[16:51:47] 2isv_ligand: warning - O.co2 with non C.2 or S.o2 neighbor.\n",
      "[16:51:47] 5ks7_ligand: warning - O.co2 with non C.2 or S.o2 neighbor.\n",
      "RDKit WARNING: [16:51:47] 1q6s_ligand: warning - O.co2 with non C.2 or S.o2 neighbor.\n",
      "RDKit WARNING: [16:51:47] 5ubg_ligand: warning - O.co2 with non C.2 or S.o2 neighbor.\n",
      "RDKit WARNING: [16:51:47] 3rsb_ligand: warning - O.co2 with non C.2 or S.o2 neighbor.\n",
      "RDKit WARNING: [16:51:47] 4pl0_ligand: warning - O.co2 with non C.2 or S.o2 neighbor.\n",
      "[16:51:47] 1q6s_ligand: warning - O.co2 with non C.2 or S.o2 neighbor.\n",
      "[16:51:47] 5ubg_ligand: warning - O.co2 with non C.2 or S.o2 neighbor.\n",
      "[16:51:47] 3rsb_ligand: warning - O.co2 with non C.2 or S.o2 neighbor.\n",
      "[16:51:47] 4pl0_ligand: warning - O.co2 with non C.2 or S.o2 neighbor.\n",
      "RDKit WARNING: [16:51:47] 2qcd_ligand: warning - O.co2 with non C.2 or S.o2 neighbor.\n",
      "[16:51:47] 2qcd_ligand: warning - O.co2 with non C.2 or S.o2 neighbor.\n",
      "RDKit WARNING: [16:51:47] 2hwg_ligand: Warning - no explicit hydrogens in mol2 file but needed for formal charge estimation.\n",
      "RDKit WARNING: [16:51:47] 1lzo_ligand: warning - O.co2 with non C.2 or S.o2 neighbor.\n",
      "RDKit WARNING: [16:51:47] 2c02_ligand: warning - O.co2 with non C.2 or S.o2 neighbor.\n",
      "RDKit WARNING: [16:51:47] 2h5e_ligand: warning - O.co2 with non C.2 or S.o2 neighbor.\n",
      "[16:51:47] 2hwg_ligand: Warning - no explicit hydrogens in mol2 file but needed for formal charge estimation.\n",
      "[16:51:47] 1lzo_ligand: warning - O.co2 with non C.2 or S.o2 neighbor.\n",
      "[16:51:47] 2c02_ligand: warning - O.co2 with non C.2 or S.o2 neighbor.\n",
      "[16:51:47] 2h5e_ligand: warning - O.co2 with non C.2 or S.o2 neighbor.\n",
      "RDKit WARNING: [16:51:47] 4uxh_ligand: warning - O.co2 with non C.2 or S.o2 neighbor.\n",
      "RDKit WARNING: [16:51:47] 1tkc_ligand: warning - O.co2 with non C.2 or S.o2 neighbor.\n",
      "RDKit WARNING: [16:51:47] 5x9h_ligand: warning - O.co2 with non C.2 or S.o2 neighbor.\n",
      "[16:51:47] 4uxh_ligand: warning - O.co2 with non C.2 or S.o2 neighbor.\n",
      "[16:51:47] 1tkc_ligand: warning - O.co2 with non C.2 or S.o2 neighbor.\n",
      "[16:51:47] 5x9h_ligand: warning - O.co2 with non C.2 or S.o2 neighbor.\n",
      "RDKit WARNING: [16:51:47] 2l8r_ligand: warning - O.co2 with non C.2 or S.o2 neighbor.\n",
      "RDKit WARNING: [16:51:47] 2xto_ligand: warning - O.co2 with non C.2 or S.o2 neighbor.\n",
      "[16:51:47] 2l8r_ligand: warning - O.co2 with non C.2 or S.o2 neighbor.\n",
      "[16:51:47] 2xto_ligand: warning - O.co2 with non C.2 or S.o2 neighbor.\n",
      "RDKit WARNING: [16:51:47] 3qyy_ligand: warning - O.co2 with non C.2 or S.o2 neighbor.\n",
      "[16:51:47] 3qyy_ligand: warning - O.co2 with non C.2 or S.o2 neighbor.\n",
      "RDKit WARNING: [16:51:47] 2zz6_ligand: warning - O.co2 with non C.2 or S.o2 neighbor.\n",
      "[16:51:47] 2zz6_ligand: warning - O.co2 with non C.2 or S.o2 neighbor.\n",
      "RDKit WARNING: [16:51:47] 6fa5_ligand: warning - O.co2 with non C.2 or S.o2 neighbor.\n",
      "[16:51:47] 6fa5_ligand: warning - O.co2 with non C.2 or S.o2 neighbor.\n",
      "RDKit WARNING: [16:51:47] 3m89_ligand: warning - O.co2 with non C.2 or S.o2 neighbor.\n",
      "[16:51:47] 3m89_ligand: warning - O.co2 with non C.2 or S.o2 neighbor.\n",
      "RDKit WARNING: [16:51:47] 3clp_ligand: warning - O.co2 with non C.2 or S.o2 neighbor.\n",
      "[16:51:47] 3clp_ligand: warning - O.co2 with non C.2 or S.o2 neighbor.\n",
      "RDKit WARNING: [16:51:47] 3u4i_ligand: warning - O.co2 with non C.2 or S.o2 neighbor.\n",
      "[16:51:47] 3u4i_ligand: warning - O.co2 with non C.2 or S.o2 neighbor.\n",
      "RDKit WARNING: [16:51:47] 6h78_ligand: warning - O.co2 with non C.2 or S.o2 neighbor.\n",
      "RDKit WARNING: [16:51:47] 3dla_ligand: warning - O.co2 with non C.2 or S.o2 neighbor.\n",
      "[16:51:47] 6h78_ligand: warning - O.co2 with non C.2 or S.o2 neighbor.\n",
      "[16:51:47] 3dla_ligand: warning - O.co2 with non C.2 or S.o2 neighbor.\n",
      "RDKit WARNING: [16:51:47] 5y61_ligand: warning - O.co2 with non C.2 or S.o2 neighbor.\n",
      "RDKit WARNING: [16:51:47] 1zm7_ligand: warning - O.co2 with non C.2 or S.o2 neighbor.\n",
      "[16:51:47] 5y61_ligand: warning - O.co2 with non C.2 or S.o2 neighbor.\n",
      "[16:51:47] 1zm7_ligand: warning - O.co2 with non C.2 or S.o2 neighbor.\n",
      "RDKit WARNING: [16:51:47] 4y6p_ligand: warning - O.co2 with non C.2 or S.o2 neighbor.\n",
      "RDKit WARNING: [16:51:47] 1vjc_ligand: warning - O.co2 with non C.2 or S.o2 neighbor.\n",
      "[16:51:47] 4y6p_ligand: warning - O.co2 with non C.2 or S.o2 neighbor.\n",
      "[16:51:47] 1vjc_ligand: warning - O.co2 with non C.2 or S.o2 neighbor.\n",
      "RDKit WARNING: [16:51:47] 4p4t_ligand: warning - O.co2 with non C.2 or S.o2 neighbor.\n",
      "[16:51:47] 4p4t_ligand: warning - O.co2 with non C.2 or S.o2 neighbor.\n",
      "RDKit WARNING: [16:51:47] 6coj_ligand: warning - O.co2 with non C.2 or S.o2 neighbor.\n",
      "RDKit WARNING: [16:51:47] 1gx4_ligand: warning - O.co2 with non C.2 or S.o2 neighbor.\n",
      "RDKit WARNING: [16:51:47] 6r4s_ligand: warning - O.co2 with non C.2 or S.o2 neighbor.\n",
      "[16:51:47] 6coj_ligand: warning - O.co2 with non C.2 or S.o2 neighbor.\n",
      "RDKit WARNING: [16:51:47] 6mlh_ligand: warning - O.co2 with non C.2 or S.o2 neighbor.\n",
      "[16:51:47] 1gx4_ligand: warning - O.co2 with non C.2 or S.o2 neighbor.\n",
      "[16:51:47] 6r4s_ligand: warning - O.co2 with non C.2 or S.o2 neighbor.\n",
      "[16:51:47] 6mlh_ligand: warning - O.co2 with non C.2 or S.o2 neighbor.\n",
      "RDKit WARNING: [16:51:47] 2kmx_ligand: warning - O.co2 with non C.2 or S.o2 neighbor.\n",
      "[16:51:47] 2kmx_ligand: warning - O.co2 with non C.2 or S.o2 neighbor.\n",
      "RDKit WARNING: [16:51:47] 1dub_ligand: warning - O.co2 with non C.2 or S.o2 neighbor.\n",
      "RDKit WARNING: [16:51:47] 6bs5_ligand: warning - O.co2 with non C.2 or S.o2 neighbor.\n",
      "[16:51:47] 1dub_ligand: warning - O.co2 with non C.2 or S.o2 neighbor.\n",
      "RDKit WARNING: [16:51:47] 4f9g_ligand: warning - O.co2 with non C.2 or S.o2 neighbor.\n",
      "RDKit WARNING: [16:51:47] 3dst_ligand: warning - O.co2 with non C.2 or S.o2 neighbor.\n",
      "RDKit WARNING: [16:51:47] 1o0o_ligand: warning - O.co2 with non C.2 or S.o2 neighbor.\n",
      "RDKit WARNING: [16:51:47] 3zjt_ligand: warning - O.co2 with non C.2 or S.o2 neighbor.\n",
      "RDKit WARNING: [16:51:47] 2v0n_ligand: warning - O.co2 with non C.2 or S.o2 neighbor.\n",
      "[16:51:47] 6bs5_ligand: warning - O.co2 with non C.2 or S.o2 neighbor.\n",
      "[16:51:47] 4f9g_ligand: warning - O.co2 with non C.2 or S.o2 neighbor.\n",
      "[16:51:47] 3dst_ligand: warning - O.co2 with non C.2 or S.o2 neighbor.\n",
      "[16:51:47] 1o0o_ligand: warning - O.co2 with non C.2 or S.o2 neighbor.\n",
      "[16:51:47] 3zjt_ligand: warning - O.co2 with non C.2 or S.o2 neighbor.\n",
      "RDKit WARNING: [16:51:47] 1h1h_ligand: warning - O.co2 with non C.2 or S.o2 neighbor.\n",
      "RDKit WARNING: [16:51:47] 6nnr_ligand: warning - O.co2 with non C.2 or S.o2 neighbor.\n",
      "RDKit WARNING: [16:51:47] 1bkm_ligand: warning - O.co2 with non C.2 or S.o2 neighbor.\n",
      "RDKit WARNING: [16:51:47] 6c5k_ligand: warning - O.co2 with non C.2 or S.o2 neighbor.\n",
      "RDKit WARNING: [16:51:48] 1juy_ligand: warning - O.co2 with non C.2 or S.o2 neighbor.\n",
      "RDKit WARNING: [16:51:48] 4uvb_ligand: warning - O.co2 with non C.2 or S.o2 neighbor.\n",
      "[16:51:47] 2v0n_ligand: warning - O.co2 with non C.2 or S.o2 neighbor.\n",
      "[16:51:47] 1h1h_ligand: warning - O.co2 with non C.2 or S.o2 neighbor.\n",
      "[16:51:47] 6nnr_ligand: warning - O.co2 with non C.2 or S.o2 neighbor.\n",
      "RDKit WARNING: [16:51:48] 4m7x_ligand: warning - O.co2 with non C.2 or S.o2 neighbor.\n",
      "[16:51:47] 1bkm_ligand: warning - O.co2 with non C.2 or S.o2 neighbor.\n",
      "[16:51:47] 6c5k_ligand: warning - O.co2 with non C.2 or S.o2 neighbor.\n",
      "[16:51:48] 1juy_ligand: warning - O.co2 with non C.2 or S.o2 neighbor.\n",
      "[16:51:48] 4uvb_ligand: warning - O.co2 with non C.2 or S.o2 neighbor.\n",
      "[16:51:48] 4m7x_ligand: warning - O.co2 with non C.2 or S.o2 neighbor.\n",
      "RDKit WARNING: [16:51:48] 1n3z_ligand: warning - O.co2 with non C.2 or S.o2 neighbor.\n",
      "[16:51:48] 1n3z_ligand: warning - O.co2 with non C.2 or S.o2 neighbor.\n",
      "RDKit WARNING: [16:51:48] 2wij_ligand: warning - O.co2 with non C.2 or S.o2 neighbor.\n",
      "RDKit WARNING: [16:51:48] 4fxf_ligand: warning - O.co2 with non C.2 or S.o2 neighbor.\n",
      "RDKit WARNING: [16:51:48] 5khd_ligand: warning - O.co2 with non C.2 or S.o2 neighbor.\n",
      "RDKit WARNING: [16:51:48] 1c9d_ligand: warning - O.co2 with non C.2 or S.o2 neighbor.\n",
      "RDKit WARNING: [16:51:48] 3l2y_ligand: warning - O.co2 with non C.2 or S.o2 neighbor.\n",
      "RDKit WARNING: [16:51:48] 5cuu_ligand: warning - O.co2 with non C.2 or S.o2 neighbor.\n",
      "[16:51:48] 2wij_ligand: warning - O.co2 with non C.2 or S.o2 neighbor.\n",
      "[16:51:48] 4fxf_ligand: warning - O.co2 with non C.2 or S.o2 neighbor.\n",
      "[16:51:48] 5khd_ligand: warning - O.co2 with non C.2 or S.o2 neighbor.\n",
      "[16:51:48] 1c9d_ligand: warning - O.co2 with non C.2 or S.o2 neighbor.\n",
      "RDKit WARNING: [16:51:48] 1s26_ligand: warning - O.co2 with non C.2 or S.o2 neighbor.\n",
      "RDKit WARNING: [16:51:48] 1i43_ligand: warning - O.co2 with non C.2 or S.o2 neighbor.\n",
      "RDKit WARNING: [16:51:48] 5vjp_ligand: warning - O.co2 with non C.2 or S.o2 neighbor.\n",
      "RDKit WARNING: [16:51:48] 4u0u_ligand: warning - O.co2 with non C.2 or S.o2 neighbor.\n",
      "RDKit ERROR: [16:51:48] Explicit valence for atom # 10 C, 5, is greater than permitted\n",
      "RDKit WARNING: [16:51:48] sanitise [16:51:48] 1h07_ligand: [16:51:48] 2oz6_ligand: warning - O.co2 with non C.2 or S.o2 neighbor.\n",
      "[16:51:48] 3l2y_ligand: warning - O.co2 with non C.2 or S.o2 neighbor.\n",
      "[16:51:48] 5cuu_ligand: warning - O.co2 with non C.2 or S.o2 neighbor.\n",
      "[16:51:48] 1s26_ligand: warning - O.co2 with non C.2 or S.o2 neighbor.\n",
      "[16:51:48] 1i43_ligand: warning - O.co2 with non C.2 or S.o2 neighbor.\n",
      "[16:51:48] 5vjp_ligand: warning - O.co2 with non C.2 or S.o2 neighbor.\n",
      "[16:51:48] 4u0u_ligand: warning - O.co2 with non C.2 or S.o2 neighbor.\n",
      "[16:51:48] Explicit valence for atom # 10 C, 5, is greater than permitted\n",
      "[16:51:48] sanitise [16:51:48] 1h07_ligand: [16:51:48] 2oz6_ligand: warning - O.co2 with non C.2 or S.o2 neighbor.\n",
      "RDKit WARNING: [16:51:48] 1bkj_ligand: warning - O.co2 with non C.2 or S.o2 neighbor.\n",
      "[16:51:48] 1bkj_ligand: warning - O.co2 with non C.2 or S.o2 neighbor.\n",
      "RDKit WARNING: [16:51:48] 1csi_ligand: warning - O.co2 with non C.2 or S.o2 neighbor.\n",
      "RDKit WARNING: [16:51:48] 2p3o_ligand: warning - O.co2 with non C.2 or S.o2 neighbor.\n",
      "[16:51:48] 1csi_ligand: warning - O.co2 with non C.2 or S.o2 neighbor.\n",
      "[16:51:48] 2p3o_ligand: warning - O.co2 with non C.2 or S.o2 neighbor.\n",
      "[16:51:48] 1g9r_ligand: warning - O.co2 with non C.2 or S.o2 neighbor.\n",
      "RDKit WARNING: [16:51:48] 1g9r_ligand: warning - O.co2 with non C.2 or S.o2 neighbor.\n",
      "RDKit WARNING: [16:51:48] 3v0l_ligand: warning - O.co2 with non C.2 or S.o2 neighbor.\n",
      "[16:51:48] 3v0l_ligand: warning - O.co2 with non C.2 or S.o2 neighbor.\n",
      "RDKit WARNING: [16:51:48] 4dum_ligand: warning - O.co2 with non C.2 or S.o2 neighbor.\n",
      "RDKit WARNING: [16:51:48] 3p23_ligand: warning - O.co2 with non C.2 or S.o2 neighbor.\n",
      "RDKit WARNING: [16:51:48] 4bzs_ligand: warning - O.co2 with non C.2 or S.o2 neighbor.\n",
      "RDKit WARNING: [16:51:48] 2clf_ligand: warning - O.co2 with non C.2 or S.o2 neighbor.\n",
      "RDKit WARNING: [16:51:48] 6pk7_ligand: warning - O.co2 with non C.2 or S.o2 neighbor.\n",
      "[16:51:48] 4dum_ligand: warning - O.co2 with non C.2 or S.o2 neighbor.\n",
      "[16:51:48] 3p23_ligand: warning - O.co2 with non C.2 or S.o2 neighbor.\n",
      "[16:51:48] 4bzs_ligand: warning - O.co2 with non C.2 or S.o2 neighbor.\n",
      "[16:51:48] 2clf_ligand: warning - O.co2 with non C.2 or S.o2 neighbor.\n",
      "[16:51:48] 6pk7_ligand: warning - O.co2 with non C.2 or S.o2 neighbor.\n",
      "RDKit WARNING: [16:51:48] 4qjr_ligand: warning - O.co2 with non C.2 or S.o2 neighbor.\n",
      "[16:51:48] 4qjr_ligand: warning - O.co2 with non C.2 or S.o2 neighbor.\n",
      "RDKit WARNING: [16:51:48] 6c5j_ligand: warning - O.co2 with non C.2 or S.o2 neighbor.\n",
      "[16:51:48] 6c5j_ligand: warning - O.co2 with non C.2 or S.o2 neighbor.\n",
      "RDKit WARNING: [16:51:48] 2vf6_ligand: warning - O.co2 with non C.2 or S.o2 neighbor.\n",
      "RDKit WARNING: [16:51:48] 6g28_ligand: warning - O.co2 with non C.2 or S.o2 neighbor.\n",
      "RDKit WARNING: [16:51:48] 5y6g_ligand: warning - O.co2 with non C.2 or S.o2 neighbor.\n",
      "[16:51:48] 2vf6_ligand: warning - O.co2 with non C.2 or S.o2 neighbor.\n",
      "[16:51:48] 6g28_ligand: warning - O.co2 with non C.2 or S.o2 neighbor.\n",
      "[16:51:48] 5y6g_ligand: warning - O.co2 with non C.2 or S.o2 neighbor.\n",
      "RDKit WARNING: [16:51:48] 5a7j_ligand: warning - O.co2 with non C.2 or S.o2 neighbor.\n",
      "[16:51:48] 5a7j_ligand: warning - O.co2 with non C.2 or S.o2 neighbor.\n",
      "RDKit WARNING: [16:51:48] 6g2a_ligand: warning - O.co2 with non C.2 or S.o2 neighbor.\n",
      "RDKit WARNING: [16:51:48] 5aes_ligand: warning - O.co2 with non C.2 or S.o2 neighbor.\n",
      "[16:51:48] 6g2a_ligand: warning - O.co2 with non C.2 or S.o2 neighbor.\n",
      "RDKit WARNING: [16:51:48] 5dv2_ligand: warning - O.co2 with non C.2 or S.o2 neighbor.\n",
      "RDKit WARNING: [16:51:48] 4ozl_ligand: warning - O.co2 with non C.2 or S.o2 neighbor.\n",
      "[16:51:48] 5aes_ligand: warning - O.co2 with non C.2 or S.o2 neighbor.\n",
      "[16:51:48] 5dv2_ligand: warning - O.co2 with non C.2 or S.o2 neighbor.\n",
      "[16:51:48] 4ozl_ligand: warning - O.co2 with non C.2 or S.o2 neighbor.\n",
      "RDKit WARNING: [16:51:48] 5zdg_ligand: warning - O.co2 with non C.2 or S.o2 neighbor.\n",
      "[16:51:48] 5zdg_ligand: warning - O.co2 with non C.2 or S.o2 neighbor.\n",
      "RDKit WARNING: [16:51:48] 4kxm_ligand: warning - O.co2 with non C.2 or S.o2 neighbor.\n",
      "RDKit WARNING: [16:51:48] 4ga3_ligand: warning - O.co2 with non C.2 or S.o2 neighbor.\n",
      "RDKit WARNING: [16:51:48] 2vvo_ligand: warning - O.co2 with non C.2 or S.o2 neighbor.\n",
      "RDKit WARNING: [16:51:48] 6cjj_ligand: warning - O.co2 with non C.2 or S.o2 neighbor.\n",
      "RDKit WARNING: [16:51:48] 16pk_ligand: warning - O.co2 with non C.2 or S.o2 neighbor.\n",
      "RDKit WARNING: [16:51:48] 2ioa_ligand: warning - O.co2 with non C.2 or S.o2 neighbor.\n",
      "RDKit WARNING: [16:51:48] 2y8i_ligand: warning - O.co2 with non C.2 or S.o2 neighbor.\n",
      "[16:51:48] 4kxm_ligand: warning - O.co2 with non C.2 or S.o2 neighbor.\n",
      "[16:51:48] 4ga3_ligand: warning - O.co2 with non C.2 or S.o2 neighbor.\n",
      "RDKit WARNING: [16:51:48] 2xaf_ligand: warning - O.co2 with non C.2 or S.o2 neighbor.\n",
      "RDKit WARNING: [16:51:48] 2np9_ligand: warning - O.co2 with non C.2 or S.o2 neighbor.\n",
      "RDKit WARNING: [16:51:48] 2wik_ligand: warning - O.co2 with non C.2 or S.o2 neighbor.\n",
      "RDKit WARNING: [16:51:48] 2wig_ligand: warning - O.co2 with non C.2 or S.o2 neighbor.\n",
      "[16:51:48] 2vvo_ligand: warning - O.co2 with non C.2 or S.o2 neighbor.\n",
      "[16:51:48] 6cjj_ligand: warning - O.co2 with non C.2 or S.o2 neighbor.\n",
      "[16:51:48] 16pk_ligand: warning - O.co2 with non C.2 or S.o2 neighbor.\n",
      "[16:51:48] 2ioa_ligand: warning - O.co2 with non C.2 or S.o2 neighbor.\n",
      "[16:51:48] 2y8i_ligand: warning - O.co2 with non C.2 or S.o2 neighbor.\n",
      "[16:51:48] 2xaf_ligand: warning - O.co2 with non C.2 or S.o2 neighbor.\n",
      "[16:51:48] 2np9_ligand: warning - O.co2 with non C.2 or S.o2 neighbor.\n",
      "[16:51:48] 2wik_ligand: warning - O.co2 with non C.2 or S.o2 neighbor.\n",
      "[16:51:48] 2wig_ligand: warning - O.co2 with non C.2 or S.o2 neighbor.\n",
      "RDKit WARNING: [16:51:48] 1c8v_ligand: warning - O.co2 with non C.2 or S.o2 neighbor.\n",
      "[16:51:48] 1c8v_ligand: warning - O.co2 with non C.2 or S.o2 neighbor.\n",
      "RDKit WARNING: [16:51:48] 6a03_ligand: warning - O.co2 with non C.2 or S.o2 neighbor.\n",
      "[16:51:48] 6a03_ligand: warning - O.co2 with non C.2 or S.o2 neighbor.\n",
      "RDKit WARNING: [16:51:48] 1q6t_ligand: warning - O.co2 with non C.2 or S.o2 neighbor.\n",
      "RDKit WARNING: [16:51:48] 2pu0_ligand: warning - O.co2 with non C.2 or S.o2 neighbor.\n",
      "RDKit WARNING: [16:51:48] 1a50_ligand: warning - O.co2 with non C.2 or S.o2 neighbor.\n",
      "[16:51:48] 1q6t_ligand: warning - O.co2 with non C.2 or S.o2 neighbor.\n",
      "[16:51:48] 2pu0_ligand: warning - O.co2 with non C.2 or S.o2 neighbor.\n",
      "[16:51:48] 1a50_ligand: warning - O.co2 with non C.2 or S.o2 neighbor.\n",
      "RDKit WARNING: [16:51:48] 1w1d_ligand: warning - O.co2 with non C.2 or S.o2 neighbor.\n",
      "RDKit WARNING: [16:51:48] 6n94_ligand: warning - O.co2 with non C.2 or S.o2 neighbor.\n",
      "[16:51:48] 1w1d_ligand: warning - O.co2 with non C.2 or S.o2 neighbor.\n",
      "[16:51:48] 6n94_ligand: warning - O.co2 with non C.2 or S.o2 neighbor.\n",
      "RDKit WARNING: [16:51:48] 6giu_ligand: warning - O.co2 with non C.2 or S.o2 neighbor.\n",
      "RDKit ERROR: [16:51:48] Can't kekulize mol.  Unkekulized atoms: 2 3 4 5 6\n",
      "[16:51:48] 6giu_ligand: warning - O.co2 with non C.2 or S.o2 neighbor.\n",
      "[16:51:48] Can't kekulize mol.  Unkekulized atoms: 2 3 4 5 6\n",
      "\n",
      "RDKit ERROR: \n",
      "RDKit WARNING: [16:51:48] sanitise [16:51:48] 1hyz_ligand: [16:51:48] 5foo_ligand: warning - O.co2 with non C.2 or S.o2 neighbor.\n",
      "RDKit WARNING: [16:51:48] 2wtx_ligand: warning - O.co2 with non C.2 or S.o2 neighbor.\n"
     ]
    },
    {
     "name": "stdout",
     "output_type": "stream",
     "text": [
      "10635\n"
     ]
    },
    {
     "name": "stderr",
     "output_type": "stream",
     "text": [
      "RDKit WARNING: [16:51:48] 6a04_ligand: warning - O.co2 with non C.2 or S.o2 neighbor.\n",
      "[16:51:48] sanitise [16:51:48] 1hyz_ligand: [16:51:48] 5foo_ligand: warning - O.co2 with non C.2 or S.o2 neighbor.\n",
      "[16:51:48] 2wtx_ligand: warning - O.co2 with non C.2 or S.o2 neighbor.\n",
      "[16:51:48] 6a04_ligand: warning - O.co2 with non C.2 or S.o2 neighbor.\n"
     ]
    }
   ],
   "source": [
    "general_mols = extract_pdbbind_mols(pdbbind_general_dir_path, correct_pdb_ids)\n",
    "print(len(general_mols))"
   ]
  },
  {
   "cell_type": "code",
   "execution_count": 16,
   "id": "3c8b5946-fa1c-414b-9d98-449ee1928ba0",
   "metadata": {
    "scrolled": true,
    "tags": []
   },
   "outputs": [
    {
     "name": "stderr",
     "output_type": "stream",
     "text": [
      "RDKit WARNING: [16:51:49] 1pdz_ligand: warning - O.co2 with non C.2 or S.o2 neighbor.\n",
      "[16:51:49] 1pdz_ligand: warning - O.co2 with non C.2 or S.o2 neighbor.\n",
      "RDKit WARNING: [16:51:49] 5cks_ligand: warning - O.co2 with non C.2 or S.o2 neighbor.\n",
      "RDKit WARNING: [16:51:49] 2zz2_ligand: warning - O.co2 with non C.2 or S.o2 neighbor.\n",
      "RDKit WARNING: [16:51:49] 3fzn_ligand: warning - O.co2 with non C.2 or S.o2 neighbor.\n",
      "[16:51:49] 5cks_ligand: warning - O.co2 with non C.2 or S.o2 neighbor.\n",
      "[16:51:49] 2zz2_ligand: warning - O.co2 with non C.2 or S.o2 neighbor.\n",
      "[16:51:49] 3fzn_ligand: warning - O.co2 with non C.2 or S.o2 neighbor.\n",
      "RDKit WARNING: [16:51:49] 2e94_ligand: warning - O.co2 with non C.2 or S.o2 neighbor.\n",
      "RDKit WARNING: [16:51:49] 4u6c_ligand: warning - O.co2 with non C.2 or S.o2 neighbor.\n",
      "RDKit WARNING: [16:51:49] 1ado_ligand: warning - O.co2 with non C.2 or S.o2 neighbor.\n",
      "[16:51:49] 2e94_ligand: warning - O.co2 with non C.2 or S.o2 neighbor.\n",
      "[16:51:49] 4u6c_ligand: warning - O.co2 with non C.2 or S.o2 neighbor.\n",
      "RDKit WARNING: [16:51:49] 3a1d_ligand: warning - O.co2 with non C.2 or S.o2 neighbor.\n",
      "RDKit WARNING: [16:51:49] 4k5p_ligand: warning - O.co2 with non C.2 or S.o2 neighbor.\n",
      "[16:51:49] 1ado_ligand: warning - O.co2 with non C.2 or S.o2 neighbor.\n",
      "[16:51:49] 3a1d_ligand: warning - O.co2 with non C.2 or S.o2 neighbor.\n",
      "[16:51:49] 4k5p_ligand: warning - O.co2 with non C.2 or S.o2 neighbor.\n",
      "RDKit WARNING: [16:51:49] 1h2t_ligand: warning - O.co2 with non C.2 or S.o2 neighbor.\n",
      "RDKit WARNING: [16:51:49] 3q7q_ligand: warning - O.co2 with non C.2 or S.o2 neighbor.\n",
      "[16:51:49] 1h2t_ligand: warning - O.co2 with non C.2 or S.o2 neighbor.\n",
      "[16:51:49] 3q7q_ligand: warning - O.co2 with non C.2 or S.o2 neighbor.\n",
      "RDKit WARNING: [16:51:49] 3ozg_ligand: warning - O.co2 with non C.2 or S.o2 neighbor.\n",
      "RDKit WARNING: [16:51:49] 2zkj_ligand: warning - O.co2 with non C.2 or S.o2 neighbor.\n",
      "RDKit WARNING: [16:51:49] 2web_ligand: warning - O.co2 with non C.2 or S.o2 neighbor.\n",
      "RDKit WARNING: [16:51:49] 2f94_ligand: warning - O.co2 with non C.2 or S.o2 neighbor.\n",
      "RDKit WARNING: [16:51:49] 1m0n_ligand: warning - O.co2 with non C.2 or S.o2 neighbor.\n",
      "[16:51:49] 3ozg_ligand: warning - O.co2 with non C.2 or S.o2 neighbor.\n",
      "[16:51:49] 2zkj_ligand: warning - O.co2 with non C.2 or S.o2 neighbor.\n",
      "[16:51:49] 2web_ligand: warning - O.co2 with non C.2 or S.o2 neighbor.\n",
      "[16:51:49] 2f94_ligand: warning - O.co2 with non C.2 or S.o2 neighbor.\n",
      "[16:51:49] 1m0n_ligand: warning - O.co2 with non C.2 or S.o2 neighbor.\n",
      "RDKit WARNING: [16:51:49] 2yaz_ligand: warning - O.co2 with non C.2 or S.o2 neighbor.\n",
      "RDKit WARNING: [16:51:49] 4dcs_ligand: warning - O.co2 with non C.2 or S.o2 neighbor.\n",
      "RDKit WARNING: [16:51:49] 2wjg_ligand: warning - O.co2 with non C.2 or S.o2 neighbor.\n",
      "[16:51:49] 2yaz_ligand: warning - O.co2 with non C.2 or S.o2 neighbor.\n",
      "RDKit WARNING: [16:51:49] 4p5d_ligand: warning - O.co2 with non C.2 or S.o2 neighbor.\n",
      "RDKit WARNING: [16:51:49] 5n31_ligand: warning - O.co2 with non C.2 or S.o2 neighbor.\n",
      "RDKit WARNING: [16:51:49] 1ppk_ligand: warning - O.co2 with non C.2 or S.o2 neighbor.\n",
      "RDKit WARNING: [16:51:49] 1q91_ligand: warning - O.co2 with non C.2 or S.o2 neighbor.\n",
      "[16:51:49] 4dcs_ligand: warning - O.co2 with non C.2 or S.o2 neighbor.\n",
      "[16:51:49] 2wjg_ligand: warning - O.co2 with non C.2 or S.o2 neighbor.\n",
      "[16:51:49] 4p5d_ligand: warning - O.co2 with non C.2 or S.o2 neighbor.\n",
      "[16:51:49] 5n31_ligand: warning - O.co2 with non C.2 or S.o2 neighbor.\n",
      "RDKit WARNING: [16:51:49] 6om8_ligand: warning - O.co2 with non C.2 or S.o2 neighbor.\n",
      "[16:51:49] 1ppk_ligand: warning - O.co2 with non C.2 or S.o2 neighbor.\n",
      "[16:51:49] 1q91_ligand: warning - O.co2 with non C.2 or S.o2 neighbor.\n",
      "[16:51:49] 6om8_ligand: warning - O.co2 with non C.2 or S.o2 neighbor.\n",
      "[16:51:49] 4pvx_ligand: warning - O.co2 with non C.2 or S.o2 neighbor.\n",
      "RDKit WARNING: [16:51:49] 4pvx_ligand: warning - O.co2 with non C.2 or S.o2 neighbor.\n",
      "RDKit WARNING: [16:51:49] 3ahn_ligand: warning - O.co2 with non C.2 or S.o2 neighbor.\n",
      "RDKit WARNING: [16:51:49] 1ew9_ligand: warning - O.co2 with non C.2 or S.o2 neighbor.\n",
      "RDKit WARNING: [16:51:49] 5exw_ligand: warning - O.co2 with non C.2 or S.o2 neighbor.\n",
      "RDKit WARNING: [16:51:49] 1s5z_ligand: warning - O.co2 with non C.2 or S.o2 neighbor.\n",
      "RDKit WARNING: [16:51:49] 6d16_ligand: warning - O.co2 with non C.2 or S.o2 neighbor.\n",
      "[16:51:49] 3ahn_ligand: warning - O.co2 with non C.2 or S.o2 neighbor.\n",
      "[16:51:49] 1ew9_ligand: warning - O.co2 with non C.2 or S.o2 neighbor.\n",
      "[16:51:49] 5exw_ligand: warning - O.co2 with non C.2 or S.o2 neighbor.\n",
      "[16:51:49] 1s5z_ligand: warning - O.co2 with non C.2 or S.o2 neighbor.\n",
      "[16:51:49] 6d16_ligand: warning - O.co2 with non C.2 or S.o2 neighbor.\n",
      "RDKit WARNING: [16:51:49] 2bes_ligand: warning - O.co2 with non C.2 or S.o2 neighbor.\n",
      "[16:51:49] 2bes_ligand: warning - O.co2 with non C.2 or S.o2 neighbor.\n",
      "RDKit WARNING: [16:51:49] 3w07_ligand: warning - O.co2 with non C.2 or S.o2 neighbor.\n",
      "RDKit WARNING: [16:51:49] 3bxg_ligand: warning - O.co2 with non C.2 or S.o2 neighbor.\n",
      "RDKit WARNING: [16:51:49] 6jon_ligand: warning - O.co2 with non C.2 or S.o2 neighbor.\n",
      "RDKit WARNING: [16:51:49] 4k3n_ligand: warning - O.co2 with non C.2 or S.o2 neighbor.\n",
      "RDKit WARNING: [16:51:49] 1nki_ligand: Warning - no explicit hydrogens in mol2 file but needed for formal charge estimation.\n",
      "RDKit WARNING: [16:51:49] 1nki_ligand: warning - O.co2 with non C.2 or S.o2 neighbor.\n",
      "RDKit WARNING: [16:51:49] 2am4_ligand: warning - O.co2 with non C.2 or S.o2 neighbor.\n",
      "RDKit WARNING: [16:51:49] 2bmk_ligand: warning - O.co2 with non C.2 or S.o2 neighbor.\n",
      "[16:51:49] 3w07_ligand: warning - O.co2 with non C.2 or S.o2 neighbor.\n",
      "[16:51:49] 3bxg_ligand: warning - O.co2 with non C.2 or S.o2 neighbor.\n",
      "RDKit WARNING: [16:51:49] 4ew3_ligand: warning - charged amidine and isFixed atom.\n",
      "RDKit WARNING: [16:51:49] 1b55_ligand: warning - O.co2 with non C.2 or S.o2 neighbor.\n",
      "RDKit WARNING: [16:51:49] 4ido_ligand: warning - O.co2 with non C.2 or S.o2 neighbor.\n",
      "RDKit WARNING: [16:51:49] 6d19_ligand: warning - O.co2 with non C.2 or S.o2 neighbor.\n",
      "[16:51:49] 6jon_ligand: warning - O.co2 with non C.2 or S.o2 neighbor.\n",
      "[16:51:49] 4k3n_ligand: warning - O.co2 with non C.2 or S.o2 neighbor.\n",
      "[16:51:49] 1nki_ligand: Warning - no explicit hydrogens in mol2 file but needed for formal charge estimation.\n",
      "[16:51:49] 1nki_ligand: warning - O.co2 with non C.2 or S.o2 neighbor.\n",
      "[16:51:49] 2am4_ligand: warning - O.co2 with non C.2 or S.o2 neighbor.\n",
      "[16:51:49] 2bmk_ligand: warning - O.co2 with non C.2 or S.o2 neighbor.\n",
      "[16:51:49] 4ew3_ligand: warning - charged amidine and isFixed atom.\n",
      "RDKit WARNING: [16:51:49] 6d1d_ligand: warning - O.co2 with non C.2 or S.o2 neighbor.\n",
      "[16:51:49] 1b55_ligand: warning - O.co2 with non C.2 or S.o2 neighbor.\n",
      "[16:51:49] 4ido_ligand: warning - O.co2 with non C.2 or S.o2 neighbor.\n",
      "[16:51:49] 6d19_ligand: warning - O.co2 with non C.2 or S.o2 neighbor.\n",
      "RDKit WARNING: [16:51:49] 4ca6_ligand: warning - O.co2 with non C.2 or S.o2 neighbor.\n",
      "RDKit WARNING: [16:51:49] 4rd6_ligand: warning - O.co2 with non C.2 or S.o2 neighbor.\n",
      "RDKit WARNING: [16:51:49] 6d1h_ligand: warning - O.co2 with non C.2 or S.o2 neighbor.\n",
      "[16:51:49] 6d1d_ligand: warning - O.co2 with non C.2 or S.o2 neighbor.\n",
      "[16:51:49] 4ca6_ligand: warning - O.co2 with non C.2 or S.o2 neighbor.\n",
      "[16:51:49] 4rd6_ligand: warning - O.co2 with non C.2 or S.o2 neighbor.\n",
      "RDKit WARNING: [16:51:49] 6bs4_ligand: warning - O.co2 with non C.2 or S.o2 neighbor.\n",
      "[16:51:49] 6d1h_ligand: warning - O.co2 with non C.2 or S.o2 neighbor.\n",
      "[16:51:49] 6bs4_ligand: warning - O.co2 with non C.2 or S.o2 neighbor.\n",
      "RDKit WARNING: [16:51:49] 3pju_ligand: warning - O.co2 with non C.2 or S.o2 neighbor.\n",
      "RDKit WARNING: [16:51:49] 5js3_ligand: warning - O.co2 with non C.2 or S.o2 neighbor.\n",
      "RDKit WARNING: [16:51:49] 6ouv_ligand: warning - O.co2 with non C.2 or S.o2 neighbor.\n",
      "RDKit WARNING: [16:51:49] 4gr8_ligand: warning - O.co2 with non C.2 or S.o2 neighbor.\n",
      "[16:51:49] 3pju_ligand: warning - O.co2 with non C.2 or S.o2 neighbor.\n",
      "RDKit WARNING: [16:51:49] 2wzf_ligand: warning - O.co2 with non C.2 or S.o2 neighbor.\n",
      "RDKit WARNING: [16:51:49] 4wk1_ligand: warning - O.co2 with non C.2 or S.o2 neighbor.\n",
      "RDKit WARNING: [16:51:49] 1b57_ligand: warning - O.co2 with non C.2 or S.o2 neighbor.\n",
      "RDKit WARNING: [16:51:49] 1w4o_ligand: warning - O.co2 with non C.2 or S.o2 neighbor.\n",
      "[16:51:49] 5js3_ligand: warning - O.co2 with non C.2 or S.o2 neighbor.\n",
      "[16:51:49] 6ouv_ligand: warning - O.co2 with non C.2 or S.o2 neighbor.\n",
      "[16:51:49] 4gr8_ligand: warning - O.co2 with non C.2 or S.o2 neighbor.\n",
      "[16:51:49] 2wzf_ligand: warning - O.co2 with non C.2 or S.o2 neighbor.\n",
      "[16:51:49] 4wk1_ligand: warning - O.co2 with non C.2 or S.o2 neighbor.\n",
      "[16:51:49] 1b57_ligand: warning - O.co2 with non C.2 or S.o2 neighbor.\n",
      "[16:51:49] 1w4o_ligand: warning - O.co2 with non C.2 or S.o2 neighbor.\n",
      "RDKit WARNING: [16:51:49] 5jsq_ligand: warning - O.co2 with non C.2 or S.o2 neighbor.\n",
      "RDKit WARNING: [16:51:49] 3c56_ligand: warning - O.co2 with non C.2 or S.o2 neighbor.\n",
      "[16:51:49] 5jsq_ligand: warning - O.co2 with non C.2 or S.o2 neighbor.\n",
      "[16:51:49] 3c56_ligand: warning - O.co2 with non C.2 or S.o2 neighbor.\n",
      "RDKit WARNING: [16:51:49] 4lhv_ligand: warning - O.co2 with non C.2 or S.o2 neighbor.\n",
      "[16:51:49] 4lhv_ligand: warning - O.co2 with non C.2 or S.o2 neighbor.\n",
      "RDKit WARNING: [16:51:49] 2v2c_ligand: warning - O.co2 with non C.2 or S.o2 neighbor.\n",
      "[16:51:49] 2v2c_ligand: warning - O.co2 with non C.2 or S.o2 neighbor.\n",
      "RDKit WARNING: [16:51:49] 4zec_ligand: warning - O.co2 with non C.2 or S.o2 neighbor.\n",
      "[16:51:49] 4zec_ligand: warning - O.co2 with non C.2 or S.o2 neighbor.\n",
      "RDKit WARNING: [16:51:49] 4axd_ligand: warning - O.co2 with non C.2 or S.o2 neighbor.\n",
      "RDKit WARNING: [16:51:49] 3hit_ligand: warning - O.co2 with non C.2 or S.o2 neighbor.\n",
      "[16:51:49] 4axd_ligand: warning - O.co2 with non C.2 or S.o2 neighbor.\n",
      "[16:51:49] 3hit_ligand: warning - O.co2 with non C.2 or S.o2 neighbor.\n",
      "RDKit WARNING: [16:51:49] 3ip8_ligand: warning - O.co2 with non C.2 or S.o2 neighbor.\n",
      "[16:51:49] 3ip8_ligand: warning - O.co2 with non C.2 or S.o2 neighbor.\n",
      "RDKit WARNING: [16:51:49] 4l50_ligand: warning - O.co2 with non C.2 or S.o2 neighbor.\n",
      "[16:51:49] 4l50_ligand: warning - O.co2 with non C.2 or S.o2 neighbor.\n",
      "RDKit WARNING: [16:51:49] 3i73_ligand: warning - O.co2 with non C.2 or S.o2 neighbor.\n",
      "[16:51:49] 3i73_ligand: warning - O.co2 with non C.2 or S.o2 neighbor.\n",
      "RDKit WARNING: [16:51:49] 4z07_ligand: warning - O.co2 with non C.2 or S.o2 neighbor.\n",
      "[16:51:49] 4z07_ligand: warning - O.co2 with non C.2 or S.o2 neighbor.\n",
      "RDKit WARNING: [16:51:49] 4ncn_ligand: warning - O.co2 with non C.2 or S.o2 neighbor.\n",
      "[16:51:49] 4ncn_ligand: warning - O.co2 with non C.2 or S.o2 neighbor.\n",
      "[16:51:49] 5cst_ligand: warning - O.co2 with non C.2 or S.o2 neighbor.\n",
      "RDKit WARNING: [16:51:49] 5cst_ligand: warning - O.co2 with non C.2 or S.o2 neighbor.\n",
      "RDKit WARNING: [16:51:49] 6d1a_ligand: warning - O.co2 with non C.2 or S.o2 neighbor.\n",
      "RDKit WARNING: [16:51:49] 2w08_ligand: warning - O.co2 with non C.2 or S.o2 neighbor.\n",
      "[16:51:49] 6d1a_ligand: warning - O.co2 with non C.2 or S.o2 neighbor.\n",
      "RDKit WARNING: [16:51:49] 1rnm_ligand: warning - O.co2 with non C.2 or S.o2 neighbor.\n",
      "RDKit WARNING: [16:51:49] 4ozj_ligand: warning - O.co2 with non C.2 or S.o2 neighbor.\n",
      "RDKit WARNING: [16:51:49] 1atr_ligand: warning - O.co2 with non C.2 or S.o2 neighbor.\n",
      "RDKit WARNING: [16:51:49] 1wc1_ligand: warning - O.co2 with non C.2 or S.o2 neighbor.\n",
      "RDKit WARNING: [16:51:49] 1tsy_ligand: warning - O.co2 with non C.2 or S.o2 neighbor.\n",
      "RDKit WARNING: [16:51:49] 1jlr_ligand: warning - O.co2 with non C.2 or S.o2 neighbor.\n",
      "[16:51:49] 2w08_ligand: warning - O.co2 with non C.2 or S.o2 neighbor.\n",
      "[16:51:49] 1rnm_ligand: warning - O.co2 with non C.2 or S.o2 neighbor.\n",
      "[16:51:49] 4ozj_ligand: warning - O.co2 with non C.2 or S.o2 neighbor.\n",
      "[16:51:49] 1atr_ligand: warning - O.co2 with non C.2 or S.o2 neighbor.\n",
      "[16:51:49] 1wc1_ligand: warning - O.co2 with non C.2 or S.o2 neighbor.\n",
      "[16:51:49] 1tsy_ligand: warning - O.co2 with non C.2 or S.o2 neighbor.\n",
      "[16:51:49] 1jlr_ligand: warning - O.co2 with non C.2 or S.o2 neighbor.\n",
      "RDKit WARNING: [16:51:49] 1aj7_ligand: warning - O.co2 with non C.2 or S.o2 neighbor.\n",
      "RDKit WARNING: [16:51:49] 5fsx_ligand: warning - O.co2 with non C.2 or S.o2 neighbor.\n",
      "RDKit WARNING: [16:51:49] 2fzc_ligand: warning - O.co2 with non C.2 or S.o2 neighbor.\n",
      "[16:51:49] 1aj7_ligand: warning - O.co2 with non C.2 or S.o2 neighbor.\n",
      "[16:51:49] 5fsx_ligand: warning - O.co2 with non C.2 or S.o2 neighbor.\n",
      "[16:51:49] 2fzc_ligand: warning - O.co2 with non C.2 or S.o2 neighbor.\n",
      "RDKit WARNING: [16:51:49] 4ca5_ligand: warning - O.co2 with non C.2 or S.o2 neighbor.\n",
      "RDKit WARNING: [16:51:49] 5ey0_ligand: warning - O.co2 with non C.2 or S.o2 neighbor.\n",
      "RDKit WARNING: [16:51:49] 1kc7_ligand: warning - O.co2 with non C.2 or S.o2 neighbor.\n",
      "RDKit WARNING: [16:51:49] 6fv4_ligand: warning - O.co2 with non C.2 or S.o2 neighbor.\n",
      "RDKit WARNING: [16:51:49] 4uma_ligand: warning - O.co2 with non C.2 or S.o2 neighbor.\n",
      "RDKit WARNING: [16:51:49] 2f9k_ligand: warning - O.co2 with non C.2 or S.o2 neighbor.\n",
      "RDKit WARNING: [16:51:49] 2rka_ligand: warning - O.co2 with non C.2 or S.o2 neighbor.\n",
      "RDKit WARNING: [16:51:49] 4nxv_ligand: warning - O.co2 with non C.2 or S.o2 neighbor.\n",
      "[16:51:49] 4ca5_ligand: warning - O.co2 with non C.2 or S.o2 neighbor.\n",
      "RDKit WARNING: [16:51:49] 4qij_ligand: warning - O.co2 with non C.2 or S.o2 neighbor.\n",
      "RDKit WARNING: [16:51:49] 2e91_ligand: warning - O.co2 with non C.2 or S.o2 neighbor.\n",
      "[16:51:49] 5ey0_ligand: warning - O.co2 with non C.2 or S.o2 neighbor.\n",
      "[16:51:49] 1kc7_ligand: warning - O.co2 with non C.2 or S.o2 neighbor.\n",
      "[16:51:49] 6fv4_ligand: warning - O.co2 with non C.2 or S.o2 neighbor.\n",
      "[16:51:49] 4uma_ligand: warning - O.co2 with non C.2 or S.o2 neighbor.\n",
      "[16:51:49] 2f9k_ligand: warning - O.co2 with non C.2 or S.o2 neighbor.\n",
      "[16:51:49] 2rka_ligand: warning - O.co2 with non C.2 or S.o2 neighbor.\n",
      "[16:51:49] 4nxv_ligand: warning - O.co2 with non C.2 or S.o2 neighbor.\n",
      "[16:51:49] 4qij_ligand: warning - O.co2 with non C.2 or S.o2 neighbor.\n",
      "[16:51:49] 2e91_ligand: warning - O.co2 with non C.2 or S.o2 neighbor.\n",
      "RDKit WARNING: [16:51:49] 4pvy_ligand: warning - O.co2 with non C.2 or S.o2 neighbor.\n",
      "RDKit WARNING: [16:51:49] 4u69_ligand: warning - O.co2 with non C.2 or S.o2 neighbor.\n",
      "RDKit WARNING: [16:51:49] 2x96_ligand: warning - O.co2 with non C.2 or S.o2 neighbor.\n",
      "RDKit WARNING: [16:51:49] 5evz_ligand: warning - O.co2 with non C.2 or S.o2 neighbor.\n",
      "[16:51:49] 4pvy_ligand: warning - O.co2 with non C.2 or S.o2 neighbor.\n",
      "[16:51:49] 4u69_ligand: warning - O.co2 with non C.2 or S.o2 neighbor.\n",
      "[16:51:49] 2x96_ligand: warning - O.co2 with non C.2 or S.o2 neighbor.\n",
      "[16:51:49] 5evz_ligand: warning - O.co2 with non C.2 or S.o2 neighbor.\n",
      "RDKit WARNING: [16:51:49] 6o5t_ligand: warning - O.co2 with non C.2 or S.o2 neighbor.\n",
      "RDKit WARNING: [16:51:49] 3rbu_ligand: warning - O.co2 with non C.2 or S.o2 neighbor.\n",
      "[16:51:49] 6o5t_ligand: warning - O.co2 with non C.2 or S.o2 neighbor.\n",
      "[16:51:49] 3rbu_ligand: warning - O.co2 with non C.2 or S.o2 neighbor.\n",
      "RDKit WARNING: [16:51:49] 1bxq_ligand: warning - O.co2 with non C.2 or S.o2 neighbor.\n",
      "[16:51:49] 1bxq_ligand: warning - O.co2 with non C.2 or S.o2 neighbor.\n",
      "RDKit WARNING: [16:51:49] 3upk_ligand: warning - O.co2 with non C.2 or S.o2 neighbor.\n",
      "[16:51:49] 3upk_ligand: warning - O.co2 with non C.2 or S.o2 neighbor.\n",
      "RDKit WARNING: [16:51:49] 3fzy_ligand: warning - O.co2 with non C.2 or S.o2 neighbor.\n",
      "[16:51:49] 3fzy_ligand: warning - O.co2 with non C.2 or S.o2 neighbor.\n",
      "RDKit WARNING: [16:51:49] 4zeb_ligand: warning - O.co2 with non C.2 or S.o2 neighbor.\n",
      "RDKit WARNING: [16:51:50] 5efc_ligand: warning - O.co2 with non C.2 or S.o2 neighbor.\n",
      "[16:51:49] 4zeb_ligand: warning - O.co2 with non C.2 or S.o2 neighbor.\n",
      "[16:51:50] 5efc_ligand: warning - O.co2 with non C.2 or S.o2 neighbor.\n",
      "RDKit WARNING: [16:51:50] 4fxp_ligand: warning - O.co2 with non C.2 or S.o2 neighbor.\n",
      "[16:51:50] 4fxp_ligand: warning - O.co2 with non C.2 or S.o2 neighbor.\n",
      "RDKit WARNING: [16:51:50] 6d17_ligand: warning - O.co2 with non C.2 or S.o2 neighbor.\n",
      "[16:51:50] 6d17_ligand: warning - O.co2 with non C.2 or S.o2 neighbor.\n",
      "RDKit WARNING: [16:51:50] 5dus_ligand: warning - O.co2 with non C.2 or S.o2 neighbor.\n",
      "RDKit WARNING: [16:51:50] 6czb_ligand: warning - O.co2 with non C.2 or S.o2 neighbor.\n",
      "[16:51:50] 5dus_ligand: warning - O.co2 with non C.2 or S.o2 neighbor.\n",
      "RDKit WARNING: [16:51:50] 1nje_ligand: warning - O.co2 with non C.2 or S.o2 neighbor.\n",
      "[16:51:50] 6czb_ligand: warning - O.co2 with non C.2 or S.o2 neighbor.\n",
      "[16:51:50] 1nje_ligand: warning - O.co2 with non C.2 or S.o2 neighbor.\n",
      "RDKit WARNING: [16:51:50] 3djp_ligand: warning - O.co2 with non C.2 or S.o2 neighbor.\n",
      "[16:51:50] 3djp_ligand: warning - O.co2 with non C.2 or S.o2 neighbor.\n",
      "RDKit WARNING: [16:51:50] 2ot1_ligand: warning - O.co2 with non C.2 or S.o2 neighbor.\n",
      "RDKit WARNING: [16:51:50] 2bet_ligand: warning - O.co2 with non C.2 or S.o2 neighbor.\n",
      "[16:51:50] 2ot1_ligand: warning - O.co2 with non C.2 or S.o2 neighbor.\n",
      "[16:51:50] 2bet_ligand: warning - O.co2 with non C.2 or S.o2 neighbor.\n",
      "RDKit WARNING: [16:51:50] 3kqr_ligand: warning - O.co2 with non C.2 or S.o2 neighbor.\n",
      "RDKit WARNING: [16:51:50] 1jcx_ligand: warning - O.co2 with non C.2 or S.o2 neighbor.\n",
      "RDKit WARNING: [16:51:50] 3bbf_ligand: warning - O.co2 with non C.2 or S.o2 neighbor.\n",
      "RDKit WARNING: [16:51:50] 6of5_ligand: warning - O.co2 with non C.2 or S.o2 neighbor.\n",
      "[16:51:50] 3kqr_ligand: warning - O.co2 with non C.2 or S.o2 neighbor.\n",
      "RDKit WARNING: [16:51:50] 1fao_ligand: warning - O.co2 with non C.2 or S.o2 neighbor.\n",
      "RDKit WARNING: [16:51:50] 2vhj_ligand: warning - O.co2 with non C.2 or S.o2 neighbor.\n",
      "[16:51:50] 1jcx_ligand: warning - O.co2 with non C.2 or S.o2 neighbor.\n",
      "[16:51:50] 3bbf_ligand: warning - O.co2 with non C.2 or S.o2 neighbor.\n",
      "[16:51:50] 6of5_ligand: warning - O.co2 with non C.2 or S.o2 neighbor.\n",
      "[16:51:50] 1fao_ligand: warning - O.co2 with non C.2 or S.o2 neighbor.\n",
      "[16:51:50] 2vhj_ligand: warning - O.co2 with non C.2 or S.o2 neighbor.\n",
      "RDKit WARNING: [16:51:50] 4np9_ligand: warning - O.co2 with non C.2 or S.o2 neighbor.\n",
      "[16:51:50] 4np9_ligand: warning - O.co2 with non C.2 or S.o2 neighbor.\n",
      "RDKit WARNING: [16:51:50] 4u73_ligand: warning - O.co2 with non C.2 or S.o2 neighbor.\n",
      "[16:51:50] 4u73_ligand: warning - O.co2 with non C.2 or S.o2 neighbor.\n",
      "RDKit WARNING: [16:51:50] 6fhk_ligand: warning - O.co2 with non C.2 or S.o2 neighbor.\n",
      "[16:51:50] 6fhk_ligand: warning - O.co2 with non C.2 or S.o2 neighbor.\n",
      "RDKit WARNING: [16:51:50] 2nsj_ligand: warning - O.co2 with non C.2 or S.o2 neighbor.\n",
      "RDKit WARNING: [16:51:50] 3evd_ligand: warning - O.co2 with non C.2 or S.o2 neighbor.\n",
      "[16:51:50] 2nsj_ligand: warning - O.co2 with non C.2 or S.o2 neighbor.\n",
      "[16:51:50] 3evd_ligand: warning - O.co2 with non C.2 or S.o2 neighbor.\n",
      "RDKit WARNING: [16:51:50] 2zy1_ligand: warning - O.co2 with non C.2 or S.o2 neighbor.\n",
      "RDKit WARNING: [16:51:50] 2c94_ligand: warning - O.co2 with non C.2 or S.o2 neighbor.\n",
      "[16:51:50] 2zy1_ligand: warning - O.co2 with non C.2 or S.o2 neighbor.\n",
      "[16:51:50] 2c94_ligand: warning - O.co2 with non C.2 or S.o2 neighbor.\n",
      "RDKit WARNING: [16:51:50] 6bhv_ligand: warning - O.co2 with non C.2 or S.o2 neighbor.\n",
      "RDKit WARNING: [16:51:50] 2we3_ligand: warning - O.co2 with non C.2 or S.o2 neighbor.\n",
      "[16:51:50] 6bhv_ligand: warning - O.co2 with non C.2 or S.o2 neighbor.\n",
      "[16:51:50] 2we3_ligand: warning - O.co2 with non C.2 or S.o2 neighbor.\n",
      "RDKit WARNING: [16:51:50] 2v8w_ligand: warning - O.co2 with non C.2 or S.o2 neighbor.\n",
      "[16:51:50] 2v8w_ligand: warning - O.co2 with non C.2 or S.o2 neighbor.\n",
      "RDKit WARNING: [16:51:50] 3a1e_ligand: warning - O.co2 with non C.2 or S.o2 neighbor.\n",
      "RDKit WARNING: [16:51:50] 5u8c_ligand: warning - O.co2 with non C.2 or S.o2 neighbor.\n",
      "RDKit WARNING: [16:51:50] 1a4r_ligand: warning - O.co2 with non C.2 or S.o2 neighbor.\n",
      "[16:51:50] 3a1e_ligand: warning - O.co2 with non C.2 or S.o2 neighbor.\n",
      "[16:51:50] 5u8c_ligand: warning - O.co2 with non C.2 or S.o2 neighbor.\n",
      "[16:51:50] 1a4r_ligand: warning - O.co2 with non C.2 or S.o2 neighbor.\n",
      "RDKit WARNING: [16:51:50] 3k1j_ligand: warning - O.co2 with non C.2 or S.o2 neighbor.\n",
      "RDKit WARNING: [16:51:50] 1pfu_ligand: warning - O.co2 with non C.2 or S.o2 neighbor.\n",
      "[16:51:50] 3k1j_ligand: warning - O.co2 with non C.2 or S.o2 neighbor.\n",
      "[16:51:50] 1pfu_ligand: warning - O.co2 with non C.2 or S.o2 neighbor.\n",
      "RDKit WARNING: [16:51:50] 3iog_ligand: warning - O.co2 with non C.2 or S.o2 neighbor.\n",
      "RDKit WARNING: [16:51:50] 3ohi_ligand: warning - O.co2 with non C.2 or S.o2 neighbor.\n",
      "RDKit WARNING: [16:51:50] 5yz2_ligand: warning - O.co2 with non C.2 or S.o2 neighbor.\n",
      "RDKit WARNING: [16:51:50] 5tef_ligand: warning - O.co2 with non C.2 or S.o2 neighbor.\n",
      "[16:51:50] 3iog_ligand: warning - O.co2 with non C.2 or S.o2 neighbor.\n",
      "RDKit WARNING: [16:51:50] 2pqc_ligand: warning - O.co2 with non C.2 or S.o2 neighbor.\n",
      "RDKit WARNING: [16:51:50] 1mrn_ligand: warning - O.co2 with non C.2 or S.o2 neighbor.\n",
      "RDKit WARNING: [16:51:50] 5f74_ligand: warning - O.co2 with non C.2 or S.o2 neighbor.\n",
      "RDKit WARNING: [16:51:50] 1v48_ligand: warning - O.co2 with non C.2 or S.o2 neighbor.\n",
      "[16:51:50] 3ohi_ligand: warning - O.co2 with non C.2 or S.o2 neighbor.\n",
      "[16:51:50] 5yz2_ligand: warning - O.co2 with non C.2 or S.o2 neighbor.\n",
      "[16:51:50] 5tef_ligand: warning - O.co2 with non C.2 or S.o2 neighbor.\n",
      "[16:51:50] 2pqc_ligand: warning - O.co2 with non C.2 or S.o2 neighbor.\n",
      "[16:51:50] 1mrn_ligand: warning - O.co2 with non C.2 or S.o2 neighbor.\n",
      "[16:51:50] 5f74_ligand: warning - O.co2 with non C.2 or S.o2 neighbor.\n",
      "[16:51:50] 1v48_ligand: warning - O.co2 with non C.2 or S.o2 neighbor.\n",
      "RDKit WARNING: [16:51:50] 1oz0_ligand: warning - O.co2 with non C.2 or S.o2 neighbor.\n",
      "[16:51:50] 1oz0_ligand: warning - O.co2 with non C.2 or S.o2 neighbor.\n",
      "RDKit WARNING: [16:51:50] 4ca8_ligand: warning - O.co2 with non C.2 or S.o2 neighbor.\n",
      "[16:51:50] 4ca8_ligand: warning - O.co2 with non C.2 or S.o2 neighbor.\n",
      "RDKit WARNING: [16:51:50] 5bv3_ligand: warning - O.co2 with non C.2 or S.o2 neighbor.\n",
      "RDKit WARNING: [16:51:50] 4p6c_ligand: warning - O.co2 with non C.2 or S.o2 neighbor.\n",
      "RDKit WARNING: [16:51:50] 4tun_ligand: warning - O.co2 with non C.2 or S.o2 neighbor.\n",
      "RDKit WARNING: [16:51:50] 3p7i_ligand: warning - O.co2 with non C.2 or S.o2 neighbor.\n",
      "[16:51:50] 5bv3_ligand: warning - O.co2 with non C.2 or S.o2 neighbor.\n",
      "[16:51:50] 4p6c_ligand: warning - O.co2 with non C.2 or S.o2 neighbor.\n",
      "[16:51:50] 4tun_ligand: warning - O.co2 with non C.2 or S.o2 neighbor.\n",
      "[16:51:50] 3p7i_ligand: warning - O.co2 with non C.2 or S.o2 neighbor.\n",
      "RDKit WARNING: [16:51:50] 2yay_ligand: warning - O.co2 with non C.2 or S.o2 neighbor.\n",
      "[16:51:50] 2yay_ligand: warning - O.co2 with non C.2 or S.o2 neighbor.\n",
      "RDKit WARNING: [16:51:50] 5lvd_ligand: warning - O.co2 with non C.2 or S.o2 neighbor.\n",
      "RDKit WARNING: [16:51:50] 3ta1_ligand: warning - O.co2 with non C.2 or S.o2 neighbor.\n",
      "RDKit WARNING: [16:51:50] 1gar_ligand: warning - O.co2 with non C.2 or S.o2 neighbor.\n",
      "RDKit WARNING: [16:51:50] 4bi7_ligand: warning - O.co2 with non C.2 or S.o2 neighbor.\n",
      "[16:51:50] 5lvd_ligand: warning - O.co2 with non C.2 or S.o2 neighbor.\n",
      "RDKit WARNING: [16:51:50] 2pqb_ligand: warning - O.co2 with non C.2 or S.o2 neighbor.\n",
      "RDKit WARNING: [16:51:50] 1o1s_ligand: warning - O.co2 with non C.2 or S.o2 neighbor.\n",
      "[16:51:50] 3ta1_ligand: warning - O.co2 with non C.2 or S.o2 neighbor.\n",
      "[16:51:50] 1gar_ligand: warning - O.co2 with non C.2 or S.o2 neighbor.\n",
      "[16:51:50] 4bi7_ligand: warning - O.co2 with non C.2 or S.o2 neighbor.\n",
      "[16:51:50] 2pqb_ligand: warning - O.co2 with non C.2 or S.o2 neighbor.\n",
      "[16:51:50] 1o1s_ligand: warning - O.co2 with non C.2 or S.o2 neighbor.\n",
      "RDKit WARNING: [16:51:50] 1ppm_ligand: warning - O.co2 with non C.2 or S.o2 neighbor.\n",
      "[16:51:50] 1ppm_ligand: warning - O.co2 with non C.2 or S.o2 neighbor.\n",
      "[16:51:50] 5htl_ligand: warning - O.co2 with non C.2 or S.o2 neighbor.\n",
      "RDKit WARNING: [16:51:50] 5htl_ligand: warning - O.co2 with non C.2 or S.o2 neighbor.\n",
      "RDKit WARNING: [16:51:50] 1iih_ligand: warning - O.co2 with non C.2 or S.o2 neighbor.\n",
      "[16:51:50] 1iih_ligand: warning - O.co2 with non C.2 or S.o2 neighbor.\n",
      "RDKit WARNING: [16:51:50] 4ewn_ligand: warning - O.co2 with non C.2 or S.o2 neighbor.\n",
      "RDKit WARNING: [16:51:50] 3zi0_ligand: warning - O.co2 with non C.2 or S.o2 neighbor.\n",
      "RDKit WARNING: [16:51:50] 4lj5_ligand: warning - O.co2 with non C.2 or S.o2 neighbor.\n",
      "RDKit WARNING: [16:51:50] 3n1c_ligand: warning - O.co2 with non C.2 or S.o2 neighbor.\n",
      "RDKit WARNING: [16:51:50] 1drv_ligand: warning - O.co2 with non C.2 or S.o2 neighbor.\n",
      "[16:51:50] 4ewn_ligand: warning - O.co2 with non C.2 or S.o2 neighbor.\n",
      "[16:51:50] 3zi0_ligand: warning - O.co2 with non C.2 or S.o2 neighbor.\n",
      "[16:51:50] 4lj5_ligand: warning - O.co2 with non C.2 or S.o2 neighbor.\n",
      "[16:51:50] 3n1c_ligand: warning - O.co2 with non C.2 or S.o2 neighbor.\n",
      "[16:51:50] 1drv_ligand: warning - O.co2 with non C.2 or S.o2 neighbor.\n",
      "[16:51:50] 3iss_ligand: warning - O.co2 with non C.2 or S.o2 neighbor.\n",
      "RDKit WARNING: [16:51:50] 3iss_ligand: warning - O.co2 with non C.2 or S.o2 neighbor.\n",
      "RDKit WARNING: [16:51:50] 3tmk_ligand: warning - O.co2 with non C.2 or S.o2 neighbor.\n",
      "[16:51:50] 3tmk_ligand: warning - O.co2 with non C.2 or S.o2 neighbor.\n",
      "RDKit WARNING: [16:51:50] 6j7e_ligand: warning - O.co2 with non C.2 or S.o2 neighbor.\n",
      "[16:51:50] 6j7e_ligand: warning - O.co2 with non C.2 or S.o2 neighbor.\n",
      "RDKit WARNING: [16:51:50] 1tq4_ligand: warning - O.co2 with non C.2 or S.o2 neighbor.\n",
      "RDKit WARNING: [16:51:50] 6d18_ligand: warning - O.co2 with non C.2 or S.o2 neighbor.\n",
      "[16:51:50] 1tq4_ligand: warning - O.co2 with non C.2 or S.o2 neighbor.\n",
      "RDKit WARNING: [16:51:50] 4tmk_ligand: warning - O.co2 with non C.2 or S.o2 neighbor.\n",
      "[16:51:50] 6d18_ligand: warning - O.co2 with non C.2 or S.o2 neighbor.\n",
      "RDKit WARNING: [16:51:50] 3g1d_ligand: warning - O.co2 with non C.2 or S.o2 neighbor.\n",
      "RDKit WARNING: [16:51:50] 1pvn_ligand: warning - O.co2 with non C.2 or S.o2 neighbor.\n",
      "RDKit WARNING: [16:51:50] 1jmf_ligand: warning - O.co2 with non C.2 or S.o2 neighbor.\n",
      "RDKit WARNING: [16:51:50] 3e3c_ligand: warning - O.co2 with non C.2 or S.o2 neighbor.\n",
      "RDKit WARNING: [16:51:50] 4l51_ligand: warning - O.co2 with non C.2 or S.o2 neighbor.\n",
      "RDKit WARNING: [16:51:50] 4n7u_ligand: warning - O.co2 with non C.2 or S.o2 neighbor.\n",
      "RDKit WARNING: [16:51:50] 1hi5_ligand: warning - O.co2 with non C.2 or S.o2 neighbor.\n",
      "RDKit WARNING: [16:51:50] 4u71_ligand: warning - O.co2 with non C.2 or S.o2 neighbor.\n",
      "[16:51:50] 4tmk_ligand: warning - O.co2 with non C.2 or S.o2 neighbor.\n",
      "[16:51:50] 3g1d_ligand: warning - O.co2 with non C.2 or S.o2 neighbor.\n",
      "[16:51:50] 1pvn_ligand: warning - O.co2 with non C.2 or S.o2 neighbor.\n",
      "[16:51:50] 1jmf_ligand: warning - O.co2 with non C.2 or S.o2 neighbor.\n",
      "[16:51:50] 3e3c_ligand: warning - O.co2 with non C.2 or S.o2 neighbor.\n",
      "RDKit WARNING: [16:51:50] 1t32_ligand: warning - O.co2 with non C.2 or S.o2 neighbor.\n",
      "[16:51:50] 4l51_ligand: warning - O.co2 with non C.2 or S.o2 neighbor.\n",
      "[16:51:50] 4n7u_ligand: warning - O.co2 with non C.2 or S.o2 neighbor.\n",
      "[16:51:50] 1hi5_ligand: warning - O.co2 with non C.2 or S.o2 neighbor.\n",
      "[16:51:50] 4u71_ligand: warning - O.co2 with non C.2 or S.o2 neighbor.\n",
      "[16:51:50] 1t32_ligand: warning - O.co2 with non C.2 or S.o2 neighbor.\n",
      "RDKit WARNING: [16:51:50] 3bxe_ligand: warning - O.co2 with non C.2 or S.o2 neighbor.\n",
      "RDKit WARNING: [16:51:50] 2clk_ligand: warning - O.co2 with non C.2 or S.o2 neighbor.\n",
      "[16:51:50] 3bxe_ligand: warning - O.co2 with non C.2 or S.o2 neighbor.\n",
      "[16:51:50] 2clk_ligand: warning - O.co2 with non C.2 or S.o2 neighbor.\n",
      "RDKit WARNING: [16:51:50] 3ta0_ligand: warning - O.co2 with non C.2 or S.o2 neighbor.\n",
      "[16:51:50] 3ta0_ligand: warning - O.co2 with non C.2 or S.o2 neighbor.\n",
      "RDKit WARNING: [16:51:50] 5fsy_ligand: warning - O.co2 with non C.2 or S.o2 neighbor.\n",
      "[16:51:50] 5fsy_ligand: warning - O.co2 with non C.2 or S.o2 neighbor.\n",
      "RDKit WARNING: [16:51:50] 6g14_ligand: warning - O.co2 with non C.2 or S.o2 neighbor.\n",
      "RDKit WARNING: [16:51:50] 3n9s_ligand: warning - O.co2 with non C.2 or S.o2 neighbor.\n",
      "[16:51:50] 6g14_ligand: warning - O.co2 with non C.2 or S.o2 neighbor.\n",
      "[16:51:50] 3n9s_ligand: warning - O.co2 with non C.2 or S.o2 neighbor.\n",
      "RDKit WARNING: [16:51:50] 4wop_ligand: warning - O.co2 with non C.2 or S.o2 neighbor.\n",
      "RDKit WARNING: [16:51:50] 3lpl_ligand: warning - O.co2 with non C.2 or S.o2 neighbor.\n",
      "RDKit WARNING: [16:51:50] 1h0a_ligand: warning - O.co2 with non C.2 or S.o2 neighbor.\n",
      "[16:51:50] 4wop_ligand: warning - O.co2 with non C.2 or S.o2 neighbor.\n",
      "[16:51:50] 3lpl_ligand: warning - O.co2 with non C.2 or S.o2 neighbor.\n",
      "[16:51:50] 1h0a_ligand: warning - O.co2 with non C.2 or S.o2 neighbor.\n",
      "RDKit WARNING: [16:51:50] 2zcs_ligand: warning - O.co2 with non C.2 or S.o2 neighbor.\n",
      "RDKit WARNING: [16:51:50] 4lj8_ligand: warning - O.co2 with non C.2 or S.o2 neighbor.\n",
      "[16:51:50] 2zcs_ligand: warning - O.co2 with non C.2 or S.o2 neighbor.\n",
      "[16:51:50] 4lj8_ligand: warning - O.co2 with non C.2 or S.o2 neighbor.\n",
      "RDKit WARNING: [16:51:50] 2zcr_ligand: warning - O.co2 with non C.2 or S.o2 neighbor.\n",
      "RDKit WARNING: [16:51:50] 2hmu_ligand: warning - O.co2 with non C.2 or S.o2 neighbor.\n",
      "RDKit WARNING: [16:51:50] 5efa_ligand: warning - O.co2 with non C.2 or S.o2 neighbor.\n",
      "[16:51:50] 2zcr_ligand: warning - O.co2 with non C.2 or S.o2 neighbor.\n",
      "[16:51:50] 2hmu_ligand: warning - O.co2 with non C.2 or S.o2 neighbor.\n",
      "[16:51:50] 5efa_ligand: warning - O.co2 with non C.2 or S.o2 neighbor.\n",
      "RDKit WARNING: [16:51:50] 1loq_ligand: warning - O.co2 with non C.2 or S.o2 neighbor.\n",
      "RDKit WARNING: [16:51:50] 3eeb_ligand: warning - O.co2 with non C.2 or S.o2 neighbor.\n",
      "RDKit WARNING: [16:51:50] 1vso_ligand: warning - O.co2 with non C.2 or S.o2 neighbor.\n",
      "[16:51:50] 1loq_ligand: warning - O.co2 with non C.2 or S.o2 neighbor.\n",
      "[16:51:50] 3eeb_ligand: warning - O.co2 with non C.2 or S.o2 neighbor.\n",
      "[16:51:50] 1vso_ligand: warning - O.co2 with non C.2 or S.o2 neighbor.\n",
      "RDKit WARNING: [16:51:50] 3k8c_ligand: warning - O.co2 with non C.2 or S.o2 neighbor.\n",
      "RDKit WARNING: [16:51:50] 4bi6_ligand: warning - O.co2 with non C.2 or S.o2 neighbor.\n",
      "[16:51:50] 3k8c_ligand: warning - O.co2 with non C.2 or S.o2 neighbor.\n",
      "[16:51:50] 4bi6_ligand: warning - O.co2 with non C.2 or S.o2 neighbor.\n",
      "RDKit WARNING: [16:51:50] 3a1c_ligand: warning - O.co2 with non C.2 or S.o2 neighbor.\n",
      "RDKit WARNING: [16:51:50] 6d3q_ligand: warning - O.co2 with non C.2 or S.o2 neighbor.\n",
      "RDKit WARNING: [16:51:50] 4or4_ligand: warning - O.co2 with non C.2 or S.o2 neighbor.\n",
      "[16:51:50] 3a1c_ligand: warning - O.co2 with non C.2 or S.o2 neighbor.\n",
      "[16:51:50] 6d3q_ligand: warning - O.co2 with non C.2 or S.o2 neighbor.\n",
      "[16:51:50] 4or4_ligand: warning - O.co2 with non C.2 or S.o2 neighbor.\n",
      "RDKit WARNING: [16:51:50] 1lcp_ligand: warning - O.co2 with non C.2 or S.o2 neighbor.\n",
      "[16:51:50] 1lcp_ligand: warning - O.co2 with non C.2 or S.o2 neighbor.\n",
      "RDKit WARNING: [16:51:50] 3i9g_ligand: warning - O.co2 with non C.2 or S.o2 neighbor.\n",
      "RDKit WARNING: [16:51:50] 2p53_ligand: warning - O.co2 with non C.2 or S.o2 neighbor.\n",
      "[16:51:50] 3i9g_ligand: warning - O.co2 with non C.2 or S.o2 neighbor.\n",
      "RDKit WARNING: [16:51:50] 4ksy_ligand: warning - O.co2 with non C.2 or S.o2 neighbor.\n",
      "RDKit WARNING: [16:51:50] 3fed_ligand: warning - O.co2 with non C.2 or S.o2 neighbor.\n",
      "RDKit WARNING: [16:51:50] 4r73_ligand: warning - O.co2 with non C.2 or S.o2 neighbor.\n",
      "RDKit WARNING: [16:51:50] 1uj5_ligand: warning - O.co2 with non C.2 or S.o2 neighbor.\n",
      "RDKit WARNING: [16:51:50] 2w8w_ligand: warning - O.co2 with non C.2 or S.o2 neighbor.\n",
      "RDKit WARNING: [16:51:50] 6ssy_ligand: warning - O.co2 with non C.2 or S.o2 neighbor.\n",
      "[16:51:50] 2p53_ligand: warning - O.co2 with non C.2 or S.o2 neighbor.\n",
      "RDKit WARNING: [16:51:50] 6eyt_ligand: warning - O.co2 with non C.2 or S.o2 neighbor.\n",
      "[16:51:50] 4ksy_ligand: warning - O.co2 with non C.2 or S.o2 neighbor.\n",
      "[16:51:50] 3fed_ligand: warning - O.co2 with non C.2 or S.o2 neighbor.\n",
      "[16:51:50] 4r73_ligand: warning - O.co2 with non C.2 or S.o2 neighbor.\n",
      "[16:51:50] 1uj5_ligand: warning - O.co2 with non C.2 or S.o2 neighbor.\n",
      "[16:51:50] 2w8w_ligand: warning - O.co2 with non C.2 or S.o2 neighbor.\n",
      "[16:51:50] 6ssy_ligand: warning - O.co2 with non C.2 or S.o2 neighbor.\n",
      "[16:51:50] 6eyt_ligand: warning - O.co2 with non C.2 or S.o2 neighbor.\n",
      "RDKit WARNING: [16:51:50] 1tx7_ligand: warning - O.co2 with non C.2 or S.o2 neighbor.\n",
      "RDKit WARNING: [16:51:50] 4i3z_ligand: warning - O.co2 with non C.2 or S.o2 neighbor.\n",
      "RDKit WARNING: [16:51:50] 4ipn_ligand: warning - O.co2 with non C.2 or S.o2 neighbor.\n",
      "RDKit WARNING: [16:51:50] 1kv5_ligand: warning - O.co2 with non C.2 or S.o2 neighbor.\n",
      "RDKit WARNING: [16:51:50] 1gaf_ligand: warning - O.co2 with non C.2 or S.o2 neighbor.\n",
      "[16:51:50] 1tx7_ligand: warning - O.co2 with non C.2 or S.o2 neighbor.\n",
      "[16:51:50] 4i3z_ligand: warning - O.co2 with non C.2 or S.o2 neighbor.\n",
      "[16:51:50] 4ipn_ligand: warning - O.co2 with non C.2 or S.o2 neighbor.\n",
      "[16:51:50] 1kv5_ligand: warning - O.co2 with non C.2 or S.o2 neighbor.\n",
      "[16:51:50] 1gaf_ligand: warning - O.co2 with non C.2 or S.o2 neighbor.\n",
      "RDKit WARNING: [16:51:50] 1dqn_ligand: warning - O.co2 with non C.2 or S.o2 neighbor.\n",
      "RDKit WARNING: [16:51:50] 2ews_ligand: warning - O.co2 with non C.2 or S.o2 neighbor.\n",
      "RDKit WARNING: [16:51:50] 6hq7_ligand: warning - O.co2 with non C.2 or S.o2 neighbor.\n",
      "RDKit WARNING: [16:51:50] 6mxc_ligand: warning - O.co2 with non C.2 or S.o2 neighbor.\n",
      "RDKit WARNING: [16:51:50] 4b1j_ligand: warning - O.co2 with non C.2 or S.o2 neighbor.\n",
      "[16:51:50] 1dqn_ligand: warning - O.co2 with non C.2 or S.o2 neighbor.\n",
      "[16:51:50] 2ews_ligand: warning - O.co2 with non C.2 or S.o2 neighbor.\n",
      "[16:51:50] 6hq7_ligand: warning - O.co2 with non C.2 or S.o2 neighbor.\n",
      "[16:51:50] 6mxc_ligand: warning - O.co2 with non C.2 or S.o2 neighbor.\n",
      "[16:51:50] 4b1j_ligand: warning - O.co2 with non C.2 or S.o2 neighbor.\n",
      "RDKit WARNING: [16:51:50] 6rnt_ligand: warning - O.co2 with non C.2 or S.o2 neighbor.\n",
      "RDKit WARNING: [16:51:50] 5f2r_ligand: warning - O.co2 with non C.2 or S.o2 neighbor.\n",
      "[16:51:50] 6rnt_ligand: warning - O.co2 with non C.2 or S.o2 neighbor.\n",
      "[16:51:50] 5f2r_ligand: warning - O.co2 with non C.2 or S.o2 neighbor.\n",
      "RDKit WARNING: [16:51:50] 6d1k_ligand: warning - O.co2 with non C.2 or S.o2 neighbor.\n",
      "RDKit WARNING: [16:51:50] 5czm_ligand: warning - O.co2 with non C.2 or S.o2 neighbor.\n",
      "RDKit WARNING: [16:51:50] 1o0h_ligand: warning - O.co2 with non C.2 or S.o2 neighbor.\n",
      "[16:51:50] 6d1k_ligand: warning - O.co2 with non C.2 or S.o2 neighbor.\n",
      "[16:51:50] 5czm_ligand: warning - O.co2 with non C.2 or S.o2 neighbor.\n",
      "[16:51:50] 1o0h_ligand: warning - O.co2 with non C.2 or S.o2 neighbor.\n",
      "RDKit WARNING: [16:51:50] 1njd_ligand: warning - O.co2 with non C.2 or S.o2 neighbor.\n",
      "[16:51:50] 1njd_ligand: warning - O.co2 with non C.2 or S.o2 neighbor.\n",
      "RDKit WARNING: [16:51:50] 4u0w_ligand: warning - O.co2 with non C.2 or S.o2 neighbor.\n",
      "[16:51:50] 4u0w_ligand: warning - O.co2 with non C.2 or S.o2 neighbor.\n",
      "RDKit WARNING: [16:51:50] 1olu_ligand: warning - O.co2 with non C.2 or S.o2 neighbor.\n",
      "[16:51:50] 1olu_ligand: warning - O.co2 with non C.2 or S.o2 neighbor.\n",
      "RDKit WARNING: [16:51:50] 5wa8_ligand: warning - O.co2 with non C.2 or S.o2 neighbor.\n",
      "RDKit WARNING: [16:51:50] 5c2o_ligand: warning - O.co2 with non C.2 or S.o2 neighbor.\n",
      "RDKit WARNING: [16:51:50] 2hzy_ligand: warning - O.co2 with non C.2 or S.o2 neighbor.\n",
      "[16:51:50] 5wa8_ligand: warning - O.co2 with non C.2 or S.o2 neighbor.\n",
      "[16:51:50] 5c2o_ligand: warning - O.co2 with non C.2 or S.o2 neighbor.\n",
      "[16:51:50] 2hzy_ligand: warning - O.co2 with non C.2 or S.o2 neighbor.\n",
      "RDKit WARNING: [16:51:50] 2r59_ligand: warning - O.co2 with non C.2 or S.o2 neighbor.\n",
      "[16:51:50] 2r59_ligand: warning - O.co2 with non C.2 or S.o2 neighbor.\n",
      "RDKit WARNING: [16:51:50] 3qt6_ligand: warning - O.co2 with non C.2 or S.o2 neighbor.\n",
      "[16:51:50] 3qt6_ligand: warning - O.co2 with non C.2 or S.o2 neighbor.\n",
      "RDKit WARNING: [16:51:50] 1s89_ligand: warning - O.co2 with non C.2 or S.o2 neighbor.\n",
      "RDKit WARNING: [16:51:50] 1os0_ligand: warning - O.co2 with non C.2 or S.o2 neighbor.\n",
      "RDKit WARNING: [16:51:50] 4uoh_ligand: warning - O.co2 with non C.2 or S.o2 neighbor.\n",
      "RDKit WARNING: [16:51:50] 1z6s_ligand: warning - O.co2 with non C.2 or S.o2 neighbor.\n",
      "RDKit WARNING: [16:51:50] 1bzc_ligand: warning - O.co2 with non C.2 or S.o2 neighbor.\n",
      "RDKit WARNING: [16:51:50] 2fxv_ligand: warning - O.co2 with non C.2 or S.o2 neighbor.\n",
      "RDKit WARNING: [16:51:50] 5hva_ligand: warning - O.co2 with non C.2 or S.o2 neighbor.\n",
      "RDKit WARNING: [16:51:50] 4ew2_ligand: warning - charged amidine and isFixed atom.\n",
      "RDKit WARNING: [16:51:50] 6faa_ligand: warning - O.co2 with non C.2 or S.o2 neighbor.\n",
      "[16:51:50] 1s89_ligand: warning - O.co2 with non C.2 or S.o2 neighbor.\n",
      "[16:51:50] 1os0_ligand: warning - O.co2 with non C.2 or S.o2 neighbor.\n",
      "[16:51:50] 4uoh_ligand: warning - O.co2 with non C.2 or S.o2 neighbor.\n",
      "[16:51:50] 1z6s_ligand: warning - O.co2 with non C.2 or S.o2 neighbor.\n",
      "[16:51:50] 1bzc_ligand: warning - O.co2 with non C.2 or S.o2 neighbor.\n",
      "[16:51:50] 2fxv_ligand: warning - O.co2 with non C.2 or S.o2 neighbor.\n",
      "[16:51:50] 5hva_ligand: warning - O.co2 with non C.2 or S.o2 neighbor.\n",
      "[16:51:50] 4ew2_ligand: warning - charged amidine and isFixed atom.\n",
      "[16:51:50] 6faa_ligand: warning - O.co2 with non C.2 or S.o2 neighbor.\n",
      "RDKit WARNING: [16:51:50] 1mh5_ligand: warning - O.co2 with non C.2 or S.o2 neighbor.\n",
      "[16:51:50] 1mh5_ligand: warning - O.co2 with non C.2 or S.o2 neighbor.\n",
      "RDKit WARNING: [16:51:50] 6mnv_ligand: warning - O.co2 with non C.2 or S.o2 neighbor.\n",
      "RDKit WARNING: [16:51:50] 4umc_ligand: warning - O.co2 with non C.2 or S.o2 neighbor.\n",
      "RDKit WARNING: [16:51:50] 4gql_ligand: warning - O.co2 with non C.2 or S.o2 neighbor.\n",
      "[16:51:50] 6mnv_ligand: warning - O.co2 with non C.2 or S.o2 neighbor.\n",
      "[16:51:50] 4umc_ligand: warning - O.co2 with non C.2 or S.o2 neighbor.\n",
      "[16:51:50] 4gql_ligand: warning - O.co2 with non C.2 or S.o2 neighbor.\n",
      "RDKit WARNING: [16:51:50] 5ovx_ligand: warning - O.co2 with non C.2 or S.o2 neighbor.\n",
      "[16:51:50] 5ovx_ligand: warning - O.co2 with non C.2 or S.o2 neighbor.\n",
      "RDKit WARNING: [16:51:50] 3lzz_ligand: warning - O.co2 with non C.2 or S.o2 neighbor.\n",
      "RDKit WARNING: [16:51:50] 5lwd_ligand: warning - O.co2 with non C.2 or S.o2 neighbor.\n",
      "RDKit WARNING: [16:51:50] 1pkx_ligand: warning - O.co2 with non C.2 or S.o2 neighbor.\n",
      "[16:51:50] 3lzz_ligand: warning - O.co2 with non C.2 or S.o2 neighbor.\n",
      "[16:51:50] 5lwd_ligand: warning - O.co2 with non C.2 or S.o2 neighbor.\n",
      "[16:51:50] 1pkx_ligand: warning - O.co2 with non C.2 or S.o2 neighbor.\n",
      "[16:51:50] 1ols_ligand: warning - O.co2 with non C.2 or S.o2 neighbor.\n",
      "RDKit WARNING: [16:51:50] 1ols_ligand: warning - O.co2 with non C.2 or S.o2 neighbor.\n",
      "RDKit WARNING: [16:51:50] 4mo4_ligand: warning - O.co2 with non C.2 or S.o2 neighbor.\n",
      "[16:51:50] 4mo4_ligand: warning - O.co2 with non C.2 or S.o2 neighbor.\n",
      "RDKit ERROR: [16:51:50] Can't kekulize mol.  Unkekulized atoms: 0 1 2 3 5\n",
      "[16:51:50] Can't kekulize mol.  Unkekulized atoms: 0 1 2 3 5\n",
      "\n",
      "RDKit ERROR: \n",
      "RDKit WARNING: [16:51:50] sanitise [16:51:50] 1ksn_ligand: [16:51:50] 1dl7_ligand: warning - O.co2 with non C.2 or S.o2 neighbor.\n",
      "[16:51:50] sanitise [16:51:50] 1ksn_ligand: [16:51:50] 1dl7_ligand: warning - O.co2 with non C.2 or S.o2 neighbor.\n",
      "RDKit WARNING: [16:51:50] 3aaq_ligand: warning - O.co2 with non C.2 or S.o2 neighbor.\n",
      "RDKit WARNING: [16:51:50] 3egt_ligand: warning - O.co2 with non C.2 or S.o2 neighbor.\n",
      "[16:51:50] 3aaq_ligand: warning - O.co2 with non C.2 or S.o2 neighbor.\n",
      "[16:51:50] 3egt_ligand: warning - O.co2 with non C.2 or S.o2 neighbor.\n",
      "RDKit WARNING: [16:51:50] 1rnt_ligand: warning - O.co2 with non C.2 or S.o2 neighbor.\n",
      "RDKit WARNING: [16:51:50] 1h6h_ligand: warning - O.co2 with non C.2 or S.o2 neighbor.\n",
      "[16:51:50] 1rnt_ligand: warning - O.co2 with non C.2 or S.o2 neighbor.\n",
      "RDKit WARNING: [16:51:50] 1o0m_ligand: warning - O.co2 with non C.2 or S.o2 neighbor.\n",
      "[16:51:50] 1h6h_ligand: warning - O.co2 with non C.2 or S.o2 neighbor.\n",
      "[16:51:50] 1o0m_ligand: warning - O.co2 with non C.2 or S.o2 neighbor.\n",
      "RDKit WARNING: [16:51:50] 2b1i_ligand: warning - O.co2 with non C.2 or S.o2 neighbor.\n",
      "RDKit WARNING: [16:51:50] 1x8t_ligand: warning - O.co2 with non C.2 or S.o2 neighbor.\n",
      "[16:51:50] 2b1i_ligand: warning - O.co2 with non C.2 or S.o2 neighbor.\n",
      "[16:51:50] 1x8t_ligand: warning - O.co2 with non C.2 or S.o2 neighbor.\n",
      "RDKit WARNING: [16:51:50] 1ua4_ligand: warning - O.co2 with non C.2 or S.o2 neighbor.\n",
      "RDKit WARNING: [16:51:50] 6mm2_ligand: warning - O.co2 with non C.2 or S.o2 neighbor.\n",
      "RDKit WARNING: [16:51:50] 2c97_ligand: warning - O.co2 with non C.2 or S.o2 neighbor.\n",
      "RDKit WARNING: [16:51:50] 4rsk_ligand: warning - O.co2 with non C.2 or S.o2 neighbor.\n",
      "[16:51:50] 1ua4_ligand: warning - O.co2 with non C.2 or S.o2 neighbor.\n",
      "[16:51:50] 6mm2_ligand: warning - O.co2 with non C.2 or S.o2 neighbor.\n",
      "[16:51:50] 2c97_ligand: warning - O.co2 with non C.2 or S.o2 neighbor.\n",
      "[16:51:50] 4rsk_ligand: warning - O.co2 with non C.2 or S.o2 neighbor.\n",
      "RDKit WARNING: [16:51:50] 2i4d_ligand: warning - O.co2 with non C.2 or S.o2 neighbor.\n",
      "RDKit WARNING: [16:51:50] 1u0g_ligand: warning - O.co2 with non C.2 or S.o2 neighbor.\n",
      "[16:51:50] 2i4d_ligand: warning - O.co2 with non C.2 or S.o2 neighbor.\n",
      "RDKit WARNING: [16:51:50] 1o0n_ligand: warning - O.co2 with non C.2 or S.o2 neighbor.\n",
      "RDKit WARNING: [16:51:50] 1t31_ligand: warning - O.co2 with non C.2 or S.o2 neighbor.\n",
      "[16:51:50] 1u0g_ligand: warning - O.co2 with non C.2 or S.o2 neighbor.\n",
      "[16:51:50] 1o0n_ligand: warning - O.co2 with non C.2 or S.o2 neighbor.\n",
      "[16:51:50] 1t31_ligand: warning - O.co2 with non C.2 or S.o2 neighbor.\n",
      "RDKit ERROR: [16:51:50] Can't kekulize mol.  Unkekulized atoms: 0 1 3 4 5\n",
      "RDKit ERROR: \n",
      "[16:51:50] Can't kekulize mol.  Unkekulized atoms: 0 1 3 4 5\n",
      "\n",
      "RDKit WARNING: [16:51:50] sanitise [16:51:50] 1sl3_ligand: [16:51:50] 4del_ligand: warning - O.co2 with non C.2 or S.o2 neighbor.\n",
      "RDKit WARNING: [16:51:50] 3e12_ligand: warning - O.co2 with non C.2 or S.o2 neighbor.\n",
      "RDKit WARNING: [16:51:50] 3b2q_ligand: warning - O.co2 with non C.2 or S.o2 neighbor.\n",
      "RDKit WARNING: [16:51:50] 3f6e_ligand: warning - O.co2 with non C.2 or S.o2 neighbor.\n",
      "[16:51:50] sanitise [16:51:50] 1sl3_ligand: [16:51:50] 4del_ligand: warning - O.co2 with non C.2 or S.o2 neighbor.\n",
      "[16:51:50] 3e12_ligand: warning - O.co2 with non C.2 or S.o2 neighbor.\n",
      "[16:51:50] 3b2q_ligand: warning - O.co2 with non C.2 or S.o2 neighbor.\n",
      "[16:51:50] 3f6e_ligand: warning - O.co2 with non C.2 or S.o2 neighbor.\n",
      "RDKit WARNING: [16:51:50] 3fuc_ligand: warning - O.co2 with non C.2 or S.o2 neighbor.\n",
      "[16:51:50] 3fuc_ligand: warning - O.co2 with non C.2 or S.o2 neighbor.\n",
      "RDKit WARNING: [16:51:50] 5od1_ligand: warning - O.co2 with non C.2 or S.o2 neighbor.\n",
      "RDKit WARNING: [16:51:50] 5ma7_ligand: warning - O.co2 with non C.2 or S.o2 neighbor.\n",
      "[16:51:50] 5od1_ligand: warning - O.co2 with non C.2 or S.o2 neighbor.\n",
      "[16:51:50] 5ma7_ligand: warning - O.co2 with non C.2 or S.o2 neighbor.\n",
      "RDKit WARNING: [16:51:50] 3exe_ligand: warning - O.co2 with non C.2 or S.o2 neighbor.\n",
      "RDKit WARNING: [16:51:50] 4u70_ligand: warning - O.co2 with non C.2 or S.o2 neighbor.\n",
      "[16:51:50] 3exe_ligand: warning - O.co2 with non C.2 or S.o2 neighbor.\n",
      "RDKit WARNING: [16:51:50] 4muv_ligand: warning - O.co2 with non C.2 or S.o2 neighbor.\n",
      "RDKit WARNING: [16:51:50] 1g7v_ligand: warning - O.co2 with non C.2 or S.o2 neighbor.\n",
      "RDKit WARNING: [16:51:50] 6g0z_ligand: warning - O.co2 with non C.2 or S.o2 neighbor.\n",
      "RDKit WARNING: [16:51:50] 5nw7_ligand: warning - O.co2 with non C.2 or S.o2 neighbor.\n",
      "RDKit WARNING: [16:51:50] 1v11_ligand: warning - O.co2 with non C.2 or S.o2 neighbor.\n",
      "RDKit WARNING: [16:51:50] 2p09_ligand: warning - O.co2 with non C.2 or S.o2 neighbor.\n",
      "RDKit WARNING: [16:51:50] 6n95_ligand: warning - O.co2 with non C.2 or S.o2 neighbor.\n",
      "RDKit WARNING: [16:51:50] 2isw_ligand: warning - O.co2 with non C.2 or S.o2 neighbor.\n",
      "RDKit WARNING: [16:51:50] 4idn_ligand: warning - O.co2 with non C.2 or S.o2 neighbor.\n",
      "[16:51:50] 4u70_ligand: warning - O.co2 with non C.2 or S.o2 neighbor.\n",
      "[16:51:50] 4muv_ligand: warning - O.co2 with non C.2 or S.o2 neighbor.\n",
      "[16:51:50] 1g7v_ligand: warning - O.co2 with non C.2 or S.o2 neighbor.\n",
      "[16:51:50] 6g0z_ligand: warning - O.co2 with non C.2 or S.o2 neighbor.\n",
      "[16:51:50] 5nw7_ligand: warning - O.co2 with non C.2 or S.o2 neighbor.\n",
      "[16:51:50] 1v11_ligand: warning - O.co2 with non C.2 or S.o2 neighbor.\n",
      "[16:51:50] 2p09_ligand: warning - O.co2 with non C.2 or S.o2 neighbor.\n",
      "[16:51:50] 6n95_ligand: warning - O.co2 with non C.2 or S.o2 neighbor.\n",
      "RDKit WARNING: [16:51:50] 5zdb_ligand: warning - O.co2 with non C.2 or S.o2 neighbor.\n",
      "[16:51:50] 2isw_ligand: warning - O.co2 with non C.2 or S.o2 neighbor.\n",
      "[16:51:50] 4idn_ligand: warning - O.co2 with non C.2 or S.o2 neighbor.\n",
      "[16:51:50] 5zdb_ligand: warning - O.co2 with non C.2 or S.o2 neighbor.\n",
      "[16:51:50] 2cle_ligand: warning - O.co2 with non C.2 or S.o2 neighbor.\n",
      "RDKit WARNING: [16:51:50] 2cle_ligand: warning - O.co2 with non C.2 or S.o2 neighbor.\n",
      "RDKit WARNING: [16:51:50] 1kav_ligand: warning - O.co2 with non C.2 or S.o2 neighbor.\n",
      "RDKit WARNING: [16:51:50] 4g0q_ligand: warning - O.co2 with non C.2 or S.o2 neighbor.\n",
      "RDKit WARNING: [16:51:50] 6d1b_ligand: warning - O.co2 with non C.2 or S.o2 neighbor.\n",
      "RDKit WARNING: [16:51:50] 3fj7_ligand: warning - O.co2 with non C.2 or S.o2 neighbor.\n",
      "RDKit WARNING: [16:51:50] 1hi4_ligand: warning - O.co2 with non C.2 or S.o2 neighbor.\n",
      "RDKit WARNING: [16:51:50] 4kxn_ligand: warning - O.co2 with non C.2 or S.o2 neighbor.\n",
      "RDKit WARNING: [16:51:50] 4tim_ligand: warning - O.co2 with non C.2 or S.o2 neighbor.\n",
      "[16:51:50] 1kav_ligand: warning - O.co2 with non C.2 or S.o2 neighbor.\n",
      "[16:51:50] 4g0q_ligand: warning - O.co2 with non C.2 or S.o2 neighbor.\n",
      "[16:51:50] 6d1b_ligand: warning - O.co2 with non C.2 or S.o2 neighbor.\n",
      "[16:51:50] 3fj7_ligand: warning - O.co2 with non C.2 or S.o2 neighbor.\n",
      "[16:51:50] 1hi4_ligand: warning - O.co2 with non C.2 or S.o2 neighbor.\n",
      "[16:51:50] 4kxn_ligand: warning - O.co2 with non C.2 or S.o2 neighbor.\n",
      "[16:51:50] 4tim_ligand: warning - O.co2 with non C.2 or S.o2 neighbor.\n",
      "RDKit WARNING: [16:51:51] 4rhx_ligand: warning - O.co2 with non C.2 or S.o2 neighbor.\n",
      "RDKit WARNING: [16:51:51] 2vfk_ligand: warning - O.co2 with non C.2 or S.o2 neighbor.\n",
      "RDKit WARNING: [16:51:51] 4fl2_ligand: warning - O.co2 with non C.2 or S.o2 neighbor.\n",
      "[16:51:51] 4rhx_ligand: warning - O.co2 with non C.2 or S.o2 neighbor.\n",
      "[16:51:51] 2vfk_ligand: warning - O.co2 with non C.2 or S.o2 neighbor.\n",
      "[16:51:51] 4fl2_ligand: warning - O.co2 with non C.2 or S.o2 neighbor.\n",
      "RDKit WARNING: [16:51:51] 5jxn_ligand: warning - O.co2 with non C.2 or S.o2 neighbor.\n",
      "RDKit WARNING: [16:51:51] 1yfz_ligand: warning - O.co2 with non C.2 or S.o2 neighbor.\n",
      "RDKit WARNING: [16:51:51] 4ra1_ligand: warning - O.co2 with non C.2 or S.o2 neighbor.\n",
      "RDKit WARNING: [16:51:51] 1amk_ligand: warning - O.co2 with non C.2 or S.o2 neighbor.\n",
      "RDKit WARNING: [16:51:51] 1hos_ligand: warning - O.co2 with non C.2 or S.o2 neighbor.\n",
      "[16:51:51] 5jxn_ligand: warning - O.co2 with non C.2 or S.o2 neighbor.\n",
      "[16:51:51] 1yfz_ligand: warning - O.co2 with non C.2 or S.o2 neighbor.\n",
      "[16:51:51] 4ra1_ligand: warning - O.co2 with non C.2 or S.o2 neighbor.\n",
      "[16:51:51] 1amk_ligand: warning - O.co2 with non C.2 or S.o2 neighbor.\n",
      "[16:51:51] 1hos_ligand: warning - O.co2 with non C.2 or S.o2 neighbor.\n",
      "RDKit WARNING: [16:51:51] 2ypi_ligand: warning - O.co2 with non C.2 or S.o2 neighbor.\n",
      "[16:51:51] 2ypi_ligand: warning - O.co2 with non C.2 or S.o2 neighbor.\n",
      "RDKit WARNING: [16:51:51] 5m04_ligand: warning - O.co2 with non C.2 or S.o2 neighbor.\n",
      "[16:51:51] 5m04_ligand: warning - O.co2 with non C.2 or S.o2 neighbor.\n",
      "RDKit WARNING: [16:51:51] 1p19_ligand: warning - O.co2 with non C.2 or S.o2 neighbor.\n",
      "RDKit WARNING: [16:51:51] 1bxr_ligand: warning - O.co2 with non C.2 or S.o2 neighbor.\n",
      "RDKit WARNING: [16:51:51] 4loi_ligand: warning - O.co2 with non C.2 or S.o2 neighbor.\n",
      "[16:51:51] 1p19_ligand: warning - O.co2 with non C.2 or S.o2 neighbor.\n",
      "[16:51:51] 1bxr_ligand: warning - O.co2 with non C.2 or S.o2 neighbor.\n",
      "[16:51:51] 4loi_ligand: warning - O.co2 with non C.2 or S.o2 neighbor.\n",
      "RDKit WARNING: [16:51:51] 6j0g_ligand: warning - O.co2 with non C.2 or S.o2 neighbor.\n",
      "RDKit WARNING: [16:51:51] 3ikg_ligand: warning - O.co2 with non C.2 or S.o2 neighbor.\n",
      "[16:51:51] 6j0g_ligand: warning - O.co2 with non C.2 or S.o2 neighbor.\n",
      "RDKit WARNING: [16:51:51] 5hbn_ligand: warning - O.co2 with non C.2 or S.o2 neighbor.\n",
      "RDKit WARNING: [16:51:51] 4r74_ligand: warning - O.co2 with non C.2 or S.o2 neighbor.\n",
      "RDKit WARNING: [16:51:51] 4jkw_ligand: warning - O.co2 with non C.2 or S.o2 neighbor.\n",
      "RDKit WARNING: [16:51:51] 1zvx_ligand: warning - O.co2 with non C.2 or S.o2 neighbor.\n",
      "RDKit WARNING: [16:51:51] 3bxh_ligand: warning - O.co2 with non C.2 or S.o2 neighbor.\n",
      "RDKit WARNING: [16:51:51] 2qta_ligand: warning - O.co2 with non C.2 or S.o2 neighbor.\n",
      "[16:51:51] 3ikg_ligand: warning - O.co2 with non C.2 or S.o2 neighbor.\n",
      "[16:51:51] 5hbn_ligand: warning - O.co2 with non C.2 or S.o2 neighbor.\n",
      "[16:51:51] 4r74_ligand: warning - O.co2 with non C.2 or S.o2 neighbor.\n",
      "[16:51:51] 4jkw_ligand: warning - O.co2 with non C.2 or S.o2 neighbor.\n",
      "[16:51:51] 1zvx_ligand: warning - O.co2 with non C.2 or S.o2 neighbor.\n",
      "[16:51:51] 3bxh_ligand: warning - O.co2 with non C.2 or S.o2 neighbor.\n",
      "[16:51:51] 2qta_ligand: warning - O.co2 with non C.2 or S.o2 neighbor.\n",
      "RDKit WARNING: [16:51:51] 5jt9_ligand: warning - O.co2 with non C.2 or S.o2 neighbor.\n",
      "[16:51:51] 5jt9_ligand: warning - O.co2 with non C.2 or S.o2 neighbor.\n",
      "RDKit WARNING: [16:51:51] 5n2t_ligand: warning - O.co2 with non C.2 or S.o2 neighbor.\n",
      "[16:51:51] 5n2t_ligand: warning - O.co2 with non C.2 or S.o2 neighbor.\n",
      "[16:51:51] 1qji_ligand: warning - O.co2 with non C.2 or S.o2 neighbor.\n",
      "RDKit WARNING: [16:51:51] 1qji_ligand: warning - O.co2 with non C.2 or S.o2 neighbor.\n",
      "RDKit WARNING: [16:51:51] 5m9w_ligand: warning - O.co2 with non C.2 or S.o2 neighbor.\n",
      "[16:51:51] 5m9w_ligand: warning - O.co2 with non C.2 or S.o2 neighbor.\n",
      "RDKit WARNING: [16:51:51] 5ldp_ligand: warning - O.co2 with non C.2 or S.o2 neighbor.\n",
      "[16:51:51] 5ldp_ligand: warning - O.co2 with non C.2 or S.o2 neighbor.\n",
      "RDKit WARNING: [16:51:51] 2oc2_ligand: warning - O.co2 with non C.2 or S.o2 neighbor.\n",
      "[16:51:51] 2oc2_ligand: warning - O.co2 with non C.2 or S.o2 neighbor.\n",
      "RDKit WARNING: [16:51:51] 1ew8_ligand: warning - O.co2 with non C.2 or S.o2 neighbor.\n",
      "RDKit WARNING: [16:51:51] 2j27_ligand: warning - O.co2 with non C.2 or S.o2 neighbor.\n",
      "RDKit WARNING: [16:51:51] 3b7i_ligand: warning - O.co2 with non C.2 or S.o2 neighbor.\n",
      "[16:51:51] 1ew8_ligand: warning - O.co2 with non C.2 or S.o2 neighbor.\n",
      "[16:51:51] 2j27_ligand: warning - O.co2 with non C.2 or S.o2 neighbor.\n",
      "[16:51:51] 3b7i_ligand: warning - O.co2 with non C.2 or S.o2 neighbor.\n",
      "RDKit WARNING: [16:51:51] 2rk8_ligand: Warning - no explicit hydrogens in mol2 file but needed for formal charge estimation.\n",
      "RDKit WARNING: [16:51:51] 2rk8_ligand: warning - O.co2 with non C.2 or S.o2 neighbor.\n",
      "RDKit WARNING: [16:51:51] 1lvu_ligand: warning - O.co2 with non C.2 or S.o2 neighbor.\n",
      "RDKit WARNING: [16:51:51] 8cpa_ligand: warning - O.co2 with non C.2 or S.o2 neighbor.\n",
      "RDKit WARNING: [16:51:51] 2gzl_ligand: warning - O.co2 with non C.2 or S.o2 neighbor.\n",
      "RDKit WARNING: [16:51:51] 2nsl_ligand: warning - O.co2 with non C.2 or S.o2 neighbor.\n",
      "[16:51:51] 2rk8_ligand: Warning - no explicit hydrogens in mol2 file but needed for formal charge estimation.\n",
      "[16:51:51] 2rk8_ligand: warning - O.co2 with non C.2 or S.o2 neighbor.\n",
      "[16:51:51] 1lvu_ligand: warning - O.co2 with non C.2 or S.o2 neighbor.\n",
      "[16:51:51] 8cpa_ligand: warning - O.co2 with non C.2 or S.o2 neighbor.\n",
      "[16:51:51] 2gzl_ligand: warning - O.co2 with non C.2 or S.o2 neighbor.\n",
      "[16:51:51] 2nsl_ligand: warning - O.co2 with non C.2 or S.o2 neighbor.\n",
      "[16:51:51] 3exh_ligand: warning - O.co2 with non C.2 or S.o2 neighbor.\n",
      "RDKit WARNING: [16:51:51] 3exh_ligand: warning - O.co2 with non C.2 or S.o2 neighbor.\n",
      "RDKit WARNING: [16:51:51] 6gon_ligand: Warning - no explicit hydrogens in mol2 file but needed for formal charge estimation.\n",
      "[16:51:51] 6gon_ligand: Warning - no explicit hydrogens in mol2 file but needed for formal charge estimation.\n",
      "RDKit WARNING: [16:51:51] 1m0q_ligand: warning - O.co2 with non C.2 or S.o2 neighbor.\n",
      "RDKit WARNING: [16:51:51] 5elw_ligand: warning - O.co2 with non C.2 or S.o2 neighbor.\n",
      "[16:51:51] 1m0q_ligand: warning - O.co2 with non C.2 or S.o2 neighbor.\n",
      "[16:51:51] 5elw_ligand: warning - O.co2 with non C.2 or S.o2 neighbor.\n",
      "RDKit WARNING: [16:51:51] 1xk5_ligand: warning - O.co2 with non C.2 or S.o2 neighbor.\n",
      "RDKit WARNING: [16:51:51] 3qx9_ligand: warning - O.co2 with non C.2 or S.o2 neighbor.\n",
      "[16:51:51] 1xk5_ligand: warning - O.co2 with non C.2 or S.o2 neighbor.\n",
      "[16:51:51] 3qx9_ligand: warning - O.co2 with non C.2 or S.o2 neighbor.\n",
      "RDKit WARNING: [16:51:51] 1gvw_ligand: warning - O.co2 with non C.2 or S.o2 neighbor.\n",
      "[16:51:51] 1gvw_ligand: warning - O.co2 with non C.2 or S.o2 neighbor.\n",
      "RDKit WARNING: [16:51:51] 4g0p_ligand: warning - O.co2 with non C.2 or S.o2 neighbor.\n",
      "RDKit WARNING: [16:51:51] 1qk3_ligand: warning - O.co2 with non C.2 or S.o2 neighbor.\n",
      "RDKit WARNING: [16:51:51] 3o75_ligand: warning - O.co2 with non C.2 or S.o2 neighbor.\n",
      "RDKit WARNING: [16:51:51] 6d15_ligand: warning - O.co2 with non C.2 or S.o2 neighbor.\n",
      "[16:51:51] 4g0p_ligand: warning - O.co2 with non C.2 or S.o2 neighbor.\n",
      "[16:51:51] 1qk3_ligand: warning - O.co2 with non C.2 or S.o2 neighbor.\n",
      "[16:51:51] 3o75_ligand: warning - O.co2 with non C.2 or S.o2 neighbor.\n",
      "[16:51:51] 6d15_ligand: warning - O.co2 with non C.2 or S.o2 neighbor.\n",
      "RDKit WARNING: [16:51:51] 3fjg_ligand: warning - O.co2 with non C.2 or S.o2 neighbor.\n",
      "RDKit WARNING: [16:51:51] 3kyq_ligand: warning - O.co2 with non C.2 or S.o2 neighbor.\n",
      "RDKit WARNING: [16:51:51] 6cze_ligand: warning - O.co2 with non C.2 or S.o2 neighbor.\n",
      "RDKit WARNING: [16:51:51] 2haw_ligand: warning - O.co2 with non C.2 or S.o2 neighbor.\n",
      "RDKit WARNING: [16:51:51] 4gr0_ligand: warning - O.co2 with non C.2 or S.o2 neighbor.\n",
      "RDKit WARNING: [16:51:51] 3b7r_ligand: warning - O.co2 with non C.2 or S.o2 neighbor.\n",
      "RDKit WARNING: [16:51:51] 4f5y_ligand: warning - O.co2 with non C.2 or S.o2 neighbor.\n",
      "RDKit WARNING: [16:51:51] 4dy6_ligand: warning - O.co2 with non C.2 or S.o2 neighbor.\n",
      "RDKit WARNING: [16:51:51] 4rd3_ligand: warning - O.co2 with non C.2 or S.o2 neighbor.\n",
      "RDKit WARNING: [16:51:51] 2oi2_ligand: warning - O.co2 with non C.2 or S.o2 neighbor.\n",
      "RDKit WARNING: [16:51:51] 4jyb_ligand: warning - O.co2 with non C.2 or S.o2 neighbor.\n",
      "RDKit WARNING: [16:51:51] 3djq_ligand: warning - O.co2 with non C.2 or S.o2 neighbor.\n",
      "[16:51:51] 3fjg_ligand: warning - O.co2 with non C.2 or S.o2 neighbor.\n",
      "[16:51:51] 3kyq_ligand: warning - O.co2 with non C.2 or S.o2 neighbor.\n",
      "[16:51:51] 6cze_ligand: warning - O.co2 with non C.2 or S.o2 neighbor.\n",
      "[16:51:51] 2haw_ligand: warning - O.co2 with non C.2 or S.o2 neighbor.\n",
      "[16:51:51] 4gr0_ligand: warning - O.co2 with non C.2 or S.o2 neighbor.\n",
      "[16:51:51] 3b7r_ligand: warning - O.co2 with non C.2 or S.o2 neighbor.\n",
      "[16:51:51] 4f5y_ligand: warning - O.co2 with non C.2 or S.o2 neighbor.\n",
      "[16:51:51] 4dy6_ligand: warning - O.co2 with non C.2 or S.o2 neighbor.\n",
      "[16:51:51] 4rd3_ligand: warning - O.co2 with non C.2 or S.o2 neighbor.\n",
      "[16:51:51] 2oi2_ligand: warning - O.co2 with non C.2 or S.o2 neighbor.\n",
      "[16:51:51] 4jyb_ligand: warning - O.co2 with non C.2 or S.o2 neighbor.\n",
      "[16:51:51] 3djq_ligand: warning - O.co2 with non C.2 or S.o2 neighbor.\n",
      "RDKit WARNING: [16:51:51] 4zek_ligand: warning - O.co2 with non C.2 or S.o2 neighbor.\n",
      "[16:51:51] 4zek_ligand: warning - O.co2 with non C.2 or S.o2 neighbor.\n",
      "[16:51:51] 2clh_ligand: warning - O.co2 with non C.2 or S.o2 neighbor.\n",
      "RDKit WARNING: [16:51:51] 2clh_ligand: warning - O.co2 with non C.2 or S.o2 neighbor.\n",
      "RDKit WARNING: [16:51:51] 4k55_ligand: warning - O.co2 with non C.2 or S.o2 neighbor.\n",
      "RDKit WARNING: [16:51:51] 5hwu_ligand: warning - O.co2 with non C.2 or S.o2 neighbor.\n",
      "[16:51:51] 4k55_ligand: warning - O.co2 with non C.2 or S.o2 neighbor.\n",
      "[16:51:51] 5hwu_ligand: warning - O.co2 with non C.2 or S.o2 neighbor.\n",
      "RDKit WARNING: [16:51:51] 1r1h_ligand: warning - O.co2 with non C.2 or S.o2 neighbor.\n",
      "[16:51:51] 1r1h_ligand: warning - O.co2 with non C.2 or S.o2 neighbor.\n",
      "RDKit WARNING: [16:51:51] 5ipc_ligand: warning - O.co2 with non C.2 or S.o2 neighbor.\n",
      "RDKit WARNING: [16:51:51] 2vt3_ligand: warning - O.co2 with non C.2 or S.o2 neighbor.\n",
      "[16:51:51] 5ipc_ligand: warning - O.co2 with non C.2 or S.o2 neighbor.\n",
      "[16:51:51] 2vt3_ligand: warning - O.co2 with non C.2 or S.o2 neighbor.\n",
      "RDKit WARNING: [16:51:51] 4qrh_ligand: warning - O.co2 with non C.2 or S.o2 neighbor.\n",
      "[16:51:51] 4qrh_ligand: warning - O.co2 with non C.2 or S.o2 neighbor.\n",
      "RDKit WARNING: [16:51:51] 5ovr_ligand: warning - O.co2 with non C.2 or S.o2 neighbor.\n",
      "RDKit WARNING: [16:51:51] 2ihj_ligand: warning - O.co2 with non C.2 or S.o2 neighbor.\n",
      "[16:51:51] 5ovr_ligand: warning - O.co2 with non C.2 or S.o2 neighbor.\n",
      "RDKit WARNING: [16:51:51] 2pq9_ligand: warning - O.co2 with non C.2 or S.o2 neighbor.\n",
      "RDKit WARNING: [16:51:51] 2e92_ligand: warning - O.co2 with non C.2 or S.o2 neighbor.\n",
      "RDKit WARNING: [16:51:51] 4nkt_ligand: warning - O.co2 with non C.2 or S.o2 neighbor.\n",
      "[16:51:51] 2ihj_ligand: warning - O.co2 with non C.2 or S.o2 neighbor.\n",
      "[16:51:51] 2pq9_ligand: warning - O.co2 with non C.2 or S.o2 neighbor.\n",
      "[16:51:51] 2e92_ligand: warning - O.co2 with non C.2 or S.o2 neighbor.\n",
      "[16:51:51] 4nkt_ligand: warning - O.co2 with non C.2 or S.o2 neighbor.\n",
      "[16:51:51] 5k1d_ligand: warning - O.co2 with non C.2 or S.o2 neighbor.\n",
      "RDKit WARNING: [16:51:51] 5k1d_ligand: warning - O.co2 with non C.2 or S.o2 neighbor.\n",
      "RDKit WARNING: [16:51:51] 2ylc_ligand: warning - O.co2 with non C.2 or S.o2 neighbor.\n",
      "RDKit WARNING: [16:51:51] 2zz1_ligand: warning - O.co2 with non C.2 or S.o2 neighbor.\n",
      "RDKit WARNING: [16:51:51] 6czf_ligand: warning - O.co2 with non C.2 or S.o2 neighbor.\n",
      "[16:51:51] 2ylc_ligand: warning - O.co2 with non C.2 or S.o2 neighbor.\n",
      "[16:51:51] 2zz1_ligand: warning - O.co2 with non C.2 or S.o2 neighbor.\n",
      "[16:51:51] 6czf_ligand: warning - O.co2 with non C.2 or S.o2 neighbor.\n",
      "RDKit WARNING: [16:51:51] 4rww_ligand: warning - O.co2 with non C.2 or S.o2 neighbor.\n",
      "RDKit WARNING: [16:51:51] 1bzj_ligand: warning - O.co2 with non C.2 or S.o2 neighbor.\n",
      "[16:51:51] 4rww_ligand: warning - O.co2 with non C.2 or S.o2 neighbor.\n",
      "RDKit WARNING: [16:51:51] 1afk_ligand: warning - O.co2 with non C.2 or S.o2 neighbor.\n",
      "RDKit WARNING: [16:51:51] 1jmg_ligand: warning - O.co2 with non C.2 or S.o2 neighbor.\n",
      "RDKit WARNING: [16:51:51] 5k1f_ligand: warning - O.co2 with non C.2 or S.o2 neighbor.\n",
      "[16:51:51] 1bzj_ligand: warning - O.co2 with non C.2 or S.o2 neighbor.\n",
      "[16:51:51] 1afk_ligand: warning - O.co2 with non C.2 or S.o2 neighbor.\n",
      "[16:51:51] 1jmg_ligand: warning - O.co2 with non C.2 or S.o2 neighbor.\n",
      "[16:51:51] 5k1f_ligand: warning - O.co2 with non C.2 or S.o2 neighbor.\n",
      "RDKit WARNING: [16:51:51] 5tmn_ligand: warning - O.co2 with non C.2 or S.o2 neighbor.\n",
      "RDKit WARNING: [16:51:51] 3d2e_ligand: warning - O.co2 with non C.2 or S.o2 neighbor.\n",
      "[16:51:51] 5tmn_ligand: warning - O.co2 with non C.2 or S.o2 neighbor.\n",
      "RDKit WARNING: [16:51:51] 4rd0_ligand: warning - O.co2 with non C.2 or S.o2 neighbor.\n",
      "[16:51:51] 3d2e_ligand: warning - O.co2 with non C.2 or S.o2 neighbor.\n",
      "[16:51:51] 4rd0_ligand: warning - O.co2 with non C.2 or S.o2 neighbor.\n",
      "RDKit WARNING: [16:51:51] 4jyc_ligand: warning - O.co2 with non C.2 or S.o2 neighbor.\n",
      "[16:51:51] 4jyc_ligand: warning - O.co2 with non C.2 or S.o2 neighbor.\n",
      "RDKit WARNING: [16:51:51] 4oag_ligand: warning - O.co2 with non C.2 or S.o2 neighbor.\n",
      "RDKit WARNING: [16:51:51] 1qk4_ligand: warning - O.co2 with non C.2 or S.o2 neighbor.\n",
      "[16:51:51] 4oag_ligand: warning - O.co2 with non C.2 or S.o2 neighbor.\n",
      "[16:51:51] 1qk4_ligand: warning - O.co2 with non C.2 or S.o2 neighbor.\n",
      "RDKit WARNING: [16:51:51] 6bs3_ligand: warning - O.co2 with non C.2 or S.o2 neighbor.\n",
      "RDKit WARNING: [16:51:51] 4nxu_ligand: warning - O.co2 with non C.2 or S.o2 neighbor.\n",
      "RDKit WARNING: [16:51:51] 1g98_ligand: warning - O.co2 with non C.2 or S.o2 neighbor.\n",
      "RDKit WARNING: [16:51:51] 1yei_ligand: warning - O.co2 with non C.2 or S.o2 neighbor.\n",
      "RDKit WARNING: [16:51:51] 5jvi_ligand: warning - O.co2 with non C.2 or S.o2 neighbor.\n",
      "RDKit WARNING: [16:51:51] 1w4q_ligand: warning - O.co2 with non C.2 or S.o2 neighbor.\n",
      "RDKit WARNING: [16:51:51] 1x8r_ligand: warning - O.co2 with non C.2 or S.o2 neighbor.\n",
      "[16:51:51] 6bs3_ligand: warning - O.co2 with non C.2 or S.o2 neighbor.\n",
      "[16:51:51] 4nxu_ligand: warning - O.co2 with non C.2 or S.o2 neighbor.\n",
      "[16:51:51] 1g98_ligand: warning - O.co2 with non C.2 or S.o2 neighbor.\n",
      "[16:51:51] 1yei_ligand: warning - O.co2 with non C.2 or S.o2 neighbor.\n",
      "[16:51:51] 5jvi_ligand: warning - O.co2 with non C.2 or S.o2 neighbor.\n",
      "[16:51:51] 1w4q_ligand: warning - O.co2 with non C.2 or S.o2 neighbor.\n",
      "[16:51:51] 1x8r_ligand: warning - O.co2 with non C.2 or S.o2 neighbor.\n",
      "RDKit WARNING: [16:51:51] 5ja0_ligand: warning - O.co2 with non C.2 or S.o2 neighbor.\n",
      "RDKit WARNING: [16:51:51] 1kel_ligand: warning - O.co2 with non C.2 or S.o2 neighbor.\n",
      "[16:51:51] 5ja0_ligand: warning - O.co2 with non C.2 or S.o2 neighbor.\n",
      "[16:51:51] 1kel_ligand: warning - O.co2 with non C.2 or S.o2 neighbor.\n",
      "RDKit WARNING: [16:51:51] 4d3h_ligand: warning - O.co2 with non C.2 or S.o2 neighbor.\n",
      "[16:51:51] 4d3h_ligand: warning - O.co2 with non C.2 or S.o2 neighbor.\n",
      "RDKit WARNING: [16:51:51] 1yej_ligand: warning - O.co2 with non C.2 or S.o2 neighbor.\n",
      "RDKit WARNING: [16:51:51] 2q8m_ligand: warning - O.co2 with non C.2 or S.o2 neighbor.\n",
      "RDKit WARNING: [16:51:51] 5edd_ligand: warning - O.co2 with non C.2 or S.o2 neighbor.\n",
      "RDKit WARNING: [16:51:51] 6jfk_ligand: warning - O.co2 with non C.2 or S.o2 neighbor.\n",
      "RDKit WARNING: [16:51:51] 2tmn_ligand: warning - O.co2 with non C.2 or S.o2 neighbor.\n",
      "RDKit WARNING: [16:51:51] 5mnr_ligand: warning - O.co2 with non C.2 or S.o2 neighbor.\n",
      "RDKit WARNING: [16:51:51] 5ymx_ligand: warning - O.co2 with non C.2 or S.o2 neighbor.\n",
      "RDKit WARNING: [16:51:51] 6jdi_ligand: warning - O.co2 with non C.2 or S.o2 neighbor.\n",
      "[16:51:51] 1yej_ligand: warning - O.co2 with non C.2 or S.o2 neighbor.\n",
      "[16:51:51] 2q8m_ligand: warning - O.co2 with non C.2 or S.o2 neighbor.\n",
      "[16:51:51] 5edd_ligand: warning - O.co2 with non C.2 or S.o2 neighbor.\n",
      "[16:51:51] 6jfk_ligand: warning - O.co2 with non C.2 or S.o2 neighbor.\n",
      "[16:51:51] 2tmn_ligand: warning - O.co2 with non C.2 or S.o2 neighbor.\n",
      "[16:51:51] 5mnr_ligand: warning - O.co2 with non C.2 or S.o2 neighbor.\n",
      "[16:51:51] 5ymx_ligand: warning - O.co2 with non C.2 or S.o2 neighbor.\n",
      "[16:51:51] 6jdi_ligand: warning - O.co2 with non C.2 or S.o2 neighbor.\n",
      "RDKit WARNING: [16:51:51] 2wzm_ligand: warning - O.co2 with non C.2 or S.o2 neighbor.\n",
      "RDKit WARNING: [16:51:51] 3ies_ligand: warning - O.co2 with non C.2 or S.o2 neighbor.\n",
      "[16:51:51] 2wzm_ligand: warning - O.co2 with non C.2 or S.o2 neighbor.\n",
      "RDKit WARNING: [16:51:51] 1moq_ligand: warning - O.co2 with non C.2 or S.o2 neighbor.\n",
      "RDKit WARNING: [16:51:51] 5d6j_ligand: warning - O.co2 with non C.2 or S.o2 neighbor.\n",
      "RDKit WARNING: [16:51:51] 1o7o_ligand: warning - O.co2 with non C.2 or S.o2 neighbor.\n",
      "[16:51:51] 3ies_ligand: warning - O.co2 with non C.2 or S.o2 neighbor.\n",
      "[16:51:51] 1moq_ligand: warning - O.co2 with non C.2 or S.o2 neighbor.\n",
      "[16:51:51] 5d6j_ligand: warning - O.co2 with non C.2 or S.o2 neighbor.\n",
      "[16:51:51] 1o7o_ligand: warning - O.co2 with non C.2 or S.o2 neighbor.\n",
      "RDKit WARNING: [16:51:51] 1rpf_ligand: warning - O.co2 with non C.2 or S.o2 neighbor.\n",
      "[16:51:51] 1rpf_ligand: warning - O.co2 with non C.2 or S.o2 neighbor.\n",
      "RDKit WARNING: [16:51:51] 4u6w_ligand: warning - O.co2 with non C.2 or S.o2 neighbor.\n",
      "[16:51:51] 4u6w_ligand: warning - O.co2 with non C.2 or S.o2 neighbor.\n",
      "RDKit WARNING: [16:51:51] 2zxg_ligand: warning - O.co2 with non C.2 or S.o2 neighbor.\n",
      "RDKit ERROR: [16:51:51] Can't kekulize mol.  Unkekulized atoms: 0 2 3 4 5\n",
      "RDKit ERROR: \n",
      "RDKit WARNING: [16:51:51] sanitise [16:51:51] 1mue_ligand: [16:51:51] 1u1b_ligand: warning - O.co2 with non C.2 or S.o2 neighbor.\n",
      "RDKit WARNING: [16:51:51] 1q54_ligand: warning - O.co2 with non C.2 or S.o2 neighbor.\n",
      "RDKit WARNING: [16:51:51] 3c52_ligand: warning - O.co2 with non C.2 or S.o2 neighbor.\n",
      "RDKit WARNING: [16:51:51] 1rp7_ligand: warning - O.co2 with non C.2 or S.o2 neighbor.\n",
      "RDKit WARNING: [16:51:51] 6g2l_ligand: warning - O.co2 with non C.2 or S.o2 neighbor.\n",
      "[16:51:51] 2zxg_ligand: warning - O.co2 with non C.2 or S.o2 neighbor.\n",
      "[16:51:51] Can't kekulize mol.  Unkekulized atoms: 0 2 3 4 5\n",
      "\n",
      "RDKit WARNING: [16:51:51] 2e2p_ligand: warning - O.co2 with non C.2 or S.o2 neighbor.\n",
      "[16:51:51] sanitise [16:51:51] 1mue_ligand: [16:51:51] 1u1b_ligand: warning - O.co2 with non C.2 or S.o2 neighbor.\n",
      "[16:51:51] 1q54_ligand: warning - O.co2 with non C.2 or S.o2 neighbor.\n",
      "[16:51:51] 3c52_ligand: warning - O.co2 with non C.2 or S.o2 neighbor.\n",
      "[16:51:51] 1rp7_ligand: warning - O.co2 with non C.2 or S.o2 neighbor.\n",
      "[16:51:51] 6g2l_ligand: warning - O.co2 with non C.2 or S.o2 neighbor.\n",
      "[16:51:51] 2e2p_ligand: warning - O.co2 with non C.2 or S.o2 neighbor.\n",
      "RDKit WARNING: [16:51:51] 3wjw_ligand: warning - O.co2 with non C.2 or S.o2 neighbor.\n",
      "RDKit WARNING: [16:51:51] 3dgo_ligand: warning - O.co2 with non C.2 or S.o2 neighbor.\n",
      "RDKit WARNING: [16:51:51] 1bp0_ligand: warning - O.co2 with non C.2 or S.o2 neighbor.\n",
      "RDKit WARNING: [16:51:51] 3djx_ligand: warning - O.co2 with non C.2 or S.o2 neighbor.\n",
      "[16:51:51] 3wjw_ligand: warning - O.co2 with non C.2 or S.o2 neighbor.\n",
      "[16:51:51] 3dgo_ligand: warning - O.co2 with non C.2 or S.o2 neighbor.\n",
      "[16:51:51] 1bp0_ligand: warning - O.co2 with non C.2 or S.o2 neighbor.\n",
      "[16:51:51] 3djx_ligand: warning - O.co2 with non C.2 or S.o2 neighbor.\n",
      "RDKit WARNING: [16:51:51] 1koj_ligand: warning - O.co2 with non C.2 or S.o2 neighbor.\n",
      "RDKit WARNING: [16:51:51] 4emf_ligand: warning - O.co2 with non C.2 or S.o2 neighbor.\n",
      "[16:51:51] 1koj_ligand: warning - O.co2 with non C.2 or S.o2 neighbor.\n",
      "[16:51:51] 4emf_ligand: warning - O.co2 with non C.2 or S.o2 neighbor.\n",
      "RDKit WARNING: [16:51:51] 4aq4_ligand: warning - O.co2 with non C.2 or S.o2 neighbor.\n",
      "RDKit WARNING: [16:51:51] 3t01_ligand: Warning - no explicit hydrogens in mol2 file but needed for formal charge estimation.\n",
      "RDKit WARNING: [16:51:51] 3t01_ligand: warning - O.co2 with non C.2 or S.o2 neighbor.\n",
      "RDKit WARNING: [16:51:51] 3djv_ligand: warning - O.co2 with non C.2 or S.o2 neighbor.\n",
      "RDKit WARNING: [16:51:51] 1mjj_ligand: warning - O.co2 with non C.2 or S.o2 neighbor.\n",
      "[16:51:51] 4aq4_ligand: warning - O.co2 with non C.2 or S.o2 neighbor.\n",
      "[16:51:51] 3t01_ligand: Warning - no explicit hydrogens in mol2 file but needed for formal charge estimation.\n",
      "[16:51:51] 3t01_ligand: warning - O.co2 with non C.2 or S.o2 neighbor.\n",
      "[16:51:51] 3djv_ligand: warning - O.co2 with non C.2 or S.o2 neighbor.\n",
      "[16:51:51] 1mjj_ligand: warning - O.co2 with non C.2 or S.o2 neighbor.\n",
      "RDKit WARNING: [16:51:51] 1yq7_ligand: warning - O.co2 with non C.2 or S.o2 neighbor.\n",
      "RDKit WARNING: [16:51:51] 3hv8_ligand: warning - O.co2 with non C.2 or S.o2 neighbor.\n",
      "[16:51:51] 1yq7_ligand: warning - O.co2 with non C.2 or S.o2 neighbor.\n",
      "[16:51:51] 3hv8_ligand: warning - O.co2 with non C.2 or S.o2 neighbor.\n",
      "RDKit WARNING: [16:51:51] 4gah_ligand: warning - O.co2 with non C.2 or S.o2 neighbor.\n",
      "RDKit WARNING: [16:51:51] 3pfp_ligand: warning - O.co2 with non C.2 or S.o2 neighbor.\n",
      "RDKit WARNING: [16:51:51] 6j72_ligand: warning - O.co2 with non C.2 or S.o2 neighbor.\n",
      "RDKit WARNING: [16:51:51] 1m83_ligand: warning - O.co2 with non C.2 or S.o2 neighbor.\n",
      "RDKit WARNING: [16:51:51] 2xyd_ligand: warning - O.co2 with non C.2 or S.o2 neighbor.\n",
      "RDKit WARNING: [16:51:51] 4u6z_ligand: warning - O.co2 with non C.2 or S.o2 neighbor.\n",
      "[16:51:51] 4gah_ligand: warning - O.co2 with non C.2 or S.o2 neighbor.\n",
      "[16:51:51] 3pfp_ligand: warning - O.co2 with non C.2 or S.o2 neighbor.\n",
      "[16:51:51] 6j72_ligand: warning - O.co2 with non C.2 or S.o2 neighbor.\n",
      "[16:51:51] 1m83_ligand: warning - O.co2 with non C.2 or S.o2 neighbor.\n",
      "[16:51:51] 2xyd_ligand: warning - O.co2 with non C.2 or S.o2 neighbor.\n",
      "[16:51:51] 4u6z_ligand: warning - O.co2 with non C.2 or S.o2 neighbor.\n",
      "RDKit WARNING: [16:51:51] 5yfs_ligand: warning - O.co2 with non C.2 or S.o2 neighbor.\n",
      "RDKit WARNING: [16:51:51] 3u10_ligand: warning - O.co2 with non C.2 or S.o2 neighbor.\n",
      "[16:51:51] 5yfs_ligand: warning - O.co2 with non C.2 or S.o2 neighbor.\n",
      "[16:51:51] 3u10_ligand: warning - O.co2 with non C.2 or S.o2 neighbor.\n",
      "RDKit WARNING: [16:51:51] 1n4k_ligand: warning - O.co2 with non C.2 or S.o2 neighbor.\n",
      "RDKit WARNING: [16:51:51] 3tao_ligand: warning - O.co2 with non C.2 or S.o2 neighbor.\n",
      "RDKit WARNING: [16:51:51] 2v54_ligand: warning - O.co2 with non C.2 or S.o2 neighbor.\n",
      "RDKit WARNING: [16:51:51] 4zei_ligand: warning - O.co2 with non C.2 or S.o2 neighbor.\n",
      "RDKit WARNING: [16:51:51] 4emr_ligand: warning - O.co2 with non C.2 or S.o2 neighbor.\n",
      "[16:51:51] 1n4k_ligand: warning - O.co2 with non C.2 or S.o2 neighbor.\n",
      "[16:51:51] 3tao_ligand: warning - O.co2 with non C.2 or S.o2 neighbor.\n",
      "[16:51:51] 2v54_ligand: warning - O.co2 with non C.2 or S.o2 neighbor.\n",
      "[16:51:51] 4zei_ligand: warning - O.co2 with non C.2 or S.o2 neighbor.\n",
      "[16:51:51] 4emr_ligand: warning - O.co2 with non C.2 or S.o2 neighbor.\n",
      "RDKit WARNING: [16:51:51] 3n9r_ligand: warning - O.co2 with non C.2 or S.o2 neighbor.\n",
      "RDKit WARNING: [16:51:51] 5uxf_ligand: warning - O.co2 with non C.2 or S.o2 neighbor.\n",
      "RDKit WARNING: [16:51:51] 4bb9_ligand: warning - O.co2 with non C.2 or S.o2 neighbor.\n",
      "[16:51:51] 3n9r_ligand: warning - O.co2 with non C.2 or S.o2 neighbor.\n",
      "[16:51:51] 5uxf_ligand: warning - O.co2 with non C.2 or S.o2 neighbor.\n",
      "[16:51:51] 4bb9_ligand: warning - O.co2 with non C.2 or S.o2 neighbor.\n",
      "[16:51:51] 4xxh_ligand: warning - O.co2 with non C.2 or S.o2 neighbor.\n",
      "RDKit WARNING: [16:51:51] 4xxh_ligand: warning - O.co2 with non C.2 or S.o2 neighbor.\n",
      "RDKit WARNING: [16:51:51] 1hn4_ligand: warning - O.co2 with non C.2 or S.o2 neighbor.\n",
      "RDKit WARNING: [16:51:51] 2vxn_ligand: warning - O.co2 with non C.2 or S.o2 neighbor.\n",
      "RDKit WARNING: [16:51:51] 1lyx_ligand: warning - O.co2 with non C.2 or S.o2 neighbor.\n",
      "RDKit WARNING: [16:51:51] 6fh3_ligand: warning - O.co2 with non C.2 or S.o2 neighbor.\n",
      "[16:51:51] 1hn4_ligand: warning - O.co2 with non C.2 or S.o2 neighbor.\n",
      "RDKit WARNING: [16:51:51] 3juk_ligand: warning - O.co2 with non C.2 or S.o2 neighbor.\n",
      "RDKit WARNING: [16:51:51] 2h3e_ligand: warning - O.co2 with non C.2 or S.o2 neighbor.\n",
      "RDKit WARNING: [16:51:51] 2wed_ligand: warning - O.co2 with non C.2 or S.o2 neighbor.\n",
      "RDKit WARNING: [16:51:51] 1amw_ligand: warning - O.co2 with non C.2 or S.o2 neighbor.\n",
      "RDKit WARNING: [16:51:51] 5ldm_ligand: warning - O.co2 with non C.2 or S.o2 neighbor.\n",
      "RDKit WARNING: [16:51:51] 2amt_ligand: warning - O.co2 with non C.2 or S.o2 neighbor.\n",
      "RDKit WARNING: [16:51:51] 2w5g_ligand: warning - O.co2 with non C.2 or S.o2 neighbor.\n",
      "RDKit WARNING: [16:51:51] 3ujd_ligand: warning - O.co2 with non C.2 or S.o2 neighbor.\n",
      "RDKit WARNING: [16:51:51] 5gof_ligand: warning - O.co2 with non C.2 or S.o2 neighbor.\n",
      "[16:51:51] 2vxn_ligand: warning - O.co2 with non C.2 or S.o2 neighbor.\n",
      "[16:51:51] 1lyx_ligand: warning - O.co2 with non C.2 or S.o2 neighbor.\n",
      "[16:51:51] 6fh3_ligand: warning - O.co2 with non C.2 or S.o2 neighbor.\n",
      "[16:51:51] 3juk_ligand: warning - O.co2 with non C.2 or S.o2 neighbor.\n",
      "[16:51:51] 2h3e_ligand: warning - O.co2 with non C.2 or S.o2 neighbor.\n",
      "[16:51:51] 2wed_ligand: warning - O.co2 with non C.2 or S.o2 neighbor.\n",
      "[16:51:51] 1amw_ligand: warning - O.co2 with non C.2 or S.o2 neighbor.\n",
      "RDKit WARNING: [16:51:51] 2hmv_ligand: warning - O.co2 with non C.2 or S.o2 neighbor.\n",
      "[16:51:51] 5ldm_ligand: warning - O.co2 with non C.2 or S.o2 neighbor.\n",
      "[16:51:51] 2amt_ligand: warning - O.co2 with non C.2 or S.o2 neighbor.\n",
      "[16:51:51] 2w5g_ligand: warning - O.co2 with non C.2 or S.o2 neighbor.\n",
      "[16:51:51] 3ujd_ligand: warning - O.co2 with non C.2 or S.o2 neighbor.\n",
      "[16:51:51] 5gof_ligand: warning - O.co2 with non C.2 or S.o2 neighbor.\n",
      "[16:51:51] 2hmv_ligand: warning - O.co2 with non C.2 or S.o2 neighbor.\n",
      "RDKit WARNING: [16:51:51] 6hgs_ligand: warning - O.co2 with non C.2 or S.o2 neighbor.\n",
      "[16:51:51] 6hgs_ligand: warning - O.co2 with non C.2 or S.o2 neighbor.\n",
      "RDKit WARNING: [16:51:51] 3ebi_ligand: warning - O.co2 with non C.2 or S.o2 neighbor.\n",
      "[16:51:51] 3ebi_ligand: warning - O.co2 with non C.2 or S.o2 neighbor.\n",
      "[16:51:51] 2xhm_ligand: warning - O.co2 with non C.2 or S.o2 neighbor.\n",
      "RDKit WARNING: [16:51:51] 2xhm_ligand: warning - O.co2 with non C.2 or S.o2 neighbor.\n",
      "RDKit WARNING: [16:51:51] 5kma_ligand: warning - O.co2 with non C.2 or S.o2 neighbor.\n",
      "[16:51:51] 5kma_ligand: warning - O.co2 with non C.2 or S.o2 neighbor.\n",
      "RDKit WARNING: [16:51:51] 4or6_ligand: warning - O.co2 with non C.2 or S.o2 neighbor.\n",
      "[16:51:51] 4or6_ligand: warning - O.co2 with non C.2 or S.o2 neighbor.\n",
      "RDKit WARNING: [16:51:51] 1njc_ligand: warning - O.co2 with non C.2 or S.o2 neighbor.\n",
      "[16:51:51] 1njc_ligand: warning - O.co2 with non C.2 or S.o2 neighbor.\n",
      "RDKit WARNING: [16:51:51] 4r3w_ligand: warning - O.co2 with non C.2 or S.o2 neighbor.\n",
      "RDKit WARNING: [16:51:51] 6h77_ligand: warning - O.co2 with non C.2 or S.o2 neighbor.\n",
      "RDKit WARNING: [16:51:51] 1zc9_ligand: warning - O.co2 with non C.2 or S.o2 neighbor.\n",
      "RDKit WARNING: [16:51:51] 2cli_ligand: warning - O.co2 with non C.2 or S.o2 neighbor.\n",
      "[16:51:51] 4r3w_ligand: warning - O.co2 with non C.2 or S.o2 neighbor.\n",
      "RDKit WARNING: [16:51:51] 1d2e_ligand: warning - O.co2 with non C.2 or S.o2 neighbor.\n",
      "RDKit WARNING: [16:51:51] 2py4_ligand: warning - O.co2 with non C.2 or S.o2 neighbor.\n",
      "RDKit WARNING: [16:51:51] 3c2f_ligand: warning - O.co2 with non C.2 or S.o2 neighbor.\n",
      "[16:51:51] 6h77_ligand: warning - O.co2 with non C.2 or S.o2 neighbor.\n",
      "[16:51:51] 1zc9_ligand: warning - O.co2 with non C.2 or S.o2 neighbor.\n",
      "[16:51:51] 2cli_ligand: warning - O.co2 with non C.2 or S.o2 neighbor.\n",
      "[16:51:51] 1d2e_ligand: warning - O.co2 with non C.2 or S.o2 neighbor.\n",
      "[16:51:51] 2py4_ligand: warning - O.co2 with non C.2 or S.o2 neighbor.\n",
      "[16:51:51] 3c2f_ligand: warning - O.co2 with non C.2 or S.o2 neighbor.\n",
      "RDKit WARNING: [16:51:51] 2rio_ligand: warning - O.co2 with non C.2 or S.o2 neighbor.\n",
      "RDKit WARNING: [16:51:51] 4cs9_ligand: warning - O.co2 with non C.2 or S.o2 neighbor.\n",
      "RDKit WARNING: [16:51:51] 6czc_ligand: warning - O.co2 with non C.2 or S.o2 neighbor.\n",
      "RDKit WARNING: [16:51:51] 1dud_ligand: warning - O.co2 with non C.2 or S.o2 neighbor.\n",
      "[16:51:51] 2rio_ligand: warning - O.co2 with non C.2 or S.o2 neighbor.\n",
      "[16:51:51] 4cs9_ligand: warning - O.co2 with non C.2 or S.o2 neighbor.\n",
      "[16:51:51] 6czc_ligand: warning - O.co2 with non C.2 or S.o2 neighbor.\n",
      "[16:51:51] 1dud_ligand: warning - O.co2 with non C.2 or S.o2 neighbor.\n",
      "[16:51:51] 3uj9_ligand: warning - O.co2 with non C.2 or S.o2 neighbor.\n",
      "RDKit WARNING: [16:51:51] 3uj9_ligand: warning - O.co2 with non C.2 or S.o2 neighbor.\n",
      "RDKit WARNING: [16:51:51] 1w4p_ligand: warning - O.co2 with non C.2 or S.o2 neighbor.\n",
      "RDKit WARNING: [16:51:51] 5ey4_ligand: warning - O.co2 with non C.2 or S.o2 neighbor.\n",
      "RDKit WARNING: [16:51:51] 3ocz_ligand: warning - O.co2 with non C.2 or S.o2 neighbor.\n",
      "[16:51:51] 1w4p_ligand: warning - O.co2 with non C.2 or S.o2 neighbor.\n",
      "[16:51:51] 5ey4_ligand: warning - O.co2 with non C.2 or S.o2 neighbor.\n",
      "[16:51:51] 3ocz_ligand: warning - O.co2 with non C.2 or S.o2 neighbor.\n",
      "RDKit WARNING: [16:51:51] 4cp5_ligand: warning - O.co2 with non C.2 or S.o2 neighbor.\n",
      "RDKit WARNING: [16:51:51] 2rcn_ligand: warning - O.co2 with non C.2 or S.o2 neighbor.\n",
      "RDKit WARNING: [16:51:51] 5btx_ligand: warning - O.co2 with non C.2 or S.o2 neighbor.\n",
      "RDKit WARNING: [16:51:51] 2bfr_ligand: warning - O.co2 with non C.2 or S.o2 neighbor.\n",
      "[16:51:51] 4cp5_ligand: warning - O.co2 with non C.2 or S.o2 neighbor.\n",
      "RDKit WARNING: [16:51:51] 4r75_ligand: warning - O.co2 with non C.2 or S.o2 neighbor.\n",
      "RDKit WARNING: [16:51:51] 6pvw_ligand: warning - O.co2 with non C.2 or S.o2 neighbor.\n",
      "[16:51:51] 2rcn_ligand: warning - O.co2 with non C.2 or S.o2 neighbor.\n",
      "[16:51:51] 5btx_ligand: warning - O.co2 with non C.2 or S.o2 neighbor.\n",
      "[16:51:51] 2bfr_ligand: warning - O.co2 with non C.2 or S.o2 neighbor.\n",
      "[16:51:51] 4r75_ligand: warning - O.co2 with non C.2 or S.o2 neighbor.\n",
      "[16:51:51] 6pvw_ligand: warning - O.co2 with non C.2 or S.o2 neighbor.\n",
      "RDKit WARNING: [16:51:51] 5tmp_ligand: warning - O.co2 with non C.2 or S.o2 neighbor.\n",
      "[16:51:51] 5tmp_ligand: warning - O.co2 with non C.2 or S.o2 neighbor.\n",
      "RDKit WARNING: [16:51:52] 3q71_ligand: warning - O.co2 with non C.2 or S.o2 neighbor.\n",
      "RDKit WARNING: [16:51:52] 3gdt_ligand: warning - O.co2 with non C.2 or S.o2 neighbor.\n",
      "RDKit WARNING: [16:51:52] 4eu0_ligand: warning - O.co2 with non C.2 or S.o2 neighbor.\n",
      "RDKit WARNING: [16:51:52] 1tjp_ligand: warning - O.co2 with non C.2 or S.o2 neighbor.\n",
      "RDKit WARNING: [16:51:52] 3ujc_ligand: warning - O.co2 with non C.2 or S.o2 neighbor.\n",
      "[16:51:52] 3q71_ligand: warning - O.co2 with non C.2 or S.o2 neighbor.\n",
      "RDKit WARNING: [16:51:52] 5n34_ligand: warning - O.co2 with non C.2 or S.o2 neighbor.\n",
      "RDKit WARNING: [16:51:52] 2ptz_ligand: warning - O.co2 with non C.2 or S.o2 neighbor.\n",
      "[16:51:52] 3gdt_ligand: warning - O.co2 with non C.2 or S.o2 neighbor.\n",
      "[16:51:52] 4eu0_ligand: warning - O.co2 with non C.2 or S.o2 neighbor.\n",
      "[16:51:52] 1tjp_ligand: warning - O.co2 with non C.2 or S.o2 neighbor.\n",
      "[16:51:52] 3ujc_ligand: warning - O.co2 with non C.2 or S.o2 neighbor.\n",
      "[16:51:52] 5n34_ligand: warning - O.co2 with non C.2 or S.o2 neighbor.\n",
      "[16:51:52] 2ptz_ligand: warning - O.co2 with non C.2 or S.o2 neighbor.\n",
      "RDKit WARNING: [16:51:52] 4dq2_ligand: warning - O.co2 with non C.2 or S.o2 neighbor.\n",
      "[16:51:52] 4dq2_ligand: warning - O.co2 with non C.2 or S.o2 neighbor.\n",
      "RDKit WARNING: [16:51:52] 1qhc_ligand: warning - O.co2 with non C.2 or S.o2 neighbor.\n",
      "RDKit WARNING: [16:51:52] 4loh_ligand: warning - O.co2 with non C.2 or S.o2 neighbor.\n",
      "[16:51:52] 1qhc_ligand: warning - O.co2 with non C.2 or S.o2 neighbor.\n",
      "RDKit WARNING: [16:51:52] 3djo_ligand: warning - O.co2 with non C.2 or S.o2 neighbor.\n",
      "RDKit WARNING: [16:51:52] 6d1g_ligand: warning - O.co2 with non C.2 or S.o2 neighbor.\n",
      "[16:51:52] 4loh_ligand: warning - O.co2 with non C.2 or S.o2 neighbor.\n",
      "[16:51:52] 3djo_ligand: warning - O.co2 with non C.2 or S.o2 neighbor.\n",
      "[16:51:52] 6d1g_ligand: warning - O.co2 with non C.2 or S.o2 neighbor.\n",
      "RDKit WARNING: [16:51:52] 3mi2_ligand: warning - O.co2 with non C.2 or S.o2 neighbor.\n",
      "RDKit WARNING: [16:51:52] 4lps_ligand: warning - O.co2 with non C.2 or S.o2 neighbor.\n",
      "RDKit WARNING: [16:51:52] 5n2z_ligand: warning - O.co2 with non C.2 or S.o2 neighbor.\n",
      "RDKit WARNING: [16:51:52] 4jne_ligand: warning - O.co2 with non C.2 or S.o2 neighbor.\n",
      "RDKit WARNING: [16:51:52] 3q6z_ligand: warning - O.co2 with non C.2 or S.o2 neighbor.\n",
      "RDKit WARNING: [16:51:52] 1det_ligand: warning - O.co2 with non C.2 or S.o2 neighbor.\n",
      "RDKit WARNING: [16:51:52] 4qpl_ligand: warning - O.co2 with non C.2 or S.o2 neighbor.\n",
      "RDKit WARNING: [16:51:52] 5lif_ligand: warning - O.co2 with non C.2 or S.o2 neighbor.\n",
      "[16:51:52] 3mi2_ligand: warning - O.co2 with non C.2 or S.o2 neighbor.\n",
      "[16:51:52] 4lps_ligand: warning - O.co2 with non C.2 or S.o2 neighbor.\n",
      "[16:51:52] 5n2z_ligand: warning - O.co2 with non C.2 or S.o2 neighbor.\n",
      "[16:51:52] 4jne_ligand: warning - O.co2 with non C.2 or S.o2 neighbor.\n",
      "[16:51:52] 3q6z_ligand: warning - O.co2 with non C.2 or S.o2 neighbor.\n",
      "[16:51:52] 1det_ligand: warning - O.co2 with non C.2 or S.o2 neighbor.\n",
      "[16:51:52] 4qpl_ligand: warning - O.co2 with non C.2 or S.o2 neighbor.\n",
      "[16:51:52] 5lif_ligand: warning - O.co2 with non C.2 or S.o2 neighbor.\n",
      "RDKit WARNING: [16:51:52] 1v16_ligand: warning - O.co2 with non C.2 or S.o2 neighbor.\n",
      "[16:51:52] 1v16_ligand: warning - O.co2 with non C.2 or S.o2 neighbor.\n",
      "RDKit WARNING: [16:51:52] 2vnp_ligand: warning - O.co2 with non C.2 or S.o2 neighbor.\n",
      "RDKit WARNING: [16:51:52] 3mof_ligand: Warning - no explicit hydrogens in mol2 file but needed for formal charge estimation.\n",
      "[16:51:52] 2vnp_ligand: warning - O.co2 with non C.2 or S.o2 neighbor.\n",
      "[16:51:52] 3mof_ligand: Warning - no explicit hydrogens in mol2 file but needed for formal charge estimation.\n",
      "RDKit WARNING: [16:51:52] 3v4t_ligand: warning - O.co2 with non C.2 or S.o2 neighbor.\n",
      "[16:51:52] 3v4t_ligand: warning - O.co2 with non C.2 or S.o2 neighbor.\n",
      "RDKit WARNING: [16:51:52] 1mrs_ligand: warning - O.co2 with non C.2 or S.o2 neighbor.\n",
      "RDKit WARNING: [16:51:52] 6cvv_ligand: warning - O.co2 with non C.2 or S.o2 neighbor.\n",
      "RDKit WARNING: [16:51:52] 2gz2_ligand: warning - O.co2 with non C.2 or S.o2 neighbor.\n",
      "RDKit WARNING: [16:51:52] 4l4z_ligand: warning - O.co2 with non C.2 or S.o2 neighbor.\n",
      "RDKit WARNING: [16:51:52] 3iae_ligand: warning - O.co2 with non C.2 or S.o2 neighbor.\n",
      "RDKit WARNING: [16:51:52] 2cbz_ligand: warning - O.co2 with non C.2 or S.o2 neighbor.\n",
      "RDKit WARNING: [16:51:52] 2qrk_ligand: warning - O.co2 with non C.2 or S.o2 neighbor.\n",
      "RDKit WARNING: [16:51:52] 1ik4_ligand: warning - O.co2 with non C.2 or S.o2 neighbor.\n",
      "RDKit WARNING: [16:51:52] 1z4o_ligand: warning - O.co2 with non C.2 or S.o2 neighbor.\n",
      "RDKit WARNING: [16:51:52] 1m0o_ligand: warning - O.co2 with non C.2 or S.o2 neighbor.\n",
      "RDKit WARNING: [16:51:52] 3ikd_ligand: warning - O.co2 with non C.2 or S.o2 neighbor.\n",
      "RDKit WARNING: [16:51:52] 3g3r_ligand: warning - O.co2 with non C.2 or S.o2 neighbor.\n",
      "[16:51:52] 1mrs_ligand: warning - O.co2 with non C.2 or S.o2 neighbor.\n",
      "[16:51:52] 6cvv_ligand: warning - O.co2 with non C.2 or S.o2 neighbor.\n",
      "[16:51:52] 2gz2_ligand: warning - O.co2 with non C.2 or S.o2 neighbor.\n",
      "[16:51:52] 4l4z_ligand: warning - O.co2 with non C.2 or S.o2 neighbor.\n",
      "[16:51:52] 3iae_ligand: warning - O.co2 with non C.2 or S.o2 neighbor.\n",
      "[16:51:52] 2cbz_ligand: warning - O.co2 with non C.2 or S.o2 neighbor.\n",
      "[16:51:52] 2qrk_ligand: warning - O.co2 with non C.2 or S.o2 neighbor.\n",
      "[16:51:52] 1ik4_ligand: warning - O.co2 with non C.2 or S.o2 neighbor.\n",
      "[16:51:52] 1z4o_ligand: warning - O.co2 with non C.2 or S.o2 neighbor.\n",
      "[16:51:52] 1m0o_ligand: warning - O.co2 with non C.2 or S.o2 neighbor.\n",
      "[16:51:52] 3ikd_ligand: warning - O.co2 with non C.2 or S.o2 neighbor.\n",
      "[16:51:52] 3g3r_ligand: warning - O.co2 with non C.2 or S.o2 neighbor.\n",
      "RDKit WARNING: [16:51:52] 1fzq_ligand: warning - O.co2 with non C.2 or S.o2 neighbor.\n",
      "RDKit WARNING: [16:51:52] 5d2r_ligand: warning - O.co2 with non C.2 or S.o2 neighbor.\n",
      "[16:51:52] 1fzq_ligand: warning - O.co2 with non C.2 or S.o2 neighbor.\n",
      "[16:51:52] 5d2r_ligand: warning - O.co2 with non C.2 or S.o2 neighbor.\n",
      "RDKit WARNING: [16:51:52] 1bq4_ligand: Warning - no explicit hydrogens in mol2 file but needed for formal charge estimation.\n",
      "RDKit WARNING: [16:51:52] 6cpa_ligand: warning - O.co2 with non C.2 or S.o2 neighbor.\n",
      "RDKit WARNING: [16:51:52] 6hgr_ligand: warning - O.co2 with non C.2 or S.o2 neighbor.\n",
      "RDKit WARNING: [16:51:52] 1jn4_ligand: warning - O.co2 with non C.2 or S.o2 neighbor.\n",
      "RDKit WARNING: [16:51:52] 6d1i_ligand: warning - O.co2 with non C.2 or S.o2 neighbor.\n",
      "RDKit WARNING: [16:51:52] 2i19_ligand: warning - O.co2 with non C.2 or S.o2 neighbor.\n",
      "RDKit WARNING: [16:51:52] 3b3c_ligand: warning - O.co2 with non C.2 or S.o2 neighbor.\n",
      "RDKit WARNING: [16:51:52] 5kly_ligand: warning - O.co2 with non C.2 or S.o2 neighbor.\n",
      "RDKit WARNING: [16:51:52] 6r1b_ligand: warning - O.co2 with non C.2 or S.o2 neighbor.\n",
      "RDKit WARNING: [16:51:52] 2gsu_ligand: warning - O.co2 with non C.2 or S.o2 neighbor.\n",
      "RDKit WARNING: [16:51:52] 1m7y_ligand: warning - O.co2 with non C.2 or S.o2 neighbor.\n",
      "RDKit WARNING: [16:51:52] 1o0f_ligand: warning - O.co2 with non C.2 or S.o2 neighbor.\n",
      "RDKit WARNING: [16:51:52] 1km3_ligand: warning - O.co2 with non C.2 or S.o2 neighbor.\n",
      "RDKit WARNING: [16:51:52] 1ft7_ligand: warning - O.co2 with non C.2 or S.o2 neighbor.\n",
      "RDKit WARNING: [16:51:52] 1jvu_ligand: warning - O.co2 with non C.2 or S.o2 neighbor.\n",
      "[16:51:52] 1bq4_ligand: Warning - no explicit hydrogens in mol2 file but needed for formal charge estimation.\n",
      "[16:51:52] 6cpa_ligand: warning - O.co2 with non C.2 or S.o2 neighbor.\n",
      "[16:51:52] 6hgr_ligand: warning - O.co2 with non C.2 or S.o2 neighbor.\n",
      "[16:51:52] 1jn4_ligand: warning - O.co2 with non C.2 or S.o2 neighbor.\n",
      "[16:51:52] 6d1i_ligand: warning - O.co2 with non C.2 or S.o2 neighbor.\n",
      "[16:51:52] 2i19_ligand: warning - O.co2 with non C.2 or S.o2 neighbor.\n",
      "[16:51:52] 3b3c_ligand: warning - O.co2 with non C.2 or S.o2 neighbor.\n",
      "[16:51:52] 5kly_ligand: warning - O.co2 with non C.2 or S.o2 neighbor.\n",
      "[16:51:52] 6r1b_ligand: warning - O.co2 with non C.2 or S.o2 neighbor.\n",
      "[16:51:52] 2gsu_ligand: warning - O.co2 with non C.2 or S.o2 neighbor.\n",
      "[16:51:52] 1m7y_ligand: warning - O.co2 with non C.2 or S.o2 neighbor.\n",
      "RDKit WARNING: [16:51:52] 4kax_ligand: warning - O.co2 with non C.2 or S.o2 neighbor.\n",
      "RDKit WARNING: [16:51:52] 5mek_ligand: warning - O.co2 with non C.2 or S.o2 neighbor.\n",
      "[16:51:52] 1o0f_ligand: warning - O.co2 with non C.2 or S.o2 neighbor.\n",
      "[16:51:52] 1km3_ligand: warning - O.co2 with non C.2 or S.o2 neighbor.\n",
      "[16:51:52] 1ft7_ligand: warning - O.co2 with non C.2 or S.o2 neighbor.\n",
      "[16:51:52] 1jvu_ligand: warning - O.co2 with non C.2 or S.o2 neighbor.\n",
      "[16:51:52] 4kax_ligand: warning - O.co2 with non C.2 or S.o2 neighbor.\n",
      "[16:51:52] 5mek_ligand: warning - O.co2 with non C.2 or S.o2 neighbor.\n",
      "RDKit WARNING: [16:51:52] 1wuq_ligand: warning - O.co2 with non C.2 or S.o2 neighbor.\n",
      "RDKit WARNING: [16:51:52] 6g2m_ligand: warning - O.co2 with non C.2 or S.o2 neighbor.\n",
      "RDKit WARNING: [16:51:52] 3bxf_ligand: warning - O.co2 with non C.2 or S.o2 neighbor.\n",
      "[16:51:52] 1wuq_ligand: warning - O.co2 with non C.2 or S.o2 neighbor.\n",
      "[16:51:52] 6g2m_ligand: warning - O.co2 with non C.2 or S.o2 neighbor.\n",
      "[16:51:52] 3bxf_ligand: warning - O.co2 with non C.2 or S.o2 neighbor.\n",
      "RDKit WARNING: [16:51:52] 6d9s_ligand: warning - O.co2 with non C.2 or S.o2 neighbor.\n",
      "[16:51:52] 6d9s_ligand: warning - O.co2 with non C.2 or S.o2 neighbor.\n",
      "RDKit WARNING: [16:51:52] 3vx3_ligand: warning - O.co2 with non C.2 or S.o2 neighbor.\n",
      "[16:51:52] 3vx3_ligand: warning - O.co2 with non C.2 or S.o2 neighbor.\n",
      "RDKit WARNING: [16:51:52] 1trd_ligand: warning - O.co2 with non C.2 or S.o2 neighbor.\n",
      "RDKit WARNING: [16:51:52] 2pu1_ligand: warning - O.co2 with non C.2 or S.o2 neighbor.\n",
      "[16:51:52] 1trd_ligand: warning - O.co2 with non C.2 or S.o2 neighbor.\n",
      "[16:51:52] 2pu1_ligand: warning - O.co2 with non C.2 or S.o2 neighbor.\n",
      "[16:51:52] 6jdl_ligand: warning - O.co2 with non C.2 or S.o2 neighbor.\n",
      "RDKit WARNING: [16:51:52] 6jdl_ligand: warning - O.co2 with non C.2 or S.o2 neighbor.\n",
      "RDKit WARNING: [16:51:52] 2bfq_ligand: warning - O.co2 with non C.2 or S.o2 neighbor.\n",
      "RDKit WARNING: [16:51:52] 1ucn_ligand: warning - O.co2 with non C.2 or S.o2 neighbor.\n",
      "RDKit WARNING: [16:51:52] 3hu3_ligand: warning - O.co2 with non C.2 or S.o2 neighbor.\n",
      "[16:51:52] 2bfq_ligand: warning - O.co2 with non C.2 or S.o2 neighbor.\n",
      "[16:51:52] 1ucn_ligand: warning - O.co2 with non C.2 or S.o2 neighbor.\n",
      "[16:51:52] 3hu3_ligand: warning - O.co2 with non C.2 or S.o2 neighbor.\n",
      "RDKit WARNING: [16:51:52] 1tpw_ligand: warning - O.co2 with non C.2 or S.o2 neighbor.\n",
      "RDKit WARNING: [16:51:52] 4u1b_ligand: warning - O.co2 with non C.2 or S.o2 neighbor.\n",
      "RDKit WARNING: [16:51:52] 5wa9_ligand: warning - O.co2 with non C.2 or S.o2 neighbor.\n",
      "[16:51:52] 1tpw_ligand: warning - O.co2 with non C.2 or S.o2 neighbor.\n",
      "RDKit WARNING: [16:51:52] 2fzk_ligand: warning - O.co2 with non C.2 or S.o2 neighbor.\n",
      "RDKit WARNING: [16:51:52] 5vsj_ligand: warning - O.co2 with non C.2 or S.o2 neighbor.\n",
      "[16:51:52] 4u1b_ligand: warning - O.co2 with non C.2 or S.o2 neighbor.\n",
      "[16:51:52] 5wa9_ligand: warning - O.co2 with non C.2 or S.o2 neighbor.\n",
      "[16:51:52] 2fzk_ligand: warning - O.co2 with non C.2 or S.o2 neighbor.\n",
      "RDKit WARNING: [16:51:52] 1ppl_ligand: warning - O.co2 with non C.2 or S.o2 neighbor.\n",
      "RDKit WARNING: [16:51:52] 6sge_ligand: warning - O.co2 with non C.2 or S.o2 neighbor.\n",
      "RDKit WARNING: [16:51:52] 1tlp_ligand: warning - O.co2 with non C.2 or S.o2 neighbor.\n",
      "[16:51:52] 5vsj_ligand: warning - O.co2 with non C.2 or S.o2 neighbor.\n",
      "[16:51:52] 1ppl_ligand: warning - O.co2 with non C.2 or S.o2 neighbor.\n",
      "[16:51:52] 6sge_ligand: warning - O.co2 with non C.2 or S.o2 neighbor.\n",
      "[16:51:52] 1tlp_ligand: warning - O.co2 with non C.2 or S.o2 neighbor.\n",
      "RDKit WARNING: [16:51:52] 1pgp_ligand: warning - O.co2 with non C.2 or S.o2 neighbor.\n",
      "RDKit WARNING: [16:51:52] 2fzg_ligand: warning - O.co2 with non C.2 or S.o2 neighbor.\n",
      "[16:51:52] 1pgp_ligand: warning - O.co2 with non C.2 or S.o2 neighbor.\n",
      "RDKit WARNING: [16:51:52] 3aho_ligand: warning - O.co2 with non C.2 or S.o2 neighbor.\n",
      "RDKit WARNING: [16:51:52] 5hjq_ligand: warning - O.co2 with non C.2 or S.o2 neighbor.\n",
      "[16:51:52] 2fzg_ligand: warning - O.co2 with non C.2 or S.o2 neighbor.\n",
      "RDKit WARNING: [16:51:52] 1mai_ligand: warning - O.co2 with non C.2 or S.o2 neighbor.\n",
      "RDKit WARNING: [16:51:52] 3g1v_ligand: warning - O.co2 with non C.2 or S.o2 neighbor.\n",
      "RDKit WARNING: [16:51:52] 1x1z_ligand: warning - O.co2 with non C.2 or S.o2 neighbor.\n",
      "RDKit WARNING: [16:51:52] 1egh_ligand: warning - O.co2 with non C.2 or S.o2 neighbor.\n",
      "RDKit WARNING: [16:51:52] 3a6t_ligand: warning - O.co2 with non C.2 or S.o2 neighbor.\n",
      "[16:51:52] 3aho_ligand: warning - O.co2 with non C.2 or S.o2 neighbor.\n",
      "[16:51:52] 5hjq_ligand: warning - O.co2 with non C.2 or S.o2 neighbor.\n",
      "[16:51:52] 1mai_ligand: warning - O.co2 with non C.2 or S.o2 neighbor.\n",
      "[16:51:52] 3g1v_ligand: warning - O.co2 with non C.2 or S.o2 neighbor.\n",
      "[16:51:52] 1x1z_ligand: warning - O.co2 with non C.2 or S.o2 neighbor.\n",
      "[16:51:52] 1egh_ligand: warning - O.co2 with non C.2 or S.o2 neighbor.\n",
      "[16:51:52] 3a6t_ligand: warning - O.co2 with non C.2 or S.o2 neighbor.\n",
      "RDKit WARNING: [16:51:52] 5n3y_ligand: warning - O.co2 with non C.2 or S.o2 neighbor.\n",
      "RDKit WARNING: [16:51:52] 1hyo_ligand: warning - O.co2 with non C.2 or S.o2 neighbor.\n",
      "RDKit WARNING: [16:51:52] 5el9_ligand: warning - O.co2 with non C.2 or S.o2 neighbor.\n",
      "[16:51:52] 5n3y_ligand: warning - O.co2 with non C.2 or S.o2 neighbor.\n",
      "[16:51:52] 1hyo_ligand: warning - O.co2 with non C.2 or S.o2 neighbor.\n",
      "[16:51:52] 5el9_ligand: warning - O.co2 with non C.2 or S.o2 neighbor.\n",
      "RDKit WARNING: [16:51:52] 1b38_ligand: warning - O.co2 with non C.2 or S.o2 neighbor.\n",
      "RDKit WARNING: [16:51:52] 3rv4_ligand: warning - O.co2 with non C.2 or S.o2 neighbor.\n",
      "[16:51:52] 1b38_ligand: warning - O.co2 with non C.2 or S.o2 neighbor.\n",
      "[16:51:52] 3rv4_ligand: warning - O.co2 with non C.2 or S.o2 neighbor.\n",
      "RDKit WARNING: [16:51:52] 2v2h_ligand: warning - O.co2 with non C.2 or S.o2 neighbor.\n",
      "[16:51:52] 2v2h_ligand: warning - O.co2 with non C.2 or S.o2 neighbor.\n",
      "RDKit WARNING: [16:51:52] 4x8o_ligand: warning - O.co2 with non C.2 or S.o2 neighbor.\n",
      "RDKit WARNING: [16:51:52] 3lq2_ligand: warning - O.co2 with non C.2 or S.o2 neighbor.\n",
      "[16:51:52] 4x8o_ligand: warning - O.co2 with non C.2 or S.o2 neighbor.\n",
      "[16:51:52] 3lq2_ligand: warning - O.co2 with non C.2 or S.o2 neighbor.\n",
      "[16:51:52] 4tmn_ligand: warning - O.co2 with non C.2 or S.o2 neighbor.\n",
      "RDKit WARNING: [16:51:52] 4tmn_ligand: warning - O.co2 with non C.2 or S.o2 neighbor.\n",
      "RDKit WARNING: [16:51:52] 5d3x_ligand: warning - O.co2 with non C.2 or S.o2 neighbor.\n",
      "RDKit WARNING: [16:51:52] 3zhx_ligand: warning - O.co2 with non C.2 or S.o2 neighbor.\n",
      "[16:51:52] 5d3x_ligand: warning - O.co2 with non C.2 or S.o2 neighbor.\n",
      "[16:51:52] 3zhx_ligand: warning - O.co2 with non C.2 or S.o2 neighbor.\n",
      "RDKit WARNING: [16:51:52] 3wgg_ligand: warning - O.co2 with non C.2 or S.o2 neighbor.\n",
      "RDKit WARNING: [16:51:52] 4non_ligand: warning - O.co2 with non C.2 or S.o2 neighbor.\n",
      "RDKit WARNING: [16:51:52] 4ca7_ligand: warning - O.co2 with non C.2 or S.o2 neighbor.\n",
      "[16:51:52] 3wgg_ligand: warning - O.co2 with non C.2 or S.o2 neighbor.\n",
      "[16:51:52] 4non_ligand: warning - O.co2 with non C.2 or S.o2 neighbor.\n",
      "RDKit WARNING: [16:51:52] 3cke_ligand: warning - O.co2 with non C.2 or S.o2 neighbor.\n",
      "RDKit WARNING: [16:51:52] 6hh5_ligand: warning - O.co2 with non C.2 or S.o2 neighbor.\n",
      "[16:51:52] 4ca7_ligand: warning - O.co2 with non C.2 or S.o2 neighbor.\n",
      "[16:51:52] 3cke_ligand: warning - O.co2 with non C.2 or S.o2 neighbor.\n",
      "[16:51:52] 6hh5_ligand: warning - O.co2 with non C.2 or S.o2 neighbor.\n",
      "RDKit WARNING: [16:51:52] 1zs0_ligand: warning - O.co2 with non C.2 or S.o2 neighbor.\n",
      "RDKit WARNING: [16:51:52] 1ex8_ligand: warning - O.co2 with non C.2 or S.o2 neighbor.\n",
      "RDKit WARNING: [16:51:52] 4dmw_ligand: warning - O.co2 with non C.2 or S.o2 neighbor.\n",
      "RDKit WARNING: [16:51:52] 3tfu_ligand: warning - O.co2 with non C.2 or S.o2 neighbor.\n",
      "[16:51:52] 1zs0_ligand: warning - O.co2 with non C.2 or S.o2 neighbor.\n",
      "RDKit WARNING: [16:51:52] 2qtn_ligand: warning - O.co2 with non C.2 or S.o2 neighbor.\n",
      "RDKit WARNING: [16:51:52] 1hi3_ligand: warning - O.co2 with non C.2 or S.o2 neighbor.\n",
      "RDKit WARNING: [16:51:52] 2xbp_ligand: warning - O.co2 with non C.2 or S.o2 neighbor.\n",
      "[16:51:52] 1ex8_ligand: warning - O.co2 with non C.2 or S.o2 neighbor.\n",
      "[16:51:52] 4dmw_ligand: warning - O.co2 with non C.2 or S.o2 neighbor.\n",
      "[16:51:52] 3tfu_ligand: warning - O.co2 with non C.2 or S.o2 neighbor.\n",
      "[16:51:52] 2qtn_ligand: warning - O.co2 with non C.2 or S.o2 neighbor.\n",
      "[16:51:52] 1hi3_ligand: warning - O.co2 with non C.2 or S.o2 neighbor.\n",
      "[16:51:52] 2xbp_ligand: warning - O.co2 with non C.2 or S.o2 neighbor.\n",
      "RDKit WARNING: [16:51:52] 1lbf_ligand: warning - O.co2 with non C.2 or S.o2 neighbor.\n",
      "RDKit WARNING: [16:51:52] 6dd0_ligand: warning - O.co2 with non C.2 or S.o2 neighbor.\n",
      "RDKit WARNING: [16:51:52] 1d09_ligand: warning - O.co2 with non C.2 or S.o2 neighbor.\n",
      "RDKit WARNING: [16:51:52] 1bxo_ligand: warning - O.co2 with non C.2 or S.o2 neighbor.\n",
      "RDKit WARNING: [16:51:52] 1szd_ligand: warning - O.co2 with non C.2 or S.o2 neighbor.\n",
      "[16:51:52] 1lbf_ligand: warning - O.co2 with non C.2 or S.o2 neighbor.\n",
      "[16:51:52] 6dd0_ligand: warning - O.co2 with non C.2 or S.o2 neighbor.\n",
      "[16:51:52] 1d09_ligand: warning - O.co2 with non C.2 or S.o2 neighbor.\n",
      "[16:51:52] 1bxo_ligand: warning - O.co2 with non C.2 or S.o2 neighbor.\n",
      "[16:51:52] 1szd_ligand: warning - O.co2 with non C.2 or S.o2 neighbor.\n",
      "RDKit WARNING: [16:51:52] 6hh3_ligand: warning - O.co2 with non C.2 or S.o2 neighbor.\n",
      "[16:51:52] 6hh3_ligand: warning - O.co2 with non C.2 or S.o2 neighbor.\n",
      "[16:51:52] 1afl_ligand: warning - O.co2 with non C.2 or S.o2 neighbor.\n",
      "RDKit WARNING: [16:51:52] 1afl_ligand: warning - O.co2 with non C.2 or S.o2 neighbor.\n",
      "RDKit WARNING: [16:51:52] 3c39_ligand: warning - O.co2 with non C.2 or S.o2 neighbor.\n",
      "RDKit WARNING: [16:51:52] 4etz_ligand: warning - O.co2 with non C.2 or S.o2 neighbor.\n",
      "[16:51:52] 3c39_ligand: warning - O.co2 with non C.2 or S.o2 neighbor.\n",
      "RDKit WARNING: [16:51:52] 4gr3_ligand: warning - O.co2 with non C.2 or S.o2 neighbor.\n",
      "RDKit WARNING: [16:51:52] 1nja_ligand: warning - O.co2 with non C.2 or S.o2 neighbor.\n",
      "RDKit WARNING: [16:51:52] 5k8s_ligand: warning - O.co2 with non C.2 or S.o2 neighbor.\n",
      "RDKit WARNING: [16:51:52] 4oma_ligand: warning - O.co2 with non C.2 or S.o2 neighbor.\n",
      "RDKit WARNING: [16:51:52] 5ahw_ligand: warning - O.co2 with non C.2 or S.o2 neighbor.\n",
      "RDKit WARNING: [16:51:52] 4zcs_ligand: warning - O.co2 with non C.2 or S.o2 neighbor.\n",
      "RDKit WARNING: [16:51:52] 2q8z_ligand: warning - O.co2 with non C.2 or S.o2 neighbor.\n",
      "RDKit WARNING: [16:51:52] 3nxq_ligand: warning - O.co2 with non C.2 or S.o2 neighbor.\n",
      "[16:51:52] 4etz_ligand: warning - O.co2 with non C.2 or S.o2 neighbor.\n",
      "[16:51:52] 4gr3_ligand: warning - O.co2 with non C.2 or S.o2 neighbor.\n",
      "[16:51:52] 1nja_ligand: warning - O.co2 with non C.2 or S.o2 neighbor.\n",
      "[16:51:52] 5k8s_ligand: warning - O.co2 with non C.2 or S.o2 neighbor.\n",
      "[16:51:52] 4oma_ligand: warning - O.co2 with non C.2 or S.o2 neighbor.\n",
      "[16:51:52] 5ahw_ligand: warning - O.co2 with non C.2 or S.o2 neighbor.\n",
      "[16:51:52] 4zcs_ligand: warning - O.co2 with non C.2 or S.o2 neighbor.\n",
      "[16:51:52] 2q8z_ligand: warning - O.co2 with non C.2 or S.o2 neighbor.\n",
      "RDKit WARNING: [16:51:52] 1olx_ligand: warning - O.co2 with non C.2 or S.o2 neighbor.\n",
      "[16:51:52] 3nxq_ligand: warning - O.co2 with non C.2 or S.o2 neighbor.\n",
      "[16:51:52] 1olx_ligand: warning - O.co2 with non C.2 or S.o2 neighbor.\n",
      "RDKit WARNING: [16:51:52] 1v1m_ligand: warning - O.co2 with non C.2 or S.o2 neighbor.\n",
      "RDKit WARNING: [16:51:52] 5yft_ligand: warning - O.co2 with non C.2 or S.o2 neighbor.\n",
      "RDKit WARNING: [16:51:52] 2r75_ligand: warning - O.co2 with non C.2 or S.o2 neighbor.\n",
      "[16:51:52] 1v1m_ligand: warning - O.co2 with non C.2 or S.o2 neighbor.\n",
      "[16:51:52] 5yft_ligand: warning - O.co2 with non C.2 or S.o2 neighbor.\n",
      "[16:51:52] 2r75_ligand: warning - O.co2 with non C.2 or S.o2 neighbor.\n",
      "RDKit WARNING: [16:51:52] 6d1j_ligand: warning - O.co2 with non C.2 or S.o2 neighbor.\n",
      "[16:51:52] 6d1j_ligand: warning - O.co2 with non C.2 or S.o2 neighbor.\n",
      "RDKit WARNING: [16:51:52] 6pvv_ligand: warning - O.co2 with non C.2 or S.o2 neighbor.\n",
      "RDKit WARNING: [16:51:52] 4nvp_ligand: warning - O.co2 with non C.2 or S.o2 neighbor.\n",
      "RDKit WARNING: [16:51:52] 2wf5_ligand: warning - O.co2 with non C.2 or S.o2 neighbor.\n",
      "RDKit WARNING: [16:51:52] 2w8j_ligand: warning - O.co2 with non C.2 or S.o2 neighbor.\n",
      "[16:51:52] 6pvv_ligand: warning - O.co2 with non C.2 or S.o2 neighbor.\n",
      "[16:51:52] 4nvp_ligand: warning - O.co2 with non C.2 or S.o2 neighbor.\n",
      "[16:51:52] 2wf5_ligand: warning - O.co2 with non C.2 or S.o2 neighbor.\n",
      "[16:51:52] 2w8j_ligand: warning - O.co2 with non C.2 or S.o2 neighbor.\n",
      "RDKit WARNING: [16:51:52] 1qbq_ligand: warning - O.co2 with non C.2 or S.o2 neighbor.\n",
      "RDKit WARNING: [16:51:52] 1tkb_ligand: warning - O.co2 with non C.2 or S.o2 neighbor.\n",
      "[16:51:52] 1qbq_ligand: warning - O.co2 with non C.2 or S.o2 neighbor.\n",
      "RDKit WARNING: [16:51:52] 5vr8_ligand: warning - O.co2 with non C.2 or S.o2 neighbor.\n",
      "[16:51:52] 1tkb_ligand: warning - O.co2 with non C.2 or S.o2 neighbor.\n",
      "[16:51:52] 5vr8_ligand: warning - O.co2 with non C.2 or S.o2 neighbor.\n",
      "RDKit WARNING: [16:51:52] 1phw_ligand: warning - O.co2 with non C.2 or S.o2 neighbor.\n",
      "RDKit WARNING: [16:51:52] 5irr_ligand: warning - O.co2 with non C.2 or S.o2 neighbor.\n",
      "[16:51:52] 1phw_ligand: warning - O.co2 with non C.2 or S.o2 neighbor.\n",
      "RDKit WARNING: [16:51:52] 4fl1_ligand: warning - O.co2 with non C.2 or S.o2 neighbor.\n",
      "[16:51:52] 5irr_ligand: warning - O.co2 with non C.2 or S.o2 neighbor.\n",
      "[16:51:52] 4fl1_ligand: warning - O.co2 with non C.2 or S.o2 neighbor.\n",
      "RDKit WARNING: [16:51:52] 4ko8_ligand: warning - O.co2 with non C.2 or S.o2 neighbor.\n",
      "[16:51:52] 4ko8_ligand: warning - O.co2 with non C.2 or S.o2 neighbor.\n",
      "RDKit WARNING: [16:51:52] 3tif_ligand: warning - O.co2 with non C.2 or S.o2 neighbor.\n",
      "[16:51:52] 3tif_ligand: warning - O.co2 with non C.2 or S.o2 neighbor.\n",
      "RDKit WARNING: [16:51:52] 2rkd_ligand: warning - O.co2 with non C.2 or S.o2 neighbor.\n",
      "RDKit WARNING: [16:51:52] 3k5x_ligand: warning - O.co2 with non C.2 or S.o2 neighbor.\n",
      "RDKit WARNING: [16:51:52] 1m5w_ligand: warning - O.co2 with non C.2 or S.o2 neighbor.\n",
      "RDKit WARNING: [16:51:52] 3n7o_ligand: warning - O.co2 with non C.2 or S.o2 neighbor.\n",
      "RDKit WARNING: [16:51:52] 2wec_ligand: warning - O.co2 with non C.2 or S.o2 neighbor.\n",
      "[16:51:52] 2rkd_ligand: warning - O.co2 with non C.2 or S.o2 neighbor.\n",
      "[16:51:52] 3k5x_ligand: warning - O.co2 with non C.2 or S.o2 neighbor.\n",
      "[16:51:52] 1m5w_ligand: warning - O.co2 with non C.2 or S.o2 neighbor.\n",
      "[16:51:52] 3n7o_ligand: warning - O.co2 with non C.2 or S.o2 neighbor.\n",
      "RDKit WARNING: [16:51:52] 4umb_ligand: warning - O.co2 with non C.2 or S.o2 neighbor.\n",
      "RDKit WARNING: [16:51:52] 4w97_ligand: warning - O.co2 with non C.2 or S.o2 neighbor.\n",
      "[16:51:52] 2wec_ligand: warning - O.co2 with non C.2 or S.o2 neighbor.\n",
      "[16:51:52] 4umb_ligand: warning - O.co2 with non C.2 or S.o2 neighbor.\n",
      "[16:51:52] 4w97_ligand: warning - O.co2 with non C.2 or S.o2 neighbor.\n",
      "RDKit WARNING: [16:51:52] 2x97_ligand: warning - O.co2 with non C.2 or S.o2 neighbor.\n",
      "[16:51:52] 2x97_ligand: warning - O.co2 with non C.2 or S.o2 neighbor.\n"
     ]
    },
    {
     "name": "stdout",
     "output_type": "stream",
     "text": [
      "4400\n"
     ]
    },
    {
     "name": "stderr",
     "output_type": "stream",
     "text": [
      "RDKit WARNING: [16:51:52] 6cvf_ligand: warning - O.co2 with non C.2 or S.o2 neighbor.\n",
      "RDKit WARNING: [16:51:52] 6n9l_ligand: warning - O.co2 with non C.2 or S.o2 neighbor.\n",
      "RDKit WARNING: [16:51:52] 4g0z_ligand: warning - O.co2 with non C.2 or S.o2 neighbor.\n",
      "RDKit WARNING: [16:51:52] 5ect_ligand: warning - O.co2 with non C.2 or S.o2 neighbor.\n",
      "RDKit WARNING: [16:51:52] 5f1x_ligand: warning - O.co2 with non C.2 or S.o2 neighbor.\n",
      "RDKit WARNING: [16:51:52] 5cbm_ligand: warning - O.co2 with non C.2 or S.o2 neighbor.\n",
      "RDKit ERROR: [16:51:52] Can't kekulize mol.  Unkekulized atoms: 3 4 19 20 22\n",
      "RDKit ERROR: \n",
      "RDKit WARNING: [16:51:52] sanitise [16:51:52] 4kcx_ligand: [16:51:52] 4uof_ligand: warning - O.co2 with non C.2 or S.o2 neighbor.\n",
      "RDKit WARNING: [16:51:52] 4g0y_ligand: warning - O.co2 with non C.2 or S.o2 neighbor.\n",
      "RDKit WARNING: [16:51:52] 5uv2_ligand: warning - O.co2 with non C.2 or S.o2 neighbor.\n",
      "[16:51:52] 6cvf_ligand: warning - O.co2 with non C.2 or S.o2 neighbor.\n",
      "RDKit WARNING: [16:51:52] 1bzy_ligand: warning - O.co2 with non C.2 or S.o2 neighbor.\n",
      "RDKit WARNING: [16:51:52] 6edr_ligand: warning - O.co2 with non C.2 or S.o2 neighbor.\n",
      "[16:51:52] 6n9l_ligand: warning - O.co2 with non C.2 or S.o2 neighbor.\n",
      "[16:51:52] 4g0z_ligand: warning - O.co2 with non C.2 or S.o2 neighbor.\n",
      "[16:51:52] 5ect_ligand: warning - O.co2 with non C.2 or S.o2 neighbor.\n",
      "[16:51:52] 5f1x_ligand: warning - O.co2 with non C.2 or S.o2 neighbor.\n",
      "[16:51:52] 5cbm_ligand: warning - O.co2 with non C.2 or S.o2 neighbor.\n",
      "[16:51:52] Can't kekulize mol.  Unkekulized atoms: 3 4 19 20 22\n",
      "\n",
      "[16:51:52] sanitise [16:51:52] 4kcx_ligand: [16:51:52] 4uof_ligand: warning - O.co2 with non C.2 or S.o2 neighbor.\n",
      "[16:51:52] 4g0y_ligand: warning - O.co2 with non C.2 or S.o2 neighbor.\n",
      "[16:51:52] 5uv2_ligand: warning - O.co2 with non C.2 or S.o2 neighbor.\n",
      "[16:51:52] 1bzy_ligand: warning - O.co2 with non C.2 or S.o2 neighbor.\n",
      "[16:51:52] 6edr_ligand: warning - O.co2 with non C.2 or S.o2 neighbor.\n",
      "RDKit WARNING: [16:51:52] 1dar_ligand: warning - O.co2 with non C.2 or S.o2 neighbor.\n",
      "[16:51:52] 1dar_ligand: warning - O.co2 with non C.2 or S.o2 neighbor.\n",
      "RDKit WARNING: [16:51:52] 1wur_ligand: warning - O.co2 with non C.2 or S.o2 neighbor.\n",
      "RDKit WARNING: [16:51:52] 3d7k_ligand: warning - O.co2 with non C.2 or S.o2 neighbor.\n",
      "RDKit WARNING: [16:51:52] 3ocp_ligand: warning - O.co2 with non C.2 or S.o2 neighbor.\n",
      "RDKit WARNING: [16:51:52] 2zcq_ligand: warning - O.co2 with non C.2 or S.o2 neighbor.\n",
      "RDKit WARNING: [16:51:52] 5n3v_ligand: warning - O.co2 with non C.2 or S.o2 neighbor.\n",
      "RDKit WARNING: [16:51:52] 2c92_ligand: warning - O.co2 with non C.2 or S.o2 neighbor.\n",
      "RDKit WARNING: [16:51:52] 4q46_ligand: warning - O.co2 with non C.2 or S.o2 neighbor.\n",
      "[16:51:52] 1wur_ligand: warning - O.co2 with non C.2 or S.o2 neighbor.\n",
      "[16:51:52] 3d7k_ligand: warning - O.co2 with non C.2 or S.o2 neighbor.\n",
      "[16:51:52] 3ocp_ligand: warning - O.co2 with non C.2 or S.o2 neighbor.\n",
      "[16:51:52] 2zcq_ligand: warning - O.co2 with non C.2 or S.o2 neighbor.\n",
      "[16:51:52] 5n3v_ligand: warning - O.co2 with non C.2 or S.o2 neighbor.\n",
      "[16:51:52] 2c92_ligand: warning - O.co2 with non C.2 or S.o2 neighbor.\n",
      "[16:51:52] 4q46_ligand: warning - O.co2 with non C.2 or S.o2 neighbor.\n",
      "RDKit WARNING: [16:51:52] 5jss_ligand: warning - O.co2 with non C.2 or S.o2 neighbor.\n",
      "[16:51:52] 5jss_ligand: warning - O.co2 with non C.2 or S.o2 neighbor.\n"
     ]
    }
   ],
   "source": [
    "refined_mols = extract_pdbbind_mols(pdbbind_refined_dir_path, correct_pdb_ids)\n",
    "print(len(refined_mols))"
   ]
  },
  {
   "cell_type": "code",
   "execution_count": 17,
   "id": "d9e84a7e-1c6a-4ef5-a534-78d6da89e0aa",
   "metadata": {},
   "outputs": [],
   "source": [
    "with open(os.path.join(data_dir_path, 'pdbbind_general_mol_list.p'), 'wb') as f :\n",
    "    pickle.dump(general_mols, f)"
   ]
  },
  {
   "cell_type": "code",
   "execution_count": 18,
   "id": "0a0adc15-e825-4ff6-8d5e-a3efdd0dea4c",
   "metadata": {},
   "outputs": [],
   "source": [
    "with open(os.path.join(data_dir_path, 'pdbbind_refined_mol_list.p'), 'wb') as f :\n",
    "    pickle.dump(refined_mols, f)"
   ]
  },
  {
   "cell_type": "code",
   "execution_count": 19,
   "id": "61d206fc-b3ee-499e-be90-04a96e835522",
   "metadata": {
    "scrolled": true,
    "tags": []
   },
   "outputs": [
    {
     "name": "stderr",
     "output_type": "stream",
     "text": [
      "100%|███████████████████████████████████| 10635/10635 [00:05<00:00, 1909.34it/s]\n",
      "100%|█████████████████████████████████████| 4400/4400 [00:02<00:00, 2001.71it/s]\n"
     ]
    }
   ],
   "source": [
    "general_CEL = ConfEnsembleLibrary(general_mols)\n",
    "refined_CEL = ConfEnsembleLibrary(refined_mols)"
   ]
  },
  {
   "cell_type": "code",
   "execution_count": 20,
   "id": "dd89cac3-c70c-4e0e-9060-9e5da9eb21b3",
   "metadata": {},
   "outputs": [],
   "source": [
    "pdbbind_CEL = general_CEL.merge(refined_CEL)"
   ]
  },
  {
   "cell_type": "code",
   "execution_count": 21,
   "id": "b92dc064-e48b-485a-90e1-d4038c4559c5",
   "metadata": {},
   "outputs": [],
   "source": [
    "os.makedirs(os.path.join(data_dir_path, 'raw'), exist_ok=True)"
   ]
  },
  {
   "cell_type": "code",
   "execution_count": 22,
   "id": "630bf878-1e11-4874-b9ef-c4898f479d39",
   "metadata": {},
   "outputs": [],
   "source": [
    "with open(os.path.join(data_dir_path, 'raw', 'pdbbind_general_conf_ensemble_library.p'), 'wb') as f :\n",
    "    pickle.dump(general_CEL, f)"
   ]
  },
  {
   "cell_type": "code",
   "execution_count": 23,
   "id": "18b20986-b766-4605-aaa4-5a698c53b488",
   "metadata": {},
   "outputs": [],
   "source": [
    "with open(os.path.join(data_dir_path, 'raw', 'pdbbind_refined_conf_ensemble_library.p'), 'wb') as f :\n",
    "    pickle.dump(refined_CEL, f)"
   ]
  },
  {
   "cell_type": "code",
   "execution_count": 24,
   "id": "d9a1183d-c790-427e-8230-7c6eb4093944",
   "metadata": {},
   "outputs": [],
   "source": [
    "with open(os.path.join(data_dir_path, 'raw', 'pdbbind_conf_ensemble_library.p'), 'wb') as f :\n",
    "    pickle.dump(pdbbind_CEL, f)"
   ]
  },
  {
   "cell_type": "markdown",
   "id": "88c9cdc3-9eff-47d6-9097-78d48fdef5dc",
   "metadata": {},
   "source": [
    "# Extract Platinum conformations"
   ]
  },
  {
   "cell_type": "code",
   "execution_count": 25,
   "id": "1db24108-e213-4778-a9f9-8a3b98619117",
   "metadata": {},
   "outputs": [],
   "source": [
    "sdsupplier = Chem.rdmolfiles.SDMolSupplier(os.path.join(data_dir_path, 'platinum-dataset-2017-01-sdf', 'platinum_dataset_2017_01.sdf'))\n",
    "platinum_mols = [mol for mol in sdsupplier]"
   ]
  },
  {
   "cell_type": "code",
   "execution_count": 26,
   "id": "334118bc-a085-4791-8dad-344cea7b12fe",
   "metadata": {},
   "outputs": [
    {
     "data": {
      "text/plain": [
       "4548"
      ]
     },
     "execution_count": 26,
     "metadata": {},
     "output_type": "execute_result"
    }
   ],
   "source": [
    "len(platinum_mols)"
   ]
  },
  {
   "cell_type": "code",
   "execution_count": 27,
   "id": "62a15cc2-de52-4a1c-b00a-0b568d15eebf",
   "metadata": {},
   "outputs": [
    {
     "name": "stderr",
     "output_type": "stream",
     "text": [
      "100%|███████████████████████████████████| 4548/4548 [00:00<00:00, 661753.09it/s]\n"
     ]
    }
   ],
   "source": [
    "# Add PDB_ID information to conformer\n",
    "with open(os.path.join(data_dir_path, 'platinum-dataset-2017-01-sdf', 'platinum_dataset_2017_01.sdf')) as f :\n",
    "    lines = f.readlines()\n",
    "    lines = [line.strip() for line in lines]\n",
    "\n",
    "pdb_ids = []\n",
    "new_mol = True\n",
    "for line in lines :\n",
    "    if new_mol :\n",
    "        pdb_ids.append(line)\n",
    "        new_mol = False\n",
    "    if line == '$$$$' :\n",
    "        new_mol = True\n",
    "        \n",
    "for i, mol in enumerate(tqdm(platinum_mols)) :\n",
    "    mol.GetConformer().SetProp('PDB_ID', pdb_ids[i])"
   ]
  },
  {
   "cell_type": "code",
   "execution_count": 28,
   "id": "46290859-50fd-4a02-b78e-6feb1de37b69",
   "metadata": {},
   "outputs": [
    {
     "name": "stderr",
     "output_type": "stream",
     "text": [
      "100%|█████████████████████████████████████| 4548/4548 [00:01<00:00, 2354.02it/s]\n"
     ]
    }
   ],
   "source": [
    "platinum_CEL = ConfEnsembleLibrary(platinum_mols)"
   ]
  },
  {
   "cell_type": "code",
   "execution_count": 29,
   "id": "47fc1346-8d8c-46ed-a92a-af3f61a24eb6",
   "metadata": {},
   "outputs": [],
   "source": [
    "with open(os.path.join(data_dir_path, 'raw', 'platinum_conf_ensemble_library.p'), 'wb') as f :\n",
    "    pickle.dump(platinum_CEL, f)"
   ]
  },
  {
   "cell_type": "markdown",
   "id": "2b4f2c26-f855-42ff-a1c0-2241c5269787",
   "metadata": {},
   "source": [
    "# Join PDBBind and Platinum, and compare the 2 datasets"
   ]
  },
  {
   "cell_type": "code",
   "execution_count": 30,
   "id": "9b0d2c33-7690-4e45-9649-86e80a7f59a1",
   "metadata": {},
   "outputs": [],
   "source": [
    "all_CEL = pdbbind_CEL.merge(platinum_CEL)"
   ]
  },
  {
   "cell_type": "code",
   "execution_count": 31,
   "id": "c120d18e-af1a-4c60-b443-300a35067d9b",
   "metadata": {},
   "outputs": [
    {
     "data": {
      "text/plain": [
       "15928"
      ]
     },
     "execution_count": 31,
     "metadata": {},
     "output_type": "execute_result"
    }
   ],
   "source": [
    "all_CEL.get_num_molecules()"
   ]
  },
  {
   "cell_type": "code",
   "execution_count": 32,
   "id": "17d67185-8241-4f5a-b10e-a5f94e436a4e",
   "metadata": {},
   "outputs": [],
   "source": [
    "all_smiles = [smiles for smiles, ce in all_CEL.get_unique_molecules()]\n",
    "pdbbind_smiles = [smiles for smiles, ce in pdbbind_CEL.get_unique_molecules()]\n",
    "platinum_smiles = [smiles for smiles, ce in platinum_CEL.get_unique_molecules()]"
   ]
  },
  {
   "cell_type": "code",
   "execution_count": 33,
   "id": "86b45ec5-a873-48f6-91ca-a3bea3159a4a",
   "metadata": {},
   "outputs": [
    {
     "data": {
      "text/plain": [
       "12344"
      ]
     },
     "execution_count": 33,
     "metadata": {},
     "output_type": "execute_result"
    }
   ],
   "source": [
    "len(pdbbind_smiles)"
   ]
  },
  {
   "cell_type": "code",
   "execution_count": 34,
   "id": "583bbc55-06ba-4254-abf3-fee51f62a24b",
   "metadata": {},
   "outputs": [
    {
     "data": {
      "text/plain": [
       "4548"
      ]
     },
     "execution_count": 34,
     "metadata": {},
     "output_type": "execute_result"
    }
   ],
   "source": [
    "len(platinum_smiles)"
   ]
  },
  {
   "cell_type": "code",
   "execution_count": 35,
   "id": "31366f36-be09-4a1f-a3dc-e24ceced3953",
   "metadata": {},
   "outputs": [],
   "source": [
    "smiles_df = pd.DataFrame(all_smiles, columns=['smiles'])"
   ]
  },
  {
   "cell_type": "code",
   "execution_count": 36,
   "id": "aa4235af-047e-40d1-b243-7c1609016b68",
   "metadata": {},
   "outputs": [],
   "source": [
    "smiles_df['pdbbind'] = smiles_df['smiles'].isin(pdbbind_smiles)\n",
    "smiles_df['platinum'] = smiles_df['smiles'].isin(platinum_smiles)"
   ]
  },
  {
   "cell_type": "code",
   "execution_count": 37,
   "id": "0cc9ac2f-27de-4ac3-879d-edf9124f506e",
   "metadata": {},
   "outputs": [],
   "source": [
    "pdbbind_n_heavy_atoms = [ce.mol.GetNumHeavyAtoms() for smiles, ce in pdbbind_CEL.get_unique_molecules()]\n",
    "platinum_n_heavy_atoms = [ce.mol.GetNumHeavyAtoms() for smiles, ce in platinum_CEL.get_unique_molecules()]"
   ]
  },
  {
   "cell_type": "code",
   "execution_count": 38,
   "id": "2aa9166c-6575-4e4a-b640-e37ba29f4384",
   "metadata": {},
   "outputs": [
    {
     "data": {
      "image/png": "[encoded data removed]",
      "text/plain": [
       "<Figure size 432x288 with 1 Axes>"
      ]
     },
     "metadata": {
      "needs_background": "light"
     },
     "output_type": "display_data"
    }
   ],
   "source": [
    "sns.kdeplot(pdbbind_n_heavy_atoms, label='PDBBind')\n",
    "sns.kdeplot(platinum_n_heavy_atoms, label='Platinum')\n",
    "plt.legend()\n",
    "plt.show()"
   ]
  },
  {
   "cell_type": "code",
   "execution_count": 39,
   "id": "01d54129-ad98-4043-8dab-2db6ea7b5af7",
   "metadata": {},
   "outputs": [],
   "source": [
    "# For computational (conformation generation) and dataset matching reasons,\n",
    "# PDBBind molecules having more than 50 heavy atoms were excluded"
   ]
  },
  {
   "cell_type": "code",
   "execution_count": 40,
   "id": "23cb1147-c8d5-40d2-8f92-3292dca2f3e2",
   "metadata": {},
   "outputs": [],
   "source": [
    "included_smiles = [smiles for smiles, ce in all_CEL.get_unique_molecules() if ce.mol.GetNumHeavyAtoms() <= 50]\n",
    "smiles_df['included'] = smiles_df['smiles'].isin(included_smiles)"
   ]
  },
  {
   "cell_type": "code",
   "execution_count": 41,
   "id": "89a6951f-6195-46cb-91c5-2e48ea9182b5",
   "metadata": {},
   "outputs": [
    {
     "data": {
      "text/plain": [
       "15645"
      ]
     },
     "execution_count": 41,
     "metadata": {},
     "output_type": "execute_result"
    }
   ],
   "source": [
    "len(included_smiles)"
   ]
  },
  {
   "cell_type": "code",
   "execution_count": 42,
   "id": "948bce5a-8d20-4a77-b505-3c66b7b08afd",
   "metadata": {},
   "outputs": [],
   "source": [
    "smiles_df.to_csv(os.path.join(data_dir_path, 'smiles_df.csv'))"
   ]
  },
  {
   "cell_type": "code",
   "execution_count": 39,
   "id": "49ce531d-684e-4fc9-8d16-66666c858708",
   "metadata": {},
   "outputs": [],
   "source": [
    "ccdc_rdkit_connector = CcdcRdkitConnector()"
   ]
  },
  {
   "cell_type": "code",
   "execution_count": 40,
   "id": "bd96cd5e-858e-4963-bbaa-0ce2c509c208",
   "metadata": {
    "scrolled": true,
    "tags": []
   },
   "outputs": [
    {
     "name": "stderr",
     "output_type": "stream",
     "text": [
      "100%|███████████████████████████████████| 15928/15928 [00:05<00:00, 3070.29it/s]\n"
     ]
    }
   ],
   "source": [
    "initial_ccdc_mols = []\n",
    "corresponding_ce_mols = []\n",
    "for smiles, conf_ensemble in tqdm(all_CEL.get_unique_molecules()) :\n",
    "    if smiles in included_smiles : # see comments above\n",
    "        ccdc_mol = ccdc_rdkit_connector.rdkit_conf_to_ccdc_mol(conf_ensemble.mol)\n",
    "        assert conf_ensemble.mol.GetNumAtoms() == len(ccdc_mol.atoms)\n",
    "        initial_ccdc_mols.append(ccdc_mol)\n",
    "        corresponding_ce_mols.append(conf_ensemble.mol)"
   ]
  },
  {
   "cell_type": "code",
   "execution_count": 41,
   "id": "b790ecfe-94db-4ed0-a1c7-632f8d95c548",
   "metadata": {},
   "outputs": [],
   "source": [
    "n_conf_per_chunk = 100\n",
    "chunk_idxs = [list(range(i, i + n_conf_per_chunk)) for i in range(0, len(initial_ccdc_mols), n_conf_per_chunk)]"
   ]
  },
  {
   "cell_type": "code",
   "execution_count": 42,
   "id": "f8231449-8b12-45c2-b0d0-9000a65e33e6",
   "metadata": {},
   "outputs": [
    {
     "data": {
      "text/plain": [
       "15645"
      ]
     },
     "execution_count": 42,
     "metadata": {},
     "output_type": "execute_result"
    }
   ],
   "source": [
    "len(initial_ccdc_mols)"
   ]
  },
  {
   "cell_type": "code",
   "execution_count": 43,
   "id": "4385443b-c295-4091-8735-71b2b6929cc1",
   "metadata": {},
   "outputs": [
    {
     "name": "stdout",
     "output_type": "stream",
     "text": [
      "INFO: /home/benoit/CCDC/CSD_2021/bin/mogul\n",
      "INFO: /home/benoit/CCDC/CSD_2021/bin/mogul\n",
      "INFO: /home/benoit/CCDC/CSD_2021/bin/mogul\n",
      "INFO: /home/benoit/CCDC/CSD_2021/bin/mogul\n",
      "INFO: /home/benoit/CCDC/CSD_2021/bin/mogul\n",
      "INFO: /home/benoit/CCDC/CSD_2021/bin/mogul\n",
      "INFO: /home/benoit/CCDC/CSD_2021/bin/mogul\n",
      "INFO: /home/benoit/CCDC/CSD_2021/bin/mogul\n",
      "INFO: /home/benoit/CCDC/CSD_2021/bin/mogul\n",
      "INFO: /home/benoit/CCDC/CSD_2021/bin/mogul\n",
      "INFO: /home/benoit/CCDC/CSD_2021/bin/mogul\n",
      "INFO: /home/benoit/CCDC/CSD_2021/bin/mogul\n",
      "INFO: /home/benoit/CCDC/CSD_2021/bin/mogul\n"
     ]
    }
   ],
   "source": [
    "ccdc_conformer_generator = ConformerGenerator(nthreads=12)\n",
    "ccdc_conformer_generator.settings.max_conformers = 100"
   ]
  },
  {
   "cell_type": "code",
   "execution_count": 44,
   "id": "40fd32d2-1fd3-4f3b-a61c-b5c15e41110b",
   "metadata": {
    "scrolled": true,
    "tags": []
   },
   "outputs": [
    {
     "name": "stderr",
     "output_type": "stream",
     "text": [
      "  0%|                                                   | 0/157 [00:00<?, ?it/s]"
     ]
    },
    {
     "name": "stdout",
     "output_type": "stream",
     "text": [
      "INFO: /home/benoit/CCDC/CSD_2021/bin/mogul\n",
      "INFO: /home/benoit/CCDC/CSD_2021/bin/mogul\n"
     ]
    },
    {
     "name": "stderr",
     "output_type": "stream",
     "text": [
      "  1%|▎                                        | 1/157 [00:27<1:10:46, 27.22s/it]"
     ]
    },
    {
     "name": "stdout",
     "output_type": "stream",
     "text": [
      "INFO: /home/benoit/CCDC/CSD_2021/bin/mogul\n",
      "INFO: /home/benoit/CCDC/CSD_2021/bin/mogul\n",
      "INFO: /home/benoit/CCDC/CSD_2021/bin/mogul\n"
     ]
    },
    {
     "name": "stderr",
     "output_type": "stream",
     "text": [
      "  1%|▌                                        | 2/157 [01:29<2:03:37, 47.86s/it]"
     ]
    },
    {
     "name": "stdout",
     "output_type": "stream",
     "text": [
      "INFO: /home/benoit/CCDC/CSD_2021/bin/mogul\n",
      "INFO: /home/benoit/CCDC/CSD_2021/bin/mogul\n",
      "INFO: /home/benoit/CCDC/CSD_2021/bin/mogul\n",
      "INFO: /home/benoit/CCDC/CSD_2021/bin/mogul\n",
      "INFO: /home/benoit/CCDC/CSD_2021/bin/mogul\n",
      "INFO: /home/benoit/CCDC/CSD_2021/bin/mogul\n",
      "INFO: /home/benoit/CCDC/CSD_2021/bin/mogul\n"
     ]
    },
    {
     "name": "stderr",
     "output_type": "stream",
     "text": [
      "  2%|▊                                        | 3/157 [02:04<1:47:15, 41.79s/it]"
     ]
    },
    {
     "name": "stdout",
     "output_type": "stream",
     "text": [
      "INFO: /home/benoit/CCDC/CSD_2021/bin/mogul\n",
      "INFO: /home/benoit/CCDC/CSD_2021/bin/mogul\n",
      "INFO: /home/benoit/CCDC/CSD_2021/bin/mogul\n",
      "INFO: /home/benoit/CCDC/CSD_2021/bin/mogul\n",
      "INFO: /home/benoit/CCDC/CSD_2021/bin/mogul\n",
      "INFO: /home/benoit/CCDC/CSD_2021/bin/mogul\n",
      "INFO: /home/benoit/CCDC/CSD_2021/bin/mogul\n",
      "INFO: /home/benoit/CCDC/CSD_2021/bin/mogul\n",
      "INFO: /home/benoit/CCDC/CSD_2021/bin/mogul\n",
      "INFO: /home/benoit/CCDC/CSD_2021/bin/mogul\n",
      "INFO: /home/benoit/CCDC/CSD_2021/bin/mogul\n"
     ]
    },
    {
     "name": "stderr",
     "output_type": "stream",
     "text": [
      "  3%|█                                        | 4/157 [02:52<1:53:25, 44.48s/it]"
     ]
    },
    {
     "name": "stdout",
     "output_type": "stream",
     "text": [
      "INFO: /home/benoit/CCDC/CSD_2021/bin/mogul\n",
      "INFO: /home/benoit/CCDC/CSD_2021/bin/mogul\n",
      "INFO: /home/benoit/CCDC/CSD_2021/bin/mogul\n",
      "INFO: /home/benoit/CCDC/CSD_2021/bin/mogul\n",
      "INFO: /home/benoit/CCDC/CSD_2021/bin/mogul\n",
      "INFO: /home/benoit/CCDC/CSD_2021/bin/mogul\n",
      "INFO: /home/benoit/CCDC/CSD_2021/bin/mogul\n",
      "INFO: /home/benoit/CCDC/CSD_2021/bin/mogul\n"
     ]
    },
    {
     "name": "stderr",
     "output_type": "stream",
     "text": [
      "  3%|█▎                                       | 5/157 [03:27<1:43:47, 40.97s/it]"
     ]
    },
    {
     "name": "stdout",
     "output_type": "stream",
     "text": [
      "INFO: /home/benoit/CCDC/CSD_2021/bin/mogul\n",
      "INFO: /home/benoit/CCDC/CSD_2021/bin/mogul\n",
      "INFO: /home/benoit/CCDC/CSD_2021/bin/mogul\n",
      "INFO: /home/benoit/CCDC/CSD_2021/bin/mogul\n",
      "INFO: /home/benoit/CCDC/CSD_2021/bin/mogul\n",
      "INFO: /home/benoit/CCDC/CSD_2021/bin/mogul\n",
      "INFO: /home/benoit/CCDC/CSD_2021/bin/mogul\n",
      "INFO: /home/benoit/CCDC/CSD_2021/bin/mogul\n"
     ]
    },
    {
     "name": "stderr",
     "output_type": "stream",
     "text": [
      "  4%|█▌                                       | 6/157 [04:02<1:37:37, 38.79s/it]"
     ]
    },
    {
     "name": "stdout",
     "output_type": "stream",
     "text": [
      "INFO: /home/benoit/CCDC/CSD_2021/bin/mogul\n",
      "INFO: /home/benoit/CCDC/CSD_2021/bin/mogul\n",
      "INFO: /home/benoit/CCDC/CSD_2021/bin/mogul\n",
      "INFO: /home/benoit/CCDC/CSD_2021/bin/mogul\n",
      "INFO: /home/benoit/CCDC/CSD_2021/bin/mogul\n",
      "INFO: /home/benoit/CCDC/CSD_2021/bin/mogul\n",
      "INFO: /home/benoit/CCDC/CSD_2021/bin/mogul\n",
      "INFO: /home/benoit/CCDC/CSD_2021/bin/mogul\n",
      "INFO: /home/benoit/CCDC/CSD_2021/bin/mogul\n",
      "INFO: /home/benoit/CCDC/CSD_2021/bin/mogul\n",
      "INFO: /home/benoit/CCDC/CSD_2021/bin/mogul\n",
      "INFO: /home/benoit/CCDC/CSD_2021/bin/mogul\n",
      "INFO: /home/benoit/CCDC/CSD_2021/bin/mogul\n",
      "INFO: /home/benoit/CCDC/CSD_2021/bin/mogul\n",
      "INFO: /home/benoit/CCDC/CSD_2021/bin/mogul\n",
      "INFO: /home/benoit/CCDC/CSD_2021/bin/mogul\n"
     ]
    },
    {
     "name": "stderr",
     "output_type": "stream",
     "text": [
      "  4%|█▊                                       | 7/157 [04:42<1:38:41, 39.48s/it]"
     ]
    },
    {
     "name": "stdout",
     "output_type": "stream",
     "text": [
      "INFO: /home/benoit/CCDC/CSD_2021/bin/mogul\n",
      "INFO: /home/benoit/CCDC/CSD_2021/bin/mogul\n",
      "INFO: /home/benoit/CCDC/CSD_2021/bin/mogul\n",
      "INFO: /home/benoit/CCDC/CSD_2021/bin/mogul\n",
      "INFO: /home/benoit/CCDC/CSD_2021/bin/mogul\n",
      "INFO: /home/benoit/CCDC/CSD_2021/bin/mogul\n",
      "INFO: /home/benoit/CCDC/CSD_2021/bin/mogul\n",
      "INFO: /home/benoit/CCDC/CSD_2021/bin/mogul\n",
      "INFO: /home/benoit/CCDC/CSD_2021/bin/mogul\n",
      "INFO: /home/benoit/CCDC/CSD_2021/bin/mogul\n",
      "INFO: /home/benoit/CCDC/CSD_2021/bin/mogul\n",
      "INFO: /home/benoit/CCDC/CSD_2021/bin/mogul\n",
      "INFO: /home/benoit/CCDC/CSD_2021/bin/mogul\n",
      "INFO: /home/benoit/CCDC/CSD_2021/bin/mogul\n"
     ]
    },
    {
     "name": "stderr",
     "output_type": "stream",
     "text": [
      "  5%|██                                       | 8/157 [05:16<1:33:01, 37.46s/it]"
     ]
    },
    {
     "name": "stdout",
     "output_type": "stream",
     "text": [
      "INFO: /home/benoit/CCDC/CSD_2021/bin/mogul\n",
      "INFO: /home/benoit/CCDC/CSD_2021/bin/mogul\n",
      "INFO: /home/benoit/CCDC/CSD_2021/bin/mogul\n",
      "INFO: /home/benoit/CCDC/CSD_2021/bin/mogul\n",
      "INFO: /home/benoit/CCDC/CSD_2021/bin/mogul\n",
      "INFO: /home/benoit/CCDC/CSD_2021/bin/mogul\n",
      "INFO: /home/benoit/CCDC/CSD_2021/bin/mogul\n",
      "INFO: /home/benoit/CCDC/CSD_2021/bin/mogul\n",
      "INFO: /home/benoit/CCDC/CSD_2021/bin/mogul\n",
      "INFO: /home/benoit/CCDC/CSD_2021/bin/mogul\n"
     ]
    },
    {
     "name": "stderr",
     "output_type": "stream",
     "text": [
      "  6%|██▎                                      | 9/157 [05:51<1:30:37, 36.74s/it]"
     ]
    },
    {
     "name": "stdout",
     "output_type": "stream",
     "text": [
      "INFO: /home/benoit/CCDC/CSD_2021/bin/mogul\n",
      "INFO: /home/benoit/CCDC/CSD_2021/bin/mogul\n",
      "INFO: /home/benoit/CCDC/CSD_2021/bin/mogul\n",
      "INFO: /home/benoit/CCDC/CSD_2021/bin/mogul\n",
      "INFO: /home/benoit/CCDC/CSD_2021/bin/mogul\n",
      "INFO: /home/benoit/CCDC/CSD_2021/bin/mogul\n",
      "INFO: /home/benoit/CCDC/CSD_2021/bin/mogul\n",
      "INFO: /home/benoit/CCDC/CSD_2021/bin/mogul\n",
      "INFO: /home/benoit/CCDC/CSD_2021/bin/mogul\n"
     ]
    },
    {
     "name": "stderr",
     "output_type": "stream",
     "text": [
      "  6%|██▌                                     | 10/157 [06:21<1:24:52, 34.65s/it]"
     ]
    },
    {
     "name": "stdout",
     "output_type": "stream",
     "text": [
      "INFO: /home/benoit/CCDC/CSD_2021/bin/mogul\n",
      "INFO: /home/benoit/CCDC/CSD_2021/bin/mogul\n",
      "INFO: /home/benoit/CCDC/CSD_2021/bin/mogul\n",
      "INFO: /home/benoit/CCDC/CSD_2021/bin/mogul\n",
      "INFO: /home/benoit/CCDC/CSD_2021/bin/mogul\n",
      "INFO: /home/benoit/CCDC/CSD_2021/bin/mogul\n",
      "INFO: /home/benoit/CCDC/CSD_2021/bin/mogul\n",
      "INFO: /home/benoit/CCDC/CSD_2021/bin/mogul\n",
      "INFO: /home/benoit/CCDC/CSD_2021/bin/mogul\n",
      "INFO: /home/benoit/CCDC/CSD_2021/bin/mogul\n",
      "INFO: /home/benoit/CCDC/CSD_2021/bin/mogul\n",
      "INFO: /home/benoit/CCDC/CSD_2021/bin/mogul\n",
      "INFO: /home/benoit/CCDC/CSD_2021/bin/mogul\n",
      "INFO: /home/benoit/CCDC/CSD_2021/bin/mogul\n",
      "INFO: /home/benoit/CCDC/CSD_2021/bin/mogul\n"
     ]
    },
    {
     "name": "stderr",
     "output_type": "stream",
     "text": [
      "  7%|██▊                                     | 11/157 [06:47<1:17:59, 32.05s/it]"
     ]
    },
    {
     "name": "stdout",
     "output_type": "stream",
     "text": [
      "INFO: /home/benoit/CCDC/CSD_2021/bin/mogul\n"
     ]
    },
    {
     "name": "stderr",
     "output_type": "stream",
     "text": [
      "  8%|███                                     | 12/157 [07:30<1:25:32, 35.40s/it]"
     ]
    },
    {
     "name": "stdout",
     "output_type": "stream",
     "text": [
      "INFO: /home/benoit/CCDC/CSD_2021/bin/mogul\n",
      "INFO: /home/benoit/CCDC/CSD_2021/bin/mogul\n",
      "INFO: /home/benoit/CCDC/CSD_2021/bin/mogul\n",
      "INFO: /home/benoit/CCDC/CSD_2021/bin/mogul\n",
      "INFO: /home/benoit/CCDC/CSD_2021/bin/mogul\n",
      "INFO: /home/benoit/CCDC/CSD_2021/bin/mogul\n",
      "INFO: /home/benoit/CCDC/CSD_2021/bin/mogul\n"
     ]
    },
    {
     "name": "stderr",
     "output_type": "stream",
     "text": [
      "  8%|███▎                                    | 13/157 [08:00<1:21:24, 33.92s/it]"
     ]
    },
    {
     "name": "stdout",
     "output_type": "stream",
     "text": [
      "INFO: /home/benoit/CCDC/CSD_2021/bin/mogul\n",
      "INFO: /home/benoit/CCDC/CSD_2021/bin/mogul\n",
      "INFO: /home/benoit/CCDC/CSD_2021/bin/mogul\n",
      "INFO: /home/benoit/CCDC/CSD_2021/bin/mogul\n"
     ]
    },
    {
     "name": "stderr",
     "output_type": "stream",
     "text": [
      "  9%|███▌                                    | 14/157 [08:30<1:17:45, 32.62s/it]"
     ]
    },
    {
     "name": "stdout",
     "output_type": "stream",
     "text": [
      "INFO: /home/benoit/CCDC/CSD_2021/bin/mogul\n",
      "INFO: /home/benoit/CCDC/CSD_2021/bin/mogul\n"
     ]
    },
    {
     "name": "stderr",
     "output_type": "stream",
     "text": [
      " 10%|███▊                                    | 15/157 [08:59<1:14:33, 31.50s/it]"
     ]
    },
    {
     "name": "stdout",
     "output_type": "stream",
     "text": [
      "INFO: /home/benoit/CCDC/CSD_2021/bin/mogul\n",
      "INFO: /home/benoit/CCDC/CSD_2021/bin/mogul\n",
      "INFO: /home/benoit/CCDC/CSD_2021/bin/mogul\n",
      "INFO: /home/benoit/CCDC/CSD_2021/bin/mogul\n",
      "INFO: /home/benoit/CCDC/CSD_2021/bin/mogul\n"
     ]
    },
    {
     "name": "stderr",
     "output_type": "stream",
     "text": [
      " 10%|████                                    | 16/157 [10:34<1:58:40, 50.50s/it]"
     ]
    },
    {
     "name": "stdout",
     "output_type": "stream",
     "text": [
      "INFO: /home/benoit/CCDC/CSD_2021/bin/mogul\n",
      "INFO: /home/benoit/CCDC/CSD_2021/bin/mogul\n",
      "INFO: /home/benoit/CCDC/CSD_2021/bin/mogul\n",
      "INFO: /home/benoit/CCDC/CSD_2021/bin/mogul\n",
      "INFO: /home/benoit/CCDC/CSD_2021/bin/mogul\n",
      "INFO: /home/benoit/CCDC/CSD_2021/bin/mogul\n"
     ]
    },
    {
     "name": "stderr",
     "output_type": "stream",
     "text": [
      " 11%|████▎                                   | 17/157 [11:10<1:47:40, 46.14s/it]"
     ]
    },
    {
     "name": "stdout",
     "output_type": "stream",
     "text": [
      "INFO: /home/benoit/CCDC/CSD_2021/bin/mogul\n"
     ]
    },
    {
     "name": "stderr",
     "output_type": "stream",
     "text": [
      " 11%|████▌                                   | 18/157 [11:42<1:37:41, 42.17s/it]"
     ]
    },
    {
     "name": "stdout",
     "output_type": "stream",
     "text": [
      "INFO: /home/benoit/CCDC/CSD_2021/bin/mogul\n",
      "INFO: /home/benoit/CCDC/CSD_2021/bin/mogul\n",
      "INFO: /home/benoit/CCDC/CSD_2021/bin/mogul\n",
      "INFO: /home/benoit/CCDC/CSD_2021/bin/mogul\n"
     ]
    },
    {
     "name": "stderr",
     "output_type": "stream",
     "text": [
      " 12%|████▊                                   | 19/157 [12:11<1:27:27, 38.03s/it]"
     ]
    },
    {
     "name": "stdout",
     "output_type": "stream",
     "text": [
      "INFO: /home/benoit/CCDC/CSD_2021/bin/mogul\n",
      "INFO: /home/benoit/CCDC/CSD_2021/bin/mogul\n",
      "INFO: /home/benoit/CCDC/CSD_2021/bin/mogul\n",
      "INFO: /home/benoit/CCDC/CSD_2021/bin/mogul\n",
      "INFO: /home/benoit/CCDC/CSD_2021/bin/mogul\n",
      "INFO: /home/benoit/CCDC/CSD_2021/bin/mogul\n",
      "INFO: /home/benoit/CCDC/CSD_2021/bin/mogul\n",
      "INFO: /home/benoit/CCDC/CSD_2021/bin/mogul\n"
     ]
    },
    {
     "name": "stderr",
     "output_type": "stream",
     "text": [
      " 13%|█████                                   | 20/157 [13:15<1:44:41, 45.85s/it]"
     ]
    },
    {
     "name": "stdout",
     "output_type": "stream",
     "text": [
      "INFO: /home/benoit/CCDC/CSD_2021/bin/mogul\n",
      "INFO: /home/benoit/CCDC/CSD_2021/bin/mogul\n",
      "INFO: /home/benoit/CCDC/CSD_2021/bin/mogul\n"
     ]
    },
    {
     "name": "stderr",
     "output_type": "stream",
     "text": [
      " 13%|█████▎                                  | 21/157 [13:43<1:31:53, 40.54s/it]"
     ]
    },
    {
     "name": "stdout",
     "output_type": "stream",
     "text": [
      "INFO: /home/benoit/CCDC/CSD_2021/bin/mogul\n",
      "INFO: /home/benoit/CCDC/CSD_2021/bin/mogul\n",
      "INFO: /home/benoit/CCDC/CSD_2021/bin/mogul\n",
      "INFO: /home/benoit/CCDC/CSD_2021/bin/mogul\n",
      "INFO: /home/benoit/CCDC/CSD_2021/bin/mogul\n",
      "INFO: /home/benoit/CCDC/CSD_2021/bin/mogul\n"
     ]
    },
    {
     "name": "stderr",
     "output_type": "stream",
     "text": [
      " 14%|█████▌                                  | 22/157 [14:15<1:25:09, 37.85s/it]"
     ]
    },
    {
     "name": "stdout",
     "output_type": "stream",
     "text": [
      "INFO: /home/benoit/CCDC/CSD_2021/bin/mogul\n",
      "INFO: /home/benoit/CCDC/CSD_2021/bin/mogul\n",
      "INFO: /home/benoit/CCDC/CSD_2021/bin/mogul\n",
      "INFO: /home/benoit/CCDC/CSD_2021/bin/mogul\n",
      "INFO: /home/benoit/CCDC/CSD_2021/bin/mogul\n",
      "INFO: /home/benoit/CCDC/CSD_2021/bin/mogul\n",
      "INFO: /home/benoit/CCDC/CSD_2021/bin/mogul\n",
      "INFO: /home/benoit/CCDC/CSD_2021/bin/mogul\n",
      "INFO: /home/benoit/CCDC/CSD_2021/bin/mogul\n"
     ]
    },
    {
     "name": "stderr",
     "output_type": "stream",
     "text": [
      " 15%|█████▊                                  | 23/157 [15:13<1:38:13, 43.98s/it]"
     ]
    },
    {
     "name": "stdout",
     "output_type": "stream",
     "text": [
      "INFO: /home/benoit/CCDC/CSD_2021/bin/mogul\n",
      "INFO: /home/benoit/CCDC/CSD_2021/bin/mogul\n",
      "INFO: /home/benoit/CCDC/CSD_2021/bin/mogul\n",
      "INFO: /home/benoit/CCDC/CSD_2021/bin/mogul\n"
     ]
    },
    {
     "name": "stderr",
     "output_type": "stream",
     "text": [
      " 15%|██████                                  | 24/157 [15:45<1:29:21, 40.31s/it]"
     ]
    },
    {
     "name": "stdout",
     "output_type": "stream",
     "text": [
      "INFO: /home/benoit/CCDC/CSD_2021/bin/mogul\n",
      "INFO: /home/benoit/CCDC/CSD_2021/bin/mogul\n",
      "INFO: /home/benoit/CCDC/CSD_2021/bin/mogul\n",
      "INFO: /home/benoit/CCDC/CSD_2021/bin/mogul\n",
      "INFO: /home/benoit/CCDC/CSD_2021/bin/mogul\n",
      "INFO: /home/benoit/CCDC/CSD_2021/bin/mogul\n"
     ]
    },
    {
     "name": "stderr",
     "output_type": "stream",
     "text": [
      " 16%|██████▎                                 | 25/157 [16:43<1:40:16, 45.58s/it]"
     ]
    },
    {
     "name": "stdout",
     "output_type": "stream",
     "text": [
      "INFO: /home/benoit/CCDC/CSD_2021/bin/mogul\n",
      "INFO: /home/benoit/CCDC/CSD_2021/bin/mogul\n",
      "INFO: /home/benoit/CCDC/CSD_2021/bin/mogul\n",
      "INFO: /home/benoit/CCDC/CSD_2021/bin/mogul\n",
      "INFO: /home/benoit/CCDC/CSD_2021/bin/mogul\n"
     ]
    },
    {
     "name": "stderr",
     "output_type": "stream",
     "text": [
      " 17%|██████▌                                 | 26/157 [17:59<1:59:35, 54.78s/it]"
     ]
    },
    {
     "name": "stdout",
     "output_type": "stream",
     "text": [
      "INFO: /home/benoit/CCDC/CSD_2021/bin/mogul\n",
      "INFO: /home/benoit/CCDC/CSD_2021/bin/mogul\n",
      "INFO: /home/benoit/CCDC/CSD_2021/bin/mogul\n",
      "INFO: /home/benoit/CCDC/CSD_2021/bin/mogul\n",
      "INFO: /home/benoit/CCDC/CSD_2021/bin/mogul\n",
      "INFO: /home/benoit/CCDC/CSD_2021/bin/mogul\n",
      "INFO: /home/benoit/CCDC/CSD_2021/bin/mogul\n",
      "INFO: /home/benoit/CCDC/CSD_2021/bin/mogul\n"
     ]
    },
    {
     "name": "stderr",
     "output_type": "stream",
     "text": [
      " 17%|██████▉                                 | 27/157 [18:26<1:40:31, 46.39s/it]"
     ]
    },
    {
     "name": "stdout",
     "output_type": "stream",
     "text": [
      "INFO: /home/benoit/CCDC/CSD_2021/bin/mogul\n",
      "INFO: /home/benoit/CCDC/CSD_2021/bin/mogul\n",
      "INFO: /home/benoit/CCDC/CSD_2021/bin/mogul\n"
     ]
    },
    {
     "name": "stderr",
     "output_type": "stream",
     "text": [
      " 18%|███████▏                                | 28/157 [19:18<1:43:47, 48.27s/it]"
     ]
    },
    {
     "name": "stdout",
     "output_type": "stream",
     "text": [
      "INFO: /home/benoit/CCDC/CSD_2021/bin/mogul\n",
      "INFO: /home/benoit/CCDC/CSD_2021/bin/mogul\n",
      "INFO: /home/benoit/CCDC/CSD_2021/bin/mogul\n",
      "INFO: /home/benoit/CCDC/CSD_2021/bin/mogul\n",
      "INFO: /home/benoit/CCDC/CSD_2021/bin/mogul\n",
      "INFO: /home/benoit/CCDC/CSD_2021/bin/mogul\n",
      "INFO: /home/benoit/CCDC/CSD_2021/bin/mogul\n"
     ]
    },
    {
     "name": "stderr",
     "output_type": "stream",
     "text": [
      " 18%|███████▍                                | 29/157 [19:54<1:35:04, 44.56s/it]"
     ]
    },
    {
     "name": "stdout",
     "output_type": "stream",
     "text": [
      "INFO: /home/benoit/CCDC/CSD_2021/bin/mogul\n",
      "INFO: /home/benoit/CCDC/CSD_2021/bin/mogul\n",
      "INFO: /home/benoit/CCDC/CSD_2021/bin/mogul\n",
      "INFO: /home/benoit/CCDC/CSD_2021/bin/mogul\n"
     ]
    },
    {
     "name": "stderr",
     "output_type": "stream",
     "text": [
      " 19%|███████▋                                | 30/157 [23:18<3:15:25, 92.33s/it]"
     ]
    },
    {
     "name": "stdout",
     "output_type": "stream",
     "text": [
      "INFO: /home/benoit/CCDC/CSD_2021/bin/mogul\n",
      "INFO: /home/benoit/CCDC/CSD_2021/bin/mogul\n",
      "INFO: /home/benoit/CCDC/CSD_2021/bin/mogul\n",
      "INFO: /home/benoit/CCDC/CSD_2021/bin/mogul\n",
      "INFO: /home/benoit/CCDC/CSD_2021/bin/mogul\n",
      "INFO: /home/benoit/CCDC/CSD_2021/bin/mogul\n",
      "INFO: /home/benoit/CCDC/CSD_2021/bin/mogul\n",
      "INFO: /home/benoit/CCDC/CSD_2021/bin/mogul\n",
      "INFO: /home/benoit/CCDC/CSD_2021/bin/mogul\n",
      "INFO: /home/benoit/CCDC/CSD_2021/bin/mogul\n",
      "INFO: /home/benoit/CCDC/CSD_2021/bin/mogul\n",
      "INFO: /home/benoit/CCDC/CSD_2021/bin/mogul\n",
      "INFO: /home/benoit/CCDC/CSD_2021/bin/mogul\n"
     ]
    },
    {
     "name": "stderr",
     "output_type": "stream",
     "text": [
      " 20%|███████▉                                | 31/157 [23:51<2:36:43, 74.63s/it]"
     ]
    },
    {
     "name": "stdout",
     "output_type": "stream",
     "text": [
      "INFO: /home/benoit/CCDC/CSD_2021/bin/mogul\n",
      "INFO: /home/benoit/CCDC/CSD_2021/bin/mogul\n",
      "INFO: /home/benoit/CCDC/CSD_2021/bin/mogul\n",
      "INFO: /home/benoit/CCDC/CSD_2021/bin/mogul\n",
      "INFO: /home/benoit/CCDC/CSD_2021/bin/mogul\n",
      "INFO: /home/benoit/CCDC/CSD_2021/bin/mogul\n"
     ]
    },
    {
     "name": "stderr",
     "output_type": "stream",
     "text": [
      " 20%|████████▏                               | 32/157 [24:23<2:08:53, 61.87s/it]"
     ]
    },
    {
     "name": "stdout",
     "output_type": "stream",
     "text": [
      "INFO: /home/benoit/CCDC/CSD_2021/bin/mogul\n",
      "INFO: /home/benoit/CCDC/CSD_2021/bin/mogul\n",
      "INFO: /home/benoit/CCDC/CSD_2021/bin/mogul\n",
      "INFO: /home/benoit/CCDC/CSD_2021/bin/mogul\n"
     ]
    },
    {
     "name": "stderr",
     "output_type": "stream",
     "text": [
      " 21%|████████▍                               | 33/157 [24:53<1:48:00, 52.27s/it]"
     ]
    },
    {
     "name": "stdout",
     "output_type": "stream",
     "text": [
      "INFO: /home/benoit/CCDC/CSD_2021/bin/mogul\n",
      "INFO: /home/benoit/CCDC/CSD_2021/bin/mogul\n",
      "INFO: /home/benoit/CCDC/CSD_2021/bin/mogul\n",
      "INFO: /home/benoit/CCDC/CSD_2021/bin/mogul\n",
      "INFO: /home/benoit/CCDC/CSD_2021/bin/mogul\n",
      "INFO: /home/benoit/CCDC/CSD_2021/bin/mogul\n"
     ]
    },
    {
     "name": "stderr",
     "output_type": "stream",
     "text": [
      " 22%|████████▋                               | 34/157 [25:30<1:37:33, 47.59s/it]"
     ]
    },
    {
     "name": "stdout",
     "output_type": "stream",
     "text": [
      "INFO: /home/benoit/CCDC/CSD_2021/bin/mogul\n"
     ]
    },
    {
     "name": "stderr",
     "output_type": "stream",
     "text": [
      " 22%|████████▉                               | 35/157 [26:02<1:27:09, 42.87s/it]"
     ]
    },
    {
     "name": "stdout",
     "output_type": "stream",
     "text": [
      "INFO: /home/benoit/CCDC/CSD_2021/bin/mogul\n",
      "INFO: /home/benoit/CCDC/CSD_2021/bin/mogul\n",
      "INFO: /home/benoit/CCDC/CSD_2021/bin/mogul\n"
     ]
    },
    {
     "name": "stderr",
     "output_type": "stream",
     "text": [
      " 23%|█████████▏                              | 36/157 [26:38<1:22:08, 40.74s/it]"
     ]
    },
    {
     "name": "stdout",
     "output_type": "stream",
     "text": [
      "INFO: /home/benoit/CCDC/CSD_2021/bin/mogul\n",
      "INFO: /home/benoit/CCDC/CSD_2021/bin/mogul\n",
      "INFO: /home/benoit/CCDC/CSD_2021/bin/mogul\n",
      "INFO: /home/benoit/CCDC/CSD_2021/bin/mogul\n",
      "INFO: /home/benoit/CCDC/CSD_2021/bin/mogul\n",
      "INFO: /home/benoit/CCDC/CSD_2021/bin/mogul\n",
      "INFO: /home/benoit/CCDC/CSD_2021/bin/mogul\n",
      "INFO: /home/benoit/CCDC/CSD_2021/bin/mogul\n",
      "INFO: /home/benoit/CCDC/CSD_2021/bin/mogul\n"
     ]
    },
    {
     "name": "stderr",
     "output_type": "stream",
     "text": [
      " 24%|█████████▍                              | 37/157 [27:10<1:16:27, 38.23s/it]"
     ]
    },
    {
     "name": "stdout",
     "output_type": "stream",
     "text": [
      "INFO: /home/benoit/CCDC/CSD_2021/bin/mogul\n"
     ]
    },
    {
     "name": "stderr",
     "output_type": "stream",
     "text": [
      " 24%|█████████▋                              | 38/157 [27:44<1:13:19, 36.97s/it]"
     ]
    },
    {
     "name": "stdout",
     "output_type": "stream",
     "text": [
      "INFO: /home/benoit/CCDC/CSD_2021/bin/mogul\n",
      "INFO: /home/benoit/CCDC/CSD_2021/bin/mogul\n",
      "INFO: /home/benoit/CCDC/CSD_2021/bin/mogul\n",
      "INFO: /home/benoit/CCDC/CSD_2021/bin/mogul\n"
     ]
    },
    {
     "name": "stderr",
     "output_type": "stream",
     "text": [
      " 25%|██████████▏                             | 40/157 [29:43<1:38:44, 50.63s/it]"
     ]
    },
    {
     "name": "stdout",
     "output_type": "stream",
     "text": [
      "INFO: /home/benoit/CCDC/CSD_2021/bin/mogul\n",
      "INFO: /home/benoit/CCDC/CSD_2021/bin/mogul\n",
      "INFO: /home/benoit/CCDC/CSD_2021/bin/mogul\n",
      "INFO: /home/benoit/CCDC/CSD_2021/bin/mogul\n"
     ]
    },
    {
     "name": "stderr",
     "output_type": "stream",
     "text": [
      " 26%|██████████▍                             | 41/157 [30:15<1:26:35, 44.79s/it]"
     ]
    },
    {
     "name": "stdout",
     "output_type": "stream",
     "text": [
      "INFO: /home/benoit/CCDC/CSD_2021/bin/mogul\n",
      "INFO: /home/benoit/CCDC/CSD_2021/bin/mogul\n",
      "INFO: /home/benoit/CCDC/CSD_2021/bin/mogul\n"
     ]
    },
    {
     "name": "stderr",
     "output_type": "stream",
     "text": [
      " 27%|██████████▋                             | 42/157 [30:59<1:25:56, 44.84s/it]"
     ]
    },
    {
     "name": "stdout",
     "output_type": "stream",
     "text": [
      "INFO: /home/benoit/CCDC/CSD_2021/bin/mogul\n"
     ]
    },
    {
     "name": "stderr",
     "output_type": "stream",
     "text": [
      " 27%|██████████▉                             | 43/157 [31:32<1:17:58, 41.04s/it]"
     ]
    },
    {
     "name": "stdout",
     "output_type": "stream",
     "text": [
      "INFO: /home/benoit/CCDC/CSD_2021/bin/mogul\n",
      "INFO: /home/benoit/CCDC/CSD_2021/bin/mogul\n",
      "INFO: /home/benoit/CCDC/CSD_2021/bin/mogul\n",
      "INFO: /home/benoit/CCDC/CSD_2021/bin/mogul\n",
      "INFO: /home/benoit/CCDC/CSD_2021/bin/mogul\n",
      "INFO: /home/benoit/CCDC/CSD_2021/bin/mogul\n",
      "INFO: /home/benoit/CCDC/CSD_2021/bin/mogul\n"
     ]
    },
    {
     "name": "stderr",
     "output_type": "stream",
     "text": [
      " 28%|███████████▏                            | 44/157 [32:03<1:11:40, 38.06s/it]"
     ]
    },
    {
     "name": "stdout",
     "output_type": "stream",
     "text": [
      "INFO: /home/benoit/CCDC/CSD_2021/bin/mogul\n",
      "INFO: /home/benoit/CCDC/CSD_2021/bin/mogul\n",
      "INFO: /home/benoit/CCDC/CSD_2021/bin/mogul\n",
      "INFO: /home/benoit/CCDC/CSD_2021/bin/mogul\n",
      "INFO: /home/benoit/CCDC/CSD_2021/bin/mogul\n",
      "INFO: /home/benoit/CCDC/CSD_2021/bin/mogul\n",
      "INFO: /home/benoit/CCDC/CSD_2021/bin/mogul\n",
      "INFO: /home/benoit/CCDC/CSD_2021/bin/mogul\n"
     ]
    },
    {
     "name": "stderr",
     "output_type": "stream",
     "text": [
      " 29%|███████████▍                            | 45/157 [32:36<1:08:17, 36.58s/it]"
     ]
    },
    {
     "name": "stdout",
     "output_type": "stream",
     "text": [
      "INFO: /home/benoit/CCDC/CSD_2021/bin/mogul\n",
      "INFO: /home/benoit/CCDC/CSD_2021/bin/mogul\n",
      "INFO: /home/benoit/CCDC/CSD_2021/bin/mogul\n",
      "INFO: /home/benoit/CCDC/CSD_2021/bin/mogul\n",
      "INFO: /home/benoit/CCDC/CSD_2021/bin/mogul\n",
      "INFO: /home/benoit/CCDC/CSD_2021/bin/mogul\n"
     ]
    },
    {
     "name": "stderr",
     "output_type": "stream",
     "text": [
      " 29%|███████████▋                            | 46/157 [33:04<1:03:03, 34.09s/it]"
     ]
    },
    {
     "name": "stdout",
     "output_type": "stream",
     "text": [
      "INFO: /home/benoit/CCDC/CSD_2021/bin/mogul\n",
      "INFO: /home/benoit/CCDC/CSD_2021/bin/mogul\n",
      "INFO: /home/benoit/CCDC/CSD_2021/bin/mogul\n",
      "INFO: /home/benoit/CCDC/CSD_2021/bin/mogul\n"
     ]
    },
    {
     "name": "stderr",
     "output_type": "stream",
     "text": [
      " 30%|███████████▉                            | 47/157 [33:40<1:03:15, 34.50s/it]"
     ]
    },
    {
     "name": "stdout",
     "output_type": "stream",
     "text": [
      "INFO: /home/benoit/CCDC/CSD_2021/bin/mogul\n",
      "INFO: /home/benoit/CCDC/CSD_2021/bin/mogul\n",
      "INFO: /home/benoit/CCDC/CSD_2021/bin/mogul\n",
      "INFO: /home/benoit/CCDC/CSD_2021/bin/mogul\n",
      "INFO: /home/benoit/CCDC/CSD_2021/bin/mogul\n",
      "INFO: /home/benoit/CCDC/CSD_2021/bin/mogul\n",
      "INFO: /home/benoit/CCDC/CSD_2021/bin/mogul\n",
      "INFO: /home/benoit/CCDC/CSD_2021/bin/mogul\n",
      "INFO: /home/benoit/CCDC/CSD_2021/bin/mogul\n"
     ]
    },
    {
     "name": "stderr",
     "output_type": "stream",
     "text": [
      " 31%|████████████▏                           | 48/157 [34:10<1:00:12, 33.14s/it]"
     ]
    },
    {
     "name": "stdout",
     "output_type": "stream",
     "text": [
      "INFO: /home/benoit/CCDC/CSD_2021/bin/mogul\n",
      "INFO: /home/benoit/CCDC/CSD_2021/bin/mogul\n",
      "INFO: /home/benoit/CCDC/CSD_2021/bin/mogul\n",
      "INFO: /home/benoit/CCDC/CSD_2021/bin/mogul\n",
      "INFO: /home/benoit/CCDC/CSD_2021/bin/mogul\n",
      "INFO: /home/benoit/CCDC/CSD_2021/bin/mogul\n",
      "INFO: /home/benoit/CCDC/CSD_2021/bin/mogul\n",
      "INFO: /home/benoit/CCDC/CSD_2021/bin/mogul\n",
      "INFO: /home/benoit/CCDC/CSD_2021/bin/mogul\n",
      "INFO: /home/benoit/CCDC/CSD_2021/bin/mogul\n",
      "INFO: /home/benoit/CCDC/CSD_2021/bin/mogul\n",
      "INFO: /home/benoit/CCDC/CSD_2021/bin/mogul\n"
     ]
    },
    {
     "name": "stderr",
     "output_type": "stream",
     "text": [
      " 31%|█████████████                             | 49/157 [34:40<58:05, 32.27s/it]"
     ]
    },
    {
     "name": "stdout",
     "output_type": "stream",
     "text": [
      "INFO: /home/benoit/CCDC/CSD_2021/bin/mogul\n",
      "INFO: /home/benoit/CCDC/CSD_2021/bin/mogul\n",
      "INFO: /home/benoit/CCDC/CSD_2021/bin/mogul\n",
      "INFO: /home/benoit/CCDC/CSD_2021/bin/mogul\n",
      "INFO: /home/benoit/CCDC/CSD_2021/bin/mogul\n",
      "INFO: /home/benoit/CCDC/CSD_2021/bin/mogul\n",
      "INFO: /home/benoit/CCDC/CSD_2021/bin/mogul\n",
      "INFO: /home/benoit/CCDC/CSD_2021/bin/mogul\n",
      "INFO: /home/benoit/CCDC/CSD_2021/bin/mogul\n",
      "INFO: /home/benoit/CCDC/CSD_2021/bin/mogul\n",
      "INFO: /home/benoit/CCDC/CSD_2021/bin/mogul\n",
      "INFO: /home/benoit/CCDC/CSD_2021/bin/mogul\n"
     ]
    },
    {
     "name": "stderr",
     "output_type": "stream",
     "text": [
      " 32%|█████████████▍                            | 50/157 [35:13<57:46, 32.40s/it]"
     ]
    },
    {
     "name": "stdout",
     "output_type": "stream",
     "text": [
      "INFO: /home/benoit/CCDC/CSD_2021/bin/mogul\n",
      "INFO: /home/benoit/CCDC/CSD_2021/bin/mogul\n",
      "INFO: /home/benoit/CCDC/CSD_2021/bin/mogul\n",
      "INFO: /home/benoit/CCDC/CSD_2021/bin/mogul\n",
      "INFO: /home/benoit/CCDC/CSD_2021/bin/mogul\n",
      "INFO: /home/benoit/CCDC/CSD_2021/bin/mogul\n",
      "INFO: /home/benoit/CCDC/CSD_2021/bin/mogul\n"
     ]
    },
    {
     "name": "stderr",
     "output_type": "stream",
     "text": [
      " 32%|█████████████▋                            | 51/157 [35:47<58:11, 32.94s/it]"
     ]
    },
    {
     "name": "stdout",
     "output_type": "stream",
     "text": [
      "INFO: /home/benoit/CCDC/CSD_2021/bin/mogul\n",
      "INFO: /home/benoit/CCDC/CSD_2021/bin/mogul\n",
      "INFO: /home/benoit/CCDC/CSD_2021/bin/mogul\n",
      "INFO: /home/benoit/CCDC/CSD_2021/bin/mogul\n",
      "INFO: /home/benoit/CCDC/CSD_2021/bin/mogul\n",
      "INFO: /home/benoit/CCDC/CSD_2021/bin/mogul\n",
      "INFO: /home/benoit/CCDC/CSD_2021/bin/mogul\n",
      "INFO: /home/benoit/CCDC/CSD_2021/bin/mogul\n",
      "INFO: /home/benoit/CCDC/CSD_2021/bin/mogul\n",
      "INFO: /home/benoit/CCDC/CSD_2021/bin/mogul\n"
     ]
    },
    {
     "name": "stderr",
     "output_type": "stream",
     "text": [
      " 33%|█████████████▉                            | 52/157 [36:21<58:24, 33.37s/it]"
     ]
    },
    {
     "name": "stdout",
     "output_type": "stream",
     "text": [
      "INFO: /home/benoit/CCDC/CSD_2021/bin/mogul\n",
      "INFO: /home/benoit/CCDC/CSD_2021/bin/mogul\n",
      "INFO: /home/benoit/CCDC/CSD_2021/bin/mogul\n",
      "INFO: /home/benoit/CCDC/CSD_2021/bin/mogul\n",
      "INFO: /home/benoit/CCDC/CSD_2021/bin/mogul\n",
      "INFO: /home/benoit/CCDC/CSD_2021/bin/mogul\n",
      "INFO: /home/benoit/CCDC/CSD_2021/bin/mogul\n",
      "INFO: /home/benoit/CCDC/CSD_2021/bin/mogul\n",
      "INFO: /home/benoit/CCDC/CSD_2021/bin/mogul\n",
      "INFO: /home/benoit/CCDC/CSD_2021/bin/mogul\n",
      "INFO: /home/benoit/CCDC/CSD_2021/bin/mogul\n",
      "INFO: /home/benoit/CCDC/CSD_2021/bin/mogul\n",
      "INFO: /home/benoit/CCDC/CSD_2021/bin/mogul\n"
     ]
    },
    {
     "name": "stderr",
     "output_type": "stream",
     "text": [
      " 34%|█████████████▌                          | 53/157 [37:19<1:10:30, 40.68s/it]"
     ]
    },
    {
     "name": "stdout",
     "output_type": "stream",
     "text": [
      "INFO: /home/benoit/CCDC/CSD_2021/bin/mogul\n",
      "INFO: /home/benoit/CCDC/CSD_2021/bin/mogul\n",
      "INFO: /home/benoit/CCDC/CSD_2021/bin/mogul\n",
      "INFO: /home/benoit/CCDC/CSD_2021/bin/mogul\n",
      "INFO: /home/benoit/CCDC/CSD_2021/bin/mogul\n",
      "INFO: /home/benoit/CCDC/CSD_2021/bin/mogul\n"
     ]
    },
    {
     "name": "stderr",
     "output_type": "stream",
     "text": [
      " 34%|█████████████▊                          | 54/157 [38:06<1:13:05, 42.58s/it]"
     ]
    },
    {
     "name": "stdout",
     "output_type": "stream",
     "text": [
      "INFO: /home/benoit/CCDC/CSD_2021/bin/mogul\n",
      "INFO: /home/benoit/CCDC/CSD_2021/bin/mogul\n",
      "INFO: /home/benoit/CCDC/CSD_2021/bin/mogul\n"
     ]
    },
    {
     "name": "stderr",
     "output_type": "stream",
     "text": [
      " 35%|██████████████                          | 55/157 [38:38<1:07:12, 39.53s/it]"
     ]
    },
    {
     "name": "stdout",
     "output_type": "stream",
     "text": [
      "INFO: /home/benoit/CCDC/CSD_2021/bin/mogul\n",
      "INFO: /home/benoit/CCDC/CSD_2021/bin/mogul\n",
      "INFO: /home/benoit/CCDC/CSD_2021/bin/mogul\n",
      "INFO: /home/benoit/CCDC/CSD_2021/bin/mogul\n"
     ]
    },
    {
     "name": "stderr",
     "output_type": "stream",
     "text": [
      " 36%|██████████████▎                         | 56/157 [39:37<1:16:09, 45.24s/it]"
     ]
    },
    {
     "name": "stdout",
     "output_type": "stream",
     "text": [
      "INFO: /home/benoit/CCDC/CSD_2021/bin/mogul\n",
      "INFO: /home/benoit/CCDC/CSD_2021/bin/mogul\n",
      "INFO: /home/benoit/CCDC/CSD_2021/bin/mogul\n"
     ]
    },
    {
     "name": "stderr",
     "output_type": "stream",
     "text": [
      " 36%|██████████████▌                         | 57/157 [41:46<1:57:22, 70.43s/it]"
     ]
    },
    {
     "name": "stdout",
     "output_type": "stream",
     "text": [
      "INFO: /home/benoit/CCDC/CSD_2021/bin/mogul\n",
      "INFO: /home/benoit/CCDC/CSD_2021/bin/mogul\n",
      "INFO: /home/benoit/CCDC/CSD_2021/bin/mogul\n",
      "INFO: /home/benoit/CCDC/CSD_2021/bin/mogul\n",
      "INFO: /home/benoit/CCDC/CSD_2021/bin/mogul\n",
      "INFO: /home/benoit/CCDC/CSD_2021/bin/mogul\n",
      "INFO: /home/benoit/CCDC/CSD_2021/bin/mogul\n",
      "INFO: /home/benoit/CCDC/CSD_2021/bin/mogul\n",
      "INFO: /home/benoit/CCDC/CSD_2021/bin/mogul\n",
      "INFO: /home/benoit/CCDC/CSD_2021/bin/mogul\n",
      "INFO: /home/benoit/CCDC/CSD_2021/bin/mogul\n",
      "INFO: /home/benoit/CCDC/CSD_2021/bin/mogul\n",
      "INFO: /home/benoit/CCDC/CSD_2021/bin/mogul\n"
     ]
    },
    {
     "name": "stderr",
     "output_type": "stream",
     "text": [
      " 37%|██████████████▊                         | 58/157 [42:17<1:36:37, 58.56s/it]"
     ]
    },
    {
     "name": "stdout",
     "output_type": "stream",
     "text": [
      "INFO: /home/benoit/CCDC/CSD_2021/bin/mogul\n",
      "INFO: /home/benoit/CCDC/CSD_2021/bin/mogul\n",
      "INFO: /home/benoit/CCDC/CSD_2021/bin/mogul\n",
      "INFO: /home/benoit/CCDC/CSD_2021/bin/mogul\n",
      "INFO: /home/benoit/CCDC/CSD_2021/bin/mogul\n"
     ]
    },
    {
     "name": "stderr",
     "output_type": "stream",
     "text": [
      " 38%|███████████████                         | 59/157 [43:14<1:35:08, 58.25s/it]"
     ]
    },
    {
     "name": "stdout",
     "output_type": "stream",
     "text": [
      "INFO: /home/benoit/CCDC/CSD_2021/bin/mogul\n",
      "INFO: /home/benoit/CCDC/CSD_2021/bin/mogul\n",
      "INFO: /home/benoit/CCDC/CSD_2021/bin/mogul\n",
      "INFO: /home/benoit/CCDC/CSD_2021/bin/mogul\n",
      "INFO: /home/benoit/CCDC/CSD_2021/bin/mogul\n",
      "INFO: /home/benoit/CCDC/CSD_2021/bin/mogul\n"
     ]
    },
    {
     "name": "stderr",
     "output_type": "stream",
     "text": [
      " 38%|███████████████▎                        | 60/157 [44:20<1:37:30, 60.31s/it]"
     ]
    },
    {
     "name": "stdout",
     "output_type": "stream",
     "text": [
      "INFO: /home/benoit/CCDC/CSD_2021/bin/mogul\n",
      "INFO: /home/benoit/CCDC/CSD_2021/bin/mogul\n",
      "INFO: /home/benoit/CCDC/CSD_2021/bin/mogul\n"
     ]
    },
    {
     "name": "stderr",
     "output_type": "stream",
     "text": [
      " 39%|███████████████▌                        | 61/157 [44:59<1:26:40, 54.17s/it]"
     ]
    },
    {
     "name": "stdout",
     "output_type": "stream",
     "text": [
      "INFO: /home/benoit/CCDC/CSD_2021/bin/mogul\n",
      "INFO: /home/benoit/CCDC/CSD_2021/bin/mogul\n"
     ]
    },
    {
     "name": "stderr",
     "output_type": "stream",
     "text": [
      " 39%|███████████████▊                        | 62/157 [45:44<1:21:24, 51.42s/it]"
     ]
    },
    {
     "name": "stdout",
     "output_type": "stream",
     "text": [
      "INFO: /home/benoit/CCDC/CSD_2021/bin/mogul\n",
      "INFO: /home/benoit/CCDC/CSD_2021/bin/mogul\n",
      "INFO: /home/benoit/CCDC/CSD_2021/bin/mogul\n",
      "INFO: /home/benoit/CCDC/CSD_2021/bin/mogul\n"
     ]
    },
    {
     "name": "stderr",
     "output_type": "stream",
     "text": [
      " 40%|████████████████                        | 63/157 [46:16<1:11:11, 45.44s/it]"
     ]
    },
    {
     "name": "stdout",
     "output_type": "stream",
     "text": [
      "INFO: /home/benoit/CCDC/CSD_2021/bin/mogul\n",
      "INFO: /home/benoit/CCDC/CSD_2021/bin/mogul\n"
     ]
    },
    {
     "name": "stderr",
     "output_type": "stream",
     "text": [
      " 41%|████████████████▎                       | 64/157 [46:54<1:06:59, 43.22s/it]"
     ]
    },
    {
     "name": "stdout",
     "output_type": "stream",
     "text": [
      "INFO: /home/benoit/CCDC/CSD_2021/bin/mogul\n"
     ]
    },
    {
     "name": "stderr",
     "output_type": "stream",
     "text": [
      " 41%|████████████████▌                       | 65/157 [47:33<1:04:14, 41.89s/it]"
     ]
    },
    {
     "name": "stdout",
     "output_type": "stream",
     "text": [
      "INFO: /home/benoit/CCDC/CSD_2021/bin/mogul\n",
      "INFO: /home/benoit/CCDC/CSD_2021/bin/mogul\n",
      "INFO: /home/benoit/CCDC/CSD_2021/bin/mogul\n",
      "INFO: /home/benoit/CCDC/CSD_2021/bin/mogul\n"
     ]
    },
    {
     "name": "stderr",
     "output_type": "stream",
     "text": [
      " 42%|█████████████████▋                        | 66/157 [48:05<59:21, 39.14s/it]"
     ]
    },
    {
     "name": "stdout",
     "output_type": "stream",
     "text": [
      "INFO: /home/benoit/CCDC/CSD_2021/bin/mogul\n",
      "INFO: /home/benoit/CCDC/CSD_2021/bin/mogul\n",
      "INFO: /home/benoit/CCDC/CSD_2021/bin/mogul\n",
      "INFO: /home/benoit/CCDC/CSD_2021/bin/mogul\n",
      "INFO: /home/benoit/CCDC/CSD_2021/bin/mogul\n",
      "INFO: /home/benoit/CCDC/CSD_2021/bin/mogul\n",
      "INFO: /home/benoit/CCDC/CSD_2021/bin/mogul\n",
      "INFO: /home/benoit/CCDC/CSD_2021/bin/mogul\n",
      "INFO: /home/benoit/CCDC/CSD_2021/bin/mogul\n",
      "INFO: /home/benoit/CCDC/CSD_2021/bin/mogul\n",
      "INFO: /home/benoit/CCDC/CSD_2021/bin/mogul\n",
      "INFO: /home/benoit/CCDC/CSD_2021/bin/mogul\n",
      "INFO: /home/benoit/CCDC/CSD_2021/bin/mogul\n",
      "INFO: /home/benoit/CCDC/CSD_2021/bin/mogul\n",
      "INFO: /home/benoit/CCDC/CSD_2021/bin/mogul\n",
      "INFO: /home/benoit/CCDC/CSD_2021/bin/mogul\n"
     ]
    },
    {
     "name": "stderr",
     "output_type": "stream",
     "text": [
      " 43%|█████████████████▉                        | 67/157 [48:39<56:18, 37.54s/it]"
     ]
    },
    {
     "name": "stdout",
     "output_type": "stream",
     "text": [
      "INFO: /home/benoit/CCDC/CSD_2021/bin/mogul\n",
      "INFO: /home/benoit/CCDC/CSD_2021/bin/mogul\n",
      "INFO: /home/benoit/CCDC/CSD_2021/bin/mogul\n",
      "INFO: /home/benoit/CCDC/CSD_2021/bin/mogul\n",
      "INFO: /home/benoit/CCDC/CSD_2021/bin/mogul\n",
      "INFO: /home/benoit/CCDC/CSD_2021/bin/mogul\n",
      "INFO: /home/benoit/CCDC/CSD_2021/bin/mogul\n",
      "INFO: /home/benoit/CCDC/CSD_2021/bin/mogul\n"
     ]
    },
    {
     "name": "stderr",
     "output_type": "stream",
     "text": [
      " 43%|█████████████████▎                      | 68/157 [49:37<1:04:35, 43.54s/it]"
     ]
    },
    {
     "name": "stdout",
     "output_type": "stream",
     "text": [
      "INFO: /home/benoit/CCDC/CSD_2021/bin/mogul\n",
      "INFO: /home/benoit/CCDC/CSD_2021/bin/mogul\n",
      "INFO: /home/benoit/CCDC/CSD_2021/bin/mogul\n",
      "INFO: /home/benoit/CCDC/CSD_2021/bin/mogul\n"
     ]
    },
    {
     "name": "stderr",
     "output_type": "stream",
     "text": [
      " 44%|██████████████████▍                       | 69/157 [50:10<59:07, 40.31s/it]"
     ]
    },
    {
     "name": "stdout",
     "output_type": "stream",
     "text": [
      "INFO: /home/benoit/CCDC/CSD_2021/bin/mogul\n",
      "INFO: /home/benoit/CCDC/CSD_2021/bin/mogul\n",
      "INFO: /home/benoit/CCDC/CSD_2021/bin/mogul\n"
     ]
    },
    {
     "name": "stderr",
     "output_type": "stream",
     "text": [
      " 45%|██████████████████▋                       | 70/157 [50:40<54:19, 37.46s/it]"
     ]
    },
    {
     "name": "stdout",
     "output_type": "stream",
     "text": [
      "INFO: /home/benoit/CCDC/CSD_2021/bin/mogul\n",
      "INFO: /home/benoit/CCDC/CSD_2021/bin/mogul\n",
      "INFO: /home/benoit/CCDC/CSD_2021/bin/mogul\n",
      "INFO: /home/benoit/CCDC/CSD_2021/bin/mogul\n",
      "INFO: /home/benoit/CCDC/CSD_2021/bin/mogul\n",
      "INFO: /home/benoit/CCDC/CSD_2021/bin/mogul\n"
     ]
    },
    {
     "name": "stderr",
     "output_type": "stream",
     "text": [
      " 45%|██████████████████                      | 71/157 [51:33<1:00:00, 41.87s/it]"
     ]
    },
    {
     "name": "stdout",
     "output_type": "stream",
     "text": [
      "INFO: /home/benoit/CCDC/CSD_2021/bin/mogul\n",
      "INFO: /home/benoit/CCDC/CSD_2021/bin/mogul\n",
      "INFO: /home/benoit/CCDC/CSD_2021/bin/mogul\n"
     ]
    },
    {
     "name": "stderr",
     "output_type": "stream",
     "text": [
      " 46%|███████████████████▎                      | 72/157 [52:04<54:45, 38.65s/it]"
     ]
    },
    {
     "name": "stdout",
     "output_type": "stream",
     "text": [
      "INFO: /home/benoit/CCDC/CSD_2021/bin/mogul\n",
      "INFO: /home/benoit/CCDC/CSD_2021/bin/mogul\n",
      "INFO: /home/benoit/CCDC/CSD_2021/bin/mogul\n",
      "INFO: /home/benoit/CCDC/CSD_2021/bin/mogul\n",
      "INFO: /home/benoit/CCDC/CSD_2021/bin/mogul\n",
      "INFO: /home/benoit/CCDC/CSD_2021/bin/mogul\n",
      "INFO: /home/benoit/CCDC/CSD_2021/bin/mogul\n",
      "INFO: /home/benoit/CCDC/CSD_2021/bin/mogul\n",
      "INFO: /home/benoit/CCDC/CSD_2021/bin/mogul\n"
     ]
    },
    {
     "name": "stderr",
     "output_type": "stream",
     "text": [
      " 46%|███████████████████▌                      | 73/157 [52:40<53:10, 37.99s/it]"
     ]
    },
    {
     "name": "stdout",
     "output_type": "stream",
     "text": [
      "INFO: /home/benoit/CCDC/CSD_2021/bin/mogul\n",
      "INFO: /home/benoit/CCDC/CSD_2021/bin/mogul\n",
      "INFO: /home/benoit/CCDC/CSD_2021/bin/mogul\n",
      "INFO: /home/benoit/CCDC/CSD_2021/bin/mogul\n",
      "INFO: /home/benoit/CCDC/CSD_2021/bin/mogul\n"
     ]
    },
    {
     "name": "stderr",
     "output_type": "stream",
     "text": [
      " 47%|███████████████████▊                      | 74/157 [53:11<49:34, 35.84s/it]"
     ]
    },
    {
     "name": "stdout",
     "output_type": "stream",
     "text": [
      "INFO: /home/benoit/CCDC/CSD_2021/bin/mogul\n",
      "INFO: /home/benoit/CCDC/CSD_2021/bin/mogul\n",
      "INFO: /home/benoit/CCDC/CSD_2021/bin/mogul\n",
      "INFO: /home/benoit/CCDC/CSD_2021/bin/mogul\n",
      "INFO: /home/benoit/CCDC/CSD_2021/bin/mogul\n"
     ]
    },
    {
     "name": "stderr",
     "output_type": "stream",
     "text": [
      " 48%|███████████████████                     | 75/157 [54:29<1:06:13, 48.46s/it]"
     ]
    },
    {
     "name": "stdout",
     "output_type": "stream",
     "text": [
      "INFO: /home/benoit/CCDC/CSD_2021/bin/mogul\n",
      "INFO: /home/benoit/CCDC/CSD_2021/bin/mogul\n",
      "INFO: /home/benoit/CCDC/CSD_2021/bin/mogul\n",
      "INFO: /home/benoit/CCDC/CSD_2021/bin/mogul\n",
      "INFO: /home/benoit/CCDC/CSD_2021/bin/mogul\n"
     ]
    },
    {
     "name": "stderr",
     "output_type": "stream",
     "text": [
      " 48%|███████████████████▎                    | 76/157 [55:19<1:06:03, 48.93s/it]"
     ]
    },
    {
     "name": "stdout",
     "output_type": "stream",
     "text": [
      "INFO: /home/benoit/CCDC/CSD_2021/bin/mogul\n",
      "INFO: /home/benoit/CCDC/CSD_2021/bin/mogul\n",
      "INFO: /home/benoit/CCDC/CSD_2021/bin/mogul\n",
      "INFO: /home/benoit/CCDC/CSD_2021/bin/mogul\n",
      "INFO: /home/benoit/CCDC/CSD_2021/bin/mogul\n",
      "INFO: /home/benoit/CCDC/CSD_2021/bin/mogul\n"
     ]
    },
    {
     "name": "stderr",
     "output_type": "stream",
     "text": [
      " 50%|████████████████████▊                     | 78/157 [56:28<54:43, 41.56s/it]"
     ]
    },
    {
     "name": "stdout",
     "output_type": "stream",
     "text": [
      "INFO: /home/benoit/CCDC/CSD_2021/bin/mogul\n",
      "INFO: /home/benoit/CCDC/CSD_2021/bin/mogul\n",
      "INFO: /home/benoit/CCDC/CSD_2021/bin/mogul\n",
      "INFO: /home/benoit/CCDC/CSD_2021/bin/mogul\n",
      "INFO: /home/benoit/CCDC/CSD_2021/bin/mogul\n",
      "INFO: /home/benoit/CCDC/CSD_2021/bin/mogul\n",
      "INFO: /home/benoit/CCDC/CSD_2021/bin/mogul\n",
      "INFO: /home/benoit/CCDC/CSD_2021/bin/mogul\n",
      "INFO: /home/benoit/CCDC/CSD_2021/bin/mogul\n",
      "INFO: /home/benoit/CCDC/CSD_2021/bin/mogul\n",
      "INFO: /home/benoit/CCDC/CSD_2021/bin/mogul\n",
      "INFO: /home/benoit/CCDC/CSD_2021/bin/mogul\n",
      "INFO: /home/benoit/CCDC/CSD_2021/bin/mogul\n",
      "INFO: /home/benoit/CCDC/CSD_2021/bin/mogul\n",
      "INFO: /home/benoit/CCDC/CSD_2021/bin/mogul\n",
      "INFO: /home/benoit/CCDC/CSD_2021/bin/mogul\n",
      "INFO: /home/benoit/CCDC/CSD_2021/bin/mogul\n"
     ]
    },
    {
     "name": "stderr",
     "output_type": "stream",
     "text": [
      " 50%|█████████████████████▏                    | 79/157 [57:17<56:59, 43.84s/it]"
     ]
    },
    {
     "name": "stdout",
     "output_type": "stream",
     "text": [
      "INFO: /home/benoit/CCDC/CSD_2021/bin/mogul\n",
      "INFO: /home/benoit/CCDC/CSD_2021/bin/mogul\n"
     ]
    },
    {
     "name": "stderr",
     "output_type": "stream",
     "text": [
      " 51%|███████████████████▎                  | 80/157 [1:00:23<1:50:52, 86.39s/it]"
     ]
    },
    {
     "name": "stdout",
     "output_type": "stream",
     "text": [
      "INFO: /home/benoit/CCDC/CSD_2021/bin/mogul\n",
      "INFO: /home/benoit/CCDC/CSD_2021/bin/mogul\n",
      "INFO: /home/benoit/CCDC/CSD_2021/bin/mogul\n",
      "INFO: /home/benoit/CCDC/CSD_2021/bin/mogul\n",
      "INFO: /home/benoit/CCDC/CSD_2021/bin/mogul\n",
      "INFO: /home/benoit/CCDC/CSD_2021/bin/mogul\n"
     ]
    },
    {
     "name": "stderr",
     "output_type": "stream",
     "text": [
      " 52%|███████████████████▌                  | 81/157 [1:00:56<1:28:56, 70.22s/it]"
     ]
    },
    {
     "name": "stdout",
     "output_type": "stream",
     "text": [
      "INFO: /home/benoit/CCDC/CSD_2021/bin/mogul\n",
      "INFO: /home/benoit/CCDC/CSD_2021/bin/mogul\n",
      "INFO: /home/benoit/CCDC/CSD_2021/bin/mogul\n",
      "INFO: /home/benoit/CCDC/CSD_2021/bin/mogul\n",
      "INFO: /home/benoit/CCDC/CSD_2021/bin/mogul\n"
     ]
    },
    {
     "name": "stderr",
     "output_type": "stream",
     "text": [
      " 52%|███████████████████▊                  | 82/157 [1:01:58<1:24:39, 67.73s/it]"
     ]
    },
    {
     "name": "stdout",
     "output_type": "stream",
     "text": [
      "INFO: /home/benoit/CCDC/CSD_2021/bin/mogul\n",
      "INFO: /home/benoit/CCDC/CSD_2021/bin/mogul\n",
      "INFO: /home/benoit/CCDC/CSD_2021/bin/mogul\n",
      "INFO: /home/benoit/CCDC/CSD_2021/bin/mogul\n",
      "INFO: /home/benoit/CCDC/CSD_2021/bin/mogul\n",
      "INFO: /home/benoit/CCDC/CSD_2021/bin/mogul\n"
     ]
    },
    {
     "name": "stderr",
     "output_type": "stream",
     "text": [
      " 53%|████████████████████                  | 83/157 [1:02:34<1:11:56, 58.33s/it]"
     ]
    },
    {
     "name": "stdout",
     "output_type": "stream",
     "text": [
      "INFO: /home/benoit/CCDC/CSD_2021/bin/mogul\n",
      "INFO: /home/benoit/CCDC/CSD_2021/bin/mogul\n",
      "INFO: /home/benoit/CCDC/CSD_2021/bin/mogul\n",
      "INFO: /home/benoit/CCDC/CSD_2021/bin/mogul\n"
     ]
    },
    {
     "name": "stderr",
     "output_type": "stream",
     "text": [
      " 54%|████████████████████▎                 | 84/157 [1:03:09<1:02:35, 51.44s/it]"
     ]
    },
    {
     "name": "stdout",
     "output_type": "stream",
     "text": [
      "INFO: /home/benoit/CCDC/CSD_2021/bin/mogul\n",
      "INFO: /home/benoit/CCDC/CSD_2021/bin/mogul\n"
     ]
    },
    {
     "name": "stderr",
     "output_type": "stream",
     "text": [
      " 54%|█████████████████████▋                  | 85/157 [1:03:44<55:40, 46.40s/it]"
     ]
    },
    {
     "name": "stdout",
     "output_type": "stream",
     "text": [
      "INFO: /home/benoit/CCDC/CSD_2021/bin/mogul\n",
      "INFO: /home/benoit/CCDC/CSD_2021/bin/mogul\n",
      "INFO: /home/benoit/CCDC/CSD_2021/bin/mogul\n",
      "INFO: /home/benoit/CCDC/CSD_2021/bin/mogul\n",
      "INFO: /home/benoit/CCDC/CSD_2021/bin/mogul\n"
     ]
    },
    {
     "name": "stderr",
     "output_type": "stream",
     "text": [
      " 55%|█████████████████████▉                  | 86/157 [1:04:17<50:03, 42.30s/it]"
     ]
    },
    {
     "name": "stdout",
     "output_type": "stream",
     "text": [
      "INFO: /home/benoit/CCDC/CSD_2021/bin/mogul\n",
      "INFO: /home/benoit/CCDC/CSD_2021/bin/mogul\n",
      "INFO: /home/benoit/CCDC/CSD_2021/bin/mogul\n",
      "INFO: /home/benoit/CCDC/CSD_2021/bin/mogul\n",
      "INFO: /home/benoit/CCDC/CSD_2021/bin/mogul\n",
      "INFO: /home/benoit/CCDC/CSD_2021/bin/mogul\n",
      "INFO: /home/benoit/CCDC/CSD_2021/bin/mogul\n",
      "INFO: /home/benoit/CCDC/CSD_2021/bin/mogul\n",
      "INFO: /home/benoit/CCDC/CSD_2021/bin/mogul\n",
      "INFO: /home/benoit/CCDC/CSD_2021/bin/mogul\n",
      "INFO: /home/benoit/CCDC/CSD_2021/bin/mogul\n",
      "INFO: /home/benoit/CCDC/CSD_2021/bin/mogul\n",
      "INFO: /home/benoit/CCDC/CSD_2021/bin/mogul\n",
      "INFO: /home/benoit/CCDC/CSD_2021/bin/mogul\n",
      "INFO: /home/benoit/CCDC/CSD_2021/bin/mogul\n",
      "INFO: /home/benoit/CCDC/CSD_2021/bin/mogul\n"
     ]
    },
    {
     "name": "stderr",
     "output_type": "stream",
     "text": [
      " 55%|██████████████████████▏                 | 87/157 [1:05:01<50:00, 42.86s/it]"
     ]
    },
    {
     "name": "stdout",
     "output_type": "stream",
     "text": [
      "INFO: /home/benoit/CCDC/CSD_2021/bin/mogul\n",
      "INFO: /home/benoit/CCDC/CSD_2021/bin/mogul\n",
      "INFO: /home/benoit/CCDC/CSD_2021/bin/mogul\n"
     ]
    },
    {
     "name": "stderr",
     "output_type": "stream",
     "text": [
      " 56%|██████████████████████▍                 | 88/157 [1:05:34<46:00, 40.01s/it]"
     ]
    },
    {
     "name": "stdout",
     "output_type": "stream",
     "text": [
      "INFO: /home/benoit/CCDC/CSD_2021/bin/mogul\n"
     ]
    },
    {
     "name": "stderr",
     "output_type": "stream",
     "text": [
      " 57%|██████████████████████▋                 | 89/157 [1:06:12<44:27, 39.22s/it]"
     ]
    },
    {
     "name": "stdout",
     "output_type": "stream",
     "text": [
      "INFO: /home/benoit/CCDC/CSD_2021/bin/mogul\n",
      "INFO: /home/benoit/CCDC/CSD_2021/bin/mogul\n",
      "INFO: /home/benoit/CCDC/CSD_2021/bin/mogul\n",
      "INFO: /home/benoit/CCDC/CSD_2021/bin/mogul\n",
      "INFO: /home/benoit/CCDC/CSD_2021/bin/mogul\n",
      "INFO: /home/benoit/CCDC/CSD_2021/bin/mogul\n",
      "INFO: /home/benoit/CCDC/CSD_2021/bin/mogul\n",
      "INFO: /home/benoit/CCDC/CSD_2021/bin/mogul\n",
      "INFO: /home/benoit/CCDC/CSD_2021/bin/mogul\n",
      "INFO: /home/benoit/CCDC/CSD_2021/bin/mogul\n"
     ]
    },
    {
     "name": "stderr",
     "output_type": "stream",
     "text": [
      " 57%|██████████████████████▉                 | 90/157 [1:06:46<42:10, 37.78s/it]"
     ]
    },
    {
     "name": "stdout",
     "output_type": "stream",
     "text": [
      "INFO: /home/benoit/CCDC/CSD_2021/bin/mogul\n",
      "INFO: /home/benoit/CCDC/CSD_2021/bin/mogul\n"
     ]
    },
    {
     "name": "stderr",
     "output_type": "stream",
     "text": [
      " 58%|███████████████████████▏                | 91/157 [1:07:25<42:01, 38.21s/it]"
     ]
    },
    {
     "name": "stdout",
     "output_type": "stream",
     "text": [
      "INFO: /home/benoit/CCDC/CSD_2021/bin/mogul\n",
      "INFO: /home/benoit/CCDC/CSD_2021/bin/mogul\n"
     ]
    },
    {
     "name": "stderr",
     "output_type": "stream",
     "text": [
      " 59%|███████████████████████▍                | 92/157 [1:07:56<38:51, 35.87s/it]"
     ]
    },
    {
     "name": "stdout",
     "output_type": "stream",
     "text": [
      "INFO: /home/benoit/CCDC/CSD_2021/bin/mogul\n",
      "INFO: /home/benoit/CCDC/CSD_2021/bin/mogul\n",
      "INFO: /home/benoit/CCDC/CSD_2021/bin/mogul\n",
      "INFO: /home/benoit/CCDC/CSD_2021/bin/mogul\n",
      "INFO: /home/benoit/CCDC/CSD_2021/bin/mogul\n",
      "INFO: /home/benoit/CCDC/CSD_2021/bin/mogul\n"
     ]
    },
    {
     "name": "stderr",
     "output_type": "stream",
     "text": [
      " 59%|███████████████████████▋                | 93/157 [1:08:25<36:11, 33.94s/it]"
     ]
    },
    {
     "name": "stdout",
     "output_type": "stream",
     "text": [
      "INFO: /home/benoit/CCDC/CSD_2021/bin/mogul\n",
      "INFO: /home/benoit/CCDC/CSD_2021/bin/mogul\n",
      "INFO: /home/benoit/CCDC/CSD_2021/bin/mogul\n"
     ]
    },
    {
     "name": "stderr",
     "output_type": "stream",
     "text": [
      " 60%|███████████████████████▉                | 94/157 [1:09:01<36:12, 34.49s/it]"
     ]
    },
    {
     "name": "stdout",
     "output_type": "stream",
     "text": [
      "INFO: /home/benoit/CCDC/CSD_2021/bin/mogul\n",
      "INFO: /home/benoit/CCDC/CSD_2021/bin/mogul\n",
      "INFO: /home/benoit/CCDC/CSD_2021/bin/mogul\n",
      "INFO: /home/benoit/CCDC/CSD_2021/bin/mogul\n",
      "INFO: /home/benoit/CCDC/CSD_2021/bin/mogul\n",
      "INFO: /home/benoit/CCDC/CSD_2021/bin/mogul\n",
      "INFO: /home/benoit/CCDC/CSD_2021/bin/mogul\n"
     ]
    },
    {
     "name": "stderr",
     "output_type": "stream",
     "text": [
      " 61%|████████████████████████▏               | 95/157 [1:09:44<38:19, 37.08s/it]"
     ]
    },
    {
     "name": "stdout",
     "output_type": "stream",
     "text": [
      "INFO: /home/benoit/CCDC/CSD_2021/bin/mogul\n"
     ]
    },
    {
     "name": "stderr",
     "output_type": "stream",
     "text": [
      " 61%|████████████████████████▍               | 96/157 [1:10:39<43:14, 42.53s/it]"
     ]
    },
    {
     "name": "stdout",
     "output_type": "stream",
     "text": [
      "INFO: /home/benoit/CCDC/CSD_2021/bin/mogul\n",
      "INFO: /home/benoit/CCDC/CSD_2021/bin/mogul\n",
      "INFO: /home/benoit/CCDC/CSD_2021/bin/mogul\n"
     ]
    },
    {
     "name": "stderr",
     "output_type": "stream",
     "text": [
      " 62%|████████████████████████▋               | 97/157 [1:11:11<39:18, 39.30s/it]"
     ]
    },
    {
     "name": "stdout",
     "output_type": "stream",
     "text": [
      "INFO: /home/benoit/CCDC/CSD_2021/bin/mogul\n"
     ]
    },
    {
     "name": "stderr",
     "output_type": "stream",
     "text": [
      " 62%|████████████████████████▉               | 98/157 [1:11:41<35:48, 36.42s/it]"
     ]
    },
    {
     "name": "stdout",
     "output_type": "stream",
     "text": [
      "INFO: /home/benoit/CCDC/CSD_2021/bin/mogul\n",
      "INFO: /home/benoit/CCDC/CSD_2021/bin/mogul\n",
      "INFO: /home/benoit/CCDC/CSD_2021/bin/mogul\n",
      "INFO: /home/benoit/CCDC/CSD_2021/bin/mogul\n",
      "INFO: /home/benoit/CCDC/CSD_2021/bin/mogul\n",
      "INFO: /home/benoit/CCDC/CSD_2021/bin/mogul\n",
      "INFO: /home/benoit/CCDC/CSD_2021/bin/mogul\n",
      "INFO: /home/benoit/CCDC/CSD_2021/bin/mogul\n",
      "INFO: /home/benoit/CCDC/CSD_2021/bin/mogul\n",
      "INFO: /home/benoit/CCDC/CSD_2021/bin/mogul\n",
      "INFO: /home/benoit/CCDC/CSD_2021/bin/mogul\n",
      "INFO: /home/benoit/CCDC/CSD_2021/bin/mogul\n"
     ]
    },
    {
     "name": "stderr",
     "output_type": "stream",
     "text": [
      " 63%|█████████████████████████▏              | 99/157 [1:12:13<34:03, 35.23s/it]"
     ]
    },
    {
     "name": "stdout",
     "output_type": "stream",
     "text": [
      "INFO: /home/benoit/CCDC/CSD_2021/bin/mogul\n",
      "INFO: /home/benoit/CCDC/CSD_2021/bin/mogul\n",
      "INFO: /home/benoit/CCDC/CSD_2021/bin/mogul\n",
      "INFO: /home/benoit/CCDC/CSD_2021/bin/mogul\n"
     ]
    },
    {
     "name": "stderr",
     "output_type": "stream",
     "text": [
      " 64%|████████████████████████▊              | 100/157 [1:13:45<49:35, 52.20s/it]"
     ]
    },
    {
     "name": "stdout",
     "output_type": "stream",
     "text": [
      "INFO: /home/benoit/CCDC/CSD_2021/bin/mogul\n",
      "INFO: /home/benoit/CCDC/CSD_2021/bin/mogul\n",
      "INFO: /home/benoit/CCDC/CSD_2021/bin/mogul\n",
      "INFO: /home/benoit/CCDC/CSD_2021/bin/mogul\n",
      "INFO: /home/benoit/CCDC/CSD_2021/bin/mogul\n",
      "INFO: /home/benoit/CCDC/CSD_2021/bin/mogul\n",
      "INFO: /home/benoit/CCDC/CSD_2021/bin/mogul\n",
      "INFO: /home/benoit/CCDC/CSD_2021/bin/mogul\n"
     ]
    },
    {
     "name": "stderr",
     "output_type": "stream",
     "text": [
      " 64%|███████████████████████▊             | 101/157 [1:15:47<1:08:22, 73.25s/it]"
     ]
    },
    {
     "name": "stdout",
     "output_type": "stream",
     "text": [
      "INFO: /home/benoit/CCDC/CSD_2021/bin/mogul\n"
     ]
    },
    {
     "name": "stderr",
     "output_type": "stream",
     "text": [
      " 65%|█████████████████████████▎             | 102/157 [1:16:25<57:22, 62.59s/it]"
     ]
    },
    {
     "name": "stdout",
     "output_type": "stream",
     "text": [
      "INFO: /home/benoit/CCDC/CSD_2021/bin/mogul\n",
      "INFO: /home/benoit/CCDC/CSD_2021/bin/mogul\n",
      "INFO: /home/benoit/CCDC/CSD_2021/bin/mogul\n",
      "INFO: /home/benoit/CCDC/CSD_2021/bin/mogul\n",
      "INFO: /home/benoit/CCDC/CSD_2021/bin/mogul\n",
      "INFO: /home/benoit/CCDC/CSD_2021/bin/mogul\n",
      "INFO: /home/benoit/CCDC/CSD_2021/bin/mogul\n",
      "INFO: /home/benoit/CCDC/CSD_2021/bin/mogul\n",
      "INFO: /home/benoit/CCDC/CSD_2021/bin/mogul\n"
     ]
    },
    {
     "name": "stderr",
     "output_type": "stream",
     "text": [
      " 66%|█████████████████████████▌             | 103/157 [1:16:59<48:28, 53.86s/it]"
     ]
    },
    {
     "name": "stdout",
     "output_type": "stream",
     "text": [
      "INFO: /home/benoit/CCDC/CSD_2021/bin/mogul\n",
      "INFO: /home/benoit/CCDC/CSD_2021/bin/mogul\n",
      "INFO: /home/benoit/CCDC/CSD_2021/bin/mogul\n",
      "INFO: /home/benoit/CCDC/CSD_2021/bin/mogul\n"
     ]
    },
    {
     "name": "stderr",
     "output_type": "stream",
     "text": [
      " 66%|█████████████████████████▊             | 104/157 [1:17:27<40:43, 46.11s/it]"
     ]
    },
    {
     "name": "stdout",
     "output_type": "stream",
     "text": [
      "INFO: /home/benoit/CCDC/CSD_2021/bin/mogul\n",
      "INFO: /home/benoit/CCDC/CSD_2021/bin/mogul\n",
      "INFO: /home/benoit/CCDC/CSD_2021/bin/mogul\n"
     ]
    },
    {
     "name": "stderr",
     "output_type": "stream",
     "text": [
      " 67%|██████████████████████████             | 105/157 [1:17:55<35:23, 40.83s/it]"
     ]
    },
    {
     "name": "stdout",
     "output_type": "stream",
     "text": [
      "INFO: /home/benoit/CCDC/CSD_2021/bin/mogul\n",
      "INFO: /home/benoit/CCDC/CSD_2021/bin/mogul\n",
      "INFO: /home/benoit/CCDC/CSD_2021/bin/mogul\n",
      "INFO: /home/benoit/CCDC/CSD_2021/bin/mogul\n",
      "INFO: /home/benoit/CCDC/CSD_2021/bin/mogul\n"
     ]
    },
    {
     "name": "stderr",
     "output_type": "stream",
     "text": [
      " 68%|██████████████████████████▎            | 106/157 [1:18:28<32:41, 38.45s/it]"
     ]
    },
    {
     "name": "stdout",
     "output_type": "stream",
     "text": [
      "INFO: /home/benoit/CCDC/CSD_2021/bin/mogul\n",
      "INFO: /home/benoit/CCDC/CSD_2021/bin/mogul\n",
      "INFO: /home/benoit/CCDC/CSD_2021/bin/mogul\n",
      "INFO: /home/benoit/CCDC/CSD_2021/bin/mogul\n",
      "INFO: /home/benoit/CCDC/CSD_2021/bin/mogul\n"
     ]
    },
    {
     "name": "stderr",
     "output_type": "stream",
     "text": [
      " 68%|██████████████████████████▌            | 107/157 [1:18:59<30:17, 36.36s/it]"
     ]
    },
    {
     "name": "stdout",
     "output_type": "stream",
     "text": [
      "INFO: /home/benoit/CCDC/CSD_2021/bin/mogul\n",
      "INFO: /home/benoit/CCDC/CSD_2021/bin/mogul\n",
      "INFO: /home/benoit/CCDC/CSD_2021/bin/mogul\n",
      "INFO: /home/benoit/CCDC/CSD_2021/bin/mogul\n"
     ]
    },
    {
     "name": "stderr",
     "output_type": "stream",
     "text": [
      " 69%|██████████████████████████▊            | 108/157 [1:19:33<28:58, 35.48s/it]"
     ]
    },
    {
     "name": "stdout",
     "output_type": "stream",
     "text": [
      "INFO: /home/benoit/CCDC/CSD_2021/bin/mogul\n",
      "INFO: /home/benoit/CCDC/CSD_2021/bin/mogul\n",
      "INFO: /home/benoit/CCDC/CSD_2021/bin/mogul\n",
      "INFO: /home/benoit/CCDC/CSD_2021/bin/mogul\n",
      "INFO: /home/benoit/CCDC/CSD_2021/bin/mogul\n",
      "INFO: /home/benoit/CCDC/CSD_2021/bin/mogul\n",
      "INFO: /home/benoit/CCDC/CSD_2021/bin/mogul\n"
     ]
    },
    {
     "name": "stderr",
     "output_type": "stream",
     "text": [
      " 69%|███████████████████████████            | 109/157 [1:20:07<27:58, 34.97s/it]"
     ]
    },
    {
     "name": "stdout",
     "output_type": "stream",
     "text": [
      "INFO: /home/benoit/CCDC/CSD_2021/bin/mogul\n",
      "INFO: /home/benoit/CCDC/CSD_2021/bin/mogul\n",
      "INFO: /home/benoit/CCDC/CSD_2021/bin/mogul\n",
      "INFO: /home/benoit/CCDC/CSD_2021/bin/mogul\n"
     ]
    },
    {
     "name": "stderr",
     "output_type": "stream",
     "text": [
      " 70%|███████████████████████████▎           | 110/157 [1:20:33<25:26, 32.48s/it]"
     ]
    },
    {
     "name": "stdout",
     "output_type": "stream",
     "text": [
      "INFO: /home/benoit/CCDC/CSD_2021/bin/mogul\n",
      "INFO: /home/benoit/CCDC/CSD_2021/bin/mogul\n",
      "INFO: /home/benoit/CCDC/CSD_2021/bin/mogul\n",
      "INFO: /home/benoit/CCDC/CSD_2021/bin/mogul\n",
      "INFO: /home/benoit/CCDC/CSD_2021/bin/mogul\n",
      "INFO: /home/benoit/CCDC/CSD_2021/bin/mogul\n",
      "INFO: /home/benoit/CCDC/CSD_2021/bin/mogul\n"
     ]
    },
    {
     "name": "stderr",
     "output_type": "stream",
     "text": [
      " 71%|███████████████████████████▌           | 111/157 [1:21:10<25:52, 33.75s/it]"
     ]
    },
    {
     "name": "stdout",
     "output_type": "stream",
     "text": [
      "INFO: /home/benoit/CCDC/CSD_2021/bin/mogul\n",
      "INFO: /home/benoit/CCDC/CSD_2021/bin/mogul\n",
      "INFO: /home/benoit/CCDC/CSD_2021/bin/mogul\n",
      "INFO: /home/benoit/CCDC/CSD_2021/bin/mogul\n",
      "INFO: /home/benoit/CCDC/CSD_2021/bin/mogul\n",
      "INFO: /home/benoit/CCDC/CSD_2021/bin/mogul\n",
      "INFO: /home/benoit/CCDC/CSD_2021/bin/mogul\n",
      "INFO: /home/benoit/CCDC/CSD_2021/bin/mogul\n"
     ]
    },
    {
     "name": "stderr",
     "output_type": "stream",
     "text": [
      " 71%|███████████████████████████▊           | 112/157 [1:23:25<47:59, 63.98s/it]"
     ]
    },
    {
     "name": "stdout",
     "output_type": "stream",
     "text": [
      "INFO: /home/benoit/CCDC/CSD_2021/bin/mogul\n",
      "INFO: /home/benoit/CCDC/CSD_2021/bin/mogul\n",
      "INFO: /home/benoit/CCDC/CSD_2021/bin/mogul\n",
      "INFO: /home/benoit/CCDC/CSD_2021/bin/mogul\n"
     ]
    },
    {
     "name": "stderr",
     "output_type": "stream",
     "text": [
      " 72%|████████████████████████████           | 113/157 [1:23:58<40:18, 54.96s/it]"
     ]
    },
    {
     "name": "stdout",
     "output_type": "stream",
     "text": [
      "INFO: /home/benoit/CCDC/CSD_2021/bin/mogul\n",
      "INFO: /home/benoit/CCDC/CSD_2021/bin/mogul\n"
     ]
    },
    {
     "name": "stderr",
     "output_type": "stream",
     "text": [
      " 73%|████████████████████████████▎          | 114/157 [1:24:26<33:26, 46.66s/it]"
     ]
    },
    {
     "name": "stdout",
     "output_type": "stream",
     "text": [
      "INFO: /home/benoit/CCDC/CSD_2021/bin/mogul\n",
      "INFO: /home/benoit/CCDC/CSD_2021/bin/mogul\n",
      "INFO: /home/benoit/CCDC/CSD_2021/bin/mogul\n",
      "INFO: /home/benoit/CCDC/CSD_2021/bin/mogul\n",
      "INFO: /home/benoit/CCDC/CSD_2021/bin/mogul\n",
      "INFO: /home/benoit/CCDC/CSD_2021/bin/mogul\n",
      "INFO: /home/benoit/CCDC/CSD_2021/bin/mogul\n",
      "INFO: /home/benoit/CCDC/CSD_2021/bin/mogul\n",
      "INFO: /home/benoit/CCDC/CSD_2021/bin/mogul\n"
     ]
    },
    {
     "name": "stderr",
     "output_type": "stream",
     "text": [
      " 73%|████████████████████████████▌          | 115/157 [1:25:02<30:24, 43.43s/it]"
     ]
    },
    {
     "name": "stdout",
     "output_type": "stream",
     "text": [
      "INFO: /home/benoit/CCDC/CSD_2021/bin/mogul\n",
      "INFO: /home/benoit/CCDC/CSD_2021/bin/mogul\n",
      "INFO: /home/benoit/CCDC/CSD_2021/bin/mogul\n"
     ]
    },
    {
     "name": "stderr",
     "output_type": "stream",
     "text": [
      " 74%|████████████████████████████▊          | 116/157 [1:25:34<27:25, 40.14s/it]"
     ]
    },
    {
     "name": "stdout",
     "output_type": "stream",
     "text": [
      "INFO: /home/benoit/CCDC/CSD_2021/bin/mogul\n",
      "INFO: /home/benoit/CCDC/CSD_2021/bin/mogul\n",
      "INFO: /home/benoit/CCDC/CSD_2021/bin/mogul\n",
      "INFO: /home/benoit/CCDC/CSD_2021/bin/mogul\n",
      "INFO: /home/benoit/CCDC/CSD_2021/bin/mogul\n",
      "INFO: /home/benoit/CCDC/CSD_2021/bin/mogul\n"
     ]
    },
    {
     "name": "stderr",
     "output_type": "stream",
     "text": [
      " 75%|█████████████████████████████          | 117/157 [1:26:28<29:30, 44.27s/it]"
     ]
    },
    {
     "name": "stdout",
     "output_type": "stream",
     "text": [
      "INFO: /home/benoit/CCDC/CSD_2021/bin/mogul\n",
      "INFO: /home/benoit/CCDC/CSD_2021/bin/mogul\n",
      "INFO: /home/benoit/CCDC/CSD_2021/bin/mogul\n",
      "INFO: /home/benoit/CCDC/CSD_2021/bin/mogul\n",
      "INFO: /home/benoit/CCDC/CSD_2021/bin/mogul\n"
     ]
    },
    {
     "name": "stderr",
     "output_type": "stream",
     "text": [
      " 75%|█████████████████████████████▎         | 118/157 [1:27:06<27:35, 42.45s/it]"
     ]
    },
    {
     "name": "stdout",
     "output_type": "stream",
     "text": [
      "INFO: /home/benoit/CCDC/CSD_2021/bin/mogul\n",
      "INFO: /home/benoit/CCDC/CSD_2021/bin/mogul\n",
      "INFO: /home/benoit/CCDC/CSD_2021/bin/mogul\n",
      "INFO: /home/benoit/CCDC/CSD_2021/bin/mogul\n",
      "INFO: /home/benoit/CCDC/CSD_2021/bin/mogul\n",
      "INFO: /home/benoit/CCDC/CSD_2021/bin/mogul\n"
     ]
    },
    {
     "name": "stderr",
     "output_type": "stream",
     "text": [
      " 76%|█████████████████████████████▌         | 119/157 [1:27:43<25:44, 40.64s/it]"
     ]
    },
    {
     "name": "stdout",
     "output_type": "stream",
     "text": [
      "INFO: /home/benoit/CCDC/CSD_2021/bin/mogul\n",
      "INFO: /home/benoit/CCDC/CSD_2021/bin/mogul\n",
      "INFO: /home/benoit/CCDC/CSD_2021/bin/mogul\n"
     ]
    },
    {
     "name": "stderr",
     "output_type": "stream",
     "text": [
      " 76%|█████████████████████████████▊         | 120/157 [1:28:15<23:32, 38.17s/it]"
     ]
    },
    {
     "name": "stdout",
     "output_type": "stream",
     "text": [
      "INFO: /home/benoit/CCDC/CSD_2021/bin/mogul\n",
      "INFO: /home/benoit/CCDC/CSD_2021/bin/mogul\n",
      "INFO: /home/benoit/CCDC/CSD_2021/bin/mogul\n",
      "INFO: /home/benoit/CCDC/CSD_2021/bin/mogul\n",
      "INFO: /home/benoit/CCDC/CSD_2021/bin/mogul\n",
      "INFO: /home/benoit/CCDC/CSD_2021/bin/mogul\n",
      "INFO: /home/benoit/CCDC/CSD_2021/bin/mogul\n",
      "INFO: /home/benoit/CCDC/CSD_2021/bin/mogul\n"
     ]
    },
    {
     "name": "stderr",
     "output_type": "stream",
     "text": [
      " 77%|██████████████████████████████         | 121/157 [1:29:28<29:08, 48.58s/it]"
     ]
    },
    {
     "name": "stdout",
     "output_type": "stream",
     "text": [
      "INFO: /home/benoit/CCDC/CSD_2021/bin/mogul\n"
     ]
    },
    {
     "name": "stderr",
     "output_type": "stream",
     "text": [
      " 78%|██████████████████████████████▎        | 122/157 [1:29:59<25:12, 43.20s/it]"
     ]
    },
    {
     "name": "stdout",
     "output_type": "stream",
     "text": [
      "INFO: /home/benoit/CCDC/CSD_2021/bin/mogul\n",
      "INFO: /home/benoit/CCDC/CSD_2021/bin/mogul\n"
     ]
    },
    {
     "name": "stderr",
     "output_type": "stream",
     "text": [
      " 78%|██████████████████████████████▌        | 123/157 [1:30:33<22:55, 40.45s/it]"
     ]
    },
    {
     "name": "stdout",
     "output_type": "stream",
     "text": [
      "INFO: /home/benoit/CCDC/CSD_2021/bin/mogul\n",
      "INFO: /home/benoit/CCDC/CSD_2021/bin/mogul\n",
      "INFO: /home/benoit/CCDC/CSD_2021/bin/mogul\n",
      "INFO: /home/benoit/CCDC/CSD_2021/bin/mogul\n"
     ]
    },
    {
     "name": "stderr",
     "output_type": "stream",
     "text": [
      " 80%|███████████████████████████████        | 125/157 [1:31:44<20:12, 37.89s/it]"
     ]
    },
    {
     "name": "stdout",
     "output_type": "stream",
     "text": [
      "INFO: /home/benoit/CCDC/CSD_2021/bin/mogul\n"
     ]
    },
    {
     "name": "stderr",
     "output_type": "stream",
     "text": [
      " 80%|███████████████████████████████▎       | 126/157 [1:32:14<18:14, 35.30s/it]"
     ]
    },
    {
     "name": "stdout",
     "output_type": "stream",
     "text": [
      "INFO: /home/benoit/CCDC/CSD_2021/bin/mogul\n"
     ]
    },
    {
     "name": "stderr",
     "output_type": "stream",
     "text": [
      " 81%|███████████████████████████████▌       | 127/157 [1:32:48<17:32, 35.09s/it]"
     ]
    },
    {
     "name": "stdout",
     "output_type": "stream",
     "text": [
      "INFO: /home/benoit/CCDC/CSD_2021/bin/mogul\n"
     ]
    },
    {
     "name": "stderr",
     "output_type": "stream",
     "text": [
      " 82%|███████████████████████████████▊       | 128/157 [1:33:16<15:53, 32.88s/it]"
     ]
    },
    {
     "name": "stdout",
     "output_type": "stream",
     "text": [
      "INFO: /home/benoit/CCDC/CSD_2021/bin/mogul\n"
     ]
    },
    {
     "name": "stderr",
     "output_type": "stream",
     "text": [
      " 82%|████████████████████████████████       | 129/157 [1:33:46<14:57, 32.06s/it]"
     ]
    },
    {
     "name": "stdout",
     "output_type": "stream",
     "text": [
      "INFO: /home/benoit/CCDC/CSD_2021/bin/mogul\n",
      "INFO: /home/benoit/CCDC/CSD_2021/bin/mogul\n",
      "INFO: /home/benoit/CCDC/CSD_2021/bin/mogul\n",
      "INFO: /home/benoit/CCDC/CSD_2021/bin/mogul\n",
      "INFO: /home/benoit/CCDC/CSD_2021/bin/mogul\n",
      "INFO: /home/benoit/CCDC/CSD_2021/bin/mogul\n",
      "INFO: /home/benoit/CCDC/CSD_2021/bin/mogul\n"
     ]
    },
    {
     "name": "stderr",
     "output_type": "stream",
     "text": [
      " 83%|████████████████████████████████▎      | 130/157 [1:34:16<14:07, 31.40s/it]"
     ]
    },
    {
     "name": "stdout",
     "output_type": "stream",
     "text": [
      "INFO: /home/benoit/CCDC/CSD_2021/bin/mogul\n"
     ]
    },
    {
     "name": "stderr",
     "output_type": "stream",
     "text": [
      " 84%|███████████████████████████████▉      | 132/157 [1:40:05<48:51, 117.26s/it]"
     ]
    },
    {
     "name": "stdout",
     "output_type": "stream",
     "text": [
      "INFO: /home/benoit/CCDC/CSD_2021/bin/mogul\n",
      "INFO: /home/benoit/CCDC/CSD_2021/bin/mogul\n",
      "INFO: /home/benoit/CCDC/CSD_2021/bin/mogul\n",
      "INFO: /home/benoit/CCDC/CSD_2021/bin/mogul\n"
     ]
    },
    {
     "name": "stderr",
     "output_type": "stream",
     "text": [
      " 85%|█████████████████████████████████      | 133/157 [1:40:35<36:29, 91.21s/it]"
     ]
    },
    {
     "name": "stdout",
     "output_type": "stream",
     "text": [
      "INFO: /home/benoit/CCDC/CSD_2021/bin/mogul\n"
     ]
    },
    {
     "name": "stderr",
     "output_type": "stream",
     "text": [
      " 85%|█████████████████████████████████▎     | 134/157 [1:41:08<28:12, 73.57s/it]"
     ]
    },
    {
     "name": "stdout",
     "output_type": "stream",
     "text": [
      "INFO: /home/benoit/CCDC/CSD_2021/bin/mogul\n",
      "INFO: /home/benoit/CCDC/CSD_2021/bin/mogul\n",
      "INFO: /home/benoit/CCDC/CSD_2021/bin/mogul\n",
      "INFO: /home/benoit/CCDC/CSD_2021/bin/mogul\n",
      "INFO: /home/benoit/CCDC/CSD_2021/bin/mogul\n"
     ]
    },
    {
     "name": "stderr",
     "output_type": "stream",
     "text": [
      " 86%|█████████████████████████████████▌     | 135/157 [1:41:50<23:32, 64.21s/it]"
     ]
    },
    {
     "name": "stdout",
     "output_type": "stream",
     "text": [
      "INFO: /home/benoit/CCDC/CSD_2021/bin/mogul\n"
     ]
    },
    {
     "name": "stderr",
     "output_type": "stream",
     "text": [
      " 87%|██████████████████████████████████     | 137/157 [1:42:44<15:06, 45.32s/it]"
     ]
    },
    {
     "name": "stdout",
     "output_type": "stream",
     "text": [
      "INFO: /home/benoit/CCDC/CSD_2021/bin/mogul\n"
     ]
    },
    {
     "name": "stderr",
     "output_type": "stream",
     "text": [
      " 89%|██████████████████████████████████▊    | 140/157 [1:43:58<08:54, 31.43s/it]"
     ]
    },
    {
     "name": "stdout",
     "output_type": "stream",
     "text": [
      "INFO: /home/benoit/CCDC/CSD_2021/bin/mogul\n",
      "INFO: /home/benoit/CCDC/CSD_2021/bin/mogul\n"
     ]
    },
    {
     "name": "stderr",
     "output_type": "stream",
     "text": [
      " 90%|███████████████████████████████████    | 141/157 [1:44:27<08:11, 30.69s/it]"
     ]
    },
    {
     "name": "stdout",
     "output_type": "stream",
     "text": [
      "INFO: /home/benoit/CCDC/CSD_2021/bin/mogul\n"
     ]
    },
    {
     "name": "stderr",
     "output_type": "stream",
     "text": [
      " 90%|███████████████████████████████████▎   | 142/157 [1:44:56<07:34, 30.28s/it]"
     ]
    },
    {
     "name": "stdout",
     "output_type": "stream",
     "text": [
      "INFO: /home/benoit/CCDC/CSD_2021/bin/mogul\n"
     ]
    },
    {
     "name": "stderr",
     "output_type": "stream",
     "text": [
      " 91%|███████████████████████████████████▌   | 143/157 [1:45:22<06:45, 28.95s/it]"
     ]
    },
    {
     "name": "stdout",
     "output_type": "stream",
     "text": [
      "INFO: /home/benoit/CCDC/CSD_2021/bin/mogul\n",
      "INFO: /home/benoit/CCDC/CSD_2021/bin/mogul\n",
      "INFO: /home/benoit/CCDC/CSD_2021/bin/mogul\n",
      "INFO: /home/benoit/CCDC/CSD_2021/bin/mogul\n"
     ]
    },
    {
     "name": "stderr",
     "output_type": "stream",
     "text": [
      " 92%|███████████████████████████████████▊   | 144/157 [1:45:50<06:13, 28.74s/it]"
     ]
    },
    {
     "name": "stdout",
     "output_type": "stream",
     "text": [
      "INFO: /home/benoit/CCDC/CSD_2021/bin/mogul\n",
      "INFO: /home/benoit/CCDC/CSD_2021/bin/mogul\n",
      "INFO: /home/benoit/CCDC/CSD_2021/bin/mogul\n",
      "INFO: /home/benoit/CCDC/CSD_2021/bin/mogul\n"
     ]
    },
    {
     "name": "stderr",
     "output_type": "stream",
     "text": [
      " 93%|████████████████████████████████████▎  | 146/157 [1:47:25<06:40, 36.40s/it]"
     ]
    },
    {
     "name": "stdout",
     "output_type": "stream",
     "text": [
      "INFO: /home/benoit/CCDC/CSD_2021/bin/mogul\n",
      "INFO: /home/benoit/CCDC/CSD_2021/bin/mogul\n"
     ]
    },
    {
     "name": "stderr",
     "output_type": "stream",
     "text": [
      " 94%|████████████████████████████████████▊  | 148/157 [1:48:25<04:55, 32.80s/it]"
     ]
    },
    {
     "name": "stdout",
     "output_type": "stream",
     "text": [
      "INFO: /home/benoit/CCDC/CSD_2021/bin/mogul\n",
      "INFO: /home/benoit/CCDC/CSD_2021/bin/mogul\n"
     ]
    },
    {
     "name": "stderr",
     "output_type": "stream",
     "text": [
      " 95%|█████████████████████████████████████  | 149/157 [1:48:58<04:23, 32.97s/it]"
     ]
    },
    {
     "name": "stdout",
     "output_type": "stream",
     "text": [
      "INFO: /home/benoit/CCDC/CSD_2021/bin/mogul\n",
      "INFO: /home/benoit/CCDC/CSD_2021/bin/mogul\n",
      "INFO: /home/benoit/CCDC/CSD_2021/bin/mogul\n",
      "INFO: /home/benoit/CCDC/CSD_2021/bin/mogul\n"
     ]
    },
    {
     "name": "stderr",
     "output_type": "stream",
     "text": [
      " 96%|█████████████████████████████████████▎ | 150/157 [1:49:26<03:40, 31.43s/it]"
     ]
    },
    {
     "name": "stdout",
     "output_type": "stream",
     "text": [
      "INFO: /home/benoit/CCDC/CSD_2021/bin/mogul\n",
      "INFO: /home/benoit/CCDC/CSD_2021/bin/mogul\n"
     ]
    },
    {
     "name": "stderr",
     "output_type": "stream",
     "text": [
      " 97%|██████████████████████████████████████ | 153/157 [1:50:46<01:52, 28.25s/it]"
     ]
    },
    {
     "name": "stdout",
     "output_type": "stream",
     "text": [
      "INFO: /home/benoit/CCDC/CSD_2021/bin/mogul\n"
     ]
    },
    {
     "name": "stderr",
     "output_type": "stream",
     "text": [
      " 99%|██████████████████████████████████████▊| 156/157 [1:52:16<00:29, 29.15s/it]"
     ]
    },
    {
     "name": "stdout",
     "output_type": "stream",
     "text": [
      "INFO: /home/benoit/CCDC/CSD_2021/bin/mogul\n"
     ]
    },
    {
     "name": "stderr",
     "output_type": "stream",
     "text": [
      "100%|███████████████████████████████████████| 157/157 [1:52:29<00:00, 42.99s/it]\n"
     ]
    }
   ],
   "source": [
    "for chunk_idx in tqdm(chunk_idxs) :\n",
    "    \n",
    "    mol_list = [mol for i, mol in enumerate(initial_ccdc_mols) if i in chunk_idx]\n",
    "    ce_mols = [mol for i, mol in enumerate(corresponding_ce_mols) if i in chunk_idx]\n",
    "    \n",
    "    conformers = ccdc_conformer_generator.generate(mol_list)\n",
    "    \n",
    "    for ce_mol, conformers in zip(ce_mols, conformers) :\n",
    "        try :\n",
    "            generated_conf_ids = ccdc_rdkit_connector.ccdc_conformers_to_rdkit_mol(conformers, ce_mol)\n",
    "        except Exception as e :\n",
    "            print(e)"
   ]
  },
  {
   "cell_type": "code",
   "execution_count": 46,
   "id": "ad98f8b0-1572-4dc4-8f64-1a8ce2828498",
   "metadata": {},
   "outputs": [],
   "source": [
    "with open(os.path.join(data_dir_path, 'raw', 'ccdc_generated_conf_ensemble_library_unfiltered.p'), 'wb') as f :\n",
    "    pickle.dump(all_CEL, f)\n",
    "    \n",
    "# here we only have the molecules parsed identically by RDKit (from mol2) and CSD (from smiles)"
   ]
  },
  {
   "cell_type": "code",
   "execution_count": 43,
   "id": "00869aaf-c9d7-4c0d-9818-d56bd2956765",
   "metadata": {},
   "outputs": [],
   "source": [
    "faulty_smiles = ['O=C[Ru+9]12345(C6=C1C2C3=C64)n1c2ccc(O)cc2c2c3c(c4ccc[n+]5c4c21)C(=O)NC3=O',\n",
    " 'Cc1cc2c3c(c4c5ccccc5n5c4c2[n+](c1)[Ru+9]51246(Cl)C5=C(C(=O)[O-])C1=C2C4=C56)C(=O)NC3=O']\n",
    "# cannot be pickled because of a number of radical electron error"
   ]
  },
  {
   "cell_type": "code",
   "execution_count": 44,
   "id": "dc70c9cc-96d4-4df0-91f7-2a9bedc840b5",
   "metadata": {},
   "outputs": [],
   "source": [
    "smiles_df.loc[smiles_df['smiles'].isin(faulty_smiles), 'included'] = False"
   ]
  },
  {
   "cell_type": "code",
   "execution_count": 45,
   "id": "dd27c254-57df-48b3-b143-5d3a7aba2cad",
   "metadata": {},
   "outputs": [],
   "source": [
    "smiles_df.to_csv(os.path.join(data_dir_path, 'smiles_df.csv'))"
   ]
  },
  {
   "cell_type": "code",
   "execution_count": 46,
   "id": "a8b2b1fa-1971-4604-89b6-6cce30fd741f",
   "metadata": {},
   "outputs": [],
   "source": [
    "excluded_smiles = smiles_df[~smiles_df['included']]['smiles'].values"
   ]
  },
  {
   "cell_type": "code",
   "execution_count": 47,
   "id": "0d75ad95-f4ea-458f-a860-4f61c888a462",
   "metadata": {},
   "outputs": [
    {
     "data": {
      "text/plain": [
       "285"
      ]
     },
     "execution_count": 47,
     "metadata": {},
     "output_type": "execute_result"
    }
   ],
   "source": [
    "len(excluded_smiles)"
   ]
  },
  {
   "cell_type": "code",
   "execution_count": 48,
   "id": "b8f063c8-3b7c-4fc1-a93b-f9db6387770d",
   "metadata": {},
   "outputs": [],
   "source": [
    "for smiles in excluded_smiles :\n",
    "    all_CEL.library.pop(smiles)"
   ]
  },
  {
   "cell_type": "code",
   "execution_count": 49,
   "id": "58f4ace9-8c11-4100-97f0-5cd2d2068198",
   "metadata": {},
   "outputs": [
    {
     "data": {
      "text/plain": [
       "15643"
      ]
     },
     "execution_count": 49,
     "metadata": {},
     "output_type": "execute_result"
    }
   ],
   "source": [
    "all_CEL.get_num_molecules()"
   ]
  },
  {
   "cell_type": "code",
   "execution_count": 68,
   "id": "5033f096-b484-46c9-ba1b-244d27855771",
   "metadata": {},
   "outputs": [],
   "source": [
    "with open(os.path.join(data_dir_path, 'raw', 'ccdc_generated_conf_ensemble_library.p'), 'wb') as f :\n",
    "    pickle.dump(all_CEL, f)"
   ]
  },
  {
   "cell_type": "markdown",
   "id": "286c4e35-de4e-424c-b5b0-bfd874d521f8",
   "metadata": {},
   "source": [
    "# CORRECT : Generator prop in conf"
   ]
  },
  {
   "cell_type": "code",
   "execution_count": 1,
   "id": "e55a8035-c3e9-45a3-a90b-922b062689b2",
   "metadata": {},
   "outputs": [
    {
     "ename": "NameError",
     "evalue": "name 'os' is not defined",
     "output_type": "error",
     "traceback": [
      "\u001b[0;31m---------------------------------------------------------------------------\u001b[0m",
      "\u001b[0;31mNameError\u001b[0m                                 Traceback (most recent call last)",
      "\u001b[0;32m/tmp/ipykernel_26209/1127237903.py\u001b[0m in \u001b[0;36m<module>\u001b[0;34m\u001b[0m\n\u001b[0;32m----> 1\u001b[0;31m \u001b[0;32mwith\u001b[0m \u001b[0mopen\u001b[0m\u001b[0;34m(\u001b[0m\u001b[0mos\u001b[0m\u001b[0;34m.\u001b[0m\u001b[0mpath\u001b[0m\u001b[0;34m.\u001b[0m\u001b[0mjoin\u001b[0m\u001b[0;34m(\u001b[0m\u001b[0mdata_dir_path\u001b[0m\u001b[0;34m,\u001b[0m \u001b[0;34m'raw'\u001b[0m\u001b[0;34m,\u001b[0m \u001b[0;34m'ccdc_generated_conf_ensemble_library.p'\u001b[0m\u001b[0;34m)\u001b[0m\u001b[0;34m,\u001b[0m \u001b[0;34m'rb'\u001b[0m\u001b[0;34m)\u001b[0m \u001b[0;32mas\u001b[0m \u001b[0mf\u001b[0m \u001b[0;34m:\u001b[0m\u001b[0;34m\u001b[0m\u001b[0;34m\u001b[0m\u001b[0m\n\u001b[0m\u001b[1;32m      2\u001b[0m     \u001b[0mall_CEL\u001b[0m \u001b[0;34m=\u001b[0m \u001b[0mpickle\u001b[0m\u001b[0;34m.\u001b[0m\u001b[0mload\u001b[0m\u001b[0;34m(\u001b[0m\u001b[0mf\u001b[0m\u001b[0;34m)\u001b[0m\u001b[0;34m\u001b[0m\u001b[0;34m\u001b[0m\u001b[0m\n",
      "\u001b[0;31mNameError\u001b[0m: name 'os' is not defined"
     ]
    }
   ],
   "source": [
    "with open(os.path.join(data_dir_path, 'raw', 'ccdc_generated_conf_ensemble_library.p'), 'rb') as f :\n",
    "    all_CEL = pickle.load(f)"
   ]
  },
  {
   "cell_type": "code",
   "execution_count": 51,
   "id": "7d831a77-5f7e-459d-8eb1-5c1156b4f732",
   "metadata": {},
   "outputs": [],
   "source": [
    "included_smiles = smiles_df[smiles_df['included']]['smiles'].values"
   ]
  },
  {
   "cell_type": "code",
   "execution_count": 57,
   "id": "1e0c2e43-1ec1-48ab-86f6-5c92d2bc1be6",
   "metadata": {},
   "outputs": [],
   "source": [
    "for smiles in included_smiles :\n",
    "    n_bio_confs = all_CEL.get_conf_ensemble(smiles).mol.GetNumConformers()\n",
    "    n_tot_confs = all_CEL2.get_conf_ensemble(smiles).mol.GetNumConformers()\n",
    "    for conf_id in range(n_bio_confs, n_tot_confs) :\n",
    "        all_CEL2.get_conf_ensemble(smiles).mol.GetConformer(conf_id).SetProp('Generator', 'CCDC')"
   ]
  },
  {
   "cell_type": "code",
   "execution_count": 66,
   "id": "0b0f8f42-62ec-47db-bf17-efc3e26b5f2a",
   "metadata": {},
   "outputs": [
    {
     "name": "stdout",
     "output_type": "stream",
     "text": [
      "{'PDB_ID': 'ZZZ_2CFI_A'}\n"
     ]
    }
   ],
   "source": [
    "for conf in all_CEL.get_conf_ensemble(smiles).mol.GetConformers() :\n",
    "    print(conf.GetPropsAsDict())"
   ]
  },
  {
   "cell_type": "code",
   "execution_count": 69,
   "id": "ef794fd2-5668-43c2-8769-54a0dd5c1b85",
   "metadata": {},
   "outputs": [
    {
     "name": "stdout",
     "output_type": "stream",
     "text": [
      "{'PDB_ID': 'ZZZ_2CFI_A'}\n",
      "{'PDB_ID': 'ZZZ_2CFI_A', 'Generator': 'CCDC'}\n",
      "{'PDB_ID': 'ZZZ_2CFI_A', 'Generator': 'CCDC'}\n",
      "{'PDB_ID': 'ZZZ_2CFI_A', 'Generator': 'CCDC'}\n",
      "{'PDB_ID': 'ZZZ_2CFI_A', 'Generator': 'CCDC'}\n",
      "{'PDB_ID': 'ZZZ_2CFI_A', 'Generator': 'CCDC'}\n",
      "{'PDB_ID': 'ZZZ_2CFI_A', 'Generator': 'CCDC'}\n"
     ]
    }
   ],
   "source": [
    "for conf in all_CEL2.get_conf_ensemble(smiles).mol.GetConformers() :\n",
    "    print(conf.GetPropsAsDict())"
   ]
  },
  {
   "cell_type": "code",
   "execution_count": 67,
   "id": "de7fd91a-f5e5-4f29-8125-9601c6d51122",
   "metadata": {},
   "outputs": [],
   "source": [
    "with open(os.path.join(data_dir_path, 'raw', 'ccdc_generated_conf_ensemble_library.p'), 'wb') as f :\n",
    "    pickle.dump(all_CEL2, f)"
   ]
  },
  {
   "cell_type": "markdown",
   "id": "fd6d309e-3a3e-453a-af3e-d9ef0ec8b0b2",
   "metadata": {},
   "source": [
    "# Generate conf table for data file creation torch geometric"
   ]
  },
  {
   "cell_type": "code",
   "execution_count": 6,
   "id": "639b83f8-3654-492d-a402-0833c39555f7",
   "metadata": {},
   "outputs": [],
   "source": [
    "with open(os.path.join(data_dir_path, 'raw', 'ccdc_generated_conf_ensemble_library.p'), 'rb') as f :\n",
    "    all_CEL = pickle.load(f)"
   ]
  },
  {
   "cell_type": "code",
   "execution_count": 7,
   "id": "d729e149-35b8-42f2-846b-bd507df87475",
   "metadata": {},
   "outputs": [],
   "source": [
    "smiles_df = pd.read_csv(os.path.join(data_dir_path, 'smiles_df.csv'))"
   ]
  },
  {
   "cell_type": "code",
   "execution_count": 11,
   "id": "d3075843-bf36-4bf1-9867-242d061c12b0",
   "metadata": {},
   "outputs": [],
   "source": [
    "conf_list = []\n",
    "for smiles in smiles_df[smiles_df['included']]['smiles'].values :\n",
    "    confs = all_CEL.get_conf_ensemble(smiles).mol.GetConformers()\n",
    "    for conf in confs :\n",
    "        generated = 'Generator' in conf.GetPropsAsDict()\n",
    "        conf_list.append([smiles, generated])"
   ]
  },
  {
   "cell_type": "code",
   "execution_count": 12,
   "id": "662b9607-d139-472a-b178-a6295f1f0fb0",
   "metadata": {},
   "outputs": [
    {
     "data": {
      "text/plain": [
       "1165920"
      ]
     },
     "execution_count": 12,
     "metadata": {},
     "output_type": "execute_result"
    }
   ],
   "source": [
    "len(conf_list)"
   ]
  },
  {
   "cell_type": "code",
   "execution_count": 13,
   "id": "ce721538-7047-41a6-b854-0f7c00a2941a",
   "metadata": {},
   "outputs": [],
   "source": [
    "conf_df = pd.DataFrame(conf_list, columns=['smiles', 'generated'])"
   ]
  },
  {
   "cell_type": "code",
   "execution_count": 15,
   "id": "a692ccf6-9a72-4f3f-a801-8cf2b82f2ff0",
   "metadata": {},
   "outputs": [],
   "source": [
    "conf_df.to_csv(os.path.join(data_dir_path, 'conf_df.csv'))"
   ]
  }
 ],
 "metadata": {
  "kernelspec": {
   "display_name": "Python 3 (ipykernel)",
   "language": "python",
   "name": "python3"
  },
  "language_info": {
   "codemirror_mode": {
    "name": "ipython",
    "version": 3
   },
   "file_extension": ".py",
   "mimetype": "text/x-python",
   "name": "python",
   "nbconvert_exporter": "python",
   "pygments_lexer": "ipython3",
   "version": "3.7.10"
  }
 },
 "nbformat": 4,
 "nbformat_minor": 5
}
