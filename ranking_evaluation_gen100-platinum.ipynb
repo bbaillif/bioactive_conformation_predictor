{
 "cells": [
  {
   "cell_type": "code",
   "execution_count": 58,
   "id": "f68ec08f-8c22-4d95-a4ea-ddfd5bd16b9a",
   "metadata": {
    "tags": []
   },
   "outputs": [],
   "source": [
    "import json\n",
    "import os\n",
    "import pickle\n",
    "import matplotlib.pyplot as plt\n",
    "import seaborn as sns\n",
    "import pandas as pd\n",
    "import numpy as np\n",
    "import copy\n",
    "\n",
    "from tqdm import tqdm\n",
    "from molecule_featurizer import MoleculeFeaturizer\n",
    "from collections import defaultdict\n",
    "from rdkit.ML.Scoring.Scoring import CalcBEDROC, CalcEnrichment, CalcAUC, CalcROC\n",
    "from sklearn.metrics import r2_score, mean_squared_error\n",
    "from scipy.stats import pearsonr, spearmanr\n",
    "from numpy.random import default_rng"
   ]
  },
  {
   "cell_type": "code",
   "execution_count": 59,
   "id": "4610efc4-e11d-4507-96b9-baec070fada0",
   "metadata": {},
   "outputs": [],
   "source": [
    "rng = default_rng()"
   ]
  },
  {
   "cell_type": "code",
   "execution_count": 60,
   "id": "bdba0638-e213-4f8d-99df-4bdccd7c93fe",
   "metadata": {},
   "outputs": [],
   "source": [
    "t = pd.read_csv('results/scaffold_split_0_new_platinum')"
   ]
  },
  {
   "cell_type": "code",
   "execution_count": 61,
   "id": "cc7b350d-aa28-4354-b788-276c487bd981",
   "metadata": {},
   "outputs": [
    {
     "data": {
      "text/html": [
       "<div>\n",
       "<style scoped>\n",
       "    .dataframe tbody tr th:only-of-type {\n",
       "        vertical-align: middle;\n",
       "    }\n",
       "\n",
       "    .dataframe tbody tr th {\n",
       "        vertical-align: top;\n",
       "    }\n",
       "\n",
       "    .dataframe thead th {\n",
       "        text-align: right;\n",
       "    }\n",
       "</style>\n",
       "<table border=\"1\" class=\"dataframe\">\n",
       "  <thead>\n",
       "    <tr style=\"text-align: right;\">\n",
       "      <th></th>\n",
       "      <th>Unnamed: 0</th>\n",
       "      <th>all_targets</th>\n",
       "      <th>all_preds</th>\n",
       "      <th>all_losses</th>\n",
       "      <th>mean_loss</th>\n",
       "      <th>all_bioactive_rank</th>\n",
       "      <th>median_bioactive_rank</th>\n",
       "      <th>bioactive_accuracy</th>\n",
       "      <th>n_bioactive</th>\n",
       "      <th>n_generated</th>\n",
       "      <th>generated_accuracy</th>\n",
       "      <th>ccdc_accuracy</th>\n",
       "      <th>n_heavy_atoms</th>\n",
       "      <th>n_rotatable_bonds</th>\n",
       "      <th>ef20_pred</th>\n",
       "      <th>ef20_ccdc</th>\n",
       "    </tr>\n",
       "  </thead>\n",
       "  <tbody>\n",
       "    <tr>\n",
       "      <th>0</th>\n",
       "      <td>COc1ccc(-c2cn(C)c(=O)c3cc(C(=O)NC4CCS(=O)(=O)C...</td>\n",
       "      <td>[0.0, 0.0, 0.0, 1.5365843, 1.2933521, 1.101103...</td>\n",
       "      <td>[0.37155512, 0.9122846, 0.37217087, 0.85298246...</td>\n",
       "      <td>[0.13805320858955383, 0.8322632312774658, 0.13...</td>\n",
       "      <td>0.38573</td>\n",
       "      <td>[ 4 62  5]</td>\n",
       "      <td>5.0</td>\n",
       "      <td>0.0</td>\n",
       "      <td>3.0</td>\n",
       "      <td>100.0</td>\n",
       "      <td>False</td>\n",
       "      <td>False</td>\n",
       "      <td>32.0</td>\n",
       "      <td>5.0</td>\n",
       "      <td>1.0</td>\n",
       "      <td>3.0</td>\n",
       "    </tr>\n",
       "  </tbody>\n",
       "</table>\n",
       "</div>"
      ],
      "text/plain": [
       "                                          Unnamed: 0  \\\n",
       "0  COc1ccc(-c2cn(C)c(=O)c3cc(C(=O)NC4CCS(=O)(=O)C...   \n",
       "\n",
       "                                         all_targets  \\\n",
       "0  [0.0, 0.0, 0.0, 1.5365843, 1.2933521, 1.101103...   \n",
       "\n",
       "                                           all_preds  \\\n",
       "0  [0.37155512, 0.9122846, 0.37217087, 0.85298246...   \n",
       "\n",
       "                                          all_losses  mean_loss  \\\n",
       "0  [0.13805320858955383, 0.8322632312774658, 0.13...    0.38573   \n",
       "\n",
       "  all_bioactive_rank  median_bioactive_rank  bioactive_accuracy  n_bioactive  \\\n",
       "0         [ 4 62  5]                    5.0                 0.0          3.0   \n",
       "\n",
       "   n_generated generated_accuracy ccdc_accuracy  n_heavy_atoms  \\\n",
       "0        100.0              False         False           32.0   \n",
       "\n",
       "   n_rotatable_bonds  ef20_pred  ef20_ccdc  \n",
       "0                5.0        1.0        3.0  "
      ]
     },
     "execution_count": 61,
     "metadata": {},
     "output_type": "execute_result"
    }
   ],
   "source": [
    "t.head(1)"
   ]
  },
  {
   "cell_type": "code",
   "execution_count": 77,
   "id": "6899887e-0409-47ac-a036-46ba3f7beb8f",
   "metadata": {},
   "outputs": [
    {
     "data": {
      "text/plain": [
       "1"
      ]
     },
     "execution_count": 77,
     "metadata": {},
     "output_type": "execute_result"
    }
   ],
   "source": []
  },
  {
   "cell_type": "code",
   "execution_count": 62,
   "id": "5ab3a94a-690c-4e71-a168-1950c1062d39",
   "metadata": {},
   "outputs": [],
   "source": [
    "data_dir = 'data/'\n",
    "pdbbind_refined_dir = '../PDBBind/PDBbind_v2020_refined/refined-set/'\n",
    "pdbbind_general_dir = '../PDBBind/PDBbind_v2020_other_PL/v2020-other-PL/'\n",
    "\n",
    "with open(os.path.join(data_dir, 'random_splits', f'test_smiles_random_split_0.txt'), 'r') as f :\n",
    "    test_smiles = f.readlines()\n",
    "    test_smiles = [smiles.strip() for smiles in test_smiles]\n",
    "    \n",
    "with open(os.path.join(data_dir, 'raw', 'ccdc_generated_conf_ensemble_library.p'), 'rb') as f :\n",
    "    cel = pickle.load(f)"
   ]
  },
  {
   "cell_type": "code",
   "execution_count": 63,
   "id": "78458e11-9f98-451f-84c7-110633778d4c",
   "metadata": {},
   "outputs": [],
   "source": [
    "encoder_path = os.path.join(data_dir, 'molecule_encoders.p')\n",
    "if os.path.exists(encoder_path) : # Load existing encoder\n",
    "    with open(encoder_path, 'rb') as f:\n",
    "        mol_encoders = pickle.load(f)\n",
    "mol_featurizer = MoleculeFeaturizer(mol_encoders)"
   ]
  },
  {
   "cell_type": "code",
   "execution_count": 78,
   "id": "35f4e393-af99-4b4b-ac37-2920c3b5d6c2",
   "metadata": {
    "scrolled": true,
    "tags": []
   },
   "outputs": [
    {
     "name": "stderr",
     "output_type": "stream",
     "text": [
      " 40%|███████████████▊                        | 644/1624 [00:36<00:55, 17.81it/s]RDKit ERROR: [18:10:03] UFFTYPER: Unrecognized charge state for atom: 11\n",
      "[18:10:03] UFFTYPER: Unrecognized charge state for atom: 11\n",
      "RDKit ERROR: [18:10:03] UFFTYPER: Unrecognized charge state for atom: 11\n",
      "RDKit ERROR: [18:10:03] UFFTYPER: Unrecognized charge state for atom: 11\n",
      "RDKit ERROR: [18:10:03] UFFTYPER: Unrecognized charge state for atom: 11\n",
      "[18:10:03] UFFTYPER: Unrecognized charge state for atom: 11\n",
      "[18:10:03] UFFTYPER: Unrecognized charge state for atom: 11\n",
      "[18:10:03] UFFTYPER: Unrecognized charge state for atom: 11\n",
      "RDKit ERROR: [18:10:03] UFFTYPER: Unrecognized charge state for atom: 11\n",
      "[18:10:03] UFFTYPER: Unrecognized charge state for atom: 11\n",
      "RDKit ERROR: [18:10:03] UFFTYPER: Unrecognized charge state for atom: 11\n",
      "[18:10:03] UFFTYPER: Unrecognized charge state for atom: 11\n",
      "RDKit ERROR: [18:10:03] UFFTYPER: Unrecognized charge state for atom: 11\n",
      "[18:10:03] UFFTYPER: Unrecognized charge state for atom: 11\n",
      " 79%|██████████████████████████████▉        | 1287/1624 [01:11<00:18, 17.77it/s]RDKit ERROR: [18:10:38] UFFTYPER: Unrecognized charge state for atom: 3\n",
      "[18:10:38] UFFTYPER: Unrecognized charge state for atom: 3\n",
      "RDKit ERROR: [18:10:38] UFFTYPER: Unrecognized charge state for atom: 3\n",
      "[18:10:38] UFFTYPER: Unrecognized charge state for atom: 3\n",
      "RDKit ERROR: [18:10:38] UFFTYPER: Unrecognized charge state for atom: 3\n",
      "RDKit ERROR: [18:10:38] UFFTYPER: Unrecognized charge state for atom: 3\n",
      "[18:10:38] UFFTYPER: Unrecognized charge state for atom: 3\n",
      "[18:10:38] UFFTYPER: Unrecognized charge state for atom: 3\n",
      "RDKit ERROR: [18:10:38] UFFTYPER: Unrecognized charge state for atom: 3\n",
      "[18:10:38] UFFTYPER: Unrecognized charge state for atom: 3\n",
      "RDKit ERROR: [18:10:38] UFFTYPER: Unrecognized charge state for atom: 3\n",
      "[18:10:38] UFFTYPER: Unrecognized charge state for atom: 3\n",
      "RDKit ERROR: [18:10:38] UFFTYPER: Unrecognized charge state for atom: 3\n",
      "RDKit ERROR: [18:10:38] UFFTYPER: Unrecognized charge state for atom: 3\n",
      "[18:10:38] UFFTYPER: Unrecognized charge state for atom: 3\n",
      "[18:10:38] UFFTYPER: Unrecognized charge state for atom: 3\n",
      "RDKit ERROR: [18:10:38] UFFTYPER: Unrecognized charge state for atom: 3\n",
      "RDKit ERROR: [18:10:38] UFFTYPER: Unrecognized charge state for atom: 3\n",
      "[18:10:38] UFFTYPER: Unrecognized charge state for atom: 3\n",
      "RDKit ERROR: [18:10:38] UFFTYPER: Unrecognized charge state for atom: 3\n",
      "[18:10:38] UFFTYPER: Unrecognized charge state for atom: 3\n",
      "[18:10:38] UFFTYPER: Unrecognized charge state for atom: 3\n",
      "RDKit ERROR: [18:10:38] UFFTYPER: Unrecognized charge state for atom: 3\n",
      "[18:10:38] UFFTYPER: Unrecognized charge state for atom: 3\n",
      "RDKit ERROR: [18:10:38] UFFTYPER: Unrecognized charge state for atom: 3\n",
      "RDKit ERROR: [18:10:38] UFFTYPER: Unrecognized charge state for atom: 3\n",
      "[18:10:38] UFFTYPER: Unrecognized charge state for atom: 3\n",
      "RDKit ERROR: [18:10:38] UFFTYPER: Unrecognized charge state for atom: 3\n",
      "RDKit ERROR: [18:10:38] UFFTYPER: Unrecognized charge state for atom: 3\n",
      "RDKit ERROR: [18:10:38] UFFTYPER: Unrecognized charge state for atom: 3\n",
      "RDKit ERROR: [18:10:38] UFFTYPER: Unrecognized charge state for atom: 3\n",
      "RDKit ERROR: [18:10:38] UFFTYPER: Unrecognized charge state for atom: 3\n",
      "[18:10:38] UFFTYPER: Unrecognized charge state for atom: 3\n",
      "[18:10:38] UFFTYPER: Unrecognized charge state for atom: 3\n",
      "[18:10:38] UFFTYPER: Unrecognized charge state for atom: 3\n",
      "[18:10:38] UFFTYPER: Unrecognized charge state for atom: 3\n",
      "[18:10:38] UFFTYPER: Unrecognized charge state for atom: 3\n",
      "[18:10:38] UFFTYPER: Unrecognized charge state for atom: 3\n",
      "RDKit ERROR: [18:10:38] UFFTYPER: Unrecognized charge state for atom: 3\n",
      "RDKit ERROR: [18:10:38] UFFTYPER: Unrecognized charge state for atom: 3\n",
      "[18:10:38] UFFTYPER: Unrecognized charge state for atom: 3\n",
      "RDKit ERROR: [18:10:38] UFFTYPER: Unrecognized charge state for atom: 3\n",
      "RDKit ERROR: [18:10:38] UFFTYPER: Unrecognized charge state for atom: 3\n",
      "[18:10:38] UFFTYPER: Unrecognized charge state for atom: 3\n",
      "RDKit ERROR: [18:10:38] UFFTYPER: Unrecognized charge state for atom: 3\n",
      "RDKit ERROR: [18:10:38] UFFTYPER: Unrecognized charge state for atom: 3\n",
      "[18:10:38] UFFTYPER: Unrecognized charge state for atom: 3\n",
      "[18:10:38] UFFTYPER: Unrecognized charge state for atom: 3\n",
      "RDKit ERROR: [18:10:38] UFFTYPER: Unrecognized charge state for atom: 3\n",
      "RDKit ERROR: [18:10:38] UFFTYPER: Unrecognized charge state for atom: 3\n",
      "[18:10:38] UFFTYPER: Unrecognized charge state for atom: 3\n",
      "[18:10:38] UFFTYPER: Unrecognized charge state for atom: 3\n",
      "RDKit ERROR: [18:10:38] UFFTYPER: Unrecognized charge state for atom: 3\n",
      "[18:10:38] UFFTYPER: Unrecognized charge state for atom: 3\n",
      "[18:10:38] UFFTYPER: Unrecognized charge state for atom: 3\n",
      "[18:10:38] UFFTYPER: Unrecognized charge state for atom: 3\n",
      "RDKit ERROR: [18:10:38] UFFTYPER: Unrecognized charge state for atom: 3\n",
      "[18:10:38] UFFTYPER: Unrecognized charge state for atom: 3\n",
      "RDKit ERROR: [18:10:38] UFFTYPER: Unrecognized charge state for atom: 3\n",
      "[18:10:38] UFFTYPER: Unrecognized charge state for atom: 3\n",
      "RDKit ERROR: [18:10:38] UFFTYPER: Unrecognized charge state for atom: 3\n",
      "[18:10:38] UFFTYPER: Unrecognized charge state for atom: 3\n",
      "RDKit ERROR: [18:10:38] UFFTYPER: Unrecognized charge state for atom: 3\n",
      "[18:10:38] UFFTYPER: Unrecognized charge state for atom: 3\n",
      "RDKit ERROR: [18:10:38] UFFTYPER: Unrecognized charge state for atom: 3\n",
      "[18:10:38] UFFTYPER: Unrecognized charge state for atom: 3\n",
      "100%|███████████████████████████████████████| 1624/1624 [01:29<00:00, 18.08it/s]\n",
      " 40%|███████████████▉                        | 646/1624 [00:38<01:04, 15.24it/s]RDKit ERROR: [18:11:34] UFFTYPER: Unrecognized charge state for atom: 11\n",
      "[18:11:34] UFFTYPER: Unrecognized charge state for atom: 11\n",
      "RDKit ERROR: [18:11:34] UFFTYPER: Unrecognized charge state for atom: 11\n",
      "RDKit ERROR: [18:11:34] UFFTYPER: Unrecognized charge state for atom: 11\n",
      "[18:11:34] UFFTYPER: Unrecognized charge state for atom: 11\n",
      "[18:11:34] UFFTYPER: Unrecognized charge state for atom: 11\n",
      "RDKit ERROR: [18:11:34] UFFTYPER: Unrecognized charge state for atom: 11\n",
      "[18:11:34] UFFTYPER: Unrecognized charge state for atom: 11\n",
      "RDKit ERROR: [18:11:34] UFFTYPER: Unrecognized charge state for atom: 11\n",
      "RDKit ERROR: [18:11:34] UFFTYPER: Unrecognized charge state for atom: 11\n",
      "[18:11:34] UFFTYPER: Unrecognized charge state for atom: 11\n",
      "[18:11:34] UFFTYPER: Unrecognized charge state for atom: 11\n",
      "RDKit ERROR: [18:11:34] UFFTYPER: Unrecognized charge state for atom: 11\n",
      "[18:11:34] UFFTYPER: Unrecognized charge state for atom: 11\n",
      " 79%|██████████████████████████████▉        | 1287/1624 [01:15<00:19, 17.48it/s]RDKit ERROR: [18:12:12] UFFTYPER: Unrecognized charge state for atom: 3\n",
      "[18:12:12] UFFTYPER: Unrecognized charge state for atom: 3\n",
      "RDKit ERROR: [18:12:12] UFFTYPER: Unrecognized charge state for atom: 3\n",
      "[18:12:12] UFFTYPER: Unrecognized charge state for atom: 3\n",
      "RDKit ERROR: [18:12:12] UFFTYPER: Unrecognized charge state for atom: 3\n",
      "[18:12:12] UFFTYPER: Unrecognized charge state for atom: 3\n",
      "RDKit ERROR: [18:12:12] UFFTYPER: Unrecognized charge state for atom: 3\n",
      "[18:12:12] UFFTYPER: Unrecognized charge state for atom: 3\n",
      "RDKit ERROR: [18:12:12] UFFTYPER: Unrecognized charge state for atom: 3\n",
      "RDKit ERROR: [18:12:12] UFFTYPER: Unrecognized charge state for atom: 3\n",
      "RDKit ERROR: [18:12:12] UFFTYPER: Unrecognized charge state for atom: 3\n",
      "[18:12:12] UFFTYPER: Unrecognized charge state for atom: 3\n",
      "[18:12:12] UFFTYPER: Unrecognized charge state for atom: 3\n",
      "RDKit ERROR: [18:12:12] UFFTYPER: Unrecognized charge state for atom: 3\n",
      "RDKit ERROR: [18:12:12] UFFTYPER: Unrecognized charge state for atom: 3\n",
      "[18:12:12] UFFTYPER: Unrecognized charge state for atom: 3\n",
      "[18:12:12] UFFTYPER: Unrecognized charge state for atom: 3\n",
      "[18:12:12] UFFTYPER: Unrecognized charge state for atom: 3\n",
      "RDKit ERROR: [18:12:12] UFFTYPER: Unrecognized charge state for atom: 3\n",
      "[18:12:12] UFFTYPER: Unrecognized charge state for atom: 3\n",
      "RDKit ERROR: [18:12:12] UFFTYPER: Unrecognized charge state for atom: 3\n",
      "[18:12:12] UFFTYPER: Unrecognized charge state for atom: 3\n",
      "RDKit ERROR: [18:12:12] UFFTYPER: Unrecognized charge state for atom: 3\n",
      "RDKit ERROR: [18:12:12] UFFTYPER: Unrecognized charge state for atom: 3\n",
      "[18:12:12] UFFTYPER: Unrecognized charge state for atom: 3\n",
      "[18:12:12] UFFTYPER: Unrecognized charge state for atom: 3\n",
      "RDKit ERROR: [18:12:12] UFFTYPER: Unrecognized charge state for atom: 3\n",
      "[18:12:12] UFFTYPER: Unrecognized charge state for atom: 3\n",
      "RDKit ERROR: [18:12:12] UFFTYPER: Unrecognized charge state for atom: 3\n",
      "[18:12:12] UFFTYPER: Unrecognized charge state for atom: 3\n",
      "RDKit ERROR: [18:12:12] UFFTYPER: Unrecognized charge state for atom: 3\n",
      "RDKit ERROR: [18:12:12] UFFTYPER: Unrecognized charge state for atom: 3\n",
      "[18:12:12] UFFTYPER: Unrecognized charge state for atom: 3\n",
      "[18:12:12] UFFTYPER: Unrecognized charge state for atom: 3\n",
      "RDKit ERROR: [18:12:12] UFFTYPER: Unrecognized charge state for atom: 3\n",
      "RDKit ERROR: [18:12:12] UFFTYPER: Unrecognized charge state for atom: 3\n",
      "[18:12:12] UFFTYPER: Unrecognized charge state for atom: 3\n",
      "[18:12:12] UFFTYPER: Unrecognized charge state for atom: 3\n",
      "RDKit ERROR: [18:12:12] UFFTYPER: Unrecognized charge state for atom: 3\n",
      "[18:12:12] UFFTYPER: Unrecognized charge state for atom: 3\n",
      "RDKit ERROR: [18:12:12] UFFTYPER: Unrecognized charge state for atom: 3\n",
      "[18:12:12] UFFTYPER: Unrecognized charge state for atom: 3\n",
      "RDKit ERROR: [18:12:12] UFFTYPER: Unrecognized charge state for atom: 3\n",
      "RDKit ERROR: [18:12:12] UFFTYPER: Unrecognized charge state for atom: 3\n",
      "RDKit ERROR: [18:12:12] UFFTYPER: Unrecognized charge state for atom: 3\n",
      "[18:12:12] UFFTYPER: Unrecognized charge state for atom: 3\n",
      "[18:12:12] UFFTYPER: Unrecognized charge state for atom: 3\n",
      "[18:12:12] UFFTYPER: Unrecognized charge state for atom: 3\n",
      "RDKit ERROR: [18:12:12] UFFTYPER: Unrecognized charge state for atom: 3\n",
      "RDKit ERROR: [18:12:12] UFFTYPER: Unrecognized charge state for atom: 3\n",
      "RDKit ERROR: [18:12:12] UFFTYPER: Unrecognized charge state for atom: 3\n",
      "[18:12:12] UFFTYPER: Unrecognized charge state for atom: 3\n",
      "[18:12:12] UFFTYPER: Unrecognized charge state for atom: 3\n",
      "[18:12:12] UFFTYPER: Unrecognized charge state for atom: 3\n",
      "RDKit ERROR: [18:12:12] UFFTYPER: Unrecognized charge state for atom: 3\n",
      "[18:12:12] UFFTYPER: Unrecognized charge state for atom: 3\n",
      "RDKit ERROR: [18:12:12] UFFTYPER: Unrecognized charge state for atom: 3\n",
      "[18:12:12] UFFTYPER: Unrecognized charge state for atom: 3\n",
      "RDKit ERROR: [18:12:12] UFFTYPER: Unrecognized charge state for atom: 3\n",
      "RDKit ERROR: [18:12:12] UFFTYPER: Unrecognized charge state for atom: 3\n",
      "[18:12:12] UFFTYPER: Unrecognized charge state for atom: 3\n",
      "RDKit ERROR: [18:12:12] UFFTYPER: Unrecognized charge state for atom: 3\n",
      "[18:12:12] UFFTYPER: Unrecognized charge state for atom: 3\n",
      "[18:12:12] UFFTYPER: Unrecognized charge state for atom: 3\n",
      "RDKit ERROR: [18:12:12] UFFTYPER: Unrecognized charge state for atom: 3\n",
      "[18:12:12] UFFTYPER: Unrecognized charge state for atom: 3\n",
      "100%|███████████████████████████████████████| 1624/1624 [01:33<00:00, 17.31it/s]\n",
      " 40%|███████████████▊                        | 644/1624 [00:37<00:55, 17.54it/s]RDKit ERROR: [18:13:08] UFFTYPER: Unrecognized charge state for atom: 11\n",
      "[18:13:08] UFFTYPER: Unrecognized charge state for atom: 11\n",
      "RDKit ERROR: [18:13:08] UFFTYPER: Unrecognized charge state for atom: 11\n",
      "[18:13:08] UFFTYPER: Unrecognized charge state for atom: 11\n",
      "RDKit ERROR: [18:13:08] UFFTYPER: Unrecognized charge state for atom: 11\n",
      "RDKit ERROR: [18:13:08] UFFTYPER: Unrecognized charge state for atom: 11\n",
      "[18:13:08] UFFTYPER: Unrecognized charge state for atom: 11\n",
      "[18:13:08] UFFTYPER: Unrecognized charge state for atom: 11\n",
      "RDKit ERROR: [18:13:08] UFFTYPER: Unrecognized charge state for atom: 11\n",
      "RDKit ERROR: [18:13:08] UFFTYPER: Unrecognized charge state for atom: 11\n",
      "RDKit ERROR: [18:13:08] UFFTYPER: Unrecognized charge state for atom: 11\n",
      "[18:13:08] UFFTYPER: Unrecognized charge state for atom: 11\n",
      "[18:13:08] UFFTYPER: Unrecognized charge state for atom: 11\n",
      "[18:13:08] UFFTYPER: Unrecognized charge state for atom: 11\n",
      " 79%|██████████████████████████████▉        | 1287/1624 [01:13<00:19, 17.73it/s]RDKit ERROR: [18:13:43] UFFTYPER: Unrecognized charge state for atom: 3\n",
      "[18:13:43] UFFTYPER: Unrecognized charge state for atom: 3\n",
      "RDKit ERROR: [18:13:43] UFFTYPER: Unrecognized charge state for atom: 3\n",
      "[18:13:43] UFFTYPER: Unrecognized charge state for atom: 3\n",
      "RDKit ERROR: [18:13:43] UFFTYPER: Unrecognized charge state for atom: 3\n",
      "RDKit ERROR: [18:13:43] UFFTYPER: Unrecognized charge state for atom: 3\n",
      "[18:13:43] UFFTYPER: Unrecognized charge state for atom: 3\n",
      "[18:13:43] UFFTYPER: Unrecognized charge state for atom: 3\n",
      "RDKit ERROR: [18:13:43] UFFTYPER: Unrecognized charge state for atom: 3\n",
      "RDKit ERROR: [18:13:43] UFFTYPER: Unrecognized charge state for atom: 3\n",
      "[18:13:43] UFFTYPER: Unrecognized charge state for atom: 3\n",
      "[18:13:43] UFFTYPER: Unrecognized charge state for atom: 3\n",
      "RDKit ERROR: [18:13:43] UFFTYPER: Unrecognized charge state for atom: 3\n",
      "RDKit ERROR: [18:13:43] UFFTYPER: Unrecognized charge state for atom: 3\n",
      "[18:13:43] UFFTYPER: Unrecognized charge state for atom: 3\n",
      "[18:13:43] UFFTYPER: Unrecognized charge state for atom: 3\n",
      "RDKit ERROR: [18:13:43] UFFTYPER: Unrecognized charge state for atom: 3\n",
      "RDKit ERROR: [18:13:43] UFFTYPER: Unrecognized charge state for atom: 3\n",
      "RDKit ERROR: [18:13:43] UFFTYPER: Unrecognized charge state for atom: 3\n",
      "[18:13:43] UFFTYPER: Unrecognized charge state for atom: 3\n",
      "[18:13:43] UFFTYPER: Unrecognized charge state for atom: 3\n",
      "RDKit ERROR: [18:13:43] UFFTYPER: Unrecognized charge state for atom: 3\n",
      "RDKit ERROR: [18:13:43] UFFTYPER: Unrecognized charge state for atom: 3\n",
      "RDKit ERROR: [18:13:43] UFFTYPER: Unrecognized charge state for atom: 3\n",
      "RDKit ERROR: [18:13:43] UFFTYPER: Unrecognized charge state for atom: 3\n",
      "[18:13:43] UFFTYPER: Unrecognized charge state for atom: 3\n",
      "[18:13:43] UFFTYPER: Unrecognized charge state for atom: 3\n",
      "[18:13:43] UFFTYPER: Unrecognized charge state for atom: 3\n",
      "[18:13:43] UFFTYPER: Unrecognized charge state for atom: 3\n",
      "[18:13:43] UFFTYPER: Unrecognized charge state for atom: 3\n",
      "RDKit ERROR: [18:13:43] UFFTYPER: Unrecognized charge state for atom: 3\n",
      "RDKit ERROR: [18:13:43] UFFTYPER: Unrecognized charge state for atom: 3\n",
      "[18:13:43] UFFTYPER: Unrecognized charge state for atom: 3\n",
      "[18:13:43] UFFTYPER: Unrecognized charge state for atom: 3\n",
      "RDKit ERROR: [18:13:43] UFFTYPER: Unrecognized charge state for atom: 3\n",
      "[18:13:43] UFFTYPER: Unrecognized charge state for atom: 3\n",
      "RDKit ERROR: [18:13:43] UFFTYPER: Unrecognized charge state for atom: 3\n",
      "RDKit ERROR: [18:13:43] UFFTYPER: Unrecognized charge state for atom: 3\n",
      "[18:13:43] UFFTYPER: Unrecognized charge state for atom: 3\n",
      "RDKit ERROR: [18:13:43] UFFTYPER: Unrecognized charge state for atom: 3\n",
      "[18:13:43] UFFTYPER: Unrecognized charge state for atom: 3\n",
      "RDKit ERROR: [18:13:43] UFFTYPER: Unrecognized charge state for atom: 3\n",
      "[18:13:43] UFFTYPER: Unrecognized charge state for atom: 3\n",
      "[18:13:43] UFFTYPER: Unrecognized charge state for atom: 3\n",
      "RDKit ERROR: [18:13:43] UFFTYPER: Unrecognized charge state for atom: 3\n",
      "[18:13:43] UFFTYPER: Unrecognized charge state for atom: 3\n",
      "RDKit ERROR: [18:13:43] UFFTYPER: Unrecognized charge state for atom: 3\n",
      "RDKit ERROR: [18:13:43] UFFTYPER: Unrecognized charge state for atom: 3\n",
      "[18:13:43] UFFTYPER: Unrecognized charge state for atom: 3\n",
      "[18:13:43] UFFTYPER: Unrecognized charge state for atom: 3\n",
      "RDKit ERROR: [18:13:43] UFFTYPER: Unrecognized charge state for atom: 3\n",
      "[18:13:43] UFFTYPER: Unrecognized charge state for atom: 3\n",
      "RDKit ERROR: [18:13:43] UFFTYPER: Unrecognized charge state for atom: 3\n",
      "[18:13:43] UFFTYPER: Unrecognized charge state for atom: 3\n",
      "RDKit ERROR: [18:13:43] UFFTYPER: Unrecognized charge state for atom: 3\n",
      "[18:13:43] UFFTYPER: Unrecognized charge state for atom: 3\n",
      "RDKit ERROR: [18:13:43] UFFTYPER: Unrecognized charge state for atom: 3\n",
      "[18:13:43] UFFTYPER: Unrecognized charge state for atom: 3\n",
      "RDKit ERROR: [18:13:43] UFFTYPER: Unrecognized charge state for atom: 3\n",
      "[18:13:43] UFFTYPER: Unrecognized charge state for atom: 3\n",
      "RDKit ERROR: [18:13:43] UFFTYPER: Unrecognized charge state for atom: 3\n",
      "[18:13:43] UFFTYPER: Unrecognized charge state for atom: 3\n",
      "RDKit ERROR: [18:13:43] UFFTYPER: Unrecognized charge state for atom: 3\n",
      "[18:13:43] UFFTYPER: Unrecognized charge state for atom: 3\n",
      "RDKit ERROR: [18:13:43] UFFTYPER: Unrecognized charge state for atom: 3\n",
      "[18:13:43] UFFTYPER: Unrecognized charge state for atom: 3\n",
      "100%|███████████████████████████████████████| 1624/1624 [01:31<00:00, 17.83it/s]\n",
      " 40%|███████████████▊                        | 644/1624 [00:37<00:56, 17.34it/s]RDKit ERROR: [18:14:39] UFFTYPER: Unrecognized charge state for atom: 11\n",
      "[18:14:39] UFFTYPER: Unrecognized charge state for atom: 11\n",
      "RDKit ERROR: [18:14:39] UFFTYPER: Unrecognized charge state for atom: 11\n",
      "RDKit ERROR: [18:14:39] UFFTYPER: Unrecognized charge state for atom: 11\n",
      "RDKit ERROR: [18:14:39] UFFTYPER: Unrecognized charge state for atom: 11\n",
      "RDKit ERROR: [18:14:39] UFFTYPER: Unrecognized charge state for atom: 11\n",
      "[18:14:39] UFFTYPER: Unrecognized charge state for atom: 11\n",
      "[18:14:39] UFFTYPER: Unrecognized charge state for atom: 11\n",
      "[18:14:39] UFFTYPER: Unrecognized charge state for atom: 11\n",
      "[18:14:39] UFFTYPER: Unrecognized charge state for atom: 11\n",
      "RDKit ERROR: [18:14:39] UFFTYPER: Unrecognized charge state for atom: 11\n",
      "[18:14:39] UFFTYPER: Unrecognized charge state for atom: 11\n",
      "RDKit ERROR: [18:14:39] UFFTYPER: Unrecognized charge state for atom: 11\n",
      "[18:14:39] UFFTYPER: Unrecognized charge state for atom: 11\n",
      " 79%|██████████████████████████████▉        | 1287/1624 [01:12<00:18, 17.77it/s]RDKit ERROR: [18:15:14] UFFTYPER: Unrecognized charge state for atom: 3\n",
      "[18:15:14] UFFTYPER: Unrecognized charge state for atom: 3\n",
      "RDKit ERROR: [18:15:14] UFFTYPER: Unrecognized charge state for atom: 3\n",
      "RDKit ERROR: [18:15:14] UFFTYPER: Unrecognized charge state for atom: 3\n",
      "[18:15:14] UFFTYPER: Unrecognized charge state for atom: 3\n",
      "RDKit ERROR: [18:15:14] UFFTYPER: Unrecognized charge state for atom: 3\n",
      "[18:15:14] UFFTYPER: Unrecognized charge state for atom: 3\n",
      "RDKit ERROR: [18:15:14] UFFTYPER: Unrecognized charge state for atom: 3\n",
      "[18:15:14] UFFTYPER: Unrecognized charge state for atom: 3\n",
      "[18:15:14] UFFTYPER: Unrecognized charge state for atom: 3\n",
      "RDKit ERROR: [18:15:14] UFFTYPER: Unrecognized charge state for atom: 3\n",
      "[18:15:14] UFFTYPER: Unrecognized charge state for atom: 3\n",
      "RDKit ERROR: [18:15:14] UFFTYPER: Unrecognized charge state for atom: 3\n",
      "[18:15:14] UFFTYPER: Unrecognized charge state for atom: 3\n",
      "RDKit ERROR: [18:15:14] UFFTYPER: Unrecognized charge state for atom: 3\n",
      "[18:15:14] UFFTYPER: Unrecognized charge state for atom: 3\n",
      "RDKit ERROR: [18:15:14] UFFTYPER: Unrecognized charge state for atom: 3\n",
      "RDKit ERROR: [18:15:14] UFFTYPER: Unrecognized charge state for atom: 3\n",
      "[18:15:14] UFFTYPER: Unrecognized charge state for atom: 3\n",
      "RDKit ERROR: [18:15:14] UFFTYPER: Unrecognized charge state for atom: 3\n",
      "RDKit ERROR: [18:15:14] UFFTYPER: Unrecognized charge state for atom: 3\n",
      "[18:15:14] UFFTYPER: Unrecognized charge state for atom: 3\n",
      "[18:15:14] UFFTYPER: Unrecognized charge state for atom: 3\n",
      "RDKit ERROR: [18:15:14] UFFTYPER: Unrecognized charge state for atom: 3\n",
      "RDKit ERROR: [18:15:14] UFFTYPER: Unrecognized charge state for atom: 3\n",
      "[18:15:14] UFFTYPER: Unrecognized charge state for atom: 3\n",
      "[18:15:14] UFFTYPER: Unrecognized charge state for atom: 3\n",
      "[18:15:14] UFFTYPER: Unrecognized charge state for atom: 3\n",
      "RDKit ERROR: [18:15:14] UFFTYPER: Unrecognized charge state for atom: 3\n",
      "[18:15:14] UFFTYPER: Unrecognized charge state for atom: 3\n",
      "RDKit ERROR: [18:15:14] UFFTYPER: Unrecognized charge state for atom: 3\n",
      "RDKit ERROR: [18:15:14] UFFTYPER: Unrecognized charge state for atom: 3\n",
      "[18:15:14] UFFTYPER: Unrecognized charge state for atom: 3\n",
      "[18:15:14] UFFTYPER: Unrecognized charge state for atom: 3\n",
      "RDKit ERROR: [18:15:14] UFFTYPER: Unrecognized charge state for atom: 3\n",
      "[18:15:14] UFFTYPER: Unrecognized charge state for atom: 3\n",
      "RDKit ERROR: [18:15:14] UFFTYPER: Unrecognized charge state for atom: 3\n",
      "[18:15:14] UFFTYPER: Unrecognized charge state for atom: 3\n",
      "RDKit ERROR: [18:15:14] UFFTYPER: Unrecognized charge state for atom: 3\n",
      "[18:15:14] UFFTYPER: Unrecognized charge state for atom: 3\n",
      "RDKit ERROR: [18:15:14] UFFTYPER: Unrecognized charge state for atom: 3\n",
      "[18:15:14] UFFTYPER: Unrecognized charge state for atom: 3\n",
      "RDKit ERROR: [18:15:14] UFFTYPER: Unrecognized charge state for atom: 3\n",
      "RDKit ERROR: [18:15:14] UFFTYPER: Unrecognized charge state for atom: 3\n",
      "[18:15:14] UFFTYPER: Unrecognized charge state for atom: 3\n",
      "RDKit ERROR: [18:15:14] UFFTYPER: Unrecognized charge state for atom: 3\n",
      "RDKit ERROR: [18:15:14] UFFTYPER: Unrecognized charge state for atom: 3\n",
      "[18:15:14] UFFTYPER: Unrecognized charge state for atom: 3\n",
      "[18:15:14] UFFTYPER: Unrecognized charge state for atom: 3\n",
      "[18:15:14] UFFTYPER: Unrecognized charge state for atom: 3\n",
      "RDKit ERROR: [18:15:14] UFFTYPER: Unrecognized charge state for atom: 3\n",
      "[18:15:14] UFFTYPER: Unrecognized charge state for atom: 3\n",
      "RDKit ERROR: [18:15:14] UFFTYPER: Unrecognized charge state for atom: 3\n",
      "[18:15:14] UFFTYPER: Unrecognized charge state for atom: 3\n",
      "RDKit ERROR: [18:15:14] UFFTYPER: Unrecognized charge state for atom: 3\n",
      "[18:15:14] UFFTYPER: Unrecognized charge state for atom: 3\n",
      "RDKit ERROR: [18:15:14] UFFTYPER: Unrecognized charge state for atom: 3\n",
      "[18:15:14] UFFTYPER: Unrecognized charge state for atom: 3\n",
      "RDKit ERROR: [18:15:14] UFFTYPER: Unrecognized charge state for atom: 3\n",
      "[18:15:14] UFFTYPER: Unrecognized charge state for atom: 3\n",
      "RDKit ERROR: [18:15:14] UFFTYPER: Unrecognized charge state for atom: 3\n",
      "[18:15:14] UFFTYPER: Unrecognized charge state for atom: 3\n",
      "RDKit ERROR: [18:15:14] UFFTYPER: Unrecognized charge state for atom: 3\n",
      "[18:15:14] UFFTYPER: Unrecognized charge state for atom: 3\n",
      "RDKit ERROR: [18:15:14] UFFTYPER: Unrecognized charge state for atom: 3\n",
      "[18:15:14] UFFTYPER: Unrecognized charge state for atom: 3\n",
      "100%|███████████████████████████████████████| 1624/1624 [01:30<00:00, 17.90it/s]\n",
      " 40%|███████████████▊                        | 644/1624 [00:37<00:56, 17.47it/s]RDKit ERROR: [18:16:10] UFFTYPER: Unrecognized charge state for atom: 11\n",
      "[18:16:10] UFFTYPER: Unrecognized charge state for atom: 11\n",
      "RDKit ERROR: [18:16:10] UFFTYPER: Unrecognized charge state for atom: 11\n",
      "RDKit ERROR: [18:16:10] UFFTYPER: Unrecognized charge state for atom: 11\n",
      "[18:16:10] UFFTYPER: Unrecognized charge state for atom: 11\n",
      "[18:16:10] UFFTYPER: Unrecognized charge state for atom: 11\n",
      "RDKit ERROR: [18:16:10] UFFTYPER: Unrecognized charge state for atom: 11\n",
      "RDKit ERROR: [18:16:10] UFFTYPER: Unrecognized charge state for atom: 11\n",
      "[18:16:10] UFFTYPER: Unrecognized charge state for atom: 11\n",
      "RDKit ERROR: [18:16:10] UFFTYPER: Unrecognized charge state for atom: 11\n",
      "RDKit ERROR: [18:16:10] UFFTYPER: Unrecognized charge state for atom: 11\n",
      "[18:16:10] UFFTYPER: Unrecognized charge state for atom: 11\n",
      "[18:16:10] UFFTYPER: Unrecognized charge state for atom: 11\n",
      "[18:16:10] UFFTYPER: Unrecognized charge state for atom: 11\n",
      " 79%|██████████████████████████████▉        | 1287/1624 [01:13<00:19, 17.30it/s]RDKit ERROR: [18:16:45] UFFTYPER: Unrecognized charge state for atom: 3\n",
      "[18:16:45] UFFTYPER: Unrecognized charge state for atom: 3\n",
      "RDKit ERROR: [18:16:45] UFFTYPER: Unrecognized charge state for atom: 3\n",
      "[18:16:45] UFFTYPER: Unrecognized charge state for atom: 3\n",
      "RDKit ERROR: [18:16:45] UFFTYPER: Unrecognized charge state for atom: 3\n",
      "RDKit ERROR: [18:16:45] UFFTYPER: Unrecognized charge state for atom: 3\n",
      "[18:16:45] UFFTYPER: Unrecognized charge state for atom: 3\n",
      "[18:16:45] UFFTYPER: Unrecognized charge state for atom: 3\n",
      "RDKit ERROR: [18:16:45] UFFTYPER: Unrecognized charge state for atom: 3\n",
      "[18:16:45] UFFTYPER: Unrecognized charge state for atom: 3\n",
      "RDKit ERROR: [18:16:45] UFFTYPER: Unrecognized charge state for atom: 3\n",
      "[18:16:45] UFFTYPER: Unrecognized charge state for atom: 3\n",
      "RDKit ERROR: [18:16:45] UFFTYPER: Unrecognized charge state for atom: 3\n",
      "RDKit ERROR: [18:16:45] UFFTYPER: Unrecognized charge state for atom: 3\n",
      "[18:16:45] UFFTYPER: Unrecognized charge state for atom: 3\n",
      "RDKit ERROR: [18:16:45] UFFTYPER: Unrecognized charge state for atom: 3\n",
      "[18:16:45] UFFTYPER: Unrecognized charge state for atom: 3\n",
      "RDKit ERROR: [18:16:45] UFFTYPER: Unrecognized charge state for atom: 3\n",
      "RDKit ERROR: [18:16:45] UFFTYPER: Unrecognized charge state for atom: 3\n",
      "[18:16:45] UFFTYPER: Unrecognized charge state for atom: 3\n",
      "[18:16:45] UFFTYPER: Unrecognized charge state for atom: 3\n",
      "[18:16:45] UFFTYPER: Unrecognized charge state for atom: 3\n",
      "RDKit ERROR: [18:16:45] UFFTYPER: Unrecognized charge state for atom: 3\n",
      "[18:16:45] UFFTYPER: Unrecognized charge state for atom: 3\n",
      "RDKit ERROR: [18:16:45] UFFTYPER: Unrecognized charge state for atom: 3\n",
      "[18:16:45] UFFTYPER: Unrecognized charge state for atom: 3\n",
      "RDKit ERROR: [18:16:45] UFFTYPER: Unrecognized charge state for atom: 3\n",
      "RDKit ERROR: [18:16:45] UFFTYPER: Unrecognized charge state for atom: 3\n",
      "[18:16:45] UFFTYPER: Unrecognized charge state for atom: 3\n",
      "[18:16:45] UFFTYPER: Unrecognized charge state for atom: 3\n",
      "RDKit ERROR: [18:16:45] UFFTYPER: Unrecognized charge state for atom: 3\n",
      "[18:16:45] UFFTYPER: Unrecognized charge state for atom: 3\n",
      "RDKit ERROR: [18:16:45] UFFTYPER: Unrecognized charge state for atom: 3\n",
      "RDKit ERROR: [18:16:45] UFFTYPER: Unrecognized charge state for atom: 3\n",
      "[18:16:45] UFFTYPER: Unrecognized charge state for atom: 3\n",
      "[18:16:45] UFFTYPER: Unrecognized charge state for atom: 3\n",
      "RDKit ERROR: [18:16:45] UFFTYPER: Unrecognized charge state for atom: 3\n",
      "RDKit ERROR: [18:16:45] UFFTYPER: Unrecognized charge state for atom: 3\n",
      "RDKit ERROR: [18:16:45] UFFTYPER: Unrecognized charge state for atom: 3\n",
      "[18:16:45] UFFTYPER: Unrecognized charge state for atom: 3\n",
      "[18:16:45] UFFTYPER: Unrecognized charge state for atom: 3\n",
      "[18:16:45] UFFTYPER: Unrecognized charge state for atom: 3\n",
      "RDKit ERROR: [18:16:45] UFFTYPER: Unrecognized charge state for atom: 3\n",
      "[18:16:45] UFFTYPER: Unrecognized charge state for atom: 3\n",
      "RDKit ERROR: [18:16:45] UFFTYPER: Unrecognized charge state for atom: 3\n",
      "[18:16:45] UFFTYPER: Unrecognized charge state for atom: 3\n",
      "RDKit ERROR: [18:16:45] UFFTYPER: Unrecognized charge state for atom: 3\n",
      "RDKit ERROR: [18:16:45] UFFTYPER: Unrecognized charge state for atom: 3\n",
      "[18:16:45] UFFTYPER: Unrecognized charge state for atom: 3\n",
      "[18:16:45] UFFTYPER: Unrecognized charge state for atom: 3\n",
      "RDKit ERROR: [18:16:45] UFFTYPER: Unrecognized charge state for atom: 3\n",
      "[18:16:45] UFFTYPER: Unrecognized charge state for atom: 3\n",
      "RDKit ERROR: [18:16:45] UFFTYPER: Unrecognized charge state for atom: 3\n",
      "[18:16:45] UFFTYPER: Unrecognized charge state for atom: 3\n",
      "RDKit ERROR: [18:16:45] UFFTYPER: Unrecognized charge state for atom: 3\n",
      "[18:16:45] UFFTYPER: Unrecognized charge state for atom: 3\n",
      "RDKit ERROR: [18:16:45] UFFTYPER: Unrecognized charge state for atom: 3\n",
      "[18:16:45] UFFTYPER: Unrecognized charge state for atom: 3\n",
      "RDKit ERROR: [18:16:45] UFFTYPER: Unrecognized charge state for atom: 3\n",
      "[18:16:45] UFFTYPER: Unrecognized charge state for atom: 3\n",
      "RDKit ERROR: [18:16:46] UFFTYPER: Unrecognized charge state for atom: 3\n",
      "[18:16:46] UFFTYPER: Unrecognized charge state for atom: 3\n",
      "RDKit ERROR: [18:16:46] UFFTYPER: Unrecognized charge state for atom: 3\n",
      "[18:16:46] UFFTYPER: Unrecognized charge state for atom: 3\n",
      "RDKit ERROR: [18:16:46] UFFTYPER: Unrecognized charge state for atom: 3\n",
      "[18:16:46] UFFTYPER: Unrecognized charge state for atom: 3\n",
      "100%|███████████████████████████████████████| 1624/1624 [01:31<00:00, 17.78it/s]\n",
      " 40%|███████████████▉                        | 646/1624 [00:38<01:05, 14.91it/s]RDKit ERROR: [18:17:42] UFFTYPER: Unrecognized charge state for atom: 11\n",
      "[18:17:42] UFFTYPER: Unrecognized charge state for atom: 11\n",
      "RDKit ERROR: [18:17:42] UFFTYPER: Unrecognized charge state for atom: 11\n",
      "RDKit ERROR: [18:17:42] UFFTYPER: Unrecognized charge state for atom: 11\n",
      "RDKit ERROR: [18:17:42] UFFTYPER: Unrecognized charge state for atom: 11\n",
      "[18:17:42] UFFTYPER: Unrecognized charge state for atom: 11\n",
      "[18:17:42] UFFTYPER: Unrecognized charge state for atom: 11\n",
      "RDKit ERROR: [18:17:42] UFFTYPER: Unrecognized charge state for atom: 11\n",
      "[18:17:42] UFFTYPER: Unrecognized charge state for atom: 11\n",
      "[18:17:42] UFFTYPER: Unrecognized charge state for atom: 11\n",
      "RDKit ERROR: [18:17:42] UFFTYPER: Unrecognized charge state for atom: 11\n",
      "RDKit ERROR: [18:17:42] UFFTYPER: Unrecognized charge state for atom: 11\n",
      "[18:17:42] UFFTYPER: Unrecognized charge state for atom: 11\n",
      "[18:17:42] UFFTYPER: Unrecognized charge state for atom: 11\n",
      " 79%|██████████████████████████████▉        | 1287/1624 [01:15<00:19, 17.25it/s]RDKit ERROR: [18:18:19] UFFTYPER: Unrecognized charge state for atom: 3\n",
      "[18:18:19] UFFTYPER: Unrecognized charge state for atom: 3\n",
      "RDKit ERROR: [18:18:19] UFFTYPER: Unrecognized charge state for atom: 3\n",
      "[18:18:19] UFFTYPER: Unrecognized charge state for atom: 3\n",
      "RDKit ERROR: [18:18:19] UFFTYPER: Unrecognized charge state for atom: 3\n",
      "[18:18:19] UFFTYPER: Unrecognized charge state for atom: 3\n",
      "RDKit ERROR: [18:18:19] UFFTYPER: Unrecognized charge state for atom: 3\n",
      "RDKit ERROR: [18:18:19] UFFTYPER: Unrecognized charge state for atom: 3\n",
      "[18:18:19] UFFTYPER: Unrecognized charge state for atom: 3\n",
      "RDKit ERROR: [18:18:19] UFFTYPER: Unrecognized charge state for atom: 3\n",
      "[18:18:19] UFFTYPER: Unrecognized charge state for atom: 3\n",
      "RDKit ERROR: [18:18:19] UFFTYPER: Unrecognized charge state for atom: 3\n",
      "RDKit ERROR: [18:18:19] UFFTYPER: Unrecognized charge state for atom: 3\n",
      "[18:18:19] UFFTYPER: Unrecognized charge state for atom: 3\n",
      "[18:18:19] UFFTYPER: Unrecognized charge state for atom: 3\n",
      "[18:18:19] UFFTYPER: Unrecognized charge state for atom: 3\n",
      "RDKit ERROR: [18:18:19] UFFTYPER: Unrecognized charge state for atom: 3\n",
      "[18:18:19] UFFTYPER: Unrecognized charge state for atom: 3\n",
      "RDKit ERROR: [18:18:19] UFFTYPER: Unrecognized charge state for atom: 3\n",
      "RDKit ERROR: [18:18:19] UFFTYPER: Unrecognized charge state for atom: 3\n",
      "[18:18:19] UFFTYPER: Unrecognized charge state for atom: 3\n",
      "[18:18:19] UFFTYPER: Unrecognized charge state for atom: 3\n",
      "RDKit ERROR: [18:18:19] UFFTYPER: Unrecognized charge state for atom: 3\n",
      "RDKit ERROR: [18:18:19] UFFTYPER: Unrecognized charge state for atom: 3\n",
      "RDKit ERROR: [18:18:19] UFFTYPER: Unrecognized charge state for atom: 3\n",
      "[18:18:19] UFFTYPER: Unrecognized charge state for atom: 3\n",
      "RDKit ERROR: [18:18:19] UFFTYPER: Unrecognized charge state for atom: 3\n",
      "[18:18:19] UFFTYPER: Unrecognized charge state for atom: 3\n",
      "[18:18:19] UFFTYPER: Unrecognized charge state for atom: 3\n",
      "RDKit ERROR: [18:18:19] UFFTYPER: Unrecognized charge state for atom: 3\n",
      "RDKit ERROR: [18:18:19] UFFTYPER: Unrecognized charge state for atom: 3\n",
      "RDKit ERROR: [18:18:19] UFFTYPER: Unrecognized charge state for atom: 3\n",
      "[18:18:19] UFFTYPER: Unrecognized charge state for atom: 3\n",
      "[18:18:19] UFFTYPER: Unrecognized charge state for atom: 3\n",
      "[18:18:19] UFFTYPER: Unrecognized charge state for atom: 3\n",
      "[18:18:19] UFFTYPER: Unrecognized charge state for atom: 3\n",
      "RDKit ERROR: [18:18:19] UFFTYPER: Unrecognized charge state for atom: 3\n",
      "RDKit ERROR: [18:18:19] UFFTYPER: Unrecognized charge state for atom: 3\n",
      "[18:18:19] UFFTYPER: Unrecognized charge state for atom: 3\n",
      "RDKit ERROR: [18:18:19] UFFTYPER: Unrecognized charge state for atom: 3\n",
      "RDKit ERROR: [18:18:19] UFFTYPER: Unrecognized charge state for atom: 3\n",
      "[18:18:19] UFFTYPER: Unrecognized charge state for atom: 3\n",
      "RDKit ERROR: [18:18:19] UFFTYPER: Unrecognized charge state for atom: 3\n",
      "RDKit ERROR: [18:18:19] UFFTYPER: Unrecognized charge state for atom: 3\n",
      "RDKit ERROR: [18:18:19] UFFTYPER: Unrecognized charge state for atom: 3\n",
      "RDKit ERROR: [18:18:19] UFFTYPER: Unrecognized charge state for atom: 3\n",
      "[18:18:19] UFFTYPER: Unrecognized charge state for atom: 3\n",
      "[18:18:19] UFFTYPER: Unrecognized charge state for atom: 3\n",
      "RDKit ERROR: [18:18:19] UFFTYPER: Unrecognized charge state for atom: 3\n",
      "RDKit ERROR: [18:18:19] UFFTYPER: Unrecognized charge state for atom: 3\n",
      "[18:18:19] UFFTYPER: Unrecognized charge state for atom: 3\n",
      "[18:18:19] UFFTYPER: Unrecognized charge state for atom: 3\n",
      "[18:18:19] UFFTYPER: Unrecognized charge state for atom: 3\n",
      "[18:18:19] UFFTYPER: Unrecognized charge state for atom: 3\n",
      "[18:18:19] UFFTYPER: Unrecognized charge state for atom: 3\n",
      "RDKit ERROR: [18:18:19] UFFTYPER: Unrecognized charge state for atom: 3\n",
      "[18:18:19] UFFTYPER: Unrecognized charge state for atom: 3\n",
      "[18:18:19] UFFTYPER: Unrecognized charge state for atom: 3\n",
      "RDKit ERROR: [18:18:19] UFFTYPER: Unrecognized charge state for atom: 3\n",
      "[18:18:19] UFFTYPER: Unrecognized charge state for atom: 3\n",
      "RDKit ERROR: [18:18:19] UFFTYPER: Unrecognized charge state for atom: 3\n",
      "RDKit ERROR: [18:18:19] UFFTYPER: Unrecognized charge state for atom: 3\n",
      "[18:18:19] UFFTYPER: Unrecognized charge state for atom: 3\n",
      "[18:18:19] UFFTYPER: Unrecognized charge state for atom: 3\n",
      "RDKit ERROR: [18:18:19] UFFTYPER: Unrecognized charge state for atom: 3\n",
      "[18:18:19] UFFTYPER: Unrecognized charge state for atom: 3\n",
      "100%|███████████████████████████████████████| 1624/1624 [01:33<00:00, 17.28it/s]\n",
      " 40%|███████████████▊                        | 644/1624 [00:37<00:55, 17.56it/s]RDKit ERROR: [18:19:15] UFFTYPER: Unrecognized charge state for atom: 11\n",
      "[18:19:15] UFFTYPER: Unrecognized charge state for atom: 11\n",
      "RDKit ERROR: [18:19:15] UFFTYPER: Unrecognized charge state for atom: 11\n",
      "[18:19:15] UFFTYPER: Unrecognized charge state for atom: 11\n",
      "RDKit ERROR: [18:19:15] UFFTYPER: Unrecognized charge state for atom: 11\n",
      "[18:19:15] UFFTYPER: Unrecognized charge state for atom: 11\n",
      "RDKit ERROR: [18:19:15] UFFTYPER: Unrecognized charge state for atom: 11\n",
      "[18:19:15] UFFTYPER: Unrecognized charge state for atom: 11\n",
      "RDKit ERROR: [18:19:15] UFFTYPER: Unrecognized charge state for atom: 11\n",
      "[18:19:15] UFFTYPER: Unrecognized charge state for atom: 11\n",
      "RDKit ERROR: [18:19:15] UFFTYPER: Unrecognized charge state for atom: 11\n",
      "RDKit ERROR: [18:19:15] UFFTYPER: Unrecognized charge state for atom: 11\n",
      "[18:19:15] UFFTYPER: Unrecognized charge state for atom: 11\n",
      "[18:19:15] UFFTYPER: Unrecognized charge state for atom: 11\n",
      " 79%|██████████████████████████████▉        | 1287/1624 [01:12<00:19, 17.70it/s]RDKit ERROR: [18:19:51] UFFTYPER: Unrecognized charge state for atom: 3\n",
      "[18:19:51] UFFTYPER: Unrecognized charge state for atom: 3\n",
      "RDKit ERROR: [18:19:51] UFFTYPER: Unrecognized charge state for atom: 3\n",
      "RDKit ERROR: [18:19:51] UFFTYPER: Unrecognized charge state for atom: 3\n",
      "RDKit ERROR: [18:19:51] UFFTYPER: Unrecognized charge state for atom: 3\n",
      "RDKit ERROR: [18:19:51] UFFTYPER: Unrecognized charge state for atom: 3\n",
      "RDKit ERROR: [18:19:51] UFFTYPER: Unrecognized charge state for atom: 3\n",
      "[18:19:51] UFFTYPER: Unrecognized charge state for atom: 3\n",
      "[18:19:51] UFFTYPER: Unrecognized charge state for atom: 3\n",
      "[18:19:51] UFFTYPER: Unrecognized charge state for atom: 3\n",
      "[18:19:51] UFFTYPER: Unrecognized charge state for atom: 3\n",
      "[18:19:51] UFFTYPER: Unrecognized charge state for atom: 3\n",
      "RDKit ERROR: [18:19:51] UFFTYPER: Unrecognized charge state for atom: 3\n",
      "RDKit ERROR: [18:19:51] UFFTYPER: Unrecognized charge state for atom: 3\n",
      "RDKit ERROR: [18:19:51] UFFTYPER: Unrecognized charge state for atom: 3\n",
      "RDKit ERROR: [18:19:51] UFFTYPER: Unrecognized charge state for atom: 3\n",
      "RDKit ERROR: [18:19:51] UFFTYPER: Unrecognized charge state for atom: 3\n",
      "RDKit ERROR: [18:19:51] UFFTYPER: Unrecognized charge state for atom: 3\n",
      "[18:19:51] UFFTYPER: Unrecognized charge state for atom: 3\n",
      "[18:19:51] UFFTYPER: Unrecognized charge state for atom: 3\n",
      "[18:19:51] UFFTYPER: Unrecognized charge state for atom: 3\n",
      "[18:19:51] UFFTYPER: Unrecognized charge state for atom: 3\n",
      "[18:19:51] UFFTYPER: Unrecognized charge state for atom: 3\n",
      "[18:19:51] UFFTYPER: Unrecognized charge state for atom: 3\n",
      "RDKit ERROR: [18:19:51] UFFTYPER: Unrecognized charge state for atom: 3\n",
      "[18:19:51] UFFTYPER: Unrecognized charge state for atom: 3\n",
      "RDKit ERROR: [18:19:51] UFFTYPER: Unrecognized charge state for atom: 3\n",
      "[18:19:51] UFFTYPER: Unrecognized charge state for atom: 3\n",
      "RDKit ERROR: [18:19:51] UFFTYPER: Unrecognized charge state for atom: 3\n",
      "RDKit ERROR: [18:19:51] UFFTYPER: Unrecognized charge state for atom: 3\n",
      "[18:19:51] UFFTYPER: Unrecognized charge state for atom: 3\n",
      "[18:19:51] UFFTYPER: Unrecognized charge state for atom: 3\n",
      "RDKit ERROR: [18:19:51] UFFTYPER: Unrecognized charge state for atom: 3\n",
      "[18:19:51] UFFTYPER: Unrecognized charge state for atom: 3\n",
      "RDKit ERROR: [18:19:51] UFFTYPER: Unrecognized charge state for atom: 3\n",
      "[18:19:51] UFFTYPER: Unrecognized charge state for atom: 3\n",
      "RDKit ERROR: [18:19:51] UFFTYPER: Unrecognized charge state for atom: 3\n",
      "[18:19:51] UFFTYPER: Unrecognized charge state for atom: 3\n",
      "RDKit ERROR: [18:19:51] UFFTYPER: Unrecognized charge state for atom: 3\n",
      "[18:19:51] UFFTYPER: Unrecognized charge state for atom: 3\n",
      "RDKit ERROR: [18:19:51] UFFTYPER: Unrecognized charge state for atom: 3\n",
      "[18:19:51] UFFTYPER: Unrecognized charge state for atom: 3\n",
      "RDKit ERROR: [18:19:51] UFFTYPER: Unrecognized charge state for atom: 3\n",
      "[18:19:51] UFFTYPER: Unrecognized charge state for atom: 3\n",
      "RDKit ERROR: [18:19:51] UFFTYPER: Unrecognized charge state for atom: 3\n",
      "[18:19:51] UFFTYPER: Unrecognized charge state for atom: 3\n",
      "RDKit ERROR: [18:19:51] UFFTYPER: Unrecognized charge state for atom: 3\n",
      "[18:19:51] UFFTYPER: Unrecognized charge state for atom: 3\n",
      "RDKit ERROR: [18:19:51] UFFTYPER: Unrecognized charge state for atom: 3\n",
      "[18:19:51] UFFTYPER: Unrecognized charge state for atom: 3\n",
      "RDKit ERROR: [18:19:51] UFFTYPER: Unrecognized charge state for atom: 3\n",
      "[18:19:51] UFFTYPER: Unrecognized charge state for atom: 3\n",
      "RDKit ERROR: [18:19:51] UFFTYPER: Unrecognized charge state for atom: 3\n",
      "[18:19:51] UFFTYPER: Unrecognized charge state for atom: 3\n",
      "RDKit ERROR: [18:19:51] UFFTYPER: Unrecognized charge state for atom: 3\n",
      "[18:19:51] UFFTYPER: Unrecognized charge state for atom: 3\n",
      "RDKit ERROR: [18:19:51] UFFTYPER: Unrecognized charge state for atom: 3\n",
      "RDKit ERROR: [18:19:51] UFFTYPER: Unrecognized charge state for atom: 3\n",
      "[18:19:51] UFFTYPER: Unrecognized charge state for atom: 3\n",
      "RDKit ERROR: [18:19:51] UFFTYPER: Unrecognized charge state for atom: 3\n",
      "[18:19:51] UFFTYPER: Unrecognized charge state for atom: 3\n",
      "[18:19:51] UFFTYPER: Unrecognized charge state for atom: 3\n",
      "RDKit ERROR: [18:19:51] UFFTYPER: Unrecognized charge state for atom: 3\n",
      "RDKit ERROR: [18:19:51] UFFTYPER: Unrecognized charge state for atom: 3\n",
      "[18:19:51] UFFTYPER: Unrecognized charge state for atom: 3\n",
      "[18:19:51] UFFTYPER: Unrecognized charge state for atom: 3\n",
      "100%|███████████████████████████████████████| 1624/1624 [01:30<00:00, 17.93it/s]\n",
      " 40%|███████████████▊                        | 644/1624 [00:37<00:55, 17.52it/s]RDKit ERROR: [18:20:46] UFFTYPER: Unrecognized charge state for atom: 11\n",
      "[18:20:46] UFFTYPER: Unrecognized charge state for atom: 11\n",
      "RDKit ERROR: [18:20:46] UFFTYPER: Unrecognized charge state for atom: 11\n",
      "RDKit ERROR: [18:20:46] UFFTYPER: Unrecognized charge state for atom: 11\n",
      "RDKit ERROR: [18:20:46] UFFTYPER: Unrecognized charge state for atom: 11\n",
      "RDKit ERROR: [18:20:46] UFFTYPER: Unrecognized charge state for atom: 11\n",
      "RDKit ERROR: [18:20:46] UFFTYPER: Unrecognized charge state for atom: 11\n",
      "RDKit ERROR: [18:20:46] UFFTYPER: Unrecognized charge state for atom: 11\n",
      "[18:20:46] UFFTYPER: Unrecognized charge state for atom: 11\n",
      "[18:20:46] UFFTYPER: Unrecognized charge state for atom: 11\n",
      "[18:20:46] UFFTYPER: Unrecognized charge state for atom: 11\n",
      "[18:20:46] UFFTYPER: Unrecognized charge state for atom: 11\n",
      "[18:20:46] UFFTYPER: Unrecognized charge state for atom: 11\n",
      "[18:20:46] UFFTYPER: Unrecognized charge state for atom: 11\n",
      " 79%|██████████████████████████████▉        | 1287/1624 [01:13<00:19, 16.90it/s]RDKit ERROR: [18:21:22] UFFTYPER: Unrecognized charge state for atom: 3\n",
      "[18:21:22] UFFTYPER: Unrecognized charge state for atom: 3\n",
      "RDKit ERROR: [18:21:22] UFFTYPER: Unrecognized charge state for atom: 3\n",
      "RDKit ERROR: [18:21:22] UFFTYPER: Unrecognized charge state for atom: 3\n",
      "RDKit ERROR: [18:21:22] UFFTYPER: Unrecognized charge state for atom: 3\n",
      "RDKit ERROR: [18:21:22] UFFTYPER: Unrecognized charge state for atom: 3\n",
      "RDKit ERROR: [18:21:22] UFFTYPER: Unrecognized charge state for atom: 3\n",
      "[18:21:22] UFFTYPER: Unrecognized charge state for atom: 3\n",
      "[18:21:22] UFFTYPER: Unrecognized charge state for atom: 3\n",
      "[18:21:22] UFFTYPER: Unrecognized charge state for atom: 3\n",
      "[18:21:22] UFFTYPER: Unrecognized charge state for atom: 3\n",
      "[18:21:22] UFFTYPER: Unrecognized charge state for atom: 3\n",
      "RDKit ERROR: [18:21:22] UFFTYPER: Unrecognized charge state for atom: 3\n",
      "[18:21:22] UFFTYPER: Unrecognized charge state for atom: 3\n",
      "RDKit ERROR: [18:21:22] UFFTYPER: Unrecognized charge state for atom: 3\n",
      "[18:21:22] UFFTYPER: Unrecognized charge state for atom: 3\n",
      "RDKit ERROR: [18:21:22] UFFTYPER: Unrecognized charge state for atom: 3\n",
      "RDKit ERROR: [18:21:22] UFFTYPER: Unrecognized charge state for atom: 3\n",
      "[18:21:22] UFFTYPER: Unrecognized charge state for atom: 3\n",
      "RDKit ERROR: [18:21:22] UFFTYPER: Unrecognized charge state for atom: 3\n",
      "RDKit ERROR: [18:21:22] UFFTYPER: Unrecognized charge state for atom: 3\n",
      "[18:21:22] UFFTYPER: Unrecognized charge state for atom: 3\n",
      "RDKit ERROR: [18:21:22] UFFTYPER: Unrecognized charge state for atom: 3\n",
      "RDKit ERROR: [18:21:22] UFFTYPER: Unrecognized charge state for atom: 3\n",
      "[18:21:22] UFFTYPER: Unrecognized charge state for atom: 3\n",
      "[18:21:22] UFFTYPER: Unrecognized charge state for atom: 3\n",
      "RDKit ERROR: [18:21:22] UFFTYPER: Unrecognized charge state for atom: 3\n",
      "[18:21:22] UFFTYPER: Unrecognized charge state for atom: 3\n",
      "[18:21:22] UFFTYPER: Unrecognized charge state for atom: 3\n",
      "[18:21:22] UFFTYPER: Unrecognized charge state for atom: 3\n",
      "RDKit ERROR: [18:21:22] UFFTYPER: Unrecognized charge state for atom: 3\n",
      "RDKit ERROR: [18:21:22] UFFTYPER: Unrecognized charge state for atom: 3\n",
      "[18:21:22] UFFTYPER: Unrecognized charge state for atom: 3\n",
      "[18:21:22] UFFTYPER: Unrecognized charge state for atom: 3\n",
      "RDKit ERROR: [18:21:22] UFFTYPER: Unrecognized charge state for atom: 3\n",
      "RDKit ERROR: [18:21:22] UFFTYPER: Unrecognized charge state for atom: 3\n",
      "[18:21:22] UFFTYPER: Unrecognized charge state for atom: 3\n",
      "RDKit ERROR: [18:21:22] UFFTYPER: Unrecognized charge state for atom: 3\n",
      "RDKit ERROR: [18:21:22] UFFTYPER: Unrecognized charge state for atom: 3\n",
      "[18:21:22] UFFTYPER: Unrecognized charge state for atom: 3\n",
      "[18:21:22] UFFTYPER: Unrecognized charge state for atom: 3\n",
      "[18:21:22] UFFTYPER: Unrecognized charge state for atom: 3\n",
      "RDKit ERROR: [18:21:22] UFFTYPER: Unrecognized charge state for atom: 3\n",
      "RDKit ERROR: [18:21:22] UFFTYPER: Unrecognized charge state for atom: 3\n",
      "[18:21:22] UFFTYPER: Unrecognized charge state for atom: 3\n",
      "[18:21:22] UFFTYPER: Unrecognized charge state for atom: 3\n",
      "RDKit ERROR: [18:21:22] UFFTYPER: Unrecognized charge state for atom: 3\n",
      "[18:21:22] UFFTYPER: Unrecognized charge state for atom: 3\n",
      "RDKit ERROR: [18:21:22] UFFTYPER: Unrecognized charge state for atom: 3\n",
      "[18:21:22] UFFTYPER: Unrecognized charge state for atom: 3\n",
      "RDKit ERROR: [18:21:22] UFFTYPER: Unrecognized charge state for atom: 3\n",
      "RDKit ERROR: [18:21:22] UFFTYPER: Unrecognized charge state for atom: 3\n",
      "RDKit ERROR: [18:21:22] UFFTYPER: Unrecognized charge state for atom: 3\n",
      "RDKit ERROR: [18:21:22] UFFTYPER: Unrecognized charge state for atom: 3\n",
      "[18:21:22] UFFTYPER: Unrecognized charge state for atom: 3\n",
      "[18:21:22] UFFTYPER: Unrecognized charge state for atom: 3\n",
      "[18:21:22] UFFTYPER: Unrecognized charge state for atom: 3\n",
      "[18:21:22] UFFTYPER: Unrecognized charge state for atom: 3\n",
      "RDKit ERROR: [18:21:22] UFFTYPER: Unrecognized charge state for atom: 3\n",
      "RDKit ERROR: [18:21:22] UFFTYPER: Unrecognized charge state for atom: 3\n",
      "[18:21:22] UFFTYPER: Unrecognized charge state for atom: 3\n",
      "[18:21:22] UFFTYPER: Unrecognized charge state for atom: 3\n",
      "RDKit ERROR: [18:21:22] UFFTYPER: Unrecognized charge state for atom: 3\n",
      "[18:21:22] UFFTYPER: Unrecognized charge state for atom: 3\n",
      "RDKit ERROR: [18:21:22] UFFTYPER: Unrecognized charge state for atom: 3\n",
      "[18:21:22] UFFTYPER: Unrecognized charge state for atom: 3\n",
      "100%|███████████████████████████████████████| 1624/1624 [01:31<00:00, 17.81it/s]\n",
      " 40%|███████████████▊                        | 644/1624 [00:37<00:55, 17.63it/s]RDKit ERROR: [18:22:17] UFFTYPER: Unrecognized charge state for atom: 11\n",
      "[18:22:17] UFFTYPER: Unrecognized charge state for atom: 11\n",
      "RDKit ERROR: [18:22:17] UFFTYPER: Unrecognized charge state for atom: 11\n",
      "RDKit ERROR: [18:22:17] UFFTYPER: Unrecognized charge state for atom: 11\n",
      "RDKit ERROR: [18:22:17] UFFTYPER: Unrecognized charge state for atom: 11\n",
      "RDKit ERROR: [18:22:17] UFFTYPER: Unrecognized charge state for atom: 11\n",
      "RDKit ERROR: [18:22:17] UFFTYPER: Unrecognized charge state for atom: 11\n",
      "RDKit ERROR: [18:22:17] UFFTYPER: Unrecognized charge state for atom: 11\n",
      "[18:22:17] UFFTYPER: Unrecognized charge state for atom: 11\n",
      "[18:22:17] UFFTYPER: Unrecognized charge state for atom: 11\n",
      "[18:22:17] UFFTYPER: Unrecognized charge state for atom: 11\n",
      "[18:22:17] UFFTYPER: Unrecognized charge state for atom: 11\n",
      "[18:22:17] UFFTYPER: Unrecognized charge state for atom: 11\n",
      "[18:22:17] UFFTYPER: Unrecognized charge state for atom: 11\n",
      " 79%|██████████████████████████████▉        | 1287/1624 [01:12<00:18, 17.80it/s]RDKit ERROR: [18:22:53] UFFTYPER: Unrecognized charge state for atom: 3\n",
      "[18:22:53] UFFTYPER: Unrecognized charge state for atom: 3\n",
      "RDKit ERROR: [18:22:53] UFFTYPER: Unrecognized charge state for atom: 3\n",
      "RDKit ERROR: [18:22:53] UFFTYPER: Unrecognized charge state for atom: 3\n",
      "RDKit ERROR: [18:22:53] UFFTYPER: Unrecognized charge state for atom: 3\n",
      "[18:22:53] UFFTYPER: Unrecognized charge state for atom: 3\n",
      "[18:22:53] UFFTYPER: Unrecognized charge state for atom: 3\n",
      "[18:22:53] UFFTYPER: Unrecognized charge state for atom: 3\n",
      "RDKit ERROR: [18:22:53] UFFTYPER: Unrecognized charge state for atom: 3\n",
      "RDKit ERROR: [18:22:53] UFFTYPER: Unrecognized charge state for atom: 3\n",
      "[18:22:53] UFFTYPER: Unrecognized charge state for atom: 3\n",
      "[18:22:53] UFFTYPER: Unrecognized charge state for atom: 3\n",
      "RDKit ERROR: [18:22:53] UFFTYPER: Unrecognized charge state for atom: 3\n",
      "RDKit ERROR: [18:22:53] UFFTYPER: Unrecognized charge state for atom: 3\n",
      "[18:22:53] UFFTYPER: Unrecognized charge state for atom: 3\n",
      "[18:22:53] UFFTYPER: Unrecognized charge state for atom: 3\n",
      "RDKit ERROR: [18:22:53] UFFTYPER: Unrecognized charge state for atom: 3\n",
      "RDKit ERROR: [18:22:53] UFFTYPER: Unrecognized charge state for atom: 3\n",
      "[18:22:53] UFFTYPER: Unrecognized charge state for atom: 3\n",
      "[18:22:53] UFFTYPER: Unrecognized charge state for atom: 3\n",
      "RDKit ERROR: [18:22:53] UFFTYPER: Unrecognized charge state for atom: 3\n",
      "RDKit ERROR: [18:22:53] UFFTYPER: Unrecognized charge state for atom: 3\n",
      "[18:22:53] UFFTYPER: Unrecognized charge state for atom: 3\n",
      "RDKit ERROR: [18:22:53] UFFTYPER: Unrecognized charge state for atom: 3\n",
      "[18:22:53] UFFTYPER: Unrecognized charge state for atom: 3\n",
      "RDKit ERROR: [18:22:53] UFFTYPER: Unrecognized charge state for atom: 3\n",
      "[18:22:53] UFFTYPER: Unrecognized charge state for atom: 3\n",
      "[18:22:53] UFFTYPER: Unrecognized charge state for atom: 3\n",
      "RDKit ERROR: [18:22:53] UFFTYPER: Unrecognized charge state for atom: 3\n",
      "[18:22:53] UFFTYPER: Unrecognized charge state for atom: 3\n",
      "RDKit ERROR: [18:22:53] UFFTYPER: Unrecognized charge state for atom: 3\n",
      "[18:22:53] UFFTYPER: Unrecognized charge state for atom: 3\n",
      "RDKit ERROR: [18:22:53] UFFTYPER: Unrecognized charge state for atom: 3\n",
      "[18:22:53] UFFTYPER: Unrecognized charge state for atom: 3\n",
      "RDKit ERROR: [18:22:53] UFFTYPER: Unrecognized charge state for atom: 3\n",
      "RDKit ERROR: [18:22:53] UFFTYPER: Unrecognized charge state for atom: 3\n",
      "[18:22:53] UFFTYPER: Unrecognized charge state for atom: 3\n",
      "RDKit ERROR: [18:22:53] UFFTYPER: Unrecognized charge state for atom: 3\n",
      "RDKit ERROR: [18:22:53] UFFTYPER: Unrecognized charge state for atom: 3\n",
      "RDKit ERROR: [18:22:53] UFFTYPER: Unrecognized charge state for atom: 3\n",
      "[18:22:53] UFFTYPER: Unrecognized charge state for atom: 3\n",
      "[18:22:53] UFFTYPER: Unrecognized charge state for atom: 3\n",
      "[18:22:53] UFFTYPER: Unrecognized charge state for atom: 3\n",
      "[18:22:53] UFFTYPER: Unrecognized charge state for atom: 3\n",
      "RDKit ERROR: [18:22:53] UFFTYPER: Unrecognized charge state for atom: 3\n",
      "RDKit ERROR: [18:22:53] UFFTYPER: Unrecognized charge state for atom: 3\n",
      "RDKit ERROR: [18:22:53] UFFTYPER: Unrecognized charge state for atom: 3\n",
      "RDKit ERROR: [18:22:53] UFFTYPER: Unrecognized charge state for atom: 3\n",
      "[18:22:53] UFFTYPER: Unrecognized charge state for atom: 3\n",
      "RDKit ERROR: [18:22:53] UFFTYPER: Unrecognized charge state for atom: 3\n",
      "[18:22:53] UFFTYPER: Unrecognized charge state for atom: 3\n",
      "[18:22:53] UFFTYPER: Unrecognized charge state for atom: 3\n",
      "[18:22:53] UFFTYPER: Unrecognized charge state for atom: 3\n",
      "RDKit ERROR: [18:22:53] UFFTYPER: Unrecognized charge state for atom: 3\n",
      "[18:22:53] UFFTYPER: Unrecognized charge state for atom: 3\n",
      "[18:22:53] UFFTYPER: Unrecognized charge state for atom: 3\n",
      "RDKit ERROR: [18:22:53] UFFTYPER: Unrecognized charge state for atom: 3\n",
      "[18:22:53] UFFTYPER: Unrecognized charge state for atom: 3\n",
      "RDKit ERROR: [18:22:53] UFFTYPER: Unrecognized charge state for atom: 3\n",
      "[18:22:53] UFFTYPER: Unrecognized charge state for atom: 3\n",
      "RDKit ERROR: [18:22:53] UFFTYPER: Unrecognized charge state for atom: 3\n",
      "RDKit ERROR: [18:22:53] UFFTYPER: Unrecognized charge state for atom: 3\n",
      "[18:22:53] UFFTYPER: Unrecognized charge state for atom: 3\n",
      "[18:22:53] UFFTYPER: Unrecognized charge state for atom: 3\n",
      "RDKit ERROR: [18:22:53] UFFTYPER: Unrecognized charge state for atom: 3\n",
      "[18:22:53] UFFTYPER: Unrecognized charge state for atom: 3\n",
      "100%|███████████████████████████████████████| 1624/1624 [01:30<00:00, 17.90it/s]\n",
      " 40%|███████████████▊                        | 644/1624 [00:38<00:56, 17.30it/s]RDKit ERROR: [18:23:49] UFFTYPER: Unrecognized charge state for atom: 11\n",
      "[18:23:49] UFFTYPER: Unrecognized charge state for atom: 11\n",
      "RDKit ERROR: [18:23:49] UFFTYPER: Unrecognized charge state for atom: 11\n",
      "RDKit ERROR: [18:23:49] UFFTYPER: Unrecognized charge state for atom: 11\n",
      "RDKit ERROR: [18:23:49] UFFTYPER: Unrecognized charge state for atom: 11\n",
      "RDKit ERROR: [18:23:49] UFFTYPER: Unrecognized charge state for atom: 11\n",
      "RDKit ERROR: [18:23:49] UFFTYPER: Unrecognized charge state for atom: 11\n",
      "[18:23:49] UFFTYPER: Unrecognized charge state for atom: 11\n",
      "[18:23:49] UFFTYPER: Unrecognized charge state for atom: 11\n",
      "[18:23:49] UFFTYPER: Unrecognized charge state for atom: 11\n",
      "RDKit ERROR: [18:23:49] UFFTYPER: Unrecognized charge state for atom: 11\n",
      "[18:23:49] UFFTYPER: Unrecognized charge state for atom: 11\n",
      "[18:23:49] UFFTYPER: Unrecognized charge state for atom: 11\n",
      " 40%|███████████████▉                        | 647/1624 [00:38<00:59, 16.36it/s][18:23:49] UFFTYPER: Unrecognized charge state for atom: 11\n",
      " 79%|██████████████████████████████▉        | 1287/1624 [01:14<00:19, 16.93it/s]RDKit ERROR: [18:24:25] UFFTYPER: Unrecognized charge state for atom: 3\n",
      "[18:24:25] UFFTYPER: Unrecognized charge state for atom: 3\n",
      "RDKit ERROR: [18:24:25] UFFTYPER: Unrecognized charge state for atom: 3\n",
      "RDKit ERROR: [18:24:25] UFFTYPER: Unrecognized charge state for atom: 3\n",
      "RDKit ERROR: [18:24:25] UFFTYPER: Unrecognized charge state for atom: 3\n",
      "[18:24:25] UFFTYPER: Unrecognized charge state for atom: 3\n",
      "[18:24:25] UFFTYPER: Unrecognized charge state for atom: 3\n",
      "[18:24:25] UFFTYPER: Unrecognized charge state for atom: 3\n",
      "RDKit ERROR: [18:24:25] UFFTYPER: Unrecognized charge state for atom: 3\n",
      "RDKit ERROR: [18:24:25] UFFTYPER: Unrecognized charge state for atom: 3\n",
      "[18:24:25] UFFTYPER: Unrecognized charge state for atom: 3\n",
      "[18:24:25] UFFTYPER: Unrecognized charge state for atom: 3\n",
      "RDKit ERROR: [18:24:25] UFFTYPER: Unrecognized charge state for atom: 3\n",
      "RDKit ERROR: [18:24:25] UFFTYPER: Unrecognized charge state for atom: 3\n",
      "[18:24:25] UFFTYPER: Unrecognized charge state for atom: 3\n",
      "RDKit ERROR: [18:24:25] UFFTYPER: Unrecognized charge state for atom: 3\n",
      "RDKit ERROR: [18:24:25] UFFTYPER: Unrecognized charge state for atom: 3\n",
      "[18:24:25] UFFTYPER: Unrecognized charge state for atom: 3\n",
      "RDKit ERROR: [18:24:25] UFFTYPER: Unrecognized charge state for atom: 3\n",
      "RDKit ERROR: [18:24:25] UFFTYPER: Unrecognized charge state for atom: 3\n",
      "[18:24:25] UFFTYPER: Unrecognized charge state for atom: 3\n",
      "[18:24:25] UFFTYPER: Unrecognized charge state for atom: 3\n",
      "RDKit ERROR: [18:24:25] UFFTYPER: Unrecognized charge state for atom: 3\n",
      "[18:24:25] UFFTYPER: Unrecognized charge state for atom: 3\n",
      "[18:24:25] UFFTYPER: Unrecognized charge state for atom: 3\n",
      "RDKit ERROR: [18:24:25] UFFTYPER: Unrecognized charge state for atom: 3\n",
      "[18:24:25] UFFTYPER: Unrecognized charge state for atom: 3\n",
      "[18:24:25] UFFTYPER: Unrecognized charge state for atom: 3\n",
      "RDKit ERROR: [18:24:25] UFFTYPER: Unrecognized charge state for atom: 3\n",
      "[18:24:25] UFFTYPER: Unrecognized charge state for atom: 3\n",
      "RDKit ERROR: [18:24:25] UFFTYPER: Unrecognized charge state for atom: 3\n",
      "[18:24:25] UFFTYPER: Unrecognized charge state for atom: 3\n",
      "RDKit ERROR: [18:24:25] UFFTYPER: Unrecognized charge state for atom: 3\n",
      "[18:24:25] UFFTYPER: Unrecognized charge state for atom: 3\n",
      "RDKit ERROR: [18:24:25] UFFTYPER: Unrecognized charge state for atom: 3\n",
      "RDKit ERROR: [18:24:25] UFFTYPER: Unrecognized charge state for atom: 3\n",
      "[18:24:25] UFFTYPER: Unrecognized charge state for atom: 3\n",
      "[18:24:25] UFFTYPER: Unrecognized charge state for atom: 3\n",
      "RDKit ERROR: [18:24:25] UFFTYPER: Unrecognized charge state for atom: 3\n",
      "[18:24:25] UFFTYPER: Unrecognized charge state for atom: 3\n",
      "RDKit ERROR: [18:24:25] UFFTYPER: Unrecognized charge state for atom: 3\n",
      "[18:24:25] UFFTYPER: Unrecognized charge state for atom: 3\n",
      "RDKit ERROR: [18:24:25] UFFTYPER: Unrecognized charge state for atom: 3\n",
      "RDKit ERROR: [18:24:25] UFFTYPER: Unrecognized charge state for atom: 3\n",
      "[18:24:25] UFFTYPER: Unrecognized charge state for atom: 3\n",
      "RDKit ERROR: [18:24:25] UFFTYPER: Unrecognized charge state for atom: 3\n",
      "[18:24:25] UFFTYPER: Unrecognized charge state for atom: 3\n",
      "[18:24:25] UFFTYPER: Unrecognized charge state for atom: 3\n",
      "RDKit ERROR: [18:24:25] UFFTYPER: Unrecognized charge state for atom: 3\n",
      "[18:24:25] UFFTYPER: Unrecognized charge state for atom: 3\n",
      "RDKit ERROR: [18:24:25] UFFTYPER: Unrecognized charge state for atom: 3\n",
      "[18:24:25] UFFTYPER: Unrecognized charge state for atom: 3\n",
      "RDKit ERROR: [18:24:25] UFFTYPER: Unrecognized charge state for atom: 3\n",
      "[18:24:25] UFFTYPER: Unrecognized charge state for atom: 3\n",
      "RDKit ERROR: [18:24:25] UFFTYPER: Unrecognized charge state for atom: 3\n",
      "RDKit ERROR: [18:24:25] UFFTYPER: Unrecognized charge state for atom: 3\n",
      "[18:24:25] UFFTYPER: Unrecognized charge state for atom: 3\n",
      "[18:24:25] UFFTYPER: Unrecognized charge state for atom: 3\n",
      "RDKit ERROR: [18:24:25] UFFTYPER: Unrecognized charge state for atom: 3\n",
      "[18:24:25] UFFTYPER: Unrecognized charge state for atom: 3\n",
      "RDKit ERROR: [18:24:25] UFFTYPER: Unrecognized charge state for atom: 3\n",
      "[18:24:25] UFFTYPER: Unrecognized charge state for atom: 3\n",
      "RDKit ERROR: [18:24:25] UFFTYPER: Unrecognized charge state for atom: 3\n",
      "[18:24:25] UFFTYPER: Unrecognized charge state for atom: 3\n",
      "RDKit ERROR: [18:24:25] UFFTYPER: Unrecognized charge state for atom: 3\n",
      "[18:24:25] UFFTYPER: Unrecognized charge state for atom: 3\n",
      "100%|███████████████████████████████████████| 1624/1624 [01:31<00:00, 17.68it/s]\n"
     ]
    }
   ],
   "source": [
    "active_ratio = 0.1\n",
    "regression_table = pd.DataFrame(columns=['split', 'average_type', 'rmse_all', 'rmse_gen', 'rmse_bio', 'r2_all', 'r2_gen', 'pearson_all', 'pearson_gen'])\n",
    "bioactive_accuracy_table = pd.DataFrame(columns=['split', 'top1_acc', 'topn_acc', 'q1', 'med', 'q3'])\n",
    "ranking_table = pd.DataFrame(columns=['split', 'ranker', 'ef20', 'bedroc'])\n",
    "\n",
    "rankers = ['ccdc', 'energy', 'random', 'model']\n",
    "splits = ['random', 'scaffold']\n",
    "iterations = range(5)\n",
    "bedrocs = defaultdict(dict)\n",
    "efs = defaultdict(dict)\n",
    "for ranker in rankers :\n",
    "    bedrocs[ranker] = defaultdict(dict)\n",
    "    efs[ranker] = defaultdict(dict)\n",
    "    for split in splits :\n",
    "        bedrocs[ranker][split] = defaultdict(list)\n",
    "        efs[ranker][split] = defaultdict(list)\n",
    "\n",
    "for split in splits :\n",
    "\n",
    "    for iteration in iterations :\n",
    "        \n",
    "        t = pd.read_csv(f'results/{split}_split_{iteration}_new_platinum')\n",
    "        t = t[(t['n_generated'] < 100) & (t['Unnamed: 0'] != 'Micro') & (t['n_generated'] > 1)]\n",
    "\n",
    "        top1_accuracies = []\n",
    "        bioactive_ranks = []\n",
    "        all_targets = []\n",
    "        all_preds = []\n",
    "        all_generated_targets = []\n",
    "        all_generated_energies = []\n",
    "        all_generated_preds = []\n",
    "        all_generated_activities = []\n",
    "        all_bioactive_preds = []\n",
    "        n_rotatable_bonds = []\n",
    "        relative_ranks_model = []\n",
    "        relative_ranks_ccdc = []\n",
    "        relative_ranks_random = []\n",
    "        r2s_all = []\n",
    "        r2s_gen = []\n",
    "        pearsons_all = []\n",
    "        pearsons_gen = []\n",
    "        spearmans_all = []\n",
    "        spearmans_gen = []\n",
    "        rmses_all = []\n",
    "        rmses_gen = []\n",
    "        rmses_bio = []\n",
    "        for mol_i in tqdm(range(len(t) - 1)) :\n",
    "\n",
    "            smiles = t.iloc[mol_i, 0]\n",
    "            ce = cel.get_conf_ensemble(smiles)\n",
    "            rdkit_mol = ce.mol\n",
    "            data_list = mol_featurizer.featurize_mol(rdkit_mol)\n",
    "            energies = [data.energy for data in data_list]\n",
    "            energies = np.array(energies)\n",
    "            \n",
    "            targets = json.loads(t.iloc[mol_i, 1])\n",
    "            targets = np.array(targets)\n",
    "            generated = targets != 0\n",
    "            generated_targets = targets[generated]\n",
    "            generated_energies = energies[generated]\n",
    "            \n",
    "            preds = json.loads(t.iloc[mol_i, 2])\n",
    "            preds = np.array(preds)\n",
    "            \n",
    "            all_targets.extend(targets)\n",
    "            all_preds.extend(preds)\n",
    "\n",
    "            r2s_all.append(r2_score(targets, preds))\n",
    "            pearsons_all.append(pearsonr(targets, preds)[0])\n",
    "            spearmans_all.append(spearmanr(targets, preds)[0])\n",
    "            rmses_all.append(mean_squared_error(targets, preds, squared=False))\n",
    "\n",
    "            is_bioactive = targets == 0\n",
    "            pred_ranks = preds.argsort().argsort()\n",
    "            bioactive_pred_ranks = pred_ranks[is_bioactive]\n",
    "            bioactive_ranks.extend(bioactive_pred_ranks.tolist())\n",
    "\n",
    "            top1_accuracies.append(0 in bioactive_pred_ranks)\n",
    "\n",
    "            generated_preds = preds[generated]\n",
    "            all_generated_targets.extend(generated_targets)\n",
    "            all_generated_energies.extend(generated_energies)\n",
    "            all_generated_preds.extend(generated_preds)\n",
    "\n",
    "            r2s_gen.append(r2_score(generated_targets, generated_preds))\n",
    "            pearsons_gen.append(pearsonr(generated_targets, generated_preds)[0])\n",
    "            spearmans_gen.append(spearmanr(generated_targets, generated_preds)[0])\n",
    "            rmses_gen.append(mean_squared_error(generated_targets, generated_preds, squared=False))\n",
    "            \n",
    "            bioactive_preds = preds[~generated]\n",
    "            all_bioactive_preds.extend(bioactive_preds)\n",
    "            rmses_bio.append(np.mean(bioactive_preds))\n",
    "\n",
    "            actives_i = np.argsort(generated_targets)[:int(len(generated_targets) * active_ratio)]\n",
    "            activity = [True if i in actives_i else False for i in range(len(generated_preds))]\n",
    "            all_generated_activities.extend(activity)\n",
    "            preds_array = np.array(list(zip(generated_preds, activity)))\n",
    "\n",
    "            relative_ranks_model.extend(generated_preds.argsort().argsort() / len(generated_preds))\n",
    "            ranks_ccdc = np.array(range(len(generated_preds)))\n",
    "            relative_ranks_ccdc.extend(ranks_ccdc / len(generated_preds))\n",
    "            np.random.shuffle(generated_preds)\n",
    "            relative_ranks_random.extend(generated_preds.argsort().argsort() / len(generated_preds))\n",
    "\n",
    "            ranked_lists = {}\n",
    "            \n",
    "            ranked_lists['ccdc'] = preds_array\n",
    "            \n",
    "            # Prediction ranking\n",
    "            sorting = np.argsort(preds_array[:, 0])\n",
    "            sorted_preds_array = preds_array[sorting]\n",
    "            ranked_lists['model'] = sorted_preds_array\n",
    "            \n",
    "            # Energy ranking\n",
    "            preds_array = np.array(list(zip(generated_energies, activity)))\n",
    "            sorting = np.argsort(preds_array[:, 0])\n",
    "            sorted_preds_array = preds_array[sorting]\n",
    "            ranked_lists['energy'] = sorted_preds_array\n",
    "\n",
    "            # Random ranking\n",
    "            random_preds_array = copy.deepcopy(preds_array)\n",
    "            rng.shuffle(random_preds_array)\n",
    "            ranked_lists['random'] = random_preds_array\n",
    "\n",
    "            for ranker in rankers :\n",
    "                efs[ranker][split][iteration].append(CalcEnrichment(ranked_lists[ranker], col=1, fractions=[0.2])[0])\n",
    "                bedrocs[ranker][split][iteration].append(CalcBEDROC(ranked_lists[ranker], col=1, alpha=20))\n",
    "            \n",
    "            n_rotatable_bonds.append(int(t.iloc[mol_i, 13]))\n",
    "\n",
    "        q1, med, q3 = np.quantile(bioactive_ranks, [0.25, 0.5, 0.75])\n",
    "\n",
    "        new_row = pd.Series({'split' : split,\n",
    "                              'top1_acc' : np.mean(top1_accuracies),\n",
    "                              'topn_acc' : np.mean(t['bioactive_accuracy']),\n",
    "                              'q1' : q1,\n",
    "                              'med' : med,\n",
    "                              'q3' : q3})\n",
    "        bioactive_accuracy_table = bioactive_accuracy_table.append(new_row, ignore_index=True)\n",
    "\n",
    "        for ranker in rankers :\n",
    "        \n",
    "            new_row = pd.Series({'split' : split,\n",
    "                                  'ranker' : ranker,\n",
    "                                  'ef20' : np.mean(efs[ranker][split][iteration]),\n",
    "                                  'bedroc' : np.mean(bedrocs[ranker][split][iteration])})\n",
    "            ranking_table = ranking_table.append(new_row, ignore_index=True)\n",
    "        \n",
    "        new_row = pd.Series({'split' : split,\n",
    "                             'average_type' : 'macro',\n",
    "                              'rmse_all' : np.mean(rmses_all),\n",
    "                              'rmse_gen' : np.mean(rmses_gen),\n",
    "                             'rmse_bio' : np.mean(rmses_bio),\n",
    "                              'r2_all' : np.mean(r2s_all),\n",
    "                              'r2_gen' : np.mean(r2s_gen),\n",
    "                                'pearson_all' : np.mean(pearsons_all),\n",
    "                            'pearson_gen' : np.mean(pearsons_gen),\n",
    "                            'spearman_all' : np.mean(spearmans_all),\n",
    "                            'spearman_gen' : np.mean(spearmans_gen)})\n",
    "        regression_table = regression_table.append(new_row, ignore_index=True)\n",
    "        \n",
    "        new_row = pd.Series({'split' : split,\n",
    "                             'average_type' : 'micro',\n",
    "                              'rmse_all' : mean_squared_error(all_targets, all_preds, squared=False),\n",
    "                              'rmse_gen' : mean_squared_error(all_generated_targets, all_generated_preds, squared=False),\n",
    "                              'rmse_bio' : np.mean(all_bioactive_preds),\n",
    "                              'r2_all' : r2_score(all_targets, all_preds),\n",
    "                              'r2_gen' : r2_score(all_generated_targets, all_generated_preds),\n",
    "                            'pearson_all' : pearsonr(all_targets, all_preds)[0],\n",
    "                            'pearson_gen' : pearsonr(all_generated_targets, all_generated_preds)[0],\n",
    "                            'spearman_all' : spearmanr(all_targets, all_preds)[0],\n",
    "                            'spearman_gen' : spearmanr(all_generated_targets, all_generated_preds)[0]})\n",
    "        regression_table = regression_table.append(new_row, ignore_index=True)"
   ]
  },
  {
   "cell_type": "code",
   "execution_count": 79,
   "id": "2ac2c96c-ca38-45a4-b2f4-313158fab3f7",
   "metadata": {},
   "outputs": [
    {
     "data": {
      "text/html": [
       "<div>\n",
       "<style scoped>\n",
       "    .dataframe tbody tr th:only-of-type {\n",
       "        vertical-align: middle;\n",
       "    }\n",
       "\n",
       "    .dataframe tbody tr th {\n",
       "        vertical-align: top;\n",
       "    }\n",
       "\n",
       "    .dataframe thead th {\n",
       "        text-align: right;\n",
       "    }\n",
       "</style>\n",
       "<table border=\"1\" class=\"dataframe\">\n",
       "  <thead>\n",
       "    <tr style=\"text-align: right;\">\n",
       "      <th></th>\n",
       "      <th>split</th>\n",
       "      <th>average_type</th>\n",
       "      <th>rmse_all</th>\n",
       "      <th>rmse_gen</th>\n",
       "      <th>rmse_bio</th>\n",
       "      <th>r2_all</th>\n",
       "      <th>r2_gen</th>\n",
       "      <th>pearson_all</th>\n",
       "      <th>pearson_gen</th>\n",
       "      <th>spearman_all</th>\n",
       "      <th>spearman_gen</th>\n",
       "    </tr>\n",
       "  </thead>\n",
       "  <tbody>\n",
       "    <tr>\n",
       "      <th>0</th>\n",
       "      <td>random</td>\n",
       "      <td>macro</td>\n",
       "      <td>0.456874</td>\n",
       "      <td>0.422776</td>\n",
       "      <td>0.682872</td>\n",
       "      <td>-1.024884</td>\n",
       "      <td>-86.106092</td>\n",
       "      <td>0.358306</td>\n",
       "      <td>0.311927</td>\n",
       "      <td>0.320130</td>\n",
       "      <td>0.298245</td>\n",
       "    </tr>\n",
       "    <tr>\n",
       "      <th>1</th>\n",
       "      <td>random</td>\n",
       "      <td>micro</td>\n",
       "      <td>0.525089</td>\n",
       "      <td>0.503089</td>\n",
       "      <td>0.694094</td>\n",
       "      <td>0.299567</td>\n",
       "      <td>0.264876</td>\n",
       "      <td>0.601735</td>\n",
       "      <td>0.590284</td>\n",
       "      <td>0.570782</td>\n",
       "      <td>0.555138</td>\n",
       "    </tr>\n",
       "    <tr>\n",
       "      <th>2</th>\n",
       "      <td>random</td>\n",
       "      <td>macro</td>\n",
       "      <td>0.433893</td>\n",
       "      <td>0.411008</td>\n",
       "      <td>0.602191</td>\n",
       "      <td>-0.709717</td>\n",
       "      <td>-27.790523</td>\n",
       "      <td>0.369537</td>\n",
       "      <td>0.322083</td>\n",
       "      <td>0.338095</td>\n",
       "      <td>0.307988</td>\n",
       "    </tr>\n",
       "    <tr>\n",
       "      <th>3</th>\n",
       "      <td>random</td>\n",
       "      <td>micro</td>\n",
       "      <td>0.497666</td>\n",
       "      <td>0.480927</td>\n",
       "      <td>0.612224</td>\n",
       "      <td>0.370817</td>\n",
       "      <td>0.328217</td>\n",
       "      <td>0.637814</td>\n",
       "      <td>0.630390</td>\n",
       "      <td>0.596335</td>\n",
       "      <td>0.582501</td>\n",
       "    </tr>\n",
       "    <tr>\n",
       "      <th>4</th>\n",
       "      <td>random</td>\n",
       "      <td>macro</td>\n",
       "      <td>0.478190</td>\n",
       "      <td>0.408928</td>\n",
       "      <td>0.897494</td>\n",
       "      <td>-1.399207</td>\n",
       "      <td>-1158.723898</td>\n",
       "      <td>0.274419</td>\n",
       "      <td>0.294521</td>\n",
       "      <td>0.255204</td>\n",
       "      <td>0.282477</td>\n",
       "    </tr>\n",
       "    <tr>\n",
       "      <th>5</th>\n",
       "      <td>random</td>\n",
       "      <td>micro</td>\n",
       "      <td>0.521226</td>\n",
       "      <td>0.485119</td>\n",
       "      <td>0.893635</td>\n",
       "      <td>0.309834</td>\n",
       "      <td>0.316453</td>\n",
       "      <td>0.599775</td>\n",
       "      <td>0.608493</td>\n",
       "      <td>0.567759</td>\n",
       "      <td>0.568874</td>\n",
       "    </tr>\n",
       "    <tr>\n",
       "      <th>6</th>\n",
       "      <td>random</td>\n",
       "      <td>macro</td>\n",
       "      <td>0.471076</td>\n",
       "      <td>0.404065</td>\n",
       "      <td>0.882613</td>\n",
       "      <td>-1.227271</td>\n",
       "      <td>-603.884317</td>\n",
       "      <td>0.289218</td>\n",
       "      <td>0.293188</td>\n",
       "      <td>0.276509</td>\n",
       "      <td>0.286290</td>\n",
       "    </tr>\n",
       "    <tr>\n",
       "      <th>7</th>\n",
       "      <td>random</td>\n",
       "      <td>micro</td>\n",
       "      <td>0.517724</td>\n",
       "      <td>0.481577</td>\n",
       "      <td>0.876915</td>\n",
       "      <td>0.319077</td>\n",
       "      <td>0.326398</td>\n",
       "      <td>0.601333</td>\n",
       "      <td>0.611515</td>\n",
       "      <td>0.573006</td>\n",
       "      <td>0.574671</td>\n",
       "    </tr>\n",
       "    <tr>\n",
       "      <th>8</th>\n",
       "      <td>random</td>\n",
       "      <td>macro</td>\n",
       "      <td>0.468277</td>\n",
       "      <td>0.407101</td>\n",
       "      <td>0.853066</td>\n",
       "      <td>-1.334685</td>\n",
       "      <td>-201.563012</td>\n",
       "      <td>0.288527</td>\n",
       "      <td>0.300405</td>\n",
       "      <td>0.281479</td>\n",
       "      <td>0.293929</td>\n",
       "    </tr>\n",
       "    <tr>\n",
       "      <th>9</th>\n",
       "      <td>random</td>\n",
       "      <td>micro</td>\n",
       "      <td>0.506614</td>\n",
       "      <td>0.471196</td>\n",
       "      <td>0.856901</td>\n",
       "      <td>0.347988</td>\n",
       "      <td>0.355126</td>\n",
       "      <td>0.612643</td>\n",
       "      <td>0.626218</td>\n",
       "      <td>0.571064</td>\n",
       "      <td>0.576015</td>\n",
       "    </tr>\n",
       "    <tr>\n",
       "      <th>10</th>\n",
       "      <td>scaffold</td>\n",
       "      <td>macro</td>\n",
       "      <td>0.452214</td>\n",
       "      <td>0.409445</td>\n",
       "      <td>0.749659</td>\n",
       "      <td>-0.829996</td>\n",
       "      <td>-241.186248</td>\n",
       "      <td>0.302733</td>\n",
       "      <td>0.265775</td>\n",
       "      <td>0.278494</td>\n",
       "      <td>0.250365</td>\n",
       "    </tr>\n",
       "    <tr>\n",
       "      <th>11</th>\n",
       "      <td>scaffold</td>\n",
       "      <td>micro</td>\n",
       "      <td>0.503654</td>\n",
       "      <td>0.478024</td>\n",
       "      <td>0.752257</td>\n",
       "      <td>0.355586</td>\n",
       "      <td>0.336302</td>\n",
       "      <td>0.614879</td>\n",
       "      <td>0.617180</td>\n",
       "      <td>0.562560</td>\n",
       "      <td>0.556456</td>\n",
       "    </tr>\n",
       "    <tr>\n",
       "      <th>12</th>\n",
       "      <td>scaffold</td>\n",
       "      <td>macro</td>\n",
       "      <td>0.458390</td>\n",
       "      <td>0.429645</td>\n",
       "      <td>0.665418</td>\n",
       "      <td>-0.880284</td>\n",
       "      <td>-155.623369</td>\n",
       "      <td>0.320436</td>\n",
       "      <td>0.281244</td>\n",
       "      <td>0.294937</td>\n",
       "      <td>0.268330</td>\n",
       "    </tr>\n",
       "    <tr>\n",
       "      <th>13</th>\n",
       "      <td>scaffold</td>\n",
       "      <td>micro</td>\n",
       "      <td>0.518328</td>\n",
       "      <td>0.500509</td>\n",
       "      <td>0.670031</td>\n",
       "      <td>0.317489</td>\n",
       "      <td>0.272397</td>\n",
       "      <td>0.607581</td>\n",
       "      <td>0.607690</td>\n",
       "      <td>0.546713</td>\n",
       "      <td>0.536950</td>\n",
       "    </tr>\n",
       "    <tr>\n",
       "      <th>14</th>\n",
       "      <td>scaffold</td>\n",
       "      <td>macro</td>\n",
       "      <td>0.507432</td>\n",
       "      <td>0.430506</td>\n",
       "      <td>0.981782</td>\n",
       "      <td>-1.910478</td>\n",
       "      <td>-359.202770</td>\n",
       "      <td>0.232463</td>\n",
       "      <td>0.239359</td>\n",
       "      <td>0.215341</td>\n",
       "      <td>0.225085</td>\n",
       "    </tr>\n",
       "    <tr>\n",
       "      <th>15</th>\n",
       "      <td>scaffold</td>\n",
       "      <td>micro</td>\n",
       "      <td>0.530863</td>\n",
       "      <td>0.488427</td>\n",
       "      <td>0.978516</td>\n",
       "      <td>0.284078</td>\n",
       "      <td>0.307101</td>\n",
       "      <td>0.572600</td>\n",
       "      <td>0.586418</td>\n",
       "      <td>0.533651</td>\n",
       "      <td>0.538231</td>\n",
       "    </tr>\n",
       "    <tr>\n",
       "      <th>16</th>\n",
       "      <td>scaffold</td>\n",
       "      <td>macro</td>\n",
       "      <td>0.476872</td>\n",
       "      <td>0.407727</td>\n",
       "      <td>0.914931</td>\n",
       "      <td>-1.270812</td>\n",
       "      <td>-634.414254</td>\n",
       "      <td>0.255172</td>\n",
       "      <td>0.272709</td>\n",
       "      <td>0.245855</td>\n",
       "      <td>0.259239</td>\n",
       "    </tr>\n",
       "    <tr>\n",
       "      <th>17</th>\n",
       "      <td>scaffold</td>\n",
       "      <td>micro</td>\n",
       "      <td>0.506777</td>\n",
       "      <td>0.466862</td>\n",
       "      <td>0.913111</td>\n",
       "      <td>0.347570</td>\n",
       "      <td>0.366935</td>\n",
       "      <td>0.611982</td>\n",
       "      <td>0.626372</td>\n",
       "      <td>0.568950</td>\n",
       "      <td>0.573338</td>\n",
       "    </tr>\n",
       "    <tr>\n",
       "      <th>18</th>\n",
       "      <td>scaffold</td>\n",
       "      <td>macro</td>\n",
       "      <td>0.508423</td>\n",
       "      <td>0.429513</td>\n",
       "      <td>0.981261</td>\n",
       "      <td>-1.913753</td>\n",
       "      <td>-26.480421</td>\n",
       "      <td>0.236897</td>\n",
       "      <td>0.256467</td>\n",
       "      <td>0.227779</td>\n",
       "      <td>0.239268</td>\n",
       "    </tr>\n",
       "    <tr>\n",
       "      <th>19</th>\n",
       "      <td>scaffold</td>\n",
       "      <td>micro</td>\n",
       "      <td>0.521607</td>\n",
       "      <td>0.478488</td>\n",
       "      <td>0.974106</td>\n",
       "      <td>0.308824</td>\n",
       "      <td>0.335014</td>\n",
       "      <td>0.598303</td>\n",
       "      <td>0.612703</td>\n",
       "      <td>0.554454</td>\n",
       "      <td>0.559114</td>\n",
       "    </tr>\n",
       "  </tbody>\n",
       "</table>\n",
       "</div>"
      ],
      "text/plain": [
       "       split average_type  rmse_all  rmse_gen  rmse_bio    r2_all  \\\n",
       "0     random        macro  0.456874  0.422776  0.682872 -1.024884   \n",
       "1     random        micro  0.525089  0.503089  0.694094  0.299567   \n",
       "2     random        macro  0.433893  0.411008  0.602191 -0.709717   \n",
       "3     random        micro  0.497666  0.480927  0.612224  0.370817   \n",
       "4     random        macro  0.478190  0.408928  0.897494 -1.399207   \n",
       "5     random        micro  0.521226  0.485119  0.893635  0.309834   \n",
       "6     random        macro  0.471076  0.404065  0.882613 -1.227271   \n",
       "7     random        micro  0.517724  0.481577  0.876915  0.319077   \n",
       "8     random        macro  0.468277  0.407101  0.853066 -1.334685   \n",
       "9     random        micro  0.506614  0.471196  0.856901  0.347988   \n",
       "10  scaffold        macro  0.452214  0.409445  0.749659 -0.829996   \n",
       "11  scaffold        micro  0.503654  0.478024  0.752257  0.355586   \n",
       "12  scaffold        macro  0.458390  0.429645  0.665418 -0.880284   \n",
       "13  scaffold        micro  0.518328  0.500509  0.670031  0.317489   \n",
       "14  scaffold        macro  0.507432  0.430506  0.981782 -1.910478   \n",
       "15  scaffold        micro  0.530863  0.488427  0.978516  0.284078   \n",
       "16  scaffold        macro  0.476872  0.407727  0.914931 -1.270812   \n",
       "17  scaffold        micro  0.506777  0.466862  0.913111  0.347570   \n",
       "18  scaffold        macro  0.508423  0.429513  0.981261 -1.913753   \n",
       "19  scaffold        micro  0.521607  0.478488  0.974106  0.308824   \n",
       "\n",
       "         r2_gen  pearson_all  pearson_gen  spearman_all  spearman_gen  \n",
       "0    -86.106092     0.358306     0.311927      0.320130      0.298245  \n",
       "1      0.264876     0.601735     0.590284      0.570782      0.555138  \n",
       "2    -27.790523     0.369537     0.322083      0.338095      0.307988  \n",
       "3      0.328217     0.637814     0.630390      0.596335      0.582501  \n",
       "4  -1158.723898     0.274419     0.294521      0.255204      0.282477  \n",
       "5      0.316453     0.599775     0.608493      0.567759      0.568874  \n",
       "6   -603.884317     0.289218     0.293188      0.276509      0.286290  \n",
       "7      0.326398     0.601333     0.611515      0.573006      0.574671  \n",
       "8   -201.563012     0.288527     0.300405      0.281479      0.293929  \n",
       "9      0.355126     0.612643     0.626218      0.571064      0.576015  \n",
       "10  -241.186248     0.302733     0.265775      0.278494      0.250365  \n",
       "11     0.336302     0.614879     0.617180      0.562560      0.556456  \n",
       "12  -155.623369     0.320436     0.281244      0.294937      0.268330  \n",
       "13     0.272397     0.607581     0.607690      0.546713      0.536950  \n",
       "14  -359.202770     0.232463     0.239359      0.215341      0.225085  \n",
       "15     0.307101     0.572600     0.586418      0.533651      0.538231  \n",
       "16  -634.414254     0.255172     0.272709      0.245855      0.259239  \n",
       "17     0.366935     0.611982     0.626372      0.568950      0.573338  \n",
       "18   -26.480421     0.236897     0.256467      0.227779      0.239268  \n",
       "19     0.335014     0.598303     0.612703      0.554454      0.559114  "
      ]
     },
     "execution_count": 79,
     "metadata": {},
     "output_type": "execute_result"
    }
   ],
   "source": [
    "regression_table"
   ]
  },
  {
   "cell_type": "code",
   "execution_count": 80,
   "id": "66517440-6893-44f7-b658-4d4264ba8211",
   "metadata": {},
   "outputs": [
    {
     "data": {
      "text/plain": [
       "<AxesSubplot:ylabel='Count'>"
      ]
     },
     "execution_count": 80,
     "metadata": {},
     "output_type": "execute_result"
    },
    {
     "data": {
      "image/png": "[encoded data removed]",
      "text/plain": [
       "<Figure size 432x288 with 1 Axes>"
      ]
     },
     "metadata": {
      "needs_background": "light"
     },
     "output_type": "display_data"
    }
   ],
   "source": [
    "sns.histplot(rmses_gen)"
   ]
  },
  {
   "cell_type": "code",
   "execution_count": 81,
   "id": "281edca4-e8ca-4bfc-ad77-11934a85f10a",
   "metadata": {},
   "outputs": [
    {
     "data": {
      "text/plain": [
       "<AxesSubplot:ylabel='Count'>"
      ]
     },
     "execution_count": 81,
     "metadata": {},
     "output_type": "execute_result"
    },
    {
     "data": {
      "image/png": "[encoded data removed]",
      "text/plain": [
       "<Figure size 432x288 with 1 Axes>"
      ]
     },
     "metadata": {
      "needs_background": "light"
     },
     "output_type": "display_data"
    }
   ],
   "source": [
    "sns.histplot(all_generated_preds)"
   ]
  },
  {
   "cell_type": "code",
   "execution_count": 82,
   "id": "7f0e90de-8273-49da-8ab2-91458822d2b9",
   "metadata": {},
   "outputs": [
    {
     "data": {
      "text/plain": [
       "<AxesSubplot:ylabel='Count'>"
      ]
     },
     "execution_count": 82,
     "metadata": {},
     "output_type": "execute_result"
    },
    {
     "data": {
      "image/png": "[encoded data removed]",
      "text/plain": [
       "<Figure size 432x288 with 1 Axes>"
      ]
     },
     "metadata": {
      "needs_background": "light"
     },
     "output_type": "display_data"
    }
   ],
   "source": [
    "sns.histplot(pearsons_gen)"
   ]
  },
  {
   "cell_type": "code",
   "execution_count": 83,
   "id": "98917e51-0937-4251-8bda-e9247998303b",
   "metadata": {},
   "outputs": [
    {
     "data": {
      "text/plain": [
       "<AxesSubplot:ylabel='Count'>"
      ]
     },
     "execution_count": 83,
     "metadata": {},
     "output_type": "execute_result"
    },
    {
     "data": {
      "image/png": "[encoded data removed]",
      "text/plain": [
       "<Figure size 432x288 with 1 Axes>"
      ]
     },
     "metadata": {
      "needs_background": "light"
     },
     "output_type": "display_data"
    }
   ],
   "source": [
    "sns.histplot(spearmans_gen)"
   ]
  },
  {
   "cell_type": "code",
   "execution_count": 84,
   "id": "31460747-7de2-4db2-87a8-d843a56e9f72",
   "metadata": {},
   "outputs": [
    {
     "data": {
      "text/plain": [
       "1.1875529768721753"
      ]
     },
     "execution_count": 84,
     "metadata": {},
     "output_type": "execute_result"
    }
   ],
   "source": [
    "np.mean(all_generated_targets)"
   ]
  },
  {
   "cell_type": "code",
   "execution_count": 85,
   "id": "e733082b-70e6-43db-b54b-f8d9e69aa179",
   "metadata": {},
   "outputs": [
    {
     "data": {
      "text/plain": [
       "0.5867652858837343"
      ]
     },
     "execution_count": 85,
     "metadata": {},
     "output_type": "execute_result"
    }
   ],
   "source": [
    "np.std(all_generated_targets)"
   ]
  },
  {
   "cell_type": "code",
   "execution_count": 86,
   "id": "db47602c-93f5-4f53-99d3-5db30aa06c76",
   "metadata": {},
   "outputs": [
    {
     "data": {
      "text/plain": [
       "<AxesSubplot:ylabel='Count'>"
      ]
     },
     "execution_count": 86,
     "metadata": {},
     "output_type": "execute_result"
    },
    {
     "data": {
      "image/png": "[encoded data removed]",
      "text/plain": [
       "<Figure size 432x288 with 1 Axes>"
      ]
     },
     "metadata": {
      "needs_background": "light"
     },
     "output_type": "display_data"
    }
   ],
   "source": [
    "sns.histplot(rmses_bio)"
   ]
  },
  {
   "cell_type": "code",
   "execution_count": 87,
   "id": "807186b6-5c1c-4fe5-890f-dcb77bd78793",
   "metadata": {},
   "outputs": [
    {
     "data": {
      "text/html": [
       "<div>\n",
       "<style scoped>\n",
       "    .dataframe tbody tr th:only-of-type {\n",
       "        vertical-align: middle;\n",
       "    }\n",
       "\n",
       "    .dataframe tbody tr th {\n",
       "        vertical-align: top;\n",
       "    }\n",
       "\n",
       "    .dataframe thead th {\n",
       "        text-align: right;\n",
       "    }\n",
       "</style>\n",
       "<table border=\"1\" class=\"dataframe\">\n",
       "  <thead>\n",
       "    <tr style=\"text-align: right;\">\n",
       "      <th></th>\n",
       "      <th>split</th>\n",
       "      <th>top1_acc</th>\n",
       "      <th>topn_acc</th>\n",
       "      <th>q1</th>\n",
       "      <th>med</th>\n",
       "      <th>q3</th>\n",
       "    </tr>\n",
       "  </thead>\n",
       "  <tbody>\n",
       "    <tr>\n",
       "      <th>0</th>\n",
       "      <td>random</td>\n",
       "      <td>0.340517</td>\n",
       "      <td>0.347339</td>\n",
       "      <td>0.0</td>\n",
       "      <td>2.0</td>\n",
       "      <td>7.0</td>\n",
       "    </tr>\n",
       "    <tr>\n",
       "      <th>1</th>\n",
       "      <td>random</td>\n",
       "      <td>0.370074</td>\n",
       "      <td>0.373185</td>\n",
       "      <td>0.0</td>\n",
       "      <td>2.0</td>\n",
       "      <td>7.0</td>\n",
       "    </tr>\n",
       "    <tr>\n",
       "      <th>2</th>\n",
       "      <td>random</td>\n",
       "      <td>0.165025</td>\n",
       "      <td>0.173544</td>\n",
       "      <td>2.0</td>\n",
       "      <td>4.0</td>\n",
       "      <td>12.0</td>\n",
       "    </tr>\n",
       "    <tr>\n",
       "      <th>3</th>\n",
       "      <td>random</td>\n",
       "      <td>0.181650</td>\n",
       "      <td>0.194186</td>\n",
       "      <td>1.0</td>\n",
       "      <td>4.0</td>\n",
       "      <td>11.0</td>\n",
       "    </tr>\n",
       "    <tr>\n",
       "      <th>4</th>\n",
       "      <td>random</td>\n",
       "      <td>0.190271</td>\n",
       "      <td>0.193336</td>\n",
       "      <td>1.0</td>\n",
       "      <td>4.0</td>\n",
       "      <td>11.0</td>\n",
       "    </tr>\n",
       "    <tr>\n",
       "      <th>5</th>\n",
       "      <td>scaffold</td>\n",
       "      <td>0.257389</td>\n",
       "      <td>0.263673</td>\n",
       "      <td>1.0</td>\n",
       "      <td>3.0</td>\n",
       "      <td>9.0</td>\n",
       "    </tr>\n",
       "    <tr>\n",
       "      <th>6</th>\n",
       "      <td>scaffold</td>\n",
       "      <td>0.274631</td>\n",
       "      <td>0.282264</td>\n",
       "      <td>1.0</td>\n",
       "      <td>3.0</td>\n",
       "      <td>9.0</td>\n",
       "    </tr>\n",
       "    <tr>\n",
       "      <th>7</th>\n",
       "      <td>scaffold</td>\n",
       "      <td>0.179187</td>\n",
       "      <td>0.184156</td>\n",
       "      <td>2.0</td>\n",
       "      <td>4.0</td>\n",
       "      <td>12.0</td>\n",
       "    </tr>\n",
       "    <tr>\n",
       "      <th>8</th>\n",
       "      <td>scaffold</td>\n",
       "      <td>0.171182</td>\n",
       "      <td>0.179980</td>\n",
       "      <td>1.0</td>\n",
       "      <td>4.0</td>\n",
       "      <td>12.0</td>\n",
       "    </tr>\n",
       "    <tr>\n",
       "      <th>9</th>\n",
       "      <td>scaffold</td>\n",
       "      <td>0.179187</td>\n",
       "      <td>0.183130</td>\n",
       "      <td>2.0</td>\n",
       "      <td>4.0</td>\n",
       "      <td>12.0</td>\n",
       "    </tr>\n",
       "  </tbody>\n",
       "</table>\n",
       "</div>"
      ],
      "text/plain": [
       "      split  top1_acc  topn_acc   q1  med    q3\n",
       "0    random  0.340517  0.347339  0.0  2.0   7.0\n",
       "1    random  0.370074  0.373185  0.0  2.0   7.0\n",
       "2    random  0.165025  0.173544  2.0  4.0  12.0\n",
       "3    random  0.181650  0.194186  1.0  4.0  11.0\n",
       "4    random  0.190271  0.193336  1.0  4.0  11.0\n",
       "5  scaffold  0.257389  0.263673  1.0  3.0   9.0\n",
       "6  scaffold  0.274631  0.282264  1.0  3.0   9.0\n",
       "7  scaffold  0.179187  0.184156  2.0  4.0  12.0\n",
       "8  scaffold  0.171182  0.179980  1.0  4.0  12.0\n",
       "9  scaffold  0.179187  0.183130  2.0  4.0  12.0"
      ]
     },
     "execution_count": 87,
     "metadata": {},
     "output_type": "execute_result"
    }
   ],
   "source": [
    "bioactive_accuracy_table"
   ]
  },
  {
   "cell_type": "code",
   "execution_count": 88,
   "id": "72b02b00-a204-41aa-a14d-87a5c71df522",
   "metadata": {},
   "outputs": [
    {
     "data": {
      "text/html": [
       "<div>\n",
       "<style scoped>\n",
       "    .dataframe tbody tr th:only-of-type {\n",
       "        vertical-align: middle;\n",
       "    }\n",
       "\n",
       "    .dataframe tbody tr th {\n",
       "        vertical-align: top;\n",
       "    }\n",
       "\n",
       "    .dataframe thead th {\n",
       "        text-align: right;\n",
       "    }\n",
       "</style>\n",
       "<table border=\"1\" class=\"dataframe\">\n",
       "  <thead>\n",
       "    <tr style=\"text-align: right;\">\n",
       "      <th></th>\n",
       "      <th>split</th>\n",
       "      <th>ranker</th>\n",
       "      <th>ef20</th>\n",
       "      <th>bedroc</th>\n",
       "    </tr>\n",
       "  </thead>\n",
       "  <tbody>\n",
       "    <tr>\n",
       "      <th>0</th>\n",
       "      <td>random</td>\n",
       "      <td>ccdc</td>\n",
       "      <td>1.203700</td>\n",
       "      <td>0.165467</td>\n",
       "    </tr>\n",
       "    <tr>\n",
       "      <th>1</th>\n",
       "      <td>random</td>\n",
       "      <td>energy</td>\n",
       "      <td>1.005381</td>\n",
       "      <td>0.122948</td>\n",
       "    </tr>\n",
       "    <tr>\n",
       "      <th>2</th>\n",
       "      <td>random</td>\n",
       "      <td>random</td>\n",
       "      <td>0.611728</td>\n",
       "      <td>0.060177</td>\n",
       "    </tr>\n",
       "    <tr>\n",
       "      <th>3</th>\n",
       "      <td>random</td>\n",
       "      <td>model</td>\n",
       "      <td>1.308093</td>\n",
       "      <td>0.170766</td>\n",
       "    </tr>\n",
       "    <tr>\n",
       "      <th>4</th>\n",
       "      <td>random</td>\n",
       "      <td>ccdc</td>\n",
       "      <td>1.203700</td>\n",
       "      <td>0.165467</td>\n",
       "    </tr>\n",
       "    <tr>\n",
       "      <th>5</th>\n",
       "      <td>random</td>\n",
       "      <td>energy</td>\n",
       "      <td>1.005381</td>\n",
       "      <td>0.122948</td>\n",
       "    </tr>\n",
       "    <tr>\n",
       "      <th>6</th>\n",
       "      <td>random</td>\n",
       "      <td>random</td>\n",
       "      <td>0.617985</td>\n",
       "      <td>0.066748</td>\n",
       "    </tr>\n",
       "    <tr>\n",
       "      <th>7</th>\n",
       "      <td>random</td>\n",
       "      <td>model</td>\n",
       "      <td>1.303375</td>\n",
       "      <td>0.170357</td>\n",
       "    </tr>\n",
       "    <tr>\n",
       "      <th>8</th>\n",
       "      <td>random</td>\n",
       "      <td>ccdc</td>\n",
       "      <td>1.203700</td>\n",
       "      <td>0.165467</td>\n",
       "    </tr>\n",
       "    <tr>\n",
       "      <th>9</th>\n",
       "      <td>random</td>\n",
       "      <td>energy</td>\n",
       "      <td>1.005381</td>\n",
       "      <td>0.122948</td>\n",
       "    </tr>\n",
       "    <tr>\n",
       "      <th>10</th>\n",
       "      <td>random</td>\n",
       "      <td>random</td>\n",
       "      <td>0.657470</td>\n",
       "      <td>0.064085</td>\n",
       "    </tr>\n",
       "    <tr>\n",
       "      <th>11</th>\n",
       "      <td>random</td>\n",
       "      <td>model</td>\n",
       "      <td>1.229305</td>\n",
       "      <td>0.158837</td>\n",
       "    </tr>\n",
       "    <tr>\n",
       "      <th>12</th>\n",
       "      <td>random</td>\n",
       "      <td>ccdc</td>\n",
       "      <td>1.203700</td>\n",
       "      <td>0.165467</td>\n",
       "    </tr>\n",
       "    <tr>\n",
       "      <th>13</th>\n",
       "      <td>random</td>\n",
       "      <td>energy</td>\n",
       "      <td>1.005381</td>\n",
       "      <td>0.122948</td>\n",
       "    </tr>\n",
       "    <tr>\n",
       "      <th>14</th>\n",
       "      <td>random</td>\n",
       "      <td>random</td>\n",
       "      <td>0.590930</td>\n",
       "      <td>0.066350</td>\n",
       "    </tr>\n",
       "    <tr>\n",
       "      <th>15</th>\n",
       "      <td>random</td>\n",
       "      <td>model</td>\n",
       "      <td>1.230219</td>\n",
       "      <td>0.159948</td>\n",
       "    </tr>\n",
       "    <tr>\n",
       "      <th>16</th>\n",
       "      <td>random</td>\n",
       "      <td>ccdc</td>\n",
       "      <td>1.203700</td>\n",
       "      <td>0.165467</td>\n",
       "    </tr>\n",
       "    <tr>\n",
       "      <th>17</th>\n",
       "      <td>random</td>\n",
       "      <td>energy</td>\n",
       "      <td>1.005381</td>\n",
       "      <td>0.122948</td>\n",
       "    </tr>\n",
       "    <tr>\n",
       "      <th>18</th>\n",
       "      <td>random</td>\n",
       "      <td>random</td>\n",
       "      <td>0.610731</td>\n",
       "      <td>0.065377</td>\n",
       "    </tr>\n",
       "    <tr>\n",
       "      <th>19</th>\n",
       "      <td>random</td>\n",
       "      <td>model</td>\n",
       "      <td>1.208292</td>\n",
       "      <td>0.157710</td>\n",
       "    </tr>\n",
       "    <tr>\n",
       "      <th>20</th>\n",
       "      <td>scaffold</td>\n",
       "      <td>ccdc</td>\n",
       "      <td>1.203700</td>\n",
       "      <td>0.165467</td>\n",
       "    </tr>\n",
       "    <tr>\n",
       "      <th>21</th>\n",
       "      <td>scaffold</td>\n",
       "      <td>energy</td>\n",
       "      <td>1.005381</td>\n",
       "      <td>0.122948</td>\n",
       "    </tr>\n",
       "    <tr>\n",
       "      <th>22</th>\n",
       "      <td>scaffold</td>\n",
       "      <td>random</td>\n",
       "      <td>0.628657</td>\n",
       "      <td>0.061388</td>\n",
       "    </tr>\n",
       "    <tr>\n",
       "      <th>23</th>\n",
       "      <td>scaffold</td>\n",
       "      <td>model</td>\n",
       "      <td>1.190182</td>\n",
       "      <td>0.150677</td>\n",
       "    </tr>\n",
       "    <tr>\n",
       "      <th>24</th>\n",
       "      <td>scaffold</td>\n",
       "      <td>ccdc</td>\n",
       "      <td>1.203700</td>\n",
       "      <td>0.165467</td>\n",
       "    </tr>\n",
       "    <tr>\n",
       "      <th>25</th>\n",
       "      <td>scaffold</td>\n",
       "      <td>energy</td>\n",
       "      <td>1.005381</td>\n",
       "      <td>0.122948</td>\n",
       "    </tr>\n",
       "    <tr>\n",
       "      <th>26</th>\n",
       "      <td>scaffold</td>\n",
       "      <td>random</td>\n",
       "      <td>0.585475</td>\n",
       "      <td>0.063498</td>\n",
       "    </tr>\n",
       "    <tr>\n",
       "      <th>27</th>\n",
       "      <td>scaffold</td>\n",
       "      <td>model</td>\n",
       "      <td>1.136828</td>\n",
       "      <td>0.140540</td>\n",
       "    </tr>\n",
       "    <tr>\n",
       "      <th>28</th>\n",
       "      <td>scaffold</td>\n",
       "      <td>ccdc</td>\n",
       "      <td>1.203700</td>\n",
       "      <td>0.165467</td>\n",
       "    </tr>\n",
       "    <tr>\n",
       "      <th>29</th>\n",
       "      <td>scaffold</td>\n",
       "      <td>energy</td>\n",
       "      <td>1.005381</td>\n",
       "      <td>0.122948</td>\n",
       "    </tr>\n",
       "    <tr>\n",
       "      <th>30</th>\n",
       "      <td>scaffold</td>\n",
       "      <td>random</td>\n",
       "      <td>0.636643</td>\n",
       "      <td>0.065720</td>\n",
       "    </tr>\n",
       "    <tr>\n",
       "      <th>31</th>\n",
       "      <td>scaffold</td>\n",
       "      <td>model</td>\n",
       "      <td>1.013460</td>\n",
       "      <td>0.119377</td>\n",
       "    </tr>\n",
       "    <tr>\n",
       "      <th>32</th>\n",
       "      <td>scaffold</td>\n",
       "      <td>ccdc</td>\n",
       "      <td>1.203700</td>\n",
       "      <td>0.165467</td>\n",
       "    </tr>\n",
       "    <tr>\n",
       "      <th>33</th>\n",
       "      <td>scaffold</td>\n",
       "      <td>energy</td>\n",
       "      <td>1.005381</td>\n",
       "      <td>0.122948</td>\n",
       "    </tr>\n",
       "    <tr>\n",
       "      <th>34</th>\n",
       "      <td>scaffold</td>\n",
       "      <td>random</td>\n",
       "      <td>0.550544</td>\n",
       "      <td>0.063345</td>\n",
       "    </tr>\n",
       "    <tr>\n",
       "      <th>35</th>\n",
       "      <td>scaffold</td>\n",
       "      <td>model</td>\n",
       "      <td>1.160075</td>\n",
       "      <td>0.139642</td>\n",
       "    </tr>\n",
       "    <tr>\n",
       "      <th>36</th>\n",
       "      <td>scaffold</td>\n",
       "      <td>ccdc</td>\n",
       "      <td>1.203700</td>\n",
       "      <td>0.165467</td>\n",
       "    </tr>\n",
       "    <tr>\n",
       "      <th>37</th>\n",
       "      <td>scaffold</td>\n",
       "      <td>energy</td>\n",
       "      <td>1.005381</td>\n",
       "      <td>0.122948</td>\n",
       "    </tr>\n",
       "    <tr>\n",
       "      <th>38</th>\n",
       "      <td>scaffold</td>\n",
       "      <td>random</td>\n",
       "      <td>0.647381</td>\n",
       "      <td>0.063831</td>\n",
       "    </tr>\n",
       "    <tr>\n",
       "      <th>39</th>\n",
       "      <td>scaffold</td>\n",
       "      <td>model</td>\n",
       "      <td>1.117984</td>\n",
       "      <td>0.138525</td>\n",
       "    </tr>\n",
       "  </tbody>\n",
       "</table>\n",
       "</div>"
      ],
      "text/plain": [
       "       split  ranker      ef20    bedroc\n",
       "0     random    ccdc  1.203700  0.165467\n",
       "1     random  energy  1.005381  0.122948\n",
       "2     random  random  0.611728  0.060177\n",
       "3     random   model  1.308093  0.170766\n",
       "4     random    ccdc  1.203700  0.165467\n",
       "5     random  energy  1.005381  0.122948\n",
       "6     random  random  0.617985  0.066748\n",
       "7     random   model  1.303375  0.170357\n",
       "8     random    ccdc  1.203700  0.165467\n",
       "9     random  energy  1.005381  0.122948\n",
       "10    random  random  0.657470  0.064085\n",
       "11    random   model  1.229305  0.158837\n",
       "12    random    ccdc  1.203700  0.165467\n",
       "13    random  energy  1.005381  0.122948\n",
       "14    random  random  0.590930  0.066350\n",
       "15    random   model  1.230219  0.159948\n",
       "16    random    ccdc  1.203700  0.165467\n",
       "17    random  energy  1.005381  0.122948\n",
       "18    random  random  0.610731  0.065377\n",
       "19    random   model  1.208292  0.157710\n",
       "20  scaffold    ccdc  1.203700  0.165467\n",
       "21  scaffold  energy  1.005381  0.122948\n",
       "22  scaffold  random  0.628657  0.061388\n",
       "23  scaffold   model  1.190182  0.150677\n",
       "24  scaffold    ccdc  1.203700  0.165467\n",
       "25  scaffold  energy  1.005381  0.122948\n",
       "26  scaffold  random  0.585475  0.063498\n",
       "27  scaffold   model  1.136828  0.140540\n",
       "28  scaffold    ccdc  1.203700  0.165467\n",
       "29  scaffold  energy  1.005381  0.122948\n",
       "30  scaffold  random  0.636643  0.065720\n",
       "31  scaffold   model  1.013460  0.119377\n",
       "32  scaffold    ccdc  1.203700  0.165467\n",
       "33  scaffold  energy  1.005381  0.122948\n",
       "34  scaffold  random  0.550544  0.063345\n",
       "35  scaffold   model  1.160075  0.139642\n",
       "36  scaffold    ccdc  1.203700  0.165467\n",
       "37  scaffold  energy  1.005381  0.122948\n",
       "38  scaffold  random  0.647381  0.063831\n",
       "39  scaffold   model  1.117984  0.138525"
      ]
     },
     "execution_count": 88,
     "metadata": {},
     "output_type": "execute_result"
    }
   ],
   "source": [
    "ranking_table"
   ]
  },
  {
   "cell_type": "code",
   "execution_count": 89,
   "id": "49b7e369-27b0-4145-99ea-bc2ee0e9865b",
   "metadata": {},
   "outputs": [
    {
     "data": {
      "text/plain": [
       "<AxesSubplot:xlabel='ranker', ylabel='ef20'>"
      ]
     },
     "execution_count": 89,
     "metadata": {},
     "output_type": "execute_result"
    },
    {
     "data": {
      "image/png": "[encoded data removed]",
      "text/plain": [
       "<Figure size 432x288 with 1 Axes>"
      ]
     },
     "metadata": {
      "needs_background": "light"
     },
     "output_type": "display_data"
    }
   ],
   "source": [
    "sns.boxplot(data=ranking_table, x='ranker', y='ef20', hue='split')"
   ]
  },
  {
   "cell_type": "code",
   "execution_count": 90,
   "id": "2788178b-5ae8-4118-b9cc-21f8e3344afa",
   "metadata": {},
   "outputs": [
    {
     "data": {
      "text/plain": [
       "<AxesSubplot:xlabel='ranker', ylabel='bedroc'>"
      ]
     },
     "execution_count": 90,
     "metadata": {},
     "output_type": "execute_result"
    },
    {
     "data": {
      "image/png": "[encoded data removed]",
      "text/plain": [
       "<Figure size 432x288 with 1 Axes>"
      ]
     },
     "metadata": {
      "needs_background": "light"
     },
     "output_type": "display_data"
    }
   ],
   "source": [
    "sns.boxplot(data=ranking_table, x='ranker', y='bedroc', hue='split')"
   ]
  },
  {
   "cell_type": "code",
   "execution_count": 91,
   "id": "9578d8e1-493c-4779-b128-291a83d5a979",
   "metadata": {},
   "outputs": [
    {
     "data": {
      "text/plain": [
       "<AxesSubplot:xlabel='ranker', ylabel='bedroc'>"
      ]
     },
     "execution_count": 91,
     "metadata": {},
     "output_type": "execute_result"
    },
    {
     "data": {
      "image/png": "[encoded data removed]",
      "text/plain": [
       "<Figure size 432x288 with 1 Axes>"
      ]
     },
     "metadata": {
      "needs_background": "light"
     },
     "output_type": "display_data"
    }
   ],
   "source": [
    "sns.boxplot(data=ranking_table, x='ranker', y='bedroc', hue='split')"
   ]
  },
  {
   "cell_type": "code",
   "execution_count": 92,
   "id": "27ce86f3-a091-4c22-8c66-0ada05cf4d2c",
   "metadata": {},
   "outputs": [
    {
     "data": {
      "text/plain": [
       "<AxesSubplot:ylabel='Count'>"
      ]
     },
     "execution_count": 92,
     "metadata": {},
     "output_type": "execute_result"
    },
    {
     "data": {
      "image/png": "[encoded data removed]",
      "text/plain": [
       "<Figure size 720x360 with 1 Axes>"
      ]
     },
     "metadata": {
      "needs_background": "light"
     },
     "output_type": "display_data"
    }
   ],
   "source": [
    "plt.figure(figsize=(10, 5))\n",
    "sns.histplot(bioactive_ranks, bins=100)"
   ]
  },
  {
   "cell_type": "code",
   "execution_count": null,
   "id": "a9142044-f1d9-4b64-bb67-5112df1bfc8f",
   "metadata": {},
   "outputs": [],
   "source": []
  },
  {
   "cell_type": "code",
   "execution_count": null,
   "id": "3c236b8e-7ec8-4c19-91cf-da474b195031",
   "metadata": {},
   "outputs": [],
   "source": []
  },
  {
   "cell_type": "markdown",
   "id": "80cdefdd-f329-4d1d-9e4d-f742418d21be",
   "metadata": {},
   "source": [
    "The issue is that we can't rank conformations with CCDC from different molecules.\n",
    "In practice, we would rank conformations for the same molecule."
   ]
  },
  {
   "cell_type": "code",
   "execution_count": 24,
   "id": "e5ff4cab-3f84-4689-aaea-8c89c46b70cf",
   "metadata": {},
   "outputs": [
    {
     "name": "stderr",
     "output_type": "stream",
     "text": [
      "100%|███████████████████████████████████████| 100/100 [00:00<00:00, 2080.01it/s]\n"
     ]
    }
   ],
   "source": [
    "thresholds = [n for n in np.arange(0, 1, 0.01)]\n",
    "retrieved_ccdc = []\n",
    "retrieved_model = []\n",
    "retrieved_random = []\n",
    "relative_ranks_ccdc = np.array(relative_ranks_ccdc)\n",
    "relative_ranks_model = np.array(relative_ranks_model)\n",
    "relative_ranks_random = np.array(relative_ranks_random)\n",
    "all_generated_activities = np.array(all_generated_activities)\n",
    "n_actives = all_generated_activities.sum()\n",
    "for threshold in tqdm(thresholds) :\n",
    "    ccdc_below_threshold = relative_ranks_ccdc < threshold\n",
    "    retrieved_ccdc.append((all_generated_activities * ccdc_below_threshold).sum() / n_actives)\n",
    "    model_below_threshold = relative_ranks_model < threshold\n",
    "    retrieved_model.append((all_generated_activities * model_below_threshold).sum() / n_actives)\n",
    "    random_below_threshold = relative_ranks_random < threshold\n",
    "    retrieved_random.append((all_generated_activities * random_below_threshold).sum() / n_actives)"
   ]
  },
  {
   "cell_type": "code",
   "execution_count": 25,
   "id": "19c6afca-9c2b-4b76-ad81-e8dc379f567e",
   "metadata": {},
   "outputs": [
    {
     "data": {
      "text/plain": [
       "<matplotlib.legend.Legend at 0x7f8670bebe90>"
      ]
     },
     "execution_count": 25,
     "metadata": {},
     "output_type": "execute_result"
    },
    {
     "data": {
      "image/png": "[encoded data removed]",
      "text/plain": [
       "<Figure size 504x504 with 1 Axes>"
      ]
     },
     "metadata": {
      "needs_background": "light"
     },
     "output_type": "display_data"
    }
   ],
   "source": [
    "plt.figure(figsize=(7,7))\n",
    "plt.plot(thresholds, retrieved_model, label='model')\n",
    "plt.plot(thresholds, retrieved_ccdc, label='ccdc')\n",
    "plt.plot(thresholds, retrieved_random, label='random')\n",
    "plt.xlabel('Relative rank')\n",
    "plt.ylabel('Fraction recovered')\n",
    "plt.legend()"
   ]
  },
  {
   "cell_type": "code",
   "execution_count": 26,
   "id": "1e97ae44-e1b5-4931-80c9-19d15424fd7a",
   "metadata": {},
   "outputs": [],
   "source": [
    "preds_array = np.array(list(zip(all_preds, all_generated_activities)))\n",
    "sorting = np.argsort(preds_array[:, 0])\n",
    "sorted_preds_array = preds_array[sorting]"
   ]
  },
  {
   "cell_type": "code",
   "execution_count": 27,
   "id": "65f5ced2-630c-492f-ac3c-d8257f35c334",
   "metadata": {},
   "outputs": [
    {
     "data": {
      "text/plain": [
       "<AxesSubplot:ylabel='Count'>"
      ]
     },
     "execution_count": 27,
     "metadata": {},
     "output_type": "execute_result"
    },
    {
     "data": {
      "image/png": "[encoded data removed]",
      "text/plain": [
       "<Figure size 432x288 with 1 Axes>"
      ]
     },
     "metadata": {
      "needs_background": "light"
     },
     "output_type": "display_data"
    }
   ],
   "source": [
    "sns.histplot(x=preds_array[:,0], hue=preds_array[:,1], bins=40)"
   ]
  },
  {
   "cell_type": "code",
   "execution_count": 28,
   "id": "b32ab5a7-12d2-4c6b-9095-587deb7b7dce",
   "metadata": {},
   "outputs": [
    {
     "data": {
      "text/plain": [
       "<AxesSubplot:>"
      ]
     },
     "execution_count": 28,
     "metadata": {},
     "output_type": "execute_result"
    },
    {
     "data": {
      "image/png": "[encoded data removed]",
      "text/plain": [
       "<Figure size 432x288 with 1 Axes>"
      ]
     },
     "metadata": {
      "needs_background": "light"
     },
     "output_type": "display_data"
    }
   ],
   "source": [
    "sns.boxplot(x=n_rotatable_bonds, y=bedrocs_model)"
   ]
  },
  {
   "cell_type": "code",
   "execution_count": 29,
   "id": "71ca08a6-7639-4633-8b37-4c92b7cc6e0c",
   "metadata": {},
   "outputs": [
    {
     "data": {
      "text/plain": [
       "<AxesSubplot:>"
      ]
     },
     "execution_count": 29,
     "metadata": {},
     "output_type": "execute_result"
    },
    {
     "data": {
      "image/png": "[encoded data removed]",
      "text/plain": [
       "<Figure size 432x288 with 1 Axes>"
      ]
     },
     "metadata": {
      "needs_background": "light"
     },
     "output_type": "display_data"
    }
   ],
   "source": [
    "sns.boxplot(x=n_rotatable_bonds, y=bedrocs_ccdc)"
   ]
  },
  {
   "cell_type": "code",
   "execution_count": 30,
   "id": "2420f091-c575-4a64-99f7-8b33bf07b92b",
   "metadata": {},
   "outputs": [
    {
     "data": {
      "text/plain": [
       "<AxesSubplot:>"
      ]
     },
     "execution_count": 30,
     "metadata": {},
     "output_type": "execute_result"
    },
    {
     "data": {
      "image/png": "[encoded data removed]",
      "text/plain": [
       "<Figure size 432x288 with 1 Axes>"
      ]
     },
     "metadata": {
      "needs_background": "light"
     },
     "output_type": "display_data"
    }
   ],
   "source": [
    "sns.boxplot(x=n_rotatable_bonds, y=ef_model)"
   ]
  },
  {
   "cell_type": "code",
   "execution_count": 31,
   "id": "d4de0840-15fb-4ac4-a273-57749e86939f",
   "metadata": {},
   "outputs": [
    {
     "data": {
      "text/plain": [
       "<AxesSubplot:>"
      ]
     },
     "execution_count": 31,
     "metadata": {},
     "output_type": "execute_result"
    },
    {
     "data": {
      "image/png": "[encoded data removed]",
      "text/plain": [
       "<Figure size 432x288 with 1 Axes>"
      ]
     },
     "metadata": {
      "needs_background": "light"
     },
     "output_type": "display_data"
    }
   ],
   "source": [
    "sns.boxplot(x=n_rotatable_bonds, y=ef_ccdc)"
   ]
  },
  {
   "cell_type": "code",
   "execution_count": null,
   "id": "d0ff5b76-c39c-4175-9c7a-8bc8e34f3a9b",
   "metadata": {},
   "outputs": [],
   "source": []
  },
  {
   "cell_type": "code",
   "execution_count": null,
   "id": "03eb3214-350b-48ac-89d9-732a0cb5e005",
   "metadata": {},
   "outputs": [],
   "source": []
  },
  {
   "cell_type": "code",
   "execution_count": 32,
   "id": "f1494e88-70c8-4db9-b882-8601aea919d3",
   "metadata": {},
   "outputs": [],
   "source": [
    "t_nomicro = t.dropna(subset=['n_heavy_atoms']).copy()\n",
    "t_nomicro['n_heavy_atoms'] = t_nomicro['n_heavy_atoms'].astype(int)\n",
    "t_nomicro['n_rotatable_bonds'] = t_nomicro['n_rotatable_bonds'].astype(int)"
   ]
  },
  {
   "cell_type": "code",
   "execution_count": 33,
   "id": "71daafe4-a390-4b1e-9d9d-dea5462574ba",
   "metadata": {},
   "outputs": [
    {
     "data": {
      "text/plain": [
       "<AxesSubplot:xlabel='n_heavy_atoms', ylabel='n_rotatable_bonds'>"
      ]
     },
     "execution_count": 33,
     "metadata": {},
     "output_type": "execute_result"
    },
    {
     "data": {
      "image/png": "[encoded data removed]",
      "text/plain": [
       "<Figure size 432x288 with 1 Axes>"
      ]
     },
     "metadata": {
      "needs_background": "light"
     },
     "output_type": "display_data"
    }
   ],
   "source": [
    "#plt.figure(figsize=(10,5))\n",
    "sns.scatterplot(data=t_nomicro, x='n_heavy_atoms', y='n_rotatable_bonds')"
   ]
  },
  {
   "cell_type": "code",
   "execution_count": 34,
   "id": "461fd081-1364-4d77-8e67-aaf49073be7e",
   "metadata": {},
   "outputs": [
    {
     "data": {
      "text/plain": [
       "<AxesSubplot:xlabel='n_rotatable_bonds', ylabel='n_bioactive'>"
      ]
     },
     "execution_count": 34,
     "metadata": {},
     "output_type": "execute_result"
    },
    {
     "data": {
      "image/png": "[encoded data removed]",
      "text/plain": [
       "<Figure size 720x360 with 1 Axes>"
      ]
     },
     "metadata": {
      "needs_background": "light"
     },
     "output_type": "display_data"
    }
   ],
   "source": [
    "plt.figure(figsize=(10,5))\n",
    "sns.boxplot(data=t_nomicro, x='n_rotatable_bonds', y='n_bioactive')"
   ]
  },
  {
   "cell_type": "code",
   "execution_count": 35,
   "id": "82623ba6-93d2-4f8f-be33-076f16f46334",
   "metadata": {},
   "outputs": [
    {
     "data": {
      "text/plain": [
       "<AxesSubplot:xlabel='n_heavy_atoms', ylabel='mean_loss'>"
      ]
     },
     "execution_count": 35,
     "metadata": {},
     "output_type": "execute_result"
    },
    {
     "data": {
      "image/png": "[encoded data removed]",
      "text/plain": [
       "<Figure size 720x360 with 1 Axes>"
      ]
     },
     "metadata": {
      "needs_background": "light"
     },
     "output_type": "display_data"
    }
   ],
   "source": [
    "plt.figure(figsize=(10,5))\n",
    "sns.boxplot(data=t_nomicro, x='n_heavy_atoms', y='mean_loss')"
   ]
  },
  {
   "cell_type": "code",
   "execution_count": 36,
   "id": "c47dede4-311b-4329-bf66-a05b2c4eef63",
   "metadata": {},
   "outputs": [
    {
     "data": {
      "text/plain": [
       "<AxesSubplot:xlabel='n_rotatable_bonds', ylabel='mean_loss'>"
      ]
     },
     "execution_count": 36,
     "metadata": {},
     "output_type": "execute_result"
    },
    {
     "data": {
      "image/png": "[encoded data removed]",
      "text/plain": [
       "<Figure size 432x288 with 1 Axes>"
      ]
     },
     "metadata": {
      "needs_background": "light"
     },
     "output_type": "display_data"
    }
   ],
   "source": [
    "sns.boxplot(data=t_nomicro, x='n_rotatable_bonds', y='mean_loss')"
   ]
  },
  {
   "cell_type": "code",
   "execution_count": 37,
   "id": "8e352060-10e5-4c5e-a187-4b35b56545af",
   "metadata": {},
   "outputs": [
    {
     "data": {
      "text/plain": [
       "<AxesSubplot:xlabel='n_generated', ylabel='Count'>"
      ]
     },
     "execution_count": 37,
     "metadata": {},
     "output_type": "execute_result"
    },
    {
     "data": {
      "image/png": "[encoded data removed]",
      "text/plain": [
       "<Figure size 432x288 with 1 Axes>"
      ]
     },
     "metadata": {
      "needs_background": "light"
     },
     "output_type": "display_data"
    }
   ],
   "source": [
    "sns.histplot(data=t_nomicro, x='n_generated')"
   ]
  },
  {
   "cell_type": "code",
   "execution_count": 38,
   "id": "a7bab82c-5adf-4cb1-949c-34d9083cb526",
   "metadata": {},
   "outputs": [
    {
     "data": {
      "text/plain": [
       "<AxesSubplot:xlabel='n_generated', ylabel='mean_loss'>"
      ]
     },
     "execution_count": 38,
     "metadata": {},
     "output_type": "execute_result"
    },
    {
     "data": {
      "image/png": "[encoded data removed]",
      "text/plain": [
       "<Figure size 720x360 with 1 Axes>"
      ]
     },
     "metadata": {
      "needs_background": "light"
     },
     "output_type": "display_data"
    }
   ],
   "source": [
    "plt.figure(figsize=(10,5))\n",
    "sns.scatterplot(data=t_nomicro, x='n_generated', y='mean_loss')"
   ]
  },
  {
   "cell_type": "code",
   "execution_count": 39,
   "id": "819d0cf3-b9b6-4105-9c63-5a9b17d9ef31",
   "metadata": {},
   "outputs": [
    {
     "data": {
      "text/plain": [
       "<AxesSubplot:xlabel='n_bioactive', ylabel='median_bioactive_rank'>"
      ]
     },
     "execution_count": 39,
     "metadata": {},
     "output_type": "execute_result"
    },
    {
     "data": {
      "image/png": "[encoded data removed]",
      "text/plain": [
       "<Figure size 720x360 with 1 Axes>"
      ]
     },
     "metadata": {
      "needs_background": "light"
     },
     "output_type": "display_data"
    }
   ],
   "source": [
    "plt.figure(figsize=(10,5))\n",
    "sns.boxplot(data=t_nomicro, x='n_bioactive', y='median_bioactive_rank')"
   ]
  },
  {
   "cell_type": "code",
   "execution_count": 40,
   "id": "1bd072d9-d58d-456a-ac11-815f812d1efa",
   "metadata": {},
   "outputs": [
    {
     "data": {
      "text/plain": [
       "<AxesSubplot:xlabel='n_rotatable_bonds', ylabel='median_bioactive_rank'>"
      ]
     },
     "execution_count": 40,
     "metadata": {},
     "output_type": "execute_result"
    },
    {
     "data": {
      "image/png": "[encoded data removed]",
      "text/plain": [
       "<Figure size 720x360 with 1 Axes>"
      ]
     },
     "metadata": {
      "needs_background": "light"
     },
     "output_type": "display_data"
    }
   ],
   "source": [
    "plt.figure(figsize=(10,5))\n",
    "sns.boxplot(data=t_nomicro, x='n_rotatable_bonds', y='median_bioactive_rank')"
   ]
  },
  {
   "cell_type": "code",
   "execution_count": 41,
   "id": "18eca1b8-b7c8-4c10-a041-90db75c8a636",
   "metadata": {},
   "outputs": [
    {
     "data": {
      "text/plain": [
       "<AxesSubplot:xlabel='n_rotatable_bonds', ylabel='bioactive_accuracy'>"
      ]
     },
     "execution_count": 41,
     "metadata": {},
     "output_type": "execute_result"
    },
    {
     "data": {
      "image/png": "[encoded data removed]",
      "text/plain": [
       "<Figure size 720x360 with 1 Axes>"
      ]
     },
     "metadata": {
      "needs_background": "light"
     },
     "output_type": "display_data"
    }
   ],
   "source": [
    "plt.figure(figsize=(10,5))\n",
    "sns.boxplot(data=t_nomicro, x='n_rotatable_bonds', y='bioactive_accuracy')"
   ]
  }
 ],
 "metadata": {
  "kernelspec": {
   "display_name": "Python 3 (ipykernel)",
   "language": "python",
   "name": "python3"
  },
  "language_info": {
   "codemirror_mode": {
    "name": "ipython",
    "version": 3
   },
   "file_extension": ".py",
   "mimetype": "text/x-python",
   "name": "python",
   "nbconvert_exporter": "python",
   "pygments_lexer": "ipython3",
   "version": "3.7.10"
  }
 },
 "nbformat": 4,
 "nbformat_minor": 5
}
