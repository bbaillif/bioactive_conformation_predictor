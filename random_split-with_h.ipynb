{
 "cells": [
  {
   "cell_type": "code",
   "execution_count": 1,
   "id": "e0b79e6d-6dfa-4911-9b46-d0b4c2f49296",
   "metadata": {},
   "outputs": [],
   "source": [
    "from rdkit import Chem\n",
    "from rdkit import DataStructs\n",
    "from rdkit.Chem.rdMolDescriptors import GetMorganFingerprintAsBitVect\n",
    "from typing import List, Tuple\n",
    "\n",
    "import pickle\n",
    "import os\n",
    "import matplotlib.pyplot as plt\n",
    "import seaborn as sns\n",
    "import numpy as np"
   ]
  },
  {
   "cell_type": "code",
   "execution_count": 2,
   "id": "f5d24631-8666-4f65-88e0-a98f78eb20f8",
   "metadata": {},
   "outputs": [],
   "source": [
    "data_dir_path = 'data/'\n",
    "pdbbind_refined_dir_path = '../PDBBind/PDBbind_v2020_refined/refined-set/'\n",
    "pdbbind_general_dir_path = '../PDBBind/PDBbind_v2020_other_PL/v2020-other-PL/'"
   ]
  },
  {
   "cell_type": "code",
   "execution_count": 3,
   "id": "cf9b7509-9241-4eea-aa6e-1b21fa6b3764",
   "metadata": {},
   "outputs": [],
   "source": [
    "with open(os.path.join(data_dir_path, 'pdbbind_general_mol_list_with_h.p'), 'rb') as f :\n",
    "    general_mols = pickle.load(f)\n",
    "    \n",
    "with open(os.path.join(data_dir_path, 'pdbbind_refined_mol_list_with_h.p'), 'rb') as f :\n",
    "    refined_mols = pickle.load(f)"
   ]
  },
  {
   "cell_type": "code",
   "execution_count": 4,
   "id": "ad3db3b8-8e0e-4758-b9c1-d483ea51802c",
   "metadata": {},
   "outputs": [],
   "source": [
    "all_mols = general_mols + refined_mols"
   ]
  },
  {
   "cell_type": "code",
   "execution_count": 5,
   "id": "d8e66b02-ab7c-49c1-b29c-1653a8658489",
   "metadata": {},
   "outputs": [],
   "source": [
    "all_smiles = list(set([Chem.MolToSmiles(mol) for mol in all_mols]))"
   ]
  },
  {
   "cell_type": "code",
   "execution_count": 6,
   "id": "a8eb7c54-a580-436d-8e7c-c93ab5e0f4f0",
   "metadata": {},
   "outputs": [
    {
     "data": {
      "text/plain": [
       "12348"
      ]
     },
     "execution_count": 6,
     "metadata": {},
     "output_type": "execute_result"
    }
   ],
   "source": [
    "len(all_smiles)"
   ]
  },
  {
   "cell_type": "code",
   "execution_count": 7,
   "id": "a4c1d43d-9a87-4ef1-a2a4-0d1d339b7fc8",
   "metadata": {},
   "outputs": [],
   "source": [
    "frac_train = 0.8\n",
    "frac_valid = 0.1\n",
    "frac_test = 1 - frac_train - frac_valid"
   ]
  },
  {
   "cell_type": "code",
   "execution_count": 8,
   "id": "7119ccf2-8c44-444a-88d6-aa135e780ed2",
   "metadata": {},
   "outputs": [],
   "source": [
    "from sklearn.model_selection import train_test_split\n",
    "train_smiles, test_smiles = train_test_split(all_smiles, train_size=0.8)\n",
    "valid_smiles, test_smiles = train_test_split(test_smiles, train_size=0.5)"
   ]
  },
  {
   "cell_type": "code",
   "execution_count": 9,
   "id": "572f8cfb-0572-475d-b41d-ee4f46d7296a",
   "metadata": {},
   "outputs": [
    {
     "data": {
      "text/plain": [
       "9878"
      ]
     },
     "execution_count": 9,
     "metadata": {},
     "output_type": "execute_result"
    }
   ],
   "source": [
    "len(train_smiles)"
   ]
  },
  {
   "cell_type": "code",
   "execution_count": 10,
   "id": "ba5cbbe9-d725-4b58-9657-0c9761b5d8b1",
   "metadata": {},
   "outputs": [
    {
     "data": {
      "text/plain": [
       "1235"
      ]
     },
     "execution_count": 10,
     "metadata": {},
     "output_type": "execute_result"
    }
   ],
   "source": [
    "len(valid_smiles)"
   ]
  },
  {
   "cell_type": "code",
   "execution_count": 11,
   "id": "5446c5cc-2361-47c8-990e-45fe5b6c299f",
   "metadata": {},
   "outputs": [
    {
     "data": {
      "text/plain": [
       "1235"
      ]
     },
     "execution_count": 11,
     "metadata": {},
     "output_type": "execute_result"
    }
   ],
   "source": [
    "len(test_smiles)"
   ]
  },
  {
   "cell_type": "code",
   "execution_count": 12,
   "id": "e99ee670-0216-4243-adb8-2e32b05da7ee",
   "metadata": {},
   "outputs": [],
   "source": [
    "with open('data/train_smiles_random_with_h.txt', 'w') as f :\n",
    "    for smiles in train_smiles :\n",
    "        f.write(smiles)\n",
    "        f.write('\\n')\n",
    "        \n",
    "with open('data/valid_smiles_random_with_h.txt', 'w') as f :\n",
    "    for smiles in valid_smiles :\n",
    "        f.write(smiles)\n",
    "        f.write('\\n')\n",
    "        \n",
    "with open('data/test_smiles_random_with_h.txt', 'w') as f :\n",
    "    for smiles in test_smiles :\n",
    "        f.write(smiles)\n",
    "        f.write('\\n')"
   ]
  }
 ],
 "metadata": {
  "kernelspec": {
   "display_name": "Python 3 (ipykernel)",
   "language": "python",
   "name": "python3"
  },
  "language_info": {
   "codemirror_mode": {
    "name": "ipython",
    "version": 3
   },
   "file_extension": ".py",
   "mimetype": "text/x-python",
   "name": "python",
   "nbconvert_exporter": "python",
   "pygments_lexer": "ipython3",
   "version": "3.7.10"
  }
 },
 "nbformat": 4,
 "nbformat_minor": 5
}
