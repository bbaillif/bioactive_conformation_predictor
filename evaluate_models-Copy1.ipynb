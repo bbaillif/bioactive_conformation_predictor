{
 "cells": [
  {
   "cell_type": "code",
   "execution_count": 1,
   "id": "14bf5794-71d5-4c88-b534-b2fd0db7e867",
   "metadata": {
    "tags": []
   },
   "outputs": [],
   "source": [
    "import os\n",
    "\n",
    "from rdkit import Chem # safe import before ccdc imports\n",
    "from torch_geometric.loader import DataLoader\n",
    "from torch.utils.data import ConcatDataset\n",
    "\n",
    "from conf_ensemble_dataset_in_memory import ConfEnsembleDataset\n",
    "from litschnet import LitSchNet\n",
    "from rmsd_predictor_evaluator import RMSDPredictorEvaluator\n",
    "from tqdm import tqdm"
   ]
  },
  {
   "cell_type": "markdown",
   "id": "a8cce14b-71e8-4987-aa40-acf9868528c1",
   "metadata": {},
   "source": [
    "# Data preparation"
   ]
  },
  {
   "cell_type": "code",
   "execution_count": 3,
   "id": "c29babdb-7601-4de6-bb69-920a9ffdb183",
   "metadata": {},
   "outputs": [],
   "source": [
    "data_dir = 'data/'"
   ]
  },
  {
   "cell_type": "code",
   "execution_count": 4,
   "id": "a5ea2045-3aab-4d08-ac23-808e42e3f87a",
   "metadata": {},
   "outputs": [],
   "source": [
    "# run once to preprocess datasets and generate chunks\n",
    "# dataset = ConfEnsembleDataset()\n",
    "# dataset = ConfEnsembleDataset(dataset='platinum') # 16G"
   ]
  },
  {
   "cell_type": "code",
   "execution_count": 5,
   "id": "51382608-b738-4564-bc70-8ea6764475c6",
   "metadata": {},
   "outputs": [],
   "source": [
    "platinum_chunks = [filename for filename in os.listdir(os.path.join(data_dir, 'processed')) if filename.startswith('platinum')]\n",
    "platinum_n_chunks = len(platinum_chunks)"
   ]
  },
  {
   "cell_type": "code",
   "execution_count": 6,
   "id": "f1c58bf1-bf76-4f43-a4e3-86acadab3a7b",
   "metadata": {},
   "outputs": [
    {
     "name": "stderr",
     "output_type": "stream",
     "text": [
      "100%|██████████████████████████████████████████████████████████████████| 2/2 [00:08<00:00,  4.13s/it]\n"
     ]
    }
   ],
   "source": [
    "platinum_datasets = []\n",
    "for chunk_number in tqdm(range(platinum_n_chunks)) :\n",
    "    dataset = ConfEnsembleDataset(dataset='platinum', loaded_chunk=chunk_number)\n",
    "    platinum_datasets.append(dataset)\n",
    "platinum_dataset = ConcatDataset(platinum_datasets)"
   ]
  },
  {
   "cell_type": "code",
   "execution_count": 7,
   "id": "310a029b-ad85-4872-a456-1275ec264cd5",
   "metadata": {},
   "outputs": [],
   "source": [
    "pdbbind_chunks = [filename for filename in os.listdir(os.path.join(data_dir, 'processed')) if filename.startswith('pdbbind')]\n",
    "pdbbind_n_chunks = len(pdbbind_chunks)"
   ]
  },
  {
   "cell_type": "code",
   "execution_count": 8,
   "id": "9a8d7c83-d5d9-4804-b38f-a18907a8d36c",
   "metadata": {},
   "outputs": [],
   "source": [
    "splits = ['random', 'scaffold']\n",
    "tasks = ['all', 'easy', 'hard']"
   ]
  },
  {
   "cell_type": "code",
   "execution_count": 9,
   "id": "04640fb3-5693-4e2c-bb43-7f22dcbb5aee",
   "metadata": {
    "scrolled": true,
    "tags": []
   },
   "outputs": [
    {
     "name": "stderr",
     "output_type": "stream",
     "text": [
      "100%|██████████████████████████████████████████████████████████████████| 3/3 [01:06<00:00, 22.08s/it]\n"
     ]
    },
    {
     "name": "stdout",
     "output_type": "stream",
     "text": [
      "Grouping data by smiles\n"
     ]
    },
    {
     "name": "stderr",
     "output_type": "stream",
     "text": [
      "  0%|                                                                       | 0/1085 [00:00<?, ?it/s]"
     ]
    },
    {
     "name": "stdout",
     "output_type": "stream",
     "text": [
      "Starting evaluation\n"
     ]
    },
    {
     "name": "stderr",
     "output_type": "stream",
     "text": [
      "100%|████████████████████████████████████████████████████████████| 1085/1085 [00:21<00:00, 51.25it/s]\n"
     ]
    },
    {
     "name": "stdout",
     "output_type": "stream",
     "text": [
      "Grouping data by smiles\n"
     ]
    },
    {
     "name": "stderr",
     "output_type": "stream",
     "text": [
      "  0%|                                                               | 5/4548 [00:00<01:43, 43.78it/s]"
     ]
    },
    {
     "name": "stdout",
     "output_type": "stream",
     "text": [
      "Starting evaluation\n"
     ]
    },
    {
     "name": "stderr",
     "output_type": "stream",
     "text": [
      "100%|████████████████████████████████████████████████████████████| 4548/4548 [01:24<00:00, 53.92it/s]\n",
      "100%|██████████████████████████████████████████████████████████████████| 3/3 [01:07<00:00, 22.62s/it]\n"
     ]
    },
    {
     "name": "stdout",
     "output_type": "stream",
     "text": [
      "Grouping data by smiles\n"
     ]
    },
    {
     "name": "stderr",
     "output_type": "stream",
     "text": [
      "  0%|▏                                                              | 4/1085 [00:00<00:31, 34.53it/s]"
     ]
    },
    {
     "name": "stdout",
     "output_type": "stream",
     "text": [
      "Starting evaluation\n"
     ]
    },
    {
     "name": "stderr",
     "output_type": "stream",
     "text": [
      "100%|████████████████████████████████████████████████████████████| 1085/1085 [00:21<00:00, 49.62it/s]\n"
     ]
    },
    {
     "name": "stdout",
     "output_type": "stream",
     "text": [
      "Grouping data by smiles\n"
     ]
    },
    {
     "name": "stderr",
     "output_type": "stream",
     "text": [
      "  0%|                                                               | 2/4548 [00:00<03:57, 19.11it/s]"
     ]
    },
    {
     "name": "stdout",
     "output_type": "stream",
     "text": [
      "Starting evaluation\n"
     ]
    },
    {
     "name": "stderr",
     "output_type": "stream",
     "text": [
      "100%|████████████████████████████████████████████████████████████| 4548/4548 [01:26<00:00, 52.88it/s]\n",
      "100%|██████████████████████████████████████████████████████████████████| 3/3 [01:09<00:00, 23.14s/it]\n"
     ]
    },
    {
     "name": "stdout",
     "output_type": "stream",
     "text": [
      "Grouping data by smiles\n"
     ]
    },
    {
     "name": "stderr",
     "output_type": "stream",
     "text": [
      "  1%|▌                                                              | 9/1089 [00:00<00:12, 85.54it/s]"
     ]
    },
    {
     "name": "stdout",
     "output_type": "stream",
     "text": [
      "Starting evaluation\n"
     ]
    },
    {
     "name": "stderr",
     "output_type": "stream",
     "text": [
      "100%|████████████████████████████████████████████████████████████| 1089/1089 [00:22<00:00, 47.87it/s]\n"
     ]
    },
    {
     "name": "stdout",
     "output_type": "stream",
     "text": [
      "Grouping data by smiles\n"
     ]
    },
    {
     "name": "stderr",
     "output_type": "stream",
     "text": [
      "  0%|                                                               | 3/4548 [00:00<02:35, 29.29it/s]"
     ]
    },
    {
     "name": "stdout",
     "output_type": "stream",
     "text": [
      "Starting evaluation\n"
     ]
    },
    {
     "name": "stderr",
     "output_type": "stream",
     "text": [
      "100%|████████████████████████████████████████████████████████████| 4548/4548 [01:28<00:00, 51.53it/s]\n",
      "100%|██████████████████████████████████████████████████████████████████| 3/3 [01:08<00:00, 22.99s/it]\n"
     ]
    },
    {
     "name": "stdout",
     "output_type": "stream",
     "text": [
      "Grouping data by smiles\n"
     ]
    },
    {
     "name": "stderr",
     "output_type": "stream",
     "text": [
      "  0%|▏                                                              | 4/1088 [00:00<00:33, 32.83it/s]"
     ]
    },
    {
     "name": "stdout",
     "output_type": "stream",
     "text": [
      "Starting evaluation\n"
     ]
    },
    {
     "name": "stderr",
     "output_type": "stream",
     "text": [
      "100%|████████████████████████████████████████████████████████████| 1088/1088 [00:22<00:00, 48.51it/s]\n"
     ]
    },
    {
     "name": "stdout",
     "output_type": "stream",
     "text": [
      "Grouping data by smiles\n"
     ]
    },
    {
     "name": "stderr",
     "output_type": "stream",
     "text": [
      "  0%|                                                               | 3/4548 [00:00<02:38, 28.68it/s]"
     ]
    },
    {
     "name": "stdout",
     "output_type": "stream",
     "text": [
      "Starting evaluation\n"
     ]
    },
    {
     "name": "stderr",
     "output_type": "stream",
     "text": [
      "100%|████████████████████████████████████████████████████████████| 4548/4548 [01:26<00:00, 52.74it/s]\n",
      "100%|██████████████████████████████████████████████████████████████████| 3/3 [01:09<00:00, 23.06s/it]\n"
     ]
    },
    {
     "name": "stdout",
     "output_type": "stream",
     "text": [
      "Grouping data by smiles\n"
     ]
    },
    {
     "name": "stderr",
     "output_type": "stream",
     "text": [
      "  0%|▏                                                              | 4/1088 [00:00<00:27, 39.05it/s]"
     ]
    },
    {
     "name": "stdout",
     "output_type": "stream",
     "text": [
      "Starting evaluation\n"
     ]
    },
    {
     "name": "stderr",
     "output_type": "stream",
     "text": [
      "100%|████████████████████████████████████████████████████████████| 1088/1088 [00:21<00:00, 49.54it/s]\n"
     ]
    },
    {
     "name": "stdout",
     "output_type": "stream",
     "text": [
      "Grouping data by smiles\n"
     ]
    },
    {
     "name": "stderr",
     "output_type": "stream",
     "text": [
      "  0%|                                                               | 2/4548 [00:00<04:00, 18.92it/s]"
     ]
    },
    {
     "name": "stdout",
     "output_type": "stream",
     "text": [
      "Starting evaluation\n"
     ]
    },
    {
     "name": "stderr",
     "output_type": "stream",
     "text": [
      "100%|████████████████████████████████████████████████████████████| 4548/4548 [01:25<00:00, 52.95it/s]\n",
      "100%|██████████████████████████████████████████████████████████████████| 3/3 [01:08<00:00, 22.84s/it]\n"
     ]
    },
    {
     "name": "stdout",
     "output_type": "stream",
     "text": [
      "Grouping data by smiles\n"
     ]
    },
    {
     "name": "stderr",
     "output_type": "stream",
     "text": [
      "  0%|▎                                                              | 5/1098 [00:00<00:24, 45.35it/s]"
     ]
    },
    {
     "name": "stdout",
     "output_type": "stream",
     "text": [
      "Starting evaluation\n"
     ]
    },
    {
     "name": "stderr",
     "output_type": "stream",
     "text": [
      "100%|████████████████████████████████████████████████████████████| 1098/1098 [00:21<00:00, 50.77it/s]\n"
     ]
    },
    {
     "name": "stdout",
     "output_type": "stream",
     "text": [
      "Grouping data by smiles\n"
     ]
    },
    {
     "name": "stderr",
     "output_type": "stream",
     "text": [
      "  0%|                                                               | 2/4548 [00:00<03:59, 19.00it/s]"
     ]
    },
    {
     "name": "stdout",
     "output_type": "stream",
     "text": [
      "Starting evaluation\n"
     ]
    },
    {
     "name": "stderr",
     "output_type": "stream",
     "text": [
      "100%|████████████████████████████████████████████████████████████| 4548/4548 [01:25<00:00, 53.45it/s]\n",
      "100%|██████████████████████████████████████████████████████████████████| 3/3 [01:08<00:00, 22.90s/it]\n"
     ]
    },
    {
     "name": "stdout",
     "output_type": "stream",
     "text": [
      "Grouping data by smiles\n"
     ]
    },
    {
     "name": "stderr",
     "output_type": "stream",
     "text": [
      "  0%|▎                                                              | 5/1093 [00:00<00:25, 43.01it/s]"
     ]
    },
    {
     "name": "stdout",
     "output_type": "stream",
     "text": [
      "Starting evaluation\n"
     ]
    },
    {
     "name": "stderr",
     "output_type": "stream",
     "text": [
      "100%|████████████████████████████████████████████████████████████| 1093/1093 [00:21<00:00, 51.51it/s]\n"
     ]
    },
    {
     "name": "stdout",
     "output_type": "stream",
     "text": [
      "Grouping data by smiles\n"
     ]
    },
    {
     "name": "stderr",
     "output_type": "stream",
     "text": [
      "  0%|                                                               | 2/4548 [00:00<03:53, 19.49it/s]"
     ]
    },
    {
     "name": "stdout",
     "output_type": "stream",
     "text": [
      "Starting evaluation\n"
     ]
    },
    {
     "name": "stderr",
     "output_type": "stream",
     "text": [
      "100%|████████████████████████████████████████████████████████████| 4548/4548 [01:25<00:00, 52.89it/s]\n",
      "100%|██████████████████████████████████████████████████████████████████| 3/3 [01:09<00:00, 23.12s/it]\n"
     ]
    },
    {
     "name": "stdout",
     "output_type": "stream",
     "text": [
      "Grouping data by smiles\n"
     ]
    },
    {
     "name": "stderr",
     "output_type": "stream",
     "text": [
      "  0%|▏                                                              | 4/1100 [00:00<00:28, 37.85it/s]"
     ]
    },
    {
     "name": "stdout",
     "output_type": "stream",
     "text": [
      "Starting evaluation\n"
     ]
    },
    {
     "name": "stderr",
     "output_type": "stream",
     "text": [
      "100%|████████████████████████████████████████████████████████████| 1100/1100 [00:22<00:00, 48.11it/s]\n"
     ]
    },
    {
     "name": "stdout",
     "output_type": "stream",
     "text": [
      "Grouping data by smiles\n"
     ]
    },
    {
     "name": "stderr",
     "output_type": "stream",
     "text": [
      "  0%|                                                               | 2/4548 [00:00<03:51, 19.61it/s]"
     ]
    },
    {
     "name": "stdout",
     "output_type": "stream",
     "text": [
      "Starting evaluation\n"
     ]
    },
    {
     "name": "stderr",
     "output_type": "stream",
     "text": [
      "100%|████████████████████████████████████████████████████████████| 4548/4548 [01:25<00:00, 52.89it/s]\n",
      "100%|██████████████████████████████████████████████████████████████████| 3/3 [01:07<00:00, 22.42s/it]\n"
     ]
    },
    {
     "name": "stdout",
     "output_type": "stream",
     "text": [
      "Grouping data by smiles\n"
     ]
    },
    {
     "name": "stderr",
     "output_type": "stream",
     "text": [
      "  1%|▎                                                              | 6/1069 [00:00<00:20, 51.02it/s]"
     ]
    },
    {
     "name": "stdout",
     "output_type": "stream",
     "text": [
      "Starting evaluation\n"
     ]
    },
    {
     "name": "stderr",
     "output_type": "stream",
     "text": [
      "100%|████████████████████████████████████████████████████████████| 1069/1069 [00:19<00:00, 55.53it/s]\n"
     ]
    },
    {
     "name": "stdout",
     "output_type": "stream",
     "text": [
      "Grouping data by smiles\n"
     ]
    },
    {
     "name": "stderr",
     "output_type": "stream",
     "text": [
      "  0%|                                                               | 2/4548 [00:00<03:51, 19.60it/s]"
     ]
    },
    {
     "name": "stdout",
     "output_type": "stream",
     "text": [
      "Starting evaluation\n"
     ]
    },
    {
     "name": "stderr",
     "output_type": "stream",
     "text": [
      "100%|████████████████████████████████████████████████████████████| 4548/4548 [01:26<00:00, 52.28it/s]\n",
      "100%|██████████████████████████████████████████████████████████████████| 3/3 [01:08<00:00, 22.69s/it]\n"
     ]
    },
    {
     "name": "stdout",
     "output_type": "stream",
     "text": [
      "Grouping data by smiles\n"
     ]
    },
    {
     "name": "stderr",
     "output_type": "stream",
     "text": [
      "  1%|▎                                                              | 6/1091 [00:00<00:20, 51.84it/s]"
     ]
    },
    {
     "name": "stdout",
     "output_type": "stream",
     "text": [
      "Starting evaluation\n"
     ]
    },
    {
     "name": "stderr",
     "output_type": "stream",
     "text": [
      "100%|████████████████████████████████████████████████████████████| 1091/1091 [00:21<00:00, 49.81it/s]\n"
     ]
    },
    {
     "name": "stdout",
     "output_type": "stream",
     "text": [
      "Grouping data by smiles\n"
     ]
    },
    {
     "name": "stderr",
     "output_type": "stream",
     "text": [
      "  0%|                                                               | 2/4548 [00:00<04:18, 17.57it/s]"
     ]
    },
    {
     "name": "stdout",
     "output_type": "stream",
     "text": [
      "Starting evaluation\n"
     ]
    },
    {
     "name": "stderr",
     "output_type": "stream",
     "text": [
      "100%|████████████████████████████████████████████████████████████| 4548/4548 [01:24<00:00, 53.65it/s]\n"
     ]
    },
    {
     "name": "stdout",
     "output_type": "stream",
     "text": [
      "CPU times: user 3h 41min 8s, sys: 16.8 s, total: 3h 41min 24s\n",
      "Wall time: 35min 40s\n"
     ]
    }
   ],
   "source": [
    "%%time\n",
    "\n",
    "for split in splits :\n",
    "\n",
    "    for iteration in range(5) :\n",
    "\n",
    "        with open(os.path.join(data_dir, f'{split}_splits', f'test_smiles_{split}_split_{iteration}.txt'), 'r') as f :\n",
    "            test_smiles = f.readlines()\n",
    "            test_smiles = [smiles.strip() for smiles in test_smiles]\n",
    "\n",
    "        test_datasets = []\n",
    "\n",
    "        for chunk_number in tqdm(range(pdbbind_n_chunks)) :\n",
    "\n",
    "            dataset = ConfEnsembleDataset(loaded_chunk=chunk_number,\n",
    "                                          smiles_list=test_smiles)\n",
    "            test_datasets.append(dataset)\n",
    "\n",
    "        test_dataset = ConcatDataset(test_datasets)\n",
    "\n",
    "        test_loader = DataLoader(test_dataset, batch_size=64, shuffle=False, num_workers=4)\n",
    "\n",
    "        experiment_name = f'{split}_split_{iteration}_v2'\n",
    "        if experiment_name in os.listdir('lightning_logs') :\n",
    "            checkpoint_name = os.listdir(os.path.join('lightning_logs', experiment_name, 'checkpoints'))[0]\n",
    "            checkpoint_path = os.path.join('lightning_logs', experiment_name, 'checkpoints', checkpoint_name)\n",
    "            litschnet = LitSchNet.load_from_checkpoint(checkpoint_path=checkpoint_path)\n",
    "\n",
    "            evaluation_name = experiment_name + '_pdbbind'\n",
    "            evaluator = RMSDPredictorEvaluator(model=litschnet, evaluation_name=evaluation_name)\n",
    "            evaluator.evaluate(test_dataset)\n",
    "            for task in tasks :\n",
    "                evaluator.evaluation_report(task=task)\n",
    "\n",
    "            evaluation_name = experiment_name + '_platinum'\n",
    "            evaluator = RMSDPredictorEvaluator(model=litschnet, evaluation_name=evaluation_name)\n",
    "            evaluator.evaluate(platinum_dataset)\n",
    "            for task in tasks :\n",
    "                evaluator.evaluation_report(task=task)"
   ]
  }
 ],
 "metadata": {
  "kernelspec": {
   "display_name": "Python 3 (ipykernel)",
   "language": "python",
   "name": "python3"
  },
  "language_info": {
   "codemirror_mode": {
    "name": "ipython",
    "version": 3
   },
   "file_extension": ".py",
   "mimetype": "text/x-python",
   "name": "python",
   "nbconvert_exporter": "python",
   "pygments_lexer": "ipython3",
   "version": "3.7.10"
  },
  "widgets": {
   "application/vnd.jupyter.widget-state+json": {
    "state": {},
    "version_major": 2,
    "version_minor": 0
   }
  }
 },
 "nbformat": 4,
 "nbformat_minor": 5
}
