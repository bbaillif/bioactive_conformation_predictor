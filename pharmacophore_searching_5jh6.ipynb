{
 "cells": [
  {
   "cell_type": "code",
   "execution_count": 1,
   "id": "38483cb7-d944-43e3-a3e3-e694bf0c5c34",
   "metadata": {},
   "outputs": [],
   "source": [
    "import tempfile\n",
    "import os\n",
    "import pickle\n",
    "import torch\n",
    "\n",
    "from molecule_featurizer import MoleculeFeaturizer\n",
    "from litschnet import LitSchNet\n",
    "from ccdc_rdkit_connector import CcdcRdkitConnector\n",
    "from ccdc.pharmacophore import Pharmacophore\n",
    "from ccdc.descriptors import GeometricDescriptors\n",
    "from ccdc.utilities import Colour\n",
    "from ccdc import io\n",
    "from torch_geometric.data import Batch"
   ]
  },
  {
   "cell_type": "code",
   "execution_count": 2,
   "id": "a76d9a92-17dc-4c04-929d-5e42de025824",
   "metadata": {},
   "outputs": [],
   "source": [
    "protein_file = '/home/benoit/bioactive_conformation_predictor/gold_docking/3_all/5jh6_protein.pdb'\n",
    "native_ligand_file = '/home/benoit/bioactive_conformation_predictor/gold_docking/3_all/5jh6_ligand.mol2'\n",
    "ligand_files = [f'/home/benoit/bioactive_conformation_predictor/gold_docking/3_all/3_all_{i}.mol2' for i in range(100)]\n",
    "all_ligand_files = '5jh6_generated_confs.mol2'"
   ]
  },
  {
   "cell_type": "code",
   "execution_count": 3,
   "id": "d033becd-52ec-4051-84df-a4bc4b4b44d3",
   "metadata": {},
   "outputs": [],
   "source": [
    "with io.MoleculeWriter(all_ligand_files) as mol_writer:\n",
    "    mol = io.MoleculeReader(native_ligand_file)[0]\n",
    "    mol.identifier = f'native_ligand'\n",
    "    mol_writer.write(mol)\n",
    "    for i, ligand_file in enumerate(ligand_files):\n",
    "        mol = io.MoleculeReader(ligand_file)[0]\n",
    "        mol.identifier = f'ligand_{i}'\n",
    "        mol_writer.write(mol)"
   ]
  },
  {
   "cell_type": "code",
   "execution_count": 4,
   "id": "0a1d3ead-907b-47c6-8880-fa90aea03325",
   "metadata": {},
   "outputs": [],
   "source": [
    "Pharmacophore.read_feature_definitions()\n",
    "feature_definitions = [\n",
    "                fd for fd in Pharmacophore.feature_definitions.values()\n",
    "                if fd.identifier != 'exit_vector' and\n",
    "                fd.identifier != 'heavy_atom' and\n",
    "                fd.identifier != 'hydrophobe'\n",
    "            ]"
   ]
  },
  {
   "cell_type": "code",
   "execution_count": 5,
   "id": "f006f850-4344-43de-96f6-9f1eed94e920",
   "metadata": {},
   "outputs": [],
   "source": [
    "native_ligand = io.CrystalReader(native_ligand_file)[0]"
   ]
  },
  {
   "cell_type": "code",
   "execution_count": 6,
   "id": "dfbae0f0-ad58-4cff-bfae-b1e24a45b989",
   "metadata": {},
   "outputs": [
    {
     "name": "stdout",
     "output_type": "stream",
     "text": [
      "4\n"
     ]
    }
   ],
   "source": [
    "ring_feature_def = Pharmacophore.feature_definitions['ring']\n",
    "ring_features = ring_feature_def.detect_features(native_ligand)\n",
    "print(len(ring_features))"
   ]
  },
  {
   "cell_type": "code",
   "execution_count": 7,
   "id": "d2c1b4f6-37b0-4712-936b-2168a574057a",
   "metadata": {},
   "outputs": [
    {
     "name": "stdout",
     "output_type": "stream",
     "text": [
      "3\n"
     ]
    }
   ],
   "source": [
    "donor_proj_def = Pharmacophore.feature_definitions['donor_projected']\n",
    "donor_proj_features = donor_proj_def.detect_features(native_ligand)\n",
    "print(len(donor_proj_features))"
   ]
  },
  {
   "cell_type": "code",
   "execution_count": 8,
   "id": "6cf3823f-2c1b-470c-b9c6-0c1ff9b41fd3",
   "metadata": {},
   "outputs": [],
   "source": [
    "query = Pharmacophore.Query(ring_features + donor_proj_features)"
   ]
  },
  {
   "cell_type": "code",
   "execution_count": 9,
   "id": "ccde44db-568c-4553-ae42-092e15a799b0",
   "metadata": {},
   "outputs": [],
   "source": [
    "mol2_info = Pharmacophore.FeatureDatabase.DatabaseInfo(all_ligand_files, 0, Colour(0, 255, 0, 255))"
   ]
  },
  {
   "cell_type": "code",
   "execution_count": 10,
   "id": "e2ab5b81-4530-4c3e-8c4d-aedb88bfbb95",
   "metadata": {},
   "outputs": [],
   "source": [
    "csdsqlx = os.path.join(all_ligand_files.replace('.mol2', '.csdsqlx'))\n",
    "mol2_sdb = Pharmacophore.FeatureDatabase.Creator.StructureDatabase(mol2_info, use_crystal_symmetry=False, structure_database_path=csdsqlx)"
   ]
  },
  {
   "cell_type": "code",
   "execution_count": 11,
   "id": "3a24d2f3-b9b1-49f6-9a9c-70ff639427c8",
   "metadata": {},
   "outputs": [],
   "source": [
    "creator = Pharmacophore.FeatureDatabase.Creator()"
   ]
  },
  {
   "cell_type": "code",
   "execution_count": 12,
   "id": "74ec5836-acd4-4a87-9023-f2dcb6da3159",
   "metadata": {},
   "outputs": [],
   "source": [
    "db = creator.create([mol2_sdb])"
   ]
  },
  {
   "cell_type": "code",
   "execution_count": 13,
   "id": "586a571a-c392-498e-a935-9575c85ae3c9",
   "metadata": {},
   "outputs": [
    {
     "name": "stdout",
     "output_type": "stream",
     "text": [
      "101\n"
     ]
    }
   ],
   "source": [
    "print(len(db))"
   ]
  },
  {
   "cell_type": "code",
   "execution_count": 14,
   "id": "2d0719b7-083c-4ed0-bf79-dba3b16a1171",
   "metadata": {},
   "outputs": [],
   "source": [
    "searcher = Pharmacophore.Search()"
   ]
  },
  {
   "cell_type": "code",
   "execution_count": 15,
   "id": "5b6a2e80-e56e-4114-b0e9-95152ce3034c",
   "metadata": {},
   "outputs": [],
   "source": [
    "hits = searcher.search(query, database=db)"
   ]
  },
  {
   "cell_type": "code",
   "execution_count": 16,
   "id": "8b93f85a-f6c1-42a3-8d53-21c99e42f780",
   "metadata": {},
   "outputs": [
    {
     "data": {
      "text/plain": [
       "[<ccdc.pharmacophore.Pharmacophore.SearchHit at 0x7fc65eece550>,\n",
       " <ccdc.pharmacophore.Pharmacophore.SearchHit at 0x7fc65eecebd0>,\n",
       " <ccdc.pharmacophore.Pharmacophore.SearchHit at 0x7fc65eece910>,\n",
       " <ccdc.pharmacophore.Pharmacophore.SearchHit at 0x7fc65eecec90>,\n",
       " <ccdc.pharmacophore.Pharmacophore.SearchHit at 0x7fc65eececd0>,\n",
       " <ccdc.pharmacophore.Pharmacophore.SearchHit at 0x7fc65eeced10>,\n",
       " <ccdc.pharmacophore.Pharmacophore.SearchHit at 0x7fc65eeced50>,\n",
       " <ccdc.pharmacophore.Pharmacophore.SearchHit at 0x7fc65eecec50>]"
      ]
     },
     "execution_count": 16,
     "metadata": {},
     "output_type": "execute_result"
    }
   ],
   "source": [
    "hits"
   ]
  },
  {
   "cell_type": "code",
   "execution_count": 17,
   "id": "a56bb3a0-7413-4dd9-925c-94524bb4d9d3",
   "metadata": {},
   "outputs": [
    {
     "name": "stdout",
     "output_type": "stream",
     "text": [
      "native_ligand\n",
      "ligand_51\n",
      "ligand_5\n",
      "ligand_64\n",
      "ligand_4\n",
      "ligand_63\n",
      "ligand_52\n",
      "ligand_36\n"
     ]
    }
   ],
   "source": [
    "for hit in hits :\n",
    "    print(hit.identifier)"
   ]
  },
  {
   "cell_type": "code",
   "execution_count": 52,
   "id": "d10831e2-2efb-4c80-a7b1-6b24411125eb",
   "metadata": {},
   "outputs": [],
   "source": [
    "indexes = [int(s.split('_')[1]) for s in [hit.identifier for hit in hits][1:]]"
   ]
  },
  {
   "cell_type": "code",
   "execution_count": 18,
   "id": "1a787dbc-a1f7-4da7-bbae-5456df1d1d06",
   "metadata": {},
   "outputs": [
    {
     "data": {
      "text/plain": [
       "LitSchNet(\n",
       "  (schnet): SchNet(hidden_channels=128, num_filters=128, num_interactions=6, num_gaussians=50, cutoff=10.0)\n",
       "  (leaky_relu): LeakyReLU(negative_slope=0.01)\n",
       "  (sigmoid): Sigmoid()\n",
       ")"
      ]
     },
     "execution_count": 18,
     "metadata": {},
     "output_type": "execute_result"
    }
   ],
   "source": [
    "data_dir = 'data/'\n",
    "encoder_path = os.path.join(data_dir, 'molecule_encoders.p')\n",
    "if os.path.exists(encoder_path) : # Load existing encoder\n",
    "    with open(encoder_path, 'rb') as f:\n",
    "        mol_encoders = pickle.load(f)\n",
    "mol_featurizer = MoleculeFeaturizer(mol_encoders)\n",
    "\n",
    "experiment_name = f'random_split_0_new'\n",
    "if experiment_name in os.listdir('lightning_logs') :\n",
    "    checkpoint_name = os.listdir(os.path.join('lightning_logs', experiment_name, 'checkpoints'))[0]\n",
    "    checkpoint_path = os.path.join('lightning_logs', experiment_name, 'checkpoints', checkpoint_name)\n",
    "    litschnet = LitSchNet.load_from_checkpoint(checkpoint_path=checkpoint_path)\n",
    "litschnet.eval()"
   ]
  },
  {
   "cell_type": "code",
   "execution_count": 19,
   "id": "f6a829db-0e56-436d-8234-a76e0ed69bc0",
   "metadata": {},
   "outputs": [],
   "source": [
    "# dummy_mol = copy.deepcopy(ce.mol)\n",
    "# dummy_mol.RemoveAllConformers()\n",
    "# for conf_id in generated_ids :\n",
    "#     dummy_mol.AddConformer(ce.mol.GetConformer(conf_id), assignId=True)"
   ]
  },
  {
   "cell_type": "code",
   "execution_count": 45,
   "id": "7af1cf2f-d321-4371-a9e3-7b1c9ec1f8e3",
   "metadata": {},
   "outputs": [],
   "source": [
    "connector = CcdcRdkitConnector()\n",
    "mol = io.MoleculeReader(all_ligand_files)[1]\n",
    "rdkit_mol = connector.ccdc_mol_to_rdkit_mol(mol)\n",
    "ccdc_mols = [mol for mol in io.MoleculeReader(all_ligand_files)][2:]\n",
    "connector.ccdc_mols_to_rdkit_mol_conformers(ccdc_mols, rdkit_mol)\n",
    "data_list = mol_featurizer.featurize_mol(rdkit_mol)\n",
    "batch = Batch.from_data_list(data_list)"
   ]
  },
  {
   "cell_type": "code",
   "execution_count": 46,
   "id": "865fdbf3-102e-42e9-8c78-74c684ec91bf",
   "metadata": {},
   "outputs": [
    {
     "data": {
      "application/vnd.jupyter.widget-view+json": {
       "model_id": "29cb53cdfeb94313b5367f91eee53d5d",
       "version_major": 2,
       "version_minor": 0
      },
      "text/plain": [
       "interactive(children=(IntSlider(value=0, description='conf_id', max=99), Output()), _dom_classes=('widget-inte…"
      ]
     },
     "metadata": {},
     "output_type": "display_data"
    }
   ],
   "source": [
    "from mol_viewer import MolViewer\n",
    "MolViewer().view(rdkit_mol)"
   ]
  },
  {
   "cell_type": "code",
   "execution_count": 54,
   "id": "6075d6c5-9c72-4f2a-ae92-02b9cf646f99",
   "metadata": {},
   "outputs": [
    {
     "data": {
      "text/plain": [
       "[51, 5, 64, 4, 63, 52, 36]"
      ]
     },
     "execution_count": 54,
     "metadata": {},
     "output_type": "execute_result"
    }
   ],
   "source": [
    "indexes"
   ]
  },
  {
   "cell_type": "code",
   "execution_count": 56,
   "id": "c4e9895e-9829-4eb2-a0b6-c9e7b188258c",
   "metadata": {},
   "outputs": [
    {
     "data": {
      "text/plain": [
       "{4, 5}"
      ]
     },
     "execution_count": 56,
     "metadata": {},
     "output_type": "execute_result"
    }
   ],
   "source": [
    "set(indexes).intersection(set(range(20)))"
   ]
  },
  {
   "cell_type": "code",
   "execution_count": 63,
   "id": "10492777-0bb5-4455-8365-085d1ee4d119",
   "metadata": {},
   "outputs": [],
   "source": [
    "with torch.no_grad() :\n",
    "    preds = litschnet(batch).cpu().numpy()\n",
    "preds = preds.reshape(-1)\n",
    "top20_index = preds.argsort()[:20]\n",
    "# sorted_ccdc_mols = [ccdc_mol for i, ccdc_mol in enumerate(ccdc_mols) if i in top20_index]"
   ]
  },
  {
   "cell_type": "code",
   "execution_count": 65,
   "id": "8bf440ab-591c-4db1-b4ef-e765f305fe42",
   "metadata": {},
   "outputs": [
    {
     "data": {
      "text/plain": [
       "{4, 5, 51, 52}"
      ]
     },
     "execution_count": 65,
     "metadata": {},
     "output_type": "execute_result"
    }
   ],
   "source": [
    "set(indexes).intersection(set(top20_index))"
   ]
  },
  {
   "cell_type": "code",
   "execution_count": 66,
   "id": "f8aef41b-1657-42ce-b8f1-0c99fe2d7ae8",
   "metadata": {},
   "outputs": [],
   "source": [
    "rmsds = mol_featurizer.get_bioactive_rmsds(rdkit_mol)\n",
    "top20_index = rmsds.argsort()[:20]"
   ]
  },
  {
   "cell_type": "code",
   "execution_count": 68,
   "id": "eff4a023-c6dc-48e3-b920-e355cca09fff",
   "metadata": {},
   "outputs": [
    {
     "data": {
      "text/plain": [
       "set()"
      ]
     },
     "execution_count": 68,
     "metadata": {},
     "output_type": "execute_result"
    }
   ],
   "source": [
    "set(indexes).intersection(set(top20_index))"
   ]
  },
  {
   "cell_type": "code",
   "execution_count": 71,
   "id": "87b2130c-5d7d-4db2-9f91-b98dd2e4b8ae",
   "metadata": {},
   "outputs": [],
   "source": [
    "import numpy as np\n",
    "top20_index = np.array([data.energy for data in data_list]).argsort()[:20]"
   ]
  },
  {
   "cell_type": "code",
   "execution_count": 72,
   "id": "5df630dc-eb6b-4b40-9750-1699e690b070",
   "metadata": {},
   "outputs": [
    {
     "data": {
      "text/plain": [
       "set()"
      ]
     },
     "execution_count": 72,
     "metadata": {},
     "output_type": "execute_result"
    }
   ],
   "source": [
    "set(indexes).intersection(set(top20_index))"
   ]
  }
 ],
 "metadata": {
  "kernelspec": {
   "display_name": "Python 3 (ipykernel)",
   "language": "python",
   "name": "python3"
  },
  "language_info": {
   "codemirror_mode": {
    "name": "ipython",
    "version": 3
   },
   "file_extension": ".py",
   "mimetype": "text/x-python",
   "name": "python",
   "nbconvert_exporter": "python",
   "pygments_lexer": "ipython3",
   "version": "3.7.10"
  }
 },
 "nbformat": 4,
 "nbformat_minor": 5
}
