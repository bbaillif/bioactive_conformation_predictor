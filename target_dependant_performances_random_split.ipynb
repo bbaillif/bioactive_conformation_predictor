{
 "cells": [
  {
   "cell_type": "code",
   "execution_count": 43,
   "id": "492c371b-69fd-4cb7-ba0c-ae10bc5605f9",
   "metadata": {},
   "outputs": [],
   "source": [
    "import pickle\n",
    "import os\n",
    "import numpy as np\n",
    "import pandas as pd\n",
    "import matplotlib.pyplot as plt\n",
    "import seaborn as sns\n",
    "\n",
    "from collections import defaultdict\n",
    "from pdbbind_metadata_processor import PDBBindMetadataProcessor"
   ]
  },
  {
   "cell_type": "code",
   "execution_count": 2,
   "id": "82b284ac-54a9-431f-b7c6-1c5adb28243b",
   "metadata": {},
   "outputs": [],
   "source": [
    "pdbbind_table = PDBBindMetadataProcessor().get_master_dataframe()"
   ]
  },
  {
   "cell_type": "code",
   "execution_count": 14,
   "id": "48b1c5d2-15cc-4984-8082-bed6c7d6b8c4",
   "metadata": {},
   "outputs": [
    {
     "data": {
      "text/html": [
       "<div>\n",
       "<style scoped>\n",
       "    .dataframe tbody tr th:only-of-type {\n",
       "        vertical-align: middle;\n",
       "    }\n",
       "\n",
       "    .dataframe tbody tr th {\n",
       "        vertical-align: top;\n",
       "    }\n",
       "\n",
       "    .dataframe thead th {\n",
       "        text-align: right;\n",
       "    }\n",
       "</style>\n",
       "<table border=\"1\" class=\"dataframe\">\n",
       "  <thead>\n",
       "    <tr style=\"text-align: right;\">\n",
       "      <th></th>\n",
       "      <th>PDB code</th>\n",
       "      <th>resolution</th>\n",
       "      <th>release year_x</th>\n",
       "      <th>-logKd/Ki</th>\n",
       "      <th>Kd/Ki</th>\n",
       "      <th>reference</th>\n",
       "      <th>ligand name</th>\n",
       "      <th>activity_list</th>\n",
       "      <th>sep</th>\n",
       "      <th>value</th>\n",
       "      <th>units</th>\n",
       "      <th>release year_y</th>\n",
       "      <th>Uniprot ID</th>\n",
       "      <th>protein name</th>\n",
       "      <th>active</th>\n",
       "    </tr>\n",
       "  </thead>\n",
       "  <tbody>\n",
       "    <tr>\n",
       "      <th>0</th>\n",
       "      <td>3zzf</td>\n",
       "      <td>2.20</td>\n",
       "      <td>2012</td>\n",
       "      <td>0.40</td>\n",
       "      <td>Ki=400mM      //</td>\n",
       "      <td>3zzf.pdf</td>\n",
       "      <td>(NLG)</td>\n",
       "      <td>[mM, =, 400]</td>\n",
       "      <td>=</td>\n",
       "      <td>400000000.0</td>\n",
       "      <td>nM</td>\n",
       "      <td>2012</td>\n",
       "      <td>Q01217</td>\n",
       "      <td>ACETYLGLUTAMATE KINASE</td>\n",
       "      <td>False</td>\n",
       "    </tr>\n",
       "    <tr>\n",
       "      <th>1</th>\n",
       "      <td>3gww</td>\n",
       "      <td>2.46</td>\n",
       "      <td>2009</td>\n",
       "      <td>0.45</td>\n",
       "      <td>IC50=355mM    //</td>\n",
       "      <td>3gwu.pdf</td>\n",
       "      <td>(SFX)</td>\n",
       "      <td>[mM, =, 355]</td>\n",
       "      <td>=</td>\n",
       "      <td>355000000.0</td>\n",
       "      <td>nM</td>\n",
       "      <td>2009</td>\n",
       "      <td>O67854</td>\n",
       "      <td>TRANSPORTER</td>\n",
       "      <td>False</td>\n",
       "    </tr>\n",
       "    <tr>\n",
       "      <th>2</th>\n",
       "      <td>1w8l</td>\n",
       "      <td>1.80</td>\n",
       "      <td>2004</td>\n",
       "      <td>0.49</td>\n",
       "      <td>Ki=320mM      //</td>\n",
       "      <td>1w8l.pdf</td>\n",
       "      <td>(1P3)</td>\n",
       "      <td>[mM, =, 320]</td>\n",
       "      <td>=</td>\n",
       "      <td>320000000.0</td>\n",
       "      <td>nM</td>\n",
       "      <td>2004</td>\n",
       "      <td>P62937</td>\n",
       "      <td>PEPTIDYL-PROLYL CIS-TRANS ISOMERASE A</td>\n",
       "      <td>False</td>\n",
       "    </tr>\n",
       "    <tr>\n",
       "      <th>3</th>\n",
       "      <td>3fqa</td>\n",
       "      <td>2.35</td>\n",
       "      <td>2009</td>\n",
       "      <td>0.49</td>\n",
       "      <td>IC50=320mM    //</td>\n",
       "      <td>3fq7.pdf</td>\n",
       "      <td>(GAB&amp;PMP)</td>\n",
       "      <td>[mM, =, 320]</td>\n",
       "      <td>=</td>\n",
       "      <td>320000000.0</td>\n",
       "      <td>nM</td>\n",
       "      <td>2009</td>\n",
       "      <td>P24630</td>\n",
       "      <td>GLUTAMATE-1-SEMIALDEHYDE 2,1-AMINOMUTASE</td>\n",
       "      <td>False</td>\n",
       "    </tr>\n",
       "    <tr>\n",
       "      <th>4</th>\n",
       "      <td>1zsb</td>\n",
       "      <td>2.00</td>\n",
       "      <td>1996</td>\n",
       "      <td>0.60</td>\n",
       "      <td>Kd=250mM      //</td>\n",
       "      <td>1zsb.pdf</td>\n",
       "      <td>(AZM)</td>\n",
       "      <td>[mM, =, 250]</td>\n",
       "      <td>=</td>\n",
       "      <td>250000000.0</td>\n",
       "      <td>nM</td>\n",
       "      <td>1996</td>\n",
       "      <td>P00918</td>\n",
       "      <td>CARBONIC ANHYDRASE 2</td>\n",
       "      <td>False</td>\n",
       "    </tr>\n",
       "  </tbody>\n",
       "</table>\n",
       "</div>"
      ],
      "text/plain": [
       "  PDB code resolution  ...                              protein name  active\n",
       "0     3zzf       2.20  ...                    ACETYLGLUTAMATE KINASE   False\n",
       "1     3gww       2.46  ...                               TRANSPORTER   False\n",
       "2     1w8l       1.80  ...     PEPTIDYL-PROLYL CIS-TRANS ISOMERASE A   False\n",
       "3     3fqa       2.35  ...  GLUTAMATE-1-SEMIALDEHYDE 2,1-AMINOMUTASE   False\n",
       "4     1zsb       2.00  ...                      CARBONIC ANHYDRASE 2   False\n",
       "\n",
       "[5 rows x 15 columns]"
      ]
     },
     "execution_count": 14,
     "metadata": {},
     "output_type": "execute_result"
    }
   ],
   "source": [
    "pdbbind_table.head()"
   ]
  },
  {
   "cell_type": "code",
   "execution_count": 49,
   "id": "d81ee112-1919-4164-9df9-aefde3706f0e",
   "metadata": {},
   "outputs": [],
   "source": [
    "mol_results_path = 'results/random_split_0_pdbbind/mol_results.p'\n",
    "with open(mol_results_path, 'rb') as f :\n",
    "    mol_results = pickle.load(f)\n",
    "\n",
    "conf_results_path = 'results/random_split_0_pdbbind/conf_results.p'\n",
    "with open(conf_results_path, 'rb') as f :\n",
    "    conf_results = pickle.load(f)"
   ]
  },
  {
   "cell_type": "code",
   "execution_count": 8,
   "id": "6bc131d4-8a52-4bed-8721-72ca7937495a",
   "metadata": {},
   "outputs": [],
   "source": [
    "smiles_df = pd.read_csv('data/smiles_df.csv', index_col=0)"
   ]
  },
  {
   "cell_type": "code",
   "execution_count": 10,
   "id": "47edca34-147b-42bd-875e-357a74492fcc",
   "metadata": {},
   "outputs": [
    {
     "data": {
      "text/html": [
       "<div>\n",
       "<style scoped>\n",
       "    .dataframe tbody tr th:only-of-type {\n",
       "        vertical-align: middle;\n",
       "    }\n",
       "\n",
       "    .dataframe tbody tr th {\n",
       "        vertical-align: top;\n",
       "    }\n",
       "\n",
       "    .dataframe thead th {\n",
       "        text-align: right;\n",
       "    }\n",
       "</style>\n",
       "<table border=\"1\" class=\"dataframe\">\n",
       "  <thead>\n",
       "    <tr style=\"text-align: right;\">\n",
       "      <th></th>\n",
       "      <th>smiles</th>\n",
       "      <th>dataset</th>\n",
       "      <th>id</th>\n",
       "      <th>included</th>\n",
       "    </tr>\n",
       "  </thead>\n",
       "  <tbody>\n",
       "    <tr>\n",
       "      <th>0</th>\n",
       "      <td>CC[C@H]1[C@@H](C(=O)N[C@]2(C(=O)NS(=O)(=O)C3(C...</td>\n",
       "      <td>pdbbind</td>\n",
       "      <td>6nzt</td>\n",
       "      <td>False</td>\n",
       "    </tr>\n",
       "    <tr>\n",
       "      <th>1</th>\n",
       "      <td>Cc1ccc(NC(=O)N[C@@H](Cc2cc(F)cc(F)c2)C(=O)N[C@...</td>\n",
       "      <td>pdbbind</td>\n",
       "      <td>6pka</td>\n",
       "      <td>False</td>\n",
       "    </tr>\n",
       "    <tr>\n",
       "      <th>2</th>\n",
       "      <td>O=c1ncc2c(-c3ccc(F)cc3F)cc(N3CC[NH2+]CC3)cc2n1...</td>\n",
       "      <td>pdbbind</td>\n",
       "      <td>1m7q</td>\n",
       "      <td>True</td>\n",
       "    </tr>\n",
       "    <tr>\n",
       "      <th>3</th>\n",
       "      <td>CC(C)C[C@H](NC(=O)[C@H](CC(N)=O)NC(=O)[C@@H](N...</td>\n",
       "      <td>pdbbind</td>\n",
       "      <td>5vwk</td>\n",
       "      <td>False</td>\n",
       "    </tr>\n",
       "    <tr>\n",
       "      <th>4</th>\n",
       "      <td>CC(C)C[C@H](NC(=O)[C@H](CC(N)=O)NC(=O)[C@@H](N...</td>\n",
       "      <td>pdbbind</td>\n",
       "      <td>5vwi</td>\n",
       "      <td>False</td>\n",
       "    </tr>\n",
       "  </tbody>\n",
       "</table>\n",
       "</div>"
      ],
      "text/plain": [
       "                                              smiles  dataset    id  included\n",
       "0  CC[C@H]1[C@@H](C(=O)N[C@]2(C(=O)NS(=O)(=O)C3(C...  pdbbind  6nzt     False\n",
       "1  Cc1ccc(NC(=O)N[C@@H](Cc2cc(F)cc(F)c2)C(=O)N[C@...  pdbbind  6pka     False\n",
       "2  O=c1ncc2c(-c3ccc(F)cc3F)cc(N3CC[NH2+]CC3)cc2n1...  pdbbind  1m7q      True\n",
       "3  CC(C)C[C@H](NC(=O)[C@H](CC(N)=O)NC(=O)[C@@H](N...  pdbbind  5vwk     False\n",
       "4  CC(C)C[C@H](NC(=O)[C@H](CC(N)=O)NC(=O)[C@@H](N...  pdbbind  5vwi     False"
      ]
     },
     "execution_count": 10,
     "metadata": {},
     "output_type": "execute_result"
    }
   ],
   "source": [
    "smiles_df.head()"
   ]
  },
  {
   "cell_type": "code",
   "execution_count": 11,
   "id": "8d9febc2-da11-4193-bb3e-c164e4f82668",
   "metadata": {},
   "outputs": [],
   "source": [
    "included_pdb_ids = smiles_df[(smiles_df['included']) & (smiles_df['dataset'] == 'pdbbind')]['id'].unique()"
   ]
  },
  {
   "cell_type": "code",
   "execution_count": 15,
   "id": "e6a36d21-143a-40a6-96e2-cf8399e59db2",
   "metadata": {},
   "outputs": [],
   "source": [
    "included_table = pdbbind_table[pdbbind_table['PDB code'].isin(included_pdb_ids)]"
   ]
  },
  {
   "cell_type": "code",
   "execution_count": 73,
   "id": "784e1342-5172-457a-bcc0-58f54cb77b4d",
   "metadata": {},
   "outputs": [
    {
     "data": {
      "text/plain": [
       "P00918    420\n",
       "P56817    325\n",
       "P24941    239\n",
       "------    238\n",
       "O60885    189\n",
       "         ... \n",
       "O00167      1\n",
       "Q6DN90      1\n",
       "P00778      1\n",
       "Q9Y5A9      1\n",
       "Q13002      1\n",
       "Name: Uniprot ID, Length: 2489, dtype: int64"
      ]
     },
     "execution_count": 73,
     "metadata": {},
     "output_type": "execute_result"
    }
   ],
   "source": [
    "included_table['Uniprot ID'].value_counts()"
   ]
  },
  {
   "cell_type": "code",
   "execution_count": 77,
   "id": "d4f69e01-ff02-46f1-9f18-3fccce4f5a4f",
   "metadata": {},
   "outputs": [],
   "source": [
    "def get_target_mol_results(uniprot_id) :\n",
    "    all_results = {}\n",
    "    target_pdb_ids = included_table[included_table['Uniprot ID'] == uniprot_id]['PDB code']\n",
    "    ligand_smiles = smiles_df[smiles_df['id'].isin(target_pdb_ids)]['smiles'].unique()\n",
    "    for smiles in ligand_smiles :\n",
    "        if smiles in mol_results :\n",
    "            all_results[smiles] = mol_results[smiles]\n",
    "    return all_results"
   ]
  },
  {
   "cell_type": "code",
   "execution_count": 78,
   "id": "7bbe8aea-a8ae-4299-af05-4f96d959868a",
   "metadata": {},
   "outputs": [],
   "source": [
    "def group_target_results(all_results) :\n",
    "    target_results = defaultdict(list)\n",
    "    for smiles, result in all_results.items() :\n",
    "        if 'normalized_first_bioactive_rank' in result :\n",
    "            for key in result.keys() :\n",
    "                value = result[key]\n",
    "                if type(value) in [int, float, np.float64] :\n",
    "                    target_results[key].append(value)\n",
    "            normalized_first_bioactive_rank_model = result['normalized_first_bioactive_rank']['model']\n",
    "            target_results['normalized_first_bioactive_rank_model'].append(normalized_first_bioactive_rank_model)\n",
    "    return target_results"
   ]
  },
  {
   "cell_type": "code",
   "execution_count": 75,
   "id": "b0615fcc-e964-4b3c-9756-6e75ada71740",
   "metadata": {},
   "outputs": [
    {
     "data": {
      "text/html": [
       "<div>\n",
       "<style scoped>\n",
       "    .dataframe tbody tr th:only-of-type {\n",
       "        vertical-align: middle;\n",
       "    }\n",
       "\n",
       "    .dataframe tbody tr th {\n",
       "        vertical-align: top;\n",
       "    }\n",
       "\n",
       "    .dataframe thead th {\n",
       "        text-align: right;\n",
       "    }\n",
       "</style>\n",
       "<table border=\"1\" class=\"dataframe\">\n",
       "  <thead>\n",
       "    <tr style=\"text-align: right;\">\n",
       "      <th></th>\n",
       "      <th>PDB code</th>\n",
       "      <th>resolution</th>\n",
       "      <th>release year_x</th>\n",
       "      <th>-logKd/Ki</th>\n",
       "      <th>Kd/Ki</th>\n",
       "      <th>reference</th>\n",
       "      <th>ligand name</th>\n",
       "      <th>activity_list</th>\n",
       "      <th>sep</th>\n",
       "      <th>value</th>\n",
       "      <th>units</th>\n",
       "      <th>release year_y</th>\n",
       "      <th>Uniprot ID</th>\n",
       "      <th>protein name</th>\n",
       "      <th>active</th>\n",
       "    </tr>\n",
       "  </thead>\n",
       "  <tbody>\n",
       "    <tr>\n",
       "      <th>301</th>\n",
       "      <td>4zsm</td>\n",
       "      <td>1.96</td>\n",
       "      <td>2015</td>\n",
       "      <td>2.40</td>\n",
       "      <td>IC50~4mM      //</td>\n",
       "      <td>4zsm.pdf</td>\n",
       "      <td>(4RW)</td>\n",
       "      <td>[mM, ~, 4]</td>\n",
       "      <td>~</td>\n",
       "      <td>4000000.000</td>\n",
       "      <td>nM</td>\n",
       "      <td>2015</td>\n",
       "      <td>P56817</td>\n",
       "      <td>BETA-SECRETASE 1</td>\n",
       "      <td>False</td>\n",
       "    </tr>\n",
       "    <tr>\n",
       "      <th>441</th>\n",
       "      <td>2ohk</td>\n",
       "      <td>2.20</td>\n",
       "      <td>2007</td>\n",
       "      <td>2.70</td>\n",
       "      <td>IC50~2000uM   //</td>\n",
       "      <td>2ohk.pdf</td>\n",
       "      <td>(1SQ)</td>\n",
       "      <td>[uM, ~, 2000]</td>\n",
       "      <td>~</td>\n",
       "      <td>2000000.000</td>\n",
       "      <td>nM</td>\n",
       "      <td>2007</td>\n",
       "      <td>P56817</td>\n",
       "      <td>BETA-SECRETASE 1</td>\n",
       "      <td>False</td>\n",
       "    </tr>\n",
       "    <tr>\n",
       "      <th>444</th>\n",
       "      <td>3bra</td>\n",
       "      <td>2.30</td>\n",
       "      <td>2008</td>\n",
       "      <td>2.70</td>\n",
       "      <td>Kd=2000uM     //</td>\n",
       "      <td>3bra.pdf</td>\n",
       "      <td>(AEF)</td>\n",
       "      <td>[uM, =, 2000]</td>\n",
       "      <td>=</td>\n",
       "      <td>2000000.000</td>\n",
       "      <td>nM</td>\n",
       "      <td>2008</td>\n",
       "      <td>P56817</td>\n",
       "      <td>BETA-SECRETASE 1</td>\n",
       "      <td>False</td>\n",
       "    </tr>\n",
       "    <tr>\n",
       "      <th>451</th>\n",
       "      <td>3hvg</td>\n",
       "      <td>2.26</td>\n",
       "      <td>2009</td>\n",
       "      <td>2.70</td>\n",
       "      <td>IC50=2mM      //</td>\n",
       "      <td>3hvg.pdf</td>\n",
       "      <td>(EV0)</td>\n",
       "      <td>[mM, =, 2]</td>\n",
       "      <td>=</td>\n",
       "      <td>2000000.000</td>\n",
       "      <td>nM</td>\n",
       "      <td>2009</td>\n",
       "      <td>P56817</td>\n",
       "      <td>BETA-SECRETASE 1</td>\n",
       "      <td>False</td>\n",
       "    </tr>\n",
       "    <tr>\n",
       "      <th>552</th>\n",
       "      <td>3udh</td>\n",
       "      <td>1.70</td>\n",
       "      <td>2012</td>\n",
       "      <td>2.85</td>\n",
       "      <td>Kd=1.4mM      //</td>\n",
       "      <td>3udh.pdf</td>\n",
       "      <td>(091)</td>\n",
       "      <td>[mM, =, 1.4]</td>\n",
       "      <td>=</td>\n",
       "      <td>1400000.000</td>\n",
       "      <td>nM</td>\n",
       "      <td>2012</td>\n",
       "      <td>P56817</td>\n",
       "      <td>BETA-SECRETASE 1</td>\n",
       "      <td>False</td>\n",
       "    </tr>\n",
       "    <tr>\n",
       "      <th>...</th>\n",
       "      <td>...</td>\n",
       "      <td>...</td>\n",
       "      <td>...</td>\n",
       "      <td>...</td>\n",
       "      <td>...</td>\n",
       "      <td>...</td>\n",
       "      <td>...</td>\n",
       "      <td>...</td>\n",
       "      <td>...</td>\n",
       "      <td>...</td>\n",
       "      <td>...</td>\n",
       "      <td>...</td>\n",
       "      <td>...</td>\n",
       "      <td>...</td>\n",
       "      <td>...</td>\n",
       "    </tr>\n",
       "    <tr>\n",
       "      <th>18667</th>\n",
       "      <td>6pz4</td>\n",
       "      <td>1.85</td>\n",
       "      <td>2019</td>\n",
       "      <td>9.40</td>\n",
       "      <td>IC50=0.0004uM //</td>\n",
       "      <td>6pz4.pdf</td>\n",
       "      <td>(P6J)</td>\n",
       "      <td>[uM, =, 0.0004]</td>\n",
       "      <td>=</td>\n",
       "      <td>0.400</td>\n",
       "      <td>nM</td>\n",
       "      <td>2019</td>\n",
       "      <td>P56817</td>\n",
       "      <td>BETA-SECRETASE 1</td>\n",
       "      <td>True</td>\n",
       "    </tr>\n",
       "    <tr>\n",
       "      <th>18741</th>\n",
       "      <td>5uyu</td>\n",
       "      <td>1.90</td>\n",
       "      <td>2017</td>\n",
       "      <td>9.51</td>\n",
       "      <td>IC50=0.31nM   //</td>\n",
       "      <td>5uyu.pdf</td>\n",
       "      <td>(8QV)</td>\n",
       "      <td>[nM, =, 0.31]</td>\n",
       "      <td>=</td>\n",
       "      <td>0.310</td>\n",
       "      <td>nM</td>\n",
       "      <td>2017</td>\n",
       "      <td>P56817</td>\n",
       "      <td>BETA-SECRETASE 1</td>\n",
       "      <td>True</td>\n",
       "    </tr>\n",
       "    <tr>\n",
       "      <th>18750</th>\n",
       "      <td>2g94</td>\n",
       "      <td>1.86</td>\n",
       "      <td>2006</td>\n",
       "      <td>9.52</td>\n",
       "      <td>Ki=0.3nM      //</td>\n",
       "      <td>2g94.pdf</td>\n",
       "      <td>(ZPQ)</td>\n",
       "      <td>[nM, =, 0.3]</td>\n",
       "      <td>=</td>\n",
       "      <td>0.300</td>\n",
       "      <td>nM</td>\n",
       "      <td>2006</td>\n",
       "      <td>P56817</td>\n",
       "      <td>BETA-SECRETASE 1</td>\n",
       "      <td>True</td>\n",
       "    </tr>\n",
       "    <tr>\n",
       "      <th>18768</th>\n",
       "      <td>4wtu</td>\n",
       "      <td>1.85</td>\n",
       "      <td>2015</td>\n",
       "      <td>9.52</td>\n",
       "      <td>IC50=0.3nM    //</td>\n",
       "      <td>4wtu.pdf</td>\n",
       "      <td>(3UT)</td>\n",
       "      <td>[nM, =, 0.3]</td>\n",
       "      <td>=</td>\n",
       "      <td>0.300</td>\n",
       "      <td>nM</td>\n",
       "      <td>2015</td>\n",
       "      <td>P56817</td>\n",
       "      <td>BETA-SECRETASE 1</td>\n",
       "      <td>True</td>\n",
       "    </tr>\n",
       "    <tr>\n",
       "      <th>19270</th>\n",
       "      <td>4gid</td>\n",
       "      <td>2.00</td>\n",
       "      <td>2012  1</td>\n",
       "      <td>0.77</td>\n",
       "      <td>Ki=0.017nM    //</td>\n",
       "      <td>4gid.pdf</td>\n",
       "      <td>(0GH)</td>\n",
       "      <td>[nM, =, 0.017]</td>\n",
       "      <td>=</td>\n",
       "      <td>0.017</td>\n",
       "      <td>nM</td>\n",
       "      <td>2012</td>\n",
       "      <td>P56817</td>\n",
       "      <td>BETA-SECRETASE 1</td>\n",
       "      <td>True</td>\n",
       "    </tr>\n",
       "  </tbody>\n",
       "</table>\n",
       "<p>324 rows × 15 columns</p>\n",
       "</div>"
      ],
      "text/plain": [
       "      PDB code resolution release year_x  ...  Uniprot ID      protein name active\n",
       "301       4zsm       1.96           2015  ...      P56817  BETA-SECRETASE 1  False\n",
       "441       2ohk       2.20           2007  ...      P56817  BETA-SECRETASE 1  False\n",
       "444       3bra       2.30           2008  ...      P56817  BETA-SECRETASE 1  False\n",
       "451       3hvg       2.26           2009  ...      P56817  BETA-SECRETASE 1  False\n",
       "552       3udh       1.70           2012  ...      P56817  BETA-SECRETASE 1  False\n",
       "...        ...        ...            ...  ...         ...               ...    ...\n",
       "18667     6pz4       1.85           2019  ...      P56817  BETA-SECRETASE 1   True\n",
       "18741     5uyu       1.90           2017  ...      P56817  BETA-SECRETASE 1   True\n",
       "18750     2g94       1.86           2006  ...      P56817  BETA-SECRETASE 1   True\n",
       "18768     4wtu       1.85           2015  ...      P56817  BETA-SECRETASE 1   True\n",
       "19270     4gid       2.00        2012  1  ...      P56817  BETA-SECRETASE 1   True\n",
       "\n",
       "[324 rows x 15 columns]"
      ]
     },
     "execution_count": 75,
     "metadata": {},
     "output_type": "execute_result"
    }
   ],
   "source": [
    "included_table[included_table['protein name'] == 'BETA-SECRETASE 1']"
   ]
  },
  {
   "cell_type": "code",
   "execution_count": 79,
   "id": "1eecac62-3487-43bb-a823-2ef3cbe60527",
   "metadata": {},
   "outputs": [],
   "source": [
    "target_name = 'BETA-SECRETASE 1'\n",
    "uniprot_id = 'P56817'\n",
    "all_results = get_target_mol_results(uniprot_id)"
   ]
  },
  {
   "cell_type": "code",
   "execution_count": 58,
   "id": "2076f638-b58d-46a9-8956-f18ff6785bc8",
   "metadata": {},
   "outputs": [
    {
     "data": {
      "text/plain": [
       "38"
      ]
     },
     "execution_count": 58,
     "metadata": {},
     "output_type": "execute_result"
    }
   ],
   "source": [
    "len(all_results)"
   ]
  },
  {
   "cell_type": "code",
   "execution_count": 45,
   "id": "113062b2-41a7-4382-a583-07e454ee1945",
   "metadata": {},
   "outputs": [
    {
     "data": {
      "text/plain": [
       "dict_keys(['n_rotatable_bonds', 'n_heavy_atoms', 'max_sim_to_training', 'n_bioactive', 'n_generated', 'r2_all', 'pearson_all', 'spearman_all', 'r2_gen', 'pearson_gen', 'spearman_gen'])"
      ]
     },
     "execution_count": 45,
     "metadata": {},
     "output_type": "execute_result"
    }
   ],
   "source": [
    "target_results.keys()"
   ]
  },
  {
   "cell_type": "code",
   "execution_count": 64,
   "id": "49ceabbb-cb26-463e-a9f5-a26ec97b4350",
   "metadata": {},
   "outputs": [],
   "source": [
    "target_results = defaultdict(list)\n",
    "for smiles, result in all_results.items() :\n",
    "    if 'normalized_first_bioactive_rank' in result :\n",
    "        for key in result.keys() :\n",
    "            value = result[key]\n",
    "            if type(value) in [int, float, np.float64] :\n",
    "                target_results[key].append(value)\n",
    "        normalized_first_bioactive_rank_model = result['normalized_first_bioactive_rank']['model']\n",
    "        target_results['normalized_first_bioactive_rank_model'].append(normalized_first_bioactive_rank_model)"
   ]
  },
  {
   "cell_type": "code",
   "execution_count": 65,
   "id": "e3628edf-2178-4170-bef1-fd42356d2843",
   "metadata": {},
   "outputs": [
    {
     "data": {
      "text/plain": [
       "<AxesSubplot:>"
      ]
     },
     "execution_count": 65,
     "metadata": {},
     "output_type": "execute_result"
    },
    {
     "data": {
      "image/png": "[encoded data removed]",
      "text/plain": [
       "<Figure size 432x288 with 1 Axes>"
      ]
     },
     "metadata": {
      "needs_background": "light"
     },
     "output_type": "display_data"
    }
   ],
   "source": [
    "sns.scatterplot(x=target_results['n_rotatable_bonds'],\n",
    "                y=target_results['normalized_first_bioactive_rank_model'])"
   ]
  },
  {
   "cell_type": "code",
   "execution_count": 67,
   "id": "c6d0ee36-9d17-4036-8fb7-97bb61dcba8c",
   "metadata": {},
   "outputs": [
    {
     "data": {
      "text/plain": [
       "<AxesSubplot:>"
      ]
     },
     "execution_count": 67,
     "metadata": {},
     "output_type": "execute_result"
    },
    {
     "data": {
      "image/png": "[encoded data removed]",
      "text/plain": [
       "<Figure size 432x288 with 1 Axes>"
      ]
     },
     "metadata": {
      "needs_background": "light"
     },
     "output_type": "display_data"
    }
   ],
   "source": [
    "sns.scatterplot(x=target_results['max_sim_to_training'],\n",
    "                y=target_results['normalized_first_bioactive_rank_model'])"
   ]
  },
  {
   "cell_type": "code",
   "execution_count": 87,
   "id": "1346176e-6a54-4a30-b576-af0ac8ebb130",
   "metadata": {},
   "outputs": [],
   "source": [
    "def get_target_name_from_uniprot_id(uniprot_id) :\n",
    "    if uniprot_id in pdbbind_table['Uniprot ID'].values :\n",
    "        return pdbbind_table[pdbbind_table['Uniprot ID'] == uniprot_id]['protein name'].value_counts().index[0]\n",
    "    else :\n",
    "        print('Uniprot not in PDBbind')\n",
    "        return None"
   ]
  },
  {
   "cell_type": "code",
   "execution_count": 102,
   "id": "840270be-87b1-4357-86a5-eed77780b7ec",
   "metadata": {},
   "outputs": [],
   "source": [
    "train_smiles_path = 'data/ligand_random_splits/train_smiles_random_split_0.txt'\n",
    "with open(train_smiles_path, 'r') as f :\n",
    "    train_smiles = f.readlines()\n",
    "    train_smiles = [smiles.strip() for smiles in train_smiles]\n",
    "def get_training_size(uniprot_id) :\n",
    "    train_pdb = smiles_df[(smiles_df['smiles'].isin(train_smiles)) \n",
    "                          & (smiles_df['dataset'] == 'pdbbind')\n",
    "                         & (smiles_df['included'])]['id'].unique()\n",
    "    filtered_table = pdbbind_table[(pdbbind_table['PDB code'].isin(train_pdb)) & (pdbbind_table['Uniprot ID'] == uniprot_id)]\n",
    "    return len(filtered_table)"
   ]
  },
  {
   "cell_type": "code",
   "execution_count": 115,
   "id": "793772d9-5468-4de8-a180-75bae0127b46",
   "metadata": {},
   "outputs": [],
   "source": [
    "target_grouped_results = defaultdict(list)\n",
    "for uniprot_id in included_table['Uniprot ID'].unique() :\n",
    "    \n",
    "    all_results = get_target_mol_results(uniprot_id)\n",
    "    target_results = group_target_results(all_results)\n",
    "    \n",
    "    if len(target_results) :\n",
    "\n",
    "        ranks = target_results['normalized_first_bioactive_rank_model']\n",
    "        median = np.median(ranks)\n",
    "        n_first = len([True for rank in ranks if rank == 0])\n",
    "        fraction_bioactive_first = n_first / len(ranks)\n",
    "        target_name = get_target_name_from_uniprot_id(uniprot_id)\n",
    "        training_set_size = get_training_size(uniprot_id)\n",
    "        target_grouped_results['uniprot_id'].append(uniprot_id)\n",
    "        target_grouped_results['name'].append(target_name)\n",
    "        target_grouped_results['fraction_bio_first'].append(fraction_bioactive_first)\n",
    "        target_grouped_results['training_set_size'].append(training_set_size)\n",
    "        target_grouped_results['median_rank'].append(median)\n",
    "        target_grouped_results['test_set_size'].append(len(ranks))"
   ]
  },
  {
   "cell_type": "code",
   "execution_count": 116,
   "id": "a61db487-88f2-4233-9fae-40f9134e3ce7",
   "metadata": {},
   "outputs": [],
   "source": [
    "target_df = pd.DataFrame(target_grouped_results)"
   ]
  },
  {
   "cell_type": "code",
   "execution_count": 121,
   "id": "daa94817-ab91-435e-bfb3-22a772b465dc",
   "metadata": {},
   "outputs": [
    {
     "data": {
      "text/html": [
       "<div>\n",
       "<style scoped>\n",
       "    .dataframe tbody tr th:only-of-type {\n",
       "        vertical-align: middle;\n",
       "    }\n",
       "\n",
       "    .dataframe tbody tr th {\n",
       "        vertical-align: top;\n",
       "    }\n",
       "\n",
       "    .dataframe thead th {\n",
       "        text-align: right;\n",
       "    }\n",
       "</style>\n",
       "<table border=\"1\" class=\"dataframe\">\n",
       "  <thead>\n",
       "    <tr style=\"text-align: right;\">\n",
       "      <th></th>\n",
       "      <th>uniprot_id</th>\n",
       "      <th>name</th>\n",
       "      <th>fraction_bio_first</th>\n",
       "      <th>training_set_size</th>\n",
       "      <th>median_rank</th>\n",
       "      <th>test_set_size</th>\n",
       "    </tr>\n",
       "  </thead>\n",
       "  <tbody>\n",
       "    <tr>\n",
       "      <th>0</th>\n",
       "      <td>Q01217</td>\n",
       "      <td>ACETYLGLUTAMATE KINASE</td>\n",
       "      <td>1.000000</td>\n",
       "      <td>2</td>\n",
       "      <td>0.000000</td>\n",
       "      <td>1</td>\n",
       "    </tr>\n",
       "    <tr>\n",
       "      <th>1</th>\n",
       "      <td>O67854</td>\n",
       "      <td>TRANSPORTER</td>\n",
       "      <td>0.666667</td>\n",
       "      <td>27</td>\n",
       "      <td>0.000000</td>\n",
       "      <td>3</td>\n",
       "    </tr>\n",
       "    <tr>\n",
       "      <th>2</th>\n",
       "      <td>P62937</td>\n",
       "      <td>PEPTIDYL-PROLYL CIS-TRANS ISOMERASE A</td>\n",
       "      <td>0.000000</td>\n",
       "      <td>10</td>\n",
       "      <td>0.588235</td>\n",
       "      <td>3</td>\n",
       "    </tr>\n",
       "    <tr>\n",
       "      <th>3</th>\n",
       "      <td>P00918</td>\n",
       "      <td>CARBONIC ANHYDRASE 2</td>\n",
       "      <td>0.522727</td>\n",
       "      <td>354</td>\n",
       "      <td>0.000000</td>\n",
       "      <td>44</td>\n",
       "    </tr>\n",
       "    <tr>\n",
       "      <th>4</th>\n",
       "      <td>P56218</td>\n",
       "      <td>METHIONINE AMINOPEPTIDASE</td>\n",
       "      <td>0.000000</td>\n",
       "      <td>1</td>\n",
       "      <td>0.074074</td>\n",
       "      <td>1</td>\n",
       "    </tr>\n",
       "    <tr>\n",
       "      <th>...</th>\n",
       "      <td>...</td>\n",
       "      <td>...</td>\n",
       "      <td>...</td>\n",
       "      <td>...</td>\n",
       "      <td>...</td>\n",
       "      <td>...</td>\n",
       "    </tr>\n",
       "    <tr>\n",
       "      <th>965</th>\n",
       "      <td>Q7ZCR0</td>\n",
       "      <td>NL4-3 PROTEASE</td>\n",
       "      <td>1.000000</td>\n",
       "      <td>1</td>\n",
       "      <td>0.000000</td>\n",
       "      <td>1</td>\n",
       "    </tr>\n",
       "    <tr>\n",
       "      <th>966</th>\n",
       "      <td>Q9HZ64</td>\n",
       "      <td>PUTATIVE UNCHARACTERIZED PROTEIN</td>\n",
       "      <td>1.000000</td>\n",
       "      <td>1</td>\n",
       "      <td>0.000000</td>\n",
       "      <td>1</td>\n",
       "    </tr>\n",
       "    <tr>\n",
       "      <th>967</th>\n",
       "      <td>A2NHM3</td>\n",
       "      <td>ANTIBODY FAB ADD056 HEAVY CHAIN</td>\n",
       "      <td>1.000000</td>\n",
       "      <td>1</td>\n",
       "      <td>0.000000</td>\n",
       "      <td>1</td>\n",
       "    </tr>\n",
       "    <tr>\n",
       "      <th>968</th>\n",
       "      <td>O85672</td>\n",
       "      <td>GLUCOAMYLASE</td>\n",
       "      <td>1.000000</td>\n",
       "      <td>1</td>\n",
       "      <td>0.000000</td>\n",
       "      <td>1</td>\n",
       "    </tr>\n",
       "    <tr>\n",
       "      <th>969</th>\n",
       "      <td>A7YYL1</td>\n",
       "      <td>XENAVIDIN</td>\n",
       "      <td>1.000000</td>\n",
       "      <td>1</td>\n",
       "      <td>0.000000</td>\n",
       "      <td>1</td>\n",
       "    </tr>\n",
       "  </tbody>\n",
       "</table>\n",
       "<p>970 rows × 6 columns</p>\n",
       "</div>"
      ],
      "text/plain": [
       "    uniprot_id  ... test_set_size\n",
       "0       Q01217  ...             1\n",
       "1       O67854  ...             3\n",
       "2       P62937  ...             3\n",
       "3       P00918  ...            44\n",
       "4       P56218  ...             1\n",
       "..         ...  ...           ...\n",
       "965     Q7ZCR0  ...             1\n",
       "966     Q9HZ64  ...             1\n",
       "967     A2NHM3  ...             1\n",
       "968     O85672  ...             1\n",
       "969     A7YYL1  ...             1\n",
       "\n",
       "[970 rows x 6 columns]"
      ]
     },
     "execution_count": 121,
     "metadata": {},
     "output_type": "execute_result"
    }
   ],
   "source": [
    "target_df"
   ]
  },
  {
   "cell_type": "code",
   "execution_count": 117,
   "id": "1d6955ba-3366-459d-b951-67ec8e7accd7",
   "metadata": {},
   "outputs": [
    {
     "data": {
      "text/plain": [
       "0                     ACETYLGLUTAMATE KINASE\n",
       "1                                TRANSPORTER\n",
       "2      PEPTIDYL-PROLYL CIS-TRANS ISOMERASE A\n",
       "3                       CARBONIC ANHYDRASE 2\n",
       "4                  METHIONINE AMINOPEPTIDASE\n",
       "                       ...                  \n",
       "965                           NL4-3 PROTEASE\n",
       "966         PUTATIVE UNCHARACTERIZED PROTEIN\n",
       "967          ANTIBODY FAB ADD056 HEAVY CHAIN\n",
       "968                             GLUCOAMYLASE\n",
       "969                                XENAVIDIN\n",
       "Name: name, Length: 970, dtype: object"
      ]
     },
     "execution_count": 117,
     "metadata": {},
     "output_type": "execute_result"
    }
   ],
   "source": [
    "target_df['name']"
   ]
  },
  {
   "cell_type": "code",
   "execution_count": 118,
   "id": "bb343966-93ef-48fd-91b8-c1276710a307",
   "metadata": {},
   "outputs": [],
   "source": [
    "xenavidin_uniprot = target_df[target_df['name'] == 'XENAVIDIN']['uniprot_id'].values[0]"
   ]
  },
  {
   "cell_type": "code",
   "execution_count": 124,
   "id": "8ba98202-438d-4a21-b8e3-3a32b1f9e53c",
   "metadata": {},
   "outputs": [],
   "source": [
    "xenavidin_pdb = included_table[included_table['Uniprot ID'] == xenavidin_uniprot]['PDB code'].values[0]"
   ]
  },
  {
   "cell_type": "code",
   "execution_count": 130,
   "id": "8f0e4c73-d992-41d4-bec9-a74c79797749",
   "metadata": {},
   "outputs": [],
   "source": [
    "xenavidin_smiles = smiles_df[smiles_df['id'] == xenavidin_pdb]['smiles'].values[0]"
   ]
  },
  {
   "cell_type": "code",
   "execution_count": 131,
   "id": "e472a62f-b8ac-46b7-9069-99a6d32f11d3",
   "metadata": {},
   "outputs": [
    {
     "data": {
      "text/plain": [
       "'O=C([O-])CCCC[C@@H]1SC[C@@H]2NC(=O)N[C@H]12'"
      ]
     },
     "execution_count": 131,
     "metadata": {},
     "output_type": "execute_result"
    }
   ],
   "source": [
    "xenavidin_smiles"
   ]
  },
  {
   "cell_type": "code",
   "execution_count": 135,
   "id": "662a3fe2-e7b8-4dea-aebc-a81cbfae213d",
   "metadata": {},
   "outputs": [],
   "source": [
    "val_smiles_path = 'data/ligand_random_splits/val_smiles_random_split_0.txt'\n",
    "with open(train_smiles_path, 'r') as f :\n",
    "    val_smiles = f.readlines()\n",
    "    val_smiles = [smiles.strip() for smiles in val_smiles]"
   ]
  },
  {
   "cell_type": "code",
   "execution_count": 133,
   "id": "c2d61623-9b4c-4a90-b975-4a89a77451dd",
   "metadata": {},
   "outputs": [],
   "source": [
    "test_smiles_path = 'data/ligand_random_splits/test_smiles_random_split_0.txt'\n",
    "with open(train_smiles_path, 'r') as f :\n",
    "    test_smiles = f.readlines()\n",
    "    test_smiles = [smiles.strip() for smiles in test_smiles]"
   ]
  },
  {
   "cell_type": "code",
   "execution_count": 136,
   "id": "813ee31e-adf2-47bd-afaf-ba1913879b07",
   "metadata": {},
   "outputs": [
    {
     "data": {
      "text/plain": [
       "True"
      ]
     },
     "execution_count": 136,
     "metadata": {},
     "output_type": "execute_result"
    }
   ],
   "source": [
    "xenavidin_smiles in val_smiles"
   ]
  },
  {
   "cell_type": "code",
   "execution_count": 120,
   "id": "c290dc0b-508a-48f1-a292-a9f0aecde84f",
   "metadata": {},
   "outputs": [
    {
     "data": {
      "text/plain": [
       "<AxesSubplot:xlabel='training_set_size', ylabel='fraction_bio_first'>"
      ]
     },
     "execution_count": 120,
     "metadata": {},
     "output_type": "execute_result"
    },
    {
     "data": {
      "image/png": "[encoded data removed]",
      "text/plain": [
       "<Figure size 432x288 with 1 Axes>"
      ]
     },
     "metadata": {
      "needs_background": "light"
     },
     "output_type": "display_data"
    }
   ],
   "source": [
    "sns.scatterplot(data=target_df, x='training_set_size', y='fraction_bio_first')"
   ]
  }
 ],
 "metadata": {
  "kernelspec": {
   "display_name": "Python 3 (ipykernel)",
   "language": "python",
   "name": "python3"
  },
  "language_info": {
   "codemirror_mode": {
    "name": "ipython",
    "version": 3
   },
   "file_extension": ".py",
   "mimetype": "text/x-python",
   "name": "python",
   "nbconvert_exporter": "python",
   "pygments_lexer": "ipython3",
   "version": "3.7.10"
  },
  "widgets": {
   "application/vnd.jupyter.widget-state+json": {
    "state": {},
    "version_major": 2,
    "version_minor": 0
   }
  }
 },
 "nbformat": 4,
 "nbformat_minor": 5
}
