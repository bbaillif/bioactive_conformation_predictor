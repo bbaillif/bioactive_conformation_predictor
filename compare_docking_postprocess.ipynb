{
 "cells": [
  {
   "cell_type": "code",
   "execution_count": 1,
   "id": "7ae6a87c-1b3d-4fc9-949c-af9d84505cc4",
   "metadata": {},
   "outputs": [],
   "source": [
    "import pickle\n",
    "import os\n",
    "import pandas as pd\n",
    "import seaborn as sns"
   ]
  },
  {
   "cell_type": "code",
   "execution_count": 31,
   "id": "51df3496-839a-4804-b453-dfa39438ab52",
   "metadata": {},
   "outputs": [],
   "source": [
    "results = []\n",
    "for dock_id in os.listdir('gold_docking_postprocessing') :\n",
    "    result_path = os.path.join('gold_docking_postprocessing', dock_id, 'results.p')\n",
    "    if os.path.exists(result_path) :\n",
    "        with open(result_path, 'rb') as f :\n",
    "            result_d = pickle.load(f)\n",
    "            results.append(result_d)"
   ]
  },
  {
   "cell_type": "code",
   "execution_count": 32,
   "id": "4144f12d-bcf5-4b18-90a9-847b341408fb",
   "metadata": {},
   "outputs": [
    {
     "data": {
      "text/plain": [
       "712"
      ]
     },
     "execution_count": 32,
     "metadata": {},
     "output_type": "execute_result"
    }
   ],
   "source": [
    "len(results)"
   ]
  },
  {
   "cell_type": "code",
   "execution_count": 26,
   "id": "77d21389-81d8-4a21-a723-66f60a8de453",
   "metadata": {},
   "outputs": [],
   "source": [
    "rankers = ['score', 'model', 'energy']\n",
    "df = pd.DataFrame()\n",
    "for result in results :\n",
    "    for ranker in rankers :\n",
    "        result['ranking'][ranker]['ranker'] = ranker\n",
    "        df = df.append(result['ranking'][ranker], ignore_index=True)"
   ]
  },
  {
   "cell_type": "code",
   "execution_count": 27,
   "id": "7de390e1-d7ab-4b00-ab97-0338efe703d1",
   "metadata": {},
   "outputs": [
    {
     "data": {
      "text/html": [
       "<div>\n",
       "<style scoped>\n",
       "    .dataframe tbody tr th:only-of-type {\n",
       "        vertical-align: middle;\n",
       "    }\n",
       "\n",
       "    .dataframe tbody tr th {\n",
       "        vertical-align: top;\n",
       "    }\n",
       "\n",
       "    .dataframe thead th {\n",
       "        text-align: right;\n",
       "    }\n",
       "</style>\n",
       "<table border=\"1\" class=\"dataframe\">\n",
       "  <thead>\n",
       "    <tr style=\"text-align: right;\">\n",
       "      <th></th>\n",
       "      <th>best_pose</th>\n",
       "      <th>docking_power</th>\n",
       "      <th>min_rmsd</th>\n",
       "      <th>min_rmsd_top_pose</th>\n",
       "      <th>ranker</th>\n",
       "      <th>top_score</th>\n",
       "      <th>top_score_pose</th>\n",
       "    </tr>\n",
       "  </thead>\n",
       "  <tbody>\n",
       "    <tr>\n",
       "      <th>0</th>\n",
       "      <td>None</td>\n",
       "      <td>0.0</td>\n",
       "      <td>0.996249</td>\n",
       "      <td>6.648319</td>\n",
       "      <td>score</td>\n",
       "      <td>50.4844</td>\n",
       "      <td>None</td>\n",
       "    </tr>\n",
       "    <tr>\n",
       "      <th>1</th>\n",
       "      <td>None</td>\n",
       "      <td>1.0</td>\n",
       "      <td>0.996249</td>\n",
       "      <td>0.996249</td>\n",
       "      <td>model</td>\n",
       "      <td>49.5511</td>\n",
       "      <td>None</td>\n",
       "    </tr>\n",
       "    <tr>\n",
       "      <th>2</th>\n",
       "      <td>None</td>\n",
       "      <td>1.0</td>\n",
       "      <td>1.663002</td>\n",
       "      <td>1.663002</td>\n",
       "      <td>energy</td>\n",
       "      <td>45.4473</td>\n",
       "      <td>None</td>\n",
       "    </tr>\n",
       "    <tr>\n",
       "      <th>3</th>\n",
       "      <td>&lt;rdkit.Chem.rdchem.Mol object at 0x7fa155e825b0&gt;</td>\n",
       "      <td>1.0</td>\n",
       "      <td>0.270629</td>\n",
       "      <td>0.320170</td>\n",
       "      <td>score</td>\n",
       "      <td>109.5139</td>\n",
       "      <td>&lt;rdkit.Chem.rdchem.Mol object at 0x7fa155e823b0&gt;</td>\n",
       "    </tr>\n",
       "    <tr>\n",
       "      <th>4</th>\n",
       "      <td>&lt;rdkit.Chem.rdchem.Mol object at 0x7fa155e827b0&gt;</td>\n",
       "      <td>1.0</td>\n",
       "      <td>0.419183</td>\n",
       "      <td>0.433572</td>\n",
       "      <td>model</td>\n",
       "      <td>108.6882</td>\n",
       "      <td>&lt;rdkit.Chem.rdchem.Mol object at 0x7fa155e82830&gt;</td>\n",
       "    </tr>\n",
       "  </tbody>\n",
       "</table>\n",
       "</div>"
      ],
      "text/plain": [
       "                                          best_pose  docking_power  min_rmsd  \\\n",
       "0                                              None            0.0  0.996249   \n",
       "1                                              None            1.0  0.996249   \n",
       "2                                              None            1.0  1.663002   \n",
       "3  <rdkit.Chem.rdchem.Mol object at 0x7fa155e825b0>            1.0  0.270629   \n",
       "4  <rdkit.Chem.rdchem.Mol object at 0x7fa155e827b0>            1.0  0.419183   \n",
       "\n",
       "   min_rmsd_top_pose  ranker  top_score  \\\n",
       "0           6.648319   score    50.4844   \n",
       "1           0.996249   model    49.5511   \n",
       "2           1.663002  energy    45.4473   \n",
       "3           0.320170   score   109.5139   \n",
       "4           0.433572   model   108.6882   \n",
       "\n",
       "                                     top_score_pose  \n",
       "0                                              None  \n",
       "1                                              None  \n",
       "2                                              None  \n",
       "3  <rdkit.Chem.rdchem.Mol object at 0x7fa155e823b0>  \n",
       "4  <rdkit.Chem.rdchem.Mol object at 0x7fa155e82830>  "
      ]
     },
     "execution_count": 27,
     "metadata": {},
     "output_type": "execute_result"
    }
   ],
   "source": [
    "df.head()"
   ]
  },
  {
   "cell_type": "code",
   "execution_count": 28,
   "id": "ab1f5309-e9fe-44e3-aa6d-b10c384daad8",
   "metadata": {},
   "outputs": [
    {
     "data": {
      "text/plain": [
       "<AxesSubplot:xlabel='ranker', ylabel='top_score'>"
      ]
     },
     "execution_count": 28,
     "metadata": {},
     "output_type": "execute_result"
    },
    {
     "data": {
      "image/png": "[encoded data removed]",
      "text/plain": [
       "<Figure size 432x288 with 1 Axes>"
      ]
     },
     "metadata": {
      "needs_background": "light"
     },
     "output_type": "display_data"
    }
   ],
   "source": [
    "sns.boxplot(data=df, x='ranker', y='top_score')"
   ]
  },
  {
   "cell_type": "code",
   "execution_count": 29,
   "id": "7e15e553-29fa-493c-a2cf-2e69fb4537c5",
   "metadata": {},
   "outputs": [
    {
     "data": {
      "text/plain": [
       "<AxesSubplot:xlabel='ranker', ylabel='min_rmsd'>"
      ]
     },
     "execution_count": 29,
     "metadata": {},
     "output_type": "execute_result"
    },
    {
     "data": {
      "image/png": "[encoded data removed]",
      "text/plain": [
       "<Figure size 432x288 with 1 Axes>"
      ]
     },
     "metadata": {
      "needs_background": "light"
     },
     "output_type": "display_data"
    }
   ],
   "source": [
    "sns.boxplot(data=df, x='ranker', y='min_rmsd')"
   ]
  },
  {
   "cell_type": "code",
   "execution_count": 30,
   "id": "fc78ef22-8cd6-4f67-b895-256c3aff86f2",
   "metadata": {},
   "outputs": [
    {
     "data": {
      "text/plain": [
       "<AxesSubplot:xlabel='ranker', ylabel='docking_power'>"
      ]
     },
     "execution_count": 30,
     "metadata": {},
     "output_type": "execute_result"
    },
    {
     "data": {
      "image/png": "[encoded data removed]",
      "text/plain": [
       "<Figure size 432x288 with 1 Axes>"
      ]
     },
     "metadata": {
      "needs_background": "light"
     },
     "output_type": "display_data"
    }
   ],
   "source": [
    "sns.barplot(data=df, x='ranker', y='docking_power')"
   ]
  }
 ],
 "metadata": {
  "kernelspec": {
   "display_name": "Python 3 (ipykernel)",
   "language": "python",
   "name": "python3"
  },
  "language_info": {
   "codemirror_mode": {
    "name": "ipython",
    "version": 3
   },
   "file_extension": ".py",
   "mimetype": "text/x-python",
   "name": "python",
   "nbconvert_exporter": "python",
   "pygments_lexer": "ipython3",
   "version": "3.7.10"
  }
 },
 "nbformat": 4,
 "nbformat_minor": 5
}
