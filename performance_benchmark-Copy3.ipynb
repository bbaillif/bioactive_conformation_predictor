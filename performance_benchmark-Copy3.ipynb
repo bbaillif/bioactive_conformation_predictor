{
 "cells": [
  {
   "cell_type": "code",
   "execution_count": 1,
   "id": "14bf5794-71d5-4c88-b534-b2fd0db7e867",
   "metadata": {},
   "outputs": [],
   "source": [
    "import os\n",
    "import torch\n",
    "import matplotlib.pyplot as plt\n",
    "import numpy as np\n",
    "import pytorch_lightning as pl\n",
    "import torch.nn.functional as F\n",
    "import pandas as pd\n",
    "import copy\n",
    "\n",
    "from torch_geometric.data import Batch\n",
    "from torch_geometric.loader import DataLoader\n",
    "from torch.utils.data import Subset\n",
    "from rdkit import Chem\n",
    "from conf_ensemble_dataset_in_memory import ConfEnsembleDataset\n",
    "from rdkit.Chem import AllChem #needed for rdForceFieldHelpers\n",
    "from collections import defaultdict\n",
    "from litschnet import LitSchNet\n",
    "from pytorch_lightning.callbacks.early_stopping import EarlyStopping\n",
    "from pytorch_lightning.loggers import TensorBoardLogger\n",
    "from rmsd_predictor_evaluator import RMSDPredictorEvaluator\n",
    "from tqdm import tqdm\n",
    "from torch.utils.tensorboard import SummaryWriter"
   ]
  },
  {
   "cell_type": "code",
   "execution_count": 2,
   "id": "0a6e3d43-8fa2-4693-b4c3-08a4ce31d9bc",
   "metadata": {},
   "outputs": [
    {
     "name": "stderr",
     "output_type": "stream",
     "text": [
      "Global seed set to 42\n"
     ]
    },
    {
     "data": {
      "text/plain": [
       "42"
      ]
     },
     "execution_count": 2,
     "metadata": {},
     "output_type": "execute_result"
    }
   ],
   "source": [
    "pl.seed_everything(42, workers=True)"
   ]
  },
  {
   "cell_type": "markdown",
   "id": "a8cce14b-71e8-4987-aa40-acf9868528c1",
   "metadata": {},
   "source": [
    "# Data preparation"
   ]
  },
  {
   "cell_type": "code",
   "execution_count": 3,
   "id": "c29babdb-7601-4de6-bb69-920a9ffdb183",
   "metadata": {},
   "outputs": [],
   "source": [
    "data_dir = 'data/'"
   ]
  },
  {
   "cell_type": "code",
   "execution_count": 4,
   "id": "a5ea2045-3aab-4d08-ac23-808e42e3f87a",
   "metadata": {},
   "outputs": [],
   "source": [
    "# run once to preprocess datasets and generate chunks\n",
    "# dataset = ConfEnsembleDataset()\n",
    "# dataset = ConfEnsembleDataset(dataset='platinum') # 16G"
   ]
  },
  {
   "cell_type": "code",
   "execution_count": 5,
   "id": "310a029b-ad85-4872-a456-1275ec264cd5",
   "metadata": {},
   "outputs": [],
   "source": [
    "pdbbind_chunks = [filename for filename in os.listdir(os.path.join(data_dir, 'processed')) if filename.startswith('pdbbind')]\n",
    "pdbbind_n_chunks = len(pdbbind_chunks)"
   ]
  },
  {
   "cell_type": "code",
   "execution_count": 6,
   "id": "51382608-b738-4564-bc70-8ea6764475c6",
   "metadata": {},
   "outputs": [],
   "source": [
    "platinum_chunks = [filename for filename in os.listdir(os.path.join(data_dir, 'processed')) if filename.startswith('platinum')]\n",
    "platinum_n_chunks = len(platinum_chunks)"
   ]
  },
  {
   "cell_type": "code",
   "execution_count": 7,
   "id": "0730049b-a179-4606-be6b-8cacb4cc95c8",
   "metadata": {},
   "outputs": [],
   "source": [
    "iteration = 0\n",
    "with open(os.path.join(data_dir, 'scaffold_splits', f'train_smiles_scaffold_split_{iteration}.txt'), 'r') as f :\n",
    "    train_smiles = f.readlines()\n",
    "    train_smiles = [smiles.strip() for smiles in train_smiles]\n",
    "\n",
    "with open(os.path.join(data_dir, 'scaffold_splits', f'val_smiles_scaffold_split_{iteration}.txt'), 'r') as f :\n",
    "    val_smiles = f.readlines()\n",
    "    val_smiles = [smiles.strip() for smiles in val_smiles]\n",
    "\n",
    "with open(os.path.join(data_dir, 'scaffold_splits', f'test_smiles_scaffold_split_{iteration}.txt'), 'r') as f :\n",
    "    test_smiles = f.readlines()\n",
    "    test_smiles = [smiles.strip() for smiles in test_smiles]"
   ]
  },
  {
   "cell_type": "code",
   "execution_count": 8,
   "id": "77efa010-7a40-4aa1-b891-7bcac5d0440c",
   "metadata": {},
   "outputs": [],
   "source": [
    "litschnet = LitSchNet()"
   ]
  },
  {
   "cell_type": "code",
   "execution_count": 9,
   "id": "c7d29e51-d4c5-49fb-8c1f-8df2371ad9fa",
   "metadata": {},
   "outputs": [],
   "source": [
    "optimizer = torch.optim.Adam(litschnet.parameters(), lr=1e-4)\n",
    "scheduler = torch.optim.lr_scheduler.ReduceLROnPlateau(optimizer)"
   ]
  },
  {
   "cell_type": "code",
   "execution_count": 10,
   "id": "373f0489-d13c-45ae-bf3f-7ce280c15b5f",
   "metadata": {},
   "outputs": [],
   "source": [
    "experiment_name = f'scaffold_split_{iteration}_new'\n",
    "log_dir = os.path.join('logs', experiment_name)\n",
    "writer = SummaryWriter(log_dir=log_dir)"
   ]
  },
  {
   "cell_type": "code",
   "execution_count": 11,
   "id": "2a7e4e50-e12e-4454-b072-2c06c3a74c6c",
   "metadata": {},
   "outputs": [
    {
     "name": "stderr",
     "output_type": "stream",
     "text": [
      "100%|█████████████████████████████████████████████| 3/3 [03:24<00:00, 68.20s/it]\n"
     ]
    }
   ],
   "source": [
    "train_datasets = []\n",
    "val_datasets = []\n",
    "test_datasets = []\n",
    "\n",
    "for chunk_number in tqdm(range(pdbbind_n_chunks)) :\n",
    "\n",
    "    dataset = ConfEnsembleDataset(loaded_chunk=chunk_number,\n",
    "                                  smiles_list=train_smiles)\n",
    "    train_datasets.append(dataset)\n",
    "    \n",
    "    dataset = ConfEnsembleDataset(loaded_chunk=chunk_number,\n",
    "                                  smiles_list=val_smiles)\n",
    "    val_datasets.append(dataset)\n",
    "    \n",
    "    dataset = ConfEnsembleDataset(loaded_chunk=chunk_number,\n",
    "                                  smiles_list=test_smiles)\n",
    "    test_datasets.append(dataset)"
   ]
  },
  {
   "cell_type": "code",
   "execution_count": null,
   "id": "d48b1e6d-957a-40cf-a24a-253530035b3a",
   "metadata": {},
   "outputs": [],
   "source": [
    "def dataset_iteration(epoch, litschnet, optimizer) :\n",
    "    \n",
    "    losses = []\n",
    "    for chunk_number in tqdm(range(pdbbind_n_chunks)) :\n",
    "\n",
    "        # Load data chunk\n",
    "        dataset = ConfEnsembleDataset(loaded_chunk=chunk_number,\n",
    "                                      smiles_list=train_smiles)\n",
    "        loader = DataLoader(dataset, \n",
    "                            batch_size=64, \n",
    "                            shuffle=True, \n",
    "                            num_workers=4)\n",
    "\n",
    "        for batch_idx, batch in (enumerate(loader)) :\n",
    "            batch.to('cuda')\n",
    "            optimizer.zero_grad()\n",
    "            loss = litschnet.training_step(batch, batch_idx)\n",
    "            loss.backward()\n",
    "            losses.append(loss.detach().cpu().numpy().item())\n",
    "            optimizer.step()\n",
    "    \n",
    "    return losses"
   ]
  },
  {
   "cell_type": "code",
   "execution_count": 10,
   "id": "8118b5f0-5bee-4b2e-82f4-72af5b5e16b5",
   "metadata": {},
   "outputs": [
    {
     "name": "stderr",
     "output_type": "stream",
     "text": [
      "  0%|                                                     | 0/3 [00:00<?, ?it/s]"
     ]
    },
    {
     "name": "stdout",
     "output_type": "stream",
     "text": [
      "Epoch 0\n"
     ]
    },
    {
     "name": "stderr",
     "output_type": "stream",
     "text": [
      "/home/benoit/anaconda3/envs/GeoMol/lib/python3.7/site-packages/pytorch_lightning/core/lightning.py:420: UserWarning: You are trying to `self.log()` but the `self.trainer` reference is not registered on the model yet. This is most likely because the model hasn't been passed to the `Trainer`\n",
      "  \"You are trying to `self.log()` but the `self.trainer` reference is not registered on the model yet.\"\n",
      "100%|█████████████████████████████████████████████| 3/3 [04:41<00:00, 93.89s/it]\n",
      " 67%|██████████████████████████████               | 2/3 [00:51<00:25, 25.98s/it]/home/benoit/bioactive_conformation_predictor/litschnet.py:37: UserWarning: Using a target size (torch.Size([1])) that is different to the input size (torch.Size([])). This will likely lead to incorrect results due to broadcasting. Please ensure they have the same size.\n",
      "  loss = F.mse_loss(pred.squeeze(), target)\n",
      "100%|█████████████████████████████████████████████| 3/3 [01:12<00:00, 24.27s/it]\n",
      "  0%|                                                     | 0/3 [00:00<?, ?it/s]"
     ]
    },
    {
     "name": "stdout",
     "output_type": "stream",
     "text": [
      "Epoch 1\n"
     ]
    },
    {
     "name": "stderr",
     "output_type": "stream",
     "text": [
      "100%|█████████████████████████████████████████████| 3/3 [04:41<00:00, 93.78s/it]\n",
      "100%|█████████████████████████████████████████████| 3/3 [01:12<00:00, 24.20s/it]\n"
     ]
    }
   ],
   "source": [
    "litschnet.to('cuda')\n",
    "for epoch in range(2) :\n",
    "    print(f'Epoch {epoch}')\n",
    "    # Training\n",
    "    losses = []\n",
    "    for chunk_number in tqdm(range(pdbbind_n_chunks)) :\n",
    "\n",
    "        # Load data chunk\n",
    "        dataset = ConfEnsembleDataset(loaded_chunk=chunk_number,\n",
    "                                      smiles_list=train_smiles)\n",
    "        loader = DataLoader(dataset, \n",
    "                            batch_size=64, \n",
    "                            shuffle=True, \n",
    "                            num_workers=4)\n",
    "\n",
    "        for batch_idx, batch in (enumerate(loader)) :\n",
    "            batch.to('cuda')\n",
    "            optimizer.zero_grad()\n",
    "            loss = litschnet.training_step(batch, batch_idx)\n",
    "            loss.backward()\n",
    "            losses.append(loss.detach().cpu().numpy().item())\n",
    "            optimizer.step()\n",
    "    writer.add_scalar(\"training_loss\", np.mean(losses), epoch)\n",
    "    \n",
    "    # Validation\n",
    "    losses = []\n",
    "    \n",
    "    litschnet.eval()\n",
    "    with torch.no_grad() :\n",
    "        \n",
    "        for chunk_number in tqdm(range(pdbbind_n_chunks)) :\n",
    "\n",
    "            # Load data chunk\n",
    "            dataset = ConfEnsembleDataset(loaded_chunk=chunk_number,\n",
    "                                              smiles_list=val_smiles)\n",
    "            loader = DataLoader(dataset, \n",
    "                                batch_size=64, \n",
    "                                shuffle=False, \n",
    "                                num_workers=4)\n",
    "\n",
    "            for batch_idx, batch in enumerate(loader) :\n",
    "                batch.to('cuda')\n",
    "                loss = litschnet.validation_step(batch, batch_idx)\n",
    "                losses.append(loss.item())\n",
    "                \n",
    "    writer.add_scalar(\"validation_loss\", np.mean(losses), epoch)"
   ]
  },
  {
   "cell_type": "code",
   "execution_count": 20,
   "id": "2f507bd8-b364-4ec2-8cc4-ca1377dc6ffd",
   "metadata": {},
   "outputs": [],
   "source": [
    "import importlib\n",
    "import rmsd_predictor_evaluator\n",
    "importlib.reload(rmsd_predictor_evaluator)\n",
    "RMSDPredictorEvaluator = rmsd_predictor_evaluator.RMSDPredictorEvaluator"
   ]
  },
  {
   "cell_type": "code",
   "execution_count": 21,
   "id": "94e7aaf0-4e5f-46ef-919e-3061c320de40",
   "metadata": {
    "scrolled": true,
    "tags": []
   },
   "outputs": [
    {
     "name": "stderr",
     "output_type": "stream",
     "text": [
      "  0%|                                                     | 0/3 [00:00<?, ?it/s]"
     ]
    },
    {
     "name": "stdout",
     "output_type": "stream",
     "text": [
      "Grouping data by smiles\n"
     ]
    },
    {
     "name": "stderr",
     "output_type": "stream",
     "text": [
      "\n",
      "  0%|                                                   | 0/397 [00:00<?, ?it/s]\u001b[A\n",
      "  1%|▌                                          | 5/397 [00:00<00:08, 47.43it/s]\u001b[A"
     ]
    },
    {
     "name": "stdout",
     "output_type": "stream",
     "text": [
      "Starting evaluation\n"
     ]
    },
    {
     "name": "stderr",
     "output_type": "stream",
     "text": [
      "\n",
      "  3%|█▎                                        | 12/397 [00:00<00:07, 54.14it/s]\u001b[A\n",
      "  5%|█▉                                        | 18/397 [00:00<00:07, 48.45it/s]\u001b[A\n",
      "  7%|██▉                                       | 28/397 [00:00<00:05, 61.54it/s]\u001b[A\n",
      "  9%|███▋                                      | 35/397 [00:00<00:06, 60.27it/s]\u001b[A\n",
      " 11%|████▍                                     | 42/397 [00:00<00:06, 57.73it/s]\u001b[A\n",
      " 12%|█████                                     | 48/397 [00:00<00:06, 54.71it/s]\u001b[A\n",
      " 14%|█████▋                                    | 54/397 [00:00<00:06, 55.18it/s]\u001b[A\n",
      " 15%|██████▎                                   | 60/397 [00:01<00:05, 56.33it/s]\u001b[A\n",
      " 17%|███████                                   | 67/397 [00:01<00:05, 56.25it/s]\u001b[A\n",
      " 18%|███████▋                                  | 73/397 [00:01<00:05, 56.88it/s]\u001b[A\n",
      " 20%|████████▍                                 | 80/397 [00:01<00:05, 57.91it/s]\u001b[A\n",
      " 22%|█████████                                 | 86/397 [00:01<00:05, 53.63it/s]\u001b[A\n",
      " 23%|█████████▋                                | 92/397 [00:01<00:05, 54.51it/s]\u001b[A\n",
      " 25%|██████████▎                               | 98/397 [00:01<00:05, 53.84it/s]\u001b[A\n",
      " 26%|██████████▋                              | 104/397 [00:01<00:05, 53.03it/s]\u001b[A\n",
      " 28%|███████████▎                             | 110/397 [00:01<00:05, 53.03it/s]\u001b[A\n",
      " 29%|███████████▉                             | 116/397 [00:02<00:05, 52.15it/s]\u001b[A\n",
      " 31%|████████████▊                            | 124/397 [00:02<00:04, 56.74it/s]\u001b[A\n",
      " 33%|█████████████▍                           | 130/397 [00:02<00:04, 56.65it/s]\u001b[A\n",
      " 34%|██████████████                           | 136/397 [00:02<00:04, 54.48it/s]\u001b[A\n",
      " 36%|██████████████▋                          | 142/397 [00:02<00:04, 55.82it/s]\u001b[A\n",
      " 37%|███████████████▎                         | 148/397 [00:02<00:04, 56.00it/s]\u001b[A\n",
      " 39%|███████████████▉                         | 154/397 [00:02<00:04, 51.01it/s]\u001b[A\n",
      " 40%|████████████████▌                        | 160/397 [00:02<00:04, 53.14it/s]\u001b[A\n",
      " 42%|█████████████████▏                       | 166/397 [00:03<00:04, 49.38it/s]\u001b[A\n",
      " 44%|█████████████████▉                       | 174/397 [00:03<00:04, 54.76it/s]\u001b[A\n",
      " 45%|██████████████████▌                      | 180/397 [00:03<00:04, 53.38it/s]\u001b[A\n",
      " 47%|███████████████████▍                     | 188/397 [00:03<00:03, 59.01it/s]\u001b[A\n",
      " 49%|████████████████████▏                    | 195/397 [00:03<00:03, 60.78it/s]\u001b[A\n",
      " 51%|████████████████████▊                    | 202/397 [00:03<00:03, 60.58it/s]\u001b[A\n",
      " 53%|█████████████████████▌                   | 209/397 [00:03<00:03, 56.58it/s]\u001b[A\n",
      " 54%|██████████████████████▎                  | 216/397 [00:03<00:03, 57.05it/s]\u001b[A\n",
      " 56%|███████████████████████                  | 223/397 [00:04<00:02, 58.12it/s]\u001b[A\n",
      " 58%|███████████████████████▋                 | 229/397 [00:04<00:03, 55.77it/s]\u001b[A\n",
      " 59%|████████████████████████▎                | 235/397 [00:04<00:02, 55.95it/s]\u001b[A\n",
      " 61%|█████████████████████████                | 243/397 [00:04<00:02, 61.96it/s]\u001b[A\n",
      " 63%|█████████████████████████▊               | 250/397 [00:04<00:02, 56.63it/s]\u001b[A\n",
      " 64%|██████████████████████████▍              | 256/397 [00:04<00:02, 54.72it/s]\u001b[A\n",
      " 66%|███████████████████████████▏             | 263/397 [00:04<00:02, 55.55it/s]\u001b[A\n",
      " 68%|███████████████████████████▊             | 269/397 [00:04<00:02, 54.95it/s]\u001b[A\n",
      " 70%|████████████████████████████▌            | 276/397 [00:04<00:02, 56.68it/s]\u001b[A\n",
      " 71%|█████████████████████████████            | 282/397 [00:05<00:02, 52.10it/s]\u001b[A\n",
      " 73%|█████████████████████████████▊           | 289/397 [00:05<00:01, 54.05it/s]\u001b[A\n",
      " 75%|██████████████████████████████▌          | 296/397 [00:05<00:01, 55.27it/s]\u001b[A\n",
      " 76%|███████████████████████████████▏         | 302/397 [00:05<00:01, 53.17it/s]\u001b[A\n",
      " 78%|███████████████████████████████▊         | 308/397 [00:05<00:01, 51.36it/s]\u001b[A\n",
      " 79%|████████████████████████████████▍        | 314/397 [00:05<00:01, 52.13it/s]\u001b[A\n",
      " 81%|█████████████████████████████████        | 320/397 [00:05<00:01, 51.07it/s]\u001b[A\n",
      " 82%|█████████████████████████████████▋       | 326/397 [00:05<00:01, 50.89it/s]\u001b[A\n",
      " 84%|██████████████████████████████████▎      | 332/397 [00:06<00:01, 52.41it/s]\u001b[A\n",
      " 85%|██████████████████████████████████▉      | 338/397 [00:06<00:01, 50.76it/s]\u001b[A\n",
      " 87%|███████████████████████████████████▋     | 346/397 [00:06<00:00, 56.71it/s]\u001b[A\n",
      " 89%|████████████████████████████████████▎    | 352/397 [00:06<00:00, 52.35it/s]\u001b[A\n",
      " 90%|█████████████████████████████████████    | 359/397 [00:06<00:00, 55.76it/s]\u001b[A\n",
      " 92%|█████████████████████████████████████▋   | 365/397 [00:06<00:00, 53.06it/s]\u001b[A\n",
      " 93%|██████████████████████████████████████▎  | 371/397 [00:06<00:00, 52.30it/s]\u001b[A\n",
      " 95%|██████████████████████████████████████▉  | 377/397 [00:06<00:00, 49.90it/s]\u001b[A\n",
      " 96%|███████████████████████████████████████▌ | 383/397 [00:07<00:00, 51.77it/s]\u001b[A\n",
      " 98%|████████████████████████████████████████▏| 389/397 [00:07<00:00, 51.48it/s]\u001b[A\n",
      "100%|█████████████████████████████████████████| 397/397 [00:07<00:00, 54.60it/s]\u001b[A\n",
      "/home/benoit/anaconda3/envs/GeoMol/lib/python3.7/site-packages/pytorch_lightning/core/lightning.py:420: UserWarning: You are trying to `self.log()` but the `self.trainer` reference is not registered on the model yet. This is most likely because the model hasn't been passed to the `Trainer`\n",
      "  \"You are trying to `self.log()` but the `self.trainer` reference is not registered on the model yet.\"\n",
      " 33%|███████████████                              | 1/3 [00:33<01:07, 33.96s/it]"
     ]
    },
    {
     "name": "stdout",
     "output_type": "stream",
     "text": [
      "Grouping data by smiles\n"
     ]
    },
    {
     "name": "stderr",
     "output_type": "stream",
     "text": [
      "\n",
      "  0%|                                                   | 0/415 [00:00<?, ?it/s]\u001b[A\n",
      "  1%|▌                                          | 5/415 [00:00<00:09, 44.90it/s]\u001b[A"
     ]
    },
    {
     "name": "stdout",
     "output_type": "stream",
     "text": [
      "Starting evaluation\n"
     ]
    },
    {
     "name": "stderr",
     "output_type": "stream",
     "text": [
      "\n",
      "  2%|█                                         | 10/415 [00:00<00:09, 41.32it/s]\u001b[A\n",
      "  4%|█▌                                        | 16/415 [00:00<00:08, 48.67it/s]\u001b[A\n",
      "  6%|██▎                                       | 23/415 [00:00<00:07, 52.93it/s]\u001b[A\n",
      "  7%|██▉                                       | 29/415 [00:00<00:07, 53.85it/s]\u001b[A\n",
      "  9%|███▋                                      | 36/415 [00:00<00:06, 58.05it/s]\u001b[A\n",
      " 10%|████▎                                     | 42/415 [00:00<00:06, 58.23it/s]\u001b[A\n",
      " 12%|████▊                                     | 48/415 [00:00<00:06, 55.53it/s]\u001b[A\n",
      " 13%|█████▍                                    | 54/415 [00:00<00:06, 56.52it/s]\u001b[A\n",
      " 14%|██████                                    | 60/415 [00:01<00:06, 54.09it/s]\u001b[A\n",
      " 16%|██████▋                                   | 66/415 [00:01<00:06, 54.49it/s]\u001b[A\n",
      " 17%|███████▎                                  | 72/415 [00:01<00:06, 49.64it/s]\u001b[A\n",
      " 19%|███████▉                                  | 78/415 [00:01<00:07, 46.99it/s]\u001b[A\n",
      " 20%|████████▍                                 | 83/415 [00:01<00:07, 47.40it/s]\u001b[A\n",
      " 21%|████████▉                                 | 88/415 [00:01<00:07, 45.31it/s]\u001b[A\n",
      " 23%|█████████▌                                | 95/415 [00:01<00:06, 51.24it/s]\u001b[A\n",
      " 24%|█████████▉                               | 101/415 [00:01<00:06, 52.28it/s]\u001b[A\n",
      " 26%|██████████▋                              | 108/415 [00:02<00:05, 54.18it/s]\u001b[A\n",
      " 28%|███████████▎                             | 115/415 [00:02<00:05, 58.38it/s]\u001b[A\n",
      " 29%|███████████▉                             | 121/415 [00:02<00:05, 56.45it/s]\u001b[A\n",
      " 31%|████████████▌                            | 127/415 [00:02<00:05, 53.15it/s]\u001b[A\n",
      " 32%|█████████████▏                           | 133/415 [00:02<00:05, 49.08it/s]\u001b[A\n",
      " 33%|█████████████▋                           | 139/415 [00:02<00:05, 48.54it/s]\u001b[A\n",
      " 35%|██████████████▎                          | 145/415 [00:02<00:05, 51.38it/s]\u001b[A\n",
      " 37%|███████████████                          | 153/415 [00:02<00:04, 56.64it/s]\u001b[A\n",
      " 39%|███████████████▊                         | 160/415 [00:03<00:04, 57.97it/s]\u001b[A\n",
      " 40%|████████████████▍                        | 166/415 [00:03<00:04, 55.70it/s]\u001b[A\n",
      " 41%|████████████████▉                        | 172/415 [00:03<00:04, 51.67it/s]\u001b[A\n",
      " 43%|█████████████████▌                       | 178/415 [00:03<00:04, 53.14it/s]\u001b[A\n",
      " 45%|██████████████████▎                      | 185/415 [00:03<00:04, 56.89it/s]\u001b[A\n",
      " 46%|██████████████████▊                      | 191/415 [00:03<00:04, 54.61it/s]\u001b[A\n",
      " 47%|███████████████████▍                     | 197/415 [00:03<00:04, 54.38it/s]\u001b[A\n",
      " 49%|████████████████████                     | 203/415 [00:03<00:04, 50.65it/s]\u001b[A\n",
      " 50%|████████████████████▋                    | 209/415 [00:03<00:04, 49.61it/s]\u001b[A\n",
      " 52%|█████████████████████▎                   | 216/415 [00:04<00:03, 52.12it/s]\u001b[A\n",
      " 53%|█████████████████████▉                   | 222/415 [00:04<00:03, 52.64it/s]\u001b[A\n",
      " 55%|██████████████████████▋                  | 230/415 [00:04<00:03, 58.10it/s]\u001b[A\n",
      " 57%|███████████████████████▎                 | 236/415 [00:04<00:03, 55.38it/s]\u001b[A\n",
      " 59%|████████████████████████                 | 243/415 [00:04<00:03, 56.78it/s]\u001b[A\n",
      " 60%|████████████████████████▊                | 251/415 [00:04<00:02, 59.90it/s]\u001b[A\n",
      " 62%|█████████████████████████▍               | 258/415 [00:04<00:02, 57.50it/s]\u001b[A\n",
      " 64%|██████████████████████████               | 264/415 [00:04<00:02, 56.29it/s]\u001b[A\n",
      " 65%|██████████████████████████▋              | 270/415 [00:05<00:02, 50.35it/s]\u001b[A\n",
      " 67%|███████████████████████████▎             | 276/415 [00:05<00:02, 51.91it/s]\u001b[A\n",
      " 68%|███████████████████████████▊             | 282/415 [00:05<00:02, 53.74it/s]\u001b[A\n",
      " 69%|████████████████████████████▍            | 288/415 [00:05<00:02, 51.86it/s]\u001b[A\n",
      " 71%|█████████████████████████████            | 294/415 [00:05<00:02, 52.51it/s]\u001b[A\n",
      " 72%|█████████████████████████████▋           | 300/415 [00:05<00:02, 50.99it/s]\u001b[A\n",
      " 74%|██████████████████████████████▎          | 307/415 [00:05<00:02, 52.98it/s]\u001b[A\n",
      " 76%|███████████████████████████████          | 315/415 [00:05<00:01, 57.21it/s]\u001b[A\n",
      " 78%|███████████████████████████████▊         | 322/415 [00:06<00:01, 59.55it/s]\u001b[A\n",
      " 79%|████████████████████████████████▍        | 328/415 [00:06<00:01, 55.13it/s]\u001b[A\n",
      " 80%|████████████████████████████████▉        | 334/415 [00:06<00:01, 51.62it/s]\u001b[A\n",
      " 82%|█████████████████████████████████▌       | 340/415 [00:06<00:01, 50.82it/s]\u001b[A\n",
      " 83%|██████████████████████████████████▏      | 346/415 [00:06<00:01, 50.88it/s]\u001b[A\n",
      " 85%|██████████████████████████████████▊      | 352/415 [00:06<00:01, 51.31it/s]\u001b[A\n",
      " 86%|███████████████████████████████████▎     | 358/415 [00:06<00:01, 48.42it/s]\u001b[A\n",
      " 88%|███████████████████████████████████▉     | 364/415 [00:06<00:01, 50.12it/s]\u001b[A\n",
      " 90%|████████████████████████████████████▊    | 372/415 [00:06<00:00, 54.79it/s]\u001b[A\n",
      " 91%|█████████████████████████████████████▎   | 378/415 [00:07<00:00, 54.91it/s]\u001b[A\n",
      " 93%|█████████████████████████████████████▉   | 384/415 [00:07<00:00, 55.32it/s]\u001b[A\n",
      " 94%|██████████████████████████████████████▌  | 390/415 [00:07<00:00, 52.68it/s]\u001b[A\n",
      " 95%|███████████████████████████████████████  | 396/415 [00:07<00:00, 53.85it/s]\u001b[A\n",
      " 97%|███████████████████████████████████████▋ | 402/415 [00:07<00:00, 50.84it/s]\u001b[A\n",
      " 98%|████████████████████████████████████████▎| 408/415 [00:07<00:00, 47.38it/s]\u001b[A\n",
      "100%|█████████████████████████████████████████| 415/415 [00:07<00:00, 52.64it/s]\u001b[A\n",
      " 67%|██████████████████████████████               | 2/3 [01:10<00:35, 35.28s/it]"
     ]
    },
    {
     "name": "stdout",
     "output_type": "stream",
     "text": [
      "Grouping data by smiles\n"
     ]
    },
    {
     "name": "stderr",
     "output_type": "stream",
     "text": [
      "\n",
      "  0%|                                                   | 0/298 [00:00<?, ?it/s]\u001b[A\n",
      "  2%|▋                                          | 5/298 [00:00<00:06, 43.43it/s]\u001b[A"
     ]
    },
    {
     "name": "stdout",
     "output_type": "stream",
     "text": [
      "Starting evaluation\n"
     ]
    },
    {
     "name": "stderr",
     "output_type": "stream",
     "text": [
      "\n",
      "  3%|█▍                                        | 10/298 [00:00<00:06, 42.49it/s]\u001b[A\n",
      "  5%|██▎                                       | 16/298 [00:00<00:06, 46.34it/s]\u001b[A\n",
      "  7%|██▉                                       | 21/298 [00:00<00:06, 45.05it/s]\u001b[A\n",
      "  9%|███▊                                      | 27/298 [00:00<00:05, 49.40it/s]\u001b[A\n",
      " 11%|████▌                                     | 32/298 [00:00<00:05, 49.12it/s]\u001b[A\n",
      " 13%|█████▍                                    | 39/298 [00:00<00:04, 54.55it/s]\u001b[A\n",
      " 15%|██████▎                                   | 45/298 [00:00<00:05, 50.21it/s]\u001b[A\n",
      " 18%|███████▍                                  | 53/298 [00:01<00:04, 56.39it/s]\u001b[A\n",
      " 20%|████████▎                                 | 59/298 [00:01<00:04, 51.68it/s]\u001b[A\n",
      " 22%|█████████▏                                | 65/298 [00:01<00:04, 48.59it/s]\u001b[A\n",
      " 24%|██████████▏                               | 72/298 [00:01<00:04, 53.24it/s]\u001b[A\n",
      " 26%|██████████▉                               | 78/298 [00:01<00:04, 54.91it/s]\u001b[A\n",
      " 29%|███████████▉                              | 85/298 [00:01<00:03, 58.05it/s]\u001b[A\n",
      " 31%|████████████▊                             | 91/298 [00:01<00:03, 51.80it/s]\u001b[A\n",
      " 33%|█████████████▋                            | 97/298 [00:01<00:04, 49.64it/s]\u001b[A\n",
      " 35%|██████████████▏                          | 103/298 [00:02<00:03, 51.85it/s]\u001b[A\n",
      " 37%|██████████████▉                          | 109/298 [00:02<00:03, 50.00it/s]\u001b[A\n",
      " 39%|███████████████▊                         | 115/298 [00:02<00:03, 50.31it/s]\u001b[A\n",
      " 41%|████████████████▋                        | 121/298 [00:02<00:03, 47.70it/s]\u001b[A\n",
      " 42%|█████████████████▎                       | 126/298 [00:02<00:03, 48.11it/s]\u001b[A\n",
      " 44%|██████████████████▏                      | 132/298 [00:02<00:03, 50.50it/s]\u001b[A\n",
      " 47%|███████████████████                      | 139/298 [00:02<00:02, 55.03it/s]\u001b[A\n",
      " 49%|███████████████████▉                     | 145/298 [00:02<00:02, 55.58it/s]\u001b[A\n",
      " 51%|████████████████████▊                    | 151/298 [00:02<00:02, 56.69it/s]\u001b[A\n",
      " 53%|█████████████████████▉                   | 159/298 [00:03<00:02, 63.06it/s]\u001b[A\n",
      " 56%|██████████████████████▊                  | 166/298 [00:03<00:02, 59.84it/s]\u001b[A\n",
      " 58%|███████████████████████▊                 | 173/298 [00:03<00:02, 60.09it/s]\u001b[A\n",
      " 60%|████████████████████████▊                | 180/298 [00:03<00:02, 58.80it/s]\u001b[A\n",
      " 62%|█████████████████████████▌               | 186/298 [00:03<00:02, 54.61it/s]\u001b[A\n",
      " 64%|██████████████████████████▍              | 192/298 [00:03<00:01, 53.05it/s]\u001b[A\n",
      " 66%|███████████████████████████▏             | 198/298 [00:03<00:01, 52.42it/s]\u001b[A\n",
      " 69%|████████████████████████████▏            | 205/298 [00:03<00:01, 54.99it/s]\u001b[A\n",
      " 71%|█████████████████████████████▎           | 213/298 [00:03<00:01, 58.17it/s]\u001b[A\n",
      " 73%|██████████████████████████████▏          | 219/298 [00:04<00:01, 56.60it/s]\u001b[A\n",
      " 76%|██████████████████████████████▉          | 225/298 [00:04<00:01, 52.53it/s]\u001b[A\n",
      " 79%|████████████████████████████████▏        | 234/298 [00:04<00:01, 60.11it/s]\u001b[A\n",
      " 81%|█████████████████████████████████▏       | 241/298 [00:04<00:01, 51.29it/s]\u001b[A\n",
      " 83%|█████████████████████████████████▉       | 247/298 [00:04<00:00, 52.44it/s]\u001b[A\n",
      " 85%|██████████████████████████████████▊      | 253/298 [00:04<00:00, 51.22it/s]\u001b[A\n",
      " 87%|███████████████████████████████████▋     | 259/298 [00:04<00:00, 50.58it/s]\u001b[A\n",
      " 90%|████████████████████████████████████▋    | 267/298 [00:05<00:00, 54.75it/s]\u001b[A\n",
      " 92%|█████████████████████████████████████▌   | 273/298 [00:05<00:00, 51.78it/s]\u001b[A\n",
      " 94%|██████████████████████████████████████▍  | 279/298 [00:05<00:00, 49.79it/s]\u001b[A\n",
      " 96%|███████████████████████████████████████▎ | 286/298 [00:05<00:00, 53.52it/s]\u001b[A\n",
      "100%|█████████████████████████████████████████| 298/298 [00:05<00:00, 53.03it/s]\u001b[A\n",
      "100%|█████████████████████████████████████████████| 3/3 [01:37<00:00, 32.51s/it]\n"
     ]
    },
    {
     "name": "stdout",
     "output_type": "stream",
     "text": [
      "Mean loss : 0.48\n"
     ]
    },
    {
     "data": {
      "image/png": "[encoded data removed]",
      "text/plain": [
       "<Figure size 720x720 with 1 Axes>"
      ]
     },
     "metadata": {
      "needs_background": "light"
     },
     "output_type": "display_data"
    },
    {
     "name": "stdout",
     "output_type": "stream",
     "text": [
      "Bioactive ranking accuracy : 0.25279642058165547\n",
      "Median rank : 8.0\n"
     ]
    },
    {
     "data": {
      "image/png": "[encoded data removed]",
      "text/plain": [
       "<Figure size 504x360 with 1 Axes>"
      ]
     },
     "metadata": {
      "needs_background": "light"
     },
     "output_type": "display_data"
    },
    {
     "data": {
      "image/png": "[encoded data removed]",
      "text/plain": [
       "<Figure size 432x288 with 1 Axes>"
      ]
     },
     "metadata": {
      "needs_background": "light"
     },
     "output_type": "display_data"
    },
    {
     "name": "stdout",
     "output_type": "stream",
     "text": [
      "Generated ranking accuracy : 0.10839160839160839\n",
      "CCDC ranking accuracy : 0.09090909090909091\n",
      "EF20% prediction : 1.634537493110482\n",
      "EF20% CCDC : 1.3989646420684578\n"
     ]
    }
   ],
   "source": [
    "# PDBBind test\n",
    "litschnet.eval()\n",
    "evaluator = RMSDPredictorEvaluator(model=litschnet)\n",
    "\n",
    "with torch.no_grad() :\n",
    "    losses = []\n",
    "    for chunk_number in tqdm(range(pdbbind_n_chunks)) :\n",
    "\n",
    "        # Load data chunk\n",
    "        dataset = ConfEnsembleDataset(loaded_chunk=chunk_number,\n",
    "                                      smiles_list=test_smiles)\n",
    "        evaluator.evaluate(dataset)\n",
    "        loader = DataLoader(dataset, \n",
    "                            batch_size=64, \n",
    "                            shuffle=True, \n",
    "                            num_workers=4)\n",
    "\n",
    "        for batch_idx, batch in enumerate(loader) :\n",
    "            batch.to('cuda')\n",
    "            loss = litschnet.test_step(batch, batch_idx)\n",
    "            losses.append(loss.item())\n",
    "    writer.add_scalar(\"test_loss\", np.mean(losses), epoch)\n",
    "evaluator.evaluation_report()"
   ]
  },
  {
   "cell_type": "code",
   "execution_count": 28,
   "id": "f9a11136-86d6-4647-9351-1e8f8b716daf",
   "metadata": {
    "scrolled": true,
    "tags": []
   },
   "outputs": [
    {
     "name": "stderr",
     "output_type": "stream",
     "text": [
      "  0%|                                                     | 0/2 [00:00<?, ?it/s]"
     ]
    },
    {
     "name": "stdout",
     "output_type": "stream",
     "text": [
      "Grouping data by smiles\n"
     ]
    },
    {
     "name": "stderr",
     "output_type": "stream",
     "text": [
      "\n",
      "  0%|                                                  | 0/4000 [00:00<?, ?it/s]\u001b[A\n",
      "  0%|                                          | 4/4000 [00:00<01:43, 38.75it/s]\u001b[A"
     ]
    },
    {
     "name": "stdout",
     "output_type": "stream",
     "text": [
      "Starting evaluation\n"
     ]
    },
    {
     "name": "stderr",
     "output_type": "stream",
     "text": [
      "\n",
      "  0%|                                         | 10/4000 [00:00<01:19, 49.95it/s]\u001b[A\n",
      "  0%|▏                                        | 18/4000 [00:00<01:05, 61.04it/s]\u001b[A\n",
      "  1%|▎                                        | 25/4000 [00:00<01:04, 61.93it/s]\u001b[A\n",
      "  1%|▎                                        | 32/4000 [00:00<01:08, 57.96it/s]\u001b[A\n",
      "  1%|▍                                        | 38/4000 [00:00<01:13, 53.84it/s]\u001b[A\n",
      "  1%|▍                                        | 44/4000 [00:00<01:11, 55.10it/s]\u001b[A\n",
      "  1%|▌                                        | 51/4000 [00:00<01:08, 57.74it/s]\u001b[A\n",
      "  2%|▌                                        | 60/4000 [00:01<01:01, 64.03it/s]\u001b[A\n",
      "  2%|▋                                        | 67/4000 [00:01<01:06, 59.39it/s]\u001b[A\n",
      "  2%|▊                                        | 74/4000 [00:01<01:07, 58.57it/s]\u001b[A\n",
      "  2%|▊                                        | 80/4000 [00:01<01:09, 56.15it/s]\u001b[A\n",
      "  2%|▉                                        | 87/4000 [00:01<01:08, 57.31it/s]\u001b[A\n",
      "  2%|▉                                        | 95/4000 [00:01<01:03, 61.26it/s]\u001b[A\n",
      "  3%|█                                       | 102/4000 [00:01<01:03, 61.73it/s]\u001b[A\n",
      "  3%|█                                       | 109/4000 [00:01<01:04, 59.89it/s]\u001b[A\n",
      "  3%|█▏                                      | 116/4000 [00:02<01:08, 56.79it/s]\u001b[A\n",
      "  3%|█▏                                      | 124/4000 [00:02<01:03, 60.73it/s]\u001b[A\n",
      "  3%|█▎                                      | 131/4000 [00:02<01:02, 61.91it/s]\u001b[A\n",
      "  4%|█▍                                      | 143/4000 [00:02<00:51, 74.27it/s]\u001b[A\n",
      "  4%|█▌                                      | 151/4000 [00:02<00:58, 65.84it/s]\u001b[A\n",
      "  4%|█▌                                      | 160/4000 [00:02<00:53, 71.46it/s]\u001b[A\n",
      "  4%|█▋                                      | 168/4000 [00:02<00:53, 72.17it/s]\u001b[A\n",
      "  4%|█▊                                      | 177/4000 [00:02<00:50, 75.32it/s]\u001b[A\n",
      "  5%|█▊                                      | 185/4000 [00:02<00:52, 73.04it/s]\u001b[A\n",
      "  5%|█▉                                      | 193/4000 [00:03<00:51, 73.55it/s]\u001b[A\n",
      "  5%|██                                      | 201/4000 [00:03<00:56, 67.81it/s]\u001b[A\n",
      "  5%|██                                      | 208/4000 [00:03<00:55, 67.88it/s]\u001b[A\n",
      "  5%|██▏                                     | 215/4000 [00:03<00:56, 67.11it/s]\u001b[A\n",
      "  6%|██▎                                     | 227/4000 [00:03<00:48, 78.44it/s]\u001b[A\n",
      "  6%|██▎                                     | 235/4000 [00:03<00:52, 71.85it/s]\u001b[A\n",
      "  6%|██▍                                     | 243/4000 [00:03<00:55, 68.21it/s]\u001b[A\n",
      "  6%|██▌                                     | 250/4000 [00:03<01:01, 60.63it/s]\u001b[A\n",
      "  6%|██▌                                     | 257/4000 [00:04<01:02, 59.98it/s]\u001b[A\n",
      "  7%|██▋                                     | 264/4000 [00:04<01:06, 56.27it/s]\u001b[A\n",
      "  7%|██▋                                     | 271/4000 [00:04<01:03, 58.37it/s]\u001b[A\n",
      "  7%|██▊                                     | 278/4000 [00:04<01:04, 57.93it/s]\u001b[A\n",
      "  7%|██▊                                     | 284/4000 [00:04<01:05, 56.52it/s]\u001b[A\n",
      "  7%|██▉                                     | 292/4000 [00:04<01:02, 59.78it/s]\u001b[A\n",
      "  7%|██▉                                     | 299/4000 [00:04<01:04, 57.16it/s]\u001b[A\n",
      "  8%|███                                     | 305/4000 [00:04<01:06, 55.42it/s]\u001b[A\n",
      "  8%|███                                     | 311/4000 [00:05<01:06, 55.74it/s]\u001b[A\n",
      "  8%|███▏                                    | 317/4000 [00:05<01:11, 51.22it/s]\u001b[A\n",
      "  8%|███▏                                    | 324/4000 [00:05<01:08, 54.02it/s]\u001b[A\n",
      "  8%|███▎                                    | 332/4000 [00:05<01:03, 57.60it/s]\u001b[A\n",
      "  8%|███▍                                    | 338/4000 [00:05<01:04, 56.55it/s]\u001b[A\n",
      "  9%|███▍                                    | 344/4000 [00:05<01:04, 56.38it/s]\u001b[A\n",
      "  9%|███▌                                    | 351/4000 [00:05<01:01, 59.77it/s]\u001b[A\n",
      "  9%|███▌                                    | 358/4000 [00:05<01:06, 55.17it/s]\u001b[A\n",
      "  9%|███▋                                    | 364/4000 [00:05<01:07, 54.02it/s]\u001b[A\n",
      "  9%|███▋                                    | 370/4000 [00:06<01:11, 50.89it/s]\u001b[A\n",
      "  9%|███▊                                    | 377/4000 [00:06<01:05, 55.10it/s]\u001b[A\n",
      " 10%|███▊                                    | 383/4000 [00:06<01:04, 56.17it/s]\u001b[A\n",
      " 10%|███▉                                    | 390/4000 [00:06<01:01, 58.98it/s]\u001b[A\n",
      " 10%|███▉                                    | 397/4000 [00:06<01:00, 59.24it/s]\u001b[A\n",
      " 10%|████                                    | 403/4000 [00:06<01:00, 59.20it/s]\u001b[A\n",
      " 10%|████▏                                   | 413/4000 [00:06<00:51, 70.11it/s]\u001b[A\n",
      " 11%|████▏                                   | 421/4000 [00:06<00:55, 64.44it/s]\u001b[A\n",
      " 11%|████▎                                   | 428/4000 [00:07<00:57, 62.39it/s]\u001b[A\n",
      " 11%|████▎                                   | 435/4000 [00:07<00:59, 60.28it/s]\u001b[A\n",
      " 11%|████▍                                   | 443/4000 [00:07<00:57, 62.40it/s]\u001b[A\n",
      " 11%|████▌                                   | 450/4000 [00:07<00:58, 60.30it/s]\u001b[A\n",
      " 11%|████▌                                   | 457/4000 [00:07<01:00, 58.35it/s]\u001b[A\n",
      " 12%|████▋                                   | 463/4000 [00:07<01:02, 56.84it/s]\u001b[A\n",
      " 12%|████▋                                   | 469/4000 [00:07<01:07, 52.04it/s]\u001b[A\n",
      " 12%|████▊                                   | 475/4000 [00:07<01:10, 49.72it/s]\u001b[A\n",
      " 12%|████▊                                   | 483/4000 [00:08<01:03, 54.97it/s]\u001b[A\n",
      " 12%|████▉                                   | 489/4000 [00:08<01:05, 53.74it/s]\u001b[A\n",
      " 12%|████▉                                   | 495/4000 [00:08<01:06, 52.55it/s]\u001b[A\n",
      " 13%|█████                                   | 501/4000 [00:08<01:08, 51.42it/s]\u001b[A\n",
      " 13%|█████                                   | 507/4000 [00:08<01:13, 47.52it/s]\u001b[A\n",
      " 13%|█████                                   | 512/4000 [00:08<01:14, 46.62it/s]\u001b[A\n",
      " 13%|█████▏                                  | 518/4000 [00:08<01:14, 46.99it/s]\u001b[A\n",
      " 13%|█████▏                                  | 524/4000 [00:08<01:11, 48.40it/s]\u001b[A\n",
      " 13%|█████▎                                  | 531/4000 [00:09<01:07, 51.08it/s]\u001b[A\n",
      " 13%|█████▎                                  | 537/4000 [00:09<01:05, 52.88it/s]\u001b[A\n",
      " 14%|█████▍                                  | 543/4000 [00:09<01:03, 54.07it/s]\u001b[A\n",
      " 14%|█████▌                                  | 550/4000 [00:09<01:01, 56.28it/s]\u001b[A\n",
      " 14%|█████▌                                  | 556/4000 [00:09<01:00, 56.61it/s]\u001b[A\n",
      " 14%|█████▋                                  | 566/4000 [00:09<00:50, 68.01it/s]\u001b[A\n",
      " 14%|█████▋                                  | 573/4000 [00:09<00:51, 66.27it/s]\u001b[A\n",
      " 14%|█████▊                                  | 580/4000 [00:09<00:55, 62.07it/s]\u001b[A\n",
      " 15%|█████▉                                  | 588/4000 [00:09<00:51, 66.42it/s]\u001b[A\n",
      " 15%|█████▉                                  | 595/4000 [00:09<00:51, 66.70it/s]\u001b[A\n",
      " 15%|██████                                  | 603/4000 [00:10<00:48, 70.00it/s]\u001b[A\n",
      " 15%|██████                                  | 611/4000 [00:10<00:55, 60.80it/s]\u001b[A\n",
      " 15%|██████▏                                 | 618/4000 [00:10<00:56, 59.49it/s]\u001b[A\n",
      " 16%|██████▎                                 | 625/4000 [00:10<01:01, 54.51it/s]\u001b[A\n",
      " 16%|██████▎                                 | 631/4000 [00:10<01:05, 51.58it/s]\u001b[A\n",
      " 16%|██████▎                                 | 637/4000 [00:10<01:10, 47.98it/s]\u001b[A\n",
      " 16%|██████▍                                 | 642/4000 [00:10<01:11, 47.26it/s]\u001b[A\n",
      " 16%|██████▍                                 | 647/4000 [00:11<01:11, 47.02it/s]\u001b[A\n",
      " 16%|██████▌                                 | 654/4000 [00:11<01:05, 50.80it/s]\u001b[A\n",
      " 16%|██████▌                                 | 660/4000 [00:11<01:09, 47.94it/s]\u001b[A\n",
      " 17%|██████▋                                 | 668/4000 [00:11<01:01, 53.81it/s]\u001b[A\n",
      " 17%|██████▊                                 | 675/4000 [00:11<00:59, 55.73it/s]\u001b[A\n",
      " 17%|██████▊                                 | 683/4000 [00:11<00:54, 60.98it/s]\u001b[A\n",
      " 17%|██████▉                                 | 692/4000 [00:11<00:49, 66.45it/s]\u001b[A\n",
      " 18%|███████                                 | 700/4000 [00:11<00:47, 69.29it/s]\u001b[A\n",
      " 18%|███████                                 | 708/4000 [00:11<00:46, 70.40it/s]\u001b[A\n",
      " 18%|███████▏                                | 716/4000 [00:12<00:46, 71.30it/s]\u001b[A\n",
      " 18%|███████▏                                | 724/4000 [00:12<00:50, 65.19it/s]\u001b[A\n",
      " 18%|███████▎                                | 731/4000 [00:12<00:56, 57.85it/s]\u001b[A\n",
      " 19%|███████▍                                | 741/4000 [00:12<00:48, 67.50it/s]\u001b[A\n",
      " 19%|███████▌                                | 751/4000 [00:12<00:44, 73.35it/s]\u001b[A\n",
      " 19%|███████▌                                | 759/4000 [00:12<00:47, 67.95it/s]\u001b[A\n",
      " 19%|███████▋                                | 767/4000 [00:12<00:50, 64.04it/s]\u001b[A\n",
      " 19%|███████▋                                | 774/4000 [00:12<00:50, 64.24it/s]\u001b[A\n",
      " 20%|███████▊                                | 781/4000 [00:13<00:51, 62.91it/s]\u001b[A\n",
      " 20%|███████▉                                | 788/4000 [00:13<00:52, 61.45it/s]\u001b[A\n",
      " 20%|███████▉                                | 795/4000 [00:13<00:58, 55.23it/s]\u001b[A\n",
      " 20%|████████                                | 802/4000 [00:13<00:55, 58.08it/s]\u001b[A\n",
      " 20%|████████                                | 808/4000 [00:13<00:58, 54.29it/s]\u001b[A\n",
      " 20%|████████▏                               | 814/4000 [00:13<00:58, 54.30it/s]\u001b[A\n",
      " 20%|████████▏                               | 820/4000 [00:13<01:00, 52.41it/s]\u001b[A\n",
      " 21%|████████▎                               | 827/4000 [00:13<00:56, 56.20it/s]\u001b[A\n",
      " 21%|████████▍                               | 838/4000 [00:14<00:47, 66.63it/s]\u001b[A\n",
      " 21%|████████▍                               | 846/4000 [00:14<00:45, 69.85it/s]\u001b[A\n",
      " 21%|████████▌                               | 854/4000 [00:14<00:46, 67.61it/s]\u001b[A\n",
      " 22%|████████▋                               | 864/4000 [00:14<00:43, 72.30it/s]\u001b[A\n",
      " 22%|████████▋                               | 872/4000 [00:14<00:49, 63.11it/s]\u001b[A\n",
      " 22%|████████▊                               | 881/4000 [00:14<00:46, 66.59it/s]\u001b[A\n",
      " 22%|████████▉                               | 888/4000 [00:14<00:49, 62.34it/s]\u001b[A\n",
      " 22%|████████▉                               | 895/4000 [00:15<00:55, 55.59it/s]\u001b[A\n",
      " 23%|█████████                               | 901/4000 [00:15<00:55, 55.47it/s]\u001b[A\n",
      " 23%|█████████                               | 907/4000 [00:15<00:54, 56.57it/s]\u001b[A\n",
      " 23%|█████████▏                              | 913/4000 [00:15<00:53, 57.17it/s]\u001b[A\n",
      " 23%|█████████▏                              | 921/4000 [00:15<00:51, 60.01it/s]\u001b[A\n",
      " 23%|█████████▎                              | 928/4000 [00:15<00:53, 57.96it/s]\u001b[A\n",
      " 23%|█████████▎                              | 937/4000 [00:15<00:46, 65.50it/s]\u001b[A\n",
      " 24%|█████████▍                              | 948/4000 [00:15<00:39, 77.11it/s]\u001b[A\n",
      " 24%|█████████▌                              | 956/4000 [00:15<00:40, 74.60it/s]\u001b[A\n",
      " 24%|█████████▋                              | 964/4000 [00:16<00:42, 71.28it/s]\u001b[A\n",
      " 24%|█████████▋                              | 972/4000 [00:16<00:52, 58.19it/s]\u001b[A\n",
      " 24%|█████████▊                              | 979/4000 [00:16<00:57, 52.97it/s]\u001b[A\n",
      " 25%|█████████▊                              | 985/4000 [00:16<00:58, 51.73it/s]\u001b[A\n",
      " 25%|█████████▉                              | 991/4000 [00:16<00:58, 51.32it/s]\u001b[A\n",
      " 25%|█████████▉                              | 999/4000 [00:16<00:54, 55.38it/s]\u001b[A\n",
      " 25%|█████████▊                             | 1005/4000 [00:16<00:58, 51.12it/s]\u001b[A\n",
      " 25%|█████████▊                             | 1011/4000 [00:17<01:00, 49.50it/s]\u001b[A\n",
      " 25%|█████████▉                             | 1017/4000 [00:17<01:03, 47.26it/s]\u001b[A\n",
      " 26%|█████████▉                             | 1025/4000 [00:17<00:55, 53.26it/s]\u001b[A\n",
      " 26%|██████████                             | 1031/4000 [00:17<00:59, 49.81it/s]\u001b[A\n",
      " 26%|██████████                             | 1037/4000 [00:17<00:59, 49.69it/s]\u001b[A\n",
      " 26%|██████████▏                            | 1044/4000 [00:17<00:56, 52.46it/s]\u001b[A\n",
      " 26%|██████████▏                            | 1050/4000 [00:17<00:59, 49.51it/s]\u001b[A\n",
      " 26%|██████████▎                            | 1056/4000 [00:17<00:59, 49.23it/s]\u001b[A\n",
      " 27%|██████████▎                            | 1062/4000 [00:18<00:59, 49.54it/s]\u001b[A\n",
      " 27%|██████████▍                            | 1068/4000 [00:18<00:59, 49.49it/s]\u001b[A\n",
      " 27%|██████████▍                            | 1074/4000 [00:18<00:59, 49.15it/s]\u001b[A\n",
      " 27%|██████████▌                            | 1081/4000 [00:18<00:53, 54.19it/s]\u001b[A\n",
      " 27%|██████████▌                            | 1087/4000 [00:18<00:54, 53.26it/s]\u001b[A\n",
      " 27%|██████████▋                            | 1093/4000 [00:18<00:57, 50.77it/s]\u001b[A\n",
      " 27%|██████████▋                            | 1099/4000 [00:18<00:56, 51.47it/s]\u001b[A\n",
      " 28%|██████████▊                            | 1105/4000 [00:18<00:57, 50.67it/s]\u001b[A\n",
      " 28%|██████████▊                            | 1111/4000 [00:18<00:57, 50.58it/s]\u001b[A\n",
      " 28%|██████████▉                            | 1117/4000 [00:19<01:01, 47.19it/s]\u001b[A\n",
      " 28%|██████████▉                            | 1123/4000 [00:19<00:59, 48.56it/s]\u001b[A\n",
      " 28%|███████████                            | 1129/4000 [00:19<00:59, 48.59it/s]\u001b[A\n",
      " 28%|███████████                            | 1135/4000 [00:19<00:58, 48.80it/s]\u001b[A\n",
      " 28%|███████████                            | 1140/4000 [00:19<00:58, 48.97it/s]\u001b[A\n",
      " 29%|███████████▏                           | 1150/4000 [00:19<00:46, 60.97it/s]\u001b[A\n",
      " 29%|███████████▎                           | 1157/4000 [00:19<00:46, 61.36it/s]\u001b[A\n",
      " 29%|███████████▎                           | 1164/4000 [00:19<00:45, 62.70it/s]\u001b[A\n",
      " 29%|███████████▍                           | 1171/4000 [00:20<00:45, 61.63it/s]\u001b[A\n",
      " 29%|███████████▍                           | 1178/4000 [00:20<00:48, 57.77it/s]\u001b[A\n",
      " 30%|███████████▌                           | 1184/4000 [00:20<00:50, 55.63it/s]\u001b[A\n",
      " 30%|███████████▌                           | 1190/4000 [00:20<00:51, 54.23it/s]\u001b[A\n",
      " 30%|███████████▋                           | 1196/4000 [00:20<00:56, 49.56it/s]\u001b[A\n",
      " 30%|███████████▋                           | 1202/4000 [00:20<00:57, 48.41it/s]\u001b[A\n",
      " 30%|███████████▊                           | 1209/4000 [00:20<00:53, 52.24it/s]\u001b[A\n",
      " 30%|███████████▊                           | 1215/4000 [00:20<00:51, 54.01it/s]\u001b[A\n",
      " 31%|███████████▉                           | 1221/4000 [00:21<00:51, 53.63it/s]\u001b[A\n",
      " 31%|███████████▉                           | 1227/4000 [00:21<00:54, 50.95it/s]\u001b[A\n",
      " 31%|████████████                           | 1233/4000 [00:21<00:52, 52.51it/s]\u001b[A\n",
      " 31%|████████████                           | 1240/4000 [00:21<00:48, 56.44it/s]\u001b[A\n",
      " 31%|████████████▏                          | 1250/4000 [00:21<00:41, 66.29it/s]\u001b[A\n",
      " 31%|████████████▎                          | 1257/4000 [00:21<00:42, 63.80it/s]\u001b[A\n",
      " 32%|████████████▎                          | 1264/4000 [00:21<00:46, 58.37it/s]\u001b[A\n",
      " 32%|████████████▍                          | 1275/4000 [00:21<00:38, 70.56it/s]\u001b[A\n",
      " 32%|████████████▌                          | 1283/4000 [00:22<00:42, 63.43it/s]\u001b[A\n",
      " 32%|████████████▌                          | 1290/4000 [00:22<00:45, 59.31it/s]\u001b[A\n",
      " 32%|████████████▋                          | 1297/4000 [00:22<00:44, 60.74it/s]\u001b[A\n",
      " 33%|████████████▋                          | 1304/4000 [00:22<00:44, 59.94it/s]\u001b[A\n",
      " 33%|████████████▊                          | 1311/4000 [00:22<00:48, 55.30it/s]\u001b[A\n",
      " 33%|████████████▊                          | 1318/4000 [00:22<00:46, 57.17it/s]\u001b[A\n",
      " 33%|████████████▉                          | 1324/4000 [00:22<00:51, 52.15it/s]\u001b[A\n",
      " 33%|████████████▉                          | 1332/4000 [00:22<00:46, 57.01it/s]\u001b[A\n",
      " 34%|█████████████                          | 1341/4000 [00:23<00:41, 64.32it/s]\u001b[A\n",
      " 34%|█████████████▏                         | 1348/4000 [00:23<00:44, 60.12it/s]\u001b[A\n",
      " 34%|█████████████▏                         | 1355/4000 [00:23<00:45, 58.69it/s]\u001b[A\n",
      " 34%|█████████████▎                         | 1361/4000 [00:23<00:48, 54.27it/s]\u001b[A\n",
      " 34%|█████████████▎                         | 1367/4000 [00:23<00:48, 54.72it/s]\u001b[A\n",
      " 34%|█████████████▍                         | 1373/4000 [00:23<00:51, 50.93it/s]\u001b[A\n",
      " 34%|█████████████▍                         | 1379/4000 [00:23<00:52, 49.58it/s]\u001b[A\n",
      " 35%|█████████████▌                         | 1385/4000 [00:23<00:51, 51.04it/s]\u001b[A\n",
      " 35%|█████████████▌                         | 1395/4000 [00:23<00:41, 62.59it/s]\u001b[A\n",
      " 35%|█████████████▋                         | 1402/4000 [00:24<00:48, 53.19it/s]\u001b[A\n",
      " 35%|█████████████▋                         | 1408/4000 [00:24<00:49, 52.19it/s]\u001b[A\n",
      " 35%|█████████████▊                         | 1414/4000 [00:24<00:53, 48.47it/s]\u001b[A\n",
      " 36%|█████████████▊                         | 1420/4000 [00:24<00:51, 50.51it/s]\u001b[A\n",
      " 36%|█████████████▉                         | 1426/4000 [00:24<00:50, 51.45it/s]\u001b[A\n",
      " 36%|█████████████▉                         | 1433/4000 [00:24<00:46, 54.62it/s]\u001b[A\n",
      " 36%|██████████████                         | 1439/4000 [00:24<00:47, 53.48it/s]\u001b[A\n",
      " 36%|██████████████                         | 1445/4000 [00:24<00:46, 55.10it/s]\u001b[A\n",
      " 36%|██████████████▏                        | 1452/4000 [00:25<00:44, 56.76it/s]\u001b[A\n",
      " 36%|██████████████▏                        | 1458/4000 [00:25<00:46, 54.32it/s]\u001b[A\n",
      " 37%|██████████████▎                        | 1465/4000 [00:25<00:44, 56.93it/s]\u001b[A\n",
      " 37%|██████████████▎                        | 1471/4000 [00:25<00:45, 55.45it/s]\u001b[A\n",
      " 37%|██████████████▍                        | 1477/4000 [00:25<00:46, 54.39it/s]\u001b[A\n",
      " 37%|██████████████▍                        | 1483/4000 [00:25<00:45, 55.03it/s]\u001b[A\n",
      " 37%|██████████████▌                        | 1489/4000 [00:25<00:51, 49.13it/s]\u001b[A\n",
      " 37%|██████████████▌                        | 1495/4000 [00:25<00:48, 51.44it/s]\u001b[A\n",
      " 38%|██████████████▋                        | 1501/4000 [00:26<00:48, 51.19it/s]\u001b[A\n",
      " 38%|██████████████▋                        | 1508/4000 [00:26<00:47, 52.73it/s]\u001b[A\n",
      " 38%|██████████████▊                        | 1514/4000 [00:26<00:51, 48.42it/s]\u001b[A\n",
      " 38%|██████████████▊                        | 1519/4000 [00:26<00:53, 46.47it/s]\u001b[A\n",
      " 38%|██████████████▊                        | 1524/4000 [00:26<00:53, 45.89it/s]\u001b[A\n",
      " 38%|██████████████▉                        | 1530/4000 [00:26<00:51, 47.92it/s]\u001b[A\n",
      " 38%|██████████████▉                        | 1535/4000 [00:26<00:55, 44.72it/s]\u001b[A\n",
      " 38%|███████████████                        | 1540/4000 [00:26<00:57, 42.81it/s]\u001b[A\n",
      " 39%|███████████████                        | 1547/4000 [00:27<00:51, 47.61it/s]\u001b[A\n",
      " 39%|███████████████▏                       | 1552/4000 [00:27<00:51, 47.13it/s]\u001b[A\n",
      " 39%|███████████████▏                       | 1557/4000 [00:27<00:52, 46.49it/s]\u001b[A\n",
      " 39%|███████████████▏                       | 1562/4000 [00:27<00:56, 43.52it/s]\u001b[A\n",
      " 39%|███████████████▎                       | 1567/4000 [00:27<00:54, 44.66it/s]\u001b[A\n",
      " 39%|███████████████▎                       | 1572/4000 [00:27<00:53, 45.01it/s]\u001b[A\n",
      " 39%|███████████████▍                       | 1578/4000 [00:27<00:52, 46.36it/s]\u001b[A\n",
      " 40%|███████████████▍                       | 1584/4000 [00:27<00:51, 47.34it/s]\u001b[A\n",
      " 40%|███████████████▍                       | 1589/4000 [00:27<00:54, 44.12it/s]\u001b[A\n",
      " 40%|███████████████▌                       | 1594/4000 [00:28<00:53, 45.25it/s]\u001b[A\n",
      " 40%|███████████████▌                       | 1600/4000 [00:28<00:51, 46.88it/s]\u001b[A\n",
      " 40%|███████████████▋                       | 1605/4000 [00:28<00:50, 47.26it/s]\u001b[A\n",
      " 40%|███████████████▋                       | 1610/4000 [00:28<00:50, 47.45it/s]\u001b[A\n",
      " 40%|███████████████▊                       | 1617/4000 [00:28<00:44, 53.32it/s]\u001b[A\n",
      " 41%|███████████████▊                       | 1623/4000 [00:28<00:45, 52.58it/s]\u001b[A\n",
      " 41%|███████████████▉                       | 1632/4000 [00:28<00:38, 61.28it/s]\u001b[A\n",
      " 41%|███████████████▉                       | 1639/4000 [00:28<00:38, 60.92it/s]\u001b[A\n",
      " 41%|████████████████                       | 1646/4000 [00:29<00:44, 52.84it/s]\u001b[A\n",
      " 41%|████████████████                       | 1652/4000 [00:29<00:44, 53.29it/s]\u001b[A\n",
      " 41%|████████████████▏                      | 1658/4000 [00:29<00:42, 54.97it/s]\u001b[A\n",
      " 42%|████████████████▏                      | 1665/4000 [00:29<00:39, 58.83it/s]\u001b[A\n",
      " 42%|████████████████▎                      | 1672/4000 [00:29<00:46, 50.30it/s]\u001b[A\n",
      " 42%|████████████████▎                      | 1679/4000 [00:29<00:42, 54.56it/s]\u001b[A\n",
      " 42%|████████████████▍                      | 1687/4000 [00:29<00:39, 58.27it/s]\u001b[A\n",
      " 42%|████████████████▌                      | 1694/4000 [00:29<00:41, 55.60it/s]\u001b[A\n",
      " 42%|████████████████▌                      | 1700/4000 [00:30<00:43, 52.89it/s]\u001b[A\n",
      " 43%|████████████████▋                      | 1706/4000 [00:30<00:48, 47.72it/s]\u001b[A\n",
      " 43%|████████████████▋                      | 1711/4000 [00:30<00:48, 47.29it/s]\u001b[A\n",
      " 43%|████████████████▋                      | 1716/4000 [00:30<00:50, 45.60it/s]\u001b[A\n",
      " 43%|████████████████▊                      | 1725/4000 [00:30<00:40, 56.03it/s]\u001b[A\n",
      " 43%|████████████████▉                      | 1731/4000 [00:30<00:42, 52.92it/s]\u001b[A\n",
      " 43%|████████████████▉                      | 1739/4000 [00:30<00:38, 58.57it/s]\u001b[A\n",
      " 44%|█████████████████                      | 1748/4000 [00:30<00:35, 63.61it/s]\u001b[A\n",
      " 44%|█████████████████                      | 1755/4000 [00:31<00:39, 56.25it/s]\u001b[A\n",
      " 44%|█████████████████▏                     | 1761/4000 [00:31<00:42, 52.34it/s]\u001b[A\n",
      " 44%|█████████████████▏                     | 1767/4000 [00:31<00:43, 51.18it/s]\u001b[A\n",
      " 44%|█████████████████▎                     | 1774/4000 [00:31<00:41, 53.27it/s]\u001b[A\n",
      " 44%|█████████████████▎                     | 1780/4000 [00:31<00:41, 53.51it/s]\u001b[A\n",
      " 45%|█████████████████▍                     | 1787/4000 [00:31<00:40, 55.25it/s]\u001b[A\n",
      " 45%|█████████████████▍                     | 1793/4000 [00:31<00:43, 50.71it/s]\u001b[A\n",
      " 45%|█████████████████▌                     | 1799/4000 [00:31<00:45, 48.61it/s]\u001b[A\n",
      " 45%|█████████████████▌                     | 1805/4000 [00:32<00:44, 49.48it/s]\u001b[A\n",
      " 45%|█████████████████▋                     | 1811/4000 [00:32<00:44, 48.97it/s]\u001b[A\n",
      " 45%|█████████████████▋                     | 1816/4000 [00:32<00:45, 47.86it/s]\u001b[A\n",
      " 46%|█████████████████▊                     | 1821/4000 [00:32<00:46, 46.45it/s]\u001b[A\n",
      " 46%|█████████████████▊                     | 1827/4000 [00:32<00:45, 47.47it/s]\u001b[A\n",
      " 46%|█████████████████▉                     | 1835/4000 [00:32<00:41, 52.74it/s]\u001b[A\n",
      " 46%|█████████████████▉                     | 1841/4000 [00:32<00:41, 51.48it/s]\u001b[A\n",
      " 46%|██████████████████                     | 1847/4000 [00:32<00:42, 50.40it/s]\u001b[A\n",
      " 46%|██████████████████                     | 1853/4000 [00:32<00:41, 51.96it/s]\u001b[A\n",
      " 46%|██████████████████▏                    | 1859/4000 [00:33<00:39, 53.91it/s]\u001b[A\n",
      " 47%|██████████████████▏                    | 1866/4000 [00:33<00:37, 57.47it/s]\u001b[A\n",
      " 47%|██████████████████▎                    | 1872/4000 [00:33<00:40, 53.02it/s]\u001b[A\n",
      " 47%|██████████████████▎                    | 1880/4000 [00:33<00:37, 57.18it/s]\u001b[A\n",
      " 47%|██████████████████▍                    | 1887/4000 [00:33<00:36, 57.15it/s]\u001b[A\n",
      " 47%|██████████████████▍                    | 1895/4000 [00:33<00:33, 63.16it/s]\u001b[A\n",
      " 48%|██████████████████▌                    | 1902/4000 [00:33<00:34, 60.43it/s]\u001b[A\n",
      " 48%|██████████████████▋                    | 1911/4000 [00:33<00:32, 64.50it/s]\u001b[A\n",
      " 48%|██████████████████▋                    | 1918/4000 [00:34<00:34, 60.32it/s]\u001b[A\n",
      " 48%|██████████████████▊                    | 1925/4000 [00:34<00:34, 60.32it/s]\u001b[A\n",
      " 48%|██████████████████▊                    | 1932/4000 [00:34<00:36, 57.14it/s]\u001b[A\n",
      " 48%|██████████████████▉                    | 1938/4000 [00:34<00:38, 53.62it/s]\u001b[A\n",
      " 49%|██████████████████▉                    | 1944/4000 [00:34<00:40, 51.38it/s]\u001b[A\n",
      " 49%|███████████████████                    | 1951/4000 [00:34<00:37, 54.67it/s]\u001b[A\n",
      " 49%|███████████████████                    | 1957/4000 [00:34<00:39, 52.25it/s]\u001b[A\n",
      " 49%|███████████████████▏                   | 1963/4000 [00:34<00:41, 49.29it/s]\u001b[A\n",
      " 49%|███████████████████▏                   | 1970/4000 [00:35<00:37, 54.37it/s]\u001b[A\n",
      " 49%|███████████████████▎                   | 1977/4000 [00:35<00:35, 57.42it/s]\u001b[A\n",
      " 50%|███████████████████▎                   | 1984/4000 [00:35<00:34, 57.77it/s]\u001b[A\n",
      " 50%|███████████████████▍                   | 1990/4000 [00:35<00:37, 54.28it/s]\u001b[A\n",
      " 50%|███████████████████▌                   | 2000/4000 [00:35<00:31, 63.12it/s]\u001b[A\n",
      " 50%|███████████████████▌                   | 2007/4000 [00:35<00:33, 59.38it/s]\u001b[A\n",
      " 50%|███████████████████▋                   | 2014/4000 [00:35<00:34, 58.16it/s]\u001b[A\n",
      " 51%|███████████████████▋                   | 2021/4000 [00:35<00:34, 58.00it/s]\u001b[A\n",
      " 51%|███████████████████▊                   | 2027/4000 [00:36<00:37, 52.65it/s]\u001b[A\n",
      " 51%|███████████████████▊                   | 2033/4000 [00:36<00:37, 53.15it/s]\u001b[A\n",
      " 51%|███████████████████▉                   | 2039/4000 [00:36<00:39, 49.76it/s]\u001b[A\n",
      " 51%|███████████████████▉                   | 2045/4000 [00:36<00:37, 52.19it/s]\u001b[A\n",
      " 51%|███████████████████▉                   | 2051/4000 [00:36<00:39, 49.74it/s]\u001b[A\n",
      " 51%|████████████████████                   | 2057/4000 [00:36<00:37, 51.27it/s]\u001b[A\n",
      " 52%|████████████████████                   | 2063/4000 [00:36<00:37, 52.12it/s]\u001b[A\n",
      " 52%|████████████████████▏                  | 2069/4000 [00:36<00:35, 53.88it/s]\u001b[A\n",
      " 52%|████████████████████▏                  | 2075/4000 [00:36<00:37, 51.54it/s]\u001b[A\n",
      " 52%|████████████████████▎                  | 2085/4000 [00:37<00:30, 62.88it/s]\u001b[A\n",
      " 52%|████████████████████▍                  | 2092/4000 [00:37<00:32, 59.20it/s]\u001b[A\n",
      " 52%|████████████████████▍                  | 2099/4000 [00:37<00:36, 52.25it/s]\u001b[A\n",
      " 53%|████████████████████▌                  | 2105/4000 [00:37<00:39, 47.48it/s]\u001b[A\n",
      " 53%|████████████████████▌                  | 2112/4000 [00:37<00:37, 49.73it/s]\u001b[A\n",
      " 53%|████████████████████▋                  | 2119/4000 [00:37<00:35, 53.63it/s]\u001b[A\n",
      " 53%|████████████████████▋                  | 2125/4000 [00:37<00:35, 53.15it/s]\u001b[A\n",
      " 53%|████████████████████▊                  | 2133/4000 [00:38<00:31, 58.38it/s]\u001b[A\n",
      " 54%|████████████████████▊                  | 2140/4000 [00:38<00:31, 59.81it/s]\u001b[A\n",
      " 54%|████████████████████▉                  | 2147/4000 [00:38<00:35, 51.53it/s]\u001b[A\n",
      " 54%|████████████████████▉                  | 2153/4000 [00:38<00:39, 46.94it/s]\u001b[A\n",
      " 54%|█████████████████████                  | 2160/4000 [00:38<00:35, 51.71it/s]\u001b[A\n",
      " 54%|█████████████████████                  | 2166/4000 [00:38<00:36, 50.82it/s]\u001b[A\n",
      " 54%|█████████████████████▏                 | 2172/4000 [00:38<00:39, 46.01it/s]\u001b[A\n",
      " 54%|█████████████████████▏                 | 2177/4000 [00:38<00:38, 46.82it/s]\u001b[A\n",
      " 55%|█████████████████████▎                 | 2182/4000 [00:39<00:40, 45.22it/s]\u001b[A\n",
      " 55%|█████████████████████▎                 | 2187/4000 [00:39<00:41, 44.19it/s]\u001b[A\n",
      " 55%|█████████████████████▍                 | 2194/4000 [00:39<00:37, 48.72it/s]\u001b[A\n",
      " 55%|█████████████████████▍                 | 2199/4000 [00:39<00:38, 46.54it/s]\u001b[A\n",
      " 55%|█████████████████████▍                 | 2204/4000 [00:39<00:40, 44.40it/s]\u001b[A\n",
      " 55%|█████████████████████▌                 | 2209/4000 [00:39<00:41, 43.25it/s]\u001b[A\n",
      " 55%|█████████████████████▌                 | 2214/4000 [00:39<00:42, 42.52it/s]\u001b[A\n",
      " 56%|█████████████████████▋                 | 2221/4000 [00:39<00:36, 49.08it/s]\u001b[A\n",
      " 56%|█████████████████████▋                 | 2227/4000 [00:40<00:36, 49.06it/s]\u001b[A\n",
      " 56%|█████████████████████▊                 | 2232/4000 [00:40<00:36, 48.28it/s]\u001b[A\n",
      " 56%|█████████████████████▊                 | 2239/4000 [00:40<00:32, 53.52it/s]\u001b[A\n",
      " 56%|█████████████████████▉                 | 2245/4000 [00:40<00:37, 46.96it/s]\u001b[A\n",
      " 56%|█████████████████████▉                 | 2250/4000 [00:40<00:37, 46.52it/s]\u001b[A\n",
      " 56%|█████████████████████▉                 | 2256/4000 [00:40<00:35, 49.73it/s]\u001b[A\n",
      " 57%|██████████████████████                 | 2262/4000 [00:40<00:33, 51.62it/s]\u001b[A\n",
      " 57%|██████████████████████                 | 2268/4000 [00:40<00:34, 50.92it/s]\u001b[A\n",
      " 57%|██████████████████████▏                | 2274/4000 [00:41<00:35, 48.31it/s]\u001b[A\n",
      " 57%|██████████████████████▏                | 2279/4000 [00:41<00:38, 45.24it/s]\u001b[A\n",
      " 57%|██████████████████████▎                | 2284/4000 [00:41<00:38, 44.87it/s]\u001b[A\n",
      " 57%|██████████████████████▎                | 2291/4000 [00:41<00:34, 49.41it/s]\u001b[A\n",
      " 57%|██████████████████████▍                | 2296/4000 [00:41<00:35, 48.15it/s]\u001b[A\n",
      " 58%|██████████████████████▍                | 2301/4000 [00:41<00:35, 47.79it/s]\u001b[A\n",
      " 58%|██████████████████████▌                | 2309/4000 [00:41<00:31, 53.57it/s]\u001b[A\n",
      " 58%|██████████████████████▌                | 2315/4000 [00:41<00:33, 49.71it/s]\u001b[A\n",
      " 58%|██████████████████████▋                | 2322/4000 [00:41<00:31, 53.47it/s]\u001b[A\n",
      " 58%|██████████████████████▋                | 2328/4000 [00:42<00:31, 53.82it/s]\u001b[A\n",
      " 58%|██████████████████████▊                | 2334/4000 [00:42<00:31, 53.20it/s]\u001b[A\n",
      " 58%|██████████████████████▊                | 2340/4000 [00:42<00:30, 53.95it/s]\u001b[A\n",
      " 59%|██████████████████████▊                | 2346/4000 [00:42<00:31, 53.21it/s]\u001b[A\n",
      " 59%|██████████████████████▉                | 2352/4000 [00:42<00:30, 54.72it/s]\u001b[A\n",
      " 59%|██████████████████████▉                | 2358/4000 [00:42<00:32, 50.61it/s]\u001b[A\n",
      " 59%|███████████████████████                | 2364/4000 [00:42<00:31, 51.15it/s]\u001b[A\n",
      " 59%|███████████████████████                | 2370/4000 [00:42<00:32, 49.57it/s]\u001b[A\n",
      " 59%|███████████████████████▏               | 2376/4000 [00:43<00:32, 49.33it/s]\u001b[A\n",
      " 60%|███████████████████████▏               | 2382/4000 [00:43<00:31, 50.85it/s]\u001b[A\n",
      " 60%|███████████████████████▎               | 2388/4000 [00:43<00:31, 50.48it/s]\u001b[A\n",
      " 60%|███████████████████████▎               | 2395/4000 [00:43<00:29, 54.51it/s]\u001b[A\n",
      " 60%|███████████████████████▍               | 2402/4000 [00:43<00:27, 58.08it/s]\u001b[A\n",
      " 60%|███████████████████████▍               | 2409/4000 [00:43<00:26, 60.39it/s]\u001b[A\n",
      " 60%|███████████████████████▌               | 2416/4000 [00:43<00:25, 62.49it/s]\u001b[A\n",
      " 61%|███████████████████████▌               | 2423/4000 [00:43<00:25, 60.73it/s]\u001b[A\n",
      " 61%|███████████████████████▋               | 2430/4000 [00:43<00:26, 60.32it/s]\u001b[A\n",
      " 61%|███████████████████████▊               | 2437/4000 [00:44<00:27, 57.77it/s]\u001b[A\n",
      " 61%|███████████████████████▊               | 2444/4000 [00:44<00:26, 58.79it/s]\u001b[A\n",
      " 61%|███████████████████████▉               | 2450/4000 [00:44<00:26, 58.02it/s]\u001b[A\n",
      " 61%|███████████████████████▉               | 2457/4000 [00:44<00:26, 58.88it/s]\u001b[A\n",
      " 62%|████████████████████████               | 2466/4000 [00:44<00:23, 65.54it/s]\u001b[A\n",
      " 62%|████████████████████████               | 2473/4000 [00:44<00:26, 57.09it/s]\u001b[A\n",
      " 62%|████████████████████████▏              | 2479/4000 [00:44<00:26, 57.58it/s]\u001b[A\n",
      " 62%|████████████████████████▏              | 2485/4000 [00:44<00:28, 52.48it/s]\u001b[A\n",
      " 62%|████████████████████████▎              | 2491/4000 [00:45<00:30, 49.79it/s]\u001b[A\n",
      " 62%|████████████████████████▎              | 2497/4000 [00:45<00:30, 49.37it/s]\u001b[A\n",
      " 63%|████████████████████████▍              | 2503/4000 [00:45<00:28, 51.82it/s]\u001b[A\n",
      " 63%|████████████████████████▍              | 2509/4000 [00:45<00:29, 50.56it/s]\u001b[A\n",
      " 63%|████████████████████████▌              | 2516/4000 [00:45<00:28, 52.51it/s]\u001b[A\n",
      " 63%|████████████████████████▌              | 2522/4000 [00:45<00:27, 54.20it/s]\u001b[A\n",
      " 63%|████████████████████████▋              | 2530/4000 [00:45<00:25, 57.56it/s]\u001b[A\n",
      " 63%|████████████████████████▋              | 2536/4000 [00:45<00:25, 57.54it/s]\u001b[A\n",
      " 64%|████████████████████████▊              | 2542/4000 [00:45<00:25, 56.86it/s]\u001b[A\n",
      " 64%|████████████████████████▊              | 2548/4000 [00:46<00:25, 57.65it/s]\u001b[A\n",
      " 64%|████████████████████████▉              | 2555/4000 [00:46<00:24, 59.63it/s]\u001b[A\n",
      " 64%|████████████████████████▉              | 2561/4000 [00:46<00:26, 54.71it/s]\u001b[A\n",
      " 64%|█████████████████████████              | 2569/4000 [00:46<00:23, 60.55it/s]\u001b[A\n",
      " 64%|█████████████████████████              | 2576/4000 [00:46<00:22, 62.83it/s]\u001b[A\n",
      " 65%|█████████████████████████▏             | 2583/4000 [00:46<00:24, 56.92it/s]\u001b[A\n",
      " 65%|█████████████████████████▎             | 2592/4000 [00:46<00:21, 65.07it/s]\u001b[A\n",
      " 65%|█████████████████████████▎             | 2599/4000 [00:46<00:22, 62.81it/s]\u001b[A\n",
      " 65%|█████████████████████████▍             | 2606/4000 [00:47<00:25, 53.74it/s]\u001b[A\n",
      " 65%|█████████████████████████▍             | 2615/4000 [00:47<00:22, 61.70it/s]\u001b[A\n",
      " 66%|█████████████████████████▌             | 2622/4000 [00:47<00:22, 59.99it/s]\u001b[A\n",
      " 66%|█████████████████████████▋             | 2629/4000 [00:47<00:23, 57.86it/s]\u001b[A\n",
      " 66%|█████████████████████████▋             | 2635/4000 [00:47<00:23, 57.97it/s]\u001b[A\n",
      " 66%|█████████████████████████▋             | 2641/4000 [00:47<00:24, 55.66it/s]\u001b[A\n",
      " 66%|█████████████████████████▊             | 2647/4000 [00:47<00:24, 55.53it/s]\u001b[A\n",
      " 66%|█████████████████████████▉             | 2656/4000 [00:47<00:21, 61.25it/s]\u001b[A\n",
      " 67%|█████████████████████████▉             | 2663/4000 [00:47<00:21, 62.21it/s]\u001b[A\n",
      " 67%|██████████████████████████             | 2670/4000 [00:48<00:22, 59.78it/s]\u001b[A\n",
      " 67%|██████████████████████████             | 2677/4000 [00:48<00:21, 62.28it/s]\u001b[A\n",
      " 67%|██████████████████████████▏            | 2684/4000 [00:48<00:22, 58.64it/s]\u001b[A\n",
      " 67%|██████████████████████████▏            | 2691/4000 [00:48<00:21, 60.76it/s]\u001b[A\n",
      " 67%|██████████████████████████▎            | 2699/4000 [00:48<00:19, 65.38it/s]\u001b[A\n",
      " 68%|██████████████████████████▍            | 2706/4000 [00:48<00:20, 64.68it/s]\u001b[A\n",
      " 68%|██████████████████████████▍            | 2713/4000 [00:48<00:19, 64.76it/s]\u001b[A\n",
      " 68%|██████████████████████████▌            | 2720/4000 [00:48<00:20, 63.55it/s]\u001b[A\n",
      " 68%|██████████████████████████▌            | 2727/4000 [00:49<00:23, 54.97it/s]\u001b[A\n",
      " 68%|██████████████████████████▋            | 2733/4000 [00:49<00:22, 55.23it/s]\u001b[A\n",
      " 68%|██████████████████████████▋            | 2739/4000 [00:49<00:22, 56.26it/s]\u001b[A\n",
      " 69%|██████████████████████████▊            | 2745/4000 [00:49<00:21, 57.13it/s]\u001b[A\n",
      " 69%|██████████████████████████▊            | 2751/4000 [00:49<00:23, 54.11it/s]\u001b[A\n",
      " 69%|██████████████████████████▉            | 2757/4000 [00:49<00:24, 51.60it/s]\u001b[A\n",
      " 69%|██████████████████████████▉            | 2763/4000 [00:49<00:25, 47.80it/s]\u001b[A\n",
      " 69%|██████████████████████████▉            | 2768/4000 [00:49<00:27, 45.08it/s]\u001b[A\n",
      " 69%|███████████████████████████            | 2773/4000 [00:49<00:26, 45.76it/s]\u001b[A\n",
      " 69%|███████████████████████████            | 2778/4000 [00:50<00:26, 46.11it/s]\u001b[A\n",
      " 70%|███████████████████████████▏           | 2783/4000 [00:50<00:25, 46.94it/s]\u001b[A\n",
      " 70%|███████████████████████████▏           | 2788/4000 [00:50<00:25, 46.66it/s]\u001b[A\n",
      " 70%|███████████████████████████▎           | 2796/4000 [00:50<00:21, 55.47it/s]\u001b[A\n",
      " 70%|███████████████████████████▎           | 2802/4000 [00:50<00:21, 54.58it/s]\u001b[A\n",
      " 70%|███████████████████████████▍           | 2811/4000 [00:50<00:18, 64.11it/s]\u001b[A\n",
      " 70%|███████████████████████████▍           | 2818/4000 [00:50<00:18, 64.95it/s]\u001b[A\n",
      " 71%|███████████████████████████▌           | 2826/4000 [00:50<00:16, 69.22it/s]\u001b[A\n",
      " 71%|███████████████████████████▋           | 2835/4000 [00:50<00:15, 73.60it/s]\u001b[A\n",
      " 71%|███████████████████████████▋           | 2843/4000 [00:51<00:17, 66.58it/s]\u001b[A\n",
      " 71%|███████████████████████████▊           | 2850/4000 [00:51<00:18, 62.88it/s]\u001b[A\n",
      " 72%|███████████████████████████▉           | 2861/4000 [00:51<00:15, 74.47it/s]\u001b[A\n",
      " 72%|███████████████████████████▉           | 2869/4000 [00:51<00:16, 68.94it/s]\u001b[A\n",
      " 72%|████████████████████████████           | 2877/4000 [00:51<00:18, 61.92it/s]\u001b[A\n",
      " 72%|████████████████████████████           | 2884/4000 [00:51<00:19, 57.94it/s]\u001b[A\n",
      " 72%|████████████████████████████▏          | 2891/4000 [00:51<00:19, 56.96it/s]\u001b[A\n",
      " 72%|████████████████████████████▏          | 2897/4000 [00:51<00:19, 57.01it/s]\u001b[A\n",
      " 73%|████████████████████████████▎          | 2903/4000 [00:52<00:19, 57.69it/s]\u001b[A\n",
      " 73%|████████████████████████████▎          | 2909/4000 [00:52<00:20, 52.41it/s]\u001b[A\n",
      " 73%|████████████████████████████▍          | 2915/4000 [00:52<00:19, 54.29it/s]\u001b[A\n",
      " 73%|████████████████████████████▍          | 2921/4000 [00:52<00:20, 52.26it/s]\u001b[A\n",
      " 73%|████████████████████████████▌          | 2927/4000 [00:52<00:22, 48.21it/s]\u001b[A\n",
      " 73%|████████████████████████████▌          | 2932/4000 [00:52<00:22, 47.78it/s]\u001b[A\n",
      " 73%|████████████████████████████▋          | 2938/4000 [00:52<00:21, 49.63it/s]\u001b[A\n",
      " 74%|████████████████████████████▋          | 2944/4000 [00:52<00:22, 46.46it/s]\u001b[A\n",
      " 74%|████████████████████████████▊          | 2949/4000 [00:53<00:23, 44.14it/s]\u001b[A\n",
      " 74%|████████████████████████████▊          | 2954/4000 [00:53<00:23, 44.72it/s]\u001b[A\n",
      " 74%|████████████████████████████▉          | 2964/4000 [00:53<00:18, 56.62it/s]\u001b[A\n",
      " 74%|████████████████████████████▉          | 2971/4000 [00:53<00:17, 58.42it/s]\u001b[A\n",
      " 74%|█████████████████████████████          | 2980/4000 [00:53<00:15, 66.38it/s]\u001b[A\n",
      " 75%|█████████████████████████████          | 2987/4000 [00:53<00:16, 59.65it/s]\u001b[A\n",
      " 75%|█████████████████████████████▏         | 2994/4000 [00:53<00:18, 54.51it/s]\u001b[A\n",
      " 75%|█████████████████████████████▎         | 3002/4000 [00:53<00:16, 59.69it/s]\u001b[A\n",
      " 75%|█████████████████████████████▎         | 3009/4000 [00:54<00:16, 59.68it/s]\u001b[A\n",
      " 75%|█████████████████████████████▍         | 3016/4000 [00:54<00:16, 59.84it/s]\u001b[A\n",
      " 76%|█████████████████████████████▍         | 3024/4000 [00:54<00:15, 62.64it/s]\u001b[A\n",
      " 76%|█████████████████████████████▌         | 3032/4000 [00:54<00:14, 65.39it/s]\u001b[A\n",
      " 76%|█████████████████████████████▋         | 3039/4000 [00:54<00:17, 55.22it/s]\u001b[A\n",
      " 76%|█████████████████████████████▋         | 3045/4000 [00:54<00:17, 53.90it/s]\u001b[A\n",
      " 76%|█████████████████████████████▊         | 3052/4000 [00:54<00:16, 55.91it/s]\u001b[A\n",
      " 76%|█████████████████████████████▊         | 3058/4000 [00:54<00:17, 52.67it/s]\u001b[A\n",
      " 77%|█████████████████████████████▊         | 3064/4000 [00:55<00:17, 53.49it/s]\u001b[A\n",
      " 77%|█████████████████████████████▉         | 3070/4000 [00:55<00:18, 49.11it/s]\u001b[A\n",
      " 77%|█████████████████████████████▉         | 3076/4000 [00:55<00:18, 48.78it/s]\u001b[A\n",
      " 77%|██████████████████████████████         | 3083/4000 [00:55<00:17, 52.70it/s]\u001b[A\n",
      " 77%|██████████████████████████████         | 3089/4000 [00:55<00:18, 48.32it/s]\u001b[A\n",
      " 77%|██████████████████████████████▏        | 3096/4000 [00:55<00:17, 51.58it/s]\u001b[A\n",
      " 78%|██████████████████████████████▎        | 3104/4000 [00:55<00:15, 56.21it/s]\u001b[A\n",
      " 78%|██████████████████████████████▎        | 3110/4000 [00:55<00:15, 57.15it/s]\u001b[A\n",
      " 78%|██████████████████████████████▍        | 3117/4000 [00:56<00:15, 58.81it/s]\u001b[A\n",
      " 78%|██████████████████████████████▍        | 3125/4000 [00:56<00:13, 63.73it/s]\u001b[A\n",
      " 78%|██████████████████████████████▌        | 3132/4000 [00:56<00:13, 64.91it/s]\u001b[A\n",
      " 78%|██████████████████████████████▌        | 3139/4000 [00:56<00:14, 59.67it/s]\u001b[A\n",
      " 79%|██████████████████████████████▋        | 3146/4000 [00:56<00:14, 59.20it/s]\u001b[A\n",
      " 79%|██████████████████████████████▋        | 3153/4000 [00:56<00:13, 61.85it/s]\u001b[A\n",
      " 79%|██████████████████████████████▊        | 3160/4000 [00:56<00:13, 61.25it/s]\u001b[A\n",
      " 79%|██████████████████████████████▉        | 3167/4000 [00:56<00:14, 57.26it/s]\u001b[A\n",
      " 79%|██████████████████████████████▉        | 3173/4000 [00:56<00:14, 57.84it/s]\u001b[A\n",
      " 79%|██████████████████████████████▉        | 3179/4000 [00:57<00:14, 58.06it/s]\u001b[A\n",
      " 80%|███████████████████████████████        | 3185/4000 [00:57<00:15, 52.90it/s]\u001b[A\n",
      " 80%|███████████████████████████████        | 3192/4000 [00:57<00:14, 56.02it/s]\u001b[A\n",
      " 80%|███████████████████████████████▏       | 3198/4000 [00:57<00:14, 54.79it/s]\u001b[A\n",
      " 80%|███████████████████████████████▏       | 3204/4000 [00:57<00:14, 54.83it/s]\u001b[A\n",
      " 80%|███████████████████████████████▎       | 3212/4000 [00:57<00:13, 58.71it/s]\u001b[A\n",
      " 80%|███████████████████████████████▍       | 3219/4000 [00:57<00:12, 61.09it/s]\u001b[A\n",
      " 81%|███████████████████████████████▍       | 3227/4000 [00:57<00:12, 63.46it/s]\u001b[A\n",
      " 81%|███████████████████████████████▌       | 3235/4000 [00:57<00:11, 67.62it/s]\u001b[A\n",
      " 81%|███████████████████████████████▌       | 3242/4000 [00:58<00:11, 65.35it/s]\u001b[A\n",
      " 81%|███████████████████████████████▋       | 3249/4000 [00:58<00:11, 63.32it/s]\u001b[A\n",
      " 81%|███████████████████████████████▋       | 3256/4000 [00:58<00:13, 54.58it/s]\u001b[A\n",
      " 82%|███████████████████████████████▊       | 3262/4000 [00:58<00:15, 48.88it/s]\u001b[A\n",
      " 82%|███████████████████████████████▊       | 3268/4000 [00:58<00:15, 48.34it/s]\u001b[A\n",
      " 82%|███████████████████████████████▉       | 3273/4000 [00:58<00:15, 48.24it/s]\u001b[A\n",
      " 82%|███████████████████████████████▉       | 3278/4000 [00:58<00:15, 48.12it/s]\u001b[A\n",
      " 82%|████████████████████████████████       | 3288/4000 [00:58<00:11, 60.33it/s]\u001b[A\n",
      " 82%|████████████████████████████████▏      | 3295/4000 [00:59<00:11, 62.77it/s]\u001b[A\n",
      " 83%|████████████████████████████████▏      | 3302/4000 [00:59<00:10, 64.22it/s]\u001b[A\n",
      " 83%|████████████████████████████████▎      | 3309/4000 [00:59<00:12, 57.17it/s]\u001b[A\n",
      " 83%|████████████████████████████████▎      | 3315/4000 [00:59<00:12, 56.10it/s]\u001b[A\n",
      " 83%|████████████████████████████████▍      | 3324/4000 [00:59<00:10, 61.82it/s]\u001b[A\n",
      " 83%|████████████████████████████████▍      | 3333/4000 [00:59<00:10, 66.22it/s]\u001b[A\n",
      " 84%|████████████████████████████████▌      | 3340/4000 [00:59<00:11, 59.65it/s]\u001b[A\n",
      " 84%|████████████████████████████████▋      | 3347/4000 [00:59<00:10, 60.88it/s]\u001b[A\n",
      " 84%|████████████████████████████████▋      | 3354/4000 [01:00<00:11, 55.79it/s]\u001b[A\n",
      " 84%|████████████████████████████████▊      | 3362/4000 [01:00<00:10, 58.87it/s]\u001b[A\n",
      " 84%|████████████████████████████████▊      | 3369/4000 [01:00<00:11, 53.07it/s]\u001b[A\n",
      " 84%|████████████████████████████████▉      | 3376/4000 [01:00<00:11, 54.08it/s]\u001b[A\n",
      " 85%|████████████████████████████████▉      | 3382/4000 [01:00<00:11, 51.92it/s]\u001b[A\n",
      " 85%|█████████████████████████████████      | 3388/4000 [01:00<00:12, 47.91it/s]\u001b[A\n",
      " 85%|█████████████████████████████████      | 3393/4000 [01:00<00:12, 48.23it/s]\u001b[A\n",
      " 85%|█████████████████████████████████▏     | 3400/4000 [01:01<00:11, 52.35it/s]\u001b[A\n",
      " 85%|█████████████████████████████████▏     | 3410/4000 [01:01<00:09, 63.58it/s]\u001b[A\n",
      " 85%|█████████████████████████████████▎     | 3417/4000 [01:01<00:10, 54.91it/s]\u001b[A\n",
      " 86%|█████████████████████████████████▎     | 3423/4000 [01:01<00:11, 52.41it/s]\u001b[A\n",
      " 86%|█████████████████████████████████▍     | 3430/4000 [01:01<00:10, 56.39it/s]\u001b[A\n",
      " 86%|█████████████████████████████████▌     | 3436/4000 [01:01<00:11, 50.41it/s]\u001b[A\n",
      " 86%|█████████████████████████████████▌     | 3443/4000 [01:01<00:10, 51.97it/s]\u001b[A\n",
      " 86%|█████████████████████████████████▋     | 3449/4000 [01:01<00:11, 48.78it/s]\u001b[A\n",
      " 86%|█████████████████████████████████▋     | 3455/4000 [01:02<00:11, 47.90it/s]\u001b[A\n",
      " 86%|█████████████████████████████████▋     | 3460/4000 [01:02<00:11, 47.83it/s]\u001b[A\n",
      " 87%|█████████████████████████████████▊     | 3465/4000 [01:02<00:11, 47.68it/s]\u001b[A\n",
      " 87%|█████████████████████████████████▊     | 3470/4000 [01:02<00:11, 46.76it/s]\u001b[A\n",
      " 87%|█████████████████████████████████▉     | 3476/4000 [01:02<00:10, 48.51it/s]\u001b[A\n",
      " 87%|█████████████████████████████████▉     | 3481/4000 [01:02<00:11, 45.58it/s]\u001b[A\n",
      " 87%|█████████████████████████████████▉     | 3487/4000 [01:02<00:10, 47.53it/s]\u001b[A\n",
      " 87%|██████████████████████████████████     | 3492/4000 [01:02<00:11, 44.60it/s]\u001b[A\n",
      " 87%|██████████████████████████████████     | 3497/4000 [01:03<00:12, 41.66it/s]\u001b[A\n",
      " 88%|██████████████████████████████████▏    | 3503/4000 [01:03<00:10, 45.59it/s]\u001b[A\n",
      " 88%|██████████████████████████████████▏    | 3509/4000 [01:03<00:10, 46.75it/s]\u001b[A\n",
      " 88%|██████████████████████████████████▎    | 3515/4000 [01:03<00:09, 49.18it/s]\u001b[A\n",
      " 88%|██████████████████████████████████▎    | 3520/4000 [01:03<00:10, 44.84it/s]\u001b[A\n",
      " 88%|██████████████████████████████████▍    | 3526/4000 [01:03<00:09, 47.52it/s]\u001b[A\n",
      " 88%|██████████████████████████████████▍    | 3531/4000 [01:03<00:10, 46.10it/s]\u001b[A\n",
      " 88%|██████████████████████████████████▍    | 3536/4000 [01:03<00:10, 45.06it/s]\u001b[A\n",
      " 89%|██████████████████████████████████▌    | 3541/4000 [01:03<00:10, 44.55it/s]\u001b[A\n",
      " 89%|██████████████████████████████████▌    | 3546/4000 [01:04<00:11, 41.25it/s]\u001b[A\n",
      " 89%|██████████████████████████████████▋    | 3552/4000 [01:04<00:10, 44.64it/s]\u001b[A\n",
      " 89%|██████████████████████████████████▋    | 3559/4000 [01:04<00:09, 48.76it/s]\u001b[A\n",
      " 89%|██████████████████████████████████▊    | 3565/4000 [01:04<00:08, 51.53it/s]\u001b[A\n",
      " 89%|██████████████████████████████████▊    | 3571/4000 [01:04<00:08, 52.34it/s]\u001b[A\n",
      " 89%|██████████████████████████████████▉    | 3577/4000 [01:04<00:08, 50.84it/s]\u001b[A\n",
      " 90%|██████████████████████████████████▉    | 3583/4000 [01:04<00:07, 52.18it/s]\u001b[A\n",
      " 90%|██████████████████████████████████▉    | 3589/4000 [01:04<00:08, 48.11it/s]\u001b[A\n",
      " 90%|███████████████████████████████████    | 3595/4000 [01:05<00:08, 48.76it/s]\u001b[A\n",
      " 90%|███████████████████████████████████▏   | 3603/4000 [01:05<00:07, 54.13it/s]\u001b[A\n",
      " 90%|███████████████████████████████████▏   | 3609/4000 [01:05<00:07, 52.78it/s]\u001b[A\n",
      " 90%|███████████████████████████████████▎   | 3616/4000 [01:05<00:06, 55.74it/s]\u001b[A\n",
      " 91%|███████████████████████████████████▎   | 3622/4000 [01:05<00:06, 56.16it/s]\u001b[A\n",
      " 91%|███████████████████████████████████▎   | 3628/4000 [01:05<00:06, 54.74it/s]\u001b[A\n",
      " 91%|███████████████████████████████████▍   | 3634/4000 [01:05<00:06, 54.97it/s]\u001b[A\n",
      " 91%|███████████████████████████████████▍   | 3640/4000 [01:05<00:07, 51.03it/s]\u001b[A\n",
      " 91%|███████████████████████████████████▌   | 3646/4000 [01:05<00:06, 50.57it/s]\u001b[A\n",
      " 91%|███████████████████████████████████▌   | 3652/4000 [01:06<00:06, 50.21it/s]\u001b[A\n",
      " 91%|███████████████████████████████████▋   | 3658/4000 [01:06<00:07, 48.84it/s]\u001b[A\n",
      " 92%|███████████████████████████████████▋   | 3664/4000 [01:06<00:06, 49.34it/s]\u001b[A\n",
      " 92%|███████████████████████████████████▊   | 3669/4000 [01:06<00:06, 48.06it/s]\u001b[A\n",
      " 92%|███████████████████████████████████▊   | 3674/4000 [01:06<00:06, 46.84it/s]\u001b[A\n",
      " 92%|███████████████████████████████████▊   | 3679/4000 [01:06<00:07, 43.19it/s]\u001b[A\n",
      " 92%|███████████████████████████████████▉   | 3684/4000 [01:06<00:07, 42.18it/s]\u001b[A\n",
      " 92%|███████████████████████████████████▉   | 3690/4000 [01:06<00:06, 45.67it/s]\u001b[A\n",
      " 92%|████████████████████████████████████   | 3698/4000 [01:07<00:05, 54.25it/s]\u001b[A\n",
      " 93%|████████████████████████████████████   | 3704/4000 [01:07<00:05, 51.35it/s]\u001b[A\n",
      " 93%|████████████████████████████████████▏  | 3710/4000 [01:07<00:05, 49.19it/s]\u001b[A\n",
      " 93%|████████████████████████████████████▏  | 3716/4000 [01:07<00:05, 50.49it/s]\u001b[A\n",
      " 93%|████████████████████████████████████▎  | 3724/4000 [01:07<00:04, 58.06it/s]\u001b[A\n",
      " 93%|████████████████████████████████████▎  | 3730/4000 [01:07<00:05, 51.75it/s]\u001b[A\n",
      " 93%|████████████████████████████████████▍  | 3736/4000 [01:07<00:05, 48.29it/s]\u001b[A\n",
      " 94%|████████████████████████████████████▍  | 3742/4000 [01:07<00:05, 48.40it/s]\u001b[A\n",
      " 94%|████████████████████████████████████▌  | 3747/4000 [01:08<00:05, 45.10it/s]\u001b[A\n",
      " 94%|████████████████████████████████████▌  | 3752/4000 [01:08<00:05, 46.15it/s]\u001b[A\n",
      " 94%|████████████████████████████████████▋  | 3758/4000 [01:08<00:05, 47.81it/s]\u001b[A\n",
      " 94%|████████████████████████████████████▋  | 3764/4000 [01:08<00:04, 50.76it/s]\u001b[A\n",
      " 94%|████████████████████████████████████▊  | 3770/4000 [01:08<00:04, 50.00it/s]\u001b[A\n",
      " 94%|████████████████████████████████████▊  | 3776/4000 [01:08<00:04, 48.12it/s]\u001b[A\n",
      " 95%|████████████████████████████████████▊  | 3782/4000 [01:08<00:04, 49.93it/s]\u001b[A\n",
      " 95%|████████████████████████████████████▉  | 3788/4000 [01:08<00:04, 50.61it/s]\u001b[A\n",
      " 95%|████████████████████████████████████▉  | 3794/4000 [01:09<00:04, 48.69it/s]\u001b[A\n",
      " 95%|█████████████████████████████████████  | 3802/4000 [01:09<00:03, 56.56it/s]\u001b[A\n",
      " 95%|█████████████████████████████████████▏ | 3808/4000 [01:09<00:03, 53.22it/s]\u001b[A\n",
      " 95%|█████████████████████████████████████▏ | 3814/4000 [01:09<00:03, 54.66it/s]\u001b[A\n",
      " 96%|█████████████████████████████████████▏ | 3820/4000 [01:09<00:03, 49.59it/s]\u001b[A\n",
      " 96%|█████████████████████████████████████▎ | 3826/4000 [01:09<00:03, 47.73it/s]\u001b[A\n",
      " 96%|█████████████████████████████████████▍ | 3834/4000 [01:09<00:03, 53.82it/s]\u001b[A\n",
      " 96%|█████████████████████████████████████▍ | 3843/4000 [01:09<00:02, 60.94it/s]\u001b[A\n",
      " 96%|█████████████████████████████████████▌ | 3850/4000 [01:09<00:02, 59.73it/s]\u001b[A\n",
      " 96%|█████████████████████████████████████▌ | 3857/4000 [01:10<00:02, 55.15it/s]\u001b[A\n",
      " 97%|█████████████████████████████████████▋ | 3865/4000 [01:10<00:02, 57.97it/s]\u001b[A\n",
      " 97%|█████████████████████████████████████▋ | 3871/4000 [01:10<00:02, 57.36it/s]\u001b[A\n",
      " 97%|█████████████████████████████████████▊ | 3877/4000 [01:10<00:02, 53.90it/s]\u001b[A\n",
      " 97%|█████████████████████████████████████▊ | 3883/4000 [01:10<00:02, 52.44it/s]\u001b[A\n",
      " 97%|█████████████████████████████████████▉ | 3889/4000 [01:10<00:02, 51.54it/s]\u001b[A\n",
      " 97%|█████████████████████████████████████▉ | 3895/4000 [01:10<00:02, 51.72it/s]\u001b[A\n",
      " 98%|██████████████████████████████████████ | 3901/4000 [01:10<00:02, 48.92it/s]\u001b[A\n",
      " 98%|██████████████████████████████████████ | 3906/4000 [01:11<00:01, 48.10it/s]\u001b[A\n",
      " 98%|██████████████████████████████████████▏| 3912/4000 [01:11<00:01, 49.93it/s]\u001b[A\n",
      " 98%|██████████████████████████████████████▏| 3918/4000 [01:11<00:01, 47.10it/s]\u001b[A\n",
      " 98%|██████████████████████████████████████▏| 3923/4000 [01:11<00:01, 47.22it/s]\u001b[A\n",
      " 98%|██████████████████████████████████████▎| 3929/4000 [01:11<00:01, 48.22it/s]\u001b[A\n",
      " 98%|██████████████████████████████████████▎| 3934/4000 [01:11<00:01, 45.95it/s]\u001b[A\n",
      " 98%|██████████████████████████████████████▍| 3939/4000 [01:11<00:01, 45.50it/s]\u001b[A\n",
      " 99%|██████████████████████████████████████▍| 3947/4000 [01:11<00:01, 52.80it/s]\u001b[A\n",
      " 99%|██████████████████████████████████████▌| 3953/4000 [01:12<00:00, 50.15it/s]\u001b[A\n",
      " 99%|██████████████████████████████████████▌| 3960/4000 [01:12<00:00, 52.98it/s]\u001b[A\n",
      " 99%|██████████████████████████████████████▋| 3966/4000 [01:12<00:00, 52.72it/s]\u001b[A\n",
      " 99%|██████████████████████████████████████▋| 3972/4000 [01:12<00:00, 50.85it/s]\u001b[A\n",
      " 99%|██████████████████████████████████████▊| 3978/4000 [01:12<00:00, 44.62it/s]\u001b[A\n",
      "100%|██████████████████████████████████████▊| 3983/4000 [01:12<00:00, 42.88it/s]\u001b[A\n",
      "100%|██████████████████████████████████████▉| 3988/4000 [01:12<00:00, 42.38it/s]\u001b[A\n",
      "100%|██████████████████████████████████████▉| 3993/4000 [01:12<00:00, 42.53it/s]\u001b[A\n",
      "100%|███████████████████████████████████████| 4000/4000 [01:13<00:00, 54.73it/s]\u001b[A\n",
      " 50%|██████████████████████▌                      | 1/2 [01:34<01:34, 94.90s/it]"
     ]
    },
    {
     "name": "stdout",
     "output_type": "stream",
     "text": [
      "Grouping data by smiles\n"
     ]
    },
    {
     "name": "stderr",
     "output_type": "stream",
     "text": [
      "\n",
      "  0%|                                                   | 0/548 [00:00<?, ?it/s]\u001b[A\n",
      "  1%|▍                                          | 5/548 [00:00<00:11, 47.76it/s]\u001b[A"
     ]
    },
    {
     "name": "stdout",
     "output_type": "stream",
     "text": [
      "Starting evaluation\n"
     ]
    },
    {
     "name": "stderr",
     "output_type": "stream",
     "text": [
      "\n",
      "  2%|▊                                         | 10/548 [00:00<00:11, 48.37it/s]\u001b[A\n",
      "  3%|█▏                                        | 16/548 [00:00<00:10, 51.75it/s]\u001b[A\n",
      "  4%|█▋                                        | 22/548 [00:00<00:09, 52.94it/s]\u001b[A\n",
      "  5%|██▏                                       | 28/548 [00:00<00:09, 52.03it/s]\u001b[A\n",
      "  6%|██▌                                       | 34/548 [00:00<00:10, 49.60it/s]\u001b[A\n",
      "  8%|███▏                                      | 42/548 [00:00<00:08, 57.56it/s]\u001b[A\n",
      "  9%|███▊                                      | 49/548 [00:00<00:08, 60.47it/s]\u001b[A\n",
      " 10%|████▎                                     | 56/548 [00:01<00:08, 55.91it/s]\u001b[A\n",
      " 12%|████▉                                     | 64/548 [00:01<00:07, 61.22it/s]\u001b[A\n",
      " 13%|█████▍                                    | 71/548 [00:01<00:07, 59.79it/s]\u001b[A\n",
      " 14%|█████▉                                    | 78/548 [00:01<00:08, 56.17it/s]\u001b[A\n",
      " 15%|██████▍                                   | 84/548 [00:01<00:08, 54.25it/s]\u001b[A\n",
      " 16%|██████▉                                   | 90/548 [00:01<00:08, 54.75it/s]\u001b[A\n",
      " 18%|███████▎                                  | 96/548 [00:01<00:08, 50.46it/s]\u001b[A\n",
      " 19%|███████▋                                 | 102/548 [00:01<00:08, 49.88it/s]\u001b[A\n",
      " 20%|████████                                 | 108/548 [00:01<00:08, 52.27it/s]\u001b[A\n",
      " 21%|████████▌                                | 114/548 [00:02<00:08, 52.19it/s]\u001b[A\n",
      " 22%|████████▉                                | 120/548 [00:02<00:08, 53.48it/s]\u001b[A\n",
      " 24%|█████████▋                               | 129/548 [00:02<00:06, 60.33it/s]\u001b[A\n",
      " 25%|██████████▏                              | 136/548 [00:02<00:07, 55.74it/s]\u001b[A\n",
      " 26%|██████████▌                              | 142/548 [00:02<00:07, 52.65it/s]\u001b[A\n",
      " 27%|███████████                              | 148/548 [00:02<00:07, 51.83it/s]\u001b[A\n",
      " 28%|███████████▋                             | 156/548 [00:02<00:06, 57.24it/s]\u001b[A\n",
      " 30%|████████████▎                            | 164/548 [00:02<00:06, 60.84it/s]\u001b[A\n",
      " 31%|████████████▊                            | 171/548 [00:03<00:06, 60.94it/s]\u001b[A\n",
      " 32%|█████████████▎                           | 178/548 [00:03<00:06, 58.00it/s]\u001b[A\n",
      " 34%|█████████████▉                           | 186/548 [00:03<00:05, 63.56it/s]\u001b[A\n",
      " 35%|██████████████▍                          | 193/548 [00:03<00:05, 61.49it/s]\u001b[A\n",
      " 36%|██████████████▉                          | 200/548 [00:03<00:05, 58.12it/s]\u001b[A\n",
      " 38%|███████████████▍                         | 207/548 [00:03<00:05, 57.76it/s]\u001b[A\n",
      " 39%|███████████████▉                         | 213/548 [00:03<00:06, 52.29it/s]\u001b[A\n",
      " 40%|████████████████▍                        | 219/548 [00:03<00:06, 49.93it/s]\u001b[A\n",
      " 41%|████████████████▊                        | 225/548 [00:04<00:06, 51.02it/s]\u001b[A\n",
      " 42%|█████████████████▎                       | 231/548 [00:04<00:05, 53.13it/s]\u001b[A\n",
      " 44%|█████████████████▉                       | 239/548 [00:04<00:05, 59.53it/s]\u001b[A\n",
      " 45%|██████████████████▍                      | 246/548 [00:04<00:05, 60.27it/s]\u001b[A\n",
      " 46%|██████████████████▉                      | 253/548 [00:04<00:05, 58.61it/s]\u001b[A\n",
      " 47%|███████████████████▍                     | 259/548 [00:04<00:05, 53.58it/s]\u001b[A\n",
      " 49%|███████████████████▉                     | 266/548 [00:04<00:05, 55.54it/s]\u001b[A\n",
      " 50%|████████████████████▎                    | 272/548 [00:04<00:05, 49.24it/s]\u001b[A\n",
      " 51%|████████████████████▊                    | 278/548 [00:05<00:06, 44.75it/s]\u001b[A\n",
      " 52%|█████████████████████▏                   | 284/548 [00:05<00:05, 45.73it/s]\u001b[A\n",
      " 53%|█████████████████████▊                   | 291/548 [00:05<00:05, 48.50it/s]\u001b[A\n",
      " 54%|██████████████████████▏                  | 297/548 [00:05<00:05, 49.07it/s]\u001b[A\n",
      " 55%|██████████████████████▌                  | 302/548 [00:05<00:05, 47.64it/s]\u001b[A\n",
      " 56%|██████████████████████▉                  | 307/548 [00:05<00:05, 47.06it/s]\u001b[A\n",
      " 57%|███████████████████████▍                 | 314/548 [00:05<00:04, 51.43it/s]\u001b[A\n",
      " 58%|███████████████████████▉                 | 320/548 [00:05<00:04, 48.49it/s]\u001b[A\n",
      " 59%|████████████████████████▎                | 325/548 [00:06<00:05, 43.38it/s]\u001b[A\n",
      " 60%|████████████████████████▋                | 330/548 [00:06<00:05, 42.31it/s]\u001b[A\n",
      " 61%|█████████████████████████                | 335/548 [00:06<00:05, 42.07it/s]\u001b[A\n",
      " 62%|█████████████████████████▍               | 340/548 [00:06<00:05, 41.04it/s]\u001b[A\n",
      " 63%|█████████████████████████▊               | 345/548 [00:06<00:04, 42.85it/s]\u001b[A\n",
      " 64%|██████████████████████████▎              | 352/548 [00:06<00:04, 48.25it/s]\u001b[A\n",
      " 65%|██████████████████████████▋              | 357/548 [00:06<00:03, 48.52it/s]\u001b[A\n",
      " 66%|███████████████████████████▏             | 363/548 [00:06<00:03, 50.68it/s]\u001b[A\n",
      " 67%|███████████████████████████▌             | 369/548 [00:07<00:03, 52.86it/s]\u001b[A\n",
      " 69%|████████████████████████████▏            | 376/548 [00:07<00:03, 54.42it/s]\u001b[A\n",
      " 70%|████████████████████████████▋            | 383/548 [00:07<00:02, 57.32it/s]\u001b[A\n",
      " 71%|█████████████████████████████            | 389/548 [00:07<00:03, 51.90it/s]\u001b[A\n",
      " 72%|█████████████████████████████▋           | 396/548 [00:07<00:02, 54.22it/s]\u001b[A\n",
      " 73%|██████████████████████████████           | 402/548 [00:07<00:02, 50.02it/s]\u001b[A\n",
      " 74%|██████████████████████████████▌          | 408/548 [00:07<00:02, 49.93it/s]\u001b[A\n",
      " 76%|██████████████████████████████▉          | 414/548 [00:07<00:02, 50.39it/s]\u001b[A\n",
      " 77%|███████████████████████████████▍         | 420/548 [00:08<00:02, 47.75it/s]\u001b[A\n",
      " 78%|███████████████████████████████▊         | 425/548 [00:08<00:02, 45.09it/s]\u001b[A\n",
      " 79%|████████████████████████████████▏        | 431/548 [00:08<00:02, 46.32it/s]\u001b[A\n",
      " 80%|████████████████████████████████▌        | 436/548 [00:08<00:02, 46.37it/s]\u001b[A\n",
      " 81%|█████████████████████████████████        | 442/548 [00:08<00:02, 47.78it/s]\u001b[A\n",
      " 82%|█████████████████████████████████▍       | 447/548 [00:08<00:02, 47.35it/s]\u001b[A\n",
      " 82%|█████████████████████████████████▊       | 452/548 [00:08<00:02, 46.18it/s]\u001b[A\n",
      " 83%|██████████████████████████████████▏      | 457/548 [00:08<00:02, 45.15it/s]\u001b[A\n",
      " 84%|██████████████████████████████████▌      | 462/548 [00:08<00:01, 46.05it/s]\u001b[A\n",
      " 85%|██████████████████████████████████▉      | 467/548 [00:09<00:01, 45.78it/s]\u001b[A\n",
      " 86%|███████████████████████████████████▍     | 474/548 [00:09<00:01, 50.57it/s]\u001b[A\n",
      " 88%|███████████████████████████████████▉     | 480/548 [00:09<00:01, 52.99it/s]\u001b[A\n",
      " 89%|████████████████████████████████████▎    | 486/548 [00:09<00:01, 52.48it/s]\u001b[A\n",
      " 90%|████████████████████████████████████▊    | 492/548 [00:09<00:01, 48.21it/s]\u001b[A\n",
      " 91%|█████████████████████████████████████▎   | 499/548 [00:09<00:00, 52.69it/s]\u001b[A\n",
      " 92%|█████████████████████████████████████▊   | 505/548 [00:09<00:00, 52.31it/s]\u001b[A\n",
      " 93%|██████████████████████████████████████▎  | 512/548 [00:09<00:00, 55.16it/s]\u001b[A\n",
      " 95%|██████████████████████████████████████▊  | 518/548 [00:09<00:00, 54.14it/s]\u001b[A\n",
      " 96%|███████████████████████████████████████▏ | 524/548 [00:10<00:00, 51.92it/s]\u001b[A\n",
      " 97%|███████████████████████████████████████▋ | 530/548 [00:10<00:00, 49.61it/s]\u001b[A\n",
      " 98%|████████████████████████████████████████ | 536/548 [00:10<00:00, 49.01it/s]\u001b[A\n",
      "100%|█████████████████████████████████████████| 548/548 [00:10<00:00, 51.98it/s]\u001b[A\n",
      "100%|█████████████████████████████████████████████| 2/2 [01:51<00:00, 55.86s/it]\n"
     ]
    },
    {
     "name": "stdout",
     "output_type": "stream",
     "text": [
      "Mean loss : 0.41\n"
     ]
    },
    {
     "data": {
      "image/png": "[encoded data removed]",
      "text/plain": [
       "<Figure size 720x720 with 1 Axes>"
      ]
     },
     "metadata": {
      "needs_background": "light"
     },
     "output_type": "display_data"
    },
    {
     "name": "stdout",
     "output_type": "stream",
     "text": [
      "Bioactive ranking accuracy : 0.13138686131386862\n",
      "Median rank : 17.0\n"
     ]
    },
    {
     "data": {
      "image/png": "[encoded data removed]",
      "text/plain": [
       "<Figure size 504x360 with 1 Axes>"
      ]
     },
     "metadata": {
      "needs_background": "light"
     },
     "output_type": "display_data"
    },
    {
     "data": {
      "image/png": "[encoded data removed]",
      "text/plain": [
       "<Figure size 432x288 with 1 Axes>"
      ]
     },
     "metadata": {
      "needs_background": "light"
     },
     "output_type": "display_data"
    },
    {
     "name": "stdout",
     "output_type": "stream",
     "text": [
      "Generated ranking accuracy : 0.08759124087591241\n",
      "CCDC ranking accuracy : 0.12956204379562045\n",
      "EF20% prediction : 1.292048385735763\n",
      "EF20% CCDC : 1.4243859318170005\n"
     ]
    }
   ],
   "source": [
    "# Platinum evaluation\n",
    "litschnet.eval()\n",
    "evaluator = RMSDPredictorEvaluator(model=litschnet)\n",
    "\n",
    "with torch.no_grad() :\n",
    "    for chunk_number in tqdm(range(platinum_n_chunks)) :\n",
    "\n",
    "        # Load data chunk\n",
    "        dataset = ConfEnsembleDataset(dataset='platinum',\n",
    "                                      loaded_chunk=chunk_number)\n",
    "        evaluator.evaluate(dataset)\n",
    "    \n",
    "evaluator.evaluation_report()"
   ]
  },
  {
   "cell_type": "code",
   "execution_count": null,
   "id": "2773c89a-2440-4b90-96cc-559e10b3948d",
   "metadata": {},
   "outputs": [],
   "source": []
  },
  {
   "cell_type": "code",
   "execution_count": null,
   "id": "e107af03-1f01-44b8-85a5-160908a5bd43",
   "metadata": {},
   "outputs": [],
   "source": []
  },
  {
   "cell_type": "code",
   "execution_count": null,
   "id": "10846f4f-7a1e-4745-a5cf-e2b9a9d50786",
   "metadata": {},
   "outputs": [],
   "source": []
  },
  {
   "cell_type": "code",
   "execution_count": null,
   "id": "9a0f8ae8-a6d7-4175-87b1-b95b6eb943ff",
   "metadata": {},
   "outputs": [
    {
     "name": "stdout",
     "output_type": "stream",
     "text": [
      "Loading existing encoders\n",
      "Chunk num 0 loaded\n",
      "Chunk num 1 loaded\n",
      "Chunk num 2 loaded\n",
      "Chunk num 3 loaded\n",
      "Chunk num 4 loaded\n"
     ]
    }
   ],
   "source": [
    "val_dataset = ConfEnsembleDataset(smiles_list=val_smiles)"
   ]
  },
  {
   "cell_type": "code",
   "execution_count": 9,
   "id": "75bfe531-0cdf-44c9-b7b9-2c13fc90456f",
   "metadata": {},
   "outputs": [],
   "source": [
    "train_loader = DataLoader(train_dataset, batch_size=64, shuffle=True, num_workers=4)"
   ]
  },
  {
   "cell_type": "code",
   "execution_count": 13,
   "id": "5b3bac10-a223-4c3b-99b8-f91ce4937042",
   "metadata": {},
   "outputs": [],
   "source": [
    "train_dataset = 5"
   ]
  },
  {
   "cell_type": "code",
   "execution_count": 10,
   "id": "8b77a79c-16cb-41c9-8f96-e5244a45c1bd",
   "metadata": {},
   "outputs": [],
   "source": [
    "del train_loader\n",
    "del train_dataset"
   ]
  },
  {
   "cell_type": "code",
   "execution_count": 16,
   "id": "914248fa-0724-4b3d-a206-67aac418cdfa",
   "metadata": {},
   "outputs": [],
   "source": [
    "from torch.utils.data import ConcatDataset\n",
    "train_dataset = ConcatDataset(train_datasets)\n",
    "val_dataset = ConcatDataset(val_datasets)\n",
    "test_dataset = ConcatDataset(test_datasets)"
   ]
  },
  {
   "cell_type": "code",
   "execution_count": 17,
   "id": "250b5308-f4bb-47e2-af0b-ce66183289d7",
   "metadata": {},
   "outputs": [],
   "source": [
    "train_loader = DataLoader(train_dataset, batch_size=64, shuffle=True, num_workers=4)\n",
    "val_loader = DataLoader(val_dataset, batch_size=64, shuffle=False, num_workers=4)\n",
    "test_loader = DataLoader(test_dataset, batch_size=64, shuffle=False, num_workers=4)"
   ]
  },
  {
   "cell_type": "code",
   "execution_count": null,
   "id": "6ac5db2e-b73a-4659-a734-ed9b99faccb5",
   "metadata": {},
   "outputs": [
    {
     "name": "stderr",
     "output_type": "stream",
     "text": [
      "GPU available: True, used: True\n",
      "TPU available: False, using: 0 TPU cores\n",
      "IPU available: False, using: 0 IPUs\n",
      "LOCAL_RANK: 0 - CUDA_VISIBLE_DEVICES: [0]\n",
      "\n",
      "  | Name       | Type      | Params\n",
      "-----------------------------------------\n",
      "0 | schnet     | SchNet    | 455 K \n",
      "1 | leaky_relu | LeakyReLU | 0     \n",
      "2 | sigmoid    | Sigmoid   | 0     \n",
      "-----------------------------------------\n",
      "455 K     Trainable params\n",
      "0         Non-trainable params\n",
      "455 K     Total params\n",
      "1.823     Total estimated model params size (MB)\n"
     ]
    },
    {
     "data": {
      "application/vnd.jupyter.widget-view+json": {
       "model_id": "",
       "version_major": 2,
       "version_minor": 0
      },
      "text/plain": [
       "Validation sanity check: 0it [00:00, ?it/s]"
      ]
     },
     "metadata": {},
     "output_type": "display_data"
    },
    {
     "name": "stderr",
     "output_type": "stream",
     "text": [
      "/home/benoit/anaconda3/envs/GeoMol/lib/python3.7/site-packages/pytorch_lightning/utilities/data.py:57: UserWarning: Trying to infer the `batch_size` from an ambiguous collection. The batch size we found is 10. To avoid any miscalculations, use `self.log(..., batch_size=batch_size)`.\n",
      "  \"Trying to infer the `batch_size` from an ambiguous collection. The batch size we\"\n",
      "Global seed set to 42\n"
     ]
    },
    {
     "data": {
      "application/vnd.jupyter.widget-view+json": {
       "model_id": "ff5f9723f8c94b7bbffe3c8e892b8456",
       "version_major": 2,
       "version_minor": 0
      },
      "text/plain": [
       "Training: 0it [00:00, ?it/s]"
      ]
     },
     "metadata": {},
     "output_type": "display_data"
    },
    {
     "data": {
      "application/vnd.jupyter.widget-view+json": {
       "model_id": "",
       "version_major": 2,
       "version_minor": 0
      },
      "text/plain": [
       "Validating: 0it [00:00, ?it/s]"
      ]
     },
     "metadata": {},
     "output_type": "display_data"
    }
   ],
   "source": [
    "experiment_name = f'scaffold_split_{iteration}_new'\n",
    "if experiment_name in os.listdir('lightning_logs') :\n",
    "    checkpoint_name = os.listdir(os.path.join('lightning_logs', experiment_name, 'checkpoints'))[0]\n",
    "    checkpoint_path = os.path.join('lightning_logs', experiment_name, 'checkpoints', checkpoint_name)\n",
    "    litschnet = LitSchNet.load_from_checkpoint(checkpoint_path=checkpoint_path)\n",
    "else :\n",
    "    litschnet = LitSchNet()\n",
    "    logger = TensorBoardLogger(save_dir=os.getcwd(), version=experiment_name, name=\"lightning_logs\")\n",
    "    trainer = pl.Trainer(logger=logger, callbacks=[EarlyStopping(monitor=\"val_loss\", patience=5)], gpus=1)\n",
    "    trainer.fit(litschnet, train_loader, val_loader)\n",
    "    trainer.test(litschnet, test_loader)\n",
    "\n",
    "evaluator = RMSDPredictorEvaluator(model=litschnet)\n",
    "evaluator.evaluate(test_data_list)\n",
    "#evaluator.evaluate(platinum_subset)"
   ]
  },
  {
   "cell_type": "code",
   "execution_count": 9,
   "id": "fe5197b3-dffd-4d29-9678-18f9dd982308",
   "metadata": {},
   "outputs": [],
   "source": [
    "iteration = 0\n",
    "with open(os.path.join(data_dir, 'scaffold_splits', f'train_smiles_scaffold_split_{iteration}.txt'), 'r') as f :\n",
    "    train_smiles = f.readlines()\n",
    "    train_smiles = [smiles.strip() for smiles in train_smiles]\n",
    "\n",
    "with open(os.path.join(data_dir, 'scaffold_splits', f'val_smiles_scaffold_split_{iteration}.txt'), 'r') as f :\n",
    "    val_smiles = f.readlines()\n",
    "    val_smiles = [smiles.strip() for smiles in val_smiles]\n",
    "\n",
    "with open(os.path.join(data_dir, 'scaffold_splits', f'test_smiles_scaffold_split_{iteration}.txt'), 'r') as f :\n",
    "    test_smiles = f.readlines()\n",
    "    test_smiles = [smiles.strip() for smiles in test_smiles]\n",
    "\n",
    "train_indices = conf_df[conf_df['smiles'].isin(train_smiles)].index\n",
    "val_indices = conf_df[conf_df['smiles'].isin(val_smiles)].index\n",
    "test_indices = conf_df[conf_df['smiles'].isin(test_smiles)].index\n",
    "\n",
    "train_subset = Subset(dataset, train_indices)\n",
    "val_subset = Subset(dataset, val_indices)\n",
    "test_subset = Subset(dataset, test_indices)"
   ]
  },
  {
   "cell_type": "code",
   "execution_count": null,
   "id": "04640fb3-5693-4e2c-bb43-7f22dcbb5aee",
   "metadata": {
    "tags": []
   },
   "outputs": [
    {
     "name": "stderr",
     "output_type": "stream",
     "text": [
      "GPU available: True, used: True\n",
      "TPU available: False, using: 0 TPU cores\n",
      "IPU available: False, using: 0 IPUs\n",
      "LOCAL_RANK: 0 - CUDA_VISIBLE_DEVICES: [0]\n",
      "\n",
      "  | Name       | Type      | Params\n",
      "-----------------------------------------\n",
      "0 | schnet     | SchNet    | 455 K \n",
      "1 | leaky_relu | LeakyReLU | 0     \n",
      "2 | sigmoid    | Sigmoid   | 0     \n",
      "-----------------------------------------\n",
      "455 K     Trainable params\n",
      "0         Non-trainable params\n",
      "455 K     Total params\n",
      "1.823     Total estimated model params size (MB)\n"
     ]
    },
    {
     "data": {
      "application/vnd.jupyter.widget-view+json": {
       "model_id": "",
       "version_major": 2,
       "version_minor": 0
      },
      "text/plain": [
       "Validation sanity check: 0it [00:00, ?it/s]"
      ]
     },
     "metadata": {},
     "output_type": "display_data"
    },
    {
     "name": "stderr",
     "output_type": "stream",
     "text": [
      "/home/benoit/anaconda3/envs/GeoMol/lib/python3.7/site-packages/pytorch_lightning/utilities/data.py:57: UserWarning: Trying to infer the `batch_size` from an ambiguous collection. The batch size we found is 10. To avoid any miscalculations, use `self.log(..., batch_size=batch_size)`.\n",
      "  \"Trying to infer the `batch_size` from an ambiguous collection. The batch size we\"\n",
      "Global seed set to 42\n"
     ]
    },
    {
     "data": {
      "application/vnd.jupyter.widget-view+json": {
       "model_id": "340ecc7b20f94407b047d7a12e7ff13a",
       "version_major": 2,
       "version_minor": 0
      },
      "text/plain": [
       "Training: 0it [00:00, ?it/s]"
      ]
     },
     "metadata": {},
     "output_type": "display_data"
    },
    {
     "name": "stderr",
     "output_type": "stream",
     "text": [
      "/home/benoit/anaconda3/envs/GeoMol/lib/python3.7/site-packages/pytorch_lightning/trainer/trainer.py:685: UserWarning: Detected KeyboardInterrupt, attempting graceful shutdown...\n",
      "  rank_zero_warn(\"Detected KeyboardInterrupt, attempting graceful shutdown...\")\n",
      "LOCAL_RANK: 0 - CUDA_VISIBLE_DEVICES: [0]\n"
     ]
    },
    {
     "data": {
      "application/vnd.jupyter.widget-view+json": {
       "model_id": "f657dfe5e9cc4431837f6e4483871f40",
       "version_major": 2,
       "version_minor": 0
      },
      "text/plain": [
       "Testing: 0it [00:00, ?it/s]"
      ]
     },
     "metadata": {},
     "output_type": "display_data"
    },
    {
     "name": "stderr",
     "output_type": "stream",
     "text": [
      "Process Process-3:\n",
      "Process Process-2:\n",
      "Process Process-1:\n",
      "Process Process-4:\n",
      "Traceback (most recent call last):\n",
      "Traceback (most recent call last):\n"
     ]
    }
   ],
   "source": [
    "for iteration in range(2) :\n",
    "    with open(os.path.join(data_dir, 'scaffold_splits', f'train_smiles_scaffold_split_{iteration}.txt'), 'r') as f :\n",
    "        train_smiles = f.readlines()\n",
    "        train_smiles = [smiles.strip() for smiles in train_smiles]\n",
    "    \n",
    "    with open(os.path.join(data_dir, 'scaffold_splits', f'val_smiles_scaffold_split_{iteration}.txt'), 'r') as f :\n",
    "        val_smiles = f.readlines()\n",
    "        val_smiles = [smiles.strip() for smiles in val_smiles]\n",
    "\n",
    "    with open(os.path.join(data_dir, 'scaffold_splits', f'test_smiles_scaffold_split_{iteration}.txt'), 'r') as f :\n",
    "        test_smiles = f.readlines()\n",
    "        test_smiles = [smiles.strip() for smiles in test_smiles]\n",
    "        \n",
    "    train_indices = conf_df[conf_df['smiles'].isin(train_smiles)].index\n",
    "    val_indices = conf_df[conf_df['smiles'].isin(val_smiles)].index\n",
    "    test_indices = conf_df[conf_df['smiles'].isin(test_smiles)].index\n",
    "    \n",
    "    train_subset = Subset(dataset, train_indices)\n",
    "    val_subset = Subset(dataset, val_indices)\n",
    "    test_subset = Subset(dataset, test_indices)\n",
    "    \n",
    "    train_loader = DataLoader(train_subset, batch_size=64, shuffle=True, num_workers=4)\n",
    "    val_loader = DataLoader(val_subset, batch_size=64, shuffle=False, num_workers=4)\n",
    "    test_loader = DataLoader(test_subset, batch_size=64, shuffle=False, num_workers=4)\n",
    "    \n",
    "    experiment_name = f'scaffold_split_{iteration}_new'\n",
    "    if experiment_name in os.listdir('lightning_logs') :\n",
    "        checkpoint_name = os.listdir(os.path.join('lightning_logs', experiment_name, 'checkpoints'))[0]\n",
    "        checkpoint_path = os.path.join('lightning_logs', experiment_name, 'checkpoints', checkpoint_name)\n",
    "        litschnet = LitSchNet.load_from_checkpoint(checkpoint_path=checkpoint_path)\n",
    "    else :\n",
    "        litschnet = LitSchNet()\n",
    "        logger = TensorBoardLogger(save_dir=os.getcwd(), version=experiment_name, name=\"lightning_logs\")\n",
    "        trainer = pl.Trainer(logger=logger, callbacks=[EarlyStopping(monitor=\"val_loss\", patience=5)], gpus=1)\n",
    "        trainer.fit(litschnet, train_loader, val_loader)\n",
    "        trainer.test(litschnet, test_loader)\n",
    "    \n",
    "    evaluator = RMSDPredictorEvaluator(model=litschnet)\n",
    "    evaluator.evaluate(test_subset)\n",
    "    evaluator.evaluate(platinum_subset)"
   ]
  },
  {
   "cell_type": "code",
   "execution_count": null,
   "id": "da1643ad-5364-4d95-b4cd-e9afd510ae75",
   "metadata": {},
   "outputs": [],
   "source": [
    "for iteration in range(2) :\n",
    "    with open(os.path.join(data_dir, f'train_smiles_random_split_{iteration}.txt'), 'r') as f :\n",
    "        train_smiles = f.readlines()\n",
    "        train_smiles = [smiles.strip() for smiles in train_smiles]\n",
    "    \n",
    "    with open(os.path.join(data_dir, f'val_smiles_random_split_{iteration}.txt'), 'r') as f :\n",
    "        valid_smiles = f.readlines()\n",
    "        valid_smiles = [smiles.strip() for smiles in valid_smiles]\n",
    "\n",
    "    with open(os.path.join(data_dir, f'test_smiles_random_split_{iteration}.txt'), 'r') as f :\n",
    "        test_smiles = f.readlines()\n",
    "        test_smiles = [smiles.strip() for smiles in test_smiles]\n",
    "        \n",
    "    train_indices = conf_df[conf_df['smiles'].isin(train_smiles)].index\n",
    "    val_indices = conf_df[conf_df['smiles'].isin(val_smiles)].index\n",
    "    test_indices = conf_df[conf_df['smiles'].isin(test_smiles)].index\n",
    "    \n",
    "    train_subset = Subset(dataset, train_indices)\n",
    "    val_subset = Subset(dataset, val_indices)\n",
    "    test_subset = Subset(dataset, test_indices)\n",
    "    \n",
    "    train_loader = DataLoader(train_subset, batch_size=64, shuffle=True, num_workers=4)\n",
    "    val_loader = DataLoader(val_subset, batch_size=64, shuffle=False, num_workers=4)\n",
    "    test_loader = DataLoader(test_subset, batch_size=64, shuffle=False, num_workers=4)\n",
    "    \n",
    "    experiment_name = f'random_split_{iteration}_new'\n",
    "    if experiment_name in os.listdir('lightning_logs') :\n",
    "        checkpoint_name = os.listdir(os.path.join('lightning_logs', experiment_name, 'checkpoints'))[0]\n",
    "        checkpoint_path = os.path.join('lightning_logs', experiment_name, 'checkpoints', checkpoint_name)\n",
    "        litschnet = LitSchNet.load_from_checkpoint(checkpoint_path=checkpoint_path)\n",
    "    else :\n",
    "        litschnet = LitSchNet()\n",
    "        logger = TensorBoardLogger(save_dir=os.getcwd(), version=experiment_name, name=\"lightning_logs\")\n",
    "        trainer = pl.Trainer(logger=logger, callbacks=[EarlyStopping(monitor=\"val_loss\", patience=5)], gpus=1)\n",
    "        trainer.fit(litschnet, train_loader, val_loader)\n",
    "        trainer.test(litschnet, test_loader)\n",
    "    \n",
    "    evaluator = RMSDPredictorEvaluator(model=litschnet)\n",
    "    evaluator.evaluate(test_subset)\n",
    "    evaluator.evaluate(platinum_subset)"
   ]
  },
  {
   "cell_type": "code",
   "execution_count": null,
   "id": "57438d44-ef32-4421-bec5-3ecc89958c51",
   "metadata": {},
   "outputs": [],
   "source": []
  },
  {
   "cell_type": "code",
   "execution_count": null,
   "id": "2159effa-112e-4dd4-b0e5-62a71400cef6",
   "metadata": {},
   "outputs": [],
   "source": []
  }
 ],
 "metadata": {
  "kernelspec": {
   "display_name": "Python 3 (ipykernel)",
   "language": "python",
   "name": "python3"
  },
  "language_info": {
   "codemirror_mode": {
    "name": "ipython",
    "version": 3
   },
   "file_extension": ".py",
   "mimetype": "text/x-python",
   "name": "python",
   "nbconvert_exporter": "python",
   "pygments_lexer": "ipython3",
   "version": "3.7.10"
  }
 },
 "nbformat": 4,
 "nbformat_minor": 5
}
