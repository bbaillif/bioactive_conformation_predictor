{
 "cells": [
  {
   "cell_type": "code",
   "execution_count": 1,
   "id": "14bf5794-71d5-4c88-b534-b2fd0db7e867",
   "metadata": {
    "tags": []
   },
   "outputs": [],
   "source": [
    "import os\n",
    "import pytorch_lightning as pl\n",
    "import pandas as pd\n",
    "\n",
    "from rdkit import Chem # safe import before ccdc imports\n",
    "from torch_geometric.loader import DataLoader\n",
    "from torch.utils.data import ConcatDataset\n",
    "\n",
    "from conf_ensemble_dataset_in_memory import ConfEnsembleDataset\n",
    "from litschnet import LitSchNet\n",
    "from molsize_model import MolSizeModel\n",
    "from pytorch_lightning.callbacks.early_stopping import EarlyStopping\n",
    "from pytorch_lightning.loggers import TensorBoardLogger\n",
    "from tqdm import tqdm"
   ]
  },
  {
   "cell_type": "code",
   "execution_count": 2,
   "id": "0a6e3d43-8fa2-4693-b4c3-08a4ce31d9bc",
   "metadata": {},
   "outputs": [
    {
     "name": "stderr",
     "output_type": "stream",
     "text": [
      "Global seed set to 42\n"
     ]
    },
    {
     "data": {
      "text/plain": [
       "42"
      ]
     },
     "execution_count": 2,
     "metadata": {},
     "output_type": "execute_result"
    }
   ],
   "source": [
    "pl.seed_everything(42, workers=True)"
   ]
  },
  {
   "cell_type": "markdown",
   "id": "a8cce14b-71e8-4987-aa40-acf9868528c1",
   "metadata": {},
   "source": [
    "# Data preparation"
   ]
  },
  {
   "cell_type": "code",
   "execution_count": 3,
   "id": "a5ea2045-3aab-4d08-ac23-808e42e3f87a",
   "metadata": {
    "scrolled": true,
    "tags": []
   },
   "outputs": [],
   "source": [
    "# run once to preprocess datasets and generate chunks\n",
    "dataset = ConfEnsembleDataset()\n",
    "# dataset = ConfEnsembleDataset(dataset='platinum')"
   ]
  },
  {
   "cell_type": "code",
   "execution_count": 4,
   "id": "0041e450-1fc1-442d-a519-cbc952a1f354",
   "metadata": {},
   "outputs": [],
   "source": [
    "splits = ['random', 'scaffold', 'protein']"
   ]
  },
  {
   "cell_type": "code",
   "execution_count": 5,
   "id": "36ee981f-9a29-43ab-8ccd-6ea54ba5b6bc",
   "metadata": {
    "tags": []
   },
   "outputs": [],
   "source": [
    "def get_loaders(split, \n",
    "                iteration, \n",
    "                data_dir='data/',\n",
    "                ) :\n",
    "    \n",
    "    pdbbind_chunks = [filename for filename in os.listdir(os.path.join(data_dir, 'processed')) if filename.startswith('pdbbind')]\n",
    "    pdbbind_n_chunks = len(pdbbind_chunks)\n",
    "    \n",
    "    train_datasets = []\n",
    "    val_datasets = []\n",
    "    test_datasets = []\n",
    "    \n",
    "    if split in ['random', 'scaffold'] :\n",
    "        \n",
    "        with open(os.path.join(data_dir, f'ligand_{split}_splits', f'train_smiles_{split}_split_{iteration}.txt'), 'r') as f :\n",
    "            train_smiles = f.readlines()\n",
    "            train_smiles = [smiles.strip() for smiles in train_smiles]\n",
    "\n",
    "        with open(os.path.join(data_dir, f'ligand_{split}_splits', f'val_smiles_{split}_split_{iteration}.txt'), 'r') as f :\n",
    "            val_smiles = f.readlines()\n",
    "            val_smiles = [smiles.strip() for smiles in val_smiles]\n",
    "\n",
    "        with open(os.path.join(data_dir, f'ligand_{split}_splits', f'test_smiles_{split}_split_{iteration}.txt'), 'r') as f :\n",
    "            test_smiles = f.readlines()\n",
    "            test_smiles = [smiles.strip() for smiles in test_smiles]\n",
    "\n",
    "        for chunk_number in tqdm(range(pdbbind_n_chunks)) :\n",
    "\n",
    "            dataset = ConfEnsembleDataset(loaded_chunk=chunk_number,\n",
    "                                          smiles_list=train_smiles)\n",
    "            train_datasets.append(dataset)\n",
    "\n",
    "            dataset = ConfEnsembleDataset(loaded_chunk=chunk_number,\n",
    "                                          smiles_list=val_smiles)\n",
    "            val_datasets.append(dataset)\n",
    "\n",
    "            dataset = ConfEnsembleDataset(loaded_chunk=chunk_number,\n",
    "                                          smiles_list=test_smiles)\n",
    "            test_datasets.append(dataset)\n",
    "            \n",
    "    elif split == 'ecfp' :\n",
    "        \n",
    "        with open(os.path.join(data_dir, f'ecfp_similarity_splits', f'train_smiles_{split}_similarity_split_{iteration}.txt'), 'r') as f :\n",
    "            train_smiles = f.readlines()\n",
    "            train_smiles = [smiles.strip() for smiles in train_smiles]\n",
    "\n",
    "        with open(os.path.join(data_dir, f'ecfp_similarity_splits', f'val_smiles_{split}_similarity_split_{iteration}.txt'), 'r') as f :\n",
    "            val_smiles = f.readlines()\n",
    "            val_smiles = [smiles.strip() for smiles in val_smiles]\n",
    "\n",
    "        with open(os.path.join(data_dir, f'ecfp_similarity_splits', f'test_smiles_{split}_similarity_split_{iteration}.txt'), 'r') as f :\n",
    "            test_smiles = f.readlines()\n",
    "            test_smiles = [smiles.strip() for smiles in test_smiles]\n",
    "\n",
    "        for chunk_number in tqdm(range(pdbbind_n_chunks)) :\n",
    "\n",
    "            dataset = ConfEnsembleDataset(loaded_chunk=chunk_number,\n",
    "                                          smiles_list=train_smiles)\n",
    "            train_datasets.append(dataset)\n",
    "\n",
    "            dataset = ConfEnsembleDataset(loaded_chunk=chunk_number,\n",
    "                                          smiles_list=val_smiles)\n",
    "            val_datasets.append(dataset)\n",
    "\n",
    "            dataset = ConfEnsembleDataset(loaded_chunk=chunk_number,\n",
    "                                          smiles_list=test_smiles)\n",
    "            test_datasets.append(dataset)\n",
    "        \n",
    "            \n",
    "    elif split == 'protein' : #protein split\n",
    "        \n",
    "        with open(os.path.join(data_dir, 'protein_similarity_splits', f'train_pdb_protein_similarity_split_{iteration}.txt'), 'r') as f :\n",
    "            train_pdbs = f.readlines()\n",
    "            train_pdbs = [pdb.strip() for pdb in train_pdbs]\n",
    "\n",
    "        with open(os.path.join(data_dir, 'protein_similarity_splits', f'val_pdb_protein_similarity_split_{iteration}.txt'), 'r') as f :\n",
    "            val_pdbs = f.readlines()\n",
    "            val_pdbs = [pdb.strip() for pdb in val_pdbs]\n",
    "\n",
    "        with open(os.path.join(data_dir, 'protein_similarity_splits', f'test_pdb_protein_similarity_split_{iteration}.txt'), 'r') as f :\n",
    "            test_pdbs = f.readlines()\n",
    "            test_pdbs = [pdb.strip() for pdb in test_pdbs]\n",
    "\n",
    "        for chunk_number in tqdm(range(pdbbind_n_chunks)) :\n",
    "\n",
    "            dataset = ConfEnsembleDataset(loaded_chunk=chunk_number,\n",
    "                                          pdb_ids_list=train_pdbs)\n",
    "            train_datasets.append(dataset)\n",
    "\n",
    "            dataset = ConfEnsembleDataset(loaded_chunk=chunk_number,\n",
    "                                          pdb_ids_list=val_pdbs)\n",
    "            val_datasets.append(dataset)\n",
    "\n",
    "            dataset = ConfEnsembleDataset(loaded_chunk=chunk_number,\n",
    "                                          pdb_ids_list=test_pdbs)\n",
    "            test_datasets.append(dataset)\n",
    "\n",
    "    train_dataset = ConcatDataset(train_datasets)\n",
    "    val_dataset = ConcatDataset(val_datasets)\n",
    "    test_dataset = ConcatDataset(test_datasets)\n",
    "\n",
    "    train_loader = DataLoader(train_dataset, batch_size=64, shuffle=True, num_workers=4)\n",
    "    val_loader = DataLoader(val_dataset, batch_size=64, shuffle=False, num_workers=4)\n",
    "    test_loader = DataLoader(test_dataset, batch_size=64, shuffle=False, num_workers=4)\n",
    "    \n",
    "    return train_loader, val_loader, test_loader"
   ]
  },
  {
   "cell_type": "code",
   "execution_count": 6,
   "id": "0dcfc478-b0ce-4506-a7c9-e8573d30c12a",
   "metadata": {},
   "outputs": [
    {
     "name": "stderr",
     "output_type": "stream",
     "text": [
      "  0%|                                                     | 0/3 [00:32<?, ?it/s]\n"
     ]
    },
    {
     "ename": "KeyboardInterrupt",
     "evalue": "",
     "output_type": "error",
     "traceback": [
      "\u001b[0;31m---------------------------------------------------------------------------\u001b[0m",
      "\u001b[0;31mKeyboardInterrupt\u001b[0m                         Traceback (most recent call last)",
      "\u001b[0;32m/tmp/ipykernel_820273/4052769761.py\u001b[0m in \u001b[0;36m<module>\u001b[0;34m\u001b[0m\n\u001b[1;32m      5\u001b[0m     \u001b[0;32mfor\u001b[0m \u001b[0miteration\u001b[0m \u001b[0;32min\u001b[0m \u001b[0mrange\u001b[0m\u001b[0;34m(\u001b[0m\u001b[0;36m5\u001b[0m\u001b[0;34m)\u001b[0m \u001b[0;34m:\u001b[0m\u001b[0;34m\u001b[0m\u001b[0;34m\u001b[0m\u001b[0m\n\u001b[1;32m      6\u001b[0m \u001b[0;34m\u001b[0m\u001b[0m\n\u001b[0;32m----> 7\u001b[0;31m         \u001b[0mtrain_loader\u001b[0m\u001b[0;34m,\u001b[0m \u001b[0mval_loader\u001b[0m\u001b[0;34m,\u001b[0m \u001b[0mtest_loader\u001b[0m \u001b[0;34m=\u001b[0m \u001b[0mget_loaders\u001b[0m\u001b[0;34m(\u001b[0m\u001b[0msplit\u001b[0m\u001b[0;34m,\u001b[0m \u001b[0miteration\u001b[0m\u001b[0;34m)\u001b[0m\u001b[0;34m\u001b[0m\u001b[0;34m\u001b[0m\u001b[0m\n\u001b[0m\u001b[1;32m      8\u001b[0m \u001b[0;34m\u001b[0m\u001b[0m\n\u001b[1;32m      9\u001b[0m         \u001b[0mexperiment_name\u001b[0m \u001b[0;34m=\u001b[0m \u001b[0;34mf'{split}_split_{iteration}'\u001b[0m\u001b[0;34m\u001b[0m\u001b[0;34m\u001b[0m\u001b[0m\n",
      "\u001b[0;32m/tmp/ipykernel_820273/3709726679.py\u001b[0m in \u001b[0;36mget_loaders\u001b[0;34m(split, iteration, data_dir)\u001b[0m\n\u001b[1;32m     56\u001b[0m \u001b[0;34m\u001b[0m\u001b[0m\n\u001b[1;32m     57\u001b[0m             dataset = ConfEnsembleDataset(loaded_chunk=chunk_number,\n\u001b[0;32m---> 58\u001b[0;31m                                           smiles_list=train_smiles)\n\u001b[0m\u001b[1;32m     59\u001b[0m             \u001b[0mtrain_datasets\u001b[0m\u001b[0;34m.\u001b[0m\u001b[0mappend\u001b[0m\u001b[0;34m(\u001b[0m\u001b[0mdataset\u001b[0m\u001b[0;34m)\u001b[0m\u001b[0;34m\u001b[0m\u001b[0;34m\u001b[0m\u001b[0m\n\u001b[1;32m     60\u001b[0m \u001b[0;34m\u001b[0m\u001b[0m\n",
      "\u001b[0;32m~/bioactive_conformation_predictor/conf_ensemble_dataset_in_memory.py\u001b[0m in \u001b[0;36m__init__\u001b[0;34m(self, root, loaded_chunk, smiles_list, pdb_ids_list, chunk_size, verbose, filter_out_bioactive)\u001b[0m\n\u001b[1;32m     55\u001b[0m         \u001b[0;31m# smiles or pdb_id filtering, useful for train/test split\u001b[0m\u001b[0;34m\u001b[0m\u001b[0;34m\u001b[0m\u001b[0;34m\u001b[0m\u001b[0m\n\u001b[1;32m     56\u001b[0m         \u001b[0;32mif\u001b[0m \u001b[0mlen\u001b[0m\u001b[0;34m(\u001b[0m\u001b[0msmiles_list\u001b[0m\u001b[0;34m)\u001b[0m \u001b[0;32mor\u001b[0m \u001b[0mlen\u001b[0m\u001b[0;34m(\u001b[0m\u001b[0mpdb_ids_list\u001b[0m\u001b[0;34m)\u001b[0m\u001b[0;34m:\u001b[0m\u001b[0;34m\u001b[0m\u001b[0;34m\u001b[0m\u001b[0m\n\u001b[0;32m---> 57\u001b[0;31m             \u001b[0mself\u001b[0m\u001b[0;34m.\u001b[0m\u001b[0mfilter_data\u001b[0m\u001b[0;34m(\u001b[0m\u001b[0msmiles_list\u001b[0m\u001b[0;34m,\u001b[0m \u001b[0mpdb_ids_list\u001b[0m\u001b[0;34m)\u001b[0m\u001b[0;34m\u001b[0m\u001b[0;34m\u001b[0m\u001b[0m\n\u001b[0m\u001b[1;32m     58\u001b[0m \u001b[0;34m\u001b[0m\u001b[0m\n\u001b[1;32m     59\u001b[0m \u001b[0;34m\u001b[0m\u001b[0m\n",
      "\u001b[0;32m~/bioactive_conformation_predictor/conf_ensemble_dataset_in_memory.py\u001b[0m in \u001b[0;36mfilter_data\u001b[0;34m(self, smiles_list, pdb_ids_list)\u001b[0m\n\u001b[1;32m    121\u001b[0m         \u001b[0;31m# if pdb_ids_list, smiles_list is corresponding to the one seen for pdbs\u001b[0m\u001b[0;34m\u001b[0m\u001b[0;34m\u001b[0m\u001b[0;34m\u001b[0m\u001b[0m\n\u001b[1;32m    122\u001b[0m         \u001b[0mall_data_list\u001b[0m \u001b[0;34m=\u001b[0m \u001b[0;34m[\u001b[0m\u001b[0;34m]\u001b[0m\u001b[0;34m\u001b[0m\u001b[0;34m\u001b[0m\u001b[0m\n\u001b[0;32m--> 123\u001b[0;31m         \u001b[0;32mfor\u001b[0m \u001b[0mdata\u001b[0m \u001b[0;32min\u001b[0m \u001b[0mself\u001b[0m \u001b[0;34m:\u001b[0m\u001b[0;34m\u001b[0m\u001b[0;34m\u001b[0m\u001b[0m\n\u001b[0m\u001b[1;32m    124\u001b[0m             \u001b[0mdata_id_split\u001b[0m \u001b[0;34m=\u001b[0m \u001b[0mdata\u001b[0m\u001b[0;34m.\u001b[0m\u001b[0mdata_id\u001b[0m\u001b[0;34m.\u001b[0m\u001b[0msplit\u001b[0m\u001b[0;34m(\u001b[0m\u001b[0;34m'_'\u001b[0m\u001b[0;34m)\u001b[0m\u001b[0;34m\u001b[0m\u001b[0;34m\u001b[0m\u001b[0m\n\u001b[1;32m    125\u001b[0m             \u001b[0mdata_smiles\u001b[0m \u001b[0;34m=\u001b[0m \u001b[0mdata_id_split\u001b[0m\u001b[0;34m[\u001b[0m\u001b[0;36m0\u001b[0m\u001b[0;34m]\u001b[0m\u001b[0;34m\u001b[0m\u001b[0;34m\u001b[0m\u001b[0m\n",
      "\u001b[0;32m~/anaconda3/envs/GeoMol/lib/python3.7/site-packages/torch_geometric/data/dataset.py\u001b[0m in \u001b[0;36m__getitem__\u001b[0;34m(self, idx)\u001b[0m\n\u001b[1;32m    196\u001b[0m                 or (isinstance(idx, np.ndarray) and np.isscalar(idx))):\n\u001b[1;32m    197\u001b[0m \u001b[0;34m\u001b[0m\u001b[0m\n\u001b[0;32m--> 198\u001b[0;31m             \u001b[0mdata\u001b[0m \u001b[0;34m=\u001b[0m \u001b[0mself\u001b[0m\u001b[0;34m.\u001b[0m\u001b[0mget\u001b[0m\u001b[0;34m(\u001b[0m\u001b[0mself\u001b[0m\u001b[0;34m.\u001b[0m\u001b[0mindices\u001b[0m\u001b[0;34m(\u001b[0m\u001b[0;34m)\u001b[0m\u001b[0;34m[\u001b[0m\u001b[0midx\u001b[0m\u001b[0;34m]\u001b[0m\u001b[0;34m)\u001b[0m\u001b[0;34m\u001b[0m\u001b[0;34m\u001b[0m\u001b[0m\n\u001b[0m\u001b[1;32m    199\u001b[0m             \u001b[0mdata\u001b[0m \u001b[0;34m=\u001b[0m \u001b[0mdata\u001b[0m \u001b[0;32mif\u001b[0m \u001b[0mself\u001b[0m\u001b[0;34m.\u001b[0m\u001b[0mtransform\u001b[0m \u001b[0;32mis\u001b[0m \u001b[0;32mNone\u001b[0m \u001b[0;32melse\u001b[0m \u001b[0mself\u001b[0m\u001b[0;34m.\u001b[0m\u001b[0mtransform\u001b[0m\u001b[0;34m(\u001b[0m\u001b[0mdata\u001b[0m\u001b[0;34m)\u001b[0m\u001b[0;34m\u001b[0m\u001b[0;34m\u001b[0m\u001b[0m\n\u001b[1;32m    200\u001b[0m             \u001b[0;32mreturn\u001b[0m \u001b[0mdata\u001b[0m\u001b[0;34m\u001b[0m\u001b[0;34m\u001b[0m\u001b[0m\n",
      "\u001b[0;32m~/bioactive_conformation_predictor/conf_ensemble_dataset_in_memory.py\u001b[0m in \u001b[0;36mget\u001b[0;34m(self, idx)\u001b[0m\n\u001b[1;32m    166\u001b[0m             \u001b[0midx\u001b[0m\u001b[0;34m=\u001b[0m\u001b[0midx\u001b[0m\u001b[0;34m,\u001b[0m\u001b[0;34m\u001b[0m\u001b[0;34m\u001b[0m\u001b[0m\n\u001b[1;32m    167\u001b[0m             \u001b[0mslice_dict\u001b[0m\u001b[0;34m=\u001b[0m\u001b[0mself\u001b[0m\u001b[0;34m.\u001b[0m\u001b[0mslices\u001b[0m\u001b[0;34m,\u001b[0m\u001b[0;34m\u001b[0m\u001b[0;34m\u001b[0m\u001b[0m\n\u001b[0;32m--> 168\u001b[0;31m             \u001b[0mdecrement\u001b[0m\u001b[0;34m=\u001b[0m\u001b[0;32mFalse\u001b[0m\u001b[0;34m,\u001b[0m\u001b[0;34m\u001b[0m\u001b[0;34m\u001b[0m\u001b[0m\n\u001b[0m\u001b[1;32m    169\u001b[0m         )\n\u001b[1;32m    170\u001b[0m \u001b[0;34m\u001b[0m\u001b[0m\n",
      "\u001b[0;32m~/anaconda3/envs/GeoMol/lib/python3.7/site-packages/torch_geometric/data/separate.py\u001b[0m in \u001b[0;36mseparate\u001b[0;34m(cls, batch, idx, slice_dict, inc_dict, decrement)\u001b[0m\n\u001b[1;32m     39\u001b[0m                 \u001b[0mincs\u001b[0m \u001b[0;34m=\u001b[0m \u001b[0minc_dict\u001b[0m\u001b[0;34m[\u001b[0m\u001b[0mattr\u001b[0m\u001b[0;34m]\u001b[0m \u001b[0;32mif\u001b[0m \u001b[0mdecrement\u001b[0m \u001b[0;32melse\u001b[0m \u001b[0;32mNone\u001b[0m\u001b[0;34m\u001b[0m\u001b[0;34m\u001b[0m\u001b[0m\n\u001b[1;32m     40\u001b[0m             data_store[attr] = _separate(attr, batch_store[attr], idx, slices,\n\u001b[0;32m---> 41\u001b[0;31m                                          incs, batch, batch_store, decrement)\n\u001b[0m\u001b[1;32m     42\u001b[0m \u001b[0;34m\u001b[0m\u001b[0m\n\u001b[1;32m     43\u001b[0m         \u001b[0;31m# The `num_nodes` attribute needs special treatment, as we cannot infer\u001b[0m\u001b[0;34m\u001b[0m\u001b[0;34m\u001b[0m\u001b[0;34m\u001b[0m\u001b[0m\n",
      "\u001b[0;32m~/anaconda3/envs/GeoMol/lib/python3.7/site-packages/torch_geometric/data/separate.py\u001b[0m in \u001b[0;36m_separate\u001b[0;34m(key, value, idx, slices, incs, batch, store, decrement)\u001b[0m\n\u001b[1;32m     83\u001b[0m         \u001b[0;31m# NOTE: We need to take care of decrementing elements appropriately.\u001b[0m\u001b[0;34m\u001b[0m\u001b[0;34m\u001b[0m\u001b[0;34m\u001b[0m\u001b[0m\n\u001b[1;32m     84\u001b[0m         \u001b[0mcat_dim\u001b[0m \u001b[0;34m=\u001b[0m \u001b[0mbatch\u001b[0m\u001b[0;34m.\u001b[0m\u001b[0m__cat_dim__\u001b[0m\u001b[0;34m(\u001b[0m\u001b[0mkey\u001b[0m\u001b[0;34m,\u001b[0m \u001b[0mvalue\u001b[0m\u001b[0;34m,\u001b[0m \u001b[0mstore\u001b[0m\u001b[0;34m)\u001b[0m\u001b[0;34m\u001b[0m\u001b[0;34m\u001b[0m\u001b[0m\n\u001b[0;32m---> 85\u001b[0;31m         \u001b[0mstart\u001b[0m\u001b[0;34m,\u001b[0m \u001b[0mend\u001b[0m \u001b[0;34m=\u001b[0m \u001b[0mslices\u001b[0m\u001b[0;34m[\u001b[0m\u001b[0midx\u001b[0m\u001b[0;34m]\u001b[0m\u001b[0;34m,\u001b[0m \u001b[0mslices\u001b[0m\u001b[0;34m[\u001b[0m\u001b[0midx\u001b[0m \u001b[0;34m+\u001b[0m \u001b[0;36m1\u001b[0m\u001b[0;34m]\u001b[0m\u001b[0;34m\u001b[0m\u001b[0;34m\u001b[0m\u001b[0m\n\u001b[0m\u001b[1;32m     86\u001b[0m         \u001b[0mvalue\u001b[0m \u001b[0;34m=\u001b[0m \u001b[0mvalue\u001b[0m\u001b[0;34m.\u001b[0m\u001b[0mnarrow\u001b[0m\u001b[0;34m(\u001b[0m\u001b[0mcat_dim\u001b[0m \u001b[0;32mor\u001b[0m \u001b[0;36m0\u001b[0m\u001b[0;34m,\u001b[0m \u001b[0mstart\u001b[0m\u001b[0;34m,\u001b[0m \u001b[0mend\u001b[0m \u001b[0;34m-\u001b[0m \u001b[0mstart\u001b[0m\u001b[0;34m)\u001b[0m\u001b[0;34m\u001b[0m\u001b[0;34m\u001b[0m\u001b[0m\n\u001b[1;32m     87\u001b[0m         \u001b[0mvalue\u001b[0m \u001b[0;34m=\u001b[0m \u001b[0mvalue\u001b[0m\u001b[0;34m.\u001b[0m\u001b[0msqueeze\u001b[0m\u001b[0;34m(\u001b[0m\u001b[0;36m0\u001b[0m\u001b[0;34m)\u001b[0m \u001b[0;32mif\u001b[0m \u001b[0mcat_dim\u001b[0m \u001b[0;32mis\u001b[0m \u001b[0;32mNone\u001b[0m \u001b[0;32melse\u001b[0m \u001b[0mvalue\u001b[0m\u001b[0;34m\u001b[0m\u001b[0;34m\u001b[0m\u001b[0m\n",
      "\u001b[0;31mKeyboardInterrupt\u001b[0m: "
     ]
    }
   ],
   "source": [
    "# for split in splits :\n",
    "# for split in ['protein', 'scaffold', 'random'] :\n",
    "for split in ['ecfp'] :\n",
    "    \n",
    "    for iteration in range(5) :\n",
    "    \n",
    "        train_loader, val_loader, test_loader = get_loaders(split, iteration)\n",
    "        \n",
    "        experiment_name = f'{split}_split_{iteration}'\n",
    "        if not experiment_name in os.listdir('lightning_logs') :\n",
    "            litschnet = LitSchNet()\n",
    "            logger = TensorBoardLogger(save_dir=os.getcwd(), version=experiment_name, name=\"lightning_logs\")\n",
    "            trainer = pl.Trainer(logger=logger, max_epochs=20, gpus=1)\n",
    "            trainer.fit(litschnet, train_loader, val_loader)\n",
    "            trainer.test(litschnet, test_loader)\n",
    "            \n",
    "        experiment_name = f'{split}_split_{iteration}_molsize'\n",
    "        if not experiment_name in os.listdir('lightning_logs') :\n",
    "            molsize_model = MolSizeModel()\n",
    "            logger = TensorBoardLogger(save_dir=os.getcwd(), version=experiment_name, name=\"lightning_logs\")\n",
    "            trainer = pl.Trainer(logger=logger, max_epochs=20, gpus=1)\n",
    "            trainer.fit(molsize_model, train_loader, val_loader)\n",
    "            trainer.test(molsize_model, test_loader)"
   ]
  },
  {
   "cell_type": "code",
   "execution_count": null,
   "id": "52e494a9-67ef-4cad-b26b-035a5232c0b8",
   "metadata": {},
   "outputs": [],
   "source": []
  },
  {
   "cell_type": "code",
   "execution_count": 7,
   "id": "cee2eac1-c704-4536-87f2-4c5f6390b705",
   "metadata": {},
   "outputs": [
    {
     "name": "stderr",
     "output_type": "stream",
     "text": [
      "100%|█████████████████████████████████████████████| 3/3 [04:39<00:00, 93.22s/it]\n",
      "100%|█████████████████████████████████████████████| 3/3 [04:36<00:00, 92.04s/it]\n",
      "100%|█████████████████████████████████████████████| 3/3 [04:44<00:00, 94.87s/it]\n",
      "100%|█████████████████████████████████████████████| 3/3 [04:43<00:00, 94.44s/it]\n",
      "100%|█████████████████████████████████████████████| 3/3 [04:44<00:00, 94.71s/it]\n",
      "100%|████████████████████████████████████████████| 3/3 [05:35<00:00, 111.82s/it]\n",
      "100%|█████████████████████████████████████████████| 3/3 [04:53<00:00, 97.93s/it]\n",
      "100%|█████████████████████████████████████████████| 3/3 [04:52<00:00, 97.57s/it]\n",
      "100%|█████████████████████████████████████████████| 3/3 [04:56<00:00, 98.79s/it]\n",
      "100%|█████████████████████████████████████████████| 3/3 [04:53<00:00, 97.87s/it]\n",
      "100%|████████████████████████████████████████████| 3/3 [08:15<00:00, 165.05s/it]\n",
      "100%|████████████████████████████████████████████| 3/3 [08:09<00:00, 163.14s/it]\n",
      "100%|████████████████████████████████████████████| 3/3 [08:12<00:00, 164.08s/it]\n",
      "100%|████████████████████████████████████████████| 3/3 [08:11<00:00, 163.92s/it]\n",
      "100%|████████████████████████████████████████████| 3/3 [08:16<00:00, 165.60s/it]\n"
     ]
    }
   ],
   "source": [
    "from collections import defaultdict\n",
    "n_bioactive_conformations = defaultdict(list)\n",
    "n_conformations = defaultdict(list)\n",
    "data_dir = 'data/'\n",
    "\n",
    "for split in splits :\n",
    "    \n",
    "    for iteration in range(5) :\n",
    "    \n",
    "        pdbbind_chunks = [filename for filename in os.listdir(os.path.join(data_dir, 'processed')) if filename.startswith('pdbbind')]\n",
    "        pdbbind_n_chunks = len(pdbbind_chunks)\n",
    "\n",
    "        train_datasets = []\n",
    "        val_datasets = []\n",
    "        test_datasets = []\n",
    "\n",
    "        if split in ['random', 'scaffold'] :\n",
    "\n",
    "            with open(os.path.join(data_dir, f'ligand_{split}_splits', f'train_smiles_{split}_split_{iteration}.txt'), 'r') as f :\n",
    "                train_smiles = f.readlines()\n",
    "                train_smiles = [smiles.strip() for smiles in train_smiles]\n",
    "\n",
    "            with open(os.path.join(data_dir, f'ligand_{split}_splits', f'val_smiles_{split}_split_{iteration}.txt'), 'r') as f :\n",
    "                val_smiles = f.readlines()\n",
    "                val_smiles = [smiles.strip() for smiles in val_smiles]\n",
    "\n",
    "            with open(os.path.join(data_dir, f'ligand_{split}_splits', f'test_smiles_{split}_split_{iteration}.txt'), 'r') as f :\n",
    "                test_smiles = f.readlines()\n",
    "                test_smiles = [smiles.strip() for smiles in test_smiles]\n",
    "\n",
    "            for chunk_number in tqdm(range(pdbbind_n_chunks)) :\n",
    "\n",
    "                dataset = ConfEnsembleDataset(loaded_chunk=chunk_number,\n",
    "                                              smiles_list=train_smiles)\n",
    "                train_datasets.append(dataset)\n",
    "\n",
    "                dataset = ConfEnsembleDataset(loaded_chunk=chunk_number,\n",
    "                                              smiles_list=val_smiles)\n",
    "                val_datasets.append(dataset)\n",
    "\n",
    "                dataset = ConfEnsembleDataset(loaded_chunk=chunk_number,\n",
    "                                              smiles_list=test_smiles)\n",
    "                test_datasets.append(dataset)\n",
    "\n",
    "        else : #protein split\n",
    "\n",
    "            with open(os.path.join(data_dir, 'protein_similarity_splits', f'train_pdb_protein_similarity_split_{iteration}.txt'), 'r') as f :\n",
    "                train_pdbs = f.readlines()\n",
    "                train_pdbs = [pdb.strip() for pdb in train_pdbs]\n",
    "\n",
    "            with open(os.path.join(data_dir, 'protein_similarity_splits', f'val_pdb_protein_similarity_split_{iteration}.txt'), 'r') as f :\n",
    "                val_pdbs = f.readlines()\n",
    "                val_pdbs = [pdb.strip() for pdb in val_pdbs]\n",
    "\n",
    "            with open(os.path.join(data_dir, 'protein_similarity_splits', f'test_pdb_protein_similarity_split_{iteration}.txt'), 'r') as f :\n",
    "                test_pdbs = f.readlines()\n",
    "                test_pdbs = [pdb.strip() for pdb in test_pdbs]\n",
    "\n",
    "            for chunk_number in tqdm(range(pdbbind_n_chunks)) :\n",
    "\n",
    "                dataset = ConfEnsembleDataset(loaded_chunk=chunk_number,\n",
    "                                              pdb_ids_list=train_pdbs)\n",
    "                train_datasets.append(dataset)\n",
    "\n",
    "                dataset = ConfEnsembleDataset(loaded_chunk=chunk_number,\n",
    "                                              pdb_ids_list=val_pdbs)\n",
    "                val_datasets.append(dataset)\n",
    "\n",
    "                dataset = ConfEnsembleDataset(loaded_chunk=chunk_number,\n",
    "                                              pdb_ids_list=test_pdbs)\n",
    "                test_datasets.append(dataset)\n",
    "\n",
    "        train_dataset = ConcatDataset(train_datasets)\n",
    "        val_dataset = ConcatDataset(val_datasets)\n",
    "        test_dataset = ConcatDataset(test_datasets)\n",
    "        \n",
    "        d = {\n",
    "            'train' : train_dataset,\n",
    "            'val' : val_dataset,\n",
    "            'test' : test_dataset\n",
    "        }\n",
    "        for s, dataset in d.items() :\n",
    "            n_conformations[s].append(len(dataset))\n",
    "            n_bio = 0\n",
    "            for data in dataset :\n",
    "                if data.rmsd == 0 :\n",
    "                    n_bio = n_bio + 1\n",
    "            n_bioactive_conformations[s].append(n_bio)"
   ]
  },
  {
   "cell_type": "code",
   "execution_count": 8,
   "id": "60229a04-0fa5-46c1-8a67-44891d3fdbc7",
   "metadata": {},
   "outputs": [
    {
     "name": "stdout",
     "output_type": "stream",
     "text": [
      "952880\n",
      "15514\n"
     ]
    }
   ],
   "source": [
    "data_dir='data/'\n",
    "pdbbind_chunks = [filename for filename in os.listdir(os.path.join(data_dir, 'processed')) if filename.startswith('pdbbind')]\n",
    "pdbbind_n_chunks = len(pdbbind_chunks)\n",
    "n_confs = 0\n",
    "n_bio = 0\n",
    "\n",
    "for chunk_number in range(pdbbind_n_chunks) :\n",
    "    dataset = ConfEnsembleDataset(loaded_chunk=chunk_number)\n",
    "    n_confs = n_confs + len(dataset)\n",
    "    for data in dataset :\n",
    "        if data.rmsd == 0 :\n",
    "            n_bio = n_bio + 1\n",
    "print(n_confs)\n",
    "print(n_bio)"
   ]
  },
  {
   "cell_type": "code",
   "execution_count": 9,
   "id": "3b6f3cec-16b5-4f48-a9d6-43dd0592b31a",
   "metadata": {},
   "outputs": [
    {
     "data": {
      "text/plain": [
       "defaultdict(list,\n",
       "            {'train': [766598,\n",
       "              762302,\n",
       "              761320,\n",
       "              759701,\n",
       "              762338,\n",
       "              762491,\n",
       "              765350,\n",
       "              762653,\n",
       "              758790,\n",
       "              764836,\n",
       "              767698,\n",
       "              765616,\n",
       "              773956,\n",
       "              771798,\n",
       "              774111],\n",
       "             'val': [92863,\n",
       "              95435,\n",
       "              94898,\n",
       "              95784,\n",
       "              95187,\n",
       "              92999,\n",
       "              89046,\n",
       "              96698,\n",
       "              96347,\n",
       "              87620,\n",
       "              111143,\n",
       "              104200,\n",
       "              102109,\n",
       "              104759,\n",
       "              102038],\n",
       "             'test': [93419,\n",
       "              95143,\n",
       "              96662,\n",
       "              97395,\n",
       "              95355,\n",
       "              96219,\n",
       "              97313,\n",
       "              92358,\n",
       "              96572,\n",
       "              99253,\n",
       "              101283,\n",
       "              108352,\n",
       "              102417,\n",
       "              105115,\n",
       "              101509]})"
      ]
     },
     "execution_count": 9,
     "metadata": {},
     "output_type": "execute_result"
    }
   ],
   "source": [
    "n_conformations"
   ]
  },
  {
   "cell_type": "code",
   "execution_count": 10,
   "id": "53edb44e-acbf-470a-b203-0a71010c0b1c",
   "metadata": {},
   "outputs": [
    {
     "data": {
      "text/plain": [
       "defaultdict(list,\n",
       "            {'train': [12429,\n",
       "              12479,\n",
       "              12424,\n",
       "              12492,\n",
       "              12411,\n",
       "              12377,\n",
       "              12284,\n",
       "              12570,\n",
       "              12445,\n",
       "              12457,\n",
       "              12341,\n",
       "              12307,\n",
       "              12459,\n",
       "              12456,\n",
       "              12399],\n",
       "             'val': [1545,\n",
       "              1550,\n",
       "              1549,\n",
       "              1498,\n",
       "              1508,\n",
       "              1570,\n",
       "              1622,\n",
       "              1588,\n",
       "              1549,\n",
       "              1588,\n",
       "              1582,\n",
       "              1618,\n",
       "              1536,\n",
       "              1493,\n",
       "              1597],\n",
       "             'test': [1540,\n",
       "              1485,\n",
       "              1541,\n",
       "              1524,\n",
       "              1595,\n",
       "              1550,\n",
       "              1591,\n",
       "              1339,\n",
       "              1503,\n",
       "              1452,\n",
       "              1610,\n",
       "              1600,\n",
       "              1532,\n",
       "              1582,\n",
       "              1533]})"
      ]
     },
     "execution_count": 10,
     "metadata": {},
     "output_type": "execute_result"
    }
   ],
   "source": [
    "n_bioactive_conformations"
   ]
  }
 ],
 "metadata": {
  "kernelspec": {
   "display_name": "Python 3 (ipykernel)",
   "language": "python",
   "name": "python3"
  },
  "language_info": {
   "codemirror_mode": {
    "name": "ipython",
    "version": 3
   },
   "file_extension": ".py",
   "mimetype": "text/x-python",
   "name": "python",
   "nbconvert_exporter": "python",
   "pygments_lexer": "ipython3",
   "version": "3.7.10"
  },
  "widgets": {
   "application/vnd.jupyter.widget-state+json": {
    "state": {},
    "version_major": 2,
    "version_minor": 0
   }
  }
 },
 "nbformat": 4,
 "nbformat_minor": 5
}
