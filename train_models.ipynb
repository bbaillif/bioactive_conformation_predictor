{
 "cells": [
  {
   "cell_type": "code",
   "execution_count": 1,
   "id": "14bf5794-71d5-4c88-b534-b2fd0db7e867",
   "metadata": {
    "tags": []
   },
   "outputs": [],
   "source": [
    "import os\n",
    "import pytorch_lightning as pl\n",
    "import pandas as pd\n",
    "\n",
    "from rdkit import Chem # safe import before ccdc imports\n",
    "from torch_geometric.loader import DataLoader\n",
    "from torch.utils.data import ConcatDataset\n",
    "\n",
    "from conf_ensemble_dataset_in_memory import ConfEnsembleDataset\n",
    "from data_split import DataSplit, MoleculeSplit, ProteinSplit\n",
    "from bioschnet import BioSchNet\n",
    "from molsize_model import MolSizeModel\n",
    "from pytorch_lightning.callbacks.early_stopping import EarlyStopping\n",
    "from pytorch_lightning.loggers import TensorBoardLogger\n",
    "from tqdm import tqdm"
   ]
  },
  {
   "cell_type": "code",
   "execution_count": 2,
   "id": "f664e6ee-7691-4f2f-b9cc-a768e12372d9",
   "metadata": {},
   "outputs": [],
   "source": [
    "from rdkit import RDLogger\n",
    "RDLogger.DisableLog('rdApp.*')"
   ]
  },
  {
   "cell_type": "code",
   "execution_count": 3,
   "id": "0a6e3d43-8fa2-4693-b4c3-08a4ce31d9bc",
   "metadata": {},
   "outputs": [
    {
     "name": "stderr",
     "output_type": "stream",
     "text": [
      "Global seed set to 42\n"
     ]
    },
    {
     "data": {
      "text/plain": [
       "42"
      ]
     },
     "execution_count": 3,
     "metadata": {},
     "output_type": "execute_result"
    }
   ],
   "source": [
    "pl.seed_everything(42, workers=True)"
   ]
  },
  {
   "cell_type": "markdown",
   "id": "a8cce14b-71e8-4987-aa40-acf9868528c1",
   "metadata": {},
   "source": [
    "# Data preparation"
   ]
  },
  {
   "cell_type": "code",
   "execution_count": 4,
   "id": "0041e450-1fc1-442d-a519-cbc952a1f354",
   "metadata": {},
   "outputs": [],
   "source": [
    "splits = ['random', 'scaffold', 'protein']"
   ]
  },
  {
   "cell_type": "code",
   "execution_count": 5,
   "id": "36ee981f-9a29-43ab-8ccd-6ea54ba5b6bc",
   "metadata": {
    "tags": []
   },
   "outputs": [],
   "source": [
    "def get_loaders(data_split: DataSplit,\n",
    "                batch_size: int=64) :\n",
    "    \n",
    "    train_dataset = ConfEnsembleDataset(data_split, 'train')\n",
    "    val_dataset = ConfEnsembleDataset(data_split, 'val')\n",
    "    test_dataset = ConfEnsembleDataset(data_split, 'test')\n",
    "\n",
    "    train_loader = DataLoader(train_dataset, batch_size=batch_size, shuffle=True, num_workers=4)\n",
    "    val_loader = DataLoader(val_dataset, batch_size=batch_size, shuffle=False, num_workers=4)\n",
    "    test_loader = DataLoader(test_dataset, batch_size=batch_size, shuffle=False, num_workers=4)\n",
    "    \n",
    "    return train_loader, val_loader, test_loader"
   ]
  },
  {
   "cell_type": "code",
   "execution_count": null,
   "id": "0dcfc478-b0ce-4506-a7c9-e8573d30c12a",
   "metadata": {
    "scrolled": true,
    "tags": []
   },
   "outputs": [
    {
     "name": "stderr",
     "output_type": "stream",
     "text": [
      "/home/bb596/anaconda3/envs/bioconfpred/lib/python3.7/site-packages/torch/distributed/_sharded_tensor/__init__.py:10: DeprecationWarning: torch.distributed._sharded_tensor will be deprecated, use torch.distributed._shard.sharded_tensor instead\n",
      "  DeprecationWarning\n",
      "GPU available: True, used: True\n",
      "TPU available: False, using: 0 TPU cores\n",
      "IPU available: False, using: 0 IPUs\n",
      "HPU available: False, using: 0 HPUs\n",
      "LOCAL_RANK: 0 - CUDA_VISIBLE_DEVICES: [0]\n",
      "\n",
      "  | Name       | Type         | Params\n",
      "--------------------------------------------\n",
      "0 | schnet     | AtomicSchNet | 455 K \n",
      "1 | leaky_relu | LeakyReLU    | 0     \n",
      "2 | sigmoid    | Sigmoid      | 0     \n",
      "--------------------------------------------\n",
      "455 K     Trainable params\n",
      "0         Non-trainable params\n",
      "455 K     Total params\n",
      "1.823     Total estimated model params size (MB)\n"
     ]
    },
    {
     "data": {
      "application/vnd.jupyter.widget-view+json": {
       "model_id": "",
       "version_major": 2,
       "version_minor": 0
      },
      "text/plain": [
       "Sanity Checking: 0it [00:00, ?it/s]"
      ]
     },
     "metadata": {},
     "output_type": "display_data"
    },
    {
     "data": {
      "application/vnd.jupyter.widget-view+json": {
       "model_id": "2aa42aa76bd6432cbb787c8b1b792802",
       "version_major": 2,
       "version_minor": 0
      },
      "text/plain": [
       "Training: 0it [00:00, ?it/s]"
      ]
     },
     "metadata": {},
     "output_type": "display_data"
    },
    {
     "data": {
      "application/vnd.jupyter.widget-view+json": {
       "model_id": "",
       "version_major": 2,
       "version_minor": 0
      },
      "text/plain": [
       "Validation: 0it [00:00, ?it/s]"
      ]
     },
     "metadata": {},
     "output_type": "display_data"
    },
    {
     "data": {
      "application/vnd.jupyter.widget-view+json": {
       "model_id": "",
       "version_major": 2,
       "version_minor": 0
      },
      "text/plain": [
       "Validation: 0it [00:00, ?it/s]"
      ]
     },
     "metadata": {},
     "output_type": "display_data"
    },
    {
     "data": {
      "application/vnd.jupyter.widget-view+json": {
       "model_id": "",
       "version_major": 2,
       "version_minor": 0
      },
      "text/plain": [
       "Validation: 0it [00:00, ?it/s]"
      ]
     },
     "metadata": {},
     "output_type": "display_data"
    },
    {
     "data": {
      "application/vnd.jupyter.widget-view+json": {
       "model_id": "",
       "version_major": 2,
       "version_minor": 0
      },
      "text/plain": [
       "Validation: 0it [00:00, ?it/s]"
      ]
     },
     "metadata": {},
     "output_type": "display_data"
    }
   ],
   "source": [
    "for split_type in splits :\n",
    "    \n",
    "    for split_i in range(5) :\n",
    "    \n",
    "        if split_type in ['random', 'scaffold'] :\n",
    "            data_split = MoleculeSplit(split_type, split_i)\n",
    "        elif split_type == 'protein' :\n",
    "            data_split = ProteinSplit(split_type, split_i)\n",
    "            \n",
    "        batch_size = 128\n",
    "        train_loader, val_loader, test_loader = get_loaders(data_split, batch_size)\n",
    "        \n",
    "        experiment_name = f'{split_type}_split_{split_i}'\n",
    "        if not experiment_name in os.listdir('lightning_logs') :\n",
    "            litschnet = BioSchNet()\n",
    "            logger = TensorBoardLogger(save_dir=os.getcwd(), version=experiment_name, name=\"lightning_logs\")\n",
    "            early_stopping_callback = EarlyStopping(monitor=\"val_loss\")\n",
    "            trainer = pl.Trainer(logger=logger, \n",
    "                                 max_epochs=20, \n",
    "                                 gpus=1,\n",
    "                                 callbacks=[early_stopping_callback])\n",
    "            trainer.fit(litschnet, train_loader, val_loader)\n",
    "            trainer.test(litschnet, test_loader)\n",
    "            \n",
    "        # experiment_name = f'{split_type}_split_{split_i}_molsize'\n",
    "        # if not experiment_name in os.listdir('lightning_logs') :\n",
    "        #     molsize_model = MolSizeModel()\n",
    "        #     logger = TensorBoardLogger(save_dir=os.getcwd(), version=experiment_name, name=\"lightning_logs\")\n",
    "        #     trainer = pl.Trainer(logger=logger, max_epochs=20, gpus=1)\n",
    "        #     trainer.fit(molsize_model, train_loader, val_loader)\n",
    "        #     trainer.test(molsize_model, test_loader)"
   ]
  },
  {
   "cell_type": "code",
   "execution_count": null,
   "id": "52e494a9-67ef-4cad-b26b-035a5232c0b8",
   "metadata": {},
   "outputs": [],
   "source": [
    "test"
   ]
  },
  {
   "cell_type": "code",
   "execution_count": null,
   "id": "cee2eac1-c704-4536-87f2-4c5f6390b705",
   "metadata": {},
   "outputs": [],
   "source": [
    "from collections import defaultdict\n",
    "n_bioactive_conformations = defaultdict(list)\n",
    "n_conformations = defaultdict(list)\n",
    "data_dir = 'data/'\n",
    "\n",
    "for split in splits :\n",
    "    \n",
    "    for iteration in range(5) :\n",
    "    \n",
    "        pdbbind_chunks = [filename for filename in os.listdir(os.path.join(data_dir, 'processed')) if filename.startswith('pdbbind')]\n",
    "        pdbbind_n_chunks = len(pdbbind_chunks)\n",
    "\n",
    "        train_datasets = []\n",
    "        val_datasets = []\n",
    "        test_datasets = []\n",
    "\n",
    "        if split in ['random', 'scaffold'] :\n",
    "\n",
    "            with open(os.path.join(data_dir, f'ligand_{split}_splits', f'train_smiles_{split}_split_{iteration}.txt'), 'r') as f :\n",
    "                train_smiles = f.readlines()\n",
    "                train_smiles = [smiles.strip() for smiles in train_smiles]\n",
    "\n",
    "            with open(os.path.join(data_dir, f'ligand_{split}_splits', f'val_smiles_{split}_split_{iteration}.txt'), 'r') as f :\n",
    "                val_smiles = f.readlines()\n",
    "                val_smiles = [smiles.strip() for smiles in val_smiles]\n",
    "\n",
    "            with open(os.path.join(data_dir, f'ligand_{split}_splits', f'test_smiles_{split}_split_{iteration}.txt'), 'r') as f :\n",
    "                test_smiles = f.readlines()\n",
    "                test_smiles = [smiles.strip() for smiles in test_smiles]\n",
    "\n",
    "            for chunk_number in tqdm(range(pdbbind_n_chunks)) :\n",
    "\n",
    "                dataset = ConfEnsembleDataset(loaded_chunk=chunk_number,\n",
    "                                              smiles_list=train_smiles)\n",
    "                train_datasets.append(dataset)\n",
    "\n",
    "                dataset = ConfEnsembleDataset(loaded_chunk=chunk_number,\n",
    "                                              smiles_list=val_smiles)\n",
    "                val_datasets.append(dataset)\n",
    "\n",
    "                dataset = ConfEnsembleDataset(loaded_chunk=chunk_number,\n",
    "                                              smiles_list=test_smiles)\n",
    "                test_datasets.append(dataset)\n",
    "\n",
    "        else : #protein split\n",
    "\n",
    "            with open(os.path.join(data_dir, 'protein_similarity_splits', f'train_pdb_protein_similarity_split_{iteration}.txt'), 'r') as f :\n",
    "                train_pdbs = f.readlines()\n",
    "                train_pdbs = [pdb.strip() for pdb in train_pdbs]\n",
    "\n",
    "            with open(os.path.join(data_dir, 'protein_similarity_splits', f'val_pdb_protein_similarity_split_{iteration}.txt'), 'r') as f :\n",
    "                val_pdbs = f.readlines()\n",
    "                val_pdbs = [pdb.strip() for pdb in val_pdbs]\n",
    "\n",
    "            with open(os.path.join(data_dir, 'protein_similarity_splits', f'test_pdb_protein_similarity_split_{iteration}.txt'), 'r') as f :\n",
    "                test_pdbs = f.readlines()\n",
    "                test_pdbs = [pdb.strip() for pdb in test_pdbs]\n",
    "\n",
    "            for chunk_number in tqdm(range(pdbbind_n_chunks)) :\n",
    "\n",
    "                dataset = ConfEnsembleDataset(loaded_chunk=chunk_number,\n",
    "                                              pdb_ids_list=train_pdbs)\n",
    "                train_datasets.append(dataset)\n",
    "\n",
    "                dataset = ConfEnsembleDataset(loaded_chunk=chunk_number,\n",
    "                                              pdb_ids_list=val_pdbs)\n",
    "                val_datasets.append(dataset)\n",
    "\n",
    "                dataset = ConfEnsembleDataset(loaded_chunk=chunk_number,\n",
    "                                              pdb_ids_list=test_pdbs)\n",
    "                test_datasets.append(dataset)\n",
    "\n",
    "        train_dataset = ConcatDataset(train_datasets)\n",
    "        val_dataset = ConcatDataset(val_datasets)\n",
    "        test_dataset = ConcatDataset(test_datasets)\n",
    "        \n",
    "        d = {\n",
    "            'train' : train_dataset,\n",
    "            'val' : val_dataset,\n",
    "            'test' : test_dataset\n",
    "        }\n",
    "        for s, dataset in d.items() :\n",
    "            n_conformations[s].append(len(dataset))\n",
    "            n_bio = 0\n",
    "            for data in dataset :\n",
    "                if data.rmsd == 0 :\n",
    "                    n_bio = n_bio + 1\n",
    "            n_bioactive_conformations[s].append(n_bio)"
   ]
  },
  {
   "cell_type": "code",
   "execution_count": null,
   "id": "60229a04-0fa5-46c1-8a67-44891d3fdbc7",
   "metadata": {},
   "outputs": [],
   "source": [
    "data_dir='data/'\n",
    "pdbbind_chunks = [filename for filename in os.listdir(os.path.join(data_dir, 'processed')) if filename.startswith('pdbbind')]\n",
    "pdbbind_n_chunks = len(pdbbind_chunks)\n",
    "n_confs = 0\n",
    "n_bio = 0\n",
    "\n",
    "for chunk_number in range(pdbbind_n_chunks) :\n",
    "    dataset = ConfEnsembleDataset(loaded_chunk=chunk_number)\n",
    "    n_confs = n_confs + len(dataset)\n",
    "    for data in dataset :\n",
    "        if data.rmsd == 0 :\n",
    "            n_bio = n_bio + 1\n",
    "print(n_confs)\n",
    "print(n_bio)"
   ]
  },
  {
   "cell_type": "code",
   "execution_count": null,
   "id": "3b6f3cec-16b5-4f48-a9d6-43dd0592b31a",
   "metadata": {},
   "outputs": [],
   "source": [
    "n_conformations"
   ]
  },
  {
   "cell_type": "code",
   "execution_count": null,
   "id": "53edb44e-acbf-470a-b203-0a71010c0b1c",
   "metadata": {},
   "outputs": [],
   "source": [
    "n_bioactive_conformations"
   ]
  }
 ],
 "metadata": {
  "kernelspec": {
   "display_name": "Python 3 (ipykernel)",
   "language": "python",
   "name": "python3"
  },
  "language_info": {
   "codemirror_mode": {
    "name": "ipython",
    "version": 3
   },
   "file_extension": ".py",
   "mimetype": "text/x-python",
   "name": "python",
   "nbconvert_exporter": "python",
   "pygments_lexer": "ipython3",
   "version": "3.7.10"
  },
  "widgets": {
   "application/vnd.jupyter.widget-state+json": {
    "state": {},
    "version_major": 2,
    "version_minor": 0
   }
  }
 },
 "nbformat": 4,
 "nbformat_minor": 5
}
