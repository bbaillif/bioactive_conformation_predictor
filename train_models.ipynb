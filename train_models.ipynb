{
 "cells": [
  {
   "cell_type": "code",
   "execution_count": 1,
   "id": "14bf5794-71d5-4c88-b534-b2fd0db7e867",
   "metadata": {
    "tags": []
   },
   "outputs": [],
   "source": [
    "import os\n",
    "import pytorch_lightning as pl\n",
    "import pandas as pd\n",
    "\n",
    "from rdkit import Chem # safe import before ccdc imports\n",
    "from torch_geometric.loader import DataLoader\n",
    "from torch.utils.data import ConcatDataset\n",
    "\n",
    "from conf_ensemble_dataset_in_memory import ConfEnsembleDataset\n",
    "from litschnet import LitSchNet\n",
    "from molsize_model import MolSizeModel\n",
    "from pytorch_lightning.callbacks.early_stopping import EarlyStopping\n",
    "from pytorch_lightning.loggers import TensorBoardLogger\n",
    "from tqdm import tqdm"
   ]
  },
  {
   "cell_type": "code",
   "execution_count": 2,
   "id": "0a6e3d43-8fa2-4693-b4c3-08a4ce31d9bc",
   "metadata": {},
   "outputs": [
    {
     "name": "stderr",
     "output_type": "stream",
     "text": [
      "Global seed set to 42\n"
     ]
    },
    {
     "data": {
      "text/plain": [
       "42"
      ]
     },
     "execution_count": 2,
     "metadata": {},
     "output_type": "execute_result"
    }
   ],
   "source": [
    "pl.seed_everything(42, workers=True)"
   ]
  },
  {
   "cell_type": "markdown",
   "id": "a8cce14b-71e8-4987-aa40-acf9868528c1",
   "metadata": {},
   "source": [
    "# Data preparation"
   ]
  },
  {
   "cell_type": "code",
   "execution_count": 3,
   "id": "a5ea2045-3aab-4d08-ac23-808e42e3f87a",
   "metadata": {
    "scrolled": true,
    "tags": []
   },
   "outputs": [],
   "source": [
    "# run once to preprocess datasets and generate chunks\n",
    "dataset = ConfEnsembleDataset()\n",
    "# dataset = ConfEnsembleDataset(dataset='platinum')"
   ]
  },
  {
   "cell_type": "code",
   "execution_count": 4,
   "id": "0041e450-1fc1-442d-a519-cbc952a1f354",
   "metadata": {},
   "outputs": [],
   "source": [
    "splits = ['random', 'scaffold', 'protein']"
   ]
  },
  {
   "cell_type": "code",
   "execution_count": 5,
   "id": "36ee981f-9a29-43ab-8ccd-6ea54ba5b6bc",
   "metadata": {
    "tags": []
   },
   "outputs": [],
   "source": [
    "def get_loaders(split, \n",
    "                iteration, \n",
    "                data_dir='data/',\n",
    "                ) :\n",
    "    \n",
    "    pdbbind_chunks = [filename for filename in os.listdir(os.path.join(data_dir, 'processed')) if filename.startswith('pdbbind')]\n",
    "    pdbbind_n_chunks = len(pdbbind_chunks)\n",
    "    \n",
    "    train_datasets = []\n",
    "    val_datasets = []\n",
    "    test_datasets = []\n",
    "    \n",
    "    if split in ['random', 'scaffold'] :\n",
    "        \n",
    "        with open(os.path.join(data_dir, f'ligand_{split}_splits', f'train_smiles_{split}_split_{iteration}.txt'), 'r') as f :\n",
    "            train_smiles = f.readlines()\n",
    "            train_smiles = [smiles.strip() for smiles in train_smiles]\n",
    "\n",
    "        with open(os.path.join(data_dir, f'ligand_{split}_splits', f'val_smiles_{split}_split_{iteration}.txt'), 'r') as f :\n",
    "            val_smiles = f.readlines()\n",
    "            val_smiles = [smiles.strip() for smiles in val_smiles]\n",
    "\n",
    "        with open(os.path.join(data_dir, f'ligand_{split}_splits', f'test_smiles_{split}_split_{iteration}.txt'), 'r') as f :\n",
    "            test_smiles = f.readlines()\n",
    "            test_smiles = [smiles.strip() for smiles in test_smiles]\n",
    "\n",
    "        for chunk_number in tqdm(range(pdbbind_n_chunks)) :\n",
    "\n",
    "            dataset = ConfEnsembleDataset(loaded_chunk=chunk_number,\n",
    "                                          smiles_list=train_smiles)\n",
    "            train_datasets.append(dataset)\n",
    "\n",
    "            dataset = ConfEnsembleDataset(loaded_chunk=chunk_number,\n",
    "                                          smiles_list=val_smiles)\n",
    "            val_datasets.append(dataset)\n",
    "\n",
    "            dataset = ConfEnsembleDataset(loaded_chunk=chunk_number,\n",
    "                                          smiles_list=test_smiles)\n",
    "            test_datasets.append(dataset)\n",
    "            \n",
    "    else : #protein split\n",
    "        \n",
    "        with open(os.path.join(data_dir, 'protein_similarity_splits', f'train_pdb_protein_similarity_split_{iteration}.txt'), 'r') as f :\n",
    "            train_pdbs = f.readlines()\n",
    "            train_pdbs = [pdb.strip() for pdb in train_pdbs]\n",
    "\n",
    "        with open(os.path.join(data_dir, 'protein_similarity_splits', f'val_pdb_protein_similarity_split_{iteration}.txt'), 'r') as f :\n",
    "            val_pdbs = f.readlines()\n",
    "            val_pdbs = [pdb.strip() for pdb in val_pdbs]\n",
    "\n",
    "        with open(os.path.join(data_dir, 'protein_similarity_splits', f'test_pdb_protein_similarity_split_{iteration}.txt'), 'r') as f :\n",
    "            test_pdbs = f.readlines()\n",
    "            test_pdbs = [pdb.strip() for pdb in test_pdbs]\n",
    "\n",
    "        for chunk_number in tqdm(range(pdbbind_n_chunks)) :\n",
    "\n",
    "            dataset = ConfEnsembleDataset(loaded_chunk=chunk_number,\n",
    "                                          pdb_ids_list=train_pdbs)\n",
    "            train_datasets.append(dataset)\n",
    "\n",
    "            dataset = ConfEnsembleDataset(loaded_chunk=chunk_number,\n",
    "                                          pdb_ids_list=val_pdbs)\n",
    "            val_datasets.append(dataset)\n",
    "\n",
    "            dataset = ConfEnsembleDataset(loaded_chunk=chunk_number,\n",
    "                                          pdb_ids_list=test_pdbs)\n",
    "            test_datasets.append(dataset)\n",
    "\n",
    "    train_dataset = ConcatDataset(train_datasets)\n",
    "    val_dataset = ConcatDataset(val_datasets)\n",
    "    test_dataset = ConcatDataset(test_datasets)\n",
    "\n",
    "    train_loader = DataLoader(train_dataset, batch_size=64, shuffle=True, num_workers=4)\n",
    "    val_loader = DataLoader(val_dataset, batch_size=64, shuffle=False, num_workers=4)\n",
    "    test_loader = DataLoader(test_dataset, batch_size=64, shuffle=False, num_workers=4)\n",
    "    \n",
    "    return train_loader, val_loader, test_loader"
   ]
  },
  {
   "cell_type": "code",
   "execution_count": 6,
   "id": "0dcfc478-b0ce-4506-a7c9-e8573d30c12a",
   "metadata": {},
   "outputs": [
    {
     "name": "stderr",
     "output_type": "stream",
     "text": [
      "100%|████████████████████████████████████████████| 3/3 [07:54<00:00, 158.33s/it]\n",
      "GPU available: True, used: True\n",
      "TPU available: False, using: 0 TPU cores\n",
      "IPU available: False, using: 0 IPUs\n",
      "LOCAL_RANK: 0 - CUDA_VISIBLE_DEVICES: [0]\n",
      "\n",
      "  | Name       | Type      | Params\n",
      "-----------------------------------------\n",
      "0 | schnet     | SchNet    | 455 K \n",
      "1 | leaky_relu | LeakyReLU | 0     \n",
      "2 | sigmoid    | Sigmoid   | 0     \n",
      "-----------------------------------------\n",
      "455 K     Trainable params\n",
      "0         Non-trainable params\n",
      "455 K     Total params\n",
      "1.823     Total estimated model params size (MB)\n"
     ]
    },
    {
     "data": {
      "application/vnd.jupyter.widget-view+json": {
       "model_id": "",
       "version_major": 2,
       "version_minor": 0
      },
      "text/plain": [
       "Validation sanity check: 0it [00:00, ?it/s]"
      ]
     },
     "metadata": {},
     "output_type": "display_data"
    },
    {
     "name": "stderr",
     "output_type": "stream",
     "text": [
      "/home/benoit/anaconda3/envs/GeoMol/lib/python3.7/site-packages/pytorch_lightning/utilities/data.py:57: UserWarning: Trying to infer the `batch_size` from an ambiguous collection. The batch size we found is 1. To avoid any miscalculations, use `self.log(..., batch_size=batch_size)`.\n",
      "  \"Trying to infer the `batch_size` from an ambiguous collection. The batch size we\"\n",
      "Global seed set to 42\n"
     ]
    },
    {
     "data": {
      "application/vnd.jupyter.widget-view+json": {
       "model_id": "00c9c957f8154f4d8d867a7bf2107b93",
       "version_major": 2,
       "version_minor": 0
      },
      "text/plain": [
       "Training: 0it [00:00, ?it/s]"
      ]
     },
     "metadata": {},
     "output_type": "display_data"
    },
    {
     "data": {
      "application/vnd.jupyter.widget-view+json": {
       "model_id": "",
       "version_major": 2,
       "version_minor": 0
      },
      "text/plain": [
       "Validating: 0it [00:00, ?it/s]"
      ]
     },
     "metadata": {},
     "output_type": "display_data"
    },
    {
     "data": {
      "application/vnd.jupyter.widget-view+json": {
       "model_id": "",
       "version_major": 2,
       "version_minor": 0
      },
      "text/plain": [
       "Validating: 0it [00:00, ?it/s]"
      ]
     },
     "metadata": {},
     "output_type": "display_data"
    },
    {
     "data": {
      "application/vnd.jupyter.widget-view+json": {
       "model_id": "",
       "version_major": 2,
       "version_minor": 0
      },
      "text/plain": [
       "Validating: 0it [00:00, ?it/s]"
      ]
     },
     "metadata": {},
     "output_type": "display_data"
    },
    {
     "data": {
      "application/vnd.jupyter.widget-view+json": {
       "model_id": "",
       "version_major": 2,
       "version_minor": 0
      },
      "text/plain": [
       "Validating: 0it [00:00, ?it/s]"
      ]
     },
     "metadata": {},
     "output_type": "display_data"
    },
    {
     "data": {
      "application/vnd.jupyter.widget-view+json": {
       "model_id": "",
       "version_major": 2,
       "version_minor": 0
      },
      "text/plain": [
       "Validating: 0it [00:00, ?it/s]"
      ]
     },
     "metadata": {},
     "output_type": "display_data"
    },
    {
     "data": {
      "application/vnd.jupyter.widget-view+json": {
       "model_id": "",
       "version_major": 2,
       "version_minor": 0
      },
      "text/plain": [
       "Validating: 0it [00:00, ?it/s]"
      ]
     },
     "metadata": {},
     "output_type": "display_data"
    },
    {
     "data": {
      "application/vnd.jupyter.widget-view+json": {
       "model_id": "",
       "version_major": 2,
       "version_minor": 0
      },
      "text/plain": [
       "Validating: 0it [00:00, ?it/s]"
      ]
     },
     "metadata": {},
     "output_type": "display_data"
    },
    {
     "data": {
      "application/vnd.jupyter.widget-view+json": {
       "model_id": "",
       "version_major": 2,
       "version_minor": 0
      },
      "text/plain": [
       "Validating: 0it [00:00, ?it/s]"
      ]
     },
     "metadata": {},
     "output_type": "display_data"
    },
    {
     "data": {
      "application/vnd.jupyter.widget-view+json": {
       "model_id": "",
       "version_major": 2,
       "version_minor": 0
      },
      "text/plain": [
       "Validating: 0it [00:00, ?it/s]"
      ]
     },
     "metadata": {},
     "output_type": "display_data"
    },
    {
     "data": {
      "application/vnd.jupyter.widget-view+json": {
       "model_id": "",
       "version_major": 2,
       "version_minor": 0
      },
      "text/plain": [
       "Validating: 0it [00:00, ?it/s]"
      ]
     },
     "metadata": {},
     "output_type": "display_data"
    },
    {
     "data": {
      "application/vnd.jupyter.widget-view+json": {
       "model_id": "",
       "version_major": 2,
       "version_minor": 0
      },
      "text/plain": [
       "Validating: 0it [00:00, ?it/s]"
      ]
     },
     "metadata": {},
     "output_type": "display_data"
    },
    {
     "name": "stderr",
     "output_type": "stream",
     "text": [
      "LOCAL_RANK: 0 - CUDA_VISIBLE_DEVICES: [0]\n"
     ]
    },
    {
     "data": {
      "application/vnd.jupyter.widget-view+json": {
       "model_id": "bfb8c59cae604b8baedf3205b954fa01",
       "version_major": 2,
       "version_minor": 0
      },
      "text/plain": [
       "Testing: 0it [00:00, ?it/s]"
      ]
     },
     "metadata": {},
     "output_type": "display_data"
    },
    {
     "name": "stderr",
     "output_type": "stream",
     "text": [
      "GPU available: True, used: True\n",
      "TPU available: False, using: 0 TPU cores\n",
      "IPU available: False, using: 0 IPUs\n",
      "LOCAL_RANK: 0 - CUDA_VISIBLE_DEVICES: [0]\n",
      "\n",
      "  | Name          | Type       | Params\n",
      "---------------------------------------------\n",
      "0 | linear_layers | Sequential | 10.5 K\n",
      "1 | leaky_relu    | LeakyReLU  | 0     \n",
      "---------------------------------------------\n",
      "10.5 K    Trainable params\n",
      "0         Non-trainable params\n",
      "10.5 K    Total params\n",
      "0.042     Total estimated model params size (MB)\n"
     ]
    },
    {
     "name": "stdout",
     "output_type": "stream",
     "text": [
      "--------------------------------------------------------------------------------\n",
      "DATALOADER:0 TEST RESULTS\n",
      "{'test_loss': 0.4245989918708801}\n",
      "--------------------------------------------------------------------------------\n"
     ]
    },
    {
     "data": {
      "application/vnd.jupyter.widget-view+json": {
       "model_id": "",
       "version_major": 2,
       "version_minor": 0
      },
      "text/plain": [
       "Validation sanity check: 0it [00:00, ?it/s]"
      ]
     },
     "metadata": {},
     "output_type": "display_data"
    },
    {
     "name": "stderr",
     "output_type": "stream",
     "text": [
      "Global seed set to 42\n"
     ]
    },
    {
     "data": {
      "application/vnd.jupyter.widget-view+json": {
       "model_id": "acd13e9bf2de40ac80f994f661732972",
       "version_major": 2,
       "version_minor": 0
      },
      "text/plain": [
       "Training: 0it [00:00, ?it/s]"
      ]
     },
     "metadata": {},
     "output_type": "display_data"
    },
    {
     "data": {
      "application/vnd.jupyter.widget-view+json": {
       "model_id": "",
       "version_major": 2,
       "version_minor": 0
      },
      "text/plain": [
       "Validating: 0it [00:00, ?it/s]"
      ]
     },
     "metadata": {},
     "output_type": "display_data"
    },
    {
     "data": {
      "application/vnd.jupyter.widget-view+json": {
       "model_id": "",
       "version_major": 2,
       "version_minor": 0
      },
      "text/plain": [
       "Validating: 0it [00:00, ?it/s]"
      ]
     },
     "metadata": {},
     "output_type": "display_data"
    },
    {
     "data": {
      "application/vnd.jupyter.widget-view+json": {
       "model_id": "",
       "version_major": 2,
       "version_minor": 0
      },
      "text/plain": [
       "Validating: 0it [00:00, ?it/s]"
      ]
     },
     "metadata": {},
     "output_type": "display_data"
    },
    {
     "data": {
      "application/vnd.jupyter.widget-view+json": {
       "model_id": "",
       "version_major": 2,
       "version_minor": 0
      },
      "text/plain": [
       "Validating: 0it [00:00, ?it/s]"
      ]
     },
     "metadata": {},
     "output_type": "display_data"
    },
    {
     "data": {
      "application/vnd.jupyter.widget-view+json": {
       "model_id": "",
       "version_major": 2,
       "version_minor": 0
      },
      "text/plain": [
       "Validating: 0it [00:00, ?it/s]"
      ]
     },
     "metadata": {},
     "output_type": "display_data"
    },
    {
     "data": {
      "application/vnd.jupyter.widget-view+json": {
       "model_id": "",
       "version_major": 2,
       "version_minor": 0
      },
      "text/plain": [
       "Validating: 0it [00:00, ?it/s]"
      ]
     },
     "metadata": {},
     "output_type": "display_data"
    },
    {
     "name": "stderr",
     "output_type": "stream",
     "text": [
      "LOCAL_RANK: 0 - CUDA_VISIBLE_DEVICES: [0]\n"
     ]
    },
    {
     "data": {
      "application/vnd.jupyter.widget-view+json": {
       "model_id": "18f133357fc24eaa8723a97260388d94",
       "version_major": 2,
       "version_minor": 0
      },
      "text/plain": [
       "Testing: 0it [00:00, ?it/s]"
      ]
     },
     "metadata": {},
     "output_type": "display_data"
    },
    {
     "name": "stderr",
     "output_type": "stream",
     "text": [
      "  0%|                                                     | 0/3 [00:00<?, ?it/s]"
     ]
    },
    {
     "name": "stdout",
     "output_type": "stream",
     "text": [
      "--------------------------------------------------------------------------------\n",
      "DATALOADER:0 TEST RESULTS\n",
      "{'test_loss': 0.47940146923065186}\n",
      "--------------------------------------------------------------------------------\n"
     ]
    },
    {
     "name": "stderr",
     "output_type": "stream",
     "text": [
      "100%|████████████████████████████████████████████| 3/3 [07:50<00:00, 156.94s/it]\n",
      "GPU available: True, used: True\n",
      "TPU available: False, using: 0 TPU cores\n",
      "IPU available: False, using: 0 IPUs\n",
      "LOCAL_RANK: 0 - CUDA_VISIBLE_DEVICES: [0]\n",
      "\n",
      "  | Name       | Type      | Params\n",
      "-----------------------------------------\n",
      "0 | schnet     | SchNet    | 455 K \n",
      "1 | leaky_relu | LeakyReLU | 0     \n",
      "2 | sigmoid    | Sigmoid   | 0     \n",
      "-----------------------------------------\n",
      "455 K     Trainable params\n",
      "0         Non-trainable params\n",
      "455 K     Total params\n",
      "1.823     Total estimated model params size (MB)\n"
     ]
    },
    {
     "data": {
      "application/vnd.jupyter.widget-view+json": {
       "model_id": "",
       "version_major": 2,
       "version_minor": 0
      },
      "text/plain": [
       "Validation sanity check: 0it [00:00, ?it/s]"
      ]
     },
     "metadata": {},
     "output_type": "display_data"
    },
    {
     "name": "stderr",
     "output_type": "stream",
     "text": [
      "Global seed set to 42\n"
     ]
    },
    {
     "data": {
      "application/vnd.jupyter.widget-view+json": {
       "model_id": "d8012631049443a38f76eefa620c17a6",
       "version_major": 2,
       "version_minor": 0
      },
      "text/plain": [
       "Training: 0it [00:00, ?it/s]"
      ]
     },
     "metadata": {},
     "output_type": "display_data"
    },
    {
     "data": {
      "application/vnd.jupyter.widget-view+json": {
       "model_id": "",
       "version_major": 2,
       "version_minor": 0
      },
      "text/plain": [
       "Validating: 0it [00:00, ?it/s]"
      ]
     },
     "metadata": {},
     "output_type": "display_data"
    },
    {
     "data": {
      "application/vnd.jupyter.widget-view+json": {
       "model_id": "",
       "version_major": 2,
       "version_minor": 0
      },
      "text/plain": [
       "Validating: 0it [00:00, ?it/s]"
      ]
     },
     "metadata": {},
     "output_type": "display_data"
    },
    {
     "data": {
      "application/vnd.jupyter.widget-view+json": {
       "model_id": "",
       "version_major": 2,
       "version_minor": 0
      },
      "text/plain": [
       "Validating: 0it [00:00, ?it/s]"
      ]
     },
     "metadata": {},
     "output_type": "display_data"
    },
    {
     "data": {
      "application/vnd.jupyter.widget-view+json": {
       "model_id": "",
       "version_major": 2,
       "version_minor": 0
      },
      "text/plain": [
       "Validating: 0it [00:00, ?it/s]"
      ]
     },
     "metadata": {},
     "output_type": "display_data"
    },
    {
     "data": {
      "application/vnd.jupyter.widget-view+json": {
       "model_id": "",
       "version_major": 2,
       "version_minor": 0
      },
      "text/plain": [
       "Validating: 0it [00:00, ?it/s]"
      ]
     },
     "metadata": {},
     "output_type": "display_data"
    },
    {
     "data": {
      "application/vnd.jupyter.widget-view+json": {
       "model_id": "",
       "version_major": 2,
       "version_minor": 0
      },
      "text/plain": [
       "Validating: 0it [00:00, ?it/s]"
      ]
     },
     "metadata": {},
     "output_type": "display_data"
    },
    {
     "name": "stderr",
     "output_type": "stream",
     "text": [
      "LOCAL_RANK: 0 - CUDA_VISIBLE_DEVICES: [0]\n"
     ]
    },
    {
     "data": {
      "application/vnd.jupyter.widget-view+json": {
       "model_id": "fc1d42798ded406bbe2e6ccc7ec3111b",
       "version_major": 2,
       "version_minor": 0
      },
      "text/plain": [
       "Testing: 0it [00:00, ?it/s]"
      ]
     },
     "metadata": {},
     "output_type": "display_data"
    },
    {
     "name": "stderr",
     "output_type": "stream",
     "text": [
      "GPU available: True, used: True\n",
      "TPU available: False, using: 0 TPU cores\n",
      "IPU available: False, using: 0 IPUs\n",
      "LOCAL_RANK: 0 - CUDA_VISIBLE_DEVICES: [0]\n",
      "\n",
      "  | Name          | Type       | Params\n",
      "---------------------------------------------\n",
      "0 | linear_layers | Sequential | 10.5 K\n",
      "1 | leaky_relu    | LeakyReLU  | 0     \n",
      "---------------------------------------------\n",
      "10.5 K    Trainable params\n",
      "0         Non-trainable params\n",
      "10.5 K    Total params\n",
      "0.042     Total estimated model params size (MB)\n"
     ]
    },
    {
     "name": "stdout",
     "output_type": "stream",
     "text": [
      "--------------------------------------------------------------------------------\n",
      "DATALOADER:0 TEST RESULTS\n",
      "{'test_loss': 0.46111705899238586}\n",
      "--------------------------------------------------------------------------------\n"
     ]
    },
    {
     "data": {
      "application/vnd.jupyter.widget-view+json": {
       "model_id": "",
       "version_major": 2,
       "version_minor": 0
      },
      "text/plain": [
       "Validation sanity check: 0it [00:00, ?it/s]"
      ]
     },
     "metadata": {},
     "output_type": "display_data"
    },
    {
     "name": "stderr",
     "output_type": "stream",
     "text": [
      "Global seed set to 42\n"
     ]
    },
    {
     "data": {
      "application/vnd.jupyter.widget-view+json": {
       "model_id": "c4e7896cc64443f4b1906117c408f40c",
       "version_major": 2,
       "version_minor": 0
      },
      "text/plain": [
       "Training: 0it [00:00, ?it/s]"
      ]
     },
     "metadata": {},
     "output_type": "display_data"
    },
    {
     "data": {
      "application/vnd.jupyter.widget-view+json": {
       "model_id": "",
       "version_major": 2,
       "version_minor": 0
      },
      "text/plain": [
       "Validating: 0it [00:00, ?it/s]"
      ]
     },
     "metadata": {},
     "output_type": "display_data"
    },
    {
     "data": {
      "application/vnd.jupyter.widget-view+json": {
       "model_id": "",
       "version_major": 2,
       "version_minor": 0
      },
      "text/plain": [
       "Validating: 0it [00:00, ?it/s]"
      ]
     },
     "metadata": {},
     "output_type": "display_data"
    },
    {
     "data": {
      "application/vnd.jupyter.widget-view+json": {
       "model_id": "",
       "version_major": 2,
       "version_minor": 0
      },
      "text/plain": [
       "Validating: 0it [00:00, ?it/s]"
      ]
     },
     "metadata": {},
     "output_type": "display_data"
    },
    {
     "data": {
      "application/vnd.jupyter.widget-view+json": {
       "model_id": "",
       "version_major": 2,
       "version_minor": 0
      },
      "text/plain": [
       "Validating: 0it [00:00, ?it/s]"
      ]
     },
     "metadata": {},
     "output_type": "display_data"
    },
    {
     "data": {
      "application/vnd.jupyter.widget-view+json": {
       "model_id": "",
       "version_major": 2,
       "version_minor": 0
      },
      "text/plain": [
       "Validating: 0it [00:00, ?it/s]"
      ]
     },
     "metadata": {},
     "output_type": "display_data"
    },
    {
     "data": {
      "application/vnd.jupyter.widget-view+json": {
       "model_id": "",
       "version_major": 2,
       "version_minor": 0
      },
      "text/plain": [
       "Validating: 0it [00:00, ?it/s]"
      ]
     },
     "metadata": {},
     "output_type": "display_data"
    },
    {
     "data": {
      "application/vnd.jupyter.widget-view+json": {
       "model_id": "",
       "version_major": 2,
       "version_minor": 0
      },
      "text/plain": [
       "Validating: 0it [00:00, ?it/s]"
      ]
     },
     "metadata": {},
     "output_type": "display_data"
    },
    {
     "data": {
      "application/vnd.jupyter.widget-view+json": {
       "model_id": "",
       "version_major": 2,
       "version_minor": 0
      },
      "text/plain": [
       "Validating: 0it [00:00, ?it/s]"
      ]
     },
     "metadata": {},
     "output_type": "display_data"
    },
    {
     "data": {
      "application/vnd.jupyter.widget-view+json": {
       "model_id": "",
       "version_major": 2,
       "version_minor": 0
      },
      "text/plain": [
       "Validating: 0it [00:00, ?it/s]"
      ]
     },
     "metadata": {},
     "output_type": "display_data"
    },
    {
     "data": {
      "application/vnd.jupyter.widget-view+json": {
       "model_id": "",
       "version_major": 2,
       "version_minor": 0
      },
      "text/plain": [
       "Validating: 0it [00:00, ?it/s]"
      ]
     },
     "metadata": {},
     "output_type": "display_data"
    },
    {
     "data": {
      "application/vnd.jupyter.widget-view+json": {
       "model_id": "",
       "version_major": 2,
       "version_minor": 0
      },
      "text/plain": [
       "Validating: 0it [00:00, ?it/s]"
      ]
     },
     "metadata": {},
     "output_type": "display_data"
    },
    {
     "data": {
      "application/vnd.jupyter.widget-view+json": {
       "model_id": "",
       "version_major": 2,
       "version_minor": 0
      },
      "text/plain": [
       "Validating: 0it [00:00, ?it/s]"
      ]
     },
     "metadata": {},
     "output_type": "display_data"
    },
    {
     "data": {
      "application/vnd.jupyter.widget-view+json": {
       "model_id": "",
       "version_major": 2,
       "version_minor": 0
      },
      "text/plain": [
       "Validating: 0it [00:00, ?it/s]"
      ]
     },
     "metadata": {},
     "output_type": "display_data"
    },
    {
     "data": {
      "application/vnd.jupyter.widget-view+json": {
       "model_id": "",
       "version_major": 2,
       "version_minor": 0
      },
      "text/plain": [
       "Validating: 0it [00:00, ?it/s]"
      ]
     },
     "metadata": {},
     "output_type": "display_data"
    },
    {
     "data": {
      "application/vnd.jupyter.widget-view+json": {
       "model_id": "",
       "version_major": 2,
       "version_minor": 0
      },
      "text/plain": [
       "Validating: 0it [00:00, ?it/s]"
      ]
     },
     "metadata": {},
     "output_type": "display_data"
    },
    {
     "data": {
      "application/vnd.jupyter.widget-view+json": {
       "model_id": "",
       "version_major": 2,
       "version_minor": 0
      },
      "text/plain": [
       "Validating: 0it [00:00, ?it/s]"
      ]
     },
     "metadata": {},
     "output_type": "display_data"
    },
    {
     "data": {
      "application/vnd.jupyter.widget-view+json": {
       "model_id": "",
       "version_major": 2,
       "version_minor": 0
      },
      "text/plain": [
       "Validating: 0it [00:00, ?it/s]"
      ]
     },
     "metadata": {},
     "output_type": "display_data"
    },
    {
     "name": "stderr",
     "output_type": "stream",
     "text": [
      "LOCAL_RANK: 0 - CUDA_VISIBLE_DEVICES: [0]\n"
     ]
    },
    {
     "data": {
      "application/vnd.jupyter.widget-view+json": {
       "model_id": "32ec08fab2f1437589d4115e23bff577",
       "version_major": 2,
       "version_minor": 0
      },
      "text/plain": [
       "Testing: 0it [00:00, ?it/s]"
      ]
     },
     "metadata": {},
     "output_type": "display_data"
    },
    {
     "name": "stderr",
     "output_type": "stream",
     "text": [
      "  0%|                                                     | 0/3 [00:00<?, ?it/s]"
     ]
    },
    {
     "name": "stdout",
     "output_type": "stream",
     "text": [
      "--------------------------------------------------------------------------------\n",
      "DATALOADER:0 TEST RESULTS\n",
      "{'test_loss': 0.5342466831207275}\n",
      "--------------------------------------------------------------------------------\n"
     ]
    },
    {
     "name": "stderr",
     "output_type": "stream",
     "text": [
      "100%|████████████████████████████████████████████| 3/3 [07:47<00:00, 155.78s/it]\n",
      "GPU available: True, used: True\n",
      "TPU available: False, using: 0 TPU cores\n",
      "IPU available: False, using: 0 IPUs\n",
      "LOCAL_RANK: 0 - CUDA_VISIBLE_DEVICES: [0]\n",
      "\n",
      "  | Name       | Type      | Params\n",
      "-----------------------------------------\n",
      "0 | schnet     | SchNet    | 455 K \n",
      "1 | leaky_relu | LeakyReLU | 0     \n",
      "2 | sigmoid    | Sigmoid   | 0     \n",
      "-----------------------------------------\n",
      "455 K     Trainable params\n",
      "0         Non-trainable params\n",
      "455 K     Total params\n",
      "1.823     Total estimated model params size (MB)\n"
     ]
    },
    {
     "data": {
      "application/vnd.jupyter.widget-view+json": {
       "model_id": "",
       "version_major": 2,
       "version_minor": 0
      },
      "text/plain": [
       "Validation sanity check: 0it [00:00, ?it/s]"
      ]
     },
     "metadata": {},
     "output_type": "display_data"
    },
    {
     "name": "stderr",
     "output_type": "stream",
     "text": [
      "Global seed set to 42\n"
     ]
    },
    {
     "data": {
      "application/vnd.jupyter.widget-view+json": {
       "model_id": "80c932cc0cba4497969cff48c6efb0fd",
       "version_major": 2,
       "version_minor": 0
      },
      "text/plain": [
       "Training: 0it [00:00, ?it/s]"
      ]
     },
     "metadata": {},
     "output_type": "display_data"
    },
    {
     "data": {
      "application/vnd.jupyter.widget-view+json": {
       "model_id": "",
       "version_major": 2,
       "version_minor": 0
      },
      "text/plain": [
       "Validating: 0it [00:00, ?it/s]"
      ]
     },
     "metadata": {},
     "output_type": "display_data"
    },
    {
     "data": {
      "application/vnd.jupyter.widget-view+json": {
       "model_id": "",
       "version_major": 2,
       "version_minor": 0
      },
      "text/plain": [
       "Validating: 0it [00:00, ?it/s]"
      ]
     },
     "metadata": {},
     "output_type": "display_data"
    },
    {
     "data": {
      "application/vnd.jupyter.widget-view+json": {
       "model_id": "",
       "version_major": 2,
       "version_minor": 0
      },
      "text/plain": [
       "Validating: 0it [00:00, ?it/s]"
      ]
     },
     "metadata": {},
     "output_type": "display_data"
    },
    {
     "data": {
      "application/vnd.jupyter.widget-view+json": {
       "model_id": "",
       "version_major": 2,
       "version_minor": 0
      },
      "text/plain": [
       "Validating: 0it [00:00, ?it/s]"
      ]
     },
     "metadata": {},
     "output_type": "display_data"
    },
    {
     "data": {
      "application/vnd.jupyter.widget-view+json": {
       "model_id": "",
       "version_major": 2,
       "version_minor": 0
      },
      "text/plain": [
       "Validating: 0it [00:00, ?it/s]"
      ]
     },
     "metadata": {},
     "output_type": "display_data"
    },
    {
     "data": {
      "application/vnd.jupyter.widget-view+json": {
       "model_id": "",
       "version_major": 2,
       "version_minor": 0
      },
      "text/plain": [
       "Validating: 0it [00:00, ?it/s]"
      ]
     },
     "metadata": {},
     "output_type": "display_data"
    },
    {
     "data": {
      "application/vnd.jupyter.widget-view+json": {
       "model_id": "",
       "version_major": 2,
       "version_minor": 0
      },
      "text/plain": [
       "Validating: 0it [00:00, ?it/s]"
      ]
     },
     "metadata": {},
     "output_type": "display_data"
    },
    {
     "data": {
      "application/vnd.jupyter.widget-view+json": {
       "model_id": "",
       "version_major": 2,
       "version_minor": 0
      },
      "text/plain": [
       "Validating: 0it [00:00, ?it/s]"
      ]
     },
     "metadata": {},
     "output_type": "display_data"
    },
    {
     "data": {
      "application/vnd.jupyter.widget-view+json": {
       "model_id": "",
       "version_major": 2,
       "version_minor": 0
      },
      "text/plain": [
       "Validating: 0it [00:00, ?it/s]"
      ]
     },
     "metadata": {},
     "output_type": "display_data"
    },
    {
     "data": {
      "application/vnd.jupyter.widget-view+json": {
       "model_id": "",
       "version_major": 2,
       "version_minor": 0
      },
      "text/plain": [
       "Validating: 0it [00:00, ?it/s]"
      ]
     },
     "metadata": {},
     "output_type": "display_data"
    },
    {
     "data": {
      "application/vnd.jupyter.widget-view+json": {
       "model_id": "",
       "version_major": 2,
       "version_minor": 0
      },
      "text/plain": [
       "Validating: 0it [00:00, ?it/s]"
      ]
     },
     "metadata": {},
     "output_type": "display_data"
    },
    {
     "data": {
      "application/vnd.jupyter.widget-view+json": {
       "model_id": "",
       "version_major": 2,
       "version_minor": 0
      },
      "text/plain": [
       "Validating: 0it [00:00, ?it/s]"
      ]
     },
     "metadata": {},
     "output_type": "display_data"
    },
    {
     "data": {
      "application/vnd.jupyter.widget-view+json": {
       "model_id": "",
       "version_major": 2,
       "version_minor": 0
      },
      "text/plain": [
       "Validating: 0it [00:00, ?it/s]"
      ]
     },
     "metadata": {},
     "output_type": "display_data"
    },
    {
     "data": {
      "application/vnd.jupyter.widget-view+json": {
       "model_id": "",
       "version_major": 2,
       "version_minor": 0
      },
      "text/plain": [
       "Validating: 0it [00:00, ?it/s]"
      ]
     },
     "metadata": {},
     "output_type": "display_data"
    },
    {
     "name": "stderr",
     "output_type": "stream",
     "text": [
      "LOCAL_RANK: 0 - CUDA_VISIBLE_DEVICES: [0]\n"
     ]
    },
    {
     "data": {
      "application/vnd.jupyter.widget-view+json": {
       "model_id": "152f80992c6a49cb84816623d8ac5b22",
       "version_major": 2,
       "version_minor": 0
      },
      "text/plain": [
       "Testing: 0it [00:00, ?it/s]"
      ]
     },
     "metadata": {},
     "output_type": "display_data"
    },
    {
     "name": "stderr",
     "output_type": "stream",
     "text": [
      "GPU available: True, used: True\n",
      "TPU available: False, using: 0 TPU cores\n",
      "IPU available: False, using: 0 IPUs\n",
      "LOCAL_RANK: 0 - CUDA_VISIBLE_DEVICES: [0]\n",
      "\n",
      "  | Name          | Type       | Params\n",
      "---------------------------------------------\n",
      "0 | linear_layers | Sequential | 10.5 K\n",
      "1 | leaky_relu    | LeakyReLU  | 0     \n",
      "---------------------------------------------\n",
      "10.5 K    Trainable params\n",
      "0         Non-trainable params\n",
      "10.5 K    Total params\n",
      "0.042     Total estimated model params size (MB)\n"
     ]
    },
    {
     "name": "stdout",
     "output_type": "stream",
     "text": [
      "--------------------------------------------------------------------------------\n",
      "DATALOADER:0 TEST RESULTS\n",
      "{'test_loss': 0.5214886665344238}\n",
      "--------------------------------------------------------------------------------\n"
     ]
    },
    {
     "data": {
      "application/vnd.jupyter.widget-view+json": {
       "model_id": "",
       "version_major": 2,
       "version_minor": 0
      },
      "text/plain": [
       "Validation sanity check: 0it [00:00, ?it/s]"
      ]
     },
     "metadata": {},
     "output_type": "display_data"
    },
    {
     "name": "stderr",
     "output_type": "stream",
     "text": [
      "Global seed set to 42\n"
     ]
    },
    {
     "data": {
      "application/vnd.jupyter.widget-view+json": {
       "model_id": "7021d8dd5f3d4e26a7f6dde545a168a7",
       "version_major": 2,
       "version_minor": 0
      },
      "text/plain": [
       "Training: 0it [00:00, ?it/s]"
      ]
     },
     "metadata": {},
     "output_type": "display_data"
    },
    {
     "data": {
      "application/vnd.jupyter.widget-view+json": {
       "model_id": "",
       "version_major": 2,
       "version_minor": 0
      },
      "text/plain": [
       "Validating: 0it [00:00, ?it/s]"
      ]
     },
     "metadata": {},
     "output_type": "display_data"
    },
    {
     "data": {
      "application/vnd.jupyter.widget-view+json": {
       "model_id": "",
       "version_major": 2,
       "version_minor": 0
      },
      "text/plain": [
       "Validating: 0it [00:00, ?it/s]"
      ]
     },
     "metadata": {},
     "output_type": "display_data"
    },
    {
     "data": {
      "application/vnd.jupyter.widget-view+json": {
       "model_id": "",
       "version_major": 2,
       "version_minor": 0
      },
      "text/plain": [
       "Validating: 0it [00:00, ?it/s]"
      ]
     },
     "metadata": {},
     "output_type": "display_data"
    },
    {
     "data": {
      "application/vnd.jupyter.widget-view+json": {
       "model_id": "",
       "version_major": 2,
       "version_minor": 0
      },
      "text/plain": [
       "Validating: 0it [00:00, ?it/s]"
      ]
     },
     "metadata": {},
     "output_type": "display_data"
    },
    {
     "data": {
      "application/vnd.jupyter.widget-view+json": {
       "model_id": "",
       "version_major": 2,
       "version_minor": 0
      },
      "text/plain": [
       "Validating: 0it [00:00, ?it/s]"
      ]
     },
     "metadata": {},
     "output_type": "display_data"
    },
    {
     "data": {
      "application/vnd.jupyter.widget-view+json": {
       "model_id": "",
       "version_major": 2,
       "version_minor": 0
      },
      "text/plain": [
       "Validating: 0it [00:00, ?it/s]"
      ]
     },
     "metadata": {},
     "output_type": "display_data"
    },
    {
     "data": {
      "application/vnd.jupyter.widget-view+json": {
       "model_id": "",
       "version_major": 2,
       "version_minor": 0
      },
      "text/plain": [
       "Validating: 0it [00:00, ?it/s]"
      ]
     },
     "metadata": {},
     "output_type": "display_data"
    },
    {
     "data": {
      "application/vnd.jupyter.widget-view+json": {
       "model_id": "",
       "version_major": 2,
       "version_minor": 0
      },
      "text/plain": [
       "Validating: 0it [00:00, ?it/s]"
      ]
     },
     "metadata": {},
     "output_type": "display_data"
    },
    {
     "data": {
      "application/vnd.jupyter.widget-view+json": {
       "model_id": "",
       "version_major": 2,
       "version_minor": 0
      },
      "text/plain": [
       "Validating: 0it [00:00, ?it/s]"
      ]
     },
     "metadata": {},
     "output_type": "display_data"
    },
    {
     "data": {
      "application/vnd.jupyter.widget-view+json": {
       "model_id": "",
       "version_major": 2,
       "version_minor": 0
      },
      "text/plain": [
       "Validating: 0it [00:00, ?it/s]"
      ]
     },
     "metadata": {},
     "output_type": "display_data"
    },
    {
     "data": {
      "application/vnd.jupyter.widget-view+json": {
       "model_id": "",
       "version_major": 2,
       "version_minor": 0
      },
      "text/plain": [
       "Validating: 0it [00:00, ?it/s]"
      ]
     },
     "metadata": {},
     "output_type": "display_data"
    },
    {
     "data": {
      "application/vnd.jupyter.widget-view+json": {
       "model_id": "",
       "version_major": 2,
       "version_minor": 0
      },
      "text/plain": [
       "Validating: 0it [00:00, ?it/s]"
      ]
     },
     "metadata": {},
     "output_type": "display_data"
    },
    {
     "name": "stderr",
     "output_type": "stream",
     "text": [
      "LOCAL_RANK: 0 - CUDA_VISIBLE_DEVICES: [0]\n"
     ]
    },
    {
     "data": {
      "application/vnd.jupyter.widget-view+json": {
       "model_id": "f44b3b28751d414fa4fad7519bca4fb2",
       "version_major": 2,
       "version_minor": 0
      },
      "text/plain": [
       "Testing: 0it [00:00, ?it/s]"
      ]
     },
     "metadata": {},
     "output_type": "display_data"
    },
    {
     "name": "stderr",
     "output_type": "stream",
     "text": [
      "  0%|                                                     | 0/3 [00:00<?, ?it/s]"
     ]
    },
    {
     "name": "stdout",
     "output_type": "stream",
     "text": [
      "--------------------------------------------------------------------------------\n",
      "DATALOADER:0 TEST RESULTS\n",
      "{'test_loss': 0.5607905983924866}\n",
      "--------------------------------------------------------------------------------\n"
     ]
    },
    {
     "name": "stderr",
     "output_type": "stream",
     "text": [
      "100%|████████████████████████████████████████████| 3/3 [07:56<00:00, 158.79s/it]\n",
      "GPU available: True, used: True\n",
      "TPU available: False, using: 0 TPU cores\n",
      "IPU available: False, using: 0 IPUs\n",
      "LOCAL_RANK: 0 - CUDA_VISIBLE_DEVICES: [0]\n",
      "\n",
      "  | Name       | Type      | Params\n",
      "-----------------------------------------\n",
      "0 | schnet     | SchNet    | 455 K \n",
      "1 | leaky_relu | LeakyReLU | 0     \n",
      "2 | sigmoid    | Sigmoid   | 0     \n",
      "-----------------------------------------\n",
      "455 K     Trainable params\n",
      "0         Non-trainable params\n",
      "455 K     Total params\n",
      "1.823     Total estimated model params size (MB)\n"
     ]
    },
    {
     "data": {
      "application/vnd.jupyter.widget-view+json": {
       "model_id": "",
       "version_major": 2,
       "version_minor": 0
      },
      "text/plain": [
       "Validation sanity check: 0it [00:00, ?it/s]"
      ]
     },
     "metadata": {},
     "output_type": "display_data"
    },
    {
     "name": "stderr",
     "output_type": "stream",
     "text": [
      "Global seed set to 42\n"
     ]
    },
    {
     "data": {
      "application/vnd.jupyter.widget-view+json": {
       "model_id": "833c2f839b4e4a89b35c0eda6f947f6d",
       "version_major": 2,
       "version_minor": 0
      },
      "text/plain": [
       "Training: 0it [00:00, ?it/s]"
      ]
     },
     "metadata": {},
     "output_type": "display_data"
    },
    {
     "data": {
      "application/vnd.jupyter.widget-view+json": {
       "model_id": "",
       "version_major": 2,
       "version_minor": 0
      },
      "text/plain": [
       "Validating: 0it [00:00, ?it/s]"
      ]
     },
     "metadata": {},
     "output_type": "display_data"
    },
    {
     "data": {
      "application/vnd.jupyter.widget-view+json": {
       "model_id": "",
       "version_major": 2,
       "version_minor": 0
      },
      "text/plain": [
       "Validating: 0it [00:00, ?it/s]"
      ]
     },
     "metadata": {},
     "output_type": "display_data"
    },
    {
     "data": {
      "application/vnd.jupyter.widget-view+json": {
       "model_id": "",
       "version_major": 2,
       "version_minor": 0
      },
      "text/plain": [
       "Validating: 0it [00:00, ?it/s]"
      ]
     },
     "metadata": {},
     "output_type": "display_data"
    },
    {
     "data": {
      "application/vnd.jupyter.widget-view+json": {
       "model_id": "",
       "version_major": 2,
       "version_minor": 0
      },
      "text/plain": [
       "Validating: 0it [00:00, ?it/s]"
      ]
     },
     "metadata": {},
     "output_type": "display_data"
    },
    {
     "data": {
      "application/vnd.jupyter.widget-view+json": {
       "model_id": "",
       "version_major": 2,
       "version_minor": 0
      },
      "text/plain": [
       "Validating: 0it [00:00, ?it/s]"
      ]
     },
     "metadata": {},
     "output_type": "display_data"
    },
    {
     "data": {
      "application/vnd.jupyter.widget-view+json": {
       "model_id": "",
       "version_major": 2,
       "version_minor": 0
      },
      "text/plain": [
       "Validating: 0it [00:00, ?it/s]"
      ]
     },
     "metadata": {},
     "output_type": "display_data"
    },
    {
     "data": {
      "application/vnd.jupyter.widget-view+json": {
       "model_id": "",
       "version_major": 2,
       "version_minor": 0
      },
      "text/plain": [
       "Validating: 0it [00:00, ?it/s]"
      ]
     },
     "metadata": {},
     "output_type": "display_data"
    },
    {
     "data": {
      "application/vnd.jupyter.widget-view+json": {
       "model_id": "",
       "version_major": 2,
       "version_minor": 0
      },
      "text/plain": [
       "Validating: 0it [00:00, ?it/s]"
      ]
     },
     "metadata": {},
     "output_type": "display_data"
    },
    {
     "data": {
      "application/vnd.jupyter.widget-view+json": {
       "model_id": "",
       "version_major": 2,
       "version_minor": 0
      },
      "text/plain": [
       "Validating: 0it [00:00, ?it/s]"
      ]
     },
     "metadata": {},
     "output_type": "display_data"
    },
    {
     "name": "stderr",
     "output_type": "stream",
     "text": [
      "LOCAL_RANK: 0 - CUDA_VISIBLE_DEVICES: [0]\n"
     ]
    },
    {
     "data": {
      "application/vnd.jupyter.widget-view+json": {
       "model_id": "a120f091293f4cf184b6bb654d5db50f",
       "version_major": 2,
       "version_minor": 0
      },
      "text/plain": [
       "Testing: 0it [00:00, ?it/s]"
      ]
     },
     "metadata": {},
     "output_type": "display_data"
    },
    {
     "name": "stderr",
     "output_type": "stream",
     "text": [
      "GPU available: True, used: True\n",
      "TPU available: False, using: 0 TPU cores\n",
      "IPU available: False, using: 0 IPUs\n",
      "LOCAL_RANK: 0 - CUDA_VISIBLE_DEVICES: [0]\n",
      "\n",
      "  | Name          | Type       | Params\n",
      "---------------------------------------------\n",
      "0 | linear_layers | Sequential | 10.5 K\n",
      "1 | leaky_relu    | LeakyReLU  | 0     \n",
      "---------------------------------------------\n",
      "10.5 K    Trainable params\n",
      "0         Non-trainable params\n",
      "10.5 K    Total params\n",
      "0.042     Total estimated model params size (MB)\n"
     ]
    },
    {
     "name": "stdout",
     "output_type": "stream",
     "text": [
      "--------------------------------------------------------------------------------\n",
      "DATALOADER:0 TEST RESULTS\n",
      "{'test_loss': 0.5194441676139832}\n",
      "--------------------------------------------------------------------------------\n"
     ]
    },
    {
     "data": {
      "application/vnd.jupyter.widget-view+json": {
       "model_id": "",
       "version_major": 2,
       "version_minor": 0
      },
      "text/plain": [
       "Validation sanity check: 0it [00:00, ?it/s]"
      ]
     },
     "metadata": {},
     "output_type": "display_data"
    },
    {
     "name": "stderr",
     "output_type": "stream",
     "text": [
      "Global seed set to 42\n"
     ]
    },
    {
     "data": {
      "application/vnd.jupyter.widget-view+json": {
       "model_id": "9f6753a750924e3e8995dd6048a237b0",
       "version_major": 2,
       "version_minor": 0
      },
      "text/plain": [
       "Training: 0it [00:00, ?it/s]"
      ]
     },
     "metadata": {},
     "output_type": "display_data"
    },
    {
     "data": {
      "application/vnd.jupyter.widget-view+json": {
       "model_id": "",
       "version_major": 2,
       "version_minor": 0
      },
      "text/plain": [
       "Validating: 0it [00:00, ?it/s]"
      ]
     },
     "metadata": {},
     "output_type": "display_data"
    },
    {
     "data": {
      "application/vnd.jupyter.widget-view+json": {
       "model_id": "",
       "version_major": 2,
       "version_minor": 0
      },
      "text/plain": [
       "Validating: 0it [00:00, ?it/s]"
      ]
     },
     "metadata": {},
     "output_type": "display_data"
    },
    {
     "data": {
      "application/vnd.jupyter.widget-view+json": {
       "model_id": "",
       "version_major": 2,
       "version_minor": 0
      },
      "text/plain": [
       "Validating: 0it [00:00, ?it/s]"
      ]
     },
     "metadata": {},
     "output_type": "display_data"
    },
    {
     "data": {
      "application/vnd.jupyter.widget-view+json": {
       "model_id": "",
       "version_major": 2,
       "version_minor": 0
      },
      "text/plain": [
       "Validating: 0it [00:00, ?it/s]"
      ]
     },
     "metadata": {},
     "output_type": "display_data"
    },
    {
     "data": {
      "application/vnd.jupyter.widget-view+json": {
       "model_id": "",
       "version_major": 2,
       "version_minor": 0
      },
      "text/plain": [
       "Validating: 0it [00:00, ?it/s]"
      ]
     },
     "metadata": {},
     "output_type": "display_data"
    },
    {
     "data": {
      "application/vnd.jupyter.widget-view+json": {
       "model_id": "",
       "version_major": 2,
       "version_minor": 0
      },
      "text/plain": [
       "Validating: 0it [00:00, ?it/s]"
      ]
     },
     "metadata": {},
     "output_type": "display_data"
    },
    {
     "name": "stderr",
     "output_type": "stream",
     "text": [
      "LOCAL_RANK: 0 - CUDA_VISIBLE_DEVICES: [0]\n"
     ]
    },
    {
     "data": {
      "application/vnd.jupyter.widget-view+json": {
       "model_id": "1208e7ec04864427a2d9be27fa6e6926",
       "version_major": 2,
       "version_minor": 0
      },
      "text/plain": [
       "Testing: 0it [00:00, ?it/s]"
      ]
     },
     "metadata": {},
     "output_type": "display_data"
    },
    {
     "name": "stderr",
     "output_type": "stream",
     "text": [
      "  0%|                                                     | 0/3 [00:00<?, ?it/s]"
     ]
    },
    {
     "name": "stdout",
     "output_type": "stream",
     "text": [
      "--------------------------------------------------------------------------------\n",
      "DATALOADER:0 TEST RESULTS\n",
      "{'test_loss': 0.5587977170944214}\n",
      "--------------------------------------------------------------------------------\n"
     ]
    },
    {
     "name": "stderr",
     "output_type": "stream",
     "text": [
      "100%|████████████████████████████████████████████| 3/3 [07:55<00:00, 158.39s/it]\n",
      "GPU available: True, used: True\n",
      "TPU available: False, using: 0 TPU cores\n",
      "IPU available: False, using: 0 IPUs\n",
      "LOCAL_RANK: 0 - CUDA_VISIBLE_DEVICES: [0]\n",
      "\n",
      "  | Name       | Type      | Params\n",
      "-----------------------------------------\n",
      "0 | schnet     | SchNet    | 455 K \n",
      "1 | leaky_relu | LeakyReLU | 0     \n",
      "2 | sigmoid    | Sigmoid   | 0     \n",
      "-----------------------------------------\n",
      "455 K     Trainable params\n",
      "0         Non-trainable params\n",
      "455 K     Total params\n",
      "1.823     Total estimated model params size (MB)\n"
     ]
    },
    {
     "data": {
      "application/vnd.jupyter.widget-view+json": {
       "model_id": "",
       "version_major": 2,
       "version_minor": 0
      },
      "text/plain": [
       "Validation sanity check: 0it [00:00, ?it/s]"
      ]
     },
     "metadata": {},
     "output_type": "display_data"
    },
    {
     "name": "stderr",
     "output_type": "stream",
     "text": [
      "Global seed set to 42\n"
     ]
    },
    {
     "data": {
      "application/vnd.jupyter.widget-view+json": {
       "model_id": "f6a5333f50b64a2b8d18cf3dc0843b85",
       "version_major": 2,
       "version_minor": 0
      },
      "text/plain": [
       "Training: 0it [00:00, ?it/s]"
      ]
     },
     "metadata": {},
     "output_type": "display_data"
    },
    {
     "data": {
      "application/vnd.jupyter.widget-view+json": {
       "model_id": "",
       "version_major": 2,
       "version_minor": 0
      },
      "text/plain": [
       "Validating: 0it [00:00, ?it/s]"
      ]
     },
     "metadata": {},
     "output_type": "display_data"
    },
    {
     "data": {
      "application/vnd.jupyter.widget-view+json": {
       "model_id": "",
       "version_major": 2,
       "version_minor": 0
      },
      "text/plain": [
       "Validating: 0it [00:00, ?it/s]"
      ]
     },
     "metadata": {},
     "output_type": "display_data"
    },
    {
     "data": {
      "application/vnd.jupyter.widget-view+json": {
       "model_id": "",
       "version_major": 2,
       "version_minor": 0
      },
      "text/plain": [
       "Validating: 0it [00:00, ?it/s]"
      ]
     },
     "metadata": {},
     "output_type": "display_data"
    },
    {
     "data": {
      "application/vnd.jupyter.widget-view+json": {
       "model_id": "",
       "version_major": 2,
       "version_minor": 0
      },
      "text/plain": [
       "Validating: 0it [00:00, ?it/s]"
      ]
     },
     "metadata": {},
     "output_type": "display_data"
    },
    {
     "data": {
      "application/vnd.jupyter.widget-view+json": {
       "model_id": "",
       "version_major": 2,
       "version_minor": 0
      },
      "text/plain": [
       "Validating: 0it [00:00, ?it/s]"
      ]
     },
     "metadata": {},
     "output_type": "display_data"
    },
    {
     "data": {
      "application/vnd.jupyter.widget-view+json": {
       "model_id": "",
       "version_major": 2,
       "version_minor": 0
      },
      "text/plain": [
       "Validating: 0it [00:00, ?it/s]"
      ]
     },
     "metadata": {},
     "output_type": "display_data"
    },
    {
     "data": {
      "application/vnd.jupyter.widget-view+json": {
       "model_id": "",
       "version_major": 2,
       "version_minor": 0
      },
      "text/plain": [
       "Validating: 0it [00:00, ?it/s]"
      ]
     },
     "metadata": {},
     "output_type": "display_data"
    },
    {
     "data": {
      "application/vnd.jupyter.widget-view+json": {
       "model_id": "",
       "version_major": 2,
       "version_minor": 0
      },
      "text/plain": [
       "Validating: 0it [00:00, ?it/s]"
      ]
     },
     "metadata": {},
     "output_type": "display_data"
    },
    {
     "data": {
      "application/vnd.jupyter.widget-view+json": {
       "model_id": "",
       "version_major": 2,
       "version_minor": 0
      },
      "text/plain": [
       "Validating: 0it [00:00, ?it/s]"
      ]
     },
     "metadata": {},
     "output_type": "display_data"
    },
    {
     "data": {
      "application/vnd.jupyter.widget-view+json": {
       "model_id": "",
       "version_major": 2,
       "version_minor": 0
      },
      "text/plain": [
       "Validating: 0it [00:00, ?it/s]"
      ]
     },
     "metadata": {},
     "output_type": "display_data"
    },
    {
     "data": {
      "application/vnd.jupyter.widget-view+json": {
       "model_id": "",
       "version_major": 2,
       "version_minor": 0
      },
      "text/plain": [
       "Validating: 0it [00:00, ?it/s]"
      ]
     },
     "metadata": {},
     "output_type": "display_data"
    },
    {
     "data": {
      "application/vnd.jupyter.widget-view+json": {
       "model_id": "",
       "version_major": 2,
       "version_minor": 0
      },
      "text/plain": [
       "Validating: 0it [00:00, ?it/s]"
      ]
     },
     "metadata": {},
     "output_type": "display_data"
    },
    {
     "data": {
      "application/vnd.jupyter.widget-view+json": {
       "model_id": "",
       "version_major": 2,
       "version_minor": 0
      },
      "text/plain": [
       "Validating: 0it [00:00, ?it/s]"
      ]
     },
     "metadata": {},
     "output_type": "display_data"
    },
    {
     "data": {
      "application/vnd.jupyter.widget-view+json": {
       "model_id": "",
       "version_major": 2,
       "version_minor": 0
      },
      "text/plain": [
       "Validating: 0it [00:00, ?it/s]"
      ]
     },
     "metadata": {},
     "output_type": "display_data"
    },
    {
     "data": {
      "application/vnd.jupyter.widget-view+json": {
       "model_id": "",
       "version_major": 2,
       "version_minor": 0
      },
      "text/plain": [
       "Validating: 0it [00:00, ?it/s]"
      ]
     },
     "metadata": {},
     "output_type": "display_data"
    },
    {
     "data": {
      "application/vnd.jupyter.widget-view+json": {
       "model_id": "",
       "version_major": 2,
       "version_minor": 0
      },
      "text/plain": [
       "Validating: 0it [00:00, ?it/s]"
      ]
     },
     "metadata": {},
     "output_type": "display_data"
    },
    {
     "name": "stderr",
     "output_type": "stream",
     "text": [
      "LOCAL_RANK: 0 - CUDA_VISIBLE_DEVICES: [0]\n"
     ]
    },
    {
     "data": {
      "application/vnd.jupyter.widget-view+json": {
       "model_id": "aafe507ecba044408aa03eddb70717f8",
       "version_major": 2,
       "version_minor": 0
      },
      "text/plain": [
       "Testing: 0it [00:00, ?it/s]"
      ]
     },
     "metadata": {},
     "output_type": "display_data"
    },
    {
     "name": "stderr",
     "output_type": "stream",
     "text": [
      "GPU available: True, used: True\n",
      "TPU available: False, using: 0 TPU cores\n",
      "IPU available: False, using: 0 IPUs\n",
      "LOCAL_RANK: 0 - CUDA_VISIBLE_DEVICES: [0]\n",
      "\n",
      "  | Name          | Type       | Params\n",
      "---------------------------------------------\n",
      "0 | linear_layers | Sequential | 10.5 K\n",
      "1 | leaky_relu    | LeakyReLU  | 0     \n",
      "---------------------------------------------\n",
      "10.5 K    Trainable params\n",
      "0         Non-trainable params\n",
      "10.5 K    Total params\n",
      "0.042     Total estimated model params size (MB)\n"
     ]
    },
    {
     "name": "stdout",
     "output_type": "stream",
     "text": [
      "--------------------------------------------------------------------------------\n",
      "DATALOADER:0 TEST RESULTS\n",
      "{'test_loss': 0.4859810173511505}\n",
      "--------------------------------------------------------------------------------\n"
     ]
    },
    {
     "data": {
      "application/vnd.jupyter.widget-view+json": {
       "model_id": "",
       "version_major": 2,
       "version_minor": 0
      },
      "text/plain": [
       "Validation sanity check: 0it [00:00, ?it/s]"
      ]
     },
     "metadata": {},
     "output_type": "display_data"
    },
    {
     "name": "stderr",
     "output_type": "stream",
     "text": [
      "Global seed set to 42\n"
     ]
    },
    {
     "data": {
      "application/vnd.jupyter.widget-view+json": {
       "model_id": "41b1ea86be3746babcc1cd188c927f1a",
       "version_major": 2,
       "version_minor": 0
      },
      "text/plain": [
       "Training: 0it [00:00, ?it/s]"
      ]
     },
     "metadata": {},
     "output_type": "display_data"
    },
    {
     "data": {
      "application/vnd.jupyter.widget-view+json": {
       "model_id": "",
       "version_major": 2,
       "version_minor": 0
      },
      "text/plain": [
       "Validating: 0it [00:00, ?it/s]"
      ]
     },
     "metadata": {},
     "output_type": "display_data"
    },
    {
     "data": {
      "application/vnd.jupyter.widget-view+json": {
       "model_id": "",
       "version_major": 2,
       "version_minor": 0
      },
      "text/plain": [
       "Validating: 0it [00:00, ?it/s]"
      ]
     },
     "metadata": {},
     "output_type": "display_data"
    },
    {
     "data": {
      "application/vnd.jupyter.widget-view+json": {
       "model_id": "",
       "version_major": 2,
       "version_minor": 0
      },
      "text/plain": [
       "Validating: 0it [00:00, ?it/s]"
      ]
     },
     "metadata": {},
     "output_type": "display_data"
    },
    {
     "data": {
      "application/vnd.jupyter.widget-view+json": {
       "model_id": "",
       "version_major": 2,
       "version_minor": 0
      },
      "text/plain": [
       "Validating: 0it [00:00, ?it/s]"
      ]
     },
     "metadata": {},
     "output_type": "display_data"
    },
    {
     "data": {
      "application/vnd.jupyter.widget-view+json": {
       "model_id": "",
       "version_major": 2,
       "version_minor": 0
      },
      "text/plain": [
       "Validating: 0it [00:00, ?it/s]"
      ]
     },
     "metadata": {},
     "output_type": "display_data"
    },
    {
     "data": {
      "application/vnd.jupyter.widget-view+json": {
       "model_id": "",
       "version_major": 2,
       "version_minor": 0
      },
      "text/plain": [
       "Validating: 0it [00:00, ?it/s]"
      ]
     },
     "metadata": {},
     "output_type": "display_data"
    },
    {
     "data": {
      "application/vnd.jupyter.widget-view+json": {
       "model_id": "",
       "version_major": 2,
       "version_minor": 0
      },
      "text/plain": [
       "Validating: 0it [00:00, ?it/s]"
      ]
     },
     "metadata": {},
     "output_type": "display_data"
    },
    {
     "data": {
      "application/vnd.jupyter.widget-view+json": {
       "model_id": "",
       "version_major": 2,
       "version_minor": 0
      },
      "text/plain": [
       "Validating: 0it [00:00, ?it/s]"
      ]
     },
     "metadata": {},
     "output_type": "display_data"
    },
    {
     "data": {
      "application/vnd.jupyter.widget-view+json": {
       "model_id": "",
       "version_major": 2,
       "version_minor": 0
      },
      "text/plain": [
       "Validating: 0it [00:00, ?it/s]"
      ]
     },
     "metadata": {},
     "output_type": "display_data"
    },
    {
     "data": {
      "application/vnd.jupyter.widget-view+json": {
       "model_id": "",
       "version_major": 2,
       "version_minor": 0
      },
      "text/plain": [
       "Validating: 0it [00:00, ?it/s]"
      ]
     },
     "metadata": {},
     "output_type": "display_data"
    },
    {
     "data": {
      "application/vnd.jupyter.widget-view+json": {
       "model_id": "",
       "version_major": 2,
       "version_minor": 0
      },
      "text/plain": [
       "Validating: 0it [00:00, ?it/s]"
      ]
     },
     "metadata": {},
     "output_type": "display_data"
    },
    {
     "data": {
      "application/vnd.jupyter.widget-view+json": {
       "model_id": "",
       "version_major": 2,
       "version_minor": 0
      },
      "text/plain": [
       "Validating: 0it [00:00, ?it/s]"
      ]
     },
     "metadata": {},
     "output_type": "display_data"
    },
    {
     "data": {
      "application/vnd.jupyter.widget-view+json": {
       "model_id": "",
       "version_major": 2,
       "version_minor": 0
      },
      "text/plain": [
       "Validating: 0it [00:00, ?it/s]"
      ]
     },
     "metadata": {},
     "output_type": "display_data"
    },
    {
     "data": {
      "application/vnd.jupyter.widget-view+json": {
       "model_id": "",
       "version_major": 2,
       "version_minor": 0
      },
      "text/plain": [
       "Validating: 0it [00:00, ?it/s]"
      ]
     },
     "metadata": {},
     "output_type": "display_data"
    },
    {
     "data": {
      "application/vnd.jupyter.widget-view+json": {
       "model_id": "",
       "version_major": 2,
       "version_minor": 0
      },
      "text/plain": [
       "Validating: 0it [00:00, ?it/s]"
      ]
     },
     "metadata": {},
     "output_type": "display_data"
    },
    {
     "data": {
      "application/vnd.jupyter.widget-view+json": {
       "model_id": "",
       "version_major": 2,
       "version_minor": 0
      },
      "text/plain": [
       "Validating: 0it [00:00, ?it/s]"
      ]
     },
     "metadata": {},
     "output_type": "display_data"
    },
    {
     "data": {
      "application/vnd.jupyter.widget-view+json": {
       "model_id": "",
       "version_major": 2,
       "version_minor": 0
      },
      "text/plain": [
       "Validating: 0it [00:00, ?it/s]"
      ]
     },
     "metadata": {},
     "output_type": "display_data"
    },
    {
     "data": {
      "application/vnd.jupyter.widget-view+json": {
       "model_id": "",
       "version_major": 2,
       "version_minor": 0
      },
      "text/plain": [
       "Validating: 0it [00:00, ?it/s]"
      ]
     },
     "metadata": {},
     "output_type": "display_data"
    },
    {
     "name": "stderr",
     "output_type": "stream",
     "text": [
      "LOCAL_RANK: 0 - CUDA_VISIBLE_DEVICES: [0]\n"
     ]
    },
    {
     "data": {
      "application/vnd.jupyter.widget-view+json": {
       "model_id": "59327342ec984d58a38d766267d70fe1",
       "version_major": 2,
       "version_minor": 0
      },
      "text/plain": [
       "Testing: 0it [00:00, ?it/s]"
      ]
     },
     "metadata": {},
     "output_type": "display_data"
    },
    {
     "name": "stdout",
     "output_type": "stream",
     "text": [
      "--------------------------------------------------------------------------------\n",
      "DATALOADER:0 TEST RESULTS\n",
      "{'test_loss': 0.5530821084976196}\n",
      "--------------------------------------------------------------------------------\n"
     ]
    }
   ],
   "source": [
    "#for split in splits :\n",
    "for split in ['protein'] :\n",
    "    \n",
    "    for iteration in range(5) :\n",
    "    \n",
    "        train_loader, val_loader, test_loader = get_loaders(split, iteration)\n",
    "        \n",
    "        experiment_name = f'{split}_split_{iteration}'\n",
    "        if not experiment_name in os.listdir('lightning_logs') :\n",
    "            litschnet = LitSchNet()\n",
    "            logger = TensorBoardLogger(save_dir=os.getcwd(), version=experiment_name, name=\"lightning_logs\")\n",
    "            trainer = pl.Trainer(logger=logger, callbacks=[EarlyStopping(monitor=\"val_loss\", patience=5)], gpus=1)\n",
    "            trainer.fit(litschnet, train_loader, val_loader)\n",
    "            trainer.test(litschnet, test_loader)\n",
    "            \n",
    "        experiment_name = f'{split}_split_{iteration}_molsize'\n",
    "        if not experiment_name in os.listdir('lightning_logs') :\n",
    "            molsize_model = MolSizeModel()\n",
    "            logger = TensorBoardLogger(save_dir=os.getcwd(), version=experiment_name, name=\"lightning_logs\")\n",
    "            trainer = pl.Trainer(logger=logger, callbacks=[EarlyStopping(monitor=\"val_loss\", patience=5)], gpus=1)\n",
    "            trainer.fit(molsize_model, train_loader, val_loader)\n",
    "            trainer.test(molsize_model, test_loader)"
   ]
  },
  {
   "cell_type": "code",
   "execution_count": null,
   "id": "52e494a9-67ef-4cad-b26b-035a5232c0b8",
   "metadata": {},
   "outputs": [],
   "source": []
  },
  {
   "cell_type": "code",
   "execution_count": 7,
   "id": "cee2eac1-c704-4536-87f2-4c5f6390b705",
   "metadata": {},
   "outputs": [
    {
     "name": "stderr",
     "output_type": "stream",
     "text": [
      "100%|█████████████████████████████████████████████| 3/3 [04:39<00:00, 93.20s/it]\n",
      "100%|█████████████████████████████████████████████| 3/3 [04:40<00:00, 93.53s/it]\n",
      "100%|█████████████████████████████████████████████| 3/3 [04:53<00:00, 97.71s/it]\n",
      "100%|█████████████████████████████████████████████| 3/3 [04:47<00:00, 95.76s/it]\n",
      "100%|█████████████████████████████████████████████| 3/3 [04:49<00:00, 96.59s/it]\n",
      "100%|█████████████████████████████████████████████| 3/3 [04:47<00:00, 95.82s/it]\n",
      "100%|█████████████████████████████████████████████| 3/3 [04:50<00:00, 96.80s/it]\n",
      "100%|█████████████████████████████████████████████| 3/3 [04:48<00:00, 96.17s/it]\n",
      "100%|█████████████████████████████████████████████| 3/3 [04:46<00:00, 95.55s/it]\n",
      "100%|█████████████████████████████████████████████| 3/3 [04:46<00:00, 95.50s/it]\n",
      "100%|████████████████████████████████████████████| 3/3 [08:07<00:00, 162.36s/it]\n",
      "100%|████████████████████████████████████████████| 3/3 [08:02<00:00, 160.68s/it]\n",
      "100%|████████████████████████████████████████████| 3/3 [08:07<00:00, 162.39s/it]\n",
      "100%|████████████████████████████████████████████| 3/3 [08:04<00:00, 161.41s/it]\n",
      "100%|████████████████████████████████████████████| 3/3 [08:05<00:00, 161.84s/it]\n"
     ]
    }
   ],
   "source": [
    "from collections import defaultdict\n",
    "n_bioactive_conformations = defaultdict(list)\n",
    "n_conformations = defaultdict(list)\n",
    "data_dir = 'data/'\n",
    "\n",
    "for split in splits :\n",
    "    \n",
    "    for iteration in range(5) :\n",
    "    \n",
    "        pdbbind_chunks = [filename for filename in os.listdir(os.path.join(data_dir, 'processed')) if filename.startswith('pdbbind')]\n",
    "        pdbbind_n_chunks = len(pdbbind_chunks)\n",
    "\n",
    "        train_datasets = []\n",
    "        val_datasets = []\n",
    "        test_datasets = []\n",
    "\n",
    "        if split in ['random', 'scaffold'] :\n",
    "\n",
    "            with open(os.path.join(data_dir, f'ligand_{split}_splits', f'train_smiles_{split}_split_{iteration}.txt'), 'r') as f :\n",
    "                train_smiles = f.readlines()\n",
    "                train_smiles = [smiles.strip() for smiles in train_smiles]\n",
    "\n",
    "            with open(os.path.join(data_dir, f'ligand_{split}_splits', f'val_smiles_{split}_split_{iteration}.txt'), 'r') as f :\n",
    "                val_smiles = f.readlines()\n",
    "                val_smiles = [smiles.strip() for smiles in val_smiles]\n",
    "\n",
    "            with open(os.path.join(data_dir, f'ligand_{split}_splits', f'test_smiles_{split}_split_{iteration}.txt'), 'r') as f :\n",
    "                test_smiles = f.readlines()\n",
    "                test_smiles = [smiles.strip() for smiles in test_smiles]\n",
    "\n",
    "            for chunk_number in tqdm(range(pdbbind_n_chunks)) :\n",
    "\n",
    "                dataset = ConfEnsembleDataset(loaded_chunk=chunk_number,\n",
    "                                              smiles_list=train_smiles)\n",
    "                train_datasets.append(dataset)\n",
    "\n",
    "                dataset = ConfEnsembleDataset(loaded_chunk=chunk_number,\n",
    "                                              smiles_list=val_smiles)\n",
    "                val_datasets.append(dataset)\n",
    "\n",
    "                dataset = ConfEnsembleDataset(loaded_chunk=chunk_number,\n",
    "                                              smiles_list=test_smiles)\n",
    "                test_datasets.append(dataset)\n",
    "\n",
    "        else : #protein split\n",
    "\n",
    "            with open(os.path.join(data_dir, 'protein_similarity_splits', f'train_pdb_protein_similarity_split_{iteration}.txt'), 'r') as f :\n",
    "                train_pdbs = f.readlines()\n",
    "                train_pdbs = [pdb.strip() for pdb in train_pdbs]\n",
    "\n",
    "            with open(os.path.join(data_dir, 'protein_similarity_splits', f'val_pdb_protein_similarity_split_{iteration}.txt'), 'r') as f :\n",
    "                val_pdbs = f.readlines()\n",
    "                val_pdbs = [pdb.strip() for pdb in val_pdbs]\n",
    "\n",
    "            with open(os.path.join(data_dir, 'protein_similarity_splits', f'test_pdb_protein_similarity_split_{iteration}.txt'), 'r') as f :\n",
    "                test_pdbs = f.readlines()\n",
    "                test_pdbs = [pdb.strip() for pdb in test_pdbs]\n",
    "\n",
    "            for chunk_number in tqdm(range(pdbbind_n_chunks)) :\n",
    "\n",
    "                dataset = ConfEnsembleDataset(loaded_chunk=chunk_number,\n",
    "                                              pdb_ids_list=train_pdbs)\n",
    "                train_datasets.append(dataset)\n",
    "\n",
    "                dataset = ConfEnsembleDataset(loaded_chunk=chunk_number,\n",
    "                                              pdb_ids_list=val_pdbs)\n",
    "                val_datasets.append(dataset)\n",
    "\n",
    "                dataset = ConfEnsembleDataset(loaded_chunk=chunk_number,\n",
    "                                              pdb_ids_list=test_pdbs)\n",
    "                test_datasets.append(dataset)\n",
    "\n",
    "        train_dataset = ConcatDataset(train_datasets)\n",
    "        val_dataset = ConcatDataset(val_datasets)\n",
    "        test_dataset = ConcatDataset(test_datasets)\n",
    "        \n",
    "        d = {\n",
    "            'train' : train_dataset,\n",
    "            'val' : val_dataset,\n",
    "            'test' : test_dataset\n",
    "        }\n",
    "        for s, dataset in d.items() :\n",
    "            n_conformations[s].append(len(dataset))\n",
    "            n_bio = 0\n",
    "            for data in dataset :\n",
    "                if data.rmsd == 0 :\n",
    "                    n_bio = n_bio + 1\n",
    "            n_bioactive_conformations[s].append(n_bio)"
   ]
  },
  {
   "cell_type": "code",
   "execution_count": 8,
   "id": "3b6f3cec-16b5-4f48-a9d6-43dd0592b31a",
   "metadata": {},
   "outputs": [
    {
     "data": {
      "text/plain": [
       "defaultdict(list,\n",
       "            {'train': [777031,\n",
       "              776369,\n",
       "              780913,\n",
       "              780115,\n",
       "              778457,\n",
       "              762491,\n",
       "              765350,\n",
       "              762653,\n",
       "              758790,\n",
       "              764836,\n",
       "              767698,\n",
       "              765616,\n",
       "              773956,\n",
       "              771798,\n",
       "              774111],\n",
       "             'val': [110778,\n",
       "              110687,\n",
       "              109384,\n",
       "              109330,\n",
       "              109139,\n",
       "              92999,\n",
       "              89046,\n",
       "              96698,\n",
       "              96347,\n",
       "              87620,\n",
       "              111143,\n",
       "              104200,\n",
       "              102109,\n",
       "              104759,\n",
       "              102038],\n",
       "             'test': [108396,\n",
       "              110217,\n",
       "              108289,\n",
       "              109775,\n",
       "              108131,\n",
       "              96219,\n",
       "              97313,\n",
       "              92358,\n",
       "              96572,\n",
       "              99253,\n",
       "              101283,\n",
       "              108352,\n",
       "              102417,\n",
       "              105115,\n",
       "              101509]})"
      ]
     },
     "execution_count": 8,
     "metadata": {},
     "output_type": "execute_result"
    }
   ],
   "source": [
    "n_conformations"
   ]
  },
  {
   "cell_type": "code",
   "execution_count": 9,
   "id": "53edb44e-acbf-470a-b203-0a71010c0b1c",
   "metadata": {},
   "outputs": [
    {
     "data": {
      "text/plain": [
       "defaultdict(list,\n",
       "            {'train': [13133,\n",
       "              13137,\n",
       "              13170,\n",
       "              13177,\n",
       "              13148,\n",
       "              12377,\n",
       "              12284,\n",
       "              12570,\n",
       "              12445,\n",
       "              12457,\n",
       "              12341,\n",
       "              12307,\n",
       "              12459,\n",
       "              12456,\n",
       "              12399],\n",
       "             'val': [2601,\n",
       "              2589,\n",
       "              2525,\n",
       "              2624,\n",
       "              2644,\n",
       "              1570,\n",
       "              1622,\n",
       "              1588,\n",
       "              1549,\n",
       "              1588,\n",
       "              1582,\n",
       "              1618,\n",
       "              1536,\n",
       "              1493,\n",
       "              1597],\n",
       "             'test': [2506,\n",
       "              2546,\n",
       "              2587,\n",
       "              2618,\n",
       "              2581,\n",
       "              1550,\n",
       "              1591,\n",
       "              1339,\n",
       "              1503,\n",
       "              1452,\n",
       "              1610,\n",
       "              1600,\n",
       "              1532,\n",
       "              1582,\n",
       "              1533]})"
      ]
     },
     "execution_count": 9,
     "metadata": {},
     "output_type": "execute_result"
    }
   ],
   "source": [
    "n_bioactive_conformations"
   ]
  }
 ],
 "metadata": {
  "kernelspec": {
   "display_name": "Python 3 (ipykernel)",
   "language": "python",
   "name": "python3"
  },
  "language_info": {
   "codemirror_mode": {
    "name": "ipython",
    "version": 3
   },
   "file_extension": ".py",
   "mimetype": "text/x-python",
   "name": "python",
   "nbconvert_exporter": "python",
   "pygments_lexer": "ipython3",
   "version": "3.7.10"
  },
  "widgets": {
   "application/vnd.jupyter.widget-state+json": {
    "state": {
     "00453355a4eb4099b75a8fa6de6c591e": {
      "model_module": "@jupyter-widgets/base",
      "model_module_version": "1.2.0",
      "model_name": "LayoutModel",
      "state": {}
     },
     "005230031c6140849638511d8c56ad62": {
      "model_module": "@jupyter-widgets/controls",
      "model_module_version": "1.5.0",
      "model_name": "DescriptionStyleModel",
      "state": {
       "description_width": ""
      }
     },
     "007ceb8673204252b5b84a4c837bf191": {
      "model_module": "@jupyter-widgets/controls",
      "model_module_version": "1.5.0",
      "model_name": "ProgressStyleModel",
      "state": {
       "description_width": ""
      }
     },
     "007d44b1422c497ea40b2f3c5a83286e": {
      "model_module": "@jupyter-widgets/base",
      "model_module_version": "1.2.0",
      "model_name": "LayoutModel",
      "state": {
       "flex": "2"
      }
     },
     "0080885f1db6455e9a719a1d3c9a5de1": {
      "model_module": "@jupyter-widgets/controls",
      "model_module_version": "1.5.0",
      "model_name": "DescriptionStyleModel",
      "state": {
       "description_width": ""
      }
     },
     "00884d7f98ef4efbb1d9320587c0e56b": {
      "model_module": "@jupyter-widgets/controls",
      "model_module_version": "1.5.0",
      "model_name": "HTMLModel",
      "state": {
       "layout": "IPY_MODEL_f4fed139cbc94441b4a28e4b3619e4e6",
       "style": "IPY_MODEL_70553ec5662c49e09ba4b9ce3593dd4f",
       "value": "Validating:  99%"
      }
     },
     "0089c2f31d6a48ae82983e1416faa616": {
      "model_module": "@jupyter-widgets/base",
      "model_module_version": "1.2.0",
      "model_name": "LayoutModel",
      "state": {}
     },
     "00a774e10ca244ab91de1e7134c401a6": {
      "model_module": "@jupyter-widgets/controls",
      "model_module_version": "1.5.0",
      "model_name": "HTMLModel",
      "state": {
       "layout": "IPY_MODEL_8491f09043b24e06b2a096376bd9f422",
       "style": "IPY_MODEL_7be32759f94b43aa99a1a8c6d474962e",
       "value": " 1636/1637 [00:16&lt;00:00, 101.22it/s]"
      }
     },
     "00c9c957f8154f4d8d867a7bf2107b93": {
      "model_module": "@jupyter-widgets/controls",
      "model_module_version": "1.5.0",
      "model_name": "HBoxModel",
      "state": {
       "children": [
        "IPY_MODEL_839224d8ff614f85abb568818dfc2a08",
        "IPY_MODEL_22b57a9c704e4c248c1b688a742cc105",
        "IPY_MODEL_337202efbeb44fd0b08dc3fc4a17bc90"
       ],
       "layout": "IPY_MODEL_1570bf187e1f49bdb20201c9979043d4"
      }
     },
     "00dab37bf23443c2ab285acfc562ee69": {
      "model_module": "@jupyter-widgets/controls",
      "model_module_version": "1.5.0",
      "model_name": "ProgressStyleModel",
      "state": {
       "description_width": ""
      }
     },
     "0106cd64ad3144148d21a4bbea61d834": {
      "model_module": "@jupyter-widgets/controls",
      "model_module_version": "1.5.0",
      "model_name": "HTMLModel",
      "state": {
       "layout": "IPY_MODEL_e4f6a33c832f4a9d9837e0d56fd0a267",
       "style": "IPY_MODEL_8b96184e219a4a6c83c90943d352f34a",
       "value": "Validating: 100%"
      }
     },
     "010c119b6211478c9667814cfb71dc29": {
      "model_module": "@jupyter-widgets/base",
      "model_module_version": "1.2.0",
      "model_name": "LayoutModel",
      "state": {}
     },
     "012770a2b35540ea93c4b7493ff09d51": {
      "model_module": "@jupyter-widgets/base",
      "model_module_version": "1.2.0",
      "model_name": "LayoutModel",
      "state": {
       "flex": "2"
      }
     },
     "01599d9b6822430d8072e8a9b0ef8f32": {
      "model_module": "@jupyter-widgets/controls",
      "model_module_version": "1.5.0",
      "model_name": "HTMLModel",
      "state": {
       "layout": "IPY_MODEL_413c9ac965044c889b1ed787c4fa0412",
       "style": "IPY_MODEL_09a97c13d0444c3e9547d7a0baaa3adf",
       "value": " 1594/1595 [00:15&lt;00:00, 106.22it/s]"
      }
     },
     "017eda850afd4959a053a488b626b18c": {
      "model_module": "@jupyter-widgets/controls",
      "model_module_version": "1.5.0",
      "model_name": "HTMLModel",
      "state": {
       "layout": "IPY_MODEL_2f9bacaa837448b99e43f4e6f3546b89",
       "style": "IPY_MODEL_3a8086f66d804700a841299af9ce124d",
       "value": "Validating: 100%"
      }
     },
     "01cc205cb3a0440ebef36d732ad6b888": {
      "model_module": "@jupyter-widgets/controls",
      "model_module_version": "1.5.0",
      "model_name": "DescriptionStyleModel",
      "state": {
       "description_width": ""
      }
     },
     "01f8f1f20b6541f98bd37dc7afac9176": {
      "model_module": "@jupyter-widgets/controls",
      "model_module_version": "1.5.0",
      "model_name": "DescriptionStyleModel",
      "state": {
       "description_width": ""
      }
     },
     "0217fefd95904c3d83ee456b6f7701c3": {
      "model_module": "@jupyter-widgets/base",
      "model_module_version": "1.2.0",
      "model_name": "LayoutModel",
      "state": {}
     },
     "023a8720eaa24625aeb854750fc8399f": {
      "model_module": "@jupyter-widgets/base",
      "model_module_version": "1.2.0",
      "model_name": "LayoutModel",
      "state": {}
     },
     "024a28c782a74c6cb8906387ad99c392": {
      "model_module": "@jupyter-widgets/controls",
      "model_module_version": "1.5.0",
      "model_name": "FloatProgressModel",
      "state": {
       "layout": "IPY_MODEL_3e019d5d2c2843838cb228c98dce6bec",
       "max": 1629,
       "style": "IPY_MODEL_863e4b1d66f54c12bf06972e971074cb",
       "value": 1629
      }
     },
     "02959845fb604d528814aea8473cb2cb": {
      "model_module": "@jupyter-widgets/base",
      "model_module_version": "1.2.0",
      "model_name": "LayoutModel",
      "state": {
       "display": "inline-flex",
       "flex_flow": "row wrap",
       "width": "100%"
      }
     },
     "029ea4c47a0742b5ad3432446d0050c6": {
      "model_module": "@jupyter-widgets/controls",
      "model_module_version": "1.5.0",
      "model_name": "DescriptionStyleModel",
      "state": {
       "description_width": ""
      }
     },
     "02d7ae2cee3e474a87bbd3359610a18c": {
      "model_module": "@jupyter-widgets/controls",
      "model_module_version": "1.5.0",
      "model_name": "ProgressStyleModel",
      "state": {
       "description_width": ""
      }
     },
     "0313d058cc3b448d9f97be0a8e8cdb2c": {
      "model_module": "@jupyter-widgets/base",
      "model_module_version": "1.2.0",
      "model_name": "LayoutModel",
      "state": {
       "flex": "2"
      }
     },
     "0313d71eb9524d6ca4947bbbb84656ec": {
      "model_module": "@jupyter-widgets/controls",
      "model_module_version": "1.5.0",
      "model_name": "DescriptionStyleModel",
      "state": {
       "description_width": ""
      }
     },
     "03236aaf89354b2ebb52a35b056f12c4": {
      "model_module": "@jupyter-widgets/controls",
      "model_module_version": "1.5.0",
      "model_name": "FloatProgressModel",
      "state": {
       "layout": "IPY_MODEL_c9acf914dca343ab8716239a20606d4e",
       "max": 1595,
       "style": "IPY_MODEL_7206d7ce52074f758be05e2991e5733d",
       "value": 1595
      }
     },
     "033a41a5174549b7a2d55f618f810c7e": {
      "model_module": "@jupyter-widgets/controls",
      "model_module_version": "1.5.0",
      "model_name": "DescriptionStyleModel",
      "state": {
       "description_width": ""
      }
     },
     "035b66dd2555460b91218e5fdc3c9c16": {
      "model_module": "@jupyter-widgets/base",
      "model_module_version": "1.2.0",
      "model_name": "LayoutModel",
      "state": {
       "display": "inline-flex",
       "flex_flow": "row wrap",
       "width": "100%"
      }
     },
     "0374da1bfa764ecbb3498d3035f16aee": {
      "model_module": "@jupyter-widgets/controls",
      "model_module_version": "1.5.0",
      "model_name": "DescriptionStyleModel",
      "state": {
       "description_width": ""
      }
     },
     "037fbd3c1ba44a808b6fe10319481c9c": {
      "model_module": "@jupyter-widgets/controls",
      "model_module_version": "1.5.0",
      "model_name": "FloatProgressModel",
      "state": {
       "layout": "IPY_MODEL_148f2a180e914513b85c5a4055b028a1",
       "max": 1637,
       "style": "IPY_MODEL_2c82454d2c5c4694891107c5dbc19b61",
       "value": 1637
      }
     },
     "038038fc1c764684afca247dbf494fe8": {
      "model_module": "@jupyter-widgets/base",
      "model_module_version": "1.2.0",
      "model_name": "LayoutModel",
      "state": {}
     },
     "03bf69628f8548ba9dab094c6b9d72cb": {
      "model_module": "@jupyter-widgets/controls",
      "model_module_version": "1.5.0",
      "model_name": "HTMLModel",
      "state": {
       "layout": "IPY_MODEL_0f7eec3877c44e2d80faf80bdd448198",
       "style": "IPY_MODEL_29fc4836264c400183df7410d4d1cd9a",
       "value": "Validating: 100%"
      }
     },
     "03c4bdb5614c469082bf02d62d8d9e37": {
      "model_module": "@jupyter-widgets/controls",
      "model_module_version": "1.5.0",
      "model_name": "HTMLModel",
      "state": {
       "layout": "IPY_MODEL_661d947c23f640fcb623750eb846ba2d",
       "style": "IPY_MODEL_12677e983dd64271bf35b53e78f0b391",
       "value": "Validating:  99%"
      }
     },
     "03cb27a21edb4817853c2aa428a84dc2": {
      "model_module": "@jupyter-widgets/base",
      "model_module_version": "1.2.0",
      "model_name": "LayoutModel",
      "state": {
       "display": "inline-flex",
       "flex_flow": "row wrap",
       "width": "100%"
      }
     },
     "03eaef8cc7c9452cb41a0042ad207361": {
      "model_module": "@jupyter-widgets/base",
      "model_module_version": "1.2.0",
      "model_name": "LayoutModel",
      "state": {
       "display": "inline-flex",
       "flex_flow": "row wrap",
       "width": "100%"
      }
     },
     "0420dcd769af4b95bcde5b19952074d5": {
      "model_module": "@jupyter-widgets/controls",
      "model_module_version": "1.5.0",
      "model_name": "ProgressStyleModel",
      "state": {
       "description_width": ""
      }
     },
     "0477168c88134183b7e5390ede1b3427": {
      "model_module": "@jupyter-widgets/base",
      "model_module_version": "1.2.0",
      "model_name": "LayoutModel",
      "state": {}
     },
     "0481263ddaf249e4996069960b45cf26": {
      "model_module": "@jupyter-widgets/controls",
      "model_module_version": "1.5.0",
      "model_name": "HTMLModel",
      "state": {
       "layout": "IPY_MODEL_2ab0076500854579a051c47d12aea6f6",
       "style": "IPY_MODEL_0f951f7916e642adab6850e6199dce54",
       "value": " 1579/1596 [00:07&lt;00:00, 229.60it/s]"
      }
     },
     "049ea96cd19a4b2397b3492f9e92988e": {
      "model_module": "@jupyter-widgets/controls",
      "model_module_version": "1.5.0",
      "model_name": "HTMLModel",
      "state": {
       "layout": "IPY_MODEL_111294758cfe44f683f9a37fe71b6de3",
       "style": "IPY_MODEL_650f11bdcabb432587a02be81fe6c359",
       "value": "Validating: 100%"
      }
     },
     "04a637725c174c78a0248f546f4f7b19": {
      "model_module": "@jupyter-widgets/base",
      "model_module_version": "1.2.0",
      "model_name": "LayoutModel",
      "state": {
       "flex": "2"
      }
     },
     "04e73878a2d445c28c7730de58305da4": {
      "model_module": "@jupyter-widgets/controls",
      "model_module_version": "1.5.0",
      "model_name": "ProgressStyleModel",
      "state": {
       "description_width": ""
      }
     },
     "050982801bfd49dd94392691d7d7b329": {
      "model_module": "@jupyter-widgets/controls",
      "model_module_version": "1.5.0",
      "model_name": "DescriptionStyleModel",
      "state": {
       "description_width": ""
      }
     },
     "0539c20137ba4670b8a67c48c518f918": {
      "model_module": "@jupyter-widgets/controls",
      "model_module_version": "1.5.0",
      "model_name": "FloatProgressModel",
      "state": {
       "layout": "IPY_MODEL_b7bb518be0904e97a7b465070bd7cc3f",
       "max": 1595,
       "style": "IPY_MODEL_d33d0c3c74524c38ae6820e3594b750a",
       "value": 1595
      }
     },
     "058d15a5a76f434dad2cfe4c80730830": {
      "model_module": "@jupyter-widgets/base",
      "model_module_version": "1.2.0",
      "model_name": "LayoutModel",
      "state": {
       "display": "inline-flex",
       "flex_flow": "row wrap",
       "width": "100%"
      }
     },
     "05ce1de80bc24530915ed8e25606a6bc": {
      "model_module": "@jupyter-widgets/base",
      "model_module_version": "1.2.0",
      "model_name": "LayoutModel",
      "state": {
       "display": "inline-flex",
       "flex_flow": "row wrap",
       "width": "100%"
      }
     },
     "06060edc641f4d9fa621283f7d1c867b": {
      "model_module": "@jupyter-widgets/controls",
      "model_module_version": "1.5.0",
      "model_name": "FloatProgressModel",
      "state": {
       "layout": "IPY_MODEL_fe307ef41997443a9240cfa32b358aff",
       "max": 2,
       "style": "IPY_MODEL_849afd48061c406296278e0a500363ea",
       "value": 2
      }
     },
     "068b679688a54a868538de9fff346c16": {
      "model_module": "@jupyter-widgets/base",
      "model_module_version": "1.2.0",
      "model_name": "LayoutModel",
      "state": {
       "display": "inline-flex",
       "flex_flow": "row wrap",
       "width": "100%"
      }
     },
     "068e6786253047aabf2e29b7d185d7f8": {
      "model_module": "@jupyter-widgets/controls",
      "model_module_version": "1.5.0",
      "model_name": "FloatProgressModel",
      "state": {
       "layout": "IPY_MODEL_be79245a37a8430ebaaea264cf8510ef",
       "max": 1596,
       "style": "IPY_MODEL_994b7c71b7a146049b1ce66884bac4e7",
       "value": 1596
      }
     },
     "06e125199a4a41b6961346fcf40d8ffd": {
      "model_module": "@jupyter-widgets/controls",
      "model_module_version": "1.5.0",
      "model_name": "ProgressStyleModel",
      "state": {
       "description_width": ""
      }
     },
     "0727c620b5b04e88ab8de28ca199c8a3": {
      "model_module": "@jupyter-widgets/controls",
      "model_module_version": "1.5.0",
      "model_name": "ProgressStyleModel",
      "state": {
       "description_width": ""
      }
     },
     "07378c31c813498399ead09df2f61d80": {
      "model_module": "@jupyter-widgets/controls",
      "model_module_version": "1.5.0",
      "model_name": "DescriptionStyleModel",
      "state": {
       "description_width": ""
      }
     },
     "0751657225994ca2a3b5962bee0a87b0": {
      "model_module": "@jupyter-widgets/base",
      "model_module_version": "1.2.0",
      "model_name": "LayoutModel",
      "state": {}
     },
     "07807fdaa32143f19d25df3d69e5dcd3": {
      "model_module": "@jupyter-widgets/controls",
      "model_module_version": "1.5.0",
      "model_name": "FloatProgressModel",
      "state": {
       "layout": "IPY_MODEL_39842ca2b1214c56a3b24e142f582b14",
       "max": 1629,
       "style": "IPY_MODEL_d8d8a9b30e0e4f87a14b806ea0ff9776",
       "value": 1629
      }
     },
     "0794c20e05684dbcb7f8343fdc9e2238": {
      "model_module": "@jupyter-widgets/controls",
      "model_module_version": "1.5.0",
      "model_name": "HTMLModel",
      "state": {
       "layout": "IPY_MODEL_9fdbd77ebe2f4c12a26b883b7437f7f9",
       "style": "IPY_MODEL_9f3e341a0a974aaca00302b1350b6e55",
       "value": " 1595/1596 [00:16&lt;00:00, 101.07it/s]"
      }
     },
     "07aae44a14ef4bc1ac2cc257cd1c5df5": {
      "model_module": "@jupyter-widgets/controls",
      "model_module_version": "1.5.0",
      "model_name": "DescriptionStyleModel",
      "state": {
       "description_width": ""
      }
     },
     "07b1cad39c3442be9bd2171afef64330": {
      "model_module": "@jupyter-widgets/controls",
      "model_module_version": "1.5.0",
      "model_name": "DescriptionStyleModel",
      "state": {
       "description_width": ""
      }
     },
     "07d9d64ddea140aaa0a23ace097c3f03": {
      "model_module": "@jupyter-widgets/base",
      "model_module_version": "1.2.0",
      "model_name": "LayoutModel",
      "state": {}
     },
     "07dc1ac6da90445e816d70e34c2ccff7": {
      "model_module": "@jupyter-widgets/controls",
      "model_module_version": "1.5.0",
      "model_name": "ProgressStyleModel",
      "state": {
       "description_width": ""
      }
     },
     "081a7824d0a744e5997569b37c8e8102": {
      "model_module": "@jupyter-widgets/base",
      "model_module_version": "1.2.0",
      "model_name": "LayoutModel",
      "state": {}
     },
     "0826fbc3a7074987a044ee2bb53d7de3": {
      "model_module": "@jupyter-widgets/base",
      "model_module_version": "1.2.0",
      "model_name": "LayoutModel",
      "state": {}
     },
     "082cc48973e1412d81d1ceb4a93f686b": {
      "model_module": "@jupyter-widgets/controls",
      "model_module_version": "1.5.0",
      "model_name": "ProgressStyleModel",
      "state": {
       "description_width": ""
      }
     },
     "082f9e3c5de948cd8a1a01cca6b51b89": {
      "model_module": "@jupyter-widgets/base",
      "model_module_version": "1.2.0",
      "model_name": "LayoutModel",
      "state": {}
     },
     "08480b248c664489a1dc16ad203e396b": {
      "model_module": "@jupyter-widgets/base",
      "model_module_version": "1.2.0",
      "model_name": "LayoutModel",
      "state": {
       "display": "inline-flex",
       "flex_flow": "row wrap",
       "width": "100%"
      }
     },
     "08aed0de706a48bdb5aaa9229cdb9cf4": {
      "model_module": "@jupyter-widgets/base",
      "model_module_version": "1.2.0",
      "model_name": "LayoutModel",
      "state": {}
     },
     "08d35341192240d993c06c150e8067e3": {
      "model_module": "@jupyter-widgets/controls",
      "model_module_version": "1.5.0",
      "model_name": "DescriptionStyleModel",
      "state": {
       "description_width": ""
      }
     },
     "08e6b3a8c8254bfdaf18e8c3438fa46a": {
      "model_module": "@jupyter-widgets/base",
      "model_module_version": "1.2.0",
      "model_name": "LayoutModel",
      "state": {}
     },
     "09236951adc9430ba05b6637500dd082": {
      "model_module": "@jupyter-widgets/base",
      "model_module_version": "1.2.0",
      "model_name": "LayoutModel",
      "state": {
       "display": "inline-flex",
       "flex_flow": "row wrap",
       "width": "100%"
      }
     },
     "0944da1fe808438cb27ee120f09ddbc5": {
      "model_module": "@jupyter-widgets/controls",
      "model_module_version": "1.5.0",
      "model_name": "DescriptionStyleModel",
      "state": {
       "description_width": ""
      }
     },
     "094a2effbc604203b90068fba397688f": {
      "model_module": "@jupyter-widgets/controls",
      "model_module_version": "1.5.0",
      "model_name": "HTMLModel",
      "state": {
       "layout": "IPY_MODEL_a4f5cde9189049929f3f1b8a7f09c5bc",
       "style": "IPY_MODEL_07378c31c813498399ead09df2f61d80",
       "value": "Epoch 17: 100%"
      }
     },
     "0971139e01954d5d90e206c3f882274d": {
      "model_module": "@jupyter-widgets/controls",
      "model_module_version": "1.5.0",
      "model_name": "FloatProgressModel",
      "state": {
       "layout": "IPY_MODEL_6f8982fdfc9c4f0682220f0706c4efe2",
       "max": 1595,
       "style": "IPY_MODEL_ab83d9d8a5114ad3a33e385033b168b9",
       "value": 1595
      }
     },
     "09a97c13d0444c3e9547d7a0baaa3adf": {
      "model_module": "@jupyter-widgets/controls",
      "model_module_version": "1.5.0",
      "model_name": "DescriptionStyleModel",
      "state": {
       "description_width": ""
      }
     },
     "09b4c6e48f384e778b3115c7ddb04596": {
      "model_module": "@jupyter-widgets/base",
      "model_module_version": "1.2.0",
      "model_name": "LayoutModel",
      "state": {
       "display": "inline-flex",
       "flex_flow": "row wrap",
       "width": "100%"
      }
     },
     "09d57993d2864b71bcf9e0a243a756a8": {
      "model_module": "@jupyter-widgets/base",
      "model_module_version": "1.2.0",
      "model_name": "LayoutModel",
      "state": {
       "display": "inline-flex",
       "flex_flow": "row wrap",
       "width": "100%"
      }
     },
     "09dc94242d6c4534adc6fe5cee387c76": {
      "model_module": "@jupyter-widgets/controls",
      "model_module_version": "1.5.0",
      "model_name": "ProgressStyleModel",
      "state": {
       "description_width": ""
      }
     },
     "0a1957c3b7b0468d8182e7c6659b3adb": {
      "model_module": "@jupyter-widgets/controls",
      "model_module_version": "1.5.0",
      "model_name": "HTMLModel",
      "state": {
       "layout": "IPY_MODEL_6a99c57554bf4f25be06cc84a19f3d3a",
       "style": "IPY_MODEL_0944da1fe808438cb27ee120f09ddbc5",
       "value": " 1583/1583 [00:15&lt;00:00, 109.63it/s]"
      }
     },
     "0a841f2ef9d444479558a4c005a83957": {
      "model_module": "@jupyter-widgets/controls",
      "model_module_version": "1.5.0",
      "model_name": "HTMLModel",
      "state": {
       "layout": "IPY_MODEL_1c3706760c72428ca3adc232e16ecb38",
       "style": "IPY_MODEL_17df9aedbcb6457a8147d95d4e793df5",
       "value": "Validating:  99%"
      }
     },
     "0a8dea4320ec489695e024e282691695": {
      "model_module": "@jupyter-widgets/controls",
      "model_module_version": "1.5.0",
      "model_name": "HTMLModel",
      "state": {
       "layout": "IPY_MODEL_0f340d1c0cbb49d4a807588f8380befc",
       "style": "IPY_MODEL_dde762b5f876450595f35f7be631c31e",
       "value": " 1623/1629 [00:15&lt;00:00, 108.61it/s]"
      }
     },
     "0a9836095d0b4397ab66701a2848d3e5": {
      "model_module": "@jupyter-widgets/controls",
      "model_module_version": "1.5.0",
      "model_name": "FloatProgressModel",
      "state": {
       "layout": "IPY_MODEL_3d9316b7b63245f2b974ddf506d62675",
       "max": 1629,
       "style": "IPY_MODEL_e90e4c605d4e49858804040ad2332117",
       "value": 1629
      }
     },
     "0aee87e588874754b4260788b5768571": {
      "model_module": "@jupyter-widgets/base",
      "model_module_version": "1.2.0",
      "model_name": "LayoutModel",
      "state": {
       "flex": "2"
      }
     },
     "0b01f76f6bf140b0b4786350c0bff5b7": {
      "model_module": "@jupyter-widgets/controls",
      "model_module_version": "1.5.0",
      "model_name": "FloatProgressModel",
      "state": {
       "layout": "IPY_MODEL_f516480c1d6a4f1e8f8872eb53eff83f",
       "max": 1629,
       "style": "IPY_MODEL_5b38b7f980e64899931f07ed8158e626",
       "value": 1629
      }
     },
     "0b2078e4105240869560b93fe3d3d8bd": {
      "model_module": "@jupyter-widgets/controls",
      "model_module_version": "1.5.0",
      "model_name": "DescriptionStyleModel",
      "state": {
       "description_width": ""
      }
     },
     "0b564042af8e49078d6da9c307093819": {
      "model_module": "@jupyter-widgets/controls",
      "model_module_version": "1.5.0",
      "model_name": "DescriptionStyleModel",
      "state": {
       "description_width": ""
      }
     },
     "0b5e809f19744906b3879f6728034745": {
      "model_module": "@jupyter-widgets/controls",
      "model_module_version": "1.5.0",
      "model_name": "FloatProgressModel",
      "state": {
       "layout": "IPY_MODEL_a9d77e5d46c449998ceaa29976b7d92e",
       "max": 1595,
       "style": "IPY_MODEL_06e125199a4a41b6961346fcf40d8ffd",
       "value": 1595
      }
     },
     "0b6175166ec3439d828a3d21e4275349": {
      "model_module": "@jupyter-widgets/controls",
      "model_module_version": "1.5.0",
      "model_name": "ProgressStyleModel",
      "state": {
       "description_width": ""
      }
     },
     "0b7550fde3fa4f4c991bb55bb28adcb1": {
      "model_module": "@jupyter-widgets/controls",
      "model_module_version": "1.5.0",
      "model_name": "HTMLModel",
      "state": {
       "layout": "IPY_MODEL_27d92db44e09411cb78ed2706557d09f",
       "style": "IPY_MODEL_eba3520eea264c74a4bebce820c049ca",
       "value": " 1596/1596 [00:16&lt;00:00, 68.76it/s]"
      }
     },
     "0ba63903633e447a852bbdd526cb04ca": {
      "model_module": "@jupyter-widgets/controls",
      "model_module_version": "1.5.0",
      "model_name": "DescriptionStyleModel",
      "state": {
       "description_width": ""
      }
     },
     "0bbc02b84de14cc88bc8ad31879eb251": {
      "model_module": "@jupyter-widgets/controls",
      "model_module_version": "1.5.0",
      "model_name": "DescriptionStyleModel",
      "state": {
       "description_width": ""
      }
     },
     "0bdb26eb5a914065a343189b464ee52f": {
      "model_module": "@jupyter-widgets/base",
      "model_module_version": "1.2.0",
      "model_name": "LayoutModel",
      "state": {
       "display": "inline-flex",
       "flex_flow": "row wrap",
       "width": "100%"
      }
     },
     "0c09ecc05bbd4142b3b96e10cf92dce6": {
      "model_module": "@jupyter-widgets/controls",
      "model_module_version": "1.5.0",
      "model_name": "ProgressStyleModel",
      "state": {
       "description_width": ""
      }
     },
     "0c0bec599a3f4afe9dadc2a66df2cc4b": {
      "model_module": "@jupyter-widgets/base",
      "model_module_version": "1.2.0",
      "model_name": "LayoutModel",
      "state": {}
     },
     "0c0fb5d7da0f42b3bd6e2f0458829207": {
      "model_module": "@jupyter-widgets/controls",
      "model_module_version": "1.5.0",
      "model_name": "DescriptionStyleModel",
      "state": {
       "description_width": ""
      }
     },
     "0c65cecf88bc467bbfe8ce16e675b800": {
      "model_module": "@jupyter-widgets/controls",
      "model_module_version": "1.5.0",
      "model_name": "HTMLModel",
      "state": {
       "layout": "IPY_MODEL_010c119b6211478c9667814cfb71dc29",
       "style": "IPY_MODEL_cee6528f596947bbb0ac826091ddf0db",
       "value": "Validating: 100%"
      }
     },
     "0c8bbbdddf984c40a6396435bc808a8c": {
      "model_module": "@jupyter-widgets/base",
      "model_module_version": "1.2.0",
      "model_name": "LayoutModel",
      "state": {
       "flex": "2"
      }
     },
     "0c9825fb606b4d62bd80597155234de5": {
      "model_module": "@jupyter-widgets/controls",
      "model_module_version": "1.5.0",
      "model_name": "ProgressStyleModel",
      "state": {
       "description_width": ""
      }
     },
     "0cc5f498b2764806a08953eae289fda0": {
      "model_module": "@jupyter-widgets/controls",
      "model_module_version": "1.5.0",
      "model_name": "HTMLModel",
      "state": {
       "layout": "IPY_MODEL_fc052fa52b5649d1acac3c4dba60655d",
       "style": "IPY_MODEL_e48fba7084d84564bd7b51cee652b622",
       "value": "Validation sanity check:  50%"
      }
     },
     "0d047010643e45abbb09d69e56960174": {
      "model_module": "@jupyter-widgets/controls",
      "model_module_version": "1.5.0",
      "model_name": "DescriptionStyleModel",
      "state": {
       "description_width": ""
      }
     },
     "0d0dc01c7c2646c280d474fc98b5711c": {
      "model_module": "@jupyter-widgets/base",
      "model_module_version": "1.2.0",
      "model_name": "LayoutModel",
      "state": {}
     },
     "0d47aa6734544f658fe5cda15b5de6cd": {
      "model_module": "@jupyter-widgets/base",
      "model_module_version": "1.2.0",
      "model_name": "LayoutModel",
      "state": {
       "display": "inline-flex",
       "flex_flow": "row wrap",
       "width": "100%"
      }
     },
     "0d4bd7b1730e4f1ba913d3c75b377807": {
      "model_module": "@jupyter-widgets/base",
      "model_module_version": "1.2.0",
      "model_name": "LayoutModel",
      "state": {}
     },
     "0d7627c71fa740fca04845ce74d90b8f": {
      "model_module": "@jupyter-widgets/controls",
      "model_module_version": "1.5.0",
      "model_name": "ProgressStyleModel",
      "state": {
       "description_width": ""
      }
     },
     "0dbc683798aa47508eb83e71fe33a19a": {
      "model_module": "@jupyter-widgets/base",
      "model_module_version": "1.2.0",
      "model_name": "LayoutModel",
      "state": {
       "display": "inline-flex",
       "flex_flow": "row wrap",
       "width": "100%"
      }
     },
     "0e2e39e079a84f8aa3cd512a59c7199a": {
      "model_module": "@jupyter-widgets/controls",
      "model_module_version": "1.5.0",
      "model_name": "DescriptionStyleModel",
      "state": {
       "description_width": ""
      }
     },
     "0e5b8b7f6b0f4cb69a75227b2f5c8e1f": {
      "model_module": "@jupyter-widgets/controls",
      "model_module_version": "1.5.0",
      "model_name": "HTMLModel",
      "state": {
       "layout": "IPY_MODEL_34d1dd31c428460c959f146582bcffe2",
       "style": "IPY_MODEL_4650f722ca444948a102214811aa2ff8",
       "value": " 1587/1587 [00:07&lt;00:00, 215.60it/s]"
      }
     },
     "0e6a26ac2f47473fb559b3ae395b8554": {
      "model_module": "@jupyter-widgets/base",
      "model_module_version": "1.2.0",
      "model_name": "LayoutModel",
      "state": {}
     },
     "0ec0952471c84bb780c84bcd5ff34bb3": {
      "model_module": "@jupyter-widgets/base",
      "model_module_version": "1.2.0",
      "model_name": "LayoutModel",
      "state": {
       "flex": "2"
      }
     },
     "0ec82e407be9428e9ac0c100204886cc": {
      "model_module": "@jupyter-widgets/base",
      "model_module_version": "1.2.0",
      "model_name": "LayoutModel",
      "state": {}
     },
     "0f1239044f6443e7a6417bf571903bd4": {
      "model_module": "@jupyter-widgets/controls",
      "model_module_version": "1.5.0",
      "model_name": "FloatProgressModel",
      "state": {
       "layout": "IPY_MODEL_7762de092b054ee98ef247e64f81f392",
       "max": 2,
       "style": "IPY_MODEL_998bbcc358c64cd4be162291a17c25dc",
       "value": 2
      }
     },
     "0f17a1d46ca94fc2a2e45a3b95283950": {
      "model_module": "@jupyter-widgets/controls",
      "model_module_version": "1.5.0",
      "model_name": "ProgressStyleModel",
      "state": {
       "description_width": ""
      }
     },
     "0f17f605df5b46e491de61a1b48f3230": {
      "model_module": "@jupyter-widgets/base",
      "model_module_version": "1.2.0",
      "model_name": "LayoutModel",
      "state": {}
     },
     "0f340d1c0cbb49d4a807588f8380befc": {
      "model_module": "@jupyter-widgets/base",
      "model_module_version": "1.2.0",
      "model_name": "LayoutModel",
      "state": {}
     },
     "0f4f50859e76477b9692875bae4ee834": {
      "model_module": "@jupyter-widgets/controls",
      "model_module_version": "1.5.0",
      "model_name": "HTMLModel",
      "state": {
       "layout": "IPY_MODEL_e832cb9abfe74bcd88f5514575402d70",
       "style": "IPY_MODEL_bb2a4b5051fa4a5897196d43b4e82846",
       "value": " 1591/1595 [00:07&lt;00:00, 221.21it/s]"
      }
     },
     "0f7eec3877c44e2d80faf80bdd448198": {
      "model_module": "@jupyter-widgets/base",
      "model_module_version": "1.2.0",
      "model_name": "LayoutModel",
      "state": {}
     },
     "0f951f7916e642adab6850e6199dce54": {
      "model_module": "@jupyter-widgets/controls",
      "model_module_version": "1.5.0",
      "model_name": "DescriptionStyleModel",
      "state": {
       "description_width": ""
      }
     },
     "10fba5d9bdea425884e857c1b294426a": {
      "model_module": "@jupyter-widgets/controls",
      "model_module_version": "1.5.0",
      "model_name": "FloatProgressModel",
      "state": {
       "bar_style": "success",
       "layout": "IPY_MODEL_3adde85f2ae04a8781e634baa75b141e",
       "max": 13697,
       "style": "IPY_MODEL_7bb587dc12b34d12ba5bedd731d90107",
       "value": 13697
      }
     },
     "110b8abeb569427b8a6e989f12d21f66": {
      "model_module": "@jupyter-widgets/controls",
      "model_module_version": "1.5.0",
      "model_name": "FloatProgressModel",
      "state": {
       "layout": "IPY_MODEL_6ae8cc4f56164b419aefad3b7ef19fff",
       "max": 1737,
       "style": "IPY_MODEL_3f10d92ffb914b3a855373128d8e2b2b",
       "value": 1737
      }
     },
     "111294758cfe44f683f9a37fe71b6de3": {
      "model_module": "@jupyter-widgets/base",
      "model_module_version": "1.2.0",
      "model_name": "LayoutModel",
      "state": {}
     },
     "1112b18fd54d4b87a1595885449510c8": {
      "model_module": "@jupyter-widgets/controls",
      "model_module_version": "1.5.0",
      "model_name": "HTMLModel",
      "state": {
       "layout": "IPY_MODEL_aafeb09a843044a0ab9b00254f9f17b3",
       "style": "IPY_MODEL_a1bd0e43f21840298859915758f84339",
       "value": " 1722/1737 [00:07&lt;00:00, 226.84it/s]"
      }
     },
     "111cc5fe70664ff0b74c19d55baa1f4d": {
      "model_module": "@jupyter-widgets/controls",
      "model_module_version": "1.5.0",
      "model_name": "DescriptionStyleModel",
      "state": {
       "description_width": ""
      }
     },
     "114a9008469f444586c8ec05495d2576": {
      "model_module": "@jupyter-widgets/base",
      "model_module_version": "1.2.0",
      "model_name": "LayoutModel",
      "state": {
       "display": "inline-flex",
       "flex_flow": "row wrap",
       "width": "100%"
      }
     },
     "116e6ddc18f6491e9625fc3b3f85ce01": {
      "model_module": "@jupyter-widgets/base",
      "model_module_version": "1.2.0",
      "model_name": "LayoutModel",
      "state": {}
     },
     "11ac17fc64374ba19b4d19236d27a80a": {
      "model_module": "@jupyter-widgets/controls",
      "model_module_version": "1.5.0",
      "model_name": "HTMLModel",
      "state": {
       "layout": "IPY_MODEL_c2639bcae3ac4904838e6b16cd7a0fc1",
       "style": "IPY_MODEL_0bbc02b84de14cc88bc8ad31879eb251",
       "value": " 1578/1596 [00:07&lt;00:00, 224.11it/s]"
      }
     },
     "11bda64ebf034bab8b6372ea0ec931d6": {
      "model_module": "@jupyter-widgets/base",
      "model_module_version": "1.2.0",
      "model_name": "LayoutModel",
      "state": {}
     },
     "11cabcc3e398415b9e91637b035805ee": {
      "model_module": "@jupyter-widgets/controls",
      "model_module_version": "1.5.0",
      "model_name": "HTMLModel",
      "state": {
       "layout": "IPY_MODEL_0d4bd7b1730e4f1ba913d3c75b377807",
       "style": "IPY_MODEL_dd706d759cbb42cd8c893dee5df7f17b",
       "value": "Validating: 100%"
      }
     },
     "1208e7ec04864427a2d9be27fa6e6926": {
      "model_module": "@jupyter-widgets/controls",
      "model_module_version": "1.5.0",
      "model_name": "HBoxModel",
      "state": {
       "children": [
        "IPY_MODEL_c406bcc5f00544a6a38b91ac88851708",
        "IPY_MODEL_fd608e79637e4a928f8a40eae92570db",
        "IPY_MODEL_f3751d8678d449ccb76233617e129af1"
       ],
       "layout": "IPY_MODEL_8223585de73f4f41a6640139fec435ed"
      }
     },
     "1214b4c0ac384eeb992ed1c03560ff47": {
      "model_module": "@jupyter-widgets/controls",
      "model_module_version": "1.5.0",
      "model_name": "FloatProgressModel",
      "state": {
       "layout": "IPY_MODEL_d216c2f280e7454792ffea5631b1f852",
       "max": 1596,
       "style": "IPY_MODEL_779d54b48b7948d6933512e31f579d8a",
       "value": 1596
      }
     },
     "126729ac27934c82a2ee9f522f7a0503": {
      "model_module": "@jupyter-widgets/base",
      "model_module_version": "1.2.0",
      "model_name": "LayoutModel",
      "state": {
       "display": "inline-flex",
       "flex_flow": "row wrap",
       "width": "100%"
      }
     },
     "12677e983dd64271bf35b53e78f0b391": {
      "model_module": "@jupyter-widgets/controls",
      "model_module_version": "1.5.0",
      "model_name": "DescriptionStyleModel",
      "state": {
       "description_width": ""
      }
     },
     "12b8051c6fba4e0a82bec0dca66e8d70": {
      "model_module": "@jupyter-widgets/base",
      "model_module_version": "1.2.0",
      "model_name": "LayoutModel",
      "state": {
       "display": "inline-flex",
       "flex_flow": "row wrap",
       "width": "100%"
      }
     },
     "1335ec3d80134a3dbdd8f4c9ee5511e9": {
      "model_module": "@jupyter-widgets/base",
      "model_module_version": "1.2.0",
      "model_name": "LayoutModel",
      "state": {}
     },
     "13398dbe962b4e80999246264b897783": {
      "model_module": "@jupyter-widgets/controls",
      "model_module_version": "1.5.0",
      "model_name": "ProgressStyleModel",
      "state": {
       "description_width": ""
      }
     },
     "137f3d4ccbd541d09e17abe9504c6bb8": {
      "model_module": "@jupyter-widgets/base",
      "model_module_version": "1.2.0",
      "model_name": "LayoutModel",
      "state": {
       "flex": "2"
      }
     },
     "13f914908c774933870981d8d92bc046": {
      "model_module": "@jupyter-widgets/controls",
      "model_module_version": "1.5.0",
      "model_name": "FloatProgressModel",
      "state": {
       "layout": "IPY_MODEL_aaf14602ec4147a09361ff23788855b7",
       "max": 1595,
       "style": "IPY_MODEL_dd57e96feb69471d8f98773dc4a791ee",
       "value": 1595
      }
     },
     "13ff37d83bb349a28bb51b6206f99af1": {
      "model_module": "@jupyter-widgets/controls",
      "model_module_version": "1.5.0",
      "model_name": "HTMLModel",
      "state": {
       "layout": "IPY_MODEL_6bd333ff78a74c51bf7d77ce715bbe38",
       "style": "IPY_MODEL_63098a3e9fa044f191b6a475a8bc7ad5",
       "value": "Validating: 100%"
      }
     },
     "14286c79b6b647b3b75092a6b2c8c9c1": {
      "model_module": "@jupyter-widgets/controls",
      "model_module_version": "1.5.0",
      "model_name": "ProgressStyleModel",
      "state": {
       "description_width": ""
      }
     },
     "142b266ce3734ce086bb708b13e0b64a": {
      "model_module": "@jupyter-widgets/controls",
      "model_module_version": "1.5.0",
      "model_name": "DescriptionStyleModel",
      "state": {
       "description_width": ""
      }
     },
     "1441f2e85dd74e40bac8d5211b6089d1": {
      "model_module": "@jupyter-widgets/base",
      "model_module_version": "1.2.0",
      "model_name": "LayoutModel",
      "state": {}
     },
     "148f2a180e914513b85c5a4055b028a1": {
      "model_module": "@jupyter-widgets/base",
      "model_module_version": "1.2.0",
      "model_name": "LayoutModel",
      "state": {
       "flex": "2"
      }
     },
     "14a63f30cdc746a2bbfd64fec7448a67": {
      "model_module": "@jupyter-widgets/controls",
      "model_module_version": "1.5.0",
      "model_name": "DescriptionStyleModel",
      "state": {
       "description_width": ""
      }
     },
     "14aab292153344bb98e818fe125be435": {
      "model_module": "@jupyter-widgets/controls",
      "model_module_version": "1.5.0",
      "model_name": "ProgressStyleModel",
      "state": {
       "description_width": ""
      }
     },
     "14c9e3536e1144bfa37a7e17db8fc15e": {
      "model_module": "@jupyter-widgets/base",
      "model_module_version": "1.2.0",
      "model_name": "LayoutModel",
      "state": {
       "display": "inline-flex",
       "flex_flow": "row wrap",
       "width": "100%"
      }
     },
     "14db8142a8a9455ba9d7e980bf0f8006": {
      "model_module": "@jupyter-widgets/base",
      "model_module_version": "1.2.0",
      "model_name": "LayoutModel",
      "state": {
       "flex": "2"
      }
     },
     "152f80992c6a49cb84816623d8ac5b22": {
      "model_module": "@jupyter-widgets/controls",
      "model_module_version": "1.5.0",
      "model_name": "HBoxModel",
      "state": {
       "children": [
        "IPY_MODEL_e695f887016146d19bdccf5623e2f686",
        "IPY_MODEL_c8501250c0684794a4a2504468cbb0d5",
        "IPY_MODEL_8f5d90b97c144bf8a83a59ea5e9ae4d4"
       ],
       "layout": "IPY_MODEL_83b0162817b347eb8e21673d78d8a472"
      }
     },
     "1570bf187e1f49bdb20201c9979043d4": {
      "model_module": "@jupyter-widgets/base",
      "model_module_version": "1.2.0",
      "model_name": "LayoutModel",
      "state": {
       "display": "inline-flex",
       "flex_flow": "row wrap",
       "width": "100%"
      }
     },
     "157c928606254cd4bc89f9a155ddbfa5": {
      "model_module": "@jupyter-widgets/base",
      "model_module_version": "1.2.0",
      "model_name": "LayoutModel",
      "state": {
       "display": "inline-flex",
       "flex_flow": "row wrap",
       "width": "100%"
      }
     },
     "15c29cc1ca994460b046657dc21b571d": {
      "model_module": "@jupyter-widgets/controls",
      "model_module_version": "1.5.0",
      "model_name": "DescriptionStyleModel",
      "state": {
       "description_width": ""
      }
     },
     "16a6b8994d5247ca99cceaad71a3680f": {
      "model_module": "@jupyter-widgets/controls",
      "model_module_version": "1.5.0",
      "model_name": "FloatProgressModel",
      "state": {
       "layout": "IPY_MODEL_e9f1c15b805d41cfa402b2c08bddfa57",
       "max": 1637,
       "style": "IPY_MODEL_d9e05dd26b054a1b8980a77033411fb1",
       "value": 1637
      }
     },
     "16b7902dd91245919ecee9d72a8c59fb": {
      "model_module": "@jupyter-widgets/base",
      "model_module_version": "1.2.0",
      "model_name": "LayoutModel",
      "state": {}
     },
     "172d7e09e4cc42bd99e8c19cf63e11b9": {
      "model_module": "@jupyter-widgets/controls",
      "model_module_version": "1.5.0",
      "model_name": "DescriptionStyleModel",
      "state": {
       "description_width": ""
      }
     },
     "17308f2e4bad4229814244417903f900": {
      "model_module": "@jupyter-widgets/controls",
      "model_module_version": "1.5.0",
      "model_name": "FloatProgressModel",
      "state": {
       "layout": "IPY_MODEL_2469e47a982c470aab9917b6e23a5d63",
       "max": 1595,
       "style": "IPY_MODEL_9b2b4a28efbf47f99c475dd53bcdf966",
       "value": 1595
      }
     },
     "17c9684b658248128a730140e41ea717": {
      "model_module": "@jupyter-widgets/controls",
      "model_module_version": "1.5.0",
      "model_name": "DescriptionStyleModel",
      "state": {
       "description_width": ""
      }
     },
     "17df9aedbcb6457a8147d95d4e793df5": {
      "model_module": "@jupyter-widgets/controls",
      "model_module_version": "1.5.0",
      "model_name": "DescriptionStyleModel",
      "state": {
       "description_width": ""
      }
     },
     "181a47a5228044efb28b67e6ac0febc4": {
      "model_module": "@jupyter-widgets/controls",
      "model_module_version": "1.5.0",
      "model_name": "HTMLModel",
      "state": {
       "layout": "IPY_MODEL_dc40c2cb91114db28e63e65f46b5c926",
       "style": "IPY_MODEL_7592a18936a449c1a97b2a5ef3ecd0ed",
       "value": "Validating: 100%"
      }
     },
     "18267b76f37648e58a8c9a593dbfaef3": {
      "model_module": "@jupyter-widgets/controls",
      "model_module_version": "1.5.0",
      "model_name": "ProgressStyleModel",
      "state": {
       "description_width": ""
      }
     },
     "189e816785074d938a325343608db9f8": {
      "model_module": "@jupyter-widgets/controls",
      "model_module_version": "1.5.0",
      "model_name": "DescriptionStyleModel",
      "state": {
       "description_width": ""
      }
     },
     "18adfc257e9140fb8cbffddb05c2aa5e": {
      "model_module": "@jupyter-widgets/base",
      "model_module_version": "1.2.0",
      "model_name": "LayoutModel",
      "state": {}
     },
     "18c7acf8977d491a95e70578c6f2c2e6": {
      "model_module": "@jupyter-widgets/controls",
      "model_module_version": "1.5.0",
      "model_name": "ProgressStyleModel",
      "state": {
       "description_width": ""
      }
     },
     "18d3f4c391fa41c3bd7130c4c7a4ebeb": {
      "model_module": "@jupyter-widgets/controls",
      "model_module_version": "1.5.0",
      "model_name": "DescriptionStyleModel",
      "state": {
       "description_width": ""
      }
     },
     "18f133357fc24eaa8723a97260388d94": {
      "model_module": "@jupyter-widgets/controls",
      "model_module_version": "1.5.0",
      "model_name": "HBoxModel",
      "state": {
       "children": [
        "IPY_MODEL_ea1cb588af0845898c4555e885726933",
        "IPY_MODEL_8033ef3af78c49209c2f6c816df59388",
        "IPY_MODEL_edf3201727014d4398aaf13f0fd57c58"
       ],
       "layout": "IPY_MODEL_e967b8afabcd49d8be5ca384a4d39e64"
      }
     },
     "18f62d39c66643488b53a97d6ce14c32": {
      "model_module": "@jupyter-widgets/base",
      "model_module_version": "1.2.0",
      "model_name": "LayoutModel",
      "state": {
       "display": "inline-flex",
       "flex_flow": "row wrap",
       "width": "100%"
      }
     },
     "1952392bbbe94538b90e4d17260848aa": {
      "model_module": "@jupyter-widgets/base",
      "model_module_version": "1.2.0",
      "model_name": "LayoutModel",
      "state": {}
     },
     "19747e48c1094f8f8692dfe7586a19a0": {
      "model_module": "@jupyter-widgets/controls",
      "model_module_version": "1.5.0",
      "model_name": "FloatProgressModel",
      "state": {
       "bar_style": "success",
       "layout": "IPY_MODEL_734a011ec620418298aa871ae6000f1d",
       "max": 13691,
       "style": "IPY_MODEL_1bfbb12d2f5d4010940b5b714674562f",
       "value": 13691
      }
     },
     "197e71df7f394214b2043cb4d2d16be6": {
      "model_module": "@jupyter-widgets/base",
      "model_module_version": "1.2.0",
      "model_name": "LayoutModel",
      "state": {}
     },
     "19b31a1cd4b94409806758590192915f": {
      "model_module": "@jupyter-widgets/base",
      "model_module_version": "1.2.0",
      "model_name": "LayoutModel",
      "state": {}
     },
     "1a277778d1f14baba565392b5a3b73d8": {
      "model_module": "@jupyter-widgets/base",
      "model_module_version": "1.2.0",
      "model_name": "LayoutModel",
      "state": {}
     },
     "1a2fd6a5403a47508e385f9fa267e28d": {
      "model_module": "@jupyter-widgets/controls",
      "model_module_version": "1.5.0",
      "model_name": "DescriptionStyleModel",
      "state": {
       "description_width": ""
      }
     },
     "1ac3b23d66d043529f3526ea54bc4067": {
      "model_module": "@jupyter-widgets/controls",
      "model_module_version": "1.5.0",
      "model_name": "DescriptionStyleModel",
      "state": {
       "description_width": ""
      }
     },
     "1acba9308a9a461e99f41b9a7012359c": {
      "model_module": "@jupyter-widgets/base",
      "model_module_version": "1.2.0",
      "model_name": "LayoutModel",
      "state": {
       "display": "inline-flex",
       "flex_flow": "row wrap",
       "width": "100%"
      }
     },
     "1ae843b7fe8c4098ab869d756f536108": {
      "model_module": "@jupyter-widgets/controls",
      "model_module_version": "1.5.0",
      "model_name": "HTMLModel",
      "state": {
       "layout": "IPY_MODEL_8a36b804f383435686a56e93a24e03f2",
       "style": "IPY_MODEL_51559a6e10244cf3805d8ec28fd8c399",
       "value": " 1585/1595 [00:15&lt;00:00, 103.67it/s]"
      }
     },
     "1b21bd4e325d4b919543f6144b2cdd8e": {
      "model_module": "@jupyter-widgets/controls",
      "model_module_version": "1.5.0",
      "model_name": "HTMLModel",
      "state": {
       "layout": "IPY_MODEL_817f57dd366840ad8b944a35ced035b3",
       "style": "IPY_MODEL_af865d81034242d7bc57055b8e1fc227",
       "value": " 1/2 [00:00&lt;00:00,  2.37it/s]"
      }
     },
     "1b8975098b8f478888861ad86b18f8a2": {
      "model_module": "@jupyter-widgets/controls",
      "model_module_version": "1.5.0",
      "model_name": "HTMLModel",
      "state": {
       "layout": "IPY_MODEL_74734954ad194f3aa7c5a721f09ae26e",
       "style": "IPY_MODEL_ae90eead71e840b29f960adbfd9714de",
       "value": "Validating:  99%"
      }
     },
     "1b9b59293f7c4435ad4577047f21aeb6": {
      "model_module": "@jupyter-widgets/controls",
      "model_module_version": "1.5.0",
      "model_name": "ProgressStyleModel",
      "state": {
       "description_width": ""
      }
     },
     "1bc6ef21e81b4b5084fd7ff6bc805038": {
      "model_module": "@jupyter-widgets/base",
      "model_module_version": "1.2.0",
      "model_name": "LayoutModel",
      "state": {
       "display": "inline-flex",
       "flex_flow": "row wrap",
       "width": "100%"
      }
     },
     "1bfbb12d2f5d4010940b5b714674562f": {
      "model_module": "@jupyter-widgets/controls",
      "model_module_version": "1.5.0",
      "model_name": "ProgressStyleModel",
      "state": {
       "description_width": ""
      }
     },
     "1c3706760c72428ca3adc232e16ecb38": {
      "model_module": "@jupyter-widgets/base",
      "model_module_version": "1.2.0",
      "model_name": "LayoutModel",
      "state": {}
     },
     "1ca770401339450b97dd748d1c9d6c55": {
      "model_module": "@jupyter-widgets/controls",
      "model_module_version": "1.5.0",
      "model_name": "HTMLModel",
      "state": {
       "layout": "IPY_MODEL_cedefdc9bc46497e8e1c70d9cd8682c5",
       "style": "IPY_MODEL_d3696212201241faa9e6f12281780b6d",
       "value": " 1584/1596 [00:07&lt;00:00, 206.55it/s]"
      }
     },
     "1cde1864ba21471baa6d1a3315ae1139": {
      "model_module": "@jupyter-widgets/controls",
      "model_module_version": "1.5.0",
      "model_name": "HTMLModel",
      "state": {
       "layout": "IPY_MODEL_4f792ebb3f294ee0ba64c9fc2494dae0",
       "style": "IPY_MODEL_77ada27fba92435ca09147e4f835eb9a",
       "value": " 1586/1596 [00:07&lt;00:00, 227.76it/s]"
      }
     },
     "1d63d17d1d0448e9b3b4d07cd21a0abd": {
      "model_module": "@jupyter-widgets/controls",
      "model_module_version": "1.5.0",
      "model_name": "HTMLModel",
      "state": {
       "layout": "IPY_MODEL_4c9c141f7e754859a92b881b6b659a45",
       "style": "IPY_MODEL_f51ebede1ec5461299a8a08bb1f617ac",
       "value": " 1/2 [00:00&lt;00:00,  1.51it/s]"
      }
     },
     "1d746418df554e2da9443c7d7b4ef104": {
      "model_module": "@jupyter-widgets/controls",
      "model_module_version": "1.5.0",
      "model_name": "DescriptionStyleModel",
      "state": {
       "description_width": ""
      }
     },
     "1d9e99ca6d3341d0a2c4266096c155fd": {
      "model_module": "@jupyter-widgets/controls",
      "model_module_version": "1.5.0",
      "model_name": "HTMLModel",
      "state": {
       "layout": "IPY_MODEL_d2dc3b7e66a24175be4ad7d7a53e8c1f",
       "style": "IPY_MODEL_e9ef50f1556c4ceab82534b59821eee4",
       "value": "Validating:  99%"
      }
     },
     "1dfad305bf5e428cbe780f75ba8c554b": {
      "model_module": "@jupyter-widgets/controls",
      "model_module_version": "1.5.0",
      "model_name": "HTMLModel",
      "state": {
       "layout": "IPY_MODEL_ed8359ce725146f1a9205ebfc927e78e",
       "style": "IPY_MODEL_b725161b564f4f02bff60174fea581ac",
       "value": "Validating:  99%"
      }
     },
     "1e1ab8588ae642e7a81563e86fc88003": {
      "model_module": "@jupyter-widgets/base",
      "model_module_version": "1.2.0",
      "model_name": "LayoutModel",
      "state": {}
     },
     "1e803e6347ec4f3a94c5b420159d8475": {
      "model_module": "@jupyter-widgets/controls",
      "model_module_version": "1.5.0",
      "model_name": "ProgressStyleModel",
      "state": {
       "description_width": ""
      }
     },
     "1e8d197a1f7546eb95502b2fc4a39122": {
      "model_module": "@jupyter-widgets/controls",
      "model_module_version": "1.5.0",
      "model_name": "HTMLModel",
      "state": {
       "layout": "IPY_MODEL_90f9fa4ccccf49e1b5f01888490a24f4",
       "style": "IPY_MODEL_9c863b1f344244b89f3fec750472667f",
       "value": " 1623/1629 [00:07&lt;00:00, 227.15it/s]"
      }
     },
     "1e95360845534138b5e221027095605c": {
      "model_module": "@jupyter-widgets/controls",
      "model_module_version": "1.5.0",
      "model_name": "HTMLModel",
      "state": {
       "layout": "IPY_MODEL_28ada51351df484cb8832a95cd21ac9e",
       "style": "IPY_MODEL_3005f17b580845d78260d1d0e4c8b961",
       "value": "Validating:  99%"
      }
     },
     "1eae0c5a41db4b3e8e6b0f1881632ddf": {
      "model_module": "@jupyter-widgets/controls",
      "model_module_version": "1.5.0",
      "model_name": "DescriptionStyleModel",
      "state": {
       "description_width": ""
      }
     },
     "1eaed2bedc884885ae21a053aa39a400": {
      "model_module": "@jupyter-widgets/base",
      "model_module_version": "1.2.0",
      "model_name": "LayoutModel",
      "state": {
       "flex": "2"
      }
     },
     "1ec70c131dcc4746a726f33f4151feab": {
      "model_module": "@jupyter-widgets/base",
      "model_module_version": "1.2.0",
      "model_name": "LayoutModel",
      "state": {}
     },
     "1ed1b1e031374502bfe1c5c23d2fe61d": {
      "model_module": "@jupyter-widgets/controls",
      "model_module_version": "1.5.0",
      "model_name": "HTMLModel",
      "state": {
       "layout": "IPY_MODEL_b3d51f3846ee43fdb82ca9267a33aa15",
       "style": "IPY_MODEL_a4c1f3d5c09f4d96b498b8926e071c45",
       "value": " 1587/1596 [00:16&lt;00:00, 94.10it/s]"
      }
     },
     "1f58ea05ea2742bdbb68b12d708d63e7": {
      "model_module": "@jupyter-widgets/controls",
      "model_module_version": "1.5.0",
      "model_name": "DescriptionStyleModel",
      "state": {
       "description_width": ""
      }
     },
     "1f6c88ddfda742118657ff05ca013544": {
      "model_module": "@jupyter-widgets/base",
      "model_module_version": "1.2.0",
      "model_name": "LayoutModel",
      "state": {}
     },
     "1f73325202aa47168ef567506835608e": {
      "model_module": "@jupyter-widgets/base",
      "model_module_version": "1.2.0",
      "model_name": "LayoutModel",
      "state": {}
     },
     "1f820b6f825b4b5285218d8ad55347ec": {
      "model_module": "@jupyter-widgets/controls",
      "model_module_version": "1.5.0",
      "model_name": "HTMLModel",
      "state": {
       "layout": "IPY_MODEL_c47f2e8579f2466fad79f9fcad83933a",
       "style": "IPY_MODEL_b7f3ee007fb84bd4a9addede257ee2be",
       "value": "Validating: 100%"
      }
     },
     "1fad4f069c254339802df7ef0f442de8": {
      "model_module": "@jupyter-widgets/controls",
      "model_module_version": "1.5.0",
      "model_name": "HTMLModel",
      "state": {
       "layout": "IPY_MODEL_4be1316bdf04441988fb4400571b07ba",
       "style": "IPY_MODEL_915817a84f5a48d19e84bf9705c223af",
       "value": "Validating: 100%"
      }
     },
     "1fe06ee959ed4f058ac069708e7eb200": {
      "model_module": "@jupyter-widgets/controls",
      "model_module_version": "1.5.0",
      "model_name": "FloatProgressModel",
      "state": {
       "layout": "IPY_MODEL_275b388e04034d898b59ef80e08b9358",
       "max": 1637,
       "style": "IPY_MODEL_49a1f2b83ab5404fb2f4aa49296e7788",
       "value": 1637
      }
     },
     "2022720c2ab34c41be1b4b61d82115d1": {
      "model_module": "@jupyter-widgets/base",
      "model_module_version": "1.2.0",
      "model_name": "LayoutModel",
      "state": {}
     },
     "20256aae444c42aa9c9fe9289fc452b9": {
      "model_module": "@jupyter-widgets/base",
      "model_module_version": "1.2.0",
      "model_name": "LayoutModel",
      "state": {
       "display": "inline-flex",
       "flex_flow": "row wrap",
       "width": "100%"
      }
     },
     "2027262b379841eebbbdae9d9d4cdfaa": {
      "model_module": "@jupyter-widgets/controls",
      "model_module_version": "1.5.0",
      "model_name": "ProgressStyleModel",
      "state": {
       "description_width": ""
      }
     },
     "2028b7f630054653b38e674211e01030": {
      "model_module": "@jupyter-widgets/base",
      "model_module_version": "1.2.0",
      "model_name": "LayoutModel",
      "state": {}
     },
     "20350db1fe98468f94d0565d90cc7860": {
      "model_module": "@jupyter-widgets/controls",
      "model_module_version": "1.5.0",
      "model_name": "HTMLModel",
      "state": {
       "layout": "IPY_MODEL_694030eb76ac442ba6435fe8311a2e67",
       "style": "IPY_MODEL_d6915ae792304e59b7483305b6fc2eeb",
       "value": " 1584/1595 [00:07&lt;00:00, 218.53it/s]"
      }
     },
     "2058cb23e0224357a7c00b1660a0c08d": {
      "model_module": "@jupyter-widgets/base",
      "model_module_version": "1.2.0",
      "model_name": "LayoutModel",
      "state": {
       "display": "inline-flex",
       "flex_flow": "row wrap",
       "width": "100%"
      }
     },
     "2081436f9975454f88cb6e927087449d": {
      "model_module": "@jupyter-widgets/controls",
      "model_module_version": "1.5.0",
      "model_name": "HTMLModel",
      "state": {
       "layout": "IPY_MODEL_a43c485a4d40469d831766df352874c6",
       "style": "IPY_MODEL_7dbddf00f4284645967f499099389643",
       "value": "Validation sanity check:  50%"
      }
     },
     "2084caf6585840a395d75951b73b1777": {
      "model_module": "@jupyter-widgets/base",
      "model_module_version": "1.2.0",
      "model_name": "LayoutModel",
      "state": {
       "display": "inline-flex",
       "flex_flow": "row wrap",
       "width": "100%"
      }
     },
     "20b00c7ebcd14726928b3e3c3ca738fb": {
      "model_module": "@jupyter-widgets/controls",
      "model_module_version": "1.5.0",
      "model_name": "DescriptionStyleModel",
      "state": {
       "description_width": ""
      }
     },
     "20b878dfba7643ed945e84b7a6dfbc79": {
      "model_module": "@jupyter-widgets/base",
      "model_module_version": "1.2.0",
      "model_name": "LayoutModel",
      "state": {
       "display": "inline-flex",
       "flex_flow": "row wrap",
       "width": "100%"
      }
     },
     "20bf4152f0a04b5f9c80b5a1851eade6": {
      "model_module": "@jupyter-widgets/controls",
      "model_module_version": "1.5.0",
      "model_name": "FloatProgressModel",
      "state": {
       "layout": "IPY_MODEL_96fda2d8e077445f9b3ed187bfca7121",
       "max": 1595,
       "style": "IPY_MODEL_434d2fd8a6714d70ae4a29ca51f5feb7",
       "value": 1595
      }
     },
     "21033a68b8134361852259e01d8dcfad": {
      "model_module": "@jupyter-widgets/controls",
      "model_module_version": "1.5.0",
      "model_name": "DescriptionStyleModel",
      "state": {
       "description_width": ""
      }
     },
     "217bc14b5a824ae4a3defe8d5eaf4c90": {
      "model_module": "@jupyter-widgets/base",
      "model_module_version": "1.2.0",
      "model_name": "LayoutModel",
      "state": {
       "display": "inline-flex",
       "flex_flow": "row wrap",
       "width": "100%"
      }
     },
     "21826584122e4904856350ff7f785c61": {
      "model_module": "@jupyter-widgets/controls",
      "model_module_version": "1.5.0",
      "model_name": "ProgressStyleModel",
      "state": {
       "description_width": ""
      }
     },
     "218b9ef8d4264905ab44321f6f8f4ed7": {
      "model_module": "@jupyter-widgets/controls",
      "model_module_version": "1.5.0",
      "model_name": "ProgressStyleModel",
      "state": {
       "description_width": ""
      }
     },
     "21b54ade45324a26818aaaf5dbd26a2b": {
      "model_module": "@jupyter-widgets/base",
      "model_module_version": "1.2.0",
      "model_name": "LayoutModel",
      "state": {}
     },
     "2223763d4c1849309788bba2558190c6": {
      "model_module": "@jupyter-widgets/controls",
      "model_module_version": "1.5.0",
      "model_name": "FloatProgressModel",
      "state": {
       "layout": "IPY_MODEL_cdfeb18b5c804ef7bfc3e831563e57f4",
       "max": 1595,
       "style": "IPY_MODEL_6f6e1c8664174764a9dc634e930835e0",
       "value": 1595
      }
     },
     "229aeaa42b15452986422707817e5198": {
      "model_module": "@jupyter-widgets/controls",
      "model_module_version": "1.5.0",
      "model_name": "ProgressStyleModel",
      "state": {
       "description_width": ""
      }
     },
     "229cf34d28744df5aa476b0bd1be5df8": {
      "model_module": "@jupyter-widgets/controls",
      "model_module_version": "1.5.0",
      "model_name": "HTMLModel",
      "state": {
       "layout": "IPY_MODEL_f5982bd45a5644c08dd43d802a4af4e7",
       "style": "IPY_MODEL_f5dce029b57647f3b511b93068c7b915",
       "value": " 1593/1595 [00:15&lt;00:00, 107.87it/s]"
      }
     },
     "22b0539daaf04fc69701b2e2a542b6ab": {
      "model_module": "@jupyter-widgets/controls",
      "model_module_version": "1.5.0",
      "model_name": "HTMLModel",
      "state": {
       "layout": "IPY_MODEL_bb7e67f599384d98b84d9d6677ec3c53",
       "style": "IPY_MODEL_2f276acb01bf41d38c425dbe522a3e35",
       "value": " 1735/1737 [00:18&lt;00:00, 95.69it/s]"
      }
     },
     "22b57a9c704e4c248c1b688a742cc105": {
      "model_module": "@jupyter-widgets/controls",
      "model_module_version": "1.5.0",
      "model_name": "FloatProgressModel",
      "state": {
       "bar_style": "success",
       "layout": "IPY_MODEL_cbd9bb514d2f4169b23805f2c29426b0",
       "max": 13733,
       "style": "IPY_MODEL_4582aa6f638f40ca9a1d3fe4840f29d6",
       "value": 13733
      }
     },
     "22bdaa1813d94aa4a3f84add18d4e612": {
      "model_module": "@jupyter-widgets/controls",
      "model_module_version": "1.5.0",
      "model_name": "DescriptionStyleModel",
      "state": {
       "description_width": ""
      }
     },
     "2341c2821b714ec1a07c61c1871510c2": {
      "model_module": "@jupyter-widgets/base",
      "model_module_version": "1.2.0",
      "model_name": "LayoutModel",
      "state": {
       "display": "inline-flex",
       "flex_flow": "row wrap",
       "width": "100%"
      }
     },
     "234d5d1eea4b4a11991c368ba7e04f94": {
      "model_module": "@jupyter-widgets/controls",
      "model_module_version": "1.5.0",
      "model_name": "DescriptionStyleModel",
      "state": {
       "description_width": ""
      }
     },
     "238586eac0e740ca9b1ad0bd8153ad8a": {
      "model_module": "@jupyter-widgets/controls",
      "model_module_version": "1.5.0",
      "model_name": "DescriptionStyleModel",
      "state": {
       "description_width": ""
      }
     },
     "2385d2af37b54fe8abd5578f3fb85a23": {
      "model_module": "@jupyter-widgets/controls",
      "model_module_version": "1.5.0",
      "model_name": "HTMLModel",
      "state": {
       "layout": "IPY_MODEL_9eb6638b433a4855bcd578c3e1ba4cff",
       "style": "IPY_MODEL_4a3ef36700104ec29f5d3f238bcaa54b",
       "value": "Validating:  99%"
      }
     },
     "238a27e655604ac093ed427639b23b0a": {
      "model_module": "@jupyter-widgets/controls",
      "model_module_version": "1.5.0",
      "model_name": "ProgressStyleModel",
      "state": {
       "description_width": ""
      }
     },
     "23a6b7912889439c9f8174571f0d0f2a": {
      "model_module": "@jupyter-widgets/controls",
      "model_module_version": "1.5.0",
      "model_name": "HTMLModel",
      "state": {
       "layout": "IPY_MODEL_e16ecb3a80b24db498736ccf8e5ea390",
       "style": "IPY_MODEL_6529e838def2489986ae016282e70e8e",
       "value": "Validating:  99%"
      }
     },
     "23f4bb2716484635bb12b0f28aa86ca5": {
      "model_module": "@jupyter-widgets/base",
      "model_module_version": "1.2.0",
      "model_name": "LayoutModel",
      "state": {}
     },
     "241ae18184104fad874000bac24a6297": {
      "model_module": "@jupyter-widgets/controls",
      "model_module_version": "1.5.0",
      "model_name": "HTMLModel",
      "state": {
       "layout": "IPY_MODEL_dacd46f1279844caae6876bd226d647d",
       "style": "IPY_MODEL_b0695bdba5c54609abbb09469968547e",
       "value": " 1592/1595 [00:15&lt;00:00, 105.70it/s]"
      }
     },
     "242f623bc21e42e1b9fdef0a464417ee": {
      "model_module": "@jupyter-widgets/controls",
      "model_module_version": "1.5.0",
      "model_name": "FloatProgressModel",
      "state": {
       "layout": "IPY_MODEL_869845d4dd6a4a0eba75f4d0bb2f1919",
       "max": 1595,
       "style": "IPY_MODEL_b856ab1a590e404ab76b70b957912c55",
       "value": 1595
      }
     },
     "24540e6c36aa431c9c88d8b6cfc22203": {
      "model_module": "@jupyter-widgets/base",
      "model_module_version": "1.2.0",
      "model_name": "LayoutModel",
      "state": {
       "flex": "2"
      }
     },
     "2469e47a982c470aab9917b6e23a5d63": {
      "model_module": "@jupyter-widgets/base",
      "model_module_version": "1.2.0",
      "model_name": "LayoutModel",
      "state": {
       "flex": "2"
      }
     },
     "24959f3370a54e0d84ceb648d4e4bd69": {
      "model_module": "@jupyter-widgets/controls",
      "model_module_version": "1.5.0",
      "model_name": "DescriptionStyleModel",
      "state": {
       "description_width": ""
      }
     },
     "2515ddef18c74f249608efe3624132ca": {
      "model_module": "@jupyter-widgets/base",
      "model_module_version": "1.2.0",
      "model_name": "LayoutModel",
      "state": {}
     },
     "251a3f1de4b845e28e797687a6c7e508": {
      "model_module": "@jupyter-widgets/controls",
      "model_module_version": "1.5.0",
      "model_name": "FloatProgressModel",
      "state": {
       "layout": "IPY_MODEL_62947d95b3f24ed181da17a793c90d6d",
       "max": 1595,
       "style": "IPY_MODEL_db77c55fe23e4295941a70a1719ef64c",
       "value": 1595
      }
     },
     "251c40a646c74534872c2e8349e0b75e": {
      "model_module": "@jupyter-widgets/controls",
      "model_module_version": "1.5.0",
      "model_name": "FloatProgressModel",
      "state": {
       "layout": "IPY_MODEL_28a17d5378b44d6d893ea685ccb8e47e",
       "max": 2,
       "style": "IPY_MODEL_ff54de98a74a458f99f654e5810eaa20",
       "value": 2
      }
     },
     "25232fefee9249229a46521490857a2b": {
      "model_module": "@jupyter-widgets/controls",
      "model_module_version": "1.5.0",
      "model_name": "HTMLModel",
      "state": {
       "layout": "IPY_MODEL_cd7a0adda3f442888be45642e75cfdfa",
       "style": "IPY_MODEL_1eae0c5a41db4b3e8e6b0f1881632ddf",
       "value": " 1/2 [00:00&lt;00:00,  2.46it/s]"
      }
     },
     "254ff4863702495ab06fd25507ac6ee1": {
      "model_module": "@jupyter-widgets/controls",
      "model_module_version": "1.5.0",
      "model_name": "FloatProgressModel",
      "state": {
       "layout": "IPY_MODEL_ab29247d4318484e877fbd89f78afe9c",
       "max": 1629,
       "style": "IPY_MODEL_36133348d2c04cf493b7e108d6e3682a",
       "value": 1629
      }
     },
     "25911c8f069e4dadb10aefd68cc28c5a": {
      "model_module": "@jupyter-widgets/base",
      "model_module_version": "1.2.0",
      "model_name": "LayoutModel",
      "state": {}
     },
     "25adb265b0024689b9458c74792a40e9": {
      "model_module": "@jupyter-widgets/controls",
      "model_module_version": "1.5.0",
      "model_name": "DescriptionStyleModel",
      "state": {
       "description_width": ""
      }
     },
     "269232c14fd945afbe5748a22c23a496": {
      "model_module": "@jupyter-widgets/controls",
      "model_module_version": "1.5.0",
      "model_name": "ProgressStyleModel",
      "state": {
       "description_width": ""
      }
     },
     "269cd26397fc40998b6dc359f7147d06": {
      "model_module": "@jupyter-widgets/base",
      "model_module_version": "1.2.0",
      "model_name": "LayoutModel",
      "state": {}
     },
     "26dd257199cf415482e46535c862243c": {
      "model_module": "@jupyter-widgets/controls",
      "model_module_version": "1.5.0",
      "model_name": "HTMLModel",
      "state": {
       "layout": "IPY_MODEL_23f4bb2716484635bb12b0f28aa86ca5",
       "style": "IPY_MODEL_ee5523dbd67f41e38d72bba930300386",
       "value": "Validating:  99%"
      }
     },
     "27034e61b37748a1884882c12394006a": {
      "model_module": "@jupyter-widgets/controls",
      "model_module_version": "1.5.0",
      "model_name": "ProgressStyleModel",
      "state": {
       "description_width": ""
      }
     },
     "27167d033f3645ee88e6899dddd77bcc": {
      "model_module": "@jupyter-widgets/controls",
      "model_module_version": "1.5.0",
      "model_name": "ProgressStyleModel",
      "state": {
       "description_width": ""
      }
     },
     "275a88b9c3434713abca772eb25be546": {
      "model_module": "@jupyter-widgets/controls",
      "model_module_version": "1.5.0",
      "model_name": "DescriptionStyleModel",
      "state": {
       "description_width": ""
      }
     },
     "275b388e04034d898b59ef80e08b9358": {
      "model_module": "@jupyter-widgets/base",
      "model_module_version": "1.2.0",
      "model_name": "LayoutModel",
      "state": {
       "flex": "2"
      }
     },
     "27d92db44e09411cb78ed2706557d09f": {
      "model_module": "@jupyter-widgets/base",
      "model_module_version": "1.2.0",
      "model_name": "LayoutModel",
      "state": {}
     },
     "27fbe345f9894234837269e0c7ab4b73": {
      "model_module": "@jupyter-widgets/controls",
      "model_module_version": "1.5.0",
      "model_name": "HTMLModel",
      "state": {
       "layout": "IPY_MODEL_30c99b5f00a84fc7848268c4c7257f89",
       "style": "IPY_MODEL_d2a034d5aebf4684bb0ccc997f567b3c",
       "value": " 1577/1595 [00:07&lt;00:00, 225.81it/s]"
      }
     },
     "285bb6becd784e23a219638324d7e2fd": {
      "model_module": "@jupyter-widgets/controls",
      "model_module_version": "1.5.0",
      "model_name": "ProgressStyleModel",
      "state": {
       "description_width": ""
      }
     },
     "28a17d5378b44d6d893ea685ccb8e47e": {
      "model_module": "@jupyter-widgets/base",
      "model_module_version": "1.2.0",
      "model_name": "LayoutModel",
      "state": {
       "flex": "2"
      }
     },
     "28abd8b76e874f068a6a5e82e669a945": {
      "model_module": "@jupyter-widgets/controls",
      "model_module_version": "1.5.0",
      "model_name": "HTMLModel",
      "state": {
       "layout": "IPY_MODEL_6014b955b9fa4b92a6459b2fa0ce8850",
       "style": "IPY_MODEL_e306adedaf524f6b97bbcf5a0f4a0fd3",
       "value": "Epoch 16: 100%"
      }
     },
     "28ada51351df484cb8832a95cd21ac9e": {
      "model_module": "@jupyter-widgets/base",
      "model_module_version": "1.2.0",
      "model_name": "LayoutModel",
      "state": {}
     },
     "28e3bc9694e84f0a9dc03ee575284d96": {
      "model_module": "@jupyter-widgets/controls",
      "model_module_version": "1.5.0",
      "model_name": "HTMLModel",
      "state": {
       "layout": "IPY_MODEL_a332f38e6365413084f7cb25729b40ae",
       "style": "IPY_MODEL_3a21529105b9459ab3b8eb2fab4ce4f2",
       "value": "Validating: 100%"
      }
     },
     "293b79ee8e134cd2850b80645de2e8d5": {
      "model_module": "@jupyter-widgets/controls",
      "model_module_version": "1.5.0",
      "model_name": "HTMLModel",
      "state": {
       "layout": "IPY_MODEL_30b11be60bcf48aeb4b5f3b8a8cc9ade",
       "style": "IPY_MODEL_238586eac0e740ca9b1ad0bd8153ad8a",
       "value": "Validation sanity check:  50%"
      }
     },
     "294c5407b5a74bedb63b2a23ac391be6": {
      "model_module": "@jupyter-widgets/base",
      "model_module_version": "1.2.0",
      "model_name": "LayoutModel",
      "state": {}
     },
     "299df8dc6f654230a8307ec693cfeca4": {
      "model_module": "@jupyter-widgets/controls",
      "model_module_version": "1.5.0",
      "model_name": "FloatProgressModel",
      "state": {
       "layout": "IPY_MODEL_3faee403054142e483f4dbef3998c029",
       "max": 1596,
       "style": "IPY_MODEL_0c09ecc05bbd4142b3b96e10cf92dce6",
       "value": 1596
      }
     },
     "29b859461b074fb38ff1abf50185318b": {
      "model_module": "@jupyter-widgets/controls",
      "model_module_version": "1.5.0",
      "model_name": "DescriptionStyleModel",
      "state": {
       "description_width": ""
      }
     },
     "29e8489726524a4b869e0abb3f220c37": {
      "model_module": "@jupyter-widgets/base",
      "model_module_version": "1.2.0",
      "model_name": "LayoutModel",
      "state": {
       "display": "inline-flex",
       "flex_flow": "row wrap",
       "width": "100%"
      }
     },
     "29fc4836264c400183df7410d4d1cd9a": {
      "model_module": "@jupyter-widgets/controls",
      "model_module_version": "1.5.0",
      "model_name": "DescriptionStyleModel",
      "state": {
       "description_width": ""
      }
     },
     "2a0657c397a9477989bcf3812f2e6553": {
      "model_module": "@jupyter-widgets/controls",
      "model_module_version": "1.5.0",
      "model_name": "DescriptionStyleModel",
      "state": {
       "description_width": ""
      }
     },
     "2a0c2ca832b246db9e7d4da81dbe5664": {
      "model_module": "@jupyter-widgets/base",
      "model_module_version": "1.2.0",
      "model_name": "LayoutModel",
      "state": {}
     },
     "2a1280bc5fea482f97e79af3912a73ef": {
      "model_module": "@jupyter-widgets/controls",
      "model_module_version": "1.5.0",
      "model_name": "HTMLModel",
      "state": {
       "layout": "IPY_MODEL_efa295b6d6a442b1bbbf652a520299d3",
       "style": "IPY_MODEL_21033a68b8134361852259e01d8dcfad",
       "value": "Validating:  99%"
      }
     },
     "2a3af20ce39d4799bf914d514a9f105f": {
      "model_module": "@jupyter-widgets/controls",
      "model_module_version": "1.5.0",
      "model_name": "DescriptionStyleModel",
      "state": {
       "description_width": ""
      }
     },
     "2a4f9cb9206f477ea1ff1f594e33f421": {
      "model_module": "@jupyter-widgets/base",
      "model_module_version": "1.2.0",
      "model_name": "LayoutModel",
      "state": {}
     },
     "2a79993e226045499e15cf7bcd9a385d": {
      "model_module": "@jupyter-widgets/base",
      "model_module_version": "1.2.0",
      "model_name": "LayoutModel",
      "state": {
       "flex": "2"
      }
     },
     "2ab0076500854579a051c47d12aea6f6": {
      "model_module": "@jupyter-widgets/base",
      "model_module_version": "1.2.0",
      "model_name": "LayoutModel",
      "state": {}
     },
     "2acfa622c6f14cbdbb8fb288405e7098": {
      "model_module": "@jupyter-widgets/base",
      "model_module_version": "1.2.0",
      "model_name": "LayoutModel",
      "state": {
       "display": "inline-flex",
       "flex_flow": "row wrap",
       "width": "100%"
      }
     },
     "2b0ec28251a64a95b51eee57cd0e1787": {
      "model_module": "@jupyter-widgets/controls",
      "model_module_version": "1.5.0",
      "model_name": "HTMLModel",
      "state": {
       "layout": "IPY_MODEL_637100eb33d84e2caa60f2de160f89f6",
       "style": "IPY_MODEL_6b1aca51a56341459cdc627222bf1269",
       "value": "Testing: 100%"
      }
     },
     "2b144dd16cd8428696d047930da0f133": {
      "model_module": "@jupyter-widgets/base",
      "model_module_version": "1.2.0",
      "model_name": "LayoutModel",
      "state": {}
     },
     "2b255d45f92545d9911c9202b543e7b8": {
      "model_module": "@jupyter-widgets/base",
      "model_module_version": "1.2.0",
      "model_name": "LayoutModel",
      "state": {}
     },
     "2b280c9f31004082aed0b365d00437fd": {
      "model_module": "@jupyter-widgets/controls",
      "model_module_version": "1.5.0",
      "model_name": "HTMLModel",
      "state": {
       "layout": "IPY_MODEL_0c0bec599a3f4afe9dadc2a66df2cc4b",
       "style": "IPY_MODEL_949fac28eb5c44f8a9a9928689efd192",
       "value": "Validating: 100%"
      }
     },
     "2bfbd81c0bf4482891f3568a574864df": {
      "model_module": "@jupyter-widgets/base",
      "model_module_version": "1.2.0",
      "model_name": "LayoutModel",
      "state": {}
     },
     "2c0b11a8d6a84de2ab953bb94cd40dc3": {
      "model_module": "@jupyter-widgets/base",
      "model_module_version": "1.2.0",
      "model_name": "LayoutModel",
      "state": {
       "display": "inline-flex",
       "flex_flow": "row wrap",
       "width": "100%"
      }
     },
     "2c56f4fff2e64149a4809022299afd13": {
      "model_module": "@jupyter-widgets/base",
      "model_module_version": "1.2.0",
      "model_name": "LayoutModel",
      "state": {}
     },
     "2c77f4a987b748288469855e05172035": {
      "model_module": "@jupyter-widgets/controls",
      "model_module_version": "1.5.0",
      "model_name": "FloatProgressModel",
      "state": {
       "layout": "IPY_MODEL_668ae5a6bb3049aea1086acc2bd9ec05",
       "max": 2,
       "style": "IPY_MODEL_082cc48973e1412d81d1ceb4a93f686b",
       "value": 2
      }
     },
     "2c82454d2c5c4694891107c5dbc19b61": {
      "model_module": "@jupyter-widgets/controls",
      "model_module_version": "1.5.0",
      "model_name": "ProgressStyleModel",
      "state": {
       "description_width": ""
      }
     },
     "2cb358d9259a4ae5a6726334dea24675": {
      "model_module": "@jupyter-widgets/base",
      "model_module_version": "1.2.0",
      "model_name": "LayoutModel",
      "state": {}
     },
     "2d1441f8e42e44a284833c7eb8d10fce": {
      "model_module": "@jupyter-widgets/controls",
      "model_module_version": "1.5.0",
      "model_name": "ProgressStyleModel",
      "state": {
       "description_width": ""
      }
     },
     "2d1c855a2dc94ee9b464dd5c5a6111ad": {
      "model_module": "@jupyter-widgets/controls",
      "model_module_version": "1.5.0",
      "model_name": "DescriptionStyleModel",
      "state": {
       "description_width": ""
      }
     },
     "2db500936b914e4388e5b3c57f95ab2e": {
      "model_module": "@jupyter-widgets/base",
      "model_module_version": "1.2.0",
      "model_name": "LayoutModel",
      "state": {
       "flex": "2"
      }
     },
     "2df4b4e19e2d473386f955b00a7bc370": {
      "model_module": "@jupyter-widgets/controls",
      "model_module_version": "1.5.0",
      "model_name": "ProgressStyleModel",
      "state": {
       "description_width": ""
      }
     },
     "2e5b9bcdc38a493380fdd3d71d5c74cb": {
      "model_module": "@jupyter-widgets/controls",
      "model_module_version": "1.5.0",
      "model_name": "HTMLModel",
      "state": {
       "layout": "IPY_MODEL_caa2f57d0caa47fa898f1f312f75bea5",
       "style": "IPY_MODEL_6620583e26c54fecb8de3a8dfd468104",
       "value": " 1643/1643 [00:16&lt;00:00, 104.80it/s]"
      }
     },
     "2e6349e4d9a845a28d0b8320b8bfe6ad": {
      "model_module": "@jupyter-widgets/base",
      "model_module_version": "1.2.0",
      "model_name": "LayoutModel",
      "state": {}
     },
     "2e940990e6fb4368a166e41440dd22d5": {
      "model_module": "@jupyter-widgets/controls",
      "model_module_version": "1.5.0",
      "model_name": "DescriptionStyleModel",
      "state": {
       "description_width": ""
      }
     },
     "2e9a93dc4dc04436b2c94235323378cc": {
      "model_module": "@jupyter-widgets/controls",
      "model_module_version": "1.5.0",
      "model_name": "DescriptionStyleModel",
      "state": {
       "description_width": ""
      }
     },
     "2eb6e7b72af54e04a170c3d967b0ce18": {
      "model_module": "@jupyter-widgets/controls",
      "model_module_version": "1.5.0",
      "model_name": "FloatProgressModel",
      "state": {
       "layout": "IPY_MODEL_833da9f61e4c47c38a2fbaad35f6a37c",
       "max": 1637,
       "style": "IPY_MODEL_04e73878a2d445c28c7730de58305da4",
       "value": 1637
      }
     },
     "2ec8d53c63624f418e6367d118c95118": {
      "model_module": "@jupyter-widgets/base",
      "model_module_version": "1.2.0",
      "model_name": "LayoutModel",
      "state": {
       "display": "inline-flex",
       "flex_flow": "row wrap",
       "width": "100%"
      }
     },
     "2f0a4a9bee4d445f83acc361bc1ff21c": {
      "model_module": "@jupyter-widgets/controls",
      "model_module_version": "1.5.0",
      "model_name": "HTMLModel",
      "state": {
       "layout": "IPY_MODEL_2a4f9cb9206f477ea1ff1f594e33f421",
       "style": "IPY_MODEL_81fd77529333485384ad58b6879b7e24",
       "value": " 1629/1629 [00:07&lt;00:00, 153.97it/s]"
      }
     },
     "2f276acb01bf41d38c425dbe522a3e35": {
      "model_module": "@jupyter-widgets/controls",
      "model_module_version": "1.5.0",
      "model_name": "DescriptionStyleModel",
      "state": {
       "description_width": ""
      }
     },
     "2f68ca4e59474623911f8a592fa25703": {
      "model_module": "@jupyter-widgets/base",
      "model_module_version": "1.2.0",
      "model_name": "LayoutModel",
      "state": {
       "flex": "2"
      }
     },
     "2f7bb3c5da4945ac9e5b7547d3246d94": {
      "model_module": "@jupyter-widgets/controls",
      "model_module_version": "1.5.0",
      "model_name": "ProgressStyleModel",
      "state": {
       "description_width": ""
      }
     },
     "2f822ed61e6a45198a3bbba2fe55db11": {
      "model_module": "@jupyter-widgets/base",
      "model_module_version": "1.2.0",
      "model_name": "LayoutModel",
      "state": {}
     },
     "2f95cafcd66649278c7de21086ca8f08": {
      "model_module": "@jupyter-widgets/controls",
      "model_module_version": "1.5.0",
      "model_name": "DescriptionStyleModel",
      "state": {
       "description_width": ""
      }
     },
     "2f9bacaa837448b99e43f4e6f3546b89": {
      "model_module": "@jupyter-widgets/base",
      "model_module_version": "1.2.0",
      "model_name": "LayoutModel",
      "state": {}
     },
     "2ff266aa26104d61b3d443dbe94b4b19": {
      "model_module": "@jupyter-widgets/controls",
      "model_module_version": "1.5.0",
      "model_name": "ProgressStyleModel",
      "state": {
       "description_width": ""
      }
     },
     "3005f17b580845d78260d1d0e4c8b961": {
      "model_module": "@jupyter-widgets/controls",
      "model_module_version": "1.5.0",
      "model_name": "DescriptionStyleModel",
      "state": {
       "description_width": ""
      }
     },
     "30b11be60bcf48aeb4b5f3b8a8cc9ade": {
      "model_module": "@jupyter-widgets/base",
      "model_module_version": "1.2.0",
      "model_name": "LayoutModel",
      "state": {}
     },
     "30c99b5f00a84fc7848268c4c7257f89": {
      "model_module": "@jupyter-widgets/base",
      "model_module_version": "1.2.0",
      "model_name": "LayoutModel",
      "state": {}
     },
     "31898b9b3e0d4f9ebe2737c92fc2480c": {
      "model_module": "@jupyter-widgets/controls",
      "model_module_version": "1.5.0",
      "model_name": "FloatProgressModel",
      "state": {
       "layout": "IPY_MODEL_007d44b1422c497ea40b2f3c5a83286e",
       "max": 1637,
       "style": "IPY_MODEL_352f1fbbe5f745a2a31a907de352e1fc",
       "value": 1637
      }
     },
     "31d0726994e34a66bbac046302fa275c": {
      "model_module": "@jupyter-widgets/controls",
      "model_module_version": "1.5.0",
      "model_name": "DescriptionStyleModel",
      "state": {
       "description_width": ""
      }
     },
     "322c6e4c8f744f50ac7912381d0e84bb": {
      "model_module": "@jupyter-widgets/base",
      "model_module_version": "1.2.0",
      "model_name": "LayoutModel",
      "state": {}
     },
     "32795e16acb945099f33861e89d5e33f": {
      "model_module": "@jupyter-widgets/base",
      "model_module_version": "1.2.0",
      "model_name": "LayoutModel",
      "state": {
       "flex": "2"
      }
     },
     "327aba9f5c534affbaeebf464a1302a7": {
      "model_module": "@jupyter-widgets/base",
      "model_module_version": "1.2.0",
      "model_name": "LayoutModel",
      "state": {
       "flex": "2"
      }
     },
     "328fd501afeb460695b23381714f9cde": {
      "model_module": "@jupyter-widgets/base",
      "model_module_version": "1.2.0",
      "model_name": "LayoutModel",
      "state": {
       "flex": "2"
      }
     },
     "32e50abf59e84b469c26b0f8dc906b2d": {
      "model_module": "@jupyter-widgets/controls",
      "model_module_version": "1.5.0",
      "model_name": "FloatProgressModel",
      "state": {
       "layout": "IPY_MODEL_8c06896004b24cfca3fa906cc83fef2f",
       "max": 1737,
       "style": "IPY_MODEL_0727c620b5b04e88ab8de28ca199c8a3",
       "value": 1737
      }
     },
     "32ec08fab2f1437589d4115e23bff577": {
      "model_module": "@jupyter-widgets/controls",
      "model_module_version": "1.5.0",
      "model_name": "HBoxModel",
      "state": {
       "children": [
        "IPY_MODEL_db014ce7fdcb4a71b8233eb66c9fcc31",
        "IPY_MODEL_a76c0186162a403591d46de465fc9b02",
        "IPY_MODEL_d97498281c1b49c480d9b08957e6ae6d"
       ],
       "layout": "IPY_MODEL_438901fdb61c415c813b254a32731356"
      }
     },
     "33035e406c5c4b82a4308ef52dd2ce63": {
      "model_module": "@jupyter-widgets/controls",
      "model_module_version": "1.5.0",
      "model_name": "HTMLModel",
      "state": {
       "layout": "IPY_MODEL_59dd9643a291483b97c410311f841dee",
       "style": "IPY_MODEL_afd229d238904d3aa68322fbcce1d600",
       "value": " 1633/1637 [00:16&lt;00:00, 102.13it/s]"
      }
     },
     "333f6ff6f317414ebfc6a186ebffa5c8": {
      "model_module": "@jupyter-widgets/controls",
      "model_module_version": "1.5.0",
      "model_name": "DescriptionStyleModel",
      "state": {
       "description_width": ""
      }
     },
     "334f9c61b5f74f4295565e3e2f6a977b": {
      "model_module": "@jupyter-widgets/controls",
      "model_module_version": "1.5.0",
      "model_name": "HTMLModel",
      "state": {
       "layout": "IPY_MODEL_322c6e4c8f744f50ac7912381d0e84bb",
       "style": "IPY_MODEL_744cdf3934544d26a70fbd7e51f8092c",
       "value": " 1592/1596 [00:16&lt;00:00, 98.16it/s]"
      }
     },
     "336e8564b78f4a6dbb09edf16b28a372": {
      "model_module": "@jupyter-widgets/controls",
      "model_module_version": "1.5.0",
      "model_name": "HTMLModel",
      "state": {
       "layout": "IPY_MODEL_75b139f1a852489eb648f9bf13cc8d97",
       "style": "IPY_MODEL_82beeb7e12104932b8ed7bcf6475680b",
       "value": " 1609/1629 [00:07&lt;00:00, 228.40it/s]"
      }
     },
     "337202efbeb44fd0b08dc3fc4a17bc90": {
      "model_module": "@jupyter-widgets/controls",
      "model_module_version": "1.5.0",
      "model_name": "HTMLModel",
      "state": {
       "layout": "IPY_MODEL_614eb4416e5d424d8cacf8797f4b452f",
       "style": "IPY_MODEL_50894e5d838547aa89bfe97a1bb5f7ba",
       "value": " 13733/13733 [04:38&lt;00:00, 49.39it/s, loss=0.145, v_num=it_0]"
      }
     },
     "3388d55bb07a45cb8fb68174286721c6": {
      "model_module": "@jupyter-widgets/base",
      "model_module_version": "1.2.0",
      "model_name": "LayoutModel",
      "state": {}
     },
     "3435ab80a45949f184414d02e08000ae": {
      "model_module": "@jupyter-widgets/base",
      "model_module_version": "1.2.0",
      "model_name": "LayoutModel",
      "state": {
       "display": "inline-flex",
       "flex_flow": "row wrap",
       "width": "100%"
      }
     },
     "3450bcdf04c74391ac8cb8f1512cae3b": {
      "model_module": "@jupyter-widgets/controls",
      "model_module_version": "1.5.0",
      "model_name": "HTMLModel",
      "state": {
       "layout": "IPY_MODEL_3f13bb34672244f0a175ec2060f01316",
       "style": "IPY_MODEL_4cbb8217654f420d83905f721af5c3d2",
       "value": " 1630/1637 [00:16&lt;00:00, 97.89it/s]"
      }
     },
     "34608048b09248e983e04f2907738a9d": {
      "model_module": "@jupyter-widgets/controls",
      "model_module_version": "1.5.0",
      "model_name": "ProgressStyleModel",
      "state": {
       "description_width": ""
      }
     },
     "347fedc68a224ee5a6bf7ec4584ffc2a": {
      "model_module": "@jupyter-widgets/controls",
      "model_module_version": "1.5.0",
      "model_name": "FloatProgressModel",
      "state": {
       "layout": "IPY_MODEL_c8e4184baf8f4046a6d178991be399eb",
       "max": 1595,
       "style": "IPY_MODEL_229aeaa42b15452986422707817e5198",
       "value": 1595
      }
     },
     "34aaff95f96d41198ba2f8b6eafe8bb5": {
      "model_module": "@jupyter-widgets/base",
      "model_module_version": "1.2.0",
      "model_name": "LayoutModel",
      "state": {}
     },
     "34b14937a1604e2fbae5af1b0304db48": {
      "model_module": "@jupyter-widgets/controls",
      "model_module_version": "1.5.0",
      "model_name": "DescriptionStyleModel",
      "state": {
       "description_width": ""
      }
     },
     "34d1dd31c428460c959f146582bcffe2": {
      "model_module": "@jupyter-widgets/base",
      "model_module_version": "1.2.0",
      "model_name": "LayoutModel",
      "state": {}
     },
     "352f1fbbe5f745a2a31a907de352e1fc": {
      "model_module": "@jupyter-widgets/controls",
      "model_module_version": "1.5.0",
      "model_name": "ProgressStyleModel",
      "state": {
       "description_width": ""
      }
     },
     "355d8610707e47209f75af462251efda": {
      "model_module": "@jupyter-widgets/controls",
      "model_module_version": "1.5.0",
      "model_name": "HTMLModel",
      "state": {
       "layout": "IPY_MODEL_9f43dd1dc09f4e1eb9d2fb3bafa5535c",
       "style": "IPY_MODEL_189e816785074d938a325343608db9f8",
       "value": " 1576/1596 [00:07&lt;00:00, 209.26it/s]"
      }
     },
     "3612d1770ce84f5d9e24b94d33de98a1": {
      "model_module": "@jupyter-widgets/controls",
      "model_module_version": "1.5.0",
      "model_name": "HTMLModel",
      "state": {
       "layout": "IPY_MODEL_6f42ca6c6de5454c8cde40c903a7fe3f",
       "style": "IPY_MODEL_111cc5fe70664ff0b74c19d55baa1f4d",
       "value": "Validating: 100%"
      }
     },
     "36133348d2c04cf493b7e108d6e3682a": {
      "model_module": "@jupyter-widgets/controls",
      "model_module_version": "1.5.0",
      "model_name": "ProgressStyleModel",
      "state": {
       "description_width": ""
      }
     },
     "369b19e6a6a04588a5943ed6e35ed915": {
      "model_module": "@jupyter-widgets/controls",
      "model_module_version": "1.5.0",
      "model_name": "ProgressStyleModel",
      "state": {
       "description_width": ""
      }
     },
     "3700ec80a9924b3aaa00fb7d874762a7": {
      "model_module": "@jupyter-widgets/base",
      "model_module_version": "1.2.0",
      "model_name": "LayoutModel",
      "state": {
       "display": "inline-flex",
       "flex_flow": "row wrap",
       "width": "100%"
      }
     },
     "37099c392e3e4651b6c42c5426e5c2ca": {
      "model_module": "@jupyter-widgets/controls",
      "model_module_version": "1.5.0",
      "model_name": "DescriptionStyleModel",
      "state": {
       "description_width": ""
      }
     },
     "3739328f6cf74d2f903a50bdc022a7d1": {
      "model_module": "@jupyter-widgets/base",
      "model_module_version": "1.2.0",
      "model_name": "LayoutModel",
      "state": {}
     },
     "3740bbcc03d9449f95ed47bf017257ee": {
      "model_module": "@jupyter-widgets/controls",
      "model_module_version": "1.5.0",
      "model_name": "HTMLModel",
      "state": {
       "layout": "IPY_MODEL_1f6c88ddfda742118657ff05ca013544",
       "style": "IPY_MODEL_b57cd298acc7486a898af82701cf6bc0",
       "value": "Validating:  99%"
      }
     },
     "37a544d76b364516967c2d6ed53bd681": {
      "model_module": "@jupyter-widgets/controls",
      "model_module_version": "1.5.0",
      "model_name": "HTMLModel",
      "state": {
       "layout": "IPY_MODEL_f9f08355eea8425a8caed1bd28d47de0",
       "style": "IPY_MODEL_bb60186632544f0fab5e98b7ba1cecc7",
       "value": " 1594/1596 [00:16&lt;00:00, 100.43it/s]"
      }
     },
     "382b73d993fa4621b3f4f12ea3cb50c6": {
      "model_module": "@jupyter-widgets/controls",
      "model_module_version": "1.5.0",
      "model_name": "DescriptionStyleModel",
      "state": {
       "description_width": ""
      }
     },
     "38eb725f88f84a65a9099fc56c54b930": {
      "model_module": "@jupyter-widgets/base",
      "model_module_version": "1.2.0",
      "model_name": "LayoutModel",
      "state": {
       "display": "inline-flex",
       "flex_flow": "row wrap",
       "width": "100%"
      }
     },
     "38f9db2313b24c80a519166ecdd07e3c": {
      "model_module": "@jupyter-widgets/base",
      "model_module_version": "1.2.0",
      "model_name": "LayoutModel",
      "state": {
       "flex": "2"
      }
     },
     "39842ca2b1214c56a3b24e142f582b14": {
      "model_module": "@jupyter-widgets/base",
      "model_module_version": "1.2.0",
      "model_name": "LayoutModel",
      "state": {
       "flex": "2"
      }
     },
     "39f53ba93eb947dc9797e90f8e95be95": {
      "model_module": "@jupyter-widgets/base",
      "model_module_version": "1.2.0",
      "model_name": "LayoutModel",
      "state": {
       "flex": "2"
      }
     },
     "3a21529105b9459ab3b8eb2fab4ce4f2": {
      "model_module": "@jupyter-widgets/controls",
      "model_module_version": "1.5.0",
      "model_name": "DescriptionStyleModel",
      "state": {
       "description_width": ""
      }
     },
     "3a8086f66d804700a841299af9ce124d": {
      "model_module": "@jupyter-widgets/controls",
      "model_module_version": "1.5.0",
      "model_name": "DescriptionStyleModel",
      "state": {
       "description_width": ""
      }
     },
     "3a822ca356c343bea6393b5ae8842857": {
      "model_module": "@jupyter-widgets/base",
      "model_module_version": "1.2.0",
      "model_name": "LayoutModel",
      "state": {
       "flex": "2"
      }
     },
     "3a85d79ba7dc4f30bba4341df0b223be": {
      "model_module": "@jupyter-widgets/controls",
      "model_module_version": "1.5.0",
      "model_name": "DescriptionStyleModel",
      "state": {
       "description_width": ""
      }
     },
     "3aafdd2e11da4126bd5e30e56c003dee": {
      "model_module": "@jupyter-widgets/controls",
      "model_module_version": "1.5.0",
      "model_name": "ProgressStyleModel",
      "state": {
       "description_width": ""
      }
     },
     "3ad47c7e3e3844ce9371c1848ad0e865": {
      "model_module": "@jupyter-widgets/base",
      "model_module_version": "1.2.0",
      "model_name": "LayoutModel",
      "state": {
       "display": "inline-flex",
       "flex_flow": "row wrap",
       "width": "100%"
      }
     },
     "3adde85f2ae04a8781e634baa75b141e": {
      "model_module": "@jupyter-widgets/base",
      "model_module_version": "1.2.0",
      "model_name": "LayoutModel",
      "state": {
       "flex": "2"
      }
     },
     "3b6235750cd3486d990c19b7faca44bf": {
      "model_module": "@jupyter-widgets/controls",
      "model_module_version": "1.5.0",
      "model_name": "FloatProgressModel",
      "state": {
       "layout": "IPY_MODEL_38f9db2313b24c80a519166ecdd07e3c",
       "max": 1629,
       "style": "IPY_MODEL_5970d6ad2a6843a2b5fb41c703b24890",
       "value": 1629
      }
     },
     "3c1ae3f4e4dc4baea58182381e734768": {
      "model_module": "@jupyter-widgets/controls",
      "model_module_version": "1.5.0",
      "model_name": "ProgressStyleModel",
      "state": {
       "description_width": ""
      }
     },
     "3cd69159496244ae97fbe12a7c99bddd": {
      "model_module": "@jupyter-widgets/controls",
      "model_module_version": "1.5.0",
      "model_name": "FloatProgressModel",
      "state": {
       "layout": "IPY_MODEL_6f0c4ef4e69046b286259ec38e2a1a13",
       "max": 1637,
       "style": "IPY_MODEL_0f17a1d46ca94fc2a2e45a3b95283950",
       "value": 1637
      }
     },
     "3d068e0dec7c4266ac0636e76c1cddfd": {
      "model_module": "@jupyter-widgets/controls",
      "model_module_version": "1.5.0",
      "model_name": "FloatProgressModel",
      "state": {
       "layout": "IPY_MODEL_e56d202601db4ef6bb80d1901cdf1de3",
       "max": 1737,
       "style": "IPY_MODEL_93423b7cd3cc4d7a80328c22a7c90f0b",
       "value": 1737
      }
     },
     "3d4167ed68674aa8aee4b2cf078d517e": {
      "model_module": "@jupyter-widgets/controls",
      "model_module_version": "1.5.0",
      "model_name": "HTMLModel",
      "state": {
       "layout": "IPY_MODEL_21b54ade45324a26818aaaf5dbd26a2b",
       "style": "IPY_MODEL_4632047d983e4a0facdf9ec3df1684ee",
       "value": "Validating: 100%"
      }
     },
     "3d67af60e12844bd9ef62677eca60723": {
      "model_module": "@jupyter-widgets/controls",
      "model_module_version": "1.5.0",
      "model_name": "FloatProgressModel",
      "state": {
       "layout": "IPY_MODEL_95823d919c2b4f618c3564e1ac3de9ab",
       "max": 1737,
       "style": "IPY_MODEL_ade7b8533f09477d96f197859fdd5ba7",
       "value": 1737
      }
     },
     "3d78c452a2fa4c4eb5b5223188131e5d": {
      "model_module": "@jupyter-widgets/base",
      "model_module_version": "1.2.0",
      "model_name": "LayoutModel",
      "state": {}
     },
     "3d9316b7b63245f2b974ddf506d62675": {
      "model_module": "@jupyter-widgets/base",
      "model_module_version": "1.2.0",
      "model_name": "LayoutModel",
      "state": {
       "flex": "2"
      }
     },
     "3df7d5d3055d4c31ba35adb376b05bb8": {
      "model_module": "@jupyter-widgets/base",
      "model_module_version": "1.2.0",
      "model_name": "LayoutModel",
      "state": {
       "display": "inline-flex",
       "flex_flow": "row wrap",
       "width": "100%"
      }
     },
     "3e019d5d2c2843838cb228c98dce6bec": {
      "model_module": "@jupyter-widgets/base",
      "model_module_version": "1.2.0",
      "model_name": "LayoutModel",
      "state": {
       "flex": "2"
      }
     },
     "3e065d55877140aa97bc58f182dd7155": {
      "model_module": "@jupyter-widgets/base",
      "model_module_version": "1.2.0",
      "model_name": "LayoutModel",
      "state": {}
     },
     "3e18aadf83ca4284a1652140ae7053fa": {
      "model_module": "@jupyter-widgets/controls",
      "model_module_version": "1.5.0",
      "model_name": "FloatProgressModel",
      "state": {
       "bar_style": "success",
       "layout": "IPY_MODEL_77423941f569488bb3a65e74922a7678",
       "max": 13690,
       "style": "IPY_MODEL_285bb6becd784e23a219638324d7e2fd",
       "value": 13690
      }
     },
     "3e5a0106a9ed4f3d972d7e7e6a7e814d": {
      "model_module": "@jupyter-widgets/controls",
      "model_module_version": "1.5.0",
      "model_name": "HTMLModel",
      "state": {
       "layout": "IPY_MODEL_0f17f605df5b46e491de61a1b48f3230",
       "style": "IPY_MODEL_4537d9ba49df445ea26856624e29df82",
       "value": "Validating: 100%"
      }
     },
     "3e74a11b4e794cb0b81c0206efbb3850": {
      "model_module": "@jupyter-widgets/base",
      "model_module_version": "1.2.0",
      "model_name": "LayoutModel",
      "state": {
       "display": "inline-flex",
       "flex_flow": "row wrap",
       "width": "100%"
      }
     },
     "3e7f96f6a0df4066a973e426e52a78af": {
      "model_module": "@jupyter-widgets/controls",
      "model_module_version": "1.5.0",
      "model_name": "DescriptionStyleModel",
      "state": {
       "description_width": ""
      }
     },
     "3e822b6fd53b4036868e50022892bbf2": {
      "model_module": "@jupyter-widgets/base",
      "model_module_version": "1.2.0",
      "model_name": "LayoutModel",
      "state": {}
     },
     "3ea135093b1242c9b712b3936c080b08": {
      "model_module": "@jupyter-widgets/base",
      "model_module_version": "1.2.0",
      "model_name": "LayoutModel",
      "state": {}
     },
     "3ea3c850855a465fb66d21af56cd45e5": {
      "model_module": "@jupyter-widgets/controls",
      "model_module_version": "1.5.0",
      "model_name": "ProgressStyleModel",
      "state": {
       "description_width": ""
      }
     },
     "3ed0d08bc97b4c619ece27407d6d220b": {
      "model_module": "@jupyter-widgets/controls",
      "model_module_version": "1.5.0",
      "model_name": "FloatProgressModel",
      "state": {
       "bar_style": "success",
       "layout": "IPY_MODEL_f3e9cfb8137845009a13cfb07ab37476",
       "max": 13690,
       "style": "IPY_MODEL_07dc1ac6da90445e816d70e34c2ccff7",
       "value": 13690
      }
     },
     "3f10d92ffb914b3a855373128d8e2b2b": {
      "model_module": "@jupyter-widgets/controls",
      "model_module_version": "1.5.0",
      "model_name": "ProgressStyleModel",
      "state": {
       "description_width": ""
      }
     },
     "3f13bb34672244f0a175ec2060f01316": {
      "model_module": "@jupyter-widgets/base",
      "model_module_version": "1.2.0",
      "model_name": "LayoutModel",
      "state": {}
     },
     "3f2bd1bcacec48b99bc181bcb1e6095d": {
      "model_module": "@jupyter-widgets/controls",
      "model_module_version": "1.5.0",
      "model_name": "HTMLModel",
      "state": {
       "layout": "IPY_MODEL_023a8720eaa24625aeb854750fc8399f",
       "style": "IPY_MODEL_c5f6bdecfb904bc1af5fa8981eeb9053",
       "value": "Validating:  99%"
      }
     },
     "3f42a4ddabb742ff824f67d46f309c4d": {
      "model_module": "@jupyter-widgets/controls",
      "model_module_version": "1.5.0",
      "model_name": "DescriptionStyleModel",
      "state": {
       "description_width": ""
      }
     },
     "3f5613370e95496c8dcc17f997f658e6": {
      "model_module": "@jupyter-widgets/controls",
      "model_module_version": "1.5.0",
      "model_name": "HTMLModel",
      "state": {
       "layout": "IPY_MODEL_116e6ddc18f6491e9625fc3b3f85ce01",
       "style": "IPY_MODEL_6836bf6447214c7e88166b90a3e3a425",
       "value": "Validating: 100%"
      }
     },
     "3f7bc0d8ce5d4d899cefe3fa3b1fd60a": {
      "model_module": "@jupyter-widgets/base",
      "model_module_version": "1.2.0",
      "model_name": "LayoutModel",
      "state": {}
     },
     "3faee403054142e483f4dbef3998c029": {
      "model_module": "@jupyter-widgets/base",
      "model_module_version": "1.2.0",
      "model_name": "LayoutModel",
      "state": {
       "flex": "2"
      }
     },
     "3fe559f6676948138b9480cbe87c9f35": {
      "model_module": "@jupyter-widgets/base",
      "model_module_version": "1.2.0",
      "model_name": "LayoutModel",
      "state": {}
     },
     "3ff5c6f2837d4ac68ecf98397348d180": {
      "model_module": "@jupyter-widgets/base",
      "model_module_version": "1.2.0",
      "model_name": "LayoutModel",
      "state": {
       "display": "inline-flex",
       "flex_flow": "row wrap",
       "width": "100%"
      }
     },
     "400144d8817d4709a97d56ad2ec1d7bc": {
      "model_module": "@jupyter-widgets/controls",
      "model_module_version": "1.5.0",
      "model_name": "DescriptionStyleModel",
      "state": {
       "description_width": ""
      }
     },
     "40384ab5b7f0442fbba49ffe1c6a913a": {
      "model_module": "@jupyter-widgets/base",
      "model_module_version": "1.2.0",
      "model_name": "LayoutModel",
      "state": {}
     },
     "404d020163464107ad8d38f9327a7e20": {
      "model_module": "@jupyter-widgets/controls",
      "model_module_version": "1.5.0",
      "model_name": "HTMLModel",
      "state": {
       "layout": "IPY_MODEL_c448d5b16c854440850cf948b3dfc685",
       "style": "IPY_MODEL_c5dcaea139834bfa910414beebf4dfed",
       "value": " 13691/13691 [05:14&lt;00:00, 43.46it/s, loss=0.132, v_num=it_4]"
      }
     },
     "405bf0074c5445f0acedb25f3a679360": {
      "model_module": "@jupyter-widgets/controls",
      "model_module_version": "1.5.0",
      "model_name": "HTMLModel",
      "state": {
       "layout": "IPY_MODEL_e8ec50d4da4e4d72a0fa03d9c19a1dec",
       "style": "IPY_MODEL_50c417f5122749959b1002dff0f4e838",
       "value": "Validating: 100%"
      }
     },
     "40832b5d8e134fbb95074e894d1c6379": {
      "model_module": "@jupyter-widgets/controls",
      "model_module_version": "1.5.0",
      "model_name": "DescriptionStyleModel",
      "state": {
       "description_width": ""
      }
     },
     "4109624a5f974e5eabc9eb9650c046bf": {
      "model_module": "@jupyter-widgets/controls",
      "model_module_version": "1.5.0",
      "model_name": "HTMLModel",
      "state": {
       "layout": "IPY_MODEL_9d4a7e7d16064e5eb804a8d861805224",
       "style": "IPY_MODEL_40832b5d8e134fbb95074e894d1c6379",
       "value": " 1586/1596 [00:07&lt;00:00, 216.56it/s]"
      }
     },
     "413c9ac965044c889b1ed787c4fa0412": {
      "model_module": "@jupyter-widgets/base",
      "model_module_version": "1.2.0",
      "model_name": "LayoutModel",
      "state": {}
     },
     "413ea6def435444483c99647812b4231": {
      "model_module": "@jupyter-widgets/base",
      "model_module_version": "1.2.0",
      "model_name": "LayoutModel",
      "state": {
       "display": "inline-flex",
       "flex_flow": "row wrap",
       "width": "100%"
      }
     },
     "419a420eb8774274a55cfae2a2168bdc": {
      "model_module": "@jupyter-widgets/controls",
      "model_module_version": "1.5.0",
      "model_name": "HTMLModel",
      "state": {
       "layout": "IPY_MODEL_4c34a20a75924a13899ee29b326ea154",
       "style": "IPY_MODEL_0b2078e4105240869560b93fe3d3d8bd",
       "value": " 1585/1595 [00:15&lt;00:00, 102.99it/s]"
      }
     },
     "419fb2c10d6f46ca9f83fad924975f17": {
      "model_module": "@jupyter-widgets/base",
      "model_module_version": "1.2.0",
      "model_name": "LayoutModel",
      "state": {}
     },
     "41b1ea86be3746babcc1cd188c927f1a": {
      "model_module": "@jupyter-widgets/controls",
      "model_module_version": "1.5.0",
      "model_name": "HBoxModel",
      "state": {
       "children": [
        "IPY_MODEL_094a2effbc604203b90068fba397688f",
        "IPY_MODEL_19747e48c1094f8f8692dfe7586a19a0",
        "IPY_MODEL_d62a5526493a4d31bbc0e3a94861e998"
       ],
       "layout": "IPY_MODEL_d562b53dcd4243cc93ea785b9e1839d5"
      }
     },
     "41f0a5ad88284b8689263504472010ff": {
      "model_module": "@jupyter-widgets/controls",
      "model_module_version": "1.5.0",
      "model_name": "FloatProgressModel",
      "state": {
       "layout": "IPY_MODEL_e9be26cccb2540f5bd9d93c4e3bdcc71",
       "max": 2,
       "style": "IPY_MODEL_cf42255f8e5b48f58f2e71d6264c6396",
       "value": 2
      }
     },
     "420297c91bf84c28a206cc371b907b48": {
      "model_module": "@jupyter-widgets/base",
      "model_module_version": "1.2.0",
      "model_name": "LayoutModel",
      "state": {}
     },
     "42179d6cefcd447da7fd603fcd3ee85e": {
      "model_module": "@jupyter-widgets/base",
      "model_module_version": "1.2.0",
      "model_name": "LayoutModel",
      "state": {}
     },
     "422ff6f99d3e4211b1d5d5ca5dae8d91": {
      "model_module": "@jupyter-widgets/controls",
      "model_module_version": "1.5.0",
      "model_name": "HTMLModel",
      "state": {
       "layout": "IPY_MODEL_420297c91bf84c28a206cc371b907b48",
       "style": "IPY_MODEL_6396d7f46da546cf8a8e0de6861c5c1d",
       "value": "Validating:  99%"
      }
     },
     "42604f07d06e45be8a3257a73472d9c6": {
      "model_module": "@jupyter-widgets/controls",
      "model_module_version": "1.5.0",
      "model_name": "DescriptionStyleModel",
      "state": {
       "description_width": ""
      }
     },
     "4285ec5482234380bc267ef54c06f836": {
      "model_module": "@jupyter-widgets/controls",
      "model_module_version": "1.5.0",
      "model_name": "ProgressStyleModel",
      "state": {
       "description_width": ""
      }
     },
     "42a412f0169942a089be88f447fb771f": {
      "model_module": "@jupyter-widgets/controls",
      "model_module_version": "1.5.0",
      "model_name": "ProgressStyleModel",
      "state": {
       "description_width": ""
      }
     },
     "431b3a842f034daabda513b0863e726c": {
      "model_module": "@jupyter-widgets/base",
      "model_module_version": "1.2.0",
      "model_name": "LayoutModel",
      "state": {
       "flex": "2"
      }
     },
     "433e65b876674e418fabf4094b29faf2": {
      "model_module": "@jupyter-widgets/controls",
      "model_module_version": "1.5.0",
      "model_name": "FloatProgressModel",
      "state": {
       "layout": "IPY_MODEL_be87cdeb51f048b8a2718795a64b5365",
       "max": 1596,
       "style": "IPY_MODEL_2d1441f8e42e44a284833c7eb8d10fce",
       "value": 1596
      }
     },
     "434d2fd8a6714d70ae4a29ca51f5feb7": {
      "model_module": "@jupyter-widgets/controls",
      "model_module_version": "1.5.0",
      "model_name": "ProgressStyleModel",
      "state": {
       "description_width": ""
      }
     },
     "43631ce43edb4abaa45895f762416c5d": {
      "model_module": "@jupyter-widgets/base",
      "model_module_version": "1.2.0",
      "model_name": "LayoutModel",
      "state": {}
     },
     "438901fdb61c415c813b254a32731356": {
      "model_module": "@jupyter-widgets/base",
      "model_module_version": "1.2.0",
      "model_name": "LayoutModel",
      "state": {
       "display": "inline-flex",
       "flex_flow": "row wrap",
       "width": "100%"
      }
     },
     "43a98494fc3f4b6f84b103f60f5eb12a": {
      "model_module": "@jupyter-widgets/controls",
      "model_module_version": "1.5.0",
      "model_name": "ProgressStyleModel",
      "state": {
       "description_width": ""
      }
     },
     "43cf6a4832a74b4784bc0acec9f71104": {
      "model_module": "@jupyter-widgets/controls",
      "model_module_version": "1.5.0",
      "model_name": "HTMLModel",
      "state": {
       "layout": "IPY_MODEL_c4cf14997a904879b31b3318c4aabb8f",
       "style": "IPY_MODEL_9c54244bf0664b439bc2ce903160ed7d",
       "value": " 1587/1596 [00:16&lt;00:00, 95.37it/s]"
      }
     },
     "44351800d9b44be583f8fd36cd614282": {
      "model_module": "@jupyter-widgets/base",
      "model_module_version": "1.2.0",
      "model_name": "LayoutModel",
      "state": {
       "flex": "2"
      }
     },
     "4437844520b749ea99614671d21cc96e": {
      "model_module": "@jupyter-widgets/base",
      "model_module_version": "1.2.0",
      "model_name": "LayoutModel",
      "state": {
       "flex": "2"
      }
     },
     "4468a9a84bed4e8b9337f90407e67a51": {
      "model_module": "@jupyter-widgets/base",
      "model_module_version": "1.2.0",
      "model_name": "LayoutModel",
      "state": {}
     },
     "448762d1427d4230a0059380ad2896b7": {
      "model_module": "@jupyter-widgets/controls",
      "model_module_version": "1.5.0",
      "model_name": "HTMLModel",
      "state": {
       "layout": "IPY_MODEL_0e6a26ac2f47473fb559b3ae395b8554",
       "style": "IPY_MODEL_a44a2f5bedf746cda726ad41fcb6f30d",
       "value": "Validating:  99%"
      }
     },
     "44fcf16cb49242b081ab192e347f818a": {
      "model_module": "@jupyter-widgets/base",
      "model_module_version": "1.2.0",
      "model_name": "LayoutModel",
      "state": {}
     },
     "44ffcba775034578bd297ddd0c67c839": {
      "model_module": "@jupyter-widgets/controls",
      "model_module_version": "1.5.0",
      "model_name": "FloatProgressModel",
      "state": {
       "layout": "IPY_MODEL_821122487b0b4249b81de3c81d7db8ce",
       "max": 1629,
       "style": "IPY_MODEL_a4a31b6d68ba49198939774b630b0aa0",
       "value": 1629
      }
     },
     "451e5dc36a4849d3b27c7ca76d0b33e4": {
      "model_module": "@jupyter-widgets/controls",
      "model_module_version": "1.5.0",
      "model_name": "ProgressStyleModel",
      "state": {
       "description_width": ""
      }
     },
     "4537d9ba49df445ea26856624e29df82": {
      "model_module": "@jupyter-widgets/controls",
      "model_module_version": "1.5.0",
      "model_name": "DescriptionStyleModel",
      "state": {
       "description_width": ""
      }
     },
     "453a32ca425d484f886972f461ccadbb": {
      "model_module": "@jupyter-widgets/base",
      "model_module_version": "1.2.0",
      "model_name": "LayoutModel",
      "state": {}
     },
     "45670b1672d041d0b975d6bed2a74a36": {
      "model_module": "@jupyter-widgets/controls",
      "model_module_version": "1.5.0",
      "model_name": "FloatProgressModel",
      "state": {
       "layout": "IPY_MODEL_0ec0952471c84bb780c84bcd5ff34bb3",
       "max": 1595,
       "style": "IPY_MODEL_88d153fc00ad4d8998d43394c9995ac2",
       "value": 1595
      }
     },
     "4573e8f0a8d74ddcba833b488662a53b": {
      "model_module": "@jupyter-widgets/controls",
      "model_module_version": "1.5.0",
      "model_name": "DescriptionStyleModel",
      "state": {
       "description_width": ""
      }
     },
     "4582aa6f638f40ca9a1d3fe4840f29d6": {
      "model_module": "@jupyter-widgets/controls",
      "model_module_version": "1.5.0",
      "model_name": "ProgressStyleModel",
      "state": {
       "description_width": ""
      }
     },
     "458fb3b4b0c54e71a220a155f3ec7461": {
      "model_module": "@jupyter-widgets/base",
      "model_module_version": "1.2.0",
      "model_name": "LayoutModel",
      "state": {}
     },
     "45e9267583bc49348a5fa5458d5889d1": {
      "model_module": "@jupyter-widgets/controls",
      "model_module_version": "1.5.0",
      "model_name": "ProgressStyleModel",
      "state": {
       "description_width": ""
      }
     },
     "45ffc432485548989e67ef26b5b66157": {
      "model_module": "@jupyter-widgets/base",
      "model_module_version": "1.2.0",
      "model_name": "LayoutModel",
      "state": {}
     },
     "460a5098325a4ee2ac1190d4e5ae581c": {
      "model_module": "@jupyter-widgets/base",
      "model_module_version": "1.2.0",
      "model_name": "LayoutModel",
      "state": {
       "display": "inline-flex",
       "flex_flow": "row wrap",
       "width": "100%"
      }
     },
     "4632047d983e4a0facdf9ec3df1684ee": {
      "model_module": "@jupyter-widgets/controls",
      "model_module_version": "1.5.0",
      "model_name": "DescriptionStyleModel",
      "state": {
       "description_width": ""
      }
     },
     "4650f722ca444948a102214811aa2ff8": {
      "model_module": "@jupyter-widgets/controls",
      "model_module_version": "1.5.0",
      "model_name": "DescriptionStyleModel",
      "state": {
       "description_width": ""
      }
     },
     "466b14cb8b81423982af1492abfbe125": {
      "model_module": "@jupyter-widgets/base",
      "model_module_version": "1.2.0",
      "model_name": "LayoutModel",
      "state": {
       "display": "inline-flex",
       "flex_flow": "row wrap",
       "width": "100%"
      }
     },
     "469ae2f6bf4a451f86f5a06f1e1fbb27": {
      "model_module": "@jupyter-widgets/controls",
      "model_module_version": "1.5.0",
      "model_name": "HTMLModel",
      "state": {
       "layout": "IPY_MODEL_7da987d20d7349ec8244c96aeaddbb0a",
       "style": "IPY_MODEL_710d3feb33e84f299817d3977bec18b0",
       "value": "Validating: 100%"
      }
     },
     "469ce5902b11427a86f048af493639f9": {
      "model_module": "@jupyter-widgets/base",
      "model_module_version": "1.2.0",
      "model_name": "LayoutModel",
      "state": {}
     },
     "46db75dc9eea4344b402643f24e4091c": {
      "model_module": "@jupyter-widgets/base",
      "model_module_version": "1.2.0",
      "model_name": "LayoutModel",
      "state": {
       "flex": "2"
      }
     },
     "46f52d504c9b4bb8839c53c09d6a6196": {
      "model_module": "@jupyter-widgets/controls",
      "model_module_version": "1.5.0",
      "model_name": "DescriptionStyleModel",
      "state": {
       "description_width": ""
      }
     },
     "46fb5d756ad94708b8eb837befc2ac32": {
      "model_module": "@jupyter-widgets/base",
      "model_module_version": "1.2.0",
      "model_name": "LayoutModel",
      "state": {}
     },
     "4736ddc7751946a59fbb1f1a4e7258c0": {
      "model_module": "@jupyter-widgets/controls",
      "model_module_version": "1.5.0",
      "model_name": "FloatProgressModel",
      "state": {
       "layout": "IPY_MODEL_2a79993e226045499e15cf7bcd9a385d",
       "max": 1595,
       "style": "IPY_MODEL_1e803e6347ec4f3a94c5b420159d8475",
       "value": 1595
      }
     },
     "474876e7dd3144ebac3c7bb676ef678b": {
      "model_module": "@jupyter-widgets/controls",
      "model_module_version": "1.5.0",
      "model_name": "FloatProgressModel",
      "state": {
       "layout": "IPY_MODEL_b6aa7db4b25047ec8265755f0ad58dfc",
       "max": 1596,
       "style": "IPY_MODEL_a4b24d3d56524f9eb8bb900566b3c50d",
       "value": 1596
      }
     },
     "4795d74bb1ce4ae5accddc1d3b1f1f87": {
      "model_module": "@jupyter-widgets/controls",
      "model_module_version": "1.5.0",
      "model_name": "FloatProgressModel",
      "state": {
       "layout": "IPY_MODEL_e0d7ef6757404410bc75e344a56e9700",
       "max": 1737,
       "style": "IPY_MODEL_27034e61b37748a1884882c12394006a",
       "value": 1737
      }
     },
     "479bfe8185d44ac791e01d574546107b": {
      "model_module": "@jupyter-widgets/controls",
      "model_module_version": "1.5.0",
      "model_name": "DescriptionStyleModel",
      "state": {
       "description_width": ""
      }
     },
     "47b1952772dc45c6854dc137dcb3671f": {
      "model_module": "@jupyter-widgets/base",
      "model_module_version": "1.2.0",
      "model_name": "LayoutModel",
      "state": {}
     },
     "47b68536547c45cb9793ceda9b24cc05": {
      "model_module": "@jupyter-widgets/controls",
      "model_module_version": "1.5.0",
      "model_name": "ProgressStyleModel",
      "state": {
       "description_width": ""
      }
     },
     "47bce4db96c14db48ce1f8209270946b": {
      "model_module": "@jupyter-widgets/base",
      "model_module_version": "1.2.0",
      "model_name": "LayoutModel",
      "state": {}
     },
     "4802005d4d084ba198fec82c066ebfc4": {
      "model_module": "@jupyter-widgets/controls",
      "model_module_version": "1.5.0",
      "model_name": "FloatProgressModel",
      "state": {
       "layout": "IPY_MODEL_742df5501898493cb371ee2ef32eda68",
       "max": 1637,
       "style": "IPY_MODEL_34608048b09248e983e04f2907738a9d",
       "value": 1637
      }
     },
     "482739e82af84be4b1b4b04a3d287ac4": {
      "model_module": "@jupyter-widgets/controls",
      "model_module_version": "1.5.0",
      "model_name": "DescriptionStyleModel",
      "state": {
       "description_width": ""
      }
     },
     "482aa9f73d394bc99ea1934a6771d69f": {
      "model_module": "@jupyter-widgets/base",
      "model_module_version": "1.2.0",
      "model_name": "LayoutModel",
      "state": {}
     },
     "489495a3afb345b493a2a5f5019b0fdc": {
      "model_module": "@jupyter-widgets/base",
      "model_module_version": "1.2.0",
      "model_name": "LayoutModel",
      "state": {}
     },
     "48e6562e8af54043b7203ca38a2d3b47": {
      "model_module": "@jupyter-widgets/base",
      "model_module_version": "1.2.0",
      "model_name": "LayoutModel",
      "state": {
       "display": "inline-flex",
       "flex_flow": "row wrap",
       "width": "100%"
      }
     },
     "48e66b4ca0f84f13859711d30a7bdb26": {
      "model_module": "@jupyter-widgets/base",
      "model_module_version": "1.2.0",
      "model_name": "LayoutModel",
      "state": {}
     },
     "48f778f5996c40b0a8ba28d8da900931": {
      "model_module": "@jupyter-widgets/controls",
      "model_module_version": "1.5.0",
      "model_name": "HTMLModel",
      "state": {
       "layout": "IPY_MODEL_875941f283be41b79385cf10ac7b6e55",
       "style": "IPY_MODEL_cb4df8bbdca342cc93f2db56fdc0cc11",
       "value": "Validating: 100%"
      }
     },
     "490e6a7a0bc743d588762db6a5cc0d41": {
      "model_module": "@jupyter-widgets/controls",
      "model_module_version": "1.5.0",
      "model_name": "DescriptionStyleModel",
      "state": {
       "description_width": ""
      }
     },
     "4931a1cd115e45e7b273cfdf295894b5": {
      "model_module": "@jupyter-widgets/controls",
      "model_module_version": "1.5.0",
      "model_name": "HTMLModel",
      "state": {
       "layout": "IPY_MODEL_6ae2b6bcc9334f94b13d44ad74af6ff6",
       "style": "IPY_MODEL_4c3f30c0ae2548ea9682ab5c9d43ce62",
       "value": "Validating: 100%"
      }
     },
     "494adea5fd22450193667ce517814c6d": {
      "model_module": "@jupyter-widgets/controls",
      "model_module_version": "1.5.0",
      "model_name": "DescriptionStyleModel",
      "state": {
       "description_width": ""
      }
     },
     "499b3d4bac43483c9618e34048ff8e0a": {
      "model_module": "@jupyter-widgets/controls",
      "model_module_version": "1.5.0",
      "model_name": "FloatProgressModel",
      "state": {
       "layout": "IPY_MODEL_542918997af5465d9c6a05721a1f45d2",
       "max": 1629,
       "style": "IPY_MODEL_1b9b59293f7c4435ad4577047f21aeb6",
       "value": 1629
      }
     },
     "49a1f2b83ab5404fb2f4aa49296e7788": {
      "model_module": "@jupyter-widgets/controls",
      "model_module_version": "1.5.0",
      "model_name": "ProgressStyleModel",
      "state": {
       "description_width": ""
      }
     },
     "4a3ef36700104ec29f5d3f238bcaa54b": {
      "model_module": "@jupyter-widgets/controls",
      "model_module_version": "1.5.0",
      "model_name": "DescriptionStyleModel",
      "state": {
       "description_width": ""
      }
     },
     "4a5ddf2d63364c0aa3a0cb9366674554": {
      "model_module": "@jupyter-widgets/controls",
      "model_module_version": "1.5.0",
      "model_name": "DescriptionStyleModel",
      "state": {
       "description_width": ""
      }
     },
     "4ae0a98cafd345d2bdeadff7a88387ad": {
      "model_module": "@jupyter-widgets/controls",
      "model_module_version": "1.5.0",
      "model_name": "DescriptionStyleModel",
      "state": {
       "description_width": ""
      }
     },
     "4aea0e60627b4bd699bc9077836e445b": {
      "model_module": "@jupyter-widgets/controls",
      "model_module_version": "1.5.0",
      "model_name": "DescriptionStyleModel",
      "state": {
       "description_width": ""
      }
     },
     "4b0ff58caa1b4c91a9d799ae4cc34366": {
      "model_module": "@jupyter-widgets/controls",
      "model_module_version": "1.5.0",
      "model_name": "HTMLModel",
      "state": {
       "layout": "IPY_MODEL_74f5bd75278a4f20a2e41d9769d83c80",
       "style": "IPY_MODEL_142b266ce3734ce086bb708b13e0b64a",
       "value": " 1632/1637 [00:07&lt;00:00, 229.67it/s]"
      }
     },
     "4b5763c29267454b9cf4821ec9712cdd": {
      "model_module": "@jupyter-widgets/base",
      "model_module_version": "1.2.0",
      "model_name": "LayoutModel",
      "state": {}
     },
     "4b8e1cfb80b94acaad0ff5bee7b89b0f": {
      "model_module": "@jupyter-widgets/controls",
      "model_module_version": "1.5.0",
      "model_name": "DescriptionStyleModel",
      "state": {
       "description_width": ""
      }
     },
     "4bd01a8d0a314207a73f53c972e8feac": {
      "model_module": "@jupyter-widgets/base",
      "model_module_version": "1.2.0",
      "model_name": "LayoutModel",
      "state": {
       "display": "inline-flex",
       "flex_flow": "row wrap",
       "width": "100%"
      }
     },
     "4bd809770819455fbd4d4f15eed7ac88": {
      "model_module": "@jupyter-widgets/base",
      "model_module_version": "1.2.0",
      "model_name": "LayoutModel",
      "state": {
       "flex": "2"
      }
     },
     "4be1316bdf04441988fb4400571b07ba": {
      "model_module": "@jupyter-widgets/base",
      "model_module_version": "1.2.0",
      "model_name": "LayoutModel",
      "state": {}
     },
     "4bfe373912b54346804dcf7a6bf10fc5": {
      "model_module": "@jupyter-widgets/base",
      "model_module_version": "1.2.0",
      "model_name": "LayoutModel",
      "state": {
       "display": "inline-flex",
       "flex_flow": "row wrap",
       "width": "100%"
      }
     },
     "4c29b38fa5c842a99f59ed0898c409ed": {
      "model_module": "@jupyter-widgets/base",
      "model_module_version": "1.2.0",
      "model_name": "LayoutModel",
      "state": {}
     },
     "4c34a20a75924a13899ee29b326ea154": {
      "model_module": "@jupyter-widgets/base",
      "model_module_version": "1.2.0",
      "model_name": "LayoutModel",
      "state": {}
     },
     "4c3f30c0ae2548ea9682ab5c9d43ce62": {
      "model_module": "@jupyter-widgets/controls",
      "model_module_version": "1.5.0",
      "model_name": "DescriptionStyleModel",
      "state": {
       "description_width": ""
      }
     },
     "4c677e559ab8470e82125068f2b54e34": {
      "model_module": "@jupyter-widgets/base",
      "model_module_version": "1.2.0",
      "model_name": "LayoutModel",
      "state": {}
     },
     "4c9c141f7e754859a92b881b6b659a45": {
      "model_module": "@jupyter-widgets/base",
      "model_module_version": "1.2.0",
      "model_name": "LayoutModel",
      "state": {}
     },
     "4cac184d06c74335a23c1661f8b75b24": {
      "model_module": "@jupyter-widgets/controls",
      "model_module_version": "1.5.0",
      "model_name": "DescriptionStyleModel",
      "state": {
       "description_width": ""
      }
     },
     "4cbb8217654f420d83905f721af5c3d2": {
      "model_module": "@jupyter-widgets/controls",
      "model_module_version": "1.5.0",
      "model_name": "DescriptionStyleModel",
      "state": {
       "description_width": ""
      }
     },
     "4d09a238a5194f59887494622d05fdf8": {
      "model_module": "@jupyter-widgets/base",
      "model_module_version": "1.2.0",
      "model_name": "LayoutModel",
      "state": {
       "display": "inline-flex",
       "flex_flow": "row wrap",
       "width": "100%"
      }
     },
     "4d1849129a74446e91ebfdf1e277b871": {
      "model_module": "@jupyter-widgets/base",
      "model_module_version": "1.2.0",
      "model_name": "LayoutModel",
      "state": {
       "display": "inline-flex",
       "flex_flow": "row wrap",
       "width": "100%"
      }
     },
     "4d628de019ab4c98b2de0fa6458a35a2": {
      "model_module": "@jupyter-widgets/base",
      "model_module_version": "1.2.0",
      "model_name": "LayoutModel",
      "state": {
       "display": "inline-flex",
       "flex_flow": "row wrap",
       "width": "100%"
      }
     },
     "4d671fa17963466fa84d89257951e4fd": {
      "model_module": "@jupyter-widgets/controls",
      "model_module_version": "1.5.0",
      "model_name": "HTMLModel",
      "state": {
       "layout": "IPY_MODEL_e5ed49e0957748d2a3a5daaab3724d1d",
       "style": "IPY_MODEL_b932ab123cb64c3d9b561b49797d1384",
       "value": "Validating: 100%"
      }
     },
     "4d8176c54d9d4361bcce01e366d2fab7": {
      "model_module": "@jupyter-widgets/base",
      "model_module_version": "1.2.0",
      "model_name": "LayoutModel",
      "state": {}
     },
     "4d96bf1cdf4942ba89ea4c742e472899": {
      "model_module": "@jupyter-widgets/controls",
      "model_module_version": "1.5.0",
      "model_name": "HTMLModel",
      "state": {
       "layout": "IPY_MODEL_1335ec3d80134a3dbdd8f4c9ee5511e9",
       "style": "IPY_MODEL_34b14937a1604e2fbae5af1b0304db48",
       "value": "Validating:  99%"
      }
     },
     "4db555254779480cbf63448499c714b9": {
      "model_module": "@jupyter-widgets/controls",
      "model_module_version": "1.5.0",
      "model_name": "ProgressStyleModel",
      "state": {
       "description_width": ""
      }
     },
     "4dd48a396c454b208645efe1b26791e9": {
      "model_module": "@jupyter-widgets/controls",
      "model_module_version": "1.5.0",
      "model_name": "FloatProgressModel",
      "state": {
       "layout": "IPY_MODEL_d9e9339dedd44e2892d0284fb1b61d18",
       "max": 1595,
       "style": "IPY_MODEL_5b5b066824654144b276701483d22c43",
       "value": 1595
      }
     },
     "4ddb3232560a40da8496089222d03f06": {
      "model_module": "@jupyter-widgets/controls",
      "model_module_version": "1.5.0",
      "model_name": "HTMLModel",
      "state": {
       "layout": "IPY_MODEL_081a7824d0a744e5997569b37c8e8102",
       "style": "IPY_MODEL_9008e6502d124c5ab37598af212bf930",
       "value": " 1576/1596 [00:07&lt;00:00, 226.21it/s]"
      }
     },
     "4edd371db919470798c140a047b11df5": {
      "model_module": "@jupyter-widgets/controls",
      "model_module_version": "1.5.0",
      "model_name": "FloatProgressModel",
      "state": {
       "layout": "IPY_MODEL_61d10011be8f4ae0817cfedeada4e1df",
       "max": 1595,
       "style": "IPY_MODEL_db749701c8e340139c40e15952af93f5",
       "value": 1595
      }
     },
     "4eeabd6df8c541beaff4477c30345051": {
      "model_module": "@jupyter-widgets/controls",
      "model_module_version": "1.5.0",
      "model_name": "HTMLModel",
      "state": {
       "layout": "IPY_MODEL_453a32ca425d484f886972f461ccadbb",
       "style": "IPY_MODEL_14a63f30cdc746a2bbfd64fec7448a67",
       "value": "Validating: 100%"
      }
     },
     "4f3de5dbef204b28acff875459e9f45d": {
      "model_module": "@jupyter-widgets/controls",
      "model_module_version": "1.5.0",
      "model_name": "HTMLModel",
      "state": {
       "layout": "IPY_MODEL_3d78c452a2fa4c4eb5b5223188131e5d",
       "style": "IPY_MODEL_dacab0796fe54b37b05cd2962ef7ded1",
       "value": "Validating: 100%"
      }
     },
     "4f792ebb3f294ee0ba64c9fc2494dae0": {
      "model_module": "@jupyter-widgets/base",
      "model_module_version": "1.2.0",
      "model_name": "LayoutModel",
      "state": {}
     },
     "4fbbc364025540588fb3760abe4b648c": {
      "model_module": "@jupyter-widgets/base",
      "model_module_version": "1.2.0",
      "model_name": "LayoutModel",
      "state": {}
     },
     "5038497c27f24405b1338ef3d0589b72": {
      "model_module": "@jupyter-widgets/controls",
      "model_module_version": "1.5.0",
      "model_name": "DescriptionStyleModel",
      "state": {
       "description_width": ""
      }
     },
     "50894e5d838547aa89bfe97a1bb5f7ba": {
      "model_module": "@jupyter-widgets/controls",
      "model_module_version": "1.5.0",
      "model_name": "DescriptionStyleModel",
      "state": {
       "description_width": ""
      }
     },
     "50c417f5122749959b1002dff0f4e838": {
      "model_module": "@jupyter-widgets/controls",
      "model_module_version": "1.5.0",
      "model_name": "DescriptionStyleModel",
      "state": {
       "description_width": ""
      }
     },
     "5109bd9b02d342f4948aed62a5fac0ca": {
      "model_module": "@jupyter-widgets/base",
      "model_module_version": "1.2.0",
      "model_name": "LayoutModel",
      "state": {
       "display": "inline-flex",
       "flex_flow": "row wrap",
       "width": "100%"
      }
     },
     "5149263b28bc4b62958bf34d024538f9": {
      "model_module": "@jupyter-widgets/base",
      "model_module_version": "1.2.0",
      "model_name": "LayoutModel",
      "state": {
       "flex": "2"
      }
     },
     "5149c7a322ac400e98b9615f58c5005c": {
      "model_module": "@jupyter-widgets/controls",
      "model_module_version": "1.5.0",
      "model_name": "DescriptionStyleModel",
      "state": {
       "description_width": ""
      }
     },
     "51559a6e10244cf3805d8ec28fd8c399": {
      "model_module": "@jupyter-widgets/controls",
      "model_module_version": "1.5.0",
      "model_name": "DescriptionStyleModel",
      "state": {
       "description_width": ""
      }
     },
     "5161aeb39b214ea285b9d42688b48e54": {
      "model_module": "@jupyter-widgets/base",
      "model_module_version": "1.2.0",
      "model_name": "LayoutModel",
      "state": {
       "flex": "2"
      }
     },
     "5176982ae0fa458db6ec09c983dc2d14": {
      "model_module": "@jupyter-widgets/base",
      "model_module_version": "1.2.0",
      "model_name": "LayoutModel",
      "state": {}
     },
     "51caa17b829e4624a9429b4aa5554bf6": {
      "model_module": "@jupyter-widgets/controls",
      "model_module_version": "1.5.0",
      "model_name": "HTMLModel",
      "state": {
       "layout": "IPY_MODEL_e3356e85c744401cb9d4c1bd7ea7cc55",
       "style": "IPY_MODEL_c6d356b430334b54817c2226313f7190",
       "value": " 1632/1637 [00:16&lt;00:00, 101.36it/s]"
      }
     },
     "51dec0492b7c40418c32a0e8c5a18eb4": {
      "model_module": "@jupyter-widgets/controls",
      "model_module_version": "1.5.0",
      "model_name": "HTMLModel",
      "state": {
       "layout": "IPY_MODEL_4468a9a84bed4e8b9337f90407e67a51",
       "style": "IPY_MODEL_7cd25c30036e4e868f7ae870e3ad02f3",
       "value": "Validating:  99%"
      }
     },
     "52ee9e0acb86435f83f903b2e93a3e4f": {
      "model_module": "@jupyter-widgets/base",
      "model_module_version": "1.2.0",
      "model_name": "LayoutModel",
      "state": {
       "flex": "2"
      }
     },
     "532d59d69ab94b1d8c4e7cd71cce580c": {
      "model_module": "@jupyter-widgets/base",
      "model_module_version": "1.2.0",
      "model_name": "LayoutModel",
      "state": {}
     },
     "53bf6cac970047f7919b8743cbde18e5": {
      "model_module": "@jupyter-widgets/controls",
      "model_module_version": "1.5.0",
      "model_name": "HTMLModel",
      "state": {
       "layout": "IPY_MODEL_ae5595b1bf29480d91595c03d69b31cb",
       "style": "IPY_MODEL_9c9b312c38624e80b59d3220bba2b901",
       "value": " 1736/1737 [00:17&lt;00:00, 101.73it/s]"
      }
     },
     "542918997af5465d9c6a05721a1f45d2": {
      "model_module": "@jupyter-widgets/base",
      "model_module_version": "1.2.0",
      "model_name": "LayoutModel",
      "state": {
       "flex": "2"
      }
     },
     "546118b743a74e859279e14a2bddaeff": {
      "model_module": "@jupyter-widgets/controls",
      "model_module_version": "1.5.0",
      "model_name": "HTMLModel",
      "state": {
       "layout": "IPY_MODEL_8f1e1513dee24b08add09b5d69cf899e",
       "style": "IPY_MODEL_31d0726994e34a66bbac046302fa275c",
       "value": "Validating:  99%"
      }
     },
     "54954554ea854f44bec2dd2ec7a7f69e": {
      "model_module": "@jupyter-widgets/controls",
      "model_module_version": "1.5.0",
      "model_name": "DescriptionStyleModel",
      "state": {
       "description_width": ""
      }
     },
     "549a772b2942439b8aee32ddeddb44a9": {
      "model_module": "@jupyter-widgets/controls",
      "model_module_version": "1.5.0",
      "model_name": "HTMLModel",
      "state": {
       "layout": "IPY_MODEL_f678d0aae7934eaa9646eaa4c1e1c723",
       "style": "IPY_MODEL_b651f31c875f4dcd9ce6ff94ceb92344",
       "value": "Validating: 100%"
      }
     },
     "54b8acdd936248acb91a6236488143c5": {
      "model_module": "@jupyter-widgets/base",
      "model_module_version": "1.2.0",
      "model_name": "LayoutModel",
      "state": {
       "flex": "2"
      }
     },
     "54c2890471a24324989c8e10813771ce": {
      "model_module": "@jupyter-widgets/base",
      "model_module_version": "1.2.0",
      "model_name": "LayoutModel",
      "state": {}
     },
     "5567363cf7c64950ab79cc4d496577be": {
      "model_module": "@jupyter-widgets/controls",
      "model_module_version": "1.5.0",
      "model_name": "FloatProgressModel",
      "state": {
       "layout": "IPY_MODEL_996a78feccc649198fdaec45420d0378",
       "max": 1596,
       "style": "IPY_MODEL_18c7acf8977d491a95e70578c6f2c2e6",
       "value": 1596
      }
     },
     "55733c6247c24b1fb2a7a095f3253525": {
      "model_module": "@jupyter-widgets/controls",
      "model_module_version": "1.5.0",
      "model_name": "HTMLModel",
      "state": {
       "layout": "IPY_MODEL_5a761f843e07466ea80dba79c01df623",
       "style": "IPY_MODEL_3a85d79ba7dc4f30bba4341df0b223be",
       "value": " 1621/1629 [00:07&lt;00:00, 230.74it/s]"
      }
     },
     "559746fcd6a04638854b837e0bacd8ea": {
      "model_module": "@jupyter-widgets/controls",
      "model_module_version": "1.5.0",
      "model_name": "ProgressStyleModel",
      "state": {
       "description_width": ""
      }
     },
     "55a4b86cc375483abfd677f75e5e4bfe": {
      "model_module": "@jupyter-widgets/controls",
      "model_module_version": "1.5.0",
      "model_name": "FloatProgressModel",
      "state": {
       "layout": "IPY_MODEL_6caaa2b887934544bf3bf821f4b81603",
       "max": 1595,
       "style": "IPY_MODEL_928a7925a1614f599c97be03277178d4",
       "value": 1595
      }
     },
     "55c7a2ba54e043c8ac762c7e79d5dc3b": {
      "model_module": "@jupyter-widgets/base",
      "model_module_version": "1.2.0",
      "model_name": "LayoutModel",
      "state": {}
     },
     "55cf0eeb0319427aac195c7d18283879": {
      "model_module": "@jupyter-widgets/controls",
      "model_module_version": "1.5.0",
      "model_name": "DescriptionStyleModel",
      "state": {
       "description_width": ""
      }
     },
     "56461028744a4fff925895348c6e6d26": {
      "model_module": "@jupyter-widgets/controls",
      "model_module_version": "1.5.0",
      "model_name": "HTMLModel",
      "state": {
       "layout": "IPY_MODEL_42179d6cefcd447da7fd603fcd3ee85e",
       "style": "IPY_MODEL_3f42a4ddabb742ff824f67d46f309c4d",
       "value": "Epoch 5: 100%"
      }
     },
     "56b79b5574cc4a2da588d10ceae58192": {
      "model_module": "@jupyter-widgets/base",
      "model_module_version": "1.2.0",
      "model_name": "LayoutModel",
      "state": {
       "display": "inline-flex",
       "flex_flow": "row wrap",
       "width": "100%"
      }
     },
     "57086a7a27514766b4de3f3bc877e2cc": {
      "model_module": "@jupyter-widgets/controls",
      "model_module_version": "1.5.0",
      "model_name": "DescriptionStyleModel",
      "state": {
       "description_width": ""
      }
     },
     "5725a884102b4b56a2a14c47d3a83eb4": {
      "model_module": "@jupyter-widgets/base",
      "model_module_version": "1.2.0",
      "model_name": "LayoutModel",
      "state": {
       "flex": "2"
      }
     },
     "57743a892b8640f7a05b1df9c677e1be": {
      "model_module": "@jupyter-widgets/controls",
      "model_module_version": "1.5.0",
      "model_name": "DescriptionStyleModel",
      "state": {
       "description_width": ""
      }
     },
     "578a8ecc64ef423b968a4312cf83cacb": {
      "model_module": "@jupyter-widgets/controls",
      "model_module_version": "1.5.0",
      "model_name": "DescriptionStyleModel",
      "state": {
       "description_width": ""
      }
     },
     "579213365c914cdf8025e809f4f90c57": {
      "model_module": "@jupyter-widgets/base",
      "model_module_version": "1.2.0",
      "model_name": "LayoutModel",
      "state": {
       "flex": "2"
      }
     },
     "5799ccc597d54a229f4b0d6f8dd60cc8": {
      "model_module": "@jupyter-widgets/base",
      "model_module_version": "1.2.0",
      "model_name": "LayoutModel",
      "state": {
       "display": "inline-flex",
       "flex_flow": "row wrap",
       "width": "100%"
      }
     },
     "57a9be1d704249a585c751f14440c146": {
      "model_module": "@jupyter-widgets/base",
      "model_module_version": "1.2.0",
      "model_name": "LayoutModel",
      "state": {
       "flex": "2"
      }
     },
     "57bf90d77ebc4ddbb76dbaeb697b2358": {
      "model_module": "@jupyter-widgets/controls",
      "model_module_version": "1.5.0",
      "model_name": "FloatProgressModel",
      "state": {
       "layout": "IPY_MODEL_1eaed2bedc884885ae21a053aa39a400",
       "max": 1737,
       "style": "IPY_MODEL_8c2de675ba4c4ebe93aea3cfdabcaf07",
       "value": 1737
      }
     },
     "57fcfd2b864047b080f703acf61dcf64": {
      "model_module": "@jupyter-widgets/base",
      "model_module_version": "1.2.0",
      "model_name": "LayoutModel",
      "state": {}
     },
     "580d73bf58214bcaa00ed993719d4016": {
      "model_module": "@jupyter-widgets/controls",
      "model_module_version": "1.5.0",
      "model_name": "HTMLModel",
      "state": {
       "layout": "IPY_MODEL_082f9e3c5de948cd8a1a01cca6b51b89",
       "style": "IPY_MODEL_1f58ea05ea2742bdbb68b12d708d63e7",
       "value": "Validating:  99%"
      }
     },
     "5813ee857a3b45c5be992046a292ba90": {
      "model_module": "@jupyter-widgets/controls",
      "model_module_version": "1.5.0",
      "model_name": "HTMLModel",
      "state": {
       "layout": "IPY_MODEL_a70de6cb88984ac9b191624117dd800f",
       "style": "IPY_MODEL_e42d82a5c81943b0ab82aacf99443544",
       "value": "Validating:  99%"
      }
     },
     "5833bbd2ad794538b26f6687d5cbc978": {
      "model_module": "@jupyter-widgets/controls",
      "model_module_version": "1.5.0",
      "model_name": "FloatProgressModel",
      "state": {
       "layout": "IPY_MODEL_0aee87e588874754b4260788b5768571",
       "max": 1629,
       "style": "IPY_MODEL_0b6175166ec3439d828a3d21e4275349",
       "value": 1629
      }
     },
     "5845e91b0ce74172b989ebb4d4ed2874": {
      "model_module": "@jupyter-widgets/controls",
      "model_module_version": "1.5.0",
      "model_name": "HTMLModel",
      "state": {
       "layout": "IPY_MODEL_da9c76d7702446aea329d62138f5af26",
       "style": "IPY_MODEL_08d35341192240d993c06c150e8067e3",
       "value": " 1585/1595 [00:15&lt;00:00, 105.20it/s]"
      }
     },
     "58628994801944ea901d6155c7b17ee2": {
      "model_module": "@jupyter-widgets/controls",
      "model_module_version": "1.5.0",
      "model_name": "ProgressStyleModel",
      "state": {
       "description_width": ""
      }
     },
     "588f17a9c3c04eeb861e49a34dbfec0e": {
      "model_module": "@jupyter-widgets/controls",
      "model_module_version": "1.5.0",
      "model_name": "DescriptionStyleModel",
      "state": {
       "description_width": ""
      }
     },
     "58c4dfaed67c40de97048db4942d0755": {
      "model_module": "@jupyter-widgets/base",
      "model_module_version": "1.2.0",
      "model_name": "LayoutModel",
      "state": {}
     },
     "5932520a91c94050bd841de341b11bad": {
      "model_module": "@jupyter-widgets/controls",
      "model_module_version": "1.5.0",
      "model_name": "DescriptionStyleModel",
      "state": {
       "description_width": ""
      }
     },
     "59327342ec984d58a38d766267d70fe1": {
      "model_module": "@jupyter-widgets/controls",
      "model_module_version": "1.5.0",
      "model_name": "HBoxModel",
      "state": {
       "children": [
        "IPY_MODEL_b265a100cc7342e6817c58ac22a3dd3b",
        "IPY_MODEL_d59dbe03f71b4c4188a9ebbb27cd4b9e",
        "IPY_MODEL_0e5b8b7f6b0f4cb69a75227b2f5c8e1f"
       ],
       "layout": "IPY_MODEL_5a6e4a918db44af1a687ecba8672348f"
      }
     },
     "5964250329bf45d3a631d0a2478511db": {
      "model_module": "@jupyter-widgets/base",
      "model_module_version": "1.2.0",
      "model_name": "LayoutModel",
      "state": {}
     },
     "5970d6ad2a6843a2b5fb41c703b24890": {
      "model_module": "@jupyter-widgets/controls",
      "model_module_version": "1.5.0",
      "model_name": "ProgressStyleModel",
      "state": {
       "description_width": ""
      }
     },
     "597f2c1eacd64ae186de49de514186e6": {
      "model_module": "@jupyter-widgets/controls",
      "model_module_version": "1.5.0",
      "model_name": "ProgressStyleModel",
      "state": {
       "description_width": ""
      }
     },
     "59c99b24895346ff863be995e28d7998": {
      "model_module": "@jupyter-widgets/controls",
      "model_module_version": "1.5.0",
      "model_name": "DescriptionStyleModel",
      "state": {
       "description_width": ""
      }
     },
     "59dd9643a291483b97c410311f841dee": {
      "model_module": "@jupyter-widgets/base",
      "model_module_version": "1.2.0",
      "model_name": "LayoutModel",
      "state": {}
     },
     "5a0342822bea4065a57555def102e6bd": {
      "model_module": "@jupyter-widgets/controls",
      "model_module_version": "1.5.0",
      "model_name": "HTMLModel",
      "state": {
       "layout": "IPY_MODEL_4d8176c54d9d4361bcce01e366d2fab7",
       "style": "IPY_MODEL_01f8f1f20b6541f98bd37dc7afac9176",
       "value": " 1588/1595 [00:15&lt;00:00, 103.56it/s]"
      }
     },
     "5a6e4a918db44af1a687ecba8672348f": {
      "model_module": "@jupyter-widgets/base",
      "model_module_version": "1.2.0",
      "model_name": "LayoutModel",
      "state": {
       "display": "inline-flex",
       "flex_flow": "row wrap",
       "width": "100%"
      }
     },
     "5a761f843e07466ea80dba79c01df623": {
      "model_module": "@jupyter-widgets/base",
      "model_module_version": "1.2.0",
      "model_name": "LayoutModel",
      "state": {}
     },
     "5a96b565be76404e814004579d0e5548": {
      "model_module": "@jupyter-widgets/controls",
      "model_module_version": "1.5.0",
      "model_name": "HTMLModel",
      "state": {
       "layout": "IPY_MODEL_e0951ddf0bb84ca990b8f70d60a867d1",
       "style": "IPY_MODEL_7e705696c8db4f65b22ae53607843115",
       "value": " 1591/1596 [00:16&lt;00:00, 95.93it/s]"
      }
     },
     "5b38b7f980e64899931f07ed8158e626": {
      "model_module": "@jupyter-widgets/controls",
      "model_module_version": "1.5.0",
      "model_name": "ProgressStyleModel",
      "state": {
       "description_width": ""
      }
     },
     "5b3e4c2de36a4266b988905ca7244761": {
      "model_module": "@jupyter-widgets/controls",
      "model_module_version": "1.5.0",
      "model_name": "FloatProgressModel",
      "state": {
       "layout": "IPY_MODEL_de1fbbaf7b7943ce97d9427ded2fb810",
       "max": 1637,
       "style": "IPY_MODEL_2df4b4e19e2d473386f955b00a7bc370",
       "value": 1637
      }
     },
     "5b5b066824654144b276701483d22c43": {
      "model_module": "@jupyter-widgets/controls",
      "model_module_version": "1.5.0",
      "model_name": "ProgressStyleModel",
      "state": {
       "description_width": ""
      }
     },
     "5b8fa0c862564b70948249b780ab91ce": {
      "model_module": "@jupyter-widgets/controls",
      "model_module_version": "1.5.0",
      "model_name": "HTMLModel",
      "state": {
       "layout": "IPY_MODEL_94536947dc964260ad7355cb3df3fa9f",
       "style": "IPY_MODEL_0374da1bfa764ecbb3498d3035f16aee",
       "value": " 1592/1596 [00:16&lt;00:00, 97.75it/s]"
      }
     },
     "5ba242cb68ef403db83844af531baa73": {
      "model_module": "@jupyter-widgets/controls",
      "model_module_version": "1.5.0",
      "model_name": "ProgressStyleModel",
      "state": {
       "description_width": ""
      }
     },
     "5bcb5072475c4f7ea5299a96163515d6": {
      "model_module": "@jupyter-widgets/base",
      "model_module_version": "1.2.0",
      "model_name": "LayoutModel",
      "state": {
       "flex": "2"
      }
     },
     "5beea6cbbf9b4382a2df9d57dfc86801": {
      "model_module": "@jupyter-widgets/base",
      "model_module_version": "1.2.0",
      "model_name": "LayoutModel",
      "state": {
       "display": "inline-flex",
       "flex_flow": "row wrap",
       "width": "100%"
      }
     },
     "5c2404221da14d20ad55a89a399ef8d9": {
      "model_module": "@jupyter-widgets/controls",
      "model_module_version": "1.5.0",
      "model_name": "HTMLModel",
      "state": {
       "layout": "IPY_MODEL_71754926ac46458bb322b27571ca5dda",
       "style": "IPY_MODEL_9e6d5e388d8d49128e380cd6c221355c",
       "value": " 1731/1737 [00:17&lt;00:00, 101.52it/s]"
      }
     },
     "5c33fedbd65b4f0f99e76064d24df13e": {
      "model_module": "@jupyter-widgets/base",
      "model_module_version": "1.2.0",
      "model_name": "LayoutModel",
      "state": {}
     },
     "5cc19bdde9c74c3096c1e7263a7b8cf7": {
      "model_module": "@jupyter-widgets/controls",
      "model_module_version": "1.5.0",
      "model_name": "FloatProgressModel",
      "state": {
       "layout": "IPY_MODEL_3a822ca356c343bea6393b5ae8842857",
       "max": 2,
       "style": "IPY_MODEL_f57b108a054541c89af5f7e8ada4c5d1",
       "value": 2
      }
     },
     "5cdf052f1e084caeadf77a18e4266dc5": {
      "model_module": "@jupyter-widgets/base",
      "model_module_version": "1.2.0",
      "model_name": "LayoutModel",
      "state": {}
     },
     "5d09bde50d694fd1818422e24e02c35f": {
      "model_module": "@jupyter-widgets/base",
      "model_module_version": "1.2.0",
      "model_name": "LayoutModel",
      "state": {
       "display": "inline-flex",
       "flex_flow": "row wrap",
       "width": "100%"
      }
     },
     "5d51f3be82c0425a938c6b9e8abc1aef": {
      "model_module": "@jupyter-widgets/base",
      "model_module_version": "1.2.0",
      "model_name": "LayoutModel",
      "state": {
       "display": "inline-flex",
       "flex_flow": "row wrap",
       "width": "100%"
      }
     },
     "5d525a285d6443baa659080479938d31": {
      "model_module": "@jupyter-widgets/base",
      "model_module_version": "1.2.0",
      "model_name": "LayoutModel",
      "state": {
       "display": "inline-flex",
       "flex_flow": "row wrap",
       "width": "100%"
      }
     },
     "5d7c53bb3e1242e7a1eb8b4fb95c9cf0": {
      "model_module": "@jupyter-widgets/base",
      "model_module_version": "1.2.0",
      "model_name": "LayoutModel",
      "state": {
       "display": "inline-flex",
       "flex_flow": "row wrap",
       "width": "100%"
      }
     },
     "5da5d1980f1d4f838bbb48b9680ff425": {
      "model_module": "@jupyter-widgets/base",
      "model_module_version": "1.2.0",
      "model_name": "LayoutModel",
      "state": {
       "display": "inline-flex",
       "flex_flow": "row wrap",
       "width": "100%"
      }
     },
     "5db99fcf446348f6be829ccd84edcf32": {
      "model_module": "@jupyter-widgets/base",
      "model_module_version": "1.2.0",
      "model_name": "LayoutModel",
      "state": {}
     },
     "5dcb959be2df460d9ae83e351128f833": {
      "model_module": "@jupyter-widgets/controls",
      "model_module_version": "1.5.0",
      "model_name": "HTMLModel",
      "state": {
       "layout": "IPY_MODEL_0477168c88134183b7e5390ede1b3427",
       "style": "IPY_MODEL_e6b279b495ec4a749f646634d1cf8c15",
       "value": "Validating: 100%"
      }
     },
     "5e448f17481f43d7849af03963c4b094": {
      "model_module": "@jupyter-widgets/base",
      "model_module_version": "1.2.0",
      "model_name": "LayoutModel",
      "state": {
       "display": "inline-flex",
       "flex_flow": "row wrap",
       "width": "100%"
      }
     },
     "5e8bb25c51134aba806ab20e313a035f": {
      "model_module": "@jupyter-widgets/base",
      "model_module_version": "1.2.0",
      "model_name": "LayoutModel",
      "state": {
       "flex": "2"
      }
     },
     "5eaea18bc1694895abeb21531413eb51": {
      "model_module": "@jupyter-widgets/controls",
      "model_module_version": "1.5.0",
      "model_name": "HTMLModel",
      "state": {
       "layout": "IPY_MODEL_c1f0fca7c4604fb6a9c6b5bfca8a4604",
       "style": "IPY_MODEL_3e7f96f6a0df4066a973e426e52a78af",
       "value": "Validating: 100%"
      }
     },
     "5eb0c0730fe44c1a846738483bf44257": {
      "model_module": "@jupyter-widgets/base",
      "model_module_version": "1.2.0",
      "model_name": "LayoutModel",
      "state": {
       "flex": "2"
      }
     },
     "5edfe8c29fed4a0fbd4de8d4e5e4122a": {
      "model_module": "@jupyter-widgets/base",
      "model_module_version": "1.2.0",
      "model_name": "LayoutModel",
      "state": {}
     },
     "5f38231754ba46719bf6682ed7fcb322": {
      "model_module": "@jupyter-widgets/controls",
      "model_module_version": "1.5.0",
      "model_name": "HTMLModel",
      "state": {
       "layout": "IPY_MODEL_98d9252874764a02aedd73f3a4a84e30",
       "style": "IPY_MODEL_6cffdd2d543a4ab580c7513698bc4ef1",
       "value": "Validating:  99%"
      }
     },
     "5f69c5b0ab8b4c649c560cee1b257e9a": {
      "model_module": "@jupyter-widgets/base",
      "model_module_version": "1.2.0",
      "model_name": "LayoutModel",
      "state": {
       "flex": "2"
      }
     },
     "5f761a8f78284551948174290226d9ef": {
      "model_module": "@jupyter-widgets/controls",
      "model_module_version": "1.5.0",
      "model_name": "HTMLModel",
      "state": {
       "layout": "IPY_MODEL_1952392bbbe94538b90e4d17260848aa",
       "style": "IPY_MODEL_18d3f4c391fa41c3bd7130c4c7a4ebeb",
       "value": "Validating: 100%"
      }
     },
     "5fca50f59c6b4aeaa66fafa851f039bf": {
      "model_module": "@jupyter-widgets/controls",
      "model_module_version": "1.5.0",
      "model_name": "FloatProgressModel",
      "state": {
       "layout": "IPY_MODEL_d0b202423c224e14877e51115579bd6e",
       "max": 1596,
       "style": "IPY_MODEL_b4e35b77ef0a4fa893f274c3bb462ac2",
       "value": 1596
      }
     },
     "6014b955b9fa4b92a6459b2fa0ce8850": {
      "model_module": "@jupyter-widgets/base",
      "model_module_version": "1.2.0",
      "model_name": "LayoutModel",
      "state": {}
     },
     "606af318ca834c76abd3110c9e644518": {
      "model_module": "@jupyter-widgets/base",
      "model_module_version": "1.2.0",
      "model_name": "LayoutModel",
      "state": {
       "display": "inline-flex",
       "flex_flow": "row wrap",
       "width": "100%"
      }
     },
     "607f76ba0c9b4849a2877cb6be52105c": {
      "model_module": "@jupyter-widgets/controls",
      "model_module_version": "1.5.0",
      "model_name": "HTMLModel",
      "state": {
       "layout": "IPY_MODEL_e8d965604ae9426faa8fb98062d2ea26",
       "style": "IPY_MODEL_46f52d504c9b4bb8839c53c09d6a6196",
       "value": "Validating: 100%"
      }
     },
     "60be39de19ab480680178e2cb53efde4": {
      "model_module": "@jupyter-widgets/base",
      "model_module_version": "1.2.0",
      "model_name": "LayoutModel",
      "state": {}
     },
     "60e080cdf28e4479ad4246352ba9dee6": {
      "model_module": "@jupyter-widgets/controls",
      "model_module_version": "1.5.0",
      "model_name": "HTMLModel",
      "state": {
       "layout": "IPY_MODEL_8160b2bf3cf043b6b04ff2edac4d81d7",
       "style": "IPY_MODEL_8c3abbe76cc04d1c909598333e90a50c",
       "value": " 1733/1737 [00:17&lt;00:00, 104.40it/s]"
      }
     },
     "614eb4416e5d424d8cacf8797f4b452f": {
      "model_module": "@jupyter-widgets/base",
      "model_module_version": "1.2.0",
      "model_name": "LayoutModel",
      "state": {}
     },
     "617763d5bc7b49b690ca65df1485b160": {
      "model_module": "@jupyter-widgets/base",
      "model_module_version": "1.2.0",
      "model_name": "LayoutModel",
      "state": {
       "display": "inline-flex",
       "flex_flow": "row wrap",
       "width": "100%"
      }
     },
     "61d10011be8f4ae0817cfedeada4e1df": {
      "model_module": "@jupyter-widgets/base",
      "model_module_version": "1.2.0",
      "model_name": "LayoutModel",
      "state": {
       "flex": "2"
      }
     },
     "61e3b9bfbdcd4a47939dab6706d2c332": {
      "model_module": "@jupyter-widgets/base",
      "model_module_version": "1.2.0",
      "model_name": "LayoutModel",
      "state": {
       "flex": "2"
      }
     },
     "61f82e1d2b0f46c0b1e79b2a60dc0193": {
      "model_module": "@jupyter-widgets/base",
      "model_module_version": "1.2.0",
      "model_name": "LayoutModel",
      "state": {
       "flex": "2"
      }
     },
     "61ffe75220eb41ef952fed84db19bcdd": {
      "model_module": "@jupyter-widgets/controls",
      "model_module_version": "1.5.0",
      "model_name": "DescriptionStyleModel",
      "state": {
       "description_width": ""
      }
     },
     "62451016c3a9413690d15e6a1e80f389": {
      "model_module": "@jupyter-widgets/controls",
      "model_module_version": "1.5.0",
      "model_name": "DescriptionStyleModel",
      "state": {
       "description_width": ""
      }
     },
     "627e4f75c80b43899db9a34f159d620e": {
      "model_module": "@jupyter-widgets/base",
      "model_module_version": "1.2.0",
      "model_name": "LayoutModel",
      "state": {
       "flex": "2"
      }
     },
     "62947d95b3f24ed181da17a793c90d6d": {
      "model_module": "@jupyter-widgets/base",
      "model_module_version": "1.2.0",
      "model_name": "LayoutModel",
      "state": {
       "flex": "2"
      }
     },
     "630621b7285f4daf800a7ada3edc8ba4": {
      "model_module": "@jupyter-widgets/controls",
      "model_module_version": "1.5.0",
      "model_name": "HTMLModel",
      "state": {
       "layout": "IPY_MODEL_16b7902dd91245919ecee9d72a8c59fb",
       "style": "IPY_MODEL_050982801bfd49dd94392691d7d7b329",
       "value": " 1588/1595 [00:15&lt;00:00, 105.09it/s]"
      }
     },
     "63098a3e9fa044f191b6a475a8bc7ad5": {
      "model_module": "@jupyter-widgets/controls",
      "model_module_version": "1.5.0",
      "model_name": "DescriptionStyleModel",
      "state": {
       "description_width": ""
      }
     },
     "63243dec14da4dcb916ca149ac32b896": {
      "model_module": "@jupyter-widgets/controls",
      "model_module_version": "1.5.0",
      "model_name": "HTMLModel",
      "state": {
       "layout": "IPY_MODEL_55c7a2ba54e043c8ac762c7e79d5dc3b",
       "style": "IPY_MODEL_5149c7a322ac400e98b9615f58c5005c",
       "value": " 1593/1596 [00:07&lt;00:00, 222.03it/s]"
      }
     },
     "6331546f12b448da86b46c90d9ec0d94": {
      "model_module": "@jupyter-widgets/base",
      "model_module_version": "1.2.0",
      "model_name": "LayoutModel",
      "state": {}
     },
     "633b4c2ccfed4bf79885e731cd589cac": {
      "model_module": "@jupyter-widgets/base",
      "model_module_version": "1.2.0",
      "model_name": "LayoutModel",
      "state": {}
     },
     "63635388a70248aabf1d631fbd40008c": {
      "model_module": "@jupyter-widgets/controls",
      "model_module_version": "1.5.0",
      "model_name": "HTMLModel",
      "state": {
       "layout": "IPY_MODEL_a6513cb477614b128c096e08449a6818",
       "style": "IPY_MODEL_b84048c785b74344b62d8f0d073c5372",
       "value": " 1631/1637 [00:16&lt;00:00, 98.79it/s]"
      }
     },
     "63651befa5404d7bb6015da0b29563c9": {
      "model_module": "@jupyter-widgets/controls",
      "model_module_version": "1.5.0",
      "model_name": "DescriptionStyleModel",
      "state": {
       "description_width": ""
      }
     },
     "637100eb33d84e2caa60f2de160f89f6": {
      "model_module": "@jupyter-widgets/base",
      "model_module_version": "1.2.0",
      "model_name": "LayoutModel",
      "state": {}
     },
     "638bd4511d4f441bbb640af002997b15": {
      "model_module": "@jupyter-widgets/base",
      "model_module_version": "1.2.0",
      "model_name": "LayoutModel",
      "state": {
       "flex": "2"
      }
     },
     "6396d7f46da546cf8a8e0de6861c5c1d": {
      "model_module": "@jupyter-widgets/controls",
      "model_module_version": "1.5.0",
      "model_name": "DescriptionStyleModel",
      "state": {
       "description_width": ""
      }
     },
     "639eac2805014039be481dbeddbf711e": {
      "model_module": "@jupyter-widgets/controls",
      "model_module_version": "1.5.0",
      "model_name": "FloatProgressModel",
      "state": {
       "layout": "IPY_MODEL_327aba9f5c534affbaeebf464a1302a7",
       "max": 1737,
       "style": "IPY_MODEL_c5d68e0e4c174a23b494c4e1004b9817",
       "value": 1737
      }
     },
     "6400af1c688d40b7a47ac90074216743": {
      "model_module": "@jupyter-widgets/base",
      "model_module_version": "1.2.0",
      "model_name": "LayoutModel",
      "state": {
       "display": "inline-flex",
       "flex_flow": "row wrap",
       "width": "100%"
      }
     },
     "64a7770c5e4f4e3893d82e71a8bdbd12": {
      "model_module": "@jupyter-widgets/base",
      "model_module_version": "1.2.0",
      "model_name": "LayoutModel",
      "state": {}
     },
     "64dccfa26bb34e69abc72fa7274dfe0e": {
      "model_module": "@jupyter-widgets/controls",
      "model_module_version": "1.5.0",
      "model_name": "HTMLModel",
      "state": {
       "layout": "IPY_MODEL_47bce4db96c14db48ce1f8209270946b",
       "style": "IPY_MODEL_f467f9acbe6b4734b68bc98d32d6e9ee",
       "value": " 1/2 [00:00&lt;00:00,  2.72it/s]"
      }
     },
     "64df7580019a426abbb8b16567e96d40": {
      "model_module": "@jupyter-widgets/controls",
      "model_module_version": "1.5.0",
      "model_name": "HTMLModel",
      "state": {
       "layout": "IPY_MODEL_818c29941573475f980047742d43d8bf",
       "style": "IPY_MODEL_f2682a4c8a0c4efba1e03e3ca2de4b90",
       "value": "Testing: 100%"
      }
     },
     "64e7bf8a26d840ccb00a5c77438b30b9": {
      "model_module": "@jupyter-widgets/base",
      "model_module_version": "1.2.0",
      "model_name": "LayoutModel",
      "state": {}
     },
     "650f11bdcabb432587a02be81fe6c359": {
      "model_module": "@jupyter-widgets/controls",
      "model_module_version": "1.5.0",
      "model_name": "DescriptionStyleModel",
      "state": {
       "description_width": ""
      }
     },
     "6529e838def2489986ae016282e70e8e": {
      "model_module": "@jupyter-widgets/controls",
      "model_module_version": "1.5.0",
      "model_name": "DescriptionStyleModel",
      "state": {
       "description_width": ""
      }
     },
     "65388bbae6b040219746876c3af67295": {
      "model_module": "@jupyter-widgets/base",
      "model_module_version": "1.2.0",
      "model_name": "LayoutModel",
      "state": {}
     },
     "66046575dbef4b26bbd9d83018dc5b38": {
      "model_module": "@jupyter-widgets/controls",
      "model_module_version": "1.5.0",
      "model_name": "DescriptionStyleModel",
      "state": {
       "description_width": ""
      }
     },
     "660a8c2d40fe47748ef77c4a6b97cf9c": {
      "model_module": "@jupyter-widgets/base",
      "model_module_version": "1.2.0",
      "model_name": "LayoutModel",
      "state": {}
     },
     "661d947c23f640fcb623750eb846ba2d": {
      "model_module": "@jupyter-widgets/base",
      "model_module_version": "1.2.0",
      "model_name": "LayoutModel",
      "state": {}
     },
     "6620583e26c54fecb8de3a8dfd468104": {
      "model_module": "@jupyter-widgets/controls",
      "model_module_version": "1.5.0",
      "model_name": "DescriptionStyleModel",
      "state": {
       "description_width": ""
      }
     },
     "6641b726208349de87d236abd5c46dbe": {
      "model_module": "@jupyter-widgets/controls",
      "model_module_version": "1.5.0",
      "model_name": "HTMLModel",
      "state": {
       "layout": "IPY_MODEL_469ce5902b11427a86f048af493639f9",
       "style": "IPY_MODEL_25adb265b0024689b9458c74792a40e9",
       "value": " 1619/1629 [00:15&lt;00:00, 107.08it/s]"
      }
     },
     "664381afcb8f43e6a8250380db1f20c8": {
      "model_module": "@jupyter-widgets/base",
      "model_module_version": "1.2.0",
      "model_name": "LayoutModel",
      "state": {
       "flex": "2"
      }
     },
     "666c86ac43c548dca8fc6689c2d16c8f": {
      "model_module": "@jupyter-widgets/controls",
      "model_module_version": "1.5.0",
      "model_name": "DescriptionStyleModel",
      "state": {
       "description_width": ""
      }
     },
     "666dbc5dfef64d3abf9a067dab6a0731": {
      "model_module": "@jupyter-widgets/controls",
      "model_module_version": "1.5.0",
      "model_name": "HTMLModel",
      "state": {
       "layout": "IPY_MODEL_1a277778d1f14baba565392b5a3b73d8",
       "style": "IPY_MODEL_ee260e2c821b4fb1b44fa787b21e42b8",
       "value": "Validation sanity check:  50%"
      }
     },
     "668ae5a6bb3049aea1086acc2bd9ec05": {
      "model_module": "@jupyter-widgets/base",
      "model_module_version": "1.2.0",
      "model_name": "LayoutModel",
      "state": {
       "flex": "2"
      }
     },
     "66ec889fa6af49d28fa785ba82dcd040": {
      "model_module": "@jupyter-widgets/base",
      "model_module_version": "1.2.0",
      "model_name": "LayoutModel",
      "state": {}
     },
     "670dd2e17a56456284268d86e767587b": {
      "model_module": "@jupyter-widgets/controls",
      "model_module_version": "1.5.0",
      "model_name": "FloatProgressModel",
      "state": {
       "layout": "IPY_MODEL_61f82e1d2b0f46c0b1e79b2a60dc0193",
       "max": 1629,
       "style": "IPY_MODEL_0420dcd769af4b95bcde5b19952074d5",
       "value": 1629
      }
     },
     "6770808c5f3e453299a5cd2b693f2f33": {
      "model_module": "@jupyter-widgets/controls",
      "model_module_version": "1.5.0",
      "model_name": "HTMLModel",
      "state": {
       "layout": "IPY_MODEL_489495a3afb345b493a2a5f5019b0fdc",
       "style": "IPY_MODEL_c53a3cd95e3f4602b92c7f827770e57d",
       "value": " 1/2 [00:00&lt;00:00,  2.27it/s]"
      }
     },
     "677f46d067e24853a37e872ef4ed36eb": {
      "model_module": "@jupyter-widgets/controls",
      "model_module_version": "1.5.0",
      "model_name": "DescriptionStyleModel",
      "state": {
       "description_width": ""
      }
     },
     "67b2b439367a4d448e8fa76b16a11d01": {
      "model_module": "@jupyter-widgets/controls",
      "model_module_version": "1.5.0",
      "model_name": "HTMLModel",
      "state": {
       "layout": "IPY_MODEL_0d0dc01c7c2646c280d474fc98b5711c",
       "style": "IPY_MODEL_fce05b2f92ba4e77ae7c5638f222f372",
       "value": " 1591/1596 [00:16&lt;00:00, 98.55it/s]"
      }
     },
     "6817e24dd66b403a80463ef9a4fc60d6": {
      "model_module": "@jupyter-widgets/base",
      "model_module_version": "1.2.0",
      "model_name": "LayoutModel",
      "state": {}
     },
     "6836bf6447214c7e88166b90a3e3a425": {
      "model_module": "@jupyter-widgets/controls",
      "model_module_version": "1.5.0",
      "model_name": "DescriptionStyleModel",
      "state": {
       "description_width": ""
      }
     },
     "685ee314feaa4cdab3050896601b63d1": {
      "model_module": "@jupyter-widgets/base",
      "model_module_version": "1.2.0",
      "model_name": "LayoutModel",
      "state": {
       "display": "inline-flex",
       "flex_flow": "row wrap",
       "width": "100%"
      }
     },
     "6862c405af984dfa9d34841f943031f0": {
      "model_module": "@jupyter-widgets/controls",
      "model_module_version": "1.5.0",
      "model_name": "DescriptionStyleModel",
      "state": {
       "description_width": ""
      }
     },
     "694030eb76ac442ba6435fe8311a2e67": {
      "model_module": "@jupyter-widgets/base",
      "model_module_version": "1.2.0",
      "model_name": "LayoutModel",
      "state": {}
     },
     "695030eb27b94921b88bb2f96988f153": {
      "model_module": "@jupyter-widgets/base",
      "model_module_version": "1.2.0",
      "model_name": "LayoutModel",
      "state": {}
     },
     "695a14ee5f9d46dc868cbd17429a323d": {
      "model_module": "@jupyter-widgets/controls",
      "model_module_version": "1.5.0",
      "model_name": "ProgressStyleModel",
      "state": {
       "description_width": ""
      }
     },
     "69878900d22d470aa60d38caf9198294": {
      "model_module": "@jupyter-widgets/controls",
      "model_module_version": "1.5.0",
      "model_name": "DescriptionStyleModel",
      "state": {
       "description_width": ""
      }
     },
     "69899f602fc64da091e49efdf778a823": {
      "model_module": "@jupyter-widgets/controls",
      "model_module_version": "1.5.0",
      "model_name": "FloatProgressModel",
      "state": {
       "layout": "IPY_MODEL_7170d1e640274e38bc38ea1f4e0d1afa",
       "max": 1737,
       "style": "IPY_MODEL_45e9267583bc49348a5fa5458d5889d1",
       "value": 1737
      }
     },
     "69b0f4b7c2d84c3e85223f10b826c013": {
      "model_module": "@jupyter-widgets/controls",
      "model_module_version": "1.5.0",
      "model_name": "DescriptionStyleModel",
      "state": {
       "description_width": ""
      }
     },
     "69d38f2924e0460a8958d198d247bf50": {
      "model_module": "@jupyter-widgets/controls",
      "model_module_version": "1.5.0",
      "model_name": "DescriptionStyleModel",
      "state": {
       "description_width": ""
      }
     },
     "69f24ca57ff348b3b6af7d9d4f594dd9": {
      "model_module": "@jupyter-widgets/controls",
      "model_module_version": "1.5.0",
      "model_name": "FloatProgressModel",
      "state": {
       "layout": "IPY_MODEL_f6585bd3f97d4aef846c06e2da677a62",
       "max": 1629,
       "style": "IPY_MODEL_451e5dc36a4849d3b27c7ca76d0b33e4",
       "value": 1629
      }
     },
     "6a500ad7df7e43ef931a7674972655f1": {
      "model_module": "@jupyter-widgets/base",
      "model_module_version": "1.2.0",
      "model_name": "LayoutModel",
      "state": {}
     },
     "6a69f11afea648ab8396ae16f531c85b": {
      "model_module": "@jupyter-widgets/base",
      "model_module_version": "1.2.0",
      "model_name": "LayoutModel",
      "state": {
       "display": "inline-flex",
       "flex_flow": "row wrap",
       "width": "100%"
      }
     },
     "6a99c57554bf4f25be06cc84a19f3d3a": {
      "model_module": "@jupyter-widgets/base",
      "model_module_version": "1.2.0",
      "model_name": "LayoutModel",
      "state": {}
     },
     "6ae2b6bcc9334f94b13d44ad74af6ff6": {
      "model_module": "@jupyter-widgets/base",
      "model_module_version": "1.2.0",
      "model_name": "LayoutModel",
      "state": {}
     },
     "6ae8cc4f56164b419aefad3b7ef19fff": {
      "model_module": "@jupyter-widgets/base",
      "model_module_version": "1.2.0",
      "model_name": "LayoutModel",
      "state": {
       "flex": "2"
      }
     },
     "6b1aca51a56341459cdc627222bf1269": {
      "model_module": "@jupyter-widgets/controls",
      "model_module_version": "1.5.0",
      "model_name": "DescriptionStyleModel",
      "state": {
       "description_width": ""
      }
     },
     "6b1e43440a6a46c0bd4ce46529b1431e": {
      "model_module": "@jupyter-widgets/controls",
      "model_module_version": "1.5.0",
      "model_name": "ProgressStyleModel",
      "state": {
       "description_width": ""
      }
     },
     "6b2f0b1047974fd389fdd55a9b99868b": {
      "model_module": "@jupyter-widgets/controls",
      "model_module_version": "1.5.0",
      "model_name": "HTMLModel",
      "state": {
       "layout": "IPY_MODEL_fe0a38d130784cbf904013a66084ec60",
       "style": "IPY_MODEL_ab7406c0c85147fd84f2de760d15c620",
       "value": " 1594/1595 [00:07&lt;00:00, 217.25it/s]"
      }
     },
     "6b964f5d243e49468e5a679a42e4df0f": {
      "model_module": "@jupyter-widgets/controls",
      "model_module_version": "1.5.0",
      "model_name": "HTMLModel",
      "state": {
       "layout": "IPY_MODEL_94536772d9d846aeb7169d6df2bdacc9",
       "style": "IPY_MODEL_abfe0431c86643608e6b985778c59347",
       "value": "Epoch 8: 100%"
      }
     },
     "6bd333ff78a74c51bf7d77ce715bbe38": {
      "model_module": "@jupyter-widgets/base",
      "model_module_version": "1.2.0",
      "model_name": "LayoutModel",
      "state": {}
     },
     "6c366b7cbc7747d08bd0cbe9b55b3944": {
      "model_module": "@jupyter-widgets/controls",
      "model_module_version": "1.5.0",
      "model_name": "FloatProgressModel",
      "state": {
       "layout": "IPY_MODEL_46db75dc9eea4344b402643f24e4091c",
       "max": 1596,
       "style": "IPY_MODEL_cd3915110bf240d0ad8d0723f1ce8cd7",
       "value": 1596
      }
     },
     "6caaa2b887934544bf3bf821f4b81603": {
      "model_module": "@jupyter-widgets/base",
      "model_module_version": "1.2.0",
      "model_name": "LayoutModel",
      "state": {
       "flex": "2"
      }
     },
     "6cb3e873cead401696c7a6be1c9dfe2e": {
      "model_module": "@jupyter-widgets/controls",
      "model_module_version": "1.5.0",
      "model_name": "HTMLModel",
      "state": {
       "layout": "IPY_MODEL_00453355a4eb4099b75a8fa6de6c591e",
       "style": "IPY_MODEL_addf19cf9b3d4f3886cc6dba012c4a53",
       "value": " 1595/1595 [00:15&lt;00:00, 73.27it/s]"
      }
     },
     "6ccad0ff72bc4340b6a8dead5c9ff897": {
      "model_module": "@jupyter-widgets/controls",
      "model_module_version": "1.5.0",
      "model_name": "HTMLModel",
      "state": {
       "layout": "IPY_MODEL_7460e3229aab4b7a8c9021c105f90120",
       "style": "IPY_MODEL_f4e90860c4014d63a19cbb3f1bce8542",
       "value": " 1579/1595 [00:07&lt;00:00, 226.74it/s]"
      }
     },
     "6cf94aefa80c4c25b3975420f2539319": {
      "model_module": "@jupyter-widgets/controls",
      "model_module_version": "1.5.0",
      "model_name": "DescriptionStyleModel",
      "state": {
       "description_width": ""
      }
     },
     "6cffdd2d543a4ab580c7513698bc4ef1": {
      "model_module": "@jupyter-widgets/controls",
      "model_module_version": "1.5.0",
      "model_name": "DescriptionStyleModel",
      "state": {
       "description_width": ""
      }
     },
     "6d02e36cc83944d4813358bde5956bd2": {
      "model_module": "@jupyter-widgets/controls",
      "model_module_version": "1.5.0",
      "model_name": "FloatProgressModel",
      "state": {
       "layout": "IPY_MODEL_cab80074fe1e44dda40503c78751d047",
       "max": 1596,
       "style": "IPY_MODEL_6e580802edbe48f792df502d6a5d2116",
       "value": 1596
      }
     },
     "6d24a9fbf5d54de38c9754d8c920e703": {
      "model_module": "@jupyter-widgets/base",
      "model_module_version": "1.2.0",
      "model_name": "LayoutModel",
      "state": {
       "flex": "2"
      }
     },
     "6d3e627873df478b9461f53822f84b44": {
      "model_module": "@jupyter-widgets/controls",
      "model_module_version": "1.5.0",
      "model_name": "DescriptionStyleModel",
      "state": {
       "description_width": ""
      }
     },
     "6d40435fa6874c87a9b21f891a7ba2dc": {
      "model_module": "@jupyter-widgets/base",
      "model_module_version": "1.2.0",
      "model_name": "LayoutModel",
      "state": {}
     },
     "6d70e2f98c0e478983a12da54b5c60bb": {
      "model_module": "@jupyter-widgets/base",
      "model_module_version": "1.2.0",
      "model_name": "LayoutModel",
      "state": {
       "display": "inline-flex",
       "flex_flow": "row wrap",
       "width": "100%"
      }
     },
     "6d76b03b6b4e4deba8e11e0e4863b2fa": {
      "model_module": "@jupyter-widgets/base",
      "model_module_version": "1.2.0",
      "model_name": "LayoutModel",
      "state": {}
     },
     "6db11720c5334cf099664cd050a9fd22": {
      "model_module": "@jupyter-widgets/controls",
      "model_module_version": "1.5.0",
      "model_name": "FloatProgressModel",
      "state": {
       "layout": "IPY_MODEL_b29863acb0334b28b3967a801498027a",
       "max": 1637,
       "style": "IPY_MODEL_a0c8eab39f4b4cf5b4dc23969b00e243",
       "value": 1637
      }
     },
     "6dbb85f8968749d2a8a83a2d3d916591": {
      "model_module": "@jupyter-widgets/controls",
      "model_module_version": "1.5.0",
      "model_name": "FloatProgressModel",
      "state": {
       "layout": "IPY_MODEL_9b26336bd81a42c893df9ce7d966ce15",
       "max": 1596,
       "style": "IPY_MODEL_218b9ef8d4264905ab44321f6f8f4ed7",
       "value": 1596
      }
     },
     "6de6a8a59b924520869b88b3d419d80a": {
      "model_module": "@jupyter-widgets/controls",
      "model_module_version": "1.5.0",
      "model_name": "FloatProgressModel",
      "state": {
       "bar_style": "success",
       "layout": "IPY_MODEL_c9518a9f9152428f96f6e66d4890062e",
       "max": 13733,
       "style": "IPY_MODEL_00dab37bf23443c2ab285acfc562ee69",
       "value": 13733
      }
     },
     "6e580802edbe48f792df502d6a5d2116": {
      "model_module": "@jupyter-widgets/controls",
      "model_module_version": "1.5.0",
      "model_name": "ProgressStyleModel",
      "state": {
       "description_width": ""
      }
     },
     "6f05dd3051b84f29be13222558b8578f": {
      "model_module": "@jupyter-widgets/base",
      "model_module_version": "1.2.0",
      "model_name": "LayoutModel",
      "state": {}
     },
     "6f0c4ef4e69046b286259ec38e2a1a13": {
      "model_module": "@jupyter-widgets/base",
      "model_module_version": "1.2.0",
      "model_name": "LayoutModel",
      "state": {
       "flex": "2"
      }
     },
     "6f2f0c4fae6542abbfb00add188c78cf": {
      "model_module": "@jupyter-widgets/base",
      "model_module_version": "1.2.0",
      "model_name": "LayoutModel",
      "state": {}
     },
     "6f42ca6c6de5454c8cde40c903a7fe3f": {
      "model_module": "@jupyter-widgets/base",
      "model_module_version": "1.2.0",
      "model_name": "LayoutModel",
      "state": {}
     },
     "6f5a761232d44d74a291d89fcaf1f91a": {
      "model_module": "@jupyter-widgets/controls",
      "model_module_version": "1.5.0",
      "model_name": "HTMLModel",
      "state": {
       "layout": "IPY_MODEL_038038fc1c764684afca247dbf494fe8",
       "style": "IPY_MODEL_382b73d993fa4621b3f4f12ea3cb50c6",
       "value": " 1594/1595 [00:15&lt;00:00, 104.96it/s]"
      }
     },
     "6f6e1c8664174764a9dc634e930835e0": {
      "model_module": "@jupyter-widgets/controls",
      "model_module_version": "1.5.0",
      "model_name": "ProgressStyleModel",
      "state": {
       "description_width": ""
      }
     },
     "6f8982fdfc9c4f0682220f0706c4efe2": {
      "model_module": "@jupyter-widgets/base",
      "model_module_version": "1.2.0",
      "model_name": "LayoutModel",
      "state": {
       "flex": "2"
      }
     },
     "6fb2905b3ba445b39041cf495eee6251": {
      "model_module": "@jupyter-widgets/controls",
      "model_module_version": "1.5.0",
      "model_name": "HTMLModel",
      "state": {
       "layout": "IPY_MODEL_58c4dfaed67c40de97048db4942d0755",
       "style": "IPY_MODEL_ea11cb0212d045e499c3592154763862",
       "value": " 1627/1637 [00:16&lt;00:00, 101.90it/s]"
      }
     },
     "6fd106e158a04cf0a51160477f658970": {
      "model_module": "@jupyter-widgets/base",
      "model_module_version": "1.2.0",
      "model_name": "LayoutModel",
      "state": {}
     },
     "7021d8dd5f3d4e26a7f6dde545a168a7": {
      "model_module": "@jupyter-widgets/controls",
      "model_module_version": "1.5.0",
      "model_name": "HBoxModel",
      "state": {
       "children": [
        "IPY_MODEL_76580b18b26440cfb97b4372ddf0df5b",
        "IPY_MODEL_3e18aadf83ca4284a1652140ae7053fa",
        "IPY_MODEL_bd1eff5a7b8148138bac02ca153b3387"
       ],
       "layout": "IPY_MODEL_6d70e2f98c0e478983a12da54b5c60bb"
      }
     },
     "70553ec5662c49e09ba4b9ce3593dd4f": {
      "model_module": "@jupyter-widgets/controls",
      "model_module_version": "1.5.0",
      "model_name": "DescriptionStyleModel",
      "state": {
       "description_width": ""
      }
     },
     "706066a841cc45eb8a764e0f12958eed": {
      "model_module": "@jupyter-widgets/base",
      "model_module_version": "1.2.0",
      "model_name": "LayoutModel",
      "state": {
       "display": "inline-flex",
       "flex_flow": "row wrap",
       "width": "100%"
      }
     },
     "7063a51cb5aa4380be39ac19cc69ce17": {
      "model_module": "@jupyter-widgets/controls",
      "model_module_version": "1.5.0",
      "model_name": "HTMLModel",
      "state": {
       "layout": "IPY_MODEL_40384ab5b7f0442fbba49ffe1c6a913a",
       "style": "IPY_MODEL_42604f07d06e45be8a3257a73472d9c6",
       "value": " 1608/1629 [00:07&lt;00:00, 219.50it/s]"
      }
     },
     "706ceda8c9d249d4bc2d9ce1dfb78a77": {
      "model_module": "@jupyter-widgets/base",
      "model_module_version": "1.2.0",
      "model_name": "LayoutModel",
      "state": {
       "flex": "2"
      }
     },
     "7091d731504e4567bbf17a56270e28e0": {
      "model_module": "@jupyter-widgets/controls",
      "model_module_version": "1.5.0",
      "model_name": "DescriptionStyleModel",
      "state": {
       "description_width": ""
      }
     },
     "70c4b171aa6543ceb05071c065ea0a5d": {
      "model_module": "@jupyter-widgets/controls",
      "model_module_version": "1.5.0",
      "model_name": "DescriptionStyleModel",
      "state": {
       "description_width": ""
      }
     },
     "70fc405cc1474a42a680f403875ccd9c": {
      "model_module": "@jupyter-widgets/controls",
      "model_module_version": "1.5.0",
      "model_name": "DescriptionStyleModel",
      "state": {
       "description_width": ""
      }
     },
     "710d3feb33e84f299817d3977bec18b0": {
      "model_module": "@jupyter-widgets/controls",
      "model_module_version": "1.5.0",
      "model_name": "DescriptionStyleModel",
      "state": {
       "description_width": ""
      }
     },
     "711dcd092fe94b1fa597b44091a02419": {
      "model_module": "@jupyter-widgets/controls",
      "model_module_version": "1.5.0",
      "model_name": "DescriptionStyleModel",
      "state": {
       "description_width": ""
      }
     },
     "71515427099e46d69682b8f2b3bfafbc": {
      "model_module": "@jupyter-widgets/base",
      "model_module_version": "1.2.0",
      "model_name": "LayoutModel",
      "state": {}
     },
     "715340de45054588826be3d6e8bf7dc9": {
      "model_module": "@jupyter-widgets/controls",
      "model_module_version": "1.5.0",
      "model_name": "FloatProgressModel",
      "state": {
       "layout": "IPY_MODEL_32795e16acb945099f33861e89d5e33f",
       "max": 1637,
       "style": "IPY_MODEL_7998a47b7f0842909f18cf3bf0f5d8f8",
       "value": 1637
      }
     },
     "7170d1e640274e38bc38ea1f4e0d1afa": {
      "model_module": "@jupyter-widgets/base",
      "model_module_version": "1.2.0",
      "model_name": "LayoutModel",
      "state": {
       "flex": "2"
      }
     },
     "71754926ac46458bb322b27571ca5dda": {
      "model_module": "@jupyter-widgets/base",
      "model_module_version": "1.2.0",
      "model_name": "LayoutModel",
      "state": {}
     },
     "7182e8aff77343c591eac6eb60816edf": {
      "model_module": "@jupyter-widgets/controls",
      "model_module_version": "1.5.0",
      "model_name": "HTMLModel",
      "state": {
       "layout": "IPY_MODEL_da528eeabad84a9f946c553edaee04e2",
       "style": "IPY_MODEL_275a88b9c3434713abca772eb25be546",
       "value": "Validating: 100%"
      }
     },
     "71c9257f7820495f843a2df04ecd4a62": {
      "model_module": "@jupyter-widgets/controls",
      "model_module_version": "1.5.0",
      "model_name": "DescriptionStyleModel",
      "state": {
       "description_width": ""
      }
     },
     "7206d7ce52074f758be05e2991e5733d": {
      "model_module": "@jupyter-widgets/controls",
      "model_module_version": "1.5.0",
      "model_name": "ProgressStyleModel",
      "state": {
       "description_width": ""
      }
     },
     "7227af6bd7564ecfac3a2af563a09051": {
      "model_module": "@jupyter-widgets/controls",
      "model_module_version": "1.5.0",
      "model_name": "HTMLModel",
      "state": {
       "layout": "IPY_MODEL_1f73325202aa47168ef567506835608e",
       "style": "IPY_MODEL_033a41a5174549b7a2d55f618f810c7e",
       "value": "Validating: 100%"
      }
     },
     "72bd2c218e8647549f99b74dd401afa5": {
      "model_module": "@jupyter-widgets/base",
      "model_module_version": "1.2.0",
      "model_name": "LayoutModel",
      "state": {}
     },
     "72d157fb9850440ea7a683dde707cec6": {
      "model_module": "@jupyter-widgets/controls",
      "model_module_version": "1.5.0",
      "model_name": "HTMLModel",
      "state": {
       "layout": "IPY_MODEL_e7a6a240e8b149aab4105d12734174d2",
       "style": "IPY_MODEL_5932520a91c94050bd841de341b11bad",
       "value": "Validating: 100%"
      }
     },
     "734a011ec620418298aa871ae6000f1d": {
      "model_module": "@jupyter-widgets/base",
      "model_module_version": "1.2.0",
      "model_name": "LayoutModel",
      "state": {
       "flex": "2"
      }
     },
     "7389d5ecf8374b1fa4ed4d63a31c6a2b": {
      "model_module": "@jupyter-widgets/controls",
      "model_module_version": "1.5.0",
      "model_name": "DescriptionStyleModel",
      "state": {
       "description_width": ""
      }
     },
     "740b9d3169d241e8bf4083c0bbb6cf2b": {
      "model_module": "@jupyter-widgets/controls",
      "model_module_version": "1.5.0",
      "model_name": "HTMLModel",
      "state": {
       "layout": "IPY_MODEL_e1df8fd1feda4314bbe4399ba421ad24",
       "style": "IPY_MODEL_7091d731504e4567bbf17a56270e28e0",
       "value": " 1/2 [00:00&lt;00:00,  2.34it/s]"
      }
     },
     "7417adefe7814c34a14c154b82aa631c": {
      "model_module": "@jupyter-widgets/base",
      "model_module_version": "1.2.0",
      "model_name": "LayoutModel",
      "state": {
       "display": "inline-flex",
       "flex_flow": "row wrap",
       "width": "100%"
      }
     },
     "7418dc5674754e40ab3a11e4d35f765a": {
      "model_module": "@jupyter-widgets/controls",
      "model_module_version": "1.5.0",
      "model_name": "ProgressStyleModel",
      "state": {
       "description_width": ""
      }
     },
     "742df5501898493cb371ee2ef32eda68": {
      "model_module": "@jupyter-widgets/base",
      "model_module_version": "1.2.0",
      "model_name": "LayoutModel",
      "state": {
       "flex": "2"
      }
     },
     "744cdf3934544d26a70fbd7e51f8092c": {
      "model_module": "@jupyter-widgets/controls",
      "model_module_version": "1.5.0",
      "model_name": "DescriptionStyleModel",
      "state": {
       "description_width": ""
      }
     },
     "7460e3229aab4b7a8c9021c105f90120": {
      "model_module": "@jupyter-widgets/base",
      "model_module_version": "1.2.0",
      "model_name": "LayoutModel",
      "state": {}
     },
     "74734954ad194f3aa7c5a721f09ae26e": {
      "model_module": "@jupyter-widgets/base",
      "model_module_version": "1.2.0",
      "model_name": "LayoutModel",
      "state": {}
     },
     "74e6b66645644be9aad2a8d68fecf526": {
      "model_module": "@jupyter-widgets/controls",
      "model_module_version": "1.5.0",
      "model_name": "DescriptionStyleModel",
      "state": {
       "description_width": ""
      }
     },
     "74f5bd75278a4f20a2e41d9769d83c80": {
      "model_module": "@jupyter-widgets/base",
      "model_module_version": "1.2.0",
      "model_name": "LayoutModel",
      "state": {}
     },
     "751640b0000042148eedaf13f1a11a02": {
      "model_module": "@jupyter-widgets/base",
      "model_module_version": "1.2.0",
      "model_name": "LayoutModel",
      "state": {
       "display": "inline-flex",
       "flex_flow": "row wrap",
       "width": "100%"
      }
     },
     "7533ef3f8bb9439b912cd31e83cf4a4a": {
      "model_module": "@jupyter-widgets/controls",
      "model_module_version": "1.5.0",
      "model_name": "HTMLModel",
      "state": {
       "layout": "IPY_MODEL_0089c2f31d6a48ae82983e1416faa616",
       "style": "IPY_MODEL_7c90bad97ba94781bd2e0232c7aa3168",
       "value": " 1594/1595 [00:07&lt;00:00, 228.56it/s]"
      }
     },
     "753fa4550636402ebcf89c875025cb99": {
      "model_module": "@jupyter-widgets/base",
      "model_module_version": "1.2.0",
      "model_name": "LayoutModel",
      "state": {
       "display": "inline-flex",
       "flex_flow": "row wrap",
       "width": "100%"
      }
     },
     "757325d78f584476b997983941367145": {
      "model_module": "@jupyter-widgets/base",
      "model_module_version": "1.2.0",
      "model_name": "LayoutModel",
      "state": {
       "display": "inline-flex",
       "flex_flow": "row wrap",
       "width": "100%"
      }
     },
     "7592a18936a449c1a97b2a5ef3ecd0ed": {
      "model_module": "@jupyter-widgets/controls",
      "model_module_version": "1.5.0",
      "model_name": "DescriptionStyleModel",
      "state": {
       "description_width": ""
      }
     },
     "75b139f1a852489eb648f9bf13cc8d97": {
      "model_module": "@jupyter-widgets/base",
      "model_module_version": "1.2.0",
      "model_name": "LayoutModel",
      "state": {}
     },
     "76580b18b26440cfb97b4372ddf0df5b": {
      "model_module": "@jupyter-widgets/controls",
      "model_module_version": "1.5.0",
      "model_name": "HTMLModel",
      "state": {
       "layout": "IPY_MODEL_bf81a0df8d4a48b4950c4e87e5c36bc4",
       "style": "IPY_MODEL_7fe10451dcb34ee9bf0256be7a79d726",
       "value": "Epoch 11: 100%"
      }
     },
     "76689c54f0b64ca8bf939715a0e138a9": {
      "model_module": "@jupyter-widgets/base",
      "model_module_version": "1.2.0",
      "model_name": "LayoutModel",
      "state": {
       "display": "inline-flex",
       "flex_flow": "row wrap",
       "width": "100%"
      }
     },
     "76b3635bf06545fc9cda9c3ecb706f36": {
      "model_module": "@jupyter-widgets/controls",
      "model_module_version": "1.5.0",
      "model_name": "ProgressStyleModel",
      "state": {
       "description_width": ""
      }
     },
     "76d2b78ca90d4c7799a1e6bc79a315a9": {
      "model_module": "@jupyter-widgets/controls",
      "model_module_version": "1.5.0",
      "model_name": "HTMLModel",
      "state": {
       "layout": "IPY_MODEL_48e66b4ca0f84f13859711d30a7bdb26",
       "style": "IPY_MODEL_ad225cc6105749dea21e452ca6406a7c",
       "value": " 1593/1596 [00:16&lt;00:00, 100.37it/s]"
      }
     },
     "7721857ec6c940669c7d53759c34c747": {
      "model_module": "@jupyter-widgets/controls",
      "model_module_version": "1.5.0",
      "model_name": "HTMLModel",
      "state": {
       "layout": "IPY_MODEL_9bba5f1177324792b5afecd81edec393",
       "style": "IPY_MODEL_494adea5fd22450193667ce517814c6d",
       "value": " 1620/1629 [00:15&lt;00:00, 105.38it/s]"
      }
     },
     "77423941f569488bb3a65e74922a7678": {
      "model_module": "@jupyter-widgets/base",
      "model_module_version": "1.2.0",
      "model_name": "LayoutModel",
      "state": {
       "flex": "2"
      }
     },
     "7762de092b054ee98ef247e64f81f392": {
      "model_module": "@jupyter-widgets/base",
      "model_module_version": "1.2.0",
      "model_name": "LayoutModel",
      "state": {
       "flex": "2"
      }
     },
     "77912d7cda2b4484b53eb9c2e85cf64a": {
      "model_module": "@jupyter-widgets/controls",
      "model_module_version": "1.5.0",
      "model_name": "DescriptionStyleModel",
      "state": {
       "description_width": ""
      }
     },
     "779d54b48b7948d6933512e31f579d8a": {
      "model_module": "@jupyter-widgets/controls",
      "model_module_version": "1.5.0",
      "model_name": "ProgressStyleModel",
      "state": {
       "description_width": ""
      }
     },
     "77a590c95a064eb88f8cf9ee08200b84": {
      "model_module": "@jupyter-widgets/controls",
      "model_module_version": "1.5.0",
      "model_name": "HTMLModel",
      "state": {
       "layout": "IPY_MODEL_99f3d337b2984e7ebd61201cf4c1742a",
       "style": "IPY_MODEL_9441e5bbd9b24e69a1155d698dc272ec",
       "value": "Validating: 100%"
      }
     },
     "77a6ee2a82e848efa60ce23d78eb0a33": {
      "model_module": "@jupyter-widgets/base",
      "model_module_version": "1.2.0",
      "model_name": "LayoutModel",
      "state": {}
     },
     "77ada27fba92435ca09147e4f835eb9a": {
      "model_module": "@jupyter-widgets/controls",
      "model_module_version": "1.5.0",
      "model_name": "DescriptionStyleModel",
      "state": {
       "description_width": ""
      }
     },
     "77ccdfafcaa3451c8dee54f32a308c5d": {
      "model_module": "@jupyter-widgets/controls",
      "model_module_version": "1.5.0",
      "model_name": "HTMLModel",
      "state": {
       "layout": "IPY_MODEL_269cd26397fc40998b6dc359f7147d06",
       "style": "IPY_MODEL_e44b2017eb7d40699878a0a3de05cea8",
       "value": " 1/2 [00:00&lt;00:00,  2.31it/s]"
      }
     },
     "781b52a427d04f97970fe1d48bc2347b": {
      "model_module": "@jupyter-widgets/controls",
      "model_module_version": "1.5.0",
      "model_name": "FloatProgressModel",
      "state": {
       "layout": "IPY_MODEL_fe8f143c3d344d20b38a55c979e782fb",
       "max": 1637,
       "style": "IPY_MODEL_559746fcd6a04638854b837e0bacd8ea",
       "value": 1637
      }
     },
     "781d9a8af16c4a9ba54c107dff889d38": {
      "model_module": "@jupyter-widgets/base",
      "model_module_version": "1.2.0",
      "model_name": "LayoutModel",
      "state": {
       "display": "inline-flex",
       "flex_flow": "row wrap",
       "width": "100%"
      }
     },
     "78b50a3a1bb94e249eafdb79aa1ee24a": {
      "model_module": "@jupyter-widgets/base",
      "model_module_version": "1.2.0",
      "model_name": "LayoutModel",
      "state": {
       "display": "inline-flex",
       "flex_flow": "row wrap",
       "width": "100%"
      }
     },
     "78baf3a0c4f849e3816eea3d3f16bf3a": {
      "model_module": "@jupyter-widgets/controls",
      "model_module_version": "1.5.0",
      "model_name": "DescriptionStyleModel",
      "state": {
       "description_width": ""
      }
     },
     "78d5a07d16d84262acdcaec7108365b5": {
      "model_module": "@jupyter-widgets/controls",
      "model_module_version": "1.5.0",
      "model_name": "HTMLModel",
      "state": {
       "layout": "IPY_MODEL_4b5763c29267454b9cf4821ec9712cdd",
       "style": "IPY_MODEL_b22344b0a5574dd1a0476102379e362c",
       "value": "Validating: 100%"
      }
     },
     "791286169f8c4ab0a4e9089432516e7e": {
      "model_module": "@jupyter-widgets/controls",
      "model_module_version": "1.5.0",
      "model_name": "HTMLModel",
      "state": {
       "layout": "IPY_MODEL_a1203552264a4541ae650d5713d061cb",
       "style": "IPY_MODEL_578a8ecc64ef423b968a4312cf83cacb",
       "value": "Validating: 100%"
      }
     },
     "792aeb638e014e169d1a4fad237ec092": {
      "model_module": "@jupyter-widgets/controls",
      "model_module_version": "1.5.0",
      "model_name": "ProgressStyleModel",
      "state": {
       "description_width": ""
      }
     },
     "7998a47b7f0842909f18cf3bf0f5d8f8": {
      "model_module": "@jupyter-widgets/controls",
      "model_module_version": "1.5.0",
      "model_name": "ProgressStyleModel",
      "state": {
       "description_width": ""
      }
     },
     "79a4e8f57a55432fb5139d9c81d3600d": {
      "model_module": "@jupyter-widgets/controls",
      "model_module_version": "1.5.0",
      "model_name": "HTMLModel",
      "state": {
       "layout": "IPY_MODEL_3388d55bb07a45cb8fb68174286721c6",
       "style": "IPY_MODEL_c588848b6efd4fac93e6d1c890064445",
       "value": " 1735/1737 [00:17&lt;00:00, 99.72it/s]"
      }
     },
     "79c0831e3b1742188c07f4135c25b799": {
      "model_module": "@jupyter-widgets/controls",
      "model_module_version": "1.5.0",
      "model_name": "HTMLModel",
      "state": {
       "layout": "IPY_MODEL_0826fbc3a7074987a044ee2bb53d7de3",
       "style": "IPY_MODEL_b12e98101228421a80d097fbd97f2259",
       "value": "Validating: 100%"
      }
     },
     "7aeed7c701924b90809fe71f1dfc57d3": {
      "model_module": "@jupyter-widgets/controls",
      "model_module_version": "1.5.0",
      "model_name": "DescriptionStyleModel",
      "state": {
       "description_width": ""
      }
     },
     "7afe97569fb04b88a8dec3595d8b4ab0": {
      "model_module": "@jupyter-widgets/base",
      "model_module_version": "1.2.0",
      "model_name": "LayoutModel",
      "state": {
       "flex": "2"
      }
     },
     "7b3ffec333b84418aace2f482df36c50": {
      "model_module": "@jupyter-widgets/controls",
      "model_module_version": "1.5.0",
      "model_name": "HTMLModel",
      "state": {
       "layout": "IPY_MODEL_08aed0de706a48bdb5aaa9229cdb9cf4",
       "style": "IPY_MODEL_f7a361dad4f2408785d8cb46de616ec2",
       "value": " 1587/1587 [00:16&lt;00:00, 102.39it/s]"
      }
     },
     "7b8c8b0407c74f1c8e828d3f06786e95": {
      "model_module": "@jupyter-widgets/base",
      "model_module_version": "1.2.0",
      "model_name": "LayoutModel",
      "state": {
       "flex": "2"
      }
     },
     "7b8fa21ddc7d4670bbac45a4f93129d9": {
      "model_module": "@jupyter-widgets/controls",
      "model_module_version": "1.5.0",
      "model_name": "ProgressStyleModel",
      "state": {
       "description_width": ""
      }
     },
     "7ba31cc9455843c18415a93a477bb17b": {
      "model_module": "@jupyter-widgets/controls",
      "model_module_version": "1.5.0",
      "model_name": "HTMLModel",
      "state": {
       "layout": "IPY_MODEL_d7d1f82fc93c4db2b79f47f0f3629d14",
       "style": "IPY_MODEL_8a56d8524c7d4251880fa6af05ac222c",
       "value": " 1594/1595 [00:15&lt;00:00, 108.52it/s]"
      }
     },
     "7ba5a35e98054f8fbb64906758bacaf4": {
      "model_module": "@jupyter-widgets/controls",
      "model_module_version": "1.5.0",
      "model_name": "HTMLModel",
      "state": {
       "layout": "IPY_MODEL_7d16dd184c1b496faa99f21ddba46e13",
       "style": "IPY_MODEL_2e940990e6fb4368a166e41440dd22d5",
       "value": " 1728/1737 [00:17&lt;00:00, 100.44it/s]"
      }
     },
     "7bb587dc12b34d12ba5bedd731d90107": {
      "model_module": "@jupyter-widgets/controls",
      "model_module_version": "1.5.0",
      "model_name": "ProgressStyleModel",
      "state": {
       "description_width": ""
      }
     },
     "7be32759f94b43aa99a1a8c6d474962e": {
      "model_module": "@jupyter-widgets/controls",
      "model_module_version": "1.5.0",
      "model_name": "DescriptionStyleModel",
      "state": {
       "description_width": ""
      }
     },
     "7c03523cdf46461a86dcd345a7db77a1": {
      "model_module": "@jupyter-widgets/base",
      "model_module_version": "1.2.0",
      "model_name": "LayoutModel",
      "state": {}
     },
     "7c4bea8289574e2d8ab8e55ec856d38e": {
      "model_module": "@jupyter-widgets/base",
      "model_module_version": "1.2.0",
      "model_name": "LayoutModel",
      "state": {
       "display": "inline-flex",
       "flex_flow": "row wrap",
       "width": "100%"
      }
     },
     "7c90bad97ba94781bd2e0232c7aa3168": {
      "model_module": "@jupyter-widgets/controls",
      "model_module_version": "1.5.0",
      "model_name": "DescriptionStyleModel",
      "state": {
       "description_width": ""
      }
     },
     "7cd25c30036e4e868f7ae870e3ad02f3": {
      "model_module": "@jupyter-widgets/controls",
      "model_module_version": "1.5.0",
      "model_name": "DescriptionStyleModel",
      "state": {
       "description_width": ""
      }
     },
     "7d16dd184c1b496faa99f21ddba46e13": {
      "model_module": "@jupyter-widgets/base",
      "model_module_version": "1.2.0",
      "model_name": "LayoutModel",
      "state": {}
     },
     "7d61a875431f460a8068d87e4e246b80": {
      "model_module": "@jupyter-widgets/controls",
      "model_module_version": "1.5.0",
      "model_name": "FloatProgressModel",
      "state": {
       "layout": "IPY_MODEL_2f68ca4e59474623911f8a592fa25703",
       "max": 1629,
       "style": "IPY_MODEL_9e33bafe7907449d9321623464ee320a",
       "value": 1629
      }
     },
     "7d8f2547d71642eea6b0b097c565170f": {
      "model_module": "@jupyter-widgets/base",
      "model_module_version": "1.2.0",
      "model_name": "LayoutModel",
      "state": {
       "display": "inline-flex",
       "flex_flow": "row wrap",
       "width": "100%"
      }
     },
     "7d9b6afce0794dde84328bd3c05c9b8c": {
      "model_module": "@jupyter-widgets/controls",
      "model_module_version": "1.5.0",
      "model_name": "FloatProgressModel",
      "state": {
       "layout": "IPY_MODEL_d978220916ee4314b06ed4fd7dc17818",
       "max": 1596,
       "style": "IPY_MODEL_09dc94242d6c4534adc6fe5cee387c76",
       "value": 1596
      }
     },
     "7da987d20d7349ec8244c96aeaddbb0a": {
      "model_module": "@jupyter-widgets/base",
      "model_module_version": "1.2.0",
      "model_name": "LayoutModel",
      "state": {}
     },
     "7dbddf00f4284645967f499099389643": {
      "model_module": "@jupyter-widgets/controls",
      "model_module_version": "1.5.0",
      "model_name": "DescriptionStyleModel",
      "state": {
       "description_width": ""
      }
     },
     "7e06bfee849c48b8851278bb027149aa": {
      "model_module": "@jupyter-widgets/controls",
      "model_module_version": "1.5.0",
      "model_name": "HTMLModel",
      "state": {
       "layout": "IPY_MODEL_8267a320e14f47a0806ab2eeae41431f",
       "style": "IPY_MODEL_b21a53e99fc74aca9459043f53927665",
       "value": " 13690/13690 [04:38&lt;00:00, 49.21it/s, loss=0.169, v_num=it_2]"
      }
     },
     "7e648728e26443549ca678fce43c1830": {
      "model_module": "@jupyter-widgets/controls",
      "model_module_version": "1.5.0",
      "model_name": "DescriptionStyleModel",
      "state": {
       "description_width": ""
      }
     },
     "7e705696c8db4f65b22ae53607843115": {
      "model_module": "@jupyter-widgets/controls",
      "model_module_version": "1.5.0",
      "model_name": "DescriptionStyleModel",
      "state": {
       "description_width": ""
      }
     },
     "7ebe393fc5e24be2bb3ebe9784d882c2": {
      "model_module": "@jupyter-widgets/controls",
      "model_module_version": "1.5.0",
      "model_name": "DescriptionStyleModel",
      "state": {
       "description_width": ""
      }
     },
     "7ecc3701d47e44409422034f4b0952bf": {
      "model_module": "@jupyter-widgets/controls",
      "model_module_version": "1.5.0",
      "model_name": "ProgressStyleModel",
      "state": {
       "description_width": ""
      }
     },
     "7ee380826fb248aa9b4f63bb61c5ca33": {
      "model_module": "@jupyter-widgets/controls",
      "model_module_version": "1.5.0",
      "model_name": "HTMLModel",
      "state": {
       "layout": "IPY_MODEL_633b4c2ccfed4bf79885e731cd589cac",
       "style": "IPY_MODEL_a1b2d28403f6461587dba26ada2aad84",
       "value": " 1636/1637 [00:16&lt;00:00, 103.83it/s]"
      }
     },
     "7f310f67c636442c9149d18cea271df6": {
      "model_module": "@jupyter-widgets/base",
      "model_module_version": "1.2.0",
      "model_name": "LayoutModel",
      "state": {
       "display": "inline-flex",
       "flex_flow": "row wrap",
       "width": "100%"
      }
     },
     "7fbad61f731544f3a01c4bb7513110cc": {
      "model_module": "@jupyter-widgets/base",
      "model_module_version": "1.2.0",
      "model_name": "LayoutModel",
      "state": {
       "flex": "2"
      }
     },
     "7fe10451dcb34ee9bf0256be7a79d726": {
      "model_module": "@jupyter-widgets/controls",
      "model_module_version": "1.5.0",
      "model_name": "DescriptionStyleModel",
      "state": {
       "description_width": ""
      }
     },
     "8025080168084dd3a7627254aceaf912": {
      "model_module": "@jupyter-widgets/base",
      "model_module_version": "1.2.0",
      "model_name": "LayoutModel",
      "state": {}
     },
     "8026275c79f34cda942ddc61b3efcc76": {
      "model_module": "@jupyter-widgets/base",
      "model_module_version": "1.2.0",
      "model_name": "LayoutModel",
      "state": {
       "flex": "2"
      }
     },
     "8033ef3af78c49209c2f6c816df59388": {
      "model_module": "@jupyter-widgets/controls",
      "model_module_version": "1.5.0",
      "model_name": "FloatProgressModel",
      "state": {
       "bar_style": "success",
       "layout": "IPY_MODEL_5149263b28bc4b62958bf34d024538f9",
       "max": 1,
       "style": "IPY_MODEL_b04bd0abf1eb47fabfcb13cff723ec2f",
       "value": 1
      }
     },
     "80c344d0d2db46bd97db03cfb3f1eb30": {
      "model_module": "@jupyter-widgets/controls",
      "model_module_version": "1.5.0",
      "model_name": "DescriptionStyleModel",
      "state": {
       "description_width": ""
      }
     },
     "80c932cc0cba4497969cff48c6efb0fd": {
      "model_module": "@jupyter-widgets/controls",
      "model_module_version": "1.5.0",
      "model_name": "HBoxModel",
      "state": {
       "children": [
        "IPY_MODEL_bfedd4363b094a0ab074ae965a96067f",
        "IPY_MODEL_3ed0d08bc97b4c619ece27407d6d220b",
        "IPY_MODEL_7e06bfee849c48b8851278bb027149aa"
       ],
       "layout": "IPY_MODEL_20b878dfba7643ed945e84b7a6dfbc79"
      }
     },
     "8160b2bf3cf043b6b04ff2edac4d81d7": {
      "model_module": "@jupyter-widgets/base",
      "model_module_version": "1.2.0",
      "model_name": "LayoutModel",
      "state": {}
     },
     "817f57dd366840ad8b944a35ced035b3": {
      "model_module": "@jupyter-widgets/base",
      "model_module_version": "1.2.0",
      "model_name": "LayoutModel",
      "state": {}
     },
     "818c29941573475f980047742d43d8bf": {
      "model_module": "@jupyter-widgets/base",
      "model_module_version": "1.2.0",
      "model_name": "LayoutModel",
      "state": {}
     },
     "818e355a401f419e8a92491563f747b6": {
      "model_module": "@jupyter-widgets/controls",
      "model_module_version": "1.5.0",
      "model_name": "ProgressStyleModel",
      "state": {
       "description_width": ""
      }
     },
     "81fadc8c8c66419e97ae9009cef7797e": {
      "model_module": "@jupyter-widgets/controls",
      "model_module_version": "1.5.0",
      "model_name": "DescriptionStyleModel",
      "state": {
       "description_width": ""
      }
     },
     "81fd77529333485384ad58b6879b7e24": {
      "model_module": "@jupyter-widgets/controls",
      "model_module_version": "1.5.0",
      "model_name": "DescriptionStyleModel",
      "state": {
       "description_width": ""
      }
     },
     "820ee958e8eb498da3641088be35e434": {
      "model_module": "@jupyter-widgets/base",
      "model_module_version": "1.2.0",
      "model_name": "LayoutModel",
      "state": {
       "display": "inline-flex",
       "flex_flow": "row wrap",
       "width": "100%"
      }
     },
     "821122487b0b4249b81de3c81d7db8ce": {
      "model_module": "@jupyter-widgets/base",
      "model_module_version": "1.2.0",
      "model_name": "LayoutModel",
      "state": {
       "flex": "2"
      }
     },
     "8223585de73f4f41a6640139fec435ed": {
      "model_module": "@jupyter-widgets/base",
      "model_module_version": "1.2.0",
      "model_name": "LayoutModel",
      "state": {
       "display": "inline-flex",
       "flex_flow": "row wrap",
       "width": "100%"
      }
     },
     "822747de1df240438ea69c5594097940": {
      "model_module": "@jupyter-widgets/controls",
      "model_module_version": "1.5.0",
      "model_name": "FloatProgressModel",
      "state": {
       "layout": "IPY_MODEL_d9d697b5985c4093829d6e311f85f880",
       "max": 1737,
       "style": "IPY_MODEL_b25355ac5d924c9cb4d417d8fec28030",
       "value": 1737
      }
     },
     "8244016cbb2240e4a82d29b9ee364aad": {
      "model_module": "@jupyter-widgets/controls",
      "model_module_version": "1.5.0",
      "model_name": "FloatProgressModel",
      "state": {
       "layout": "IPY_MODEL_ed50a05e2768434d80bf46b47a232848",
       "max": 1737,
       "style": "IPY_MODEL_7ecc3701d47e44409422034f4b0952bf",
       "value": 1737
      }
     },
     "8267a320e14f47a0806ab2eeae41431f": {
      "model_module": "@jupyter-widgets/base",
      "model_module_version": "1.2.0",
      "model_name": "LayoutModel",
      "state": {}
     },
     "8284ea7facff4bd2862e63bbf07a5cbf": {
      "model_module": "@jupyter-widgets/controls",
      "model_module_version": "1.5.0",
      "model_name": "HTMLModel",
      "state": {
       "layout": "IPY_MODEL_3fe559f6676948138b9480cbe87c9f35",
       "style": "IPY_MODEL_ab8cd7f0eeef4825ac6f916b782b55ca",
       "value": "Validating: 100%"
      }
     },
     "82beeb7e12104932b8ed7bcf6475680b": {
      "model_module": "@jupyter-widgets/controls",
      "model_module_version": "1.5.0",
      "model_name": "DescriptionStyleModel",
      "state": {
       "description_width": ""
      }
     },
     "833c2f839b4e4a89b35c0eda6f947f6d": {
      "model_module": "@jupyter-widgets/controls",
      "model_module_version": "1.5.0",
      "model_name": "HBoxModel",
      "state": {
       "children": [
        "IPY_MODEL_6b964f5d243e49468e5a679a42e4df0f",
        "IPY_MODEL_8a4d96b7a0444cb08754df0ea8909846",
        "IPY_MODEL_93e48b2bad134a77b85ad2a9cefc63fd"
       ],
       "layout": "IPY_MODEL_08480b248c664489a1dc16ad203e396b"
      }
     },
     "833da9f61e4c47c38a2fbaad35f6a37c": {
      "model_module": "@jupyter-widgets/base",
      "model_module_version": "1.2.0",
      "model_name": "LayoutModel",
      "state": {
       "flex": "2"
      }
     },
     "834625ad591a4c5194d286e5363c729c": {
      "model_module": "@jupyter-widgets/controls",
      "model_module_version": "1.5.0",
      "model_name": "DescriptionStyleModel",
      "state": {
       "description_width": ""
      }
     },
     "839224d8ff614f85abb568818dfc2a08": {
      "model_module": "@jupyter-widgets/controls",
      "model_module_version": "1.5.0",
      "model_name": "HTMLModel",
      "state": {
       "layout": "IPY_MODEL_6d40435fa6874c87a9b21f891a7ba2dc",
       "style": "IPY_MODEL_ad9f4c9986ca4db09e850bac014b662f",
       "value": "Epoch 10: 100%"
      }
     },
     "83b0162817b347eb8e21673d78d8a472": {
      "model_module": "@jupyter-widgets/base",
      "model_module_version": "1.2.0",
      "model_name": "LayoutModel",
      "state": {
       "display": "inline-flex",
       "flex_flow": "row wrap",
       "width": "100%"
      }
     },
     "83e6fad3136a4bab8c2ad42643531081": {
      "model_module": "@jupyter-widgets/controls",
      "model_module_version": "1.5.0",
      "model_name": "DescriptionStyleModel",
      "state": {
       "description_width": ""
      }
     },
     "842fc07b4bc5438eb5568956e4607c5c": {
      "model_module": "@jupyter-widgets/controls",
      "model_module_version": "1.5.0",
      "model_name": "FloatProgressModel",
      "state": {
       "bar_style": "success",
       "layout": "IPY_MODEL_24540e6c36aa431c9c88d8b6cfc22203",
       "max": 1,
       "style": "IPY_MODEL_bad1ebd567c941fdb3614061d182829f",
       "value": 1
      }
     },
     "844a95afb7784865a10f4a618eb5edf2": {
      "model_module": "@jupyter-widgets/controls",
      "model_module_version": "1.5.0",
      "model_name": "FloatProgressModel",
      "state": {
       "layout": "IPY_MODEL_912c9b9da48e42a2b9aa0d9be5ad1be0",
       "max": 1596,
       "style": "IPY_MODEL_76b3635bf06545fc9cda9c3ecb706f36",
       "value": 1596
      }
     },
     "844e4ac6bc0d482ebc7b02ca8e50ab2b": {
      "model_module": "@jupyter-widgets/base",
      "model_module_version": "1.2.0",
      "model_name": "LayoutModel",
      "state": {
       "display": "inline-flex",
       "flex_flow": "row wrap",
       "width": "100%"
      }
     },
     "84780261f558457e8aff312fc854919d": {
      "model_module": "@jupyter-widgets/controls",
      "model_module_version": "1.5.0",
      "model_name": "HTMLModel",
      "state": {
       "layout": "IPY_MODEL_482aa9f73d394bc99ea1934a6771d69f",
       "style": "IPY_MODEL_07aae44a14ef4bc1ac2cc257cd1c5df5",
       "value": "Validating: 100%"
      }
     },
     "8491f09043b24e06b2a096376bd9f422": {
      "model_module": "@jupyter-widgets/base",
      "model_module_version": "1.2.0",
      "model_name": "LayoutModel",
      "state": {}
     },
     "8494abcd467a4fce9277c7d99327c88c": {
      "model_module": "@jupyter-widgets/controls",
      "model_module_version": "1.5.0",
      "model_name": "DescriptionStyleModel",
      "state": {
       "description_width": ""
      }
     },
     "849afd48061c406296278e0a500363ea": {
      "model_module": "@jupyter-widgets/controls",
      "model_module_version": "1.5.0",
      "model_name": "ProgressStyleModel",
      "state": {
       "description_width": ""
      }
     },
     "84a63db27c9e4b7586ce78d259868168": {
      "model_module": "@jupyter-widgets/controls",
      "model_module_version": "1.5.0",
      "model_name": "FloatProgressModel",
      "state": {
       "layout": "IPY_MODEL_54b8acdd936248acb91a6236488143c5",
       "max": 1637,
       "style": "IPY_MODEL_ed8468fcceaf4d20a7d31ae035d72205",
       "value": 1637
      }
     },
     "84eb514725de4d769fb7824ffffbd7fc": {
      "model_module": "@jupyter-widgets/base",
      "model_module_version": "1.2.0",
      "model_name": "LayoutModel",
      "state": {
       "flex": "2"
      }
     },
     "861311f358ef464e8245ed5d77007d24": {
      "model_module": "@jupyter-widgets/controls",
      "model_module_version": "1.5.0",
      "model_name": "HTMLModel",
      "state": {
       "layout": "IPY_MODEL_2e6349e4d9a845a28d0b8320b8bfe6ad",
       "style": "IPY_MODEL_cd66e34fa48a44ddad1065e8e06d4445",
       "value": "Validating: 100%"
      }
     },
     "863c93868a904408953d12f38a2f33f5": {
      "model_module": "@jupyter-widgets/controls",
      "model_module_version": "1.5.0",
      "model_name": "HTMLModel",
      "state": {
       "layout": "IPY_MODEL_197e71df7f394214b2043cb4d2d16be6",
       "style": "IPY_MODEL_8e4e072d9dc3401d9fcf0c7e8bd4a3ac",
       "value": "Validating:  99%"
      }
     },
     "863e4b1d66f54c12bf06972e971074cb": {
      "model_module": "@jupyter-widgets/controls",
      "model_module_version": "1.5.0",
      "model_name": "ProgressStyleModel",
      "state": {
       "description_width": ""
      }
     },
     "869845d4dd6a4a0eba75f4d0bb2f1919": {
      "model_module": "@jupyter-widgets/base",
      "model_module_version": "1.2.0",
      "model_name": "LayoutModel",
      "state": {
       "flex": "2"
      }
     },
     "86cfe75cb9804c4390dea8c2ec3c2898": {
      "model_module": "@jupyter-widgets/base",
      "model_module_version": "1.2.0",
      "model_name": "LayoutModel",
      "state": {}
     },
     "875941f283be41b79385cf10ac7b6e55": {
      "model_module": "@jupyter-widgets/base",
      "model_module_version": "1.2.0",
      "model_name": "LayoutModel",
      "state": {}
     },
     "8793580e003344f7885a043f9b67b6c4": {
      "model_module": "@jupyter-widgets/controls",
      "model_module_version": "1.5.0",
      "model_name": "FloatProgressModel",
      "state": {
       "bar_style": "success",
       "layout": "IPY_MODEL_7b8c8b0407c74f1c8e828d3f06786e95",
       "max": 13691,
       "style": "IPY_MODEL_02d7ae2cee3e474a87bbd3359610a18c",
       "value": 13691
      }
     },
     "87eb5e12efc049deaeab53cfa8cb05e1": {
      "model_module": "@jupyter-widgets/controls",
      "model_module_version": "1.5.0",
      "model_name": "HTMLModel",
      "state": {
       "layout": "IPY_MODEL_25911c8f069e4dadb10aefd68cc28c5a",
       "style": "IPY_MODEL_fe7ff5f7c9764a2ca8250bc050926c1c",
       "value": "Validation sanity check:  50%"
      }
     },
     "880298b62be84e01890cd8669737059c": {
      "model_module": "@jupyter-widgets/controls",
      "model_module_version": "1.5.0",
      "model_name": "HTMLModel",
      "state": {
       "layout": "IPY_MODEL_11bda64ebf034bab8b6372ea0ec931d6",
       "style": "IPY_MODEL_2a3af20ce39d4799bf914d514a9f105f",
       "value": " 1589/1595 [00:07&lt;00:00, 229.94it/s]"
      }
     },
     "887cdf113871433094927aea15c96f2b": {
      "model_module": "@jupyter-widgets/controls",
      "model_module_version": "1.5.0",
      "model_name": "HTMLModel",
      "state": {
       "layout": "IPY_MODEL_77a6ee2a82e848efa60ce23d78eb0a33",
       "style": "IPY_MODEL_973af2784e254092a75fecd580e600c6",
       "value": " 1623/1629 [00:07&lt;00:00, 216.03it/s]"
      }
     },
     "889be4ddbef4412793f12717eb05681e": {
      "model_module": "@jupyter-widgets/controls",
      "model_module_version": "1.5.0",
      "model_name": "HTMLModel",
      "state": {
       "layout": "IPY_MODEL_90f3c45f15c14cf685c56de7c0f996c1",
       "style": "IPY_MODEL_6d3e627873df478b9461f53822f84b44",
       "value": "Validating:  99%"
      }
     },
     "88d153fc00ad4d8998d43394c9995ac2": {
      "model_module": "@jupyter-widgets/controls",
      "model_module_version": "1.5.0",
      "model_name": "ProgressStyleModel",
      "state": {
       "description_width": ""
      }
     },
     "88d4913018b345a4a2d78a3529f4b3e6": {
      "model_module": "@jupyter-widgets/controls",
      "model_module_version": "1.5.0",
      "model_name": "FloatProgressModel",
      "state": {
       "layout": "IPY_MODEL_5e8bb25c51134aba806ab20e313a035f",
       "max": 1596,
       "style": "IPY_MODEL_fa2d0f223b044a848892339ecbd3c416",
       "value": 1596
      }
     },
     "88dc87e8f14a40089f11033b24d54e40": {
      "model_module": "@jupyter-widgets/controls",
      "model_module_version": "1.5.0",
      "model_name": "DescriptionStyleModel",
      "state": {
       "description_width": ""
      }
     },
     "88e6f502a0984e88997098aa35ca7f73": {
      "model_module": "@jupyter-widgets/controls",
      "model_module_version": "1.5.0",
      "model_name": "HTMLModel",
      "state": {
       "layout": "IPY_MODEL_b4ecc7874cb1470d87883585eb791f4b",
       "style": "IPY_MODEL_dc91afb5c70a44a8b8d535e26183076c",
       "value": "Validating: 100%"
      }
     },
     "8917d356f1614436b9f4aefaf13dad48": {
      "model_module": "@jupyter-widgets/controls",
      "model_module_version": "1.5.0",
      "model_name": "ProgressStyleModel",
      "state": {
       "description_width": ""
      }
     },
     "89821d0e74114d81b558855bf803c174": {
      "model_module": "@jupyter-widgets/controls",
      "model_module_version": "1.5.0",
      "model_name": "FloatProgressModel",
      "state": {
       "layout": "IPY_MODEL_431b3a842f034daabda513b0863e726c",
       "max": 1595,
       "style": "IPY_MODEL_def61bf11b7d4ca089404f80572b3695",
       "value": 1595
      }
     },
     "89936c969d5c4ed3a08d22a30ca005e4": {
      "model_module": "@jupyter-widgets/base",
      "model_module_version": "1.2.0",
      "model_name": "LayoutModel",
      "state": {}
     },
     "89bc662f0aa94150860cff3d7d519787": {
      "model_module": "@jupyter-widgets/controls",
      "model_module_version": "1.5.0",
      "model_name": "DescriptionStyleModel",
      "state": {
       "description_width": ""
      }
     },
     "8a088a5016194d3eb53c61b347e4c0e2": {
      "model_module": "@jupyter-widgets/base",
      "model_module_version": "1.2.0",
      "model_name": "LayoutModel",
      "state": {}
     },
     "8a36b804f383435686a56e93a24e03f2": {
      "model_module": "@jupyter-widgets/base",
      "model_module_version": "1.2.0",
      "model_name": "LayoutModel",
      "state": {}
     },
     "8a370b92c68649079a668c96a641cef9": {
      "model_module": "@jupyter-widgets/controls",
      "model_module_version": "1.5.0",
      "model_name": "HTMLModel",
      "state": {
       "layout": "IPY_MODEL_f9865620a40245399ff727fbeba04c52",
       "style": "IPY_MODEL_bcc844d3ed984a0cac7da23b6ba63974",
       "value": "Testing: 100%"
      }
     },
     "8a37608eedba468a9cddc3f2cdebd59a": {
      "model_module": "@jupyter-widgets/base",
      "model_module_version": "1.2.0",
      "model_name": "LayoutModel",
      "state": {
       "flex": "2"
      }
     },
     "8a4d96b7a0444cb08754df0ea8909846": {
      "model_module": "@jupyter-widgets/controls",
      "model_module_version": "1.5.0",
      "model_name": "FloatProgressModel",
      "state": {
       "bar_style": "success",
       "layout": "IPY_MODEL_ce979ea791724e94ac241d2ce7fca597",
       "max": 13697,
       "style": "IPY_MODEL_a6ab306ff3cf4e0bbcc1e7987c3e1ddd",
       "value": 13697
      }
     },
     "8a4e47934f264c9084059c257a12fd83": {
      "model_module": "@jupyter-widgets/base",
      "model_module_version": "1.2.0",
      "model_name": "LayoutModel",
      "state": {
       "display": "inline-flex",
       "flex_flow": "row wrap",
       "width": "100%"
      }
     },
     "8a56d8524c7d4251880fa6af05ac222c": {
      "model_module": "@jupyter-widgets/controls",
      "model_module_version": "1.5.0",
      "model_name": "DescriptionStyleModel",
      "state": {
       "description_width": ""
      }
     },
     "8aa45f85f34a47cebc5c23ecf455e691": {
      "model_module": "@jupyter-widgets/controls",
      "model_module_version": "1.5.0",
      "model_name": "HTMLModel",
      "state": {
       "layout": "IPY_MODEL_71515427099e46d69682b8f2b3bfafbc",
       "style": "IPY_MODEL_234d5d1eea4b4a11991c368ba7e04f94",
       "value": " 1620/1637 [00:07&lt;00:00, 218.62it/s]"
      }
     },
     "8acfd73f6d9349ae92b8229924350867": {
      "model_module": "@jupyter-widgets/controls",
      "model_module_version": "1.5.0",
      "model_name": "DescriptionStyleModel",
      "state": {
       "description_width": ""
      }
     },
     "8ad109ba775a4c70b23844b5eb31a576": {
      "model_module": "@jupyter-widgets/base",
      "model_module_version": "1.2.0",
      "model_name": "LayoutModel",
      "state": {}
     },
     "8b4634f245564e11995ed70f44b39826": {
      "model_module": "@jupyter-widgets/base",
      "model_module_version": "1.2.0",
      "model_name": "LayoutModel",
      "state": {}
     },
     "8b96184e219a4a6c83c90943d352f34a": {
      "model_module": "@jupyter-widgets/controls",
      "model_module_version": "1.5.0",
      "model_name": "DescriptionStyleModel",
      "state": {
       "description_width": ""
      }
     },
     "8ba717458c65490e89f388fc5036c12b": {
      "model_module": "@jupyter-widgets/controls",
      "model_module_version": "1.5.0",
      "model_name": "HTMLModel",
      "state": {
       "layout": "IPY_MODEL_c446e5fbd4c443adafe6f001b9edbe5f",
       "style": "IPY_MODEL_b3d2d967e842489d9ded0fb5b00b25be",
       "value": "Validating: 100%"
      }
     },
     "8c06896004b24cfca3fa906cc83fef2f": {
      "model_module": "@jupyter-widgets/base",
      "model_module_version": "1.2.0",
      "model_name": "LayoutModel",
      "state": {
       "flex": "2"
      }
     },
     "8c0932d013ef4a0ea5c795631ebf4c3a": {
      "model_module": "@jupyter-widgets/controls",
      "model_module_version": "1.5.0",
      "model_name": "DescriptionStyleModel",
      "state": {
       "description_width": ""
      }
     },
     "8c12f2d93626467aadd4cb888a7088c7": {
      "model_module": "@jupyter-widgets/controls",
      "model_module_version": "1.5.0",
      "model_name": "ProgressStyleModel",
      "state": {
       "description_width": ""
      }
     },
     "8c2de675ba4c4ebe93aea3cfdabcaf07": {
      "model_module": "@jupyter-widgets/controls",
      "model_module_version": "1.5.0",
      "model_name": "ProgressStyleModel",
      "state": {
       "description_width": ""
      }
     },
     "8c3abbe76cc04d1c909598333e90a50c": {
      "model_module": "@jupyter-widgets/controls",
      "model_module_version": "1.5.0",
      "model_name": "DescriptionStyleModel",
      "state": {
       "description_width": ""
      }
     },
     "8cab04f901f947a7a2c447933d5a3547": {
      "model_module": "@jupyter-widgets/controls",
      "model_module_version": "1.5.0",
      "model_name": "HTMLModel",
      "state": {
       "layout": "IPY_MODEL_34aaff95f96d41198ba2f8b6eafe8bb5",
       "style": "IPY_MODEL_b9880ce215c641c8a43dc3cdfdd23ac4",
       "value": "Validating: 100%"
      }
     },
     "8ceffaa0d47249d9b6590ceecf19e4e7": {
      "model_module": "@jupyter-widgets/base",
      "model_module_version": "1.2.0",
      "model_name": "LayoutModel",
      "state": {
       "display": "inline-flex",
       "flex_flow": "row wrap",
       "width": "100%"
      }
     },
     "8cfb444e1e894084aa4c46766efc6092": {
      "model_module": "@jupyter-widgets/base",
      "model_module_version": "1.2.0",
      "model_name": "LayoutModel",
      "state": {}
     },
     "8d17edaac7bb4c2c9cbb83c6b634ba13": {
      "model_module": "@jupyter-widgets/controls",
      "model_module_version": "1.5.0",
      "model_name": "HTMLModel",
      "state": {
       "layout": "IPY_MODEL_8b4634f245564e11995ed70f44b39826",
       "style": "IPY_MODEL_a7ea9684c1a74f96aae09b74bfdaf364",
       "value": "Validating: 100%"
      }
     },
     "8d944c793233499ea3deb4c1903f4ec3": {
      "model_module": "@jupyter-widgets/controls",
      "model_module_version": "1.5.0",
      "model_name": "HTMLModel",
      "state": {
       "layout": "IPY_MODEL_5176982ae0fa458db6ec09c983dc2d14",
       "style": "IPY_MODEL_fd081e3d2b4b41dbac5f3b744a42ade9",
       "value": "Validating:  99%"
      }
     },
     "8db17b0f7abb4de6b86395121ecaf93e": {
      "model_module": "@jupyter-widgets/base",
      "model_module_version": "1.2.0",
      "model_name": "LayoutModel",
      "state": {}
     },
     "8e4e072d9dc3401d9fcf0c7e8bd4a3ac": {
      "model_module": "@jupyter-widgets/controls",
      "model_module_version": "1.5.0",
      "model_name": "DescriptionStyleModel",
      "state": {
       "description_width": ""
      }
     },
     "8e5025e201464e06abd52fb8a495330d": {
      "model_module": "@jupyter-widgets/base",
      "model_module_version": "1.2.0",
      "model_name": "LayoutModel",
      "state": {
       "display": "inline-flex",
       "flex_flow": "row wrap",
       "width": "100%"
      }
     },
     "8edb817e05a345c0b0376ff11a350e40": {
      "model_module": "@jupyter-widgets/base",
      "model_module_version": "1.2.0",
      "model_name": "LayoutModel",
      "state": {
       "display": "inline-flex",
       "flex_flow": "row wrap",
       "width": "100%"
      }
     },
     "8f1e1513dee24b08add09b5d69cf899e": {
      "model_module": "@jupyter-widgets/base",
      "model_module_version": "1.2.0",
      "model_name": "LayoutModel",
      "state": {}
     },
     "8f418d8601c846c3a3698bece1050fca": {
      "model_module": "@jupyter-widgets/controls",
      "model_module_version": "1.5.0",
      "model_name": "FloatProgressModel",
      "state": {
       "layout": "IPY_MODEL_328fd501afeb460695b23381714f9cde",
       "max": 1596,
       "style": "IPY_MODEL_d88521ae03324ef5a48004ff7afe6c44",
       "value": 1596
      }
     },
     "8f5a0aa4dd7143d5b74091addd1b300d": {
      "model_module": "@jupyter-widgets/base",
      "model_module_version": "1.2.0",
      "model_name": "LayoutModel",
      "state": {
       "display": "inline-flex",
       "flex_flow": "row wrap",
       "width": "100%"
      }
     },
     "8f5d90b97c144bf8a83a59ea5e9ae4d4": {
      "model_module": "@jupyter-widgets/controls",
      "model_module_version": "1.5.0",
      "model_name": "HTMLModel",
      "state": {
       "layout": "IPY_MODEL_3f7bc0d8ce5d4d899cefe3fa3b1fd60a",
       "style": "IPY_MODEL_bf3023c6c52140b1a6b9d297a9b202e8",
       "value": " 1601/1601 [00:16&lt;00:00, 101.70it/s]"
      }
     },
     "8f926691142f4e9aaf54b261f8945bfc": {
      "model_module": "@jupyter-widgets/controls",
      "model_module_version": "1.5.0",
      "model_name": "HTMLModel",
      "state": {
       "layout": "IPY_MODEL_f33cbd7a554743e3bc1a35844a318bc6",
       "style": "IPY_MODEL_4a5ddf2d63364c0aa3a0cb9366674554",
       "value": " 1587/1595 [00:15&lt;00:00, 105.30it/s]"
      }
     },
     "9008e6502d124c5ab37598af212bf930": {
      "model_module": "@jupyter-widgets/controls",
      "model_module_version": "1.5.0",
      "model_name": "DescriptionStyleModel",
      "state": {
       "description_width": ""
      }
     },
     "903bd573128849a0b39d155e3b8cee6d": {
      "model_module": "@jupyter-widgets/controls",
      "model_module_version": "1.5.0",
      "model_name": "DescriptionStyleModel",
      "state": {
       "description_width": ""
      }
     },
     "9055ebad64a044a48a7d52993ed0f00d": {
      "model_module": "@jupyter-widgets/controls",
      "model_module_version": "1.5.0",
      "model_name": "FloatProgressModel",
      "state": {
       "layout": "IPY_MODEL_d01a60ed26bc464e9b9b7f532bd476d0",
       "max": 1595,
       "style": "IPY_MODEL_269232c14fd945afbe5748a22c23a496",
       "value": 1595
      }
     },
     "90f3c45f15c14cf685c56de7c0f996c1": {
      "model_module": "@jupyter-widgets/base",
      "model_module_version": "1.2.0",
      "model_name": "LayoutModel",
      "state": {}
     },
     "90f9fa4ccccf49e1b5f01888490a24f4": {
      "model_module": "@jupyter-widgets/base",
      "model_module_version": "1.2.0",
      "model_name": "LayoutModel",
      "state": {}
     },
     "912c9b9da48e42a2b9aa0d9be5ad1be0": {
      "model_module": "@jupyter-widgets/base",
      "model_module_version": "1.2.0",
      "model_name": "LayoutModel",
      "state": {
       "flex": "2"
      }
     },
     "915817a84f5a48d19e84bf9705c223af": {
      "model_module": "@jupyter-widgets/controls",
      "model_module_version": "1.5.0",
      "model_name": "DescriptionStyleModel",
      "state": {
       "description_width": ""
      }
     },
     "91d455603f9d4cd9a15913a885847b45": {
      "model_module": "@jupyter-widgets/controls",
      "model_module_version": "1.5.0",
      "model_name": "FloatProgressModel",
      "state": {
       "layout": "IPY_MODEL_f69c441386a84090874d8e6060ab1d26",
       "max": 1595,
       "style": "IPY_MODEL_b7af0615f08e41de8c5dba55137caf1f",
       "value": 1595
      }
     },
     "92719fc68b32437cb313087ba66df1eb": {
      "model_module": "@jupyter-widgets/controls",
      "model_module_version": "1.5.0",
      "model_name": "ProgressStyleModel",
      "state": {
       "description_width": ""
      }
     },
     "928a7925a1614f599c97be03277178d4": {
      "model_module": "@jupyter-widgets/controls",
      "model_module_version": "1.5.0",
      "model_name": "ProgressStyleModel",
      "state": {
       "description_width": ""
      }
     },
     "92a7ca8a10ad4356afc2897945cafe71": {
      "model_module": "@jupyter-widgets/controls",
      "model_module_version": "1.5.0",
      "model_name": "DescriptionStyleModel",
      "state": {
       "description_width": ""
      }
     },
     "92ce1a0a7f90401d950323334c18d44f": {
      "model_module": "@jupyter-widgets/controls",
      "model_module_version": "1.5.0",
      "model_name": "HTMLModel",
      "state": {
       "layout": "IPY_MODEL_e975d8c808854d55a116ebbab89486c8",
       "style": "IPY_MODEL_be95d0f8156947bca38452a73c34fac2",
       "value": " 1637/1637 [00:17&lt;00:00, 64.94it/s]"
      }
     },
     "92ce39065aa2460388caa8f885071c1f": {
      "model_module": "@jupyter-widgets/base",
      "model_module_version": "1.2.0",
      "model_name": "LayoutModel",
      "state": {
       "display": "inline-flex",
       "flex_flow": "row wrap",
       "width": "100%"
      }
     },
     "93423b7cd3cc4d7a80328c22a7c90f0b": {
      "model_module": "@jupyter-widgets/controls",
      "model_module_version": "1.5.0",
      "model_name": "ProgressStyleModel",
      "state": {
       "description_width": ""
      }
     },
     "9385d4664f09436989d89b9cd16c98dd": {
      "model_module": "@jupyter-widgets/base",
      "model_module_version": "1.2.0",
      "model_name": "LayoutModel",
      "state": {
       "display": "inline-flex",
       "flex_flow": "row wrap",
       "width": "100%"
      }
     },
     "93e48b2bad134a77b85ad2a9cefc63fd": {
      "model_module": "@jupyter-widgets/controls",
      "model_module_version": "1.5.0",
      "model_name": "HTMLModel",
      "state": {
       "layout": "IPY_MODEL_994724b9e2bd4d018d60e164cd78fd28",
       "style": "IPY_MODEL_903bd573128849a0b39d155e3b8cee6d",
       "value": " 13697/13697 [04:37&lt;00:00, 49.44it/s, loss=0.253, v_num=it_3]"
      }
     },
     "93e913aaf45b41bab64ea976ff1dcb6a": {
      "model_module": "@jupyter-widgets/base",
      "model_module_version": "1.2.0",
      "model_name": "LayoutModel",
      "state": {
       "flex": "2"
      }
     },
     "9407617d92d14f69a0d876cb470cd70e": {
      "model_module": "@jupyter-widgets/controls",
      "model_module_version": "1.5.0",
      "model_name": "HTMLModel",
      "state": {
       "layout": "IPY_MODEL_f4a2424719834b1ca9a0c6075bd4825e",
       "style": "IPY_MODEL_1d746418df554e2da9443c7d7b4ef104",
       "value": " 1735/1737 [00:18&lt;00:00, 98.06it/s]"
      }
     },
     "9441e5bbd9b24e69a1155d698dc272ec": {
      "model_module": "@jupyter-widgets/controls",
      "model_module_version": "1.5.0",
      "model_name": "DescriptionStyleModel",
      "state": {
       "description_width": ""
      }
     },
     "94525cacd84e4023818acf6ae639afcd": {
      "model_module": "@jupyter-widgets/controls",
      "model_module_version": "1.5.0",
      "model_name": "ProgressStyleModel",
      "state": {
       "description_width": ""
      }
     },
     "94536772d9d846aeb7169d6df2bdacc9": {
      "model_module": "@jupyter-widgets/base",
      "model_module_version": "1.2.0",
      "model_name": "LayoutModel",
      "state": {}
     },
     "94536947dc964260ad7355cb3df3fa9f": {
      "model_module": "@jupyter-widgets/base",
      "model_module_version": "1.2.0",
      "model_name": "LayoutModel",
      "state": {}
     },
     "949fac28eb5c44f8a9a9928689efd192": {
      "model_module": "@jupyter-widgets/controls",
      "model_module_version": "1.5.0",
      "model_name": "DescriptionStyleModel",
      "state": {
       "description_width": ""
      }
     },
     "9571b2840c7e4eeca61b2ca231c42cc8": {
      "model_module": "@jupyter-widgets/controls",
      "model_module_version": "1.5.0",
      "model_name": "HTMLModel",
      "state": {
       "layout": "IPY_MODEL_19b31a1cd4b94409806758590192915f",
       "style": "IPY_MODEL_efbbc8a973a24ffda302548aa401b5b4",
       "value": "Validation sanity check:  50%"
      }
     },
     "9577bab88cfb480a9c4e8d6a3514944b": {
      "model_module": "@jupyter-widgets/controls",
      "model_module_version": "1.5.0",
      "model_name": "HTMLModel",
      "state": {
       "layout": "IPY_MODEL_d246e904e8ec476eba0413a2ad5321dd",
       "style": "IPY_MODEL_d274de61a5ec49369e044469f4cc6c53",
       "value": " 1627/1637 [00:16&lt;00:00, 100.76it/s]"
      }
     },
     "95823d919c2b4f618c3564e1ac3de9ab": {
      "model_module": "@jupyter-widgets/base",
      "model_module_version": "1.2.0",
      "model_name": "LayoutModel",
      "state": {
       "flex": "2"
      }
     },
     "9591720981dd4414b8fbea37e3969083": {
      "model_module": "@jupyter-widgets/base",
      "model_module_version": "1.2.0",
      "model_name": "LayoutModel",
      "state": {}
     },
     "969e359d15a446bea8a5f6afafb7e9a7": {
      "model_module": "@jupyter-widgets/controls",
      "model_module_version": "1.5.0",
      "model_name": "DescriptionStyleModel",
      "state": {
       "description_width": ""
      }
     },
     "96aacff338cd4a82849133f9a514773a": {
      "model_module": "@jupyter-widgets/controls",
      "model_module_version": "1.5.0",
      "model_name": "HTMLModel",
      "state": {
       "layout": "IPY_MODEL_5c33fedbd65b4f0f99e76064d24df13e",
       "style": "IPY_MODEL_a8756a4949434d88ad382709fb81257a",
       "value": " 1590/1595 [00:15&lt;00:00, 105.20it/s]"
      }
     },
     "96fda2d8e077445f9b3ed187bfca7121": {
      "model_module": "@jupyter-widgets/base",
      "model_module_version": "1.2.0",
      "model_name": "LayoutModel",
      "state": {
       "flex": "2"
      }
     },
     "96ff9ac271c34b03b15a2f03c3dd5b56": {
      "model_module": "@jupyter-widgets/base",
      "model_module_version": "1.2.0",
      "model_name": "LayoutModel",
      "state": {}
     },
     "973af2784e254092a75fecd580e600c6": {
      "model_module": "@jupyter-widgets/controls",
      "model_module_version": "1.5.0",
      "model_name": "DescriptionStyleModel",
      "state": {
       "description_width": ""
      }
     },
     "97812fc23a174cd78c952b6b32177ec9": {
      "model_module": "@jupyter-widgets/base",
      "model_module_version": "1.2.0",
      "model_name": "LayoutModel",
      "state": {}
     },
     "97baffcaaf344fb6be84e0bd46386ddd": {
      "model_module": "@jupyter-widgets/base",
      "model_module_version": "1.2.0",
      "model_name": "LayoutModel",
      "state": {}
     },
     "97bc8f18bf854bce886a4c7c189d4934": {
      "model_module": "@jupyter-widgets/controls",
      "model_module_version": "1.5.0",
      "model_name": "ProgressStyleModel",
      "state": {
       "description_width": ""
      }
     },
     "97df72a90ce14d10929c4823b51cc3d3": {
      "model_module": "@jupyter-widgets/controls",
      "model_module_version": "1.5.0",
      "model_name": "DescriptionStyleModel",
      "state": {
       "description_width": ""
      }
     },
     "98287fe356f64d0597c30f0b2771ada9": {
      "model_module": "@jupyter-widgets/base",
      "model_module_version": "1.2.0",
      "model_name": "LayoutModel",
      "state": {
       "display": "inline-flex",
       "flex_flow": "row wrap",
       "width": "100%"
      }
     },
     "98c5ebe46b89404dac22629e2e322632": {
      "model_module": "@jupyter-widgets/controls",
      "model_module_version": "1.5.0",
      "model_name": "HTMLModel",
      "state": {
       "layout": "IPY_MODEL_f8920c4a6b7148a2915427115c593be6",
       "style": "IPY_MODEL_6862c405af984dfa9d34841f943031f0",
       "value": " 1620/1637 [00:07&lt;00:00, 222.28it/s]"
      }
     },
     "98d9252874764a02aedd73f3a4a84e30": {
      "model_module": "@jupyter-widgets/base",
      "model_module_version": "1.2.0",
      "model_name": "LayoutModel",
      "state": {}
     },
     "98e3bbf383c84def8b6642759ae25fe7": {
      "model_module": "@jupyter-widgets/base",
      "model_module_version": "1.2.0",
      "model_name": "LayoutModel",
      "state": {
       "display": "inline-flex",
       "flex_flow": "row wrap",
       "width": "100%"
      }
     },
     "9901211a031946a1967122872c7c67c3": {
      "model_module": "@jupyter-widgets/controls",
      "model_module_version": "1.5.0",
      "model_name": "HTMLModel",
      "state": {
       "layout": "IPY_MODEL_5964250329bf45d3a631d0a2478511db",
       "style": "IPY_MODEL_969e359d15a446bea8a5f6afafb7e9a7",
       "value": " 1580/1595 [00:07&lt;00:00, 215.21it/s]"
      }
     },
     "992aef51ce3e4e6a808a330c7cec4bc3": {
      "model_module": "@jupyter-widgets/base",
      "model_module_version": "1.2.0",
      "model_name": "LayoutModel",
      "state": {
       "display": "inline-flex",
       "flex_flow": "row wrap",
       "width": "100%"
      }
     },
     "994724b9e2bd4d018d60e164cd78fd28": {
      "model_module": "@jupyter-widgets/base",
      "model_module_version": "1.2.0",
      "model_name": "LayoutModel",
      "state": {}
     },
     "994b7c71b7a146049b1ce66884bac4e7": {
      "model_module": "@jupyter-widgets/controls",
      "model_module_version": "1.5.0",
      "model_name": "ProgressStyleModel",
      "state": {
       "description_width": ""
      }
     },
     "996a78feccc649198fdaec45420d0378": {
      "model_module": "@jupyter-widgets/base",
      "model_module_version": "1.2.0",
      "model_name": "LayoutModel",
      "state": {
       "flex": "2"
      }
     },
     "998bbcc358c64cd4be162291a17c25dc": {
      "model_module": "@jupyter-widgets/controls",
      "model_module_version": "1.5.0",
      "model_name": "ProgressStyleModel",
      "state": {
       "description_width": ""
      }
     },
     "99d35fc73beb4718aed151e1c0868d78": {
      "model_module": "@jupyter-widgets/controls",
      "model_module_version": "1.5.0",
      "model_name": "FloatProgressModel",
      "state": {
       "layout": "IPY_MODEL_ae3313bf4f92442a88111ca09c92c641",
       "max": 1595,
       "style": "IPY_MODEL_e449e88e464d43e99e0ad642c2dd981f",
       "value": 1595
      }
     },
     "99f15120ec054778a327479652f61484": {
      "model_module": "@jupyter-widgets/controls",
      "model_module_version": "1.5.0",
      "model_name": "HTMLModel",
      "state": {
       "layout": "IPY_MODEL_c65c39a70fee4ff1ad278a3ed84dfff2",
       "style": "IPY_MODEL_8acfd73f6d9349ae92b8229924350867",
       "value": "Validating: 100%"
      }
     },
     "99f3d337b2984e7ebd61201cf4c1742a": {
      "model_module": "@jupyter-widgets/base",
      "model_module_version": "1.2.0",
      "model_name": "LayoutModel",
      "state": {}
     },
     "9a26400bbd0d44ffbf9ae747f46a57eb": {
      "model_module": "@jupyter-widgets/base",
      "model_module_version": "1.2.0",
      "model_name": "LayoutModel",
      "state": {
       "display": "inline-flex",
       "flex_flow": "row wrap",
       "width": "100%"
      }
     },
     "9a83b8279edd4d17a5ed6ebe4720484d": {
      "model_module": "@jupyter-widgets/controls",
      "model_module_version": "1.5.0",
      "model_name": "HTMLModel",
      "state": {
       "layout": "IPY_MODEL_4fbbc364025540588fb3760abe4b648c",
       "style": "IPY_MODEL_a763da6b8a31498c8ebe3c52988ff5a2",
       "value": " 1/2 [00:00&lt;00:00,  3.42it/s]"
      }
     },
     "9aa54da3ef044d1eb65d150500db75ec": {
      "model_module": "@jupyter-widgets/base",
      "model_module_version": "1.2.0",
      "model_name": "LayoutModel",
      "state": {
       "display": "inline-flex",
       "flex_flow": "row wrap",
       "width": "100%"
      }
     },
     "9aedf854e094442183f24b6048ef6e0d": {
      "model_module": "@jupyter-widgets/base",
      "model_module_version": "1.2.0",
      "model_name": "LayoutModel",
      "state": {
       "display": "inline-flex",
       "flex_flow": "row wrap",
       "width": "100%"
      }
     },
     "9b234c94d1f6435a935591f1f860c017": {
      "model_module": "@jupyter-widgets/controls",
      "model_module_version": "1.5.0",
      "model_name": "ProgressStyleModel",
      "state": {
       "description_width": ""
      }
     },
     "9b26336bd81a42c893df9ce7d966ce15": {
      "model_module": "@jupyter-widgets/base",
      "model_module_version": "1.2.0",
      "model_name": "LayoutModel",
      "state": {
       "flex": "2"
      }
     },
     "9b2b4a28efbf47f99c475dd53bcdf966": {
      "model_module": "@jupyter-widgets/controls",
      "model_module_version": "1.5.0",
      "model_name": "ProgressStyleModel",
      "state": {
       "description_width": ""
      }
     },
     "9b415cfe330349ceb66a7c5e8aab38a6": {
      "model_module": "@jupyter-widgets/base",
      "model_module_version": "1.2.0",
      "model_name": "LayoutModel",
      "state": {
       "display": "inline-flex",
       "flex_flow": "row wrap",
       "width": "100%"
      }
     },
     "9b45cd3bbe7d42d4ab751daff85c11ff": {
      "model_module": "@jupyter-widgets/controls",
      "model_module_version": "1.5.0",
      "model_name": "HTMLModel",
      "state": {
       "layout": "IPY_MODEL_4c677e559ab8470e82125068f2b54e34",
       "style": "IPY_MODEL_c82cffa6a5d14376a95b84fb063cc117",
       "value": " 1693/1693 [00:17&lt;00:00, 106.37it/s]"
      }
     },
     "9b7703d33707487aaa4fae648cf1d90a": {
      "model_module": "@jupyter-widgets/controls",
      "model_module_version": "1.5.0",
      "model_name": "HTMLModel",
      "state": {
       "layout": "IPY_MODEL_a1fc3326094943f99b07fdbfc17657c3",
       "style": "IPY_MODEL_20b00c7ebcd14726928b3e3c3ca738fb",
       "value": "Validating:  99%"
      }
     },
     "9b92413eb8924db6b802058a9487ddc3": {
      "model_module": "@jupyter-widgets/controls",
      "model_module_version": "1.5.0",
      "model_name": "HTMLModel",
      "state": {
       "layout": "IPY_MODEL_ec69725588fd4388a746be76df938092",
       "style": "IPY_MODEL_80c344d0d2db46bd97db03cfb3f1eb30",
       "value": "Validating:  99%"
      }
     },
     "9bba5f1177324792b5afecd81edec393": {
      "model_module": "@jupyter-widgets/base",
      "model_module_version": "1.2.0",
      "model_name": "LayoutModel",
      "state": {}
     },
     "9bec2f43749b4ad9a9dc7c453be36e0e": {
      "model_module": "@jupyter-widgets/controls",
      "model_module_version": "1.5.0",
      "model_name": "DescriptionStyleModel",
      "state": {
       "description_width": ""
      }
     },
     "9c349b88e9ad44079f06c5ad0028ebed": {
      "model_module": "@jupyter-widgets/base",
      "model_module_version": "1.2.0",
      "model_name": "LayoutModel",
      "state": {}
     },
     "9c43c7dfa3ab47ba9817319754c9902a": {
      "model_module": "@jupyter-widgets/controls",
      "model_module_version": "1.5.0",
      "model_name": "DescriptionStyleModel",
      "state": {
       "description_width": ""
      }
     },
     "9c54244bf0664b439bc2ce903160ed7d": {
      "model_module": "@jupyter-widgets/controls",
      "model_module_version": "1.5.0",
      "model_name": "DescriptionStyleModel",
      "state": {
       "description_width": ""
      }
     },
     "9c66ffd1848b4a1ebf5d29be87867a64": {
      "model_module": "@jupyter-widgets/controls",
      "model_module_version": "1.5.0",
      "model_name": "DescriptionStyleModel",
      "state": {
       "description_width": ""
      }
     },
     "9c863b1f344244b89f3fec750472667f": {
      "model_module": "@jupyter-widgets/controls",
      "model_module_version": "1.5.0",
      "model_name": "DescriptionStyleModel",
      "state": {
       "description_width": ""
      }
     },
     "9c9b312c38624e80b59d3220bba2b901": {
      "model_module": "@jupyter-widgets/controls",
      "model_module_version": "1.5.0",
      "model_name": "DescriptionStyleModel",
      "state": {
       "description_width": ""
      }
     },
     "9cbd594a463841848972ffa8e9105c61": {
      "model_module": "@jupyter-widgets/controls",
      "model_module_version": "1.5.0",
      "model_name": "HTMLModel",
      "state": {
       "layout": "IPY_MODEL_e25d3780fe394b4288ceb3ea18a40f51",
       "style": "IPY_MODEL_ef004585bf9e4c7bb394812675889312",
       "value": " 13733/13733 [01:28&lt;00:00, 155.89it/s, loss=0.57, v_num=size]"
      }
     },
     "9cce6217e9334ba9926e6e9e8f7a9ed1": {
      "model_module": "@jupyter-widgets/controls",
      "model_module_version": "1.5.0",
      "model_name": "DescriptionStyleModel",
      "state": {
       "description_width": ""
      }
     },
     "9d18322969194768ae3830225c4e5c52": {
      "model_module": "@jupyter-widgets/base",
      "model_module_version": "1.2.0",
      "model_name": "LayoutModel",
      "state": {
       "display": "inline-flex",
       "flex_flow": "row wrap",
       "width": "100%"
      }
     },
     "9d205129b82248d0946b348cc0365d51": {
      "model_module": "@jupyter-widgets/controls",
      "model_module_version": "1.5.0",
      "model_name": "HTMLModel",
      "state": {
       "layout": "IPY_MODEL_2022720c2ab34c41be1b4b61d82115d1",
       "style": "IPY_MODEL_f91b167d879a4aa5a41f5a1c8c01503e",
       "value": " 1594/1596 [00:16&lt;00:00, 100.57it/s]"
      }
     },
     "9d4a7e7d16064e5eb804a8d861805224": {
      "model_module": "@jupyter-widgets/base",
      "model_module_version": "1.2.0",
      "model_name": "LayoutModel",
      "state": {}
     },
     "9d6c4f96f05a4eb5a513d3bbd25b2558": {
      "model_module": "@jupyter-widgets/base",
      "model_module_version": "1.2.0",
      "model_name": "LayoutModel",
      "state": {}
     },
     "9d97e199c8bb42d2890bd58dd64e40f2": {
      "model_module": "@jupyter-widgets/base",
      "model_module_version": "1.2.0",
      "model_name": "LayoutModel",
      "state": {
       "flex": "2"
      }
     },
     "9dae503452a1495eb1e266aaafb517ab": {
      "model_module": "@jupyter-widgets/base",
      "model_module_version": "1.2.0",
      "model_name": "LayoutModel",
      "state": {}
     },
     "9db713f8901a40d097bec44d93d8d24f": {
      "model_module": "@jupyter-widgets/base",
      "model_module_version": "1.2.0",
      "model_name": "LayoutModel",
      "state": {}
     },
     "9e116a1dbfc1432597f5ea2145ad9ddf": {
      "model_module": "@jupyter-widgets/controls",
      "model_module_version": "1.5.0",
      "model_name": "DescriptionStyleModel",
      "state": {
       "description_width": ""
      }
     },
     "9e33bafe7907449d9321623464ee320a": {
      "model_module": "@jupyter-widgets/controls",
      "model_module_version": "1.5.0",
      "model_name": "ProgressStyleModel",
      "state": {
       "description_width": ""
      }
     },
     "9e403ce27464420a81db4cddb0bea969": {
      "model_module": "@jupyter-widgets/controls",
      "model_module_version": "1.5.0",
      "model_name": "DescriptionStyleModel",
      "state": {
       "description_width": ""
      }
     },
     "9e6d5e388d8d49128e380cd6c221355c": {
      "model_module": "@jupyter-widgets/controls",
      "model_module_version": "1.5.0",
      "model_name": "DescriptionStyleModel",
      "state": {
       "description_width": ""
      }
     },
     "9e800f0ad6e542029116b1a1504785ad": {
      "model_module": "@jupyter-widgets/controls",
      "model_module_version": "1.5.0",
      "model_name": "DescriptionStyleModel",
      "state": {
       "description_width": ""
      }
     },
     "9eb6638b433a4855bcd578c3e1ba4cff": {
      "model_module": "@jupyter-widgets/base",
      "model_module_version": "1.2.0",
      "model_name": "LayoutModel",
      "state": {}
     },
     "9f3e341a0a974aaca00302b1350b6e55": {
      "model_module": "@jupyter-widgets/controls",
      "model_module_version": "1.5.0",
      "model_name": "DescriptionStyleModel",
      "state": {
       "description_width": ""
      }
     },
     "9f43dd1dc09f4e1eb9d2fb3bafa5535c": {
      "model_module": "@jupyter-widgets/base",
      "model_module_version": "1.2.0",
      "model_name": "LayoutModel",
      "state": {}
     },
     "9f5b708f11d948d39ec8d6e818beb25b": {
      "model_module": "@jupyter-widgets/controls",
      "model_module_version": "1.5.0",
      "model_name": "HTMLModel",
      "state": {
       "layout": "IPY_MODEL_2b144dd16cd8428696d047930da0f133",
       "style": "IPY_MODEL_e79affe98d854ad08417c930870a1c77",
       "value": " 1620/1629 [00:15&lt;00:00, 106.26it/s]"
      }
     },
     "9f6753a750924e3e8995dd6048a237b0": {
      "model_module": "@jupyter-widgets/controls",
      "model_module_version": "1.5.0",
      "model_name": "HBoxModel",
      "state": {
       "children": [
        "IPY_MODEL_56461028744a4fff925895348c6e6d26",
        "IPY_MODEL_10fba5d9bdea425884e857c1b294426a",
        "IPY_MODEL_de2dbc1b70c54f119cc0333a37933a0b"
       ],
       "layout": "IPY_MODEL_068b679688a54a868538de9fff346c16"
      }
     },
     "9fdbd77ebe2f4c12a26b883b7437f7f9": {
      "model_module": "@jupyter-widgets/base",
      "model_module_version": "1.2.0",
      "model_name": "LayoutModel",
      "state": {}
     },
     "a01cd6d857d046dabcd40c8ab3d2f848": {
      "model_module": "@jupyter-widgets/base",
      "model_module_version": "1.2.0",
      "model_name": "LayoutModel",
      "state": {
       "display": "inline-flex",
       "flex_flow": "row wrap",
       "width": "100%"
      }
     },
     "a0930b2ae78b462eb3c6cde1fcf4f9b4": {
      "model_module": "@jupyter-widgets/controls",
      "model_module_version": "1.5.0",
      "model_name": "HTMLModel",
      "state": {
       "layout": "IPY_MODEL_f8d65ca8a3884c4c9be8eff0b87a830c",
       "style": "IPY_MODEL_711dcd092fe94b1fa597b44091a02419",
       "value": " 1601/1601 [00:07&lt;00:00, 224.96it/s]"
      }
     },
     "a0b6418a681a483daba43e5683b156fc": {
      "model_module": "@jupyter-widgets/controls",
      "model_module_version": "1.5.0",
      "model_name": "ProgressStyleModel",
      "state": {
       "description_width": ""
      }
     },
     "a0c8eab39f4b4cf5b4dc23969b00e243": {
      "model_module": "@jupyter-widgets/controls",
      "model_module_version": "1.5.0",
      "model_name": "ProgressStyleModel",
      "state": {
       "description_width": ""
      }
     },
     "a0e9b8affa6a483fb9c1979fdffbf986": {
      "model_module": "@jupyter-widgets/controls",
      "model_module_version": "1.5.0",
      "model_name": "HTMLModel",
      "state": {
       "layout": "IPY_MODEL_44fcf16cb49242b081ab192e347f818a",
       "style": "IPY_MODEL_57743a892b8640f7a05b1df9c677e1be",
       "value": " 1/2 [00:00&lt;00:00,  2.22it/s]"
      }
     },
     "a0ff1c02fa4a4879b520765c162f1610": {
      "model_module": "@jupyter-widgets/controls",
      "model_module_version": "1.5.0",
      "model_name": "DescriptionStyleModel",
      "state": {
       "description_width": ""
      }
     },
     "a1203552264a4541ae650d5713d061cb": {
      "model_module": "@jupyter-widgets/base",
      "model_module_version": "1.2.0",
      "model_name": "LayoutModel",
      "state": {}
     },
     "a120f091293f4cf184b6bb654d5db50f": {
      "model_module": "@jupyter-widgets/controls",
      "model_module_version": "1.5.0",
      "model_name": "HBoxModel",
      "state": {
       "children": [
        "IPY_MODEL_2b0ec28251a64a95b51eee57cd0e1787",
        "IPY_MODEL_a5f8bf821e504c9882eb88b0dd2e4165",
        "IPY_MODEL_2e5b9bcdc38a493380fdd3d71d5c74cb"
       ],
       "layout": "IPY_MODEL_5beea6cbbf9b4382a2df9d57dfc86801"
      }
     },
     "a123ff3a543842ffac9acfd221b0d9ae": {
      "model_module": "@jupyter-widgets/base",
      "model_module_version": "1.2.0",
      "model_name": "LayoutModel",
      "state": {
       "display": "inline-flex",
       "flex_flow": "row wrap",
       "width": "100%"
      }
     },
     "a1395a2d055a422d96c7ba3d2035a7ae": {
      "model_module": "@jupyter-widgets/controls",
      "model_module_version": "1.5.0",
      "model_name": "HTMLModel",
      "state": {
       "layout": "IPY_MODEL_a9b235709bff4345a8a6ab11b90685be",
       "style": "IPY_MODEL_0b564042af8e49078d6da9c307093819",
       "value": " 1735/1737 [00:08&lt;00:00, 224.65it/s]"
      }
     },
     "a18b408a79394d3fa3a9857fe075aac8": {
      "model_module": "@jupyter-widgets/controls",
      "model_module_version": "1.5.0",
      "model_name": "HTMLModel",
      "state": {
       "layout": "IPY_MODEL_cd3ff8f9d2a142148249ea6bc075cc41",
       "style": "IPY_MODEL_37099c392e3e4651b6c42c5426e5c2ca",
       "value": " 13592/13592 [01:26&lt;00:00, 156.26it/s, loss=0.567, v_num=size]"
      }
     },
     "a1b2d28403f6461587dba26ada2aad84": {
      "model_module": "@jupyter-widgets/controls",
      "model_module_version": "1.5.0",
      "model_name": "DescriptionStyleModel",
      "state": {
       "description_width": ""
      }
     },
     "a1bd0e43f21840298859915758f84339": {
      "model_module": "@jupyter-widgets/controls",
      "model_module_version": "1.5.0",
      "model_name": "DescriptionStyleModel",
      "state": {
       "description_width": ""
      }
     },
     "a1df7c70e5964309abcbfefcedfc842b": {
      "model_module": "@jupyter-widgets/controls",
      "model_module_version": "1.5.0",
      "model_name": "HTMLModel",
      "state": {
       "layout": "IPY_MODEL_ca119559814a413ab8e9e8ed0c316154",
       "style": "IPY_MODEL_c3d9989e2f384275b94396e3ca59a2e2",
       "value": "Validating: 100%"
      }
     },
     "a1ed639e98cc4d79b66052077a7b89c4": {
      "model_module": "@jupyter-widgets/base",
      "model_module_version": "1.2.0",
      "model_name": "LayoutModel",
      "state": {}
     },
     "a1fc3326094943f99b07fdbfc17657c3": {
      "model_module": "@jupyter-widgets/base",
      "model_module_version": "1.2.0",
      "model_name": "LayoutModel",
      "state": {}
     },
     "a2c8d09feace46368db0b078ffc3af00": {
      "model_module": "@jupyter-widgets/controls",
      "model_module_version": "1.5.0",
      "model_name": "DescriptionStyleModel",
      "state": {
       "description_width": ""
      }
     },
     "a332f38e6365413084f7cb25729b40ae": {
      "model_module": "@jupyter-widgets/base",
      "model_module_version": "1.2.0",
      "model_name": "LayoutModel",
      "state": {}
     },
     "a3dc7d6c200246d6af2d1d2cd8467968": {
      "model_module": "@jupyter-widgets/controls",
      "model_module_version": "1.5.0",
      "model_name": "HTMLModel",
      "state": {
       "layout": "IPY_MODEL_6fd106e158a04cf0a51160477f658970",
       "style": "IPY_MODEL_0ba63903633e447a852bbdd526cb04ca",
       "value": "Validating: 100%"
      }
     },
     "a3fb5c6046704a08b3018eae981f4197": {
      "model_module": "@jupyter-widgets/controls",
      "model_module_version": "1.5.0",
      "model_name": "FloatProgressModel",
      "state": {
       "layout": "IPY_MODEL_52ee9e0acb86435f83f903b2e93a3e4f",
       "max": 1596,
       "style": "IPY_MODEL_2ff266aa26104d61b3d443dbe94b4b19",
       "value": 1596
      }
     },
     "a434914d8ce046b893d11605257ab7f3": {
      "model_module": "@jupyter-widgets/controls",
      "model_module_version": "1.5.0",
      "model_name": "HTMLModel",
      "state": {
       "layout": "IPY_MODEL_f946aa5a96174b6a9a3610b71ba425af",
       "style": "IPY_MODEL_a0ff1c02fa4a4879b520765c162f1610",
       "value": "Validating: 100%"
      }
     },
     "a43c485a4d40469d831766df352874c6": {
      "model_module": "@jupyter-widgets/base",
      "model_module_version": "1.2.0",
      "model_name": "LayoutModel",
      "state": {}
     },
     "a44a2f5bedf746cda726ad41fcb6f30d": {
      "model_module": "@jupyter-widgets/controls",
      "model_module_version": "1.5.0",
      "model_name": "DescriptionStyleModel",
      "state": {
       "description_width": ""
      }
     },
     "a49b029dda784ebc80aa136836086f13": {
      "model_module": "@jupyter-widgets/controls",
      "model_module_version": "1.5.0",
      "model_name": "DescriptionStyleModel",
      "state": {
       "description_width": ""
      }
     },
     "a4a31b6d68ba49198939774b630b0aa0": {
      "model_module": "@jupyter-widgets/controls",
      "model_module_version": "1.5.0",
      "model_name": "ProgressStyleModel",
      "state": {
       "description_width": ""
      }
     },
     "a4b24d3d56524f9eb8bb900566b3c50d": {
      "model_module": "@jupyter-widgets/controls",
      "model_module_version": "1.5.0",
      "model_name": "ProgressStyleModel",
      "state": {
       "description_width": ""
      }
     },
     "a4c1f3d5c09f4d96b498b8926e071c45": {
      "model_module": "@jupyter-widgets/controls",
      "model_module_version": "1.5.0",
      "model_name": "DescriptionStyleModel",
      "state": {
       "description_width": ""
      }
     },
     "a4dce806619741e7bd7da0ee3e78545a": {
      "model_module": "@jupyter-widgets/controls",
      "model_module_version": "1.5.0",
      "model_name": "HTMLModel",
      "state": {
       "layout": "IPY_MODEL_2a0c2ca832b246db9e7d4da81dbe5664",
       "style": "IPY_MODEL_9c66ffd1848b4a1ebf5d29be87867a64",
       "value": "Validation sanity check:  50%"
      }
     },
     "a4dd35e68d65426790b27f6d461f7937": {
      "model_module": "@jupyter-widgets/controls",
      "model_module_version": "1.5.0",
      "model_name": "ProgressStyleModel",
      "state": {
       "description_width": ""
      }
     },
     "a4f5cde9189049929f3f1b8a7f09c5bc": {
      "model_module": "@jupyter-widgets/base",
      "model_module_version": "1.2.0",
      "model_name": "LayoutModel",
      "state": {}
     },
     "a505f77068424ceaaac88a5cbec689cd": {
      "model_module": "@jupyter-widgets/controls",
      "model_module_version": "1.5.0",
      "model_name": "FloatProgressModel",
      "state": {
       "layout": "IPY_MODEL_ea281aa69af0401ca521aa423324ab2e",
       "max": 1629,
       "style": "IPY_MODEL_369b19e6a6a04588a5943ed6e35ed915",
       "value": 1629
      }
     },
     "a55093b395004ba3b02d34ac4754ff1a": {
      "model_module": "@jupyter-widgets/controls",
      "model_module_version": "1.5.0",
      "model_name": "FloatProgressModel",
      "state": {
       "layout": "IPY_MODEL_ea036d63a826400f93c06b546251af3e",
       "max": 2,
       "style": "IPY_MODEL_238a27e655604ac093ed427639b23b0a",
       "value": 2
      }
     },
     "a578da1820fc4b8b998e4861246bc967": {
      "model_module": "@jupyter-widgets/base",
      "model_module_version": "1.2.0",
      "model_name": "LayoutModel",
      "state": {}
     },
     "a5c953c39fd64284b676fb8897ea7f20": {
      "model_module": "@jupyter-widgets/base",
      "model_module_version": "1.2.0",
      "model_name": "LayoutModel",
      "state": {
       "display": "inline-flex",
       "flex_flow": "row wrap",
       "width": "100%"
      }
     },
     "a5f8bf821e504c9882eb88b0dd2e4165": {
      "model_module": "@jupyter-widgets/controls",
      "model_module_version": "1.5.0",
      "model_name": "FloatProgressModel",
      "state": {
       "bar_style": "success",
       "layout": "IPY_MODEL_b90956ad8e0943aeb89d3c8147ef7622",
       "max": 1,
       "style": "IPY_MODEL_9b234c94d1f6435a935591f1f860c017",
       "value": 1
      }
     },
     "a626e7f3897248f78e8ed07488db5046": {
      "model_module": "@jupyter-widgets/controls",
      "model_module_version": "1.5.0",
      "model_name": "HTMLModel",
      "state": {
       "layout": "IPY_MODEL_3ea135093b1242c9b712b3936c080b08",
       "style": "IPY_MODEL_83e6fad3136a4bab8c2ad42643531081",
       "value": " 1628/1637 [00:07&lt;00:00, 217.98it/s]"
      }
     },
     "a6513cb477614b128c096e08449a6818": {
      "model_module": "@jupyter-widgets/base",
      "model_module_version": "1.2.0",
      "model_name": "LayoutModel",
      "state": {}
     },
     "a66c0f36525b46ca89c7c94c6ed009e8": {
      "model_module": "@jupyter-widgets/controls",
      "model_module_version": "1.5.0",
      "model_name": "FloatProgressModel",
      "state": {
       "layout": "IPY_MODEL_da3d557ee3294bb19e6ce7c889d77455",
       "max": 2,
       "style": "IPY_MODEL_d88151689fe44d48ae710a3302a4a834",
       "value": 2
      }
     },
     "a676667968a34ba59d6187d8bb32f677": {
      "model_module": "@jupyter-widgets/controls",
      "model_module_version": "1.5.0",
      "model_name": "HTMLModel",
      "state": {
       "layout": "IPY_MODEL_3e065d55877140aa97bc58f182dd7155",
       "style": "IPY_MODEL_7389d5ecf8374b1fa4ed4d63a31c6a2b",
       "value": "Validation sanity check:  50%"
      }
     },
     "a6ab306ff3cf4e0bbcc1e7987c3e1ddd": {
      "model_module": "@jupyter-widgets/controls",
      "model_module_version": "1.5.0",
      "model_name": "ProgressStyleModel",
      "state": {
       "description_width": ""
      }
     },
     "a6d56a88b6734b55b0a56ad6f96868fc": {
      "model_module": "@jupyter-widgets/base",
      "model_module_version": "1.2.0",
      "model_name": "LayoutModel",
      "state": {
       "display": "inline-flex",
       "flex_flow": "row wrap",
       "width": "100%"
      }
     },
     "a70de6cb88984ac9b191624117dd800f": {
      "model_module": "@jupyter-widgets/base",
      "model_module_version": "1.2.0",
      "model_name": "LayoutModel",
      "state": {}
     },
     "a749145aa76b404f93b38791a1d7362a": {
      "model_module": "@jupyter-widgets/base",
      "model_module_version": "1.2.0",
      "model_name": "LayoutModel",
      "state": {
       "display": "inline-flex",
       "flex_flow": "row wrap",
       "width": "100%"
      }
     },
     "a7584467324d4fa4a5fbf8cda2539adf": {
      "model_module": "@jupyter-widgets/base",
      "model_module_version": "1.2.0",
      "model_name": "LayoutModel",
      "state": {
       "flex": "2"
      }
     },
     "a761da00d57343febbb7c4220709cbca": {
      "model_module": "@jupyter-widgets/controls",
      "model_module_version": "1.5.0",
      "model_name": "HTMLModel",
      "state": {
       "layout": "IPY_MODEL_695030eb27b94921b88bb2f96988f153",
       "style": "IPY_MODEL_7aeed7c701924b90809fe71f1dfc57d3",
       "value": "Validating:  99%"
      }
     },
     "a763da6b8a31498c8ebe3c52988ff5a2": {
      "model_module": "@jupyter-widgets/controls",
      "model_module_version": "1.5.0",
      "model_name": "DescriptionStyleModel",
      "state": {
       "description_width": ""
      }
     },
     "a76c0186162a403591d46de465fc9b02": {
      "model_module": "@jupyter-widgets/controls",
      "model_module_version": "1.5.0",
      "model_name": "FloatProgressModel",
      "state": {
       "bar_style": "success",
       "layout": "IPY_MODEL_ad70e0d0d0c846b3935375c9744331de",
       "max": 1,
       "style": "IPY_MODEL_43a98494fc3f4b6f84b103f60f5eb12a",
       "value": 1
      }
     },
     "a7ea9684c1a74f96aae09b74bfdaf364": {
      "model_module": "@jupyter-widgets/controls",
      "model_module_version": "1.5.0",
      "model_name": "DescriptionStyleModel",
      "state": {
       "description_width": ""
      }
     },
     "a8756a4949434d88ad382709fb81257a": {
      "model_module": "@jupyter-widgets/controls",
      "model_module_version": "1.5.0",
      "model_name": "DescriptionStyleModel",
      "state": {
       "description_width": ""
      }
     },
     "a88d905067fa4159b0fe2d9eb7cf325b": {
      "model_module": "@jupyter-widgets/controls",
      "model_module_version": "1.5.0",
      "model_name": "HTMLModel",
      "state": {
       "layout": "IPY_MODEL_d0b46fa54e2744e0b0fb144d198ed792",
       "style": "IPY_MODEL_9cce6217e9334ba9926e6e9e8f7a9ed1",
       "value": "Validating:  99%"
      }
     },
     "a89634d7ad1b4c3b8448271faa1b49e6": {
      "model_module": "@jupyter-widgets/controls",
      "model_module_version": "1.5.0",
      "model_name": "HTMLModel",
      "state": {
       "layout": "IPY_MODEL_d36a9e57c0e74785995776df58cf5b87",
       "style": "IPY_MODEL_0c0fb5d7da0f42b3bd6e2f0458829207",
       "value": "Validating: 100%"
      }
     },
     "a907b20b30014c559d0f0f6a04ef5d94": {
      "model_module": "@jupyter-widgets/controls",
      "model_module_version": "1.5.0",
      "model_name": "HTMLModel",
      "state": {
       "layout": "IPY_MODEL_89936c969d5c4ed3a08d22a30ca005e4",
       "style": "IPY_MODEL_666c86ac43c548dca8fc6689c2d16c8f",
       "value": " 1727/1737 [00:17&lt;00:00, 100.19it/s]"
      }
     },
     "a9665a1f664648f3bf5ff83395da708f": {
      "model_module": "@jupyter-widgets/base",
      "model_module_version": "1.2.0",
      "model_name": "LayoutModel",
      "state": {
       "flex": "2"
      }
     },
     "a980597eac604ff697fc5d90bebbe694": {
      "model_module": "@jupyter-widgets/base",
      "model_module_version": "1.2.0",
      "model_name": "LayoutModel",
      "state": {
       "flex": "2"
      }
     },
     "a9b235709bff4345a8a6ab11b90685be": {
      "model_module": "@jupyter-widgets/base",
      "model_module_version": "1.2.0",
      "model_name": "LayoutModel",
      "state": {}
     },
     "a9d77e5d46c449998ceaa29976b7d92e": {
      "model_module": "@jupyter-widgets/base",
      "model_module_version": "1.2.0",
      "model_name": "LayoutModel",
      "state": {
       "flex": "2"
      }
     },
     "a9e39e9d1d774e2d9472d2ce7a27fa64": {
      "model_module": "@jupyter-widgets/controls",
      "model_module_version": "1.5.0",
      "model_name": "FloatProgressModel",
      "state": {
       "bar_style": "success",
       "layout": "IPY_MODEL_04a637725c174c78a0248f546f4f7b19",
       "max": 13592,
       "style": "IPY_MODEL_3ea3c850855a465fb66d21af56cd45e5",
       "value": 13592
      }
     },
     "aa30c748bbc44d6a88088cab706eed1d": {
      "model_module": "@jupyter-widgets/controls",
      "model_module_version": "1.5.0",
      "model_name": "FloatProgressModel",
      "state": {
       "layout": "IPY_MODEL_2db500936b914e4388e5b3c57f95ab2e",
       "max": 1629,
       "style": "IPY_MODEL_4db555254779480cbf63448499c714b9",
       "value": 1629
      }
     },
     "aa7400298efe43c6b0945a3efbf6b7ae": {
      "model_module": "@jupyter-widgets/controls",
      "model_module_version": "1.5.0",
      "model_name": "HTMLModel",
      "state": {
       "layout": "IPY_MODEL_c0f24d9539ea4965beed847ce9f1131f",
       "style": "IPY_MODEL_a2c8d09feace46368db0b078ffc3af00",
       "value": " 1628/1629 [00:07&lt;00:00, 227.27it/s]"
      }
     },
     "aac803824786474b9cf5b07998cf79e8": {
      "model_module": "@jupyter-widgets/base",
      "model_module_version": "1.2.0",
      "model_name": "LayoutModel",
      "state": {}
     },
     "aae460f05cb749bb9fa52049f61b7eaa": {
      "model_module": "@jupyter-widgets/controls",
      "model_module_version": "1.5.0",
      "model_name": "HTMLModel",
      "state": {
       "layout": "IPY_MODEL_2f822ed61e6a45198a3bbba2fe55db11",
       "style": "IPY_MODEL_d7c141a7659040d79eadde6a25805de3",
       "value": " 1627/1629 [00:07&lt;00:00, 219.76it/s]"
      }
     },
     "aaf14602ec4147a09361ff23788855b7": {
      "model_module": "@jupyter-widgets/base",
      "model_module_version": "1.2.0",
      "model_name": "LayoutModel",
      "state": {
       "flex": "2"
      }
     },
     "aafe507ecba044408aa03eddb70717f8": {
      "model_module": "@jupyter-widgets/controls",
      "model_module_version": "1.5.0",
      "model_name": "HBoxModel",
      "state": {
       "children": [
        "IPY_MODEL_d858bdc05e1b4e11bc7aa4b30865391d",
        "IPY_MODEL_da7d3b4b9094405691569ff3103ecd4a",
        "IPY_MODEL_7b3ffec333b84418aace2f482df36c50"
       ],
       "layout": "IPY_MODEL_820ee958e8eb498da3641088be35e434"
      }
     },
     "aafeb09a843044a0ab9b00254f9f17b3": {
      "model_module": "@jupyter-widgets/base",
      "model_module_version": "1.2.0",
      "model_name": "LayoutModel",
      "state": {}
     },
     "ab29247d4318484e877fbd89f78afe9c": {
      "model_module": "@jupyter-widgets/base",
      "model_module_version": "1.2.0",
      "model_name": "LayoutModel",
      "state": {
       "flex": "2"
      }
     },
     "ab7406c0c85147fd84f2de760d15c620": {
      "model_module": "@jupyter-widgets/controls",
      "model_module_version": "1.5.0",
      "model_name": "DescriptionStyleModel",
      "state": {
       "description_width": ""
      }
     },
     "ab83d9d8a5114ad3a33e385033b168b9": {
      "model_module": "@jupyter-widgets/controls",
      "model_module_version": "1.5.0",
      "model_name": "ProgressStyleModel",
      "state": {
       "description_width": ""
      }
     },
     "ab8cd7f0eeef4825ac6f916b782b55ca": {
      "model_module": "@jupyter-widgets/controls",
      "model_module_version": "1.5.0",
      "model_name": "DescriptionStyleModel",
      "state": {
       "description_width": ""
      }
     },
     "ab9df84be22e4e5a923a4e233e7eef40": {
      "model_module": "@jupyter-widgets/controls",
      "model_module_version": "1.5.0",
      "model_name": "FloatProgressModel",
      "state": {
       "layout": "IPY_MODEL_5161aeb39b214ea285b9d42688b48e54",
       "max": 1595,
       "style": "IPY_MODEL_42a412f0169942a089be88f447fb771f",
       "value": 1595
      }
     },
     "ab9fa40fce9648fdbbcdd0ee17f0c57b": {
      "model_module": "@jupyter-widgets/controls",
      "model_module_version": "1.5.0",
      "model_name": "FloatProgressModel",
      "state": {
       "layout": "IPY_MODEL_61e3b9bfbdcd4a47939dab6706d2c332",
       "max": 1637,
       "style": "IPY_MODEL_818e355a401f419e8a92491563f747b6",
       "value": 1637
      }
     },
     "abfe0431c86643608e6b985778c59347": {
      "model_module": "@jupyter-widgets/controls",
      "model_module_version": "1.5.0",
      "model_name": "DescriptionStyleModel",
      "state": {
       "description_width": ""
      }
     },
     "ac018a2eec3b4eb39300b81d5e4c95e9": {
      "model_module": "@jupyter-widgets/controls",
      "model_module_version": "1.5.0",
      "model_name": "HTMLModel",
      "state": {
       "layout": "IPY_MODEL_2515ddef18c74f249608efe3624132ca",
       "style": "IPY_MODEL_c18308c76d8f45e4a0551f30c2cd1b34",
       "value": "Validating: 100%"
      }
     },
     "ac0fa5c4de174c96923f9c7bc732d31c": {
      "model_module": "@jupyter-widgets/controls",
      "model_module_version": "1.5.0",
      "model_name": "FloatProgressModel",
      "state": {
       "layout": "IPY_MODEL_39f53ba93eb947dc9797e90f8e95be95",
       "max": 1596,
       "style": "IPY_MODEL_b337a2ee60a74681b265ead0ecf48a8e",
       "value": 1596
      }
     },
     "ac3facbb132b4b01a1143a339ad2778d": {
      "model_module": "@jupyter-widgets/controls",
      "model_module_version": "1.5.0",
      "model_name": "HTMLModel",
      "state": {
       "layout": "IPY_MODEL_0ec82e407be9428e9ac0c100204886cc",
       "style": "IPY_MODEL_8c0932d013ef4a0ea5c795631ebf4c3a",
       "value": "Validating: 100%"
      }
     },
     "ac7dee0d5ce44e6384a0a0f6bf7c7de7": {
      "model_module": "@jupyter-widgets/base",
      "model_module_version": "1.2.0",
      "model_name": "LayoutModel",
      "state": {
       "display": "inline-flex",
       "flex_flow": "row wrap",
       "width": "100%"
      }
     },
     "ac97d9f2b181416ea8b7552229b7f963": {
      "model_module": "@jupyter-widgets/controls",
      "model_module_version": "1.5.0",
      "model_name": "DescriptionStyleModel",
      "state": {
       "description_width": ""
      }
     },
     "acd13e9bf2de40ac80f994f661732972": {
      "model_module": "@jupyter-widgets/controls",
      "model_module_version": "1.5.0",
      "model_name": "HBoxModel",
      "state": {
       "children": [
        "IPY_MODEL_bdd64b5e80b64046a558ab54673fef05",
        "IPY_MODEL_6de6a8a59b924520869b88b3d419d80a",
        "IPY_MODEL_9cbd594a463841848972ffa8e9105c61"
       ],
       "layout": "IPY_MODEL_617763d5bc7b49b690ca65df1485b160"
      }
     },
     "acda36fb6ce64b5c9d8ad1e5af80b43f": {
      "model_module": "@jupyter-widgets/controls",
      "model_module_version": "1.5.0",
      "model_name": "HTMLModel",
      "state": {
       "layout": "IPY_MODEL_8ad109ba775a4c70b23844b5eb31a576",
       "style": "IPY_MODEL_57086a7a27514766b4de3f3bc877e2cc",
       "value": "Validating:  99%"
      }
     },
     "ad06f3a7b17c48f2b297d658545688c3": {
      "model_module": "@jupyter-widgets/controls",
      "model_module_version": "1.5.0",
      "model_name": "FloatProgressModel",
      "state": {
       "layout": "IPY_MODEL_c8f9d6febf1644e18d488fe859e62f70",
       "max": 1737,
       "style": "IPY_MODEL_c643f0a627ca4857bfabf2d92503e0e3",
       "value": 1737
      }
     },
     "ad225cc6105749dea21e452ca6406a7c": {
      "model_module": "@jupyter-widgets/controls",
      "model_module_version": "1.5.0",
      "model_name": "DescriptionStyleModel",
      "state": {
       "description_width": ""
      }
     },
     "ad70e0d0d0c846b3935375c9744331de": {
      "model_module": "@jupyter-widgets/base",
      "model_module_version": "1.2.0",
      "model_name": "LayoutModel",
      "state": {
       "flex": "2"
      }
     },
     "ad9614b49d5540949f9dfd4938c76497": {
      "model_module": "@jupyter-widgets/controls",
      "model_module_version": "1.5.0",
      "model_name": "FloatProgressModel",
      "state": {
       "layout": "IPY_MODEL_d1b6ae5c70e34b52a4c68686638ec243",
       "max": 1595,
       "style": "IPY_MODEL_da98010a3fc34fbcaf224353b31460e0",
       "value": 1595
      }
     },
     "ad9f4c9986ca4db09e850bac014b662f": {
      "model_module": "@jupyter-widgets/controls",
      "model_module_version": "1.5.0",
      "model_name": "DescriptionStyleModel",
      "state": {
       "description_width": ""
      }
     },
     "ada9629d007e4da28fb97505716aada3": {
      "model_module": "@jupyter-widgets/controls",
      "model_module_version": "1.5.0",
      "model_name": "DescriptionStyleModel",
      "state": {
       "description_width": ""
      }
     },
     "adb1de7e2f6b417da82d27fe01996535": {
      "model_module": "@jupyter-widgets/controls",
      "model_module_version": "1.5.0",
      "model_name": "FloatProgressModel",
      "state": {
       "layout": "IPY_MODEL_f2a1aa8c6b434d06bce349583b9b68b8",
       "max": 2,
       "style": "IPY_MODEL_f9302586145242fc9027cd44c5a027eb",
       "value": 2
      }
     },
     "add1c8388588483981deaef1dc781b14": {
      "model_module": "@jupyter-widgets/base",
      "model_module_version": "1.2.0",
      "model_name": "LayoutModel",
      "state": {}
     },
     "addf19cf9b3d4f3886cc6dba012c4a53": {
      "model_module": "@jupyter-widgets/controls",
      "model_module_version": "1.5.0",
      "model_name": "DescriptionStyleModel",
      "state": {
       "description_width": ""
      }
     },
     "ade7b8533f09477d96f197859fdd5ba7": {
      "model_module": "@jupyter-widgets/controls",
      "model_module_version": "1.5.0",
      "model_name": "ProgressStyleModel",
      "state": {
       "description_width": ""
      }
     },
     "ae3313bf4f92442a88111ca09c92c641": {
      "model_module": "@jupyter-widgets/base",
      "model_module_version": "1.2.0",
      "model_name": "LayoutModel",
      "state": {
       "flex": "2"
      }
     },
     "ae5595b1bf29480d91595c03d69b31cb": {
      "model_module": "@jupyter-widgets/base",
      "model_module_version": "1.2.0",
      "model_name": "LayoutModel",
      "state": {}
     },
     "ae6daa22e0b24856a50094fd8c7d0ad4": {
      "model_module": "@jupyter-widgets/base",
      "model_module_version": "1.2.0",
      "model_name": "LayoutModel",
      "state": {}
     },
     "ae8e06fdb18b43a59636f6dfab6d9a59": {
      "model_module": "@jupyter-widgets/controls",
      "model_module_version": "1.5.0",
      "model_name": "FloatProgressModel",
      "state": {
       "layout": "IPY_MODEL_5eb0c0730fe44c1a846738483bf44257",
       "max": 1596,
       "style": "IPY_MODEL_007ceb8673204252b5b84a4c837bf191",
       "value": 1596
      }
     },
     "ae90eead71e840b29f960adbfd9714de": {
      "model_module": "@jupyter-widgets/controls",
      "model_module_version": "1.5.0",
      "model_name": "DescriptionStyleModel",
      "state": {
       "description_width": ""
      }
     },
     "aebdaec36e6d418d952ab09e80d5faad": {
      "model_module": "@jupyter-widgets/controls",
      "model_module_version": "1.5.0",
      "model_name": "HTMLModel",
      "state": {
       "layout": "IPY_MODEL_bbbf2f1d647d43f1bf6e04c6152c82a2",
       "style": "IPY_MODEL_61ffe75220eb41ef952fed84db19bcdd",
       "value": " 1578/1595 [00:07&lt;00:00, 225.71it/s]"
      }
     },
     "af5a993255554cf0b11e7cd2a9b111ee": {
      "model_module": "@jupyter-widgets/base",
      "model_module_version": "1.2.0",
      "model_name": "LayoutModel",
      "state": {}
     },
     "af865d81034242d7bc57055b8e1fc227": {
      "model_module": "@jupyter-widgets/controls",
      "model_module_version": "1.5.0",
      "model_name": "DescriptionStyleModel",
      "state": {
       "description_width": ""
      }
     },
     "afa4021d823e4c42a284e2297515b1ef": {
      "model_module": "@jupyter-widgets/controls",
      "model_module_version": "1.5.0",
      "model_name": "HTMLModel",
      "state": {
       "layout": "IPY_MODEL_2cb358d9259a4ae5a6726334dea24675",
       "style": "IPY_MODEL_cc781a18721042548a6900bd68dc0ae5",
       "value": " 1583/1595 [00:07&lt;00:00, 221.53it/s]"
      }
     },
     "afd229d238904d3aa68322fbcce1d600": {
      "model_module": "@jupyter-widgets/controls",
      "model_module_version": "1.5.0",
      "model_name": "DescriptionStyleModel",
      "state": {
       "description_width": ""
      }
     },
     "b01427b6516440de89df3f97a4d1761e": {
      "model_module": "@jupyter-widgets/controls",
      "model_module_version": "1.5.0",
      "model_name": "DescriptionStyleModel",
      "state": {
       "description_width": ""
      }
     },
     "b04bd0abf1eb47fabfcb13cff723ec2f": {
      "model_module": "@jupyter-widgets/controls",
      "model_module_version": "1.5.0",
      "model_name": "ProgressStyleModel",
      "state": {
       "description_width": ""
      }
     },
     "b0695bdba5c54609abbb09469968547e": {
      "model_module": "@jupyter-widgets/controls",
      "model_module_version": "1.5.0",
      "model_name": "DescriptionStyleModel",
      "state": {
       "description_width": ""
      }
     },
     "b0b971efa7ee4785a9b01d0b45b742a5": {
      "model_module": "@jupyter-widgets/controls",
      "model_module_version": "1.5.0",
      "model_name": "HTMLModel",
      "state": {
       "layout": "IPY_MODEL_aac803824786474b9cf5b07998cf79e8",
       "style": "IPY_MODEL_9e800f0ad6e542029116b1a1504785ad",
       "value": " 1587/1595 [00:15&lt;00:00, 106.27it/s]"
      }
     },
     "b12e98101228421a80d097fbd97f2259": {
      "model_module": "@jupyter-widgets/controls",
      "model_module_version": "1.5.0",
      "model_name": "DescriptionStyleModel",
      "state": {
       "description_width": ""
      }
     },
     "b17396ed668346cc90c7f9e758e70a00": {
      "model_module": "@jupyter-widgets/base",
      "model_module_version": "1.2.0",
      "model_name": "LayoutModel",
      "state": {}
     },
     "b1a097f0f4574383af53c654f6a1c4ae": {
      "model_module": "@jupyter-widgets/controls",
      "model_module_version": "1.5.0",
      "model_name": "HTMLModel",
      "state": {
       "layout": "IPY_MODEL_0217fefd95904c3d83ee456b6f7701c3",
       "style": "IPY_MODEL_482739e82af84be4b1b4b04a3d287ac4",
       "value": " 1610/1629 [00:07&lt;00:00, 229.30it/s]"
      }
     },
     "b21a53e99fc74aca9459043f53927665": {
      "model_module": "@jupyter-widgets/controls",
      "model_module_version": "1.5.0",
      "model_name": "DescriptionStyleModel",
      "state": {
       "description_width": ""
      }
     },
     "b21f6a6206924924b30f65c1f059d9b3": {
      "model_module": "@jupyter-widgets/controls",
      "model_module_version": "1.5.0",
      "model_name": "HTMLModel",
      "state": {
       "layout": "IPY_MODEL_8025080168084dd3a7627254aceaf912",
       "style": "IPY_MODEL_29b859461b074fb38ff1abf50185318b",
       "value": "Validating:  99%"
      }
     },
     "b22344b0a5574dd1a0476102379e362c": {
      "model_module": "@jupyter-widgets/controls",
      "model_module_version": "1.5.0",
      "model_name": "DescriptionStyleModel",
      "state": {
       "description_width": ""
      }
     },
     "b2305177eba04aff9cc287d05fb0bbb7": {
      "model_module": "@jupyter-widgets/controls",
      "model_module_version": "1.5.0",
      "model_name": "HTMLModel",
      "state": {
       "layout": "IPY_MODEL_5edfe8c29fed4a0fbd4de8d4e5e4122a",
       "style": "IPY_MODEL_dfd2679940594ce49099b72b7938f482",
       "value": " 1590/1595 [00:07&lt;00:00, 229.64it/s]"
      }
     },
     "b25355ac5d924c9cb4d417d8fec28030": {
      "model_module": "@jupyter-widgets/controls",
      "model_module_version": "1.5.0",
      "model_name": "ProgressStyleModel",
      "state": {
       "description_width": ""
      }
     },
     "b265a100cc7342e6817c58ac22a3dd3b": {
      "model_module": "@jupyter-widgets/controls",
      "model_module_version": "1.5.0",
      "model_name": "HTMLModel",
      "state": {
       "layout": "IPY_MODEL_47b1952772dc45c6854dc137dcb3671f",
       "style": "IPY_MODEL_eb3078a5997a416b876f74af28fce801",
       "value": "Testing: 100%"
      }
     },
     "b29863acb0334b28b3967a801498027a": {
      "model_module": "@jupyter-widgets/base",
      "model_module_version": "1.2.0",
      "model_name": "LayoutModel",
      "state": {
       "flex": "2"
      }
     },
     "b337a2ee60a74681b265ead0ecf48a8e": {
      "model_module": "@jupyter-widgets/controls",
      "model_module_version": "1.5.0",
      "model_name": "ProgressStyleModel",
      "state": {
       "description_width": ""
      }
     },
     "b34da68378c647549e499db39c1c7450": {
      "model_module": "@jupyter-widgets/controls",
      "model_module_version": "1.5.0",
      "model_name": "HTMLModel",
      "state": {
       "layout": "IPY_MODEL_b17396ed668346cc90c7f9e758e70a00",
       "style": "IPY_MODEL_b93fb658205a426c9e12d5e0d95ed643",
       "value": "Validating: 100%"
      }
     },
     "b36ebdf3e19c44f599dc8c12d51ed832": {
      "model_module": "@jupyter-widgets/controls",
      "model_module_version": "1.5.0",
      "model_name": "HTMLModel",
      "state": {
       "layout": "IPY_MODEL_eda82c9b6d5c4650bf91bbf8d1bdc582",
       "style": "IPY_MODEL_24959f3370a54e0d84ceb648d4e4bd69",
       "value": "Validating:  99%"
      }
     },
     "b378a1cd02924be28de0b31e39bae804": {
      "model_module": "@jupyter-widgets/controls",
      "model_module_version": "1.5.0",
      "model_name": "ProgressStyleModel",
      "state": {
       "description_width": ""
      }
     },
     "b38bc961b7e14e6c81cab42565e36e1b": {
      "model_module": "@jupyter-widgets/base",
      "model_module_version": "1.2.0",
      "model_name": "LayoutModel",
      "state": {
       "display": "inline-flex",
       "flex_flow": "row wrap",
       "width": "100%"
      }
     },
     "b3d2d967e842489d9ded0fb5b00b25be": {
      "model_module": "@jupyter-widgets/controls",
      "model_module_version": "1.5.0",
      "model_name": "DescriptionStyleModel",
      "state": {
       "description_width": ""
      }
     },
     "b3d51f3846ee43fdb82ca9267a33aa15": {
      "model_module": "@jupyter-widgets/base",
      "model_module_version": "1.2.0",
      "model_name": "LayoutModel",
      "state": {}
     },
     "b447584aa9614d16808804f256d04085": {
      "model_module": "@jupyter-widgets/controls",
      "model_module_version": "1.5.0",
      "model_name": "ProgressStyleModel",
      "state": {
       "description_width": ""
      }
     },
     "b4a127a2441141558c757d14b20929b8": {
      "model_module": "@jupyter-widgets/controls",
      "model_module_version": "1.5.0",
      "model_name": "HTMLModel",
      "state": {
       "layout": "IPY_MODEL_dbe0863ae8364a859f1f571877f01bc2",
       "style": "IPY_MODEL_effb555ab3c649218c74ae3c45d119cc",
       "value": " 1731/1737 [00:17&lt;00:00, 102.96it/s]"
      }
     },
     "b4e35b77ef0a4fa893f274c3bb462ac2": {
      "model_module": "@jupyter-widgets/controls",
      "model_module_version": "1.5.0",
      "model_name": "ProgressStyleModel",
      "state": {
       "description_width": ""
      }
     },
     "b4ecc7874cb1470d87883585eb791f4b": {
      "model_module": "@jupyter-widgets/base",
      "model_module_version": "1.2.0",
      "model_name": "LayoutModel",
      "state": {}
     },
     "b57cd298acc7486a898af82701cf6bc0": {
      "model_module": "@jupyter-widgets/controls",
      "model_module_version": "1.5.0",
      "model_name": "DescriptionStyleModel",
      "state": {
       "description_width": ""
      }
     },
     "b5efe078f4e84f9cb00c318a90272149": {
      "model_module": "@jupyter-widgets/base",
      "model_module_version": "1.2.0",
      "model_name": "LayoutModel",
      "state": {
       "flex": "2"
      }
     },
     "b651f31c875f4dcd9ce6ff94ceb92344": {
      "model_module": "@jupyter-widgets/controls",
      "model_module_version": "1.5.0",
      "model_name": "DescriptionStyleModel",
      "state": {
       "description_width": ""
      }
     },
     "b6aa7db4b25047ec8265755f0ad58dfc": {
      "model_module": "@jupyter-widgets/base",
      "model_module_version": "1.2.0",
      "model_name": "LayoutModel",
      "state": {
       "flex": "2"
      }
     },
     "b6eab20dfdbb454d9ab78086b104c15e": {
      "model_module": "@jupyter-widgets/controls",
      "model_module_version": "1.5.0",
      "model_name": "ProgressStyleModel",
      "state": {
       "description_width": ""
      }
     },
     "b725161b564f4f02bff60174fea581ac": {
      "model_module": "@jupyter-widgets/controls",
      "model_module_version": "1.5.0",
      "model_name": "DescriptionStyleModel",
      "state": {
       "description_width": ""
      }
     },
     "b730279ec2e541dc9fbcdb8d369279a4": {
      "model_module": "@jupyter-widgets/base",
      "model_module_version": "1.2.0",
      "model_name": "LayoutModel",
      "state": {
       "display": "inline-flex",
       "flex_flow": "row wrap",
       "width": "100%"
      }
     },
     "b75d2b16a79e4d5ca56f3d54708dfccb": {
      "model_module": "@jupyter-widgets/controls",
      "model_module_version": "1.5.0",
      "model_name": "HTMLModel",
      "state": {
       "layout": "IPY_MODEL_a1ed639e98cc4d79b66052077a7b89c4",
       "style": "IPY_MODEL_d1cd2ceac5a04979802a219df03ee7af",
       "value": " 1584/1595 [00:07&lt;00:00, 216.69it/s]"
      }
     },
     "b777dab4268543b1a38f6864b03847fd": {
      "model_module": "@jupyter-widgets/base",
      "model_module_version": "1.2.0",
      "model_name": "LayoutModel",
      "state": {
       "display": "inline-flex",
       "flex_flow": "row wrap",
       "width": "100%"
      }
     },
     "b79de37fb64a43c68448082ce5521e73": {
      "model_module": "@jupyter-widgets/controls",
      "model_module_version": "1.5.0",
      "model_name": "FloatProgressModel",
      "state": {
       "bar_style": "success",
       "layout": "IPY_MODEL_84eb514725de4d769fb7824ffffbd7fc",
       "max": 1,
       "style": "IPY_MODEL_c2cc7248dd0846aab67fb65858a40a4c",
       "value": 1
      }
     },
     "b7af0615f08e41de8c5dba55137caf1f": {
      "model_module": "@jupyter-widgets/controls",
      "model_module_version": "1.5.0",
      "model_name": "ProgressStyleModel",
      "state": {
       "description_width": ""
      }
     },
     "b7bb518be0904e97a7b465070bd7cc3f": {
      "model_module": "@jupyter-widgets/base",
      "model_module_version": "1.2.0",
      "model_name": "LayoutModel",
      "state": {
       "flex": "2"
      }
     },
     "b7f3ee007fb84bd4a9addede257ee2be": {
      "model_module": "@jupyter-widgets/controls",
      "model_module_version": "1.5.0",
      "model_name": "DescriptionStyleModel",
      "state": {
       "description_width": ""
      }
     },
     "b82867dd4cb34d3bb44f844bc9ff7c7d": {
      "model_module": "@jupyter-widgets/base",
      "model_module_version": "1.2.0",
      "model_name": "LayoutModel",
      "state": {
       "flex": "2"
      }
     },
     "b84048c785b74344b62d8f0d073c5372": {
      "model_module": "@jupyter-widgets/controls",
      "model_module_version": "1.5.0",
      "model_name": "DescriptionStyleModel",
      "state": {
       "description_width": ""
      }
     },
     "b842e9bdd9544b5b94afa35c78fa67db": {
      "model_module": "@jupyter-widgets/controls",
      "model_module_version": "1.5.0",
      "model_name": "DescriptionStyleModel",
      "state": {
       "description_width": ""
      }
     },
     "b856ab1a590e404ab76b70b957912c55": {
      "model_module": "@jupyter-widgets/controls",
      "model_module_version": "1.5.0",
      "model_name": "ProgressStyleModel",
      "state": {
       "description_width": ""
      }
     },
     "b86df72ee71b4616b226d13febaaa429": {
      "model_module": "@jupyter-widgets/base",
      "model_module_version": "1.2.0",
      "model_name": "LayoutModel",
      "state": {}
     },
     "b8c3a8c859ed42809f31c7f7f5d13bf8": {
      "model_module": "@jupyter-widgets/controls",
      "model_module_version": "1.5.0",
      "model_name": "FloatProgressModel",
      "state": {
       "bar_style": "success",
       "layout": "IPY_MODEL_664381afcb8f43e6a8250380db1f20c8",
       "max": 1,
       "style": "IPY_MODEL_f21b1a1123d6411b88e353b2fcc7c78d",
       "value": 1
      }
     },
     "b8da0254f9e24d91a7c06c12ab520e8f": {
      "model_module": "@jupyter-widgets/controls",
      "model_module_version": "1.5.0",
      "model_name": "ProgressStyleModel",
      "state": {
       "description_width": ""
      }
     },
     "b90956ad8e0943aeb89d3c8147ef7622": {
      "model_module": "@jupyter-widgets/base",
      "model_module_version": "1.2.0",
      "model_name": "LayoutModel",
      "state": {
       "flex": "2"
      }
     },
     "b932ab123cb64c3d9b561b49797d1384": {
      "model_module": "@jupyter-widgets/controls",
      "model_module_version": "1.5.0",
      "model_name": "DescriptionStyleModel",
      "state": {
       "description_width": ""
      }
     },
     "b93fb658205a426c9e12d5e0d95ed643": {
      "model_module": "@jupyter-widgets/controls",
      "model_module_version": "1.5.0",
      "model_name": "DescriptionStyleModel",
      "state": {
       "description_width": ""
      }
     },
     "b95f6ea89b2b497b908d2aca553b03be": {
      "model_module": "@jupyter-widgets/base",
      "model_module_version": "1.2.0",
      "model_name": "LayoutModel",
      "state": {
       "display": "inline-flex",
       "flex_flow": "row wrap",
       "width": "100%"
      }
     },
     "b9880ce215c641c8a43dc3cdfdd23ac4": {
      "model_module": "@jupyter-widgets/controls",
      "model_module_version": "1.5.0",
      "model_name": "DescriptionStyleModel",
      "state": {
       "description_width": ""
      }
     },
     "b9b1afa47bb945f589ea84a03376d83b": {
      "model_module": "@jupyter-widgets/base",
      "model_module_version": "1.2.0",
      "model_name": "LayoutModel",
      "state": {
       "display": "inline-flex",
       "flex_flow": "row wrap",
       "width": "100%"
      }
     },
     "b9b4d50019b94be9b6c3459c61d0bba5": {
      "model_module": "@jupyter-widgets/controls",
      "model_module_version": "1.5.0",
      "model_name": "DescriptionStyleModel",
      "state": {
       "description_width": ""
      }
     },
     "ba07c9ba5e1b49389cf6e8448a53aba0": {
      "model_module": "@jupyter-widgets/base",
      "model_module_version": "1.2.0",
      "model_name": "LayoutModel",
      "state": {}
     },
     "ba7dec2c201943eb8480a04b25ca9951": {
      "model_module": "@jupyter-widgets/controls",
      "model_module_version": "1.5.0",
      "model_name": "DescriptionStyleModel",
      "state": {
       "description_width": ""
      }
     },
     "ba91cb0e248045c0b3df33e967b144eb": {
      "model_module": "@jupyter-widgets/controls",
      "model_module_version": "1.5.0",
      "model_name": "HTMLModel",
      "state": {
       "layout": "IPY_MODEL_f1c1e44b00b74a7c88c4e9807fb73eed",
       "style": "IPY_MODEL_17c9684b658248128a730140e41ea717",
       "value": "Validating:  99%"
      }
     },
     "bad1ebd567c941fdb3614061d182829f": {
      "model_module": "@jupyter-widgets/controls",
      "model_module_version": "1.5.0",
      "model_name": "ProgressStyleModel",
      "state": {
       "description_width": ""
      }
     },
     "baef131256a249f8af5076e41da011d3": {
      "model_module": "@jupyter-widgets/controls",
      "model_module_version": "1.5.0",
      "model_name": "HTMLModel",
      "state": {
       "layout": "IPY_MODEL_ba07c9ba5e1b49389cf6e8448a53aba0",
       "style": "IPY_MODEL_9c43c7dfa3ab47ba9817319754c9902a",
       "value": "Validating:  99%"
      }
     },
     "bb010fef0b58453f9d9ef4a8b6db6ec8": {
      "model_module": "@jupyter-widgets/controls",
      "model_module_version": "1.5.0",
      "model_name": "FloatProgressModel",
      "state": {
       "layout": "IPY_MODEL_14db8142a8a9455ba9d7e980bf0f8006",
       "max": 1595,
       "style": "IPY_MODEL_7418dc5674754e40ab3a11e4d35f765a",
       "value": 1595
      }
     },
     "bb2a4b5051fa4a5897196d43b4e82846": {
      "model_module": "@jupyter-widgets/controls",
      "model_module_version": "1.5.0",
      "model_name": "DescriptionStyleModel",
      "state": {
       "description_width": ""
      }
     },
     "bb60186632544f0fab5e98b7ba1cecc7": {
      "model_module": "@jupyter-widgets/controls",
      "model_module_version": "1.5.0",
      "model_name": "DescriptionStyleModel",
      "state": {
       "description_width": ""
      }
     },
     "bb7e67f599384d98b84d9d6677ec3c53": {
      "model_module": "@jupyter-widgets/base",
      "model_module_version": "1.2.0",
      "model_name": "LayoutModel",
      "state": {}
     },
     "bbbf2f1d647d43f1bf6e04c6152c82a2": {
      "model_module": "@jupyter-widgets/base",
      "model_module_version": "1.2.0",
      "model_name": "LayoutModel",
      "state": {}
     },
     "bbfbd43b71f349cb8082499fa2a972f3": {
      "model_module": "@jupyter-widgets/controls",
      "model_module_version": "1.5.0",
      "model_name": "HTMLModel",
      "state": {
       "layout": "IPY_MODEL_c6bb6022695e415f948af11e8f52d37d",
       "style": "IPY_MODEL_74e6b66645644be9aad2a8d68fecf526",
       "value": "Validating: 100%"
      }
     },
     "bc6fe81b7a084474babccacdc86da4ba": {
      "model_module": "@jupyter-widgets/base",
      "model_module_version": "1.2.0",
      "model_name": "LayoutModel",
      "state": {
       "display": "inline-flex",
       "flex_flow": "row wrap",
       "width": "100%"
      }
     },
     "bc7032026b9441b08b4bbd1567c10e88": {
      "model_module": "@jupyter-widgets/controls",
      "model_module_version": "1.5.0",
      "model_name": "DescriptionStyleModel",
      "state": {
       "description_width": ""
      }
     },
     "bc98376660854795ae2d46b9300f6b5e": {
      "model_module": "@jupyter-widgets/base",
      "model_module_version": "1.2.0",
      "model_name": "LayoutModel",
      "state": {
       "flex": "2"
      }
     },
     "bca46d08fb674d32a23bb8166f36700b": {
      "model_module": "@jupyter-widgets/base",
      "model_module_version": "1.2.0",
      "model_name": "LayoutModel",
      "state": {}
     },
     "bcc844d3ed984a0cac7da23b6ba63974": {
      "model_module": "@jupyter-widgets/controls",
      "model_module_version": "1.5.0",
      "model_name": "DescriptionStyleModel",
      "state": {
       "description_width": ""
      }
     },
     "bcf7e6fd40d24f0c88d9608c51abb01b": {
      "model_module": "@jupyter-widgets/base",
      "model_module_version": "1.2.0",
      "model_name": "LayoutModel",
      "state": {
       "display": "inline-flex",
       "flex_flow": "row wrap",
       "width": "100%"
      }
     },
     "bd0ed8eb99ee4eab8aa1784b98c313d4": {
      "model_module": "@jupyter-widgets/controls",
      "model_module_version": "1.5.0",
      "model_name": "HTMLModel",
      "state": {
       "layout": "IPY_MODEL_9d6c4f96f05a4eb5a513d3bbd25b2558",
       "style": "IPY_MODEL_4b8e1cfb80b94acaad0ff5bee7b89b0f",
       "value": "Validating: 100%"
      }
     },
     "bd1eff5a7b8148138bac02ca153b3387": {
      "model_module": "@jupyter-widgets/controls",
      "model_module_version": "1.5.0",
      "model_name": "HTMLModel",
      "state": {
       "layout": "IPY_MODEL_c7fa703f757d4e248eded675886b402d",
       "style": "IPY_MODEL_88dc87e8f14a40089f11033b24d54e40",
       "value": " 13690/13690 [01:28&lt;00:00, 154.14it/s, loss=0.516, v_num=size]"
      }
     },
     "bd22b6bb1bf342639798305260c61b26": {
      "model_module": "@jupyter-widgets/controls",
      "model_module_version": "1.5.0",
      "model_name": "FloatProgressModel",
      "state": {
       "layout": "IPY_MODEL_fe1623043101439c9a0d117642025826",
       "max": 1595,
       "style": "IPY_MODEL_695a14ee5f9d46dc868cbd17429a323d",
       "value": 1595
      }
     },
     "bd9c0c0599bb4f02936971d3912e9d93": {
      "model_module": "@jupyter-widgets/base",
      "model_module_version": "1.2.0",
      "model_name": "LayoutModel",
      "state": {
       "flex": "2"
      }
     },
     "bdd64b5e80b64046a558ab54673fef05": {
      "model_module": "@jupyter-widgets/controls",
      "model_module_version": "1.5.0",
      "model_name": "HTMLModel",
      "state": {
       "layout": "IPY_MODEL_07d9d64ddea140aaa0a23ace097c3f03",
       "style": "IPY_MODEL_172d7e09e4cc42bd99e8c19cf63e11b9",
       "value": "Epoch 5: 100%"
      }
     },
     "be526fdd9ab44c7faea3bdef9dae651c": {
      "model_module": "@jupyter-widgets/base",
      "model_module_version": "1.2.0",
      "model_name": "LayoutModel",
      "state": {}
     },
     "be529ad1757142d49e3767c9169b022a": {
      "model_module": "@jupyter-widgets/controls",
      "model_module_version": "1.5.0",
      "model_name": "HTMLModel",
      "state": {
       "layout": "IPY_MODEL_d45d90669ce846ba94d879b7ce5f66a2",
       "style": "IPY_MODEL_70fc405cc1474a42a680f403875ccd9c",
       "value": " 1594/1596 [00:16&lt;00:00, 97.16it/s]"
      }
     },
     "be79245a37a8430ebaaea264cf8510ef": {
      "model_module": "@jupyter-widgets/base",
      "model_module_version": "1.2.0",
      "model_name": "LayoutModel",
      "state": {
       "flex": "2"
      }
     },
     "be7bf2671b5f41d1a47a4d56a190a328": {
      "model_module": "@jupyter-widgets/base",
      "model_module_version": "1.2.0",
      "model_name": "LayoutModel",
      "state": {
       "display": "inline-flex",
       "flex_flow": "row wrap",
       "width": "100%"
      }
     },
     "be87cdeb51f048b8a2718795a64b5365": {
      "model_module": "@jupyter-widgets/base",
      "model_module_version": "1.2.0",
      "model_name": "LayoutModel",
      "state": {
       "flex": "2"
      }
     },
     "be95d0f8156947bca38452a73c34fac2": {
      "model_module": "@jupyter-widgets/controls",
      "model_module_version": "1.5.0",
      "model_name": "DescriptionStyleModel",
      "state": {
       "description_width": ""
      }
     },
     "bef1eacfcd634671b850dbc9c75d6872": {
      "model_module": "@jupyter-widgets/controls",
      "model_module_version": "1.5.0",
      "model_name": "HTMLModel",
      "state": {
       "layout": "IPY_MODEL_e43d9e685b464e22b6ab6bf0800c52aa",
       "style": "IPY_MODEL_78baf3a0c4f849e3816eea3d3f16bf3a",
       "value": "Validating: 100%"
      }
     },
     "bf3023c6c52140b1a6b9d297a9b202e8": {
      "model_module": "@jupyter-widgets/controls",
      "model_module_version": "1.5.0",
      "model_name": "DescriptionStyleModel",
      "state": {
       "description_width": ""
      }
     },
     "bf51cc1b07004422bc2c9bd09acfcf22": {
      "model_module": "@jupyter-widgets/controls",
      "model_module_version": "1.5.0",
      "model_name": "HTMLModel",
      "state": {
       "layout": "IPY_MODEL_3739328f6cf74d2f903a50bdc022a7d1",
       "style": "IPY_MODEL_77912d7cda2b4484b53eb9c2e85cf64a",
       "value": " 1624/1629 [00:07&lt;00:00, 224.61it/s]"
      }
     },
     "bf81a0df8d4a48b4950c4e87e5c36bc4": {
      "model_module": "@jupyter-widgets/base",
      "model_module_version": "1.2.0",
      "model_name": "LayoutModel",
      "state": {}
     },
     "bfb8c59cae604b8baedf3205b954fa01": {
      "model_module": "@jupyter-widgets/controls",
      "model_module_version": "1.5.0",
      "model_name": "HBoxModel",
      "state": {
       "children": [
        "IPY_MODEL_64df7580019a426abbb8b16567e96d40",
        "IPY_MODEL_b8c3a8c859ed42809f31c7f7f5d13bf8",
        "IPY_MODEL_0a1957c3b7b0468d8182e7c6659b3adb"
       ],
       "layout": "IPY_MODEL_e0f2a6c5a6bd49e2a47a618ac60eed8e"
      }
     },
     "bfedb12648114f518a2e93f2ad7aa328": {
      "model_module": "@jupyter-widgets/base",
      "model_module_version": "1.2.0",
      "model_name": "LayoutModel",
      "state": {}
     },
     "bfedd4363b094a0ab074ae965a96067f": {
      "model_module": "@jupyter-widgets/controls",
      "model_module_version": "1.5.0",
      "model_name": "HTMLModel",
      "state": {
       "layout": "IPY_MODEL_ae6daa22e0b24856a50094fd8c7d0ad4",
       "style": "IPY_MODEL_f119f970479f41a8aeb806d8e198b187",
       "value": "Epoch 13: 100%"
      }
     },
     "c019cca578d74361b804fa6fdb383559": {
      "model_module": "@jupyter-widgets/controls",
      "model_module_version": "1.5.0",
      "model_name": "HTMLModel",
      "state": {
       "layout": "IPY_MODEL_43631ce43edb4abaa45895f762416c5d",
       "style": "IPY_MODEL_2d1c855a2dc94ee9b464dd5c5a6111ad",
       "value": "Validating:  99%"
      }
     },
     "c0f24d9539ea4965beed847ce9f1131f": {
      "model_module": "@jupyter-widgets/base",
      "model_module_version": "1.2.0",
      "model_name": "LayoutModel",
      "state": {}
     },
     "c1033e7c905744519b6785bbcfab95ba": {
      "model_module": "@jupyter-widgets/base",
      "model_module_version": "1.2.0",
      "model_name": "LayoutModel",
      "state": {}
     },
     "c1714cc800474fabbb6945bf35196a4d": {
      "model_module": "@jupyter-widgets/controls",
      "model_module_version": "1.5.0",
      "model_name": "FloatProgressModel",
      "state": {
       "layout": "IPY_MODEL_e0fcd1e7b2ef4724b08e1c95be0107f7",
       "max": 1595,
       "style": "IPY_MODEL_21826584122e4904856350ff7f785c61",
       "value": 1595
      }
     },
     "c18308c76d8f45e4a0551f30c2cd1b34": {
      "model_module": "@jupyter-widgets/controls",
      "model_module_version": "1.5.0",
      "model_name": "DescriptionStyleModel",
      "state": {
       "description_width": ""
      }
     },
     "c1ca0926f6e740a98179b8dad94d910c": {
      "model_module": "@jupyter-widgets/base",
      "model_module_version": "1.2.0",
      "model_name": "LayoutModel",
      "state": {
       "flex": "2"
      }
     },
     "c1f0fca7c4604fb6a9c6b5bfca8a4604": {
      "model_module": "@jupyter-widgets/base",
      "model_module_version": "1.2.0",
      "model_name": "LayoutModel",
      "state": {}
     },
     "c24e3b31596a46c4b0e3212cad04832f": {
      "model_module": "@jupyter-widgets/controls",
      "model_module_version": "1.5.0",
      "model_name": "DescriptionStyleModel",
      "state": {
       "description_width": ""
      }
     },
     "c25d965584d34c08990130f5a8739346": {
      "model_module": "@jupyter-widgets/controls",
      "model_module_version": "1.5.0",
      "model_name": "ProgressStyleModel",
      "state": {
       "description_width": ""
      }
     },
     "c2639bcae3ac4904838e6b16cd7a0fc1": {
      "model_module": "@jupyter-widgets/base",
      "model_module_version": "1.2.0",
      "model_name": "LayoutModel",
      "state": {}
     },
     "c28918ae3f274f3db61170f61a54caab": {
      "model_module": "@jupyter-widgets/controls",
      "model_module_version": "1.5.0",
      "model_name": "HTMLModel",
      "state": {
       "layout": "IPY_MODEL_6817e24dd66b403a80463ef9a4fc60d6",
       "style": "IPY_MODEL_333f6ff6f317414ebfc6a186ebffa5c8",
       "value": "Validating:  99%"
      }
     },
     "c2cc7248dd0846aab67fb65858a40a4c": {
      "model_module": "@jupyter-widgets/controls",
      "model_module_version": "1.5.0",
      "model_name": "ProgressStyleModel",
      "state": {
       "description_width": ""
      }
     },
     "c38b8c29dd8d4a2980b657a8a4bab539": {
      "model_module": "@jupyter-widgets/controls",
      "model_module_version": "1.5.0",
      "model_name": "HTMLModel",
      "state": {
       "layout": "IPY_MODEL_1441f2e85dd74e40bac8d5211b6089d1",
       "style": "IPY_MODEL_ecd31654af1a4afabb443a8d0f9e219c",
       "value": " 13592/13592 [04:34&lt;00:00, 49.46it/s, loss=0.236, v_num=it_1]"
      }
     },
     "c3a405cbec4443f28d0049bc1c1ba007": {
      "model_module": "@jupyter-widgets/controls",
      "model_module_version": "1.5.0",
      "model_name": "FloatProgressModel",
      "state": {
       "layout": "IPY_MODEL_f5437f2583e14a35874891960207aab9",
       "max": 1737,
       "style": "IPY_MODEL_14286c79b6b647b3b75092a6b2c8c9c1",
       "value": 1737
      }
     },
     "c3ae9375208b47788a9266152e0c86e2": {
      "model_module": "@jupyter-widgets/controls",
      "model_module_version": "1.5.0",
      "model_name": "DescriptionStyleModel",
      "state": {
       "description_width": ""
      }
     },
     "c3d9989e2f384275b94396e3ca59a2e2": {
      "model_module": "@jupyter-widgets/controls",
      "model_module_version": "1.5.0",
      "model_name": "DescriptionStyleModel",
      "state": {
       "description_width": ""
      }
     },
     "c3f8131bdfe845f0a3c986f736183d35": {
      "model_module": "@jupyter-widgets/controls",
      "model_module_version": "1.5.0",
      "model_name": "HTMLModel",
      "state": {
       "layout": "IPY_MODEL_9591720981dd4414b8fbea37e3969083",
       "style": "IPY_MODEL_4cac184d06c74335a23c1661f8b75b24",
       "value": "Validating:  99%"
      }
     },
     "c406bcc5f00544a6a38b91ac88851708": {
      "model_module": "@jupyter-widgets/controls",
      "model_module_version": "1.5.0",
      "model_name": "HTMLModel",
      "state": {
       "layout": "IPY_MODEL_5cdf052f1e084caeadf77a18e4266dc5",
       "style": "IPY_MODEL_da82f95aa4974c9481e0d67cff584f32",
       "value": "Testing: 100%"
      }
     },
     "c446e5fbd4c443adafe6f001b9edbe5f": {
      "model_module": "@jupyter-widgets/base",
      "model_module_version": "1.2.0",
      "model_name": "LayoutModel",
      "state": {}
     },
     "c448d5b16c854440850cf948b3dfc685": {
      "model_module": "@jupyter-widgets/base",
      "model_module_version": "1.2.0",
      "model_name": "LayoutModel",
      "state": {}
     },
     "c47f2e8579f2466fad79f9fcad83933a": {
      "model_module": "@jupyter-widgets/base",
      "model_module_version": "1.2.0",
      "model_name": "LayoutModel",
      "state": {}
     },
     "c4cf14997a904879b31b3318c4aabb8f": {
      "model_module": "@jupyter-widgets/base",
      "model_module_version": "1.2.0",
      "model_name": "LayoutModel",
      "state": {}
     },
     "c4e7896cc64443f4b1906117c408f40c": {
      "model_module": "@jupyter-widgets/controls",
      "model_module_version": "1.5.0",
      "model_name": "HBoxModel",
      "state": {
       "children": [
        "IPY_MODEL_28abd8b76e874f068a6a5e82e669a945",
        "IPY_MODEL_a9e39e9d1d774e2d9472d2ce7a27fa64",
        "IPY_MODEL_a18b408a79394d3fa3a9857fe075aac8"
       ],
       "layout": "IPY_MODEL_be7bf2671b5f41d1a47a4d56a190a328"
      }
     },
     "c53a3cd95e3f4602b92c7f827770e57d": {
      "model_module": "@jupyter-widgets/controls",
      "model_module_version": "1.5.0",
      "model_name": "DescriptionStyleModel",
      "state": {
       "description_width": ""
      }
     },
     "c5819e9e8015461383d2836cad82a919": {
      "model_module": "@jupyter-widgets/controls",
      "model_module_version": "1.5.0",
      "model_name": "HTMLModel",
      "state": {
       "layout": "IPY_MODEL_dd75b43373f94b27801e580437b6f0c8",
       "style": "IPY_MODEL_fbd69b37d7b54a2e93b8f301797f2154",
       "value": " 1724/1737 [00:08&lt;00:00, 217.04it/s]"
      }
     },
     "c588848b6efd4fac93e6d1c890064445": {
      "model_module": "@jupyter-widgets/controls",
      "model_module_version": "1.5.0",
      "model_name": "DescriptionStyleModel",
      "state": {
       "description_width": ""
      }
     },
     "c5d68e0e4c174a23b494c4e1004b9817": {
      "model_module": "@jupyter-widgets/controls",
      "model_module_version": "1.5.0",
      "model_name": "ProgressStyleModel",
      "state": {
       "description_width": ""
      }
     },
     "c5dcaea139834bfa910414beebf4dfed": {
      "model_module": "@jupyter-widgets/controls",
      "model_module_version": "1.5.0",
      "model_name": "DescriptionStyleModel",
      "state": {
       "description_width": ""
      }
     },
     "c5f6bdecfb904bc1af5fa8981eeb9053": {
      "model_module": "@jupyter-widgets/controls",
      "model_module_version": "1.5.0",
      "model_name": "DescriptionStyleModel",
      "state": {
       "description_width": ""
      }
     },
     "c62e7cb610d44b4d83dd3372a6ae2d56": {
      "model_module": "@jupyter-widgets/base",
      "model_module_version": "1.2.0",
      "model_name": "LayoutModel",
      "state": {
       "display": "inline-flex",
       "flex_flow": "row wrap",
       "width": "100%"
      }
     },
     "c6428e86a6eb4733ba6247c6ff6b526e": {
      "model_module": "@jupyter-widgets/controls",
      "model_module_version": "1.5.0",
      "model_name": "FloatProgressModel",
      "state": {
       "layout": "IPY_MODEL_c1ca0926f6e740a98179b8dad94d910c",
       "max": 1596,
       "style": "IPY_MODEL_dff92145b943425a9507092aef8ca8ba",
       "value": 1596
      }
     },
     "c643f0a627ca4857bfabf2d92503e0e3": {
      "model_module": "@jupyter-widgets/controls",
      "model_module_version": "1.5.0",
      "model_name": "ProgressStyleModel",
      "state": {
       "description_width": ""
      }
     },
     "c65c39a70fee4ff1ad278a3ed84dfff2": {
      "model_module": "@jupyter-widgets/base",
      "model_module_version": "1.2.0",
      "model_name": "LayoutModel",
      "state": {}
     },
     "c6bb23b5bc9649ad87752304c4148c1f": {
      "model_module": "@jupyter-widgets/base",
      "model_module_version": "1.2.0",
      "model_name": "LayoutModel",
      "state": {
       "display": "inline-flex",
       "flex_flow": "row wrap",
       "width": "100%"
      }
     },
     "c6bb6022695e415f948af11e8f52d37d": {
      "model_module": "@jupyter-widgets/base",
      "model_module_version": "1.2.0",
      "model_name": "LayoutModel",
      "state": {}
     },
     "c6d356b430334b54817c2226313f7190": {
      "model_module": "@jupyter-widgets/controls",
      "model_module_version": "1.5.0",
      "model_name": "DescriptionStyleModel",
      "state": {
       "description_width": ""
      }
     },
     "c72edc93c6ea4baa8abde19c374d8adf": {
      "model_module": "@jupyter-widgets/controls",
      "model_module_version": "1.5.0",
      "model_name": "DescriptionStyleModel",
      "state": {
       "description_width": ""
      }
     },
     "c740334db0424387b9268e37380a3900": {
      "model_module": "@jupyter-widgets/controls",
      "model_module_version": "1.5.0",
      "model_name": "DescriptionStyleModel",
      "state": {
       "description_width": ""
      }
     },
     "c76028d678ba40798a5b9d113e834d44": {
      "model_module": "@jupyter-widgets/base",
      "model_module_version": "1.2.0",
      "model_name": "LayoutModel",
      "state": {
       "flex": "2"
      }
     },
     "c7851aff2945440d9c627bf5588ff411": {
      "model_module": "@jupyter-widgets/base",
      "model_module_version": "1.2.0",
      "model_name": "LayoutModel",
      "state": {
       "display": "inline-flex",
       "flex_flow": "row wrap",
       "width": "100%"
      }
     },
     "c7b3983fba6541de90f6d2630d7281c1": {
      "model_module": "@jupyter-widgets/controls",
      "model_module_version": "1.5.0",
      "model_name": "FloatProgressModel",
      "state": {
       "layout": "IPY_MODEL_8026275c79f34cda942ddc61b3efcc76",
       "max": 1629,
       "style": "IPY_MODEL_e688a13395f648049d72ed08a2b41c55",
       "value": 1629
      }
     },
     "c7fa703f757d4e248eded675886b402d": {
      "model_module": "@jupyter-widgets/base",
      "model_module_version": "1.2.0",
      "model_name": "LayoutModel",
      "state": {}
     },
     "c82cffa6a5d14376a95b84fb063cc117": {
      "model_module": "@jupyter-widgets/controls",
      "model_module_version": "1.5.0",
      "model_name": "DescriptionStyleModel",
      "state": {
       "description_width": ""
      }
     },
     "c8501250c0684794a4a2504468cbb0d5": {
      "model_module": "@jupyter-widgets/controls",
      "model_module_version": "1.5.0",
      "model_name": "FloatProgressModel",
      "state": {
       "bar_style": "success",
       "layout": "IPY_MODEL_5725a884102b4b56a2a14c47d3a83eb4",
       "max": 1,
       "style": "IPY_MODEL_2f7bb3c5da4945ac9e5b7547d3246d94",
       "value": 1
      }
     },
     "c85cb235335e4cdd824c9c7bb08ce103": {
      "model_module": "@jupyter-widgets/base",
      "model_module_version": "1.2.0",
      "model_name": "LayoutModel",
      "state": {
       "flex": "2"
      }
     },
     "c86323b084f94e22a50d2435bcfcc00f": {
      "model_module": "@jupyter-widgets/base",
      "model_module_version": "1.2.0",
      "model_name": "LayoutModel",
      "state": {
       "display": "inline-flex",
       "flex_flow": "row wrap",
       "width": "100%"
      }
     },
     "c8e4184baf8f4046a6d178991be399eb": {
      "model_module": "@jupyter-widgets/base",
      "model_module_version": "1.2.0",
      "model_name": "LayoutModel",
      "state": {
       "flex": "2"
      }
     },
     "c8f9d6febf1644e18d488fe859e62f70": {
      "model_module": "@jupyter-widgets/base",
      "model_module_version": "1.2.0",
      "model_name": "LayoutModel",
      "state": {
       "flex": "2"
      }
     },
     "c9518a9f9152428f96f6e66d4890062e": {
      "model_module": "@jupyter-widgets/base",
      "model_module_version": "1.2.0",
      "model_name": "LayoutModel",
      "state": {
       "flex": "2"
      }
     },
     "c98eda461d684f8983a9765834af1bca": {
      "model_module": "@jupyter-widgets/base",
      "model_module_version": "1.2.0",
      "model_name": "LayoutModel",
      "state": {
       "flex": "2"
      }
     },
     "c9acf914dca343ab8716239a20606d4e": {
      "model_module": "@jupyter-widgets/base",
      "model_module_version": "1.2.0",
      "model_name": "LayoutModel",
      "state": {
       "flex": "2"
      }
     },
     "c9c41e98559f48aa8634c4ecf2901cc5": {
      "model_module": "@jupyter-widgets/controls",
      "model_module_version": "1.5.0",
      "model_name": "HTMLModel",
      "state": {
       "layout": "IPY_MODEL_d49989d48f2e42d882cc00159b934770",
       "style": "IPY_MODEL_4aea0e60627b4bd699bc9077836e445b",
       "value": "Validation sanity check:  50%"
      }
     },
     "c9d6f6ab1d824fd583f6fdfb60272c88": {
      "model_module": "@jupyter-widgets/controls",
      "model_module_version": "1.5.0",
      "model_name": "ProgressStyleModel",
      "state": {
       "description_width": ""
      }
     },
     "ca0be4ae428b4ef9825628ba7512bfe4": {
      "model_module": "@jupyter-widgets/controls",
      "model_module_version": "1.5.0",
      "model_name": "ProgressStyleModel",
      "state": {
       "description_width": ""
      }
     },
     "ca119559814a413ab8e9e8ed0c316154": {
      "model_module": "@jupyter-widgets/base",
      "model_module_version": "1.2.0",
      "model_name": "LayoutModel",
      "state": {}
     },
     "ca4914c9d07b44ea86eb299c87aabc00": {
      "model_module": "@jupyter-widgets/controls",
      "model_module_version": "1.5.0",
      "model_name": "FloatProgressModel",
      "state": {
       "layout": "IPY_MODEL_dc6cf32be8ef4fc58fd575e676e6898a",
       "max": 1595,
       "style": "IPY_MODEL_c25d965584d34c08990130f5a8739346",
       "value": 1595
      }
     },
     "ca4df268a01c42a180e511813075460e": {
      "model_module": "@jupyter-widgets/controls",
      "model_module_version": "1.5.0",
      "model_name": "HTMLModel",
      "state": {
       "layout": "IPY_MODEL_9c349b88e9ad44079f06c5ad0028ebed",
       "style": "IPY_MODEL_588f17a9c3c04eeb861e49a34dbfec0e",
       "value": "Testing: 100%"
      }
     },
     "ca5d297db3524b429c0708c91708db0c": {
      "model_module": "@jupyter-widgets/controls",
      "model_module_version": "1.5.0",
      "model_name": "FloatProgressModel",
      "state": {
       "layout": "IPY_MODEL_bd9c0c0599bb4f02936971d3912e9d93",
       "max": 2,
       "style": "IPY_MODEL_7b8fa21ddc7d4670bbac45a4f93129d9",
       "value": 2
      }
     },
     "caa2f57d0caa47fa898f1f312f75bea5": {
      "model_module": "@jupyter-widgets/base",
      "model_module_version": "1.2.0",
      "model_name": "LayoutModel",
      "state": {}
     },
     "cab80074fe1e44dda40503c78751d047": {
      "model_module": "@jupyter-widgets/base",
      "model_module_version": "1.2.0",
      "model_name": "LayoutModel",
      "state": {
       "flex": "2"
      }
     },
     "cac0f95483c94e3b8f9ec810bca77e9f": {
      "model_module": "@jupyter-widgets/base",
      "model_module_version": "1.2.0",
      "model_name": "LayoutModel",
      "state": {
       "display": "inline-flex",
       "flex_flow": "row wrap",
       "width": "100%"
      }
     },
     "cacfb76a9d3b41b6bb79dc2f39a268e8": {
      "model_module": "@jupyter-widgets/controls",
      "model_module_version": "1.5.0",
      "model_name": "HTMLModel",
      "state": {
       "layout": "IPY_MODEL_7c03523cdf46461a86dcd345a7db77a1",
       "style": "IPY_MODEL_cbba33285c304cd596b8edb865925bd6",
       "value": "Validating:  99%"
      }
     },
     "cb4df8bbdca342cc93f2db56fdc0cc11": {
      "model_module": "@jupyter-widgets/controls",
      "model_module_version": "1.5.0",
      "model_name": "DescriptionStyleModel",
      "state": {
       "description_width": ""
      }
     },
     "cb798bd3daff4b2183379f91ac085006": {
      "model_module": "@jupyter-widgets/controls",
      "model_module_version": "1.5.0",
      "model_name": "FloatProgressModel",
      "state": {
       "layout": "IPY_MODEL_a9665a1f664648f3bf5ff83395da708f",
       "max": 1595,
       "style": "IPY_MODEL_df8e650e615f45d29181d55ce93196a4",
       "value": 1595
      }
     },
     "cb8b4697842a41caafb601c100779eb5": {
      "model_module": "@jupyter-widgets/base",
      "model_module_version": "1.2.0",
      "model_name": "LayoutModel",
      "state": {
       "display": "inline-flex",
       "flex_flow": "row wrap",
       "width": "100%"
      }
     },
     "cba5168a5f494272a80dfbb75d1b1392": {
      "model_module": "@jupyter-widgets/base",
      "model_module_version": "1.2.0",
      "model_name": "LayoutModel",
      "state": {
       "display": "inline-flex",
       "flex_flow": "row wrap",
       "width": "100%"
      }
     },
     "cbba33285c304cd596b8edb865925bd6": {
      "model_module": "@jupyter-widgets/controls",
      "model_module_version": "1.5.0",
      "model_name": "DescriptionStyleModel",
      "state": {
       "description_width": ""
      }
     },
     "cbd9bb514d2f4169b23805f2c29426b0": {
      "model_module": "@jupyter-widgets/base",
      "model_module_version": "1.2.0",
      "model_name": "LayoutModel",
      "state": {
       "flex": "2"
      }
     },
     "cc27d4370d324897bdd0dbb11c20c1b8": {
      "model_module": "@jupyter-widgets/base",
      "model_module_version": "1.2.0",
      "model_name": "LayoutModel",
      "state": {
       "display": "inline-flex",
       "flex_flow": "row wrap",
       "width": "100%"
      }
     },
     "cc781a18721042548a6900bd68dc0ae5": {
      "model_module": "@jupyter-widgets/controls",
      "model_module_version": "1.5.0",
      "model_name": "DescriptionStyleModel",
      "state": {
       "description_width": ""
      }
     },
     "ccc01c0b9973481a870bc35ec2ad5c03": {
      "model_module": "@jupyter-widgets/controls",
      "model_module_version": "1.5.0",
      "model_name": "FloatProgressModel",
      "state": {
       "layout": "IPY_MODEL_5bcb5072475c4f7ea5299a96163515d6",
       "max": 1595,
       "style": "IPY_MODEL_0d7627c71fa740fca04845ce74d90b8f",
       "value": 1595
      }
     },
     "cd3915110bf240d0ad8d0723f1ce8cd7": {
      "model_module": "@jupyter-widgets/controls",
      "model_module_version": "1.5.0",
      "model_name": "ProgressStyleModel",
      "state": {
       "description_width": ""
      }
     },
     "cd3ff8f9d2a142148249ea6bc075cc41": {
      "model_module": "@jupyter-widgets/base",
      "model_module_version": "1.2.0",
      "model_name": "LayoutModel",
      "state": {}
     },
     "cd620ac85c8445c0b1594b6c044d3cae": {
      "model_module": "@jupyter-widgets/controls",
      "model_module_version": "1.5.0",
      "model_name": "FloatProgressModel",
      "state": {
       "layout": "IPY_MODEL_0313d058cc3b448d9f97be0a8e8cdb2c",
       "max": 1596,
       "style": "IPY_MODEL_b6eab20dfdbb454d9ab78086b104c15e",
       "value": 1596
      }
     },
     "cd66e34fa48a44ddad1065e8e06d4445": {
      "model_module": "@jupyter-widgets/controls",
      "model_module_version": "1.5.0",
      "model_name": "DescriptionStyleModel",
      "state": {
       "description_width": ""
      }
     },
     "cd7a0adda3f442888be45642e75cfdfa": {
      "model_module": "@jupyter-widgets/base",
      "model_module_version": "1.2.0",
      "model_name": "LayoutModel",
      "state": {}
     },
     "cdfeb18b5c804ef7bfc3e831563e57f4": {
      "model_module": "@jupyter-widgets/base",
      "model_module_version": "1.2.0",
      "model_name": "LayoutModel",
      "state": {
       "flex": "2"
      }
     },
     "ce2b96a7256345ccb8d9a1dd79671f03": {
      "model_module": "@jupyter-widgets/controls",
      "model_module_version": "1.5.0",
      "model_name": "HTMLModel",
      "state": {
       "layout": "IPY_MODEL_af5a993255554cf0b11e7cd2a9b111ee",
       "style": "IPY_MODEL_b9b4d50019b94be9b6c3459c61d0bba5",
       "value": "Validating: 100%"
      }
     },
     "ce96221069934bd183afba5c4caac8b0": {
      "model_module": "@jupyter-widgets/controls",
      "model_module_version": "1.5.0",
      "model_name": "HTMLModel",
      "state": {
       "layout": "IPY_MODEL_2bfbd81c0bf4482891f3568a574864df",
       "style": "IPY_MODEL_c740334db0424387b9268e37380a3900",
       "value": "Validating: 100%"
      }
     },
     "ce979ea791724e94ac241d2ce7fca597": {
      "model_module": "@jupyter-widgets/base",
      "model_module_version": "1.2.0",
      "model_name": "LayoutModel",
      "state": {
       "flex": "2"
      }
     },
     "cedefdc9bc46497e8e1c70d9cd8682c5": {
      "model_module": "@jupyter-widgets/base",
      "model_module_version": "1.2.0",
      "model_name": "LayoutModel",
      "state": {}
     },
     "cee6528f596947bbb0ac826091ddf0db": {
      "model_module": "@jupyter-widgets/controls",
      "model_module_version": "1.5.0",
      "model_name": "DescriptionStyleModel",
      "state": {
       "description_width": ""
      }
     },
     "cee93f91add34d68a88a53fdb79aa968": {
      "model_module": "@jupyter-widgets/base",
      "model_module_version": "1.2.0",
      "model_name": "LayoutModel",
      "state": {
       "display": "inline-flex",
       "flex_flow": "row wrap",
       "width": "100%"
      }
     },
     "cf17efdcda32406f95c537d8b170b706": {
      "model_module": "@jupyter-widgets/base",
      "model_module_version": "1.2.0",
      "model_name": "LayoutModel",
      "state": {
       "flex": "2"
      }
     },
     "cf1dffc24c5a42acaf52ce464490aa25": {
      "model_module": "@jupyter-widgets/controls",
      "model_module_version": "1.5.0",
      "model_name": "FloatProgressModel",
      "state": {
       "layout": "IPY_MODEL_c85cb235335e4cdd824c9c7bb08ce103",
       "max": 1596,
       "style": "IPY_MODEL_0c9825fb606b4d62bd80597155234de5",
       "value": 1596
      }
     },
     "cf25e3d7b62643a2a2629ac6f75dc279": {
      "model_module": "@jupyter-widgets/controls",
      "model_module_version": "1.5.0",
      "model_name": "HTMLModel",
      "state": {
       "layout": "IPY_MODEL_97baffcaaf344fb6be84e0bd46386ddd",
       "style": "IPY_MODEL_1a2fd6a5403a47508e385f9fa267e28d",
       "value": " 1725/1737 [00:08&lt;00:00, 205.08it/s]"
      }
     },
     "cf42255f8e5b48f58f2e71d6264c6396": {
      "model_module": "@jupyter-widgets/controls",
      "model_module_version": "1.5.0",
      "model_name": "ProgressStyleModel",
      "state": {
       "description_width": ""
      }
     },
     "cf7e5c0d4b664b23af54b79f1b9799ea": {
      "model_module": "@jupyter-widgets/controls",
      "model_module_version": "1.5.0",
      "model_name": "HTMLModel",
      "state": {
       "layout": "IPY_MODEL_bca46d08fb674d32a23bb8166f36700b",
       "style": "IPY_MODEL_6cf94aefa80c4c25b3975420f2539319",
       "value": " 1736/1737 [00:08&lt;00:00, 226.47it/s]"
      }
     },
     "cfcfe8524ff54de3b38d61ac7aa02da8": {
      "model_module": "@jupyter-widgets/base",
      "model_module_version": "1.2.0",
      "model_name": "LayoutModel",
      "state": {
       "flex": "2"
      }
     },
     "cff4562647f44cf19ff039e1379a8bc2": {
      "model_module": "@jupyter-widgets/controls",
      "model_module_version": "1.5.0",
      "model_name": "HTMLModel",
      "state": {
       "layout": "IPY_MODEL_6f2f0c4fae6542abbfb00add188c78cf",
       "style": "IPY_MODEL_62451016c3a9413690d15e6a1e80f389",
       "value": "Validating: 100%"
      }
     },
     "d010fa8c8bdf45c883eaa1d9eab39592": {
      "model_module": "@jupyter-widgets/controls",
      "model_module_version": "1.5.0",
      "model_name": "FloatProgressModel",
      "state": {
       "layout": "IPY_MODEL_7fbad61f731544f3a01c4bb7513110cc",
       "max": 1595,
       "style": "IPY_MODEL_dd2bab92ac7d440eafeb2d2e37d1708a",
       "value": 1595
      }
     },
     "d01a60ed26bc464e9b9b7f532bd476d0": {
      "model_module": "@jupyter-widgets/base",
      "model_module_version": "1.2.0",
      "model_name": "LayoutModel",
      "state": {
       "flex": "2"
      }
     },
     "d042b53b1dee480ebc4d9783f033dfc6": {
      "model_module": "@jupyter-widgets/base",
      "model_module_version": "1.2.0",
      "model_name": "LayoutModel",
      "state": {}
     },
     "d083f61a90b644bf852125c0e587c15f": {
      "model_module": "@jupyter-widgets/base",
      "model_module_version": "1.2.0",
      "model_name": "LayoutModel",
      "state": {
       "display": "inline-flex",
       "flex_flow": "row wrap",
       "width": "100%"
      }
     },
     "d0b202423c224e14877e51115579bd6e": {
      "model_module": "@jupyter-widgets/base",
      "model_module_version": "1.2.0",
      "model_name": "LayoutModel",
      "state": {
       "flex": "2"
      }
     },
     "d0b46fa54e2744e0b0fb144d198ed792": {
      "model_module": "@jupyter-widgets/base",
      "model_module_version": "1.2.0",
      "model_name": "LayoutModel",
      "state": {}
     },
     "d0f38be47076476188c8bbfd93490c45": {
      "model_module": "@jupyter-widgets/controls",
      "model_module_version": "1.5.0",
      "model_name": "ProgressStyleModel",
      "state": {
       "description_width": ""
      }
     },
     "d150ef7230af472e997c4a185ac36dda": {
      "model_module": "@jupyter-widgets/base",
      "model_module_version": "1.2.0",
      "model_name": "LayoutModel",
      "state": {}
     },
     "d159b79d0485430a8329563f8fb7c963": {
      "model_module": "@jupyter-widgets/controls",
      "model_module_version": "1.5.0",
      "model_name": "HTMLModel",
      "state": {
       "layout": "IPY_MODEL_660a8c2d40fe47748ef77c4a6b97cf9c",
       "style": "IPY_MODEL_b01427b6516440de89df3f97a4d1761e",
       "value": " 1592/1596 [00:16&lt;00:00, 97.76it/s]"
      }
     },
     "d15dd49023c148c9a621b14f0889c4ed": {
      "model_module": "@jupyter-widgets/controls",
      "model_module_version": "1.5.0",
      "model_name": "HTMLModel",
      "state": {
       "layout": "IPY_MODEL_2028b7f630054653b38e674211e01030",
       "style": "IPY_MODEL_c3ae9375208b47788a9266152e0c86e2",
       "value": "Validating: 100%"
      }
     },
     "d1b6ae5c70e34b52a4c68686638ec243": {
      "model_module": "@jupyter-widgets/base",
      "model_module_version": "1.2.0",
      "model_name": "LayoutModel",
      "state": {
       "flex": "2"
      }
     },
     "d1cd2ceac5a04979802a219df03ee7af": {
      "model_module": "@jupyter-widgets/controls",
      "model_module_version": "1.5.0",
      "model_name": "DescriptionStyleModel",
      "state": {
       "description_width": ""
      }
     },
     "d1feee526a99405fb00b3fe677f6d443": {
      "model_module": "@jupyter-widgets/controls",
      "model_module_version": "1.5.0",
      "model_name": "HTMLModel",
      "state": {
       "layout": "IPY_MODEL_edb803e6025444c595ca87dc28043965",
       "style": "IPY_MODEL_01cc205cb3a0440ebef36d732ad6b888",
       "value": " 1574/1596 [00:07&lt;00:00, 224.17it/s]"
      }
     },
     "d216c2f280e7454792ffea5631b1f852": {
      "model_module": "@jupyter-widgets/base",
      "model_module_version": "1.2.0",
      "model_name": "LayoutModel",
      "state": {
       "flex": "2"
      }
     },
     "d22f03aeb2da404bb2e29815ac30a51c": {
      "model_module": "@jupyter-widgets/base",
      "model_module_version": "1.2.0",
      "model_name": "LayoutModel",
      "state": {}
     },
     "d235c1589bfa489b84b76e182df98e51": {
      "model_module": "@jupyter-widgets/controls",
      "model_module_version": "1.5.0",
      "model_name": "FloatProgressModel",
      "state": {
       "layout": "IPY_MODEL_57a9be1d704249a585c751f14440c146",
       "max": 1629,
       "style": "IPY_MODEL_3c1ae3f4e4dc4baea58182381e734768",
       "value": 1629
      }
     },
     "d246e904e8ec476eba0413a2ad5321dd": {
      "model_module": "@jupyter-widgets/base",
      "model_module_version": "1.2.0",
      "model_name": "LayoutModel",
      "state": {}
     },
     "d26d71a8a63d42d3a5c384a032737cb4": {
      "model_module": "@jupyter-widgets/controls",
      "model_module_version": "1.5.0",
      "model_name": "HTMLModel",
      "state": {
       "layout": "IPY_MODEL_6331546f12b448da86b46c90d9ec0d94",
       "style": "IPY_MODEL_69d38f2924e0460a8958d198d247bf50",
       "value": "Validating: 100%"
      }
     },
     "d274de61a5ec49369e044469f4cc6c53": {
      "model_module": "@jupyter-widgets/controls",
      "model_module_version": "1.5.0",
      "model_name": "DescriptionStyleModel",
      "state": {
       "description_width": ""
      }
     },
     "d2a034d5aebf4684bb0ccc997f567b3c": {
      "model_module": "@jupyter-widgets/controls",
      "model_module_version": "1.5.0",
      "model_name": "DescriptionStyleModel",
      "state": {
       "description_width": ""
      }
     },
     "d2b0ffefe51a4720b398fe532fd2fe13": {
      "model_module": "@jupyter-widgets/base",
      "model_module_version": "1.2.0",
      "model_name": "LayoutModel",
      "state": {
       "display": "inline-flex",
       "flex_flow": "row wrap",
       "width": "100%"
      }
     },
     "d2dc3b7e66a24175be4ad7d7a53e8c1f": {
      "model_module": "@jupyter-widgets/base",
      "model_module_version": "1.2.0",
      "model_name": "LayoutModel",
      "state": {}
     },
     "d326cee930294995a7f455da266d2123": {
      "model_module": "@jupyter-widgets/controls",
      "model_module_version": "1.5.0",
      "model_name": "HTMLModel",
      "state": {
       "layout": "IPY_MODEL_b86df72ee71b4616b226d13febaaa429",
       "style": "IPY_MODEL_15c29cc1ca994460b046657dc21b571d",
       "value": "Validating:  99%"
      }
     },
     "d33d0c3c74524c38ae6820e3594b750a": {
      "model_module": "@jupyter-widgets/controls",
      "model_module_version": "1.5.0",
      "model_name": "ProgressStyleModel",
      "state": {
       "description_width": ""
      }
     },
     "d3501de513b749e387611ade481de284": {
      "model_module": "@jupyter-widgets/controls",
      "model_module_version": "1.5.0",
      "model_name": "HTMLModel",
      "state": {
       "layout": "IPY_MODEL_fb716b49ea7343c7989b6bceb32c23b9",
       "style": "IPY_MODEL_d4b75106ef6a44e7b8570a4416867cc0",
       "value": "Validating: 100%"
      }
     },
     "d3696212201241faa9e6f12281780b6d": {
      "model_module": "@jupyter-widgets/controls",
      "model_module_version": "1.5.0",
      "model_name": "DescriptionStyleModel",
      "state": {
       "description_width": ""
      }
     },
     "d36a9e57c0e74785995776df58cf5b87": {
      "model_module": "@jupyter-widgets/base",
      "model_module_version": "1.2.0",
      "model_name": "LayoutModel",
      "state": {}
     },
     "d37d17eb851d4cb6aba5da74bb65704f": {
      "model_module": "@jupyter-widgets/base",
      "model_module_version": "1.2.0",
      "model_name": "LayoutModel",
      "state": {
       "flex": "2"
      }
     },
     "d3826abec22b430988d4df6051710a39": {
      "model_module": "@jupyter-widgets/controls",
      "model_module_version": "1.5.0",
      "model_name": "HTMLModel",
      "state": {
       "layout": "IPY_MODEL_a578da1820fc4b8b998e4861246bc967",
       "style": "IPY_MODEL_479bfe8185d44ac791e01d574546107b",
       "value": " 1594/1595 [00:15&lt;00:00, 108.53it/s]"
      }
     },
     "d39e8e0867e3495182715e5866326743": {
      "model_module": "@jupyter-widgets/controls",
      "model_module_version": "1.5.0",
      "model_name": "HTMLModel",
      "state": {
       "layout": "IPY_MODEL_458fb3b4b0c54e71a220a155f3ec7461",
       "style": "IPY_MODEL_54954554ea854f44bec2dd2ec7a7f69e",
       "value": " 1623/1629 [00:07&lt;00:00, 213.16it/s]"
      }
     },
     "d44fcace6f3948a3930b521626790206": {
      "model_module": "@jupyter-widgets/base",
      "model_module_version": "1.2.0",
      "model_name": "LayoutModel",
      "state": {
       "display": "inline-flex",
       "flex_flow": "row wrap",
       "width": "100%"
      }
     },
     "d45d90669ce846ba94d879b7ce5f66a2": {
      "model_module": "@jupyter-widgets/base",
      "model_module_version": "1.2.0",
      "model_name": "LayoutModel",
      "state": {}
     },
     "d468afb6e5b647dc9312f46f53e0597e": {
      "model_module": "@jupyter-widgets/controls",
      "model_module_version": "1.5.0",
      "model_name": "ProgressStyleModel",
      "state": {
       "description_width": ""
      }
     },
     "d47a4512540043a6a519b91c898845be": {
      "model_module": "@jupyter-widgets/controls",
      "model_module_version": "1.5.0",
      "model_name": "HTMLModel",
      "state": {
       "layout": "IPY_MODEL_9dae503452a1495eb1e266aaafb517ab",
       "style": "IPY_MODEL_22bdaa1813d94aa4a3f84add18d4e612",
       "value": "Validating:  99%"
      }
     },
     "d48b4172ce5c463c97038d2d1802edd0": {
      "model_module": "@jupyter-widgets/base",
      "model_module_version": "1.2.0",
      "model_name": "LayoutModel",
      "state": {
       "display": "inline-flex",
       "flex_flow": "row wrap",
       "width": "100%"
      }
     },
     "d49989d48f2e42d882cc00159b934770": {
      "model_module": "@jupyter-widgets/base",
      "model_module_version": "1.2.0",
      "model_name": "LayoutModel",
      "state": {}
     },
     "d4b75106ef6a44e7b8570a4416867cc0": {
      "model_module": "@jupyter-widgets/controls",
      "model_module_version": "1.5.0",
      "model_name": "DescriptionStyleModel",
      "state": {
       "description_width": ""
      }
     },
     "d51b58b877944c89aa0efd0887e15b6d": {
      "model_module": "@jupyter-widgets/base",
      "model_module_version": "1.2.0",
      "model_name": "LayoutModel",
      "state": {
       "display": "inline-flex",
       "flex_flow": "row wrap",
       "width": "100%"
      }
     },
     "d51d7cd0d58243528896121f190b4db4": {
      "model_module": "@jupyter-widgets/controls",
      "model_module_version": "1.5.0",
      "model_name": "FloatProgressModel",
      "state": {
       "layout": "IPY_MODEL_e124abd4ff344d3997f60c2916d218e7",
       "max": 1629,
       "style": "IPY_MODEL_4285ec5482234380bc267ef54c06f836",
       "value": 1629
      }
     },
     "d562b53dcd4243cc93ea785b9e1839d5": {
      "model_module": "@jupyter-widgets/base",
      "model_module_version": "1.2.0",
      "model_name": "LayoutModel",
      "state": {
       "display": "inline-flex",
       "flex_flow": "row wrap",
       "width": "100%"
      }
     },
     "d56a7977bf6c4456ad870e7cc15bcbd8": {
      "model_module": "@jupyter-widgets/base",
      "model_module_version": "1.2.0",
      "model_name": "LayoutModel",
      "state": {
       "display": "inline-flex",
       "flex_flow": "row wrap",
       "width": "100%"
      }
     },
     "d59dbe03f71b4c4188a9ebbb27cd4b9e": {
      "model_module": "@jupyter-widgets/controls",
      "model_module_version": "1.5.0",
      "model_name": "FloatProgressModel",
      "state": {
       "bar_style": "success",
       "layout": "IPY_MODEL_93e913aaf45b41bab64ea976ff1dcb6a",
       "max": 1,
       "style": "IPY_MODEL_58628994801944ea901d6155c7b17ee2",
       "value": 1
      }
     },
     "d62a5526493a4d31bbc0e3a94861e998": {
      "model_module": "@jupyter-widgets/controls",
      "model_module_version": "1.5.0",
      "model_name": "HTMLModel",
      "state": {
       "layout": "IPY_MODEL_d7d9f569c97b47e7a2950d0cf7a85461",
       "style": "IPY_MODEL_005230031c6140849638511d8c56ad62",
       "value": " 13691/13691 [01:29&lt;00:00, 153.61it/s, loss=0.547, v_num=size]"
      }
     },
     "d63d1dd5e034410ea580c8ccddab3625": {
      "model_module": "@jupyter-widgets/controls",
      "model_module_version": "1.5.0",
      "model_name": "HTMLModel",
      "state": {
       "layout": "IPY_MODEL_e96ff26d0f754dc7b6f72aefb89edf83",
       "style": "IPY_MODEL_2e9a93dc4dc04436b2c94235323378cc",
       "value": "Validation sanity check:  50%"
      }
     },
     "d675fbbf9db144548f828a50dd2fb0b9": {
      "model_module": "@jupyter-widgets/controls",
      "model_module_version": "1.5.0",
      "model_name": "FloatProgressModel",
      "state": {
       "bar_style": "success",
       "layout": "IPY_MODEL_cfcfe8524ff54de3b38d61ac7aa02da8",
       "max": 13592,
       "style": "IPY_MODEL_d0f38be47076476188c8bbfd93490c45",
       "value": 13592
      }
     },
     "d6915ae792304e59b7483305b6fc2eeb": {
      "model_module": "@jupyter-widgets/controls",
      "model_module_version": "1.5.0",
      "model_name": "DescriptionStyleModel",
      "state": {
       "description_width": ""
      }
     },
     "d72175f215994cd6a9fc1b7b1d731c87": {
      "model_module": "@jupyter-widgets/controls",
      "model_module_version": "1.5.0",
      "model_name": "HTMLModel",
      "state": {
       "layout": "IPY_MODEL_eee94e084d26403c8b73f827884c8303",
       "style": "IPY_MODEL_07b1cad39c3442be9bd2171afef64330",
       "value": " 1737/1737 [00:08&lt;00:00, 174.73it/s]"
      }
     },
     "d792f40dbb5646579f3d1b1eb084695f": {
      "model_module": "@jupyter-widgets/controls",
      "model_module_version": "1.5.0",
      "model_name": "HTMLModel",
      "state": {
       "layout": "IPY_MODEL_add1c8388588483981deaef1dc781b14",
       "style": "IPY_MODEL_b842e9bdd9544b5b94afa35c78fa67db",
       "value": " 1593/1595 [00:07&lt;00:00, 226.63it/s]"
      }
     },
     "d7c141a7659040d79eadde6a25805de3": {
      "model_module": "@jupyter-widgets/controls",
      "model_module_version": "1.5.0",
      "model_name": "DescriptionStyleModel",
      "state": {
       "description_width": ""
      }
     },
     "d7d1f82fc93c4db2b79f47f0f3629d14": {
      "model_module": "@jupyter-widgets/base",
      "model_module_version": "1.2.0",
      "model_name": "LayoutModel",
      "state": {}
     },
     "d7d9f569c97b47e7a2950d0cf7a85461": {
      "model_module": "@jupyter-widgets/base",
      "model_module_version": "1.2.0",
      "model_name": "LayoutModel",
      "state": {}
     },
     "d8012631049443a38f76eefa620c17a6": {
      "model_module": "@jupyter-widgets/controls",
      "model_module_version": "1.5.0",
      "model_name": "HBoxModel",
      "state": {
       "children": [
        "IPY_MODEL_e43a416e992d441486b22553c1e5c5de",
        "IPY_MODEL_d675fbbf9db144548f828a50dd2fb0b9",
        "IPY_MODEL_c38b8c29dd8d4a2980b657a8a4bab539"
       ],
       "layout": "IPY_MODEL_20256aae444c42aa9c9fe9289fc452b9"
      }
     },
     "d858bdc05e1b4e11bc7aa4b30865391d": {
      "model_module": "@jupyter-widgets/controls",
      "model_module_version": "1.5.0",
      "model_name": "HTMLModel",
      "state": {
       "layout": "IPY_MODEL_54c2890471a24324989c8e10813771ce",
       "style": "IPY_MODEL_71c9257f7820495f843a2df04ecd4a62",
       "value": "Testing: 100%"
      }
     },
     "d88151689fe44d48ae710a3302a4a834": {
      "model_module": "@jupyter-widgets/controls",
      "model_module_version": "1.5.0",
      "model_name": "ProgressStyleModel",
      "state": {
       "description_width": ""
      }
     },
     "d88521ae03324ef5a48004ff7afe6c44": {
      "model_module": "@jupyter-widgets/controls",
      "model_module_version": "1.5.0",
      "model_name": "ProgressStyleModel",
      "state": {
       "description_width": ""
      }
     },
     "d8d8a9b30e0e4f87a14b806ea0ff9776": {
      "model_module": "@jupyter-widgets/controls",
      "model_module_version": "1.5.0",
      "model_name": "ProgressStyleModel",
      "state": {
       "description_width": ""
      }
     },
     "d91a7d861255413c9701fd015eee674f": {
      "model_module": "@jupyter-widgets/controls",
      "model_module_version": "1.5.0",
      "model_name": "HTMLModel",
      "state": {
       "layout": "IPY_MODEL_6f05dd3051b84f29be13222558b8578f",
       "style": "IPY_MODEL_66046575dbef4b26bbd9d83018dc5b38",
       "value": " 1588/1595 [00:07&lt;00:00, 216.68it/s]"
      }
     },
     "d97498281c1b49c480d9b08957e6ae6d": {
      "model_module": "@jupyter-widgets/controls",
      "model_module_version": "1.5.0",
      "model_name": "HTMLModel",
      "state": {
       "layout": "IPY_MODEL_d150ef7230af472e997c4a185ac36dda",
       "style": "IPY_MODEL_c72edc93c6ea4baa8abde19c374d8adf",
       "value": " 1693/1693 [00:08&lt;00:00, 220.63it/s]"
      }
     },
     "d978220916ee4314b06ed4fd7dc17818": {
      "model_module": "@jupyter-widgets/base",
      "model_module_version": "1.2.0",
      "model_name": "LayoutModel",
      "state": {
       "flex": "2"
      }
     },
     "d99c49d028cf4234a272de5acb369100": {
      "model_module": "@jupyter-widgets/base",
      "model_module_version": "1.2.0",
      "model_name": "LayoutModel",
      "state": {
       "flex": "2"
      }
     },
     "d9d697b5985c4093829d6e311f85f880": {
      "model_module": "@jupyter-widgets/base",
      "model_module_version": "1.2.0",
      "model_name": "LayoutModel",
      "state": {
       "flex": "2"
      }
     },
     "d9e05dd26b054a1b8980a77033411fb1": {
      "model_module": "@jupyter-widgets/controls",
      "model_module_version": "1.5.0",
      "model_name": "ProgressStyleModel",
      "state": {
       "description_width": ""
      }
     },
     "d9e9339dedd44e2892d0284fb1b61d18": {
      "model_module": "@jupyter-widgets/base",
      "model_module_version": "1.2.0",
      "model_name": "LayoutModel",
      "state": {
       "flex": "2"
      }
     },
     "da3d557ee3294bb19e6ce7c889d77455": {
      "model_module": "@jupyter-widgets/base",
      "model_module_version": "1.2.0",
      "model_name": "LayoutModel",
      "state": {
       "flex": "2"
      }
     },
     "da528eeabad84a9f946c553edaee04e2": {
      "model_module": "@jupyter-widgets/base",
      "model_module_version": "1.2.0",
      "model_name": "LayoutModel",
      "state": {}
     },
     "da7d3b4b9094405691569ff3103ecd4a": {
      "model_module": "@jupyter-widgets/controls",
      "model_module_version": "1.5.0",
      "model_name": "FloatProgressModel",
      "state": {
       "bar_style": "success",
       "layout": "IPY_MODEL_638bd4511d4f441bbb640af002997b15",
       "max": 1,
       "style": "IPY_MODEL_b378a1cd02924be28de0b31e39bae804",
       "value": 1
      }
     },
     "da82f95aa4974c9481e0d67cff584f32": {
      "model_module": "@jupyter-widgets/controls",
      "model_module_version": "1.5.0",
      "model_name": "DescriptionStyleModel",
      "state": {
       "description_width": ""
      }
     },
     "da98010a3fc34fbcaf224353b31460e0": {
      "model_module": "@jupyter-widgets/controls",
      "model_module_version": "1.5.0",
      "model_name": "ProgressStyleModel",
      "state": {
       "description_width": ""
      }
     },
     "da9c76d7702446aea329d62138f5af26": {
      "model_module": "@jupyter-widgets/base",
      "model_module_version": "1.2.0",
      "model_name": "LayoutModel",
      "state": {}
     },
     "dacab0796fe54b37b05cd2962ef7ded1": {
      "model_module": "@jupyter-widgets/controls",
      "model_module_version": "1.5.0",
      "model_name": "DescriptionStyleModel",
      "state": {
       "description_width": ""
      }
     },
     "dacd46f1279844caae6876bd226d647d": {
      "model_module": "@jupyter-widgets/base",
      "model_module_version": "1.2.0",
      "model_name": "LayoutModel",
      "state": {}
     },
     "db014ce7fdcb4a71b8233eb66c9fcc31": {
      "model_module": "@jupyter-widgets/controls",
      "model_module_version": "1.5.0",
      "model_name": "HTMLModel",
      "state": {
       "layout": "IPY_MODEL_64a7770c5e4f4e3893d82e71a8bdbd12",
       "style": "IPY_MODEL_0313d71eb9524d6ca4947bbbb84656ec",
       "value": "Testing: 100%"
      }
     },
     "db1ee1628d434c21a76ad2fb42220045": {
      "model_module": "@jupyter-widgets/base",
      "model_module_version": "1.2.0",
      "model_name": "LayoutModel",
      "state": {
       "display": "inline-flex",
       "flex_flow": "row wrap",
       "width": "100%"
      }
     },
     "db277c234dd64042ba60983335ac491b": {
      "model_module": "@jupyter-widgets/controls",
      "model_module_version": "1.5.0",
      "model_name": "HTMLModel",
      "state": {
       "layout": "IPY_MODEL_ea412fae6a9645c894c9d3e15c44515f",
       "style": "IPY_MODEL_029ea4c47a0742b5ad3432446d0050c6",
       "value": " 1595/1595 [00:15&lt;00:00, 68.77it/s]"
      }
     },
     "db7020a7f2844915969d4a1b146ad90b": {
      "model_module": "@jupyter-widgets/base",
      "model_module_version": "1.2.0",
      "model_name": "LayoutModel",
      "state": {
       "display": "inline-flex",
       "flex_flow": "row wrap",
       "width": "100%"
      }
     },
     "db749701c8e340139c40e15952af93f5": {
      "model_module": "@jupyter-widgets/controls",
      "model_module_version": "1.5.0",
      "model_name": "ProgressStyleModel",
      "state": {
       "description_width": ""
      }
     },
     "db77c55fe23e4295941a70a1719ef64c": {
      "model_module": "@jupyter-widgets/controls",
      "model_module_version": "1.5.0",
      "model_name": "ProgressStyleModel",
      "state": {
       "description_width": ""
      }
     },
     "dbbb2908805e4663addde2f6557603e3": {
      "model_module": "@jupyter-widgets/controls",
      "model_module_version": "1.5.0",
      "model_name": "HTMLModel",
      "state": {
       "layout": "IPY_MODEL_0751657225994ca2a3b5962bee0a87b0",
       "style": "IPY_MODEL_69878900d22d470aa60d38caf9198294",
       "value": "Validating: 100%"
      }
     },
     "dbd766abd9ff4fccba659c2e74994ada": {
      "model_module": "@jupyter-widgets/base",
      "model_module_version": "1.2.0",
      "model_name": "LayoutModel",
      "state": {}
     },
     "dbe0863ae8364a859f1f571877f01bc2": {
      "model_module": "@jupyter-widgets/base",
      "model_module_version": "1.2.0",
      "model_name": "LayoutModel",
      "state": {}
     },
     "dbe352e452de4a0faceb84dfd281afbf": {
      "model_module": "@jupyter-widgets/controls",
      "model_module_version": "1.5.0",
      "model_name": "HTMLModel",
      "state": {
       "layout": "IPY_MODEL_57fcfd2b864047b080f703acf61dcf64",
       "style": "IPY_MODEL_7ebe393fc5e24be2bb3ebe9784d882c2",
       "value": "Validating: 100%"
      }
     },
     "dc40c2cb91114db28e63e65f46b5c926": {
      "model_module": "@jupyter-widgets/base",
      "model_module_version": "1.2.0",
      "model_name": "LayoutModel",
      "state": {}
     },
     "dc6cf32be8ef4fc58fd575e676e6898a": {
      "model_module": "@jupyter-widgets/base",
      "model_module_version": "1.2.0",
      "model_name": "LayoutModel",
      "state": {
       "flex": "2"
      }
     },
     "dc91afb5c70a44a8b8d535e26183076c": {
      "model_module": "@jupyter-widgets/controls",
      "model_module_version": "1.5.0",
      "model_name": "DescriptionStyleModel",
      "state": {
       "description_width": ""
      }
     },
     "dd2bab92ac7d440eafeb2d2e37d1708a": {
      "model_module": "@jupyter-widgets/controls",
      "model_module_version": "1.5.0",
      "model_name": "ProgressStyleModel",
      "state": {
       "description_width": ""
      }
     },
     "dd57e96feb69471d8f98773dc4a791ee": {
      "model_module": "@jupyter-widgets/controls",
      "model_module_version": "1.5.0",
      "model_name": "ProgressStyleModel",
      "state": {
       "description_width": ""
      }
     },
     "dd706d759cbb42cd8c893dee5df7f17b": {
      "model_module": "@jupyter-widgets/controls",
      "model_module_version": "1.5.0",
      "model_name": "DescriptionStyleModel",
      "state": {
       "description_width": ""
      }
     },
     "dd75b43373f94b27801e580437b6f0c8": {
      "model_module": "@jupyter-widgets/base",
      "model_module_version": "1.2.0",
      "model_name": "LayoutModel",
      "state": {}
     },
     "dd8bfc8333f8447c89500f564f354a56": {
      "model_module": "@jupyter-widgets/base",
      "model_module_version": "1.2.0",
      "model_name": "LayoutModel",
      "state": {
       "display": "inline-flex",
       "flex_flow": "row wrap",
       "width": "100%"
      }
     },
     "dde762b5f876450595f35f7be631c31e": {
      "model_module": "@jupyter-widgets/controls",
      "model_module_version": "1.5.0",
      "model_name": "DescriptionStyleModel",
      "state": {
       "description_width": ""
      }
     },
     "de1fbbaf7b7943ce97d9427ded2fb810": {
      "model_module": "@jupyter-widgets/base",
      "model_module_version": "1.2.0",
      "model_name": "LayoutModel",
      "state": {
       "flex": "2"
      }
     },
     "de2dbc1b70c54f119cc0333a37933a0b": {
      "model_module": "@jupyter-widgets/controls",
      "model_module_version": "1.5.0",
      "model_name": "HTMLModel",
      "state": {
       "layout": "IPY_MODEL_d22f03aeb2da404bb2e29815ac30a51c",
       "style": "IPY_MODEL_0080885f1db6455e9a719a1d3c9a5de1",
       "value": " 13697/13697 [01:29&lt;00:00, 153.72it/s, loss=0.514, v_num=size]"
      }
     },
     "de834f67c1414802bab133d4213a7a82": {
      "model_module": "@jupyter-widgets/controls",
      "model_module_version": "1.5.0",
      "model_name": "FloatProgressModel",
      "state": {
       "layout": "IPY_MODEL_9d97e199c8bb42d2890bd58dd64e40f2",
       "max": 1596,
       "style": "IPY_MODEL_c9d6f6ab1d824fd583f6fdfb60272c88",
       "value": 1596
      }
     },
     "def61bf11b7d4ca089404f80572b3695": {
      "model_module": "@jupyter-widgets/controls",
      "model_module_version": "1.5.0",
      "model_name": "ProgressStyleModel",
      "state": {
       "description_width": ""
      }
     },
     "df468ad9f54942998975e119eed37976": {
      "model_module": "@jupyter-widgets/base",
      "model_module_version": "1.2.0",
      "model_name": "LayoutModel",
      "state": {
       "display": "inline-flex",
       "flex_flow": "row wrap",
       "width": "100%"
      }
     },
     "df76f61839b84851a3a083c170118799": {
      "model_module": "@jupyter-widgets/controls",
      "model_module_version": "1.5.0",
      "model_name": "HTMLModel",
      "state": {
       "layout": "IPY_MODEL_ef18a14b710643b69f3d35584ce36968",
       "style": "IPY_MODEL_81fadc8c8c66419e97ae9009cef7797e",
       "value": " 1624/1637 [00:07&lt;00:00, 222.21it/s]"
      }
     },
     "df8e650e615f45d29181d55ce93196a4": {
      "model_module": "@jupyter-widgets/controls",
      "model_module_version": "1.5.0",
      "model_name": "ProgressStyleModel",
      "state": {
       "description_width": ""
      }
     },
     "dfb827879da74291a2c123d17d0e2381": {
      "model_module": "@jupyter-widgets/controls",
      "model_module_version": "1.5.0",
      "model_name": "HTMLModel",
      "state": {
       "layout": "IPY_MODEL_2c56f4fff2e64149a4809022299afd13",
       "style": "IPY_MODEL_89bc662f0aa94150860cff3d7d519787",
       "value": "Validating:  99%"
      }
     },
     "dfd2679940594ce49099b72b7938f482": {
      "model_module": "@jupyter-widgets/controls",
      "model_module_version": "1.5.0",
      "model_name": "DescriptionStyleModel",
      "state": {
       "description_width": ""
      }
     },
     "dff92145b943425a9507092aef8ca8ba": {
      "model_module": "@jupyter-widgets/controls",
      "model_module_version": "1.5.0",
      "model_name": "ProgressStyleModel",
      "state": {
       "description_width": ""
      }
     },
     "e08111db3bec4d249c472128fdbb7e85": {
      "model_module": "@jupyter-widgets/controls",
      "model_module_version": "1.5.0",
      "model_name": "HTMLModel",
      "state": {
       "layout": "IPY_MODEL_86cfe75cb9804c4390dea8c2ec3c2898",
       "style": "IPY_MODEL_0e2e39e079a84f8aa3cd512a59c7199a",
       "value": "Validating:  99%"
      }
     },
     "e089bec3c72d48fdb3e12f55634127c6": {
      "model_module": "@jupyter-widgets/base",
      "model_module_version": "1.2.0",
      "model_name": "LayoutModel",
      "state": {
       "display": "inline-flex",
       "flex_flow": "row wrap",
       "width": "100%"
      }
     },
     "e0951ddf0bb84ca990b8f70d60a867d1": {
      "model_module": "@jupyter-widgets/base",
      "model_module_version": "1.2.0",
      "model_name": "LayoutModel",
      "state": {}
     },
     "e0d227bff50e449687f6ecc764214bd6": {
      "model_module": "@jupyter-widgets/controls",
      "model_module_version": "1.5.0",
      "model_name": "FloatProgressModel",
      "state": {
       "layout": "IPY_MODEL_5f69c5b0ab8b4c649c560cee1b257e9a",
       "max": 1637,
       "style": "IPY_MODEL_97bc8f18bf854bce886a4c7c189d4934",
       "value": 1637
      }
     },
     "e0d6ba4206bf4ada8683e29ceef942f1": {
      "model_module": "@jupyter-widgets/controls",
      "model_module_version": "1.5.0",
      "model_name": "FloatProgressModel",
      "state": {
       "layout": "IPY_MODEL_8a37608eedba468a9cddc3f2cdebd59a",
       "max": 1629,
       "style": "IPY_MODEL_f88007e7730f49549e99a136b03cd959",
       "value": 1629
      }
     },
     "e0d7ef6757404410bc75e344a56e9700": {
      "model_module": "@jupyter-widgets/base",
      "model_module_version": "1.2.0",
      "model_name": "LayoutModel",
      "state": {
       "flex": "2"
      }
     },
     "e0f2a6c5a6bd49e2a47a618ac60eed8e": {
      "model_module": "@jupyter-widgets/base",
      "model_module_version": "1.2.0",
      "model_name": "LayoutModel",
      "state": {
       "display": "inline-flex",
       "flex_flow": "row wrap",
       "width": "100%"
      }
     },
     "e0fcd1e7b2ef4724b08e1c95be0107f7": {
      "model_module": "@jupyter-widgets/base",
      "model_module_version": "1.2.0",
      "model_name": "LayoutModel",
      "state": {
       "flex": "2"
      }
     },
     "e0fefebc06974047a18456b3b6077803": {
      "model_module": "@jupyter-widgets/base",
      "model_module_version": "1.2.0",
      "model_name": "LayoutModel",
      "state": {
       "display": "inline-flex",
       "flex_flow": "row wrap",
       "width": "100%"
      }
     },
     "e124abd4ff344d3997f60c2916d218e7": {
      "model_module": "@jupyter-widgets/base",
      "model_module_version": "1.2.0",
      "model_name": "LayoutModel",
      "state": {
       "flex": "2"
      }
     },
     "e12828820af0473e9fcc9fc2f4a16837": {
      "model_module": "@jupyter-widgets/controls",
      "model_module_version": "1.5.0",
      "model_name": "FloatProgressModel",
      "state": {
       "layout": "IPY_MODEL_c98eda461d684f8983a9765834af1bca",
       "max": 1629,
       "style": "IPY_MODEL_fd0f0ffd53e94cf8b6024d3b1d042507",
       "value": 1629
      }
     },
     "e1650fdaab5c43f1b3e114f3514d49e7": {
      "model_module": "@jupyter-widgets/controls",
      "model_module_version": "1.5.0",
      "model_name": "HTMLModel",
      "state": {
       "layout": "IPY_MODEL_64e7bf8a26d840ccb00a5c77438b30b9",
       "style": "IPY_MODEL_e7290977a2884f32bfab60471065eca0",
       "value": " 1574/1595 [00:07&lt;00:00, 217.04it/s]"
      }
     },
     "e16ecb3a80b24db498736ccf8e5ea390": {
      "model_module": "@jupyter-widgets/base",
      "model_module_version": "1.2.0",
      "model_name": "LayoutModel",
      "state": {}
     },
     "e18a0f24d2724e3e97f8556d5c05e960": {
      "model_module": "@jupyter-widgets/controls",
      "model_module_version": "1.5.0",
      "model_name": "FloatProgressModel",
      "state": {
       "layout": "IPY_MODEL_a7584467324d4fa4a5fbf8cda2539adf",
       "max": 1596,
       "style": "IPY_MODEL_6b1e43440a6a46c0bd4ce46529b1431e",
       "value": 1596
      }
     },
     "e1d33b16e35940d0a1aa8d0148893ebf": {
      "model_module": "@jupyter-widgets/base",
      "model_module_version": "1.2.0",
      "model_name": "LayoutModel",
      "state": {
       "display": "inline-flex",
       "flex_flow": "row wrap",
       "width": "100%"
      }
     },
     "e1df8fd1feda4314bbe4399ba421ad24": {
      "model_module": "@jupyter-widgets/base",
      "model_module_version": "1.2.0",
      "model_name": "LayoutModel",
      "state": {}
     },
     "e21b64dc452b45c5b7eda7234afd16ca": {
      "model_module": "@jupyter-widgets/controls",
      "model_module_version": "1.5.0",
      "model_name": "FloatProgressModel",
      "state": {
       "layout": "IPY_MODEL_012770a2b35540ea93c4b7493ff09d51",
       "max": 1595,
       "style": "IPY_MODEL_92719fc68b32437cb313087ba66df1eb",
       "value": 1595
      }
     },
     "e25d3780fe394b4288ceb3ea18a40f51": {
      "model_module": "@jupyter-widgets/base",
      "model_module_version": "1.2.0",
      "model_name": "LayoutModel",
      "state": {}
     },
     "e27f194c94a049a8870471ffd10d80cc": {
      "model_module": "@jupyter-widgets/controls",
      "model_module_version": "1.5.0",
      "model_name": "DescriptionStyleModel",
      "state": {
       "description_width": ""
      }
     },
     "e2f99d56b81745d4a038d8b5df3e0e9c": {
      "model_module": "@jupyter-widgets/controls",
      "model_module_version": "1.5.0",
      "model_name": "FloatProgressModel",
      "state": {
       "layout": "IPY_MODEL_44351800d9b44be583f8fd36cd614282",
       "max": 1595,
       "style": "IPY_MODEL_a4dd35e68d65426790b27f6d461f7937",
       "value": 1595
      }
     },
     "e306adedaf524f6b97bbcf5a0f4a0fd3": {
      "model_module": "@jupyter-widgets/controls",
      "model_module_version": "1.5.0",
      "model_name": "DescriptionStyleModel",
      "state": {
       "description_width": ""
      }
     },
     "e310bf4a93334ab0806235575e8c609e": {
      "model_module": "@jupyter-widgets/controls",
      "model_module_version": "1.5.0",
      "model_name": "HTMLModel",
      "state": {
       "layout": "IPY_MODEL_46fb5d756ad94708b8eb837befc2ac32",
       "style": "IPY_MODEL_ec7ab0463df4497fbfbca782371333d1",
       "value": " 1630/1637 [00:07&lt;00:00, 218.61it/s]"
      }
     },
     "e3356e85c744401cb9d4c1bd7ea7cc55": {
      "model_module": "@jupyter-widgets/base",
      "model_module_version": "1.2.0",
      "model_name": "LayoutModel",
      "state": {}
     },
     "e42d82a5c81943b0ab82aacf99443544": {
      "model_module": "@jupyter-widgets/controls",
      "model_module_version": "1.5.0",
      "model_name": "DescriptionStyleModel",
      "state": {
       "description_width": ""
      }
     },
     "e43a416e992d441486b22553c1e5c5de": {
      "model_module": "@jupyter-widgets/controls",
      "model_module_version": "1.5.0",
      "model_name": "HTMLModel",
      "state": {
       "layout": "IPY_MODEL_c1033e7c905744519b6785bbcfab95ba",
       "style": "IPY_MODEL_97df72a90ce14d10929c4823b51cc3d3",
       "value": "Epoch 5: 100%"
      }
     },
     "e43d9e685b464e22b6ab6bf0800c52aa": {
      "model_module": "@jupyter-widgets/base",
      "model_module_version": "1.2.0",
      "model_name": "LayoutModel",
      "state": {}
     },
     "e444db5adb324b719cf44661cee27609": {
      "model_module": "@jupyter-widgets/controls",
      "model_module_version": "1.5.0",
      "model_name": "HTMLModel",
      "state": {
       "layout": "IPY_MODEL_f5468ab28c2e4a63a7200295c3e3e4df",
       "style": "IPY_MODEL_e55a88eb68ce42d299dbce222eb54f3d",
       "value": " 1737/1737 [00:17&lt;00:00, 80.20it/s]"
      }
     },
     "e449c619acfa449cabda6c9aa5efdcc9": {
      "model_module": "@jupyter-widgets/controls",
      "model_module_version": "1.5.0",
      "model_name": "HTMLModel",
      "state": {
       "layout": "IPY_MODEL_45ffc432485548989e67ef26b5b66157",
       "style": "IPY_MODEL_ada9629d007e4da28fb97505716aada3",
       "value": " 1585/1596 [00:07&lt;00:00, 222.81it/s]"
      }
     },
     "e449e88e464d43e99e0ad642c2dd981f": {
      "model_module": "@jupyter-widgets/controls",
      "model_module_version": "1.5.0",
      "model_name": "ProgressStyleModel",
      "state": {
       "description_width": ""
      }
     },
     "e44b2017eb7d40699878a0a3de05cea8": {
      "model_module": "@jupyter-widgets/controls",
      "model_module_version": "1.5.0",
      "model_name": "DescriptionStyleModel",
      "state": {
       "description_width": ""
      }
     },
     "e48fba7084d84564bd7b51cee652b622": {
      "model_module": "@jupyter-widgets/controls",
      "model_module_version": "1.5.0",
      "model_name": "DescriptionStyleModel",
      "state": {
       "description_width": ""
      }
     },
     "e4f6a33c832f4a9d9837e0d56fd0a267": {
      "model_module": "@jupyter-widgets/base",
      "model_module_version": "1.2.0",
      "model_name": "LayoutModel",
      "state": {}
     },
     "e55a88eb68ce42d299dbce222eb54f3d": {
      "model_module": "@jupyter-widgets/controls",
      "model_module_version": "1.5.0",
      "model_name": "DescriptionStyleModel",
      "state": {
       "description_width": ""
      }
     },
     "e56d202601db4ef6bb80d1901cdf1de3": {
      "model_module": "@jupyter-widgets/base",
      "model_module_version": "1.2.0",
      "model_name": "LayoutModel",
      "state": {
       "flex": "2"
      }
     },
     "e58c347df7d947188a47bed710a43bc9": {
      "model_module": "@jupyter-widgets/controls",
      "model_module_version": "1.5.0",
      "model_name": "HTMLModel",
      "state": {
       "layout": "IPY_MODEL_18adfc257e9140fb8cbffddb05c2aa5e",
       "style": "IPY_MODEL_0d047010643e45abbb09d69e56960174",
       "value": "Validating:  99%"
      }
     },
     "e5a60d69399d4c298213a0038a891ede": {
      "model_module": "@jupyter-widgets/controls",
      "model_module_version": "1.5.0",
      "model_name": "DescriptionStyleModel",
      "state": {
       "description_width": ""
      }
     },
     "e5ed49e0957748d2a3a5daaab3724d1d": {
      "model_module": "@jupyter-widgets/base",
      "model_module_version": "1.2.0",
      "model_name": "LayoutModel",
      "state": {}
     },
     "e64c012da8774327a03ba4c5f6a6dc3f": {
      "model_module": "@jupyter-widgets/controls",
      "model_module_version": "1.5.0",
      "model_name": "DescriptionStyleModel",
      "state": {
       "description_width": ""
      }
     },
     "e688a13395f648049d72ed08a2b41c55": {
      "model_module": "@jupyter-widgets/controls",
      "model_module_version": "1.5.0",
      "model_name": "ProgressStyleModel",
      "state": {
       "description_width": ""
      }
     },
     "e695f887016146d19bdccf5623e2f686": {
      "model_module": "@jupyter-widgets/controls",
      "model_module_version": "1.5.0",
      "model_name": "HTMLModel",
      "state": {
       "layout": "IPY_MODEL_72bd2c218e8647549f99b74dd401afa5",
       "style": "IPY_MODEL_e5a60d69399d4c298213a0038a891ede",
       "value": "Testing: 100%"
      }
     },
     "e6b279b495ec4a749f646634d1cf8c15": {
      "model_module": "@jupyter-widgets/controls",
      "model_module_version": "1.5.0",
      "model_name": "DescriptionStyleModel",
      "state": {
       "description_width": ""
      }
     },
     "e6dad4c2e045408a8936f8d5928d6d45": {
      "model_module": "@jupyter-widgets/controls",
      "model_module_version": "1.5.0",
      "model_name": "HTMLModel",
      "state": {
       "layout": "IPY_MODEL_97812fc23a174cd78c952b6b32177ec9",
       "style": "IPY_MODEL_400144d8817d4709a97d56ad2ec1d7bc",
       "value": "Validating: 100%"
      }
     },
     "e70bb654ffdd4a8295856b68e7dc22a3": {
      "model_module": "@jupyter-widgets/controls",
      "model_module_version": "1.5.0",
      "model_name": "HTMLModel",
      "state": {
       "layout": "IPY_MODEL_be526fdd9ab44c7faea3bdef9dae651c",
       "style": "IPY_MODEL_ffac44732627472c9d123c81c28956dc",
       "value": "Validating: 100%"
      }
     },
     "e7290977a2884f32bfab60471065eca0": {
      "model_module": "@jupyter-widgets/controls",
      "model_module_version": "1.5.0",
      "model_name": "DescriptionStyleModel",
      "state": {
       "description_width": ""
      }
     },
     "e79298f3ca794e0184898219ab27bc6e": {
      "model_module": "@jupyter-widgets/controls",
      "model_module_version": "1.5.0",
      "model_name": "HTMLModel",
      "state": {
       "layout": "IPY_MODEL_9db713f8901a40d097bec44d93d8d24f",
       "style": "IPY_MODEL_9e403ce27464420a81db4cddb0bea969",
       "value": "Validating:  99%"
      }
     },
     "e79affe98d854ad08417c930870a1c77": {
      "model_module": "@jupyter-widgets/controls",
      "model_module_version": "1.5.0",
      "model_name": "DescriptionStyleModel",
      "state": {
       "description_width": ""
      }
     },
     "e7a6a240e8b149aab4105d12734174d2": {
      "model_module": "@jupyter-widgets/base",
      "model_module_version": "1.2.0",
      "model_name": "LayoutModel",
      "state": {}
     },
     "e7eb29c8b5284e449c8fd7d6d09b64b9": {
      "model_module": "@jupyter-widgets/base",
      "model_module_version": "1.2.0",
      "model_name": "LayoutModel",
      "state": {
       "flex": "2"
      }
     },
     "e7fe9f74b0f346f985cbd1cf49529c14": {
      "model_module": "@jupyter-widgets/controls",
      "model_module_version": "1.5.0",
      "model_name": "HTMLModel",
      "state": {
       "layout": "IPY_MODEL_294c5407b5a74bedb63b2a23ac391be6",
       "style": "IPY_MODEL_ba7dec2c201943eb8480a04b25ca9951",
       "value": " 1590/1595 [00:07&lt;00:00, 216.68it/s]"
      }
     },
     "e81bdd1fc2e7446083b85348ac445f9e": {
      "model_module": "@jupyter-widgets/controls",
      "model_module_version": "1.5.0",
      "model_name": "HTMLModel",
      "state": {
       "layout": "IPY_MODEL_8a088a5016194d3eb53c61b347e4c0e2",
       "style": "IPY_MODEL_2f95cafcd66649278c7de21086ca8f08",
       "value": " 1614/1629 [00:07&lt;00:00, 216.61it/s]"
      }
     },
     "e832cb9abfe74bcd88f5514575402d70": {
      "model_module": "@jupyter-widgets/base",
      "model_module_version": "1.2.0",
      "model_name": "LayoutModel",
      "state": {}
     },
     "e8d965604ae9426faa8fb98062d2ea26": {
      "model_module": "@jupyter-widgets/base",
      "model_module_version": "1.2.0",
      "model_name": "LayoutModel",
      "state": {}
     },
     "e8ec50d4da4e4d72a0fa03d9c19a1dec": {
      "model_module": "@jupyter-widgets/base",
      "model_module_version": "1.2.0",
      "model_name": "LayoutModel",
      "state": {}
     },
     "e90e4c605d4e49858804040ad2332117": {
      "model_module": "@jupyter-widgets/controls",
      "model_module_version": "1.5.0",
      "model_name": "ProgressStyleModel",
      "state": {
       "description_width": ""
      }
     },
     "e93f9b7678d146218e29e759089e7c17": {
      "model_module": "@jupyter-widgets/controls",
      "model_module_version": "1.5.0",
      "model_name": "FloatProgressModel",
      "state": {
       "layout": "IPY_MODEL_627e4f75c80b43899db9a34f159d620e",
       "max": 1596,
       "style": "IPY_MODEL_18267b76f37648e58a8c9a593dbfaef3",
       "value": 1596
      }
     },
     "e967b8afabcd49d8be5ca384a4d39e64": {
      "model_module": "@jupyter-widgets/base",
      "model_module_version": "1.2.0",
      "model_name": "LayoutModel",
      "state": {
       "display": "inline-flex",
       "flex_flow": "row wrap",
       "width": "100%"
      }
     },
     "e96ff26d0f754dc7b6f72aefb89edf83": {
      "model_module": "@jupyter-widgets/base",
      "model_module_version": "1.2.0",
      "model_name": "LayoutModel",
      "state": {}
     },
     "e975d8c808854d55a116ebbab89486c8": {
      "model_module": "@jupyter-widgets/base",
      "model_module_version": "1.2.0",
      "model_name": "LayoutModel",
      "state": {}
     },
     "e9abbfa5050945079515d03ad0b830bb": {
      "model_module": "@jupyter-widgets/controls",
      "model_module_version": "1.5.0",
      "model_name": "HTMLModel",
      "state": {
       "layout": "IPY_MODEL_65388bbae6b040219746876c3af67295",
       "style": "IPY_MODEL_e27f194c94a049a8870471ffd10d80cc",
       "value": "Validating: 100%"
      }
     },
     "e9be26cccb2540f5bd9d93c4e3bdcc71": {
      "model_module": "@jupyter-widgets/base",
      "model_module_version": "1.2.0",
      "model_name": "LayoutModel",
      "state": {
       "flex": "2"
      }
     },
     "e9ef50f1556c4ceab82534b59821eee4": {
      "model_module": "@jupyter-widgets/controls",
      "model_module_version": "1.5.0",
      "model_name": "DescriptionStyleModel",
      "state": {
       "description_width": ""
      }
     },
     "e9f1c15b805d41cfa402b2c08bddfa57": {
      "model_module": "@jupyter-widgets/base",
      "model_module_version": "1.2.0",
      "model_name": "LayoutModel",
      "state": {
       "flex": "2"
      }
     },
     "ea036d63a826400f93c06b546251af3e": {
      "model_module": "@jupyter-widgets/base",
      "model_module_version": "1.2.0",
      "model_name": "LayoutModel",
      "state": {
       "flex": "2"
      }
     },
     "ea11cb0212d045e499c3592154763862": {
      "model_module": "@jupyter-widgets/controls",
      "model_module_version": "1.5.0",
      "model_name": "DescriptionStyleModel",
      "state": {
       "description_width": ""
      }
     },
     "ea1c6ea3f94c4649a4e514fc390517f4": {
      "model_module": "@jupyter-widgets/controls",
      "model_module_version": "1.5.0",
      "model_name": "HTMLModel",
      "state": {
       "layout": "IPY_MODEL_fae09d3e163e4ea8b278e0e1edd67d97",
       "style": "IPY_MODEL_e64c012da8774327a03ba4c5f6a6dc3f",
       "value": " 1/2 [00:00&lt;00:00,  2.63it/s]"
      }
     },
     "ea1cb588af0845898c4555e885726933": {
      "model_module": "@jupyter-widgets/controls",
      "model_module_version": "1.5.0",
      "model_name": "HTMLModel",
      "state": {
       "layout": "IPY_MODEL_8db17b0f7abb4de6b86395121ecaf93e",
       "style": "IPY_MODEL_63651befa5404d7bb6015da0b29563c9",
       "value": "Testing: 100%"
      }
     },
     "ea281aa69af0401ca521aa423324ab2e": {
      "model_module": "@jupyter-widgets/base",
      "model_module_version": "1.2.0",
      "model_name": "LayoutModel",
      "state": {
       "flex": "2"
      }
     },
     "ea412fae6a9645c894c9d3e15c44515f": {
      "model_module": "@jupyter-widgets/base",
      "model_module_version": "1.2.0",
      "model_name": "LayoutModel",
      "state": {}
     },
     "eab76e0c80eb4a8ea53663a597bef91e": {
      "model_module": "@jupyter-widgets/base",
      "model_module_version": "1.2.0",
      "model_name": "LayoutModel",
      "state": {}
     },
     "eb3078a5997a416b876f74af28fce801": {
      "model_module": "@jupyter-widgets/controls",
      "model_module_version": "1.5.0",
      "model_name": "DescriptionStyleModel",
      "state": {
       "description_width": ""
      }
     },
     "eb5f3348f92b47619084bf4842f481e6": {
      "model_module": "@jupyter-widgets/controls",
      "model_module_version": "1.5.0",
      "model_name": "HTMLModel",
      "state": {
       "layout": "IPY_MODEL_419fb2c10d6f46ca9f83fad924975f17",
       "style": "IPY_MODEL_1ac3b23d66d043529f3526ea54bc4067",
       "value": "Validating:  99%"
      }
     },
     "eba3520eea264c74a4bebce820c049ca": {
      "model_module": "@jupyter-widgets/controls",
      "model_module_version": "1.5.0",
      "model_name": "DescriptionStyleModel",
      "state": {
       "description_width": ""
      }
     },
     "ec2017c1ed2e4fa7ab278e390adade16": {
      "model_module": "@jupyter-widgets/controls",
      "model_module_version": "1.5.0",
      "model_name": "FloatProgressModel",
      "state": {
       "layout": "IPY_MODEL_6d24a9fbf5d54de38c9754d8c920e703",
       "max": 1596,
       "style": "IPY_MODEL_ca0be4ae428b4ef9825628ba7512bfe4",
       "value": 1596
      }
     },
     "ec69725588fd4388a746be76df938092": {
      "model_module": "@jupyter-widgets/base",
      "model_module_version": "1.2.0",
      "model_name": "LayoutModel",
      "state": {}
     },
     "ec7ab0463df4497fbfbca782371333d1": {
      "model_module": "@jupyter-widgets/controls",
      "model_module_version": "1.5.0",
      "model_name": "DescriptionStyleModel",
      "state": {
       "description_width": ""
      }
     },
     "ecb79a229e4f4196bea7ad639b1592ac": {
      "model_module": "@jupyter-widgets/base",
      "model_module_version": "1.2.0",
      "model_name": "LayoutModel",
      "state": {
       "display": "inline-flex",
       "flex_flow": "row wrap",
       "width": "100%"
      }
     },
     "ecd31654af1a4afabb443a8d0f9e219c": {
      "model_module": "@jupyter-widgets/controls",
      "model_module_version": "1.5.0",
      "model_name": "DescriptionStyleModel",
      "state": {
       "description_width": ""
      }
     },
     "ed50a05e2768434d80bf46b47a232848": {
      "model_module": "@jupyter-widgets/base",
      "model_module_version": "1.2.0",
      "model_name": "LayoutModel",
      "state": {
       "flex": "2"
      }
     },
     "ed8359ce725146f1a9205ebfc927e78e": {
      "model_module": "@jupyter-widgets/base",
      "model_module_version": "1.2.0",
      "model_name": "LayoutModel",
      "state": {}
     },
     "ed8468fcceaf4d20a7d31ae035d72205": {
      "model_module": "@jupyter-widgets/controls",
      "model_module_version": "1.5.0",
      "model_name": "ProgressStyleModel",
      "state": {
       "description_width": ""
      }
     },
     "eda82c9b6d5c4650bf91bbf8d1bdc582": {
      "model_module": "@jupyter-widgets/base",
      "model_module_version": "1.2.0",
      "model_name": "LayoutModel",
      "state": {}
     },
     "edb803e6025444c595ca87dc28043965": {
      "model_module": "@jupyter-widgets/base",
      "model_module_version": "1.2.0",
      "model_name": "LayoutModel",
      "state": {}
     },
     "edf3201727014d4398aaf13f0fd57c58": {
      "model_module": "@jupyter-widgets/controls",
      "model_module_version": "1.5.0",
      "model_name": "HTMLModel",
      "state": {
       "layout": "IPY_MODEL_fce9d08a3c344c31887b97420cc13757",
       "style": "IPY_MODEL_2a0657c397a9477989bcf3812f2e6553",
       "value": " 1583/1583 [00:07&lt;00:00, 217.62it/s]"
      }
     },
     "ee02a0ac11ec4cc892fd4e07dd0a60de": {
      "model_module": "@jupyter-widgets/base",
      "model_module_version": "1.2.0",
      "model_name": "LayoutModel",
      "state": {
       "display": "inline-flex",
       "flex_flow": "row wrap",
       "width": "100%"
      }
     },
     "ee260e2c821b4fb1b44fa787b21e42b8": {
      "model_module": "@jupyter-widgets/controls",
      "model_module_version": "1.5.0",
      "model_name": "DescriptionStyleModel",
      "state": {
       "description_width": ""
      }
     },
     "ee293f4152324a3fa461594f478ba001": {
      "model_module": "@jupyter-widgets/controls",
      "model_module_version": "1.5.0",
      "model_name": "HTMLModel",
      "state": {
       "layout": "IPY_MODEL_eab76e0c80eb4a8ea53663a597bef91e",
       "style": "IPY_MODEL_9e116a1dbfc1432597f5ea2145ad9ddf",
       "value": " 1628/1629 [00:15&lt;00:00, 107.45it/s]"
      }
     },
     "ee3032a6abe24ac3ba1161429d8cd67b": {
      "model_module": "@jupyter-widgets/controls",
      "model_module_version": "1.5.0",
      "model_name": "FloatProgressModel",
      "state": {
       "layout": "IPY_MODEL_4bd809770819455fbd4d4f15eed7ac88",
       "max": 1629,
       "style": "IPY_MODEL_5ba242cb68ef403db83844af531baa73",
       "value": 1629
      }
     },
     "ee5523dbd67f41e38d72bba930300386": {
      "model_module": "@jupyter-widgets/controls",
      "model_module_version": "1.5.0",
      "model_name": "DescriptionStyleModel",
      "state": {
       "description_width": ""
      }
     },
     "eeca3a31c8164d66905be92b6693dad9": {
      "model_module": "@jupyter-widgets/controls",
      "model_module_version": "1.5.0",
      "model_name": "FloatProgressModel",
      "state": {
       "layout": "IPY_MODEL_c76028d678ba40798a5b9d113e834d44",
       "max": 1595,
       "style": "IPY_MODEL_a0b6418a681a483daba43e5683b156fc",
       "value": 1595
      }
     },
     "eee94e084d26403c8b73f827884c8303": {
      "model_module": "@jupyter-widgets/base",
      "model_module_version": "1.2.0",
      "model_name": "LayoutModel",
      "state": {}
     },
     "ef004585bf9e4c7bb394812675889312": {
      "model_module": "@jupyter-widgets/controls",
      "model_module_version": "1.5.0",
      "model_name": "DescriptionStyleModel",
      "state": {
       "description_width": ""
      }
     },
     "ef18a14b710643b69f3d35584ce36968": {
      "model_module": "@jupyter-widgets/base",
      "model_module_version": "1.2.0",
      "model_name": "LayoutModel",
      "state": {}
     },
     "ef36bda06bd840fa94497c3878cd8a36": {
      "model_module": "@jupyter-widgets/controls",
      "model_module_version": "1.5.0",
      "model_name": "DescriptionStyleModel",
      "state": {
       "description_width": ""
      }
     },
     "ef41387a65be457a85f18702923c609f": {
      "model_module": "@jupyter-widgets/controls",
      "model_module_version": "1.5.0",
      "model_name": "FloatProgressModel",
      "state": {
       "layout": "IPY_MODEL_706ceda8c9d249d4bc2d9ce1dfb78a77",
       "max": 1596,
       "style": "IPY_MODEL_27167d033f3645ee88e6899dddd77bcc",
       "value": 1596
      }
     },
     "ef4ba62042dc43eea6de0a3e3e1f5dc5": {
      "model_module": "@jupyter-widgets/controls",
      "model_module_version": "1.5.0",
      "model_name": "DescriptionStyleModel",
      "state": {
       "description_width": ""
      }
     },
     "efa295b6d6a442b1bbbf652a520299d3": {
      "model_module": "@jupyter-widgets/base",
      "model_module_version": "1.2.0",
      "model_name": "LayoutModel",
      "state": {}
     },
     "efaff5589ce64a8091c492668ad30422": {
      "model_module": "@jupyter-widgets/controls",
      "model_module_version": "1.5.0",
      "model_name": "FloatProgressModel",
      "state": {
       "layout": "IPY_MODEL_137f3d4ccbd541d09e17abe9504c6bb8",
       "max": 1737,
       "style": "IPY_MODEL_47b68536547c45cb9793ceda9b24cc05",
       "value": 1737
      }
     },
     "efbbc8a973a24ffda302548aa401b5b4": {
      "model_module": "@jupyter-widgets/controls",
      "model_module_version": "1.5.0",
      "model_name": "DescriptionStyleModel",
      "state": {
       "description_width": ""
      }
     },
     "effb555ab3c649218c74ae3c45d119cc": {
      "model_module": "@jupyter-widgets/controls",
      "model_module_version": "1.5.0",
      "model_name": "DescriptionStyleModel",
      "state": {
       "description_width": ""
      }
     },
     "f034896b7ad542fe920a8eee40dbb76d": {
      "model_module": "@jupyter-widgets/controls",
      "model_module_version": "1.5.0",
      "model_name": "HTMLModel",
      "state": {
       "layout": "IPY_MODEL_60be39de19ab480680178e2cb53efde4",
       "style": "IPY_MODEL_f803c35b11b94214b51c69b56978b7a4",
       "value": " 1737/1737 [00:17&lt;00:00, 76.74it/s]"
      }
     },
     "f08a240a889b449caa8801427281aa00": {
      "model_module": "@jupyter-widgets/base",
      "model_module_version": "1.2.0",
      "model_name": "LayoutModel",
      "state": {
       "display": "inline-flex",
       "flex_flow": "row wrap",
       "width": "100%"
      }
     },
     "f119f970479f41a8aeb806d8e198b187": {
      "model_module": "@jupyter-widgets/controls",
      "model_module_version": "1.5.0",
      "model_name": "DescriptionStyleModel",
      "state": {
       "description_width": ""
      }
     },
     "f152f555d2044d2ba136b4554cf4a3ff": {
      "model_module": "@jupyter-widgets/controls",
      "model_module_version": "1.5.0",
      "model_name": "HTMLModel",
      "state": {
       "layout": "IPY_MODEL_f39743fb5cbf47d2bd78a392e216fecf",
       "style": "IPY_MODEL_7e648728e26443549ca678fce43c1830",
       "value": " 1611/1629 [00:07&lt;00:00, 223.61it/s]"
      }
     },
     "f1926ff3b0f24e50ad806c398de385d3": {
      "model_module": "@jupyter-widgets/base",
      "model_module_version": "1.2.0",
      "model_name": "LayoutModel",
      "state": {}
     },
     "f1c1e44b00b74a7c88c4e9807fb73eed": {
      "model_module": "@jupyter-widgets/base",
      "model_module_version": "1.2.0",
      "model_name": "LayoutModel",
      "state": {}
     },
     "f214ae8bd4234c83afbdc924b993db69": {
      "model_module": "@jupyter-widgets/controls",
      "model_module_version": "1.5.0",
      "model_name": "HTMLModel",
      "state": {
       "layout": "IPY_MODEL_66ec889fa6af49d28fa785ba82dcd040",
       "style": "IPY_MODEL_ef4ba62042dc43eea6de0a3e3e1f5dc5",
       "value": "Validating: 100%"
      }
     },
     "f21b1a1123d6411b88e353b2fcc7c78d": {
      "model_module": "@jupyter-widgets/controls",
      "model_module_version": "1.5.0",
      "model_name": "ProgressStyleModel",
      "state": {
       "description_width": ""
      }
     },
     "f241ae9bcdfc4d47a09af05d1dc137bc": {
      "model_module": "@jupyter-widgets/controls",
      "model_module_version": "1.5.0",
      "model_name": "HTMLModel",
      "state": {
       "layout": "IPY_MODEL_1ec70c131dcc4746a726f33f4151feab",
       "style": "IPY_MODEL_55cf0eeb0319427aac195c7d18283879",
       "value": " 1592/1595 [00:07&lt;00:00, 210.47it/s]"
      }
     },
     "f2682a4c8a0c4efba1e03e3ca2de4b90": {
      "model_module": "@jupyter-widgets/controls",
      "model_module_version": "1.5.0",
      "model_name": "DescriptionStyleModel",
      "state": {
       "description_width": ""
      }
     },
     "f299ecfe92d2492aa29a98ec8ade1615": {
      "model_module": "@jupyter-widgets/controls",
      "model_module_version": "1.5.0",
      "model_name": "FloatProgressModel",
      "state": {
       "layout": "IPY_MODEL_579213365c914cdf8025e809f4f90c57",
       "max": 1637,
       "style": "IPY_MODEL_3aafdd2e11da4126bd5e30e56c003dee",
       "value": 1637
      }
     },
     "f2a1aa8c6b434d06bce349583b9b68b8": {
      "model_module": "@jupyter-widgets/base",
      "model_module_version": "1.2.0",
      "model_name": "LayoutModel",
      "state": {
       "flex": "2"
      }
     },
     "f33cbd7a554743e3bc1a35844a318bc6": {
      "model_module": "@jupyter-widgets/base",
      "model_module_version": "1.2.0",
      "model_name": "LayoutModel",
      "state": {}
     },
     "f3751d8678d449ccb76233617e129af1": {
      "model_module": "@jupyter-widgets/controls",
      "model_module_version": "1.5.0",
      "model_name": "HTMLModel",
      "state": {
       "layout": "IPY_MODEL_6a500ad7df7e43ef931a7674972655f1",
       "style": "IPY_MODEL_5038497c27f24405b1338ef3d0589b72",
       "value": " 1643/1643 [00:08&lt;00:00, 220.54it/s]"
      }
     },
     "f39743fb5cbf47d2bd78a392e216fecf": {
      "model_module": "@jupyter-widgets/base",
      "model_module_version": "1.2.0",
      "model_name": "LayoutModel",
      "state": {}
     },
     "f3bb769270f14256a1f8297007470670": {
      "model_module": "@jupyter-widgets/controls",
      "model_module_version": "1.5.0",
      "model_name": "HTMLModel",
      "state": {
       "layout": "IPY_MODEL_bfedb12648114f518a2e93f2ad7aa328",
       "style": "IPY_MODEL_834625ad591a4c5194d286e5363c729c",
       "value": " 1595/1596 [00:07&lt;00:00, 214.58it/s]"
      }
     },
     "f3c2df577e9a49488bc09a9fc675bd1d": {
      "model_module": "@jupyter-widgets/base",
      "model_module_version": "1.2.0",
      "model_name": "LayoutModel",
      "state": {}
     },
     "f3e518d062aa4c268cc3f5b916cb702d": {
      "model_module": "@jupyter-widgets/controls",
      "model_module_version": "1.5.0",
      "model_name": "HTMLModel",
      "state": {
       "layout": "IPY_MODEL_1e1ab8588ae642e7a81563e86fc88003",
       "style": "IPY_MODEL_ac97d9f2b181416ea8b7552229b7f963",
       "value": "Validating:  99%"
      }
     },
     "f3e9cfb8137845009a13cfb07ab37476": {
      "model_module": "@jupyter-widgets/base",
      "model_module_version": "1.2.0",
      "model_name": "LayoutModel",
      "state": {
       "flex": "2"
      }
     },
     "f43cb3354dce46b185b4cc4f7268afab": {
      "model_module": "@jupyter-widgets/base",
      "model_module_version": "1.2.0",
      "model_name": "LayoutModel",
      "state": {
       "display": "inline-flex",
       "flex_flow": "row wrap",
       "width": "100%"
      }
     },
     "f44b3b28751d414fa4fad7519bca4fb2": {
      "model_module": "@jupyter-widgets/controls",
      "model_module_version": "1.5.0",
      "model_name": "HBoxModel",
      "state": {
       "children": [
        "IPY_MODEL_8a370b92c68649079a668c96a641cef9",
        "IPY_MODEL_b79de37fb64a43c68448082ce5521e73",
        "IPY_MODEL_a0930b2ae78b462eb3c6cde1fcf4f9b4"
       ],
       "layout": "IPY_MODEL_fd0e977e5c194976b737240bc4eb7239"
      }
     },
     "f45a5b4ef81c4038bfdc525981f1d2d6": {
      "model_module": "@jupyter-widgets/controls",
      "model_module_version": "1.5.0",
      "model_name": "HTMLModel",
      "state": {
       "layout": "IPY_MODEL_f81cb5a5da91455c8889e30c51d17739",
       "style": "IPY_MODEL_69b0f4b7c2d84c3e85223f10b826c013",
       "value": "Validating: 100%"
      }
     },
     "f45d8c28b3844f1d9bb7ee6f8c1b3c47": {
      "model_module": "@jupyter-widgets/controls",
      "model_module_version": "1.5.0",
      "model_name": "HTMLModel",
      "state": {
       "layout": "IPY_MODEL_2b255d45f92545d9911c9202b543e7b8",
       "style": "IPY_MODEL_677f46d067e24853a37e872ef4ed36eb",
       "value": " 1594/1596 [00:16&lt;00:00, 99.05it/s]"
      }
     },
     "f467f9acbe6b4734b68bc98d32d6e9ee": {
      "model_module": "@jupyter-widgets/controls",
      "model_module_version": "1.5.0",
      "model_name": "DescriptionStyleModel",
      "state": {
       "description_width": ""
      }
     },
     "f4a2424719834b1ca9a0c6075bd4825e": {
      "model_module": "@jupyter-widgets/base",
      "model_module_version": "1.2.0",
      "model_name": "LayoutModel",
      "state": {}
     },
     "f4ac859925654a5d842ba85baadd0d9f": {
      "model_module": "@jupyter-widgets/controls",
      "model_module_version": "1.5.0",
      "model_name": "FloatProgressModel",
      "state": {
       "layout": "IPY_MODEL_d37d17eb851d4cb6aba5da74bb65704f",
       "max": 1737,
       "style": "IPY_MODEL_597f2c1eacd64ae186de49de514186e6",
       "value": 1737
      }
     },
     "f4e90860c4014d63a19cbb3f1bce8542": {
      "model_module": "@jupyter-widgets/controls",
      "model_module_version": "1.5.0",
      "model_name": "DescriptionStyleModel",
      "state": {
       "description_width": ""
      }
     },
     "f4fed139cbc94441b4a28e4b3619e4e6": {
      "model_module": "@jupyter-widgets/base",
      "model_module_version": "1.2.0",
      "model_name": "LayoutModel",
      "state": {}
     },
     "f516480c1d6a4f1e8f8872eb53eff83f": {
      "model_module": "@jupyter-widgets/base",
      "model_module_version": "1.2.0",
      "model_name": "LayoutModel",
      "state": {
       "flex": "2"
      }
     },
     "f51ebede1ec5461299a8a08bb1f617ac": {
      "model_module": "@jupyter-widgets/controls",
      "model_module_version": "1.5.0",
      "model_name": "DescriptionStyleModel",
      "state": {
       "description_width": ""
      }
     },
     "f5437f2583e14a35874891960207aab9": {
      "model_module": "@jupyter-widgets/base",
      "model_module_version": "1.2.0",
      "model_name": "LayoutModel",
      "state": {
       "flex": "2"
      }
     },
     "f5468ab28c2e4a63a7200295c3e3e4df": {
      "model_module": "@jupyter-widgets/base",
      "model_module_version": "1.2.0",
      "model_name": "LayoutModel",
      "state": {}
     },
     "f57b108a054541c89af5f7e8ada4c5d1": {
      "model_module": "@jupyter-widgets/controls",
      "model_module_version": "1.5.0",
      "model_name": "ProgressStyleModel",
      "state": {
       "description_width": ""
      }
     },
     "f5982bd45a5644c08dd43d802a4af4e7": {
      "model_module": "@jupyter-widgets/base",
      "model_module_version": "1.2.0",
      "model_name": "LayoutModel",
      "state": {}
     },
     "f5aefe698d6c4ebb9a452115b57fde57": {
      "model_module": "@jupyter-widgets/controls",
      "model_module_version": "1.5.0",
      "model_name": "HTMLModel",
      "state": {
       "layout": "IPY_MODEL_dbd766abd9ff4fccba659c2e74994ada",
       "style": "IPY_MODEL_490e6a7a0bc743d588762db6a5cc0d41",
       "value": "Validating: 100%"
      }
     },
     "f5c098ce303f429b8684bce62de3669c": {
      "model_module": "@jupyter-widgets/controls",
      "model_module_version": "1.5.0",
      "model_name": "FloatProgressModel",
      "state": {
       "layout": "IPY_MODEL_d99c49d028cf4234a272de5acb369100",
       "max": 1629,
       "style": "IPY_MODEL_94525cacd84e4023818acf6ae639afcd",
       "value": 1629
      }
     },
     "f5dce029b57647f3b511b93068c7b915": {
      "model_module": "@jupyter-widgets/controls",
      "model_module_version": "1.5.0",
      "model_name": "DescriptionStyleModel",
      "state": {
       "description_width": ""
      }
     },
     "f645e863e84c425cbc1fa4285e4fc5c9": {
      "model_module": "@jupyter-widgets/controls",
      "model_module_version": "1.5.0",
      "model_name": "HTMLModel",
      "state": {
       "layout": "IPY_MODEL_4c29b38fa5c842a99f59ed0898c409ed",
       "style": "IPY_MODEL_92a7ca8a10ad4356afc2897945cafe71",
       "value": " 1623/1629 [00:07&lt;00:00, 217.04it/s]"
      }
     },
     "f6585bd3f97d4aef846c06e2da677a62": {
      "model_module": "@jupyter-widgets/base",
      "model_module_version": "1.2.0",
      "model_name": "LayoutModel",
      "state": {
       "flex": "2"
      }
     },
     "f678d0aae7934eaa9646eaa4c1e1c723": {
      "model_module": "@jupyter-widgets/base",
      "model_module_version": "1.2.0",
      "model_name": "LayoutModel",
      "state": {}
     },
     "f67e610b2fde48949214a9d82081803e": {
      "model_module": "@jupyter-widgets/controls",
      "model_module_version": "1.5.0",
      "model_name": "HTMLModel",
      "state": {
       "layout": "IPY_MODEL_f1926ff3b0f24e50ad806c398de385d3",
       "style": "IPY_MODEL_c24e3b31596a46c4b0e3212cad04832f",
       "value": " 1622/1629 [00:07&lt;00:00, 211.82it/s]"
      }
     },
     "f68a7693466840a796c8bdd58831189c": {
      "model_module": "@jupyter-widgets/controls",
      "model_module_version": "1.5.0",
      "model_name": "HTMLModel",
      "state": {
       "layout": "IPY_MODEL_5db99fcf446348f6be829ccd84edcf32",
       "style": "IPY_MODEL_70c4b171aa6543ceb05071c065ea0a5d",
       "value": " 1616/1629 [00:07&lt;00:00, 228.66it/s]"
      }
     },
     "f69c441386a84090874d8e6060ab1d26": {
      "model_module": "@jupyter-widgets/base",
      "model_module_version": "1.2.0",
      "model_name": "LayoutModel",
      "state": {
       "flex": "2"
      }
     },
     "f6a5333f50b64a2b8d18cf3dc0843b85": {
      "model_module": "@jupyter-widgets/controls",
      "model_module_version": "1.5.0",
      "model_name": "HBoxModel",
      "state": {
       "children": [
        "IPY_MODEL_ff2acf33a9c142ecaa8b907fa6643bfd",
        "IPY_MODEL_8793580e003344f7885a043f9b67b6c4",
        "IPY_MODEL_404d020163464107ad8d38f9327a7e20"
       ],
       "layout": "IPY_MODEL_8f5a0aa4dd7143d5b74091addd1b300d"
      }
     },
     "f71d7d2c1fe642abbbbd6b783747e5e2": {
      "model_module": "@jupyter-widgets/base",
      "model_module_version": "1.2.0",
      "model_name": "LayoutModel",
      "state": {
       "display": "inline-flex",
       "flex_flow": "row wrap",
       "width": "100%"
      }
     },
     "f755143d4e914a45ad2b46b1febf63a5": {
      "model_module": "@jupyter-widgets/controls",
      "model_module_version": "1.5.0",
      "model_name": "HTMLModel",
      "state": {
       "layout": "IPY_MODEL_96ff9ac271c34b03b15a2f03c3dd5b56",
       "style": "IPY_MODEL_bc7032026b9441b08b4bbd1567c10e88",
       "value": "Validating: 100%"
      }
     },
     "f76cfa9b6af642e5aa2d5902e4c6e5f3": {
      "model_module": "@jupyter-widgets/controls",
      "model_module_version": "1.5.0",
      "model_name": "FloatProgressModel",
      "state": {
       "layout": "IPY_MODEL_a980597eac604ff697fc5d90bebbe694",
       "max": 1629,
       "style": "IPY_MODEL_8c12f2d93626467aadd4cb888a7088c7",
       "value": 1629
      }
     },
     "f7a361dad4f2408785d8cb46de616ec2": {
      "model_module": "@jupyter-widgets/controls",
      "model_module_version": "1.5.0",
      "model_name": "DescriptionStyleModel",
      "state": {
       "description_width": ""
      }
     },
     "f7e6d4a72478486f98c8f51ff98d5341": {
      "model_module": "@jupyter-widgets/controls",
      "model_module_version": "1.5.0",
      "model_name": "HTMLModel",
      "state": {
       "layout": "IPY_MODEL_6d76b03b6b4e4deba8e11e0e4863b2fa",
       "style": "IPY_MODEL_ef36bda06bd840fa94497c3878cd8a36",
       "value": " 1583/1595 [00:07&lt;00:00, 232.77it/s]"
      }
     },
     "f803c35b11b94214b51c69b56978b7a4": {
      "model_module": "@jupyter-widgets/controls",
      "model_module_version": "1.5.0",
      "model_name": "DescriptionStyleModel",
      "state": {
       "description_width": ""
      }
     },
     "f81cb5a5da91455c8889e30c51d17739": {
      "model_module": "@jupyter-widgets/base",
      "model_module_version": "1.2.0",
      "model_name": "LayoutModel",
      "state": {}
     },
     "f86b959401404397b2f8c73bf646cef8": {
      "model_module": "@jupyter-widgets/base",
      "model_module_version": "1.2.0",
      "model_name": "LayoutModel",
      "state": {
       "display": "inline-flex",
       "flex_flow": "row wrap",
       "width": "100%"
      }
     },
     "f88007e7730f49549e99a136b03cd959": {
      "model_module": "@jupyter-widgets/controls",
      "model_module_version": "1.5.0",
      "model_name": "ProgressStyleModel",
      "state": {
       "description_width": ""
      }
     },
     "f8920c4a6b7148a2915427115c593be6": {
      "model_module": "@jupyter-widgets/base",
      "model_module_version": "1.2.0",
      "model_name": "LayoutModel",
      "state": {}
     },
     "f8d65ca8a3884c4c9be8eff0b87a830c": {
      "model_module": "@jupyter-widgets/base",
      "model_module_version": "1.2.0",
      "model_name": "LayoutModel",
      "state": {}
     },
     "f91b167d879a4aa5a41f5a1c8c01503e": {
      "model_module": "@jupyter-widgets/controls",
      "model_module_version": "1.5.0",
      "model_name": "DescriptionStyleModel",
      "state": {
       "description_width": ""
      }
     },
     "f9302586145242fc9027cd44c5a027eb": {
      "model_module": "@jupyter-widgets/controls",
      "model_module_version": "1.5.0",
      "model_name": "ProgressStyleModel",
      "state": {
       "description_width": ""
      }
     },
     "f946aa5a96174b6a9a3610b71ba425af": {
      "model_module": "@jupyter-widgets/base",
      "model_module_version": "1.2.0",
      "model_name": "LayoutModel",
      "state": {}
     },
     "f9865620a40245399ff727fbeba04c52": {
      "model_module": "@jupyter-widgets/base",
      "model_module_version": "1.2.0",
      "model_name": "LayoutModel",
      "state": {}
     },
     "f9f08355eea8425a8caed1bd28d47de0": {
      "model_module": "@jupyter-widgets/base",
      "model_module_version": "1.2.0",
      "model_name": "LayoutModel",
      "state": {}
     },
     "fa2d0f223b044a848892339ecbd3c416": {
      "model_module": "@jupyter-widgets/controls",
      "model_module_version": "1.5.0",
      "model_name": "ProgressStyleModel",
      "state": {
       "description_width": ""
      }
     },
     "fa81000ef9a5452b8f3dd3467ae9f120": {
      "model_module": "@jupyter-widgets/controls",
      "model_module_version": "1.5.0",
      "model_name": "FloatProgressModel",
      "state": {
       "layout": "IPY_MODEL_0c8bbbdddf984c40a6396435bc808a8c",
       "max": 1629,
       "style": "IPY_MODEL_b8da0254f9e24d91a7c06c12ab520e8f",
       "value": 1629
      }
     },
     "fa81655cc0a0457cb9fcdf04489281d4": {
      "model_module": "@jupyter-widgets/controls",
      "model_module_version": "1.5.0",
      "model_name": "FloatProgressModel",
      "state": {
       "layout": "IPY_MODEL_4437844520b749ea99614671d21cc96e",
       "max": 1595,
       "style": "IPY_MODEL_2027262b379841eebbbdae9d9d4cdfaa",
       "value": 1595
      }
     },
     "faa91b830c394340a884f462394cd4e4": {
      "model_module": "@jupyter-widgets/base",
      "model_module_version": "1.2.0",
      "model_name": "LayoutModel",
      "state": {
       "display": "inline-flex",
       "flex_flow": "row wrap",
       "width": "100%"
      }
     },
     "fae09d3e163e4ea8b278e0e1edd67d97": {
      "model_module": "@jupyter-widgets/base",
      "model_module_version": "1.2.0",
      "model_name": "LayoutModel",
      "state": {}
     },
     "fb69a6b733d6476dbff2902336bcb755": {
      "model_module": "@jupyter-widgets/controls",
      "model_module_version": "1.5.0",
      "model_name": "HTMLModel",
      "state": {
       "layout": "IPY_MODEL_3e822b6fd53b4036868e50022892bbf2",
       "style": "IPY_MODEL_8494abcd467a4fce9277c7d99327c88c",
       "value": " 1625/1629 [00:07&lt;00:00, 215.57it/s]"
      }
     },
     "fb716b49ea7343c7989b6bceb32c23b9": {
      "model_module": "@jupyter-widgets/base",
      "model_module_version": "1.2.0",
      "model_name": "LayoutModel",
      "state": {}
     },
     "fb8aa0b61772404196db8cfdd806bc59": {
      "model_module": "@jupyter-widgets/controls",
      "model_module_version": "1.5.0",
      "model_name": "FloatProgressModel",
      "state": {
       "layout": "IPY_MODEL_b5efe078f4e84f9cb00c318a90272149",
       "max": 1737,
       "style": "IPY_MODEL_d468afb6e5b647dc9312f46f53e0597e",
       "value": 1737
      }
     },
     "fbd69b37d7b54a2e93b8f301797f2154": {
      "model_module": "@jupyter-widgets/controls",
      "model_module_version": "1.5.0",
      "model_name": "DescriptionStyleModel",
      "state": {
       "description_width": ""
      }
     },
     "fbea88672c904d919fd10c90148ae462": {
      "model_module": "@jupyter-widgets/base",
      "model_module_version": "1.2.0",
      "model_name": "LayoutModel",
      "state": {
       "display": "inline-flex",
       "flex_flow": "row wrap",
       "width": "100%"
      }
     },
     "fc01bc3267cd44659801b54df41bc45f": {
      "model_module": "@jupyter-widgets/controls",
      "model_module_version": "1.5.0",
      "model_name": "HTMLModel",
      "state": {
       "layout": "IPY_MODEL_f3c2df577e9a49488bc09a9fc675bd1d",
       "style": "IPY_MODEL_59c99b24895346ff863be995e28d7998",
       "value": "Validating:  99%"
      }
     },
     "fc052fa52b5649d1acac3c4dba60655d": {
      "model_module": "@jupyter-widgets/base",
      "model_module_version": "1.2.0",
      "model_name": "LayoutModel",
      "state": {}
     },
     "fc111cb067bd4595bd3d335c75fcda6c": {
      "model_module": "@jupyter-widgets/controls",
      "model_module_version": "1.5.0",
      "model_name": "FloatProgressModel",
      "state": {
       "layout": "IPY_MODEL_7afe97569fb04b88a8dec3595d8b4ab0",
       "max": 1737,
       "style": "IPY_MODEL_14aab292153344bb98e818fe125be435",
       "value": 1737
      }
     },
     "fc1d42798ded406bbe2e6ccc7ec3111b": {
      "model_module": "@jupyter-widgets/controls",
      "model_module_version": "1.5.0",
      "model_name": "HBoxModel",
      "state": {
       "children": [
        "IPY_MODEL_ca4df268a01c42a180e511813075460e",
        "IPY_MODEL_842fc07b4bc5438eb5568956e4607c5c",
        "IPY_MODEL_9b45cd3bbe7d42d4ab751daff85c11ff"
       ],
       "layout": "IPY_MODEL_9b415cfe330349ceb66a7c5e8aab38a6"
      }
     },
     "fce05b2f92ba4e77ae7c5638f222f372": {
      "model_module": "@jupyter-widgets/controls",
      "model_module_version": "1.5.0",
      "model_name": "DescriptionStyleModel",
      "state": {
       "description_width": ""
      }
     },
     "fce9d08a3c344c31887b97420cc13757": {
      "model_module": "@jupyter-widgets/base",
      "model_module_version": "1.2.0",
      "model_name": "LayoutModel",
      "state": {}
     },
     "fd081e3d2b4b41dbac5f3b744a42ade9": {
      "model_module": "@jupyter-widgets/controls",
      "model_module_version": "1.5.0",
      "model_name": "DescriptionStyleModel",
      "state": {
       "description_width": ""
      }
     },
     "fd085b0da1384ad9be46b2bbf627d9a5": {
      "model_module": "@jupyter-widgets/controls",
      "model_module_version": "1.5.0",
      "model_name": "HTMLModel",
      "state": {
       "layout": "IPY_MODEL_532d59d69ab94b1d8c4e7cd71cce580c",
       "style": "IPY_MODEL_4ae0a98cafd345d2bdeadff7a88387ad",
       "value": " 1626/1629 [00:15&lt;00:00, 106.49it/s]"
      }
     },
     "fd0e977e5c194976b737240bc4eb7239": {
      "model_module": "@jupyter-widgets/base",
      "model_module_version": "1.2.0",
      "model_name": "LayoutModel",
      "state": {
       "display": "inline-flex",
       "flex_flow": "row wrap",
       "width": "100%"
      }
     },
     "fd0f0ffd53e94cf8b6024d3b1d042507": {
      "model_module": "@jupyter-widgets/controls",
      "model_module_version": "1.5.0",
      "model_name": "ProgressStyleModel",
      "state": {
       "description_width": ""
      }
     },
     "fd14bdd247a746b4b679dd9e4de08052": {
      "model_module": "@jupyter-widgets/controls",
      "model_module_version": "1.5.0",
      "model_name": "HTMLModel",
      "state": {
       "layout": "IPY_MODEL_08e6b3a8c8254bfdaf18e8c3438fa46a",
       "style": "IPY_MODEL_a49b029dda784ebc80aa136836086f13",
       "value": " 1583/1596 [00:07&lt;00:00, 221.26it/s]"
      }
     },
     "fd608e79637e4a928f8a40eae92570db": {
      "model_module": "@jupyter-widgets/controls",
      "model_module_version": "1.5.0",
      "model_name": "FloatProgressModel",
      "state": {
       "bar_style": "success",
       "layout": "IPY_MODEL_cf17efdcda32406f95c537d8b170b706",
       "max": 1,
       "style": "IPY_MODEL_8917d356f1614436b9f4aefaf13dad48",
       "value": 1
      }
     },
     "fe0a38d130784cbf904013a66084ec60": {
      "model_module": "@jupyter-widgets/base",
      "model_module_version": "1.2.0",
      "model_name": "LayoutModel",
      "state": {}
     },
     "fe1623043101439c9a0d117642025826": {
      "model_module": "@jupyter-widgets/base",
      "model_module_version": "1.2.0",
      "model_name": "LayoutModel",
      "state": {
       "flex": "2"
      }
     },
     "fe307ef41997443a9240cfa32b358aff": {
      "model_module": "@jupyter-widgets/base",
      "model_module_version": "1.2.0",
      "model_name": "LayoutModel",
      "state": {
       "flex": "2"
      }
     },
     "fe5ce43565e8451bbbf8ff3af2be5ee6": {
      "model_module": "@jupyter-widgets/controls",
      "model_module_version": "1.5.0",
      "model_name": "HTMLModel",
      "state": {
       "layout": "IPY_MODEL_8cfb444e1e894084aa4c46766efc6092",
       "style": "IPY_MODEL_9bec2f43749b4ad9a9dc7c453be36e0e",
       "value": "Validating: 100%"
      }
     },
     "fe78247d3ab444c9a11bb684f4370272": {
      "model_module": "@jupyter-widgets/controls",
      "model_module_version": "1.5.0",
      "model_name": "FloatProgressModel",
      "state": {
       "layout": "IPY_MODEL_e7eb29c8b5284e449c8fd7d6d09b64b9",
       "max": 1596,
       "style": "IPY_MODEL_13398dbe962b4e80999246264b897783",
       "value": 1596
      }
     },
     "fe7ff5f7c9764a2ca8250bc050926c1c": {
      "model_module": "@jupyter-widgets/controls",
      "model_module_version": "1.5.0",
      "model_name": "DescriptionStyleModel",
      "state": {
       "description_width": ""
      }
     },
     "fe8f143c3d344d20b38a55c979e782fb": {
      "model_module": "@jupyter-widgets/base",
      "model_module_version": "1.2.0",
      "model_name": "LayoutModel",
      "state": {
       "flex": "2"
      }
     },
     "ff2acf33a9c142ecaa8b907fa6643bfd": {
      "model_module": "@jupyter-widgets/controls",
      "model_module_version": "1.5.0",
      "model_name": "HTMLModel",
      "state": {
       "layout": "IPY_MODEL_d042b53b1dee480ebc4d9783f033dfc6",
       "style": "IPY_MODEL_4573e8f0a8d74ddcba833b488662a53b",
       "value": "Epoch 15: 100%"
      }
     },
     "ff54de98a74a458f99f654e5810eaa20": {
      "model_module": "@jupyter-widgets/controls",
      "model_module_version": "1.5.0",
      "model_name": "ProgressStyleModel",
      "state": {
       "description_width": ""
      }
     },
     "ff7d94a6f10c4eb68b060e3e3e4656c6": {
      "model_module": "@jupyter-widgets/controls",
      "model_module_version": "1.5.0",
      "model_name": "FloatProgressModel",
      "state": {
       "layout": "IPY_MODEL_b82867dd4cb34d3bb44f844bc9ff7c7d",
       "max": 1737,
       "style": "IPY_MODEL_b447584aa9614d16808804f256d04085",
       "value": 1737
      }
     },
     "ffac44732627472c9d123c81c28956dc": {
      "model_module": "@jupyter-widgets/controls",
      "model_module_version": "1.5.0",
      "model_name": "DescriptionStyleModel",
      "state": {
       "description_width": ""
      }
     },
     "ffc50f8aa0cc4129a68fa0fcdbfb9388": {
      "model_module": "@jupyter-widgets/controls",
      "model_module_version": "1.5.0",
      "model_name": "FloatProgressModel",
      "state": {
       "layout": "IPY_MODEL_bc98376660854795ae2d46b9300f6b5e",
       "max": 1595,
       "style": "IPY_MODEL_792aeb638e014e169d1a4fad237ec092",
       "value": 1595
      }
     }
    },
    "version_major": 2,
    "version_minor": 0
   }
  }
 },
 "nbformat": 4,
 "nbformat_minor": 5
}
