{
 "cells": [
  {
   "cell_type": "code",
   "execution_count": 1,
   "id": "14bf5794-71d5-4c88-b534-b2fd0db7e867",
   "metadata": {
    "tags": []
   },
   "outputs": [],
   "source": [
    "import os\n",
    "import pytorch_lightning as pl\n",
    "import pandas as pd\n",
    "\n",
    "from rdkit import Chem # safe import before ccdc imports\n",
    "from torch_geometric.loader import DataLoader\n",
    "from torch.utils.data import ConcatDataset\n",
    "\n",
    "from conf_ensemble_dataset_in_memory import ConfEnsembleDataset\n",
    "from data_split import DataSplit, MoleculeSplit, ProteinSplit\n",
    "from litschnet import LitSchNet\n",
    "from molsize_model import MolSizeModel\n",
    "from pytorch_lightning.callbacks.early_stopping import EarlyStopping\n",
    "from pytorch_lightning.loggers import TensorBoardLogger\n",
    "from tqdm import tqdm"
   ]
  },
  {
   "cell_type": "code",
   "execution_count": 2,
   "id": "f664e6ee-7691-4f2f-b9cc-a768e12372d9",
   "metadata": {},
   "outputs": [],
   "source": [
    "from rdkit import RDLogger\n",
    "RDLogger.DisableLog('rdApp.*')"
   ]
  },
  {
   "cell_type": "code",
   "execution_count": 3,
   "id": "0a6e3d43-8fa2-4693-b4c3-08a4ce31d9bc",
   "metadata": {},
   "outputs": [
    {
     "name": "stderr",
     "output_type": "stream",
     "text": [
      "Global seed set to 42\n"
     ]
    },
    {
     "data": {
      "text/plain": [
       "42"
      ]
     },
     "execution_count": 3,
     "metadata": {},
     "output_type": "execute_result"
    }
   ],
   "source": [
    "pl.seed_everything(42, workers=True)"
   ]
  },
  {
   "cell_type": "markdown",
   "id": "a8cce14b-71e8-4987-aa40-acf9868528c1",
   "metadata": {},
   "source": [
    "# Data preparation"
   ]
  },
  {
   "cell_type": "code",
   "execution_count": 4,
   "id": "0041e450-1fc1-442d-a519-cbc952a1f354",
   "metadata": {},
   "outputs": [],
   "source": [
    "splits = ['random', 'scaffold', 'protein']"
   ]
  },
  {
   "cell_type": "code",
   "execution_count": 5,
   "id": "36ee981f-9a29-43ab-8ccd-6ea54ba5b6bc",
   "metadata": {
    "tags": []
   },
   "outputs": [],
   "source": [
    "def get_loaders(data_split: DataSplit) :\n",
    "    \n",
    "    train_dataset = ConfEnsembleDataset(data_split, 'train')\n",
    "    val_dataset = ConfEnsembleDataset(data_split, 'val')\n",
    "    test_dataset = ConfEnsembleDataset(data_split, 'test')\n",
    "\n",
    "    train_loader = DataLoader(train_dataset, batch_size=64, shuffle=True, num_workers=4)\n",
    "    val_loader = DataLoader(val_dataset, batch_size=64, shuffle=False, num_workers=4)\n",
    "    test_loader = DataLoader(test_dataset, batch_size=64, shuffle=False, num_workers=4)\n",
    "    \n",
    "    return train_loader, val_loader, test_loader"
   ]
  },
  {
   "cell_type": "code",
   "execution_count": 6,
   "id": "0dcfc478-b0ce-4506-a7c9-e8573d30c12a",
   "metadata": {
    "scrolled": true,
    "tags": []
   },
   "outputs": [
    {
     "name": "stderr",
     "output_type": "stream",
     "text": [
      "Processing...\n",
      "  2%|▊                                      | 196/10154 [01:38<55:55,  2.97it/s]"
     ]
    },
    {
     "name": "stdout",
     "output_type": "stream",
     "text": [
      "File error: Bad input file data/all_conf_ensembles/268.sdf\n",
      "Error processing CO[C@@H]1O[C@@H](C)[C@@H](O)[C@@H](O)[C@@H]1O\n",
      "data/all_conf_ensembles/268.sdf does not exist\n",
      "File error: Bad input file data/all_conf_ensembles/269.sdf\n",
      "Error processing CC(C)(C)c1cc(NC(=O)Nc2cccc(Cl)c2Cl)n(-c2cccc(CC(N)=O)c2)n1\n",
      "data/all_conf_ensembles/269.sdf does not exist\n",
      "File error: Bad input file data/all_conf_ensembles/270.sdf\n",
      "Error processing CC(=S)N[C@H]1[C@H](O[C@@H]2[C@@H](CO)O[C@@H]3SC(C)=N[C@@H]3[C@H]2O)O[C@H](CO)[C@@H](O)[C@@H]1O\n",
      "data/all_conf_ensembles/270.sdf does not exist\n",
      "File error: Bad input file data/all_conf_ensembles/272.sdf\n",
      "Error processing OC[C@@H]1[C@@H](O)[C@H](O)[C@@H](O)c2nccn21\n",
      "data/all_conf_ensembles/272.sdf does not exist\n",
      "File error: Bad input file data/all_conf_ensembles/273.sdf\n",
      "Error processing C[C@@H](Oc1cc(-c2cc(-c3cc(C[NH+](C)C)cs3)cnc2N)ccc1C(N)=O)c1ccccc1C(F)(F)F\n",
      "data/all_conf_ensembles/273.sdf does not exist\n",
      "File error: Bad input file data/all_conf_ensembles/274.sdf\n",
      "Error processing c1ccc2c(NCCCCCCCNc3c4c(nc5ccccc35)CCCC4)c3c(nc2c1)CCCC3\n",
      "data/all_conf_ensembles/274.sdf does not exist\n",
      "File error: Bad input file data/all_conf_ensembles/275.sdf\n",
      "Error processing Nc1c2c(nc3ccccc13)CCCC2\n",
      "data/all_conf_ensembles/275.sdf does not exist\n",
      "File error: Bad input file data/all_conf_ensembles/276.sdf\n",
      "Error processing Cc1cc(=N)c2ccccc2n1CCCCCCCCCCN1c2ccccc2C(N)=CC1C\n",
      "data/all_conf_ensembles/276.sdf does not exist\n",
      "File error: Bad input file data/all_conf_ensembles/277.sdf\n",
      "Error processing O=C(N/N=C/c1cc(O)c(O)c(O)c1)c1cc(O)c(O)c(O)c1\n",
      "data/all_conf_ensembles/277.sdf does not exist\n",
      "File error: Bad input file data/all_conf_ensembles/278.sdf\n",
      "Error processing O=C([O-])[C@@H]1CCC(=O)N1C[C@@H](O)[C@@H](O)[C@H](O)[C@H](O)CO\n",
      "data/all_conf_ensembles/278.sdf does not exist\n",
      "File error: Bad input file data/all_conf_ensembles/280.sdf\n",
      "Error processing O=C(CC[NH2+]Cc1ccc(-c2ccccc2)c(Cl)c1)NCCC(=O)Nc1cccc(C(=O)[O-])c1\n",
      "data/all_conf_ensembles/280.sdf does not exist\n",
      "File error: Bad input file data/all_conf_ensembles/281.sdf\n",
      "Error processing Cc1cccc(C[C@H](NC(=O)C(c2ccccc2)c2ccccc2)C(=O)NCC=N)c1\n",
      "data/all_conf_ensembles/281.sdf does not exist\n",
      "File error: Bad input file data/all_conf_ensembles/282.sdf\n",
      "Error processing C[C@H](NC(=O)C[N@H+]1CCc2cccc3c2[C@@H]1C[NH2+][C@@H]3O)C(=O)N1CCC(c2ccc(F)cc2)CC1\n",
      "data/all_conf_ensembles/282.sdf does not exist\n",
      "File error: Bad input file data/all_conf_ensembles/283.sdf\n",
      "Error processing Cc1cc2c(cc1N1Cc3cn(Cc4ccccc4)c(=O)cc3NC1=O)O[C@@H](c1ncccc1F)CC2\n",
      "data/all_conf_ensembles/283.sdf does not exist\n",
      "File error: Bad input file data/all_conf_ensembles/285.sdf\n",
      "Error processing CNc1nc2cc3[nH]c(NC)nc3cc2c(=O)[nH]1\n",
      "data/all_conf_ensembles/285.sdf does not exist\n",
      "File error: Bad input file data/all_conf_ensembles/287.sdf\n",
      "Error processing Cc1cn([C@H]2C[C@H](O)[C@@H](CO)O2)c(=O)[nH]c1=O\n",
      "data/all_conf_ensembles/287.sdf does not exist\n",
      "File error: Bad input file data/all_conf_ensembles/288.sdf\n",
      "Error processing CC(C)n1ncc2c1C(=O)CC1(CCN(C(=O)c3ccc4n[nH]cc4c3)CC1)C2\n",
      "data/all_conf_ensembles/288.sdf does not exist\n"
     ]
    },
    {
     "name": "stderr",
     "output_type": "stream",
     "text": [
      "  5%|█▉                                   | 530/10154 [03:53<1:10:37,  2.27it/s]\n"
     ]
    },
    {
     "ename": "KeyboardInterrupt",
     "evalue": "",
     "output_type": "error",
     "traceback": [
      "\u001b[0;31m---------------------------------------------------------------------------\u001b[0m",
      "\u001b[0;31mKeyboardInterrupt\u001b[0m                         Traceback (most recent call last)",
      "\u001b[0;32m/tmp/ipykernel_131828/1202149999.py\u001b[0m in \u001b[0;36m<module>\u001b[0;34m\u001b[0m\n\u001b[1;32m     10\u001b[0m             \u001b[0mdata_split\u001b[0m \u001b[0;34m=\u001b[0m \u001b[0mProteinSplit\u001b[0m\u001b[0;34m(\u001b[0m\u001b[0msplit_type\u001b[0m\u001b[0;34m,\u001b[0m \u001b[0msplit_i\u001b[0m\u001b[0;34m)\u001b[0m\u001b[0;34m\u001b[0m\u001b[0;34m\u001b[0m\u001b[0m\n\u001b[1;32m     11\u001b[0m \u001b[0;34m\u001b[0m\u001b[0m\n\u001b[0;32m---> 12\u001b[0;31m         \u001b[0mtrain_loader\u001b[0m\u001b[0;34m,\u001b[0m \u001b[0mval_loader\u001b[0m\u001b[0;34m,\u001b[0m \u001b[0mtest_loader\u001b[0m \u001b[0;34m=\u001b[0m \u001b[0mget_loaders\u001b[0m\u001b[0;34m(\u001b[0m\u001b[0mdata_split\u001b[0m\u001b[0;34m)\u001b[0m\u001b[0;34m\u001b[0m\u001b[0;34m\u001b[0m\u001b[0m\n\u001b[0m\u001b[1;32m     13\u001b[0m \u001b[0;34m\u001b[0m\u001b[0m\n\u001b[1;32m     14\u001b[0m         \u001b[0mexperiment_name\u001b[0m \u001b[0;34m=\u001b[0m \u001b[0;34mf'{split_type}_split_{split_i}'\u001b[0m\u001b[0;34m\u001b[0m\u001b[0;34m\u001b[0m\u001b[0m\n",
      "\u001b[0;32m/tmp/ipykernel_131828/2818946037.py\u001b[0m in \u001b[0;36mget_loaders\u001b[0;34m(data_split)\u001b[0m\n\u001b[1;32m      1\u001b[0m \u001b[0;32mdef\u001b[0m \u001b[0mget_loaders\u001b[0m\u001b[0;34m(\u001b[0m\u001b[0mdata_split\u001b[0m\u001b[0;34m:\u001b[0m \u001b[0mDataSplit\u001b[0m\u001b[0;34m)\u001b[0m \u001b[0;34m:\u001b[0m\u001b[0;34m\u001b[0m\u001b[0;34m\u001b[0m\u001b[0m\n\u001b[1;32m      2\u001b[0m \u001b[0;34m\u001b[0m\u001b[0m\n\u001b[0;32m----> 3\u001b[0;31m     \u001b[0mtrain_dataset\u001b[0m \u001b[0;34m=\u001b[0m \u001b[0mConfEnsembleDataset\u001b[0m\u001b[0;34m(\u001b[0m\u001b[0mdata_split\u001b[0m\u001b[0;34m,\u001b[0m \u001b[0;34m'train'\u001b[0m\u001b[0;34m)\u001b[0m\u001b[0;34m\u001b[0m\u001b[0;34m\u001b[0m\u001b[0m\n\u001b[0m\u001b[1;32m      4\u001b[0m     \u001b[0mval_dataset\u001b[0m \u001b[0;34m=\u001b[0m \u001b[0mConfEnsembleDataset\u001b[0m\u001b[0;34m(\u001b[0m\u001b[0mdata_split\u001b[0m\u001b[0;34m,\u001b[0m \u001b[0;34m'val'\u001b[0m\u001b[0;34m)\u001b[0m\u001b[0;34m\u001b[0m\u001b[0;34m\u001b[0m\u001b[0m\n\u001b[1;32m      5\u001b[0m     \u001b[0mtest_dataset\u001b[0m \u001b[0;34m=\u001b[0m \u001b[0mConfEnsembleDataset\u001b[0m\u001b[0;34m(\u001b[0m\u001b[0mdata_split\u001b[0m\u001b[0;34m,\u001b[0m \u001b[0;34m'test'\u001b[0m\u001b[0;34m)\u001b[0m\u001b[0;34m\u001b[0m\u001b[0;34m\u001b[0m\u001b[0m\n",
      "\u001b[0;32m~/bioactive_conformation_predictor/conf_ensemble_dataset_in_memory.py\u001b[0m in \u001b[0;36m__init__\u001b[0;34m(self, data_split, dataset, root, filter_out_bioactive)\u001b[0m\n\u001b[1;32m     38\u001b[0m         \u001b[0mself\u001b[0m\u001b[0;34m.\u001b[0m\u001b[0mmolecule_featurizer\u001b[0m \u001b[0;34m=\u001b[0m \u001b[0mMoleculeFeaturizer\u001b[0m\u001b[0;34m(\u001b[0m\u001b[0;34m)\u001b[0m\u001b[0;34m\u001b[0m\u001b[0;34m\u001b[0m\u001b[0m\n\u001b[1;32m     39\u001b[0m \u001b[0;34m\u001b[0m\u001b[0m\n\u001b[0;32m---> 40\u001b[0;31m         \u001b[0msuper\u001b[0m\u001b[0;34m(\u001b[0m\u001b[0;34m)\u001b[0m\u001b[0;34m.\u001b[0m\u001b[0m__init__\u001b[0m\u001b[0;34m(\u001b[0m\u001b[0mroot\u001b[0m\u001b[0;34m=\u001b[0m\u001b[0mroot\u001b[0m\u001b[0;34m)\u001b[0m \u001b[0;31m# calls the process functions\u001b[0m\u001b[0;34m\u001b[0m\u001b[0;34m\u001b[0m\u001b[0m\n\u001b[0m\u001b[1;32m     41\u001b[0m \u001b[0;34m\u001b[0m\u001b[0m\n\u001b[1;32m     42\u001b[0m     \u001b[0;34m@\u001b[0m\u001b[0mproperty\u001b[0m\u001b[0;34m\u001b[0m\u001b[0;34m\u001b[0m\u001b[0m\n",
      "\u001b[0;32m~/anaconda3/envs/GeoMol/lib/python3.7/site-packages/torch_geometric/data/in_memory_dataset.py\u001b[0m in \u001b[0;36m__init__\u001b[0;34m(self, root, transform, pre_transform, pre_filter)\u001b[0m\n\u001b[1;32m     55\u001b[0m                  \u001b[0mpre_transform\u001b[0m\u001b[0;34m:\u001b[0m \u001b[0mOptional\u001b[0m\u001b[0;34m[\u001b[0m\u001b[0mCallable\u001b[0m\u001b[0;34m]\u001b[0m \u001b[0;34m=\u001b[0m \u001b[0;32mNone\u001b[0m\u001b[0;34m,\u001b[0m\u001b[0;34m\u001b[0m\u001b[0;34m\u001b[0m\u001b[0m\n\u001b[1;32m     56\u001b[0m                  pre_filter: Optional[Callable] = None):\n\u001b[0;32m---> 57\u001b[0;31m         \u001b[0msuper\u001b[0m\u001b[0;34m(\u001b[0m\u001b[0;34m)\u001b[0m\u001b[0;34m.\u001b[0m\u001b[0m__init__\u001b[0m\u001b[0;34m(\u001b[0m\u001b[0mroot\u001b[0m\u001b[0;34m,\u001b[0m \u001b[0mtransform\u001b[0m\u001b[0;34m,\u001b[0m \u001b[0mpre_transform\u001b[0m\u001b[0;34m,\u001b[0m \u001b[0mpre_filter\u001b[0m\u001b[0;34m)\u001b[0m\u001b[0;34m\u001b[0m\u001b[0;34m\u001b[0m\u001b[0m\n\u001b[0m\u001b[1;32m     58\u001b[0m         \u001b[0mself\u001b[0m\u001b[0;34m.\u001b[0m\u001b[0mdata\u001b[0m \u001b[0;34m=\u001b[0m \u001b[0;32mNone\u001b[0m\u001b[0;34m\u001b[0m\u001b[0;34m\u001b[0m\u001b[0m\n\u001b[1;32m     59\u001b[0m         \u001b[0mself\u001b[0m\u001b[0;34m.\u001b[0m\u001b[0mslices\u001b[0m \u001b[0;34m=\u001b[0m \u001b[0;32mNone\u001b[0m\u001b[0;34m\u001b[0m\u001b[0;34m\u001b[0m\u001b[0m\n",
      "\u001b[0;32m~/anaconda3/envs/GeoMol/lib/python3.7/site-packages/torch_geometric/data/dataset.py\u001b[0m in \u001b[0;36m__init__\u001b[0;34m(self, root, transform, pre_transform, pre_filter)\u001b[0m\n\u001b[1;32m     86\u001b[0m \u001b[0;34m\u001b[0m\u001b[0m\n\u001b[1;32m     87\u001b[0m         \u001b[0;32mif\u001b[0m \u001b[0;34m'process'\u001b[0m \u001b[0;32min\u001b[0m \u001b[0mself\u001b[0m\u001b[0;34m.\u001b[0m\u001b[0m__class__\u001b[0m\u001b[0;34m.\u001b[0m\u001b[0m__dict__\u001b[0m\u001b[0;34m:\u001b[0m\u001b[0;34m\u001b[0m\u001b[0;34m\u001b[0m\u001b[0m\n\u001b[0;32m---> 88\u001b[0;31m             \u001b[0mself\u001b[0m\u001b[0;34m.\u001b[0m\u001b[0m_process\u001b[0m\u001b[0;34m(\u001b[0m\u001b[0;34m)\u001b[0m\u001b[0;34m\u001b[0m\u001b[0;34m\u001b[0m\u001b[0m\n\u001b[0m\u001b[1;32m     89\u001b[0m \u001b[0;34m\u001b[0m\u001b[0m\n\u001b[1;32m     90\u001b[0m     \u001b[0;32mdef\u001b[0m \u001b[0mindices\u001b[0m\u001b[0;34m(\u001b[0m\u001b[0mself\u001b[0m\u001b[0;34m)\u001b[0m \u001b[0;34m->\u001b[0m \u001b[0mSequence\u001b[0m\u001b[0;34m:\u001b[0m\u001b[0;34m\u001b[0m\u001b[0;34m\u001b[0m\u001b[0m\n",
      "\u001b[0;32m~/anaconda3/envs/GeoMol/lib/python3.7/site-packages/torch_geometric/data/dataset.py\u001b[0m in \u001b[0;36m_process\u001b[0;34m(self)\u001b[0m\n\u001b[1;32m    169\u001b[0m \u001b[0;34m\u001b[0m\u001b[0m\n\u001b[1;32m    170\u001b[0m         \u001b[0mmakedirs\u001b[0m\u001b[0;34m(\u001b[0m\u001b[0mself\u001b[0m\u001b[0;34m.\u001b[0m\u001b[0mprocessed_dir\u001b[0m\u001b[0;34m)\u001b[0m\u001b[0;34m\u001b[0m\u001b[0;34m\u001b[0m\u001b[0m\n\u001b[0;32m--> 171\u001b[0;31m         \u001b[0mself\u001b[0m\u001b[0;34m.\u001b[0m\u001b[0mprocess\u001b[0m\u001b[0;34m(\u001b[0m\u001b[0;34m)\u001b[0m\u001b[0;34m\u001b[0m\u001b[0;34m\u001b[0m\u001b[0m\n\u001b[0m\u001b[1;32m    172\u001b[0m \u001b[0;34m\u001b[0m\u001b[0m\n\u001b[1;32m    173\u001b[0m         \u001b[0mpath\u001b[0m \u001b[0;34m=\u001b[0m \u001b[0mosp\u001b[0m\u001b[0;34m.\u001b[0m\u001b[0mjoin\u001b[0m\u001b[0;34m(\u001b[0m\u001b[0mself\u001b[0m\u001b[0;34m.\u001b[0m\u001b[0mprocessed_dir\u001b[0m\u001b[0;34m,\u001b[0m \u001b[0;34m'pre_transform.pt'\u001b[0m\u001b[0;34m)\u001b[0m\u001b[0;34m\u001b[0m\u001b[0;34m\u001b[0m\u001b[0m\n",
      "\u001b[0;32m~/bioactive_conformation_predictor/conf_ensemble_dataset_in_memory.py\u001b[0m in \u001b[0;36mprocess\u001b[0;34m(self)\u001b[0m\n\u001b[1;32m     97\u001b[0m                 data_list = self.molecule_featurizer.featurize_mol(mol, \n\u001b[1;32m     98\u001b[0m                                                                 mol_ids=mol_ids)\n\u001b[0;32m---> 99\u001b[0;31m                 \u001b[0mrmsds\u001b[0m \u001b[0;34m=\u001b[0m \u001b[0mself\u001b[0m\u001b[0;34m.\u001b[0m\u001b[0mmolecule_featurizer\u001b[0m\u001b[0;34m.\u001b[0m\u001b[0mget_bioactive_rmsds\u001b[0m\u001b[0;34m(\u001b[0m\u001b[0mmol\u001b[0m\u001b[0;34m)\u001b[0m\u001b[0;34m\u001b[0m\u001b[0;34m\u001b[0m\u001b[0m\n\u001b[0m\u001b[1;32m    100\u001b[0m                 \u001b[0;32mfor\u001b[0m \u001b[0mi\u001b[0m\u001b[0;34m,\u001b[0m \u001b[0mdata\u001b[0m \u001b[0;32min\u001b[0m \u001b[0menumerate\u001b[0m\u001b[0;34m(\u001b[0m\u001b[0mdata_list\u001b[0m\u001b[0;34m)\u001b[0m \u001b[0;34m:\u001b[0m\u001b[0;34m\u001b[0m\u001b[0;34m\u001b[0m\u001b[0m\n\u001b[1;32m    101\u001b[0m                     \u001b[0mdata\u001b[0m\u001b[0;34m.\u001b[0m\u001b[0mrmsd\u001b[0m \u001b[0;34m=\u001b[0m \u001b[0mrmsds\u001b[0m\u001b[0;34m[\u001b[0m\u001b[0mi\u001b[0m\u001b[0;34m]\u001b[0m\u001b[0;34m\u001b[0m\u001b[0;34m\u001b[0m\u001b[0m\n",
      "\u001b[0;32m~/bioactive_conformation_predictor/molecule_featurizer.py\u001b[0m in \u001b[0;36mget_bioactive_rmsds\u001b[0;34m(self, rdkit_mol, rmsd_func)\u001b[0m\n\u001b[1;32m    159\u001b[0m                         \u001b[0mtested_ccdc_mol\u001b[0m \u001b[0;34m=\u001b[0m \u001b[0mself\u001b[0m\u001b[0;34m.\u001b[0m\u001b[0mccdc_rdkit_connector\u001b[0m\u001b[0;34m.\u001b[0m\u001b[0mrdkit_conf_to_ccdc_mol\u001b[0m\u001b[0;34m(\u001b[0m\u001b[0mrdkit_mol\u001b[0m\u001b[0;34m,\u001b[0m \u001b[0mconf_id\u001b[0m\u001b[0;34m)\u001b[0m\u001b[0;34m\u001b[0m\u001b[0;34m\u001b[0m\u001b[0m\n\u001b[1;32m    160\u001b[0m                         \u001b[0mbioactive_ccdc_mol\u001b[0m \u001b[0;34m=\u001b[0m \u001b[0mself\u001b[0m\u001b[0;34m.\u001b[0m\u001b[0mccdc_rdkit_connector\u001b[0m\u001b[0;34m.\u001b[0m\u001b[0mrdkit_conf_to_ccdc_mol\u001b[0m\u001b[0;34m(\u001b[0m\u001b[0mrdkit_mol\u001b[0m\u001b[0;34m,\u001b[0m \u001b[0mbioactive_conf_id\u001b[0m\u001b[0;34m)\u001b[0m\u001b[0;34m\u001b[0m\u001b[0;34m\u001b[0m\u001b[0m\n\u001b[0;32m--> 161\u001b[0;31m                         \u001b[0mrmsd\u001b[0m \u001b[0;34m=\u001b[0m \u001b[0mMolecularDescriptors\u001b[0m\u001b[0;34m.\u001b[0m\u001b[0mrmsd\u001b[0m\u001b[0;34m(\u001b[0m\u001b[0mtested_ccdc_mol\u001b[0m\u001b[0;34m,\u001b[0m \u001b[0mbioactive_ccdc_mol\u001b[0m\u001b[0;34m,\u001b[0m \u001b[0moverlay\u001b[0m\u001b[0;34m=\u001b[0m\u001b[0;32mTrue\u001b[0m\u001b[0;34m)\u001b[0m\u001b[0;34m\u001b[0m\u001b[0;34m\u001b[0m\u001b[0m\n\u001b[0m\u001b[1;32m    162\u001b[0m                     \u001b[0;32melse\u001b[0m \u001b[0;34m:\u001b[0m\u001b[0;34m\u001b[0m\u001b[0;34m\u001b[0m\u001b[0m\n\u001b[1;32m    163\u001b[0m                         \u001b[0mrmsd\u001b[0m \u001b[0;34m=\u001b[0m \u001b[0mGetBestRMS\u001b[0m\u001b[0;34m(\u001b[0m\u001b[0mrdkit_mol\u001b[0m\u001b[0;34m,\u001b[0m \u001b[0mrdkit_mol\u001b[0m\u001b[0;34m,\u001b[0m \u001b[0mconf_id\u001b[0m\u001b[0;34m,\u001b[0m \u001b[0mbioactive_conf_id\u001b[0m\u001b[0;34m,\u001b[0m \u001b[0mmaxMatches\u001b[0m\u001b[0;34m=\u001b[0m\u001b[0;36m1000\u001b[0m\u001b[0;34m)\u001b[0m\u001b[0;34m\u001b[0m\u001b[0;34m\u001b[0m\u001b[0m\n",
      "\u001b[0;32m~/anaconda3/envs/GeoMol/lib/python3.7/site-packages/ccdc/descriptors.py\u001b[0m in \u001b[0;36mrmsd\u001b[0;34m(mol1, mol2, atoms, overlay, exclude_hydrogens, with_symmetry)\u001b[0m\n\u001b[1;32m    345\u001b[0m         '''\n\u001b[1;32m    346\u001b[0m         \u001b[0;32mif\u001b[0m \u001b[0moverlay\u001b[0m\u001b[0;34m:\u001b[0m\u001b[0;34m\u001b[0m\u001b[0;34m\u001b[0m\u001b[0m\n\u001b[0;32m--> 347\u001b[0;31m             \u001b[0mmol2\u001b[0m \u001b[0;34m=\u001b[0m \u001b[0mMolecularDescriptors\u001b[0m\u001b[0;34m.\u001b[0m\u001b[0moverlay\u001b[0m\u001b[0;34m(\u001b[0m\u001b[0mmol1\u001b[0m\u001b[0;34m,\u001b[0m \u001b[0mmol2\u001b[0m\u001b[0;34m,\u001b[0m \u001b[0matoms\u001b[0m\u001b[0;34m,\u001b[0m \u001b[0mwith_symmetry\u001b[0m\u001b[0;34m=\u001b[0m\u001b[0mwith_symmetry\u001b[0m\u001b[0;34m)\u001b[0m\u001b[0;34m\u001b[0m\u001b[0;34m\u001b[0m\u001b[0m\n\u001b[0m\u001b[1;32m    348\u001b[0m         \u001b[0;32mif\u001b[0m \u001b[0mwith_symmetry\u001b[0m\u001b[0;34m:\u001b[0m\u001b[0;34m\u001b[0m\u001b[0;34m\u001b[0m\u001b[0m\n\u001b[1;32m    349\u001b[0m             \u001b[0msymm\u001b[0m \u001b[0;34m=\u001b[0m \u001b[0mChemicalAnalysisLib\u001b[0m\u001b[0;34m.\u001b[0m\u001b[0mWITH_SYMMETRY\u001b[0m\u001b[0;34m\u001b[0m\u001b[0;34m\u001b[0m\u001b[0m\n",
      "\u001b[0;32m~/anaconda3/envs/GeoMol/lib/python3.7/site-packages/ccdc/descriptors.py\u001b[0m in \u001b[0;36moverlay\u001b[0;34m(mol1, mol2, atoms, invert, rotate_torsions, with_symmetry)\u001b[0m\n\u001b[1;32m    330\u001b[0m         \u001b[0mNote\u001b[0m\u001b[0;34m:\u001b[0m \u001b[0;32mif\u001b[0m \u001b[0mwith_symmetry\u001b[0m \u001b[0;32mis\u001b[0m \u001b[0mtrue\u001b[0m\u001b[0;34m,\u001b[0m \u001b[0;32mand\u001b[0m \u001b[0mmatching\u001b[0m \u001b[0matoms\u001b[0m \u001b[0mare\u001b[0m \u001b[0mprovided\u001b[0m\u001b[0;34m,\u001b[0m \u001b[0mthen\u001b[0m \u001b[0mthe\u001b[0m \u001b[0mmatching\u001b[0m \u001b[0matoms\u001b[0m \u001b[0mneed\u001b[0m \u001b[0mto\u001b[0m \u001b[0mform\u001b[0m \u001b[0ma\u001b[0m \u001b[0mconnected\u001b[0m \u001b[0mstructure\u001b[0m\u001b[0;34m.\u001b[0m\u001b[0;34m\u001b[0m\u001b[0;34m\u001b[0m\u001b[0m\n\u001b[1;32m    331\u001b[0m         '''\n\u001b[0;32m--> 332\u001b[0;31m         \u001b[0;32mreturn\u001b[0m \u001b[0mMolecularDescriptors\u001b[0m\u001b[0;34m.\u001b[0m\u001b[0moverlay_rmsds_and_transformation\u001b[0m\u001b[0;34m(\u001b[0m\u001b[0mmol1\u001b[0m\u001b[0;34m,\u001b[0m\u001b[0mmol2\u001b[0m\u001b[0;34m,\u001b[0m\u001b[0matoms\u001b[0m\u001b[0;34m,\u001b[0m\u001b[0minvert\u001b[0m\u001b[0;34m,\u001b[0m\u001b[0mrotate_torsions\u001b[0m\u001b[0;34m,\u001b[0m\u001b[0mwith_symmetry\u001b[0m\u001b[0;34m)\u001b[0m\u001b[0;34m[\u001b[0m\u001b[0;36m0\u001b[0m\u001b[0;34m]\u001b[0m\u001b[0;34m\u001b[0m\u001b[0;34m\u001b[0m\u001b[0m\n\u001b[0m\u001b[1;32m    333\u001b[0m \u001b[0;34m\u001b[0m\u001b[0m\n\u001b[1;32m    334\u001b[0m     \u001b[0;34m@\u001b[0m\u001b[0mstaticmethod\u001b[0m\u001b[0;34m\u001b[0m\u001b[0;34m\u001b[0m\u001b[0m\n",
      "\u001b[0;32m~/anaconda3/envs/GeoMol/lib/python3.7/site-packages/ccdc/descriptors.py\u001b[0m in \u001b[0;36moverlay_rmsds_and_transformation\u001b[0;34m(mol1, mol2, atoms, invert, rotate_torsions, with_symmetry)\u001b[0m\n\u001b[1;32m    232\u001b[0m                  \u001b[0;32mand\u001b[0m \u001b[0mthe\u001b[0m \u001b[0moverlay\u001b[0m \u001b[0mtransformation\u001b[0m \u001b[0;32mas\u001b[0m \u001b[0mentry\u001b[0m \u001b[0;36m3\u001b[0m\u001b[0;34m\u001b[0m\u001b[0;34m\u001b[0m\u001b[0m\n\u001b[1;32m    233\u001b[0m         '''\n\u001b[0;32m--> 234\u001b[0;31m         \u001b[0mm2\u001b[0m \u001b[0;34m=\u001b[0m \u001b[0mmol1\u001b[0m\u001b[0;34m.\u001b[0m\u001b[0mcopy\u001b[0m\u001b[0;34m(\u001b[0m\u001b[0;34m)\u001b[0m\u001b[0;34m\u001b[0m\u001b[0;34m\u001b[0m\u001b[0m\n\u001b[0m\u001b[1;32m    235\u001b[0m         \u001b[0mm1\u001b[0m \u001b[0;34m=\u001b[0m \u001b[0mmol2\u001b[0m\u001b[0;34m.\u001b[0m\u001b[0mcopy\u001b[0m\u001b[0;34m(\u001b[0m\u001b[0;34m)\u001b[0m\u001b[0;34m\u001b[0m\u001b[0;34m\u001b[0m\u001b[0m\n\u001b[1;32m    236\u001b[0m         \u001b[0;32mif\u001b[0m \u001b[0matoms\u001b[0m \u001b[0;32mis\u001b[0m \u001b[0;32mnot\u001b[0m \u001b[0;32mNone\u001b[0m\u001b[0;34m:\u001b[0m\u001b[0;34m\u001b[0m\u001b[0;34m\u001b[0m\u001b[0m\n",
      "\u001b[0;32m~/anaconda3/envs/GeoMol/lib/python3.7/site-packages/ccdc/molecule.py\u001b[0m in \u001b[0;36mcopy\u001b[0;34m(self)\u001b[0m\n\u001b[1;32m   1622\u001b[0m         return Molecule(\n\u001b[1;32m   1623\u001b[0m             \u001b[0mself\u001b[0m\u001b[0;34m.\u001b[0m\u001b[0midentifier\u001b[0m\u001b[0;34m,\u001b[0m\u001b[0;34m\u001b[0m\u001b[0;34m\u001b[0m\u001b[0m\n\u001b[0;32m-> 1624\u001b[0;31m             \u001b[0m_molecule\u001b[0m\u001b[0;34m=\u001b[0m\u001b[0mself\u001b[0m\u001b[0;34m.\u001b[0m\u001b[0m_molecule\u001b[0m\u001b[0;34m.\u001b[0m\u001b[0mclone\u001b[0m\u001b[0;34m(\u001b[0m\u001b[0;34m)\u001b[0m\u001b[0;34m.\u001b[0m\u001b[0mcreate_editable_molecule\u001b[0m\u001b[0;34m(\u001b[0m\u001b[0;34m)\u001b[0m\u001b[0;34m\u001b[0m\u001b[0;34m\u001b[0m\u001b[0m\n\u001b[0m\u001b[1;32m   1625\u001b[0m         )\n\u001b[1;32m   1626\u001b[0m \u001b[0;34m\u001b[0m\u001b[0m\n",
      "\u001b[0;32m~/anaconda3/envs/GeoMol/lib/python3.7/site-packages/ccdc/_lib/ChemistryLib.py\u001b[0m in \u001b[0;36mcreate_editable_molecule\u001b[0;34m(self)\u001b[0m\n\u001b[1;32m   3831\u001b[0m \u001b[0;34m\u001b[0m\u001b[0m\n\u001b[1;32m   3832\u001b[0m     \u001b[0;32mdef\u001b[0m \u001b[0mcreate_editable_molecule\u001b[0m\u001b[0;34m(\u001b[0m\u001b[0mself\u001b[0m\u001b[0;34m)\u001b[0m\u001b[0;34m:\u001b[0m\u001b[0;34m\u001b[0m\u001b[0;34m\u001b[0m\u001b[0m\n\u001b[0;32m-> 3833\u001b[0;31m         \u001b[0;32mreturn\u001b[0m \u001b[0m_ChemistryLib\u001b[0m\u001b[0;34m.\u001b[0m\u001b[0mMolecule_create_editable_molecule\u001b[0m\u001b[0;34m(\u001b[0m\u001b[0mself\u001b[0m\u001b[0;34m)\u001b[0m\u001b[0;34m\u001b[0m\u001b[0;34m\u001b[0m\u001b[0m\n\u001b[0m\u001b[1;32m   3834\u001b[0m \u001b[0;34m\u001b[0m\u001b[0m\n\u001b[1;32m   3835\u001b[0m     \u001b[0;32mdef\u001b[0m \u001b[0mcreate_molecule\u001b[0m\u001b[0;34m(\u001b[0m\u001b[0mself\u001b[0m\u001b[0;34m,\u001b[0m \u001b[0matoms\u001b[0m\u001b[0;34m)\u001b[0m\u001b[0;34m:\u001b[0m\u001b[0;34m\u001b[0m\u001b[0;34m\u001b[0m\u001b[0m\n",
      "\u001b[0;31mKeyboardInterrupt\u001b[0m: "
     ]
    }
   ],
   "source": [
    "# for split in splits :\n",
    "# for split in ['protein', 'scaffold', 'random'] :\n",
    "for split_type in ['protein'] :\n",
    "    \n",
    "    for split_i in range(5) :\n",
    "    \n",
    "        if split_type in ['random', 'scaffold'] :\n",
    "            data_split = MoleculeSplit(split_type, split_i)\n",
    "        elif split_type == 'protein' :\n",
    "            data_split = ProteinSplit(split_type, split_i)\n",
    "            \n",
    "        train_loader, val_loader, test_loader = get_loaders(data_split)\n",
    "        \n",
    "        experiment_name = f'{split_type}_split_{split_i}'\n",
    "        if not experiment_name in os.listdir('lightning_logs') :\n",
    "            litschnet = LitSchNet()\n",
    "            logger = TensorBoardLogger(save_dir=os.getcwd(), version=experiment_name, name=\"lightning_logs\")\n",
    "            trainer = pl.Trainer(logger=logger, max_epochs=20, gpus=1)\n",
    "            trainer.fit(litschnet, train_loader, val_loader)\n",
    "            trainer.test(litschnet, test_loader)\n",
    "            \n",
    "        experiment_name = f'{split_type}_split_{split_i}_molsize'\n",
    "        if not experiment_name in os.listdir('lightning_logs') :\n",
    "            molsize_model = MolSizeModel()\n",
    "            logger = TensorBoardLogger(save_dir=os.getcwd(), version=experiment_name, name=\"lightning_logs\")\n",
    "            trainer = pl.Trainer(logger=logger, max_epochs=20, gpus=1)\n",
    "            trainer.fit(molsize_model, train_loader, val_loader)\n",
    "            trainer.test(molsize_model, test_loader)"
   ]
  },
  {
   "cell_type": "code",
   "execution_count": null,
   "id": "52e494a9-67ef-4cad-b26b-035a5232c0b8",
   "metadata": {},
   "outputs": [],
   "source": []
  },
  {
   "cell_type": "code",
   "execution_count": null,
   "id": "cee2eac1-c704-4536-87f2-4c5f6390b705",
   "metadata": {},
   "outputs": [],
   "source": [
    "from collections import defaultdict\n",
    "n_bioactive_conformations = defaultdict(list)\n",
    "n_conformations = defaultdict(list)\n",
    "data_dir = 'data/'\n",
    "\n",
    "for split in splits :\n",
    "    \n",
    "    for iteration in range(5) :\n",
    "    \n",
    "        pdbbind_chunks = [filename for filename in os.listdir(os.path.join(data_dir, 'processed')) if filename.startswith('pdbbind')]\n",
    "        pdbbind_n_chunks = len(pdbbind_chunks)\n",
    "\n",
    "        train_datasets = []\n",
    "        val_datasets = []\n",
    "        test_datasets = []\n",
    "\n",
    "        if split in ['random', 'scaffold'] :\n",
    "\n",
    "            with open(os.path.join(data_dir, f'ligand_{split}_splits', f'train_smiles_{split}_split_{iteration}.txt'), 'r') as f :\n",
    "                train_smiles = f.readlines()\n",
    "                train_smiles = [smiles.strip() for smiles in train_smiles]\n",
    "\n",
    "            with open(os.path.join(data_dir, f'ligand_{split}_splits', f'val_smiles_{split}_split_{iteration}.txt'), 'r') as f :\n",
    "                val_smiles = f.readlines()\n",
    "                val_smiles = [smiles.strip() for smiles in val_smiles]\n",
    "\n",
    "            with open(os.path.join(data_dir, f'ligand_{split}_splits', f'test_smiles_{split}_split_{iteration}.txt'), 'r') as f :\n",
    "                test_smiles = f.readlines()\n",
    "                test_smiles = [smiles.strip() for smiles in test_smiles]\n",
    "\n",
    "            for chunk_number in tqdm(range(pdbbind_n_chunks)) :\n",
    "\n",
    "                dataset = ConfEnsembleDataset(loaded_chunk=chunk_number,\n",
    "                                              smiles_list=train_smiles)\n",
    "                train_datasets.append(dataset)\n",
    "\n",
    "                dataset = ConfEnsembleDataset(loaded_chunk=chunk_number,\n",
    "                                              smiles_list=val_smiles)\n",
    "                val_datasets.append(dataset)\n",
    "\n",
    "                dataset = ConfEnsembleDataset(loaded_chunk=chunk_number,\n",
    "                                              smiles_list=test_smiles)\n",
    "                test_datasets.append(dataset)\n",
    "\n",
    "        else : #protein split\n",
    "\n",
    "            with open(os.path.join(data_dir, 'protein_similarity_splits', f'train_pdb_protein_similarity_split_{iteration}.txt'), 'r') as f :\n",
    "                train_pdbs = f.readlines()\n",
    "                train_pdbs = [pdb.strip() for pdb in train_pdbs]\n",
    "\n",
    "            with open(os.path.join(data_dir, 'protein_similarity_splits', f'val_pdb_protein_similarity_split_{iteration}.txt'), 'r') as f :\n",
    "                val_pdbs = f.readlines()\n",
    "                val_pdbs = [pdb.strip() for pdb in val_pdbs]\n",
    "\n",
    "            with open(os.path.join(data_dir, 'protein_similarity_splits', f'test_pdb_protein_similarity_split_{iteration}.txt'), 'r') as f :\n",
    "                test_pdbs = f.readlines()\n",
    "                test_pdbs = [pdb.strip() for pdb in test_pdbs]\n",
    "\n",
    "            for chunk_number in tqdm(range(pdbbind_n_chunks)) :\n",
    "\n",
    "                dataset = ConfEnsembleDataset(loaded_chunk=chunk_number,\n",
    "                                              pdb_ids_list=train_pdbs)\n",
    "                train_datasets.append(dataset)\n",
    "\n",
    "                dataset = ConfEnsembleDataset(loaded_chunk=chunk_number,\n",
    "                                              pdb_ids_list=val_pdbs)\n",
    "                val_datasets.append(dataset)\n",
    "\n",
    "                dataset = ConfEnsembleDataset(loaded_chunk=chunk_number,\n",
    "                                              pdb_ids_list=test_pdbs)\n",
    "                test_datasets.append(dataset)\n",
    "\n",
    "        train_dataset = ConcatDataset(train_datasets)\n",
    "        val_dataset = ConcatDataset(val_datasets)\n",
    "        test_dataset = ConcatDataset(test_datasets)\n",
    "        \n",
    "        d = {\n",
    "            'train' : train_dataset,\n",
    "            'val' : val_dataset,\n",
    "            'test' : test_dataset\n",
    "        }\n",
    "        for s, dataset in d.items() :\n",
    "            n_conformations[s].append(len(dataset))\n",
    "            n_bio = 0\n",
    "            for data in dataset :\n",
    "                if data.rmsd == 0 :\n",
    "                    n_bio = n_bio + 1\n",
    "            n_bioactive_conformations[s].append(n_bio)"
   ]
  },
  {
   "cell_type": "code",
   "execution_count": null,
   "id": "60229a04-0fa5-46c1-8a67-44891d3fdbc7",
   "metadata": {},
   "outputs": [],
   "source": [
    "data_dir='data/'\n",
    "pdbbind_chunks = [filename for filename in os.listdir(os.path.join(data_dir, 'processed')) if filename.startswith('pdbbind')]\n",
    "pdbbind_n_chunks = len(pdbbind_chunks)\n",
    "n_confs = 0\n",
    "n_bio = 0\n",
    "\n",
    "for chunk_number in range(pdbbind_n_chunks) :\n",
    "    dataset = ConfEnsembleDataset(loaded_chunk=chunk_number)\n",
    "    n_confs = n_confs + len(dataset)\n",
    "    for data in dataset :\n",
    "        if data.rmsd == 0 :\n",
    "            n_bio = n_bio + 1\n",
    "print(n_confs)\n",
    "print(n_bio)"
   ]
  },
  {
   "cell_type": "code",
   "execution_count": null,
   "id": "3b6f3cec-16b5-4f48-a9d6-43dd0592b31a",
   "metadata": {},
   "outputs": [],
   "source": [
    "n_conformations"
   ]
  },
  {
   "cell_type": "code",
   "execution_count": null,
   "id": "53edb44e-acbf-470a-b203-0a71010c0b1c",
   "metadata": {},
   "outputs": [],
   "source": [
    "n_bioactive_conformations"
   ]
  }
 ],
 "metadata": {
  "kernelspec": {
   "display_name": "Python 3 (ipykernel)",
   "language": "python",
   "name": "python3"
  },
  "language_info": {
   "codemirror_mode": {
    "name": "ipython",
    "version": 3
   },
   "file_extension": ".py",
   "mimetype": "text/x-python",
   "name": "python",
   "nbconvert_exporter": "python",
   "pygments_lexer": "ipython3",
   "version": "3.7.10"
  },
  "widgets": {
   "application/vnd.jupyter.widget-state+json": {
    "state": {},
    "version_major": 2,
    "version_minor": 0
   }
  }
 },
 "nbformat": 4,
 "nbformat_minor": 5
}
