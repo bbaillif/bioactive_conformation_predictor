{
 "cells": [
  {
   "cell_type": "code",
   "execution_count": 1,
   "id": "cc55cfa1-9c7b-480f-a015-865b278af11f",
   "metadata": {},
   "outputs": [],
   "source": [
    "import os\n",
    "import pickle\n",
    "import copy\n",
    "import logging\n",
    "import matplotlib.pyplot as plt\n",
    "\n",
    "from tqdm import tqdm\n",
    "from rdkit.Geometry.rdGeometry import Point3D\n",
    "from rdkit import Chem\n",
    "from ccdc.conformer import ConformerGenerator, MoleculeMinimiser\n",
    "from ccdc.molecule import Molecule\n",
    "from ConformationEnsemble import ConformationEnsembleLibrary"
   ]
  },
  {
   "cell_type": "code",
   "execution_count": 2,
   "id": "ea6ed5e0-73df-4de0-a7a8-c38596d1110b",
   "metadata": {},
   "outputs": [],
   "source": [
    "# To be able to save conformer properties\n",
    "Chem.SetDefaultPickleProperties(Chem.PropertyPickleOptions.AllProps) "
   ]
  },
  {
   "cell_type": "code",
   "execution_count": 3,
   "id": "68331f57-bc59-49a3-a798-0cb54ee8aa2c",
   "metadata": {},
   "outputs": [],
   "source": [
    "data_dir_path = 'data/'"
   ]
  },
  {
   "cell_type": "code",
   "execution_count": 4,
   "id": "92933052-a64c-48a0-bdc8-a8bf3f9f949a",
   "metadata": {},
   "outputs": [],
   "source": [
    "sdsupplier = Chem.rdmolfiles.SDMolSupplier(os.path.join(data_dir_path, 'platinum-dataset-2017-01-sdf', 'platinum_dataset_2017_01.sdf'))\n",
    "platinum_mols = [mol for mol in sdsupplier]"
   ]
  },
  {
   "cell_type": "code",
   "execution_count": 14,
   "id": "7729eafb-0fc6-45ee-92fb-1cd9d1ffbe90",
   "metadata": {},
   "outputs": [
    {
     "data": {
      "text/plain": [
       "4548"
      ]
     },
     "execution_count": 14,
     "metadata": {},
     "output_type": "execute_result"
    }
   ],
   "source": [
    "len(platinum_mols)"
   ]
  },
  {
   "cell_type": "code",
   "execution_count": 25,
   "id": "3cec7992-70d3-420e-8083-3a580d861dcf",
   "metadata": {},
   "outputs": [],
   "source": [
    "with open(os.path.join(data_dir_path, 'platinum-dataset-2017-01-sdf', 'platinum_dataset_2017_01.sdf')) as f :\n",
    "    lines = f.readlines()\n",
    "    lines = [line.strip() for line in lines]"
   ]
  },
  {
   "cell_type": "code",
   "execution_count": 45,
   "id": "9561b0cb-cd7e-415a-a420-72dcbd1dae89",
   "metadata": {},
   "outputs": [],
   "source": [
    "pdb_ids = []\n",
    "new_mol = True\n",
    "for line in lines :\n",
    "    if new_mol :\n",
    "        pdb_ids.append(line)\n",
    "        new_mol = False\n",
    "    if line == '$$$$' :\n",
    "        new_mol = True"
   ]
  },
  {
   "cell_type": "code",
   "execution_count": 50,
   "id": "3b624c8e-5406-4892-a9a8-fc33d404ccfe",
   "metadata": {},
   "outputs": [],
   "source": [
    "n_heavy_atoms = [mol.GetNumHeavyAtoms() for mol in platinum_mols]"
   ]
  },
  {
   "cell_type": "code",
   "execution_count": 51,
   "id": "8c84f8d5-2ec1-470f-be89-8e118ca15cc7",
   "metadata": {},
   "outputs": [
    {
     "data": {
      "text/plain": [
       "(array([462., 407., 654., 574., 622., 719., 463., 343., 210.,  94.]),\n",
       " array([10. , 13.4, 16.8, 20.2, 23.6, 27. , 30.4, 33.8, 37.2, 40.6, 44. ]),\n",
       " <BarContainer object of 10 artists>)"
      ]
     },
     "execution_count": 51,
     "metadata": {},
     "output_type": "execute_result"
    },
    {
     "data": {
      "image/png": "[encoded data removed]",
      "text/plain": [
       "<Figure size 432x288 with 1 Axes>"
      ]
     },
     "metadata": {
      "needs_background": "light"
     },
     "output_type": "display_data"
    }
   ],
   "source": [
    "plt.hist(n_heavy_atoms)"
   ]
  },
  {
   "cell_type": "code",
   "execution_count": 56,
   "id": "1fb70be5-6df1-494b-9e7f-67e00a4ada9c",
   "metadata": {},
   "outputs": [],
   "source": [
    "def ccdc_conformers_to_rdkit_mol(ccdc_conformers, rdkit_mol) :\n",
    "        \n",
    "    generated_conf_ids = []\n",
    "\n",
    "    for conformer in ccdc_conformers :\n",
    "        new_rdkit_conf = copy.deepcopy(rdkit_mol).GetConformer()\n",
    "        for i in range(new_rdkit_conf.GetNumAtoms()) :\n",
    "            atom = conformer.molecule.atoms[i]\n",
    "            point3d = Point3D(*atom.coordinates)\n",
    "            new_rdkit_conf.SetAtomPosition(i, point3d)\n",
    "        new_rdkit_conf.SetProp('Generator', 'CCDC')\n",
    "        conf_id = rdkit_mol.AddConformer(new_rdkit_conf, assignId=True)\n",
    "        generated_conf_ids.append(conf_id)\n",
    "\n",
    "    return generated_conf_ids"
   ]
  },
  {
   "cell_type": "code",
   "execution_count": 57,
   "id": "3d27edef-1bc5-48fd-a692-47b2ba16d497",
   "metadata": {},
   "outputs": [
    {
     "name": "stderr",
     "output_type": "stream",
     "text": [
      "100%|█████████████████████████████████████| 4548/4548 [00:01<00:00, 3685.06it/s]\n"
     ]
    }
   ],
   "source": [
    "initial_ccdc_mols = []\n",
    "corresponding_mols = []\n",
    "for i, mol in enumerate(tqdm(platinum_mols)) :\n",
    "    mol.GetConformer().SetProp('PDB_ID', pdb_ids[i])\n",
    "    mol2block = Chem.MolToMolBlock(mol)\n",
    "    ccdc_mol = Molecule.from_string(mol2block)\n",
    "    if mol.GetNumAtoms() == len(ccdc_mol.atoms) :\n",
    "        initial_ccdc_mols.append(ccdc_mol)\n",
    "        corresponding_mols.append(mol)"
   ]
  },
  {
   "cell_type": "code",
   "execution_count": 61,
   "id": "69c14575-76bc-4b37-a135-4dbfb86778a3",
   "metadata": {},
   "outputs": [],
   "source": [
    "n_mol_per_chunk = 100\n",
    "chunk_idxs = [list(range(i, i + n_mol_per_chunk)) for i in range(0, len(platinum_mols), n_mol_per_chunk)]"
   ]
  },
  {
   "cell_type": "code",
   "execution_count": 62,
   "id": "af22514a-7570-4f82-9614-74d4952c3757",
   "metadata": {},
   "outputs": [
    {
     "name": "stdout",
     "output_type": "stream",
     "text": [
      "INFO: /home/benoit/CCDC/CSD_2021/bin/mogul\n",
      "INFO: /home/benoit/CCDC/CSD_2021/bin/mogul\n",
      "INFO: /home/benoit/CCDC/CSD_2021/bin/mogul\n",
      "INFO: /home/benoit/CCDC/CSD_2021/bin/mogul\n",
      "INFO: /home/benoit/CCDC/CSD_2021/bin/mogul\n",
      "INFO: /home/benoit/CCDC/CSD_2021/bin/mogul\n",
      "INFO: /home/benoit/CCDC/CSD_2021/bin/mogul\n",
      "INFO: /home/benoit/CCDC/CSD_2021/bin/mogul\n",
      "INFO: /home/benoit/CCDC/CSD_2021/bin/mogul\n",
      "INFO: /home/benoit/CCDC/CSD_2021/bin/mogul\n",
      "INFO: /home/benoit/CCDC/CSD_2021/bin/mogul\n",
      "INFO: /home/benoit/CCDC/CSD_2021/bin/mogul\n",
      "INFO: /home/benoit/CCDC/CSD_2021/bin/mogul\n"
     ]
    }
   ],
   "source": [
    "ccdc_conformer_generator = ConformerGenerator(nthreads=12)\n",
    "ccdc_conformer_generator.settings.max_conformers = 50"
   ]
  },
  {
   "cell_type": "code",
   "execution_count": 63,
   "id": "29f082a5-7009-450e-a5f8-4cfad6c20fa2",
   "metadata": {
    "scrolled": true,
    "tags": []
   },
   "outputs": [
    {
     "name": "stderr",
     "output_type": "stream",
     "text": [
      "  0%|                                                    | 0/46 [00:00<?, ?it/s]"
     ]
    },
    {
     "name": "stdout",
     "output_type": "stream",
     "text": [
      "INFO: /home/benoit/CCDC/CSD_2021/bin/mogul\n",
      "INFO: /home/benoit/CCDC/CSD_2021/bin/mogul\n",
      "INFO: /home/benoit/CCDC/CSD_2021/bin/mogul\n",
      "INFO: /home/benoit/CCDC/CSD_2021/bin/mogul\n"
     ]
    },
    {
     "name": "stderr",
     "output_type": "stream",
     "text": [
      "  2%|▉                                           | 1/46 [00:23<17:54, 23.88s/it]"
     ]
    },
    {
     "name": "stdout",
     "output_type": "stream",
     "text": [
      "INFO: /home/benoit/CCDC/CSD_2021/bin/mogul\n"
     ]
    },
    {
     "name": "stderr",
     "output_type": "stream",
     "text": [
      "  4%|█▉                                          | 2/46 [00:44<16:12, 22.10s/it]"
     ]
    },
    {
     "name": "stdout",
     "output_type": "stream",
     "text": [
      "INFO: /home/benoit/CCDC/CSD_2021/bin/mogul\n"
     ]
    },
    {
     "name": "stderr",
     "output_type": "stream",
     "text": [
      "  7%|██▊                                         | 3/46 [01:06<15:45, 22.00s/it]"
     ]
    },
    {
     "name": "stdout",
     "output_type": "stream",
     "text": [
      "INFO: /home/benoit/CCDC/CSD_2021/bin/mogul\n",
      "INFO: /home/benoit/CCDC/CSD_2021/bin/mogul\n",
      "INFO: /home/benoit/CCDC/CSD_2021/bin/mogul\n"
     ]
    },
    {
     "name": "stderr",
     "output_type": "stream",
     "text": [
      "  9%|███▊                                        | 4/46 [01:27<15:05, 21.57s/it]"
     ]
    },
    {
     "name": "stdout",
     "output_type": "stream",
     "text": [
      "INFO: /home/benoit/CCDC/CSD_2021/bin/mogul\n",
      "INFO: /home/benoit/CCDC/CSD_2021/bin/mogul\n",
      "INFO: /home/benoit/CCDC/CSD_2021/bin/mogul\n"
     ]
    },
    {
     "name": "stderr",
     "output_type": "stream",
     "text": [
      " 13%|█████▋                                      | 6/46 [02:22<16:14, 24.36s/it]"
     ]
    },
    {
     "name": "stdout",
     "output_type": "stream",
     "text": [
      "INFO: /home/benoit/CCDC/CSD_2021/bin/mogul\n"
     ]
    },
    {
     "name": "stderr",
     "output_type": "stream",
     "text": [
      " 17%|███████▋                                    | 8/46 [02:59<13:27, 21.25s/it]"
     ]
    },
    {
     "name": "stdout",
     "output_type": "stream",
     "text": [
      "INFO: /home/benoit/CCDC/CSD_2021/bin/mogul\n"
     ]
    },
    {
     "name": "stderr",
     "output_type": "stream",
     "text": [
      " 20%|████████▌                                   | 9/46 [03:20<12:55, 20.96s/it]"
     ]
    },
    {
     "name": "stdout",
     "output_type": "stream",
     "text": [
      "INFO: /home/benoit/CCDC/CSD_2021/bin/mogul\n"
     ]
    },
    {
     "name": "stderr",
     "output_type": "stream",
     "text": [
      " 22%|█████████▎                                 | 10/46 [03:39<12:10, 20.30s/it]"
     ]
    },
    {
     "name": "stdout",
     "output_type": "stream",
     "text": [
      "INFO: /home/benoit/CCDC/CSD_2021/bin/mogul\n"
     ]
    },
    {
     "name": "stderr",
     "output_type": "stream",
     "text": [
      " 24%|██████████▎                                | 11/46 [03:59<11:49, 20.27s/it]"
     ]
    },
    {
     "name": "stdout",
     "output_type": "stream",
     "text": [
      "INFO: /home/benoit/CCDC/CSD_2021/bin/mogul\n"
     ]
    },
    {
     "name": "stderr",
     "output_type": "stream",
     "text": [
      " 26%|███████████▏                               | 12/46 [04:17<11:08, 19.65s/it]"
     ]
    },
    {
     "name": "stdout",
     "output_type": "stream",
     "text": [
      "INFO: /home/benoit/CCDC/CSD_2021/bin/mogul\n",
      "INFO: /home/benoit/CCDC/CSD_2021/bin/mogul\n",
      "INFO: /home/benoit/CCDC/CSD_2021/bin/mogul\n",
      "INFO: /home/benoit/CCDC/CSD_2021/bin/mogul\n",
      "INFO: /home/benoit/CCDC/CSD_2021/bin/mogul\n",
      "INFO: /home/benoit/CCDC/CSD_2021/bin/mogul\n"
     ]
    },
    {
     "name": "stderr",
     "output_type": "stream",
     "text": [
      " 28%|████████████▏                              | 13/46 [04:36<10:38, 19.36s/it]"
     ]
    },
    {
     "name": "stdout",
     "output_type": "stream",
     "text": [
      "INFO: /home/benoit/CCDC/CSD_2021/bin/mogul\n"
     ]
    },
    {
     "name": "stderr",
     "output_type": "stream",
     "text": [
      " 30%|█████████████                              | 14/46 [04:56<10:26, 19.59s/it]"
     ]
    },
    {
     "name": "stdout",
     "output_type": "stream",
     "text": [
      "INFO: /home/benoit/CCDC/CSD_2021/bin/mogul\n"
     ]
    },
    {
     "name": "stderr",
     "output_type": "stream",
     "text": [
      " 33%|██████████████                             | 15/46 [06:27<21:18, 41.24s/it]"
     ]
    },
    {
     "name": "stdout",
     "output_type": "stream",
     "text": [
      "INFO: /home/benoit/CCDC/CSD_2021/bin/mogul\n",
      "INFO: /home/benoit/CCDC/CSD_2021/bin/mogul\n"
     ]
    },
    {
     "name": "stderr",
     "output_type": "stream",
     "text": [
      " 35%|██████████████▉                            | 16/46 [06:47<17:24, 34.82s/it]"
     ]
    },
    {
     "name": "stdout",
     "output_type": "stream",
     "text": [
      "INFO: /home/benoit/CCDC/CSD_2021/bin/mogul\n",
      "INFO: /home/benoit/CCDC/CSD_2021/bin/mogul\n",
      "INFO: /home/benoit/CCDC/CSD_2021/bin/mogul\n",
      "INFO: /home/benoit/CCDC/CSD_2021/bin/mogul\n"
     ]
    },
    {
     "name": "stderr",
     "output_type": "stream",
     "text": [
      " 37%|███████████████▉                           | 17/46 [07:10<15:06, 31.25s/it]"
     ]
    },
    {
     "name": "stdout",
     "output_type": "stream",
     "text": [
      "INFO: /home/benoit/CCDC/CSD_2021/bin/mogul\n"
     ]
    },
    {
     "name": "stderr",
     "output_type": "stream",
     "text": [
      " 39%|████████████████▊                          | 18/46 [07:31<13:07, 28.13s/it]"
     ]
    },
    {
     "name": "stdout",
     "output_type": "stream",
     "text": [
      "INFO: /home/benoit/CCDC/CSD_2021/bin/mogul\n",
      "INFO: /home/benoit/CCDC/CSD_2021/bin/mogul\n",
      "INFO: /home/benoit/CCDC/CSD_2021/bin/mogul\n"
     ]
    },
    {
     "name": "stderr",
     "output_type": "stream",
     "text": [
      " 41%|█████████████████▊                         | 19/46 [07:51<11:31, 25.61s/it]"
     ]
    },
    {
     "name": "stdout",
     "output_type": "stream",
     "text": [
      "INFO: /home/benoit/CCDC/CSD_2021/bin/mogul\n",
      "INFO: /home/benoit/CCDC/CSD_2021/bin/mogul\n"
     ]
    },
    {
     "name": "stderr",
     "output_type": "stream",
     "text": [
      " 48%|████████████████████▌                      | 22/46 [08:50<08:36, 21.51s/it]"
     ]
    },
    {
     "name": "stdout",
     "output_type": "stream",
     "text": [
      "INFO: /home/benoit/CCDC/CSD_2021/bin/mogul\n"
     ]
    },
    {
     "name": "stderr",
     "output_type": "stream",
     "text": [
      " 54%|███████████████████████▎                   | 25/46 [09:42<06:37, 18.93s/it]"
     ]
    },
    {
     "name": "stdout",
     "output_type": "stream",
     "text": [
      "INFO: /home/benoit/CCDC/CSD_2021/bin/mogul\n"
     ]
    },
    {
     "name": "stderr",
     "output_type": "stream",
     "text": [
      " 57%|████████████████████████▎                  | 26/46 [10:02<06:21, 19.08s/it]"
     ]
    },
    {
     "name": "stdout",
     "output_type": "stream",
     "text": [
      "INFO: /home/benoit/CCDC/CSD_2021/bin/mogul\n"
     ]
    },
    {
     "name": "stderr",
     "output_type": "stream",
     "text": [
      " 59%|█████████████████████████▏                 | 27/46 [10:20<05:59, 18.92s/it]"
     ]
    },
    {
     "name": "stdout",
     "output_type": "stream",
     "text": [
      "INFO: /home/benoit/CCDC/CSD_2021/bin/mogul\n",
      "INFO: /home/benoit/CCDC/CSD_2021/bin/mogul\n"
     ]
    },
    {
     "name": "stderr",
     "output_type": "stream",
     "text": [
      " 61%|██████████████████████████▏                | 28/46 [10:37<05:30, 18.36s/it]"
     ]
    },
    {
     "name": "stdout",
     "output_type": "stream",
     "text": [
      "INFO: /home/benoit/CCDC/CSD_2021/bin/mogul\n"
     ]
    },
    {
     "name": "stderr",
     "output_type": "stream",
     "text": [
      " 63%|███████████████████████████                | 29/46 [10:55<05:07, 18.06s/it]"
     ]
    },
    {
     "name": "stdout",
     "output_type": "stream",
     "text": [
      "INFO: /home/benoit/CCDC/CSD_2021/bin/mogul\n",
      "INFO: /home/benoit/CCDC/CSD_2021/bin/mogul\n",
      "INFO: /home/benoit/CCDC/CSD_2021/bin/mogul\n"
     ]
    },
    {
     "name": "stderr",
     "output_type": "stream",
     "text": [
      " 65%|████████████████████████████               | 30/46 [11:17<05:07, 19.24s/it]"
     ]
    },
    {
     "name": "stdout",
     "output_type": "stream",
     "text": [
      "INFO: /home/benoit/CCDC/CSD_2021/bin/mogul\n",
      "INFO: /home/benoit/CCDC/CSD_2021/bin/mogul\n",
      "INFO: /home/benoit/CCDC/CSD_2021/bin/mogul\n",
      "INFO: /home/benoit/CCDC/CSD_2021/bin/mogul\n"
     ]
    },
    {
     "name": "stderr",
     "output_type": "stream",
     "text": [
      " 70%|█████████████████████████████▉             | 32/46 [12:03<04:49, 20.70s/it]"
     ]
    },
    {
     "name": "stdout",
     "output_type": "stream",
     "text": [
      "INFO: /home/benoit/CCDC/CSD_2021/bin/mogul\n"
     ]
    },
    {
     "name": "stderr",
     "output_type": "stream",
     "text": [
      " 72%|██████████████████████████████▊            | 33/46 [12:23<04:23, 20.23s/it]"
     ]
    },
    {
     "name": "stdout",
     "output_type": "stream",
     "text": [
      "INFO: /home/benoit/CCDC/CSD_2021/bin/mogul\n"
     ]
    },
    {
     "name": "stderr",
     "output_type": "stream",
     "text": [
      " 78%|█████████████████████████████████▋         | 36/46 [13:18<03:08, 18.86s/it]"
     ]
    },
    {
     "name": "stdout",
     "output_type": "stream",
     "text": [
      "INFO: /home/benoit/CCDC/CSD_2021/bin/mogul\n",
      "INFO: /home/benoit/CCDC/CSD_2021/bin/mogul\n",
      "INFO: /home/benoit/CCDC/CSD_2021/bin/mogul\n",
      "INFO: /home/benoit/CCDC/CSD_2021/bin/mogul\n"
     ]
    },
    {
     "name": "stderr",
     "output_type": "stream",
     "text": [
      " 80%|██████████████████████████████████▌        | 37/46 [13:38<02:50, 18.97s/it]"
     ]
    },
    {
     "name": "stdout",
     "output_type": "stream",
     "text": [
      "INFO: /home/benoit/CCDC/CSD_2021/bin/mogul\n",
      "INFO: /home/benoit/CCDC/CSD_2021/bin/mogul\n"
     ]
    },
    {
     "name": "stderr",
     "output_type": "stream",
     "text": [
      " 83%|███████████████████████████████████▌       | 38/46 [14:02<02:44, 20.56s/it]"
     ]
    },
    {
     "name": "stdout",
     "output_type": "stream",
     "text": [
      "INFO: /home/benoit/CCDC/CSD_2021/bin/mogul\n",
      "INFO: /home/benoit/CCDC/CSD_2021/bin/mogul\n"
     ]
    },
    {
     "name": "stderr",
     "output_type": "stream",
     "text": [
      " 91%|███████████████████████████████████████▎   | 42/46 [15:16<01:16, 19.14s/it]"
     ]
    },
    {
     "name": "stdout",
     "output_type": "stream",
     "text": [
      "INFO: /home/benoit/CCDC/CSD_2021/bin/mogul\n"
     ]
    },
    {
     "name": "stderr",
     "output_type": "stream",
     "text": [
      " 98%|██████████████████████████████████████████ | 45/46 [16:16<00:19, 19.54s/it]"
     ]
    },
    {
     "name": "stdout",
     "output_type": "stream",
     "text": [
      "INFO: /home/benoit/CCDC/CSD_2021/bin/mogul\n",
      "INFO: /home/benoit/CCDC/CSD_2021/bin/mogul\n"
     ]
    },
    {
     "name": "stderr",
     "output_type": "stream",
     "text": [
      "100%|███████████████████████████████████████████| 46/46 [16:28<00:00, 21.48s/it]\n"
     ]
    }
   ],
   "source": [
    "generated_mols = []\n",
    "for chunk_idx in tqdm(chunk_idxs) :\n",
    "    \n",
    "    ccdc_mols = [mol for i, mol in enumerate(initial_ccdc_mols) if i in chunk_idx]\n",
    "    rdkit_mols = [mol for i, mol in enumerate(corresponding_mols) if i in chunk_idx]\n",
    "    \n",
    "    conformers = ccdc_conformer_generator.generate(ccdc_mols)\n",
    "    \n",
    "    for rdkit_mol, conformers in zip(rdkit_mols, conformers) :\n",
    "        try :\n",
    "            generated_conf_ids = ccdc_conformers_to_rdkit_mol(conformers, rdkit_mol)\n",
    "            generated_mols.append(rdkit_mol)\n",
    "        except Exception as e :\n",
    "            print(e)"
   ]
  },
  {
   "cell_type": "code",
   "execution_count": 11,
   "id": "3149331d-0626-4320-9b8b-f49b89800398",
   "metadata": {},
   "outputs": [],
   "source": [
    "# 41% : 20 min\n",
    "# 17 s/it = 17s/100mol"
   ]
  },
  {
   "cell_type": "code",
   "execution_count": 64,
   "id": "65a0617e-b47b-499e-bf4d-24d28393d25d",
   "metadata": {},
   "outputs": [],
   "source": [
    "n_confs = [mol.GetNumConformers() for mol in generated_mols]"
   ]
  },
  {
   "cell_type": "code",
   "execution_count": 65,
   "id": "e031d447-4132-4271-a67a-25fc239568aa",
   "metadata": {},
   "outputs": [
    {
     "data": {
      "text/plain": [
       "(array([ 359.,  158.,  170.,   67.,   90.,   56.,   74.,   45.,   55.,\n",
       "          42.,   30.,   48.,   43.,   42.,   20.,   39.,   20.,   24.,\n",
       "          21., 3145.]),\n",
       " array([ 2.  ,  4.45,  6.9 ,  9.35, 11.8 , 14.25, 16.7 , 19.15, 21.6 ,\n",
       "        24.05, 26.5 , 28.95, 31.4 , 33.85, 36.3 , 38.75, 41.2 , 43.65,\n",
       "        46.1 , 48.55, 51.  ]),\n",
       " <BarContainer object of 20 artists>)"
      ]
     },
     "execution_count": 65,
     "metadata": {},
     "output_type": "execute_result"
    },
    {
     "data": {
      "image/png": "[encoded data removed]",
      "text/plain": [
       "<Figure size 432x288 with 1 Axes>"
      ]
     },
     "metadata": {
      "needs_background": "light"
     },
     "output_type": "display_data"
    }
   ],
   "source": [
    "import matplotlib.pyplot as plt\n",
    "plt.hist(n_confs, bins=20)"
   ]
  },
  {
   "cell_type": "code",
   "execution_count": 66,
   "id": "21d8333c-2670-49a3-856d-a599c1b2c729",
   "metadata": {},
   "outputs": [
    {
     "name": "stderr",
     "output_type": "stream",
     "text": [
      "100%|████████████████████████████████████| 4548/4548 [00:00<00:00, 13237.19it/s]\n"
     ]
    }
   ],
   "source": [
    "generated_CEL = ConformationEnsembleLibrary(generated_mols)"
   ]
  },
  {
   "cell_type": "code",
   "execution_count": 67,
   "id": "db7514a9-4837-4964-8325-0dcc2163f502",
   "metadata": {},
   "outputs": [],
   "source": [
    "with open(os.path.join(data_dir_path, 'raw', 'platinum_conf_ensemble_library_ccdc_generated.p'), 'wb') as f :\n",
    "    pickle.dump(generated_CEL, f)\n",
    "    \n",
    "# here we only have the molecules parsed identically by RDKit (from mol2) and CSD (from smiles)"
   ]
  }
 ],
 "metadata": {
  "kernelspec": {
   "display_name": "Python 3 (ipykernel)",
   "language": "python",
   "name": "python3"
  },
  "language_info": {
   "codemirror_mode": {
    "name": "ipython",
    "version": 3
   },
   "file_extension": ".py",
   "mimetype": "text/x-python",
   "name": "python",
   "nbconvert_exporter": "python",
   "pygments_lexer": "ipython3",
   "version": "3.7.10"
  }
 },
 "nbformat": 4,
 "nbformat_minor": 5
}
