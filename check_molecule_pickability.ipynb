{
 "cells": [
  {
   "cell_type": "code",
   "execution_count": 8,
   "id": "71c48798-7f95-4a18-a7a4-a3756a431e87",
   "metadata": {},
   "outputs": [],
   "source": [
    "from conf_ensemble import ConfEnsembleLibrary\n",
    "import os\n",
    "import pandas as pd\n",
    "import pickle"
   ]
  },
  {
   "cell_type": "code",
   "execution_count": 2,
   "id": "23923501-478f-422b-a6b8-93262e8a376e",
   "metadata": {},
   "outputs": [
    {
     "name": "stderr",
     "output_type": "stream",
     "text": [
      "  4%|██▍                                                        | 757/17969 [00:01<00:33, 516.21it/s]"
     ]
    },
    {
     "name": "stdout",
     "output_type": "stream",
     "text": [
      "Error with data/conf_ensembles/651.sdf\n",
      "All molecules in the input list should be the same\n"
     ]
    },
    {
     "name": "stderr",
     "output_type": "stream",
     "text": [
      " 11%|██████▌                                                   | 2045/17969 [00:04<00:28, 554.89it/s]"
     ]
    },
    {
     "name": "stdout",
     "output_type": "stream",
     "text": [
      "Error with data/conf_ensembles/1938.sdf\n",
      "All molecules in the input list should be the same\n"
     ]
    },
    {
     "name": "stderr",
     "output_type": "stream",
     "text": [
      " 14%|████████▏                                                 | 2539/17969 [00:04<00:23, 669.05it/s]"
     ]
    },
    {
     "name": "stdout",
     "output_type": "stream",
     "text": [
      "Error with data/conf_ensembles/2415.sdf\n",
      "All molecules in the input list should be the same\n"
     ]
    },
    {
     "name": "stderr",
     "output_type": "stream",
     "text": [
      "100%|█████████████████████████████████████████████████████████| 17969/17969 [00:22<00:00, 803.45it/s]\n"
     ]
    }
   ],
   "source": [
    "cel = ConfEnsembleLibrary()\n",
    "cel.load()"
   ]
  },
  {
   "cell_type": "code",
   "execution_count": 6,
   "id": "638c853c-cfb5-48e0-86e2-0199da1a81d5",
   "metadata": {},
   "outputs": [],
   "source": [
    "smiled_df_path = os.path.join('data/', 'smiles_df.csv')\n",
    "smiles_df = pd.read_csv(smiled_df_path, index_col=0)\n",
    "included_smiles = smiles_df[smiles_df['included']]['smiles'].unique()"
   ]
  },
  {
   "cell_type": "code",
   "execution_count": 11,
   "id": "e21aee96-7afe-4955-8764-a85595f093ee",
   "metadata": {},
   "outputs": [],
   "source": [
    "included_table = cel.table[cel.table['smiles'].isin(included_smiles)]\n",
    "for i, row in included_table.iterrows() :\n",
    "    smiles = row['smiles']\n",
    "    original_file_path = row['conf_ensemble_path']\n",
    "    conf_ensemble = cel.get_conf_ensemble(smiles)\n",
    "    rdkit_mol = conf_ensemble.mol\n",
    "    file_path = 'test.p'\n",
    "    with open(file_path, 'wb') as f :\n",
    "        pickle.dump(rdkit_mol, f)\n",
    "    with open(file_path, 'rb') as f :\n",
    "        rdkit_mol = pickle.load(f)"
   ]
  },
  {
   "cell_type": "code",
   "execution_count": null,
   "id": "36a69128-7ffb-4fa0-9f6c-22ff9dbec530",
   "metadata": {},
   "outputs": [],
   "source": []
  }
 ],
 "metadata": {
  "kernelspec": {
   "display_name": "Python 3 (ipykernel)",
   "language": "python",
   "name": "python3"
  },
  "language_info": {
   "codemirror_mode": {
    "name": "ipython",
    "version": 3
   },
   "file_extension": ".py",
   "mimetype": "text/x-python",
   "name": "python",
   "nbconvert_exporter": "python",
   "pygments_lexer": "ipython3",
   "version": "3.7.10"
  },
  "widgets": {
   "application/vnd.jupyter.widget-state+json": {
    "state": {},
    "version_major": 2,
    "version_minor": 0
   }
  }
 },
 "nbformat": 4,
 "nbformat_minor": 5
}
