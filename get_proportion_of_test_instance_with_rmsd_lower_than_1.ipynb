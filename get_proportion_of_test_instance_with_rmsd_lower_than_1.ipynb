{
 "cells": [
  {
   "cell_type": "code",
   "execution_count": 15,
   "id": "f9f7a344-1f3a-47c5-a1c3-5e30a4160e4f",
   "metadata": {},
   "outputs": [],
   "source": [
    "import pickle\n",
    "import os\n",
    "import pandas as pd\n",
    "import seaborn as sns\n",
    "import numpy as np\n",
    "import matplotlib.pyplot as plt"
   ]
  },
  {
   "cell_type": "code",
   "execution_count": 5,
   "id": "24be1253-3d6d-484a-975b-b7eb175fb6e0",
   "metadata": {},
   "outputs": [],
   "source": [
    "results_dir = 'results/'"
   ]
  },
  {
   "cell_type": "code",
   "execution_count": 6,
   "id": "c36acab4-23ee-46cf-9cb1-8575b2b8e2d4",
   "metadata": {},
   "outputs": [],
   "source": [
    "split = 'scaffold'\n",
    "iteration = 0\n",
    "dataset = 'platinum'"
   ]
  },
  {
   "cell_type": "code",
   "execution_count": 8,
   "id": "3f5cb09e-bdb0-4b13-80e4-b5be2be831c0",
   "metadata": {},
   "outputs": [],
   "source": [
    "experiment_name = f'{split}_split_{iteration}_new'\n",
    "evaluation_name = f'{experiment_name}_{dataset}'\n",
    "\n",
    "working_dir = os.path.join(results_dir, evaluation_name)\n",
    "conf_results_path = os.path.join(working_dir, f'conf_results.p')\n",
    "with open(dataset_results_path, 'rb') as f:\n",
    "    conf_results = pickle.load(f)"
   ]
  },
  {
   "cell_type": "code",
   "execution_count": 17,
   "id": "4f9e7ed8-271d-4fea-95f6-db12d2e43485",
   "metadata": {},
   "outputs": [],
   "source": [
    "min_rmsds = []\n",
    "for smiles, d in conf_results.items() :\n",
    "    targets = d['targets']\n",
    "    targets = [target for target in targets if target != 0]\n",
    "    if len(targets) :\n",
    "        min_rmsds.append(np.min(targets))"
   ]
  },
  {
   "cell_type": "code",
   "execution_count": 19,
   "id": "5a8ab525-a3be-46a2-95d3-213def98794a",
   "metadata": {},
   "outputs": [],
   "source": [
    "min_rmsds = np.array(min_rmsds)"
   ]
  },
  {
   "cell_type": "code",
   "execution_count": 22,
   "id": "3dc0a2c8-3846-4751-8c68-ba6cd47f65e7",
   "metadata": {},
   "outputs": [
    {
     "data": {
      "text/plain": [
       "0.8757422476358038"
      ]
     },
     "execution_count": 22,
     "metadata": {},
     "output_type": "execute_result"
    }
   ],
   "source": [
    "(min_rmsds < 1).sum() / len(min_rmsds)"
   ]
  }
 ],
 "metadata": {
  "kernelspec": {
   "display_name": "Python 3 (ipykernel)",
   "language": "python",
   "name": "python3"
  },
  "language_info": {
   "codemirror_mode": {
    "name": "ipython",
    "version": 3
   },
   "file_extension": ".py",
   "mimetype": "text/x-python",
   "name": "python",
   "nbconvert_exporter": "python",
   "pygments_lexer": "ipython3",
   "version": "3.7.10"
  },
  "widgets": {
   "application/vnd.jupyter.widget-state+json": {
    "state": {},
    "version_major": 2,
    "version_minor": 0
   }
  }
 },
 "nbformat": 4,
 "nbformat_minor": 5
}
