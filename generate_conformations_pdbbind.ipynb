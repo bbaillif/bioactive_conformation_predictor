{
 "cells": [
  {
   "cell_type": "code",
   "execution_count": 41,
   "id": "cc55cfa1-9c7b-480f-a015-865b278af11f",
   "metadata": {},
   "outputs": [],
   "source": [
    "import os\n",
    "import pickle\n",
    "import copy\n",
    "import logging\n",
    "\n",
    "from tqdm import tqdm\n",
    "from rdkit.Geometry.rdGeometry import Point3D\n",
    "from rdkit import Chem\n",
    "from ccdc.conformer import ConformerGenerator, MoleculeMinimiser\n",
    "from ccdc.molecule import Molecule"
   ]
  },
  {
   "cell_type": "code",
   "execution_count": 2,
   "id": "68331f57-bc59-49a3-a798-0cb54ee8aa2c",
   "metadata": {},
   "outputs": [],
   "source": [
    "data_dir_path = 'data/'"
   ]
  },
  {
   "cell_type": "code",
   "execution_count": 3,
   "id": "281bc3f2-77f0-4eff-a4e8-111e26773f0b",
   "metadata": {},
   "outputs": [],
   "source": [
    "with open(os.path.join(data_dir_path, 'raw', 'pdbbind_general_conf_ensemble_library.p'), 'rb') as f :\n",
    "    general_CEL = pickle.load(f)"
   ]
  },
  {
   "cell_type": "code",
   "execution_count": 4,
   "id": "de66fdb8-d694-401f-b8e0-4a394d64b18e",
   "metadata": {},
   "outputs": [],
   "source": [
    "with open(os.path.join(data_dir_path, 'raw', 'pdbbind_refined_conf_ensemble_library.p'), 'rb') as f :\n",
    "    refined_CEL = pickle.load(f)"
   ]
  },
  {
   "cell_type": "code",
   "execution_count": 5,
   "id": "b47cc85e-75d3-4e67-9572-9090214b5835",
   "metadata": {},
   "outputs": [],
   "source": [
    "all_CEL = general_CEL\n",
    "all_CEL.merge(refined_CEL)"
   ]
  },
  {
   "cell_type": "code",
   "execution_count": 24,
   "id": "070cf5f1-6014-49e7-95ee-62a89469836d",
   "metadata": {},
   "outputs": [
    {
     "name": "stdout",
     "output_type": "stream",
     "text": [
      "INFO: /home/benoit/CCDC/CSD_2021/bin/mogul\n",
      "INFO: /home/benoit/CCDC/CSD_2021/bin/mogul\n",
      "INFO: /home/benoit/CCDC/CSD_2021/bin/mogul\n",
      "INFO: /home/benoit/CCDC/CSD_2021/bin/mogul\n",
      "INFO: /home/benoit/CCDC/CSD_2021/bin/mogul\n",
      "INFO: /home/benoit/CCDC/CSD_2021/bin/mogul\n",
      "INFO: /home/benoit/CCDC/CSD_2021/bin/mogul\n",
      "INFO: /home/benoit/CCDC/CSD_2021/bin/mogul\n",
      "INFO: /home/benoit/CCDC/CSD_2021/bin/mogul\n",
      "INFO: /home/benoit/CCDC/CSD_2021/bin/mogul\n",
      "INFO: /home/benoit/CCDC/CSD_2021/bin/mogul\n",
      "INFO: /home/benoit/CCDC/CSD_2021/bin/mogul\n"
     ]
    }
   ],
   "source": [
    "ccdc_conformer_generator = ConformerGenerator(nthreads=12)\n",
    "ccdc_conformer_generator.settings.max_conformers = 50"
   ]
  },
  {
   "cell_type": "code",
   "execution_count": 25,
   "id": "1fb70be5-6df1-494b-9e7f-67e00a4ada9c",
   "metadata": {},
   "outputs": [],
   "source": [
    "def ccdc_conformers_to_rdkit_mol(ccdc_conformers, rdkit_mol) :\n",
    "        \n",
    "    generated_conf_ids = []\n",
    "\n",
    "    for conformer in ccdc_conformers :\n",
    "        new_rdkit_conf = copy.deepcopy(rdkit_mol).GetConformer()\n",
    "        for i, atom in enumerate(conformer.molecule.atoms) :\n",
    "            point3d = Point3D(*atom.coordinates)\n",
    "            new_rdkit_conf.SetAtomPosition(i, point3d)\n",
    "        conf_id = rdkit_mol.AddConformer(new_rdkit_conf, assignId=True)\n",
    "        generated_conf_ids.append(conf_id)\n",
    "\n",
    "    return generated_conf_ids"
   ]
  },
  {
   "cell_type": "code",
   "execution_count": 49,
   "id": "ccb99ad0-4497-436f-a36a-d3e1d4bfe389",
   "metadata": {
    "scrolled": true,
    "tags": []
   },
   "outputs": [
    {
     "name": "stderr",
     "output_type": "stream",
     "text": [
      "  0%|                                                 | 0/12348 [00:00<?, ?it/s]"
     ]
    },
    {
     "name": "stdout",
     "output_type": "stream",
     "text": [
      "INFO: /home/benoit/CCDC/CSD_2021/bin/mogul\n"
     ]
    },
    {
     "name": "stderr",
     "output_type": "stream",
     "text": [
      "  0%|                                      | 17/12348 [00:11<2:53:34,  1.18it/s]"
     ]
    },
    {
     "name": "stdout",
     "output_type": "stream",
     "text": [
      "INFO: /home/benoit/CCDC/CSD_2021/bin/mogul\n"
     ]
    },
    {
     "name": "stderr",
     "output_type": "stream",
     "text": [
      "  0%|                                      | 23/12348 [00:18<2:47:43,  1.22it/s]\n"
     ]
    },
    {
     "ename": "KeyboardInterrupt",
     "evalue": "",
     "output_type": "error",
     "traceback": [
      "\u001b[0;31m---------------------------------------------------------------------------\u001b[0m",
      "\u001b[0;31mKeyboardInterrupt\u001b[0m                         Traceback (most recent call last)",
      "\u001b[0;32m/tmp/ipykernel_97365/525744211.py\u001b[0m in \u001b[0;36m<module>\u001b[0;34m\u001b[0m\n\u001b[1;32m      8\u001b[0m         \u001b[0;32mif\u001b[0m \u001b[0mconf_ensemble\u001b[0m\u001b[0;34m.\u001b[0m\u001b[0mmol\u001b[0m\u001b[0;34m.\u001b[0m\u001b[0mGetNumHeavyAtoms\u001b[0m\u001b[0;34m(\u001b[0m\u001b[0;34m)\u001b[0m \u001b[0;34m<\u001b[0m \u001b[0;36m50\u001b[0m \u001b[0;34m:\u001b[0m\u001b[0;34m\u001b[0m\u001b[0;34m\u001b[0m\u001b[0m\n\u001b[1;32m      9\u001b[0m             \u001b[0mccdc_mol\u001b[0m \u001b[0;34m=\u001b[0m \u001b[0mMolecule\u001b[0m\u001b[0;34m.\u001b[0m\u001b[0mfrom_string\u001b[0m\u001b[0;34m(\u001b[0m\u001b[0msmiles\u001b[0m\u001b[0;34m,\u001b[0m \u001b[0mformat\u001b[0m\u001b[0;34m=\u001b[0m\u001b[0;34m'smiles'\u001b[0m\u001b[0;34m)\u001b[0m\u001b[0;34m\u001b[0m\u001b[0;34m\u001b[0m\u001b[0m\n\u001b[0;32m---> 10\u001b[0;31m             \u001b[0mconformers\u001b[0m \u001b[0;34m=\u001b[0m \u001b[0mconformer_generator\u001b[0m\u001b[0;34m.\u001b[0m\u001b[0mgenerate\u001b[0m\u001b[0;34m(\u001b[0m\u001b[0mccdc_mol\u001b[0m\u001b[0;34m)\u001b[0m\u001b[0;34m\u001b[0m\u001b[0;34m\u001b[0m\u001b[0m\n\u001b[0m\u001b[1;32m     11\u001b[0m             \u001b[0minitial_ccdc_mols\u001b[0m\u001b[0;34m.\u001b[0m\u001b[0mappend\u001b[0m\u001b[0;34m(\u001b[0m\u001b[0mconformers\u001b[0m\u001b[0;34m)\u001b[0m\u001b[0;34m\u001b[0m\u001b[0;34m\u001b[0m\u001b[0m\n\u001b[1;32m     12\u001b[0m     \u001b[0;32mexcept\u001b[0m \u001b[0mException\u001b[0m \u001b[0;32mas\u001b[0m \u001b[0me\u001b[0m \u001b[0;34m:\u001b[0m\u001b[0;34m\u001b[0m\u001b[0;34m\u001b[0m\u001b[0m\n",
      "\u001b[0;32m~/anaconda3/envs/GeoMol/lib/python3.7/site-packages/ccdc/conformer.py\u001b[0m in \u001b[0;36mgenerate\u001b[0;34m(self, mols)\u001b[0m\n\u001b[1;32m    559\u001b[0m                 \u001b[0mUtilitiesLib\u001b[0m\u001b[0;34m.\u001b[0m\u001b[0mDatabaseEntryIdentifier\u001b[0m\u001b[0;34m(\u001b[0m\u001b[0mmols\u001b[0m\u001b[0;34m.\u001b[0m\u001b[0midentifier\u001b[0m\u001b[0;34m)\u001b[0m\u001b[0;34m\u001b[0m\u001b[0;34m\u001b[0m\u001b[0m\n\u001b[1;32m    560\u001b[0m             )\n\u001b[0;32m--> 561\u001b[0;31m             \u001b[0mod\u001b[0m \u001b[0;34m=\u001b[0m \u001b[0mself\u001b[0m\u001b[0;34m.\u001b[0m\u001b[0m_conformer_generator\u001b[0m\u001b[0;34m.\u001b[0m\u001b[0mgenerate_conformers\u001b[0m\u001b[0;34m(\u001b[0m\u001b[0;34m[\u001b[0m\u001b[0mmols\u001b[0m\u001b[0;34m.\u001b[0m\u001b[0m_molecule\u001b[0m\u001b[0;34m]\u001b[0m\u001b[0;34m)\u001b[0m\u001b[0;34m\u001b[0m\u001b[0;34m\u001b[0m\u001b[0m\n\u001b[0m\u001b[1;32m    562\u001b[0m             \u001b[0;32mif\u001b[0m \u001b[0mod\u001b[0m\u001b[0;34m:\u001b[0m\u001b[0;34m\u001b[0m\u001b[0;34m\u001b[0m\u001b[0m\n\u001b[1;32m    563\u001b[0m                 \u001b[0;32mreturn\u001b[0m \u001b[0mConformerHitList\u001b[0m\u001b[0;34m(\u001b[0m\u001b[0mmols\u001b[0m\u001b[0;34m.\u001b[0m\u001b[0midentifier\u001b[0m\u001b[0;34m,\u001b[0m \u001b[0mod\u001b[0m\u001b[0;34m[\u001b[0m\u001b[0;36m0\u001b[0m\u001b[0;34m]\u001b[0m\u001b[0;34m)\u001b[0m\u001b[0;34m\u001b[0m\u001b[0;34m\u001b[0m\u001b[0m\n",
      "\u001b[0;32m~/anaconda3/envs/GeoMol/lib/python3.7/site-packages/ccdc/_lib/ConformerGeneratorLib.py\u001b[0m in \u001b[0;36mgenerate_conformers\u001b[0;34m(self, molecules)\u001b[0m\n\u001b[1;32m    649\u001b[0m \u001b[0;34m\u001b[0m\u001b[0m\n\u001b[1;32m    650\u001b[0m     \u001b[0;32mdef\u001b[0m \u001b[0mgenerate_conformers\u001b[0m\u001b[0;34m(\u001b[0m\u001b[0mself\u001b[0m\u001b[0;34m,\u001b[0m \u001b[0mmolecules\u001b[0m\u001b[0;34m)\u001b[0m\u001b[0;34m:\u001b[0m\u001b[0;34m\u001b[0m\u001b[0;34m\u001b[0m\u001b[0m\n\u001b[0;32m--> 651\u001b[0;31m         \u001b[0;32mreturn\u001b[0m \u001b[0m_ConformerGeneratorLib\u001b[0m\u001b[0;34m.\u001b[0m\u001b[0mGenerateConformersWorkFlow_generate_conformers\u001b[0m\u001b[0;34m(\u001b[0m\u001b[0mself\u001b[0m\u001b[0;34m,\u001b[0m \u001b[0mmolecules\u001b[0m\u001b[0;34m)\u001b[0m\u001b[0;34m\u001b[0m\u001b[0;34m\u001b[0m\u001b[0m\n\u001b[0m\u001b[1;32m    652\u001b[0m \u001b[0;34m\u001b[0m\u001b[0m\n\u001b[1;32m    653\u001b[0m     \u001b[0;32mdef\u001b[0m \u001b[0mfailed_molecules_minimisation\u001b[0m\u001b[0;34m(\u001b[0m\u001b[0mself\u001b[0m\u001b[0;34m)\u001b[0m\u001b[0;34m:\u001b[0m\u001b[0;34m\u001b[0m\u001b[0;34m\u001b[0m\u001b[0m\n",
      "\u001b[0;31mKeyboardInterrupt\u001b[0m: "
     ]
    }
   ],
   "source": [
    "initial_ccdc_mols = []\n",
    "conformer_generator = ConformerGenerator()\n",
    "conformer_generator.settings.max_conformers = 1\n",
    "\n",
    "for smiles, conf_ensemble in tqdm(all_CEL.get_unique_molecules()) :\n",
    "    try :\n",
    "        smiles = Chem.MolToSmiles(Chem.MolFromSmiles(smiles))\n",
    "        if conf_ensemble.mol.GetNumHeavyAtoms() < 50 :\n",
    "            ccdc_mol = Molecule.from_string(smiles, format='smiles')\n",
    "            conformers = conformer_generator.generate(ccdc_mol)\n",
    "            initial_ccdc_mols.append(conformers)\n",
    "    except Exception as e :\n",
    "        print(e)"
   ]
  },
  {
   "cell_type": "code",
   "execution_count": 35,
   "id": "29f082a5-7009-450e-a5f8-4cfad6c20fa2",
   "metadata": {},
   "outputs": [],
   "source": [
    "ccdc_conformers = ccdc_conformer_generator.generate(initial_ccdc_mols[:5])"
   ]
  },
  {
   "cell_type": "code",
   "execution_count": 46,
   "id": "9719f051-c6eb-45b3-91b2-637714fc4b0c",
   "metadata": {},
   "outputs": [],
   "source": [
    "mol"
   ]
  },
  {
   "cell_type": "code",
   "execution_count": null,
   "id": "f806606d-2b61-4d8f-bb67-8966f4500970",
   "metadata": {},
   "outputs": [],
   "source": [
    "molecule_minimiser = conformer.MoleculeMinimiser()\n",
    "minimised_mol = molecule_minimiser.minimise(mol)"
   ]
  },
  {
   "cell_type": "code",
   "execution_count": 25,
   "id": "b6c29de7-3c2e-476e-9b03-3cccfb033fd2",
   "metadata": {
    "scrolled": true,
    "tags": []
   },
   "outputs": [
    {
     "name": "stderr",
     "output_type": "stream",
     "text": [
      "  0%|                                      | 16/12348 [00:10<1:13:56,  2.78it/s]"
     ]
    },
    {
     "name": "stdout",
     "output_type": "stream",
     "text": [
      "INFO: /home/benoit/CCDC/CSD_2021/bin/mogul\n"
     ]
    },
    {
     "name": "stderr",
     "output_type": "stream",
     "text": [
      "  0%|                                      | 26/12348 [00:20<2:37:14,  1.31it/s]"
     ]
    },
    {
     "name": "stdout",
     "output_type": "stream",
     "text": [
      "INFO: /home/benoit/CCDC/CSD_2021/bin/mogul\n"
     ]
    },
    {
     "name": "stderr",
     "output_type": "stream",
     "text": [
      "  1%|▏                                     | 66/12348 [01:06<3:12:31,  1.06it/s]"
     ]
    },
    {
     "name": "stdout",
     "output_type": "stream",
     "text": [
      "INFO: /home/benoit/CCDC/CSD_2021/bin/mogul\n",
      "INFO: /home/benoit/CCDC/CSD_2021/bin/mogul\n"
     ]
    },
    {
     "name": "stderr",
     "output_type": "stream",
     "text": [
      "  1%|▌                                    | 182/12348 [03:00<3:21:18,  1.01it/s]\n"
     ]
    },
    {
     "ename": "KeyboardInterrupt",
     "evalue": "",
     "output_type": "error",
     "traceback": [
      "\u001b[0;31m---------------------------------------------------------------------------\u001b[0m",
      "\u001b[0;31mKeyboardInterrupt\u001b[0m                         Traceback (most recent call last)",
      "\u001b[0;32m/tmp/ipykernel_96444/321187002.py\u001b[0m in \u001b[0;36m<module>\u001b[0;34m\u001b[0m\n\u001b[1;32m      8\u001b[0m             \u001b[0mccdc_mol\u001b[0m \u001b[0;34m=\u001b[0m \u001b[0mMolecule\u001b[0m\u001b[0;34m.\u001b[0m\u001b[0mfrom_string\u001b[0m\u001b[0;34m(\u001b[0m\u001b[0msmiles\u001b[0m\u001b[0;34m,\u001b[0m \u001b[0mformat\u001b[0m\u001b[0;34m=\u001b[0m\u001b[0;34m'smiles'\u001b[0m\u001b[0;34m)\u001b[0m\u001b[0;34m\u001b[0m\u001b[0;34m\u001b[0m\u001b[0m\n\u001b[1;32m      9\u001b[0m             \u001b[0;32mif\u001b[0m \u001b[0mconf_ensemble\u001b[0m\u001b[0;34m.\u001b[0m\u001b[0mmol\u001b[0m\u001b[0;34m.\u001b[0m\u001b[0mGetNumAtoms\u001b[0m\u001b[0;34m(\u001b[0m\u001b[0;34m)\u001b[0m \u001b[0;34m==\u001b[0m \u001b[0mlen\u001b[0m\u001b[0;34m(\u001b[0m\u001b[0mccdc_mol\u001b[0m\u001b[0;34m.\u001b[0m\u001b[0matoms\u001b[0m\u001b[0;34m)\u001b[0m \u001b[0;34m:\u001b[0m\u001b[0;34m\u001b[0m\u001b[0;34m\u001b[0m\u001b[0m\n\u001b[0;32m---> 10\u001b[0;31m                 \u001b[0mccdc_conformers\u001b[0m \u001b[0;34m=\u001b[0m \u001b[0mccdc_conformer_generator\u001b[0m\u001b[0;34m.\u001b[0m\u001b[0mgenerate\u001b[0m\u001b[0;34m(\u001b[0m\u001b[0mccdc_mol\u001b[0m\u001b[0;34m)\u001b[0m\u001b[0;34m\u001b[0m\u001b[0;34m\u001b[0m\u001b[0m\n\u001b[0m\u001b[1;32m     11\u001b[0m                 \u001b[0mlogging\u001b[0m\u001b[0;34m.\u001b[0m\u001b[0minfo\u001b[0m\u001b[0;34m(\u001b[0m\u001b[0;34m'Conformations generated'\u001b[0m\u001b[0;34m)\u001b[0m\u001b[0;34m\u001b[0m\u001b[0;34m\u001b[0m\u001b[0m\n\u001b[1;32m     12\u001b[0m                 \u001b[0mgenerated_conf_ids\u001b[0m \u001b[0;34m=\u001b[0m \u001b[0mccdc_conformers_to_rdkit_mol\u001b[0m\u001b[0;34m(\u001b[0m\u001b[0mccdc_conformers\u001b[0m\u001b[0;34m,\u001b[0m \u001b[0mconf_ensemble\u001b[0m\u001b[0;34m.\u001b[0m\u001b[0mmol\u001b[0m\u001b[0;34m)\u001b[0m\u001b[0;34m\u001b[0m\u001b[0;34m\u001b[0m\u001b[0m\n",
      "\u001b[0;32m~/anaconda3/envs/GeoMol/lib/python3.7/site-packages/ccdc/conformer.py\u001b[0m in \u001b[0;36mgenerate\u001b[0;34m(self, mols)\u001b[0m\n\u001b[1;32m    559\u001b[0m                 \u001b[0mUtilitiesLib\u001b[0m\u001b[0;34m.\u001b[0m\u001b[0mDatabaseEntryIdentifier\u001b[0m\u001b[0;34m(\u001b[0m\u001b[0mmols\u001b[0m\u001b[0;34m.\u001b[0m\u001b[0midentifier\u001b[0m\u001b[0;34m)\u001b[0m\u001b[0;34m\u001b[0m\u001b[0;34m\u001b[0m\u001b[0m\n\u001b[1;32m    560\u001b[0m             )\n\u001b[0;32m--> 561\u001b[0;31m             \u001b[0mod\u001b[0m \u001b[0;34m=\u001b[0m \u001b[0mself\u001b[0m\u001b[0;34m.\u001b[0m\u001b[0m_conformer_generator\u001b[0m\u001b[0;34m.\u001b[0m\u001b[0mgenerate_conformers\u001b[0m\u001b[0;34m(\u001b[0m\u001b[0;34m[\u001b[0m\u001b[0mmols\u001b[0m\u001b[0;34m.\u001b[0m\u001b[0m_molecule\u001b[0m\u001b[0;34m]\u001b[0m\u001b[0;34m)\u001b[0m\u001b[0;34m\u001b[0m\u001b[0;34m\u001b[0m\u001b[0m\n\u001b[0m\u001b[1;32m    562\u001b[0m             \u001b[0;32mif\u001b[0m \u001b[0mod\u001b[0m\u001b[0;34m:\u001b[0m\u001b[0;34m\u001b[0m\u001b[0;34m\u001b[0m\u001b[0m\n\u001b[1;32m    563\u001b[0m                 \u001b[0;32mreturn\u001b[0m \u001b[0mConformerHitList\u001b[0m\u001b[0;34m(\u001b[0m\u001b[0mmols\u001b[0m\u001b[0;34m.\u001b[0m\u001b[0midentifier\u001b[0m\u001b[0;34m,\u001b[0m \u001b[0mod\u001b[0m\u001b[0;34m[\u001b[0m\u001b[0;36m0\u001b[0m\u001b[0;34m]\u001b[0m\u001b[0;34m)\u001b[0m\u001b[0;34m\u001b[0m\u001b[0;34m\u001b[0m\u001b[0m\n",
      "\u001b[0;32m~/anaconda3/envs/GeoMol/lib/python3.7/site-packages/ccdc/_lib/ConformerGeneratorLib.py\u001b[0m in \u001b[0;36mgenerate_conformers\u001b[0;34m(self, molecules)\u001b[0m\n\u001b[1;32m    649\u001b[0m \u001b[0;34m\u001b[0m\u001b[0m\n\u001b[1;32m    650\u001b[0m     \u001b[0;32mdef\u001b[0m \u001b[0mgenerate_conformers\u001b[0m\u001b[0;34m(\u001b[0m\u001b[0mself\u001b[0m\u001b[0;34m,\u001b[0m \u001b[0mmolecules\u001b[0m\u001b[0;34m)\u001b[0m\u001b[0;34m:\u001b[0m\u001b[0;34m\u001b[0m\u001b[0;34m\u001b[0m\u001b[0m\n\u001b[0;32m--> 651\u001b[0;31m         \u001b[0;32mreturn\u001b[0m \u001b[0m_ConformerGeneratorLib\u001b[0m\u001b[0;34m.\u001b[0m\u001b[0mGenerateConformersWorkFlow_generate_conformers\u001b[0m\u001b[0;34m(\u001b[0m\u001b[0mself\u001b[0m\u001b[0;34m,\u001b[0m \u001b[0mmolecules\u001b[0m\u001b[0;34m)\u001b[0m\u001b[0;34m\u001b[0m\u001b[0;34m\u001b[0m\u001b[0m\n\u001b[0m\u001b[1;32m    652\u001b[0m \u001b[0;34m\u001b[0m\u001b[0m\n\u001b[1;32m    653\u001b[0m     \u001b[0;32mdef\u001b[0m \u001b[0mfailed_molecules_minimisation\u001b[0m\u001b[0;34m(\u001b[0m\u001b[0mself\u001b[0m\u001b[0;34m)\u001b[0m\u001b[0;34m:\u001b[0m\u001b[0;34m\u001b[0m\u001b[0;34m\u001b[0m\u001b[0m\n",
      "\u001b[0;31mKeyboardInterrupt\u001b[0m: "
     ]
    }
   ],
   "source": [
    "logging.basicConfig(filename='example.log', level=logging.DEBUG)\n",
    "generated_mols = []\n",
    "for smiles, conf_ensemble in tqdm(all_CEL.get_unique_molecules()) :\n",
    "    logging.info('Processing ' + smiles)\n",
    "    try :\n",
    "        smiles = Chem.MolToSmiles(Chem.MolFromSmiles(smiles))\n",
    "        if conf_ensemble.mol.GetNumHeavyAtoms() < 50 :\n",
    "            ccdc_mol = Molecule.from_string(smiles, format='smiles')\n",
    "            if conf_ensemble.mol.GetNumAtoms() == len(ccdc_mol.atoms) :\n",
    "                ccdc_conformers = ccdc_conformer_generator.generate(ccdc_mol)\n",
    "                logging.info('Conformations generated')\n",
    "                generated_conf_ids = ccdc_conformers_to_rdkit_mol(ccdc_conformers, conf_ensemble.mol)\n",
    "                generated_mols.append(conf_ensemble.mol)\n",
    "                \n",
    "    except Exception as e :\n",
    "        print(e)\n",
    "        logging.warning('Exception occured: ' + str(e))"
   ]
  },
  {
   "cell_type": "code",
   "execution_count": null,
   "id": "57b2a1ee-7b90-4632-b3b4-51670c62c23c",
   "metadata": {},
   "outputs": [],
   "source": [
    "generated_CEL = ConformationEnsembleLibrary(generated_mols)"
   ]
  },
  {
   "cell_type": "code",
   "execution_count": null,
   "id": "64aa5e6f-68cd-4cd7-8459-11c65ee46f1f",
   "metadata": {},
   "outputs": [],
   "source": [
    "with open(os.path.join(data_dir_path, 'raw', 'pdbbind_conf_ensemble_library_ccdc_generated.p'), 'wb') as f :\n",
    "    pickle.dump(generated_CEL, f)\n",
    "    \n",
    "# here we only have the molecules parsed identically by RDKit (from mol2) and CSD (from smiles)"
   ]
  }
 ],
 "metadata": {
  "kernelspec": {
   "display_name": "Python 3 (ipykernel)",
   "language": "python",
   "name": "python3"
  },
  "language_info": {
   "codemirror_mode": {
    "name": "ipython",
    "version": 3
   },
   "file_extension": ".py",
   "mimetype": "text/x-python",
   "name": "python",
   "nbconvert_exporter": "python",
   "pygments_lexer": "ipython3",
   "version": "3.7.10"
  }
 },
 "nbformat": 4,
 "nbformat_minor": 5
}
