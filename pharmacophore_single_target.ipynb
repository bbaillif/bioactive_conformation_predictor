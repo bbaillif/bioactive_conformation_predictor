{
 "cells": [
  {
   "cell_type": "code",
   "execution_count": 1,
   "id": "38100ad5-21a6-4443-bf37-adf0f40748c1",
   "metadata": {},
   "outputs": [],
   "source": [
    "import pickle\n",
    "import os\n",
    "import sys\n",
    "\n",
    "from conf_ensemble_library import ConfEnsembleLibrary\n",
    "from pdbbind_metadata_processor import PDBBindMetadataProcessor\n",
    "from tqdm import tqdm\n",
    "from ccdc.pharmacophore import Pharmacophore\n",
    "from ccdc.utilities import Colour\n",
    "from ccdc import io\n",
    "from ccdc.protein import Protein\n",
    "from ccdc.io import MoleculeReader, MoleculeWriter"
   ]
  },
  {
   "cell_type": "code",
   "execution_count": 2,
   "id": "41f0c1e2-0e9b-40ca-8345-bae9c590c8fc",
   "metadata": {},
   "outputs": [],
   "source": [
    "with open('results/random_split_0_new_pdbbind/conf_results.p', 'rb') as f :\n",
    "    results = pickle.load(f)"
   ]
  },
  {
   "cell_type": "code",
   "execution_count": 3,
   "id": "bcec3e60-8898-4f04-8ca3-37943e26f7f5",
   "metadata": {},
   "outputs": [],
   "source": [
    "cel = ConfEnsembleLibrary()\n",
    "cel.load_metadata()"
   ]
  },
  {
   "cell_type": "code",
   "execution_count": 4,
   "id": "2133ad23-ad56-4a2a-aaa6-7f031351ec15",
   "metadata": {},
   "outputs": [],
   "source": [
    "def get_pdb_ids(smiles, cel) :\n",
    "    try :\n",
    "        ce = cel.load_ensemble_from_smiles(smiles)\n",
    "        mol = ce.mol\n",
    "        pdb_ids = [conf.GetProp('PDB_ID') for conf in mol.GetConformers()]\n",
    "        return list(set(pdb_ids))\n",
    "    except :\n",
    "        return list(set())"
   ]
  },
  {
   "cell_type": "code",
   "execution_count": 5,
   "id": "2515d7e7-50ea-4c91-98e5-ecdca6fe1308",
   "metadata": {},
   "outputs": [],
   "source": [
    "test_set_pdbs = []\n",
    "for smiles in results :\n",
    "    pdb_ids = get_pdb_ids(smiles, cel)\n",
    "    results[smiles]['PDB_ID'] = str(pdb_ids)\n",
    "    test_set_pdbs.extend(pdb_ids)"
   ]
  },
  {
   "cell_type": "code",
   "execution_count": 6,
   "id": "36fc90db-7954-4fc0-b84a-8c48df774d4b",
   "metadata": {},
   "outputs": [
    {
     "data": {
      "text/plain": [
       "1324"
      ]
     },
     "execution_count": 6,
     "metadata": {},
     "output_type": "execute_result"
    }
   ],
   "source": [
    "len(test_set_pdbs)"
   ]
  },
  {
   "cell_type": "code",
   "execution_count": 7,
   "id": "c7f107e2-4fd9-4979-95a1-a60f3ac73197",
   "metadata": {},
   "outputs": [],
   "source": [
    "pmp = PDBBindMetadataProcessor()"
   ]
  },
  {
   "cell_type": "code",
   "execution_count": 8,
   "id": "456c23f3-bf14-48a8-a2c1-822da54fef8a",
   "metadata": {},
   "outputs": [],
   "source": [
    "table = pmp.get_master_dataframe()"
   ]
  },
  {
   "cell_type": "code",
   "execution_count": 9,
   "id": "e71054ab-4c38-411b-8f0b-25d9f6a06cd6",
   "metadata": {},
   "outputs": [],
   "source": [
    "active_table = table[(table['-logKd/Ki'] > 6) & (table['resolution'].str.replace('NMR', '0').astype(float) <= 2)]"
   ]
  },
  {
   "cell_type": "code",
   "execution_count": 10,
   "id": "807cf934-34fb-4ac2-b3ed-3b65984a9be9",
   "metadata": {},
   "outputs": [],
   "source": [
    "protein_counts = active_table['protein name'].value_counts()"
   ]
  },
  {
   "cell_type": "code",
   "execution_count": 11,
   "id": "647e1a94-db6a-4b0b-8098-be81a9c5530b",
   "metadata": {},
   "outputs": [],
   "source": [
    "top_proteins_counts = protein_counts[protein_counts > 20]"
   ]
  },
  {
   "cell_type": "code",
   "execution_count": 12,
   "id": "59a8ca5a-0b84-4a67-a48c-1f2628d9778b",
   "metadata": {
    "scrolled": true,
    "tags": []
   },
   "outputs": [
    {
     "data": {
      "text/plain": [
       "CARBONIC ANHYDRASE 2                             298\n",
       "HIV-1 PROTEASE                                   195\n",
       "BETA-SECRETASE 1                                 149\n",
       "HEAT SHOCK PROTEIN HSP90-ALPHA                    91\n",
       "BROMODOMAIN-CONTAINING PROTEIN 4                  89\n",
       "CELL DIVISION PROTEIN KINASE 2                    51\n",
       "TANKYRASE-2                                       49\n",
       "BETA-LACTAMASE                                    47\n",
       "SERINE/THREONINE-PROTEIN KINASE CHK1              45\n",
       "MITOGEN-ACTIVATED PROTEIN KINASE 14               43\n",
       "GLUTAMATE CARBOXYPEPTIDASE 2                      38\n",
       "TRANSTHYRETIN                                     36\n",
       "HEPATOCYTE GROWTH FACTOR RECEPTOR                 34\n",
       "TYROSINE-PROTEIN KINASE BTK                       34\n",
       "E3 UBIQUITIN-PROTEIN LIGASE MDM2                  34\n",
       "CYCLIN-DEPENDENT KINASE 2                         33\n",
       "GLUTAMATE RECEPTOR 2                              32\n",
       "TRYPSIN                                           32\n",
       "MITOGEN-ACTIVATED PROTEIN KINASE 1                29\n",
       "TRYPSIN BETA                                      28\n",
       "NEURAMINIDASE                                     27\n",
       "CASEIN KINASE II, ALPHA SUBUNIT                   27\n",
       "COAGULATION FACTOR XA                             25\n",
       "TYROSINE-PROTEIN KINASE SYK                       25\n",
       "CGMP-DEPENDENT 3',5'-CYCLIC PHOSPHODIESTERASE     25\n",
       "CREB-BINDING PROTEIN                              25\n",
       "MACROPHAGE METALLOELASTASE (MMP-12)               25\n",
       "EPHRIN TYPE-A RECEPTOR 2                          24\n",
       "RNA-DIRECTED RNA POLYMERASE                       24\n",
       "QUEUINE TRNA-RIBOSYLTRANSFERASE                   23\n",
       "THROMBIN LIGHT CHAIN                              22\n",
       "TYROSINE-PROTEIN KINASE JAK2                      21\n",
       "Name: protein name, dtype: int64"
      ]
     },
     "execution_count": 12,
     "metadata": {},
     "output_type": "execute_result"
    }
   ],
   "source": [
    "top_proteins_counts"
   ]
  },
  {
   "cell_type": "code",
   "execution_count": 13,
   "id": "03a481bd-6b71-4723-855d-0cb6c434fdf4",
   "metadata": {},
   "outputs": [],
   "source": [
    "top_proteins = top_proteins_counts.index"
   ]
  },
  {
   "cell_type": "code",
   "execution_count": 15,
   "id": "2ea468dc-480f-4785-b729-4beccb8ea787",
   "metadata": {},
   "outputs": [
    {
     "name": "stderr",
     "output_type": "stream",
     "text": [
      "  7%|██▉                                         | 2/30 [00:00<00:02, 10.70it/s]"
     ]
    },
    {
     "name": "stdout",
     "output_type": "stream",
     "text": [
      "CARBONIC ANHYDRASE 2\n"
     ]
    },
    {
     "name": "stderr",
     "output_type": "stream",
     "text": [
      "100%|███████████████████████████████████████████| 30/30 [00:03<00:00,  9.18it/s]\n",
      "  3%|█▍                                          | 1/30 [00:00<00:03,  9.22it/s]"
     ]
    },
    {
     "name": "stdout",
     "output_type": "stream",
     "text": [
      "HIV-1 PROTEASE\n"
     ]
    },
    {
     "name": "stderr",
     "output_type": "stream",
     "text": [
      "100%|███████████████████████████████████████████| 30/30 [00:02<00:00, 10.49it/s]\n",
      "  0%|                                                    | 0/30 [00:00<?, ?it/s]"
     ]
    },
    {
     "name": "stdout",
     "output_type": "stream",
     "text": [
      "BETA-SECRETASE 1\n"
     ]
    },
    {
     "name": "stderr",
     "output_type": "stream",
     "text": [
      "100%|███████████████████████████████████████████| 30/30 [00:06<00:00,  4.99it/s]\n",
      "  7%|██▉                                         | 2/30 [00:00<00:02, 12.38it/s]"
     ]
    },
    {
     "name": "stdout",
     "output_type": "stream",
     "text": [
      "HEAT SHOCK PROTEIN HSP90-ALPHA\n"
     ]
    },
    {
     "name": "stderr",
     "output_type": "stream",
     "text": [
      "100%|███████████████████████████████████████████| 30/30 [00:03<00:00,  9.35it/s]\n",
      " 10%|████▍                                       | 3/30 [00:00<00:01, 23.12it/s]"
     ]
    },
    {
     "name": "stdout",
     "output_type": "stream",
     "text": [
      "BROMODOMAIN-CONTAINING PROTEIN 4\n"
     ]
    },
    {
     "name": "stderr",
     "output_type": "stream",
     "text": [
      "100%|███████████████████████████████████████████| 30/30 [00:01<00:00, 19.52it/s]\n",
      "  7%|██▉                                         | 2/30 [00:00<00:04,  6.71it/s]"
     ]
    },
    {
     "name": "stdout",
     "output_type": "stream",
     "text": [
      "CELL DIVISION PROTEIN KINASE 2\n"
     ]
    },
    {
     "name": "stderr",
     "output_type": "stream",
     "text": [
      "100%|███████████████████████████████████████████| 30/30 [00:05<00:00,  5.92it/s]\n",
      "  7%|██▉                                         | 2/30 [00:00<00:02, 10.91it/s]"
     ]
    },
    {
     "name": "stdout",
     "output_type": "stream",
     "text": [
      "TANKYRASE-2\n"
     ]
    },
    {
     "name": "stderr",
     "output_type": "stream",
     "text": [
      "100%|███████████████████████████████████████████| 30/30 [00:02<00:00, 11.64it/s]\n",
      "  7%|██▉                                         | 2/30 [00:00<00:02, 10.84it/s]"
     ]
    },
    {
     "name": "stdout",
     "output_type": "stream",
     "text": [
      "BETA-LACTAMASE\n"
     ]
    },
    {
     "name": "stderr",
     "output_type": "stream",
     "text": [
      "100%|███████████████████████████████████████████| 30/30 [00:03<00:00,  8.54it/s]\n",
      "  7%|██▉                                         | 2/30 [00:00<00:04,  6.98it/s]"
     ]
    },
    {
     "name": "stdout",
     "output_type": "stream",
     "text": [
      "SERINE/THREONINE-PROTEIN KINASE CHK1\n"
     ]
    },
    {
     "name": "stderr",
     "output_type": "stream",
     "text": [
      "100%|███████████████████████████████████████████| 30/30 [00:04<00:00,  7.17it/s]\n",
      "  3%|█▍                                          | 1/30 [00:00<00:05,  5.11it/s]"
     ]
    },
    {
     "name": "stdout",
     "output_type": "stream",
     "text": [
      "MITOGEN-ACTIVATED PROTEIN KINASE 14\n"
     ]
    },
    {
     "name": "stderr",
     "output_type": "stream",
     "text": [
      "100%|███████████████████████████████████████████| 30/30 [00:05<00:00,  5.42it/s]\n",
      "  3%|█▍                                          | 1/30 [00:00<00:08,  3.56it/s]"
     ]
    },
    {
     "name": "stdout",
     "output_type": "stream",
     "text": [
      "GLUTAMATE CARBOXYPEPTIDASE 2\n"
     ]
    },
    {
     "name": "stderr",
     "output_type": "stream",
     "text": [
      "100%|███████████████████████████████████████████| 30/30 [00:16<00:00,  1.84it/s]\n",
      "  3%|█▍                                          | 1/30 [00:00<00:04,  5.94it/s]"
     ]
    },
    {
     "name": "stdout",
     "output_type": "stream",
     "text": [
      "TRANSTHYRETIN\n"
     ]
    },
    {
     "name": "stderr",
     "output_type": "stream",
     "text": [
      "100%|███████████████████████████████████████████| 30/30 [00:05<00:00,  5.02it/s]\n",
      "  3%|█▍                                          | 1/30 [00:00<00:05,  5.78it/s]"
     ]
    },
    {
     "name": "stdout",
     "output_type": "stream",
     "text": [
      "HEPATOCYTE GROWTH FACTOR RECEPTOR\n"
     ]
    },
    {
     "name": "stderr",
     "output_type": "stream",
     "text": [
      "100%|███████████████████████████████████████████| 30/30 [00:04<00:00,  6.75it/s]\n",
      "  7%|██▉                                         | 2/30 [00:00<00:03,  7.86it/s]"
     ]
    },
    {
     "name": "stdout",
     "output_type": "stream",
     "text": [
      "TYROSINE-PROTEIN KINASE BTK\n"
     ]
    },
    {
     "name": "stderr",
     "output_type": "stream",
     "text": [
      "100%|███████████████████████████████████████████| 30/30 [00:03<00:00,  9.50it/s]\n",
      " 11%|████▉                                       | 3/27 [00:00<00:00, 24.44it/s]"
     ]
    },
    {
     "name": "stdout",
     "output_type": "stream",
     "text": [
      "E3 UBIQUITIN-PROTEIN LIGASE MDM2\n"
     ]
    },
    {
     "name": "stderr",
     "output_type": "stream",
     "text": [
      "100%|███████████████████████████████████████████| 27/27 [00:01<00:00, 22.74it/s]\n",
      "  4%|█▌                                          | 1/28 [00:00<00:03,  6.90it/s]"
     ]
    },
    {
     "name": "stdout",
     "output_type": "stream",
     "text": [
      "CYCLIN-DEPENDENT KINASE 2\n"
     ]
    },
    {
     "name": "stderr",
     "output_type": "stream",
     "text": [
      "100%|███████████████████████████████████████████| 28/28 [00:04<00:00,  6.22it/s]\n",
      "  7%|██▉                                         | 2/30 [00:00<00:04,  6.35it/s]"
     ]
    },
    {
     "name": "stdout",
     "output_type": "stream",
     "text": [
      "GLUTAMATE RECEPTOR 2\n"
     ]
    },
    {
     "name": "stderr",
     "output_type": "stream",
     "text": [
      "100%|███████████████████████████████████████████| 30/30 [00:08<00:00,  3.47it/s]\n",
      "  3%|█▍                                          | 1/30 [00:00<00:05,  5.07it/s]"
     ]
    },
    {
     "name": "stdout",
     "output_type": "stream",
     "text": [
      "TRYPSIN\n"
     ]
    },
    {
     "name": "stderr",
     "output_type": "stream",
     "text": [
      "100%|███████████████████████████████████████████| 30/30 [00:03<00:00,  8.03it/s]\n",
      "  3%|█▍                                          | 1/30 [00:00<00:03,  7.97it/s]"
     ]
    },
    {
     "name": "stdout",
     "output_type": "stream",
     "text": [
      "MITOGEN-ACTIVATED PROTEIN KINASE 1\n"
     ]
    },
    {
     "name": "stderr",
     "output_type": "stream",
     "text": [
      "100%|███████████████████████████████████████████| 30/30 [00:05<00:00,  5.84it/s]\n",
      "  4%|█▊                                          | 1/25 [00:00<00:02,  8.31it/s]"
     ]
    },
    {
     "name": "stdout",
     "output_type": "stream",
     "text": [
      "TRYPSIN BETA\n"
     ]
    },
    {
     "name": "stderr",
     "output_type": "stream",
     "text": [
      "100%|███████████████████████████████████████████| 25/25 [00:02<00:00,  8.90it/s]\n",
      "  5%|██                                          | 1/22 [00:00<00:03,  6.36it/s]"
     ]
    },
    {
     "name": "stdout",
     "output_type": "stream",
     "text": [
      "NEURAMINIDASE\n"
     ]
    },
    {
     "name": "stderr",
     "output_type": "stream",
     "text": [
      "100%|███████████████████████████████████████████| 22/22 [00:18<00:00,  1.19it/s]\n",
      "  0%|                                                    | 0/25 [00:00<?, ?it/s]"
     ]
    },
    {
     "name": "stdout",
     "output_type": "stream",
     "text": [
      "CASEIN KINASE II, ALPHA SUBUNIT\n"
     ]
    },
    {
     "name": "stderr",
     "output_type": "stream",
     "text": [
      "100%|███████████████████████████████████████████| 25/25 [00:05<00:00,  4.62it/s]\n",
      "  8%|███▌                                        | 2/25 [00:00<00:03,  6.44it/s]"
     ]
    },
    {
     "name": "stdout",
     "output_type": "stream",
     "text": [
      "COAGULATION FACTOR XA\n"
     ]
    },
    {
     "name": "stderr",
     "output_type": "stream",
     "text": [
      "100%|███████████████████████████████████████████| 25/25 [00:03<00:00,  6.32it/s]\n",
      "  5%|██                                          | 1/22 [00:00<00:03,  6.32it/s]"
     ]
    },
    {
     "name": "stdout",
     "output_type": "stream",
     "text": [
      "TYROSINE-PROTEIN KINASE SYK\n"
     ]
    },
    {
     "name": "stderr",
     "output_type": "stream",
     "text": [
      "100%|███████████████████████████████████████████| 22/22 [00:02<00:00,  8.71it/s]\n",
      "  9%|███▊                                        | 2/23 [00:00<00:02,  8.36it/s]"
     ]
    },
    {
     "name": "stdout",
     "output_type": "stream",
     "text": [
      "CGMP-DEPENDENT 3',5'-CYCLIC PHOSPHODIESTERASE\n"
     ]
    },
    {
     "name": "stderr",
     "output_type": "stream",
     "text": [
      "100%|███████████████████████████████████████████| 23/23 [00:04<00:00,  5.52it/s]\n",
      " 24%|██████████▌                                 | 6/25 [00:00<00:00, 23.66it/s]"
     ]
    },
    {
     "name": "stdout",
     "output_type": "stream",
     "text": [
      "CREB-BINDING PROTEIN\n"
     ]
    },
    {
     "name": "stderr",
     "output_type": "stream",
     "text": [
      "100%|███████████████████████████████████████████| 25/25 [00:01<00:00, 21.96it/s]\n",
      "/home/benoit/anaconda3/envs/GeoMol/lib/python3.7/site-packages/pandas/core/strings/accessor.py:101: UserWarning: This pattern has match groups. To actually get the groups, use str.extract.\n",
      "  return func(self, *args, **kwargs)\n",
      "0it [00:00, ?it/s]\n",
      " 10%|████▍                                       | 2/20 [00:00<00:01, 11.12it/s]"
     ]
    },
    {
     "name": "stdout",
     "output_type": "stream",
     "text": [
      "MACROPHAGE METALLOELASTASE (MMP-12)\n",
      "EPHRIN TYPE-A RECEPTOR 2\n"
     ]
    },
    {
     "name": "stderr",
     "output_type": "stream",
     "text": [
      "100%|███████████████████████████████████████████| 20/20 [00:01<00:00, 10.52it/s]\n",
      "  0%|                                                    | 0/28 [00:00<?, ?it/s]"
     ]
    },
    {
     "name": "stdout",
     "output_type": "stream",
     "text": [
      "RNA-DIRECTED RNA POLYMERASE\n"
     ]
    },
    {
     "name": "stderr",
     "output_type": "stream",
     "text": [
      "100%|███████████████████████████████████████████| 28/28 [00:33<00:00,  1.20s/it]\n",
      "  5%|██                                          | 1/22 [00:00<00:07,  2.66it/s]"
     ]
    },
    {
     "name": "stdout",
     "output_type": "stream",
     "text": [
      "QUEUINE TRNA-RIBOSYLTRANSFERASE\n"
     ]
    },
    {
     "name": "stderr",
     "output_type": "stream",
     "text": [
      "100%|███████████████████████████████████████████| 22/22 [00:06<00:00,  3.27it/s]\n",
      "  0%|                                                    | 0/20 [00:00<?, ?it/s]"
     ]
    },
    {
     "name": "stdout",
     "output_type": "stream",
     "text": [
      "THROMBIN LIGHT CHAIN\n"
     ]
    },
    {
     "name": "stderr",
     "output_type": "stream",
     "text": [
      "100%|███████████████████████████████████████████| 20/20 [00:13<00:00,  1.50it/s]\n",
      "  5%|██▎                                         | 1/19 [00:00<00:02,  8.72it/s]"
     ]
    },
    {
     "name": "stdout",
     "output_type": "stream",
     "text": [
      "TYROSINE-PROTEIN KINASE JAK2\n"
     ]
    },
    {
     "name": "stderr",
     "output_type": "stream",
     "text": [
      "100%|███████████████████████████████████████████| 19/19 [00:02<00:00,  7.25it/s]\n"
     ]
    }
   ],
   "source": [
    "for protein_name in top_proteins :\n",
    "    print(protein_name)\n",
    "    actives = active_table[(active_table['protein name'].str.contains(protein_name))]\n",
    "    active_pdbs = actives['PDB code'].values\n",
    "    #print(active_pdbs)\n",
    "    train_set_actives = [pdb for pdb in active_pdbs if not pdb in test_set_pdbs]\n",
    "    joined_name = protein_name.replace(\" \", \"_\").replace(\"/\", \"-\")\n",
    "    ligands_path = os.path.join('pharmacophores',\n",
    "                                f'{joined_name}_ligands_aligned.mol2')\n",
    "    proteins_path = os.path.join('pharmacophores',\n",
    "                                f'{joined_name}_proteins_aligned.mol2')\n",
    "    with MoleculeWriter(ligands_path) as writer, MoleculeWriter(proteins_path) as protein_writer :\n",
    "        for i, pdb_id in enumerate(tqdm(train_set_actives[:30])) :\n",
    "            try :\n",
    "                protein_path, ligand_pathes = pmp.get_pdb_id_pathes(pdb_id)\n",
    "                ligand_path = ligand_pathes[0]\n",
    "                ligand = MoleculeReader(ligand_path)[0]\n",
    "                if i == 0 :\n",
    "                    reference_protein = Protein.from_file(protein_path)\n",
    "                    #print(\"Protein has {} chains and {} residues.\".format(len(reference_protein.chains),len(reference_protein.residues)))\n",
    "                    current_protein = reference_protein\n",
    "                else :\n",
    "                    current_protein = Protein.from_file(protein_path)\n",
    "                    #print(\"Protein has {} chains and {} residues.\".format(len(current_protein.chains),len(current_protein.residues)))\n",
    "                    chain_superposition = Protein.ChainSuperposition()\n",
    "                    (rmsd, transformation) = chain_superposition.superpose(reference_protein.chains[0], current_protein.chains[0])\n",
    "                    #print(rmsd)\n",
    "                    ligand.transform(transformation)\n",
    "                protein_writer.write(current_protein)\n",
    "                writer.write(ligand)\n",
    "            except KeyboardInterrupt :\n",
    "                sys.exit(0)\n",
    "            except :\n",
    "                print(f'error with {pdb_id}')"
   ]
  },
  {
   "cell_type": "code",
   "execution_count": 14,
   "id": "3a3d5830-7698-47ef-b559-42e1d9f2df5d",
   "metadata": {},
   "outputs": [],
   "source": [
    "test_set_actives = [pdb for pdb in active_pdbs if pdb in test_set_pdbs]"
   ]
  },
  {
   "cell_type": "code",
   "execution_count": 15,
   "id": "3804540d-2b55-4604-93ff-402be554b9c7",
   "metadata": {},
   "outputs": [],
   "source": [
    "train_set_actives = [pdb for pdb in active_pdbs if not pdb in test_set_pdbs]"
   ]
  },
  {
   "cell_type": "code",
   "execution_count": 16,
   "id": "4817b5aa-af46-45b2-ba57-5d939f7de083",
   "metadata": {
    "scrolled": true,
    "tags": []
   },
   "outputs": [
    {
     "data": {
      "text/plain": [
       "['4hzt',\n",
       " '2zdz',\n",
       " '4r8y',\n",
       " '4b72',\n",
       " '4i0d',\n",
       " '2viz',\n",
       " '2qu3',\n",
       " '5hu0',\n",
       " '4djw',\n",
       " '4i0z',\n",
       " '4zpe',\n",
       " '4j0y',\n",
       " '4r91',\n",
       " '5f01',\n",
       " '4i12',\n",
       " '4dpf',\n",
       " '5he5',\n",
       " '5kqf',\n",
       " '4frj',\n",
       " '4fs4',\n",
       " '4ybi',\n",
       " '5f00',\n",
       " '2wf0',\n",
       " '4rrs',\n",
       " '4djv',\n",
       " '4zpf',\n",
       " '3ine',\n",
       " '3ufl',\n",
       " '3lpj',\n",
       " '4pzw',\n",
       " '2b8v',\n",
       " '4jpc',\n",
       " '4h3j',\n",
       " '5ezx',\n",
       " '4b1c',\n",
       " '6bfx',\n",
       " '4acx',\n",
       " '4dpi',\n",
       " '4r5n',\n",
       " '2p8h',\n",
       " '5enm',\n",
       " '6fgy',\n",
       " '5t1u',\n",
       " '3in3',\n",
       " '4djx',\n",
       " '4ha5',\n",
       " '3veu',\n",
       " '3vg1',\n",
       " '4zpg',\n",
       " '4j17',\n",
       " '4xxs',\n",
       " '4j0p',\n",
       " '4d88',\n",
       " '4jpe',\n",
       " '4rrn',\n",
       " '5hdx',\n",
       " '3ivh',\n",
       " '5hdz',\n",
       " '4ewo',\n",
       " '4acu',\n",
       " '2vj7',\n",
       " '3inf',\n",
       " '4r92',\n",
       " '2vie',\n",
       " '4b1d',\n",
       " '6uwp',\n",
       " '2ph6',\n",
       " '2qzk',\n",
       " '3l5e',\n",
       " '4b05',\n",
       " '2wf2',\n",
       " '4jp9',\n",
       " '2wez',\n",
       " '3zmg',\n",
       " '4x7i',\n",
       " '3inh',\n",
       " '5he4',\n",
       " '4j1e',\n",
       " '6e3z',\n",
       " '6ej2',\n",
       " '2b8l',\n",
       " '2xfi',\n",
       " '3tpp',\n",
       " '5hdv',\n",
       " '3cib',\n",
       " '3ooz',\n",
       " '4r95',\n",
       " '2wf4',\n",
       " '2irz',\n",
       " '2oah',\n",
       " '6eqm',\n",
       " '6uwv',\n",
       " '4n00',\n",
       " '4exg',\n",
       " '2qp8',\n",
       " '2qzl',\n",
       " '3l58',\n",
       " '5i3x',\n",
       " '4h3g',\n",
       " '4di2',\n",
       " '4djy',\n",
       " '2iqg',\n",
       " '2qmd',\n",
       " '3cid',\n",
       " '5he7',\n",
       " '6bfd',\n",
       " '4rcf',\n",
       " '5hd0',\n",
       " '2qmf',\n",
       " '2vnm',\n",
       " '2xfk',\n",
       " '3cic',\n",
       " '4h1e',\n",
       " '4h3i',\n",
       " '4b00',\n",
       " '5htz',\n",
       " '5hu1',\n",
       " '2vnn',\n",
       " '2wf1',\n",
       " '4d89',\n",
       " '4lxa',\n",
       " '4frs',\n",
       " '6jse',\n",
       " '4h3f',\n",
       " '5hdu',\n",
       " '4xkx',\n",
       " '3lpk',\n",
       " '2qmg',\n",
       " '4rcd',\n",
       " '6pz4',\n",
       " '5uyu',\n",
       " '2g94',\n",
       " '4wtu']"
      ]
     },
     "execution_count": 16,
     "metadata": {},
     "output_type": "execute_result"
    }
   ],
   "source": [
    "train_set_actives"
   ]
  },
  {
   "cell_type": "code",
   "execution_count": 17,
   "id": "66f7d7fc-f03a-4283-b9ee-253ae3464fd2",
   "metadata": {
    "scrolled": true,
    "tags": []
   },
   "outputs": [
    {
     "data": {
      "text/plain": [
       "['3l5f',\n",
       " '4i0f',\n",
       " '6bfw',\n",
       " '4azy',\n",
       " '2vj9',\n",
       " '4fm7',\n",
       " '4j0v',\n",
       " '4rro',\n",
       " '4r93',\n",
       " '5i3v',\n",
       " '2vj6',\n",
       " '2xfj',\n",
       " '4i1c',\n",
       " '6od6',\n",
       " '3k5g',\n",
       " '4ke1']"
      ]
     },
     "execution_count": 17,
     "metadata": {},
     "output_type": "execute_result"
    }
   ],
   "source": [
    "test_set_actives"
   ]
  },
  {
   "cell_type": "code",
   "execution_count": 18,
   "id": "1dae026b-ab75-4c47-9ffd-788f60c50bf1",
   "metadata": {
    "scrolled": true,
    "tags": []
   },
   "outputs": [
    {
     "name": "stdout",
     "output_type": "stream",
     "text": [
      "Protein has 1 chains and 393 residues.\n",
      "Protein has 1 chains and 370 residues.\n",
      "0.44145808088663124\n",
      "Protein has 1 chains and 387 residues.\n",
      "0.48189136130929516\n",
      "Protein has 1 chains and 376 residues.\n",
      "0.541223537201981\n",
      "Protein has 1 chains and 387 residues.\n",
      "0.23158644292357541\n",
      "Protein has 1 chains and 371 residues.\n",
      "0.505283325730455\n",
      "Protein has 1 chains and 368 residues.\n",
      "0.5256661425655665\n",
      "Protein has 1 chains and 390 residues.\n",
      "0.4736642371788168\n",
      "Protein has 1 chains and 390 residues.\n",
      "0.4776349850383905\n",
      "Protein has 1 chains and 390 residues.\n",
      "0.1497160679046012\n",
      "Protein has 1 chains and 369 residues.\n",
      "0.5437287614312016\n",
      "Protein has 1 chains and 379 residues.\n",
      "0.4865058584906452\n",
      "Protein has 1 chains and 387 residues.\n",
      "0.48326760936517693\n",
      "Protein has 1 chains and 384 residues.\n",
      "0.49748154141366296\n",
      "Protein has 1 chains and 374 residues.\n",
      "0.42857625833854607\n",
      "Protein has 1 chains and 375 residues.\n",
      "0.5319889501246754\n",
      "Protein has 1 chains and 387 residues.\n",
      "0.49759031383948116\n",
      "Protein has 1 chains and 358 residues.\n",
      "0.4210860784164853\n",
      "Protein has 1 chains and 373 residues.\n",
      "3.92370891768726\n",
      "Protein has 2 chains and 779 residues.\n",
      "0.4652040774504384\n",
      "Protein has 1 chains and 388 residues.\n",
      "8.040969559796887\n",
      "Protein has 1 chains and 371 residues.\n",
      "0.4605636043048455\n",
      "Protein has 1 chains and 373 residues.\n",
      "0.5137106666928541\n",
      "Protein has 1 chains and 393 residues.\n",
      "0.38215031163093527\n",
      "Protein has 1 chains and 390 residues.\n",
      "0.47951047877622394\n",
      "Protein has 1 chains and 371 residues.\n",
      "0.5339050263872228\n",
      "Protein has 1 chains and 367 residues.\n",
      "0.4717737904985773\n",
      "Protein has 1 chains and 373 residues.\n",
      "0.5287610144336761\n",
      "Protein has 2 chains and 779 residues.\n",
      "0.5220343847973736\n",
      "Protein has 1 chains and 397 residues.\n",
      "0.4087715959667872\n",
      "Protein has 1 chains and 373 residues.\n",
      "0.6973709536775615\n",
      "Protein has 1 chains and 402 residues.\n",
      "0.4460492870610533\n",
      "Protein has 1 chains and 390 residues.\n",
      "0.48173388118321037\n",
      "Protein has 1 chains and 374 residues.\n",
      "0.4418207416537568\n",
      "Protein has 1 chains and 375 residues.\n",
      "0.5640206442585908\n",
      "Protein has 1 chains and 389 residues.\n",
      "8.057494115915862\n",
      "Protein has 1 chains and 370 residues.\n",
      "0.4730775029975529\n",
      "Protein has 1 chains and 373 residues.\n",
      "0.4947555305873444\n",
      "Protein has 1 chains and 393 residues.\n",
      "0.3691109088174151\n",
      "Protein has 1 chains and 379 residues.\n",
      "0.747135800430264\n",
      "Protein has 1 chains and 359 residues.\n",
      "0.4286836939401173\n",
      "Protein has 1 chains and 379 residues.\n",
      "0.4916679906517985\n",
      "Protein has 1 chains and 380 residues.\n",
      "8.067476769973977\n",
      "Protein has 1 chains and 370 residues.\n",
      "0.4604315438038524\n",
      "Protein has 1 chains and 390 residues.\n",
      "0.4798673321920456\n",
      "Protein has 1 chains and 390 residues.\n",
      "0.48459048738729255\n",
      "Protein has 1 chains and 380 residues.\n",
      "6.189124074419537\n",
      "Protein has 1 chains and 376 residues.\n",
      "6.243226065911935\n",
      "Protein has 1 chains and 369 residues.\n",
      "0.5231775567493427\n",
      "Protein has 1 chains and 379 residues.\n",
      "0.4758018110593381\n",
      "Protein has 1 chains and 376 residues.\n",
      "9.951781670503042\n",
      "Protein has 1 chains and 376 residues.\n",
      "0.4502550905486575\n",
      "Protein has 1 chains and 375 residues.\n",
      "6.171086001948796\n",
      "Protein has 1 chains and 402 residues.\n",
      "0.4185881474654153\n",
      "Protein has 1 chains and 393 residues.\n",
      "0.3661717574710968\n",
      "Protein has 1 chains and 387 residues.\n",
      "0.4900192433651\n",
      "Protein has 1 chains and 379 residues.\n",
      "0.48598804002754403\n",
      "Protein has 1 chains and 387 residues.\n",
      "0.5035893828500873\n",
      "Protein has 1 chains and 377 residues.\n",
      "0.5265386432033164\n",
      "Protein has 1 chains and 372 residues.\n",
      "0.4808842782186639\n",
      "Protein has 1 chains and 371 residues.\n",
      "0.5097644660605625\n",
      "Protein has 1 chains and 367 residues.\n",
      "0.5427068844472228\n",
      "Protein has 1 chains and 388 residues.\n",
      "0.4965114520101733\n",
      "Protein has 1 chains and 374 residues.\n",
      "0.535567555689768\n",
      "Protein has 1 chains and 376 residues.\n",
      "0.5511434634283471\n",
      "Protein has 1 chains and 393 residues.\n",
      "14.000706996701018\n",
      "Protein has 1 chains and 371 residues.\n",
      "0.6175073985485035\n",
      "Protein has 1 chains and 376 residues.\n",
      "6.184854128317914\n",
      "Protein has 1 chains and 390 residues.\n",
      "0.5085758661701859\n",
      "Protein has 1 chains and 371 residues.\n",
      "0.4852322383249764\n",
      "Protein has 1 chains and 375 residues.\n",
      "0.5286081478093639\n",
      "Protein has 1 chains and 402 residues.\n",
      "0.441476713012787\n",
      "Protein has 1 chains and 373 residues.\n",
      "0.5303001533848009\n",
      "Protein has 1 chains and 385 residues.\n",
      "0.4986030986663744\n",
      "Protein has 1 chains and 389 residues.\n",
      "10.008964509094787\n",
      "Protein has 1 chains and 366 residues.\n",
      "0.4730738888541922\n",
      "Protein has 1 chains and 387 residues.\n",
      "0.4847415267035368\n",
      "Protein has 1 chains and 379 residues.\n",
      "0.48222844667963666\n",
      "Protein has 1 chains and 378 residues.\n",
      "10.044550435039632\n",
      "Protein has 1 chains and 377 residues.\n",
      "0.45620788376969285\n",
      "Protein has 1 chains and 379 residues.\n",
      "0.7300351461950683\n",
      "Protein has 1 chains and 373 residues.\n",
      "0.49075418257514997\n",
      "Protein has 1 chains and 375 residues.\n",
      "10.101798574338961\n",
      "Protein has 1 chains and 384 residues.\n",
      "0.4899576013563872\n",
      "Protein has 1 chains and 390 residues.\n",
      "0.5219125275619756\n",
      "Protein has 1 chains and 368 residues.\n",
      "0.47085433090638623\n",
      "Protein has 1 chains and 387 residues.\n",
      "0.4905477674229354\n",
      "Protein has 1 chains and 373 residues.\n",
      "0.5217728639832424\n",
      "Protein has 1 chains and 379 residues.\n",
      "0.7262339578551106\n",
      "Protein has 2 chains and 756 residues.\n",
      "0.7051891067823982\n",
      "Protein has 1 chains and 378 residues.\n",
      "6.164057934436834\n",
      "Protein has 1 chains and 391 residues.\n",
      "11.520446872107964\n",
      "Protein has 1 chains and 393 residues.\n",
      "0.3761363570810375\n",
      "Protein has 1 chains and 377 residues.\n",
      "0.5034958031621306\n",
      "Protein has 1 chains and 390 residues.\n",
      "0.5309204098487862\n",
      "Protein has 1 chains and 375 residues.\n",
      "0.6360849866680186\n",
      "Protein has 1 chains and 395 residues.\n",
      "0.5322308640911776\n",
      "Protein has 1 chains and 373 residues.\n",
      "3.9165682687781187\n",
      "Protein has 1 chains and 390 residues.\n",
      "0.5086375974100306\n",
      "Protein has 1 chains and 375 residues.\n",
      "11.48431509401006\n",
      "Protein has 1 chains and 390 residues.\n",
      "0.48301029860132416\n",
      "Protein has 1 chains and 375 residues.\n",
      "0.5820127989675059\n",
      "Protein has 1 chains and 390 residues.\n",
      "0.5329465411541545\n",
      "Protein has 1 chains and 390 residues.\n",
      "0.5233988990405904\n",
      "Protein has 1 chains and 385 residues.\n",
      "0.48322375724452105\n",
      "Protein has 1 chains and 393 residues.\n",
      "14.018815536137177\n",
      "Protein has 1 chains and 370 residues.\n",
      "3.9052702340918577\n",
      "Protein has 1 chains and 387 residues.\n",
      "0.4966205004774609\n",
      "Protein has 1 chains and 390 residues.\n",
      "0.5236600995587173\n",
      "Protein has 1 chains and 375 residues.\n",
      "0.56037083798217\n",
      "Protein has 1 chains and 372 residues.\n",
      "0.5057294076512724\n",
      "Protein has 1 chains and 390 residues.\n",
      "0.5261055838879428\n",
      "Protein has 1 chains and 386 residues.\n",
      "0.4832489847076879\n",
      "Protein has 1 chains and 387 residues.\n",
      "0.4915960031635339\n",
      "Protein has 1 chains and 375 residues.\n",
      "0.5383845903255463\n",
      "Protein has 1 chains and 388 residues.\n",
      "0.4778432597107086\n",
      "Protein has 1 chains and 388 residues.\n",
      "0.48184010637826563\n",
      "Protein has 1 chains and 375 residues.\n",
      "0.5304872031370218\n",
      "Protein has 1 chains and 375 residues.\n",
      "0.5298678103106397\n",
      "Protein has 1 chains and 375 residues.\n",
      "0.6143808935160114\n",
      "Protein has 1 chains and 376 residues.\n",
      "0.5531735184617997\n",
      "Protein has 1 chains and 386 residues.\n",
      "0.48893423631587324\n",
      "Protein has 1 chains and 376 residues.\n",
      "0.44998851548917784\n",
      "Protein has 1 chains and 390 residues.\n",
      "0.47730778878352864\n",
      "Protein has 1 chains and 387 residues.\n",
      "0.4824667319240766\n",
      "Protein has 1 chains and 363 residues.\n",
      "3.9296243661880017\n",
      "Protein has 2 chains and 779 residues.\n",
      "0.5087755887509237\n",
      "Protein has 1 chains and 390 residues.\n",
      "0.5221637193752149\n",
      "Protein has 1 chains and 368 residues.\n",
      "3.920412551524889\n",
      "Protein has 1 chains and 380 residues.\n",
      "0.46482929636619025\n",
      "Protein has 1 chains and 370 residues.\n",
      "3.9266657399864453\n",
      "Protein has 1 chains and 389 residues.\n",
      "0.585705773370142\n",
      "Protein has 1 chains and 371 residues.\n",
      "3.935596479791778\n"
     ]
    }
   ],
   "source": [
    "with MoleculeWriter(f'{protein_name.replace(\" \", \"_\")}_ligands_aligned.mol2') as writer, MoleculeWriter(f'{protein_name.replace(\" \", \"_\")}_protein_aligned.pdb') as protein_writer :\n",
    "    for i, pdb_id in enumerate(train_set_actives) :\n",
    "        protein_path, ligand_pathes = pmp.get_pdb_id_pathes(pdb_id)\n",
    "        ligand_path = ligand_pathes[0]\n",
    "        ligand = MoleculeReader(ligand_path)[0]\n",
    "        if i == 0 :\n",
    "            reference_protein = Protein.from_file(protein_path)\n",
    "            print(\"Protein has {} chains and {} residues.\".format(len(reference_protein.chains),len(reference_protein.residues)))\n",
    "            writer.write(ligand)\n",
    "            protein_writer.write(reference_protein)\n",
    "        else :\n",
    "            current_protein = Protein.from_file(protein_path)\n",
    "            print(\"Protein has {} chains and {} residues.\".format(len(current_protein.chains),len(current_protein.residues)))\n",
    "            chain_superposition = Protein.ChainSuperposition()\n",
    "            (rmsd, transformation) = chain_superposition.superpose(reference_protein.chains[0], current_protein.chains[0])\n",
    "            print(rmsd)\n",
    "            ligand.transform(transformation)\n",
    "            writer.write(ligand)\n",
    "            protein_writer.write(current_protein)"
   ]
  },
  {
   "cell_type": "code",
   "execution_count": 19,
   "id": "c3855648-c673-425d-b3e4-547801c8cbeb",
   "metadata": {},
   "outputs": [],
   "source": [
    "\n",
    "\n",
    "csd = io.EntryReader('csd')\n",
    "name = protein_name.replace(\" \", \"_\")\n",
    "mol2_file = f'{name}_ligands_aligned.mol2'\n",
    "mol2_info = Pharmacophore.FeatureDatabase.DatabaseInfo(mol2_file, 0, Colour(0, 255, 0, 255))\n",
    "csd_info = Pharmacophore.FeatureDatabase.DatabaseInfo(csd.file_name, 1000, Colour(255, 0, 0, 255))\n",
    "pharmacophore_dir = 'pharmacophore_features/'\n",
    "csdsqlx = os.path.join(os.getcwd(), os.path.basename(mol2_file).replace('.mol2', '.csdsqlx'))\n",
    "mol2_sdb = Pharmacophore.FeatureDatabase.Creator.StructureDatabase(mol2_info, use_crystal_symmetry=False, structure_database_path=csdsqlx)\n",
    "csd_sdb = Pharmacophore.FeatureDatabase.Creator.StructureDatabase(csd_info, use_crystal_symmetry=True)\n",
    "creator = Pharmacophore.FeatureDatabase.Creator()\n",
    "db = creator.create((mol2_sdb, csd_sdb))"
   ]
  },
  {
   "cell_type": "code",
   "execution_count": 20,
   "id": "f6c9c5b5-f463-430d-bdc5-1edfd96767cc",
   "metadata": {},
   "outputs": [],
   "source": [
    "db.write(f'{name}.feat')"
   ]
  },
  {
   "cell_type": "code",
   "execution_count": 8,
   "id": "ca4ed796-1bdc-458c-b688-e0485333a462",
   "metadata": {},
   "outputs": [
    {
     "data": {
      "text/plain": [
       "'/home/benoit/bioactive_conformation_predictor/HIV-1_PROTEASE_ligands_aligned.csdsqlx'"
      ]
     },
     "execution_count": 8,
     "metadata": {},
     "output_type": "execute_result"
    }
   ],
   "source": [
    "csdsqlx"
   ]
  },
  {
   "cell_type": "code",
   "execution_count": 9,
   "id": "cb2f9d43-c36c-49ce-8509-22a49bb66af4",
   "metadata": {},
   "outputs": [
    {
     "name": "stdout",
     "output_type": "stream",
     "text": [
      "Settings(\n",
      "\thas_3d_coordinates = True\n",
      "\tno_disorder = Non-hydrogen\n",
      "\tno_powder = False\n",
      "\tonly_organic = False\n",
      "\tonly_organometallic = False\n",
      "\tmax_r_factor = 10.0\n",
      "\tno_errors = False\n",
      "\tnot_polymeric = True\n",
      "\tno_metals = False\n",
      "\tno_ions = False\n",
      "\tmust_have_elements = []\n",
      "\tmust_not_have_elements = [He (2), Be (4), Ne (10), Al (13), Si (14), Ar (18), Sc (21), Ti (22), V (23), Cr (24), Ga (31), Ge (32), As (33), Se (34), Kr (36), Rb (37), Y (39), Zr (40), Nb (41), Mo (42), Tc (43), Ru (44), Rh (45), Pd (46), Ag (47), Cd (48), In (49), Sn (50), Sb (51), Te (52), Xe (54), Cs (55), Ba (56), La (57), Ce (58), Pr (59), Nd (60), Pm (61), Sm (62), Eu (63), Gd (64), Tb (65), Dy (66), Ho (67), Er (68), Tm (69), Yb (70), Lu (71), Hf (72), Ta (73), W (74), Re (75), Os (76), Ir (77), Pt (78), Au (79), Hg (80), Tl (81), Pb (82), Bi (83), Po (84), Rn (86), Fr (87), Ra (88), Ac (89), Th (90), Pa (91), U (92)]\n",
      "\tmax_hit_structures = 0\n",
      ")\n"
     ]
    }
   ],
   "source": [
    "print(creator.StructureDatabase.default_csd_filters()) "
   ]
  }
 ],
 "metadata": {
  "kernelspec": {
   "display_name": "Python 3 (ipykernel)",
   "language": "python",
   "name": "python3"
  },
  "language_info": {
   "codemirror_mode": {
    "name": "ipython",
    "version": 3
   },
   "file_extension": ".py",
   "mimetype": "text/x-python",
   "name": "python",
   "nbconvert_exporter": "python",
   "pygments_lexer": "ipython3",
   "version": "3.7.10"
  },
  "widgets": {
   "application/vnd.jupyter.widget-state+json": {
    "state": {},
    "version_major": 2,
    "version_minor": 0
   }
  }
 },
 "nbformat": 4,
 "nbformat_minor": 5
}
