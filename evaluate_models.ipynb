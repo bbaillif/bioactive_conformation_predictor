{
 "cells": [
  {
   "cell_type": "code",
   "execution_count": 1,
   "id": "14bf5794-71d5-4c88-b534-b2fd0db7e867",
   "metadata": {
    "tags": []
   },
   "outputs": [],
   "source": [
    "import os\n",
    "import pandas as pd\n",
    "import torch\n",
    "\n",
    "from rdkit import Chem # safe import before ccdc imports\n",
    "from torch_geometric.loader import DataLoader\n",
    "from torch.utils.data import ConcatDataset\n",
    "\n",
    "from conf_ensemble_dataset_in_memory import ConfEnsembleDataset\n",
    "from litschnet import LitSchNet\n",
    "from molsize_model import MolSizeModel\n",
    "from rmsd_predictor_evaluator import RMSDPredictorEvaluator\n",
    "from tqdm import tqdm"
   ]
  },
  {
   "cell_type": "markdown",
   "id": "a8cce14b-71e8-4987-aa40-acf9868528c1",
   "metadata": {},
   "source": [
    "# Data preparation"
   ]
  },
  {
   "cell_type": "code",
   "execution_count": 2,
   "id": "a5ea2045-3aab-4d08-ac23-808e42e3f87a",
   "metadata": {
    "scrolled": true,
    "tags": []
   },
   "outputs": [],
   "source": [
    "# run once to preprocess datasets and generate chunks\n",
    "dataset = ConfEnsembleDataset()\n",
    "# dataset = ConfEnsembleDataset(dataset='platinum') # 16G"
   ]
  },
  {
   "cell_type": "code",
   "execution_count": 3,
   "id": "889cc980-5c84-4d5b-b3c9-9d28ca9adf96",
   "metadata": {},
   "outputs": [],
   "source": [
    "def get_train_smiles(split, \n",
    "                     iteration, \n",
    "                     data_dir='data/') :\n",
    "    \n",
    "    if split in ['random', 'scaffold'] :\n",
    "        with open(os.path.join(data_dir, f'ligand_{split}_splits', f'train_smiles_{split}_split_{iteration}.txt'), 'r') as f :\n",
    "            train_smiles = f.readlines()\n",
    "            train_smiles = [smiles.strip() for smiles in train_smiles]\n",
    "    else :\n",
    "        with open(os.path.join(data_dir, 'protein_similarity_splits', f'train_pdb_protein_similarity_split_{iteration}.txt'), 'r') as f :\n",
    "            train_pdbs = f.readlines()\n",
    "            train_pdbs = [pdb.strip() for pdb in train_pdbs]\n",
    "        smiles_df = pd.read_csv('data/smiles_df.csv')\n",
    "        train_smiles = smiles_df[smiles_df['id'].isin(train_pdbs)]['smiles'].values\n",
    "        \n",
    "    return train_smiles"
   ]
  },
  {
   "cell_type": "code",
   "execution_count": 4,
   "id": "6a909bfc-1da1-4098-aaeb-7b75079f3691",
   "metadata": {},
   "outputs": [],
   "source": [
    "def get_test_dataset(split, \n",
    "                    iteration, \n",
    "                    data_dir='data/') :\n",
    "    \n",
    "    train_smiles = get_train_smiles(split, iteration, data_dir)\n",
    "    \n",
    "    test_dataset_path = os.path.join(data_dir, f'test_dataset_{split}_{iteration}.p')\n",
    "    if not os.path.exists(test_dataset_path) :\n",
    "    \n",
    "        pdbbind_chunks = [filename for filename in os.listdir(os.path.join(data_dir, 'processed')) if filename.startswith('pdbbind')]\n",
    "        pdbbind_n_chunks = len(pdbbind_chunks)\n",
    "    \n",
    "        test_datasets = []\n",
    "    \n",
    "        if split in ['random', 'scaffold'] :\n",
    "            \n",
    "            with open(os.path.join(data_dir, f'ligand_{split}_splits', f'test_smiles_{split}_split_{iteration}.txt'), 'r') as f :\n",
    "                test_smiles = f.readlines()\n",
    "                test_smiles = [smiles.strip() for smiles in test_smiles]\n",
    "\n",
    "            for chunk_number in tqdm(range(pdbbind_n_chunks)) :\n",
    "                dataset = ConfEnsembleDataset(loaded_chunk=chunk_number,\n",
    "                                              smiles_list=test_smiles)\n",
    "                test_datasets.append(dataset)\n",
    "\n",
    "        else : #protein split\n",
    "\n",
    "            with open(os.path.join(data_dir, 'protein_similarity_splits', f'test_pdb_protein_similarity_split_{iteration}.txt'), 'r') as f :\n",
    "                test_pdbs = f.readlines()\n",
    "                test_pdbs = [pdb.strip() for pdb in test_pdbs]\n",
    "            \n",
    "            for chunk_number in tqdm(range(pdbbind_n_chunks)) :\n",
    "                dataset = ConfEnsembleDataset(loaded_chunk=chunk_number,\n",
    "                                              pdb_ids_list=test_pdbs)\n",
    "                test_datasets.append(dataset)\n",
    "\n",
    "        test_dataset = ConcatDataset(test_datasets)\n",
    "        torch.save(test_dataset, test_dataset_path)\n",
    "    \n",
    "    else : #Load dataset\n",
    "        test_dataset = torch.load(test_dataset_path)\n",
    "    \n",
    "    return test_dataset, train_smiles"
   ]
  },
  {
   "cell_type": "code",
   "execution_count": 5,
   "id": "51df338a-c0b6-4f19-b7c7-0f090e874d75",
   "metadata": {},
   "outputs": [],
   "source": [
    "def evaluate_model(experiment_name,\n",
    "                   test_dataset,\n",
    "                   #platinum_dataset,\n",
    "                   training_smiles,\n",
    "                   tasks = ['all', 'easy', 'hard']) :\n",
    "    \n",
    "    checkpoint_name = os.listdir(os.path.join('lightning_logs', experiment_name, 'checkpoints'))[0]\n",
    "    checkpoint_path = os.path.join('lightning_logs', experiment_name, 'checkpoints', checkpoint_name)\n",
    "    if 'molsize' in experiment_name :\n",
    "        model = MolSizeModel.load_from_checkpoint(checkpoint_path=checkpoint_path)\n",
    "    else :\n",
    "        model = LitSchNet.load_from_checkpoint(checkpoint_path=checkpoint_path)\n",
    "    \n",
    "    evaluation_name = experiment_name + '_pdbbind'\n",
    "    evaluator = RMSDPredictorEvaluator(model=model, \n",
    "                                       evaluation_name=evaluation_name,\n",
    "                                       training_smiles=train_smiles)\n",
    "#     evaluator.evaluate(test_dataset)\n",
    "    evaluator.evaluate(test_dataset, overwrite=True)\n",
    "    for task in tasks :\n",
    "        evaluator.evaluation_report(task=task)\n",
    "\n",
    "#     evaluation_name = experiment_name + '_platinum'\n",
    "#     evaluator = RMSDPredictorEvaluator(model=model, \n",
    "#                                        evaluation_name=evaluation_name,\n",
    "#                                        training_smiles=train_smiles)\n",
    "#     evaluator.evaluate(platinum_dataset, overwrite=True)\n",
    "#     for task in tasks :\n",
    "#         evaluator.evaluation_report(task=task)"
   ]
  },
  {
   "cell_type": "code",
   "execution_count": 6,
   "id": "51382608-b738-4564-bc70-8ea6764475c6",
   "metadata": {},
   "outputs": [],
   "source": [
    "data_dir = 'data/'\n",
    "# platinum_chunks = [filename for filename in os.listdir(os.path.join(data_dir, 'processed')) if filename.startswith('platinum')]\n",
    "# platinum_n_chunks = len(platinum_chunks)"
   ]
  },
  {
   "cell_type": "code",
   "execution_count": 7,
   "id": "f1c58bf1-bf76-4f43-a4e3-86acadab3a7b",
   "metadata": {},
   "outputs": [],
   "source": [
    "# platinum_datasets = []\n",
    "# for chunk_number in tqdm(range(platinum_n_chunks)) :\n",
    "#     dataset = ConfEnsembleDataset(dataset='platinum', loaded_chunk=chunk_number)\n",
    "#     platinum_datasets.append(dataset)\n",
    "# platinum_dataset = ConcatDataset(platinum_datasets)"
   ]
  },
  {
   "cell_type": "code",
   "execution_count": 8,
   "id": "9a8d7c83-d5d9-4804-b38f-a18907a8d36c",
   "metadata": {},
   "outputs": [],
   "source": [
    "splits = ['random', 'scaffold', 'protein']\n",
    "iterations = range(5)"
   ]
  },
  {
   "cell_type": "code",
   "execution_count": null,
   "id": "04640fb3-5693-4e2c-bb43-7f22dcbb5aee",
   "metadata": {
    "scrolled": true,
    "tags": []
   },
   "outputs": [
    {
     "name": "stdout",
     "output_type": "stream",
     "text": [
      "Computing training set fingerprints\n",
      "Grouping data by smiles\n"
     ]
    },
    {
     "name": "stderr",
     "output_type": "stream",
     "text": [
      "  0%|                                                  | 0/1258 [00:00<?, ?it/s]"
     ]
    },
    {
     "name": "stdout",
     "output_type": "stream",
     "text": [
      "Starting evaluation\n"
     ]
    },
    {
     "name": "stderr",
     "output_type": "stream",
     "text": [
      "100%|███████████████████████████████████████| 1258/1258 [01:08<00:00, 18.37it/s]\n",
      "100%|█████████████████████████████████████████████| 3/3 [01:24<00:00, 28.05s/it]\n"
     ]
    },
    {
     "name": "stdout",
     "output_type": "stream",
     "text": [
      "Computing training set fingerprints\n",
      "Grouping data by smiles\n"
     ]
    },
    {
     "name": "stderr",
     "output_type": "stream",
     "text": [
      "  0%|                                          | 2/1258 [00:00<01:13, 17.14it/s]"
     ]
    },
    {
     "name": "stdout",
     "output_type": "stream",
     "text": [
      "Starting evaluation\n"
     ]
    },
    {
     "name": "stderr",
     "output_type": "stream",
     "text": [
      "100%|███████████████████████████████████████| 1258/1258 [01:04<00:00, 19.40it/s]\n",
      "100%|█████████████████████████████████████████████| 3/3 [01:23<00:00, 27.77s/it]\n"
     ]
    },
    {
     "name": "stdout",
     "output_type": "stream",
     "text": [
      "Computing training set fingerprints\n",
      "Grouping data by smiles\n"
     ]
    },
    {
     "name": "stderr",
     "output_type": "stream",
     "text": [
      "  0%|                                          | 2/1258 [00:00<01:16, 16.39it/s]"
     ]
    },
    {
     "name": "stdout",
     "output_type": "stream",
     "text": [
      "Starting evaluation\n"
     ]
    },
    {
     "name": "stderr",
     "output_type": "stream",
     "text": [
      "100%|███████████████████████████████████████| 1258/1258 [01:06<00:00, 18.81it/s]\n",
      "100%|█████████████████████████████████████████████| 3/3 [01:25<00:00, 28.54s/it]\n"
     ]
    },
    {
     "name": "stdout",
     "output_type": "stream",
     "text": [
      "Computing training set fingerprints\n",
      "Grouping data by smiles\n"
     ]
    },
    {
     "name": "stderr",
     "output_type": "stream",
     "text": [
      "  0%|                                          | 2/1259 [00:00<01:04, 19.48it/s]"
     ]
    },
    {
     "name": "stdout",
     "output_type": "stream",
     "text": [
      "Starting evaluation\n"
     ]
    },
    {
     "name": "stderr",
     "output_type": "stream",
     "text": [
      "100%|███████████████████████████████████████| 1259/1259 [01:05<00:00, 19.16it/s]\n",
      "100%|█████████████████████████████████████████████| 3/3 [01:26<00:00, 28.73s/it]\n"
     ]
    },
    {
     "name": "stdout",
     "output_type": "stream",
     "text": [
      "Computing training set fingerprints\n",
      "Grouping data by smiles\n"
     ]
    },
    {
     "name": "stderr",
     "output_type": "stream",
     "text": [
      "  0%|                                          | 2/1257 [00:00<01:26, 14.56it/s]"
     ]
    },
    {
     "name": "stdout",
     "output_type": "stream",
     "text": [
      "Starting evaluation\n"
     ]
    },
    {
     "name": "stderr",
     "output_type": "stream",
     "text": [
      "100%|███████████████████████████████████████| 1257/1257 [01:08<00:00, 18.34it/s]\n"
     ]
    }
   ],
   "source": [
    "%%time\n",
    "\n",
    "# for split in splits :\n",
    "for split in ['random'] :\n",
    "\n",
    "    # for iteration in [0] :\n",
    "    for iteration in iterations :\n",
    "\n",
    "        test_dataset, train_smiles = get_test_dataset(split, iteration)\n",
    "        \n",
    "        experiment_name = f'{split}_split_{iteration}'\n",
    "        # evaluate_model(experiment_name, test_dataset, platinum_dataset, train_smiles)\n",
    "        evaluate_model(experiment_name, test_dataset, train_smiles)\n",
    "        \n",
    "#         experiment_name = f'{split}_split_{iteration}_molsize'\n",
    "#         evaluate_model(experiment_name, test_dataset, train_smiles)"
   ]
  },
  {
   "cell_type": "code",
   "execution_count": null,
   "id": "27adc23e-fddf-43a3-82a0-b81b5760c28d",
   "metadata": {},
   "outputs": [],
   "source": [
    "len(test_dataset)"
   ]
  },
  {
   "cell_type": "code",
   "execution_count": null,
   "id": "06f331b3-bb62-464d-952a-84a47e24fd04",
   "metadata": {},
   "outputs": [],
   "source": [
    "import pickle\n",
    "import matplotlib.pyplot as plt\n",
    "import seaborn as sns\n",
    "from collections import defaultdict"
   ]
  },
  {
   "cell_type": "code",
   "execution_count": null,
   "id": "c67ffbd8-6570-470b-8cf6-6d758d9051f4",
   "metadata": {},
   "outputs": [],
   "source": [
    "def plot_ecdf_bioactive_like(active_ratio_threshold=0.1) :\n",
    "    rankers = ['model', 'energy', 'ccdc', 'random']\n",
    "    task = 'all'\n",
    "\n",
    "    mol_results_path = 'results/random_split_0_pdbbind/mol_results.p'\n",
    "    with open(mol_results_path, 'rb') as f:\n",
    "        mol_results = pickle.load(f)\n",
    "\n",
    "    included_smiles = []\n",
    "    for smiles, mol_result in mol_results.items() :\n",
    "        n_generated = mol_result['n_generated']\n",
    "        has_generated = n_generated > 1\n",
    "        is_easy = n_generated < 100\n",
    "        is_hard = n_generated == 100\n",
    "        task_filter = (task == 'all') or (task == 'hard' and is_hard) or (task == 'easy' and is_easy)\n",
    "        include_smiles = task_filter and has_generated\n",
    "        if include_smiles :\n",
    "            included_smiles.append(smiles)\n",
    "\n",
    "    rankers_ranks = defaultdict(list)\n",
    "    rank_name = 'normalized_first_bioactive_like_rank'\n",
    "\n",
    "    for ranker in rankers :\n",
    "        for smiles in included_smiles :\n",
    "            mol_result = mol_results[smiles]\n",
    "            if rank_name in mol_result :\n",
    "                rank = mol_result[rank_name][ranker]\n",
    "                n_actives = mol_result['n_actives']\n",
    "                n_generated = mol_result['n_generated']\n",
    "                active_ratio = n_actives / n_generated\n",
    "                if active_ratio < active_ratio_threshold :\n",
    "                    rankers_ranks[ranker].append(rank)\n",
    "\n",
    "    clean_ranker_names = {'model' : 'BioSchNet',\n",
    "                                       'model_random' : 'BioSchNet (random split)',\n",
    "                                       'model_scaffold' : 'BioSchNet (scaffold split)',\n",
    "                                       'model_protein' : 'BioSchNet (protein split)',\n",
    "                                       'energy' : 'UFF energy',\n",
    "                                       'random' : 'Random',\n",
    "                                       'ccdc' : 'CCDC'}\n",
    "\n",
    "    xlabel = 'Normalized rank of bioactive-like'\n",
    "    suffix = 'generated'\n",
    "    master_df = pd.DataFrame()\n",
    "    for ranker in rankers_ranks :\n",
    "        ranks = rankers_ranks[ranker]\n",
    "        df = pd.DataFrame({xlabel : ranks})\n",
    "        df['Ranker'] = ranker\n",
    "        master_df = pd.concat([master_df, df])\n",
    "\n",
    "    master_df['Ranker'] = master_df['Ranker'].replace(clean_ranker_names)\n",
    "\n",
    "    with sns.plotting_context('talk', font_scale=0.7) :\n",
    "        sns.ecdfplot(data=master_df, x=xlabel, hue='Ranker')\n",
    "        plt.tight_layout()\n",
    "\n",
    "    plt.title(f'Ratio of actives < {active_ratio_threshold}')\n",
    "    plt.show()"
   ]
  },
  {
   "cell_type": "code",
   "execution_count": null,
   "id": "74d3a38f-1be5-488c-a1d7-918308568279",
   "metadata": {},
   "outputs": [],
   "source": [
    "plot_ecdf_bioactive_like(0.02)\n",
    "for i in range(5, 105, 5) :\n",
    "    plot_ecdf_bioactive_like(i / 100)"
   ]
  },
  {
   "cell_type": "code",
   "execution_count": null,
   "id": "46f263af-3bbe-426f-960a-816aa6206af3",
   "metadata": {},
   "outputs": [],
   "source": []
  }
 ],
 "metadata": {
  "kernelspec": {
   "display_name": "Python 3 (ipykernel)",
   "language": "python",
   "name": "python3"
  },
  "language_info": {
   "codemirror_mode": {
    "name": "ipython",
    "version": 3
   },
   "file_extension": ".py",
   "mimetype": "text/x-python",
   "name": "python",
   "nbconvert_exporter": "python",
   "pygments_lexer": "ipython3",
   "version": "3.7.10"
  },
  "widgets": {
   "application/vnd.jupyter.widget-state+json": {
    "state": {},
    "version_major": 2,
    "version_minor": 0
   }
  }
 },
 "nbformat": 4,
 "nbformat_minor": 5
}
