{
 "cells": [
  {
   "cell_type": "code",
   "execution_count": 1,
   "id": "14bf5794-71d5-4c88-b534-b2fd0db7e867",
   "metadata": {
    "tags": []
   },
   "outputs": [],
   "source": [
    "import os\n",
    "import pandas as pd\n",
    "\n",
    "from rdkit import Chem # safe import before ccdc imports\n",
    "from torch_geometric.loader import DataLoader\n",
    "from torch.utils.data import ConcatDataset\n",
    "\n",
    "from conf_ensemble_dataset_in_memory import ConfEnsembleDataset\n",
    "from litschnet import LitSchNet\n",
    "from molsize_model import MolSizeModel\n",
    "from rmsd_predictor_evaluator import RMSDPredictorEvaluator\n",
    "from tqdm import tqdm"
   ]
  },
  {
   "cell_type": "markdown",
   "id": "a8cce14b-71e8-4987-aa40-acf9868528c1",
   "metadata": {},
   "source": [
    "# Data preparation"
   ]
  },
  {
   "cell_type": "code",
   "execution_count": 2,
   "id": "a5ea2045-3aab-4d08-ac23-808e42e3f87a",
   "metadata": {
    "scrolled": true,
    "tags": []
   },
   "outputs": [],
   "source": [
    "# run once to preprocess datasets and generate chunks\n",
    "dataset = ConfEnsembleDataset()\n",
    "# dataset = ConfEnsembleDataset(dataset='platinum') # 16G"
   ]
  },
  {
   "cell_type": "code",
   "execution_count": 3,
   "id": "6a909bfc-1da1-4098-aaeb-7b75079f3691",
   "metadata": {},
   "outputs": [],
   "source": [
    "def get_test_dataset(split, \n",
    "                    iteration, \n",
    "                    data_dir='data/',\n",
    "                    ) :\n",
    "    \n",
    "    pdbbind_chunks = [filename for filename in os.listdir(os.path.join(data_dir, 'processed')) if filename.startswith('pdbbind')]\n",
    "    pdbbind_n_chunks = len(pdbbind_chunks)\n",
    "    \n",
    "    test_datasets = []\n",
    "    \n",
    "    if split in ['random', 'scaffold'] :\n",
    "\n",
    "        with open(os.path.join(data_dir, f'ligand_{split}_splits', f'train_smiles_{split}_split_{iteration}.txt'), 'r') as f :\n",
    "            train_smiles = f.readlines()\n",
    "            train_smiles = [smiles.strip() for smiles in train_smiles]\n",
    "        \n",
    "        with open(os.path.join(data_dir, f'ligand_{split}_splits', f'test_smiles_{split}_split_{iteration}.txt'), 'r') as f :\n",
    "            test_smiles = f.readlines()\n",
    "            test_smiles = [smiles.strip() for smiles in test_smiles]\n",
    "\n",
    "        for chunk_number in tqdm(range(pdbbind_n_chunks)) :\n",
    "\n",
    "            dataset = ConfEnsembleDataset(loaded_chunk=chunk_number,\n",
    "                                          smiles_list=test_smiles)\n",
    "            test_datasets.append(dataset)\n",
    "            \n",
    "    else : #protein split\n",
    "\n",
    "        with open(os.path.join(data_dir, 'protein_similarity_splits', f'train_pdb_protein_similarity_split_{iteration}.txt'), 'r') as f :\n",
    "            train_pdbs = f.readlines()\n",
    "            train_pdbs = [pdb.strip() for pdb in train_pdbs]\n",
    "        \n",
    "        with open(os.path.join(data_dir, 'protein_similarity_splits', f'test_pdb_protein_similarity_split_{iteration}.txt'), 'r') as f :\n",
    "            test_pdbs = f.readlines()\n",
    "            test_pdbs = [pdb.strip() for pdb in test_pdbs]\n",
    "\n",
    "        smiles_df = pd.read_csv('data/smiles_df.csv')\n",
    "        train_smiles = smiles_df[smiles_df['id'].isin(train_pdbs)]['smiles'].values\n",
    "            \n",
    "        for chunk_number in tqdm(range(pdbbind_n_chunks)) :\n",
    "\n",
    "            dataset = ConfEnsembleDataset(loaded_chunk=chunk_number,\n",
    "                                          pdb_ids_list=test_pdbs)\n",
    "            test_datasets.append(dataset)\n",
    "\n",
    "    test_dataset = ConcatDataset(test_datasets)\n",
    "    \n",
    "    return test_dataset, train_smiles"
   ]
  },
  {
   "cell_type": "code",
   "execution_count": 4,
   "id": "51df338a-c0b6-4f19-b7c7-0f090e874d75",
   "metadata": {},
   "outputs": [],
   "source": [
    "def evaluate_model(experiment_name,\n",
    "                   test_dataset,\n",
    "                   #platinum_dataset,\n",
    "                   training_smiles,\n",
    "                   tasks = ['all']) :\n",
    "    \n",
    "    checkpoint_name = os.listdir(os.path.join('lightning_logs', experiment_name, 'checkpoints'))[0]\n",
    "    checkpoint_path = os.path.join('lightning_logs', experiment_name, 'checkpoints', checkpoint_name)\n",
    "    if 'molsize' in experiment_name :\n",
    "        model = MolSizeModel.load_from_checkpoint(checkpoint_path=checkpoint_path)\n",
    "    else :\n",
    "        model = LitSchNet.load_from_checkpoint(checkpoint_path=checkpoint_path)\n",
    "    \n",
    "    evaluation_name = experiment_name + '_pdbbind'\n",
    "    evaluator = RMSDPredictorEvaluator(model=model, \n",
    "                                       evaluation_name=evaluation_name,\n",
    "                                       training_smiles=train_smiles)\n",
    "    evaluator.evaluate(test_dataset)\n",
    "    # evaluator.evaluate(test_dataset, overwrite=True)\n",
    "    for task in tasks :\n",
    "        evaluator.evaluation_report(task=task)\n",
    "\n",
    "#     evaluation_name = experiment_name + '_platinum'\n",
    "#     evaluator = RMSDPredictorEvaluator(model=model, \n",
    "#                                        evaluation_name=evaluation_name,\n",
    "#                                        training_smiles=train_smiles)\n",
    "#     evaluator.evaluate(platinum_dataset, overwrite=True)\n",
    "#     for task in tasks :\n",
    "#         evaluator.evaluation_report(task=task)"
   ]
  },
  {
   "cell_type": "code",
   "execution_count": 5,
   "id": "51382608-b738-4564-bc70-8ea6764475c6",
   "metadata": {},
   "outputs": [],
   "source": [
    "data_dir = 'data/'\n",
    "# platinum_chunks = [filename for filename in os.listdir(os.path.join(data_dir, 'processed')) if filename.startswith('platinum')]\n",
    "# platinum_n_chunks = len(platinum_chunks)"
   ]
  },
  {
   "cell_type": "code",
   "execution_count": 6,
   "id": "f1c58bf1-bf76-4f43-a4e3-86acadab3a7b",
   "metadata": {},
   "outputs": [],
   "source": [
    "# platinum_datasets = []\n",
    "# for chunk_number in tqdm(range(platinum_n_chunks)) :\n",
    "#     dataset = ConfEnsembleDataset(dataset='platinum', loaded_chunk=chunk_number)\n",
    "#     platinum_datasets.append(dataset)\n",
    "# platinum_dataset = ConcatDataset(platinum_datasets)"
   ]
  },
  {
   "cell_type": "code",
   "execution_count": 7,
   "id": "9a8d7c83-d5d9-4804-b38f-a18907a8d36c",
   "metadata": {},
   "outputs": [],
   "source": [
    "splits = ['random', 'scaffold', 'protein']"
   ]
  },
  {
   "cell_type": "code",
   "execution_count": 8,
   "id": "04640fb3-5693-4e2c-bb43-7f22dcbb5aee",
   "metadata": {
    "scrolled": true,
    "tags": []
   },
   "outputs": [
    {
     "name": "stderr",
     "output_type": "stream",
     "text": [
      "100%|█████████████████████████████████████████████| 3/3 [01:31<00:00, 30.37s/it]\n"
     ]
    },
    {
     "name": "stdout",
     "output_type": "stream",
     "text": [
      "Computing training set fingerprints\n",
      "Evaluation already done for given experiment random_split_0_pdbbind\n",
      "Loading existing results\n"
     ]
    },
    {
     "name": "stderr",
     "output_type": "stream",
     "text": [
      "100%|█████████████████████████████████████████████| 3/3 [02:19<00:00, 46.46s/it]\n"
     ]
    },
    {
     "name": "stdout",
     "output_type": "stream",
     "text": [
      "Computing training set fingerprints\n",
      "Evaluation already done for given experiment scaffold_split_0_pdbbind\n",
      "Loading existing results\n"
     ]
    },
    {
     "name": "stderr",
     "output_type": "stream",
     "text": [
      "100%|█████████████████████████████████████████████| 3/3 [02:59<00:00, 59.98s/it]\n"
     ]
    },
    {
     "name": "stdout",
     "output_type": "stream",
     "text": [
      "Computing training set fingerprints\n",
      "Evaluation already done for given experiment protein_split_0_pdbbind\n",
      "Loading existing results\n",
      "CPU times: user 20min 13s, sys: 16.9 s, total: 20min 30s\n",
      "Wall time: 13min 8s\n"
     ]
    }
   ],
   "source": [
    "%%time\n",
    "\n",
    "for split in splits :\n",
    "#for split in ['protein'] :\n",
    "\n",
    "    for iteration in range(1) :\n",
    "\n",
    "        test_dataset, train_smiles = get_test_dataset(split, iteration)\n",
    "        \n",
    "        experiment_name = f'{split}_split_{iteration}'\n",
    "        # evaluate_model(experiment_name, test_dataset, platinum_dataset, train_smiles)\n",
    "        evaluate_model(experiment_name, test_dataset, train_smiles)\n",
    "        \n",
    "#         experiment_name = f'{split}_split_{iteration}_molsize'\n",
    "#         evaluate_model(experiment_name, test_dataset, train_smiles)"
   ]
  },
  {
   "cell_type": "code",
   "execution_count": 9,
   "id": "2df0a81e-cbd3-4967-990d-4b8c67520e2e",
   "metadata": {},
   "outputs": [
    {
     "data": {
      "text/plain": [
       "101283"
      ]
     },
     "execution_count": 9,
     "metadata": {},
     "output_type": "execute_result"
    }
   ],
   "source": [
    "len(test_dataset)"
   ]
  }
 ],
 "metadata": {
  "kernelspec": {
   "display_name": "Python 3 (ipykernel)",
   "language": "python",
   "name": "python3"
  },
  "language_info": {
   "codemirror_mode": {
    "name": "ipython",
    "version": 3
   },
   "file_extension": ".py",
   "mimetype": "text/x-python",
   "name": "python",
   "nbconvert_exporter": "python",
   "pygments_lexer": "ipython3",
   "version": "3.7.10"
  },
  "widgets": {
   "application/vnd.jupyter.widget-state+json": {
    "state": {},
    "version_major": 2,
    "version_minor": 0
   }
  }
 },
 "nbformat": 4,
 "nbformat_minor": 5
}
