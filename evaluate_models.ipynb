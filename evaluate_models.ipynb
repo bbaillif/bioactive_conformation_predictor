{
 "cells": [
  {
   "cell_type": "code",
   "execution_count": 1,
   "id": "14bf5794-71d5-4c88-b534-b2fd0db7e867",
   "metadata": {
    "tags": []
   },
   "outputs": [],
   "source": [
    "import os\n",
    "import pandas as pd\n",
    "\n",
    "from rdkit import Chem # safe import before ccdc imports\n",
    "from torch_geometric.loader import DataLoader\n",
    "from torch.utils.data import ConcatDataset\n",
    "\n",
    "from conf_ensemble_dataset_in_memory import ConfEnsembleDataset\n",
    "from litschnet import LitSchNet\n",
    "from molsize_model import MolSizeModel\n",
    "from rmsd_predictor_evaluator import RMSDPredictorEvaluator\n",
    "from tqdm import tqdm"
   ]
  },
  {
   "cell_type": "markdown",
   "id": "a8cce14b-71e8-4987-aa40-acf9868528c1",
   "metadata": {},
   "source": [
    "# Data preparation"
   ]
  },
  {
   "cell_type": "code",
   "execution_count": 2,
   "id": "a5ea2045-3aab-4d08-ac23-808e42e3f87a",
   "metadata": {
    "scrolled": true,
    "tags": []
   },
   "outputs": [],
   "source": [
    "# run once to preprocess datasets and generate chunks\n",
    "dataset = ConfEnsembleDataset()\n",
    "# dataset = ConfEnsembleDataset(dataset='platinum') # 16G"
   ]
  },
  {
   "cell_type": "code",
   "execution_count": 3,
   "id": "6a909bfc-1da1-4098-aaeb-7b75079f3691",
   "metadata": {},
   "outputs": [],
   "source": [
    "def get_test_dataset(split, \n",
    "                    iteration, \n",
    "                    data_dir='data/',\n",
    "                    ) :\n",
    "    \n",
    "    pdbbind_chunks = [filename for filename in os.listdir(os.path.join(data_dir, 'processed')) if filename.startswith('pdbbind')]\n",
    "    pdbbind_n_chunks = len(pdbbind_chunks)\n",
    "    \n",
    "    test_datasets = []\n",
    "    \n",
    "    if split in ['random', 'scaffold'] :\n",
    "\n",
    "        with open(os.path.join(data_dir, f'ligand_{split}_splits', f'train_smiles_{split}_split_{iteration}.txt'), 'r') as f :\n",
    "            train_smiles = f.readlines()\n",
    "            train_smiles = [smiles.strip() for smiles in train_smiles]\n",
    "        \n",
    "        with open(os.path.join(data_dir, f'ligand_{split}_splits', f'test_smiles_{split}_split_{iteration}.txt'), 'r') as f :\n",
    "            test_smiles = f.readlines()\n",
    "            test_smiles = [smiles.strip() for smiles in test_smiles]\n",
    "\n",
    "        for chunk_number in tqdm(range(pdbbind_n_chunks)) :\n",
    "\n",
    "            dataset = ConfEnsembleDataset(loaded_chunk=chunk_number,\n",
    "                                          smiles_list=test_smiles)\n",
    "            test_datasets.append(dataset)\n",
    "            \n",
    "    else : #protein split\n",
    "\n",
    "        with open(os.path.join(data_dir, 'protein_similarity_splits', f'train_pdb_protein_similarity_split_{iteration}.txt'), 'r') as f :\n",
    "            train_pdbs = f.readlines()\n",
    "            train_pdbs = [pdb.strip() for pdb in train_pdbs]\n",
    "        \n",
    "        with open(os.path.join(data_dir, 'protein_similarity_splits', f'test_pdb_protein_similarity_split_{iteration}.txt'), 'r') as f :\n",
    "            test_pdbs = f.readlines()\n",
    "            test_pdbs = [pdb.strip() for pdb in test_pdbs]\n",
    "\n",
    "        smiles_df = pd.read_csv('data/smiles_df.csv')\n",
    "        train_smiles = smiles_df[smiles_df['id'].isin(train_pdbs)]['smiles'].values\n",
    "            \n",
    "        for chunk_number in tqdm(range(pdbbind_n_chunks)) :\n",
    "\n",
    "            dataset = ConfEnsembleDataset(loaded_chunk=chunk_number,\n",
    "                                          pdb_ids_list=test_pdbs)\n",
    "            test_datasets.append(dataset)\n",
    "\n",
    "    test_dataset = ConcatDataset(test_datasets)\n",
    "    \n",
    "    return test_dataset, train_smiles"
   ]
  },
  {
   "cell_type": "code",
   "execution_count": 4,
   "id": "51df338a-c0b6-4f19-b7c7-0f090e874d75",
   "metadata": {},
   "outputs": [],
   "source": [
    "def evaluate_model(experiment_name,\n",
    "                   test_dataset,\n",
    "                   #platinum_dataset,\n",
    "                   training_smiles,\n",
    "                   tasks = ['all', 'easy', 'hard']) :\n",
    "    \n",
    "    checkpoint_name = os.listdir(os.path.join('lightning_logs', experiment_name, 'checkpoints'))[0]\n",
    "    checkpoint_path = os.path.join('lightning_logs', experiment_name, 'checkpoints', checkpoint_name)\n",
    "    if 'molsize' in experiment_name :\n",
    "        model = MolSizeModel.load_from_checkpoint(checkpoint_path=checkpoint_path)\n",
    "    else :\n",
    "        model = LitSchNet.load_from_checkpoint(checkpoint_path=checkpoint_path)\n",
    "    \n",
    "    evaluation_name = experiment_name + '_pdbbind'\n",
    "    evaluator = RMSDPredictorEvaluator(model=model, \n",
    "                                       evaluation_name=evaluation_name,\n",
    "                                       training_smiles=train_smiles)\n",
    "    #evaluator.evaluate(test_dataset)\n",
    "    evaluator.evaluate(test_dataset, overwrite=True)\n",
    "    for task in tasks :\n",
    "        evaluator.evaluation_report(task=task)\n",
    "\n",
    "#     evaluation_name = experiment_name + '_platinum'\n",
    "#     evaluator = RMSDPredictorEvaluator(model=model, \n",
    "#                                        evaluation_name=evaluation_name,\n",
    "#                                        training_smiles=train_smiles)\n",
    "#     evaluator.evaluate(platinum_dataset, overwrite=True)\n",
    "#     for task in tasks :\n",
    "#         evaluator.evaluation_report(task=task)"
   ]
  },
  {
   "cell_type": "code",
   "execution_count": 5,
   "id": "51382608-b738-4564-bc70-8ea6764475c6",
   "metadata": {},
   "outputs": [],
   "source": [
    "data_dir = 'data/'\n",
    "# platinum_chunks = [filename for filename in os.listdir(os.path.join(data_dir, 'processed')) if filename.startswith('platinum')]\n",
    "# platinum_n_chunks = len(platinum_chunks)"
   ]
  },
  {
   "cell_type": "code",
   "execution_count": 6,
   "id": "f1c58bf1-bf76-4f43-a4e3-86acadab3a7b",
   "metadata": {},
   "outputs": [],
   "source": [
    "# platinum_datasets = []\n",
    "# for chunk_number in tqdm(range(platinum_n_chunks)) :\n",
    "#     dataset = ConfEnsembleDataset(dataset='platinum', loaded_chunk=chunk_number)\n",
    "#     platinum_datasets.append(dataset)\n",
    "# platinum_dataset = ConcatDataset(platinum_datasets)"
   ]
  },
  {
   "cell_type": "code",
   "execution_count": 7,
   "id": "9a8d7c83-d5d9-4804-b38f-a18907a8d36c",
   "metadata": {},
   "outputs": [],
   "source": [
    "splits = ['random', 'scaffold', 'protein']"
   ]
  },
  {
   "cell_type": "code",
   "execution_count": null,
   "id": "04640fb3-5693-4e2c-bb43-7f22dcbb5aee",
   "metadata": {
    "scrolled": true,
    "tags": []
   },
   "outputs": [
    {
     "name": "stderr",
     "output_type": "stream",
     "text": [
      "100%|█████████████████████████████████████████████| 3/3 [01:44<00:00, 34.88s/it]\n"
     ]
    },
    {
     "name": "stdout",
     "output_type": "stream",
     "text": [
      "Computing training set fingerprints\n",
      "Grouping data by smiles\n"
     ]
    },
    {
     "name": "stderr",
     "output_type": "stream",
     "text": [
      "  0%|                                                  | 0/1412 [00:00<?, ?it/s]"
     ]
    },
    {
     "name": "stdout",
     "output_type": "stream",
     "text": [
      "Starting evaluation\n"
     ]
    },
    {
     "name": "stderr",
     "output_type": "stream",
     "text": [
      "100%|███████████████████████████████████████| 1412/1412 [01:24<00:00, 16.76it/s]\n"
     ]
    },
    {
     "name": "stdout",
     "output_type": "stream",
     "text": [
      "Computing training set fingerprints\n",
      "Grouping data by smiles\n"
     ]
    },
    {
     "name": "stderr",
     "output_type": "stream",
     "text": [
      "  0%|                                          | 3/1412 [00:00<01:01, 22.96it/s]"
     ]
    },
    {
     "name": "stdout",
     "output_type": "stream",
     "text": [
      "Starting evaluation\n"
     ]
    },
    {
     "name": "stderr",
     "output_type": "stream",
     "text": [
      "100%|███████████████████████████████████████| 1412/1412 [01:03<00:00, 22.33it/s]\n",
      "/home/benoit/anaconda3/envs/GeoMol/lib/python3.7/site-packages/numpy/core/fromnumeric.py:3420: RuntimeWarning: Mean of empty slice.\n",
      "  out=out, **kwargs)\n",
      "/home/benoit/anaconda3/envs/GeoMol/lib/python3.7/site-packages/numpy/core/_methods.py:188: RuntimeWarning: invalid value encountered in double_scalars\n",
      "  ret = ret.dtype.type(ret / rcount)\n",
      "/home/benoit/anaconda3/envs/GeoMol/lib/python3.7/site-packages/numpy/core/fromnumeric.py:3420: RuntimeWarning: Mean of empty slice.\n",
      "  out=out, **kwargs)\n",
      "/home/benoit/anaconda3/envs/GeoMol/lib/python3.7/site-packages/numpy/core/_methods.py:188: RuntimeWarning: invalid value encountered in double_scalars\n",
      "  ret = ret.dtype.type(ret / rcount)\n",
      "/home/benoit/anaconda3/envs/GeoMol/lib/python3.7/site-packages/numpy/core/fromnumeric.py:3420: RuntimeWarning: Mean of empty slice.\n",
      "  out=out, **kwargs)\n",
      "/home/benoit/anaconda3/envs/GeoMol/lib/python3.7/site-packages/numpy/core/_methods.py:188: RuntimeWarning: invalid value encountered in double_scalars\n",
      "  ret = ret.dtype.type(ret / rcount)\n",
      "100%|█████████████████████████████████████████████| 3/3 [01:52<00:00, 37.51s/it]\n"
     ]
    },
    {
     "name": "stdout",
     "output_type": "stream",
     "text": [
      "Computing training set fingerprints\n",
      "Grouping data by smiles\n"
     ]
    },
    {
     "name": "stderr",
     "output_type": "stream",
     "text": [
      "  0%|                                          | 2/1429 [00:00<01:27, 16.26it/s]"
     ]
    },
    {
     "name": "stdout",
     "output_type": "stream",
     "text": [
      "Starting evaluation\n"
     ]
    },
    {
     "name": "stderr",
     "output_type": "stream",
     "text": [
      "100%|███████████████████████████████████████| 1429/1429 [01:26<00:00, 16.59it/s]\n"
     ]
    },
    {
     "name": "stdout",
     "output_type": "stream",
     "text": [
      "Computing training set fingerprints\n",
      "Grouping data by smiles\n"
     ]
    },
    {
     "name": "stderr",
     "output_type": "stream",
     "text": [
      "  0%|                                          | 3/1429 [00:00<01:10, 20.14it/s]"
     ]
    },
    {
     "name": "stdout",
     "output_type": "stream",
     "text": [
      "Starting evaluation\n"
     ]
    },
    {
     "name": "stderr",
     "output_type": "stream",
     "text": [
      "100%|███████████████████████████████████████| 1429/1429 [01:10<00:00, 20.20it/s]\n",
      "/home/benoit/anaconda3/envs/GeoMol/lib/python3.7/site-packages/numpy/core/fromnumeric.py:3420: RuntimeWarning: Mean of empty slice.\n",
      "  out=out, **kwargs)\n",
      "/home/benoit/anaconda3/envs/GeoMol/lib/python3.7/site-packages/numpy/core/_methods.py:188: RuntimeWarning: invalid value encountered in double_scalars\n",
      "  ret = ret.dtype.type(ret / rcount)\n",
      "/home/benoit/anaconda3/envs/GeoMol/lib/python3.7/site-packages/numpy/core/fromnumeric.py:3420: RuntimeWarning: Mean of empty slice.\n",
      "  out=out, **kwargs)\n",
      "/home/benoit/anaconda3/envs/GeoMol/lib/python3.7/site-packages/numpy/core/_methods.py:188: RuntimeWarning: invalid value encountered in double_scalars\n",
      "  ret = ret.dtype.type(ret / rcount)\n",
      "/home/benoit/anaconda3/envs/GeoMol/lib/python3.7/site-packages/numpy/core/fromnumeric.py:3420: RuntimeWarning: Mean of empty slice.\n",
      "  out=out, **kwargs)\n",
      "/home/benoit/anaconda3/envs/GeoMol/lib/python3.7/site-packages/numpy/core/_methods.py:188: RuntimeWarning: invalid value encountered in double_scalars\n",
      "  ret = ret.dtype.type(ret / rcount)\n",
      "100%|█████████████████████████████████████████████| 3/3 [01:55<00:00, 38.63s/it]\n"
     ]
    },
    {
     "name": "stdout",
     "output_type": "stream",
     "text": [
      "Computing training set fingerprints\n",
      "Grouping data by smiles\n"
     ]
    },
    {
     "name": "stderr",
     "output_type": "stream",
     "text": [
      "  0%|                                          | 2/1373 [00:00<01:54, 11.93it/s]"
     ]
    },
    {
     "name": "stdout",
     "output_type": "stream",
     "text": [
      "Starting evaluation\n"
     ]
    },
    {
     "name": "stderr",
     "output_type": "stream",
     "text": [
      "100%|███████████████████████████████████████| 1373/1373 [01:31<00:00, 14.99it/s]\n"
     ]
    }
   ],
   "source": [
    "%%time\n",
    "\n",
    "#for split in splits :\n",
    "for split in ['protein'] :\n",
    "\n",
    "    for iteration in range(5) :\n",
    "\n",
    "        test_dataset, train_smiles = get_test_dataset(split, iteration)\n",
    "        \n",
    "        experiment_name = f'{split}_split_{iteration}'\n",
    "        # evaluate_model(experiment_name, test_dataset, platinum_dataset, train_smiles)\n",
    "        evaluate_model(experiment_name, test_dataset, train_smiles)\n",
    "        \n",
    "        experiment_name = f'{split}_split_{iteration}_molsize'\n",
    "        evaluate_model(experiment_name, test_dataset, train_smiles)"
   ]
  },
  {
   "cell_type": "code",
   "execution_count": 10,
   "id": "2df0a81e-cbd3-4967-990d-4b8c67520e2e",
   "metadata": {},
   "outputs": [
    {
     "data": {
      "text/plain": [
       "101506"
      ]
     },
     "execution_count": 10,
     "metadata": {},
     "output_type": "execute_result"
    }
   ],
   "source": [
    "len(test_dataset)"
   ]
  },
  {
   "cell_type": "code",
   "execution_count": 12,
   "id": "660da657-f11f-47f6-80ca-11cf427366ea",
   "metadata": {},
   "outputs": [],
   "source": [
    "import importlib\n",
    "import rmsd_predictor_evaluator\n",
    "importlib.reload(rmsd_predictor_evaluator)\n",
    "RMSDPredictorEvaluator = rmsd_predictor_evaluator.RMSDPredictorEvaluator"
   ]
  },
  {
   "cell_type": "code",
   "execution_count": 13,
   "id": "f8f09c55-7f64-4cc9-8862-88f0572b93ca",
   "metadata": {},
   "outputs": [
    {
     "name": "stdout",
     "output_type": "stream",
     "text": [
      "Computing training set fingerprints\n",
      "Grouping data by smiles\n"
     ]
    },
    {
     "name": "stderr",
     "output_type": "stream",
     "text": [
      "  0%|                                          | 1/1418 [00:00<03:16,  7.22it/s]"
     ]
    },
    {
     "name": "stdout",
     "output_type": "stream",
     "text": [
      "Starting evaluation\n"
     ]
    },
    {
     "name": "stderr",
     "output_type": "stream",
     "text": [
      "  3%|█▏                                       | 40/1418 [00:03<01:42, 13.38it/s]"
     ]
    },
    {
     "name": "stdout",
     "output_type": "stream",
     "text": [
      "> \u001b[0;32m/home/benoit/bioactive_conformation_predictor/rmsd_predictor_evaluator.py\u001b[0m(260)\u001b[0;36mmol_evaluation\u001b[0;34m()\u001b[0m\n",
      "\u001b[0;32m    258 \u001b[0;31m\u001b[0;34m\u001b[0m\u001b[0m\n",
      "\u001b[0m\u001b[0;32m    259 \u001b[0;31m            \u001b[0;31m# Generated stats\u001b[0m\u001b[0;34m\u001b[0m\u001b[0;34m\u001b[0m\u001b[0;34m\u001b[0m\u001b[0m\n",
      "\u001b[0m\u001b[0;32m--> 260 \u001b[0;31m            \u001b[0mgenerated_targets\u001b[0m \u001b[0;34m=\u001b[0m \u001b[0mmol_targets\u001b[0m\u001b[0;34m[\u001b[0m\u001b[0mis_generated\u001b[0m\u001b[0;34m]\u001b[0m\u001b[0;34m\u001b[0m\u001b[0;34m\u001b[0m\u001b[0m\n",
      "\u001b[0m\u001b[0;32m    261 \u001b[0;31m            \u001b[0mgenerated_preds\u001b[0m \u001b[0;34m=\u001b[0m \u001b[0mmol_preds\u001b[0m\u001b[0;34m[\u001b[0m\u001b[0mis_generated\u001b[0m\u001b[0;34m]\u001b[0m\u001b[0;34m\u001b[0m\u001b[0;34m\u001b[0m\u001b[0m\n",
      "\u001b[0m\u001b[0;32m    262 \u001b[0;31m            \u001b[0mgenerated_energies\u001b[0m \u001b[0;34m=\u001b[0m \u001b[0mmol_energies\u001b[0m\u001b[0;34m[\u001b[0m\u001b[0mis_generated\u001b[0m\u001b[0;34m]\u001b[0m\u001b[0;34m\u001b[0m\u001b[0;34m\u001b[0m\u001b[0m\n",
      "\u001b[0m\n"
     ]
    },
    {
     "name": "stdin",
     "output_type": "stream",
     "text": [
      "ipdb>  bioactive_preds\n"
     ]
    },
    {
     "name": "stdout",
     "output_type": "stream",
     "text": [
      "array([], dtype=float32)\n"
     ]
    },
    {
     "name": "stdin",
     "output_type": "stream",
     "text": [
      "ipdb>  smiles\n"
     ]
    },
    {
     "name": "stdout",
     "output_type": "stream",
     "text": [
      "'Cc1ccccc1S(=O)(=O)N(CCN(Cc1cncn1C)c1ccc(C#N)cc1)CC1CCN(C(=O)OC(C)(C)C)CC1'\n"
     ]
    },
    {
     "name": "stderr",
     "output_type": "stream",
     "text": [
      "  3%|█▏                                       | 40/1418 [00:17<01:42, 13.38it/s]"
     ]
    },
    {
     "name": "stdin",
     "output_type": "stream",
     "text": [
      "ipdb>  smiles_data_list\n"
     ]
    },
    {
     "name": "stdout",
     "output_type": "stream",
     "text": [
      "[Data(x=[43, 1], edge_index=[2, 92], pos=[43, 3], data_id='Cc1ccccc1S(=O)(=O)N(CCN(Cc1cncn1C)c1ccc(C#N)cc1)CC1CCN(C(=O)OC(C)(C)C)CC1_Gen_0', energy=[1], n_heavy_atoms=[1], n_rotatable_bonds=[1], rmsd=[1]), Data(x=[43, 1], edge_index=[2, 92], pos=[43, 3], data_id='Cc1ccccc1S(=O)(=O)N(CCN(Cc1cncn1C)c1ccc(C#N)cc1)CC1CCN(C(=O)OC(C)(C)C)CC1_Gen_1', energy=[1], n_heavy_atoms=[1], n_rotatable_bonds=[1], rmsd=[1]), Data(x=[43, 1], edge_index=[2, 92], pos=[43, 3], data_id='Cc1ccccc1S(=O)(=O)N(CCN(Cc1cncn1C)c1ccc(C#N)cc1)CC1CCN(C(=O)OC(C)(C)C)CC1_Gen_2', energy=[1], n_heavy_atoms=[1], n_rotatable_bonds=[1], rmsd=[1]), Data(x=[43, 1], edge_index=[2, 92], pos=[43, 3], data_id='Cc1ccccc1S(=O)(=O)N(CCN(Cc1cncn1C)c1ccc(C#N)cc1)CC1CCN(C(=O)OC(C)(C)C)CC1_Gen_3', energy=[1], n_heavy_atoms=[1], n_rotatable_bonds=[1], rmsd=[1]), Data(x=[43, 1], edge_index=[2, 92], pos=[43, 3], data_id='Cc1ccccc1S(=O)(=O)N(CCN(Cc1cncn1C)c1ccc(C#N)cc1)CC1CCN(C(=O)OC(C)(C)C)CC1_Gen_4', energy=[1], n_heavy_atoms=[1], n_rotatable_bonds=[1], rmsd=[1]), Data(x=[43, 1], edge_index=[2, 92], pos=[43, 3], data_id='Cc1ccccc1S(=O)(=O)N(CCN(Cc1cncn1C)c1ccc(C#N)cc1)CC1CCN(C(=O)OC(C)(C)C)CC1_Gen_5', energy=[1], n_heavy_atoms=[1], n_rotatable_bonds=[1], rmsd=[1]), Data(x=[43, 1], edge_index=[2, 92], pos=[43, 3], data_id='Cc1ccccc1S(=O)(=O)N(CCN(Cc1cncn1C)c1ccc(C#N)cc1)CC1CCN(C(=O)OC(C)(C)C)CC1_Gen_6', energy=[1], n_heavy_atoms=[1], n_rotatable_bonds=[1], rmsd=[1]), Data(x=[43, 1], edge_index=[2, 92], pos=[43, 3], data_id='Cc1ccccc1S(=O)(=O)N(CCN(Cc1cncn1C)c1ccc(C#N)cc1)CC1CCN(C(=O)OC(C)(C)C)CC1_Gen_7', energy=[1], n_heavy_atoms=[1], n_rotatable_bonds=[1], rmsd=[1]), Data(x=[43, 1], edge_index=[2, 92], pos=[43, 3], data_id='Cc1ccccc1S(=O)(=O)N(CCN(Cc1cncn1C)c1ccc(C#N)cc1)CC1CCN(C(=O)OC(C)(C)C)CC1_Gen_8', energy=[1], n_heavy_atoms=[1], n_rotatable_bonds=[1], rmsd=[1]), Data(x=[43, 1], edge_index=[2, 92], pos=[43, 3], data_id='Cc1ccccc1S(=O)(=O)N(CCN(Cc1cncn1C)c1ccc(C#N)cc1)CC1CCN(C(=O)OC(C)(C)C)CC1_Gen_9', energy=[1], n_heavy_atoms=[1], n_rotatable_bonds=[1], rmsd=[1]), Data(x=[43, 1], edge_index=[2, 92], pos=[43, 3], data_id='Cc1ccccc1S(=O)(=O)N(CCN(Cc1cncn1C)c1ccc(C#N)cc1)CC1CCN(C(=O)OC(C)(C)C)CC1_Gen_10', energy=[1], n_heavy_atoms=[1], n_rotatable_bonds=[1], rmsd=[1]), Data(x=[43, 1], edge_index=[2, 92], pos=[43, 3], data_id='Cc1ccccc1S(=O)(=O)N(CCN(Cc1cncn1C)c1ccc(C#N)cc1)CC1CCN(C(=O)OC(C)(C)C)CC1_Gen_11', energy=[1], n_heavy_atoms=[1], n_rotatable_bonds=[1], rmsd=[1]), Data(x=[43, 1], edge_index=[2, 92], pos=[43, 3], data_id='Cc1ccccc1S(=O)(=O)N(CCN(Cc1cncn1C)c1ccc(C#N)cc1)CC1CCN(C(=O)OC(C)(C)C)CC1_Gen_12', energy=[1], n_heavy_atoms=[1], n_rotatable_bonds=[1], rmsd=[1]), Data(x=[43, 1], edge_index=[2, 92], pos=[43, 3], data_id='Cc1ccccc1S(=O)(=O)N(CCN(Cc1cncn1C)c1ccc(C#N)cc1)CC1CCN(C(=O)OC(C)(C)C)CC1_Gen_13', energy=[1], n_heavy_atoms=[1], n_rotatable_bonds=[1], rmsd=[1]), Data(x=[43, 1], edge_index=[2, 92], pos=[43, 3], data_id='Cc1ccccc1S(=O)(=O)N(CCN(Cc1cncn1C)c1ccc(C#N)cc1)CC1CCN(C(=O)OC(C)(C)C)CC1_Gen_14', energy=[1], n_heavy_atoms=[1], n_rotatable_bonds=[1], rmsd=[1]), Data(x=[43, 1], edge_index=[2, 92], pos=[43, 3], data_id='Cc1ccccc1S(=O)(=O)N(CCN(Cc1cncn1C)c1ccc(C#N)cc1)CC1CCN(C(=O)OC(C)(C)C)CC1_Gen_15', energy=[1], n_heavy_atoms=[1], n_rotatable_bonds=[1], rmsd=[1]), Data(x=[43, 1], edge_index=[2, 92], pos=[43, 3], data_id='Cc1ccccc1S(=O)(=O)N(CCN(Cc1cncn1C)c1ccc(C#N)cc1)CC1CCN(C(=O)OC(C)(C)C)CC1_Gen_16', energy=[1], n_heavy_atoms=[1], n_rotatable_bonds=[1], rmsd=[1]), Data(x=[43, 1], edge_index=[2, 92], pos=[43, 3], data_id='Cc1ccccc1S(=O)(=O)N(CCN(Cc1cncn1C)c1ccc(C#N)cc1)CC1CCN(C(=O)OC(C)(C)C)CC1_Gen_17', energy=[1], n_heavy_atoms=[1], n_rotatable_bonds=[1], rmsd=[1]), Data(x=[43, 1], edge_index=[2, 92], pos=[43, 3], data_id='Cc1ccccc1S(=O)(=O)N(CCN(Cc1cncn1C)c1ccc(C#N)cc1)CC1CCN(C(=O)OC(C)(C)C)CC1_Gen_18', energy=[1], n_heavy_atoms=[1], n_rotatable_bonds=[1], rmsd=[1]), Data(x=[43, 1], edge_index=[2, 92], pos=[43, 3], data_id='Cc1ccccc1S(=O)(=O)N(CCN(Cc1cncn1C)c1ccc(C#N)cc1)CC1CCN(C(=O)OC(C)(C)C)CC1_Gen_19', energy=[1], n_heavy_atoms=[1], n_rotatable_bonds=[1], rmsd=[1]), Data(x=[43, 1], edge_index=[2, 92], pos=[43, 3], data_id='Cc1ccccc1S(=O)(=O)N(CCN(Cc1cncn1C)c1ccc(C#N)cc1)CC1CCN(C(=O)OC(C)(C)C)CC1_Gen_20', energy=[1], n_heavy_atoms=[1], n_rotatable_bonds=[1], rmsd=[1]), Data(x=[43, 1], edge_index=[2, 92], pos=[43, 3], data_id='Cc1ccccc1S(=O)(=O)N(CCN(Cc1cncn1C)c1ccc(C#N)cc1)CC1CCN(C(=O)OC(C)(C)C)CC1_Gen_21', energy=[1], n_heavy_atoms=[1], n_rotatable_bonds=[1], rmsd=[1]), Data(x=[43, 1], edge_index=[2, 92], pos=[43, 3], data_id='Cc1ccccc1S(=O)(=O)N(CCN(Cc1cncn1C)c1ccc(C#N)cc1)CC1CCN(C(=O)OC(C)(C)C)CC1_Gen_22', energy=[1], n_heavy_atoms=[1], n_rotatable_bonds=[1], rmsd=[1]), Data(x=[43, 1], edge_index=[2, 92], pos=[43, 3], data_id='Cc1ccccc1S(=O)(=O)N(CCN(Cc1cncn1C)c1ccc(C#N)cc1)CC1CCN(C(=O)OC(C)(C)C)CC1_Gen_23', energy=[1], n_heavy_atoms=[1], n_rotatable_bonds=[1], rmsd=[1]), Data(x=[43, 1], edge_index=[2, 92], pos=[43, 3], data_id='Cc1ccccc1S(=O)(=O)N(CCN(Cc1cncn1C)c1ccc(C#N)cc1)CC1CCN(C(=O)OC(C)(C)C)CC1_Gen_24', energy=[1], n_heavy_atoms=[1], n_rotatable_bonds=[1], rmsd=[1]), Data(x=[43, 1], edge_index=[2, 92], pos=[43, 3], data_id='Cc1ccccc1S(=O)(=O)N(CCN(Cc1cncn1C)c1ccc(C#N)cc1)CC1CCN(C(=O)OC(C)(C)C)CC1_Gen_25', energy=[1], n_heavy_atoms=[1], n_rotatable_bonds=[1], rmsd=[1]), Data(x=[43, 1], edge_index=[2, 92], pos=[43, 3], data_id='Cc1ccccc1S(=O)(=O)N(CCN(Cc1cncn1C)c1ccc(C#N)cc1)CC1CCN(C(=O)OC(C)(C)C)CC1_Gen_26', energy=[1], n_heavy_atoms=[1], n_rotatable_bonds=[1], rmsd=[1]), Data(x=[43, 1], edge_index=[2, 92], pos=[43, 3], data_id='Cc1ccccc1S(=O)(=O)N(CCN(Cc1cncn1C)c1ccc(C#N)cc1)CC1CCN(C(=O)OC(C)(C)C)CC1_Gen_27', energy=[1], n_heavy_atoms=[1], n_rotatable_bonds=[1], rmsd=[1]), Data(x=[43, 1], edge_index=[2, 92], pos=[43, 3], data_id='Cc1ccccc1S(=O)(=O)N(CCN(Cc1cncn1C)c1ccc(C#N)cc1)CC1CCN(C(=O)OC(C)(C)C)CC1_Gen_28', energy=[1], n_heavy_atoms=[1], n_rotatable_bonds=[1], rmsd=[1]), Data(x=[43, 1], edge_index=[2, 92], pos=[43, 3], data_id='Cc1ccccc1S(=O)(=O)N(CCN(Cc1cncn1C)c1ccc(C#N)cc1)CC1CCN(C(=O)OC(C)(C)C)CC1_Gen_29', energy=[1], n_heavy_atoms=[1], n_rotatable_bonds=[1], rmsd=[1]), Data(x=[43, 1], edge_index=[2, 92], pos=[43, 3], data_id='Cc1ccccc1S(=O)(=O)N(CCN(Cc1cncn1C)c1ccc(C#N)cc1)CC1CCN(C(=O)OC(C)(C)C)CC1_Gen_30', energy=[1], n_heavy_atoms=[1], n_rotatable_bonds=[1], rmsd=[1]), Data(x=[43, 1], edge_index=[2, 92], pos=[43, 3], data_id='Cc1ccccc1S(=O)(=O)N(CCN(Cc1cncn1C)c1ccc(C#N)cc1)CC1CCN(C(=O)OC(C)(C)C)CC1_Gen_31', energy=[1], n_heavy_atoms=[1], n_rotatable_bonds=[1], rmsd=[1]), Data(x=[43, 1], edge_index=[2, 92], pos=[43, 3], data_id='Cc1ccccc1S(=O)(=O)N(CCN(Cc1cncn1C)c1ccc(C#N)cc1)CC1CCN(C(=O)OC(C)(C)C)CC1_Gen_32', energy=[1], n_heavy_atoms=[1], n_rotatable_bonds=[1], rmsd=[1]), Data(x=[43, 1], edge_index=[2, 92], pos=[43, 3], data_id='Cc1ccccc1S(=O)(=O)N(CCN(Cc1cncn1C)c1ccc(C#N)cc1)CC1CCN(C(=O)OC(C)(C)C)CC1_Gen_33', energy=[1], n_heavy_atoms=[1], n_rotatable_bonds=[1], rmsd=[1]), Data(x=[43, 1], edge_index=[2, 92], pos=[43, 3], data_id='Cc1ccccc1S(=O)(=O)N(CCN(Cc1cncn1C)c1ccc(C#N)cc1)CC1CCN(C(=O)OC(C)(C)C)CC1_Gen_34', energy=[1], n_heavy_atoms=[1], n_rotatable_bonds=[1], rmsd=[1]), Data(x=[43, 1], edge_index=[2, 92], pos=[43, 3], data_id='Cc1ccccc1S(=O)(=O)N(CCN(Cc1cncn1C)c1ccc(C#N)cc1)CC1CCN(C(=O)OC(C)(C)C)CC1_Gen_35', energy=[1], n_heavy_atoms=[1], n_rotatable_bonds=[1], rmsd=[1]), Data(x=[43, 1], edge_index=[2, 92], pos=[43, 3], data_id='Cc1ccccc1S(=O)(=O)N(CCN(Cc1cncn1C)c1ccc(C#N)cc1)CC1CCN(C(=O)OC(C)(C)C)CC1_Gen_36', energy=[1], n_heavy_atoms=[1], n_rotatable_bonds=[1], rmsd=[1]), Data(x=[43, 1], edge_index=[2, 92], pos=[43, 3], data_id='Cc1ccccc1S(=O)(=O)N(CCN(Cc1cncn1C)c1ccc(C#N)cc1)CC1CCN(C(=O)OC(C)(C)C)CC1_Gen_37', energy=[1], n_heavy_atoms=[1], n_rotatable_bonds=[1], rmsd=[1]), Data(x=[43, 1], edge_index=[2, 92], pos=[43, 3], data_id='Cc1ccccc1S(=O)(=O)N(CCN(Cc1cncn1C)c1ccc(C#N)cc1)CC1CCN(C(=O)OC(C)(C)C)CC1_Gen_38', energy=[1], n_heavy_atoms=[1], n_rotatable_bonds=[1], rmsd=[1]), Data(x=[43, 1], edge_index=[2, 92], pos=[43, 3], data_id='Cc1ccccc1S(=O)(=O)N(CCN(Cc1cncn1C)c1ccc(C#N)cc1)CC1CCN(C(=O)OC(C)(C)C)CC1_Gen_39', energy=[1], n_heavy_atoms=[1], n_rotatable_bonds=[1], rmsd=[1]), Data(x=[43, 1], edge_index=[2, 92], pos=[43, 3], data_id='Cc1ccccc1S(=O)(=O)N(CCN(Cc1cncn1C)c1ccc(C#N)cc1)CC1CCN(C(=O)OC(C)(C)C)CC1_Gen_40', energy=[1], n_heavy_atoms=[1], n_rotatable_bonds=[1], rmsd=[1]), Data(x=[43, 1], edge_index=[2, 92], pos=[43, 3], data_id='Cc1ccccc1S(=O)(=O)N(CCN(Cc1cncn1C)c1ccc(C#N)cc1)CC1CCN(C(=O)OC(C)(C)C)CC1_Gen_41', energy=[1], n_heavy_atoms=[1], n_rotatable_bonds=[1], rmsd=[1]), Data(x=[43, 1], edge_index=[2, 92], pos=[43, 3], data_id='Cc1ccccc1S(=O)(=O)N(CCN(Cc1cncn1C)c1ccc(C#N)cc1)CC1CCN(C(=O)OC(C)(C)C)CC1_Gen_42', energy=[1], n_heavy_atoms=[1], n_rotatable_bonds=[1], rmsd=[1]), Data(x=[43, 1], edge_index=[2, 92], pos=[43, 3], data_id='Cc1ccccc1S(=O)(=O)N(CCN(Cc1cncn1C)c1ccc(C#N)cc1)CC1CCN(C(=O)OC(C)(C)C)CC1_Gen_43', energy=[1], n_heavy_atoms=[1], n_rotatable_bonds=[1], rmsd=[1]), Data(x=[43, 1], edge_index=[2, 92], pos=[43, 3], data_id='Cc1ccccc1S(=O)(=O)N(CCN(Cc1cncn1C)c1ccc(C#N)cc1)CC1CCN(C(=O)OC(C)(C)C)CC1_Gen_44', energy=[1], n_heavy_atoms=[1], n_rotatable_bonds=[1], rmsd=[1]), Data(x=[43, 1], edge_index=[2, 92], pos=[43, 3], data_id='Cc1ccccc1S(=O)(=O)N(CCN(Cc1cncn1C)c1ccc(C#N)cc1)CC1CCN(C(=O)OC(C)(C)C)CC1_Gen_45', energy=[1], n_heavy_atoms=[1], n_rotatable_bonds=[1], rmsd=[1]), Data(x=[43, 1], edge_index=[2, 92], pos=[43, 3], data_id='Cc1ccccc1S(=O)(=O)N(CCN(Cc1cncn1C)c1ccc(C#N)cc1)CC1CCN(C(=O)OC(C)(C)C)CC1_Gen_46', energy=[1], n_heavy_atoms=[1], n_rotatable_bonds=[1], rmsd=[1]), Data(x=[43, 1], edge_index=[2, 92], pos=[43, 3], data_id='Cc1ccccc1S(=O)(=O)N(CCN(Cc1cncn1C)c1ccc(C#N)cc1)CC1CCN(C(=O)OC(C)(C)C)CC1_Gen_47', energy=[1], n_heavy_atoms=[1], n_rotatable_bonds=[1], rmsd=[1]), Data(x=[43, 1], edge_index=[2, 92], pos=[43, 3], data_id='Cc1ccccc1S(=O)(=O)N(CCN(Cc1cncn1C)c1ccc(C#N)cc1)CC1CCN(C(=O)OC(C)(C)C)CC1_Gen_48', energy=[1], n_heavy_atoms=[1], n_rotatable_bonds=[1], rmsd=[1]), Data(x=[43, 1], edge_index=[2, 92], pos=[43, 3], data_id='Cc1ccccc1S(=O)(=O)N(CCN(Cc1cncn1C)c1ccc(C#N)cc1)CC1CCN(C(=O)OC(C)(C)C)CC1_Gen_49', energy=[1], n_heavy_atoms=[1], n_rotatable_bonds=[1], rmsd=[1]), Data(x=[43, 1], edge_index=[2, 92], pos=[43, 3], data_id='Cc1ccccc1S(=O)(=O)N(CCN(Cc1cncn1C)c1ccc(C#N)cc1)CC1CCN(C(=O)OC(C)(C)C)CC1_Gen_50', energy=[1], n_heavy_atoms=[1], n_rotatable_bonds=[1], rmsd=[1]), Data(x=[43, 1], edge_index=[2, 92], pos=[43, 3], data_id='Cc1ccccc1S(=O)(=O)N(CCN(Cc1cncn1C)c1ccc(C#N)cc1)CC1CCN(C(=O)OC(C)(C)C)CC1_Gen_51', energy=[1], n_heavy_atoms=[1], n_rotatable_bonds=[1], rmsd=[1]), Data(x=[43, 1], edge_index=[2, 92], pos=[43, 3], data_id='Cc1ccccc1S(=O)(=O)N(CCN(Cc1cncn1C)c1ccc(C#N)cc1)CC1CCN(C(=O)OC(C)(C)C)CC1_Gen_52', energy=[1], n_heavy_atoms=[1], n_rotatable_bonds=[1], rmsd=[1]), Data(x=[43, 1], edge_index=[2, 92], pos=[43, 3], data_id='Cc1ccccc1S(=O)(=O)N(CCN(Cc1cncn1C)c1ccc(C#N)cc1)CC1CCN(C(=O)OC(C)(C)C)CC1_Gen_53', energy=[1], n_heavy_atoms=[1], n_rotatable_bonds=[1], rmsd=[1]), Data(x=[43, 1], edge_index=[2, 92], pos=[43, 3], data_id='Cc1ccccc1S(=O)(=O)N(CCN(Cc1cncn1C)c1ccc(C#N)cc1)CC1CCN(C(=O)OC(C)(C)C)CC1_Gen_54', energy=[1], n_heavy_atoms=[1], n_rotatable_bonds=[1], rmsd=[1]), Data(x=[43, 1], edge_index=[2, 92], pos=[43, 3], data_id='Cc1ccccc1S(=O)(=O)N(CCN(Cc1cncn1C)c1ccc(C#N)cc1)CC1CCN(C(=O)OC(C)(C)C)CC1_Gen_55', energy=[1], n_heavy_atoms=[1], n_rotatable_bonds=[1], rmsd=[1]), Data(x=[43, 1], edge_index=[2, 92], pos=[43, 3], data_id='Cc1ccccc1S(=O)(=O)N(CCN(Cc1cncn1C)c1ccc(C#N)cc1)CC1CCN(C(=O)OC(C)(C)C)CC1_Gen_56', energy=[1], n_heavy_atoms=[1], n_rotatable_bonds=[1], rmsd=[1]), Data(x=[43, 1], edge_index=[2, 92], pos=[43, 3], data_id='Cc1ccccc1S(=O)(=O)N(CCN(Cc1cncn1C)c1ccc(C#N)cc1)CC1CCN(C(=O)OC(C)(C)C)CC1_Gen_57', energy=[1], n_heavy_atoms=[1], n_rotatable_bonds=[1], rmsd=[1]), Data(x=[43, 1], edge_index=[2, 92], pos=[43, 3], data_id='Cc1ccccc1S(=O)(=O)N(CCN(Cc1cncn1C)c1ccc(C#N)cc1)CC1CCN(C(=O)OC(C)(C)C)CC1_Gen_58', energy=[1], n_heavy_atoms=[1], n_rotatable_bonds=[1], rmsd=[1]), Data(x=[43, 1], edge_index=[2, 92], pos=[43, 3], data_id='Cc1ccccc1S(=O)(=O)N(CCN(Cc1cncn1C)c1ccc(C#N)cc1)CC1CCN(C(=O)OC(C)(C)C)CC1_Gen_59', energy=[1], n_heavy_atoms=[1], n_rotatable_bonds=[1], rmsd=[1]), Data(x=[43, 1], edge_index=[2, 92], pos=[43, 3], data_id='Cc1ccccc1S(=O)(=O)N(CCN(Cc1cncn1C)c1ccc(C#N)cc1)CC1CCN(C(=O)OC(C)(C)C)CC1_Gen_60', energy=[1], n_heavy_atoms=[1], n_rotatable_bonds=[1], rmsd=[1]), Data(x=[43, 1], edge_index=[2, 92], pos=[43, 3], data_id='Cc1ccccc1S(=O)(=O)N(CCN(Cc1cncn1C)c1ccc(C#N)cc1)CC1CCN(C(=O)OC(C)(C)C)CC1_Gen_61', energy=[1], n_heavy_atoms=[1], n_rotatable_bonds=[1], rmsd=[1]), Data(x=[43, 1], edge_index=[2, 92], pos=[43, 3], data_id='Cc1ccccc1S(=O)(=O)N(CCN(Cc1cncn1C)c1ccc(C#N)cc1)CC1CCN(C(=O)OC(C)(C)C)CC1_Gen_62', energy=[1], n_heavy_atoms=[1], n_rotatable_bonds=[1], rmsd=[1]), Data(x=[43, 1], edge_index=[2, 92], pos=[43, 3], data_id='Cc1ccccc1S(=O)(=O)N(CCN(Cc1cncn1C)c1ccc(C#N)cc1)CC1CCN(C(=O)OC(C)(C)C)CC1_Gen_63', energy=[1], n_heavy_atoms=[1], n_rotatable_bonds=[1], rmsd=[1]), Data(x=[43, 1], edge_index=[2, 92], pos=[43, 3], data_id='Cc1ccccc1S(=O)(=O)N(CCN(Cc1cncn1C)c1ccc(C#N)cc1)CC1CCN(C(=O)OC(C)(C)C)CC1_Gen_64', energy=[1], n_heavy_atoms=[1], n_rotatable_bonds=[1], rmsd=[1]), Data(x=[43, 1], edge_index=[2, 92], pos=[43, 3], data_id='Cc1ccccc1S(=O)(=O)N(CCN(Cc1cncn1C)c1ccc(C#N)cc1)CC1CCN(C(=O)OC(C)(C)C)CC1_Gen_65', energy=[1], n_heavy_atoms=[1], n_rotatable_bonds=[1], rmsd=[1]), Data(x=[43, 1], edge_index=[2, 92], pos=[43, 3], data_id='Cc1ccccc1S(=O)(=O)N(CCN(Cc1cncn1C)c1ccc(C#N)cc1)CC1CCN(C(=O)OC(C)(C)C)CC1_Gen_66', energy=[1], n_heavy_atoms=[1], n_rotatable_bonds=[1], rmsd=[1]), Data(x=[43, 1], edge_index=[2, 92], pos=[43, 3], data_id='Cc1ccccc1S(=O)(=O)N(CCN(Cc1cncn1C)c1ccc(C#N)cc1)CC1CCN(C(=O)OC(C)(C)C)CC1_Gen_67', energy=[1], n_heavy_atoms=[1], n_rotatable_bonds=[1], rmsd=[1]), Data(x=[43, 1], edge_index=[2, 92], pos=[43, 3], data_id='Cc1ccccc1S(=O)(=O)N(CCN(Cc1cncn1C)c1ccc(C#N)cc1)CC1CCN(C(=O)OC(C)(C)C)CC1_Gen_68', energy=[1], n_heavy_atoms=[1], n_rotatable_bonds=[1], rmsd=[1]), Data(x=[43, 1], edge_index=[2, 92], pos=[43, 3], data_id='Cc1ccccc1S(=O)(=O)N(CCN(Cc1cncn1C)c1ccc(C#N)cc1)CC1CCN(C(=O)OC(C)(C)C)CC1_Gen_69', energy=[1], n_heavy_atoms=[1], n_rotatable_bonds=[1], rmsd=[1]), Data(x=[43, 1], edge_index=[2, 92], pos=[43, 3], data_id='Cc1ccccc1S(=O)(=O)N(CCN(Cc1cncn1C)c1ccc(C#N)cc1)CC1CCN(C(=O)OC(C)(C)C)CC1_Gen_70', energy=[1], n_heavy_atoms=[1], n_rotatable_bonds=[1], rmsd=[1]), Data(x=[43, 1], edge_index=[2, 92], pos=[43, 3], data_id='Cc1ccccc1S(=O)(=O)N(CCN(Cc1cncn1C)c1ccc(C#N)cc1)CC1CCN(C(=O)OC(C)(C)C)CC1_Gen_71', energy=[1], n_heavy_atoms=[1], n_rotatable_bonds=[1], rmsd=[1]), Data(x=[43, 1], edge_index=[2, 92], pos=[43, 3], data_id='Cc1ccccc1S(=O)(=O)N(CCN(Cc1cncn1C)c1ccc(C#N)cc1)CC1CCN(C(=O)OC(C)(C)C)CC1_Gen_72', energy=[1], n_heavy_atoms=[1], n_rotatable_bonds=[1], rmsd=[1]), Data(x=[43, 1], edge_index=[2, 92], pos=[43, 3], data_id='Cc1ccccc1S(=O)(=O)N(CCN(Cc1cncn1C)c1ccc(C#N)cc1)CC1CCN(C(=O)OC(C)(C)C)CC1_Gen_73', energy=[1], n_heavy_atoms=[1], n_rotatable_bonds=[1], rmsd=[1]), Data(x=[43, 1], edge_index=[2, 92], pos=[43, 3], data_id='Cc1ccccc1S(=O)(=O)N(CCN(Cc1cncn1C)c1ccc(C#N)cc1)CC1CCN(C(=O)OC(C)(C)C)CC1_Gen_74', energy=[1], n_heavy_atoms=[1], n_rotatable_bonds=[1], rmsd=[1]), Data(x=[43, 1], edge_index=[2, 92], pos=[43, 3], data_id='Cc1ccccc1S(=O)(=O)N(CCN(Cc1cncn1C)c1ccc(C#N)cc1)CC1CCN(C(=O)OC(C)(C)C)CC1_Gen_75', energy=[1], n_heavy_atoms=[1], n_rotatable_bonds=[1], rmsd=[1]), Data(x=[43, 1], edge_index=[2, 92], pos=[43, 3], data_id='Cc1ccccc1S(=O)(=O)N(CCN(Cc1cncn1C)c1ccc(C#N)cc1)CC1CCN(C(=O)OC(C)(C)C)CC1_Gen_76', energy=[1], n_heavy_atoms=[1], n_rotatable_bonds=[1], rmsd=[1]), Data(x=[43, 1], edge_index=[2, 92], pos=[43, 3], data_id='Cc1ccccc1S(=O)(=O)N(CCN(Cc1cncn1C)c1ccc(C#N)cc1)CC1CCN(C(=O)OC(C)(C)C)CC1_Gen_77', energy=[1], n_heavy_atoms=[1], n_rotatable_bonds=[1], rmsd=[1]), Data(x=[43, 1], edge_index=[2, 92], pos=[43, 3], data_id='Cc1ccccc1S(=O)(=O)N(CCN(Cc1cncn1C)c1ccc(C#N)cc1)CC1CCN(C(=O)OC(C)(C)C)CC1_Gen_78', energy=[1], n_heavy_atoms=[1], n_rotatable_bonds=[1], rmsd=[1]), Data(x=[43, 1], edge_index=[2, 92], pos=[43, 3], data_id='Cc1ccccc1S(=O)(=O)N(CCN(Cc1cncn1C)c1ccc(C#N)cc1)CC1CCN(C(=O)OC(C)(C)C)CC1_Gen_79', energy=[1], n_heavy_atoms=[1], n_rotatable_bonds=[1], rmsd=[1]), Data(x=[43, 1], edge_index=[2, 92], pos=[43, 3], data_id='Cc1ccccc1S(=O)(=O)N(CCN(Cc1cncn1C)c1ccc(C#N)cc1)CC1CCN(C(=O)OC(C)(C)C)CC1_Gen_80', energy=[1], n_heavy_atoms=[1], n_rotatable_bonds=[1], rmsd=[1]), Data(x=[43, 1], edge_index=[2, 92], pos=[43, 3], data_id='Cc1ccccc1S(=O)(=O)N(CCN(Cc1cncn1C)c1ccc(C#N)cc1)CC1CCN(C(=O)OC(C)(C)C)CC1_Gen_81', energy=[1], n_heavy_atoms=[1], n_rotatable_bonds=[1], rmsd=[1]), Data(x=[43, 1], edge_index=[2, 92], pos=[43, 3], data_id='Cc1ccccc1S(=O)(=O)N(CCN(Cc1cncn1C)c1ccc(C#N)cc1)CC1CCN(C(=O)OC(C)(C)C)CC1_Gen_82', energy=[1], n_heavy_atoms=[1], n_rotatable_bonds=[1], rmsd=[1]), Data(x=[43, 1], edge_index=[2, 92], pos=[43, 3], data_id='Cc1ccccc1S(=O)(=O)N(CCN(Cc1cncn1C)c1ccc(C#N)cc1)CC1CCN(C(=O)OC(C)(C)C)CC1_Gen_83', energy=[1], n_heavy_atoms=[1], n_rotatable_bonds=[1], rmsd=[1]), Data(x=[43, 1], edge_index=[2, 92], pos=[43, 3], data_id='Cc1ccccc1S(=O)(=O)N(CCN(Cc1cncn1C)c1ccc(C#N)cc1)CC1CCN(C(=O)OC(C)(C)C)CC1_Gen_84', energy=[1], n_heavy_atoms=[1], n_rotatable_bonds=[1], rmsd=[1]), Data(x=[43, 1], edge_index=[2, 92], pos=[43, 3], data_id='Cc1ccccc1S(=O)(=O)N(CCN(Cc1cncn1C)c1ccc(C#N)cc1)CC1CCN(C(=O)OC(C)(C)C)CC1_Gen_85', energy=[1], n_heavy_atoms=[1], n_rotatable_bonds=[1], rmsd=[1]), Data(x=[43, 1], edge_index=[2, 92], pos=[43, 3], data_id='Cc1ccccc1S(=O)(=O)N(CCN(Cc1cncn1C)c1ccc(C#N)cc1)CC1CCN(C(=O)OC(C)(C)C)CC1_Gen_86', energy=[1], n_heavy_atoms=[1], n_rotatable_bonds=[1], rmsd=[1]), Data(x=[43, 1], edge_index=[2, 92], pos=[43, 3], data_id='Cc1ccccc1S(=O)(=O)N(CCN(Cc1cncn1C)c1ccc(C#N)cc1)CC1CCN(C(=O)OC(C)(C)C)CC1_Gen_87', energy=[1], n_heavy_atoms=[1], n_rotatable_bonds=[1], rmsd=[1]), Data(x=[43, 1], edge_index=[2, 92], pos=[43, 3], data_id='Cc1ccccc1S(=O)(=O)N(CCN(Cc1cncn1C)c1ccc(C#N)cc1)CC1CCN(C(=O)OC(C)(C)C)CC1_Gen_88', energy=[1], n_heavy_atoms=[1], n_rotatable_bonds=[1], rmsd=[1]), Data(x=[43, 1], edge_index=[2, 92], pos=[43, 3], data_id='Cc1ccccc1S(=O)(=O)N(CCN(Cc1cncn1C)c1ccc(C#N)cc1)CC1CCN(C(=O)OC(C)(C)C)CC1_Gen_89', energy=[1], n_heavy_atoms=[1], n_rotatable_bonds=[1], rmsd=[1]), Data(x=[43, 1], edge_index=[2, 92], pos=[43, 3], data_id='Cc1ccccc1S(=O)(=O)N(CCN(Cc1cncn1C)c1ccc(C#N)cc1)CC1CCN(C(=O)OC(C)(C)C)CC1_Gen_90', energy=[1], n_heavy_atoms=[1], n_rotatable_bonds=[1], rmsd=[1]), Data(x=[43, 1], edge_index=[2, 92], pos=[43, 3], data_id='Cc1ccccc1S(=O)(=O)N(CCN(Cc1cncn1C)c1ccc(C#N)cc1)CC1CCN(C(=O)OC(C)(C)C)CC1_Gen_91', energy=[1], n_heavy_atoms=[1], n_rotatable_bonds=[1], rmsd=[1]), Data(x=[43, 1], edge_index=[2, 92], pos=[43, 3], data_id='Cc1ccccc1S(=O)(=O)N(CCN(Cc1cncn1C)c1ccc(C#N)cc1)CC1CCN(C(=O)OC(C)(C)C)CC1_Gen_92', energy=[1], n_heavy_atoms=[1], n_rotatable_bonds=[1], rmsd=[1]), Data(x=[43, 1], edge_index=[2, 92], pos=[43, 3], data_id='Cc1ccccc1S(=O)(=O)N(CCN(Cc1cncn1C)c1ccc(C#N)cc1)CC1CCN(C(=O)OC(C)(C)C)CC1_Gen_93', energy=[1], n_heavy_atoms=[1], n_rotatable_bonds=[1], rmsd=[1]), Data(x=[43, 1], edge_index=[2, 92], pos=[43, 3], data_id='Cc1ccccc1S(=O)(=O)N(CCN(Cc1cncn1C)c1ccc(C#N)cc1)CC1CCN(C(=O)OC(C)(C)C)CC1_Gen_94', energy=[1], n_heavy_atoms=[1], n_rotatable_bonds=[1], rmsd=[1]), Data(x=[43, 1], edge_index=[2, 92], pos=[43, 3], data_id='Cc1ccccc1S(=O)(=O)N(CCN(Cc1cncn1C)c1ccc(C#N)cc1)CC1CCN(C(=O)OC(C)(C)C)CC1_Gen_95', energy=[1], n_heavy_atoms=[1], n_rotatable_bonds=[1], rmsd=[1]), Data(x=[43, 1], edge_index=[2, 92], pos=[43, 3], data_id='Cc1ccccc1S(=O)(=O)N(CCN(Cc1cncn1C)c1ccc(C#N)cc1)CC1CCN(C(=O)OC(C)(C)C)CC1_Gen_96', energy=[1], n_heavy_atoms=[1], n_rotatable_bonds=[1], rmsd=[1]), Data(x=[43, 1], edge_index=[2, 92], pos=[43, 3], data_id='Cc1ccccc1S(=O)(=O)N(CCN(Cc1cncn1C)c1ccc(C#N)cc1)CC1CCN(C(=O)OC(C)(C)C)CC1_Gen_97', energy=[1], n_heavy_atoms=[1], n_rotatable_bonds=[1], rmsd=[1]), Data(x=[43, 1], edge_index=[2, 92], pos=[43, 3], data_id='Cc1ccccc1S(=O)(=O)N(CCN(Cc1cncn1C)c1ccc(C#N)cc1)CC1CCN(C(=O)OC(C)(C)C)CC1_Gen_98', energy=[1], n_heavy_atoms=[1], n_rotatable_bonds=[1], rmsd=[1]), Data(x=[43, 1], edge_index=[2, 92], pos=[43, 3], data_id='Cc1ccccc1S(=O)(=O)N(CCN(Cc1cncn1C)c1ccc(C#N)cc1)CC1CCN(C(=O)OC(C)(C)C)CC1_Gen_99', energy=[1], n_heavy_atoms=[1], n_rotatable_bonds=[1], rmsd=[1])]\n"
     ]
    },
    {
     "name": "stdin",
     "output_type": "stream",
     "text": [
      "ipdb>  [d.data_id for d in smiles_data_list]\n"
     ]
    },
    {
     "name": "stdout",
     "output_type": "stream",
     "text": [
      "['Cc1ccccc1S(=O)(=O)N(CCN(Cc1cncn1C)c1ccc(C#N)cc1)CC1CCN(C(=O)OC(C)(C)C)CC1_Gen_0', 'Cc1ccccc1S(=O)(=O)N(CCN(Cc1cncn1C)c1ccc(C#N)cc1)CC1CCN(C(=O)OC(C)(C)C)CC1_Gen_1', 'Cc1ccccc1S(=O)(=O)N(CCN(Cc1cncn1C)c1ccc(C#N)cc1)CC1CCN(C(=O)OC(C)(C)C)CC1_Gen_2', 'Cc1ccccc1S(=O)(=O)N(CCN(Cc1cncn1C)c1ccc(C#N)cc1)CC1CCN(C(=O)OC(C)(C)C)CC1_Gen_3', 'Cc1ccccc1S(=O)(=O)N(CCN(Cc1cncn1C)c1ccc(C#N)cc1)CC1CCN(C(=O)OC(C)(C)C)CC1_Gen_4', 'Cc1ccccc1S(=O)(=O)N(CCN(Cc1cncn1C)c1ccc(C#N)cc1)CC1CCN(C(=O)OC(C)(C)C)CC1_Gen_5', 'Cc1ccccc1S(=O)(=O)N(CCN(Cc1cncn1C)c1ccc(C#N)cc1)CC1CCN(C(=O)OC(C)(C)C)CC1_Gen_6', 'Cc1ccccc1S(=O)(=O)N(CCN(Cc1cncn1C)c1ccc(C#N)cc1)CC1CCN(C(=O)OC(C)(C)C)CC1_Gen_7', 'Cc1ccccc1S(=O)(=O)N(CCN(Cc1cncn1C)c1ccc(C#N)cc1)CC1CCN(C(=O)OC(C)(C)C)CC1_Gen_8', 'Cc1ccccc1S(=O)(=O)N(CCN(Cc1cncn1C)c1ccc(C#N)cc1)CC1CCN(C(=O)OC(C)(C)C)CC1_Gen_9', 'Cc1ccccc1S(=O)(=O)N(CCN(Cc1cncn1C)c1ccc(C#N)cc1)CC1CCN(C(=O)OC(C)(C)C)CC1_Gen_10', 'Cc1ccccc1S(=O)(=O)N(CCN(Cc1cncn1C)c1ccc(C#N)cc1)CC1CCN(C(=O)OC(C)(C)C)CC1_Gen_11', 'Cc1ccccc1S(=O)(=O)N(CCN(Cc1cncn1C)c1ccc(C#N)cc1)CC1CCN(C(=O)OC(C)(C)C)CC1_Gen_12', 'Cc1ccccc1S(=O)(=O)N(CCN(Cc1cncn1C)c1ccc(C#N)cc1)CC1CCN(C(=O)OC(C)(C)C)CC1_Gen_13', 'Cc1ccccc1S(=O)(=O)N(CCN(Cc1cncn1C)c1ccc(C#N)cc1)CC1CCN(C(=O)OC(C)(C)C)CC1_Gen_14', 'Cc1ccccc1S(=O)(=O)N(CCN(Cc1cncn1C)c1ccc(C#N)cc1)CC1CCN(C(=O)OC(C)(C)C)CC1_Gen_15', 'Cc1ccccc1S(=O)(=O)N(CCN(Cc1cncn1C)c1ccc(C#N)cc1)CC1CCN(C(=O)OC(C)(C)C)CC1_Gen_16', 'Cc1ccccc1S(=O)(=O)N(CCN(Cc1cncn1C)c1ccc(C#N)cc1)CC1CCN(C(=O)OC(C)(C)C)CC1_Gen_17', 'Cc1ccccc1S(=O)(=O)N(CCN(Cc1cncn1C)c1ccc(C#N)cc1)CC1CCN(C(=O)OC(C)(C)C)CC1_Gen_18', 'Cc1ccccc1S(=O)(=O)N(CCN(Cc1cncn1C)c1ccc(C#N)cc1)CC1CCN(C(=O)OC(C)(C)C)CC1_Gen_19', 'Cc1ccccc1S(=O)(=O)N(CCN(Cc1cncn1C)c1ccc(C#N)cc1)CC1CCN(C(=O)OC(C)(C)C)CC1_Gen_20', 'Cc1ccccc1S(=O)(=O)N(CCN(Cc1cncn1C)c1ccc(C#N)cc1)CC1CCN(C(=O)OC(C)(C)C)CC1_Gen_21', 'Cc1ccccc1S(=O)(=O)N(CCN(Cc1cncn1C)c1ccc(C#N)cc1)CC1CCN(C(=O)OC(C)(C)C)CC1_Gen_22', 'Cc1ccccc1S(=O)(=O)N(CCN(Cc1cncn1C)c1ccc(C#N)cc1)CC1CCN(C(=O)OC(C)(C)C)CC1_Gen_23', 'Cc1ccccc1S(=O)(=O)N(CCN(Cc1cncn1C)c1ccc(C#N)cc1)CC1CCN(C(=O)OC(C)(C)C)CC1_Gen_24', 'Cc1ccccc1S(=O)(=O)N(CCN(Cc1cncn1C)c1ccc(C#N)cc1)CC1CCN(C(=O)OC(C)(C)C)CC1_Gen_25', 'Cc1ccccc1S(=O)(=O)N(CCN(Cc1cncn1C)c1ccc(C#N)cc1)CC1CCN(C(=O)OC(C)(C)C)CC1_Gen_26', 'Cc1ccccc1S(=O)(=O)N(CCN(Cc1cncn1C)c1ccc(C#N)cc1)CC1CCN(C(=O)OC(C)(C)C)CC1_Gen_27', 'Cc1ccccc1S(=O)(=O)N(CCN(Cc1cncn1C)c1ccc(C#N)cc1)CC1CCN(C(=O)OC(C)(C)C)CC1_Gen_28', 'Cc1ccccc1S(=O)(=O)N(CCN(Cc1cncn1C)c1ccc(C#N)cc1)CC1CCN(C(=O)OC(C)(C)C)CC1_Gen_29', 'Cc1ccccc1S(=O)(=O)N(CCN(Cc1cncn1C)c1ccc(C#N)cc1)CC1CCN(C(=O)OC(C)(C)C)CC1_Gen_30', 'Cc1ccccc1S(=O)(=O)N(CCN(Cc1cncn1C)c1ccc(C#N)cc1)CC1CCN(C(=O)OC(C)(C)C)CC1_Gen_31', 'Cc1ccccc1S(=O)(=O)N(CCN(Cc1cncn1C)c1ccc(C#N)cc1)CC1CCN(C(=O)OC(C)(C)C)CC1_Gen_32', 'Cc1ccccc1S(=O)(=O)N(CCN(Cc1cncn1C)c1ccc(C#N)cc1)CC1CCN(C(=O)OC(C)(C)C)CC1_Gen_33', 'Cc1ccccc1S(=O)(=O)N(CCN(Cc1cncn1C)c1ccc(C#N)cc1)CC1CCN(C(=O)OC(C)(C)C)CC1_Gen_34', 'Cc1ccccc1S(=O)(=O)N(CCN(Cc1cncn1C)c1ccc(C#N)cc1)CC1CCN(C(=O)OC(C)(C)C)CC1_Gen_35', 'Cc1ccccc1S(=O)(=O)N(CCN(Cc1cncn1C)c1ccc(C#N)cc1)CC1CCN(C(=O)OC(C)(C)C)CC1_Gen_36', 'Cc1ccccc1S(=O)(=O)N(CCN(Cc1cncn1C)c1ccc(C#N)cc1)CC1CCN(C(=O)OC(C)(C)C)CC1_Gen_37', 'Cc1ccccc1S(=O)(=O)N(CCN(Cc1cncn1C)c1ccc(C#N)cc1)CC1CCN(C(=O)OC(C)(C)C)CC1_Gen_38', 'Cc1ccccc1S(=O)(=O)N(CCN(Cc1cncn1C)c1ccc(C#N)cc1)CC1CCN(C(=O)OC(C)(C)C)CC1_Gen_39', 'Cc1ccccc1S(=O)(=O)N(CCN(Cc1cncn1C)c1ccc(C#N)cc1)CC1CCN(C(=O)OC(C)(C)C)CC1_Gen_40', 'Cc1ccccc1S(=O)(=O)N(CCN(Cc1cncn1C)c1ccc(C#N)cc1)CC1CCN(C(=O)OC(C)(C)C)CC1_Gen_41', 'Cc1ccccc1S(=O)(=O)N(CCN(Cc1cncn1C)c1ccc(C#N)cc1)CC1CCN(C(=O)OC(C)(C)C)CC1_Gen_42', 'Cc1ccccc1S(=O)(=O)N(CCN(Cc1cncn1C)c1ccc(C#N)cc1)CC1CCN(C(=O)OC(C)(C)C)CC1_Gen_43', 'Cc1ccccc1S(=O)(=O)N(CCN(Cc1cncn1C)c1ccc(C#N)cc1)CC1CCN(C(=O)OC(C)(C)C)CC1_Gen_44', 'Cc1ccccc1S(=O)(=O)N(CCN(Cc1cncn1C)c1ccc(C#N)cc1)CC1CCN(C(=O)OC(C)(C)C)CC1_Gen_45', 'Cc1ccccc1S(=O)(=O)N(CCN(Cc1cncn1C)c1ccc(C#N)cc1)CC1CCN(C(=O)OC(C)(C)C)CC1_Gen_46', 'Cc1ccccc1S(=O)(=O)N(CCN(Cc1cncn1C)c1ccc(C#N)cc1)CC1CCN(C(=O)OC(C)(C)C)CC1_Gen_47', 'Cc1ccccc1S(=O)(=O)N(CCN(Cc1cncn1C)c1ccc(C#N)cc1)CC1CCN(C(=O)OC(C)(C)C)CC1_Gen_48', 'Cc1ccccc1S(=O)(=O)N(CCN(Cc1cncn1C)c1ccc(C#N)cc1)CC1CCN(C(=O)OC(C)(C)C)CC1_Gen_49', 'Cc1ccccc1S(=O)(=O)N(CCN(Cc1cncn1C)c1ccc(C#N)cc1)CC1CCN(C(=O)OC(C)(C)C)CC1_Gen_50', 'Cc1ccccc1S(=O)(=O)N(CCN(Cc1cncn1C)c1ccc(C#N)cc1)CC1CCN(C(=O)OC(C)(C)C)CC1_Gen_51', 'Cc1ccccc1S(=O)(=O)N(CCN(Cc1cncn1C)c1ccc(C#N)cc1)CC1CCN(C(=O)OC(C)(C)C)CC1_Gen_52', 'Cc1ccccc1S(=O)(=O)N(CCN(Cc1cncn1C)c1ccc(C#N)cc1)CC1CCN(C(=O)OC(C)(C)C)CC1_Gen_53', 'Cc1ccccc1S(=O)(=O)N(CCN(Cc1cncn1C)c1ccc(C#N)cc1)CC1CCN(C(=O)OC(C)(C)C)CC1_Gen_54', 'Cc1ccccc1S(=O)(=O)N(CCN(Cc1cncn1C)c1ccc(C#N)cc1)CC1CCN(C(=O)OC(C)(C)C)CC1_Gen_55', 'Cc1ccccc1S(=O)(=O)N(CCN(Cc1cncn1C)c1ccc(C#N)cc1)CC1CCN(C(=O)OC(C)(C)C)CC1_Gen_56', 'Cc1ccccc1S(=O)(=O)N(CCN(Cc1cncn1C)c1ccc(C#N)cc1)CC1CCN(C(=O)OC(C)(C)C)CC1_Gen_57', 'Cc1ccccc1S(=O)(=O)N(CCN(Cc1cncn1C)c1ccc(C#N)cc1)CC1CCN(C(=O)OC(C)(C)C)CC1_Gen_58', 'Cc1ccccc1S(=O)(=O)N(CCN(Cc1cncn1C)c1ccc(C#N)cc1)CC1CCN(C(=O)OC(C)(C)C)CC1_Gen_59', 'Cc1ccccc1S(=O)(=O)N(CCN(Cc1cncn1C)c1ccc(C#N)cc1)CC1CCN(C(=O)OC(C)(C)C)CC1_Gen_60', 'Cc1ccccc1S(=O)(=O)N(CCN(Cc1cncn1C)c1ccc(C#N)cc1)CC1CCN(C(=O)OC(C)(C)C)CC1_Gen_61', 'Cc1ccccc1S(=O)(=O)N(CCN(Cc1cncn1C)c1ccc(C#N)cc1)CC1CCN(C(=O)OC(C)(C)C)CC1_Gen_62', 'Cc1ccccc1S(=O)(=O)N(CCN(Cc1cncn1C)c1ccc(C#N)cc1)CC1CCN(C(=O)OC(C)(C)C)CC1_Gen_63', 'Cc1ccccc1S(=O)(=O)N(CCN(Cc1cncn1C)c1ccc(C#N)cc1)CC1CCN(C(=O)OC(C)(C)C)CC1_Gen_64', 'Cc1ccccc1S(=O)(=O)N(CCN(Cc1cncn1C)c1ccc(C#N)cc1)CC1CCN(C(=O)OC(C)(C)C)CC1_Gen_65', 'Cc1ccccc1S(=O)(=O)N(CCN(Cc1cncn1C)c1ccc(C#N)cc1)CC1CCN(C(=O)OC(C)(C)C)CC1_Gen_66', 'Cc1ccccc1S(=O)(=O)N(CCN(Cc1cncn1C)c1ccc(C#N)cc1)CC1CCN(C(=O)OC(C)(C)C)CC1_Gen_67', 'Cc1ccccc1S(=O)(=O)N(CCN(Cc1cncn1C)c1ccc(C#N)cc1)CC1CCN(C(=O)OC(C)(C)C)CC1_Gen_68', 'Cc1ccccc1S(=O)(=O)N(CCN(Cc1cncn1C)c1ccc(C#N)cc1)CC1CCN(C(=O)OC(C)(C)C)CC1_Gen_69', 'Cc1ccccc1S(=O)(=O)N(CCN(Cc1cncn1C)c1ccc(C#N)cc1)CC1CCN(C(=O)OC(C)(C)C)CC1_Gen_70', 'Cc1ccccc1S(=O)(=O)N(CCN(Cc1cncn1C)c1ccc(C#N)cc1)CC1CCN(C(=O)OC(C)(C)C)CC1_Gen_71', 'Cc1ccccc1S(=O)(=O)N(CCN(Cc1cncn1C)c1ccc(C#N)cc1)CC1CCN(C(=O)OC(C)(C)C)CC1_Gen_72', 'Cc1ccccc1S(=O)(=O)N(CCN(Cc1cncn1C)c1ccc(C#N)cc1)CC1CCN(C(=O)OC(C)(C)C)CC1_Gen_73', 'Cc1ccccc1S(=O)(=O)N(CCN(Cc1cncn1C)c1ccc(C#N)cc1)CC1CCN(C(=O)OC(C)(C)C)CC1_Gen_74', 'Cc1ccccc1S(=O)(=O)N(CCN(Cc1cncn1C)c1ccc(C#N)cc1)CC1CCN(C(=O)OC(C)(C)C)CC1_Gen_75', 'Cc1ccccc1S(=O)(=O)N(CCN(Cc1cncn1C)c1ccc(C#N)cc1)CC1CCN(C(=O)OC(C)(C)C)CC1_Gen_76', 'Cc1ccccc1S(=O)(=O)N(CCN(Cc1cncn1C)c1ccc(C#N)cc1)CC1CCN(C(=O)OC(C)(C)C)CC1_Gen_77', 'Cc1ccccc1S(=O)(=O)N(CCN(Cc1cncn1C)c1ccc(C#N)cc1)CC1CCN(C(=O)OC(C)(C)C)CC1_Gen_78', 'Cc1ccccc1S(=O)(=O)N(CCN(Cc1cncn1C)c1ccc(C#N)cc1)CC1CCN(C(=O)OC(C)(C)C)CC1_Gen_79', 'Cc1ccccc1S(=O)(=O)N(CCN(Cc1cncn1C)c1ccc(C#N)cc1)CC1CCN(C(=O)OC(C)(C)C)CC1_Gen_80', 'Cc1ccccc1S(=O)(=O)N(CCN(Cc1cncn1C)c1ccc(C#N)cc1)CC1CCN(C(=O)OC(C)(C)C)CC1_Gen_81', 'Cc1ccccc1S(=O)(=O)N(CCN(Cc1cncn1C)c1ccc(C#N)cc1)CC1CCN(C(=O)OC(C)(C)C)CC1_Gen_82', 'Cc1ccccc1S(=O)(=O)N(CCN(Cc1cncn1C)c1ccc(C#N)cc1)CC1CCN(C(=O)OC(C)(C)C)CC1_Gen_83', 'Cc1ccccc1S(=O)(=O)N(CCN(Cc1cncn1C)c1ccc(C#N)cc1)CC1CCN(C(=O)OC(C)(C)C)CC1_Gen_84', 'Cc1ccccc1S(=O)(=O)N(CCN(Cc1cncn1C)c1ccc(C#N)cc1)CC1CCN(C(=O)OC(C)(C)C)CC1_Gen_85', 'Cc1ccccc1S(=O)(=O)N(CCN(Cc1cncn1C)c1ccc(C#N)cc1)CC1CCN(C(=O)OC(C)(C)C)CC1_Gen_86', 'Cc1ccccc1S(=O)(=O)N(CCN(Cc1cncn1C)c1ccc(C#N)cc1)CC1CCN(C(=O)OC(C)(C)C)CC1_Gen_87', 'Cc1ccccc1S(=O)(=O)N(CCN(Cc1cncn1C)c1ccc(C#N)cc1)CC1CCN(C(=O)OC(C)(C)C)CC1_Gen_88', 'Cc1ccccc1S(=O)(=O)N(CCN(Cc1cncn1C)c1ccc(C#N)cc1)CC1CCN(C(=O)OC(C)(C)C)CC1_Gen_89', 'Cc1ccccc1S(=O)(=O)N(CCN(Cc1cncn1C)c1ccc(C#N)cc1)CC1CCN(C(=O)OC(C)(C)C)CC1_Gen_90', 'Cc1ccccc1S(=O)(=O)N(CCN(Cc1cncn1C)c1ccc(C#N)cc1)CC1CCN(C(=O)OC(C)(C)C)CC1_Gen_91', 'Cc1ccccc1S(=O)(=O)N(CCN(Cc1cncn1C)c1ccc(C#N)cc1)CC1CCN(C(=O)OC(C)(C)C)CC1_Gen_92', 'Cc1ccccc1S(=O)(=O)N(CCN(Cc1cncn1C)c1ccc(C#N)cc1)CC1CCN(C(=O)OC(C)(C)C)CC1_Gen_93', 'Cc1ccccc1S(=O)(=O)N(CCN(Cc1cncn1C)c1ccc(C#N)cc1)CC1CCN(C(=O)OC(C)(C)C)CC1_Gen_94', 'Cc1ccccc1S(=O)(=O)N(CCN(Cc1cncn1C)c1ccc(C#N)cc1)CC1CCN(C(=O)OC(C)(C)C)CC1_Gen_95', 'Cc1ccccc1S(=O)(=O)N(CCN(Cc1cncn1C)c1ccc(C#N)cc1)CC1CCN(C(=O)OC(C)(C)C)CC1_Gen_96', 'Cc1ccccc1S(=O)(=O)N(CCN(Cc1cncn1C)c1ccc(C#N)cc1)CC1CCN(C(=O)OC(C)(C)C)CC1_Gen_97', 'Cc1ccccc1S(=O)(=O)N(CCN(Cc1cncn1C)c1ccc(C#N)cc1)CC1CCN(C(=O)OC(C)(C)C)CC1_Gen_98', 'Cc1ccccc1S(=O)(=O)N(CCN(Cc1cncn1C)c1ccc(C#N)cc1)CC1CCN(C(=O)OC(C)(C)C)CC1_Gen_99']\n"
     ]
    },
    {
     "name": "stdin",
     "output_type": "stream",
     "text": [
      "ipdb>  len([d.data_id for d in smiles_data_list])\n"
     ]
    },
    {
     "name": "stdout",
     "output_type": "stream",
     "text": [
      "100\n"
     ]
    },
    {
     "name": "stdin",
     "output_type": "stream",
     "text": [
      "ipdb>  exit\n"
     ]
    },
    {
     "name": "stderr",
     "output_type": "stream",
     "text": [
      "  3%|█                                     | 40/1418 [25:02<14:22:36, 37.56s/it]\n"
     ]
    },
    {
     "ename": "BdbQuit",
     "evalue": "",
     "output_type": "error",
     "traceback": [
      "\u001b[0;31m---------------------------------------------------------------------------\u001b[0m",
      "\u001b[0;31mBdbQuit\u001b[0m                                   Traceback (most recent call last)",
      "\u001b[0;32m/tmp/ipykernel_265912/3864161253.py\u001b[0m in \u001b[0;36m<module>\u001b[0;34m\u001b[0m\n\u001b[1;32m      1\u001b[0m \u001b[0mexperiment_name\u001b[0m \u001b[0;34m=\u001b[0m \u001b[0;34mf'{split}_split_{iteration}'\u001b[0m\u001b[0;34m\u001b[0m\u001b[0;34m\u001b[0m\u001b[0m\n\u001b[1;32m      2\u001b[0m \u001b[0;31m# evaluate_model(experiment_name, test_dataset, platinum_dataset, train_smiles)\u001b[0m\u001b[0;34m\u001b[0m\u001b[0;34m\u001b[0m\u001b[0;34m\u001b[0m\u001b[0m\n\u001b[0;32m----> 3\u001b[0;31m \u001b[0mevaluate_model\u001b[0m\u001b[0;34m(\u001b[0m\u001b[0mexperiment_name\u001b[0m\u001b[0;34m,\u001b[0m \u001b[0mtest_dataset\u001b[0m\u001b[0;34m,\u001b[0m \u001b[0mtrain_smiles\u001b[0m\u001b[0;34m)\u001b[0m\u001b[0;34m\u001b[0m\u001b[0;34m\u001b[0m\u001b[0m\n\u001b[0m",
      "\u001b[0;32m/tmp/ipykernel_265912/4066739715.py\u001b[0m in \u001b[0;36mevaluate_model\u001b[0;34m(experiment_name, test_dataset, training_smiles, tasks)\u001b[0m\n\u001b[1;32m     17\u001b[0m                                        training_smiles=train_smiles)\n\u001b[1;32m     18\u001b[0m     \u001b[0;31m#evaluator.evaluate(test_dataset)\u001b[0m\u001b[0;34m\u001b[0m\u001b[0;34m\u001b[0m\u001b[0;34m\u001b[0m\u001b[0m\n\u001b[0;32m---> 19\u001b[0;31m     \u001b[0mevaluator\u001b[0m\u001b[0;34m.\u001b[0m\u001b[0mevaluate\u001b[0m\u001b[0;34m(\u001b[0m\u001b[0mtest_dataset\u001b[0m\u001b[0;34m,\u001b[0m \u001b[0moverwrite\u001b[0m\u001b[0;34m=\u001b[0m\u001b[0;32mTrue\u001b[0m\u001b[0;34m)\u001b[0m\u001b[0;34m\u001b[0m\u001b[0;34m\u001b[0m\u001b[0m\n\u001b[0m\u001b[1;32m     20\u001b[0m     \u001b[0;32mfor\u001b[0m \u001b[0mtask\u001b[0m \u001b[0;32min\u001b[0m \u001b[0mtasks\u001b[0m \u001b[0;34m:\u001b[0m\u001b[0;34m\u001b[0m\u001b[0;34m\u001b[0m\u001b[0m\n\u001b[1;32m     21\u001b[0m         \u001b[0mevaluator\u001b[0m\u001b[0;34m.\u001b[0m\u001b[0mevaluation_report\u001b[0m\u001b[0;34m(\u001b[0m\u001b[0mtask\u001b[0m\u001b[0;34m=\u001b[0m\u001b[0mtask\u001b[0m\u001b[0;34m)\u001b[0m\u001b[0;34m\u001b[0m\u001b[0;34m\u001b[0m\u001b[0m\n",
      "\u001b[0;32m~/bioactive_conformation_predictor/rmsd_predictor_evaluator.py\u001b[0m in \u001b[0;36mevaluate\u001b[0;34m(self, dataset, overwrite)\u001b[0m\n\u001b[1;32m     85\u001b[0m             \u001b[0mprint\u001b[0m\u001b[0;34m(\u001b[0m\u001b[0;34m'Starting evaluation'\u001b[0m\u001b[0;34m)\u001b[0m\u001b[0;34m\u001b[0m\u001b[0;34m\u001b[0m\u001b[0m\n\u001b[1;32m     86\u001b[0m             \u001b[0;32mfor\u001b[0m \u001b[0msmiles\u001b[0m\u001b[0;34m,\u001b[0m \u001b[0msmiles_data_list\u001b[0m \u001b[0;32min\u001b[0m \u001b[0mtqdm\u001b[0m\u001b[0;34m(\u001b[0m\u001b[0mgrouped_data\u001b[0m\u001b[0;34m.\u001b[0m\u001b[0mitems\u001b[0m\u001b[0;34m(\u001b[0m\u001b[0;34m)\u001b[0m\u001b[0;34m)\u001b[0m \u001b[0;34m:\u001b[0m\u001b[0;34m\u001b[0m\u001b[0;34m\u001b[0m\u001b[0m\n\u001b[0;32m---> 87\u001b[0;31m                 \u001b[0mself\u001b[0m\u001b[0;34m.\u001b[0m\u001b[0mmol_evaluation\u001b[0m\u001b[0;34m(\u001b[0m\u001b[0msmiles\u001b[0m\u001b[0;34m,\u001b[0m \u001b[0msmiles_data_list\u001b[0m\u001b[0;34m)\u001b[0m\u001b[0;34m\u001b[0m\u001b[0;34m\u001b[0m\u001b[0m\n\u001b[0m\u001b[1;32m     88\u001b[0m \u001b[0;34m\u001b[0m\u001b[0m\n\u001b[1;32m     89\u001b[0m             \u001b[0;32mwith\u001b[0m \u001b[0mopen\u001b[0m\u001b[0;34m(\u001b[0m\u001b[0mself\u001b[0m\u001b[0;34m.\u001b[0m\u001b[0mmol_results_path\u001b[0m\u001b[0;34m,\u001b[0m \u001b[0;34m'wb'\u001b[0m\u001b[0;34m)\u001b[0m \u001b[0;32mas\u001b[0m \u001b[0mf\u001b[0m\u001b[0;34m:\u001b[0m\u001b[0;34m\u001b[0m\u001b[0;34m\u001b[0m\u001b[0m\n",
      "\u001b[0;32m~/bioactive_conformation_predictor/rmsd_predictor_evaluator.py\u001b[0m in \u001b[0;36mmol_evaluation\u001b[0;34m(self, smiles, smiles_data_list)\u001b[0m\n\u001b[1;32m    258\u001b[0m \u001b[0;34m\u001b[0m\u001b[0m\n\u001b[1;32m    259\u001b[0m             \u001b[0;31m# Generated stats\u001b[0m\u001b[0;34m\u001b[0m\u001b[0;34m\u001b[0m\u001b[0;34m\u001b[0m\u001b[0m\n\u001b[0;32m--> 260\u001b[0;31m             \u001b[0mgenerated_targets\u001b[0m \u001b[0;34m=\u001b[0m \u001b[0mmol_targets\u001b[0m\u001b[0;34m[\u001b[0m\u001b[0mis_generated\u001b[0m\u001b[0;34m]\u001b[0m\u001b[0;34m\u001b[0m\u001b[0;34m\u001b[0m\u001b[0m\n\u001b[0m\u001b[1;32m    261\u001b[0m             \u001b[0mgenerated_preds\u001b[0m \u001b[0;34m=\u001b[0m \u001b[0mmol_preds\u001b[0m\u001b[0;34m[\u001b[0m\u001b[0mis_generated\u001b[0m\u001b[0;34m]\u001b[0m\u001b[0;34m\u001b[0m\u001b[0;34m\u001b[0m\u001b[0m\n\u001b[1;32m    262\u001b[0m             \u001b[0mgenerated_energies\u001b[0m \u001b[0;34m=\u001b[0m \u001b[0mmol_energies\u001b[0m\u001b[0;34m[\u001b[0m\u001b[0mis_generated\u001b[0m\u001b[0;34m]\u001b[0m\u001b[0;34m\u001b[0m\u001b[0;34m\u001b[0m\u001b[0m\n",
      "\u001b[0;32m~/bioactive_conformation_predictor/rmsd_predictor_evaluator.py\u001b[0m in \u001b[0;36mmol_evaluation\u001b[0;34m(self, smiles, smiles_data_list)\u001b[0m\n\u001b[1;32m    258\u001b[0m \u001b[0;34m\u001b[0m\u001b[0m\n\u001b[1;32m    259\u001b[0m             \u001b[0;31m# Generated stats\u001b[0m\u001b[0;34m\u001b[0m\u001b[0;34m\u001b[0m\u001b[0;34m\u001b[0m\u001b[0m\n\u001b[0;32m--> 260\u001b[0;31m             \u001b[0mgenerated_targets\u001b[0m \u001b[0;34m=\u001b[0m \u001b[0mmol_targets\u001b[0m\u001b[0;34m[\u001b[0m\u001b[0mis_generated\u001b[0m\u001b[0;34m]\u001b[0m\u001b[0;34m\u001b[0m\u001b[0;34m\u001b[0m\u001b[0m\n\u001b[0m\u001b[1;32m    261\u001b[0m             \u001b[0mgenerated_preds\u001b[0m \u001b[0;34m=\u001b[0m \u001b[0mmol_preds\u001b[0m\u001b[0;34m[\u001b[0m\u001b[0mis_generated\u001b[0m\u001b[0;34m]\u001b[0m\u001b[0;34m\u001b[0m\u001b[0;34m\u001b[0m\u001b[0m\n\u001b[1;32m    262\u001b[0m             \u001b[0mgenerated_energies\u001b[0m \u001b[0;34m=\u001b[0m \u001b[0mmol_energies\u001b[0m\u001b[0;34m[\u001b[0m\u001b[0mis_generated\u001b[0m\u001b[0;34m]\u001b[0m\u001b[0;34m\u001b[0m\u001b[0;34m\u001b[0m\u001b[0m\n",
      "\u001b[0;32m~/anaconda3/envs/GeoMol/lib/python3.7/bdb.py\u001b[0m in \u001b[0;36mtrace_dispatch\u001b[0;34m(self, frame, event, arg)\u001b[0m\n\u001b[1;32m     86\u001b[0m             \u001b[0;32mreturn\u001b[0m \u001b[0;31m# None\u001b[0m\u001b[0;34m\u001b[0m\u001b[0;34m\u001b[0m\u001b[0m\n\u001b[1;32m     87\u001b[0m         \u001b[0;32mif\u001b[0m \u001b[0mevent\u001b[0m \u001b[0;34m==\u001b[0m \u001b[0;34m'line'\u001b[0m\u001b[0;34m:\u001b[0m\u001b[0;34m\u001b[0m\u001b[0;34m\u001b[0m\u001b[0m\n\u001b[0;32m---> 88\u001b[0;31m             \u001b[0;32mreturn\u001b[0m \u001b[0mself\u001b[0m\u001b[0;34m.\u001b[0m\u001b[0mdispatch_line\u001b[0m\u001b[0;34m(\u001b[0m\u001b[0mframe\u001b[0m\u001b[0;34m)\u001b[0m\u001b[0;34m\u001b[0m\u001b[0;34m\u001b[0m\u001b[0m\n\u001b[0m\u001b[1;32m     89\u001b[0m         \u001b[0;32mif\u001b[0m \u001b[0mevent\u001b[0m \u001b[0;34m==\u001b[0m \u001b[0;34m'call'\u001b[0m\u001b[0;34m:\u001b[0m\u001b[0;34m\u001b[0m\u001b[0;34m\u001b[0m\u001b[0m\n\u001b[1;32m     90\u001b[0m             \u001b[0;32mreturn\u001b[0m \u001b[0mself\u001b[0m\u001b[0;34m.\u001b[0m\u001b[0mdispatch_call\u001b[0m\u001b[0;34m(\u001b[0m\u001b[0mframe\u001b[0m\u001b[0;34m,\u001b[0m \u001b[0marg\u001b[0m\u001b[0;34m)\u001b[0m\u001b[0;34m\u001b[0m\u001b[0;34m\u001b[0m\u001b[0m\n",
      "\u001b[0;32m~/anaconda3/envs/GeoMol/lib/python3.7/bdb.py\u001b[0m in \u001b[0;36mdispatch_line\u001b[0;34m(self, frame)\u001b[0m\n\u001b[1;32m    111\u001b[0m         \u001b[0;32mif\u001b[0m \u001b[0mself\u001b[0m\u001b[0;34m.\u001b[0m\u001b[0mstop_here\u001b[0m\u001b[0;34m(\u001b[0m\u001b[0mframe\u001b[0m\u001b[0;34m)\u001b[0m \u001b[0;32mor\u001b[0m \u001b[0mself\u001b[0m\u001b[0;34m.\u001b[0m\u001b[0mbreak_here\u001b[0m\u001b[0;34m(\u001b[0m\u001b[0mframe\u001b[0m\u001b[0;34m)\u001b[0m\u001b[0;34m:\u001b[0m\u001b[0;34m\u001b[0m\u001b[0;34m\u001b[0m\u001b[0m\n\u001b[1;32m    112\u001b[0m             \u001b[0mself\u001b[0m\u001b[0;34m.\u001b[0m\u001b[0muser_line\u001b[0m\u001b[0;34m(\u001b[0m\u001b[0mframe\u001b[0m\u001b[0;34m)\u001b[0m\u001b[0;34m\u001b[0m\u001b[0;34m\u001b[0m\u001b[0m\n\u001b[0;32m--> 113\u001b[0;31m             \u001b[0;32mif\u001b[0m \u001b[0mself\u001b[0m\u001b[0;34m.\u001b[0m\u001b[0mquitting\u001b[0m\u001b[0;34m:\u001b[0m \u001b[0;32mraise\u001b[0m \u001b[0mBdbQuit\u001b[0m\u001b[0;34m\u001b[0m\u001b[0;34m\u001b[0m\u001b[0m\n\u001b[0m\u001b[1;32m    114\u001b[0m         \u001b[0;32mreturn\u001b[0m \u001b[0mself\u001b[0m\u001b[0;34m.\u001b[0m\u001b[0mtrace_dispatch\u001b[0m\u001b[0;34m\u001b[0m\u001b[0;34m\u001b[0m\u001b[0m\n\u001b[1;32m    115\u001b[0m \u001b[0;34m\u001b[0m\u001b[0m\n",
      "\u001b[0;31mBdbQuit\u001b[0m: "
     ]
    }
   ],
   "source": [
    "experiment_name = f'{split}_split_{iteration}'\n",
    "# evaluate_model(experiment_name, test_dataset, platinum_dataset, train_smiles)\n",
    "evaluate_model(experiment_name, test_dataset, train_smiles)"
   ]
  }
 ],
 "metadata": {
  "kernelspec": {
   "display_name": "Python 3 (ipykernel)",
   "language": "python",
   "name": "python3"
  },
  "language_info": {
   "codemirror_mode": {
    "name": "ipython",
    "version": 3
   },
   "file_extension": ".py",
   "mimetype": "text/x-python",
   "name": "python",
   "nbconvert_exporter": "python",
   "pygments_lexer": "ipython3",
   "version": "3.7.10"
  },
  "widgets": {
   "application/vnd.jupyter.widget-state+json": {
    "state": {},
    "version_major": 2,
    "version_minor": 0
   }
  }
 },
 "nbformat": 4,
 "nbformat_minor": 5
}
