{
 "cells": [
  {
   "cell_type": "code",
   "execution_count": 37,
   "id": "17e58d84-1c74-453c-91b5-dc6615bc86db",
   "metadata": {},
   "outputs": [],
   "source": [
    "import pandas as pd\n",
    "import numpy as np\n",
    "\n",
    "from conf_ensemble_library import ConfEnsembleLibrary\n",
    "from ccdc_rdkit_connector import CcdcRdkitConnector\n",
    "from ccdc.descriptors import MolecularDescriptors\n",
    "from rdkit.Chem.rdMolDescriptors import CalcNumRotatableBonds"
   ]
  },
  {
   "cell_type": "code",
   "execution_count": 12,
   "id": "0fdeeb2b-b964-4ce3-96af-8d22d7da72e4",
   "metadata": {},
   "outputs": [],
   "source": [
    "crc = CcdcRdkitConnector()"
   ]
  },
  {
   "cell_type": "code",
   "execution_count": 5,
   "id": "fb37ea81-440f-4643-a996-5f3b54fb6ff0",
   "metadata": {},
   "outputs": [
    {
     "name": "stderr",
     "output_type": "stream",
     "text": [
      "100%|███████████████████████████████████| 14385/14385 [00:11<00:00, 1291.35it/s]\n"
     ]
    }
   ],
   "source": [
    "cel = ConfEnsembleLibrary()\n",
    "cel.load_metadata()\n",
    "cel.load()"
   ]
  },
  {
   "cell_type": "code",
   "execution_count": 20,
   "id": "cafdf938-17dd-438d-97db-1a02d736731b",
   "metadata": {},
   "outputs": [],
   "source": [
    "smiles_df = pd.read_csv('data/smiles_df.csv')\n",
    "included_smiles = smiles_df[smiles_df['included']]['smiles'].unique()"
   ]
  },
  {
   "cell_type": "code",
   "execution_count": 29,
   "id": "ff8609d7-8bd2-4175-ab04-75b67df559c3",
   "metadata": {},
   "outputs": [],
   "source": [
    "ces = {}\n",
    "for smiles, ce in cel.get_unique_molecules() :\n",
    "    if ce.mol.GetNumConformers() > 1 and smiles in included_smiles :\n",
    "        ces[smiles] = ce"
   ]
  },
  {
   "cell_type": "code",
   "execution_count": 30,
   "id": "c4f03322-559b-4c69-a107-3bef7bd04cf4",
   "metadata": {},
   "outputs": [
    {
     "data": {
      "text/plain": [
       "1338"
      ]
     },
     "execution_count": 30,
     "metadata": {},
     "output_type": "execute_result"
    }
   ],
   "source": [
    "len(ces)"
   ]
  },
  {
   "cell_type": "code",
   "execution_count": 25,
   "id": "35527e40-05b1-4d1c-a27f-e414ec2235fe",
   "metadata": {},
   "outputs": [
    {
     "data": {
      "text/plain": [
       "14"
      ]
     },
     "execution_count": 25,
     "metadata": {},
     "output_type": "execute_result"
    }
   ],
   "source": [
    "mol.GetNumAtoms()"
   ]
  },
  {
   "cell_type": "code",
   "execution_count": 38,
   "id": "e705ccb0-6d47-460f-89ca-b5060a4b24fd",
   "metadata": {},
   "outputs": [],
   "source": [
    "rmsds = []\n",
    "n_rot_bonds = []\n",
    "for smiles, ce in ces.items() :\n",
    "    mol = ce.mol\n",
    "    n_rot_bond = CalcNumRotatableBonds(mol)\n",
    "    confs = [conf for conf in mol.GetConformers()]\n",
    "    for i, conf1 in enumerate(confs) :\n",
    "        mol1 = crc.rdkit_conf_to_ccdc_mol(mol, conf1.GetId())\n",
    "        for j, conf2 in enumerate(confs[i+1:]) :\n",
    "            mol2 = crc.rdkit_conf_to_ccdc_mol(mol, conf2.GetId())\n",
    "            rmsd = MolecularDescriptors.rmsd(mol1, mol2, overlay=True)\n",
    "            rmsds.append(rmsd)\n",
    "            n_rot_bonds.append(n_rot_bond)"
   ]
  },
  {
   "cell_type": "code",
   "execution_count": 33,
   "id": "1a5f7bc8-06c1-4347-820e-376da953140e",
   "metadata": {},
   "outputs": [
    {
     "data": {
      "text/plain": [
       "<AxesSubplot:ylabel='Count'>"
      ]
     },
     "execution_count": 33,
     "metadata": {},
     "output_type": "execute_result"
    },
    {
     "data": {
      "image/png": "[encoded data removed]",
      "text/plain": [
       "<Figure size 432x288 with 1 Axes>"
      ]
     },
     "metadata": {
      "needs_background": "light"
     },
     "output_type": "display_data"
    }
   ],
   "source": [
    "import seaborn as sns\n",
    "sns.histplot(x=rmsds)"
   ]
  },
  {
   "cell_type": "code",
   "execution_count": 39,
   "id": "a0c37f57-c963-4a2d-aeb5-f108f5b0e76b",
   "metadata": {},
   "outputs": [
    {
     "data": {
      "text/plain": [
       "<AxesSubplot:>"
      ]
     },
     "execution_count": 39,
     "metadata": {},
     "output_type": "execute_result"
    },
    {
     "data": {
      "image/png": "[encoded data removed]",
      "text/plain": [
       "<Figure size 432x288 with 1 Axes>"
      ]
     },
     "metadata": {
      "needs_background": "light"
     },
     "output_type": "display_data"
    }
   ],
   "source": [
    "sns.boxplot(x=n_rot_bonds, y=rmsds)"
   ]
  },
  {
   "cell_type": "code",
   "execution_count": 35,
   "id": "7f7f380d-5bd9-4356-93ff-37f51cec446d",
   "metadata": {},
   "outputs": [
    {
     "data": {
      "text/plain": [
       "6794"
      ]
     },
     "execution_count": 35,
     "metadata": {},
     "output_type": "execute_result"
    }
   ],
   "source": [
    "np.sum(np.array(rmsds) < 1)"
   ]
  },
  {
   "cell_type": "code",
   "execution_count": 36,
   "id": "5f01d750-df4a-44f8-9c42-560f4ca5deff",
   "metadata": {},
   "outputs": [
    {
     "data": {
      "text/plain": [
       "2333"
      ]
     },
     "execution_count": 36,
     "metadata": {},
     "output_type": "execute_result"
    }
   ],
   "source": [
    "np.sum(np.array(rmsds) > 1)"
   ]
  }
 ],
 "metadata": {
  "kernelspec": {
   "display_name": "Python 3 (ipykernel)",
   "language": "python",
   "name": "python3"
  },
  "language_info": {
   "codemirror_mode": {
    "name": "ipython",
    "version": 3
   },
   "file_extension": ".py",
   "mimetype": "text/x-python",
   "name": "python",
   "nbconvert_exporter": "python",
   "pygments_lexer": "ipython3",
   "version": "3.7.10"
  },
  "widgets": {
   "application/vnd.jupyter.widget-state+json": {
    "state": {},
    "version_major": 2,
    "version_minor": 0
   }
  }
 },
 "nbformat": 4,
 "nbformat_minor": 5
}
