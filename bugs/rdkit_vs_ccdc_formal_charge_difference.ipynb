{
 "cells": [
  {
   "cell_type": "code",
   "execution_count": 1,
   "id": "cc55cfa1-9c7b-480f-a015-865b278af11f",
   "metadata": {},
   "outputs": [],
   "source": [
    "import os\n",
    "import pickle\n",
    "import copy\n",
    "\n",
    "from tqdm import tqdm\n",
    "from rdkit.Geometry.rdGeometry import Point3D\n",
    "from rdkit import Chem\n",
    "from ccdc.conformer import ConformerGenerator\n",
    "from ccdc.molecule import Molecule"
   ]
  },
  {
   "cell_type": "code",
   "execution_count": 2,
   "id": "68331f57-bc59-49a3-a798-0cb54ee8aa2c",
   "metadata": {},
   "outputs": [],
   "source": [
    "data_dir_path = 'data/'"
   ]
  },
  {
   "cell_type": "code",
   "execution_count": 3,
   "id": "281bc3f2-77f0-4eff-a4e8-111e26773f0b",
   "metadata": {},
   "outputs": [],
   "source": [
    "with open(os.path.join(data_dir_path, 'raw', 'pdbbind_general_conf_ensemble_library_with_h.p'), 'rb') as f :\n",
    "    general_CEL = pickle.load(f)"
   ]
  },
  {
   "cell_type": "code",
   "execution_count": 4,
   "id": "de66fdb8-d694-401f-b8e0-4a394d64b18e",
   "metadata": {},
   "outputs": [],
   "source": [
    "with open(os.path.join(data_dir_path, 'raw', 'pdbbind_refined_conf_ensemble_library_with_h.p'), 'rb') as f :\n",
    "    refined_CEL = pickle.load(f)"
   ]
  },
  {
   "cell_type": "code",
   "execution_count": 5,
   "id": "b47cc85e-75d3-4e67-9572-9090214b5835",
   "metadata": {},
   "outputs": [],
   "source": [
    "all_CEL = general_CEL\n",
    "all_CEL.merge(refined_CEL)"
   ]
  },
  {
   "cell_type": "code",
   "execution_count": 6,
   "id": "070cf5f1-6014-49e7-95ee-62a89469836d",
   "metadata": {},
   "outputs": [
    {
     "name": "stdout",
     "output_type": "stream",
     "text": [
      "INFO: /home/benoit/CCDC/CSD_2021/bin/mogul\n",
      "INFO: /home/benoit/CCDC/CSD_2021/bin/mogul\n",
      "INFO: /home/benoit/CCDC/CSD_2021/bin/mogul\n",
      "INFO: /home/benoit/CCDC/CSD_2021/bin/mogul\n",
      "INFO: /home/benoit/CCDC/CSD_2021/bin/mogul\n",
      "INFO: /home/benoit/CCDC/CSD_2021/bin/mogul\n",
      "INFO: /home/benoit/CCDC/CSD_2021/bin/mogul\n",
      "INFO: /home/benoit/CCDC/CSD_2021/bin/mogul\n",
      "INFO: /home/benoit/CCDC/CSD_2021/bin/mogul\n",
      "INFO: /home/benoit/CCDC/CSD_2021/bin/mogul\n",
      "INFO: /home/benoit/CCDC/CSD_2021/bin/mogul\n",
      "INFO: /home/benoit/CCDC/CSD_2021/bin/mogul\n",
      "INFO: /home/benoit/CCDC/CSD_2021/bin/mogul\n"
     ]
    }
   ],
   "source": [
    "ccdc_conformer_generator = ConformerGenerator(nthreads=12)\n",
    "ccdc_conformer_generator.settings.max_conformers = 50"
   ]
  },
  {
   "cell_type": "code",
   "execution_count": 7,
   "id": "1fb70be5-6df1-494b-9e7f-67e00a4ada9c",
   "metadata": {},
   "outputs": [],
   "source": [
    "def ccdc_conformers_to_rdkit_mol(ccdc_conformers, rdkit_mol) :\n",
    "        \n",
    "    generated_conf_ids = []\n",
    "\n",
    "    for conformer in ccdc_conformers :\n",
    "        new_rdkit_conf = copy.deepcopy(rdkit_mol).GetConformer()\n",
    "        for i, atom in enumerate(conformer.molecule.atoms) :\n",
    "            point3d = Point3D(*atom.coordinates)\n",
    "            new_rdkit_conf.SetAtomPosition(i, point3d)\n",
    "        conf_id = rdkit_mol.AddConformer(new_rdkit_conf, assignId=True)\n",
    "        generated_conf_ids.append(conf_id)\n",
    "\n",
    "    return generated_conf_ids"
   ]
  },
  {
   "cell_type": "code",
   "execution_count": 8,
   "id": "b6c29de7-3c2e-476e-9b03-3cccfb033fd2",
   "metadata": {},
   "outputs": [
    {
     "name": "stderr",
     "output_type": "stream",
     "text": [
      "  0%|                                      | 16/12348 [00:09<1:14:02,  2.78it/s]"
     ]
    },
    {
     "name": "stdout",
     "output_type": "stream",
     "text": [
      "INFO: /home/benoit/CCDC/CSD_2021/bin/mogul\n"
     ]
    },
    {
     "name": "stderr",
     "output_type": "stream",
     "text": [
      "  0%|                                      | 26/12348 [00:21<3:20:36,  1.02it/s]"
     ]
    },
    {
     "name": "stdout",
     "output_type": "stream",
     "text": [
      "INFO: /home/benoit/CCDC/CSD_2021/bin/mogul\n"
     ]
    },
    {
     "name": "stderr",
     "output_type": "stream",
     "text": [
      "  0%|▏                                     | 58/12348 [00:56<3:20:58,  1.02it/s]\n"
     ]
    },
    {
     "ename": "RuntimeError",
     "evalue": "Pre-condition Violation\n\t\n\tViolation occurred on line 60 in file Code/GraphMol/Conformer.cpp\n\tFailed Expression: dp_mol->getNumAtoms() == d_positions.size()\n\tRDKIT: 2020.09.1\n\tBOOST: 1_73\n",
     "output_type": "error",
     "traceback": [
      "\u001b[0;31m---------------------------------------------------------------------------\u001b[0m",
      "\u001b[0;31mRuntimeError\u001b[0m                              Traceback (most recent call last)",
      "\u001b[0;32m/tmp/ipykernel_24215/271129134.py\u001b[0m in \u001b[0;36m<module>\u001b[0;34m\u001b[0m\n\u001b[1;32m      2\u001b[0m     \u001b[0mccdc_mol\u001b[0m \u001b[0;34m=\u001b[0m \u001b[0mMolecule\u001b[0m\u001b[0;34m.\u001b[0m\u001b[0mfrom_string\u001b[0m\u001b[0;34m(\u001b[0m\u001b[0msmiles\u001b[0m\u001b[0;34m)\u001b[0m\u001b[0;34m\u001b[0m\u001b[0;34m\u001b[0m\u001b[0m\n\u001b[1;32m      3\u001b[0m     \u001b[0mccdc_conformers\u001b[0m \u001b[0;34m=\u001b[0m \u001b[0mccdc_conformer_generator\u001b[0m\u001b[0;34m.\u001b[0m\u001b[0mgenerate\u001b[0m\u001b[0;34m(\u001b[0m\u001b[0mccdc_mol\u001b[0m\u001b[0;34m)\u001b[0m\u001b[0;34m\u001b[0m\u001b[0;34m\u001b[0m\u001b[0m\n\u001b[0;32m----> 4\u001b[0;31m     \u001b[0mgenerated_conf_ids\u001b[0m \u001b[0;34m=\u001b[0m \u001b[0mccdc_conformers_to_rdkit_mol\u001b[0m\u001b[0;34m(\u001b[0m\u001b[0mccdc_conformers\u001b[0m\u001b[0;34m,\u001b[0m \u001b[0mconf_ensemble\u001b[0m\u001b[0;34m.\u001b[0m\u001b[0mmol\u001b[0m\u001b[0;34m)\u001b[0m\u001b[0;34m\u001b[0m\u001b[0;34m\u001b[0m\u001b[0m\n\u001b[0m\u001b[1;32m      5\u001b[0m \u001b[0;31m#     try :\u001b[0m\u001b[0;34m\u001b[0m\u001b[0;34m\u001b[0m\u001b[0;34m\u001b[0m\u001b[0m\n\u001b[1;32m      6\u001b[0m \u001b[0;31m#         generated_conf_ids = ccdc_conformers_to_rdkit_mol(ccdc_conformers, conf_ensemble.mol)\u001b[0m\u001b[0;34m\u001b[0m\u001b[0;34m\u001b[0m\u001b[0;34m\u001b[0m\u001b[0m\n",
      "\u001b[0;32m/tmp/ipykernel_24215/3918500002.py\u001b[0m in \u001b[0;36mccdc_conformers_to_rdkit_mol\u001b[0;34m(ccdc_conformers, rdkit_mol)\u001b[0m\n\u001b[1;32m      8\u001b[0m             \u001b[0mpoint3d\u001b[0m \u001b[0;34m=\u001b[0m \u001b[0mPoint3D\u001b[0m\u001b[0;34m(\u001b[0m\u001b[0;34m*\u001b[0m\u001b[0matom\u001b[0m\u001b[0;34m.\u001b[0m\u001b[0mcoordinates\u001b[0m\u001b[0;34m)\u001b[0m\u001b[0;34m\u001b[0m\u001b[0;34m\u001b[0m\u001b[0m\n\u001b[1;32m      9\u001b[0m             \u001b[0mnew_rdkit_conf\u001b[0m\u001b[0;34m.\u001b[0m\u001b[0mSetAtomPosition\u001b[0m\u001b[0;34m(\u001b[0m\u001b[0mi\u001b[0m\u001b[0;34m,\u001b[0m \u001b[0mpoint3d\u001b[0m\u001b[0;34m)\u001b[0m\u001b[0;34m\u001b[0m\u001b[0;34m\u001b[0m\u001b[0m\n\u001b[0;32m---> 10\u001b[0;31m         \u001b[0mconf_id\u001b[0m \u001b[0;34m=\u001b[0m \u001b[0mrdkit_mol\u001b[0m\u001b[0;34m.\u001b[0m\u001b[0mAddConformer\u001b[0m\u001b[0;34m(\u001b[0m\u001b[0mnew_rdkit_conf\u001b[0m\u001b[0;34m,\u001b[0m \u001b[0massignId\u001b[0m\u001b[0;34m=\u001b[0m\u001b[0;32mTrue\u001b[0m\u001b[0;34m)\u001b[0m\u001b[0;34m\u001b[0m\u001b[0;34m\u001b[0m\u001b[0m\n\u001b[0m\u001b[1;32m     11\u001b[0m         \u001b[0mgenerated_conf_ids\u001b[0m\u001b[0;34m.\u001b[0m\u001b[0mappend\u001b[0m\u001b[0;34m(\u001b[0m\u001b[0mconf_id\u001b[0m\u001b[0;34m)\u001b[0m\u001b[0;34m\u001b[0m\u001b[0;34m\u001b[0m\u001b[0m\n\u001b[1;32m     12\u001b[0m \u001b[0;34m\u001b[0m\u001b[0m\n",
      "\u001b[0;31mRuntimeError\u001b[0m: Pre-condition Violation\n\t\n\tViolation occurred on line 60 in file Code/GraphMol/Conformer.cpp\n\tFailed Expression: dp_mol->getNumAtoms() == d_positions.size()\n\tRDKIT: 2020.09.1\n\tBOOST: 1_73\n"
     ]
    }
   ],
   "source": [
    "for smiles, conf_ensemble in tqdm(all_CEL.get_unique_molecules()) :\n",
    "    ccdc_mol = Molecule.from_string(smiles)\n",
    "    ccdc_conformers = ccdc_conformer_generator.generate(ccdc_mol)\n",
    "    generated_conf_ids = ccdc_conformers_to_rdkit_mol(ccdc_conformers, conf_ensemble.mol)\n",
    "#     try :\n",
    "#         generated_conf_ids = ccdc_conformers_to_rdkit_mol(ccdc_conformers, conf_ensemble.mol)\n",
    "#     except Exception as e :\n",
    "#         print(e)"
   ]
  },
  {
   "cell_type": "code",
   "execution_count": 26,
   "id": "08ef4b92-1b55-4428-9360-7cd896f12aa1",
   "metadata": {},
   "outputs": [],
   "source": [
    "mol2 = Chem.MolFromMol2File('../PDBBind/PDBbind_v2020_other_PL/v2020-other-PL/5tyo/5tyo_ligand.mol2', removeHs=False)"
   ]
  },
  {
   "cell_type": "code",
   "execution_count": 30,
   "id": "4f7f6bb0-c7fd-4b92-82bf-93bc659e6dd9",
   "metadata": {},
   "outputs": [
    {
     "data": {
      "text/plain": [
       "['C',\n",
       " 'C',\n",
       " 'C',\n",
       " 'O',\n",
       " 'C',\n",
       " 'C',\n",
       " 'C',\n",
       " 'C',\n",
       " 'C',\n",
       " 'C',\n",
       " 'C',\n",
       " 'C',\n",
       " 'C',\n",
       " 'B',\n",
       " 'O',\n",
       " 'C',\n",
       " 'C',\n",
       " 'H',\n",
       " 'H',\n",
       " 'H',\n",
       " 'H',\n",
       " 'H',\n",
       " 'H',\n",
       " 'H',\n",
       " 'H',\n",
       " 'H',\n",
       " 'H',\n",
       " 'H',\n",
       " 'H',\n",
       " 'H',\n",
       " 'H']"
      ]
     },
     "execution_count": 30,
     "metadata": {},
     "output_type": "execute_result"
    }
   ],
   "source": [
    "[atom.GetSymbol() for atom in mol2.GetAtoms()]"
   ]
  },
  {
   "cell_type": "code",
   "execution_count": 50,
   "id": "a3838de5-1ac3-456f-ae60-478d8828331a",
   "metadata": {},
   "outputs": [],
   "source": [
    "ccdc_mol.set_formal_charges()"
   ]
  },
  {
   "cell_type": "code",
   "execution_count": 52,
   "id": "8358b6d5-861f-4183-92db-490f663b26b6",
   "metadata": {},
   "outputs": [
    {
     "data": {
      "text/plain": [
       "[0,\n",
       " 0,\n",
       " 1,\n",
       " 0,\n",
       " 0,\n",
       " 0,\n",
       " 0,\n",
       " 0,\n",
       " 0,\n",
       " 0,\n",
       " 0,\n",
       " 0,\n",
       " 0,\n",
       " 0,\n",
       " 0,\n",
       " 0,\n",
       " 0,\n",
       " 0,\n",
       " 0,\n",
       " 0,\n",
       " 0,\n",
       " 0,\n",
       " 0,\n",
       " 0,\n",
       " 0,\n",
       " 0,\n",
       " 0,\n",
       " 0,\n",
       " 0,\n",
       " 0,\n",
       " 0,\n",
       " 0,\n",
       " 0]"
      ]
     },
     "execution_count": 52,
     "metadata": {},
     "output_type": "execute_result"
    }
   ],
   "source": [
    "[atom.formal_charge for atom in ccdc_mol.atoms]"
   ]
  },
  {
   "cell_type": "code",
   "execution_count": 9,
   "id": "a1820564-691a-4b2c-8a2e-90ab096a8b5d",
   "metadata": {},
   "outputs": [
    {
     "ename": "RuntimeError",
     "evalue": "Pre-condition Violation\n\t\n\tViolation occurred on line 60 in file Code/GraphMol/Conformer.cpp\n\tFailed Expression: dp_mol->getNumAtoms() == d_positions.size()\n\tRDKIT: 2020.09.1\n\tBOOST: 1_73\n",
     "output_type": "error",
     "traceback": [
      "\u001b[0;31m---------------------------------------------------------------------------\u001b[0m",
      "\u001b[0;31mRuntimeError\u001b[0m                              Traceback (most recent call last)",
      "\u001b[0;32m/tmp/ipykernel_24215/2498062886.py\u001b[0m in \u001b[0;36m<module>\u001b[0;34m\u001b[0m\n\u001b[1;32m      7\u001b[0m         \u001b[0mpoint3d\u001b[0m \u001b[0;34m=\u001b[0m \u001b[0mPoint3D\u001b[0m\u001b[0;34m(\u001b[0m\u001b[0;34m*\u001b[0m\u001b[0matom\u001b[0m\u001b[0;34m.\u001b[0m\u001b[0mcoordinates\u001b[0m\u001b[0;34m)\u001b[0m\u001b[0;34m\u001b[0m\u001b[0;34m\u001b[0m\u001b[0m\n\u001b[1;32m      8\u001b[0m         \u001b[0mnew_rdkit_conf\u001b[0m\u001b[0;34m.\u001b[0m\u001b[0mSetAtomPosition\u001b[0m\u001b[0;34m(\u001b[0m\u001b[0mi\u001b[0m\u001b[0;34m,\u001b[0m \u001b[0mpoint3d\u001b[0m\u001b[0;34m)\u001b[0m\u001b[0;34m\u001b[0m\u001b[0;34m\u001b[0m\u001b[0m\n\u001b[0;32m----> 9\u001b[0;31m     \u001b[0mconf_id\u001b[0m \u001b[0;34m=\u001b[0m \u001b[0mrdkit_mol\u001b[0m\u001b[0;34m.\u001b[0m\u001b[0mAddConformer\u001b[0m\u001b[0;34m(\u001b[0m\u001b[0mnew_rdkit_conf\u001b[0m\u001b[0;34m,\u001b[0m \u001b[0massignId\u001b[0m\u001b[0;34m=\u001b[0m\u001b[0;32mTrue\u001b[0m\u001b[0;34m)\u001b[0m\u001b[0;34m\u001b[0m\u001b[0;34m\u001b[0m\u001b[0m\n\u001b[0m\u001b[1;32m     10\u001b[0m     \u001b[0mgenerated_conf_ids\u001b[0m\u001b[0;34m.\u001b[0m\u001b[0mappend\u001b[0m\u001b[0;34m(\u001b[0m\u001b[0mconf_id\u001b[0m\u001b[0;34m)\u001b[0m\u001b[0;34m\u001b[0m\u001b[0;34m\u001b[0m\u001b[0m\n",
      "\u001b[0;31mRuntimeError\u001b[0m: Pre-condition Violation\n\t\n\tViolation occurred on line 60 in file Code/GraphMol/Conformer.cpp\n\tFailed Expression: dp_mol->getNumAtoms() == d_positions.size()\n\tRDKIT: 2020.09.1\n\tBOOST: 1_73\n"
     ]
    }
   ],
   "source": [
    "rdkit_mol = conf_ensemble.mol\n",
    "generated_conf_ids = []\n",
    "\n",
    "for conformer in ccdc_conformers :\n",
    "    new_rdkit_conf = copy.deepcopy(rdkit_mol).GetConformer()\n",
    "    for i, atom in enumerate(conformer.molecule.atoms) :\n",
    "        point3d = Point3D(*atom.coordinates)\n",
    "        new_rdkit_conf.SetAtomPosition(i, point3d)\n",
    "    conf_id = rdkit_mol.AddConformer(new_rdkit_conf, assignId=True)\n",
    "    generated_conf_ids.append(conf_id)"
   ]
  },
  {
   "cell_type": "code",
   "execution_count": 28,
   "id": "0e752a70-9045-452d-8761-74040d2cf04f",
   "metadata": {},
   "outputs": [
    {
     "data": {
      "text/plain": [
       "31"
      ]
     },
     "execution_count": 28,
     "metadata": {},
     "output_type": "execute_result"
    }
   ],
   "source": [
    "rdkit_mol.GetNumAtoms()"
   ]
  },
  {
   "cell_type": "code",
   "execution_count": 29,
   "id": "a3b29bf2-db68-4ee8-89c0-289f974640fa",
   "metadata": {},
   "outputs": [
    {
     "data": {
      "text/plain": [
       "['C',\n",
       " 'C',\n",
       " 'C',\n",
       " 'O',\n",
       " 'C',\n",
       " 'C',\n",
       " 'C',\n",
       " 'C',\n",
       " 'C',\n",
       " 'C',\n",
       " 'C',\n",
       " 'C',\n",
       " 'C',\n",
       " 'B',\n",
       " 'O',\n",
       " 'C',\n",
       " 'C',\n",
       " 'H',\n",
       " 'H',\n",
       " 'H',\n",
       " 'H',\n",
       " 'H',\n",
       " 'H',\n",
       " 'H',\n",
       " 'H',\n",
       " 'H',\n",
       " 'H',\n",
       " 'H',\n",
       " 'H',\n",
       " 'H',\n",
       " 'H']"
      ]
     },
     "execution_count": 29,
     "metadata": {},
     "output_type": "execute_result"
    }
   ],
   "source": [
    "[atom.GetSymbol() for atom in rdkit_mol.GetAtoms()]"
   ]
  },
  {
   "cell_type": "code",
   "execution_count": 44,
   "id": "348f54d4-ce69-47a1-b4aa-638c8dc4eab3",
   "metadata": {},
   "outputs": [],
   "source": [
    "batom_rdkit = rdkit_mol.GetAtomWithIdx(13)"
   ]
  },
  {
   "cell_type": "code",
   "execution_count": 45,
   "id": "3a4a3dc1-1d33-4eb7-9f3d-fb6d6dfd66ba",
   "metadata": {},
   "outputs": [
    {
     "data": {
      "text/plain": [
       "1"
      ]
     },
     "execution_count": 45,
     "metadata": {},
     "output_type": "execute_result"
    }
   ],
   "source": [
    "batom_rdkit.GetFormalCharge()"
   ]
  },
  {
   "cell_type": "code",
   "execution_count": 46,
   "id": "a18e4a76-0c4f-4281-af3e-818e78de5397",
   "metadata": {},
   "outputs": [
    {
     "data": {
      "image/png": "[encoded data removed]",
      "text/plain": [
       "<rdkit.Chem.rdchem.Mol at 0x7f17b3d326f0>"
      ]
     },
     "execution_count": 46,
     "metadata": {},
     "output_type": "execute_result"
    }
   ],
   "source": [
    "rdkit_mol"
   ]
  },
  {
   "cell_type": "code",
   "execution_count": 47,
   "id": "e3650626-66f6-41ff-8bb8-d8161ff79824",
   "metadata": {},
   "outputs": [],
   "source": [
    "from rdkit.Chem.Draw import rdMolDraw2D\n",
    "other_mol = copy.deepcopy(rdkit_mol)\n",
    "Chem.rdDepictor.Compute2DCoords(other_mol)\n",
    "d2d = rdMolDraw2D.MolDraw2DCairo(350,300)\n",
    "d2d.drawOptions().addAtomIndices=True\n",
    "d2d.DrawMolecule(other_mol)\n",
    "d2d.FinishDrawing()\n",
    "d2d.WriteDrawingText('mol.png')"
   ]
  },
  {
   "cell_type": "code",
   "execution_count": 23,
   "id": "5050aae5-edea-455b-8549-7fc5deb3c8bc",
   "metadata": {},
   "outputs": [
    {
     "data": {
      "text/plain": [
       "'[H]O[B+]c1c([H])c([H])c(C([H])([H])[H])c(OC([H])([H])c2c([H])c([H])c([H])c([H])c2[H])c1[H]'"
      ]
     },
     "execution_count": 23,
     "metadata": {},
     "output_type": "execute_result"
    }
   ],
   "source": [
    "smiles"
   ]
  },
  {
   "cell_type": "code",
   "execution_count": 20,
   "id": "d89f3a29-9673-4813-bf96-2be2157554fe",
   "metadata": {},
   "outputs": [
    {
     "data": {
      "text/plain": [
       "'5tyo'"
      ]
     },
     "execution_count": 20,
     "metadata": {},
     "output_type": "execute_result"
    }
   ],
   "source": [
    "rdkit_mol.GetConformer().GetProp('PDB_ID')"
   ]
  },
  {
   "cell_type": "code",
   "execution_count": 41,
   "id": "59d6f2f1-999f-44b3-9145-6fe695c89ccd",
   "metadata": {},
   "outputs": [],
   "source": [
    "test = Chem.MolFromMol2Block(conformer.molecule.to_string(), removeHs=False)"
   ]
  },
  {
   "cell_type": "code",
   "execution_count": 42,
   "id": "571cc835-5434-43f9-8c3e-902d1bd0d245",
   "metadata": {},
   "outputs": [
    {
     "data": {
      "image/png": "[encoded data removed]",
      "text/plain": [
       "<rdkit.Chem.rdchem.Mol at 0x7f17b01dd6c0>"
      ]
     },
     "execution_count": 42,
     "metadata": {},
     "output_type": "execute_result"
    }
   ],
   "source": [
    "test"
   ]
  },
  {
   "cell_type": "code",
   "execution_count": 49,
   "id": "9a5a4e36-b5f1-4d3f-bbfe-1779895443af",
   "metadata": {},
   "outputs": [
    {
     "data": {
      "text/plain": [
       "1"
      ]
     },
     "execution_count": 49,
     "metadata": {},
     "output_type": "execute_result"
    }
   ],
   "source": [
    "ccdc_mol.formal_charge"
   ]
  },
  {
   "cell_type": "code",
   "execution_count": 48,
   "id": "9743cd77-40f6-4403-b9e5-98896f90cf83",
   "metadata": {},
   "outputs": [],
   "source": [
    "from rdkit.Chem.Draw import rdMolDraw2D\n",
    "other_mol = copy.deepcopy(test)\n",
    "Chem.rdDepictor.Compute2DCoords(other_mol)\n",
    "d2d = rdMolDraw2D.MolDraw2DCairo(350,300)\n",
    "d2d.drawOptions().addAtomIndices=True\n",
    "d2d.DrawMolecule(other_mol)\n",
    "d2d.FinishDrawing()\n",
    "d2d.WriteDrawingText('mol.png')"
   ]
  },
  {
   "cell_type": "code",
   "execution_count": 33,
   "id": "ed0fc4c9-a2c7-4d43-96f0-39a54f3c39f9",
   "metadata": {},
   "outputs": [],
   "source": [
    "ccdc_mol = Molecule.from_string(smiles)"
   ]
  },
  {
   "cell_type": "code",
   "execution_count": 37,
   "id": "2654d218-7d08-4c1f-8e2e-25fd3a6f3ec4",
   "metadata": {},
   "outputs": [],
   "source": [
    "batom = ccdc_mol.atoms[2]"
   ]
  },
  {
   "cell_type": "code",
   "execution_count": 39,
   "id": "7b1dda65-c73a-41bf-9404-3027e402f11f",
   "metadata": {},
   "outputs": [
    {
     "data": {
      "text/plain": [
       "1"
      ]
     },
     "execution_count": 39,
     "metadata": {},
     "output_type": "execute_result"
    }
   ],
   "source": [
    "batom.formal_charge"
   ]
  },
  {
   "cell_type": "code",
   "execution_count": 34,
   "id": "ac655a0e-643a-4500-8ef2-8b74650e881b",
   "metadata": {},
   "outputs": [
    {
     "data": {
      "text/plain": [
       "[Atom(H1),\n",
       " Atom(O1),\n",
       " Atom(B1),\n",
       " Atom(C1),\n",
       " Atom(C2),\n",
       " Atom(H2),\n",
       " Atom(C3),\n",
       " Atom(H3),\n",
       " Atom(C4),\n",
       " Atom(C5),\n",
       " Atom(H4),\n",
       " Atom(H5),\n",
       " Atom(H6),\n",
       " Atom(C6),\n",
       " Atom(O2),\n",
       " Atom(C7),\n",
       " Atom(H7),\n",
       " Atom(H8),\n",
       " Atom(C8),\n",
       " Atom(C9),\n",
       " Atom(H9),\n",
       " Atom(C10),\n",
       " Atom(H10),\n",
       " Atom(C11),\n",
       " Atom(H11),\n",
       " Atom(C12),\n",
       " Atom(H12),\n",
       " Atom(C13),\n",
       " Atom(H13),\n",
       " Atom(C14),\n",
       " Atom(H14),\n",
       " Atom(H17),\n",
       " Atom(H18)]"
      ]
     },
     "execution_count": 34,
     "metadata": {},
     "output_type": "execute_result"
    }
   ],
   "source": [
    "[atom for atom in ccdc_mol.atoms]"
   ]
  },
  {
   "cell_type": "code",
   "execution_count": 35,
   "id": "9f05dc20-cf0d-42c5-aef6-13342b7c78a0",
   "metadata": {},
   "outputs": [
    {
     "data": {
      "text/plain": [
       "'[H]O[B+]c1c([H])c([H])c(C([H])([H])[H])c(OC([H])([H])c2c([H])c([H])c([H])c([H])c2[H])c1[H]'"
      ]
     },
     "execution_count": 35,
     "metadata": {},
     "output_type": "execute_result"
    }
   ],
   "source": [
    "smiles"
   ]
  },
  {
   "cell_type": "code",
   "execution_count": 31,
   "id": "28a6ba35-99a4-410c-bbd5-f3fdc71aa83b",
   "metadata": {},
   "outputs": [
    {
     "data": {
      "text/plain": [
       "[Atom(H1),\n",
       " Atom(O1),\n",
       " Atom(B1),\n",
       " Atom(C1),\n",
       " Atom(C2),\n",
       " Atom(H2),\n",
       " Atom(C3),\n",
       " Atom(H3),\n",
       " Atom(C4),\n",
       " Atom(C5),\n",
       " Atom(H4),\n",
       " Atom(H5),\n",
       " Atom(H6),\n",
       " Atom(C6),\n",
       " Atom(O2),\n",
       " Atom(C7),\n",
       " Atom(H7),\n",
       " Atom(H8),\n",
       " Atom(C8),\n",
       " Atom(C9),\n",
       " Atom(H9),\n",
       " Atom(C10),\n",
       " Atom(H10),\n",
       " Atom(C11),\n",
       " Atom(H11),\n",
       " Atom(C12),\n",
       " Atom(H12),\n",
       " Atom(C13),\n",
       " Atom(H13),\n",
       " Atom(C14),\n",
       " Atom(H14),\n",
       " Atom(H17),\n",
       " Atom(H18)]"
      ]
     },
     "execution_count": 31,
     "metadata": {},
     "output_type": "execute_result"
    }
   ],
   "source": [
    "[atom for atom in conformer.molecule.atoms]"
   ]
  },
  {
   "cell_type": "code",
   "execution_count": 10,
   "id": "b3c90aec-abe1-493f-bd17-5f58b510eca0",
   "metadata": {},
   "outputs": [
    {
     "data": {
      "text/plain": [
       "33"
      ]
     },
     "execution_count": 10,
     "metadata": {},
     "output_type": "execute_result"
    }
   ],
   "source": [
    "new_rdkit_conf.GetNumAtoms()"
   ]
  },
  {
   "cell_type": "code",
   "execution_count": 11,
   "id": "4e23671d-326f-45de-9f99-0e212c01e98f",
   "metadata": {},
   "outputs": [
    {
     "data": {
      "text/plain": [
       "31"
      ]
     },
     "execution_count": 11,
     "metadata": {},
     "output_type": "execute_result"
    }
   ],
   "source": [
    "rdkit_mol.GetNumAtoms()"
   ]
  },
  {
   "cell_type": "code",
   "execution_count": null,
   "id": "64aa5e6f-68cd-4cd7-8459-11c65ee46f1f",
   "metadata": {},
   "outputs": [],
   "source": [
    "with open(os.path.join(data_dir_path, 'raw', 'pdbbind_conf_ensemble_library_ccdc_generated.p'), 'wb') as f :\n",
    "    pickle.dump(all_CEL, f)"
   ]
  }
 ],
 "metadata": {
  "kernelspec": {
   "display_name": "Python 3 (ipykernel)",
   "language": "python",
   "name": "python3"
  },
  "language_info": {
   "codemirror_mode": {
    "name": "ipython",
    "version": 3
   },
   "file_extension": ".py",
   "mimetype": "text/x-python",
   "name": "python",
   "nbconvert_exporter": "python",
   "pygments_lexer": "ipython3",
   "version": "3.7.10"
  }
 },
 "nbformat": 4,
 "nbformat_minor": 5
}
