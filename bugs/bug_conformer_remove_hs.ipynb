{
 "cells": [
  {
   "cell_type": "code",
   "execution_count": 10,
   "id": "1dd2f7f3-0d7a-4f59-a8b1-f9f8ba80b579",
   "metadata": {},
   "outputs": [],
   "source": [
    "from rdkit.Geometry.rdGeometry import Point3D\n",
    "def ccdc_conformers_to_rdkit_mol(rdkit_mol, ccdc_conformers, exclude_hydrogens=True) :\n",
    "    for conformer in ccdc_conformers :\n",
    "        temp_rdkit_mol = copy.deepcopy(rdkit_mol)\n",
    "        new_rdkit_conf = temp_rdkit_mol.GetConformer()\n",
    "        conformer_ccdc_molecule = conformer.molecule\n",
    "        if exclude_hydrogens :\n",
    "            conformer_ccdc_molecule.remove_hydrogens()\n",
    "        for i, atom in enumerate(conformer_ccdc_molecule.atoms) :\n",
    "            atom_coord = [coord for coord in atom.coordinates]\n",
    "            point3d = Point3D(*atom_coord)\n",
    "            new_rdkit_conf.SetAtomPosition(i, point3d)\n",
    "        rdkit_mol.AddConformer(new_rdkit_conf, assignId=True)"
   ]
  },
  {
   "cell_type": "code",
   "execution_count": 11,
   "id": "98fba6f9-4f27-4e78-af57-8b5eb8fbf7c4",
   "metadata": {},
   "outputs": [
    {
     "name": "stdout",
     "output_type": "stream",
     "text": [
      "INFO: /home/baillifb/CCDC/CSD_2021/bin/mogul\n"
     ]
    },
    {
     "ename": "AttributeError",
     "evalue": "'Molecule' object has no attribute 'remove_atom'",
     "output_type": "error",
     "traceback": [
      "\u001b[0;31m---------------------------------------------------------------------------\u001b[0m",
      "\u001b[0;31mAttributeError\u001b[0m                            Traceback (most recent call last)",
      "\u001b[0;32m/tmp/ipykernel_72558/3246349206.py\u001b[0m in \u001b[0;36m<module>\u001b[0;34m\u001b[0m\n\u001b[1;32m      8\u001b[0m \u001b[0mccdc_conformers\u001b[0m \u001b[0;34m=\u001b[0m \u001b[0mccdc_conformer_generator\u001b[0m\u001b[0;34m.\u001b[0m\u001b[0mgenerate\u001b[0m\u001b[0;34m(\u001b[0m\u001b[0mccdc_mol\u001b[0m\u001b[0;34m)\u001b[0m\u001b[0;34m\u001b[0m\u001b[0;34m\u001b[0m\u001b[0m\n\u001b[1;32m      9\u001b[0m \u001b[0;34m\u001b[0m\u001b[0m\n\u001b[0;32m---> 10\u001b[0;31m \u001b[0mccdc_conformers_to_rdkit_mol\u001b[0m\u001b[0;34m(\u001b[0m\u001b[0mmol\u001b[0m\u001b[0;34m,\u001b[0m \u001b[0mccdc_conformers\u001b[0m\u001b[0;34m)\u001b[0m\u001b[0;34m\u001b[0m\u001b[0;34m\u001b[0m\u001b[0m\n\u001b[0m",
      "\u001b[0;32m/tmp/ipykernel_72558/3795857050.py\u001b[0m in \u001b[0;36mccdc_conformers_to_rdkit_mol\u001b[0;34m(rdkit_mol, ccdc_conformers, exclude_hydrogens)\u001b[0m\n\u001b[1;32m      6\u001b[0m         \u001b[0mconformer_ccdc_molecule\u001b[0m \u001b[0;34m=\u001b[0m \u001b[0mconformer\u001b[0m\u001b[0;34m.\u001b[0m\u001b[0mmolecule\u001b[0m\u001b[0;34m\u001b[0m\u001b[0;34m\u001b[0m\u001b[0m\n\u001b[1;32m      7\u001b[0m         \u001b[0;32mif\u001b[0m \u001b[0mexclude_hydrogens\u001b[0m \u001b[0;34m:\u001b[0m\u001b[0;34m\u001b[0m\u001b[0;34m\u001b[0m\u001b[0m\n\u001b[0;32m----> 8\u001b[0;31m             \u001b[0mconformer_ccdc_molecule\u001b[0m\u001b[0;34m.\u001b[0m\u001b[0mremove_hydrogens\u001b[0m\u001b[0;34m(\u001b[0m\u001b[0;34m)\u001b[0m\u001b[0;34m\u001b[0m\u001b[0;34m\u001b[0m\u001b[0m\n\u001b[0m\u001b[1;32m      9\u001b[0m         \u001b[0;32mfor\u001b[0m \u001b[0mi\u001b[0m\u001b[0;34m,\u001b[0m \u001b[0matom\u001b[0m \u001b[0;32min\u001b[0m \u001b[0menumerate\u001b[0m\u001b[0;34m(\u001b[0m\u001b[0mconformer_ccdc_molecule\u001b[0m\u001b[0;34m.\u001b[0m\u001b[0matoms\u001b[0m\u001b[0;34m)\u001b[0m \u001b[0;34m:\u001b[0m\u001b[0;34m\u001b[0m\u001b[0;34m\u001b[0m\u001b[0m\n\u001b[1;32m     10\u001b[0m             \u001b[0matom_coord\u001b[0m \u001b[0;34m=\u001b[0m \u001b[0;34m[\u001b[0m\u001b[0mcoord\u001b[0m \u001b[0;32mfor\u001b[0m \u001b[0mcoord\u001b[0m \u001b[0;32min\u001b[0m \u001b[0matom\u001b[0m\u001b[0;34m.\u001b[0m\u001b[0mcoordinates\u001b[0m\u001b[0;34m]\u001b[0m\u001b[0;34m\u001b[0m\u001b[0;34m\u001b[0m\u001b[0m\n",
      "\u001b[0;32m~/anaconda3/envs/GeoMol/lib/python3.7/site-packages/ccdc/molecule.py\u001b[0m in \u001b[0;36mremove_hydrogens\u001b[0;34m(self)\u001b[0m\n\u001b[1;32m   2136\u001b[0m     \u001b[0;32mdef\u001b[0m \u001b[0mremove_hydrogens\u001b[0m\u001b[0;34m(\u001b[0m\u001b[0mself\u001b[0m\u001b[0;34m)\u001b[0m\u001b[0;34m:\u001b[0m\u001b[0;34m\u001b[0m\u001b[0;34m\u001b[0m\u001b[0m\n\u001b[1;32m   2137\u001b[0m         \u001b[0;34m'''Remove all hydrogen atoms.'''\u001b[0m\u001b[0;34m\u001b[0m\u001b[0;34m\u001b[0m\u001b[0m\n\u001b[0;32m-> 2138\u001b[0;31m         \u001b[0mself\u001b[0m\u001b[0;34m.\u001b[0m\u001b[0mremove_atoms\u001b[0m\u001b[0;34m(\u001b[0m\u001b[0ma\u001b[0m \u001b[0;32mfor\u001b[0m \u001b[0ma\u001b[0m \u001b[0;32min\u001b[0m \u001b[0mself\u001b[0m\u001b[0;34m.\u001b[0m\u001b[0matoms\u001b[0m \u001b[0;32mif\u001b[0m \u001b[0ma\u001b[0m\u001b[0;34m.\u001b[0m\u001b[0matomic_symbol\u001b[0m \u001b[0;32min\u001b[0m \u001b[0;34m'HD'\u001b[0m\u001b[0;34m)\u001b[0m\u001b[0;34m\u001b[0m\u001b[0;34m\u001b[0m\u001b[0m\n\u001b[0m\u001b[1;32m   2139\u001b[0m \u001b[0;34m\u001b[0m\u001b[0m\n\u001b[1;32m   2140\u001b[0m     \u001b[0;32mdef\u001b[0m \u001b[0mremove_unknown_atoms\u001b[0m\u001b[0;34m(\u001b[0m\u001b[0mself\u001b[0m\u001b[0;34m)\u001b[0m\u001b[0;34m:\u001b[0m\u001b[0;34m\u001b[0m\u001b[0;34m\u001b[0m\u001b[0m\n",
      "\u001b[0;32m~/anaconda3/envs/GeoMol/lib/python3.7/site-packages/ccdc/molecule.py\u001b[0m in \u001b[0;36mremove_atoms\u001b[0;34m(self, iterable)\u001b[0m\n\u001b[1;32m   1953\u001b[0m                 \u001b[0;32mraise\u001b[0m \u001b[0mRuntimeError\u001b[0m\u001b[0;34m(\u001b[0m\u001b[0;34m'An atom is not in the molecule'\u001b[0m\u001b[0;34m)\u001b[0m\u001b[0;34m\u001b[0m\u001b[0;34m\u001b[0m\u001b[0m\n\u001b[1;32m   1954\u001b[0m         \u001b[0;32mfor\u001b[0m \u001b[0ma\u001b[0m \u001b[0;32min\u001b[0m \u001b[0ml\u001b[0m\u001b[0;34m:\u001b[0m\u001b[0;34m\u001b[0m\u001b[0;34m\u001b[0m\u001b[0m\n\u001b[0;32m-> 1955\u001b[0;31m             \u001b[0mself\u001b[0m\u001b[0;34m.\u001b[0m\u001b[0m_molecule\u001b[0m\u001b[0;34m.\u001b[0m\u001b[0mremove_atom\u001b[0m\u001b[0;34m(\u001b[0m\u001b[0ma\u001b[0m\u001b[0;34m.\u001b[0m\u001b[0mindex\u001b[0m\u001b[0;34m)\u001b[0m\u001b[0;34m\u001b[0m\u001b[0;34m\u001b[0m\u001b[0m\n\u001b[0m\u001b[1;32m   1956\u001b[0m \u001b[0;34m\u001b[0m\u001b[0m\n\u001b[1;32m   1957\u001b[0m     \u001b[0;32mdef\u001b[0m \u001b[0madd_bond\u001b[0m\u001b[0;34m(\u001b[0m\u001b[0mself\u001b[0m\u001b[0;34m,\u001b[0m \u001b[0mbond_type\u001b[0m\u001b[0;34m,\u001b[0m \u001b[0matom1\u001b[0m\u001b[0;34m,\u001b[0m \u001b[0matom2\u001b[0m\u001b[0;34m)\u001b[0m\u001b[0;34m:\u001b[0m\u001b[0;34m\u001b[0m\u001b[0;34m\u001b[0m\u001b[0m\n",
      "\u001b[0;31mAttributeError\u001b[0m: 'Molecule' object has no attribute 'remove_atom'"
     ]
    }
   ],
   "source": [
    "from ccdc.molecule import Molecule\n",
    "from ccdc.conformer import ConformerGenerator\n",
    "mol2_block = Chem.MolToMolBlock(mol)\n",
    "            \n",
    "ccdc_conformer_generator = ConformerGenerator()\n",
    "ccdc_mol = Molecule.from_string(mol2_block)\n",
    "ccdc_conformer_generator.settings.max_conformers = 49\n",
    "ccdc_conformers = ccdc_conformer_generator.generate(ccdc_mol)\n",
    "\n",
    "ccdc_conformers_to_rdkit_mol(mol, ccdc_conformers)"
   ]
  },
  {
   "cell_type": "code",
   "execution_count": 13,
   "id": "fb427cf7-9fc7-41ed-9a98-cb9f201ee9c7",
   "metadata": {},
   "outputs": [
    {
     "data": {
      "text/plain": [
       "ChemistryLib.EditableMolecule"
      ]
     },
     "execution_count": 13,
     "metadata": {},
     "output_type": "execute_result"
    }
   ],
   "source": [
    "type(ccdc_mol._molecule)"
   ]
  },
  {
   "cell_type": "code",
   "execution_count": 20,
   "id": "a4fc194d-2823-4612-8fef-25345d15eee8",
   "metadata": {},
   "outputs": [],
   "source": [
    "for conformer in ccdc_conformers :\n",
    "    a = conformer.molecule.atoms"
   ]
  },
  {
   "cell_type": "code",
   "execution_count": 23,
   "id": "bdb5b282-4c7b-4af5-95e8-817480bbd519",
   "metadata": {},
   "outputs": [
    {
     "data": {
      "text/plain": [
       "[Atom(C1),\n",
       " Atom(C2),\n",
       " Atom(O3),\n",
       " Atom(O4),\n",
       " Atom(C5),\n",
       " Atom(C6),\n",
       " Atom(C7),\n",
       " Atom(O8),\n",
       " Atom(O9),\n",
       " Atom(C10),\n",
       " Atom(C11),\n",
       " Atom(O12),\n",
       " Atom(N13)]"
      ]
     },
     "execution_count": 23,
     "metadata": {},
     "output_type": "execute_result"
    }
   ],
   "source": [
    "ccdc_mol.atoms"
   ]
  }
 ],
 "metadata": {
  "kernelspec": {
   "display_name": "Python 3 (ipykernel)",
   "language": "python",
   "name": "python3"
  },
  "language_info": {
   "codemirror_mode": {
    "name": "ipython",
    "version": 3
   },
   "file_extension": ".py",
   "mimetype": "text/x-python",
   "name": "python",
   "nbconvert_exporter": "python",
   "pygments_lexer": "ipython3",
   "version": "3.7.10"
  }
 },
 "nbformat": 4,
 "nbformat_minor": 5
}
