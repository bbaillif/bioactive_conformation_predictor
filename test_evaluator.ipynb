{
 "cells": [
  {
   "cell_type": "code",
   "execution_count": 1,
   "id": "6946b30a-5e50-423c-97d4-cf5742ffc4fa",
   "metadata": {
    "tags": []
   },
   "outputs": [],
   "source": [
    "import os\n",
    "import torch\n",
    "import matplotlib.pyplot as plt\n",
    "import numpy as np\n",
    "import pytorch_lightning as pl\n",
    "import torch.nn.functional as F\n",
    "import pandas as pd\n",
    "import copy\n",
    "\n",
    "from torch_geometric.data import Batch\n",
    "from torch_geometric.loader import DataLoader\n",
    "from torch.utils.data import Subset, ConcatDataset\n",
    "from rdkit import Chem\n",
    "from conf_ensemble_dataset_in_memory import ConfEnsembleDataset\n",
    "from rdkit.Chem import AllChem #needed for rdForceFieldHelpers\n",
    "from collections import defaultdict\n",
    "from litschnet import LitSchNet\n",
    "from pytorch_lightning.callbacks.early_stopping import EarlyStopping\n",
    "from pytorch_lightning.loggers import TensorBoardLogger\n",
    "from rmsd_predictor_evaluator import RMSDPredictorEvaluator\n",
    "from tqdm import tqdm\n",
    "from torch.utils.tensorboard import SummaryWriter"
   ]
  },
  {
   "cell_type": "code",
   "execution_count": 2,
   "id": "33c8128a-c774-4589-b584-ead561364eaf",
   "metadata": {},
   "outputs": [
    {
     "name": "stderr",
     "output_type": "stream",
     "text": [
      "Global seed set to 42\n"
     ]
    },
    {
     "data": {
      "text/plain": [
       "42"
      ]
     },
     "execution_count": 2,
     "metadata": {},
     "output_type": "execute_result"
    }
   ],
   "source": [
    "pl.seed_everything(42, workers=True)"
   ]
  },
  {
   "cell_type": "markdown",
   "id": "650b0bfa-807e-4147-9695-0aa380ab1d0d",
   "metadata": {},
   "source": [
    "# Data preparation"
   ]
  },
  {
   "cell_type": "code",
   "execution_count": 3,
   "id": "cf169ce9-1a76-451c-b4a3-835746c28d70",
   "metadata": {},
   "outputs": [],
   "source": [
    "data_dir = 'data/'"
   ]
  },
  {
   "cell_type": "code",
   "execution_count": 4,
   "id": "1aecdd89-fea0-42df-bd55-6d0a9bbcb0dd",
   "metadata": {},
   "outputs": [],
   "source": [
    "platinum_dataset = ConfEnsembleDataset(dataset='platinum', loaded_chunk=0)"
   ]
  },
  {
   "cell_type": "code",
   "execution_count": 6,
   "id": "9796e5ce-7764-481f-9136-909e93493d3e",
   "metadata": {},
   "outputs": [
    {
     "name": "stdout",
     "output_type": "stream",
     "text": [
      "Grouping data by smiles\n"
     ]
    },
    {
     "name": "stderr",
     "output_type": "stream",
     "text": [
      "  0%|                                                  | 0/4000 [00:00<?, ?it/s]"
     ]
    },
    {
     "name": "stdout",
     "output_type": "stream",
     "text": [
      "Starting evaluation\n"
     ]
    },
    {
     "name": "stderr",
     "output_type": "stream",
     "text": [
      "100%|███████████████████████████████████████| 4000/4000 [01:15<00:00, 52.65it/s]\n"
     ]
    },
    {
     "data": {
      "image/png": "[encoded data removed]",
      "text/plain": [
       "<Figure size 504x360 with 1 Axes>"
      ]
     },
     "metadata": {
      "needs_background": "light"
     },
     "output_type": "display_data"
    },
    {
     "data": {
      "image/png": "[encoded data removed]",
      "text/plain": [
       "<Figure size 504x360 with 1 Axes>"
      ]
     },
     "metadata": {
      "needs_background": "light"
     },
     "output_type": "display_data"
    }
   ],
   "source": [
    "iteration = 0\n",
    "experiment_name = f'scaffold_split_{iteration}_new'\n",
    "if experiment_name in os.listdir('lightning_logs') :\n",
    "    checkpoint_name = os.listdir(os.path.join('lightning_logs', experiment_name, 'checkpoints'))[0]\n",
    "    checkpoint_path = os.path.join('lightning_logs', experiment_name, 'checkpoints', checkpoint_name)\n",
    "    litschnet = LitSchNet.load_from_checkpoint(checkpoint_path=checkpoint_path)\n",
    "        \n",
    "evaluator = RMSDPredictorEvaluator(model=litschnet, experiment_name=experiment_name)\n",
    "evaluator.evaluate(platinum_dataset)\n",
    "#evaluator.evaluation_report(experiment_name=experiment_name + '_platinum')"
   ]
  },
  {
   "cell_type": "code",
   "execution_count": 7,
   "id": "4f869865-cade-41c7-ba85-1e43a64dabe0",
   "metadata": {},
   "outputs": [
    {
     "data": {
      "text/plain": [
       "{'bioactive_accuracy': {'q1_all_bioactive': 1.0,\n",
       "  'median_all_bioactive': 5.0,\n",
       "  'q3_all_bioactive': 26.0,\n",
       "  'q1_min_bioactive': 0.0,\n",
       "  'median_min_bioactive': 4.0,\n",
       "  'q3_min_bioactive': 24.0,\n",
       "  'mean_top1_accuracy': 0.28,\n",
       "  'mean_topN_accuracy': 0.2817824134199134},\n",
       " 'regression': {'Micro': {'rmse_all': 0.5768849,\n",
       "   'rmse_gen': 0.7124936,\n",
       "   'rmse_bio': 1.0456016,\n",
       "   'r2_all': 0.49879345602996594,\n",
       "   'r2_gen': 0.1807974643106427,\n",
       "   'pearson_all': 0.7221129137271769,\n",
       "   'pearson_gen': 0.5435909643923114,\n",
       "   'spearman_all': 0.7007222142552835,\n",
       "   'spearman_gen': 0.5357226717663893},\n",
       "  'Macro': {'rmse_all': 0.50281596,\n",
       "   'rmse_gen': 0.47366694,\n",
       "   'rmse_bio': 1.0357779,\n",
       "   'r2_all': -95.65871819969941,\n",
       "   'r2_gen': -100.51900137910087,\n",
       "   'pearson_all': 0.3522278918305643,\n",
       "   'pearson_gen': 0.33703734114776623,\n",
       "   'spearman_all': 0.32735938355389627,\n",
       "   'spearman_gen': 0.3195984392255301}},\n",
       " 'ranking': {'random': {'bedroc': 0.09903305832830592,\n",
       "   'ef': 0.8403740983772408},\n",
       "  'energy': {'bedroc': 0.14174141746586677, 'ef': 1.1407998220078563},\n",
       "  'ccdc': {'bedroc': 0.1503845292240733, 'ef': 1.1676638235815084},\n",
       "  'model': {'bedroc': 0.24187009198282677, 'ef': 1.7325738643465134}}}"
      ]
     },
     "execution_count": 7,
     "metadata": {},
     "output_type": "execute_result"
    }
   ],
   "source": [
    "evaluator.dataset_results"
   ]
  },
  {
   "cell_type": "code",
   "execution_count": null,
   "id": "10ecc22d-37a8-413a-99df-1b63d64b652c",
   "metadata": {},
   "outputs": [],
   "source": [
    "from sklearn.metrics import r2_score\n",
    "r2_score(all_generated_targets, all_generated_preds)"
   ]
  },
  {
   "cell_type": "code",
   "execution_count": null,
   "id": "f01ec27d-ce39-49c5-ae0d-23251fbebc3b",
   "metadata": {},
   "outputs": [],
   "source": [
    "from sklearn.metrics import r2_score\n",
    "r2_score(all_targets, all_preds)"
   ]
  },
  {
   "cell_type": "code",
   "execution_count": null,
   "id": "a4bbc1ca-4d30-4d96-8c88-66b1a9458cc7",
   "metadata": {},
   "outputs": [],
   "source": [
    "evaluator.dataset_results['regression'] = {}\n",
    "            \n",
    "all_targets = []\n",
    "all_preds = []\n",
    "all_bioactive_preds = []\n",
    "all_generated_targets = []\n",
    "all_generated_preds = []\n",
    "for smiles, results_d in evaluator.conf_results.items() :\n",
    "    all_targets.extend([target for target in results_d['targets']])\n",
    "    all_preds.extend([target for target in results_d['preds']])\n",
    "    all_bioactive_preds.extend([target for target in results_d['bioactive_preds']])\n",
    "    if 'generated_targets' in results_d :\n",
    "        all_generated_targets.extend([target for target in results_d['generated_targets']])\n",
    "        all_generated_preds.extend([pred for pred in results_d['generated_preds']])\n",
    "\n",
    "#evaluator.plot_regression(all_targets, all_preds)"
   ]
  },
  {
   "cell_type": "code",
   "execution_count": null,
   "id": "0714251e-7e2b-471b-9b39-5d4fad8ca9b5",
   "metadata": {},
   "outputs": [],
   "source": [
    "len(all_preds)"
   ]
  },
  {
   "cell_type": "code",
   "execution_count": null,
   "id": "0c6bd784-2593-4a43-a595-37246aacafeb",
   "metadata": {},
   "outputs": [],
   "source": [
    "len(all_targets)"
   ]
  },
  {
   "cell_type": "code",
   "execution_count": null,
   "id": "bfd6b4b0-52c5-43dc-b0a7-9a551e2db791",
   "metadata": {},
   "outputs": [],
   "source": [
    "conf_results = evaluator.conf_results\n",
    "mol_results = evaluator.mol_results"
   ]
  },
  {
   "cell_type": "code",
   "execution_count": null,
   "id": "d02340c3-9aa4-4e70-b67e-0de9b1bb1844",
   "metadata": {},
   "outputs": [],
   "source": [
    "conf_results['COc1ccc(-c2cn(C)c(=O)c3cc(C(=O)NC4CCS(=O)(=O)CC4)sc23)cc1OC']"
   ]
  },
  {
   "cell_type": "code",
   "execution_count": null,
   "id": "5be31b66-7d78-4a8d-95d6-282fb2e66a93",
   "metadata": {
    "scrolled": true,
    "tags": []
   },
   "outputs": [],
   "source": [
    "mol_results['COc1ccc(-c2cn(C)c(=O)c3cc(C(=O)NC4CCS(=O)(=O)CC4)sc23)cc1OC']"
   ]
  },
  {
   "cell_type": "code",
   "execution_count": null,
   "id": "5bd0ddf3-cdd8-4936-8169-027b452a1f83",
   "metadata": {},
   "outputs": [],
   "source": []
  }
 ],
 "metadata": {
  "kernelspec": {
   "display_name": "Python 3 (ipykernel)",
   "language": "python",
   "name": "python3"
  },
  "language_info": {
   "codemirror_mode": {
    "name": "ipython",
    "version": 3
   },
   "file_extension": ".py",
   "mimetype": "text/x-python",
   "name": "python",
   "nbconvert_exporter": "python",
   "pygments_lexer": "ipython3",
   "version": "3.7.10"
  }
 },
 "nbformat": 4,
 "nbformat_minor": 5
}
