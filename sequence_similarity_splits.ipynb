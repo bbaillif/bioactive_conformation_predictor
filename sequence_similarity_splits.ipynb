{
 "cells": [
  {
   "cell_type": "code",
   "execution_count": 1,
   "id": "9b5bdbf0-f129-458a-bdd1-33cc75397ae5",
   "metadata": {},
   "outputs": [],
   "source": [
    "import json\n",
    "import pandas as pd\n",
    "\n",
    "from tqdm import tqdm\n",
    "from datetime import datetime as dt\n",
    "from sklearn.metrics import pairwise_distances\n",
    "from scipy.spatial.distance import pdist, squareform\n",
    "from scipy.cluster.hierarchy import linkage, fcluster\n",
    "from Bio import PDB\n",
    "from Bio.Seq import Seq\n",
    "from multiprocessing import Pool"
   ]
  },
  {
   "cell_type": "code",
   "execution_count": 1,
   "id": "4b0b0d62-d610-4b6f-9d2a-77385bab65c7",
   "metadata": {},
   "outputs": [],
   "source": [
    "import json"
   ]
  },
  {
   "cell_type": "code",
   "execution_count": 4,
   "id": "e6b6c29e-744e-4e64-a674-2c5d411d746e",
   "metadata": {},
   "outputs": [
    {
     "ename": "JSONDecodeError",
     "evalue": "Expecting value: line 1 column 1 (char 0)",
     "output_type": "error",
     "traceback": [
      "\u001b[0;31m---------------------------------------------------------------------------\u001b[0m",
      "\u001b[0;31mJSONDecodeError\u001b[0m                           Traceback (most recent call last)",
      "\u001b[0;32m/tmp/ipykernel_106310/1975914697.py\u001b[0m in \u001b[0;36m<module>\u001b[0;34m\u001b[0m\n\u001b[1;32m      1\u001b[0m \u001b[0mcluster_file\u001b[0m \u001b[0;34m=\u001b[0m \u001b[0;34m'protein_clusters.json'\u001b[0m\u001b[0;34m\u001b[0m\u001b[0;34m\u001b[0m\u001b[0m\n\u001b[1;32m      2\u001b[0m \u001b[0;32mwith\u001b[0m \u001b[0mopen\u001b[0m\u001b[0;34m(\u001b[0m\u001b[0mcluster_file\u001b[0m\u001b[0;34m,\u001b[0m \u001b[0;34m'r'\u001b[0m\u001b[0;34m)\u001b[0m \u001b[0;32mas\u001b[0m \u001b[0mf\u001b[0m\u001b[0;34m:\u001b[0m\u001b[0;34m\u001b[0m\u001b[0;34m\u001b[0m\u001b[0m\n\u001b[0;32m----> 3\u001b[0;31m     \u001b[0mT\u001b[0m \u001b[0;34m=\u001b[0m \u001b[0mjson\u001b[0m\u001b[0;34m.\u001b[0m\u001b[0mload\u001b[0m\u001b[0;34m(\u001b[0m\u001b[0mf\u001b[0m\u001b[0;34m)\u001b[0m\u001b[0;34m\u001b[0m\u001b[0;34m\u001b[0m\u001b[0m\n\u001b[0m",
      "\u001b[0;32m~/anaconda3/envs/GeoMol/lib/python3.7/json/__init__.py\u001b[0m in \u001b[0;36mload\u001b[0;34m(fp, cls, object_hook, parse_float, parse_int, parse_constant, object_pairs_hook, **kw)\u001b[0m\n\u001b[1;32m    294\u001b[0m         \u001b[0mcls\u001b[0m\u001b[0;34m=\u001b[0m\u001b[0mcls\u001b[0m\u001b[0;34m,\u001b[0m \u001b[0mobject_hook\u001b[0m\u001b[0;34m=\u001b[0m\u001b[0mobject_hook\u001b[0m\u001b[0;34m,\u001b[0m\u001b[0;34m\u001b[0m\u001b[0;34m\u001b[0m\u001b[0m\n\u001b[1;32m    295\u001b[0m         \u001b[0mparse_float\u001b[0m\u001b[0;34m=\u001b[0m\u001b[0mparse_float\u001b[0m\u001b[0;34m,\u001b[0m \u001b[0mparse_int\u001b[0m\u001b[0;34m=\u001b[0m\u001b[0mparse_int\u001b[0m\u001b[0;34m,\u001b[0m\u001b[0;34m\u001b[0m\u001b[0;34m\u001b[0m\u001b[0m\n\u001b[0;32m--> 296\u001b[0;31m         parse_constant=parse_constant, object_pairs_hook=object_pairs_hook, **kw)\n\u001b[0m\u001b[1;32m    297\u001b[0m \u001b[0;34m\u001b[0m\u001b[0m\n\u001b[1;32m    298\u001b[0m \u001b[0;34m\u001b[0m\u001b[0m\n",
      "\u001b[0;32m~/anaconda3/envs/GeoMol/lib/python3.7/json/__init__.py\u001b[0m in \u001b[0;36mloads\u001b[0;34m(s, encoding, cls, object_hook, parse_float, parse_int, parse_constant, object_pairs_hook, **kw)\u001b[0m\n\u001b[1;32m    346\u001b[0m             \u001b[0mparse_int\u001b[0m \u001b[0;32mis\u001b[0m \u001b[0;32mNone\u001b[0m \u001b[0;32mand\u001b[0m \u001b[0mparse_float\u001b[0m \u001b[0;32mis\u001b[0m \u001b[0;32mNone\u001b[0m \u001b[0;32mand\u001b[0m\u001b[0;34m\u001b[0m\u001b[0;34m\u001b[0m\u001b[0m\n\u001b[1;32m    347\u001b[0m             parse_constant is None and object_pairs_hook is None and not kw):\n\u001b[0;32m--> 348\u001b[0;31m         \u001b[0;32mreturn\u001b[0m \u001b[0m_default_decoder\u001b[0m\u001b[0;34m.\u001b[0m\u001b[0mdecode\u001b[0m\u001b[0;34m(\u001b[0m\u001b[0ms\u001b[0m\u001b[0;34m)\u001b[0m\u001b[0;34m\u001b[0m\u001b[0;34m\u001b[0m\u001b[0m\n\u001b[0m\u001b[1;32m    349\u001b[0m     \u001b[0;32mif\u001b[0m \u001b[0mcls\u001b[0m \u001b[0;32mis\u001b[0m \u001b[0;32mNone\u001b[0m\u001b[0;34m:\u001b[0m\u001b[0;34m\u001b[0m\u001b[0;34m\u001b[0m\u001b[0m\n\u001b[1;32m    350\u001b[0m         \u001b[0mcls\u001b[0m \u001b[0;34m=\u001b[0m \u001b[0mJSONDecoder\u001b[0m\u001b[0;34m\u001b[0m\u001b[0;34m\u001b[0m\u001b[0m\n",
      "\u001b[0;32m~/anaconda3/envs/GeoMol/lib/python3.7/json/decoder.py\u001b[0m in \u001b[0;36mdecode\u001b[0;34m(self, s, _w)\u001b[0m\n\u001b[1;32m    335\u001b[0m \u001b[0;34m\u001b[0m\u001b[0m\n\u001b[1;32m    336\u001b[0m         \"\"\"\n\u001b[0;32m--> 337\u001b[0;31m         \u001b[0mobj\u001b[0m\u001b[0;34m,\u001b[0m \u001b[0mend\u001b[0m \u001b[0;34m=\u001b[0m \u001b[0mself\u001b[0m\u001b[0;34m.\u001b[0m\u001b[0mraw_decode\u001b[0m\u001b[0;34m(\u001b[0m\u001b[0ms\u001b[0m\u001b[0;34m,\u001b[0m \u001b[0midx\u001b[0m\u001b[0;34m=\u001b[0m\u001b[0m_w\u001b[0m\u001b[0;34m(\u001b[0m\u001b[0ms\u001b[0m\u001b[0;34m,\u001b[0m \u001b[0;36m0\u001b[0m\u001b[0;34m)\u001b[0m\u001b[0;34m.\u001b[0m\u001b[0mend\u001b[0m\u001b[0;34m(\u001b[0m\u001b[0;34m)\u001b[0m\u001b[0;34m)\u001b[0m\u001b[0;34m\u001b[0m\u001b[0;34m\u001b[0m\u001b[0m\n\u001b[0m\u001b[1;32m    338\u001b[0m         \u001b[0mend\u001b[0m \u001b[0;34m=\u001b[0m \u001b[0m_w\u001b[0m\u001b[0;34m(\u001b[0m\u001b[0ms\u001b[0m\u001b[0;34m,\u001b[0m \u001b[0mend\u001b[0m\u001b[0;34m)\u001b[0m\u001b[0;34m.\u001b[0m\u001b[0mend\u001b[0m\u001b[0;34m(\u001b[0m\u001b[0;34m)\u001b[0m\u001b[0;34m\u001b[0m\u001b[0;34m\u001b[0m\u001b[0m\n\u001b[1;32m    339\u001b[0m         \u001b[0;32mif\u001b[0m \u001b[0mend\u001b[0m \u001b[0;34m!=\u001b[0m \u001b[0mlen\u001b[0m\u001b[0;34m(\u001b[0m\u001b[0ms\u001b[0m\u001b[0;34m)\u001b[0m\u001b[0;34m:\u001b[0m\u001b[0;34m\u001b[0m\u001b[0;34m\u001b[0m\u001b[0m\n",
      "\u001b[0;32m~/anaconda3/envs/GeoMol/lib/python3.7/json/decoder.py\u001b[0m in \u001b[0;36mraw_decode\u001b[0;34m(self, s, idx)\u001b[0m\n\u001b[1;32m    353\u001b[0m             \u001b[0mobj\u001b[0m\u001b[0;34m,\u001b[0m \u001b[0mend\u001b[0m \u001b[0;34m=\u001b[0m \u001b[0mself\u001b[0m\u001b[0;34m.\u001b[0m\u001b[0mscan_once\u001b[0m\u001b[0;34m(\u001b[0m\u001b[0ms\u001b[0m\u001b[0;34m,\u001b[0m \u001b[0midx\u001b[0m\u001b[0;34m)\u001b[0m\u001b[0;34m\u001b[0m\u001b[0;34m\u001b[0m\u001b[0m\n\u001b[1;32m    354\u001b[0m         \u001b[0;32mexcept\u001b[0m \u001b[0mStopIteration\u001b[0m \u001b[0;32mas\u001b[0m \u001b[0merr\u001b[0m\u001b[0;34m:\u001b[0m\u001b[0;34m\u001b[0m\u001b[0;34m\u001b[0m\u001b[0m\n\u001b[0;32m--> 355\u001b[0;31m             \u001b[0;32mraise\u001b[0m \u001b[0mJSONDecodeError\u001b[0m\u001b[0;34m(\u001b[0m\u001b[0;34m\"Expecting value\"\u001b[0m\u001b[0;34m,\u001b[0m \u001b[0ms\u001b[0m\u001b[0;34m,\u001b[0m \u001b[0merr\u001b[0m\u001b[0;34m.\u001b[0m\u001b[0mvalue\u001b[0m\u001b[0;34m)\u001b[0m \u001b[0;32mfrom\u001b[0m \u001b[0;32mNone\u001b[0m\u001b[0;34m\u001b[0m\u001b[0;34m\u001b[0m\u001b[0m\n\u001b[0m\u001b[1;32m    356\u001b[0m         \u001b[0;32mreturn\u001b[0m \u001b[0mobj\u001b[0m\u001b[0;34m,\u001b[0m \u001b[0mend\u001b[0m\u001b[0;34m\u001b[0m\u001b[0;34m\u001b[0m\u001b[0m\n",
      "\u001b[0;31mJSONDecodeError\u001b[0m: Expecting value: line 1 column 1 (char 0)"
     ]
    }
   ],
   "source": [
    "cluster_file = 'protein_clusters.json'\n",
    "with open(cluster_file, 'r') as f:\n",
    "    T = json.load(f)"
   ]
  },
  {
   "cell_type": "code",
   "execution_count": null,
   "id": "aced000f-482d-424d-8a1f-d52afb9bbae1",
   "metadata": {},
   "outputs": [],
   "source": []
  },
  {
   "cell_type": "code",
   "execution_count": null,
   "id": "376755b6-11a6-45e3-8cb9-47d17a9d52c7",
   "metadata": {},
   "outputs": [],
   "source": []
  },
  {
   "cell_type": "code",
   "execution_count": 2,
   "id": "a2b21106-c0a1-4e6e-ae15-061c1395a01c",
   "metadata": {},
   "outputs": [],
   "source": [
    "from pdbbind_metadata_processor import PDBBindMetadataProcessor"
   ]
  },
  {
   "cell_type": "code",
   "execution_count": 3,
   "id": "d2f90084-0d1c-42dd-8357-dcdacccf3407",
   "metadata": {},
   "outputs": [],
   "source": [
    "def SeqFromPDBCode(code):\n",
    "    protein_path, ligand_pathes = PDBBindMetadataProcessor().get_pdb_id_pathes(pdb_id=code)\n",
    "    protein_pdb = protein_path\n",
    "    pocket_pdb = protein_path.replace('protein', 'pocket')\n",
    "    parser = PDB.PDBParser(QUIET=True)\n",
    "    chain_id = None\n",
    "    try:\n",
    "        pocket = parser.get_structure(code, pocket_pdb)\n",
    "        protein = parser.get_structure(code, protein_pdb)\n",
    "    except:\n",
    "        return None\n",
    "    longest_chain = None\n",
    "    for chain in pocket.get_chains():\n",
    "        if chain.id == ' ': continue\n",
    "        if longest_chain is None or len(chain) > len(longest_chain):\n",
    "            longest_chain = chain\n",
    "    if longest_chain is None:\n",
    "        return None\n",
    "    ppb = PDB.PPBuilder()\n",
    "    for chain in protein.get_chains():\n",
    "        if chain.id == longest_chain.id:\n",
    "            seqs = [i.get_sequence() for i in ppb.build_peptides(chain)]\n",
    "            seq_str = ''.join([str(i) for i in seqs])\n",
    "            return Seq(seq_str)"
   ]
  },
  {
   "cell_type": "code",
   "execution_count": null,
   "id": "4ef43f03-1ebc-4560-86e4-f7c73ac379b2",
   "metadata": {},
   "outputs": [],
   "source": [
    "start = dt.now()"
   ]
  },
  {
   "cell_type": "code",
   "execution_count": 4,
   "id": "9b8d55fc-0b2a-46a0-ab16-c31e982deb5f",
   "metadata": {},
   "outputs": [],
   "source": [
    "smiles_df = pd.read_csv('data/smiles_df.csv')"
   ]
  },
  {
   "cell_type": "code",
   "execution_count": 5,
   "id": "d7df6490-be4c-443f-87e1-2562f1e744a3",
   "metadata": {},
   "outputs": [],
   "source": [
    "pdb_ids = smiles_df[smiles_df['dataset'] == 'pdbbind']['id'].unique()"
   ]
  },
  {
   "cell_type": "code",
   "execution_count": 6,
   "id": "dfacd41c-1f19-444f-a2d9-aee35dc70673",
   "metadata": {},
   "outputs": [
    {
     "name": "stderr",
     "output_type": "stream",
     "text": [
      "100%|████████████████████████████████████████| 100/100 [00:00<00:00, 140.54it/s]"
     ]
    },
    {
     "name": "stdout",
     "output_type": "stream",
     "text": [
      "succeeded 100/100\n",
      "\n"
     ]
    },
    {
     "name": "stderr",
     "output_type": "stream",
     "text": [
      "\n"
     ]
    }
   ],
   "source": [
    "codes = pdb_ids[:100]\n",
    "seqs = []\n",
    "Nones = []\n",
    "p = Pool()\n",
    "iter_seqs = p.imap(SeqFromPDBCode, codes)\n",
    "for i, seq in tqdm(enumerate(iter_seqs), total=len(codes)):\n",
    "    if seq is None:\n",
    "        Nones.append(i)\n",
    "    else:\n",
    "        seqs.append(seq)\n",
    "p.close()\n",
    "print('succeeded {}/{}\\n'.format(len(seqs), len(codes)))\n",
    "codes = [j for i, j in enumerate(codes) if i not in Nones]\n",
    "\n",
    "seqs_2d = [[i] for i in range(len(seqs))]"
   ]
  },
  {
   "cell_type": "code",
   "execution_count": 7,
   "id": "f104bd14-76d6-48a7-bb28-50e002c93d62",
   "metadata": {},
   "outputs": [],
   "source": [
    "from Bio import Align\n",
    "class PairwiseSequenceSimilarity(object) :\n",
    "    \n",
    "    def __init__(self,\n",
    "                seqs) :\n",
    "        self.aligner = Align.PairwiseAligner()\n",
    "        self.seqs = seqs\n",
    "        \n",
    "    def get_alignment(self,\n",
    "                      seqA, \n",
    "                      seqB) :\n",
    "        alignments = self.aligner.align(seqA, seqB)\n",
    "        alignment = alignments[0]\n",
    "        return alignment\n",
    "        \n",
    "    def get_identity(self,\n",
    "                    alignment) :\n",
    "        matches = alignment.score\n",
    "        alignment_length = alignment.shape[1]\n",
    "        identity = (matches / alignment_length) * 100\n",
    "        return identity\n",
    "        \n",
    "    def get_distance(self, \n",
    "                     seqA, \n",
    "                     seqB) :\n",
    "        alignment = self.get_alignment(seqA, seqB)\n",
    "        identity = self.get_identity(alignment)\n",
    "        distance = 100 - identity\n",
    "        return 100 - identity\n",
    "        \n",
    "    def _get_distance(self, i, j) :\n",
    "        i = int(i[0])\n",
    "        j = int(j[0])\n",
    "        seqA = self.seqs[i]\n",
    "        seqB = self.seqs[j]\n",
    "        return self.get_distance(seqA, seqB)\n",
    "    \n",
    "    def get_distance_matrix(self) :\n",
    "        #start_time = time.time()\n",
    "        seqs_2d = [[i] for i in range(len(self.seqs))]\n",
    "        distance_matrix = pairwise_distances(seqs_2d, metric=self._get_distance, n_jobs=-1)\n",
    "        #print(f'Time elapsed: {time.time() - start_time} seconds')\n",
    "        return distance_matrix"
   ]
  },
  {
   "cell_type": "code",
   "execution_count": 8,
   "id": "41ee2459-d338-4e0e-8c50-7134f701c6f9",
   "metadata": {},
   "outputs": [],
   "source": [
    "psa = PairwiseSequenceSimilarity(seqs=seqs)"
   ]
  },
  {
   "cell_type": "code",
   "execution_count": 9,
   "id": "eacbd484-f007-41a2-bbd3-248bbc71f184",
   "metadata": {
    "tags": []
   },
   "outputs": [
    {
     "name": "stdout",
     "output_type": "stream",
     "text": [
      "Time elapsed: 3.9951345920562744 seconds\n"
     ]
    }
   ],
   "source": [
    "dm = psa.get_distance_matrix()"
   ]
  },
  {
   "cell_type": "code",
   "execution_count": 10,
   "id": "7766e875-3c9e-4a82-98ec-d7b63d993a47",
   "metadata": {},
   "outputs": [],
   "source": [
    "distances = squareform(dm)"
   ]
  },
  {
   "cell_type": "code",
   "execution_count": 11,
   "id": "5680d8d5-c1fb-491b-88ac-dfeab7aa293a",
   "metadata": {},
   "outputs": [],
   "source": [
    "Z = linkage(distances)\n",
    "# print(\"linkage matrix:\\n{}\\n\".format(Z))"
   ]
  },
  {
   "cell_type": "code",
   "execution_count": 13,
   "id": "4f3639bb-2fa6-4822-ba42-e4c947e24873",
   "metadata": {},
   "outputs": [
    {
     "name": "stdout",
     "output_type": "stream",
     "text": [
      "Found 77 clusters with max 20% different.\n",
      "\n"
     ]
    }
   ],
   "source": [
    "T = fcluster(Z, t=20, criterion='distance')\n",
    "print(\"Found {} clusters with max 20% different.\\n\".format(max(T)+1))"
   ]
  },
  {
   "cell_type": "code",
   "execution_count": 37,
   "id": "c34a695a-efcb-40d2-a631-1f7bedecc716",
   "metadata": {},
   "outputs": [
    {
     "name": "stdout",
     "output_type": "stream",
     "text": [
      "Flat cluster result save at protein_clusters.json\n",
      "\n",
      "Elapsed time 0:08:40.173621.\n"
     ]
    }
   ],
   "source": [
    "# print(\"flat cluster:\\n{}\\n\".format(T))\n",
    "cluster_file = 'protein_clusters.json'\n",
    "with open(cluster_file, 'w') as f:\n",
    "    json.dump(T.tolist(), f, indent=4)\n",
    "print('Flat cluster result save at {}\\n'.format(cluster_file))\n",
    "\n",
    "print('Elapsed time {}.'.format(dt.now() - start))"
   ]
  }
 ],
 "metadata": {
  "kernelspec": {
   "display_name": "Python 3 (ipykernel)",
   "language": "python",
   "name": "python3"
  },
  "language_info": {
   "codemirror_mode": {
    "name": "ipython",
    "version": 3
   },
   "file_extension": ".py",
   "mimetype": "text/x-python",
   "name": "python",
   "nbconvert_exporter": "python",
   "pygments_lexer": "ipython3",
   "version": "3.7.10"
  },
  "widgets": {
   "application/vnd.jupyter.widget-state+json": {
    "state": {},
    "version_major": 2,
    "version_minor": 0
   }
  }
 },
 "nbformat": 4,
 "nbformat_minor": 5
}
