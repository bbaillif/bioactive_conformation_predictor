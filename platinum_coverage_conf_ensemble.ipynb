{
 "cells": [
  {
   "cell_type": "code",
   "execution_count": 12,
   "id": "08e5fdf9-9549-4c49-b0a9-432a1f91703b",
   "metadata": {},
   "outputs": [],
   "source": [
    "import pickle\n",
    "from rigid_docking import RigidDocking\n",
    "from platinum_processor import PlatinumProcessor"
   ]
  },
  {
   "cell_type": "code",
   "execution_count": 3,
   "id": "747f8a17-64e1-47fa-bc43-0be52f78a05a",
   "metadata": {},
   "outputs": [],
   "source": [
    "with open('data/raw/ccdc_generated_conf_ensemble_library.p', 'rb') as f:\n",
    "    conf_ensemble_library = pickle.load(f)"
   ]
  },
  {
   "cell_type": "code",
   "execution_count": 4,
   "id": "a268adbc-e531-40df-b011-34512c50c5ab",
   "metadata": {},
   "outputs": [],
   "source": [
    "rigid_docking = RigidDocking(dataset='platinum')\n",
    "test_smiles = rigid_docking.get_test_smiles()"
   ]
  },
  {
   "cell_type": "code",
   "execution_count": 5,
   "id": "d0fe5b8e-e49d-4fd4-aec6-6c519b04d56d",
   "metadata": {},
   "outputs": [
    {
     "data": {
      "text/plain": [
       "array(['COc1ccc(-c2cn(C)c(=O)c3cc(C(=O)NC4CCS(=O)(=O)CC4)sc23)cc1OC',\n",
       "       'CNC(=O)c1cc(Oc2ccc(NC(=O)Nc3cc(C(C)(C)C)nn3-c3ccc4ncccc4c3)c(F)c2)ccn1',\n",
       "       'NC(=O)c1cc2c(N)ncc(C(N)=O)c2s1', ..., 'CC(=O)Nc1ccccc1C(=O)[O-]',\n",
       "       '[NH3+]C(CSC(c1ccccc1)(c1ccccc1)c1ccccc1)C(=O)[O-]',\n",
       "       'Nc1nc2c(c(=O)[nH]1)NC(C=O)CN2'], dtype=object)"
      ]
     },
     "execution_count": 5,
     "metadata": {},
     "output_type": "execute_result"
    }
   ],
   "source": [
    "test_smiles"
   ]
  },
  {
   "cell_type": "code",
   "execution_count": 25,
   "id": "a9800b37-be7c-45fb-9905-bf197fc47534",
   "metadata": {},
   "outputs": [],
   "source": [
    "plat_pdb_ids = []\n",
    "for smiles in test_smiles :\n",
    "    ce = conf_ensemble_library.get_conf_ensemble(smiles)\n",
    "    rdkit_mol = ce.mol\n",
    "    for conf in rdkit_mol.GetConformers() :\n",
    "        pdb_id = conf.GetProp('PDB_ID')\n",
    "        if len(pdb_id) > 5 :\n",
    "            plat_pdb_ids.append(pdb_id)"
   ]
  },
  {
   "cell_type": "code",
   "execution_count": 26,
   "id": "2333d558-4b77-4bcf-a182-47d668777fab",
   "metadata": {},
   "outputs": [
    {
     "data": {
      "text/plain": [
       "4548"
      ]
     },
     "execution_count": 26,
     "metadata": {},
     "output_type": "execute_result"
    }
   ],
   "source": [
    "len(set(plat_pdb_ids))"
   ]
  },
  {
   "cell_type": "code",
   "execution_count": 27,
   "id": "e4671e7a-97b9-42a0-b338-404820074615",
   "metadata": {},
   "outputs": [],
   "source": [
    "plat_pdb_ids = [i.split('_')[1].lower() for i in plat_pdb_ids]"
   ]
  },
  {
   "cell_type": "code",
   "execution_count": 28,
   "id": "9018d970-e6b2-4455-adfa-9ec2775a5833",
   "metadata": {},
   "outputs": [
    {
     "data": {
      "text/plain": [
       "4516"
      ]
     },
     "execution_count": 28,
     "metadata": {},
     "output_type": "execute_result"
    }
   ],
   "source": [
    "len(set(plat_pdb_ids))"
   ]
  },
  {
   "cell_type": "code",
   "execution_count": 14,
   "id": "da893286-b226-4295-8968-fd7f5b838026",
   "metadata": {},
   "outputs": [],
   "source": [
    "platinum_processor = PlatinumProcessor()"
   ]
  },
  {
   "cell_type": "code",
   "execution_count": 21,
   "id": "6f39ee38-0ebb-46bf-8b0f-7bd3c76c2cd7",
   "metadata": {},
   "outputs": [
    {
     "data": {
      "text/plain": [
       "4516"
      ]
     },
     "execution_count": 21,
     "metadata": {},
     "output_type": "execute_result"
    }
   ],
   "source": [
    "len(set(platinum_processor.available_structures.keys()))"
   ]
  },
  {
   "cell_type": "code",
   "execution_count": 30,
   "id": "5a673e65-2018-4ae8-bf17-fe11a1a9907d",
   "metadata": {},
   "outputs": [
    {
     "data": {
      "text/plain": [
       "4516"
      ]
     },
     "execution_count": 30,
     "metadata": {},
     "output_type": "execute_result"
    }
   ],
   "source": [
    "len(set(plat_pdb_ids).intersection(set(platinum_processor.available_structures.keys())))"
   ]
  }
 ],
 "metadata": {
  "kernelspec": {
   "display_name": "Python 3 (ipykernel)",
   "language": "python",
   "name": "python3"
  },
  "language_info": {
   "codemirror_mode": {
    "name": "ipython",
    "version": 3
   },
   "file_extension": ".py",
   "mimetype": "text/x-python",
   "name": "python",
   "nbconvert_exporter": "python",
   "pygments_lexer": "ipython3",
   "version": "3.7.10"
  },
  "widgets": {
   "application/vnd.jupyter.widget-state+json": {
    "state": {},
    "version_major": 2,
    "version_minor": 0
   }
  }
 },
 "nbformat": 4,
 "nbformat_minor": 5
}
