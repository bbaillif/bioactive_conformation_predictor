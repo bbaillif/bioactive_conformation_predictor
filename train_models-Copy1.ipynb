{
 "cells": [
  {
   "cell_type": "code",
   "execution_count": 1,
   "id": "14bf5794-71d5-4c88-b534-b2fd0db7e867",
   "metadata": {
    "tags": []
   },
   "outputs": [],
   "source": [
    "import os\n",
    "import pytorch_lightning as pl\n",
    "import pandas as pd\n",
    "\n",
    "from rdkit import Chem # safe import before ccdc imports\n",
    "from torch_geometric.loader import DataLoader\n",
    "from torch.utils.data import ConcatDataset\n",
    "\n",
    "from conf_ensemble_dataset_in_memory import ConfEnsembleDataset\n",
    "from litschnet import LitSchNet\n",
    "from molsize_model import MolSizeModel\n",
    "from pytorch_lightning.callbacks.early_stopping import EarlyStopping\n",
    "from pytorch_lightning.loggers import TensorBoardLogger\n",
    "from tqdm import tqdm"
   ]
  },
  {
   "cell_type": "code",
   "execution_count": 2,
   "id": "0a6e3d43-8fa2-4693-b4c3-08a4ce31d9bc",
   "metadata": {},
   "outputs": [
    {
     "name": "stderr",
     "output_type": "stream",
     "text": [
      "Global seed set to 42\n"
     ]
    },
    {
     "data": {
      "text/plain": [
       "42"
      ]
     },
     "execution_count": 2,
     "metadata": {},
     "output_type": "execute_result"
    }
   ],
   "source": [
    "pl.seed_everything(42, workers=True)"
   ]
  },
  {
   "cell_type": "markdown",
   "id": "a8cce14b-71e8-4987-aa40-acf9868528c1",
   "metadata": {},
   "source": [
    "# Data preparation"
   ]
  },
  {
   "cell_type": "code",
   "execution_count": 3,
   "id": "a5ea2045-3aab-4d08-ac23-808e42e3f87a",
   "metadata": {
    "scrolled": true,
    "tags": []
   },
   "outputs": [
    {
     "name": "stderr",
     "output_type": "stream",
     "text": [
      "Processing...\n",
      "  1%|▍                                        | 51/4548 [00:32<59:16,  1.26it/s]RDKit ERROR: [17:54:10] UFFTYPER: Unrecognized charge state for atom: 13\n",
      "RDKit ERROR: [17:54:10] UFFTYPER: Unrecognized charge state for atom: 13\n",
      "RDKit ERROR: [17:54:10] UFFTYPER: Unrecognized charge state for atom: 13\n",
      "RDKit ERROR: [17:54:10] UFFTYPER: Unrecognized charge state for atom: 13\n",
      "[17:54:10] UFFTYPER: Unrecognized charge state for atom: 13\n",
      "RDKit ERROR: [17:54:10] UFFTYPER: Unrecognized charge state for atom: 13\n",
      "[17:54:10] UFFTYPER: Unrecognized charge state for atom: 13\n",
      "[17:54:10] UFFTYPER: Unrecognized charge state for atom: 13\n",
      "[17:54:10] UFFTYPER: Unrecognized charge state for atom: 13\n",
      "[17:54:10] UFFTYPER: Unrecognized charge state for atom: 13\n",
      "RDKit ERROR: [17:54:10] UFFTYPER: Unrecognized charge state for atom: 13\n",
      "RDKit ERROR: [17:54:10] UFFTYPER: Unrecognized charge state for atom: 13\n",
      "[17:54:10] UFFTYPER: Unrecognized charge state for atom: 13\n",
      "[17:54:10] UFFTYPER: Unrecognized charge state for atom: 13\n",
      "RDKit ERROR: [17:54:10] UFFTYPER: Unrecognized charge state for atom: 13\n",
      "RDKit ERROR: [17:54:10] UFFTYPER: Unrecognized charge state for atom: 13\n",
      "RDKit ERROR: [17:54:10] UFFTYPER: Unrecognized charge state for atom: 13\n",
      "[17:54:10] UFFTYPER: Unrecognized charge state for atom: 13\n",
      "[17:54:10] UFFTYPER: Unrecognized charge state for atom: 13\n",
      "[17:54:10] UFFTYPER: Unrecognized charge state for atom: 13\n",
      "RDKit ERROR: [17:54:10] UFFTYPER: Unrecognized charge state for atom: 13\n",
      "RDKit ERROR: [17:54:10] UFFTYPER: Unrecognized charge state for atom: 13\n",
      "[17:54:10] UFFTYPER: Unrecognized charge state for atom: 13\n",
      "[17:54:10] UFFTYPER: Unrecognized charge state for atom: 13\n",
      "RDKit ERROR: [17:54:10] UFFTYPER: Unrecognized charge state for atom: 13\n",
      "RDKit ERROR: [17:54:10] UFFTYPER: Unrecognized charge state for atom: 13\n",
      "RDKit ERROR: [17:54:10] UFFTYPER: Unrecognized charge state for atom: 13\n",
      "[17:54:10] UFFTYPER: Unrecognized charge state for atom: 13\n",
      "[17:54:10] UFFTYPER: Unrecognized charge state for atom: 13\n",
      "[17:54:10] UFFTYPER: Unrecognized charge state for atom: 13\n",
      "RDKit ERROR: [17:54:10] UFFTYPER: Unrecognized charge state for atom: 13\n",
      "RDKit ERROR: [17:54:10] UFFTYPER: Unrecognized charge state for atom: 13\n",
      "RDKit ERROR: [17:54:10] UFFTYPER: Unrecognized charge state for atom: 13\n",
      "[17:54:10] UFFTYPER: Unrecognized charge state for atom: 13\n",
      "[17:54:10] UFFTYPER: Unrecognized charge state for atom: 13\n",
      "[17:54:10] UFFTYPER: Unrecognized charge state for atom: 13\n",
      "RDKit ERROR: [17:54:10] UFFTYPER: Unrecognized charge state for atom: 13\n",
      "RDKit ERROR: [17:54:10] UFFTYPER: Unrecognized charge state for atom: 13\n",
      "[17:54:10] UFFTYPER: Unrecognized charge state for atom: 13\n",
      "[17:54:10] UFFTYPER: Unrecognized charge state for atom: 13\n",
      "RDKit ERROR: [17:54:10] UFFTYPER: Unrecognized charge state for atom: 13\n",
      "[17:54:10] UFFTYPER: Unrecognized charge state for atom: 13\n",
      "RDKit ERROR: [17:54:10] UFFTYPER: Unrecognized charge state for atom: 13\n",
      "[17:54:10] UFFTYPER: Unrecognized charge state for atom: 13\n",
      "RDKit ERROR: [17:54:10] UFFTYPER: Unrecognized charge state for atom: 13\n",
      "[17:54:10] UFFTYPER: Unrecognized charge state for atom: 13\n",
      "RDKit ERROR: [17:54:10] UFFTYPER: Unrecognized charge state for atom: 13\n",
      "[17:54:10] UFFTYPER: Unrecognized charge state for atom: 13\n",
      "RDKit ERROR: [17:54:10] UFFTYPER: Unrecognized charge state for atom: 13\n",
      "[17:54:10] UFFTYPER: Unrecognized charge state for atom: 13\n",
      "RDKit ERROR: [17:54:10] UFFTYPER: Unrecognized charge state for atom: 13\n",
      "[17:54:10] UFFTYPER: Unrecognized charge state for atom: 13\n",
      "RDKit ERROR: [17:54:10] UFFTYPER: Unrecognized charge state for atom: 13\n",
      "[17:54:10] UFFTYPER: Unrecognized charge state for atom: 13\n",
      "RDKit ERROR: [17:54:10] UFFTYPER: Unrecognized charge state for atom: 13\n",
      "[17:54:10] UFFTYPER: Unrecognized charge state for atom: 13\n",
      "RDKit ERROR: [17:54:10] UFFTYPER: Unrecognized charge state for atom: 13\n",
      "[17:54:10] UFFTYPER: Unrecognized charge state for atom: 13\n",
      "RDKit ERROR: [17:54:10] UFFTYPER: Unrecognized charge state for atom: 13\n",
      "[17:54:10] UFFTYPER: Unrecognized charge state for atom: 13\n",
      "RDKit ERROR: [17:54:10] UFFTYPER: Unrecognized charge state for atom: 13\n",
      "[17:54:10] UFFTYPER: Unrecognized charge state for atom: 13\n",
      "RDKit ERROR: [17:54:10] UFFTYPER: Unrecognized charge state for atom: 13\n",
      "[17:54:10] UFFTYPER: Unrecognized charge state for atom: 13\n",
      "RDKit ERROR: [17:54:10] UFFTYPER: Unrecognized charge state for atom: 13\n",
      "[17:54:10] UFFTYPER: Unrecognized charge state for atom: 13\n",
      "RDKit ERROR: [17:54:10] UFFTYPER: Unrecognized charge state for atom: 13\n",
      "[17:54:10] UFFTYPER: Unrecognized charge state for atom: 13\n",
      "RDKit ERROR: [17:54:10] UFFTYPER: Unrecognized charge state for atom: 13\n",
      "[17:54:10] UFFTYPER: Unrecognized charge state for atom: 13\n",
      "RDKit ERROR: [17:54:10] UFFTYPER: Unrecognized charge state for atom: 13\n",
      "[17:54:10] UFFTYPER: Unrecognized charge state for atom: 13\n",
      "RDKit ERROR: [17:54:10] UFFTYPER: Unrecognized charge state for atom: 13\n",
      "[17:54:10] UFFTYPER: Unrecognized charge state for atom: 13\n",
      "RDKit ERROR: [17:54:10] UFFTYPER: Unrecognized charge state for atom: 13\n",
      "[17:54:10] UFFTYPER: Unrecognized charge state for atom: 13\n",
      "RDKit ERROR: [17:54:10] UFFTYPER: Unrecognized charge state for atom: 13\n",
      "[17:54:10] UFFTYPER: Unrecognized charge state for atom: 13\n",
      "RDKit ERROR: [17:54:10] UFFTYPER: Unrecognized charge state for atom: 13\n",
      "[17:54:10] UFFTYPER: Unrecognized charge state for atom: 13\n",
      "RDKit ERROR: [17:54:10] UFFTYPER: Unrecognized charge state for atom: 13\n",
      "[17:54:10] UFFTYPER: Unrecognized charge state for atom: 13\n",
      "RDKit ERROR: [17:54:10] UFFTYPER: Unrecognized charge state for atom: 13\n",
      "[17:54:10] UFFTYPER: Unrecognized charge state for atom: 13\n",
      "RDKit ERROR: [17:54:10] UFFTYPER: Unrecognized charge state for atom: 13\n",
      "[17:54:10] UFFTYPER: Unrecognized charge state for atom: 13\n",
      "RDKit ERROR: [17:54:10] UFFTYPER: Unrecognized charge state for atom: 13\n",
      "[17:54:10] UFFTYPER: Unrecognized charge state for atom: 13\n",
      "RDKit ERROR: [17:54:10] UFFTYPER: Unrecognized charge state for atom: 13\n",
      "[17:54:10] UFFTYPER: Unrecognized charge state for atom: 13\n",
      "RDKit ERROR: [17:54:10] UFFTYPER: Unrecognized charge state for atom: 13\n",
      "[17:54:10] UFFTYPER: Unrecognized charge state for atom: 13\n",
      "RDKit ERROR: [17:54:10] UFFTYPER: Unrecognized charge state for atom: 13\n",
      "[17:54:10] UFFTYPER: Unrecognized charge state for atom: 13\n",
      "RDKit ERROR: [17:54:10] UFFTYPER: Unrecognized charge state for atom: 13\n",
      "[17:54:10] UFFTYPER: Unrecognized charge state for atom: 13\n",
      "RDKit ERROR: [17:54:10] UFFTYPER: Unrecognized charge state for atom: 13\n",
      "RDKit ERROR: [17:54:10] UFFTYPER: Unrecognized charge state for atom: 13\n",
      "[17:54:10] UFFTYPER: Unrecognized charge state for atom: 13\n",
      "[17:54:10] UFFTYPER: Unrecognized charge state for atom: 13\n",
      "RDKit ERROR: [17:54:10] UFFTYPER: Unrecognized charge state for atom: 13\n",
      "[17:54:10] UFFTYPER: Unrecognized charge state for atom: 13\n",
      "RDKit ERROR: [17:54:10] UFFTYPER: Unrecognized charge state for atom: 13\n",
      "[17:54:10] UFFTYPER: Unrecognized charge state for atom: 13\n",
      "RDKit ERROR: [17:54:10] UFFTYPER: Unrecognized charge state for atom: 13\n",
      "[17:54:10] UFFTYPER: Unrecognized charge state for atom: 13\n",
      "RDKit ERROR: [17:54:10] UFFTYPER: Unrecognized charge state for atom: 13\n",
      "[17:54:10] UFFTYPER: Unrecognized charge state for atom: 13\n",
      "RDKit ERROR: [17:54:10] UFFTYPER: Unrecognized charge state for atom: 13\n",
      "[17:54:10] UFFTYPER: Unrecognized charge state for atom: 13\n",
      "RDKit ERROR: [17:54:10] UFFTYPER: Unrecognized charge state for atom: 13\n",
      "[17:54:10] UFFTYPER: Unrecognized charge state for atom: 13\n",
      "RDKit ERROR: [17:54:10] UFFTYPER: Unrecognized charge state for atom: 13\n",
      "[17:54:10] UFFTYPER: Unrecognized charge state for atom: 13\n",
      "RDKit ERROR: [17:54:10] UFFTYPER: Unrecognized charge state for atom: 13\n",
      "[17:54:10] UFFTYPER: Unrecognized charge state for atom: 13\n",
      "RDKit ERROR: [17:54:10] UFFTYPER: Unrecognized charge state for atom: 13\n",
      "[17:54:10] UFFTYPER: Unrecognized charge state for atom: 13\n",
      "RDKit ERROR: [17:54:10] UFFTYPER: Unrecognized charge state for atom: 13\n",
      "[17:54:10] UFFTYPER: Unrecognized charge state for atom: 13\n",
      "RDKit ERROR: [17:54:10] UFFTYPER: Unrecognized charge state for atom: 13\n",
      "[17:54:10] UFFTYPER: Unrecognized charge state for atom: 13\n",
      "RDKit ERROR: [17:54:10] UFFTYPER: Unrecognized charge state for atom: 13\n",
      "[17:54:10] UFFTYPER: Unrecognized charge state for atom: 13\n",
      "RDKit ERROR: [17:54:10] UFFTYPER: Unrecognized charge state for atom: 13\n",
      "[17:54:10] UFFTYPER: Unrecognized charge state for atom: 13\n",
      "RDKit ERROR: [17:54:10] UFFTYPER: Unrecognized charge state for atom: 13\n",
      "[17:54:10] UFFTYPER: Unrecognized charge state for atom: 13\n",
      "RDKit ERROR: [17:54:10] UFFTYPER: Unrecognized charge state for atom: 13\n",
      "[17:54:10] UFFTYPER: Unrecognized charge state for atom: 13\n",
      "RDKit ERROR: [17:54:10] UFFTYPER: Unrecognized charge state for atom: 13\n",
      "[17:54:10] UFFTYPER: Unrecognized charge state for atom: 13\n",
      "RDKit ERROR: [17:54:10] UFFTYPER: Unrecognized charge state for atom: 13\n",
      "[17:54:10] UFFTYPER: Unrecognized charge state for atom: 13\n",
      "RDKit ERROR: [17:54:10] UFFTYPER: Unrecognized charge state for atom: 13\n",
      "[17:54:10] UFFTYPER: Unrecognized charge state for atom: 13\n",
      "RDKit ERROR: [17:54:10] UFFTYPER: Unrecognized charge state for atom: 13\n",
      "[17:54:10] UFFTYPER: Unrecognized charge state for atom: 13\n",
      "RDKit ERROR: [17:54:10] UFFTYPER: Unrecognized charge state for atom: 13\n",
      "[17:54:10] UFFTYPER: Unrecognized charge state for atom: 13\n",
      "RDKit ERROR: [17:54:10] UFFTYPER: Unrecognized charge state for atom: 13\n",
      "[17:54:10] UFFTYPER: Unrecognized charge state for atom: 13\n",
      "RDKit ERROR: [17:54:10] UFFTYPER: Unrecognized charge state for atom: 13\n",
      "[17:54:10] UFFTYPER: Unrecognized charge state for atom: 13\n",
      "RDKit ERROR: [17:54:10] UFFTYPER: Unrecognized charge state for atom: 13\n",
      "[17:54:10] UFFTYPER: Unrecognized charge state for atom: 13\n",
      "RDKit ERROR: [17:54:10] UFFTYPER: Unrecognized charge state for atom: 13\n",
      "[17:54:10] UFFTYPER: Unrecognized charge state for atom: 13\n",
      "RDKit ERROR: [17:54:10] UFFTYPER: Unrecognized charge state for atom: 13\n",
      "[17:54:10] UFFTYPER: Unrecognized charge state for atom: 13\n",
      "RDKit ERROR: [17:54:10] UFFTYPER: Unrecognized charge state for atom: 13\n",
      "[17:54:10] UFFTYPER: Unrecognized charge state for atom: 13\n",
      "RDKit ERROR: [17:54:10] UFFTYPER: Unrecognized charge state for atom: 13\n",
      "[17:54:10] UFFTYPER: Unrecognized charge state for atom: 13\n",
      "RDKit ERROR: [17:54:10] UFFTYPER: Unrecognized charge state for atom: 13\n",
      "[17:54:10] UFFTYPER: Unrecognized charge state for atom: 13\n",
      "RDKit ERROR: [17:54:10] UFFTYPER: Unrecognized charge state for atom: 13\n",
      "[17:54:10] UFFTYPER: Unrecognized charge state for atom: 13\n",
      "RDKit ERROR: [17:54:10] UFFTYPER: Unrecognized charge state for atom: 13\n",
      "[17:54:10] UFFTYPER: Unrecognized charge state for atom: 13\n",
      "RDKit ERROR: [17:54:10] UFFTYPER: Unrecognized charge state for atom: 13\n",
      "[17:54:10] UFFTYPER: Unrecognized charge state for atom: 13\n",
      "RDKit ERROR: [17:54:10] UFFTYPER: Unrecognized charge state for atom: 13\n",
      "[17:54:10] UFFTYPER: Unrecognized charge state for atom: 13\n",
      "RDKit ERROR: [17:54:10] UFFTYPER: Unrecognized charge state for atom: 13\n",
      "[17:54:10] UFFTYPER: Unrecognized charge state for atom: 13\n",
      "RDKit ERROR: [17:54:10] UFFTYPER: Unrecognized charge state for atom: 13\n",
      "[17:54:10] UFFTYPER: Unrecognized charge state for atom: 13\n",
      "RDKit ERROR: [17:54:10] UFFTYPER: Unrecognized charge state for atom: 13\n",
      "[17:54:10] UFFTYPER: Unrecognized charge state for atom: 13\n",
      "RDKit ERROR: [17:54:10] UFFTYPER: Unrecognized charge state for atom: 13\n",
      "[17:54:10] UFFTYPER: Unrecognized charge state for atom: 13\n",
      "RDKit ERROR: [17:54:10] UFFTYPER: Unrecognized charge state for atom: 13\n",
      "[17:54:10] UFFTYPER: Unrecognized charge state for atom: 13\n",
      "RDKit ERROR: [17:54:10] UFFTYPER: Unrecognized charge state for atom: 13\n",
      "[17:54:10] UFFTYPER: Unrecognized charge state for atom: 13\n",
      "RDKit ERROR: [17:54:10] UFFTYPER: Unrecognized charge state for atom: 13\n",
      "[17:54:10] UFFTYPER: Unrecognized charge state for atom: 13\n",
      "RDKit ERROR: [17:54:10] UFFTYPER: Unrecognized charge state for atom: 13\n",
      "[17:54:10] UFFTYPER: Unrecognized charge state for atom: 13\n",
      "RDKit ERROR: [17:54:10] UFFTYPER: Unrecognized charge state for atom: 13\n",
      "[17:54:10] UFFTYPER: Unrecognized charge state for atom: 13\n",
      "RDKit ERROR: [17:54:10] UFFTYPER: Unrecognized charge state for atom: 13\n",
      "[17:54:10] UFFTYPER: Unrecognized charge state for atom: 13\n",
      "RDKit ERROR: [17:54:10] UFFTYPER: Unrecognized charge state for atom: 13\n",
      "[17:54:10] UFFTYPER: Unrecognized charge state for atom: 13\n",
      "RDKit ERROR: [17:54:10] UFFTYPER: Unrecognized charge state for atom: 13\n",
      "[17:54:10] UFFTYPER: Unrecognized charge state for atom: 13\n",
      "RDKit ERROR: [17:54:10] UFFTYPER: Unrecognized charge state for atom: 13\n",
      "[17:54:10] UFFTYPER: Unrecognized charge state for atom: 13\n",
      "RDKit ERROR: [17:54:10] UFFTYPER: Unrecognized charge state for atom: 13\n",
      "[17:54:10] UFFTYPER: Unrecognized charge state for atom: 13\n",
      "RDKit ERROR: [17:54:10] UFFTYPER: Unrecognized charge state for atom: 13\n",
      "[17:54:10] UFFTYPER: Unrecognized charge state for atom: 13\n",
      "RDKit ERROR: [17:54:10] UFFTYPER: Unrecognized charge state for atom: 13\n",
      "[17:54:10] UFFTYPER: Unrecognized charge state for atom: 13\n",
      "RDKit ERROR: [17:54:10] UFFTYPER: Unrecognized charge state for atom: 13\n",
      "[17:54:10] UFFTYPER: Unrecognized charge state for atom: 13\n",
      "RDKit ERROR: [17:54:10] UFFTYPER: Unrecognized charge state for atom: 13\n",
      "[17:54:10] UFFTYPER: Unrecognized charge state for atom: 13\n",
      "RDKit ERROR: [17:54:10] UFFTYPER: Unrecognized charge state for atom: 13\n",
      "[17:54:10] UFFTYPER: Unrecognized charge state for atom: 13\n",
      "  2%|▊                                        | 91/4548 [01:11<49:25,  1.50it/s]RDKit ERROR: [17:54:50] UFFTYPER: Unrecognized charge state for atom: 1\n",
      "[17:54:50] UFFTYPER: Unrecognized charge state for atom: 1\n",
      "RDKit ERROR: [17:54:50] UFFTYPER: Unrecognized charge state for atom: 1\n",
      "RDKit ERROR: [17:54:50] UFFTYPER: Unrecognized charge state for atom: 1\n",
      "[17:54:50] UFFTYPER: Unrecognized charge state for atom: 1\n",
      "[17:54:50] UFFTYPER: Unrecognized charge state for atom: 1\n",
      "RDKit ERROR: [17:54:50] UFFTYPER: Unrecognized charge state for atom: 1\n",
      "[17:54:50] UFFTYPER: Unrecognized charge state for atom: 1\n",
      "RDKit ERROR: [17:54:50] UFFTYPER: Unrecognized charge state for atom: 1\n",
      "[17:54:50] UFFTYPER: Unrecognized charge state for atom: 1\n",
      "RDKit ERROR: [17:54:50] UFFTYPER: Unrecognized charge state for atom: 1\n",
      "[17:54:50] UFFTYPER: Unrecognized charge state for atom: 1\n",
      "RDKit ERROR: [17:54:50] UFFTYPER: Unrecognized charge state for atom: 1\n",
      "[17:54:50] UFFTYPER: Unrecognized charge state for atom: 1\n",
      "RDKit ERROR: [17:54:50] UFFTYPER: Unrecognized charge state for atom: 1\n",
      "[17:54:50] UFFTYPER: Unrecognized charge state for atom: 1\n",
      "RDKit ERROR: [17:54:50] UFFTYPER: Unrecognized charge state for atom: 1\n",
      "[17:54:50] UFFTYPER: Unrecognized charge state for atom: 1\n",
      "RDKit ERROR: [17:54:50] UFFTYPER: Unrecognized charge state for atom: 1\n",
      "[17:54:50] UFFTYPER: Unrecognized charge state for atom: 1\n",
      "RDKit ERROR: [17:54:50] UFFTYPER: Unrecognized charge state for atom: 1\n",
      "[17:54:50] UFFTYPER: Unrecognized charge state for atom: 1\n",
      "RDKit ERROR: [17:54:50] UFFTYPER: Unrecognized charge state for atom: 1\n",
      "[17:54:50] UFFTYPER: Unrecognized charge state for atom: 1\n",
      "RDKit ERROR: [17:54:50] UFFTYPER: Unrecognized charge state for atom: 1\n",
      "[17:54:50] UFFTYPER: Unrecognized charge state for atom: 1\n",
      "RDKit ERROR: [17:54:50] UFFTYPER: Unrecognized charge state for atom: 1\n",
      "[17:54:50] UFFTYPER: Unrecognized charge state for atom: 1\n",
      "RDKit ERROR: [17:54:50] UFFTYPER: Unrecognized charge state for atom: 1\n",
      "[17:54:50] UFFTYPER: Unrecognized charge state for atom: 1\n",
      "RDKit ERROR: [17:54:50] UFFTYPER: Unrecognized charge state for atom: 1\n",
      "[17:54:50] UFFTYPER: Unrecognized charge state for atom: 1\n",
      "RDKit ERROR: [17:54:50] UFFTYPER: Unrecognized charge state for atom: 1\n",
      "[17:54:50] UFFTYPER: Unrecognized charge state for atom: 1\n",
      "RDKit ERROR: [17:54:50] UFFTYPER: Unrecognized charge state for atom: 1\n",
      "[17:54:50] UFFTYPER: Unrecognized charge state for atom: 1\n",
      "RDKit ERROR: [17:54:50] UFFTYPER: Unrecognized charge state for atom: 1\n",
      "[17:54:50] UFFTYPER: Unrecognized charge state for atom: 1\n",
      "RDKit ERROR: [17:54:50] UFFTYPER: Unrecognized charge state for atom: 1\n",
      "[17:54:50] UFFTYPER: Unrecognized charge state for atom: 1\n",
      "RDKit ERROR: [17:54:50] UFFTYPER: Unrecognized charge state for atom: 1\n",
      "[17:54:50] UFFTYPER: Unrecognized charge state for atom: 1\n",
      "RDKit ERROR: [17:54:50] UFFTYPER: Unrecognized charge state for atom: 1\n",
      "[17:54:50] UFFTYPER: Unrecognized charge state for atom: 1\n",
      "RDKit ERROR: [17:54:50] UFFTYPER: Unrecognized charge state for atom: 1\n",
      "[17:54:50] UFFTYPER: Unrecognized charge state for atom: 1\n",
      "RDKit ERROR: [17:54:50] UFFTYPER: Unrecognized charge state for atom: 1\n",
      "[17:54:50] UFFTYPER: Unrecognized charge state for atom: 1\n",
      "RDKit ERROR: [17:54:50] UFFTYPER: Unrecognized charge state for atom: 1\n",
      "[17:54:50] UFFTYPER: Unrecognized charge state for atom: 1\n",
      "RDKit ERROR: [17:54:50] UFFTYPER: Unrecognized charge state for atom: 1\n",
      "[17:54:50] UFFTYPER: Unrecognized charge state for atom: 1\n",
      "RDKit ERROR: [17:54:50] UFFTYPER: Unrecognized charge state for atom: 1\n",
      "[17:54:50] UFFTYPER: Unrecognized charge state for atom: 1\n",
      "RDKit ERROR: [17:54:50] UFFTYPER: Unrecognized charge state for atom: 1\n",
      "[17:54:50] UFFTYPER: Unrecognized charge state for atom: 1\n",
      "RDKit ERROR: [17:54:50] UFFTYPER: Unrecognized charge state for atom: 1\n",
      "[17:54:50] UFFTYPER: Unrecognized charge state for atom: 1\n",
      "RDKit ERROR: [17:54:50] UFFTYPER: Unrecognized charge state for atom: 1\n",
      "[17:54:50] UFFTYPER: Unrecognized charge state for atom: 1\n",
      "RDKit ERROR: [17:54:50] UFFTYPER: Unrecognized charge state for atom: 1\n",
      "[17:54:50] UFFTYPER: Unrecognized charge state for atom: 1\n",
      "RDKit ERROR: [17:54:50] UFFTYPER: Unrecognized charge state for atom: 1\n",
      "[17:54:50] UFFTYPER: Unrecognized charge state for atom: 1\n",
      "RDKit ERROR: [17:54:50] UFFTYPER: Unrecognized charge state for atom: 1\n",
      "[17:54:50] UFFTYPER: Unrecognized charge state for atom: 1\n",
      "RDKit ERROR: [17:54:50] UFFTYPER: Unrecognized charge state for atom: 1\n",
      "[17:54:50] UFFTYPER: Unrecognized charge state for atom: 1\n",
      "RDKit ERROR: [17:54:50] UFFTYPER: Unrecognized charge state for atom: 1\n",
      "[17:54:50] UFFTYPER: Unrecognized charge state for atom: 1\n",
      "RDKit ERROR: [17:54:50] UFFTYPER: Unrecognized charge state for atom: 1\n",
      "[17:54:50] UFFTYPER: Unrecognized charge state for atom: 1\n",
      "RDKit ERROR: [17:54:50] UFFTYPER: Unrecognized charge state for atom: 1\n",
      "[17:54:50] UFFTYPER: Unrecognized charge state for atom: 1\n",
      "RDKit ERROR: [17:54:50] UFFTYPER: Unrecognized charge state for atom: 1\n",
      "[17:54:50] UFFTYPER: Unrecognized charge state for atom: 1\n",
      "RDKit ERROR: [17:54:50] UFFTYPER: Unrecognized charge state for atom: 1\n",
      "[17:54:50] UFFTYPER: Unrecognized charge state for atom: 1\n",
      "RDKit ERROR: [17:54:50] UFFTYPER: Unrecognized charge state for atom: 1\n",
      "[17:54:50] UFFTYPER: Unrecognized charge state for atom: 1\n",
      "RDKit ERROR: [17:54:50] UFFTYPER: Unrecognized charge state for atom: 1\n",
      "[17:54:50] UFFTYPER: Unrecognized charge state for atom: 1\n",
      "RDKit ERROR: [17:54:50] UFFTYPER: Unrecognized charge state for atom: 1\n",
      "[17:54:50] UFFTYPER: Unrecognized charge state for atom: 1\n",
      "RDKit ERROR: [17:54:50] UFFTYPER: Unrecognized charge state for atom: 1\n",
      "[17:54:50] UFFTYPER: Unrecognized charge state for atom: 1\n",
      "RDKit ERROR: [17:54:50] UFFTYPER: Unrecognized charge state for atom: 1\n",
      "[17:54:50] UFFTYPER: Unrecognized charge state for atom: 1\n",
      "RDKit ERROR: [17:54:50] UFFTYPER: Unrecognized charge state for atom: 1\n",
      "[17:54:50] UFFTYPER: Unrecognized charge state for atom: 1\n",
      "RDKit ERROR: [17:54:50] UFFTYPER: Unrecognized charge state for atom: 1\n",
      "[17:54:50] UFFTYPER: Unrecognized charge state for atom: 1\n",
      "RDKit ERROR: [17:54:50] UFFTYPER: Unrecognized charge state for atom: 1\n",
      "[17:54:50] UFFTYPER: Unrecognized charge state for atom: 1\n",
      "RDKit ERROR: [17:54:50] UFFTYPER: Unrecognized charge state for atom: 1\n",
      "[17:54:50] UFFTYPER: Unrecognized charge state for atom: 1\n",
      "RDKit ERROR: [17:54:50] UFFTYPER: Unrecognized charge state for atom: 1\n",
      "[17:54:50] UFFTYPER: Unrecognized charge state for atom: 1\n",
      "RDKit ERROR: [17:54:50] UFFTYPER: Unrecognized charge state for atom: 1\n",
      "[17:54:50] UFFTYPER: Unrecognized charge state for atom: 1\n",
      "RDKit ERROR: [17:54:50] UFFTYPER: Unrecognized charge state for atom: 1\n",
      "[17:54:50] UFFTYPER: Unrecognized charge state for atom: 1\n",
      "RDKit ERROR: [17:54:50] UFFTYPER: Unrecognized charge state for atom: 1\n",
      "[17:54:50] UFFTYPER: Unrecognized charge state for atom: 1\n",
      "RDKit ERROR: [17:54:50] UFFTYPER: Unrecognized charge state for atom: 1\n",
      "[17:54:50] UFFTYPER: Unrecognized charge state for atom: 1\n",
      "RDKit ERROR: [17:54:50] UFFTYPER: Unrecognized charge state for atom: 1\n",
      "[17:54:50] UFFTYPER: Unrecognized charge state for atom: 1\n",
      "RDKit ERROR: [17:54:50] UFFTYPER: Unrecognized charge state for atom: 1\n",
      "[17:54:50] UFFTYPER: Unrecognized charge state for atom: 1\n",
      "RDKit ERROR: [17:54:50] UFFTYPER: Unrecognized charge state for atom: 1\n",
      "[17:54:50] UFFTYPER: Unrecognized charge state for atom: 1\n",
      "RDKit ERROR: [17:54:50] UFFTYPER: Unrecognized charge state for atom: 1\n",
      "[17:54:50] UFFTYPER: Unrecognized charge state for atom: 1\n",
      "RDKit ERROR: [17:54:50] UFFTYPER: Unrecognized charge state for atom: 1\n",
      "[17:54:50] UFFTYPER: Unrecognized charge state for atom: 1\n",
      "RDKit ERROR: [17:54:50] UFFTYPER: Unrecognized charge state for atom: 1\n",
      "[17:54:50] UFFTYPER: Unrecognized charge state for atom: 1\n",
      "RDKit ERROR: [17:54:50] UFFTYPER: Unrecognized charge state for atom: 1\n",
      "[17:54:50] UFFTYPER: Unrecognized charge state for atom: 1\n",
      "RDKit ERROR: [17:54:50] UFFTYPER: Unrecognized charge state for atom: 1\n",
      "[17:54:50] UFFTYPER: Unrecognized charge state for atom: 1\n",
      "RDKit ERROR: [17:54:50] UFFTYPER: Unrecognized charge state for atom: 1\n",
      "[17:54:50] UFFTYPER: Unrecognized charge state for atom: 1\n",
      "RDKit ERROR: [17:54:50] UFFTYPER: Unrecognized charge state for atom: 1\n",
      "[17:54:50] UFFTYPER: Unrecognized charge state for atom: 1\n",
      "RDKit ERROR: [17:54:50] UFFTYPER: Unrecognized charge state for atom: 1\n",
      "[17:54:50] UFFTYPER: Unrecognized charge state for atom: 1\n",
      "RDKit ERROR: [17:54:50] UFFTYPER: Unrecognized charge state for atom: 1\n",
      "[17:54:50] UFFTYPER: Unrecognized charge state for atom: 1\n",
      "RDKit ERROR: [17:54:50] UFFTYPER: Unrecognized charge state for atom: 1\n",
      "[17:54:50] UFFTYPER: Unrecognized charge state for atom: 1\n",
      "RDKit ERROR: [17:54:50] UFFTYPER: Unrecognized charge state for atom: 1\n",
      "[17:54:50] UFFTYPER: Unrecognized charge state for atom: 1\n",
      "RDKit ERROR: [17:54:50] UFFTYPER: Unrecognized charge state for atom: 1\n",
      "[17:54:50] UFFTYPER: Unrecognized charge state for atom: 1\n",
      "RDKit ERROR: [17:54:50] UFFTYPER: Unrecognized charge state for atom: 1\n",
      "[17:54:50] UFFTYPER: Unrecognized charge state for atom: 1\n",
      "RDKit ERROR: [17:54:50] UFFTYPER: Unrecognized charge state for atom: 1\n",
      "[17:54:50] UFFTYPER: Unrecognized charge state for atom: 1\n",
      "RDKit ERROR: [17:54:50] UFFTYPER: Unrecognized charge state for atom: 1\n",
      "[17:54:50] UFFTYPER: Unrecognized charge state for atom: 1\n",
      "RDKit ERROR: [17:54:50] UFFTYPER: Unrecognized charge state for atom: 1\n",
      "[17:54:50] UFFTYPER: Unrecognized charge state for atom: 1\n",
      "RDKit ERROR: [17:54:50] UFFTYPER: Unrecognized charge state for atom: 1\n",
      "[17:54:50] UFFTYPER: Unrecognized charge state for atom: 1\n",
      "RDKit ERROR: [17:54:50] UFFTYPER: Unrecognized charge state for atom: 1\n",
      "[17:54:50] UFFTYPER: Unrecognized charge state for atom: 1\n",
      "RDKit ERROR: [17:54:50] UFFTYPER: Unrecognized charge state for atom: 1\n",
      "[17:54:50] UFFTYPER: Unrecognized charge state for atom: 1\n",
      "RDKit ERROR: [17:54:50] UFFTYPER: Unrecognized charge state for atom: 1\n",
      "[17:54:50] UFFTYPER: Unrecognized charge state for atom: 1\n",
      "RDKit ERROR: [17:54:50] UFFTYPER: Unrecognized charge state for atom: 1\n",
      "[17:54:50] UFFTYPER: Unrecognized charge state for atom: 1\n",
      "RDKit ERROR: [17:54:50] UFFTYPER: Unrecognized charge state for atom: 1\n",
      "[17:54:50] UFFTYPER: Unrecognized charge state for atom: 1\n",
      "RDKit ERROR: [17:54:50] UFFTYPER: Unrecognized charge state for atom: 1\n",
      "[17:54:50] UFFTYPER: Unrecognized charge state for atom: 1\n",
      "RDKit ERROR: [17:54:50] UFFTYPER: Unrecognized charge state for atom: 1\n",
      "[17:54:50] UFFTYPER: Unrecognized charge state for atom: 1\n",
      "RDKit ERROR: [17:54:50] UFFTYPER: Unrecognized charge state for atom: 1\n",
      "[17:54:50] UFFTYPER: Unrecognized charge state for atom: 1\n",
      "RDKit ERROR: [17:54:50] UFFTYPER: Unrecognized charge state for atom: 1\n",
      "[17:54:50] UFFTYPER: Unrecognized charge state for atom: 1\n",
      "RDKit ERROR: [17:54:50] UFFTYPER: Unrecognized charge state for atom: 1\n",
      "[17:54:50] UFFTYPER: Unrecognized charge state for atom: 1\n",
      "RDKit ERROR: [17:54:50] UFFTYPER: Unrecognized charge state for atom: 1\n",
      "[17:54:50] UFFTYPER: Unrecognized charge state for atom: 1\n",
      "RDKit ERROR: [17:54:50] UFFTYPER: Unrecognized charge state for atom: 1\n",
      "[17:54:50] UFFTYPER: Unrecognized charge state for atom: 1\n",
      "RDKit ERROR: [17:54:50] UFFTYPER: Unrecognized charge state for atom: 1\n",
      "[17:54:50] UFFTYPER: Unrecognized charge state for atom: 1\n",
      "RDKit ERROR: [17:54:50] UFFTYPER: Unrecognized charge state for atom: 1\n",
      "[17:54:50] UFFTYPER: Unrecognized charge state for atom: 1\n",
      "RDKit ERROR: [17:54:50] UFFTYPER: Unrecognized charge state for atom: 1\n",
      "[17:54:50] UFFTYPER: Unrecognized charge state for atom: 1\n",
      "RDKit ERROR: [17:54:50] UFFTYPER: Unrecognized charge state for atom: 1\n",
      "[17:54:50] UFFTYPER: Unrecognized charge state for atom: 1\n",
      "RDKit ERROR: [17:54:50] UFFTYPER: Unrecognized charge state for atom: 1\n",
      "[17:54:50] UFFTYPER: Unrecognized charge state for atom: 1\n",
      "RDKit ERROR: [17:54:50] UFFTYPER: Unrecognized charge state for atom: 1\n",
      "[17:54:50] UFFTYPER: Unrecognized charge state for atom: 1\n",
      "RDKit ERROR: [17:54:50] UFFTYPER: Unrecognized charge state for atom: 1\n",
      "[17:54:50] UFFTYPER: Unrecognized charge state for atom: 1\n",
      "RDKit ERROR: [17:54:50] UFFTYPER: Unrecognized charge state for atom: 1\n",
      "[17:54:50] UFFTYPER: Unrecognized charge state for atom: 1\n",
      "RDKit ERROR: [17:54:50] UFFTYPER: Unrecognized charge state for atom: 1\n",
      "[17:54:50] UFFTYPER: Unrecognized charge state for atom: 1\n",
      "RDKit ERROR: [17:54:50] UFFTYPER: Unrecognized charge state for atom: 1\n",
      "[17:54:50] UFFTYPER: Unrecognized charge state for atom: 1\n",
      "RDKit ERROR: [17:54:50] UFFTYPER: Unrecognized charge state for atom: 1\n",
      "[17:54:50] UFFTYPER: Unrecognized charge state for atom: 1\n",
      "RDKit ERROR: [17:54:50] UFFTYPER: Unrecognized charge state for atom: 1\n",
      "[17:54:50] UFFTYPER: Unrecognized charge state for atom: 1\n",
      "RDKit ERROR: [17:54:50] UFFTYPER: Unrecognized charge state for atom: 1\n",
      "[17:54:50] UFFTYPER: Unrecognized charge state for atom: 1\n",
      "RDKit ERROR: [17:54:50] UFFTYPER: Unrecognized charge state for atom: 1\n",
      "[17:54:50] UFFTYPER: Unrecognized charge state for atom: 1\n",
      "RDKit ERROR: [17:54:50] UFFTYPER: Unrecognized charge state for atom: 1\n",
      "[17:54:50] UFFTYPER: Unrecognized charge state for atom: 1\n",
      "RDKit ERROR: [17:54:50] UFFTYPER: Unrecognized charge state for atom: 1\n",
      "[17:54:50] UFFTYPER: Unrecognized charge state for atom: 1\n",
      "  5%|██                                      | 236/4548 [02:34<41:50,  1.72it/s]RDKit ERROR: [17:56:12] UFFTYPER: Unrecognized charge state for atom: 9\n",
      "[17:56:12] UFFTYPER: Unrecognized charge state for atom: 9\n",
      "RDKit ERROR: [17:56:12] UFFTYPER: Unrecognized charge state for atom: 9\n",
      "[17:56:12] UFFTYPER: Unrecognized charge state for atom: 9\n",
      "RDKit ERROR: [17:56:12] UFFTYPER: Unrecognized charge state for atom: 9\n",
      "[17:56:12] UFFTYPER: Unrecognized charge state for atom: 9\n",
      "RDKit ERROR: [17:56:12] UFFTYPER: Unrecognized charge state for atom: 9\n",
      "[17:56:12] UFFTYPER: Unrecognized charge state for atom: 9\n",
      "RDKit ERROR: [17:56:12] UFFTYPER: Unrecognized charge state for atom: 9\n",
      "[17:56:12] UFFTYPER: Unrecognized charge state for atom: 9\n",
      "RDKit ERROR: [17:56:12] UFFTYPER: Unrecognized charge state for atom: 9\n",
      "[17:56:12] UFFTYPER: Unrecognized charge state for atom: 9\n",
      "RDKit ERROR: [17:56:12] UFFTYPER: Unrecognized charge state for atom: 9\n",
      "[17:56:12] UFFTYPER: Unrecognized charge state for atom: 9\n",
      "RDKit ERROR: [17:56:12] UFFTYPER: Unrecognized charge state for atom: 9\n",
      "[17:56:12] UFFTYPER: Unrecognized charge state for atom: 9\n",
      "RDKit ERROR: [17:56:12] UFFTYPER: Unrecognized charge state for atom: 9\n",
      "[17:56:12] UFFTYPER: Unrecognized charge state for atom: 9\n",
      "RDKit ERROR: [17:56:12] UFFTYPER: Unrecognized charge state for atom: 9\n",
      "[17:56:12] UFFTYPER: Unrecognized charge state for atom: 9\n",
      "RDKit ERROR: [17:56:12] UFFTYPER: Unrecognized charge state for atom: 9\n",
      "[17:56:12] UFFTYPER: Unrecognized charge state for atom: 9\n",
      "RDKit ERROR: [17:56:12] UFFTYPER: Unrecognized charge state for atom: 9\n",
      "[17:56:12] UFFTYPER: Unrecognized charge state for atom: 9\n",
      "RDKit ERROR: [17:56:12] UFFTYPER: Unrecognized charge state for atom: 9\n",
      "[17:56:12] UFFTYPER: Unrecognized charge state for atom: 9\n",
      "RDKit ERROR: [17:56:12] UFFTYPER: Unrecognized charge state for atom: 9\n",
      "[17:56:12] UFFTYPER: Unrecognized charge state for atom: 9\n",
      "RDKit ERROR: [17:56:12] UFFTYPER: Unrecognized charge state for atom: 9\n",
      "[17:56:12] UFFTYPER: Unrecognized charge state for atom: 9\n",
      "RDKit ERROR: [17:56:12] UFFTYPER: Unrecognized charge state for atom: 9\n",
      "[17:56:12] UFFTYPER: Unrecognized charge state for atom: 9\n",
      "RDKit ERROR: [17:56:12] UFFTYPER: Unrecognized charge state for atom: 9\n",
      "[17:56:12] UFFTYPER: Unrecognized charge state for atom: 9\n",
      "RDKit ERROR: [17:56:12] UFFTYPER: Unrecognized charge state for atom: 9\n",
      "[17:56:12] UFFTYPER: Unrecognized charge state for atom: 9\n",
      "RDKit ERROR: [17:56:12] UFFTYPER: Unrecognized charge state for atom: 9\n",
      "[17:56:12] UFFTYPER: Unrecognized charge state for atom: 9\n",
      "RDKit ERROR: [17:56:12] UFFTYPER: Unrecognized charge state for atom: 9\n",
      "[17:56:12] UFFTYPER: Unrecognized charge state for atom: 9\n",
      "RDKit ERROR: [17:56:12] UFFTYPER: Unrecognized charge state for atom: 9\n",
      "[17:56:12] UFFTYPER: Unrecognized charge state for atom: 9\n",
      "RDKit ERROR: [17:56:12] UFFTYPER: Unrecognized charge state for atom: 9\n",
      "[17:56:12] UFFTYPER: Unrecognized charge state for atom: 9\n",
      "RDKit ERROR: [17:56:12] UFFTYPER: Unrecognized charge state for atom: 9\n",
      "[17:56:12] UFFTYPER: Unrecognized charge state for atom: 9\n",
      "RDKit ERROR: [17:56:12] UFFTYPER: Unrecognized charge state for atom: 9\n",
      "[17:56:12] UFFTYPER: Unrecognized charge state for atom: 9\n",
      "RDKit ERROR: [17:56:12] UFFTYPER: Unrecognized charge state for atom: 9\n",
      "[17:56:12] UFFTYPER: Unrecognized charge state for atom: 9\n",
      "RDKit ERROR: [17:56:12] UFFTYPER: Unrecognized charge state for atom: 9\n",
      "[17:56:12] UFFTYPER: Unrecognized charge state for atom: 9\n",
      "RDKit ERROR: [17:56:12] UFFTYPER: Unrecognized charge state for atom: 9\n",
      "[17:56:12] UFFTYPER: Unrecognized charge state for atom: 9\n",
      "RDKit ERROR: [17:56:12] UFFTYPER: Unrecognized charge state for atom: 9\n",
      "[17:56:12] UFFTYPER: Unrecognized charge state for atom: 9\n",
      "RDKit ERROR: [17:56:12] UFFTYPER: Unrecognized charge state for atom: 9\n",
      "[17:56:12] UFFTYPER: Unrecognized charge state for atom: 9\n",
      "RDKit ERROR: [17:56:12] UFFTYPER: Unrecognized charge state for atom: 9\n",
      "[17:56:12] UFFTYPER: Unrecognized charge state for atom: 9\n",
      "RDKit ERROR: [17:56:12] UFFTYPER: Unrecognized charge state for atom: 9\n",
      "[17:56:12] UFFTYPER: Unrecognized charge state for atom: 9\n",
      "RDKit ERROR: [17:56:12] UFFTYPER: Unrecognized charge state for atom: 9\n",
      "[17:56:12] UFFTYPER: Unrecognized charge state for atom: 9\n",
      "RDKit ERROR: [17:56:12] UFFTYPER: Unrecognized charge state for atom: 9\n",
      "[17:56:12] UFFTYPER: Unrecognized charge state for atom: 9\n",
      "RDKit ERROR: [17:56:12] UFFTYPER: Unrecognized charge state for atom: 9\n",
      "[17:56:12] UFFTYPER: Unrecognized charge state for atom: 9\n",
      "RDKit ERROR: [17:56:12] UFFTYPER: Unrecognized charge state for atom: 9\n",
      "[17:56:12] UFFTYPER: Unrecognized charge state for atom: 9\n",
      "RDKit ERROR: [17:56:12] UFFTYPER: Unrecognized charge state for atom: 9\n",
      "[17:56:12] UFFTYPER: Unrecognized charge state for atom: 9\n",
      "RDKit ERROR: [17:56:12] UFFTYPER: Unrecognized charge state for atom: 9\n",
      "[17:56:12] UFFTYPER: Unrecognized charge state for atom: 9\n",
      "RDKit ERROR: [17:56:12] UFFTYPER: Unrecognized charge state for atom: 9\n",
      "[17:56:12] UFFTYPER: Unrecognized charge state for atom: 9\n",
      "RDKit ERROR: [17:56:12] UFFTYPER: Unrecognized charge state for atom: 9\n",
      "[17:56:12] UFFTYPER: Unrecognized charge state for atom: 9\n",
      "RDKit ERROR: [17:56:12] UFFTYPER: Unrecognized charge state for atom: 9\n",
      "[17:56:12] UFFTYPER: Unrecognized charge state for atom: 9\n",
      "RDKit ERROR: [17:56:12] UFFTYPER: Unrecognized charge state for atom: 9\n",
      "[17:56:12] UFFTYPER: Unrecognized charge state for atom: 9\n",
      "RDKit ERROR: [17:56:12] UFFTYPER: Unrecognized charge state for atom: 9\n",
      "[17:56:12] UFFTYPER: Unrecognized charge state for atom: 9\n",
      "RDKit ERROR: [17:56:12] UFFTYPER: Unrecognized charge state for atom: 9\n",
      "[17:56:12] UFFTYPER: Unrecognized charge state for atom: 9\n",
      "RDKit ERROR: [17:56:12] UFFTYPER: Unrecognized charge state for atom: 9\n",
      "[17:56:12] UFFTYPER: Unrecognized charge state for atom: 9\n",
      "RDKit ERROR: [17:56:12] UFFTYPER: Unrecognized charge state for atom: 9\n",
      "[17:56:12] UFFTYPER: Unrecognized charge state for atom: 9\n",
      "RDKit ERROR: [17:56:12] UFFTYPER: Unrecognized charge state for atom: 9\n",
      "[17:56:12] UFFTYPER: Unrecognized charge state for atom: 9\n",
      "RDKit ERROR: [17:56:12] UFFTYPER: Unrecognized charge state for atom: 9\n",
      "[17:56:12] UFFTYPER: Unrecognized charge state for atom: 9\n",
      "RDKit ERROR: [17:56:12] UFFTYPER: Unrecognized charge state for atom: 9\n",
      "[17:56:12] UFFTYPER: Unrecognized charge state for atom: 9\n",
      "RDKit ERROR: [17:56:12] UFFTYPER: Unrecognized charge state for atom: 9\n",
      "[17:56:12] UFFTYPER: Unrecognized charge state for atom: 9\n",
      "RDKit ERROR: [17:56:12] UFFTYPER: Unrecognized charge state for atom: 9\n",
      "[17:56:12] UFFTYPER: Unrecognized charge state for atom: 9\n",
      "RDKit ERROR: [17:56:12] UFFTYPER: Unrecognized charge state for atom: 9\n",
      "[17:56:12] UFFTYPER: Unrecognized charge state for atom: 9\n",
      "RDKit ERROR: [17:56:12] UFFTYPER: Unrecognized charge state for atom: 9\n",
      "[17:56:12] UFFTYPER: Unrecognized charge state for atom: 9\n",
      "RDKit ERROR: [17:56:12] UFFTYPER: Unrecognized charge state for atom: 9\n",
      "[17:56:12] UFFTYPER: Unrecognized charge state for atom: 9\n",
      "RDKit ERROR: [17:56:12] UFFTYPER: Unrecognized charge state for atom: 9\n",
      "[17:56:12] UFFTYPER: Unrecognized charge state for atom: 9\n",
      "RDKit ERROR: [17:56:12] UFFTYPER: Unrecognized charge state for atom: 9\n",
      "RDKit ERROR: [17:56:12] UFFTYPER: Unrecognized charge state for atom: 9\n",
      "[17:56:12] UFFTYPER: Unrecognized charge state for atom: 9\n",
      "[17:56:12] UFFTYPER: Unrecognized charge state for atom: 9\n",
      "RDKit ERROR: [17:56:12] UFFTYPER: Unrecognized charge state for atom: 9\n",
      "[17:56:12] UFFTYPER: Unrecognized charge state for atom: 9\n",
      "RDKit ERROR: [17:56:12] UFFTYPER: Unrecognized charge state for atom: 9\n",
      "[17:56:12] UFFTYPER: Unrecognized charge state for atom: 9\n",
      "RDKit ERROR: [17:56:12] UFFTYPER: Unrecognized charge state for atom: 9\n",
      "[17:56:12] UFFTYPER: Unrecognized charge state for atom: 9\n",
      "RDKit ERROR: [17:56:12] UFFTYPER: Unrecognized charge state for atom: 9\n",
      "[17:56:12] UFFTYPER: Unrecognized charge state for atom: 9\n",
      "RDKit ERROR: [17:56:12] UFFTYPER: Unrecognized charge state for atom: 9\n",
      "[17:56:12] UFFTYPER: Unrecognized charge state for atom: 9\n",
      "RDKit ERROR: [17:56:12] UFFTYPER: Unrecognized charge state for atom: 9\n",
      "[17:56:12] UFFTYPER: Unrecognized charge state for atom: 9\n",
      "RDKit ERROR: [17:56:12] UFFTYPER: Unrecognized charge state for atom: 9\n",
      "[17:56:12] UFFTYPER: Unrecognized charge state for atom: 9\n",
      "RDKit ERROR: [17:56:12] UFFTYPER: Unrecognized charge state for atom: 9\n",
      "[17:56:12] UFFTYPER: Unrecognized charge state for atom: 9\n",
      "RDKit ERROR: [17:56:12] UFFTYPER: Unrecognized charge state for atom: 9\n",
      "[17:56:12] UFFTYPER: Unrecognized charge state for atom: 9\n",
      "RDKit ERROR: [17:56:12] UFFTYPER: Unrecognized charge state for atom: 9\n",
      "[17:56:12] UFFTYPER: Unrecognized charge state for atom: 9\n",
      "RDKit ERROR: [17:56:12] UFFTYPER: Unrecognized charge state for atom: 9\n",
      "[17:56:12] UFFTYPER: Unrecognized charge state for atom: 9\n",
      "RDKit ERROR: [17:56:12] UFFTYPER: Unrecognized charge state for atom: 9\n",
      "[17:56:12] UFFTYPER: Unrecognized charge state for atom: 9\n",
      "RDKit ERROR: [17:56:12] UFFTYPER: Unrecognized charge state for atom: 9\n",
      "[17:56:12] UFFTYPER: Unrecognized charge state for atom: 9\n",
      "RDKit ERROR: [17:56:12] UFFTYPER: Unrecognized charge state for atom: 9\n",
      "[17:56:12] UFFTYPER: Unrecognized charge state for atom: 9\n",
      "RDKit ERROR: [17:56:12] UFFTYPER: Unrecognized charge state for atom: 9\n",
      "[17:56:12] UFFTYPER: Unrecognized charge state for atom: 9\n",
      "RDKit ERROR: [17:56:12] UFFTYPER: Unrecognized charge state for atom: 9\n",
      "[17:56:12] UFFTYPER: Unrecognized charge state for atom: 9\n",
      "RDKit ERROR: [17:56:12] UFFTYPER: Unrecognized charge state for atom: 9\n",
      "[17:56:12] UFFTYPER: Unrecognized charge state for atom: 9\n",
      "RDKit ERROR: [17:56:12] UFFTYPER: Unrecognized charge state for atom: 9\n",
      "[17:56:12] UFFTYPER: Unrecognized charge state for atom: 9\n",
      "RDKit ERROR: [17:56:12] UFFTYPER: Unrecognized charge state for atom: 9\n",
      "[17:56:12] UFFTYPER: Unrecognized charge state for atom: 9\n",
      "RDKit ERROR: [17:56:12] UFFTYPER: Unrecognized charge state for atom: 9\n",
      "[17:56:12] UFFTYPER: Unrecognized charge state for atom: 9\n",
      "RDKit ERROR: [17:56:12] UFFTYPER: Unrecognized charge state for atom: 9\n",
      "[17:56:12] UFFTYPER: Unrecognized charge state for atom: 9\n",
      "RDKit ERROR: [17:56:12] UFFTYPER: Unrecognized charge state for atom: 9\n",
      "[17:56:12] UFFTYPER: Unrecognized charge state for atom: 9\n",
      "RDKit ERROR: [17:56:12] UFFTYPER: Unrecognized charge state for atom: 9\n",
      "[17:56:12] UFFTYPER: Unrecognized charge state for atom: 9\n",
      "RDKit ERROR: [17:56:12] UFFTYPER: Unrecognized charge state for atom: 9\n",
      "[17:56:12] UFFTYPER: Unrecognized charge state for atom: 9\n",
      "RDKit ERROR: [17:56:12] UFFTYPER: Unrecognized charge state for atom: 9\n",
      "[17:56:12] UFFTYPER: Unrecognized charge state for atom: 9\n",
      "RDKit ERROR: [17:56:12] UFFTYPER: Unrecognized charge state for atom: 9\n",
      "[17:56:12] UFFTYPER: Unrecognized charge state for atom: 9\n",
      "RDKit ERROR: [17:56:12] UFFTYPER: Unrecognized charge state for atom: 9\n",
      "[17:56:12] UFFTYPER: Unrecognized charge state for atom: 9\n",
      "RDKit ERROR: [17:56:12] UFFTYPER: Unrecognized charge state for atom: 9\n",
      "[17:56:12] UFFTYPER: Unrecognized charge state for atom: 9\n",
      "RDKit ERROR: [17:56:12] UFFTYPER: Unrecognized charge state for atom: 9\n",
      "[17:56:12] UFFTYPER: Unrecognized charge state for atom: 9\n",
      "RDKit ERROR: [17:56:12] UFFTYPER: Unrecognized charge state for atom: 9\n",
      "[17:56:12] UFFTYPER: Unrecognized charge state for atom: 9\n",
      "RDKit ERROR: [17:56:12] UFFTYPER: Unrecognized charge state for atom: 9\n",
      "[17:56:12] UFFTYPER: Unrecognized charge state for atom: 9\n",
      "RDKit ERROR: [17:56:12] UFFTYPER: Unrecognized charge state for atom: 9\n",
      "[17:56:12] UFFTYPER: Unrecognized charge state for atom: 9\n",
      "RDKit ERROR: [17:56:12] UFFTYPER: Unrecognized charge state for atom: 9\n",
      "[17:56:12] UFFTYPER: Unrecognized charge state for atom: 9\n",
      "RDKit ERROR: [17:56:12] UFFTYPER: Unrecognized charge state for atom: 9\n",
      "[17:56:12] UFFTYPER: Unrecognized charge state for atom: 9\n",
      "RDKit ERROR: [17:56:12] UFFTYPER: Unrecognized charge state for atom: 9\n",
      "[17:56:12] UFFTYPER: Unrecognized charge state for atom: 9\n",
      "RDKit ERROR: [17:56:12] UFFTYPER: Unrecognized charge state for atom: 9\n",
      "[17:56:12] UFFTYPER: Unrecognized charge state for atom: 9\n",
      "RDKit ERROR: [17:56:12] UFFTYPER: Unrecognized charge state for atom: 9\n",
      "[17:56:12] UFFTYPER: Unrecognized charge state for atom: 9\n",
      "RDKit ERROR: [17:56:12] UFFTYPER: Unrecognized charge state for atom: 9\n",
      "[17:56:12] UFFTYPER: Unrecognized charge state for atom: 9\n",
      "RDKit ERROR: [17:56:12] UFFTYPER: Unrecognized charge state for atom: 9\n",
      "[17:56:12] UFFTYPER: Unrecognized charge state for atom: 9\n",
      "RDKit ERROR: [17:56:12] UFFTYPER: Unrecognized charge state for atom: 9\n",
      "[17:56:12] UFFTYPER: Unrecognized charge state for atom: 9\n",
      "RDKit ERROR: [17:56:12] UFFTYPER: Unrecognized charge state for atom: 9\n",
      "[17:56:12] UFFTYPER: Unrecognized charge state for atom: 9\n",
      "RDKit ERROR: [17:56:12] UFFTYPER: Unrecognized charge state for atom: 9\n",
      "[17:56:12] UFFTYPER: Unrecognized charge state for atom: 9\n",
      "RDKit ERROR: [17:56:12] UFFTYPER: Unrecognized charge state for atom: 9\n",
      "[17:56:12] UFFTYPER: Unrecognized charge state for atom: 9\n",
      "RDKit ERROR: [17:56:12] UFFTYPER: Unrecognized charge state for atom: 9\n",
      "[17:56:12] UFFTYPER: Unrecognized charge state for atom: 9\n",
      "RDKit ERROR: [17:56:12] UFFTYPER: Unrecognized charge state for atom: 9\n",
      "[17:56:12] UFFTYPER: Unrecognized charge state for atom: 9\n",
      " 12%|████▋                                   | 526/4548 [05:23<35:50,  1.87it/s]RDKit ERROR: [17:59:01] UFFTYPER: Unrecognized charge state for atom: 13\n",
      "[17:59:01] UFFTYPER: Unrecognized charge state for atom: 13\n",
      "RDKit ERROR: [17:59:01] UFFTYPER: Unrecognized charge state for atom: 13\n",
      "RDKit ERROR: [17:59:01] UFFTYPER: Unrecognized charge state for atom: 13\n",
      "[17:59:01] UFFTYPER: Unrecognized charge state for atom: 13\n",
      "RDKit ERROR: [17:59:01] UFFTYPER: Unrecognized charge state for atom: 13\n",
      "RDKit ERROR: [17:59:01] UFFTYPER: Unrecognized charge state for atom: 13\n",
      "RDKit ERROR: [17:59:01] UFFTYPER: Unrecognized charge state for atom: 13\n",
      "RDKit ERROR: [17:59:01] UFFTYPER: Unrecognized charge state for atom: 13\n",
      "RDKit ERROR: [17:59:01] UFFTYPER: Unrecognized charge state for atom: 13\n",
      "[17:59:01] UFFTYPER: Unrecognized charge state for atom: 13\n",
      "[17:59:01] UFFTYPER: Unrecognized charge state for atom: 13\n",
      "[17:59:01] UFFTYPER: Unrecognized charge state for atom: 13\n",
      "[17:59:01] UFFTYPER: Unrecognized charge state for atom: 13\n",
      "[17:59:01] UFFTYPER: Unrecognized charge state for atom: 13\n",
      "[17:59:01] UFFTYPER: Unrecognized charge state for atom: 13\n",
      "RDKit ERROR: [17:59:01] UFFTYPER: Unrecognized charge state for atom: 13\n",
      "[17:59:01] UFFTYPER: Unrecognized charge state for atom: 13\n",
      "RDKit ERROR: [17:59:01] UFFTYPER: Unrecognized charge state for atom: 13\n",
      "[17:59:01] UFFTYPER: Unrecognized charge state for atom: 13\n",
      "RDKit ERROR: [17:59:01] UFFTYPER: Unrecognized charge state for atom: 13\n",
      "RDKit ERROR: [17:59:01] UFFTYPER: Unrecognized charge state for atom: 13\n",
      "[17:59:01] UFFTYPER: Unrecognized charge state for atom: 13\n",
      "[17:59:01] UFFTYPER: Unrecognized charge state for atom: 13\n",
      "RDKit ERROR: [17:59:01] UFFTYPER: Unrecognized charge state for atom: 13\n",
      "[17:59:01] UFFTYPER: Unrecognized charge state for atom: 13\n",
      "RDKit ERROR: [17:59:01] UFFTYPER: Unrecognized charge state for atom: 13\n",
      "RDKit ERROR: [17:59:01] UFFTYPER: Unrecognized charge state for atom: 13\n",
      "[17:59:01] UFFTYPER: Unrecognized charge state for atom: 13\n",
      "[17:59:01] UFFTYPER: Unrecognized charge state for atom: 13\n",
      "RDKit ERROR: [17:59:01] UFFTYPER: Unrecognized charge state for atom: 13\n",
      "[17:59:01] UFFTYPER: Unrecognized charge state for atom: 13\n",
      "RDKit ERROR: [17:59:01] UFFTYPER: Unrecognized charge state for atom: 13\n",
      "[17:59:01] UFFTYPER: Unrecognized charge state for atom: 13\n",
      "RDKit ERROR: [17:59:01] UFFTYPER: Unrecognized charge state for atom: 13\n",
      "[17:59:01] UFFTYPER: Unrecognized charge state for atom: 13\n",
      "RDKit ERROR: [17:59:01] UFFTYPER: Unrecognized charge state for atom: 13\n",
      "[17:59:01] UFFTYPER: Unrecognized charge state for atom: 13\n",
      "RDKit ERROR: [17:59:01] UFFTYPER: Unrecognized charge state for atom: 13\n",
      "[17:59:01] UFFTYPER: Unrecognized charge state for atom: 13\n",
      "RDKit ERROR: [17:59:01] UFFTYPER: Unrecognized charge state for atom: 13\n",
      "[17:59:01] UFFTYPER: Unrecognized charge state for atom: 13\n",
      "RDKit ERROR: [17:59:01] UFFTYPER: Unrecognized charge state for atom: 13\n",
      "[17:59:01] UFFTYPER: Unrecognized charge state for atom: 13\n",
      "RDKit ERROR: [17:59:01] UFFTYPER: Unrecognized charge state for atom: 13\n",
      "[17:59:01] UFFTYPER: Unrecognized charge state for atom: 13\n",
      "RDKit ERROR: [17:59:01] UFFTYPER: Unrecognized charge state for atom: 13\n",
      "[17:59:01] UFFTYPER: Unrecognized charge state for atom: 13\n",
      "RDKit ERROR: [17:59:01] UFFTYPER: Unrecognized charge state for atom: 13\n",
      "[17:59:01] UFFTYPER: Unrecognized charge state for atom: 13\n",
      "RDKit ERROR: [17:59:01] UFFTYPER: Unrecognized charge state for atom: 13\n",
      "[17:59:01] UFFTYPER: Unrecognized charge state for atom: 13\n",
      "RDKit ERROR: [17:59:01] UFFTYPER: Unrecognized charge state for atom: 13\n",
      "[17:59:01] UFFTYPER: Unrecognized charge state for atom: 13\n",
      "RDKit ERROR: [17:59:01] UFFTYPER: Unrecognized charge state for atom: 13\n",
      "[17:59:01] UFFTYPER: Unrecognized charge state for atom: 13\n",
      "RDKit ERROR: [17:59:01] UFFTYPER: Unrecognized charge state for atom: 13\n",
      "[17:59:01] UFFTYPER: Unrecognized charge state for atom: 13\n",
      "RDKit ERROR: [17:59:01] UFFTYPER: Unrecognized charge state for atom: 13\n",
      "[17:59:01] UFFTYPER: Unrecognized charge state for atom: 13\n",
      "RDKit ERROR: [17:59:01] UFFTYPER: Unrecognized charge state for atom: 13\n",
      "[17:59:01] UFFTYPER: Unrecognized charge state for atom: 13\n",
      "RDKit ERROR: [17:59:01] UFFTYPER: Unrecognized charge state for atom: 13\n",
      "[17:59:01] UFFTYPER: Unrecognized charge state for atom: 13\n",
      "RDKit ERROR: [17:59:01] UFFTYPER: Unrecognized charge state for atom: 13\n",
      "[17:59:01] UFFTYPER: Unrecognized charge state for atom: 13\n",
      "RDKit ERROR: [17:59:01] UFFTYPER: Unrecognized charge state for atom: 13\n",
      "[17:59:01] UFFTYPER: Unrecognized charge state for atom: 13\n",
      "RDKit ERROR: [17:59:01] UFFTYPER: Unrecognized charge state for atom: 13\n",
      "[17:59:01] UFFTYPER: Unrecognized charge state for atom: 13\n",
      "RDKit ERROR: [17:59:01] UFFTYPER: Unrecognized charge state for atom: 13\n",
      "[17:59:01] UFFTYPER: Unrecognized charge state for atom: 13\n",
      "RDKit ERROR: [17:59:01] UFFTYPER: Unrecognized charge state for atom: 13\n",
      "[17:59:01] UFFTYPER: Unrecognized charge state for atom: 13\n",
      "RDKit ERROR: [17:59:01] UFFTYPER: Unrecognized charge state for atom: 13\n",
      "[17:59:01] UFFTYPER: Unrecognized charge state for atom: 13\n",
      "RDKit ERROR: [17:59:01] UFFTYPER: Unrecognized charge state for atom: 13\n",
      "[17:59:01] UFFTYPER: Unrecognized charge state for atom: 13\n",
      "RDKit ERROR: [17:59:01] UFFTYPER: Unrecognized charge state for atom: 13\n",
      "[17:59:01] UFFTYPER: Unrecognized charge state for atom: 13\n",
      "RDKit ERROR: [17:59:01] UFFTYPER: Unrecognized charge state for atom: 13\n",
      "[17:59:01] UFFTYPER: Unrecognized charge state for atom: 13\n",
      "RDKit ERROR: [17:59:01] UFFTYPER: Unrecognized charge state for atom: 13\n",
      "[17:59:01] UFFTYPER: Unrecognized charge state for atom: 13\n",
      "RDKit ERROR: [17:59:01] UFFTYPER: Unrecognized charge state for atom: 13\n",
      "[17:59:01] UFFTYPER: Unrecognized charge state for atom: 13\n",
      "RDKit ERROR: [17:59:01] UFFTYPER: Unrecognized charge state for atom: 13\n",
      "[17:59:01] UFFTYPER: Unrecognized charge state for atom: 13\n",
      "RDKit ERROR: [17:59:01] UFFTYPER: Unrecognized charge state for atom: 13\n",
      "[17:59:01] UFFTYPER: Unrecognized charge state for atom: 13\n",
      "RDKit ERROR: [17:59:01] UFFTYPER: Unrecognized charge state for atom: 13\n",
      "[17:59:01] UFFTYPER: Unrecognized charge state for atom: 13\n",
      "RDKit ERROR: [17:59:01] UFFTYPER: Unrecognized charge state for atom: 13\n",
      "[17:59:01] UFFTYPER: Unrecognized charge state for atom: 13\n",
      "RDKit ERROR: [17:59:01] UFFTYPER: Unrecognized charge state for atom: 13\n",
      "[17:59:01] UFFTYPER: Unrecognized charge state for atom: 13\n",
      "RDKit ERROR: [17:59:01] UFFTYPER: Unrecognized charge state for atom: 13\n",
      "[17:59:01] UFFTYPER: Unrecognized charge state for atom: 13\n",
      "RDKit ERROR: [17:59:01] UFFTYPER: Unrecognized charge state for atom: 13\n",
      "[17:59:01] UFFTYPER: Unrecognized charge state for atom: 13\n",
      "RDKit ERROR: [17:59:01] UFFTYPER: Unrecognized charge state for atom: 13\n",
      "[17:59:01] UFFTYPER: Unrecognized charge state for atom: 13\n",
      "RDKit ERROR: [17:59:01] UFFTYPER: Unrecognized charge state for atom: 13\n",
      "[17:59:01] UFFTYPER: Unrecognized charge state for atom: 13\n",
      "RDKit ERROR: [17:59:01] UFFTYPER: Unrecognized charge state for atom: 13\n",
      "[17:59:01] UFFTYPER: Unrecognized charge state for atom: 13\n",
      "RDKit ERROR: [17:59:01] UFFTYPER: Unrecognized charge state for atom: 13\n",
      "[17:59:01] UFFTYPER: Unrecognized charge state for atom: 13\n",
      "RDKit ERROR: [17:59:01] UFFTYPER: Unrecognized charge state for atom: 13\n",
      "[17:59:01] UFFTYPER: Unrecognized charge state for atom: 13\n",
      "RDKit ERROR: [17:59:01] UFFTYPER: Unrecognized charge state for atom: 13\n",
      "[17:59:01] UFFTYPER: Unrecognized charge state for atom: 13\n",
      "RDKit ERROR: [17:59:01] UFFTYPER: Unrecognized charge state for atom: 13\n",
      "[17:59:01] UFFTYPER: Unrecognized charge state for atom: 13\n",
      "RDKit ERROR: [17:59:01] UFFTYPER: Unrecognized charge state for atom: 13\n",
      "[17:59:01] UFFTYPER: Unrecognized charge state for atom: 13\n",
      "RDKit ERROR: [17:59:01] UFFTYPER: Unrecognized charge state for atom: 13\n",
      "[17:59:01] UFFTYPER: Unrecognized charge state for atom: 13\n",
      "RDKit ERROR: [17:59:01] UFFTYPER: Unrecognized charge state for atom: 13\n",
      "[17:59:01] UFFTYPER: Unrecognized charge state for atom: 13\n",
      "RDKit ERROR: [17:59:01] UFFTYPER: Unrecognized charge state for atom: 13\n",
      "[17:59:01] UFFTYPER: Unrecognized charge state for atom: 13\n",
      "RDKit ERROR: [17:59:01] UFFTYPER: Unrecognized charge state for atom: 13\n",
      "[17:59:01] UFFTYPER: Unrecognized charge state for atom: 13\n",
      "RDKit ERROR: [17:59:01] UFFTYPER: Unrecognized charge state for atom: 13\n",
      "[17:59:01] UFFTYPER: Unrecognized charge state for atom: 13\n",
      "RDKit ERROR: [17:59:01] UFFTYPER: Unrecognized charge state for atom: 13\n",
      "[17:59:01] UFFTYPER: Unrecognized charge state for atom: 13\n",
      "RDKit ERROR: [17:59:01] UFFTYPER: Unrecognized charge state for atom: 13\n",
      "[17:59:01] UFFTYPER: Unrecognized charge state for atom: 13\n",
      "RDKit ERROR: [17:59:01] UFFTYPER: Unrecognized charge state for atom: 13\n",
      "[17:59:01] UFFTYPER: Unrecognized charge state for atom: 13\n",
      "RDKit ERROR: [17:59:01] UFFTYPER: Unrecognized charge state for atom: 13\n",
      "[17:59:01] UFFTYPER: Unrecognized charge state for atom: 13\n",
      "RDKit ERROR: [17:59:01] UFFTYPER: Unrecognized charge state for atom: 13\n",
      "[17:59:01] UFFTYPER: Unrecognized charge state for atom: 13\n",
      "RDKit ERROR: [17:59:01] UFFTYPER: Unrecognized charge state for atom: 13\n",
      "[17:59:01] UFFTYPER: Unrecognized charge state for atom: 13\n",
      "RDKit ERROR: [17:59:01] UFFTYPER: Unrecognized charge state for atom: 13\n",
      "[17:59:01] UFFTYPER: Unrecognized charge state for atom: 13\n",
      "RDKit ERROR: [17:59:01] UFFTYPER: Unrecognized charge state for atom: 13\n",
      "[17:59:01] UFFTYPER: Unrecognized charge state for atom: 13\n",
      "RDKit ERROR: [17:59:01] UFFTYPER: Unrecognized charge state for atom: 13\n",
      "[17:59:01] UFFTYPER: Unrecognized charge state for atom: 13\n",
      "RDKit ERROR: [17:59:01] UFFTYPER: Unrecognized charge state for atom: 13\n",
      "[17:59:01] UFFTYPER: Unrecognized charge state for atom: 13\n",
      "RDKit ERROR: [17:59:01] UFFTYPER: Unrecognized charge state for atom: 13\n",
      "[17:59:01] UFFTYPER: Unrecognized charge state for atom: 13\n",
      "RDKit ERROR: [17:59:01] UFFTYPER: Unrecognized charge state for atom: 13\n",
      "RDKit ERROR: [17:59:01] UFFTYPER: Unrecognized charge state for atom: 13\n",
      "[17:59:01] UFFTYPER: Unrecognized charge state for atom: 13\n",
      "[17:59:01] UFFTYPER: Unrecognized charge state for atom: 13\n",
      "RDKit ERROR: [17:59:01] UFFTYPER: Unrecognized charge state for atom: 13\n",
      "RDKit ERROR: [17:59:01] UFFTYPER: Unrecognized charge state for atom: 13\n",
      "[17:59:01] UFFTYPER: Unrecognized charge state for atom: 13\n",
      "[17:59:01] UFFTYPER: Unrecognized charge state for atom: 13\n",
      "RDKit ERROR: [17:59:01] UFFTYPER: Unrecognized charge state for atom: 13\n",
      "RDKit ERROR: [17:59:01] UFFTYPER: Unrecognized charge state for atom: 13\n",
      "[17:59:01] UFFTYPER: Unrecognized charge state for atom: 13\n",
      "[17:59:01] UFFTYPER: Unrecognized charge state for atom: 13\n",
      "RDKit ERROR: [17:59:01] UFFTYPER: Unrecognized charge state for atom: 13\n",
      "[17:59:01] UFFTYPER: Unrecognized charge state for atom: 13\n",
      "RDKit ERROR: [17:59:01] UFFTYPER: Unrecognized charge state for atom: 13\n",
      "[17:59:01] UFFTYPER: Unrecognized charge state for atom: 13\n",
      "RDKit ERROR: [17:59:01] UFFTYPER: Unrecognized charge state for atom: 13\n",
      "RDKit ERROR: [17:59:01] UFFTYPER: Unrecognized charge state for atom: 13\n",
      "RDKit ERROR: [17:59:01] UFFTYPER: Unrecognized charge state for atom: 13\n",
      "[17:59:01] UFFTYPER: Unrecognized charge state for atom: 13\n",
      "[17:59:01] UFFTYPER: Unrecognized charge state for atom: 13\n",
      "[17:59:01] UFFTYPER: Unrecognized charge state for atom: 13\n",
      "RDKit ERROR: [17:59:01] UFFTYPER: Unrecognized charge state for atom: 13\n",
      "[17:59:01] UFFTYPER: Unrecognized charge state for atom: 13\n",
      "RDKit ERROR: [17:59:01] UFFTYPER: Unrecognized charge state for atom: 13\n",
      "[17:59:01] UFFTYPER: Unrecognized charge state for atom: 13\n",
      "RDKit ERROR: [17:59:01] UFFTYPER: Unrecognized charge state for atom: 13\n",
      "[17:59:01] UFFTYPER: Unrecognized charge state for atom: 13\n",
      "RDKit ERROR: [17:59:01] UFFTYPER: Unrecognized charge state for atom: 13\n",
      "[17:59:01] UFFTYPER: Unrecognized charge state for atom: 13\n",
      "RDKit ERROR: [17:59:01] UFFTYPER: Unrecognized charge state for atom: 13\n",
      "[17:59:01] UFFTYPER: Unrecognized charge state for atom: 13\n",
      "RDKit ERROR: [17:59:01] UFFTYPER: Unrecognized charge state for atom: 13\n",
      "[17:59:01] UFFTYPER: Unrecognized charge state for atom: 13\n",
      "RDKit ERROR: [17:59:01] UFFTYPER: Unrecognized charge state for atom: 13\n",
      "[17:59:01] UFFTYPER: Unrecognized charge state for atom: 13\n",
      "RDKit ERROR: [17:59:01] UFFTYPER: Unrecognized charge state for atom: 13\n",
      "[17:59:01] UFFTYPER: Unrecognized charge state for atom: 13\n",
      "RDKit ERROR: [17:59:01] UFFTYPER: Unrecognized charge state for atom: 13\n",
      "[17:59:01] UFFTYPER: Unrecognized charge state for atom: 13\n",
      "RDKit ERROR: [17:59:01] UFFTYPER: Unrecognized charge state for atom: 13\n",
      "[17:59:01] UFFTYPER: Unrecognized charge state for atom: 13\n",
      "RDKit ERROR: [17:59:01] UFFTYPER: Unrecognized charge state for atom: 13\n",
      "[17:59:01] UFFTYPER: Unrecognized charge state for atom: 13\n",
      "RDKit ERROR: [17:59:01] UFFTYPER: Unrecognized charge state for atom: 13\n",
      "[17:59:01] UFFTYPER: Unrecognized charge state for atom: 13\n",
      "RDKit ERROR: [17:59:01] UFFTYPER: Unrecognized charge state for atom: 13\n",
      "[17:59:01] UFFTYPER: Unrecognized charge state for atom: 13\n",
      "RDKit ERROR: [17:59:01] UFFTYPER: Unrecognized charge state for atom: 13\n",
      "[17:59:01] UFFTYPER: Unrecognized charge state for atom: 13\n",
      "RDKit ERROR: [17:59:01] UFFTYPER: Unrecognized charge state for atom: 13\n",
      "[17:59:01] UFFTYPER: Unrecognized charge state for atom: 13\n",
      "RDKit ERROR: [17:59:01] UFFTYPER: Unrecognized charge state for atom: 13\n",
      "[17:59:01] UFFTYPER: Unrecognized charge state for atom: 13\n",
      " 37%|██████████████▍                        | 1678/4548 [16:09<18:56,  2.53it/s]RDKit ERROR: [18:09:47] UFFTYPER: Unrecognized charge state for atom: 1\n",
      "[18:09:47] UFFTYPER: Unrecognized charge state for atom: 1\n",
      "RDKit ERROR: [18:09:47] UFFTYPER: Unrecognized charge state for atom: 1\n",
      "[18:09:47] UFFTYPER: Unrecognized charge state for atom: 1\n",
      "RDKit ERROR: [18:09:47] UFFTYPER: Unrecognized charge state for atom: 1\n",
      "[18:09:47] UFFTYPER: Unrecognized charge state for atom: 1\n",
      "RDKit ERROR: [18:09:47] UFFTYPER: Unrecognized charge state for atom: 1\n",
      "[18:09:47] UFFTYPER: Unrecognized charge state for atom: 1\n",
      "RDKit ERROR: [18:09:47] UFFTYPER: Unrecognized charge state for atom: 1\n",
      "[18:09:47] UFFTYPER: Unrecognized charge state for atom: 1\n",
      "RDKit ERROR: [18:09:47] UFFTYPER: Unrecognized charge state for atom: 1\n",
      "[18:09:47] UFFTYPER: Unrecognized charge state for atom: 1\n",
      "RDKit ERROR: [18:09:47] UFFTYPER: Unrecognized charge state for atom: 1\n",
      "[18:09:47] UFFTYPER: Unrecognized charge state for atom: 1\n",
      "RDKit ERROR: [18:09:47] UFFTYPER: Unrecognized charge state for atom: 1\n",
      "[18:09:47] UFFTYPER: Unrecognized charge state for atom: 1\n",
      "RDKit ERROR: [18:09:47] UFFTYPER: Unrecognized charge state for atom: 1\n",
      "[18:09:47] UFFTYPER: Unrecognized charge state for atom: 1\n",
      "RDKit ERROR: [18:09:47] UFFTYPER: Unrecognized charge state for atom: 1\n",
      "[18:09:47] UFFTYPER: Unrecognized charge state for atom: 1\n",
      "RDKit ERROR: [18:09:47] UFFTYPER: Unrecognized charge state for atom: 1\n",
      "[18:09:47] UFFTYPER: Unrecognized charge state for atom: 1\n",
      "RDKit ERROR: [18:09:47] UFFTYPER: Unrecognized charge state for atom: 1\n",
      "[18:09:47] UFFTYPER: Unrecognized charge state for atom: 1\n",
      "RDKit ERROR: [18:09:47] UFFTYPER: Unrecognized charge state for atom: 1\n",
      "[18:09:47] UFFTYPER: Unrecognized charge state for atom: 1\n",
      "RDKit ERROR: [18:09:47] UFFTYPER: Unrecognized charge state for atom: 1\n",
      "[18:09:47] UFFTYPER: Unrecognized charge state for atom: 1\n",
      "RDKit ERROR: [18:09:47] UFFTYPER: Unrecognized charge state for atom: 1\n",
      "[18:09:47] UFFTYPER: Unrecognized charge state for atom: 1\n",
      "RDKit ERROR: [18:09:47] UFFTYPER: Unrecognized charge state for atom: 1\n",
      "[18:09:47] UFFTYPER: Unrecognized charge state for atom: 1\n",
      "RDKit ERROR: [18:09:47] UFFTYPER: Unrecognized charge state for atom: 1\n",
      "[18:09:47] UFFTYPER: Unrecognized charge state for atom: 1\n",
      "RDKit ERROR: [18:09:47] UFFTYPER: Unrecognized charge state for atom: 1\n",
      "[18:09:47] UFFTYPER: Unrecognized charge state for atom: 1\n",
      "RDKit ERROR: [18:09:47] UFFTYPER: Unrecognized charge state for atom: 1\n",
      "[18:09:47] UFFTYPER: Unrecognized charge state for atom: 1\n",
      "RDKit ERROR: [18:09:47] UFFTYPER: Unrecognized charge state for atom: 1\n",
      "[18:09:47] UFFTYPER: Unrecognized charge state for atom: 1\n",
      "RDKit ERROR: [18:09:47] UFFTYPER: Unrecognized charge state for atom: 1\n",
      "[18:09:47] UFFTYPER: Unrecognized charge state for atom: 1\n",
      "RDKit ERROR: [18:09:47] UFFTYPER: Unrecognized charge state for atom: 1\n",
      "[18:09:47] UFFTYPER: Unrecognized charge state for atom: 1\n",
      "RDKit ERROR: [18:09:47] UFFTYPER: Unrecognized charge state for atom: 1\n",
      "[18:09:47] UFFTYPER: Unrecognized charge state for atom: 1\n",
      "RDKit ERROR: [18:09:47] UFFTYPER: Unrecognized charge state for atom: 1\n",
      "[18:09:47] UFFTYPER: Unrecognized charge state for atom: 1\n",
      "RDKit ERROR: [18:09:47] UFFTYPER: Unrecognized charge state for atom: 1\n",
      "[18:09:47] UFFTYPER: Unrecognized charge state for atom: 1\n",
      "RDKit ERROR: [18:09:47] UFFTYPER: Unrecognized charge state for atom: 1\n",
      "[18:09:47] UFFTYPER: Unrecognized charge state for atom: 1\n",
      "RDKit ERROR: [18:09:47] UFFTYPER: Unrecognized charge state for atom: 1\n",
      "[18:09:47] UFFTYPER: Unrecognized charge state for atom: 1\n",
      "RDKit ERROR: [18:09:47] UFFTYPER: Unrecognized charge state for atom: 1\n",
      "[18:09:47] UFFTYPER: Unrecognized charge state for atom: 1\n",
      "RDKit ERROR: [18:09:47] UFFTYPER: Unrecognized charge state for atom: 1\n",
      "[18:09:47] UFFTYPER: Unrecognized charge state for atom: 1\n",
      "RDKit ERROR: [18:09:47] UFFTYPER: Unrecognized charge state for atom: 1\n",
      "[18:09:47] UFFTYPER: Unrecognized charge state for atom: 1\n",
      "RDKit ERROR: [18:09:47] UFFTYPER: Unrecognized charge state for atom: 1\n",
      "[18:09:47] UFFTYPER: Unrecognized charge state for atom: 1\n",
      "RDKit ERROR: [18:09:47] UFFTYPER: Unrecognized charge state for atom: 1\n",
      "[18:09:47] UFFTYPER: Unrecognized charge state for atom: 1\n",
      "RDKit ERROR: [18:09:47] UFFTYPER: Unrecognized charge state for atom: 1\n",
      "[18:09:47] UFFTYPER: Unrecognized charge state for atom: 1\n",
      "RDKit ERROR: [18:09:47] UFFTYPER: Unrecognized charge state for atom: 1\n",
      "[18:09:47] UFFTYPER: Unrecognized charge state for atom: 1\n",
      "RDKit ERROR: [18:09:47] UFFTYPER: Unrecognized charge state for atom: 1\n",
      "[18:09:47] UFFTYPER: Unrecognized charge state for atom: 1\n",
      "RDKit ERROR: [18:09:47] UFFTYPER: Unrecognized charge state for atom: 1\n",
      "[18:09:47] UFFTYPER: Unrecognized charge state for atom: 1\n",
      "RDKit ERROR: [18:09:47] UFFTYPER: Unrecognized charge state for atom: 1\n",
      "[18:09:47] UFFTYPER: Unrecognized charge state for atom: 1\n",
      "RDKit ERROR: [18:09:47] UFFTYPER: Unrecognized charge state for atom: 1\n",
      "[18:09:47] UFFTYPER: Unrecognized charge state for atom: 1\n",
      "RDKit ERROR: [18:09:47] UFFTYPER: Unrecognized charge state for atom: 1\n",
      "[18:09:47] UFFTYPER: Unrecognized charge state for atom: 1\n",
      "RDKit ERROR: [18:09:47] UFFTYPER: Unrecognized charge state for atom: 1\n",
      "[18:09:47] UFFTYPER: Unrecognized charge state for atom: 1\n",
      "RDKit ERROR: [18:09:47] UFFTYPER: Unrecognized charge state for atom: 1\n",
      "[18:09:47] UFFTYPER: Unrecognized charge state for atom: 1\n",
      "RDKit ERROR: [18:09:47] UFFTYPER: Unrecognized charge state for atom: 1\n",
      "[18:09:47] UFFTYPER: Unrecognized charge state for atom: 1\n",
      "RDKit ERROR: [18:09:47] UFFTYPER: Unrecognized charge state for atom: 1\n",
      "[18:09:47] UFFTYPER: Unrecognized charge state for atom: 1\n",
      "RDKit ERROR: [18:09:47] UFFTYPER: Unrecognized charge state for atom: 1\n",
      "[18:09:47] UFFTYPER: Unrecognized charge state for atom: 1\n",
      "RDKit ERROR: [18:09:47] UFFTYPER: Unrecognized charge state for atom: 1\n",
      "[18:09:47] UFFTYPER: Unrecognized charge state for atom: 1\n",
      "RDKit ERROR: [18:09:47] UFFTYPER: Unrecognized charge state for atom: 1\n",
      "[18:09:47] UFFTYPER: Unrecognized charge state for atom: 1\n",
      "RDKit ERROR: [18:09:47] UFFTYPER: Unrecognized charge state for atom: 1\n",
      "[18:09:47] UFFTYPER: Unrecognized charge state for atom: 1\n",
      "RDKit ERROR: [18:09:47] UFFTYPER: Unrecognized charge state for atom: 1\n",
      "[18:09:47] UFFTYPER: Unrecognized charge state for atom: 1\n",
      "RDKit ERROR: [18:09:47] UFFTYPER: Unrecognized charge state for atom: 1\n",
      "[18:09:47] UFFTYPER: Unrecognized charge state for atom: 1\n",
      "RDKit ERROR: [18:09:47] UFFTYPER: Unrecognized charge state for atom: 1\n",
      "[18:09:47] UFFTYPER: Unrecognized charge state for atom: 1\n",
      "RDKit ERROR: [18:09:47] UFFTYPER: Unrecognized charge state for atom: 1\n",
      "[18:09:47] UFFTYPER: Unrecognized charge state for atom: 1\n",
      "RDKit ERROR: [18:09:47] UFFTYPER: Unrecognized charge state for atom: 1\n",
      "[18:09:47] UFFTYPER: Unrecognized charge state for atom: 1\n",
      "RDKit ERROR: [18:09:47] UFFTYPER: Unrecognized charge state for atom: 1\n",
      "[18:09:47] UFFTYPER: Unrecognized charge state for atom: 1\n",
      "RDKit ERROR: [18:09:47] UFFTYPER: Unrecognized charge state for atom: 1\n",
      "[18:09:47] UFFTYPER: Unrecognized charge state for atom: 1\n",
      "RDKit ERROR: [18:09:47] UFFTYPER: Unrecognized charge state for atom: 1\n",
      "[18:09:47] UFFTYPER: Unrecognized charge state for atom: 1\n",
      "RDKit ERROR: [18:09:47] UFFTYPER: Unrecognized charge state for atom: 1\n",
      "[18:09:47] UFFTYPER: Unrecognized charge state for atom: 1\n",
      "RDKit ERROR: [18:09:47] UFFTYPER: Unrecognized charge state for atom: 1\n",
      "[18:09:47] UFFTYPER: Unrecognized charge state for atom: 1\n",
      "RDKit ERROR: [18:09:47] UFFTYPER: Unrecognized charge state for atom: 1\n",
      "[18:09:47] UFFTYPER: Unrecognized charge state for atom: 1\n",
      "RDKit ERROR: [18:09:47] UFFTYPER: Unrecognized charge state for atom: 1\n",
      "[18:09:47] UFFTYPER: Unrecognized charge state for atom: 1\n",
      "RDKit ERROR: [18:09:47] UFFTYPER: Unrecognized charge state for atom: 1\n",
      "[18:09:47] UFFTYPER: Unrecognized charge state for atom: 1\n",
      "RDKit ERROR: [18:09:47] UFFTYPER: Unrecognized charge state for atom: 1\n",
      "[18:09:47] UFFTYPER: Unrecognized charge state for atom: 1\n",
      "RDKit ERROR: [18:09:47] UFFTYPER: Unrecognized charge state for atom: 1\n",
      "[18:09:47] UFFTYPER: Unrecognized charge state for atom: 1\n",
      "RDKit ERROR: [18:09:47] UFFTYPER: Unrecognized charge state for atom: 1\n",
      "[18:09:47] UFFTYPER: Unrecognized charge state for atom: 1\n",
      "RDKit ERROR: [18:09:47] UFFTYPER: Unrecognized charge state for atom: 1\n",
      "[18:09:47] UFFTYPER: Unrecognized charge state for atom: 1\n",
      "RDKit ERROR: [18:09:47] UFFTYPER: Unrecognized charge state for atom: 1\n",
      "[18:09:47] UFFTYPER: Unrecognized charge state for atom: 1\n",
      "RDKit ERROR: [18:09:47] UFFTYPER: Unrecognized charge state for atom: 1\n",
      "[18:09:47] UFFTYPER: Unrecognized charge state for atom: 1\n",
      "RDKit ERROR: [18:09:47] UFFTYPER: Unrecognized charge state for atom: 1\n",
      "[18:09:47] UFFTYPER: Unrecognized charge state for atom: 1\n",
      "RDKit ERROR: [18:09:47] UFFTYPER: Unrecognized charge state for atom: 1\n",
      "[18:09:47] UFFTYPER: Unrecognized charge state for atom: 1\n",
      "RDKit ERROR: [18:09:47] UFFTYPER: Unrecognized charge state for atom: 1\n",
      "[18:09:47] UFFTYPER: Unrecognized charge state for atom: 1\n",
      "RDKit ERROR: [18:09:47] UFFTYPER: Unrecognized charge state for atom: 1\n",
      "[18:09:47] UFFTYPER: Unrecognized charge state for atom: 1\n",
      "RDKit ERROR: [18:09:47] UFFTYPER: Unrecognized charge state for atom: 1\n",
      "[18:09:47] UFFTYPER: Unrecognized charge state for atom: 1\n",
      "RDKit ERROR: [18:09:47] UFFTYPER: Unrecognized charge state for atom: 1\n",
      "[18:09:47] UFFTYPER: Unrecognized charge state for atom: 1\n",
      "RDKit ERROR: [18:09:47] UFFTYPER: Unrecognized charge state for atom: 1\n",
      "[18:09:47] UFFTYPER: Unrecognized charge state for atom: 1\n",
      "RDKit ERROR: [18:09:47] UFFTYPER: Unrecognized charge state for atom: 1\n",
      "[18:09:47] UFFTYPER: Unrecognized charge state for atom: 1\n",
      "RDKit ERROR: [18:09:47] UFFTYPER: Unrecognized charge state for atom: 1\n",
      "[18:09:47] UFFTYPER: Unrecognized charge state for atom: 1\n",
      "RDKit ERROR: [18:09:47] UFFTYPER: Unrecognized charge state for atom: 1\n",
      "[18:09:47] UFFTYPER: Unrecognized charge state for atom: 1\n",
      "RDKit ERROR: [18:09:47] UFFTYPER: Unrecognized charge state for atom: 1\n",
      "[18:09:47] UFFTYPER: Unrecognized charge state for atom: 1\n",
      "RDKit ERROR: [18:09:47] UFFTYPER: Unrecognized charge state for atom: 1\n",
      "[18:09:47] UFFTYPER: Unrecognized charge state for atom: 1\n",
      "RDKit ERROR: [18:09:47] UFFTYPER: Unrecognized charge state for atom: 1\n",
      "RDKit ERROR: [18:09:47] UFFTYPER: Unrecognized charge state for atom: 1\n",
      "[18:09:47] UFFTYPER: Unrecognized charge state for atom: 1\n",
      "[18:09:47] UFFTYPER: Unrecognized charge state for atom: 1\n",
      "RDKit ERROR: [18:09:47] UFFTYPER: Unrecognized charge state for atom: 1\n",
      "RDKit ERROR: [18:09:47] UFFTYPER: Unrecognized charge state for atom: 1\n",
      "[18:09:47] UFFTYPER: Unrecognized charge state for atom: 1\n",
      "[18:09:47] UFFTYPER: Unrecognized charge state for atom: 1\n",
      "RDKit ERROR: [18:09:47] UFFTYPER: Unrecognized charge state for atom: 1\n",
      "[18:09:47] UFFTYPER: Unrecognized charge state for atom: 1\n",
      "RDKit ERROR: [18:09:47] UFFTYPER: Unrecognized charge state for atom: 1\n",
      "[18:09:47] UFFTYPER: Unrecognized charge state for atom: 1\n",
      "RDKit ERROR: [18:09:47] UFFTYPER: Unrecognized charge state for atom: 1\n",
      "[18:09:47] UFFTYPER: Unrecognized charge state for atom: 1\n",
      "RDKit ERROR: [18:09:47] UFFTYPER: Unrecognized charge state for atom: 1\n",
      "[18:09:47] UFFTYPER: Unrecognized charge state for atom: 1\n",
      "RDKit ERROR: [18:09:47] UFFTYPER: Unrecognized charge state for atom: 1\n",
      "[18:09:47] UFFTYPER: Unrecognized charge state for atom: 1\n",
      "RDKit ERROR: [18:09:47] UFFTYPER: Unrecognized charge state for atom: 1\n",
      "[18:09:47] UFFTYPER: Unrecognized charge state for atom: 1\n",
      "RDKit ERROR: [18:09:47] UFFTYPER: Unrecognized charge state for atom: 1\n",
      "[18:09:47] UFFTYPER: Unrecognized charge state for atom: 1\n",
      "RDKit ERROR: [18:09:47] UFFTYPER: Unrecognized charge state for atom: 1\n",
      "[18:09:47] UFFTYPER: Unrecognized charge state for atom: 1\n",
      "RDKit ERROR: [18:09:47] UFFTYPER: Unrecognized charge state for atom: 1\n",
      "[18:09:47] UFFTYPER: Unrecognized charge state for atom: 1\n",
      "RDKit ERROR: [18:09:47] UFFTYPER: Unrecognized charge state for atom: 1\n",
      "[18:09:47] UFFTYPER: Unrecognized charge state for atom: 1\n",
      "RDKit ERROR: [18:09:47] UFFTYPER: Unrecognized charge state for atom: 1\n",
      "[18:09:47] UFFTYPER: Unrecognized charge state for atom: 1\n",
      "RDKit ERROR: [18:09:47] UFFTYPER: Unrecognized charge state for atom: 1\n",
      "[18:09:47] UFFTYPER: Unrecognized charge state for atom: 1\n",
      "RDKit ERROR: [18:09:47] UFFTYPER: Unrecognized charge state for atom: 1\n",
      "[18:09:47] UFFTYPER: Unrecognized charge state for atom: 1\n",
      "RDKit ERROR: [18:09:47] UFFTYPER: Unrecognized charge state for atom: 1\n",
      "[18:09:47] UFFTYPER: Unrecognized charge state for atom: 1\n",
      "RDKit ERROR: [18:09:47] UFFTYPER: Unrecognized charge state for atom: 1\n",
      "[18:09:47] UFFTYPER: Unrecognized charge state for atom: 1\n",
      "RDKit ERROR: [18:09:47] UFFTYPER: Unrecognized charge state for atom: 1\n",
      "[18:09:47] UFFTYPER: Unrecognized charge state for atom: 1\n",
      "RDKit ERROR: [18:09:47] UFFTYPER: Unrecognized charge state for atom: 1\n",
      "[18:09:47] UFFTYPER: Unrecognized charge state for atom: 1\n",
      "RDKit ERROR: [18:09:47] UFFTYPER: Unrecognized charge state for atom: 1\n",
      "[18:09:47] UFFTYPER: Unrecognized charge state for atom: 1\n",
      "RDKit ERROR: [18:09:47] UFFTYPER: Unrecognized charge state for atom: 1\n",
      "[18:09:47] UFFTYPER: Unrecognized charge state for atom: 1\n",
      " 45%|█████████████████▍                     | 2036/4548 [19:17<13:48,  3.03it/s]RDKit ERROR: [18:12:55] UFFTYPER: Unrecognized charge state for atom: 14\n",
      "[18:12:55] UFFTYPER: Unrecognized charge state for atom: 14\n",
      "RDKit ERROR: [18:12:55] UFFTYPER: Unrecognized charge state for atom: 14\n",
      "[18:12:55] UFFTYPER: Unrecognized charge state for atom: 14\n",
      "RDKit ERROR: [18:12:55] UFFTYPER: Unrecognized charge state for atom: 14\n",
      "[18:12:55] UFFTYPER: Unrecognized charge state for atom: 14\n",
      "RDKit ERROR: [18:12:55] UFFTYPER: Unrecognized charge state for atom: 14\n",
      "[18:12:55] UFFTYPER: Unrecognized charge state for atom: 14\n",
      "RDKit ERROR: [18:12:55] UFFTYPER: Unrecognized charge state for atom: 14\n",
      "[18:12:55] UFFTYPER: Unrecognized charge state for atom: 14\n",
      "RDKit ERROR: [18:12:55] UFFTYPER: Unrecognized charge state for atom: 14\n",
      "[18:12:55] UFFTYPER: Unrecognized charge state for atom: 14\n",
      "RDKit ERROR: [18:12:55] UFFTYPER: Unrecognized charge state for atom: 14\n",
      "[18:12:55] UFFTYPER: Unrecognized charge state for atom: 14\n",
      "RDKit ERROR: [18:12:55] UFFTYPER: Unrecognized charge state for atom: 14\n",
      "[18:12:55] UFFTYPER: Unrecognized charge state for atom: 14\n",
      "RDKit ERROR: [18:12:55] UFFTYPER: Unrecognized charge state for atom: 14\n",
      "[18:12:55] UFFTYPER: Unrecognized charge state for atom: 14\n",
      "RDKit ERROR: [18:12:55] UFFTYPER: Unrecognized charge state for atom: 14\n",
      "[18:12:55] UFFTYPER: Unrecognized charge state for atom: 14\n",
      "RDKit ERROR: [18:12:55] UFFTYPER: Unrecognized charge state for atom: 14\n",
      "[18:12:55] UFFTYPER: Unrecognized charge state for atom: 14\n",
      "RDKit ERROR: [18:12:55] UFFTYPER: Unrecognized charge state for atom: 14\n",
      "[18:12:55] UFFTYPER: Unrecognized charge state for atom: 14\n",
      "RDKit ERROR: [18:12:55] UFFTYPER: Unrecognized charge state for atom: 14\n",
      "[18:12:55] UFFTYPER: Unrecognized charge state for atom: 14\n",
      "RDKit ERROR: [18:12:55] UFFTYPER: Unrecognized charge state for atom: 14\n",
      "[18:12:55] UFFTYPER: Unrecognized charge state for atom: 14\n",
      "RDKit ERROR: [18:12:55] UFFTYPER: Unrecognized charge state for atom: 14\n",
      "[18:12:55] UFFTYPER: Unrecognized charge state for atom: 14\n",
      "RDKit ERROR: [18:12:55] UFFTYPER: Unrecognized charge state for atom: 14\n",
      "[18:12:55] UFFTYPER: Unrecognized charge state for atom: 14\n",
      "RDKit ERROR: [18:12:55] UFFTYPER: Unrecognized charge state for atom: 14\n",
      "[18:12:55] UFFTYPER: Unrecognized charge state for atom: 14\n",
      "RDKit ERROR: [18:12:55] UFFTYPER: Unrecognized charge state for atom: 14\n",
      "[18:12:55] UFFTYPER: Unrecognized charge state for atom: 14\n",
      "RDKit ERROR: [18:12:55] UFFTYPER: Unrecognized charge state for atom: 14\n",
      "[18:12:55] UFFTYPER: Unrecognized charge state for atom: 14\n",
      "RDKit ERROR: [18:12:55] UFFTYPER: Unrecognized charge state for atom: 14\n",
      "[18:12:55] UFFTYPER: Unrecognized charge state for atom: 14\n",
      "RDKit ERROR: [18:12:55] UFFTYPER: Unrecognized charge state for atom: 14\n",
      "[18:12:55] UFFTYPER: Unrecognized charge state for atom: 14\n",
      "RDKit ERROR: [18:12:55] UFFTYPER: Unrecognized charge state for atom: 14\n",
      "[18:12:55] UFFTYPER: Unrecognized charge state for atom: 14\n",
      "RDKit ERROR: [18:12:55] UFFTYPER: Unrecognized charge state for atom: 14\n",
      "[18:12:55] UFFTYPER: Unrecognized charge state for atom: 14\n",
      "RDKit ERROR: [18:12:55] UFFTYPER: Unrecognized charge state for atom: 14\n",
      "[18:12:55] UFFTYPER: Unrecognized charge state for atom: 14\n",
      "RDKit ERROR: [18:12:55] UFFTYPER: Unrecognized charge state for atom: 14\n",
      "[18:12:55] UFFTYPER: Unrecognized charge state for atom: 14\n",
      "RDKit ERROR: [18:12:55] UFFTYPER: Unrecognized charge state for atom: 14\n",
      "[18:12:55] UFFTYPER: Unrecognized charge state for atom: 14\n",
      "RDKit ERROR: [18:12:55] UFFTYPER: Unrecognized charge state for atom: 14\n",
      "[18:12:55] UFFTYPER: Unrecognized charge state for atom: 14\n",
      "RDKit ERROR: [18:12:55] UFFTYPER: Unrecognized charge state for atom: 14\n",
      "[18:12:55] UFFTYPER: Unrecognized charge state for atom: 14\n",
      "RDKit ERROR: [18:12:55] UFFTYPER: Unrecognized charge state for atom: 14\n",
      "[18:12:55] UFFTYPER: Unrecognized charge state for atom: 14\n",
      "RDKit ERROR: [18:12:55] UFFTYPER: Unrecognized charge state for atom: 14\n",
      "RDKit ERROR: [18:12:55] UFFTYPER: Unrecognized charge state for atom: 14\n",
      "[18:12:55] UFFTYPER: Unrecognized charge state for atom: 14\n",
      "[18:12:55] UFFTYPER: Unrecognized charge state for atom: 14\n",
      "RDKit ERROR: [18:12:55] UFFTYPER: Unrecognized charge state for atom: 14\n",
      "[18:12:55] UFFTYPER: Unrecognized charge state for atom: 14\n",
      "RDKit ERROR: [18:12:55] UFFTYPER: Unrecognized charge state for atom: 14\n",
      "[18:12:55] UFFTYPER: Unrecognized charge state for atom: 14\n",
      "RDKit ERROR: [18:12:55] UFFTYPER: Unrecognized charge state for atom: 14\n",
      "[18:12:55] UFFTYPER: Unrecognized charge state for atom: 14\n",
      "RDKit ERROR: [18:12:55] UFFTYPER: Unrecognized charge state for atom: 14\n",
      "[18:12:55] UFFTYPER: Unrecognized charge state for atom: 14\n",
      "RDKit ERROR: [18:12:55] UFFTYPER: Unrecognized charge state for atom: 14\n",
      "[18:12:55] UFFTYPER: Unrecognized charge state for atom: 14\n",
      "RDKit ERROR: [18:12:55] UFFTYPER: Unrecognized charge state for atom: 14\n",
      "RDKit ERROR: [18:12:55] UFFTYPER: Unrecognized charge state for atom: 14\n",
      "[18:12:55] UFFTYPER: Unrecognized charge state for atom: 14\n",
      "[18:12:55] UFFTYPER: Unrecognized charge state for atom: 14\n",
      "RDKit ERROR: [18:12:55] UFFTYPER: Unrecognized charge state for atom: 14\n",
      "[18:12:55] UFFTYPER: Unrecognized charge state for atom: 14\n",
      "RDKit ERROR: [18:12:55] UFFTYPER: Unrecognized charge state for atom: 14\n",
      "[18:12:55] UFFTYPER: Unrecognized charge state for atom: 14\n",
      "RDKit ERROR: [18:12:55] UFFTYPER: Unrecognized charge state for atom: 14\n",
      "[18:12:55] UFFTYPER: Unrecognized charge state for atom: 14\n",
      "RDKit ERROR: [18:12:55] UFFTYPER: Unrecognized charge state for atom: 14\n",
      "RDKit ERROR: [18:12:55] UFFTYPER: Unrecognized charge state for atom: 14\n",
      "[18:12:55] UFFTYPER: Unrecognized charge state for atom: 14\n",
      "[18:12:55] UFFTYPER: Unrecognized charge state for atom: 14\n",
      "RDKit ERROR: [18:12:55] UFFTYPER: Unrecognized charge state for atom: 14\n",
      "[18:12:55] UFFTYPER: Unrecognized charge state for atom: 14\n",
      "RDKit ERROR: [18:12:55] UFFTYPER: Unrecognized charge state for atom: 14\n",
      "[18:12:55] UFFTYPER: Unrecognized charge state for atom: 14\n",
      "RDKit ERROR: [18:12:55] UFFTYPER: Unrecognized charge state for atom: 14\n",
      "RDKit ERROR: [18:12:55] UFFTYPER: Unrecognized charge state for atom: 14\n",
      "[18:12:55] UFFTYPER: Unrecognized charge state for atom: 14\n",
      "[18:12:55] UFFTYPER: Unrecognized charge state for atom: 14\n",
      "RDKit ERROR: [18:12:55] UFFTYPER: Unrecognized charge state for atom: 14\n",
      "[18:12:55] UFFTYPER: Unrecognized charge state for atom: 14\n",
      "RDKit ERROR: [18:12:55] UFFTYPER: Unrecognized charge state for atom: 14\n",
      "[18:12:55] UFFTYPER: Unrecognized charge state for atom: 14\n",
      "RDKit ERROR: [18:12:55] UFFTYPER: Unrecognized charge state for atom: 14\n",
      "[18:12:55] UFFTYPER: Unrecognized charge state for atom: 14\n",
      "RDKit ERROR: [18:12:55] UFFTYPER: Unrecognized charge state for atom: 14\n",
      "[18:12:55] UFFTYPER: Unrecognized charge state for atom: 14\n",
      "RDKit ERROR: [18:12:55] UFFTYPER: Unrecognized charge state for atom: 14\n",
      "[18:12:55] UFFTYPER: Unrecognized charge state for atom: 14\n",
      "RDKit ERROR: [18:12:55] UFFTYPER: Unrecognized charge state for atom: 14\n",
      "[18:12:55] UFFTYPER: Unrecognized charge state for atom: 14\n",
      "RDKit ERROR: [18:12:55] UFFTYPER: Unrecognized charge state for atom: 14\n",
      "[18:12:55] UFFTYPER: Unrecognized charge state for atom: 14\n",
      "RDKit ERROR: [18:12:55] UFFTYPER: Unrecognized charge state for atom: 14\n",
      "[18:12:55] UFFTYPER: Unrecognized charge state for atom: 14\n",
      "RDKit ERROR: [18:12:55] UFFTYPER: Unrecognized charge state for atom: 14\n",
      "[18:12:55] UFFTYPER: Unrecognized charge state for atom: 14\n",
      "RDKit ERROR: [18:12:55] UFFTYPER: Unrecognized charge state for atom: 14\n",
      "[18:12:55] UFFTYPER: Unrecognized charge state for atom: 14\n",
      "RDKit ERROR: [18:12:55] UFFTYPER: Unrecognized charge state for atom: 14\n",
      "[18:12:55] UFFTYPER: Unrecognized charge state for atom: 14\n",
      "RDKit ERROR: [18:12:55] UFFTYPER: Unrecognized charge state for atom: 14\n",
      "[18:12:55] UFFTYPER: Unrecognized charge state for atom: 14\n",
      "RDKit ERROR: [18:12:55] UFFTYPER: Unrecognized charge state for atom: 14\n",
      "[18:12:55] UFFTYPER: Unrecognized charge state for atom: 14\n",
      "RDKit ERROR: [18:12:55] UFFTYPER: Unrecognized charge state for atom: 14\n",
      "[18:12:55] UFFTYPER: Unrecognized charge state for atom: 14\n",
      "RDKit ERROR: [18:12:55] UFFTYPER: Unrecognized charge state for atom: 14\n",
      "[18:12:55] UFFTYPER: Unrecognized charge state for atom: 14\n",
      "RDKit ERROR: [18:12:55] UFFTYPER: Unrecognized charge state for atom: 14\n",
      "[18:12:55] UFFTYPER: Unrecognized charge state for atom: 14\n",
      "RDKit ERROR: [18:12:55] UFFTYPER: Unrecognized charge state for atom: 14\n",
      "[18:12:55] UFFTYPER: Unrecognized charge state for atom: 14\n",
      "RDKit ERROR: [18:12:55] UFFTYPER: Unrecognized charge state for atom: 14\n",
      "[18:12:55] UFFTYPER: Unrecognized charge state for atom: 14\n",
      "RDKit ERROR: [18:12:55] UFFTYPER: Unrecognized charge state for atom: 14\n",
      "[18:12:55] UFFTYPER: Unrecognized charge state for atom: 14\n",
      "RDKit ERROR: [18:12:55] UFFTYPER: Unrecognized charge state for atom: 14\n",
      "[18:12:55] UFFTYPER: Unrecognized charge state for atom: 14\n",
      "RDKit ERROR: [18:12:55] UFFTYPER: Unrecognized charge state for atom: 14\n",
      "[18:12:55] UFFTYPER: Unrecognized charge state for atom: 14\n",
      "RDKit ERROR: [18:12:55] UFFTYPER: Unrecognized charge state for atom: 14\n",
      "[18:12:55] UFFTYPER: Unrecognized charge state for atom: 14\n",
      "RDKit ERROR: [18:12:55] UFFTYPER: Unrecognized charge state for atom: 14\n",
      "RDKit ERROR: [18:12:55] UFFTYPER: Unrecognized charge state for atom: 14\n",
      "[18:12:55] UFFTYPER: Unrecognized charge state for atom: 14\n",
      "[18:12:55] UFFTYPER: Unrecognized charge state for atom: 14\n",
      "RDKit ERROR: [18:12:55] UFFTYPER: Unrecognized charge state for atom: 14\n",
      "[18:12:55] UFFTYPER: Unrecognized charge state for atom: 14\n",
      "RDKit ERROR: [18:12:55] UFFTYPER: Unrecognized charge state for atom: 14\n",
      "[18:12:55] UFFTYPER: Unrecognized charge state for atom: 14\n",
      "RDKit ERROR: [18:12:55] UFFTYPER: Unrecognized charge state for atom: 14\n",
      "RDKit ERROR: [18:12:55] UFFTYPER: Unrecognized charge state for atom: 14\n",
      "[18:12:55] UFFTYPER: Unrecognized charge state for atom: 14\n",
      "[18:12:55] UFFTYPER: Unrecognized charge state for atom: 14\n",
      "RDKit ERROR: [18:12:55] UFFTYPER: Unrecognized charge state for atom: 14\n",
      "[18:12:55] UFFTYPER: Unrecognized charge state for atom: 14\n",
      "RDKit ERROR: [18:12:55] UFFTYPER: Unrecognized charge state for atom: 14\n",
      "[18:12:55] UFFTYPER: Unrecognized charge state for atom: 14\n",
      "RDKit ERROR: [18:12:55] UFFTYPER: Unrecognized charge state for atom: 14\n",
      "[18:12:55] UFFTYPER: Unrecognized charge state for atom: 14\n",
      "RDKit ERROR: [18:12:55] UFFTYPER: Unrecognized charge state for atom: 14\n",
      "[18:12:55] UFFTYPER: Unrecognized charge state for atom: 14\n",
      "RDKit ERROR: [18:12:55] UFFTYPER: Unrecognized charge state for atom: 14\n",
      "[18:12:55] UFFTYPER: Unrecognized charge state for atom: 14\n",
      "RDKit ERROR: [18:12:55] UFFTYPER: Unrecognized charge state for atom: 14\n",
      "[18:12:55] UFFTYPER: Unrecognized charge state for atom: 14\n",
      "RDKit ERROR: [18:12:55] UFFTYPER: Unrecognized charge state for atom: 14\n",
      "[18:12:55] UFFTYPER: Unrecognized charge state for atom: 14\n",
      "RDKit ERROR: [18:12:55] UFFTYPER: Unrecognized charge state for atom: 14\n",
      "RDKit ERROR: [18:12:55] UFFTYPER: Unrecognized charge state for atom: 14\n",
      "[18:12:55] UFFTYPER: Unrecognized charge state for atom: 14\n",
      "[18:12:55] UFFTYPER: Unrecognized charge state for atom: 14\n",
      "RDKit ERROR: [18:12:55] UFFTYPER: Unrecognized charge state for atom: 14\n",
      "RDKit ERROR: [18:12:55] UFFTYPER: Unrecognized charge state for atom: 14\n",
      "[18:12:55] UFFTYPER: Unrecognized charge state for atom: 14\n",
      "[18:12:55] UFFTYPER: Unrecognized charge state for atom: 14\n",
      "RDKit ERROR: [18:12:55] UFFTYPER: Unrecognized charge state for atom: 14\n",
      "[18:12:55] UFFTYPER: Unrecognized charge state for atom: 14\n",
      "RDKit ERROR: [18:12:55] UFFTYPER: Unrecognized charge state for atom: 14\n",
      "RDKit ERROR: [18:12:55] UFFTYPER: Unrecognized charge state for atom: 14\n",
      "RDKit ERROR: [18:12:55] UFFTYPER: Unrecognized charge state for atom: 14\n",
      "[18:12:55] UFFTYPER: Unrecognized charge state for atom: 14\n",
      "RDKit ERROR: [18:12:55] UFFTYPER: Unrecognized charge state for atom: 14\n",
      "RDKit ERROR: [18:12:55] UFFTYPER: Unrecognized charge state for atom: 14\n",
      "[18:12:55] UFFTYPER: Unrecognized charge state for atom: 14\n",
      "[18:12:55] UFFTYPER: Unrecognized charge state for atom: 14\n",
      "[18:12:55] UFFTYPER: Unrecognized charge state for atom: 14\n",
      "[18:12:55] UFFTYPER: Unrecognized charge state for atom: 14\n",
      "RDKit ERROR: [18:12:55] UFFTYPER: Unrecognized charge state for atom: 14\n",
      "[18:12:55] UFFTYPER: Unrecognized charge state for atom: 14\n",
      "RDKit ERROR: [18:12:55] UFFTYPER: Unrecognized charge state for atom: 14\n",
      "[18:12:55] UFFTYPER: Unrecognized charge state for atom: 14\n",
      "RDKit ERROR: [18:12:55] UFFTYPER: Unrecognized charge state for atom: 14\n",
      "RDKit ERROR: [18:12:55] UFFTYPER: Unrecognized charge state for atom: 14\n",
      "[18:12:55] UFFTYPER: Unrecognized charge state for atom: 14\n",
      "[18:12:55] UFFTYPER: Unrecognized charge state for atom: 14\n",
      "RDKit ERROR: [18:12:55] UFFTYPER: Unrecognized charge state for atom: 14\n",
      "[18:12:55] UFFTYPER: Unrecognized charge state for atom: 14\n",
      "RDKit ERROR: [18:12:55] UFFTYPER: Unrecognized charge state for atom: 14\n",
      "[18:12:55] UFFTYPER: Unrecognized charge state for atom: 14\n",
      "RDKit ERROR: [18:12:55] UFFTYPER: Unrecognized charge state for atom: 14\n",
      "[18:12:55] UFFTYPER: Unrecognized charge state for atom: 14\n",
      "RDKit ERROR: [18:12:55] UFFTYPER: Unrecognized charge state for atom: 14\n",
      "RDKit ERROR: [18:12:55] UFFTYPER: Unrecognized charge state for atom: 14\n",
      "[18:12:55] UFFTYPER: Unrecognized charge state for atom: 14\n",
      "[18:12:55] UFFTYPER: Unrecognized charge state for atom: 14\n",
      " 54%|█████████████████████                  | 2454/4548 [21:30<23:15,  1.50it/s]RDKit ERROR: [18:15:09] UFFTYPER: Unrecognized charge state for atom: 11\n",
      "[18:15:09] UFFTYPER: Unrecognized charge state for atom: 11\n",
      "RDKit ERROR: [18:15:09] UFFTYPER: Unrecognized charge state for atom: 11\n",
      "RDKit ERROR: [18:15:09] UFFTYPER: Unrecognized charge state for atom: 11\n",
      "RDKit ERROR: [18:15:09] UFFTYPER: Unrecognized charge state for atom: 11\n",
      "[18:15:09] UFFTYPER: Unrecognized charge state for atom: 11\n",
      "RDKit ERROR: [18:15:09] UFFTYPER: Unrecognized charge state for atom: 11\n",
      "[18:15:09] UFFTYPER: Unrecognized charge state for atom: 11\n",
      "[18:15:09] UFFTYPER: Unrecognized charge state for atom: 11\n",
      "[18:15:09] UFFTYPER: Unrecognized charge state for atom: 11\n",
      "RDKit ERROR: [18:15:09] UFFTYPER: Unrecognized charge state for atom: 11\n",
      "[18:15:09] UFFTYPER: Unrecognized charge state for atom: 11\n",
      "RDKit ERROR: [18:15:09] UFFTYPER: Unrecognized charge state for atom: 11\n",
      "[18:15:09] UFFTYPER: Unrecognized charge state for atom: 11\n",
      " 63%|████████████████████████▊              | 2887/4548 [24:12<09:37,  2.88it/s]RDKit ERROR: [18:17:50] UFFTYPER: Unrecognized charge state for atom: 9\n",
      "[18:17:50] UFFTYPER: Unrecognized charge state for atom: 9\n",
      "RDKit ERROR: [18:17:50] UFFTYPER: Unrecognized charge state for atom: 9\n",
      "[18:17:50] UFFTYPER: Unrecognized charge state for atom: 9\n",
      "RDKit ERROR: [18:17:50] UFFTYPER: Unrecognized charge state for atom: 9\n",
      "[18:17:50] UFFTYPER: Unrecognized charge state for atom: 9\n",
      "RDKit ERROR: [18:17:50] UFFTYPER: Unrecognized charge state for atom: 9\n",
      "[18:17:50] UFFTYPER: Unrecognized charge state for atom: 9\n",
      "RDKit ERROR: [18:17:50] UFFTYPER: Unrecognized charge state for atom: 9\n",
      "[18:17:50] UFFTYPER: Unrecognized charge state for atom: 9\n",
      "RDKit ERROR: [18:17:50] UFFTYPER: Unrecognized charge state for atom: 9\n",
      "[18:17:50] UFFTYPER: Unrecognized charge state for atom: 9\n",
      "RDKit ERROR: [18:17:50] UFFTYPER: Unrecognized charge state for atom: 9\n",
      "[18:17:50] UFFTYPER: Unrecognized charge state for atom: 9\n",
      "RDKit ERROR: [18:17:50] UFFTYPER: Unrecognized charge state for atom: 9\n",
      "[18:17:50] UFFTYPER: Unrecognized charge state for atom: 9\n",
      "RDKit ERROR: [18:17:50] UFFTYPER: Unrecognized charge state for atom: 9\n",
      "[18:17:50] UFFTYPER: Unrecognized charge state for atom: 9\n",
      "RDKit ERROR: [18:17:50] UFFTYPER: Unrecognized charge state for atom: 9\n",
      "[18:17:50] UFFTYPER: Unrecognized charge state for atom: 9\n",
      "RDKit ERROR: [18:17:50] UFFTYPER: Unrecognized charge state for atom: 9\n",
      "[18:17:50] UFFTYPER: Unrecognized charge state for atom: 9\n",
      "RDKit ERROR: [18:17:50] UFFTYPER: Unrecognized charge state for atom: 9\n",
      "[18:17:50] UFFTYPER: Unrecognized charge state for atom: 9\n",
      "RDKit ERROR: [18:17:50] UFFTYPER: Unrecognized charge state for atom: 9\n",
      "[18:17:50] UFFTYPER: Unrecognized charge state for atom: 9\n",
      "RDKit ERROR: [18:17:50] UFFTYPER: Unrecognized charge state for atom: 9\n",
      "[18:17:50] UFFTYPER: Unrecognized charge state for atom: 9\n",
      "RDKit ERROR: [18:17:50] UFFTYPER: Unrecognized charge state for atom: 9\n",
      "[18:17:50] UFFTYPER: Unrecognized charge state for atom: 9\n",
      "RDKit ERROR: [18:17:50] UFFTYPER: Unrecognized charge state for atom: 9\n",
      "[18:17:50] UFFTYPER: Unrecognized charge state for atom: 9\n",
      "RDKit ERROR: [18:17:50] UFFTYPER: Unrecognized charge state for atom: 9\n",
      "[18:17:50] UFFTYPER: Unrecognized charge state for atom: 9\n",
      "RDKit ERROR: [18:17:50] UFFTYPER: Unrecognized charge state for atom: 9\n",
      "[18:17:50] UFFTYPER: Unrecognized charge state for atom: 9\n",
      "RDKit ERROR: [18:17:50] UFFTYPER: Unrecognized charge state for atom: 9\n",
      "[18:17:50] UFFTYPER: Unrecognized charge state for atom: 9\n",
      "RDKit ERROR: [18:17:50] UFFTYPER: Unrecognized charge state for atom: 9\n",
      "[18:17:50] UFFTYPER: Unrecognized charge state for atom: 9\n",
      "RDKit ERROR: [18:17:50] UFFTYPER: Unrecognized charge state for atom: 9\n",
      "[18:17:50] UFFTYPER: Unrecognized charge state for atom: 9\n",
      "RDKit ERROR: [18:17:50] UFFTYPER: Unrecognized charge state for atom: 9\n",
      "[18:17:50] UFFTYPER: Unrecognized charge state for atom: 9\n",
      "RDKit ERROR: [18:17:50] UFFTYPER: Unrecognized charge state for atom: 9\n",
      "[18:17:50] UFFTYPER: Unrecognized charge state for atom: 9\n",
      "RDKit ERROR: [18:17:50] UFFTYPER: Unrecognized charge state for atom: 9\n",
      "[18:17:50] UFFTYPER: Unrecognized charge state for atom: 9\n",
      "RDKit ERROR: [18:17:50] UFFTYPER: Unrecognized charge state for atom: 9\n",
      "[18:17:50] UFFTYPER: Unrecognized charge state for atom: 9\n",
      "RDKit ERROR: [18:17:50] UFFTYPER: Unrecognized charge state for atom: 9\n",
      "[18:17:50] UFFTYPER: Unrecognized charge state for atom: 9\n",
      "RDKit ERROR: [18:17:50] UFFTYPER: Unrecognized charge state for atom: 9\n",
      "[18:17:50] UFFTYPER: Unrecognized charge state for atom: 9\n",
      "RDKit ERROR: [18:17:50] UFFTYPER: Unrecognized charge state for atom: 9\n",
      "[18:17:50] UFFTYPER: Unrecognized charge state for atom: 9\n",
      "RDKit ERROR: [18:17:50] UFFTYPER: Unrecognized charge state for atom: 9\n",
      "[18:17:50] UFFTYPER: Unrecognized charge state for atom: 9\n",
      "RDKit ERROR: [18:17:50] UFFTYPER: Unrecognized charge state for atom: 9\n",
      "[18:17:50] UFFTYPER: Unrecognized charge state for atom: 9\n",
      "RDKit ERROR: [18:17:50] UFFTYPER: Unrecognized charge state for atom: 9\n",
      "[18:17:50] UFFTYPER: Unrecognized charge state for atom: 9\n",
      "RDKit ERROR: [18:17:50] UFFTYPER: Unrecognized charge state for atom: 9\n",
      "[18:17:50] UFFTYPER: Unrecognized charge state for atom: 9\n",
      "RDKit ERROR: [18:17:50] UFFTYPER: Unrecognized charge state for atom: 9\n",
      "[18:17:50] UFFTYPER: Unrecognized charge state for atom: 9\n",
      "RDKit ERROR: [18:17:50] UFFTYPER: Unrecognized charge state for atom: 9\n",
      "[18:17:50] UFFTYPER: Unrecognized charge state for atom: 9\n",
      "RDKit ERROR: [18:17:50] UFFTYPER: Unrecognized charge state for atom: 9\n",
      "[18:17:50] UFFTYPER: Unrecognized charge state for atom: 9\n",
      "RDKit ERROR: [18:17:50] UFFTYPER: Unrecognized charge state for atom: 9\n",
      "[18:17:50] UFFTYPER: Unrecognized charge state for atom: 9\n",
      "RDKit ERROR: [18:17:50] UFFTYPER: Unrecognized charge state for atom: 9\n",
      "[18:17:50] UFFTYPER: Unrecognized charge state for atom: 9\n",
      "RDKit ERROR: [18:17:50] UFFTYPER: Unrecognized charge state for atom: 9\n",
      "[18:17:50] UFFTYPER: Unrecognized charge state for atom: 9\n",
      "RDKit ERROR: [18:17:50] UFFTYPER: Unrecognized charge state for atom: 9\n",
      "[18:17:50] UFFTYPER: Unrecognized charge state for atom: 9\n",
      "RDKit ERROR: [18:17:50] UFFTYPER: Unrecognized charge state for atom: 9\n",
      "[18:17:50] UFFTYPER: Unrecognized charge state for atom: 9\n",
      "RDKit ERROR: [18:17:50] UFFTYPER: Unrecognized charge state for atom: 9\n",
      "[18:17:50] UFFTYPER: Unrecognized charge state for atom: 9\n",
      "RDKit ERROR: [18:17:50] UFFTYPER: Unrecognized charge state for atom: 9\n",
      "[18:17:50] UFFTYPER: Unrecognized charge state for atom: 9\n",
      "RDKit ERROR: [18:17:50] UFFTYPER: Unrecognized charge state for atom: 9\n",
      "[18:17:50] UFFTYPER: Unrecognized charge state for atom: 9\n",
      "RDKit ERROR: [18:17:50] UFFTYPER: Unrecognized charge state for atom: 9\n",
      "[18:17:50] UFFTYPER: Unrecognized charge state for atom: 9\n",
      "RDKit ERROR: [18:17:50] UFFTYPER: Unrecognized charge state for atom: 9\n",
      "[18:17:50] UFFTYPER: Unrecognized charge state for atom: 9\n",
      "RDKit ERROR: [18:17:50] UFFTYPER: Unrecognized charge state for atom: 9\n",
      "[18:17:50] UFFTYPER: Unrecognized charge state for atom: 9\n",
      "RDKit ERROR: [18:17:50] UFFTYPER: Unrecognized charge state for atom: 9\n",
      "[18:17:50] UFFTYPER: Unrecognized charge state for atom: 9\n",
      "RDKit ERROR: [18:17:50] UFFTYPER: Unrecognized charge state for atom: 9\n",
      "[18:17:50] UFFTYPER: Unrecognized charge state for atom: 9\n",
      "RDKit ERROR: [18:17:50] UFFTYPER: Unrecognized charge state for atom: 9\n",
      "[18:17:50] UFFTYPER: Unrecognized charge state for atom: 9\n",
      "RDKit ERROR: [18:17:50] UFFTYPER: Unrecognized charge state for atom: 9\n",
      "[18:17:50] UFFTYPER: Unrecognized charge state for atom: 9\n",
      "RDKit ERROR: [18:17:50] UFFTYPER: Unrecognized charge state for atom: 9\n",
      "[18:17:50] UFFTYPER: Unrecognized charge state for atom: 9\n",
      "RDKit ERROR: [18:17:50] UFFTYPER: Unrecognized charge state for atom: 9\n",
      "[18:17:50] UFFTYPER: Unrecognized charge state for atom: 9\n",
      "RDKit ERROR: [18:17:50] UFFTYPER: Unrecognized charge state for atom: 9\n",
      "[18:17:50] UFFTYPER: Unrecognized charge state for atom: 9\n",
      "RDKit ERROR: [18:17:50] UFFTYPER: Unrecognized charge state for atom: 9\n",
      "[18:17:50] UFFTYPER: Unrecognized charge state for atom: 9\n",
      "RDKit ERROR: [18:17:50] UFFTYPER: Unrecognized charge state for atom: 9\n",
      "[18:17:50] UFFTYPER: Unrecognized charge state for atom: 9\n",
      "RDKit ERROR: [18:17:50] UFFTYPER: Unrecognized charge state for atom: 9\n",
      "[18:17:50] UFFTYPER: Unrecognized charge state for atom: 9\n",
      "RDKit ERROR: [18:17:50] UFFTYPER: Unrecognized charge state for atom: 9\n",
      "[18:17:50] UFFTYPER: Unrecognized charge state for atom: 9\n",
      "RDKit ERROR: [18:17:50] UFFTYPER: Unrecognized charge state for atom: 9\n",
      "[18:17:50] UFFTYPER: Unrecognized charge state for atom: 9\n",
      "RDKit ERROR: [18:17:50] UFFTYPER: Unrecognized charge state for atom: 9\n",
      "[18:17:50] UFFTYPER: Unrecognized charge state for atom: 9\n",
      "RDKit ERROR: [18:17:50] UFFTYPER: Unrecognized charge state for atom: 9\n",
      "[18:17:50] UFFTYPER: Unrecognized charge state for atom: 9\n",
      "RDKit ERROR: [18:17:50] UFFTYPER: Unrecognized charge state for atom: 9\n",
      "[18:17:50] UFFTYPER: Unrecognized charge state for atom: 9\n",
      "RDKit ERROR: [18:17:50] UFFTYPER: Unrecognized charge state for atom: 9\n",
      "[18:17:50] UFFTYPER: Unrecognized charge state for atom: 9\n",
      "RDKit ERROR: [18:17:50] UFFTYPER: Unrecognized charge state for atom: 9\n",
      "[18:17:50] UFFTYPER: Unrecognized charge state for atom: 9\n",
      "RDKit ERROR: [18:17:50] UFFTYPER: Unrecognized charge state for atom: 9\n",
      "[18:17:50] UFFTYPER: Unrecognized charge state for atom: 9\n",
      "RDKit ERROR: [18:17:50] UFFTYPER: Unrecognized charge state for atom: 9\n",
      "[18:17:50] UFFTYPER: Unrecognized charge state for atom: 9\n",
      "RDKit ERROR: [18:17:50] UFFTYPER: Unrecognized charge state for atom: 9\n",
      "[18:17:50] UFFTYPER: Unrecognized charge state for atom: 9\n",
      "RDKit ERROR: [18:17:50] UFFTYPER: Unrecognized charge state for atom: 9\n",
      "[18:17:50] UFFTYPER: Unrecognized charge state for atom: 9\n",
      "RDKit ERROR: [18:17:50] UFFTYPER: Unrecognized charge state for atom: 9\n",
      "[18:17:50] UFFTYPER: Unrecognized charge state for atom: 9\n",
      "RDKit ERROR: [18:17:50] UFFTYPER: Unrecognized charge state for atom: 9\n",
      "[18:17:50] UFFTYPER: Unrecognized charge state for atom: 9\n",
      "RDKit ERROR: [18:17:50] UFFTYPER: Unrecognized charge state for atom: 9\n",
      "[18:17:50] UFFTYPER: Unrecognized charge state for atom: 9\n",
      "RDKit ERROR: [18:17:50] UFFTYPER: Unrecognized charge state for atom: 9\n",
      "[18:17:50] UFFTYPER: Unrecognized charge state for atom: 9\n",
      "RDKit ERROR: [18:17:50] UFFTYPER: Unrecognized charge state for atom: 9\n",
      "[18:17:50] UFFTYPER: Unrecognized charge state for atom: 9\n",
      "RDKit ERROR: [18:17:50] UFFTYPER: Unrecognized charge state for atom: 9\n",
      "[18:17:50] UFFTYPER: Unrecognized charge state for atom: 9\n",
      "RDKit ERROR: [18:17:50] UFFTYPER: Unrecognized charge state for atom: 9\n",
      "[18:17:50] UFFTYPER: Unrecognized charge state for atom: 9\n",
      "RDKit ERROR: [18:17:50] UFFTYPER: Unrecognized charge state for atom: 9\n",
      "[18:17:50] UFFTYPER: Unrecognized charge state for atom: 9\n",
      "RDKit ERROR: [18:17:50] UFFTYPER: Unrecognized charge state for atom: 9\n",
      "[18:17:50] UFFTYPER: Unrecognized charge state for atom: 9\n",
      "RDKit ERROR: [18:17:50] UFFTYPER: Unrecognized charge state for atom: 9\n",
      "[18:17:50] UFFTYPER: Unrecognized charge state for atom: 9\n",
      "RDKit ERROR: [18:17:50] UFFTYPER: Unrecognized charge state for atom: 9\n",
      "[18:17:50] UFFTYPER: Unrecognized charge state for atom: 9\n",
      "RDKit ERROR: [18:17:50] UFFTYPER: Unrecognized charge state for atom: 9\n",
      "[18:17:50] UFFTYPER: Unrecognized charge state for atom: 9\n",
      "RDKit ERROR: [18:17:50] UFFTYPER: Unrecognized charge state for atom: 9\n",
      "[18:17:50] UFFTYPER: Unrecognized charge state for atom: 9\n",
      "RDKit ERROR: [18:17:50] UFFTYPER: Unrecognized charge state for atom: 9\n",
      "[18:17:50] UFFTYPER: Unrecognized charge state for atom: 9\n",
      "RDKit ERROR: [18:17:50] UFFTYPER: Unrecognized charge state for atom: 9\n",
      "[18:17:50] UFFTYPER: Unrecognized charge state for atom: 9\n",
      "RDKit ERROR: [18:17:50] UFFTYPER: Unrecognized charge state for atom: 9\n",
      "[18:17:50] UFFTYPER: Unrecognized charge state for atom: 9\n",
      "RDKit ERROR: [18:17:50] UFFTYPER: Unrecognized charge state for atom: 9\n",
      "[18:17:50] UFFTYPER: Unrecognized charge state for atom: 9\n",
      "RDKit ERROR: [18:17:50] UFFTYPER: Unrecognized charge state for atom: 9\n",
      "[18:17:50] UFFTYPER: Unrecognized charge state for atom: 9\n",
      "RDKit ERROR: [18:17:50] UFFTYPER: Unrecognized charge state for atom: 9\n",
      "[18:17:50] UFFTYPER: Unrecognized charge state for atom: 9\n",
      "RDKit ERROR: [18:17:50] UFFTYPER: Unrecognized charge state for atom: 9\n",
      "[18:17:50] UFFTYPER: Unrecognized charge state for atom: 9\n",
      "RDKit ERROR: [18:17:50] UFFTYPER: Unrecognized charge state for atom: 9\n",
      "[18:17:50] UFFTYPER: Unrecognized charge state for atom: 9\n",
      "RDKit ERROR: [18:17:50] UFFTYPER: Unrecognized charge state for atom: 9\n",
      "[18:17:50] UFFTYPER: Unrecognized charge state for atom: 9\n",
      "RDKit ERROR: [18:17:50] UFFTYPER: Unrecognized charge state for atom: 9\n",
      "[18:17:50] UFFTYPER: Unrecognized charge state for atom: 9\n",
      "RDKit ERROR: [18:17:50] UFFTYPER: Unrecognized charge state for atom: 9\n",
      "[18:17:50] UFFTYPER: Unrecognized charge state for atom: 9\n",
      "RDKit ERROR: [18:17:50] UFFTYPER: Unrecognized charge state for atom: 9\n",
      "[18:17:50] UFFTYPER: Unrecognized charge state for atom: 9\n",
      "RDKit ERROR: [18:17:50] UFFTYPER: Unrecognized charge state for atom: 9\n",
      "[18:17:50] UFFTYPER: Unrecognized charge state for atom: 9\n",
      "RDKit ERROR: [18:17:50] UFFTYPER: Unrecognized charge state for atom: 9\n",
      "[18:17:50] UFFTYPER: Unrecognized charge state for atom: 9\n",
      "RDKit ERROR: [18:17:50] UFFTYPER: Unrecognized charge state for atom: 9\n",
      "[18:17:50] UFFTYPER: Unrecognized charge state for atom: 9\n",
      "RDKit ERROR: [18:17:50] UFFTYPER: Unrecognized charge state for atom: 9\n",
      "[18:17:50] UFFTYPER: Unrecognized charge state for atom: 9\n",
      "RDKit ERROR: [18:17:50] UFFTYPER: Unrecognized charge state for atom: 9\n",
      "[18:17:50] UFFTYPER: Unrecognized charge state for atom: 9\n",
      "RDKit ERROR: [18:17:50] UFFTYPER: Unrecognized charge state for atom: 9\n",
      "[18:17:50] UFFTYPER: Unrecognized charge state for atom: 9\n",
      "RDKit ERROR: [18:17:50] UFFTYPER: Unrecognized charge state for atom: 9\n",
      "[18:17:50] UFFTYPER: Unrecognized charge state for atom: 9\n",
      "RDKit ERROR: [18:17:50] UFFTYPER: Unrecognized charge state for atom: 9\n",
      "[18:17:50] UFFTYPER: Unrecognized charge state for atom: 9\n",
      "RDKit ERROR: [18:17:50] UFFTYPER: Unrecognized charge state for atom: 9\n",
      "[18:17:50] UFFTYPER: Unrecognized charge state for atom: 9\n",
      " 64%|████████████████████████▊              | 2888/4548 [24:12<10:08,  2.73it/s]RDKit ERROR: [18:17:50] UFFTYPER: Unrecognized charge state for atom: 8\n",
      "[18:17:50] UFFTYPER: Unrecognized charge state for atom: 8\n",
      "RDKit ERROR: [18:17:50] UFFTYPER: Unrecognized charge state for atom: 8\n",
      "[18:17:50] UFFTYPER: Unrecognized charge state for atom: 8\n",
      "RDKit ERROR: [18:17:50] UFFTYPER: Unrecognized charge state for atom: 8\n",
      "[18:17:50] UFFTYPER: Unrecognized charge state for atom: 8\n",
      "RDKit ERROR: [18:17:50] UFFTYPER: Unrecognized charge state for atom: 8\n",
      "[18:17:50] UFFTYPER: Unrecognized charge state for atom: 8\n",
      "RDKit ERROR: [18:17:50] UFFTYPER: Unrecognized charge state for atom: 8\n",
      "[18:17:50] UFFTYPER: Unrecognized charge state for atom: 8\n",
      "RDKit ERROR: [18:17:50] UFFTYPER: Unrecognized charge state for atom: 8\n",
      "[18:17:50] UFFTYPER: Unrecognized charge state for atom: 8\n",
      "RDKit ERROR: [18:17:50] UFFTYPER: Unrecognized charge state for atom: 8\n",
      "[18:17:50] UFFTYPER: Unrecognized charge state for atom: 8\n",
      "RDKit ERROR: [18:17:50] UFFTYPER: Unrecognized charge state for atom: 8\n",
      "[18:17:50] UFFTYPER: Unrecognized charge state for atom: 8\n",
      "RDKit ERROR: [18:17:50] UFFTYPER: Unrecognized charge state for atom: 8\n",
      "[18:17:50] UFFTYPER: Unrecognized charge state for atom: 8\n",
      "RDKit ERROR: [18:17:50] UFFTYPER: Unrecognized charge state for atom: 8\n",
      "[18:17:50] UFFTYPER: Unrecognized charge state for atom: 8\n",
      "RDKit ERROR: [18:17:50] UFFTYPER: Unrecognized charge state for atom: 8\n",
      "[18:17:50] UFFTYPER: Unrecognized charge state for atom: 8\n",
      "RDKit ERROR: [18:17:50] UFFTYPER: Unrecognized charge state for atom: 8\n",
      "[18:17:50] UFFTYPER: Unrecognized charge state for atom: 8\n",
      "RDKit ERROR: [18:17:50] UFFTYPER: Unrecognized charge state for atom: 8\n",
      "[18:17:50] UFFTYPER: Unrecognized charge state for atom: 8\n",
      "RDKit ERROR: [18:17:50] UFFTYPER: Unrecognized charge state for atom: 8\n",
      "[18:17:50] UFFTYPER: Unrecognized charge state for atom: 8\n",
      "RDKit ERROR: [18:17:50] UFFTYPER: Unrecognized charge state for atom: 8\n",
      "[18:17:50] UFFTYPER: Unrecognized charge state for atom: 8\n",
      "RDKit ERROR: [18:17:50] UFFTYPER: Unrecognized charge state for atom: 8\n",
      "[18:17:50] UFFTYPER: Unrecognized charge state for atom: 8\n",
      "RDKit ERROR: [18:17:50] UFFTYPER: Unrecognized charge state for atom: 8\n",
      "[18:17:50] UFFTYPER: Unrecognized charge state for atom: 8\n",
      "RDKit ERROR: [18:17:50] UFFTYPER: Unrecognized charge state for atom: 8\n",
      "[18:17:50] UFFTYPER: Unrecognized charge state for atom: 8\n",
      "RDKit ERROR: [18:17:50] UFFTYPER: Unrecognized charge state for atom: 8\n",
      "[18:17:50] UFFTYPER: Unrecognized charge state for atom: 8\n",
      "RDKit ERROR: [18:17:50] UFFTYPER: Unrecognized charge state for atom: 8\n",
      "[18:17:50] UFFTYPER: Unrecognized charge state for atom: 8\n",
      "RDKit ERROR: [18:17:50] UFFTYPER: Unrecognized charge state for atom: 8\n",
      "[18:17:50] UFFTYPER: Unrecognized charge state for atom: 8\n",
      "RDKit ERROR: [18:17:50] UFFTYPER: Unrecognized charge state for atom: 8\n",
      "[18:17:50] UFFTYPER: Unrecognized charge state for atom: 8\n",
      "RDKit ERROR: [18:17:50] UFFTYPER: Unrecognized charge state for atom: 8\n",
      "[18:17:50] UFFTYPER: Unrecognized charge state for atom: 8\n",
      "RDKit ERROR: [18:17:50] UFFTYPER: Unrecognized charge state for atom: 8\n",
      "[18:17:50] UFFTYPER: Unrecognized charge state for atom: 8\n",
      "RDKit ERROR: [18:17:50] UFFTYPER: Unrecognized charge state for atom: 8\n",
      "[18:17:50] UFFTYPER: Unrecognized charge state for atom: 8\n",
      "RDKit ERROR: [18:17:50] UFFTYPER: Unrecognized charge state for atom: 8\n",
      "[18:17:50] UFFTYPER: Unrecognized charge state for atom: 8\n",
      "RDKit ERROR: [18:17:50] UFFTYPER: Unrecognized charge state for atom: 8\n",
      "[18:17:50] UFFTYPER: Unrecognized charge state for atom: 8\n",
      "RDKit ERROR: [18:17:50] UFFTYPER: Unrecognized charge state for atom: 8\n",
      "[18:17:50] UFFTYPER: Unrecognized charge state for atom: 8\n",
      "RDKit ERROR: [18:17:50] UFFTYPER: Unrecognized charge state for atom: 8\n",
      "[18:17:50] UFFTYPER: Unrecognized charge state for atom: 8\n",
      "RDKit ERROR: [18:17:50] UFFTYPER: Unrecognized charge state for atom: 8\n",
      "[18:17:50] UFFTYPER: Unrecognized charge state for atom: 8\n",
      "RDKit ERROR: [18:17:50] UFFTYPER: Unrecognized charge state for atom: 8\n",
      "[18:17:50] UFFTYPER: Unrecognized charge state for atom: 8\n",
      "RDKit ERROR: [18:17:50] UFFTYPER: Unrecognized charge state for atom: 8\n",
      "[18:17:50] UFFTYPER: Unrecognized charge state for atom: 8\n",
      "RDKit ERROR: [18:17:50] UFFTYPER: Unrecognized charge state for atom: 8\n",
      "[18:17:50] UFFTYPER: Unrecognized charge state for atom: 8\n",
      "RDKit ERROR: [18:17:50] UFFTYPER: Unrecognized charge state for atom: 8\n",
      "[18:17:50] UFFTYPER: Unrecognized charge state for atom: 8\n",
      "RDKit ERROR: [18:17:50] UFFTYPER: Unrecognized charge state for atom: 8\n",
      "[18:17:50] UFFTYPER: Unrecognized charge state for atom: 8\n",
      "RDKit ERROR: [18:17:50] UFFTYPER: Unrecognized charge state for atom: 8\n",
      "[18:17:50] UFFTYPER: Unrecognized charge state for atom: 8\n",
      "RDKit ERROR: [18:17:50] UFFTYPER: Unrecognized charge state for atom: 8\n",
      "[18:17:50] UFFTYPER: Unrecognized charge state for atom: 8\n",
      "RDKit ERROR: [18:17:50] UFFTYPER: Unrecognized charge state for atom: 8\n",
      "[18:17:50] UFFTYPER: Unrecognized charge state for atom: 8\n",
      "RDKit ERROR: [18:17:50] UFFTYPER: Unrecognized charge state for atom: 8\n",
      "[18:17:50] UFFTYPER: Unrecognized charge state for atom: 8\n",
      "RDKit ERROR: [18:17:50] UFFTYPER: Unrecognized charge state for atom: 8\n",
      "[18:17:50] UFFTYPER: Unrecognized charge state for atom: 8\n",
      "RDKit ERROR: [18:17:50] UFFTYPER: Unrecognized charge state for atom: 8\n",
      "[18:17:50] UFFTYPER: Unrecognized charge state for atom: 8\n",
      "RDKit ERROR: [18:17:50] UFFTYPER: Unrecognized charge state for atom: 8\n",
      "[18:17:50] UFFTYPER: Unrecognized charge state for atom: 8\n",
      "RDKit ERROR: [18:17:50] UFFTYPER: Unrecognized charge state for atom: 8\n",
      "[18:17:50] UFFTYPER: Unrecognized charge state for atom: 8\n",
      "RDKit ERROR: [18:17:50] UFFTYPER: Unrecognized charge state for atom: 8\n",
      "[18:17:50] UFFTYPER: Unrecognized charge state for atom: 8\n",
      "RDKit ERROR: [18:17:50] UFFTYPER: Unrecognized charge state for atom: 8\n",
      "[18:17:50] UFFTYPER: Unrecognized charge state for atom: 8\n",
      "RDKit ERROR: [18:17:50] UFFTYPER: Unrecognized charge state for atom: 8\n",
      "[18:17:50] UFFTYPER: Unrecognized charge state for atom: 8\n",
      "RDKit ERROR: [18:17:50] UFFTYPER: Unrecognized charge state for atom: 8\n",
      "[18:17:50] UFFTYPER: Unrecognized charge state for atom: 8\n",
      "RDKit ERROR: [18:17:50] UFFTYPER: Unrecognized charge state for atom: 8\n",
      "[18:17:50] UFFTYPER: Unrecognized charge state for atom: 8\n",
      "RDKit ERROR: [18:17:50] UFFTYPER: Unrecognized charge state for atom: 8\n",
      "[18:17:50] UFFTYPER: Unrecognized charge state for atom: 8\n",
      "RDKit ERROR: [18:17:50] UFFTYPER: Unrecognized charge state for atom: 8\n",
      "[18:17:50] UFFTYPER: Unrecognized charge state for atom: 8\n",
      "RDKit ERROR: [18:17:50] UFFTYPER: Unrecognized charge state for atom: 8\n",
      "[18:17:50] UFFTYPER: Unrecognized charge state for atom: 8\n",
      "RDKit ERROR: [18:17:50] UFFTYPER: Unrecognized charge state for atom: 8\n",
      "[18:17:50] UFFTYPER: Unrecognized charge state for atom: 8\n",
      "RDKit ERROR: [18:17:50] UFFTYPER: Unrecognized charge state for atom: 8\n",
      "[18:17:50] UFFTYPER: Unrecognized charge state for atom: 8\n",
      "RDKit ERROR: [18:17:50] UFFTYPER: Unrecognized charge state for atom: 8\n",
      "[18:17:50] UFFTYPER: Unrecognized charge state for atom: 8\n",
      "RDKit ERROR: [18:17:50] UFFTYPER: Unrecognized charge state for atom: 8\n",
      "[18:17:50] UFFTYPER: Unrecognized charge state for atom: 8\n",
      "RDKit ERROR: [18:17:50] UFFTYPER: Unrecognized charge state for atom: 8\n",
      "[18:17:50] UFFTYPER: Unrecognized charge state for atom: 8\n",
      "RDKit ERROR: [18:17:50] UFFTYPER: Unrecognized charge state for atom: 8\n",
      "[18:17:50] UFFTYPER: Unrecognized charge state for atom: 8\n",
      "RDKit ERROR: [18:17:50] UFFTYPER: Unrecognized charge state for atom: 8\n",
      "[18:17:50] UFFTYPER: Unrecognized charge state for atom: 8\n",
      "RDKit ERROR: [18:17:50] UFFTYPER: Unrecognized charge state for atom: 8\n",
      "[18:17:50] UFFTYPER: Unrecognized charge state for atom: 8\n",
      "RDKit ERROR: [18:17:50] UFFTYPER: Unrecognized charge state for atom: 8\n",
      "[18:17:50] UFFTYPER: Unrecognized charge state for atom: 8\n",
      "RDKit ERROR: [18:17:50] UFFTYPER: Unrecognized charge state for atom: 8\n",
      "[18:17:50] UFFTYPER: Unrecognized charge state for atom: 8\n",
      "RDKit ERROR: [18:17:50] UFFTYPER: Unrecognized charge state for atom: 8\n",
      "[18:17:50] UFFTYPER: Unrecognized charge state for atom: 8\n",
      "RDKit ERROR: [18:17:50] UFFTYPER: Unrecognized charge state for atom: 8\n",
      "[18:17:50] UFFTYPER: Unrecognized charge state for atom: 8\n",
      "RDKit ERROR: [18:17:50] UFFTYPER: Unrecognized charge state for atom: 8\n",
      "[18:17:50] UFFTYPER: Unrecognized charge state for atom: 8\n",
      "RDKit ERROR: [18:17:50] UFFTYPER: Unrecognized charge state for atom: 8\n",
      "[18:17:50] UFFTYPER: Unrecognized charge state for atom: 8\n",
      "RDKit ERROR: [18:17:50] UFFTYPER: Unrecognized charge state for atom: 8\n",
      "[18:17:50] UFFTYPER: Unrecognized charge state for atom: 8\n",
      "RDKit ERROR: [18:17:50] UFFTYPER: Unrecognized charge state for atom: 8\n",
      "[18:17:50] UFFTYPER: Unrecognized charge state for atom: 8\n",
      "RDKit ERROR: [18:17:50] UFFTYPER: Unrecognized charge state for atom: 8\n",
      "[18:17:50] UFFTYPER: Unrecognized charge state for atom: 8\n",
      "RDKit ERROR: [18:17:50] UFFTYPER: Unrecognized charge state for atom: 8\n",
      "[18:17:50] UFFTYPER: Unrecognized charge state for atom: 8\n",
      "RDKit ERROR: [18:17:50] UFFTYPER: Unrecognized charge state for atom: 8\n",
      "[18:17:50] UFFTYPER: Unrecognized charge state for atom: 8\n",
      "RDKit ERROR: [18:17:50] UFFTYPER: Unrecognized charge state for atom: 8\n",
      "[18:17:50] UFFTYPER: Unrecognized charge state for atom: 8\n",
      "RDKit ERROR: [18:17:50] UFFTYPER: Unrecognized charge state for atom: 8\n",
      "[18:17:50] UFFTYPER: Unrecognized charge state for atom: 8\n",
      "RDKit ERROR: [18:17:50] UFFTYPER: Unrecognized charge state for atom: 8\n",
      "[18:17:50] UFFTYPER: Unrecognized charge state for atom: 8\n",
      "RDKit ERROR: [18:17:50] UFFTYPER: Unrecognized charge state for atom: 8\n",
      "[18:17:50] UFFTYPER: Unrecognized charge state for atom: 8\n",
      "RDKit ERROR: [18:17:50] UFFTYPER: Unrecognized charge state for atom: 8\n",
      "[18:17:50] UFFTYPER: Unrecognized charge state for atom: 8\n",
      "RDKit ERROR: [18:17:50] UFFTYPER: Unrecognized charge state for atom: 8\n",
      "[18:17:50] UFFTYPER: Unrecognized charge state for atom: 8\n",
      "RDKit ERROR: [18:17:50] UFFTYPER: Unrecognized charge state for atom: 8\n",
      "[18:17:50] UFFTYPER: Unrecognized charge state for atom: 8\n",
      "RDKit ERROR: [18:17:50] UFFTYPER: Unrecognized charge state for atom: 8\n",
      "[18:17:50] UFFTYPER: Unrecognized charge state for atom: 8\n",
      "RDKit ERROR: [18:17:50] UFFTYPER: Unrecognized charge state for atom: 8\n",
      "[18:17:50] UFFTYPER: Unrecognized charge state for atom: 8\n",
      "RDKit ERROR: [18:17:50] UFFTYPER: Unrecognized charge state for atom: 8\n",
      "[18:17:50] UFFTYPER: Unrecognized charge state for atom: 8\n",
      "RDKit ERROR: [18:17:50] UFFTYPER: Unrecognized charge state for atom: 8\n",
      "[18:17:50] UFFTYPER: Unrecognized charge state for atom: 8\n",
      "RDKit ERROR: [18:17:50] UFFTYPER: Unrecognized charge state for atom: 8\n",
      "[18:17:50] UFFTYPER: Unrecognized charge state for atom: 8\n",
      "RDKit ERROR: [18:17:50] UFFTYPER: Unrecognized charge state for atom: 8\n",
      "[18:17:50] UFFTYPER: Unrecognized charge state for atom: 8\n",
      "RDKit ERROR: [18:17:50] UFFTYPER: Unrecognized charge state for atom: 8\n",
      "[18:17:50] UFFTYPER: Unrecognized charge state for atom: 8\n",
      "RDKit ERROR: [18:17:50] UFFTYPER: Unrecognized charge state for atom: 8\n",
      "[18:17:50] UFFTYPER: Unrecognized charge state for atom: 8\n",
      "RDKit ERROR: [18:17:50] UFFTYPER: Unrecognized charge state for atom: 8\n",
      "[18:17:50] UFFTYPER: Unrecognized charge state for atom: 8\n",
      "RDKit ERROR: [18:17:50] UFFTYPER: Unrecognized charge state for atom: 8\n",
      "[18:17:50] UFFTYPER: Unrecognized charge state for atom: 8\n",
      "RDKit ERROR: [18:17:50] UFFTYPER: Unrecognized charge state for atom: 8\n",
      "[18:17:50] UFFTYPER: Unrecognized charge state for atom: 8\n",
      "RDKit ERROR: [18:17:50] UFFTYPER: Unrecognized charge state for atom: 8\n",
      "[18:17:50] UFFTYPER: Unrecognized charge state for atom: 8\n",
      "RDKit ERROR: [18:17:50] UFFTYPER: Unrecognized charge state for atom: 8\n",
      "[18:17:50] UFFTYPER: Unrecognized charge state for atom: 8\n",
      "RDKit ERROR: [18:17:50] UFFTYPER: Unrecognized charge state for atom: 8\n",
      "[18:17:50] UFFTYPER: Unrecognized charge state for atom: 8\n",
      "RDKit ERROR: [18:17:50] UFFTYPER: Unrecognized charge state for atom: 8\n",
      "[18:17:50] UFFTYPER: Unrecognized charge state for atom: 8\n",
      "RDKit ERROR: [18:17:50] UFFTYPER: Unrecognized charge state for atom: 8\n",
      "[18:17:50] UFFTYPER: Unrecognized charge state for atom: 8\n",
      "RDKit ERROR: [18:17:50] UFFTYPER: Unrecognized charge state for atom: 8\n",
      "[18:17:50] UFFTYPER: Unrecognized charge state for atom: 8\n",
      "RDKit ERROR: [18:17:50] UFFTYPER: Unrecognized charge state for atom: 8\n",
      "[18:17:50] UFFTYPER: Unrecognized charge state for atom: 8\n",
      "RDKit ERROR: [18:17:50] UFFTYPER: Unrecognized charge state for atom: 8\n",
      "[18:17:50] UFFTYPER: Unrecognized charge state for atom: 8\n",
      "RDKit ERROR: [18:17:50] UFFTYPER: Unrecognized charge state for atom: 8\n",
      "[18:17:50] UFFTYPER: Unrecognized charge state for atom: 8\n",
      "RDKit ERROR: [18:17:50] UFFTYPER: Unrecognized charge state for atom: 8\n",
      "[18:17:50] UFFTYPER: Unrecognized charge state for atom: 8\n",
      "RDKit ERROR: [18:17:50] UFFTYPER: Unrecognized charge state for atom: 8\n",
      "[18:17:50] UFFTYPER: Unrecognized charge state for atom: 8\n",
      "RDKit ERROR: [18:17:50] UFFTYPER: Unrecognized charge state for atom: 8\n",
      "[18:17:50] UFFTYPER: Unrecognized charge state for atom: 8\n",
      "RDKit ERROR: [18:17:50] UFFTYPER: Unrecognized charge state for atom: 8\n",
      "[18:17:50] UFFTYPER: Unrecognized charge state for atom: 8\n",
      " 65%|█████████████████████████▍             | 2966/4548 [24:43<07:26,  3.54it/s]RDKit ERROR: [18:18:21] UFFTYPER: Unrecognized charge state for atom: 10\n",
      "[18:18:21] UFFTYPER: Unrecognized charge state for atom: 10\n",
      "RDKit ERROR: [18:18:21] UFFTYPER: Unrecognized charge state for atom: 10\n",
      "RDKit ERROR: [18:18:21] UFFTYPER: Unrecognized charge state for atom: 10\n",
      "RDKit ERROR: [18:18:21] UFFTYPER: Unrecognized charge state for atom: 10\n",
      "RDKit ERROR: [18:18:21] UFFTYPER: Unrecognized charge state for atom: 10\n",
      "RDKit ERROR: [18:18:21] UFFTYPER: Unrecognized charge state for atom: 10\n",
      "RDKit ERROR: [18:18:21] UFFTYPER: Unrecognized charge state for atom: 10\n",
      "RDKit ERROR: [18:18:21] UFFTYPER: Unrecognized charge state for atom: 10\n",
      "[18:18:21] UFFTYPER: Unrecognized charge state for atom: 10\n",
      "[18:18:21] UFFTYPER: Unrecognized charge state for atom: 10\n",
      "[18:18:21] UFFTYPER: Unrecognized charge state for atom: 10\n",
      "[18:18:21] UFFTYPER: Unrecognized charge state for atom: 10\n",
      "[18:18:21] UFFTYPER: Unrecognized charge state for atom: 10\n",
      "[18:18:21] UFFTYPER: Unrecognized charge state for atom: 10\n",
      "RDKit ERROR: [18:18:21] UFFTYPER: Unrecognized charge state for atom: 10\n",
      "[18:18:21] UFFTYPER: Unrecognized charge state for atom: 10\n",
      "[18:18:21] UFFTYPER: Unrecognized charge state for atom: 10\n",
      "RDKit ERROR: [18:18:21] UFFTYPER: Unrecognized charge state for atom: 10\n",
      "RDKit ERROR: [18:18:21] UFFTYPER: Unrecognized charge state for atom: 10\n",
      "[18:18:21] UFFTYPER: Unrecognized charge state for atom: 10\n",
      "[18:18:21] UFFTYPER: Unrecognized charge state for atom: 10\n",
      "RDKit ERROR: [18:18:21] UFFTYPER: Unrecognized charge state for atom: 10\n",
      "[18:18:21] UFFTYPER: Unrecognized charge state for atom: 10\n",
      "RDKit ERROR: [18:18:21] UFFTYPER: Unrecognized charge state for atom: 10\n",
      "[18:18:21] UFFTYPER: Unrecognized charge state for atom: 10\n",
      "RDKit ERROR: [18:18:21] UFFTYPER: Unrecognized charge state for atom: 10\n",
      "[18:18:21] UFFTYPER: Unrecognized charge state for atom: 10\n",
      "RDKit ERROR: [18:18:21] UFFTYPER: Unrecognized charge state for atom: 10\n",
      "[18:18:21] UFFTYPER: Unrecognized charge state for atom: 10\n",
      "RDKit ERROR: [18:18:21] UFFTYPER: Unrecognized charge state for atom: 10\n",
      "[18:18:21] UFFTYPER: Unrecognized charge state for atom: 10\n",
      "RDKit ERROR: [18:18:21] UFFTYPER: Unrecognized charge state for atom: 10\n",
      "[18:18:21] UFFTYPER: Unrecognized charge state for atom: 10\n",
      "RDKit ERROR: [18:18:21] UFFTYPER: Unrecognized charge state for atom: 10\n",
      "RDKit ERROR: [18:18:21] UFFTYPER: Unrecognized charge state for atom: 10\n",
      "[18:18:21] UFFTYPER: Unrecognized charge state for atom: 10\n",
      "[18:18:21] UFFTYPER: Unrecognized charge state for atom: 10\n",
      "RDKit ERROR: [18:18:21] UFFTYPER: Unrecognized charge state for atom: 10\n",
      "[18:18:21] UFFTYPER: Unrecognized charge state for atom: 10\n",
      "RDKit ERROR: [18:18:21] UFFTYPER: Unrecognized charge state for atom: 10\n",
      "[18:18:21] UFFTYPER: Unrecognized charge state for atom: 10\n",
      "RDKit ERROR: [18:18:21] UFFTYPER: Unrecognized charge state for atom: 10\n",
      "[18:18:21] UFFTYPER: Unrecognized charge state for atom: 10\n",
      "RDKit ERROR: [18:18:21] UFFTYPER: Unrecognized charge state for atom: 10\n",
      "[18:18:21] UFFTYPER: Unrecognized charge state for atom: 10\n",
      "RDKit ERROR: [18:18:21] UFFTYPER: Unrecognized charge state for atom: 10\n",
      "[18:18:21] UFFTYPER: Unrecognized charge state for atom: 10\n",
      "RDKit ERROR: [18:18:21] UFFTYPER: Unrecognized charge state for atom: 10\n",
      "[18:18:21] UFFTYPER: Unrecognized charge state for atom: 10\n",
      "RDKit ERROR: [18:18:21] UFFTYPER: Unrecognized charge state for atom: 10\n",
      "[18:18:21] UFFTYPER: Unrecognized charge state for atom: 10\n",
      "RDKit ERROR: [18:18:21] UFFTYPER: Unrecognized charge state for atom: 10\n",
      "RDKit ERROR: [18:18:21] UFFTYPER: Unrecognized charge state for atom: 10\n",
      "[18:18:21] UFFTYPER: Unrecognized charge state for atom: 10\n",
      "[18:18:21] UFFTYPER: Unrecognized charge state for atom: 10\n",
      "RDKit ERROR: [18:18:21] UFFTYPER: Unrecognized charge state for atom: 10\n",
      "[18:18:21] UFFTYPER: Unrecognized charge state for atom: 10\n",
      "RDKit ERROR: [18:18:21] UFFTYPER: Unrecognized charge state for atom: 10\n",
      "RDKit ERROR: [18:18:21] UFFTYPER: Unrecognized charge state for atom: 10\n",
      "[18:18:21] UFFTYPER: Unrecognized charge state for atom: 10\n",
      "[18:18:21] UFFTYPER: Unrecognized charge state for atom: 10\n",
      "RDKit ERROR: [18:18:21] UFFTYPER: Unrecognized charge state for atom: 10\n",
      "[18:18:21] UFFTYPER: Unrecognized charge state for atom: 10\n",
      "RDKit ERROR: [18:18:21] UFFTYPER: Unrecognized charge state for atom: 10\n",
      "[18:18:21] UFFTYPER: Unrecognized charge state for atom: 10\n",
      "RDKit ERROR: [18:18:21] UFFTYPER: Unrecognized charge state for atom: 10\n",
      "[18:18:21] UFFTYPER: Unrecognized charge state for atom: 10\n",
      "RDKit ERROR: [18:18:21] UFFTYPER: Unrecognized charge state for atom: 10\n",
      "[18:18:21] UFFTYPER: Unrecognized charge state for atom: 10\n",
      "RDKit ERROR: [18:18:21] UFFTYPER: Unrecognized charge state for atom: 10\n",
      "RDKit ERROR: [18:18:21] UFFTYPER: Unrecognized charge state for atom: 10\n",
      "[18:18:21] UFFTYPER: Unrecognized charge state for atom: 10\n",
      "[18:18:21] UFFTYPER: Unrecognized charge state for atom: 10\n",
      "RDKit ERROR: [18:18:21] UFFTYPER: Unrecognized charge state for atom: 10\n",
      "[18:18:21] UFFTYPER: Unrecognized charge state for atom: 10\n",
      "RDKit ERROR: [18:18:21] UFFTYPER: Unrecognized charge state for atom: 10\n",
      "[18:18:21] UFFTYPER: Unrecognized charge state for atom: 10\n",
      "RDKit ERROR: [18:18:21] UFFTYPER: Unrecognized charge state for atom: 10\n",
      "[18:18:21] UFFTYPER: Unrecognized charge state for atom: 10\n",
      "RDKit ERROR: [18:18:21] UFFTYPER: Unrecognized charge state for atom: 10\n",
      "[18:18:21] UFFTYPER: Unrecognized charge state for atom: 10\n",
      "RDKit ERROR: [18:18:21] UFFTYPER: Unrecognized charge state for atom: 10\n",
      "[18:18:21] UFFTYPER: Unrecognized charge state for atom: 10\n",
      "RDKit ERROR: [18:18:21] UFFTYPER: Unrecognized charge state for atom: 10\n",
      "[18:18:21] UFFTYPER: Unrecognized charge state for atom: 10\n",
      "RDKit ERROR: [18:18:21] UFFTYPER: Unrecognized charge state for atom: 10\n",
      "[18:18:21] UFFTYPER: Unrecognized charge state for atom: 10\n",
      "RDKit ERROR: [18:18:21] UFFTYPER: Unrecognized charge state for atom: 10\n",
      "[18:18:21] UFFTYPER: Unrecognized charge state for atom: 10\n",
      "RDKit ERROR: [18:18:21] UFFTYPER: Unrecognized charge state for atom: 10\n",
      "[18:18:21] UFFTYPER: Unrecognized charge state for atom: 10\n",
      "RDKit ERROR: [18:18:21] UFFTYPER: Unrecognized charge state for atom: 10\n",
      "[18:18:21] UFFTYPER: Unrecognized charge state for atom: 10\n",
      "RDKit ERROR: [18:18:21] UFFTYPER: Unrecognized charge state for atom: 10\n",
      "[18:18:21] UFFTYPER: Unrecognized charge state for atom: 10\n",
      "RDKit ERROR: [18:18:21] UFFTYPER: Unrecognized charge state for atom: 10\n",
      "[18:18:21] UFFTYPER: Unrecognized charge state for atom: 10\n",
      "RDKit ERROR: [18:18:21] UFFTYPER: Unrecognized charge state for atom: 10\n",
      "[18:18:21] UFFTYPER: Unrecognized charge state for atom: 10\n",
      "RDKit ERROR: [18:18:21] UFFTYPER: Unrecognized charge state for atom: 10\n",
      "[18:18:21] UFFTYPER: Unrecognized charge state for atom: 10\n",
      "RDKit ERROR: [18:18:21] UFFTYPER: Unrecognized charge state for atom: 10\n",
      "[18:18:21] UFFTYPER: Unrecognized charge state for atom: 10\n",
      "RDKit ERROR: [18:18:21] UFFTYPER: Unrecognized charge state for atom: 10\n",
      "[18:18:21] UFFTYPER: Unrecognized charge state for atom: 10\n",
      "RDKit ERROR: [18:18:21] UFFTYPER: Unrecognized charge state for atom: 10\n",
      "[18:18:21] UFFTYPER: Unrecognized charge state for atom: 10\n",
      "RDKit ERROR: [18:18:21] UFFTYPER: Unrecognized charge state for atom: 10\n",
      "[18:18:21] UFFTYPER: Unrecognized charge state for atom: 10\n",
      "RDKit ERROR: [18:18:21] UFFTYPER: Unrecognized charge state for atom: 10\n",
      "[18:18:21] UFFTYPER: Unrecognized charge state for atom: 10\n",
      "RDKit ERROR: [18:18:21] UFFTYPER: Unrecognized charge state for atom: 10\n",
      "[18:18:21] UFFTYPER: Unrecognized charge state for atom: 10\n",
      "RDKit ERROR: [18:18:21] UFFTYPER: Unrecognized charge state for atom: 10\n",
      "[18:18:21] UFFTYPER: Unrecognized charge state for atom: 10\n",
      "RDKit ERROR: [18:18:21] UFFTYPER: Unrecognized charge state for atom: 10\n",
      "[18:18:21] UFFTYPER: Unrecognized charge state for atom: 10\n",
      "RDKit ERROR: [18:18:21] UFFTYPER: Unrecognized charge state for atom: 10\n",
      "[18:18:21] UFFTYPER: Unrecognized charge state for atom: 10\n",
      "RDKit ERROR: [18:18:21] UFFTYPER: Unrecognized charge state for atom: 10\n",
      "[18:18:21] UFFTYPER: Unrecognized charge state for atom: 10\n",
      "RDKit ERROR: [18:18:21] UFFTYPER: Unrecognized charge state for atom: 10\n",
      "[18:18:21] UFFTYPER: Unrecognized charge state for atom: 10\n",
      "RDKit ERROR: [18:18:21] UFFTYPER: Unrecognized charge state for atom: 10\n",
      "[18:18:21] UFFTYPER: Unrecognized charge state for atom: 10\n",
      "RDKit ERROR: [18:18:21] UFFTYPER: Unrecognized charge state for atom: 10\n",
      "[18:18:21] UFFTYPER: Unrecognized charge state for atom: 10\n",
      "RDKit ERROR: [18:18:21] UFFTYPER: Unrecognized charge state for atom: 10\n",
      "[18:18:21] UFFTYPER: Unrecognized charge state for atom: 10\n",
      "RDKit ERROR: [18:18:21] UFFTYPER: Unrecognized charge state for atom: 10\n",
      "[18:18:21] UFFTYPER: Unrecognized charge state for atom: 10\n",
      "RDKit ERROR: [18:18:21] UFFTYPER: Unrecognized charge state for atom: 10\n",
      "[18:18:21] UFFTYPER: Unrecognized charge state for atom: 10\n",
      "RDKit ERROR: [18:18:21] UFFTYPER: Unrecognized charge state for atom: 10\n",
      "[18:18:21] UFFTYPER: Unrecognized charge state for atom: 10\n",
      "RDKit ERROR: [18:18:21] UFFTYPER: Unrecognized charge state for atom: 10\n",
      "[18:18:21] UFFTYPER: Unrecognized charge state for atom: 10\n",
      "RDKit ERROR: [18:18:21] UFFTYPER: Unrecognized charge state for atom: 10\n",
      "[18:18:21] UFFTYPER: Unrecognized charge state for atom: 10\n",
      "RDKit ERROR: [18:18:21] UFFTYPER: Unrecognized charge state for atom: 10\n",
      "[18:18:21] UFFTYPER: Unrecognized charge state for atom: 10\n",
      "RDKit ERROR: [18:18:21] UFFTYPER: Unrecognized charge state for atom: 10\n",
      "[18:18:21] UFFTYPER: Unrecognized charge state for atom: 10\n",
      "RDKit ERROR: [18:18:21] UFFTYPER: Unrecognized charge state for atom: 10\n",
      "[18:18:21] UFFTYPER: Unrecognized charge state for atom: 10\n",
      "RDKit ERROR: [18:18:21] UFFTYPER: Unrecognized charge state for atom: 10\n",
      "[18:18:21] UFFTYPER: Unrecognized charge state for atom: 10\n",
      "RDKit ERROR: [18:18:21] UFFTYPER: Unrecognized charge state for atom: 10\n",
      "[18:18:21] UFFTYPER: Unrecognized charge state for atom: 10\n",
      "RDKit ERROR: [18:18:21] UFFTYPER: Unrecognized charge state for atom: 10\n",
      "[18:18:21] UFFTYPER: Unrecognized charge state for atom: 10\n",
      "RDKit ERROR: [18:18:21] UFFTYPER: Unrecognized charge state for atom: 10\n",
      "[18:18:21] UFFTYPER: Unrecognized charge state for atom: 10\n",
      "RDKit ERROR: [18:18:21] UFFTYPER: Unrecognized charge state for atom: 10\n",
      "[18:18:21] UFFTYPER: Unrecognized charge state for atom: 10\n",
      "RDKit ERROR: [18:18:21] UFFTYPER: Unrecognized charge state for atom: 10\n",
      "[18:18:21] UFFTYPER: Unrecognized charge state for atom: 10\n",
      "RDKit ERROR: [18:18:21] UFFTYPER: Unrecognized charge state for atom: 10\n",
      "[18:18:21] UFFTYPER: Unrecognized charge state for atom: 10\n",
      "RDKit ERROR: [18:18:21] UFFTYPER: Unrecognized charge state for atom: 10\n",
      "[18:18:21] UFFTYPER: Unrecognized charge state for atom: 10\n",
      "RDKit ERROR: [18:18:21] UFFTYPER: Unrecognized charge state for atom: 10\n",
      "[18:18:21] UFFTYPER: Unrecognized charge state for atom: 10\n",
      "RDKit ERROR: [18:18:21] UFFTYPER: Unrecognized charge state for atom: 10\n",
      "[18:18:21] UFFTYPER: Unrecognized charge state for atom: 10\n",
      "RDKit ERROR: [18:18:21] UFFTYPER: Unrecognized charge state for atom: 10\n",
      "[18:18:21] UFFTYPER: Unrecognized charge state for atom: 10\n",
      "RDKit ERROR: [18:18:21] UFFTYPER: Unrecognized charge state for atom: 10\n",
      "[18:18:21] UFFTYPER: Unrecognized charge state for atom: 10\n",
      "RDKit ERROR: [18:18:21] UFFTYPER: Unrecognized charge state for atom: 10\n",
      "[18:18:21] UFFTYPER: Unrecognized charge state for atom: 10\n",
      "RDKit ERROR: [18:18:21] UFFTYPER: Unrecognized charge state for atom: 10\n",
      "[18:18:21] UFFTYPER: Unrecognized charge state for atom: 10\n",
      "RDKit ERROR: [18:18:21] UFFTYPER: Unrecognized charge state for atom: 10\n",
      "[18:18:21] UFFTYPER: Unrecognized charge state for atom: 10\n",
      "RDKit ERROR: [18:18:21] UFFTYPER: Unrecognized charge state for atom: 10\n",
      "[18:18:21] UFFTYPER: Unrecognized charge state for atom: 10\n",
      "RDKit ERROR: [18:18:21] UFFTYPER: Unrecognized charge state for atom: 10\n",
      "[18:18:21] UFFTYPER: Unrecognized charge state for atom: 10\n",
      "RDKit ERROR: [18:18:21] UFFTYPER: Unrecognized charge state for atom: 10\n",
      "[18:18:21] UFFTYPER: Unrecognized charge state for atom: 10\n",
      "RDKit ERROR: [18:18:21] UFFTYPER: Unrecognized charge state for atom: 10\n",
      "[18:18:21] UFFTYPER: Unrecognized charge state for atom: 10\n",
      "RDKit ERROR: [18:18:21] UFFTYPER: Unrecognized charge state for atom: 10\n",
      "[18:18:21] UFFTYPER: Unrecognized charge state for atom: 10\n",
      "RDKit ERROR: [18:18:21] UFFTYPER: Unrecognized charge state for atom: 10\n",
      "[18:18:21] UFFTYPER: Unrecognized charge state for atom: 10\n",
      "RDKit ERROR: [18:18:21] UFFTYPER: Unrecognized charge state for atom: 10\n",
      "[18:18:21] UFFTYPER: Unrecognized charge state for atom: 10\n",
      "RDKit ERROR: [18:18:21] UFFTYPER: Unrecognized charge state for atom: 10\n",
      "[18:18:21] UFFTYPER: Unrecognized charge state for atom: 10\n",
      "RDKit ERROR: [18:18:21] UFFTYPER: Unrecognized charge state for atom: 10\n",
      "[18:18:21] UFFTYPER: Unrecognized charge state for atom: 10\n",
      "RDKit ERROR: [18:18:21] UFFTYPER: Unrecognized charge state for atom: 10\n",
      "[18:18:21] UFFTYPER: Unrecognized charge state for atom: 10\n",
      "RDKit ERROR: [18:18:21] UFFTYPER: Unrecognized charge state for atom: 10\n",
      "[18:18:21] UFFTYPER: Unrecognized charge state for atom: 10\n",
      "RDKit ERROR: [18:18:21] UFFTYPER: Unrecognized charge state for atom: 10\n",
      "[18:18:21] UFFTYPER: Unrecognized charge state for atom: 10\n",
      "RDKit ERROR: [18:18:21] UFFTYPER: Unrecognized charge state for atom: 10\n",
      "[18:18:21] UFFTYPER: Unrecognized charge state for atom: 10\n",
      " 75%|█████████████████████████████▎         | 3412/4548 [27:22<08:12,  2.31it/s]RDKit ERROR: [18:21:00] UFFTYPER: Unrecognized charge state for atom: 14\n",
      "[18:21:00] UFFTYPER: Unrecognized charge state for atom: 14\n",
      "RDKit ERROR: [18:21:00] UFFTYPER: Unrecognized charge state for atom: 14\n",
      "[18:21:00] UFFTYPER: Unrecognized charge state for atom: 14\n",
      "RDKit ERROR: [18:21:00] UFFTYPER: Unrecognized charge state for atom: 14\n",
      "[18:21:00] UFFTYPER: Unrecognized charge state for atom: 14\n",
      "RDKit ERROR: [18:21:00] UFFTYPER: Unrecognized charge state for atom: 14\n",
      "[18:21:00] UFFTYPER: Unrecognized charge state for atom: 14\n",
      "RDKit ERROR: [18:21:00] UFFTYPER: Unrecognized charge state for atom: 14\n",
      "[18:21:00] UFFTYPER: Unrecognized charge state for atom: 14\n",
      "RDKit ERROR: [18:21:00] UFFTYPER: Unrecognized charge state for atom: 14\n",
      "[18:21:00] UFFTYPER: Unrecognized charge state for atom: 14\n",
      "RDKit ERROR: [18:21:00] UFFTYPER: Unrecognized charge state for atom: 14\n",
      "[18:21:00] UFFTYPER: Unrecognized charge state for atom: 14\n",
      "RDKit ERROR: [18:21:00] UFFTYPER: Unrecognized charge state for atom: 14\n",
      "[18:21:00] UFFTYPER: Unrecognized charge state for atom: 14\n",
      "RDKit ERROR: [18:21:00] UFFTYPER: Unrecognized charge state for atom: 14\n",
      "[18:21:00] UFFTYPER: Unrecognized charge state for atom: 14\n",
      "RDKit ERROR: [18:21:00] UFFTYPER: Unrecognized charge state for atom: 14\n",
      "[18:21:00] UFFTYPER: Unrecognized charge state for atom: 14\n",
      "RDKit ERROR: [18:21:00] UFFTYPER: Unrecognized charge state for atom: 14\n",
      "[18:21:00] UFFTYPER: Unrecognized charge state for atom: 14\n",
      "RDKit ERROR: [18:21:00] UFFTYPER: Unrecognized charge state for atom: 14\n",
      "[18:21:00] UFFTYPER: Unrecognized charge state for atom: 14\n",
      "RDKit ERROR: [18:21:00] UFFTYPER: Unrecognized charge state for atom: 14\n",
      "[18:21:00] UFFTYPER: Unrecognized charge state for atom: 14\n",
      "RDKit ERROR: [18:21:00] UFFTYPER: Unrecognized charge state for atom: 14\n",
      "[18:21:00] UFFTYPER: Unrecognized charge state for atom: 14\n",
      "RDKit ERROR: [18:21:00] UFFTYPER: Unrecognized charge state for atom: 14\n",
      "[18:21:00] UFFTYPER: Unrecognized charge state for atom: 14\n",
      "RDKit ERROR: [18:21:00] UFFTYPER: Unrecognized charge state for atom: 14\n",
      "[18:21:00] UFFTYPER: Unrecognized charge state for atom: 14\n",
      "RDKit ERROR: [18:21:00] UFFTYPER: Unrecognized charge state for atom: 14\n",
      "[18:21:00] UFFTYPER: Unrecognized charge state for atom: 14\n",
      "RDKit ERROR: [18:21:00] UFFTYPER: Unrecognized charge state for atom: 14\n",
      "[18:21:00] UFFTYPER: Unrecognized charge state for atom: 14\n",
      "RDKit ERROR: [18:21:00] UFFTYPER: Unrecognized charge state for atom: 14\n",
      "[18:21:00] UFFTYPER: Unrecognized charge state for atom: 14\n",
      "RDKit ERROR: [18:21:00] UFFTYPER: Unrecognized charge state for atom: 14\n",
      "[18:21:00] UFFTYPER: Unrecognized charge state for atom: 14\n",
      "RDKit ERROR: [18:21:00] UFFTYPER: Unrecognized charge state for atom: 14\n",
      "[18:21:00] UFFTYPER: Unrecognized charge state for atom: 14\n",
      "RDKit ERROR: [18:21:00] UFFTYPER: Unrecognized charge state for atom: 14\n",
      "[18:21:00] UFFTYPER: Unrecognized charge state for atom: 14\n",
      "RDKit ERROR: [18:21:00] UFFTYPER: Unrecognized charge state for atom: 14\n",
      "[18:21:00] UFFTYPER: Unrecognized charge state for atom: 14\n",
      "RDKit ERROR: [18:21:00] UFFTYPER: Unrecognized charge state for atom: 14\n",
      "[18:21:00] UFFTYPER: Unrecognized charge state for atom: 14\n",
      "RDKit ERROR: [18:21:00] UFFTYPER: Unrecognized charge state for atom: 14\n",
      "[18:21:00] UFFTYPER: Unrecognized charge state for atom: 14\n",
      "RDKit ERROR: [18:21:00] UFFTYPER: Unrecognized charge state for atom: 14\n",
      "[18:21:00] UFFTYPER: Unrecognized charge state for atom: 14\n",
      "RDKit ERROR: [18:21:00] UFFTYPER: Unrecognized charge state for atom: 14\n",
      "[18:21:00] UFFTYPER: Unrecognized charge state for atom: 14\n",
      "RDKit ERROR: [18:21:00] UFFTYPER: Unrecognized charge state for atom: 14\n",
      "[18:21:00] UFFTYPER: Unrecognized charge state for atom: 14\n",
      "RDKit ERROR: [18:21:00] UFFTYPER: Unrecognized charge state for atom: 14\n",
      "[18:21:00] UFFTYPER: Unrecognized charge state for atom: 14\n",
      "RDKit ERROR: [18:21:00] UFFTYPER: Unrecognized charge state for atom: 14\n",
      "[18:21:00] UFFTYPER: Unrecognized charge state for atom: 14\n",
      "RDKit ERROR: [18:21:00] UFFTYPER: Unrecognized charge state for atom: 14\n",
      "[18:21:00] UFFTYPER: Unrecognized charge state for atom: 14\n",
      "RDKit ERROR: [18:21:00] UFFTYPER: Unrecognized charge state for atom: 14\n",
      "[18:21:00] UFFTYPER: Unrecognized charge state for atom: 14\n",
      "RDKit ERROR: [18:21:00] UFFTYPER: Unrecognized charge state for atom: 14\n",
      "[18:21:00] UFFTYPER: Unrecognized charge state for atom: 14\n",
      "RDKit ERROR: [18:21:00] UFFTYPER: Unrecognized charge state for atom: 14\n",
      "[18:21:00] UFFTYPER: Unrecognized charge state for atom: 14\n",
      "RDKit ERROR: [18:21:00] UFFTYPER: Unrecognized charge state for atom: 14\n",
      "[18:21:00] UFFTYPER: Unrecognized charge state for atom: 14\n",
      "RDKit ERROR: [18:21:00] UFFTYPER: Unrecognized charge state for atom: 14\n",
      "[18:21:00] UFFTYPER: Unrecognized charge state for atom: 14\n",
      "RDKit ERROR: [18:21:00] UFFTYPER: Unrecognized charge state for atom: 14\n",
      "[18:21:00] UFFTYPER: Unrecognized charge state for atom: 14\n",
      "RDKit ERROR: [18:21:00] UFFTYPER: Unrecognized charge state for atom: 14\n",
      "[18:21:00] UFFTYPER: Unrecognized charge state for atom: 14\n",
      "RDKit ERROR: [18:21:00] UFFTYPER: Unrecognized charge state for atom: 14\n",
      "[18:21:00] UFFTYPER: Unrecognized charge state for atom: 14\n",
      "RDKit ERROR: [18:21:00] UFFTYPER: Unrecognized charge state for atom: 14\n",
      "[18:21:00] UFFTYPER: Unrecognized charge state for atom: 14\n",
      "RDKit ERROR: [18:21:00] UFFTYPER: Unrecognized charge state for atom: 14\n",
      "[18:21:00] UFFTYPER: Unrecognized charge state for atom: 14\n",
      "RDKit ERROR: [18:21:00] UFFTYPER: Unrecognized charge state for atom: 14\n",
      "[18:21:00] UFFTYPER: Unrecognized charge state for atom: 14\n",
      "RDKit ERROR: [18:21:00] UFFTYPER: Unrecognized charge state for atom: 14\n",
      "[18:21:00] UFFTYPER: Unrecognized charge state for atom: 14\n",
      "RDKit ERROR: [18:21:00] UFFTYPER: Unrecognized charge state for atom: 14\n",
      "[18:21:00] UFFTYPER: Unrecognized charge state for atom: 14\n",
      "RDKit ERROR: [18:21:00] UFFTYPER: Unrecognized charge state for atom: 14\n",
      "[18:21:00] UFFTYPER: Unrecognized charge state for atom: 14\n",
      "RDKit ERROR: [18:21:00] UFFTYPER: Unrecognized charge state for atom: 14\n",
      "[18:21:00] UFFTYPER: Unrecognized charge state for atom: 14\n",
      "RDKit ERROR: [18:21:00] UFFTYPER: Unrecognized charge state for atom: 14\n",
      "[18:21:00] UFFTYPER: Unrecognized charge state for atom: 14\n",
      "RDKit ERROR: [18:21:00] UFFTYPER: Unrecognized charge state for atom: 14\n",
      "[18:21:00] UFFTYPER: Unrecognized charge state for atom: 14\n",
      "RDKit ERROR: [18:21:00] UFFTYPER: Unrecognized charge state for atom: 14\n",
      "[18:21:00] UFFTYPER: Unrecognized charge state for atom: 14\n",
      "RDKit ERROR: [18:21:00] UFFTYPER: Unrecognized charge state for atom: 14\n",
      "[18:21:00] UFFTYPER: Unrecognized charge state for atom: 14\n",
      "RDKit ERROR: [18:21:00] UFFTYPER: Unrecognized charge state for atom: 14\n",
      "[18:21:00] UFFTYPER: Unrecognized charge state for atom: 14\n",
      "RDKit ERROR: [18:21:00] UFFTYPER: Unrecognized charge state for atom: 14\n",
      "[18:21:00] UFFTYPER: Unrecognized charge state for atom: 14\n",
      "RDKit ERROR: [18:21:00] UFFTYPER: Unrecognized charge state for atom: 14\n",
      "[18:21:00] UFFTYPER: Unrecognized charge state for atom: 14\n",
      "RDKit ERROR: [18:21:00] UFFTYPER: Unrecognized charge state for atom: 14\n",
      "[18:21:00] UFFTYPER: Unrecognized charge state for atom: 14\n",
      "RDKit ERROR: [18:21:00] UFFTYPER: Unrecognized charge state for atom: 14\n",
      "[18:21:00] UFFTYPER: Unrecognized charge state for atom: 14\n",
      "RDKit ERROR: [18:21:00] UFFTYPER: Unrecognized charge state for atom: 14\n",
      "[18:21:00] UFFTYPER: Unrecognized charge state for atom: 14\n",
      "RDKit ERROR: [18:21:00] UFFTYPER: Unrecognized charge state for atom: 14\n",
      "[18:21:00] UFFTYPER: Unrecognized charge state for atom: 14\n",
      "RDKit ERROR: [18:21:00] UFFTYPER: Unrecognized charge state for atom: 14\n",
      "[18:21:00] UFFTYPER: Unrecognized charge state for atom: 14\n",
      "RDKit ERROR: [18:21:00] UFFTYPER: Unrecognized charge state for atom: 14\n",
      "[18:21:00] UFFTYPER: Unrecognized charge state for atom: 14\n",
      "RDKit ERROR: [18:21:00] UFFTYPER: Unrecognized charge state for atom: 14\n",
      "[18:21:00] UFFTYPER: Unrecognized charge state for atom: 14\n",
      "RDKit ERROR: [18:21:00] UFFTYPER: Unrecognized charge state for atom: 14\n",
      "[18:21:00] UFFTYPER: Unrecognized charge state for atom: 14\n",
      "RDKit ERROR: [18:21:00] UFFTYPER: Unrecognized charge state for atom: 14\n",
      "[18:21:00] UFFTYPER: Unrecognized charge state for atom: 14\n",
      "RDKit ERROR: [18:21:00] UFFTYPER: Unrecognized charge state for atom: 14\n",
      "[18:21:00] UFFTYPER: Unrecognized charge state for atom: 14\n",
      "RDKit ERROR: [18:21:00] UFFTYPER: Unrecognized charge state for atom: 14\n",
      "[18:21:00] UFFTYPER: Unrecognized charge state for atom: 14\n",
      "RDKit ERROR: [18:21:00] UFFTYPER: Unrecognized charge state for atom: 14\n",
      "[18:21:00] UFFTYPER: Unrecognized charge state for atom: 14\n",
      "RDKit ERROR: [18:21:00] UFFTYPER: Unrecognized charge state for atom: 14\n",
      "[18:21:00] UFFTYPER: Unrecognized charge state for atom: 14\n",
      "RDKit ERROR: [18:21:00] UFFTYPER: Unrecognized charge state for atom: 14\n",
      "[18:21:00] UFFTYPER: Unrecognized charge state for atom: 14\n",
      "RDKit ERROR: [18:21:00] UFFTYPER: Unrecognized charge state for atom: 14\n",
      "[18:21:00] UFFTYPER: Unrecognized charge state for atom: 14\n",
      "RDKit ERROR: [18:21:00] UFFTYPER: Unrecognized charge state for atom: 14\n",
      "[18:21:00] UFFTYPER: Unrecognized charge state for atom: 14\n",
      "RDKit ERROR: [18:21:00] UFFTYPER: Unrecognized charge state for atom: 14\n",
      "[18:21:00] UFFTYPER: Unrecognized charge state for atom: 14\n",
      "RDKit ERROR: [18:21:00] UFFTYPER: Unrecognized charge state for atom: 14\n",
      "[18:21:00] UFFTYPER: Unrecognized charge state for atom: 14\n",
      "RDKit ERROR: [18:21:00] UFFTYPER: Unrecognized charge state for atom: 14\n",
      "[18:21:00] UFFTYPER: Unrecognized charge state for atom: 14\n",
      "RDKit ERROR: [18:21:00] UFFTYPER: Unrecognized charge state for atom: 14\n",
      "[18:21:00] UFFTYPER: Unrecognized charge state for atom: 14\n",
      "RDKit ERROR: [18:21:00] UFFTYPER: Unrecognized charge state for atom: 14\n",
      "[18:21:00] UFFTYPER: Unrecognized charge state for atom: 14\n",
      "RDKit ERROR: [18:21:00] UFFTYPER: Unrecognized charge state for atom: 14\n",
      "[18:21:00] UFFTYPER: Unrecognized charge state for atom: 14\n",
      "RDKit ERROR: [18:21:00] UFFTYPER: Unrecognized charge state for atom: 14\n",
      "[18:21:00] UFFTYPER: Unrecognized charge state for atom: 14\n",
      "RDKit ERROR: [18:21:00] UFFTYPER: Unrecognized charge state for atom: 14\n",
      "[18:21:00] UFFTYPER: Unrecognized charge state for atom: 14\n",
      "RDKit ERROR: [18:21:00] UFFTYPER: Unrecognized charge state for atom: 14\n",
      "[18:21:00] UFFTYPER: Unrecognized charge state for atom: 14\n",
      "RDKit ERROR: [18:21:00] UFFTYPER: Unrecognized charge state for atom: 14\n",
      "[18:21:00] UFFTYPER: Unrecognized charge state for atom: 14\n",
      "RDKit ERROR: [18:21:00] UFFTYPER: Unrecognized charge state for atom: 14\n",
      "[18:21:00] UFFTYPER: Unrecognized charge state for atom: 14\n",
      "RDKit ERROR: [18:21:00] UFFTYPER: Unrecognized charge state for atom: 14\n",
      "[18:21:00] UFFTYPER: Unrecognized charge state for atom: 14\n",
      "RDKit ERROR: [18:21:00] UFFTYPER: Unrecognized charge state for atom: 14\n",
      "[18:21:00] UFFTYPER: Unrecognized charge state for atom: 14\n",
      "RDKit ERROR: [18:21:00] UFFTYPER: Unrecognized charge state for atom: 14\n",
      "[18:21:00] UFFTYPER: Unrecognized charge state for atom: 14\n",
      "RDKit ERROR: [18:21:00] UFFTYPER: Unrecognized charge state for atom: 14\n",
      "[18:21:00] UFFTYPER: Unrecognized charge state for atom: 14\n",
      "RDKit ERROR: [18:21:00] UFFTYPER: Unrecognized charge state for atom: 14\n",
      "[18:21:00] UFFTYPER: Unrecognized charge state for atom: 14\n",
      "RDKit ERROR: [18:21:00] UFFTYPER: Unrecognized charge state for atom: 14\n",
      "[18:21:00] UFFTYPER: Unrecognized charge state for atom: 14\n",
      "RDKit ERROR: [18:21:00] UFFTYPER: Unrecognized charge state for atom: 14\n",
      "[18:21:00] UFFTYPER: Unrecognized charge state for atom: 14\n",
      "RDKit ERROR: [18:21:00] UFFTYPER: Unrecognized charge state for atom: 14\n",
      "[18:21:00] UFFTYPER: Unrecognized charge state for atom: 14\n",
      "RDKit ERROR: [18:21:00] UFFTYPER: Unrecognized charge state for atom: 14\n",
      "[18:21:00] UFFTYPER: Unrecognized charge state for atom: 14\n",
      "RDKit ERROR: [18:21:00] UFFTYPER: Unrecognized charge state for atom: 14\n",
      "[18:21:00] UFFTYPER: Unrecognized charge state for atom: 14\n",
      "RDKit ERROR: [18:21:00] UFFTYPER: Unrecognized charge state for atom: 14\n",
      "[18:21:00] UFFTYPER: Unrecognized charge state for atom: 14\n",
      "RDKit ERROR: [18:21:00] UFFTYPER: Unrecognized charge state for atom: 14\n",
      "[18:21:00] UFFTYPER: Unrecognized charge state for atom: 14\n",
      "RDKit ERROR: [18:21:00] UFFTYPER: Unrecognized charge state for atom: 14\n",
      "[18:21:00] UFFTYPER: Unrecognized charge state for atom: 14\n",
      "RDKit ERROR: [18:21:00] UFFTYPER: Unrecognized charge state for atom: 14\n",
      "[18:21:00] UFFTYPER: Unrecognized charge state for atom: 14\n",
      "RDKit ERROR: [18:21:00] UFFTYPER: Unrecognized charge state for atom: 14\n",
      "[18:21:00] UFFTYPER: Unrecognized charge state for atom: 14\n",
      "RDKit ERROR: [18:21:00] UFFTYPER: Unrecognized charge state for atom: 14\n",
      "[18:21:00] UFFTYPER: Unrecognized charge state for atom: 14\n",
      "RDKit ERROR: [18:21:00] UFFTYPER: Unrecognized charge state for atom: 14\n",
      "[18:21:00] UFFTYPER: Unrecognized charge state for atom: 14\n",
      "RDKit ERROR: [18:21:00] UFFTYPER: Unrecognized charge state for atom: 14\n",
      "[18:21:00] UFFTYPER: Unrecognized charge state for atom: 14\n",
      "RDKit ERROR: [18:21:00] UFFTYPER: Unrecognized charge state for atom: 14\n",
      "[18:21:00] UFFTYPER: Unrecognized charge state for atom: 14\n",
      "RDKit ERROR: [18:21:00] UFFTYPER: Unrecognized charge state for atom: 14\n",
      "[18:21:00] UFFTYPER: Unrecognized charge state for atom: 14\n",
      "RDKit ERROR: [18:21:00] UFFTYPER: Unrecognized charge state for atom: 14\n",
      "[18:21:00] UFFTYPER: Unrecognized charge state for atom: 14\n",
      " 77%|█████████████████████████████▉         | 3484/4548 [28:02<06:45,  2.63it/s]RDKit ERROR: [18:21:40] UFFTYPER: Unrecognized charge state for atom: 10\n",
      "[18:21:40] UFFTYPER: Unrecognized charge state for atom: 10\n",
      "RDKit ERROR: [18:21:40] UFFTYPER: Unrecognized charge state for atom: 10\n",
      "[18:21:40] UFFTYPER: Unrecognized charge state for atom: 10\n",
      "RDKit ERROR: [18:21:40] UFFTYPER: Unrecognized charge state for atom: 10\n",
      "[18:21:40] UFFTYPER: Unrecognized charge state for atom: 10\n",
      "RDKit ERROR: [18:21:40] UFFTYPER: Unrecognized charge state for atom: 10\n",
      "[18:21:40] UFFTYPER: Unrecognized charge state for atom: 10\n",
      "RDKit ERROR: [18:21:40] UFFTYPER: Unrecognized charge state for atom: 10\n",
      "[18:21:40] UFFTYPER: Unrecognized charge state for atom: 10\n",
      "RDKit ERROR: [18:21:40] UFFTYPER: Unrecognized charge state for atom: 10\n",
      "[18:21:40] UFFTYPER: Unrecognized charge state for atom: 10\n",
      "RDKit ERROR: [18:21:40] UFFTYPER: Unrecognized charge state for atom: 10\n",
      "[18:21:40] UFFTYPER: Unrecognized charge state for atom: 10\n",
      "RDKit ERROR: [18:21:40] UFFTYPER: Unrecognized charge state for atom: 10\n",
      "[18:21:40] UFFTYPER: Unrecognized charge state for atom: 10\n",
      "RDKit ERROR: [18:21:40] UFFTYPER: Unrecognized charge state for atom: 10\n",
      "[18:21:40] UFFTYPER: Unrecognized charge state for atom: 10\n",
      "RDKit ERROR: [18:21:40] UFFTYPER: Unrecognized charge state for atom: 10\n",
      "[18:21:40] UFFTYPER: Unrecognized charge state for atom: 10\n",
      "RDKit ERROR: [18:21:40] UFFTYPER: Unrecognized charge state for atom: 10\n",
      "[18:21:40] UFFTYPER: Unrecognized charge state for atom: 10\n",
      "RDKit ERROR: [18:21:40] UFFTYPER: Unrecognized charge state for atom: 10\n",
      "[18:21:40] UFFTYPER: Unrecognized charge state for atom: 10\n",
      "RDKit ERROR: [18:21:40] UFFTYPER: Unrecognized charge state for atom: 10\n",
      "[18:21:40] UFFTYPER: Unrecognized charge state for atom: 10\n",
      "RDKit ERROR: [18:21:40] UFFTYPER: Unrecognized charge state for atom: 10\n",
      "[18:21:40] UFFTYPER: Unrecognized charge state for atom: 10\n",
      "RDKit ERROR: [18:21:40] UFFTYPER: Unrecognized charge state for atom: 10\n",
      "[18:21:40] UFFTYPER: Unrecognized charge state for atom: 10\n",
      "RDKit ERROR: [18:21:40] UFFTYPER: Unrecognized charge state for atom: 10\n",
      "[18:21:40] UFFTYPER: Unrecognized charge state for atom: 10\n",
      "RDKit ERROR: [18:21:40] UFFTYPER: Unrecognized charge state for atom: 10\n",
      "[18:21:40] UFFTYPER: Unrecognized charge state for atom: 10\n",
      "RDKit ERROR: [18:21:40] UFFTYPER: Unrecognized charge state for atom: 10\n",
      "[18:21:40] UFFTYPER: Unrecognized charge state for atom: 10\n",
      "RDKit ERROR: [18:21:40] UFFTYPER: Unrecognized charge state for atom: 10\n",
      "[18:21:40] UFFTYPER: Unrecognized charge state for atom: 10\n",
      "RDKit ERROR: [18:21:40] UFFTYPER: Unrecognized charge state for atom: 10\n",
      "[18:21:40] UFFTYPER: Unrecognized charge state for atom: 10\n",
      "RDKit ERROR: [18:21:40] UFFTYPER: Unrecognized charge state for atom: 10\n",
      "[18:21:40] UFFTYPER: Unrecognized charge state for atom: 10\n",
      "RDKit ERROR: [18:21:40] UFFTYPER: Unrecognized charge state for atom: 10\n",
      "[18:21:40] UFFTYPER: Unrecognized charge state for atom: 10\n",
      "RDKit ERROR: [18:21:40] UFFTYPER: Unrecognized charge state for atom: 10\n",
      "[18:21:40] UFFTYPER: Unrecognized charge state for atom: 10\n",
      "RDKit ERROR: [18:21:40] UFFTYPER: Unrecognized charge state for atom: 10\n",
      "[18:21:40] UFFTYPER: Unrecognized charge state for atom: 10\n",
      "RDKit ERROR: [18:21:40] UFFTYPER: Unrecognized charge state for atom: 10\n",
      "[18:21:40] UFFTYPER: Unrecognized charge state for atom: 10\n",
      "RDKit ERROR: [18:21:40] UFFTYPER: Unrecognized charge state for atom: 10\n",
      "[18:21:40] UFFTYPER: Unrecognized charge state for atom: 10\n",
      "RDKit ERROR: [18:21:40] UFFTYPER: Unrecognized charge state for atom: 10\n",
      "[18:21:40] UFFTYPER: Unrecognized charge state for atom: 10\n",
      "RDKit ERROR: [18:21:40] UFFTYPER: Unrecognized charge state for atom: 10\n",
      "[18:21:40] UFFTYPER: Unrecognized charge state for atom: 10\n",
      "RDKit ERROR: [18:21:40] UFFTYPER: Unrecognized charge state for atom: 10\n",
      "[18:21:40] UFFTYPER: Unrecognized charge state for atom: 10\n",
      "RDKit ERROR: [18:21:40] UFFTYPER: Unrecognized charge state for atom: 10\n",
      "[18:21:40] UFFTYPER: Unrecognized charge state for atom: 10\n",
      "RDKit ERROR: [18:21:40] UFFTYPER: Unrecognized charge state for atom: 10\n",
      "[18:21:40] UFFTYPER: Unrecognized charge state for atom: 10\n",
      "RDKit ERROR: [18:21:40] UFFTYPER: Unrecognized charge state for atom: 10\n",
      "[18:21:40] UFFTYPER: Unrecognized charge state for atom: 10\n",
      "RDKit ERROR: [18:21:40] UFFTYPER: Unrecognized charge state for atom: 10\n",
      "[18:21:40] UFFTYPER: Unrecognized charge state for atom: 10\n",
      "RDKit ERROR: [18:21:40] UFFTYPER: Unrecognized charge state for atom: 10\n",
      "[18:21:40] UFFTYPER: Unrecognized charge state for atom: 10\n",
      "RDKit ERROR: [18:21:40] UFFTYPER: Unrecognized charge state for atom: 10\n",
      "[18:21:40] UFFTYPER: Unrecognized charge state for atom: 10\n",
      "RDKit ERROR: [18:21:40] UFFTYPER: Unrecognized charge state for atom: 10\n",
      "[18:21:40] UFFTYPER: Unrecognized charge state for atom: 10\n",
      "RDKit ERROR: [18:21:40] UFFTYPER: Unrecognized charge state for atom: 10\n",
      "[18:21:40] UFFTYPER: Unrecognized charge state for atom: 10\n",
      "RDKit ERROR: [18:21:40] UFFTYPER: Unrecognized charge state for atom: 10\n",
      "[18:21:40] UFFTYPER: Unrecognized charge state for atom: 10\n",
      "RDKit ERROR: [18:21:40] UFFTYPER: Unrecognized charge state for atom: 10\n",
      "[18:21:40] UFFTYPER: Unrecognized charge state for atom: 10\n",
      "RDKit ERROR: [18:21:40] UFFTYPER: Unrecognized charge state for atom: 10\n",
      "[18:21:40] UFFTYPER: Unrecognized charge state for atom: 10\n",
      "RDKit ERROR: [18:21:40] UFFTYPER: Unrecognized charge state for atom: 10\n",
      "[18:21:40] UFFTYPER: Unrecognized charge state for atom: 10\n",
      "RDKit ERROR: [18:21:40] UFFTYPER: Unrecognized charge state for atom: 10\n",
      "[18:21:40] UFFTYPER: Unrecognized charge state for atom: 10\n",
      "RDKit ERROR: [18:21:40] UFFTYPER: Unrecognized charge state for atom: 10\n",
      "[18:21:40] UFFTYPER: Unrecognized charge state for atom: 10\n",
      "RDKit ERROR: [18:21:40] UFFTYPER: Unrecognized charge state for atom: 10\n",
      "[18:21:40] UFFTYPER: Unrecognized charge state for atom: 10\n",
      "RDKit ERROR: [18:21:40] UFFTYPER: Unrecognized charge state for atom: 10\n",
      "[18:21:40] UFFTYPER: Unrecognized charge state for atom: 10\n",
      "RDKit ERROR: [18:21:40] UFFTYPER: Unrecognized charge state for atom: 10\n",
      "[18:21:40] UFFTYPER: Unrecognized charge state for atom: 10\n",
      "RDKit ERROR: [18:21:40] UFFTYPER: Unrecognized charge state for atom: 10\n",
      "[18:21:40] UFFTYPER: Unrecognized charge state for atom: 10\n",
      "RDKit ERROR: [18:21:40] UFFTYPER: Unrecognized charge state for atom: 10\n",
      "[18:21:40] UFFTYPER: Unrecognized charge state for atom: 10\n",
      "RDKit ERROR: [18:21:40] UFFTYPER: Unrecognized charge state for atom: 10\n",
      "[18:21:40] UFFTYPER: Unrecognized charge state for atom: 10\n",
      "RDKit ERROR: [18:21:40] UFFTYPER: Unrecognized charge state for atom: 10\n",
      "[18:21:40] UFFTYPER: Unrecognized charge state for atom: 10\n",
      "RDKit ERROR: [18:21:40] UFFTYPER: Unrecognized charge state for atom: 10\n",
      "[18:21:40] UFFTYPER: Unrecognized charge state for atom: 10\n",
      "RDKit ERROR: [18:21:40] UFFTYPER: Unrecognized charge state for atom: 10\n",
      "[18:21:40] UFFTYPER: Unrecognized charge state for atom: 10\n",
      "RDKit ERROR: [18:21:40] UFFTYPER: Unrecognized charge state for atom: 10\n",
      "[18:21:40] UFFTYPER: Unrecognized charge state for atom: 10\n",
      "RDKit ERROR: [18:21:40] UFFTYPER: Unrecognized charge state for atom: 10\n",
      "[18:21:40] UFFTYPER: Unrecognized charge state for atom: 10\n",
      "RDKit ERROR: [18:21:40] UFFTYPER: Unrecognized charge state for atom: 10\n",
      "[18:21:40] UFFTYPER: Unrecognized charge state for atom: 10\n",
      "RDKit ERROR: [18:21:40] UFFTYPER: Unrecognized charge state for atom: 10\n",
      "[18:21:40] UFFTYPER: Unrecognized charge state for atom: 10\n",
      "RDKit ERROR: [18:21:40] UFFTYPER: Unrecognized charge state for atom: 10\n",
      "[18:21:40] UFFTYPER: Unrecognized charge state for atom: 10\n",
      "RDKit ERROR: [18:21:40] UFFTYPER: Unrecognized charge state for atom: 10\n",
      "[18:21:40] UFFTYPER: Unrecognized charge state for atom: 10\n",
      "RDKit ERROR: [18:21:40] UFFTYPER: Unrecognized charge state for atom: 10\n",
      "[18:21:40] UFFTYPER: Unrecognized charge state for atom: 10\n",
      "RDKit ERROR: [18:21:40] UFFTYPER: Unrecognized charge state for atom: 10\n",
      "[18:21:40] UFFTYPER: Unrecognized charge state for atom: 10\n",
      "RDKit ERROR: [18:21:40] UFFTYPER: Unrecognized charge state for atom: 10\n",
      "[18:21:40] UFFTYPER: Unrecognized charge state for atom: 10\n",
      "RDKit ERROR: [18:21:40] UFFTYPER: Unrecognized charge state for atom: 10\n",
      "[18:21:40] UFFTYPER: Unrecognized charge state for atom: 10\n",
      "RDKit ERROR: [18:21:40] UFFTYPER: Unrecognized charge state for atom: 10\n",
      "[18:21:40] UFFTYPER: Unrecognized charge state for atom: 10\n",
      "RDKit ERROR: [18:21:40] UFFTYPER: Unrecognized charge state for atom: 10\n",
      "[18:21:40] UFFTYPER: Unrecognized charge state for atom: 10\n",
      "RDKit ERROR: [18:21:40] UFFTYPER: Unrecognized charge state for atom: 10\n",
      "[18:21:40] UFFTYPER: Unrecognized charge state for atom: 10\n",
      "RDKit ERROR: [18:21:40] UFFTYPER: Unrecognized charge state for atom: 10\n",
      "[18:21:40] UFFTYPER: Unrecognized charge state for atom: 10\n",
      "RDKit ERROR: [18:21:40] UFFTYPER: Unrecognized charge state for atom: 10\n",
      "[18:21:40] UFFTYPER: Unrecognized charge state for atom: 10\n",
      "RDKit ERROR: [18:21:40] UFFTYPER: Unrecognized charge state for atom: 10\n",
      "[18:21:40] UFFTYPER: Unrecognized charge state for atom: 10\n",
      "RDKit ERROR: [18:21:40] UFFTYPER: Unrecognized charge state for atom: 10\n",
      "[18:21:40] UFFTYPER: Unrecognized charge state for atom: 10\n",
      "RDKit ERROR: [18:21:40] UFFTYPER: Unrecognized charge state for atom: 10\n",
      "[18:21:40] UFFTYPER: Unrecognized charge state for atom: 10\n",
      "RDKit ERROR: [18:21:40] UFFTYPER: Unrecognized charge state for atom: 10\n",
      "[18:21:40] UFFTYPER: Unrecognized charge state for atom: 10\n",
      "RDKit ERROR: [18:21:40] UFFTYPER: Unrecognized charge state for atom: 10\n",
      "[18:21:40] UFFTYPER: Unrecognized charge state for atom: 10\n",
      "RDKit ERROR: [18:21:40] UFFTYPER: Unrecognized charge state for atom: 10\n",
      "[18:21:40] UFFTYPER: Unrecognized charge state for atom: 10\n",
      "RDKit ERROR: [18:21:40] UFFTYPER: Unrecognized charge state for atom: 10\n",
      "[18:21:40] UFFTYPER: Unrecognized charge state for atom: 10\n",
      "RDKit ERROR: [18:21:40] UFFTYPER: Unrecognized charge state for atom: 10\n",
      "[18:21:40] UFFTYPER: Unrecognized charge state for atom: 10\n",
      "RDKit ERROR: [18:21:40] UFFTYPER: Unrecognized charge state for atom: 10\n",
      "[18:21:40] UFFTYPER: Unrecognized charge state for atom: 10\n",
      "RDKit ERROR: [18:21:40] UFFTYPER: Unrecognized charge state for atom: 10\n",
      "[18:21:40] UFFTYPER: Unrecognized charge state for atom: 10\n",
      "RDKit ERROR: [18:21:40] UFFTYPER: Unrecognized charge state for atom: 10\n",
      "[18:21:40] UFFTYPER: Unrecognized charge state for atom: 10\n",
      "RDKit ERROR: [18:21:40] UFFTYPER: Unrecognized charge state for atom: 10\n",
      "[18:21:40] UFFTYPER: Unrecognized charge state for atom: 10\n",
      "RDKit ERROR: [18:21:40] UFFTYPER: Unrecognized charge state for atom: 10\n",
      "[18:21:40] UFFTYPER: Unrecognized charge state for atom: 10\n",
      "RDKit ERROR: [18:21:40] UFFTYPER: Unrecognized charge state for atom: 10\n",
      "[18:21:40] UFFTYPER: Unrecognized charge state for atom: 10\n",
      "RDKit ERROR: [18:21:40] UFFTYPER: Unrecognized charge state for atom: 10\n",
      "[18:21:40] UFFTYPER: Unrecognized charge state for atom: 10\n",
      "RDKit ERROR: [18:21:40] UFFTYPER: Unrecognized charge state for atom: 10\n",
      "[18:21:40] UFFTYPER: Unrecognized charge state for atom: 10\n",
      "RDKit ERROR: [18:21:40] UFFTYPER: Unrecognized charge state for atom: 10\n",
      "[18:21:40] UFFTYPER: Unrecognized charge state for atom: 10\n",
      "RDKit ERROR: [18:21:40] UFFTYPER: Unrecognized charge state for atom: 10\n",
      "[18:21:40] UFFTYPER: Unrecognized charge state for atom: 10\n",
      "RDKit ERROR: [18:21:40] UFFTYPER: Unrecognized charge state for atom: 10\n",
      "[18:21:40] UFFTYPER: Unrecognized charge state for atom: 10\n",
      "RDKit ERROR: [18:21:40] UFFTYPER: Unrecognized charge state for atom: 10\n",
      "[18:21:40] UFFTYPER: Unrecognized charge state for atom: 10\n",
      "RDKit ERROR: [18:21:40] UFFTYPER: Unrecognized charge state for atom: 10\n",
      "[18:21:40] UFFTYPER: Unrecognized charge state for atom: 10\n",
      "RDKit ERROR: [18:21:40] UFFTYPER: Unrecognized charge state for atom: 10\n",
      "[18:21:40] UFFTYPER: Unrecognized charge state for atom: 10\n",
      "RDKit ERROR: [18:21:40] UFFTYPER: Unrecognized charge state for atom: 10\n",
      "[18:21:40] UFFTYPER: Unrecognized charge state for atom: 10\n",
      "RDKit ERROR: [18:21:40] UFFTYPER: Unrecognized charge state for atom: 10\n",
      "[18:21:40] UFFTYPER: Unrecognized charge state for atom: 10\n",
      "RDKit ERROR: [18:21:40] UFFTYPER: Unrecognized charge state for atom: 10\n",
      "[18:21:40] UFFTYPER: Unrecognized charge state for atom: 10\n",
      "RDKit ERROR: [18:21:40] UFFTYPER: Unrecognized charge state for atom: 10\n",
      "[18:21:40] UFFTYPER: Unrecognized charge state for atom: 10\n",
      "RDKit ERROR: [18:21:40] UFFTYPER: Unrecognized charge state for atom: 10\n",
      "[18:21:40] UFFTYPER: Unrecognized charge state for atom: 10\n",
      "RDKit ERROR: [18:21:40] UFFTYPER: Unrecognized charge state for atom: 10\n",
      "[18:21:40] UFFTYPER: Unrecognized charge state for atom: 10\n",
      "RDKit ERROR: [18:21:40] UFFTYPER: Unrecognized charge state for atom: 10\n",
      "[18:21:40] UFFTYPER: Unrecognized charge state for atom: 10\n",
      "RDKit ERROR: [18:21:40] UFFTYPER: Unrecognized charge state for atom: 10\n",
      "[18:21:40] UFFTYPER: Unrecognized charge state for atom: 10\n",
      "RDKit ERROR: [18:21:40] UFFTYPER: Unrecognized charge state for atom: 10\n",
      "[18:21:40] UFFTYPER: Unrecognized charge state for atom: 10\n",
      "RDKit ERROR: [18:21:40] UFFTYPER: Unrecognized charge state for atom: 10\n",
      "[18:21:40] UFFTYPER: Unrecognized charge state for atom: 10\n",
      "RDKit ERROR: [18:21:40] UFFTYPER: Unrecognized charge state for atom: 10\n",
      "[18:21:40] UFFTYPER: Unrecognized charge state for atom: 10\n",
      "RDKit ERROR: [18:21:40] UFFTYPER: Unrecognized charge state for atom: 10\n",
      "[18:21:40] UFFTYPER: Unrecognized charge state for atom: 10\n",
      " 78%|██████████████████████████████▏        | 3525/4548 [28:14<07:02,  2.42it/s]RDKit ERROR: [18:21:52] UFFTYPER: Unrecognized charge state for atom: 7\n",
      "[18:21:52] UFFTYPER: Unrecognized charge state for atom: 7\n",
      "RDKit ERROR: [18:21:52] UFFTYPER: Unrecognized charge state for atom: 7\n",
      "[18:21:52] UFFTYPER: Unrecognized charge state for atom: 7\n",
      "RDKit ERROR: [18:21:52] UFFTYPER: Unrecognized charge state for atom: 7\n",
      "[18:21:52] UFFTYPER: Unrecognized charge state for atom: 7\n",
      "RDKit ERROR: [18:21:52] UFFTYPER: Unrecognized charge state for atom: 7\n",
      "RDKit ERROR: [18:21:52] UFFTYPER: Unrecognized charge state for atom: 7\n",
      "[18:21:52] UFFTYPER: Unrecognized charge state for atom: 7\n",
      "RDKit ERROR: [18:21:52] UFFTYPER: Unrecognized charge state for atom: 7\n",
      "RDKit ERROR: [18:21:52] UFFTYPER: Unrecognized charge state for atom: 7\n",
      "[18:21:52] UFFTYPER: Unrecognized charge state for atom: 7\n",
      "[18:21:52] UFFTYPER: Unrecognized charge state for atom: 7\n",
      "[18:21:52] UFFTYPER: Unrecognized charge state for atom: 7\n",
      "RDKit ERROR: [18:21:52] UFFTYPER: Unrecognized charge state for atom: 7\n",
      "RDKit ERROR: [18:21:52] UFFTYPER: Unrecognized charge state for atom: 7\n",
      "RDKit ERROR: [18:21:52] UFFTYPER: Unrecognized charge state for atom: 7\n",
      "[18:21:52] UFFTYPER: Unrecognized charge state for atom: 7\n",
      "[18:21:52] UFFTYPER: Unrecognized charge state for atom: 7\n",
      "[18:21:52] UFFTYPER: Unrecognized charge state for atom: 7\n",
      "RDKit ERROR: [18:21:52] UFFTYPER: Unrecognized charge state for atom: 7\n",
      "[18:21:52] UFFTYPER: Unrecognized charge state for atom: 7\n",
      "RDKit ERROR: [18:21:52] UFFTYPER: Unrecognized charge state for atom: 7\n",
      "RDKit ERROR: [18:21:52] UFFTYPER: Unrecognized charge state for atom: 7\n",
      "[18:21:52] UFFTYPER: Unrecognized charge state for atom: 7\n",
      "[18:21:52] UFFTYPER: Unrecognized charge state for atom: 7\n",
      "RDKit ERROR: [18:21:52] UFFTYPER: Unrecognized charge state for atom: 7\n",
      "[18:21:52] UFFTYPER: Unrecognized charge state for atom: 7\n",
      "RDKit ERROR: [18:21:52] UFFTYPER: Unrecognized charge state for atom: 7\n",
      "RDKit ERROR: [18:21:52] UFFTYPER: Unrecognized charge state for atom: 7\n",
      "[18:21:52] UFFTYPER: Unrecognized charge state for atom: 7\n",
      "RDKit ERROR: [18:21:52] UFFTYPER: Unrecognized charge state for atom: 7\n",
      "[18:21:52] UFFTYPER: Unrecognized charge state for atom: 7\n",
      "[18:21:52] UFFTYPER: Unrecognized charge state for atom: 7\n",
      "RDKit ERROR: [18:21:52] UFFTYPER: Unrecognized charge state for atom: 7\n",
      "RDKit ERROR: [18:21:52] UFFTYPER: Unrecognized charge state for atom: 7\n",
      "[18:21:52] UFFTYPER: Unrecognized charge state for atom: 7\n",
      "[18:21:52] UFFTYPER: Unrecognized charge state for atom: 7\n",
      "RDKit ERROR: [18:21:52] UFFTYPER: Unrecognized charge state for atom: 7\n",
      "RDKit ERROR: [18:21:52] UFFTYPER: Unrecognized charge state for atom: 7\n",
      "[18:21:52] UFFTYPER: Unrecognized charge state for atom: 7\n",
      "[18:21:52] UFFTYPER: Unrecognized charge state for atom: 7\n",
      "RDKit ERROR: [18:21:52] UFFTYPER: Unrecognized charge state for atom: 7\n",
      "RDKit ERROR: [18:21:52] UFFTYPER: Unrecognized charge state for atom: 7\n",
      "[18:21:52] UFFTYPER: Unrecognized charge state for atom: 7\n",
      "[18:21:52] UFFTYPER: Unrecognized charge state for atom: 7\n",
      "RDKit ERROR: [18:21:52] UFFTYPER: Unrecognized charge state for atom: 7\n",
      "RDKit ERROR: [18:21:52] UFFTYPER: Unrecognized charge state for atom: 7\n",
      "RDKit ERROR: [18:21:52] UFFTYPER: Unrecognized charge state for atom: 7\n",
      "[18:21:52] UFFTYPER: Unrecognized charge state for atom: 7\n",
      "[18:21:52] UFFTYPER: Unrecognized charge state for atom: 7\n",
      "[18:21:52] UFFTYPER: Unrecognized charge state for atom: 7\n",
      "RDKit ERROR: [18:21:52] UFFTYPER: Unrecognized charge state for atom: 7\n",
      "[18:21:52] UFFTYPER: Unrecognized charge state for atom: 7\n",
      "RDKit ERROR: [18:21:52] UFFTYPER: Unrecognized charge state for atom: 7\n",
      "[18:21:52] UFFTYPER: Unrecognized charge state for atom: 7\n",
      "RDKit ERROR: [18:21:52] UFFTYPER: Unrecognized charge state for atom: 7\n",
      "[18:21:52] UFFTYPER: Unrecognized charge state for atom: 7\n",
      "RDKit ERROR: [18:21:52] UFFTYPER: Unrecognized charge state for atom: 7\n",
      "RDKit ERROR: [18:21:52] UFFTYPER: Unrecognized charge state for atom: 7\n",
      "RDKit ERROR: [18:21:52] UFFTYPER: Unrecognized charge state for atom: 7\n",
      "[18:21:52] UFFTYPER: Unrecognized charge state for atom: 7\n",
      "[18:21:52] UFFTYPER: Unrecognized charge state for atom: 7\n",
      "[18:21:52] UFFTYPER: Unrecognized charge state for atom: 7\n",
      "RDKit ERROR: [18:21:52] UFFTYPER: Unrecognized charge state for atom: 7\n",
      "RDKit ERROR: [18:21:52] UFFTYPER: Unrecognized charge state for atom: 7\n",
      "RDKit ERROR: [18:21:52] UFFTYPER: Unrecognized charge state for atom: 7\n",
      "RDKit ERROR: [18:21:52] UFFTYPER: Unrecognized charge state for atom: 7\n",
      "[18:21:52] UFFTYPER: Unrecognized charge state for atom: 7\n",
      "[18:21:52] UFFTYPER: Unrecognized charge state for atom: 7\n",
      "RDKit ERROR: [18:21:52] UFFTYPER: Unrecognized charge state for atom: 7\n",
      "RDKit ERROR: [18:21:52] UFFTYPER: Unrecognized charge state for atom: 7\n",
      "RDKit ERROR: [18:21:52] UFFTYPER: Unrecognized charge state for atom: 7\n",
      "RDKit ERROR: [18:21:52] UFFTYPER: Unrecognized charge state for atom: 7\n",
      "[18:21:52] UFFTYPER: Unrecognized charge state for atom: 7\n",
      "[18:21:52] UFFTYPER: Unrecognized charge state for atom: 7\n",
      "[18:21:52] UFFTYPER: Unrecognized charge state for atom: 7\n",
      "RDKit ERROR: [18:21:52] UFFTYPER: Unrecognized charge state for atom: 7\n",
      "RDKit ERROR: [18:21:52] UFFTYPER: Unrecognized charge state for atom: 7\n",
      "RDKit ERROR: [18:21:52] UFFTYPER: Unrecognized charge state for atom: 7\n",
      "RDKit ERROR: [18:21:52] UFFTYPER: Unrecognized charge state for atom: 7\n",
      "[18:21:52] UFFTYPER: Unrecognized charge state for atom: 7\n",
      "[18:21:52] UFFTYPER: Unrecognized charge state for atom: 7\n",
      "[18:21:52] UFFTYPER: Unrecognized charge state for atom: 7\n",
      "[18:21:52] UFFTYPER: Unrecognized charge state for atom: 7\n",
      "[18:21:52] UFFTYPER: Unrecognized charge state for atom: 7\n",
      "[18:21:52] UFFTYPER: Unrecognized charge state for atom: 7\n",
      "[18:21:52] UFFTYPER: Unrecognized charge state for atom: 7\n",
      "RDKit ERROR: [18:21:52] UFFTYPER: Unrecognized charge state for atom: 7\n",
      "RDKit ERROR: [18:21:52] UFFTYPER: Unrecognized charge state for atom: 7\n",
      "RDKit ERROR: [18:21:52] UFFTYPER: Unrecognized charge state for atom: 7\n",
      "RDKit ERROR: [18:21:52] UFFTYPER: Unrecognized charge state for atom: 7\n",
      "RDKit ERROR: [18:21:52] UFFTYPER: Unrecognized charge state for atom: 7\n",
      "RDKit ERROR: [18:21:52] UFFTYPER: Unrecognized charge state for atom: 7\n",
      "[18:21:52] UFFTYPER: Unrecognized charge state for atom: 7\n",
      "[18:21:52] UFFTYPER: Unrecognized charge state for atom: 7\n",
      "[18:21:52] UFFTYPER: Unrecognized charge state for atom: 7\n",
      "[18:21:52] UFFTYPER: Unrecognized charge state for atom: 7\n",
      "[18:21:52] UFFTYPER: Unrecognized charge state for atom: 7\n",
      "[18:21:52] UFFTYPER: Unrecognized charge state for atom: 7\n",
      "RDKit ERROR: [18:21:52] UFFTYPER: Unrecognized charge state for atom: 7\n",
      "[18:21:52] UFFTYPER: Unrecognized charge state for atom: 7\n",
      "RDKit ERROR: [18:21:52] UFFTYPER: Unrecognized charge state for atom: 7\n",
      "[18:21:52] UFFTYPER: Unrecognized charge state for atom: 7\n",
      "RDKit ERROR: [18:21:52] UFFTYPER: Unrecognized charge state for atom: 7\n",
      "RDKit ERROR: [18:21:52] UFFTYPER: Unrecognized charge state for atom: 7\n",
      "RDKit ERROR: [18:21:52] UFFTYPER: Unrecognized charge state for atom: 7\n",
      "[18:21:52] UFFTYPER: Unrecognized charge state for atom: 7\n",
      "[18:21:52] UFFTYPER: Unrecognized charge state for atom: 7\n",
      "[18:21:52] UFFTYPER: Unrecognized charge state for atom: 7\n",
      "RDKit ERROR: [18:21:52] UFFTYPER: Unrecognized charge state for atom: 7\n",
      "RDKit ERROR: [18:21:52] UFFTYPER: Unrecognized charge state for atom: 7\n",
      "RDKit ERROR: [18:21:52] UFFTYPER: Unrecognized charge state for atom: 7\n",
      "[18:21:52] UFFTYPER: Unrecognized charge state for atom: 7\n",
      "RDKit ERROR: [18:21:52] UFFTYPER: Unrecognized charge state for atom: 7\n",
      "RDKit ERROR: [18:21:52] UFFTYPER: Unrecognized charge state for atom: 7\n",
      "[18:21:52] UFFTYPER: Unrecognized charge state for atom: 7\n",
      "[18:21:52] UFFTYPER: Unrecognized charge state for atom: 7\n",
      "[18:21:52] UFFTYPER: Unrecognized charge state for atom: 7\n",
      "[18:21:52] UFFTYPER: Unrecognized charge state for atom: 7\n",
      "RDKit ERROR: [18:21:52] UFFTYPER: Unrecognized charge state for atom: 7\n",
      "[18:21:52] UFFTYPER: Unrecognized charge state for atom: 7\n",
      "RDKit ERROR: [18:21:52] UFFTYPER: Unrecognized charge state for atom: 7\n",
      "RDKit ERROR: [18:21:52] UFFTYPER: Unrecognized charge state for atom: 7\n",
      "[18:21:52] UFFTYPER: Unrecognized charge state for atom: 7\n",
      "[18:21:52] UFFTYPER: Unrecognized charge state for atom: 7\n",
      "RDKit ERROR: [18:21:52] UFFTYPER: Unrecognized charge state for atom: 7\n",
      "RDKit ERROR: [18:21:52] UFFTYPER: Unrecognized charge state for atom: 7\n",
      "[18:21:52] UFFTYPER: Unrecognized charge state for atom: 7\n",
      "[18:21:52] UFFTYPER: Unrecognized charge state for atom: 7\n",
      "RDKit ERROR: [18:21:52] UFFTYPER: Unrecognized charge state for atom: 7\n",
      "[18:21:52] UFFTYPER: Unrecognized charge state for atom: 7\n",
      "RDKit ERROR: [18:21:52] UFFTYPER: Unrecognized charge state for atom: 7\n",
      "RDKit ERROR: [18:21:52] UFFTYPER: Unrecognized charge state for atom: 7\n",
      "[18:21:52] UFFTYPER: Unrecognized charge state for atom: 7\n",
      "[18:21:52] UFFTYPER: Unrecognized charge state for atom: 7\n",
      "RDKit ERROR: [18:21:52] UFFTYPER: Unrecognized charge state for atom: 7\n",
      "RDKit ERROR: [18:21:52] UFFTYPER: Unrecognized charge state for atom: 7\n",
      "RDKit ERROR: [18:21:52] UFFTYPER: Unrecognized charge state for atom: 7\n",
      "[18:21:52] UFFTYPER: Unrecognized charge state for atom: 7\n",
      "[18:21:52] UFFTYPER: Unrecognized charge state for atom: 7\n",
      "[18:21:52] UFFTYPER: Unrecognized charge state for atom: 7\n",
      "RDKit ERROR: [18:21:53] UFFTYPER: Unrecognized charge state for atom: 7\n",
      "RDKit ERROR: [18:21:53] UFFTYPER: Unrecognized charge state for atom: 7\n",
      "[18:21:53] UFFTYPER: Unrecognized charge state for atom: 7\n",
      "[18:21:53] UFFTYPER: Unrecognized charge state for atom: 7\n",
      "RDKit ERROR: [18:21:53] UFFTYPER: Unrecognized charge state for atom: 7\n",
      "[18:21:53] UFFTYPER: Unrecognized charge state for atom: 7\n",
      "RDKit ERROR: [18:21:53] UFFTYPER: Unrecognized charge state for atom: 7\n",
      "RDKit ERROR: [18:21:53] UFFTYPER: Unrecognized charge state for atom: 7\n",
      "[18:21:53] UFFTYPER: Unrecognized charge state for atom: 7\n",
      "[18:21:53] UFFTYPER: Unrecognized charge state for atom: 7\n",
      "RDKit ERROR: [18:21:53] UFFTYPER: Unrecognized charge state for atom: 7\n",
      "[18:21:53] UFFTYPER: Unrecognized charge state for atom: 7\n",
      "RDKit ERROR: [18:21:53] UFFTYPER: Unrecognized charge state for atom: 7\n",
      "RDKit ERROR: [18:21:53] UFFTYPER: Unrecognized charge state for atom: 7\n",
      "[18:21:53] UFFTYPER: Unrecognized charge state for atom: 7\n",
      "[18:21:53] UFFTYPER: Unrecognized charge state for atom: 7\n",
      "RDKit ERROR: [18:21:53] UFFTYPER: Unrecognized charge state for atom: 7\n",
      "RDKit ERROR: [18:21:53] UFFTYPER: Unrecognized charge state for atom: 7\n",
      "RDKit ERROR: [18:21:53] UFFTYPER: Unrecognized charge state for atom: 7\n",
      "[18:21:53] UFFTYPER: Unrecognized charge state for atom: 7\n",
      "[18:21:53] UFFTYPER: Unrecognized charge state for atom: 7\n",
      "[18:21:53] UFFTYPER: Unrecognized charge state for atom: 7\n",
      "RDKit ERROR: [18:21:53] UFFTYPER: Unrecognized charge state for atom: 7\n",
      "RDKit ERROR: [18:21:53] UFFTYPER: Unrecognized charge state for atom: 7\n",
      "RDKit ERROR: [18:21:53] UFFTYPER: Unrecognized charge state for atom: 7\n",
      "[18:21:53] UFFTYPER: Unrecognized charge state for atom: 7\n",
      "[18:21:53] UFFTYPER: Unrecognized charge state for atom: 7\n",
      "[18:21:53] UFFTYPER: Unrecognized charge state for atom: 7\n",
      "RDKit ERROR: [18:21:53] UFFTYPER: Unrecognized charge state for atom: 7\n",
      "[18:21:53] UFFTYPER: Unrecognized charge state for atom: 7\n",
      "RDKit ERROR: [18:21:53] UFFTYPER: Unrecognized charge state for atom: 7\n",
      "[18:21:53] UFFTYPER: Unrecognized charge state for atom: 7\n",
      "RDKit ERROR: [18:21:53] UFFTYPER: Unrecognized charge state for atom: 7\n",
      "[18:21:53] UFFTYPER: Unrecognized charge state for atom: 7\n",
      "RDKit ERROR: [18:21:53] UFFTYPER: Unrecognized charge state for atom: 7\n",
      "RDKit ERROR: [18:21:53] UFFTYPER: Unrecognized charge state for atom: 7\n",
      "RDKit ERROR: [18:21:53] UFFTYPER: Unrecognized charge state for atom: 7\n",
      "RDKit ERROR: [18:21:53] UFFTYPER: Unrecognized charge state for atom: 7\n",
      "[18:21:53] UFFTYPER: Unrecognized charge state for atom: 7\n",
      "[18:21:53] UFFTYPER: Unrecognized charge state for atom: 7\n",
      "RDKit ERROR: [18:21:53] UFFTYPER: Unrecognized charge state for atom: 7\n",
      "RDKit ERROR: [18:21:53] UFFTYPER: Unrecognized charge state for atom: 7\n",
      "[18:21:53] UFFTYPER: Unrecognized charge state for atom: 7\n",
      "[18:21:53] UFFTYPER: Unrecognized charge state for atom: 7\n",
      "[18:21:53] UFFTYPER: Unrecognized charge state for atom: 7\n",
      "[18:21:53] UFFTYPER: Unrecognized charge state for atom: 7\n",
      "RDKit ERROR: [18:21:53] UFFTYPER: Unrecognized charge state for atom: 7\n",
      "RDKit ERROR: [18:21:53] UFFTYPER: Unrecognized charge state for atom: 7\n",
      "RDKit ERROR: [18:21:53] UFFTYPER: Unrecognized charge state for atom: 7\n",
      "[18:21:53] UFFTYPER: Unrecognized charge state for atom: 7\n",
      "[18:21:53] UFFTYPER: Unrecognized charge state for atom: 7\n",
      "[18:21:53] UFFTYPER: Unrecognized charge state for atom: 7\n",
      "RDKit ERROR: [18:21:53] UFFTYPER: Unrecognized charge state for atom: 7\n",
      "RDKit ERROR: [18:21:53] UFFTYPER: Unrecognized charge state for atom: 7\n",
      "[18:21:53] UFFTYPER: Unrecognized charge state for atom: 7\n",
      "[18:21:53] UFFTYPER: Unrecognized charge state for atom: 7\n",
      "RDKit ERROR: [18:21:53] UFFTYPER: Unrecognized charge state for atom: 7\n",
      "RDKit ERROR: [18:21:53] UFFTYPER: Unrecognized charge state for atom: 7\n",
      "[18:21:53] UFFTYPER: Unrecognized charge state for atom: 7\n",
      "[18:21:53] UFFTYPER: Unrecognized charge state for atom: 7\n",
      " 82%|███████████████████████████████▊       | 3707/4548 [29:20<04:46,  2.94it/s]RDKit ERROR: [18:22:59] UFFTYPER: Unrecognized charge state for atom: 28\n",
      "[18:22:59] UFFTYPER: Unrecognized charge state for atom: 28\n",
      "RDKit ERROR: [18:22:59] UFFTYPER: Unrecognized charge state for atom: 28\n",
      "RDKit ERROR: [18:22:59] UFFTYPER: Unrecognized charge state for atom: 28\n",
      "RDKit ERROR: [18:22:59] UFFTYPER: Unrecognized charge state for atom: 28\n",
      "[18:22:59] UFFTYPER: Unrecognized charge state for atom: 28\n",
      "RDKit ERROR: [18:22:59] UFFTYPER: Unrecognized charge state for atom: 28\n",
      "RDKit ERROR: [18:22:59] UFFTYPER: Unrecognized charge state for atom: 28\n",
      "RDKit ERROR: [18:22:59] UFFTYPER: Unrecognized charge state for atom: 28\n",
      "RDKit ERROR: [18:22:59] UFFTYPER: Unrecognized charge state for atom: 28\n",
      "[18:22:59] UFFTYPER: Unrecognized charge state for atom: 28\n",
      "[18:22:59] UFFTYPER: Unrecognized charge state for atom: 28\n",
      "[18:22:59] UFFTYPER: Unrecognized charge state for atom: 28\n",
      "RDKit ERROR: [18:22:59] UFFTYPER: Unrecognized charge state for atom: 28\n",
      "[18:22:59] UFFTYPER: Unrecognized charge state for atom: 28\n",
      "[18:22:59] UFFTYPER: Unrecognized charge state for atom: 28\n",
      "[18:22:59] UFFTYPER: Unrecognized charge state for atom: 28\n",
      "[18:22:59] UFFTYPER: Unrecognized charge state for atom: 28\n",
      "RDKit ERROR: [18:22:59] UFFTYPER: Unrecognized charge state for atom: 28\n",
      "[18:22:59] UFFTYPER: Unrecognized charge state for atom: 28\n",
      "RDKit ERROR: [18:22:59] UFFTYPER: Unrecognized charge state for atom: 28\n",
      "[18:22:59] UFFTYPER: Unrecognized charge state for atom: 28\n",
      "RDKit ERROR: [18:22:59] UFFTYPER: Unrecognized charge state for atom: 28\n",
      "[18:22:59] UFFTYPER: Unrecognized charge state for atom: 28\n",
      "RDKit ERROR: [18:22:59] UFFTYPER: Unrecognized charge state for atom: 28\n",
      "[18:22:59] UFFTYPER: Unrecognized charge state for atom: 28\n",
      "RDKit ERROR: [18:22:59] UFFTYPER: Unrecognized charge state for atom: 28\n",
      "[18:22:59] UFFTYPER: Unrecognized charge state for atom: 28\n",
      "RDKit ERROR: [18:22:59] UFFTYPER: Unrecognized charge state for atom: 28\n",
      "[18:22:59] UFFTYPER: Unrecognized charge state for atom: 28\n",
      "RDKit ERROR: [18:22:59] UFFTYPER: Unrecognized charge state for atom: 28\n",
      "[18:22:59] UFFTYPER: Unrecognized charge state for atom: 28\n",
      "RDKit ERROR: [18:22:59] UFFTYPER: Unrecognized charge state for atom: 28\n",
      "[18:22:59] UFFTYPER: Unrecognized charge state for atom: 28\n",
      "RDKit ERROR: [18:22:59] UFFTYPER: Unrecognized charge state for atom: 28\n",
      "[18:22:59] UFFTYPER: Unrecognized charge state for atom: 28\n",
      "RDKit ERROR: [18:22:59] UFFTYPER: Unrecognized charge state for atom: 28\n",
      "[18:22:59] UFFTYPER: Unrecognized charge state for atom: 28\n",
      "RDKit ERROR: [18:22:59] UFFTYPER: Unrecognized charge state for atom: 28\n",
      "[18:22:59] UFFTYPER: Unrecognized charge state for atom: 28\n",
      "RDKit ERROR: [18:22:59] UFFTYPER: Unrecognized charge state for atom: 28\n",
      "[18:22:59] UFFTYPER: Unrecognized charge state for atom: 28\n",
      "RDKit ERROR: [18:22:59] UFFTYPER: Unrecognized charge state for atom: 28\n",
      "[18:22:59] UFFTYPER: Unrecognized charge state for atom: 28\n",
      "RDKit ERROR: [18:22:59] UFFTYPER: Unrecognized charge state for atom: 28\n",
      "[18:22:59] UFFTYPER: Unrecognized charge state for atom: 28\n",
      "RDKit ERROR: [18:22:59] UFFTYPER: Unrecognized charge state for atom: 28\n",
      "[18:22:59] UFFTYPER: Unrecognized charge state for atom: 28\n",
      "RDKit ERROR: [18:22:59] UFFTYPER: Unrecognized charge state for atom: 28\n",
      "[18:22:59] UFFTYPER: Unrecognized charge state for atom: 28\n",
      "RDKit ERROR: [18:22:59] UFFTYPER: Unrecognized charge state for atom: 28\n",
      "[18:22:59] UFFTYPER: Unrecognized charge state for atom: 28\n",
      "RDKit ERROR: [18:22:59] UFFTYPER: Unrecognized charge state for atom: 28\n",
      "[18:22:59] UFFTYPER: Unrecognized charge state for atom: 28\n",
      "RDKit ERROR: [18:22:59] UFFTYPER: Unrecognized charge state for atom: 28\n",
      "[18:22:59] UFFTYPER: Unrecognized charge state for atom: 28\n",
      "RDKit ERROR: [18:22:59] UFFTYPER: Unrecognized charge state for atom: 28\n",
      "[18:22:59] UFFTYPER: Unrecognized charge state for atom: 28\n",
      "RDKit ERROR: [18:22:59] UFFTYPER: Unrecognized charge state for atom: 28\n",
      "[18:22:59] UFFTYPER: Unrecognized charge state for atom: 28\n",
      "RDKit ERROR: [18:22:59] UFFTYPER: Unrecognized charge state for atom: 28\n",
      "[18:22:59] UFFTYPER: Unrecognized charge state for atom: 28\n",
      "RDKit ERROR: [18:22:59] UFFTYPER: Unrecognized charge state for atom: 28\n",
      "[18:22:59] UFFTYPER: Unrecognized charge state for atom: 28\n",
      "RDKit ERROR: [18:22:59] UFFTYPER: Unrecognized charge state for atom: 28\n",
      "[18:22:59] UFFTYPER: Unrecognized charge state for atom: 28\n",
      "RDKit ERROR: [18:22:59] UFFTYPER: Unrecognized charge state for atom: 28\n",
      "[18:22:59] UFFTYPER: Unrecognized charge state for atom: 28\n",
      "RDKit ERROR: [18:22:59] UFFTYPER: Unrecognized charge state for atom: 28\n",
      "[18:22:59] UFFTYPER: Unrecognized charge state for atom: 28\n",
      "RDKit ERROR: [18:22:59] UFFTYPER: Unrecognized charge state for atom: 28\n",
      "[18:22:59] UFFTYPER: Unrecognized charge state for atom: 28\n",
      "RDKit ERROR: [18:22:59] UFFTYPER: Unrecognized charge state for atom: 28\n",
      "[18:22:59] UFFTYPER: Unrecognized charge state for atom: 28\n",
      "RDKit ERROR: [18:22:59] UFFTYPER: Unrecognized charge state for atom: 28\n",
      "[18:22:59] UFFTYPER: Unrecognized charge state for atom: 28\n",
      "RDKit ERROR: [18:22:59] UFFTYPER: Unrecognized charge state for atom: 28\n",
      "[18:22:59] UFFTYPER: Unrecognized charge state for atom: 28\n",
      "RDKit ERROR: [18:22:59] UFFTYPER: Unrecognized charge state for atom: 28\n",
      "[18:22:59] UFFTYPER: Unrecognized charge state for atom: 28\n",
      "RDKit ERROR: [18:22:59] UFFTYPER: Unrecognized charge state for atom: 28\n",
      "[18:22:59] UFFTYPER: Unrecognized charge state for atom: 28\n",
      "RDKit ERROR: [18:22:59] UFFTYPER: Unrecognized charge state for atom: 28\n",
      "[18:22:59] UFFTYPER: Unrecognized charge state for atom: 28\n",
      "RDKit ERROR: [18:22:59] UFFTYPER: Unrecognized charge state for atom: 28\n",
      "[18:22:59] UFFTYPER: Unrecognized charge state for atom: 28\n",
      "RDKit ERROR: [18:22:59] UFFTYPER: Unrecognized charge state for atom: 28\n",
      "[18:22:59] UFFTYPER: Unrecognized charge state for atom: 28\n",
      "RDKit ERROR: [18:22:59] UFFTYPER: Unrecognized charge state for atom: 28\n",
      "[18:22:59] UFFTYPER: Unrecognized charge state for atom: 28\n",
      "RDKit ERROR: [18:22:59] UFFTYPER: Unrecognized charge state for atom: 28\n",
      "[18:22:59] UFFTYPER: Unrecognized charge state for atom: 28\n",
      "RDKit ERROR: [18:22:59] UFFTYPER: Unrecognized charge state for atom: 28\n",
      "[18:22:59] UFFTYPER: Unrecognized charge state for atom: 28\n",
      "RDKit ERROR: [18:22:59] UFFTYPER: Unrecognized charge state for atom: 28\n",
      "[18:22:59] UFFTYPER: Unrecognized charge state for atom: 28\n",
      "RDKit ERROR: [18:22:59] UFFTYPER: Unrecognized charge state for atom: 28\n",
      "[18:22:59] UFFTYPER: Unrecognized charge state for atom: 28\n",
      "RDKit ERROR: [18:22:59] UFFTYPER: Unrecognized charge state for atom: 28\n",
      "[18:22:59] UFFTYPER: Unrecognized charge state for atom: 28\n",
      "RDKit ERROR: [18:22:59] UFFTYPER: Unrecognized charge state for atom: 28\n",
      "[18:22:59] UFFTYPER: Unrecognized charge state for atom: 28\n",
      "RDKit ERROR: [18:22:59] UFFTYPER: Unrecognized charge state for atom: 28\n",
      "[18:22:59] UFFTYPER: Unrecognized charge state for atom: 28\n",
      "RDKit ERROR: [18:22:59] UFFTYPER: Unrecognized charge state for atom: 28\n",
      "[18:22:59] UFFTYPER: Unrecognized charge state for atom: 28\n",
      "RDKit ERROR: [18:22:59] UFFTYPER: Unrecognized charge state for atom: 28\n",
      "[18:22:59] UFFTYPER: Unrecognized charge state for atom: 28\n",
      "RDKit ERROR: [18:22:59] UFFTYPER: Unrecognized charge state for atom: 28\n",
      "[18:22:59] UFFTYPER: Unrecognized charge state for atom: 28\n",
      "RDKit ERROR: [18:22:59] UFFTYPER: Unrecognized charge state for atom: 28\n",
      "[18:22:59] UFFTYPER: Unrecognized charge state for atom: 28\n",
      "RDKit ERROR: [18:22:59] UFFTYPER: Unrecognized charge state for atom: 28\n",
      "[18:22:59] UFFTYPER: Unrecognized charge state for atom: 28\n",
      "RDKit ERROR: [18:22:59] UFFTYPER: Unrecognized charge state for atom: 28\n",
      "[18:22:59] UFFTYPER: Unrecognized charge state for atom: 28\n",
      "RDKit ERROR: [18:22:59] UFFTYPER: Unrecognized charge state for atom: 28\n",
      "[18:22:59] UFFTYPER: Unrecognized charge state for atom: 28\n",
      "RDKit ERROR: [18:22:59] UFFTYPER: Unrecognized charge state for atom: 28\n",
      "[18:22:59] UFFTYPER: Unrecognized charge state for atom: 28\n",
      "RDKit ERROR: [18:22:59] UFFTYPER: Unrecognized charge state for atom: 28\n",
      "[18:22:59] UFFTYPER: Unrecognized charge state for atom: 28\n",
      "RDKit ERROR: [18:22:59] UFFTYPER: Unrecognized charge state for atom: 28\n",
      "[18:22:59] UFFTYPER: Unrecognized charge state for atom: 28\n",
      "RDKit ERROR: [18:22:59] UFFTYPER: Unrecognized charge state for atom: 28\n",
      "[18:22:59] UFFTYPER: Unrecognized charge state for atom: 28\n",
      "RDKit ERROR: [18:22:59] UFFTYPER: Unrecognized charge state for atom: 28\n",
      "[18:22:59] UFFTYPER: Unrecognized charge state for atom: 28\n",
      "RDKit ERROR: [18:22:59] UFFTYPER: Unrecognized charge state for atom: 28\n",
      "[18:22:59] UFFTYPER: Unrecognized charge state for atom: 28\n",
      "RDKit ERROR: [18:22:59] UFFTYPER: Unrecognized charge state for atom: 28\n",
      "[18:22:59] UFFTYPER: Unrecognized charge state for atom: 28\n",
      "RDKit ERROR: [18:22:59] UFFTYPER: Unrecognized charge state for atom: 28\n",
      "[18:22:59] UFFTYPER: Unrecognized charge state for atom: 28\n",
      "RDKit ERROR: [18:22:59] UFFTYPER: Unrecognized charge state for atom: 28\n",
      "[18:22:59] UFFTYPER: Unrecognized charge state for atom: 28\n",
      "RDKit ERROR: [18:22:59] UFFTYPER: Unrecognized charge state for atom: 28\n",
      "[18:22:59] UFFTYPER: Unrecognized charge state for atom: 28\n",
      "RDKit ERROR: [18:22:59] UFFTYPER: Unrecognized charge state for atom: 28\n",
      "[18:22:59] UFFTYPER: Unrecognized charge state for atom: 28\n",
      "RDKit ERROR: [18:22:59] UFFTYPER: Unrecognized charge state for atom: 28\n",
      "[18:22:59] UFFTYPER: Unrecognized charge state for atom: 28\n",
      "RDKit ERROR: [18:22:59] UFFTYPER: Unrecognized charge state for atom: 28\n",
      "[18:22:59] UFFTYPER: Unrecognized charge state for atom: 28\n",
      "RDKit ERROR: [18:22:59] UFFTYPER: Unrecognized charge state for atom: 28\n",
      "[18:22:59] UFFTYPER: Unrecognized charge state for atom: 28\n",
      "RDKit ERROR: [18:22:59] UFFTYPER: Unrecognized charge state for atom: 28\n",
      "[18:22:59] UFFTYPER: Unrecognized charge state for atom: 28\n",
      "RDKit ERROR: [18:22:59] UFFTYPER: Unrecognized charge state for atom: 28\n",
      "[18:22:59] UFFTYPER: Unrecognized charge state for atom: 28\n",
      "RDKit ERROR: [18:22:59] UFFTYPER: Unrecognized charge state for atom: 28\n",
      "[18:22:59] UFFTYPER: Unrecognized charge state for atom: 28\n",
      "RDKit ERROR: [18:22:59] UFFTYPER: Unrecognized charge state for atom: 28\n",
      "[18:22:59] UFFTYPER: Unrecognized charge state for atom: 28\n",
      "RDKit ERROR: [18:22:59] UFFTYPER: Unrecognized charge state for atom: 28\n",
      "[18:22:59] UFFTYPER: Unrecognized charge state for atom: 28\n",
      "RDKit ERROR: [18:22:59] UFFTYPER: Unrecognized charge state for atom: 28\n",
      "[18:22:59] UFFTYPER: Unrecognized charge state for atom: 28\n",
      "RDKit ERROR: [18:22:59] UFFTYPER: Unrecognized charge state for atom: 28\n",
      "[18:22:59] UFFTYPER: Unrecognized charge state for atom: 28\n",
      "RDKit ERROR: [18:22:59] UFFTYPER: Unrecognized charge state for atom: 28\n",
      "[18:22:59] UFFTYPER: Unrecognized charge state for atom: 28\n",
      "RDKit ERROR: [18:22:59] UFFTYPER: Unrecognized charge state for atom: 28\n",
      "[18:22:59] UFFTYPER: Unrecognized charge state for atom: 28\n",
      "RDKit ERROR: [18:22:59] UFFTYPER: Unrecognized charge state for atom: 28\n",
      "[18:22:59] UFFTYPER: Unrecognized charge state for atom: 28\n",
      "RDKit ERROR: [18:22:59] UFFTYPER: Unrecognized charge state for atom: 28\n",
      "[18:22:59] UFFTYPER: Unrecognized charge state for atom: 28\n",
      "RDKit ERROR: [18:22:59] UFFTYPER: Unrecognized charge state for atom: 28\n",
      "[18:22:59] UFFTYPER: Unrecognized charge state for atom: 28\n",
      "RDKit ERROR: [18:22:59] UFFTYPER: Unrecognized charge state for atom: 28\n",
      "[18:22:59] UFFTYPER: Unrecognized charge state for atom: 28\n",
      "RDKit ERROR: [18:22:59] UFFTYPER: Unrecognized charge state for atom: 28\n",
      "[18:22:59] UFFTYPER: Unrecognized charge state for atom: 28\n",
      "RDKit ERROR: [18:22:59] UFFTYPER: Unrecognized charge state for atom: 28\n",
      "[18:22:59] UFFTYPER: Unrecognized charge state for atom: 28\n",
      "RDKit ERROR: [18:22:59] UFFTYPER: Unrecognized charge state for atom: 28\n",
      "[18:22:59] UFFTYPER: Unrecognized charge state for atom: 28\n",
      "RDKit ERROR: [18:22:59] UFFTYPER: Unrecognized charge state for atom: 28\n",
      "[18:22:59] UFFTYPER: Unrecognized charge state for atom: 28\n",
      "RDKit ERROR: [18:22:59] UFFTYPER: Unrecognized charge state for atom: 28\n",
      "[18:22:59] UFFTYPER: Unrecognized charge state for atom: 28\n",
      "RDKit ERROR: [18:22:59] UFFTYPER: Unrecognized charge state for atom: 28\n",
      "[18:22:59] UFFTYPER: Unrecognized charge state for atom: 28\n",
      "RDKit ERROR: [18:22:59] UFFTYPER: Unrecognized charge state for atom: 28\n",
      "[18:22:59] UFFTYPER: Unrecognized charge state for atom: 28\n",
      "RDKit ERROR: [18:22:59] UFFTYPER: Unrecognized charge state for atom: 28\n",
      "[18:22:59] UFFTYPER: Unrecognized charge state for atom: 28\n",
      "RDKit ERROR: [18:22:59] UFFTYPER: Unrecognized charge state for atom: 28\n",
      "[18:22:59] UFFTYPER: Unrecognized charge state for atom: 28\n",
      "RDKit ERROR: [18:22:59] UFFTYPER: Unrecognized charge state for atom: 28\n",
      "[18:22:59] UFFTYPER: Unrecognized charge state for atom: 28\n",
      "RDKit ERROR: [18:22:59] UFFTYPER: Unrecognized charge state for atom: 28\n",
      "[18:22:59] UFFTYPER: Unrecognized charge state for atom: 28\n",
      "RDKit ERROR: [18:22:59] UFFTYPER: Unrecognized charge state for atom: 28\n",
      "[18:22:59] UFFTYPER: Unrecognized charge state for atom: 28\n",
      "RDKit ERROR: [18:22:59] UFFTYPER: Unrecognized charge state for atom: 28\n",
      "[18:22:59] UFFTYPER: Unrecognized charge state for atom: 28\n",
      "RDKit ERROR: [18:22:59] UFFTYPER: Unrecognized charge state for atom: 28\n",
      "[18:22:59] UFFTYPER: Unrecognized charge state for atom: 28\n",
      "RDKit ERROR: [18:22:59] UFFTYPER: Unrecognized charge state for atom: 28\n",
      "[18:22:59] UFFTYPER: Unrecognized charge state for atom: 28\n",
      " 82%|███████████████████████████████▊       | 3708/4548 [29:21<05:39,  2.47it/s]RDKit ERROR: [18:22:59] UFFTYPER: Unrecognized charge state for atom: 29\n",
      "[18:22:59] UFFTYPER: Unrecognized charge state for atom: 29\n",
      "RDKit ERROR: [18:22:59] UFFTYPER: Unrecognized charge state for atom: 29\n",
      "[18:22:59] UFFTYPER: Unrecognized charge state for atom: 29\n",
      "RDKit ERROR: [18:22:59] UFFTYPER: Unrecognized charge state for atom: 29\n",
      "[18:22:59] UFFTYPER: Unrecognized charge state for atom: 29\n",
      "RDKit ERROR: [18:22:59] UFFTYPER: Unrecognized charge state for atom: 29\n",
      "[18:22:59] UFFTYPER: Unrecognized charge state for atom: 29\n",
      "RDKit ERROR: [18:22:59] UFFTYPER: Unrecognized charge state for atom: 29\n",
      "[18:22:59] UFFTYPER: Unrecognized charge state for atom: 29\n",
      "RDKit ERROR: [18:22:59] UFFTYPER: Unrecognized charge state for atom: 29\n",
      "[18:22:59] UFFTYPER: Unrecognized charge state for atom: 29\n",
      "RDKit ERROR: [18:22:59] UFFTYPER: Unrecognized charge state for atom: 29\n",
      "[18:22:59] UFFTYPER: Unrecognized charge state for atom: 29\n",
      "RDKit ERROR: [18:22:59] UFFTYPER: Unrecognized charge state for atom: 29\n",
      "[18:22:59] UFFTYPER: Unrecognized charge state for atom: 29\n",
      "RDKit ERROR: [18:22:59] UFFTYPER: Unrecognized charge state for atom: 29\n",
      "[18:22:59] UFFTYPER: Unrecognized charge state for atom: 29\n",
      "RDKit ERROR: [18:22:59] UFFTYPER: Unrecognized charge state for atom: 29\n",
      "[18:22:59] UFFTYPER: Unrecognized charge state for atom: 29\n",
      "RDKit ERROR: [18:22:59] UFFTYPER: Unrecognized charge state for atom: 29\n",
      "[18:22:59] UFFTYPER: Unrecognized charge state for atom: 29\n",
      "RDKit ERROR: [18:22:59] UFFTYPER: Unrecognized charge state for atom: 29\n",
      "[18:22:59] UFFTYPER: Unrecognized charge state for atom: 29\n",
      "RDKit ERROR: [18:22:59] UFFTYPER: Unrecognized charge state for atom: 29\n",
      "[18:22:59] UFFTYPER: Unrecognized charge state for atom: 29\n",
      "RDKit ERROR: [18:22:59] UFFTYPER: Unrecognized charge state for atom: 29\n",
      "[18:22:59] UFFTYPER: Unrecognized charge state for atom: 29\n",
      "RDKit ERROR: [18:22:59] UFFTYPER: Unrecognized charge state for atom: 29\n",
      "[18:22:59] UFFTYPER: Unrecognized charge state for atom: 29\n",
      "RDKit ERROR: [18:22:59] UFFTYPER: Unrecognized charge state for atom: 29\n",
      "[18:22:59] UFFTYPER: Unrecognized charge state for atom: 29\n",
      "RDKit ERROR: [18:22:59] UFFTYPER: Unrecognized charge state for atom: 29\n",
      "[18:22:59] UFFTYPER: Unrecognized charge state for atom: 29\n",
      "RDKit ERROR: [18:22:59] UFFTYPER: Unrecognized charge state for atom: 29\n",
      "[18:22:59] UFFTYPER: Unrecognized charge state for atom: 29\n",
      "RDKit ERROR: [18:22:59] UFFTYPER: Unrecognized charge state for atom: 29\n",
      "[18:22:59] UFFTYPER: Unrecognized charge state for atom: 29\n",
      "RDKit ERROR: [18:22:59] UFFTYPER: Unrecognized charge state for atom: 29\n",
      "[18:22:59] UFFTYPER: Unrecognized charge state for atom: 29\n",
      "RDKit ERROR: [18:22:59] UFFTYPER: Unrecognized charge state for atom: 29\n",
      "[18:22:59] UFFTYPER: Unrecognized charge state for atom: 29\n",
      "RDKit ERROR: [18:22:59] UFFTYPER: Unrecognized charge state for atom: 29\n",
      "[18:22:59] UFFTYPER: Unrecognized charge state for atom: 29\n",
      "RDKit ERROR: [18:22:59] UFFTYPER: Unrecognized charge state for atom: 29\n",
      "[18:22:59] UFFTYPER: Unrecognized charge state for atom: 29\n",
      "RDKit ERROR: [18:22:59] UFFTYPER: Unrecognized charge state for atom: 29\n",
      "[18:22:59] UFFTYPER: Unrecognized charge state for atom: 29\n",
      "RDKit ERROR: [18:22:59] UFFTYPER: Unrecognized charge state for atom: 29\n",
      "[18:22:59] UFFTYPER: Unrecognized charge state for atom: 29\n",
      "RDKit ERROR: [18:22:59] UFFTYPER: Unrecognized charge state for atom: 29\n",
      "[18:22:59] UFFTYPER: Unrecognized charge state for atom: 29\n",
      "RDKit ERROR: [18:22:59] UFFTYPER: Unrecognized charge state for atom: 29\n",
      "[18:22:59] UFFTYPER: Unrecognized charge state for atom: 29\n",
      "RDKit ERROR: [18:22:59] UFFTYPER: Unrecognized charge state for atom: 29\n",
      "[18:22:59] UFFTYPER: Unrecognized charge state for atom: 29\n",
      "RDKit ERROR: [18:22:59] UFFTYPER: Unrecognized charge state for atom: 29\n",
      "[18:22:59] UFFTYPER: Unrecognized charge state for atom: 29\n",
      "RDKit ERROR: [18:22:59] UFFTYPER: Unrecognized charge state for atom: 29\n",
      "[18:22:59] UFFTYPER: Unrecognized charge state for atom: 29\n",
      "RDKit ERROR: [18:22:59] UFFTYPER: Unrecognized charge state for atom: 29\n",
      "[18:22:59] UFFTYPER: Unrecognized charge state for atom: 29\n",
      "RDKit ERROR: [18:22:59] UFFTYPER: Unrecognized charge state for atom: 29\n",
      "[18:22:59] UFFTYPER: Unrecognized charge state for atom: 29\n",
      "RDKit ERROR: [18:22:59] UFFTYPER: Unrecognized charge state for atom: 29\n",
      "[18:22:59] UFFTYPER: Unrecognized charge state for atom: 29\n",
      "RDKit ERROR: [18:22:59] UFFTYPER: Unrecognized charge state for atom: 29\n",
      "[18:22:59] UFFTYPER: Unrecognized charge state for atom: 29\n",
      "RDKit ERROR: [18:22:59] UFFTYPER: Unrecognized charge state for atom: 29\n",
      "[18:22:59] UFFTYPER: Unrecognized charge state for atom: 29\n",
      "RDKit ERROR: [18:22:59] UFFTYPER: Unrecognized charge state for atom: 29\n",
      "[18:22:59] UFFTYPER: Unrecognized charge state for atom: 29\n",
      "RDKit ERROR: [18:22:59] UFFTYPER: Unrecognized charge state for atom: 29\n",
      "[18:22:59] UFFTYPER: Unrecognized charge state for atom: 29\n",
      "RDKit ERROR: [18:22:59] UFFTYPER: Unrecognized charge state for atom: 29\n",
      "[18:22:59] UFFTYPER: Unrecognized charge state for atom: 29\n",
      "RDKit ERROR: [18:22:59] UFFTYPER: Unrecognized charge state for atom: 29\n",
      "[18:22:59] UFFTYPER: Unrecognized charge state for atom: 29\n",
      "RDKit ERROR: [18:22:59] UFFTYPER: Unrecognized charge state for atom: 29\n",
      "[18:22:59] UFFTYPER: Unrecognized charge state for atom: 29\n",
      "RDKit ERROR: [18:22:59] UFFTYPER: Unrecognized charge state for atom: 29\n",
      "[18:22:59] UFFTYPER: Unrecognized charge state for atom: 29\n",
      "RDKit ERROR: [18:22:59] UFFTYPER: Unrecognized charge state for atom: 29\n",
      "[18:22:59] UFFTYPER: Unrecognized charge state for atom: 29\n",
      "RDKit ERROR: [18:22:59] UFFTYPER: Unrecognized charge state for atom: 29\n",
      "[18:22:59] UFFTYPER: Unrecognized charge state for atom: 29\n",
      "RDKit ERROR: [18:22:59] UFFTYPER: Unrecognized charge state for atom: 29\n",
      "[18:22:59] UFFTYPER: Unrecognized charge state for atom: 29\n",
      "RDKit ERROR: [18:22:59] UFFTYPER: Unrecognized charge state for atom: 29\n",
      "[18:22:59] UFFTYPER: Unrecognized charge state for atom: 29\n",
      "RDKit ERROR: [18:22:59] UFFTYPER: Unrecognized charge state for atom: 29\n",
      "[18:22:59] UFFTYPER: Unrecognized charge state for atom: 29\n",
      "RDKit ERROR: [18:22:59] UFFTYPER: Unrecognized charge state for atom: 29\n",
      "[18:22:59] UFFTYPER: Unrecognized charge state for atom: 29\n",
      "RDKit ERROR: [18:22:59] UFFTYPER: Unrecognized charge state for atom: 29\n",
      "[18:22:59] UFFTYPER: Unrecognized charge state for atom: 29\n",
      "RDKit ERROR: [18:22:59] UFFTYPER: Unrecognized charge state for atom: 29\n",
      "[18:22:59] UFFTYPER: Unrecognized charge state for atom: 29\n",
      "RDKit ERROR: [18:22:59] UFFTYPER: Unrecognized charge state for atom: 29\n",
      "[18:22:59] UFFTYPER: Unrecognized charge state for atom: 29\n",
      "RDKit ERROR: [18:22:59] UFFTYPER: Unrecognized charge state for atom: 29\n",
      "[18:22:59] UFFTYPER: Unrecognized charge state for atom: 29\n",
      "RDKit ERROR: [18:22:59] UFFTYPER: Unrecognized charge state for atom: 29\n",
      "[18:22:59] UFFTYPER: Unrecognized charge state for atom: 29\n",
      "RDKit ERROR: [18:22:59] UFFTYPER: Unrecognized charge state for atom: 29\n",
      "[18:22:59] UFFTYPER: Unrecognized charge state for atom: 29\n",
      "RDKit ERROR: [18:22:59] UFFTYPER: Unrecognized charge state for atom: 29\n",
      "[18:22:59] UFFTYPER: Unrecognized charge state for atom: 29\n",
      "RDKit ERROR: [18:22:59] UFFTYPER: Unrecognized charge state for atom: 29\n",
      "[18:22:59] UFFTYPER: Unrecognized charge state for atom: 29\n",
      "RDKit ERROR: [18:22:59] UFFTYPER: Unrecognized charge state for atom: 29\n",
      "[18:22:59] UFFTYPER: Unrecognized charge state for atom: 29\n",
      "RDKit ERROR: [18:22:59] UFFTYPER: Unrecognized charge state for atom: 29\n",
      "[18:22:59] UFFTYPER: Unrecognized charge state for atom: 29\n",
      "RDKit ERROR: [18:22:59] UFFTYPER: Unrecognized charge state for atom: 29\n",
      "[18:22:59] UFFTYPER: Unrecognized charge state for atom: 29\n",
      "RDKit ERROR: [18:22:59] UFFTYPER: Unrecognized charge state for atom: 29\n",
      "[18:22:59] UFFTYPER: Unrecognized charge state for atom: 29\n",
      "RDKit ERROR: [18:22:59] UFFTYPER: Unrecognized charge state for atom: 29\n",
      "[18:22:59] UFFTYPER: Unrecognized charge state for atom: 29\n",
      "RDKit ERROR: [18:22:59] UFFTYPER: Unrecognized charge state for atom: 29\n",
      "RDKit ERROR: [18:22:59] UFFTYPER: Unrecognized charge state for atom: 29\n",
      "RDKit ERROR: [18:22:59] UFFTYPER: Unrecognized charge state for atom: 29\n",
      "[18:22:59] UFFTYPER: Unrecognized charge state for atom: 29\n",
      "[18:22:59] UFFTYPER: Unrecognized charge state for atom: 29\n",
      "[18:22:59] UFFTYPER: Unrecognized charge state for atom: 29\n",
      "RDKit ERROR: [18:22:59] UFFTYPER: Unrecognized charge state for atom: 29\n",
      "RDKit ERROR: [18:22:59] UFFTYPER: Unrecognized charge state for atom: 29\n",
      "[18:22:59] UFFTYPER: Unrecognized charge state for atom: 29\n",
      "[18:22:59] UFFTYPER: Unrecognized charge state for atom: 29\n",
      "RDKit ERROR: [18:22:59] UFFTYPER: Unrecognized charge state for atom: 29\n",
      "RDKit ERROR: [18:22:59] UFFTYPER: Unrecognized charge state for atom: 29\n",
      "[18:22:59] UFFTYPER: Unrecognized charge state for atom: 29\n",
      "[18:22:59] UFFTYPER: Unrecognized charge state for atom: 29\n",
      "RDKit ERROR: [18:22:59] UFFTYPER: Unrecognized charge state for atom: 29\n",
      "RDKit ERROR: [18:22:59] UFFTYPER: Unrecognized charge state for atom: 29\n",
      "[18:22:59] UFFTYPER: Unrecognized charge state for atom: 29\n",
      "[18:22:59] UFFTYPER: Unrecognized charge state for atom: 29\n",
      "RDKit ERROR: [18:22:59] UFFTYPER: Unrecognized charge state for atom: 29\n",
      "[18:22:59] UFFTYPER: Unrecognized charge state for atom: 29\n",
      "RDKit ERROR: [18:22:59] UFFTYPER: Unrecognized charge state for atom: 29\n",
      "RDKit ERROR: [18:22:59] UFFTYPER: Unrecognized charge state for atom: 29\n",
      "RDKit ERROR: [18:22:59] UFFTYPER: Unrecognized charge state for atom: 29\n",
      "RDKit ERROR: [18:22:59] UFFTYPER: Unrecognized charge state for atom: 29\n",
      "[18:22:59] UFFTYPER: Unrecognized charge state for atom: 29\n",
      "[18:22:59] UFFTYPER: Unrecognized charge state for atom: 29\n",
      "[18:22:59] UFFTYPER: Unrecognized charge state for atom: 29\n",
      "RDKit ERROR: [18:22:59] UFFTYPER: Unrecognized charge state for atom: 29\n",
      "[18:22:59] UFFTYPER: Unrecognized charge state for atom: 29\n",
      "[18:22:59] UFFTYPER: Unrecognized charge state for atom: 29\n",
      "RDKit ERROR: [18:22:59] UFFTYPER: Unrecognized charge state for atom: 29\n",
      "RDKit ERROR: [18:22:59] UFFTYPER: Unrecognized charge state for atom: 29\n",
      "[18:22:59] UFFTYPER: Unrecognized charge state for atom: 29\n",
      "[18:22:59] UFFTYPER: Unrecognized charge state for atom: 29\n",
      "RDKit ERROR: [18:22:59] UFFTYPER: Unrecognized charge state for atom: 29\n",
      "[18:22:59] UFFTYPER: Unrecognized charge state for atom: 29\n",
      "RDKit ERROR: [18:22:59] UFFTYPER: Unrecognized charge state for atom: 29\n",
      "RDKit ERROR: [18:22:59] UFFTYPER: Unrecognized charge state for atom: 29\n",
      "[18:22:59] UFFTYPER: Unrecognized charge state for atom: 29\n",
      "[18:22:59] UFFTYPER: Unrecognized charge state for atom: 29\n",
      "RDKit ERROR: [18:22:59] UFFTYPER: Unrecognized charge state for atom: 29\n",
      "[18:22:59] UFFTYPER: Unrecognized charge state for atom: 29\n",
      "RDKit ERROR: [18:22:59] UFFTYPER: Unrecognized charge state for atom: 29\n",
      "[18:22:59] UFFTYPER: Unrecognized charge state for atom: 29\n",
      "RDKit ERROR: [18:22:59] UFFTYPER: Unrecognized charge state for atom: 29\n",
      "[18:22:59] UFFTYPER: Unrecognized charge state for atom: 29\n",
      "RDKit ERROR: [18:22:59] UFFTYPER: Unrecognized charge state for atom: 29\n",
      "[18:22:59] UFFTYPER: Unrecognized charge state for atom: 29\n",
      "RDKit ERROR: [18:22:59] UFFTYPER: Unrecognized charge state for atom: 29\n",
      "[18:22:59] UFFTYPER: Unrecognized charge state for atom: 29\n",
      "RDKit ERROR: [18:22:59] UFFTYPER: Unrecognized charge state for atom: 29\n",
      "[18:22:59] UFFTYPER: Unrecognized charge state for atom: 29\n",
      "RDKit ERROR: [18:22:59] UFFTYPER: Unrecognized charge state for atom: 29\n",
      "[18:22:59] UFFTYPER: Unrecognized charge state for atom: 29\n",
      "RDKit ERROR: [18:22:59] UFFTYPER: Unrecognized charge state for atom: 29\n",
      "[18:22:59] UFFTYPER: Unrecognized charge state for atom: 29\n",
      "RDKit ERROR: [18:22:59] UFFTYPER: Unrecognized charge state for atom: 29\n",
      "[18:22:59] UFFTYPER: Unrecognized charge state for atom: 29\n",
      "RDKit ERROR: [18:22:59] UFFTYPER: Unrecognized charge state for atom: 29\n",
      "[18:22:59] UFFTYPER: Unrecognized charge state for atom: 29\n",
      "RDKit ERROR: [18:22:59] UFFTYPER: Unrecognized charge state for atom: 29\n",
      "RDKit ERROR: [18:22:59] UFFTYPER: Unrecognized charge state for atom: 29\n",
      "[18:22:59] UFFTYPER: Unrecognized charge state for atom: 29\n",
      "[18:22:59] UFFTYPER: Unrecognized charge state for atom: 29\n",
      "RDKit ERROR: [18:22:59] UFFTYPER: Unrecognized charge state for atom: 29\n",
      "[18:22:59] UFFTYPER: Unrecognized charge state for atom: 29\n",
      "RDKit ERROR: [18:22:59] UFFTYPER: Unrecognized charge state for atom: 29\n",
      "[18:22:59] UFFTYPER: Unrecognized charge state for atom: 29\n",
      "RDKit ERROR: [18:22:59] UFFTYPER: Unrecognized charge state for atom: 29\n",
      "[18:22:59] UFFTYPER: Unrecognized charge state for atom: 29\n",
      "RDKit ERROR: [18:22:59] UFFTYPER: Unrecognized charge state for atom: 29\n",
      "[18:22:59] UFFTYPER: Unrecognized charge state for atom: 29\n",
      "RDKit ERROR: [18:22:59] UFFTYPER: Unrecognized charge state for atom: 29\n",
      "[18:22:59] UFFTYPER: Unrecognized charge state for atom: 29\n",
      "RDKit ERROR: [18:22:59] UFFTYPER: Unrecognized charge state for atom: 29\n",
      "[18:22:59] UFFTYPER: Unrecognized charge state for atom: 29\n",
      "RDKit ERROR: [18:22:59] UFFTYPER: Unrecognized charge state for atom: 29\n",
      "[18:22:59] UFFTYPER: Unrecognized charge state for atom: 29\n",
      "RDKit ERROR: [18:22:59] UFFTYPER: Unrecognized charge state for atom: 29\n",
      "RDKit ERROR: [18:22:59] UFFTYPER: Unrecognized charge state for atom: 29\n",
      "[18:22:59] UFFTYPER: Unrecognized charge state for atom: 29\n",
      "[18:22:59] UFFTYPER: Unrecognized charge state for atom: 29\n",
      " 82%|███████████████████████████████▊       | 3710/4548 [29:22<06:23,  2.19it/s]RDKit ERROR: [18:23:00] UFFTYPER: Unrecognized charge state for atom: 29\n",
      "[18:23:00] UFFTYPER: Unrecognized charge state for atom: 29\n",
      "RDKit ERROR: [18:23:00] UFFTYPER: Unrecognized charge state for atom: 29\n",
      "[18:23:00] UFFTYPER: Unrecognized charge state for atom: 29\n",
      "RDKit ERROR: [18:23:00] UFFTYPER: Unrecognized charge state for atom: 29\n",
      "[18:23:00] UFFTYPER: Unrecognized charge state for atom: 29\n",
      "RDKit ERROR: [18:23:00] UFFTYPER: Unrecognized charge state for atom: 29\n",
      "[18:23:00] UFFTYPER: Unrecognized charge state for atom: 29\n",
      "RDKit ERROR: [18:23:00] UFFTYPER: Unrecognized charge state for atom: 29\n",
      "[18:23:00] UFFTYPER: Unrecognized charge state for atom: 29\n",
      "RDKit ERROR: [18:23:00] UFFTYPER: Unrecognized charge state for atom: 29\n",
      "[18:23:00] UFFTYPER: Unrecognized charge state for atom: 29\n",
      "RDKit ERROR: [18:23:00] UFFTYPER: Unrecognized charge state for atom: 29\n",
      "[18:23:00] UFFTYPER: Unrecognized charge state for atom: 29\n",
      "RDKit ERROR: [18:23:00] UFFTYPER: Unrecognized charge state for atom: 29\n",
      "[18:23:00] UFFTYPER: Unrecognized charge state for atom: 29\n",
      "RDKit ERROR: [18:23:00] UFFTYPER: Unrecognized charge state for atom: 29\n",
      "[18:23:00] UFFTYPER: Unrecognized charge state for atom: 29\n",
      "RDKit ERROR: [18:23:00] UFFTYPER: Unrecognized charge state for atom: 29\n",
      "[18:23:00] UFFTYPER: Unrecognized charge state for atom: 29\n",
      "RDKit ERROR: [18:23:00] UFFTYPER: Unrecognized charge state for atom: 29\n",
      "[18:23:00] UFFTYPER: Unrecognized charge state for atom: 29\n",
      "RDKit ERROR: [18:23:00] UFFTYPER: Unrecognized charge state for atom: 29\n",
      "[18:23:00] UFFTYPER: Unrecognized charge state for atom: 29\n",
      "RDKit ERROR: [18:23:00] UFFTYPER: Unrecognized charge state for atom: 29\n",
      "[18:23:00] UFFTYPER: Unrecognized charge state for atom: 29\n",
      "RDKit ERROR: [18:23:00] UFFTYPER: Unrecognized charge state for atom: 29\n",
      "[18:23:00] UFFTYPER: Unrecognized charge state for atom: 29\n",
      "RDKit ERROR: [18:23:00] UFFTYPER: Unrecognized charge state for atom: 29\n",
      "[18:23:00] UFFTYPER: Unrecognized charge state for atom: 29\n",
      "RDKit ERROR: [18:23:00] UFFTYPER: Unrecognized charge state for atom: 29\n",
      "[18:23:00] UFFTYPER: Unrecognized charge state for atom: 29\n",
      "RDKit ERROR: [18:23:00] UFFTYPER: Unrecognized charge state for atom: 29\n",
      "[18:23:00] UFFTYPER: Unrecognized charge state for atom: 29\n",
      "RDKit ERROR: [18:23:00] UFFTYPER: Unrecognized charge state for atom: 29\n",
      "[18:23:00] UFFTYPER: Unrecognized charge state for atom: 29\n",
      "RDKit ERROR: [18:23:00] UFFTYPER: Unrecognized charge state for atom: 29\n",
      "[18:23:00] UFFTYPER: Unrecognized charge state for atom: 29\n",
      "RDKit ERROR: [18:23:00] UFFTYPER: Unrecognized charge state for atom: 29\n",
      "[18:23:00] UFFTYPER: Unrecognized charge state for atom: 29\n",
      "RDKit ERROR: [18:23:00] UFFTYPER: Unrecognized charge state for atom: 29\n",
      "RDKit ERROR: [18:23:00] UFFTYPER: Unrecognized charge state for atom: 29\n",
      "[18:23:00] UFFTYPER: Unrecognized charge state for atom: 29\n",
      "[18:23:00] UFFTYPER: Unrecognized charge state for atom: 29\n",
      "RDKit ERROR: [18:23:00] UFFTYPER: Unrecognized charge state for atom: 29\n",
      "RDKit ERROR: [18:23:00] UFFTYPER: Unrecognized charge state for atom: 29\n",
      "RDKit ERROR: [18:23:00] UFFTYPER: Unrecognized charge state for atom: 29\n",
      "[18:23:00] UFFTYPER: Unrecognized charge state for atom: 29\n",
      "[18:23:00] UFFTYPER: Unrecognized charge state for atom: 29\n",
      "[18:23:00] UFFTYPER: Unrecognized charge state for atom: 29\n",
      "RDKit ERROR: [18:23:00] UFFTYPER: Unrecognized charge state for atom: 29\n",
      "[18:23:00] UFFTYPER: Unrecognized charge state for atom: 29\n",
      "RDKit ERROR: [18:23:00] UFFTYPER: Unrecognized charge state for atom: 29\n",
      "[18:23:00] UFFTYPER: Unrecognized charge state for atom: 29\n",
      "RDKit ERROR: [18:23:00] UFFTYPER: Unrecognized charge state for atom: 29\n",
      "[18:23:00] UFFTYPER: Unrecognized charge state for atom: 29\n",
      "RDKit ERROR: [18:23:00] UFFTYPER: Unrecognized charge state for atom: 29\n",
      "[18:23:00] UFFTYPER: Unrecognized charge state for atom: 29\n",
      "RDKit ERROR: [18:23:00] UFFTYPER: Unrecognized charge state for atom: 29\n",
      "RDKit ERROR: [18:23:00] UFFTYPER: Unrecognized charge state for atom: 29\n",
      "[18:23:00] UFFTYPER: Unrecognized charge state for atom: 29\n",
      "[18:23:00] UFFTYPER: Unrecognized charge state for atom: 29\n",
      "RDKit ERROR: [18:23:00] UFFTYPER: Unrecognized charge state for atom: 29\n",
      "RDKit ERROR: [18:23:00] UFFTYPER: Unrecognized charge state for atom: 29\n",
      "[18:23:00] UFFTYPER: Unrecognized charge state for atom: 29\n",
      "[18:23:00] UFFTYPER: Unrecognized charge state for atom: 29\n",
      "RDKit ERROR: [18:23:00] UFFTYPER: Unrecognized charge state for atom: 29\n",
      "RDKit ERROR: [18:23:00] UFFTYPER: Unrecognized charge state for atom: 29\n",
      "[18:23:00] UFFTYPER: Unrecognized charge state for atom: 29\n",
      "[18:23:00] UFFTYPER: Unrecognized charge state for atom: 29\n",
      "RDKit ERROR: [18:23:00] UFFTYPER: Unrecognized charge state for atom: 29\n",
      "RDKit ERROR: [18:23:00] UFFTYPER: Unrecognized charge state for atom: 29\n",
      "[18:23:00] UFFTYPER: Unrecognized charge state for atom: 29\n",
      "[18:23:00] UFFTYPER: Unrecognized charge state for atom: 29\n",
      "RDKit ERROR: [18:23:00] UFFTYPER: Unrecognized charge state for atom: 29\n",
      "RDKit ERROR: [18:23:00] UFFTYPER: Unrecognized charge state for atom: 29\n",
      "[18:23:00] UFFTYPER: Unrecognized charge state for atom: 29\n",
      "[18:23:00] UFFTYPER: Unrecognized charge state for atom: 29\n",
      "RDKit ERROR: [18:23:00] UFFTYPER: Unrecognized charge state for atom: 29\n",
      "RDKit ERROR: [18:23:00] UFFTYPER: Unrecognized charge state for atom: 29\n",
      "[18:23:00] UFFTYPER: Unrecognized charge state for atom: 29\n",
      "[18:23:00] UFFTYPER: Unrecognized charge state for atom: 29\n",
      "RDKit ERROR: [18:23:00] UFFTYPER: Unrecognized charge state for atom: 29\n",
      "[18:23:00] UFFTYPER: Unrecognized charge state for atom: 29\n",
      "RDKit ERROR: [18:23:00] UFFTYPER: Unrecognized charge state for atom: 29\n",
      "RDKit ERROR: [18:23:00] UFFTYPER: Unrecognized charge state for atom: 29\n",
      "RDKit ERROR: [18:23:00] UFFTYPER: Unrecognized charge state for atom: 29\n",
      "RDKit ERROR: [18:23:00] UFFTYPER: Unrecognized charge state for atom: 29\n",
      "RDKit ERROR: [18:23:00] UFFTYPER: Unrecognized charge state for atom: 29\n",
      "[18:23:00] UFFTYPER: Unrecognized charge state for atom: 29\n",
      "[18:23:00] UFFTYPER: Unrecognized charge state for atom: 29\n",
      "[18:23:00] UFFTYPER: Unrecognized charge state for atom: 29\n",
      "RDKit ERROR: [18:23:00] UFFTYPER: Unrecognized charge state for atom: 29\n",
      "RDKit ERROR: [18:23:00] UFFTYPER: Unrecognized charge state for atom: 29\n",
      "[18:23:00] UFFTYPER: Unrecognized charge state for atom: 29\n",
      "[18:23:00] UFFTYPER: Unrecognized charge state for atom: 29\n",
      "[18:23:00] UFFTYPER: Unrecognized charge state for atom: 29\n",
      "RDKit ERROR: [18:23:00] UFFTYPER: Unrecognized charge state for atom: 29\n",
      "[18:23:00] UFFTYPER: Unrecognized charge state for atom: 29\n",
      "[18:23:00] UFFTYPER: Unrecognized charge state for atom: 29\n",
      "RDKit ERROR: [18:23:00] UFFTYPER: Unrecognized charge state for atom: 29\n",
      "RDKit ERROR: [18:23:00] UFFTYPER: Unrecognized charge state for atom: 29\n",
      "RDKit ERROR: [18:23:00] UFFTYPER: Unrecognized charge state for atom: 29\n",
      "[18:23:00] UFFTYPER: Unrecognized charge state for atom: 29\n",
      "[18:23:00] UFFTYPER: Unrecognized charge state for atom: 29\n",
      "[18:23:00] UFFTYPER: Unrecognized charge state for atom: 29\n",
      "RDKit ERROR: [18:23:00] UFFTYPER: Unrecognized charge state for atom: 29\n",
      "RDKit ERROR: [18:23:00] UFFTYPER: Unrecognized charge state for atom: 29\n",
      "[18:23:00] UFFTYPER: Unrecognized charge state for atom: 29\n",
      "[18:23:00] UFFTYPER: Unrecognized charge state for atom: 29\n",
      "RDKit ERROR: [18:23:00] UFFTYPER: Unrecognized charge state for atom: 29\n",
      "RDKit ERROR: [18:23:00] UFFTYPER: Unrecognized charge state for atom: 29\n",
      "[18:23:00] UFFTYPER: Unrecognized charge state for atom: 29\n",
      "[18:23:00] UFFTYPER: Unrecognized charge state for atom: 29\n",
      "RDKit ERROR: [18:23:00] UFFTYPER: Unrecognized charge state for atom: 29\n",
      "RDKit ERROR: [18:23:00] UFFTYPER: Unrecognized charge state for atom: 29\n",
      "[18:23:00] UFFTYPER: Unrecognized charge state for atom: 29\n",
      "[18:23:00] UFFTYPER: Unrecognized charge state for atom: 29\n",
      "RDKit ERROR: [18:23:00] UFFTYPER: Unrecognized charge state for atom: 29\n",
      "RDKit ERROR: [18:23:00] UFFTYPER: Unrecognized charge state for atom: 29\n",
      "[18:23:00] UFFTYPER: Unrecognized charge state for atom: 29\n",
      "[18:23:00] UFFTYPER: Unrecognized charge state for atom: 29\n",
      "RDKit ERROR: [18:23:00] UFFTYPER: Unrecognized charge state for atom: 29\n",
      "RDKit ERROR: [18:23:00] UFFTYPER: Unrecognized charge state for atom: 29\n",
      "[18:23:00] UFFTYPER: Unrecognized charge state for atom: 29\n",
      "[18:23:00] UFFTYPER: Unrecognized charge state for atom: 29\n",
      "RDKit ERROR: [18:23:00] UFFTYPER: Unrecognized charge state for atom: 29\n",
      "RDKit ERROR: [18:23:00] UFFTYPER: Unrecognized charge state for atom: 29\n",
      "RDKit ERROR: [18:23:00] UFFTYPER: Unrecognized charge state for atom: 29\n",
      "[18:23:00] UFFTYPER: Unrecognized charge state for atom: 29\n",
      "[18:23:00] UFFTYPER: Unrecognized charge state for atom: 29\n",
      "[18:23:00] UFFTYPER: Unrecognized charge state for atom: 29\n",
      "RDKit ERROR: [18:23:00] UFFTYPER: Unrecognized charge state for atom: 29\n",
      "RDKit ERROR: [18:23:00] UFFTYPER: Unrecognized charge state for atom: 29\n",
      "[18:23:00] UFFTYPER: Unrecognized charge state for atom: 29\n",
      "[18:23:00] UFFTYPER: Unrecognized charge state for atom: 29\n",
      "RDKit ERROR: [18:23:00] UFFTYPER: Unrecognized charge state for atom: 29\n",
      "RDKit ERROR: [18:23:00] UFFTYPER: Unrecognized charge state for atom: 29\n",
      "RDKit ERROR: [18:23:00] UFFTYPER: Unrecognized charge state for atom: 29\n",
      "RDKit ERROR: [18:23:00] UFFTYPER: Unrecognized charge state for atom: 29\n",
      "RDKit ERROR: [18:23:00] UFFTYPER: Unrecognized charge state for atom: 29\n",
      "RDKit ERROR: [18:23:00] UFFTYPER: Unrecognized charge state for atom: 29\n",
      "RDKit ERROR: [18:23:00] UFFTYPER: Unrecognized charge state for atom: 29\n",
      "RDKit ERROR: [18:23:00] UFFTYPER: Unrecognized charge state for atom: 29\n",
      "RDKit ERROR: [18:23:00] UFFTYPER: Unrecognized charge state for atom: 29\n",
      "RDKit ERROR: [18:23:00] UFFTYPER: Unrecognized charge state for atom: 29\n",
      "RDKit ERROR: [18:23:00] UFFTYPER: Unrecognized charge state for atom: 29\n",
      "[18:23:00] UFFTYPER: Unrecognized charge state for atom: 29\n",
      "[18:23:00] UFFTYPER: Unrecognized charge state for atom: 29\n",
      "[18:23:00] UFFTYPER: Unrecognized charge state for atom: 29\n",
      "RDKit ERROR: [18:23:00] UFFTYPER: Unrecognized charge state for atom: 29\n",
      "[18:23:00] UFFTYPER: Unrecognized charge state for atom: 29\n",
      "[18:23:00] UFFTYPER: Unrecognized charge state for atom: 29\n",
      "[18:23:00] UFFTYPER: Unrecognized charge state for atom: 29\n",
      "[18:23:00] UFFTYPER: Unrecognized charge state for atom: 29\n",
      "[18:23:00] UFFTYPER: Unrecognized charge state for atom: 29\n",
      "[18:23:00] UFFTYPER: Unrecognized charge state for atom: 29\n",
      "[18:23:00] UFFTYPER: Unrecognized charge state for atom: 29\n",
      "[18:23:00] UFFTYPER: Unrecognized charge state for atom: 29\n",
      "[18:23:00] UFFTYPER: Unrecognized charge state for atom: 29\n",
      "RDKit ERROR: [18:23:00] UFFTYPER: Unrecognized charge state for atom: 29\n",
      "[18:23:00] UFFTYPER: Unrecognized charge state for atom: 29\n",
      "RDKit ERROR: [18:23:00] UFFTYPER: Unrecognized charge state for atom: 29\n",
      "[18:23:00] UFFTYPER: Unrecognized charge state for atom: 29\n",
      "RDKit ERROR: [18:23:00] UFFTYPER: Unrecognized charge state for atom: 29\n",
      "[18:23:00] UFFTYPER: Unrecognized charge state for atom: 29\n",
      "RDKit ERROR: [18:23:00] UFFTYPER: Unrecognized charge state for atom: 29\n",
      "[18:23:00] UFFTYPER: Unrecognized charge state for atom: 29\n",
      "RDKit ERROR: [18:23:00] UFFTYPER: Unrecognized charge state for atom: 29\n",
      "[18:23:00] UFFTYPER: Unrecognized charge state for atom: 29\n",
      "RDKit ERROR: [18:23:00] UFFTYPER: Unrecognized charge state for atom: 29\n",
      "[18:23:00] UFFTYPER: Unrecognized charge state for atom: 29\n",
      "RDKit ERROR: [18:23:00] UFFTYPER: Unrecognized charge state for atom: 29\n",
      "[18:23:00] UFFTYPER: Unrecognized charge state for atom: 29\n",
      "RDKit ERROR: [18:23:00] UFFTYPER: Unrecognized charge state for atom: 29\n",
      "[18:23:00] UFFTYPER: Unrecognized charge state for atom: 29\n",
      "RDKit ERROR: [18:23:01] UFFTYPER: Unrecognized charge state for atom: 29\n",
      "[18:23:01] UFFTYPER: Unrecognized charge state for atom: 29\n",
      "RDKit ERROR: [18:23:01] UFFTYPER: Unrecognized charge state for atom: 29\n",
      "[18:23:01] UFFTYPER: Unrecognized charge state for atom: 29\n",
      "RDKit ERROR: [18:23:01] UFFTYPER: Unrecognized charge state for atom: 29\n",
      "[18:23:01] UFFTYPER: Unrecognized charge state for atom: 29\n",
      "RDKit ERROR: [18:23:01] UFFTYPER: Unrecognized charge state for atom: 29\n",
      "[18:23:01] UFFTYPER: Unrecognized charge state for atom: 29\n",
      "RDKit ERROR: [18:23:01] UFFTYPER: Unrecognized charge state for atom: 29\n",
      "[18:23:01] UFFTYPER: Unrecognized charge state for atom: 29\n",
      "RDKit ERROR: [18:23:01] UFFTYPER: Unrecognized charge state for atom: 29\n",
      "[18:23:01] UFFTYPER: Unrecognized charge state for atom: 29\n",
      "RDKit ERROR: [18:23:01] UFFTYPER: Unrecognized charge state for atom: 29\n",
      "[18:23:01] UFFTYPER: Unrecognized charge state for atom: 29\n",
      "RDKit ERROR: [18:23:01] UFFTYPER: Unrecognized charge state for atom: 29\n",
      "[18:23:01] UFFTYPER: Unrecognized charge state for atom: 29\n",
      "RDKit ERROR: [18:23:01] UFFTYPER: Unrecognized charge state for atom: 29\n",
      "[18:23:01] UFFTYPER: Unrecognized charge state for atom: 29\n",
      "RDKit ERROR: [18:23:01] UFFTYPER: Unrecognized charge state for atom: 29\n",
      "[18:23:01] UFFTYPER: Unrecognized charge state for atom: 29\n",
      "RDKit ERROR: [18:23:01] UFFTYPER: Unrecognized charge state for atom: 29\n",
      "[18:23:01] UFFTYPER: Unrecognized charge state for atom: 29\n",
      "RDKit ERROR: [18:23:01] UFFTYPER: Unrecognized charge state for atom: 29\n",
      "RDKit ERROR: [18:23:01] UFFTYPER: Unrecognized charge state for atom: 29\n",
      "[18:23:01] UFFTYPER: Unrecognized charge state for atom: 29\n",
      "[18:23:01] UFFTYPER: Unrecognized charge state for atom: 29\n",
      " 83%|████████████████████████████████▌      | 3791/4548 [29:53<06:15,  2.02it/s]RDKit ERROR: [18:23:31] UFFTYPER: Unrecognized charge state for atom: 3\n",
      "[18:23:31] UFFTYPER: Unrecognized charge state for atom: 3\n",
      "RDKit ERROR: [18:23:31] UFFTYPER: Unrecognized charge state for atom: 3\n",
      "RDKit ERROR: [18:23:31] UFFTYPER: Unrecognized charge state for atom: 3\n",
      "RDKit ERROR: [18:23:31] UFFTYPER: Unrecognized charge state for atom: 3\n",
      "[18:23:31] UFFTYPER: Unrecognized charge state for atom: 3\n",
      "[18:23:31] UFFTYPER: Unrecognized charge state for atom: 3\n",
      "[18:23:31] UFFTYPER: Unrecognized charge state for atom: 3\n",
      "RDKit ERROR: [18:23:31] UFFTYPER: Unrecognized charge state for atom: 3\n",
      "RDKit ERROR: [18:23:31] UFFTYPER: Unrecognized charge state for atom: 3\n",
      "RDKit ERROR: [18:23:31] UFFTYPER: Unrecognized charge state for atom: 3\n",
      "[18:23:31] UFFTYPER: Unrecognized charge state for atom: 3\n",
      "[18:23:31] UFFTYPER: Unrecognized charge state for atom: 3\n",
      "[18:23:31] UFFTYPER: Unrecognized charge state for atom: 3\n",
      "RDKit ERROR: [18:23:31] UFFTYPER: Unrecognized charge state for atom: 3\n",
      "RDKit ERROR: [18:23:31] UFFTYPER: Unrecognized charge state for atom: 3\n",
      "[18:23:31] UFFTYPER: Unrecognized charge state for atom: 3\n",
      "[18:23:31] UFFTYPER: Unrecognized charge state for atom: 3\n",
      "RDKit ERROR: [18:23:31] UFFTYPER: Unrecognized charge state for atom: 3\n",
      "[18:23:31] UFFTYPER: Unrecognized charge state for atom: 3\n",
      "RDKit ERROR: [18:23:31] UFFTYPER: Unrecognized charge state for atom: 3\n",
      "[18:23:31] UFFTYPER: Unrecognized charge state for atom: 3\n",
      "RDKit ERROR: [18:23:31] UFFTYPER: Unrecognized charge state for atom: 3\n",
      "[18:23:31] UFFTYPER: Unrecognized charge state for atom: 3\n",
      "RDKit ERROR: [18:23:31] UFFTYPER: Unrecognized charge state for atom: 3\n",
      "[18:23:31] UFFTYPER: Unrecognized charge state for atom: 3\n",
      "RDKit ERROR: [18:23:31] UFFTYPER: Unrecognized charge state for atom: 3\n",
      "RDKit ERROR: [18:23:31] UFFTYPER: Unrecognized charge state for atom: 3\n",
      "RDKit ERROR: [18:23:31] UFFTYPER: Unrecognized charge state for atom: 3\n",
      "[18:23:31] UFFTYPER: Unrecognized charge state for atom: 3\n",
      "[18:23:31] UFFTYPER: Unrecognized charge state for atom: 3\n",
      "[18:23:31] UFFTYPER: Unrecognized charge state for atom: 3\n",
      "RDKit ERROR: [18:23:31] UFFTYPER: Unrecognized charge state for atom: 3\n",
      "[18:23:31] UFFTYPER: Unrecognized charge state for atom: 3\n",
      "RDKit ERROR: [18:23:31] UFFTYPER: Unrecognized charge state for atom: 3\n",
      "[18:23:31] UFFTYPER: Unrecognized charge state for atom: 3\n",
      "RDKit ERROR: [18:23:31] UFFTYPER: Unrecognized charge state for atom: 3\n",
      "[18:23:31] UFFTYPER: Unrecognized charge state for atom: 3\n",
      "RDKit ERROR: [18:23:31] UFFTYPER: Unrecognized charge state for atom: 3\n",
      "RDKit ERROR: [18:23:31] UFFTYPER: Unrecognized charge state for atom: 3\n",
      "[18:23:31] UFFTYPER: Unrecognized charge state for atom: 3\n",
      "[18:23:31] UFFTYPER: Unrecognized charge state for atom: 3\n",
      "RDKit ERROR: [18:23:31] UFFTYPER: Unrecognized charge state for atom: 3\n",
      "RDKit ERROR: [18:23:31] UFFTYPER: Unrecognized charge state for atom: 3\n",
      "[18:23:31] UFFTYPER: Unrecognized charge state for atom: 3\n",
      "[18:23:31] UFFTYPER: Unrecognized charge state for atom: 3\n",
      "RDKit ERROR: [18:23:31] UFFTYPER: Unrecognized charge state for atom: 3\n",
      "RDKit ERROR: [18:23:31] UFFTYPER: Unrecognized charge state for atom: 3\n",
      "[18:23:31] UFFTYPER: Unrecognized charge state for atom: 3\n",
      "[18:23:31] UFFTYPER: Unrecognized charge state for atom: 3\n",
      "RDKit ERROR: [18:23:31] UFFTYPER: Unrecognized charge state for atom: 3\n",
      "RDKit ERROR: [18:23:31] UFFTYPER: Unrecognized charge state for atom: 3\n",
      "[18:23:31] UFFTYPER: Unrecognized charge state for atom: 3\n",
      "[18:23:31] UFFTYPER: Unrecognized charge state for atom: 3\n",
      "RDKit ERROR: [18:23:31] UFFTYPER: Unrecognized charge state for atom: 3\n",
      "RDKit ERROR: [18:23:31] UFFTYPER: Unrecognized charge state for atom: 3\n",
      "RDKit ERROR: [18:23:31] UFFTYPER: Unrecognized charge state for atom: 3\n",
      "[18:23:31] UFFTYPER: Unrecognized charge state for atom: 3\n",
      "[18:23:31] UFFTYPER: Unrecognized charge state for atom: 3\n",
      "[18:23:31] UFFTYPER: Unrecognized charge state for atom: 3\n",
      "RDKit ERROR: [18:23:31] UFFTYPER: Unrecognized charge state for atom: 3\n",
      "[18:23:31] UFFTYPER: Unrecognized charge state for atom: 3\n",
      "RDKit ERROR: [18:23:31] UFFTYPER: Unrecognized charge state for atom: 3\n",
      "RDKit ERROR: [18:23:31] UFFTYPER: Unrecognized charge state for atom: 3\n",
      "[18:23:31] UFFTYPER: Unrecognized charge state for atom: 3\n",
      "[18:23:31] UFFTYPER: Unrecognized charge state for atom: 3\n",
      " 86%|█████████████████████████████████▌     | 3916/4548 [30:42<02:29,  4.24it/s]RDKit ERROR: [18:24:20] UFFTYPER: Unrecognized charge state for atom: 9\n",
      "[18:24:20] UFFTYPER: Unrecognized charge state for atom: 9\n",
      "RDKit ERROR: [18:24:20] UFFTYPER: Unrecognized charge state for atom: 9\n",
      "[18:24:20] UFFTYPER: Unrecognized charge state for atom: 9\n",
      "RDKit ERROR: [18:24:20] UFFTYPER: Unrecognized charge state for atom: 9\n",
      "[18:24:20] UFFTYPER: Unrecognized charge state for atom: 9\n",
      "RDKit ERROR: [18:24:20] UFFTYPER: Unrecognized charge state for atom: 9\n",
      "[18:24:20] UFFTYPER: Unrecognized charge state for atom: 9\n",
      "RDKit ERROR: [18:24:20] UFFTYPER: Unrecognized charge state for atom: 9\n",
      "[18:24:20] UFFTYPER: Unrecognized charge state for atom: 9\n",
      "RDKit ERROR: [18:24:20] UFFTYPER: Unrecognized charge state for atom: 9\n",
      "[18:24:20] UFFTYPER: Unrecognized charge state for atom: 9\n",
      "RDKit ERROR: [18:24:20] UFFTYPER: Unrecognized charge state for atom: 9\n",
      "[18:24:20] UFFTYPER: Unrecognized charge state for atom: 9\n",
      "RDKit ERROR: [18:24:20] UFFTYPER: Unrecognized charge state for atom: 9\n",
      "[18:24:20] UFFTYPER: Unrecognized charge state for atom: 9\n",
      "RDKit ERROR: [18:24:20] UFFTYPER: Unrecognized charge state for atom: 9\n",
      "[18:24:20] UFFTYPER: Unrecognized charge state for atom: 9\n",
      "RDKit ERROR: [18:24:20] UFFTYPER: Unrecognized charge state for atom: 9\n",
      "[18:24:20] UFFTYPER: Unrecognized charge state for atom: 9\n",
      "RDKit ERROR: [18:24:20] UFFTYPER: Unrecognized charge state for atom: 9\n",
      "[18:24:20] UFFTYPER: Unrecognized charge state for atom: 9\n",
      "RDKit ERROR: [18:24:20] UFFTYPER: Unrecognized charge state for atom: 9\n",
      "[18:24:20] UFFTYPER: Unrecognized charge state for atom: 9\n",
      "RDKit ERROR: [18:24:20] UFFTYPER: Unrecognized charge state for atom: 9\n",
      "[18:24:20] UFFTYPER: Unrecognized charge state for atom: 9\n",
      "RDKit ERROR: [18:24:20] UFFTYPER: Unrecognized charge state for atom: 9\n",
      "[18:24:20] UFFTYPER: Unrecognized charge state for atom: 9\n",
      "RDKit ERROR: [18:24:20] UFFTYPER: Unrecognized charge state for atom: 9\n",
      "[18:24:20] UFFTYPER: Unrecognized charge state for atom: 9\n",
      "RDKit ERROR: [18:24:20] UFFTYPER: Unrecognized charge state for atom: 9\n",
      "[18:24:20] UFFTYPER: Unrecognized charge state for atom: 9\n",
      "RDKit ERROR: [18:24:20] UFFTYPER: Unrecognized charge state for atom: 9\n",
      "[18:24:20] UFFTYPER: Unrecognized charge state for atom: 9\n",
      "RDKit ERROR: [18:24:20] UFFTYPER: Unrecognized charge state for atom: 9\n",
      "[18:24:20] UFFTYPER: Unrecognized charge state for atom: 9\n",
      "RDKit ERROR: [18:24:20] UFFTYPER: Unrecognized charge state for atom: 9\n",
      "[18:24:20] UFFTYPER: Unrecognized charge state for atom: 9\n",
      "RDKit ERROR: [18:24:20] UFFTYPER: Unrecognized charge state for atom: 9\n",
      "[18:24:20] UFFTYPER: Unrecognized charge state for atom: 9\n",
      "RDKit ERROR: [18:24:20] UFFTYPER: Unrecognized charge state for atom: 9\n",
      "[18:24:20] UFFTYPER: Unrecognized charge state for atom: 9\n",
      "RDKit ERROR: [18:24:20] UFFTYPER: Unrecognized charge state for atom: 9\n",
      "[18:24:20] UFFTYPER: Unrecognized charge state for atom: 9\n",
      "RDKit ERROR: [18:24:20] UFFTYPER: Unrecognized charge state for atom: 9\n",
      "[18:24:20] UFFTYPER: Unrecognized charge state for atom: 9\n",
      "RDKit ERROR: [18:24:20] UFFTYPER: Unrecognized charge state for atom: 9\n",
      "[18:24:20] UFFTYPER: Unrecognized charge state for atom: 9\n",
      "RDKit ERROR: [18:24:20] UFFTYPER: Unrecognized charge state for atom: 9\n",
      "[18:24:20] UFFTYPER: Unrecognized charge state for atom: 9\n",
      "RDKit ERROR: [18:24:20] UFFTYPER: Unrecognized charge state for atom: 9\n",
      "[18:24:20] UFFTYPER: Unrecognized charge state for atom: 9\n",
      "RDKit ERROR: [18:24:20] UFFTYPER: Unrecognized charge state for atom: 9\n",
      "[18:24:20] UFFTYPER: Unrecognized charge state for atom: 9\n",
      "RDKit ERROR: [18:24:20] UFFTYPER: Unrecognized charge state for atom: 9\n",
      "[18:24:20] UFFTYPER: Unrecognized charge state for atom: 9\n",
      "RDKit ERROR: [18:24:20] UFFTYPER: Unrecognized charge state for atom: 9\n",
      "[18:24:20] UFFTYPER: Unrecognized charge state for atom: 9\n",
      "RDKit ERROR: [18:24:20] UFFTYPER: Unrecognized charge state for atom: 9\n",
      "[18:24:20] UFFTYPER: Unrecognized charge state for atom: 9\n",
      "RDKit ERROR: [18:24:20] UFFTYPER: Unrecognized charge state for atom: 9\n",
      "[18:24:20] UFFTYPER: Unrecognized charge state for atom: 9\n",
      "RDKit ERROR: [18:24:20] UFFTYPER: Unrecognized charge state for atom: 9\n",
      "[18:24:20] UFFTYPER: Unrecognized charge state for atom: 9\n",
      "RDKit ERROR: [18:24:20] UFFTYPER: Unrecognized charge state for atom: 9\n",
      "[18:24:20] UFFTYPER: Unrecognized charge state for atom: 9\n",
      "RDKit ERROR: [18:24:20] UFFTYPER: Unrecognized charge state for atom: 9\n",
      "[18:24:20] UFFTYPER: Unrecognized charge state for atom: 9\n",
      "RDKit ERROR: [18:24:20] UFFTYPER: Unrecognized charge state for atom: 9\n",
      "[18:24:20] UFFTYPER: Unrecognized charge state for atom: 9\n",
      "RDKit ERROR: [18:24:20] UFFTYPER: Unrecognized charge state for atom: 9\n",
      "[18:24:20] UFFTYPER: Unrecognized charge state for atom: 9\n",
      "RDKit ERROR: [18:24:20] UFFTYPER: Unrecognized charge state for atom: 9\n",
      "[18:24:20] UFFTYPER: Unrecognized charge state for atom: 9\n",
      "RDKit ERROR: [18:24:20] UFFTYPER: Unrecognized charge state for atom: 9\n",
      "[18:24:20] UFFTYPER: Unrecognized charge state for atom: 9\n",
      "RDKit ERROR: [18:24:20] UFFTYPER: Unrecognized charge state for atom: 9\n",
      "[18:24:20] UFFTYPER: Unrecognized charge state for atom: 9\n",
      "RDKit ERROR: [18:24:20] UFFTYPER: Unrecognized charge state for atom: 9\n",
      "[18:24:20] UFFTYPER: Unrecognized charge state for atom: 9\n",
      "RDKit ERROR: [18:24:20] UFFTYPER: Unrecognized charge state for atom: 9\n",
      "[18:24:20] UFFTYPER: Unrecognized charge state for atom: 9\n",
      "RDKit ERROR: [18:24:20] UFFTYPER: Unrecognized charge state for atom: 9\n",
      "[18:24:20] UFFTYPER: Unrecognized charge state for atom: 9\n",
      "RDKit ERROR: [18:24:20] UFFTYPER: Unrecognized charge state for atom: 9\n",
      "[18:24:20] UFFTYPER: Unrecognized charge state for atom: 9\n",
      "RDKit ERROR: [18:24:20] UFFTYPER: Unrecognized charge state for atom: 9\n",
      "[18:24:20] UFFTYPER: Unrecognized charge state for atom: 9\n",
      "RDKit ERROR: [18:24:20] UFFTYPER: Unrecognized charge state for atom: 9\n",
      "[18:24:20] UFFTYPER: Unrecognized charge state for atom: 9\n",
      "RDKit ERROR: [18:24:20] UFFTYPER: Unrecognized charge state for atom: 9\n",
      "[18:24:20] UFFTYPER: Unrecognized charge state for atom: 9\n",
      "RDKit ERROR: [18:24:20] UFFTYPER: Unrecognized charge state for atom: 9\n",
      "[18:24:20] UFFTYPER: Unrecognized charge state for atom: 9\n",
      "RDKit ERROR: [18:24:20] UFFTYPER: Unrecognized charge state for atom: 9\n",
      "[18:24:20] UFFTYPER: Unrecognized charge state for atom: 9\n",
      "RDKit ERROR: [18:24:20] UFFTYPER: Unrecognized charge state for atom: 9\n",
      "[18:24:20] UFFTYPER: Unrecognized charge state for atom: 9\n",
      "RDKit ERROR: [18:24:20] UFFTYPER: Unrecognized charge state for atom: 9\n",
      "[18:24:20] UFFTYPER: Unrecognized charge state for atom: 9\n",
      "RDKit ERROR: [18:24:20] UFFTYPER: Unrecognized charge state for atom: 9\n",
      "[18:24:20] UFFTYPER: Unrecognized charge state for atom: 9\n",
      "RDKit ERROR: [18:24:20] UFFTYPER: Unrecognized charge state for atom: 9\n",
      "[18:24:20] UFFTYPER: Unrecognized charge state for atom: 9\n",
      "RDKit ERROR: [18:24:20] UFFTYPER: Unrecognized charge state for atom: 9\n",
      "[18:24:20] UFFTYPER: Unrecognized charge state for atom: 9\n",
      "RDKit ERROR: [18:24:20] UFFTYPER: Unrecognized charge state for atom: 9\n",
      "[18:24:20] UFFTYPER: Unrecognized charge state for atom: 9\n",
      "RDKit ERROR: [18:24:20] UFFTYPER: Unrecognized charge state for atom: 9\n",
      "[18:24:20] UFFTYPER: Unrecognized charge state for atom: 9\n",
      "RDKit ERROR: [18:24:20] UFFTYPER: Unrecognized charge state for atom: 9\n",
      "[18:24:20] UFFTYPER: Unrecognized charge state for atom: 9\n",
      "RDKit ERROR: [18:24:20] UFFTYPER: Unrecognized charge state for atom: 9\n",
      "[18:24:20] UFFTYPER: Unrecognized charge state for atom: 9\n",
      "RDKit ERROR: [18:24:20] UFFTYPER: Unrecognized charge state for atom: 9\n",
      "[18:24:20] UFFTYPER: Unrecognized charge state for atom: 9\n",
      "RDKit ERROR: [18:24:20] UFFTYPER: Unrecognized charge state for atom: 9\n",
      "[18:24:20] UFFTYPER: Unrecognized charge state for atom: 9\n",
      "RDKit ERROR: [18:24:20] UFFTYPER: Unrecognized charge state for atom: 9\n",
      "[18:24:20] UFFTYPER: Unrecognized charge state for atom: 9\n",
      "RDKit ERROR: [18:24:20] UFFTYPER: Unrecognized charge state for atom: 9\n",
      "[18:24:20] UFFTYPER: Unrecognized charge state for atom: 9\n",
      "RDKit ERROR: [18:24:20] UFFTYPER: Unrecognized charge state for atom: 9\n",
      "[18:24:20] UFFTYPER: Unrecognized charge state for atom: 9\n",
      "RDKit ERROR: [18:24:20] UFFTYPER: Unrecognized charge state for atom: 9\n",
      "[18:24:20] UFFTYPER: Unrecognized charge state for atom: 9\n",
      "RDKit ERROR: [18:24:20] UFFTYPER: Unrecognized charge state for atom: 9\n",
      "[18:24:20] UFFTYPER: Unrecognized charge state for atom: 9\n",
      "RDKit ERROR: [18:24:20] UFFTYPER: Unrecognized charge state for atom: 9\n",
      "[18:24:20] UFFTYPER: Unrecognized charge state for atom: 9\n",
      "RDKit ERROR: [18:24:20] UFFTYPER: Unrecognized charge state for atom: 9\n",
      "[18:24:20] UFFTYPER: Unrecognized charge state for atom: 9\n",
      "RDKit ERROR: [18:24:20] UFFTYPER: Unrecognized charge state for atom: 9\n",
      "[18:24:20] UFFTYPER: Unrecognized charge state for atom: 9\n",
      "RDKit ERROR: [18:24:20] UFFTYPER: Unrecognized charge state for atom: 9\n",
      "[18:24:20] UFFTYPER: Unrecognized charge state for atom: 9\n",
      "RDKit ERROR: [18:24:20] UFFTYPER: Unrecognized charge state for atom: 9\n",
      "[18:24:20] UFFTYPER: Unrecognized charge state for atom: 9\n",
      "RDKit ERROR: [18:24:20] UFFTYPER: Unrecognized charge state for atom: 9\n",
      "[18:24:20] UFFTYPER: Unrecognized charge state for atom: 9\n",
      "RDKit ERROR: [18:24:20] UFFTYPER: Unrecognized charge state for atom: 9\n",
      "[18:24:20] UFFTYPER: Unrecognized charge state for atom: 9\n",
      "RDKit ERROR: [18:24:20] UFFTYPER: Unrecognized charge state for atom: 9\n",
      "[18:24:20] UFFTYPER: Unrecognized charge state for atom: 9\n",
      "RDKit ERROR: [18:24:20] UFFTYPER: Unrecognized charge state for atom: 9\n",
      "RDKit ERROR: [18:24:20] UFFTYPER: Unrecognized charge state for atom: 9\n",
      "[18:24:20] UFFTYPER: Unrecognized charge state for atom: 9\n",
      "[18:24:20] UFFTYPER: Unrecognized charge state for atom: 9\n",
      "RDKit ERROR: [18:24:20] UFFTYPER: Unrecognized charge state for atom: 9\n",
      "[18:24:20] UFFTYPER: Unrecognized charge state for atom: 9\n",
      "RDKit ERROR: [18:24:20] UFFTYPER: Unrecognized charge state for atom: 9\n",
      "[18:24:20] UFFTYPER: Unrecognized charge state for atom: 9\n",
      "RDKit ERROR: [18:24:20] UFFTYPER: Unrecognized charge state for atom: 9\n",
      "[18:24:20] UFFTYPER: Unrecognized charge state for atom: 9\n",
      "RDKit ERROR: [18:24:20] UFFTYPER: Unrecognized charge state for atom: 9\n",
      "[18:24:20] UFFTYPER: Unrecognized charge state for atom: 9\n",
      "RDKit ERROR: [18:24:20] UFFTYPER: Unrecognized charge state for atom: 9\n",
      "[18:24:20] UFFTYPER: Unrecognized charge state for atom: 9\n",
      "RDKit ERROR: [18:24:20] UFFTYPER: Unrecognized charge state for atom: 9\n",
      "[18:24:20] UFFTYPER: Unrecognized charge state for atom: 9\n",
      "RDKit ERROR: [18:24:20] UFFTYPER: Unrecognized charge state for atom: 9\n",
      "[18:24:20] UFFTYPER: Unrecognized charge state for atom: 9\n",
      "RDKit ERROR: [18:24:20] UFFTYPER: Unrecognized charge state for atom: 9\n",
      "[18:24:20] UFFTYPER: Unrecognized charge state for atom: 9\n",
      "RDKit ERROR: [18:24:20] UFFTYPER: Unrecognized charge state for atom: 9\n",
      "[18:24:20] UFFTYPER: Unrecognized charge state for atom: 9\n",
      "RDKit ERROR: [18:24:20] UFFTYPER: Unrecognized charge state for atom: 9\n",
      "[18:24:20] UFFTYPER: Unrecognized charge state for atom: 9\n",
      "RDKit ERROR: [18:24:20] UFFTYPER: Unrecognized charge state for atom: 9\n",
      "[18:24:20] UFFTYPER: Unrecognized charge state for atom: 9\n",
      "RDKit ERROR: [18:24:20] UFFTYPER: Unrecognized charge state for atom: 9\n",
      "[18:24:20] UFFTYPER: Unrecognized charge state for atom: 9\n",
      "RDKit ERROR: [18:24:20] UFFTYPER: Unrecognized charge state for atom: 9\n",
      "[18:24:20] UFFTYPER: Unrecognized charge state for atom: 9\n",
      "RDKit ERROR: [18:24:20] UFFTYPER: Unrecognized charge state for atom: 9\n",
      "[18:24:20] UFFTYPER: Unrecognized charge state for atom: 9\n",
      "RDKit ERROR: [18:24:20] UFFTYPER: Unrecognized charge state for atom: 9\n",
      "[18:24:20] UFFTYPER: Unrecognized charge state for atom: 9\n",
      "RDKit ERROR: [18:24:20] UFFTYPER: Unrecognized charge state for atom: 9\n",
      "[18:24:20] UFFTYPER: Unrecognized charge state for atom: 9\n",
      "RDKit ERROR: [18:24:20] UFFTYPER: Unrecognized charge state for atom: 9\n",
      "[18:24:20] UFFTYPER: Unrecognized charge state for atom: 9\n",
      "RDKit ERROR: [18:24:20] UFFTYPER: Unrecognized charge state for atom: 9\n",
      "[18:24:20] UFFTYPER: Unrecognized charge state for atom: 9\n",
      "RDKit ERROR: [18:24:20] UFFTYPER: Unrecognized charge state for atom: 9\n",
      "[18:24:20] UFFTYPER: Unrecognized charge state for atom: 9\n",
      "RDKit ERROR: [18:24:20] UFFTYPER: Unrecognized charge state for atom: 9\n",
      "[18:24:20] UFFTYPER: Unrecognized charge state for atom: 9\n",
      "RDKit ERROR: [18:24:20] UFFTYPER: Unrecognized charge state for atom: 9\n",
      "[18:24:20] UFFTYPER: Unrecognized charge state for atom: 9\n",
      "RDKit ERROR: [18:24:20] UFFTYPER: Unrecognized charge state for atom: 9\n",
      "[18:24:20] UFFTYPER: Unrecognized charge state for atom: 9\n",
      "RDKit ERROR: [18:24:20] UFFTYPER: Unrecognized charge state for atom: 9\n",
      "[18:24:20] UFFTYPER: Unrecognized charge state for atom: 9\n",
      "RDKit ERROR: [18:24:20] UFFTYPER: Unrecognized charge state for atom: 9\n",
      "[18:24:20] UFFTYPER: Unrecognized charge state for atom: 9\n",
      "RDKit ERROR: [18:24:20] UFFTYPER: Unrecognized charge state for atom: 9\n",
      "[18:24:20] UFFTYPER: Unrecognized charge state for atom: 9\n",
      "RDKit ERROR: [18:24:20] UFFTYPER: Unrecognized charge state for atom: 9\n",
      "[18:24:20] UFFTYPER: Unrecognized charge state for atom: 9\n",
      "RDKit ERROR: [18:24:20] UFFTYPER: Unrecognized charge state for atom: 9\n",
      "[18:24:20] UFFTYPER: Unrecognized charge state for atom: 9\n",
      " 95%|█████████████████████████████████████  | 4329/4548 [32:40<01:09,  3.14it/s]RDKit ERROR: [18:26:18] UFFTYPER: Unrecognized charge state for atom: 9\n",
      "[18:26:18] UFFTYPER: Unrecognized charge state for atom: 9\n",
      "RDKit ERROR: [18:26:18] UFFTYPER: Unrecognized charge state for atom: 9\n",
      "[18:26:18] UFFTYPER: Unrecognized charge state for atom: 9\n",
      "RDKit ERROR: [18:26:18] UFFTYPER: Unrecognized charge state for atom: 9\n",
      "[18:26:18] UFFTYPER: Unrecognized charge state for atom: 9\n",
      "RDKit ERROR: [18:26:18] UFFTYPER: Unrecognized charge state for atom: 9\n",
      "[18:26:18] UFFTYPER: Unrecognized charge state for atom: 9\n",
      "RDKit ERROR: [18:26:18] UFFTYPER: Unrecognized charge state for atom: 9\n",
      "[18:26:18] UFFTYPER: Unrecognized charge state for atom: 9\n",
      "RDKit ERROR: [18:26:18] UFFTYPER: Unrecognized charge state for atom: 9\n",
      "[18:26:18] UFFTYPER: Unrecognized charge state for atom: 9\n",
      "RDKit ERROR: [18:26:18] UFFTYPER: Unrecognized charge state for atom: 9\n",
      "[18:26:18] UFFTYPER: Unrecognized charge state for atom: 9\n",
      "RDKit ERROR: [18:26:18] UFFTYPER: Unrecognized charge state for atom: 9\n",
      "[18:26:18] UFFTYPER: Unrecognized charge state for atom: 9\n",
      "RDKit ERROR: [18:26:18] UFFTYPER: Unrecognized charge state for atom: 9\n",
      "[18:26:18] UFFTYPER: Unrecognized charge state for atom: 9\n",
      "RDKit ERROR: [18:26:18] UFFTYPER: Unrecognized charge state for atom: 9\n",
      "[18:26:18] UFFTYPER: Unrecognized charge state for atom: 9\n",
      "RDKit ERROR: [18:26:18] UFFTYPER: Unrecognized charge state for atom: 9\n",
      "[18:26:18] UFFTYPER: Unrecognized charge state for atom: 9\n",
      "RDKit ERROR: [18:26:18] UFFTYPER: Unrecognized charge state for atom: 9\n",
      "[18:26:18] UFFTYPER: Unrecognized charge state for atom: 9\n",
      "RDKit ERROR: [18:26:18] UFFTYPER: Unrecognized charge state for atom: 9\n",
      "[18:26:18] UFFTYPER: Unrecognized charge state for atom: 9\n",
      "RDKit ERROR: [18:26:18] UFFTYPER: Unrecognized charge state for atom: 9\n",
      "[18:26:18] UFFTYPER: Unrecognized charge state for atom: 9\n",
      "RDKit ERROR: [18:26:18] UFFTYPER: Unrecognized charge state for atom: 9\n",
      "[18:26:18] UFFTYPER: Unrecognized charge state for atom: 9\n",
      "RDKit ERROR: [18:26:18] UFFTYPER: Unrecognized charge state for atom: 9\n",
      "[18:26:18] UFFTYPER: Unrecognized charge state for atom: 9\n",
      "RDKit ERROR: [18:26:18] UFFTYPER: Unrecognized charge state for atom: 9\n",
      "[18:26:18] UFFTYPER: Unrecognized charge state for atom: 9\n",
      "RDKit ERROR: [18:26:18] UFFTYPER: Unrecognized charge state for atom: 9\n",
      "[18:26:18] UFFTYPER: Unrecognized charge state for atom: 9\n",
      "RDKit ERROR: [18:26:18] UFFTYPER: Unrecognized charge state for atom: 9\n",
      "[18:26:18] UFFTYPER: Unrecognized charge state for atom: 9\n",
      "RDKit ERROR: [18:26:18] UFFTYPER: Unrecognized charge state for atom: 9\n",
      "[18:26:18] UFFTYPER: Unrecognized charge state for atom: 9\n",
      "RDKit ERROR: [18:26:18] UFFTYPER: Unrecognized charge state for atom: 9\n",
      "[18:26:18] UFFTYPER: Unrecognized charge state for atom: 9\n",
      "RDKit ERROR: [18:26:18] UFFTYPER: Unrecognized charge state for atom: 9\n",
      "[18:26:18] UFFTYPER: Unrecognized charge state for atom: 9\n",
      "RDKit ERROR: [18:26:18] UFFTYPER: Unrecognized charge state for atom: 9\n",
      "[18:26:18] UFFTYPER: Unrecognized charge state for atom: 9\n",
      "RDKit ERROR: [18:26:18] UFFTYPER: Unrecognized charge state for atom: 9\n",
      "[18:26:18] UFFTYPER: Unrecognized charge state for atom: 9\n",
      "RDKit ERROR: [18:26:18] UFFTYPER: Unrecognized charge state for atom: 9\n",
      "[18:26:18] UFFTYPER: Unrecognized charge state for atom: 9\n",
      "RDKit ERROR: [18:26:18] UFFTYPER: Unrecognized charge state for atom: 9\n",
      "[18:26:18] UFFTYPER: Unrecognized charge state for atom: 9\n",
      "RDKit ERROR: [18:26:18] UFFTYPER: Unrecognized charge state for atom: 9\n",
      "[18:26:18] UFFTYPER: Unrecognized charge state for atom: 9\n",
      "RDKit ERROR: [18:26:18] UFFTYPER: Unrecognized charge state for atom: 9\n",
      "[18:26:18] UFFTYPER: Unrecognized charge state for atom: 9\n",
      "RDKit ERROR: [18:26:18] UFFTYPER: Unrecognized charge state for atom: 9\n",
      "[18:26:18] UFFTYPER: Unrecognized charge state for atom: 9\n",
      "RDKit ERROR: [18:26:18] UFFTYPER: Unrecognized charge state for atom: 9\n",
      "[18:26:18] UFFTYPER: Unrecognized charge state for atom: 9\n",
      "RDKit ERROR: [18:26:18] UFFTYPER: Unrecognized charge state for atom: 9\n",
      "[18:26:18] UFFTYPER: Unrecognized charge state for atom: 9\n",
      "RDKit ERROR: [18:26:18] UFFTYPER: Unrecognized charge state for atom: 9\n",
      "[18:26:18] UFFTYPER: Unrecognized charge state for atom: 9\n",
      "RDKit ERROR: [18:26:18] UFFTYPER: Unrecognized charge state for atom: 9\n",
      "[18:26:18] UFFTYPER: Unrecognized charge state for atom: 9\n",
      "RDKit ERROR: [18:26:18] UFFTYPER: Unrecognized charge state for atom: 9\n",
      "[18:26:18] UFFTYPER: Unrecognized charge state for atom: 9\n",
      "RDKit ERROR: [18:26:18] UFFTYPER: Unrecognized charge state for atom: 9\n",
      "[18:26:18] UFFTYPER: Unrecognized charge state for atom: 9\n",
      "RDKit ERROR: [18:26:18] UFFTYPER: Unrecognized charge state for atom: 9\n",
      "[18:26:18] UFFTYPER: Unrecognized charge state for atom: 9\n",
      "RDKit ERROR: [18:26:18] UFFTYPER: Unrecognized charge state for atom: 9\n",
      "[18:26:18] UFFTYPER: Unrecognized charge state for atom: 9\n",
      "RDKit ERROR: [18:26:18] UFFTYPER: Unrecognized charge state for atom: 9\n",
      "[18:26:18] UFFTYPER: Unrecognized charge state for atom: 9\n",
      "RDKit ERROR: [18:26:18] UFFTYPER: Unrecognized charge state for atom: 9\n",
      "[18:26:18] UFFTYPER: Unrecognized charge state for atom: 9\n",
      "RDKit ERROR: [18:26:18] UFFTYPER: Unrecognized charge state for atom: 9\n",
      "[18:26:18] UFFTYPER: Unrecognized charge state for atom: 9\n",
      "RDKit ERROR: [18:26:18] UFFTYPER: Unrecognized charge state for atom: 9\n",
      "[18:26:18] UFFTYPER: Unrecognized charge state for atom: 9\n",
      "RDKit ERROR: [18:26:18] UFFTYPER: Unrecognized charge state for atom: 9\n",
      "[18:26:18] UFFTYPER: Unrecognized charge state for atom: 9\n",
      "RDKit ERROR: [18:26:18] UFFTYPER: Unrecognized charge state for atom: 9\n",
      "[18:26:18] UFFTYPER: Unrecognized charge state for atom: 9\n",
      "RDKit ERROR: [18:26:18] UFFTYPER: Unrecognized charge state for atom: 9\n",
      "[18:26:18] UFFTYPER: Unrecognized charge state for atom: 9\n",
      "RDKit ERROR: [18:26:18] UFFTYPER: Unrecognized charge state for atom: 9\n",
      "[18:26:18] UFFTYPER: Unrecognized charge state for atom: 9\n",
      "RDKit ERROR: [18:26:18] UFFTYPER: Unrecognized charge state for atom: 9\n",
      "[18:26:18] UFFTYPER: Unrecognized charge state for atom: 9\n",
      "RDKit ERROR: [18:26:18] UFFTYPER: Unrecognized charge state for atom: 9\n",
      "[18:26:18] UFFTYPER: Unrecognized charge state for atom: 9\n",
      "RDKit ERROR: [18:26:18] UFFTYPER: Unrecognized charge state for atom: 9\n",
      "[18:26:18] UFFTYPER: Unrecognized charge state for atom: 9\n",
      "RDKit ERROR: [18:26:18] UFFTYPER: Unrecognized charge state for atom: 9\n",
      "[18:26:18] UFFTYPER: Unrecognized charge state for atom: 9\n",
      "RDKit ERROR: [18:26:18] UFFTYPER: Unrecognized charge state for atom: 9\n",
      "[18:26:18] UFFTYPER: Unrecognized charge state for atom: 9\n",
      "RDKit ERROR: [18:26:18] UFFTYPER: Unrecognized charge state for atom: 9\n",
      "[18:26:18] UFFTYPER: Unrecognized charge state for atom: 9\n",
      "RDKit ERROR: [18:26:18] UFFTYPER: Unrecognized charge state for atom: 9\n",
      "[18:26:18] UFFTYPER: Unrecognized charge state for atom: 9\n",
      "RDKit ERROR: [18:26:18] UFFTYPER: Unrecognized charge state for atom: 9\n",
      "[18:26:18] UFFTYPER: Unrecognized charge state for atom: 9\n",
      "RDKit ERROR: [18:26:18] UFFTYPER: Unrecognized charge state for atom: 9\n",
      "[18:26:18] UFFTYPER: Unrecognized charge state for atom: 9\n",
      "RDKit ERROR: [18:26:18] UFFTYPER: Unrecognized charge state for atom: 9\n",
      "[18:26:18] UFFTYPER: Unrecognized charge state for atom: 9\n",
      "RDKit ERROR: [18:26:18] UFFTYPER: Unrecognized charge state for atom: 9\n",
      "[18:26:18] UFFTYPER: Unrecognized charge state for atom: 9\n",
      "RDKit ERROR: [18:26:18] UFFTYPER: Unrecognized charge state for atom: 9\n",
      "[18:26:18] UFFTYPER: Unrecognized charge state for atom: 9\n",
      "RDKit ERROR: [18:26:18] UFFTYPER: Unrecognized charge state for atom: 9\n",
      "[18:26:18] UFFTYPER: Unrecognized charge state for atom: 9\n",
      "RDKit ERROR: [18:26:18] UFFTYPER: Unrecognized charge state for atom: 9\n",
      "[18:26:18] UFFTYPER: Unrecognized charge state for atom: 9\n",
      "RDKit ERROR: [18:26:18] UFFTYPER: Unrecognized charge state for atom: 9\n",
      "[18:26:18] UFFTYPER: Unrecognized charge state for atom: 9\n",
      "RDKit ERROR: [18:26:18] UFFTYPER: Unrecognized charge state for atom: 9\n",
      "[18:26:18] UFFTYPER: Unrecognized charge state for atom: 9\n",
      "RDKit ERROR: [18:26:18] UFFTYPER: Unrecognized charge state for atom: 9\n",
      "[18:26:18] UFFTYPER: Unrecognized charge state for atom: 9\n",
      "RDKit ERROR: [18:26:18] UFFTYPER: Unrecognized charge state for atom: 9\n",
      "[18:26:18] UFFTYPER: Unrecognized charge state for atom: 9\n",
      "RDKit ERROR: [18:26:18] UFFTYPER: Unrecognized charge state for atom: 9\n",
      "[18:26:18] UFFTYPER: Unrecognized charge state for atom: 9\n",
      "RDKit ERROR: [18:26:18] UFFTYPER: Unrecognized charge state for atom: 9\n",
      "[18:26:18] UFFTYPER: Unrecognized charge state for atom: 9\n",
      "RDKit ERROR: [18:26:18] UFFTYPER: Unrecognized charge state for atom: 9\n",
      "[18:26:18] UFFTYPER: Unrecognized charge state for atom: 9\n",
      "RDKit ERROR: [18:26:18] UFFTYPER: Unrecognized charge state for atom: 9\n",
      "[18:26:18] UFFTYPER: Unrecognized charge state for atom: 9\n",
      "RDKit ERROR: [18:26:18] UFFTYPER: Unrecognized charge state for atom: 9\n",
      "[18:26:18] UFFTYPER: Unrecognized charge state for atom: 9\n",
      "RDKit ERROR: [18:26:18] UFFTYPER: Unrecognized charge state for atom: 9\n",
      "[18:26:18] UFFTYPER: Unrecognized charge state for atom: 9\n",
      "RDKit ERROR: [18:26:18] UFFTYPER: Unrecognized charge state for atom: 9\n",
      "[18:26:18] UFFTYPER: Unrecognized charge state for atom: 9\n",
      "RDKit ERROR: [18:26:18] UFFTYPER: Unrecognized charge state for atom: 9\n",
      "[18:26:18] UFFTYPER: Unrecognized charge state for atom: 9\n",
      "RDKit ERROR: [18:26:18] UFFTYPER: Unrecognized charge state for atom: 9\n",
      "[18:26:18] UFFTYPER: Unrecognized charge state for atom: 9\n",
      "RDKit ERROR: [18:26:18] UFFTYPER: Unrecognized charge state for atom: 9\n",
      "[18:26:18] UFFTYPER: Unrecognized charge state for atom: 9\n",
      "RDKit ERROR: [18:26:18] UFFTYPER: Unrecognized charge state for atom: 9\n",
      "RDKit ERROR: [18:26:18] UFFTYPER: Unrecognized charge state for atom: 9\n",
      "[18:26:18] UFFTYPER: Unrecognized charge state for atom: 9\n",
      "[18:26:18] UFFTYPER: Unrecognized charge state for atom: 9\n",
      "RDKit ERROR: [18:26:18] UFFTYPER: Unrecognized charge state for atom: 9\n",
      "[18:26:18] UFFTYPER: Unrecognized charge state for atom: 9\n",
      "RDKit ERROR: [18:26:18] UFFTYPER: Unrecognized charge state for atom: 9\n",
      "[18:26:18] UFFTYPER: Unrecognized charge state for atom: 9\n",
      "RDKit ERROR: [18:26:18] UFFTYPER: Unrecognized charge state for atom: 9\n",
      "[18:26:18] UFFTYPER: Unrecognized charge state for atom: 9\n",
      "RDKit ERROR: [18:26:18] UFFTYPER: Unrecognized charge state for atom: 9\n",
      "[18:26:18] UFFTYPER: Unrecognized charge state for atom: 9\n",
      "RDKit ERROR: [18:26:18] UFFTYPER: Unrecognized charge state for atom: 9\n",
      "[18:26:18] UFFTYPER: Unrecognized charge state for atom: 9\n",
      "RDKit ERROR: [18:26:18] UFFTYPER: Unrecognized charge state for atom: 9\n",
      "[18:26:18] UFFTYPER: Unrecognized charge state for atom: 9\n",
      "RDKit ERROR: [18:26:18] UFFTYPER: Unrecognized charge state for atom: 9\n",
      "[18:26:18] UFFTYPER: Unrecognized charge state for atom: 9\n",
      "RDKit ERROR: [18:26:18] UFFTYPER: Unrecognized charge state for atom: 9\n",
      "[18:26:18] UFFTYPER: Unrecognized charge state for atom: 9\n",
      "RDKit ERROR: [18:26:18] UFFTYPER: Unrecognized charge state for atom: 9\n",
      "[18:26:18] UFFTYPER: Unrecognized charge state for atom: 9\n",
      "RDKit ERROR: [18:26:18] UFFTYPER: Unrecognized charge state for atom: 9\n",
      "[18:26:18] UFFTYPER: Unrecognized charge state for atom: 9\n",
      "RDKit ERROR: [18:26:18] UFFTYPER: Unrecognized charge state for atom: 9\n",
      "[18:26:18] UFFTYPER: Unrecognized charge state for atom: 9\n",
      "RDKit ERROR: [18:26:18] UFFTYPER: Unrecognized charge state for atom: 9\n",
      "[18:26:18] UFFTYPER: Unrecognized charge state for atom: 9\n",
      "RDKit ERROR: [18:26:18] UFFTYPER: Unrecognized charge state for atom: 9\n",
      "[18:26:18] UFFTYPER: Unrecognized charge state for atom: 9\n",
      "RDKit ERROR: [18:26:18] UFFTYPER: Unrecognized charge state for atom: 9\n",
      "[18:26:18] UFFTYPER: Unrecognized charge state for atom: 9\n",
      "RDKit ERROR: [18:26:18] UFFTYPER: Unrecognized charge state for atom: 9\n",
      "[18:26:18] UFFTYPER: Unrecognized charge state for atom: 9\n",
      "RDKit ERROR: [18:26:18] UFFTYPER: Unrecognized charge state for atom: 9\n",
      "[18:26:18] UFFTYPER: Unrecognized charge state for atom: 9\n",
      "RDKit ERROR: [18:26:18] UFFTYPER: Unrecognized charge state for atom: 9\n",
      "[18:26:18] UFFTYPER: Unrecognized charge state for atom: 9\n",
      "RDKit ERROR: [18:26:18] UFFTYPER: Unrecognized charge state for atom: 9\n",
      "[18:26:18] UFFTYPER: Unrecognized charge state for atom: 9\n",
      "RDKit ERROR: [18:26:18] UFFTYPER: Unrecognized charge state for atom: 9\n",
      "[18:26:18] UFFTYPER: Unrecognized charge state for atom: 9\n",
      "RDKit ERROR: [18:26:18] UFFTYPER: Unrecognized charge state for atom: 9\n",
      "[18:26:18] UFFTYPER: Unrecognized charge state for atom: 9\n",
      "RDKit ERROR: [18:26:18] UFFTYPER: Unrecognized charge state for atom: 9\n",
      "[18:26:18] UFFTYPER: Unrecognized charge state for atom: 9\n",
      "RDKit ERROR: [18:26:18] UFFTYPER: Unrecognized charge state for atom: 9\n",
      "[18:26:18] UFFTYPER: Unrecognized charge state for atom: 9\n",
      "RDKit ERROR: [18:26:18] UFFTYPER: Unrecognized charge state for atom: 9\n",
      "[18:26:18] UFFTYPER: Unrecognized charge state for atom: 9\n",
      "RDKit ERROR: [18:26:18] UFFTYPER: Unrecognized charge state for atom: 9\n",
      "[18:26:18] UFFTYPER: Unrecognized charge state for atom: 9\n",
      "RDKit ERROR: [18:26:18] UFFTYPER: Unrecognized charge state for atom: 9\n",
      "[18:26:18] UFFTYPER: Unrecognized charge state for atom: 9\n",
      "RDKit ERROR: [18:26:18] UFFTYPER: Unrecognized charge state for atom: 9\n",
      "[18:26:18] UFFTYPER: Unrecognized charge state for atom: 9\n",
      " 96%|█████████████████████████████████████▍ | 4362/4548 [32:50<00:49,  3.74it/s]RDKit ERROR: [18:26:28] UFFTYPER: Unrecognized charge state for atom: 7\n",
      "RDKit ERROR: [18:26:28] UFFTYPER: Unrecognized charge state for atom: 7\n",
      "RDKit ERROR: [18:26:28] UFFTYPER: Unrecognized charge state for atom: 7\n",
      "RDKit ERROR: [18:26:28] UFFTYPER: Unrecognized charge state for atom: 7\n",
      "RDKit ERROR: [18:26:28] UFFTYPER: Unrecognized charge state for atom: 7\n",
      "[18:26:28] UFFTYPER: Unrecognized charge state for atom: 7\n",
      "RDKit ERROR: [18:26:28] UFFTYPER: Unrecognized charge state for atom: 7\n",
      "[18:26:28] UFFTYPER: Unrecognized charge state for atom: 7\n",
      "[18:26:28] UFFTYPER: Unrecognized charge state for atom: 7\n",
      "[18:26:28] UFFTYPER: Unrecognized charge state for atom: 7\n",
      "[18:26:28] UFFTYPER: Unrecognized charge state for atom: 7\n",
      "[18:26:28] UFFTYPER: Unrecognized charge state for atom: 7\n",
      "RDKit ERROR: [18:26:28] UFFTYPER: Unrecognized charge state for atom: 7\n",
      "[18:26:28] UFFTYPER: Unrecognized charge state for atom: 7\n",
      "RDKit ERROR: [18:26:28] UFFTYPER: Unrecognized charge state for atom: 7\n",
      "[18:26:28] UFFTYPER: Unrecognized charge state for atom: 7\n",
      "RDKit ERROR: [18:26:28] UFFTYPER: Unrecognized charge state for atom: 7\n",
      "[18:26:28] UFFTYPER: Unrecognized charge state for atom: 7\n",
      "RDKit ERROR: [18:26:28] UFFTYPER: Unrecognized charge state for atom: 7\n",
      "[18:26:28] UFFTYPER: Unrecognized charge state for atom: 7\n",
      "RDKit ERROR: [18:26:28] UFFTYPER: Unrecognized charge state for atom: 7\n",
      "[18:26:28] UFFTYPER: Unrecognized charge state for atom: 7\n",
      "RDKit ERROR: [18:26:28] UFFTYPER: Unrecognized charge state for atom: 7\n",
      "[18:26:28] UFFTYPER: Unrecognized charge state for atom: 7\n",
      "RDKit ERROR: [18:26:28] UFFTYPER: Unrecognized charge state for atom: 7\n",
      "[18:26:28] UFFTYPER: Unrecognized charge state for atom: 7\n",
      "RDKit ERROR: [18:26:28] UFFTYPER: Unrecognized charge state for atom: 7\n",
      "[18:26:28] UFFTYPER: Unrecognized charge state for atom: 7\n",
      "RDKit ERROR: [18:26:28] UFFTYPER: Unrecognized charge state for atom: 7\n",
      "[18:26:28] UFFTYPER: Unrecognized charge state for atom: 7\n",
      "RDKit ERROR: [18:26:28] UFFTYPER: Unrecognized charge state for atom: 7\n",
      "[18:26:28] UFFTYPER: Unrecognized charge state for atom: 7\n",
      "RDKit ERROR: [18:26:28] UFFTYPER: Unrecognized charge state for atom: 7\n",
      "[18:26:28] UFFTYPER: Unrecognized charge state for atom: 7\n",
      "RDKit ERROR: [18:26:28] UFFTYPER: Unrecognized charge state for atom: 7\n",
      "[18:26:28] UFFTYPER: Unrecognized charge state for atom: 7\n",
      "RDKit ERROR: [18:26:28] UFFTYPER: Unrecognized charge state for atom: 7\n",
      "[18:26:28] UFFTYPER: Unrecognized charge state for atom: 7\n",
      "RDKit ERROR: [18:26:28] UFFTYPER: Unrecognized charge state for atom: 7\n",
      "[18:26:28] UFFTYPER: Unrecognized charge state for atom: 7\n",
      "RDKit ERROR: [18:26:28] UFFTYPER: Unrecognized charge state for atom: 7\n",
      "[18:26:28] UFFTYPER: Unrecognized charge state for atom: 7\n",
      "RDKit ERROR: [18:26:28] UFFTYPER: Unrecognized charge state for atom: 7\n",
      "[18:26:28] UFFTYPER: Unrecognized charge state for atom: 7\n",
      "RDKit ERROR: [18:26:28] UFFTYPER: Unrecognized charge state for atom: 7\n",
      "[18:26:28] UFFTYPER: Unrecognized charge state for atom: 7\n",
      "RDKit ERROR: [18:26:28] UFFTYPER: Unrecognized charge state for atom: 7\n",
      "[18:26:28] UFFTYPER: Unrecognized charge state for atom: 7\n",
      "RDKit ERROR: [18:26:28] UFFTYPER: Unrecognized charge state for atom: 7\n",
      "[18:26:28] UFFTYPER: Unrecognized charge state for atom: 7\n",
      "RDKit ERROR: [18:26:28] UFFTYPER: Unrecognized charge state for atom: 7\n",
      "[18:26:28] UFFTYPER: Unrecognized charge state for atom: 7\n",
      "RDKit ERROR: [18:26:28] UFFTYPER: Unrecognized charge state for atom: 7\n",
      "[18:26:28] UFFTYPER: Unrecognized charge state for atom: 7\n",
      "RDKit ERROR: [18:26:28] UFFTYPER: Unrecognized charge state for atom: 7\n",
      "[18:26:28] UFFTYPER: Unrecognized charge state for atom: 7\n",
      "RDKit ERROR: [18:26:28] UFFTYPER: Unrecognized charge state for atom: 7\n",
      "[18:26:28] UFFTYPER: Unrecognized charge state for atom: 7\n",
      "RDKit ERROR: [18:26:28] UFFTYPER: Unrecognized charge state for atom: 7\n",
      "[18:26:28] UFFTYPER: Unrecognized charge state for atom: 7\n",
      "RDKit ERROR: [18:26:28] UFFTYPER: Unrecognized charge state for atom: 7\n",
      "[18:26:28] UFFTYPER: Unrecognized charge state for atom: 7\n",
      "RDKit ERROR: [18:26:28] UFFTYPER: Unrecognized charge state for atom: 7\n",
      "[18:26:28] UFFTYPER: Unrecognized charge state for atom: 7\n",
      "RDKit ERROR: [18:26:28] UFFTYPER: Unrecognized charge state for atom: 7\n",
      "[18:26:28] UFFTYPER: Unrecognized charge state for atom: 7\n",
      "RDKit ERROR: [18:26:28] UFFTYPER: Unrecognized charge state for atom: 7\n",
      "[18:26:28] UFFTYPER: Unrecognized charge state for atom: 7\n",
      "RDKit ERROR: [18:26:28] UFFTYPER: Unrecognized charge state for atom: 7\n",
      "[18:26:28] UFFTYPER: Unrecognized charge state for atom: 7\n",
      "RDKit ERROR: [18:26:28] UFFTYPER: Unrecognized charge state for atom: 7\n",
      "[18:26:28] UFFTYPER: Unrecognized charge state for atom: 7\n",
      "RDKit ERROR: [18:26:28] UFFTYPER: Unrecognized charge state for atom: 7\n",
      "[18:26:28] UFFTYPER: Unrecognized charge state for atom: 7\n",
      "RDKit ERROR: [18:26:28] UFFTYPER: Unrecognized charge state for atom: 7\n",
      "[18:26:28] UFFTYPER: Unrecognized charge state for atom: 7\n",
      "RDKit ERROR: [18:26:28] UFFTYPER: Unrecognized charge state for atom: 7\n",
      "[18:26:28] UFFTYPER: Unrecognized charge state for atom: 7\n",
      "RDKit ERROR: [18:26:28] UFFTYPER: Unrecognized charge state for atom: 7\n",
      "[18:26:28] UFFTYPER: Unrecognized charge state for atom: 7\n",
      "RDKit ERROR: [18:26:28] UFFTYPER: Unrecognized charge state for atom: 7\n",
      "[18:26:28] UFFTYPER: Unrecognized charge state for atom: 7\n",
      "RDKit ERROR: [18:26:28] UFFTYPER: Unrecognized charge state for atom: 7\n",
      "[18:26:28] UFFTYPER: Unrecognized charge state for atom: 7\n",
      "RDKit ERROR: [18:26:28] UFFTYPER: Unrecognized charge state for atom: 7\n",
      "[18:26:28] UFFTYPER: Unrecognized charge state for atom: 7\n",
      "RDKit ERROR: [18:26:28] UFFTYPER: Unrecognized charge state for atom: 7\n",
      "[18:26:28] UFFTYPER: Unrecognized charge state for atom: 7\n",
      "RDKit ERROR: [18:26:28] UFFTYPER: Unrecognized charge state for atom: 7\n",
      "[18:26:28] UFFTYPER: Unrecognized charge state for atom: 7\n",
      "RDKit ERROR: [18:26:28] UFFTYPER: Unrecognized charge state for atom: 7\n",
      "[18:26:28] UFFTYPER: Unrecognized charge state for atom: 7\n",
      "RDKit ERROR: [18:26:28] UFFTYPER: Unrecognized charge state for atom: 7\n",
      "[18:26:28] UFFTYPER: Unrecognized charge state for atom: 7\n",
      "RDKit ERROR: [18:26:28] UFFTYPER: Unrecognized charge state for atom: 7\n",
      "[18:26:28] UFFTYPER: Unrecognized charge state for atom: 7\n",
      "RDKit ERROR: [18:26:28] UFFTYPER: Unrecognized charge state for atom: 7\n",
      "[18:26:28] UFFTYPER: Unrecognized charge state for atom: 7\n",
      "RDKit ERROR: [18:26:28] UFFTYPER: Unrecognized charge state for atom: 7\n",
      "[18:26:28] UFFTYPER: Unrecognized charge state for atom: 7\n",
      "RDKit ERROR: [18:26:28] UFFTYPER: Unrecognized charge state for atom: 7\n",
      "[18:26:28] UFFTYPER: Unrecognized charge state for atom: 7\n",
      "RDKit ERROR: [18:26:28] UFFTYPER: Unrecognized charge state for atom: 7\n",
      "[18:26:28] UFFTYPER: Unrecognized charge state for atom: 7\n",
      "RDKit ERROR: [18:26:28] UFFTYPER: Unrecognized charge state for atom: 7\n",
      "[18:26:28] UFFTYPER: Unrecognized charge state for atom: 7\n",
      "RDKit ERROR: [18:26:28] UFFTYPER: Unrecognized charge state for atom: 7\n",
      "[18:26:28] UFFTYPER: Unrecognized charge state for atom: 7\n",
      "RDKit ERROR: [18:26:28] UFFTYPER: Unrecognized charge state for atom: 7\n",
      "[18:26:28] UFFTYPER: Unrecognized charge state for atom: 7\n",
      "RDKit ERROR: [18:26:28] UFFTYPER: Unrecognized charge state for atom: 7\n",
      "[18:26:28] UFFTYPER: Unrecognized charge state for atom: 7\n",
      "RDKit ERROR: [18:26:28] UFFTYPER: Unrecognized charge state for atom: 7\n",
      "[18:26:28] UFFTYPER: Unrecognized charge state for atom: 7\n",
      "RDKit ERROR: [18:26:28] UFFTYPER: Unrecognized charge state for atom: 7\n",
      "[18:26:28] UFFTYPER: Unrecognized charge state for atom: 7\n",
      "RDKit ERROR: [18:26:28] UFFTYPER: Unrecognized charge state for atom: 7\n",
      "[18:26:28] UFFTYPER: Unrecognized charge state for atom: 7\n",
      "RDKit ERROR: [18:26:28] UFFTYPER: Unrecognized charge state for atom: 7\n",
      "[18:26:28] UFFTYPER: Unrecognized charge state for atom: 7\n",
      "RDKit ERROR: [18:26:28] UFFTYPER: Unrecognized charge state for atom: 7\n",
      "[18:26:28] UFFTYPER: Unrecognized charge state for atom: 7\n",
      "RDKit ERROR: [18:26:28] UFFTYPER: Unrecognized charge state for atom: 7\n",
      "[18:26:28] UFFTYPER: Unrecognized charge state for atom: 7\n",
      "RDKit ERROR: [18:26:28] UFFTYPER: Unrecognized charge state for atom: 7\n",
      "[18:26:28] UFFTYPER: Unrecognized charge state for atom: 7\n",
      "RDKit ERROR: [18:26:28] UFFTYPER: Unrecognized charge state for atom: 7\n",
      "[18:26:28] UFFTYPER: Unrecognized charge state for atom: 7\n",
      "RDKit ERROR: [18:26:28] UFFTYPER: Unrecognized charge state for atom: 7\n",
      "[18:26:28] UFFTYPER: Unrecognized charge state for atom: 7\n",
      "RDKit ERROR: [18:26:28] UFFTYPER: Unrecognized charge state for atom: 7\n",
      "[18:26:28] UFFTYPER: Unrecognized charge state for atom: 7\n",
      "RDKit ERROR: [18:26:28] UFFTYPER: Unrecognized charge state for atom: 7\n",
      "[18:26:28] UFFTYPER: Unrecognized charge state for atom: 7\n",
      "RDKit ERROR: [18:26:28] UFFTYPER: Unrecognized charge state for atom: 7\n",
      "[18:26:28] UFFTYPER: Unrecognized charge state for atom: 7\n",
      "RDKit ERROR: [18:26:28] UFFTYPER: Unrecognized charge state for atom: 7\n",
      "[18:26:28] UFFTYPER: Unrecognized charge state for atom: 7\n",
      "RDKit ERROR: [18:26:28] UFFTYPER: Unrecognized charge state for atom: 7\n",
      "[18:26:28] UFFTYPER: Unrecognized charge state for atom: 7\n",
      "RDKit ERROR: [18:26:28] UFFTYPER: Unrecognized charge state for atom: 7\n",
      "[18:26:28] UFFTYPER: Unrecognized charge state for atom: 7\n",
      "RDKit ERROR: [18:26:28] UFFTYPER: Unrecognized charge state for atom: 7\n",
      "[18:26:28] UFFTYPER: Unrecognized charge state for atom: 7\n",
      "RDKit ERROR: [18:26:28] UFFTYPER: Unrecognized charge state for atom: 7\n",
      "[18:26:28] UFFTYPER: Unrecognized charge state for atom: 7\n",
      "RDKit ERROR: [18:26:28] UFFTYPER: Unrecognized charge state for atom: 7\n",
      "[18:26:28] UFFTYPER: Unrecognized charge state for atom: 7\n",
      "RDKit ERROR: [18:26:28] UFFTYPER: Unrecognized charge state for atom: 7\n",
      "[18:26:28] UFFTYPER: Unrecognized charge state for atom: 7\n",
      "RDKit ERROR: [18:26:28] UFFTYPER: Unrecognized charge state for atom: 7\n",
      "[18:26:28] UFFTYPER: Unrecognized charge state for atom: 7\n",
      "RDKit ERROR: [18:26:28] UFFTYPER: Unrecognized charge state for atom: 7\n",
      "[18:26:28] UFFTYPER: Unrecognized charge state for atom: 7\n",
      "RDKit ERROR: [18:26:28] UFFTYPER: Unrecognized charge state for atom: 7\n",
      "[18:26:28] UFFTYPER: Unrecognized charge state for atom: 7\n",
      "RDKit ERROR: [18:26:28] UFFTYPER: Unrecognized charge state for atom: 7\n",
      "[18:26:28] UFFTYPER: Unrecognized charge state for atom: 7\n",
      "RDKit ERROR: [18:26:28] UFFTYPER: Unrecognized charge state for atom: 7\n",
      "[18:26:28] UFFTYPER: Unrecognized charge state for atom: 7\n",
      "RDKit ERROR: [18:26:28] UFFTYPER: Unrecognized charge state for atom: 7\n",
      "[18:26:28] UFFTYPER: Unrecognized charge state for atom: 7\n",
      "RDKit ERROR: [18:26:28] UFFTYPER: Unrecognized charge state for atom: 7\n",
      "[18:26:28] UFFTYPER: Unrecognized charge state for atom: 7\n",
      "RDKit ERROR: [18:26:28] UFFTYPER: Unrecognized charge state for atom: 7\n",
      "[18:26:28] UFFTYPER: Unrecognized charge state for atom: 7\n",
      "RDKit ERROR: [18:26:28] UFFTYPER: Unrecognized charge state for atom: 7\n",
      "[18:26:28] UFFTYPER: Unrecognized charge state for atom: 7\n",
      "RDKit ERROR: [18:26:28] UFFTYPER: Unrecognized charge state for atom: 7\n",
      "[18:26:28] UFFTYPER: Unrecognized charge state for atom: 7\n",
      "RDKit ERROR: [18:26:28] UFFTYPER: Unrecognized charge state for atom: 7\n",
      "[18:26:28] UFFTYPER: Unrecognized charge state for atom: 7\n",
      "RDKit ERROR: [18:26:28] UFFTYPER: Unrecognized charge state for atom: 7\n",
      "[18:26:28] UFFTYPER: Unrecognized charge state for atom: 7\n",
      "RDKit ERROR: [18:26:28] UFFTYPER: Unrecognized charge state for atom: 7\n",
      "[18:26:28] UFFTYPER: Unrecognized charge state for atom: 7\n",
      "RDKit ERROR: [18:26:28] UFFTYPER: Unrecognized charge state for atom: 7\n",
      "[18:26:28] UFFTYPER: Unrecognized charge state for atom: 7\n",
      "RDKit ERROR: [18:26:28] UFFTYPER: Unrecognized charge state for atom: 7\n",
      "RDKit ERROR: [18:26:28] UFFTYPER: Unrecognized charge state for atom: 7\n",
      "[18:26:28] UFFTYPER: Unrecognized charge state for atom: 7\n",
      "[18:26:28] UFFTYPER: Unrecognized charge state for atom: 7\n",
      "RDKit ERROR: [18:26:28] UFFTYPER: Unrecognized charge state for atom: 7\n",
      "[18:26:28] UFFTYPER: Unrecognized charge state for atom: 7\n",
      "RDKit ERROR: [18:26:28] UFFTYPER: Unrecognized charge state for atom: 7\n",
      "[18:26:28] UFFTYPER: Unrecognized charge state for atom: 7\n",
      "RDKit ERROR: [18:26:28] UFFTYPER: Unrecognized charge state for atom: 7\n",
      "[18:26:28] UFFTYPER: Unrecognized charge state for atom: 7\n",
      "RDKit ERROR: [18:26:28] UFFTYPER: Unrecognized charge state for atom: 7\n",
      "[18:26:28] UFFTYPER: Unrecognized charge state for atom: 7\n",
      "RDKit ERROR: [18:26:28] UFFTYPER: Unrecognized charge state for atom: 7\n",
      "[18:26:28] UFFTYPER: Unrecognized charge state for atom: 7\n",
      "RDKit ERROR: [18:26:28] UFFTYPER: Unrecognized charge state for atom: 7\n",
      "[18:26:28] UFFTYPER: Unrecognized charge state for atom: 7\n",
      "RDKit ERROR: [18:26:28] UFFTYPER: Unrecognized charge state for atom: 7\n",
      "[18:26:28] UFFTYPER: Unrecognized charge state for atom: 7\n",
      "RDKit ERROR: [18:26:28] UFFTYPER: Unrecognized charge state for atom: 7\n",
      "[18:26:28] UFFTYPER: Unrecognized charge state for atom: 7\n",
      "RDKit ERROR: [18:26:28] UFFTYPER: Unrecognized charge state for atom: 7\n",
      "[18:26:28] UFFTYPER: Unrecognized charge state for atom: 7\n",
      "RDKit ERROR: [18:26:28] UFFTYPER: Unrecognized charge state for atom: 7\n",
      "[18:26:28] UFFTYPER: Unrecognized charge state for atom: 7\n",
      "100%|███████████████████████████████████████| 4548/4548 [33:43<00:00,  2.25it/s]\n",
      "Done!\n"
     ]
    }
   ],
   "source": [
    "# run once to preprocess datasets and generate chunks\n",
    "# dataset = ConfEnsembleDataset()\n",
    "# dataset = ConfEnsembleDataset(dataset='platinum')"
   ]
  },
  {
   "cell_type": "code",
   "execution_count": 4,
   "id": "0041e450-1fc1-442d-a519-cbc952a1f354",
   "metadata": {},
   "outputs": [],
   "source": [
    "splits = ['random', 'scaffold', 'protein']"
   ]
  },
  {
   "cell_type": "code",
   "execution_count": 5,
   "id": "36ee981f-9a29-43ab-8ccd-6ea54ba5b6bc",
   "metadata": {
    "tags": []
   },
   "outputs": [],
   "source": [
    "def get_loaders(split, \n",
    "                iteration, \n",
    "                data_dir='data/',\n",
    "                ) :\n",
    "    \n",
    "    pdbbind_chunks = [filename for filename in os.listdir(os.path.join(data_dir, 'processed')) if filename.startswith('pdbbind')]\n",
    "    #pdbbind_n_chunks = len(pdbbind_chunks)\n",
    "    pdbbind_n_chunks = 4\n",
    "    \n",
    "    train_datasets = []\n",
    "    val_datasets = []\n",
    "    test_datasets = []\n",
    "    \n",
    "    if split in ['random', 'scaffold'] :\n",
    "        \n",
    "        with open(os.path.join(data_dir, f'ligand_{split}_splits', f'train_smiles_{split}_split_{iteration}.txt'), 'r') as f :\n",
    "            train_smiles = f.readlines()\n",
    "            train_smiles = [smiles.strip() for smiles in train_smiles]\n",
    "\n",
    "        with open(os.path.join(data_dir, f'ligand_{split}_splits', f'val_smiles_{split}_split_{iteration}.txt'), 'r') as f :\n",
    "            val_smiles = f.readlines()\n",
    "            val_smiles = [smiles.strip() for smiles in val_smiles]\n",
    "\n",
    "        with open(os.path.join(data_dir, f'ligand_{split}_splits', f'test_smiles_{split}_split_{iteration}.txt'), 'r') as f :\n",
    "            test_smiles = f.readlines()\n",
    "            test_smiles = [smiles.strip() for smiles in test_smiles]\n",
    "\n",
    "        for chunk_number in tqdm(range(pdbbind_n_chunks)) :\n",
    "\n",
    "            dataset = ConfEnsembleDataset(loaded_chunk=chunk_number,\n",
    "                                          smiles_list=train_smiles)\n",
    "            train_datasets.append(dataset)\n",
    "\n",
    "            dataset = ConfEnsembleDataset(loaded_chunk=chunk_number,\n",
    "                                          smiles_list=val_smiles)\n",
    "            val_datasets.append(dataset)\n",
    "\n",
    "            dataset = ConfEnsembleDataset(loaded_chunk=chunk_number,\n",
    "                                          smiles_list=test_smiles)\n",
    "            test_datasets.append(dataset)\n",
    "            \n",
    "    else : #protein split\n",
    "        \n",
    "        with open(os.path.join(data_dir, 'protein_similarity_splits', f'train_pdb_protein_similarity_split_{iteration}.txt'), 'r') as f :\n",
    "            train_pdbs = f.readlines()\n",
    "            train_pdbs = [pdb.strip() for pdb in train_pdbs]\n",
    "\n",
    "        with open(os.path.join(data_dir, 'protein_similarity_splits', f'val_pdb_protein_similarity_split_{iteration}.txt'), 'r') as f :\n",
    "            val_pdbs = f.readlines()\n",
    "            val_pdbs = [pdb.strip() for pdb in val_pdbs]\n",
    "\n",
    "        with open(os.path.join(data_dir, 'protein_similarity_splits', f'test_pdb_protein_similarity_split_{iteration}.txt'), 'r') as f :\n",
    "            test_pdbs = f.readlines()\n",
    "            test_pdbs = [pdb.strip() for pdb in test_pdbs]\n",
    "\n",
    "        for chunk_number in tqdm(range(pdbbind_n_chunks)) :\n",
    "\n",
    "            dataset = ConfEnsembleDataset(loaded_chunk=chunk_number,\n",
    "                                          pdb_ids_list=train_pdbs)\n",
    "            train_datasets.append(dataset)\n",
    "\n",
    "            dataset = ConfEnsembleDataset(loaded_chunk=chunk_number,\n",
    "                                          pdb_ids_list=val_pdbs)\n",
    "            val_datasets.append(dataset)\n",
    "\n",
    "            dataset = ConfEnsembleDataset(loaded_chunk=chunk_number,\n",
    "                                          pdb_ids_list=test_pdbs)\n",
    "            test_datasets.append(dataset)\n",
    "\n",
    "    train_dataset = ConcatDataset(train_datasets)\n",
    "    val_dataset = ConcatDataset(val_datasets)\n",
    "    test_dataset = ConcatDataset(test_datasets)\n",
    "\n",
    "    train_loader = DataLoader(train_dataset, batch_size=64, shuffle=True, num_workers=4)\n",
    "    val_loader = DataLoader(val_dataset, batch_size=64, shuffle=False, num_workers=4)\n",
    "    test_loader = DataLoader(test_dataset, batch_size=64, shuffle=False, num_workers=4)\n",
    "    \n",
    "    return train_loader, val_loader, test_loader"
   ]
  },
  {
   "cell_type": "code",
   "execution_count": 6,
   "id": "0dcfc478-b0ce-4506-a7c9-e8573d30c12a",
   "metadata": {},
   "outputs": [
    {
     "name": "stderr",
     "output_type": "stream",
     "text": [
      "100%|█████████████████████████████████████████████| 4/4 [04:33<00:00, 68.40s/it]\n",
      "GPU available: True, used: True\n",
      "TPU available: False, using: 0 TPU cores\n",
      "IPU available: False, using: 0 IPUs\n",
      "LOCAL_RANK: 0 - CUDA_VISIBLE_DEVICES: [0]\n",
      "\n",
      "  | Name          | Type       | Params\n",
      "---------------------------------------------\n",
      "0 | linear_layers | Sequential | 10.5 K\n",
      "1 | leaky_relu    | LeakyReLU  | 0     \n",
      "---------------------------------------------\n",
      "10.5 K    Trainable params\n",
      "0         Non-trainable params\n",
      "10.5 K    Total params\n",
      "0.042     Total estimated model params size (MB)\n"
     ]
    },
    {
     "data": {
      "application/vnd.jupyter.widget-view+json": {
       "model_id": "",
       "version_major": 2,
       "version_minor": 0
      },
      "text/plain": [
       "Validation sanity check: 0it [00:00, ?it/s]"
      ]
     },
     "metadata": {},
     "output_type": "display_data"
    },
    {
     "name": "stderr",
     "output_type": "stream",
     "text": [
      "/home/benoit/anaconda3/envs/GeoMol/lib/python3.7/site-packages/pytorch_lightning/utilities/data.py:57: UserWarning: Trying to infer the `batch_size` from an ambiguous collection. The batch size we found is 10. To avoid any miscalculations, use `self.log(..., batch_size=batch_size)`.\n",
      "  \"Trying to infer the `batch_size` from an ambiguous collection. The batch size we\"\n",
      "Global seed set to 42\n"
     ]
    },
    {
     "data": {
      "application/vnd.jupyter.widget-view+json": {
       "model_id": "e1759c7275eb4e3c94c3c5030defc1a3",
       "version_major": 2,
       "version_minor": 0
      },
      "text/plain": [
       "Training: 0it [00:00, ?it/s]"
      ]
     },
     "metadata": {},
     "output_type": "display_data"
    },
    {
     "data": {
      "application/vnd.jupyter.widget-view+json": {
       "model_id": "",
       "version_major": 2,
       "version_minor": 0
      },
      "text/plain": [
       "Validating: 0it [00:00, ?it/s]"
      ]
     },
     "metadata": {},
     "output_type": "display_data"
    },
    {
     "data": {
      "application/vnd.jupyter.widget-view+json": {
       "model_id": "",
       "version_major": 2,
       "version_minor": 0
      },
      "text/plain": [
       "Validating: 0it [00:00, ?it/s]"
      ]
     },
     "metadata": {},
     "output_type": "display_data"
    },
    {
     "data": {
      "application/vnd.jupyter.widget-view+json": {
       "model_id": "",
       "version_major": 2,
       "version_minor": 0
      },
      "text/plain": [
       "Validating: 0it [00:00, ?it/s]"
      ]
     },
     "metadata": {},
     "output_type": "display_data"
    },
    {
     "data": {
      "application/vnd.jupyter.widget-view+json": {
       "model_id": "",
       "version_major": 2,
       "version_minor": 0
      },
      "text/plain": [
       "Validating: 0it [00:00, ?it/s]"
      ]
     },
     "metadata": {},
     "output_type": "display_data"
    },
    {
     "data": {
      "application/vnd.jupyter.widget-view+json": {
       "model_id": "",
       "version_major": 2,
       "version_minor": 0
      },
      "text/plain": [
       "Validating: 0it [00:00, ?it/s]"
      ]
     },
     "metadata": {},
     "output_type": "display_data"
    },
    {
     "data": {
      "application/vnd.jupyter.widget-view+json": {
       "model_id": "",
       "version_major": 2,
       "version_minor": 0
      },
      "text/plain": [
       "Validating: 0it [00:00, ?it/s]"
      ]
     },
     "metadata": {},
     "output_type": "display_data"
    },
    {
     "data": {
      "application/vnd.jupyter.widget-view+json": {
       "model_id": "",
       "version_major": 2,
       "version_minor": 0
      },
      "text/plain": [
       "Validating: 0it [00:00, ?it/s]"
      ]
     },
     "metadata": {},
     "output_type": "display_data"
    },
    {
     "data": {
      "application/vnd.jupyter.widget-view+json": {
       "model_id": "",
       "version_major": 2,
       "version_minor": 0
      },
      "text/plain": [
       "Validating: 0it [00:00, ?it/s]"
      ]
     },
     "metadata": {},
     "output_type": "display_data"
    },
    {
     "data": {
      "application/vnd.jupyter.widget-view+json": {
       "model_id": "",
       "version_major": 2,
       "version_minor": 0
      },
      "text/plain": [
       "Validating: 0it [00:00, ?it/s]"
      ]
     },
     "metadata": {},
     "output_type": "display_data"
    },
    {
     "data": {
      "application/vnd.jupyter.widget-view+json": {
       "model_id": "",
       "version_major": 2,
       "version_minor": 0
      },
      "text/plain": [
       "Validating: 0it [00:00, ?it/s]"
      ]
     },
     "metadata": {},
     "output_type": "display_data"
    },
    {
     "name": "stderr",
     "output_type": "stream",
     "text": [
      "LOCAL_RANK: 0 - CUDA_VISIBLE_DEVICES: [0]\n"
     ]
    },
    {
     "data": {
      "application/vnd.jupyter.widget-view+json": {
       "model_id": "0bf459d2dedf4375a6b8c2d813a12857",
       "version_major": 2,
       "version_minor": 0
      },
      "text/plain": [
       "Testing: 0it [00:00, ?it/s]"
      ]
     },
     "metadata": {},
     "output_type": "display_data"
    },
    {
     "name": "stderr",
     "output_type": "stream",
     "text": [
      "  0%|                                                     | 0/4 [00:00<?, ?it/s]"
     ]
    },
    {
     "name": "stdout",
     "output_type": "stream",
     "text": [
      "--------------------------------------------------------------------------------\n",
      "DATALOADER:0 TEST RESULTS\n",
      "{'test_loss': 0.5703122019767761}\n",
      "--------------------------------------------------------------------------------\n"
     ]
    },
    {
     "name": "stderr",
     "output_type": "stream",
     "text": [
      "100%|█████████████████████████████████████████████| 4/4 [04:42<00:00, 70.51s/it]\n",
      "GPU available: True, used: True\n",
      "TPU available: False, using: 0 TPU cores\n",
      "IPU available: False, using: 0 IPUs\n",
      "LOCAL_RANK: 0 - CUDA_VISIBLE_DEVICES: [0]\n",
      "\n",
      "  | Name          | Type       | Params\n",
      "---------------------------------------------\n",
      "0 | linear_layers | Sequential | 10.5 K\n",
      "1 | leaky_relu    | LeakyReLU  | 0     \n",
      "---------------------------------------------\n",
      "10.5 K    Trainable params\n",
      "0         Non-trainable params\n",
      "10.5 K    Total params\n",
      "0.042     Total estimated model params size (MB)\n"
     ]
    },
    {
     "data": {
      "application/vnd.jupyter.widget-view+json": {
       "model_id": "",
       "version_major": 2,
       "version_minor": 0
      },
      "text/plain": [
       "Validation sanity check: 0it [00:00, ?it/s]"
      ]
     },
     "metadata": {},
     "output_type": "display_data"
    },
    {
     "name": "stderr",
     "output_type": "stream",
     "text": [
      "Global seed set to 42\n"
     ]
    },
    {
     "data": {
      "application/vnd.jupyter.widget-view+json": {
       "model_id": "dcaad0ff76ac4469bdee9c30e78899ad",
       "version_major": 2,
       "version_minor": 0
      },
      "text/plain": [
       "Training: 0it [00:00, ?it/s]"
      ]
     },
     "metadata": {},
     "output_type": "display_data"
    },
    {
     "data": {
      "application/vnd.jupyter.widget-view+json": {
       "model_id": "",
       "version_major": 2,
       "version_minor": 0
      },
      "text/plain": [
       "Validating: 0it [00:00, ?it/s]"
      ]
     },
     "metadata": {},
     "output_type": "display_data"
    },
    {
     "data": {
      "application/vnd.jupyter.widget-view+json": {
       "model_id": "",
       "version_major": 2,
       "version_minor": 0
      },
      "text/plain": [
       "Validating: 0it [00:00, ?it/s]"
      ]
     },
     "metadata": {},
     "output_type": "display_data"
    },
    {
     "data": {
      "application/vnd.jupyter.widget-view+json": {
       "model_id": "",
       "version_major": 2,
       "version_minor": 0
      },
      "text/plain": [
       "Validating: 0it [00:00, ?it/s]"
      ]
     },
     "metadata": {},
     "output_type": "display_data"
    },
    {
     "data": {
      "application/vnd.jupyter.widget-view+json": {
       "model_id": "",
       "version_major": 2,
       "version_minor": 0
      },
      "text/plain": [
       "Validating: 0it [00:00, ?it/s]"
      ]
     },
     "metadata": {},
     "output_type": "display_data"
    },
    {
     "data": {
      "application/vnd.jupyter.widget-view+json": {
       "model_id": "",
       "version_major": 2,
       "version_minor": 0
      },
      "text/plain": [
       "Validating: 0it [00:00, ?it/s]"
      ]
     },
     "metadata": {},
     "output_type": "display_data"
    },
    {
     "data": {
      "application/vnd.jupyter.widget-view+json": {
       "model_id": "",
       "version_major": 2,
       "version_minor": 0
      },
      "text/plain": [
       "Validating: 0it [00:00, ?it/s]"
      ]
     },
     "metadata": {},
     "output_type": "display_data"
    },
    {
     "data": {
      "application/vnd.jupyter.widget-view+json": {
       "model_id": "",
       "version_major": 2,
       "version_minor": 0
      },
      "text/plain": [
       "Validating: 0it [00:00, ?it/s]"
      ]
     },
     "metadata": {},
     "output_type": "display_data"
    },
    {
     "data": {
      "application/vnd.jupyter.widget-view+json": {
       "model_id": "",
       "version_major": 2,
       "version_minor": 0
      },
      "text/plain": [
       "Validating: 0it [00:00, ?it/s]"
      ]
     },
     "metadata": {},
     "output_type": "display_data"
    },
    {
     "data": {
      "application/vnd.jupyter.widget-view+json": {
       "model_id": "",
       "version_major": 2,
       "version_minor": 0
      },
      "text/plain": [
       "Validating: 0it [00:00, ?it/s]"
      ]
     },
     "metadata": {},
     "output_type": "display_data"
    },
    {
     "data": {
      "application/vnd.jupyter.widget-view+json": {
       "model_id": "",
       "version_major": 2,
       "version_minor": 0
      },
      "text/plain": [
       "Validating: 0it [00:00, ?it/s]"
      ]
     },
     "metadata": {},
     "output_type": "display_data"
    },
    {
     "data": {
      "application/vnd.jupyter.widget-view+json": {
       "model_id": "",
       "version_major": 2,
       "version_minor": 0
      },
      "text/plain": [
       "Validating: 0it [00:00, ?it/s]"
      ]
     },
     "metadata": {},
     "output_type": "display_data"
    },
    {
     "data": {
      "application/vnd.jupyter.widget-view+json": {
       "model_id": "",
       "version_major": 2,
       "version_minor": 0
      },
      "text/plain": [
       "Validating: 0it [00:00, ?it/s]"
      ]
     },
     "metadata": {},
     "output_type": "display_data"
    },
    {
     "data": {
      "application/vnd.jupyter.widget-view+json": {
       "model_id": "",
       "version_major": 2,
       "version_minor": 0
      },
      "text/plain": [
       "Validating: 0it [00:00, ?it/s]"
      ]
     },
     "metadata": {},
     "output_type": "display_data"
    },
    {
     "data": {
      "application/vnd.jupyter.widget-view+json": {
       "model_id": "",
       "version_major": 2,
       "version_minor": 0
      },
      "text/plain": [
       "Validating: 0it [00:00, ?it/s]"
      ]
     },
     "metadata": {},
     "output_type": "display_data"
    },
    {
     "data": {
      "application/vnd.jupyter.widget-view+json": {
       "model_id": "",
       "version_major": 2,
       "version_minor": 0
      },
      "text/plain": [
       "Validating: 0it [00:00, ?it/s]"
      ]
     },
     "metadata": {},
     "output_type": "display_data"
    },
    {
     "name": "stderr",
     "output_type": "stream",
     "text": [
      "LOCAL_RANK: 0 - CUDA_VISIBLE_DEVICES: [0]\n"
     ]
    },
    {
     "data": {
      "application/vnd.jupyter.widget-view+json": {
       "model_id": "a6f3d804a7534768b575f5fc6186aa10",
       "version_major": 2,
       "version_minor": 0
      },
      "text/plain": [
       "Testing: 0it [00:00, ?it/s]"
      ]
     },
     "metadata": {},
     "output_type": "display_data"
    },
    {
     "name": "stderr",
     "output_type": "stream",
     "text": [
      "/home/benoit/bioactive_conformation_predictor/molsize_model.py:46: UserWarning: Using a target size (torch.Size([1])) that is different to the input size (torch.Size([])). This will likely lead to incorrect results due to broadcasting. Please ensure they have the same size.\n",
      "  loss = F.mse_loss(pred.squeeze(), target)\n",
      "  0%|                                                     | 0/4 [00:00<?, ?it/s]"
     ]
    },
    {
     "name": "stdout",
     "output_type": "stream",
     "text": [
      "--------------------------------------------------------------------------------\n",
      "DATALOADER:0 TEST RESULTS\n",
      "{'test_loss': 0.5687421560287476}\n",
      "--------------------------------------------------------------------------------\n"
     ]
    },
    {
     "name": "stderr",
     "output_type": "stream",
     "text": [
      "100%|█████████████████████████████████████████████| 4/4 [04:41<00:00, 70.47s/it]\n",
      "GPU available: True, used: True\n",
      "TPU available: False, using: 0 TPU cores\n",
      "IPU available: False, using: 0 IPUs\n",
      "LOCAL_RANK: 0 - CUDA_VISIBLE_DEVICES: [0]\n",
      "\n",
      "  | Name          | Type       | Params\n",
      "---------------------------------------------\n",
      "0 | linear_layers | Sequential | 10.5 K\n",
      "1 | leaky_relu    | LeakyReLU  | 0     \n",
      "---------------------------------------------\n",
      "10.5 K    Trainable params\n",
      "0         Non-trainable params\n",
      "10.5 K    Total params\n",
      "0.042     Total estimated model params size (MB)\n"
     ]
    },
    {
     "data": {
      "application/vnd.jupyter.widget-view+json": {
       "model_id": "",
       "version_major": 2,
       "version_minor": 0
      },
      "text/plain": [
       "Validation sanity check: 0it [00:00, ?it/s]"
      ]
     },
     "metadata": {},
     "output_type": "display_data"
    },
    {
     "name": "stderr",
     "output_type": "stream",
     "text": [
      "Global seed set to 42\n"
     ]
    },
    {
     "data": {
      "application/vnd.jupyter.widget-view+json": {
       "model_id": "8523af16d0194864b6fe23c7801fd8f1",
       "version_major": 2,
       "version_minor": 0
      },
      "text/plain": [
       "Training: 0it [00:00, ?it/s]"
      ]
     },
     "metadata": {},
     "output_type": "display_data"
    },
    {
     "data": {
      "application/vnd.jupyter.widget-view+json": {
       "model_id": "",
       "version_major": 2,
       "version_minor": 0
      },
      "text/plain": [
       "Validating: 0it [00:00, ?it/s]"
      ]
     },
     "metadata": {},
     "output_type": "display_data"
    },
    {
     "data": {
      "application/vnd.jupyter.widget-view+json": {
       "model_id": "",
       "version_major": 2,
       "version_minor": 0
      },
      "text/plain": [
       "Validating: 0it [00:00, ?it/s]"
      ]
     },
     "metadata": {},
     "output_type": "display_data"
    },
    {
     "data": {
      "application/vnd.jupyter.widget-view+json": {
       "model_id": "",
       "version_major": 2,
       "version_minor": 0
      },
      "text/plain": [
       "Validating: 0it [00:00, ?it/s]"
      ]
     },
     "metadata": {},
     "output_type": "display_data"
    },
    {
     "data": {
      "application/vnd.jupyter.widget-view+json": {
       "model_id": "",
       "version_major": 2,
       "version_minor": 0
      },
      "text/plain": [
       "Validating: 0it [00:00, ?it/s]"
      ]
     },
     "metadata": {},
     "output_type": "display_data"
    },
    {
     "data": {
      "application/vnd.jupyter.widget-view+json": {
       "model_id": "",
       "version_major": 2,
       "version_minor": 0
      },
      "text/plain": [
       "Validating: 0it [00:00, ?it/s]"
      ]
     },
     "metadata": {},
     "output_type": "display_data"
    },
    {
     "data": {
      "application/vnd.jupyter.widget-view+json": {
       "model_id": "",
       "version_major": 2,
       "version_minor": 0
      },
      "text/plain": [
       "Validating: 0it [00:00, ?it/s]"
      ]
     },
     "metadata": {},
     "output_type": "display_data"
    },
    {
     "data": {
      "application/vnd.jupyter.widget-view+json": {
       "model_id": "",
       "version_major": 2,
       "version_minor": 0
      },
      "text/plain": [
       "Validating: 0it [00:00, ?it/s]"
      ]
     },
     "metadata": {},
     "output_type": "display_data"
    },
    {
     "data": {
      "application/vnd.jupyter.widget-view+json": {
       "model_id": "",
       "version_major": 2,
       "version_minor": 0
      },
      "text/plain": [
       "Validating: 0it [00:00, ?it/s]"
      ]
     },
     "metadata": {},
     "output_type": "display_data"
    },
    {
     "data": {
      "application/vnd.jupyter.widget-view+json": {
       "model_id": "",
       "version_major": 2,
       "version_minor": 0
      },
      "text/plain": [
       "Validating: 0it [00:00, ?it/s]"
      ]
     },
     "metadata": {},
     "output_type": "display_data"
    },
    {
     "name": "stderr",
     "output_type": "stream",
     "text": [
      "LOCAL_RANK: 0 - CUDA_VISIBLE_DEVICES: [0]\n"
     ]
    },
    {
     "data": {
      "application/vnd.jupyter.widget-view+json": {
       "model_id": "be9e0c5941cb419699a2dd4ede662b93",
       "version_major": 2,
       "version_minor": 0
      },
      "text/plain": [
       "Testing: 0it [00:00, ?it/s]"
      ]
     },
     "metadata": {},
     "output_type": "display_data"
    },
    {
     "name": "stderr",
     "output_type": "stream",
     "text": [
      "  0%|                                                     | 0/4 [00:00<?, ?it/s]"
     ]
    },
    {
     "name": "stdout",
     "output_type": "stream",
     "text": [
      "--------------------------------------------------------------------------------\n",
      "DATALOADER:0 TEST RESULTS\n",
      "{'test_loss': 0.5477344989776611}\n",
      "--------------------------------------------------------------------------------\n"
     ]
    },
    {
     "name": "stderr",
     "output_type": "stream",
     "text": [
      "100%|█████████████████████████████████████████████| 4/4 [04:36<00:00, 69.10s/it]\n",
      "GPU available: True, used: True\n",
      "TPU available: False, using: 0 TPU cores\n",
      "IPU available: False, using: 0 IPUs\n",
      "LOCAL_RANK: 0 - CUDA_VISIBLE_DEVICES: [0]\n",
      "\n",
      "  | Name          | Type       | Params\n",
      "---------------------------------------------\n",
      "0 | linear_layers | Sequential | 10.5 K\n",
      "1 | leaky_relu    | LeakyReLU  | 0     \n",
      "---------------------------------------------\n",
      "10.5 K    Trainable params\n",
      "0         Non-trainable params\n",
      "10.5 K    Total params\n",
      "0.042     Total estimated model params size (MB)\n"
     ]
    },
    {
     "data": {
      "application/vnd.jupyter.widget-view+json": {
       "model_id": "",
       "version_major": 2,
       "version_minor": 0
      },
      "text/plain": [
       "Validation sanity check: 0it [00:00, ?it/s]"
      ]
     },
     "metadata": {},
     "output_type": "display_data"
    },
    {
     "name": "stderr",
     "output_type": "stream",
     "text": [
      "Global seed set to 42\n"
     ]
    },
    {
     "data": {
      "application/vnd.jupyter.widget-view+json": {
       "model_id": "355e8f700c474879a0d31bb5ddd7fdba",
       "version_major": 2,
       "version_minor": 0
      },
      "text/plain": [
       "Training: 0it [00:00, ?it/s]"
      ]
     },
     "metadata": {},
     "output_type": "display_data"
    },
    {
     "name": "stderr",
     "output_type": "stream",
     "text": [
      "/home/benoit/bioactive_conformation_predictor/molsize_model.py:32: UserWarning: Using a target size (torch.Size([1])) that is different to the input size (torch.Size([])). This will likely lead to incorrect results due to broadcasting. Please ensure they have the same size.\n",
      "  loss = F.mse_loss(pred.squeeze(), target)\n"
     ]
    },
    {
     "data": {
      "application/vnd.jupyter.widget-view+json": {
       "model_id": "",
       "version_major": 2,
       "version_minor": 0
      },
      "text/plain": [
       "Validating: 0it [00:00, ?it/s]"
      ]
     },
     "metadata": {},
     "output_type": "display_data"
    },
    {
     "data": {
      "application/vnd.jupyter.widget-view+json": {
       "model_id": "",
       "version_major": 2,
       "version_minor": 0
      },
      "text/plain": [
       "Validating: 0it [00:00, ?it/s]"
      ]
     },
     "metadata": {},
     "output_type": "display_data"
    },
    {
     "data": {
      "application/vnd.jupyter.widget-view+json": {
       "model_id": "",
       "version_major": 2,
       "version_minor": 0
      },
      "text/plain": [
       "Validating: 0it [00:00, ?it/s]"
      ]
     },
     "metadata": {},
     "output_type": "display_data"
    },
    {
     "data": {
      "application/vnd.jupyter.widget-view+json": {
       "model_id": "",
       "version_major": 2,
       "version_minor": 0
      },
      "text/plain": [
       "Validating: 0it [00:00, ?it/s]"
      ]
     },
     "metadata": {},
     "output_type": "display_data"
    },
    {
     "data": {
      "application/vnd.jupyter.widget-view+json": {
       "model_id": "",
       "version_major": 2,
       "version_minor": 0
      },
      "text/plain": [
       "Validating: 0it [00:00, ?it/s]"
      ]
     },
     "metadata": {},
     "output_type": "display_data"
    },
    {
     "data": {
      "application/vnd.jupyter.widget-view+json": {
       "model_id": "",
       "version_major": 2,
       "version_minor": 0
      },
      "text/plain": [
       "Validating: 0it [00:00, ?it/s]"
      ]
     },
     "metadata": {},
     "output_type": "display_data"
    },
    {
     "data": {
      "application/vnd.jupyter.widget-view+json": {
       "model_id": "",
       "version_major": 2,
       "version_minor": 0
      },
      "text/plain": [
       "Validating: 0it [00:00, ?it/s]"
      ]
     },
     "metadata": {},
     "output_type": "display_data"
    },
    {
     "data": {
      "application/vnd.jupyter.widget-view+json": {
       "model_id": "",
       "version_major": 2,
       "version_minor": 0
      },
      "text/plain": [
       "Validating: 0it [00:00, ?it/s]"
      ]
     },
     "metadata": {},
     "output_type": "display_data"
    },
    {
     "data": {
      "application/vnd.jupyter.widget-view+json": {
       "model_id": "",
       "version_major": 2,
       "version_minor": 0
      },
      "text/plain": [
       "Validating: 0it [00:00, ?it/s]"
      ]
     },
     "metadata": {},
     "output_type": "display_data"
    },
    {
     "name": "stderr",
     "output_type": "stream",
     "text": [
      "LOCAL_RANK: 0 - CUDA_VISIBLE_DEVICES: [0]\n"
     ]
    },
    {
     "data": {
      "application/vnd.jupyter.widget-view+json": {
       "model_id": "9c8721a229b14a788d6594a44ac2181c",
       "version_major": 2,
       "version_minor": 0
      },
      "text/plain": [
       "Testing: 0it [00:00, ?it/s]"
      ]
     },
     "metadata": {},
     "output_type": "display_data"
    },
    {
     "name": "stderr",
     "output_type": "stream",
     "text": [
      "  0%|                                                     | 0/4 [00:00<?, ?it/s]"
     ]
    },
    {
     "name": "stdout",
     "output_type": "stream",
     "text": [
      "--------------------------------------------------------------------------------\n",
      "DATALOADER:0 TEST RESULTS\n",
      "{'test_loss': 0.5654799938201904}\n",
      "--------------------------------------------------------------------------------\n"
     ]
    },
    {
     "name": "stderr",
     "output_type": "stream",
     "text": [
      "100%|█████████████████████████████████████████████| 4/4 [04:36<00:00, 69.17s/it]\n",
      "GPU available: True, used: True\n",
      "TPU available: False, using: 0 TPU cores\n",
      "IPU available: False, using: 0 IPUs\n",
      "LOCAL_RANK: 0 - CUDA_VISIBLE_DEVICES: [0]\n",
      "\n",
      "  | Name          | Type       | Params\n",
      "---------------------------------------------\n",
      "0 | linear_layers | Sequential | 10.5 K\n",
      "1 | leaky_relu    | LeakyReLU  | 0     \n",
      "---------------------------------------------\n",
      "10.5 K    Trainable params\n",
      "0         Non-trainable params\n",
      "10.5 K    Total params\n",
      "0.042     Total estimated model params size (MB)\n"
     ]
    },
    {
     "data": {
      "application/vnd.jupyter.widget-view+json": {
       "model_id": "",
       "version_major": 2,
       "version_minor": 0
      },
      "text/plain": [
       "Validation sanity check: 0it [00:00, ?it/s]"
      ]
     },
     "metadata": {},
     "output_type": "display_data"
    },
    {
     "name": "stderr",
     "output_type": "stream",
     "text": [
      "Global seed set to 42\n"
     ]
    },
    {
     "data": {
      "application/vnd.jupyter.widget-view+json": {
       "model_id": "b76ba29ab5ba4be0b993abd332a42d0c",
       "version_major": 2,
       "version_minor": 0
      },
      "text/plain": [
       "Training: 0it [00:00, ?it/s]"
      ]
     },
     "metadata": {},
     "output_type": "display_data"
    },
    {
     "data": {
      "application/vnd.jupyter.widget-view+json": {
       "model_id": "",
       "version_major": 2,
       "version_minor": 0
      },
      "text/plain": [
       "Validating: 0it [00:00, ?it/s]"
      ]
     },
     "metadata": {},
     "output_type": "display_data"
    },
    {
     "data": {
      "application/vnd.jupyter.widget-view+json": {
       "model_id": "",
       "version_major": 2,
       "version_minor": 0
      },
      "text/plain": [
       "Validating: 0it [00:00, ?it/s]"
      ]
     },
     "metadata": {},
     "output_type": "display_data"
    },
    {
     "data": {
      "application/vnd.jupyter.widget-view+json": {
       "model_id": "",
       "version_major": 2,
       "version_minor": 0
      },
      "text/plain": [
       "Validating: 0it [00:00, ?it/s]"
      ]
     },
     "metadata": {},
     "output_type": "display_data"
    },
    {
     "data": {
      "application/vnd.jupyter.widget-view+json": {
       "model_id": "",
       "version_major": 2,
       "version_minor": 0
      },
      "text/plain": [
       "Validating: 0it [00:00, ?it/s]"
      ]
     },
     "metadata": {},
     "output_type": "display_data"
    },
    {
     "data": {
      "application/vnd.jupyter.widget-view+json": {
       "model_id": "",
       "version_major": 2,
       "version_minor": 0
      },
      "text/plain": [
       "Validating: 0it [00:00, ?it/s]"
      ]
     },
     "metadata": {},
     "output_type": "display_data"
    },
    {
     "data": {
      "application/vnd.jupyter.widget-view+json": {
       "model_id": "",
       "version_major": 2,
       "version_minor": 0
      },
      "text/plain": [
       "Validating: 0it [00:00, ?it/s]"
      ]
     },
     "metadata": {},
     "output_type": "display_data"
    },
    {
     "data": {
      "application/vnd.jupyter.widget-view+json": {
       "model_id": "",
       "version_major": 2,
       "version_minor": 0
      },
      "text/plain": [
       "Validating: 0it [00:00, ?it/s]"
      ]
     },
     "metadata": {},
     "output_type": "display_data"
    },
    {
     "data": {
      "application/vnd.jupyter.widget-view+json": {
       "model_id": "",
       "version_major": 2,
       "version_minor": 0
      },
      "text/plain": [
       "Validating: 0it [00:00, ?it/s]"
      ]
     },
     "metadata": {},
     "output_type": "display_data"
    },
    {
     "data": {
      "application/vnd.jupyter.widget-view+json": {
       "model_id": "",
       "version_major": 2,
       "version_minor": 0
      },
      "text/plain": [
       "Validating: 0it [00:00, ?it/s]"
      ]
     },
     "metadata": {},
     "output_type": "display_data"
    },
    {
     "data": {
      "application/vnd.jupyter.widget-view+json": {
       "model_id": "",
       "version_major": 2,
       "version_minor": 0
      },
      "text/plain": [
       "Validating: 0it [00:00, ?it/s]"
      ]
     },
     "metadata": {},
     "output_type": "display_data"
    },
    {
     "data": {
      "application/vnd.jupyter.widget-view+json": {
       "model_id": "",
       "version_major": 2,
       "version_minor": 0
      },
      "text/plain": [
       "Validating: 0it [00:00, ?it/s]"
      ]
     },
     "metadata": {},
     "output_type": "display_data"
    },
    {
     "data": {
      "application/vnd.jupyter.widget-view+json": {
       "model_id": "",
       "version_major": 2,
       "version_minor": 0
      },
      "text/plain": [
       "Validating: 0it [00:00, ?it/s]"
      ]
     },
     "metadata": {},
     "output_type": "display_data"
    },
    {
     "data": {
      "application/vnd.jupyter.widget-view+json": {
       "model_id": "",
       "version_major": 2,
       "version_minor": 0
      },
      "text/plain": [
       "Validating: 0it [00:00, ?it/s]"
      ]
     },
     "metadata": {},
     "output_type": "display_data"
    },
    {
     "data": {
      "application/vnd.jupyter.widget-view+json": {
       "model_id": "",
       "version_major": 2,
       "version_minor": 0
      },
      "text/plain": [
       "Validating: 0it [00:00, ?it/s]"
      ]
     },
     "metadata": {},
     "output_type": "display_data"
    },
    {
     "data": {
      "application/vnd.jupyter.widget-view+json": {
       "model_id": "",
       "version_major": 2,
       "version_minor": 0
      },
      "text/plain": [
       "Validating: 0it [00:00, ?it/s]"
      ]
     },
     "metadata": {},
     "output_type": "display_data"
    },
    {
     "data": {
      "application/vnd.jupyter.widget-view+json": {
       "model_id": "",
       "version_major": 2,
       "version_minor": 0
      },
      "text/plain": [
       "Validating: 0it [00:00, ?it/s]"
      ]
     },
     "metadata": {},
     "output_type": "display_data"
    },
    {
     "data": {
      "application/vnd.jupyter.widget-view+json": {
       "model_id": "",
       "version_major": 2,
       "version_minor": 0
      },
      "text/plain": [
       "Validating: 0it [00:00, ?it/s]"
      ]
     },
     "metadata": {},
     "output_type": "display_data"
    },
    {
     "name": "stderr",
     "output_type": "stream",
     "text": [
      "LOCAL_RANK: 0 - CUDA_VISIBLE_DEVICES: [0]\n"
     ]
    },
    {
     "data": {
      "application/vnd.jupyter.widget-view+json": {
       "model_id": "edf666a0d5b64891aa55039d60cbf915",
       "version_major": 2,
       "version_minor": 0
      },
      "text/plain": [
       "Testing: 0it [00:00, ?it/s]"
      ]
     },
     "metadata": {},
     "output_type": "display_data"
    },
    {
     "name": "stderr",
     "output_type": "stream",
     "text": [
      "  0%|                                                     | 0/4 [00:00<?, ?it/s]"
     ]
    },
    {
     "name": "stdout",
     "output_type": "stream",
     "text": [
      "--------------------------------------------------------------------------------\n",
      "DATALOADER:0 TEST RESULTS\n",
      "{'test_loss': 0.5436768531799316}\n",
      "--------------------------------------------------------------------------------\n"
     ]
    },
    {
     "name": "stderr",
     "output_type": "stream",
     "text": [
      "100%|█████████████████████████████████████████████| 4/4 [04:39<00:00, 69.95s/it]\n",
      "GPU available: True, used: True\n",
      "TPU available: False, using: 0 TPU cores\n",
      "IPU available: False, using: 0 IPUs\n",
      "LOCAL_RANK: 0 - CUDA_VISIBLE_DEVICES: [0]\n",
      "\n",
      "  | Name          | Type       | Params\n",
      "---------------------------------------------\n",
      "0 | linear_layers | Sequential | 10.5 K\n",
      "1 | leaky_relu    | LeakyReLU  | 0     \n",
      "---------------------------------------------\n",
      "10.5 K    Trainable params\n",
      "0         Non-trainable params\n",
      "10.5 K    Total params\n",
      "0.042     Total estimated model params size (MB)\n"
     ]
    },
    {
     "data": {
      "application/vnd.jupyter.widget-view+json": {
       "model_id": "",
       "version_major": 2,
       "version_minor": 0
      },
      "text/plain": [
       "Validation sanity check: 0it [00:00, ?it/s]"
      ]
     },
     "metadata": {},
     "output_type": "display_data"
    },
    {
     "name": "stderr",
     "output_type": "stream",
     "text": [
      "Global seed set to 42\n"
     ]
    },
    {
     "data": {
      "application/vnd.jupyter.widget-view+json": {
       "model_id": "b72d2fa82a684b87896d6990e906ba3b",
       "version_major": 2,
       "version_minor": 0
      },
      "text/plain": [
       "Training: 0it [00:00, ?it/s]"
      ]
     },
     "metadata": {},
     "output_type": "display_data"
    },
    {
     "data": {
      "application/vnd.jupyter.widget-view+json": {
       "model_id": "",
       "version_major": 2,
       "version_minor": 0
      },
      "text/plain": [
       "Validating: 0it [00:00, ?it/s]"
      ]
     },
     "metadata": {},
     "output_type": "display_data"
    },
    {
     "data": {
      "application/vnd.jupyter.widget-view+json": {
       "model_id": "",
       "version_major": 2,
       "version_minor": 0
      },
      "text/plain": [
       "Validating: 0it [00:00, ?it/s]"
      ]
     },
     "metadata": {},
     "output_type": "display_data"
    },
    {
     "data": {
      "application/vnd.jupyter.widget-view+json": {
       "model_id": "",
       "version_major": 2,
       "version_minor": 0
      },
      "text/plain": [
       "Validating: 0it [00:00, ?it/s]"
      ]
     },
     "metadata": {},
     "output_type": "display_data"
    },
    {
     "data": {
      "application/vnd.jupyter.widget-view+json": {
       "model_id": "",
       "version_major": 2,
       "version_minor": 0
      },
      "text/plain": [
       "Validating: 0it [00:00, ?it/s]"
      ]
     },
     "metadata": {},
     "output_type": "display_data"
    },
    {
     "data": {
      "application/vnd.jupyter.widget-view+json": {
       "model_id": "",
       "version_major": 2,
       "version_minor": 0
      },
      "text/plain": [
       "Validating: 0it [00:00, ?it/s]"
      ]
     },
     "metadata": {},
     "output_type": "display_data"
    },
    {
     "data": {
      "application/vnd.jupyter.widget-view+json": {
       "model_id": "",
       "version_major": 2,
       "version_minor": 0
      },
      "text/plain": [
       "Validating: 0it [00:00, ?it/s]"
      ]
     },
     "metadata": {},
     "output_type": "display_data"
    },
    {
     "data": {
      "application/vnd.jupyter.widget-view+json": {
       "model_id": "",
       "version_major": 2,
       "version_minor": 0
      },
      "text/plain": [
       "Validating: 0it [00:00, ?it/s]"
      ]
     },
     "metadata": {},
     "output_type": "display_data"
    },
    {
     "data": {
      "application/vnd.jupyter.widget-view+json": {
       "model_id": "",
       "version_major": 2,
       "version_minor": 0
      },
      "text/plain": [
       "Validating: 0it [00:00, ?it/s]"
      ]
     },
     "metadata": {},
     "output_type": "display_data"
    },
    {
     "name": "stderr",
     "output_type": "stream",
     "text": [
      "LOCAL_RANK: 0 - CUDA_VISIBLE_DEVICES: [0]\n"
     ]
    },
    {
     "data": {
      "application/vnd.jupyter.widget-view+json": {
       "model_id": "955b9cbb1b40430b8fdfa0a34cb3bd0c",
       "version_major": 2,
       "version_minor": 0
      },
      "text/plain": [
       "Testing: 0it [00:00, ?it/s]"
      ]
     },
     "metadata": {},
     "output_type": "display_data"
    },
    {
     "name": "stderr",
     "output_type": "stream",
     "text": [
      "  0%|                                                     | 0/4 [00:00<?, ?it/s]"
     ]
    },
    {
     "name": "stdout",
     "output_type": "stream",
     "text": [
      "--------------------------------------------------------------------------------\n",
      "DATALOADER:0 TEST RESULTS\n",
      "{'test_loss': 0.559333860874176}\n",
      "--------------------------------------------------------------------------------\n"
     ]
    },
    {
     "name": "stderr",
     "output_type": "stream",
     "text": [
      "100%|█████████████████████████████████████████████| 4/4 [04:39<00:00, 69.95s/it]\n",
      "GPU available: True, used: True\n",
      "TPU available: False, using: 0 TPU cores\n",
      "IPU available: False, using: 0 IPUs\n",
      "LOCAL_RANK: 0 - CUDA_VISIBLE_DEVICES: [0]\n",
      "\n",
      "  | Name          | Type       | Params\n",
      "---------------------------------------------\n",
      "0 | linear_layers | Sequential | 10.5 K\n",
      "1 | leaky_relu    | LeakyReLU  | 0     \n",
      "---------------------------------------------\n",
      "10.5 K    Trainable params\n",
      "0         Non-trainable params\n",
      "10.5 K    Total params\n",
      "0.042     Total estimated model params size (MB)\n"
     ]
    },
    {
     "data": {
      "application/vnd.jupyter.widget-view+json": {
       "model_id": "",
       "version_major": 2,
       "version_minor": 0
      },
      "text/plain": [
       "Validation sanity check: 0it [00:00, ?it/s]"
      ]
     },
     "metadata": {},
     "output_type": "display_data"
    },
    {
     "name": "stderr",
     "output_type": "stream",
     "text": [
      "Global seed set to 42\n"
     ]
    },
    {
     "data": {
      "application/vnd.jupyter.widget-view+json": {
       "model_id": "b92f935389444f66a56028216db787d7",
       "version_major": 2,
       "version_minor": 0
      },
      "text/plain": [
       "Training: 0it [00:00, ?it/s]"
      ]
     },
     "metadata": {},
     "output_type": "display_data"
    },
    {
     "data": {
      "application/vnd.jupyter.widget-view+json": {
       "model_id": "",
       "version_major": 2,
       "version_minor": 0
      },
      "text/plain": [
       "Validating: 0it [00:00, ?it/s]"
      ]
     },
     "metadata": {},
     "output_type": "display_data"
    },
    {
     "data": {
      "application/vnd.jupyter.widget-view+json": {
       "model_id": "",
       "version_major": 2,
       "version_minor": 0
      },
      "text/plain": [
       "Validating: 0it [00:00, ?it/s]"
      ]
     },
     "metadata": {},
     "output_type": "display_data"
    },
    {
     "data": {
      "application/vnd.jupyter.widget-view+json": {
       "model_id": "",
       "version_major": 2,
       "version_minor": 0
      },
      "text/plain": [
       "Validating: 0it [00:00, ?it/s]"
      ]
     },
     "metadata": {},
     "output_type": "display_data"
    },
    {
     "data": {
      "application/vnd.jupyter.widget-view+json": {
       "model_id": "",
       "version_major": 2,
       "version_minor": 0
      },
      "text/plain": [
       "Validating: 0it [00:00, ?it/s]"
      ]
     },
     "metadata": {},
     "output_type": "display_data"
    },
    {
     "data": {
      "application/vnd.jupyter.widget-view+json": {
       "model_id": "",
       "version_major": 2,
       "version_minor": 0
      },
      "text/plain": [
       "Validating: 0it [00:00, ?it/s]"
      ]
     },
     "metadata": {},
     "output_type": "display_data"
    },
    {
     "data": {
      "application/vnd.jupyter.widget-view+json": {
       "model_id": "",
       "version_major": 2,
       "version_minor": 0
      },
      "text/plain": [
       "Validating: 0it [00:00, ?it/s]"
      ]
     },
     "metadata": {},
     "output_type": "display_data"
    },
    {
     "data": {
      "application/vnd.jupyter.widget-view+json": {
       "model_id": "",
       "version_major": 2,
       "version_minor": 0
      },
      "text/plain": [
       "Validating: 0it [00:00, ?it/s]"
      ]
     },
     "metadata": {},
     "output_type": "display_data"
    },
    {
     "data": {
      "application/vnd.jupyter.widget-view+json": {
       "model_id": "",
       "version_major": 2,
       "version_minor": 0
      },
      "text/plain": [
       "Validating: 0it [00:00, ?it/s]"
      ]
     },
     "metadata": {},
     "output_type": "display_data"
    },
    {
     "data": {
      "application/vnd.jupyter.widget-view+json": {
       "model_id": "",
       "version_major": 2,
       "version_minor": 0
      },
      "text/plain": [
       "Validating: 0it [00:00, ?it/s]"
      ]
     },
     "metadata": {},
     "output_type": "display_data"
    },
    {
     "data": {
      "application/vnd.jupyter.widget-view+json": {
       "model_id": "",
       "version_major": 2,
       "version_minor": 0
      },
      "text/plain": [
       "Validating: 0it [00:00, ?it/s]"
      ]
     },
     "metadata": {},
     "output_type": "display_data"
    },
    {
     "data": {
      "application/vnd.jupyter.widget-view+json": {
       "model_id": "",
       "version_major": 2,
       "version_minor": 0
      },
      "text/plain": [
       "Validating: 0it [00:00, ?it/s]"
      ]
     },
     "metadata": {},
     "output_type": "display_data"
    },
    {
     "data": {
      "application/vnd.jupyter.widget-view+json": {
       "model_id": "",
       "version_major": 2,
       "version_minor": 0
      },
      "text/plain": [
       "Validating: 0it [00:00, ?it/s]"
      ]
     },
     "metadata": {},
     "output_type": "display_data"
    },
    {
     "data": {
      "application/vnd.jupyter.widget-view+json": {
       "model_id": "",
       "version_major": 2,
       "version_minor": 0
      },
      "text/plain": [
       "Validating: 0it [00:00, ?it/s]"
      ]
     },
     "metadata": {},
     "output_type": "display_data"
    },
    {
     "name": "stderr",
     "output_type": "stream",
     "text": [
      "LOCAL_RANK: 0 - CUDA_VISIBLE_DEVICES: [0]\n"
     ]
    },
    {
     "data": {
      "application/vnd.jupyter.widget-view+json": {
       "model_id": "77c97d7bfad740b998e341afe995b015",
       "version_major": 2,
       "version_minor": 0
      },
      "text/plain": [
       "Testing: 0it [00:00, ?it/s]"
      ]
     },
     "metadata": {},
     "output_type": "display_data"
    },
    {
     "name": "stderr",
     "output_type": "stream",
     "text": [
      "  0%|                                                     | 0/4 [00:00<?, ?it/s]"
     ]
    },
    {
     "name": "stdout",
     "output_type": "stream",
     "text": [
      "--------------------------------------------------------------------------------\n",
      "DATALOADER:0 TEST RESULTS\n",
      "{'test_loss': 0.5890031456947327}\n",
      "--------------------------------------------------------------------------------\n"
     ]
    },
    {
     "name": "stderr",
     "output_type": "stream",
     "text": [
      "100%|█████████████████████████████████████████████| 4/4 [04:40<00:00, 70.15s/it]\n",
      "GPU available: True, used: True\n",
      "TPU available: False, using: 0 TPU cores\n",
      "IPU available: False, using: 0 IPUs\n",
      "LOCAL_RANK: 0 - CUDA_VISIBLE_DEVICES: [0]\n",
      "\n",
      "  | Name          | Type       | Params\n",
      "---------------------------------------------\n",
      "0 | linear_layers | Sequential | 10.5 K\n",
      "1 | leaky_relu    | LeakyReLU  | 0     \n",
      "---------------------------------------------\n",
      "10.5 K    Trainable params\n",
      "0         Non-trainable params\n",
      "10.5 K    Total params\n",
      "0.042     Total estimated model params size (MB)\n"
     ]
    },
    {
     "data": {
      "application/vnd.jupyter.widget-view+json": {
       "model_id": "",
       "version_major": 2,
       "version_minor": 0
      },
      "text/plain": [
       "Validation sanity check: 0it [00:00, ?it/s]"
      ]
     },
     "metadata": {},
     "output_type": "display_data"
    },
    {
     "name": "stderr",
     "output_type": "stream",
     "text": [
      "Global seed set to 42\n"
     ]
    },
    {
     "data": {
      "application/vnd.jupyter.widget-view+json": {
       "model_id": "af5d108e012c48f1809165969258c873",
       "version_major": 2,
       "version_minor": 0
      },
      "text/plain": [
       "Training: 0it [00:00, ?it/s]"
      ]
     },
     "metadata": {},
     "output_type": "display_data"
    },
    {
     "data": {
      "application/vnd.jupyter.widget-view+json": {
       "model_id": "",
       "version_major": 2,
       "version_minor": 0
      },
      "text/plain": [
       "Validating: 0it [00:00, ?it/s]"
      ]
     },
     "metadata": {},
     "output_type": "display_data"
    },
    {
     "data": {
      "application/vnd.jupyter.widget-view+json": {
       "model_id": "",
       "version_major": 2,
       "version_minor": 0
      },
      "text/plain": [
       "Validating: 0it [00:00, ?it/s]"
      ]
     },
     "metadata": {},
     "output_type": "display_data"
    },
    {
     "data": {
      "application/vnd.jupyter.widget-view+json": {
       "model_id": "",
       "version_major": 2,
       "version_minor": 0
      },
      "text/plain": [
       "Validating: 0it [00:00, ?it/s]"
      ]
     },
     "metadata": {},
     "output_type": "display_data"
    },
    {
     "data": {
      "application/vnd.jupyter.widget-view+json": {
       "model_id": "",
       "version_major": 2,
       "version_minor": 0
      },
      "text/plain": [
       "Validating: 0it [00:00, ?it/s]"
      ]
     },
     "metadata": {},
     "output_type": "display_data"
    },
    {
     "data": {
      "application/vnd.jupyter.widget-view+json": {
       "model_id": "",
       "version_major": 2,
       "version_minor": 0
      },
      "text/plain": [
       "Validating: 0it [00:00, ?it/s]"
      ]
     },
     "metadata": {},
     "output_type": "display_data"
    },
    {
     "data": {
      "application/vnd.jupyter.widget-view+json": {
       "model_id": "",
       "version_major": 2,
       "version_minor": 0
      },
      "text/plain": [
       "Validating: 0it [00:00, ?it/s]"
      ]
     },
     "metadata": {},
     "output_type": "display_data"
    },
    {
     "data": {
      "application/vnd.jupyter.widget-view+json": {
       "model_id": "",
       "version_major": 2,
       "version_minor": 0
      },
      "text/plain": [
       "Validating: 0it [00:00, ?it/s]"
      ]
     },
     "metadata": {},
     "output_type": "display_data"
    },
    {
     "data": {
      "application/vnd.jupyter.widget-view+json": {
       "model_id": "",
       "version_major": 2,
       "version_minor": 0
      },
      "text/plain": [
       "Validating: 0it [00:00, ?it/s]"
      ]
     },
     "metadata": {},
     "output_type": "display_data"
    },
    {
     "data": {
      "application/vnd.jupyter.widget-view+json": {
       "model_id": "",
       "version_major": 2,
       "version_minor": 0
      },
      "text/plain": [
       "Validating: 0it [00:00, ?it/s]"
      ]
     },
     "metadata": {},
     "output_type": "display_data"
    },
    {
     "data": {
      "application/vnd.jupyter.widget-view+json": {
       "model_id": "",
       "version_major": 2,
       "version_minor": 0
      },
      "text/plain": [
       "Validating: 0it [00:00, ?it/s]"
      ]
     },
     "metadata": {},
     "output_type": "display_data"
    },
    {
     "data": {
      "application/vnd.jupyter.widget-view+json": {
       "model_id": "",
       "version_major": 2,
       "version_minor": 0
      },
      "text/plain": [
       "Validating: 0it [00:00, ?it/s]"
      ]
     },
     "metadata": {},
     "output_type": "display_data"
    },
    {
     "name": "stderr",
     "output_type": "stream",
     "text": [
      "LOCAL_RANK: 0 - CUDA_VISIBLE_DEVICES: [0]\n"
     ]
    },
    {
     "data": {
      "application/vnd.jupyter.widget-view+json": {
       "model_id": "34f614f5209142c39920c532e6dbdf78",
       "version_major": 2,
       "version_minor": 0
      },
      "text/plain": [
       "Testing: 0it [00:00, ?it/s]"
      ]
     },
     "metadata": {},
     "output_type": "display_data"
    },
    {
     "name": "stderr",
     "output_type": "stream",
     "text": [
      "  0%|                                                     | 0/4 [00:00<?, ?it/s]"
     ]
    },
    {
     "name": "stdout",
     "output_type": "stream",
     "text": [
      "--------------------------------------------------------------------------------\n",
      "DATALOADER:0 TEST RESULTS\n",
      "{'test_loss': 0.5405386686325073}\n",
      "--------------------------------------------------------------------------------\n"
     ]
    },
    {
     "name": "stderr",
     "output_type": "stream",
     "text": [
      "100%|█████████████████████████████████████████████| 4/4 [04:30<00:00, 67.74s/it]\n",
      "GPU available: True, used: True\n",
      "TPU available: False, using: 0 TPU cores\n",
      "IPU available: False, using: 0 IPUs\n",
      "LOCAL_RANK: 0 - CUDA_VISIBLE_DEVICES: [0]\n",
      "\n",
      "  | Name          | Type       | Params\n",
      "---------------------------------------------\n",
      "0 | linear_layers | Sequential | 10.5 K\n",
      "1 | leaky_relu    | LeakyReLU  | 0     \n",
      "---------------------------------------------\n",
      "10.5 K    Trainable params\n",
      "0         Non-trainable params\n",
      "10.5 K    Total params\n",
      "0.042     Total estimated model params size (MB)\n"
     ]
    },
    {
     "data": {
      "application/vnd.jupyter.widget-view+json": {
       "model_id": "",
       "version_major": 2,
       "version_minor": 0
      },
      "text/plain": [
       "Validation sanity check: 0it [00:00, ?it/s]"
      ]
     },
     "metadata": {},
     "output_type": "display_data"
    },
    {
     "name": "stderr",
     "output_type": "stream",
     "text": [
      "Global seed set to 42\n"
     ]
    },
    {
     "data": {
      "application/vnd.jupyter.widget-view+json": {
       "model_id": "ca7167d5301f41e8b8cf0d12511f70d2",
       "version_major": 2,
       "version_minor": 0
      },
      "text/plain": [
       "Training: 0it [00:00, ?it/s]"
      ]
     },
     "metadata": {},
     "output_type": "display_data"
    },
    {
     "data": {
      "application/vnd.jupyter.widget-view+json": {
       "model_id": "",
       "version_major": 2,
       "version_minor": 0
      },
      "text/plain": [
       "Validating: 0it [00:00, ?it/s]"
      ]
     },
     "metadata": {},
     "output_type": "display_data"
    },
    {
     "data": {
      "application/vnd.jupyter.widget-view+json": {
       "model_id": "",
       "version_major": 2,
       "version_minor": 0
      },
      "text/plain": [
       "Validating: 0it [00:00, ?it/s]"
      ]
     },
     "metadata": {},
     "output_type": "display_data"
    },
    {
     "data": {
      "application/vnd.jupyter.widget-view+json": {
       "model_id": "",
       "version_major": 2,
       "version_minor": 0
      },
      "text/plain": [
       "Validating: 0it [00:00, ?it/s]"
      ]
     },
     "metadata": {},
     "output_type": "display_data"
    },
    {
     "data": {
      "application/vnd.jupyter.widget-view+json": {
       "model_id": "",
       "version_major": 2,
       "version_minor": 0
      },
      "text/plain": [
       "Validating: 0it [00:00, ?it/s]"
      ]
     },
     "metadata": {},
     "output_type": "display_data"
    },
    {
     "data": {
      "application/vnd.jupyter.widget-view+json": {
       "model_id": "",
       "version_major": 2,
       "version_minor": 0
      },
      "text/plain": [
       "Validating: 0it [00:00, ?it/s]"
      ]
     },
     "metadata": {},
     "output_type": "display_data"
    },
    {
     "data": {
      "application/vnd.jupyter.widget-view+json": {
       "model_id": "",
       "version_major": 2,
       "version_minor": 0
      },
      "text/plain": [
       "Validating: 0it [00:00, ?it/s]"
      ]
     },
     "metadata": {},
     "output_type": "display_data"
    },
    {
     "name": "stderr",
     "output_type": "stream",
     "text": [
      "LOCAL_RANK: 0 - CUDA_VISIBLE_DEVICES: [0]\n"
     ]
    },
    {
     "data": {
      "application/vnd.jupyter.widget-view+json": {
       "model_id": "f116798dc080497e83ab7ce3013bd583",
       "version_major": 2,
       "version_minor": 0
      },
      "text/plain": [
       "Testing: 0it [00:00, ?it/s]"
      ]
     },
     "metadata": {},
     "output_type": "display_data"
    },
    {
     "name": "stderr",
     "output_type": "stream",
     "text": [
      "  0%|                                                     | 0/4 [00:00<?, ?it/s]"
     ]
    },
    {
     "name": "stdout",
     "output_type": "stream",
     "text": [
      "--------------------------------------------------------------------------------\n",
      "DATALOADER:0 TEST RESULTS\n",
      "{'test_loss': 0.5514222383499146}\n",
      "--------------------------------------------------------------------------------\n"
     ]
    },
    {
     "name": "stderr",
     "output_type": "stream",
     "text": [
      "100%|█████████████████████████████████████████████| 4/4 [04:30<00:00, 67.64s/it]\n",
      "GPU available: True, used: True\n",
      "TPU available: False, using: 0 TPU cores\n",
      "IPU available: False, using: 0 IPUs\n",
      "LOCAL_RANK: 0 - CUDA_VISIBLE_DEVICES: [0]\n",
      "\n",
      "  | Name          | Type       | Params\n",
      "---------------------------------------------\n",
      "0 | linear_layers | Sequential | 10.5 K\n",
      "1 | leaky_relu    | LeakyReLU  | 0     \n",
      "---------------------------------------------\n",
      "10.5 K    Trainable params\n",
      "0         Non-trainable params\n",
      "10.5 K    Total params\n",
      "0.042     Total estimated model params size (MB)\n"
     ]
    },
    {
     "data": {
      "application/vnd.jupyter.widget-view+json": {
       "model_id": "",
       "version_major": 2,
       "version_minor": 0
      },
      "text/plain": [
       "Validation sanity check: 0it [00:00, ?it/s]"
      ]
     },
     "metadata": {},
     "output_type": "display_data"
    },
    {
     "name": "stderr",
     "output_type": "stream",
     "text": [
      "Global seed set to 42\n"
     ]
    },
    {
     "data": {
      "application/vnd.jupyter.widget-view+json": {
       "model_id": "1f811256ba5249fc9a2b22578f93a0a7",
       "version_major": 2,
       "version_minor": 0
      },
      "text/plain": [
       "Training: 0it [00:00, ?it/s]"
      ]
     },
     "metadata": {},
     "output_type": "display_data"
    },
    {
     "data": {
      "application/vnd.jupyter.widget-view+json": {
       "model_id": "",
       "version_major": 2,
       "version_minor": 0
      },
      "text/plain": [
       "Validating: 0it [00:00, ?it/s]"
      ]
     },
     "metadata": {},
     "output_type": "display_data"
    },
    {
     "data": {
      "application/vnd.jupyter.widget-view+json": {
       "model_id": "",
       "version_major": 2,
       "version_minor": 0
      },
      "text/plain": [
       "Validating: 0it [00:00, ?it/s]"
      ]
     },
     "metadata": {},
     "output_type": "display_data"
    },
    {
     "data": {
      "application/vnd.jupyter.widget-view+json": {
       "model_id": "",
       "version_major": 2,
       "version_minor": 0
      },
      "text/plain": [
       "Validating: 0it [00:00, ?it/s]"
      ]
     },
     "metadata": {},
     "output_type": "display_data"
    },
    {
     "data": {
      "application/vnd.jupyter.widget-view+json": {
       "model_id": "",
       "version_major": 2,
       "version_minor": 0
      },
      "text/plain": [
       "Validating: 0it [00:00, ?it/s]"
      ]
     },
     "metadata": {},
     "output_type": "display_data"
    },
    {
     "data": {
      "application/vnd.jupyter.widget-view+json": {
       "model_id": "",
       "version_major": 2,
       "version_minor": 0
      },
      "text/plain": [
       "Validating: 0it [00:00, ?it/s]"
      ]
     },
     "metadata": {},
     "output_type": "display_data"
    },
    {
     "data": {
      "application/vnd.jupyter.widget-view+json": {
       "model_id": "",
       "version_major": 2,
       "version_minor": 0
      },
      "text/plain": [
       "Validating: 0it [00:00, ?it/s]"
      ]
     },
     "metadata": {},
     "output_type": "display_data"
    },
    {
     "data": {
      "application/vnd.jupyter.widget-view+json": {
       "model_id": "",
       "version_major": 2,
       "version_minor": 0
      },
      "text/plain": [
       "Validating: 0it [00:00, ?it/s]"
      ]
     },
     "metadata": {},
     "output_type": "display_data"
    },
    {
     "data": {
      "application/vnd.jupyter.widget-view+json": {
       "model_id": "",
       "version_major": 2,
       "version_minor": 0
      },
      "text/plain": [
       "Validating: 0it [00:00, ?it/s]"
      ]
     },
     "metadata": {},
     "output_type": "display_data"
    },
    {
     "data": {
      "application/vnd.jupyter.widget-view+json": {
       "model_id": "",
       "version_major": 2,
       "version_minor": 0
      },
      "text/plain": [
       "Validating: 0it [00:00, ?it/s]"
      ]
     },
     "metadata": {},
     "output_type": "display_data"
    },
    {
     "data": {
      "application/vnd.jupyter.widget-view+json": {
       "model_id": "",
       "version_major": 2,
       "version_minor": 0
      },
      "text/plain": [
       "Validating: 0it [00:00, ?it/s]"
      ]
     },
     "metadata": {},
     "output_type": "display_data"
    },
    {
     "name": "stderr",
     "output_type": "stream",
     "text": [
      "LOCAL_RANK: 0 - CUDA_VISIBLE_DEVICES: [0]\n"
     ]
    },
    {
     "data": {
      "application/vnd.jupyter.widget-view+json": {
       "model_id": "0a56ff279fa141d9b7bcc99bc641a190",
       "version_major": 2,
       "version_minor": 0
      },
      "text/plain": [
       "Testing: 0it [00:00, ?it/s]"
      ]
     },
     "metadata": {},
     "output_type": "display_data"
    },
    {
     "name": "stderr",
     "output_type": "stream",
     "text": [
      "  0%|                                                     | 0/4 [00:00<?, ?it/s]"
     ]
    },
    {
     "name": "stdout",
     "output_type": "stream",
     "text": [
      "--------------------------------------------------------------------------------\n",
      "DATALOADER:0 TEST RESULTS\n",
      "{'test_loss': 0.5845213532447815}\n",
      "--------------------------------------------------------------------------------\n"
     ]
    },
    {
     "name": "stderr",
     "output_type": "stream",
     "text": [
      "100%|████████████████████████████████████████████| 4/4 [07:25<00:00, 111.48s/it]\n",
      "GPU available: True, used: True\n",
      "TPU available: False, using: 0 TPU cores\n",
      "IPU available: False, using: 0 IPUs\n",
      "LOCAL_RANK: 0 - CUDA_VISIBLE_DEVICES: [0]\n",
      "\n",
      "  | Name          | Type       | Params\n",
      "---------------------------------------------\n",
      "0 | linear_layers | Sequential | 10.5 K\n",
      "1 | leaky_relu    | LeakyReLU  | 0     \n",
      "---------------------------------------------\n",
      "10.5 K    Trainable params\n",
      "0         Non-trainable params\n",
      "10.5 K    Total params\n",
      "0.042     Total estimated model params size (MB)\n"
     ]
    },
    {
     "data": {
      "application/vnd.jupyter.widget-view+json": {
       "model_id": "",
       "version_major": 2,
       "version_minor": 0
      },
      "text/plain": [
       "Validation sanity check: 0it [00:00, ?it/s]"
      ]
     },
     "metadata": {},
     "output_type": "display_data"
    },
    {
     "name": "stderr",
     "output_type": "stream",
     "text": [
      "Global seed set to 42\n"
     ]
    },
    {
     "data": {
      "application/vnd.jupyter.widget-view+json": {
       "model_id": "cebc04f7edf94f2399ca0ecf032de2bc",
       "version_major": 2,
       "version_minor": 0
      },
      "text/plain": [
       "Training: 0it [00:00, ?it/s]"
      ]
     },
     "metadata": {},
     "output_type": "display_data"
    },
    {
     "data": {
      "application/vnd.jupyter.widget-view+json": {
       "model_id": "",
       "version_major": 2,
       "version_minor": 0
      },
      "text/plain": [
       "Validating: 0it [00:00, ?it/s]"
      ]
     },
     "metadata": {},
     "output_type": "display_data"
    },
    {
     "data": {
      "application/vnd.jupyter.widget-view+json": {
       "model_id": "",
       "version_major": 2,
       "version_minor": 0
      },
      "text/plain": [
       "Validating: 0it [00:00, ?it/s]"
      ]
     },
     "metadata": {},
     "output_type": "display_data"
    },
    {
     "data": {
      "application/vnd.jupyter.widget-view+json": {
       "model_id": "",
       "version_major": 2,
       "version_minor": 0
      },
      "text/plain": [
       "Validating: 0it [00:00, ?it/s]"
      ]
     },
     "metadata": {},
     "output_type": "display_data"
    },
    {
     "data": {
      "application/vnd.jupyter.widget-view+json": {
       "model_id": "",
       "version_major": 2,
       "version_minor": 0
      },
      "text/plain": [
       "Validating: 0it [00:00, ?it/s]"
      ]
     },
     "metadata": {},
     "output_type": "display_data"
    },
    {
     "data": {
      "application/vnd.jupyter.widget-view+json": {
       "model_id": "",
       "version_major": 2,
       "version_minor": 0
      },
      "text/plain": [
       "Validating: 0it [00:00, ?it/s]"
      ]
     },
     "metadata": {},
     "output_type": "display_data"
    },
    {
     "data": {
      "application/vnd.jupyter.widget-view+json": {
       "model_id": "",
       "version_major": 2,
       "version_minor": 0
      },
      "text/plain": [
       "Validating: 0it [00:00, ?it/s]"
      ]
     },
     "metadata": {},
     "output_type": "display_data"
    },
    {
     "data": {
      "application/vnd.jupyter.widget-view+json": {
       "model_id": "",
       "version_major": 2,
       "version_minor": 0
      },
      "text/plain": [
       "Validating: 0it [00:00, ?it/s]"
      ]
     },
     "metadata": {},
     "output_type": "display_data"
    },
    {
     "data": {
      "application/vnd.jupyter.widget-view+json": {
       "model_id": "",
       "version_major": 2,
       "version_minor": 0
      },
      "text/plain": [
       "Validating: 0it [00:00, ?it/s]"
      ]
     },
     "metadata": {},
     "output_type": "display_data"
    },
    {
     "name": "stderr",
     "output_type": "stream",
     "text": [
      "LOCAL_RANK: 0 - CUDA_VISIBLE_DEVICES: [0]\n"
     ]
    },
    {
     "data": {
      "application/vnd.jupyter.widget-view+json": {
       "model_id": "384bfd5440fa4aa1bfa3fec71b486195",
       "version_major": 2,
       "version_minor": 0
      },
      "text/plain": [
       "Testing: 0it [00:00, ?it/s]"
      ]
     },
     "metadata": {},
     "output_type": "display_data"
    },
    {
     "name": "stderr",
     "output_type": "stream",
     "text": [
      "  0%|                                                     | 0/4 [00:00<?, ?it/s]"
     ]
    },
    {
     "name": "stdout",
     "output_type": "stream",
     "text": [
      "--------------------------------------------------------------------------------\n",
      "DATALOADER:0 TEST RESULTS\n",
      "{'test_loss': 0.5574292540550232}\n",
      "--------------------------------------------------------------------------------\n"
     ]
    },
    {
     "name": "stderr",
     "output_type": "stream",
     "text": [
      "100%|████████████████████████████████████████████| 4/4 [07:23<00:00, 110.94s/it]\n",
      "GPU available: True, used: True\n",
      "TPU available: False, using: 0 TPU cores\n",
      "IPU available: False, using: 0 IPUs\n",
      "LOCAL_RANK: 0 - CUDA_VISIBLE_DEVICES: [0]\n",
      "\n",
      "  | Name          | Type       | Params\n",
      "---------------------------------------------\n",
      "0 | linear_layers | Sequential | 10.5 K\n",
      "1 | leaky_relu    | LeakyReLU  | 0     \n",
      "---------------------------------------------\n",
      "10.5 K    Trainable params\n",
      "0         Non-trainable params\n",
      "10.5 K    Total params\n",
      "0.042     Total estimated model params size (MB)\n"
     ]
    },
    {
     "data": {
      "application/vnd.jupyter.widget-view+json": {
       "model_id": "",
       "version_major": 2,
       "version_minor": 0
      },
      "text/plain": [
       "Validation sanity check: 0it [00:00, ?it/s]"
      ]
     },
     "metadata": {},
     "output_type": "display_data"
    },
    {
     "name": "stderr",
     "output_type": "stream",
     "text": [
      "Global seed set to 42\n"
     ]
    },
    {
     "data": {
      "application/vnd.jupyter.widget-view+json": {
       "model_id": "f1c5a9481f7f4d52a455d6a671afd207",
       "version_major": 2,
       "version_minor": 0
      },
      "text/plain": [
       "Training: 0it [00:00, ?it/s]"
      ]
     },
     "metadata": {},
     "output_type": "display_data"
    },
    {
     "data": {
      "application/vnd.jupyter.widget-view+json": {
       "model_id": "",
       "version_major": 2,
       "version_minor": 0
      },
      "text/plain": [
       "Validating: 0it [00:00, ?it/s]"
      ]
     },
     "metadata": {},
     "output_type": "display_data"
    },
    {
     "data": {
      "application/vnd.jupyter.widget-view+json": {
       "model_id": "",
       "version_major": 2,
       "version_minor": 0
      },
      "text/plain": [
       "Validating: 0it [00:00, ?it/s]"
      ]
     },
     "metadata": {},
     "output_type": "display_data"
    },
    {
     "data": {
      "application/vnd.jupyter.widget-view+json": {
       "model_id": "",
       "version_major": 2,
       "version_minor": 0
      },
      "text/plain": [
       "Validating: 0it [00:00, ?it/s]"
      ]
     },
     "metadata": {},
     "output_type": "display_data"
    },
    {
     "data": {
      "application/vnd.jupyter.widget-view+json": {
       "model_id": "",
       "version_major": 2,
       "version_minor": 0
      },
      "text/plain": [
       "Validating: 0it [00:00, ?it/s]"
      ]
     },
     "metadata": {},
     "output_type": "display_data"
    },
    {
     "data": {
      "application/vnd.jupyter.widget-view+json": {
       "model_id": "",
       "version_major": 2,
       "version_minor": 0
      },
      "text/plain": [
       "Validating: 0it [00:00, ?it/s]"
      ]
     },
     "metadata": {},
     "output_type": "display_data"
    },
    {
     "data": {
      "application/vnd.jupyter.widget-view+json": {
       "model_id": "",
       "version_major": 2,
       "version_minor": 0
      },
      "text/plain": [
       "Validating: 0it [00:00, ?it/s]"
      ]
     },
     "metadata": {},
     "output_type": "display_data"
    },
    {
     "data": {
      "application/vnd.jupyter.widget-view+json": {
       "model_id": "",
       "version_major": 2,
       "version_minor": 0
      },
      "text/plain": [
       "Validating: 0it [00:00, ?it/s]"
      ]
     },
     "metadata": {},
     "output_type": "display_data"
    },
    {
     "data": {
      "application/vnd.jupyter.widget-view+json": {
       "model_id": "",
       "version_major": 2,
       "version_minor": 0
      },
      "text/plain": [
       "Validating: 0it [00:00, ?it/s]"
      ]
     },
     "metadata": {},
     "output_type": "display_data"
    },
    {
     "data": {
      "application/vnd.jupyter.widget-view+json": {
       "model_id": "",
       "version_major": 2,
       "version_minor": 0
      },
      "text/plain": [
       "Validating: 0it [00:00, ?it/s]"
      ]
     },
     "metadata": {},
     "output_type": "display_data"
    },
    {
     "data": {
      "application/vnd.jupyter.widget-view+json": {
       "model_id": "",
       "version_major": 2,
       "version_minor": 0
      },
      "text/plain": [
       "Validating: 0it [00:00, ?it/s]"
      ]
     },
     "metadata": {},
     "output_type": "display_data"
    },
    {
     "data": {
      "application/vnd.jupyter.widget-view+json": {
       "model_id": "",
       "version_major": 2,
       "version_minor": 0
      },
      "text/plain": [
       "Validating: 0it [00:00, ?it/s]"
      ]
     },
     "metadata": {},
     "output_type": "display_data"
    },
    {
     "data": {
      "application/vnd.jupyter.widget-view+json": {
       "model_id": "",
       "version_major": 2,
       "version_minor": 0
      },
      "text/plain": [
       "Validating: 0it [00:00, ?it/s]"
      ]
     },
     "metadata": {},
     "output_type": "display_data"
    },
    {
     "data": {
      "application/vnd.jupyter.widget-view+json": {
       "model_id": "",
       "version_major": 2,
       "version_minor": 0
      },
      "text/plain": [
       "Validating: 0it [00:00, ?it/s]"
      ]
     },
     "metadata": {},
     "output_type": "display_data"
    },
    {
     "data": {
      "application/vnd.jupyter.widget-view+json": {
       "model_id": "",
       "version_major": 2,
       "version_minor": 0
      },
      "text/plain": [
       "Validating: 0it [00:00, ?it/s]"
      ]
     },
     "metadata": {},
     "output_type": "display_data"
    },
    {
     "data": {
      "application/vnd.jupyter.widget-view+json": {
       "model_id": "",
       "version_major": 2,
       "version_minor": 0
      },
      "text/plain": [
       "Validating: 0it [00:00, ?it/s]"
      ]
     },
     "metadata": {},
     "output_type": "display_data"
    },
    {
     "name": "stderr",
     "output_type": "stream",
     "text": [
      "LOCAL_RANK: 0 - CUDA_VISIBLE_DEVICES: [0]\n"
     ]
    },
    {
     "data": {
      "application/vnd.jupyter.widget-view+json": {
       "model_id": "be83d6f3ebc64fcfa48233b687fd7bd6",
       "version_major": 2,
       "version_minor": 0
      },
      "text/plain": [
       "Testing: 0it [00:00, ?it/s]"
      ]
     },
     "metadata": {},
     "output_type": "display_data"
    },
    {
     "name": "stderr",
     "output_type": "stream",
     "text": [
      "  0%|                                                     | 0/4 [00:00<?, ?it/s]"
     ]
    },
    {
     "name": "stdout",
     "output_type": "stream",
     "text": [
      "--------------------------------------------------------------------------------\n",
      "DATALOADER:0 TEST RESULTS\n",
      "{'test_loss': 0.5712583661079407}\n",
      "--------------------------------------------------------------------------------\n"
     ]
    },
    {
     "name": "stderr",
     "output_type": "stream",
     "text": [
      "100%|████████████████████████████████████████████| 4/4 [07:15<00:00, 108.94s/it]\n",
      "GPU available: True, used: True\n",
      "TPU available: False, using: 0 TPU cores\n",
      "IPU available: False, using: 0 IPUs\n",
      "LOCAL_RANK: 0 - CUDA_VISIBLE_DEVICES: [0]\n",
      "\n",
      "  | Name          | Type       | Params\n",
      "---------------------------------------------\n",
      "0 | linear_layers | Sequential | 10.5 K\n",
      "1 | leaky_relu    | LeakyReLU  | 0     \n",
      "---------------------------------------------\n",
      "10.5 K    Trainable params\n",
      "0         Non-trainable params\n",
      "10.5 K    Total params\n",
      "0.042     Total estimated model params size (MB)\n"
     ]
    },
    {
     "data": {
      "application/vnd.jupyter.widget-view+json": {
       "model_id": "",
       "version_major": 2,
       "version_minor": 0
      },
      "text/plain": [
       "Validation sanity check: 0it [00:00, ?it/s]"
      ]
     },
     "metadata": {},
     "output_type": "display_data"
    },
    {
     "name": "stderr",
     "output_type": "stream",
     "text": [
      "Global seed set to 42\n"
     ]
    },
    {
     "data": {
      "application/vnd.jupyter.widget-view+json": {
       "model_id": "f84b44457d154632a5b8a130b01b6e36",
       "version_major": 2,
       "version_minor": 0
      },
      "text/plain": [
       "Training: 0it [00:00, ?it/s]"
      ]
     },
     "metadata": {},
     "output_type": "display_data"
    },
    {
     "data": {
      "application/vnd.jupyter.widget-view+json": {
       "model_id": "",
       "version_major": 2,
       "version_minor": 0
      },
      "text/plain": [
       "Validating: 0it [00:00, ?it/s]"
      ]
     },
     "metadata": {},
     "output_type": "display_data"
    },
    {
     "name": "stderr",
     "output_type": "stream",
     "text": [
      "/home/benoit/bioactive_conformation_predictor/molsize_model.py:39: UserWarning: Using a target size (torch.Size([1])) that is different to the input size (torch.Size([])). This will likely lead to incorrect results due to broadcasting. Please ensure they have the same size.\n",
      "  loss = F.mse_loss(pred.squeeze(), target)\n"
     ]
    },
    {
     "data": {
      "application/vnd.jupyter.widget-view+json": {
       "model_id": "",
       "version_major": 2,
       "version_minor": 0
      },
      "text/plain": [
       "Validating: 0it [00:00, ?it/s]"
      ]
     },
     "metadata": {},
     "output_type": "display_data"
    },
    {
     "data": {
      "application/vnd.jupyter.widget-view+json": {
       "model_id": "",
       "version_major": 2,
       "version_minor": 0
      },
      "text/plain": [
       "Validating: 0it [00:00, ?it/s]"
      ]
     },
     "metadata": {},
     "output_type": "display_data"
    },
    {
     "data": {
      "application/vnd.jupyter.widget-view+json": {
       "model_id": "",
       "version_major": 2,
       "version_minor": 0
      },
      "text/plain": [
       "Validating: 0it [00:00, ?it/s]"
      ]
     },
     "metadata": {},
     "output_type": "display_data"
    },
    {
     "data": {
      "application/vnd.jupyter.widget-view+json": {
       "model_id": "",
       "version_major": 2,
       "version_minor": 0
      },
      "text/plain": [
       "Validating: 0it [00:00, ?it/s]"
      ]
     },
     "metadata": {},
     "output_type": "display_data"
    },
    {
     "data": {
      "application/vnd.jupyter.widget-view+json": {
       "model_id": "",
       "version_major": 2,
       "version_minor": 0
      },
      "text/plain": [
       "Validating: 0it [00:00, ?it/s]"
      ]
     },
     "metadata": {},
     "output_type": "display_data"
    },
    {
     "data": {
      "application/vnd.jupyter.widget-view+json": {
       "model_id": "",
       "version_major": 2,
       "version_minor": 0
      },
      "text/plain": [
       "Validating: 0it [00:00, ?it/s]"
      ]
     },
     "metadata": {},
     "output_type": "display_data"
    },
    {
     "data": {
      "application/vnd.jupyter.widget-view+json": {
       "model_id": "",
       "version_major": 2,
       "version_minor": 0
      },
      "text/plain": [
       "Validating: 0it [00:00, ?it/s]"
      ]
     },
     "metadata": {},
     "output_type": "display_data"
    },
    {
     "data": {
      "application/vnd.jupyter.widget-view+json": {
       "model_id": "",
       "version_major": 2,
       "version_minor": 0
      },
      "text/plain": [
       "Validating: 0it [00:00, ?it/s]"
      ]
     },
     "metadata": {},
     "output_type": "display_data"
    },
    {
     "data": {
      "application/vnd.jupyter.widget-view+json": {
       "model_id": "",
       "version_major": 2,
       "version_minor": 0
      },
      "text/plain": [
       "Validating: 0it [00:00, ?it/s]"
      ]
     },
     "metadata": {},
     "output_type": "display_data"
    },
    {
     "data": {
      "application/vnd.jupyter.widget-view+json": {
       "model_id": "",
       "version_major": 2,
       "version_minor": 0
      },
      "text/plain": [
       "Validating: 0it [00:00, ?it/s]"
      ]
     },
     "metadata": {},
     "output_type": "display_data"
    },
    {
     "data": {
      "application/vnd.jupyter.widget-view+json": {
       "model_id": "",
       "version_major": 2,
       "version_minor": 0
      },
      "text/plain": [
       "Validating: 0it [00:00, ?it/s]"
      ]
     },
     "metadata": {},
     "output_type": "display_data"
    },
    {
     "data": {
      "application/vnd.jupyter.widget-view+json": {
       "model_id": "",
       "version_major": 2,
       "version_minor": 0
      },
      "text/plain": [
       "Validating: 0it [00:00, ?it/s]"
      ]
     },
     "metadata": {},
     "output_type": "display_data"
    },
    {
     "data": {
      "application/vnd.jupyter.widget-view+json": {
       "model_id": "",
       "version_major": 2,
       "version_minor": 0
      },
      "text/plain": [
       "Validating: 0it [00:00, ?it/s]"
      ]
     },
     "metadata": {},
     "output_type": "display_data"
    },
    {
     "data": {
      "application/vnd.jupyter.widget-view+json": {
       "model_id": "",
       "version_major": 2,
       "version_minor": 0
      },
      "text/plain": [
       "Validating: 0it [00:00, ?it/s]"
      ]
     },
     "metadata": {},
     "output_type": "display_data"
    },
    {
     "name": "stderr",
     "output_type": "stream",
     "text": [
      "LOCAL_RANK: 0 - CUDA_VISIBLE_DEVICES: [0]\n"
     ]
    },
    {
     "data": {
      "application/vnd.jupyter.widget-view+json": {
       "model_id": "8cff0164408045f8a21cefdcc8c1f264",
       "version_major": 2,
       "version_minor": 0
      },
      "text/plain": [
       "Testing: 0it [00:00, ?it/s]"
      ]
     },
     "metadata": {},
     "output_type": "display_data"
    },
    {
     "name": "stderr",
     "output_type": "stream",
     "text": [
      "  0%|                                                     | 0/4 [00:00<?, ?it/s]"
     ]
    },
    {
     "name": "stdout",
     "output_type": "stream",
     "text": [
      "--------------------------------------------------------------------------------\n",
      "DATALOADER:0 TEST RESULTS\n",
      "{'test_loss': 0.5772401094436646}\n",
      "--------------------------------------------------------------------------------\n"
     ]
    },
    {
     "name": "stderr",
     "output_type": "stream",
     "text": [
      "100%|████████████████████████████████████████████| 4/4 [07:15<00:00, 108.94s/it]\n",
      "GPU available: True, used: True\n",
      "TPU available: False, using: 0 TPU cores\n",
      "IPU available: False, using: 0 IPUs\n",
      "LOCAL_RANK: 0 - CUDA_VISIBLE_DEVICES: [0]\n",
      "\n",
      "  | Name          | Type       | Params\n",
      "---------------------------------------------\n",
      "0 | linear_layers | Sequential | 10.5 K\n",
      "1 | leaky_relu    | LeakyReLU  | 0     \n",
      "---------------------------------------------\n",
      "10.5 K    Trainable params\n",
      "0         Non-trainable params\n",
      "10.5 K    Total params\n",
      "0.042     Total estimated model params size (MB)\n"
     ]
    },
    {
     "data": {
      "application/vnd.jupyter.widget-view+json": {
       "model_id": "",
       "version_major": 2,
       "version_minor": 0
      },
      "text/plain": [
       "Validation sanity check: 0it [00:00, ?it/s]"
      ]
     },
     "metadata": {},
     "output_type": "display_data"
    },
    {
     "name": "stderr",
     "output_type": "stream",
     "text": [
      "Global seed set to 42\n"
     ]
    },
    {
     "data": {
      "application/vnd.jupyter.widget-view+json": {
       "model_id": "9761f955ec2743f48a5fd8d58cde618f",
       "version_major": 2,
       "version_minor": 0
      },
      "text/plain": [
       "Training: 0it [00:00, ?it/s]"
      ]
     },
     "metadata": {},
     "output_type": "display_data"
    },
    {
     "data": {
      "application/vnd.jupyter.widget-view+json": {
       "model_id": "",
       "version_major": 2,
       "version_minor": 0
      },
      "text/plain": [
       "Validating: 0it [00:00, ?it/s]"
      ]
     },
     "metadata": {},
     "output_type": "display_data"
    },
    {
     "data": {
      "application/vnd.jupyter.widget-view+json": {
       "model_id": "",
       "version_major": 2,
       "version_minor": 0
      },
      "text/plain": [
       "Validating: 0it [00:00, ?it/s]"
      ]
     },
     "metadata": {},
     "output_type": "display_data"
    },
    {
     "data": {
      "application/vnd.jupyter.widget-view+json": {
       "model_id": "",
       "version_major": 2,
       "version_minor": 0
      },
      "text/plain": [
       "Validating: 0it [00:00, ?it/s]"
      ]
     },
     "metadata": {},
     "output_type": "display_data"
    },
    {
     "data": {
      "application/vnd.jupyter.widget-view+json": {
       "model_id": "",
       "version_major": 2,
       "version_minor": 0
      },
      "text/plain": [
       "Validating: 0it [00:00, ?it/s]"
      ]
     },
     "metadata": {},
     "output_type": "display_data"
    },
    {
     "data": {
      "application/vnd.jupyter.widget-view+json": {
       "model_id": "",
       "version_major": 2,
       "version_minor": 0
      },
      "text/plain": [
       "Validating: 0it [00:00, ?it/s]"
      ]
     },
     "metadata": {},
     "output_type": "display_data"
    },
    {
     "data": {
      "application/vnd.jupyter.widget-view+json": {
       "model_id": "",
       "version_major": 2,
       "version_minor": 0
      },
      "text/plain": [
       "Validating: 0it [00:00, ?it/s]"
      ]
     },
     "metadata": {},
     "output_type": "display_data"
    },
    {
     "data": {
      "application/vnd.jupyter.widget-view+json": {
       "model_id": "",
       "version_major": 2,
       "version_minor": 0
      },
      "text/plain": [
       "Validating: 0it [00:00, ?it/s]"
      ]
     },
     "metadata": {},
     "output_type": "display_data"
    },
    {
     "data": {
      "application/vnd.jupyter.widget-view+json": {
       "model_id": "",
       "version_major": 2,
       "version_minor": 0
      },
      "text/plain": [
       "Validating: 0it [00:00, ?it/s]"
      ]
     },
     "metadata": {},
     "output_type": "display_data"
    },
    {
     "data": {
      "application/vnd.jupyter.widget-view+json": {
       "model_id": "",
       "version_major": 2,
       "version_minor": 0
      },
      "text/plain": [
       "Validating: 0it [00:00, ?it/s]"
      ]
     },
     "metadata": {},
     "output_type": "display_data"
    },
    {
     "data": {
      "application/vnd.jupyter.widget-view+json": {
       "model_id": "",
       "version_major": 2,
       "version_minor": 0
      },
      "text/plain": [
       "Validating: 0it [00:00, ?it/s]"
      ]
     },
     "metadata": {},
     "output_type": "display_data"
    },
    {
     "data": {
      "application/vnd.jupyter.widget-view+json": {
       "model_id": "",
       "version_major": 2,
       "version_minor": 0
      },
      "text/plain": [
       "Validating: 0it [00:00, ?it/s]"
      ]
     },
     "metadata": {},
     "output_type": "display_data"
    },
    {
     "data": {
      "application/vnd.jupyter.widget-view+json": {
       "model_id": "",
       "version_major": 2,
       "version_minor": 0
      },
      "text/plain": [
       "Validating: 0it [00:00, ?it/s]"
      ]
     },
     "metadata": {},
     "output_type": "display_data"
    },
    {
     "data": {
      "application/vnd.jupyter.widget-view+json": {
       "model_id": "",
       "version_major": 2,
       "version_minor": 0
      },
      "text/plain": [
       "Validating: 0it [00:00, ?it/s]"
      ]
     },
     "metadata": {},
     "output_type": "display_data"
    },
    {
     "name": "stderr",
     "output_type": "stream",
     "text": [
      "LOCAL_RANK: 0 - CUDA_VISIBLE_DEVICES: [0]\n"
     ]
    },
    {
     "data": {
      "application/vnd.jupyter.widget-view+json": {
       "model_id": "9c4ccd6bf7e843508d49d0ab74da0f26",
       "version_major": 2,
       "version_minor": 0
      },
      "text/plain": [
       "Testing: 0it [00:00, ?it/s]"
      ]
     },
     "metadata": {},
     "output_type": "display_data"
    },
    {
     "name": "stderr",
     "output_type": "stream",
     "text": [
      "  0%|                                                     | 0/4 [00:00<?, ?it/s]"
     ]
    },
    {
     "name": "stdout",
     "output_type": "stream",
     "text": [
      "--------------------------------------------------------------------------------\n",
      "DATALOADER:0 TEST RESULTS\n",
      "{'test_loss': 0.5676160454750061}\n",
      "--------------------------------------------------------------------------------\n"
     ]
    },
    {
     "name": "stderr",
     "output_type": "stream",
     "text": [
      "100%|████████████████████████████████████████████| 4/4 [07:16<00:00, 109.22s/it]\n",
      "GPU available: True, used: True\n",
      "TPU available: False, using: 0 TPU cores\n",
      "IPU available: False, using: 0 IPUs\n",
      "LOCAL_RANK: 0 - CUDA_VISIBLE_DEVICES: [0]\n",
      "\n",
      "  | Name          | Type       | Params\n",
      "---------------------------------------------\n",
      "0 | linear_layers | Sequential | 10.5 K\n",
      "1 | leaky_relu    | LeakyReLU  | 0     \n",
      "---------------------------------------------\n",
      "10.5 K    Trainable params\n",
      "0         Non-trainable params\n",
      "10.5 K    Total params\n",
      "0.042     Total estimated model params size (MB)\n"
     ]
    },
    {
     "data": {
      "application/vnd.jupyter.widget-view+json": {
       "model_id": "",
       "version_major": 2,
       "version_minor": 0
      },
      "text/plain": [
       "Validation sanity check: 0it [00:00, ?it/s]"
      ]
     },
     "metadata": {},
     "output_type": "display_data"
    },
    {
     "name": "stderr",
     "output_type": "stream",
     "text": [
      "Global seed set to 42\n"
     ]
    },
    {
     "data": {
      "application/vnd.jupyter.widget-view+json": {
       "model_id": "7e771c7fab314d24864c1c1c59544ebd",
       "version_major": 2,
       "version_minor": 0
      },
      "text/plain": [
       "Training: 0it [00:00, ?it/s]"
      ]
     },
     "metadata": {},
     "output_type": "display_data"
    },
    {
     "data": {
      "application/vnd.jupyter.widget-view+json": {
       "model_id": "",
       "version_major": 2,
       "version_minor": 0
      },
      "text/plain": [
       "Validating: 0it [00:00, ?it/s]"
      ]
     },
     "metadata": {},
     "output_type": "display_data"
    },
    {
     "data": {
      "application/vnd.jupyter.widget-view+json": {
       "model_id": "",
       "version_major": 2,
       "version_minor": 0
      },
      "text/plain": [
       "Validating: 0it [00:00, ?it/s]"
      ]
     },
     "metadata": {},
     "output_type": "display_data"
    },
    {
     "data": {
      "application/vnd.jupyter.widget-view+json": {
       "model_id": "",
       "version_major": 2,
       "version_minor": 0
      },
      "text/plain": [
       "Validating: 0it [00:00, ?it/s]"
      ]
     },
     "metadata": {},
     "output_type": "display_data"
    },
    {
     "data": {
      "application/vnd.jupyter.widget-view+json": {
       "model_id": "",
       "version_major": 2,
       "version_minor": 0
      },
      "text/plain": [
       "Validating: 0it [00:00, ?it/s]"
      ]
     },
     "metadata": {},
     "output_type": "display_data"
    },
    {
     "data": {
      "application/vnd.jupyter.widget-view+json": {
       "model_id": "",
       "version_major": 2,
       "version_minor": 0
      },
      "text/plain": [
       "Validating: 0it [00:00, ?it/s]"
      ]
     },
     "metadata": {},
     "output_type": "display_data"
    },
    {
     "data": {
      "application/vnd.jupyter.widget-view+json": {
       "model_id": "",
       "version_major": 2,
       "version_minor": 0
      },
      "text/plain": [
       "Validating: 0it [00:00, ?it/s]"
      ]
     },
     "metadata": {},
     "output_type": "display_data"
    },
    {
     "data": {
      "application/vnd.jupyter.widget-view+json": {
       "model_id": "",
       "version_major": 2,
       "version_minor": 0
      },
      "text/plain": [
       "Validating: 0it [00:00, ?it/s]"
      ]
     },
     "metadata": {},
     "output_type": "display_data"
    },
    {
     "data": {
      "application/vnd.jupyter.widget-view+json": {
       "model_id": "",
       "version_major": 2,
       "version_minor": 0
      },
      "text/plain": [
       "Validating: 0it [00:00, ?it/s]"
      ]
     },
     "metadata": {},
     "output_type": "display_data"
    },
    {
     "name": "stderr",
     "output_type": "stream",
     "text": [
      "LOCAL_RANK: 0 - CUDA_VISIBLE_DEVICES: [0]\n"
     ]
    },
    {
     "data": {
      "application/vnd.jupyter.widget-view+json": {
       "model_id": "6938fae6b8ad4686bbc60f5c903e6fd1",
       "version_major": 2,
       "version_minor": 0
      },
      "text/plain": [
       "Testing: 0it [00:00, ?it/s]"
      ]
     },
     "metadata": {},
     "output_type": "display_data"
    },
    {
     "name": "stdout",
     "output_type": "stream",
     "text": [
      "--------------------------------------------------------------------------------\n",
      "DATALOADER:0 TEST RESULTS\n",
      "{'test_loss': 0.48515915870666504}\n",
      "--------------------------------------------------------------------------------\n"
     ]
    }
   ],
   "source": [
    "for split in splits :\n",
    "    \n",
    "    for iteration in range(5) :\n",
    "    \n",
    "        train_loader, val_loader, test_loader = get_loaders(split, iteration)\n",
    "        \n",
    "        experiment_name = f'{split}_split_{iteration}'\n",
    "        if not experiment_name in os.listdir('lightning_logs') :\n",
    "            litschnet = LitSchNet()\n",
    "            logger = TensorBoardLogger(save_dir=os.getcwd(), version=experiment_name, name=\"lightning_logs\")\n",
    "            trainer = pl.Trainer(logger=logger, callbacks=[EarlyStopping(monitor=\"val_loss\", patience=5)], gpus=1)\n",
    "            trainer.fit(litschnet, train_loader, val_loader)\n",
    "            trainer.test(litschnet, test_loader)\n",
    "            \n",
    "        experiment_name = f'{split}_split_{iteration}_molsize'\n",
    "        if not experiment_name in os.listdir('lightning_logs') :\n",
    "            molsize_model = MolSizeModel()\n",
    "            logger = TensorBoardLogger(save_dir=os.getcwd(), version=experiment_name, name=\"lightning_logs\")\n",
    "            trainer = pl.Trainer(logger=logger, callbacks=[EarlyStopping(monitor=\"val_loss\", patience=5)], gpus=1)\n",
    "            trainer.fit(molsize_model, train_loader, val_loader)\n",
    "            trainer.test(molsize_model, test_loader)"
   ]
  },
  {
   "cell_type": "code",
   "execution_count": 6,
   "id": "cee2eac1-c704-4536-87f2-4c5f6390b705",
   "metadata": {},
   "outputs": [
    {
     "name": "stderr",
     "output_type": "stream",
     "text": [
      "100%|█████████████████████████████████████████████| 4/4 [04:28<00:00, 67.00s/it]\n",
      "100%|█████████████████████████████████████████████| 4/4 [04:35<00:00, 68.79s/it]\n",
      "100%|█████████████████████████████████████████████| 4/4 [04:38<00:00, 69.62s/it]\n",
      "100%|█████████████████████████████████████████████| 4/4 [04:33<00:00, 68.49s/it]\n",
      "100%|█████████████████████████████████████████████| 4/4 [04:35<00:00, 68.89s/it]\n",
      "100%|█████████████████████████████████████████████| 4/4 [04:39<00:00, 69.82s/it]\n",
      "100%|█████████████████████████████████████████████| 4/4 [04:43<00:00, 70.97s/it]\n",
      "100%|█████████████████████████████████████████████| 4/4 [04:38<00:00, 69.63s/it]\n",
      "100%|█████████████████████████████████████████████| 4/4 [04:40<00:00, 70.05s/it]\n",
      "100%|█████████████████████████████████████████████| 4/4 [04:34<00:00, 68.64s/it]\n",
      "100%|████████████████████████████████████████████| 4/4 [07:27<00:00, 111.76s/it]\n",
      "100%|████████████████████████████████████████████| 4/4 [07:32<00:00, 113.11s/it]\n",
      "100%|████████████████████████████████████████████| 4/4 [07:30<00:00, 112.64s/it]\n",
      "100%|████████████████████████████████████████████| 4/4 [07:29<00:00, 112.28s/it]\n",
      "100%|████████████████████████████████████████████| 4/4 [07:28<00:00, 112.15s/it]\n"
     ]
    }
   ],
   "source": [
    "from collections import defaultdict\n",
    "n_bioactive_conformations = defaultdict(list)\n",
    "n_conformations = defaultdict(list)\n",
    "data_dir = 'data/'\n",
    "\n",
    "for split in splits :\n",
    "    \n",
    "    for iteration in range(5) :\n",
    "    \n",
    "        pdbbind_chunks = [filename for filename in os.listdir(os.path.join(data_dir, 'processed')) if filename.startswith('pdbbind')]\n",
    "        #pdbbind_n_chunks = len(pdbbind_chunks)\n",
    "        pdbbind_n_chunks = 4\n",
    "\n",
    "        train_datasets = []\n",
    "        val_datasets = []\n",
    "        test_datasets = []\n",
    "\n",
    "        if split in ['random', 'scaffold'] :\n",
    "\n",
    "            with open(os.path.join(data_dir, f'ligand_{split}_splits', f'train_smiles_{split}_split_{iteration}.txt'), 'r') as f :\n",
    "                train_smiles = f.readlines()\n",
    "                train_smiles = [smiles.strip() for smiles in train_smiles]\n",
    "\n",
    "            with open(os.path.join(data_dir, f'ligand_{split}_splits', f'val_smiles_{split}_split_{iteration}.txt'), 'r') as f :\n",
    "                val_smiles = f.readlines()\n",
    "                val_smiles = [smiles.strip() for smiles in val_smiles]\n",
    "\n",
    "            with open(os.path.join(data_dir, f'ligand_{split}_splits', f'test_smiles_{split}_split_{iteration}.txt'), 'r') as f :\n",
    "                test_smiles = f.readlines()\n",
    "                test_smiles = [smiles.strip() for smiles in test_smiles]\n",
    "\n",
    "            for chunk_number in tqdm(range(pdbbind_n_chunks)) :\n",
    "\n",
    "                dataset = ConfEnsembleDataset(loaded_chunk=chunk_number,\n",
    "                                              smiles_list=train_smiles)\n",
    "                train_datasets.append(dataset)\n",
    "\n",
    "                dataset = ConfEnsembleDataset(loaded_chunk=chunk_number,\n",
    "                                              smiles_list=val_smiles)\n",
    "                val_datasets.append(dataset)\n",
    "\n",
    "                dataset = ConfEnsembleDataset(loaded_chunk=chunk_number,\n",
    "                                              smiles_list=test_smiles)\n",
    "                test_datasets.append(dataset)\n",
    "\n",
    "        else : #protein split\n",
    "\n",
    "            with open(os.path.join(data_dir, 'protein_similarity_splits', f'train_pdb_protein_similarity_split_{iteration}.txt'), 'r') as f :\n",
    "                train_pdbs = f.readlines()\n",
    "                train_pdbs = [pdb.strip() for pdb in train_pdbs]\n",
    "\n",
    "            with open(os.path.join(data_dir, 'protein_similarity_splits', f'val_pdb_protein_similarity_split_{iteration}.txt'), 'r') as f :\n",
    "                val_pdbs = f.readlines()\n",
    "                val_pdbs = [pdb.strip() for pdb in val_pdbs]\n",
    "\n",
    "            with open(os.path.join(data_dir, 'protein_similarity_splits', f'test_pdb_protein_similarity_split_{iteration}.txt'), 'r') as f :\n",
    "                test_pdbs = f.readlines()\n",
    "                test_pdbs = [pdb.strip() for pdb in test_pdbs]\n",
    "\n",
    "            for chunk_number in tqdm(range(pdbbind_n_chunks)) :\n",
    "\n",
    "                dataset = ConfEnsembleDataset(loaded_chunk=chunk_number,\n",
    "                                              pdb_ids_list=train_pdbs)\n",
    "                train_datasets.append(dataset)\n",
    "\n",
    "                dataset = ConfEnsembleDataset(loaded_chunk=chunk_number,\n",
    "                                              pdb_ids_list=val_pdbs)\n",
    "                val_datasets.append(dataset)\n",
    "\n",
    "                dataset = ConfEnsembleDataset(loaded_chunk=chunk_number,\n",
    "                                              pdb_ids_list=test_pdbs)\n",
    "                test_datasets.append(dataset)\n",
    "\n",
    "        train_dataset = ConcatDataset(train_datasets)\n",
    "        val_dataset = ConcatDataset(val_datasets)\n",
    "        test_dataset = ConcatDataset(test_datasets)\n",
    "        \n",
    "        d = {\n",
    "            'train' : train_dataset,\n",
    "            'val' : val_dataset,\n",
    "            'test' : test_dataset\n",
    "        }\n",
    "        for s, dataset in d.items() :\n",
    "            n_conformations[s].append(len(dataset))\n",
    "            n_bio = 0\n",
    "            for data in dataset :\n",
    "                if data.rmsd == 0 :\n",
    "                    n_bio = n_bio + 1\n",
    "            n_bioactive_conformations[s].append(n_bio)"
   ]
  },
  {
   "cell_type": "code",
   "execution_count": 7,
   "id": "3b6f3cec-16b5-4f48-a9d6-43dd0592b31a",
   "metadata": {},
   "outputs": [
    {
     "data": {
      "text/plain": [
       "defaultdict(list,\n",
       "            {'train': [663311,\n",
       "              660776,\n",
       "              664804,\n",
       "              663873,\n",
       "              663678,\n",
       "              641347,\n",
       "              644081,\n",
       "              643457,\n",
       "              647182,\n",
       "              641304,\n",
       "              647812,\n",
       "              656059,\n",
       "              654465,\n",
       "              652408,\n",
       "              664808],\n",
       "             'val': [92502,\n",
       "              90048,\n",
       "              92768,\n",
       "              91319,\n",
       "              90925,\n",
       "              83061,\n",
       "              76645,\n",
       "              80580,\n",
       "              79627,\n",
       "              77341,\n",
       "              91794,\n",
       "              86286,\n",
       "              87041,\n",
       "              89268,\n",
       "              86884],\n",
       "             'test': [90702,\n",
       "              94593,\n",
       "              89409,\n",
       "              91563,\n",
       "              89860,\n",
       "              80214,\n",
       "              83896,\n",
       "              80585,\n",
       "              77813,\n",
       "              85977,\n",
       "              92624,\n",
       "              89541,\n",
       "              93168,\n",
       "              89448,\n",
       "              83047]})"
      ]
     },
     "execution_count": 7,
     "metadata": {},
     "output_type": "execute_result"
    }
   ],
   "source": [
    "n_conformations"
   ]
  },
  {
   "cell_type": "code",
   "execution_count": 8,
   "id": "53edb44e-acbf-470a-b203-0a71010c0b1c",
   "metadata": {},
   "outputs": [
    {
     "data": {
      "text/plain": [
       "defaultdict(list,\n",
       "            {'train': [10683,\n",
       "              10664,\n",
       "              10704,\n",
       "              10706,\n",
       "              10684,\n",
       "              9978,\n",
       "              10087,\n",
       "              9999,\n",
       "              10136,\n",
       "              10089,\n",
       "              10534,\n",
       "              10666,\n",
       "              10669,\n",
       "              10601,\n",
       "              10655],\n",
       "             'val': [1915,\n",
       "              1916,\n",
       "              1928,\n",
       "              1828,\n",
       "              1914,\n",
       "              1268,\n",
       "              1282,\n",
       "              1281,\n",
       "              1215,\n",
       "              1263,\n",
       "              1426,\n",
       "              1333,\n",
       "              1270,\n",
       "              1399,\n",
       "              1400],\n",
       "             'test': [1881,\n",
       "              1893,\n",
       "              1907,\n",
       "              1960,\n",
       "              1861,\n",
       "              1316,\n",
       "              1193,\n",
       "              1282,\n",
       "              1211,\n",
       "              1210,\n",
       "              1386,\n",
       "              1349,\n",
       "              1413,\n",
       "              1350,\n",
       "              1296]})"
      ]
     },
     "execution_count": 8,
     "metadata": {},
     "output_type": "execute_result"
    }
   ],
   "source": [
    "n_bioactive_conformations"
   ]
  }
 ],
 "metadata": {
  "kernelspec": {
   "display_name": "Python 3 (ipykernel)",
   "language": "python",
   "name": "python3"
  },
  "language_info": {
   "codemirror_mode": {
    "name": "ipython",
    "version": 3
   },
   "file_extension": ".py",
   "mimetype": "text/x-python",
   "name": "python",
   "nbconvert_exporter": "python",
   "pygments_lexer": "ipython3",
   "version": "3.7.10"
  },
  "widgets": {
   "application/vnd.jupyter.widget-state+json": {
    "state": {},
    "version_major": 2,
    "version_minor": 0
   }
  }
 },
 "nbformat": 4,
 "nbformat_minor": 5
}
