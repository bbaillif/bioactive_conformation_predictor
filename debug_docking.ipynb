{
 "cells": [
  {
   "cell_type": "code",
   "execution_count": 1,
   "id": "f48ff9c5-ad99-43dd-bff5-8b56d8ca7fea",
   "metadata": {},
   "outputs": [],
   "source": [
    "from gold_docker import GOLDDocker\n",
    "from ccdc.io import MoleculeReader, MoleculeWriter"
   ]
  },
  {
   "cell_type": "code",
   "execution_count": 2,
   "id": "f6828690-925b-4bd8-a4ff-ee8832daccb7",
   "metadata": {},
   "outputs": [],
   "source": [
    "protein_path = '/home/benoit/DUD-E/all/cp3a4/receptor.pdb'\n",
    "native_ligand_path = '/home/benoit/DUD-E/all/cp3a4/crystal_ligand.mol2'\n",
    "experiment_id = 'test_cp3a4_docking'\n",
    "output_dir = '.'\n",
    "binding_site_distance = 12"
   ]
  },
  {
   "cell_type": "code",
   "execution_count": 3,
   "id": "0dd26b1b-2bb0-4788-a0bd-72a264f0590e",
   "metadata": {},
   "outputs": [],
   "source": [
    "gold_docker = GOLDDocker(protein_path, native_ligand_path, experiment_id, output_dir,\n",
    "                   binding_site_distance=binding_site_distance)"
   ]
  },
  {
   "cell_type": "code",
   "execution_count": 4,
   "id": "c5e0acad-f5f4-4a01-911c-4771e7c56b4c",
   "metadata": {},
   "outputs": [],
   "source": [
    "actives_path = '../DUD-E/all/cp3a4/actives_final.mol2.gz'\n",
    "active_mols_reader = MoleculeReader(actives_path)\n",
    "active_mols = [mol for mol in active_mols_reader]"
   ]
  },
  {
   "cell_type": "code",
   "execution_count": 5,
   "id": "5119723d-8207-446b-bd9d-12aa5c2ec0f1",
   "metadata": {},
   "outputs": [],
   "source": [
    "active_mol = active_mols[0]"
   ]
  },
  {
   "cell_type": "code",
   "execution_count": 6,
   "id": "6f212c27-9f94-43b4-a706-96ef2d7bf5cc",
   "metadata": {},
   "outputs": [],
   "source": [
    "decoys_path = '../DUD-E/all/cp3a4/decoys_final.mol2.gz'\n",
    "decoy_mols_reader = MoleculeReader(decoys_path)\n",
    "decoy_mols = [mol for mol in decoy_mols_reader]\n",
    "decoy_mol = decoy_mols[0]"
   ]
  },
  {
   "cell_type": "code",
   "execution_count": 7,
   "id": "2dcdcbf2-82ce-4d46-8eb2-1ecbff94bb96",
   "metadata": {},
   "outputs": [
    {
     "data": {
      "text/plain": [
       "<ccdc.molecule.Molecule at 0x7f403beba450>"
      ]
     },
     "execution_count": 7,
     "metadata": {},
     "output_type": "execute_result"
    }
   ],
   "source": [
    "decoy_mol"
   ]
  },
  {
   "cell_type": "code",
   "execution_count": 8,
   "id": "7d0aa895-d640-4d23-ae07-931186195f9c",
   "metadata": {},
   "outputs": [],
   "source": [
    "from ccdc_rdkit_connector import CcdcRdkitConnector\n",
    "rdkit_mol = CcdcRdkitConnector().ccdc_mol_to_rdkit_mol(decoy_mol)"
   ]
  },
  {
   "cell_type": "code",
   "execution_count": 9,
   "id": "346a3471-1572-4734-b5e0-54d12ac3588b",
   "metadata": {},
   "outputs": [
    {
     "data": {
      "application/vnd.jupyter.widget-view+json": {
       "model_id": "2b39a40a97054f04b55d932ca16048cc",
       "version_major": 2,
       "version_minor": 0
      },
      "text/plain": [
       "interactive(children=(BoundedIntText(value=0, description='Conformer ID:', max=0), Output()), _dom_classes=('w…"
      ]
     },
     "metadata": {},
     "output_type": "display_data"
    },
    {
     "data": {
      "application/vnd.jupyter.widget-view+json": {
       "model_id": "88af806d3ba5481aa54c07f6a3755259",
       "version_major": 2,
       "version_minor": 0
      },
      "text/plain": [
       "BoundedIntText(value=0, description='Conformer ID:', max=0)"
      ]
     },
     "metadata": {},
     "output_type": "display_data"
    }
   ],
   "source": [
    "from molconfviewer import MolConfViewer\n",
    "MolConfViewer().view(rdkit_mol)"
   ]
  },
  {
   "cell_type": "code",
   "execution_count": 11,
   "id": "685f5654-05f9-412e-bcde-c3c1fadab670",
   "metadata": {},
   "outputs": [
    {
     "name": "stdout",
     "output_type": "stream",
     "text": [
      "Starting GOLD with conf file /home/benoit/bioactive_conformation_predictor/test_cp3a4_docking/decoy_0/api_gold.conf\n",
      "Setting up GOLD environment...\n",
      "GOLD Version 2021.2.0\n",
      "Running:\n",
      " \n",
      "     \"/home/benoit/CCDC/Discovery_2021/GOLD/gold/d_linux_64/bin/gold_linux_64\" \"/home/benoit/bioactive_conformation_predictor/test_cp3a4_docking/decoy_0/api_gold.conf\"\n",
      "\n"
     ]
    },
    {
     "data": {
      "text/plain": [
       "<ccdc.docking.Docker.Results at 0x7f403ad23cd0>"
      ]
     },
     "execution_count": 11,
     "metadata": {},
     "output_type": "execute_result"
    }
   ],
   "source": [
    "mol_id = 'decoy_0'\n",
    "n_poses = 1\n",
    "rigid = True\n",
    "gold_docker.dock_molecule(decoy_mol, mol_id, n_poses, rigid)"
   ]
  },
  {
   "cell_type": "code",
   "execution_count": 68,
   "id": "fff88679-d997-4515-8488-c31ab344e256",
   "metadata": {},
   "outputs": [
    {
     "name": "stdout",
     "output_type": "stream",
     "text": [
      "Starting GOLD with conf file /home/benoit/bioactive_conformation_predictor/api_gold.conf\n",
      "Setting up GOLD environment...\n",
      "GOLD Version 2021.2.0\n",
      "Running:\n",
      " \n",
      "     \"/home/benoit/CCDC/Discovery_2021/GOLD/gold/d_linux_64/bin/gold_linux_64\" \"/home/benoit/bioactive_conformation_predictor/api_gold.conf\"\n",
      "\n",
      "Fatal error: \n",
      "do_ullman: query size larger than target\n",
      "\n"
     ]
    },
    {
     "data": {
      "text/plain": [
       "<ccdc.docking.Docker.Results at 0x7ff09e478710>"
      ]
     },
     "execution_count": 68,
     "metadata": {},
     "output_type": "execute_result"
    }
   ],
   "source": [
    "from ccdc.docking import Docker\n",
    "from ccdc.io import Entry\n",
    "docker = Docker()\n",
    "ligand_preparation = Docker.LigandPreparation()\n",
    "\n",
    "settings = docker.settings\n",
    "settings.fitness_function = 'plp'\n",
    "settings.add_protein_file(protein_path)\n",
    "settings.reference_ligand_file = native_ligand_path\n",
    "protein = settings.proteins[0]\n",
    "native_ligand = MoleculeReader(native_ligand_path)[0]\n",
    "bs = settings.BindingSiteFromLigand(protein=protein, ligand=native_ligand)\n",
    "settings.binding_site = bs\n",
    "\n",
    "settings.write_options = ['NO_FIT_PTS_FILES', \n",
    "                                       'NO_LOG_FILES',\n",
    "                                       'NO_RNK_FILES']\n",
    "\n",
    "settings.clear_ligand_files()\n",
    "ligand_filename = 'test_ligand.mol2'\n",
    "ligand = ligand_preparation.prepare(Entry.from_molecule(active_mol))\n",
    "# with MoleculeWriter(ligand_filename) as writer :\n",
    "#     writer.write(active_mol)\n",
    "mol2_string = ligand.to_string(format='mol2')\n",
    "with open(ligand_filename, 'w') as writer :\n",
    "    writer.write(mol2_string)\n",
    "settings.add_ligand_file(ligand_filename, 1)\n",
    "settings.fix_ligand_rotatable_bonds = 'all'\n",
    "\n",
    "settings.output_directory = '/home/benoit/bioactive_conformation_predictor/test_cp3a4_docking/active_0'\n",
    "settings.output_file = '/home/benoit/bioactive_conformation_predictor/test_cp3a4_docking/active_0/docked_ligands.mol2'\n",
    "docker.dock()"
   ]
  },
  {
   "cell_type": "code",
   "execution_count": 61,
   "id": "05dbd5a6-be54-4317-bea0-edc54361fc1a",
   "metadata": {},
   "outputs": [
    {
     "name": "stdout",
     "output_type": "stream",
     "text": [
      "Starting GOLD with conf file /home/benoit/bioactive_conformation_predictor/test_cp3a4_docking/active_0/api_gold.conf\n",
      "Setting up GOLD environment...\n",
      "GOLD Version 2021.2.0\n",
      "Running:\n",
      " \n",
      "     \"/home/benoit/CCDC/Discovery_2021/GOLD/gold/d_linux_64/bin/gold_linux_64\" \"/home/benoit/bioactive_conformation_predictor/test_cp3a4_docking/active_0/api_gold.conf\"\n",
      "\n",
      "Fatal error: \n",
      "do_ullman: query size larger than target\n",
      "\n"
     ]
    },
    {
     "ename": "FailedGOLDDockingException",
     "evalue": "GOLD did not return 0, docking failed",
     "output_type": "error",
     "traceback": [
      "\u001b[0;31m---------------------------------------------------------------------------\u001b[0m",
      "\u001b[0;31mFailedGOLDDockingException\u001b[0m                Traceback (most recent call last)",
      "\u001b[0;32m/tmp/ipykernel_1188746/3883916375.py\u001b[0m in \u001b[0;36m<module>\u001b[0;34m\u001b[0m\n\u001b[1;32m      2\u001b[0m \u001b[0mn_poses\u001b[0m \u001b[0;34m=\u001b[0m \u001b[0;36m1\u001b[0m\u001b[0;34m\u001b[0m\u001b[0;34m\u001b[0m\u001b[0m\n\u001b[1;32m      3\u001b[0m \u001b[0mrigid\u001b[0m \u001b[0;34m=\u001b[0m \u001b[0;32mTrue\u001b[0m\u001b[0;34m\u001b[0m\u001b[0;34m\u001b[0m\u001b[0m\n\u001b[0;32m----> 4\u001b[0;31m \u001b[0mgold_docker\u001b[0m\u001b[0;34m.\u001b[0m\u001b[0mdock_molecule\u001b[0m\u001b[0;34m(\u001b[0m\u001b[0mactive_mol\u001b[0m\u001b[0;34m,\u001b[0m \u001b[0mmol_id\u001b[0m\u001b[0;34m,\u001b[0m \u001b[0mn_poses\u001b[0m\u001b[0;34m,\u001b[0m \u001b[0mrigid\u001b[0m\u001b[0;34m)\u001b[0m\u001b[0;34m\u001b[0m\u001b[0;34m\u001b[0m\u001b[0m\n\u001b[0m",
      "\u001b[0;32m~/bioactive_conformation_predictor/gold_docker.py\u001b[0m in \u001b[0;36mdock_molecule\u001b[0;34m(self, ccdc_mol, mol_id, n_poses, rigid, return_runtime)\u001b[0m\n\u001b[1;32m    135\u001b[0m                                     \u001b[0mn_poses\u001b[0m\u001b[0;34m=\u001b[0m\u001b[0mn_poses\u001b[0m\u001b[0;34m,\u001b[0m\u001b[0;34m\u001b[0m\u001b[0;34m\u001b[0m\u001b[0m\n\u001b[1;32m    136\u001b[0m                                     \u001b[0mrigid\u001b[0m\u001b[0;34m=\u001b[0m\u001b[0mrigid\u001b[0m\u001b[0;34m,\u001b[0m\u001b[0;34m\u001b[0m\u001b[0;34m\u001b[0m\u001b[0m\n\u001b[0;32m--> 137\u001b[0;31m                                     return_runtime=return_runtime)\n\u001b[0m\u001b[1;32m    138\u001b[0m \u001b[0;34m\u001b[0m\u001b[0m\n\u001b[1;32m    139\u001b[0m     def dock_molecules(self, \n",
      "\u001b[0;32m~/bioactive_conformation_predictor/gold_docker.py\u001b[0m in \u001b[0;36mdock_molecules\u001b[0;34m(self, ccdc_mols, mol_id, n_poses, rigid, return_runtime)\u001b[0m\n\u001b[1;32m    192\u001b[0m             \u001b[0mresults\u001b[0m \u001b[0;34m=\u001b[0m \u001b[0mself\u001b[0m\u001b[0;34m.\u001b[0m\u001b[0mdocker\u001b[0m\u001b[0;34m.\u001b[0m\u001b[0mdock\u001b[0m\u001b[0;34m(\u001b[0m\u001b[0mfile_name\u001b[0m\u001b[0;34m=\u001b[0m\u001b[0mconf_file_name\u001b[0m\u001b[0;34m)\u001b[0m\u001b[0;34m\u001b[0m\u001b[0;34m\u001b[0m\u001b[0m\n\u001b[1;32m    193\u001b[0m             \u001b[0;32mif\u001b[0m \u001b[0mresults\u001b[0m\u001b[0;34m.\u001b[0m\u001b[0mreturn_code\u001b[0m \u001b[0;34m:\u001b[0m\u001b[0;34m\u001b[0m\u001b[0;34m\u001b[0m\u001b[0m\n\u001b[0;32m--> 194\u001b[0;31m                 \u001b[0;32mraise\u001b[0m \u001b[0mFailedGOLDDockingException\u001b[0m\u001b[0;34m(\u001b[0m\u001b[0;34m)\u001b[0m\u001b[0;34m\u001b[0m\u001b[0;34m\u001b[0m\u001b[0m\n\u001b[0m\u001b[1;32m    195\u001b[0m             \u001b[0mruntime\u001b[0m \u001b[0;34m=\u001b[0m \u001b[0mtime\u001b[0m\u001b[0;34m.\u001b[0m\u001b[0mtime\u001b[0m\u001b[0;34m(\u001b[0m\u001b[0;34m)\u001b[0m \u001b[0;34m-\u001b[0m \u001b[0mstart_time\u001b[0m\u001b[0;34m\u001b[0m\u001b[0;34m\u001b[0m\u001b[0m\n\u001b[1;32m    196\u001b[0m \u001b[0;34m\u001b[0m\u001b[0m\n",
      "\u001b[0;31mFailedGOLDDockingException\u001b[0m: GOLD did not return 0, docking failed"
     ]
    }
   ],
   "source": [
    "mol_id = 'active_0'\n",
    "n_poses = 1\n",
    "rigid = True\n",
    "gold_docker.dock_molecule(active_mol, mol_id, n_poses, rigid)"
   ]
  },
  {
   "cell_type": "code",
   "execution_count": 66,
   "id": "0f839749-5644-4061-9969-b7ce53c0dda4",
   "metadata": {},
   "outputs": [
    {
     "data": {
      "text/plain": [
       "<ccdc.docking.Docker.Settings at 0x7ff09e0f0d90>"
      ]
     },
     "execution_count": 66,
     "metadata": {},
     "output_type": "execute_result"
    }
   ],
   "source": [
    "gold_docker.settings"
   ]
  }
 ],
 "metadata": {
  "kernelspec": {
   "display_name": "Python 3 (ipykernel)",
   "language": "python",
   "name": "python3"
  },
  "language_info": {
   "codemirror_mode": {
    "name": "ipython",
    "version": 3
   },
   "file_extension": ".py",
   "mimetype": "text/x-python",
   "name": "python",
   "nbconvert_exporter": "python",
   "pygments_lexer": "ipython3",
   "version": "3.7.10"
  },
  "widgets": {
   "application/vnd.jupyter.widget-state+json": {
    "state": {
     "2b39a40a97054f04b55d932ca16048cc": {
      "model_module": "@jupyter-widgets/controls",
      "model_module_version": "1.5.0",
      "model_name": "VBoxModel",
      "state": {
       "_dom_classes": [
        "widget-interact"
       ],
       "children": [
        "IPY_MODEL_88af806d3ba5481aa54c07f6a3755259",
        "IPY_MODEL_5f2af9021e924afa99303db3984c8ec5"
       ],
       "layout": "IPY_MODEL_b21563bd62624778b2b9a5c304148738"
      }
     },
     "5f2af9021e924afa99303db3984c8ec5": {
      "model_module": "@jupyter-widgets/output",
      "model_module_version": "1.0.0",
      "model_name": "OutputModel",
      "state": {
       "layout": "IPY_MODEL_cf8ed1009eec4315b899988fab980cc2",
       "outputs": [
        {
         "data": {
          "application/3dmoljs_load.v0": "<div id=\"3dmolviewer_16545372746119103\"  style=\"position: relative; width: 300px; height: 300px\">\n        <p id=\"3dmolwarning_16545372746119103\" style=\"background-color:#ffcccc;color:black\">You appear to be running in JupyterLab (or JavaScript failed to load for some other reason).  You need to install the 3dmol extension: <br>\n        <tt>jupyter labextension install jupyterlab_3dmol</tt></p>\n        </div>\n<script>\n\nvar loadScriptAsync = function(uri){\n  return new Promise((resolve, reject) => {\n    var tag = document.createElement('script');\n    tag.src = uri;\n    tag.async = true;\n    tag.onload = () => {\n      resolve();\n    };\n  var firstScriptTag = document.getElementsByTagName('script')[0];\n  firstScriptTag.parentNode.insertBefore(tag, firstScriptTag);\n});\n};\n\nif(typeof $3Dmolpromise === 'undefined') {\n$3Dmolpromise = null;\n  $3Dmolpromise = loadScriptAsync('https://3dmol.org/build/3Dmol.js');\n}\n\nvar viewer_16545372746119103 = null;\nvar warn = document.getElementById(\"3dmolwarning_16545372746119103\");\nif(warn) {\n    warn.parentNode.removeChild(warn);\n}\n$3Dmolpromise.then(function() {\nviewer_16545372746119103 = $3Dmol.createViewer($(\"#3dmolviewer_16545372746119103\"),{backgroundColor:\"white\"});\nviewer_16545372746119103.zoomTo();\n\tviewer_16545372746119103.addModel(\"ZINC03846921\\n     RDKit          3D\\n\\n 31 33  0  0  0  0  0  0  0  0999 V2000\\n    3.6445   10.8680   -0.3935 C   0  0  0  0  0  0  0  0  0  0  0  0\\n    4.7064   10.2079    0.1985 C   0  0  0  0  0  0  0  0  0  0  0  0\\n    4.6981    8.8316    0.2972 C   0  0  0  0  0  0  0  0  0  0  0  0\\n    3.6166    8.1061   -0.2012 C   0  0  0  0  0  0  0  0  0  0  0  0\\n    2.5519    8.7766   -0.8019 C   0  0  0  0  0  0  0  0  0  0  0  0\\n    2.5688   10.1537   -0.8898 C   0  0  0  0  0  0  0  0  0  0  0  0\\n    3.6017    6.6277   -0.0982 C   0  0  0  0  0  0  0  0  0  0  0  0\\n    2.3469    5.9096    0.1735 C   0  0  0  0  0  0  0  0  0  0  0  0\\n    0.8808    6.7704    0.3746 S   0  0  0  0  0  0  0  0  0  0  0  0\\n    2.3679    4.5639    0.2662 N   0  0  0  0  0  0  0  0  0  0  0  0\\n    3.5230    3.8932    0.1011 C   0  0  0  0  0  0  0  0  0  0  0  0\\n    3.5259    2.6800    0.1825 O   0  0  0  0  0  0  0  0  0  0  0  0\\n    4.6739    4.5407   -0.1517 N   0  0  0  0  0  0  0  0  0  0  0  0\\n    5.5180    4.0177   -0.2695 H   0  0  0  0  0  0  0  0  0  0  0  0\\n    4.7074    5.9367   -0.2524 N   0  0  0  0  0  0  0  0  0  0  0  0\\n    1.1837    3.8626    0.5291 C   0  0  0  0  0  0  0  0  0  0  0  0\\n    0.3812    3.4353   -0.5206 C   0  0  0  0  0  0  0  0  0  0  0  0\\n   -0.7855    2.7438   -0.2601 C   0  0  0  0  0  0  0  0  0  0  0  0\\n   -1.1530    2.4712    1.0469 C   0  0  0  0  0  0  0  0  0  0  0  0\\n   -0.3568    2.9015    2.0963 C   0  0  0  0  0  0  0  0  0  0  0  0\\n    0.8116    3.5938    1.8393 C   0  0  0  0  0  0  0  0  0  0  0  0\\n   -0.8234    2.5646    3.7342 Cl  0  0  0  0  0  0  0  0  0  0  0  0\\n   -2.2916    1.7894    1.2994 F   0  0  0  0  0  0  0  0  0  0  0  0\\n    3.6552   11.9454   -0.4682 H   0  0  0  0  0  0  0  0  0  0  0  0\\n    5.5433   10.7709    0.5844 H   0  0  0  0  0  0  0  0  0  0  0  0\\n    5.5275    8.3173    0.7599 H   0  0  0  0  0  0  0  0  0  0  0  0\\n    1.7136    8.2197   -1.1937 H   0  0  0  0  0  0  0  0  0  0  0  0\\n    1.7427   10.6744   -1.3512 H   0  0  0  0  0  0  0  0  0  0  0  0\\n    0.6695    3.6433   -1.5404 H   0  0  0  0  0  0  0  0  0  0  0  0\\n   -1.4097    2.4119   -1.0765 H   0  0  0  0  0  0  0  0  0  0  0  0\\n    1.4342    3.9257    2.6569 H   0  0  0  0  0  0  0  0  0  0  0  0\\n  1  6  2  0\\n  1  2  1  0\\n  1 24  1  0\\n  2  3  2  0\\n  2 25  1  0\\n  3  4  1  0\\n  3 26  1  0\\n  4  5  2  0\\n  4  7  1  0\\n  5  6  1  0\\n  5 27  1  0\\n  6 28  1  0\\n  7 15  2  0\\n  7  8  1  0\\n  8  9  2  0\\n  8 10  1  0\\n 10 11  1  0\\n 10 16  1  0\\n 11 12  2  0\\n 11 13  1  0\\n 13 14  1  0\\n 13 15  1  0\\n 16 21  1  0\\n 16 17  2  0\\n 17 18  1  0\\n 17 29  1  0\\n 18 19  2  0\\n 18 30  1  0\\n 19 20  1  0\\n 19 23  1  0\\n 20 21  2  0\\n 20 22  1  0\\n 21 31  1  0\\nM  END\\n\",\"mol\");\n\tviewer_16545372746119103.setStyle({\"stick\": {}, \"sphere\": {\"scale\": 0.25}});\n\tviewer_16545372746119103.zoomTo();\nviewer_16545372746119103.render();\n});\n</script>",
          "text/html": "<div id=\"3dmolviewer_16545372746119103\"  style=\"position: relative; width: 300px; height: 300px\">\n        <p id=\"3dmolwarning_16545372746119103\" style=\"background-color:#ffcccc;color:black\">You appear to be running in JupyterLab (or JavaScript failed to load for some other reason).  You need to install the 3dmol extension: <br>\n        <tt>jupyter labextension install jupyterlab_3dmol</tt></p>\n        </div>\n<script>\n\nvar loadScriptAsync = function(uri){\n  return new Promise((resolve, reject) => {\n    var tag = document.createElement('script');\n    tag.src = uri;\n    tag.async = true;\n    tag.onload = () => {\n      resolve();\n    };\n  var firstScriptTag = document.getElementsByTagName('script')[0];\n  firstScriptTag.parentNode.insertBefore(tag, firstScriptTag);\n});\n};\n\nif(typeof $3Dmolpromise === 'undefined') {\n$3Dmolpromise = null;\n  $3Dmolpromise = loadScriptAsync('https://3dmol.org/build/3Dmol.js');\n}\n\nvar viewer_16545372746119103 = null;\nvar warn = document.getElementById(\"3dmolwarning_16545372746119103\");\nif(warn) {\n    warn.parentNode.removeChild(warn);\n}\n$3Dmolpromise.then(function() {\nviewer_16545372746119103 = $3Dmol.createViewer($(\"#3dmolviewer_16545372746119103\"),{backgroundColor:\"white\"});\nviewer_16545372746119103.zoomTo();\n\tviewer_16545372746119103.addModel(\"ZINC03846921\\n     RDKit          3D\\n\\n 31 33  0  0  0  0  0  0  0  0999 V2000\\n    3.6445   10.8680   -0.3935 C   0  0  0  0  0  0  0  0  0  0  0  0\\n    4.7064   10.2079    0.1985 C   0  0  0  0  0  0  0  0  0  0  0  0\\n    4.6981    8.8316    0.2972 C   0  0  0  0  0  0  0  0  0  0  0  0\\n    3.6166    8.1061   -0.2012 C   0  0  0  0  0  0  0  0  0  0  0  0\\n    2.5519    8.7766   -0.8019 C   0  0  0  0  0  0  0  0  0  0  0  0\\n    2.5688   10.1537   -0.8898 C   0  0  0  0  0  0  0  0  0  0  0  0\\n    3.6017    6.6277   -0.0982 C   0  0  0  0  0  0  0  0  0  0  0  0\\n    2.3469    5.9096    0.1735 C   0  0  0  0  0  0  0  0  0  0  0  0\\n    0.8808    6.7704    0.3746 S   0  0  0  0  0  0  0  0  0  0  0  0\\n    2.3679    4.5639    0.2662 N   0  0  0  0  0  0  0  0  0  0  0  0\\n    3.5230    3.8932    0.1011 C   0  0  0  0  0  0  0  0  0  0  0  0\\n    3.5259    2.6800    0.1825 O   0  0  0  0  0  0  0  0  0  0  0  0\\n    4.6739    4.5407   -0.1517 N   0  0  0  0  0  0  0  0  0  0  0  0\\n    5.5180    4.0177   -0.2695 H   0  0  0  0  0  0  0  0  0  0  0  0\\n    4.7074    5.9367   -0.2524 N   0  0  0  0  0  0  0  0  0  0  0  0\\n    1.1837    3.8626    0.5291 C   0  0  0  0  0  0  0  0  0  0  0  0\\n    0.3812    3.4353   -0.5206 C   0  0  0  0  0  0  0  0  0  0  0  0\\n   -0.7855    2.7438   -0.2601 C   0  0  0  0  0  0  0  0  0  0  0  0\\n   -1.1530    2.4712    1.0469 C   0  0  0  0  0  0  0  0  0  0  0  0\\n   -0.3568    2.9015    2.0963 C   0  0  0  0  0  0  0  0  0  0  0  0\\n    0.8116    3.5938    1.8393 C   0  0  0  0  0  0  0  0  0  0  0  0\\n   -0.8234    2.5646    3.7342 Cl  0  0  0  0  0  0  0  0  0  0  0  0\\n   -2.2916    1.7894    1.2994 F   0  0  0  0  0  0  0  0  0  0  0  0\\n    3.6552   11.9454   -0.4682 H   0  0  0  0  0  0  0  0  0  0  0  0\\n    5.5433   10.7709    0.5844 H   0  0  0  0  0  0  0  0  0  0  0  0\\n    5.5275    8.3173    0.7599 H   0  0  0  0  0  0  0  0  0  0  0  0\\n    1.7136    8.2197   -1.1937 H   0  0  0  0  0  0  0  0  0  0  0  0\\n    1.7427   10.6744   -1.3512 H   0  0  0  0  0  0  0  0  0  0  0  0\\n    0.6695    3.6433   -1.5404 H   0  0  0  0  0  0  0  0  0  0  0  0\\n   -1.4097    2.4119   -1.0765 H   0  0  0  0  0  0  0  0  0  0  0  0\\n    1.4342    3.9257    2.6569 H   0  0  0  0  0  0  0  0  0  0  0  0\\n  1  6  2  0\\n  1  2  1  0\\n  1 24  1  0\\n  2  3  2  0\\n  2 25  1  0\\n  3  4  1  0\\n  3 26  1  0\\n  4  5  2  0\\n  4  7  1  0\\n  5  6  1  0\\n  5 27  1  0\\n  6 28  1  0\\n  7 15  2  0\\n  7  8  1  0\\n  8  9  2  0\\n  8 10  1  0\\n 10 11  1  0\\n 10 16  1  0\\n 11 12  2  0\\n 11 13  1  0\\n 13 14  1  0\\n 13 15  1  0\\n 16 21  1  0\\n 16 17  2  0\\n 17 18  1  0\\n 17 29  1  0\\n 18 19  2  0\\n 18 30  1  0\\n 19 20  1  0\\n 19 23  1  0\\n 20 21  2  0\\n 20 22  1  0\\n 21 31  1  0\\nM  END\\n\",\"mol\");\n\tviewer_16545372746119103.setStyle({\"stick\": {}, \"sphere\": {\"scale\": 0.25}});\n\tviewer_16545372746119103.zoomTo();\nviewer_16545372746119103.render();\n});\n</script>"
         },
         "metadata": {},
         "output_type": "display_data"
        },
        {
         "data": {
          "text/plain": "<py3Dmol.view at 0x7f403ad33250>"
         },
         "metadata": {},
         "output_type": "display_data"
        }
       ]
      }
     },
     "73fa767dd4df45d1af4cc4ea7dc8f7db": {
      "model_module": "@jupyter-widgets/controls",
      "model_module_version": "1.5.0",
      "model_name": "DescriptionStyleModel",
      "state": {
       "description_width": ""
      }
     },
     "88af806d3ba5481aa54c07f6a3755259": {
      "model_module": "@jupyter-widgets/controls",
      "model_module_version": "1.5.0",
      "model_name": "BoundedIntTextModel",
      "state": {
       "description": "Conformer ID:",
       "layout": "IPY_MODEL_ff42fa35ad774f43bc168de3a46ca887",
       "max": 0,
       "style": "IPY_MODEL_73fa767dd4df45d1af4cc4ea7dc8f7db"
      }
     },
     "b21563bd62624778b2b9a5c304148738": {
      "model_module": "@jupyter-widgets/base",
      "model_module_version": "1.2.0",
      "model_name": "LayoutModel",
      "state": {}
     },
     "cf8ed1009eec4315b899988fab980cc2": {
      "model_module": "@jupyter-widgets/base",
      "model_module_version": "1.2.0",
      "model_name": "LayoutModel",
      "state": {}
     },
     "ff42fa35ad774f43bc168de3a46ca887": {
      "model_module": "@jupyter-widgets/base",
      "model_module_version": "1.2.0",
      "model_name": "LayoutModel",
      "state": {}
     }
    },
    "version_major": 2,
    "version_minor": 0
   }
  }
 },
 "nbformat": 4,
 "nbformat_minor": 5
}
