{
 "cells": [
  {
   "cell_type": "code",
   "execution_count": 1,
   "id": "b141c89e-b103-44f1-ae4d-ac20d0d5f9e7",
   "metadata": {},
   "outputs": [],
   "source": [
    "import numpy as np\n",
    "import pandas as pd\n",
    "import json\n",
    "from rdkit import Chem\n",
    "from rdkit.Chem import AllChem\n",
    "from rdkit import DataStructs\n",
    "from rdkit.DataManip.Metric.rdMetricMatrixCalc import GetTanimotoSimMat\n",
    "from rdkit.DataStructs.cDataStructs import BulkTanimotoSimilarity\n",
    "from scipy.spatial.distance import squareform\n",
    "from scipy.cluster.hierarchy import linkage, fcluster"
   ]
  },
  {
   "cell_type": "code",
   "execution_count": 28,
   "id": "194bfd8a-07b6-4afd-9fa3-686a8a26c4c0",
   "metadata": {},
   "outputs": [],
   "source": [
    "class MoleculeSimilarity() :\n",
    "    \n",
    "    def __init__(self, smiles_list) :\n",
    "        self.smiles_list = self.remove_duplicated_smiles(smiles_list)\n",
    "        self.mols = [Chem.MolFromSmiles(smiles) for smiles in self.smiles_list]\n",
    "        self.fps = [self.get_morgan_fingerprint(mol) for mol in self.mols]\n",
    "        self.sim_matrix = self.get_sim_matrix()\n",
    "        print('Similarity matrix ready')\n",
    "        \n",
    "    def remove_duplicated_smiles(self, smiles_list) :\n",
    "        new_list = []\n",
    "        for smiles in smiles_list :\n",
    "            if not smiles in new_list :\n",
    "                new_list.append(smiles)\n",
    "        return new_list\n",
    "        \n",
    "    def get_sim_matrix(self) :\n",
    "#         sim_triangle = GetTanimotoSimMat(self.fps)\n",
    "#         sim_matrix = self.tri2mat(sim_triangle)\n",
    "#         return sim_matrix\n",
    "        \n",
    "        n_fps = len(self.fps)\n",
    "        sim_matrix = np.eye(n_fps)\n",
    "        for i, fp1 in enumerate(self.fps) :\n",
    "            fp1 = self.fps[i]\n",
    "            other_fps = self.fps[i+1:]\n",
    "            sims = BulkTanimotoSimilarity(fp1, other_fps)\n",
    "            for j, sim in enumerate(sims) :\n",
    "                sim_matrix[i, i + 1 + j] = sim_matrix[i + 1 + j, i] = sim\n",
    "        return sim_matrix\n",
    "        \n",
    "    def get_morgan_fingerprint(self, mol) :\n",
    "        return AllChem.GetMorganFingerprintAsBitVect(mol, 3, useChirality=True)\n",
    "        \n",
    "    def get_similarity(self, fp1, fp2) :\n",
    "        return DataStructs.TanimotoSimilarity(fp1, fp2)\n",
    "        \n",
    "    def find_closest_in_set(self, smiles, n=1) :\n",
    "        \n",
    "        #import pdb; pdb.set_trace()\n",
    "        \n",
    "        if smiles in self.smiles_list :\n",
    "            smiles_index = self.smiles_list.index(smiles)\n",
    "            sims = self.sim_matrix[smiles_index]\n",
    "            sims = [sim for i, sim in enumerate(sims) if i != smiles_index]\n",
    "            smiles_list = [s for i, s in enumerate(self.smiles_list) if i != smiles_index]\n",
    "        else :\n",
    "            input_mol = Chem.MolFromSmiles(smiles)\n",
    "            input_fp = self.get_morgan_fingerprint(input_mol)\n",
    "            sims = [self.get_similarity(input_fp, fp2) for fp2 in self.fps]\n",
    "            smiles_list = self.smiles_list\n",
    "            \n",
    "        sims = np.array(sims)\n",
    "        best_sim_indexes = np.argsort(-sims)[:n] # negate to get best\n",
    "        closest_smiles = [smiles_list[i] for i in best_sim_indexes]\n",
    "        closest_sims = sims[best_sim_indexes]\n",
    "        return closest_smiles, closest_sims\n",
    "        \n",
    "    def tri2mat(self, tri_arr):\n",
    "        n = len(tri_arr)\n",
    "        m = int((np.sqrt(1 + 4 * 2 * n) + 1) / 2)\n",
    "        arr = np.ones([m, m])\n",
    "        for i in range(m):\n",
    "            for j in range(i):\n",
    "                arr[i][j] = tri_arr[i + j - 1]\n",
    "                arr[j][i] = tri_arr[i + j - 1]\n",
    "        return arr"
   ]
  },
  {
   "cell_type": "code",
   "execution_count": 29,
   "id": "1cb5d050-63cd-46aa-ae37-f94a20e4552b",
   "metadata": {},
   "outputs": [
    {
     "name": "stdout",
     "output_type": "stream",
     "text": [
      "Similarity matrix ready\n"
     ]
    }
   ],
   "source": [
    "smiles_df = pd.read_csv('data/smiles_df.csv')\n",
    "all_smiles = smiles_df['smiles'].unique()\n",
    "ms = MoleculeSimilarity(all_smiles)"
   ]
  },
  {
   "cell_type": "code",
   "execution_count": 30,
   "id": "4cb4fae7-d2c5-4cfb-abde-681bf665f0d6",
   "metadata": {},
   "outputs": [],
   "source": [
    "dm = 1 - ms.sim_matrix\n",
    "condensed_dm = squareform(dm)"
   ]
  },
  {
   "cell_type": "code",
   "execution_count": 31,
   "id": "751e27f6-50e0-4501-9199-f984984a8c65",
   "metadata": {},
   "outputs": [],
   "source": [
    "Z = linkage(condensed_dm)"
   ]
  },
  {
   "cell_type": "code",
   "execution_count": 32,
   "id": "3b70440c-aee7-48b6-9c59-436eeb5609bd",
   "metadata": {},
   "outputs": [
    {
     "name": "stdout",
     "output_type": "stream",
     "text": [
      "Found 7786 clusters with max 0.5 different.\n",
      "\n"
     ]
    }
   ],
   "source": [
    "max_value = 0.5\n",
    "T = fcluster(Z, t=max_value, criterion='distance')\n",
    "print(f\"Found {max(T)+1} clusters with max {max_value} different.\\n\")"
   ]
  },
  {
   "cell_type": "code",
   "execution_count": 33,
   "id": "389530e6-cf89-4978-a979-5e5a35cbcdba",
   "metadata": {},
   "outputs": [
    {
     "name": "stdout",
     "output_type": "stream",
     "text": [
      "Flat cluster result save at molecule_clusters.json\n",
      "\n",
      "Flat cluster result save at smiles_clusters.json\n",
      "\n"
     ]
    }
   ],
   "source": [
    "cluster_filename = 'molecule_clusters.json'\n",
    "with open(cluster_filename, 'w') as f:\n",
    "    json.dump(T.tolist(), f, indent=4)\n",
    "print('Flat cluster result save at {}\\n'.format(cluster_filename))\n",
    "\n",
    "smiles_to_cluster = {all_smiles[i] : int(cluster_id) for i, cluster_id in enumerate(T)}\n",
    "cluster_filename = 'smiles_clusters.json'\n",
    "with open(cluster_filename, 'w') as f:\n",
    "    json.dump(smiles_to_cluster, f, indent=4)\n",
    "print('Flat cluster result save at {}\\n'.format(cluster_filename))"
   ]
  },
  {
   "cell_type": "code",
   "execution_count": 34,
   "id": "27db00e7-9321-4cd8-b143-60d3258b6362",
   "metadata": {},
   "outputs": [],
   "source": [
    "from collections import Counter\n",
    "from pdbbind_metadata_processor import PDBBindMetadataProcessor"
   ]
  },
  {
   "cell_type": "code",
   "execution_count": 35,
   "id": "d72090f2-338d-4b3b-b104-a6710154ab09",
   "metadata": {},
   "outputs": [],
   "source": [
    "clusters = T\n",
    "counter = Counter(clusters)"
   ]
  },
  {
   "cell_type": "code",
   "execution_count": 36,
   "id": "5ff0937a-84d3-47ad-916e-33e87eef0f62",
   "metadata": {},
   "outputs": [],
   "source": [
    "top10clusters = counter.most_common()[:10]"
   ]
  },
  {
   "cell_type": "code",
   "execution_count": 37,
   "id": "c84b9856-cd63-4b92-b327-bb2ab182214b",
   "metadata": {},
   "outputs": [
    {
     "data": {
      "text/plain": [
       "[(5252, 1763),\n",
       " (5152, 148),\n",
       " (4875, 125),\n",
       " (4433, 84),\n",
       " (5187, 76),\n",
       " (4846, 48),\n",
       " (4258, 44),\n",
       " (5081, 40),\n",
       " (4344, 35),\n",
       " (4599, 33)]"
      ]
     },
     "execution_count": 37,
     "metadata": {},
     "output_type": "execute_result"
    }
   ],
   "source": [
    "top10clusters"
   ]
  },
  {
   "cell_type": "code",
   "execution_count": 41,
   "id": "8943c825-764b-4bcc-987b-aaebaee4983d",
   "metadata": {},
   "outputs": [],
   "source": [
    "pp = PDBBindMetadataProcessor()\n",
    "table = pp.get_master_dataframe()"
   ]
  },
  {
   "cell_type": "code",
   "execution_count": 43,
   "id": "1c5013ef-f3e8-4d7e-8b95-e980c5d9b87d",
   "metadata": {
    "scrolled": true,
    "tags": []
   },
   "outputs": [
    {
     "name": "stdout",
     "output_type": "stream",
     "text": [
      "THROMBIN LIGHT CHAIN                           17\n",
      "TRYPSIN                                        15\n",
      "THROMBIN                                       15\n",
      "GLUTAMATE CARBOXYPEPTIDASE 2                   14\n",
      "TRANSPORTER                                    11\n",
      "                                               ..\n",
      "AMINO ACID TRANSPORTER                          1\n",
      "GLUTAMATE [NMDA] RECEPTOR SUBUNIT 3A            1\n",
      "BETAINE--HOMOCYSTEINE S-METHYLTRANSFERASE 1     1\n",
      "GAG-PRO-POL POLYPROTEIN                         1\n",
      "BOTULINUM NEUROTOXIN A LIGHT CHAIN              1\n",
      "Name: protein name, Length: 204, dtype: int64\n",
      "GLYCOGEN PHOSPHORYLASE                           16\n",
      "BIFUNCTIONAL LIGASE/REPRESSOR BIRA               10\n",
      "SERINE/THREONINE-PROTEIN KINASE HASPIN            9\n",
      "ADENOSINE KINASE                                  9\n",
      "PANTOTHENATE SYNTHETASE                           7\n",
      "                                                 ..\n",
      "3-PHOSPHOINOSITIDE-DEPENDENT PROTEIN KINASE 1     1\n",
      "MRNA CAPPING ENZYME                               1\n",
      "RIO-TYPE SERINE/THREONINE-PROTEIN KINASE RIO1     1\n",
      "ERMC' RRNA METHYLTRANSFERASE                      1\n",
      "MITOGEN-ACTIVATED PROTEIN KINASE 3                1\n",
      "Name: protein name, Length: 138, dtype: int64\n",
      "FIBER PROTEIN                                             9\n",
      "LECTIN                                                    7\n",
      "ABC TRANSPORTER, PERIPLASMIC SUBSTRATE-BINDING PROTEIN    6\n",
      "CELLULASE                                                 5\n",
      "HYPOTHETICAL PROTEIN SLR0953                              3\n",
      "                                                         ..\n",
      "CHIMERA OF MALTOSE-BINDING PERIPLASMIC PROTEIN            1\n",
      "CELLULOSE 1,4-BETA-CELLOBIOSIDASE                         1\n",
      "ALPHA-GLUCOSIDASE                                         1\n",
      "HEMOLYTIC LECTIN LSLA                                     1\n",
      "N-ACETYLLACTOSAMINIDE ALPHA-1,3-GALACTOSYLTRANSFERASE     1\n",
      "Name: protein name, Length: 89, dtype: int64\n",
      "HIV-1 PROTEASE             137\n",
      "PROTEASE NL4-3              14\n",
      "PROTEASE RETROPEPSIN         5\n",
      "PROTEASE                     4\n",
      "NL4-3 PROTEASE               3\n",
      "GAG-POL POLYPROTEIN          2\n",
      "PLASMEPSIN-2                 2\n",
      "FIV PROTEASE                 2\n",
      "POL POLYPROTEIN              2\n",
      "HIV-1 PROTEASE E35D-APV      1\n",
      "HIV-2 PROTEASE               1\n",
      "MDR 769 HIV-1 PROTEASE       1\n",
      "HIV-1 PROTEASE E35D-DRV      1\n",
      "PROTEASE PR5-DRV             1\n",
      "GAG-PRO-POL POLYPROTEIN      1\n",
      "Name: protein name, dtype: int64\n",
      "Series([], Name: protein name, dtype: int64)\n",
      "FATTY ACID-BINDING PROTEIN                                   14\n",
      "BETA-LACTOGLOBULIN                                           11\n",
      "PEPTIDOGLYCAN RECOGNITION PROTEIN 1                           4\n",
      "CARTILAGE OLIGOMERIZATION MATRIX PROTEIN                      3\n",
      "PEROXISOME PROLIFERATOR-ACTIVATED RECEPTOR GAMMA              3\n",
      "PORPHOBILINOGEN SYNTHASE                                      3\n",
      "SERUM ALBUMIN                                                 2\n",
      "FUMARATE REDUCTASE FLAVOPROTEIN                               2\n",
      "ASPARTATE AMINOTRANSFERASE                                    2\n",
      "RNA DEMETHYLASE ALKBH5                                        2\n",
      "ABC TRANSPORTER, SUBSTRATE BINDING PROTEIN                    2\n",
      "3-OXOACYL-[ACYL-CARRIER-PROTEIN] SYNTHASE 3                   2\n",
      "ADIPOCYTE LIPID-BINDING PROTEIN                               2\n",
      "UNCHARACTERIZED PROTEIN FAMILY UPF0065:TAT PATHWAY SIGNAL     2\n",
      "ENVELOPE GLYCOPROTEIN                                         2\n",
      "D7 PROTEIN                                                    2\n",
      "FATTY ACID BINDING PROTEIN                                    2\n",
      "PROLYL 4-HYDROXYLASE                                          2\n",
      "PHOSPHOLIPASE A2                                              2\n",
      "DELTA-1-PYRROLINE-5-CARBOXYLATE DEHYDROGENASE                 2\n",
      "LONG-CHAIN FATTY ACID TRANSPORT PROTEIN                       1\n",
      "COBALT-CONTAINING NITRILE HYDRATASE SUBUNIT ALPHA             1\n",
      "TYROSINE-PROTEIN KINASE SRC                                   1\n",
      "JMJC DOMAIN-CONTAINING PROTEIN 5                              1\n",
      "DELTA-AMINOLEVULINIC ACID DEHYDRATASE                         1\n",
      "PHEROMONE-BINDING PROTEIN ASP1                                1\n",
      "FATTY ACID-BINDING PROTEIN, LIVER                             1\n",
      "FK506-BINDING PROTEIN (FKBP)                                  1\n",
      "ENDOTHIAPEPSIN                                                1\n",
      "ALDEHYDE DEHYDROGENASE 21                                     1\n",
      "CITRATE SYNTHASE                                              1\n",
      "LIVER FATTY ACID BINDING PROTEIN                              1\n",
      "5-AMINOLAEVULINIC ACID DEHYDRATASE                            1\n",
      "NITROGEN REGULATORY PROTEIN PII                               1\n",
      "ACETOACETATE DECARBOXYLASE                                    1\n",
      "ALANINE RACEMASE                                              1\n",
      "4-HYDROXY-2-OXO-HEPTANE-1,7-DIOATE ALDOLASE                   1\n",
      "CELL WALL ANTIGEN                                             1\n",
      "PUTATIVE ENOYL COA HYDRATASE                                  1\n",
      "FATTY ACID BINDING PROTEIN, ADIPOCYTE                         1\n",
      "RV3249C TRANSCRIPTIONAL REGULATOR                             1\n",
      "VERRUCULOGEN SYNTHASE                                         1\n",
      "PEROXISOME PROLIFERATOR-ACTIVATED RECEPTOR DELTA              1\n",
      "EGL NINE HOMOLOG 1                                            1\n",
      "BIFUNCTIONAL ARGININE DEMETHYLASE AND LYSYL-HYDROXYLASE       1\n",
      "PROTEIN TDCF                                                  1\n",
      "ALPHA-KETOGLUTARATE-DEPENDENT DIOXYGENASE ALKB HOMO           1\n",
      "EXTRACELLULAR FATTY ACID-BINDING PROTEIN                      1\n",
      "PHOSPHOENOLPYRUVATE CARBOXYKINASE                             1\n",
      "THYMINE DIOXYGENASE                                           1\n",
      "2-SUCCINYL-5-ENOLPYRUVYL-6-HYDROXY-3-CYCLOHEXENE              1\n",
      "NITROGEN REGULATORY PROTEIN P-II                              1\n",
      "2-HYDROXYMUCONATE TAUTOMERASE                                 1\n",
      "APOLIPOPROTEIN                                                1\n",
      "DIAMINOPIMELATE DECARBOXYLASE                                 1\n",
      "4-HYDROXY-TETRAHYDRODIPICOLINATE SYNTHASE                     1\n",
      "PLASMINOGEN                                                   1\n",
      "Name: protein name, dtype: int64\n",
      "TANKYRASE-2                                                  28\n",
      "TRANSTHYRETIN                                                 6\n",
      "DEATH-ASSOCIATED PROTEIN KINASE 1                             5\n",
      "INOSITOL POLYPHOSPHATE MULTIKINASE,INOSITOL POLYPHOSPHATE     4\n",
      "PTERIDINE REDUCTASE                                           2\n",
      "(3R)-HYDROXYMYRISTOYL-ACYL CARRIER PROTEIN                    2\n",
      "GLYCOGEN PHOSPHORYLASE                                        2\n",
      "SERINE/THREONINE-PROTEIN KINASE                               2\n",
      "SERINE/THREONINE-PROTEIN KINASE PIM-1                         2\n",
      "CASEIN KINASE II, ALPHA SUBUNIT                               2\n",
      "APH(2\")-ID                                                    1\n",
      "ALPHA-AMYLASE                                                 1\n",
      "PEROXISOME PROLIFERATOR-ACTIVATED RECEPTOR GAMMA              1\n",
      "PROTEIN POLYBROMO-1                                           1\n",
      "MITOGEN-ACTIVATED PROTEIN KINASE 8                            1\n",
      "CELL DIVISION PROTEIN KINASE 6                                1\n",
      "SINGLE-STRANDED DNA-BINDING PROTEIN                           1\n",
      "Name: protein name, dtype: int64\n",
      "BETA-LACTAMASE                                32\n",
      "HYPOXIA-INDUCIBLE FACTOR 1-ALPHA INHIBITOR     2\n",
      "DNA POLYMERASE III SUBUNIT BETA                1\n",
      "MACROPHAGE MIGRATION INHIBITORY FACTOR         1\n",
      "APOPTOSIS REGULATOR BCL-X                      1\n",
      "PROTOCATECHUATE 3,4-DIOXYGENASE                1\n",
      "TANKYRASE-2                                    1\n",
      "TRANSTHYRETIN                                  1\n",
      "POLY [ADP-RIBOSE] POLYMERASE 3                 1\n",
      "GLUTAMATE-1-SEMIALDEHYDE 2,1-AMINOMUTASE       1\n",
      "Name: protein name, dtype: int64\n",
      "BETA-SECRETASE 1    38\n",
      "Name: protein name, dtype: int64\n",
      "TRYPSIN BETA                            41\n",
      "UROKINASE-TYPE PLASMINOGEN ACTIVATOR    10\n",
      "THROMBIN                                 6\n",
      "SERINE PROTEASE HEPSIN                   3\n",
      "COAGULATION FACTOR VII                   1\n",
      "PROTHROMBIN                              1\n",
      "Name: protein name, dtype: int64\n"
     ]
    }
   ],
   "source": [
    "for big_cluster_id, count in top10clusters :\n",
    "    most_common_smiles = [smiles for smiles, cluster_id in smiles_to_cluster.items() if cluster_id == big_cluster_id]\n",
    "    most_common_pdbs = smiles_df[smiles_df['smiles'].isin(most_common_smiles)]['id'].unique()\n",
    "    filtered_table = table[table['PDB code'].isin(most_common_pdbs)]\n",
    "    print(filtered_table['protein name'].value_counts())"
   ]
  },
  {
   "cell_type": "code",
   "execution_count": 45,
   "id": "81784d16-8328-4c28-803f-593e59c58e32",
   "metadata": {},
   "outputs": [],
   "source": [
    "frac_train = 0.8\n",
    "frac_val = 0.1\n",
    "\n",
    "train_cutoff = int(frac_train * len(all_smiles))\n",
    "val_cutoff = int((frac_train + frac_val) * len(all_smiles))\n",
    "train_inds = []\n",
    "val_inds = []\n",
    "test_inds = []"
   ]
  },
  {
   "cell_type": "code",
   "execution_count": 46,
   "id": "59f95fa2-1839-42a7-a534-c6edc9de2da3",
   "metadata": {},
   "outputs": [],
   "source": [
    "unique_cluster_ids = list(counter.keys())"
   ]
  },
  {
   "cell_type": "code",
   "execution_count": 50,
   "id": "54fe1612-fd9c-4d12-85a7-8ad1a469074f",
   "metadata": {},
   "outputs": [],
   "source": [
    "import os\n",
    "import random\n",
    "data_dir_path = 'data/'\n",
    "ecfp_similarity_splits_dir_name = 'ecfp_similarity_splits'\n",
    "ecfp_similarity_splits_dir_path = os.path.join(data_dir_path, ecfp_similarity_splits_dir_name)\n",
    "if not os.path.exists(ecfp_similarity_splits_dir_path) :\n",
    "    os.mkdir(ecfp_similarity_splits_dir_path)"
   ]
  },
  {
   "cell_type": "code",
   "execution_count": 58,
   "id": "336d9702-7e9e-4df3-83ba-77a2dee95d09",
   "metadata": {},
   "outputs": [
    {
     "data": {
      "text/plain": [
       "['COC(=O)N1CC[NH+]([C@H]2CC[C@H](Nc3nc(Nc4cnn(C)c4)nc4ccc(CC#N)nc34)CC2)CC1']"
      ]
     },
     "execution_count": 58,
     "metadata": {},
     "output_type": "execute_result"
    }
   ],
   "source": [
    "cluster_smiles"
   ]
  },
  {
   "cell_type": "code",
   "execution_count": 62,
   "id": "9ab937d3-fd38-4f50-8f57-5004b42ae312",
   "metadata": {},
   "outputs": [],
   "source": [
    "from tqdm import tqdm"
   ]
  },
  {
   "cell_type": "code",
   "execution_count": 64,
   "id": "4320d15a-188f-4396-9793-d06e17752fd7",
   "metadata": {},
   "outputs": [
    {
     "name": "stderr",
     "output_type": "stream",
     "text": [
      "100%|███████████████████████████████████████| 7785/7785 [01:37<00:00, 79.58it/s]\n",
      "100%|███████████████████████████████████████| 7785/7785 [01:36<00:00, 80.47it/s]\n",
      "100%|███████████████████████████████████████| 7785/7785 [01:37<00:00, 79.62it/s]\n",
      "100%|███████████████████████████████████████| 7785/7785 [01:37<00:00, 79.79it/s]\n",
      "100%|███████████████████████████████████████| 7785/7785 [01:38<00:00, 79.41it/s]\n"
     ]
    }
   ],
   "source": [
    "for i in range(5) :\n",
    "    \n",
    "    random.shuffle(unique_cluster_ids)\n",
    "    \n",
    "    train_smiles = []\n",
    "    val_smiles = []\n",
    "    test_smiles = []\n",
    "    \n",
    "    for current_cluster_id in tqdm(unique_cluster_ids):\n",
    "        cluster_smiles = [smiles \n",
    "                          for smiles, cluster_id in smiles_to_cluster.items() \n",
    "                          if cluster_id == current_cluster_id]\n",
    "        if len(train_smiles) + len(cluster_smiles) > train_cutoff:\n",
    "            if len(train_smiles) + len(val_smiles) + len(cluster_smiles) > val_cutoff:\n",
    "                test_smiles.extend(cluster_smiles)\n",
    "            else:\n",
    "                val_smiles.extend(cluster_smiles)\n",
    "        else:\n",
    "            train_smiles.extend(cluster_smiles)\n",
    "    \n",
    "    with open(os.path.join(ecfp_similarity_splits_dir_path, f'train_smiles_ecfp_similarity_split_{i}.txt'), 'w') as f :\n",
    "        for pdb in train_smiles :\n",
    "            f.write(pdb)\n",
    "            f.write('\\n')\n",
    "        \n",
    "    with open(os.path.join(ecfp_similarity_splits_dir_path, f'val_smiles_ecfp_similarity_split_{i}.txt'), 'w') as f :\n",
    "        for pdb in val_smiles :\n",
    "            f.write(pdb)\n",
    "            f.write('\\n')\n",
    "        \n",
    "    with open(os.path.join(ecfp_similarity_splits_dir_path, f'test_smiles_ecfp_similarity_split_{i}.txt'), 'w') as f :\n",
    "        for pdb in test_smiles :\n",
    "            f.write(pdb)\n",
    "            f.write('\\n')"
   ]
  },
  {
   "cell_type": "code",
   "execution_count": 65,
   "id": "9552f547-9e6e-4981-b56b-63668ce6f35a",
   "metadata": {},
   "outputs": [
    {
     "data": {
      "text/plain": [
       "11508"
      ]
     },
     "execution_count": 65,
     "metadata": {},
     "output_type": "execute_result"
    }
   ],
   "source": [
    "len(train_smiles)"
   ]
  },
  {
   "cell_type": "code",
   "execution_count": 66,
   "id": "4fdc2ec8-71c4-4ef8-9a7b-a2a21526703c",
   "metadata": {},
   "outputs": [
    {
     "data": {
      "text/plain": [
       "1438"
      ]
     },
     "execution_count": 66,
     "metadata": {},
     "output_type": "execute_result"
    }
   ],
   "source": [
    "len(val_smiles)"
   ]
  },
  {
   "cell_type": "code",
   "execution_count": 67,
   "id": "30fc30b9-eadd-4b49-a92a-f86a2d02fd74",
   "metadata": {},
   "outputs": [
    {
     "data": {
      "text/plain": [
       "1439"
      ]
     },
     "execution_count": 67,
     "metadata": {},
     "output_type": "execute_result"
    }
   ],
   "source": [
    "len(test_smiles)"
   ]
  }
 ],
 "metadata": {
  "kernelspec": {
   "display_name": "Python 3 (ipykernel)",
   "language": "python",
   "name": "python3"
  },
  "language_info": {
   "codemirror_mode": {
    "name": "ipython",
    "version": 3
   },
   "file_extension": ".py",
   "mimetype": "text/x-python",
   "name": "python",
   "nbconvert_exporter": "python",
   "pygments_lexer": "ipython3",
   "version": "3.9.12"
  },
  "widgets": {
   "application/vnd.jupyter.widget-state+json": {
    "state": {},
    "version_major": 2,
    "version_minor": 0
   }
  }
 },
 "nbformat": 4,
 "nbformat_minor": 5
}
