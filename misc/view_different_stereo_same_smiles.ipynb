{
 "cells": [
  {
   "cell_type": "code",
   "execution_count": 1,
   "id": "f7562d56-e30e-4731-9254-2b4ae55260ec",
   "metadata": {},
   "outputs": [],
   "source": [
    "from rdkit.Chem.rdmolfiles import SDMolSupplier\n",
    "from rdkit import Chem"
   ]
  },
  {
   "cell_type": "code",
   "execution_count": 2,
   "id": "3761869b-7e76-4e06-8214-34be3d5c8558",
   "metadata": {},
   "outputs": [],
   "source": [
    "from conf_ensemble import ConfEnsembleLibrary"
   ]
  },
  {
   "cell_type": "code",
   "execution_count": 3,
   "id": "c978a05d-a30e-4b7c-a607-3231c732fa7e",
   "metadata": {},
   "outputs": [],
   "source": [
    "cel = ConfEnsembleLibrary()"
   ]
  },
  {
   "cell_type": "code",
   "execution_count": 4,
   "id": "9fec9322-6350-494b-bd03-3fed76ff0c15",
   "metadata": {},
   "outputs": [
    {
     "name": "stderr",
     "output_type": "stream",
     "text": [
      "  1%|▎                                     | 148/15928 [00:00<00:32, 483.44it/s]"
     ]
    },
    {
     "name": "stdout",
     "output_type": "stream",
     "text": [
      "Error with data/conf_ensembles/84.sdf\n",
      "All molecules in the input list should be the same\n"
     ]
    },
    {
     "name": "stderr",
     "output_type": "stream",
     "text": [
      " 20%|███████▌                             | 3258/15928 [00:05<00:19, 650.13it/s]"
     ]
    },
    {
     "name": "stdout",
     "output_type": "stream",
     "text": [
      "Error with data/conf_ensembles/3182.sdf\n",
      "All molecules in the input list should be the same\n"
     ]
    },
    {
     "name": "stderr",
     "output_type": "stream",
     "text": [
      "100%|████████████████████████████████████| 15928/15928 [00:18<00:00, 847.92it/s]\n"
     ]
    }
   ],
   "source": [
    "cel.load()"
   ]
  },
  {
   "cell_type": "code",
   "execution_count": 5,
   "id": "8e19096f-ef8f-4d08-b31b-438d5bfda8dd",
   "metadata": {},
   "outputs": [],
   "source": [
    "ce = cel.get_conf_ensemble('COc1ccc(-c2cn(C)c(=O)c3cc(C(=O)NC4CCS(=O)(=O)CC4)sc23)cc1OC')"
   ]
  },
  {
   "cell_type": "code",
   "execution_count": 6,
   "id": "d216c29a-97bb-4fba-85e4-6d4d75f0b7ff",
   "metadata": {},
   "outputs": [
    {
     "data": {
      "text/plain": [
       "{'PDB_ID': '4uiu', 'pdbbind_id': '4uiu'}"
      ]
     },
     "execution_count": 6,
     "metadata": {},
     "output_type": "execute_result"
    }
   ],
   "source": [
    "ce.mol.GetPropsAsDict()"
   ]
  },
  {
   "cell_type": "code",
   "execution_count": 7,
   "id": "971f2d7c-8b1d-4e56-ab9f-b8f33480519d",
   "metadata": {},
   "outputs": [],
   "source": [
    "conf = ce.mol.GetConformer()"
   ]
  },
  {
   "cell_type": "code",
   "execution_count": 8,
   "id": "cfba30c6-0ec2-498f-8e56-6925d78be1f8",
   "metadata": {},
   "outputs": [
    {
     "data": {
      "text/plain": [
       "{'PDB_ID': '4uiu', 'pdbbind_id': '4uiu'}"
      ]
     },
     "execution_count": 8,
     "metadata": {},
     "output_type": "execute_result"
    }
   ],
   "source": [
    "conf.GetPropsAsDict()"
   ]
  },
  {
   "cell_type": "code",
   "execution_count": 38,
   "id": "17dfa5da-22c3-465f-acb9-3209bab4019b",
   "metadata": {},
   "outputs": [
    {
     "name": "stdout",
     "output_type": "stream",
     "text": [
      "{'PDB_ID': '2zyn', 'pdbbind_id': '2zyn'}\n"
     ]
    },
    {
     "data": {
      "application/vnd.jupyter.widget-view+json": {
       "model_id": "57cd7da7c1fb4a81b02a167ef7a32459",
       "version_major": 2,
       "version_minor": 0
      },
      "text/plain": [
       "interactive(children=(IntSlider(value=0, description='conf_id', max=0), Output()), _dom_classes=('widget-inter…"
      ]
     },
     "metadata": {},
     "output_type": "display_data"
    },
    {
     "name": "stdout",
     "output_type": "stream",
     "text": [
      "{'PDB_ID': '5mk9', 'pdbbind_id': '5mk9'}\n"
     ]
    },
    {
     "data": {
      "application/vnd.jupyter.widget-view+json": {
       "model_id": "7f8f3ad57a2b403eb22dec34f891b119",
       "version_major": 2,
       "version_minor": 0
      },
      "text/plain": [
       "interactive(children=(IntSlider(value=0, description='conf_id', max=0), Output()), _dom_classes=('widget-inter…"
      ]
     },
     "metadata": {},
     "output_type": "display_data"
    },
    {
     "name": "stdout",
     "output_type": "stream",
     "text": [
      "{'PDB_ID': '4yef', 'pdbbind_id': '4yef'}\n"
     ]
    },
    {
     "data": {
      "application/vnd.jupyter.widget-view+json": {
       "model_id": "a0a8006d1dbf44c3913b1712b239bba9",
       "version_major": 2,
       "version_minor": 0
      },
      "text/plain": [
       "interactive(children=(IntSlider(value=0, description='conf_id', max=0), Output()), _dom_classes=('widget-inter…"
      ]
     },
     "metadata": {},
     "output_type": "display_data"
    },
    {
     "name": "stdout",
     "output_type": "stream",
     "text": [
      "{'PDB_ID': '2y4s', 'pdbbind_id': '2y4s'}\n"
     ]
    },
    {
     "data": {
      "application/vnd.jupyter.widget-view+json": {
       "model_id": "2fc093dd34ce421f8c76492f6b4e1487",
       "version_major": 2,
       "version_minor": 0
      },
      "text/plain": [
       "interactive(children=(IntSlider(value=0, description='conf_id', max=0), Output()), _dom_classes=('widget-inter…"
      ]
     },
     "metadata": {},
     "output_type": "display_data"
    },
    {
     "name": "stdout",
     "output_type": "stream",
     "text": [
      "{'PDB_ID': '3ck8', 'pdbbind_id': '3ck8'}\n"
     ]
    },
    {
     "data": {
      "application/vnd.jupyter.widget-view+json": {
       "model_id": "f44181af92644bbcb0087ad18cd2cd91",
       "version_major": 2,
       "version_minor": 0
      },
      "text/plain": [
       "interactive(children=(IntSlider(value=0, description='conf_id', max=0), Output()), _dom_classes=('widget-inter…"
      ]
     },
     "metadata": {},
     "output_type": "display_data"
    },
    {
     "name": "stdout",
     "output_type": "stream",
     "text": [
      "{'PDB_ID': '1dmb', 'pdbbind_id': '1dmb'}\n"
     ]
    },
    {
     "data": {
      "application/vnd.jupyter.widget-view+json": {
       "model_id": "b4efa90d60eb48a084f016f3a5c29f82",
       "version_major": 2,
       "version_minor": 0
      },
      "text/plain": [
       "interactive(children=(IntSlider(value=0, description='conf_id', max=0), Output()), _dom_classes=('widget-inter…"
      ]
     },
     "metadata": {},
     "output_type": "display_data"
    },
    {
     "name": "stdout",
     "output_type": "stream",
     "text": [
      "{'PDB_ID': '3m3r', 'pdbbind_id': '3m3r'}\n"
     ]
    },
    {
     "data": {
      "application/vnd.jupyter.widget-view+json": {
       "model_id": "89eabe3a6afe421f8bdbfc55b531a125",
       "version_major": 2,
       "version_minor": 0
      },
      "text/plain": [
       "interactive(children=(IntSlider(value=0, description='conf_id', max=0), Output()), _dom_classes=('widget-inter…"
      ]
     },
     "metadata": {},
     "output_type": "display_data"
    }
   ],
   "source": [
    "mols = SDMolSupplier('data/conf_ensembles/84.sdf')\n",
    "for mol in mols :\n",
    "    print(mol.GetPropsAsDict())\n",
    "    viewer.view(mol)"
   ]
  },
  {
   "cell_type": "code",
   "execution_count": 39,
   "id": "a2d55219-a97e-40ec-aaa9-7a9cf57504cb",
   "metadata": {},
   "outputs": [
    {
     "name": "stdout",
     "output_type": "stream",
     "text": [
      "{'PDB_ID': '4fem', 'pdbbind_id': '4fem'}\n"
     ]
    },
    {
     "data": {
      "application/vnd.jupyter.widget-view+json": {
       "model_id": "5b541756d47f49c2b4d54eed69ff44fb",
       "version_major": 2,
       "version_minor": 0
      },
      "text/plain": [
       "interactive(children=(IntSlider(value=0, description='conf_id', max=0), Output()), _dom_classes=('widget-inter…"
      ]
     },
     "metadata": {},
     "output_type": "display_data"
    },
    {
     "name": "stdout",
     "output_type": "stream",
     "text": [
      "{'PDB_ID': '3zst', 'pdbbind_id': '3zst'}\n"
     ]
    },
    {
     "data": {
      "application/vnd.jupyter.widget-view+json": {
       "model_id": "db51ef9c20f44ef7a962b27b7400d840",
       "version_major": 2,
       "version_minor": 0
      },
      "text/plain": [
       "interactive(children=(IntSlider(value=0, description='conf_id', max=0), Output()), _dom_classes=('widget-inter…"
      ]
     },
     "metadata": {},
     "output_type": "display_data"
    },
    {
     "name": "stdout",
     "output_type": "stream",
     "text": [
      "{'PDB_ID': '3ck7', 'pdbbind_id': '3ck7'}\n"
     ]
    },
    {
     "data": {
      "application/vnd.jupyter.widget-view+json": {
       "model_id": "33ea4adf0b544d8cacc7a82b37ba59a9",
       "version_major": 2,
       "version_minor": 0
      },
      "text/plain": [
       "interactive(children=(IntSlider(value=0, description='conf_id', max=0), Output()), _dom_classes=('widget-inter…"
      ]
     },
     "metadata": {},
     "output_type": "display_data"
    },
    {
     "name": "stdout",
     "output_type": "stream",
     "text": [
      "{'PDB_ID': '2zym', 'pdbbind_id': '2zym'}\n"
     ]
    },
    {
     "data": {
      "application/vnd.jupyter.widget-view+json": {
       "model_id": "f70ed6b1843a46d09f5e8eb057c313b1",
       "version_major": 2,
       "version_minor": 0
      },
      "text/plain": [
       "interactive(children=(IntSlider(value=0, description='conf_id', max=0), Output()), _dom_classes=('widget-inter…"
      ]
     },
     "metadata": {},
     "output_type": "display_data"
    }
   ],
   "source": [
    "mols = SDMolSupplier('data/conf_ensembles/3182.sdf')\n",
    "for mol in mols :\n",
    "    print(mol.GetPropsAsDict())\n",
    "    viewer.view(mol)"
   ]
  },
  {
   "cell_type": "code",
   "execution_count": 3,
   "id": "f57a9ba3-60f1-4561-ac06-246fdffe4dfb",
   "metadata": {},
   "outputs": [],
   "source": [
    "from molconfviewer import MolConfViewer"
   ]
  },
  {
   "cell_type": "code",
   "execution_count": 34,
   "id": "6dd05a88-25fd-456b-9171-861974c4c355",
   "metadata": {},
   "outputs": [],
   "source": [
    "viewer = MolConfViewer()"
   ]
  },
  {
   "cell_type": "code",
   "execution_count": 36,
   "id": "e7b54e61-913f-4d46-ba78-15719ceaef75",
   "metadata": {},
   "outputs": [
    {
     "data": {
      "text/plain": [
       "{'PDB_ID': '2zym', 'pdbbind_id': '2zym'}"
      ]
     },
     "execution_count": 36,
     "metadata": {},
     "output_type": "execute_result"
    }
   ],
   "source": [
    "mol.GetPropsAsDict()"
   ]
  },
  {
   "cell_type": "code",
   "execution_count": 35,
   "id": "b9ce63d1-f779-4555-b912-a00796d0351f",
   "metadata": {},
   "outputs": [
    {
     "data": {
      "application/vnd.jupyter.widget-view+json": {
       "model_id": "94468f253d904dbaa784de948645d7ba",
       "version_major": 2,
       "version_minor": 0
      },
      "text/plain": [
       "interactive(children=(IntSlider(value=0, description='conf_id', max=0), Output()), _dom_classes=('widget-inter…"
      ]
     },
     "metadata": {},
     "output_type": "display_data"
    }
   ],
   "source": [
    "viewer.view(mol)"
   ]
  }
 ],
 "metadata": {
  "kernelspec": {
   "display_name": "Python 3 (ipykernel)",
   "language": "python",
   "name": "python3"
  },
  "language_info": {
   "codemirror_mode": {
    "name": "ipython",
    "version": 3
   },
   "file_extension": ".py",
   "mimetype": "text/x-python",
   "name": "python",
   "nbconvert_exporter": "python",
   "pygments_lexer": "ipython3",
   "version": "3.7.10"
  },
  "widgets": {
   "application/vnd.jupyter.widget-state+json": {
    "state": {},
    "version_major": 2,
    "version_minor": 0
   }
  }
 },
 "nbformat": 4,
 "nbformat_minor": 5
}
